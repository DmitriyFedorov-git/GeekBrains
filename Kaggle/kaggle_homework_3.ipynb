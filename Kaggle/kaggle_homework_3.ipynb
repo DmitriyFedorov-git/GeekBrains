{
  "nbformat": 4,
  "nbformat_minor": 0,
  "metadata": {
    "colab": {
      "name": "kaggle_homework_3.ipynb",
      "provenance": [],
      "collapsed_sections": [],
      "toc_visible": true
    },
    "kernelspec": {
      "name": "python3",
      "display_name": "Python 3"
    },
    "accelerator": "GPU"
  },
  "cells": [
    {
      "cell_type": "markdown",
      "metadata": {
        "id": "y8TFPT9sw7sp"
      },
      "source": [
        "# Спортивный анализ данных. Платформа Kaggle. Домашнее задание №3"
      ]
    },
    {
      "cell_type": "markdown",
      "metadata": {
        "id": "j9yLn2j9Y-DH"
      },
      "source": [
        "Даны выборки для обучения и для тестирования. Задание заключается в том, чтобы попробовать разные способы валидации, проанализировать плюсы / минусы каждой и сделать выводы о том, какой способ валидации наиболее устойчивый в данной задаче. Метрика качества для оценки прогнозов - ROC-AUC, название целевой переменной - IsFraud. Рекомендуется использовать модели градиетного бустинга, реализация любая / гипепараметры любые. Внимание! выборка assignment_2_test.csv - наш аналог лидерборда. Будем моделировать ситуацию отправки решения на лидерборд и сравнить значение метрики на лидерборде и на локальной валидации. Для других целей использовать выборку запрещено!.\r\n",
        "\r\n",
        "Терминалогия, используемая в задании:\r\n",
        "* обучающая выборка - выборка, которая передается в метод\r\n",
        "fit\r\n",
        "/\r\n",
        "train\r\n",
        ";\r\n",
        "* валидационная выборка - выборка, которая получается при Hold-Out на 2 выборки (\r\n",
        "train\r\n",
        ",\r\n",
        "valid\r\n",
        ");\r\n",
        "* тестовая выборка - выборка, которая получается при Hold-Out на 3 выборки (\r\n",
        "train\r\n",
        ",\r\n",
        "valid\r\n",
        ",\r\n",
        "test\r\n",
        ");\r\n",
        "* ЛБ - лидерборд, выборка\r\n",
        "assignment_2_test.csv"
      ]
    },
    {
      "cell_type": "markdown",
      "metadata": {
        "id": "SzbpKIUUxHPt"
      },
      "source": [
        "## Загрузим датасет"
      ]
    },
    {
      "cell_type": "code",
      "metadata": {
        "id": "mo3gyevfxfnR",
        "colab": {
          "base_uri": "https://localhost:8080/"
        },
        "outputId": "2fdacf8a-c0a4-4462-cad1-e4e3be56fcc6"
      },
      "source": [
        "from typing import List, Optional\r\n",
        "from tqdm import tqdm\r\n",
        "from typing import List, Tuple\r\n",
        "\r\n",
        "import numpy as np\r\n",
        "import pandas as pd\r\n",
        "import matplotlib as mpl\r\n",
        "import matplotlib.pyplot as plt\r\n",
        "\r\n",
        "import seaborn as sns\r\n",
        "import scipy.stats as st\r\n",
        "from scipy.stats import probplot, ks_2samp\r\n",
        "\r\n",
        "from sklearn import metrics\r\n",
        "from sklearn.ensemble import RandomForestRegressor\r\n",
        "from sklearn.model_selection import KFold, cross_val_score\r\n",
        "from sklearn.base import BaseEstimator, TransformerMixin\r\n",
        "from sklearn.utils.validation import check_is_fitted\r\n",
        "import missingno as msno\r\n",
        "import xgboost as xgb\r\n",
        "%matplotlib inline\r\n",
        "\r\n",
        "from sklearn.model_selection import train_test_split\r\n",
        "from sklearn.metrics import roc_auc_score\r\n",
        "from sklearn.preprocessing import OneHotEncoder\r\n",
        "import lightgbm as lgb\r\n",
        "!pip install catboost\r\n",
        "import catboost as cb"
      ],
      "execution_count": 1,
      "outputs": [
        {
          "output_type": "stream",
          "text": [
            "Collecting catboost\n",
            "\u001b[?25l  Downloading https://files.pythonhosted.org/packages/96/3b/bb419654adcf7efff42ed8a3f84e50c8f236424b7ed1cc8ccd290852e003/catboost-0.24.4-cp37-none-manylinux1_x86_64.whl (65.7MB)\n",
            "\u001b[K     |████████████████████████████████| 65.7MB 44kB/s \n",
            "\u001b[?25hRequirement already satisfied: pandas>=0.24.0 in /usr/local/lib/python3.7/dist-packages (from catboost) (1.1.5)\n",
            "Requirement already satisfied: numpy>=1.16.0 in /usr/local/lib/python3.7/dist-packages (from catboost) (1.19.5)\n",
            "Requirement already satisfied: plotly in /usr/local/lib/python3.7/dist-packages (from catboost) (4.4.1)\n",
            "Requirement already satisfied: scipy in /usr/local/lib/python3.7/dist-packages (from catboost) (1.4.1)\n",
            "Requirement already satisfied: six in /usr/local/lib/python3.7/dist-packages (from catboost) (1.15.0)\n",
            "Requirement already satisfied: graphviz in /usr/local/lib/python3.7/dist-packages (from catboost) (0.10.1)\n",
            "Requirement already satisfied: matplotlib in /usr/local/lib/python3.7/dist-packages (from catboost) (3.2.2)\n",
            "Requirement already satisfied: pytz>=2017.2 in /usr/local/lib/python3.7/dist-packages (from pandas>=0.24.0->catboost) (2018.9)\n",
            "Requirement already satisfied: python-dateutil>=2.7.3 in /usr/local/lib/python3.7/dist-packages (from pandas>=0.24.0->catboost) (2.8.1)\n",
            "Requirement already satisfied: retrying>=1.3.3 in /usr/local/lib/python3.7/dist-packages (from plotly->catboost) (1.3.3)\n",
            "Requirement already satisfied: cycler>=0.10 in /usr/local/lib/python3.7/dist-packages (from matplotlib->catboost) (0.10.0)\n",
            "Requirement already satisfied: pyparsing!=2.0.4,!=2.1.2,!=2.1.6,>=2.0.1 in /usr/local/lib/python3.7/dist-packages (from matplotlib->catboost) (2.4.7)\n",
            "Requirement already satisfied: kiwisolver>=1.0.1 in /usr/local/lib/python3.7/dist-packages (from matplotlib->catboost) (1.3.1)\n",
            "Installing collected packages: catboost\n",
            "Successfully installed catboost-0.24.4\n"
          ],
          "name": "stdout"
        }
      ]
    },
    {
      "cell_type": "code",
      "metadata": {
        "colab": {
          "base_uri": "https://localhost:8080/"
        },
        "id": "edA7sgGNbdgA",
        "outputId": "a3bb18bb-fcd3-4c70-e113-3bacdea17a86"
      },
      "source": [
        "from google.colab import drive\n",
        "drive.mount('/content/drive')"
      ],
      "execution_count": 2,
      "outputs": [
        {
          "output_type": "stream",
          "text": [
            "Mounted at /content/drive\n"
          ],
          "name": "stdout"
        }
      ]
    },
    {
      "cell_type": "markdown",
      "metadata": {
        "id": "Vlc7DXHv-SWx"
      },
      "source": [
        "Загрузка датасета и вывод размерностей"
      ]
    },
    {
      "cell_type": "code",
      "metadata": {
        "colab": {
          "base_uri": "https://localhost:8080/"
        },
        "id": "bKa-pGe_xipP",
        "outputId": "f757ffaf-cae0-449d-a23c-5d124dbdde31"
      },
      "source": [
        "data = pd.read_csv(\"/content/drive/MyDrive/assignment_2_train.csv\")\r\n",
        "lb = pd.read_csv(\"/content/drive/MyDrive/assignment_2_test.csv\")\r\n",
        "\r\n",
        "print(\"data.shape = {} rows, {} cols\".format(*data.shape))\r\n",
        "print(\"lb.shape = {} rows, {} cols\".format(*lb.shape))"
      ],
      "execution_count": 3,
      "outputs": [
        {
          "output_type": "stream",
          "text": [
            "data.shape = 180000 rows, 394 cols\n",
            "lb.shape = 100001 rows, 394 cols\n"
          ],
          "name": "stdout"
        }
      ]
    },
    {
      "cell_type": "markdown",
      "metadata": {
        "id": "U3W-Fos_Y0Cl"
      },
      "source": [
        "## Задание 1: сделать Hold-Out валидацию с разбиением, размер которого будет адекватаным, по вашему мнению; разбиение проводить по id-транзакции (TransactionID), обучать модель градиетного бустинга любой реализации с подбором числа деревьев по early_stopping критерию до достижения сходимости. Оценить качество модели на валидационной выборке, оценить расхождение по сравнению с качеством на обучающей выборке и валидационной выборке. Оценить качество на ЛБ, сравнить с качеством на обучении и валидации. Сделать выводы."
      ]
    },
    {
      "cell_type": "code",
      "metadata": {
        "id": "XYQt4icZ8umZ"
      },
      "source": [
        "data.sort_values(by='TransactionID', inplace=True, ascending=True)"
      ],
      "execution_count": 4,
      "outputs": []
    },
    {
      "cell_type": "code",
      "metadata": {
        "id": "BOO8xgSz9LYw"
      },
      "source": [
        "categorical = data.select_dtypes(include='object')\r\n",
        "categorical_feature_names = categorical.columns.to_list()"
      ],
      "execution_count": 5,
      "outputs": []
    },
    {
      "cell_type": "code",
      "metadata": {
        "id": "n5GIF90l9V0X"
      },
      "source": [
        "for feature in categorical_feature_names:\r\n",
        "    data[feature] = data[feature].astype(str)\r\n",
        "    lb[feature] = lb[feature].astype(str)"
      ],
      "execution_count": 6,
      "outputs": []
    },
    {
      "cell_type": "code",
      "metadata": {
        "id": "GstYNWitgvh7"
      },
      "source": [
        "y_lb = lb['isFraud']\r\n",
        "x_lb = lb.drop(columns=['isFraud'])\r\n",
        "\r\n",
        "y = data['isFraud']\r\n",
        "X = data.drop(columns=['isFraud'])"
      ],
      "execution_count": 7,
      "outputs": []
    },
    {
      "cell_type": "code",
      "metadata": {
        "id": "983csmLchPKW"
      },
      "source": [
        "x_train, x_valid, y_train, y_valid = train_test_split(\r\n",
        "    X, y, train_size=0.7, shuffle=False, random_state=1,\r\n",
        ")"
      ],
      "execution_count": 8,
      "outputs": []
    },
    {
      "cell_type": "code",
      "metadata": {
        "id": "JVB9JXGNgVcJ"
      },
      "source": [
        "cb_params = {\r\n",
        "    \"n_estimators\": 5000,\r\n",
        "    \"loss_function\": \"Logloss\",\r\n",
        "    \"eval_metric\": \"AUC\",\r\n",
        "    \"max_bin\": 20,\r\n",
        "    \"verbose\": 50,\r\n",
        "    \"max_depth\": 4,\r\n",
        "    \"l2_leaf_reg\": 100,\r\n",
        "    \"early_stopping_rounds\": 50,\r\n",
        "    \"thread_count\": 6,\r\n",
        "    \"random_seed\": 27,\r\n",
        "    'learning_rate': 0.1,\r\n",
        "    'task_type': 'GPU',\r\n",
        "    'one_hot_max_size': 100\r\n",
        "}"
      ],
      "execution_count": 9,
      "outputs": []
    },
    {
      "cell_type": "code",
      "metadata": {
        "colab": {
          "base_uri": "https://localhost:8080/"
        },
        "id": "HITOXTTTgeAd",
        "outputId": "38865430-a2f6-4ffd-eba2-368e96c08ff0"
      },
      "source": [
        "model_catb = cb.CatBoostClassifier(**cb_params)\r\n",
        "model_catb.fit(x_train, y_train, eval_set=[(x_valid, y_valid)], cat_features=categorical_feature_names)"
      ],
      "execution_count": 10,
      "outputs": [
        {
          "output_type": "stream",
          "text": [
            "0:\tlearn: 0.6569442\ttest: 0.6862510\tbest: 0.6862510 (0)\ttotal: 15.4ms\tremaining: 1m 17s\n",
            "50:\tlearn: 0.8699310\ttest: 0.8496917\tbest: 0.8501460 (49)\ttotal: 633ms\tremaining: 1m 1s\n",
            "100:\tlearn: 0.8804725\ttest: 0.8568657\tbest: 0.8568658 (98)\ttotal: 1.09s\tremaining: 53.1s\n",
            "150:\tlearn: 0.8852229\ttest: 0.8594905\tbest: 0.8600274 (146)\ttotal: 1.58s\tremaining: 50.8s\n",
            "200:\tlearn: 0.8883339\ttest: 0.8621852\tbest: 0.8625875 (199)\ttotal: 2.05s\tremaining: 48.9s\n",
            "250:\tlearn: 0.8915187\ttest: 0.8648941\tbest: 0.8649721 (241)\ttotal: 2.51s\tremaining: 47.6s\n",
            "300:\tlearn: 0.8947853\ttest: 0.8668418\tbest: 0.8670131 (287)\ttotal: 2.98s\tremaining: 46.6s\n",
            "350:\tlearn: 0.8977611\ttest: 0.8682740\tbest: 0.8682740 (350)\ttotal: 3.44s\tremaining: 45.6s\n",
            "400:\tlearn: 0.8994993\ttest: 0.8693831\tbest: 0.8693831 (400)\ttotal: 3.92s\tremaining: 45s\n",
            "450:\tlearn: 0.9018482\ttest: 0.8705381\tbest: 0.8706097 (447)\ttotal: 4.38s\tremaining: 44.2s\n",
            "500:\tlearn: 0.9038059\ttest: 0.8713748\tbest: 0.8713748 (500)\ttotal: 4.85s\tremaining: 43.6s\n",
            "550:\tlearn: 0.9054472\ttest: 0.8720168\tbest: 0.8720436 (540)\ttotal: 5.32s\tremaining: 42.9s\n",
            "600:\tlearn: 0.9070629\ttest: 0.8730857\tbest: 0.8730940 (599)\ttotal: 5.78s\tremaining: 42.3s\n",
            "650:\tlearn: 0.9080901\ttest: 0.8738660\tbest: 0.8739368 (645)\ttotal: 6.24s\tremaining: 41.7s\n",
            "700:\tlearn: 0.9094498\ttest: 0.8750713\tbest: 0.8750713 (700)\ttotal: 6.7s\tremaining: 41.1s\n",
            "750:\tlearn: 0.9106126\ttest: 0.8758521\tbest: 0.8759998 (730)\ttotal: 7.15s\tremaining: 40.5s\n",
            "800:\tlearn: 0.9121256\ttest: 0.8774047\tbest: 0.8774047 (800)\ttotal: 7.62s\tremaining: 39.9s\n",
            "850:\tlearn: 0.9130258\ttest: 0.8780247\tbest: 0.8781245 (846)\ttotal: 8.07s\tremaining: 39.3s\n",
            "bestTest = 0.8781244755\n",
            "bestIteration = 846\n",
            "Shrink model to first 847 iterations.\n"
          ],
          "name": "stdout"
        },
        {
          "output_type": "execute_result",
          "data": {
            "text/plain": [
              "<catboost.core.CatBoostClassifier at 0x7f46f96b4d50>"
            ]
          },
          "metadata": {
            "tags": []
          },
          "execution_count": 10
        }
      ]
    },
    {
      "cell_type": "code",
      "metadata": {
        "id": "n0qEuBfHj6Ts"
      },
      "source": [
        "train_pred = model_catb.predict_proba(x_train)\r\n",
        "valid_pred = model_catb.predict_proba(x_valid)\r\n",
        "lb_pred = model_catb.predict_proba(x_lb)"
      ],
      "execution_count": 11,
      "outputs": []
    },
    {
      "cell_type": "code",
      "metadata": {
        "colab": {
          "base_uri": "https://localhost:8080/",
          "height": 320
        },
        "id": "yS_1sRl0kwD-",
        "outputId": "ddc0f21c-6fae-4566-8abc-414eb1500d66"
      },
      "source": [
        "fig = plt.figure(figsize=(10, 5))\r\n",
        "train_fpr_catb, train_tpr_catb, _ = metrics.roc_curve(y_train,  train_pred[:, 1])\r\n",
        "train_auc_catb = metrics.roc_auc_score(y_train, train_pred[:, 1])\r\n",
        "valid_fpr_catb, valid_tpr_catb, _ = metrics.roc_curve(y_valid,  valid_pred[:, 1])\r\n",
        "valid_auc_catb = metrics.roc_auc_score(y_valid, valid_pred[:, 1])\r\n",
        "lb_fpr_catb, lb_tpr_catb, _ = metrics.roc_curve(y_lb,  lb_pred[:, 1])\r\n",
        "lb_auc_catb = metrics.roc_auc_score(y_lb, lb_pred[:, 1])\r\n",
        "plt.plot(train_fpr_catb, train_tpr_catb, label=\"train, auc=\"+str(train_auc_catb))\r\n",
        "plt.plot(valid_fpr_catb, valid_tpr_catb, label=\"valid, auc=\"+str(valid_auc_catb))\r\n",
        "plt.plot(lb_fpr_catb, lb_tpr_catb, label=\"liderboard, auc=\"+str(lb_auc_catb))\r\n",
        "plt.legend(loc=4)\r\n",
        "plt.grid()\r\n",
        "plt.show()"
      ],
      "execution_count": 12,
      "outputs": [
        {
          "output_type": "display_data",
          "data": {
            "image/png": "[encoded data removed]",
            "text/plain": [
              "<Figure size 720x360 with 1 Axes>"
            ]
          },
          "metadata": {
            "tags": [],
            "needs_background": "light"
          }
        }
      ]
    },
    {
      "cell_type": "markdown",
      "metadata": {
        "id": "gt2GunJpoWPM"
      },
      "source": [
        "Вывод: по точечной оценке метрики сложно что-то сказать про переобучение (недообучение). Графики могут говорить как о переобучении, так и о различии в распределениях в разных выборках."
      ]
    },
    {
      "cell_type": "markdown",
      "metadata": {
        "id": "lqC8oihopRLw"
      },
      "source": [
        "## Задание 2: сделать Hold-Out валидацию с разбиением на 3 выборки, разбиение проводить по id-транзакции (TransactionID), размер каждой выборки подобрать самостоятельно. Повторить процедуру из п.1. для каждой выборки."
      ]
    },
    {
      "cell_type": "code",
      "metadata": {
        "id": "njiI8aXFphoJ"
      },
      "source": [
        "x_train, x_valid, y_train, y_valid = train_test_split(\r\n",
        "    X, y, train_size=0.6, shuffle=False, random_state=1,\r\n",
        ")\r\n",
        "\r\n",
        "x_valid, x_test, y_valid, y_test = train_test_split(\r\n",
        "    x_valid, y_valid, train_size=0.5, shuffle=False, random_state=1,\r\n",
        ")"
      ],
      "execution_count": 13,
      "outputs": []
    },
    {
      "cell_type": "code",
      "metadata": {
        "id": "0D94M5qsrXuE"
      },
      "source": [
        "cb_params = {\r\n",
        "    \"n_estimators\": 5000,\r\n",
        "    \"loss_function\": \"Logloss\",\r\n",
        "    \"eval_metric\": \"AUC\",\r\n",
        "    \"max_bin\": 20,\r\n",
        "    \"verbose\": 50,\r\n",
        "    \"max_depth\": 4,\r\n",
        "    \"l2_leaf_reg\": 100,\r\n",
        "    \"early_stopping_rounds\": 50,\r\n",
        "    \"thread_count\": 6,\r\n",
        "    \"random_seed\": 27,\r\n",
        "    'learning_rate': 0.1,\r\n",
        "    'task_type': 'GPU',\r\n",
        "    'one_hot_max_size': 100\r\n",
        "}"
      ],
      "execution_count": 14,
      "outputs": []
    },
    {
      "cell_type": "code",
      "metadata": {
        "colab": {
          "base_uri": "https://localhost:8080/"
        },
        "id": "MnRJ8d2eq_Ia",
        "outputId": "b3cae28a-7a64-40fa-f8cd-a4e565ace710"
      },
      "source": [
        "model_catb_2 = cb.CatBoostClassifier(**cb_params)\r\n",
        "model_catb_2.fit(x_train, y_train, eval_set=[(x_valid, y_valid)], cat_features=categorical_feature_names)"
      ],
      "execution_count": 15,
      "outputs": [
        {
          "output_type": "stream",
          "text": [
            "0:\tlearn: 0.6734405\ttest: 0.6516944\tbest: 0.6516944 (0)\ttotal: 14.7ms\tremaining: 1m 13s\n",
            "50:\tlearn: 0.8667440\ttest: 0.8543455\tbest: 0.8544124 (49)\ttotal: 607ms\tremaining: 58.9s\n",
            "100:\tlearn: 0.8786974\ttest: 0.8631964\tbest: 0.8631964 (100)\ttotal: 1.1s\tremaining: 53.2s\n",
            "150:\tlearn: 0.8830155\ttest: 0.8656262\tbest: 0.8656271 (149)\ttotal: 1.54s\tremaining: 49.4s\n",
            "200:\tlearn: 0.8872234\ttest: 0.8681548\tbest: 0.8684465 (193)\ttotal: 2s\tremaining: 47.7s\n",
            "250:\tlearn: 0.8911725\ttest: 0.8707543\tbest: 0.8707982 (245)\ttotal: 2.44s\tremaining: 46.2s\n",
            "300:\tlearn: 0.8940420\ttest: 0.8724230\tbest: 0.8724641 (293)\ttotal: 2.89s\tremaining: 45.1s\n",
            "350:\tlearn: 0.8975011\ttest: 0.8746814\tbest: 0.8746814 (350)\ttotal: 3.35s\tremaining: 44.4s\n",
            "400:\tlearn: 0.9003988\ttest: 0.8750458\tbest: 0.8752197 (359)\ttotal: 3.8s\tremaining: 43.6s\n",
            "bestTest = 0.8752196729\n",
            "bestIteration = 359\n",
            "Shrink model to first 360 iterations.\n"
          ],
          "name": "stdout"
        },
        {
          "output_type": "execute_result",
          "data": {
            "text/plain": [
              "<catboost.core.CatBoostClassifier at 0x7f46f9621950>"
            ]
          },
          "metadata": {
            "tags": []
          },
          "execution_count": 15
        }
      ]
    },
    {
      "cell_type": "code",
      "metadata": {
        "id": "MgbHHFYarfBu"
      },
      "source": [
        "train_pred = model_catb_2.predict_proba(x_train)\r\n",
        "valid_pred = model_catb_2.predict_proba(x_valid)\r\n",
        "test_pred = model_catb_2.predict_proba(x_test)\r\n",
        "lb_pred = model_catb_2.predict_proba(x_lb)"
      ],
      "execution_count": 16,
      "outputs": []
    },
    {
      "cell_type": "code",
      "metadata": {
        "colab": {
          "base_uri": "https://localhost:8080/",
          "height": 320
        },
        "id": "dHTDVe8suP13",
        "outputId": "d63eaf21-1c39-47b4-fdb0-435d173a43e7"
      },
      "source": [
        "fig = plt.figure(figsize=(10, 5))\r\n",
        "train_fpr_catb, train_tpr_catb, _ = metrics.roc_curve(y_train,  train_pred[:, 1])\r\n",
        "train_auc_catb = metrics.roc_auc_score(y_train, train_pred[:, 1])\r\n",
        "valid_fpr_catb, valid_tpr_catb, _ = metrics.roc_curve(y_valid,  valid_pred[:, 1])\r\n",
        "valid_auc_catb = metrics.roc_auc_score(y_valid, valid_pred[:, 1])\r\n",
        "test_fpr_catb, test_tpr_catb, _ = metrics.roc_curve(y_test,  test_pred[:, 1])\r\n",
        "test_auc_catb = metrics.roc_auc_score(y_test, test_pred[:, 1])\r\n",
        "lb_fpr_catb, lb_tpr_catb, _ = metrics.roc_curve(y_lb,  lb_pred[:, 1])\r\n",
        "lb_auc_catb = metrics.roc_auc_score(y_lb, lb_pred[:, 1])\r\n",
        "plt.plot(train_fpr_catb, train_tpr_catb, label=\"train, auc=\"+str(train_auc_catb))\r\n",
        "plt.plot(valid_fpr_catb, valid_tpr_catb, label=\"valid, auc=\"+str(valid_auc_catb))\r\n",
        "plt.plot(test_fpr_catb, test_tpr_catb, label=\"test, auc=\"+str(test_auc_catb))\r\n",
        "plt.plot(lb_fpr_catb, lb_tpr_catb, label=\"liderboard, auc=\"+str(lb_auc_catb))\r\n",
        "plt.legend(loc=4)\r\n",
        "plt.grid()\r\n",
        "plt.show()"
      ],
      "execution_count": 17,
      "outputs": [
        {
          "output_type": "display_data",
          "data": {
            "image/png": "[encoded data removed]",
            "text/plain": [
              "<Figure size 720x360 with 1 Axes>"
            ]
          },
          "metadata": {
            "tags": [],
            "needs_background": "light"
          }
        }
      ]
    },
    {
      "cell_type": "markdown",
      "metadata": {
        "id": "RBG08Oky0doP"
      },
      "source": [
        "Вывод: картина как и в предыдущем пункте - точечная оценка AUC: train AUC > valid AUC > test AUC > lb AUC. Нужно оценивать AUC интервально. "
      ]
    },
    {
      "cell_type": "markdown",
      "metadata": {
        "id": "j6xwz-NFvlMO"
      },
      "source": [
        "## Задание 3: построить доверительный интервал на данных из п.2 на основе бутстреп выборок, оценить качество модели на ЛБ относительно полученного доверительного интервала. Сделать выводы."
      ]
    },
    {
      "cell_type": "code",
      "metadata": {
        "id": "FSEg3BBsvgY4"
      },
      "source": [
        "def create_bootstrap_samples(data: np.array, n_samples: int = 1000) -> np.array:\r\n",
        "    \"\"\"\r\n",
        "    Создание бутстреп-выборок.\r\n",
        "\r\n",
        "    Parameters\r\n",
        "    ----------\r\n",
        "    data: np.array\r\n",
        "        Исходная выборка, которая будет использоваться для\r\n",
        "        создания бутстреп выборок.\r\n",
        "\r\n",
        "    n_samples: int, optional, default = 1000\r\n",
        "        Количество создаваемых бутстреп выборок.\r\n",
        "        Опциональный параметр, по умолчанию, равен 1000.\r\n",
        "\r\n",
        "    Returns\r\n",
        "    -------\r\n",
        "    bootstrap_idx: np.array\r\n",
        "        Матрица индексов, для создания бутстреп выборок.\r\n",
        "\r\n",
        "    \"\"\"\r\n",
        "    bootstrap_idx = np.random.randint(\r\n",
        "        low=0, high=len(data), size=(n_samples, len(data))\r\n",
        "    )\r\n",
        "    return bootstrap_idx\r\n",
        "\r\n",
        "\r\n",
        "def create_bootstrap_metrics(y_true: np.array,\r\n",
        "                             y_pred: np.array,\r\n",
        "                             metric: callable,\r\n",
        "                             n_samlpes: int = 1000) -> List[float]:\r\n",
        "    \"\"\"\r\n",
        "    Вычисление бутстреп оценок.\r\n",
        "\r\n",
        "    Parameters\r\n",
        "    ----------\r\n",
        "    y_true: np.array\r\n",
        "        Вектор целевой переменной.\r\n",
        "\r\n",
        "    y_pred: np.array\r\n",
        "        Вектор прогнозов.\r\n",
        "\r\n",
        "    metric: callable\r\n",
        "        Функция для вычисления метрики.\r\n",
        "        Функция должна принимать 2 аргумента: y_true, y_pred.\r\n",
        "\r\n",
        "    n_samples: int, optional, default = 1000\r\n",
        "        Количество создаваемых бутстреп выборок.\r\n",
        "        Опциональный параметр, по умолчанию, равен 1000.\r\n",
        "\r\n",
        "    Returns\r\n",
        "    -------\r\n",
        "    bootstrap_metrics: List[float]\r\n",
        "        Список со значениями метрики качества на каждой бустреп выборке.\r\n",
        "\r\n",
        "    \"\"\"\r\n",
        "    scores = []\r\n",
        "\r\n",
        "    if isinstance(y_true, pd.Series):\r\n",
        "        y_true = y_true.values\r\n",
        "\r\n",
        "    bootstrap_idx = create_bootstrap_samples(y_true)\r\n",
        "    for idx in bootstrap_idx:\r\n",
        "        y_true_bootstrap = y_true[idx]\r\n",
        "        y_pred_bootstrap = y_pred[idx]\r\n",
        "\r\n",
        "        score = metric(y_true_bootstrap, y_pred_bootstrap)\r\n",
        "        scores.append(score)\r\n",
        "\r\n",
        "    return scores\r\n",
        "\r\n",
        "\r\n",
        "def calculate_confidence_interval(scores: list, conf_interval: float = 0.95) -> Tuple[float]:\r\n",
        "    \"\"\"\r\n",
        "    Вычисление доверительного интервала.\r\n",
        "\r\n",
        "    Parameters\r\n",
        "    ----------\r\n",
        "    scores: List[float / int]\r\n",
        "        Список с оценками изучаемой величины.\r\n",
        "\r\n",
        "    conf_interval: float, optional, default = 0.95\r\n",
        "        Уровень доверия для построения интервала.\r\n",
        "        Опциональный параметр, по умолчанию, равен 0.95.\r\n",
        "\r\n",
        "    Returns\r\n",
        "    -------\r\n",
        "    conf_interval: Tuple[float]\r\n",
        "        Кортеж с границами доверительного интервала.\r\n",
        "\r\n",
        "    \"\"\"\r\n",
        "    left_bound = np.percentile(\r\n",
        "        scores, ((1 - conf_interval) / 2) * 100\r\n",
        "    )\r\n",
        "    right_bound = np.percentile(\r\n",
        "        scores, (conf_interval + ((1 - conf_interval) / 2)) * 100\r\n",
        "    )\r\n",
        "\r\n",
        "    return left_bound, right_bound"
      ],
      "execution_count": 19,
      "outputs": []
    },
    {
      "cell_type": "code",
      "metadata": {
        "colab": {
          "base_uri": "https://localhost:8080/"
        },
        "id": "1q9jMyuq3oyO",
        "outputId": "1de52a73-3816-4f83-cff1-f21584aead39"
      },
      "source": [
        "np.random.seed(27)\r\n",
        "train_scores = create_bootstrap_metrics(y_train, model_catb_2.predict_proba(x_train)[:, 1], roc_auc_score)\r\n",
        "valid_scores = create_bootstrap_metrics(y_valid, model_catb_2.predict_proba(x_valid)[:, 1], roc_auc_score)\r\n",
        "test_scores = create_bootstrap_metrics(y_test, model_catb_2.predict_proba(x_test)[:, 1], roc_auc_score)\r\n",
        "lb_scores = create_bootstrap_metrics(y_lb, model_catb_2.predict_proba(x_lb)[:, 1], roc_auc_score)\r\n",
        "print(f'Train confidence interval = {calculate_confidence_interval(train_scores)}')\r\n",
        "print(f'Valid confidence interval = {calculate_confidence_interval(valid_scores)}')\r\n",
        "print(f'Test confidence interval = {calculate_confidence_interval(test_scores)}')\r\n",
        "print(f'Lb confidence interval = {calculate_confidence_interval(lb_scores)}')\r\n",
        "print(f'Liderboard score = {lb_auc_catb}')"
      ],
      "execution_count": 20,
      "outputs": [
        {
          "output_type": "stream",
          "text": [
            "Train confidence interval = (0.8908878910975863, 0.904834133735017)\n",
            "Valid confidence interval = (0.8610552458226425, 0.8875907003412824)\n",
            "Test confidence interval = (0.8531889598983333, 0.8763783919462657)\n",
            "Lb confidence interval = (0.848809733256666, 0.8626295425337368)\n",
            "Liderboard score = 0.8556627497461369\n"
          ],
          "name": "stdout"
        }
      ]
    },
    {
      "cell_type": "code",
      "metadata": {
        "colab": {
          "base_uri": "https://localhost:8080/",
          "height": 548
        },
        "id": "Eo3BEbT07NCg",
        "outputId": "38d925fe-5b40-4530-874a-9671c268f44e"
      },
      "source": [
        "fig = plt.figure(figsize=(15, 5))\r\n",
        "plt.suptitle(\"Bootstrap for evaluating validation stability\", size=15)\r\n",
        "sns.distplot(train_scores,  color=\"green\", bins=20, label='train')\r\n",
        "sns.distplot(valid_scores,  color=\"red\", bins=20, label='valid')\r\n",
        "sns.distplot(test_scores,  color=\"blue\", bins=20, label='test')\r\n",
        "sns.distplot(lb_scores,  color=\"orange\", bins=20, label='lb')\r\n",
        "plt.xlabel(\"sampel number\", size=15)\r\n",
        "plt.legend()"
      ],
      "execution_count": 21,
      "outputs": [
        {
          "output_type": "stream",
          "text": [
            "/usr/local/lib/python3.7/dist-packages/seaborn/distributions.py:2557: FutureWarning: `distplot` is a deprecated function and will be removed in a future version. Please adapt your code to use either `displot` (a figure-level function with similar flexibility) or `histplot` (an axes-level function for histograms).\n",
            "  warnings.warn(msg, FutureWarning)\n",
            "/usr/local/lib/python3.7/dist-packages/seaborn/distributions.py:2557: FutureWarning: `distplot` is a deprecated function and will be removed in a future version. Please adapt your code to use either `displot` (a figure-level function with similar flexibility) or `histplot` (an axes-level function for histograms).\n",
            "  warnings.warn(msg, FutureWarning)\n",
            "/usr/local/lib/python3.7/dist-packages/seaborn/distributions.py:2557: FutureWarning: `distplot` is a deprecated function and will be removed in a future version. Please adapt your code to use either `displot` (a figure-level function with similar flexibility) or `histplot` (an axes-level function for histograms).\n",
            "  warnings.warn(msg, FutureWarning)\n",
            "/usr/local/lib/python3.7/dist-packages/seaborn/distributions.py:2557: FutureWarning: `distplot` is a deprecated function and will be removed in a future version. Please adapt your code to use either `displot` (a figure-level function with similar flexibility) or `histplot` (an axes-level function for histograms).\n",
            "  warnings.warn(msg, FutureWarning)\n"
          ],
          "name": "stderr"
        },
        {
          "output_type": "execute_result",
          "data": {
            "text/plain": [
              "<matplotlib.legend.Legend at 0x7f46f96a8d10>"
            ]
          },
          "metadata": {
            "tags": []
          },
          "execution_count": 21
        },
        {
          "output_type": "display_data",
          "data": {
            "image/png": "[encoded data removed]",
            "text/plain": [
              "<Figure size 1080x360 with 1 Axes>"
            ]
          },
          "metadata": {
            "tags": [],
            "needs_background": "light"
          }
        }
      ]
    },
    {
      "cell_type": "markdown",
      "metadata": {
        "id": "t13sZ4Sx2J-_"
      },
      "source": [
        "Вывод: результат на liderboard попал в доверительный интервал на тестовой выборке, но оказался близок к границе. Схема валидации по TransactionID скорее всего неправильная, так как доверительные интервалы смещены относительно друг друга на большую величину."
      ]
    },
    {
      "cell_type": "markdown",
      "metadata": {
        "id": "KQhtggEeAHmX"
      },
      "source": [
        "## Задание 4: выполнить Adversarial Validation, подобрать объекты из обучающей выборки, которые сильно похожи на объекты из assignment_2_test.csv, и использовать их в качестве валидационного набора. Оценить качество модели на ЛБ, сделать выводы о полученных результатах."
      ]
    },
    {
      "cell_type": "code",
      "metadata": {
        "id": "hQM7cXIpAODz"
      },
      "source": [
        "x_adv = pd.concat([\r\n",
        "    data, lb], axis=0\r\n",
        ")\r\n",
        "y_adv = np.hstack((np.zeros(data.shape[0]), np.ones(lb.shape[0])))\r\n",
        "assert x_adv.shape[0] == y_adv.shape[0]"
      ],
      "execution_count": 22,
      "outputs": []
    },
    {
      "cell_type": "code",
      "metadata": {
        "id": "fDTpo5DCDi9J"
      },
      "source": [
        "cb_params = {\r\n",
        "    \"n_estimators\": 50,\r\n",
        "    \"loss_function\": \"Logloss\",\r\n",
        "    \"eval_metric\": \"AUC\",\r\n",
        "    \"max_bin\": 20,\r\n",
        "    \"verbose\": 50,\r\n",
        "    \"max_depth\": 4,\r\n",
        "    \"l2_leaf_reg\": 100,\r\n",
        "    \"thread_count\": 6,\r\n",
        "    \"random_seed\": 27,\r\n",
        "    'learning_rate': 0.1,\r\n",
        "    'task_type': 'GPU',\r\n",
        "    'one_hot_max_size': 100\r\n",
        "}"
      ],
      "execution_count": 23,
      "outputs": []
    },
    {
      "cell_type": "code",
      "metadata": {
        "colab": {
          "base_uri": "https://localhost:8080/"
        },
        "id": "Tonlm4YzDxij",
        "outputId": "d35a2822-472d-4c7b-d992-426859fdab50"
      },
      "source": [
        "model_catb_3 = cb.CatBoostClassifier(**cb_params)\r\n",
        "model_catb_3.fit(x_adv, y_adv, cat_features=categorical_feature_names)"
      ],
      "execution_count": 24,
      "outputs": [
        {
          "output_type": "stream",
          "text": [
            "0:\tlearn: 0.9984656\ttotal: 16.7ms\tremaining: 818ms\n",
            "49:\tlearn: 0.9990675\ttotal: 599ms\tremaining: 0us\n"
          ],
          "name": "stdout"
        },
        {
          "output_type": "execute_result",
          "data": {
            "text/plain": [
              "<catboost.core.CatBoostClassifier at 0x7f46f89ab650>"
            ]
          },
          "metadata": {
            "tags": []
          },
          "execution_count": 24
        }
      ]
    },
    {
      "cell_type": "code",
      "metadata": {
        "colab": {
          "base_uri": "https://localhost:8080/"
        },
        "id": "DaoL-flaEPiT",
        "outputId": "86f7de47-c830-4ee3-abeb-654ad0cff437"
      },
      "source": [
        "y_pred_adv = model_catb_3.predict_proba(x_adv)\r\n",
        "score = roc_auc_score(y_adv, y_pred_adv[:, 1])\r\n",
        "print(round(score, 4))"
      ],
      "execution_count": 25,
      "outputs": [
        {
          "output_type": "stream",
          "text": [
            "0.9991\n"
          ],
          "name": "stdout"
        }
      ]
    },
    {
      "cell_type": "markdown",
      "metadata": {
        "id": "-ywnKsUdMEot"
      },
      "source": [
        "Алгоритм с легкостью отличил две выборки"
      ]
    },
    {
      "cell_type": "code",
      "metadata": {
        "colab": {
          "base_uri": "https://localhost:8080/"
        },
        "id": "WyqfvL5dEgKR",
        "outputId": "b32f0779-b2bf-4790-9885-feb269236297"
      },
      "source": [
        "y_pred = model_catb_3.predict_proba(data)\r\n",
        "y_pred"
      ],
      "execution_count": 26,
      "outputs": [
        {
          "output_type": "execute_result",
          "data": {
            "text/plain": [
              "array([[9.99906677e-01, 9.33234496e-05],\n",
              "       [9.99903858e-01, 9.61416569e-05],\n",
              "       [9.99793055e-01, 2.06945423e-04],\n",
              "       ...,\n",
              "       [3.66378246e-01, 6.33621754e-01],\n",
              "       [4.65828060e-01, 5.34171940e-01],\n",
              "       [3.63248523e-01, 6.36751477e-01]])"
            ]
          },
          "metadata": {
            "tags": []
          },
          "execution_count": 26
        }
      ]
    },
    {
      "cell_type": "code",
      "metadata": {
        "colab": {
          "base_uri": "https://localhost:8080/"
        },
        "id": "sMCvin9ZDHNm",
        "outputId": "41648c10-7e81-4af2-ad2d-90d268ec86d7"
      },
      "source": [
        "pd.cut(\r\n",
        "    y_pred[:, 1], bins=np.arange(0, 1.01, 0.1)\r\n",
        ").value_counts().sort_index()"
      ],
      "execution_count": 27,
      "outputs": [
        {
          "output_type": "execute_result",
          "data": {
            "text/plain": [
              "(0.0, 0.1]    175265\n",
              "(0.1, 0.2]         0\n",
              "(0.2, 0.3]         0\n",
              "(0.3, 0.4]         0\n",
              "(0.4, 0.5]         0\n",
              "(0.5, 0.6]       442\n",
              "(0.6, 0.7]      2412\n",
              "(0.7, 0.8]      1686\n",
              "(0.8, 0.9]       193\n",
              "(0.9, 1.0]         2\n",
              "dtype: int64"
            ]
          },
          "metadata": {
            "tags": []
          },
          "execution_count": 27
        }
      ]
    },
    {
      "cell_type": "code",
      "metadata": {
        "id": "vW6T6sKDFr3U"
      },
      "source": [
        "# Добавляем колонку со степенью похожести данных на данные из тестового набора\r\n",
        "data['to_valid'] = y_pred[:, 1]"
      ],
      "execution_count": 29,
      "outputs": []
    },
    {
      "cell_type": "code",
      "metadata": {
        "id": "JSCC841-IPvk"
      },
      "source": [
        "x_train = data.loc[data['to_valid'] < 0.4]\r\n",
        "# В валидационный датасет попадают данные, похожие на данные из тестового набора\r\n",
        "x_valid = data.loc[data['to_valid'] >= 0.4]"
      ],
      "execution_count": 30,
      "outputs": []
    },
    {
      "cell_type": "code",
      "metadata": {
        "colab": {
          "base_uri": "https://localhost:8080/",
          "height": 392
        },
        "id": "QoUAt2yDItX2",
        "outputId": "fa334678-0200-4d97-ff78-61d0346e1d87"
      },
      "source": [
        "fig, axes = plt.subplots(1, 2, figsize=(15, 5))\r\n",
        "plt.suptitle(\"Similarity to assignment_2_test\", size=15)\r\n",
        "axes[0].scatter(data['TransactionID'], data['to_valid'], alpha=0.25, color=\"blue\")\r\n",
        "axes[0].set_xlabel(\"TransactionID\", size=15)\r\n",
        "axes[0].set_ylabel(\"to_valid\", size=15)\r\n",
        "\r\n",
        "axes[1].scatter(data['TransactionDT'], data['to_valid'], alpha=0.25, color=\"blue\")\r\n",
        "axes[1].set_xlabel(\"TransactionDT\", size=15)\r\n",
        "axes[1].set_ylabel(\"to_valid\", size=15)"
      ],
      "execution_count": 32,
      "outputs": [
        {
          "output_type": "execute_result",
          "data": {
            "text/plain": [
              "Text(0, 0.5, 'to_valid')"
            ]
          },
          "metadata": {
            "tags": []
          },
          "execution_count": 32
        },
        {
          "output_type": "display_data",
          "data": {
            "image/png": "[encoded data removed]",
            "text/plain": [
              "<Figure size 1080x360 with 2 Axes>"
            ]
          },
          "metadata": {
            "tags": [],
            "needs_background": "light"
          }
        }
      ]
    },
    {
      "cell_type": "markdown",
      "metadata": {
        "id": "yGq_4ZNx59sU"
      },
      "source": [
        "В конце тренировочного датасета имеет место большое число сэмплов, похожих на те, которые находятся в тестовом датасете."
      ]
    },
    {
      "cell_type": "code",
      "metadata": {
        "colab": {
          "base_uri": "https://localhost:8080/"
        },
        "id": "U_s5VsnxQv9N",
        "outputId": "a45bc07d-81eb-48f1-d702-b80541540f61"
      },
      "source": [
        "y_train = x_train['isFraud']\r\n",
        "y_valid = x_valid['isFraud']\r\n",
        "x_train.drop(columns=['to_valid', 'isFraud'], inplace=True)\r\n",
        "x_valid.drop(columns=['to_valid', 'isFraud'], inplace=True)"
      ],
      "execution_count": 33,
      "outputs": [
        {
          "output_type": "stream",
          "text": [
            "/usr/local/lib/python3.7/dist-packages/pandas/core/frame.py:4174: SettingWithCopyWarning: \n",
            "A value is trying to be set on a copy of a slice from a DataFrame\n",
            "\n",
            "See the caveats in the documentation: https://pandas.pydata.org/pandas-docs/stable/user_guide/indexing.html#returning-a-view-versus-a-copy\n",
            "  errors=errors,\n"
          ],
          "name": "stderr"
        }
      ]
    },
    {
      "cell_type": "code",
      "metadata": {
        "id": "siXZR8oUU913"
      },
      "source": [
        "cb_params = {\r\n",
        "    \"n_estimators\": 5000,\r\n",
        "    \"loss_function\": \"Logloss\",\r\n",
        "    \"eval_metric\": \"AUC\",\r\n",
        "    \"max_bin\": 20,\r\n",
        "    \"verbose\": 50,\r\n",
        "    \"max_depth\": 4,\r\n",
        "    \"l2_leaf_reg\": 100,\r\n",
        "    \"early_stopping_rounds\": 50,\r\n",
        "    \"thread_count\": 6,\r\n",
        "    \"random_seed\": 27,\r\n",
        "    'learning_rate': 0.1,\r\n",
        "    'task_type': 'GPU',\r\n",
        "    'one_hot_max_size': 100\r\n",
        "}"
      ],
      "execution_count": 34,
      "outputs": []
    },
    {
      "cell_type": "code",
      "metadata": {
        "colab": {
          "base_uri": "https://localhost:8080/"
        },
        "id": "nNa0mitLU_ra",
        "outputId": "f67c770e-2595-465d-b470-c7d25923e8fe"
      },
      "source": [
        "model_catb_4 = cb.CatBoostClassifier(**cb_params)\r\n",
        "model_catb_4.fit(x_train, y_train, eval_set=[(x_valid, y_valid)], cat_features=categorical_feature_names)"
      ],
      "execution_count": 35,
      "outputs": [
        {
          "output_type": "stream",
          "text": [
            "0:\tlearn: 0.6502187\ttest: 0.5329089\tbest: 0.5329089 (0)\ttotal: 15ms\tremaining: 1m 15s\n",
            "50:\tlearn: 0.8658970\ttest: 0.8552340\tbest: 0.8552403 (49)\ttotal: 634ms\tremaining: 1m 1s\n",
            "100:\tlearn: 0.8817877\ttest: 0.8807099\tbest: 0.8807099 (99)\ttotal: 1.12s\tremaining: 54.3s\n",
            "150:\tlearn: 0.8871205\ttest: 0.8868394\tbest: 0.8868394 (150)\ttotal: 1.59s\tremaining: 51s\n",
            "200:\tlearn: 0.8928361\ttest: 0.8966565\tbest: 0.8966565 (200)\ttotal: 2.07s\tremaining: 49.5s\n",
            "250:\tlearn: 0.8954601\ttest: 0.8979405\tbest: 0.8983464 (246)\ttotal: 2.54s\tremaining: 48s\n",
            "300:\tlearn: 0.8976179\ttest: 0.8995295\tbest: 0.8995375 (299)\ttotal: 3.02s\tremaining: 47.1s\n",
            "350:\tlearn: 0.8999622\ttest: 0.9018946\tbest: 0.9018946 (350)\ttotal: 3.47s\tremaining: 46s\n",
            "400:\tlearn: 0.9022156\ttest: 0.9043285\tbest: 0.9043503 (397)\ttotal: 3.95s\tremaining: 45.3s\n",
            "450:\tlearn: 0.9036455\ttest: 0.9053890\tbest: 0.9053936 (444)\ttotal: 4.41s\tremaining: 44.5s\n",
            "500:\tlearn: 0.9050251\ttest: 0.9068347\tbest: 0.9068920 (489)\ttotal: 4.89s\tremaining: 43.9s\n",
            "550:\tlearn: 0.9072793\ttest: 0.9100287\tbest: 0.9101331 (538)\ttotal: 5.35s\tremaining: 43.2s\n",
            "600:\tlearn: 0.9088738\ttest: 0.9105240\tbest: 0.9105240 (600)\ttotal: 5.83s\tremaining: 42.7s\n",
            "650:\tlearn: 0.9099381\ttest: 0.9111935\tbest: 0.9111935 (650)\ttotal: 6.29s\tremaining: 42s\n",
            "700:\tlearn: 0.9107645\ttest: 0.9118470\tbest: 0.9119616 (682)\ttotal: 6.77s\tremaining: 41.5s\n",
            "750:\tlearn: 0.9121810\ttest: 0.9126701\tbest: 0.9126919 (748)\ttotal: 7.23s\tremaining: 40.9s\n",
            "800:\tlearn: 0.9136766\ttest: 0.9148346\tbest: 0.9148553 (799)\ttotal: 7.74s\tremaining: 40.5s\n",
            "850:\tlearn: 0.9143480\ttest: 0.9151109\tbest: 0.9151419 (849)\ttotal: 8.2s\tremaining: 40s\n",
            "900:\tlearn: 0.9152133\ttest: 0.9155569\tbest: 0.9155661 (898)\ttotal: 8.65s\tremaining: 39.4s\n",
            "950:\tlearn: 0.9159218\ttest: 0.9161656\tbest: 0.9161978 (937)\ttotal: 9.12s\tremaining: 38.8s\n",
            "1000:\tlearn: 0.9165745\ttest: 0.9164993\tbest: 0.9165681 (990)\ttotal: 9.59s\tremaining: 38.3s\n",
            "1050:\tlearn: 0.9173752\ttest: 0.9171975\tbest: 0.9172112 (1046)\ttotal: 10.1s\tremaining: 37.8s\n",
            "1100:\tlearn: 0.9180065\ttest: 0.9178039\tbest: 0.9178372 (1097)\ttotal: 10.5s\tremaining: 37.3s\n",
            "1150:\tlearn: 0.9189584\ttest: 0.9182350\tbest: 0.9183508 (1120)\ttotal: 11s\tremaining: 36.9s\n",
            "bestTest = 0.9183508158\n",
            "bestIteration = 1120\n",
            "Shrink model to first 1121 iterations.\n"
          ],
          "name": "stdout"
        },
        {
          "output_type": "execute_result",
          "data": {
            "text/plain": [
              "<catboost.core.CatBoostClassifier at 0x7f46f88198d0>"
            ]
          },
          "metadata": {
            "tags": []
          },
          "execution_count": 35
        }
      ]
    },
    {
      "cell_type": "code",
      "metadata": {
        "id": "_hSFauWeWaV8"
      },
      "source": [
        "train_pred = model_catb_4.predict_proba(x_train)\r\n",
        "valid_pred = model_catb_4.predict_proba(x_valid)\r\n",
        "lb_pred = model_catb_4.predict_proba(x_lb)"
      ],
      "execution_count": 36,
      "outputs": []
    },
    {
      "cell_type": "code",
      "metadata": {
        "colab": {
          "base_uri": "https://localhost:8080/",
          "height": 320
        },
        "id": "K8A3-eUeYy60",
        "outputId": "971e7526-23d9-409e-cf6a-2ef3ec55c1c1"
      },
      "source": [
        "fig = plt.figure(figsize=(10, 5))\r\n",
        "train_fpr_catb, train_tpr_catb, _ = metrics.roc_curve(y_train,  train_pred[:, 1])\r\n",
        "train_auc_catb = metrics.roc_auc_score(y_train, train_pred[:, 1])\r\n",
        "valid_fpr_catb, valid_tpr_catb, _ = metrics.roc_curve(y_valid,  valid_pred[:, 1])\r\n",
        "valid_auc_catb = metrics.roc_auc_score(y_valid, valid_pred[:, 1])\r\n",
        "lb_fpr_catb, lb_tpr_catb, _ = metrics.roc_curve(y_lb,  lb_pred[:, 1])\r\n",
        "lb_auc_catb = metrics.roc_auc_score(y_lb, lb_pred[:, 1])\r\n",
        "plt.plot(train_fpr_catb, train_tpr_catb, label=\"train, auc=\"+str(train_auc_catb))\r\n",
        "plt.plot(valid_fpr_catb, valid_tpr_catb, label=\"valid, auc=\"+str(valid_auc_catb))\r\n",
        "plt.plot(lb_fpr_catb, lb_tpr_catb, label=\"liderboard, auc=\"+str(lb_auc_catb))\r\n",
        "plt.legend(loc=4)\r\n",
        "plt.grid()\r\n",
        "plt.show()"
      ],
      "execution_count": 37,
      "outputs": [
        {
          "output_type": "display_data",
          "data": {
            "image/png": "[encoded data removed]",
            "text/plain": [
              "<Figure size 720x360 with 1 Axes>"
            ]
          },
          "metadata": {
            "tags": [],
            "needs_background": "light"
          }
        }
      ]
    },
    {
      "cell_type": "code",
      "metadata": {
        "colab": {
          "base_uri": "https://localhost:8080/"
        },
        "id": "2XdZM2xsZTNp",
        "outputId": "b4935244-389c-4d59-b10c-532b63e1d7a9"
      },
      "source": [
        "np.random.seed(27)\r\n",
        "train_scores = create_bootstrap_metrics(y_train, model_catb_4.predict_proba(x_train)[:, 1], roc_auc_score)\r\n",
        "valid_scores = create_bootstrap_metrics(y_valid, model_catb_4.predict_proba(x_valid)[:, 1], roc_auc_score)\r\n",
        "lb_scores = create_bootstrap_metrics(y_lb, model_catb_4.predict_proba(x_lb)[:, 1], roc_auc_score)\r\n",
        "print(f'Train confidence interval = {calculate_confidence_interval(train_scores)}')\r\n",
        "print(f'Valid confidence interval = {calculate_confidence_interval(valid_scores)}')\r\n",
        "print(f'Lb confidence interval = {calculate_confidence_interval(lb_scores)}')\r\n",
        "print(f'Liderboard score = {lb_auc_catb}')"
      ],
      "execution_count": 38,
      "outputs": [
        {
          "output_type": "stream",
          "text": [
            "Train confidence interval = (0.9133543740893583, 0.9230153253824713)\n",
            "Valid confidence interval = (0.8937918307387926, 0.940561479061479)\n",
            "Lb confidence interval = (0.8592839078628125, 0.8722653334801912)\n",
            "Liderboard score = 0.865976290745025\n"
          ],
          "name": "stdout"
        }
      ]
    },
    {
      "cell_type": "code",
      "metadata": {
        "colab": {
          "base_uri": "https://localhost:8080/",
          "height": 514
        },
        "id": "1LcMz9Z6Z0OE",
        "outputId": "d06c35e0-4f04-46c7-d2d4-b94b74865167"
      },
      "source": [
        "fig = plt.figure(figsize=(15, 5))\r\n",
        "plt.suptitle(\"Bootstrap for evaluating validation stability\", size=15)\r\n",
        "sns.distplot(train_scores,  color=\"green\", bins=20, label='train')\r\n",
        "sns.distplot(valid_scores,  color=\"red\", bins=20, label='valid')\r\n",
        "sns.distplot(lb_scores,  color=\"blue\", bins=20, label='lb')\r\n",
        "plt.xlabel(\"sampel number\", size=15)\r\n",
        "plt.legend()"
      ],
      "execution_count": 39,
      "outputs": [
        {
          "output_type": "stream",
          "text": [
            "/usr/local/lib/python3.7/dist-packages/seaborn/distributions.py:2557: FutureWarning: `distplot` is a deprecated function and will be removed in a future version. Please adapt your code to use either `displot` (a figure-level function with similar flexibility) or `histplot` (an axes-level function for histograms).\n",
            "  warnings.warn(msg, FutureWarning)\n",
            "/usr/local/lib/python3.7/dist-packages/seaborn/distributions.py:2557: FutureWarning: `distplot` is a deprecated function and will be removed in a future version. Please adapt your code to use either `displot` (a figure-level function with similar flexibility) or `histplot` (an axes-level function for histograms).\n",
            "  warnings.warn(msg, FutureWarning)\n",
            "/usr/local/lib/python3.7/dist-packages/seaborn/distributions.py:2557: FutureWarning: `distplot` is a deprecated function and will be removed in a future version. Please adapt your code to use either `displot` (a figure-level function with similar flexibility) or `histplot` (an axes-level function for histograms).\n",
            "  warnings.warn(msg, FutureWarning)\n"
          ],
          "name": "stderr"
        },
        {
          "output_type": "execute_result",
          "data": {
            "text/plain": [
              "<matplotlib.legend.Legend at 0x7f4726ababd0>"
            ]
          },
          "metadata": {
            "tags": []
          },
          "execution_count": 39
        },
        {
          "output_type": "display_data",
          "data": {
            "image/png": "[encoded data removed]",
            "text/plain": [
              "<Figure size 1080x360 with 1 Axes>"
            ]
          },
          "metadata": {
            "tags": [],
            "needs_background": "light"
          }
        }
      ]
    },
    {
      "cell_type": "markdown",
      "metadata": {
        "id": "0BbNUG6S_2jy"
      },
      "source": [
        "Вывод: после того, как мы стали валидироваться только на тех сэмплах, которые отличны от тех, на которых мы обучались, исчезло смещение в доверительных интервалах AUC для train и valid (точность на valid значительно выросла). Точность на liderboard выросла с 0.855 до 0.866. Но доверительный интервал для lb остался таким же смещенным относительно train и valid. Можно предположить, что если в lb оставить сэмплы, не похожие на находящиеся в train и valid, то все доверительные интервалы будут несмещенными"
      ]
    },
    {
      "cell_type": "markdown",
      "metadata": {
        "id": "Kw3sqCnZf2an"
      },
      "source": [
        "## Задание 5: сделать KFold / StratifiedKFold валидацию (на ваше усмотрение), оценить получаемые качество и разброс по метрике качества. Сделать выводы об устойчивости кросс-валидации, сходимости оценки на кросс-валидации и отложенном наборе данных; Оценить качество на ЛБ, сделать выводы."
      ]
    },
    {
      "cell_type": "code",
      "metadata": {
        "id": "cCisEDWRf8I_"
      },
      "source": [
        "def make_cross_validation(X: pd.DataFrame,\r\n",
        "                          y: pd.Series,\r\n",
        "                          estimator: object,\r\n",
        "                          metric: callable,\r\n",
        "                          cv_strategy):\r\n",
        "    \"\"\"\r\n",
        "    Кросс-валидация.\r\n",
        "\r\n",
        "    Parameters\r\n",
        "    ----------\r\n",
        "    X: pd.DataFrame\r\n",
        "        Матрица признаков.\r\n",
        "\r\n",
        "    y: pd.Series\r\n",
        "        Вектор целевой переменной.\r\n",
        "\r\n",
        "    estimator: callable\r\n",
        "        Объект модели для обучения.\r\n",
        "\r\n",
        "    metric: callable\r\n",
        "        Метрика для оценки качества решения.\r\n",
        "        Ожидается, что на вход будет передана функция,\r\n",
        "        которая принимает 2 аргумента: y_true, y_pred.\r\n",
        "\r\n",
        "    cv_strategy: cross-validation generator\r\n",
        "        Объект для описания стратегии кросс-валидации.\r\n",
        "        Ожидается, что на вход будет передан объект типа\r\n",
        "        KFold или StratifiedKFold.\r\n",
        "\r\n",
        "    Returns\r\n",
        "    -------\r\n",
        "    oof_score: float\r\n",
        "        Значение метрики качества на OOF-прогнозах.\r\n",
        "\r\n",
        "    fold_train_scores: List[float]\r\n",
        "        Значение метрики качества на каждом обучающем датасете кросс-валидации.\r\n",
        "\r\n",
        "    fold_valid_scores: List[float]\r\n",
        "        Значение метрики качества на каждом валидационном датасете кросс-валидации.\r\n",
        "\r\n",
        "    oof_predictions: np.array\r\n",
        "        Прогнозы на OOF.\r\n",
        "\r\n",
        "    \"\"\"\r\n",
        "    estimators, fold_train_scores, fold_valid_scores = [], [], []\r\n",
        "    oof_predictions = np.zeros(X.shape[0])\r\n",
        "\r\n",
        "    for fold_number, (train_idx, valid_idx) in enumerate(cv_strategy.split(X, y)):\r\n",
        "        x_train, x_valid = X.loc[train_idx], X.loc[valid_idx]\r\n",
        "        y_train, y_valid = y.loc[train_idx], y.loc[valid_idx]\r\n",
        "\r\n",
        "        estimator.fit(x_train, y_train)\r\n",
        "        y_train_pred = estimator.predict(x_train)\r\n",
        "        y_valid_pred = estimator.predict(x_valid)\r\n",
        "\r\n",
        "        fold_train_scores.append(metric(y_train, y_train_pred))\r\n",
        "        fold_valid_scores.append(metric(y_valid, y_valid_pred))\r\n",
        "        oof_predictions[valid_idx] = y_valid_pred\r\n",
        "\r\n",
        "        msg = (\r\n",
        "            f\"Fold: {fold_number+1}, train-observations = {len(train_idx)}, \"\r\n",
        "            f\"valid-observations = {len(valid_idx)}\\n\"\r\n",
        "            f\"train-score = {round(fold_train_scores[fold_number], 4)}, \"\r\n",
        "            f\"valid-score = {round(fold_valid_scores[fold_number], 4)}\" \r\n",
        "        )\r\n",
        "        print(msg)\r\n",
        "        print(\"=\"*69)\r\n",
        "        estimators.append(estimator)\r\n",
        "\r\n",
        "    oof_score = metric(y, oof_predictions)\r\n",
        "    print(f\"CV-results train: {round(np.mean(fold_train_scores), 4)} +/- {round(np.std(fold_train_scores), 3)}\")\r\n",
        "    print(f\"CV-results valid: {round(np.mean(fold_valid_scores), 4)} +/- {round(np.std(fold_valid_scores), 3)}\")\r\n",
        "    print(f\"OOF-score = {round(oof_score, 4)}\")\r\n",
        "\r\n",
        "    return estimators, oof_score, fold_train_scores, fold_valid_scores, oof_predictions"
      ],
      "execution_count": 40,
      "outputs": []
    },
    {
      "cell_type": "code",
      "metadata": {
        "id": "zEjCH6r4DBho"
      },
      "source": [
        "data = pd.read_csv(\"/content/drive/MyDrive/assignment_2_train.csv\")\r\n",
        "lb = pd.read_csv(\"/content/drive/MyDrive/assignment_2_test.csv\")"
      ],
      "execution_count": 44,
      "outputs": []
    },
    {
      "cell_type": "code",
      "metadata": {
        "id": "74NEkMZJjao4"
      },
      "source": [
        "y_lb = lb['isFraud']\r\n",
        "x_lb = lb.drop(columns=['isFraud'])\r\n",
        "\r\n",
        "y = data['isFraud']\r\n",
        "X = data.drop(columns=['isFraud'])"
      ],
      "execution_count": 45,
      "outputs": []
    },
    {
      "cell_type": "code",
      "metadata": {
        "id": "2_uCT5nsj6Xo"
      },
      "source": [
        "x_train, x_valid, y_train, y_valid = train_test_split(\r\n",
        "    X, y, train_size=0.7, shuffle=False, random_state=1,\r\n",
        ")"
      ],
      "execution_count": 46,
      "outputs": []
    },
    {
      "cell_type": "code",
      "metadata": {
        "id": "NrR8Zucwmhvm"
      },
      "source": [
        "numerical_features = x_train.select_dtypes(exclude=[\"object\"])\r\n",
        "numerical_features = numerical_features.columns.tolist()"
      ],
      "execution_count": 50,
      "outputs": []
    },
    {
      "cell_type": "code",
      "metadata": {
        "id": "Ijq1rcdtjPFK"
      },
      "source": [
        "model_catb_5 = cb.CatBoostClassifier(**cb_params)"
      ],
      "execution_count": 51,
      "outputs": []
    },
    {
      "cell_type": "code",
      "metadata": {
        "colab": {
          "base_uri": "https://localhost:8080/"
        },
        "id": "WplyyG8hgnXm",
        "outputId": "be03583f-581e-49fc-c1dd-cb5aa4a8e704"
      },
      "source": [
        "cv_strategy = KFold(n_splits=5, random_state=1)\r\n",
        "\r\n",
        "estimators, oof_score, fold_train_scores, fold_valid_scores, oof_predictions = make_cross_validation(\r\n",
        "    x_train[numerical_features], y_train, model_catb_5, metric=roc_auc_score, cv_strategy=cv_strategy\r\n",
        ")"
      ],
      "execution_count": 52,
      "outputs": [
        {
          "output_type": "stream",
          "text": [
            "/usr/local/lib/python3.7/dist-packages/sklearn/model_selection/_split.py:296: FutureWarning: Setting a random_state has no effect since shuffle is False. This will raise an error in 0.24. You should leave random_state to its default (None), or set shuffle=True.\n",
            "  FutureWarning\n"
          ],
          "name": "stderr"
        },
        {
          "output_type": "stream",
          "text": [
            "0:\tlearn: 0.6839398\ttotal: 10.8ms\tremaining: 53.8s\n",
            "50:\tlearn: 0.8586115\ttotal: 484ms\tremaining: 47s\n",
            "100:\tlearn: 0.8694688\ttotal: 876ms\tremaining: 42.5s\n",
            "150:\tlearn: 0.8777067\ttotal: 1.27s\tremaining: 40.7s\n",
            "200:\tlearn: 0.8842461\ttotal: 1.64s\tremaining: 39.2s\n",
            "250:\tlearn: 0.8874175\ttotal: 2s\tremaining: 37.9s\n",
            "300:\tlearn: 0.8896884\ttotal: 2.37s\tremaining: 37s\n",
            "350:\tlearn: 0.8917524\ttotal: 2.73s\tremaining: 36.2s\n",
            "400:\tlearn: 0.8951731\ttotal: 3.09s\tremaining: 35.4s\n",
            "450:\tlearn: 0.8977128\ttotal: 3.46s\tremaining: 34.9s\n",
            "500:\tlearn: 0.8997640\ttotal: 3.81s\tremaining: 34.2s\n",
            "550:\tlearn: 0.9008009\ttotal: 4.16s\tremaining: 33.6s\n",
            "600:\tlearn: 0.9025946\ttotal: 4.52s\tremaining: 33.1s\n",
            "650:\tlearn: 0.9040779\ttotal: 4.87s\tremaining: 32.6s\n",
            "700:\tlearn: 0.9052250\ttotal: 5.24s\tremaining: 32.2s\n",
            "750:\tlearn: 0.9060917\ttotal: 5.61s\tremaining: 31.8s\n",
            "800:\tlearn: 0.9079864\ttotal: 5.96s\tremaining: 31.3s\n",
            "850:\tlearn: 0.9090169\ttotal: 6.32s\tremaining: 30.8s\n",
            "900:\tlearn: 0.9105673\ttotal: 6.68s\tremaining: 30.4s\n",
            "950:\tlearn: 0.9114300\ttotal: 7.03s\tremaining: 29.9s\n",
            "1000:\tlearn: 0.9126788\ttotal: 7.4s\tremaining: 29.6s\n",
            "1050:\tlearn: 0.9133650\ttotal: 7.74s\tremaining: 29.1s\n",
            "1100:\tlearn: 0.9141465\ttotal: 8.09s\tremaining: 28.7s\n",
            "1150:\tlearn: 0.9149983\ttotal: 8.44s\tremaining: 28.2s\n",
            "1200:\tlearn: 0.9157719\ttotal: 8.78s\tremaining: 27.8s\n",
            "1250:\tlearn: 0.9162511\ttotal: 9.12s\tremaining: 27.3s\n",
            "1300:\tlearn: 0.9170364\ttotal: 9.48s\tremaining: 26.9s\n",
            "1350:\tlearn: 0.9181307\ttotal: 9.82s\tremaining: 26.5s\n",
            "1400:\tlearn: 0.9187235\ttotal: 10.2s\tremaining: 26.1s\n",
            "1450:\tlearn: 0.9192414\ttotal: 10.5s\tremaining: 25.8s\n",
            "1500:\tlearn: 0.9204241\ttotal: 10.9s\tremaining: 25.4s\n",
            "1550:\tlearn: 0.9211260\ttotal: 11.2s\tremaining: 25s\n",
            "1600:\tlearn: 0.9219460\ttotal: 11.6s\tremaining: 24.7s\n",
            "1650:\tlearn: 0.9225545\ttotal: 12s\tremaining: 24.3s\n",
            "1700:\tlearn: 0.9230106\ttotal: 12.3s\tremaining: 23.9s\n",
            "1750:\tlearn: 0.9235315\ttotal: 12.7s\tremaining: 23.6s\n",
            "1800:\tlearn: 0.9242211\ttotal: 13.1s\tremaining: 23.2s\n",
            "1850:\tlearn: 0.9250506\ttotal: 13.4s\tremaining: 22.9s\n",
            "1900:\tlearn: 0.9254901\ttotal: 13.8s\tremaining: 22.5s\n",
            "1950:\tlearn: 0.9262213\ttotal: 14.2s\tremaining: 22.1s\n",
            "2000:\tlearn: 0.9264667\ttotal: 14.5s\tremaining: 21.8s\n",
            "2050:\tlearn: 0.9269539\ttotal: 14.9s\tremaining: 21.4s\n",
            "2100:\tlearn: 0.9275984\ttotal: 15.3s\tremaining: 21.1s\n",
            "2150:\tlearn: 0.9280729\ttotal: 15.6s\tremaining: 20.7s\n",
            "2200:\tlearn: 0.9285006\ttotal: 16s\tremaining: 20.3s\n",
            "2250:\tlearn: 0.9290361\ttotal: 16.3s\tremaining: 20s\n",
            "2300:\tlearn: 0.9297134\ttotal: 16.7s\tremaining: 19.6s\n",
            "2350:\tlearn: 0.9300911\ttotal: 17.1s\tremaining: 19.2s\n",
            "2400:\tlearn: 0.9306527\ttotal: 17.4s\tremaining: 18.9s\n",
            "2450:\tlearn: 0.9311773\ttotal: 17.8s\tremaining: 18.5s\n",
            "2500:\tlearn: 0.9316570\ttotal: 18.1s\tremaining: 18.1s\n",
            "2550:\tlearn: 0.9322298\ttotal: 18.5s\tremaining: 17.8s\n",
            "2600:\tlearn: 0.9326645\ttotal: 18.9s\tremaining: 17.4s\n",
            "2650:\tlearn: 0.9333428\ttotal: 19.2s\tremaining: 17s\n",
            "2700:\tlearn: 0.9337482\ttotal: 19.6s\tremaining: 16.7s\n",
            "2750:\tlearn: 0.9341033\ttotal: 20s\tremaining: 16.3s\n",
            "2800:\tlearn: 0.9344660\ttotal: 20.3s\tremaining: 15.9s\n",
            "2850:\tlearn: 0.9350724\ttotal: 20.7s\tremaining: 15.6s\n",
            "2900:\tlearn: 0.9354321\ttotal: 21s\tremaining: 15.2s\n",
            "2950:\tlearn: 0.9359833\ttotal: 21.4s\tremaining: 14.8s\n",
            "3000:\tlearn: 0.9362932\ttotal: 21.7s\tremaining: 14.5s\n",
            "3050:\tlearn: 0.9366822\ttotal: 22.1s\tremaining: 14.1s\n",
            "3100:\tlearn: 0.9370771\ttotal: 22.4s\tremaining: 13.7s\n",
            "3150:\tlearn: 0.9376355\ttotal: 22.8s\tremaining: 13.4s\n",
            "3200:\tlearn: 0.9380326\ttotal: 23.1s\tremaining: 13s\n",
            "3250:\tlearn: 0.9384324\ttotal: 23.5s\tremaining: 12.6s\n",
            "3300:\tlearn: 0.9387251\ttotal: 23.8s\tremaining: 12.3s\n",
            "3350:\tlearn: 0.9391121\ttotal: 24.2s\tremaining: 11.9s\n",
            "3400:\tlearn: 0.9395969\ttotal: 24.5s\tremaining: 11.5s\n",
            "3450:\tlearn: 0.9400207\ttotal: 24.9s\tremaining: 11.2s\n",
            "3500:\tlearn: 0.9404486\ttotal: 25.2s\tremaining: 10.8s\n",
            "3550:\tlearn: 0.9408149\ttotal: 25.6s\tremaining: 10.4s\n",
            "3600:\tlearn: 0.9412019\ttotal: 25.9s\tremaining: 10.1s\n",
            "3650:\tlearn: 0.9415689\ttotal: 26.3s\tremaining: 9.7s\n",
            "3700:\tlearn: 0.9420871\ttotal: 26.6s\tremaining: 9.34s\n",
            "3750:\tlearn: 0.9424667\ttotal: 27s\tremaining: 8.98s\n",
            "3800:\tlearn: 0.9429352\ttotal: 27.3s\tremaining: 8.61s\n",
            "3850:\tlearn: 0.9434015\ttotal: 27.7s\tremaining: 8.26s\n",
            "3900:\tlearn: 0.9439392\ttotal: 28s\tremaining: 7.89s\n",
            "3950:\tlearn: 0.9443645\ttotal: 28.4s\tremaining: 7.53s\n",
            "4000:\tlearn: 0.9447424\ttotal: 28.7s\tremaining: 7.17s\n",
            "4050:\tlearn: 0.9451393\ttotal: 29.1s\tremaining: 6.81s\n",
            "4100:\tlearn: 0.9454642\ttotal: 29.4s\tremaining: 6.45s\n",
            "4150:\tlearn: 0.9458488\ttotal: 29.8s\tremaining: 6.09s\n",
            "4200:\tlearn: 0.9462104\ttotal: 30.1s\tremaining: 5.73s\n",
            "4250:\tlearn: 0.9464850\ttotal: 30.5s\tremaining: 5.37s\n",
            "4300:\tlearn: 0.9468122\ttotal: 30.8s\tremaining: 5.01s\n",
            "4350:\tlearn: 0.9471045\ttotal: 31.2s\tremaining: 4.65s\n",
            "4400:\tlearn: 0.9475440\ttotal: 31.5s\tremaining: 4.29s\n",
            "4450:\tlearn: 0.9481465\ttotal: 31.9s\tremaining: 3.93s\n",
            "4500:\tlearn: 0.9485009\ttotal: 32.2s\tremaining: 3.57s\n",
            "4550:\tlearn: 0.9487031\ttotal: 32.6s\tremaining: 3.22s\n",
            "4600:\tlearn: 0.9489655\ttotal: 33s\tremaining: 2.86s\n",
            "4650:\tlearn: 0.9492698\ttotal: 33.3s\tremaining: 2.5s\n",
            "4700:\tlearn: 0.9494612\ttotal: 33.7s\tremaining: 2.14s\n",
            "4750:\tlearn: 0.9498174\ttotal: 34.1s\tremaining: 1.78s\n",
            "4800:\tlearn: 0.9500574\ttotal: 34.4s\tremaining: 1.43s\n",
            "4850:\tlearn: 0.9503064\ttotal: 34.8s\tremaining: 1.07s\n",
            "4900:\tlearn: 0.9507538\ttotal: 35.1s\tremaining: 710ms\n",
            "4950:\tlearn: 0.9509916\ttotal: 35.5s\tremaining: 352ms\n",
            "4999:\tlearn: 0.9512315\ttotal: 35.9s\tremaining: 0us\n",
            "Fold: 1, train-observations = 100799, valid-observations = 25200\n",
            "train-score = 0.7897, valid-score = 0.6309\n",
            "=====================================================================\n",
            "0:\tlearn: 0.5790784\ttotal: 8.55ms\tremaining: 42.7s\n",
            "50:\tlearn: 0.8558204\ttotal: 403ms\tremaining: 39.1s\n",
            "100:\tlearn: 0.8651102\ttotal: 793ms\tremaining: 38.5s\n",
            "150:\tlearn: 0.8753034\ttotal: 1.16s\tremaining: 37.1s\n",
            "200:\tlearn: 0.8794864\ttotal: 1.51s\tremaining: 36s\n",
            "250:\tlearn: 0.8849789\ttotal: 1.89s\tremaining: 35.8s\n",
            "300:\tlearn: 0.8872470\ttotal: 2.25s\tremaining: 35.1s\n",
            "350:\tlearn: 0.8899991\ttotal: 2.62s\tremaining: 34.7s\n",
            "400:\tlearn: 0.8925452\ttotal: 2.98s\tremaining: 34.2s\n",
            "450:\tlearn: 0.8950414\ttotal: 3.34s\tremaining: 33.7s\n",
            "500:\tlearn: 0.8974960\ttotal: 3.73s\tremaining: 33.5s\n",
            "550:\tlearn: 0.9000795\ttotal: 4.09s\tremaining: 33s\n",
            "600:\tlearn: 0.9022427\ttotal: 4.46s\tremaining: 32.7s\n",
            "650:\tlearn: 0.9035366\ttotal: 4.83s\tremaining: 32.3s\n",
            "700:\tlearn: 0.9049684\ttotal: 5.2s\tremaining: 31.9s\n",
            "750:\tlearn: 0.9059163\ttotal: 5.58s\tremaining: 31.6s\n",
            "800:\tlearn: 0.9072614\ttotal: 5.93s\tremaining: 31.1s\n",
            "850:\tlearn: 0.9085194\ttotal: 6.3s\tremaining: 30.7s\n",
            "900:\tlearn: 0.9094558\ttotal: 6.66s\tremaining: 30.3s\n",
            "950:\tlearn: 0.9106234\ttotal: 7.01s\tremaining: 29.8s\n",
            "1000:\tlearn: 0.9122674\ttotal: 7.36s\tremaining: 29.4s\n",
            "1050:\tlearn: 0.9134411\ttotal: 7.72s\tremaining: 29s\n",
            "1100:\tlearn: 0.9143412\ttotal: 8.06s\tremaining: 28.5s\n",
            "1150:\tlearn: 0.9152355\ttotal: 8.4s\tremaining: 28.1s\n",
            "1200:\tlearn: 0.9158851\ttotal: 8.75s\tremaining: 27.7s\n",
            "1250:\tlearn: 0.9166487\ttotal: 9.1s\tremaining: 27.3s\n",
            "1300:\tlearn: 0.9176497\ttotal: 9.47s\tremaining: 26.9s\n",
            "1350:\tlearn: 0.9185400\ttotal: 9.84s\tremaining: 26.6s\n",
            "1400:\tlearn: 0.9193338\ttotal: 10.2s\tremaining: 26.2s\n",
            "1450:\tlearn: 0.9201764\ttotal: 10.5s\tremaining: 25.8s\n",
            "1500:\tlearn: 0.9211296\ttotal: 10.9s\tremaining: 25.4s\n",
            "1550:\tlearn: 0.9217651\ttotal: 11.3s\tremaining: 25.1s\n",
            "1600:\tlearn: 0.9223875\ttotal: 11.6s\tremaining: 24.7s\n",
            "1650:\tlearn: 0.9229366\ttotal: 12s\tremaining: 24.3s\n",
            "1700:\tlearn: 0.9235371\ttotal: 12.3s\tremaining: 23.9s\n",
            "1750:\tlearn: 0.9240507\ttotal: 12.7s\tremaining: 23.6s\n",
            "1800:\tlearn: 0.9245931\ttotal: 13.1s\tremaining: 23.2s\n",
            "1850:\tlearn: 0.9252464\ttotal: 13.4s\tremaining: 22.8s\n",
            "1900:\tlearn: 0.9260568\ttotal: 13.8s\tremaining: 22.4s\n",
            "1950:\tlearn: 0.9266753\ttotal: 14.1s\tremaining: 22.1s\n",
            "2000:\tlearn: 0.9272375\ttotal: 14.5s\tremaining: 21.7s\n",
            "2050:\tlearn: 0.9279204\ttotal: 14.9s\tremaining: 21.4s\n",
            "2100:\tlearn: 0.9284821\ttotal: 15.2s\tremaining: 21s\n",
            "2150:\tlearn: 0.9291171\ttotal: 15.6s\tremaining: 20.6s\n",
            "2200:\tlearn: 0.9297532\ttotal: 15.9s\tremaining: 20.3s\n",
            "2250:\tlearn: 0.9303409\ttotal: 16.3s\tremaining: 19.9s\n",
            "2300:\tlearn: 0.9308627\ttotal: 16.7s\tremaining: 19.6s\n",
            "2350:\tlearn: 0.9313044\ttotal: 17s\tremaining: 19.2s\n",
            "2400:\tlearn: 0.9317381\ttotal: 17.4s\tremaining: 18.8s\n",
            "2450:\tlearn: 0.9323480\ttotal: 17.7s\tremaining: 18.4s\n",
            "2500:\tlearn: 0.9328160\ttotal: 18.1s\tremaining: 18.1s\n",
            "2550:\tlearn: 0.9331335\ttotal: 18.4s\tremaining: 17.7s\n",
            "2600:\tlearn: 0.9336752\ttotal: 18.8s\tremaining: 17.3s\n",
            "2650:\tlearn: 0.9342194\ttotal: 19.1s\tremaining: 16.9s\n",
            "2700:\tlearn: 0.9348244\ttotal: 19.5s\tremaining: 16.6s\n",
            "2750:\tlearn: 0.9354466\ttotal: 19.8s\tremaining: 16.2s\n",
            "2800:\tlearn: 0.9360561\ttotal: 20.2s\tremaining: 15.8s\n",
            "2850:\tlearn: 0.9364860\ttotal: 20.5s\tremaining: 15.5s\n",
            "2900:\tlearn: 0.9369628\ttotal: 20.9s\tremaining: 15.1s\n",
            "2950:\tlearn: 0.9373966\ttotal: 21.3s\tremaining: 14.8s\n",
            "3000:\tlearn: 0.9377356\ttotal: 21.6s\tremaining: 14.4s\n",
            "3050:\tlearn: 0.9380348\ttotal: 22s\tremaining: 14s\n",
            "3100:\tlearn: 0.9385388\ttotal: 22.3s\tremaining: 13.7s\n",
            "3150:\tlearn: 0.9389292\ttotal: 22.7s\tremaining: 13.3s\n",
            "3200:\tlearn: 0.9393923\ttotal: 23.1s\tremaining: 13s\n",
            "3250:\tlearn: 0.9398243\ttotal: 23.4s\tremaining: 12.6s\n",
            "3300:\tlearn: 0.9402092\ttotal: 23.8s\tremaining: 12.3s\n",
            "3350:\tlearn: 0.9406121\ttotal: 24.2s\tremaining: 11.9s\n",
            "3400:\tlearn: 0.9411432\ttotal: 24.5s\tremaining: 11.5s\n",
            "3450:\tlearn: 0.9415562\ttotal: 24.9s\tremaining: 11.2s\n",
            "3500:\tlearn: 0.9420729\ttotal: 25.3s\tremaining: 10.8s\n",
            "3550:\tlearn: 0.9424389\ttotal: 25.7s\tremaining: 10.5s\n",
            "3600:\tlearn: 0.9428507\ttotal: 26s\tremaining: 10.1s\n",
            "3650:\tlearn: 0.9431428\ttotal: 26.4s\tremaining: 9.76s\n",
            "3700:\tlearn: 0.9434790\ttotal: 26.8s\tremaining: 9.41s\n",
            "3750:\tlearn: 0.9438225\ttotal: 27.2s\tremaining: 9.04s\n",
            "3800:\tlearn: 0.9441662\ttotal: 27.5s\tremaining: 8.68s\n",
            "3850:\tlearn: 0.9445350\ttotal: 27.9s\tremaining: 8.32s\n",
            "3900:\tlearn: 0.9450046\ttotal: 28.3s\tremaining: 7.96s\n",
            "3950:\tlearn: 0.9454454\ttotal: 28.6s\tremaining: 7.59s\n",
            "4000:\tlearn: 0.9459037\ttotal: 29s\tremaining: 7.23s\n",
            "4050:\tlearn: 0.9461975\ttotal: 29.3s\tremaining: 6.87s\n",
            "4100:\tlearn: 0.9465769\ttotal: 29.7s\tremaining: 6.5s\n",
            "4150:\tlearn: 0.9468724\ttotal: 30s\tremaining: 6.14s\n",
            "4200:\tlearn: 0.9473659\ttotal: 30.4s\tremaining: 5.78s\n",
            "4250:\tlearn: 0.9476113\ttotal: 30.7s\tremaining: 5.42s\n",
            "4300:\tlearn: 0.9478828\ttotal: 31.1s\tremaining: 5.05s\n",
            "4350:\tlearn: 0.9482674\ttotal: 31.4s\tremaining: 4.69s\n",
            "4400:\tlearn: 0.9485615\ttotal: 31.8s\tremaining: 4.33s\n",
            "4450:\tlearn: 0.9490036\ttotal: 32.1s\tremaining: 3.96s\n",
            "4500:\tlearn: 0.9493152\ttotal: 32.5s\tremaining: 3.6s\n",
            "4550:\tlearn: 0.9495210\ttotal: 32.9s\tremaining: 3.24s\n",
            "4600:\tlearn: 0.9498507\ttotal: 33.2s\tremaining: 2.88s\n",
            "4650:\tlearn: 0.9502153\ttotal: 33.5s\tremaining: 2.52s\n",
            "4700:\tlearn: 0.9505386\ttotal: 33.9s\tremaining: 2.16s\n",
            "4750:\tlearn: 0.9508088\ttotal: 34.3s\tremaining: 1.79s\n",
            "4800:\tlearn: 0.9511643\ttotal: 34.6s\tremaining: 1.43s\n",
            "4850:\tlearn: 0.9514337\ttotal: 35s\tremaining: 1.07s\n",
            "4900:\tlearn: 0.9517449\ttotal: 35.3s\tremaining: 714ms\n",
            "4950:\tlearn: 0.9520517\ttotal: 35.7s\tremaining: 353ms\n",
            "4999:\tlearn: 0.9523503\ttotal: 36s\tremaining: 0us\n",
            "Fold: 2, train-observations = 100799, valid-observations = 25200\n",
            "train-score = 0.7871, valid-score = 0.674\n",
            "=====================================================================\n",
            "0:\tlearn: 0.7132323\ttotal: 7.72ms\tremaining: 38.6s\n",
            "50:\tlearn: 0.8584217\ttotal: 380ms\tremaining: 36.9s\n",
            "100:\tlearn: 0.8694027\ttotal: 752ms\tremaining: 36.5s\n",
            "150:\tlearn: 0.8742474\ttotal: 1.11s\tremaining: 35.6s\n",
            "200:\tlearn: 0.8792721\ttotal: 1.45s\tremaining: 34.7s\n",
            "250:\tlearn: 0.8835811\ttotal: 1.8s\tremaining: 34s\n",
            "300:\tlearn: 0.8858812\ttotal: 2.13s\tremaining: 33.3s\n",
            "350:\tlearn: 0.8890280\ttotal: 2.46s\tremaining: 32.6s\n",
            "400:\tlearn: 0.8906770\ttotal: 2.81s\tremaining: 32.2s\n",
            "450:\tlearn: 0.8927886\ttotal: 3.14s\tremaining: 31.7s\n",
            "500:\tlearn: 0.8947725\ttotal: 3.47s\tremaining: 31.2s\n",
            "550:\tlearn: 0.8968700\ttotal: 3.81s\tremaining: 30.8s\n",
            "600:\tlearn: 0.8990760\ttotal: 4.14s\tremaining: 30.3s\n",
            "650:\tlearn: 0.9006886\ttotal: 4.48s\tremaining: 29.9s\n",
            "700:\tlearn: 0.9020119\ttotal: 4.82s\tremaining: 29.6s\n",
            "750:\tlearn: 0.9035009\ttotal: 5.16s\tremaining: 29.2s\n",
            "800:\tlearn: 0.9046216\ttotal: 5.49s\tremaining: 28.8s\n",
            "850:\tlearn: 0.9060077\ttotal: 5.82s\tremaining: 28.4s\n",
            "900:\tlearn: 0.9069337\ttotal: 6.16s\tremaining: 28s\n",
            "950:\tlearn: 0.9078130\ttotal: 6.49s\tremaining: 27.6s\n",
            "1000:\tlearn: 0.9085466\ttotal: 6.85s\tremaining: 27.4s\n",
            "1050:\tlearn: 0.9093684\ttotal: 7.18s\tremaining: 27s\n",
            "1100:\tlearn: 0.9103734\ttotal: 7.51s\tremaining: 26.6s\n",
            "1150:\tlearn: 0.9110427\ttotal: 7.88s\tremaining: 26.3s\n",
            "1200:\tlearn: 0.9120332\ttotal: 8.2s\tremaining: 25.9s\n",
            "1250:\tlearn: 0.9126968\ttotal: 8.52s\tremaining: 25.5s\n",
            "1300:\tlearn: 0.9137101\ttotal: 8.86s\tremaining: 25.2s\n",
            "1350:\tlearn: 0.9145312\ttotal: 9.19s\tremaining: 24.8s\n",
            "1400:\tlearn: 0.9152852\ttotal: 9.52s\tremaining: 24.5s\n",
            "1450:\tlearn: 0.9157529\ttotal: 9.86s\tremaining: 24.1s\n",
            "1500:\tlearn: 0.9163376\ttotal: 10.2s\tremaining: 23.7s\n",
            "1550:\tlearn: 0.9171041\ttotal: 10.5s\tremaining: 23.4s\n",
            "1600:\tlearn: 0.9180549\ttotal: 10.9s\tremaining: 23.1s\n",
            "1650:\tlearn: 0.9185394\ttotal: 11.2s\tremaining: 22.7s\n",
            "1700:\tlearn: 0.9190824\ttotal: 11.5s\tremaining: 22.4s\n",
            "1750:\tlearn: 0.9196824\ttotal: 11.9s\tremaining: 22.1s\n",
            "1800:\tlearn: 0.9203469\ttotal: 12.2s\tremaining: 21.7s\n",
            "1850:\tlearn: 0.9208636\ttotal: 12.6s\tremaining: 21.4s\n",
            "1900:\tlearn: 0.9214244\ttotal: 12.9s\tremaining: 21.1s\n",
            "1950:\tlearn: 0.9218484\ttotal: 13.3s\tremaining: 20.7s\n",
            "2000:\tlearn: 0.9225904\ttotal: 13.6s\tremaining: 20.4s\n",
            "2050:\tlearn: 0.9232994\ttotal: 14s\tremaining: 20.1s\n",
            "2100:\tlearn: 0.9239049\ttotal: 14.3s\tremaining: 19.7s\n",
            "2150:\tlearn: 0.9243352\ttotal: 14.6s\tremaining: 19.4s\n",
            "2200:\tlearn: 0.9248786\ttotal: 15s\tremaining: 19s\n",
            "2250:\tlearn: 0.9256407\ttotal: 15.3s\tremaining: 18.7s\n",
            "2300:\tlearn: 0.9262602\ttotal: 15.6s\tremaining: 18.3s\n",
            "2350:\tlearn: 0.9271126\ttotal: 16s\tremaining: 18s\n",
            "2400:\tlearn: 0.9275676\ttotal: 16.3s\tremaining: 17.6s\n",
            "2450:\tlearn: 0.9282030\ttotal: 16.6s\tremaining: 17.3s\n",
            "2500:\tlearn: 0.9288541\ttotal: 17s\tremaining: 17s\n",
            "2550:\tlearn: 0.9294251\ttotal: 17.3s\tremaining: 16.6s\n",
            "2600:\tlearn: 0.9299982\ttotal: 17.6s\tremaining: 16.3s\n",
            "2650:\tlearn: 0.9304366\ttotal: 18s\tremaining: 16s\n",
            "2700:\tlearn: 0.9310116\ttotal: 18.3s\tremaining: 15.6s\n",
            "2750:\tlearn: 0.9314597\ttotal: 18.7s\tremaining: 15.3s\n",
            "2800:\tlearn: 0.9320571\ttotal: 19s\tremaining: 14.9s\n",
            "2850:\tlearn: 0.9327585\ttotal: 19.4s\tremaining: 14.6s\n",
            "2900:\tlearn: 0.9335385\ttotal: 19.7s\tremaining: 14.3s\n",
            "2950:\tlearn: 0.9340274\ttotal: 20.1s\tremaining: 13.9s\n",
            "3000:\tlearn: 0.9344200\ttotal: 20.4s\tremaining: 13.6s\n",
            "3050:\tlearn: 0.9347717\ttotal: 20.7s\tremaining: 13.3s\n",
            "3100:\tlearn: 0.9355254\ttotal: 21.1s\tremaining: 12.9s\n",
            "3150:\tlearn: 0.9358115\ttotal: 21.4s\tremaining: 12.6s\n",
            "3200:\tlearn: 0.9360994\ttotal: 21.8s\tremaining: 12.2s\n",
            "3250:\tlearn: 0.9364530\ttotal: 22.1s\tremaining: 11.9s\n",
            "3300:\tlearn: 0.9369093\ttotal: 22.4s\tremaining: 11.5s\n",
            "3350:\tlearn: 0.9373077\ttotal: 22.8s\tremaining: 11.2s\n",
            "3400:\tlearn: 0.9376492\ttotal: 23.1s\tremaining: 10.9s\n",
            "3450:\tlearn: 0.9381056\ttotal: 23.4s\tremaining: 10.5s\n",
            "3500:\tlearn: 0.9385453\ttotal: 23.8s\tremaining: 10.2s\n",
            "3550:\tlearn: 0.9388598\ttotal: 24.1s\tremaining: 9.82s\n",
            "3600:\tlearn: 0.9392177\ttotal: 24.4s\tremaining: 9.48s\n",
            "3650:\tlearn: 0.9394380\ttotal: 24.7s\tremaining: 9.14s\n",
            "3700:\tlearn: 0.9398909\ttotal: 25.1s\tremaining: 8.8s\n",
            "3750:\tlearn: 0.9404189\ttotal: 25.4s\tremaining: 8.46s\n",
            "3800:\tlearn: 0.9407165\ttotal: 25.8s\tremaining: 8.13s\n",
            "3850:\tlearn: 0.9411550\ttotal: 26.1s\tremaining: 7.79s\n",
            "3900:\tlearn: 0.9414730\ttotal: 26.4s\tremaining: 7.44s\n",
            "3950:\tlearn: 0.9417264\ttotal: 26.8s\tremaining: 7.11s\n",
            "4000:\tlearn: 0.9422601\ttotal: 27.1s\tremaining: 6.77s\n",
            "4050:\tlearn: 0.9426088\ttotal: 27.4s\tremaining: 6.42s\n",
            "4100:\tlearn: 0.9428779\ttotal: 27.8s\tremaining: 6.09s\n",
            "4150:\tlearn: 0.9431373\ttotal: 28.1s\tremaining: 5.75s\n",
            "4200:\tlearn: 0.9434608\ttotal: 28.5s\tremaining: 5.41s\n",
            "4250:\tlearn: 0.9437144\ttotal: 28.8s\tremaining: 5.07s\n",
            "4300:\tlearn: 0.9441121\ttotal: 29.1s\tremaining: 4.74s\n",
            "4350:\tlearn: 0.9444794\ttotal: 29.5s\tremaining: 4.4s\n",
            "4400:\tlearn: 0.9448461\ttotal: 29.8s\tremaining: 4.06s\n",
            "4450:\tlearn: 0.9452584\ttotal: 30.2s\tremaining: 3.72s\n",
            "4500:\tlearn: 0.9455535\ttotal: 30.5s\tremaining: 3.38s\n",
            "4550:\tlearn: 0.9459012\ttotal: 30.8s\tremaining: 3.04s\n",
            "4600:\tlearn: 0.9461977\ttotal: 31.2s\tremaining: 2.7s\n",
            "4650:\tlearn: 0.9466480\ttotal: 31.5s\tremaining: 2.37s\n",
            "4700:\tlearn: 0.9469456\ttotal: 31.9s\tremaining: 2.03s\n",
            "4750:\tlearn: 0.9472758\ttotal: 32.2s\tremaining: 1.69s\n",
            "4800:\tlearn: 0.9477751\ttotal: 32.6s\tremaining: 1.35s\n",
            "4850:\tlearn: 0.9481118\ttotal: 32.9s\tremaining: 1.01s\n",
            "4900:\tlearn: 0.9483473\ttotal: 33.3s\tremaining: 672ms\n",
            "4950:\tlearn: 0.9486534\ttotal: 33.6s\tremaining: 333ms\n",
            "4999:\tlearn: 0.9490543\ttotal: 33.9s\tremaining: 0us\n",
            "Fold: 3, train-observations = 100799, valid-observations = 25200\n",
            "train-score = 0.7794, valid-score = 0.7109\n",
            "=====================================================================\n",
            "0:\tlearn: 0.6012771\ttotal: 7.3ms\tremaining: 36.5s\n",
            "50:\tlearn: 0.8594798\ttotal: 348ms\tremaining: 33.7s\n",
            "100:\tlearn: 0.8706665\ttotal: 677ms\tremaining: 32.8s\n",
            "150:\tlearn: 0.8749955\ttotal: 1.01s\tremaining: 32.5s\n",
            "200:\tlearn: 0.8783924\ttotal: 1.33s\tremaining: 31.9s\n",
            "250:\tlearn: 0.8805673\ttotal: 1.66s\tremaining: 31.5s\n",
            "300:\tlearn: 0.8825239\ttotal: 2.01s\tremaining: 31.4s\n",
            "350:\tlearn: 0.8851264\ttotal: 2.37s\tremaining: 31.4s\n",
            "400:\tlearn: 0.8861967\ttotal: 2.71s\tremaining: 31.1s\n",
            "450:\tlearn: 0.8874441\ttotal: 3.05s\tremaining: 30.8s\n",
            "500:\tlearn: 0.8894050\ttotal: 3.38s\tremaining: 30.3s\n",
            "550:\tlearn: 0.8911220\ttotal: 3.71s\tremaining: 30s\n",
            "600:\tlearn: 0.8925246\ttotal: 4.06s\tremaining: 29.7s\n",
            "650:\tlearn: 0.8941930\ttotal: 4.39s\tremaining: 29.3s\n",
            "700:\tlearn: 0.8952702\ttotal: 4.73s\tremaining: 29s\n",
            "750:\tlearn: 0.8972614\ttotal: 5.08s\tremaining: 28.8s\n",
            "800:\tlearn: 0.8988302\ttotal: 5.41s\tremaining: 28.4s\n",
            "850:\tlearn: 0.8999079\ttotal: 5.75s\tremaining: 28s\n",
            "900:\tlearn: 0.9011677\ttotal: 6.09s\tremaining: 27.7s\n",
            "950:\tlearn: 0.9026099\ttotal: 6.42s\tremaining: 27.4s\n",
            "1000:\tlearn: 0.9035715\ttotal: 6.76s\tremaining: 27s\n",
            "1050:\tlearn: 0.9048633\ttotal: 7.1s\tremaining: 26.7s\n",
            "1100:\tlearn: 0.9062219\ttotal: 7.42s\tremaining: 26.3s\n",
            "1150:\tlearn: 0.9071325\ttotal: 7.76s\tremaining: 25.9s\n",
            "1200:\tlearn: 0.9083983\ttotal: 8.1s\tremaining: 25.6s\n",
            "1250:\tlearn: 0.9091293\ttotal: 8.43s\tremaining: 25.3s\n",
            "1300:\tlearn: 0.9103182\ttotal: 8.76s\tremaining: 24.9s\n",
            "1350:\tlearn: 0.9113181\ttotal: 9.1s\tremaining: 24.6s\n",
            "1400:\tlearn: 0.9125264\ttotal: 9.43s\tremaining: 24.2s\n",
            "1450:\tlearn: 0.9131970\ttotal: 9.77s\tremaining: 23.9s\n",
            "1500:\tlearn: 0.9140744\ttotal: 10.1s\tremaining: 23.6s\n",
            "1550:\tlearn: 0.9146843\ttotal: 10.4s\tremaining: 23.2s\n",
            "1600:\tlearn: 0.9154305\ttotal: 10.8s\tremaining: 22.9s\n",
            "1650:\tlearn: 0.9161018\ttotal: 11.1s\tremaining: 22.6s\n",
            "1700:\tlearn: 0.9168576\ttotal: 11.5s\tremaining: 22.2s\n",
            "1750:\tlearn: 0.9175763\ttotal: 11.8s\tremaining: 21.9s\n",
            "1800:\tlearn: 0.9180173\ttotal: 12.1s\tremaining: 21.5s\n",
            "1850:\tlearn: 0.9186619\ttotal: 12.5s\tremaining: 21.2s\n",
            "1900:\tlearn: 0.9191039\ttotal: 12.8s\tremaining: 20.9s\n",
            "1950:\tlearn: 0.9198402\ttotal: 13.2s\tremaining: 20.6s\n",
            "2000:\tlearn: 0.9205198\ttotal: 13.5s\tremaining: 20.2s\n",
            "2050:\tlearn: 0.9211914\ttotal: 13.8s\tremaining: 19.9s\n",
            "2100:\tlearn: 0.9220421\ttotal: 14.1s\tremaining: 19.5s\n",
            "2150:\tlearn: 0.9225873\ttotal: 14.5s\tremaining: 19.2s\n",
            "2200:\tlearn: 0.9230745\ttotal: 14.8s\tremaining: 18.8s\n",
            "2250:\tlearn: 0.9237909\ttotal: 15.1s\tremaining: 18.5s\n",
            "2300:\tlearn: 0.9247804\ttotal: 15.5s\tremaining: 18.1s\n",
            "2350:\tlearn: 0.9254035\ttotal: 15.8s\tremaining: 17.8s\n",
            "2400:\tlearn: 0.9257196\ttotal: 16.1s\tremaining: 17.5s\n",
            "2450:\tlearn: 0.9263390\ttotal: 16.5s\tremaining: 17.1s\n",
            "2500:\tlearn: 0.9267997\ttotal: 16.8s\tremaining: 16.8s\n",
            "2550:\tlearn: 0.9273247\ttotal: 17.1s\tremaining: 16.4s\n",
            "2600:\tlearn: 0.9280326\ttotal: 17.5s\tremaining: 16.1s\n",
            "2650:\tlearn: 0.9286243\ttotal: 17.8s\tremaining: 15.8s\n",
            "2700:\tlearn: 0.9292793\ttotal: 18.1s\tremaining: 15.4s\n",
            "2750:\tlearn: 0.9296595\ttotal: 18.4s\tremaining: 15.1s\n",
            "2800:\tlearn: 0.9299935\ttotal: 18.8s\tremaining: 14.7s\n",
            "2850:\tlearn: 0.9305966\ttotal: 19.1s\tremaining: 14.4s\n",
            "2900:\tlearn: 0.9310271\ttotal: 19.5s\tremaining: 14.1s\n",
            "2950:\tlearn: 0.9314981\ttotal: 19.8s\tremaining: 13.7s\n",
            "3000:\tlearn: 0.9320200\ttotal: 20.1s\tremaining: 13.4s\n",
            "3050:\tlearn: 0.9323516\ttotal: 20.5s\tremaining: 13.1s\n",
            "3100:\tlearn: 0.9327924\ttotal: 20.8s\tremaining: 12.7s\n",
            "3150:\tlearn: 0.9331812\ttotal: 21.1s\tremaining: 12.4s\n",
            "3200:\tlearn: 0.9337314\ttotal: 21.5s\tremaining: 12.1s\n",
            "3250:\tlearn: 0.9341739\ttotal: 21.8s\tremaining: 11.7s\n",
            "3300:\tlearn: 0.9346400\ttotal: 22.1s\tremaining: 11.4s\n",
            "3350:\tlearn: 0.9349570\ttotal: 22.5s\tremaining: 11.1s\n",
            "3400:\tlearn: 0.9354926\ttotal: 22.8s\tremaining: 10.7s\n",
            "3450:\tlearn: 0.9359824\ttotal: 23.2s\tremaining: 10.4s\n",
            "3500:\tlearn: 0.9363254\ttotal: 23.5s\tremaining: 10.1s\n",
            "3550:\tlearn: 0.9366048\ttotal: 23.9s\tremaining: 9.74s\n",
            "3600:\tlearn: 0.9371944\ttotal: 24.2s\tremaining: 9.4s\n",
            "3650:\tlearn: 0.9377202\ttotal: 24.5s\tremaining: 9.07s\n",
            "3700:\tlearn: 0.9381090\ttotal: 24.9s\tremaining: 8.73s\n",
            "3750:\tlearn: 0.9386164\ttotal: 25.2s\tremaining: 8.4s\n",
            "3800:\tlearn: 0.9390080\ttotal: 25.6s\tremaining: 8.06s\n",
            "3850:\tlearn: 0.9394239\ttotal: 25.9s\tremaining: 7.72s\n",
            "3900:\tlearn: 0.9397486\ttotal: 26.2s\tremaining: 7.39s\n",
            "3950:\tlearn: 0.9401321\ttotal: 26.6s\tremaining: 7.05s\n",
            "4000:\tlearn: 0.9405654\ttotal: 26.9s\tremaining: 6.72s\n",
            "4050:\tlearn: 0.9409471\ttotal: 27.2s\tremaining: 6.38s\n",
            "4100:\tlearn: 0.9413124\ttotal: 27.6s\tremaining: 6.04s\n",
            "4150:\tlearn: 0.9416463\ttotal: 27.9s\tremaining: 5.71s\n",
            "4200:\tlearn: 0.9420213\ttotal: 28.3s\tremaining: 5.38s\n",
            "4250:\tlearn: 0.9425683\ttotal: 28.6s\tremaining: 5.04s\n",
            "4300:\tlearn: 0.9430757\ttotal: 29s\tremaining: 4.71s\n",
            "4350:\tlearn: 0.9435841\ttotal: 29.3s\tremaining: 4.37s\n",
            "4400:\tlearn: 0.9439342\ttotal: 29.6s\tremaining: 4.03s\n",
            "4450:\tlearn: 0.9442317\ttotal: 30s\tremaining: 3.7s\n",
            "4500:\tlearn: 0.9446875\ttotal: 30.3s\tremaining: 3.36s\n",
            "4550:\tlearn: 0.9449931\ttotal: 30.7s\tremaining: 3.02s\n",
            "4600:\tlearn: 0.9454455\ttotal: 31s\tremaining: 2.69s\n",
            "4650:\tlearn: 0.9456062\ttotal: 31.4s\tremaining: 2.35s\n",
            "4700:\tlearn: 0.9459294\ttotal: 31.7s\tremaining: 2.02s\n",
            "4750:\tlearn: 0.9464179\ttotal: 32s\tremaining: 1.68s\n",
            "4800:\tlearn: 0.9468837\ttotal: 32.4s\tremaining: 1.34s\n",
            "4850:\tlearn: 0.9472398\ttotal: 32.7s\tremaining: 1s\n",
            "4900:\tlearn: 0.9475279\ttotal: 33s\tremaining: 668ms\n",
            "4950:\tlearn: 0.9478090\ttotal: 33.4s\tremaining: 330ms\n",
            "4999:\tlearn: 0.9480115\ttotal: 33.7s\tremaining: 0us\n",
            "Fold: 4, train-observations = 100799, valid-observations = 25200\n",
            "train-score = 0.7796, valid-score = 0.7053\n",
            "=====================================================================\n",
            "0:\tlearn: 0.6818657\ttotal: 7.82ms\tremaining: 39.1s\n",
            "50:\tlearn: 0.8562139\ttotal: 362ms\tremaining: 35.1s\n",
            "100:\tlearn: 0.8632976\ttotal: 706ms\tremaining: 34.2s\n",
            "150:\tlearn: 0.8690784\ttotal: 1.05s\tremaining: 33.7s\n",
            "200:\tlearn: 0.8763010\ttotal: 1.42s\tremaining: 33.8s\n",
            "250:\tlearn: 0.8809704\ttotal: 1.76s\tremaining: 33.3s\n",
            "300:\tlearn: 0.8849861\ttotal: 2.09s\tremaining: 32.6s\n",
            "350:\tlearn: 0.8879895\ttotal: 2.44s\tremaining: 32.3s\n",
            "400:\tlearn: 0.8905407\ttotal: 2.78s\tremaining: 31.8s\n",
            "450:\tlearn: 0.8929614\ttotal: 3.11s\tremaining: 31.4s\n",
            "500:\tlearn: 0.8941987\ttotal: 3.45s\tremaining: 31s\n",
            "550:\tlearn: 0.8965087\ttotal: 3.78s\tremaining: 30.5s\n",
            "600:\tlearn: 0.8978452\ttotal: 4.1s\tremaining: 30s\n",
            "650:\tlearn: 0.8990677\ttotal: 4.44s\tremaining: 29.7s\n",
            "700:\tlearn: 0.9008236\ttotal: 4.77s\tremaining: 29.3s\n",
            "750:\tlearn: 0.9023216\ttotal: 5.09s\tremaining: 28.8s\n",
            "800:\tlearn: 0.9036804\ttotal: 5.43s\tremaining: 28.5s\n",
            "850:\tlearn: 0.9046702\ttotal: 5.76s\tremaining: 28.1s\n",
            "900:\tlearn: 0.9055646\ttotal: 6.09s\tremaining: 27.7s\n",
            "950:\tlearn: 0.9072053\ttotal: 6.43s\tremaining: 27.4s\n",
            "1000:\tlearn: 0.9078516\ttotal: 6.75s\tremaining: 27s\n",
            "1050:\tlearn: 0.9085056\ttotal: 7.08s\tremaining: 26.6s\n",
            "1100:\tlearn: 0.9096676\ttotal: 7.42s\tremaining: 26.3s\n",
            "1150:\tlearn: 0.9111801\ttotal: 7.78s\tremaining: 26s\n",
            "1200:\tlearn: 0.9121384\ttotal: 8.11s\tremaining: 25.7s\n",
            "1250:\tlearn: 0.9127256\ttotal: 8.46s\tremaining: 25.3s\n",
            "1300:\tlearn: 0.9137478\ttotal: 8.79s\tremaining: 25s\n",
            "1350:\tlearn: 0.9145240\ttotal: 9.11s\tremaining: 24.6s\n",
            "1400:\tlearn: 0.9152318\ttotal: 9.47s\tremaining: 24.3s\n",
            "1450:\tlearn: 0.9162172\ttotal: 9.8s\tremaining: 24s\n",
            "1500:\tlearn: 0.9171481\ttotal: 10.1s\tremaining: 23.6s\n",
            "1550:\tlearn: 0.9181217\ttotal: 10.5s\tremaining: 23.3s\n",
            "1600:\tlearn: 0.9188906\ttotal: 10.8s\tremaining: 23s\n",
            "1650:\tlearn: 0.9196290\ttotal: 11.1s\tremaining: 22.6s\n",
            "1700:\tlearn: 0.9200491\ttotal: 11.5s\tremaining: 22.3s\n",
            "1750:\tlearn: 0.9206345\ttotal: 11.8s\tremaining: 21.9s\n",
            "1800:\tlearn: 0.9212467\ttotal: 12.1s\tremaining: 21.6s\n",
            "1850:\tlearn: 0.9217394\ttotal: 12.5s\tremaining: 21.2s\n",
            "1900:\tlearn: 0.9225565\ttotal: 12.8s\tremaining: 20.9s\n",
            "1950:\tlearn: 0.9230280\ttotal: 13.1s\tremaining: 20.5s\n",
            "2000:\tlearn: 0.9235638\ttotal: 13.5s\tremaining: 20.2s\n",
            "2050:\tlearn: 0.9240542\ttotal: 13.8s\tremaining: 19.9s\n",
            "2100:\tlearn: 0.9245286\ttotal: 14.2s\tremaining: 19.5s\n",
            "2150:\tlearn: 0.9248536\ttotal: 14.5s\tremaining: 19.2s\n",
            "2200:\tlearn: 0.9253618\ttotal: 14.8s\tremaining: 18.9s\n",
            "2250:\tlearn: 0.9260952\ttotal: 15.2s\tremaining: 18.5s\n",
            "2300:\tlearn: 0.9266282\ttotal: 15.5s\tremaining: 18.2s\n",
            "2350:\tlearn: 0.9271531\ttotal: 15.9s\tremaining: 17.9s\n",
            "2400:\tlearn: 0.9275715\ttotal: 16.2s\tremaining: 17.5s\n",
            "2450:\tlearn: 0.9280396\ttotal: 16.5s\tremaining: 17.2s\n",
            "2500:\tlearn: 0.9285435\ttotal: 16.9s\tremaining: 16.9s\n",
            "2550:\tlearn: 0.9291464\ttotal: 17.2s\tremaining: 16.5s\n",
            "2600:\tlearn: 0.9297270\ttotal: 17.5s\tremaining: 16.2s\n",
            "2650:\tlearn: 0.9301337\ttotal: 17.9s\tremaining: 15.8s\n",
            "2700:\tlearn: 0.9305485\ttotal: 18.2s\tremaining: 15.5s\n",
            "2750:\tlearn: 0.9310752\ttotal: 18.5s\tremaining: 15.1s\n",
            "2800:\tlearn: 0.9316131\ttotal: 18.9s\tremaining: 14.8s\n",
            "2850:\tlearn: 0.9322318\ttotal: 19.2s\tremaining: 14.5s\n",
            "2900:\tlearn: 0.9329094\ttotal: 19.5s\tremaining: 14.1s\n",
            "2950:\tlearn: 0.9333848\ttotal: 19.9s\tremaining: 13.8s\n",
            "3000:\tlearn: 0.9339924\ttotal: 20.2s\tremaining: 13.5s\n",
            "3050:\tlearn: 0.9344002\ttotal: 20.6s\tremaining: 13.2s\n",
            "3100:\tlearn: 0.9347655\ttotal: 20.9s\tremaining: 12.8s\n",
            "3150:\tlearn: 0.9351915\ttotal: 21.3s\tremaining: 12.5s\n",
            "3200:\tlearn: 0.9357082\ttotal: 21.6s\tremaining: 12.2s\n",
            "3250:\tlearn: 0.9361569\ttotal: 22s\tremaining: 11.8s\n",
            "3300:\tlearn: 0.9367083\ttotal: 22.3s\tremaining: 11.5s\n",
            "3350:\tlearn: 0.9371977\ttotal: 22.7s\tremaining: 11.2s\n",
            "3400:\tlearn: 0.9376293\ttotal: 23s\tremaining: 10.8s\n",
            "3450:\tlearn: 0.9381322\ttotal: 23.4s\tremaining: 10.5s\n",
            "3500:\tlearn: 0.9385568\ttotal: 23.7s\tremaining: 10.2s\n",
            "3550:\tlearn: 0.9388785\ttotal: 24.1s\tremaining: 9.82s\n",
            "3600:\tlearn: 0.9392691\ttotal: 24.4s\tremaining: 9.49s\n",
            "3650:\tlearn: 0.9397739\ttotal: 24.8s\tremaining: 9.15s\n",
            "3700:\tlearn: 0.9399835\ttotal: 25.1s\tremaining: 8.81s\n",
            "3750:\tlearn: 0.9402826\ttotal: 25.5s\tremaining: 8.48s\n",
            "3800:\tlearn: 0.9406647\ttotal: 25.8s\tremaining: 8.14s\n",
            "3850:\tlearn: 0.9411727\ttotal: 26.1s\tremaining: 7.8s\n",
            "3900:\tlearn: 0.9415302\ttotal: 26.5s\tremaining: 7.46s\n",
            "3950:\tlearn: 0.9419564\ttotal: 26.8s\tremaining: 7.12s\n",
            "4000:\tlearn: 0.9423031\ttotal: 27.2s\tremaining: 6.78s\n",
            "4050:\tlearn: 0.9426363\ttotal: 27.5s\tremaining: 6.45s\n",
            "4100:\tlearn: 0.9429381\ttotal: 27.9s\tremaining: 6.11s\n",
            "4150:\tlearn: 0.9431802\ttotal: 28.2s\tremaining: 5.77s\n",
            "4200:\tlearn: 0.9436681\ttotal: 28.6s\tremaining: 5.43s\n",
            "4250:\tlearn: 0.9439265\ttotal: 28.9s\tremaining: 5.09s\n",
            "4300:\tlearn: 0.9442037\ttotal: 29.3s\tremaining: 4.75s\n",
            "4350:\tlearn: 0.9444523\ttotal: 29.6s\tremaining: 4.41s\n",
            "4400:\tlearn: 0.9448444\ttotal: 29.9s\tremaining: 4.07s\n",
            "4450:\tlearn: 0.9451565\ttotal: 30.3s\tremaining: 3.74s\n",
            "4500:\tlearn: 0.9455244\ttotal: 30.6s\tremaining: 3.4s\n",
            "4550:\tlearn: 0.9458790\ttotal: 31s\tremaining: 3.06s\n",
            "4600:\tlearn: 0.9463096\ttotal: 31.3s\tremaining: 2.72s\n",
            "4650:\tlearn: 0.9465856\ttotal: 31.7s\tremaining: 2.38s\n",
            "4700:\tlearn: 0.9470189\ttotal: 32s\tremaining: 2.04s\n",
            "4750:\tlearn: 0.9473176\ttotal: 32.4s\tremaining: 1.7s\n",
            "4800:\tlearn: 0.9476649\ttotal: 32.7s\tremaining: 1.35s\n",
            "4850:\tlearn: 0.9478932\ttotal: 33.1s\tremaining: 1.01s\n",
            "4900:\tlearn: 0.9481338\ttotal: 33.4s\tremaining: 674ms\n",
            "4950:\tlearn: 0.9485170\ttotal: 33.7s\tremaining: 334ms\n",
            "4999:\tlearn: 0.9486596\ttotal: 34.1s\tremaining: 0us\n",
            "Fold: 5, train-observations = 100800, valid-observations = 25199\n",
            "train-score = 0.7909, valid-score = 0.6522\n",
            "=====================================================================\n",
            "CV-results train: 0.7854 +/- 0.005\n",
            "CV-results valid: 0.6747 +/- 0.031\n",
            "OOF-score = 0.674\n"
          ],
          "name": "stdout"
        }
      ]
    },
    {
      "cell_type": "code",
      "metadata": {
        "id": "BRCj3Ik5kgCU"
      },
      "source": [
        "train_pred = model_catb_5.predict_proba(x_train[numerical_features])\r\n",
        "valid_pred = model_catb_5.predict_proba(x_valid[numerical_features])\r\n",
        "lb_pred = model_catb_5.predict_proba(x_lb[numerical_features])"
      ],
      "execution_count": 53,
      "outputs": []
    },
    {
      "cell_type": "code",
      "metadata": {
        "colab": {
          "base_uri": "https://localhost:8080/",
          "height": 320
        },
        "id": "yLsfQ-J7qJNh",
        "outputId": "3b721168-4739-410b-f4b6-6592dfc615e7"
      },
      "source": [
        "fig = plt.figure(figsize=(10, 5))\r\n",
        "train_fpr_catb, train_tpr_catb, _ = metrics.roc_curve(y_train,  train_pred[:, 1])\r\n",
        "train_auc_catb = metrics.roc_auc_score(y_train, train_pred[:, 1])\r\n",
        "valid_fpr_catb, valid_tpr_catb, _ = metrics.roc_curve(y_valid,  valid_pred[:, 1])\r\n",
        "valid_auc_catb = metrics.roc_auc_score(y_valid, valid_pred[:, 1])\r\n",
        "lb_fpr_catb, lb_tpr_catb, _ = metrics.roc_curve(y_lb,  lb_pred[:, 1])\r\n",
        "lb_auc_catb = metrics.roc_auc_score(y_lb, lb_pred[:, 1])\r\n",
        "plt.plot(train_fpr_catb, train_tpr_catb, label=\"train, auc=\"+str(train_auc_catb))\r\n",
        "plt.plot(valid_fpr_catb, valid_tpr_catb, label=\"valid, auc=\"+str(valid_auc_catb))\r\n",
        "plt.plot(lb_fpr_catb, lb_tpr_catb, label=\"liderboard, auc=\"+str(lb_auc_catb))\r\n",
        "plt.legend(loc=4)\r\n",
        "plt.grid()\r\n",
        "plt.show()"
      ],
      "execution_count": 54,
      "outputs": [
        {
          "output_type": "display_data",
          "data": {
            "image/png": "[encoded data removed]",
            "text/plain": [
              "<Figure size 720x360 with 1 Axes>"
            ]
          },
          "metadata": {
            "tags": [],
            "needs_background": "light"
          }
        }
      ]
    },
    {
      "cell_type": "code",
      "metadata": {
        "colab": {
          "base_uri": "https://localhost:8080/"
        },
        "id": "4rw2gAPEsKUy",
        "outputId": "e2efaf9e-bcb4-4f04-8482-601d46407c84"
      },
      "source": [
        "np.random.seed(27)\r\n",
        "train_scores = create_bootstrap_metrics(y_train, model_catb_5.predict_proba(x_train[numerical_features])[:, 1], roc_auc_score)\r\n",
        "valid_scores = create_bootstrap_metrics(y_valid, model_catb_5.predict_proba(x_valid[numerical_features])[:, 1], roc_auc_score)\r\n",
        "lb_scores = create_bootstrap_metrics(y_lb, model_catb_5.predict_proba(x_lb[numerical_features])[:, 1], roc_auc_score)\r\n",
        "print(f'Train confidence interval = {calculate_confidence_interval(train_scores)}')\r\n",
        "print(f'Valid confidence interval = {calculate_confidence_interval(valid_scores)}')\r\n",
        "print(f'Lb confidence interval = {calculate_confidence_interval(lb_scores)}')\r\n",
        "print(f'Liderboard score = {lb_auc_catb}')"
      ],
      "execution_count": 55,
      "outputs": [
        {
          "output_type": "stream",
          "text": [
            "Train confidence interval = (0.9297470461250635, 0.9411803471595076)\n",
            "Valid confidence interval = (0.8605560290746121, 0.8795453180044395)\n",
            "Lb confidence interval = (0.8365149074610858, 0.8510166422897424)\n",
            "Liderboard score = 0.8439994945200245\n"
          ],
          "name": "stdout"
        }
      ]
    },
    {
      "cell_type": "code",
      "metadata": {
        "colab": {
          "base_uri": "https://localhost:8080/",
          "height": 514
        },
        "id": "52f2Pevnsiy5",
        "outputId": "09f6f61d-2fdd-4e04-9525-7a43c2a880e8"
      },
      "source": [
        "fig = plt.figure(figsize=(15, 5))\r\n",
        "plt.suptitle(\"Bootstrap for evaluating validation stability\", size=15)\r\n",
        "sns.distplot(train_scores,  color=\"green\", bins=20, label='train')\r\n",
        "sns.distplot(valid_scores,  color=\"red\", bins=20, label='valid')\r\n",
        "sns.distplot(lb_scores,  color=\"blue\", bins=20, label='lb')\r\n",
        "plt.xlabel(\"sampel number\", size=15)\r\n",
        "plt.legend()"
      ],
      "execution_count": 56,
      "outputs": [
        {
          "output_type": "stream",
          "text": [
            "/usr/local/lib/python3.7/dist-packages/seaborn/distributions.py:2557: FutureWarning: `distplot` is a deprecated function and will be removed in a future version. Please adapt your code to use either `displot` (a figure-level function with similar flexibility) or `histplot` (an axes-level function for histograms).\n",
            "  warnings.warn(msg, FutureWarning)\n",
            "/usr/local/lib/python3.7/dist-packages/seaborn/distributions.py:2557: FutureWarning: `distplot` is a deprecated function and will be removed in a future version. Please adapt your code to use either `displot` (a figure-level function with similar flexibility) or `histplot` (an axes-level function for histograms).\n",
            "  warnings.warn(msg, FutureWarning)\n",
            "/usr/local/lib/python3.7/dist-packages/seaborn/distributions.py:2557: FutureWarning: `distplot` is a deprecated function and will be removed in a future version. Please adapt your code to use either `displot` (a figure-level function with similar flexibility) or `histplot` (an axes-level function for histograms).\n",
            "  warnings.warn(msg, FutureWarning)\n"
          ],
          "name": "stderr"
        },
        {
          "output_type": "execute_result",
          "data": {
            "text/plain": [
              "<matplotlib.legend.Legend at 0x7f46f8702290>"
            ]
          },
          "metadata": {
            "tags": []
          },
          "execution_count": 56
        },
        {
          "output_type": "display_data",
          "data": {
            "image/png": "[encoded data removed]",
            "text/plain": [
              "<Figure size 1080x360 with 1 Axes>"
            ]
          },
          "metadata": {
            "tags": [],
            "needs_background": "light"
          }
        }
      ]
    },
    {
      "cell_type": "markdown",
      "metadata": {
        "id": "u4ENg9XgrxNy"
      },
      "source": [
        "Вывод: использование перекрестной валидации привело еще к большему разрыву в AUC на train и valid. Результат на liderboard не попал в доверительный интервал на valid. В процессе кросс-валидации полученные метрики оказались гораздо ниже итоговых. "
      ]
    },
    {
      "cell_type": "markdown",
      "metadata": {
        "id": "02WBbd810yQG"
      },
      "source": [
        "## Задание 6 (опциональное): сделать Hold-Out валидацию по времени (TransactionDT), повторить процедуры из п.1 / п.2 (на ваш выбор). Построить доверительный интервал, сравнить качество на ЛБ выборке с полученным доверительным интервалом. Сделать выводы."
      ]
    },
    {
      "cell_type": "code",
      "metadata": {
        "id": "bdIb7DP7qRm9"
      },
      "source": [
        "data = pd.read_csv(\"/content/drive/MyDrive/assignment_2_train.csv\")\r\n",
        "lb = pd.read_csv(\"/content/drive/MyDrive/assignment_2_test.csv\")"
      ],
      "execution_count": 57,
      "outputs": []
    },
    {
      "cell_type": "code",
      "metadata": {
        "id": "w4fdRNFm6DPB"
      },
      "source": [
        "data.sort_values(by='TransactionDT', inplace=True, ascending=True)"
      ],
      "execution_count": 58,
      "outputs": []
    },
    {
      "cell_type": "code",
      "metadata": {
        "id": "DBxNQRPm-rnk"
      },
      "source": [
        "categorical = data.select_dtypes(include='object')\r\n",
        "categorical_feature_names = categorical.columns.to_list()"
      ],
      "execution_count": 59,
      "outputs": []
    },
    {
      "cell_type": "code",
      "metadata": {
        "id": "ipZLMBfJ-eyA"
      },
      "source": [
        "for feature in categorical_feature_names:\r\n",
        "    data[feature] = data[feature].astype(str)\r\n",
        "    lb[feature] = lb[feature].astype(str)"
      ],
      "execution_count": 60,
      "outputs": []
    },
    {
      "cell_type": "code",
      "metadata": {
        "id": "rETE2l6E3dKe"
      },
      "source": [
        "y_lb = lb['isFraud']\r\n",
        "x_lb = lb.drop(columns=['isFraud'])\r\n",
        "\r\n",
        "y = data['isFraud']\r\n",
        "X = data.drop(columns=['isFraud'])"
      ],
      "execution_count": 61,
      "outputs": []
    },
    {
      "cell_type": "code",
      "metadata": {
        "id": "ajI_Rdvt5uRN"
      },
      "source": [
        "x_train, x_valid, y_train, y_valid = train_test_split(\r\n",
        "    X, y, train_size=0.6, shuffle=False, random_state=1,\r\n",
        ")\r\n",
        "\r\n",
        "x_valid, x_test, y_valid, y_test = train_test_split(\r\n",
        "    x_valid, y_valid, train_size=0.5, shuffle=False, random_state=1,\r\n",
        ")"
      ],
      "execution_count": 62,
      "outputs": []
    },
    {
      "cell_type": "code",
      "metadata": {
        "id": "84dIb39u59__"
      },
      "source": [
        "cb_params = {\r\n",
        "    \"n_estimators\": 5000,\r\n",
        "    \"loss_function\": \"Logloss\",\r\n",
        "    \"eval_metric\": \"AUC\",\r\n",
        "    \"max_bin\": 20,\r\n",
        "    \"verbose\": 50,\r\n",
        "    \"max_depth\": 4,\r\n",
        "    \"l2_leaf_reg\": 100,\r\n",
        "    \"early_stopping_rounds\": 50,\r\n",
        "    \"thread_count\": 6,\r\n",
        "    \"random_seed\": 27,\r\n",
        "    'learning_rate': 0.1,\r\n",
        "    'task_type': 'GPU',\r\n",
        "    'one_hot_max_size': 100\r\n",
        "}"
      ],
      "execution_count": 63,
      "outputs": []
    },
    {
      "cell_type": "code",
      "metadata": {
        "colab": {
          "base_uri": "https://localhost:8080/"
        },
        "id": "JZIuLuLW7L7L",
        "outputId": "e5415c38-6bf0-4eac-a2ba-9b78e2188050"
      },
      "source": [
        "model_catb_6 = cb.CatBoostClassifier(**cb_params)\r\n",
        "model_catb_6.fit(x_train, y_train, eval_set=[(x_valid, y_valid)], cat_features=categorical_feature_names)"
      ],
      "execution_count": 64,
      "outputs": [
        {
          "output_type": "stream",
          "text": [
            "0:\tlearn: 0.6734405\ttest: 0.6516944\tbest: 0.6516944 (0)\ttotal: 16.4ms\tremaining: 1m 22s\n",
            "50:\tlearn: 0.8663189\ttest: 0.8492354\tbest: 0.8493204 (49)\ttotal: 645ms\tremaining: 1m 2s\n",
            "100:\tlearn: 0.8786885\ttest: 0.8596828\tbest: 0.8596829 (99)\ttotal: 1.11s\tremaining: 54.1s\n",
            "150:\tlearn: 0.8834132\ttest: 0.8625378\tbest: 0.8627122 (141)\ttotal: 1.6s\tremaining: 51.3s\n",
            "200:\tlearn: 0.8881715\ttest: 0.8660166\tbest: 0.8660166 (200)\ttotal: 2.06s\tremaining: 49.1s\n",
            "250:\tlearn: 0.8929076\ttest: 0.8678997\tbest: 0.8679869 (247)\ttotal: 2.52s\tremaining: 47.7s\n",
            "300:\tlearn: 0.8954273\ttest: 0.8693374\tbest: 0.8693382 (298)\ttotal: 2.97s\tremaining: 46.4s\n",
            "350:\tlearn: 0.8982363\ttest: 0.8715367\tbest: 0.8715367 (350)\ttotal: 3.43s\tremaining: 45.5s\n",
            "400:\tlearn: 0.9006917\ttest: 0.8722298\tbest: 0.8722399 (399)\ttotal: 3.92s\tremaining: 45s\n",
            "450:\tlearn: 0.9026832\ttest: 0.8734644\tbest: 0.8735213 (448)\ttotal: 4.38s\tremaining: 44.2s\n",
            "500:\tlearn: 0.9044489\ttest: 0.8748258\tbest: 0.8748783 (498)\ttotal: 4.85s\tremaining: 43.5s\n",
            "550:\tlearn: 0.9057024\ttest: 0.8756748\tbest: 0.8756807 (549)\ttotal: 5.31s\tremaining: 42.9s\n",
            "600:\tlearn: 0.9080933\ttest: 0.8776197\tbest: 0.8776242 (593)\ttotal: 5.77s\tremaining: 42.2s\n",
            "650:\tlearn: 0.9091876\ttest: 0.8777606\tbest: 0.8777606 (650)\ttotal: 6.23s\tremaining: 41.6s\n",
            "700:\tlearn: 0.9103366\ttest: 0.8783725\tbest: 0.8783788 (698)\ttotal: 6.7s\tremaining: 41.1s\n",
            "750:\tlearn: 0.9115460\ttest: 0.8795347\tbest: 0.8795400 (749)\ttotal: 7.16s\tremaining: 40.5s\n",
            "800:\tlearn: 0.9128136\ttest: 0.8800435\tbest: 0.8800547 (792)\ttotal: 7.63s\tremaining: 40s\n",
            "850:\tlearn: 0.9147228\ttest: 0.8807612\tbest: 0.8808909 (847)\ttotal: 8.08s\tremaining: 39.4s\n",
            "bestTest = 0.8808908761\n",
            "bestIteration = 847\n",
            "Shrink model to first 848 iterations.\n"
          ],
          "name": "stdout"
        },
        {
          "output_type": "execute_result",
          "data": {
            "text/plain": [
              "<catboost.core.CatBoostClassifier at 0x7f47186a2090>"
            ]
          },
          "metadata": {
            "tags": []
          },
          "execution_count": 64
        }
      ]
    },
    {
      "cell_type": "code",
      "metadata": {
        "id": "xeijq0rG7hr4"
      },
      "source": [
        "train_pred = model_catb_6.predict_proba(x_train)\r\n",
        "valid_pred = model_catb_6.predict_proba(x_valid)\r\n",
        "test_pred = model_catb_6.predict_proba(x_test)\r\n",
        "lb_pred = model_catb_6.predict_proba(x_lb)"
      ],
      "execution_count": 65,
      "outputs": []
    },
    {
      "cell_type": "code",
      "metadata": {
        "colab": {
          "base_uri": "https://localhost:8080/",
          "height": 320
        },
        "id": "MaF8LuXg8BE4",
        "outputId": "8e7b4fab-e363-498d-8c12-98283bfd17af"
      },
      "source": [
        "fig = plt.figure(figsize=(10, 5))\r\n",
        "train_fpr_catb, train_tpr_catb, _ = metrics.roc_curve(y_train,  train_pred[:, 1])\r\n",
        "train_auc_catb = metrics.roc_auc_score(y_train, train_pred[:, 1])\r\n",
        "valid_fpr_catb, valid_tpr_catb, _ = metrics.roc_curve(y_valid,  valid_pred[:, 1])\r\n",
        "valid_auc_catb = metrics.roc_auc_score(y_valid, valid_pred[:, 1])\r\n",
        "test_fpr_catb, test_tpr_catb, _ = metrics.roc_curve(y_test,  test_pred[:, 1])\r\n",
        "test_auc_catb = metrics.roc_auc_score(y_test, test_pred[:, 1])\r\n",
        "lb_fpr_catb, lb_tpr_catb, _ = metrics.roc_curve(y_lb,  lb_pred[:, 1])\r\n",
        "lb_auc_catb = metrics.roc_auc_score(y_lb, lb_pred[:, 1])\r\n",
        "plt.plot(train_fpr_catb, train_tpr_catb, label=\"train, auc=\"+str(train_auc_catb))\r\n",
        "plt.plot(valid_fpr_catb, valid_tpr_catb, label=\"valid, auc=\"+str(valid_auc_catb))\r\n",
        "plt.plot(test_fpr_catb, test_tpr_catb, label=\"test, auc=\"+str(test_auc_catb))\r\n",
        "plt.plot(lb_fpr_catb, lb_tpr_catb, label=\"liderboard, auc=\"+str(lb_auc_catb))\r\n",
        "plt.legend(loc=4)\r\n",
        "plt.grid()\r\n",
        "plt.show()"
      ],
      "execution_count": 66,
      "outputs": [
        {
          "output_type": "display_data",
          "data": {
            "image/png": "[encoded data removed]",
            "text/plain": [
              "<Figure size 720x360 with 1 Axes>"
            ]
          },
          "metadata": {
            "tags": [],
            "needs_background": "light"
          }
        }
      ]
    },
    {
      "cell_type": "code",
      "metadata": {
        "colab": {
          "base_uri": "https://localhost:8080/"
        },
        "id": "gnVxTiWf8Kfg",
        "outputId": "e75115ae-e5f4-488f-f2e1-82866c21bdba"
      },
      "source": [
        "np.random.seed(27)\r\n",
        "train_scores = create_bootstrap_metrics(y_train, model_catb_6.predict_proba(x_train)[:, 1], roc_auc_score)\r\n",
        "valid_scores = create_bootstrap_metrics(y_valid, model_catb_6.predict_proba(x_valid)[:, 1], roc_auc_score)\r\n",
        "test_scores = create_bootstrap_metrics(y_test, model_catb_6.predict_proba(x_test)[:, 1], roc_auc_score)\r\n",
        "lb_scores = create_bootstrap_metrics(y_lb, model_catb_6.predict_proba(x_lb)[:, 1], roc_auc_score)\r\n",
        "print(f'Train confidence interval = {calculate_confidence_interval(train_scores)}')\r\n",
        "print(f'Valid confidence interval = {calculate_confidence_interval(valid_scores)}')\r\n",
        "print(f'Test confidence interval = {calculate_confidence_interval(test_scores)}')\r\n",
        "print(f'Lb confidence interval = {calculate_confidence_interval(lb_scores)}')\r\n",
        "print(f'Liderboard score = {lb_auc_catb}')"
      ],
      "execution_count": 67,
      "outputs": [
        {
          "output_type": "stream",
          "text": [
            "Train confidence interval = (0.9074830506076219, 0.9209240598974576)\n",
            "Valid confidence interval = (0.8674921153940742, 0.8929874354166495)\n",
            "Test confidence interval = (0.8595920488335932, 0.8820439937724053)\n",
            "Lb confidence interval = (0.8521048150610748, 0.8656297395461208)\n",
            "Liderboard score = 0.8588308809908322\n"
          ],
          "name": "stdout"
        }
      ]
    },
    {
      "cell_type": "code",
      "metadata": {
        "colab": {
          "base_uri": "https://localhost:8080/",
          "height": 548
        },
        "id": "A5VxezvG_wSy",
        "outputId": "515561fe-7b1b-43d1-eac6-7bb59587d52d"
      },
      "source": [
        "fig = plt.figure(figsize=(15, 5))\r\n",
        "plt.suptitle(\"Bootstrap for evaluating validation stability\", size=15)\r\n",
        "sns.distplot(train_scores,  color=\"green\", bins=20, label='train')\r\n",
        "sns.distplot(valid_scores,  color=\"red\", bins=20, label='valid')\r\n",
        "sns.distplot(test_scores,  color=\"blue\", bins=20, label='test')\r\n",
        "sns.distplot(lb_scores,  color=\"orange\", bins=20, label='lb')\r\n",
        "plt.xlabel(\"sampel number\", size=15)\r\n",
        "plt.legend()"
      ],
      "execution_count": 68,
      "outputs": [
        {
          "output_type": "stream",
          "text": [
            "/usr/local/lib/python3.7/dist-packages/seaborn/distributions.py:2557: FutureWarning: `distplot` is a deprecated function and will be removed in a future version. Please adapt your code to use either `displot` (a figure-level function with similar flexibility) or `histplot` (an axes-level function for histograms).\n",
            "  warnings.warn(msg, FutureWarning)\n",
            "/usr/local/lib/python3.7/dist-packages/seaborn/distributions.py:2557: FutureWarning: `distplot` is a deprecated function and will be removed in a future version. Please adapt your code to use either `displot` (a figure-level function with similar flexibility) or `histplot` (an axes-level function for histograms).\n",
            "  warnings.warn(msg, FutureWarning)\n",
            "/usr/local/lib/python3.7/dist-packages/seaborn/distributions.py:2557: FutureWarning: `distplot` is a deprecated function and will be removed in a future version. Please adapt your code to use either `displot` (a figure-level function with similar flexibility) or `histplot` (an axes-level function for histograms).\n",
            "  warnings.warn(msg, FutureWarning)\n",
            "/usr/local/lib/python3.7/dist-packages/seaborn/distributions.py:2557: FutureWarning: `distplot` is a deprecated function and will be removed in a future version. Please adapt your code to use either `displot` (a figure-level function with similar flexibility) or `histplot` (an axes-level function for histograms).\n",
            "  warnings.warn(msg, FutureWarning)\n"
          ],
          "name": "stderr"
        },
        {
          "output_type": "execute_result",
          "data": {
            "text/plain": [
              "<matplotlib.legend.Legend at 0x7f46d2ee28d0>"
            ]
          },
          "metadata": {
            "tags": []
          },
          "execution_count": 68
        },
        {
          "output_type": "display_data",
          "data": {
            "image/png": "[encoded data removed]",
            "text/plain": [
              "<Figure size 1080x360 with 1 Axes>"
            ]
          },
          "metadata": {
            "tags": [],
            "needs_background": "light"
          }
        }
      ]
    },
    {
      "cell_type": "markdown",
      "metadata": {
        "id": "TiG80CfVA-7J"
      },
      "source": [
        "Вывод: результат почти совпадает с тем, который получен в пунктах 2,3. Это доказывает то, что TransactionID и TransactionDT имеют прямую линейную связь. При сортировке по одному и другому признаку порядок данных в датасете не меняется. train, valid и test выборки при разбиении по TransactionID не будут отличаться от тех, которые разбивались по TransactionDT. Также по результатам видно, что скор на лидерборде не попал в доверительный интервал на тестовой выборке. Ярко выражен сдвиг доверительных интервалов, что свидетельствует о том, что со временем (увеличением TransactionID и TransactionDT) распределения в данных изменялось. Поэтому разделять исходный датасет на части по этим признакам неправильно."
      ]
    }
  ]
}