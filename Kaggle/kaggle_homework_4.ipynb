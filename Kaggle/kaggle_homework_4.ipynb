{
  "nbformat": 4,
  "nbformat_minor": 0,
  "metadata": {
    "colab": {
      "name": "kaggle_homework_5.ipynb",
      "provenance": [],
      "collapsed_sections": [],
      "toc_visible": true
    },
    "kernelspec": {
      "name": "python3",
      "display_name": "Python 3"
    }
  },
  "cells": [
    {
      "cell_type": "markdown",
      "metadata": {
        "id": "y8TFPT9sw7sp"
      },
      "source": [
        "# Спортивный анализ данных. Платформа Kaggle. Домашнее задание №5"
      ]
    },
    {
      "cell_type": "markdown",
      "metadata": {
        "id": "j9yLn2j9Y-DH"
      },
      "source": [
        "## Продолжим работу с данными, которые были использованы в ДЗ2 и 3, продолжим решать задачу обнаружения мошеннических транзакций, что позволит получить полное решение задачи / полный пайплайн.\n",
        "\n",
        "## Задание 0: выбрать любую модель машнного обучения и зафиксировать любой тип валидации. Обучить базовую модель и зафиксировать базовое качество модели. В каждом следующем задании нужно будет обучить выбранную модель и оценивать ее качество на зафиксированной схеме валидации. После каждого задания, требуется сделать вывод о достигаемом качестве модели, по сравнению с качестом из предыдущего шага."
      ]
    },
    {
      "cell_type": "markdown",
      "metadata": {
        "id": "SzbpKIUUxHPt"
      },
      "source": [
        "### Загрузим датасет"
      ]
    },
    {
      "cell_type": "code",
      "metadata": {
        "id": "mo3gyevfxfnR",
        "colab": {
          "base_uri": "https://localhost:8080/"
        },
        "outputId": "b71b7cad-1176-4ad5-b8af-76f2382179bf"
      },
      "source": [
        "from typing import List, Optional\n",
        "from tqdm import tqdm\n",
        "from typing import List, Tuple\n",
        "\n",
        "import numpy as np\n",
        "import pandas as pd\n",
        "import matplotlib as mpl\n",
        "import matplotlib.pyplot as plt\n",
        "\n",
        "import seaborn as sns\n",
        "import scipy.stats as st\n",
        "from scipy.stats import probplot, ks_2samp\n",
        "\n",
        "from sklearn import metrics\n",
        "from sklearn.ensemble import RandomForestRegressor\n",
        "from sklearn.model_selection import KFold, cross_val_score\n",
        "from sklearn.base import BaseEstimator, TransformerMixin\n",
        "from sklearn.utils.validation import check_is_fitted\n",
        "import missingno as msno\n",
        "import xgboost as xgb\n",
        "%matplotlib inline\n",
        "\n",
        "from sklearn.model_selection import train_test_split\n",
        "from sklearn.metrics import roc_auc_score\n",
        "from sklearn.preprocessing import OneHotEncoder\n",
        "import lightgbm as lgb\n",
        "!pip install catboost\n",
        "import catboost as cb"
      ],
      "execution_count": 1,
      "outputs": [
        {
          "output_type": "stream",
          "text": [
            "Collecting catboost\n",
            "\u001b[?25l  Downloading https://files.pythonhosted.org/packages/1e/21/d1718eb4c93d6bacdd540b3792187f32ccb1ad9c51b9c4f10875d63ec176/catboost-0.25-cp37-none-manylinux1_x86_64.whl (67.3MB)\n",
            "\u001b[K     |████████████████████████████████| 67.3MB 48kB/s \n",
            "\u001b[?25hRequirement already satisfied: numpy>=1.16.0 in /usr/local/lib/python3.7/dist-packages (from catboost) (1.19.5)\n",
            "Requirement already satisfied: six in /usr/local/lib/python3.7/dist-packages (from catboost) (1.15.0)\n",
            "Requirement already satisfied: matplotlib in /usr/local/lib/python3.7/dist-packages (from catboost) (3.2.2)\n",
            "Requirement already satisfied: plotly in /usr/local/lib/python3.7/dist-packages (from catboost) (4.4.1)\n",
            "Requirement already satisfied: graphviz in /usr/local/lib/python3.7/dist-packages (from catboost) (0.10.1)\n",
            "Requirement already satisfied: scipy in /usr/local/lib/python3.7/dist-packages (from catboost) (1.4.1)\n",
            "Requirement already satisfied: pandas>=0.24.0 in /usr/local/lib/python3.7/dist-packages (from catboost) (1.1.5)\n",
            "Requirement already satisfied: cycler>=0.10 in /usr/local/lib/python3.7/dist-packages (from matplotlib->catboost) (0.10.0)\n",
            "Requirement already satisfied: python-dateutil>=2.1 in /usr/local/lib/python3.7/dist-packages (from matplotlib->catboost) (2.8.1)\n",
            "Requirement already satisfied: pyparsing!=2.0.4,!=2.1.2,!=2.1.6,>=2.0.1 in /usr/local/lib/python3.7/dist-packages (from matplotlib->catboost) (2.4.7)\n",
            "Requirement already satisfied: kiwisolver>=1.0.1 in /usr/local/lib/python3.7/dist-packages (from matplotlib->catboost) (1.3.1)\n",
            "Requirement already satisfied: retrying>=1.3.3 in /usr/local/lib/python3.7/dist-packages (from plotly->catboost) (1.3.3)\n",
            "Requirement already satisfied: pytz>=2017.2 in /usr/local/lib/python3.7/dist-packages (from pandas>=0.24.0->catboost) (2018.9)\n",
            "Installing collected packages: catboost\n",
            "Successfully installed catboost-0.25\n"
          ],
          "name": "stdout"
        }
      ]
    },
    {
      "cell_type": "code",
      "metadata": {
        "colab": {
          "base_uri": "https://localhost:8080/"
        },
        "id": "edA7sgGNbdgA",
        "outputId": "24b14966-7c64-4f44-8e72-ad786b9d2eda"
      },
      "source": [
        "from google.colab import drive\n",
        "drive.mount('/content/drive')"
      ],
      "execution_count": 3,
      "outputs": [
        {
          "output_type": "stream",
          "text": [
            "Mounted at /content/drive\n"
          ],
          "name": "stdout"
        }
      ]
    },
    {
      "cell_type": "markdown",
      "metadata": {
        "id": "Vlc7DXHv-SWx"
      },
      "source": [
        "Загрузка датасета и вывод размерностей"
      ]
    },
    {
      "cell_type": "code",
      "metadata": {
        "colab": {
          "base_uri": "https://localhost:8080/"
        },
        "id": "bKa-pGe_xipP",
        "outputId": "850e2358-efd6-44d4-eac9-201fc03f01d5"
      },
      "source": [
        "data = pd.read_csv(\"/content/drive/MyDrive/assignment_2_train.csv\")\n",
        "lb = pd.read_csv(\"/content/drive/MyDrive/assignment_2_test.csv\")\n",
        "\n",
        "print(\"data.shape = {} rows, {} cols\".format(*data.shape))\n",
        "print(\"lb.shape = {} rows, {} cols\".format(*lb.shape))"
      ],
      "execution_count": 69,
      "outputs": [
        {
          "output_type": "stream",
          "text": [
            "data.shape = 180000 rows, 394 cols\n",
            "lb.shape = 100001 rows, 394 cols\n"
          ],
          "name": "stdout"
        }
      ]
    },
    {
      "cell_type": "code",
      "metadata": {
        "id": "cCisEDWRf8I_"
      },
      "source": [
        "def create_bootstrap_samples(data: np.array, n_samples: int = 1000) -> np.array:\n",
        "    \"\"\"\n",
        "    Создание бутстреп-выборок.\n",
        "\n",
        "    Parameters\n",
        "    ----------\n",
        "    data: np.array\n",
        "        Исходная выборка, которая будет использоваться для\n",
        "        создания бутстреп выборок.\n",
        "\n",
        "    n_samples: int, optional, default = 1000\n",
        "        Количество создаваемых бутстреп выборок.\n",
        "        Опциональный параметр, по умолчанию, равен 1000.\n",
        "\n",
        "    Returns\n",
        "    -------\n",
        "    bootstrap_idx: np.array\n",
        "        Матрица индексов, для создания бутстреп выборок.\n",
        "\n",
        "    \"\"\"\n",
        "    bootstrap_idx = np.random.randint(\n",
        "        low=0, high=len(data), size=(n_samples, len(data))\n",
        "    )\n",
        "    return bootstrap_idx\n",
        "\n",
        "\n",
        "def create_bootstrap_metrics(y_true: np.array,\n",
        "                             y_pred: np.array,\n",
        "                             metric: callable,\n",
        "                             n_samlpes: int = 1000) -> List[float]:\n",
        "    \"\"\"\n",
        "    Вычисление бутстреп оценок.\n",
        "\n",
        "    Parameters\n",
        "    ----------\n",
        "    y_true: np.array\n",
        "        Вектор целевой переменной.\n",
        "\n",
        "    y_pred: np.array\n",
        "        Вектор прогнозов.\n",
        "\n",
        "    metric: callable\n",
        "        Функция для вычисления метрики.\n",
        "        Функция должна принимать 2 аргумента: y_true, y_pred.\n",
        "\n",
        "    n_samples: int, optional, default = 1000\n",
        "        Количество создаваемых бутстреп выборок.\n",
        "        Опциональный параметр, по умолчанию, равен 1000.\n",
        "\n",
        "    Returns\n",
        "    -------\n",
        "    bootstrap_metrics: List[float]\n",
        "        Список со значениями метрики качества на каждой бустреп выборке.\n",
        "\n",
        "    \"\"\"\n",
        "    scores = []\n",
        "\n",
        "    if isinstance(y_true, pd.Series):\n",
        "        y_true = y_true.values\n",
        "\n",
        "    bootstrap_idx = create_bootstrap_samples(y_true)\n",
        "    for idx in bootstrap_idx:\n",
        "        y_true_bootstrap = y_true[idx]\n",
        "        y_pred_bootstrap = y_pred[idx]\n",
        "\n",
        "        score = metric(y_true_bootstrap, y_pred_bootstrap)\n",
        "        scores.append(score)\n",
        "\n",
        "    return scores\n",
        "\n",
        "\n",
        "def calculate_confidence_interval(scores: list, conf_interval: float = 0.95) -> Tuple[float]:\n",
        "    \"\"\"\n",
        "    Вычисление доверительного интервала.\n",
        "\n",
        "    Parameters\n",
        "    ----------\n",
        "    scores: List[float / int]\n",
        "        Список с оценками изучаемой величины.\n",
        "\n",
        "    conf_interval: float, optional, default = 0.95\n",
        "        Уровень доверия для построения интервала.\n",
        "        Опциональный параметр, по умолчанию, равен 0.95.\n",
        "\n",
        "    Returns\n",
        "    -------\n",
        "    conf_interval: Tuple[float]\n",
        "        Кортеж с границами доверительного интервала.\n",
        "\n",
        "    \"\"\"\n",
        "    left_bound = np.percentile(\n",
        "        scores, ((1 - conf_interval) / 2) * 100\n",
        "    )\n",
        "    right_bound = np.percentile(\n",
        "        scores, (conf_interval + ((1 - conf_interval) / 2)) * 100\n",
        "    )\n",
        "\n",
        "    return left_bound, right_bound"
      ],
      "execution_count": 70,
      "outputs": []
    },
    {
      "cell_type": "code",
      "metadata": {
        "id": "74NEkMZJjao4"
      },
      "source": [
        "y_lb = lb['isFraud']\n",
        "x_lb = lb.drop(columns=['isFraud'])\n",
        "\n",
        "y = data['isFraud']\n",
        "X = data.drop(columns=['isFraud'])\n",
        "\n",
        "x_train, x_valid, y_train, y_valid = train_test_split(\n",
        "    X, y, train_size=0.7, shuffle=False, random_state=1,\n",
        ")\n",
        "\n",
        "categorical_features = x_train.select_dtypes(include=[np.object])\n",
        "categorical_feature_names = categorical_features.columns.to_list()\n",
        "\n",
        "for feature in categorical_feature_names:\n",
        "    x_train[feature] = x_train[feature].astype(str)\n",
        "    x_valid[feature] = x_valid[feature].astype(str)\n",
        "    x_lb[feature] = x_lb[feature].astype(str)"
      ],
      "execution_count": null,
      "outputs": []
    },
    {
      "cell_type": "code",
      "metadata": {
        "id": "v6x39e_uasrt"
      },
      "source": [
        "cb_params = {\n",
        "    \"n_estimators\": 1000,\n",
        "    \"loss_function\": \"Logloss\",\n",
        "    \"eval_metric\": \"AUC\",\n",
        "    #\"task_type\": \"CPU\",\n",
        "    \"max_bin\": 20,\n",
        "    \"verbose\": 100,\n",
        "    \"max_depth\": 4,\n",
        "    \"l2_leaf_reg\": 100,\n",
        "    \"early_stopping_rounds\": 100,\n",
        "    \"thread_count\": 6,\n",
        "    \"random_seed\": 27,\n",
        "    'learning_rate': 0.1,\n",
        "    'task_type': 'GPU',\n",
        "    'one_hot_max_size': 100\n",
        "}"
      ],
      "execution_count": null,
      "outputs": []
    },
    {
      "cell_type": "code",
      "metadata": {
        "colab": {
          "base_uri": "https://localhost:8080/"
        },
        "id": "XpjZLVnKcrYe",
        "outputId": "ad4022d8-4be4-40d1-8be9-45cee3847567"
      },
      "source": [
        "model_catb = cb.CatBoostClassifier(**cb_params)\n",
        "model_catb.fit(x_train, y_train, eval_set=[(x_valid, y_valid)], cat_features=categorical_feature_names)"
      ],
      "execution_count": 73,
      "outputs": [
        {
          "output_type": "stream",
          "text": [
            "0:\tlearn: 0.6569442\ttest: 0.6862510\tbest: 0.6862510 (0)\ttotal: 15.1ms\tremaining: 15.1s\n",
            "100:\tlearn: 0.8804725\ttest: 0.8568657\tbest: 0.8568658 (98)\ttotal: 1.08s\tremaining: 9.64s\n",
            "200:\tlearn: 0.8883339\ttest: 0.8621852\tbest: 0.8625875 (199)\ttotal: 2.05s\tremaining: 8.14s\n",
            "300:\tlearn: 0.8947853\ttest: 0.8668418\tbest: 0.8670131 (287)\ttotal: 2.96s\tremaining: 6.88s\n",
            "400:\tlearn: 0.8994993\ttest: 0.8693831\tbest: 0.8693831 (400)\ttotal: 3.88s\tremaining: 5.8s\n",
            "500:\tlearn: 0.9038059\ttest: 0.8713748\tbest: 0.8713748 (500)\ttotal: 4.85s\tremaining: 4.83s\n",
            "600:\tlearn: 0.9070629\ttest: 0.8730857\tbest: 0.8730940 (599)\ttotal: 5.83s\tremaining: 3.87s\n",
            "700:\tlearn: 0.9094498\ttest: 0.8750713\tbest: 0.8750713 (700)\ttotal: 6.78s\tremaining: 2.89s\n",
            "800:\tlearn: 0.9121256\ttest: 0.8774047\tbest: 0.8774047 (800)\ttotal: 7.75s\tremaining: 1.93s\n",
            "900:\tlearn: 0.9141153\ttest: 0.8777373\tbest: 0.8781245 (846)\ttotal: 8.7s\tremaining: 956ms\n",
            "bestTest = 0.8781244755\n",
            "bestIteration = 846\n",
            "Shrink model to first 847 iterations.\n"
          ],
          "name": "stdout"
        },
        {
          "output_type": "execute_result",
          "data": {
            "text/plain": [
              "<catboost.core.CatBoostClassifier at 0x7fe22f0f6a10>"
            ]
          },
          "metadata": {
            "tags": []
          },
          "execution_count": 73
        }
      ]
    },
    {
      "cell_type": "code",
      "metadata": {
        "id": "BRCj3Ik5kgCU"
      },
      "source": [
        "train_pred = model_catb.predict_proba(x_train)\n",
        "valid_pred = model_catb.predict_proba(x_valid)\n",
        "lb_pred = model_catb.predict_proba(x_lb)"
      ],
      "execution_count": 74,
      "outputs": []
    },
    {
      "cell_type": "code",
      "metadata": {
        "colab": {
          "base_uri": "https://localhost:8080/",
          "height": 320
        },
        "id": "yLsfQ-J7qJNh",
        "outputId": "f5729af0-dfb5-4cdf-ac2a-d5fe652d7b3f"
      },
      "source": [
        "fig = plt.figure(figsize=(10, 5))\n",
        "train_fpr_catb, train_tpr_catb, _ = metrics.roc_curve(y_train,  train_pred[:, 1])\n",
        "train_auc_catb = metrics.roc_auc_score(y_train, train_pred[:, 1])\n",
        "valid_fpr_catb, valid_tpr_catb, _ = metrics.roc_curve(y_valid,  valid_pred[:, 1])\n",
        "valid_auc_catb = metrics.roc_auc_score(y_valid, valid_pred[:, 1])\n",
        "lb_auc_catb = metrics.roc_auc_score(y_lb, lb_pred[:, 1])\n",
        "plt.plot(train_fpr_catb, train_tpr_catb, label=\"train, auc=\"+str(train_auc_catb))\n",
        "plt.plot(valid_fpr_catb, valid_tpr_catb, label=\"valid, auc=\"+str(valid_auc_catb))\n",
        "plt.legend(loc=4)\n",
        "plt.grid()\n",
        "plt.show()"
      ],
      "execution_count": 75,
      "outputs": [
        {
          "output_type": "display_data",
          "data": {
            "image/png": "[encoded data removed]",
            "text/plain": [
              "<Figure size 720x360 with 1 Axes>"
            ]
          },
          "metadata": {
            "tags": [],
            "needs_background": "light"
          }
        }
      ]
    },
    {
      "cell_type": "code",
      "metadata": {
        "colab": {
          "base_uri": "https://localhost:8080/"
        },
        "id": "4rw2gAPEsKUy",
        "outputId": "784a0733-9974-4dd6-8f20-eb533f920da6"
      },
      "source": [
        "np.random.seed(27)\n",
        "train_scores = create_bootstrap_metrics(y_train, model_catb.predict_proba(x_train)[:, 1], roc_auc_score)\n",
        "valid_scores = create_bootstrap_metrics(y_valid, model_catb.predict_proba(x_valid)[:, 1], roc_auc_score)\n",
        "print(f'Train confidence interval = {calculate_confidence_interval(train_scores)}')\n",
        "print(f'Valid confidence interval = {calculate_confidence_interval(valid_scores)}')\n",
        "print(f'Liderboard score = {lb_auc_catb}')"
      ],
      "execution_count": 76,
      "outputs": [
        {
          "output_type": "stream",
          "text": [
            "Train confidence interval = (0.9066051333064177, 0.9189482542409394)\n",
            "Valid confidence interval = (0.8681079901907255, 0.8872280304676033)\n",
            "Liderboard score = 0.8627113659276151\n"
          ],
          "name": "stdout"
        }
      ]
    },
    {
      "cell_type": "code",
      "metadata": {
        "id": "52f2Pevnsiy5"
      },
      "source": [
        "#fig = plt.figure(figsize=(15, 5))\n",
        "#plt.suptitle(\"Bootstrap for evaluating validation stability\", size=15)\n",
        "#sns.distplot(train_scores,  color=\"green\", bins=20, label='train')\n",
        "#sns.distplot(valid_scores,  color=\"red\", bins=20, label='valid')\n",
        "#sns.distplot(lb_scores,  color=\"blue\", bins=20, label='lb')\n",
        "#plt.xlabel(\"sampel number\", size=15)\n",
        "#plt.legend()"
      ],
      "execution_count": 77,
      "outputs": []
    },
    {
      "cell_type": "markdown",
      "metadata": {
        "id": "z31dxrLsfX1q"
      },
      "source": [
        "## Задание 1: признак TransactionDT - это смещение в секундах относительно базовой даты. Базовая дата - 2017-12-01, преобразовать признак TransactionDT в datetime, прибавив к базовой дате исходное значение признака. Из полученного признака выделить год, месяц, день недели, час, день."
      ]
    },
    {
      "cell_type": "code",
      "metadata": {
        "id": "8HpSQQ09feZ4"
      },
      "source": [
        "data = pd.read_csv(\"/content/drive/MyDrive/assignment_2_train.csv\")\n",
        "lb = pd.read_csv(\"/content/drive/MyDrive/assignment_2_test.csv\")"
      ],
      "execution_count": 78,
      "outputs": []
    },
    {
      "cell_type": "code",
      "metadata": {
        "colab": {
          "base_uri": "https://localhost:8080/"
        },
        "id": "Qh8rHeuPgclR",
        "outputId": "a0ec9dc4-3d50-4e22-d6c1-f55e3e692cce"
      },
      "source": [
        "data['TransactionDT'] = pd.to_timedelta(data['TransactionDT'], unit='s')\n",
        "base_date = pd.to_datetime('2017-12-01')\n",
        "data['TransactionDT'] = data['TransactionDT'] + base_date\n",
        "\n",
        "data[\"year\"] = data[\"TransactionDT\"].dt.year\n",
        "data[\"month_of_year\"] = data[\"TransactionDT\"].dt.month\n",
        "data[\"day_of_week\"] = data[\"TransactionDT\"].dt.weekday\n",
        "data[\"week_of_year\"] = data[\"TransactionDT\"].dt.weekofyear\n",
        "data[\"hour\"] = data[\"TransactionDT\"].dt.hour\n",
        "data[\"day\"] = data[\"TransactionDT\"].dt.day\n",
        "\n",
        "lb['TransactionDT'] = pd.to_timedelta(lb['TransactionDT'], unit='s')\n",
        "base_date = pd.to_datetime('2017-12-01')\n",
        "lb['TransactionDT'] = lb['TransactionDT'] + base_date\n",
        "lb[\"year\"] = lb[\"TransactionDT\"].dt.year\n",
        "lb[\"month_of_year\"] = lb[\"TransactionDT\"].dt.month\n",
        "lb[\"day_of_week\"] = lb[\"TransactionDT\"].dt.weekday\n",
        "lb[\"week_of_year\"] = lb[\"TransactionDT\"].dt.weekofyear\n",
        "lb[\"hour\"] = lb[\"TransactionDT\"].dt.hour\n",
        "lb[\"day\"] = lb[\"TransactionDT\"].dt.day"
      ],
      "execution_count": 79,
      "outputs": [
        {
          "output_type": "stream",
          "text": [
            "/usr/local/lib/python3.7/dist-packages/ipykernel_launcher.py:8: FutureWarning: Series.dt.weekofyear and Series.dt.week have been deprecated.  Please use Series.dt.isocalendar().week instead.\n",
            "  \n",
            "/usr/local/lib/python3.7/dist-packages/ipykernel_launcher.py:18: FutureWarning: Series.dt.weekofyear and Series.dt.week have been deprecated.  Please use Series.dt.isocalendar().week instead.\n"
          ],
          "name": "stderr"
        }
      ]
    },
    {
      "cell_type": "code",
      "metadata": {
        "colab": {
          "base_uri": "https://localhost:8080/"
        },
        "id": "8W1HsvLuvctD",
        "outputId": "f6aa3d20-e778-445d-d3bf-3b5cfbdfdcc3"
      },
      "source": [
        "data.drop(columns=['TransactionDT', 'TransactionID'], inplace=True)\n",
        "lb.drop(columns=['TransactionDT', 'TransactionID'], inplace=True)\n",
        "\n",
        "y_lb = lb['isFraud']\n",
        "x_lb = lb.drop(columns=['isFraud'])\n",
        "\n",
        "y = data['isFraud']\n",
        "X = data.drop(columns=['isFraud'])\n",
        "\n",
        "x_train, x_valid, y_train, y_valid = train_test_split(\n",
        "    X, y, train_size=0.7, shuffle=False, random_state=1,\n",
        ")\n",
        "\n",
        "categorical_features = x_train.select_dtypes(include=[np.object])\n",
        "categorical_feature_names = categorical_features.columns.to_list()\n",
        "\n",
        "for feature in categorical_feature_names:\n",
        "    x_train[feature] = x_train[feature].astype(str)\n",
        "    x_valid[feature] = x_valid[feature].astype(str)\n",
        "    x_lb[feature] = x_lb[feature].astype(str)"
      ],
      "execution_count": 80,
      "outputs": [
        {
          "output_type": "stream",
          "text": [
            "/usr/local/lib/python3.7/dist-packages/ipykernel_launcher.py:18: SettingWithCopyWarning: \n",
            "A value is trying to be set on a copy of a slice from a DataFrame.\n",
            "Try using .loc[row_indexer,col_indexer] = value instead\n",
            "\n",
            "See the caveats in the documentation: https://pandas.pydata.org/pandas-docs/stable/user_guide/indexing.html#returning-a-view-versus-a-copy\n",
            "/usr/local/lib/python3.7/dist-packages/ipykernel_launcher.py:19: SettingWithCopyWarning: \n",
            "A value is trying to be set on a copy of a slice from a DataFrame.\n",
            "Try using .loc[row_indexer,col_indexer] = value instead\n",
            "\n",
            "See the caveats in the documentation: https://pandas.pydata.org/pandas-docs/stable/user_guide/indexing.html#returning-a-view-versus-a-copy\n"
          ],
          "name": "stderr"
        }
      ]
    },
    {
      "cell_type": "code",
      "metadata": {
        "colab": {
          "base_uri": "https://localhost:8080/"
        },
        "id": "qKBIWwU3uNB-",
        "outputId": "432ad900-b4bc-4fb9-91bf-3478903227ea"
      },
      "source": [
        "model_catb = cb.CatBoostClassifier(**cb_params)\n",
        "model_catb.fit(x_train, y_train, eval_set=[(x_valid, y_valid)], cat_features=categorical_feature_names)"
      ],
      "execution_count": 81,
      "outputs": [
        {
          "output_type": "stream",
          "text": [
            "0:\tlearn: 0.6734327\ttest: 0.6576363\tbest: 0.6576363 (0)\ttotal: 15.3ms\tremaining: 15.3s\n",
            "100:\tlearn: 0.8767213\ttest: 0.8547378\tbest: 0.8547382 (98)\ttotal: 1.07s\tremaining: 9.51s\n",
            "200:\tlearn: 0.8864387\ttest: 0.8610479\tbest: 0.8615225 (189)\ttotal: 2.05s\tremaining: 8.16s\n",
            "300:\tlearn: 0.8933287\ttest: 0.8646478\tbest: 0.8646478 (300)\ttotal: 3.03s\tremaining: 7.03s\n",
            "400:\tlearn: 0.8982424\ttest: 0.8681763\tbest: 0.8682038 (394)\ttotal: 3.92s\tremaining: 5.86s\n",
            "500:\tlearn: 0.9033496\ttest: 0.8700941\tbest: 0.8701233 (488)\ttotal: 4.89s\tremaining: 4.87s\n",
            "600:\tlearn: 0.9071588\ttest: 0.8732176\tbest: 0.8732293 (590)\ttotal: 5.79s\tremaining: 3.84s\n",
            "700:\tlearn: 0.9097266\ttest: 0.8742516\tbest: 0.8742696 (697)\ttotal: 6.74s\tremaining: 2.88s\n",
            "800:\tlearn: 0.9122615\ttest: 0.8773643\tbest: 0.8773643 (800)\ttotal: 7.73s\tremaining: 1.92s\n",
            "900:\tlearn: 0.9145708\ttest: 0.8799501\tbest: 0.8799885 (898)\ttotal: 8.71s\tremaining: 958ms\n",
            "999:\tlearn: 0.9168071\ttest: 0.8812893\tbest: 0.8812893 (999)\ttotal: 9.61s\tremaining: 0us\n",
            "bestTest = 0.8812893331\n",
            "bestIteration = 999\n"
          ],
          "name": "stdout"
        },
        {
          "output_type": "execute_result",
          "data": {
            "text/plain": [
              "<catboost.core.CatBoostClassifier at 0x7fe22dd84e10>"
            ]
          },
          "metadata": {
            "tags": []
          },
          "execution_count": 81
        }
      ]
    },
    {
      "cell_type": "code",
      "metadata": {
        "id": "6T5jD7FmuR9F"
      },
      "source": [
        "train_pred = model_catb.predict_proba(x_train)\n",
        "valid_pred = model_catb.predict_proba(x_valid)\n",
        "lb_pred = model_catb.predict_proba(x_lb)"
      ],
      "execution_count": 82,
      "outputs": []
    },
    {
      "cell_type": "code",
      "metadata": {
        "colab": {
          "base_uri": "https://localhost:8080/",
          "height": 320
        },
        "id": "iKkUfJWjuge2",
        "outputId": "9b838226-0f2f-44ce-9a75-36e7c68ba2a6"
      },
      "source": [
        "fig = plt.figure(figsize=(10, 5))\n",
        "train_fpr_catb, train_tpr_catb, _ = metrics.roc_curve(y_train,  train_pred[:, 1])\n",
        "train_auc_catb = metrics.roc_auc_score(y_train, train_pred[:, 1])\n",
        "valid_fpr_catb, valid_tpr_catb, _ = metrics.roc_curve(y_valid,  valid_pred[:, 1])\n",
        "valid_auc_catb = metrics.roc_auc_score(y_valid, valid_pred[:, 1])\n",
        "lb_auc_catb = metrics.roc_auc_score(y_lb, lb_pred[:, 1])\n",
        "plt.plot(train_fpr_catb, train_tpr_catb, label=\"train, auc=\"+str(train_auc_catb))\n",
        "plt.plot(valid_fpr_catb, valid_tpr_catb, label=\"valid, auc=\"+str(valid_auc_catb))\n",
        "plt.legend(loc=4)\n",
        "plt.grid()\n",
        "plt.show()"
      ],
      "execution_count": 83,
      "outputs": [
        {
          "output_type": "display_data",
          "data": {
            "image/png": "[encoded data removed]",
            "text/plain": [
              "<Figure size 720x360 with 1 Axes>"
            ]
          },
          "metadata": {
            "tags": [],
            "needs_background": "light"
          }
        }
      ]
    },
    {
      "cell_type": "code",
      "metadata": {
        "colab": {
          "base_uri": "https://localhost:8080/"
        },
        "id": "nOoSthE4ulGO",
        "outputId": "d0e87028-5395-4ec7-9d09-fdc67bffe4fa"
      },
      "source": [
        "np.random.seed(27)\n",
        "train_scores = create_bootstrap_metrics(y_train, model_catb.predict_proba(x_train)[:, 1], roc_auc_score)\n",
        "valid_scores = create_bootstrap_metrics(y_valid, model_catb.predict_proba(x_valid)[:, 1], roc_auc_score)\n",
        "print(f'Train confidence interval = {calculate_confidence_interval(train_scores)}')\n",
        "print(f'Valid confidence interval = {calculate_confidence_interval(valid_scores)}')\n",
        "print(f'Liderboard score = {lb_auc_catb}')"
      ],
      "execution_count": 84,
      "outputs": [
        {
          "output_type": "stream",
          "text": [
            "Train confidence interval = (0.9105117769658271, 0.9227946447718357)\n",
            "Valid confidence interval = (0.8716406934772208, 0.8904157084460469)\n",
            "Liderboard score = 0.8658167480470517\n"
          ],
          "name": "stdout"
        }
      ]
    },
    {
      "cell_type": "markdown",
      "metadata": {
        "id": "iT1l1cGbmm1c"
      },
      "source": [
        "Вывод: обработка врменного признака повысило точность работы модели на 0.003"
      ]
    },
    {
      "cell_type": "markdown",
      "metadata": {
        "id": "38vh5uRXw2DH"
      },
      "source": [
        "## Задание 2: сделать конкатенацию признаков\n",
        "* card1 + card2;\n",
        "* card1 + card2 + card_3 + card_5;\n",
        "* card1 + card2 + card_3 + card_5 + addr1 + addr2"
      ]
    },
    {
      "cell_type": "code",
      "metadata": {
        "id": "ZUly5QUFr2p5"
      },
      "source": [
        "def create_concat_feature(data: pd.DataFrame, features: List[str]) -> pd.Series:\n",
        "    \"\"\"\n",
        "    Возвращает признак (колонку), представляющую собой\n",
        "    конкатенацию признаков features из датафрейма data\n",
        "\n",
        "    Parameters\n",
        "    ----------\n",
        "    data: pandas.core.frame.DataFrame\n",
        "        Исходный датафрейм.\n",
        "\n",
        "    features: List[str]\n",
        "        Список с названием признаков, из которых будет создаваться новый.\n",
        "\n",
        "    Returns\n",
        "    -------\n",
        "    new_feature: pd.Series\n",
        "        Новый признак.\n",
        "\n",
        "    \"\"\"\n",
        "\n",
        "    result = pd.Series(data='', index=data.index)\n",
        "    for feature in features:\n",
        "      result += data[feature].astype(str) + '|'\n",
        "    return result"
      ],
      "execution_count": 85,
      "outputs": []
    },
    {
      "cell_type": "code",
      "metadata": {
        "colab": {
          "base_uri": "https://localhost:8080/"
        },
        "id": "fdt52hUh1PmK",
        "outputId": "b7c173c3-0809-4f04-e1fc-b1131748fa9e"
      },
      "source": [
        "x_train['card1+card2'] = create_concat_feature(x_train, ['card1', 'card2'])\n",
        "x_train['card1+card2+card3+card5'] = create_concat_feature(x_train, ['card1', 'card2', 'card3', 'card5'])\n",
        "x_train['card1+card2+card3+card5+addr1+addr2'] = create_concat_feature(x_train, ['card1', 'card2', 'card3', 'card5', 'addr1', 'addr2'])\n",
        "\n",
        "x_valid['card1+card2'] = create_concat_feature(x_valid, ['card1', 'card2'])\n",
        "x_valid['card1+card2+card3+card5'] = create_concat_feature(x_valid, ['card1', 'card2', 'card3', 'card5'])\n",
        "x_valid['card1+card2+card3+card5+addr1+addr2'] = create_concat_feature(x_valid, ['card1', 'card2', 'card3', 'card5', 'addr1', 'addr2'])\n",
        "\n",
        "x_lb['card1+card2'] = create_concat_feature(x_lb, ['card1', 'card2'])\n",
        "x_lb['card1+card2+card3+card5'] = create_concat_feature(x_lb, ['card1', 'card2', 'card3', 'card5'])\n",
        "x_lb['card1+card2+card3+card5+addr1+addr2'] = create_concat_feature(x_lb, ['card1', 'card2', 'card3', 'card5', 'addr1', 'addr2'])"
      ],
      "execution_count": 86,
      "outputs": [
        {
          "output_type": "stream",
          "text": [
            "/usr/local/lib/python3.7/dist-packages/ipykernel_launcher.py:1: SettingWithCopyWarning: \n",
            "A value is trying to be set on a copy of a slice from a DataFrame.\n",
            "Try using .loc[row_indexer,col_indexer] = value instead\n",
            "\n",
            "See the caveats in the documentation: https://pandas.pydata.org/pandas-docs/stable/user_guide/indexing.html#returning-a-view-versus-a-copy\n",
            "  \"\"\"Entry point for launching an IPython kernel.\n",
            "/usr/local/lib/python3.7/dist-packages/ipykernel_launcher.py:2: SettingWithCopyWarning: \n",
            "A value is trying to be set on a copy of a slice from a DataFrame.\n",
            "Try using .loc[row_indexer,col_indexer] = value instead\n",
            "\n",
            "See the caveats in the documentation: https://pandas.pydata.org/pandas-docs/stable/user_guide/indexing.html#returning-a-view-versus-a-copy\n",
            "  \n",
            "/usr/local/lib/python3.7/dist-packages/ipykernel_launcher.py:3: SettingWithCopyWarning: \n",
            "A value is trying to be set on a copy of a slice from a DataFrame.\n",
            "Try using .loc[row_indexer,col_indexer] = value instead\n",
            "\n",
            "See the caveats in the documentation: https://pandas.pydata.org/pandas-docs/stable/user_guide/indexing.html#returning-a-view-versus-a-copy\n",
            "  This is separate from the ipykernel package so we can avoid doing imports until\n",
            "/usr/local/lib/python3.7/dist-packages/ipykernel_launcher.py:5: SettingWithCopyWarning: \n",
            "A value is trying to be set on a copy of a slice from a DataFrame.\n",
            "Try using .loc[row_indexer,col_indexer] = value instead\n",
            "\n",
            "See the caveats in the documentation: https://pandas.pydata.org/pandas-docs/stable/user_guide/indexing.html#returning-a-view-versus-a-copy\n",
            "  \"\"\"\n",
            "/usr/local/lib/python3.7/dist-packages/ipykernel_launcher.py:6: SettingWithCopyWarning: \n",
            "A value is trying to be set on a copy of a slice from a DataFrame.\n",
            "Try using .loc[row_indexer,col_indexer] = value instead\n",
            "\n",
            "See the caveats in the documentation: https://pandas.pydata.org/pandas-docs/stable/user_guide/indexing.html#returning-a-view-versus-a-copy\n",
            "  \n",
            "/usr/local/lib/python3.7/dist-packages/ipykernel_launcher.py:7: SettingWithCopyWarning: \n",
            "A value is trying to be set on a copy of a slice from a DataFrame.\n",
            "Try using .loc[row_indexer,col_indexer] = value instead\n",
            "\n",
            "See the caveats in the documentation: https://pandas.pydata.org/pandas-docs/stable/user_guide/indexing.html#returning-a-view-versus-a-copy\n",
            "  import sys\n"
          ],
          "name": "stderr"
        }
      ]
    },
    {
      "cell_type": "code",
      "metadata": {
        "colab": {
          "base_uri": "https://localhost:8080/"
        },
        "id": "JVikQ2y3F2v5",
        "outputId": "f8a43539-8917-4984-9cae-99d1659419c2"
      },
      "source": [
        "categorical_features = x_lb.select_dtypes(include=[np.object])\n",
        "categorical_feature_names = categorical_features.columns.to_list()\n",
        "\n",
        "for feature in categorical_feature_names:\n",
        "    x_train[feature] = x_train[feature].astype(str)\n",
        "    x_valid[feature] = x_valid[feature].astype(str)\n",
        "    x_lb[feature] = x_lb[feature].astype(str)"
      ],
      "execution_count": 87,
      "outputs": [
        {
          "output_type": "stream",
          "text": [
            "/usr/local/lib/python3.7/dist-packages/ipykernel_launcher.py:5: SettingWithCopyWarning: \n",
            "A value is trying to be set on a copy of a slice from a DataFrame.\n",
            "Try using .loc[row_indexer,col_indexer] = value instead\n",
            "\n",
            "See the caveats in the documentation: https://pandas.pydata.org/pandas-docs/stable/user_guide/indexing.html#returning-a-view-versus-a-copy\n",
            "  \"\"\"\n",
            "/usr/local/lib/python3.7/dist-packages/ipykernel_launcher.py:6: SettingWithCopyWarning: \n",
            "A value is trying to be set on a copy of a slice from a DataFrame.\n",
            "Try using .loc[row_indexer,col_indexer] = value instead\n",
            "\n",
            "See the caveats in the documentation: https://pandas.pydata.org/pandas-docs/stable/user_guide/indexing.html#returning-a-view-versus-a-copy\n",
            "  \n"
          ],
          "name": "stderr"
        }
      ]
    },
    {
      "cell_type": "code",
      "metadata": {
        "colab": {
          "base_uri": "https://localhost:8080/"
        },
        "id": "Od0yS2SRy0F5",
        "outputId": "ac324d35-67d6-4e2b-c0c0-567cd5e16fe6"
      },
      "source": [
        "model_catb = cb.CatBoostClassifier(**cb_params)\n",
        "model_catb.fit(x_train, y_train, eval_set=[(x_valid, y_valid)], cat_features=categorical_feature_names)"
      ],
      "execution_count": 88,
      "outputs": [
        {
          "output_type": "stream",
          "text": [
            "0:\tlearn: 0.7333154\ttest: 0.6375195\tbest: 0.6375195 (0)\ttotal: 31.9ms\tremaining: 31.8s\n",
            "100:\tlearn: 0.8875181\ttest: 0.8455810\tbest: 0.8455810 (100)\ttotal: 2.23s\tremaining: 19.9s\n",
            "200:\tlearn: 0.9015415\ttest: 0.8610812\tbest: 0.8610812 (199)\ttotal: 4.37s\tremaining: 17.4s\n",
            "300:\tlearn: 0.9086696\ttest: 0.8680719\tbest: 0.8683884 (289)\ttotal: 6.51s\tremaining: 15.1s\n",
            "400:\tlearn: 0.9129446\ttest: 0.8751015\tbest: 0.8753017 (393)\ttotal: 8.54s\tremaining: 12.8s\n",
            "500:\tlearn: 0.9157544\ttest: 0.8781615\tbest: 0.8781615 (500)\ttotal: 10.7s\tremaining: 10.6s\n",
            "600:\tlearn: 0.9180371\ttest: 0.8813086\tbest: 0.8813089 (599)\ttotal: 12.8s\tremaining: 8.5s\n",
            "700:\tlearn: 0.9206099\ttest: 0.8839337\tbest: 0.8840717 (693)\ttotal: 14.9s\tremaining: 6.37s\n",
            "800:\tlearn: 0.9221728\ttest: 0.8845528\tbest: 0.8849081 (745)\ttotal: 17.1s\tremaining: 4.24s\n",
            "900:\tlearn: 0.9237798\ttest: 0.8865785\tbest: 0.8865945 (899)\ttotal: 19.1s\tremaining: 2.1s\n",
            "999:\tlearn: 0.9249440\ttest: 0.8875079\tbest: 0.8875985 (975)\ttotal: 21.1s\tremaining: 0us\n",
            "bestTest = 0.8875984848\n",
            "bestIteration = 975\n",
            "Shrink model to first 976 iterations.\n"
          ],
          "name": "stdout"
        },
        {
          "output_type": "execute_result",
          "data": {
            "text/plain": [
              "<catboost.core.CatBoostClassifier at 0x7fe22f6ed210>"
            ]
          },
          "metadata": {
            "tags": []
          },
          "execution_count": 88
        }
      ]
    },
    {
      "cell_type": "code",
      "metadata": {
        "id": "uZpUmvihKqIh"
      },
      "source": [
        "train_pred = model_catb.predict_proba(x_train)\n",
        "valid_pred = model_catb.predict_proba(x_valid)\n",
        "lb_pred = model_catb.predict_proba(x_lb)"
      ],
      "execution_count": 89,
      "outputs": []
    },
    {
      "cell_type": "code",
      "metadata": {
        "colab": {
          "base_uri": "https://localhost:8080/",
          "height": 320
        },
        "id": "4MVJ_I_XK11b",
        "outputId": "941033e0-7169-4177-b99b-938e0de42d52"
      },
      "source": [
        "fig = plt.figure(figsize=(10, 5))\n",
        "train_fpr_catb, train_tpr_catb, _ = metrics.roc_curve(y_train,  train_pred[:, 1])\n",
        "train_auc_catb = metrics.roc_auc_score(y_train, train_pred[:, 1])\n",
        "valid_fpr_catb, valid_tpr_catb, _ = metrics.roc_curve(y_valid,  valid_pred[:, 1])\n",
        "valid_auc_catb = metrics.roc_auc_score(y_valid, valid_pred[:, 1])\n",
        "lb_auc_catb = metrics.roc_auc_score(y_lb, lb_pred[:, 1])\n",
        "plt.plot(train_fpr_catb, train_tpr_catb, label=\"train, auc=\"+str(train_auc_catb))\n",
        "plt.plot(valid_fpr_catb, valid_tpr_catb, label=\"valid, auc=\"+str(valid_auc_catb))\n",
        "plt.legend(loc=4)\n",
        "plt.grid()\n",
        "plt.show()"
      ],
      "execution_count": 90,
      "outputs": [
        {
          "output_type": "display_data",
          "data": {
            "image/png": "[encoded data removed]",
            "text/plain": [
              "<Figure size 720x360 with 1 Axes>"
            ]
          },
          "metadata": {
            "tags": [],
            "needs_background": "light"
          }
        }
      ]
    },
    {
      "cell_type": "code",
      "metadata": {
        "colab": {
          "base_uri": "https://localhost:8080/"
        },
        "id": "CjUjOGBnK-Ey",
        "outputId": "31e89ddd-51e4-48d4-f0de-e098ba597a60"
      },
      "source": [
        "np.random.seed(27)\n",
        "train_scores = create_bootstrap_metrics(y_train, model_catb.predict_proba(x_train)[:, 1], roc_auc_score)\n",
        "valid_scores = create_bootstrap_metrics(y_valid, model_catb.predict_proba(x_valid)[:, 1], roc_auc_score)\n",
        "print(f'Train confidence interval = {calculate_confidence_interval(train_scores)}')\n",
        "print(f'Valid confidence interval = {calculate_confidence_interval(valid_scores)}')\n",
        "print(f'Liderboard score = {lb_auc_catb}')"
      ],
      "execution_count": 91,
      "outputs": [
        {
          "output_type": "stream",
          "text": [
            "Train confidence interval = (0.975437392964338, 0.9804821693310513)\n",
            "Valid confidence interval = (0.8790229197197925, 0.8964030971604577)\n",
            "Liderboard score = 0.8364646341043906\n"
          ],
          "name": "stdout"
        }
      ]
    },
    {
      "cell_type": "markdown",
      "metadata": {
        "id": "vQ9FQ9DnnHRm"
      },
      "source": [
        "Вывод: конкатенация признаков ухудшило точность работы модели. На новых признаках модель переобучилась."
      ]
    },
    {
      "cell_type": "markdown",
      "metadata": {
        "id": "xmbjogSDVIA-"
      },
      "source": [
        "## Задание 3: Сделать FrequencyEncoder для признаков card1 - card6, addr1, addr2."
      ]
    },
    {
      "cell_type": "code",
      "metadata": {
        "id": "R1mNOwQCbmVX"
      },
      "source": [
        "def frequency_encoder(data: pd.DataFrame,\n",
        "                            features: List[str],\n",
        "                            delete_old = False,\n",
        "                            ) -> pd.DataFrame:\n",
        "    \"\"\"\n",
        "    Уникальные значения в признаках features датафрейма\n",
        "    data заменяются частотой их появления в этом датафрейме\n",
        "\n",
        "    Parameters\n",
        "    ----------\n",
        "    data: pandas.core.frame.DataFrame\n",
        "        Датафрейм для преобразования признаков.\n",
        "\n",
        "    features: List[str]\n",
        "        Список с названием признаков, для которых произвести\n",
        "        частотное кодирование.\n",
        "\n",
        "    delete_old - флаг - удалять ли исходные признаки\n",
        "\n",
        "    Returns\n",
        "    -------\n",
        "    data: pandas.core.frame.DataFrame\n",
        "        Выборка с добавленными (удаленными признаками).\n",
        "\n",
        "    \"\"\"\n",
        "    for feature in features:\n",
        "      stat = data[feature].value_counts().reset_index().rename(columns={'index': feature, feature: feature+'_cnt'})\n",
        "      stat[feature+'_freq'] = stat[feature+'_cnt']/stat[feature+'_cnt'].sum()\n",
        "      stat.drop(columns=[feature+'_cnt'], inplace=True)\n",
        "      data = pd.merge(data, stat, how='left', on=feature)\n",
        "      if delete_old == True:\n",
        "        data.drop(columns=[feature], inplace=True)\n",
        "    return data"
      ],
      "execution_count": 92,
      "outputs": []
    },
    {
      "cell_type": "code",
      "metadata": {
        "colab": {
          "base_uri": "https://localhost:8080/",
          "height": 191
        },
        "id": "d3QTrFoNdeUH",
        "outputId": "267eeec9-41d6-4885-9e0e-3033632ec56d"
      },
      "source": [
        "data = pd.concat([x_train, x_valid])\n",
        "columns = ['card1', 'card2', 'card3', 'card4', 'card5', 'card6', 'addr1', 'addr2']\n",
        "data = frequency_encoder(data, columns, delete_old=False)\n",
        "x_lb = frequency_encoder(x_lb, columns, delete_old=False)\n",
        "x_train = data.iloc[:125999]\n",
        "x_valid = data.iloc[125999:]\n",
        "data.head(3)"
      ],
      "execution_count": 93,
      "outputs": [
        {
          "output_type": "execute_result",
          "data": {
            "text/html": [
              "<div>\n",
              "<style scoped>\n",
              "    .dataframe tbody tr th:only-of-type {\n",
              "        vertical-align: middle;\n",
              "    }\n",
              "\n",
              "    .dataframe tbody tr th {\n",
              "        vertical-align: top;\n",
              "    }\n",
              "\n",
              "    .dataframe thead th {\n",
              "        text-align: right;\n",
              "    }\n",
              "</style>\n",
              "<table border=\"1\" class=\"dataframe\">\n",
              "  <thead>\n",
              "    <tr style=\"text-align: right;\">\n",
              "      <th></th>\n",
              "      <th>TransactionAmt</th>\n",
              "      <th>ProductCD</th>\n",
              "      <th>card1</th>\n",
              "      <th>card2</th>\n",
              "      <th>card3</th>\n",
              "      <th>card4</th>\n",
              "      <th>card5</th>\n",
              "      <th>card6</th>\n",
              "      <th>addr1</th>\n",
              "      <th>addr2</th>\n",
              "      <th>dist1</th>\n",
              "      <th>dist2</th>\n",
              "      <th>P_emaildomain</th>\n",
              "      <th>R_emaildomain</th>\n",
              "      <th>C1</th>\n",
              "      <th>C2</th>\n",
              "      <th>C3</th>\n",
              "      <th>C4</th>\n",
              "      <th>C5</th>\n",
              "      <th>C6</th>\n",
              "      <th>C7</th>\n",
              "      <th>C8</th>\n",
              "      <th>C9</th>\n",
              "      <th>C10</th>\n",
              "      <th>C11</th>\n",
              "      <th>C12</th>\n",
              "      <th>C13</th>\n",
              "      <th>C14</th>\n",
              "      <th>D1</th>\n",
              "      <th>D2</th>\n",
              "      <th>D3</th>\n",
              "      <th>D4</th>\n",
              "      <th>D5</th>\n",
              "      <th>D6</th>\n",
              "      <th>D7</th>\n",
              "      <th>D8</th>\n",
              "      <th>D9</th>\n",
              "      <th>D10</th>\n",
              "      <th>D11</th>\n",
              "      <th>D12</th>\n",
              "      <th>...</th>\n",
              "      <th>V317</th>\n",
              "      <th>V318</th>\n",
              "      <th>V319</th>\n",
              "      <th>V320</th>\n",
              "      <th>V321</th>\n",
              "      <th>V322</th>\n",
              "      <th>V323</th>\n",
              "      <th>V324</th>\n",
              "      <th>V325</th>\n",
              "      <th>V326</th>\n",
              "      <th>V327</th>\n",
              "      <th>V328</th>\n",
              "      <th>V329</th>\n",
              "      <th>V330</th>\n",
              "      <th>V331</th>\n",
              "      <th>V332</th>\n",
              "      <th>V333</th>\n",
              "      <th>V334</th>\n",
              "      <th>V335</th>\n",
              "      <th>V336</th>\n",
              "      <th>V337</th>\n",
              "      <th>V338</th>\n",
              "      <th>V339</th>\n",
              "      <th>year</th>\n",
              "      <th>month_of_year</th>\n",
              "      <th>day_of_week</th>\n",
              "      <th>week_of_year</th>\n",
              "      <th>hour</th>\n",
              "      <th>day</th>\n",
              "      <th>card1+card2</th>\n",
              "      <th>card1+card2+card3+card5</th>\n",
              "      <th>card1+card2+card3+card5+addr1+addr2</th>\n",
              "      <th>card1_freq</th>\n",
              "      <th>card2_freq</th>\n",
              "      <th>card3_freq</th>\n",
              "      <th>card4_freq</th>\n",
              "      <th>card5_freq</th>\n",
              "      <th>card6_freq</th>\n",
              "      <th>addr1_freq</th>\n",
              "      <th>addr2_freq</th>\n",
              "    </tr>\n",
              "  </thead>\n",
              "  <tbody>\n",
              "    <tr>\n",
              "      <th>0</th>\n",
              "      <td>68.5</td>\n",
              "      <td>W</td>\n",
              "      <td>13926</td>\n",
              "      <td>NaN</td>\n",
              "      <td>150.0</td>\n",
              "      <td>discover</td>\n",
              "      <td>142.0</td>\n",
              "      <td>credit</td>\n",
              "      <td>315.0</td>\n",
              "      <td>87.0</td>\n",
              "      <td>19.0</td>\n",
              "      <td>NaN</td>\n",
              "      <td>nan</td>\n",
              "      <td>nan</td>\n",
              "      <td>1.0</td>\n",
              "      <td>1.0</td>\n",
              "      <td>0.0</td>\n",
              "      <td>0.0</td>\n",
              "      <td>0.0</td>\n",
              "      <td>1.0</td>\n",
              "      <td>0.0</td>\n",
              "      <td>0.0</td>\n",
              "      <td>1.0</td>\n",
              "      <td>0.0</td>\n",
              "      <td>2.0</td>\n",
              "      <td>0.0</td>\n",
              "      <td>1.0</td>\n",
              "      <td>1.0</td>\n",
              "      <td>14.0</td>\n",
              "      <td>NaN</td>\n",
              "      <td>13.0</td>\n",
              "      <td>NaN</td>\n",
              "      <td>NaN</td>\n",
              "      <td>NaN</td>\n",
              "      <td>NaN</td>\n",
              "      <td>NaN</td>\n",
              "      <td>NaN</td>\n",
              "      <td>13.0</td>\n",
              "      <td>13.0</td>\n",
              "      <td>NaN</td>\n",
              "      <td>...</td>\n",
              "      <td>117.0</td>\n",
              "      <td>0.0</td>\n",
              "      <td>0.0</td>\n",
              "      <td>0.0</td>\n",
              "      <td>0.0</td>\n",
              "      <td>NaN</td>\n",
              "      <td>NaN</td>\n",
              "      <td>NaN</td>\n",
              "      <td>NaN</td>\n",
              "      <td>NaN</td>\n",
              "      <td>NaN</td>\n",
              "      <td>NaN</td>\n",
              "      <td>NaN</td>\n",
              "      <td>NaN</td>\n",
              "      <td>NaN</td>\n",
              "      <td>NaN</td>\n",
              "      <td>NaN</td>\n",
              "      <td>NaN</td>\n",
              "      <td>NaN</td>\n",
              "      <td>NaN</td>\n",
              "      <td>NaN</td>\n",
              "      <td>NaN</td>\n",
              "      <td>NaN</td>\n",
              "      <td>2017</td>\n",
              "      <td>12</td>\n",
              "      <td>5</td>\n",
              "      <td>48</td>\n",
              "      <td>0</td>\n",
              "      <td>2</td>\n",
              "      <td>13926|nan|</td>\n",
              "      <td>13926|nan|150.0|142.0|</td>\n",
              "      <td>13926|nan|150.0|142.0|315.0|87.0|</td>\n",
              "      <td>0.000061</td>\n",
              "      <td>NaN</td>\n",
              "      <td>0.879737</td>\n",
              "      <td>0.013211</td>\n",
              "      <td>0.000274</td>\n",
              "      <td>0.317939</td>\n",
              "      <td>0.042773</td>\n",
              "      <td>0.982344</td>\n",
              "    </tr>\n",
              "    <tr>\n",
              "      <th>1</th>\n",
              "      <td>29.0</td>\n",
              "      <td>W</td>\n",
              "      <td>2755</td>\n",
              "      <td>404.0</td>\n",
              "      <td>150.0</td>\n",
              "      <td>mastercard</td>\n",
              "      <td>102.0</td>\n",
              "      <td>credit</td>\n",
              "      <td>325.0</td>\n",
              "      <td>87.0</td>\n",
              "      <td>NaN</td>\n",
              "      <td>NaN</td>\n",
              "      <td>gmail.com</td>\n",
              "      <td>nan</td>\n",
              "      <td>1.0</td>\n",
              "      <td>1.0</td>\n",
              "      <td>0.0</td>\n",
              "      <td>0.0</td>\n",
              "      <td>0.0</td>\n",
              "      <td>1.0</td>\n",
              "      <td>0.0</td>\n",
              "      <td>0.0</td>\n",
              "      <td>0.0</td>\n",
              "      <td>0.0</td>\n",
              "      <td>1.0</td>\n",
              "      <td>0.0</td>\n",
              "      <td>1.0</td>\n",
              "      <td>1.0</td>\n",
              "      <td>0.0</td>\n",
              "      <td>NaN</td>\n",
              "      <td>NaN</td>\n",
              "      <td>0.0</td>\n",
              "      <td>NaN</td>\n",
              "      <td>NaN</td>\n",
              "      <td>NaN</td>\n",
              "      <td>NaN</td>\n",
              "      <td>NaN</td>\n",
              "      <td>0.0</td>\n",
              "      <td>NaN</td>\n",
              "      <td>NaN</td>\n",
              "      <td>...</td>\n",
              "      <td>0.0</td>\n",
              "      <td>0.0</td>\n",
              "      <td>0.0</td>\n",
              "      <td>0.0</td>\n",
              "      <td>0.0</td>\n",
              "      <td>NaN</td>\n",
              "      <td>NaN</td>\n",
              "      <td>NaN</td>\n",
              "      <td>NaN</td>\n",
              "      <td>NaN</td>\n",
              "      <td>NaN</td>\n",
              "      <td>NaN</td>\n",
              "      <td>NaN</td>\n",
              "      <td>NaN</td>\n",
              "      <td>NaN</td>\n",
              "      <td>NaN</td>\n",
              "      <td>NaN</td>\n",
              "      <td>NaN</td>\n",
              "      <td>NaN</td>\n",
              "      <td>NaN</td>\n",
              "      <td>NaN</td>\n",
              "      <td>NaN</td>\n",
              "      <td>NaN</td>\n",
              "      <td>2017</td>\n",
              "      <td>12</td>\n",
              "      <td>5</td>\n",
              "      <td>48</td>\n",
              "      <td>0</td>\n",
              "      <td>2</td>\n",
              "      <td>2755|404.0|</td>\n",
              "      <td>2755|404.0|150.0|102.0|</td>\n",
              "      <td>2755|404.0|150.0|102.0|325.0|87.0|</td>\n",
              "      <td>0.001244</td>\n",
              "      <td>0.006855</td>\n",
              "      <td>0.879737</td>\n",
              "      <td>0.302783</td>\n",
              "      <td>0.054723</td>\n",
              "      <td>0.317939</td>\n",
              "      <td>0.080004</td>\n",
              "      <td>0.982344</td>\n",
              "    </tr>\n",
              "    <tr>\n",
              "      <th>2</th>\n",
              "      <td>59.0</td>\n",
              "      <td>W</td>\n",
              "      <td>4663</td>\n",
              "      <td>490.0</td>\n",
              "      <td>150.0</td>\n",
              "      <td>visa</td>\n",
              "      <td>166.0</td>\n",
              "      <td>debit</td>\n",
              "      <td>330.0</td>\n",
              "      <td>87.0</td>\n",
              "      <td>287.0</td>\n",
              "      <td>NaN</td>\n",
              "      <td>outlook.com</td>\n",
              "      <td>nan</td>\n",
              "      <td>1.0</td>\n",
              "      <td>1.0</td>\n",
              "      <td>0.0</td>\n",
              "      <td>0.0</td>\n",
              "      <td>0.0</td>\n",
              "      <td>1.0</td>\n",
              "      <td>0.0</td>\n",
              "      <td>0.0</td>\n",
              "      <td>1.0</td>\n",
              "      <td>0.0</td>\n",
              "      <td>1.0</td>\n",
              "      <td>0.0</td>\n",
              "      <td>1.0</td>\n",
              "      <td>1.0</td>\n",
              "      <td>0.0</td>\n",
              "      <td>NaN</td>\n",
              "      <td>NaN</td>\n",
              "      <td>0.0</td>\n",
              "      <td>NaN</td>\n",
              "      <td>NaN</td>\n",
              "      <td>NaN</td>\n",
              "      <td>NaN</td>\n",
              "      <td>NaN</td>\n",
              "      <td>0.0</td>\n",
              "      <td>315.0</td>\n",
              "      <td>NaN</td>\n",
              "      <td>...</td>\n",
              "      <td>0.0</td>\n",
              "      <td>0.0</td>\n",
              "      <td>0.0</td>\n",
              "      <td>0.0</td>\n",
              "      <td>0.0</td>\n",
              "      <td>NaN</td>\n",
              "      <td>NaN</td>\n",
              "      <td>NaN</td>\n",
              "      <td>NaN</td>\n",
              "      <td>NaN</td>\n",
              "      <td>NaN</td>\n",
              "      <td>NaN</td>\n",
              "      <td>NaN</td>\n",
              "      <td>NaN</td>\n",
              "      <td>NaN</td>\n",
              "      <td>NaN</td>\n",
              "      <td>NaN</td>\n",
              "      <td>NaN</td>\n",
              "      <td>NaN</td>\n",
              "      <td>NaN</td>\n",
              "      <td>NaN</td>\n",
              "      <td>NaN</td>\n",
              "      <td>NaN</td>\n",
              "      <td>2017</td>\n",
              "      <td>12</td>\n",
              "      <td>5</td>\n",
              "      <td>48</td>\n",
              "      <td>0</td>\n",
              "      <td>2</td>\n",
              "      <td>4663|490.0|</td>\n",
              "      <td>4663|490.0|150.0|166.0|</td>\n",
              "      <td>4663|490.0|150.0|166.0|330.0|87.0|</td>\n",
              "      <td>0.001428</td>\n",
              "      <td>0.061413</td>\n",
              "      <td>0.879737</td>\n",
              "      <td>0.657194</td>\n",
              "      <td>0.080269</td>\n",
              "      <td>0.681922</td>\n",
              "      <td>0.046205</td>\n",
              "      <td>0.982344</td>\n",
              "    </tr>\n",
              "  </tbody>\n",
              "</table>\n",
              "<p>3 rows × 408 columns</p>\n",
              "</div>"
            ],
            "text/plain": [
              "   TransactionAmt ProductCD  card1  ...  card6_freq  addr1_freq addr2_freq\n",
              "0            68.5         W  13926  ...    0.317939    0.042773   0.982344\n",
              "1            29.0         W   2755  ...    0.317939    0.080004   0.982344\n",
              "2            59.0         W   4663  ...    0.681922    0.046205   0.982344\n",
              "\n",
              "[3 rows x 408 columns]"
            ]
          },
          "metadata": {
            "tags": []
          },
          "execution_count": 93
        }
      ]
    },
    {
      "cell_type": "code",
      "metadata": {
        "id": "P-aucjDJwSc9"
      },
      "source": [
        "categorical_feature_names.remove('card1+card2')\n",
        "categorical_feature_names.remove('card1+card2+card3+card5')\n",
        "categorical_feature_names.remove('card1+card2+card3+card5+addr1+addr2')\n",
        "bad_features = ['card1+card2',\t'card1+card2+card3+card5',\t'card1+card2+card3+card5+addr1+addr2']"
      ],
      "execution_count": 94,
      "outputs": []
    },
    {
      "cell_type": "code",
      "metadata": {
        "colab": {
          "base_uri": "https://localhost:8080/"
        },
        "id": "cXa-os-e4jgn",
        "outputId": "e8acb0b6-e83b-4885-d847-0eac7876337b"
      },
      "source": [
        "model_catb = cb.CatBoostClassifier(**cb_params)\n",
        "model_catb.fit(x_train.drop(columns=bad_features), y_train, eval_set=[(x_valid.drop(columns=bad_features), y_valid)], cat_features=categorical_feature_names)"
      ],
      "execution_count": 95,
      "outputs": [
        {
          "output_type": "stream",
          "text": [
            "0:\tlearn: 0.6734327\ttest: 0.6576363\tbest: 0.6576363 (0)\ttotal: 15.5ms\tremaining: 15.4s\n",
            "100:\tlearn: 0.8766174\ttest: 0.8546659\tbest: 0.8546841 (96)\ttotal: 1.14s\tremaining: 10.2s\n",
            "200:\tlearn: 0.8868750\ttest: 0.8599334\tbest: 0.8599334 (200)\ttotal: 2.13s\tremaining: 8.45s\n",
            "300:\tlearn: 0.8959241\ttest: 0.8662692\tbest: 0.8662692 (300)\ttotal: 3.09s\tremaining: 7.17s\n",
            "400:\tlearn: 0.9005053\ttest: 0.8683697\tbest: 0.8684644 (393)\ttotal: 4.08s\tremaining: 6.09s\n",
            "500:\tlearn: 0.9043432\ttest: 0.8709120\tbest: 0.8709120 (500)\ttotal: 5s\tremaining: 4.98s\n",
            "600:\tlearn: 0.9079051\ttest: 0.8731821\tbest: 0.8731821 (600)\ttotal: 6s\tremaining: 3.98s\n",
            "700:\tlearn: 0.9103289\ttest: 0.8752802\tbest: 0.8753095 (697)\ttotal: 6.96s\tremaining: 2.97s\n",
            "800:\tlearn: 0.9123986\ttest: 0.8771481\tbest: 0.8771618 (798)\ttotal: 7.9s\tremaining: 1.96s\n",
            "900:\tlearn: 0.9147204\ttest: 0.8793283\tbest: 0.8793705 (896)\ttotal: 8.87s\tremaining: 975ms\n",
            "999:\tlearn: 0.9165937\ttest: 0.8817821\tbest: 0.8817902 (995)\ttotal: 9.81s\tremaining: 0us\n",
            "bestTest = 0.8817901909\n",
            "bestIteration = 995\n",
            "Shrink model to first 996 iterations.\n"
          ],
          "name": "stdout"
        },
        {
          "output_type": "execute_result",
          "data": {
            "text/plain": [
              "<catboost.core.CatBoostClassifier at 0x7fe22df7d990>"
            ]
          },
          "metadata": {
            "tags": []
          },
          "execution_count": 95
        }
      ]
    },
    {
      "cell_type": "code",
      "metadata": {
        "id": "dn1gQ-6m4p69"
      },
      "source": [
        "train_pred = model_catb.predict_proba(x_train.drop(columns=bad_features))\n",
        "valid_pred = model_catb.predict_proba(x_valid.drop(columns=bad_features))\n",
        "lb_pred = model_catb.predict_proba(x_lb.drop(columns=bad_features))"
      ],
      "execution_count": 96,
      "outputs": []
    },
    {
      "cell_type": "code",
      "metadata": {
        "colab": {
          "base_uri": "https://localhost:8080/",
          "height": 320
        },
        "id": "aCEI1qBp48PP",
        "outputId": "a3e9a1d2-f59d-4ca0-f300-2871a386e78e"
      },
      "source": [
        "fig = plt.figure(figsize=(10, 5))\n",
        "train_fpr_catb, train_tpr_catb, _ = metrics.roc_curve(y_train,  train_pred[:, 1])\n",
        "train_auc_catb = metrics.roc_auc_score(y_train, train_pred[:, 1])\n",
        "valid_fpr_catb, valid_tpr_catb, _ = metrics.roc_curve(y_valid,  valid_pred[:, 1])\n",
        "valid_auc_catb = metrics.roc_auc_score(y_valid, valid_pred[:, 1])\n",
        "lb_auc_catb = metrics.roc_auc_score(y_lb, lb_pred[:, 1])\n",
        "plt.plot(train_fpr_catb, train_tpr_catb, label=\"train, auc=\"+str(train_auc_catb))\n",
        "plt.plot(valid_fpr_catb, valid_tpr_catb, label=\"valid, auc=\"+str(valid_auc_catb))\n",
        "plt.legend(loc=4)\n",
        "plt.grid()\n",
        "plt.show()"
      ],
      "execution_count": 97,
      "outputs": [
        {
          "output_type": "display_data",
          "data": {
            "image/png": "[encoded data removed]",
            "text/plain": [
              "<Figure size 720x360 with 1 Axes>"
            ]
          },
          "metadata": {
            "tags": [],
            "needs_background": "light"
          }
        }
      ]
    },
    {
      "cell_type": "code",
      "metadata": {
        "colab": {
          "base_uri": "https://localhost:8080/"
        },
        "id": "xE4xje1i4_6_",
        "outputId": "26684b09-d62f-40ef-b6da-1812a627c2ce"
      },
      "source": [
        "np.random.seed(27)\n",
        "train_scores = create_bootstrap_metrics(y_train, model_catb.predict_proba(x_train.drop(columns=bad_features))[:, 1], roc_auc_score)\n",
        "valid_scores = create_bootstrap_metrics(y_valid, model_catb.predict_proba(x_valid.drop(columns=bad_features))[:, 1], roc_auc_score)\n",
        "print(f'Train confidence interval = {calculate_confidence_interval(train_scores)}')\n",
        "print(f'Valid confidence interval = {calculate_confidence_interval(valid_scores)}')\n",
        "print(f'Liderboard score = {lb_auc_catb}')"
      ],
      "execution_count": 98,
      "outputs": [
        {
          "output_type": "stream",
          "text": [
            "Train confidence interval = (0.9102223693382371, 0.922512710682003)\n",
            "Valid confidence interval = (0.8720221200041807, 0.890576866212448)\n",
            "Liderboard score = 0.8670819988144947\n"
          ],
          "name": "stdout"
        }
      ]
    },
    {
      "cell_type": "markdown",
      "metadata": {
        "id": "K_F-WPxonvfV"
      },
      "source": [
        "Вывод: обработка признаков улучшила точность модели на 0.001"
      ]
    },
    {
      "cell_type": "markdown",
      "metadata": {
        "id": "fpGTfDlI60q7"
      },
      "source": [
        "## Задание 4: Создать признаки на основе отношения: TransactionAmt к вычисленной статистике. Статистика - среднее значение / стандартное отклонение TransactionAmt, сгруппированное по card1 - card6, addr1, addr2, и по признакам, созданным в задании 2."
      ]
    },
    {
      "cell_type": "code",
      "metadata": {
        "id": "GAwv3rPq3xpt"
      },
      "source": [
        "def add_stat_features(data: pd.DataFrame,\n",
        "                            groupby_features: List[str],\n",
        "                            feature_to_stat: str\n",
        "                            ) -> pd.DataFrame:\n",
        "    \"\"\"\n",
        "    Вычисляет новые признаки (feature_to_stat/(среднее значение/стандартное отклоненеие для feature_to_stat))  \n",
        "    с группированием по признакам groupby_features датафрейма data.\n",
        "\n",
        "\n",
        "    Parameters\n",
        "    ----------\n",
        "    data: pandas.core.frame.DataFrame\n",
        "        Датафрейм для создания признаков.\n",
        "\n",
        "    groupby_features: List[str]\n",
        "        Список с названием признаков, по которым производится группировка.\n",
        "\n",
        "    feature_to_stat - признак, на основе которого будут вычисляться статистики\n",
        "\n",
        "    Returns\n",
        "    -------\n",
        "    data: pandas.core.frame.DataFrame\n",
        "        Выборка с добавленными признаками.\n",
        "\n",
        "    \"\"\"\n",
        "    for feature in groupby_features:\n",
        "      stat = data.groupby(feature).agg({feature_to_stat: [np.mean, np.std]}).reset_index()\n",
        "      stat.columns = [feature, 'mean_' + feature_to_stat, 'std_' + feature_to_stat]\n",
        "      stat[feature_to_stat+'_'+feature+'_stat'] = stat['mean_' + feature_to_stat]/stat['std_' + feature_to_stat]\n",
        "      stat.drop(columns=['mean_' + feature_to_stat, 'std_' + feature_to_stat], inplace=True)\n",
        "      data = pd.merge(data, stat, on=feature, how='left')\n",
        "      data[feature+'_stat'] = data[feature_to_stat] / data[feature_to_stat+'_'+feature+'_stat']\n",
        "    return data"
      ],
      "execution_count": 105,
      "outputs": []
    },
    {
      "cell_type": "code",
      "metadata": {
        "id": "2hIVf1N1AI0E"
      },
      "source": [
        "groupby_features = ['card1','card2','card3','card4','card5','card6','addr1','addr2',\n",
        "                    'card1+card2', 'card1+card2+card3+card5', 'card1+card2+card3+card5+addr1+addr2']\n",
        "data = pd.concat([x_train, x_valid])\n",
        "\n",
        "data = add_stat_features(data, groupby_features=groupby_features, feature_to_stat='TransactionAmt')\n",
        "x_lb = add_stat_features(x_lb, groupby_features=groupby_features, feature_to_stat='TransactionAmt')\n",
        "\n",
        "#data.drop(columns=['card1+card2', 'card1+card2+card3+card5', 'card1+card2+card3+card5+addr1+addr2'], inplace=True)\n",
        "#lb.drop(columns=['card1+card2', 'card1+card2+card3+card5', 'card1+card2+card3+card5+addr1+addr2'], inplace=True)\n",
        "\n",
        "x_train = data.iloc[:125999]\n",
        "x_valid = data.iloc[125999:]"
      ],
      "execution_count": 106,
      "outputs": []
    },
    {
      "cell_type": "code",
      "metadata": {
        "colab": {
          "base_uri": "https://localhost:8080/"
        },
        "id": "C-7ZAINnEwsC",
        "outputId": "1fbf5cd7-ab34-4bda-a7bb-3ab61b001361"
      },
      "source": [
        "model_catb = cb.CatBoostClassifier(**cb_params)\n",
        "model_catb.fit(x_train.drop(columns=bad_features), y_train, eval_set=[(x_valid.drop(columns=bad_features), y_valid)], cat_features=categorical_feature_names)"
      ],
      "execution_count": 107,
      "outputs": [
        {
          "output_type": "stream",
          "text": [
            "0:\tlearn: 0.6734327\ttest: 0.6576363\tbest: 0.6576363 (0)\ttotal: 15.5ms\tremaining: 15.5s\n",
            "100:\tlearn: 0.8790240\ttest: 0.8561936\tbest: 0.8561936 (100)\ttotal: 1.07s\tremaining: 9.57s\n",
            "200:\tlearn: 0.8878806\ttest: 0.8630585\tbest: 0.8630585 (200)\ttotal: 2.01s\tremaining: 7.98s\n",
            "300:\tlearn: 0.8962606\ttest: 0.8661961\tbest: 0.8662019 (299)\ttotal: 2.92s\tremaining: 6.78s\n",
            "400:\tlearn: 0.9009526\ttest: 0.8694460\tbest: 0.8694806 (398)\ttotal: 3.85s\tremaining: 5.75s\n",
            "500:\tlearn: 0.9049004\ttest: 0.8721395\tbest: 0.8724090 (488)\ttotal: 4.87s\tremaining: 4.85s\n",
            "600:\tlearn: 0.9074336\ttest: 0.8736686\tbest: 0.8737066 (592)\ttotal: 5.77s\tremaining: 3.83s\n",
            "700:\tlearn: 0.9100474\ttest: 0.8765931\tbest: 0.8765931 (700)\ttotal: 6.72s\tremaining: 2.87s\n",
            "800:\tlearn: 0.9129595\ttest: 0.8786175\tbest: 0.8786175 (800)\ttotal: 7.71s\tremaining: 1.91s\n",
            "900:\tlearn: 0.9149648\ttest: 0.8808670\tbest: 0.8809057 (898)\ttotal: 8.65s\tremaining: 950ms\n",
            "999:\tlearn: 0.9170019\ttest: 0.8830609\tbest: 0.8830609 (999)\ttotal: 9.57s\tremaining: 0us\n",
            "bestTest = 0.8830608726\n",
            "bestIteration = 999\n"
          ],
          "name": "stdout"
        },
        {
          "output_type": "execute_result",
          "data": {
            "text/plain": [
              "<catboost.core.CatBoostClassifier at 0x7fe22879d550>"
            ]
          },
          "metadata": {
            "tags": []
          },
          "execution_count": 107
        }
      ]
    },
    {
      "cell_type": "code",
      "metadata": {
        "id": "QEyC_LB3E8Cb"
      },
      "source": [
        "train_pred = model_catb.predict_proba(x_train.drop(columns=bad_features))\n",
        "valid_pred = model_catb.predict_proba(x_valid.drop(columns=bad_features))\n",
        "lb_pred = model_catb.predict_proba(x_lb.drop(columns=bad_features))"
      ],
      "execution_count": 108,
      "outputs": []
    },
    {
      "cell_type": "code",
      "metadata": {
        "colab": {
          "base_uri": "https://localhost:8080/",
          "height": 320
        },
        "id": "qVCggNnjFMFT",
        "outputId": "c2fc0817-5eac-4360-9ee0-c2f625cde165"
      },
      "source": [
        "fig = plt.figure(figsize=(10, 5))\n",
        "train_fpr_catb, train_tpr_catb, _ = metrics.roc_curve(y_train,  train_pred[:, 1])\n",
        "train_auc_catb = metrics.roc_auc_score(y_train, train_pred[:, 1])\n",
        "valid_fpr_catb, valid_tpr_catb, _ = metrics.roc_curve(y_valid,  valid_pred[:, 1])\n",
        "valid_auc_catb = metrics.roc_auc_score(y_valid, valid_pred[:, 1])\n",
        "lb_auc_catb = metrics.roc_auc_score(y_lb, lb_pred[:, 1])\n",
        "plt.plot(train_fpr_catb, train_tpr_catb, label=\"train, auc=\"+str(train_auc_catb))\n",
        "plt.plot(valid_fpr_catb, valid_tpr_catb, label=\"valid, auc=\"+str(valid_auc_catb))\n",
        "plt.legend(loc=4)\n",
        "plt.grid()\n",
        "plt.show()"
      ],
      "execution_count": 109,
      "outputs": [
        {
          "output_type": "display_data",
          "data": {
            "image/png": "[encoded data removed]",
            "text/plain": [
              "<Figure size 720x360 with 1 Axes>"
            ]
          },
          "metadata": {
            "tags": [],
            "needs_background": "light"
          }
        }
      ]
    },
    {
      "cell_type": "code",
      "metadata": {
        "colab": {
          "base_uri": "https://localhost:8080/"
        },
        "id": "mFCl4aFjGTu-",
        "outputId": "97f012c0-9d5e-4eda-ba4d-ba9536eceec1"
      },
      "source": [
        "np.random.seed(27)\n",
        "train_scores = create_bootstrap_metrics(y_train, model_catb.predict_proba(x_train.drop(columns=bad_features))[:, 1], roc_auc_score)\n",
        "valid_scores = create_bootstrap_metrics(y_valid, model_catb.predict_proba(x_valid.drop(columns=bad_features))[:, 1], roc_auc_score)\n",
        "print(f'Train confidence interval = {calculate_confidence_interval(train_scores)}')\n",
        "print(f'Valid confidence interval = {calculate_confidence_interval(valid_scores)}')\n",
        "print(f'Liderboard score = {lb_auc_catb}')"
      ],
      "execution_count": 110,
      "outputs": [
        {
          "output_type": "stream",
          "text": [
            "Train confidence interval = (0.9107071800987113, 0.9229890708619648)\n",
            "Valid confidence interval = (0.8735119399580694, 0.8920106162089712)\n",
            "Liderboard score = 0.864601107401547\n"
          ],
          "name": "stdout"
        }
      ]
    },
    {
      "cell_type": "markdown",
      "metadata": {
        "id": "ezLiSzOIoO2W"
      },
      "source": [
        "Вывод: на валидации результат улучшился, а на лидерборде - ухудшился. Возможно переобучение на валидационной выборке"
      ]
    },
    {
      "cell_type": "markdown",
      "metadata": {
        "id": "RF676G4BHGuR"
      },
      "source": [
        "## Задание 5: Создать признаки на основе отношения: D15 к вычисленной статистике. Статистика - среднее значение / стандартное отклонение D15, сгруппированное по card1 - card6, addr1, addr2, и по признакам, созданным в задании 2."
      ]
    },
    {
      "cell_type": "code",
      "metadata": {
        "id": "qxlcxvrWJTZq"
      },
      "source": [
        "groupby_features = ['card1','card2','card3','card4','card5','card6','addr1','addr2',\n",
        "                    'card1+card2', 'card1+card2+card3+card5', 'card1+card2+card3+card5+addr1+addr2']\n",
        "\n",
        "data = pd.concat([x_train, x_valid])\n",
        "\n",
        "data = add_stat_features(data, groupby_features=groupby_features, feature_to_stat='D15')\n",
        "x_lb = add_stat_features(x_lb, groupby_features=groupby_features, feature_to_stat='D15')\n",
        "\n",
        "x_train = data.iloc[:125999]\n",
        "x_valid = data.iloc[125999:]\n",
        "#data.drop(columns=['card1+card2', 'card1+card2+card3+card5', 'card1+card2+card3+card5+addr1+addr2'], inplace=True)\n",
        "#lb.drop(columns=['card1+card2', 'card1+card2+card3+card5', 'card1+card2+card3+card5+addr1+addr2'], inplace=True)"
      ],
      "execution_count": 111,
      "outputs": []
    },
    {
      "cell_type": "code",
      "metadata": {
        "colab": {
          "base_uri": "https://localhost:8080/"
        },
        "id": "TCn9sqC1KDBm",
        "outputId": "9ad64d7e-1e04-4bfc-96a1-489af6f56557"
      },
      "source": [
        "model_catb = cb.CatBoostClassifier(**cb_params)\n",
        "model_catb.fit(x_train.drop(columns=bad_features), y_train, eval_set=[(x_valid.drop(columns=bad_features), y_valid)], cat_features=categorical_feature_names)"
      ],
      "execution_count": 112,
      "outputs": [
        {
          "output_type": "stream",
          "text": [
            "0:\tlearn: 0.6734327\ttest: 0.6576363\tbest: 0.6576363 (0)\ttotal: 15.8ms\tremaining: 15.8s\n",
            "100:\tlearn: 0.8763366\ttest: 0.8544645\tbest: 0.8544747 (93)\ttotal: 1.11s\tremaining: 9.91s\n",
            "200:\tlearn: 0.8846852\ttest: 0.8592085\tbest: 0.8593178 (190)\ttotal: 2.14s\tremaining: 8.5s\n",
            "300:\tlearn: 0.8943070\ttest: 0.8646220\tbest: 0.8646220 (300)\ttotal: 3.1s\tremaining: 7.2s\n",
            "400:\tlearn: 0.8992400\ttest: 0.8691216\tbest: 0.8691561 (358)\ttotal: 4.02s\tremaining: 6s\n",
            "500:\tlearn: 0.9036724\ttest: 0.8720454\tbest: 0.8720454 (500)\ttotal: 4.93s\tremaining: 4.91s\n",
            "600:\tlearn: 0.9072204\ttest: 0.8748295\tbest: 0.8749220 (591)\ttotal: 5.86s\tremaining: 3.89s\n",
            "700:\tlearn: 0.9099557\ttest: 0.8768017\tbest: 0.8769052 (698)\ttotal: 6.79s\tremaining: 2.9s\n",
            "800:\tlearn: 0.9126585\ttest: 0.8789162\tbest: 0.8789162 (800)\ttotal: 7.72s\tremaining: 1.92s\n",
            "900:\tlearn: 0.9150513\ttest: 0.8803412\tbest: 0.8803412 (900)\ttotal: 8.67s\tremaining: 952ms\n",
            "999:\tlearn: 0.9176612\ttest: 0.8824760\tbest: 0.8824760 (999)\ttotal: 9.67s\tremaining: 0us\n",
            "bestTest = 0.8824759722\n",
            "bestIteration = 999\n"
          ],
          "name": "stdout"
        },
        {
          "output_type": "execute_result",
          "data": {
            "text/plain": [
              "<catboost.core.CatBoostClassifier at 0x7fe240e32050>"
            ]
          },
          "metadata": {
            "tags": []
          },
          "execution_count": 112
        }
      ]
    },
    {
      "cell_type": "code",
      "metadata": {
        "id": "Dhe-yfDeKHw4"
      },
      "source": [
        "train_pred = model_catb.predict_proba(x_train.drop(columns=bad_features))\n",
        "valid_pred = model_catb.predict_proba(x_valid.drop(columns=bad_features))\n",
        "lb_pred = model_catb.predict_proba(x_lb.drop(columns=bad_features))"
      ],
      "execution_count": 113,
      "outputs": []
    },
    {
      "cell_type": "code",
      "metadata": {
        "colab": {
          "base_uri": "https://localhost:8080/",
          "height": 320
        },
        "id": "6dO25VMrKVX5",
        "outputId": "ce95e54e-0b5a-4070-ff0c-931eb94c8aca"
      },
      "source": [
        "fig = plt.figure(figsize=(10, 5))\n",
        "train_fpr_catb, train_tpr_catb, _ = metrics.roc_curve(y_train,  train_pred[:, 1])\n",
        "train_auc_catb = metrics.roc_auc_score(y_train, train_pred[:, 1])\n",
        "valid_fpr_catb, valid_tpr_catb, _ = metrics.roc_curve(y_valid,  valid_pred[:, 1])\n",
        "valid_auc_catb = metrics.roc_auc_score(y_valid, valid_pred[:, 1])\n",
        "lb_auc_catb = metrics.roc_auc_score(y_lb, lb_pred[:, 1])\n",
        "plt.plot(train_fpr_catb, train_tpr_catb, label=\"train, auc=\"+str(train_auc_catb))\n",
        "plt.plot(valid_fpr_catb, valid_tpr_catb, label=\"valid, auc=\"+str(valid_auc_catb))\n",
        "plt.legend(loc=4)\n",
        "plt.grid()\n",
        "plt.show()"
      ],
      "execution_count": 114,
      "outputs": [
        {
          "output_type": "display_data",
          "data": {
            "image/png": "[encoded data removed]",
            "text/plain": [
              "<Figure size 720x360 with 1 Axes>"
            ]
          },
          "metadata": {
            "tags": [],
            "needs_background": "light"
          }
        }
      ]
    },
    {
      "cell_type": "code",
      "metadata": {
        "colab": {
          "base_uri": "https://localhost:8080/"
        },
        "id": "Y9ueOVLiKgiK",
        "outputId": "c97b9c69-5eff-4cb3-913b-6137db5a7d46"
      },
      "source": [
        "np.random.seed(27)\n",
        "train_scores = create_bootstrap_metrics(y_train, model_catb.predict_proba(x_train.drop(columns=bad_features))[:, 1], roc_auc_score)\n",
        "valid_scores = create_bootstrap_metrics(y_valid, model_catb.predict_proba(x_valid.drop(columns=bad_features))[:, 1], roc_auc_score)\n",
        "print(f'Train confidence interval = {calculate_confidence_interval(train_scores)}')\n",
        "print(f'Valid confidence interval = {calculate_confidence_interval(valid_scores)}')\n",
        "print(f'Liderboard score = {lb_auc_catb}')"
      ],
      "execution_count": 115,
      "outputs": [
        {
          "output_type": "stream",
          "text": [
            "Train confidence interval = (0.9113481060046793, 0.9235035334865145)\n",
            "Valid confidence interval = (0.8724262026641665, 0.8916014853908777)\n",
            "Liderboard score = 0.8607895967667208\n"
          ],
          "name": "stdout"
        }
      ]
    },
    {
      "cell_type": "markdown",
      "metadata": {
        "id": "6k7XluJvorZN"
      },
      "source": [
        "Вывод: обработка признаков привело к ухудшению результата как на валидации, так и надерборде."
      ]
    },
    {
      "cell_type": "markdown",
      "metadata": {
        "id": "jlIe5EizLoUD"
      },
      "source": [
        "## Задание 6: выделить дробную часть и целую часть признака TransactionAmt в два отдельных признака. После создать отдельных признак - логарифм от TransactionAmt"
      ]
    },
    {
      "cell_type": "code",
      "metadata": {
        "id": "MlW_9aCQN_Gq"
      },
      "source": [
        "def log_transform(data: pd.DataFrame,\n",
        "                            feature_to_transform: str,\n",
        "                            delete_old = False,\n",
        "                            ) -> pd.DataFrame:\n",
        "    \"\"\"\n",
        "    Создает 3 новых признака в датафрейме data на основе \n",
        "    признака feature_to_transform: целая часть признака,\n",
        "    дробная часть признака и логарифм от признака\n",
        "\n",
        "\n",
        "    Parameters\n",
        "    ----------\n",
        "    data: pandas.core.frame.DataFrame\n",
        "        Датафрейм для создания признаков.\n",
        "\n",
        "    feature_to_transform - признак, на основе которого будут вычисляться другие признаки\n",
        "\n",
        "    delete_old - удалять ли исходный признак\n",
        "\n",
        "    Returns\n",
        "    -------\n",
        "    data: pandas.core.frame.DataFrame\n",
        "        Выборка с добавленными признаками.\n",
        "\n",
        "    \"\"\"\n",
        "    data[feature_to_transform + '_left'] = data[feature_to_transform].apply(np.floor)\n",
        "    data[feature_to_transform + '_right'] = data[feature_to_transform] - data[feature_to_transform + '_left']\n",
        "    data['log_' + feature_to_transform] = data[feature_to_transform].apply(np.log)\n",
        "    if delete_old == True:\n",
        "      data.drop(columns=[feature_to_transform], inplace=True)\n",
        "\n",
        "    return data"
      ],
      "execution_count": 116,
      "outputs": []
    },
    {
      "cell_type": "code",
      "metadata": {
        "colab": {
          "base_uri": "https://localhost:8080/"
        },
        "id": "VJUk1gWFTaRy",
        "outputId": "d8f66ba5-d0eb-4fbe-e19a-371a7501dbdc"
      },
      "source": [
        "x_train = log_transform(x_train, 'TransactionAmt', delete_old=True)\n",
        "x_valid = log_transform(x_valid, 'TransactionAmt', delete_old=True)\n",
        "x_lb = log_transform(x_lb, 'TransactionAmt', delete_old=True)"
      ],
      "execution_count": 117,
      "outputs": [
        {
          "output_type": "stream",
          "text": [
            "/usr/local/lib/python3.7/dist-packages/ipykernel_launcher.py:26: SettingWithCopyWarning: \n",
            "A value is trying to be set on a copy of a slice from a DataFrame.\n",
            "Try using .loc[row_indexer,col_indexer] = value instead\n",
            "\n",
            "See the caveats in the documentation: https://pandas.pydata.org/pandas-docs/stable/user_guide/indexing.html#returning-a-view-versus-a-copy\n",
            "/usr/local/lib/python3.7/dist-packages/ipykernel_launcher.py:27: SettingWithCopyWarning: \n",
            "A value is trying to be set on a copy of a slice from a DataFrame.\n",
            "Try using .loc[row_indexer,col_indexer] = value instead\n",
            "\n",
            "See the caveats in the documentation: https://pandas.pydata.org/pandas-docs/stable/user_guide/indexing.html#returning-a-view-versus-a-copy\n",
            "/usr/local/lib/python3.7/dist-packages/ipykernel_launcher.py:28: SettingWithCopyWarning: \n",
            "A value is trying to be set on a copy of a slice from a DataFrame.\n",
            "Try using .loc[row_indexer,col_indexer] = value instead\n",
            "\n",
            "See the caveats in the documentation: https://pandas.pydata.org/pandas-docs/stable/user_guide/indexing.html#returning-a-view-versus-a-copy\n",
            "/usr/local/lib/python3.7/dist-packages/pandas/core/frame.py:4174: SettingWithCopyWarning: \n",
            "A value is trying to be set on a copy of a slice from a DataFrame\n",
            "\n",
            "See the caveats in the documentation: https://pandas.pydata.org/pandas-docs/stable/user_guide/indexing.html#returning-a-view-versus-a-copy\n",
            "  errors=errors,\n"
          ],
          "name": "stderr"
        }
      ]
    },
    {
      "cell_type": "code",
      "metadata": {
        "colab": {
          "base_uri": "https://localhost:8080/"
        },
        "id": "YQQtnhPIUQrq",
        "outputId": "bf14ab4e-c17e-4e16-f186-141388952301"
      },
      "source": [
        "model_catb = cb.CatBoostClassifier(**cb_params)\n",
        "model_catb.fit(x_train.drop(columns=bad_features), y_train, eval_set=[(x_valid.drop(columns=bad_features), y_valid)], cat_features=categorical_feature_names)"
      ],
      "execution_count": 118,
      "outputs": [
        {
          "output_type": "stream",
          "text": [
            "0:\tlearn: 0.6834284\ttest: 0.6805373\tbest: 0.6805373 (0)\ttotal: 15.3ms\tremaining: 15.3s\n",
            "100:\tlearn: 0.8786111\ttest: 0.8622825\tbest: 0.8624734 (94)\ttotal: 1.1s\tremaining: 9.8s\n",
            "200:\tlearn: 0.8868717\ttest: 0.8660442\tbest: 0.8660552 (179)\ttotal: 2.03s\tremaining: 8.09s\n",
            "300:\tlearn: 0.8931612\ttest: 0.8712050\tbest: 0.8712050 (300)\ttotal: 3.01s\tremaining: 7s\n",
            "400:\tlearn: 0.8979465\ttest: 0.8733134\tbest: 0.8735085 (377)\ttotal: 3.94s\tremaining: 5.88s\n",
            "500:\tlearn: 0.9030932\ttest: 0.8763840\tbest: 0.8763840 (500)\ttotal: 4.87s\tremaining: 4.86s\n",
            "600:\tlearn: 0.9067720\ttest: 0.8785569\tbest: 0.8786000 (597)\ttotal: 5.81s\tremaining: 3.86s\n",
            "700:\tlearn: 0.9094098\ttest: 0.8804280\tbest: 0.8805061 (699)\ttotal: 6.75s\tremaining: 2.88s\n",
            "800:\tlearn: 0.9120442\ttest: 0.8823907\tbest: 0.8824525 (791)\ttotal: 7.67s\tremaining: 1.9s\n",
            "900:\tlearn: 0.9143376\ttest: 0.8831729\tbest: 0.8832070 (892)\ttotal: 8.6s\tremaining: 945ms\n",
            "999:\tlearn: 0.9166302\ttest: 0.8842059\tbest: 0.8842934 (975)\ttotal: 9.56s\tremaining: 0us\n",
            "bestTest = 0.884293437\n",
            "bestIteration = 975\n",
            "Shrink model to first 976 iterations.\n"
          ],
          "name": "stdout"
        },
        {
          "output_type": "execute_result",
          "data": {
            "text/plain": [
              "<catboost.core.CatBoostClassifier at 0x7fe22310d290>"
            ]
          },
          "metadata": {
            "tags": []
          },
          "execution_count": 118
        }
      ]
    },
    {
      "cell_type": "code",
      "metadata": {
        "id": "o3haljEnVHSB"
      },
      "source": [
        "train_pred = model_catb.predict_proba(x_train.drop(columns=bad_features))\n",
        "valid_pred = model_catb.predict_proba(x_valid.drop(columns=bad_features))\n",
        "lb_pred = model_catb.predict_proba(x_lb.drop(columns=bad_features))"
      ],
      "execution_count": 119,
      "outputs": []
    },
    {
      "cell_type": "code",
      "metadata": {
        "colab": {
          "base_uri": "https://localhost:8080/",
          "height": 320
        },
        "id": "-kJGAHrfVXJy",
        "outputId": "d6b6fa85-3d41-412d-e2e5-d0d2d76fd642"
      },
      "source": [
        "fig = plt.figure(figsize=(10, 5))\n",
        "train_fpr_catb, train_tpr_catb, _ = metrics.roc_curve(y_train,  train_pred[:, 1])\n",
        "train_auc_catb = metrics.roc_auc_score(y_train, train_pred[:, 1])\n",
        "valid_fpr_catb, valid_tpr_catb, _ = metrics.roc_curve(y_valid,  valid_pred[:, 1])\n",
        "valid_auc_catb = metrics.roc_auc_score(y_valid, valid_pred[:, 1])\n",
        "lb_auc_catb = metrics.roc_auc_score(y_lb, lb_pred[:, 1])\n",
        "plt.plot(train_fpr_catb, train_tpr_catb, label=\"train, auc=\"+str(train_auc_catb))\n",
        "plt.plot(valid_fpr_catb, valid_tpr_catb, label=\"valid, auc=\"+str(valid_auc_catb))\n",
        "plt.legend(loc=4)\n",
        "plt.grid()\n",
        "plt.show()"
      ],
      "execution_count": 120,
      "outputs": [
        {
          "output_type": "display_data",
          "data": {
            "image/png": "[encoded data removed]",
            "text/plain": [
              "<Figure size 720x360 with 1 Axes>"
            ]
          },
          "metadata": {
            "tags": [],
            "needs_background": "light"
          }
        }
      ]
    },
    {
      "cell_type": "code",
      "metadata": {
        "colab": {
          "base_uri": "https://localhost:8080/"
        },
        "id": "plKZoeYiVcxK",
        "outputId": "7d74dc69-f7cc-45f9-dc9e-2476e0c9344f"
      },
      "source": [
        "np.random.seed(27)\n",
        "train_scores = create_bootstrap_metrics(y_train, model_catb.predict_proba(x_train.drop(columns=bad_features))[:, 1], roc_auc_score)\n",
        "valid_scores = create_bootstrap_metrics(y_valid, model_catb.predict_proba(x_valid.drop(columns=bad_features))[:, 1], roc_auc_score)\n",
        "print(f'Train confidence interval = {calculate_confidence_interval(train_scores)}')\n",
        "print(f'Valid confidence interval = {calculate_confidence_interval(valid_scores)}')\n",
        "print(f'Liderboard score = {lb_auc_catb}')"
      ],
      "execution_count": 121,
      "outputs": [
        {
          "output_type": "stream",
          "text": [
            "Train confidence interval = (0.9094349265653119, 0.9220229534812125)\n",
            "Valid confidence interval = (0.8742778414209784, 0.893127774907297)\n",
            "Liderboard score = 0.8647080858880251\n"
          ],
          "name": "stdout"
        }
      ]
    },
    {
      "cell_type": "markdown",
      "metadata": {
        "id": "qUCVmzFtpHBt"
      },
      "source": [
        "Вывод: обработка признаков привело к повышению точности работы модели на 0.002"
      ]
    },
    {
      "cell_type": "markdown",
      "metadata": {
        "id": "a8MpjvXdWCKQ"
      },
      "source": [
        "## Задание 7 (опция): выполнить предварительную подготовку / очистку признаков P_emaildomain и R_emaildomain (что и как делать - остается на ваше усмотрение) и сделать Frequency Encoding для очищенных признаков."
      ]
    },
    {
      "cell_type": "code",
      "metadata": {
        "id": "VINdrrJTbHJU"
      },
      "source": [
        "#data['P_emaildomain'] = data['P_emaildomain'].astype(str)\n",
        "#data['R_emaildomain'] = data['R_emaildomain'].astype(str)"
      ],
      "execution_count": 122,
      "outputs": []
    },
    {
      "cell_type": "code",
      "metadata": {
        "colab": {
          "base_uri": "https://localhost:8080/"
        },
        "id": "jKa_t-riajwq",
        "outputId": "90ffc111-4f97-4025-a057-beee30cd3456"
      },
      "source": [
        "x_train['P_emaildomain'] = x_train['P_emaildomain'].apply(lambda x: x.split('.')[-1])\n",
        "x_train['R_emaildomain'] = x_train['R_emaildomain'].apply(lambda x: x.split('.')[-1])\n",
        "\n",
        "x_valid['P_emaildomain'] = x_valid['P_emaildomain'].apply(lambda x: x.split('.')[-1])\n",
        "x_valid['R_emaildomain'] = x_valid['R_emaildomain'].apply(lambda x: x.split('.')[-1])\n",
        "\n",
        "x_lb['P_emaildomain'] = x_lb['P_emaildomain'].apply(lambda x: x.split('.')[-1])\n",
        "x_lb['R_emaildomain'] = x_lb['R_emaildomain'].apply(lambda x: x.split('.')[-1])"
      ],
      "execution_count": 123,
      "outputs": [
        {
          "output_type": "stream",
          "text": [
            "/usr/local/lib/python3.7/dist-packages/ipykernel_launcher.py:1: SettingWithCopyWarning: \n",
            "A value is trying to be set on a copy of a slice from a DataFrame.\n",
            "Try using .loc[row_indexer,col_indexer] = value instead\n",
            "\n",
            "See the caveats in the documentation: https://pandas.pydata.org/pandas-docs/stable/user_guide/indexing.html#returning-a-view-versus-a-copy\n",
            "  \"\"\"Entry point for launching an IPython kernel.\n",
            "/usr/local/lib/python3.7/dist-packages/ipykernel_launcher.py:2: SettingWithCopyWarning: \n",
            "A value is trying to be set on a copy of a slice from a DataFrame.\n",
            "Try using .loc[row_indexer,col_indexer] = value instead\n",
            "\n",
            "See the caveats in the documentation: https://pandas.pydata.org/pandas-docs/stable/user_guide/indexing.html#returning-a-view-versus-a-copy\n",
            "  \n",
            "/usr/local/lib/python3.7/dist-packages/ipykernel_launcher.py:4: SettingWithCopyWarning: \n",
            "A value is trying to be set on a copy of a slice from a DataFrame.\n",
            "Try using .loc[row_indexer,col_indexer] = value instead\n",
            "\n",
            "See the caveats in the documentation: https://pandas.pydata.org/pandas-docs/stable/user_guide/indexing.html#returning-a-view-versus-a-copy\n",
            "  after removing the cwd from sys.path.\n",
            "/usr/local/lib/python3.7/dist-packages/ipykernel_launcher.py:5: SettingWithCopyWarning: \n",
            "A value is trying to be set on a copy of a slice from a DataFrame.\n",
            "Try using .loc[row_indexer,col_indexer] = value instead\n",
            "\n",
            "See the caveats in the documentation: https://pandas.pydata.org/pandas-docs/stable/user_guide/indexing.html#returning-a-view-versus-a-copy\n",
            "  \"\"\"\n"
          ],
          "name": "stderr"
        }
      ]
    },
    {
      "cell_type": "code",
      "metadata": {
        "id": "AWbDvBcXWXjX"
      },
      "source": [
        "data = pd.concat([x_train, x_valid])\n",
        "\n",
        "columns = ['P_emaildomain', 'R_emaildomain']\n",
        "\n",
        "data = frequency_encoder(data, columns, delete_old=True)\n",
        "x_lb = frequency_encoder(x_lb, columns, delete_old=True)\n",
        "\n",
        "x_train = data.iloc[:125999]\n",
        "x_valid = data.iloc[125999:]"
      ],
      "execution_count": 124,
      "outputs": []
    },
    {
      "cell_type": "code",
      "metadata": {
        "id": "bRc7AsA69xAC"
      },
      "source": [
        "categorical_feature_names.remove('P_emaildomain')\n",
        "categorical_feature_names.remove('R_emaildomain')"
      ],
      "execution_count": 125,
      "outputs": []
    },
    {
      "cell_type": "code",
      "metadata": {
        "colab": {
          "base_uri": "https://localhost:8080/"
        },
        "id": "hcQEJNihZPE7",
        "outputId": "4f583e36-7dce-46c3-ddf3-1a4721006b92"
      },
      "source": [
        "model_catb = cb.CatBoostClassifier(**cb_params)\n",
        "model_catb.fit(x_train.drop(columns=bad_features), y_train, eval_set=[(x_valid.drop(columns=bad_features), y_valid)], cat_features=categorical_feature_names)"
      ],
      "execution_count": 126,
      "outputs": [
        {
          "output_type": "stream",
          "text": [
            "0:\tlearn: 0.5948537\ttest: 0.6229293\tbest: 0.6229293 (0)\ttotal: 14.8ms\tremaining: 14.7s\n",
            "100:\tlearn: 0.8783338\ttest: 0.8582378\tbest: 0.8586816 (95)\ttotal: 1.08s\tremaining: 9.59s\n",
            "200:\tlearn: 0.8879206\ttest: 0.8638932\tbest: 0.8638932 (200)\ttotal: 2s\tremaining: 7.94s\n",
            "300:\tlearn: 0.8953887\ttest: 0.8678872\tbest: 0.8679808 (274)\ttotal: 2.93s\tremaining: 6.8s\n",
            "400:\tlearn: 0.9000610\ttest: 0.8723311\tbest: 0.8723346 (399)\ttotal: 3.85s\tremaining: 5.76s\n",
            "500:\tlearn: 0.9044666\ttest: 0.8746336\tbest: 0.8746336 (500)\ttotal: 4.79s\tremaining: 4.77s\n",
            "600:\tlearn: 0.9082481\ttest: 0.8775759\tbest: 0.8775759 (600)\ttotal: 5.78s\tremaining: 3.83s\n",
            "700:\tlearn: 0.9112694\ttest: 0.8801849\tbest: 0.8802882 (692)\ttotal: 6.71s\tremaining: 2.86s\n",
            "800:\tlearn: 0.9137916\ttest: 0.8819454\tbest: 0.8822129 (776)\ttotal: 7.61s\tremaining: 1.89s\n",
            "900:\tlearn: 0.9165703\ttest: 0.8846111\tbest: 0.8846222 (897)\ttotal: 8.52s\tremaining: 936ms\n",
            "999:\tlearn: 0.9192104\ttest: 0.8863644\tbest: 0.8863644 (999)\ttotal: 9.47s\tremaining: 0us\n",
            "bestTest = 0.8863644004\n",
            "bestIteration = 999\n"
          ],
          "name": "stdout"
        },
        {
          "output_type": "execute_result",
          "data": {
            "text/plain": [
              "<catboost.core.CatBoostClassifier at 0x7fe224316410>"
            ]
          },
          "metadata": {
            "tags": []
          },
          "execution_count": 126
        }
      ]
    },
    {
      "cell_type": "code",
      "metadata": {
        "id": "1RgxohryZUQa"
      },
      "source": [
        "train_pred = model_catb.predict_proba(x_train.drop(columns=bad_features))\n",
        "valid_pred = model_catb.predict_proba(x_valid.drop(columns=bad_features))\n",
        "lb_pred = model_catb.predict_proba(x_lb.drop(columns=bad_features))"
      ],
      "execution_count": 127,
      "outputs": []
    },
    {
      "cell_type": "code",
      "metadata": {
        "colab": {
          "base_uri": "https://localhost:8080/",
          "height": 320
        },
        "id": "IU-e_D-XZb6e",
        "outputId": "60d7e8fe-4c75-47ed-f595-c698e5b0ecf9"
      },
      "source": [
        "fig = plt.figure(figsize=(10, 5))\n",
        "train_fpr_catb, train_tpr_catb, _ = metrics.roc_curve(y_train,  train_pred[:, 1])\n",
        "train_auc_catb = metrics.roc_auc_score(y_train, train_pred[:, 1])\n",
        "valid_fpr_catb, valid_tpr_catb, _ = metrics.roc_curve(y_valid,  valid_pred[:, 1])\n",
        "valid_auc_catb = metrics.roc_auc_score(y_valid, valid_pred[:, 1])\n",
        "lb_auc_catb = metrics.roc_auc_score(y_lb, lb_pred[:, 1])\n",
        "plt.plot(train_fpr_catb, train_tpr_catb, label=\"train, auc=\"+str(train_auc_catb))\n",
        "plt.plot(valid_fpr_catb, valid_tpr_catb, label=\"valid, auc=\"+str(valid_auc_catb))\n",
        "plt.legend(loc=4)\n",
        "plt.grid()\n",
        "plt.show()"
      ],
      "execution_count": 128,
      "outputs": [
        {
          "output_type": "display_data",
          "data": {
            "image/png": "[encoded data removed]",
            "text/plain": [
              "<Figure size 720x360 with 1 Axes>"
            ]
          },
          "metadata": {
            "tags": [],
            "needs_background": "light"
          }
        }
      ]
    },
    {
      "cell_type": "code",
      "metadata": {
        "colab": {
          "base_uri": "https://localhost:8080/"
        },
        "id": "Xq2vIszOZfmn",
        "outputId": "195807cb-a6c3-4016-baa9-82593a7bfb1b"
      },
      "source": [
        "np.random.seed(27)\n",
        "train_scores = create_bootstrap_metrics(y_train, model_catb.predict_proba(x_train.drop(columns=bad_features))[:, 1], roc_auc_score)\n",
        "valid_scores = create_bootstrap_metrics(y_valid, model_catb.predict_proba(x_valid.drop(columns=bad_features))[:, 1], roc_auc_score)\n",
        "print(f'Train confidence interval = {calculate_confidence_interval(train_scores)}')\n",
        "print(f'Valid confidence interval = {calculate_confidence_interval(valid_scores)}')\n",
        "print(f'Liderboard score = {lb_auc_catb}')"
      ],
      "execution_count": 129,
      "outputs": [
        {
          "output_type": "stream",
          "text": [
            "Train confidence interval = (0.9130498009026564, 0.9250350494456865)\n",
            "Valid confidence interval = (0.8768597100578368, 0.8951208701434852)\n",
            "Liderboard score = 0.8642328231607006\n"
          ],
          "name": "stdout"
        }
      ]
    },
    {
      "cell_type": "markdown",
      "metadata": {
        "id": "vtSTEEKBpk73"
      },
      "source": [
        "Вывод: обработка признака улучшило качество модели на валидации без улучшения качества на лидерборде. Возможно переобучение под валидационную выборку"
      ]
    },
    {
      "cell_type": "code",
      "metadata": {
        "id": "QHMimwMYCaIR"
      },
      "source": [
        ""
      ],
      "execution_count": null,
      "outputs": []
    }
  ]
}