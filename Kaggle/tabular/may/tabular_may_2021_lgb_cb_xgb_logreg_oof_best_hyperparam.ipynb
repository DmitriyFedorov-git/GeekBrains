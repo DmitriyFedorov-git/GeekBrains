{
  "nbformat": 4,
  "nbformat_minor": 0,
  "metadata": {
    "colab": {
      "name": "tabular_may_2021_lgb_cb_xgb_logreg_oof_best_hyperparam.ipynb",
      "provenance": [],
      "collapsed_sections": [],
      "toc_visible": true
    },
    "kernelspec": {
      "name": "python3",
      "display_name": "Python 3"
    },
    "language_info": {
      "name": "python"
    },
    "accelerator": "GPU"
  },
  "cells": [
    {
      "cell_type": "markdown",
      "metadata": {
        "id": "L2cae_sruzTj"
      },
      "source": [
        "## Загрузка данных и подключение библиотек"
      ]
    },
    {
      "cell_type": "code",
      "metadata": {
        "id": "CN9ljFaEm7ic",
        "colab": {
          "base_uri": "https://localhost:8080/"
        },
        "outputId": "050f2683-8329-431f-f664-d2fccc7cea6d"
      },
      "source": [
        "!pip install -q kaggle\n",
        "!mkdir -p ~/.kaggle\n",
        "!cp kaggle.json ~/.kaggle/\n",
        "!ls ~/.kaggle\n",
        "!chmod 600 /root/.kaggle/kaggle.json\n",
        "!kaggle competitions download -c tabular-playground-series-may-2021\n",
        "!pip install catboost\n",
        "!pip install eli5\n",
        "!pip install optuna\n",
        "!pip install shap\n",
        "!pip install scikit-learn-extra\n",
        "!unzip /content/test.csv.zip\n",
        "!unzip /content/train.csv.zip\n",
        "!unzip /content/sample_submission.csv.zip"
      ],
      "execution_count": 1,
      "outputs": [
        {
          "output_type": "stream",
          "text": [
            "kaggle.json\n",
            "Warning: Looks like you're using an outdated API Version, please consider updating (server 1.5.12 / client 1.5.4)\n",
            "Downloading sample_submission.csv.zip to /content\n",
            "  0% 0.00/128k [00:00<?, ?B/s]\n",
            "100% 128k/128k [00:00<00:00, 40.2MB/s]\n",
            "Downloading test.csv.zip to /content\n",
            "  0% 0.00/851k [00:00<?, ?B/s]\n",
            "100% 851k/851k [00:00<00:00, 54.9MB/s]\n",
            "Downloading train.csv.zip to /content\n",
            "  0% 0.00/1.72M [00:00<?, ?B/s]\n",
            "100% 1.72M/1.72M [00:00<00:00, 117MB/s]\n",
            "Collecting catboost\n",
            "\u001b[?25l  Downloading https://files.pythonhosted.org/packages/47/80/8e9c57ec32dfed6ba2922bc5c96462cbf8596ce1a6f5de532ad1e43e53fe/catboost-0.25.1-cp37-none-manylinux1_x86_64.whl (67.3MB)\n",
            "\u001b[K     |████████████████████████████████| 67.3MB 42kB/s \n",
            "\u001b[?25hRequirement already satisfied: plotly in /usr/local/lib/python3.7/dist-packages (from catboost) (4.4.1)\n",
            "Requirement already satisfied: numpy>=1.16.0 in /usr/local/lib/python3.7/dist-packages (from catboost) (1.19.5)\n",
            "Requirement already satisfied: matplotlib in /usr/local/lib/python3.7/dist-packages (from catboost) (3.2.2)\n",
            "Requirement already satisfied: pandas>=0.24.0 in /usr/local/lib/python3.7/dist-packages (from catboost) (1.1.5)\n",
            "Requirement already satisfied: six in /usr/local/lib/python3.7/dist-packages (from catboost) (1.15.0)\n",
            "Requirement already satisfied: graphviz in /usr/local/lib/python3.7/dist-packages (from catboost) (0.10.1)\n",
            "Requirement already satisfied: scipy in /usr/local/lib/python3.7/dist-packages (from catboost) (1.4.1)\n",
            "Requirement already satisfied: retrying>=1.3.3 in /usr/local/lib/python3.7/dist-packages (from plotly->catboost) (1.3.3)\n",
            "Requirement already satisfied: cycler>=0.10 in /usr/local/lib/python3.7/dist-packages (from matplotlib->catboost) (0.10.0)\n",
            "Requirement already satisfied: kiwisolver>=1.0.1 in /usr/local/lib/python3.7/dist-packages (from matplotlib->catboost) (1.3.1)\n",
            "Requirement already satisfied: pyparsing!=2.0.4,!=2.1.2,!=2.1.6,>=2.0.1 in /usr/local/lib/python3.7/dist-packages (from matplotlib->catboost) (2.4.7)\n",
            "Requirement already satisfied: python-dateutil>=2.1 in /usr/local/lib/python3.7/dist-packages (from matplotlib->catboost) (2.8.1)\n",
            "Requirement already satisfied: pytz>=2017.2 in /usr/local/lib/python3.7/dist-packages (from pandas>=0.24.0->catboost) (2018.9)\n",
            "Installing collected packages: catboost\n",
            "Successfully installed catboost-0.25.1\n",
            "Collecting eli5\n",
            "\u001b[?25l  Downloading https://files.pythonhosted.org/packages/d1/54/04cab6e1c0ae535bec93f795d8403fdf6caf66fa5a6512263202dbb14ea6/eli5-0.11.0-py2.py3-none-any.whl (106kB)\n",
            "\u001b[K     |████████████████████████████████| 112kB 3.0MB/s \n",
            "\u001b[?25hRequirement already satisfied: jinja2 in /usr/local/lib/python3.7/dist-packages (from eli5) (2.11.3)\n",
            "Requirement already satisfied: tabulate>=0.7.7 in /usr/local/lib/python3.7/dist-packages (from eli5) (0.8.9)\n",
            "Requirement already satisfied: scipy in /usr/local/lib/python3.7/dist-packages (from eli5) (1.4.1)\n",
            "Requirement already satisfied: attrs>16.0.0 in /usr/local/lib/python3.7/dist-packages (from eli5) (21.2.0)\n",
            "Requirement already satisfied: six in /usr/local/lib/python3.7/dist-packages (from eli5) (1.15.0)\n",
            "Requirement already satisfied: graphviz in /usr/local/lib/python3.7/dist-packages (from eli5) (0.10.1)\n",
            "Requirement already satisfied: scikit-learn>=0.20 in /usr/local/lib/python3.7/dist-packages (from eli5) (0.22.2.post1)\n",
            "Requirement already satisfied: numpy>=1.9.0 in /usr/local/lib/python3.7/dist-packages (from eli5) (1.19.5)\n",
            "Requirement already satisfied: MarkupSafe>=0.23 in /usr/local/lib/python3.7/dist-packages (from jinja2->eli5) (2.0.1)\n",
            "Requirement already satisfied: joblib>=0.11 in /usr/local/lib/python3.7/dist-packages (from scikit-learn>=0.20->eli5) (1.0.1)\n",
            "Installing collected packages: eli5\n",
            "Successfully installed eli5-0.11.0\n",
            "Collecting optuna\n",
            "\u001b[?25l  Downloading https://files.pythonhosted.org/packages/2b/21/d13081805e1e1afc71f5bb743ece324c8bd576237c51b899ecb38a717502/optuna-2.7.0-py3-none-any.whl (293kB)\n",
            "\u001b[K     |████████████████████████████████| 296kB 2.9MB/s \n",
            "\u001b[?25hCollecting colorlog\n",
            "  Downloading https://files.pythonhosted.org/packages/32/e6/e9ddc6fa1104fda718338b341e4b3dc31cd8039ab29e52fc73b508515361/colorlog-5.0.1-py2.py3-none-any.whl\n",
            "Collecting alembic\n",
            "\u001b[?25l  Downloading https://files.pythonhosted.org/packages/d5/80/ef186e599a57d0e4cb78fc76e0bfc2e6953fa9716b2a5cf2de0117ed8eb5/alembic-1.6.5-py2.py3-none-any.whl (164kB)\n",
            "\u001b[K     |████████████████████████████████| 174kB 12.7MB/s \n",
            "\u001b[?25hCollecting cmaes>=0.8.2\n",
            "  Downloading https://files.pythonhosted.org/packages/01/1f/43b01223a0366171f474320c6e966c39a11587287f098a5f09809b45e05f/cmaes-0.8.2-py3-none-any.whl\n",
            "Collecting cliff\n",
            "\u001b[?25l  Downloading https://files.pythonhosted.org/packages/87/11/aea1cacbd4cf8262809c4d6f95dcb3f2802594de1f51c5bd454d69bf15c5/cliff-3.8.0-py3-none-any.whl (80kB)\n",
            "\u001b[K     |████████████████████████████████| 81kB 7.1MB/s \n",
            "\u001b[?25hRequirement already satisfied: scipy!=1.4.0 in /usr/local/lib/python3.7/dist-packages (from optuna) (1.4.1)\n",
            "Requirement already satisfied: sqlalchemy>=1.1.0 in /usr/local/lib/python3.7/dist-packages (from optuna) (1.4.15)\n",
            "Requirement already satisfied: packaging>=20.0 in /usr/local/lib/python3.7/dist-packages (from optuna) (20.9)\n",
            "Requirement already satisfied: numpy in /usr/local/lib/python3.7/dist-packages (from optuna) (1.19.5)\n",
            "Requirement already satisfied: tqdm in /usr/local/lib/python3.7/dist-packages (from optuna) (4.41.1)\n",
            "Collecting python-editor>=0.3\n",
            "  Downloading https://files.pythonhosted.org/packages/c6/d3/201fc3abe391bbae6606e6f1d598c15d367033332bd54352b12f35513717/python_editor-1.0.4-py3-none-any.whl\n",
            "Requirement already satisfied: python-dateutil in /usr/local/lib/python3.7/dist-packages (from alembic->optuna) (2.8.1)\n",
            "Collecting Mako\n",
            "\u001b[?25l  Downloading https://files.pythonhosted.org/packages/f3/54/dbc07fbb20865d3b78fdb7cf7fa713e2cba4f87f71100074ef2dc9f9d1f7/Mako-1.1.4-py2.py3-none-any.whl (75kB)\n",
            "\u001b[K     |████████████████████████████████| 81kB 8.2MB/s \n",
            "\u001b[?25hRequirement already satisfied: pyparsing>=2.1.0 in /usr/local/lib/python3.7/dist-packages (from cliff->optuna) (2.4.7)\n",
            "Requirement already satisfied: PrettyTable>=0.7.2 in /usr/local/lib/python3.7/dist-packages (from cliff->optuna) (2.1.0)\n",
            "Collecting pbr!=2.1.0,>=2.0.0\n",
            "\u001b[?25l  Downloading https://files.pythonhosted.org/packages/18/e0/1d4702dd81121d04a477c272d47ee5b6bc970d1a0990b11befa275c55cf2/pbr-5.6.0-py2.py3-none-any.whl (111kB)\n",
            "\u001b[K     |████████████████████████████████| 112kB 11.8MB/s \n",
            "\u001b[?25hCollecting cmd2>=1.0.0\n",
            "\u001b[?25l  Downloading https://files.pythonhosted.org/packages/15/8b/15061b32332bb35ea2a2f6263d0f616779d576e82739ec8e7fcf3c94abf5/cmd2-1.5.0-py3-none-any.whl (133kB)\n",
            "\u001b[K     |████████████████████████████████| 143kB 12.4MB/s \n",
            "\u001b[?25hRequirement already satisfied: PyYAML>=3.12 in /usr/local/lib/python3.7/dist-packages (from cliff->optuna) (3.13)\n",
            "Collecting stevedore>=2.0.1\n",
            "\u001b[?25l  Downloading https://files.pythonhosted.org/packages/d4/49/b602307aeac3df3384ff1fcd05da9c0376c622a6c48bb5325f28ab165b57/stevedore-3.3.0-py3-none-any.whl (49kB)\n",
            "\u001b[K     |████████████████████████████████| 51kB 6.6MB/s \n",
            "\u001b[?25hRequirement already satisfied: importlib-metadata; python_version < \"3.8\" in /usr/local/lib/python3.7/dist-packages (from sqlalchemy>=1.1.0->optuna) (4.0.1)\n",
            "Requirement already satisfied: greenlet!=0.4.17; python_version >= \"3\" in /usr/local/lib/python3.7/dist-packages (from sqlalchemy>=1.1.0->optuna) (1.1.0)\n",
            "Requirement already satisfied: six>=1.5 in /usr/local/lib/python3.7/dist-packages (from python-dateutil->alembic->optuna) (1.15.0)\n",
            "Requirement already satisfied: MarkupSafe>=0.9.2 in /usr/local/lib/python3.7/dist-packages (from Mako->alembic->optuna) (2.0.1)\n",
            "Requirement already satisfied: wcwidth in /usr/local/lib/python3.7/dist-packages (from PrettyTable>=0.7.2->cliff->optuna) (0.2.5)\n",
            "Requirement already satisfied: attrs>=16.3.0 in /usr/local/lib/python3.7/dist-packages (from cmd2>=1.0.0->cliff->optuna) (21.2.0)\n",
            "Collecting pyperclip>=1.6\n",
            "  Downloading https://files.pythonhosted.org/packages/a7/2c/4c64579f847bd5d539803c8b909e54ba087a79d01bb3aba433a95879a6c5/pyperclip-1.8.2.tar.gz\n",
            "Collecting colorama>=0.3.7\n",
            "  Downloading https://files.pythonhosted.org/packages/44/98/5b86278fbbf250d239ae0ecb724f8572af1c91f4a11edf4d36a206189440/colorama-0.4.4-py2.py3-none-any.whl\n",
            "Requirement already satisfied: zipp>=0.5 in /usr/local/lib/python3.7/dist-packages (from importlib-metadata; python_version < \"3.8\"->sqlalchemy>=1.1.0->optuna) (3.4.1)\n",
            "Requirement already satisfied: typing-extensions>=3.6.4; python_version < \"3.8\" in /usr/local/lib/python3.7/dist-packages (from importlib-metadata; python_version < \"3.8\"->sqlalchemy>=1.1.0->optuna) (3.7.4.3)\n",
            "Building wheels for collected packages: pyperclip\n",
            "  Building wheel for pyperclip (setup.py) ... \u001b[?25l\u001b[?25hdone\n",
            "  Created wheel for pyperclip: filename=pyperclip-1.8.2-cp37-none-any.whl size=11107 sha256=15bbcf95d182d88114d267c6e63d3af31c8f1238394d62c015ca792dcf31dee2\n",
            "  Stored in directory: /root/.cache/pip/wheels/25/af/b8/3407109267803f4015e1ee2ff23be0c8c19ce4008665931ee1\n",
            "Successfully built pyperclip\n",
            "Installing collected packages: colorlog, python-editor, Mako, alembic, cmaes, pbr, pyperclip, colorama, cmd2, stevedore, cliff, optuna\n",
            "Successfully installed Mako-1.1.4 alembic-1.6.5 cliff-3.8.0 cmaes-0.8.2 cmd2-1.5.0 colorama-0.4.4 colorlog-5.0.1 optuna-2.7.0 pbr-5.6.0 pyperclip-1.8.2 python-editor-1.0.4 stevedore-3.3.0\n",
            "Collecting shap\n",
            "\u001b[?25l  Downloading https://files.pythonhosted.org/packages/b9/f4/c5b95cddae15be80f8e58b25edceca105aa83c0b8c86a1edad24a6af80d3/shap-0.39.0.tar.gz (356kB)\n",
            "\u001b[K     |████████████████████████████████| 358kB 883kB/s \n",
            "\u001b[?25hRequirement already satisfied: numpy in /usr/local/lib/python3.7/dist-packages (from shap) (1.19.5)\n",
            "Requirement already satisfied: scipy in /usr/local/lib/python3.7/dist-packages (from shap) (1.4.1)\n",
            "Requirement already satisfied: scikit-learn in /usr/local/lib/python3.7/dist-packages (from shap) (0.22.2.post1)\n",
            "Requirement already satisfied: pandas in /usr/local/lib/python3.7/dist-packages (from shap) (1.1.5)\n",
            "Requirement already satisfied: tqdm>4.25.0 in /usr/local/lib/python3.7/dist-packages (from shap) (4.41.1)\n",
            "Collecting slicer==0.0.7\n",
            "  Downloading https://files.pythonhosted.org/packages/78/c2/b3f55dfdb8af9812fdb9baf70cacf3b9e82e505b2bd4324d588888b81202/slicer-0.0.7-py3-none-any.whl\n",
            "Requirement already satisfied: numba in /usr/local/lib/python3.7/dist-packages (from shap) (0.51.2)\n",
            "Requirement already satisfied: cloudpickle in /usr/local/lib/python3.7/dist-packages (from shap) (1.3.0)\n",
            "Requirement already satisfied: joblib>=0.11 in /usr/local/lib/python3.7/dist-packages (from scikit-learn->shap) (1.0.1)\n",
            "Requirement already satisfied: pytz>=2017.2 in /usr/local/lib/python3.7/dist-packages (from pandas->shap) (2018.9)\n",
            "Requirement already satisfied: python-dateutil>=2.7.3 in /usr/local/lib/python3.7/dist-packages (from pandas->shap) (2.8.1)\n",
            "Requirement already satisfied: setuptools in /usr/local/lib/python3.7/dist-packages (from numba->shap) (56.1.0)\n",
            "Requirement already satisfied: llvmlite<0.35,>=0.34.0.dev0 in /usr/local/lib/python3.7/dist-packages (from numba->shap) (0.34.0)\n",
            "Requirement already satisfied: six>=1.5 in /usr/local/lib/python3.7/dist-packages (from python-dateutil>=2.7.3->pandas->shap) (1.15.0)\n",
            "Building wheels for collected packages: shap\n",
            "  Building wheel for shap (setup.py) ... \u001b[?25l\u001b[?25hdone\n",
            "  Created wheel for shap: filename=shap-0.39.0-cp37-cp37m-linux_x86_64.whl size=491624 sha256=9a773699954b4b953a72f0089d5680388081b601ed7468a88e4e24833a793cb6\n",
            "  Stored in directory: /root/.cache/pip/wheels/15/27/f5/a8ab9da52fd159aae6477b5ede6eaaec69fd130fa0fa59f283\n",
            "Successfully built shap\n",
            "Installing collected packages: slicer, shap\n",
            "Successfully installed shap-0.39.0 slicer-0.0.7\n",
            "Collecting scikit-learn-extra\n",
            "\u001b[?25l  Downloading https://files.pythonhosted.org/packages/82/1e/79cd1a2b60a6cd6a7a9c4719f947e264ae391644adce3ddecf73afd5233d/scikit_learn_extra-0.2.0-cp37-cp37m-manylinux2010_x86_64.whl (1.7MB)\n",
            "\u001b[K     |████████████████████████████████| 1.7MB 3.1MB/s \n",
            "\u001b[?25hRequirement already satisfied: numpy>=1.13.3 in /usr/local/lib/python3.7/dist-packages (from scikit-learn-extra) (1.19.5)\n",
            "Requirement already satisfied: scipy>=0.19.1 in /usr/local/lib/python3.7/dist-packages (from scikit-learn-extra) (1.4.1)\n",
            "Collecting scikit-learn>=0.23.0\n",
            "\u001b[?25l  Downloading https://files.pythonhosted.org/packages/a8/eb/a48f25c967526b66d5f1fa7a984594f0bf0a5afafa94a8c4dbc317744620/scikit_learn-0.24.2-cp37-cp37m-manylinux2010_x86_64.whl (22.3MB)\n",
            "\u001b[K     |████████████████████████████████| 22.3MB 1.7MB/s \n",
            "\u001b[?25hRequirement already satisfied: joblib>=0.11 in /usr/local/lib/python3.7/dist-packages (from scikit-learn>=0.23.0->scikit-learn-extra) (1.0.1)\n",
            "Collecting threadpoolctl>=2.0.0\n",
            "  Downloading https://files.pythonhosted.org/packages/f7/12/ec3f2e203afa394a149911729357aa48affc59c20e2c1c8297a60f33f133/threadpoolctl-2.1.0-py3-none-any.whl\n",
            "Installing collected packages: threadpoolctl, scikit-learn, scikit-learn-extra\n",
            "  Found existing installation: scikit-learn 0.22.2.post1\n",
            "    Uninstalling scikit-learn-0.22.2.post1:\n",
            "      Successfully uninstalled scikit-learn-0.22.2.post1\n",
            "Successfully installed scikit-learn-0.24.2 scikit-learn-extra-0.2.0 threadpoolctl-2.1.0\n",
            "Archive:  /content/test.csv.zip\n",
            "  inflating: test.csv                \n",
            "Archive:  /content/train.csv.zip\n",
            "  inflating: train.csv               \n",
            "Archive:  /content/sample_submission.csv.zip\n",
            "  inflating: sample_submission.csv   \n"
          ],
          "name": "stdout"
        }
      ]
    },
    {
      "cell_type": "code",
      "metadata": {
        "id": "SPCPef-moIJc"
      },
      "source": [
        "import pandas as pd\n",
        "import seaborn as sns\n",
        "import numpy as np\n",
        "import catboost as cb\n",
        "import sklearn\n",
        "import xgboost as xgb\n",
        "from sklearn.model_selection import train_test_split, RepeatedKFold\n",
        "from sklearn.metrics import roc_auc_score\n",
        "import matplotlib.pyplot as plt\n",
        "from sklearn import metrics\n",
        "from sklearn.decomposition import PCA, FactorAnalysis as FA\n",
        "from typing import List, Optional\n",
        "from sklearn.model_selection import KFold, cross_val_score, StratifiedKFold, train_test_split\n",
        "from typing import List, Tuple\n",
        "import scipy.stats as ss\n",
        "from sklearn_extra.cluster import KMedoids\n",
        "import math\n",
        "from sklearn.utils.validation import check_is_fitted\n",
        "import eli5\n",
        "from sklearn.base import BaseEstimator, TransformerMixin\n",
        "import time\n",
        "from sklearn.cluster import KMeans\n",
        "from sklearn.metrics import confusion_matrix\n",
        "from sklearn.inspection import permutation_importance\n",
        "from sklearn.linear_model import SGDClassifier\n",
        "from sklearn.preprocessing import StandardScaler\n",
        "from sklearn.linear_model import LogisticRegression\n",
        "import lightgbm as lgb\n",
        "import shap\n",
        "import missingno as msno\n",
        "from sklearn.inspection import permutation_importance\n",
        "from eli5.sklearn import PermutationImportance\n",
        "import optuna\n",
        "from sklearn.metrics import log_loss\n",
        "pd.plotting.register_matplotlib_converters()\n",
        "%matplotlib inline\n",
        "sns.set(color_codes=True)\n",
        "pal = sns.color_palette(\"viridis\", 10)\n",
        "sns.set_palette(pal)"
      ],
      "execution_count": 1,
      "outputs": []
    },
    {
      "cell_type": "markdown",
      "metadata": {
        "id": "vRDV-RIau5xK"
      },
      "source": [
        "## Используемые функции"
      ]
    },
    {
      "cell_type": "code",
      "metadata": {
        "id": "t1a1WAM6n7Sw"
      },
      "source": [
        "def get_input(data_path: str) -> pd.DataFrame:\n",
        "  \"\"\"\n",
        "  Считывание данных и вывод основной информации о наборе данных.\n",
        "\n",
        "  Parmeters\n",
        "  ---------\n",
        "  data_path: str - название файла\n",
        "\n",
        "  Returns\n",
        "  -------\n",
        "  data: pandas.core.frame.DataFrame - загруженный набор данных в pandas.Dataframe\n",
        "  \"\"\"\n",
        "  base_path = \"/content\"\n",
        "  data = pd.read_csv(f\"{base_path}/{data_path}\")\n",
        "  data.columns = [col.lower() for col in data.columns]\n",
        "  print(f\"{data_path}: shape = {data.shape[0]} rows, {data.shape[1]} cols\")\n",
        "  return data"
      ],
      "execution_count": 2,
      "outputs": []
    },
    {
      "cell_type": "code",
      "metadata": {
        "id": "8xYi4Bx2oK4D"
      },
      "source": [
        "def plot_feature_importance(importance, names, model_type, figsize=(10,8)):\n",
        "\n",
        "  #Create arrays from feature importance and feature names\n",
        "  feature_importance = np.array(importance)\n",
        "  feature_names = np.array(names)\n",
        "\n",
        "  #Create a DataFrame using a Dictionary\n",
        "  data={'feature_names':feature_names,'feature_importance':feature_importance}\n",
        "  fi_df = pd.DataFrame(data)\n",
        "\n",
        "  #Sort the DataFrame in order decreasing feature importance\n",
        "  fi_df.sort_values(by=['feature_importance'], ascending=False,inplace=True)\n",
        "\n",
        "  #Define size of bar plot\n",
        "  plt.figure(figsize=figsize)\n",
        "  #Plot Searborn bar chart\n",
        "  sns.barplot(x=fi_df['feature_importance'], y=fi_df['feature_names'])\n",
        "  #Add chart labels\n",
        "  plt.title(model_type + ' FEATURE IMPORTANCE')\n",
        "  plt.xlabel('FEATURE IMPORTANCE')\n",
        "  plt.ylabel('FEATURE NAMES')\n",
        "  return list(fi_df['feature_names'].values)"
      ],
      "execution_count": 3,
      "outputs": []
    },
    {
      "cell_type": "code",
      "metadata": {
        "id": "ZI6_REOZ0DSo"
      },
      "source": [
        "def multi_estimators_predict(estimators: List,\n",
        "                             x_valid: pd.DataFrame,\n",
        "                             y_valid = None,\n",
        "                             metric: callable = None,\n",
        "                             scalers: List = None):\n",
        "  preds = []\n",
        "  evals = []\n",
        "  if scalers:\n",
        "    assert len(estimators) == len(scalers)\n",
        "\n",
        "  for i in range(len(estimators)):\n",
        "    if scalers:\n",
        "      pred = estimators[i].predict_proba(scalers[i].transform(x_valid))\n",
        "    else:\n",
        "      if type(estimators[0]) == xgb.core.Booster:\n",
        "        pred = estimators[i].predict(x_valid)\n",
        "      else:\n",
        "        pred = estimators[i].predict_proba(x_valid)\n",
        "\n",
        "    \n",
        "    preds.append(pred)\n",
        "    if (y_valid is not None) and (metric is not None):\n",
        "      eval = metric(y_valid, pred)\n",
        "      evals.append(eval)\n",
        "  \n",
        "  result = np.stack([preds], axis=0)\n",
        "  result = np.squeeze(result, axis=0)\n",
        "  result = np.mean(result, axis=0)\n",
        "\n",
        "  if (y_valid is not None) & (metric is not None):\n",
        "    for i, eval in enumerate(evals):\n",
        "      print(f\"Model {i} metric: {eval:.7}\")\n",
        "    print(f\"Result model metric: {metric(y_valid, result):.7}\")\n",
        "\n",
        "  return result"
      ],
      "execution_count": 4,
      "outputs": []
    },
    {
      "cell_type": "code",
      "metadata": {
        "id": "kZ0MHZjR0-mQ"
      },
      "source": [
        "def logistic_cv_fit(params, X, y, cv, scale=False):\n",
        "    \"\"\"\n",
        "    Кросс-валидация для модели LogisticRegression.\n",
        "\n",
        "    Parameters\n",
        "    ----------\n",
        "    params: dict\n",
        "        Словарь гиперпараметров модели.\n",
        "\n",
        "    X: pandas.core.frame.DataFrame\n",
        "        Матрица признаков для обучения модели.\n",
        "\n",
        "    y: pandas.core.frame.Series\n",
        "        Вектор целевой переменной для обучения модели.\n",
        "\n",
        "    cv: KFold or StratifiedKFold generator.\n",
        "        Объект KFold / StratifiedKFold для определения\n",
        "        стратегии кросс-валидации модели.\n",
        "\n",
        "    Returns\n",
        "    -------\n",
        "    estimators: list\n",
        "        Список с объектами обученной модели.\n",
        "\n",
        "    oof_preds: np.array\n",
        "        Вектор OOF-прогнозов.\n",
        "\n",
        "    \"\"\"\n",
        "\n",
        "    estimators, folds_scores, scalers = [], [], []\n",
        "    oof_preds = np.zeros((X.shape[0], 4))\n",
        "    print(f\"{time.ctime()}, Cross-Validation, {X.shape[0]} rows, {X.shape[1]} cols\")\n",
        "\n",
        "    for fold, (train_idx, valid_idx) in enumerate(cv.split(X, y)):\n",
        "        x_train, x_valid = X.loc[train_idx], X.loc[valid_idx]\n",
        "        y_train, y_valid = y[train_idx], y[valid_idx]\n",
        "        if scale:\n",
        "          scaler = StandardScaler()\n",
        "          x_train = scaler.fit_transform(x_train)\n",
        "          x_valid = scaler.transform(x_valid)\n",
        "        model = LogisticRegression(**params)\n",
        "        model.fit(x_train, y_train)\n",
        "        oof_preds[valid_idx] = model.predict_proba(x_valid)\n",
        "        score = metrics.log_loss(y_valid, oof_preds[valid_idx])\n",
        "        print(f\"Fold {fold+1}, Valid score = {round(score, 5)}\")\n",
        "        folds_scores.append(round(score, 5))\n",
        "        estimators.append(model)\n",
        "        if scale:\n",
        "          scalers.append(scaler)\n",
        "\n",
        "    print(f\"Score by each fold: {folds_scores}\")\n",
        "    print(\"=\"*65)\n",
        "    return estimators, oof_preds, scalers"
      ],
      "execution_count": 5,
      "outputs": []
    },
    {
      "cell_type": "code",
      "metadata": {
        "id": "axVSJLl4_APy"
      },
      "source": [
        "def catboost_cv_fit(params, X, y, cv, categorical = None):\n",
        "    \"\"\"\n",
        "    Кросс-валидация для модели catboost.\n",
        "\n",
        "    Parameters\n",
        "    ----------\n",
        "    params: dict\n",
        "        Словарь гиперпараметров модели.\n",
        "\n",
        "    X: pandas.core.frame.DataFrame\n",
        "        Матрица признако для обучения модели.\n",
        "\n",
        "    y: pandas.core.frame.Series\n",
        "        Вектор целевой переменной для обучения модели.\n",
        "\n",
        "    cv: KFold or StratifiedKFold generator.\n",
        "        Объект KFold / StratifiedKFold для определения\n",
        "        стратегии кросс-валидации модели.\n",
        "\n",
        "    categorical: str, optional, default = None\n",
        "        Список категориальных признаков.\n",
        "        Опциональный параметр, по умолчанию, не используется.\n",
        "\n",
        "    Returns\n",
        "    -------\n",
        "    estimators: list\n",
        "        Список с объектами обученной модели.\n",
        "\n",
        "    oof_preds: np.array\n",
        "        Вектор OOF-прогнозов.\n",
        "\n",
        "    \"\"\"\n",
        "    if not categorical:\n",
        "        categorical = \"auto\"\n",
        "\n",
        "    estimators, folds_scores = [], []\n",
        "    oof_preds = np.zeros((X.shape[0], 4))\n",
        "    print(f\"{time.ctime()}, Cross-Validation, {X.shape[0]} rows, {X.shape[1]} cols\")\n",
        "\n",
        "    for fold, (train_idx, valid_idx) in enumerate(cv.split(X, y)):\n",
        "        x_train, x_valid = X.loc[train_idx], X.loc[valid_idx]\n",
        "        y_train, y_valid = y[train_idx], y[valid_idx]\n",
        "\n",
        "        model = cb.CatBoostClassifier(**params)\n",
        "        model.fit(\n",
        "            x_train, y_train,\n",
        "            #eval_set=[(x_valid, y_valid)], \n",
        "            verbose=10, \n",
        "            #early_stopping_rounds=100,\n",
        "            #cat_features=categorical\n",
        "        )\n",
        "        oof_preds[valid_idx] = model.predict_proba(x_valid)\n",
        "        score = metrics.log_loss(y_valid, oof_preds[valid_idx])\n",
        "        print(f\"Fold {fold+1}, Valid score = {round(score, 5)}\")\n",
        "        folds_scores.append(round(score, 5))\n",
        "        estimators.append(model)\n",
        "\n",
        "    print(f\"Score by each fold: {folds_scores}\")\n",
        "    print(\"=\"*65)\n",
        "    return estimators, oof_preds"
      ],
      "execution_count": 6,
      "outputs": []
    },
    {
      "cell_type": "code",
      "metadata": {
        "id": "kl1i1-0p_DYE"
      },
      "source": [
        "def lightgbm_cv_fit(params, X, y, cv, categorical = None):\n",
        "    \"\"\"\n",
        "    Кросс-валидация для модели lightgbm.\n",
        "\n",
        "    Parameters\n",
        "    ----------\n",
        "    params: dict\n",
        "        Словарь гиперпараметров модели.\n",
        "\n",
        "    X: pandas.core.frame.DataFrame\n",
        "        Матрица признако для обучения модели.\n",
        "\n",
        "    y: pandas.core.frame.Series\n",
        "        Вектор целевой переменной для обучения модели.\n",
        "\n",
        "    cv: KFold or StratifiedKFold generator.\n",
        "        Объект KFold / StratifiedKFold для определения\n",
        "        стратегии кросс-валидации модели.\n",
        "\n",
        "    categorical: str, optional, default = None\n",
        "        Список категориальных признаков.\n",
        "        Опциональный параметр, по умолчанию, не используется.\n",
        "\n",
        "    Returns\n",
        "    -------\n",
        "    estimators: list\n",
        "        Список с объектами обученной модели.\n",
        "\n",
        "    oof_preds: np.array\n",
        "        Вектор OOF-прогнозов.\n",
        "\n",
        "    \"\"\"\n",
        "    if not categorical:\n",
        "        categorical = \"auto\"\n",
        "\n",
        "    estimators, folds_scores = [], []\n",
        "    oof_preds = np.zeros((X.shape[0], 4))\n",
        "    print(f\"{time.ctime()}, Cross-Validation, {X.shape[0]} rows, {X.shape[1]} cols\")\n",
        "\n",
        "    for fold, (train_idx, valid_idx) in enumerate(cv.split(X, y)):\n",
        "        x_train, x_valid = X.loc[train_idx], X.loc[valid_idx]\n",
        "        y_train, y_valid = y[train_idx], y[valid_idx]\n",
        "\n",
        "        model = lgb.LGBMClassifier(**params)\n",
        "        model.fit(\n",
        "            x_train, y_train,\n",
        "            #eval_set=[(x_valid, y_valid)],\n",
        "            #eval_metric=\"multi_logloss\", \n",
        "            verbose=10, \n",
        "            #early_stopping_rounds=50,\n",
        "            #categorical_feature=categorical\n",
        "        )\n",
        "        oof_preds[valid_idx] = model.predict_proba(x_valid)\n",
        "        score = metrics.log_loss(y_valid, oof_preds[valid_idx])\n",
        "        print(f\"Fold {fold+1}, Valid score = {round(score, 5)}\")\n",
        "        folds_scores.append(round(score, 5))\n",
        "        estimators.append(model)\n",
        "\n",
        "    print(f\"Score by each fold: {folds_scores}\")\n",
        "    print(\"=\"*65)\n",
        "    return estimators, oof_preds"
      ],
      "execution_count": 7,
      "outputs": []
    },
    {
      "cell_type": "code",
      "metadata": {
        "id": "R-mViB0kw06r"
      },
      "source": [
        "def xgboost_cv_fit(params, X, y, cv, categorical = None):\n",
        "    \"\"\"\n",
        "    Кросс-валидация для модели xgboost.\n",
        "\n",
        "    Parameters\n",
        "    ----------\n",
        "    params: dict\n",
        "        Словарь гиперпараметров модели.\n",
        "\n",
        "    X: pandas.core.frame.DataFrame\n",
        "        Матрица признако для обучения модели.\n",
        "\n",
        "    y: pandas.core.frame.Series\n",
        "        Вектор целевой переменной для обучения модели.\n",
        "\n",
        "    cv: KFold or StratifiedKFold generator.\n",
        "        Объект KFold / StratifiedKFold для определения\n",
        "        стратегии кросс-валидации модели.\n",
        "\n",
        "    categorical: str, optional, default = None\n",
        "        Список категориальных признаков.\n",
        "        Опциональный параметр, по умолчанию, не используется.\n",
        "\n",
        "    Returns\n",
        "    -------\n",
        "    estimators: list\n",
        "        Список с объектами обученной модели.\n",
        "\n",
        "    encoders: dict\n",
        "        Список с объектами LabelEncoders.\n",
        "\n",
        "    oof_preds: np.array\n",
        "        Вектор OOF-прогнозов.\n",
        "\n",
        "    \"\"\"\n",
        "    estimators, encoders = [], {}\n",
        "    oof_preds = np.zeros((X.shape[0], 4))\n",
        "\n",
        "    if categorical:\n",
        "        for feature in categorical:\n",
        "            encoder = LabelEncoder()\n",
        "            X[feature] = encoder.fit_transform(X[feature].astype(\"str\").fillna(\"NA\"))\n",
        "            encoders[feature] = encoder\n",
        "\n",
        "    print(f\"{time.ctime()}, Cross-Validation, {X.shape[0]} rows, {X.shape[1]} cols\")\n",
        "\n",
        "    for fold, (train_idx, valid_idx) in enumerate(cv.split(X, y)):\n",
        "\n",
        "        x_train, x_valid = X.loc[train_idx], X.loc[valid_idx]\n",
        "        y_train, y_valid = y[train_idx], y[valid_idx]\n",
        "\n",
        "        model = xgb.XGBClassifier(**params)\n",
        "        model.fit(\n",
        "            x_train, y_train,\n",
        "            #eval_set=[(x_valid, y_valid)],\n",
        "            #eval_metric=\"mlogloss\", \n",
        "            verbose=10, \n",
        "            #early_stopping_rounds=50,\n",
        "        )\n",
        "\n",
        "        oof_preds[valid_idx] = model.predict_proba(x_valid)\n",
        "        score = metrics.log_loss(y_valid, oof_preds[valid_idx])\n",
        "        print(f\"Fold {fold+1}, Valid score = {round(score, 5)}\")\n",
        "        estimators.append(model)\n",
        "\n",
        "    return estimators, encoders, oof_preds"
      ],
      "execution_count": 8,
      "outputs": []
    },
    {
      "cell_type": "markdown",
      "metadata": {
        "id": "1t5BXvdKvQjh"
      },
      "source": [
        "## Загрузка данных и построение моделей"
      ]
    },
    {
      "cell_type": "markdown",
      "metadata": {
        "id": "himyfRnOwFk2"
      },
      "source": [
        "### lightgbm + optuna"
      ]
    },
    {
      "cell_type": "code",
      "metadata": {
        "id": "oukRR0GC4jfC"
      },
      "source": [
        "def objective(trial):\n",
        "    data = get_input(\"train.csv\")\n",
        "    data.drop(columns='id', inplace=True)\n",
        "    mapper = {'Class_1': 0, 'Class_2': 1, 'Class_3': 2, 'Class_4': 3}\n",
        "    data['target'] = data['target'].map(mapper)\n",
        "    target = data['target']\n",
        "    data = data.drop(columns=['target'])\n",
        "\n",
        "    train_x, valid_x, train_y, valid_y = train_test_split(data, target, test_size=0.5)\n",
        "    dtrain = lgb.Dataset(train_x, label=train_y)\n",
        "    dvalid = lgb.Dataset(valid_x, label=valid_y)\n",
        "\n",
        "    param = {\n",
        "        \"objective\": \"multiclass\",\n",
        "        \"metric\": \"multi_logloss\",\n",
        "        \"verbosity\": -1,\n",
        "        \"boosting_type\": \"gbdt\",\n",
        "        \"lambda_l1\": trial.suggest_loguniform(\"lambda_l1\", 1e-8, 10.0),\n",
        "        \"lambda_l2\": trial.suggest_loguniform(\"lambda_l2\", 1e-8, 10.0),\n",
        "        \"num_leaves\": trial.suggest_int(\"num_leaves\", 2, 256),\n",
        "        #\"n_estimators\": trial.suggest_int(\"n_estimators\", 200, 800),\n",
        "        \"feature_fraction\": trial.suggest_uniform(\"feature_fraction\", 0.4, 1.0),\n",
        "        \"bagging_fraction\": trial.suggest_uniform(\"bagging_fraction\", 0.4, 1.0),\n",
        "        \"bagging_freq\": trial.suggest_int(\"bagging_freq\", 1, 7),\n",
        "        \"min_child_samples\": trial.suggest_int(\"min_child_samples\", 5, 100),\n",
        "        'num_class': 4,\n",
        "        'max_depth': trial.suggest_int('max_depth', 3,7),\n",
        "        'learning_rate': trial.suggest_uniform('learning_rate', 0.05, 0.13),\n",
        "    }\n",
        "\n",
        "    # Add a callback for pruning.\n",
        "    pruning_callback = optuna.integration.LightGBMPruningCallback(trial, \"multi_logloss\")\n",
        "    gbm = lgb.train(\n",
        "        param, dtrain, \n",
        "        valid_sets=[dvalid], \n",
        "        verbose_eval=False, \n",
        "        callbacks=[pruning_callback]\n",
        "    )\n",
        "\n",
        "    preds = gbm.predict(valid_x)\n",
        "    pred_labels = np.rint(preds)\n",
        "\n",
        "    log_loss = sklearn.metrics.log_loss(valid_y, preds)\n",
        "    return log_loss"
      ],
      "execution_count": null,
      "outputs": []
    },
    {
      "cell_type": "code",
      "metadata": {
        "id": "wbCUjVOSHFcj"
      },
      "source": [
        "# Лучше подбирать гиперпараметры на всей data через кросс валидацию\n",
        "import optuna.integration.lightgbm as lgb\n",
        "def objective(trial):\n",
        "    data = get_input(\"train.csv\")\n",
        "    data.drop(columns='id', inplace=True)\n",
        "    mapper = {'Class_1': 0, 'Class_2': 1, 'Class_3': 2, 'Class_4': 3}\n",
        "    data['target'] = data['target'].map(mapper)\n",
        "    target = data['target']\n",
        "    data = data.drop(columns=['target'])\n",
        "\n",
        "    dtrain = lgb.Dataset(data, label=target)\n",
        "\n",
        "    param = {\n",
        "        \"objective\": \"multiclass\",\n",
        "        \"metric\": \"multi_logloss\",\n",
        "        \"verbosity\": -1,\n",
        "        \"boosting_type\": \"gbdt\",\n",
        "        \"lambda_l1\": trial.suggest_loguniform(\"lambda_l1\", 1e-8, 10.0),\n",
        "        \"lambda_l2\": trial.suggest_loguniform(\"lambda_l2\", 1e-8, 10.0),\n",
        "        \"num_leaves\": trial.suggest_int(\"num_leaves\", 2, 256),\n",
        "        \"feature_fraction\": trial.suggest_uniform(\"feature_fraction\", 0.4, 1.0),\n",
        "        \"bagging_fraction\": trial.suggest_uniform(\"bagging_fraction\", 0.4, 1.0),\n",
        "        \"bagging_freq\": trial.suggest_int(\"bagging_freq\", 1, 7),\n",
        "        \"min_child_samples\": trial.suggest_int(\"min_child_samples\", 5, 100),\n",
        "        'num_class': 4,\n",
        "\n",
        "        'max_depth': trial.suggest_int('max_depth', 3,7),\n",
        "        'learning_rate': trial.suggest_uniform('learning_rate', 0.03, 0.13 ),\n",
        "    }\n",
        "\n",
        "    # Add a callback for pruning.\n",
        "    pruning_callback = optuna.integration.LightGBMPruningCallback(trial, \"multi_logloss\")\n",
        "    result = lgb.cv(\n",
        "      params=param,\n",
        "      train_set=dtrain,\n",
        "      num_boost_round=10000,\n",
        "      early_stopping_rounds=100,\n",
        "      #verbose_eval=10,\n",
        "      stratified=True,\n",
        "      seed=42,\n",
        "      metrics=\"multi_logloss\",\n",
        "      shuffle=True,\n",
        "      nfold=3\n",
        "    )\n",
        " \n",
        "    log_loss = result['multi_logloss-mean'][-1] + result['multi_logloss-stdv'][-1]\n",
        "    return log_loss"
      ],
      "execution_count": null,
      "outputs": []
    },
    {
      "cell_type": "code",
      "metadata": {
        "id": "hNJikn6e4vQY",
        "colab": {
          "base_uri": "https://localhost:8080/",
          "height": 478
        },
        "outputId": "54b7adf0-ddf2-40ca-81a9-4b444d0f1db3"
      },
      "source": [
        "study = optuna.create_study(\n",
        "        pruner=optuna.pruners.MedianPruner(n_warmup_steps=20), direction=\"minimize\"\n",
        "    )\n",
        "study.optimize(objective, n_trials=200)\n",
        "\n",
        "print(\"Best trial:\")\n",
        "trial = study.best_trial\n",
        "\n",
        "print(\"  Params: \")\n",
        "for key, value in trial.params.items():\n",
        "  print(\"    {}: {}\".format(key, value))"
      ],
      "execution_count": null,
      "outputs": [
        {
          "output_type": "stream",
          "text": [
            "\u001b[32m[I 2021-05-25 20:05:15,460]\u001b[0m A new study created in memory with name: no-name-67bb9b06-6056-4c5f-9440-69bfd5220d67\u001b[0m\n"
          ],
          "name": "stderr"
        },
        {
          "output_type": "stream",
          "text": [
            "train.csv: shape = 100000 rows, 52 cols\n"
          ],
          "name": "stdout"
        },
        {
          "output_type": "stream",
          "text": [
            "\u001b[32m[I 2021-05-25 20:06:07,912]\u001b[0m Trial 0 finished with value: 1.095420663265998 and parameters: {'lambda_l1': 0.00024587192153438774, 'lambda_l2': 2.9664723207282242e-08, 'num_leaves': 223, 'feature_fraction': 0.7099892913219672, 'bagging_fraction': 0.7228809986014417, 'bagging_freq': 6, 'min_child_samples': 97, 'max_depth': 5, 'learning_rate': 0.08549446305776937}. Best is trial 0 with value: 1.095420663265998.\u001b[0m\n"
          ],
          "name": "stderr"
        },
        {
          "output_type": "stream",
          "text": [
            "train.csv: shape = 100000 rows, 52 cols\n"
          ],
          "name": "stdout"
        },
        {
          "output_type": "error",
          "ename": "KeyboardInterrupt",
          "evalue": "ignored",
          "traceback": [
            "\u001b[0;31m---------------------------------------------------------------------------\u001b[0m",
            "\u001b[0;31mKeyboardInterrupt\u001b[0m                         Traceback (most recent call last)",
            "\u001b[0;32m<ipython-input-171-2a80ae7c6f74>\u001b[0m in \u001b[0;36m<module>\u001b[0;34m()\u001b[0m\n\u001b[1;32m      2\u001b[0m         \u001b[0mpruner\u001b[0m\u001b[0;34m=\u001b[0m\u001b[0moptuna\u001b[0m\u001b[0;34m.\u001b[0m\u001b[0mpruners\u001b[0m\u001b[0;34m.\u001b[0m\u001b[0mMedianPruner\u001b[0m\u001b[0;34m(\u001b[0m\u001b[0mn_warmup_steps\u001b[0m\u001b[0;34m=\u001b[0m\u001b[0;36m20\u001b[0m\u001b[0;34m)\u001b[0m\u001b[0;34m,\u001b[0m \u001b[0mdirection\u001b[0m\u001b[0;34m=\u001b[0m\u001b[0;34m\"minimize\"\u001b[0m\u001b[0;34m\u001b[0m\u001b[0;34m\u001b[0m\u001b[0m\n\u001b[1;32m      3\u001b[0m     )\n\u001b[0;32m----> 4\u001b[0;31m \u001b[0mstudy\u001b[0m\u001b[0;34m.\u001b[0m\u001b[0moptimize\u001b[0m\u001b[0;34m(\u001b[0m\u001b[0mobjective\u001b[0m\u001b[0;34m,\u001b[0m \u001b[0mn_trials\u001b[0m\u001b[0;34m=\u001b[0m\u001b[0;36m200\u001b[0m\u001b[0;34m)\u001b[0m\u001b[0;34m\u001b[0m\u001b[0;34m\u001b[0m\u001b[0m\n\u001b[0m\u001b[1;32m      5\u001b[0m \u001b[0;34m\u001b[0m\u001b[0m\n\u001b[1;32m      6\u001b[0m \u001b[0mprint\u001b[0m\u001b[0;34m(\u001b[0m\u001b[0;34m\"Best trial:\"\u001b[0m\u001b[0;34m)\u001b[0m\u001b[0;34m\u001b[0m\u001b[0;34m\u001b[0m\u001b[0m\n",
            "\u001b[0;32m/usr/local/lib/python3.7/dist-packages/optuna/study.py\u001b[0m in \u001b[0;36moptimize\u001b[0;34m(self, func, n_trials, timeout, n_jobs, catch, callbacks, gc_after_trial, show_progress_bar)\u001b[0m\n\u001b[1;32m    407\u001b[0m             \u001b[0mcallbacks\u001b[0m\u001b[0;34m=\u001b[0m\u001b[0mcallbacks\u001b[0m\u001b[0;34m,\u001b[0m\u001b[0;34m\u001b[0m\u001b[0;34m\u001b[0m\u001b[0m\n\u001b[1;32m    408\u001b[0m             \u001b[0mgc_after_trial\u001b[0m\u001b[0;34m=\u001b[0m\u001b[0mgc_after_trial\u001b[0m\u001b[0;34m,\u001b[0m\u001b[0;34m\u001b[0m\u001b[0;34m\u001b[0m\u001b[0m\n\u001b[0;32m--> 409\u001b[0;31m             \u001b[0mshow_progress_bar\u001b[0m\u001b[0;34m=\u001b[0m\u001b[0mshow_progress_bar\u001b[0m\u001b[0;34m,\u001b[0m\u001b[0;34m\u001b[0m\u001b[0;34m\u001b[0m\u001b[0m\n\u001b[0m\u001b[1;32m    410\u001b[0m         )\n\u001b[1;32m    411\u001b[0m \u001b[0;34m\u001b[0m\u001b[0m\n",
            "\u001b[0;32m/usr/local/lib/python3.7/dist-packages/optuna/_optimize.py\u001b[0m in \u001b[0;36m_optimize\u001b[0;34m(study, func, n_trials, timeout, n_jobs, catch, callbacks, gc_after_trial, show_progress_bar)\u001b[0m\n\u001b[1;32m     74\u001b[0m                 \u001b[0mreseed_sampler_rng\u001b[0m\u001b[0;34m=\u001b[0m\u001b[0;32mFalse\u001b[0m\u001b[0;34m,\u001b[0m\u001b[0;34m\u001b[0m\u001b[0;34m\u001b[0m\u001b[0m\n\u001b[1;32m     75\u001b[0m                 \u001b[0mtime_start\u001b[0m\u001b[0;34m=\u001b[0m\u001b[0;32mNone\u001b[0m\u001b[0;34m,\u001b[0m\u001b[0;34m\u001b[0m\u001b[0;34m\u001b[0m\u001b[0m\n\u001b[0;32m---> 76\u001b[0;31m                 \u001b[0mprogress_bar\u001b[0m\u001b[0;34m=\u001b[0m\u001b[0mprogress_bar\u001b[0m\u001b[0;34m,\u001b[0m\u001b[0;34m\u001b[0m\u001b[0;34m\u001b[0m\u001b[0m\n\u001b[0m\u001b[1;32m     77\u001b[0m             )\n\u001b[1;32m     78\u001b[0m         \u001b[0;32melse\u001b[0m\u001b[0;34m:\u001b[0m\u001b[0;34m\u001b[0m\u001b[0;34m\u001b[0m\u001b[0m\n",
            "\u001b[0;32m/usr/local/lib/python3.7/dist-packages/optuna/_optimize.py\u001b[0m in \u001b[0;36m_optimize_sequential\u001b[0;34m(study, func, n_trials, timeout, catch, callbacks, gc_after_trial, reseed_sampler_rng, time_start, progress_bar)\u001b[0m\n\u001b[1;32m    161\u001b[0m \u001b[0;34m\u001b[0m\u001b[0m\n\u001b[1;32m    162\u001b[0m         \u001b[0;32mtry\u001b[0m\u001b[0;34m:\u001b[0m\u001b[0;34m\u001b[0m\u001b[0;34m\u001b[0m\u001b[0m\n\u001b[0;32m--> 163\u001b[0;31m             \u001b[0mtrial\u001b[0m \u001b[0;34m=\u001b[0m \u001b[0m_run_trial\u001b[0m\u001b[0;34m(\u001b[0m\u001b[0mstudy\u001b[0m\u001b[0;34m,\u001b[0m \u001b[0mfunc\u001b[0m\u001b[0;34m,\u001b[0m \u001b[0mcatch\u001b[0m\u001b[0;34m)\u001b[0m\u001b[0;34m\u001b[0m\u001b[0;34m\u001b[0m\u001b[0m\n\u001b[0m\u001b[1;32m    164\u001b[0m         \u001b[0;32mexcept\u001b[0m \u001b[0mException\u001b[0m\u001b[0;34m:\u001b[0m\u001b[0;34m\u001b[0m\u001b[0;34m\u001b[0m\u001b[0m\n\u001b[1;32m    165\u001b[0m             \u001b[0;32mraise\u001b[0m\u001b[0;34m\u001b[0m\u001b[0;34m\u001b[0m\u001b[0m\n",
            "\u001b[0;32m/usr/local/lib/python3.7/dist-packages/optuna/_optimize.py\u001b[0m in \u001b[0;36m_run_trial\u001b[0;34m(study, func, catch)\u001b[0m\n\u001b[1;32m    215\u001b[0m \u001b[0;34m\u001b[0m\u001b[0m\n\u001b[1;32m    216\u001b[0m     \u001b[0;32mtry\u001b[0m\u001b[0;34m:\u001b[0m\u001b[0;34m\u001b[0m\u001b[0;34m\u001b[0m\u001b[0m\n\u001b[0;32m--> 217\u001b[0;31m         \u001b[0mvalue_or_values\u001b[0m \u001b[0;34m=\u001b[0m \u001b[0mfunc\u001b[0m\u001b[0;34m(\u001b[0m\u001b[0mtrial\u001b[0m\u001b[0;34m)\u001b[0m\u001b[0;34m\u001b[0m\u001b[0;34m\u001b[0m\u001b[0m\n\u001b[0m\u001b[1;32m    218\u001b[0m     \u001b[0;32mexcept\u001b[0m \u001b[0mexceptions\u001b[0m\u001b[0;34m.\u001b[0m\u001b[0mTrialPruned\u001b[0m \u001b[0;32mas\u001b[0m \u001b[0me\u001b[0m\u001b[0;34m:\u001b[0m\u001b[0;34m\u001b[0m\u001b[0;34m\u001b[0m\u001b[0m\n\u001b[1;32m    219\u001b[0m         \u001b[0;31m# TODO(mamu): Handle multi-objective cases.\u001b[0m\u001b[0;34m\u001b[0m\u001b[0;34m\u001b[0m\u001b[0;34m\u001b[0m\u001b[0m\n",
            "\u001b[0;32m<ipython-input-170-82ebc4c1208b>\u001b[0m in \u001b[0;36mobjective\u001b[0;34m(trial)\u001b[0m\n\u001b[1;32m     41\u001b[0m       \u001b[0mmetrics\u001b[0m\u001b[0;34m=\u001b[0m\u001b[0;34m\"multi_logloss\"\u001b[0m\u001b[0;34m,\u001b[0m\u001b[0;34m\u001b[0m\u001b[0;34m\u001b[0m\u001b[0m\n\u001b[1;32m     42\u001b[0m       \u001b[0mshuffle\u001b[0m\u001b[0;34m=\u001b[0m\u001b[0;32mTrue\u001b[0m\u001b[0;34m,\u001b[0m\u001b[0;34m\u001b[0m\u001b[0;34m\u001b[0m\u001b[0m\n\u001b[0;32m---> 43\u001b[0;31m       \u001b[0mnfold\u001b[0m\u001b[0;34m=\u001b[0m\u001b[0;36m3\u001b[0m\u001b[0;34m\u001b[0m\u001b[0;34m\u001b[0m\u001b[0m\n\u001b[0m\u001b[1;32m     44\u001b[0m     )\n\u001b[1;32m     45\u001b[0m \u001b[0;34m\u001b[0m\u001b[0m\n",
            "\u001b[0;32m/usr/local/lib/python3.7/dist-packages/lightgbm/engine.py\u001b[0m in \u001b[0;36mcv\u001b[0;34m(params, train_set, num_boost_round, folds, nfold, stratified, shuffle, metrics, fobj, feval, init_model, feature_name, categorical_feature, early_stopping_rounds, fpreproc, verbose_eval, show_stdv, seed, callbacks)\u001b[0m\n\u001b[1;32m    485\u001b[0m                                     \u001b[0mend_iteration\u001b[0m\u001b[0;34m=\u001b[0m\u001b[0mnum_boost_round\u001b[0m\u001b[0;34m,\u001b[0m\u001b[0;34m\u001b[0m\u001b[0;34m\u001b[0m\u001b[0m\n\u001b[1;32m    486\u001b[0m                                     evaluation_result_list=None))\n\u001b[0;32m--> 487\u001b[0;31m         \u001b[0mcvfolds\u001b[0m\u001b[0;34m.\u001b[0m\u001b[0mupdate\u001b[0m\u001b[0;34m(\u001b[0m\u001b[0mfobj\u001b[0m\u001b[0;34m=\u001b[0m\u001b[0mfobj\u001b[0m\u001b[0;34m)\u001b[0m\u001b[0;34m\u001b[0m\u001b[0;34m\u001b[0m\u001b[0m\n\u001b[0m\u001b[1;32m    488\u001b[0m         \u001b[0mres\u001b[0m \u001b[0;34m=\u001b[0m \u001b[0m_agg_cv_result\u001b[0m\u001b[0;34m(\u001b[0m\u001b[0mcvfolds\u001b[0m\u001b[0;34m.\u001b[0m\u001b[0meval_valid\u001b[0m\u001b[0;34m(\u001b[0m\u001b[0mfeval\u001b[0m\u001b[0;34m)\u001b[0m\u001b[0;34m)\u001b[0m\u001b[0;34m\u001b[0m\u001b[0;34m\u001b[0m\u001b[0m\n\u001b[1;32m    489\u001b[0m         \u001b[0;32mfor\u001b[0m \u001b[0m_\u001b[0m\u001b[0;34m,\u001b[0m \u001b[0mkey\u001b[0m\u001b[0;34m,\u001b[0m \u001b[0mmean\u001b[0m\u001b[0;34m,\u001b[0m \u001b[0m_\u001b[0m\u001b[0;34m,\u001b[0m \u001b[0mstd\u001b[0m \u001b[0;32min\u001b[0m \u001b[0mres\u001b[0m\u001b[0;34m:\u001b[0m\u001b[0;34m\u001b[0m\u001b[0;34m\u001b[0m\u001b[0m\n",
            "\u001b[0;32m/usr/local/lib/python3.7/dist-packages/lightgbm/engine.py\u001b[0m in \u001b[0;36mhandler_function\u001b[0;34m(*args, **kwargs)\u001b[0m\n\u001b[1;32m    261\u001b[0m             \u001b[0mret\u001b[0m \u001b[0;34m=\u001b[0m \u001b[0;34m[\u001b[0m\u001b[0;34m]\u001b[0m\u001b[0;34m\u001b[0m\u001b[0;34m\u001b[0m\u001b[0m\n\u001b[1;32m    262\u001b[0m             \u001b[0;32mfor\u001b[0m \u001b[0mbooster\u001b[0m \u001b[0;32min\u001b[0m \u001b[0mself\u001b[0m\u001b[0;34m.\u001b[0m\u001b[0mboosters\u001b[0m\u001b[0;34m:\u001b[0m\u001b[0;34m\u001b[0m\u001b[0;34m\u001b[0m\u001b[0m\n\u001b[0;32m--> 263\u001b[0;31m                 \u001b[0mret\u001b[0m\u001b[0;34m.\u001b[0m\u001b[0mappend\u001b[0m\u001b[0;34m(\u001b[0m\u001b[0mgetattr\u001b[0m\u001b[0;34m(\u001b[0m\u001b[0mbooster\u001b[0m\u001b[0;34m,\u001b[0m \u001b[0mname\u001b[0m\u001b[0;34m)\u001b[0m\u001b[0;34m(\u001b[0m\u001b[0;34m*\u001b[0m\u001b[0margs\u001b[0m\u001b[0;34m,\u001b[0m \u001b[0;34m**\u001b[0m\u001b[0mkwargs\u001b[0m\u001b[0;34m)\u001b[0m\u001b[0;34m)\u001b[0m\u001b[0;34m\u001b[0m\u001b[0;34m\u001b[0m\u001b[0m\n\u001b[0m\u001b[1;32m    264\u001b[0m             \u001b[0;32mreturn\u001b[0m \u001b[0mret\u001b[0m\u001b[0;34m\u001b[0m\u001b[0;34m\u001b[0m\u001b[0m\n\u001b[1;32m    265\u001b[0m         \u001b[0;32mreturn\u001b[0m \u001b[0mhandler_function\u001b[0m\u001b[0;34m\u001b[0m\u001b[0;34m\u001b[0m\u001b[0m\n",
            "\u001b[0;32m/usr/local/lib/python3.7/dist-packages/lightgbm/basic.py\u001b[0m in \u001b[0;36mupdate\u001b[0;34m(self, train_set, fobj)\u001b[0m\n\u001b[1;32m   1800\u001b[0m             _safe_call(_LIB.LGBM_BoosterUpdateOneIter(\n\u001b[1;32m   1801\u001b[0m                 \u001b[0mself\u001b[0m\u001b[0;34m.\u001b[0m\u001b[0mhandle\u001b[0m\u001b[0;34m,\u001b[0m\u001b[0;34m\u001b[0m\u001b[0;34m\u001b[0m\u001b[0m\n\u001b[0;32m-> 1802\u001b[0;31m                 ctypes.byref(is_finished)))\n\u001b[0m\u001b[1;32m   1803\u001b[0m             \u001b[0mself\u001b[0m\u001b[0;34m.\u001b[0m\u001b[0m__is_predicted_cur_iter\u001b[0m \u001b[0;34m=\u001b[0m \u001b[0;34m[\u001b[0m\u001b[0;32mFalse\u001b[0m \u001b[0;32mfor\u001b[0m \u001b[0m_\u001b[0m \u001b[0;32min\u001b[0m \u001b[0mrange_\u001b[0m\u001b[0;34m(\u001b[0m\u001b[0mself\u001b[0m\u001b[0;34m.\u001b[0m\u001b[0m__num_dataset\u001b[0m\u001b[0;34m)\u001b[0m\u001b[0;34m]\u001b[0m\u001b[0;34m\u001b[0m\u001b[0;34m\u001b[0m\u001b[0m\n\u001b[1;32m   1804\u001b[0m             \u001b[0;32mreturn\u001b[0m \u001b[0mis_finished\u001b[0m\u001b[0;34m.\u001b[0m\u001b[0mvalue\u001b[0m \u001b[0;34m==\u001b[0m \u001b[0;36m1\u001b[0m\u001b[0;34m\u001b[0m\u001b[0;34m\u001b[0m\u001b[0m\n",
            "\u001b[0;31mKeyboardInterrupt\u001b[0m: "
          ]
        }
      ]
    },
    {
      "cell_type": "code",
      "metadata": {
        "id": "O7ZcEEJJIBhF"
      },
      "source": [
        "optuna.visualization.plot_optimization_history(study)"
      ],
      "execution_count": null,
      "outputs": []
    },
    {
      "cell_type": "code",
      "metadata": {
        "id": "kJWUoKQiIH2X"
      },
      "source": [
        "optuna.visualization.plot_slice(study)"
      ],
      "execution_count": null,
      "outputs": []
    },
    {
      "cell_type": "code",
      "metadata": {
        "id": "90QkOVtJIM2u"
      },
      "source": [
        "optuna.visualization.plot_param_importances(study)"
      ],
      "execution_count": null,
      "outputs": []
    },
    {
      "cell_type": "code",
      "metadata": {
        "colab": {
          "base_uri": "https://localhost:8080/"
        },
        "id": "FxluInDhIW7H",
        "outputId": "704a7d9e-e8dc-413c-9cdd-7b9ab87f10df"
      },
      "source": [
        "print(study.best_params)"
      ],
      "execution_count": null,
      "outputs": [
        {
          "output_type": "stream",
          "text": [
            "{'lambda_l1': 1.45120566383297e-06, 'lambda_l2': 0.003368552965821498, 'num_leaves': 32, 'feature_fraction': 0.4471131328810426, 'bagging_fraction': 0.5888198372400193, 'bagging_freq': 4, 'min_child_samples': 32}\n"
          ],
          "name": "stdout"
        }
      ]
    },
    {
      "cell_type": "code",
      "metadata": {
        "colab": {
          "base_uri": "https://localhost:8080/"
        },
        "id": "STyhscwrIZs0",
        "outputId": "3073193f-3e78-452a-8697-966191f9ac5f"
      },
      "source": [
        "study.best_value"
      ],
      "execution_count": null,
      "outputs": [
        {
          "output_type": "execute_result",
          "data": {
            "text/plain": [
              "1.0833801288748757"
            ]
          },
          "metadata": {
            "tags": []
          },
          "execution_count": 47
        }
      ]
    },
    {
      "cell_type": "code",
      "metadata": {
        "colab": {
          "base_uri": "https://localhost:8080/"
        },
        "id": "zG2oib7yGcni",
        "outputId": "064d886e-25ef-4310-d912-723606ccb213"
      },
      "source": [
        "data = get_input(\"train.csv\")\n",
        "data.drop(columns='id', inplace=True)\n",
        "mapper = {'Class_1': 0, 'Class_2': 1, 'Class_3': 2, 'Class_4': 3}\n",
        "data['target'] = data['target'].map(mapper)\n",
        "target = data['target']\n",
        "data = data.drop(columns=['target'])\n",
        "\n",
        "lgb_params = {\n",
        "    \"boosting_type \": \"gbdt\",\n",
        "    \"objective\": \"multiclass\",\n",
        "    \"metric\": \"multi_logloss\",\n",
        "    #'num_boost_round': 100,\n",
        "    'num_class': 4,\n",
        "    'lambda_l1': 0.02259438646302076,\n",
        "    'lambda_l2': 3.3834082296901886e-05,\n",
        "    'num_leaves': 256,\n",
        "    'feature_fraction': 0.42939073275678896,\n",
        "    'bagging_fraction': 0.8760623722003144,\n",
        "    'bagging_freq': 4,\n",
        "    'min_child_samples': 71,\n",
        "    'max_depth': 4,\n",
        "    'learning_rate': 0.07658957460133804,\n",
        "}\n",
        "\n",
        "dtrain = lgb.Dataset(data=data, label=target)\n",
        "\n",
        "result = lgb.cv(\n",
        "    params=lgb_params,\n",
        "    train_set=dtrain,\n",
        "    num_boost_round=2000,\n",
        "    early_stopping_rounds=100,\n",
        "    verbose_eval=10,\n",
        "    stratified=True,\n",
        "    seed=42,\n",
        "    metrics=\"multi_logloss\",\n",
        "    shuffle=True,\n",
        "    nfold=5\n",
        ")"
      ],
      "execution_count": null,
      "outputs": [
        {
          "output_type": "stream",
          "text": [
            "train.csv: shape = 100000 rows, 52 cols\n",
            "[10]\tcv_agg's multi_logloss: 1.11339 + 0.00019763\n",
            "[20]\tcv_agg's multi_logloss: 1.10998 + 0.000341567\n",
            "[30]\tcv_agg's multi_logloss: 1.10748 + 0.000399434\n",
            "[40]\tcv_agg's multi_logloss: 1.1054 + 0.000482044\n",
            "[50]\tcv_agg's multi_logloss: 1.10365 + 0.000591791\n",
            "[60]\tcv_agg's multi_logloss: 1.10218 + 0.000701451\n",
            "[70]\tcv_agg's multi_logloss: 1.10096 + 0.000759168\n",
            "[80]\tcv_agg's multi_logloss: 1.09988 + 0.000727296\n",
            "[90]\tcv_agg's multi_logloss: 1.09888 + 0.000727316\n",
            "[100]\tcv_agg's multi_logloss: 1.09803 + 0.000788178\n",
            "[110]\tcv_agg's multi_logloss: 1.09726 + 0.00084155\n",
            "[120]\tcv_agg's multi_logloss: 1.09667 + 0.000892679\n",
            "[130]\tcv_agg's multi_logloss: 1.09616 + 0.000970538\n",
            "[140]\tcv_agg's multi_logloss: 1.09569 + 0.00102404\n",
            "[150]\tcv_agg's multi_logloss: 1.09526 + 0.00106349\n",
            "[160]\tcv_agg's multi_logloss: 1.09494 + 0.0011131\n",
            "[170]\tcv_agg's multi_logloss: 1.09459 + 0.00114867\n",
            "[180]\tcv_agg's multi_logloss: 1.09433 + 0.00113994\n",
            "[190]\tcv_agg's multi_logloss: 1.09407 + 0.00117784\n",
            "[200]\tcv_agg's multi_logloss: 1.09391 + 0.00119958\n",
            "[210]\tcv_agg's multi_logloss: 1.09369 + 0.00118996\n",
            "[220]\tcv_agg's multi_logloss: 1.09354 + 0.00121188\n",
            "[230]\tcv_agg's multi_logloss: 1.09339 + 0.00119892\n",
            "[240]\tcv_agg's multi_logloss: 1.09325 + 0.00118047\n",
            "[250]\tcv_agg's multi_logloss: 1.09309 + 0.00121222\n",
            "[260]\tcv_agg's multi_logloss: 1.09298 + 0.00124387\n",
            "[270]\tcv_agg's multi_logloss: 1.09291 + 0.00124078\n",
            "[280]\tcv_agg's multi_logloss: 1.09283 + 0.00126407\n",
            "[290]\tcv_agg's multi_logloss: 1.09281 + 0.00128694\n",
            "[300]\tcv_agg's multi_logloss: 1.09274 + 0.00125305\n",
            "[310]\tcv_agg's multi_logloss: 1.09272 + 0.0012378\n",
            "[320]\tcv_agg's multi_logloss: 1.09269 + 0.00122647\n",
            "[330]\tcv_agg's multi_logloss: 1.09265 + 0.00124965\n",
            "[340]\tcv_agg's multi_logloss: 1.09263 + 0.00123584\n",
            "[350]\tcv_agg's multi_logloss: 1.09267 + 0.00125862\n",
            "[360]\tcv_agg's multi_logloss: 1.09267 + 0.00130462\n",
            "[370]\tcv_agg's multi_logloss: 1.09267 + 0.00130831\n",
            "[380]\tcv_agg's multi_logloss: 1.0927 + 0.0013412\n",
            "[390]\tcv_agg's multi_logloss: 1.09268 + 0.00136061\n",
            "[400]\tcv_agg's multi_logloss: 1.09272 + 0.00134444\n",
            "[410]\tcv_agg's multi_logloss: 1.09272 + 0.00132634\n",
            "[420]\tcv_agg's multi_logloss: 1.09275 + 0.0013747\n",
            "[430]\tcv_agg's multi_logloss: 1.09274 + 0.00137156\n"
          ],
          "name": "stdout"
        }
      ]
    },
    {
      "cell_type": "code",
      "metadata": {
        "colab": {
          "base_uri": "https://localhost:8080/"
        },
        "id": "RzwcH5alJXEV",
        "outputId": "6f8ae7fc-f890-4f05-caf6-a81f29244dde"
      },
      "source": [
        "len(result['multi_logloss-mean'])"
      ],
      "execution_count": null,
      "outputs": [
        {
          "output_type": "execute_result",
          "data": {
            "text/plain": [
              "334"
            ]
          },
          "metadata": {
            "tags": []
          },
          "execution_count": 19
        }
      ]
    },
    {
      "cell_type": "code",
      "metadata": {
        "colab": {
          "base_uri": "https://localhost:8080/"
        },
        "id": "gqluuqh-Ed5G",
        "outputId": "10102893-40c4-4f1c-e2d8-16f4dfe86f06"
      },
      "source": [
        "import lightgbm as lgb\n",
        "data = get_input(\"train.csv\")\n",
        "test = get_input(\"test.csv\")\n",
        "\n",
        "data.drop(columns='id', inplace=True)\n",
        "mapper = {'Class_1': 0, 'Class_2': 1, 'Class_3': 2, 'Class_4': 3}\n",
        "data['target'] = data['target'].map(mapper)\n",
        "\n",
        "target = data['target']\n",
        "data = data.drop(columns=['target'])\n",
        "\n",
        "#train, valid = train_test_split(\n",
        "#    data, train_size=0.7, shuffle=True, random_state=1,\n",
        "#)\n",
        "\n",
        "#train.reset_index(inplace=True, drop=True)\n",
        "#valid.reset_index(inplace=True, drop=True)\n",
        "\n",
        "#y_train = train['target']\n",
        "#x_train = train.drop(columns=['target'])\n",
        "#y_valid = valid['target']\n",
        "#x_valid = valid.drop(columns=['target'])"
      ],
      "execution_count": 11,
      "outputs": [
        {
          "output_type": "stream",
          "text": [
            "train.csv: shape = 100000 rows, 52 cols\n",
            "test.csv: shape = 50000 rows, 51 cols\n"
          ],
          "name": "stdout"
        }
      ]
    },
    {
      "cell_type": "code",
      "metadata": {
        "colab": {
          "base_uri": "https://localhost:8080/"
        },
        "id": "OzG9PJYQI2aP",
        "outputId": "5530ec44-5fea-4253-e67c-27b107bba6a7"
      },
      "source": [
        "lgb_params = {\n",
        "    \"boosting_type \": \"gbdt\",\n",
        "    \"objective\": \"multiclass\",\n",
        "    \"metric\": \"multi_logloss\",\n",
        "    'n_estimators': 500,\n",
        "    'num_class': 4,\n",
        "    'lambda_l1': 0.02259438646302076,\n",
        "    'lambda_l2': 3.3834082296901886e-05,\n",
        "    'num_leaves': 256,\n",
        "    'feature_fraction': 0.42939073275678896,\n",
        "    'bagging_fraction': 0.8760623722003144,\n",
        "    'bagging_freq': 4,\n",
        "    'min_child_samples': 71,\n",
        "    'max_depth': 3,\n",
        "    'learning_rate': 0.07658957460133804,\n",
        "    'random_state': 42,\n",
        "}\n",
        "\n",
        "\n",
        "lgb_params = {\n",
        "    \"boosting_type \": \"gbdt\",\n",
        "    \"objective\": \"multiclass\",\n",
        "    \"metric\": \"multi_logloss\",\n",
        "    'n_estimators': 710,\n",
        "    'num_class': 4,\n",
        "    'lambda_l1': 0.02,\n",
        "    'lambda_l2': 150,\n",
        "    'num_leaves': 7,\n",
        "    'feature_fraction': 0.11,\n",
        "    'bagging_fraction': 0.9,\n",
        "    'bagging_freq': 4,\n",
        "    'min_child_samples': 80,\n",
        "    'max_depth': 5,\n",
        "    'learning_rate': 0.075,\n",
        "    'random_state': 42,\n",
        "    #'max_bin': 50,\n",
        "    #'device' : 'gpu'\n",
        "}\n",
        "\n",
        "\n",
        "cv = StratifiedKFold(n_splits=15, random_state=435, shuffle=True)\n",
        "\n",
        "lgb_estimators, lgb_oof = lightgbm_cv_fit(\n",
        "    lgb_params, data, target, cv, #categorical=categorical_feature_names\n",
        ")"
      ],
      "execution_count": 15,
      "outputs": [
        {
          "output_type": "stream",
          "text": [
            "Sun May 30 13:25:22 2021, Cross-Validation, 100000 rows, 50 cols\n",
            "Fold 1, Valid score = 1.09527\n",
            "Fold 2, Valid score = 1.08856\n",
            "Fold 3, Valid score = 1.08425\n",
            "Fold 5, Valid score = 1.08976\n",
            "Fold 6, Valid score = 1.093\n",
            "Fold 7, Valid score = 1.09338\n",
            "Fold 8, Valid score = 1.08778\n",
            "Fold 9, Valid score = 1.08888\n",
            "Fold 10, Valid score = 1.09407\n",
            "Fold 11, Valid score = 1.08974\n",
            "Fold 12, Valid score = 1.09084\n",
            "Fold 13, Valid score = 1.09176\n",
            "Fold 14, Valid score = 1.08488\n",
            "Fold 15, Valid score = 1.08688\n",
            "Score by each fold: [1.09527, 1.08856, 1.08425, 1.09275, 1.08976, 1.093, 1.09338, 1.08778, 1.08888, 1.09407, 1.08974, 1.09084, 1.09176, 1.08488, 1.08688]\n",
            "=================================================================\n"
          ],
          "name": "stdout"
        }
      ]
    },
    {
      "cell_type": "code",
      "metadata": {
        "colab": {
          "base_uri": "https://localhost:8080/"
        },
        "id": "5PbaQ1sEJU_6",
        "outputId": "6e1e9f24-f94f-4298-b823-7b444b4f8807"
      },
      "source": [
        "print(f\"Out of fold log loss {metrics.log_loss(target, lgb_oof)}\")"
      ],
      "execution_count": 17,
      "outputs": [
        {
          "output_type": "stream",
          "text": [
            "Out of fold log loss 1.0901208836954104\n"
          ],
          "name": "stdout"
        }
      ]
    },
    {
      "cell_type": "code",
      "metadata": {
        "colab": {
          "base_uri": "https://localhost:8080/"
        },
        "id": "MYB_Yoz0MJrv",
        "outputId": "9236dd0e-85bf-4786-b0d7-7ad1f0cf6f24"
      },
      "source": [
        "lgb_estimators[0]"
      ],
      "execution_count": null,
      "outputs": [
        {
          "output_type": "execute_result",
          "data": {
            "text/plain": [
              "LGBMClassifier(bagging_fraction=0.8760623722003144, bagging_freq=4,\n",
              "               boosting_type ='gbdt', feature_fraction=0.42939073275678896,\n",
              "               lambda_l1=0.02259438646302076, lambda_l2=3.3834082296901886e-05,\n",
              "               learning_rate=0.07658957460133804, max_depth=4,\n",
              "               metric='multi_logloss', min_child_samples=71, n_estimators=334,\n",
              "               num_class=4, num_leaves=256, objective='multiclass',\n",
              "               random_state=42)"
            ]
          },
          "metadata": {
            "tags": []
          },
          "execution_count": 44
        }
      ]
    },
    {
      "cell_type": "markdown",
      "metadata": {
        "id": "qPaUz2_WNuTm"
      },
      "source": [
        "### Catboost"
      ]
    },
    {
      "cell_type": "code",
      "metadata": {
        "id": "NkCTJ6igYl6u"
      },
      "source": [
        "# optuna с кросс валидацией работает очень долго поэтому первое приближение получим \n",
        "# на отложенной выборке а потом дотюним\n",
        "def objective(trial):\n",
        "    data = get_input(\"train.csv\")\n",
        "    data.drop(columns='id', inplace=True)\n",
        "    mapper = {'Class_1': 0, 'Class_2': 1, 'Class_3': 2, 'Class_4': 3}\n",
        "    data['target'] = data['target'].map(mapper)\n",
        "    target = data['target']\n",
        "    data = data.drop(columns=['target'])\n",
        "\n",
        "    train_x, valid_x, train_y, valid_y = train_test_split(data, target, test_size=0.35)\n",
        "\n",
        "    param = {\n",
        "        \"loss_function\": \"MultiClass\",\n",
        "        \"eval_metric\": \"MultiClass\",\n",
        "        \"task_type\": \"GPU\",\n",
        "        \n",
        "        #\"colsample_bylevel\": trial.suggest_float(\"colsample_bylevel\", 0.01, 0.1),\n",
        "        #\"subsample\": trial.suggest_float(\"subsample\", 0.1, 1),\n",
        "\n",
        "        'min_data_in_leaf': trial.suggest_int('min_data_in_leaf', 10, 100),\n",
        "        'depth': trial.suggest_int('depth', 3,7),\n",
        "        'learning_rate': trial.suggest_uniform('learning_rate', 0.01, 0.13 ),\n",
        "        'random_strength' :trial.suggest_int('random_strength', 0, 100),\n",
        "        \"l2_leaf_reg\": trial.suggest_loguniform(\"l2_leaf_reg\", 1e-8, 100),                       \n",
        "        #'bagging_temperature' :trial.suggest_loguniform('bagging_temperature', 0.01, 100.00), # for bayesian bootstrap only\n",
        "\n",
        "        #'bootstrap_type': 'Bernoulli',\n",
        "        #'leaf_estimation_method': 'Newton',\n",
        "\n",
        "        'grow_policy': \"SymmetricTree\",\n",
        "    }\n",
        "\n",
        "    # Add a callback for pruning.\n",
        "    pruning_callback = optuna.integration.LightGBMPruningCallback(trial, \"multi_logloss\")\n",
        "    gbm = cb.CatBoostClassifier(**param)\n",
        "\n",
        "    gbm.fit(train_x, train_y, eval_set=[(valid_x, valid_y)], verbose=0, early_stopping_rounds=100)\n",
        "    preds = gbm.predict_proba(valid_x)\n",
        "\n",
        "\n",
        "    log_loss = sklearn.metrics.log_loss(valid_y, preds)\n",
        "    return log_loss"
      ],
      "execution_count": null,
      "outputs": []
    },
    {
      "cell_type": "code",
      "metadata": {
        "id": "ihSvmuFUcpA2",
        "colab": {
          "base_uri": "https://localhost:8080/"
        },
        "outputId": "307f7752-66d8-4088-d673-f2aca56357df"
      },
      "source": [
        "study = optuna.create_study(\n",
        "        pruner=optuna.pruners.MedianPruner(n_warmup_steps=20), direction=\"minimize\"\n",
        "    )\n",
        "study.optimize(objective, n_trials=200)\n",
        "\n",
        "print(\"Best trial:\")\n",
        "trial = study.best_trial\n",
        "\n",
        "print(\"  Params: \")\n",
        "for key, value in trial.params.items():\n",
        "  print(\"    {}: {}\".format(key, value))"
      ],
      "execution_count": null,
      "outputs": [
        {
          "output_type": "stream",
          "text": [
            "\u001b[32m[I 2021-05-25 20:07:18,768]\u001b[0m A new study created in memory with name: no-name-234ea1e3-17bb-4364-985a-ec4112338ece\u001b[0m\n"
          ],
          "name": "stderr"
        },
        {
          "output_type": "stream",
          "text": [
            "train.csv: shape = 100000 rows, 52 cols\n"
          ],
          "name": "stdout"
        },
        {
          "output_type": "stream",
          "text": [
            "Warning: less than 75% gpu memory available for training. Free: 9265.75 Total: 15109.75\n",
            "\u001b[32m[I 2021-05-25 20:07:19,978]\u001b[0m Trial 0 finished with value: 1.186633703881519 and parameters: {'min_data_in_leaf': 24, 'depth': 3, 'learning_rate': 0.12078519555155853, 'random_strength': 58, 'l2_leaf_reg': 2.6581884406103866e-06}. Best is trial 0 with value: 1.186633703881519.\u001b[0m\n"
          ],
          "name": "stderr"
        },
        {
          "output_type": "stream",
          "text": [
            "train.csv: shape = 100000 rows, 52 cols\n"
          ],
          "name": "stdout"
        },
        {
          "output_type": "stream",
          "text": [
            "Warning: less than 75% gpu memory available for training. Free: 9265.75 Total: 15109.75\n",
            "\u001b[32m[I 2021-05-25 20:07:25,654]\u001b[0m Trial 1 finished with value: 1.0898680635762144 and parameters: {'min_data_in_leaf': 33, 'depth': 4, 'learning_rate': 0.07195112205603399, 'random_strength': 86, 'l2_leaf_reg': 1.0362623676141234}. Best is trial 1 with value: 1.0898680635762144.\u001b[0m\n"
          ],
          "name": "stderr"
        },
        {
          "output_type": "stream",
          "text": [
            "train.csv: shape = 100000 rows, 52 cols\n"
          ],
          "name": "stdout"
        },
        {
          "output_type": "stream",
          "text": [
            "Warning: less than 75% gpu memory available for training. Free: 9265.75 Total: 15109.75\n",
            "\u001b[32m[I 2021-05-25 20:07:26,936]\u001b[0m Trial 2 finished with value: 1.3173342168736666 and parameters: {'min_data_in_leaf': 48, 'depth': 5, 'learning_rate': 0.12118267255718547, 'random_strength': 91, 'l2_leaf_reg': 2.187737122396502e-08}. Best is trial 1 with value: 1.0898680635762144.\u001b[0m\n"
          ],
          "name": "stderr"
        },
        {
          "output_type": "stream",
          "text": [
            "train.csv: shape = 100000 rows, 52 cols\n"
          ],
          "name": "stdout"
        },
        {
          "output_type": "stream",
          "text": [
            "Warning: less than 75% gpu memory available for training. Free: 9265.75 Total: 15109.75\n",
            "\u001b[32m[I 2021-05-25 20:07:28,074]\u001b[0m Trial 3 finished with value: 1.2885143238830576 and parameters: {'min_data_in_leaf': 31, 'depth': 3, 'learning_rate': 0.09696703499053426, 'random_strength': 37, 'l2_leaf_reg': 1.2406705861350582e-05}. Best is trial 1 with value: 1.0898680635762144.\u001b[0m\n"
          ],
          "name": "stderr"
        },
        {
          "output_type": "stream",
          "text": [
            "train.csv: shape = 100000 rows, 52 cols\n"
          ],
          "name": "stdout"
        },
        {
          "output_type": "stream",
          "text": [
            "Warning: less than 75% gpu memory available for training. Free: 9265.75 Total: 15109.75\n",
            "\u001b[32m[I 2021-05-25 20:07:29,193]\u001b[0m Trial 4 finished with value: 1.3487214925450937 and parameters: {'min_data_in_leaf': 54, 'depth': 3, 'learning_rate': 0.03290172667305659, 'random_strength': 27, 'l2_leaf_reg': 4.774231469146752e-06}. Best is trial 1 with value: 1.0898680635762144.\u001b[0m\n"
          ],
          "name": "stderr"
        },
        {
          "output_type": "stream",
          "text": [
            "train.csv: shape = 100000 rows, 52 cols\n"
          ],
          "name": "stdout"
        },
        {
          "output_type": "stream",
          "text": [
            "Warning: less than 75% gpu memory available for training. Free: 9265.75 Total: 15109.75\n",
            "\u001b[32m[I 2021-05-25 20:07:37,878]\u001b[0m Trial 5 finished with value: 1.0889162908317813 and parameters: {'min_data_in_leaf': 77, 'depth': 7, 'learning_rate': 0.029612677933852936, 'random_strength': 94, 'l2_leaf_reg': 0.00011373313536023518}. Best is trial 5 with value: 1.0889162908317813.\u001b[0m\n"
          ],
          "name": "stderr"
        },
        {
          "output_type": "stream",
          "text": [
            "train.csv: shape = 100000 rows, 52 cols\n"
          ],
          "name": "stdout"
        },
        {
          "output_type": "stream",
          "text": [
            "Warning: less than 75% gpu memory available for training. Free: 9265.75 Total: 15109.75\n",
            "\u001b[32m[I 2021-05-25 20:07:39,281]\u001b[0m Trial 6 finished with value: 1.302177859838092 and parameters: {'min_data_in_leaf': 24, 'depth': 6, 'learning_rate': 0.08058916149233035, 'random_strength': 93, 'l2_leaf_reg': 1.1370106091251025e-06}. Best is trial 5 with value: 1.0889162908317813.\u001b[0m\n"
          ],
          "name": "stderr"
        },
        {
          "output_type": "stream",
          "text": [
            "train.csv: shape = 100000 rows, 52 cols\n"
          ],
          "name": "stdout"
        },
        {
          "output_type": "stream",
          "text": [
            "Warning: less than 75% gpu memory available for training. Free: 9265.75 Total: 15109.75\n",
            "\u001b[32m[I 2021-05-25 20:07:47,215]\u001b[0m Trial 7 finished with value: 1.09778252116426 and parameters: {'min_data_in_leaf': 60, 'depth': 7, 'learning_rate': 0.019222503766012825, 'random_strength': 61, 'l2_leaf_reg': 6.0086680216965815}. Best is trial 5 with value: 1.0889162908317813.\u001b[0m\n"
          ],
          "name": "stderr"
        },
        {
          "output_type": "stream",
          "text": [
            "train.csv: shape = 100000 rows, 52 cols\n"
          ],
          "name": "stdout"
        },
        {
          "output_type": "stream",
          "text": [
            "Warning: less than 75% gpu memory available for training. Free: 9265.75 Total: 15109.75\n",
            "\u001b[32m[I 2021-05-25 20:07:50,283]\u001b[0m Trial 8 finished with value: 1.0949399281089018 and parameters: {'min_data_in_leaf': 79, 'depth': 6, 'learning_rate': 0.09010758048307221, 'random_strength': 42, 'l2_leaf_reg': 0.00031754537242025536}. Best is trial 5 with value: 1.0889162908317813.\u001b[0m\n"
          ],
          "name": "stderr"
        },
        {
          "output_type": "stream",
          "text": [
            "train.csv: shape = 100000 rows, 52 cols\n"
          ],
          "name": "stdout"
        },
        {
          "output_type": "stream",
          "text": [
            "Warning: less than 75% gpu memory available for training. Free: 9265.75 Total: 15109.75\n",
            "\u001b[32m[I 2021-05-25 20:07:57,351]\u001b[0m Trial 9 finished with value: 1.090675829555737 and parameters: {'min_data_in_leaf': 16, 'depth': 5, 'learning_rate': 0.022515184320922844, 'random_strength': 3, 'l2_leaf_reg': 0.007360147687425196}. Best is trial 5 with value: 1.0889162908317813.\u001b[0m\n"
          ],
          "name": "stderr"
        },
        {
          "output_type": "stream",
          "text": [
            "train.csv: shape = 100000 rows, 52 cols\n"
          ],
          "name": "stdout"
        },
        {
          "output_type": "stream",
          "text": [
            "Warning: less than 75% gpu memory available for training. Free: 9265.75 Total: 15109.75\n",
            "\u001b[32m[I 2021-05-25 20:08:05,433]\u001b[0m Trial 10 finished with value: 1.089795460988898 and parameters: {'min_data_in_leaf': 89, 'depth': 7, 'learning_rate': 0.05010642411806855, 'random_strength': 75, 'l2_leaf_reg': 0.0082235810452614}. Best is trial 5 with value: 1.0889162908317813.\u001b[0m\n"
          ],
          "name": "stderr"
        },
        {
          "output_type": "stream",
          "text": [
            "train.csv: shape = 100000 rows, 52 cols\n"
          ],
          "name": "stdout"
        },
        {
          "output_type": "stream",
          "text": [
            "Warning: less than 75% gpu memory available for training. Free: 9265.75 Total: 15109.75\n",
            "\u001b[32m[I 2021-05-25 20:08:12,788]\u001b[0m Trial 11 finished with value: 1.0940156528097917 and parameters: {'min_data_in_leaf': 100, 'depth': 7, 'learning_rate': 0.04243292265973676, 'random_strength': 74, 'l2_leaf_reg': 0.024042200708683355}. Best is trial 5 with value: 1.0889162908317813.\u001b[0m\n"
          ],
          "name": "stderr"
        },
        {
          "output_type": "stream",
          "text": [
            "train.csv: shape = 100000 rows, 52 cols\n"
          ],
          "name": "stdout"
        },
        {
          "output_type": "stream",
          "text": [
            "Warning: less than 75% gpu memory available for training. Free: 9265.75 Total: 15109.75\n",
            "\u001b[32m[I 2021-05-25 20:08:18,801]\u001b[0m Trial 12 finished with value: 1.0970233447213409 and parameters: {'min_data_in_leaf': 95, 'depth': 7, 'learning_rate': 0.04680601468804839, 'random_strength': 74, 'l2_leaf_reg': 0.00031147846915903304}. Best is trial 5 with value: 1.0889162908317813.\u001b[0m\n"
          ],
          "name": "stderr"
        },
        {
          "output_type": "stream",
          "text": [
            "train.csv: shape = 100000 rows, 52 cols\n"
          ],
          "name": "stdout"
        },
        {
          "output_type": "stream",
          "text": [
            "Warning: less than 75% gpu memory available for training. Free: 9265.75 Total: 15109.75\n",
            "\u001b[32m[I 2021-05-25 20:08:25,122]\u001b[0m Trial 13 finished with value: 1.0869168701293184 and parameters: {'min_data_in_leaf': 80, 'depth': 6, 'learning_rate': 0.05557664790258706, 'random_strength': 75, 'l2_leaf_reg': 0.17076216460834498}. Best is trial 13 with value: 1.0869168701293184.\u001b[0m\n"
          ],
          "name": "stderr"
        },
        {
          "output_type": "stream",
          "text": [
            "train.csv: shape = 100000 rows, 52 cols\n"
          ],
          "name": "stdout"
        },
        {
          "output_type": "stream",
          "text": [
            "Warning: less than 75% gpu memory available for training. Free: 9265.75 Total: 15109.75\n",
            "\u001b[32m[I 2021-05-25 20:08:30,051]\u001b[0m Trial 14 finished with value: 1.094574348718123 and parameters: {'min_data_in_leaf': 73, 'depth': 6, 'learning_rate': 0.060526678307841975, 'random_strength': 100, 'l2_leaf_reg': 0.2621555442458}. Best is trial 13 with value: 1.0869168701293184.\u001b[0m\n"
          ],
          "name": "stderr"
        },
        {
          "output_type": "stream",
          "text": [
            "train.csv: shape = 100000 rows, 52 cols\n"
          ],
          "name": "stdout"
        },
        {
          "output_type": "stream",
          "text": [
            "Warning: less than 75% gpu memory available for training. Free: 9265.75 Total: 15109.75\n",
            "\u001b[32m[I 2021-05-25 20:08:35,964]\u001b[0m Trial 15 finished with value: 1.0999934903965098 and parameters: {'min_data_in_leaf': 72, 'depth': 6, 'learning_rate': 0.014175811896680296, 'random_strength': 100, 'l2_leaf_reg': 0.19544945187028492}. Best is trial 13 with value: 1.0869168701293184.\u001b[0m\n"
          ],
          "name": "stderr"
        },
        {
          "output_type": "stream",
          "text": [
            "train.csv: shape = 100000 rows, 52 cols\n"
          ],
          "name": "stdout"
        },
        {
          "output_type": "stream",
          "text": [
            "Warning: less than 75% gpu memory available for training. Free: 9265.75 Total: 15109.75\n",
            "\u001b[32m[I 2021-05-25 20:08:43,547]\u001b[0m Trial 16 finished with value: 1.0951472922018242 and parameters: {'min_data_in_leaf': 88, 'depth': 6, 'learning_rate': 0.03164915071400415, 'random_strength': 81, 'l2_leaf_reg': 58.96772387736771}. Best is trial 13 with value: 1.0869168701293184.\u001b[0m\n"
          ],
          "name": "stderr"
        },
        {
          "output_type": "stream",
          "text": [
            "train.csv: shape = 100000 rows, 52 cols\n"
          ],
          "name": "stdout"
        },
        {
          "output_type": "stream",
          "text": [
            "Warning: less than 75% gpu memory available for training. Free: 9265.75 Total: 15109.75\n",
            "\u001b[32m[I 2021-05-25 20:08:44,828]\u001b[0m Trial 17 finished with value: 1.3498115755394768 and parameters: {'min_data_in_leaf': 64, 'depth': 5, 'learning_rate': 0.0620943623388789, 'random_strength': 66, 'l2_leaf_reg': 4.001607179131703e-08}. Best is trial 13 with value: 1.0869168701293184.\u001b[0m\n"
          ],
          "name": "stderr"
        },
        {
          "output_type": "stream",
          "text": [
            "train.csv: shape = 100000 rows, 52 cols\n"
          ],
          "name": "stdout"
        },
        {
          "output_type": "stream",
          "text": [
            "Warning: less than 75% gpu memory available for training. Free: 9265.75 Total: 15109.75\n",
            "\u001b[32m[I 2021-05-25 20:08:46,475]\u001b[0m Trial 18 finished with value: 1.3661173627100829 and parameters: {'min_data_in_leaf': 78, 'depth': 7, 'learning_rate': 0.03384338484436058, 'random_strength': 53, 'l2_leaf_reg': 5.9950172509526934e-05}. Best is trial 13 with value: 1.0869168701293184.\u001b[0m\n"
          ],
          "name": "stderr"
        },
        {
          "output_type": "stream",
          "text": [
            "train.csv: shape = 100000 rows, 52 cols\n"
          ],
          "name": "stdout"
        },
        {
          "output_type": "stream",
          "text": [
            "Warning: less than 75% gpu memory available for training. Free: 9265.75 Total: 15109.75\n",
            "\u001b[32m[I 2021-05-25 20:08:52,099]\u001b[0m Trial 19 finished with value: 1.0930752961393073 and parameters: {'min_data_in_leaf': 47, 'depth': 4, 'learning_rate': 0.059975321977370495, 'random_strength': 95, 'l2_leaf_reg': 46.21602942887901}. Best is trial 13 with value: 1.0869168701293184.\u001b[0m\n"
          ],
          "name": "stderr"
        },
        {
          "output_type": "stream",
          "text": [
            "train.csv: shape = 100000 rows, 52 cols\n"
          ],
          "name": "stdout"
        },
        {
          "output_type": "stream",
          "text": [
            "Warning: less than 75% gpu memory available for training. Free: 9265.75 Total: 15109.75\n",
            "\u001b[32m[I 2021-05-25 20:08:58,461]\u001b[0m Trial 20 finished with value: 1.0956206476692645 and parameters: {'min_data_in_leaf': 86, 'depth': 6, 'learning_rate': 0.0487189829246778, 'random_strength': 81, 'l2_leaf_reg': 0.0034420161371314434}. Best is trial 13 with value: 1.0869168701293184.\u001b[0m\n"
          ],
          "name": "stderr"
        },
        {
          "output_type": "stream",
          "text": [
            "train.csv: shape = 100000 rows, 52 cols\n"
          ],
          "name": "stdout"
        },
        {
          "output_type": "stream",
          "text": [
            "Warning: less than 75% gpu memory available for training. Free: 9265.75 Total: 15109.75\n",
            "\u001b[32m[I 2021-05-25 20:09:04,271]\u001b[0m Trial 21 finished with value: 1.0964208791848402 and parameters: {'min_data_in_leaf': 92, 'depth': 7, 'learning_rate': 0.05155988672844171, 'random_strength': 70, 'l2_leaf_reg': 0.05073263276454544}. Best is trial 13 with value: 1.0869168701293184.\u001b[0m\n"
          ],
          "name": "stderr"
        },
        {
          "output_type": "stream",
          "text": [
            "train.csv: shape = 100000 rows, 52 cols\n"
          ],
          "name": "stdout"
        },
        {
          "output_type": "stream",
          "text": [
            "Warning: less than 75% gpu memory available for training. Free: 9265.75 Total: 15109.75\n",
            "\u001b[32m[I 2021-05-25 20:09:08,350]\u001b[0m Trial 22 finished with value: 1.0943119874389708 and parameters: {'min_data_in_leaf': 100, 'depth': 7, 'learning_rate': 0.07363262492465013, 'random_strength': 81, 'l2_leaf_reg': 0.0014202170487802562}. Best is trial 13 with value: 1.0869168701293184.\u001b[0m\n"
          ],
          "name": "stderr"
        },
        {
          "output_type": "stream",
          "text": [
            "train.csv: shape = 100000 rows, 52 cols\n"
          ],
          "name": "stdout"
        },
        {
          "output_type": "stream",
          "text": [
            "Warning: less than 75% gpu memory available for training. Free: 9265.75 Total: 15109.75\n",
            "\u001b[32m[I 2021-05-25 20:09:15,444]\u001b[0m Trial 23 finished with value: 1.0942957978348875 and parameters: {'min_data_in_leaf': 81, 'depth': 7, 'learning_rate': 0.010415070300543172, 'random_strength': 46, 'l2_leaf_reg': 2.419516376036321}. Best is trial 13 with value: 1.0869168701293184.\u001b[0m\n"
          ],
          "name": "stderr"
        },
        {
          "output_type": "stream",
          "text": [
            "train.csv: shape = 100000 rows, 52 cols\n"
          ],
          "name": "stdout"
        },
        {
          "output_type": "stream",
          "text": [
            "Warning: less than 75% gpu memory available for training. Free: 9265.75 Total: 15109.75\n",
            "\u001b[32m[I 2021-05-25 20:09:22,779]\u001b[0m Trial 24 finished with value: 1.0945391816317032 and parameters: {'min_data_in_leaf': 68, 'depth': 6, 'learning_rate': 0.04093752837633574, 'random_strength': 87, 'l2_leaf_reg': 0.00011512520576207445}. Best is trial 13 with value: 1.0869168701293184.\u001b[0m\n"
          ],
          "name": "stderr"
        },
        {
          "output_type": "stream",
          "text": [
            "train.csv: shape = 100000 rows, 52 cols\n"
          ],
          "name": "stdout"
        },
        {
          "output_type": "stream",
          "text": [
            "Warning: less than 75% gpu memory available for training. Free: 9265.75 Total: 15109.75\n",
            "\u001b[32m[I 2021-05-25 20:09:31,433]\u001b[0m Trial 25 finished with value: 1.0911117665423764 and parameters: {'min_data_in_leaf': 85, 'depth': 7, 'learning_rate': 0.025349720673813872, 'random_strength': 66, 'l2_leaf_reg': 0.01531751738760251}. Best is trial 13 with value: 1.0869168701293184.\u001b[0m\n"
          ],
          "name": "stderr"
        },
        {
          "output_type": "stream",
          "text": [
            "train.csv: shape = 100000 rows, 52 cols\n"
          ],
          "name": "stdout"
        },
        {
          "output_type": "stream",
          "text": [
            "Warning: less than 75% gpu memory available for training. Free: 9265.75 Total: 15109.75\n",
            "\u001b[32m[I 2021-05-25 20:09:36,758]\u001b[0m Trial 26 finished with value: 1.0938253751049742 and parameters: {'min_data_in_leaf': 94, 'depth': 6, 'learning_rate': 0.0561982029135949, 'random_strength': 77, 'l2_leaf_reg': 0.13698238968659376}. Best is trial 13 with value: 1.0869168701293184.\u001b[0m\n"
          ],
          "name": "stderr"
        },
        {
          "output_type": "stream",
          "text": [
            "train.csv: shape = 100000 rows, 52 cols\n"
          ],
          "name": "stdout"
        },
        {
          "output_type": "stream",
          "text": [
            "Warning: less than 75% gpu memory available for training. Free: 9265.75 Total: 15109.75\n",
            "\u001b[32m[I 2021-05-25 20:09:45,475]\u001b[0m Trial 27 finished with value: 1.0948455760112155 and parameters: {'min_data_in_leaf': 73, 'depth': 7, 'learning_rate': 0.038374213706832555, 'random_strength': 97, 'l2_leaf_reg': 0.0034145043003224423}. Best is trial 13 with value: 1.0869168701293184.\u001b[0m\n"
          ],
          "name": "stderr"
        },
        {
          "output_type": "stream",
          "text": [
            "train.csv: shape = 100000 rows, 52 cols\n"
          ],
          "name": "stdout"
        },
        {
          "output_type": "stream",
          "text": [
            "Warning: less than 75% gpu memory available for training. Free: 9265.75 Total: 15109.75\n",
            "\u001b[32m[I 2021-05-25 20:09:46,868]\u001b[0m Trial 28 finished with value: 1.3390547462443718 and parameters: {'min_data_in_leaf': 100, 'depth': 6, 'learning_rate': 0.08153624038253171, 'random_strength': 54, 'l2_leaf_reg': 2.0857776634676497e-07}. Best is trial 13 with value: 1.0869168701293184.\u001b[0m\n"
          ],
          "name": "stderr"
        },
        {
          "output_type": "stream",
          "text": [
            "train.csv: shape = 100000 rows, 52 cols\n"
          ],
          "name": "stdout"
        },
        {
          "output_type": "stream",
          "text": [
            "Warning: less than 75% gpu memory available for training. Free: 9265.75 Total: 15109.75\n",
            "\u001b[32m[I 2021-05-25 20:09:48,200]\u001b[0m Trial 29 finished with value: 1.3230146482528375 and parameters: {'min_data_in_leaf': 59, 'depth': 5, 'learning_rate': 0.1104600254746971, 'random_strength': 59, 'l2_leaf_reg': 2.2118644783930476e-05}. Best is trial 13 with value: 1.0869168701293184.\u001b[0m\n"
          ],
          "name": "stderr"
        },
        {
          "output_type": "stream",
          "text": [
            "train.csv: shape = 100000 rows, 52 cols\n"
          ],
          "name": "stdout"
        },
        {
          "output_type": "stream",
          "text": [
            "Warning: less than 75% gpu memory available for training. Free: 9265.75 Total: 15109.75\n",
            "\u001b[32m[I 2021-05-25 20:09:52,531]\u001b[0m Trial 30 finished with value: 1.0909489404184392 and parameters: {'min_data_in_leaf': 82, 'depth': 7, 'learning_rate': 0.06751713804896142, 'random_strength': 87, 'l2_leaf_reg': 0.0008407576807235519}. Best is trial 13 with value: 1.0869168701293184.\u001b[0m\n"
          ],
          "name": "stderr"
        },
        {
          "output_type": "stream",
          "text": [
            "train.csv: shape = 100000 rows, 52 cols\n"
          ],
          "name": "stdout"
        },
        {
          "output_type": "stream",
          "text": [
            "Warning: less than 75% gpu memory available for training. Free: 9265.75 Total: 15109.75\n",
            "\u001b[32m[I 2021-05-25 20:09:57,979]\u001b[0m Trial 31 finished with value: 1.0947043377890044 and parameters: {'min_data_in_leaf': 12, 'depth': 4, 'learning_rate': 0.069968793451516, 'random_strength': 87, 'l2_leaf_reg': 1.4015505546670397}. Best is trial 13 with value: 1.0869168701293184.\u001b[0m\n"
          ],
          "name": "stderr"
        },
        {
          "output_type": "stream",
          "text": [
            "train.csv: shape = 100000 rows, 52 cols\n"
          ],
          "name": "stdout"
        },
        {
          "output_type": "stream",
          "text": [
            "Warning: less than 75% gpu memory available for training. Free: 9265.75 Total: 15109.75\n",
            "\u001b[32m[I 2021-05-25 20:10:03,459]\u001b[0m Trial 32 finished with value: 1.0962105962450035 and parameters: {'min_data_in_leaf': 35, 'depth': 4, 'learning_rate': 0.05327634231289161, 'random_strength': 90, 'l2_leaf_reg': 0.8421502382481408}. Best is trial 13 with value: 1.0869168701293184.\u001b[0m\n"
          ],
          "name": "stderr"
        },
        {
          "output_type": "stream",
          "text": [
            "train.csv: shape = 100000 rows, 52 cols\n"
          ],
          "name": "stdout"
        },
        {
          "output_type": "stream",
          "text": [
            "Warning: less than 75% gpu memory available for training. Free: 9265.75 Total: 15109.75\n",
            "\u001b[32m[I 2021-05-25 20:10:09,109]\u001b[0m Trial 33 finished with value: 1.0888008655046322 and parameters: {'min_data_in_leaf': 44, 'depth': 4, 'learning_rate': 0.08326139993190705, 'random_strength': 82, 'l2_leaf_reg': 4.38787365313175}. Best is trial 13 with value: 1.0869168701293184.\u001b[0m\n"
          ],
          "name": "stderr"
        },
        {
          "output_type": "stream",
          "text": [
            "train.csv: shape = 100000 rows, 52 cols\n"
          ],
          "name": "stdout"
        },
        {
          "output_type": "stream",
          "text": [
            "Warning: less than 75% gpu memory available for training. Free: 9265.75 Total: 15109.75\n",
            "\u001b[32m[I 2021-05-25 20:10:14,757]\u001b[0m Trial 34 finished with value: 1.0891163228015432 and parameters: {'min_data_in_leaf': 44, 'depth': 4, 'learning_rate': 0.07401870226859777, 'random_strength': 68, 'l2_leaf_reg': 4.806633786667923}. Best is trial 13 with value: 1.0869168701293184.\u001b[0m\n"
          ],
          "name": "stderr"
        },
        {
          "output_type": "stream",
          "text": [
            "train.csv: shape = 100000 rows, 52 cols\n"
          ],
          "name": "stdout"
        },
        {
          "output_type": "stream",
          "text": [
            "Warning: less than 75% gpu memory available for training. Free: 9265.75 Total: 15109.75\n",
            "\u001b[32m[I 2021-05-25 20:10:19,640]\u001b[0m Trial 35 finished with value: 1.0912007422677925 and parameters: {'min_data_in_leaf': 46, 'depth': 3, 'learning_rate': 0.10260585472884601, 'random_strength': 61, 'l2_leaf_reg': 7.1739537778928675}. Best is trial 13 with value: 1.0869168701293184.\u001b[0m\n"
          ],
          "name": "stderr"
        },
        {
          "output_type": "stream",
          "text": [
            "train.csv: shape = 100000 rows, 52 cols\n"
          ],
          "name": "stdout"
        },
        {
          "output_type": "stream",
          "text": [
            "Warning: less than 75% gpu memory available for training. Free: 9265.75 Total: 15109.75\n",
            "\u001b[32m[I 2021-05-25 20:10:24,885]\u001b[0m Trial 36 finished with value: 1.0911295965989822 and parameters: {'min_data_in_leaf': 40, 'depth': 4, 'learning_rate': 0.08362685593342127, 'random_strength': 68, 'l2_leaf_reg': 19.5016585222766}. Best is trial 13 with value: 1.0869168701293184.\u001b[0m\n"
          ],
          "name": "stderr"
        },
        {
          "output_type": "stream",
          "text": [
            "train.csv: shape = 100000 rows, 52 cols\n"
          ],
          "name": "stdout"
        },
        {
          "output_type": "stream",
          "text": [
            "Warning: less than 75% gpu memory available for training. Free: 9265.75 Total: 15109.75\n",
            "\u001b[32m[I 2021-05-25 20:10:29,889]\u001b[0m Trial 37 finished with value: 1.0904304174072934 and parameters: {'min_data_in_leaf': 52, 'depth': 3, 'learning_rate': 0.09195494513929797, 'random_strength': 82, 'l2_leaf_reg': 15.640398186875675}. Best is trial 13 with value: 1.0869168701293184.\u001b[0m\n"
          ],
          "name": "stderr"
        },
        {
          "output_type": "stream",
          "text": [
            "train.csv: shape = 100000 rows, 52 cols\n"
          ],
          "name": "stdout"
        },
        {
          "output_type": "stream",
          "text": [
            "Warning: less than 75% gpu memory available for training. Free: 9265.75 Total: 15109.75\n",
            "\u001b[32m[I 2021-05-25 20:10:34,024]\u001b[0m Trial 38 finished with value: 1.091773130108656 and parameters: {'min_data_in_leaf': 27, 'depth': 4, 'learning_rate': 0.10431303937438824, 'random_strength': 19, 'l2_leaf_reg': 3.6332782374751846}. Best is trial 13 with value: 1.0869168701293184.\u001b[0m\n"
          ],
          "name": "stderr"
        },
        {
          "output_type": "stream",
          "text": [
            "train.csv: shape = 100000 rows, 52 cols\n"
          ],
          "name": "stdout"
        },
        {
          "output_type": "stream",
          "text": [
            "Warning: less than 75% gpu memory available for training. Free: 9265.75 Total: 15109.75\n",
            "\u001b[32m[I 2021-05-25 20:10:38,194]\u001b[0m Trial 39 finished with value: 1.091337770913929 and parameters: {'min_data_in_leaf': 41, 'depth': 5, 'learning_rate': 0.07612992552539298, 'random_strength': 92, 'l2_leaf_reg': 0.6074548545386605}. Best is trial 13 with value: 1.0869168701293184.\u001b[0m\n"
          ],
          "name": "stderr"
        },
        {
          "output_type": "stream",
          "text": [
            "train.csv: shape = 100000 rows, 52 cols\n"
          ],
          "name": "stdout"
        },
        {
          "output_type": "stream",
          "text": [
            "Warning: less than 75% gpu memory available for training. Free: 9265.75 Total: 15109.75\n",
            "\u001b[32m[I 2021-05-25 20:10:39,310]\u001b[0m Trial 40 finished with value: 1.3333257841583332 and parameters: {'min_data_in_leaf': 57, 'depth': 3, 'learning_rate': 0.09234127933122296, 'random_strength': 71, 'l2_leaf_reg': 2.238766542613101e-06}. Best is trial 13 with value: 1.0869168701293184.\u001b[0m\n"
          ],
          "name": "stderr"
        },
        {
          "output_type": "stream",
          "text": [
            "train.csv: shape = 100000 rows, 52 cols\n"
          ],
          "name": "stdout"
        },
        {
          "output_type": "stream",
          "text": [
            "Warning: less than 75% gpu memory available for training. Free: 9265.75 Total: 15109.75\n",
            "\u001b[32m[I 2021-05-25 20:10:44,434]\u001b[0m Trial 41 finished with value: 1.0929482589286184 and parameters: {'min_data_in_leaf': 39, 'depth': 4, 'learning_rate': 0.06650573765708406, 'random_strength': 74, 'l2_leaf_reg': 0.05051148100289595}. Best is trial 13 with value: 1.0869168701293184.\u001b[0m\n"
          ],
          "name": "stderr"
        },
        {
          "output_type": "stream",
          "text": [
            "train.csv: shape = 100000 rows, 52 cols\n"
          ],
          "name": "stdout"
        },
        {
          "output_type": "stream",
          "text": [
            "Warning: less than 75% gpu memory available for training. Free: 9265.75 Total: 15109.75\n",
            "\u001b[32m[I 2021-05-25 20:10:48,228]\u001b[0m Trial 42 finished with value: 1.0908082906243195 and parameters: {'min_data_in_leaf': 51, 'depth': 5, 'learning_rate': 0.0857614907520053, 'random_strength': 78, 'l2_leaf_reg': 0.06481261077238604}. Best is trial 13 with value: 1.0869168701293184.\u001b[0m\n"
          ],
          "name": "stderr"
        },
        {
          "output_type": "stream",
          "text": [
            "train.csv: shape = 100000 rows, 52 cols\n"
          ],
          "name": "stdout"
        },
        {
          "output_type": "stream",
          "text": [
            "Warning: less than 75% gpu memory available for training. Free: 9265.75 Total: 15109.75\n",
            "\u001b[32m[I 2021-05-25 20:10:52,727]\u001b[0m Trial 43 finished with value: 1.0932308932274237 and parameters: {'min_data_in_leaf': 65, 'depth': 4, 'learning_rate': 0.07509229592790023, 'random_strength': 66, 'l2_leaf_reg': 0.42949053571331613}. Best is trial 13 with value: 1.0869168701293184.\u001b[0m\n"
          ],
          "name": "stderr"
        },
        {
          "output_type": "stream",
          "text": [
            "train.csv: shape = 100000 rows, 52 cols\n"
          ],
          "name": "stdout"
        },
        {
          "output_type": "stream",
          "text": [
            "Warning: less than 75% gpu memory available for training. Free: 9265.75 Total: 15109.75\n",
            "\u001b[32m[I 2021-05-25 20:10:59,466]\u001b[0m Trial 44 finished with value: 1.0963491112680257 and parameters: {'min_data_in_leaf': 44, 'depth': 5, 'learning_rate': 0.045194948716566735, 'random_strength': 84, 'l2_leaf_reg': 0.011286360562003087}. Best is trial 13 with value: 1.0869168701293184.\u001b[0m\n"
          ],
          "name": "stderr"
        },
        {
          "output_type": "stream",
          "text": [
            "train.csv: shape = 100000 rows, 52 cols\n"
          ],
          "name": "stdout"
        },
        {
          "output_type": "stream",
          "text": [
            "Warning: less than 75% gpu memory available for training. Free: 9265.75 Total: 15109.75\n",
            "\u001b[32m[I 2021-05-25 20:11:05,233]\u001b[0m Trial 45 finished with value: 1.0938743336946204 and parameters: {'min_data_in_leaf': 31, 'depth': 4, 'learning_rate': 0.05622817277750462, 'random_strength': 76, 'l2_leaf_reg': 0.0003416919361316871}. Best is trial 13 with value: 1.0869168701293184.\u001b[0m\n"
          ],
          "name": "stderr"
        },
        {
          "output_type": "stream",
          "text": [
            "train.csv: shape = 100000 rows, 52 cols\n"
          ],
          "name": "stdout"
        },
        {
          "output_type": "stream",
          "text": [
            "Warning: less than 75% gpu memory available for training. Free: 9265.75 Total: 15109.75\n",
            "\u001b[32m[I 2021-05-25 20:11:10,182]\u001b[0m Trial 46 finished with value: 1.0977939379999926 and parameters: {'min_data_in_leaf': 76, 'depth': 3, 'learning_rate': 0.06371232810186106, 'random_strength': 35, 'l2_leaf_reg': 11.574361044918115}. Best is trial 13 with value: 1.0869168701293184.\u001b[0m\n"
          ],
          "name": "stderr"
        },
        {
          "output_type": "stream",
          "text": [
            "train.csv: shape = 100000 rows, 52 cols\n"
          ],
          "name": "stdout"
        },
        {
          "output_type": "stream",
          "text": [
            "Warning: less than 75% gpu memory available for training. Free: 9265.75 Total: 15109.75\n",
            "\u001b[32m[I 2021-05-25 20:11:16,221]\u001b[0m Trial 47 finished with value: 1.0927217405839302 and parameters: {'min_data_in_leaf': 63, 'depth': 5, 'learning_rate': 0.025194031946044203, 'random_strength': 99, 'l2_leaf_reg': 0.1275162887245796}. Best is trial 13 with value: 1.0869168701293184.\u001b[0m\n"
          ],
          "name": "stderr"
        },
        {
          "output_type": "stream",
          "text": [
            "train.csv: shape = 100000 rows, 52 cols\n"
          ],
          "name": "stdout"
        },
        {
          "output_type": "stream",
          "text": [
            "Warning: less than 75% gpu memory available for training. Free: 9265.75 Total: 15109.75\n",
            "\u001b[32m[I 2021-05-25 20:11:23,664]\u001b[0m Trial 48 finished with value: 1.0908352270553296 and parameters: {'min_data_in_leaf': 91, 'depth': 6, 'learning_rate': 0.03158676067360349, 'random_strength': 62, 'l2_leaf_reg': 2.3115177796261444}. Best is trial 13 with value: 1.0869168701293184.\u001b[0m\n"
          ],
          "name": "stderr"
        },
        {
          "output_type": "stream",
          "text": [
            "train.csv: shape = 100000 rows, 52 cols\n"
          ],
          "name": "stdout"
        },
        {
          "output_type": "stream",
          "text": [
            "Warning: less than 75% gpu memory available for training. Free: 9265.75 Total: 15109.75\n",
            "\u001b[32m[I 2021-05-25 20:11:24,844]\u001b[0m Trial 49 finished with value: 1.3414319704950226 and parameters: {'min_data_in_leaf': 21, 'depth': 4, 'learning_rate': 0.07705141545329378, 'random_strength': 91, 'l2_leaf_reg': 1.904714694293859e-05}. Best is trial 13 with value: 1.0869168701293184.\u001b[0m\n"
          ],
          "name": "stderr"
        },
        {
          "output_type": "stream",
          "text": [
            "train.csv: shape = 100000 rows, 52 cols\n"
          ],
          "name": "stdout"
        },
        {
          "output_type": "stream",
          "text": [
            "Warning: less than 75% gpu memory available for training. Free: 9265.75 Total: 15109.75\n",
            "\u001b[32m[I 2021-05-25 20:11:32,799]\u001b[0m Trial 50 finished with value: 1.0955196981207298 and parameters: {'min_data_in_leaf': 70, 'depth': 7, 'learning_rate': 0.018005019541046767, 'random_strength': 55, 'l2_leaf_reg': 86.5270796898434}. Best is trial 13 with value: 1.0869168701293184.\u001b[0m\n"
          ],
          "name": "stderr"
        },
        {
          "output_type": "stream",
          "text": [
            "train.csv: shape = 100000 rows, 52 cols\n"
          ],
          "name": "stdout"
        },
        {
          "output_type": "stream",
          "text": [
            "Warning: less than 75% gpu memory available for training. Free: 9265.75 Total: 15109.75\n",
            "\u001b[32m[I 2021-05-25 20:11:38,523]\u001b[0m Trial 51 finished with value: 1.0925668709609466 and parameters: {'min_data_in_leaf': 37, 'depth': 4, 'learning_rate': 0.08894556221388104, 'random_strength': 72, 'l2_leaf_reg': 28.55045776692967}. Best is trial 13 with value: 1.0869168701293184.\u001b[0m\n"
          ],
          "name": "stderr"
        },
        {
          "output_type": "stream",
          "text": [
            "train.csv: shape = 100000 rows, 52 cols\n"
          ],
          "name": "stdout"
        },
        {
          "output_type": "stream",
          "text": [
            "Warning: less than 75% gpu memory available for training. Free: 9265.75 Total: 15109.75\n",
            "\u001b[32m[I 2021-05-25 20:11:43,592]\u001b[0m Trial 52 finished with value: 1.093101618666682 and parameters: {'min_data_in_leaf': 32, 'depth': 4, 'learning_rate': 0.0792330468382374, 'random_strength': 85, 'l2_leaf_reg': 0.33291861070436807}. Best is trial 13 with value: 1.0869168701293184.\u001b[0m\n"
          ],
          "name": "stderr"
        },
        {
          "output_type": "stream",
          "text": [
            "train.csv: shape = 100000 rows, 52 cols\n"
          ],
          "name": "stdout"
        },
        {
          "output_type": "stream",
          "text": [
            "Warning: less than 75% gpu memory available for training. Free: 9265.75 Total: 15109.75\n",
            "\u001b[32m[I 2021-05-25 20:11:48,297]\u001b[0m Trial 53 finished with value: 1.094209420501426 and parameters: {'min_data_in_leaf': 27, 'depth': 3, 'learning_rate': 0.0716504908066034, 'random_strength': 77, 'l2_leaf_reg': 5.749125573493157}. Best is trial 13 with value: 1.0869168701293184.\u001b[0m\n"
          ],
          "name": "stderr"
        },
        {
          "output_type": "stream",
          "text": [
            "train.csv: shape = 100000 rows, 52 cols\n"
          ],
          "name": "stdout"
        },
        {
          "output_type": "stream",
          "text": [
            "Warning: less than 75% gpu memory available for training. Free: 9265.75 Total: 15109.75\n",
            "\u001b[32m[I 2021-05-25 20:11:54,043]\u001b[0m Trial 54 finished with value: 1.0910771227398406 and parameters: {'min_data_in_leaf': 43, 'depth': 4, 'learning_rate': 0.05946901879295437, 'random_strength': 95, 'l2_leaf_reg': 1.056046119201111}. Best is trial 13 with value: 1.0869168701293184.\u001b[0m\n"
          ],
          "name": "stderr"
        },
        {
          "output_type": "stream",
          "text": [
            "train.csv: shape = 100000 rows, 52 cols\n"
          ],
          "name": "stdout"
        },
        {
          "output_type": "stream",
          "text": [
            "Warning: less than 75% gpu memory available for training. Free: 9265.75 Total: 15109.75\n",
            "\u001b[32m[I 2021-05-25 20:12:00,238]\u001b[0m Trial 55 finished with value: 1.0907661649818936 and parameters: {'min_data_in_leaf': 49, 'depth': 7, 'learning_rate': 0.05068452580691591, 'random_strength': 80, 'l2_leaf_reg': 0.0038380670062249478}. Best is trial 13 with value: 1.0869168701293184.\u001b[0m\n"
          ],
          "name": "stderr"
        },
        {
          "output_type": "stream",
          "text": [
            "train.csv: shape = 100000 rows, 52 cols\n"
          ],
          "name": "stdout"
        },
        {
          "output_type": "stream",
          "text": [
            "Warning: less than 75% gpu memory available for training. Free: 9265.75 Total: 15109.75\n",
            "\u001b[32m[I 2021-05-25 20:12:06,111]\u001b[0m Trial 56 finished with value: 1.0906496093277767 and parameters: {'min_data_in_leaf': 55, 'depth': 6, 'learning_rate': 0.06504868292651468, 'random_strength': 90, 'l2_leaf_reg': 0.029458167721213388}. Best is trial 13 with value: 1.0869168701293184.\u001b[0m\n"
          ],
          "name": "stderr"
        },
        {
          "output_type": "stream",
          "text": [
            "train.csv: shape = 100000 rows, 52 cols\n"
          ],
          "name": "stdout"
        },
        {
          "output_type": "stream",
          "text": [
            "Warning: less than 75% gpu memory available for training. Free: 9265.75 Total: 15109.75\n",
            "\u001b[32m[I 2021-05-25 20:12:07,407]\u001b[0m Trial 57 finished with value: 1.2889636681170535 and parameters: {'min_data_in_leaf': 84, 'depth': 5, 'learning_rate': 0.0963125667545601, 'random_strength': 49, 'l2_leaf_reg': 6.550951067368021e-05}. Best is trial 13 with value: 1.0869168701293184.\u001b[0m\n"
          ],
          "name": "stderr"
        },
        {
          "output_type": "stream",
          "text": [
            "train.csv: shape = 100000 rows, 52 cols\n"
          ],
          "name": "stdout"
        },
        {
          "output_type": "stream",
          "text": [
            "Warning: less than 75% gpu memory available for training. Free: 9265.75 Total: 15109.75\n",
            "\u001b[32m[I 2021-05-25 20:12:14,460]\u001b[0m Trial 58 finished with value: 1.097480017620552 and parameters: {'min_data_in_leaf': 90, 'depth': 7, 'learning_rate': 0.0362058499180881, 'random_strength': 65, 'l2_leaf_reg': 0.0009758517718541575}. Best is trial 13 with value: 1.0869168701293184.\u001b[0m\n"
          ],
          "name": "stderr"
        },
        {
          "output_type": "stream",
          "text": [
            "train.csv: shape = 100000 rows, 52 cols\n"
          ],
          "name": "stdout"
        },
        {
          "output_type": "stream",
          "text": [
            "Warning: less than 75% gpu memory available for training. Free: 9265.75 Total: 15109.75\n",
            "\u001b[32m[I 2021-05-25 20:12:22,209]\u001b[0m Trial 59 finished with value: 1.0901868917398791 and parameters: {'min_data_in_leaf': 76, 'depth': 6, 'learning_rate': 0.04357086163132811, 'random_strength': 84, 'l2_leaf_reg': 0.10809631346662618}. Best is trial 13 with value: 1.0869168701293184.\u001b[0m\n"
          ],
          "name": "stderr"
        },
        {
          "output_type": "stream",
          "text": [
            "train.csv: shape = 100000 rows, 52 cols\n"
          ],
          "name": "stdout"
        },
        {
          "output_type": "stream",
          "text": [
            "Warning: less than 75% gpu memory available for training. Free: 9265.75 Total: 15109.75\n",
            "\u001b[32m[I 2021-05-25 20:12:25,491]\u001b[0m Trial 60 finished with value: 1.0891165048346743 and parameters: {'min_data_in_leaf': 95, 'depth': 4, 'learning_rate': 0.1290658700086832, 'random_strength': 71, 'l2_leaf_reg': 1.9750289062057864}. Best is trial 13 with value: 1.0869168701293184.\u001b[0m\n"
          ],
          "name": "stderr"
        },
        {
          "output_type": "stream",
          "text": [
            "train.csv: shape = 100000 rows, 52 cols\n"
          ],
          "name": "stdout"
        },
        {
          "output_type": "stream",
          "text": [
            "Warning: less than 75% gpu memory available for training. Free: 9265.75 Total: 15109.75\n",
            "\u001b[32m[I 2021-05-25 20:12:29,318]\u001b[0m Trial 61 finished with value: 1.0927390977974325 and parameters: {'min_data_in_leaf': 98, 'depth': 4, 'learning_rate': 0.12476981590298908, 'random_strength': 70, 'l2_leaf_reg': 1.235256521569157}. Best is trial 13 with value: 1.0869168701293184.\u001b[0m\n"
          ],
          "name": "stderr"
        },
        {
          "output_type": "stream",
          "text": [
            "train.csv: shape = 100000 rows, 52 cols\n"
          ],
          "name": "stdout"
        },
        {
          "output_type": "stream",
          "text": [
            "Warning: less than 75% gpu memory available for training. Free: 9265.75 Total: 15109.75\n",
            "\u001b[32m[I 2021-05-25 20:12:34,694]\u001b[0m Trial 62 finished with value: 1.0982548974131083 and parameters: {'min_data_in_leaf': 88, 'depth': 4, 'learning_rate': 0.06962924012572276, 'random_strength': 74, 'l2_leaf_reg': 3.3813478451709313}. Best is trial 13 with value: 1.0869168701293184.\u001b[0m\n"
          ],
          "name": "stderr"
        },
        {
          "output_type": "stream",
          "text": [
            "train.csv: shape = 100000 rows, 52 cols\n"
          ],
          "name": "stdout"
        },
        {
          "output_type": "stream",
          "text": [
            "Warning: less than 75% gpu memory available for training. Free: 9265.75 Total: 15109.75\n",
            "\u001b[32m[I 2021-05-25 20:12:37,644]\u001b[0m Trial 63 finished with value: 1.0939610493515561 and parameters: {'min_data_in_leaf': 95, 'depth': 4, 'learning_rate': 0.1132028268260794, 'random_strength': 79, 'l2_leaf_reg': 0.3290636329583202}. Best is trial 13 with value: 1.0869168701293184.\u001b[0m\n"
          ],
          "name": "stderr"
        },
        {
          "output_type": "stream",
          "text": [
            "train.csv: shape = 100000 rows, 52 cols\n"
          ],
          "name": "stdout"
        },
        {
          "output_type": "stream",
          "text": [
            "Warning: less than 75% gpu memory available for training. Free: 9265.75 Total: 15109.75\n",
            "\u001b[32m[I 2021-05-25 20:12:43,324]\u001b[0m Trial 64 finished with value: 1.0947023360395058 and parameters: {'min_data_in_leaf': 81, 'depth': 4, 'learning_rate': 0.057556545694106176, 'random_strength': 88, 'l2_leaf_reg': 41.26139629102288}. Best is trial 13 with value: 1.0869168701293184.\u001b[0m\n"
          ],
          "name": "stderr"
        },
        {
          "output_type": "stream",
          "text": [
            "train.csv: shape = 100000 rows, 52 cols\n"
          ],
          "name": "stdout"
        },
        {
          "output_type": "stream",
          "text": [
            "Warning: less than 75% gpu memory available for training. Free: 9265.75 Total: 15109.75\n",
            "\u001b[32m[I 2021-05-25 20:12:51,741]\u001b[0m Trial 65 finished with value: 1.0944231780312432 and parameters: {'min_data_in_leaf': 35, 'depth': 7, 'learning_rate': 0.048117073540294195, 'random_strength': 96, 'l2_leaf_reg': 8.056741302291655}. Best is trial 13 with value: 1.0869168701293184.\u001b[0m\n"
          ],
          "name": "stderr"
        },
        {
          "output_type": "stream",
          "text": [
            "train.csv: shape = 100000 rows, 52 cols\n"
          ],
          "name": "stdout"
        },
        {
          "output_type": "stream",
          "text": [
            "Warning: less than 75% gpu memory available for training. Free: 9265.75 Total: 15109.75\n",
            "\u001b[32m[I 2021-05-25 20:12:58,001]\u001b[0m Trial 66 finished with value: 1.0932632524332595 and parameters: {'min_data_in_leaf': 97, 'depth': 5, 'learning_rate': 0.05434160408880501, 'random_strength': 63, 'l2_leaf_reg': 1.6419772439189682}. Best is trial 13 with value: 1.0869168701293184.\u001b[0m\n"
          ],
          "name": "stderr"
        },
        {
          "output_type": "stream",
          "text": [
            "train.csv: shape = 100000 rows, 52 cols\n"
          ],
          "name": "stdout"
        },
        {
          "output_type": "stream",
          "text": [
            "Warning: less than 75% gpu memory available for training. Free: 9265.75 Total: 15109.75\n",
            "\u001b[32m[I 2021-05-25 20:12:59,219]\u001b[0m Trial 67 finished with value: 1.3679190806644936 and parameters: {'min_data_in_leaf': 88, 'depth': 4, 'learning_rate': 0.030562506204571002, 'random_strength': 57, 'l2_leaf_reg': 0.00013410695950274917}. Best is trial 13 with value: 1.0869168701293184.\u001b[0m\n"
          ],
          "name": "stderr"
        },
        {
          "output_type": "stream",
          "text": [
            "train.csv: shape = 100000 rows, 52 cols\n"
          ],
          "name": "stdout"
        },
        {
          "output_type": "stream",
          "text": [
            "Warning: less than 75% gpu memory available for training. Free: 9265.75 Total: 15109.75\n",
            "\u001b[32m[I 2021-05-25 20:13:02,892]\u001b[0m Trial 68 finished with value: 1.088620023308173 and parameters: {'min_data_in_leaf': 46, 'depth': 3, 'learning_rate': 0.12922648720072863, 'random_strength': 68, 'l2_leaf_reg': 0.660823146060707}. Best is trial 13 with value: 1.0869168701293184.\u001b[0m\n"
          ],
          "name": "stderr"
        },
        {
          "output_type": "stream",
          "text": [
            "train.csv: shape = 100000 rows, 52 cols\n"
          ],
          "name": "stdout"
        },
        {
          "output_type": "stream",
          "text": [
            "Warning: less than 75% gpu memory available for training. Free: 9265.75 Total: 15109.75\n",
            "\u001b[32m[I 2021-05-25 20:13:06,658]\u001b[0m Trial 69 finished with value: 1.0935420244713856 and parameters: {'min_data_in_leaf': 47, 'depth': 3, 'learning_rate': 0.11977697187009476, 'random_strength': 69, 'l2_leaf_reg': 0.1870729374831878}. Best is trial 13 with value: 1.0869168701293184.\u001b[0m\n"
          ],
          "name": "stderr"
        },
        {
          "output_type": "stream",
          "text": [
            "train.csv: shape = 100000 rows, 52 cols\n"
          ],
          "name": "stdout"
        },
        {
          "output_type": "stream",
          "text": [
            "Warning: less than 75% gpu memory available for training. Free: 9265.75 Total: 15109.75\n",
            "\u001b[32m[I 2021-05-25 20:13:10,024]\u001b[0m Trial 70 finished with value: 1.0991958452135608 and parameters: {'min_data_in_leaf': 50, 'depth': 3, 'learning_rate': 0.1266918796276117, 'random_strength': 73, 'l2_leaf_reg': 0.005355801319274543}. Best is trial 13 with value: 1.0869168701293184.\u001b[0m\n"
          ],
          "name": "stderr"
        },
        {
          "output_type": "stream",
          "text": [
            "train.csv: shape = 100000 rows, 52 cols\n"
          ],
          "name": "stdout"
        },
        {
          "output_type": "stream",
          "text": [
            "Warning: less than 75% gpu memory available for training. Free: 9265.75 Total: 15109.75\n",
            "\u001b[32m[I 2021-05-25 20:13:14,001]\u001b[0m Trial 71 finished with value: 1.085815400126414 and parameters: {'min_data_in_leaf': 44, 'depth': 4, 'learning_rate': 0.1174584342278517, 'random_strength': 76, 'l2_leaf_reg': 5.305749568383563}. Best is trial 71 with value: 1.085815400126414.\u001b[0m\n"
          ],
          "name": "stderr"
        },
        {
          "output_type": "stream",
          "text": [
            "train.csv: shape = 100000 rows, 52 cols\n"
          ],
          "name": "stdout"
        },
        {
          "output_type": "stream",
          "text": [
            "Warning: less than 75% gpu memory available for training. Free: 9265.75 Total: 15109.75\n",
            "\u001b[32m[I 2021-05-25 20:13:18,158]\u001b[0m Trial 72 finished with value: 1.0997956750584494 and parameters: {'min_data_in_leaf': 54, 'depth': 3, 'learning_rate': 0.11768932718054712, 'random_strength': 75, 'l2_leaf_reg': 4.113717754340627}. Best is trial 71 with value: 1.085815400126414.\u001b[0m\n"
          ],
          "name": "stderr"
        },
        {
          "output_type": "stream",
          "text": [
            "train.csv: shape = 100000 rows, 52 cols\n"
          ],
          "name": "stdout"
        },
        {
          "output_type": "stream",
          "text": [
            "Warning: less than 75% gpu memory available for training. Free: 9265.75 Total: 15109.75\n",
            "\u001b[32m[I 2021-05-25 20:13:21,364]\u001b[0m Trial 73 finished with value: 1.0904998476981853 and parameters: {'min_data_in_leaf': 45, 'depth': 5, 'learning_rate': 0.12402370799457353, 'random_strength': 67, 'l2_leaf_reg': 0.6432882712545613}. Best is trial 71 with value: 1.085815400126414.\u001b[0m\n"
          ],
          "name": "stderr"
        },
        {
          "output_type": "stream",
          "text": [
            "train.csv: shape = 100000 rows, 52 cols\n"
          ],
          "name": "stdout"
        },
        {
          "output_type": "stream",
          "text": [
            "Warning: less than 75% gpu memory available for training. Free: 9265.75 Total: 15109.75\n",
            "\u001b[32m[I 2021-05-25 20:13:26,025]\u001b[0m Trial 74 finished with value: 1.0921964647726978 and parameters: {'min_data_in_leaf': 41, 'depth': 4, 'learning_rate': 0.12853826069104687, 'random_strength': 82, 'l2_leaf_reg': 22.129601025987316}. Best is trial 71 with value: 1.085815400126414.\u001b[0m\n"
          ],
          "name": "stderr"
        },
        {
          "output_type": "stream",
          "text": [
            "train.csv: shape = 100000 rows, 52 cols\n"
          ],
          "name": "stdout"
        },
        {
          "output_type": "stream",
          "text": [
            "Warning: less than 75% gpu memory available for training. Free: 9265.75 Total: 15109.75\n",
            "\u001b[32m[I 2021-05-25 20:13:29,796]\u001b[0m Trial 75 finished with value: 1.0952290868789702 and parameters: {'min_data_in_leaf': 38, 'depth': 3, 'learning_rate': 0.12917417318308558, 'random_strength': 70, 'l2_leaf_reg': 0.0019526266380516548}. Best is trial 71 with value: 1.085815400126414.\u001b[0m\n"
          ],
          "name": "stderr"
        },
        {
          "output_type": "stream",
          "text": [
            "train.csv: shape = 100000 rows, 52 cols\n"
          ],
          "name": "stdout"
        },
        {
          "output_type": "stream",
          "text": [
            "Warning: less than 75% gpu memory available for training. Free: 9265.75 Total: 15109.75\n",
            "\u001b[32m[I 2021-05-25 20:13:32,996]\u001b[0m Trial 76 finished with value: 1.0951099233649884 and parameters: {'min_data_in_leaf': 84, 'depth': 7, 'learning_rate': 0.11635157923576202, 'random_strength': 59, 'l2_leaf_reg': 0.02365253391092147}. Best is trial 71 with value: 1.085815400126414.\u001b[0m\n"
          ],
          "name": "stderr"
        },
        {
          "output_type": "stream",
          "text": [
            "train.csv: shape = 100000 rows, 52 cols\n"
          ],
          "name": "stdout"
        },
        {
          "output_type": "stream",
          "text": [
            "Warning: less than 75% gpu memory available for training. Free: 9265.75 Total: 15109.75\n",
            "\u001b[32m[I 2021-05-25 20:13:40,767]\u001b[0m Trial 77 finished with value: 1.087209637219368 and parameters: {'min_data_in_leaf': 42, 'depth': 6, 'learning_rate': 0.03978145245111596, 'random_strength': 78, 'l2_leaf_reg': 7.946020629316243}. Best is trial 71 with value: 1.085815400126414.\u001b[0m\n"
          ],
          "name": "stderr"
        },
        {
          "output_type": "stream",
          "text": [
            "train.csv: shape = 100000 rows, 52 cols\n"
          ],
          "name": "stdout"
        },
        {
          "output_type": "stream",
          "text": [
            "Warning: less than 75% gpu memory available for training. Free: 9265.75 Total: 15109.75\n",
            "\u001b[32m[I 2021-05-25 20:13:48,577]\u001b[0m Trial 78 finished with value: 1.091510055436855 and parameters: {'min_data_in_leaf': 43, 'depth': 6, 'learning_rate': 0.04035488067564389, 'random_strength': 63, 'l2_leaf_reg': 10.489822621565192}. Best is trial 71 with value: 1.085815400126414.\u001b[0m\n"
          ],
          "name": "stderr"
        },
        {
          "output_type": "stream",
          "text": [
            "train.csv: shape = 100000 rows, 52 cols\n"
          ],
          "name": "stdout"
        },
        {
          "output_type": "stream",
          "text": [
            "Warning: less than 75% gpu memory available for training. Free: 9265.75 Total: 15109.75\n",
            "\u001b[32m[I 2021-05-25 20:13:54,861]\u001b[0m Trial 79 finished with value: 1.0889566945271378 and parameters: {'min_data_in_leaf': 48, 'depth': 5, 'learning_rate': 0.027409671872676806, 'random_strength': 83, 'l2_leaf_reg': 2.201260901268027}. Best is trial 71 with value: 1.085815400126414.\u001b[0m\n"
          ],
          "name": "stderr"
        },
        {
          "output_type": "stream",
          "text": [
            "train.csv: shape = 100000 rows, 52 cols\n"
          ],
          "name": "stdout"
        },
        {
          "output_type": "stream",
          "text": [
            "Warning: less than 75% gpu memory available for training. Free: 9265.75 Total: 15109.75\n",
            "\u001b[32m[I 2021-05-25 20:14:01,880]\u001b[0m Trial 80 finished with value: 1.0941020114061375 and parameters: {'min_data_in_leaf': 52, 'depth': 6, 'learning_rate': 0.02858611363160938, 'random_strength': 82, 'l2_leaf_reg': 6.004192388769487}. Best is trial 71 with value: 1.085815400126414.\u001b[0m\n"
          ],
          "name": "stderr"
        },
        {
          "output_type": "stream",
          "text": [
            "train.csv: shape = 100000 rows, 52 cols\n"
          ],
          "name": "stdout"
        },
        {
          "output_type": "stream",
          "text": [
            "Warning: less than 75% gpu memory available for training. Free: 9265.75 Total: 15109.75\n",
            "\u001b[32m[I 2021-05-25 20:14:07,881]\u001b[0m Trial 81 finished with value: 1.0915738575100467 and parameters: {'min_data_in_leaf': 47, 'depth': 5, 'learning_rate': 0.023419341355692923, 'random_strength': 78, 'l2_leaf_reg': 69.20635165692036}. Best is trial 71 with value: 1.085815400126414.\u001b[0m\n"
          ],
          "name": "stderr"
        },
        {
          "output_type": "stream",
          "text": [
            "train.csv: shape = 100000 rows, 52 cols\n"
          ],
          "name": "stdout"
        },
        {
          "output_type": "stream",
          "text": [
            "Warning: less than 75% gpu memory available for training. Free: 9265.75 Total: 15109.75\n",
            "\u001b[32m[I 2021-05-25 20:14:14,231]\u001b[0m Trial 82 finished with value: 1.1028438728884988 and parameters: {'min_data_in_leaf': 57, 'depth': 6, 'learning_rate': 0.014479894342148358, 'random_strength': 84, 'l2_leaf_reg': 2.8721171904909784}. Best is trial 71 with value: 1.085815400126414.\u001b[0m\n"
          ],
          "name": "stderr"
        },
        {
          "output_type": "stream",
          "text": [
            "train.csv: shape = 100000 rows, 52 cols\n"
          ],
          "name": "stdout"
        },
        {
          "output_type": "stream",
          "text": [
            "Warning: less than 75% gpu memory available for training. Free: 9265.75 Total: 15109.75\n",
            "\u001b[32m[I 2021-05-25 20:14:20,188]\u001b[0m Trial 83 finished with value: 1.089497266892655 and parameters: {'min_data_in_leaf': 41, 'depth': 5, 'learning_rate': 0.01977189834763539, 'random_strength': 72, 'l2_leaf_reg': 1.9023607102167628}. Best is trial 71 with value: 1.085815400126414.\u001b[0m\n"
          ],
          "name": "stderr"
        },
        {
          "output_type": "stream",
          "text": [
            "train.csv: shape = 100000 rows, 52 cols\n"
          ],
          "name": "stdout"
        },
        {
          "output_type": "stream",
          "text": [
            "Warning: less than 75% gpu memory available for training. Free: 9265.75 Total: 15109.75\n",
            "\u001b[32m[I 2021-05-25 20:14:25,658]\u001b[0m Trial 84 finished with value: 1.0953998261240931 and parameters: {'min_data_in_leaf': 35, 'depth': 4, 'learning_rate': 0.03422194144160972, 'random_strength': 77, 'l2_leaf_reg': 0.5884839707979983}. Best is trial 71 with value: 1.085815400126414.\u001b[0m\n"
          ],
          "name": "stderr"
        },
        {
          "output_type": "stream",
          "text": [
            "train.csv: shape = 100000 rows, 52 cols\n"
          ],
          "name": "stdout"
        },
        {
          "output_type": "stream",
          "text": [
            "Warning: less than 75% gpu memory available for training. Free: 9265.75 Total: 15109.75\n",
            "\u001b[32m[I 2021-05-25 20:14:32,042]\u001b[0m Trial 85 finished with value: 1.092804993412369 and parameters: {'min_data_in_leaf': 48, 'depth': 5, 'learning_rate': 0.03844845374270974, 'random_strength': 89, 'l2_leaf_reg': 13.559755787542654}. Best is trial 71 with value: 1.085815400126414.\u001b[0m\n"
          ],
          "name": "stderr"
        },
        {
          "output_type": "stream",
          "text": [
            "train.csv: shape = 100000 rows, 52 cols\n"
          ],
          "name": "stdout"
        },
        {
          "output_type": "stream",
          "text": [
            "Warning: less than 75% gpu memory available for training. Free: 9265.75 Total: 15109.75\n",
            "\u001b[32m[I 2021-05-25 20:14:37,305]\u001b[0m Trial 86 finished with value: 1.0899799788880349 and parameters: {'min_data_in_leaf': 60, 'depth': 4, 'learning_rate': 0.02652441411996351, 'random_strength': 80, 'l2_leaf_reg': 30.220319116678656}. Best is trial 71 with value: 1.085815400126414.\u001b[0m\n"
          ],
          "name": "stderr"
        },
        {
          "output_type": "stream",
          "text": [
            "train.csv: shape = 100000 rows, 52 cols\n"
          ],
          "name": "stdout"
        },
        {
          "output_type": "stream",
          "text": [
            "Warning: less than 75% gpu memory available for training. Free: 9265.75 Total: 15109.75\n",
            "\u001b[32m[I 2021-05-25 20:14:38,549]\u001b[0m Trial 87 finished with value: 1.2685851446855785 and parameters: {'min_data_in_leaf': 44, 'depth': 5, 'learning_rate': 0.1219338042651884, 'random_strength': 65, 'l2_leaf_reg': 7.963969844134074e-06}. Best is trial 71 with value: 1.085815400126414.\u001b[0m\n"
          ],
          "name": "stderr"
        },
        {
          "output_type": "stream",
          "text": [
            "train.csv: shape = 100000 rows, 52 cols\n"
          ],
          "name": "stdout"
        },
        {
          "output_type": "stream",
          "text": [
            "Warning: less than 75% gpu memory available for training. Free: 9265.75 Total: 15109.75\n",
            "\u001b[32m[I 2021-05-25 20:14:42,277]\u001b[0m Trial 88 finished with value: 1.0943803495214046 and parameters: {'min_data_in_leaf': 50, 'depth': 4, 'learning_rate': 0.10463847684883673, 'random_strength': 93, 'l2_leaf_reg': 1.0703753757114405}. Best is trial 71 with value: 1.085815400126414.\u001b[0m\n"
          ],
          "name": "stderr"
        },
        {
          "output_type": "stream",
          "text": [
            "train.csv: shape = 100000 rows, 52 cols\n"
          ],
          "name": "stdout"
        },
        {
          "output_type": "stream",
          "text": [
            "Warning: less than 75% gpu memory available for training. Free: 9265.75 Total: 15109.75\n",
            "\u001b[32m[I 2021-05-25 20:14:46,248]\u001b[0m Trial 89 finished with value: 1.091610834004211 and parameters: {'min_data_in_leaf': 37, 'depth': 4, 'learning_rate': 0.10816870227650681, 'random_strength': 75, 'l2_leaf_reg': 4.470818400643836}. Best is trial 71 with value: 1.085815400126414.\u001b[0m\n"
          ],
          "name": "stderr"
        },
        {
          "output_type": "stream",
          "text": [
            "train.csv: shape = 100000 rows, 52 cols\n"
          ],
          "name": "stdout"
        },
        {
          "output_type": "stream",
          "text": [
            "Warning: less than 75% gpu memory available for training. Free: 9265.75 Total: 15109.75\n",
            "\u001b[32m[I 2021-05-25 20:14:52,633]\u001b[0m Trial 90 finished with value: 1.0993251958680852 and parameters: {'min_data_in_leaf': 53, 'depth': 6, 'learning_rate': 0.018464620025411174, 'random_strength': 86, 'l2_leaf_reg': 2.02533810734445}. Best is trial 71 with value: 1.085815400126414.\u001b[0m\n"
          ],
          "name": "stderr"
        },
        {
          "output_type": "stream",
          "text": [
            "train.csv: shape = 100000 rows, 52 cols\n"
          ],
          "name": "stdout"
        },
        {
          "output_type": "stream",
          "text": [
            "Warning: less than 75% gpu memory available for training. Free: 9265.75 Total: 15109.75\n",
            "\u001b[32m[I 2021-05-25 20:14:58,821]\u001b[0m Trial 91 finished with value: 1.0909038350333593 and parameters: {'min_data_in_leaf': 41, 'depth': 5, 'learning_rate': 0.022461243188944185, 'random_strength': 72, 'l2_leaf_reg': 1.7470879843985108}. Best is trial 71 with value: 1.085815400126414.\u001b[0m\n"
          ],
          "name": "stderr"
        },
        {
          "output_type": "stream",
          "text": [
            "train.csv: shape = 100000 rows, 52 cols\n"
          ],
          "name": "stdout"
        },
        {
          "output_type": "stream",
          "text": [
            "Warning: less than 75% gpu memory available for training. Free: 9265.75 Total: 15109.75\n",
            "\u001b[32m[I 2021-05-25 20:15:04,591]\u001b[0m Trial 92 finished with value: 1.1053396830474258 and parameters: {'min_data_in_leaf': 43, 'depth': 5, 'learning_rate': 0.013055562744416386, 'random_strength': 69, 'l2_leaf_reg': 8.011220841628457}. Best is trial 71 with value: 1.085815400126414.\u001b[0m\n"
          ],
          "name": "stderr"
        },
        {
          "output_type": "stream",
          "text": [
            "train.csv: shape = 100000 rows, 52 cols\n"
          ],
          "name": "stdout"
        },
        {
          "output_type": "stream",
          "text": [
            "Warning: less than 75% gpu memory available for training. Free: 9265.75 Total: 15109.75\n",
            "\u001b[32m[I 2021-05-25 20:15:10,994]\u001b[0m Trial 93 finished with value: 1.0959840212092649 and parameters: {'min_data_in_leaf': 46, 'depth': 5, 'learning_rate': 0.03539095763911888, 'random_strength': 72, 'l2_leaf_reg': 0.4993260539831106}. Best is trial 71 with value: 1.085815400126414.\u001b[0m\n"
          ],
          "name": "stderr"
        },
        {
          "output_type": "stream",
          "text": [
            "train.csv: shape = 100000 rows, 52 cols\n"
          ],
          "name": "stdout"
        },
        {
          "output_type": "stream",
          "text": [
            "Warning: less than 75% gpu memory available for training. Free: 9265.75 Total: 15109.75\n",
            "\u001b[32m[I 2021-05-25 20:15:17,239]\u001b[0m Trial 94 finished with value: 1.0922203333054845 and parameters: {'min_data_in_leaf': 39, 'depth': 5, 'learning_rate': 0.020661358506009662, 'random_strength': 76, 'l2_leaf_reg': 2.753881007129451}. Best is trial 71 with value: 1.085815400126414.\u001b[0m\n"
          ],
          "name": "stderr"
        },
        {
          "output_type": "stream",
          "text": [
            "train.csv: shape = 100000 rows, 52 cols\n"
          ],
          "name": "stdout"
        },
        {
          "output_type": "stream",
          "text": [
            "Warning: less than 75% gpu memory available for training. Free: 9265.75 Total: 15109.75\n",
            "\u001b[32m[I 2021-05-25 20:15:23,945]\u001b[0m Trial 95 finished with value: 1.0952256583572633 and parameters: {'min_data_in_leaf': 49, 'depth': 6, 'learning_rate': 0.01649811390755066, 'random_strength': 79, 'l2_leaf_reg': 16.621968662835737}. Best is trial 71 with value: 1.085815400126414.\u001b[0m\n"
          ],
          "name": "stderr"
        },
        {
          "output_type": "stream",
          "text": [
            "train.csv: shape = 100000 rows, 52 cols\n"
          ],
          "name": "stdout"
        },
        {
          "output_type": "stream",
          "text": [
            "Warning: less than 75% gpu memory available for training. Free: 9265.75 Total: 15109.75\n",
            "\u001b[32m[I 2021-05-25 20:15:29,208]\u001b[0m Trial 96 finished with value: 1.0938920474055016 and parameters: {'min_data_in_leaf': 34, 'depth': 4, 'learning_rate': 0.026491078225256696, 'random_strength': 83, 'l2_leaf_reg': 0.20897630724209273}. Best is trial 71 with value: 1.085815400126414.\u001b[0m\n"
          ],
          "name": "stderr"
        },
        {
          "output_type": "stream",
          "text": [
            "train.csv: shape = 100000 rows, 52 cols\n"
          ],
          "name": "stdout"
        },
        {
          "output_type": "stream",
          "text": [
            "Warning: less than 75% gpu memory available for training. Free: 9265.75 Total: 15109.75\n",
            "\u001b[32m[I 2021-05-25 20:15:35,698]\u001b[0m Trial 97 finished with value: 1.0940918569206988 and parameters: {'min_data_in_leaf': 29, 'depth': 5, 'learning_rate': 0.031293034867445446, 'random_strength': 68, 'l2_leaf_reg': 0.9127224172194199}. Best is trial 71 with value: 1.085815400126414.\u001b[0m\n"
          ],
          "name": "stderr"
        },
        {
          "output_type": "stream",
          "text": [
            "train.csv: shape = 100000 rows, 52 cols\n"
          ],
          "name": "stdout"
        },
        {
          "output_type": "stream",
          "text": [
            "Warning: less than 75% gpu memory available for training. Free: 9265.75 Total: 15109.75\n",
            "\u001b[32m[I 2021-05-25 20:15:40,633]\u001b[0m Trial 98 finished with value: 1.0914719192017377 and parameters: {'min_data_in_leaf': 40, 'depth': 4, 'learning_rate': 0.08498057231413021, 'random_strength': 1, 'l2_leaf_reg': 5.044462866108157}. Best is trial 71 with value: 1.085815400126414.\u001b[0m\n"
          ],
          "name": "stderr"
        },
        {
          "output_type": "stream",
          "text": [
            "train.csv: shape = 100000 rows, 52 cols\n"
          ],
          "name": "stdout"
        },
        {
          "output_type": "stream",
          "text": [
            "Warning: less than 75% gpu memory available for training. Free: 9265.75 Total: 15109.75\n",
            "\u001b[32m[I 2021-05-25 20:15:45,883]\u001b[0m Trial 99 finished with value: 1.0881271305456548 and parameters: {'min_data_in_leaf': 56, 'depth': 5, 'learning_rate': 0.06206412568952399, 'random_strength': 64, 'l2_leaf_reg': 0.0005818823050644166}. Best is trial 71 with value: 1.085815400126414.\u001b[0m\n"
          ],
          "name": "stderr"
        },
        {
          "output_type": "stream",
          "text": [
            "train.csv: shape = 100000 rows, 52 cols\n"
          ],
          "name": "stdout"
        },
        {
          "output_type": "stream",
          "text": [
            "Warning: less than 75% gpu memory available for training. Free: 9265.75 Total: 15109.75\n",
            "\u001b[32m[I 2021-05-25 20:15:50,840]\u001b[0m Trial 100 finished with value: 1.0963674059895554 and parameters: {'min_data_in_leaf': 67, 'depth': 3, 'learning_rate': 0.0682530801266307, 'random_strength': 57, 'l2_leaf_reg': 0.0003657178750560515}. Best is trial 71 with value: 1.085815400126414.\u001b[0m\n"
          ],
          "name": "stderr"
        },
        {
          "output_type": "stream",
          "text": [
            "train.csv: shape = 100000 rows, 52 cols\n"
          ],
          "name": "stdout"
        },
        {
          "output_type": "stream",
          "text": [
            "Warning: less than 75% gpu memory available for training. Free: 9265.75 Total: 15109.75\n",
            "\u001b[32m[I 2021-05-25 20:15:56,082]\u001b[0m Trial 101 finished with value: 1.087810101532721 and parameters: {'min_data_in_leaf': 42, 'depth': 5, 'learning_rate': 0.06289041055953823, 'random_strength': 65, 'l2_leaf_reg': 0.0005788197793181886}. Best is trial 71 with value: 1.085815400126414.\u001b[0m\n"
          ],
          "name": "stderr"
        },
        {
          "output_type": "stream",
          "text": [
            "train.csv: shape = 100000 rows, 52 cols\n"
          ],
          "name": "stdout"
        },
        {
          "output_type": "stream",
          "text": [
            "Warning: less than 75% gpu memory available for training. Free: 9265.75 Total: 15109.75\n",
            "\u001b[32m[I 2021-05-25 20:16:00,438]\u001b[0m Trial 102 finished with value: 1.0970001265711606 and parameters: {'min_data_in_leaf': 45, 'depth': 5, 'learning_rate': 0.06367350315501542, 'random_strength': 61, 'l2_leaf_reg': 0.00012759443602834142}. Best is trial 71 with value: 1.085815400126414.\u001b[0m\n"
          ],
          "name": "stderr"
        },
        {
          "output_type": "stream",
          "text": [
            "train.csv: shape = 100000 rows, 52 cols\n"
          ],
          "name": "stdout"
        },
        {
          "output_type": "stream",
          "text": [
            "Warning: less than 75% gpu memory available for training. Free: 9265.75 Total: 15109.75\n",
            "\u001b[32m[I 2021-05-25 20:16:04,746]\u001b[0m Trial 103 finished with value: 1.0941351705221842 and parameters: {'min_data_in_leaf': 43, 'depth': 5, 'learning_rate': 0.07280061128717341, 'random_strength': 67, 'l2_leaf_reg': 0.0007062968331914221}. Best is trial 71 with value: 1.085815400126414.\u001b[0m\n"
          ],
          "name": "stderr"
        },
        {
          "output_type": "stream",
          "text": [
            "train.csv: shape = 100000 rows, 52 cols\n"
          ],
          "name": "stdout"
        },
        {
          "output_type": "stream",
          "text": [
            "Warning: less than 75% gpu memory available for training. Free: 9265.75 Total: 15109.75\n",
            "\u001b[32m[I 2021-05-25 20:16:09,954]\u001b[0m Trial 104 finished with value: 1.0968565045271266 and parameters: {'min_data_in_leaf': 56, 'depth': 5, 'learning_rate': 0.061362047110361084, 'random_strength': 63, 'l2_leaf_reg': 5.353185983591124e-05}. Best is trial 71 with value: 1.085815400126414.\u001b[0m\n"
          ],
          "name": "stderr"
        },
        {
          "output_type": "stream",
          "text": [
            "train.csv: shape = 100000 rows, 52 cols\n"
          ],
          "name": "stdout"
        },
        {
          "output_type": "stream",
          "text": [
            "Warning: less than 75% gpu memory available for training. Free: 9265.75 Total: 15109.75\n",
            "\u001b[32m[I 2021-05-25 20:16:14,769]\u001b[0m Trial 105 finished with value: 1.0917474665799758 and parameters: {'min_data_in_leaf': 61, 'depth': 6, 'learning_rate': 0.05882061585419245, 'random_strength': 74, 'l2_leaf_reg': 0.00020782700997358001}. Best is trial 71 with value: 1.085815400126414.\u001b[0m\n"
          ],
          "name": "stderr"
        },
        {
          "output_type": "stream",
          "text": [
            "train.csv: shape = 100000 rows, 52 cols\n"
          ],
          "name": "stdout"
        },
        {
          "output_type": "stream",
          "text": [
            "Warning: less than 75% gpu memory available for training. Free: 9265.75 Total: 15109.75\n",
            "\u001b[32m[I 2021-05-25 20:16:20,353]\u001b[0m Trial 106 finished with value: 1.0957574441161775 and parameters: {'min_data_in_leaf': 71, 'depth': 4, 'learning_rate': 0.0531942897206421, 'random_strength': 70, 'l2_leaf_reg': 0.0019731253844117507}. Best is trial 71 with value: 1.085815400126414.\u001b[0m\n"
          ],
          "name": "stderr"
        },
        {
          "output_type": "stream",
          "text": [
            "train.csv: shape = 100000 rows, 52 cols\n"
          ],
          "name": "stdout"
        },
        {
          "output_type": "stream",
          "text": [
            "Warning: less than 75% gpu memory available for training. Free: 9265.75 Total: 15109.75\n",
            "\u001b[32m[I 2021-05-25 20:16:27,110]\u001b[0m Trial 107 finished with value: 1.0916225839707163 and parameters: {'min_data_in_leaf': 37, 'depth': 5, 'learning_rate': 0.04637642173661336, 'random_strength': 80, 'l2_leaf_reg': 10.372122885941156}. Best is trial 71 with value: 1.085815400126414.\u001b[0m\n"
          ],
          "name": "stderr"
        },
        {
          "output_type": "stream",
          "text": [
            "train.csv: shape = 100000 rows, 52 cols\n"
          ],
          "name": "stdout"
        },
        {
          "output_type": "stream",
          "text": [
            "Warning: less than 75% gpu memory available for training. Free: 9265.75 Total: 15109.75\n",
            "\u001b[32m[I 2021-05-25 20:16:31,138]\u001b[0m Trial 108 finished with value: 1.0957986233573647 and parameters: {'min_data_in_leaf': 93, 'depth': 5, 'learning_rate': 0.07759334364943074, 'random_strength': 52, 'l2_leaf_reg': 0.0007050725905880832}. Best is trial 71 with value: 1.085815400126414.\u001b[0m\n"
          ],
          "name": "stderr"
        },
        {
          "output_type": "stream",
          "text": [
            "train.csv: shape = 100000 rows, 52 cols\n"
          ],
          "name": "stdout"
        },
        {
          "output_type": "stream",
          "text": [
            "Warning: less than 75% gpu memory available for training. Free: 9265.75 Total: 15109.75\n",
            "\u001b[32m[I 2021-05-25 20:16:32,356]\u001b[0m Trial 109 finished with value: 1.339598173194566 and parameters: {'min_data_in_leaf': 46, 'depth': 4, 'learning_rate': 0.0805525814605741, 'random_strength': 65, 'l2_leaf_reg': 7.81065446342873e-05}. Best is trial 71 with value: 1.085815400126414.\u001b[0m\n"
          ],
          "name": "stderr"
        },
        {
          "output_type": "stream",
          "text": [
            "train.csv: shape = 100000 rows, 52 cols\n"
          ],
          "name": "stdout"
        },
        {
          "output_type": "stream",
          "text": [
            "Warning: less than 75% gpu memory available for training. Free: 9265.75 Total: 15109.75\n",
            "\u001b[32m[I 2021-05-25 20:16:37,403]\u001b[0m Trial 110 finished with value: 1.0868052071074006 and parameters: {'min_data_in_leaf': 74, 'depth': 4, 'learning_rate': 0.07167721344043389, 'random_strength': 76, 'l2_leaf_reg': 0.00027965608840102986}. Best is trial 71 with value: 1.085815400126414.\u001b[0m\n"
          ],
          "name": "stderr"
        },
        {
          "output_type": "stream",
          "text": [
            "train.csv: shape = 100000 rows, 52 cols\n"
          ],
          "name": "stdout"
        },
        {
          "output_type": "stream",
          "text": [
            "Warning: less than 75% gpu memory available for training. Free: 9265.75 Total: 15109.75\n",
            "\u001b[32m[I 2021-05-25 20:16:42,188]\u001b[0m Trial 111 finished with value: 1.098530668863811 and parameters: {'min_data_in_leaf': 76, 'depth': 4, 'learning_rate': 0.06528958750178221, 'random_strength': 78, 'l2_leaf_reg': 0.00039237840131594296}. Best is trial 71 with value: 1.085815400126414.\u001b[0m\n"
          ],
          "name": "stderr"
        },
        {
          "output_type": "stream",
          "text": [
            "train.csv: shape = 100000 rows, 52 cols\n"
          ],
          "name": "stdout"
        },
        {
          "output_type": "stream",
          "text": [
            "Warning: less than 75% gpu memory available for training. Free: 9265.75 Total: 15109.75\n",
            "\u001b[32m[I 2021-05-25 20:16:46,836]\u001b[0m Trial 112 finished with value: 1.0953331650159943 and parameters: {'min_data_in_leaf': 79, 'depth': 4, 'learning_rate': 0.0705899991886763, 'random_strength': 74, 'l2_leaf_reg': 0.00022121994914300086}. Best is trial 71 with value: 1.085815400126414.\u001b[0m\n"
          ],
          "name": "stderr"
        },
        {
          "output_type": "stream",
          "text": [
            "train.csv: shape = 100000 rows, 52 cols\n"
          ],
          "name": "stdout"
        },
        {
          "output_type": "stream",
          "text": [
            "Warning: less than 75% gpu memory available for training. Free: 9265.75 Total: 15109.75\n",
            "\u001b[32m[I 2021-05-25 20:16:51,380]\u001b[0m Trial 113 finished with value: 1.0943410161819827 and parameters: {'min_data_in_leaf': 79, 'depth': 4, 'learning_rate': 0.06374847843160045, 'random_strength': 76, 'l2_leaf_reg': 0.0006588800784618913}. Best is trial 71 with value: 1.085815400126414.\u001b[0m\n"
          ],
          "name": "stderr"
        },
        {
          "output_type": "stream",
          "text": [
            "train.csv: shape = 100000 rows, 52 cols\n"
          ],
          "name": "stdout"
        },
        {
          "output_type": "stream",
          "text": [
            "Warning: less than 75% gpu memory available for training. Free: 9265.75 Total: 15109.75\n",
            "\u001b[32m[I 2021-05-25 20:16:52,598]\u001b[0m Trial 114 finished with value: 1.2779946755393423 and parameters: {'min_data_in_leaf': 75, 'depth': 4, 'learning_rate': 0.0743931279799813, 'random_strength': 71, 'l2_leaf_reg': 2.0569845811055095e-05}. Best is trial 71 with value: 1.085815400126414.\u001b[0m\n"
          ],
          "name": "stderr"
        },
        {
          "output_type": "stream",
          "text": [
            "train.csv: shape = 100000 rows, 52 cols\n"
          ],
          "name": "stdout"
        },
        {
          "output_type": "stream",
          "text": [
            "Warning: less than 75% gpu memory available for training. Free: 9265.75 Total: 15109.75\n",
            "\u001b[32m[I 2021-05-25 20:16:57,366]\u001b[0m Trial 115 finished with value: 1.0949878043155232 and parameters: {'min_data_in_leaf': 74, 'depth': 4, 'learning_rate': 0.06741102778301719, 'random_strength': 59, 'l2_leaf_reg': 0.0018038319222565236}. Best is trial 71 with value: 1.085815400126414.\u001b[0m\n"
          ],
          "name": "stderr"
        },
        {
          "output_type": "stream",
          "text": [
            "train.csv: shape = 100000 rows, 52 cols\n"
          ],
          "name": "stdout"
        },
        {
          "output_type": "stream",
          "text": [
            "Warning: less than 75% gpu memory available for training. Free: 9265.75 Total: 15109.75\n",
            "\u001b[32m[I 2021-05-25 20:16:58,480]\u001b[0m Trial 116 finished with value: 1.3535184076302922 and parameters: {'min_data_in_leaf': 51, 'depth': 3, 'learning_rate': 0.05600259830641588, 'random_strength': 67, 'l2_leaf_reg': 5.15833731272787e-05}. Best is trial 71 with value: 1.085815400126414.\u001b[0m\n"
          ],
          "name": "stderr"
        },
        {
          "output_type": "stream",
          "text": [
            "train.csv: shape = 100000 rows, 52 cols\n"
          ],
          "name": "stdout"
        },
        {
          "output_type": "stream",
          "text": [
            "Warning: less than 75% gpu memory available for training. Free: 9265.75 Total: 15109.75\n",
            "\u001b[32m[I 2021-05-25 20:17:02,934]\u001b[0m Trial 117 finished with value: 1.0920244228048288 and parameters: {'min_data_in_leaf': 42, 'depth': 6, 'learning_rate': 0.061936990501191246, 'random_strength': 86, 'l2_leaf_reg': 0.0012277423066983405}. Best is trial 71 with value: 1.085815400126414.\u001b[0m\n"
          ],
          "name": "stderr"
        },
        {
          "output_type": "stream",
          "text": [
            "train.csv: shape = 100000 rows, 52 cols\n"
          ],
          "name": "stdout"
        },
        {
          "output_type": "stream",
          "text": [
            "Warning: less than 75% gpu memory available for training. Free: 9265.75 Total: 15109.75\n",
            "\u001b[32m[I 2021-05-25 20:17:08,362]\u001b[0m Trial 118 finished with value: 1.0883840283241315 and parameters: {'min_data_in_leaf': 49, 'depth': 4, 'learning_rate': 0.04378117649773524, 'random_strength': 81, 'l2_leaf_reg': 0.0002501690063546472}. Best is trial 71 with value: 1.085815400126414.\u001b[0m\n"
          ],
          "name": "stderr"
        },
        {
          "output_type": "stream",
          "text": [
            "train.csv: shape = 100000 rows, 52 cols\n"
          ],
          "name": "stdout"
        },
        {
          "output_type": "stream",
          "text": [
            "Warning: less than 75% gpu memory available for training. Free: 9265.75 Total: 15109.75\n",
            "\u001b[32m[I 2021-05-25 20:17:15,148]\u001b[0m Trial 119 finished with value: 1.093278624082187 and parameters: {'min_data_in_leaf': 54, 'depth': 5, 'learning_rate': 0.04204059279674974, 'random_strength': 83, 'l2_leaf_reg': 0.00048322061986977923}. Best is trial 71 with value: 1.085815400126414.\u001b[0m\n"
          ],
          "name": "stderr"
        },
        {
          "output_type": "stream",
          "text": [
            "train.csv: shape = 100000 rows, 52 cols\n"
          ],
          "name": "stdout"
        },
        {
          "output_type": "stream",
          "text": [
            "Warning: less than 75% gpu memory available for training. Free: 9265.75 Total: 15109.75\n",
            "\u001b[32m[I 2021-05-25 20:17:20,743]\u001b[0m Trial 120 finished with value: 1.0916459995877323 and parameters: {'min_data_in_leaf': 82, 'depth': 4, 'learning_rate': 0.05089286057250381, 'random_strength': 81, 'l2_leaf_reg': 0.000231112436499772}. Best is trial 71 with value: 1.085815400126414.\u001b[0m\n"
          ],
          "name": "stderr"
        },
        {
          "output_type": "stream",
          "text": [
            "train.csv: shape = 100000 rows, 52 cols\n"
          ],
          "name": "stdout"
        },
        {
          "output_type": "stream",
          "text": [
            "Warning: less than 75% gpu memory available for training. Free: 9265.75 Total: 15109.75\n",
            "\u001b[32m[I 2021-05-25 20:17:21,981]\u001b[0m Trial 121 finished with value: 1.344824214349678 and parameters: {'min_data_in_leaf': 48, 'depth': 4, 'learning_rate': 0.036810265206777146, 'random_strength': 77, 'l2_leaf_reg': 3.939946217652258e-05}. Best is trial 71 with value: 1.085815400126414.\u001b[0m\n"
          ],
          "name": "stderr"
        },
        {
          "output_type": "stream",
          "text": [
            "train.csv: shape = 100000 rows, 52 cols\n"
          ],
          "name": "stdout"
        },
        {
          "output_type": "stream",
          "text": [
            "Warning: less than 75% gpu memory available for training. Free: 9265.75 Total: 15109.75\n",
            "\u001b[32m[I 2021-05-25 20:17:23,200]\u001b[0m Trial 122 finished with value: 1.3576199109543132 and parameters: {'min_data_in_leaf': 45, 'depth': 4, 'learning_rate': 0.048254286512146666, 'random_strength': 73, 'l2_leaf_reg': 0.00015494357933893536}. Best is trial 71 with value: 1.085815400126414.\u001b[0m\n"
          ],
          "name": "stderr"
        },
        {
          "output_type": "stream",
          "text": [
            "train.csv: shape = 100000 rows, 52 cols\n"
          ],
          "name": "stdout"
        },
        {
          "output_type": "stream",
          "text": [
            "Warning: less than 75% gpu memory available for training. Free: 9265.75 Total: 15109.75\n",
            "\u001b[32m[I 2021-05-25 20:17:24,407]\u001b[0m Trial 123 finished with value: 1.368933826105342 and parameters: {'min_data_in_leaf': 49, 'depth': 4, 'learning_rate': 0.029161807088689488, 'random_strength': 98, 'l2_leaf_reg': 2.9440029789773278e-05}. Best is trial 71 with value: 1.085815400126414.\u001b[0m\n"
          ],
          "name": "stderr"
        },
        {
          "output_type": "stream",
          "text": [
            "train.csv: shape = 100000 rows, 52 cols\n"
          ],
          "name": "stdout"
        },
        {
          "output_type": "stream",
          "text": [
            "Warning: less than 75% gpu memory available for training. Free: 9265.75 Total: 15109.75\n",
            "\u001b[32m[I 2021-05-25 20:17:30,340]\u001b[0m Trial 124 finished with value: 1.0903592267043676 and parameters: {'min_data_in_leaf': 52, 'depth': 4, 'learning_rate': 0.04338331747128379, 'random_strength': 9, 'l2_leaf_reg': 3.7678946011597247}. Best is trial 71 with value: 1.085815400126414.\u001b[0m\n"
          ],
          "name": "stderr"
        },
        {
          "output_type": "stream",
          "text": [
            "train.csv: shape = 100000 rows, 52 cols\n"
          ],
          "name": "stdout"
        },
        {
          "output_type": "stream",
          "text": [
            "Warning: less than 75% gpu memory available for training. Free: 9265.75 Total: 15109.75\n",
            "\u001b[32m[I 2021-05-25 20:17:31,602]\u001b[0m Trial 125 finished with value: 1.2268306237961406 and parameters: {'min_data_in_leaf': 47, 'depth': 4, 'learning_rate': 0.12988066603122203, 'random_strength': 88, 'l2_leaf_reg': 0.00011109974921444808}. Best is trial 71 with value: 1.085815400126414.\u001b[0m\n"
          ],
          "name": "stderr"
        },
        {
          "output_type": "stream",
          "text": [
            "train.csv: shape = 100000 rows, 52 cols\n"
          ],
          "name": "stdout"
        },
        {
          "output_type": "stream",
          "text": [
            "Warning: less than 75% gpu memory available for training. Free: 9265.75 Total: 15109.75\n",
            "\u001b[32m[I 2021-05-25 20:17:35,098]\u001b[0m Trial 126 finished with value: 1.0925971909418013 and parameters: {'min_data_in_leaf': 45, 'depth': 7, 'learning_rate': 0.12641813524113574, 'random_strength': 69, 'l2_leaf_reg': 1.3260416869613578}. Best is trial 71 with value: 1.085815400126414.\u001b[0m\n"
          ],
          "name": "stderr"
        },
        {
          "output_type": "stream",
          "text": [
            "train.csv: shape = 100000 rows, 52 cols\n"
          ],
          "name": "stdout"
        },
        {
          "output_type": "stream",
          "text": [
            "Warning: less than 75% gpu memory available for training. Free: 9265.75 Total: 15109.75\n",
            "\u001b[32m[I 2021-05-25 20:17:39,793]\u001b[0m Trial 127 finished with value: 1.098185042939332 and parameters: {'min_data_in_leaf': 69, 'depth': 5, 'learning_rate': 0.08816677135387892, 'random_strength': 65, 'l2_leaf_reg': 43.065946134716995}. Best is trial 71 with value: 1.085815400126414.\u001b[0m\n"
          ],
          "name": "stderr"
        },
        {
          "output_type": "stream",
          "text": [
            "train.csv: shape = 100000 rows, 52 cols\n"
          ],
          "name": "stdout"
        },
        {
          "output_type": "stream",
          "text": [
            "Warning: less than 75% gpu memory available for training. Free: 9265.75 Total: 15109.75\n",
            "\u001b[32m[I 2021-05-25 20:17:45,559]\u001b[0m Trial 128 finished with value: 1.0970039982478146 and parameters: {'min_data_in_leaf': 72, 'depth': 4, 'learning_rate': 0.03943190598465972, 'random_strength': 80, 'l2_leaf_reg': 0.0032265513439438394}. Best is trial 71 with value: 1.085815400126414.\u001b[0m\n"
          ],
          "name": "stderr"
        },
        {
          "output_type": "stream",
          "text": [
            "train.csv: shape = 100000 rows, 52 cols\n"
          ],
          "name": "stdout"
        },
        {
          "output_type": "stream",
          "text": [
            "Warning: less than 75% gpu memory available for training. Free: 9265.75 Total: 15109.75\n",
            "\u001b[32m[I 2021-05-25 20:17:51,110]\u001b[0m Trial 129 finished with value: 1.09793928215759 and parameters: {'min_data_in_leaf': 39, 'depth': 4, 'learning_rate': 0.05974093549637181, 'random_strength': 75, 'l2_leaf_reg': 6.9947373037583045}. Best is trial 71 with value: 1.085815400126414.\u001b[0m\n"
          ],
          "name": "stderr"
        },
        {
          "output_type": "stream",
          "text": [
            "train.csv: shape = 100000 rows, 52 cols\n"
          ],
          "name": "stdout"
        },
        {
          "output_type": "stream",
          "text": [
            "Warning: less than 75% gpu memory available for training. Free: 9265.75 Total: 15109.75\n",
            "\u001b[32m[I 2021-05-25 20:17:55,513]\u001b[0m Trial 130 finished with value: 1.0956198494845795 and parameters: {'min_data_in_leaf': 66, 'depth': 5, 'learning_rate': 0.08246006758953621, 'random_strength': 71, 'l2_leaf_reg': 0.36417064282469175}. Best is trial 71 with value: 1.085815400126414.\u001b[0m\n"
          ],
          "name": "stderr"
        },
        {
          "output_type": "stream",
          "text": [
            "train.csv: shape = 100000 rows, 52 cols\n"
          ],
          "name": "stdout"
        },
        {
          "output_type": "stream",
          "text": [
            "Warning: less than 75% gpu memory available for training. Free: 9265.75 Total: 15109.75\n",
            "\u001b[32m[I 2021-05-25 20:18:00,890]\u001b[0m Trial 131 finished with value: 1.1053900487988433 and parameters: {'min_data_in_leaf': 42, 'depth': 5, 'learning_rate': 0.010899287850710856, 'random_strength': 72, 'l2_leaf_reg': 1.7601557540588808}. Best is trial 71 with value: 1.085815400126414.\u001b[0m\n"
          ],
          "name": "stderr"
        },
        {
          "output_type": "stream",
          "text": [
            "train.csv: shape = 100000 rows, 52 cols\n"
          ],
          "name": "stdout"
        },
        {
          "output_type": "stream",
          "text": [
            "Warning: less than 75% gpu memory available for training. Free: 9265.75 Total: 15109.75\n",
            "\u001b[32m[I 2021-05-25 20:18:06,973]\u001b[0m Trial 132 finished with value: 1.0947611860734456 and parameters: {'min_data_in_leaf': 41, 'depth': 5, 'learning_rate': 0.02129232590102709, 'random_strength': 78, 'l2_leaf_reg': 2.206288959751444}. Best is trial 71 with value: 1.085815400126414.\u001b[0m\n"
          ],
          "name": "stderr"
        },
        {
          "output_type": "stream",
          "text": [
            "train.csv: shape = 100000 rows, 52 cols\n"
          ],
          "name": "stdout"
        },
        {
          "output_type": "stream",
          "text": [
            "Warning: less than 75% gpu memory available for training. Free: 9265.75 Total: 15109.75\n",
            "\u001b[32m[I 2021-05-25 20:18:12,994]\u001b[0m Trial 133 finished with value: 1.094178171759654 and parameters: {'min_data_in_leaf': 36, 'depth': 5, 'learning_rate': 0.023636079776076274, 'random_strength': 85, 'l2_leaf_reg': 0.8822119446722704}. Best is trial 71 with value: 1.085815400126414.\u001b[0m\n"
          ],
          "name": "stderr"
        },
        {
          "output_type": "stream",
          "text": [
            "train.csv: shape = 100000 rows, 52 cols\n"
          ],
          "name": "stdout"
        },
        {
          "output_type": "stream",
          "text": [
            "Warning: less than 75% gpu memory available for training. Free: 9265.75 Total: 15109.75\n",
            "\u001b[32m[I 2021-05-25 20:18:19,447]\u001b[0m Trial 134 finished with value: 1.096307552433665 and parameters: {'min_data_in_leaf': 44, 'depth': 5, 'learning_rate': 0.02847974299872537, 'random_strength': 94, 'l2_leaf_reg': 3.232344340094915}. Best is trial 71 with value: 1.085815400126414.\u001b[0m\n"
          ],
          "name": "stderr"
        },
        {
          "output_type": "stream",
          "text": [
            "train.csv: shape = 100000 rows, 52 cols\n"
          ],
          "name": "stdout"
        },
        {
          "output_type": "stream",
          "text": [
            "Warning: less than 75% gpu memory available for training. Free: 9265.75 Total: 15109.75\n",
            "\u001b[32m[I 2021-05-25 20:18:25,195]\u001b[0m Trial 135 finished with value: 1.0979648741001429 and parameters: {'min_data_in_leaf': 39, 'depth': 5, 'learning_rate': 0.09569152375592074, 'random_strength': 68, 'l2_leaf_reg': 23.974691744545613}. Best is trial 71 with value: 1.085815400126414.\u001b[0m\n"
          ],
          "name": "stderr"
        },
        {
          "output_type": "stream",
          "text": [
            "train.csv: shape = 100000 rows, 52 cols\n"
          ],
          "name": "stdout"
        },
        {
          "output_type": "stream",
          "text": [
            "Warning: less than 75% gpu memory available for training. Free: 9265.75 Total: 15109.75\n",
            "\u001b[32m[I 2021-05-25 20:18:30,869]\u001b[0m Trial 136 finished with value: 1.0962936939671732 and parameters: {'min_data_in_leaf': 47, 'depth': 6, 'learning_rate': 0.06920054352094106, 'random_strength': 43, 'l2_leaf_reg': 5.810828377558208}. Best is trial 71 with value: 1.085815400126414.\u001b[0m\n"
          ],
          "name": "stderr"
        },
        {
          "output_type": "stream",
          "text": [
            "train.csv: shape = 100000 rows, 52 cols\n"
          ],
          "name": "stdout"
        },
        {
          "output_type": "stream",
          "text": [
            "Warning: less than 75% gpu memory available for training. Free: 9265.75 Total: 15109.75\n",
            "\u001b[32m[I 2021-05-25 20:18:36,303]\u001b[0m Trial 137 finished with value: 1.0972376085519622 and parameters: {'min_data_in_leaf': 50, 'depth': 4, 'learning_rate': 0.032941711977609055, 'random_strength': 76, 'l2_leaf_reg': 0.0005185088237659192}. Best is trial 71 with value: 1.085815400126414.\u001b[0m\n"
          ],
          "name": "stderr"
        },
        {
          "output_type": "stream",
          "text": [
            "train.csv: shape = 100000 rows, 52 cols\n"
          ],
          "name": "stdout"
        },
        {
          "output_type": "stream",
          "text": [
            "Warning: less than 75% gpu memory available for training. Free: 9265.75 Total: 15109.75\n",
            "\u001b[32m[I 2021-05-25 20:18:42,683]\u001b[0m Trial 138 finished with value: 1.092417259877358 and parameters: {'min_data_in_leaf': 42, 'depth': 5, 'learning_rate': 0.05476820847878669, 'random_strength': 61, 'l2_leaf_reg': 0.7557025003196809}. Best is trial 71 with value: 1.085815400126414.\u001b[0m\n"
          ],
          "name": "stderr"
        },
        {
          "output_type": "stream",
          "text": [
            "train.csv: shape = 100000 rows, 52 cols\n"
          ],
          "name": "stdout"
        },
        {
          "output_type": "stream",
          "text": [
            "Warning: less than 75% gpu memory available for training. Free: 9265.75 Total: 15109.75\n",
            "\u001b[32m[I 2021-05-25 20:18:47,411]\u001b[0m Trial 139 finished with value: 1.0911198407488274 and parameters: {'min_data_in_leaf': 62, 'depth': 3, 'learning_rate': 0.0775506654643927, 'random_strength': 73, 'l2_leaf_reg': 13.639790096000116}. Best is trial 71 with value: 1.085815400126414.\u001b[0m\n"
          ],
          "name": "stderr"
        },
        {
          "output_type": "stream",
          "text": [
            "train.csv: shape = 100000 rows, 52 cols\n"
          ],
          "name": "stdout"
        },
        {
          "output_type": "stream",
          "text": [
            "Warning: less than 75% gpu memory available for training. Free: 9265.75 Total: 15109.75\n",
            "\u001b[32m[I 2021-05-25 20:18:51,883]\u001b[0m Trial 140 finished with value: 1.0886253447676029 and parameters: {'min_data_in_leaf': 44, 'depth': 5, 'learning_rate': 0.07175348801715174, 'random_strength': 64, 'l2_leaf_reg': 0.0002922122904403586}. Best is trial 71 with value: 1.085815400126414.\u001b[0m\n"
          ],
          "name": "stderr"
        },
        {
          "output_type": "stream",
          "text": [
            "train.csv: shape = 100000 rows, 52 cols\n"
          ],
          "name": "stdout"
        },
        {
          "output_type": "stream",
          "text": [
            "Warning: less than 75% gpu memory available for training. Free: 9265.75 Total: 15109.75\n",
            "\u001b[32m[I 2021-05-25 20:18:56,744]\u001b[0m Trial 141 finished with value: 1.094332267712891 and parameters: {'min_data_in_leaf': 44, 'depth': 5, 'learning_rate': 0.07144744202257229, 'random_strength': 63, 'l2_leaf_reg': 0.0012153095073154066}. Best is trial 71 with value: 1.085815400126414.\u001b[0m\n"
          ],
          "name": "stderr"
        },
        {
          "output_type": "stream",
          "text": [
            "train.csv: shape = 100000 rows, 52 cols\n"
          ],
          "name": "stdout"
        },
        {
          "output_type": "stream",
          "text": [
            "Warning: less than 75% gpu memory available for training. Free: 9265.75 Total: 15109.75\n",
            "\u001b[32m[I 2021-05-25 20:19:00,640]\u001b[0m Trial 142 finished with value: 1.0944016421352016 and parameters: {'min_data_in_leaf': 86, 'depth': 5, 'learning_rate': 0.07557885884736826, 'random_strength': 64, 'l2_leaf_reg': 0.00026242148560125884}. Best is trial 71 with value: 1.085815400126414.\u001b[0m\n"
          ],
          "name": "stderr"
        },
        {
          "output_type": "stream",
          "text": [
            "train.csv: shape = 100000 rows, 52 cols\n"
          ],
          "name": "stdout"
        },
        {
          "output_type": "stream",
          "text": [
            "Warning: less than 75% gpu memory available for training. Free: 9265.75 Total: 15109.75\n",
            "\u001b[32m[I 2021-05-25 20:19:05,510]\u001b[0m Trial 143 finished with value: 1.0968434353588759 and parameters: {'min_data_in_leaf': 40, 'depth': 5, 'learning_rate': 0.065879501204713, 'random_strength': 67, 'l2_leaf_reg': 0.0001053747450875934}. Best is trial 71 with value: 1.085815400126414.\u001b[0m\n"
          ],
          "name": "stderr"
        },
        {
          "output_type": "stream",
          "text": [
            "train.csv: shape = 100000 rows, 52 cols\n"
          ],
          "name": "stdout"
        },
        {
          "output_type": "stream",
          "text": [
            "Warning: less than 75% gpu memory available for training. Free: 9265.75 Total: 15109.75\n",
            "\u001b[32m[I 2021-05-25 20:19:11,545]\u001b[0m Trial 144 finished with value: 1.0950806566400613 and parameters: {'min_data_in_leaf': 46, 'depth': 5, 'learning_rate': 0.044770534140768085, 'random_strength': 82, 'l2_leaf_reg': 0.0003047543710502623}. Best is trial 71 with value: 1.085815400126414.\u001b[0m\n"
          ],
          "name": "stderr"
        },
        {
          "output_type": "stream",
          "text": [
            "train.csv: shape = 100000 rows, 52 cols\n"
          ],
          "name": "stdout"
        },
        {
          "output_type": "stream",
          "text": [
            "Warning: less than 75% gpu memory available for training. Free: 9265.75 Total: 15109.75\n",
            "\u001b[32m[I 2021-05-25 20:19:16,671]\u001b[0m Trial 145 finished with value: 1.0876127951654182 and parameters: {'min_data_in_leaf': 49, 'depth': 4, 'learning_rate': 0.0729207064984981, 'random_strength': 70, 'l2_leaf_reg': 0.000174075549524529}. Best is trial 71 with value: 1.085815400126414.\u001b[0m\n"
          ],
          "name": "stderr"
        },
        {
          "output_type": "stream",
          "text": [
            "train.csv: shape = 100000 rows, 52 cols\n"
          ],
          "name": "stdout"
        },
        {
          "output_type": "stream",
          "text": [
            "Warning: less than 75% gpu memory available for training. Free: 9265.75 Total: 15109.75\n",
            "\u001b[32m[I 2021-05-25 20:19:21,063]\u001b[0m Trial 146 finished with value: 1.0973944818992203 and parameters: {'min_data_in_leaf': 48, 'depth': 4, 'learning_rate': 0.0732027419117292, 'random_strength': 61, 'l2_leaf_reg': 0.0009341611420668118}. Best is trial 71 with value: 1.085815400126414.\u001b[0m\n"
          ],
          "name": "stderr"
        },
        {
          "output_type": "stream",
          "text": [
            "train.csv: shape = 100000 rows, 52 cols\n"
          ],
          "name": "stdout"
        },
        {
          "output_type": "stream",
          "text": [
            "Warning: less than 75% gpu memory available for training. Free: 9265.75 Total: 15109.75\n",
            "\u001b[32m[I 2021-05-25 20:19:26,329]\u001b[0m Trial 147 finished with value: 1.0916033337241229 and parameters: {'min_data_in_leaf': 51, 'depth': 4, 'learning_rate': 0.06854090362690525, 'random_strength': 79, 'l2_leaf_reg': 0.00019584855564888206}. Best is trial 71 with value: 1.085815400126414.\u001b[0m\n"
          ],
          "name": "stderr"
        },
        {
          "output_type": "stream",
          "text": [
            "train.csv: shape = 100000 rows, 52 cols\n"
          ],
          "name": "stdout"
        },
        {
          "output_type": "stream",
          "text": [
            "Warning: less than 75% gpu memory available for training. Free: 9265.75 Total: 15109.75\n",
            "\u001b[32m[I 2021-05-25 20:19:32,100]\u001b[0m Trial 148 finished with value: 1.0905750727512733 and parameters: {'min_data_in_leaf': 54, 'depth': 4, 'learning_rate': 0.05744808904006431, 'random_strength': 70, 'l2_leaf_reg': 7.878501911013809e-05}. Best is trial 71 with value: 1.085815400126414.\u001b[0m\n"
          ],
          "name": "stderr"
        },
        {
          "output_type": "stream",
          "text": [
            "train.csv: shape = 100000 rows, 52 cols\n"
          ],
          "name": "stdout"
        },
        {
          "output_type": "stream",
          "text": [
            "Warning: less than 75% gpu memory available for training. Free: 9265.75 Total: 15109.75\n",
            "\u001b[32m[I 2021-05-25 20:19:37,143]\u001b[0m Trial 149 finished with value: 1.0911456048862536 and parameters: {'min_data_in_leaf': 57, 'depth': 4, 'learning_rate': 0.06379650075554484, 'random_strength': 74, 'l2_leaf_reg': 0.0005264370749679039}. Best is trial 71 with value: 1.085815400126414.\u001b[0m\n"
          ],
          "name": "stderr"
        },
        {
          "output_type": "stream",
          "text": [
            "train.csv: shape = 100000 rows, 52 cols\n"
          ],
          "name": "stdout"
        },
        {
          "output_type": "stream",
          "text": [
            "Warning: less than 75% gpu memory available for training. Free: 9265.75 Total: 15109.75\n",
            "\u001b[32m[I 2021-05-25 20:19:41,556]\u001b[0m Trial 150 finished with value: 1.0911800971898242 and parameters: {'min_data_in_leaf': 49, 'depth': 4, 'learning_rate': 0.07202423906086558, 'random_strength': 55, 'l2_leaf_reg': 0.0003133174531328408}. Best is trial 71 with value: 1.085815400126414.\u001b[0m\n"
          ],
          "name": "stderr"
        },
        {
          "output_type": "stream",
          "text": [
            "train.csv: shape = 100000 rows, 52 cols\n"
          ],
          "name": "stdout"
        },
        {
          "output_type": "stream",
          "text": [
            "Warning: less than 75% gpu memory available for training. Free: 9265.75 Total: 15109.75\n",
            "\u001b[32m[I 2021-05-25 20:19:47,369]\u001b[0m Trial 151 finished with value: 1.0892752320943926 and parameters: {'min_data_in_leaf': 43, 'depth': 5, 'learning_rate': 0.06654414756871117, 'random_strength': 66, 'l2_leaf_reg': 1.4482568875840014}. Best is trial 71 with value: 1.085815400126414.\u001b[0m\n"
          ],
          "name": "stderr"
        },
        {
          "output_type": "stream",
          "text": [
            "train.csv: shape = 100000 rows, 52 cols\n"
          ],
          "name": "stdout"
        },
        {
          "output_type": "stream",
          "text": [
            "Warning: less than 75% gpu memory available for training. Free: 9265.75 Total: 15109.75\n",
            "\u001b[32m[I 2021-05-25 20:19:52,817]\u001b[0m Trial 152 finished with value: 1.0836613774733865 and parameters: {'min_data_in_leaf': 43, 'depth': 5, 'learning_rate': 0.07928546561861827, 'random_strength': 66, 'l2_leaf_reg': 2.9448952422509165}. Best is trial 152 with value: 1.0836613774733865.\u001b[0m\n"
          ],
          "name": "stderr"
        },
        {
          "output_type": "stream",
          "text": [
            "train.csv: shape = 100000 rows, 52 cols\n"
          ],
          "name": "stdout"
        },
        {
          "output_type": "stream",
          "text": [
            "Warning: less than 75% gpu memory available for training. Free: 9265.75 Total: 15109.75\n",
            "\u001b[32m[I 2021-05-25 20:19:58,493]\u001b[0m Trial 153 finished with value: 1.0925303009172498 and parameters: {'min_data_in_leaf': 46, 'depth': 4, 'learning_rate': 0.07583090786077903, 'random_strength': 69, 'l2_leaf_reg': 3.6605917401671424}. Best is trial 152 with value: 1.0836613774733865.\u001b[0m\n"
          ],
          "name": "stderr"
        },
        {
          "output_type": "stream",
          "text": [
            "train.csv: shape = 100000 rows, 52 cols\n"
          ],
          "name": "stdout"
        },
        {
          "output_type": "stream",
          "text": [
            "Warning: less than 75% gpu memory available for training. Free: 9265.75 Total: 15109.75\n",
            "\u001b[32m[I 2021-05-25 20:20:03,564]\u001b[0m Trial 154 finished with value: 1.0931811557868294 and parameters: {'min_data_in_leaf': 44, 'depth': 4, 'learning_rate': 0.0809056975074222, 'random_strength': 65, 'l2_leaf_reg': 9.30305500086425}. Best is trial 152 with value: 1.0836613774733865.\u001b[0m\n"
          ],
          "name": "stderr"
        },
        {
          "output_type": "stream",
          "text": [
            "train.csv: shape = 100000 rows, 52 cols\n"
          ],
          "name": "stdout"
        },
        {
          "output_type": "stream",
          "text": [
            "Warning: less than 75% gpu memory available for training. Free: 9265.75 Total: 15109.75\n",
            "\u001b[32m[I 2021-05-25 20:20:08,829]\u001b[0m Trial 155 finished with value: 1.0884331904672047 and parameters: {'min_data_in_leaf': 38, 'depth': 5, 'learning_rate': 0.07847590518639788, 'random_strength': 71, 'l2_leaf_reg': 5.141961854490971}. Best is trial 152 with value: 1.0836613774733865.\u001b[0m\n"
          ],
          "name": "stderr"
        },
        {
          "output_type": "stream",
          "text": [
            "train.csv: shape = 100000 rows, 52 cols\n"
          ],
          "name": "stdout"
        },
        {
          "output_type": "stream",
          "text": [
            "Warning: less than 75% gpu memory available for training. Free: 9265.75 Total: 15109.75\n",
            "\u001b[32m[I 2021-05-25 20:20:14,463]\u001b[0m Trial 156 finished with value: 1.09120276868818 and parameters: {'min_data_in_leaf': 78, 'depth': 5, 'learning_rate': 0.07891166914785935, 'random_strength': 76, 'l2_leaf_reg': 5.749057669735482}. Best is trial 152 with value: 1.0836613774733865.\u001b[0m\n"
          ],
          "name": "stderr"
        },
        {
          "output_type": "stream",
          "text": [
            "train.csv: shape = 100000 rows, 52 cols\n"
          ],
          "name": "stdout"
        },
        {
          "output_type": "stream",
          "text": [
            "Warning: less than 75% gpu memory available for training. Free: 9265.75 Total: 15109.75\n",
            "\u001b[32m[I 2021-05-25 20:20:17,945]\u001b[0m Trial 157 finished with value: 1.0946773542602186 and parameters: {'min_data_in_leaf': 38, 'depth': 5, 'learning_rate': 0.0839821258284749, 'random_strength': 58, 'l2_leaf_reg': 0.00016321627785227926}. Best is trial 152 with value: 1.0836613774733865.\u001b[0m\n"
          ],
          "name": "stderr"
        },
        {
          "output_type": "stream",
          "text": [
            "train.csv: shape = 100000 rows, 52 cols\n"
          ],
          "name": "stdout"
        },
        {
          "output_type": "stream",
          "text": [
            "Warning: less than 75% gpu memory available for training. Free: 9265.75 Total: 15109.75\n",
            "\u001b[32m[I 2021-05-25 20:20:23,970]\u001b[0m Trial 158 finished with value: 1.0860983521044218 and parameters: {'min_data_in_leaf': 33, 'depth': 5, 'learning_rate': 0.07347812110702893, 'random_strength': 91, 'l2_leaf_reg': 16.883797375955126}. Best is trial 152 with value: 1.0836613774733865.\u001b[0m\n"
          ],
          "name": "stderr"
        },
        {
          "output_type": "stream",
          "text": [
            "train.csv: shape = 100000 rows, 52 cols\n"
          ],
          "name": "stdout"
        },
        {
          "output_type": "stream",
          "text": [
            "Warning: less than 75% gpu memory available for training. Free: 9265.75 Total: 15109.75\n",
            "\u001b[32m[I 2021-05-25 20:20:25,233]\u001b[0m Trial 159 finished with value: 1.3427316910094496 and parameters: {'min_data_in_leaf': 33, 'depth': 5, 'learning_rate': 0.07449700348173086, 'random_strength': 91, 'l2_leaf_reg': 1.0562082189920065e-08}. Best is trial 152 with value: 1.0836613774733865.\u001b[0m\n"
          ],
          "name": "stderr"
        },
        {
          "output_type": "stream",
          "text": [
            "train.csv: shape = 100000 rows, 52 cols\n"
          ],
          "name": "stdout"
        },
        {
          "output_type": "stream",
          "text": [
            "Warning: less than 75% gpu memory available for training. Free: 9265.75 Total: 15109.75\n",
            "\u001b[32m[I 2021-05-25 20:20:31,443]\u001b[0m Trial 160 finished with value: 1.0914868780332525 and parameters: {'min_data_in_leaf': 33, 'depth': 5, 'learning_rate': 0.06931527087933374, 'random_strength': 88, 'l2_leaf_reg': 16.246299643009486}. Best is trial 152 with value: 1.0836613774733865.\u001b[0m\n"
          ],
          "name": "stderr"
        },
        {
          "output_type": "stream",
          "text": [
            "train.csv: shape = 100000 rows, 52 cols\n"
          ],
          "name": "stdout"
        },
        {
          "output_type": "stream",
          "text": [
            "Warning: less than 75% gpu memory available for training. Free: 9265.75 Total: 15109.75\n",
            "\u001b[32m[I 2021-05-25 20:20:36,229]\u001b[0m Trial 161 finished with value: 1.0969656222716007 and parameters: {'min_data_in_leaf': 36, 'depth': 5, 'learning_rate': 0.0784015761043092, 'random_strength': 96, 'l2_leaf_reg': 3.066859160764524}. Best is trial 152 with value: 1.0836613774733865.\u001b[0m\n"
          ],
          "name": "stderr"
        },
        {
          "output_type": "stream",
          "text": [
            "train.csv: shape = 100000 rows, 52 cols\n"
          ],
          "name": "stdout"
        },
        {
          "output_type": "stream",
          "text": [
            "Warning: less than 75% gpu memory available for training. Free: 9265.75 Total: 15109.75\n",
            "\u001b[32m[I 2021-05-25 20:20:42,774]\u001b[0m Trial 162 finished with value: 1.0927371561348818 and parameters: {'min_data_in_leaf': 29, 'depth': 5, 'learning_rate': 0.07308865172849306, 'random_strength': 84, 'l2_leaf_reg': 10.731602217108986}. Best is trial 152 with value: 1.0836613774733865.\u001b[0m\n"
          ],
          "name": "stderr"
        },
        {
          "output_type": "stream",
          "text": [
            "train.csv: shape = 100000 rows, 52 cols\n"
          ],
          "name": "stdout"
        },
        {
          "output_type": "stream",
          "text": [
            "Warning: less than 75% gpu memory available for training. Free: 9265.75 Total: 15109.75\n",
            "\u001b[32m[I 2021-05-25 20:20:48,766]\u001b[0m Trial 163 finished with value: 1.0950689701609597 and parameters: {'min_data_in_leaf': 41, 'depth': 5, 'learning_rate': 0.08007344886912093, 'random_strength': 68, 'l2_leaf_reg': 31.539222581225758}. Best is trial 152 with value: 1.0836613774733865.\u001b[0m\n"
          ],
          "name": "stderr"
        },
        {
          "output_type": "stream",
          "text": [
            "train.csv: shape = 100000 rows, 52 cols\n"
          ],
          "name": "stdout"
        },
        {
          "output_type": "stream",
          "text": [
            "Warning: less than 75% gpu memory available for training. Free: 9265.75 Total: 15109.75\n",
            "\u001b[32m[I 2021-05-25 20:20:55,697]\u001b[0m Trial 164 finished with value: 1.094803781637367 and parameters: {'min_data_in_leaf': 39, 'depth': 5, 'learning_rate': 0.07080127143177703, 'random_strength': 92, 'l2_leaf_reg': 92.86810000965558}. Best is trial 152 with value: 1.0836613774733865.\u001b[0m\n"
          ],
          "name": "stderr"
        },
        {
          "output_type": "stream",
          "text": [
            "train.csv: shape = 100000 rows, 52 cols\n"
          ],
          "name": "stdout"
        },
        {
          "output_type": "stream",
          "text": [
            "Warning: less than 75% gpu memory available for training. Free: 9265.75 Total: 15109.75\n",
            "\u001b[32m[I 2021-05-25 20:20:57,127]\u001b[0m Trial 165 finished with value: 1.307830224735433 and parameters: {'min_data_in_leaf': 81, 'depth': 6, 'learning_rate': 0.07443527325712612, 'random_strength': 71, 'l2_leaf_reg': 9.451890499623605e-05}. Best is trial 152 with value: 1.0836613774733865.\u001b[0m\n"
          ],
          "name": "stderr"
        },
        {
          "output_type": "stream",
          "text": [
            "train.csv: shape = 100000 rows, 52 cols\n"
          ],
          "name": "stdout"
        },
        {
          "output_type": "stream",
          "text": [
            "Warning: less than 75% gpu memory available for training. Free: 9265.75 Total: 15109.75\n",
            "\u001b[32m[I 2021-05-25 20:21:02,351]\u001b[0m Trial 166 finished with value: 1.0927788852941025 and parameters: {'min_data_in_leaf': 22, 'depth': 7, 'learning_rate': 0.07619682094336923, 'random_strength': 78, 'l2_leaf_reg': 5.068860466048079}. Best is trial 152 with value: 1.0836613774733865.\u001b[0m\n"
          ],
          "name": "stderr"
        },
        {
          "output_type": "stream",
          "text": [
            "train.csv: shape = 100000 rows, 52 cols\n"
          ],
          "name": "stdout"
        },
        {
          "output_type": "stream",
          "text": [
            "Warning: less than 75% gpu memory available for training. Free: 9265.75 Total: 15109.75\n",
            "\u001b[32m[I 2021-05-25 20:21:06,379]\u001b[0m Trial 167 finished with value: 1.0956905364566403 and parameters: {'min_data_in_leaf': 43, 'depth': 5, 'learning_rate': 0.08665584902813231, 'random_strength': 81, 'l2_leaf_reg': 0.00048344733448623533}. Best is trial 152 with value: 1.0836613774733865.\u001b[0m\n"
          ],
          "name": "stderr"
        },
        {
          "output_type": "stream",
          "text": [
            "train.csv: shape = 100000 rows, 52 cols\n"
          ],
          "name": "stdout"
        },
        {
          "output_type": "stream",
          "text": [
            "Warning: less than 75% gpu memory available for training. Free: 9265.75 Total: 15109.75\n",
            "\u001b[32m[I 2021-05-25 20:21:13,186]\u001b[0m Trial 168 finished with value: 1.0918583184206658 and parameters: {'min_data_in_leaf': 77, 'depth': 5, 'learning_rate': 0.08195379883886662, 'random_strength': 74, 'l2_leaf_reg': 7.725354972232793}. Best is trial 152 with value: 1.0836613774733865.\u001b[0m\n"
          ],
          "name": "stderr"
        },
        {
          "output_type": "stream",
          "text": [
            "train.csv: shape = 100000 rows, 52 cols\n"
          ],
          "name": "stdout"
        },
        {
          "output_type": "stream",
          "text": [
            "Warning: less than 75% gpu memory available for training. Free: 9265.75 Total: 15109.75\n",
            "\u001b[32m[I 2021-05-25 20:21:17,926]\u001b[0m Trial 169 finished with value: 1.0934594453245696 and parameters: {'min_data_in_leaf': 47, 'depth': 5, 'learning_rate': 0.06144564864172882, 'random_strength': 100, 'l2_leaf_reg': 0.0008598123817229146}. Best is trial 152 with value: 1.0836613774733865.\u001b[0m\n"
          ],
          "name": "stderr"
        },
        {
          "output_type": "stream",
          "text": [
            "train.csv: shape = 100000 rows, 52 cols\n"
          ],
          "name": "stdout"
        },
        {
          "output_type": "stream",
          "text": [
            "Warning: less than 75% gpu memory available for training. Free: 9265.75 Total: 15109.75\n",
            "\u001b[32m[I 2021-05-25 20:21:23,265]\u001b[0m Trial 170 finished with value: 1.0884463311523356 and parameters: {'min_data_in_leaf': 30, 'depth': 5, 'learning_rate': 0.05202379307279266, 'random_strength': 62, 'l2_leaf_reg': 0.0001637321158679474}. Best is trial 152 with value: 1.0836613774733865.\u001b[0m\n"
          ],
          "name": "stderr"
        },
        {
          "output_type": "stream",
          "text": [
            "train.csv: shape = 100000 rows, 52 cols\n"
          ],
          "name": "stdout"
        },
        {
          "output_type": "stream",
          "text": [
            "Warning: less than 75% gpu memory available for training. Free: 9265.75 Total: 15109.75\n",
            "\u001b[32m[I 2021-05-25 20:21:28,265]\u001b[0m Trial 171 finished with value: 1.093438530761892 and parameters: {'min_data_in_leaf': 29, 'depth': 5, 'learning_rate': 0.05097733539992173, 'random_strength': 61, 'l2_leaf_reg': 0.00021438786453292533}. Best is trial 152 with value: 1.0836613774733865.\u001b[0m\n"
          ],
          "name": "stderr"
        },
        {
          "output_type": "stream",
          "text": [
            "train.csv: shape = 100000 rows, 52 cols\n"
          ],
          "name": "stdout"
        },
        {
          "output_type": "stream",
          "text": [
            "Warning: less than 75% gpu memory available for training. Free: 9265.75 Total: 15109.75\n",
            "\u001b[32m[I 2021-05-25 20:21:33,908]\u001b[0m Trial 172 finished with value: 1.0974895080548814 and parameters: {'min_data_in_leaf': 31, 'depth': 5, 'learning_rate': 0.05296999817031669, 'random_strength': 64, 'l2_leaf_reg': 0.00033861458617426}. Best is trial 152 with value: 1.0836613774733865.\u001b[0m\n"
          ],
          "name": "stderr"
        },
        {
          "output_type": "stream",
          "text": [
            "train.csv: shape = 100000 rows, 52 cols\n"
          ],
          "name": "stdout"
        },
        {
          "output_type": "stream",
          "text": [
            "Warning: less than 75% gpu memory available for training. Free: 9265.75 Total: 15109.75\n",
            "\u001b[32m[I 2021-05-25 20:21:35,313]\u001b[0m Trial 173 finished with value: 1.2728932019424979 and parameters: {'min_data_in_leaf': 26, 'depth': 5, 'learning_rate': 0.0488520655152174, 'random_strength': 67, 'l2_leaf_reg': 5.5914832214997816e-05}. Best is trial 152 with value: 1.0836613774733865.\u001b[0m\n"
          ],
          "name": "stderr"
        },
        {
          "output_type": "stream",
          "text": [
            "train.csv: shape = 100000 rows, 52 cols\n"
          ],
          "name": "stdout"
        },
        {
          "output_type": "stream",
          "text": [
            "Warning: less than 75% gpu memory available for training. Free: 9265.75 Total: 15109.75\n",
            "\u001b[32m[I 2021-05-25 20:21:40,822]\u001b[0m Trial 174 finished with value: 1.0930689323610159 and parameters: {'min_data_in_leaf': 42, 'depth': 5, 'learning_rate': 0.0587908312619906, 'random_strength': 62, 'l2_leaf_reg': 0.00014159875100269414}. Best is trial 152 with value: 1.0836613774733865.\u001b[0m\n"
          ],
          "name": "stderr"
        },
        {
          "output_type": "stream",
          "text": [
            "train.csv: shape = 100000 rows, 52 cols\n"
          ],
          "name": "stdout"
        },
        {
          "output_type": "stream",
          "text": [
            "Warning: less than 75% gpu memory available for training. Free: 9265.75 Total: 15109.75\n",
            "\u001b[32m[I 2021-05-25 20:21:42,163]\u001b[0m Trial 175 finished with value: 1.3444021405401412 and parameters: {'min_data_in_leaf': 45, 'depth': 5, 'learning_rate': 0.07182208750868814, 'random_strength': 70, 'l2_leaf_reg': 3.787631354718993e-05}. Best is trial 152 with value: 1.0836613774733865.\u001b[0m\n"
          ],
          "name": "stderr"
        },
        {
          "output_type": "stream",
          "text": [
            "train.csv: shape = 100000 rows, 52 cols\n"
          ],
          "name": "stdout"
        },
        {
          "output_type": "stream",
          "text": [
            "Warning: less than 75% gpu memory available for training. Free: 9265.75 Total: 15109.75\n",
            "\u001b[32m[I 2021-05-25 20:21:47,762]\u001b[0m Trial 176 finished with value: 1.0961376080534693 and parameters: {'min_data_in_leaf': 37, 'depth': 5, 'learning_rate': 0.07782619308959865, 'random_strength': 65, 'l2_leaf_reg': 4.656879487977448}. Best is trial 152 with value: 1.0836613774733865.\u001b[0m\n"
          ],
          "name": "stderr"
        },
        {
          "output_type": "stream",
          "text": [
            "train.csv: shape = 100000 rows, 52 cols\n"
          ],
          "name": "stdout"
        },
        {
          "output_type": "stream",
          "text": [
            "Warning: less than 75% gpu memory available for training. Free: 9265.75 Total: 15109.75\n",
            "\u001b[32m[I 2021-05-25 20:21:53,835]\u001b[0m Trial 177 finished with value: 1.0943338744229072 and parameters: {'min_data_in_leaf': 49, 'depth': 6, 'learning_rate': 0.06810964364997912, 'random_strength': 72, 'l2_leaf_reg': 21.833575787039155}. Best is trial 152 with value: 1.0836613774733865.\u001b[0m\n"
          ],
          "name": "stderr"
        },
        {
          "output_type": "stream",
          "text": [
            "train.csv: shape = 100000 rows, 52 cols\n"
          ],
          "name": "stdout"
        },
        {
          "output_type": "stream",
          "text": [
            "Warning: less than 75% gpu memory available for training. Free: 9265.75 Total: 15109.75\n",
            "\u001b[32m[I 2021-05-25 20:21:59,891]\u001b[0m Trial 178 finished with value: 1.0880566264025562 and parameters: {'min_data_in_leaf': 34, 'depth': 5, 'learning_rate': 0.05559280277355272, 'random_strength': 67, 'l2_leaf_reg': 2.5359052546651206}. Best is trial 152 with value: 1.0836613774733865.\u001b[0m\n"
          ],
          "name": "stderr"
        },
        {
          "output_type": "stream",
          "text": [
            "train.csv: shape = 100000 rows, 52 cols\n"
          ],
          "name": "stdout"
        },
        {
          "output_type": "stream",
          "text": [
            "Warning: less than 75% gpu memory available for training. Free: 9265.75 Total: 15109.75\n",
            "\u001b[32m[I 2021-05-25 20:22:06,326]\u001b[0m Trial 179 finished with value: 1.0948775759233456 and parameters: {'min_data_in_leaf': 35, 'depth': 5, 'learning_rate': 0.06238372497804408, 'random_strength': 77, 'l2_leaf_reg': 2.6643281649353665}. Best is trial 152 with value: 1.0836613774733865.\u001b[0m\n"
          ],
          "name": "stderr"
        },
        {
          "output_type": "stream",
          "text": [
            "train.csv: shape = 100000 rows, 52 cols\n"
          ],
          "name": "stdout"
        },
        {
          "output_type": "stream",
          "text": [
            "Warning: less than 75% gpu memory available for training. Free: 9265.75 Total: 15109.75\n",
            "\u001b[32m[I 2021-05-25 20:22:11,672]\u001b[0m Trial 180 finished with value: 1.0931100931739672 and parameters: {'min_data_in_leaf': 30, 'depth': 5, 'learning_rate': 0.05716067649041417, 'random_strength': 86, 'l2_leaf_reg': 0.00014855259420814104}. Best is trial 152 with value: 1.0836613774733865.\u001b[0m\n"
          ],
          "name": "stderr"
        },
        {
          "output_type": "stream",
          "text": [
            "train.csv: shape = 100000 rows, 52 cols\n"
          ],
          "name": "stdout"
        },
        {
          "output_type": "stream",
          "text": [
            "Warning: less than 75% gpu memory available for training. Free: 9265.75 Total: 15109.75\n",
            "\u001b[32m[I 2021-05-25 20:22:18,123]\u001b[0m Trial 181 finished with value: 1.0887997835416472 and parameters: {'min_data_in_leaf': 33, 'depth': 5, 'learning_rate': 0.053118398674966656, 'random_strength': 68, 'l2_leaf_reg': 9.294969298588653}. Best is trial 152 with value: 1.0836613774733865.\u001b[0m\n"
          ],
          "name": "stderr"
        },
        {
          "output_type": "stream",
          "text": [
            "train.csv: shape = 100000 rows, 52 cols\n"
          ],
          "name": "stdout"
        },
        {
          "output_type": "stream",
          "text": [
            "Warning: less than 75% gpu memory available for training. Free: 9265.75 Total: 15109.75\n",
            "\u001b[32m[I 2021-05-25 20:22:24,835]\u001b[0m Trial 182 finished with value: 1.0919243201436704 and parameters: {'min_data_in_leaf': 27, 'depth': 5, 'learning_rate': 0.054581390907615324, 'random_strength': 68, 'l2_leaf_reg': 13.15609617823091}. Best is trial 152 with value: 1.0836613774733865.\u001b[0m\n"
          ],
          "name": "stderr"
        },
        {
          "output_type": "stream",
          "text": [
            "train.csv: shape = 100000 rows, 52 cols\n"
          ],
          "name": "stdout"
        },
        {
          "output_type": "stream",
          "text": [
            "Warning: less than 75% gpu memory available for training. Free: 9265.75 Total: 15109.75\n",
            "\u001b[32m[I 2021-05-25 20:22:31,304]\u001b[0m Trial 183 finished with value: 1.0906293092741595 and parameters: {'min_data_in_leaf': 32, 'depth': 5, 'learning_rate': 0.04564390340930729, 'random_strength': 64, 'l2_leaf_reg': 8.201317971636588}. Best is trial 152 with value: 1.0836613774733865.\u001b[0m\n"
          ],
          "name": "stderr"
        },
        {
          "output_type": "stream",
          "text": [
            "train.csv: shape = 100000 rows, 52 cols\n"
          ],
          "name": "stdout"
        },
        {
          "output_type": "stream",
          "text": [
            "Warning: less than 75% gpu memory available for training. Free: 9265.75 Total: 15109.75\n",
            "\u001b[32m[I 2021-05-25 20:22:37,242]\u001b[0m Trial 184 finished with value: 1.0962833161608678 and parameters: {'min_data_in_leaf': 34, 'depth': 5, 'learning_rate': 0.05358493929714043, 'random_strength': 67, 'l2_leaf_reg': 1.302099550925846}. Best is trial 152 with value: 1.0836613774733865.\u001b[0m\n"
          ],
          "name": "stderr"
        },
        {
          "output_type": "stream",
          "text": [
            "train.csv: shape = 100000 rows, 52 cols\n"
          ],
          "name": "stdout"
        },
        {
          "output_type": "stream",
          "text": [
            "Warning: less than 75% gpu memory available for training. Free: 9265.75 Total: 15109.75\n",
            "\u001b[32m[I 2021-05-25 20:22:42,566]\u001b[0m Trial 185 finished with value: 1.0940983414317458 and parameters: {'min_data_in_leaf': 33, 'depth': 5, 'learning_rate': 0.05215351661808508, 'random_strength': 66, 'l2_leaf_reg': 0.0003364948738427547}. Best is trial 152 with value: 1.0836613774733865.\u001b[0m\n"
          ],
          "name": "stderr"
        },
        {
          "output_type": "stream",
          "text": [
            "train.csv: shape = 100000 rows, 52 cols\n"
          ],
          "name": "stdout"
        },
        {
          "output_type": "stream",
          "text": [
            "Warning: less than 75% gpu memory available for training. Free: 9265.75 Total: 15109.75\n",
            "\u001b[32m[I 2021-05-25 20:22:49,019]\u001b[0m Trial 186 finished with value: 1.090647589059421 and parameters: {'min_data_in_leaf': 38, 'depth': 5, 'learning_rate': 0.059942746866886755, 'random_strength': 70, 'l2_leaf_reg': 2.812008118977799}. Best is trial 152 with value: 1.0836613774733865.\u001b[0m\n"
          ],
          "name": "stderr"
        },
        {
          "output_type": "stream",
          "text": [
            "train.csv: shape = 100000 rows, 52 cols\n"
          ],
          "name": "stdout"
        },
        {
          "output_type": "stream",
          "text": [
            "Warning: less than 75% gpu memory available for training. Free: 9265.75 Total: 15109.75\n",
            "\u001b[32m[I 2021-05-25 20:22:55,116]\u001b[0m Trial 187 finished with value: 1.0870987241850778 and parameters: {'min_data_in_leaf': 40, 'depth': 5, 'learning_rate': 0.049746369150550585, 'random_strength': 60, 'l2_leaf_reg': 0.0005395070731755681}. Best is trial 152 with value: 1.0836613774733865.\u001b[0m\n"
          ],
          "name": "stderr"
        },
        {
          "output_type": "stream",
          "text": [
            "train.csv: shape = 100000 rows, 52 cols\n"
          ],
          "name": "stdout"
        },
        {
          "output_type": "stream",
          "text": [
            "Warning: less than 75% gpu memory available for training. Free: 9265.75 Total: 15109.75\n",
            "\u001b[32m[I 2021-05-25 20:23:01,613]\u001b[0m Trial 188 finished with value: 1.0954463131219676 and parameters: {'min_data_in_leaf': 31, 'depth': 5, 'learning_rate': 0.04145271769472974, 'random_strength': 59, 'l2_leaf_reg': 0.0007351194239337621}. Best is trial 152 with value: 1.0836613774733865.\u001b[0m\n"
          ],
          "name": "stderr"
        },
        {
          "output_type": "stream",
          "text": [
            "train.csv: shape = 100000 rows, 52 cols\n"
          ],
          "name": "stdout"
        },
        {
          "output_type": "stream",
          "text": [
            "Warning: less than 75% gpu memory available for training. Free: 9265.75 Total: 15109.75\n",
            "\u001b[32m[I 2021-05-25 20:23:08,026]\u001b[0m Trial 189 finished with value: 1.0915400434495222 and parameters: {'min_data_in_leaf': 36, 'depth': 5, 'learning_rate': 0.04908197814978314, 'random_strength': 59, 'l2_leaf_reg': 0.0005463567624802137}. Best is trial 152 with value: 1.0836613774733865.\u001b[0m\n"
          ],
          "name": "stderr"
        },
        {
          "output_type": "stream",
          "text": [
            "train.csv: shape = 100000 rows, 52 cols\n"
          ],
          "name": "stdout"
        },
        {
          "output_type": "stream",
          "text": [
            "Warning: less than 75% gpu memory available for training. Free: 9265.75 Total: 15109.75\n",
            "\u001b[32m[I 2021-05-25 20:23:14,305]\u001b[0m Trial 190 finished with value: 1.0933093470652333 and parameters: {'min_data_in_leaf': 40, 'depth': 5, 'learning_rate': 0.04705313048270364, 'random_strength': 62, 'l2_leaf_reg': 0.0011819031981115313}. Best is trial 152 with value: 1.0836613774733865.\u001b[0m\n"
          ],
          "name": "stderr"
        },
        {
          "output_type": "stream",
          "text": [
            "train.csv: shape = 100000 rows, 52 cols\n"
          ],
          "name": "stdout"
        },
        {
          "output_type": "stream",
          "text": [
            "Warning: less than 75% gpu memory available for training. Free: 9265.75 Total: 15109.75\n",
            "\u001b[32m[I 2021-05-25 20:23:19,726]\u001b[0m Trial 191 finished with value: 1.0926327718373277 and parameters: {'min_data_in_leaf': 41, 'depth': 5, 'learning_rate': 0.056050564652737916, 'random_strength': 64, 'l2_leaf_reg': 0.00025625139137674073}. Best is trial 152 with value: 1.0836613774733865.\u001b[0m\n"
          ],
          "name": "stderr"
        },
        {
          "output_type": "stream",
          "text": [
            "train.csv: shape = 100000 rows, 52 cols\n"
          ],
          "name": "stdout"
        },
        {
          "output_type": "stream",
          "text": [
            "Warning: less than 75% gpu memory available for training. Free: 9265.75 Total: 15109.75\n",
            "\u001b[32m[I 2021-05-25 20:23:26,330]\u001b[0m Trial 192 finished with value: 1.0954390660378819 and parameters: {'min_data_in_leaf': 44, 'depth': 5, 'learning_rate': 0.04924181942314102, 'random_strength': 80, 'l2_leaf_reg': 0.0018695337702918408}. Best is trial 152 with value: 1.0836613774733865.\u001b[0m\n"
          ],
          "name": "stderr"
        },
        {
          "output_type": "stream",
          "text": [
            "train.csv: shape = 100000 rows, 52 cols\n"
          ],
          "name": "stdout"
        },
        {
          "output_type": "stream",
          "text": [
            "Warning: less than 75% gpu memory available for training. Free: 9265.75 Total: 15109.75\n",
            "\u001b[32m[I 2021-05-25 20:23:33,092]\u001b[0m Trial 193 finished with value: 1.0927588455811863 and parameters: {'min_data_in_leaf': 35, 'depth': 5, 'learning_rate': 0.050276591661253756, 'random_strength': 74, 'l2_leaf_reg': 0.00011397023766410806}. Best is trial 152 with value: 1.0836613774733865.\u001b[0m\n"
          ],
          "name": "stderr"
        },
        {
          "output_type": "stream",
          "text": [
            "train.csv: shape = 100000 rows, 52 cols\n"
          ],
          "name": "stdout"
        },
        {
          "output_type": "stream",
          "text": [
            "Warning: less than 75% gpu memory available for training. Free: 9265.75 Total: 15109.75\n",
            "\u001b[32m[I 2021-05-25 20:23:38,586]\u001b[0m Trial 194 finished with value: 1.089191193182778 and parameters: {'min_data_in_leaf': 46, 'depth': 5, 'learning_rate': 0.055480613943208884, 'random_strength': 66, 'l2_leaf_reg': 0.00039592678594039507}. Best is trial 152 with value: 1.0836613774733865.\u001b[0m\n"
          ],
          "name": "stderr"
        },
        {
          "output_type": "stream",
          "text": [
            "train.csv: shape = 100000 rows, 52 cols\n"
          ],
          "name": "stdout"
        },
        {
          "output_type": "stream",
          "text": [
            "Warning: less than 75% gpu memory available for training. Free: 9265.75 Total: 15109.75\n",
            "\u001b[32m[I 2021-05-25 20:23:45,462]\u001b[0m Trial 195 finished with value: 1.0923592999451783 and parameters: {'min_data_in_leaf': 38, 'depth': 5, 'learning_rate': 0.05247017851359416, 'random_strength': 69, 'l2_leaf_reg': 4.807183871211283}. Best is trial 152 with value: 1.0836613774733865.\u001b[0m\n"
          ],
          "name": "stderr"
        },
        {
          "output_type": "stream",
          "text": [
            "train.csv: shape = 100000 rows, 52 cols\n"
          ],
          "name": "stdout"
        },
        {
          "output_type": "stream",
          "text": [
            "Warning: less than 75% gpu memory available for training. Free: 9265.75 Total: 15109.75\n",
            "\u001b[32m[I 2021-05-25 20:23:53,294]\u001b[0m Trial 196 finished with value: 1.0941734711084372 and parameters: {'min_data_in_leaf': 42, 'depth': 7, 'learning_rate': 0.04383483131459892, 'random_strength': 56, 'l2_leaf_reg': 2.0564464138298053}. Best is trial 152 with value: 1.0836613774733865.\u001b[0m\n"
          ],
          "name": "stderr"
        },
        {
          "output_type": "stream",
          "text": [
            "train.csv: shape = 100000 rows, 52 cols\n"
          ],
          "name": "stdout"
        },
        {
          "output_type": "stream",
          "text": [
            "Warning: less than 75% gpu memory available for training. Free: 9265.75 Total: 15109.75\n",
            "\u001b[32m[I 2021-05-25 20:23:59,664]\u001b[0m Trial 197 finished with value: 1.0986142342903333 and parameters: {'min_data_in_leaf': 84, 'depth': 5, 'learning_rate': 0.04645086585365146, 'random_strength': 60, 'l2_leaf_reg': 0.00020780594470989943}. Best is trial 152 with value: 1.0836613774733865.\u001b[0m\n"
          ],
          "name": "stderr"
        },
        {
          "output_type": "stream",
          "text": [
            "train.csv: shape = 100000 rows, 52 cols\n"
          ],
          "name": "stdout"
        },
        {
          "output_type": "stream",
          "text": [
            "Warning: less than 75% gpu memory available for training. Free: 9265.75 Total: 15109.75\n",
            "\u001b[32m[I 2021-05-25 20:24:06,281]\u001b[0m Trial 198 finished with value: 1.1032557383383232 and parameters: {'min_data_in_leaf': 80, 'depth': 5, 'learning_rate': 0.06550125070387704, 'random_strength': 83, 'l2_leaf_reg': 7.8067576913576975}. Best is trial 152 with value: 1.0836613774733865.\u001b[0m\n"
          ],
          "name": "stderr"
        },
        {
          "output_type": "stream",
          "text": [
            "train.csv: shape = 100000 rows, 52 cols\n"
          ],
          "name": "stdout"
        },
        {
          "output_type": "stream",
          "text": [
            "Warning: less than 75% gpu memory available for training. Free: 9265.75 Total: 15109.75\n",
            "\u001b[32m[I 2021-05-25 20:24:13,011]\u001b[0m Trial 199 finished with value: 1.0937628032274382 and parameters: {'min_data_in_leaf': 48, 'depth': 5, 'learning_rate': 0.03715741624813227, 'random_strength': 52, 'l2_leaf_reg': 3.6429876663953307}. Best is trial 152 with value: 1.0836613774733865.\u001b[0m\n"
          ],
          "name": "stderr"
        },
        {
          "output_type": "stream",
          "text": [
            "Best trial:\n",
            "  Params: \n",
            "    min_data_in_leaf: 43\n",
            "    depth: 5\n",
            "    learning_rate: 0.07928546561861827\n",
            "    random_strength: 66\n",
            "    l2_leaf_reg: 2.9448952422509165\n"
          ],
          "name": "stdout"
        }
      ]
    },
    {
      "cell_type": "code",
      "metadata": {
        "colab": {
          "base_uri": "https://localhost:8080/",
          "height": 542
        },
        "id": "U-NSxfWGmxUR",
        "outputId": "168cf2a8-4e1d-447b-e0e9-c25682f44148"
      },
      "source": [
        "optuna.visualization.plot_param_importances(study)"
      ],
      "execution_count": null,
      "outputs": [
        {
          "output_type": "display_data",
          "data": {
            "text/html": [
              "<html>\n",
              "<head><meta charset=\"utf-8\" /></head>\n",
              "<body>\n",
              "    <div>\n",
              "            <script src=\"https://cdnjs.cloudflare.com/ajax/libs/mathjax/2.7.5/MathJax.js?config=TeX-AMS-MML_SVG\"></script><script type=\"text/javascript\">if (window.MathJax) {MathJax.Hub.Config({SVG: {font: \"STIX-Web\"}});}</script>\n",
              "                <script type=\"text/javascript\">window.PlotlyConfig = {MathJaxConfig: 'local'};</script>\n",
              "        <script src=\"https://cdn.plot.ly/plotly-latest.min.js\"></script>    \n",
              "            <div id=\"c339e5b1-6cdd-420b-89db-7f62e2ec0e68\" class=\"plotly-graph-div\" style=\"height:525px; width:100%;\"></div>\n",
              "            <script type=\"text/javascript\">\n",
              "                \n",
              "                    window.PLOTLYENV=window.PLOTLYENV || {};\n",
              "                    \n",
              "                if (document.getElementById(\"c339e5b1-6cdd-420b-89db-7f62e2ec0e68\")) {\n",
              "                    Plotly.newPlot(\n",
              "                        'c339e5b1-6cdd-420b-89db-7f62e2ec0e68',\n",
              "                        [{\"cliponaxis\": false, \"hovertemplate\": [\"depth (IntUniformDistribution): 0.03713871537567316<extra></extra>\", \"l2_leaf_reg (LogUniformDistribution): 0.06370882062157215<extra></extra>\", \"random_strength (IntUniformDistribution): 0.09213198518330937<extra></extra>\", \"min_data_in_leaf (IntUniformDistribution): 0.2771356383769895<extra></extra>\", \"learning_rate (UniformDistribution): 0.5298848404424558<extra></extra>\"], \"marker\": {\"color\": [\"rgb(8,81,156)\", \"rgb(8,48,107)\", \"rgb(8,81,156)\", \"rgb(8,81,156)\", \"rgb(8,48,107)\"]}, \"orientation\": \"h\", \"text\": [\"0.03713871537567316\", \"0.06370882062157215\", \"0.09213198518330937\", \"0.2771356383769895\", \"0.5298848404424558\"], \"textposition\": \"outside\", \"texttemplate\": \"%{text:.2f}\", \"type\": \"bar\", \"x\": [0.03713871537567316, 0.06370882062157215, 0.09213198518330937, 0.2771356383769895, 0.5298848404424558], \"y\": [\"depth\", \"l2_leaf_reg\", \"random_strength\", \"min_data_in_leaf\", \"learning_rate\"]}],\n",
              "                        {\"showlegend\": false, \"template\": {\"data\": {\"bar\": [{\"error_x\": {\"color\": \"#2a3f5f\"}, \"error_y\": {\"color\": \"#2a3f5f\"}, \"marker\": {\"line\": {\"color\": \"#E5ECF6\", \"width\": 0.5}}, \"type\": \"bar\"}], \"barpolar\": [{\"marker\": {\"line\": {\"color\": \"#E5ECF6\", \"width\": 0.5}}, \"type\": \"barpolar\"}], \"carpet\": [{\"aaxis\": {\"endlinecolor\": \"#2a3f5f\", \"gridcolor\": \"white\", \"linecolor\": \"white\", \"minorgridcolor\": \"white\", \"startlinecolor\": \"#2a3f5f\"}, \"baxis\": {\"endlinecolor\": \"#2a3f5f\", \"gridcolor\": \"white\", \"linecolor\": \"white\", \"minorgridcolor\": \"white\", \"startlinecolor\": \"#2a3f5f\"}, \"type\": \"carpet\"}], \"choropleth\": [{\"colorbar\": {\"outlinewidth\": 0, \"ticks\": \"\"}, \"type\": \"choropleth\"}], \"contour\": [{\"colorbar\": {\"outlinewidth\": 0, \"ticks\": \"\"}, \"colorscale\": [[0.0, \"#0d0887\"], [0.1111111111111111, \"#46039f\"], [0.2222222222222222, \"#7201a8\"], [0.3333333333333333, \"#9c179e\"], [0.4444444444444444, \"#bd3786\"], [0.5555555555555556, \"#d8576b\"], [0.6666666666666666, \"#ed7953\"], [0.7777777777777778, \"#fb9f3a\"], [0.8888888888888888, \"#fdca26\"], [1.0, \"#f0f921\"]], \"type\": \"contour\"}], \"contourcarpet\": [{\"colorbar\": {\"outlinewidth\": 0, \"ticks\": \"\"}, \"type\": \"contourcarpet\"}], \"heatmap\": [{\"colorbar\": {\"outlinewidth\": 0, \"ticks\": \"\"}, \"colorscale\": [[0.0, \"#0d0887\"], [0.1111111111111111, \"#46039f\"], [0.2222222222222222, \"#7201a8\"], [0.3333333333333333, \"#9c179e\"], [0.4444444444444444, \"#bd3786\"], [0.5555555555555556, \"#d8576b\"], [0.6666666666666666, \"#ed7953\"], [0.7777777777777778, \"#fb9f3a\"], [0.8888888888888888, \"#fdca26\"], [1.0, \"#f0f921\"]], \"type\": \"heatmap\"}], \"heatmapgl\": [{\"colorbar\": {\"outlinewidth\": 0, \"ticks\": \"\"}, \"colorscale\": [[0.0, \"#0d0887\"], [0.1111111111111111, \"#46039f\"], [0.2222222222222222, \"#7201a8\"], [0.3333333333333333, \"#9c179e\"], [0.4444444444444444, \"#bd3786\"], [0.5555555555555556, \"#d8576b\"], [0.6666666666666666, \"#ed7953\"], [0.7777777777777778, \"#fb9f3a\"], [0.8888888888888888, \"#fdca26\"], [1.0, \"#f0f921\"]], \"type\": \"heatmapgl\"}], \"histogram\": [{\"marker\": {\"colorbar\": {\"outlinewidth\": 0, \"ticks\": \"\"}}, \"type\": \"histogram\"}], \"histogram2d\": [{\"colorbar\": {\"outlinewidth\": 0, \"ticks\": \"\"}, \"colorscale\": [[0.0, \"#0d0887\"], [0.1111111111111111, \"#46039f\"], [0.2222222222222222, \"#7201a8\"], [0.3333333333333333, \"#9c179e\"], [0.4444444444444444, \"#bd3786\"], [0.5555555555555556, \"#d8576b\"], [0.6666666666666666, \"#ed7953\"], [0.7777777777777778, \"#fb9f3a\"], [0.8888888888888888, \"#fdca26\"], [1.0, \"#f0f921\"]], \"type\": \"histogram2d\"}], \"histogram2dcontour\": [{\"colorbar\": {\"outlinewidth\": 0, \"ticks\": \"\"}, \"colorscale\": [[0.0, \"#0d0887\"], [0.1111111111111111, \"#46039f\"], [0.2222222222222222, \"#7201a8\"], [0.3333333333333333, \"#9c179e\"], [0.4444444444444444, \"#bd3786\"], [0.5555555555555556, \"#d8576b\"], [0.6666666666666666, \"#ed7953\"], [0.7777777777777778, \"#fb9f3a\"], [0.8888888888888888, \"#fdca26\"], [1.0, \"#f0f921\"]], \"type\": \"histogram2dcontour\"}], \"mesh3d\": [{\"colorbar\": {\"outlinewidth\": 0, \"ticks\": \"\"}, \"type\": \"mesh3d\"}], \"parcoords\": [{\"line\": {\"colorbar\": {\"outlinewidth\": 0, \"ticks\": \"\"}}, \"type\": \"parcoords\"}], \"pie\": [{\"automargin\": true, \"type\": \"pie\"}], \"scatter\": [{\"marker\": {\"colorbar\": {\"outlinewidth\": 0, \"ticks\": \"\"}}, \"type\": \"scatter\"}], \"scatter3d\": [{\"line\": {\"colorbar\": {\"outlinewidth\": 0, \"ticks\": \"\"}}, \"marker\": {\"colorbar\": {\"outlinewidth\": 0, \"ticks\": \"\"}}, \"type\": \"scatter3d\"}], \"scattercarpet\": [{\"marker\": {\"colorbar\": {\"outlinewidth\": 0, \"ticks\": \"\"}}, \"type\": \"scattercarpet\"}], \"scattergeo\": [{\"marker\": {\"colorbar\": {\"outlinewidth\": 0, \"ticks\": \"\"}}, \"type\": \"scattergeo\"}], \"scattergl\": [{\"marker\": {\"colorbar\": {\"outlinewidth\": 0, \"ticks\": \"\"}}, \"type\": \"scattergl\"}], \"scattermapbox\": [{\"marker\": {\"colorbar\": {\"outlinewidth\": 0, \"ticks\": \"\"}}, \"type\": \"scattermapbox\"}], \"scatterpolar\": [{\"marker\": {\"colorbar\": {\"outlinewidth\": 0, \"ticks\": \"\"}}, \"type\": \"scatterpolar\"}], \"scatterpolargl\": [{\"marker\": {\"colorbar\": {\"outlinewidth\": 0, \"ticks\": \"\"}}, \"type\": \"scatterpolargl\"}], \"scatterternary\": [{\"marker\": {\"colorbar\": {\"outlinewidth\": 0, \"ticks\": \"\"}}, \"type\": \"scatterternary\"}], \"surface\": [{\"colorbar\": {\"outlinewidth\": 0, \"ticks\": \"\"}, \"colorscale\": [[0.0, \"#0d0887\"], [0.1111111111111111, \"#46039f\"], [0.2222222222222222, \"#7201a8\"], [0.3333333333333333, \"#9c179e\"], [0.4444444444444444, \"#bd3786\"], [0.5555555555555556, \"#d8576b\"], [0.6666666666666666, \"#ed7953\"], [0.7777777777777778, \"#fb9f3a\"], [0.8888888888888888, \"#fdca26\"], [1.0, \"#f0f921\"]], \"type\": \"surface\"}], \"table\": [{\"cells\": {\"fill\": {\"color\": \"#EBF0F8\"}, \"line\": {\"color\": \"white\"}}, \"header\": {\"fill\": {\"color\": \"#C8D4E3\"}, \"line\": {\"color\": \"white\"}}, \"type\": \"table\"}]}, \"layout\": {\"annotationdefaults\": {\"arrowcolor\": \"#2a3f5f\", \"arrowhead\": 0, \"arrowwidth\": 1}, \"coloraxis\": {\"colorbar\": {\"outlinewidth\": 0, \"ticks\": \"\"}}, \"colorscale\": {\"diverging\": [[0, \"#8e0152\"], [0.1, \"#c51b7d\"], [0.2, \"#de77ae\"], [0.3, \"#f1b6da\"], [0.4, \"#fde0ef\"], [0.5, \"#f7f7f7\"], [0.6, \"#e6f5d0\"], [0.7, \"#b8e186\"], [0.8, \"#7fbc41\"], [0.9, \"#4d9221\"], [1, \"#276419\"]], \"sequential\": [[0.0, \"#0d0887\"], [0.1111111111111111, \"#46039f\"], [0.2222222222222222, \"#7201a8\"], [0.3333333333333333, \"#9c179e\"], [0.4444444444444444, \"#bd3786\"], [0.5555555555555556, \"#d8576b\"], [0.6666666666666666, \"#ed7953\"], [0.7777777777777778, \"#fb9f3a\"], [0.8888888888888888, \"#fdca26\"], [1.0, \"#f0f921\"]], \"sequentialminus\": [[0.0, \"#0d0887\"], [0.1111111111111111, \"#46039f\"], [0.2222222222222222, \"#7201a8\"], [0.3333333333333333, \"#9c179e\"], [0.4444444444444444, \"#bd3786\"], [0.5555555555555556, \"#d8576b\"], [0.6666666666666666, \"#ed7953\"], [0.7777777777777778, \"#fb9f3a\"], [0.8888888888888888, \"#fdca26\"], [1.0, \"#f0f921\"]]}, \"colorway\": [\"#636efa\", \"#EF553B\", \"#00cc96\", \"#ab63fa\", \"#FFA15A\", \"#19d3f3\", \"#FF6692\", \"#B6E880\", \"#FF97FF\", \"#FECB52\"], \"font\": {\"color\": \"#2a3f5f\"}, \"geo\": {\"bgcolor\": \"white\", \"lakecolor\": \"white\", \"landcolor\": \"#E5ECF6\", \"showlakes\": true, \"showland\": true, \"subunitcolor\": \"white\"}, \"hoverlabel\": {\"align\": \"left\"}, \"hovermode\": \"closest\", \"mapbox\": {\"style\": \"light\"}, \"paper_bgcolor\": \"white\", \"plot_bgcolor\": \"#E5ECF6\", \"polar\": {\"angularaxis\": {\"gridcolor\": \"white\", \"linecolor\": \"white\", \"ticks\": \"\"}, \"bgcolor\": \"#E5ECF6\", \"radialaxis\": {\"gridcolor\": \"white\", \"linecolor\": \"white\", \"ticks\": \"\"}}, \"scene\": {\"xaxis\": {\"backgroundcolor\": \"#E5ECF6\", \"gridcolor\": \"white\", \"gridwidth\": 2, \"linecolor\": \"white\", \"showbackground\": true, \"ticks\": \"\", \"zerolinecolor\": \"white\"}, \"yaxis\": {\"backgroundcolor\": \"#E5ECF6\", \"gridcolor\": \"white\", \"gridwidth\": 2, \"linecolor\": \"white\", \"showbackground\": true, \"ticks\": \"\", \"zerolinecolor\": \"white\"}, \"zaxis\": {\"backgroundcolor\": \"#E5ECF6\", \"gridcolor\": \"white\", \"gridwidth\": 2, \"linecolor\": \"white\", \"showbackground\": true, \"ticks\": \"\", \"zerolinecolor\": \"white\"}}, \"shapedefaults\": {\"line\": {\"color\": \"#2a3f5f\"}}, \"ternary\": {\"aaxis\": {\"gridcolor\": \"white\", \"linecolor\": \"white\", \"ticks\": \"\"}, \"baxis\": {\"gridcolor\": \"white\", \"linecolor\": \"white\", \"ticks\": \"\"}, \"bgcolor\": \"#E5ECF6\", \"caxis\": {\"gridcolor\": \"white\", \"linecolor\": \"white\", \"ticks\": \"\"}}, \"title\": {\"x\": 0.05}, \"xaxis\": {\"automargin\": true, \"gridcolor\": \"white\", \"linecolor\": \"white\", \"ticks\": \"\", \"title\": {\"standoff\": 15}, \"zerolinecolor\": \"white\", \"zerolinewidth\": 2}, \"yaxis\": {\"automargin\": true, \"gridcolor\": \"white\", \"linecolor\": \"white\", \"ticks\": \"\", \"title\": {\"standoff\": 15}, \"zerolinecolor\": \"white\", \"zerolinewidth\": 2}}}, \"title\": {\"text\": \"Hyperparameter Importances\"}, \"xaxis\": {\"title\": {\"text\": \"Importance for Objective Value\"}}, \"yaxis\": {\"title\": {\"text\": \"Hyperparameter\"}}},\n",
              "                        {\"responsive\": true}\n",
              "                    ).then(function(){\n",
              "                            \n",
              "var gd = document.getElementById('c339e5b1-6cdd-420b-89db-7f62e2ec0e68');\n",
              "var x = new MutationObserver(function (mutations, observer) {{\n",
              "        var display = window.getComputedStyle(gd).display;\n",
              "        if (!display || display === 'none') {{\n",
              "            console.log([gd, 'removed!']);\n",
              "            Plotly.purge(gd);\n",
              "            observer.disconnect();\n",
              "        }}\n",
              "}});\n",
              "\n",
              "// Listen for the removal of the full notebook cells\n",
              "var notebookContainer = gd.closest('#notebook-container');\n",
              "if (notebookContainer) {{\n",
              "    x.observe(notebookContainer, {childList: true});\n",
              "}}\n",
              "\n",
              "// Listen for the clearing of the current output cell\n",
              "var outputEl = gd.closest('.output');\n",
              "if (outputEl) {{\n",
              "    x.observe(outputEl, {childList: true});\n",
              "}}\n",
              "\n",
              "                        })\n",
              "                };\n",
              "                \n",
              "            </script>\n",
              "        </div>\n",
              "</body>\n",
              "</html>"
            ]
          },
          "metadata": {
            "tags": []
          }
        }
      ]
    },
    {
      "cell_type": "code",
      "metadata": {
        "id": "JrFR5BP5PWKg"
      },
      "source": [
        "data = get_input(\"train.csv\")\n",
        "data.drop(columns='id', inplace=True)\n",
        "mapper = {'Class_1': 0, 'Class_2': 1, 'Class_3': 2, 'Class_4': 3}\n",
        "data['target'] = data['target'].map(mapper)\n",
        "target = data['target']\n",
        "data = data.drop(columns=['target'])\n",
        "\n",
        "cb_params = {\n",
        "        \"loss_function\": \"MultiClass\",\n",
        "        \"eval_metric\": \"MultiClass\",\n",
        "        \"task_type\": \"GPU\",\n",
        "        'min_data_in_leaf': 25,\n",
        "        'depth': 3,\n",
        "        'learning_rate': 0.09,\n",
        "        'random_strength' :10,\n",
        "        \"l2_leaf_reg\": 100,                       \n",
        "        'grow_policy': \"SymmetricTree\",\n",
        "        #\"thread_count\": 10,\n",
        "        \"random_seed\": 27,\n",
        "    }\n",
        "cv_result = cb.cv(\n",
        "        pool = cb.Pool(data, target),\n",
        "        params = cb_params,\n",
        "        plot=True,\n",
        "        shuffle = True,\n",
        "        stratified = True,\n",
        "        seed = 42,\n",
        "        iterations = 10000,\n",
        "        early_stopping_rounds = 100,\n",
        "        fold_count = 5,\n",
        "        as_pandas = True,\n",
        "        verbose_eval = 10\n",
        "        )"
      ],
      "execution_count": null,
      "outputs": []
    },
    {
      "cell_type": "code",
      "metadata": {
        "colab": {
          "base_uri": "https://localhost:8080/"
        },
        "id": "zgLfhw0WxEPH",
        "outputId": "1a5533f4-0684-4cba-be82-bbc88d7c442f"
      },
      "source": [
        "data = get_input(\"train.csv\")\n",
        "data.drop(columns='id', inplace=True)\n",
        "mapper = {'Class_1': 0, 'Class_2': 1, 'Class_3': 2, 'Class_4': 3}\n",
        "data['target'] = data['target'].map(mapper)\n",
        "target = data['target']\n",
        "data = data.drop(columns=['target'])\n",
        "\n",
        "cb_params = {\n",
        "    \"n_estimators\": 1700,\n",
        "    \"loss_function\": \"MultiClass\",\n",
        "    \"eval_metric\": \"MultiClass\",\n",
        "    \"task_type\": \"GPU\",\n",
        "    'min_data_in_leaf': 25,\n",
        "    'depth': 3,\n",
        "    'learning_rate': 0.09,\n",
        "    'random_strength' : 10,\n",
        "    \"l2_leaf_reg\": 100,                       \n",
        "    'grow_policy': \"SymmetricTree\",\n",
        "    \"random_seed\": 27,\n",
        "}\n",
        "\n",
        "cb_params = {\n",
        "    \"n_estimators\": 4000,\n",
        "    \"loss_function\": \"MultiClass\",\n",
        "    \"eval_metric\": \"MultiClass\",\n",
        "    \"task_type\": \"GPU\",\n",
        "    'min_data_in_leaf': 35,\n",
        "    'depth': 3,\n",
        "    'learning_rate': 0.06,\n",
        "    'random_strength' : 10,\n",
        "    \"l2_leaf_reg\": 300,                       \n",
        "    'grow_policy': \"SymmetricTree\",\n",
        "    \"random_seed\": 27,\n",
        "    \"classes_count\": 4,\n",
        "    'bootstrap_type':  'Bayesian',\n",
        "    #'bagging_temperature': 50, #for Bayesian bootstrap_type\n",
        "    #'subsample': 0.6 # for Poisson, Bernoulli, MVS bootstrap_type\n",
        "}\n",
        "\n",
        "cv = StratifiedKFold(n_splits=15, random_state=435, shuffle=True)\n",
        "\n",
        "cb_estimators, cb_oof = catboost_cv_fit(\n",
        "    cb_params, data, target, cv, #categorical=categorical_feature_names\n",
        ")"
      ],
      "execution_count": 13,
      "outputs": [
        {
          "output_type": "stream",
          "text": [
            "train.csv: shape = 100000 rows, 52 cols\n",
            "Sun May 30 13:21:15 2021, Cross-Validation, 100000 rows, 50 cols\n"
          ],
          "name": "stdout"
        },
        {
          "output_type": "stream",
          "text": [
            "Warning: less than 75% gpu memory available for training. Free: 5249.75 Total: 16280.875\n"
          ],
          "name": "stderr"
        },
        {
          "output_type": "stream",
          "text": [
            "0:\tlearn: 1.3525660\ttotal: 5.74ms\tremaining: 22.9s\n",
            "10:\tlearn: 1.1880350\ttotal: 44.6ms\tremaining: 16.2s\n",
            "20:\tlearn: 1.1387308\ttotal: 92.5ms\tremaining: 17.5s\n",
            "30:\tlearn: 1.1211052\ttotal: 131ms\tremaining: 16.8s\n",
            "40:\tlearn: 1.1144463\ttotal: 170ms\tremaining: 16.4s\n",
            "50:\tlearn: 1.1113674\ttotal: 223ms\tremaining: 17.3s\n",
            "60:\tlearn: 1.1096463\ttotal: 271ms\tremaining: 17.5s\n",
            "70:\tlearn: 1.1084172\ttotal: 310ms\tremaining: 17.1s\n",
            "80:\tlearn: 1.1073541\ttotal: 349ms\tremaining: 16.9s\n",
            "90:\tlearn: 1.1064302\ttotal: 388ms\tremaining: 16.7s\n",
            "100:\tlearn: 1.1056999\ttotal: 436ms\tremaining: 16.8s\n",
            "110:\tlearn: 1.1050359\ttotal: 472ms\tremaining: 16.5s\n",
            "120:\tlearn: 1.1042278\ttotal: 514ms\tremaining: 16.5s\n",
            "130:\tlearn: 1.1036936\ttotal: 550ms\tremaining: 16.2s\n",
            "140:\tlearn: 1.1031845\ttotal: 593ms\tremaining: 16.2s\n",
            "150:\tlearn: 1.1027435\ttotal: 629ms\tremaining: 16s\n",
            "160:\tlearn: 1.1023729\ttotal: 666ms\tremaining: 15.9s\n",
            "170:\tlearn: 1.1019932\ttotal: 702ms\tremaining: 15.7s\n",
            "180:\tlearn: 1.1013862\ttotal: 741ms\tremaining: 15.6s\n",
            "190:\tlearn: 1.1008386\ttotal: 796ms\tremaining: 15.9s\n",
            "200:\tlearn: 1.1004248\ttotal: 834ms\tremaining: 15.8s\n",
            "210:\tlearn: 1.1000450\ttotal: 876ms\tremaining: 15.7s\n",
            "220:\tlearn: 1.0996158\ttotal: 914ms\tremaining: 15.6s\n",
            "230:\tlearn: 1.0993315\ttotal: 960ms\tremaining: 15.7s\n",
            "240:\tlearn: 1.0990474\ttotal: 998ms\tremaining: 15.6s\n",
            "250:\tlearn: 1.0986108\ttotal: 1.04s\tremaining: 15.5s\n",
            "260:\tlearn: 1.0981590\ttotal: 1.08s\tremaining: 15.5s\n",
            "270:\tlearn: 1.0977798\ttotal: 1.12s\tremaining: 15.4s\n",
            "280:\tlearn: 1.0974801\ttotal: 1.16s\tremaining: 15.4s\n",
            "290:\tlearn: 1.0971971\ttotal: 1.2s\tremaining: 15.3s\n",
            "300:\tlearn: 1.0968656\ttotal: 1.24s\tremaining: 15.2s\n",
            "310:\tlearn: 1.0965472\ttotal: 1.27s\tremaining: 15.1s\n",
            "320:\tlearn: 1.0962524\ttotal: 1.32s\tremaining: 15.1s\n",
            "330:\tlearn: 1.0959731\ttotal: 1.35s\tremaining: 15s\n",
            "340:\tlearn: 1.0956994\ttotal: 1.39s\tremaining: 15s\n",
            "350:\tlearn: 1.0953999\ttotal: 1.43s\tremaining: 14.9s\n",
            "360:\tlearn: 1.0950769\ttotal: 1.48s\tremaining: 14.9s\n",
            "370:\tlearn: 1.0948234\ttotal: 1.52s\tremaining: 14.9s\n",
            "380:\tlearn: 1.0945565\ttotal: 1.56s\tremaining: 14.8s\n",
            "390:\tlearn: 1.0943395\ttotal: 1.6s\tremaining: 14.8s\n",
            "400:\tlearn: 1.0941353\ttotal: 1.64s\tremaining: 14.7s\n",
            "410:\tlearn: 1.0939715\ttotal: 1.68s\tremaining: 14.7s\n",
            "420:\tlearn: 1.0937782\ttotal: 1.72s\tremaining: 14.6s\n",
            "430:\tlearn: 1.0936232\ttotal: 1.76s\tremaining: 14.6s\n",
            "440:\tlearn: 1.0933858\ttotal: 1.81s\tremaining: 14.6s\n",
            "450:\tlearn: 1.0931797\ttotal: 1.84s\tremaining: 14.5s\n",
            "460:\tlearn: 1.0929380\ttotal: 1.88s\tremaining: 14.4s\n",
            "470:\tlearn: 1.0926856\ttotal: 1.92s\tremaining: 14.4s\n",
            "480:\tlearn: 1.0925669\ttotal: 1.96s\tremaining: 14.3s\n",
            "490:\tlearn: 1.0923997\ttotal: 1.99s\tremaining: 14.2s\n",
            "500:\tlearn: 1.0921999\ttotal: 2.03s\tremaining: 14.2s\n",
            "510:\tlearn: 1.0920756\ttotal: 2.06s\tremaining: 14.1s\n",
            "520:\tlearn: 1.0919259\ttotal: 2.1s\tremaining: 14s\n",
            "530:\tlearn: 1.0917573\ttotal: 2.13s\tremaining: 13.9s\n",
            "540:\tlearn: 1.0915556\ttotal: 2.19s\tremaining: 14s\n",
            "550:\tlearn: 1.0913406\ttotal: 2.22s\tremaining: 13.9s\n",
            "560:\tlearn: 1.0912430\ttotal: 2.27s\tremaining: 13.9s\n",
            "570:\tlearn: 1.0911181\ttotal: 2.3s\tremaining: 13.8s\n",
            "580:\tlearn: 1.0909406\ttotal: 2.34s\tremaining: 13.8s\n",
            "590:\tlearn: 1.0907836\ttotal: 2.38s\tremaining: 13.7s\n",
            "600:\tlearn: 1.0906067\ttotal: 2.42s\tremaining: 13.7s\n",
            "610:\tlearn: 1.0904803\ttotal: 2.46s\tremaining: 13.7s\n",
            "620:\tlearn: 1.0903353\ttotal: 2.5s\tremaining: 13.6s\n",
            "630:\tlearn: 1.0902267\ttotal: 2.54s\tremaining: 13.6s\n",
            "640:\tlearn: 1.0900734\ttotal: 2.58s\tremaining: 13.5s\n",
            "650:\tlearn: 1.0899822\ttotal: 2.62s\tremaining: 13.5s\n",
            "660:\tlearn: 1.0898701\ttotal: 2.66s\tremaining: 13.4s\n",
            "670:\tlearn: 1.0897623\ttotal: 2.7s\tremaining: 13.4s\n",
            "680:\tlearn: 1.0896250\ttotal: 2.74s\tremaining: 13.4s\n",
            "690:\tlearn: 1.0895104\ttotal: 2.79s\tremaining: 13.4s\n",
            "700:\tlearn: 1.0893772\ttotal: 2.83s\tremaining: 13.3s\n",
            "710:\tlearn: 1.0892142\ttotal: 2.88s\tremaining: 13.3s\n",
            "720:\tlearn: 1.0891045\ttotal: 2.92s\tremaining: 13.3s\n",
            "730:\tlearn: 1.0890056\ttotal: 2.96s\tremaining: 13.2s\n",
            "740:\tlearn: 1.0889108\ttotal: 3s\tremaining: 13.2s\n",
            "750:\tlearn: 1.0888361\ttotal: 3.03s\tremaining: 13.1s\n",
            "760:\tlearn: 1.0887213\ttotal: 3.07s\tremaining: 13.1s\n",
            "770:\tlearn: 1.0886295\ttotal: 3.11s\tremaining: 13s\n",
            "780:\tlearn: 1.0885347\ttotal: 3.16s\tremaining: 13s\n",
            "790:\tlearn: 1.0884606\ttotal: 3.19s\tremaining: 13s\n",
            "800:\tlearn: 1.0883493\ttotal: 3.25s\tremaining: 13s\n",
            "810:\tlearn: 1.0882671\ttotal: 3.28s\tremaining: 12.9s\n",
            "820:\tlearn: 1.0881565\ttotal: 3.33s\tremaining: 12.9s\n",
            "830:\tlearn: 1.0880799\ttotal: 3.37s\tremaining: 12.8s\n",
            "840:\tlearn: 1.0880162\ttotal: 3.4s\tremaining: 12.8s\n",
            "850:\tlearn: 1.0878968\ttotal: 3.45s\tremaining: 12.8s\n",
            "860:\tlearn: 1.0877966\ttotal: 3.49s\tremaining: 12.7s\n",
            "870:\tlearn: 1.0877262\ttotal: 3.53s\tremaining: 12.7s\n",
            "880:\tlearn: 1.0876715\ttotal: 3.57s\tremaining: 12.6s\n",
            "890:\tlearn: 1.0875948\ttotal: 3.61s\tremaining: 12.6s\n",
            "900:\tlearn: 1.0875205\ttotal: 3.65s\tremaining: 12.5s\n",
            "910:\tlearn: 1.0874193\ttotal: 3.68s\tremaining: 12.5s\n",
            "920:\tlearn: 1.0873471\ttotal: 3.72s\tremaining: 12.4s\n",
            "930:\tlearn: 1.0872685\ttotal: 3.78s\tremaining: 12.4s\n",
            "940:\tlearn: 1.0871974\ttotal: 3.82s\tremaining: 12.4s\n",
            "950:\tlearn: 1.0871487\ttotal: 3.86s\tremaining: 12.4s\n",
            "960:\tlearn: 1.0870628\ttotal: 3.9s\tremaining: 12.3s\n",
            "970:\tlearn: 1.0869775\ttotal: 3.94s\tremaining: 12.3s\n",
            "980:\tlearn: 1.0869004\ttotal: 3.98s\tremaining: 12.2s\n",
            "990:\tlearn: 1.0868116\ttotal: 4.02s\tremaining: 12.2s\n",
            "1000:\tlearn: 1.0867617\ttotal: 4.06s\tremaining: 12.2s\n",
            "1010:\tlearn: 1.0867040\ttotal: 4.1s\tremaining: 12.1s\n",
            "1020:\tlearn: 1.0866166\ttotal: 4.13s\tremaining: 12.1s\n",
            "1030:\tlearn: 1.0865477\ttotal: 4.17s\tremaining: 12s\n",
            "1040:\tlearn: 1.0864691\ttotal: 4.21s\tremaining: 12s\n",
            "1050:\tlearn: 1.0864081\ttotal: 4.25s\tremaining: 11.9s\n",
            "1060:\tlearn: 1.0863448\ttotal: 4.29s\tremaining: 11.9s\n",
            "1070:\tlearn: 1.0862804\ttotal: 4.33s\tremaining: 11.8s\n",
            "1080:\tlearn: 1.0862350\ttotal: 4.37s\tremaining: 11.8s\n",
            "1090:\tlearn: 1.0861679\ttotal: 4.41s\tremaining: 11.8s\n",
            "1100:\tlearn: 1.0861044\ttotal: 4.45s\tremaining: 11.7s\n",
            "1110:\tlearn: 1.0860569\ttotal: 4.49s\tremaining: 11.7s\n",
            "1120:\tlearn: 1.0860015\ttotal: 4.53s\tremaining: 11.6s\n",
            "1130:\tlearn: 1.0859450\ttotal: 4.57s\tremaining: 11.6s\n",
            "1140:\tlearn: 1.0858943\ttotal: 4.6s\tremaining: 11.5s\n",
            "1150:\tlearn: 1.0858099\ttotal: 4.64s\tremaining: 11.5s\n",
            "1160:\tlearn: 1.0857393\ttotal: 4.68s\tremaining: 11.5s\n",
            "1170:\tlearn: 1.0856675\ttotal: 4.73s\tremaining: 11.4s\n",
            "1180:\tlearn: 1.0855883\ttotal: 4.78s\tremaining: 11.4s\n",
            "1190:\tlearn: 1.0855324\ttotal: 4.81s\tremaining: 11.4s\n",
            "1200:\tlearn: 1.0854839\ttotal: 4.86s\tremaining: 11.3s\n",
            "1210:\tlearn: 1.0854424\ttotal: 4.9s\tremaining: 11.3s\n",
            "1220:\tlearn: 1.0853712\ttotal: 4.96s\tremaining: 11.3s\n",
            "1230:\tlearn: 1.0853182\ttotal: 5s\tremaining: 11.3s\n",
            "1240:\tlearn: 1.0852504\ttotal: 5.04s\tremaining: 11.2s\n",
            "1250:\tlearn: 1.0851924\ttotal: 5.08s\tremaining: 11.2s\n",
            "1260:\tlearn: 1.0851376\ttotal: 5.12s\tremaining: 11.1s\n",
            "1270:\tlearn: 1.0850679\ttotal: 5.16s\tremaining: 11.1s\n",
            "1280:\tlearn: 1.0850146\ttotal: 5.2s\tremaining: 11s\n",
            "1290:\tlearn: 1.0849326\ttotal: 5.24s\tremaining: 11s\n",
            "1300:\tlearn: 1.0848601\ttotal: 5.28s\tremaining: 11s\n",
            "1310:\tlearn: 1.0848116\ttotal: 5.32s\tremaining: 10.9s\n",
            "1320:\tlearn: 1.0847573\ttotal: 5.36s\tremaining: 10.9s\n",
            "1330:\tlearn: 1.0847234\ttotal: 5.4s\tremaining: 10.8s\n",
            "1340:\tlearn: 1.0846586\ttotal: 5.44s\tremaining: 10.8s\n",
            "1350:\tlearn: 1.0846036\ttotal: 5.48s\tremaining: 10.7s\n",
            "1360:\tlearn: 1.0845626\ttotal: 5.51s\tremaining: 10.7s\n",
            "1370:\tlearn: 1.0845023\ttotal: 5.55s\tremaining: 10.6s\n",
            "1380:\tlearn: 1.0844502\ttotal: 5.59s\tremaining: 10.6s\n",
            "1390:\tlearn: 1.0844092\ttotal: 5.63s\tremaining: 10.6s\n",
            "1400:\tlearn: 1.0843549\ttotal: 5.67s\tremaining: 10.5s\n",
            "1410:\tlearn: 1.0842913\ttotal: 5.71s\tremaining: 10.5s\n",
            "1420:\tlearn: 1.0842420\ttotal: 5.75s\tremaining: 10.4s\n",
            "1430:\tlearn: 1.0841833\ttotal: 5.8s\tremaining: 10.4s\n",
            "1440:\tlearn: 1.0841070\ttotal: 5.84s\tremaining: 10.4s\n",
            "1450:\tlearn: 1.0840423\ttotal: 5.88s\tremaining: 10.3s\n",
            "1460:\tlearn: 1.0839881\ttotal: 5.92s\tremaining: 10.3s\n",
            "1470:\tlearn: 1.0839348\ttotal: 5.96s\tremaining: 10.2s\n",
            "1480:\tlearn: 1.0838814\ttotal: 5.99s\tremaining: 10.2s\n",
            "1490:\tlearn: 1.0838534\ttotal: 6.04s\tremaining: 10.2s\n",
            "1500:\tlearn: 1.0838163\ttotal: 6.07s\tremaining: 10.1s\n",
            "1510:\tlearn: 1.0837740\ttotal: 6.11s\tremaining: 10.1s\n",
            "1520:\tlearn: 1.0837351\ttotal: 6.15s\tremaining: 10s\n",
            "1530:\tlearn: 1.0836902\ttotal: 6.19s\tremaining: 9.98s\n",
            "1540:\tlearn: 1.0836291\ttotal: 6.23s\tremaining: 9.94s\n",
            "1550:\tlearn: 1.0835526\ttotal: 6.27s\tremaining: 9.9s\n",
            "1560:\tlearn: 1.0834955\ttotal: 6.31s\tremaining: 9.85s\n",
            "1570:\tlearn: 1.0834544\ttotal: 6.34s\tremaining: 9.81s\n",
            "1580:\tlearn: 1.0834037\ttotal: 6.39s\tremaining: 9.78s\n",
            "1590:\tlearn: 1.0833569\ttotal: 6.43s\tremaining: 9.73s\n",
            "1600:\tlearn: 1.0833035\ttotal: 6.48s\tremaining: 9.71s\n",
            "1610:\tlearn: 1.0832606\ttotal: 6.52s\tremaining: 9.66s\n",
            "1620:\tlearn: 1.0832114\ttotal: 6.55s\tremaining: 9.62s\n",
            "1630:\tlearn: 1.0831498\ttotal: 6.59s\tremaining: 9.58s\n",
            "1640:\tlearn: 1.0831128\ttotal: 6.63s\tremaining: 9.53s\n",
            "1650:\tlearn: 1.0830646\ttotal: 6.67s\tremaining: 9.49s\n",
            "1660:\tlearn: 1.0830173\ttotal: 6.71s\tremaining: 9.45s\n",
            "1670:\tlearn: 1.0829553\ttotal: 6.75s\tremaining: 9.41s\n",
            "1680:\tlearn: 1.0829269\ttotal: 6.8s\tremaining: 9.38s\n",
            "1690:\tlearn: 1.0828778\ttotal: 6.83s\tremaining: 9.33s\n",
            "1700:\tlearn: 1.0828371\ttotal: 6.87s\tremaining: 9.29s\n",
            "1710:\tlearn: 1.0827963\ttotal: 6.91s\tremaining: 9.25s\n",
            "1720:\tlearn: 1.0827575\ttotal: 6.95s\tremaining: 9.21s\n",
            "1730:\tlearn: 1.0827130\ttotal: 6.99s\tremaining: 9.17s\n",
            "1740:\tlearn: 1.0826739\ttotal: 7.03s\tremaining: 9.12s\n",
            "1750:\tlearn: 1.0826341\ttotal: 7.07s\tremaining: 9.08s\n",
            "1760:\tlearn: 1.0825947\ttotal: 7.11s\tremaining: 9.03s\n",
            "1770:\tlearn: 1.0825376\ttotal: 7.15s\tremaining: 9s\n",
            "1780:\tlearn: 1.0824944\ttotal: 7.19s\tremaining: 8.96s\n",
            "1790:\tlearn: 1.0824519\ttotal: 7.23s\tremaining: 8.92s\n",
            "1800:\tlearn: 1.0824068\ttotal: 7.27s\tremaining: 8.87s\n",
            "1810:\tlearn: 1.0823795\ttotal: 7.3s\tremaining: 8.83s\n",
            "1820:\tlearn: 1.0823331\ttotal: 7.34s\tremaining: 8.79s\n",
            "1830:\tlearn: 1.0822819\ttotal: 7.39s\tremaining: 8.75s\n",
            "1840:\tlearn: 1.0822232\ttotal: 7.42s\tremaining: 8.71s\n",
            "1850:\tlearn: 1.0821769\ttotal: 7.46s\tremaining: 8.67s\n",
            "1860:\tlearn: 1.0821209\ttotal: 7.5s\tremaining: 8.63s\n",
            "1870:\tlearn: 1.0820826\ttotal: 7.54s\tremaining: 8.58s\n",
            "1880:\tlearn: 1.0820433\ttotal: 7.58s\tremaining: 8.54s\n",
            "1890:\tlearn: 1.0820097\ttotal: 7.62s\tremaining: 8.5s\n",
            "1900:\tlearn: 1.0819738\ttotal: 7.66s\tremaining: 8.46s\n",
            "1910:\tlearn: 1.0819412\ttotal: 7.7s\tremaining: 8.42s\n",
            "1920:\tlearn: 1.0818990\ttotal: 7.74s\tremaining: 8.37s\n",
            "1930:\tlearn: 1.0818442\ttotal: 7.79s\tremaining: 8.34s\n",
            "1940:\tlearn: 1.0818111\ttotal: 7.83s\tremaining: 8.31s\n",
            "1950:\tlearn: 1.0817725\ttotal: 7.87s\tremaining: 8.27s\n",
            "1960:\tlearn: 1.0817215\ttotal: 7.91s\tremaining: 8.22s\n",
            "1970:\tlearn: 1.0816725\ttotal: 7.95s\tremaining: 8.18s\n",
            "1980:\tlearn: 1.0816384\ttotal: 7.99s\tremaining: 8.14s\n",
            "1990:\tlearn: 1.0816156\ttotal: 8.03s\tremaining: 8.1s\n",
            "2000:\tlearn: 1.0815795\ttotal: 8.07s\tremaining: 8.06s\n",
            "2010:\tlearn: 1.0815407\ttotal: 8.11s\tremaining: 8.02s\n",
            "2020:\tlearn: 1.0814886\ttotal: 8.15s\tremaining: 7.98s\n",
            "2030:\tlearn: 1.0814515\ttotal: 8.19s\tremaining: 7.94s\n",
            "2040:\tlearn: 1.0814174\ttotal: 8.23s\tremaining: 7.9s\n",
            "2050:\tlearn: 1.0813977\ttotal: 8.27s\tremaining: 7.86s\n",
            "2060:\tlearn: 1.0813590\ttotal: 8.31s\tremaining: 7.82s\n",
            "2070:\tlearn: 1.0813200\ttotal: 8.35s\tremaining: 7.78s\n",
            "2080:\tlearn: 1.0812829\ttotal: 8.39s\tremaining: 7.74s\n",
            "2090:\tlearn: 1.0812559\ttotal: 8.43s\tremaining: 7.69s\n",
            "2100:\tlearn: 1.0812149\ttotal: 8.46s\tremaining: 7.65s\n",
            "2110:\tlearn: 1.0811573\ttotal: 8.51s\tremaining: 7.61s\n",
            "2120:\tlearn: 1.0811355\ttotal: 8.54s\tremaining: 7.57s\n",
            "2130:\tlearn: 1.0810929\ttotal: 8.58s\tremaining: 7.53s\n",
            "2140:\tlearn: 1.0810562\ttotal: 8.62s\tremaining: 7.49s\n",
            "2150:\tlearn: 1.0810087\ttotal: 8.67s\tremaining: 7.45s\n",
            "2160:\tlearn: 1.0809589\ttotal: 8.71s\tremaining: 7.41s\n",
            "2170:\tlearn: 1.0809245\ttotal: 8.76s\tremaining: 7.38s\n",
            "2180:\tlearn: 1.0808926\ttotal: 8.8s\tremaining: 7.34s\n",
            "2190:\tlearn: 1.0808628\ttotal: 8.83s\tremaining: 7.29s\n",
            "2200:\tlearn: 1.0808338\ttotal: 8.87s\tremaining: 7.25s\n",
            "2210:\tlearn: 1.0807956\ttotal: 8.91s\tremaining: 7.21s\n",
            "2220:\tlearn: 1.0807543\ttotal: 8.95s\tremaining: 7.17s\n",
            "2230:\tlearn: 1.0807146\ttotal: 8.99s\tremaining: 7.13s\n",
            "2240:\tlearn: 1.0806806\ttotal: 9.04s\tremaining: 7.09s\n",
            "2250:\tlearn: 1.0806379\ttotal: 9.07s\tremaining: 7.05s\n",
            "2260:\tlearn: 1.0805952\ttotal: 9.13s\tremaining: 7.02s\n",
            "2270:\tlearn: 1.0805560\ttotal: 9.16s\tremaining: 6.98s\n",
            "2280:\tlearn: 1.0805335\ttotal: 9.2s\tremaining: 6.93s\n",
            "2290:\tlearn: 1.0804854\ttotal: 9.24s\tremaining: 6.89s\n",
            "2300:\tlearn: 1.0804513\ttotal: 9.28s\tremaining: 6.85s\n",
            "2310:\tlearn: 1.0804092\ttotal: 9.31s\tremaining: 6.81s\n",
            "2320:\tlearn: 1.0803593\ttotal: 9.36s\tremaining: 6.77s\n",
            "2330:\tlearn: 1.0803170\ttotal: 9.4s\tremaining: 6.73s\n",
            "2340:\tlearn: 1.0802520\ttotal: 9.43s\tremaining: 6.69s\n",
            "2350:\tlearn: 1.0802121\ttotal: 9.47s\tremaining: 6.64s\n",
            "2360:\tlearn: 1.0801858\ttotal: 9.51s\tremaining: 6.6s\n",
            "2370:\tlearn: 1.0801340\ttotal: 9.55s\tremaining: 6.56s\n",
            "2380:\tlearn: 1.0800895\ttotal: 9.59s\tremaining: 6.52s\n",
            "2390:\tlearn: 1.0800596\ttotal: 9.63s\tremaining: 6.48s\n",
            "2400:\tlearn: 1.0800236\ttotal: 9.66s\tremaining: 6.43s\n",
            "2410:\tlearn: 1.0799876\ttotal: 9.7s\tremaining: 6.39s\n",
            "2420:\tlearn: 1.0799479\ttotal: 9.75s\tremaining: 6.36s\n",
            "2430:\tlearn: 1.0799008\ttotal: 9.8s\tremaining: 6.32s\n",
            "2440:\tlearn: 1.0798515\ttotal: 9.83s\tremaining: 6.28s\n",
            "2450:\tlearn: 1.0798143\ttotal: 9.87s\tremaining: 6.24s\n",
            "2460:\tlearn: 1.0797796\ttotal: 9.91s\tremaining: 6.2s\n",
            "2470:\tlearn: 1.0797453\ttotal: 9.95s\tremaining: 6.15s\n",
            "2480:\tlearn: 1.0797104\ttotal: 9.99s\tremaining: 6.11s\n",
            "2490:\tlearn: 1.0796823\ttotal: 10s\tremaining: 6.07s\n",
            "2500:\tlearn: 1.0796431\ttotal: 10.1s\tremaining: 6.04s\n",
            "2510:\tlearn: 1.0796198\ttotal: 10.1s\tremaining: 5.99s\n",
            "2520:\tlearn: 1.0795822\ttotal: 10.1s\tremaining: 5.95s\n",
            "2530:\tlearn: 1.0795567\ttotal: 10.2s\tremaining: 5.91s\n",
            "2540:\tlearn: 1.0795195\ttotal: 10.2s\tremaining: 5.87s\n",
            "2550:\tlearn: 1.0794979\ttotal: 10.3s\tremaining: 5.83s\n",
            "2560:\tlearn: 1.0794697\ttotal: 10.3s\tremaining: 5.79s\n",
            "2570:\tlearn: 1.0794284\ttotal: 10.3s\tremaining: 5.75s\n",
            "2580:\tlearn: 1.0793942\ttotal: 10.4s\tremaining: 5.71s\n",
            "2590:\tlearn: 1.0793482\ttotal: 10.4s\tremaining: 5.67s\n",
            "2600:\tlearn: 1.0793104\ttotal: 10.5s\tremaining: 5.62s\n",
            "2610:\tlearn: 1.0792831\ttotal: 10.5s\tremaining: 5.59s\n",
            "2620:\tlearn: 1.0792496\ttotal: 10.5s\tremaining: 5.55s\n",
            "2630:\tlearn: 1.0792112\ttotal: 10.6s\tremaining: 5.51s\n",
            "2640:\tlearn: 1.0791566\ttotal: 10.6s\tremaining: 5.47s\n",
            "2650:\tlearn: 1.0791293\ttotal: 10.7s\tremaining: 5.42s\n",
            "2660:\tlearn: 1.0791011\ttotal: 10.7s\tremaining: 5.38s\n",
            "2670:\tlearn: 1.0790735\ttotal: 10.8s\tremaining: 5.35s\n",
            "2680:\tlearn: 1.0790487\ttotal: 10.8s\tremaining: 5.31s\n",
            "2690:\tlearn: 1.0790187\ttotal: 10.8s\tremaining: 5.27s\n",
            "2700:\tlearn: 1.0789830\ttotal: 10.9s\tremaining: 5.23s\n",
            "2710:\tlearn: 1.0789354\ttotal: 10.9s\tremaining: 5.19s\n",
            "2720:\tlearn: 1.0789089\ttotal: 10.9s\tremaining: 5.15s\n",
            "2730:\tlearn: 1.0788701\ttotal: 11s\tremaining: 5.11s\n",
            "2740:\tlearn: 1.0788409\ttotal: 11s\tremaining: 5.07s\n",
            "2750:\tlearn: 1.0788037\ttotal: 11.1s\tremaining: 5.02s\n",
            "2760:\tlearn: 1.0787666\ttotal: 11.1s\tremaining: 4.98s\n",
            "2770:\tlearn: 1.0787266\ttotal: 11.1s\tremaining: 4.94s\n",
            "2780:\tlearn: 1.0786868\ttotal: 11.2s\tremaining: 4.9s\n",
            "2790:\tlearn: 1.0786477\ttotal: 11.2s\tremaining: 4.86s\n",
            "2800:\tlearn: 1.0786193\ttotal: 11.3s\tremaining: 4.82s\n",
            "2810:\tlearn: 1.0785870\ttotal: 11.3s\tremaining: 4.78s\n",
            "2820:\tlearn: 1.0785523\ttotal: 11.3s\tremaining: 4.74s\n",
            "2830:\tlearn: 1.0785141\ttotal: 11.4s\tremaining: 4.7s\n",
            "2840:\tlearn: 1.0784865\ttotal: 11.4s\tremaining: 4.66s\n",
            "2850:\tlearn: 1.0784509\ttotal: 11.5s\tremaining: 4.62s\n",
            "2860:\tlearn: 1.0784175\ttotal: 11.5s\tremaining: 4.58s\n",
            "2870:\tlearn: 1.0783808\ttotal: 11.5s\tremaining: 4.54s\n",
            "2880:\tlearn: 1.0783493\ttotal: 11.6s\tremaining: 4.5s\n",
            "2890:\tlearn: 1.0783229\ttotal: 11.6s\tremaining: 4.46s\n",
            "2900:\tlearn: 1.0782885\ttotal: 11.7s\tremaining: 4.41s\n",
            "2910:\tlearn: 1.0782519\ttotal: 11.7s\tremaining: 4.38s\n",
            "2920:\tlearn: 1.0782197\ttotal: 11.8s\tremaining: 4.34s\n",
            "2930:\tlearn: 1.0781862\ttotal: 11.8s\tremaining: 4.3s\n",
            "2940:\tlearn: 1.0781573\ttotal: 11.8s\tremaining: 4.26s\n",
            "2950:\tlearn: 1.0781285\ttotal: 11.9s\tremaining: 4.22s\n",
            "2960:\tlearn: 1.0780985\ttotal: 11.9s\tremaining: 4.18s\n",
            "2970:\tlearn: 1.0780620\ttotal: 11.9s\tremaining: 4.14s\n",
            "2980:\tlearn: 1.0780188\ttotal: 12s\tremaining: 4.1s\n",
            "2990:\tlearn: 1.0779846\ttotal: 12s\tremaining: 4.06s\n",
            "3000:\tlearn: 1.0779513\ttotal: 12.1s\tremaining: 4.02s\n",
            "3010:\tlearn: 1.0779194\ttotal: 12.1s\tremaining: 3.98s\n",
            "3020:\tlearn: 1.0778818\ttotal: 12.2s\tremaining: 3.94s\n",
            "3030:\tlearn: 1.0778386\ttotal: 12.2s\tremaining: 3.9s\n",
            "3040:\tlearn: 1.0778062\ttotal: 12.2s\tremaining: 3.86s\n",
            "3050:\tlearn: 1.0777564\ttotal: 12.3s\tremaining: 3.82s\n",
            "3060:\tlearn: 1.0777256\ttotal: 12.3s\tremaining: 3.78s\n",
            "3070:\tlearn: 1.0776906\ttotal: 12.4s\tremaining: 3.74s\n",
            "3080:\tlearn: 1.0776659\ttotal: 12.4s\tremaining: 3.7s\n",
            "3090:\tlearn: 1.0776372\ttotal: 12.4s\tremaining: 3.65s\n",
            "3100:\tlearn: 1.0776245\ttotal: 12.5s\tremaining: 3.61s\n",
            "3110:\tlearn: 1.0775852\ttotal: 12.5s\tremaining: 3.57s\n",
            "3120:\tlearn: 1.0775463\ttotal: 12.5s\tremaining: 3.53s\n",
            "3130:\tlearn: 1.0775079\ttotal: 12.6s\tremaining: 3.49s\n",
            "3140:\tlearn: 1.0774810\ttotal: 12.6s\tremaining: 3.45s\n",
            "3150:\tlearn: 1.0774466\ttotal: 12.7s\tremaining: 3.41s\n",
            "3160:\tlearn: 1.0774075\ttotal: 12.7s\tremaining: 3.37s\n",
            "3170:\tlearn: 1.0773754\ttotal: 12.7s\tremaining: 3.33s\n",
            "3180:\tlearn: 1.0773280\ttotal: 12.8s\tremaining: 3.29s\n",
            "3190:\tlearn: 1.0773041\ttotal: 12.8s\tremaining: 3.25s\n",
            "3200:\tlearn: 1.0772746\ttotal: 12.9s\tremaining: 3.21s\n",
            "3210:\tlearn: 1.0772498\ttotal: 12.9s\tremaining: 3.17s\n",
            "3220:\tlearn: 1.0772156\ttotal: 12.9s\tremaining: 3.13s\n",
            "3230:\tlearn: 1.0771823\ttotal: 13s\tremaining: 3.09s\n",
            "3240:\tlearn: 1.0771538\ttotal: 13s\tremaining: 3.05s\n",
            "3250:\tlearn: 1.0771314\ttotal: 13.1s\tremaining: 3.01s\n",
            "3260:\tlearn: 1.0771091\ttotal: 13.1s\tremaining: 2.97s\n",
            "3270:\tlearn: 1.0770772\ttotal: 13.1s\tremaining: 2.93s\n",
            "3280:\tlearn: 1.0770439\ttotal: 13.2s\tremaining: 2.89s\n",
            "3290:\tlearn: 1.0770180\ttotal: 13.2s\tremaining: 2.85s\n",
            "3300:\tlearn: 1.0769907\ttotal: 13.3s\tremaining: 2.81s\n",
            "3310:\tlearn: 1.0769654\ttotal: 13.3s\tremaining: 2.77s\n",
            "3320:\tlearn: 1.0769312\ttotal: 13.3s\tremaining: 2.73s\n",
            "3330:\tlearn: 1.0768946\ttotal: 13.4s\tremaining: 2.69s\n",
            "3340:\tlearn: 1.0768480\ttotal: 13.4s\tremaining: 2.64s\n",
            "3350:\tlearn: 1.0768129\ttotal: 13.4s\tremaining: 2.6s\n",
            "3360:\tlearn: 1.0767815\ttotal: 13.5s\tremaining: 2.56s\n",
            "3370:\tlearn: 1.0767592\ttotal: 13.5s\tremaining: 2.52s\n",
            "3380:\tlearn: 1.0767265\ttotal: 13.6s\tremaining: 2.48s\n",
            "3390:\tlearn: 1.0766992\ttotal: 13.6s\tremaining: 2.44s\n",
            "3400:\tlearn: 1.0766634\ttotal: 13.6s\tremaining: 2.4s\n",
            "3410:\tlearn: 1.0766414\ttotal: 13.7s\tremaining: 2.36s\n",
            "3420:\tlearn: 1.0766110\ttotal: 13.7s\tremaining: 2.32s\n",
            "3430:\tlearn: 1.0765780\ttotal: 13.8s\tremaining: 2.29s\n",
            "3440:\tlearn: 1.0765440\ttotal: 13.8s\tremaining: 2.25s\n",
            "3450:\tlearn: 1.0765132\ttotal: 13.9s\tremaining: 2.21s\n",
            "3460:\tlearn: 1.0764886\ttotal: 13.9s\tremaining: 2.17s\n",
            "3470:\tlearn: 1.0764628\ttotal: 14s\tremaining: 2.13s\n",
            "3480:\tlearn: 1.0764313\ttotal: 14s\tremaining: 2.09s\n",
            "3490:\tlearn: 1.0764022\ttotal: 14s\tremaining: 2.05s\n",
            "3500:\tlearn: 1.0763727\ttotal: 14.1s\tremaining: 2.01s\n",
            "3510:\tlearn: 1.0763500\ttotal: 14.1s\tremaining: 1.97s\n",
            "3520:\tlearn: 1.0763234\ttotal: 14.2s\tremaining: 1.93s\n",
            "3530:\tlearn: 1.0762918\ttotal: 14.2s\tremaining: 1.89s\n",
            "3540:\tlearn: 1.0762620\ttotal: 14.2s\tremaining: 1.85s\n",
            "3550:\tlearn: 1.0762291\ttotal: 14.3s\tremaining: 1.8s\n",
            "3560:\tlearn: 1.0761913\ttotal: 14.3s\tremaining: 1.76s\n",
            "3570:\tlearn: 1.0761700\ttotal: 14.4s\tremaining: 1.72s\n",
            "3580:\tlearn: 1.0761405\ttotal: 14.4s\tremaining: 1.68s\n",
            "3590:\tlearn: 1.0761126\ttotal: 14.4s\tremaining: 1.64s\n",
            "3600:\tlearn: 1.0760756\ttotal: 14.5s\tremaining: 1.6s\n",
            "3610:\tlearn: 1.0760420\ttotal: 14.5s\tremaining: 1.56s\n",
            "3620:\tlearn: 1.0760083\ttotal: 14.6s\tremaining: 1.52s\n",
            "3630:\tlearn: 1.0759785\ttotal: 14.6s\tremaining: 1.48s\n",
            "3640:\tlearn: 1.0759581\ttotal: 14.6s\tremaining: 1.44s\n",
            "3650:\tlearn: 1.0759198\ttotal: 14.7s\tremaining: 1.4s\n",
            "3660:\tlearn: 1.0758891\ttotal: 14.7s\tremaining: 1.36s\n",
            "3670:\tlearn: 1.0758510\ttotal: 14.8s\tremaining: 1.32s\n",
            "3680:\tlearn: 1.0758271\ttotal: 14.8s\tremaining: 1.28s\n",
            "3690:\tlearn: 1.0757853\ttotal: 14.8s\tremaining: 1.24s\n",
            "3700:\tlearn: 1.0757534\ttotal: 14.9s\tremaining: 1.2s\n",
            "3710:\tlearn: 1.0757282\ttotal: 14.9s\tremaining: 1.16s\n",
            "3720:\tlearn: 1.0757041\ttotal: 15s\tremaining: 1.12s\n",
            "3730:\tlearn: 1.0756574\ttotal: 15s\tremaining: 1.08s\n",
            "3740:\tlearn: 1.0756281\ttotal: 15s\tremaining: 1.04s\n",
            "3750:\tlearn: 1.0756125\ttotal: 15.1s\tremaining: 1s\n",
            "3760:\tlearn: 1.0755763\ttotal: 15.1s\tremaining: 961ms\n",
            "3770:\tlearn: 1.0755413\ttotal: 15.2s\tremaining: 920ms\n",
            "3780:\tlearn: 1.0755102\ttotal: 15.2s\tremaining: 880ms\n",
            "3790:\tlearn: 1.0754833\ttotal: 15.3s\tremaining: 841ms\n",
            "3800:\tlearn: 1.0754606\ttotal: 15.3s\tremaining: 801ms\n",
            "3810:\tlearn: 1.0754291\ttotal: 15.3s\tremaining: 761ms\n",
            "3820:\tlearn: 1.0753959\ttotal: 15.4s\tremaining: 721ms\n",
            "3830:\tlearn: 1.0753682\ttotal: 15.4s\tremaining: 680ms\n",
            "3840:\tlearn: 1.0753304\ttotal: 15.5s\tremaining: 640ms\n",
            "3850:\tlearn: 1.0752997\ttotal: 15.5s\tremaining: 600ms\n",
            "3860:\tlearn: 1.0752772\ttotal: 15.5s\tremaining: 559ms\n",
            "3870:\tlearn: 1.0752593\ttotal: 15.6s\tremaining: 519ms\n",
            "3880:\tlearn: 1.0752351\ttotal: 15.6s\tremaining: 479ms\n",
            "3890:\tlearn: 1.0751988\ttotal: 15.6s\tremaining: 438ms\n",
            "3900:\tlearn: 1.0751656\ttotal: 15.7s\tremaining: 398ms\n",
            "3910:\tlearn: 1.0751322\ttotal: 15.7s\tremaining: 358ms\n",
            "3920:\tlearn: 1.0750954\ttotal: 15.8s\tremaining: 318ms\n",
            "3930:\tlearn: 1.0750727\ttotal: 15.8s\tremaining: 277ms\n",
            "3940:\tlearn: 1.0750374\ttotal: 15.8s\tremaining: 237ms\n",
            "3950:\tlearn: 1.0750109\ttotal: 15.9s\tremaining: 197ms\n",
            "3960:\tlearn: 1.0749856\ttotal: 15.9s\tremaining: 157ms\n",
            "3970:\tlearn: 1.0749531\ttotal: 15.9s\tremaining: 116ms\n",
            "3980:\tlearn: 1.0749238\ttotal: 16s\tremaining: 76.3ms\n",
            "3990:\tlearn: 1.0749064\ttotal: 16s\tremaining: 36.1ms\n",
            "3999:\tlearn: 1.0748841\ttotal: 16.1s\tremaining: 0us\n",
            "Fold 1, Valid score = 1.09536\n"
          ],
          "name": "stdout"
        },
        {
          "output_type": "stream",
          "text": [
            "Warning: less than 75% gpu memory available for training. Free: 5249.75 Total: 16280.875\n"
          ],
          "name": "stderr"
        },
        {
          "output_type": "stream",
          "text": [
            "0:\tlearn: 1.3525662\ttotal: 5.02ms\tremaining: 20.1s\n",
            "10:\tlearn: 1.1883377\ttotal: 42.2ms\tremaining: 15.3s\n",
            "20:\tlearn: 1.1387009\ttotal: 81.8ms\tremaining: 15.5s\n",
            "30:\tlearn: 1.1212334\ttotal: 119ms\tremaining: 15.2s\n",
            "40:\tlearn: 1.1144277\ttotal: 161ms\tremaining: 15.6s\n",
            "50:\tlearn: 1.1112639\ttotal: 198ms\tremaining: 15.3s\n",
            "60:\tlearn: 1.1095575\ttotal: 249ms\tremaining: 16.1s\n",
            "70:\tlearn: 1.1082230\ttotal: 284ms\tremaining: 15.7s\n",
            "80:\tlearn: 1.1072930\ttotal: 320ms\tremaining: 15.5s\n",
            "90:\tlearn: 1.1064053\ttotal: 355ms\tremaining: 15.2s\n",
            "100:\tlearn: 1.1057273\ttotal: 390ms\tremaining: 15.1s\n",
            "110:\tlearn: 1.1050816\ttotal: 424ms\tremaining: 14.9s\n",
            "120:\tlearn: 1.1044835\ttotal: 463ms\tremaining: 14.8s\n",
            "130:\tlearn: 1.1038780\ttotal: 498ms\tremaining: 14.7s\n",
            "140:\tlearn: 1.1034747\ttotal: 532ms\tremaining: 14.6s\n",
            "150:\tlearn: 1.1031131\ttotal: 565ms\tremaining: 14.4s\n",
            "160:\tlearn: 1.1026648\ttotal: 596ms\tremaining: 14.2s\n",
            "170:\tlearn: 1.1021226\ttotal: 631ms\tremaining: 14.1s\n",
            "180:\tlearn: 1.1016646\ttotal: 668ms\tremaining: 14.1s\n",
            "190:\tlearn: 1.1011031\ttotal: 706ms\tremaining: 14.1s\n",
            "200:\tlearn: 1.1005870\ttotal: 741ms\tremaining: 14s\n",
            "210:\tlearn: 1.1002410\ttotal: 775ms\tremaining: 13.9s\n",
            "220:\tlearn: 1.0998941\ttotal: 810ms\tremaining: 13.8s\n",
            "230:\tlearn: 1.0996231\ttotal: 844ms\tremaining: 13.8s\n",
            "240:\tlearn: 1.0993557\ttotal: 891ms\tremaining: 13.9s\n",
            "250:\tlearn: 1.0990592\ttotal: 927ms\tremaining: 13.8s\n",
            "260:\tlearn: 1.0986670\ttotal: 965ms\tremaining: 13.8s\n",
            "270:\tlearn: 1.0983644\ttotal: 1000ms\tremaining: 13.8s\n",
            "280:\tlearn: 1.0980055\ttotal: 1.03s\tremaining: 13.7s\n",
            "290:\tlearn: 1.0977141\ttotal: 1.08s\tremaining: 13.8s\n",
            "300:\tlearn: 1.0974440\ttotal: 1.12s\tremaining: 13.7s\n",
            "310:\tlearn: 1.0971276\ttotal: 1.15s\tremaining: 13.7s\n",
            "320:\tlearn: 1.0968655\ttotal: 1.19s\tremaining: 13.6s\n",
            "330:\tlearn: 1.0967154\ttotal: 1.23s\tremaining: 13.7s\n",
            "340:\tlearn: 1.0964215\ttotal: 1.27s\tremaining: 13.7s\n",
            "350:\tlearn: 1.0960988\ttotal: 1.31s\tremaining: 13.6s\n",
            "360:\tlearn: 1.0958108\ttotal: 1.35s\tremaining: 13.6s\n",
            "370:\tlearn: 1.0955319\ttotal: 1.38s\tremaining: 13.5s\n",
            "380:\tlearn: 1.0952794\ttotal: 1.42s\tremaining: 13.5s\n",
            "390:\tlearn: 1.0951026\ttotal: 1.45s\tremaining: 13.4s\n",
            "400:\tlearn: 1.0948527\ttotal: 1.49s\tremaining: 13.4s\n",
            "410:\tlearn: 1.0945584\ttotal: 1.52s\tremaining: 13.3s\n",
            "420:\tlearn: 1.0943175\ttotal: 1.56s\tremaining: 13.3s\n",
            "430:\tlearn: 1.0941102\ttotal: 1.59s\tremaining: 13.2s\n",
            "440:\tlearn: 1.0939502\ttotal: 1.63s\tremaining: 13.1s\n",
            "450:\tlearn: 1.0937553\ttotal: 1.66s\tremaining: 13.1s\n",
            "460:\tlearn: 1.0935538\ttotal: 1.7s\tremaining: 13s\n",
            "470:\tlearn: 1.0933431\ttotal: 1.74s\tremaining: 13s\n",
            "480:\tlearn: 1.0931965\ttotal: 1.78s\tremaining: 13s\n",
            "490:\tlearn: 1.0930491\ttotal: 1.81s\tremaining: 12.9s\n",
            "500:\tlearn: 1.0928604\ttotal: 1.85s\tremaining: 12.9s\n",
            "510:\tlearn: 1.0926863\ttotal: 1.88s\tremaining: 12.8s\n",
            "520:\tlearn: 1.0925286\ttotal: 1.92s\tremaining: 12.8s\n",
            "530:\tlearn: 1.0923280\ttotal: 1.95s\tremaining: 12.8s\n",
            "540:\tlearn: 1.0921715\ttotal: 1.99s\tremaining: 12.7s\n",
            "550:\tlearn: 1.0919939\ttotal: 2.02s\tremaining: 12.7s\n",
            "560:\tlearn: 1.0917947\ttotal: 2.06s\tremaining: 12.6s\n",
            "570:\tlearn: 1.0916744\ttotal: 2.09s\tremaining: 12.6s\n",
            "580:\tlearn: 1.0915021\ttotal: 2.13s\tremaining: 12.5s\n",
            "590:\tlearn: 1.0913610\ttotal: 2.17s\tremaining: 12.5s\n",
            "600:\tlearn: 1.0912197\ttotal: 2.21s\tremaining: 12.5s\n",
            "610:\tlearn: 1.0910817\ttotal: 2.25s\tremaining: 12.5s\n",
            "620:\tlearn: 1.0909536\ttotal: 2.29s\tremaining: 12.4s\n",
            "630:\tlearn: 1.0908242\ttotal: 2.32s\tremaining: 12.4s\n",
            "640:\tlearn: 1.0907085\ttotal: 2.35s\tremaining: 12.3s\n",
            "650:\tlearn: 1.0905913\ttotal: 2.39s\tremaining: 12.3s\n",
            "660:\tlearn: 1.0904805\ttotal: 2.43s\tremaining: 12.3s\n",
            "670:\tlearn: 1.0903596\ttotal: 2.46s\tremaining: 12.2s\n",
            "680:\tlearn: 1.0902574\ttotal: 2.5s\tremaining: 12.2s\n",
            "690:\tlearn: 1.0901647\ttotal: 2.54s\tremaining: 12.2s\n",
            "700:\tlearn: 1.0900275\ttotal: 2.57s\tremaining: 12.1s\n",
            "710:\tlearn: 1.0899178\ttotal: 2.62s\tremaining: 12.1s\n",
            "720:\tlearn: 1.0898367\ttotal: 2.67s\tremaining: 12.1s\n",
            "730:\tlearn: 1.0897020\ttotal: 2.7s\tremaining: 12.1s\n",
            "740:\tlearn: 1.0895857\ttotal: 2.74s\tremaining: 12.1s\n",
            "750:\tlearn: 1.0894404\ttotal: 2.78s\tremaining: 12s\n",
            "760:\tlearn: 1.0893406\ttotal: 2.82s\tremaining: 12s\n",
            "770:\tlearn: 1.0891983\ttotal: 2.85s\tremaining: 11.9s\n",
            "780:\tlearn: 1.0891315\ttotal: 2.9s\tremaining: 11.9s\n",
            "790:\tlearn: 1.0890032\ttotal: 2.94s\tremaining: 11.9s\n",
            "800:\tlearn: 1.0889066\ttotal: 2.97s\tremaining: 11.9s\n",
            "810:\tlearn: 1.0888188\ttotal: 3.01s\tremaining: 11.8s\n",
            "820:\tlearn: 1.0887339\ttotal: 3.04s\tremaining: 11.8s\n",
            "830:\tlearn: 1.0886601\ttotal: 3.08s\tremaining: 11.8s\n",
            "840:\tlearn: 1.0885863\ttotal: 3.12s\tremaining: 11.7s\n",
            "850:\tlearn: 1.0885107\ttotal: 3.16s\tremaining: 11.7s\n",
            "860:\tlearn: 1.0884117\ttotal: 3.21s\tremaining: 11.7s\n",
            "870:\tlearn: 1.0883151\ttotal: 3.25s\tremaining: 11.7s\n",
            "880:\tlearn: 1.0882258\ttotal: 3.29s\tremaining: 11.6s\n",
            "890:\tlearn: 1.0881376\ttotal: 3.33s\tremaining: 11.6s\n",
            "900:\tlearn: 1.0880327\ttotal: 3.37s\tremaining: 11.6s\n",
            "910:\tlearn: 1.0879418\ttotal: 3.4s\tremaining: 11.5s\n",
            "920:\tlearn: 1.0878752\ttotal: 3.44s\tremaining: 11.5s\n",
            "930:\tlearn: 1.0877757\ttotal: 3.48s\tremaining: 11.5s\n",
            "940:\tlearn: 1.0877010\ttotal: 3.51s\tremaining: 11.4s\n",
            "950:\tlearn: 1.0876205\ttotal: 3.56s\tremaining: 11.4s\n",
            "960:\tlearn: 1.0875318\ttotal: 3.59s\tremaining: 11.4s\n",
            "970:\tlearn: 1.0874553\ttotal: 3.63s\tremaining: 11.3s\n",
            "980:\tlearn: 1.0873890\ttotal: 3.67s\tremaining: 11.3s\n",
            "990:\tlearn: 1.0872897\ttotal: 3.71s\tremaining: 11.3s\n",
            "1000:\tlearn: 1.0872314\ttotal: 3.75s\tremaining: 11.2s\n",
            "1010:\tlearn: 1.0871519\ttotal: 3.79s\tremaining: 11.2s\n",
            "1020:\tlearn: 1.0870971\ttotal: 3.82s\tremaining: 11.2s\n",
            "1030:\tlearn: 1.0870115\ttotal: 3.86s\tremaining: 11.1s\n",
            "1040:\tlearn: 1.0869333\ttotal: 3.9s\tremaining: 11.1s\n",
            "1050:\tlearn: 1.0868712\ttotal: 3.94s\tremaining: 11s\n",
            "1060:\tlearn: 1.0868211\ttotal: 3.97s\tremaining: 11s\n",
            "1070:\tlearn: 1.0867334\ttotal: 4.01s\tremaining: 11s\n",
            "1080:\tlearn: 1.0866527\ttotal: 4.05s\tremaining: 10.9s\n",
            "1090:\tlearn: 1.0865527\ttotal: 4.08s\tremaining: 10.9s\n",
            "1100:\tlearn: 1.0865008\ttotal: 4.12s\tremaining: 10.8s\n",
            "1110:\tlearn: 1.0864453\ttotal: 4.16s\tremaining: 10.8s\n",
            "1120:\tlearn: 1.0863805\ttotal: 4.2s\tremaining: 10.8s\n",
            "1130:\tlearn: 1.0863123\ttotal: 4.25s\tremaining: 10.8s\n",
            "1140:\tlearn: 1.0862416\ttotal: 4.28s\tremaining: 10.7s\n",
            "1150:\tlearn: 1.0861791\ttotal: 4.32s\tremaining: 10.7s\n",
            "1160:\tlearn: 1.0861297\ttotal: 4.36s\tremaining: 10.7s\n",
            "1170:\tlearn: 1.0860649\ttotal: 4.39s\tremaining: 10.6s\n",
            "1180:\tlearn: 1.0860142\ttotal: 4.43s\tremaining: 10.6s\n",
            "1190:\tlearn: 1.0859616\ttotal: 4.47s\tremaining: 10.5s\n",
            "1200:\tlearn: 1.0859013\ttotal: 4.52s\tremaining: 10.5s\n",
            "1210:\tlearn: 1.0858417\ttotal: 4.55s\tremaining: 10.5s\n",
            "1220:\tlearn: 1.0858060\ttotal: 4.59s\tremaining: 10.5s\n",
            "1230:\tlearn: 1.0857295\ttotal: 4.63s\tremaining: 10.4s\n",
            "1240:\tlearn: 1.0856665\ttotal: 4.67s\tremaining: 10.4s\n",
            "1250:\tlearn: 1.0856127\ttotal: 4.71s\tremaining: 10.3s\n",
            "1260:\tlearn: 1.0855656\ttotal: 4.74s\tremaining: 10.3s\n",
            "1270:\tlearn: 1.0855181\ttotal: 4.78s\tremaining: 10.3s\n",
            "1280:\tlearn: 1.0854620\ttotal: 4.82s\tremaining: 10.2s\n",
            "1290:\tlearn: 1.0853963\ttotal: 4.85s\tremaining: 10.2s\n",
            "1300:\tlearn: 1.0853372\ttotal: 4.89s\tremaining: 10.1s\n",
            "1310:\tlearn: 1.0852817\ttotal: 4.94s\tremaining: 10.1s\n",
            "1320:\tlearn: 1.0852216\ttotal: 4.97s\tremaining: 10.1s\n",
            "1330:\tlearn: 1.0851769\ttotal: 5.01s\tremaining: 10s\n",
            "1340:\tlearn: 1.0851185\ttotal: 5.05s\tremaining: 10s\n",
            "1350:\tlearn: 1.0850552\ttotal: 5.08s\tremaining: 9.97s\n",
            "1360:\tlearn: 1.0849818\ttotal: 5.12s\tremaining: 9.93s\n",
            "1370:\tlearn: 1.0849354\ttotal: 5.17s\tremaining: 9.91s\n",
            "1380:\tlearn: 1.0848557\ttotal: 5.21s\tremaining: 9.89s\n",
            "1390:\tlearn: 1.0847947\ttotal: 5.25s\tremaining: 9.85s\n",
            "1400:\tlearn: 1.0847377\ttotal: 5.29s\tremaining: 9.81s\n",
            "1410:\tlearn: 1.0846892\ttotal: 5.33s\tremaining: 9.77s\n",
            "1420:\tlearn: 1.0846485\ttotal: 5.36s\tremaining: 9.73s\n",
            "1430:\tlearn: 1.0846074\ttotal: 5.4s\tremaining: 9.69s\n",
            "1440:\tlearn: 1.0845547\ttotal: 5.44s\tremaining: 9.67s\n",
            "1450:\tlearn: 1.0845138\ttotal: 5.48s\tremaining: 9.63s\n",
            "1460:\tlearn: 1.0844660\ttotal: 5.52s\tremaining: 9.6s\n",
            "1470:\tlearn: 1.0844115\ttotal: 5.56s\tremaining: 9.56s\n",
            "1480:\tlearn: 1.0843724\ttotal: 5.6s\tremaining: 9.53s\n",
            "1490:\tlearn: 1.0843192\ttotal: 5.64s\tremaining: 9.49s\n",
            "1500:\tlearn: 1.0842555\ttotal: 5.68s\tremaining: 9.45s\n",
            "1510:\tlearn: 1.0841986\ttotal: 5.72s\tremaining: 9.42s\n",
            "1520:\tlearn: 1.0841563\ttotal: 5.76s\tremaining: 9.38s\n",
            "1530:\tlearn: 1.0841063\ttotal: 5.8s\tremaining: 9.35s\n",
            "1540:\tlearn: 1.0840461\ttotal: 5.84s\tremaining: 9.32s\n",
            "1550:\tlearn: 1.0839914\ttotal: 5.88s\tremaining: 9.28s\n",
            "1560:\tlearn: 1.0839286\ttotal: 5.92s\tremaining: 9.24s\n",
            "1570:\tlearn: 1.0838786\ttotal: 5.95s\tremaining: 9.21s\n",
            "1580:\tlearn: 1.0838134\ttotal: 5.99s\tremaining: 9.17s\n",
            "1590:\tlearn: 1.0837607\ttotal: 6.03s\tremaining: 9.13s\n",
            "1600:\tlearn: 1.0837268\ttotal: 6.07s\tremaining: 9.1s\n",
            "1610:\tlearn: 1.0836659\ttotal: 6.11s\tremaining: 9.06s\n",
            "1620:\tlearn: 1.0836217\ttotal: 6.15s\tremaining: 9.03s\n",
            "1630:\tlearn: 1.0835885\ttotal: 6.2s\tremaining: 9s\n",
            "1640:\tlearn: 1.0835344\ttotal: 6.24s\tremaining: 8.97s\n",
            "1650:\tlearn: 1.0834895\ttotal: 6.28s\tremaining: 8.93s\n",
            "1660:\tlearn: 1.0834283\ttotal: 6.32s\tremaining: 8.9s\n",
            "1670:\tlearn: 1.0833719\ttotal: 6.36s\tremaining: 8.86s\n",
            "1680:\tlearn: 1.0833291\ttotal: 6.39s\tremaining: 8.82s\n",
            "1690:\tlearn: 1.0832935\ttotal: 6.44s\tremaining: 8.79s\n",
            "1700:\tlearn: 1.0832545\ttotal: 6.47s\tremaining: 8.75s\n",
            "1710:\tlearn: 1.0832202\ttotal: 6.52s\tremaining: 8.72s\n",
            "1720:\tlearn: 1.0831605\ttotal: 6.56s\tremaining: 8.69s\n",
            "1730:\tlearn: 1.0831180\ttotal: 6.6s\tremaining: 8.65s\n",
            "1740:\tlearn: 1.0830661\ttotal: 6.64s\tremaining: 8.61s\n",
            "1750:\tlearn: 1.0830257\ttotal: 6.67s\tremaining: 8.57s\n",
            "1760:\tlearn: 1.0829736\ttotal: 6.71s\tremaining: 8.54s\n",
            "1770:\tlearn: 1.0829393\ttotal: 6.75s\tremaining: 8.5s\n",
            "1780:\tlearn: 1.0828848\ttotal: 6.79s\tremaining: 8.46s\n",
            "1790:\tlearn: 1.0828426\ttotal: 6.82s\tremaining: 8.42s\n",
            "1800:\tlearn: 1.0828057\ttotal: 6.86s\tremaining: 8.38s\n",
            "1810:\tlearn: 1.0827509\ttotal: 6.9s\tremaining: 8.34s\n",
            "1820:\tlearn: 1.0827067\ttotal: 6.93s\tremaining: 8.29s\n",
            "1830:\tlearn: 1.0826747\ttotal: 6.98s\tremaining: 8.27s\n",
            "1840:\tlearn: 1.0826217\ttotal: 7.02s\tremaining: 8.23s\n",
            "1850:\tlearn: 1.0825876\ttotal: 7.05s\tremaining: 8.19s\n",
            "1860:\tlearn: 1.0825288\ttotal: 7.09s\tremaining: 8.15s\n",
            "1870:\tlearn: 1.0824594\ttotal: 7.13s\tremaining: 8.11s\n",
            "1880:\tlearn: 1.0824050\ttotal: 7.16s\tremaining: 8.07s\n",
            "1890:\tlearn: 1.0823670\ttotal: 7.22s\tremaining: 8.05s\n",
            "1900:\tlearn: 1.0823333\ttotal: 7.25s\tremaining: 8.01s\n",
            "1910:\tlearn: 1.0822908\ttotal: 7.29s\tremaining: 7.97s\n",
            "1920:\tlearn: 1.0822473\ttotal: 7.33s\tremaining: 7.93s\n",
            "1930:\tlearn: 1.0822110\ttotal: 7.37s\tremaining: 7.89s\n",
            "1940:\tlearn: 1.0821634\ttotal: 7.4s\tremaining: 7.85s\n",
            "1950:\tlearn: 1.0821229\ttotal: 7.44s\tremaining: 7.82s\n",
            "1960:\tlearn: 1.0820766\ttotal: 7.48s\tremaining: 7.78s\n",
            "1970:\tlearn: 1.0820361\ttotal: 7.51s\tremaining: 7.73s\n",
            "1980:\tlearn: 1.0820011\ttotal: 7.55s\tremaining: 7.7s\n",
            "1990:\tlearn: 1.0819647\ttotal: 7.59s\tremaining: 7.66s\n",
            "2000:\tlearn: 1.0819389\ttotal: 7.62s\tremaining: 7.61s\n",
            "2010:\tlearn: 1.0818927\ttotal: 7.67s\tremaining: 7.58s\n",
            "2020:\tlearn: 1.0818528\ttotal: 7.7s\tremaining: 7.54s\n",
            "2030:\tlearn: 1.0818044\ttotal: 7.74s\tremaining: 7.5s\n",
            "2040:\tlearn: 1.0817644\ttotal: 7.78s\tremaining: 7.46s\n",
            "2050:\tlearn: 1.0817257\ttotal: 7.81s\tremaining: 7.42s\n",
            "2060:\tlearn: 1.0816904\ttotal: 7.85s\tremaining: 7.38s\n",
            "2070:\tlearn: 1.0816368\ttotal: 7.89s\tremaining: 7.35s\n",
            "2080:\tlearn: 1.0816027\ttotal: 7.92s\tremaining: 7.31s\n",
            "2090:\tlearn: 1.0815595\ttotal: 7.96s\tremaining: 7.26s\n",
            "2100:\tlearn: 1.0815228\ttotal: 7.99s\tremaining: 7.22s\n",
            "2110:\tlearn: 1.0814860\ttotal: 8.03s\tremaining: 7.18s\n",
            "2120:\tlearn: 1.0814551\ttotal: 8.07s\tremaining: 7.15s\n",
            "2130:\tlearn: 1.0814048\ttotal: 8.11s\tremaining: 7.12s\n",
            "2140:\tlearn: 1.0813720\ttotal: 8.15s\tremaining: 7.08s\n",
            "2150:\tlearn: 1.0813420\ttotal: 8.2s\tremaining: 7.05s\n",
            "2160:\tlearn: 1.0812843\ttotal: 8.24s\tremaining: 7.01s\n",
            "2170:\tlearn: 1.0812527\ttotal: 8.27s\tremaining: 6.97s\n",
            "2180:\tlearn: 1.0812159\ttotal: 8.31s\tremaining: 6.93s\n",
            "2190:\tlearn: 1.0811690\ttotal: 8.35s\tremaining: 6.89s\n",
            "2200:\tlearn: 1.0811374\ttotal: 8.38s\tremaining: 6.85s\n",
            "2210:\tlearn: 1.0810985\ttotal: 8.42s\tremaining: 6.81s\n",
            "2220:\tlearn: 1.0810588\ttotal: 8.46s\tremaining: 6.77s\n",
            "2230:\tlearn: 1.0810250\ttotal: 8.49s\tremaining: 6.73s\n",
            "2240:\tlearn: 1.0809871\ttotal: 8.53s\tremaining: 6.7s\n",
            "2250:\tlearn: 1.0809554\ttotal: 8.58s\tremaining: 6.66s\n",
            "2260:\tlearn: 1.0809127\ttotal: 8.61s\tremaining: 6.62s\n",
            "2270:\tlearn: 1.0808666\ttotal: 8.65s\tremaining: 6.58s\n",
            "2280:\tlearn: 1.0808325\ttotal: 8.7s\tremaining: 6.56s\n",
            "2290:\tlearn: 1.0807997\ttotal: 8.73s\tremaining: 6.52s\n",
            "2300:\tlearn: 1.0807601\ttotal: 8.77s\tremaining: 6.48s\n",
            "2310:\tlearn: 1.0807278\ttotal: 8.81s\tremaining: 6.44s\n",
            "2320:\tlearn: 1.0806897\ttotal: 8.85s\tremaining: 6.4s\n",
            "2330:\tlearn: 1.0806382\ttotal: 8.9s\tremaining: 6.38s\n",
            "2340:\tlearn: 1.0805935\ttotal: 8.95s\tremaining: 6.34s\n",
            "2350:\tlearn: 1.0805652\ttotal: 8.99s\tremaining: 6.3s\n",
            "2360:\tlearn: 1.0805209\ttotal: 9.04s\tremaining: 6.27s\n",
            "2370:\tlearn: 1.0804843\ttotal: 9.08s\tremaining: 6.24s\n",
            "2380:\tlearn: 1.0804553\ttotal: 9.11s\tremaining: 6.2s\n",
            "2390:\tlearn: 1.0804147\ttotal: 9.15s\tremaining: 6.16s\n",
            "2400:\tlearn: 1.0803855\ttotal: 9.2s\tremaining: 6.13s\n",
            "2410:\tlearn: 1.0803615\ttotal: 9.24s\tremaining: 6.09s\n",
            "2420:\tlearn: 1.0803298\ttotal: 9.28s\tremaining: 6.05s\n",
            "2430:\tlearn: 1.0802934\ttotal: 9.32s\tremaining: 6.01s\n",
            "2440:\tlearn: 1.0802638\ttotal: 9.36s\tremaining: 5.97s\n",
            "2450:\tlearn: 1.0802206\ttotal: 9.4s\tremaining: 5.94s\n",
            "2460:\tlearn: 1.0801812\ttotal: 9.43s\tremaining: 5.9s\n",
            "2470:\tlearn: 1.0801499\ttotal: 9.47s\tremaining: 5.86s\n",
            "2480:\tlearn: 1.0801052\ttotal: 9.52s\tremaining: 5.83s\n",
            "2490:\tlearn: 1.0800719\ttotal: 9.55s\tremaining: 5.79s\n",
            "2500:\tlearn: 1.0800491\ttotal: 9.59s\tremaining: 5.75s\n",
            "2510:\tlearn: 1.0800100\ttotal: 9.63s\tremaining: 5.71s\n",
            "2520:\tlearn: 1.0799781\ttotal: 9.67s\tremaining: 5.67s\n",
            "2530:\tlearn: 1.0799339\ttotal: 9.71s\tremaining: 5.63s\n",
            "2540:\tlearn: 1.0798980\ttotal: 9.75s\tremaining: 5.6s\n",
            "2550:\tlearn: 1.0798647\ttotal: 9.79s\tremaining: 5.56s\n",
            "2560:\tlearn: 1.0798271\ttotal: 9.83s\tremaining: 5.52s\n",
            "2570:\tlearn: 1.0797877\ttotal: 9.87s\tremaining: 5.48s\n",
            "2580:\tlearn: 1.0797506\ttotal: 9.9s\tremaining: 5.45s\n",
            "2590:\tlearn: 1.0797154\ttotal: 9.95s\tremaining: 5.41s\n",
            "2600:\tlearn: 1.0796894\ttotal: 9.98s\tremaining: 5.37s\n",
            "2610:\tlearn: 1.0796566\ttotal: 10s\tremaining: 5.33s\n",
            "2620:\tlearn: 1.0796108\ttotal: 10.1s\tremaining: 5.29s\n",
            "2630:\tlearn: 1.0795710\ttotal: 10.1s\tremaining: 5.25s\n",
            "2640:\tlearn: 1.0795437\ttotal: 10.1s\tremaining: 5.21s\n",
            "2650:\tlearn: 1.0795071\ttotal: 10.2s\tremaining: 5.18s\n",
            "2660:\tlearn: 1.0794758\ttotal: 10.2s\tremaining: 5.15s\n",
            "2670:\tlearn: 1.0794572\ttotal: 10.3s\tremaining: 5.11s\n",
            "2680:\tlearn: 1.0794336\ttotal: 10.3s\tremaining: 5.07s\n",
            "2690:\tlearn: 1.0793962\ttotal: 10.3s\tremaining: 5.03s\n",
            "2700:\tlearn: 1.0793637\ttotal: 10.4s\tremaining: 4.99s\n",
            "2710:\tlearn: 1.0793285\ttotal: 10.4s\tremaining: 4.95s\n",
            "2720:\tlearn: 1.0792875\ttotal: 10.4s\tremaining: 4.91s\n",
            "2730:\tlearn: 1.0792564\ttotal: 10.5s\tremaining: 4.87s\n",
            "2740:\tlearn: 1.0792269\ttotal: 10.5s\tremaining: 4.83s\n",
            "2750:\tlearn: 1.0791936\ttotal: 10.6s\tremaining: 4.79s\n",
            "2760:\tlearn: 1.0791698\ttotal: 10.6s\tremaining: 4.75s\n",
            "2770:\tlearn: 1.0791323\ttotal: 10.6s\tremaining: 4.71s\n",
            "2780:\tlearn: 1.0790934\ttotal: 10.7s\tremaining: 4.67s\n",
            "2790:\tlearn: 1.0790531\ttotal: 10.7s\tremaining: 4.64s\n",
            "2800:\tlearn: 1.0790131\ttotal: 10.7s\tremaining: 4.6s\n",
            "2810:\tlearn: 1.0789796\ttotal: 10.8s\tremaining: 4.56s\n",
            "2820:\tlearn: 1.0789391\ttotal: 10.8s\tremaining: 4.52s\n",
            "2830:\tlearn: 1.0789114\ttotal: 10.9s\tremaining: 4.48s\n",
            "2840:\tlearn: 1.0788787\ttotal: 10.9s\tremaining: 4.44s\n",
            "2850:\tlearn: 1.0788286\ttotal: 10.9s\tremaining: 4.41s\n",
            "2860:\tlearn: 1.0787926\ttotal: 11s\tremaining: 4.37s\n",
            "2870:\tlearn: 1.0787556\ttotal: 11s\tremaining: 4.33s\n",
            "2880:\tlearn: 1.0787212\ttotal: 11s\tremaining: 4.29s\n",
            "2890:\tlearn: 1.0786957\ttotal: 11.1s\tremaining: 4.25s\n",
            "2900:\tlearn: 1.0786677\ttotal: 11.1s\tremaining: 4.21s\n",
            "2910:\tlearn: 1.0786401\ttotal: 11.2s\tremaining: 4.18s\n",
            "2920:\tlearn: 1.0786118\ttotal: 11.2s\tremaining: 4.14s\n",
            "2930:\tlearn: 1.0785760\ttotal: 11.2s\tremaining: 4.1s\n",
            "2940:\tlearn: 1.0785292\ttotal: 11.3s\tremaining: 4.06s\n",
            "2950:\tlearn: 1.0784910\ttotal: 11.3s\tremaining: 4.02s\n",
            "2960:\tlearn: 1.0784643\ttotal: 11.4s\tremaining: 3.98s\n",
            "2970:\tlearn: 1.0784403\ttotal: 11.4s\tremaining: 3.95s\n",
            "2980:\tlearn: 1.0784072\ttotal: 11.4s\tremaining: 3.91s\n",
            "2990:\tlearn: 1.0783752\ttotal: 11.5s\tremaining: 3.87s\n",
            "3000:\tlearn: 1.0783259\ttotal: 11.5s\tremaining: 3.83s\n",
            "3010:\tlearn: 1.0782959\ttotal: 11.6s\tremaining: 3.79s\n",
            "3020:\tlearn: 1.0782666\ttotal: 11.6s\tremaining: 3.75s\n",
            "3030:\tlearn: 1.0782296\ttotal: 11.6s\tremaining: 3.72s\n",
            "3040:\tlearn: 1.0782075\ttotal: 11.7s\tremaining: 3.68s\n",
            "3050:\tlearn: 1.0781674\ttotal: 11.7s\tremaining: 3.64s\n",
            "3060:\tlearn: 1.0781448\ttotal: 11.7s\tremaining: 3.6s\n",
            "3070:\tlearn: 1.0781197\ttotal: 11.8s\tremaining: 3.56s\n",
            "3080:\tlearn: 1.0780967\ttotal: 11.8s\tremaining: 3.52s\n",
            "3090:\tlearn: 1.0780710\ttotal: 11.8s\tremaining: 3.48s\n",
            "3100:\tlearn: 1.0780405\ttotal: 11.9s\tremaining: 3.44s\n",
            "3110:\tlearn: 1.0780091\ttotal: 11.9s\tremaining: 3.4s\n",
            "3120:\tlearn: 1.0779807\ttotal: 12s\tremaining: 3.37s\n",
            "3130:\tlearn: 1.0779570\ttotal: 12s\tremaining: 3.33s\n",
            "3140:\tlearn: 1.0779248\ttotal: 12s\tremaining: 3.29s\n",
            "3150:\tlearn: 1.0778951\ttotal: 12.1s\tremaining: 3.25s\n",
            "3160:\tlearn: 1.0778693\ttotal: 12.1s\tremaining: 3.21s\n",
            "3170:\tlearn: 1.0778473\ttotal: 12.1s\tremaining: 3.18s\n",
            "3180:\tlearn: 1.0778141\ttotal: 12.2s\tremaining: 3.14s\n",
            "3190:\tlearn: 1.0777905\ttotal: 12.2s\tremaining: 3.1s\n",
            "3200:\tlearn: 1.0777602\ttotal: 12.3s\tremaining: 3.06s\n",
            "3210:\tlearn: 1.0777284\ttotal: 12.3s\tremaining: 3.02s\n",
            "3220:\tlearn: 1.0776922\ttotal: 12.3s\tremaining: 2.98s\n",
            "3230:\tlearn: 1.0776696\ttotal: 12.4s\tremaining: 2.94s\n",
            "3240:\tlearn: 1.0776408\ttotal: 12.4s\tremaining: 2.91s\n",
            "3250:\tlearn: 1.0776044\ttotal: 12.5s\tremaining: 2.87s\n",
            "3260:\tlearn: 1.0775709\ttotal: 12.5s\tremaining: 2.83s\n",
            "3270:\tlearn: 1.0775391\ttotal: 12.5s\tremaining: 2.79s\n",
            "3280:\tlearn: 1.0775105\ttotal: 12.6s\tremaining: 2.75s\n",
            "3290:\tlearn: 1.0774893\ttotal: 12.6s\tremaining: 2.72s\n",
            "3300:\tlearn: 1.0774545\ttotal: 12.7s\tremaining: 2.68s\n",
            "3310:\tlearn: 1.0774191\ttotal: 12.7s\tremaining: 2.64s\n",
            "3320:\tlearn: 1.0773857\ttotal: 12.7s\tremaining: 2.6s\n",
            "3330:\tlearn: 1.0773532\ttotal: 12.8s\tremaining: 2.56s\n",
            "3340:\tlearn: 1.0773270\ttotal: 12.8s\tremaining: 2.53s\n",
            "3350:\tlearn: 1.0772950\ttotal: 12.8s\tremaining: 2.49s\n",
            "3360:\tlearn: 1.0772662\ttotal: 12.9s\tremaining: 2.45s\n",
            "3370:\tlearn: 1.0772357\ttotal: 12.9s\tremaining: 2.41s\n",
            "3380:\tlearn: 1.0772135\ttotal: 13s\tremaining: 2.37s\n",
            "3390:\tlearn: 1.0771851\ttotal: 13s\tremaining: 2.33s\n",
            "3400:\tlearn: 1.0771559\ttotal: 13s\tremaining: 2.3s\n",
            "3410:\tlearn: 1.0771215\ttotal: 13.1s\tremaining: 2.26s\n",
            "3420:\tlearn: 1.0770907\ttotal: 13.1s\tremaining: 2.22s\n",
            "3430:\tlearn: 1.0770647\ttotal: 13.2s\tremaining: 2.18s\n",
            "3440:\tlearn: 1.0770342\ttotal: 13.2s\tremaining: 2.15s\n",
            "3450:\tlearn: 1.0770080\ttotal: 13.2s\tremaining: 2.11s\n",
            "3460:\tlearn: 1.0769661\ttotal: 13.3s\tremaining: 2.07s\n",
            "3470:\tlearn: 1.0769365\ttotal: 13.3s\tremaining: 2.03s\n",
            "3480:\tlearn: 1.0769001\ttotal: 13.4s\tremaining: 1.99s\n",
            "3490:\tlearn: 1.0768629\ttotal: 13.4s\tremaining: 1.95s\n",
            "3500:\tlearn: 1.0768320\ttotal: 13.4s\tremaining: 1.92s\n",
            "3510:\tlearn: 1.0767986\ttotal: 13.5s\tremaining: 1.88s\n",
            "3520:\tlearn: 1.0767783\ttotal: 13.5s\tremaining: 1.84s\n",
            "3530:\tlearn: 1.0767511\ttotal: 13.6s\tremaining: 1.8s\n",
            "3540:\tlearn: 1.0767225\ttotal: 13.6s\tremaining: 1.76s\n",
            "3550:\tlearn: 1.0766959\ttotal: 13.6s\tremaining: 1.73s\n",
            "3560:\tlearn: 1.0766551\ttotal: 13.7s\tremaining: 1.69s\n",
            "3570:\tlearn: 1.0766247\ttotal: 13.7s\tremaining: 1.65s\n",
            "3580:\tlearn: 1.0766011\ttotal: 13.8s\tremaining: 1.61s\n",
            "3590:\tlearn: 1.0765708\ttotal: 13.8s\tremaining: 1.57s\n",
            "3600:\tlearn: 1.0765369\ttotal: 13.8s\tremaining: 1.53s\n",
            "3610:\tlearn: 1.0765039\ttotal: 13.9s\tremaining: 1.5s\n",
            "3620:\tlearn: 1.0764828\ttotal: 13.9s\tremaining: 1.46s\n",
            "3630:\tlearn: 1.0764479\ttotal: 14s\tremaining: 1.42s\n",
            "3640:\tlearn: 1.0764341\ttotal: 14s\tremaining: 1.38s\n",
            "3650:\tlearn: 1.0764057\ttotal: 14s\tremaining: 1.34s\n",
            "3660:\tlearn: 1.0763734\ttotal: 14.1s\tremaining: 1.3s\n",
            "3670:\tlearn: 1.0763526\ttotal: 14.1s\tremaining: 1.26s\n",
            "3680:\tlearn: 1.0763217\ttotal: 14.2s\tremaining: 1.23s\n",
            "3690:\tlearn: 1.0763047\ttotal: 14.2s\tremaining: 1.19s\n",
            "3700:\tlearn: 1.0762631\ttotal: 14.3s\tremaining: 1.15s\n",
            "3710:\tlearn: 1.0762302\ttotal: 14.3s\tremaining: 1.11s\n",
            "3720:\tlearn: 1.0762031\ttotal: 14.3s\tremaining: 1.07s\n",
            "3730:\tlearn: 1.0761721\ttotal: 14.4s\tremaining: 1.04s\n",
            "3740:\tlearn: 1.0761434\ttotal: 14.4s\tremaining: 998ms\n",
            "3750:\tlearn: 1.0761106\ttotal: 14.4s\tremaining: 959ms\n",
            "3760:\tlearn: 1.0760845\ttotal: 14.5s\tremaining: 921ms\n",
            "3770:\tlearn: 1.0760514\ttotal: 14.5s\tremaining: 882ms\n",
            "3780:\tlearn: 1.0760164\ttotal: 14.6s\tremaining: 844ms\n",
            "3790:\tlearn: 1.0759925\ttotal: 14.6s\tremaining: 805ms\n",
            "3800:\tlearn: 1.0759572\ttotal: 14.6s\tremaining: 767ms\n",
            "3810:\tlearn: 1.0759297\ttotal: 14.7s\tremaining: 728ms\n",
            "3820:\tlearn: 1.0758933\ttotal: 14.7s\tremaining: 690ms\n",
            "3830:\tlearn: 1.0758613\ttotal: 14.8s\tremaining: 651ms\n",
            "3840:\tlearn: 1.0758316\ttotal: 14.8s\tremaining: 613ms\n",
            "3850:\tlearn: 1.0758046\ttotal: 14.8s\tremaining: 574ms\n",
            "3860:\tlearn: 1.0757718\ttotal: 14.9s\tremaining: 535ms\n",
            "3870:\tlearn: 1.0757381\ttotal: 14.9s\tremaining: 497ms\n",
            "3880:\tlearn: 1.0757139\ttotal: 15s\tremaining: 459ms\n",
            "3890:\tlearn: 1.0756814\ttotal: 15s\tremaining: 420ms\n",
            "3900:\tlearn: 1.0756450\ttotal: 15s\tremaining: 382ms\n",
            "3910:\tlearn: 1.0756148\ttotal: 15.1s\tremaining: 343ms\n",
            "3920:\tlearn: 1.0755873\ttotal: 15.1s\tremaining: 305ms\n",
            "3930:\tlearn: 1.0755601\ttotal: 15.2s\tremaining: 266ms\n",
            "3940:\tlearn: 1.0755270\ttotal: 15.2s\tremaining: 228ms\n",
            "3950:\tlearn: 1.0754945\ttotal: 15.2s\tremaining: 189ms\n",
            "3960:\tlearn: 1.0754710\ttotal: 15.3s\tremaining: 150ms\n",
            "3970:\tlearn: 1.0754468\ttotal: 15.3s\tremaining: 112ms\n",
            "3980:\tlearn: 1.0754102\ttotal: 15.4s\tremaining: 73.3ms\n",
            "3990:\tlearn: 1.0753810\ttotal: 15.4s\tremaining: 34.7ms\n",
            "3999:\tlearn: 1.0753606\ttotal: 15.4s\tremaining: 0us\n",
            "Fold 2, Valid score = 1.08896\n"
          ],
          "name": "stdout"
        },
        {
          "output_type": "stream",
          "text": [
            "Warning: less than 75% gpu memory available for training. Free: 5249.75 Total: 16280.875\n"
          ],
          "name": "stderr"
        },
        {
          "output_type": "stream",
          "text": [
            "0:\tlearn: 1.3525757\ttotal: 5.18ms\tremaining: 20.7s\n",
            "10:\tlearn: 1.1884396\ttotal: 44.1ms\tremaining: 16s\n",
            "20:\tlearn: 1.1388986\ttotal: 82.1ms\tremaining: 15.6s\n",
            "30:\tlearn: 1.1213731\ttotal: 120ms\tremaining: 15.4s\n",
            "40:\tlearn: 1.1145534\ttotal: 168ms\tremaining: 16.2s\n",
            "50:\tlearn: 1.1115165\ttotal: 211ms\tremaining: 16.3s\n",
            "60:\tlearn: 1.1098832\ttotal: 261ms\tremaining: 16.9s\n",
            "70:\tlearn: 1.1085309\ttotal: 299ms\tremaining: 16.6s\n",
            "80:\tlearn: 1.1074879\ttotal: 356ms\tremaining: 17.2s\n",
            "90:\tlearn: 1.1064720\ttotal: 394ms\tremaining: 16.9s\n",
            "100:\tlearn: 1.1055901\ttotal: 437ms\tremaining: 16.9s\n",
            "110:\tlearn: 1.1049636\ttotal: 477ms\tremaining: 16.7s\n",
            "120:\tlearn: 1.1042366\ttotal: 515ms\tremaining: 16.5s\n",
            "130:\tlearn: 1.1036838\ttotal: 550ms\tremaining: 16.2s\n",
            "140:\tlearn: 1.1034074\ttotal: 585ms\tremaining: 16s\n",
            "150:\tlearn: 1.1029754\ttotal: 618ms\tremaining: 15.7s\n",
            "160:\tlearn: 1.1025640\ttotal: 656ms\tremaining: 15.6s\n",
            "170:\tlearn: 1.1021307\ttotal: 691ms\tremaining: 15.5s\n",
            "180:\tlearn: 1.1016592\ttotal: 728ms\tremaining: 15.4s\n",
            "190:\tlearn: 1.1012203\ttotal: 767ms\tremaining: 15.3s\n",
            "200:\tlearn: 1.1008531\ttotal: 803ms\tremaining: 15.2s\n",
            "210:\tlearn: 1.1005074\ttotal: 840ms\tremaining: 15.1s\n",
            "220:\tlearn: 1.1000729\ttotal: 883ms\tremaining: 15.1s\n",
            "230:\tlearn: 1.0997331\ttotal: 927ms\tremaining: 15.1s\n",
            "240:\tlearn: 1.0994486\ttotal: 965ms\tremaining: 15.1s\n",
            "250:\tlearn: 1.0991318\ttotal: 1s\tremaining: 15s\n",
            "260:\tlearn: 1.0988135\ttotal: 1.04s\tremaining: 14.9s\n",
            "270:\tlearn: 1.0984855\ttotal: 1.08s\tremaining: 14.8s\n",
            "280:\tlearn: 1.0981749\ttotal: 1.12s\tremaining: 14.8s\n",
            "290:\tlearn: 1.0977849\ttotal: 1.16s\tremaining: 14.8s\n",
            "300:\tlearn: 1.0975414\ttotal: 1.2s\tremaining: 14.7s\n",
            "310:\tlearn: 1.0972161\ttotal: 1.24s\tremaining: 14.7s\n",
            "320:\tlearn: 1.0969821\ttotal: 1.29s\tremaining: 14.8s\n",
            "330:\tlearn: 1.0966641\ttotal: 1.33s\tremaining: 14.7s\n",
            "340:\tlearn: 1.0963780\ttotal: 1.37s\tremaining: 14.7s\n",
            "350:\tlearn: 1.0961123\ttotal: 1.41s\tremaining: 14.6s\n",
            "360:\tlearn: 1.0958873\ttotal: 1.45s\tremaining: 14.6s\n",
            "370:\tlearn: 1.0956711\ttotal: 1.48s\tremaining: 14.5s\n",
            "380:\tlearn: 1.0954388\ttotal: 1.52s\tremaining: 14.4s\n",
            "390:\tlearn: 1.0951855\ttotal: 1.56s\tremaining: 14.4s\n",
            "400:\tlearn: 1.0949947\ttotal: 1.6s\tremaining: 14.3s\n",
            "410:\tlearn: 1.0948068\ttotal: 1.63s\tremaining: 14.3s\n",
            "420:\tlearn: 1.0945570\ttotal: 1.67s\tremaining: 14.2s\n",
            "430:\tlearn: 1.0943924\ttotal: 1.71s\tremaining: 14.1s\n",
            "440:\tlearn: 1.0941350\ttotal: 1.75s\tremaining: 14.1s\n",
            "450:\tlearn: 1.0939299\ttotal: 1.79s\tremaining: 14.1s\n",
            "460:\tlearn: 1.0937677\ttotal: 1.82s\tremaining: 14s\n",
            "470:\tlearn: 1.0936013\ttotal: 1.86s\tremaining: 13.9s\n",
            "480:\tlearn: 1.0933891\ttotal: 1.9s\tremaining: 13.9s\n",
            "490:\tlearn: 1.0931843\ttotal: 1.93s\tremaining: 13.8s\n",
            "500:\tlearn: 1.0930893\ttotal: 1.97s\tremaining: 13.8s\n",
            "510:\tlearn: 1.0929072\ttotal: 2.01s\tremaining: 13.7s\n",
            "520:\tlearn: 1.0927711\ttotal: 2.05s\tremaining: 13.7s\n",
            "530:\tlearn: 1.0925812\ttotal: 2.09s\tremaining: 13.7s\n",
            "540:\tlearn: 1.0924220\ttotal: 2.13s\tremaining: 13.6s\n",
            "550:\tlearn: 1.0922810\ttotal: 2.16s\tremaining: 13.5s\n",
            "560:\tlearn: 1.0920781\ttotal: 2.2s\tremaining: 13.5s\n",
            "570:\tlearn: 1.0919199\ttotal: 2.25s\tremaining: 13.5s\n",
            "580:\tlearn: 1.0917331\ttotal: 2.29s\tremaining: 13.5s\n",
            "590:\tlearn: 1.0915930\ttotal: 2.33s\tremaining: 13.4s\n",
            "600:\tlearn: 1.0914656\ttotal: 2.37s\tremaining: 13.4s\n",
            "610:\tlearn: 1.0913423\ttotal: 2.4s\tremaining: 13.3s\n",
            "620:\tlearn: 1.0912086\ttotal: 2.44s\tremaining: 13.3s\n",
            "630:\tlearn: 1.0910557\ttotal: 2.48s\tremaining: 13.3s\n",
            "640:\tlearn: 1.0909362\ttotal: 2.52s\tremaining: 13.2s\n",
            "650:\tlearn: 1.0908059\ttotal: 2.56s\tremaining: 13.2s\n",
            "660:\tlearn: 1.0907168\ttotal: 2.6s\tremaining: 13.1s\n",
            "670:\tlearn: 1.0906105\ttotal: 2.63s\tremaining: 13.1s\n",
            "680:\tlearn: 1.0904545\ttotal: 2.67s\tremaining: 13s\n",
            "690:\tlearn: 1.0903449\ttotal: 2.74s\tremaining: 13.1s\n",
            "700:\tlearn: 1.0902234\ttotal: 2.77s\tremaining: 13.1s\n",
            "710:\tlearn: 1.0901394\ttotal: 2.81s\tremaining: 13s\n",
            "720:\tlearn: 1.0900241\ttotal: 2.85s\tremaining: 13s\n",
            "730:\tlearn: 1.0899536\ttotal: 2.89s\tremaining: 12.9s\n",
            "740:\tlearn: 1.0898367\ttotal: 2.92s\tremaining: 12.9s\n",
            "750:\tlearn: 1.0897217\ttotal: 2.96s\tremaining: 12.8s\n",
            "760:\tlearn: 1.0896120\ttotal: 3s\tremaining: 12.8s\n",
            "770:\tlearn: 1.0894948\ttotal: 3.04s\tremaining: 12.7s\n",
            "780:\tlearn: 1.0893981\ttotal: 3.08s\tremaining: 12.7s\n",
            "790:\tlearn: 1.0893064\ttotal: 3.12s\tremaining: 12.6s\n",
            "800:\tlearn: 1.0892317\ttotal: 3.15s\tremaining: 12.6s\n",
            "810:\tlearn: 1.0891742\ttotal: 3.2s\tremaining: 12.6s\n",
            "820:\tlearn: 1.0890883\ttotal: 3.26s\tremaining: 12.6s\n",
            "830:\tlearn: 1.0890330\ttotal: 3.3s\tremaining: 12.6s\n",
            "840:\tlearn: 1.0889681\ttotal: 3.33s\tremaining: 12.5s\n",
            "850:\tlearn: 1.0889082\ttotal: 3.37s\tremaining: 12.5s\n",
            "860:\tlearn: 1.0888186\ttotal: 3.41s\tremaining: 12.4s\n",
            "870:\tlearn: 1.0887351\ttotal: 3.45s\tremaining: 12.4s\n",
            "880:\tlearn: 1.0886315\ttotal: 3.49s\tremaining: 12.3s\n",
            "890:\tlearn: 1.0885763\ttotal: 3.52s\tremaining: 12.3s\n",
            "900:\tlearn: 1.0884928\ttotal: 3.56s\tremaining: 12.2s\n",
            "910:\tlearn: 1.0884113\ttotal: 3.6s\tremaining: 12.2s\n",
            "920:\tlearn: 1.0883049\ttotal: 3.64s\tremaining: 12.2s\n",
            "930:\tlearn: 1.0882194\ttotal: 3.68s\tremaining: 12.1s\n",
            "940:\tlearn: 1.0881344\ttotal: 3.71s\tremaining: 12.1s\n",
            "950:\tlearn: 1.0880527\ttotal: 3.75s\tremaining: 12s\n",
            "960:\tlearn: 1.0879868\ttotal: 3.79s\tremaining: 12s\n",
            "970:\tlearn: 1.0879159\ttotal: 3.82s\tremaining: 11.9s\n",
            "980:\tlearn: 1.0878344\ttotal: 3.87s\tremaining: 11.9s\n",
            "990:\tlearn: 1.0877511\ttotal: 3.9s\tremaining: 11.8s\n",
            "1000:\tlearn: 1.0876802\ttotal: 3.94s\tremaining: 11.8s\n",
            "1010:\tlearn: 1.0876082\ttotal: 3.98s\tremaining: 11.8s\n",
            "1020:\tlearn: 1.0875189\ttotal: 4.01s\tremaining: 11.7s\n",
            "1030:\tlearn: 1.0873783\ttotal: 4.05s\tremaining: 11.7s\n",
            "1040:\tlearn: 1.0872950\ttotal: 4.09s\tremaining: 11.6s\n",
            "1050:\tlearn: 1.0872052\ttotal: 4.14s\tremaining: 11.6s\n",
            "1060:\tlearn: 1.0871555\ttotal: 4.18s\tremaining: 11.6s\n",
            "1070:\tlearn: 1.0870904\ttotal: 4.23s\tremaining: 11.6s\n",
            "1080:\tlearn: 1.0870096\ttotal: 4.26s\tremaining: 11.5s\n",
            "1090:\tlearn: 1.0869361\ttotal: 4.3s\tremaining: 11.5s\n",
            "1100:\tlearn: 1.0868788\ttotal: 4.34s\tremaining: 11.4s\n",
            "1110:\tlearn: 1.0868018\ttotal: 4.38s\tremaining: 11.4s\n",
            "1120:\tlearn: 1.0867405\ttotal: 4.42s\tremaining: 11.3s\n",
            "1130:\tlearn: 1.0866768\ttotal: 4.46s\tremaining: 11.3s\n",
            "1140:\tlearn: 1.0866261\ttotal: 4.49s\tremaining: 11.3s\n",
            "1150:\tlearn: 1.0865556\ttotal: 4.53s\tremaining: 11.2s\n",
            "1160:\tlearn: 1.0864734\ttotal: 4.57s\tremaining: 11.2s\n",
            "1170:\tlearn: 1.0864064\ttotal: 4.61s\tremaining: 11.1s\n",
            "1180:\tlearn: 1.0863480\ttotal: 4.64s\tremaining: 11.1s\n",
            "1190:\tlearn: 1.0862767\ttotal: 4.68s\tremaining: 11s\n",
            "1200:\tlearn: 1.0862232\ttotal: 4.72s\tremaining: 11s\n",
            "1210:\tlearn: 1.0861559\ttotal: 4.76s\tremaining: 11s\n",
            "1220:\tlearn: 1.0860950\ttotal: 4.79s\tremaining: 10.9s\n",
            "1230:\tlearn: 1.0860155\ttotal: 4.83s\tremaining: 10.9s\n",
            "1240:\tlearn: 1.0859588\ttotal: 4.87s\tremaining: 10.8s\n",
            "1250:\tlearn: 1.0859054\ttotal: 4.9s\tremaining: 10.8s\n",
            "1260:\tlearn: 1.0858644\ttotal: 4.94s\tremaining: 10.7s\n",
            "1270:\tlearn: 1.0857699\ttotal: 4.99s\tremaining: 10.7s\n",
            "1280:\tlearn: 1.0857026\ttotal: 5.02s\tremaining: 10.7s\n",
            "1290:\tlearn: 1.0856170\ttotal: 5.06s\tremaining: 10.6s\n",
            "1300:\tlearn: 1.0855460\ttotal: 5.09s\tremaining: 10.6s\n",
            "1310:\tlearn: 1.0854915\ttotal: 5.13s\tremaining: 10.5s\n",
            "1320:\tlearn: 1.0854464\ttotal: 5.17s\tremaining: 10.5s\n",
            "1330:\tlearn: 1.0854097\ttotal: 5.21s\tremaining: 10.4s\n",
            "1340:\tlearn: 1.0853465\ttotal: 5.25s\tremaining: 10.4s\n",
            "1350:\tlearn: 1.0852812\ttotal: 5.29s\tremaining: 10.4s\n",
            "1360:\tlearn: 1.0852422\ttotal: 5.33s\tremaining: 10.3s\n",
            "1370:\tlearn: 1.0851901\ttotal: 5.37s\tremaining: 10.3s\n",
            "1380:\tlearn: 1.0851473\ttotal: 5.41s\tremaining: 10.3s\n",
            "1390:\tlearn: 1.0850980\ttotal: 5.45s\tremaining: 10.2s\n",
            "1400:\tlearn: 1.0850574\ttotal: 5.48s\tremaining: 10.2s\n",
            "1410:\tlearn: 1.0850058\ttotal: 5.52s\tremaining: 10.1s\n",
            "1420:\tlearn: 1.0849526\ttotal: 5.55s\tremaining: 10.1s\n",
            "1430:\tlearn: 1.0848804\ttotal: 5.59s\tremaining: 10s\n",
            "1440:\tlearn: 1.0848228\ttotal: 5.64s\tremaining: 10s\n",
            "1450:\tlearn: 1.0847662\ttotal: 5.67s\tremaining: 9.97s\n",
            "1460:\tlearn: 1.0847165\ttotal: 5.71s\tremaining: 9.92s\n",
            "1470:\tlearn: 1.0846855\ttotal: 5.75s\tremaining: 9.88s\n",
            "1480:\tlearn: 1.0846398\ttotal: 5.78s\tremaining: 9.83s\n",
            "1490:\tlearn: 1.0845976\ttotal: 5.82s\tremaining: 9.79s\n",
            "1500:\tlearn: 1.0845561\ttotal: 5.86s\tremaining: 9.75s\n",
            "1510:\tlearn: 1.0845084\ttotal: 5.89s\tremaining: 9.71s\n",
            "1520:\tlearn: 1.0844774\ttotal: 5.93s\tremaining: 9.66s\n",
            "1530:\tlearn: 1.0844177\ttotal: 5.97s\tremaining: 9.63s\n",
            "1540:\tlearn: 1.0843695\ttotal: 6.01s\tremaining: 9.59s\n",
            "1550:\tlearn: 1.0843105\ttotal: 6.04s\tremaining: 9.54s\n",
            "1560:\tlearn: 1.0842691\ttotal: 6.08s\tremaining: 9.51s\n",
            "1570:\tlearn: 1.0842125\ttotal: 6.12s\tremaining: 9.47s\n",
            "1580:\tlearn: 1.0841699\ttotal: 6.16s\tremaining: 9.43s\n",
            "1590:\tlearn: 1.0841261\ttotal: 6.2s\tremaining: 9.38s\n",
            "1600:\tlearn: 1.0840853\ttotal: 6.24s\tremaining: 9.36s\n",
            "1610:\tlearn: 1.0840316\ttotal: 6.28s\tremaining: 9.31s\n",
            "1620:\tlearn: 1.0839772\ttotal: 6.33s\tremaining: 9.29s\n",
            "1630:\tlearn: 1.0839342\ttotal: 6.37s\tremaining: 9.25s\n",
            "1640:\tlearn: 1.0838833\ttotal: 6.4s\tremaining: 9.21s\n",
            "1650:\tlearn: 1.0838383\ttotal: 6.44s\tremaining: 9.16s\n",
            "1660:\tlearn: 1.0837891\ttotal: 6.48s\tremaining: 9.12s\n",
            "1670:\tlearn: 1.0837458\ttotal: 6.51s\tremaining: 9.08s\n",
            "1680:\tlearn: 1.0837173\ttotal: 6.55s\tremaining: 9.04s\n",
            "1690:\tlearn: 1.0836724\ttotal: 6.59s\tremaining: 9s\n",
            "1700:\tlearn: 1.0836198\ttotal: 6.63s\tremaining: 8.96s\n",
            "1710:\tlearn: 1.0835583\ttotal: 6.66s\tremaining: 8.91s\n",
            "1720:\tlearn: 1.0835120\ttotal: 6.7s\tremaining: 8.87s\n",
            "1730:\tlearn: 1.0834642\ttotal: 6.74s\tremaining: 8.83s\n",
            "1740:\tlearn: 1.0834390\ttotal: 6.78s\tremaining: 8.8s\n",
            "1750:\tlearn: 1.0833954\ttotal: 6.82s\tremaining: 8.76s\n",
            "1760:\tlearn: 1.0833626\ttotal: 6.85s\tremaining: 8.71s\n",
            "1770:\tlearn: 1.0833273\ttotal: 6.89s\tremaining: 8.67s\n",
            "1780:\tlearn: 1.0832814\ttotal: 6.93s\tremaining: 8.63s\n",
            "1790:\tlearn: 1.0832531\ttotal: 6.97s\tremaining: 8.59s\n",
            "1800:\tlearn: 1.0832169\ttotal: 7.01s\tremaining: 8.56s\n",
            "1810:\tlearn: 1.0831740\ttotal: 7.05s\tremaining: 8.52s\n",
            "1820:\tlearn: 1.0831337\ttotal: 7.08s\tremaining: 8.48s\n",
            "1830:\tlearn: 1.0830828\ttotal: 7.12s\tremaining: 8.44s\n",
            "1840:\tlearn: 1.0830504\ttotal: 7.16s\tremaining: 8.39s\n",
            "1850:\tlearn: 1.0829878\ttotal: 7.2s\tremaining: 8.35s\n",
            "1860:\tlearn: 1.0829452\ttotal: 7.25s\tremaining: 8.33s\n",
            "1870:\tlearn: 1.0829022\ttotal: 7.29s\tremaining: 8.3s\n",
            "1880:\tlearn: 1.0828651\ttotal: 7.33s\tremaining: 8.26s\n",
            "1890:\tlearn: 1.0828170\ttotal: 7.37s\tremaining: 8.22s\n",
            "1900:\tlearn: 1.0827738\ttotal: 7.41s\tremaining: 8.18s\n",
            "1910:\tlearn: 1.0827450\ttotal: 7.45s\tremaining: 8.15s\n",
            "1920:\tlearn: 1.0827183\ttotal: 7.49s\tremaining: 8.11s\n",
            "1930:\tlearn: 1.0826774\ttotal: 7.53s\tremaining: 8.06s\n",
            "1940:\tlearn: 1.0826380\ttotal: 7.56s\tremaining: 8.02s\n",
            "1950:\tlearn: 1.0825882\ttotal: 7.6s\tremaining: 7.98s\n",
            "1960:\tlearn: 1.0825437\ttotal: 7.64s\tremaining: 7.94s\n",
            "1970:\tlearn: 1.0825001\ttotal: 7.68s\tremaining: 7.9s\n",
            "1980:\tlearn: 1.0824650\ttotal: 7.71s\tremaining: 7.86s\n",
            "1990:\tlearn: 1.0824256\ttotal: 7.75s\tremaining: 7.82s\n",
            "2000:\tlearn: 1.0823971\ttotal: 7.79s\tremaining: 7.78s\n",
            "2010:\tlearn: 1.0823599\ttotal: 7.82s\tremaining: 7.74s\n",
            "2020:\tlearn: 1.0823262\ttotal: 7.86s\tremaining: 7.7s\n",
            "2030:\tlearn: 1.0822983\ttotal: 7.91s\tremaining: 7.66s\n",
            "2040:\tlearn: 1.0822660\ttotal: 7.94s\tremaining: 7.62s\n",
            "2050:\tlearn: 1.0822274\ttotal: 7.98s\tremaining: 7.58s\n",
            "2060:\tlearn: 1.0821992\ttotal: 8.01s\tremaining: 7.54s\n",
            "2070:\tlearn: 1.0821589\ttotal: 8.05s\tremaining: 7.5s\n",
            "2080:\tlearn: 1.0821153\ttotal: 8.09s\tremaining: 7.46s\n",
            "2090:\tlearn: 1.0820702\ttotal: 8.13s\tremaining: 7.42s\n",
            "2100:\tlearn: 1.0820366\ttotal: 8.16s\tremaining: 7.38s\n",
            "2110:\tlearn: 1.0819975\ttotal: 8.21s\tremaining: 7.35s\n",
            "2120:\tlearn: 1.0819587\ttotal: 8.25s\tremaining: 7.3s\n",
            "2130:\tlearn: 1.0819062\ttotal: 8.28s\tremaining: 7.26s\n",
            "2140:\tlearn: 1.0818677\ttotal: 8.32s\tremaining: 7.22s\n",
            "2150:\tlearn: 1.0818306\ttotal: 8.36s\tremaining: 7.19s\n",
            "2160:\tlearn: 1.0817756\ttotal: 8.4s\tremaining: 7.15s\n",
            "2170:\tlearn: 1.0817305\ttotal: 8.44s\tremaining: 7.11s\n",
            "2180:\tlearn: 1.0816871\ttotal: 8.48s\tremaining: 7.07s\n",
            "2190:\tlearn: 1.0816550\ttotal: 8.52s\tremaining: 7.03s\n",
            "2200:\tlearn: 1.0816204\ttotal: 8.55s\tremaining: 6.99s\n",
            "2210:\tlearn: 1.0815734\ttotal: 8.6s\tremaining: 6.95s\n",
            "2220:\tlearn: 1.0815440\ttotal: 8.63s\tremaining: 6.92s\n",
            "2230:\tlearn: 1.0815029\ttotal: 8.67s\tremaining: 6.87s\n",
            "2240:\tlearn: 1.0814812\ttotal: 8.7s\tremaining: 6.83s\n",
            "2250:\tlearn: 1.0814495\ttotal: 8.74s\tremaining: 6.79s\n",
            "2260:\tlearn: 1.0814178\ttotal: 8.78s\tremaining: 6.75s\n",
            "2270:\tlearn: 1.0813881\ttotal: 8.82s\tremaining: 6.72s\n",
            "2280:\tlearn: 1.0813500\ttotal: 8.86s\tremaining: 6.68s\n",
            "2290:\tlearn: 1.0813111\ttotal: 8.9s\tremaining: 6.64s\n",
            "2300:\tlearn: 1.0812809\ttotal: 8.93s\tremaining: 6.59s\n",
            "2310:\tlearn: 1.0812414\ttotal: 8.97s\tremaining: 6.55s\n",
            "2320:\tlearn: 1.0812098\ttotal: 9s\tremaining: 6.51s\n",
            "2330:\tlearn: 1.0811756\ttotal: 9.04s\tremaining: 6.48s\n",
            "2340:\tlearn: 1.0811346\ttotal: 9.09s\tremaining: 6.44s\n",
            "2350:\tlearn: 1.0811014\ttotal: 9.12s\tremaining: 6.4s\n",
            "2360:\tlearn: 1.0810621\ttotal: 9.16s\tremaining: 6.36s\n",
            "2370:\tlearn: 1.0810192\ttotal: 9.2s\tremaining: 6.32s\n",
            "2380:\tlearn: 1.0809675\ttotal: 9.24s\tremaining: 6.28s\n",
            "2390:\tlearn: 1.0809288\ttotal: 9.29s\tremaining: 6.25s\n",
            "2400:\tlearn: 1.0808840\ttotal: 9.33s\tremaining: 6.21s\n",
            "2410:\tlearn: 1.0808406\ttotal: 9.36s\tremaining: 6.17s\n",
            "2420:\tlearn: 1.0807964\ttotal: 9.4s\tremaining: 6.13s\n",
            "2430:\tlearn: 1.0807586\ttotal: 9.44s\tremaining: 6.09s\n",
            "2440:\tlearn: 1.0807258\ttotal: 9.47s\tremaining: 6.05s\n",
            "2450:\tlearn: 1.0806895\ttotal: 9.52s\tremaining: 6.01s\n",
            "2460:\tlearn: 1.0806443\ttotal: 9.55s\tremaining: 5.97s\n",
            "2470:\tlearn: 1.0806042\ttotal: 9.59s\tremaining: 5.93s\n",
            "2480:\tlearn: 1.0805745\ttotal: 9.63s\tremaining: 5.89s\n",
            "2490:\tlearn: 1.0805517\ttotal: 9.67s\tremaining: 5.86s\n",
            "2500:\tlearn: 1.0805131\ttotal: 9.7s\tremaining: 5.82s\n",
            "2510:\tlearn: 1.0804681\ttotal: 9.74s\tremaining: 5.78s\n",
            "2520:\tlearn: 1.0804323\ttotal: 9.78s\tremaining: 5.74s\n",
            "2530:\tlearn: 1.0804076\ttotal: 9.82s\tremaining: 5.7s\n",
            "2540:\tlearn: 1.0803785\ttotal: 9.85s\tremaining: 5.66s\n",
            "2550:\tlearn: 1.0803479\ttotal: 9.89s\tremaining: 5.62s\n",
            "2560:\tlearn: 1.0803222\ttotal: 9.92s\tremaining: 5.58s\n",
            "2570:\tlearn: 1.0802921\ttotal: 9.97s\tremaining: 5.54s\n",
            "2580:\tlearn: 1.0802627\ttotal: 10s\tremaining: 5.5s\n",
            "2590:\tlearn: 1.0802283\ttotal: 10s\tremaining: 5.46s\n",
            "2600:\tlearn: 1.0802005\ttotal: 10.1s\tremaining: 5.42s\n",
            "2610:\tlearn: 1.0801624\ttotal: 10.1s\tremaining: 5.39s\n",
            "2620:\tlearn: 1.0801323\ttotal: 10.2s\tremaining: 5.35s\n",
            "2630:\tlearn: 1.0800875\ttotal: 10.2s\tremaining: 5.32s\n",
            "2640:\tlearn: 1.0800398\ttotal: 10.3s\tremaining: 5.28s\n",
            "2650:\tlearn: 1.0800026\ttotal: 10.3s\tremaining: 5.24s\n",
            "2660:\tlearn: 1.0799590\ttotal: 10.3s\tremaining: 5.2s\n",
            "2670:\tlearn: 1.0799251\ttotal: 10.4s\tremaining: 5.16s\n",
            "2680:\tlearn: 1.0798923\ttotal: 10.4s\tremaining: 5.12s\n",
            "2690:\tlearn: 1.0798574\ttotal: 10.4s\tremaining: 5.08s\n",
            "2700:\tlearn: 1.0798187\ttotal: 10.5s\tremaining: 5.04s\n",
            "2710:\tlearn: 1.0797985\ttotal: 10.5s\tremaining: 5s\n",
            "2720:\tlearn: 1.0797632\ttotal: 10.5s\tremaining: 4.96s\n",
            "2730:\tlearn: 1.0797275\ttotal: 10.6s\tremaining: 4.92s\n",
            "2740:\tlearn: 1.0797026\ttotal: 10.6s\tremaining: 4.88s\n",
            "2750:\tlearn: 1.0796618\ttotal: 10.7s\tremaining: 4.84s\n",
            "2760:\tlearn: 1.0796230\ttotal: 10.7s\tremaining: 4.8s\n",
            "2770:\tlearn: 1.0795859\ttotal: 10.7s\tremaining: 4.76s\n",
            "2780:\tlearn: 1.0795472\ttotal: 10.8s\tremaining: 4.72s\n",
            "2790:\tlearn: 1.0795042\ttotal: 10.8s\tremaining: 4.69s\n",
            "2800:\tlearn: 1.0794813\ttotal: 10.9s\tremaining: 4.65s\n",
            "2810:\tlearn: 1.0794419\ttotal: 10.9s\tremaining: 4.61s\n",
            "2820:\tlearn: 1.0794130\ttotal: 10.9s\tremaining: 4.57s\n",
            "2830:\tlearn: 1.0793904\ttotal: 11s\tremaining: 4.53s\n",
            "2840:\tlearn: 1.0793680\ttotal: 11s\tremaining: 4.49s\n",
            "2850:\tlearn: 1.0793213\ttotal: 11.1s\tremaining: 4.45s\n",
            "2860:\tlearn: 1.0792822\ttotal: 11.1s\tremaining: 4.41s\n",
            "2870:\tlearn: 1.0792585\ttotal: 11.1s\tremaining: 4.37s\n",
            "2880:\tlearn: 1.0792277\ttotal: 11.2s\tremaining: 4.34s\n",
            "2890:\tlearn: 1.0791885\ttotal: 11.2s\tremaining: 4.3s\n",
            "2900:\tlearn: 1.0791476\ttotal: 11.2s\tremaining: 4.26s\n",
            "2910:\tlearn: 1.0791101\ttotal: 11.3s\tremaining: 4.22s\n",
            "2920:\tlearn: 1.0790928\ttotal: 11.3s\tremaining: 4.18s\n",
            "2930:\tlearn: 1.0790675\ttotal: 11.4s\tremaining: 4.14s\n",
            "2940:\tlearn: 1.0790429\ttotal: 11.4s\tremaining: 4.11s\n",
            "2950:\tlearn: 1.0790085\ttotal: 11.4s\tremaining: 4.07s\n",
            "2960:\tlearn: 1.0789837\ttotal: 11.5s\tremaining: 4.03s\n",
            "2970:\tlearn: 1.0789546\ttotal: 11.5s\tremaining: 3.99s\n",
            "2980:\tlearn: 1.0789154\ttotal: 11.6s\tremaining: 3.95s\n",
            "2990:\tlearn: 1.0788696\ttotal: 11.6s\tremaining: 3.91s\n",
            "3000:\tlearn: 1.0788337\ttotal: 11.6s\tremaining: 3.87s\n",
            "3010:\tlearn: 1.0788023\ttotal: 11.7s\tremaining: 3.83s\n",
            "3020:\tlearn: 1.0787704\ttotal: 11.7s\tremaining: 3.79s\n",
            "3030:\tlearn: 1.0787297\ttotal: 11.7s\tremaining: 3.75s\n",
            "3040:\tlearn: 1.0786836\ttotal: 11.8s\tremaining: 3.71s\n",
            "3050:\tlearn: 1.0786549\ttotal: 11.8s\tremaining: 3.67s\n",
            "3060:\tlearn: 1.0786220\ttotal: 11.9s\tremaining: 3.64s\n",
            "3070:\tlearn: 1.0785963\ttotal: 11.9s\tremaining: 3.6s\n",
            "3080:\tlearn: 1.0785598\ttotal: 11.9s\tremaining: 3.56s\n",
            "3090:\tlearn: 1.0785248\ttotal: 12s\tremaining: 3.52s\n",
            "3100:\tlearn: 1.0784839\ttotal: 12s\tremaining: 3.48s\n",
            "3110:\tlearn: 1.0784443\ttotal: 12s\tremaining: 3.44s\n",
            "3120:\tlearn: 1.0784168\ttotal: 12.1s\tremaining: 3.4s\n",
            "3130:\tlearn: 1.0783883\ttotal: 12.1s\tremaining: 3.36s\n",
            "3140:\tlearn: 1.0783459\ttotal: 12.2s\tremaining: 3.33s\n",
            "3150:\tlearn: 1.0783177\ttotal: 12.2s\tremaining: 3.29s\n",
            "3160:\tlearn: 1.0782815\ttotal: 12.2s\tremaining: 3.25s\n",
            "3170:\tlearn: 1.0782407\ttotal: 12.3s\tremaining: 3.21s\n",
            "3180:\tlearn: 1.0781997\ttotal: 12.3s\tremaining: 3.17s\n",
            "3190:\tlearn: 1.0781656\ttotal: 12.4s\tremaining: 3.13s\n",
            "3200:\tlearn: 1.0781410\ttotal: 12.4s\tremaining: 3.1s\n",
            "3210:\tlearn: 1.0781067\ttotal: 12.4s\tremaining: 3.06s\n",
            "3220:\tlearn: 1.0780748\ttotal: 12.5s\tremaining: 3.02s\n",
            "3230:\tlearn: 1.0780396\ttotal: 12.5s\tremaining: 2.98s\n",
            "3240:\tlearn: 1.0780202\ttotal: 12.6s\tremaining: 2.94s\n",
            "3250:\tlearn: 1.0779768\ttotal: 12.6s\tremaining: 2.9s\n",
            "3260:\tlearn: 1.0779549\ttotal: 12.6s\tremaining: 2.86s\n",
            "3270:\tlearn: 1.0779298\ttotal: 12.7s\tremaining: 2.82s\n",
            "3280:\tlearn: 1.0779059\ttotal: 12.7s\tremaining: 2.79s\n",
            "3290:\tlearn: 1.0778865\ttotal: 12.7s\tremaining: 2.75s\n",
            "3300:\tlearn: 1.0778640\ttotal: 12.8s\tremaining: 2.71s\n",
            "3310:\tlearn: 1.0778350\ttotal: 12.8s\tremaining: 2.67s\n",
            "3320:\tlearn: 1.0778042\ttotal: 12.9s\tremaining: 2.63s\n",
            "3330:\tlearn: 1.0777786\ttotal: 12.9s\tremaining: 2.59s\n",
            "3340:\tlearn: 1.0777535\ttotal: 12.9s\tremaining: 2.55s\n",
            "3350:\tlearn: 1.0777291\ttotal: 13s\tremaining: 2.51s\n",
            "3360:\tlearn: 1.0776963\ttotal: 13s\tremaining: 2.47s\n",
            "3370:\tlearn: 1.0776717\ttotal: 13s\tremaining: 2.43s\n",
            "3380:\tlearn: 1.0776431\ttotal: 13.1s\tremaining: 2.4s\n",
            "3390:\tlearn: 1.0776244\ttotal: 13.1s\tremaining: 2.36s\n",
            "3400:\tlearn: 1.0775976\ttotal: 13.2s\tremaining: 2.32s\n",
            "3410:\tlearn: 1.0775596\ttotal: 13.2s\tremaining: 2.28s\n",
            "3420:\tlearn: 1.0775313\ttotal: 13.2s\tremaining: 2.24s\n",
            "3430:\tlearn: 1.0774959\ttotal: 13.3s\tremaining: 2.2s\n",
            "3440:\tlearn: 1.0774585\ttotal: 13.3s\tremaining: 2.17s\n",
            "3450:\tlearn: 1.0774339\ttotal: 13.4s\tremaining: 2.13s\n",
            "3460:\tlearn: 1.0774091\ttotal: 13.4s\tremaining: 2.09s\n",
            "3470:\tlearn: 1.0773874\ttotal: 13.5s\tremaining: 2.05s\n",
            "3480:\tlearn: 1.0773548\ttotal: 13.5s\tremaining: 2.01s\n",
            "3490:\tlearn: 1.0773330\ttotal: 13.6s\tremaining: 1.98s\n",
            "3500:\tlearn: 1.0772903\ttotal: 13.6s\tremaining: 1.94s\n",
            "3510:\tlearn: 1.0772600\ttotal: 13.6s\tremaining: 1.9s\n",
            "3520:\tlearn: 1.0772296\ttotal: 13.7s\tremaining: 1.86s\n",
            "3530:\tlearn: 1.0771944\ttotal: 13.7s\tremaining: 1.82s\n",
            "3540:\tlearn: 1.0771546\ttotal: 13.7s\tremaining: 1.78s\n",
            "3550:\tlearn: 1.0771297\ttotal: 13.8s\tremaining: 1.74s\n",
            "3560:\tlearn: 1.0770952\ttotal: 13.8s\tremaining: 1.7s\n",
            "3570:\tlearn: 1.0770625\ttotal: 13.8s\tremaining: 1.66s\n",
            "3580:\tlearn: 1.0770341\ttotal: 13.9s\tremaining: 1.63s\n",
            "3590:\tlearn: 1.0770061\ttotal: 13.9s\tremaining: 1.59s\n",
            "3600:\tlearn: 1.0769872\ttotal: 14s\tremaining: 1.55s\n",
            "3610:\tlearn: 1.0769658\ttotal: 14s\tremaining: 1.51s\n",
            "3620:\tlearn: 1.0769312\ttotal: 14s\tremaining: 1.47s\n",
            "3630:\tlearn: 1.0769073\ttotal: 14.1s\tremaining: 1.43s\n",
            "3640:\tlearn: 1.0768632\ttotal: 14.1s\tremaining: 1.39s\n",
            "3650:\tlearn: 1.0768182\ttotal: 14.2s\tremaining: 1.35s\n",
            "3660:\tlearn: 1.0767920\ttotal: 14.2s\tremaining: 1.31s\n",
            "3670:\tlearn: 1.0767593\ttotal: 14.2s\tremaining: 1.28s\n",
            "3680:\tlearn: 1.0767389\ttotal: 14.3s\tremaining: 1.24s\n",
            "3690:\tlearn: 1.0767072\ttotal: 14.3s\tremaining: 1.2s\n",
            "3700:\tlearn: 1.0766816\ttotal: 14.4s\tremaining: 1.16s\n",
            "3710:\tlearn: 1.0766502\ttotal: 14.4s\tremaining: 1.12s\n",
            "3720:\tlearn: 1.0766224\ttotal: 14.4s\tremaining: 1.08s\n",
            "3730:\tlearn: 1.0765959\ttotal: 14.5s\tremaining: 1.04s\n",
            "3740:\tlearn: 1.0765756\ttotal: 14.5s\tremaining: 1s\n",
            "3750:\tlearn: 1.0765570\ttotal: 14.6s\tremaining: 966ms\n",
            "3760:\tlearn: 1.0765348\ttotal: 14.6s\tremaining: 927ms\n",
            "3770:\tlearn: 1.0765040\ttotal: 14.6s\tremaining: 888ms\n",
            "3780:\tlearn: 1.0764726\ttotal: 14.7s\tremaining: 850ms\n",
            "3790:\tlearn: 1.0764480\ttotal: 14.7s\tremaining: 811ms\n",
            "3800:\tlearn: 1.0764248\ttotal: 14.8s\tremaining: 772ms\n",
            "3810:\tlearn: 1.0763863\ttotal: 14.8s\tremaining: 734ms\n",
            "3820:\tlearn: 1.0763467\ttotal: 14.8s\tremaining: 695ms\n",
            "3830:\tlearn: 1.0763164\ttotal: 14.9s\tremaining: 656ms\n",
            "3840:\tlearn: 1.0762934\ttotal: 14.9s\tremaining: 617ms\n",
            "3850:\tlearn: 1.0762665\ttotal: 14.9s\tremaining: 578ms\n",
            "3860:\tlearn: 1.0762442\ttotal: 15s\tremaining: 539ms\n",
            "3870:\tlearn: 1.0762084\ttotal: 15s\tremaining: 500ms\n",
            "3880:\tlearn: 1.0761732\ttotal: 15.1s\tremaining: 462ms\n",
            "3890:\tlearn: 1.0761415\ttotal: 15.1s\tremaining: 423ms\n",
            "3900:\tlearn: 1.0761216\ttotal: 15.1s\tremaining: 384ms\n",
            "3910:\tlearn: 1.0760946\ttotal: 15.2s\tremaining: 346ms\n",
            "3920:\tlearn: 1.0760641\ttotal: 15.2s\tremaining: 307ms\n",
            "3930:\tlearn: 1.0760411\ttotal: 15.3s\tremaining: 268ms\n",
            "3940:\tlearn: 1.0760127\ttotal: 15.3s\tremaining: 229ms\n",
            "3950:\tlearn: 1.0759789\ttotal: 15.3s\tremaining: 190ms\n",
            "3960:\tlearn: 1.0759604\ttotal: 15.4s\tremaining: 151ms\n",
            "3970:\tlearn: 1.0759345\ttotal: 15.4s\tremaining: 113ms\n",
            "3980:\tlearn: 1.0759113\ttotal: 15.4s\tremaining: 73.7ms\n",
            "3990:\tlearn: 1.0758811\ttotal: 15.5s\tremaining: 34.9ms\n",
            "3999:\tlearn: 1.0758575\ttotal: 15.5s\tremaining: 0us\n",
            "Fold 3, Valid score = 1.08465\n"
          ],
          "name": "stdout"
        },
        {
          "output_type": "stream",
          "text": [
            "Warning: less than 75% gpu memory available for training. Free: 5249.75 Total: 16280.875\n"
          ],
          "name": "stderr"
        },
        {
          "output_type": "stream",
          "text": [
            "0:\tlearn: 1.3525927\ttotal: 5.44ms\tremaining: 21.8s\n",
            "10:\tlearn: 1.1883344\ttotal: 44.3ms\tremaining: 16.1s\n",
            "20:\tlearn: 1.1387004\ttotal: 85.2ms\tremaining: 16.1s\n",
            "30:\tlearn: 1.1210619\ttotal: 126ms\tremaining: 16.1s\n",
            "40:\tlearn: 1.1143659\ttotal: 173ms\tremaining: 16.7s\n",
            "50:\tlearn: 1.1112374\ttotal: 231ms\tremaining: 17.9s\n",
            "60:\tlearn: 1.1095273\ttotal: 274ms\tremaining: 17.7s\n",
            "70:\tlearn: 1.1081965\ttotal: 314ms\tremaining: 17.4s\n",
            "80:\tlearn: 1.1071441\ttotal: 355ms\tremaining: 17.2s\n",
            "90:\tlearn: 1.1061738\ttotal: 393ms\tremaining: 16.9s\n",
            "100:\tlearn: 1.1053186\ttotal: 438ms\tremaining: 16.9s\n",
            "110:\tlearn: 1.1046768\ttotal: 475ms\tremaining: 16.6s\n",
            "120:\tlearn: 1.1039992\ttotal: 515ms\tremaining: 16.5s\n",
            "130:\tlearn: 1.1034656\ttotal: 550ms\tremaining: 16.3s\n",
            "140:\tlearn: 1.1031392\ttotal: 587ms\tremaining: 16.1s\n",
            "150:\tlearn: 1.1026506\ttotal: 627ms\tremaining: 16s\n",
            "160:\tlearn: 1.1023024\ttotal: 669ms\tremaining: 16s\n",
            "170:\tlearn: 1.1018107\ttotal: 709ms\tremaining: 15.9s\n",
            "180:\tlearn: 1.1013022\ttotal: 751ms\tremaining: 15.9s\n",
            "190:\tlearn: 1.1008898\ttotal: 788ms\tremaining: 15.7s\n",
            "200:\tlearn: 1.1004620\ttotal: 827ms\tremaining: 15.6s\n",
            "210:\tlearn: 1.1001163\ttotal: 864ms\tremaining: 15.5s\n",
            "220:\tlearn: 1.0997411\ttotal: 907ms\tremaining: 15.5s\n",
            "230:\tlearn: 1.0994947\ttotal: 944ms\tremaining: 15.4s\n",
            "240:\tlearn: 1.0990955\ttotal: 981ms\tremaining: 15.3s\n",
            "250:\tlearn: 1.0987368\ttotal: 1.02s\tremaining: 15.2s\n",
            "260:\tlearn: 1.0985100\ttotal: 1.05s\tremaining: 15.1s\n",
            "270:\tlearn: 1.0981380\ttotal: 1.09s\tremaining: 15.1s\n",
            "280:\tlearn: 1.0979536\ttotal: 1.15s\tremaining: 15.2s\n",
            "290:\tlearn: 1.0975815\ttotal: 1.18s\tremaining: 15.1s\n",
            "300:\tlearn: 1.0973502\ttotal: 1.23s\tremaining: 15.1s\n",
            "310:\tlearn: 1.0971125\ttotal: 1.27s\tremaining: 15.1s\n",
            "320:\tlearn: 1.0967652\ttotal: 1.31s\tremaining: 15s\n",
            "330:\tlearn: 1.0964276\ttotal: 1.35s\tremaining: 15s\n",
            "340:\tlearn: 1.0962336\ttotal: 1.39s\tremaining: 14.9s\n",
            "350:\tlearn: 1.0958747\ttotal: 1.42s\tremaining: 14.8s\n",
            "360:\tlearn: 1.0956740\ttotal: 1.45s\tremaining: 14.7s\n",
            "370:\tlearn: 1.0953920\ttotal: 1.49s\tremaining: 14.6s\n",
            "380:\tlearn: 1.0950474\ttotal: 1.52s\tremaining: 14.5s\n",
            "390:\tlearn: 1.0947836\ttotal: 1.57s\tremaining: 14.5s\n",
            "400:\tlearn: 1.0945271\ttotal: 1.6s\tremaining: 14.4s\n",
            "410:\tlearn: 1.0942972\ttotal: 1.64s\tremaining: 14.3s\n",
            "420:\tlearn: 1.0940986\ttotal: 1.67s\tremaining: 14.2s\n",
            "430:\tlearn: 1.0938666\ttotal: 1.71s\tremaining: 14.1s\n",
            "440:\tlearn: 1.0936573\ttotal: 1.74s\tremaining: 14.1s\n",
            "450:\tlearn: 1.0934554\ttotal: 1.78s\tremaining: 14s\n",
            "460:\tlearn: 1.0932872\ttotal: 1.82s\tremaining: 14s\n",
            "470:\tlearn: 1.0931081\ttotal: 1.85s\tremaining: 13.9s\n",
            "480:\tlearn: 1.0929507\ttotal: 1.89s\tremaining: 13.8s\n",
            "490:\tlearn: 1.0927652\ttotal: 1.92s\tremaining: 13.7s\n",
            "500:\tlearn: 1.0925466\ttotal: 1.96s\tremaining: 13.7s\n",
            "510:\tlearn: 1.0923864\ttotal: 2s\tremaining: 13.7s\n",
            "520:\tlearn: 1.0922553\ttotal: 2.04s\tremaining: 13.6s\n",
            "530:\tlearn: 1.0920694\ttotal: 2.07s\tremaining: 13.5s\n",
            "540:\tlearn: 1.0919381\ttotal: 2.11s\tremaining: 13.5s\n",
            "550:\tlearn: 1.0917704\ttotal: 2.15s\tremaining: 13.4s\n",
            "560:\tlearn: 1.0916219\ttotal: 2.19s\tremaining: 13.4s\n",
            "570:\tlearn: 1.0914636\ttotal: 2.23s\tremaining: 13.4s\n",
            "580:\tlearn: 1.0912830\ttotal: 2.27s\tremaining: 13.3s\n",
            "590:\tlearn: 1.0911140\ttotal: 2.3s\tremaining: 13.3s\n",
            "600:\tlearn: 1.0909735\ttotal: 2.34s\tremaining: 13.2s\n",
            "610:\tlearn: 1.0908248\ttotal: 2.38s\tremaining: 13.2s\n",
            "620:\tlearn: 1.0906804\ttotal: 2.41s\tremaining: 13.1s\n",
            "630:\tlearn: 1.0905543\ttotal: 2.46s\tremaining: 13.1s\n",
            "640:\tlearn: 1.0904617\ttotal: 2.49s\tremaining: 13s\n",
            "650:\tlearn: 1.0903449\ttotal: 2.52s\tremaining: 13s\n",
            "660:\tlearn: 1.0902308\ttotal: 2.56s\tremaining: 13s\n",
            "670:\tlearn: 1.0901270\ttotal: 2.6s\tremaining: 12.9s\n",
            "680:\tlearn: 1.0900185\ttotal: 2.63s\tremaining: 12.8s\n",
            "690:\tlearn: 1.0899041\ttotal: 2.67s\tremaining: 12.8s\n",
            "700:\tlearn: 1.0897484\ttotal: 2.71s\tremaining: 12.7s\n",
            "710:\tlearn: 1.0896027\ttotal: 2.74s\tremaining: 12.7s\n",
            "720:\tlearn: 1.0894852\ttotal: 2.78s\tremaining: 12.6s\n",
            "730:\tlearn: 1.0893829\ttotal: 2.82s\tremaining: 12.6s\n",
            "740:\tlearn: 1.0893196\ttotal: 2.85s\tremaining: 12.6s\n",
            "750:\tlearn: 1.0891947\ttotal: 2.9s\tremaining: 12.5s\n",
            "760:\tlearn: 1.0890700\ttotal: 2.93s\tremaining: 12.5s\n",
            "770:\tlearn: 1.0889779\ttotal: 2.96s\tremaining: 12.4s\n",
            "780:\tlearn: 1.0888798\ttotal: 3s\tremaining: 12.4s\n",
            "790:\tlearn: 1.0887427\ttotal: 3.03s\tremaining: 12.3s\n",
            "800:\tlearn: 1.0886475\ttotal: 3.07s\tremaining: 12.2s\n",
            "810:\tlearn: 1.0885623\ttotal: 3.11s\tremaining: 12.2s\n",
            "820:\tlearn: 1.0884725\ttotal: 3.14s\tremaining: 12.2s\n",
            "830:\tlearn: 1.0883622\ttotal: 3.19s\tremaining: 12.2s\n",
            "840:\tlearn: 1.0882664\ttotal: 3.22s\tremaining: 12.1s\n",
            "850:\tlearn: 1.0881456\ttotal: 3.26s\tremaining: 12.1s\n",
            "860:\tlearn: 1.0880616\ttotal: 3.29s\tremaining: 12s\n",
            "870:\tlearn: 1.0879567\ttotal: 3.33s\tremaining: 12s\n",
            "880:\tlearn: 1.0878864\ttotal: 3.37s\tremaining: 11.9s\n",
            "890:\tlearn: 1.0878329\ttotal: 3.4s\tremaining: 11.9s\n",
            "900:\tlearn: 1.0877411\ttotal: 3.44s\tremaining: 11.8s\n",
            "910:\tlearn: 1.0876776\ttotal: 3.48s\tremaining: 11.8s\n",
            "920:\tlearn: 1.0875883\ttotal: 3.51s\tremaining: 11.7s\n",
            "930:\tlearn: 1.0874927\ttotal: 3.55s\tremaining: 11.7s\n",
            "940:\tlearn: 1.0874154\ttotal: 3.58s\tremaining: 11.7s\n",
            "950:\tlearn: 1.0873464\ttotal: 3.62s\tremaining: 11.6s\n",
            "960:\tlearn: 1.0872683\ttotal: 3.65s\tremaining: 11.6s\n",
            "970:\tlearn: 1.0871743\ttotal: 3.69s\tremaining: 11.5s\n",
            "980:\tlearn: 1.0870926\ttotal: 3.73s\tremaining: 11.5s\n",
            "990:\tlearn: 1.0870323\ttotal: 3.77s\tremaining: 11.4s\n",
            "1000:\tlearn: 1.0869661\ttotal: 3.81s\tremaining: 11.4s\n",
            "1010:\tlearn: 1.0868938\ttotal: 3.84s\tremaining: 11.4s\n",
            "1020:\tlearn: 1.0868025\ttotal: 3.88s\tremaining: 11.3s\n",
            "1030:\tlearn: 1.0867307\ttotal: 3.92s\tremaining: 11.3s\n",
            "1040:\tlearn: 1.0866590\ttotal: 3.95s\tremaining: 11.2s\n",
            "1050:\tlearn: 1.0866026\ttotal: 4s\tremaining: 11.2s\n",
            "1060:\tlearn: 1.0865409\ttotal: 4.04s\tremaining: 11.2s\n",
            "1070:\tlearn: 1.0864677\ttotal: 4.08s\tremaining: 11.2s\n",
            "1080:\tlearn: 1.0864144\ttotal: 4.12s\tremaining: 11.1s\n",
            "1090:\tlearn: 1.0863629\ttotal: 4.17s\tremaining: 11.1s\n",
            "1100:\tlearn: 1.0863207\ttotal: 4.21s\tremaining: 11.1s\n",
            "1110:\tlearn: 1.0862535\ttotal: 4.25s\tremaining: 11.1s\n",
            "1120:\tlearn: 1.0861590\ttotal: 4.29s\tremaining: 11s\n",
            "1130:\tlearn: 1.0860923\ttotal: 4.33s\tremaining: 11s\n",
            "1140:\tlearn: 1.0860126\ttotal: 4.36s\tremaining: 10.9s\n",
            "1150:\tlearn: 1.0859600\ttotal: 4.4s\tremaining: 10.9s\n",
            "1160:\tlearn: 1.0858926\ttotal: 4.44s\tremaining: 10.9s\n",
            "1170:\tlearn: 1.0858270\ttotal: 4.49s\tremaining: 10.8s\n",
            "1180:\tlearn: 1.0857862\ttotal: 4.52s\tremaining: 10.8s\n",
            "1190:\tlearn: 1.0857214\ttotal: 4.56s\tremaining: 10.8s\n",
            "1200:\tlearn: 1.0856475\ttotal: 4.6s\tremaining: 10.7s\n",
            "1210:\tlearn: 1.0855923\ttotal: 4.63s\tremaining: 10.7s\n",
            "1220:\tlearn: 1.0855380\ttotal: 4.67s\tremaining: 10.6s\n",
            "1230:\tlearn: 1.0854650\ttotal: 4.71s\tremaining: 10.6s\n",
            "1240:\tlearn: 1.0853922\ttotal: 4.74s\tremaining: 10.5s\n",
            "1250:\tlearn: 1.0853311\ttotal: 4.78s\tremaining: 10.5s\n",
            "1260:\tlearn: 1.0852825\ttotal: 4.81s\tremaining: 10.4s\n",
            "1270:\tlearn: 1.0852165\ttotal: 4.85s\tremaining: 10.4s\n",
            "1280:\tlearn: 1.0851574\ttotal: 4.89s\tremaining: 10.4s\n",
            "1290:\tlearn: 1.0851107\ttotal: 4.92s\tremaining: 10.3s\n",
            "1300:\tlearn: 1.0850525\ttotal: 4.96s\tremaining: 10.3s\n",
            "1310:\tlearn: 1.0849941\ttotal: 4.99s\tremaining: 10.2s\n",
            "1320:\tlearn: 1.0849394\ttotal: 5.03s\tremaining: 10.2s\n",
            "1330:\tlearn: 1.0848677\ttotal: 5.07s\tremaining: 10.2s\n",
            "1340:\tlearn: 1.0848063\ttotal: 5.11s\tremaining: 10.1s\n",
            "1350:\tlearn: 1.0847463\ttotal: 5.14s\tremaining: 10.1s\n",
            "1360:\tlearn: 1.0847071\ttotal: 5.18s\tremaining: 10.1s\n",
            "1370:\tlearn: 1.0846623\ttotal: 5.22s\tremaining: 10s\n",
            "1380:\tlearn: 1.0846280\ttotal: 5.26s\tremaining: 9.97s\n",
            "1390:\tlearn: 1.0845810\ttotal: 5.29s\tremaining: 9.93s\n",
            "1400:\tlearn: 1.0845295\ttotal: 5.33s\tremaining: 9.9s\n",
            "1410:\tlearn: 1.0844842\ttotal: 5.38s\tremaining: 9.86s\n",
            "1420:\tlearn: 1.0844436\ttotal: 5.41s\tremaining: 9.83s\n",
            "1430:\tlearn: 1.0843805\ttotal: 5.45s\tremaining: 9.79s\n",
            "1440:\tlearn: 1.0843257\ttotal: 5.49s\tremaining: 9.75s\n",
            "1450:\tlearn: 1.0842746\ttotal: 5.52s\tremaining: 9.71s\n",
            "1460:\tlearn: 1.0842433\ttotal: 5.56s\tremaining: 9.67s\n",
            "1470:\tlearn: 1.0842022\ttotal: 5.6s\tremaining: 9.62s\n",
            "1480:\tlearn: 1.0841556\ttotal: 5.63s\tremaining: 9.58s\n",
            "1490:\tlearn: 1.0841025\ttotal: 5.67s\tremaining: 9.55s\n",
            "1500:\tlearn: 1.0840634\ttotal: 5.71s\tremaining: 9.5s\n",
            "1510:\tlearn: 1.0840061\ttotal: 5.75s\tremaining: 9.48s\n",
            "1520:\tlearn: 1.0839455\ttotal: 5.79s\tremaining: 9.44s\n",
            "1530:\tlearn: 1.0839039\ttotal: 5.83s\tremaining: 9.4s\n",
            "1540:\tlearn: 1.0838512\ttotal: 5.87s\tremaining: 9.36s\n",
            "1550:\tlearn: 1.0837893\ttotal: 5.9s\tremaining: 9.32s\n",
            "1560:\tlearn: 1.0837378\ttotal: 5.94s\tremaining: 9.28s\n",
            "1570:\tlearn: 1.0836918\ttotal: 5.98s\tremaining: 9.25s\n",
            "1580:\tlearn: 1.0836472\ttotal: 6.02s\tremaining: 9.21s\n",
            "1590:\tlearn: 1.0835919\ttotal: 6.06s\tremaining: 9.18s\n",
            "1600:\tlearn: 1.0835363\ttotal: 6.1s\tremaining: 9.14s\n",
            "1610:\tlearn: 1.0834951\ttotal: 6.13s\tremaining: 9.1s\n",
            "1620:\tlearn: 1.0834468\ttotal: 6.18s\tremaining: 9.07s\n",
            "1630:\tlearn: 1.0834062\ttotal: 6.22s\tremaining: 9.03s\n",
            "1640:\tlearn: 1.0833733\ttotal: 6.26s\tremaining: 9s\n",
            "1650:\tlearn: 1.0833055\ttotal: 6.3s\tremaining: 8.96s\n",
            "1660:\tlearn: 1.0832767\ttotal: 6.34s\tremaining: 8.93s\n",
            "1670:\tlearn: 1.0832401\ttotal: 6.38s\tremaining: 8.89s\n",
            "1680:\tlearn: 1.0831767\ttotal: 6.41s\tremaining: 8.85s\n",
            "1690:\tlearn: 1.0831339\ttotal: 6.45s\tremaining: 8.81s\n",
            "1700:\tlearn: 1.0830809\ttotal: 6.49s\tremaining: 8.78s\n",
            "1710:\tlearn: 1.0830362\ttotal: 6.53s\tremaining: 8.74s\n",
            "1720:\tlearn: 1.0829687\ttotal: 6.57s\tremaining: 8.7s\n",
            "1730:\tlearn: 1.0829251\ttotal: 6.6s\tremaining: 8.66s\n",
            "1740:\tlearn: 1.0828897\ttotal: 6.64s\tremaining: 8.62s\n",
            "1750:\tlearn: 1.0828424\ttotal: 6.68s\tremaining: 8.58s\n",
            "1760:\tlearn: 1.0827848\ttotal: 6.73s\tremaining: 8.56s\n",
            "1770:\tlearn: 1.0827391\ttotal: 6.77s\tremaining: 8.52s\n",
            "1780:\tlearn: 1.0826829\ttotal: 6.81s\tremaining: 8.48s\n",
            "1790:\tlearn: 1.0826418\ttotal: 6.84s\tremaining: 8.44s\n",
            "1800:\tlearn: 1.0825841\ttotal: 6.88s\tremaining: 8.4s\n",
            "1810:\tlearn: 1.0825447\ttotal: 6.93s\tremaining: 8.38s\n",
            "1820:\tlearn: 1.0824938\ttotal: 6.97s\tremaining: 8.34s\n",
            "1830:\tlearn: 1.0824481\ttotal: 7.01s\tremaining: 8.3s\n",
            "1840:\tlearn: 1.0824090\ttotal: 7.05s\tremaining: 8.27s\n",
            "1850:\tlearn: 1.0823531\ttotal: 7.09s\tremaining: 8.23s\n",
            "1860:\tlearn: 1.0822889\ttotal: 7.13s\tremaining: 8.19s\n",
            "1870:\tlearn: 1.0822412\ttotal: 7.18s\tremaining: 8.17s\n",
            "1880:\tlearn: 1.0822015\ttotal: 7.22s\tremaining: 8.13s\n",
            "1890:\tlearn: 1.0821459\ttotal: 7.25s\tremaining: 8.09s\n",
            "1900:\tlearn: 1.0821162\ttotal: 7.29s\tremaining: 8.05s\n",
            "1910:\tlearn: 1.0820813\ttotal: 7.33s\tremaining: 8.01s\n",
            "1920:\tlearn: 1.0820413\ttotal: 7.37s\tremaining: 7.97s\n",
            "1930:\tlearn: 1.0819764\ttotal: 7.41s\tremaining: 7.94s\n",
            "1940:\tlearn: 1.0819381\ttotal: 7.45s\tremaining: 7.9s\n",
            "1950:\tlearn: 1.0819086\ttotal: 7.48s\tremaining: 7.86s\n",
            "1960:\tlearn: 1.0818727\ttotal: 7.52s\tremaining: 7.82s\n",
            "1970:\tlearn: 1.0818306\ttotal: 7.55s\tremaining: 7.78s\n",
            "1980:\tlearn: 1.0817930\ttotal: 7.59s\tremaining: 7.74s\n",
            "1990:\tlearn: 1.0817551\ttotal: 7.63s\tremaining: 7.7s\n",
            "2000:\tlearn: 1.0817140\ttotal: 7.67s\tremaining: 7.66s\n",
            "2010:\tlearn: 1.0816751\ttotal: 7.7s\tremaining: 7.62s\n",
            "2020:\tlearn: 1.0816388\ttotal: 7.74s\tremaining: 7.58s\n",
            "2030:\tlearn: 1.0816000\ttotal: 7.77s\tremaining: 7.53s\n",
            "2040:\tlearn: 1.0815649\ttotal: 7.82s\tremaining: 7.51s\n",
            "2050:\tlearn: 1.0815349\ttotal: 7.87s\tremaining: 7.48s\n",
            "2060:\tlearn: 1.0814957\ttotal: 7.91s\tremaining: 7.44s\n",
            "2070:\tlearn: 1.0814609\ttotal: 7.94s\tremaining: 7.39s\n",
            "2080:\tlearn: 1.0814278\ttotal: 7.97s\tremaining: 7.35s\n",
            "2090:\tlearn: 1.0813805\ttotal: 8.01s\tremaining: 7.32s\n",
            "2100:\tlearn: 1.0813367\ttotal: 8.05s\tremaining: 7.28s\n",
            "2110:\tlearn: 1.0812931\ttotal: 8.09s\tremaining: 7.24s\n",
            "2120:\tlearn: 1.0812561\ttotal: 8.13s\tremaining: 7.21s\n",
            "2130:\tlearn: 1.0812169\ttotal: 8.17s\tremaining: 7.16s\n",
            "2140:\tlearn: 1.0811738\ttotal: 8.2s\tremaining: 7.12s\n",
            "2150:\tlearn: 1.0811353\ttotal: 8.24s\tremaining: 7.08s\n",
            "2160:\tlearn: 1.0810920\ttotal: 8.28s\tremaining: 7.04s\n",
            "2170:\tlearn: 1.0810376\ttotal: 8.31s\tremaining: 7s\n",
            "2180:\tlearn: 1.0810005\ttotal: 8.35s\tremaining: 6.96s\n",
            "2190:\tlearn: 1.0809538\ttotal: 8.39s\tremaining: 6.92s\n",
            "2200:\tlearn: 1.0809080\ttotal: 8.42s\tremaining: 6.88s\n",
            "2210:\tlearn: 1.0808762\ttotal: 8.46s\tremaining: 6.84s\n",
            "2220:\tlearn: 1.0808248\ttotal: 8.5s\tremaining: 6.8s\n",
            "2230:\tlearn: 1.0807822\ttotal: 8.53s\tremaining: 6.76s\n",
            "2240:\tlearn: 1.0807325\ttotal: 8.56s\tremaining: 6.72s\n",
            "2250:\tlearn: 1.0807050\ttotal: 8.6s\tremaining: 6.68s\n",
            "2260:\tlearn: 1.0806625\ttotal: 8.63s\tremaining: 6.64s\n",
            "2270:\tlearn: 1.0806318\ttotal: 8.67s\tremaining: 6.6s\n",
            "2280:\tlearn: 1.0805974\ttotal: 8.71s\tremaining: 6.57s\n",
            "2290:\tlearn: 1.0805532\ttotal: 8.75s\tremaining: 6.53s\n",
            "2300:\tlearn: 1.0805250\ttotal: 8.79s\tremaining: 6.49s\n",
            "2310:\tlearn: 1.0804960\ttotal: 8.82s\tremaining: 6.45s\n",
            "2320:\tlearn: 1.0804647\ttotal: 8.86s\tremaining: 6.41s\n",
            "2330:\tlearn: 1.0804370\ttotal: 8.89s\tremaining: 6.37s\n",
            "2340:\tlearn: 1.0803827\ttotal: 8.94s\tremaining: 6.33s\n",
            "2350:\tlearn: 1.0803482\ttotal: 8.97s\tremaining: 6.29s\n",
            "2360:\tlearn: 1.0803152\ttotal: 9.01s\tremaining: 6.25s\n",
            "2370:\tlearn: 1.0802731\ttotal: 9.04s\tremaining: 6.21s\n",
            "2380:\tlearn: 1.0802310\ttotal: 9.09s\tremaining: 6.18s\n",
            "2390:\tlearn: 1.0801869\ttotal: 9.14s\tremaining: 6.15s\n",
            "2400:\tlearn: 1.0801601\ttotal: 9.17s\tremaining: 6.11s\n",
            "2410:\tlearn: 1.0801318\ttotal: 9.21s\tremaining: 6.07s\n",
            "2420:\tlearn: 1.0800926\ttotal: 9.24s\tremaining: 6.03s\n",
            "2430:\tlearn: 1.0800543\ttotal: 9.27s\tremaining: 5.99s\n",
            "2440:\tlearn: 1.0800097\ttotal: 9.31s\tremaining: 5.95s\n",
            "2450:\tlearn: 1.0799774\ttotal: 9.35s\tremaining: 5.91s\n",
            "2460:\tlearn: 1.0799452\ttotal: 9.38s\tremaining: 5.87s\n",
            "2470:\tlearn: 1.0798986\ttotal: 9.42s\tremaining: 5.83s\n",
            "2480:\tlearn: 1.0798647\ttotal: 9.45s\tremaining: 5.79s\n",
            "2490:\tlearn: 1.0798262\ttotal: 9.49s\tremaining: 5.75s\n",
            "2500:\tlearn: 1.0797950\ttotal: 9.52s\tremaining: 5.71s\n",
            "2510:\tlearn: 1.0797558\ttotal: 9.56s\tremaining: 5.67s\n",
            "2520:\tlearn: 1.0797073\ttotal: 9.6s\tremaining: 5.63s\n",
            "2530:\tlearn: 1.0796710\ttotal: 9.63s\tremaining: 5.59s\n",
            "2540:\tlearn: 1.0796373\ttotal: 9.67s\tremaining: 5.55s\n",
            "2550:\tlearn: 1.0796066\ttotal: 9.7s\tremaining: 5.51s\n",
            "2560:\tlearn: 1.0795729\ttotal: 9.74s\tremaining: 5.47s\n",
            "2570:\tlearn: 1.0795414\ttotal: 9.78s\tremaining: 5.44s\n",
            "2580:\tlearn: 1.0795072\ttotal: 9.82s\tremaining: 5.4s\n",
            "2590:\tlearn: 1.0794620\ttotal: 9.85s\tremaining: 5.36s\n",
            "2600:\tlearn: 1.0794198\ttotal: 9.89s\tremaining: 5.32s\n",
            "2610:\tlearn: 1.0793850\ttotal: 9.92s\tremaining: 5.28s\n",
            "2620:\tlearn: 1.0793499\ttotal: 9.96s\tremaining: 5.24s\n",
            "2630:\tlearn: 1.0793222\ttotal: 10s\tremaining: 5.2s\n",
            "2640:\tlearn: 1.0792979\ttotal: 10s\tremaining: 5.16s\n",
            "2650:\tlearn: 1.0792622\ttotal: 10.1s\tremaining: 5.12s\n",
            "2660:\tlearn: 1.0792331\ttotal: 10.1s\tremaining: 5.09s\n",
            "2670:\tlearn: 1.0791958\ttotal: 10.2s\tremaining: 5.05s\n",
            "2680:\tlearn: 1.0791671\ttotal: 10.2s\tremaining: 5.01s\n",
            "2690:\tlearn: 1.0791379\ttotal: 10.2s\tremaining: 4.98s\n",
            "2700:\tlearn: 1.0791068\ttotal: 10.3s\tremaining: 4.94s\n",
            "2710:\tlearn: 1.0790692\ttotal: 10.3s\tremaining: 4.9s\n",
            "2720:\tlearn: 1.0790341\ttotal: 10.3s\tremaining: 4.86s\n",
            "2730:\tlearn: 1.0790127\ttotal: 10.4s\tremaining: 4.82s\n",
            "2740:\tlearn: 1.0789882\ttotal: 10.4s\tremaining: 4.79s\n",
            "2750:\tlearn: 1.0789482\ttotal: 10.5s\tremaining: 4.75s\n",
            "2760:\tlearn: 1.0789122\ttotal: 10.5s\tremaining: 4.71s\n",
            "2770:\tlearn: 1.0788721\ttotal: 10.5s\tremaining: 4.67s\n",
            "2780:\tlearn: 1.0788347\ttotal: 10.6s\tremaining: 4.64s\n",
            "2790:\tlearn: 1.0787926\ttotal: 10.6s\tremaining: 4.6s\n",
            "2800:\tlearn: 1.0787534\ttotal: 10.7s\tremaining: 4.56s\n",
            "2810:\tlearn: 1.0787223\ttotal: 10.7s\tremaining: 4.52s\n",
            "2820:\tlearn: 1.0786854\ttotal: 10.7s\tremaining: 4.49s\n",
            "2830:\tlearn: 1.0786574\ttotal: 10.8s\tremaining: 4.45s\n",
            "2840:\tlearn: 1.0786200\ttotal: 10.8s\tremaining: 4.41s\n",
            "2850:\tlearn: 1.0785851\ttotal: 10.8s\tremaining: 4.37s\n",
            "2860:\tlearn: 1.0785543\ttotal: 10.9s\tremaining: 4.34s\n",
            "2870:\tlearn: 1.0785236\ttotal: 10.9s\tremaining: 4.3s\n",
            "2880:\tlearn: 1.0784776\ttotal: 11s\tremaining: 4.26s\n",
            "2890:\tlearn: 1.0784376\ttotal: 11s\tremaining: 4.23s\n",
            "2900:\tlearn: 1.0784020\ttotal: 11.1s\tremaining: 4.19s\n",
            "2910:\tlearn: 1.0783734\ttotal: 11.1s\tremaining: 4.15s\n",
            "2920:\tlearn: 1.0783470\ttotal: 11.1s\tremaining: 4.12s\n",
            "2930:\tlearn: 1.0783096\ttotal: 11.2s\tremaining: 4.08s\n",
            "2940:\tlearn: 1.0782738\ttotal: 11.2s\tremaining: 4.04s\n",
            "2950:\tlearn: 1.0782470\ttotal: 11.3s\tremaining: 4s\n",
            "2960:\tlearn: 1.0782249\ttotal: 11.3s\tremaining: 3.97s\n",
            "2970:\tlearn: 1.0781838\ttotal: 11.3s\tremaining: 3.93s\n",
            "2980:\tlearn: 1.0781615\ttotal: 11.4s\tremaining: 3.89s\n",
            "2990:\tlearn: 1.0781395\ttotal: 11.4s\tremaining: 3.85s\n",
            "3000:\tlearn: 1.0780962\ttotal: 11.5s\tremaining: 3.81s\n",
            "3010:\tlearn: 1.0780631\ttotal: 11.5s\tremaining: 3.78s\n",
            "3020:\tlearn: 1.0780282\ttotal: 11.5s\tremaining: 3.74s\n",
            "3030:\tlearn: 1.0779910\ttotal: 11.6s\tremaining: 3.7s\n",
            "3040:\tlearn: 1.0779609\ttotal: 11.6s\tremaining: 3.66s\n",
            "3050:\tlearn: 1.0779276\ttotal: 11.7s\tremaining: 3.62s\n",
            "3060:\tlearn: 1.0778767\ttotal: 11.7s\tremaining: 3.59s\n",
            "3070:\tlearn: 1.0778361\ttotal: 11.7s\tremaining: 3.55s\n",
            "3080:\tlearn: 1.0777996\ttotal: 11.8s\tremaining: 3.51s\n",
            "3090:\tlearn: 1.0777651\ttotal: 11.8s\tremaining: 3.47s\n",
            "3100:\tlearn: 1.0777410\ttotal: 11.8s\tremaining: 3.43s\n",
            "3110:\tlearn: 1.0777124\ttotal: 11.9s\tremaining: 3.4s\n",
            "3120:\tlearn: 1.0776834\ttotal: 11.9s\tremaining: 3.36s\n",
            "3130:\tlearn: 1.0776429\ttotal: 12s\tremaining: 3.32s\n",
            "3140:\tlearn: 1.0776119\ttotal: 12s\tremaining: 3.28s\n",
            "3150:\tlearn: 1.0775774\ttotal: 12s\tremaining: 3.24s\n",
            "3160:\tlearn: 1.0775470\ttotal: 12.1s\tremaining: 3.21s\n",
            "3170:\tlearn: 1.0775012\ttotal: 12.1s\tremaining: 3.17s\n",
            "3180:\tlearn: 1.0774767\ttotal: 12.2s\tremaining: 3.13s\n",
            "3190:\tlearn: 1.0774425\ttotal: 12.2s\tremaining: 3.09s\n",
            "3200:\tlearn: 1.0774186\ttotal: 12.2s\tremaining: 3.05s\n",
            "3210:\tlearn: 1.0773851\ttotal: 12.3s\tremaining: 3.02s\n",
            "3220:\tlearn: 1.0773552\ttotal: 12.3s\tremaining: 2.98s\n",
            "3230:\tlearn: 1.0773178\ttotal: 12.4s\tremaining: 2.94s\n",
            "3240:\tlearn: 1.0772942\ttotal: 12.4s\tremaining: 2.9s\n",
            "3250:\tlearn: 1.0772682\ttotal: 12.4s\tremaining: 2.86s\n",
            "3260:\tlearn: 1.0772334\ttotal: 12.5s\tremaining: 2.83s\n",
            "3270:\tlearn: 1.0771908\ttotal: 12.5s\tremaining: 2.79s\n",
            "3280:\tlearn: 1.0771542\ttotal: 12.5s\tremaining: 2.75s\n",
            "3290:\tlearn: 1.0771267\ttotal: 12.6s\tremaining: 2.71s\n",
            "3300:\tlearn: 1.0770973\ttotal: 12.6s\tremaining: 2.67s\n",
            "3310:\tlearn: 1.0770670\ttotal: 12.7s\tremaining: 2.63s\n",
            "3320:\tlearn: 1.0770416\ttotal: 12.7s\tremaining: 2.6s\n",
            "3330:\tlearn: 1.0770128\ttotal: 12.7s\tremaining: 2.56s\n",
            "3340:\tlearn: 1.0769793\ttotal: 12.8s\tremaining: 2.52s\n",
            "3350:\tlearn: 1.0769593\ttotal: 12.8s\tremaining: 2.48s\n",
            "3360:\tlearn: 1.0769151\ttotal: 12.8s\tremaining: 2.44s\n",
            "3370:\tlearn: 1.0768785\ttotal: 12.9s\tremaining: 2.4s\n",
            "3380:\tlearn: 1.0768559\ttotal: 12.9s\tremaining: 2.37s\n",
            "3390:\tlearn: 1.0768293\ttotal: 13s\tremaining: 2.33s\n",
            "3400:\tlearn: 1.0767942\ttotal: 13s\tremaining: 2.29s\n",
            "3410:\tlearn: 1.0767660\ttotal: 13s\tremaining: 2.25s\n",
            "3420:\tlearn: 1.0767416\ttotal: 13.1s\tremaining: 2.21s\n",
            "3430:\tlearn: 1.0767083\ttotal: 13.1s\tremaining: 2.18s\n",
            "3440:\tlearn: 1.0766606\ttotal: 13.2s\tremaining: 2.14s\n",
            "3450:\tlearn: 1.0766411\ttotal: 13.2s\tremaining: 2.1s\n",
            "3460:\tlearn: 1.0766072\ttotal: 13.3s\tremaining: 2.06s\n",
            "3470:\tlearn: 1.0765853\ttotal: 13.3s\tremaining: 2.02s\n",
            "3480:\tlearn: 1.0765533\ttotal: 13.3s\tremaining: 1.99s\n",
            "3490:\tlearn: 1.0765256\ttotal: 13.4s\tremaining: 1.95s\n",
            "3500:\tlearn: 1.0764886\ttotal: 13.4s\tremaining: 1.91s\n",
            "3510:\tlearn: 1.0764647\ttotal: 13.4s\tremaining: 1.87s\n",
            "3520:\tlearn: 1.0764314\ttotal: 13.5s\tremaining: 1.83s\n",
            "3530:\tlearn: 1.0763993\ttotal: 13.5s\tremaining: 1.79s\n",
            "3540:\tlearn: 1.0763748\ttotal: 13.6s\tremaining: 1.76s\n",
            "3550:\tlearn: 1.0763504\ttotal: 13.6s\tremaining: 1.72s\n",
            "3560:\tlearn: 1.0763351\ttotal: 13.7s\tremaining: 1.68s\n",
            "3570:\tlearn: 1.0763032\ttotal: 13.7s\tremaining: 1.64s\n",
            "3580:\tlearn: 1.0762754\ttotal: 13.7s\tremaining: 1.61s\n",
            "3590:\tlearn: 1.0762539\ttotal: 13.8s\tremaining: 1.57s\n",
            "3600:\tlearn: 1.0762232\ttotal: 13.8s\tremaining: 1.53s\n",
            "3610:\tlearn: 1.0762017\ttotal: 13.8s\tremaining: 1.49s\n",
            "3620:\tlearn: 1.0761713\ttotal: 13.9s\tremaining: 1.45s\n",
            "3630:\tlearn: 1.0761475\ttotal: 13.9s\tremaining: 1.41s\n",
            "3640:\tlearn: 1.0761228\ttotal: 13.9s\tremaining: 1.38s\n",
            "3650:\tlearn: 1.0760906\ttotal: 14s\tremaining: 1.34s\n",
            "3660:\tlearn: 1.0760588\ttotal: 14s\tremaining: 1.3s\n",
            "3670:\tlearn: 1.0760274\ttotal: 14.1s\tremaining: 1.26s\n",
            "3680:\tlearn: 1.0760021\ttotal: 14.1s\tremaining: 1.22s\n",
            "3690:\tlearn: 1.0759822\ttotal: 14.1s\tremaining: 1.18s\n",
            "3700:\tlearn: 1.0759577\ttotal: 14.2s\tremaining: 1.15s\n",
            "3710:\tlearn: 1.0759307\ttotal: 14.2s\tremaining: 1.11s\n",
            "3720:\tlearn: 1.0759055\ttotal: 14.3s\tremaining: 1.07s\n",
            "3730:\tlearn: 1.0758726\ttotal: 14.3s\tremaining: 1.03s\n",
            "3740:\tlearn: 1.0758489\ttotal: 14.3s\tremaining: 992ms\n",
            "3750:\tlearn: 1.0758193\ttotal: 14.4s\tremaining: 954ms\n",
            "3760:\tlearn: 1.0757870\ttotal: 14.4s\tremaining: 915ms\n",
            "3770:\tlearn: 1.0757662\ttotal: 14.4s\tremaining: 877ms\n",
            "3780:\tlearn: 1.0757430\ttotal: 14.5s\tremaining: 839ms\n",
            "3790:\tlearn: 1.0757067\ttotal: 14.5s\tremaining: 800ms\n",
            "3800:\tlearn: 1.0756823\ttotal: 14.6s\tremaining: 763ms\n",
            "3810:\tlearn: 1.0756478\ttotal: 14.6s\tremaining: 724ms\n",
            "3820:\tlearn: 1.0756185\ttotal: 14.6s\tremaining: 686ms\n",
            "3830:\tlearn: 1.0755814\ttotal: 14.7s\tremaining: 648ms\n",
            "3840:\tlearn: 1.0755564\ttotal: 14.7s\tremaining: 609ms\n",
            "3850:\tlearn: 1.0755236\ttotal: 14.8s\tremaining: 571ms\n",
            "3860:\tlearn: 1.0754915\ttotal: 14.8s\tremaining: 533ms\n",
            "3870:\tlearn: 1.0754570\ttotal: 14.8s\tremaining: 494ms\n",
            "3880:\tlearn: 1.0754290\ttotal: 14.9s\tremaining: 456ms\n",
            "3890:\tlearn: 1.0753918\ttotal: 14.9s\tremaining: 418ms\n",
            "3900:\tlearn: 1.0753650\ttotal: 14.9s\tremaining: 379ms\n",
            "3910:\tlearn: 1.0753376\ttotal: 15s\tremaining: 341ms\n",
            "3920:\tlearn: 1.0753055\ttotal: 15s\tremaining: 303ms\n",
            "3930:\tlearn: 1.0752836\ttotal: 15.1s\tremaining: 264ms\n",
            "3940:\tlearn: 1.0752536\ttotal: 15.1s\tremaining: 226ms\n",
            "3950:\tlearn: 1.0752150\ttotal: 15.1s\tremaining: 188ms\n",
            "3960:\tlearn: 1.0751787\ttotal: 15.2s\tremaining: 149ms\n",
            "3970:\tlearn: 1.0751524\ttotal: 15.2s\tremaining: 111ms\n",
            "3980:\tlearn: 1.0751244\ttotal: 15.3s\tremaining: 72.8ms\n",
            "3990:\tlearn: 1.0751014\ttotal: 15.3s\tremaining: 34.5ms\n",
            "3999:\tlearn: 1.0750777\ttotal: 15.3s\tremaining: 0us\n",
            "Fold 4, Valid score = 1.09376\n"
          ],
          "name": "stdout"
        },
        {
          "output_type": "stream",
          "text": [
            "Warning: less than 75% gpu memory available for training. Free: 5249.75 Total: 16280.875\n"
          ],
          "name": "stderr"
        },
        {
          "output_type": "stream",
          "text": [
            "0:\tlearn: 1.3525814\ttotal: 5.12ms\tremaining: 20.5s\n",
            "10:\tlearn: 1.1881568\ttotal: 43.3ms\tremaining: 15.7s\n",
            "20:\tlearn: 1.1388342\ttotal: 87.4ms\tremaining: 16.6s\n",
            "30:\tlearn: 1.1213044\ttotal: 127ms\tremaining: 16.3s\n",
            "40:\tlearn: 1.1144221\ttotal: 172ms\tremaining: 16.6s\n",
            "50:\tlearn: 1.1113856\ttotal: 216ms\tremaining: 16.7s\n",
            "60:\tlearn: 1.1096983\ttotal: 259ms\tremaining: 16.7s\n",
            "70:\tlearn: 1.1084684\ttotal: 295ms\tremaining: 16.3s\n",
            "80:\tlearn: 1.1073970\ttotal: 345ms\tremaining: 16.7s\n",
            "90:\tlearn: 1.1065047\ttotal: 382ms\tremaining: 16.4s\n",
            "100:\tlearn: 1.1056344\ttotal: 427ms\tremaining: 16.5s\n",
            "110:\tlearn: 1.1050744\ttotal: 463ms\tremaining: 16.2s\n",
            "120:\tlearn: 1.1043582\ttotal: 501ms\tremaining: 16.1s\n",
            "130:\tlearn: 1.1037290\ttotal: 538ms\tremaining: 15.9s\n",
            "140:\tlearn: 1.1033846\ttotal: 577ms\tremaining: 15.8s\n",
            "150:\tlearn: 1.1029450\ttotal: 611ms\tremaining: 15.6s\n",
            "160:\tlearn: 1.1026068\ttotal: 650ms\tremaining: 15.5s\n",
            "170:\tlearn: 1.1021133\ttotal: 685ms\tremaining: 15.3s\n",
            "180:\tlearn: 1.1016353\ttotal: 723ms\tremaining: 15.3s\n",
            "190:\tlearn: 1.1012134\ttotal: 758ms\tremaining: 15.1s\n",
            "200:\tlearn: 1.1008127\ttotal: 805ms\tremaining: 15.2s\n",
            "210:\tlearn: 1.1005166\ttotal: 840ms\tremaining: 15.1s\n",
            "220:\tlearn: 1.1001416\ttotal: 882ms\tremaining: 15.1s\n",
            "230:\tlearn: 1.0998341\ttotal: 921ms\tremaining: 15s\n",
            "240:\tlearn: 1.0994422\ttotal: 957ms\tremaining: 14.9s\n",
            "250:\tlearn: 1.0990628\ttotal: 994ms\tremaining: 14.8s\n",
            "260:\tlearn: 1.0986952\ttotal: 1.03s\tremaining: 14.8s\n",
            "270:\tlearn: 1.0982882\ttotal: 1.08s\tremaining: 14.9s\n",
            "280:\tlearn: 1.0979183\ttotal: 1.12s\tremaining: 14.9s\n",
            "290:\tlearn: 1.0976813\ttotal: 1.16s\tremaining: 14.8s\n",
            "300:\tlearn: 1.0973305\ttotal: 1.2s\tremaining: 14.7s\n",
            "310:\tlearn: 1.0970951\ttotal: 1.24s\tremaining: 14.7s\n",
            "320:\tlearn: 1.0968479\ttotal: 1.27s\tremaining: 14.6s\n",
            "330:\tlearn: 1.0965490\ttotal: 1.33s\tremaining: 14.7s\n",
            "340:\tlearn: 1.0963435\ttotal: 1.36s\tremaining: 14.6s\n",
            "350:\tlearn: 1.0960382\ttotal: 1.41s\tremaining: 14.6s\n",
            "360:\tlearn: 1.0957711\ttotal: 1.44s\tremaining: 14.6s\n",
            "370:\tlearn: 1.0955549\ttotal: 1.48s\tremaining: 14.5s\n",
            "380:\tlearn: 1.0953026\ttotal: 1.52s\tremaining: 14.4s\n",
            "390:\tlearn: 1.0950736\ttotal: 1.56s\tremaining: 14.4s\n",
            "400:\tlearn: 1.0947520\ttotal: 1.6s\tremaining: 14.4s\n",
            "410:\tlearn: 1.0945528\ttotal: 1.63s\tremaining: 14.3s\n",
            "420:\tlearn: 1.0943095\ttotal: 1.67s\tremaining: 14.2s\n",
            "430:\tlearn: 1.0941160\ttotal: 1.7s\tremaining: 14.1s\n",
            "440:\tlearn: 1.0938608\ttotal: 1.74s\tremaining: 14.1s\n",
            "450:\tlearn: 1.0936835\ttotal: 1.78s\tremaining: 14s\n",
            "460:\tlearn: 1.0934600\ttotal: 1.82s\tremaining: 14s\n",
            "470:\tlearn: 1.0933123\ttotal: 1.85s\tremaining: 13.9s\n",
            "480:\tlearn: 1.0931282\ttotal: 1.89s\tremaining: 13.8s\n",
            "490:\tlearn: 1.0929594\ttotal: 1.92s\tremaining: 13.7s\n",
            "500:\tlearn: 1.0927741\ttotal: 1.96s\tremaining: 13.7s\n",
            "510:\tlearn: 1.0925613\ttotal: 2s\tremaining: 13.6s\n",
            "520:\tlearn: 1.0924182\ttotal: 2.04s\tremaining: 13.6s\n",
            "530:\tlearn: 1.0922540\ttotal: 2.07s\tremaining: 13.5s\n",
            "540:\tlearn: 1.0921244\ttotal: 2.1s\tremaining: 13.4s\n",
            "550:\tlearn: 1.0919237\ttotal: 2.14s\tremaining: 13.4s\n",
            "560:\tlearn: 1.0917905\ttotal: 2.18s\tremaining: 13.3s\n",
            "570:\tlearn: 1.0916647\ttotal: 2.22s\tremaining: 13.3s\n",
            "580:\tlearn: 1.0914875\ttotal: 2.25s\tremaining: 13.3s\n",
            "590:\tlearn: 1.0913340\ttotal: 2.29s\tremaining: 13.2s\n",
            "600:\tlearn: 1.0911988\ttotal: 2.35s\tremaining: 13.3s\n",
            "610:\tlearn: 1.0910847\ttotal: 2.39s\tremaining: 13.3s\n",
            "620:\tlearn: 1.0909428\ttotal: 2.44s\tremaining: 13.3s\n",
            "630:\tlearn: 1.0908043\ttotal: 2.47s\tremaining: 13.2s\n",
            "640:\tlearn: 1.0906870\ttotal: 2.51s\tremaining: 13.2s\n",
            "650:\tlearn: 1.0905480\ttotal: 2.55s\tremaining: 13.1s\n",
            "660:\tlearn: 1.0904111\ttotal: 2.58s\tremaining: 13.1s\n",
            "670:\tlearn: 1.0902232\ttotal: 2.63s\tremaining: 13s\n",
            "680:\tlearn: 1.0900856\ttotal: 2.67s\tremaining: 13s\n",
            "690:\tlearn: 1.0899881\ttotal: 2.71s\tremaining: 13s\n",
            "700:\tlearn: 1.0898942\ttotal: 2.74s\tremaining: 12.9s\n",
            "710:\tlearn: 1.0897667\ttotal: 2.78s\tremaining: 12.9s\n",
            "720:\tlearn: 1.0896714\ttotal: 2.82s\tremaining: 12.8s\n",
            "730:\tlearn: 1.0895508\ttotal: 2.86s\tremaining: 12.8s\n",
            "740:\tlearn: 1.0894600\ttotal: 2.9s\tremaining: 12.8s\n",
            "750:\tlearn: 1.0893786\ttotal: 2.94s\tremaining: 12.7s\n",
            "760:\tlearn: 1.0892860\ttotal: 2.98s\tremaining: 12.7s\n",
            "770:\tlearn: 1.0891711\ttotal: 3.02s\tremaining: 12.6s\n",
            "780:\tlearn: 1.0891017\ttotal: 3.06s\tremaining: 12.6s\n",
            "790:\tlearn: 1.0890026\ttotal: 3.09s\tremaining: 12.5s\n",
            "800:\tlearn: 1.0889255\ttotal: 3.14s\tremaining: 12.5s\n",
            "810:\tlearn: 1.0888124\ttotal: 3.17s\tremaining: 12.5s\n",
            "820:\tlearn: 1.0887118\ttotal: 3.22s\tremaining: 12.5s\n",
            "830:\tlearn: 1.0886238\ttotal: 3.25s\tremaining: 12.4s\n",
            "840:\tlearn: 1.0885269\ttotal: 3.3s\tremaining: 12.4s\n",
            "850:\tlearn: 1.0884584\ttotal: 3.33s\tremaining: 12.3s\n",
            "860:\tlearn: 1.0883872\ttotal: 3.38s\tremaining: 12.3s\n",
            "870:\tlearn: 1.0883243\ttotal: 3.41s\tremaining: 12.3s\n",
            "880:\tlearn: 1.0882611\ttotal: 3.45s\tremaining: 12.2s\n",
            "890:\tlearn: 1.0881923\ttotal: 3.48s\tremaining: 12.2s\n",
            "900:\tlearn: 1.0881093\ttotal: 3.52s\tremaining: 12.1s\n",
            "910:\tlearn: 1.0880288\ttotal: 3.56s\tremaining: 12.1s\n",
            "920:\tlearn: 1.0879529\ttotal: 3.6s\tremaining: 12.1s\n",
            "930:\tlearn: 1.0878425\ttotal: 3.64s\tremaining: 12s\n",
            "940:\tlearn: 1.0877666\ttotal: 3.68s\tremaining: 12s\n",
            "950:\tlearn: 1.0876886\ttotal: 3.73s\tremaining: 12s\n",
            "960:\tlearn: 1.0875992\ttotal: 3.77s\tremaining: 11.9s\n",
            "970:\tlearn: 1.0875192\ttotal: 3.81s\tremaining: 11.9s\n",
            "980:\tlearn: 1.0874324\ttotal: 3.85s\tremaining: 11.8s\n",
            "990:\tlearn: 1.0873482\ttotal: 3.89s\tremaining: 11.8s\n",
            "1000:\tlearn: 1.0872812\ttotal: 3.92s\tremaining: 11.8s\n",
            "1010:\tlearn: 1.0872067\ttotal: 3.96s\tremaining: 11.7s\n",
            "1020:\tlearn: 1.0871558\ttotal: 4s\tremaining: 11.7s\n",
            "1030:\tlearn: 1.0870566\ttotal: 4.04s\tremaining: 11.6s\n",
            "1040:\tlearn: 1.0869801\ttotal: 4.08s\tremaining: 11.6s\n",
            "1050:\tlearn: 1.0869198\ttotal: 4.12s\tremaining: 11.6s\n",
            "1060:\tlearn: 1.0868655\ttotal: 4.16s\tremaining: 11.5s\n",
            "1070:\tlearn: 1.0867783\ttotal: 4.19s\tremaining: 11.5s\n",
            "1080:\tlearn: 1.0867202\ttotal: 4.23s\tremaining: 11.4s\n",
            "1090:\tlearn: 1.0866443\ttotal: 4.28s\tremaining: 11.4s\n",
            "1100:\tlearn: 1.0865937\ttotal: 4.33s\tremaining: 11.4s\n",
            "1110:\tlearn: 1.0865073\ttotal: 4.37s\tremaining: 11.4s\n",
            "1120:\tlearn: 1.0864246\ttotal: 4.41s\tremaining: 11.3s\n",
            "1130:\tlearn: 1.0863539\ttotal: 4.44s\tremaining: 11.3s\n",
            "1140:\tlearn: 1.0862781\ttotal: 4.48s\tremaining: 11.2s\n",
            "1150:\tlearn: 1.0862164\ttotal: 4.52s\tremaining: 11.2s\n",
            "1160:\tlearn: 1.0861458\ttotal: 4.56s\tremaining: 11.1s\n",
            "1170:\tlearn: 1.0860804\ttotal: 4.6s\tremaining: 11.1s\n",
            "1180:\tlearn: 1.0860234\ttotal: 4.63s\tremaining: 11.1s\n",
            "1190:\tlearn: 1.0859622\ttotal: 4.68s\tremaining: 11s\n",
            "1200:\tlearn: 1.0858988\ttotal: 4.71s\tremaining: 11s\n",
            "1210:\tlearn: 1.0858205\ttotal: 4.75s\tremaining: 10.9s\n",
            "1220:\tlearn: 1.0857398\ttotal: 4.79s\tremaining: 10.9s\n",
            "1230:\tlearn: 1.0856987\ttotal: 4.82s\tremaining: 10.9s\n",
            "1240:\tlearn: 1.0856414\ttotal: 4.86s\tremaining: 10.8s\n",
            "1250:\tlearn: 1.0855907\ttotal: 4.92s\tremaining: 10.8s\n",
            "1260:\tlearn: 1.0855344\ttotal: 4.96s\tremaining: 10.8s\n",
            "1270:\tlearn: 1.0854849\ttotal: 5s\tremaining: 10.7s\n",
            "1280:\tlearn: 1.0854401\ttotal: 5.04s\tremaining: 10.7s\n",
            "1290:\tlearn: 1.0853839\ttotal: 5.07s\tremaining: 10.6s\n",
            "1300:\tlearn: 1.0853323\ttotal: 5.11s\tremaining: 10.6s\n",
            "1310:\tlearn: 1.0852578\ttotal: 5.16s\tremaining: 10.6s\n",
            "1320:\tlearn: 1.0851979\ttotal: 5.19s\tremaining: 10.5s\n",
            "1330:\tlearn: 1.0851491\ttotal: 5.23s\tremaining: 10.5s\n",
            "1340:\tlearn: 1.0850927\ttotal: 5.29s\tremaining: 10.5s\n",
            "1350:\tlearn: 1.0850514\ttotal: 5.32s\tremaining: 10.4s\n",
            "1360:\tlearn: 1.0850083\ttotal: 5.36s\tremaining: 10.4s\n",
            "1370:\tlearn: 1.0849469\ttotal: 5.4s\tremaining: 10.4s\n",
            "1380:\tlearn: 1.0848929\ttotal: 5.43s\tremaining: 10.3s\n",
            "1390:\tlearn: 1.0848276\ttotal: 5.47s\tremaining: 10.3s\n",
            "1400:\tlearn: 1.0847862\ttotal: 5.5s\tremaining: 10.2s\n",
            "1410:\tlearn: 1.0847264\ttotal: 5.54s\tremaining: 10.2s\n",
            "1420:\tlearn: 1.0846738\ttotal: 5.58s\tremaining: 10.1s\n",
            "1430:\tlearn: 1.0846273\ttotal: 5.62s\tremaining: 10.1s\n",
            "1440:\tlearn: 1.0845854\ttotal: 5.66s\tremaining: 10s\n",
            "1450:\tlearn: 1.0845483\ttotal: 5.69s\tremaining: 10s\n",
            "1460:\tlearn: 1.0844894\ttotal: 5.73s\tremaining: 9.96s\n",
            "1470:\tlearn: 1.0844512\ttotal: 5.76s\tremaining: 9.91s\n",
            "1480:\tlearn: 1.0844151\ttotal: 5.8s\tremaining: 9.87s\n",
            "1490:\tlearn: 1.0843418\ttotal: 5.84s\tremaining: 9.83s\n",
            "1500:\tlearn: 1.0842855\ttotal: 5.88s\tremaining: 9.78s\n",
            "1510:\tlearn: 1.0842446\ttotal: 5.91s\tremaining: 9.74s\n",
            "1520:\tlearn: 1.0842043\ttotal: 5.95s\tremaining: 9.7s\n",
            "1530:\tlearn: 1.0841549\ttotal: 5.99s\tremaining: 9.66s\n",
            "1540:\tlearn: 1.0841120\ttotal: 6.03s\tremaining: 9.62s\n",
            "1550:\tlearn: 1.0840699\ttotal: 6.07s\tremaining: 9.58s\n",
            "1560:\tlearn: 1.0840203\ttotal: 6.1s\tremaining: 9.53s\n",
            "1570:\tlearn: 1.0839839\ttotal: 6.14s\tremaining: 9.49s\n",
            "1580:\tlearn: 1.0839413\ttotal: 6.17s\tremaining: 9.44s\n",
            "1590:\tlearn: 1.0838903\ttotal: 6.21s\tremaining: 9.4s\n",
            "1600:\tlearn: 1.0838614\ttotal: 6.25s\tremaining: 9.36s\n",
            "1610:\tlearn: 1.0838262\ttotal: 6.3s\tremaining: 9.34s\n",
            "1620:\tlearn: 1.0837776\ttotal: 6.34s\tremaining: 9.3s\n",
            "1630:\tlearn: 1.0837292\ttotal: 6.37s\tremaining: 9.26s\n",
            "1640:\tlearn: 1.0836939\ttotal: 6.41s\tremaining: 9.22s\n",
            "1650:\tlearn: 1.0836464\ttotal: 6.46s\tremaining: 9.2s\n",
            "1660:\tlearn: 1.0835990\ttotal: 6.51s\tremaining: 9.16s\n",
            "1670:\tlearn: 1.0835386\ttotal: 6.54s\tremaining: 9.12s\n",
            "1680:\tlearn: 1.0834934\ttotal: 6.58s\tremaining: 9.08s\n",
            "1690:\tlearn: 1.0834524\ttotal: 6.62s\tremaining: 9.04s\n",
            "1700:\tlearn: 1.0834216\ttotal: 6.66s\tremaining: 9s\n",
            "1710:\tlearn: 1.0833743\ttotal: 6.7s\tremaining: 8.97s\n",
            "1720:\tlearn: 1.0833411\ttotal: 6.74s\tremaining: 8.93s\n",
            "1730:\tlearn: 1.0832736\ttotal: 6.78s\tremaining: 8.89s\n",
            "1740:\tlearn: 1.0832489\ttotal: 6.82s\tremaining: 8.85s\n",
            "1750:\tlearn: 1.0831899\ttotal: 6.86s\tremaining: 8.81s\n",
            "1760:\tlearn: 1.0831313\ttotal: 6.91s\tremaining: 8.78s\n",
            "1770:\tlearn: 1.0830919\ttotal: 6.95s\tremaining: 8.75s\n",
            "1780:\tlearn: 1.0830331\ttotal: 6.99s\tremaining: 8.71s\n",
            "1790:\tlearn: 1.0829857\ttotal: 7.03s\tremaining: 8.67s\n",
            "1800:\tlearn: 1.0829466\ttotal: 7.07s\tremaining: 8.63s\n",
            "1810:\tlearn: 1.0829118\ttotal: 7.1s\tremaining: 8.59s\n",
            "1820:\tlearn: 1.0828818\ttotal: 7.15s\tremaining: 8.55s\n",
            "1830:\tlearn: 1.0828428\ttotal: 7.19s\tremaining: 8.51s\n",
            "1840:\tlearn: 1.0827860\ttotal: 7.22s\tremaining: 8.47s\n",
            "1850:\tlearn: 1.0827463\ttotal: 7.27s\tremaining: 8.44s\n",
            "1860:\tlearn: 1.0827094\ttotal: 7.31s\tremaining: 8.4s\n",
            "1870:\tlearn: 1.0826803\ttotal: 7.35s\tremaining: 8.37s\n",
            "1880:\tlearn: 1.0826310\ttotal: 7.39s\tremaining: 8.33s\n",
            "1890:\tlearn: 1.0825936\ttotal: 7.43s\tremaining: 8.29s\n",
            "1900:\tlearn: 1.0825421\ttotal: 7.47s\tremaining: 8.25s\n",
            "1910:\tlearn: 1.0824913\ttotal: 7.5s\tremaining: 8.2s\n",
            "1920:\tlearn: 1.0824565\ttotal: 7.54s\tremaining: 8.16s\n",
            "1930:\tlearn: 1.0824007\ttotal: 7.59s\tremaining: 8.13s\n",
            "1940:\tlearn: 1.0823466\ttotal: 7.63s\tremaining: 8.1s\n",
            "1950:\tlearn: 1.0823158\ttotal: 7.67s\tremaining: 8.06s\n",
            "1960:\tlearn: 1.0822801\ttotal: 7.71s\tremaining: 8.02s\n",
            "1970:\tlearn: 1.0822298\ttotal: 7.75s\tremaining: 7.98s\n",
            "1980:\tlearn: 1.0821775\ttotal: 7.8s\tremaining: 7.95s\n",
            "1990:\tlearn: 1.0821387\ttotal: 7.84s\tremaining: 7.91s\n",
            "2000:\tlearn: 1.0821019\ttotal: 7.88s\tremaining: 7.87s\n",
            "2010:\tlearn: 1.0820616\ttotal: 7.91s\tremaining: 7.83s\n",
            "2020:\tlearn: 1.0820138\ttotal: 7.95s\tremaining: 7.79s\n",
            "2030:\tlearn: 1.0819777\ttotal: 7.99s\tremaining: 7.75s\n",
            "2040:\tlearn: 1.0819467\ttotal: 8.04s\tremaining: 7.72s\n",
            "2050:\tlearn: 1.0819087\ttotal: 8.08s\tremaining: 7.68s\n",
            "2060:\tlearn: 1.0818808\ttotal: 8.12s\tremaining: 7.64s\n",
            "2070:\tlearn: 1.0818493\ttotal: 8.16s\tremaining: 7.6s\n",
            "2080:\tlearn: 1.0818098\ttotal: 8.2s\tremaining: 7.56s\n",
            "2090:\tlearn: 1.0817741\ttotal: 8.23s\tremaining: 7.52s\n",
            "2100:\tlearn: 1.0817387\ttotal: 8.29s\tremaining: 7.49s\n",
            "2110:\tlearn: 1.0816997\ttotal: 8.33s\tremaining: 7.45s\n",
            "2120:\tlearn: 1.0816651\ttotal: 8.37s\tremaining: 7.41s\n",
            "2130:\tlearn: 1.0816290\ttotal: 8.4s\tremaining: 7.37s\n",
            "2140:\tlearn: 1.0815919\ttotal: 8.45s\tremaining: 7.34s\n",
            "2150:\tlearn: 1.0815523\ttotal: 8.5s\tremaining: 7.3s\n",
            "2160:\tlearn: 1.0815202\ttotal: 8.54s\tremaining: 7.26s\n",
            "2170:\tlearn: 1.0814834\ttotal: 8.57s\tremaining: 7.22s\n",
            "2180:\tlearn: 1.0814395\ttotal: 8.61s\tremaining: 7.18s\n",
            "2190:\tlearn: 1.0814102\ttotal: 8.65s\tremaining: 7.14s\n",
            "2200:\tlearn: 1.0813740\ttotal: 8.69s\tremaining: 7.1s\n",
            "2210:\tlearn: 1.0813214\ttotal: 8.74s\tremaining: 7.07s\n",
            "2220:\tlearn: 1.0812966\ttotal: 8.78s\tremaining: 7.03s\n",
            "2230:\tlearn: 1.0812705\ttotal: 8.81s\tremaining: 6.99s\n",
            "2240:\tlearn: 1.0812375\ttotal: 8.85s\tremaining: 6.95s\n",
            "2250:\tlearn: 1.0811936\ttotal: 8.89s\tremaining: 6.91s\n",
            "2260:\tlearn: 1.0811522\ttotal: 8.94s\tremaining: 6.88s\n",
            "2270:\tlearn: 1.0811221\ttotal: 8.98s\tremaining: 6.83s\n",
            "2280:\tlearn: 1.0810850\ttotal: 9.02s\tremaining: 6.79s\n",
            "2290:\tlearn: 1.0810490\ttotal: 9.05s\tremaining: 6.75s\n",
            "2300:\tlearn: 1.0810101\ttotal: 9.09s\tremaining: 6.71s\n",
            "2310:\tlearn: 1.0809676\ttotal: 9.13s\tremaining: 6.67s\n",
            "2320:\tlearn: 1.0809282\ttotal: 9.17s\tremaining: 6.64s\n",
            "2330:\tlearn: 1.0808947\ttotal: 9.21s\tremaining: 6.6s\n",
            "2340:\tlearn: 1.0808625\ttotal: 9.27s\tremaining: 6.57s\n",
            "2350:\tlearn: 1.0808338\ttotal: 9.3s\tremaining: 6.53s\n",
            "2360:\tlearn: 1.0808019\ttotal: 9.34s\tremaining: 6.49s\n",
            "2370:\tlearn: 1.0807785\ttotal: 9.39s\tremaining: 6.45s\n",
            "2380:\tlearn: 1.0807453\ttotal: 9.43s\tremaining: 6.41s\n",
            "2390:\tlearn: 1.0806999\ttotal: 9.46s\tremaining: 6.37s\n",
            "2400:\tlearn: 1.0806560\ttotal: 9.5s\tremaining: 6.33s\n",
            "2410:\tlearn: 1.0806105\ttotal: 9.54s\tremaining: 6.29s\n",
            "2420:\tlearn: 1.0805683\ttotal: 9.58s\tremaining: 6.25s\n",
            "2430:\tlearn: 1.0805349\ttotal: 9.63s\tremaining: 6.21s\n",
            "2440:\tlearn: 1.0804927\ttotal: 9.66s\tremaining: 6.17s\n",
            "2450:\tlearn: 1.0804509\ttotal: 9.72s\tremaining: 6.14s\n",
            "2460:\tlearn: 1.0804246\ttotal: 9.76s\tremaining: 6.1s\n",
            "2470:\tlearn: 1.0803935\ttotal: 9.79s\tremaining: 6.06s\n",
            "2480:\tlearn: 1.0803661\ttotal: 9.84s\tremaining: 6.02s\n",
            "2490:\tlearn: 1.0803365\ttotal: 9.88s\tremaining: 5.98s\n",
            "2500:\tlearn: 1.0803143\ttotal: 9.92s\tremaining: 5.94s\n",
            "2510:\tlearn: 1.0802736\ttotal: 9.96s\tremaining: 5.9s\n",
            "2520:\tlearn: 1.0802424\ttotal: 9.99s\tremaining: 5.86s\n",
            "2530:\tlearn: 1.0802139\ttotal: 10s\tremaining: 5.82s\n",
            "2540:\tlearn: 1.0801753\ttotal: 10.1s\tremaining: 5.79s\n",
            "2550:\tlearn: 1.0801421\ttotal: 10.1s\tremaining: 5.74s\n",
            "2560:\tlearn: 1.0801062\ttotal: 10.2s\tremaining: 5.7s\n",
            "2570:\tlearn: 1.0800815\ttotal: 10.2s\tremaining: 5.66s\n",
            "2580:\tlearn: 1.0800494\ttotal: 10.2s\tremaining: 5.63s\n",
            "2590:\tlearn: 1.0800206\ttotal: 10.3s\tremaining: 5.6s\n",
            "2600:\tlearn: 1.0799885\ttotal: 10.3s\tremaining: 5.56s\n",
            "2610:\tlearn: 1.0799604\ttotal: 10.4s\tremaining: 5.52s\n",
            "2620:\tlearn: 1.0799253\ttotal: 10.4s\tremaining: 5.47s\n",
            "2630:\tlearn: 1.0798934\ttotal: 10.4s\tremaining: 5.43s\n",
            "2640:\tlearn: 1.0798620\ttotal: 10.5s\tremaining: 5.39s\n",
            "2650:\tlearn: 1.0798287\ttotal: 10.5s\tremaining: 5.36s\n",
            "2660:\tlearn: 1.0797697\ttotal: 10.6s\tremaining: 5.32s\n",
            "2670:\tlearn: 1.0797471\ttotal: 10.6s\tremaining: 5.28s\n",
            "2680:\tlearn: 1.0797085\ttotal: 10.6s\tremaining: 5.24s\n",
            "2690:\tlearn: 1.0796697\ttotal: 10.7s\tremaining: 5.2s\n",
            "2700:\tlearn: 1.0796325\ttotal: 10.7s\tremaining: 5.16s\n",
            "2710:\tlearn: 1.0795996\ttotal: 10.8s\tremaining: 5.12s\n",
            "2720:\tlearn: 1.0795683\ttotal: 10.8s\tremaining: 5.08s\n",
            "2730:\tlearn: 1.0795430\ttotal: 10.8s\tremaining: 5.04s\n",
            "2740:\tlearn: 1.0795016\ttotal: 10.9s\tremaining: 5s\n",
            "2750:\tlearn: 1.0794644\ttotal: 10.9s\tremaining: 4.96s\n",
            "2760:\tlearn: 1.0794316\ttotal: 11s\tremaining: 4.92s\n",
            "2770:\tlearn: 1.0794022\ttotal: 11s\tremaining: 4.88s\n",
            "2780:\tlearn: 1.0793603\ttotal: 11s\tremaining: 4.84s\n",
            "2790:\tlearn: 1.0793379\ttotal: 11.1s\tremaining: 4.8s\n",
            "2800:\tlearn: 1.0793014\ttotal: 11.1s\tremaining: 4.76s\n",
            "2810:\tlearn: 1.0792685\ttotal: 11.2s\tremaining: 4.72s\n",
            "2820:\tlearn: 1.0792345\ttotal: 11.2s\tremaining: 4.68s\n",
            "2830:\tlearn: 1.0791974\ttotal: 11.3s\tremaining: 4.65s\n",
            "2840:\tlearn: 1.0791668\ttotal: 11.3s\tremaining: 4.61s\n",
            "2850:\tlearn: 1.0791445\ttotal: 11.3s\tremaining: 4.57s\n",
            "2860:\tlearn: 1.0791128\ttotal: 11.4s\tremaining: 4.53s\n",
            "2870:\tlearn: 1.0790832\ttotal: 11.4s\tremaining: 4.49s\n",
            "2880:\tlearn: 1.0790568\ttotal: 11.4s\tremaining: 4.45s\n",
            "2890:\tlearn: 1.0790220\ttotal: 11.5s\tremaining: 4.41s\n",
            "2900:\tlearn: 1.0789869\ttotal: 11.5s\tremaining: 4.37s\n",
            "2910:\tlearn: 1.0789451\ttotal: 11.6s\tremaining: 4.33s\n",
            "2920:\tlearn: 1.0789013\ttotal: 11.6s\tremaining: 4.29s\n",
            "2930:\tlearn: 1.0788664\ttotal: 11.7s\tremaining: 4.25s\n",
            "2940:\tlearn: 1.0788384\ttotal: 11.7s\tremaining: 4.21s\n",
            "2950:\tlearn: 1.0788085\ttotal: 11.7s\tremaining: 4.17s\n",
            "2960:\tlearn: 1.0787786\ttotal: 11.8s\tremaining: 4.13s\n",
            "2970:\tlearn: 1.0787407\ttotal: 11.8s\tremaining: 4.09s\n",
            "2980:\tlearn: 1.0787035\ttotal: 11.9s\tremaining: 4.05s\n",
            "2990:\tlearn: 1.0786580\ttotal: 11.9s\tremaining: 4.01s\n",
            "3000:\tlearn: 1.0786177\ttotal: 11.9s\tremaining: 3.98s\n",
            "3010:\tlearn: 1.0785932\ttotal: 12s\tremaining: 3.94s\n",
            "3020:\tlearn: 1.0785645\ttotal: 12s\tremaining: 3.89s\n",
            "3030:\tlearn: 1.0785358\ttotal: 12.1s\tremaining: 3.85s\n",
            "3040:\tlearn: 1.0785153\ttotal: 12.1s\tremaining: 3.81s\n",
            "3050:\tlearn: 1.0784892\ttotal: 12.1s\tremaining: 3.77s\n",
            "3060:\tlearn: 1.0784539\ttotal: 12.2s\tremaining: 3.74s\n",
            "3070:\tlearn: 1.0784194\ttotal: 12.2s\tremaining: 3.7s\n",
            "3080:\tlearn: 1.0783870\ttotal: 12.3s\tremaining: 3.66s\n",
            "3090:\tlearn: 1.0783505\ttotal: 12.3s\tremaining: 3.62s\n",
            "3100:\tlearn: 1.0783263\ttotal: 12.3s\tremaining: 3.58s\n",
            "3110:\tlearn: 1.0782973\ttotal: 12.4s\tremaining: 3.54s\n",
            "3120:\tlearn: 1.0782507\ttotal: 12.4s\tremaining: 3.5s\n",
            "3130:\tlearn: 1.0782141\ttotal: 12.5s\tremaining: 3.47s\n",
            "3140:\tlearn: 1.0781827\ttotal: 12.5s\tremaining: 3.43s\n",
            "3150:\tlearn: 1.0781575\ttotal: 12.6s\tremaining: 3.39s\n",
            "3160:\tlearn: 1.0781185\ttotal: 12.6s\tremaining: 3.35s\n",
            "3170:\tlearn: 1.0780819\ttotal: 12.7s\tremaining: 3.31s\n",
            "3180:\tlearn: 1.0780422\ttotal: 12.7s\tremaining: 3.27s\n",
            "3190:\tlearn: 1.0780126\ttotal: 12.8s\tremaining: 3.23s\n",
            "3200:\tlearn: 1.0779869\ttotal: 12.8s\tremaining: 3.19s\n",
            "3210:\tlearn: 1.0779517\ttotal: 12.8s\tremaining: 3.16s\n",
            "3220:\tlearn: 1.0779057\ttotal: 12.9s\tremaining: 3.12s\n",
            "3230:\tlearn: 1.0778771\ttotal: 12.9s\tremaining: 3.08s\n",
            "3240:\tlearn: 1.0778439\ttotal: 13s\tremaining: 3.04s\n",
            "3250:\tlearn: 1.0778229\ttotal: 13s\tremaining: 3s\n",
            "3260:\tlearn: 1.0777853\ttotal: 13.1s\tremaining: 2.96s\n",
            "3270:\tlearn: 1.0777463\ttotal: 13.1s\tremaining: 2.92s\n",
            "3280:\tlearn: 1.0777066\ttotal: 13.1s\tremaining: 2.88s\n",
            "3290:\tlearn: 1.0776768\ttotal: 13.2s\tremaining: 2.84s\n",
            "3300:\tlearn: 1.0776454\ttotal: 13.2s\tremaining: 2.8s\n",
            "3310:\tlearn: 1.0776165\ttotal: 13.3s\tremaining: 2.76s\n",
            "3320:\tlearn: 1.0775895\ttotal: 13.3s\tremaining: 2.72s\n",
            "3330:\tlearn: 1.0775595\ttotal: 13.3s\tremaining: 2.68s\n",
            "3340:\tlearn: 1.0775286\ttotal: 13.4s\tremaining: 2.64s\n",
            "3350:\tlearn: 1.0774914\ttotal: 13.4s\tremaining: 2.6s\n",
            "3360:\tlearn: 1.0774709\ttotal: 13.5s\tremaining: 2.56s\n",
            "3370:\tlearn: 1.0774457\ttotal: 13.5s\tremaining: 2.52s\n",
            "3380:\tlearn: 1.0774221\ttotal: 13.5s\tremaining: 2.48s\n",
            "3390:\tlearn: 1.0773913\ttotal: 13.6s\tremaining: 2.44s\n",
            "3400:\tlearn: 1.0773672\ttotal: 13.6s\tremaining: 2.4s\n",
            "3410:\tlearn: 1.0773440\ttotal: 13.7s\tremaining: 2.36s\n",
            "3420:\tlearn: 1.0773140\ttotal: 13.7s\tremaining: 2.32s\n",
            "3430:\tlearn: 1.0772812\ttotal: 13.8s\tremaining: 2.28s\n",
            "3440:\tlearn: 1.0772439\ttotal: 13.8s\tremaining: 2.24s\n",
            "3450:\tlearn: 1.0772247\ttotal: 13.8s\tremaining: 2.2s\n",
            "3460:\tlearn: 1.0771951\ttotal: 13.9s\tremaining: 2.16s\n",
            "3470:\tlearn: 1.0771608\ttotal: 13.9s\tremaining: 2.12s\n",
            "3480:\tlearn: 1.0771243\ttotal: 14s\tremaining: 2.08s\n",
            "3490:\tlearn: 1.0770971\ttotal: 14s\tremaining: 2.04s\n",
            "3500:\tlearn: 1.0770626\ttotal: 14s\tremaining: 2s\n",
            "3510:\tlearn: 1.0770321\ttotal: 14.1s\tremaining: 1.96s\n",
            "3520:\tlearn: 1.0770038\ttotal: 14.1s\tremaining: 1.92s\n",
            "3530:\tlearn: 1.0769797\ttotal: 14.2s\tremaining: 1.88s\n",
            "3540:\tlearn: 1.0769401\ttotal: 14.2s\tremaining: 1.84s\n",
            "3550:\tlearn: 1.0769210\ttotal: 14.3s\tremaining: 1.8s\n",
            "3560:\tlearn: 1.0768988\ttotal: 14.3s\tremaining: 1.76s\n",
            "3570:\tlearn: 1.0768651\ttotal: 14.3s\tremaining: 1.72s\n",
            "3580:\tlearn: 1.0768378\ttotal: 14.4s\tremaining: 1.68s\n",
            "3590:\tlearn: 1.0768143\ttotal: 14.4s\tremaining: 1.64s\n",
            "3600:\tlearn: 1.0767796\ttotal: 14.5s\tremaining: 1.6s\n",
            "3610:\tlearn: 1.0767549\ttotal: 14.5s\tremaining: 1.56s\n",
            "3620:\tlearn: 1.0767233\ttotal: 14.5s\tremaining: 1.52s\n",
            "3630:\tlearn: 1.0766941\ttotal: 14.6s\tremaining: 1.48s\n",
            "3640:\tlearn: 1.0766661\ttotal: 14.6s\tremaining: 1.44s\n",
            "3650:\tlearn: 1.0766384\ttotal: 14.6s\tremaining: 1.4s\n",
            "3660:\tlearn: 1.0765990\ttotal: 14.7s\tremaining: 1.36s\n",
            "3670:\tlearn: 1.0765785\ttotal: 14.7s\tremaining: 1.32s\n",
            "3680:\tlearn: 1.0765521\ttotal: 14.8s\tremaining: 1.28s\n",
            "3690:\tlearn: 1.0765300\ttotal: 14.8s\tremaining: 1.24s\n",
            "3700:\tlearn: 1.0764934\ttotal: 14.8s\tremaining: 1.2s\n",
            "3710:\tlearn: 1.0764578\ttotal: 14.9s\tremaining: 1.16s\n",
            "3720:\tlearn: 1.0764309\ttotal: 14.9s\tremaining: 1.12s\n",
            "3730:\tlearn: 1.0763917\ttotal: 15s\tremaining: 1.08s\n",
            "3740:\tlearn: 1.0763629\ttotal: 15s\tremaining: 1.04s\n",
            "3750:\tlearn: 1.0763326\ttotal: 15.1s\tremaining: 999ms\n",
            "3760:\tlearn: 1.0763077\ttotal: 15.1s\tremaining: 959ms\n",
            "3770:\tlearn: 1.0762871\ttotal: 15.1s\tremaining: 919ms\n",
            "3780:\tlearn: 1.0762592\ttotal: 15.2s\tremaining: 879ms\n",
            "3790:\tlearn: 1.0762290\ttotal: 15.2s\tremaining: 839ms\n",
            "3800:\tlearn: 1.0762034\ttotal: 15.3s\tremaining: 799ms\n",
            "3810:\tlearn: 1.0761855\ttotal: 15.3s\tremaining: 759ms\n",
            "3820:\tlearn: 1.0761644\ttotal: 15.3s\tremaining: 719ms\n",
            "3830:\tlearn: 1.0761336\ttotal: 15.4s\tremaining: 679ms\n",
            "3840:\tlearn: 1.0761003\ttotal: 15.4s\tremaining: 639ms\n",
            "3850:\tlearn: 1.0760719\ttotal: 15.5s\tremaining: 598ms\n",
            "3860:\tlearn: 1.0760554\ttotal: 15.5s\tremaining: 558ms\n",
            "3870:\tlearn: 1.0760407\ttotal: 15.5s\tremaining: 518ms\n",
            "3880:\tlearn: 1.0760109\ttotal: 15.6s\tremaining: 478ms\n",
            "3890:\tlearn: 1.0759887\ttotal: 15.6s\tremaining: 438ms\n",
            "3900:\tlearn: 1.0759564\ttotal: 15.7s\tremaining: 398ms\n",
            "3910:\tlearn: 1.0759319\ttotal: 15.7s\tremaining: 358ms\n",
            "3920:\tlearn: 1.0758967\ttotal: 15.8s\tremaining: 317ms\n",
            "3930:\tlearn: 1.0758798\ttotal: 15.8s\tremaining: 277ms\n",
            "3940:\tlearn: 1.0758512\ttotal: 15.8s\tremaining: 237ms\n",
            "3950:\tlearn: 1.0758285\ttotal: 15.9s\tremaining: 197ms\n",
            "3960:\tlearn: 1.0757940\ttotal: 15.9s\tremaining: 157ms\n",
            "3970:\tlearn: 1.0757725\ttotal: 16s\tremaining: 117ms\n",
            "3980:\tlearn: 1.0757504\ttotal: 16s\tremaining: 76.3ms\n",
            "3990:\tlearn: 1.0757163\ttotal: 16s\tremaining: 36.2ms\n",
            "3999:\tlearn: 1.0756947\ttotal: 16.1s\tremaining: 0us\n",
            "Fold 5, Valid score = 1.08966\n"
          ],
          "name": "stdout"
        },
        {
          "output_type": "stream",
          "text": [
            "Warning: less than 75% gpu memory available for training. Free: 5249.75 Total: 16280.875\n"
          ],
          "name": "stderr"
        },
        {
          "output_type": "stream",
          "text": [
            "0:\tlearn: 1.3525859\ttotal: 5.2ms\tremaining: 20.8s\n",
            "10:\tlearn: 1.1886619\ttotal: 46.6ms\tremaining: 16.9s\n",
            "20:\tlearn: 1.1388030\ttotal: 86.9ms\tremaining: 16.5s\n",
            "30:\tlearn: 1.1210192\ttotal: 125ms\tremaining: 16s\n",
            "40:\tlearn: 1.1142461\ttotal: 165ms\tremaining: 15.9s\n",
            "50:\tlearn: 1.1112621\ttotal: 209ms\tremaining: 16.2s\n",
            "60:\tlearn: 1.1095502\ttotal: 242ms\tremaining: 15.7s\n",
            "70:\tlearn: 1.1081239\ttotal: 278ms\tremaining: 15.4s\n",
            "80:\tlearn: 1.1072499\ttotal: 313ms\tremaining: 15.1s\n",
            "90:\tlearn: 1.1062884\ttotal: 348ms\tremaining: 14.9s\n",
            "100:\tlearn: 1.1053845\ttotal: 383ms\tremaining: 14.8s\n",
            "110:\tlearn: 1.1046886\ttotal: 423ms\tremaining: 14.8s\n",
            "120:\tlearn: 1.1040574\ttotal: 458ms\tremaining: 14.7s\n",
            "130:\tlearn: 1.1034227\ttotal: 493ms\tremaining: 14.5s\n",
            "140:\tlearn: 1.1029407\ttotal: 531ms\tremaining: 14.5s\n",
            "150:\tlearn: 1.1024804\ttotal: 565ms\tremaining: 14.4s\n",
            "160:\tlearn: 1.1020238\ttotal: 598ms\tremaining: 14.3s\n",
            "170:\tlearn: 1.1015000\ttotal: 640ms\tremaining: 14.3s\n",
            "180:\tlearn: 1.1010266\ttotal: 675ms\tremaining: 14.3s\n",
            "190:\tlearn: 1.1005001\ttotal: 720ms\tremaining: 14.4s\n",
            "200:\tlearn: 1.1001094\ttotal: 753ms\tremaining: 14.2s\n",
            "210:\tlearn: 1.0997209\ttotal: 788ms\tremaining: 14.2s\n",
            "220:\tlearn: 1.0993281\ttotal: 823ms\tremaining: 14.1s\n",
            "230:\tlearn: 1.0989949\ttotal: 866ms\tremaining: 14.1s\n",
            "240:\tlearn: 1.0987552\ttotal: 905ms\tremaining: 14.1s\n",
            "250:\tlearn: 1.0984770\ttotal: 939ms\tremaining: 14s\n",
            "260:\tlearn: 1.0982029\ttotal: 973ms\tremaining: 13.9s\n",
            "270:\tlearn: 1.0978330\ttotal: 1.01s\tremaining: 13.9s\n",
            "280:\tlearn: 1.0975563\ttotal: 1.04s\tremaining: 13.8s\n",
            "290:\tlearn: 1.0972432\ttotal: 1.08s\tremaining: 13.7s\n",
            "300:\tlearn: 1.0969010\ttotal: 1.11s\tremaining: 13.7s\n",
            "310:\tlearn: 1.0966563\ttotal: 1.15s\tremaining: 13.6s\n",
            "320:\tlearn: 1.0964074\ttotal: 1.18s\tremaining: 13.6s\n",
            "330:\tlearn: 1.0961328\ttotal: 1.22s\tremaining: 13.5s\n",
            "340:\tlearn: 1.0958209\ttotal: 1.26s\tremaining: 13.5s\n",
            "350:\tlearn: 1.0954789\ttotal: 1.3s\tremaining: 13.5s\n",
            "360:\tlearn: 1.0952082\ttotal: 1.33s\tremaining: 13.4s\n",
            "370:\tlearn: 1.0949190\ttotal: 1.37s\tremaining: 13.4s\n",
            "380:\tlearn: 1.0946377\ttotal: 1.4s\tremaining: 13.3s\n",
            "390:\tlearn: 1.0944062\ttotal: 1.44s\tremaining: 13.3s\n",
            "400:\tlearn: 1.0941874\ttotal: 1.47s\tremaining: 13.2s\n",
            "410:\tlearn: 1.0939799\ttotal: 1.51s\tremaining: 13.2s\n",
            "420:\tlearn: 1.0937719\ttotal: 1.54s\tremaining: 13.1s\n",
            "430:\tlearn: 1.0936598\ttotal: 1.58s\tremaining: 13.1s\n",
            "440:\tlearn: 1.0934713\ttotal: 1.62s\tremaining: 13.1s\n",
            "450:\tlearn: 1.0932363\ttotal: 1.66s\tremaining: 13.1s\n",
            "460:\tlearn: 1.0930703\ttotal: 1.72s\tremaining: 13.2s\n",
            "470:\tlearn: 1.0928739\ttotal: 1.76s\tremaining: 13.2s\n",
            "480:\tlearn: 1.0926697\ttotal: 1.79s\tremaining: 13.1s\n",
            "490:\tlearn: 1.0925029\ttotal: 1.83s\tremaining: 13.1s\n",
            "500:\tlearn: 1.0923075\ttotal: 1.86s\tremaining: 13s\n",
            "510:\tlearn: 1.0921356\ttotal: 1.91s\tremaining: 13s\n",
            "520:\tlearn: 1.0919716\ttotal: 1.95s\tremaining: 13s\n",
            "530:\tlearn: 1.0918054\ttotal: 1.99s\tremaining: 13s\n",
            "540:\tlearn: 1.0916365\ttotal: 2.02s\tremaining: 12.9s\n",
            "550:\tlearn: 1.0914806\ttotal: 2.06s\tremaining: 12.9s\n",
            "560:\tlearn: 1.0913579\ttotal: 2.1s\tremaining: 12.9s\n",
            "570:\tlearn: 1.0911803\ttotal: 2.14s\tremaining: 12.8s\n",
            "580:\tlearn: 1.0909784\ttotal: 2.18s\tremaining: 12.8s\n",
            "590:\tlearn: 1.0908704\ttotal: 2.22s\tremaining: 12.8s\n",
            "600:\tlearn: 1.0906895\ttotal: 2.25s\tremaining: 12.8s\n",
            "610:\tlearn: 1.0905608\ttotal: 2.29s\tremaining: 12.7s\n",
            "620:\tlearn: 1.0904738\ttotal: 2.33s\tremaining: 12.7s\n",
            "630:\tlearn: 1.0903528\ttotal: 2.37s\tremaining: 12.6s\n",
            "640:\tlearn: 1.0902187\ttotal: 2.41s\tremaining: 12.6s\n",
            "650:\tlearn: 1.0900712\ttotal: 2.45s\tremaining: 12.6s\n",
            "660:\tlearn: 1.0899581\ttotal: 2.48s\tremaining: 12.5s\n",
            "670:\tlearn: 1.0898442\ttotal: 2.52s\tremaining: 12.5s\n",
            "680:\tlearn: 1.0897675\ttotal: 2.57s\tremaining: 12.5s\n",
            "690:\tlearn: 1.0897030\ttotal: 2.62s\tremaining: 12.5s\n",
            "700:\tlearn: 1.0896106\ttotal: 2.65s\tremaining: 12.5s\n",
            "710:\tlearn: 1.0895028\ttotal: 2.7s\tremaining: 12.5s\n",
            "720:\tlearn: 1.0894312\ttotal: 2.74s\tremaining: 12.5s\n",
            "730:\tlearn: 1.0893257\ttotal: 2.78s\tremaining: 12.4s\n",
            "740:\tlearn: 1.0891783\ttotal: 2.82s\tremaining: 12.4s\n",
            "750:\tlearn: 1.0890847\ttotal: 2.86s\tremaining: 12.4s\n",
            "760:\tlearn: 1.0889659\ttotal: 2.9s\tremaining: 12.3s\n",
            "770:\tlearn: 1.0888711\ttotal: 2.94s\tremaining: 12.3s\n",
            "780:\tlearn: 1.0887880\ttotal: 2.98s\tremaining: 12.3s\n",
            "790:\tlearn: 1.0887276\ttotal: 3.01s\tremaining: 12.2s\n",
            "800:\tlearn: 1.0886353\ttotal: 3.06s\tremaining: 12.2s\n",
            "810:\tlearn: 1.0885307\ttotal: 3.09s\tremaining: 12.2s\n",
            "820:\tlearn: 1.0884539\ttotal: 3.13s\tremaining: 12.1s\n",
            "830:\tlearn: 1.0883286\ttotal: 3.17s\tremaining: 12.1s\n",
            "840:\tlearn: 1.0882573\ttotal: 3.21s\tremaining: 12s\n",
            "850:\tlearn: 1.0881837\ttotal: 3.25s\tremaining: 12s\n",
            "860:\tlearn: 1.0880902\ttotal: 3.29s\tremaining: 12s\n",
            "870:\tlearn: 1.0879854\ttotal: 3.32s\tremaining: 11.9s\n",
            "880:\tlearn: 1.0879065\ttotal: 3.36s\tremaining: 11.9s\n",
            "890:\tlearn: 1.0878168\ttotal: 3.39s\tremaining: 11.8s\n",
            "900:\tlearn: 1.0877264\ttotal: 3.43s\tremaining: 11.8s\n",
            "910:\tlearn: 1.0876425\ttotal: 3.46s\tremaining: 11.7s\n",
            "920:\tlearn: 1.0875828\ttotal: 3.5s\tremaining: 11.7s\n",
            "930:\tlearn: 1.0875005\ttotal: 3.54s\tremaining: 11.7s\n",
            "940:\tlearn: 1.0874153\ttotal: 3.57s\tremaining: 11.6s\n",
            "950:\tlearn: 1.0873248\ttotal: 3.61s\tremaining: 11.6s\n",
            "960:\tlearn: 1.0872239\ttotal: 3.65s\tremaining: 11.5s\n",
            "970:\tlearn: 1.0871402\ttotal: 3.7s\tremaining: 11.5s\n",
            "980:\tlearn: 1.0870556\ttotal: 3.74s\tremaining: 11.5s\n",
            "990:\tlearn: 1.0869543\ttotal: 3.78s\tremaining: 11.5s\n",
            "1000:\tlearn: 1.0868825\ttotal: 3.81s\tremaining: 11.4s\n",
            "1010:\tlearn: 1.0868181\ttotal: 3.85s\tremaining: 11.4s\n",
            "1020:\tlearn: 1.0867350\ttotal: 3.88s\tremaining: 11.3s\n",
            "1030:\tlearn: 1.0866553\ttotal: 3.92s\tremaining: 11.3s\n",
            "1040:\tlearn: 1.0865871\ttotal: 3.96s\tremaining: 11.3s\n",
            "1050:\tlearn: 1.0865198\ttotal: 4s\tremaining: 11.2s\n",
            "1060:\tlearn: 1.0864548\ttotal: 4.03s\tremaining: 11.2s\n",
            "1070:\tlearn: 1.0863826\ttotal: 4.07s\tremaining: 11.1s\n",
            "1080:\tlearn: 1.0863056\ttotal: 4.11s\tremaining: 11.1s\n",
            "1090:\tlearn: 1.0862376\ttotal: 4.14s\tremaining: 11s\n",
            "1100:\tlearn: 1.0861636\ttotal: 4.18s\tremaining: 11s\n",
            "1110:\tlearn: 1.0861137\ttotal: 4.21s\tremaining: 11s\n",
            "1120:\tlearn: 1.0860366\ttotal: 4.25s\tremaining: 10.9s\n",
            "1130:\tlearn: 1.0859886\ttotal: 4.29s\tremaining: 10.9s\n",
            "1140:\tlearn: 1.0859128\ttotal: 4.32s\tremaining: 10.8s\n",
            "1150:\tlearn: 1.0858620\ttotal: 4.36s\tremaining: 10.8s\n",
            "1160:\tlearn: 1.0858194\ttotal: 4.4s\tremaining: 10.8s\n",
            "1170:\tlearn: 1.0857462\ttotal: 4.43s\tremaining: 10.7s\n",
            "1180:\tlearn: 1.0856706\ttotal: 4.47s\tremaining: 10.7s\n",
            "1190:\tlearn: 1.0856048\ttotal: 4.5s\tremaining: 10.6s\n",
            "1200:\tlearn: 1.0855356\ttotal: 4.54s\tremaining: 10.6s\n",
            "1210:\tlearn: 1.0854843\ttotal: 4.57s\tremaining: 10.5s\n",
            "1220:\tlearn: 1.0854283\ttotal: 4.61s\tremaining: 10.5s\n",
            "1230:\tlearn: 1.0853773\ttotal: 4.66s\tremaining: 10.5s\n",
            "1240:\tlearn: 1.0853105\ttotal: 4.7s\tremaining: 10.4s\n",
            "1250:\tlearn: 1.0852516\ttotal: 4.73s\tremaining: 10.4s\n",
            "1260:\tlearn: 1.0852057\ttotal: 4.77s\tremaining: 10.4s\n",
            "1270:\tlearn: 1.0851364\ttotal: 4.8s\tremaining: 10.3s\n",
            "1280:\tlearn: 1.0850724\ttotal: 4.86s\tremaining: 10.3s\n",
            "1290:\tlearn: 1.0849956\ttotal: 4.89s\tremaining: 10.3s\n",
            "1300:\tlearn: 1.0849407\ttotal: 4.93s\tremaining: 10.2s\n",
            "1310:\tlearn: 1.0849046\ttotal: 4.96s\tremaining: 10.2s\n",
            "1320:\tlearn: 1.0848631\ttotal: 5s\tremaining: 10.1s\n",
            "1330:\tlearn: 1.0848278\ttotal: 5.03s\tremaining: 10.1s\n",
            "1340:\tlearn: 1.0847867\ttotal: 5.07s\tremaining: 10.1s\n",
            "1350:\tlearn: 1.0847337\ttotal: 5.11s\tremaining: 10s\n",
            "1360:\tlearn: 1.0846707\ttotal: 5.14s\tremaining: 9.97s\n",
            "1370:\tlearn: 1.0846073\ttotal: 5.18s\tremaining: 9.93s\n",
            "1380:\tlearn: 1.0845507\ttotal: 5.21s\tremaining: 9.88s\n",
            "1390:\tlearn: 1.0844900\ttotal: 5.25s\tremaining: 9.84s\n",
            "1400:\tlearn: 1.0844426\ttotal: 5.29s\tremaining: 9.81s\n",
            "1410:\tlearn: 1.0843864\ttotal: 5.33s\tremaining: 9.77s\n",
            "1420:\tlearn: 1.0843412\ttotal: 5.36s\tremaining: 9.73s\n",
            "1430:\tlearn: 1.0842966\ttotal: 5.39s\tremaining: 9.69s\n",
            "1440:\tlearn: 1.0842549\ttotal: 5.43s\tremaining: 9.64s\n",
            "1450:\tlearn: 1.0842270\ttotal: 5.46s\tremaining: 9.6s\n",
            "1460:\tlearn: 1.0841713\ttotal: 5.51s\tremaining: 9.57s\n",
            "1470:\tlearn: 1.0841181\ttotal: 5.54s\tremaining: 9.53s\n",
            "1480:\tlearn: 1.0840584\ttotal: 5.58s\tremaining: 9.48s\n",
            "1490:\tlearn: 1.0839705\ttotal: 5.62s\tremaining: 9.46s\n",
            "1500:\tlearn: 1.0839245\ttotal: 5.67s\tremaining: 9.43s\n",
            "1510:\tlearn: 1.0838829\ttotal: 5.7s\tremaining: 9.39s\n",
            "1520:\tlearn: 1.0838372\ttotal: 5.74s\tremaining: 9.36s\n",
            "1530:\tlearn: 1.0838037\ttotal: 5.78s\tremaining: 9.32s\n",
            "1540:\tlearn: 1.0837560\ttotal: 5.82s\tremaining: 9.28s\n",
            "1550:\tlearn: 1.0837049\ttotal: 5.85s\tremaining: 9.24s\n",
            "1560:\tlearn: 1.0836518\ttotal: 5.88s\tremaining: 9.2s\n",
            "1570:\tlearn: 1.0836065\ttotal: 5.92s\tremaining: 9.15s\n",
            "1580:\tlearn: 1.0835588\ttotal: 5.96s\tremaining: 9.13s\n",
            "1590:\tlearn: 1.0835114\ttotal: 6s\tremaining: 9.09s\n",
            "1600:\tlearn: 1.0834670\ttotal: 6.04s\tremaining: 9.04s\n",
            "1610:\tlearn: 1.0834155\ttotal: 6.07s\tremaining: 9s\n",
            "1620:\tlearn: 1.0833697\ttotal: 6.11s\tremaining: 8.96s\n",
            "1630:\tlearn: 1.0833261\ttotal: 6.14s\tremaining: 8.92s\n",
            "1640:\tlearn: 1.0832748\ttotal: 6.21s\tremaining: 8.93s\n",
            "1650:\tlearn: 1.0832264\ttotal: 6.24s\tremaining: 8.88s\n",
            "1660:\tlearn: 1.0831694\ttotal: 6.28s\tremaining: 8.84s\n",
            "1670:\tlearn: 1.0831238\ttotal: 6.31s\tremaining: 8.8s\n",
            "1680:\tlearn: 1.0830852\ttotal: 6.35s\tremaining: 8.76s\n",
            "1690:\tlearn: 1.0830461\ttotal: 6.38s\tremaining: 8.71s\n",
            "1700:\tlearn: 1.0829816\ttotal: 6.43s\tremaining: 8.69s\n",
            "1710:\tlearn: 1.0829279\ttotal: 6.46s\tremaining: 8.64s\n",
            "1720:\tlearn: 1.0828888\ttotal: 6.5s\tremaining: 8.6s\n",
            "1730:\tlearn: 1.0828363\ttotal: 6.53s\tremaining: 8.56s\n",
            "1740:\tlearn: 1.0827731\ttotal: 6.57s\tremaining: 8.52s\n",
            "1750:\tlearn: 1.0827240\ttotal: 6.6s\tremaining: 8.48s\n",
            "1760:\tlearn: 1.0826861\ttotal: 6.65s\tremaining: 8.46s\n",
            "1770:\tlearn: 1.0826385\ttotal: 6.69s\tremaining: 8.42s\n",
            "1780:\tlearn: 1.0826026\ttotal: 6.72s\tremaining: 8.38s\n",
            "1790:\tlearn: 1.0825556\ttotal: 6.76s\tremaining: 8.34s\n",
            "1800:\tlearn: 1.0825037\ttotal: 6.8s\tremaining: 8.3s\n",
            "1810:\tlearn: 1.0824591\ttotal: 6.83s\tremaining: 8.26s\n",
            "1820:\tlearn: 1.0824189\ttotal: 6.87s\tremaining: 8.22s\n",
            "1830:\tlearn: 1.0823733\ttotal: 6.91s\tremaining: 8.18s\n",
            "1840:\tlearn: 1.0823303\ttotal: 6.94s\tremaining: 8.14s\n",
            "1850:\tlearn: 1.0822981\ttotal: 6.98s\tremaining: 8.1s\n",
            "1860:\tlearn: 1.0822632\ttotal: 7.01s\tremaining: 8.06s\n",
            "1870:\tlearn: 1.0822235\ttotal: 7.05s\tremaining: 8.02s\n",
            "1880:\tlearn: 1.0821798\ttotal: 7.08s\tremaining: 7.98s\n",
            "1890:\tlearn: 1.0821362\ttotal: 7.12s\tremaining: 7.94s\n",
            "1900:\tlearn: 1.0821051\ttotal: 7.15s\tremaining: 7.9s\n",
            "1910:\tlearn: 1.0820647\ttotal: 7.19s\tremaining: 7.86s\n",
            "1920:\tlearn: 1.0820363\ttotal: 7.22s\tremaining: 7.82s\n",
            "1930:\tlearn: 1.0819988\ttotal: 7.26s\tremaining: 7.78s\n",
            "1940:\tlearn: 1.0819614\ttotal: 7.3s\tremaining: 7.74s\n",
            "1950:\tlearn: 1.0819126\ttotal: 7.33s\tremaining: 7.7s\n",
            "1960:\tlearn: 1.0818589\ttotal: 7.37s\tremaining: 7.67s\n",
            "1970:\tlearn: 1.0818323\ttotal: 7.41s\tremaining: 7.63s\n",
            "1980:\tlearn: 1.0817967\ttotal: 7.45s\tremaining: 7.59s\n",
            "1990:\tlearn: 1.0817561\ttotal: 7.49s\tremaining: 7.56s\n",
            "2000:\tlearn: 1.0817297\ttotal: 7.54s\tremaining: 7.53s\n",
            "2010:\tlearn: 1.0816908\ttotal: 7.58s\tremaining: 7.49s\n",
            "2020:\tlearn: 1.0816649\ttotal: 7.62s\tremaining: 7.46s\n",
            "2030:\tlearn: 1.0816288\ttotal: 7.66s\tremaining: 7.42s\n",
            "2040:\tlearn: 1.0815796\ttotal: 7.7s\tremaining: 7.39s\n",
            "2050:\tlearn: 1.0815430\ttotal: 7.73s\tremaining: 7.35s\n",
            "2060:\tlearn: 1.0814923\ttotal: 7.77s\tremaining: 7.31s\n",
            "2070:\tlearn: 1.0814550\ttotal: 7.81s\tremaining: 7.27s\n",
            "2080:\tlearn: 1.0814094\ttotal: 7.84s\tremaining: 7.23s\n",
            "2090:\tlearn: 1.0813657\ttotal: 7.88s\tremaining: 7.19s\n",
            "2100:\tlearn: 1.0813292\ttotal: 7.91s\tremaining: 7.15s\n",
            "2110:\tlearn: 1.0812856\ttotal: 7.95s\tremaining: 7.11s\n",
            "2120:\tlearn: 1.0812496\ttotal: 7.99s\tremaining: 7.08s\n",
            "2130:\tlearn: 1.0812092\ttotal: 8.02s\tremaining: 7.04s\n",
            "2140:\tlearn: 1.0811859\ttotal: 8.06s\tremaining: 7s\n",
            "2150:\tlearn: 1.0811514\ttotal: 8.1s\tremaining: 6.96s\n",
            "2160:\tlearn: 1.0811038\ttotal: 8.13s\tremaining: 6.92s\n",
            "2170:\tlearn: 1.0810641\ttotal: 8.16s\tremaining: 6.88s\n",
            "2180:\tlearn: 1.0810228\ttotal: 8.21s\tremaining: 6.84s\n",
            "2190:\tlearn: 1.0809988\ttotal: 8.25s\tremaining: 6.81s\n",
            "2200:\tlearn: 1.0809615\ttotal: 8.29s\tremaining: 6.77s\n",
            "2210:\tlearn: 1.0809224\ttotal: 8.32s\tremaining: 6.74s\n",
            "2220:\tlearn: 1.0808976\ttotal: 8.36s\tremaining: 6.7s\n",
            "2230:\tlearn: 1.0808591\ttotal: 8.4s\tremaining: 6.66s\n",
            "2240:\tlearn: 1.0808233\ttotal: 8.44s\tremaining: 6.63s\n",
            "2250:\tlearn: 1.0807872\ttotal: 8.48s\tremaining: 6.59s\n",
            "2260:\tlearn: 1.0807496\ttotal: 8.52s\tremaining: 6.55s\n",
            "2270:\tlearn: 1.0806953\ttotal: 8.55s\tremaining: 6.51s\n",
            "2280:\tlearn: 1.0806620\ttotal: 8.59s\tremaining: 6.47s\n",
            "2290:\tlearn: 1.0806372\ttotal: 8.64s\tremaining: 6.44s\n",
            "2300:\tlearn: 1.0806029\ttotal: 8.68s\tremaining: 6.41s\n",
            "2310:\tlearn: 1.0805670\ttotal: 8.71s\tremaining: 6.37s\n",
            "2320:\tlearn: 1.0805289\ttotal: 8.75s\tremaining: 6.33s\n",
            "2330:\tlearn: 1.0804864\ttotal: 8.79s\tremaining: 6.29s\n",
            "2340:\tlearn: 1.0804497\ttotal: 8.82s\tremaining: 6.25s\n",
            "2350:\tlearn: 1.0804004\ttotal: 8.85s\tremaining: 6.21s\n",
            "2360:\tlearn: 1.0803514\ttotal: 8.89s\tremaining: 6.17s\n",
            "2370:\tlearn: 1.0803155\ttotal: 8.93s\tremaining: 6.13s\n",
            "2380:\tlearn: 1.0802891\ttotal: 8.96s\tremaining: 6.09s\n",
            "2390:\tlearn: 1.0802584\ttotal: 9s\tremaining: 6.06s\n",
            "2400:\tlearn: 1.0802298\ttotal: 9.04s\tremaining: 6.02s\n",
            "2410:\tlearn: 1.0801816\ttotal: 9.07s\tremaining: 5.98s\n",
            "2420:\tlearn: 1.0801488\ttotal: 9.11s\tremaining: 5.94s\n",
            "2430:\tlearn: 1.0801253\ttotal: 9.15s\tremaining: 5.9s\n",
            "2440:\tlearn: 1.0800751\ttotal: 9.18s\tremaining: 5.86s\n",
            "2450:\tlearn: 1.0800412\ttotal: 9.22s\tremaining: 5.83s\n",
            "2460:\tlearn: 1.0800163\ttotal: 9.25s\tremaining: 5.79s\n",
            "2470:\tlearn: 1.0799853\ttotal: 9.28s\tremaining: 5.75s\n",
            "2480:\tlearn: 1.0799494\ttotal: 9.33s\tremaining: 5.71s\n",
            "2490:\tlearn: 1.0799160\ttotal: 9.38s\tremaining: 5.68s\n",
            "2500:\tlearn: 1.0798659\ttotal: 9.41s\tremaining: 5.64s\n",
            "2510:\tlearn: 1.0798346\ttotal: 9.45s\tremaining: 5.6s\n",
            "2520:\tlearn: 1.0798005\ttotal: 9.48s\tremaining: 5.56s\n",
            "2530:\tlearn: 1.0797699\ttotal: 9.51s\tremaining: 5.52s\n",
            "2540:\tlearn: 1.0797421\ttotal: 9.55s\tremaining: 5.49s\n",
            "2550:\tlearn: 1.0796923\ttotal: 9.59s\tremaining: 5.45s\n",
            "2560:\tlearn: 1.0796675\ttotal: 9.64s\tremaining: 5.42s\n",
            "2570:\tlearn: 1.0796176\ttotal: 9.69s\tremaining: 5.38s\n",
            "2580:\tlearn: 1.0795827\ttotal: 9.72s\tremaining: 5.34s\n",
            "2590:\tlearn: 1.0795565\ttotal: 9.77s\tremaining: 5.31s\n",
            "2600:\tlearn: 1.0795210\ttotal: 9.8s\tremaining: 5.27s\n",
            "2610:\tlearn: 1.0794897\ttotal: 9.84s\tremaining: 5.24s\n",
            "2620:\tlearn: 1.0794491\ttotal: 9.88s\tremaining: 5.2s\n",
            "2630:\tlearn: 1.0794083\ttotal: 9.91s\tremaining: 5.16s\n",
            "2640:\tlearn: 1.0793736\ttotal: 9.96s\tremaining: 5.12s\n",
            "2650:\tlearn: 1.0793310\ttotal: 10s\tremaining: 5.09s\n",
            "2660:\tlearn: 1.0792851\ttotal: 10s\tremaining: 5.05s\n",
            "2670:\tlearn: 1.0792474\ttotal: 10.1s\tremaining: 5.01s\n",
            "2680:\tlearn: 1.0792169\ttotal: 10.1s\tremaining: 4.97s\n",
            "2690:\tlearn: 1.0791809\ttotal: 10.1s\tremaining: 4.94s\n",
            "2700:\tlearn: 1.0791486\ttotal: 10.2s\tremaining: 4.9s\n",
            "2710:\tlearn: 1.0791154\ttotal: 10.2s\tremaining: 4.86s\n",
            "2720:\tlearn: 1.0790746\ttotal: 10.3s\tremaining: 4.83s\n",
            "2730:\tlearn: 1.0790378\ttotal: 10.3s\tremaining: 4.79s\n",
            "2740:\tlearn: 1.0789994\ttotal: 10.3s\tremaining: 4.75s\n",
            "2750:\tlearn: 1.0789642\ttotal: 10.4s\tremaining: 4.71s\n",
            "2760:\tlearn: 1.0789191\ttotal: 10.4s\tremaining: 4.68s\n",
            "2770:\tlearn: 1.0788802\ttotal: 10.5s\tremaining: 4.64s\n",
            "2780:\tlearn: 1.0788278\ttotal: 10.5s\tremaining: 4.61s\n",
            "2790:\tlearn: 1.0787997\ttotal: 10.5s\tremaining: 4.57s\n",
            "2800:\tlearn: 1.0787760\ttotal: 10.6s\tremaining: 4.53s\n",
            "2810:\tlearn: 1.0787405\ttotal: 10.6s\tremaining: 4.5s\n",
            "2820:\tlearn: 1.0787059\ttotal: 10.7s\tremaining: 4.46s\n",
            "2830:\tlearn: 1.0786758\ttotal: 10.7s\tremaining: 4.42s\n",
            "2840:\tlearn: 1.0786373\ttotal: 10.7s\tremaining: 4.38s\n",
            "2850:\tlearn: 1.0786005\ttotal: 10.8s\tremaining: 4.35s\n",
            "2860:\tlearn: 1.0785544\ttotal: 10.8s\tremaining: 4.31s\n",
            "2870:\tlearn: 1.0785202\ttotal: 10.9s\tremaining: 4.27s\n",
            "2880:\tlearn: 1.0784866\ttotal: 10.9s\tremaining: 4.23s\n",
            "2890:\tlearn: 1.0784582\ttotal: 10.9s\tremaining: 4.2s\n",
            "2900:\tlearn: 1.0784181\ttotal: 11s\tremaining: 4.16s\n",
            "2910:\tlearn: 1.0783879\ttotal: 11s\tremaining: 4.12s\n",
            "2920:\tlearn: 1.0783605\ttotal: 11.1s\tremaining: 4.08s\n",
            "2930:\tlearn: 1.0783248\ttotal: 11.1s\tremaining: 4.04s\n",
            "2940:\tlearn: 1.0783061\ttotal: 11.1s\tremaining: 4.01s\n",
            "2950:\tlearn: 1.0782677\ttotal: 11.2s\tremaining: 3.97s\n",
            "2960:\tlearn: 1.0782369\ttotal: 11.2s\tremaining: 3.93s\n",
            "2970:\tlearn: 1.0782129\ttotal: 11.2s\tremaining: 3.89s\n",
            "2980:\tlearn: 1.0781876\ttotal: 11.3s\tremaining: 3.86s\n",
            "2990:\tlearn: 1.0781615\ttotal: 11.3s\tremaining: 3.82s\n",
            "3000:\tlearn: 1.0781314\ttotal: 11.4s\tremaining: 3.78s\n",
            "3010:\tlearn: 1.0781026\ttotal: 11.4s\tremaining: 3.75s\n",
            "3020:\tlearn: 1.0780785\ttotal: 11.4s\tremaining: 3.71s\n",
            "3030:\tlearn: 1.0780307\ttotal: 11.5s\tremaining: 3.67s\n",
            "3040:\tlearn: 1.0780041\ttotal: 11.5s\tremaining: 3.63s\n",
            "3050:\tlearn: 1.0779803\ttotal: 11.6s\tremaining: 3.59s\n",
            "3060:\tlearn: 1.0779598\ttotal: 11.6s\tremaining: 3.56s\n",
            "3070:\tlearn: 1.0779176\ttotal: 11.6s\tremaining: 3.52s\n",
            "3080:\tlearn: 1.0778931\ttotal: 11.7s\tremaining: 3.48s\n",
            "3090:\tlearn: 1.0778704\ttotal: 11.7s\tremaining: 3.45s\n",
            "3100:\tlearn: 1.0778283\ttotal: 11.8s\tremaining: 3.41s\n",
            "3110:\tlearn: 1.0778001\ttotal: 11.8s\tremaining: 3.38s\n",
            "3120:\tlearn: 1.0777664\ttotal: 11.8s\tremaining: 3.34s\n",
            "3130:\tlearn: 1.0777290\ttotal: 11.9s\tremaining: 3.3s\n",
            "3140:\tlearn: 1.0777036\ttotal: 11.9s\tremaining: 3.26s\n",
            "3150:\tlearn: 1.0776748\ttotal: 12s\tremaining: 3.22s\n",
            "3160:\tlearn: 1.0776471\ttotal: 12s\tremaining: 3.19s\n",
            "3170:\tlearn: 1.0776100\ttotal: 12s\tremaining: 3.15s\n",
            "3180:\tlearn: 1.0775799\ttotal: 12.1s\tremaining: 3.11s\n",
            "3190:\tlearn: 1.0775553\ttotal: 12.1s\tremaining: 3.07s\n",
            "3200:\tlearn: 1.0775288\ttotal: 12.2s\tremaining: 3.03s\n",
            "3210:\tlearn: 1.0774994\ttotal: 12.2s\tremaining: 3s\n",
            "3220:\tlearn: 1.0774691\ttotal: 12.2s\tremaining: 2.96s\n",
            "3230:\tlearn: 1.0774310\ttotal: 12.3s\tremaining: 2.92s\n",
            "3240:\tlearn: 1.0774033\ttotal: 12.3s\tremaining: 2.88s\n",
            "3250:\tlearn: 1.0773703\ttotal: 12.4s\tremaining: 2.85s\n",
            "3260:\tlearn: 1.0773349\ttotal: 12.4s\tremaining: 2.81s\n",
            "3270:\tlearn: 1.0773042\ttotal: 12.4s\tremaining: 2.77s\n",
            "3280:\tlearn: 1.0772858\ttotal: 12.5s\tremaining: 2.73s\n",
            "3290:\tlearn: 1.0772492\ttotal: 12.5s\tremaining: 2.69s\n",
            "3300:\tlearn: 1.0772229\ttotal: 12.5s\tremaining: 2.66s\n",
            "3310:\tlearn: 1.0771987\ttotal: 12.6s\tremaining: 2.62s\n",
            "3320:\tlearn: 1.0771722\ttotal: 12.6s\tremaining: 2.58s\n",
            "3330:\tlearn: 1.0771414\ttotal: 12.7s\tremaining: 2.54s\n",
            "3340:\tlearn: 1.0771149\ttotal: 12.7s\tremaining: 2.51s\n",
            "3350:\tlearn: 1.0770841\ttotal: 12.8s\tremaining: 2.47s\n",
            "3360:\tlearn: 1.0770565\ttotal: 12.8s\tremaining: 2.43s\n",
            "3370:\tlearn: 1.0770264\ttotal: 12.8s\tremaining: 2.39s\n",
            "3380:\tlearn: 1.0769943\ttotal: 12.9s\tremaining: 2.35s\n",
            "3390:\tlearn: 1.0769684\ttotal: 12.9s\tremaining: 2.32s\n",
            "3400:\tlearn: 1.0769372\ttotal: 12.9s\tremaining: 2.28s\n",
            "3410:\tlearn: 1.0769198\ttotal: 13s\tremaining: 2.24s\n",
            "3420:\tlearn: 1.0768792\ttotal: 13s\tremaining: 2.2s\n",
            "3430:\tlearn: 1.0768593\ttotal: 13.1s\tremaining: 2.17s\n",
            "3440:\tlearn: 1.0768344\ttotal: 13.1s\tremaining: 2.13s\n",
            "3450:\tlearn: 1.0767983\ttotal: 13.1s\tremaining: 2.09s\n",
            "3460:\tlearn: 1.0767733\ttotal: 13.2s\tremaining: 2.05s\n",
            "3470:\tlearn: 1.0767529\ttotal: 13.2s\tremaining: 2.02s\n",
            "3480:\tlearn: 1.0767321\ttotal: 13.3s\tremaining: 1.98s\n",
            "3490:\tlearn: 1.0767072\ttotal: 13.3s\tremaining: 1.94s\n",
            "3500:\tlearn: 1.0766704\ttotal: 13.3s\tremaining: 1.9s\n",
            "3510:\tlearn: 1.0766354\ttotal: 13.4s\tremaining: 1.86s\n",
            "3520:\tlearn: 1.0766115\ttotal: 13.4s\tremaining: 1.82s\n",
            "3530:\tlearn: 1.0765791\ttotal: 13.5s\tremaining: 1.79s\n",
            "3540:\tlearn: 1.0765639\ttotal: 13.5s\tremaining: 1.75s\n",
            "3550:\tlearn: 1.0765317\ttotal: 13.5s\tremaining: 1.71s\n",
            "3560:\tlearn: 1.0765000\ttotal: 13.6s\tremaining: 1.67s\n",
            "3570:\tlearn: 1.0764781\ttotal: 13.6s\tremaining: 1.64s\n",
            "3580:\tlearn: 1.0764499\ttotal: 13.7s\tremaining: 1.6s\n",
            "3590:\tlearn: 1.0764183\ttotal: 13.7s\tremaining: 1.56s\n",
            "3600:\tlearn: 1.0763866\ttotal: 13.8s\tremaining: 1.52s\n",
            "3610:\tlearn: 1.0763537\ttotal: 13.8s\tremaining: 1.49s\n",
            "3620:\tlearn: 1.0763237\ttotal: 13.8s\tremaining: 1.45s\n",
            "3630:\tlearn: 1.0762846\ttotal: 13.9s\tremaining: 1.41s\n",
            "3640:\tlearn: 1.0762656\ttotal: 13.9s\tremaining: 1.37s\n",
            "3650:\tlearn: 1.0762449\ttotal: 13.9s\tremaining: 1.33s\n",
            "3660:\tlearn: 1.0762305\ttotal: 14s\tremaining: 1.29s\n",
            "3670:\tlearn: 1.0761978\ttotal: 14s\tremaining: 1.26s\n",
            "3680:\tlearn: 1.0761769\ttotal: 14.1s\tremaining: 1.22s\n",
            "3690:\tlearn: 1.0761443\ttotal: 14.1s\tremaining: 1.18s\n",
            "3700:\tlearn: 1.0761108\ttotal: 14.1s\tremaining: 1.14s\n",
            "3710:\tlearn: 1.0760723\ttotal: 14.2s\tremaining: 1.1s\n",
            "3720:\tlearn: 1.0760483\ttotal: 14.2s\tremaining: 1.06s\n",
            "3730:\tlearn: 1.0760295\ttotal: 14.2s\tremaining: 1.03s\n",
            "3740:\tlearn: 1.0760062\ttotal: 14.3s\tremaining: 990ms\n",
            "3750:\tlearn: 1.0759723\ttotal: 14.3s\tremaining: 951ms\n",
            "3760:\tlearn: 1.0759409\ttotal: 14.4s\tremaining: 913ms\n",
            "3770:\tlearn: 1.0759173\ttotal: 14.4s\tremaining: 875ms\n",
            "3780:\tlearn: 1.0758868\ttotal: 14.4s\tremaining: 836ms\n",
            "3790:\tlearn: 1.0758584\ttotal: 14.5s\tremaining: 798ms\n",
            "3800:\tlearn: 1.0758155\ttotal: 14.5s\tremaining: 760ms\n",
            "3810:\tlearn: 1.0757802\ttotal: 14.6s\tremaining: 722ms\n",
            "3820:\tlearn: 1.0757471\ttotal: 14.6s\tremaining: 685ms\n",
            "3830:\tlearn: 1.0757221\ttotal: 14.7s\tremaining: 647ms\n",
            "3840:\tlearn: 1.0756832\ttotal: 14.7s\tremaining: 608ms\n",
            "3850:\tlearn: 1.0756493\ttotal: 14.7s\tremaining: 570ms\n",
            "3860:\tlearn: 1.0756191\ttotal: 14.8s\tremaining: 532ms\n",
            "3870:\tlearn: 1.0755883\ttotal: 14.8s\tremaining: 494ms\n",
            "3880:\tlearn: 1.0755598\ttotal: 14.9s\tremaining: 456ms\n",
            "3890:\tlearn: 1.0755416\ttotal: 14.9s\tremaining: 417ms\n",
            "3900:\tlearn: 1.0755166\ttotal: 14.9s\tremaining: 379ms\n",
            "3910:\tlearn: 1.0754797\ttotal: 15s\tremaining: 341ms\n",
            "3920:\tlearn: 1.0754543\ttotal: 15s\tremaining: 303ms\n",
            "3930:\tlearn: 1.0754230\ttotal: 15.1s\tremaining: 264ms\n",
            "3940:\tlearn: 1.0753923\ttotal: 15.1s\tremaining: 226ms\n",
            "3950:\tlearn: 1.0753566\ttotal: 15.1s\tremaining: 188ms\n",
            "3960:\tlearn: 1.0753314\ttotal: 15.2s\tremaining: 149ms\n",
            "3970:\tlearn: 1.0752938\ttotal: 15.2s\tremaining: 111ms\n",
            "3980:\tlearn: 1.0752708\ttotal: 15.2s\tremaining: 72.8ms\n",
            "3990:\tlearn: 1.0752485\ttotal: 15.3s\tremaining: 34.5ms\n",
            "3999:\tlearn: 1.0752178\ttotal: 15.3s\tremaining: 0us\n",
            "Fold 6, Valid score = 1.09296\n"
          ],
          "name": "stdout"
        },
        {
          "output_type": "stream",
          "text": [
            "Warning: less than 75% gpu memory available for training. Free: 5249.75 Total: 16280.875\n"
          ],
          "name": "stderr"
        },
        {
          "output_type": "stream",
          "text": [
            "0:\tlearn: 1.3533562\ttotal: 5.1ms\tremaining: 20.4s\n",
            "10:\tlearn: 1.1882820\ttotal: 42.8ms\tremaining: 15.5s\n",
            "20:\tlearn: 1.1386573\ttotal: 81ms\tremaining: 15.3s\n",
            "30:\tlearn: 1.1210591\ttotal: 120ms\tremaining: 15.4s\n",
            "40:\tlearn: 1.1142112\ttotal: 165ms\tremaining: 15.9s\n",
            "50:\tlearn: 1.1111523\ttotal: 210ms\tremaining: 16.2s\n",
            "60:\tlearn: 1.1095231\ttotal: 252ms\tremaining: 16.3s\n",
            "70:\tlearn: 1.1082880\ttotal: 288ms\tremaining: 16s\n",
            "80:\tlearn: 1.1071938\ttotal: 326ms\tremaining: 15.8s\n",
            "90:\tlearn: 1.1062551\ttotal: 364ms\tremaining: 15.6s\n",
            "100:\tlearn: 1.1054240\ttotal: 401ms\tremaining: 15.5s\n",
            "110:\tlearn: 1.1049337\ttotal: 443ms\tremaining: 15.5s\n",
            "120:\tlearn: 1.1042508\ttotal: 481ms\tremaining: 15.4s\n",
            "130:\tlearn: 1.1036299\ttotal: 517ms\tremaining: 15.3s\n",
            "140:\tlearn: 1.1031811\ttotal: 552ms\tremaining: 15.1s\n",
            "150:\tlearn: 1.1027602\ttotal: 595ms\tremaining: 15.2s\n",
            "160:\tlearn: 1.1023489\ttotal: 658ms\tremaining: 15.7s\n",
            "170:\tlearn: 1.1019286\ttotal: 694ms\tremaining: 15.5s\n",
            "180:\tlearn: 1.1013997\ttotal: 734ms\tremaining: 15.5s\n",
            "190:\tlearn: 1.1009607\ttotal: 772ms\tremaining: 15.4s\n",
            "200:\tlearn: 1.1005624\ttotal: 821ms\tremaining: 15.5s\n",
            "210:\tlearn: 1.1002852\ttotal: 863ms\tremaining: 15.5s\n",
            "220:\tlearn: 1.0999083\ttotal: 900ms\tremaining: 15.4s\n",
            "230:\tlearn: 1.0995167\ttotal: 938ms\tremaining: 15.3s\n",
            "240:\tlearn: 1.0992348\ttotal: 975ms\tremaining: 15.2s\n",
            "250:\tlearn: 1.0988133\ttotal: 1.01s\tremaining: 15.1s\n",
            "260:\tlearn: 1.0984815\ttotal: 1.05s\tremaining: 15.1s\n",
            "270:\tlearn: 1.0980749\ttotal: 1.1s\tremaining: 15.1s\n",
            "280:\tlearn: 1.0977783\ttotal: 1.14s\tremaining: 15s\n",
            "290:\tlearn: 1.0974531\ttotal: 1.17s\tremaining: 14.9s\n",
            "300:\tlearn: 1.0972143\ttotal: 1.21s\tremaining: 14.9s\n",
            "310:\tlearn: 1.0969552\ttotal: 1.25s\tremaining: 14.9s\n",
            "320:\tlearn: 1.0966674\ttotal: 1.29s\tremaining: 14.8s\n",
            "330:\tlearn: 1.0963530\ttotal: 1.34s\tremaining: 14.8s\n",
            "340:\tlearn: 1.0960482\ttotal: 1.38s\tremaining: 14.8s\n",
            "350:\tlearn: 1.0958529\ttotal: 1.41s\tremaining: 14.7s\n",
            "360:\tlearn: 1.0955656\ttotal: 1.45s\tremaining: 14.7s\n",
            "370:\tlearn: 1.0952357\ttotal: 1.49s\tremaining: 14.6s\n",
            "380:\tlearn: 1.0950725\ttotal: 1.53s\tremaining: 14.5s\n",
            "390:\tlearn: 1.0948874\ttotal: 1.57s\tremaining: 14.5s\n",
            "400:\tlearn: 1.0946326\ttotal: 1.61s\tremaining: 14.5s\n",
            "410:\tlearn: 1.0944200\ttotal: 1.65s\tremaining: 14.4s\n",
            "420:\tlearn: 1.0941700\ttotal: 1.68s\tremaining: 14.3s\n",
            "430:\tlearn: 1.0939094\ttotal: 1.72s\tremaining: 14.3s\n",
            "440:\tlearn: 1.0936895\ttotal: 1.76s\tremaining: 14.3s\n",
            "450:\tlearn: 1.0934248\ttotal: 1.82s\tremaining: 14.3s\n",
            "460:\tlearn: 1.0931819\ttotal: 1.86s\tremaining: 14.3s\n",
            "470:\tlearn: 1.0929653\ttotal: 1.9s\tremaining: 14.2s\n",
            "480:\tlearn: 1.0928328\ttotal: 1.94s\tremaining: 14.2s\n",
            "490:\tlearn: 1.0926579\ttotal: 1.97s\tremaining: 14.1s\n",
            "500:\tlearn: 1.0924385\ttotal: 2.01s\tremaining: 14s\n",
            "510:\tlearn: 1.0922548\ttotal: 2.06s\tremaining: 14s\n",
            "520:\tlearn: 1.0921048\ttotal: 2.09s\tremaining: 14s\n",
            "530:\tlearn: 1.0919511\ttotal: 2.13s\tremaining: 13.9s\n",
            "540:\tlearn: 1.0917310\ttotal: 2.17s\tremaining: 13.9s\n",
            "550:\tlearn: 1.0916069\ttotal: 2.21s\tremaining: 13.8s\n",
            "560:\tlearn: 1.0914902\ttotal: 2.24s\tremaining: 13.7s\n",
            "570:\tlearn: 1.0913522\ttotal: 2.29s\tremaining: 13.7s\n",
            "580:\tlearn: 1.0911996\ttotal: 2.32s\tremaining: 13.7s\n",
            "590:\tlearn: 1.0910456\ttotal: 2.36s\tremaining: 13.6s\n",
            "600:\tlearn: 1.0909459\ttotal: 2.4s\tremaining: 13.6s\n",
            "610:\tlearn: 1.0908244\ttotal: 2.44s\tremaining: 13.5s\n",
            "620:\tlearn: 1.0907083\ttotal: 2.47s\tremaining: 13.5s\n",
            "630:\tlearn: 1.0905879\ttotal: 2.52s\tremaining: 13.4s\n",
            "640:\tlearn: 1.0904257\ttotal: 2.55s\tremaining: 13.4s\n",
            "650:\tlearn: 1.0902845\ttotal: 2.59s\tremaining: 13.3s\n",
            "660:\tlearn: 1.0901583\ttotal: 2.63s\tremaining: 13.3s\n",
            "670:\tlearn: 1.0900230\ttotal: 2.67s\tremaining: 13.2s\n",
            "680:\tlearn: 1.0898791\ttotal: 2.7s\tremaining: 13.2s\n",
            "690:\tlearn: 1.0897629\ttotal: 2.75s\tremaining: 13.2s\n",
            "700:\tlearn: 1.0896577\ttotal: 2.79s\tremaining: 13.1s\n",
            "710:\tlearn: 1.0895293\ttotal: 2.84s\tremaining: 13.1s\n",
            "720:\tlearn: 1.0893930\ttotal: 2.88s\tremaining: 13.1s\n",
            "730:\tlearn: 1.0892712\ttotal: 2.91s\tremaining: 13s\n",
            "740:\tlearn: 1.0891636\ttotal: 2.96s\tremaining: 13s\n",
            "750:\tlearn: 1.0890727\ttotal: 3s\tremaining: 13s\n",
            "760:\tlearn: 1.0889683\ttotal: 3.04s\tremaining: 12.9s\n",
            "770:\tlearn: 1.0888502\ttotal: 3.07s\tremaining: 12.9s\n",
            "780:\tlearn: 1.0887824\ttotal: 3.12s\tremaining: 12.9s\n",
            "790:\tlearn: 1.0886941\ttotal: 3.16s\tremaining: 12.8s\n",
            "800:\tlearn: 1.0885723\ttotal: 3.2s\tremaining: 12.8s\n",
            "810:\tlearn: 1.0884428\ttotal: 3.24s\tremaining: 12.7s\n",
            "820:\tlearn: 1.0883488\ttotal: 3.27s\tremaining: 12.7s\n",
            "830:\tlearn: 1.0882488\ttotal: 3.31s\tremaining: 12.6s\n",
            "840:\tlearn: 1.0881699\ttotal: 3.35s\tremaining: 12.6s\n",
            "850:\tlearn: 1.0880873\ttotal: 3.39s\tremaining: 12.6s\n",
            "860:\tlearn: 1.0879984\ttotal: 3.43s\tremaining: 12.5s\n",
            "870:\tlearn: 1.0879204\ttotal: 3.47s\tremaining: 12.5s\n",
            "880:\tlearn: 1.0878126\ttotal: 3.51s\tremaining: 12.4s\n",
            "890:\tlearn: 1.0877296\ttotal: 3.54s\tremaining: 12.4s\n",
            "900:\tlearn: 1.0876534\ttotal: 3.58s\tremaining: 12.3s\n",
            "910:\tlearn: 1.0875824\ttotal: 3.63s\tremaining: 12.3s\n",
            "920:\tlearn: 1.0874930\ttotal: 3.66s\tremaining: 12.2s\n",
            "930:\tlearn: 1.0874219\ttotal: 3.7s\tremaining: 12.2s\n",
            "940:\tlearn: 1.0873605\ttotal: 3.73s\tremaining: 12.1s\n",
            "950:\tlearn: 1.0872918\ttotal: 3.77s\tremaining: 12.1s\n",
            "960:\tlearn: 1.0872230\ttotal: 3.82s\tremaining: 12.1s\n",
            "970:\tlearn: 1.0871322\ttotal: 3.86s\tremaining: 12s\n",
            "980:\tlearn: 1.0870491\ttotal: 3.9s\tremaining: 12s\n",
            "990:\tlearn: 1.0869572\ttotal: 3.94s\tremaining: 12s\n",
            "1000:\tlearn: 1.0868679\ttotal: 3.98s\tremaining: 11.9s\n",
            "1010:\tlearn: 1.0868048\ttotal: 4.01s\tremaining: 11.9s\n",
            "1020:\tlearn: 1.0867215\ttotal: 4.05s\tremaining: 11.8s\n",
            "1030:\tlearn: 1.0866465\ttotal: 4.09s\tremaining: 11.8s\n",
            "1040:\tlearn: 1.0865789\ttotal: 4.13s\tremaining: 11.7s\n",
            "1050:\tlearn: 1.0865213\ttotal: 4.17s\tremaining: 11.7s\n",
            "1060:\tlearn: 1.0864480\ttotal: 4.21s\tremaining: 11.7s\n",
            "1070:\tlearn: 1.0863850\ttotal: 4.24s\tremaining: 11.6s\n",
            "1080:\tlearn: 1.0863201\ttotal: 4.28s\tremaining: 11.6s\n",
            "1090:\tlearn: 1.0862425\ttotal: 4.32s\tremaining: 11.5s\n",
            "1100:\tlearn: 1.0861835\ttotal: 4.36s\tremaining: 11.5s\n",
            "1110:\tlearn: 1.0861199\ttotal: 4.4s\tremaining: 11.4s\n",
            "1120:\tlearn: 1.0860709\ttotal: 4.43s\tremaining: 11.4s\n",
            "1130:\tlearn: 1.0859853\ttotal: 4.47s\tremaining: 11.3s\n",
            "1140:\tlearn: 1.0859443\ttotal: 4.51s\tremaining: 11.3s\n",
            "1150:\tlearn: 1.0858843\ttotal: 4.56s\tremaining: 11.3s\n",
            "1160:\tlearn: 1.0858217\ttotal: 4.59s\tremaining: 11.2s\n",
            "1170:\tlearn: 1.0857703\ttotal: 4.63s\tremaining: 11.2s\n",
            "1180:\tlearn: 1.0857056\ttotal: 4.67s\tremaining: 11.2s\n",
            "1190:\tlearn: 1.0856388\ttotal: 4.71s\tremaining: 11.1s\n",
            "1200:\tlearn: 1.0856125\ttotal: 4.76s\tremaining: 11.1s\n",
            "1210:\tlearn: 1.0855651\ttotal: 4.81s\tremaining: 11.1s\n",
            "1220:\tlearn: 1.0854978\ttotal: 4.84s\tremaining: 11s\n",
            "1230:\tlearn: 1.0854395\ttotal: 4.88s\tremaining: 11s\n",
            "1240:\tlearn: 1.0853819\ttotal: 4.92s\tremaining: 10.9s\n",
            "1250:\tlearn: 1.0853244\ttotal: 4.97s\tremaining: 10.9s\n",
            "1260:\tlearn: 1.0852661\ttotal: 5s\tremaining: 10.9s\n",
            "1270:\tlearn: 1.0851876\ttotal: 5.04s\tremaining: 10.8s\n",
            "1280:\tlearn: 1.0851451\ttotal: 5.08s\tremaining: 10.8s\n",
            "1290:\tlearn: 1.0850679\ttotal: 5.12s\tremaining: 10.7s\n",
            "1300:\tlearn: 1.0850319\ttotal: 5.15s\tremaining: 10.7s\n",
            "1310:\tlearn: 1.0849693\ttotal: 5.2s\tremaining: 10.7s\n",
            "1320:\tlearn: 1.0848974\ttotal: 5.24s\tremaining: 10.6s\n",
            "1330:\tlearn: 1.0848501\ttotal: 5.27s\tremaining: 10.6s\n",
            "1340:\tlearn: 1.0848154\ttotal: 5.31s\tremaining: 10.5s\n",
            "1350:\tlearn: 1.0847579\ttotal: 5.36s\tremaining: 10.5s\n",
            "1360:\tlearn: 1.0846890\ttotal: 5.39s\tremaining: 10.5s\n",
            "1370:\tlearn: 1.0846302\ttotal: 5.44s\tremaining: 10.4s\n",
            "1380:\tlearn: 1.0845472\ttotal: 5.47s\tremaining: 10.4s\n",
            "1390:\tlearn: 1.0844995\ttotal: 5.51s\tremaining: 10.3s\n",
            "1400:\tlearn: 1.0844276\ttotal: 5.55s\tremaining: 10.3s\n",
            "1410:\tlearn: 1.0843883\ttotal: 5.59s\tremaining: 10.3s\n",
            "1420:\tlearn: 1.0843309\ttotal: 5.63s\tremaining: 10.2s\n",
            "1430:\tlearn: 1.0842760\ttotal: 5.67s\tremaining: 10.2s\n",
            "1440:\tlearn: 1.0842069\ttotal: 5.72s\tremaining: 10.2s\n",
            "1450:\tlearn: 1.0841438\ttotal: 5.75s\tremaining: 10.1s\n",
            "1460:\tlearn: 1.0840874\ttotal: 5.8s\tremaining: 10.1s\n",
            "1470:\tlearn: 1.0840362\ttotal: 5.84s\tremaining: 10s\n",
            "1480:\tlearn: 1.0840067\ttotal: 5.88s\tremaining: 10s\n",
            "1490:\tlearn: 1.0839596\ttotal: 5.92s\tremaining: 9.96s\n",
            "1500:\tlearn: 1.0839209\ttotal: 5.96s\tremaining: 9.91s\n",
            "1510:\tlearn: 1.0838726\ttotal: 5.99s\tremaining: 9.87s\n",
            "1520:\tlearn: 1.0838270\ttotal: 6.03s\tremaining: 9.83s\n",
            "1530:\tlearn: 1.0837884\ttotal: 6.07s\tremaining: 9.8s\n",
            "1540:\tlearn: 1.0837483\ttotal: 6.11s\tremaining: 9.75s\n",
            "1550:\tlearn: 1.0836992\ttotal: 6.15s\tremaining: 9.72s\n",
            "1560:\tlearn: 1.0836369\ttotal: 6.19s\tremaining: 9.67s\n",
            "1570:\tlearn: 1.0835913\ttotal: 6.24s\tremaining: 9.64s\n",
            "1580:\tlearn: 1.0835370\ttotal: 6.28s\tremaining: 9.61s\n",
            "1590:\tlearn: 1.0834864\ttotal: 6.32s\tremaining: 9.57s\n",
            "1600:\tlearn: 1.0834367\ttotal: 6.36s\tremaining: 9.53s\n",
            "1610:\tlearn: 1.0833924\ttotal: 6.39s\tremaining: 9.48s\n",
            "1620:\tlearn: 1.0833309\ttotal: 6.43s\tremaining: 9.44s\n",
            "1630:\tlearn: 1.0832905\ttotal: 6.47s\tremaining: 9.39s\n",
            "1640:\tlearn: 1.0832585\ttotal: 6.51s\tremaining: 9.36s\n",
            "1650:\tlearn: 1.0832048\ttotal: 6.55s\tremaining: 9.32s\n",
            "1660:\tlearn: 1.0831466\ttotal: 6.59s\tremaining: 9.28s\n",
            "1670:\tlearn: 1.0831011\ttotal: 6.62s\tremaining: 9.23s\n",
            "1680:\tlearn: 1.0830532\ttotal: 6.66s\tremaining: 9.19s\n",
            "1690:\tlearn: 1.0830233\ttotal: 6.7s\tremaining: 9.15s\n",
            "1700:\tlearn: 1.0829983\ttotal: 6.74s\tremaining: 9.11s\n",
            "1710:\tlearn: 1.0829565\ttotal: 6.78s\tremaining: 9.07s\n",
            "1720:\tlearn: 1.0829042\ttotal: 6.84s\tremaining: 9.06s\n",
            "1730:\tlearn: 1.0828707\ttotal: 6.88s\tremaining: 9.02s\n",
            "1740:\tlearn: 1.0828319\ttotal: 6.92s\tremaining: 8.98s\n",
            "1750:\tlearn: 1.0827975\ttotal: 6.96s\tremaining: 8.95s\n",
            "1760:\tlearn: 1.0827629\ttotal: 7s\tremaining: 8.9s\n",
            "1770:\tlearn: 1.0827108\ttotal: 7.04s\tremaining: 8.86s\n",
            "1780:\tlearn: 1.0826609\ttotal: 7.08s\tremaining: 8.82s\n",
            "1790:\tlearn: 1.0826134\ttotal: 7.12s\tremaining: 8.78s\n",
            "1800:\tlearn: 1.0825541\ttotal: 7.16s\tremaining: 8.74s\n",
            "1810:\tlearn: 1.0825123\ttotal: 7.2s\tremaining: 8.71s\n",
            "1820:\tlearn: 1.0824459\ttotal: 7.24s\tremaining: 8.66s\n",
            "1830:\tlearn: 1.0824043\ttotal: 7.28s\tremaining: 8.62s\n",
            "1840:\tlearn: 1.0823460\ttotal: 7.31s\tremaining: 8.58s\n",
            "1850:\tlearn: 1.0822892\ttotal: 7.35s\tremaining: 8.54s\n",
            "1860:\tlearn: 1.0822463\ttotal: 7.39s\tremaining: 8.49s\n",
            "1870:\tlearn: 1.0822006\ttotal: 7.44s\tremaining: 8.47s\n",
            "1880:\tlearn: 1.0821589\ttotal: 7.48s\tremaining: 8.42s\n",
            "1890:\tlearn: 1.0821139\ttotal: 7.52s\tremaining: 8.38s\n",
            "1900:\tlearn: 1.0820811\ttotal: 7.55s\tremaining: 8.34s\n",
            "1910:\tlearn: 1.0820285\ttotal: 7.59s\tremaining: 8.3s\n",
            "1920:\tlearn: 1.0819852\ttotal: 7.63s\tremaining: 8.25s\n",
            "1930:\tlearn: 1.0819351\ttotal: 7.67s\tremaining: 8.22s\n",
            "1940:\tlearn: 1.0818897\ttotal: 7.71s\tremaining: 8.18s\n",
            "1950:\tlearn: 1.0818283\ttotal: 7.75s\tremaining: 8.14s\n",
            "1960:\tlearn: 1.0817930\ttotal: 7.8s\tremaining: 8.11s\n",
            "1970:\tlearn: 1.0817494\ttotal: 7.84s\tremaining: 8.07s\n",
            "1980:\tlearn: 1.0816946\ttotal: 7.89s\tremaining: 8.04s\n",
            "1990:\tlearn: 1.0816577\ttotal: 7.93s\tremaining: 8s\n",
            "2000:\tlearn: 1.0816153\ttotal: 7.97s\tremaining: 7.96s\n",
            "2010:\tlearn: 1.0815776\ttotal: 8s\tremaining: 7.92s\n",
            "2020:\tlearn: 1.0815534\ttotal: 8.04s\tremaining: 7.87s\n",
            "2030:\tlearn: 1.0815156\ttotal: 8.08s\tremaining: 7.83s\n",
            "2040:\tlearn: 1.0814883\ttotal: 8.12s\tremaining: 7.79s\n",
            "2050:\tlearn: 1.0814407\ttotal: 8.16s\tremaining: 7.75s\n",
            "2060:\tlearn: 1.0813842\ttotal: 8.2s\tremaining: 7.71s\n",
            "2070:\tlearn: 1.0813514\ttotal: 8.23s\tremaining: 7.67s\n",
            "2080:\tlearn: 1.0813125\ttotal: 8.27s\tremaining: 7.63s\n",
            "2090:\tlearn: 1.0812591\ttotal: 8.31s\tremaining: 7.59s\n",
            "2100:\tlearn: 1.0812241\ttotal: 8.35s\tremaining: 7.55s\n",
            "2110:\tlearn: 1.0811754\ttotal: 8.39s\tremaining: 7.51s\n",
            "2120:\tlearn: 1.0811531\ttotal: 8.43s\tremaining: 7.46s\n",
            "2130:\tlearn: 1.0811248\ttotal: 8.46s\tremaining: 7.42s\n",
            "2140:\tlearn: 1.0810765\ttotal: 8.5s\tremaining: 7.38s\n",
            "2150:\tlearn: 1.0810436\ttotal: 8.54s\tremaining: 7.34s\n",
            "2160:\tlearn: 1.0810055\ttotal: 8.58s\tremaining: 7.3s\n",
            "2170:\tlearn: 1.0809753\ttotal: 8.62s\tremaining: 7.26s\n",
            "2180:\tlearn: 1.0809397\ttotal: 8.66s\tremaining: 7.22s\n",
            "2190:\tlearn: 1.0809029\ttotal: 8.7s\tremaining: 7.18s\n",
            "2200:\tlearn: 1.0808736\ttotal: 8.73s\tremaining: 7.14s\n",
            "2210:\tlearn: 1.0808382\ttotal: 8.77s\tremaining: 7.1s\n",
            "2220:\tlearn: 1.0807979\ttotal: 8.83s\tremaining: 7.07s\n",
            "2230:\tlearn: 1.0807720\ttotal: 8.87s\tremaining: 7.03s\n",
            "2240:\tlearn: 1.0807396\ttotal: 8.9s\tremaining: 6.99s\n",
            "2250:\tlearn: 1.0806936\ttotal: 8.94s\tremaining: 6.95s\n",
            "2260:\tlearn: 1.0806523\ttotal: 8.98s\tremaining: 6.91s\n",
            "2270:\tlearn: 1.0806116\ttotal: 9.02s\tremaining: 6.86s\n",
            "2280:\tlearn: 1.0805689\ttotal: 9.06s\tremaining: 6.83s\n",
            "2290:\tlearn: 1.0805374\ttotal: 9.1s\tremaining: 6.79s\n",
            "2300:\tlearn: 1.0804905\ttotal: 9.14s\tremaining: 6.75s\n",
            "2310:\tlearn: 1.0804536\ttotal: 9.18s\tremaining: 6.71s\n",
            "2320:\tlearn: 1.0804227\ttotal: 9.22s\tremaining: 6.67s\n",
            "2330:\tlearn: 1.0803818\ttotal: 9.27s\tremaining: 6.63s\n",
            "2340:\tlearn: 1.0803388\ttotal: 9.3s\tremaining: 6.59s\n",
            "2350:\tlearn: 1.0803093\ttotal: 9.34s\tremaining: 6.55s\n",
            "2360:\tlearn: 1.0802654\ttotal: 9.38s\tremaining: 6.51s\n",
            "2370:\tlearn: 1.0802265\ttotal: 9.41s\tremaining: 6.47s\n",
            "2380:\tlearn: 1.0801935\ttotal: 9.45s\tremaining: 6.43s\n",
            "2390:\tlearn: 1.0801510\ttotal: 9.5s\tremaining: 6.39s\n",
            "2400:\tlearn: 1.0801091\ttotal: 9.53s\tremaining: 6.35s\n",
            "2410:\tlearn: 1.0800782\ttotal: 9.57s\tremaining: 6.31s\n",
            "2420:\tlearn: 1.0800397\ttotal: 9.61s\tremaining: 6.27s\n",
            "2430:\tlearn: 1.0799974\ttotal: 9.65s\tremaining: 6.23s\n",
            "2440:\tlearn: 1.0799628\ttotal: 9.69s\tremaining: 6.19s\n",
            "2450:\tlearn: 1.0799274\ttotal: 9.73s\tremaining: 6.15s\n",
            "2460:\tlearn: 1.0798923\ttotal: 9.77s\tremaining: 6.11s\n",
            "2470:\tlearn: 1.0798640\ttotal: 9.82s\tremaining: 6.07s\n",
            "2480:\tlearn: 1.0798328\ttotal: 9.85s\tremaining: 6.03s\n",
            "2490:\tlearn: 1.0798113\ttotal: 9.89s\tremaining: 5.99s\n",
            "2500:\tlearn: 1.0797691\ttotal: 9.94s\tremaining: 5.96s\n",
            "2510:\tlearn: 1.0797229\ttotal: 9.97s\tremaining: 5.92s\n",
            "2520:\tlearn: 1.0796926\ttotal: 10s\tremaining: 5.88s\n",
            "2530:\tlearn: 1.0796498\ttotal: 10.1s\tremaining: 5.84s\n",
            "2540:\tlearn: 1.0796082\ttotal: 10.1s\tremaining: 5.8s\n",
            "2550:\tlearn: 1.0795805\ttotal: 10.1s\tremaining: 5.75s\n",
            "2560:\tlearn: 1.0795426\ttotal: 10.2s\tremaining: 5.72s\n",
            "2570:\tlearn: 1.0795178\ttotal: 10.2s\tremaining: 5.68s\n",
            "2580:\tlearn: 1.0794764\ttotal: 10.3s\tremaining: 5.63s\n",
            "2590:\tlearn: 1.0794566\ttotal: 10.3s\tremaining: 5.6s\n",
            "2600:\tlearn: 1.0794238\ttotal: 10.3s\tremaining: 5.56s\n",
            "2610:\tlearn: 1.0793906\ttotal: 10.4s\tremaining: 5.52s\n",
            "2620:\tlearn: 1.0793480\ttotal: 10.4s\tremaining: 5.48s\n",
            "2630:\tlearn: 1.0793078\ttotal: 10.5s\tremaining: 5.44s\n",
            "2640:\tlearn: 1.0792747\ttotal: 10.5s\tremaining: 5.4s\n",
            "2650:\tlearn: 1.0792374\ttotal: 10.5s\tremaining: 5.36s\n",
            "2660:\tlearn: 1.0792039\ttotal: 10.6s\tremaining: 5.32s\n",
            "2670:\tlearn: 1.0791776\ttotal: 10.6s\tremaining: 5.28s\n",
            "2680:\tlearn: 1.0791464\ttotal: 10.6s\tremaining: 5.24s\n",
            "2690:\tlearn: 1.0791098\ttotal: 10.7s\tremaining: 5.2s\n",
            "2700:\tlearn: 1.0790692\ttotal: 10.7s\tremaining: 5.16s\n",
            "2710:\tlearn: 1.0790301\ttotal: 10.8s\tremaining: 5.12s\n",
            "2720:\tlearn: 1.0789960\ttotal: 10.8s\tremaining: 5.08s\n",
            "2730:\tlearn: 1.0789684\ttotal: 10.9s\tremaining: 5.04s\n",
            "2740:\tlearn: 1.0789318\ttotal: 10.9s\tremaining: 5s\n",
            "2750:\tlearn: 1.0788762\ttotal: 10.9s\tremaining: 4.96s\n",
            "2760:\tlearn: 1.0788364\ttotal: 11s\tremaining: 4.93s\n",
            "2770:\tlearn: 1.0787947\ttotal: 11s\tremaining: 4.89s\n",
            "2780:\tlearn: 1.0787609\ttotal: 11.1s\tremaining: 4.85s\n",
            "2790:\tlearn: 1.0787345\ttotal: 11.1s\tremaining: 4.82s\n",
            "2800:\tlearn: 1.0787041\ttotal: 11.2s\tremaining: 4.78s\n",
            "2810:\tlearn: 1.0786761\ttotal: 11.2s\tremaining: 4.73s\n",
            "2820:\tlearn: 1.0786280\ttotal: 11.2s\tremaining: 4.69s\n",
            "2830:\tlearn: 1.0786007\ttotal: 11.3s\tremaining: 4.66s\n",
            "2840:\tlearn: 1.0785714\ttotal: 11.3s\tremaining: 4.61s\n",
            "2850:\tlearn: 1.0785503\ttotal: 11.3s\tremaining: 4.57s\n",
            "2860:\tlearn: 1.0784987\ttotal: 11.4s\tremaining: 4.53s\n",
            "2870:\tlearn: 1.0784545\ttotal: 11.4s\tremaining: 4.49s\n",
            "2880:\tlearn: 1.0784188\ttotal: 11.4s\tremaining: 4.45s\n",
            "2890:\tlearn: 1.0783829\ttotal: 11.5s\tremaining: 4.41s\n",
            "2900:\tlearn: 1.0783529\ttotal: 11.5s\tremaining: 4.37s\n",
            "2910:\tlearn: 1.0783227\ttotal: 11.6s\tremaining: 4.33s\n",
            "2920:\tlearn: 1.0782849\ttotal: 11.6s\tremaining: 4.28s\n",
            "2930:\tlearn: 1.0782670\ttotal: 11.6s\tremaining: 4.24s\n",
            "2940:\tlearn: 1.0782342\ttotal: 11.7s\tremaining: 4.2s\n",
            "2950:\tlearn: 1.0782001\ttotal: 11.7s\tremaining: 4.16s\n",
            "2960:\tlearn: 1.0781698\ttotal: 11.7s\tremaining: 4.12s\n",
            "2970:\tlearn: 1.0781425\ttotal: 11.8s\tremaining: 4.08s\n",
            "2980:\tlearn: 1.0781079\ttotal: 11.8s\tremaining: 4.04s\n",
            "2990:\tlearn: 1.0780877\ttotal: 11.9s\tremaining: 4s\n",
            "3000:\tlearn: 1.0780476\ttotal: 11.9s\tremaining: 3.96s\n",
            "3010:\tlearn: 1.0780250\ttotal: 11.9s\tremaining: 3.92s\n",
            "3020:\tlearn: 1.0779927\ttotal: 12s\tremaining: 3.88s\n",
            "3030:\tlearn: 1.0779713\ttotal: 12s\tremaining: 3.84s\n",
            "3040:\tlearn: 1.0779497\ttotal: 12s\tremaining: 3.8s\n",
            "3050:\tlearn: 1.0779159\ttotal: 12.1s\tremaining: 3.76s\n",
            "3060:\tlearn: 1.0778768\ttotal: 12.1s\tremaining: 3.72s\n",
            "3070:\tlearn: 1.0778498\ttotal: 12.2s\tremaining: 3.68s\n",
            "3080:\tlearn: 1.0778062\ttotal: 12.2s\tremaining: 3.63s\n",
            "3090:\tlearn: 1.0777815\ttotal: 12.2s\tremaining: 3.6s\n",
            "3100:\tlearn: 1.0777528\ttotal: 12.3s\tremaining: 3.56s\n",
            "3110:\tlearn: 1.0777238\ttotal: 12.3s\tremaining: 3.51s\n",
            "3120:\tlearn: 1.0776896\ttotal: 12.3s\tremaining: 3.47s\n",
            "3130:\tlearn: 1.0776660\ttotal: 12.4s\tremaining: 3.44s\n",
            "3140:\tlearn: 1.0776475\ttotal: 12.4s\tremaining: 3.39s\n",
            "3150:\tlearn: 1.0776099\ttotal: 12.4s\tremaining: 3.35s\n",
            "3160:\tlearn: 1.0775800\ttotal: 12.5s\tremaining: 3.31s\n",
            "3170:\tlearn: 1.0775354\ttotal: 12.5s\tremaining: 3.27s\n",
            "3180:\tlearn: 1.0775079\ttotal: 12.6s\tremaining: 3.23s\n",
            "3190:\tlearn: 1.0774688\ttotal: 12.6s\tremaining: 3.19s\n",
            "3200:\tlearn: 1.0774442\ttotal: 12.6s\tremaining: 3.15s\n",
            "3210:\tlearn: 1.0773972\ttotal: 12.7s\tremaining: 3.11s\n",
            "3220:\tlearn: 1.0773623\ttotal: 12.7s\tremaining: 3.07s\n",
            "3230:\tlearn: 1.0773324\ttotal: 12.7s\tremaining: 3.03s\n",
            "3240:\tlearn: 1.0773053\ttotal: 12.8s\tremaining: 3s\n",
            "3250:\tlearn: 1.0772611\ttotal: 12.8s\tremaining: 2.96s\n",
            "3260:\tlearn: 1.0772345\ttotal: 12.9s\tremaining: 2.92s\n",
            "3270:\tlearn: 1.0771994\ttotal: 12.9s\tremaining: 2.88s\n",
            "3280:\tlearn: 1.0771728\ttotal: 12.9s\tremaining: 2.84s\n",
            "3290:\tlearn: 1.0771420\ttotal: 13s\tremaining: 2.8s\n",
            "3300:\tlearn: 1.0771205\ttotal: 13s\tremaining: 2.76s\n",
            "3310:\tlearn: 1.0770899\ttotal: 13.1s\tremaining: 2.72s\n",
            "3320:\tlearn: 1.0770674\ttotal: 13.1s\tremaining: 2.68s\n",
            "3330:\tlearn: 1.0770401\ttotal: 13.1s\tremaining: 2.64s\n",
            "3340:\tlearn: 1.0770229\ttotal: 13.2s\tremaining: 2.6s\n",
            "3350:\tlearn: 1.0770017\ttotal: 13.2s\tremaining: 2.56s\n",
            "3360:\tlearn: 1.0769653\ttotal: 13.2s\tremaining: 2.52s\n",
            "3370:\tlearn: 1.0769440\ttotal: 13.3s\tremaining: 2.48s\n",
            "3380:\tlearn: 1.0769146\ttotal: 13.3s\tremaining: 2.44s\n",
            "3390:\tlearn: 1.0768806\ttotal: 13.4s\tremaining: 2.4s\n",
            "3400:\tlearn: 1.0768479\ttotal: 13.4s\tremaining: 2.36s\n",
            "3410:\tlearn: 1.0768118\ttotal: 13.4s\tremaining: 2.32s\n",
            "3420:\tlearn: 1.0767754\ttotal: 13.5s\tremaining: 2.28s\n",
            "3430:\tlearn: 1.0767333\ttotal: 13.5s\tremaining: 2.24s\n",
            "3440:\tlearn: 1.0767089\ttotal: 13.5s\tremaining: 2.2s\n",
            "3450:\tlearn: 1.0766746\ttotal: 13.6s\tremaining: 2.16s\n",
            "3460:\tlearn: 1.0766468\ttotal: 13.6s\tremaining: 2.12s\n",
            "3470:\tlearn: 1.0766148\ttotal: 13.6s\tremaining: 2.08s\n",
            "3480:\tlearn: 1.0765846\ttotal: 13.7s\tremaining: 2.04s\n",
            "3490:\tlearn: 1.0765589\ttotal: 13.7s\tremaining: 2s\n",
            "3500:\tlearn: 1.0765412\ttotal: 13.8s\tremaining: 1.96s\n",
            "3510:\tlearn: 1.0765117\ttotal: 13.8s\tremaining: 1.92s\n",
            "3520:\tlearn: 1.0764958\ttotal: 13.8s\tremaining: 1.88s\n",
            "3530:\tlearn: 1.0764566\ttotal: 13.9s\tremaining: 1.84s\n",
            "3540:\tlearn: 1.0764290\ttotal: 13.9s\tremaining: 1.8s\n",
            "3550:\tlearn: 1.0763930\ttotal: 14s\tremaining: 1.77s\n",
            "3560:\tlearn: 1.0763668\ttotal: 14s\tremaining: 1.73s\n",
            "3570:\tlearn: 1.0763290\ttotal: 14.1s\tremaining: 1.69s\n",
            "3580:\tlearn: 1.0763032\ttotal: 14.1s\tremaining: 1.65s\n",
            "3590:\tlearn: 1.0762822\ttotal: 14.1s\tremaining: 1.61s\n",
            "3600:\tlearn: 1.0762531\ttotal: 14.2s\tremaining: 1.57s\n",
            "3610:\tlearn: 1.0762199\ttotal: 14.2s\tremaining: 1.53s\n",
            "3620:\tlearn: 1.0761897\ttotal: 14.3s\tremaining: 1.49s\n",
            "3630:\tlearn: 1.0761596\ttotal: 14.3s\tremaining: 1.45s\n",
            "3640:\tlearn: 1.0761371\ttotal: 14.3s\tremaining: 1.41s\n",
            "3650:\tlearn: 1.0761084\ttotal: 14.4s\tremaining: 1.37s\n",
            "3660:\tlearn: 1.0760744\ttotal: 14.4s\tremaining: 1.33s\n",
            "3670:\tlearn: 1.0760415\ttotal: 14.5s\tremaining: 1.29s\n",
            "3680:\tlearn: 1.0760202\ttotal: 14.5s\tremaining: 1.25s\n",
            "3690:\tlearn: 1.0759932\ttotal: 14.5s\tremaining: 1.22s\n",
            "3700:\tlearn: 1.0759720\ttotal: 14.6s\tremaining: 1.18s\n",
            "3710:\tlearn: 1.0759417\ttotal: 14.6s\tremaining: 1.14s\n",
            "3720:\tlearn: 1.0759072\ttotal: 14.6s\tremaining: 1.1s\n",
            "3730:\tlearn: 1.0758801\ttotal: 14.7s\tremaining: 1.06s\n",
            "3740:\tlearn: 1.0758367\ttotal: 14.7s\tremaining: 1.02s\n",
            "3750:\tlearn: 1.0758085\ttotal: 14.8s\tremaining: 981ms\n",
            "3760:\tlearn: 1.0757857\ttotal: 14.8s\tremaining: 941ms\n",
            "3770:\tlearn: 1.0757543\ttotal: 14.9s\tremaining: 902ms\n",
            "3780:\tlearn: 1.0757143\ttotal: 14.9s\tremaining: 863ms\n",
            "3790:\tlearn: 1.0756843\ttotal: 14.9s\tremaining: 824ms\n",
            "3800:\tlearn: 1.0756644\ttotal: 15s\tremaining: 784ms\n",
            "3810:\tlearn: 1.0756292\ttotal: 15s\tremaining: 744ms\n",
            "3820:\tlearn: 1.0756072\ttotal: 15s\tremaining: 705ms\n",
            "3830:\tlearn: 1.0755759\ttotal: 15.1s\tremaining: 666ms\n",
            "3840:\tlearn: 1.0755462\ttotal: 15.1s\tremaining: 626ms\n",
            "3850:\tlearn: 1.0755175\ttotal: 15.2s\tremaining: 587ms\n",
            "3860:\tlearn: 1.0754901\ttotal: 15.2s\tremaining: 547ms\n",
            "3870:\tlearn: 1.0754528\ttotal: 15.2s\tremaining: 508ms\n",
            "3880:\tlearn: 1.0754224\ttotal: 15.3s\tremaining: 469ms\n",
            "3890:\tlearn: 1.0753956\ttotal: 15.3s\tremaining: 429ms\n",
            "3900:\tlearn: 1.0753702\ttotal: 15.4s\tremaining: 390ms\n",
            "3910:\tlearn: 1.0753431\ttotal: 15.4s\tremaining: 350ms\n",
            "3920:\tlearn: 1.0753142\ttotal: 15.4s\tremaining: 311ms\n",
            "3930:\tlearn: 1.0752849\ttotal: 15.5s\tremaining: 271ms\n",
            "3940:\tlearn: 1.0752676\ttotal: 15.5s\tremaining: 232ms\n",
            "3950:\tlearn: 1.0752308\ttotal: 15.5s\tremaining: 193ms\n",
            "3960:\tlearn: 1.0752009\ttotal: 15.6s\tremaining: 153ms\n",
            "3970:\tlearn: 1.0751736\ttotal: 15.6s\tremaining: 114ms\n",
            "3980:\tlearn: 1.0751486\ttotal: 15.7s\tremaining: 74.7ms\n",
            "3990:\tlearn: 1.0751247\ttotal: 15.7s\tremaining: 35.4ms\n",
            "3999:\tlearn: 1.0750896\ttotal: 15.7s\tremaining: 0us\n",
            "Fold 7, Valid score = 1.09389\n"
          ],
          "name": "stdout"
        },
        {
          "output_type": "stream",
          "text": [
            "Warning: less than 75% gpu memory available for training. Free: 5249.75 Total: 16280.875\n"
          ],
          "name": "stderr"
        },
        {
          "output_type": "stream",
          "text": [
            "0:\tlearn: 1.3525715\ttotal: 5.07ms\tremaining: 20.3s\n",
            "10:\tlearn: 1.1881897\ttotal: 42.7ms\tremaining: 15.5s\n",
            "20:\tlearn: 1.1386617\ttotal: 87.6ms\tremaining: 16.6s\n",
            "30:\tlearn: 1.1211313\ttotal: 125ms\tremaining: 16s\n",
            "40:\tlearn: 1.1144347\ttotal: 170ms\tremaining: 16.4s\n",
            "50:\tlearn: 1.1114547\ttotal: 214ms\tremaining: 16.6s\n",
            "60:\tlearn: 1.1097096\ttotal: 250ms\tremaining: 16.1s\n",
            "70:\tlearn: 1.1084220\ttotal: 287ms\tremaining: 15.9s\n",
            "80:\tlearn: 1.1073482\ttotal: 324ms\tremaining: 15.7s\n",
            "90:\tlearn: 1.1064099\ttotal: 362ms\tremaining: 15.5s\n",
            "100:\tlearn: 1.1056187\ttotal: 400ms\tremaining: 15.4s\n",
            "110:\tlearn: 1.1050245\ttotal: 443ms\tremaining: 15.5s\n",
            "120:\tlearn: 1.1043584\ttotal: 480ms\tremaining: 15.4s\n",
            "130:\tlearn: 1.1037960\ttotal: 518ms\tremaining: 15.3s\n",
            "140:\tlearn: 1.1033797\ttotal: 566ms\tremaining: 15.5s\n",
            "150:\tlearn: 1.1028439\ttotal: 606ms\tremaining: 15.4s\n",
            "160:\tlearn: 1.1025243\ttotal: 639ms\tremaining: 15.2s\n",
            "170:\tlearn: 1.1020667\ttotal: 681ms\tremaining: 15.3s\n",
            "180:\tlearn: 1.1014981\ttotal: 719ms\tremaining: 15.2s\n",
            "190:\tlearn: 1.1009578\ttotal: 757ms\tremaining: 15.1s\n",
            "200:\tlearn: 1.1006076\ttotal: 805ms\tremaining: 15.2s\n",
            "210:\tlearn: 1.1002022\ttotal: 843ms\tremaining: 15.1s\n",
            "220:\tlearn: 1.0998259\ttotal: 891ms\tremaining: 15.2s\n",
            "230:\tlearn: 1.0995917\ttotal: 926ms\tremaining: 15.1s\n",
            "240:\tlearn: 1.0992111\ttotal: 966ms\tremaining: 15.1s\n",
            "250:\tlearn: 1.0988474\ttotal: 1s\tremaining: 14.9s\n",
            "260:\tlearn: 1.0984272\ttotal: 1.03s\tremaining: 14.8s\n",
            "270:\tlearn: 1.0981651\ttotal: 1.07s\tremaining: 14.7s\n",
            "280:\tlearn: 1.0977844\ttotal: 1.11s\tremaining: 14.7s\n",
            "290:\tlearn: 1.0975152\ttotal: 1.14s\tremaining: 14.6s\n",
            "300:\tlearn: 1.0972260\ttotal: 1.18s\tremaining: 14.5s\n",
            "310:\tlearn: 1.0969457\ttotal: 1.21s\tremaining: 14.4s\n",
            "320:\tlearn: 1.0966841\ttotal: 1.25s\tremaining: 14.3s\n",
            "330:\tlearn: 1.0963334\ttotal: 1.29s\tremaining: 14.3s\n",
            "340:\tlearn: 1.0960612\ttotal: 1.33s\tremaining: 14.3s\n",
            "350:\tlearn: 1.0958108\ttotal: 1.36s\tremaining: 14.2s\n",
            "360:\tlearn: 1.0955505\ttotal: 1.4s\tremaining: 14.1s\n",
            "370:\tlearn: 1.0952536\ttotal: 1.43s\tremaining: 14s\n",
            "380:\tlearn: 1.0950275\ttotal: 1.47s\tremaining: 14s\n",
            "390:\tlearn: 1.0947987\ttotal: 1.51s\tremaining: 13.9s\n",
            "400:\tlearn: 1.0946254\ttotal: 1.56s\tremaining: 14s\n",
            "410:\tlearn: 1.0944135\ttotal: 1.6s\tremaining: 13.9s\n",
            "420:\tlearn: 1.0942279\ttotal: 1.64s\tremaining: 13.9s\n",
            "430:\tlearn: 1.0940050\ttotal: 1.68s\tremaining: 13.9s\n",
            "440:\tlearn: 1.0938581\ttotal: 1.71s\tremaining: 13.8s\n",
            "450:\tlearn: 1.0936270\ttotal: 1.75s\tremaining: 13.7s\n",
            "460:\tlearn: 1.0934730\ttotal: 1.79s\tremaining: 13.7s\n",
            "470:\tlearn: 1.0933198\ttotal: 1.82s\tremaining: 13.7s\n",
            "480:\tlearn: 1.0932075\ttotal: 1.85s\tremaining: 13.6s\n",
            "490:\tlearn: 1.0930568\ttotal: 1.89s\tremaining: 13.5s\n",
            "500:\tlearn: 1.0929284\ttotal: 1.93s\tremaining: 13.5s\n",
            "510:\tlearn: 1.0927449\ttotal: 1.97s\tremaining: 13.4s\n",
            "520:\tlearn: 1.0926032\ttotal: 2.01s\tremaining: 13.5s\n",
            "530:\tlearn: 1.0924056\ttotal: 2.05s\tremaining: 13.4s\n",
            "540:\tlearn: 1.0922718\ttotal: 2.09s\tremaining: 13.3s\n",
            "550:\tlearn: 1.0921099\ttotal: 2.12s\tremaining: 13.3s\n",
            "560:\tlearn: 1.0919568\ttotal: 2.16s\tremaining: 13.2s\n",
            "570:\tlearn: 1.0917435\ttotal: 2.2s\tremaining: 13.2s\n",
            "580:\tlearn: 1.0915894\ttotal: 2.24s\tremaining: 13.2s\n",
            "590:\tlearn: 1.0914228\ttotal: 2.27s\tremaining: 13.1s\n",
            "600:\tlearn: 1.0912845\ttotal: 2.31s\tremaining: 13.1s\n",
            "610:\tlearn: 1.0911430\ttotal: 2.34s\tremaining: 13s\n",
            "620:\tlearn: 1.0910235\ttotal: 2.38s\tremaining: 12.9s\n",
            "630:\tlearn: 1.0909259\ttotal: 2.41s\tremaining: 12.9s\n",
            "640:\tlearn: 1.0907520\ttotal: 2.46s\tremaining: 12.9s\n",
            "650:\tlearn: 1.0906149\ttotal: 2.49s\tremaining: 12.8s\n",
            "660:\tlearn: 1.0905050\ttotal: 2.54s\tremaining: 12.8s\n",
            "670:\tlearn: 1.0903655\ttotal: 2.58s\tremaining: 12.8s\n",
            "680:\tlearn: 1.0902234\ttotal: 2.61s\tremaining: 12.7s\n",
            "690:\tlearn: 1.0901091\ttotal: 2.65s\tremaining: 12.7s\n",
            "700:\tlearn: 1.0899717\ttotal: 2.69s\tremaining: 12.7s\n",
            "710:\tlearn: 1.0898301\ttotal: 2.73s\tremaining: 12.6s\n",
            "720:\tlearn: 1.0897323\ttotal: 2.76s\tremaining: 12.6s\n",
            "730:\tlearn: 1.0896452\ttotal: 2.79s\tremaining: 12.5s\n",
            "740:\tlearn: 1.0895538\ttotal: 2.83s\tremaining: 12.4s\n",
            "750:\tlearn: 1.0894378\ttotal: 2.86s\tremaining: 12.4s\n",
            "760:\tlearn: 1.0893451\ttotal: 2.92s\tremaining: 12.4s\n",
            "770:\tlearn: 1.0892139\ttotal: 2.95s\tremaining: 12.4s\n",
            "780:\tlearn: 1.0891461\ttotal: 2.98s\tremaining: 12.3s\n",
            "790:\tlearn: 1.0890745\ttotal: 3.02s\tremaining: 12.3s\n",
            "800:\tlearn: 1.0889718\ttotal: 3.06s\tremaining: 12.2s\n",
            "810:\tlearn: 1.0889094\ttotal: 3.09s\tremaining: 12.2s\n",
            "820:\tlearn: 1.0888007\ttotal: 3.13s\tremaining: 12.1s\n",
            "830:\tlearn: 1.0887032\ttotal: 3.17s\tremaining: 12.1s\n",
            "840:\tlearn: 1.0885915\ttotal: 3.21s\tremaining: 12.1s\n",
            "850:\tlearn: 1.0884955\ttotal: 3.25s\tremaining: 12s\n",
            "860:\tlearn: 1.0883906\ttotal: 3.29s\tremaining: 12s\n",
            "870:\tlearn: 1.0883229\ttotal: 3.33s\tremaining: 12s\n",
            "880:\tlearn: 1.0882421\ttotal: 3.37s\tremaining: 11.9s\n",
            "890:\tlearn: 1.0881403\ttotal: 3.41s\tremaining: 11.9s\n",
            "900:\tlearn: 1.0880416\ttotal: 3.45s\tremaining: 11.9s\n",
            "910:\tlearn: 1.0879607\ttotal: 3.48s\tremaining: 11.8s\n",
            "920:\tlearn: 1.0878872\ttotal: 3.53s\tremaining: 11.8s\n",
            "930:\tlearn: 1.0878042\ttotal: 3.58s\tremaining: 11.8s\n",
            "940:\tlearn: 1.0877289\ttotal: 3.62s\tremaining: 11.8s\n",
            "950:\tlearn: 1.0876500\ttotal: 3.65s\tremaining: 11.7s\n",
            "960:\tlearn: 1.0875555\ttotal: 3.69s\tremaining: 11.7s\n",
            "970:\tlearn: 1.0874747\ttotal: 3.73s\tremaining: 11.6s\n",
            "980:\tlearn: 1.0874080\ttotal: 3.77s\tremaining: 11.6s\n",
            "990:\tlearn: 1.0873238\ttotal: 3.81s\tremaining: 11.6s\n",
            "1000:\tlearn: 1.0872555\ttotal: 3.85s\tremaining: 11.5s\n",
            "1010:\tlearn: 1.0871990\ttotal: 3.88s\tremaining: 11.5s\n",
            "1020:\tlearn: 1.0871244\ttotal: 3.93s\tremaining: 11.5s\n",
            "1030:\tlearn: 1.0870689\ttotal: 3.96s\tremaining: 11.4s\n",
            "1040:\tlearn: 1.0869734\ttotal: 4s\tremaining: 11.4s\n",
            "1050:\tlearn: 1.0869265\ttotal: 4.04s\tremaining: 11.3s\n",
            "1060:\tlearn: 1.0868568\ttotal: 4.08s\tremaining: 11.3s\n",
            "1070:\tlearn: 1.0867838\ttotal: 4.12s\tremaining: 11.3s\n",
            "1080:\tlearn: 1.0866887\ttotal: 4.15s\tremaining: 11.2s\n",
            "1090:\tlearn: 1.0866211\ttotal: 4.19s\tremaining: 11.2s\n",
            "1100:\tlearn: 1.0865618\ttotal: 4.23s\tremaining: 11.1s\n",
            "1110:\tlearn: 1.0865220\ttotal: 4.27s\tremaining: 11.1s\n",
            "1120:\tlearn: 1.0864894\ttotal: 4.31s\tremaining: 11.1s\n",
            "1130:\tlearn: 1.0864122\ttotal: 4.34s\tremaining: 11s\n",
            "1140:\tlearn: 1.0863338\ttotal: 4.38s\tremaining: 11s\n",
            "1150:\tlearn: 1.0862944\ttotal: 4.41s\tremaining: 10.9s\n",
            "1160:\tlearn: 1.0862405\ttotal: 4.45s\tremaining: 10.9s\n",
            "1170:\tlearn: 1.0861847\ttotal: 4.49s\tremaining: 10.8s\n",
            "1180:\tlearn: 1.0861177\ttotal: 4.54s\tremaining: 10.8s\n",
            "1190:\tlearn: 1.0860523\ttotal: 4.57s\tremaining: 10.8s\n",
            "1200:\tlearn: 1.0859891\ttotal: 4.61s\tremaining: 10.7s\n",
            "1210:\tlearn: 1.0859361\ttotal: 4.64s\tremaining: 10.7s\n",
            "1220:\tlearn: 1.0858751\ttotal: 4.67s\tremaining: 10.6s\n",
            "1230:\tlearn: 1.0858171\ttotal: 4.72s\tremaining: 10.6s\n",
            "1240:\tlearn: 1.0857865\ttotal: 4.75s\tremaining: 10.6s\n",
            "1250:\tlearn: 1.0857249\ttotal: 4.79s\tremaining: 10.5s\n",
            "1260:\tlearn: 1.0856627\ttotal: 4.83s\tremaining: 10.5s\n",
            "1270:\tlearn: 1.0855959\ttotal: 4.87s\tremaining: 10.5s\n",
            "1280:\tlearn: 1.0855385\ttotal: 4.9s\tremaining: 10.4s\n",
            "1290:\tlearn: 1.0854721\ttotal: 4.94s\tremaining: 10.4s\n",
            "1300:\tlearn: 1.0854055\ttotal: 4.98s\tremaining: 10.3s\n",
            "1310:\tlearn: 1.0853474\ttotal: 5.03s\tremaining: 10.3s\n",
            "1320:\tlearn: 1.0852915\ttotal: 5.08s\tremaining: 10.3s\n",
            "1330:\tlearn: 1.0852430\ttotal: 5.12s\tremaining: 10.3s\n",
            "1340:\tlearn: 1.0851755\ttotal: 5.16s\tremaining: 10.2s\n",
            "1350:\tlearn: 1.0851366\ttotal: 5.2s\tremaining: 10.2s\n",
            "1360:\tlearn: 1.0850946\ttotal: 5.24s\tremaining: 10.2s\n",
            "1370:\tlearn: 1.0850531\ttotal: 5.27s\tremaining: 10.1s\n",
            "1380:\tlearn: 1.0849877\ttotal: 5.31s\tremaining: 10.1s\n",
            "1390:\tlearn: 1.0849196\ttotal: 5.35s\tremaining: 10s\n",
            "1400:\tlearn: 1.0848540\ttotal: 5.4s\tremaining: 10s\n",
            "1410:\tlearn: 1.0847912\ttotal: 5.44s\tremaining: 9.97s\n",
            "1420:\tlearn: 1.0847368\ttotal: 5.48s\tremaining: 9.94s\n",
            "1430:\tlearn: 1.0846842\ttotal: 5.53s\tremaining: 9.92s\n",
            "1440:\tlearn: 1.0846476\ttotal: 5.56s\tremaining: 9.88s\n",
            "1450:\tlearn: 1.0845833\ttotal: 5.61s\tremaining: 9.85s\n",
            "1460:\tlearn: 1.0845461\ttotal: 5.64s\tremaining: 9.8s\n",
            "1470:\tlearn: 1.0845143\ttotal: 5.67s\tremaining: 9.76s\n",
            "1480:\tlearn: 1.0844628\ttotal: 5.71s\tremaining: 9.71s\n",
            "1490:\tlearn: 1.0844028\ttotal: 5.75s\tremaining: 9.67s\n",
            "1500:\tlearn: 1.0843578\ttotal: 5.78s\tremaining: 9.63s\n",
            "1510:\tlearn: 1.0843254\ttotal: 5.83s\tremaining: 9.6s\n",
            "1520:\tlearn: 1.0842820\ttotal: 5.86s\tremaining: 9.55s\n",
            "1530:\tlearn: 1.0842319\ttotal: 5.9s\tremaining: 9.51s\n",
            "1540:\tlearn: 1.0841813\ttotal: 5.93s\tremaining: 9.46s\n",
            "1550:\tlearn: 1.0841408\ttotal: 5.97s\tremaining: 9.43s\n",
            "1560:\tlearn: 1.0840658\ttotal: 6.01s\tremaining: 9.39s\n",
            "1570:\tlearn: 1.0840204\ttotal: 6.05s\tremaining: 9.36s\n",
            "1580:\tlearn: 1.0839887\ttotal: 6.09s\tremaining: 9.32s\n",
            "1590:\tlearn: 1.0839399\ttotal: 6.13s\tremaining: 9.28s\n",
            "1600:\tlearn: 1.0839114\ttotal: 6.16s\tremaining: 9.23s\n",
            "1610:\tlearn: 1.0838700\ttotal: 6.2s\tremaining: 9.19s\n",
            "1620:\tlearn: 1.0838146\ttotal: 6.23s\tremaining: 9.15s\n",
            "1630:\tlearn: 1.0837766\ttotal: 6.28s\tremaining: 9.12s\n",
            "1640:\tlearn: 1.0837338\ttotal: 6.31s\tremaining: 9.07s\n",
            "1650:\tlearn: 1.0836822\ttotal: 6.35s\tremaining: 9.03s\n",
            "1660:\tlearn: 1.0836196\ttotal: 6.38s\tremaining: 8.99s\n",
            "1670:\tlearn: 1.0835706\ttotal: 6.42s\tremaining: 8.95s\n",
            "1680:\tlearn: 1.0835274\ttotal: 6.46s\tremaining: 8.91s\n",
            "1690:\tlearn: 1.0834770\ttotal: 6.52s\tremaining: 8.9s\n",
            "1700:\tlearn: 1.0834106\ttotal: 6.55s\tremaining: 8.86s\n",
            "1710:\tlearn: 1.0833685\ttotal: 6.6s\tremaining: 8.83s\n",
            "1720:\tlearn: 1.0833268\ttotal: 6.63s\tremaining: 8.79s\n",
            "1730:\tlearn: 1.0832787\ttotal: 6.67s\tremaining: 8.74s\n",
            "1740:\tlearn: 1.0832286\ttotal: 6.71s\tremaining: 8.7s\n",
            "1750:\tlearn: 1.0831796\ttotal: 6.75s\tremaining: 8.67s\n",
            "1760:\tlearn: 1.0831406\ttotal: 6.79s\tremaining: 8.63s\n",
            "1770:\tlearn: 1.0830950\ttotal: 6.83s\tremaining: 8.6s\n",
            "1780:\tlearn: 1.0830409\ttotal: 6.87s\tremaining: 8.55s\n",
            "1790:\tlearn: 1.0830112\ttotal: 6.9s\tremaining: 8.51s\n",
            "1800:\tlearn: 1.0829450\ttotal: 6.94s\tremaining: 8.47s\n",
            "1810:\tlearn: 1.0829083\ttotal: 6.98s\tremaining: 8.44s\n",
            "1820:\tlearn: 1.0828661\ttotal: 7.02s\tremaining: 8.4s\n",
            "1830:\tlearn: 1.0828247\ttotal: 7.05s\tremaining: 8.36s\n",
            "1840:\tlearn: 1.0827659\ttotal: 7.09s\tremaining: 8.31s\n",
            "1850:\tlearn: 1.0827169\ttotal: 7.13s\tremaining: 8.28s\n",
            "1860:\tlearn: 1.0826628\ttotal: 7.17s\tremaining: 8.24s\n",
            "1870:\tlearn: 1.0826289\ttotal: 7.22s\tremaining: 8.21s\n",
            "1880:\tlearn: 1.0825855\ttotal: 7.26s\tremaining: 8.17s\n",
            "1890:\tlearn: 1.0825525\ttotal: 7.29s\tremaining: 8.13s\n",
            "1900:\tlearn: 1.0825129\ttotal: 7.33s\tremaining: 8.09s\n",
            "1910:\tlearn: 1.0824897\ttotal: 7.37s\tremaining: 8.05s\n",
            "1920:\tlearn: 1.0824261\ttotal: 7.41s\tremaining: 8.02s\n",
            "1930:\tlearn: 1.0823732\ttotal: 7.45s\tremaining: 7.98s\n",
            "1940:\tlearn: 1.0823287\ttotal: 7.5s\tremaining: 7.96s\n",
            "1950:\tlearn: 1.0822858\ttotal: 7.54s\tremaining: 7.92s\n",
            "1960:\tlearn: 1.0822470\ttotal: 7.58s\tremaining: 7.88s\n",
            "1970:\tlearn: 1.0822119\ttotal: 7.62s\tremaining: 7.84s\n",
            "1980:\tlearn: 1.0821752\ttotal: 7.66s\tremaining: 7.81s\n",
            "1990:\tlearn: 1.0821353\ttotal: 7.7s\tremaining: 7.77s\n",
            "2000:\tlearn: 1.0820970\ttotal: 7.74s\tremaining: 7.74s\n",
            "2010:\tlearn: 1.0820607\ttotal: 7.78s\tremaining: 7.7s\n",
            "2020:\tlearn: 1.0820164\ttotal: 7.82s\tremaining: 7.66s\n",
            "2030:\tlearn: 1.0819817\ttotal: 7.87s\tremaining: 7.63s\n",
            "2040:\tlearn: 1.0819391\ttotal: 7.91s\tremaining: 7.59s\n",
            "2050:\tlearn: 1.0819069\ttotal: 7.95s\tremaining: 7.55s\n",
            "2060:\tlearn: 1.0818692\ttotal: 7.98s\tremaining: 7.51s\n",
            "2070:\tlearn: 1.0818188\ttotal: 8.02s\tremaining: 7.47s\n",
            "2080:\tlearn: 1.0817891\ttotal: 8.06s\tremaining: 7.43s\n",
            "2090:\tlearn: 1.0817418\ttotal: 8.11s\tremaining: 7.4s\n",
            "2100:\tlearn: 1.0816925\ttotal: 8.14s\tremaining: 7.36s\n",
            "2110:\tlearn: 1.0816555\ttotal: 8.18s\tremaining: 7.32s\n",
            "2120:\tlearn: 1.0816135\ttotal: 8.21s\tremaining: 7.27s\n",
            "2130:\tlearn: 1.0815800\ttotal: 8.25s\tremaining: 7.23s\n",
            "2140:\tlearn: 1.0815507\ttotal: 8.28s\tremaining: 7.19s\n",
            "2150:\tlearn: 1.0815074\ttotal: 8.33s\tremaining: 7.16s\n",
            "2160:\tlearn: 1.0814728\ttotal: 8.37s\tremaining: 7.12s\n",
            "2170:\tlearn: 1.0814418\ttotal: 8.42s\tremaining: 7.09s\n",
            "2180:\tlearn: 1.0814107\ttotal: 8.46s\tremaining: 7.05s\n",
            "2190:\tlearn: 1.0813765\ttotal: 8.51s\tremaining: 7.02s\n",
            "2200:\tlearn: 1.0813415\ttotal: 8.55s\tremaining: 6.99s\n",
            "2210:\tlearn: 1.0813151\ttotal: 8.58s\tremaining: 6.94s\n",
            "2220:\tlearn: 1.0812717\ttotal: 8.62s\tremaining: 6.9s\n",
            "2230:\tlearn: 1.0812311\ttotal: 8.65s\tremaining: 6.86s\n",
            "2240:\tlearn: 1.0812033\ttotal: 8.69s\tremaining: 6.82s\n",
            "2250:\tlearn: 1.0811651\ttotal: 8.73s\tremaining: 6.78s\n",
            "2260:\tlearn: 1.0811183\ttotal: 8.77s\tremaining: 6.75s\n",
            "2270:\tlearn: 1.0810873\ttotal: 8.81s\tremaining: 6.71s\n",
            "2280:\tlearn: 1.0810439\ttotal: 8.85s\tremaining: 6.67s\n",
            "2290:\tlearn: 1.0810119\ttotal: 8.89s\tremaining: 6.63s\n",
            "2300:\tlearn: 1.0809831\ttotal: 8.93s\tremaining: 6.59s\n",
            "2310:\tlearn: 1.0809321\ttotal: 8.96s\tremaining: 6.55s\n",
            "2320:\tlearn: 1.0808998\ttotal: 9.01s\tremaining: 6.52s\n",
            "2330:\tlearn: 1.0808614\ttotal: 9.05s\tremaining: 6.48s\n",
            "2340:\tlearn: 1.0808127\ttotal: 9.08s\tremaining: 6.44s\n",
            "2350:\tlearn: 1.0807758\ttotal: 9.12s\tremaining: 6.4s\n",
            "2360:\tlearn: 1.0807348\ttotal: 9.16s\tremaining: 6.36s\n",
            "2370:\tlearn: 1.0806912\ttotal: 9.21s\tremaining: 6.32s\n",
            "2380:\tlearn: 1.0806625\ttotal: 9.25s\tremaining: 6.29s\n",
            "2390:\tlearn: 1.0806210\ttotal: 9.29s\tremaining: 6.25s\n",
            "2400:\tlearn: 1.0805882\ttotal: 9.33s\tremaining: 6.21s\n",
            "2410:\tlearn: 1.0805589\ttotal: 9.36s\tremaining: 6.17s\n",
            "2420:\tlearn: 1.0805287\ttotal: 9.4s\tremaining: 6.13s\n",
            "2430:\tlearn: 1.0804895\ttotal: 9.45s\tremaining: 6.09s\n",
            "2440:\tlearn: 1.0804387\ttotal: 9.49s\tremaining: 6.06s\n",
            "2450:\tlearn: 1.0803964\ttotal: 9.54s\tremaining: 6.03s\n",
            "2460:\tlearn: 1.0803580\ttotal: 9.57s\tremaining: 5.99s\n",
            "2470:\tlearn: 1.0803302\ttotal: 9.62s\tremaining: 5.95s\n",
            "2480:\tlearn: 1.0802994\ttotal: 9.66s\tremaining: 5.91s\n",
            "2490:\tlearn: 1.0802670\ttotal: 9.69s\tremaining: 5.87s\n",
            "2500:\tlearn: 1.0802315\ttotal: 9.73s\tremaining: 5.83s\n",
            "2510:\tlearn: 1.0801834\ttotal: 9.77s\tremaining: 5.79s\n",
            "2520:\tlearn: 1.0801490\ttotal: 9.81s\tremaining: 5.75s\n",
            "2530:\tlearn: 1.0801117\ttotal: 9.86s\tremaining: 5.72s\n",
            "2540:\tlearn: 1.0800812\ttotal: 9.9s\tremaining: 5.68s\n",
            "2550:\tlearn: 1.0800463\ttotal: 9.94s\tremaining: 5.64s\n",
            "2560:\tlearn: 1.0800188\ttotal: 9.97s\tremaining: 5.6s\n",
            "2570:\tlearn: 1.0799842\ttotal: 10s\tremaining: 5.56s\n",
            "2580:\tlearn: 1.0799488\ttotal: 10s\tremaining: 5.53s\n",
            "2590:\tlearn: 1.0799139\ttotal: 10.1s\tremaining: 5.49s\n",
            "2600:\tlearn: 1.0798804\ttotal: 10.1s\tremaining: 5.45s\n",
            "2610:\tlearn: 1.0798549\ttotal: 10.2s\tremaining: 5.41s\n",
            "2620:\tlearn: 1.0798240\ttotal: 10.2s\tremaining: 5.37s\n",
            "2630:\tlearn: 1.0797982\ttotal: 10.2s\tremaining: 5.33s\n",
            "2640:\tlearn: 1.0797585\ttotal: 10.3s\tremaining: 5.29s\n",
            "2650:\tlearn: 1.0797204\ttotal: 10.3s\tremaining: 5.26s\n",
            "2660:\tlearn: 1.0796805\ttotal: 10.4s\tremaining: 5.22s\n",
            "2670:\tlearn: 1.0796508\ttotal: 10.4s\tremaining: 5.18s\n",
            "2680:\tlearn: 1.0795982\ttotal: 10.4s\tremaining: 5.14s\n",
            "2690:\tlearn: 1.0795683\ttotal: 10.5s\tremaining: 5.11s\n",
            "2700:\tlearn: 1.0795380\ttotal: 10.5s\tremaining: 5.07s\n",
            "2710:\tlearn: 1.0794890\ttotal: 10.6s\tremaining: 5.03s\n",
            "2720:\tlearn: 1.0794559\ttotal: 10.6s\tremaining: 4.99s\n",
            "2730:\tlearn: 1.0794152\ttotal: 10.7s\tremaining: 4.95s\n",
            "2740:\tlearn: 1.0793787\ttotal: 10.7s\tremaining: 4.91s\n",
            "2750:\tlearn: 1.0793407\ttotal: 10.7s\tremaining: 4.87s\n",
            "2760:\tlearn: 1.0793127\ttotal: 10.8s\tremaining: 4.84s\n",
            "2770:\tlearn: 1.0792740\ttotal: 10.8s\tremaining: 4.8s\n",
            "2780:\tlearn: 1.0792410\ttotal: 10.9s\tremaining: 4.76s\n",
            "2790:\tlearn: 1.0792107\ttotal: 10.9s\tremaining: 4.72s\n",
            "2800:\tlearn: 1.0791832\ttotal: 10.9s\tremaining: 4.68s\n",
            "2810:\tlearn: 1.0791474\ttotal: 11s\tremaining: 4.64s\n",
            "2820:\tlearn: 1.0791175\ttotal: 11s\tremaining: 4.6s\n",
            "2830:\tlearn: 1.0790890\ttotal: 11.1s\tremaining: 4.57s\n",
            "2840:\tlearn: 1.0790562\ttotal: 11.1s\tremaining: 4.53s\n",
            "2850:\tlearn: 1.0790286\ttotal: 11.1s\tremaining: 4.49s\n",
            "2860:\tlearn: 1.0790011\ttotal: 11.2s\tremaining: 4.45s\n",
            "2870:\tlearn: 1.0789782\ttotal: 11.2s\tremaining: 4.42s\n",
            "2880:\tlearn: 1.0789507\ttotal: 11.3s\tremaining: 4.38s\n",
            "2890:\tlearn: 1.0789167\ttotal: 11.3s\tremaining: 4.34s\n",
            "2900:\tlearn: 1.0788914\ttotal: 11.3s\tremaining: 4.3s\n",
            "2910:\tlearn: 1.0788576\ttotal: 11.4s\tremaining: 4.26s\n",
            "2920:\tlearn: 1.0788222\ttotal: 11.4s\tremaining: 4.22s\n",
            "2930:\tlearn: 1.0787905\ttotal: 11.5s\tremaining: 4.19s\n",
            "2940:\tlearn: 1.0787465\ttotal: 11.5s\tremaining: 4.15s\n",
            "2950:\tlearn: 1.0787189\ttotal: 11.6s\tremaining: 4.11s\n",
            "2960:\tlearn: 1.0786760\ttotal: 11.6s\tremaining: 4.07s\n",
            "2970:\tlearn: 1.0786515\ttotal: 11.6s\tremaining: 4.03s\n",
            "2980:\tlearn: 1.0786256\ttotal: 11.7s\tremaining: 3.99s\n",
            "2990:\tlearn: 1.0785942\ttotal: 11.7s\tremaining: 3.95s\n",
            "3000:\tlearn: 1.0785589\ttotal: 11.8s\tremaining: 3.91s\n",
            "3010:\tlearn: 1.0785341\ttotal: 11.8s\tremaining: 3.87s\n",
            "3020:\tlearn: 1.0785059\ttotal: 11.8s\tremaining: 3.83s\n",
            "3030:\tlearn: 1.0784689\ttotal: 11.9s\tremaining: 3.8s\n",
            "3040:\tlearn: 1.0784382\ttotal: 11.9s\tremaining: 3.76s\n",
            "3050:\tlearn: 1.0784003\ttotal: 12s\tremaining: 3.72s\n",
            "3060:\tlearn: 1.0783551\ttotal: 12s\tremaining: 3.68s\n",
            "3070:\tlearn: 1.0783216\ttotal: 12s\tremaining: 3.64s\n",
            "3080:\tlearn: 1.0782913\ttotal: 12.1s\tremaining: 3.6s\n",
            "3090:\tlearn: 1.0782441\ttotal: 12.1s\tremaining: 3.56s\n",
            "3100:\tlearn: 1.0782130\ttotal: 12.1s\tremaining: 3.52s\n",
            "3110:\tlearn: 1.0781915\ttotal: 12.2s\tremaining: 3.48s\n",
            "3120:\tlearn: 1.0781641\ttotal: 12.2s\tremaining: 3.44s\n",
            "3130:\tlearn: 1.0781275\ttotal: 12.3s\tremaining: 3.4s\n",
            "3140:\tlearn: 1.0781016\ttotal: 12.3s\tremaining: 3.37s\n",
            "3150:\tlearn: 1.0780724\ttotal: 12.3s\tremaining: 3.33s\n",
            "3160:\tlearn: 1.0780282\ttotal: 12.4s\tremaining: 3.29s\n",
            "3170:\tlearn: 1.0779984\ttotal: 12.4s\tremaining: 3.25s\n",
            "3180:\tlearn: 1.0779664\ttotal: 12.5s\tremaining: 3.21s\n",
            "3190:\tlearn: 1.0779414\ttotal: 12.5s\tremaining: 3.17s\n",
            "3200:\tlearn: 1.0779141\ttotal: 12.6s\tremaining: 3.13s\n",
            "3210:\tlearn: 1.0778815\ttotal: 12.6s\tremaining: 3.09s\n",
            "3220:\tlearn: 1.0778528\ttotal: 12.6s\tremaining: 3.06s\n",
            "3230:\tlearn: 1.0778274\ttotal: 12.7s\tremaining: 3.02s\n",
            "3240:\tlearn: 1.0777875\ttotal: 12.7s\tremaining: 2.98s\n",
            "3250:\tlearn: 1.0777585\ttotal: 12.8s\tremaining: 2.94s\n",
            "3260:\tlearn: 1.0777240\ttotal: 12.8s\tremaining: 2.9s\n",
            "3270:\tlearn: 1.0776846\ttotal: 12.8s\tremaining: 2.86s\n",
            "3280:\tlearn: 1.0776605\ttotal: 12.9s\tremaining: 2.82s\n",
            "3290:\tlearn: 1.0776338\ttotal: 12.9s\tremaining: 2.78s\n",
            "3300:\tlearn: 1.0776090\ttotal: 13s\tremaining: 2.74s\n",
            "3310:\tlearn: 1.0775740\ttotal: 13s\tremaining: 2.7s\n",
            "3320:\tlearn: 1.0775327\ttotal: 13s\tremaining: 2.67s\n",
            "3330:\tlearn: 1.0774967\ttotal: 13.1s\tremaining: 2.63s\n",
            "3340:\tlearn: 1.0774632\ttotal: 13.1s\tremaining: 2.59s\n",
            "3350:\tlearn: 1.0774395\ttotal: 13.2s\tremaining: 2.55s\n",
            "3360:\tlearn: 1.0774056\ttotal: 13.2s\tremaining: 2.51s\n",
            "3370:\tlearn: 1.0773808\ttotal: 13.2s\tremaining: 2.47s\n",
            "3380:\tlearn: 1.0773542\ttotal: 13.3s\tremaining: 2.43s\n",
            "3390:\tlearn: 1.0773352\ttotal: 13.3s\tremaining: 2.39s\n",
            "3400:\tlearn: 1.0773092\ttotal: 13.4s\tremaining: 2.35s\n",
            "3410:\tlearn: 1.0772716\ttotal: 13.4s\tremaining: 2.31s\n",
            "3420:\tlearn: 1.0772441\ttotal: 13.4s\tremaining: 2.27s\n",
            "3430:\tlearn: 1.0772099\ttotal: 13.5s\tremaining: 2.24s\n",
            "3440:\tlearn: 1.0771765\ttotal: 13.5s\tremaining: 2.2s\n",
            "3450:\tlearn: 1.0771430\ttotal: 13.6s\tremaining: 2.16s\n",
            "3460:\tlearn: 1.0771168\ttotal: 13.6s\tremaining: 2.12s\n",
            "3470:\tlearn: 1.0770832\ttotal: 13.6s\tremaining: 2.08s\n",
            "3480:\tlearn: 1.0770491\ttotal: 13.7s\tremaining: 2.04s\n",
            "3490:\tlearn: 1.0770194\ttotal: 13.7s\tremaining: 2s\n",
            "3500:\tlearn: 1.0769875\ttotal: 13.8s\tremaining: 1.96s\n",
            "3510:\tlearn: 1.0769633\ttotal: 13.8s\tremaining: 1.92s\n",
            "3520:\tlearn: 1.0769214\ttotal: 13.8s\tremaining: 1.88s\n",
            "3530:\tlearn: 1.0768826\ttotal: 13.9s\tremaining: 1.84s\n",
            "3540:\tlearn: 1.0768439\ttotal: 13.9s\tremaining: 1.8s\n",
            "3550:\tlearn: 1.0768092\ttotal: 14s\tremaining: 1.77s\n",
            "3560:\tlearn: 1.0767865\ttotal: 14s\tremaining: 1.73s\n",
            "3570:\tlearn: 1.0767631\ttotal: 14.1s\tremaining: 1.69s\n",
            "3580:\tlearn: 1.0767385\ttotal: 14.1s\tremaining: 1.65s\n",
            "3590:\tlearn: 1.0767064\ttotal: 14.1s\tremaining: 1.61s\n",
            "3600:\tlearn: 1.0766823\ttotal: 14.2s\tremaining: 1.57s\n",
            "3610:\tlearn: 1.0766451\ttotal: 14.2s\tremaining: 1.53s\n",
            "3620:\tlearn: 1.0766058\ttotal: 14.3s\tremaining: 1.49s\n",
            "3630:\tlearn: 1.0765722\ttotal: 14.3s\tremaining: 1.45s\n",
            "3640:\tlearn: 1.0765416\ttotal: 14.3s\tremaining: 1.41s\n",
            "3650:\tlearn: 1.0765179\ttotal: 14.4s\tremaining: 1.37s\n",
            "3660:\tlearn: 1.0764889\ttotal: 14.4s\tremaining: 1.33s\n",
            "3670:\tlearn: 1.0764669\ttotal: 14.4s\tremaining: 1.29s\n",
            "3680:\tlearn: 1.0764310\ttotal: 14.5s\tremaining: 1.26s\n",
            "3690:\tlearn: 1.0764071\ttotal: 14.5s\tremaining: 1.22s\n",
            "3700:\tlearn: 1.0763647\ttotal: 14.6s\tremaining: 1.18s\n",
            "3710:\tlearn: 1.0763375\ttotal: 14.6s\tremaining: 1.14s\n",
            "3720:\tlearn: 1.0763098\ttotal: 14.7s\tremaining: 1.1s\n",
            "3730:\tlearn: 1.0762812\ttotal: 14.7s\tremaining: 1.06s\n",
            "3740:\tlearn: 1.0762534\ttotal: 14.7s\tremaining: 1.02s\n",
            "3750:\tlearn: 1.0762234\ttotal: 14.8s\tremaining: 981ms\n",
            "3760:\tlearn: 1.0761767\ttotal: 14.8s\tremaining: 942ms\n",
            "3770:\tlearn: 1.0761370\ttotal: 14.9s\tremaining: 902ms\n",
            "3780:\tlearn: 1.0761088\ttotal: 14.9s\tremaining: 863ms\n",
            "3790:\tlearn: 1.0760695\ttotal: 14.9s\tremaining: 824ms\n",
            "3800:\tlearn: 1.0760411\ttotal: 15s\tremaining: 785ms\n",
            "3810:\tlearn: 1.0759993\ttotal: 15s\tremaining: 745ms\n",
            "3820:\tlearn: 1.0759717\ttotal: 15.1s\tremaining: 706ms\n",
            "3830:\tlearn: 1.0759448\ttotal: 15.1s\tremaining: 667ms\n",
            "3840:\tlearn: 1.0759203\ttotal: 15.1s\tremaining: 627ms\n",
            "3850:\tlearn: 1.0758933\ttotal: 15.2s\tremaining: 588ms\n",
            "3860:\tlearn: 1.0758631\ttotal: 15.2s\tremaining: 548ms\n",
            "3870:\tlearn: 1.0758357\ttotal: 15.3s\tremaining: 509ms\n",
            "3880:\tlearn: 1.0758048\ttotal: 15.3s\tremaining: 470ms\n",
            "3890:\tlearn: 1.0757895\ttotal: 15.4s\tremaining: 430ms\n",
            "3900:\tlearn: 1.0757587\ttotal: 15.4s\tremaining: 391ms\n",
            "3910:\tlearn: 1.0757334\ttotal: 15.4s\tremaining: 351ms\n",
            "3920:\tlearn: 1.0757132\ttotal: 15.5s\tremaining: 312ms\n",
            "3930:\tlearn: 1.0756851\ttotal: 15.5s\tremaining: 272ms\n",
            "3940:\tlearn: 1.0756566\ttotal: 15.6s\tremaining: 233ms\n",
            "3950:\tlearn: 1.0756282\ttotal: 15.6s\tremaining: 193ms\n",
            "3960:\tlearn: 1.0755939\ttotal: 15.6s\tremaining: 154ms\n",
            "3970:\tlearn: 1.0755601\ttotal: 15.7s\tremaining: 114ms\n",
            "3980:\tlearn: 1.0755437\ttotal: 15.7s\tremaining: 74.9ms\n",
            "3990:\tlearn: 1.0755210\ttotal: 15.7s\tremaining: 35.5ms\n",
            "3999:\tlearn: 1.0755009\ttotal: 15.8s\tremaining: 0us\n",
            "Fold 8, Valid score = 1.08808\n"
          ],
          "name": "stdout"
        },
        {
          "output_type": "stream",
          "text": [
            "Warning: less than 75% gpu memory available for training. Free: 5249.75 Total: 16280.875\n"
          ],
          "name": "stderr"
        },
        {
          "output_type": "stream",
          "text": [
            "0:\tlearn: 1.3525692\ttotal: 4.8ms\tremaining: 19.2s\n",
            "10:\tlearn: 1.1884899\ttotal: 40.3ms\tremaining: 14.6s\n",
            "20:\tlearn: 1.1388438\ttotal: 75.9ms\tremaining: 14.4s\n",
            "30:\tlearn: 1.1212065\ttotal: 113ms\tremaining: 14.5s\n",
            "40:\tlearn: 1.1144798\ttotal: 157ms\tremaining: 15.1s\n",
            "50:\tlearn: 1.1115077\ttotal: 192ms\tremaining: 14.9s\n",
            "60:\tlearn: 1.1096991\ttotal: 244ms\tremaining: 15.7s\n",
            "70:\tlearn: 1.1082941\ttotal: 279ms\tremaining: 15.5s\n",
            "80:\tlearn: 1.1073105\ttotal: 322ms\tremaining: 15.6s\n",
            "90:\tlearn: 1.1064491\ttotal: 358ms\tremaining: 15.4s\n",
            "100:\tlearn: 1.1055574\ttotal: 402ms\tremaining: 15.5s\n",
            "110:\tlearn: 1.1048748\ttotal: 437ms\tremaining: 15.3s\n",
            "120:\tlearn: 1.1041251\ttotal: 479ms\tremaining: 15.4s\n",
            "130:\tlearn: 1.1035623\ttotal: 512ms\tremaining: 15.1s\n",
            "140:\tlearn: 1.1031072\ttotal: 546ms\tremaining: 14.9s\n",
            "150:\tlearn: 1.1026145\ttotal: 578ms\tremaining: 14.7s\n",
            "160:\tlearn: 1.1021957\ttotal: 609ms\tremaining: 14.5s\n",
            "170:\tlearn: 1.1017579\ttotal: 648ms\tremaining: 14.5s\n",
            "180:\tlearn: 1.1012398\ttotal: 698ms\tremaining: 14.7s\n",
            "190:\tlearn: 1.1008852\ttotal: 733ms\tremaining: 14.6s\n",
            "200:\tlearn: 1.1004665\ttotal: 767ms\tremaining: 14.5s\n",
            "210:\tlearn: 1.1001813\ttotal: 802ms\tremaining: 14.4s\n",
            "220:\tlearn: 1.0997708\ttotal: 841ms\tremaining: 14.4s\n",
            "230:\tlearn: 1.0993900\ttotal: 876ms\tremaining: 14.3s\n",
            "240:\tlearn: 1.0992238\ttotal: 921ms\tremaining: 14.4s\n",
            "250:\tlearn: 1.0989007\ttotal: 960ms\tremaining: 14.3s\n",
            "260:\tlearn: 1.0985398\ttotal: 996ms\tremaining: 14.3s\n",
            "270:\tlearn: 1.0981721\ttotal: 1.03s\tremaining: 14.2s\n",
            "280:\tlearn: 1.0978718\ttotal: 1.06s\tremaining: 14.1s\n",
            "290:\tlearn: 1.0976563\ttotal: 1.1s\tremaining: 14s\n",
            "300:\tlearn: 1.0973968\ttotal: 1.15s\tremaining: 14.1s\n",
            "310:\tlearn: 1.0972353\ttotal: 1.18s\tremaining: 14s\n",
            "320:\tlearn: 1.0968983\ttotal: 1.23s\tremaining: 14.1s\n",
            "330:\tlearn: 1.0966974\ttotal: 1.27s\tremaining: 14.1s\n",
            "340:\tlearn: 1.0963232\ttotal: 1.32s\tremaining: 14.1s\n",
            "350:\tlearn: 1.0959844\ttotal: 1.36s\tremaining: 14.2s\n",
            "360:\tlearn: 1.0957035\ttotal: 1.4s\tremaining: 14.1s\n",
            "370:\tlearn: 1.0954226\ttotal: 1.44s\tremaining: 14.1s\n",
            "380:\tlearn: 1.0951912\ttotal: 1.48s\tremaining: 14s\n",
            "390:\tlearn: 1.0949338\ttotal: 1.52s\tremaining: 14s\n",
            "400:\tlearn: 1.0947116\ttotal: 1.55s\tremaining: 13.9s\n",
            "410:\tlearn: 1.0944612\ttotal: 1.6s\tremaining: 14s\n",
            "420:\tlearn: 1.0942484\ttotal: 1.64s\tremaining: 13.9s\n",
            "430:\tlearn: 1.0939833\ttotal: 1.67s\tremaining: 13.8s\n",
            "440:\tlearn: 1.0937795\ttotal: 1.71s\tremaining: 13.8s\n",
            "450:\tlearn: 1.0936165\ttotal: 1.75s\tremaining: 13.8s\n",
            "460:\tlearn: 1.0934255\ttotal: 1.78s\tremaining: 13.7s\n",
            "470:\tlearn: 1.0932151\ttotal: 1.83s\tremaining: 13.7s\n",
            "480:\tlearn: 1.0930498\ttotal: 1.87s\tremaining: 13.7s\n",
            "490:\tlearn: 1.0928413\ttotal: 1.91s\tremaining: 13.7s\n",
            "500:\tlearn: 1.0926375\ttotal: 1.95s\tremaining: 13.6s\n",
            "510:\tlearn: 1.0924367\ttotal: 1.98s\tremaining: 13.5s\n",
            "520:\tlearn: 1.0922688\ttotal: 2.02s\tremaining: 13.5s\n",
            "530:\tlearn: 1.0921185\ttotal: 2.06s\tremaining: 13.5s\n",
            "540:\tlearn: 1.0920058\ttotal: 2.1s\tremaining: 13.4s\n",
            "550:\tlearn: 1.0918633\ttotal: 2.14s\tremaining: 13.4s\n",
            "560:\tlearn: 1.0917265\ttotal: 2.17s\tremaining: 13.3s\n",
            "570:\tlearn: 1.0915774\ttotal: 2.22s\tremaining: 13.4s\n",
            "580:\tlearn: 1.0914700\ttotal: 2.26s\tremaining: 13.3s\n",
            "590:\tlearn: 1.0913123\ttotal: 2.3s\tremaining: 13.3s\n",
            "600:\tlearn: 1.0911786\ttotal: 2.34s\tremaining: 13.2s\n",
            "610:\tlearn: 1.0910598\ttotal: 2.38s\tremaining: 13.2s\n",
            "620:\tlearn: 1.0909043\ttotal: 2.42s\tremaining: 13.1s\n",
            "630:\tlearn: 1.0907711\ttotal: 2.45s\tremaining: 13.1s\n",
            "640:\tlearn: 1.0905984\ttotal: 2.49s\tremaining: 13.1s\n",
            "650:\tlearn: 1.0904453\ttotal: 2.53s\tremaining: 13s\n",
            "660:\tlearn: 1.0902698\ttotal: 2.57s\tremaining: 13s\n",
            "670:\tlearn: 1.0901753\ttotal: 2.61s\tremaining: 12.9s\n",
            "680:\tlearn: 1.0900474\ttotal: 2.65s\tremaining: 12.9s\n",
            "690:\tlearn: 1.0899372\ttotal: 2.69s\tremaining: 12.9s\n",
            "700:\tlearn: 1.0898414\ttotal: 2.72s\tremaining: 12.8s\n",
            "710:\tlearn: 1.0897532\ttotal: 2.77s\tremaining: 12.8s\n",
            "720:\tlearn: 1.0896262\ttotal: 2.8s\tremaining: 12.8s\n",
            "730:\tlearn: 1.0895350\ttotal: 2.84s\tremaining: 12.7s\n",
            "740:\tlearn: 1.0894403\ttotal: 2.88s\tremaining: 12.7s\n",
            "750:\tlearn: 1.0893624\ttotal: 2.92s\tremaining: 12.6s\n",
            "760:\tlearn: 1.0892506\ttotal: 2.96s\tremaining: 12.6s\n",
            "770:\tlearn: 1.0891542\ttotal: 3s\tremaining: 12.6s\n",
            "780:\tlearn: 1.0890641\ttotal: 3.04s\tremaining: 12.5s\n",
            "790:\tlearn: 1.0889788\ttotal: 3.07s\tremaining: 12.5s\n",
            "800:\tlearn: 1.0888798\ttotal: 3.12s\tremaining: 12.5s\n",
            "810:\tlearn: 1.0888084\ttotal: 3.16s\tremaining: 12.4s\n",
            "820:\tlearn: 1.0886951\ttotal: 3.21s\tremaining: 12.4s\n",
            "830:\tlearn: 1.0886219\ttotal: 3.26s\tremaining: 12.4s\n",
            "840:\tlearn: 1.0885390\ttotal: 3.3s\tremaining: 12.4s\n",
            "850:\tlearn: 1.0884632\ttotal: 3.33s\tremaining: 12.3s\n",
            "860:\tlearn: 1.0883721\ttotal: 3.37s\tremaining: 12.3s\n",
            "870:\tlearn: 1.0882716\ttotal: 3.42s\tremaining: 12.3s\n",
            "880:\tlearn: 1.0881889\ttotal: 3.45s\tremaining: 12.2s\n",
            "890:\tlearn: 1.0880891\ttotal: 3.49s\tremaining: 12.2s\n",
            "900:\tlearn: 1.0880202\ttotal: 3.53s\tremaining: 12.1s\n",
            "910:\tlearn: 1.0879584\ttotal: 3.56s\tremaining: 12.1s\n",
            "920:\tlearn: 1.0878740\ttotal: 3.61s\tremaining: 12.1s\n",
            "930:\tlearn: 1.0878084\ttotal: 3.65s\tremaining: 12s\n",
            "940:\tlearn: 1.0877250\ttotal: 3.69s\tremaining: 12s\n",
            "950:\tlearn: 1.0876350\ttotal: 3.72s\tremaining: 11.9s\n",
            "960:\tlearn: 1.0875335\ttotal: 3.76s\tremaining: 11.9s\n",
            "970:\tlearn: 1.0874494\ttotal: 3.8s\tremaining: 11.9s\n",
            "980:\tlearn: 1.0873827\ttotal: 3.84s\tremaining: 11.8s\n",
            "990:\tlearn: 1.0873173\ttotal: 3.88s\tremaining: 11.8s\n",
            "1000:\tlearn: 1.0872554\ttotal: 3.92s\tremaining: 11.7s\n",
            "1010:\tlearn: 1.0871712\ttotal: 3.96s\tremaining: 11.7s\n",
            "1020:\tlearn: 1.0871147\ttotal: 3.99s\tremaining: 11.7s\n",
            "1030:\tlearn: 1.0870407\ttotal: 4.03s\tremaining: 11.6s\n",
            "1040:\tlearn: 1.0869672\ttotal: 4.07s\tremaining: 11.6s\n",
            "1050:\tlearn: 1.0868847\ttotal: 4.11s\tremaining: 11.5s\n",
            "1060:\tlearn: 1.0868019\ttotal: 4.15s\tremaining: 11.5s\n",
            "1070:\tlearn: 1.0867326\ttotal: 4.19s\tremaining: 11.5s\n",
            "1080:\tlearn: 1.0866781\ttotal: 4.24s\tremaining: 11.4s\n",
            "1090:\tlearn: 1.0866165\ttotal: 4.27s\tremaining: 11.4s\n",
            "1100:\tlearn: 1.0865298\ttotal: 4.31s\tremaining: 11.4s\n",
            "1110:\tlearn: 1.0864718\ttotal: 4.35s\tremaining: 11.3s\n",
            "1120:\tlearn: 1.0864120\ttotal: 4.39s\tremaining: 11.3s\n",
            "1130:\tlearn: 1.0863453\ttotal: 4.43s\tremaining: 11.2s\n",
            "1140:\tlearn: 1.0862625\ttotal: 4.47s\tremaining: 11.2s\n",
            "1150:\tlearn: 1.0862134\ttotal: 4.5s\tremaining: 11.1s\n",
            "1160:\tlearn: 1.0861581\ttotal: 4.55s\tremaining: 11.1s\n",
            "1170:\tlearn: 1.0860971\ttotal: 4.59s\tremaining: 11.1s\n",
            "1180:\tlearn: 1.0860474\ttotal: 4.63s\tremaining: 11.1s\n",
            "1190:\tlearn: 1.0859985\ttotal: 4.67s\tremaining: 11s\n",
            "1200:\tlearn: 1.0859416\ttotal: 4.7s\tremaining: 11s\n",
            "1210:\tlearn: 1.0859089\ttotal: 4.74s\tremaining: 10.9s\n",
            "1220:\tlearn: 1.0858506\ttotal: 4.79s\tremaining: 10.9s\n",
            "1230:\tlearn: 1.0857759\ttotal: 4.82s\tremaining: 10.8s\n",
            "1240:\tlearn: 1.0857267\ttotal: 4.86s\tremaining: 10.8s\n",
            "1250:\tlearn: 1.0856896\ttotal: 4.9s\tremaining: 10.8s\n",
            "1260:\tlearn: 1.0856387\ttotal: 4.94s\tremaining: 10.7s\n",
            "1270:\tlearn: 1.0855865\ttotal: 4.98s\tremaining: 10.7s\n",
            "1280:\tlearn: 1.0855296\ttotal: 5.02s\tremaining: 10.7s\n",
            "1290:\tlearn: 1.0854533\ttotal: 5.06s\tremaining: 10.6s\n",
            "1300:\tlearn: 1.0853968\ttotal: 5.1s\tremaining: 10.6s\n",
            "1310:\tlearn: 1.0853526\ttotal: 5.13s\tremaining: 10.5s\n",
            "1320:\tlearn: 1.0853025\ttotal: 5.17s\tremaining: 10.5s\n",
            "1330:\tlearn: 1.0852509\ttotal: 5.21s\tremaining: 10.5s\n",
            "1340:\tlearn: 1.0851767\ttotal: 5.26s\tremaining: 10.4s\n",
            "1350:\tlearn: 1.0851116\ttotal: 5.31s\tremaining: 10.4s\n",
            "1360:\tlearn: 1.0850586\ttotal: 5.35s\tremaining: 10.4s\n",
            "1370:\tlearn: 1.0850137\ttotal: 5.38s\tremaining: 10.3s\n",
            "1380:\tlearn: 1.0849648\ttotal: 5.42s\tremaining: 10.3s\n",
            "1390:\tlearn: 1.0849046\ttotal: 5.47s\tremaining: 10.3s\n",
            "1400:\tlearn: 1.0848567\ttotal: 5.5s\tremaining: 10.2s\n",
            "1410:\tlearn: 1.0848118\ttotal: 5.54s\tremaining: 10.2s\n",
            "1420:\tlearn: 1.0847366\ttotal: 5.58s\tremaining: 10.1s\n",
            "1430:\tlearn: 1.0846986\ttotal: 5.61s\tremaining: 10.1s\n",
            "1440:\tlearn: 1.0846378\ttotal: 5.65s\tremaining: 10s\n",
            "1450:\tlearn: 1.0845753\ttotal: 5.7s\tremaining: 10s\n",
            "1460:\tlearn: 1.0845224\ttotal: 5.74s\tremaining: 9.97s\n",
            "1470:\tlearn: 1.0844782\ttotal: 5.77s\tremaining: 9.93s\n",
            "1480:\tlearn: 1.0844453\ttotal: 5.81s\tremaining: 9.89s\n",
            "1490:\tlearn: 1.0843999\ttotal: 5.85s\tremaining: 9.85s\n",
            "1500:\tlearn: 1.0843573\ttotal: 5.89s\tremaining: 9.8s\n",
            "1510:\tlearn: 1.0842995\ttotal: 5.93s\tremaining: 9.77s\n",
            "1520:\tlearn: 1.0842487\ttotal: 5.97s\tremaining: 9.73s\n",
            "1530:\tlearn: 1.0842054\ttotal: 6.01s\tremaining: 9.7s\n",
            "1540:\tlearn: 1.0841483\ttotal: 6.05s\tremaining: 9.65s\n",
            "1550:\tlearn: 1.0841004\ttotal: 6.09s\tremaining: 9.61s\n",
            "1560:\tlearn: 1.0840513\ttotal: 6.12s\tremaining: 9.57s\n",
            "1570:\tlearn: 1.0839790\ttotal: 6.17s\tremaining: 9.54s\n",
            "1580:\tlearn: 1.0839336\ttotal: 6.22s\tremaining: 9.51s\n",
            "1590:\tlearn: 1.0838891\ttotal: 6.25s\tremaining: 9.46s\n",
            "1600:\tlearn: 1.0838357\ttotal: 6.29s\tremaining: 9.42s\n",
            "1610:\tlearn: 1.0837812\ttotal: 6.32s\tremaining: 9.38s\n",
            "1620:\tlearn: 1.0837252\ttotal: 6.36s\tremaining: 9.33s\n",
            "1630:\tlearn: 1.0836872\ttotal: 6.4s\tremaining: 9.29s\n",
            "1640:\tlearn: 1.0836444\ttotal: 6.43s\tremaining: 9.25s\n",
            "1650:\tlearn: 1.0835936\ttotal: 6.47s\tremaining: 9.2s\n",
            "1660:\tlearn: 1.0835551\ttotal: 6.5s\tremaining: 9.16s\n",
            "1670:\tlearn: 1.0835053\ttotal: 6.54s\tremaining: 9.12s\n",
            "1680:\tlearn: 1.0834566\ttotal: 6.58s\tremaining: 9.07s\n",
            "1690:\tlearn: 1.0834328\ttotal: 6.62s\tremaining: 9.04s\n",
            "1700:\tlearn: 1.0833797\ttotal: 6.66s\tremaining: 9.01s\n",
            "1710:\tlearn: 1.0833267\ttotal: 6.7s\tremaining: 8.96s\n",
            "1720:\tlearn: 1.0832874\ttotal: 6.74s\tremaining: 8.92s\n",
            "1730:\tlearn: 1.0832381\ttotal: 6.77s\tremaining: 8.88s\n",
            "1740:\tlearn: 1.0831904\ttotal: 6.83s\tremaining: 8.86s\n",
            "1750:\tlearn: 1.0831565\ttotal: 6.86s\tremaining: 8.81s\n",
            "1760:\tlearn: 1.0831064\ttotal: 6.9s\tremaining: 8.77s\n",
            "1770:\tlearn: 1.0830692\ttotal: 6.94s\tremaining: 8.73s\n",
            "1780:\tlearn: 1.0830221\ttotal: 6.97s\tremaining: 8.69s\n",
            "1790:\tlearn: 1.0829746\ttotal: 7.01s\tremaining: 8.65s\n",
            "1800:\tlearn: 1.0829353\ttotal: 7.05s\tremaining: 8.61s\n",
            "1810:\tlearn: 1.0828908\ttotal: 7.09s\tremaining: 8.57s\n",
            "1820:\tlearn: 1.0828509\ttotal: 7.13s\tremaining: 8.53s\n",
            "1830:\tlearn: 1.0828094\ttotal: 7.18s\tremaining: 8.5s\n",
            "1840:\tlearn: 1.0827799\ttotal: 7.23s\tremaining: 8.47s\n",
            "1850:\tlearn: 1.0827399\ttotal: 7.27s\tremaining: 8.44s\n",
            "1860:\tlearn: 1.0826942\ttotal: 7.3s\tremaining: 8.39s\n",
            "1870:\tlearn: 1.0826528\ttotal: 7.34s\tremaining: 8.35s\n",
            "1880:\tlearn: 1.0826113\ttotal: 7.38s\tremaining: 8.31s\n",
            "1890:\tlearn: 1.0825540\ttotal: 7.41s\tremaining: 8.27s\n",
            "1900:\tlearn: 1.0825171\ttotal: 7.45s\tremaining: 8.22s\n",
            "1910:\tlearn: 1.0824716\ttotal: 7.49s\tremaining: 8.19s\n",
            "1920:\tlearn: 1.0824185\ttotal: 7.53s\tremaining: 8.15s\n",
            "1930:\tlearn: 1.0823708\ttotal: 7.56s\tremaining: 8.1s\n",
            "1940:\tlearn: 1.0823241\ttotal: 7.6s\tremaining: 8.06s\n",
            "1950:\tlearn: 1.0822761\ttotal: 7.63s\tremaining: 8.01s\n",
            "1960:\tlearn: 1.0822311\ttotal: 7.67s\tremaining: 7.97s\n",
            "1970:\tlearn: 1.0821980\ttotal: 7.71s\tremaining: 7.94s\n",
            "1980:\tlearn: 1.0821739\ttotal: 7.75s\tremaining: 7.9s\n",
            "1990:\tlearn: 1.0821245\ttotal: 7.79s\tremaining: 7.86s\n",
            "2000:\tlearn: 1.0820796\ttotal: 7.82s\tremaining: 7.81s\n",
            "2010:\tlearn: 1.0820538\ttotal: 7.85s\tremaining: 7.77s\n",
            "2020:\tlearn: 1.0820176\ttotal: 7.89s\tremaining: 7.72s\n",
            "2030:\tlearn: 1.0819761\ttotal: 7.93s\tremaining: 7.69s\n",
            "2040:\tlearn: 1.0819459\ttotal: 7.97s\tremaining: 7.65s\n",
            "2050:\tlearn: 1.0819046\ttotal: 8s\tremaining: 7.6s\n",
            "2060:\tlearn: 1.0818669\ttotal: 8.04s\tremaining: 7.56s\n",
            "2070:\tlearn: 1.0818370\ttotal: 8.07s\tremaining: 7.52s\n",
            "2080:\tlearn: 1.0817957\ttotal: 8.11s\tremaining: 7.48s\n",
            "2090:\tlearn: 1.0817517\ttotal: 8.15s\tremaining: 7.44s\n",
            "2100:\tlearn: 1.0817027\ttotal: 8.2s\tremaining: 7.41s\n",
            "2110:\tlearn: 1.0816562\ttotal: 8.23s\tremaining: 7.37s\n",
            "2120:\tlearn: 1.0816171\ttotal: 8.27s\tremaining: 7.33s\n",
            "2130:\tlearn: 1.0815779\ttotal: 8.3s\tremaining: 7.28s\n",
            "2140:\tlearn: 1.0815386\ttotal: 8.34s\tremaining: 7.24s\n",
            "2150:\tlearn: 1.0814976\ttotal: 8.38s\tremaining: 7.21s\n",
            "2160:\tlearn: 1.0814603\ttotal: 8.42s\tremaining: 7.16s\n",
            "2170:\tlearn: 1.0814284\ttotal: 8.45s\tremaining: 7.12s\n",
            "2180:\tlearn: 1.0813867\ttotal: 8.48s\tremaining: 7.08s\n",
            "2190:\tlearn: 1.0813440\ttotal: 8.52s\tremaining: 7.04s\n",
            "2200:\tlearn: 1.0812985\ttotal: 8.56s\tremaining: 7s\n",
            "2210:\tlearn: 1.0812640\ttotal: 8.6s\tremaining: 6.96s\n",
            "2220:\tlearn: 1.0812364\ttotal: 8.64s\tremaining: 6.92s\n",
            "2230:\tlearn: 1.0811793\ttotal: 8.67s\tremaining: 6.88s\n",
            "2240:\tlearn: 1.0811305\ttotal: 8.71s\tremaining: 6.83s\n",
            "2250:\tlearn: 1.0810913\ttotal: 8.74s\tremaining: 6.79s\n",
            "2260:\tlearn: 1.0810458\ttotal: 8.78s\tremaining: 6.75s\n",
            "2270:\tlearn: 1.0810043\ttotal: 8.82s\tremaining: 6.71s\n",
            "2280:\tlearn: 1.0809739\ttotal: 8.85s\tremaining: 6.67s\n",
            "2290:\tlearn: 1.0809328\ttotal: 8.89s\tremaining: 6.63s\n",
            "2300:\tlearn: 1.0809051\ttotal: 8.92s\tremaining: 6.59s\n",
            "2310:\tlearn: 1.0808733\ttotal: 8.96s\tremaining: 6.55s\n",
            "2320:\tlearn: 1.0808436\ttotal: 9s\tremaining: 6.51s\n",
            "2330:\tlearn: 1.0808109\ttotal: 9.05s\tremaining: 6.48s\n",
            "2340:\tlearn: 1.0807654\ttotal: 9.09s\tremaining: 6.44s\n",
            "2350:\tlearn: 1.0807203\ttotal: 9.15s\tremaining: 6.42s\n",
            "2360:\tlearn: 1.0806893\ttotal: 9.19s\tremaining: 6.38s\n",
            "2370:\tlearn: 1.0806371\ttotal: 9.23s\tremaining: 6.34s\n",
            "2380:\tlearn: 1.0806007\ttotal: 9.28s\tremaining: 6.31s\n",
            "2390:\tlearn: 1.0805623\ttotal: 9.32s\tremaining: 6.27s\n",
            "2400:\tlearn: 1.0805361\ttotal: 9.35s\tremaining: 6.23s\n",
            "2410:\tlearn: 1.0804968\ttotal: 9.39s\tremaining: 6.19s\n",
            "2420:\tlearn: 1.0804593\ttotal: 9.43s\tremaining: 6.15s\n",
            "2430:\tlearn: 1.0804245\ttotal: 9.47s\tremaining: 6.11s\n",
            "2440:\tlearn: 1.0803860\ttotal: 9.51s\tremaining: 6.07s\n",
            "2450:\tlearn: 1.0803522\ttotal: 9.54s\tremaining: 6.03s\n",
            "2460:\tlearn: 1.0803210\ttotal: 9.58s\tremaining: 5.99s\n",
            "2470:\tlearn: 1.0802850\ttotal: 9.62s\tremaining: 5.95s\n",
            "2480:\tlearn: 1.0802513\ttotal: 9.65s\tremaining: 5.91s\n",
            "2490:\tlearn: 1.0802109\ttotal: 9.69s\tremaining: 5.87s\n",
            "2500:\tlearn: 1.0801644\ttotal: 9.74s\tremaining: 5.84s\n",
            "2510:\tlearn: 1.0801207\ttotal: 9.78s\tremaining: 5.8s\n",
            "2520:\tlearn: 1.0800760\ttotal: 9.81s\tremaining: 5.75s\n",
            "2530:\tlearn: 1.0800401\ttotal: 9.85s\tremaining: 5.71s\n",
            "2540:\tlearn: 1.0800067\ttotal: 9.88s\tremaining: 5.67s\n",
            "2550:\tlearn: 1.0799867\ttotal: 9.92s\tremaining: 5.63s\n",
            "2560:\tlearn: 1.0799511\ttotal: 9.96s\tremaining: 5.6s\n",
            "2570:\tlearn: 1.0799234\ttotal: 9.99s\tremaining: 5.55s\n",
            "2580:\tlearn: 1.0798842\ttotal: 10s\tremaining: 5.51s\n",
            "2590:\tlearn: 1.0798534\ttotal: 10.1s\tremaining: 5.47s\n",
            "2600:\tlearn: 1.0798251\ttotal: 10.1s\tremaining: 5.43s\n",
            "2610:\tlearn: 1.0797832\ttotal: 10.1s\tremaining: 5.39s\n",
            "2620:\tlearn: 1.0797506\ttotal: 10.2s\tremaining: 5.36s\n",
            "2630:\tlearn: 1.0797226\ttotal: 10.2s\tremaining: 5.32s\n",
            "2640:\tlearn: 1.0796920\ttotal: 10.3s\tremaining: 5.28s\n",
            "2650:\tlearn: 1.0796570\ttotal: 10.3s\tremaining: 5.24s\n",
            "2660:\tlearn: 1.0796215\ttotal: 10.3s\tremaining: 5.2s\n",
            "2670:\tlearn: 1.0795920\ttotal: 10.4s\tremaining: 5.16s\n",
            "2680:\tlearn: 1.0795621\ttotal: 10.4s\tremaining: 5.13s\n",
            "2690:\tlearn: 1.0795166\ttotal: 10.5s\tremaining: 5.09s\n",
            "2700:\tlearn: 1.0794876\ttotal: 10.5s\tremaining: 5.05s\n",
            "2710:\tlearn: 1.0794656\ttotal: 10.5s\tremaining: 5.01s\n",
            "2720:\tlearn: 1.0794305\ttotal: 10.6s\tremaining: 4.97s\n",
            "2730:\tlearn: 1.0793951\ttotal: 10.6s\tremaining: 4.93s\n",
            "2740:\tlearn: 1.0793636\ttotal: 10.7s\tremaining: 4.89s\n",
            "2750:\tlearn: 1.0793372\ttotal: 10.7s\tremaining: 4.85s\n",
            "2760:\tlearn: 1.0793055\ttotal: 10.7s\tremaining: 4.81s\n",
            "2770:\tlearn: 1.0792783\ttotal: 10.8s\tremaining: 4.77s\n",
            "2780:\tlearn: 1.0792551\ttotal: 10.8s\tremaining: 4.73s\n",
            "2790:\tlearn: 1.0792174\ttotal: 10.8s\tremaining: 4.69s\n",
            "2800:\tlearn: 1.0791906\ttotal: 10.9s\tremaining: 4.66s\n",
            "2810:\tlearn: 1.0791505\ttotal: 10.9s\tremaining: 4.62s\n",
            "2820:\tlearn: 1.0791119\ttotal: 11s\tremaining: 4.58s\n",
            "2830:\tlearn: 1.0790751\ttotal: 11s\tremaining: 4.54s\n",
            "2840:\tlearn: 1.0790390\ttotal: 11s\tremaining: 4.5s\n",
            "2850:\tlearn: 1.0789975\ttotal: 11.1s\tremaining: 4.46s\n",
            "2860:\tlearn: 1.0789646\ttotal: 11.1s\tremaining: 4.42s\n",
            "2870:\tlearn: 1.0789490\ttotal: 11.2s\tremaining: 4.39s\n",
            "2880:\tlearn: 1.0789091\ttotal: 11.2s\tremaining: 4.35s\n",
            "2890:\tlearn: 1.0788795\ttotal: 11.2s\tremaining: 4.31s\n",
            "2900:\tlearn: 1.0788357\ttotal: 11.3s\tremaining: 4.27s\n",
            "2910:\tlearn: 1.0787983\ttotal: 11.3s\tremaining: 4.23s\n",
            "2920:\tlearn: 1.0787509\ttotal: 11.4s\tremaining: 4.19s\n",
            "2930:\tlearn: 1.0787068\ttotal: 11.4s\tremaining: 4.15s\n",
            "2940:\tlearn: 1.0786782\ttotal: 11.4s\tremaining: 4.11s\n",
            "2950:\tlearn: 1.0786498\ttotal: 11.5s\tremaining: 4.07s\n",
            "2960:\tlearn: 1.0786198\ttotal: 11.5s\tremaining: 4.03s\n",
            "2970:\tlearn: 1.0786010\ttotal: 11.5s\tremaining: 4s\n",
            "2980:\tlearn: 1.0785606\ttotal: 11.6s\tremaining: 3.96s\n",
            "2990:\tlearn: 1.0785344\ttotal: 11.6s\tremaining: 3.92s\n",
            "3000:\tlearn: 1.0785073\ttotal: 11.6s\tremaining: 3.88s\n",
            "3010:\tlearn: 1.0784668\ttotal: 11.7s\tremaining: 3.84s\n",
            "3020:\tlearn: 1.0784358\ttotal: 11.7s\tremaining: 3.8s\n",
            "3030:\tlearn: 1.0784101\ttotal: 11.8s\tremaining: 3.76s\n",
            "3040:\tlearn: 1.0783848\ttotal: 11.8s\tremaining: 3.72s\n",
            "3050:\tlearn: 1.0783532\ttotal: 11.8s\tremaining: 3.68s\n",
            "3060:\tlearn: 1.0783246\ttotal: 11.9s\tremaining: 3.64s\n",
            "3070:\tlearn: 1.0783023\ttotal: 11.9s\tremaining: 3.6s\n",
            "3080:\tlearn: 1.0782758\ttotal: 12s\tremaining: 3.57s\n",
            "3090:\tlearn: 1.0782414\ttotal: 12s\tremaining: 3.53s\n",
            "3100:\tlearn: 1.0782100\ttotal: 12s\tremaining: 3.49s\n",
            "3110:\tlearn: 1.0781848\ttotal: 12.1s\tremaining: 3.45s\n",
            "3120:\tlearn: 1.0781578\ttotal: 12.1s\tremaining: 3.41s\n",
            "3130:\tlearn: 1.0781247\ttotal: 12.2s\tremaining: 3.38s\n",
            "3140:\tlearn: 1.0780955\ttotal: 12.2s\tremaining: 3.34s\n",
            "3150:\tlearn: 1.0780664\ttotal: 12.2s\tremaining: 3.3s\n",
            "3160:\tlearn: 1.0780333\ttotal: 12.3s\tremaining: 3.26s\n",
            "3170:\tlearn: 1.0779985\ttotal: 12.3s\tremaining: 3.22s\n",
            "3180:\tlearn: 1.0779644\ttotal: 12.4s\tremaining: 3.18s\n",
            "3190:\tlearn: 1.0779396\ttotal: 12.4s\tremaining: 3.14s\n",
            "3200:\tlearn: 1.0779131\ttotal: 12.4s\tremaining: 3.1s\n",
            "3210:\tlearn: 1.0778907\ttotal: 12.5s\tremaining: 3.07s\n",
            "3220:\tlearn: 1.0778530\ttotal: 12.5s\tremaining: 3.03s\n",
            "3230:\tlearn: 1.0778203\ttotal: 12.6s\tremaining: 2.99s\n",
            "3240:\tlearn: 1.0777900\ttotal: 12.6s\tremaining: 2.95s\n",
            "3250:\tlearn: 1.0777542\ttotal: 12.6s\tremaining: 2.91s\n",
            "3260:\tlearn: 1.0777170\ttotal: 12.7s\tremaining: 2.88s\n",
            "3270:\tlearn: 1.0776873\ttotal: 12.7s\tremaining: 2.84s\n",
            "3280:\tlearn: 1.0776559\ttotal: 12.8s\tremaining: 2.8s\n",
            "3290:\tlearn: 1.0776191\ttotal: 12.8s\tremaining: 2.76s\n",
            "3300:\tlearn: 1.0775806\ttotal: 12.9s\tremaining: 2.72s\n",
            "3310:\tlearn: 1.0775575\ttotal: 12.9s\tremaining: 2.68s\n",
            "3320:\tlearn: 1.0775259\ttotal: 12.9s\tremaining: 2.64s\n",
            "3330:\tlearn: 1.0774801\ttotal: 13s\tremaining: 2.6s\n",
            "3340:\tlearn: 1.0774497\ttotal: 13s\tremaining: 2.56s\n",
            "3350:\tlearn: 1.0774172\ttotal: 13s\tremaining: 2.53s\n",
            "3360:\tlearn: 1.0773884\ttotal: 13.1s\tremaining: 2.49s\n",
            "3370:\tlearn: 1.0773619\ttotal: 13.1s\tremaining: 2.45s\n",
            "3380:\tlearn: 1.0773306\ttotal: 13.2s\tremaining: 2.41s\n",
            "3390:\tlearn: 1.0772916\ttotal: 13.2s\tremaining: 2.37s\n",
            "3400:\tlearn: 1.0772550\ttotal: 13.2s\tremaining: 2.33s\n",
            "3410:\tlearn: 1.0772213\ttotal: 13.3s\tremaining: 2.29s\n",
            "3420:\tlearn: 1.0772016\ttotal: 13.3s\tremaining: 2.25s\n",
            "3430:\tlearn: 1.0771735\ttotal: 13.4s\tremaining: 2.21s\n",
            "3440:\tlearn: 1.0771300\ttotal: 13.4s\tremaining: 2.18s\n",
            "3450:\tlearn: 1.0771063\ttotal: 13.4s\tremaining: 2.14s\n",
            "3460:\tlearn: 1.0770732\ttotal: 13.5s\tremaining: 2.1s\n",
            "3470:\tlearn: 1.0770469\ttotal: 13.5s\tremaining: 2.06s\n",
            "3480:\tlearn: 1.0770233\ttotal: 13.5s\tremaining: 2.02s\n",
            "3490:\tlearn: 1.0769958\ttotal: 13.6s\tremaining: 1.98s\n",
            "3500:\tlearn: 1.0769776\ttotal: 13.6s\tremaining: 1.94s\n",
            "3510:\tlearn: 1.0769441\ttotal: 13.7s\tremaining: 1.9s\n",
            "3520:\tlearn: 1.0769108\ttotal: 13.7s\tremaining: 1.86s\n",
            "3530:\tlearn: 1.0768855\ttotal: 13.7s\tremaining: 1.82s\n",
            "3540:\tlearn: 1.0768436\ttotal: 13.8s\tremaining: 1.78s\n",
            "3550:\tlearn: 1.0768105\ttotal: 13.8s\tremaining: 1.75s\n",
            "3560:\tlearn: 1.0767742\ttotal: 13.9s\tremaining: 1.71s\n",
            "3570:\tlearn: 1.0767465\ttotal: 13.9s\tremaining: 1.67s\n",
            "3580:\tlearn: 1.0767079\ttotal: 13.9s\tremaining: 1.63s\n",
            "3590:\tlearn: 1.0766750\ttotal: 14s\tremaining: 1.59s\n",
            "3600:\tlearn: 1.0766489\ttotal: 14s\tremaining: 1.55s\n",
            "3610:\tlearn: 1.0766327\ttotal: 14s\tremaining: 1.51s\n",
            "3620:\tlearn: 1.0766064\ttotal: 14.1s\tremaining: 1.47s\n",
            "3630:\tlearn: 1.0765744\ttotal: 14.1s\tremaining: 1.44s\n",
            "3640:\tlearn: 1.0765487\ttotal: 14.2s\tremaining: 1.4s\n",
            "3650:\tlearn: 1.0765195\ttotal: 14.2s\tremaining: 1.36s\n",
            "3660:\tlearn: 1.0764881\ttotal: 14.3s\tremaining: 1.32s\n",
            "3670:\tlearn: 1.0764577\ttotal: 14.3s\tremaining: 1.28s\n",
            "3680:\tlearn: 1.0764214\ttotal: 14.3s\tremaining: 1.24s\n",
            "3690:\tlearn: 1.0763998\ttotal: 14.4s\tremaining: 1.2s\n",
            "3700:\tlearn: 1.0763649\ttotal: 14.4s\tremaining: 1.16s\n",
            "3710:\tlearn: 1.0763301\ttotal: 14.5s\tremaining: 1.13s\n",
            "3720:\tlearn: 1.0763000\ttotal: 14.5s\tremaining: 1.09s\n",
            "3730:\tlearn: 1.0762661\ttotal: 14.5s\tremaining: 1.05s\n",
            "3740:\tlearn: 1.0762417\ttotal: 14.6s\tremaining: 1.01s\n",
            "3750:\tlearn: 1.0762112\ttotal: 14.6s\tremaining: 970ms\n",
            "3760:\tlearn: 1.0761962\ttotal: 14.6s\tremaining: 931ms\n",
            "3770:\tlearn: 1.0761646\ttotal: 14.7s\tremaining: 892ms\n",
            "3780:\tlearn: 1.0761361\ttotal: 14.7s\tremaining: 853ms\n",
            "3790:\tlearn: 1.0761102\ttotal: 14.8s\tremaining: 814ms\n",
            "3800:\tlearn: 1.0760749\ttotal: 14.8s\tremaining: 775ms\n",
            "3810:\tlearn: 1.0760516\ttotal: 14.8s\tremaining: 736ms\n",
            "3820:\tlearn: 1.0760262\ttotal: 14.9s\tremaining: 697ms\n",
            "3830:\tlearn: 1.0759962\ttotal: 14.9s\tremaining: 659ms\n",
            "3840:\tlearn: 1.0759670\ttotal: 15s\tremaining: 620ms\n",
            "3850:\tlearn: 1.0759384\ttotal: 15s\tremaining: 581ms\n",
            "3860:\tlearn: 1.0759130\ttotal: 15s\tremaining: 542ms\n",
            "3870:\tlearn: 1.0758922\ttotal: 15.1s\tremaining: 503ms\n",
            "3880:\tlearn: 1.0758705\ttotal: 15.1s\tremaining: 464ms\n",
            "3890:\tlearn: 1.0758345\ttotal: 15.2s\tremaining: 425ms\n",
            "3900:\tlearn: 1.0757958\ttotal: 15.2s\tremaining: 386ms\n",
            "3910:\tlearn: 1.0757623\ttotal: 15.3s\tremaining: 347ms\n",
            "3920:\tlearn: 1.0757322\ttotal: 15.3s\tremaining: 308ms\n",
            "3930:\tlearn: 1.0757077\ttotal: 15.3s\tremaining: 269ms\n",
            "3940:\tlearn: 1.0756755\ttotal: 15.4s\tremaining: 230ms\n",
            "3950:\tlearn: 1.0756402\ttotal: 15.4s\tremaining: 191ms\n",
            "3960:\tlearn: 1.0756085\ttotal: 15.5s\tremaining: 152ms\n",
            "3970:\tlearn: 1.0755785\ttotal: 15.5s\tremaining: 113ms\n",
            "3980:\tlearn: 1.0755488\ttotal: 15.5s\tremaining: 74.2ms\n",
            "3990:\tlearn: 1.0755232\ttotal: 15.6s\tremaining: 35.2ms\n",
            "3999:\tlearn: 1.0755076\ttotal: 15.6s\tremaining: 0us\n",
            "Fold 9, Valid score = 1.08925\n"
          ],
          "name": "stdout"
        },
        {
          "output_type": "stream",
          "text": [
            "Warning: less than 75% gpu memory available for training. Free: 5249.75 Total: 16280.875\n"
          ],
          "name": "stderr"
        },
        {
          "output_type": "stream",
          "text": [
            "0:\tlearn: 1.3525829\ttotal: 5.25ms\tremaining: 21s\n",
            "10:\tlearn: 1.1882503\ttotal: 45.3ms\tremaining: 16.4s\n",
            "20:\tlearn: 1.1386321\ttotal: 93.6ms\tremaining: 17.7s\n",
            "30:\tlearn: 1.1210085\ttotal: 141ms\tremaining: 18s\n",
            "40:\tlearn: 1.1142556\ttotal: 182ms\tremaining: 17.6s\n",
            "50:\tlearn: 1.1113153\ttotal: 234ms\tremaining: 18.1s\n",
            "60:\tlearn: 1.1095372\ttotal: 272ms\tremaining: 17.5s\n",
            "70:\tlearn: 1.1081288\ttotal: 316ms\tremaining: 17.5s\n",
            "80:\tlearn: 1.1071547\ttotal: 354ms\tremaining: 17.1s\n",
            "90:\tlearn: 1.1061312\ttotal: 397ms\tremaining: 17.1s\n",
            "100:\tlearn: 1.1053105\ttotal: 443ms\tremaining: 17.1s\n",
            "110:\tlearn: 1.1046511\ttotal: 481ms\tremaining: 16.9s\n",
            "120:\tlearn: 1.1039643\ttotal: 519ms\tremaining: 16.6s\n",
            "130:\tlearn: 1.1034167\ttotal: 557ms\tremaining: 16.5s\n",
            "140:\tlearn: 1.1028699\ttotal: 595ms\tremaining: 16.3s\n",
            "150:\tlearn: 1.1024725\ttotal: 627ms\tremaining: 16s\n",
            "160:\tlearn: 1.1021838\ttotal: 676ms\tremaining: 16.1s\n",
            "170:\tlearn: 1.1016285\ttotal: 716ms\tremaining: 16s\n",
            "180:\tlearn: 1.1011353\ttotal: 754ms\tremaining: 15.9s\n",
            "190:\tlearn: 1.1006962\ttotal: 791ms\tremaining: 15.8s\n",
            "200:\tlearn: 1.1002515\ttotal: 828ms\tremaining: 15.6s\n",
            "210:\tlearn: 1.0998107\ttotal: 865ms\tremaining: 15.5s\n",
            "220:\tlearn: 1.0995130\ttotal: 910ms\tremaining: 15.6s\n",
            "230:\tlearn: 1.0992187\ttotal: 947ms\tremaining: 15.4s\n",
            "240:\tlearn: 1.0989665\ttotal: 983ms\tremaining: 15.3s\n",
            "250:\tlearn: 1.0986647\ttotal: 1.02s\tremaining: 15.3s\n",
            "260:\tlearn: 1.0982457\ttotal: 1.06s\tremaining: 15.2s\n",
            "270:\tlearn: 1.0978834\ttotal: 1.12s\tremaining: 15.5s\n",
            "280:\tlearn: 1.0975758\ttotal: 1.16s\tremaining: 15.4s\n",
            "290:\tlearn: 1.0972111\ttotal: 1.2s\tremaining: 15.3s\n",
            "300:\tlearn: 1.0968592\ttotal: 1.24s\tremaining: 15.2s\n",
            "310:\tlearn: 1.0965141\ttotal: 1.27s\tremaining: 15.1s\n",
            "320:\tlearn: 1.0962781\ttotal: 1.31s\tremaining: 15s\n",
            "330:\tlearn: 1.0959509\ttotal: 1.36s\tremaining: 15s\n",
            "340:\tlearn: 1.0956812\ttotal: 1.4s\tremaining: 15s\n",
            "350:\tlearn: 1.0954198\ttotal: 1.43s\tremaining: 14.9s\n",
            "360:\tlearn: 1.0951476\ttotal: 1.47s\tremaining: 14.9s\n",
            "370:\tlearn: 1.0948306\ttotal: 1.51s\tremaining: 14.8s\n",
            "380:\tlearn: 1.0945525\ttotal: 1.55s\tremaining: 14.7s\n",
            "390:\tlearn: 1.0942892\ttotal: 1.6s\tremaining: 14.7s\n",
            "400:\tlearn: 1.0941028\ttotal: 1.63s\tremaining: 14.7s\n",
            "410:\tlearn: 1.0938891\ttotal: 1.67s\tremaining: 14.6s\n",
            "420:\tlearn: 1.0936962\ttotal: 1.71s\tremaining: 14.5s\n",
            "430:\tlearn: 1.0935757\ttotal: 1.75s\tremaining: 14.5s\n",
            "440:\tlearn: 1.0933670\ttotal: 1.79s\tremaining: 14.4s\n",
            "450:\tlearn: 1.0931755\ttotal: 1.84s\tremaining: 14.4s\n",
            "460:\tlearn: 1.0929812\ttotal: 1.87s\tremaining: 14.4s\n",
            "470:\tlearn: 1.0928312\ttotal: 1.91s\tremaining: 14.3s\n",
            "480:\tlearn: 1.0926645\ttotal: 1.95s\tremaining: 14.3s\n",
            "490:\tlearn: 1.0924436\ttotal: 1.99s\tremaining: 14.2s\n",
            "500:\tlearn: 1.0922708\ttotal: 2.02s\tremaining: 14.1s\n",
            "510:\tlearn: 1.0921587\ttotal: 2.08s\tremaining: 14.2s\n",
            "520:\tlearn: 1.0919917\ttotal: 2.12s\tremaining: 14.1s\n",
            "530:\tlearn: 1.0918214\ttotal: 2.16s\tremaining: 14.1s\n",
            "540:\tlearn: 1.0916040\ttotal: 2.2s\tremaining: 14.1s\n",
            "550:\tlearn: 1.0914722\ttotal: 2.26s\tremaining: 14.1s\n",
            "560:\tlearn: 1.0913643\ttotal: 2.3s\tremaining: 14.1s\n",
            "570:\tlearn: 1.0911597\ttotal: 2.34s\tremaining: 14.1s\n",
            "580:\tlearn: 1.0910238\ttotal: 2.38s\tremaining: 14s\n",
            "590:\tlearn: 1.0909038\ttotal: 2.42s\tremaining: 13.9s\n",
            "600:\tlearn: 1.0907589\ttotal: 2.46s\tremaining: 13.9s\n",
            "610:\tlearn: 1.0905883\ttotal: 2.5s\tremaining: 13.8s\n",
            "620:\tlearn: 1.0904771\ttotal: 2.54s\tremaining: 13.8s\n",
            "630:\tlearn: 1.0903265\ttotal: 2.58s\tremaining: 13.8s\n",
            "640:\tlearn: 1.0902156\ttotal: 2.62s\tremaining: 13.7s\n",
            "650:\tlearn: 1.0900618\ttotal: 2.66s\tremaining: 13.7s\n",
            "660:\tlearn: 1.0899675\ttotal: 2.69s\tremaining: 13.6s\n",
            "670:\tlearn: 1.0898669\ttotal: 2.73s\tremaining: 13.5s\n",
            "680:\tlearn: 1.0897617\ttotal: 2.78s\tremaining: 13.5s\n",
            "690:\tlearn: 1.0896606\ttotal: 2.81s\tremaining: 13.5s\n",
            "700:\tlearn: 1.0895254\ttotal: 2.85s\tremaining: 13.4s\n",
            "710:\tlearn: 1.0893956\ttotal: 2.89s\tremaining: 13.4s\n",
            "720:\tlearn: 1.0892975\ttotal: 2.92s\tremaining: 13.3s\n",
            "730:\tlearn: 1.0892180\ttotal: 2.96s\tremaining: 13.3s\n",
            "740:\tlearn: 1.0891370\ttotal: 3.01s\tremaining: 13.2s\n",
            "750:\tlearn: 1.0890483\ttotal: 3.05s\tremaining: 13.2s\n",
            "760:\tlearn: 1.0889444\ttotal: 3.1s\tremaining: 13.2s\n",
            "770:\tlearn: 1.0888394\ttotal: 3.14s\tremaining: 13.1s\n",
            "780:\tlearn: 1.0887549\ttotal: 3.17s\tremaining: 13.1s\n",
            "790:\tlearn: 1.0886369\ttotal: 3.22s\tremaining: 13.1s\n",
            "800:\tlearn: 1.0885271\ttotal: 3.27s\tremaining: 13s\n",
            "810:\tlearn: 1.0884574\ttotal: 3.31s\tremaining: 13s\n",
            "820:\tlearn: 1.0883650\ttotal: 3.34s\tremaining: 13s\n",
            "830:\tlearn: 1.0882785\ttotal: 3.38s\tremaining: 12.9s\n",
            "840:\tlearn: 1.0881989\ttotal: 3.43s\tremaining: 12.9s\n",
            "850:\tlearn: 1.0881025\ttotal: 3.47s\tremaining: 12.8s\n",
            "860:\tlearn: 1.0880170\ttotal: 3.51s\tremaining: 12.8s\n",
            "870:\tlearn: 1.0879293\ttotal: 3.55s\tremaining: 12.7s\n",
            "880:\tlearn: 1.0878525\ttotal: 3.58s\tremaining: 12.7s\n",
            "890:\tlearn: 1.0877778\ttotal: 3.62s\tremaining: 12.6s\n",
            "900:\tlearn: 1.0876998\ttotal: 3.67s\tremaining: 12.6s\n",
            "910:\tlearn: 1.0876268\ttotal: 3.71s\tremaining: 12.6s\n",
            "920:\tlearn: 1.0875531\ttotal: 3.74s\tremaining: 12.5s\n",
            "930:\tlearn: 1.0874933\ttotal: 3.78s\tremaining: 12.5s\n",
            "940:\tlearn: 1.0874425\ttotal: 3.82s\tremaining: 12.4s\n",
            "950:\tlearn: 1.0873813\ttotal: 3.86s\tremaining: 12.4s\n",
            "960:\tlearn: 1.0872847\ttotal: 3.91s\tremaining: 12.4s\n",
            "970:\tlearn: 1.0872101\ttotal: 3.95s\tremaining: 12.3s\n",
            "980:\tlearn: 1.0871428\ttotal: 3.98s\tremaining: 12.3s\n",
            "990:\tlearn: 1.0870476\ttotal: 4.02s\tremaining: 12.2s\n",
            "1000:\tlearn: 1.0869693\ttotal: 4.07s\tremaining: 12.2s\n",
            "1010:\tlearn: 1.0868902\ttotal: 4.12s\tremaining: 12.2s\n",
            "1020:\tlearn: 1.0868203\ttotal: 4.16s\tremaining: 12.1s\n",
            "1030:\tlearn: 1.0867412\ttotal: 4.2s\tremaining: 12.1s\n",
            "1040:\tlearn: 1.0866680\ttotal: 4.24s\tremaining: 12s\n",
            "1050:\tlearn: 1.0865847\ttotal: 4.27s\tremaining: 12s\n",
            "1060:\tlearn: 1.0864926\ttotal: 4.31s\tremaining: 11.9s\n",
            "1070:\tlearn: 1.0864322\ttotal: 4.35s\tremaining: 11.9s\n",
            "1080:\tlearn: 1.0863729\ttotal: 4.39s\tremaining: 11.9s\n",
            "1090:\tlearn: 1.0862960\ttotal: 4.43s\tremaining: 11.8s\n",
            "1100:\tlearn: 1.0862372\ttotal: 4.47s\tremaining: 11.8s\n",
            "1110:\tlearn: 1.0861833\ttotal: 4.51s\tremaining: 11.7s\n",
            "1120:\tlearn: 1.0860950\ttotal: 4.55s\tremaining: 11.7s\n",
            "1130:\tlearn: 1.0860084\ttotal: 4.59s\tremaining: 11.7s\n",
            "1140:\tlearn: 1.0859424\ttotal: 4.63s\tremaining: 11.6s\n",
            "1150:\tlearn: 1.0858920\ttotal: 4.67s\tremaining: 11.5s\n",
            "1160:\tlearn: 1.0858391\ttotal: 4.7s\tremaining: 11.5s\n",
            "1170:\tlearn: 1.0857559\ttotal: 4.74s\tremaining: 11.4s\n",
            "1180:\tlearn: 1.0856913\ttotal: 4.78s\tremaining: 11.4s\n",
            "1190:\tlearn: 1.0856190\ttotal: 4.82s\tremaining: 11.4s\n",
            "1200:\tlearn: 1.0855610\ttotal: 4.86s\tremaining: 11.3s\n",
            "1210:\tlearn: 1.0855189\ttotal: 4.89s\tremaining: 11.3s\n",
            "1220:\tlearn: 1.0854579\ttotal: 4.93s\tremaining: 11.2s\n",
            "1230:\tlearn: 1.0854112\ttotal: 4.96s\tremaining: 11.2s\n",
            "1240:\tlearn: 1.0853491\ttotal: 5s\tremaining: 11.1s\n",
            "1250:\tlearn: 1.0852994\ttotal: 5.05s\tremaining: 11.1s\n",
            "1260:\tlearn: 1.0852477\ttotal: 5.09s\tremaining: 11.1s\n",
            "1270:\tlearn: 1.0852067\ttotal: 5.14s\tremaining: 11s\n",
            "1280:\tlearn: 1.0851538\ttotal: 5.18s\tremaining: 11s\n",
            "1290:\tlearn: 1.0851052\ttotal: 5.22s\tremaining: 10.9s\n",
            "1300:\tlearn: 1.0850408\ttotal: 5.26s\tremaining: 10.9s\n",
            "1310:\tlearn: 1.0849881\ttotal: 5.3s\tremaining: 10.9s\n",
            "1320:\tlearn: 1.0849342\ttotal: 5.33s\tremaining: 10.8s\n",
            "1330:\tlearn: 1.0848787\ttotal: 5.37s\tremaining: 10.8s\n",
            "1340:\tlearn: 1.0848158\ttotal: 5.41s\tremaining: 10.7s\n",
            "1350:\tlearn: 1.0847784\ttotal: 5.45s\tremaining: 10.7s\n",
            "1360:\tlearn: 1.0847261\ttotal: 5.5s\tremaining: 10.7s\n",
            "1370:\tlearn: 1.0846759\ttotal: 5.53s\tremaining: 10.6s\n",
            "1380:\tlearn: 1.0846021\ttotal: 5.58s\tremaining: 10.6s\n",
            "1390:\tlearn: 1.0845402\ttotal: 5.61s\tremaining: 10.5s\n",
            "1400:\tlearn: 1.0844865\ttotal: 5.65s\tremaining: 10.5s\n",
            "1410:\tlearn: 1.0844398\ttotal: 5.69s\tremaining: 10.4s\n",
            "1420:\tlearn: 1.0843948\ttotal: 5.73s\tremaining: 10.4s\n",
            "1430:\tlearn: 1.0843469\ttotal: 5.77s\tremaining: 10.4s\n",
            "1440:\tlearn: 1.0843067\ttotal: 5.8s\tremaining: 10.3s\n",
            "1450:\tlearn: 1.0842497\ttotal: 5.84s\tremaining: 10.3s\n",
            "1460:\tlearn: 1.0842022\ttotal: 5.88s\tremaining: 10.2s\n",
            "1470:\tlearn: 1.0841477\ttotal: 5.92s\tremaining: 10.2s\n",
            "1480:\tlearn: 1.0840956\ttotal: 5.96s\tremaining: 10.1s\n",
            "1490:\tlearn: 1.0840326\ttotal: 6s\tremaining: 10.1s\n",
            "1500:\tlearn: 1.0839845\ttotal: 6.03s\tremaining: 10s\n",
            "1510:\tlearn: 1.0839410\ttotal: 6.08s\tremaining: 10s\n",
            "1520:\tlearn: 1.0838865\ttotal: 6.12s\tremaining: 9.98s\n",
            "1530:\tlearn: 1.0838394\ttotal: 6.17s\tremaining: 9.95s\n",
            "1540:\tlearn: 1.0837954\ttotal: 6.2s\tremaining: 9.9s\n",
            "1550:\tlearn: 1.0837503\ttotal: 6.25s\tremaining: 9.86s\n",
            "1560:\tlearn: 1.0837025\ttotal: 6.28s\tremaining: 9.82s\n",
            "1570:\tlearn: 1.0836702\ttotal: 6.32s\tremaining: 9.77s\n",
            "1580:\tlearn: 1.0836093\ttotal: 6.36s\tremaining: 9.73s\n",
            "1590:\tlearn: 1.0835658\ttotal: 6.4s\tremaining: 9.69s\n",
            "1600:\tlearn: 1.0835089\ttotal: 6.44s\tremaining: 9.65s\n",
            "1610:\tlearn: 1.0834556\ttotal: 6.48s\tremaining: 9.61s\n",
            "1620:\tlearn: 1.0833956\ttotal: 6.51s\tremaining: 9.56s\n",
            "1630:\tlearn: 1.0833655\ttotal: 6.55s\tremaining: 9.52s\n",
            "1640:\tlearn: 1.0833104\ttotal: 6.59s\tremaining: 9.47s\n",
            "1650:\tlearn: 1.0832597\ttotal: 6.63s\tremaining: 9.44s\n",
            "1660:\tlearn: 1.0832100\ttotal: 6.67s\tremaining: 9.39s\n",
            "1670:\tlearn: 1.0831634\ttotal: 6.71s\tremaining: 9.35s\n",
            "1680:\tlearn: 1.0831156\ttotal: 6.74s\tremaining: 9.3s\n",
            "1690:\tlearn: 1.0830766\ttotal: 6.78s\tremaining: 9.26s\n",
            "1700:\tlearn: 1.0830247\ttotal: 6.82s\tremaining: 9.21s\n",
            "1710:\tlearn: 1.0829875\ttotal: 6.86s\tremaining: 9.18s\n",
            "1720:\tlearn: 1.0829469\ttotal: 6.9s\tremaining: 9.13s\n",
            "1730:\tlearn: 1.0828976\ttotal: 6.93s\tremaining: 9.09s\n",
            "1740:\tlearn: 1.0828324\ttotal: 6.97s\tremaining: 9.05s\n",
            "1750:\tlearn: 1.0827752\ttotal: 7.01s\tremaining: 9s\n",
            "1760:\tlearn: 1.0827393\ttotal: 7.07s\tremaining: 8.99s\n",
            "1770:\tlearn: 1.0826880\ttotal: 7.1s\tremaining: 8.94s\n",
            "1780:\tlearn: 1.0826424\ttotal: 7.15s\tremaining: 8.91s\n",
            "1790:\tlearn: 1.0825909\ttotal: 7.19s\tremaining: 8.86s\n",
            "1800:\tlearn: 1.0825539\ttotal: 7.22s\tremaining: 8.82s\n",
            "1810:\tlearn: 1.0825097\ttotal: 7.26s\tremaining: 8.77s\n",
            "1820:\tlearn: 1.0824681\ttotal: 7.3s\tremaining: 8.74s\n",
            "1830:\tlearn: 1.0824209\ttotal: 7.34s\tremaining: 8.7s\n",
            "1840:\tlearn: 1.0823798\ttotal: 7.38s\tremaining: 8.65s\n",
            "1850:\tlearn: 1.0823340\ttotal: 7.42s\tremaining: 8.61s\n",
            "1860:\tlearn: 1.0822792\ttotal: 7.45s\tremaining: 8.57s\n",
            "1870:\tlearn: 1.0822237\ttotal: 7.49s\tremaining: 8.52s\n",
            "1880:\tlearn: 1.0821814\ttotal: 7.54s\tremaining: 8.49s\n",
            "1890:\tlearn: 1.0821294\ttotal: 7.57s\tremaining: 8.45s\n",
            "1900:\tlearn: 1.0820753\ttotal: 7.61s\tremaining: 8.4s\n",
            "1910:\tlearn: 1.0820512\ttotal: 7.64s\tremaining: 8.36s\n",
            "1920:\tlearn: 1.0819997\ttotal: 7.69s\tremaining: 8.32s\n",
            "1930:\tlearn: 1.0819565\ttotal: 7.72s\tremaining: 8.28s\n",
            "1940:\tlearn: 1.0819179\ttotal: 7.77s\tremaining: 8.24s\n",
            "1950:\tlearn: 1.0818933\ttotal: 7.81s\tremaining: 8.2s\n",
            "1960:\tlearn: 1.0818602\ttotal: 7.84s\tremaining: 8.16s\n",
            "1970:\tlearn: 1.0818291\ttotal: 7.88s\tremaining: 8.11s\n",
            "1980:\tlearn: 1.0817799\ttotal: 7.92s\tremaining: 8.07s\n",
            "1990:\tlearn: 1.0817392\ttotal: 7.95s\tremaining: 8.03s\n",
            "2000:\tlearn: 1.0817010\ttotal: 8s\tremaining: 7.99s\n",
            "2010:\tlearn: 1.0816687\ttotal: 8.04s\tremaining: 7.95s\n",
            "2020:\tlearn: 1.0816216\ttotal: 8.09s\tremaining: 7.92s\n",
            "2030:\tlearn: 1.0815850\ttotal: 8.15s\tremaining: 7.9s\n",
            "2040:\tlearn: 1.0815389\ttotal: 8.19s\tremaining: 7.86s\n",
            "2050:\tlearn: 1.0814952\ttotal: 8.23s\tremaining: 7.82s\n",
            "2060:\tlearn: 1.0814574\ttotal: 8.27s\tremaining: 7.78s\n",
            "2070:\tlearn: 1.0814222\ttotal: 8.3s\tremaining: 7.73s\n",
            "2080:\tlearn: 1.0813905\ttotal: 8.34s\tremaining: 7.69s\n",
            "2090:\tlearn: 1.0813462\ttotal: 8.38s\tremaining: 7.65s\n",
            "2100:\tlearn: 1.0813044\ttotal: 8.42s\tremaining: 7.61s\n",
            "2110:\tlearn: 1.0812691\ttotal: 8.46s\tremaining: 7.57s\n",
            "2120:\tlearn: 1.0812274\ttotal: 8.5s\tremaining: 7.53s\n",
            "2130:\tlearn: 1.0811931\ttotal: 8.54s\tremaining: 7.49s\n",
            "2140:\tlearn: 1.0811487\ttotal: 8.57s\tremaining: 7.44s\n",
            "2150:\tlearn: 1.0811139\ttotal: 8.61s\tremaining: 7.4s\n",
            "2160:\tlearn: 1.0810787\ttotal: 8.67s\tremaining: 7.38s\n",
            "2170:\tlearn: 1.0810480\ttotal: 8.7s\tremaining: 7.33s\n",
            "2180:\tlearn: 1.0810091\ttotal: 8.74s\tremaining: 7.29s\n",
            "2190:\tlearn: 1.0809746\ttotal: 8.78s\tremaining: 7.25s\n",
            "2200:\tlearn: 1.0809423\ttotal: 8.81s\tremaining: 7.2s\n",
            "2210:\tlearn: 1.0808976\ttotal: 8.85s\tremaining: 7.16s\n",
            "2220:\tlearn: 1.0808571\ttotal: 8.9s\tremaining: 7.13s\n",
            "2230:\tlearn: 1.0808192\ttotal: 8.94s\tremaining: 7.08s\n",
            "2240:\tlearn: 1.0807732\ttotal: 8.97s\tremaining: 7.04s\n",
            "2250:\tlearn: 1.0807374\ttotal: 9.01s\tremaining: 7s\n",
            "2260:\tlearn: 1.0807004\ttotal: 9.06s\tremaining: 6.97s\n",
            "2270:\tlearn: 1.0806512\ttotal: 9.11s\tremaining: 6.93s\n",
            "2280:\tlearn: 1.0806071\ttotal: 9.14s\tremaining: 6.89s\n",
            "2290:\tlearn: 1.0805771\ttotal: 9.18s\tremaining: 6.85s\n",
            "2300:\tlearn: 1.0805375\ttotal: 9.21s\tremaining: 6.8s\n",
            "2310:\tlearn: 1.0804955\ttotal: 9.25s\tremaining: 6.76s\n",
            "2320:\tlearn: 1.0804570\ttotal: 9.29s\tremaining: 6.72s\n",
            "2330:\tlearn: 1.0804194\ttotal: 9.33s\tremaining: 6.68s\n",
            "2340:\tlearn: 1.0803728\ttotal: 9.37s\tremaining: 6.64s\n",
            "2350:\tlearn: 1.0803437\ttotal: 9.4s\tremaining: 6.59s\n",
            "2360:\tlearn: 1.0803165\ttotal: 9.44s\tremaining: 6.55s\n",
            "2370:\tlearn: 1.0802849\ttotal: 9.48s\tremaining: 6.51s\n",
            "2380:\tlearn: 1.0802525\ttotal: 9.51s\tremaining: 6.47s\n",
            "2390:\tlearn: 1.0802247\ttotal: 9.56s\tremaining: 6.43s\n",
            "2400:\tlearn: 1.0801899\ttotal: 9.59s\tremaining: 6.39s\n",
            "2410:\tlearn: 1.0801641\ttotal: 9.64s\tremaining: 6.35s\n",
            "2420:\tlearn: 1.0801220\ttotal: 9.67s\tremaining: 6.31s\n",
            "2430:\tlearn: 1.0800896\ttotal: 9.71s\tremaining: 6.27s\n",
            "2440:\tlearn: 1.0800615\ttotal: 9.74s\tremaining: 6.22s\n",
            "2450:\tlearn: 1.0800275\ttotal: 9.8s\tremaining: 6.19s\n",
            "2460:\tlearn: 1.0799936\ttotal: 9.84s\tremaining: 6.15s\n",
            "2470:\tlearn: 1.0799469\ttotal: 9.88s\tremaining: 6.11s\n",
            "2480:\tlearn: 1.0799140\ttotal: 9.91s\tremaining: 6.07s\n",
            "2490:\tlearn: 1.0798755\ttotal: 9.95s\tremaining: 6.03s\n",
            "2500:\tlearn: 1.0798429\ttotal: 9.99s\tremaining: 5.99s\n",
            "2510:\tlearn: 1.0798057\ttotal: 10s\tremaining: 5.95s\n",
            "2520:\tlearn: 1.0797585\ttotal: 10.1s\tremaining: 5.91s\n",
            "2530:\tlearn: 1.0797355\ttotal: 10.1s\tremaining: 5.87s\n",
            "2540:\tlearn: 1.0797102\ttotal: 10.1s\tremaining: 5.83s\n",
            "2550:\tlearn: 1.0796710\ttotal: 10.2s\tremaining: 5.79s\n",
            "2560:\tlearn: 1.0796352\ttotal: 10.2s\tremaining: 5.75s\n",
            "2570:\tlearn: 1.0796093\ttotal: 10.3s\tremaining: 5.71s\n",
            "2580:\tlearn: 1.0795786\ttotal: 10.3s\tremaining: 5.67s\n",
            "2590:\tlearn: 1.0795275\ttotal: 10.3s\tremaining: 5.63s\n",
            "2600:\tlearn: 1.0795020\ttotal: 10.4s\tremaining: 5.58s\n",
            "2610:\tlearn: 1.0794628\ttotal: 10.4s\tremaining: 5.54s\n",
            "2620:\tlearn: 1.0794203\ttotal: 10.5s\tremaining: 5.51s\n",
            "2630:\tlearn: 1.0793799\ttotal: 10.5s\tremaining: 5.47s\n",
            "2640:\tlearn: 1.0793325\ttotal: 10.5s\tremaining: 5.42s\n",
            "2650:\tlearn: 1.0792873\ttotal: 10.6s\tremaining: 5.38s\n",
            "2660:\tlearn: 1.0792554\ttotal: 10.6s\tremaining: 5.34s\n",
            "2670:\tlearn: 1.0792195\ttotal: 10.7s\tremaining: 5.3s\n",
            "2680:\tlearn: 1.0791811\ttotal: 10.7s\tremaining: 5.26s\n",
            "2690:\tlearn: 1.0791400\ttotal: 10.7s\tremaining: 5.22s\n",
            "2700:\tlearn: 1.0791096\ttotal: 10.8s\tremaining: 5.18s\n",
            "2710:\tlearn: 1.0790812\ttotal: 10.8s\tremaining: 5.14s\n",
            "2720:\tlearn: 1.0790597\ttotal: 10.8s\tremaining: 5.1s\n",
            "2730:\tlearn: 1.0790268\ttotal: 10.9s\tremaining: 5.06s\n",
            "2740:\tlearn: 1.0790021\ttotal: 10.9s\tremaining: 5.02s\n",
            "2750:\tlearn: 1.0789851\ttotal: 11s\tremaining: 4.98s\n",
            "2760:\tlearn: 1.0789527\ttotal: 11s\tremaining: 4.94s\n",
            "2770:\tlearn: 1.0789117\ttotal: 11.1s\tremaining: 4.9s\n",
            "2780:\tlearn: 1.0788680\ttotal: 11.1s\tremaining: 4.86s\n",
            "2790:\tlearn: 1.0788313\ttotal: 11.1s\tremaining: 4.82s\n",
            "2800:\tlearn: 1.0787938\ttotal: 11.2s\tremaining: 4.78s\n",
            "2810:\tlearn: 1.0787674\ttotal: 11.2s\tremaining: 4.74s\n",
            "2820:\tlearn: 1.0787420\ttotal: 11.2s\tremaining: 4.7s\n",
            "2830:\tlearn: 1.0787008\ttotal: 11.3s\tremaining: 4.66s\n",
            "2840:\tlearn: 1.0786670\ttotal: 11.3s\tremaining: 4.62s\n",
            "2850:\tlearn: 1.0786385\ttotal: 11.4s\tremaining: 4.59s\n",
            "2860:\tlearn: 1.0785993\ttotal: 11.4s\tremaining: 4.55s\n",
            "2870:\tlearn: 1.0785719\ttotal: 11.5s\tremaining: 4.51s\n",
            "2880:\tlearn: 1.0785400\ttotal: 11.5s\tremaining: 4.46s\n",
            "2890:\tlearn: 1.0785075\ttotal: 11.5s\tremaining: 4.42s\n",
            "2900:\tlearn: 1.0784805\ttotal: 11.6s\tremaining: 4.38s\n",
            "2910:\tlearn: 1.0784508\ttotal: 11.6s\tremaining: 4.34s\n",
            "2920:\tlearn: 1.0784212\ttotal: 11.7s\tremaining: 4.3s\n",
            "2930:\tlearn: 1.0783758\ttotal: 11.7s\tremaining: 4.26s\n",
            "2940:\tlearn: 1.0783369\ttotal: 11.7s\tremaining: 4.22s\n",
            "2950:\tlearn: 1.0783075\ttotal: 11.8s\tremaining: 4.18s\n",
            "2960:\tlearn: 1.0782844\ttotal: 11.8s\tremaining: 4.14s\n",
            "2970:\tlearn: 1.0782450\ttotal: 11.8s\tremaining: 4.1s\n",
            "2980:\tlearn: 1.0782118\ttotal: 11.9s\tremaining: 4.06s\n",
            "2990:\tlearn: 1.0781764\ttotal: 11.9s\tremaining: 4.02s\n",
            "3000:\tlearn: 1.0781345\ttotal: 12s\tremaining: 3.98s\n",
            "3010:\tlearn: 1.0781160\ttotal: 12s\tremaining: 3.94s\n",
            "3020:\tlearn: 1.0780917\ttotal: 12.1s\tremaining: 3.9s\n",
            "3030:\tlearn: 1.0780507\ttotal: 12.1s\tremaining: 3.86s\n",
            "3040:\tlearn: 1.0780127\ttotal: 12.1s\tremaining: 3.82s\n",
            "3050:\tlearn: 1.0779882\ttotal: 12.2s\tremaining: 3.78s\n",
            "3060:\tlearn: 1.0779628\ttotal: 12.2s\tremaining: 3.74s\n",
            "3070:\tlearn: 1.0779315\ttotal: 12.2s\tremaining: 3.7s\n",
            "3080:\tlearn: 1.0779071\ttotal: 12.3s\tremaining: 3.67s\n",
            "3090:\tlearn: 1.0778696\ttotal: 12.3s\tremaining: 3.62s\n",
            "3100:\tlearn: 1.0778293\ttotal: 12.4s\tremaining: 3.58s\n",
            "3110:\tlearn: 1.0778135\ttotal: 12.4s\tremaining: 3.54s\n",
            "3120:\tlearn: 1.0777765\ttotal: 12.4s\tremaining: 3.5s\n",
            "3130:\tlearn: 1.0777415\ttotal: 12.5s\tremaining: 3.46s\n",
            "3140:\tlearn: 1.0777183\ttotal: 12.5s\tremaining: 3.42s\n",
            "3150:\tlearn: 1.0776930\ttotal: 12.6s\tremaining: 3.38s\n",
            "3160:\tlearn: 1.0776701\ttotal: 12.6s\tremaining: 3.34s\n",
            "3170:\tlearn: 1.0776512\ttotal: 12.6s\tremaining: 3.3s\n",
            "3180:\tlearn: 1.0776229\ttotal: 12.7s\tremaining: 3.26s\n",
            "3190:\tlearn: 1.0775873\ttotal: 12.7s\tremaining: 3.22s\n",
            "3200:\tlearn: 1.0775467\ttotal: 12.7s\tremaining: 3.18s\n",
            "3210:\tlearn: 1.0775175\ttotal: 12.8s\tremaining: 3.14s\n",
            "3220:\tlearn: 1.0774923\ttotal: 12.8s\tremaining: 3.1s\n",
            "3230:\tlearn: 1.0774670\ttotal: 12.9s\tremaining: 3.06s\n",
            "3240:\tlearn: 1.0774395\ttotal: 12.9s\tremaining: 3.02s\n",
            "3250:\tlearn: 1.0774148\ttotal: 12.9s\tremaining: 2.98s\n",
            "3260:\tlearn: 1.0773905\ttotal: 13s\tremaining: 2.94s\n",
            "3270:\tlearn: 1.0773541\ttotal: 13s\tremaining: 2.9s\n",
            "3280:\tlearn: 1.0773346\ttotal: 13.1s\tremaining: 2.86s\n",
            "3290:\tlearn: 1.0773028\ttotal: 13.1s\tremaining: 2.82s\n",
            "3300:\tlearn: 1.0772702\ttotal: 13.1s\tremaining: 2.78s\n",
            "3310:\tlearn: 1.0772529\ttotal: 13.2s\tremaining: 2.74s\n",
            "3320:\tlearn: 1.0772045\ttotal: 13.2s\tremaining: 2.7s\n",
            "3330:\tlearn: 1.0771738\ttotal: 13.2s\tremaining: 2.66s\n",
            "3340:\tlearn: 1.0771380\ttotal: 13.3s\tremaining: 2.62s\n",
            "3350:\tlearn: 1.0770949\ttotal: 13.3s\tremaining: 2.58s\n",
            "3360:\tlearn: 1.0770568\ttotal: 13.4s\tremaining: 2.54s\n",
            "3370:\tlearn: 1.0770355\ttotal: 13.4s\tremaining: 2.5s\n",
            "3380:\tlearn: 1.0770052\ttotal: 13.5s\tremaining: 2.46s\n",
            "3390:\tlearn: 1.0769750\ttotal: 13.5s\tremaining: 2.42s\n",
            "3400:\tlearn: 1.0769481\ttotal: 13.5s\tremaining: 2.38s\n",
            "3410:\tlearn: 1.0769224\ttotal: 13.6s\tremaining: 2.35s\n",
            "3420:\tlearn: 1.0768936\ttotal: 13.6s\tremaining: 2.3s\n",
            "3430:\tlearn: 1.0768627\ttotal: 13.7s\tremaining: 2.27s\n",
            "3440:\tlearn: 1.0768327\ttotal: 13.7s\tremaining: 2.23s\n",
            "3450:\tlearn: 1.0768017\ttotal: 13.7s\tremaining: 2.19s\n",
            "3460:\tlearn: 1.0767788\ttotal: 13.8s\tremaining: 2.14s\n",
            "3470:\tlearn: 1.0767543\ttotal: 13.8s\tremaining: 2.1s\n",
            "3480:\tlearn: 1.0767292\ttotal: 13.8s\tremaining: 2.06s\n",
            "3490:\tlearn: 1.0766960\ttotal: 13.9s\tremaining: 2.02s\n",
            "3500:\tlearn: 1.0766660\ttotal: 13.9s\tremaining: 1.99s\n",
            "3510:\tlearn: 1.0766280\ttotal: 14s\tremaining: 1.95s\n",
            "3520:\tlearn: 1.0765995\ttotal: 14s\tremaining: 1.91s\n",
            "3530:\tlearn: 1.0765561\ttotal: 14.1s\tremaining: 1.87s\n",
            "3540:\tlearn: 1.0765305\ttotal: 14.1s\tremaining: 1.83s\n",
            "3550:\tlearn: 1.0764961\ttotal: 14.1s\tremaining: 1.79s\n",
            "3560:\tlearn: 1.0764743\ttotal: 14.2s\tremaining: 1.75s\n",
            "3570:\tlearn: 1.0764404\ttotal: 14.2s\tremaining: 1.71s\n",
            "3580:\tlearn: 1.0764107\ttotal: 14.3s\tremaining: 1.67s\n",
            "3590:\tlearn: 1.0763835\ttotal: 14.3s\tremaining: 1.63s\n",
            "3600:\tlearn: 1.0763464\ttotal: 14.3s\tremaining: 1.59s\n",
            "3610:\tlearn: 1.0763110\ttotal: 14.4s\tremaining: 1.55s\n",
            "3620:\tlearn: 1.0762746\ttotal: 14.4s\tremaining: 1.51s\n",
            "3630:\tlearn: 1.0762417\ttotal: 14.5s\tremaining: 1.47s\n",
            "3640:\tlearn: 1.0762133\ttotal: 14.5s\tremaining: 1.43s\n",
            "3650:\tlearn: 1.0761797\ttotal: 14.5s\tremaining: 1.39s\n",
            "3660:\tlearn: 1.0761490\ttotal: 14.6s\tremaining: 1.35s\n",
            "3670:\tlearn: 1.0761260\ttotal: 14.6s\tremaining: 1.31s\n",
            "3680:\tlearn: 1.0760870\ttotal: 14.7s\tremaining: 1.27s\n",
            "3690:\tlearn: 1.0760579\ttotal: 14.7s\tremaining: 1.23s\n",
            "3700:\tlearn: 1.0760379\ttotal: 14.7s\tremaining: 1.19s\n",
            "3710:\tlearn: 1.0760047\ttotal: 14.8s\tremaining: 1.15s\n",
            "3720:\tlearn: 1.0759859\ttotal: 14.8s\tremaining: 1.11s\n",
            "3730:\tlearn: 1.0759589\ttotal: 14.8s\tremaining: 1.07s\n",
            "3740:\tlearn: 1.0759300\ttotal: 14.9s\tremaining: 1.03s\n",
            "3750:\tlearn: 1.0759055\ttotal: 14.9s\tremaining: 991ms\n",
            "3760:\tlearn: 1.0758718\ttotal: 15s\tremaining: 951ms\n",
            "3770:\tlearn: 1.0758397\ttotal: 15s\tremaining: 911ms\n",
            "3780:\tlearn: 1.0758091\ttotal: 15.1s\tremaining: 872ms\n",
            "3790:\tlearn: 1.0757869\ttotal: 15.1s\tremaining: 832ms\n",
            "3800:\tlearn: 1.0757587\ttotal: 15.1s\tremaining: 792ms\n",
            "3810:\tlearn: 1.0757273\ttotal: 15.2s\tremaining: 752ms\n",
            "3820:\tlearn: 1.0756973\ttotal: 15.2s\tremaining: 712ms\n",
            "3830:\tlearn: 1.0756600\ttotal: 15.3s\tremaining: 673ms\n",
            "3840:\tlearn: 1.0756356\ttotal: 15.3s\tremaining: 633ms\n",
            "3850:\tlearn: 1.0756137\ttotal: 15.3s\tremaining: 593ms\n",
            "3860:\tlearn: 1.0755932\ttotal: 15.4s\tremaining: 553ms\n",
            "3870:\tlearn: 1.0755715\ttotal: 15.4s\tremaining: 513ms\n",
            "3880:\tlearn: 1.0755327\ttotal: 15.4s\tremaining: 473ms\n",
            "3890:\tlearn: 1.0755015\ttotal: 15.5s\tremaining: 434ms\n",
            "3900:\tlearn: 1.0754743\ttotal: 15.5s\tremaining: 394ms\n",
            "3910:\tlearn: 1.0754468\ttotal: 15.6s\tremaining: 354ms\n",
            "3920:\tlearn: 1.0754226\ttotal: 15.6s\tremaining: 314ms\n",
            "3930:\tlearn: 1.0753887\ttotal: 15.6s\tremaining: 275ms\n",
            "3940:\tlearn: 1.0753684\ttotal: 15.7s\tremaining: 235ms\n",
            "3950:\tlearn: 1.0753281\ttotal: 15.7s\tremaining: 195ms\n",
            "3960:\tlearn: 1.0752913\ttotal: 15.8s\tremaining: 155ms\n",
            "3970:\tlearn: 1.0752636\ttotal: 15.8s\tremaining: 115ms\n",
            "3980:\tlearn: 1.0752397\ttotal: 15.8s\tremaining: 75.6ms\n",
            "3990:\tlearn: 1.0752133\ttotal: 15.9s\tremaining: 35.8ms\n",
            "3999:\tlearn: 1.0751989\ttotal: 15.9s\tremaining: 0us\n",
            "Fold 10, Valid score = 1.09327\n"
          ],
          "name": "stdout"
        },
        {
          "output_type": "stream",
          "text": [
            "Warning: less than 75% gpu memory available for training. Free: 5249.75 Total: 16280.875\n"
          ],
          "name": "stderr"
        },
        {
          "output_type": "stream",
          "text": [
            "0:\tlearn: 1.3525642\ttotal: 4.71ms\tremaining: 18.9s\n",
            "10:\tlearn: 1.1885605\ttotal: 40.3ms\tremaining: 14.6s\n",
            "20:\tlearn: 1.1388795\ttotal: 75.7ms\tremaining: 14.3s\n",
            "30:\tlearn: 1.1212410\ttotal: 111ms\tremaining: 14.2s\n",
            "40:\tlearn: 1.1145551\ttotal: 156ms\tremaining: 15s\n",
            "50:\tlearn: 1.1115610\ttotal: 191ms\tremaining: 14.8s\n",
            "60:\tlearn: 1.1098745\ttotal: 234ms\tremaining: 15.1s\n",
            "70:\tlearn: 1.1085350\ttotal: 269ms\tremaining: 14.9s\n",
            "80:\tlearn: 1.1075906\ttotal: 309ms\tremaining: 15s\n",
            "90:\tlearn: 1.1066313\ttotal: 346ms\tremaining: 14.9s\n",
            "100:\tlearn: 1.1057821\ttotal: 381ms\tremaining: 14.7s\n",
            "110:\tlearn: 1.1050293\ttotal: 416ms\tremaining: 14.6s\n",
            "120:\tlearn: 1.1043215\ttotal: 459ms\tremaining: 14.7s\n",
            "130:\tlearn: 1.1037031\ttotal: 494ms\tremaining: 14.6s\n",
            "140:\tlearn: 1.1032828\ttotal: 526ms\tremaining: 14.4s\n",
            "150:\tlearn: 1.1027404\ttotal: 559ms\tremaining: 14.3s\n",
            "160:\tlearn: 1.1022827\ttotal: 596ms\tremaining: 14.2s\n",
            "170:\tlearn: 1.1018391\ttotal: 641ms\tremaining: 14.3s\n",
            "180:\tlearn: 1.1013502\ttotal: 674ms\tremaining: 14.2s\n",
            "190:\tlearn: 1.1008491\ttotal: 709ms\tremaining: 14.1s\n",
            "200:\tlearn: 1.1004872\ttotal: 743ms\tremaining: 14s\n",
            "210:\tlearn: 1.1001151\ttotal: 786ms\tremaining: 14.1s\n",
            "220:\tlearn: 1.0997599\ttotal: 829ms\tremaining: 14.2s\n",
            "230:\tlearn: 1.0994184\ttotal: 877ms\tremaining: 14.3s\n",
            "240:\tlearn: 1.0990544\ttotal: 915ms\tremaining: 14.3s\n",
            "250:\tlearn: 1.0987696\ttotal: 952ms\tremaining: 14.2s\n",
            "260:\tlearn: 1.0983443\ttotal: 991ms\tremaining: 14.2s\n",
            "270:\tlearn: 1.0979773\ttotal: 1.03s\tremaining: 14.1s\n",
            "280:\tlearn: 1.0977302\ttotal: 1.06s\tremaining: 14.1s\n",
            "290:\tlearn: 1.0974643\ttotal: 1.11s\tremaining: 14.2s\n",
            "300:\tlearn: 1.0971738\ttotal: 1.15s\tremaining: 14.1s\n",
            "310:\tlearn: 1.0968757\ttotal: 1.19s\tremaining: 14.1s\n",
            "320:\tlearn: 1.0965238\ttotal: 1.22s\tremaining: 14s\n",
            "330:\tlearn: 1.0963016\ttotal: 1.26s\tremaining: 14s\n",
            "340:\tlearn: 1.0960790\ttotal: 1.3s\tremaining: 13.9s\n",
            "350:\tlearn: 1.0957454\ttotal: 1.35s\tremaining: 14s\n",
            "360:\tlearn: 1.0956025\ttotal: 1.38s\tremaining: 14s\n",
            "370:\tlearn: 1.0952715\ttotal: 1.42s\tremaining: 13.9s\n",
            "380:\tlearn: 1.0950655\ttotal: 1.47s\tremaining: 13.9s\n",
            "390:\tlearn: 1.0948025\ttotal: 1.51s\tremaining: 13.9s\n",
            "400:\tlearn: 1.0945048\ttotal: 1.54s\tremaining: 13.9s\n",
            "410:\tlearn: 1.0942344\ttotal: 1.58s\tremaining: 13.8s\n",
            "420:\tlearn: 1.0940393\ttotal: 1.63s\tremaining: 13.9s\n",
            "430:\tlearn: 1.0938679\ttotal: 1.67s\tremaining: 13.8s\n",
            "440:\tlearn: 1.0936416\ttotal: 1.7s\tremaining: 13.7s\n",
            "450:\tlearn: 1.0934290\ttotal: 1.74s\tremaining: 13.7s\n",
            "460:\tlearn: 1.0932421\ttotal: 1.78s\tremaining: 13.7s\n",
            "470:\tlearn: 1.0930420\ttotal: 1.82s\tremaining: 13.6s\n",
            "480:\tlearn: 1.0928483\ttotal: 1.85s\tremaining: 13.5s\n",
            "490:\tlearn: 1.0926455\ttotal: 1.89s\tremaining: 13.5s\n",
            "500:\tlearn: 1.0925051\ttotal: 1.92s\tremaining: 13.4s\n",
            "510:\tlearn: 1.0923459\ttotal: 1.96s\tremaining: 13.4s\n",
            "520:\tlearn: 1.0922239\ttotal: 2s\tremaining: 13.4s\n",
            "530:\tlearn: 1.0920596\ttotal: 2.04s\tremaining: 13.3s\n",
            "540:\tlearn: 1.0918763\ttotal: 2.07s\tremaining: 13.2s\n",
            "550:\tlearn: 1.0916893\ttotal: 2.1s\tremaining: 13.2s\n",
            "560:\tlearn: 1.0915486\ttotal: 2.14s\tremaining: 13.1s\n",
            "570:\tlearn: 1.0913759\ttotal: 2.17s\tremaining: 13.1s\n",
            "580:\tlearn: 1.0912315\ttotal: 2.22s\tremaining: 13.1s\n",
            "590:\tlearn: 1.0910931\ttotal: 2.25s\tremaining: 13s\n",
            "600:\tlearn: 1.0909358\ttotal: 2.29s\tremaining: 13s\n",
            "610:\tlearn: 1.0908406\ttotal: 2.33s\tremaining: 12.9s\n",
            "620:\tlearn: 1.0906680\ttotal: 2.37s\tremaining: 12.9s\n",
            "630:\tlearn: 1.0905107\ttotal: 2.4s\tremaining: 12.8s\n",
            "640:\tlearn: 1.0903853\ttotal: 2.44s\tremaining: 12.8s\n",
            "650:\tlearn: 1.0902788\ttotal: 2.48s\tremaining: 12.7s\n",
            "660:\tlearn: 1.0901288\ttotal: 2.51s\tremaining: 12.7s\n",
            "670:\tlearn: 1.0900183\ttotal: 2.55s\tremaining: 12.6s\n",
            "680:\tlearn: 1.0899085\ttotal: 2.58s\tremaining: 12.6s\n",
            "690:\tlearn: 1.0897968\ttotal: 2.63s\tremaining: 12.6s\n",
            "700:\tlearn: 1.0897146\ttotal: 2.67s\tremaining: 12.6s\n",
            "710:\tlearn: 1.0896369\ttotal: 2.71s\tremaining: 12.5s\n",
            "720:\tlearn: 1.0895381\ttotal: 2.75s\tremaining: 12.5s\n",
            "730:\tlearn: 1.0894628\ttotal: 2.78s\tremaining: 12.4s\n",
            "740:\tlearn: 1.0893571\ttotal: 2.81s\tremaining: 12.4s\n",
            "750:\tlearn: 1.0892145\ttotal: 2.85s\tremaining: 12.3s\n",
            "760:\tlearn: 1.0891306\ttotal: 2.89s\tremaining: 12.3s\n",
            "770:\tlearn: 1.0890418\ttotal: 2.93s\tremaining: 12.3s\n",
            "780:\tlearn: 1.0889580\ttotal: 2.96s\tremaining: 12.2s\n",
            "790:\tlearn: 1.0888545\ttotal: 3s\tremaining: 12.2s\n",
            "800:\tlearn: 1.0887373\ttotal: 3.04s\tremaining: 12.1s\n",
            "810:\tlearn: 1.0886201\ttotal: 3.07s\tremaining: 12.1s\n",
            "820:\tlearn: 1.0885477\ttotal: 3.12s\tremaining: 12.1s\n",
            "830:\tlearn: 1.0884703\ttotal: 3.15s\tremaining: 12s\n",
            "840:\tlearn: 1.0883714\ttotal: 3.19s\tremaining: 12s\n",
            "850:\tlearn: 1.0883011\ttotal: 3.22s\tremaining: 11.9s\n",
            "860:\tlearn: 1.0882164\ttotal: 3.26s\tremaining: 11.9s\n",
            "870:\tlearn: 1.0881307\ttotal: 3.29s\tremaining: 11.8s\n",
            "880:\tlearn: 1.0880414\ttotal: 3.34s\tremaining: 11.8s\n",
            "890:\tlearn: 1.0879597\ttotal: 3.37s\tremaining: 11.8s\n",
            "900:\tlearn: 1.0878740\ttotal: 3.4s\tremaining: 11.7s\n",
            "910:\tlearn: 1.0877921\ttotal: 3.44s\tremaining: 11.7s\n",
            "920:\tlearn: 1.0877238\ttotal: 3.48s\tremaining: 11.6s\n",
            "930:\tlearn: 1.0876448\ttotal: 3.52s\tremaining: 11.6s\n",
            "940:\tlearn: 1.0875353\ttotal: 3.57s\tremaining: 11.6s\n",
            "950:\tlearn: 1.0874627\ttotal: 3.62s\tremaining: 11.6s\n",
            "960:\tlearn: 1.0873789\ttotal: 3.65s\tremaining: 11.5s\n",
            "970:\tlearn: 1.0873140\ttotal: 3.68s\tremaining: 11.5s\n",
            "980:\tlearn: 1.0872543\ttotal: 3.72s\tremaining: 11.4s\n",
            "990:\tlearn: 1.0871803\ttotal: 3.76s\tremaining: 11.4s\n",
            "1000:\tlearn: 1.0871147\ttotal: 3.8s\tremaining: 11.4s\n",
            "1010:\tlearn: 1.0870451\ttotal: 3.84s\tremaining: 11.4s\n",
            "1020:\tlearn: 1.0869855\ttotal: 3.88s\tremaining: 11.3s\n",
            "1030:\tlearn: 1.0869178\ttotal: 3.92s\tremaining: 11.3s\n",
            "1040:\tlearn: 1.0868488\ttotal: 3.96s\tremaining: 11.2s\n",
            "1050:\tlearn: 1.0867785\ttotal: 3.99s\tremaining: 11.2s\n",
            "1060:\tlearn: 1.0867014\ttotal: 4.04s\tremaining: 11.2s\n",
            "1070:\tlearn: 1.0866307\ttotal: 4.07s\tremaining: 11.1s\n",
            "1080:\tlearn: 1.0865639\ttotal: 4.11s\tremaining: 11.1s\n",
            "1090:\tlearn: 1.0865186\ttotal: 4.15s\tremaining: 11.1s\n",
            "1100:\tlearn: 1.0864455\ttotal: 4.19s\tremaining: 11s\n",
            "1110:\tlearn: 1.0863729\ttotal: 4.23s\tremaining: 11s\n",
            "1120:\tlearn: 1.0862885\ttotal: 4.28s\tremaining: 11s\n",
            "1130:\tlearn: 1.0862013\ttotal: 4.33s\tremaining: 11s\n",
            "1140:\tlearn: 1.0861447\ttotal: 4.36s\tremaining: 10.9s\n",
            "1150:\tlearn: 1.0860641\ttotal: 4.4s\tremaining: 10.9s\n",
            "1160:\tlearn: 1.0860043\ttotal: 4.43s\tremaining: 10.8s\n",
            "1170:\tlearn: 1.0859150\ttotal: 4.46s\tremaining: 10.8s\n",
            "1180:\tlearn: 1.0858536\ttotal: 4.51s\tremaining: 10.8s\n",
            "1190:\tlearn: 1.0857974\ttotal: 4.54s\tremaining: 10.7s\n",
            "1200:\tlearn: 1.0857369\ttotal: 4.59s\tremaining: 10.7s\n",
            "1210:\tlearn: 1.0856800\ttotal: 4.63s\tremaining: 10.7s\n",
            "1220:\tlearn: 1.0856177\ttotal: 4.67s\tremaining: 10.6s\n",
            "1230:\tlearn: 1.0855309\ttotal: 4.72s\tremaining: 10.6s\n",
            "1240:\tlearn: 1.0854627\ttotal: 4.75s\tremaining: 10.6s\n",
            "1250:\tlearn: 1.0854010\ttotal: 4.79s\tremaining: 10.5s\n",
            "1260:\tlearn: 1.0853465\ttotal: 4.83s\tremaining: 10.5s\n",
            "1270:\tlearn: 1.0853025\ttotal: 4.86s\tremaining: 10.4s\n",
            "1280:\tlearn: 1.0852536\ttotal: 4.9s\tremaining: 10.4s\n",
            "1290:\tlearn: 1.0851938\ttotal: 4.94s\tremaining: 10.4s\n",
            "1300:\tlearn: 1.0851579\ttotal: 4.98s\tremaining: 10.3s\n",
            "1310:\tlearn: 1.0850991\ttotal: 5.02s\tremaining: 10.3s\n",
            "1320:\tlearn: 1.0850329\ttotal: 5.05s\tremaining: 10.2s\n",
            "1330:\tlearn: 1.0849767\ttotal: 5.09s\tremaining: 10.2s\n",
            "1340:\tlearn: 1.0849463\ttotal: 5.13s\tremaining: 10.2s\n",
            "1350:\tlearn: 1.0849167\ttotal: 5.17s\tremaining: 10.1s\n",
            "1360:\tlearn: 1.0848873\ttotal: 5.21s\tremaining: 10.1s\n",
            "1370:\tlearn: 1.0848319\ttotal: 5.24s\tremaining: 10.1s\n",
            "1380:\tlearn: 1.0847522\ttotal: 5.29s\tremaining: 10s\n",
            "1390:\tlearn: 1.0846886\ttotal: 5.33s\tremaining: 9.99s\n",
            "1400:\tlearn: 1.0846427\ttotal: 5.36s\tremaining: 9.95s\n",
            "1410:\tlearn: 1.0845999\ttotal: 5.41s\tremaining: 9.92s\n",
            "1420:\tlearn: 1.0845544\ttotal: 5.44s\tremaining: 9.88s\n",
            "1430:\tlearn: 1.0845065\ttotal: 5.48s\tremaining: 9.84s\n",
            "1440:\tlearn: 1.0844403\ttotal: 5.51s\tremaining: 9.79s\n",
            "1450:\tlearn: 1.0843983\ttotal: 5.55s\tremaining: 9.75s\n",
            "1460:\tlearn: 1.0843443\ttotal: 5.59s\tremaining: 9.72s\n",
            "1470:\tlearn: 1.0842855\ttotal: 5.64s\tremaining: 9.71s\n",
            "1480:\tlearn: 1.0842426\ttotal: 5.68s\tremaining: 9.66s\n",
            "1490:\tlearn: 1.0841984\ttotal: 5.71s\tremaining: 9.61s\n",
            "1500:\tlearn: 1.0841636\ttotal: 5.75s\tremaining: 9.57s\n",
            "1510:\tlearn: 1.0841084\ttotal: 5.78s\tremaining: 9.53s\n",
            "1520:\tlearn: 1.0840534\ttotal: 5.82s\tremaining: 9.48s\n",
            "1530:\tlearn: 1.0840118\ttotal: 5.86s\tremaining: 9.45s\n",
            "1540:\tlearn: 1.0839637\ttotal: 5.89s\tremaining: 9.41s\n",
            "1550:\tlearn: 1.0839229\ttotal: 5.93s\tremaining: 9.36s\n",
            "1560:\tlearn: 1.0838823\ttotal: 5.96s\tremaining: 9.32s\n",
            "1570:\tlearn: 1.0838168\ttotal: 6s\tremaining: 9.28s\n",
            "1580:\tlearn: 1.0837932\ttotal: 6.03s\tremaining: 9.23s\n",
            "1590:\tlearn: 1.0837491\ttotal: 6.08s\tremaining: 9.2s\n",
            "1600:\tlearn: 1.0837012\ttotal: 6.11s\tremaining: 9.16s\n",
            "1610:\tlearn: 1.0836495\ttotal: 6.15s\tremaining: 9.11s\n",
            "1620:\tlearn: 1.0836073\ttotal: 6.18s\tremaining: 9.07s\n",
            "1630:\tlearn: 1.0835522\ttotal: 6.22s\tremaining: 9.03s\n",
            "1640:\tlearn: 1.0835014\ttotal: 6.25s\tremaining: 8.98s\n",
            "1650:\tlearn: 1.0834477\ttotal: 6.3s\tremaining: 8.96s\n",
            "1660:\tlearn: 1.0833982\ttotal: 6.33s\tremaining: 8.92s\n",
            "1670:\tlearn: 1.0833598\ttotal: 6.37s\tremaining: 8.88s\n",
            "1680:\tlearn: 1.0833089\ttotal: 6.41s\tremaining: 8.84s\n",
            "1690:\tlearn: 1.0832615\ttotal: 6.44s\tremaining: 8.8s\n",
            "1700:\tlearn: 1.0832172\ttotal: 6.49s\tremaining: 8.78s\n",
            "1710:\tlearn: 1.0831790\ttotal: 6.54s\tremaining: 8.75s\n",
            "1720:\tlearn: 1.0831352\ttotal: 6.59s\tremaining: 8.73s\n",
            "1730:\tlearn: 1.0830847\ttotal: 6.63s\tremaining: 8.69s\n",
            "1740:\tlearn: 1.0830233\ttotal: 6.67s\tremaining: 8.65s\n",
            "1750:\tlearn: 1.0829725\ttotal: 6.71s\tremaining: 8.62s\n",
            "1760:\tlearn: 1.0829245\ttotal: 6.75s\tremaining: 8.58s\n",
            "1770:\tlearn: 1.0828945\ttotal: 6.78s\tremaining: 8.54s\n",
            "1780:\tlearn: 1.0828540\ttotal: 6.82s\tremaining: 8.5s\n",
            "1790:\tlearn: 1.0828236\ttotal: 6.86s\tremaining: 8.46s\n",
            "1800:\tlearn: 1.0827740\ttotal: 6.9s\tremaining: 8.42s\n",
            "1810:\tlearn: 1.0827156\ttotal: 6.94s\tremaining: 8.39s\n",
            "1820:\tlearn: 1.0826790\ttotal: 6.98s\tremaining: 8.35s\n",
            "1830:\tlearn: 1.0826344\ttotal: 7.01s\tremaining: 8.3s\n",
            "1840:\tlearn: 1.0825846\ttotal: 7.05s\tremaining: 8.26s\n",
            "1850:\tlearn: 1.0825382\ttotal: 7.08s\tremaining: 8.22s\n",
            "1860:\tlearn: 1.0824845\ttotal: 7.12s\tremaining: 8.18s\n",
            "1870:\tlearn: 1.0824412\ttotal: 7.16s\tremaining: 8.15s\n",
            "1880:\tlearn: 1.0823828\ttotal: 7.21s\tremaining: 8.13s\n",
            "1890:\tlearn: 1.0823427\ttotal: 7.25s\tremaining: 8.08s\n",
            "1900:\tlearn: 1.0823148\ttotal: 7.28s\tremaining: 8.04s\n",
            "1910:\tlearn: 1.0822860\ttotal: 7.33s\tremaining: 8.01s\n",
            "1920:\tlearn: 1.0822471\ttotal: 7.37s\tremaining: 7.98s\n",
            "1930:\tlearn: 1.0821919\ttotal: 7.41s\tremaining: 7.94s\n",
            "1940:\tlearn: 1.0821571\ttotal: 7.44s\tremaining: 7.89s\n",
            "1950:\tlearn: 1.0821195\ttotal: 7.48s\tremaining: 7.85s\n",
            "1960:\tlearn: 1.0820795\ttotal: 7.51s\tremaining: 7.81s\n",
            "1970:\tlearn: 1.0820395\ttotal: 7.54s\tremaining: 7.77s\n",
            "1980:\tlearn: 1.0820022\ttotal: 7.6s\tremaining: 7.75s\n",
            "1990:\tlearn: 1.0819640\ttotal: 7.64s\tremaining: 7.71s\n",
            "2000:\tlearn: 1.0819350\ttotal: 7.68s\tremaining: 7.67s\n",
            "2010:\tlearn: 1.0818705\ttotal: 7.71s\tremaining: 7.63s\n",
            "2020:\tlearn: 1.0818336\ttotal: 7.75s\tremaining: 7.59s\n",
            "2030:\tlearn: 1.0818001\ttotal: 7.78s\tremaining: 7.54s\n",
            "2040:\tlearn: 1.0817518\ttotal: 7.83s\tremaining: 7.51s\n",
            "2050:\tlearn: 1.0817148\ttotal: 7.86s\tremaining: 7.47s\n",
            "2060:\tlearn: 1.0816764\ttotal: 7.89s\tremaining: 7.43s\n",
            "2070:\tlearn: 1.0816394\ttotal: 7.93s\tremaining: 7.39s\n",
            "2080:\tlearn: 1.0816064\ttotal: 7.96s\tremaining: 7.34s\n",
            "2090:\tlearn: 1.0815757\ttotal: 8s\tremaining: 7.3s\n",
            "2100:\tlearn: 1.0815266\ttotal: 8.04s\tremaining: 7.27s\n",
            "2110:\tlearn: 1.0814619\ttotal: 8.08s\tremaining: 7.23s\n",
            "2120:\tlearn: 1.0814236\ttotal: 8.11s\tremaining: 7.19s\n",
            "2130:\tlearn: 1.0813939\ttotal: 8.15s\tremaining: 7.15s\n",
            "2140:\tlearn: 1.0813445\ttotal: 8.19s\tremaining: 7.11s\n",
            "2150:\tlearn: 1.0813027\ttotal: 8.22s\tremaining: 7.07s\n",
            "2160:\tlearn: 1.0812729\ttotal: 8.27s\tremaining: 7.03s\n",
            "2170:\tlearn: 1.0812340\ttotal: 8.3s\tremaining: 6.99s\n",
            "2180:\tlearn: 1.0811943\ttotal: 8.34s\tremaining: 6.95s\n",
            "2190:\tlearn: 1.0811414\ttotal: 8.37s\tremaining: 6.91s\n",
            "2200:\tlearn: 1.0811108\ttotal: 8.4s\tremaining: 6.87s\n",
            "2210:\tlearn: 1.0810762\ttotal: 8.44s\tremaining: 6.83s\n",
            "2220:\tlearn: 1.0810396\ttotal: 8.49s\tremaining: 6.8s\n",
            "2230:\tlearn: 1.0809958\ttotal: 8.53s\tremaining: 6.76s\n",
            "2240:\tlearn: 1.0809572\ttotal: 8.58s\tremaining: 6.73s\n",
            "2250:\tlearn: 1.0809188\ttotal: 8.62s\tremaining: 6.7s\n",
            "2260:\tlearn: 1.0808743\ttotal: 8.65s\tremaining: 6.66s\n",
            "2270:\tlearn: 1.0808292\ttotal: 8.7s\tremaining: 6.62s\n",
            "2280:\tlearn: 1.0807890\ttotal: 8.73s\tremaining: 6.58s\n",
            "2290:\tlearn: 1.0807504\ttotal: 8.77s\tremaining: 6.54s\n",
            "2300:\tlearn: 1.0807077\ttotal: 8.8s\tremaining: 6.5s\n",
            "2310:\tlearn: 1.0806753\ttotal: 8.84s\tremaining: 6.46s\n",
            "2320:\tlearn: 1.0806335\ttotal: 8.87s\tremaining: 6.42s\n",
            "2330:\tlearn: 1.0805690\ttotal: 8.92s\tremaining: 6.39s\n",
            "2340:\tlearn: 1.0805328\ttotal: 8.96s\tremaining: 6.35s\n",
            "2350:\tlearn: 1.0805059\ttotal: 8.99s\tremaining: 6.31s\n",
            "2360:\tlearn: 1.0804764\ttotal: 9.03s\tremaining: 6.27s\n",
            "2370:\tlearn: 1.0804424\ttotal: 9.06s\tremaining: 6.23s\n",
            "2380:\tlearn: 1.0803889\ttotal: 9.1s\tremaining: 6.19s\n",
            "2390:\tlearn: 1.0803667\ttotal: 9.14s\tremaining: 6.15s\n",
            "2400:\tlearn: 1.0803078\ttotal: 9.18s\tremaining: 6.11s\n",
            "2410:\tlearn: 1.0802806\ttotal: 9.21s\tremaining: 6.07s\n",
            "2420:\tlearn: 1.0802465\ttotal: 9.25s\tremaining: 6.03s\n",
            "2430:\tlearn: 1.0802020\ttotal: 9.28s\tremaining: 5.99s\n",
            "2440:\tlearn: 1.0801579\ttotal: 9.32s\tremaining: 5.95s\n",
            "2450:\tlearn: 1.0801226\ttotal: 9.36s\tremaining: 5.92s\n",
            "2460:\tlearn: 1.0800792\ttotal: 9.4s\tremaining: 5.88s\n",
            "2470:\tlearn: 1.0800553\ttotal: 9.44s\tremaining: 5.84s\n",
            "2480:\tlearn: 1.0799997\ttotal: 9.47s\tremaining: 5.8s\n",
            "2490:\tlearn: 1.0799773\ttotal: 9.51s\tremaining: 5.76s\n",
            "2500:\tlearn: 1.0799349\ttotal: 9.55s\tremaining: 5.72s\n",
            "2510:\tlearn: 1.0798852\ttotal: 9.6s\tremaining: 5.69s\n",
            "2520:\tlearn: 1.0798448\ttotal: 9.63s\tremaining: 5.65s\n",
            "2530:\tlearn: 1.0798180\ttotal: 9.67s\tremaining: 5.61s\n",
            "2540:\tlearn: 1.0797923\ttotal: 9.71s\tremaining: 5.57s\n",
            "2550:\tlearn: 1.0797528\ttotal: 9.74s\tremaining: 5.53s\n",
            "2560:\tlearn: 1.0797223\ttotal: 9.78s\tremaining: 5.49s\n",
            "2570:\tlearn: 1.0796865\ttotal: 9.82s\tremaining: 5.46s\n",
            "2580:\tlearn: 1.0796535\ttotal: 9.85s\tremaining: 5.42s\n",
            "2590:\tlearn: 1.0796173\ttotal: 9.89s\tremaining: 5.38s\n",
            "2600:\tlearn: 1.0795923\ttotal: 9.93s\tremaining: 5.34s\n",
            "2610:\tlearn: 1.0795619\ttotal: 9.96s\tremaining: 5.3s\n",
            "2620:\tlearn: 1.0795325\ttotal: 9.99s\tremaining: 5.26s\n",
            "2630:\tlearn: 1.0794997\ttotal: 10s\tremaining: 5.22s\n",
            "2640:\tlearn: 1.0794650\ttotal: 10.1s\tremaining: 5.18s\n",
            "2650:\tlearn: 1.0794395\ttotal: 10.1s\tremaining: 5.14s\n",
            "2660:\tlearn: 1.0794079\ttotal: 10.1s\tremaining: 5.1s\n",
            "2670:\tlearn: 1.0793792\ttotal: 10.2s\tremaining: 5.06s\n",
            "2680:\tlearn: 1.0793484\ttotal: 10.2s\tremaining: 5.02s\n",
            "2690:\tlearn: 1.0793078\ttotal: 10.3s\tremaining: 4.99s\n",
            "2700:\tlearn: 1.0792685\ttotal: 10.3s\tremaining: 4.96s\n",
            "2710:\tlearn: 1.0792414\ttotal: 10.3s\tremaining: 4.92s\n",
            "2720:\tlearn: 1.0792114\ttotal: 10.4s\tremaining: 4.88s\n",
            "2730:\tlearn: 1.0791793\ttotal: 10.4s\tremaining: 4.84s\n",
            "2740:\tlearn: 1.0791575\ttotal: 10.5s\tremaining: 4.8s\n",
            "2750:\tlearn: 1.0791185\ttotal: 10.5s\tremaining: 4.77s\n",
            "2760:\tlearn: 1.0790885\ttotal: 10.5s\tremaining: 4.73s\n",
            "2770:\tlearn: 1.0790475\ttotal: 10.6s\tremaining: 4.69s\n",
            "2780:\tlearn: 1.0790181\ttotal: 10.6s\tremaining: 4.66s\n",
            "2790:\tlearn: 1.0789867\ttotal: 10.7s\tremaining: 4.62s\n",
            "2800:\tlearn: 1.0789595\ttotal: 10.7s\tremaining: 4.58s\n",
            "2810:\tlearn: 1.0789242\ttotal: 10.7s\tremaining: 4.54s\n",
            "2820:\tlearn: 1.0788930\ttotal: 10.8s\tremaining: 4.5s\n",
            "2830:\tlearn: 1.0788596\ttotal: 10.8s\tremaining: 4.46s\n",
            "2840:\tlearn: 1.0788213\ttotal: 10.8s\tremaining: 4.43s\n",
            "2850:\tlearn: 1.0787907\ttotal: 10.9s\tremaining: 4.39s\n",
            "2860:\tlearn: 1.0787677\ttotal: 10.9s\tremaining: 4.35s\n",
            "2870:\tlearn: 1.0787403\ttotal: 11s\tremaining: 4.31s\n",
            "2880:\tlearn: 1.0787007\ttotal: 11s\tremaining: 4.27s\n",
            "2890:\tlearn: 1.0786666\ttotal: 11s\tremaining: 4.24s\n",
            "2900:\tlearn: 1.0786338\ttotal: 11.1s\tremaining: 4.2s\n",
            "2910:\tlearn: 1.0786045\ttotal: 11.1s\tremaining: 4.16s\n",
            "2920:\tlearn: 1.0785788\ttotal: 11.2s\tremaining: 4.12s\n",
            "2930:\tlearn: 1.0785485\ttotal: 11.2s\tremaining: 4.09s\n",
            "2940:\tlearn: 1.0785217\ttotal: 11.2s\tremaining: 4.05s\n",
            "2950:\tlearn: 1.0784925\ttotal: 11.3s\tremaining: 4.01s\n",
            "2960:\tlearn: 1.0784556\ttotal: 11.3s\tremaining: 3.97s\n",
            "2970:\tlearn: 1.0784192\ttotal: 11.4s\tremaining: 3.93s\n",
            "2980:\tlearn: 1.0783965\ttotal: 11.4s\tremaining: 3.9s\n",
            "2990:\tlearn: 1.0783621\ttotal: 11.4s\tremaining: 3.86s\n",
            "3000:\tlearn: 1.0783196\ttotal: 11.5s\tremaining: 3.82s\n",
            "3010:\tlearn: 1.0782874\ttotal: 11.5s\tremaining: 3.78s\n",
            "3020:\tlearn: 1.0782579\ttotal: 11.6s\tremaining: 3.75s\n",
            "3030:\tlearn: 1.0782245\ttotal: 11.6s\tremaining: 3.71s\n",
            "3040:\tlearn: 1.0781900\ttotal: 11.6s\tremaining: 3.67s\n",
            "3050:\tlearn: 1.0781565\ttotal: 11.7s\tremaining: 3.63s\n",
            "3060:\tlearn: 1.0781291\ttotal: 11.7s\tremaining: 3.59s\n",
            "3070:\tlearn: 1.0780855\ttotal: 11.7s\tremaining: 3.55s\n",
            "3080:\tlearn: 1.0780528\ttotal: 11.8s\tremaining: 3.51s\n",
            "3090:\tlearn: 1.0780269\ttotal: 11.8s\tremaining: 3.48s\n",
            "3100:\tlearn: 1.0779989\ttotal: 11.9s\tremaining: 3.44s\n",
            "3110:\tlearn: 1.0779710\ttotal: 11.9s\tremaining: 3.4s\n",
            "3120:\tlearn: 1.0779365\ttotal: 11.9s\tremaining: 3.36s\n",
            "3130:\tlearn: 1.0779141\ttotal: 12s\tremaining: 3.32s\n",
            "3140:\tlearn: 1.0778864\ttotal: 12s\tremaining: 3.29s\n",
            "3150:\tlearn: 1.0778456\ttotal: 12.1s\tremaining: 3.25s\n",
            "3160:\tlearn: 1.0778088\ttotal: 12.1s\tremaining: 3.21s\n",
            "3170:\tlearn: 1.0777787\ttotal: 12.1s\tremaining: 3.18s\n",
            "3180:\tlearn: 1.0777507\ttotal: 12.2s\tremaining: 3.14s\n",
            "3190:\tlearn: 1.0777222\ttotal: 12.2s\tremaining: 3.1s\n",
            "3200:\tlearn: 1.0777023\ttotal: 12.3s\tremaining: 3.06s\n",
            "3210:\tlearn: 1.0776655\ttotal: 12.3s\tremaining: 3.03s\n",
            "3220:\tlearn: 1.0776264\ttotal: 12.4s\tremaining: 2.99s\n",
            "3230:\tlearn: 1.0775882\ttotal: 12.4s\tremaining: 2.95s\n",
            "3240:\tlearn: 1.0775678\ttotal: 12.4s\tremaining: 2.91s\n",
            "3250:\tlearn: 1.0775437\ttotal: 12.5s\tremaining: 2.88s\n",
            "3260:\tlearn: 1.0775083\ttotal: 12.6s\tremaining: 2.85s\n",
            "3270:\tlearn: 1.0774890\ttotal: 12.6s\tremaining: 2.81s\n",
            "3280:\tlearn: 1.0774542\ttotal: 12.6s\tremaining: 2.77s\n",
            "3290:\tlearn: 1.0774212\ttotal: 12.7s\tremaining: 2.73s\n",
            "3300:\tlearn: 1.0773970\ttotal: 12.7s\tremaining: 2.69s\n",
            "3310:\tlearn: 1.0773742\ttotal: 12.8s\tremaining: 2.65s\n",
            "3320:\tlearn: 1.0773427\ttotal: 12.8s\tremaining: 2.62s\n",
            "3330:\tlearn: 1.0773163\ttotal: 12.8s\tremaining: 2.58s\n",
            "3340:\tlearn: 1.0772783\ttotal: 12.9s\tremaining: 2.54s\n",
            "3350:\tlearn: 1.0772494\ttotal: 12.9s\tremaining: 2.5s\n",
            "3360:\tlearn: 1.0772128\ttotal: 13s\tremaining: 2.46s\n",
            "3370:\tlearn: 1.0771906\ttotal: 13s\tremaining: 2.42s\n",
            "3380:\tlearn: 1.0771590\ttotal: 13s\tremaining: 2.39s\n",
            "3390:\tlearn: 1.0771282\ttotal: 13.1s\tremaining: 2.35s\n",
            "3400:\tlearn: 1.0770885\ttotal: 13.1s\tremaining: 2.31s\n",
            "3410:\tlearn: 1.0770568\ttotal: 13.2s\tremaining: 2.27s\n",
            "3420:\tlearn: 1.0770184\ttotal: 13.2s\tremaining: 2.23s\n",
            "3430:\tlearn: 1.0769947\ttotal: 13.2s\tremaining: 2.19s\n",
            "3440:\tlearn: 1.0769736\ttotal: 13.3s\tremaining: 2.16s\n",
            "3450:\tlearn: 1.0769376\ttotal: 13.3s\tremaining: 2.12s\n",
            "3460:\tlearn: 1.0769144\ttotal: 13.4s\tremaining: 2.08s\n",
            "3470:\tlearn: 1.0768966\ttotal: 13.4s\tremaining: 2.04s\n",
            "3480:\tlearn: 1.0768627\ttotal: 13.4s\tremaining: 2s\n",
            "3490:\tlearn: 1.0768241\ttotal: 13.5s\tremaining: 1.96s\n",
            "3500:\tlearn: 1.0767963\ttotal: 13.5s\tremaining: 1.93s\n",
            "3510:\tlearn: 1.0767614\ttotal: 13.6s\tremaining: 1.89s\n",
            "3520:\tlearn: 1.0767265\ttotal: 13.6s\tremaining: 1.85s\n",
            "3530:\tlearn: 1.0766993\ttotal: 13.6s\tremaining: 1.81s\n",
            "3540:\tlearn: 1.0766737\ttotal: 13.7s\tremaining: 1.77s\n",
            "3550:\tlearn: 1.0766505\ttotal: 13.7s\tremaining: 1.74s\n",
            "3560:\tlearn: 1.0766151\ttotal: 13.8s\tremaining: 1.7s\n",
            "3570:\tlearn: 1.0765981\ttotal: 13.8s\tremaining: 1.66s\n",
            "3580:\tlearn: 1.0765724\ttotal: 13.8s\tremaining: 1.62s\n",
            "3590:\tlearn: 1.0765453\ttotal: 13.9s\tremaining: 1.58s\n",
            "3600:\tlearn: 1.0765172\ttotal: 13.9s\tremaining: 1.54s\n",
            "3610:\tlearn: 1.0764794\ttotal: 14s\tremaining: 1.51s\n",
            "3620:\tlearn: 1.0764541\ttotal: 14s\tremaining: 1.47s\n",
            "3630:\tlearn: 1.0764240\ttotal: 14.1s\tremaining: 1.43s\n",
            "3640:\tlearn: 1.0763999\ttotal: 14.1s\tremaining: 1.39s\n",
            "3650:\tlearn: 1.0763726\ttotal: 14.1s\tremaining: 1.35s\n",
            "3660:\tlearn: 1.0763423\ttotal: 14.2s\tremaining: 1.31s\n",
            "3670:\tlearn: 1.0763157\ttotal: 14.2s\tremaining: 1.27s\n",
            "3680:\tlearn: 1.0762876\ttotal: 14.3s\tremaining: 1.24s\n",
            "3690:\tlearn: 1.0762631\ttotal: 14.3s\tremaining: 1.2s\n",
            "3700:\tlearn: 1.0762236\ttotal: 14.3s\tremaining: 1.16s\n",
            "3710:\tlearn: 1.0762034\ttotal: 14.4s\tremaining: 1.12s\n",
            "3720:\tlearn: 1.0761753\ttotal: 14.4s\tremaining: 1.08s\n",
            "3730:\tlearn: 1.0761406\ttotal: 14.5s\tremaining: 1.04s\n",
            "3740:\tlearn: 1.0761122\ttotal: 14.5s\tremaining: 1s\n",
            "3750:\tlearn: 1.0760901\ttotal: 14.6s\tremaining: 966ms\n",
            "3760:\tlearn: 1.0760667\ttotal: 14.6s\tremaining: 927ms\n",
            "3770:\tlearn: 1.0760335\ttotal: 14.6s\tremaining: 889ms\n",
            "3780:\tlearn: 1.0760016\ttotal: 14.7s\tremaining: 851ms\n",
            "3790:\tlearn: 1.0759694\ttotal: 14.7s\tremaining: 812ms\n",
            "3800:\tlearn: 1.0759416\ttotal: 14.8s\tremaining: 773ms\n",
            "3810:\tlearn: 1.0759126\ttotal: 14.8s\tremaining: 734ms\n",
            "3820:\tlearn: 1.0758910\ttotal: 14.8s\tremaining: 695ms\n",
            "3830:\tlearn: 1.0758675\ttotal: 14.9s\tremaining: 656ms\n",
            "3840:\tlearn: 1.0758332\ttotal: 14.9s\tremaining: 618ms\n",
            "3850:\tlearn: 1.0758034\ttotal: 15s\tremaining: 579ms\n",
            "3860:\tlearn: 1.0757634\ttotal: 15s\tremaining: 540ms\n",
            "3870:\tlearn: 1.0757354\ttotal: 15s\tremaining: 501ms\n",
            "3880:\tlearn: 1.0757133\ttotal: 15.1s\tremaining: 462ms\n",
            "3890:\tlearn: 1.0756835\ttotal: 15.1s\tremaining: 424ms\n",
            "3900:\tlearn: 1.0756589\ttotal: 15.2s\tremaining: 385ms\n",
            "3910:\tlearn: 1.0756234\ttotal: 15.2s\tremaining: 346ms\n",
            "3920:\tlearn: 1.0755953\ttotal: 15.2s\tremaining: 307ms\n",
            "3930:\tlearn: 1.0755631\ttotal: 15.3s\tremaining: 268ms\n",
            "3940:\tlearn: 1.0755360\ttotal: 15.3s\tremaining: 229ms\n",
            "3950:\tlearn: 1.0755057\ttotal: 15.4s\tremaining: 191ms\n",
            "3960:\tlearn: 1.0754859\ttotal: 15.4s\tremaining: 152ms\n",
            "3970:\tlearn: 1.0754592\ttotal: 15.4s\tremaining: 113ms\n",
            "3980:\tlearn: 1.0754321\ttotal: 15.5s\tremaining: 73.9ms\n",
            "3990:\tlearn: 1.0753979\ttotal: 15.5s\tremaining: 35ms\n",
            "3999:\tlearn: 1.0753676\ttotal: 15.6s\tremaining: 0us\n",
            "Fold 11, Valid score = 1.08937\n"
          ],
          "name": "stdout"
        },
        {
          "output_type": "stream",
          "text": [
            "Warning: less than 75% gpu memory available for training. Free: 5249.75 Total: 16280.875\n"
          ],
          "name": "stderr"
        },
        {
          "output_type": "stream",
          "text": [
            "0:\tlearn: 1.3525827\ttotal: 5.09ms\tremaining: 20.4s\n",
            "10:\tlearn: 1.1883195\ttotal: 43ms\tremaining: 15.6s\n",
            "20:\tlearn: 1.1390094\ttotal: 84.9ms\tremaining: 16.1s\n",
            "30:\tlearn: 1.1213932\ttotal: 124ms\tremaining: 15.9s\n",
            "40:\tlearn: 1.1146038\ttotal: 177ms\tremaining: 17s\n",
            "50:\tlearn: 1.1115327\ttotal: 222ms\tremaining: 17.2s\n",
            "60:\tlearn: 1.1097942\ttotal: 258ms\tremaining: 16.7s\n",
            "70:\tlearn: 1.1084994\ttotal: 301ms\tremaining: 16.6s\n",
            "80:\tlearn: 1.1074423\ttotal: 339ms\tremaining: 16.4s\n",
            "90:\tlearn: 1.1064931\ttotal: 376ms\tremaining: 16.2s\n",
            "100:\tlearn: 1.1055630\ttotal: 417ms\tremaining: 16.1s\n",
            "110:\tlearn: 1.1049411\ttotal: 475ms\tremaining: 16.6s\n",
            "120:\tlearn: 1.1042893\ttotal: 513ms\tremaining: 16.4s\n",
            "130:\tlearn: 1.1036408\ttotal: 550ms\tremaining: 16.2s\n",
            "140:\tlearn: 1.1032687\ttotal: 584ms\tremaining: 16s\n",
            "150:\tlearn: 1.1030505\ttotal: 615ms\tremaining: 15.7s\n",
            "160:\tlearn: 1.1026358\ttotal: 657ms\tremaining: 15.7s\n",
            "170:\tlearn: 1.1021997\ttotal: 701ms\tremaining: 15.7s\n",
            "180:\tlearn: 1.1016886\ttotal: 738ms\tremaining: 15.6s\n",
            "190:\tlearn: 1.1011196\ttotal: 775ms\tremaining: 15.5s\n",
            "200:\tlearn: 1.1005932\ttotal: 812ms\tremaining: 15.3s\n",
            "210:\tlearn: 1.1002614\ttotal: 848ms\tremaining: 15.2s\n",
            "220:\tlearn: 1.0998072\ttotal: 884ms\tremaining: 15.1s\n",
            "230:\tlearn: 1.0994704\ttotal: 930ms\tremaining: 15.2s\n",
            "240:\tlearn: 1.0991859\ttotal: 964ms\tremaining: 15s\n",
            "250:\tlearn: 1.0989200\ttotal: 1s\tremaining: 15s\n",
            "260:\tlearn: 1.0986345\ttotal: 1.03s\tremaining: 14.8s\n",
            "270:\tlearn: 1.0983282\ttotal: 1.07s\tremaining: 14.7s\n",
            "280:\tlearn: 1.0980528\ttotal: 1.1s\tremaining: 14.6s\n",
            "290:\tlearn: 1.0976993\ttotal: 1.15s\tremaining: 14.7s\n",
            "300:\tlearn: 1.0973927\ttotal: 1.19s\tremaining: 14.6s\n",
            "310:\tlearn: 1.0971811\ttotal: 1.22s\tremaining: 14.5s\n",
            "320:\tlearn: 1.0968507\ttotal: 1.25s\tremaining: 14.4s\n",
            "330:\tlearn: 1.0965113\ttotal: 1.3s\tremaining: 14.4s\n",
            "340:\tlearn: 1.0962013\ttotal: 1.34s\tremaining: 14.4s\n",
            "350:\tlearn: 1.0959327\ttotal: 1.39s\tremaining: 14.4s\n",
            "360:\tlearn: 1.0957349\ttotal: 1.42s\tremaining: 14.3s\n",
            "370:\tlearn: 1.0954361\ttotal: 1.47s\tremaining: 14.3s\n",
            "380:\tlearn: 1.0951078\ttotal: 1.5s\tremaining: 14.3s\n",
            "390:\tlearn: 1.0948309\ttotal: 1.54s\tremaining: 14.2s\n",
            "400:\tlearn: 1.0945519\ttotal: 1.57s\tremaining: 14.1s\n",
            "410:\tlearn: 1.0943127\ttotal: 1.62s\tremaining: 14.2s\n",
            "420:\tlearn: 1.0940986\ttotal: 1.66s\tremaining: 14.1s\n",
            "430:\tlearn: 1.0938692\ttotal: 1.7s\tremaining: 14.1s\n",
            "440:\tlearn: 1.0937153\ttotal: 1.73s\tremaining: 14s\n",
            "450:\tlearn: 1.0935117\ttotal: 1.77s\tremaining: 13.9s\n",
            "460:\tlearn: 1.0932919\ttotal: 1.8s\tremaining: 13.8s\n",
            "470:\tlearn: 1.0931575\ttotal: 1.84s\tremaining: 13.8s\n",
            "480:\tlearn: 1.0930265\ttotal: 1.88s\tremaining: 13.7s\n",
            "490:\tlearn: 1.0928953\ttotal: 1.91s\tremaining: 13.7s\n",
            "500:\tlearn: 1.0926700\ttotal: 1.95s\tremaining: 13.6s\n",
            "510:\tlearn: 1.0925082\ttotal: 1.98s\tremaining: 13.5s\n",
            "520:\tlearn: 1.0922726\ttotal: 2.02s\tremaining: 13.5s\n",
            "530:\tlearn: 1.0921150\ttotal: 2.06s\tremaining: 13.5s\n",
            "540:\tlearn: 1.0919339\ttotal: 2.1s\tremaining: 13.4s\n",
            "550:\tlearn: 1.0917986\ttotal: 2.13s\tremaining: 13.3s\n",
            "560:\tlearn: 1.0916000\ttotal: 2.17s\tremaining: 13.3s\n",
            "570:\tlearn: 1.0914712\ttotal: 2.2s\tremaining: 13.2s\n",
            "580:\tlearn: 1.0913261\ttotal: 2.24s\tremaining: 13.2s\n",
            "590:\tlearn: 1.0911558\ttotal: 2.28s\tremaining: 13.2s\n",
            "600:\tlearn: 1.0910522\ttotal: 2.31s\tremaining: 13.1s\n",
            "610:\tlearn: 1.0909156\ttotal: 2.35s\tremaining: 13s\n",
            "620:\tlearn: 1.0907856\ttotal: 2.38s\tremaining: 13s\n",
            "630:\tlearn: 1.0906328\ttotal: 2.42s\tremaining: 12.9s\n",
            "640:\tlearn: 1.0905203\ttotal: 2.47s\tremaining: 12.9s\n",
            "650:\tlearn: 1.0904130\ttotal: 2.51s\tremaining: 12.9s\n",
            "660:\tlearn: 1.0903126\ttotal: 2.55s\tremaining: 12.9s\n",
            "670:\tlearn: 1.0901661\ttotal: 2.58s\tremaining: 12.8s\n",
            "680:\tlearn: 1.0900559\ttotal: 2.62s\tremaining: 12.8s\n",
            "690:\tlearn: 1.0899697\ttotal: 2.65s\tremaining: 12.7s\n",
            "700:\tlearn: 1.0898600\ttotal: 2.69s\tremaining: 12.6s\n",
            "710:\tlearn: 1.0897302\ttotal: 2.73s\tremaining: 12.6s\n",
            "720:\tlearn: 1.0896350\ttotal: 2.76s\tremaining: 12.6s\n",
            "730:\tlearn: 1.0895263\ttotal: 2.8s\tremaining: 12.5s\n",
            "740:\tlearn: 1.0894223\ttotal: 2.83s\tremaining: 12.5s\n",
            "750:\tlearn: 1.0893320\ttotal: 2.87s\tremaining: 12.4s\n",
            "760:\tlearn: 1.0892481\ttotal: 2.91s\tremaining: 12.4s\n",
            "770:\tlearn: 1.0891511\ttotal: 2.96s\tremaining: 12.4s\n",
            "780:\tlearn: 1.0890160\ttotal: 3s\tremaining: 12.4s\n",
            "790:\tlearn: 1.0889196\ttotal: 3.04s\tremaining: 12.3s\n",
            "800:\tlearn: 1.0888164\ttotal: 3.08s\tremaining: 12.3s\n",
            "810:\tlearn: 1.0887152\ttotal: 3.12s\tremaining: 12.3s\n",
            "820:\tlearn: 1.0886186\ttotal: 3.16s\tremaining: 12.2s\n",
            "830:\tlearn: 1.0885345\ttotal: 3.2s\tremaining: 12.2s\n",
            "840:\tlearn: 1.0884541\ttotal: 3.23s\tremaining: 12.2s\n",
            "850:\tlearn: 1.0883848\ttotal: 3.27s\tremaining: 12.1s\n",
            "860:\tlearn: 1.0882897\ttotal: 3.3s\tremaining: 12s\n",
            "870:\tlearn: 1.0881812\ttotal: 3.34s\tremaining: 12s\n",
            "880:\tlearn: 1.0881144\ttotal: 3.39s\tremaining: 12s\n",
            "890:\tlearn: 1.0880176\ttotal: 3.43s\tremaining: 12s\n",
            "900:\tlearn: 1.0879379\ttotal: 3.47s\tremaining: 11.9s\n",
            "910:\tlearn: 1.0878646\ttotal: 3.5s\tremaining: 11.9s\n",
            "920:\tlearn: 1.0877579\ttotal: 3.54s\tremaining: 11.8s\n",
            "930:\tlearn: 1.0876894\ttotal: 3.58s\tremaining: 11.8s\n",
            "940:\tlearn: 1.0876241\ttotal: 3.62s\tremaining: 11.8s\n",
            "950:\tlearn: 1.0875698\ttotal: 3.65s\tremaining: 11.7s\n",
            "960:\tlearn: 1.0875000\ttotal: 3.69s\tremaining: 11.7s\n",
            "970:\tlearn: 1.0874242\ttotal: 3.72s\tremaining: 11.6s\n",
            "980:\tlearn: 1.0873557\ttotal: 3.76s\tremaining: 11.6s\n",
            "990:\tlearn: 1.0872785\ttotal: 3.79s\tremaining: 11.5s\n",
            "1000:\tlearn: 1.0872178\ttotal: 3.83s\tremaining: 11.5s\n",
            "1010:\tlearn: 1.0871532\ttotal: 3.86s\tremaining: 11.4s\n",
            "1020:\tlearn: 1.0870866\ttotal: 3.9s\tremaining: 11.4s\n",
            "1030:\tlearn: 1.0869961\ttotal: 3.94s\tremaining: 11.3s\n",
            "1040:\tlearn: 1.0869407\ttotal: 3.98s\tremaining: 11.3s\n",
            "1050:\tlearn: 1.0868783\ttotal: 4.01s\tremaining: 11.3s\n",
            "1060:\tlearn: 1.0867902\ttotal: 4.06s\tremaining: 11.2s\n",
            "1070:\tlearn: 1.0867016\ttotal: 4.09s\tremaining: 11.2s\n",
            "1080:\tlearn: 1.0866278\ttotal: 4.13s\tremaining: 11.1s\n",
            "1090:\tlearn: 1.0865514\ttotal: 4.16s\tremaining: 11.1s\n",
            "1100:\tlearn: 1.0864473\ttotal: 4.19s\tremaining: 11s\n",
            "1110:\tlearn: 1.0863846\ttotal: 4.23s\tremaining: 11s\n",
            "1120:\tlearn: 1.0863263\ttotal: 4.27s\tremaining: 11s\n",
            "1130:\tlearn: 1.0862227\ttotal: 4.31s\tremaining: 10.9s\n",
            "1140:\tlearn: 1.0861407\ttotal: 4.34s\tremaining: 10.9s\n",
            "1150:\tlearn: 1.0860963\ttotal: 4.38s\tremaining: 10.8s\n",
            "1160:\tlearn: 1.0860466\ttotal: 4.42s\tremaining: 10.8s\n",
            "1170:\tlearn: 1.0859873\ttotal: 4.46s\tremaining: 10.8s\n",
            "1180:\tlearn: 1.0859161\ttotal: 4.5s\tremaining: 10.7s\n",
            "1190:\tlearn: 1.0858534\ttotal: 4.54s\tremaining: 10.7s\n",
            "1200:\tlearn: 1.0858043\ttotal: 4.57s\tremaining: 10.6s\n",
            "1210:\tlearn: 1.0857643\ttotal: 4.6s\tremaining: 10.6s\n",
            "1220:\tlearn: 1.0856978\ttotal: 4.64s\tremaining: 10.6s\n",
            "1230:\tlearn: 1.0856216\ttotal: 4.67s\tremaining: 10.5s\n",
            "1240:\tlearn: 1.0855647\ttotal: 4.71s\tremaining: 10.5s\n",
            "1250:\tlearn: 1.0855081\ttotal: 4.75s\tremaining: 10.4s\n",
            "1260:\tlearn: 1.0854553\ttotal: 4.78s\tremaining: 10.4s\n",
            "1270:\tlearn: 1.0853862\ttotal: 4.82s\tremaining: 10.4s\n",
            "1280:\tlearn: 1.0853211\ttotal: 4.86s\tremaining: 10.3s\n",
            "1290:\tlearn: 1.0852755\ttotal: 4.89s\tremaining: 10.3s\n",
            "1300:\tlearn: 1.0852310\ttotal: 4.93s\tremaining: 10.2s\n",
            "1310:\tlearn: 1.0851745\ttotal: 4.97s\tremaining: 10.2s\n",
            "1320:\tlearn: 1.0850928\ttotal: 5s\tremaining: 10.1s\n",
            "1330:\tlearn: 1.0850374\ttotal: 5.04s\tremaining: 10.1s\n",
            "1340:\tlearn: 1.0849770\ttotal: 5.07s\tremaining: 10.1s\n",
            "1350:\tlearn: 1.0849232\ttotal: 5.11s\tremaining: 10s\n",
            "1360:\tlearn: 1.0848796\ttotal: 5.16s\tremaining: 10s\n",
            "1370:\tlearn: 1.0848390\ttotal: 5.19s\tremaining: 9.96s\n",
            "1380:\tlearn: 1.0847912\ttotal: 5.23s\tremaining: 9.92s\n",
            "1390:\tlearn: 1.0847446\ttotal: 5.27s\tremaining: 9.88s\n",
            "1400:\tlearn: 1.0846944\ttotal: 5.3s\tremaining: 9.84s\n",
            "1410:\tlearn: 1.0846469\ttotal: 5.34s\tremaining: 9.79s\n",
            "1420:\tlearn: 1.0846058\ttotal: 5.38s\tremaining: 9.77s\n",
            "1430:\tlearn: 1.0845622\ttotal: 5.43s\tremaining: 9.74s\n",
            "1440:\tlearn: 1.0845090\ttotal: 5.46s\tremaining: 9.7s\n",
            "1450:\tlearn: 1.0844596\ttotal: 5.5s\tremaining: 9.65s\n",
            "1460:\tlearn: 1.0844228\ttotal: 5.53s\tremaining: 9.61s\n",
            "1470:\tlearn: 1.0843829\ttotal: 5.56s\tremaining: 9.56s\n",
            "1480:\tlearn: 1.0843325\ttotal: 5.6s\tremaining: 9.52s\n",
            "1490:\tlearn: 1.0842819\ttotal: 5.63s\tremaining: 9.48s\n",
            "1500:\tlearn: 1.0842248\ttotal: 5.67s\tremaining: 9.43s\n",
            "1510:\tlearn: 1.0841616\ttotal: 5.7s\tremaining: 9.39s\n",
            "1520:\tlearn: 1.0840876\ttotal: 5.74s\tremaining: 9.36s\n",
            "1530:\tlearn: 1.0840378\ttotal: 5.77s\tremaining: 9.31s\n",
            "1540:\tlearn: 1.0839814\ttotal: 5.82s\tremaining: 9.29s\n",
            "1550:\tlearn: 1.0839334\ttotal: 5.85s\tremaining: 9.24s\n",
            "1560:\tlearn: 1.0838845\ttotal: 5.89s\tremaining: 9.2s\n",
            "1570:\tlearn: 1.0838425\ttotal: 5.92s\tremaining: 9.16s\n",
            "1580:\tlearn: 1.0837818\ttotal: 5.96s\tremaining: 9.12s\n",
            "1590:\tlearn: 1.0837379\ttotal: 6s\tremaining: 9.08s\n",
            "1600:\tlearn: 1.0836802\ttotal: 6.04s\tremaining: 9.05s\n",
            "1610:\tlearn: 1.0836247\ttotal: 6.08s\tremaining: 9.02s\n",
            "1620:\tlearn: 1.0835846\ttotal: 6.12s\tremaining: 8.98s\n",
            "1630:\tlearn: 1.0835244\ttotal: 6.16s\tremaining: 8.94s\n",
            "1640:\tlearn: 1.0834868\ttotal: 6.19s\tremaining: 8.9s\n",
            "1650:\tlearn: 1.0834621\ttotal: 6.23s\tremaining: 8.86s\n",
            "1660:\tlearn: 1.0834314\ttotal: 6.28s\tremaining: 8.84s\n",
            "1670:\tlearn: 1.0833791\ttotal: 6.31s\tremaining: 8.8s\n",
            "1680:\tlearn: 1.0833393\ttotal: 6.35s\tremaining: 8.76s\n",
            "1690:\tlearn: 1.0832984\ttotal: 6.4s\tremaining: 8.73s\n",
            "1700:\tlearn: 1.0832485\ttotal: 6.44s\tremaining: 8.7s\n",
            "1710:\tlearn: 1.0832164\ttotal: 6.47s\tremaining: 8.66s\n",
            "1720:\tlearn: 1.0831722\ttotal: 6.52s\tremaining: 8.64s\n",
            "1730:\tlearn: 1.0831282\ttotal: 6.56s\tremaining: 8.6s\n",
            "1740:\tlearn: 1.0830699\ttotal: 6.6s\tremaining: 8.56s\n",
            "1750:\tlearn: 1.0830378\ttotal: 6.63s\tremaining: 8.52s\n",
            "1760:\tlearn: 1.0829976\ttotal: 6.67s\tremaining: 8.48s\n",
            "1770:\tlearn: 1.0829420\ttotal: 6.71s\tremaining: 8.44s\n",
            "1780:\tlearn: 1.0828961\ttotal: 6.76s\tremaining: 8.42s\n",
            "1790:\tlearn: 1.0828588\ttotal: 6.8s\tremaining: 8.38s\n",
            "1800:\tlearn: 1.0828189\ttotal: 6.83s\tremaining: 8.34s\n",
            "1810:\tlearn: 1.0827654\ttotal: 6.87s\tremaining: 8.31s\n",
            "1820:\tlearn: 1.0827221\ttotal: 6.91s\tremaining: 8.27s\n",
            "1830:\tlearn: 1.0826759\ttotal: 6.95s\tremaining: 8.23s\n",
            "1840:\tlearn: 1.0826270\ttotal: 6.99s\tremaining: 8.2s\n",
            "1850:\tlearn: 1.0825919\ttotal: 7.03s\tremaining: 8.16s\n",
            "1860:\tlearn: 1.0825489\ttotal: 7.07s\tremaining: 8.12s\n",
            "1870:\tlearn: 1.0825038\ttotal: 7.1s\tremaining: 8.08s\n",
            "1880:\tlearn: 1.0824544\ttotal: 7.14s\tremaining: 8.04s\n",
            "1890:\tlearn: 1.0824234\ttotal: 7.17s\tremaining: 8s\n",
            "1900:\tlearn: 1.0823625\ttotal: 7.21s\tremaining: 7.96s\n",
            "1910:\tlearn: 1.0823293\ttotal: 7.25s\tremaining: 7.93s\n",
            "1920:\tlearn: 1.0822881\ttotal: 7.29s\tremaining: 7.88s\n",
            "1930:\tlearn: 1.0822395\ttotal: 7.32s\tremaining: 7.84s\n",
            "1940:\tlearn: 1.0822033\ttotal: 7.36s\tremaining: 7.8s\n",
            "1950:\tlearn: 1.0821530\ttotal: 7.4s\tremaining: 7.77s\n",
            "1960:\tlearn: 1.0821124\ttotal: 7.45s\tremaining: 7.74s\n",
            "1970:\tlearn: 1.0820685\ttotal: 7.48s\tremaining: 7.7s\n",
            "1980:\tlearn: 1.0820273\ttotal: 7.52s\tremaining: 7.66s\n",
            "1990:\tlearn: 1.0819796\ttotal: 7.55s\tremaining: 7.62s\n",
            "2000:\tlearn: 1.0819328\ttotal: 7.59s\tremaining: 7.58s\n",
            "2010:\tlearn: 1.0818885\ttotal: 7.62s\tremaining: 7.54s\n",
            "2020:\tlearn: 1.0818539\ttotal: 7.66s\tremaining: 7.5s\n",
            "2030:\tlearn: 1.0818082\ttotal: 7.7s\tremaining: 7.46s\n",
            "2040:\tlearn: 1.0817668\ttotal: 7.74s\tremaining: 7.42s\n",
            "2050:\tlearn: 1.0817389\ttotal: 7.77s\tremaining: 7.39s\n",
            "2060:\tlearn: 1.0817082\ttotal: 7.81s\tremaining: 7.34s\n",
            "2070:\tlearn: 1.0816595\ttotal: 7.84s\tremaining: 7.3s\n",
            "2080:\tlearn: 1.0816105\ttotal: 7.89s\tremaining: 7.28s\n",
            "2090:\tlearn: 1.0815620\ttotal: 7.93s\tremaining: 7.24s\n",
            "2100:\tlearn: 1.0815210\ttotal: 7.97s\tremaining: 7.21s\n",
            "2110:\tlearn: 1.0814950\ttotal: 8.01s\tremaining: 7.16s\n",
            "2120:\tlearn: 1.0814526\ttotal: 8.04s\tremaining: 7.12s\n",
            "2130:\tlearn: 1.0814321\ttotal: 8.07s\tremaining: 7.08s\n",
            "2140:\tlearn: 1.0813840\ttotal: 8.12s\tremaining: 7.05s\n",
            "2150:\tlearn: 1.0813222\ttotal: 8.15s\tremaining: 7.01s\n",
            "2160:\tlearn: 1.0812651\ttotal: 8.19s\tremaining: 6.97s\n",
            "2170:\tlearn: 1.0812257\ttotal: 8.22s\tremaining: 6.93s\n",
            "2180:\tlearn: 1.0811763\ttotal: 8.26s\tremaining: 6.89s\n",
            "2190:\tlearn: 1.0811366\ttotal: 8.29s\tremaining: 6.85s\n",
            "2200:\tlearn: 1.0810926\ttotal: 8.34s\tremaining: 6.81s\n",
            "2210:\tlearn: 1.0810514\ttotal: 8.38s\tremaining: 6.78s\n",
            "2220:\tlearn: 1.0810140\ttotal: 8.42s\tremaining: 6.74s\n",
            "2230:\tlearn: 1.0809779\ttotal: 8.45s\tremaining: 6.7s\n",
            "2240:\tlearn: 1.0809467\ttotal: 8.48s\tremaining: 6.66s\n",
            "2250:\tlearn: 1.0809148\ttotal: 8.52s\tremaining: 6.62s\n",
            "2260:\tlearn: 1.0808825\ttotal: 8.59s\tremaining: 6.6s\n",
            "2270:\tlearn: 1.0808404\ttotal: 8.63s\tremaining: 6.57s\n",
            "2280:\tlearn: 1.0807948\ttotal: 8.66s\tremaining: 6.53s\n",
            "2290:\tlearn: 1.0807637\ttotal: 8.7s\tremaining: 6.49s\n",
            "2300:\tlearn: 1.0807304\ttotal: 8.73s\tremaining: 6.45s\n",
            "2310:\tlearn: 1.0806826\ttotal: 8.77s\tremaining: 6.41s\n",
            "2320:\tlearn: 1.0806417\ttotal: 8.81s\tremaining: 6.37s\n",
            "2330:\tlearn: 1.0806027\ttotal: 8.84s\tremaining: 6.33s\n",
            "2340:\tlearn: 1.0805699\ttotal: 8.88s\tremaining: 6.29s\n",
            "2350:\tlearn: 1.0805361\ttotal: 8.92s\tremaining: 6.26s\n",
            "2360:\tlearn: 1.0805118\ttotal: 8.95s\tremaining: 6.22s\n",
            "2370:\tlearn: 1.0804835\ttotal: 8.99s\tremaining: 6.17s\n",
            "2380:\tlearn: 1.0804542\ttotal: 9.03s\tremaining: 6.14s\n",
            "2390:\tlearn: 1.0804193\ttotal: 9.06s\tremaining: 6.1s\n",
            "2400:\tlearn: 1.0803890\ttotal: 9.1s\tremaining: 6.06s\n",
            "2410:\tlearn: 1.0803523\ttotal: 9.13s\tremaining: 6.02s\n",
            "2420:\tlearn: 1.0803263\ttotal: 9.17s\tremaining: 5.98s\n",
            "2430:\tlearn: 1.0802930\ttotal: 9.21s\tremaining: 5.94s\n",
            "2440:\tlearn: 1.0802516\ttotal: 9.25s\tremaining: 5.91s\n",
            "2450:\tlearn: 1.0802113\ttotal: 9.29s\tremaining: 5.87s\n",
            "2460:\tlearn: 1.0801748\ttotal: 9.32s\tremaining: 5.83s\n",
            "2470:\tlearn: 1.0801377\ttotal: 9.37s\tremaining: 5.8s\n",
            "2480:\tlearn: 1.0801078\ttotal: 9.4s\tremaining: 5.76s\n",
            "2490:\tlearn: 1.0800791\ttotal: 9.44s\tremaining: 5.72s\n",
            "2500:\tlearn: 1.0800478\ttotal: 9.48s\tremaining: 5.68s\n",
            "2510:\tlearn: 1.0800100\ttotal: 9.52s\tremaining: 5.64s\n",
            "2520:\tlearn: 1.0799658\ttotal: 9.55s\tremaining: 5.6s\n",
            "2530:\tlearn: 1.0799393\ttotal: 9.59s\tremaining: 5.56s\n",
            "2540:\tlearn: 1.0799080\ttotal: 9.62s\tremaining: 5.52s\n",
            "2550:\tlearn: 1.0798723\ttotal: 9.65s\tremaining: 5.48s\n",
            "2560:\tlearn: 1.0798455\ttotal: 9.7s\tremaining: 5.45s\n",
            "2570:\tlearn: 1.0798096\ttotal: 9.73s\tremaining: 5.41s\n",
            "2580:\tlearn: 1.0797698\ttotal: 9.77s\tremaining: 5.37s\n",
            "2590:\tlearn: 1.0797381\ttotal: 9.8s\tremaining: 5.33s\n",
            "2600:\tlearn: 1.0797067\ttotal: 9.84s\tremaining: 5.29s\n",
            "2610:\tlearn: 1.0796597\ttotal: 9.88s\tremaining: 5.25s\n",
            "2620:\tlearn: 1.0796195\ttotal: 9.92s\tremaining: 5.22s\n",
            "2630:\tlearn: 1.0795897\ttotal: 9.95s\tremaining: 5.18s\n",
            "2640:\tlearn: 1.0795498\ttotal: 9.99s\tremaining: 5.14s\n",
            "2650:\tlearn: 1.0795155\ttotal: 10s\tremaining: 5.1s\n",
            "2660:\tlearn: 1.0794878\ttotal: 10.1s\tremaining: 5.06s\n",
            "2670:\tlearn: 1.0794555\ttotal: 10.1s\tremaining: 5.02s\n",
            "2680:\tlearn: 1.0794152\ttotal: 10.1s\tremaining: 4.99s\n",
            "2690:\tlearn: 1.0793768\ttotal: 10.2s\tremaining: 4.95s\n",
            "2700:\tlearn: 1.0793427\ttotal: 10.2s\tremaining: 4.91s\n",
            "2710:\tlearn: 1.0792891\ttotal: 10.2s\tremaining: 4.87s\n",
            "2720:\tlearn: 1.0792495\ttotal: 10.3s\tremaining: 4.83s\n",
            "2730:\tlearn: 1.0792127\ttotal: 10.3s\tremaining: 4.79s\n",
            "2740:\tlearn: 1.0791826\ttotal: 10.4s\tremaining: 4.76s\n",
            "2750:\tlearn: 1.0791423\ttotal: 10.4s\tremaining: 4.72s\n",
            "2760:\tlearn: 1.0791074\ttotal: 10.4s\tremaining: 4.68s\n",
            "2770:\tlearn: 1.0790651\ttotal: 10.5s\tremaining: 4.64s\n",
            "2780:\tlearn: 1.0790229\ttotal: 10.5s\tremaining: 4.6s\n",
            "2790:\tlearn: 1.0789873\ttotal: 10.5s\tremaining: 4.56s\n",
            "2800:\tlearn: 1.0789538\ttotal: 10.6s\tremaining: 4.53s\n",
            "2810:\tlearn: 1.0789199\ttotal: 10.6s\tremaining: 4.49s\n",
            "2820:\tlearn: 1.0788884\ttotal: 10.7s\tremaining: 4.46s\n",
            "2830:\tlearn: 1.0788448\ttotal: 10.7s\tremaining: 4.42s\n",
            "2840:\tlearn: 1.0788203\ttotal: 10.7s\tremaining: 4.38s\n",
            "2850:\tlearn: 1.0787918\ttotal: 10.8s\tremaining: 4.34s\n",
            "2860:\tlearn: 1.0787518\ttotal: 10.8s\tremaining: 4.31s\n",
            "2870:\tlearn: 1.0787161\ttotal: 10.9s\tremaining: 4.27s\n",
            "2880:\tlearn: 1.0786728\ttotal: 10.9s\tremaining: 4.23s\n",
            "2890:\tlearn: 1.0786374\ttotal: 10.9s\tremaining: 4.19s\n",
            "2900:\tlearn: 1.0786081\ttotal: 11s\tremaining: 4.15s\n",
            "2910:\tlearn: 1.0785720\ttotal: 11s\tremaining: 4.11s\n",
            "2920:\tlearn: 1.0785333\ttotal: 11s\tremaining: 4.08s\n",
            "2930:\tlearn: 1.0785023\ttotal: 11.1s\tremaining: 4.04s\n",
            "2940:\tlearn: 1.0784562\ttotal: 11.1s\tremaining: 4s\n",
            "2950:\tlearn: 1.0784246\ttotal: 11.2s\tremaining: 3.96s\n",
            "2960:\tlearn: 1.0783867\ttotal: 11.2s\tremaining: 3.93s\n",
            "2970:\tlearn: 1.0783573\ttotal: 11.2s\tremaining: 3.89s\n",
            "2980:\tlearn: 1.0783215\ttotal: 11.3s\tremaining: 3.85s\n",
            "2990:\tlearn: 1.0782971\ttotal: 11.3s\tremaining: 3.81s\n",
            "3000:\tlearn: 1.0782607\ttotal: 11.3s\tremaining: 3.78s\n",
            "3010:\tlearn: 1.0782226\ttotal: 11.4s\tremaining: 3.74s\n",
            "3020:\tlearn: 1.0781905\ttotal: 11.4s\tremaining: 3.7s\n",
            "3030:\tlearn: 1.0781542\ttotal: 11.4s\tremaining: 3.66s\n",
            "3040:\tlearn: 1.0781319\ttotal: 11.5s\tremaining: 3.63s\n",
            "3050:\tlearn: 1.0780949\ttotal: 11.6s\tremaining: 3.59s\n",
            "3060:\tlearn: 1.0780631\ttotal: 11.6s\tremaining: 3.56s\n",
            "3070:\tlearn: 1.0780360\ttotal: 11.6s\tremaining: 3.52s\n",
            "3080:\tlearn: 1.0779984\ttotal: 11.7s\tremaining: 3.48s\n",
            "3090:\tlearn: 1.0779661\ttotal: 11.7s\tremaining: 3.45s\n",
            "3100:\tlearn: 1.0779290\ttotal: 11.8s\tremaining: 3.41s\n",
            "3110:\tlearn: 1.0778979\ttotal: 11.8s\tremaining: 3.37s\n",
            "3120:\tlearn: 1.0778593\ttotal: 11.8s\tremaining: 3.33s\n",
            "3130:\tlearn: 1.0778359\ttotal: 11.9s\tremaining: 3.3s\n",
            "3140:\tlearn: 1.0777965\ttotal: 11.9s\tremaining: 3.26s\n",
            "3150:\tlearn: 1.0777661\ttotal: 12s\tremaining: 3.22s\n",
            "3160:\tlearn: 1.0777345\ttotal: 12s\tremaining: 3.19s\n",
            "3170:\tlearn: 1.0776971\ttotal: 12s\tremaining: 3.15s\n",
            "3180:\tlearn: 1.0776605\ttotal: 12.1s\tremaining: 3.11s\n",
            "3190:\tlearn: 1.0776308\ttotal: 12.1s\tremaining: 3.07s\n",
            "3200:\tlearn: 1.0775965\ttotal: 12.1s\tremaining: 3.03s\n",
            "3210:\tlearn: 1.0775638\ttotal: 12.2s\tremaining: 3s\n",
            "3220:\tlearn: 1.0775266\ttotal: 12.2s\tremaining: 2.96s\n",
            "3230:\tlearn: 1.0774991\ttotal: 12.3s\tremaining: 2.92s\n",
            "3240:\tlearn: 1.0774673\ttotal: 12.3s\tremaining: 2.88s\n",
            "3250:\tlearn: 1.0774413\ttotal: 12.3s\tremaining: 2.85s\n",
            "3260:\tlearn: 1.0774231\ttotal: 12.4s\tremaining: 2.81s\n",
            "3270:\tlearn: 1.0773989\ttotal: 12.4s\tremaining: 2.77s\n",
            "3280:\tlearn: 1.0773619\ttotal: 12.5s\tremaining: 2.73s\n",
            "3290:\tlearn: 1.0773304\ttotal: 12.5s\tremaining: 2.69s\n",
            "3300:\tlearn: 1.0773102\ttotal: 12.5s\tremaining: 2.65s\n",
            "3310:\tlearn: 1.0772878\ttotal: 12.6s\tremaining: 2.62s\n",
            "3320:\tlearn: 1.0772467\ttotal: 12.6s\tremaining: 2.58s\n",
            "3330:\tlearn: 1.0772081\ttotal: 12.7s\tremaining: 2.54s\n",
            "3340:\tlearn: 1.0771710\ttotal: 12.7s\tremaining: 2.5s\n",
            "3350:\tlearn: 1.0771482\ttotal: 12.7s\tremaining: 2.47s\n",
            "3360:\tlearn: 1.0771206\ttotal: 12.8s\tremaining: 2.43s\n",
            "3370:\tlearn: 1.0770897\ttotal: 12.8s\tremaining: 2.39s\n",
            "3380:\tlearn: 1.0770581\ttotal: 12.8s\tremaining: 2.35s\n",
            "3390:\tlearn: 1.0770197\ttotal: 12.9s\tremaining: 2.32s\n",
            "3400:\tlearn: 1.0769874\ttotal: 12.9s\tremaining: 2.28s\n",
            "3410:\tlearn: 1.0769581\ttotal: 13s\tremaining: 2.24s\n",
            "3420:\tlearn: 1.0769224\ttotal: 13s\tremaining: 2.2s\n",
            "3430:\tlearn: 1.0768925\ttotal: 13s\tremaining: 2.16s\n",
            "3440:\tlearn: 1.0768557\ttotal: 13.1s\tremaining: 2.13s\n",
            "3450:\tlearn: 1.0768238\ttotal: 13.1s\tremaining: 2.09s\n",
            "3460:\tlearn: 1.0768001\ttotal: 13.2s\tremaining: 2.05s\n",
            "3470:\tlearn: 1.0767800\ttotal: 13.2s\tremaining: 2.01s\n",
            "3480:\tlearn: 1.0767484\ttotal: 13.2s\tremaining: 1.97s\n",
            "3490:\tlearn: 1.0767221\ttotal: 13.3s\tremaining: 1.94s\n",
            "3500:\tlearn: 1.0766925\ttotal: 13.3s\tremaining: 1.9s\n",
            "3510:\tlearn: 1.0766541\ttotal: 13.4s\tremaining: 1.86s\n",
            "3520:\tlearn: 1.0766265\ttotal: 13.4s\tremaining: 1.82s\n",
            "3530:\tlearn: 1.0766086\ttotal: 13.4s\tremaining: 1.78s\n",
            "3540:\tlearn: 1.0765707\ttotal: 13.5s\tremaining: 1.75s\n",
            "3550:\tlearn: 1.0765298\ttotal: 13.5s\tremaining: 1.71s\n",
            "3560:\tlearn: 1.0764918\ttotal: 13.6s\tremaining: 1.67s\n",
            "3570:\tlearn: 1.0764587\ttotal: 13.6s\tremaining: 1.63s\n",
            "3580:\tlearn: 1.0764161\ttotal: 13.6s\tremaining: 1.59s\n",
            "3590:\tlearn: 1.0763792\ttotal: 13.7s\tremaining: 1.56s\n",
            "3600:\tlearn: 1.0763572\ttotal: 13.7s\tremaining: 1.52s\n",
            "3610:\tlearn: 1.0763233\ttotal: 13.7s\tremaining: 1.48s\n",
            "3620:\tlearn: 1.0762878\ttotal: 13.8s\tremaining: 1.44s\n",
            "3630:\tlearn: 1.0762555\ttotal: 13.8s\tremaining: 1.41s\n",
            "3640:\tlearn: 1.0762311\ttotal: 13.9s\tremaining: 1.37s\n",
            "3650:\tlearn: 1.0762051\ttotal: 13.9s\tremaining: 1.33s\n",
            "3660:\tlearn: 1.0761866\ttotal: 13.9s\tremaining: 1.29s\n",
            "3670:\tlearn: 1.0761619\ttotal: 14s\tremaining: 1.25s\n",
            "3680:\tlearn: 1.0761369\ttotal: 14s\tremaining: 1.22s\n",
            "3690:\tlearn: 1.0761147\ttotal: 14.1s\tremaining: 1.18s\n",
            "3700:\tlearn: 1.0760856\ttotal: 14.1s\tremaining: 1.14s\n",
            "3710:\tlearn: 1.0760541\ttotal: 14.2s\tremaining: 1.1s\n",
            "3720:\tlearn: 1.0760270\ttotal: 14.2s\tremaining: 1.06s\n",
            "3730:\tlearn: 1.0759977\ttotal: 14.2s\tremaining: 1.03s\n",
            "3740:\tlearn: 1.0759757\ttotal: 14.3s\tremaining: 989ms\n",
            "3750:\tlearn: 1.0759519\ttotal: 14.3s\tremaining: 951ms\n",
            "3760:\tlearn: 1.0759294\ttotal: 14.4s\tremaining: 913ms\n",
            "3770:\tlearn: 1.0759018\ttotal: 14.4s\tremaining: 875ms\n",
            "3780:\tlearn: 1.0758693\ttotal: 14.4s\tremaining: 837ms\n",
            "3790:\tlearn: 1.0758296\ttotal: 14.5s\tremaining: 799ms\n",
            "3800:\tlearn: 1.0757989\ttotal: 14.5s\tremaining: 761ms\n",
            "3810:\tlearn: 1.0757720\ttotal: 14.6s\tremaining: 722ms\n",
            "3820:\tlearn: 1.0757459\ttotal: 14.6s\tremaining: 684ms\n",
            "3830:\tlearn: 1.0757191\ttotal: 14.6s\tremaining: 646ms\n",
            "3840:\tlearn: 1.0756852\ttotal: 14.7s\tremaining: 608ms\n",
            "3850:\tlearn: 1.0756652\ttotal: 14.7s\tremaining: 569ms\n",
            "3860:\tlearn: 1.0756518\ttotal: 14.8s\tremaining: 531ms\n",
            "3870:\tlearn: 1.0756258\ttotal: 14.8s\tremaining: 493ms\n",
            "3880:\tlearn: 1.0755990\ttotal: 14.8s\tremaining: 455ms\n",
            "3890:\tlearn: 1.0755638\ttotal: 14.9s\tremaining: 417ms\n",
            "3900:\tlearn: 1.0755457\ttotal: 14.9s\tremaining: 378ms\n",
            "3910:\tlearn: 1.0755137\ttotal: 15s\tremaining: 340ms\n",
            "3920:\tlearn: 1.0754807\ttotal: 15s\tremaining: 302ms\n",
            "3930:\tlearn: 1.0754464\ttotal: 15s\tremaining: 264ms\n",
            "3940:\tlearn: 1.0754123\ttotal: 15.1s\tremaining: 226ms\n",
            "3950:\tlearn: 1.0753775\ttotal: 15.1s\tremaining: 187ms\n",
            "3960:\tlearn: 1.0753385\ttotal: 15.1s\tremaining: 149ms\n",
            "3970:\tlearn: 1.0753203\ttotal: 15.2s\tremaining: 111ms\n",
            "3980:\tlearn: 1.0752882\ttotal: 15.2s\tremaining: 72.6ms\n",
            "3990:\tlearn: 1.0752576\ttotal: 15.3s\tremaining: 34.4ms\n",
            "3999:\tlearn: 1.0752313\ttotal: 15.3s\tremaining: 0us\n",
            "Fold 12, Valid score = 1.0917\n"
          ],
          "name": "stdout"
        },
        {
          "output_type": "stream",
          "text": [
            "Warning: less than 75% gpu memory available for training. Free: 5249.75 Total: 16280.875\n"
          ],
          "name": "stderr"
        },
        {
          "output_type": "stream",
          "text": [
            "0:\tlearn: 1.3525924\ttotal: 5.13ms\tremaining: 20.5s\n",
            "10:\tlearn: 1.1883053\ttotal: 43.2ms\tremaining: 15.7s\n",
            "20:\tlearn: 1.1386697\ttotal: 81.3ms\tremaining: 15.4s\n",
            "30:\tlearn: 1.1210482\ttotal: 119ms\tremaining: 15.2s\n",
            "40:\tlearn: 1.1142343\ttotal: 166ms\tremaining: 16s\n",
            "50:\tlearn: 1.1112076\ttotal: 212ms\tremaining: 16.4s\n",
            "60:\tlearn: 1.1095317\ttotal: 252ms\tremaining: 16.3s\n",
            "70:\tlearn: 1.1081351\ttotal: 291ms\tremaining: 16.1s\n",
            "80:\tlearn: 1.1072236\ttotal: 329ms\tremaining: 15.9s\n",
            "90:\tlearn: 1.1062715\ttotal: 369ms\tremaining: 15.8s\n",
            "100:\tlearn: 1.1054617\ttotal: 407ms\tremaining: 15.7s\n",
            "110:\tlearn: 1.1046993\ttotal: 456ms\tremaining: 16s\n",
            "120:\tlearn: 1.1040842\ttotal: 494ms\tremaining: 15.8s\n",
            "130:\tlearn: 1.1035548\ttotal: 529ms\tremaining: 15.6s\n",
            "140:\tlearn: 1.1031537\ttotal: 565ms\tremaining: 15.5s\n",
            "150:\tlearn: 1.1027962\ttotal: 601ms\tremaining: 15.3s\n",
            "160:\tlearn: 1.1024425\ttotal: 645ms\tremaining: 15.4s\n",
            "170:\tlearn: 1.1020255\ttotal: 686ms\tremaining: 15.4s\n",
            "180:\tlearn: 1.1014944\ttotal: 721ms\tremaining: 15.2s\n",
            "190:\tlearn: 1.1009743\ttotal: 759ms\tremaining: 15.1s\n",
            "200:\tlearn: 1.1005066\ttotal: 796ms\tremaining: 15s\n",
            "210:\tlearn: 1.1001227\ttotal: 833ms\tremaining: 15s\n",
            "220:\tlearn: 1.0997716\ttotal: 874ms\tremaining: 14.9s\n",
            "230:\tlearn: 1.0994481\ttotal: 923ms\tremaining: 15.1s\n",
            "240:\tlearn: 1.0990880\ttotal: 961ms\tremaining: 15s\n",
            "250:\tlearn: 1.0987715\ttotal: 997ms\tremaining: 14.9s\n",
            "260:\tlearn: 1.0983555\ttotal: 1.03s\tremaining: 14.8s\n",
            "270:\tlearn: 1.0980786\ttotal: 1.07s\tremaining: 14.7s\n",
            "280:\tlearn: 1.0977429\ttotal: 1.11s\tremaining: 14.7s\n",
            "290:\tlearn: 1.0974295\ttotal: 1.15s\tremaining: 14.7s\n",
            "300:\tlearn: 1.0970894\ttotal: 1.19s\tremaining: 14.6s\n",
            "310:\tlearn: 1.0967845\ttotal: 1.22s\tremaining: 14.5s\n",
            "320:\tlearn: 1.0965344\ttotal: 1.26s\tremaining: 14.5s\n",
            "330:\tlearn: 1.0962868\ttotal: 1.3s\tremaining: 14.4s\n",
            "340:\tlearn: 1.0960839\ttotal: 1.34s\tremaining: 14.4s\n",
            "350:\tlearn: 1.0958182\ttotal: 1.39s\tremaining: 14.5s\n",
            "360:\tlearn: 1.0955965\ttotal: 1.43s\tremaining: 14.4s\n",
            "370:\tlearn: 1.0952941\ttotal: 1.47s\tremaining: 14.3s\n",
            "380:\tlearn: 1.0950407\ttotal: 1.5s\tremaining: 14.3s\n",
            "390:\tlearn: 1.0947899\ttotal: 1.54s\tremaining: 14.2s\n",
            "400:\tlearn: 1.0945104\ttotal: 1.58s\tremaining: 14.2s\n",
            "410:\tlearn: 1.0942922\ttotal: 1.64s\tremaining: 14.3s\n",
            "420:\tlearn: 1.0940522\ttotal: 1.67s\tremaining: 14.2s\n",
            "430:\tlearn: 1.0938407\ttotal: 1.71s\tremaining: 14.2s\n",
            "440:\tlearn: 1.0936337\ttotal: 1.75s\tremaining: 14.1s\n",
            "450:\tlearn: 1.0933811\ttotal: 1.78s\tremaining: 14s\n",
            "460:\tlearn: 1.0932248\ttotal: 1.82s\tremaining: 14s\n",
            "470:\tlearn: 1.0930200\ttotal: 1.87s\tremaining: 14s\n",
            "480:\tlearn: 1.0928165\ttotal: 1.91s\tremaining: 14s\n",
            "490:\tlearn: 1.0925966\ttotal: 1.95s\tremaining: 13.9s\n",
            "500:\tlearn: 1.0924391\ttotal: 1.98s\tremaining: 13.9s\n",
            "510:\tlearn: 1.0922267\ttotal: 2.02s\tremaining: 13.8s\n",
            "520:\tlearn: 1.0920659\ttotal: 2.06s\tremaining: 13.8s\n",
            "530:\tlearn: 1.0919426\ttotal: 2.11s\tremaining: 13.8s\n",
            "540:\tlearn: 1.0917753\ttotal: 2.14s\tremaining: 13.7s\n",
            "550:\tlearn: 1.0916056\ttotal: 2.19s\tremaining: 13.7s\n",
            "560:\tlearn: 1.0914512\ttotal: 2.22s\tremaining: 13.6s\n",
            "570:\tlearn: 1.0912281\ttotal: 2.26s\tremaining: 13.6s\n",
            "580:\tlearn: 1.0911130\ttotal: 2.31s\tremaining: 13.6s\n",
            "590:\tlearn: 1.0909404\ttotal: 2.36s\tremaining: 13.6s\n",
            "600:\tlearn: 1.0908028\ttotal: 2.4s\tremaining: 13.6s\n",
            "610:\tlearn: 1.0906569\ttotal: 2.43s\tremaining: 13.5s\n",
            "620:\tlearn: 1.0905255\ttotal: 2.47s\tremaining: 13.4s\n",
            "630:\tlearn: 1.0903667\ttotal: 2.51s\tremaining: 13.4s\n",
            "640:\tlearn: 1.0902695\ttotal: 2.55s\tremaining: 13.4s\n",
            "650:\tlearn: 1.0901137\ttotal: 2.59s\tremaining: 13.3s\n",
            "660:\tlearn: 1.0899897\ttotal: 2.65s\tremaining: 13.4s\n",
            "670:\tlearn: 1.0898829\ttotal: 2.68s\tremaining: 13.3s\n",
            "680:\tlearn: 1.0897626\ttotal: 2.72s\tremaining: 13.3s\n",
            "690:\tlearn: 1.0896444\ttotal: 2.77s\tremaining: 13.2s\n",
            "700:\tlearn: 1.0894743\ttotal: 2.8s\tremaining: 13.2s\n",
            "710:\tlearn: 1.0893589\ttotal: 2.84s\tremaining: 13.1s\n",
            "720:\tlearn: 1.0892473\ttotal: 2.88s\tremaining: 13.1s\n",
            "730:\tlearn: 1.0891321\ttotal: 2.92s\tremaining: 13.1s\n",
            "740:\tlearn: 1.0890346\ttotal: 2.96s\tremaining: 13s\n",
            "750:\tlearn: 1.0889340\ttotal: 3.01s\tremaining: 13s\n",
            "760:\tlearn: 1.0888260\ttotal: 3.04s\tremaining: 13s\n",
            "770:\tlearn: 1.0886975\ttotal: 3.08s\tremaining: 12.9s\n",
            "780:\tlearn: 1.0886114\ttotal: 3.12s\tremaining: 12.8s\n",
            "790:\tlearn: 1.0885417\ttotal: 3.15s\tremaining: 12.8s\n",
            "800:\tlearn: 1.0884578\ttotal: 3.19s\tremaining: 12.7s\n",
            "810:\tlearn: 1.0883854\ttotal: 3.23s\tremaining: 12.7s\n",
            "820:\tlearn: 1.0883243\ttotal: 3.27s\tremaining: 12.7s\n",
            "830:\tlearn: 1.0882338\ttotal: 3.31s\tremaining: 12.6s\n",
            "840:\tlearn: 1.0881389\ttotal: 3.35s\tremaining: 12.6s\n",
            "850:\tlearn: 1.0880655\ttotal: 3.39s\tremaining: 12.5s\n",
            "860:\tlearn: 1.0879684\ttotal: 3.42s\tremaining: 12.5s\n",
            "870:\tlearn: 1.0878825\ttotal: 3.47s\tremaining: 12.5s\n",
            "880:\tlearn: 1.0878176\ttotal: 3.5s\tremaining: 12.4s\n",
            "890:\tlearn: 1.0877446\ttotal: 3.54s\tremaining: 12.4s\n",
            "900:\tlearn: 1.0876583\ttotal: 3.58s\tremaining: 12.3s\n",
            "910:\tlearn: 1.0875841\ttotal: 3.63s\tremaining: 12.3s\n",
            "920:\tlearn: 1.0874905\ttotal: 3.66s\tremaining: 12.2s\n",
            "930:\tlearn: 1.0874132\ttotal: 3.71s\tremaining: 12.2s\n",
            "940:\tlearn: 1.0873597\ttotal: 3.74s\tremaining: 12.2s\n",
            "950:\tlearn: 1.0873002\ttotal: 3.78s\tremaining: 12.1s\n",
            "960:\tlearn: 1.0872507\ttotal: 3.82s\tremaining: 12.1s\n",
            "970:\tlearn: 1.0871710\ttotal: 3.86s\tremaining: 12s\n",
            "980:\tlearn: 1.0870910\ttotal: 3.9s\tremaining: 12s\n",
            "990:\tlearn: 1.0870447\ttotal: 3.94s\tremaining: 12s\n",
            "1000:\tlearn: 1.0869741\ttotal: 3.98s\tremaining: 11.9s\n",
            "1010:\tlearn: 1.0868960\ttotal: 4.02s\tremaining: 11.9s\n",
            "1020:\tlearn: 1.0868373\ttotal: 4.05s\tremaining: 11.8s\n",
            "1030:\tlearn: 1.0867802\ttotal: 4.09s\tremaining: 11.8s\n",
            "1040:\tlearn: 1.0867319\ttotal: 4.13s\tremaining: 11.7s\n",
            "1050:\tlearn: 1.0866536\ttotal: 4.18s\tremaining: 11.7s\n",
            "1060:\tlearn: 1.0865998\ttotal: 4.21s\tremaining: 11.7s\n",
            "1070:\tlearn: 1.0865249\ttotal: 4.25s\tremaining: 11.6s\n",
            "1080:\tlearn: 1.0864583\ttotal: 4.29s\tremaining: 11.6s\n",
            "1090:\tlearn: 1.0863894\ttotal: 4.33s\tremaining: 11.5s\n",
            "1100:\tlearn: 1.0863287\ttotal: 4.36s\tremaining: 11.5s\n",
            "1110:\tlearn: 1.0862497\ttotal: 4.41s\tremaining: 11.5s\n",
            "1120:\tlearn: 1.0861820\ttotal: 4.44s\tremaining: 11.4s\n",
            "1130:\tlearn: 1.0861289\ttotal: 4.48s\tremaining: 11.4s\n",
            "1140:\tlearn: 1.0861000\ttotal: 4.52s\tremaining: 11.3s\n",
            "1150:\tlearn: 1.0860459\ttotal: 4.55s\tremaining: 11.3s\n",
            "1160:\tlearn: 1.0859805\ttotal: 4.59s\tremaining: 11.2s\n",
            "1170:\tlearn: 1.0859201\ttotal: 4.65s\tremaining: 11.2s\n",
            "1180:\tlearn: 1.0858630\ttotal: 4.68s\tremaining: 11.2s\n",
            "1190:\tlearn: 1.0857945\ttotal: 4.72s\tremaining: 11.1s\n",
            "1200:\tlearn: 1.0857410\ttotal: 4.76s\tremaining: 11.1s\n",
            "1210:\tlearn: 1.0856828\ttotal: 4.79s\tremaining: 11s\n",
            "1220:\tlearn: 1.0856440\ttotal: 4.83s\tremaining: 11s\n",
            "1230:\tlearn: 1.0855542\ttotal: 4.88s\tremaining: 11s\n",
            "1240:\tlearn: 1.0855125\ttotal: 4.91s\tremaining: 10.9s\n",
            "1250:\tlearn: 1.0854634\ttotal: 4.95s\tremaining: 10.9s\n",
            "1260:\tlearn: 1.0854092\ttotal: 5s\tremaining: 10.9s\n",
            "1270:\tlearn: 1.0853637\ttotal: 5.05s\tremaining: 10.8s\n",
            "1280:\tlearn: 1.0853038\ttotal: 5.1s\tremaining: 10.8s\n",
            "1290:\tlearn: 1.0852381\ttotal: 5.14s\tremaining: 10.8s\n",
            "1300:\tlearn: 1.0851756\ttotal: 5.17s\tremaining: 10.7s\n",
            "1310:\tlearn: 1.0851158\ttotal: 5.21s\tremaining: 10.7s\n",
            "1320:\tlearn: 1.0850490\ttotal: 5.25s\tremaining: 10.6s\n",
            "1330:\tlearn: 1.0849841\ttotal: 5.28s\tremaining: 10.6s\n",
            "1340:\tlearn: 1.0849274\ttotal: 5.33s\tremaining: 10.6s\n",
            "1350:\tlearn: 1.0848717\ttotal: 5.37s\tremaining: 10.5s\n",
            "1360:\tlearn: 1.0848063\ttotal: 5.41s\tremaining: 10.5s\n",
            "1370:\tlearn: 1.0847557\ttotal: 5.44s\tremaining: 10.4s\n",
            "1380:\tlearn: 1.0846973\ttotal: 5.48s\tremaining: 10.4s\n",
            "1390:\tlearn: 1.0846462\ttotal: 5.52s\tremaining: 10.3s\n",
            "1400:\tlearn: 1.0846181\ttotal: 5.56s\tremaining: 10.3s\n",
            "1410:\tlearn: 1.0845700\ttotal: 5.61s\tremaining: 10.3s\n",
            "1420:\tlearn: 1.0845051\ttotal: 5.64s\tremaining: 10.2s\n",
            "1430:\tlearn: 1.0844699\ttotal: 5.68s\tremaining: 10.2s\n",
            "1440:\tlearn: 1.0844110\ttotal: 5.72s\tremaining: 10.2s\n",
            "1450:\tlearn: 1.0843595\ttotal: 5.76s\tremaining: 10.1s\n",
            "1460:\tlearn: 1.0843007\ttotal: 5.8s\tremaining: 10.1s\n",
            "1470:\tlearn: 1.0842373\ttotal: 5.84s\tremaining: 10s\n",
            "1480:\tlearn: 1.0841856\ttotal: 5.88s\tremaining: 10s\n",
            "1490:\tlearn: 1.0841383\ttotal: 5.92s\tremaining: 9.95s\n",
            "1500:\tlearn: 1.0840865\ttotal: 5.95s\tremaining: 9.91s\n",
            "1510:\tlearn: 1.0840313\ttotal: 5.99s\tremaining: 9.86s\n",
            "1520:\tlearn: 1.0839660\ttotal: 6.03s\tremaining: 9.83s\n",
            "1530:\tlearn: 1.0839126\ttotal: 6.07s\tremaining: 9.79s\n",
            "1540:\tlearn: 1.0838655\ttotal: 6.11s\tremaining: 9.74s\n",
            "1550:\tlearn: 1.0838235\ttotal: 6.14s\tremaining: 9.7s\n",
            "1560:\tlearn: 1.0837690\ttotal: 6.18s\tremaining: 9.66s\n",
            "1570:\tlearn: 1.0837110\ttotal: 6.22s\tremaining: 9.62s\n",
            "1580:\tlearn: 1.0836842\ttotal: 6.26s\tremaining: 9.59s\n",
            "1590:\tlearn: 1.0836428\ttotal: 6.3s\tremaining: 9.54s\n",
            "1600:\tlearn: 1.0836015\ttotal: 6.34s\tremaining: 9.5s\n",
            "1610:\tlearn: 1.0835543\ttotal: 6.37s\tremaining: 9.45s\n",
            "1620:\tlearn: 1.0835083\ttotal: 6.41s\tremaining: 9.41s\n",
            "1630:\tlearn: 1.0834665\ttotal: 6.45s\tremaining: 9.36s\n",
            "1640:\tlearn: 1.0834259\ttotal: 6.49s\tremaining: 9.34s\n",
            "1650:\tlearn: 1.0833790\ttotal: 6.53s\tremaining: 9.29s\n",
            "1660:\tlearn: 1.0833401\ttotal: 6.57s\tremaining: 9.25s\n",
            "1670:\tlearn: 1.0833052\ttotal: 6.62s\tremaining: 9.22s\n",
            "1680:\tlearn: 1.0832375\ttotal: 6.65s\tremaining: 9.18s\n",
            "1690:\tlearn: 1.0831779\ttotal: 6.69s\tremaining: 9.13s\n",
            "1700:\tlearn: 1.0831444\ttotal: 6.74s\tremaining: 9.11s\n",
            "1710:\tlearn: 1.0831021\ttotal: 6.78s\tremaining: 9.07s\n",
            "1720:\tlearn: 1.0830586\ttotal: 6.82s\tremaining: 9.03s\n",
            "1730:\tlearn: 1.0830147\ttotal: 6.86s\tremaining: 9s\n",
            "1740:\tlearn: 1.0829741\ttotal: 6.9s\tremaining: 8.96s\n",
            "1750:\tlearn: 1.0829307\ttotal: 6.95s\tremaining: 8.93s\n",
            "1760:\tlearn: 1.0828804\ttotal: 7s\tremaining: 8.9s\n",
            "1770:\tlearn: 1.0828473\ttotal: 7.04s\tremaining: 8.86s\n",
            "1780:\tlearn: 1.0828079\ttotal: 7.08s\tremaining: 8.82s\n",
            "1790:\tlearn: 1.0827738\ttotal: 7.12s\tremaining: 8.78s\n",
            "1800:\tlearn: 1.0827372\ttotal: 7.16s\tremaining: 8.74s\n",
            "1810:\tlearn: 1.0826920\ttotal: 7.2s\tremaining: 8.71s\n",
            "1820:\tlearn: 1.0826543\ttotal: 7.24s\tremaining: 8.66s\n",
            "1830:\tlearn: 1.0826115\ttotal: 7.28s\tremaining: 8.62s\n",
            "1840:\tlearn: 1.0825693\ttotal: 7.31s\tremaining: 8.58s\n",
            "1850:\tlearn: 1.0825292\ttotal: 7.35s\tremaining: 8.54s\n",
            "1860:\tlearn: 1.0824731\ttotal: 7.4s\tremaining: 8.5s\n",
            "1870:\tlearn: 1.0824235\ttotal: 7.44s\tremaining: 8.46s\n",
            "1880:\tlearn: 1.0823743\ttotal: 7.47s\tremaining: 8.42s\n",
            "1890:\tlearn: 1.0823280\ttotal: 7.51s\tremaining: 8.38s\n",
            "1900:\tlearn: 1.0822674\ttotal: 7.55s\tremaining: 8.33s\n",
            "1910:\tlearn: 1.0822220\ttotal: 7.59s\tremaining: 8.3s\n",
            "1920:\tlearn: 1.0821776\ttotal: 7.64s\tremaining: 8.27s\n",
            "1930:\tlearn: 1.0821330\ttotal: 7.68s\tremaining: 8.23s\n",
            "1940:\tlearn: 1.0820879\ttotal: 7.72s\tremaining: 8.19s\n",
            "1950:\tlearn: 1.0820387\ttotal: 7.75s\tremaining: 8.14s\n",
            "1960:\tlearn: 1.0819948\ttotal: 7.79s\tremaining: 8.1s\n",
            "1970:\tlearn: 1.0819502\ttotal: 7.83s\tremaining: 8.06s\n",
            "1980:\tlearn: 1.0819030\ttotal: 7.88s\tremaining: 8.03s\n",
            "1990:\tlearn: 1.0818690\ttotal: 7.91s\tremaining: 7.99s\n",
            "2000:\tlearn: 1.0818284\ttotal: 7.95s\tremaining: 7.95s\n",
            "2010:\tlearn: 1.0817830\ttotal: 8s\tremaining: 7.91s\n",
            "2020:\tlearn: 1.0817527\ttotal: 8.04s\tremaining: 7.87s\n",
            "2030:\tlearn: 1.0817120\ttotal: 8.07s\tremaining: 7.83s\n",
            "2040:\tlearn: 1.0816853\ttotal: 8.12s\tremaining: 7.79s\n",
            "2050:\tlearn: 1.0816448\ttotal: 8.16s\tremaining: 7.75s\n",
            "2060:\tlearn: 1.0816187\ttotal: 8.2s\tremaining: 7.72s\n",
            "2070:\tlearn: 1.0815818\ttotal: 8.24s\tremaining: 7.68s\n",
            "2080:\tlearn: 1.0815443\ttotal: 8.28s\tremaining: 7.64s\n",
            "2090:\tlearn: 1.0815127\ttotal: 8.33s\tremaining: 7.6s\n",
            "2100:\tlearn: 1.0814677\ttotal: 8.37s\tremaining: 7.56s\n",
            "2110:\tlearn: 1.0814250\ttotal: 8.41s\tremaining: 7.52s\n",
            "2120:\tlearn: 1.0813871\ttotal: 8.44s\tremaining: 7.48s\n",
            "2130:\tlearn: 1.0813414\ttotal: 8.48s\tremaining: 7.44s\n",
            "2140:\tlearn: 1.0813005\ttotal: 8.52s\tremaining: 7.39s\n",
            "2150:\tlearn: 1.0812673\ttotal: 8.57s\tremaining: 7.36s\n",
            "2160:\tlearn: 1.0812330\ttotal: 8.61s\tremaining: 7.33s\n",
            "2170:\tlearn: 1.0811842\ttotal: 8.65s\tremaining: 7.29s\n",
            "2180:\tlearn: 1.0811446\ttotal: 8.69s\tremaining: 7.25s\n",
            "2190:\tlearn: 1.0811101\ttotal: 8.73s\tremaining: 7.21s\n",
            "2200:\tlearn: 1.0810699\ttotal: 8.78s\tremaining: 7.17s\n",
            "2210:\tlearn: 1.0810307\ttotal: 8.82s\tremaining: 7.13s\n",
            "2220:\tlearn: 1.0809828\ttotal: 8.86s\tremaining: 7.09s\n",
            "2230:\tlearn: 1.0809544\ttotal: 8.89s\tremaining: 7.05s\n",
            "2240:\tlearn: 1.0809145\ttotal: 8.93s\tremaining: 7.01s\n",
            "2250:\tlearn: 1.0808822\ttotal: 8.97s\tremaining: 6.97s\n",
            "2260:\tlearn: 1.0808441\ttotal: 9.02s\tremaining: 6.94s\n",
            "2270:\tlearn: 1.0808248\ttotal: 9.06s\tremaining: 6.9s\n",
            "2280:\tlearn: 1.0807814\ttotal: 9.09s\tremaining: 6.85s\n",
            "2290:\tlearn: 1.0807328\ttotal: 9.13s\tremaining: 6.81s\n",
            "2300:\tlearn: 1.0806880\ttotal: 9.17s\tremaining: 6.77s\n",
            "2310:\tlearn: 1.0806474\ttotal: 9.21s\tremaining: 6.73s\n",
            "2320:\tlearn: 1.0806048\ttotal: 9.26s\tremaining: 6.7s\n",
            "2330:\tlearn: 1.0805693\ttotal: 9.3s\tremaining: 6.66s\n",
            "2340:\tlearn: 1.0805359\ttotal: 9.34s\tremaining: 6.62s\n",
            "2350:\tlearn: 1.0804995\ttotal: 9.37s\tremaining: 6.57s\n",
            "2360:\tlearn: 1.0804631\ttotal: 9.41s\tremaining: 6.53s\n",
            "2370:\tlearn: 1.0804350\ttotal: 9.45s\tremaining: 6.49s\n",
            "2380:\tlearn: 1.0803884\ttotal: 9.49s\tremaining: 6.46s\n",
            "2390:\tlearn: 1.0803632\ttotal: 9.53s\tremaining: 6.41s\n",
            "2400:\tlearn: 1.0803218\ttotal: 9.59s\tremaining: 6.38s\n",
            "2410:\tlearn: 1.0802778\ttotal: 9.62s\tremaining: 6.34s\n",
            "2420:\tlearn: 1.0802273\ttotal: 9.65s\tremaining: 6.3s\n",
            "2430:\tlearn: 1.0801958\ttotal: 9.69s\tremaining: 6.25s\n",
            "2440:\tlearn: 1.0801568\ttotal: 9.74s\tremaining: 6.22s\n",
            "2450:\tlearn: 1.0801194\ttotal: 9.77s\tremaining: 6.18s\n",
            "2460:\tlearn: 1.0800857\ttotal: 9.81s\tremaining: 6.13s\n",
            "2470:\tlearn: 1.0800564\ttotal: 9.85s\tremaining: 6.09s\n",
            "2480:\tlearn: 1.0800268\ttotal: 9.88s\tremaining: 6.05s\n",
            "2490:\tlearn: 1.0799948\ttotal: 9.92s\tremaining: 6.01s\n",
            "2500:\tlearn: 1.0799650\ttotal: 9.97s\tremaining: 5.97s\n",
            "2510:\tlearn: 1.0799306\ttotal: 10s\tremaining: 5.94s\n",
            "2520:\tlearn: 1.0798840\ttotal: 10s\tremaining: 5.89s\n",
            "2530:\tlearn: 1.0798479\ttotal: 10.1s\tremaining: 5.85s\n",
            "2540:\tlearn: 1.0798211\ttotal: 10.1s\tremaining: 5.81s\n",
            "2550:\tlearn: 1.0797980\ttotal: 10.2s\tremaining: 5.77s\n",
            "2560:\tlearn: 1.0797625\ttotal: 10.2s\tremaining: 5.73s\n",
            "2570:\tlearn: 1.0797262\ttotal: 10.2s\tremaining: 5.69s\n",
            "2580:\tlearn: 1.0797014\ttotal: 10.3s\tremaining: 5.65s\n",
            "2590:\tlearn: 1.0796717\ttotal: 10.3s\tremaining: 5.61s\n",
            "2600:\tlearn: 1.0796317\ttotal: 10.4s\tremaining: 5.57s\n",
            "2610:\tlearn: 1.0796061\ttotal: 10.4s\tremaining: 5.53s\n",
            "2620:\tlearn: 1.0795719\ttotal: 10.4s\tremaining: 5.49s\n",
            "2630:\tlearn: 1.0795501\ttotal: 10.5s\tremaining: 5.45s\n",
            "2640:\tlearn: 1.0795221\ttotal: 10.5s\tremaining: 5.41s\n",
            "2650:\tlearn: 1.0794980\ttotal: 10.5s\tremaining: 5.37s\n",
            "2660:\tlearn: 1.0794629\ttotal: 10.6s\tremaining: 5.33s\n",
            "2670:\tlearn: 1.0794217\ttotal: 10.6s\tremaining: 5.29s\n",
            "2680:\tlearn: 1.0793885\ttotal: 10.7s\tremaining: 5.25s\n",
            "2690:\tlearn: 1.0793613\ttotal: 10.7s\tremaining: 5.21s\n",
            "2700:\tlearn: 1.0793285\ttotal: 10.8s\tremaining: 5.17s\n",
            "2710:\tlearn: 1.0792993\ttotal: 10.8s\tremaining: 5.13s\n",
            "2720:\tlearn: 1.0792780\ttotal: 10.8s\tremaining: 5.09s\n",
            "2730:\tlearn: 1.0792397\ttotal: 10.9s\tremaining: 5.06s\n",
            "2740:\tlearn: 1.0792083\ttotal: 10.9s\tremaining: 5.02s\n",
            "2750:\tlearn: 1.0791707\ttotal: 11s\tremaining: 4.98s\n",
            "2760:\tlearn: 1.0791332\ttotal: 11s\tremaining: 4.94s\n",
            "2770:\tlearn: 1.0790907\ttotal: 11s\tremaining: 4.89s\n",
            "2780:\tlearn: 1.0790540\ttotal: 11.1s\tremaining: 4.85s\n",
            "2790:\tlearn: 1.0790229\ttotal: 11.1s\tremaining: 4.82s\n",
            "2800:\tlearn: 1.0789973\ttotal: 11.2s\tremaining: 4.78s\n",
            "2810:\tlearn: 1.0789753\ttotal: 11.2s\tremaining: 4.74s\n",
            "2820:\tlearn: 1.0789556\ttotal: 11.2s\tremaining: 4.7s\n",
            "2830:\tlearn: 1.0789346\ttotal: 11.3s\tremaining: 4.65s\n",
            "2840:\tlearn: 1.0788950\ttotal: 11.3s\tremaining: 4.61s\n",
            "2850:\tlearn: 1.0788644\ttotal: 11.3s\tremaining: 4.57s\n",
            "2860:\tlearn: 1.0788393\ttotal: 11.4s\tremaining: 4.53s\n",
            "2870:\tlearn: 1.0787955\ttotal: 11.4s\tremaining: 4.49s\n",
            "2880:\tlearn: 1.0787774\ttotal: 11.5s\tremaining: 4.45s\n",
            "2890:\tlearn: 1.0787424\ttotal: 11.5s\tremaining: 4.41s\n",
            "2900:\tlearn: 1.0787124\ttotal: 11.5s\tremaining: 4.37s\n",
            "2910:\tlearn: 1.0786687\ttotal: 11.6s\tremaining: 4.33s\n",
            "2920:\tlearn: 1.0786352\ttotal: 11.6s\tremaining: 4.29s\n",
            "2930:\tlearn: 1.0785887\ttotal: 11.7s\tremaining: 4.25s\n",
            "2940:\tlearn: 1.0785554\ttotal: 11.7s\tremaining: 4.21s\n",
            "2950:\tlearn: 1.0785286\ttotal: 11.7s\tremaining: 4.17s\n",
            "2960:\tlearn: 1.0784942\ttotal: 11.8s\tremaining: 4.13s\n",
            "2970:\tlearn: 1.0784649\ttotal: 11.8s\tremaining: 4.1s\n",
            "2980:\tlearn: 1.0784199\ttotal: 11.9s\tremaining: 4.06s\n",
            "2990:\tlearn: 1.0783919\ttotal: 11.9s\tremaining: 4.01s\n",
            "3000:\tlearn: 1.0783607\ttotal: 11.9s\tremaining: 3.98s\n",
            "3010:\tlearn: 1.0783205\ttotal: 12s\tremaining: 3.94s\n",
            "3020:\tlearn: 1.0782907\ttotal: 12s\tremaining: 3.9s\n",
            "3030:\tlearn: 1.0782655\ttotal: 12.1s\tremaining: 3.86s\n",
            "3040:\tlearn: 1.0782383\ttotal: 12.1s\tremaining: 3.82s\n",
            "3050:\tlearn: 1.0782053\ttotal: 12.1s\tremaining: 3.78s\n",
            "3060:\tlearn: 1.0781719\ttotal: 12.2s\tremaining: 3.74s\n",
            "3070:\tlearn: 1.0781364\ttotal: 12.2s\tremaining: 3.69s\n",
            "3080:\tlearn: 1.0781068\ttotal: 12.3s\tremaining: 3.65s\n",
            "3090:\tlearn: 1.0780832\ttotal: 12.3s\tremaining: 3.62s\n",
            "3100:\tlearn: 1.0780594\ttotal: 12.3s\tremaining: 3.58s\n",
            "3110:\tlearn: 1.0780220\ttotal: 12.4s\tremaining: 3.54s\n",
            "3120:\tlearn: 1.0779994\ttotal: 12.4s\tremaining: 3.5s\n",
            "3130:\tlearn: 1.0779593\ttotal: 12.5s\tremaining: 3.46s\n",
            "3140:\tlearn: 1.0779237\ttotal: 12.5s\tremaining: 3.42s\n",
            "3150:\tlearn: 1.0778826\ttotal: 12.6s\tremaining: 3.38s\n",
            "3160:\tlearn: 1.0778509\ttotal: 12.6s\tremaining: 3.34s\n",
            "3170:\tlearn: 1.0778222\ttotal: 12.6s\tremaining: 3.3s\n",
            "3180:\tlearn: 1.0777914\ttotal: 12.7s\tremaining: 3.26s\n",
            "3190:\tlearn: 1.0777555\ttotal: 12.7s\tremaining: 3.22s\n",
            "3200:\tlearn: 1.0777229\ttotal: 12.7s\tremaining: 3.18s\n",
            "3210:\tlearn: 1.0776861\ttotal: 12.8s\tremaining: 3.14s\n",
            "3220:\tlearn: 1.0776599\ttotal: 12.8s\tremaining: 3.1s\n",
            "3230:\tlearn: 1.0776309\ttotal: 12.9s\tremaining: 3.06s\n",
            "3240:\tlearn: 1.0776083\ttotal: 12.9s\tremaining: 3.02s\n",
            "3250:\tlearn: 1.0775791\ttotal: 12.9s\tremaining: 2.98s\n",
            "3260:\tlearn: 1.0775367\ttotal: 13s\tremaining: 2.94s\n",
            "3270:\tlearn: 1.0775131\ttotal: 13s\tremaining: 2.9s\n",
            "3280:\tlearn: 1.0774835\ttotal: 13s\tremaining: 2.86s\n",
            "3290:\tlearn: 1.0774492\ttotal: 13.1s\tremaining: 2.82s\n",
            "3300:\tlearn: 1.0774244\ttotal: 13.1s\tremaining: 2.78s\n",
            "3310:\tlearn: 1.0773946\ttotal: 13.2s\tremaining: 2.74s\n",
            "3320:\tlearn: 1.0773686\ttotal: 13.2s\tremaining: 2.7s\n",
            "3330:\tlearn: 1.0773440\ttotal: 13.3s\tremaining: 2.66s\n",
            "3340:\tlearn: 1.0773157\ttotal: 13.3s\tremaining: 2.62s\n",
            "3350:\tlearn: 1.0772736\ttotal: 13.3s\tremaining: 2.58s\n",
            "3360:\tlearn: 1.0772435\ttotal: 13.4s\tremaining: 2.54s\n",
            "3370:\tlearn: 1.0772159\ttotal: 13.4s\tremaining: 2.5s\n",
            "3380:\tlearn: 1.0771860\ttotal: 13.4s\tremaining: 2.46s\n",
            "3390:\tlearn: 1.0771482\ttotal: 13.5s\tremaining: 2.42s\n",
            "3400:\tlearn: 1.0771223\ttotal: 13.5s\tremaining: 2.38s\n",
            "3410:\tlearn: 1.0771003\ttotal: 13.6s\tremaining: 2.34s\n",
            "3420:\tlearn: 1.0770603\ttotal: 13.6s\tremaining: 2.3s\n",
            "3430:\tlearn: 1.0770295\ttotal: 13.6s\tremaining: 2.26s\n",
            "3440:\tlearn: 1.0769965\ttotal: 13.7s\tremaining: 2.22s\n",
            "3450:\tlearn: 1.0769555\ttotal: 13.7s\tremaining: 2.18s\n",
            "3460:\tlearn: 1.0769200\ttotal: 13.8s\tremaining: 2.14s\n",
            "3470:\tlearn: 1.0768822\ttotal: 13.8s\tremaining: 2.1s\n",
            "3480:\tlearn: 1.0768577\ttotal: 13.8s\tremaining: 2.06s\n",
            "3490:\tlearn: 1.0768386\ttotal: 13.9s\tremaining: 2.02s\n",
            "3500:\tlearn: 1.0768128\ttotal: 13.9s\tremaining: 1.99s\n",
            "3510:\tlearn: 1.0767936\ttotal: 14s\tremaining: 1.95s\n",
            "3520:\tlearn: 1.0767711\ttotal: 14s\tremaining: 1.91s\n",
            "3530:\tlearn: 1.0767414\ttotal: 14.1s\tremaining: 1.87s\n",
            "3540:\tlearn: 1.0767125\ttotal: 14.1s\tremaining: 1.83s\n",
            "3550:\tlearn: 1.0766833\ttotal: 14.1s\tremaining: 1.79s\n",
            "3560:\tlearn: 1.0766547\ttotal: 14.2s\tremaining: 1.75s\n",
            "3570:\tlearn: 1.0766263\ttotal: 14.2s\tremaining: 1.71s\n",
            "3580:\tlearn: 1.0765972\ttotal: 14.3s\tremaining: 1.67s\n",
            "3590:\tlearn: 1.0765647\ttotal: 14.3s\tremaining: 1.63s\n",
            "3600:\tlearn: 1.0765385\ttotal: 14.3s\tremaining: 1.59s\n",
            "3610:\tlearn: 1.0765139\ttotal: 14.4s\tremaining: 1.55s\n",
            "3620:\tlearn: 1.0764812\ttotal: 14.4s\tremaining: 1.51s\n",
            "3630:\tlearn: 1.0764532\ttotal: 14.5s\tremaining: 1.47s\n",
            "3640:\tlearn: 1.0764191\ttotal: 14.5s\tremaining: 1.43s\n",
            "3650:\tlearn: 1.0763884\ttotal: 14.5s\tremaining: 1.39s\n",
            "3660:\tlearn: 1.0763673\ttotal: 14.6s\tremaining: 1.35s\n",
            "3670:\tlearn: 1.0763281\ttotal: 14.6s\tremaining: 1.31s\n",
            "3680:\tlearn: 1.0763099\ttotal: 14.7s\tremaining: 1.27s\n",
            "3690:\tlearn: 1.0762755\ttotal: 14.7s\tremaining: 1.23s\n",
            "3700:\tlearn: 1.0762409\ttotal: 14.7s\tremaining: 1.19s\n",
            "3710:\tlearn: 1.0762133\ttotal: 14.8s\tremaining: 1.15s\n",
            "3720:\tlearn: 1.0761954\ttotal: 14.8s\tremaining: 1.11s\n",
            "3730:\tlearn: 1.0761700\ttotal: 14.9s\tremaining: 1.07s\n",
            "3740:\tlearn: 1.0761439\ttotal: 14.9s\tremaining: 1.03s\n",
            "3750:\tlearn: 1.0761126\ttotal: 14.9s\tremaining: 992ms\n",
            "3760:\tlearn: 1.0760803\ttotal: 15s\tremaining: 952ms\n",
            "3770:\tlearn: 1.0760614\ttotal: 15s\tremaining: 912ms\n",
            "3780:\tlearn: 1.0760310\ttotal: 15.1s\tremaining: 872ms\n",
            "3790:\tlearn: 1.0760073\ttotal: 15.1s\tremaining: 833ms\n",
            "3800:\tlearn: 1.0759745\ttotal: 15.1s\tremaining: 793ms\n",
            "3810:\tlearn: 1.0759534\ttotal: 15.2s\tremaining: 753ms\n",
            "3820:\tlearn: 1.0759245\ttotal: 15.2s\tremaining: 713ms\n",
            "3830:\tlearn: 1.0758974\ttotal: 15.3s\tremaining: 673ms\n",
            "3840:\tlearn: 1.0758655\ttotal: 15.3s\tremaining: 633ms\n",
            "3850:\tlearn: 1.0758380\ttotal: 15.3s\tremaining: 593ms\n",
            "3860:\tlearn: 1.0758081\ttotal: 15.4s\tremaining: 554ms\n",
            "3870:\tlearn: 1.0757853\ttotal: 15.4s\tremaining: 514ms\n",
            "3880:\tlearn: 1.0757524\ttotal: 15.5s\tremaining: 474ms\n",
            "3890:\tlearn: 1.0757250\ttotal: 15.5s\tremaining: 434ms\n",
            "3900:\tlearn: 1.0756965\ttotal: 15.6s\tremaining: 395ms\n",
            "3910:\tlearn: 1.0756718\ttotal: 15.6s\tremaining: 355ms\n",
            "3920:\tlearn: 1.0756434\ttotal: 15.6s\tremaining: 315ms\n",
            "3930:\tlearn: 1.0756149\ttotal: 15.7s\tremaining: 275ms\n",
            "3940:\tlearn: 1.0755852\ttotal: 15.7s\tremaining: 235ms\n",
            "3950:\tlearn: 1.0755564\ttotal: 15.8s\tremaining: 195ms\n",
            "3960:\tlearn: 1.0755322\ttotal: 15.8s\tremaining: 155ms\n",
            "3970:\tlearn: 1.0755019\ttotal: 15.8s\tremaining: 116ms\n",
            "3980:\tlearn: 1.0754788\ttotal: 15.9s\tremaining: 75.7ms\n",
            "3990:\tlearn: 1.0754521\ttotal: 15.9s\tremaining: 35.9ms\n",
            "3999:\tlearn: 1.0754197\ttotal: 15.9s\tremaining: 0us\n",
            "Fold 13, Valid score = 1.09185\n"
          ],
          "name": "stdout"
        },
        {
          "output_type": "stream",
          "text": [
            "Warning: less than 75% gpu memory available for training. Free: 5249.75 Total: 16280.875\n"
          ],
          "name": "stderr"
        },
        {
          "output_type": "stream",
          "text": [
            "0:\tlearn: 1.3525773\ttotal: 5.04ms\tremaining: 20.2s\n",
            "10:\tlearn: 1.1884321\ttotal: 42.9ms\tremaining: 15.6s\n",
            "20:\tlearn: 1.1388612\ttotal: 80.6ms\tremaining: 15.3s\n",
            "30:\tlearn: 1.1213686\ttotal: 119ms\tremaining: 15.2s\n",
            "40:\tlearn: 1.1145232\ttotal: 171ms\tremaining: 16.5s\n",
            "50:\tlearn: 1.1113502\ttotal: 219ms\tremaining: 16.9s\n",
            "60:\tlearn: 1.1096784\ttotal: 255ms\tremaining: 16.5s\n",
            "70:\tlearn: 1.1085103\ttotal: 291ms\tremaining: 16.1s\n",
            "80:\tlearn: 1.1075162\ttotal: 333ms\tremaining: 16.1s\n",
            "90:\tlearn: 1.1066340\ttotal: 370ms\tremaining: 15.9s\n",
            "100:\tlearn: 1.1057793\ttotal: 411ms\tremaining: 15.9s\n",
            "110:\tlearn: 1.1052044\ttotal: 456ms\tremaining: 16s\n",
            "120:\tlearn: 1.1046604\ttotal: 503ms\tremaining: 16.1s\n",
            "130:\tlearn: 1.1039945\ttotal: 539ms\tremaining: 15.9s\n",
            "140:\tlearn: 1.1035062\ttotal: 575ms\tremaining: 15.7s\n",
            "150:\tlearn: 1.1029783\ttotal: 612ms\tremaining: 15.6s\n",
            "160:\tlearn: 1.1025572\ttotal: 647ms\tremaining: 15.4s\n",
            "170:\tlearn: 1.1020543\ttotal: 699ms\tremaining: 15.6s\n",
            "180:\tlearn: 1.1015182\ttotal: 747ms\tremaining: 15.8s\n",
            "190:\tlearn: 1.1011226\ttotal: 783ms\tremaining: 15.6s\n",
            "200:\tlearn: 1.1006630\ttotal: 838ms\tremaining: 15.8s\n",
            "210:\tlearn: 1.1002095\ttotal: 879ms\tremaining: 15.8s\n",
            "220:\tlearn: 1.0998265\ttotal: 925ms\tremaining: 15.8s\n",
            "230:\tlearn: 1.0994700\ttotal: 962ms\tremaining: 15.7s\n",
            "240:\tlearn: 1.0991840\ttotal: 999ms\tremaining: 15.6s\n",
            "250:\tlearn: 1.0989288\ttotal: 1.03s\tremaining: 15.5s\n",
            "260:\tlearn: 1.0985471\ttotal: 1.07s\tremaining: 15.4s\n",
            "270:\tlearn: 1.0982187\ttotal: 1.11s\tremaining: 15.3s\n",
            "280:\tlearn: 1.0979491\ttotal: 1.16s\tremaining: 15.4s\n",
            "290:\tlearn: 1.0976897\ttotal: 1.2s\tremaining: 15.2s\n",
            "300:\tlearn: 1.0972990\ttotal: 1.23s\tremaining: 15.2s\n",
            "310:\tlearn: 1.0969429\ttotal: 1.27s\tremaining: 15s\n",
            "320:\tlearn: 1.0966669\ttotal: 1.3s\tremaining: 15s\n",
            "330:\tlearn: 1.0964465\ttotal: 1.34s\tremaining: 14.8s\n",
            "340:\tlearn: 1.0961568\ttotal: 1.39s\tremaining: 14.9s\n",
            "350:\tlearn: 1.0959127\ttotal: 1.42s\tremaining: 14.8s\n",
            "360:\tlearn: 1.0957174\ttotal: 1.46s\tremaining: 14.7s\n",
            "370:\tlearn: 1.0954197\ttotal: 1.49s\tremaining: 14.6s\n",
            "380:\tlearn: 1.0951788\ttotal: 1.53s\tremaining: 14.5s\n",
            "390:\tlearn: 1.0949420\ttotal: 1.56s\tremaining: 14.4s\n",
            "400:\tlearn: 1.0947821\ttotal: 1.61s\tremaining: 14.5s\n",
            "410:\tlearn: 1.0945695\ttotal: 1.65s\tremaining: 14.4s\n",
            "420:\tlearn: 1.0943230\ttotal: 1.68s\tremaining: 14.3s\n",
            "430:\tlearn: 1.0941817\ttotal: 1.72s\tremaining: 14.2s\n",
            "440:\tlearn: 1.0939875\ttotal: 1.75s\tremaining: 14.1s\n",
            "450:\tlearn: 1.0938441\ttotal: 1.78s\tremaining: 14.1s\n",
            "460:\tlearn: 1.0936290\ttotal: 1.83s\tremaining: 14s\n",
            "470:\tlearn: 1.0934462\ttotal: 1.86s\tremaining: 14s\n",
            "480:\tlearn: 1.0932630\ttotal: 1.9s\tremaining: 13.9s\n",
            "490:\tlearn: 1.0930738\ttotal: 1.93s\tremaining: 13.8s\n",
            "500:\tlearn: 1.0929169\ttotal: 1.97s\tremaining: 13.7s\n",
            "510:\tlearn: 1.0927287\ttotal: 2s\tremaining: 13.7s\n",
            "520:\tlearn: 1.0925111\ttotal: 2.05s\tremaining: 13.7s\n",
            "530:\tlearn: 1.0923904\ttotal: 2.08s\tremaining: 13.6s\n",
            "540:\tlearn: 1.0922161\ttotal: 2.13s\tremaining: 13.6s\n",
            "550:\tlearn: 1.0920467\ttotal: 2.17s\tremaining: 13.6s\n",
            "560:\tlearn: 1.0918635\ttotal: 2.2s\tremaining: 13.5s\n",
            "570:\tlearn: 1.0917382\ttotal: 2.24s\tremaining: 13.4s\n",
            "580:\tlearn: 1.0916119\ttotal: 2.29s\tremaining: 13.4s\n",
            "590:\tlearn: 1.0914894\ttotal: 2.32s\tremaining: 13.4s\n",
            "600:\tlearn: 1.0913416\ttotal: 2.36s\tremaining: 13.3s\n",
            "610:\tlearn: 1.0912286\ttotal: 2.39s\tremaining: 13.3s\n",
            "620:\tlearn: 1.0911026\ttotal: 2.43s\tremaining: 13.2s\n",
            "630:\tlearn: 1.0909779\ttotal: 2.47s\tremaining: 13.2s\n",
            "640:\tlearn: 1.0908704\ttotal: 2.52s\tremaining: 13.2s\n",
            "650:\tlearn: 1.0907342\ttotal: 2.55s\tremaining: 13.1s\n",
            "660:\tlearn: 1.0906432\ttotal: 2.59s\tremaining: 13.1s\n",
            "670:\tlearn: 1.0905028\ttotal: 2.62s\tremaining: 13s\n",
            "680:\tlearn: 1.0904124\ttotal: 2.66s\tremaining: 13s\n",
            "690:\tlearn: 1.0902715\ttotal: 2.69s\tremaining: 12.9s\n",
            "700:\tlearn: 1.0901584\ttotal: 2.73s\tremaining: 12.9s\n",
            "710:\tlearn: 1.0900508\ttotal: 2.78s\tremaining: 12.9s\n",
            "720:\tlearn: 1.0899464\ttotal: 2.82s\tremaining: 12.8s\n",
            "730:\tlearn: 1.0899048\ttotal: 2.85s\tremaining: 12.8s\n",
            "740:\tlearn: 1.0897844\ttotal: 2.89s\tremaining: 12.7s\n",
            "750:\tlearn: 1.0896663\ttotal: 2.93s\tremaining: 12.7s\n",
            "760:\tlearn: 1.0895515\ttotal: 2.98s\tremaining: 12.7s\n",
            "770:\tlearn: 1.0894348\ttotal: 3.01s\tremaining: 12.6s\n",
            "780:\tlearn: 1.0893413\ttotal: 3.04s\tremaining: 12.5s\n",
            "790:\tlearn: 1.0892281\ttotal: 3.08s\tremaining: 12.5s\n",
            "800:\tlearn: 1.0891305\ttotal: 3.13s\tremaining: 12.5s\n",
            "810:\tlearn: 1.0890101\ttotal: 3.16s\tremaining: 12.4s\n",
            "820:\tlearn: 1.0889109\ttotal: 3.21s\tremaining: 12.4s\n",
            "830:\tlearn: 1.0888571\ttotal: 3.25s\tremaining: 12.4s\n",
            "840:\tlearn: 1.0887490\ttotal: 3.29s\tremaining: 12.4s\n",
            "850:\tlearn: 1.0886469\ttotal: 3.33s\tremaining: 12.3s\n",
            "860:\tlearn: 1.0885950\ttotal: 3.37s\tremaining: 12.3s\n",
            "870:\tlearn: 1.0884974\ttotal: 3.41s\tremaining: 12.3s\n",
            "880:\tlearn: 1.0883736\ttotal: 3.46s\tremaining: 12.2s\n",
            "890:\tlearn: 1.0882792\ttotal: 3.5s\tremaining: 12.2s\n",
            "900:\tlearn: 1.0881504\ttotal: 3.53s\tremaining: 12.2s\n",
            "910:\tlearn: 1.0880882\ttotal: 3.58s\tremaining: 12.1s\n",
            "920:\tlearn: 1.0880053\ttotal: 3.61s\tremaining: 12.1s\n",
            "930:\tlearn: 1.0879411\ttotal: 3.66s\tremaining: 12.1s\n",
            "940:\tlearn: 1.0878635\ttotal: 3.69s\tremaining: 12s\n",
            "950:\tlearn: 1.0878084\ttotal: 3.73s\tremaining: 12s\n",
            "960:\tlearn: 1.0877472\ttotal: 3.77s\tremaining: 11.9s\n",
            "970:\tlearn: 1.0876591\ttotal: 3.81s\tremaining: 11.9s\n",
            "980:\tlearn: 1.0876023\ttotal: 3.84s\tremaining: 11.8s\n",
            "990:\tlearn: 1.0875085\ttotal: 3.89s\tremaining: 11.8s\n",
            "1000:\tlearn: 1.0874418\ttotal: 3.92s\tremaining: 11.8s\n",
            "1010:\tlearn: 1.0873622\ttotal: 3.96s\tremaining: 11.7s\n",
            "1020:\tlearn: 1.0872833\ttotal: 4s\tremaining: 11.7s\n",
            "1030:\tlearn: 1.0872146\ttotal: 4.04s\tremaining: 11.6s\n",
            "1040:\tlearn: 1.0871328\ttotal: 4.07s\tremaining: 11.6s\n",
            "1050:\tlearn: 1.0870595\ttotal: 4.13s\tremaining: 11.6s\n",
            "1060:\tlearn: 1.0870141\ttotal: 4.17s\tremaining: 11.5s\n",
            "1070:\tlearn: 1.0869311\ttotal: 4.21s\tremaining: 11.5s\n",
            "1080:\tlearn: 1.0868907\ttotal: 4.24s\tremaining: 11.5s\n",
            "1090:\tlearn: 1.0868535\ttotal: 4.28s\tremaining: 11.4s\n",
            "1100:\tlearn: 1.0867876\ttotal: 4.32s\tremaining: 11.4s\n",
            "1110:\tlearn: 1.0867204\ttotal: 4.36s\tremaining: 11.3s\n",
            "1120:\tlearn: 1.0866532\ttotal: 4.39s\tremaining: 11.3s\n",
            "1130:\tlearn: 1.0865851\ttotal: 4.43s\tremaining: 11.2s\n",
            "1140:\tlearn: 1.0865217\ttotal: 4.46s\tremaining: 11.2s\n",
            "1150:\tlearn: 1.0864752\ttotal: 4.51s\tremaining: 11.2s\n",
            "1160:\tlearn: 1.0864042\ttotal: 4.55s\tremaining: 11.1s\n",
            "1170:\tlearn: 1.0863566\ttotal: 4.59s\tremaining: 11.1s\n",
            "1180:\tlearn: 1.0862981\ttotal: 4.63s\tremaining: 11.1s\n",
            "1190:\tlearn: 1.0862347\ttotal: 4.67s\tremaining: 11s\n",
            "1200:\tlearn: 1.0861705\ttotal: 4.71s\tremaining: 11s\n",
            "1210:\tlearn: 1.0861065\ttotal: 4.74s\tremaining: 10.9s\n",
            "1220:\tlearn: 1.0860643\ttotal: 4.78s\tremaining: 10.9s\n",
            "1230:\tlearn: 1.0860197\ttotal: 4.83s\tremaining: 10.9s\n",
            "1240:\tlearn: 1.0859458\ttotal: 4.86s\tremaining: 10.8s\n",
            "1250:\tlearn: 1.0858612\ttotal: 4.9s\tremaining: 10.8s\n",
            "1260:\tlearn: 1.0858203\ttotal: 4.93s\tremaining: 10.7s\n",
            "1270:\tlearn: 1.0857523\ttotal: 4.97s\tremaining: 10.7s\n",
            "1280:\tlearn: 1.0856894\ttotal: 5s\tremaining: 10.6s\n",
            "1290:\tlearn: 1.0856255\ttotal: 5.04s\tremaining: 10.6s\n",
            "1300:\tlearn: 1.0855885\ttotal: 5.08s\tremaining: 10.5s\n",
            "1310:\tlearn: 1.0855025\ttotal: 5.12s\tremaining: 10.5s\n",
            "1320:\tlearn: 1.0854530\ttotal: 5.16s\tremaining: 10.5s\n",
            "1330:\tlearn: 1.0854076\ttotal: 5.2s\tremaining: 10.4s\n",
            "1340:\tlearn: 1.0853444\ttotal: 5.23s\tremaining: 10.4s\n",
            "1350:\tlearn: 1.0853033\ttotal: 5.28s\tremaining: 10.3s\n",
            "1360:\tlearn: 1.0852566\ttotal: 5.31s\tremaining: 10.3s\n",
            "1370:\tlearn: 1.0851923\ttotal: 5.34s\tremaining: 10.2s\n",
            "1380:\tlearn: 1.0851345\ttotal: 5.38s\tremaining: 10.2s\n",
            "1390:\tlearn: 1.0850842\ttotal: 5.41s\tremaining: 10.2s\n",
            "1400:\tlearn: 1.0850359\ttotal: 5.45s\tremaining: 10.1s\n",
            "1410:\tlearn: 1.0849848\ttotal: 5.49s\tremaining: 10.1s\n",
            "1420:\tlearn: 1.0849440\ttotal: 5.53s\tremaining: 10s\n",
            "1430:\tlearn: 1.0849060\ttotal: 5.56s\tremaining: 9.99s\n",
            "1440:\tlearn: 1.0848436\ttotal: 5.6s\tremaining: 9.94s\n",
            "1450:\tlearn: 1.0847910\ttotal: 5.63s\tremaining: 9.89s\n",
            "1460:\tlearn: 1.0847378\ttotal: 5.67s\tremaining: 9.85s\n",
            "1470:\tlearn: 1.0846977\ttotal: 5.71s\tremaining: 9.82s\n",
            "1480:\tlearn: 1.0846690\ttotal: 5.75s\tremaining: 9.77s\n",
            "1490:\tlearn: 1.0846284\ttotal: 5.78s\tremaining: 9.73s\n",
            "1500:\tlearn: 1.0845786\ttotal: 5.81s\tremaining: 9.68s\n",
            "1510:\tlearn: 1.0845124\ttotal: 5.85s\tremaining: 9.63s\n",
            "1520:\tlearn: 1.0844513\ttotal: 5.88s\tremaining: 9.59s\n",
            "1530:\tlearn: 1.0843918\ttotal: 5.93s\tremaining: 9.56s\n",
            "1540:\tlearn: 1.0843485\ttotal: 5.96s\tremaining: 9.51s\n",
            "1550:\tlearn: 1.0843053\ttotal: 6s\tremaining: 9.47s\n",
            "1560:\tlearn: 1.0842639\ttotal: 6.03s\tremaining: 9.42s\n",
            "1570:\tlearn: 1.0842288\ttotal: 6.06s\tremaining: 9.38s\n",
            "1580:\tlearn: 1.0841943\ttotal: 6.11s\tremaining: 9.35s\n",
            "1590:\tlearn: 1.0841477\ttotal: 6.15s\tremaining: 9.32s\n",
            "1600:\tlearn: 1.0841088\ttotal: 6.19s\tremaining: 9.27s\n",
            "1610:\tlearn: 1.0840758\ttotal: 6.22s\tremaining: 9.23s\n",
            "1620:\tlearn: 1.0840298\ttotal: 6.25s\tremaining: 9.18s\n",
            "1630:\tlearn: 1.0839639\ttotal: 6.29s\tremaining: 9.14s\n",
            "1640:\tlearn: 1.0839189\ttotal: 6.33s\tremaining: 9.1s\n",
            "1650:\tlearn: 1.0838601\ttotal: 6.39s\tremaining: 9.09s\n",
            "1660:\tlearn: 1.0838126\ttotal: 6.42s\tremaining: 9.04s\n",
            "1670:\tlearn: 1.0837854\ttotal: 6.46s\tremaining: 9s\n",
            "1680:\tlearn: 1.0837408\ttotal: 6.49s\tremaining: 8.96s\n",
            "1690:\tlearn: 1.0836966\ttotal: 6.53s\tremaining: 8.91s\n",
            "1700:\tlearn: 1.0836578\ttotal: 6.56s\tremaining: 8.87s\n",
            "1710:\tlearn: 1.0836152\ttotal: 6.61s\tremaining: 8.84s\n",
            "1720:\tlearn: 1.0835694\ttotal: 6.64s\tremaining: 8.79s\n",
            "1730:\tlearn: 1.0835359\ttotal: 6.67s\tremaining: 8.75s\n",
            "1740:\tlearn: 1.0834932\ttotal: 6.71s\tremaining: 8.71s\n",
            "1750:\tlearn: 1.0834434\ttotal: 6.75s\tremaining: 8.66s\n",
            "1760:\tlearn: 1.0834007\ttotal: 6.78s\tremaining: 8.62s\n",
            "1770:\tlearn: 1.0833474\ttotal: 6.82s\tremaining: 8.59s\n",
            "1780:\tlearn: 1.0833084\ttotal: 6.86s\tremaining: 8.54s\n",
            "1790:\tlearn: 1.0832711\ttotal: 6.89s\tremaining: 8.5s\n",
            "1800:\tlearn: 1.0832189\ttotal: 6.93s\tremaining: 8.46s\n",
            "1810:\tlearn: 1.0831759\ttotal: 6.96s\tremaining: 8.41s\n",
            "1820:\tlearn: 1.0831259\ttotal: 7s\tremaining: 8.37s\n",
            "1830:\tlearn: 1.0830905\ttotal: 7.05s\tremaining: 8.35s\n",
            "1840:\tlearn: 1.0830439\ttotal: 7.09s\tremaining: 8.32s\n",
            "1850:\tlearn: 1.0829927\ttotal: 7.13s\tremaining: 8.28s\n",
            "1860:\tlearn: 1.0829527\ttotal: 7.17s\tremaining: 8.24s\n",
            "1870:\tlearn: 1.0829101\ttotal: 7.2s\tremaining: 8.2s\n",
            "1880:\tlearn: 1.0828635\ttotal: 7.24s\tremaining: 8.15s\n",
            "1890:\tlearn: 1.0828262\ttotal: 7.28s\tremaining: 8.12s\n",
            "1900:\tlearn: 1.0827933\ttotal: 7.32s\tremaining: 8.08s\n",
            "1910:\tlearn: 1.0827674\ttotal: 7.35s\tremaining: 8.03s\n",
            "1920:\tlearn: 1.0827391\ttotal: 7.38s\tremaining: 7.99s\n",
            "1930:\tlearn: 1.0827042\ttotal: 7.42s\tremaining: 7.95s\n",
            "1940:\tlearn: 1.0826589\ttotal: 7.45s\tremaining: 7.91s\n",
            "1950:\tlearn: 1.0826184\ttotal: 7.5s\tremaining: 7.88s\n",
            "1960:\tlearn: 1.0825891\ttotal: 7.53s\tremaining: 7.83s\n",
            "1970:\tlearn: 1.0825495\ttotal: 7.57s\tremaining: 7.79s\n",
            "1980:\tlearn: 1.0824975\ttotal: 7.6s\tremaining: 7.75s\n",
            "1990:\tlearn: 1.0824513\ttotal: 7.64s\tremaining: 7.71s\n",
            "2000:\tlearn: 1.0824103\ttotal: 7.67s\tremaining: 7.66s\n",
            "2010:\tlearn: 1.0823759\ttotal: 7.71s\tremaining: 7.63s\n",
            "2020:\tlearn: 1.0823312\ttotal: 7.75s\tremaining: 7.59s\n",
            "2030:\tlearn: 1.0822948\ttotal: 7.78s\tremaining: 7.54s\n",
            "2040:\tlearn: 1.0822526\ttotal: 7.82s\tremaining: 7.5s\n",
            "2050:\tlearn: 1.0822141\ttotal: 7.85s\tremaining: 7.46s\n",
            "2060:\tlearn: 1.0821809\ttotal: 7.89s\tremaining: 7.42s\n",
            "2070:\tlearn: 1.0821228\ttotal: 7.93s\tremaining: 7.39s\n",
            "2080:\tlearn: 1.0820876\ttotal: 7.97s\tremaining: 7.35s\n",
            "2090:\tlearn: 1.0820566\ttotal: 8.01s\tremaining: 7.32s\n",
            "2100:\tlearn: 1.0820300\ttotal: 8.05s\tremaining: 7.28s\n",
            "2110:\tlearn: 1.0819940\ttotal: 8.1s\tremaining: 7.25s\n",
            "2120:\tlearn: 1.0819544\ttotal: 8.15s\tremaining: 7.22s\n",
            "2130:\tlearn: 1.0819133\ttotal: 8.19s\tremaining: 7.18s\n",
            "2140:\tlearn: 1.0818759\ttotal: 8.22s\tremaining: 7.14s\n",
            "2150:\tlearn: 1.0818395\ttotal: 8.26s\tremaining: 7.1s\n",
            "2160:\tlearn: 1.0818104\ttotal: 8.3s\tremaining: 7.06s\n",
            "2170:\tlearn: 1.0817792\ttotal: 8.33s\tremaining: 7.02s\n",
            "2180:\tlearn: 1.0817531\ttotal: 8.38s\tremaining: 6.99s\n",
            "2190:\tlearn: 1.0816966\ttotal: 8.41s\tremaining: 6.95s\n",
            "2200:\tlearn: 1.0816582\ttotal: 8.46s\tremaining: 6.91s\n",
            "2210:\tlearn: 1.0816208\ttotal: 8.49s\tremaining: 6.87s\n",
            "2220:\tlearn: 1.0815701\ttotal: 8.53s\tremaining: 6.83s\n",
            "2230:\tlearn: 1.0815335\ttotal: 8.57s\tremaining: 6.79s\n",
            "2240:\tlearn: 1.0814823\ttotal: 8.61s\tremaining: 6.76s\n",
            "2250:\tlearn: 1.0814501\ttotal: 8.65s\tremaining: 6.72s\n",
            "2260:\tlearn: 1.0814173\ttotal: 8.68s\tremaining: 6.68s\n",
            "2270:\tlearn: 1.0813908\ttotal: 8.72s\tremaining: 6.64s\n",
            "2280:\tlearn: 1.0813543\ttotal: 8.75s\tremaining: 6.59s\n",
            "2290:\tlearn: 1.0813088\ttotal: 8.79s\tremaining: 6.55s\n",
            "2300:\tlearn: 1.0812749\ttotal: 8.84s\tremaining: 6.52s\n",
            "2310:\tlearn: 1.0812451\ttotal: 8.87s\tremaining: 6.48s\n",
            "2320:\tlearn: 1.0812149\ttotal: 8.9s\tremaining: 6.44s\n",
            "2330:\tlearn: 1.0811914\ttotal: 8.94s\tremaining: 6.4s\n",
            "2340:\tlearn: 1.0811509\ttotal: 8.97s\tremaining: 6.36s\n",
            "2350:\tlearn: 1.0811102\ttotal: 9.01s\tremaining: 6.32s\n",
            "2360:\tlearn: 1.0810754\ttotal: 9.05s\tremaining: 6.29s\n",
            "2370:\tlearn: 1.0810244\ttotal: 9.1s\tremaining: 6.25s\n",
            "2380:\tlearn: 1.0809910\ttotal: 9.14s\tremaining: 6.21s\n",
            "2390:\tlearn: 1.0809486\ttotal: 9.17s\tremaining: 6.17s\n",
            "2400:\tlearn: 1.0809073\ttotal: 9.21s\tremaining: 6.13s\n",
            "2410:\tlearn: 1.0808722\ttotal: 9.24s\tremaining: 6.09s\n",
            "2420:\tlearn: 1.0808362\ttotal: 9.29s\tremaining: 6.06s\n",
            "2430:\tlearn: 1.0807964\ttotal: 9.32s\tremaining: 6.02s\n",
            "2440:\tlearn: 1.0807556\ttotal: 9.36s\tremaining: 5.98s\n",
            "2450:\tlearn: 1.0807101\ttotal: 9.39s\tremaining: 5.93s\n",
            "2460:\tlearn: 1.0806705\ttotal: 9.43s\tremaining: 5.9s\n",
            "2470:\tlearn: 1.0806279\ttotal: 9.46s\tremaining: 5.86s\n",
            "2480:\tlearn: 1.0805855\ttotal: 9.51s\tremaining: 5.82s\n",
            "2490:\tlearn: 1.0805509\ttotal: 9.54s\tremaining: 5.78s\n",
            "2500:\tlearn: 1.0805056\ttotal: 9.58s\tremaining: 5.74s\n",
            "2510:\tlearn: 1.0804672\ttotal: 9.61s\tremaining: 5.7s\n",
            "2520:\tlearn: 1.0804247\ttotal: 9.64s\tremaining: 5.66s\n",
            "2530:\tlearn: 1.0803981\ttotal: 9.68s\tremaining: 5.62s\n",
            "2540:\tlearn: 1.0803688\ttotal: 9.73s\tremaining: 5.59s\n",
            "2550:\tlearn: 1.0803382\ttotal: 9.77s\tremaining: 5.55s\n",
            "2560:\tlearn: 1.0803040\ttotal: 9.8s\tremaining: 5.51s\n",
            "2570:\tlearn: 1.0802732\ttotal: 9.84s\tremaining: 5.47s\n",
            "2580:\tlearn: 1.0802335\ttotal: 9.88s\tremaining: 5.43s\n",
            "2590:\tlearn: 1.0802041\ttotal: 9.91s\tremaining: 5.39s\n",
            "2600:\tlearn: 1.0801697\ttotal: 9.96s\tremaining: 5.36s\n",
            "2610:\tlearn: 1.0801271\ttotal: 9.99s\tremaining: 5.32s\n",
            "2620:\tlearn: 1.0800850\ttotal: 10s\tremaining: 5.28s\n",
            "2630:\tlearn: 1.0800491\ttotal: 10.1s\tremaining: 5.24s\n",
            "2640:\tlearn: 1.0800161\ttotal: 10.1s\tremaining: 5.2s\n",
            "2650:\tlearn: 1.0799787\ttotal: 10.1s\tremaining: 5.16s\n",
            "2660:\tlearn: 1.0799486\ttotal: 10.2s\tremaining: 5.13s\n",
            "2670:\tlearn: 1.0799077\ttotal: 10.2s\tremaining: 5.09s\n",
            "2680:\tlearn: 1.0798648\ttotal: 10.3s\tremaining: 5.05s\n",
            "2690:\tlearn: 1.0798390\ttotal: 10.3s\tremaining: 5.01s\n",
            "2700:\tlearn: 1.0798091\ttotal: 10.3s\tremaining: 4.97s\n",
            "2710:\tlearn: 1.0797733\ttotal: 10.4s\tremaining: 4.93s\n",
            "2720:\tlearn: 1.0797480\ttotal: 10.4s\tremaining: 4.89s\n",
            "2730:\tlearn: 1.0797254\ttotal: 10.4s\tremaining: 4.85s\n",
            "2740:\tlearn: 1.0796745\ttotal: 10.5s\tremaining: 4.81s\n",
            "2750:\tlearn: 1.0796409\ttotal: 10.5s\tremaining: 4.77s\n",
            "2760:\tlearn: 1.0796023\ttotal: 10.5s\tremaining: 4.73s\n",
            "2770:\tlearn: 1.0795662\ttotal: 10.6s\tremaining: 4.69s\n",
            "2780:\tlearn: 1.0795291\ttotal: 10.6s\tremaining: 4.66s\n",
            "2790:\tlearn: 1.0794992\ttotal: 10.7s\tremaining: 4.62s\n",
            "2800:\tlearn: 1.0794597\ttotal: 10.7s\tremaining: 4.58s\n",
            "2810:\tlearn: 1.0794295\ttotal: 10.7s\tremaining: 4.54s\n",
            "2820:\tlearn: 1.0793928\ttotal: 10.8s\tremaining: 4.5s\n",
            "2830:\tlearn: 1.0793592\ttotal: 10.8s\tremaining: 4.47s\n",
            "2840:\tlearn: 1.0793329\ttotal: 10.9s\tremaining: 4.43s\n",
            "2850:\tlearn: 1.0793087\ttotal: 10.9s\tremaining: 4.39s\n",
            "2860:\tlearn: 1.0792891\ttotal: 10.9s\tremaining: 4.35s\n",
            "2870:\tlearn: 1.0792555\ttotal: 11s\tremaining: 4.31s\n",
            "2880:\tlearn: 1.0792198\ttotal: 11s\tremaining: 4.28s\n",
            "2890:\tlearn: 1.0791822\ttotal: 11.1s\tremaining: 4.24s\n",
            "2900:\tlearn: 1.0791531\ttotal: 11.1s\tremaining: 4.2s\n",
            "2910:\tlearn: 1.0791289\ttotal: 11.1s\tremaining: 4.17s\n",
            "2920:\tlearn: 1.0790792\ttotal: 11.2s\tremaining: 4.14s\n",
            "2930:\tlearn: 1.0790407\ttotal: 11.2s\tremaining: 4.1s\n",
            "2940:\tlearn: 1.0790021\ttotal: 11.3s\tremaining: 4.06s\n",
            "2950:\tlearn: 1.0789769\ttotal: 11.3s\tremaining: 4.02s\n",
            "2960:\tlearn: 1.0789428\ttotal: 11.4s\tremaining: 3.98s\n",
            "2970:\tlearn: 1.0789152\ttotal: 11.4s\tremaining: 3.94s\n",
            "2980:\tlearn: 1.0788905\ttotal: 11.4s\tremaining: 3.91s\n",
            "2990:\tlearn: 1.0788583\ttotal: 11.5s\tremaining: 3.87s\n",
            "3000:\tlearn: 1.0788398\ttotal: 11.5s\tremaining: 3.83s\n",
            "3010:\tlearn: 1.0787855\ttotal: 11.5s\tremaining: 3.79s\n",
            "3020:\tlearn: 1.0787611\ttotal: 11.6s\tremaining: 3.75s\n",
            "3030:\tlearn: 1.0787331\ttotal: 11.6s\tremaining: 3.71s\n",
            "3040:\tlearn: 1.0786988\ttotal: 11.7s\tremaining: 3.67s\n",
            "3050:\tlearn: 1.0786634\ttotal: 11.7s\tremaining: 3.63s\n",
            "3060:\tlearn: 1.0786379\ttotal: 11.7s\tremaining: 3.6s\n",
            "3070:\tlearn: 1.0786115\ttotal: 11.8s\tremaining: 3.56s\n",
            "3080:\tlearn: 1.0785653\ttotal: 11.8s\tremaining: 3.52s\n",
            "3090:\tlearn: 1.0785350\ttotal: 11.8s\tremaining: 3.48s\n",
            "3100:\tlearn: 1.0785097\ttotal: 11.9s\tremaining: 3.44s\n",
            "3110:\tlearn: 1.0784713\ttotal: 11.9s\tremaining: 3.4s\n",
            "3120:\tlearn: 1.0784350\ttotal: 11.9s\tremaining: 3.36s\n",
            "3130:\tlearn: 1.0784024\ttotal: 12s\tremaining: 3.33s\n",
            "3140:\tlearn: 1.0783682\ttotal: 12s\tremaining: 3.29s\n",
            "3150:\tlearn: 1.0783477\ttotal: 12.1s\tremaining: 3.25s\n",
            "3160:\tlearn: 1.0783244\ttotal: 12.1s\tremaining: 3.21s\n",
            "3170:\tlearn: 1.0783035\ttotal: 12.1s\tremaining: 3.17s\n",
            "3180:\tlearn: 1.0782670\ttotal: 12.2s\tremaining: 3.13s\n",
            "3190:\tlearn: 1.0782386\ttotal: 12.2s\tremaining: 3.1s\n",
            "3200:\tlearn: 1.0782132\ttotal: 12.3s\tremaining: 3.06s\n",
            "3210:\tlearn: 1.0781806\ttotal: 12.3s\tremaining: 3.02s\n",
            "3220:\tlearn: 1.0781417\ttotal: 12.3s\tremaining: 2.98s\n",
            "3230:\tlearn: 1.0781114\ttotal: 12.4s\tremaining: 2.94s\n",
            "3240:\tlearn: 1.0780830\ttotal: 12.4s\tremaining: 2.9s\n",
            "3250:\tlearn: 1.0780456\ttotal: 12.4s\tremaining: 2.87s\n",
            "3260:\tlearn: 1.0780221\ttotal: 12.5s\tremaining: 2.83s\n",
            "3270:\tlearn: 1.0779822\ttotal: 12.5s\tremaining: 2.79s\n",
            "3280:\tlearn: 1.0779474\ttotal: 12.5s\tremaining: 2.75s\n",
            "3290:\tlearn: 1.0779111\ttotal: 12.6s\tremaining: 2.71s\n",
            "3300:\tlearn: 1.0778903\ttotal: 12.6s\tremaining: 2.67s\n",
            "3310:\tlearn: 1.0778646\ttotal: 12.7s\tremaining: 2.63s\n",
            "3320:\tlearn: 1.0778319\ttotal: 12.7s\tremaining: 2.6s\n",
            "3330:\tlearn: 1.0778040\ttotal: 12.7s\tremaining: 2.56s\n",
            "3340:\tlearn: 1.0777710\ttotal: 12.8s\tremaining: 2.52s\n",
            "3350:\tlearn: 1.0777369\ttotal: 12.8s\tremaining: 2.48s\n",
            "3360:\tlearn: 1.0777127\ttotal: 12.8s\tremaining: 2.44s\n",
            "3370:\tlearn: 1.0776857\ttotal: 12.9s\tremaining: 2.4s\n",
            "3380:\tlearn: 1.0776548\ttotal: 12.9s\tremaining: 2.36s\n",
            "3390:\tlearn: 1.0776337\ttotal: 12.9s\tremaining: 2.33s\n",
            "3400:\tlearn: 1.0776032\ttotal: 13s\tremaining: 2.29s\n",
            "3410:\tlearn: 1.0775817\ttotal: 13s\tremaining: 2.25s\n",
            "3420:\tlearn: 1.0775509\ttotal: 13.1s\tremaining: 2.21s\n",
            "3430:\tlearn: 1.0775192\ttotal: 13.1s\tremaining: 2.17s\n",
            "3440:\tlearn: 1.0774921\ttotal: 13.1s\tremaining: 2.13s\n",
            "3450:\tlearn: 1.0774582\ttotal: 13.2s\tremaining: 2.1s\n",
            "3460:\tlearn: 1.0774170\ttotal: 13.2s\tremaining: 2.06s\n",
            "3470:\tlearn: 1.0773841\ttotal: 13.2s\tremaining: 2.02s\n",
            "3480:\tlearn: 1.0773549\ttotal: 13.3s\tremaining: 1.98s\n",
            "3490:\tlearn: 1.0773261\ttotal: 13.3s\tremaining: 1.94s\n",
            "3500:\tlearn: 1.0772945\ttotal: 13.4s\tremaining: 1.91s\n",
            "3510:\tlearn: 1.0772676\ttotal: 13.4s\tremaining: 1.87s\n",
            "3520:\tlearn: 1.0772379\ttotal: 13.4s\tremaining: 1.83s\n",
            "3530:\tlearn: 1.0771960\ttotal: 13.5s\tremaining: 1.79s\n",
            "3540:\tlearn: 1.0771673\ttotal: 13.5s\tremaining: 1.75s\n",
            "3550:\tlearn: 1.0771548\ttotal: 13.6s\tremaining: 1.71s\n",
            "3560:\tlearn: 1.0771233\ttotal: 13.6s\tremaining: 1.68s\n",
            "3570:\tlearn: 1.0770837\ttotal: 13.6s\tremaining: 1.64s\n",
            "3580:\tlearn: 1.0770517\ttotal: 13.7s\tremaining: 1.6s\n",
            "3590:\tlearn: 1.0770303\ttotal: 13.7s\tremaining: 1.56s\n",
            "3600:\tlearn: 1.0770054\ttotal: 13.7s\tremaining: 1.52s\n",
            "3610:\tlearn: 1.0769724\ttotal: 13.8s\tremaining: 1.48s\n",
            "3620:\tlearn: 1.0769473\ttotal: 13.8s\tremaining: 1.45s\n",
            "3630:\tlearn: 1.0769135\ttotal: 13.8s\tremaining: 1.41s\n",
            "3640:\tlearn: 1.0768914\ttotal: 13.9s\tremaining: 1.37s\n",
            "3650:\tlearn: 1.0768589\ttotal: 13.9s\tremaining: 1.33s\n",
            "3660:\tlearn: 1.0768234\ttotal: 14s\tremaining: 1.29s\n",
            "3670:\tlearn: 1.0767896\ttotal: 14s\tremaining: 1.26s\n",
            "3680:\tlearn: 1.0767505\ttotal: 14.1s\tremaining: 1.22s\n",
            "3690:\tlearn: 1.0767214\ttotal: 14.1s\tremaining: 1.18s\n",
            "3700:\tlearn: 1.0766890\ttotal: 14.1s\tremaining: 1.14s\n",
            "3710:\tlearn: 1.0766628\ttotal: 14.2s\tremaining: 1.1s\n",
            "3720:\tlearn: 1.0766356\ttotal: 14.2s\tremaining: 1.06s\n",
            "3730:\tlearn: 1.0766027\ttotal: 14.3s\tremaining: 1.03s\n",
            "3740:\tlearn: 1.0765801\ttotal: 14.3s\tremaining: 991ms\n",
            "3750:\tlearn: 1.0765534\ttotal: 14.4s\tremaining: 953ms\n",
            "3760:\tlearn: 1.0765171\ttotal: 14.4s\tremaining: 915ms\n",
            "3770:\tlearn: 1.0764853\ttotal: 14.4s\tremaining: 876ms\n",
            "3780:\tlearn: 1.0764706\ttotal: 14.5s\tremaining: 839ms\n",
            "3790:\tlearn: 1.0764342\ttotal: 14.5s\tremaining: 801ms\n",
            "3800:\tlearn: 1.0763998\ttotal: 14.6s\tremaining: 762ms\n",
            "3810:\tlearn: 1.0763701\ttotal: 14.6s\tremaining: 724ms\n",
            "3820:\tlearn: 1.0763408\ttotal: 14.6s\tremaining: 686ms\n",
            "3830:\tlearn: 1.0763153\ttotal: 14.7s\tremaining: 647ms\n",
            "3840:\tlearn: 1.0762951\ttotal: 14.7s\tremaining: 609ms\n",
            "3850:\tlearn: 1.0762663\ttotal: 14.8s\tremaining: 571ms\n",
            "3860:\tlearn: 1.0762299\ttotal: 14.8s\tremaining: 533ms\n",
            "3870:\tlearn: 1.0762094\ttotal: 14.8s\tremaining: 494ms\n",
            "3880:\tlearn: 1.0761737\ttotal: 14.9s\tremaining: 456ms\n",
            "3890:\tlearn: 1.0761375\ttotal: 14.9s\tremaining: 418ms\n",
            "3900:\tlearn: 1.0761043\ttotal: 15s\tremaining: 380ms\n",
            "3910:\tlearn: 1.0760759\ttotal: 15s\tremaining: 341ms\n",
            "3920:\tlearn: 1.0760454\ttotal: 15s\tremaining: 303ms\n",
            "3930:\tlearn: 1.0760228\ttotal: 15.1s\tremaining: 265ms\n",
            "3940:\tlearn: 1.0759962\ttotal: 15.1s\tremaining: 226ms\n",
            "3950:\tlearn: 1.0759635\ttotal: 15.2s\tremaining: 188ms\n",
            "3960:\tlearn: 1.0759416\ttotal: 15.2s\tremaining: 150ms\n",
            "3970:\tlearn: 1.0759145\ttotal: 15.2s\tremaining: 111ms\n",
            "3980:\tlearn: 1.0758902\ttotal: 15.3s\tremaining: 72.9ms\n",
            "3990:\tlearn: 1.0758599\ttotal: 15.3s\tremaining: 34.5ms\n",
            "3999:\tlearn: 1.0758271\ttotal: 15.4s\tremaining: 0us\n",
            "Fold 14, Valid score = 1.0855\n"
          ],
          "name": "stdout"
        },
        {
          "output_type": "stream",
          "text": [
            "Warning: less than 75% gpu memory available for training. Free: 5249.75 Total: 16280.875\n"
          ],
          "name": "stderr"
        },
        {
          "output_type": "stream",
          "text": [
            "0:\tlearn: 1.3525778\ttotal: 5.1ms\tremaining: 20.4s\n",
            "10:\tlearn: 1.1883453\ttotal: 43.1ms\tremaining: 15.6s\n",
            "20:\tlearn: 1.1387900\ttotal: 82.5ms\tremaining: 15.6s\n",
            "30:\tlearn: 1.1212146\ttotal: 120ms\tremaining: 15.4s\n",
            "40:\tlearn: 1.1145156\ttotal: 166ms\tremaining: 16.1s\n",
            "50:\tlearn: 1.1114850\ttotal: 221ms\tremaining: 17.1s\n",
            "60:\tlearn: 1.1098458\ttotal: 259ms\tremaining: 16.7s\n",
            "70:\tlearn: 1.1086052\ttotal: 296ms\tremaining: 16.4s\n",
            "80:\tlearn: 1.1075598\ttotal: 334ms\tremaining: 16.2s\n",
            "90:\tlearn: 1.1066566\ttotal: 371ms\tremaining: 16s\n",
            "100:\tlearn: 1.1058283\ttotal: 409ms\tremaining: 15.8s\n",
            "110:\tlearn: 1.1053460\ttotal: 454ms\tremaining: 15.9s\n",
            "120:\tlearn: 1.1046936\ttotal: 496ms\tremaining: 15.9s\n",
            "130:\tlearn: 1.1042087\ttotal: 532ms\tremaining: 15.7s\n",
            "140:\tlearn: 1.1037861\ttotal: 569ms\tremaining: 15.6s\n",
            "150:\tlearn: 1.1031712\ttotal: 604ms\tremaining: 15.4s\n",
            "160:\tlearn: 1.1028783\ttotal: 637ms\tremaining: 15.2s\n",
            "170:\tlearn: 1.1024407\ttotal: 683ms\tremaining: 15.3s\n",
            "180:\tlearn: 1.1018628\ttotal: 720ms\tremaining: 15.2s\n",
            "190:\tlearn: 1.1014078\ttotal: 755ms\tremaining: 15.1s\n",
            "200:\tlearn: 1.1009012\ttotal: 792ms\tremaining: 15s\n",
            "210:\tlearn: 1.1005601\ttotal: 829ms\tremaining: 14.9s\n",
            "220:\tlearn: 1.1002136\ttotal: 866ms\tremaining: 14.8s\n",
            "230:\tlearn: 1.0998635\ttotal: 913ms\tremaining: 14.9s\n",
            "240:\tlearn: 1.0994684\ttotal: 950ms\tremaining: 14.8s\n",
            "250:\tlearn: 1.0991440\ttotal: 987ms\tremaining: 14.7s\n",
            "260:\tlearn: 1.0988413\ttotal: 1.02s\tremaining: 14.7s\n",
            "270:\tlearn: 1.0984950\ttotal: 1.06s\tremaining: 14.7s\n",
            "280:\tlearn: 1.0982699\ttotal: 1.1s\tremaining: 14.6s\n",
            "290:\tlearn: 1.0978787\ttotal: 1.15s\tremaining: 14.7s\n",
            "300:\tlearn: 1.0974676\ttotal: 1.2s\tremaining: 14.8s\n",
            "310:\tlearn: 1.0971931\ttotal: 1.25s\tremaining: 14.9s\n",
            "320:\tlearn: 1.0968804\ttotal: 1.29s\tremaining: 14.8s\n",
            "330:\tlearn: 1.0966109\ttotal: 1.33s\tremaining: 14.8s\n",
            "340:\tlearn: 1.0963039\ttotal: 1.38s\tremaining: 14.8s\n",
            "350:\tlearn: 1.0960536\ttotal: 1.42s\tremaining: 14.8s\n",
            "360:\tlearn: 1.0957549\ttotal: 1.46s\tremaining: 14.7s\n",
            "370:\tlearn: 1.0955407\ttotal: 1.5s\tremaining: 14.6s\n",
            "380:\tlearn: 1.0952601\ttotal: 1.53s\tremaining: 14.6s\n",
            "390:\tlearn: 1.0950100\ttotal: 1.57s\tremaining: 14.5s\n",
            "400:\tlearn: 1.0947522\ttotal: 1.62s\tremaining: 14.5s\n",
            "410:\tlearn: 1.0944985\ttotal: 1.65s\tremaining: 14.5s\n",
            "420:\tlearn: 1.0942513\ttotal: 1.69s\tremaining: 14.4s\n",
            "430:\tlearn: 1.0940680\ttotal: 1.73s\tremaining: 14.3s\n",
            "440:\tlearn: 1.0938587\ttotal: 1.76s\tremaining: 14.3s\n",
            "450:\tlearn: 1.0936514\ttotal: 1.8s\tremaining: 14.2s\n",
            "460:\tlearn: 1.0934910\ttotal: 1.85s\tremaining: 14.2s\n",
            "470:\tlearn: 1.0933107\ttotal: 1.89s\tremaining: 14.1s\n",
            "480:\tlearn: 1.0931629\ttotal: 1.92s\tremaining: 14.1s\n",
            "490:\tlearn: 1.0929576\ttotal: 1.96s\tremaining: 14s\n",
            "500:\tlearn: 1.0927841\ttotal: 2s\tremaining: 14s\n",
            "510:\tlearn: 1.0925924\ttotal: 2.04s\tremaining: 13.9s\n",
            "520:\tlearn: 1.0923926\ttotal: 2.09s\tremaining: 14s\n",
            "530:\tlearn: 1.0922334\ttotal: 2.13s\tremaining: 13.9s\n",
            "540:\tlearn: 1.0920737\ttotal: 2.16s\tremaining: 13.8s\n",
            "550:\tlearn: 1.0919228\ttotal: 2.2s\tremaining: 13.8s\n",
            "560:\tlearn: 1.0917947\ttotal: 2.25s\tremaining: 13.8s\n",
            "570:\tlearn: 1.0916694\ttotal: 2.28s\tremaining: 13.7s\n",
            "580:\tlearn: 1.0915062\ttotal: 2.33s\tremaining: 13.7s\n",
            "590:\tlearn: 1.0913416\ttotal: 2.37s\tremaining: 13.7s\n",
            "600:\tlearn: 1.0912291\ttotal: 2.4s\tremaining: 13.6s\n",
            "610:\tlearn: 1.0910859\ttotal: 2.44s\tremaining: 13.6s\n",
            "620:\tlearn: 1.0909297\ttotal: 2.48s\tremaining: 13.5s\n",
            "630:\tlearn: 1.0907859\ttotal: 2.52s\tremaining: 13.5s\n",
            "640:\tlearn: 1.0906181\ttotal: 2.57s\tremaining: 13.5s\n",
            "650:\tlearn: 1.0905322\ttotal: 2.61s\tremaining: 13.4s\n",
            "660:\tlearn: 1.0904043\ttotal: 2.65s\tremaining: 13.4s\n",
            "670:\tlearn: 1.0902876\ttotal: 2.69s\tremaining: 13.3s\n",
            "680:\tlearn: 1.0901769\ttotal: 2.72s\tremaining: 13.3s\n",
            "690:\tlearn: 1.0900722\ttotal: 2.76s\tremaining: 13.2s\n",
            "700:\tlearn: 1.0899974\ttotal: 2.81s\tremaining: 13.2s\n",
            "710:\tlearn: 1.0898880\ttotal: 2.84s\tremaining: 13.2s\n",
            "720:\tlearn: 1.0898067\ttotal: 2.88s\tremaining: 13.1s\n",
            "730:\tlearn: 1.0897271\ttotal: 2.92s\tremaining: 13s\n",
            "740:\tlearn: 1.0896252\ttotal: 2.95s\tremaining: 13s\n",
            "750:\tlearn: 1.0895237\ttotal: 2.99s\tremaining: 12.9s\n",
            "760:\tlearn: 1.0894130\ttotal: 3.04s\tremaining: 12.9s\n",
            "770:\tlearn: 1.0892829\ttotal: 3.08s\tremaining: 12.9s\n",
            "780:\tlearn: 1.0891958\ttotal: 3.11s\tremaining: 12.8s\n",
            "790:\tlearn: 1.0891231\ttotal: 3.15s\tremaining: 12.8s\n",
            "800:\tlearn: 1.0890519\ttotal: 3.19s\tremaining: 12.7s\n",
            "810:\tlearn: 1.0889087\ttotal: 3.25s\tremaining: 12.8s\n",
            "820:\tlearn: 1.0888185\ttotal: 3.28s\tremaining: 12.7s\n",
            "830:\tlearn: 1.0887208\ttotal: 3.33s\tremaining: 12.7s\n",
            "840:\tlearn: 1.0886483\ttotal: 3.36s\tremaining: 12.6s\n",
            "850:\tlearn: 1.0885636\ttotal: 3.4s\tremaining: 12.6s\n",
            "860:\tlearn: 1.0884919\ttotal: 3.44s\tremaining: 12.5s\n",
            "870:\tlearn: 1.0884091\ttotal: 3.48s\tremaining: 12.5s\n",
            "880:\tlearn: 1.0883412\ttotal: 3.52s\tremaining: 12.5s\n",
            "890:\tlearn: 1.0882442\ttotal: 3.56s\tremaining: 12.4s\n",
            "900:\tlearn: 1.0881481\ttotal: 3.6s\tremaining: 12.4s\n",
            "910:\tlearn: 1.0880884\ttotal: 3.64s\tremaining: 12.3s\n",
            "920:\tlearn: 1.0879768\ttotal: 3.68s\tremaining: 12.3s\n",
            "930:\tlearn: 1.0878784\ttotal: 3.73s\tremaining: 12.3s\n",
            "940:\tlearn: 1.0878081\ttotal: 3.76s\tremaining: 12.2s\n",
            "950:\tlearn: 1.0877266\ttotal: 3.8s\tremaining: 12.2s\n",
            "960:\tlearn: 1.0876469\ttotal: 3.84s\tremaining: 12.1s\n",
            "970:\tlearn: 1.0875681\ttotal: 3.87s\tremaining: 12.1s\n",
            "980:\tlearn: 1.0875181\ttotal: 3.91s\tremaining: 12s\n",
            "990:\tlearn: 1.0874290\ttotal: 3.96s\tremaining: 12s\n",
            "1000:\tlearn: 1.0873620\ttotal: 4s\tremaining: 12s\n",
            "1010:\tlearn: 1.0872707\ttotal: 4.04s\tremaining: 11.9s\n",
            "1020:\tlearn: 1.0871858\ttotal: 4.07s\tremaining: 11.9s\n",
            "1030:\tlearn: 1.0871121\ttotal: 4.11s\tremaining: 11.8s\n",
            "1040:\tlearn: 1.0870468\ttotal: 4.15s\tremaining: 11.8s\n",
            "1050:\tlearn: 1.0869614\ttotal: 4.2s\tremaining: 11.8s\n",
            "1060:\tlearn: 1.0868985\ttotal: 4.24s\tremaining: 11.7s\n",
            "1070:\tlearn: 1.0868189\ttotal: 4.27s\tremaining: 11.7s\n",
            "1080:\tlearn: 1.0867487\ttotal: 4.3s\tremaining: 11.6s\n",
            "1090:\tlearn: 1.0866908\ttotal: 4.34s\tremaining: 11.6s\n",
            "1100:\tlearn: 1.0866231\ttotal: 4.37s\tremaining: 11.5s\n",
            "1110:\tlearn: 1.0865484\ttotal: 4.44s\tremaining: 11.5s\n",
            "1120:\tlearn: 1.0864634\ttotal: 4.47s\tremaining: 11.5s\n",
            "1130:\tlearn: 1.0863926\ttotal: 4.51s\tremaining: 11.5s\n",
            "1140:\tlearn: 1.0863373\ttotal: 4.55s\tremaining: 11.4s\n",
            "1150:\tlearn: 1.0862676\ttotal: 4.59s\tremaining: 11.4s\n",
            "1160:\tlearn: 1.0862142\ttotal: 4.63s\tremaining: 11.3s\n",
            "1170:\tlearn: 1.0861643\ttotal: 4.67s\tremaining: 11.3s\n",
            "1180:\tlearn: 1.0861050\ttotal: 4.71s\tremaining: 11.2s\n",
            "1190:\tlearn: 1.0860327\ttotal: 4.75s\tremaining: 11.2s\n",
            "1200:\tlearn: 1.0859651\ttotal: 4.78s\tremaining: 11.2s\n",
            "1210:\tlearn: 1.0859050\ttotal: 4.82s\tremaining: 11.1s\n",
            "1220:\tlearn: 1.0858290\ttotal: 4.86s\tremaining: 11.1s\n",
            "1230:\tlearn: 1.0857585\ttotal: 4.9s\tremaining: 11s\n",
            "1240:\tlearn: 1.0857146\ttotal: 4.94s\tremaining: 11s\n",
            "1250:\tlearn: 1.0856506\ttotal: 4.97s\tremaining: 10.9s\n",
            "1260:\tlearn: 1.0855854\ttotal: 5.01s\tremaining: 10.9s\n",
            "1270:\tlearn: 1.0855231\ttotal: 5.05s\tremaining: 10.8s\n",
            "1280:\tlearn: 1.0854761\ttotal: 5.09s\tremaining: 10.8s\n",
            "1290:\tlearn: 1.0854155\ttotal: 5.14s\tremaining: 10.8s\n",
            "1300:\tlearn: 1.0853445\ttotal: 5.17s\tremaining: 10.7s\n",
            "1310:\tlearn: 1.0852825\ttotal: 5.22s\tremaining: 10.7s\n",
            "1320:\tlearn: 1.0852290\ttotal: 5.27s\tremaining: 10.7s\n",
            "1330:\tlearn: 1.0851664\ttotal: 5.3s\tremaining: 10.6s\n",
            "1340:\tlearn: 1.0851053\ttotal: 5.35s\tremaining: 10.6s\n",
            "1350:\tlearn: 1.0850491\ttotal: 5.39s\tremaining: 10.6s\n",
            "1360:\tlearn: 1.0850034\ttotal: 5.42s\tremaining: 10.5s\n",
            "1370:\tlearn: 1.0849499\ttotal: 5.46s\tremaining: 10.5s\n",
            "1380:\tlearn: 1.0848970\ttotal: 5.49s\tremaining: 10.4s\n",
            "1390:\tlearn: 1.0848516\ttotal: 5.54s\tremaining: 10.4s\n",
            "1400:\tlearn: 1.0848141\ttotal: 5.59s\tremaining: 10.4s\n",
            "1410:\tlearn: 1.0847641\ttotal: 5.63s\tremaining: 10.3s\n",
            "1420:\tlearn: 1.0847022\ttotal: 5.66s\tremaining: 10.3s\n",
            "1430:\tlearn: 1.0846586\ttotal: 5.7s\tremaining: 10.2s\n",
            "1440:\tlearn: 1.0846031\ttotal: 5.73s\tremaining: 10.2s\n",
            "1450:\tlearn: 1.0845603\ttotal: 5.77s\tremaining: 10.1s\n",
            "1460:\tlearn: 1.0844913\ttotal: 5.81s\tremaining: 10.1s\n",
            "1470:\tlearn: 1.0844496\ttotal: 5.85s\tremaining: 10.1s\n",
            "1480:\tlearn: 1.0843967\ttotal: 5.88s\tremaining: 10s\n",
            "1490:\tlearn: 1.0843551\ttotal: 5.92s\tremaining: 9.96s\n",
            "1500:\tlearn: 1.0843149\ttotal: 5.95s\tremaining: 9.91s\n",
            "1510:\tlearn: 1.0842544\ttotal: 5.99s\tremaining: 9.86s\n",
            "1520:\tlearn: 1.0842036\ttotal: 6.03s\tremaining: 9.84s\n",
            "1530:\tlearn: 1.0841515\ttotal: 6.07s\tremaining: 9.79s\n",
            "1540:\tlearn: 1.0841133\ttotal: 6.11s\tremaining: 9.75s\n",
            "1550:\tlearn: 1.0840570\ttotal: 6.14s\tremaining: 9.7s\n",
            "1560:\tlearn: 1.0840106\ttotal: 6.18s\tremaining: 9.66s\n",
            "1570:\tlearn: 1.0839628\ttotal: 6.22s\tremaining: 9.62s\n",
            "1580:\tlearn: 1.0839077\ttotal: 6.27s\tremaining: 9.59s\n",
            "1590:\tlearn: 1.0838668\ttotal: 6.3s\tremaining: 9.55s\n",
            "1600:\tlearn: 1.0838145\ttotal: 6.34s\tremaining: 9.5s\n",
            "1610:\tlearn: 1.0837635\ttotal: 6.38s\tremaining: 9.46s\n",
            "1620:\tlearn: 1.0837097\ttotal: 6.41s\tremaining: 9.41s\n",
            "1630:\tlearn: 1.0836688\ttotal: 6.45s\tremaining: 9.37s\n",
            "1640:\tlearn: 1.0836324\ttotal: 6.49s\tremaining: 9.34s\n",
            "1650:\tlearn: 1.0835802\ttotal: 6.53s\tremaining: 9.29s\n",
            "1660:\tlearn: 1.0835356\ttotal: 6.57s\tremaining: 9.24s\n",
            "1670:\tlearn: 1.0834713\ttotal: 6.6s\tremaining: 9.2s\n",
            "1680:\tlearn: 1.0834221\ttotal: 6.64s\tremaining: 9.15s\n",
            "1690:\tlearn: 1.0833791\ttotal: 6.67s\tremaining: 9.11s\n",
            "1700:\tlearn: 1.0833349\ttotal: 6.72s\tremaining: 9.08s\n",
            "1710:\tlearn: 1.0832879\ttotal: 6.75s\tremaining: 9.03s\n",
            "1720:\tlearn: 1.0832343\ttotal: 6.79s\tremaining: 8.99s\n",
            "1730:\tlearn: 1.0831933\ttotal: 6.83s\tremaining: 8.95s\n",
            "1740:\tlearn: 1.0831464\ttotal: 6.86s\tremaining: 8.9s\n",
            "1750:\tlearn: 1.0831053\ttotal: 6.9s\tremaining: 8.86s\n",
            "1760:\tlearn: 1.0830673\ttotal: 6.95s\tremaining: 8.84s\n",
            "1770:\tlearn: 1.0830180\ttotal: 7s\tremaining: 8.8s\n",
            "1780:\tlearn: 1.0829741\ttotal: 7.03s\tremaining: 8.76s\n",
            "1790:\tlearn: 1.0829311\ttotal: 7.07s\tremaining: 8.72s\n",
            "1800:\tlearn: 1.0829045\ttotal: 7.11s\tremaining: 8.68s\n",
            "1810:\tlearn: 1.0828740\ttotal: 7.15s\tremaining: 8.64s\n",
            "1820:\tlearn: 1.0828291\ttotal: 7.2s\tremaining: 8.62s\n",
            "1830:\tlearn: 1.0827929\ttotal: 7.24s\tremaining: 8.58s\n",
            "1840:\tlearn: 1.0827356\ttotal: 7.28s\tremaining: 8.54s\n",
            "1850:\tlearn: 1.0826923\ttotal: 7.32s\tremaining: 8.5s\n",
            "1860:\tlearn: 1.0826565\ttotal: 7.36s\tremaining: 8.46s\n",
            "1870:\tlearn: 1.0826215\ttotal: 7.39s\tremaining: 8.41s\n",
            "1880:\tlearn: 1.0825768\ttotal: 7.44s\tremaining: 8.38s\n",
            "1890:\tlearn: 1.0825371\ttotal: 7.48s\tremaining: 8.34s\n",
            "1900:\tlearn: 1.0825020\ttotal: 7.52s\tremaining: 8.3s\n",
            "1910:\tlearn: 1.0824545\ttotal: 7.55s\tremaining: 8.26s\n",
            "1920:\tlearn: 1.0823948\ttotal: 7.59s\tremaining: 8.21s\n",
            "1930:\tlearn: 1.0823529\ttotal: 7.63s\tremaining: 8.17s\n",
            "1940:\tlearn: 1.0823086\ttotal: 7.67s\tremaining: 8.14s\n",
            "1950:\tlearn: 1.0822579\ttotal: 7.71s\tremaining: 8.1s\n",
            "1960:\tlearn: 1.0822234\ttotal: 7.74s\tremaining: 8.05s\n",
            "1970:\tlearn: 1.0821767\ttotal: 7.78s\tremaining: 8.01s\n",
            "1980:\tlearn: 1.0821283\ttotal: 7.81s\tremaining: 7.96s\n",
            "1990:\tlearn: 1.0820962\ttotal: 7.85s\tremaining: 7.92s\n",
            "2000:\tlearn: 1.0820450\ttotal: 7.9s\tremaining: 7.89s\n",
            "2010:\tlearn: 1.0819896\ttotal: 7.93s\tremaining: 7.85s\n",
            "2020:\tlearn: 1.0819564\ttotal: 7.97s\tremaining: 7.8s\n",
            "2030:\tlearn: 1.0818985\ttotal: 8s\tremaining: 7.76s\n",
            "2040:\tlearn: 1.0818523\ttotal: 8.04s\tremaining: 7.71s\n",
            "2050:\tlearn: 1.0818153\ttotal: 8.07s\tremaining: 7.67s\n",
            "2060:\tlearn: 1.0817629\ttotal: 8.12s\tremaining: 7.64s\n",
            "2070:\tlearn: 1.0817282\ttotal: 8.17s\tremaining: 7.61s\n",
            "2080:\tlearn: 1.0816845\ttotal: 8.21s\tremaining: 7.57s\n",
            "2090:\tlearn: 1.0816483\ttotal: 8.24s\tremaining: 7.52s\n",
            "2100:\tlearn: 1.0815965\ttotal: 8.28s\tremaining: 7.48s\n",
            "2110:\tlearn: 1.0815578\ttotal: 8.32s\tremaining: 7.44s\n",
            "2120:\tlearn: 1.0815281\ttotal: 8.36s\tremaining: 7.41s\n",
            "2130:\tlearn: 1.0814857\ttotal: 8.4s\tremaining: 7.37s\n",
            "2140:\tlearn: 1.0814425\ttotal: 8.44s\tremaining: 7.33s\n",
            "2150:\tlearn: 1.0813967\ttotal: 8.47s\tremaining: 7.28s\n",
            "2160:\tlearn: 1.0813712\ttotal: 8.51s\tremaining: 7.24s\n",
            "2170:\tlearn: 1.0813294\ttotal: 8.54s\tremaining: 7.2s\n",
            "2180:\tlearn: 1.0812865\ttotal: 8.59s\tremaining: 7.16s\n",
            "2190:\tlearn: 1.0812524\ttotal: 8.63s\tremaining: 7.12s\n",
            "2200:\tlearn: 1.0812233\ttotal: 8.66s\tremaining: 7.08s\n",
            "2210:\tlearn: 1.0811919\ttotal: 8.7s\tremaining: 7.04s\n",
            "2220:\tlearn: 1.0811708\ttotal: 8.73s\tremaining: 6.99s\n",
            "2230:\tlearn: 1.0811395\ttotal: 8.77s\tremaining: 6.95s\n",
            "2240:\tlearn: 1.0811100\ttotal: 8.81s\tremaining: 6.92s\n",
            "2250:\tlearn: 1.0810682\ttotal: 8.85s\tremaining: 6.88s\n",
            "2260:\tlearn: 1.0810419\ttotal: 8.89s\tremaining: 6.84s\n",
            "2270:\tlearn: 1.0810127\ttotal: 8.92s\tremaining: 6.79s\n",
            "2280:\tlearn: 1.0809746\ttotal: 8.96s\tremaining: 6.75s\n",
            "2290:\tlearn: 1.0809538\ttotal: 8.99s\tremaining: 6.71s\n",
            "2300:\tlearn: 1.0809199\ttotal: 9.05s\tremaining: 6.68s\n",
            "2310:\tlearn: 1.0808756\ttotal: 9.08s\tremaining: 6.64s\n",
            "2320:\tlearn: 1.0808407\ttotal: 9.12s\tremaining: 6.6s\n",
            "2330:\tlearn: 1.0808026\ttotal: 9.16s\tremaining: 6.56s\n",
            "2340:\tlearn: 1.0807609\ttotal: 9.21s\tremaining: 6.53s\n",
            "2350:\tlearn: 1.0807316\ttotal: 9.26s\tremaining: 6.49s\n",
            "2360:\tlearn: 1.0806956\ttotal: 9.29s\tremaining: 6.45s\n",
            "2370:\tlearn: 1.0806557\ttotal: 9.33s\tremaining: 6.41s\n",
            "2380:\tlearn: 1.0806086\ttotal: 9.37s\tremaining: 6.37s\n",
            "2390:\tlearn: 1.0805646\ttotal: 9.4s\tremaining: 6.33s\n",
            "2400:\tlearn: 1.0805301\ttotal: 9.44s\tremaining: 6.28s\n",
            "2410:\tlearn: 1.0804973\ttotal: 9.48s\tremaining: 6.25s\n",
            "2420:\tlearn: 1.0804631\ttotal: 9.52s\tremaining: 6.21s\n",
            "2430:\tlearn: 1.0804264\ttotal: 9.56s\tremaining: 6.17s\n",
            "2440:\tlearn: 1.0803937\ttotal: 9.6s\tremaining: 6.13s\n",
            "2450:\tlearn: 1.0803474\ttotal: 9.63s\tremaining: 6.09s\n",
            "2460:\tlearn: 1.0803063\ttotal: 9.67s\tremaining: 6.04s\n",
            "2470:\tlearn: 1.0802714\ttotal: 9.71s\tremaining: 6.01s\n",
            "2480:\tlearn: 1.0802482\ttotal: 9.75s\tremaining: 5.97s\n",
            "2490:\tlearn: 1.0802097\ttotal: 9.78s\tremaining: 5.93s\n",
            "2500:\tlearn: 1.0801817\ttotal: 9.82s\tremaining: 5.88s\n",
            "2510:\tlearn: 1.0801419\ttotal: 9.85s\tremaining: 5.84s\n",
            "2520:\tlearn: 1.0800961\ttotal: 9.89s\tremaining: 5.8s\n",
            "2530:\tlearn: 1.0800511\ttotal: 9.94s\tremaining: 5.77s\n",
            "2540:\tlearn: 1.0800255\ttotal: 9.98s\tremaining: 5.73s\n",
            "2550:\tlearn: 1.0800007\ttotal: 10s\tremaining: 5.69s\n",
            "2560:\tlearn: 1.0799662\ttotal: 10.1s\tremaining: 5.66s\n",
            "2570:\tlearn: 1.0799381\ttotal: 10.1s\tremaining: 5.62s\n",
            "2580:\tlearn: 1.0799071\ttotal: 10.2s\tremaining: 5.59s\n",
            "2590:\tlearn: 1.0798610\ttotal: 10.2s\tremaining: 5.55s\n",
            "2600:\tlearn: 1.0798332\ttotal: 10.2s\tremaining: 5.51s\n",
            "2610:\tlearn: 1.0797864\ttotal: 10.3s\tremaining: 5.47s\n",
            "2620:\tlearn: 1.0797591\ttotal: 10.3s\tremaining: 5.43s\n",
            "2630:\tlearn: 1.0797272\ttotal: 10.3s\tremaining: 5.38s\n",
            "2640:\tlearn: 1.0796997\ttotal: 10.4s\tremaining: 5.35s\n",
            "2650:\tlearn: 1.0796688\ttotal: 10.4s\tremaining: 5.31s\n",
            "2660:\tlearn: 1.0796375\ttotal: 10.5s\tremaining: 5.27s\n",
            "2670:\tlearn: 1.0796151\ttotal: 10.5s\tremaining: 5.22s\n",
            "2680:\tlearn: 1.0795760\ttotal: 10.5s\tremaining: 5.18s\n",
            "2690:\tlearn: 1.0795479\ttotal: 10.6s\tremaining: 5.14s\n",
            "2700:\tlearn: 1.0795246\ttotal: 10.6s\tremaining: 5.11s\n",
            "2710:\tlearn: 1.0794937\ttotal: 10.7s\tremaining: 5.07s\n",
            "2720:\tlearn: 1.0794624\ttotal: 10.7s\tremaining: 5.02s\n",
            "2730:\tlearn: 1.0794284\ttotal: 10.7s\tremaining: 4.98s\n",
            "2740:\tlearn: 1.0794026\ttotal: 10.8s\tremaining: 4.94s\n",
            "2750:\tlearn: 1.0793693\ttotal: 10.8s\tremaining: 4.9s\n",
            "2760:\tlearn: 1.0793524\ttotal: 10.8s\tremaining: 4.87s\n",
            "2770:\tlearn: 1.0793089\ttotal: 10.9s\tremaining: 4.83s\n",
            "2780:\tlearn: 1.0792708\ttotal: 10.9s\tremaining: 4.79s\n",
            "2790:\tlearn: 1.0792497\ttotal: 11s\tremaining: 4.75s\n",
            "2800:\tlearn: 1.0792128\ttotal: 11s\tremaining: 4.71s\n",
            "2810:\tlearn: 1.0791783\ttotal: 11s\tremaining: 4.67s\n",
            "2820:\tlearn: 1.0791374\ttotal: 11.1s\tremaining: 4.63s\n",
            "2830:\tlearn: 1.0790942\ttotal: 11.1s\tremaining: 4.59s\n",
            "2840:\tlearn: 1.0790573\ttotal: 11.2s\tremaining: 4.56s\n",
            "2850:\tlearn: 1.0790095\ttotal: 11.2s\tremaining: 4.52s\n",
            "2860:\tlearn: 1.0789550\ttotal: 11.2s\tremaining: 4.48s\n",
            "2870:\tlearn: 1.0789245\ttotal: 11.3s\tremaining: 4.44s\n",
            "2880:\tlearn: 1.0788945\ttotal: 11.3s\tremaining: 4.4s\n",
            "2890:\tlearn: 1.0788367\ttotal: 11.4s\tremaining: 4.36s\n",
            "2900:\tlearn: 1.0788090\ttotal: 11.4s\tremaining: 4.32s\n",
            "2910:\tlearn: 1.0787774\ttotal: 11.5s\tremaining: 4.28s\n",
            "2920:\tlearn: 1.0787477\ttotal: 11.5s\tremaining: 4.24s\n",
            "2930:\tlearn: 1.0787189\ttotal: 11.5s\tremaining: 4.21s\n",
            "2940:\tlearn: 1.0786691\ttotal: 11.6s\tremaining: 4.17s\n",
            "2950:\tlearn: 1.0786499\ttotal: 11.6s\tremaining: 4.13s\n",
            "2960:\tlearn: 1.0786224\ttotal: 11.6s\tremaining: 4.09s\n",
            "2970:\tlearn: 1.0785800\ttotal: 11.7s\tremaining: 4.05s\n",
            "2980:\tlearn: 1.0785474\ttotal: 11.7s\tremaining: 4.01s\n",
            "2990:\tlearn: 1.0785168\ttotal: 11.8s\tremaining: 3.97s\n",
            "3000:\tlearn: 1.0784968\ttotal: 11.8s\tremaining: 3.93s\n",
            "3010:\tlearn: 1.0784678\ttotal: 11.8s\tremaining: 3.89s\n",
            "3020:\tlearn: 1.0784247\ttotal: 11.9s\tremaining: 3.85s\n",
            "3030:\tlearn: 1.0783821\ttotal: 11.9s\tremaining: 3.81s\n",
            "3040:\tlearn: 1.0783583\ttotal: 11.9s\tremaining: 3.77s\n",
            "3050:\tlearn: 1.0783241\ttotal: 12s\tremaining: 3.73s\n",
            "3060:\tlearn: 1.0782871\ttotal: 12s\tremaining: 3.69s\n",
            "3070:\tlearn: 1.0782508\ttotal: 12.1s\tremaining: 3.65s\n",
            "3080:\tlearn: 1.0782159\ttotal: 12.1s\tremaining: 3.61s\n",
            "3090:\tlearn: 1.0781852\ttotal: 12.2s\tremaining: 3.57s\n",
            "3100:\tlearn: 1.0781523\ttotal: 12.2s\tremaining: 3.54s\n",
            "3110:\tlearn: 1.0781308\ttotal: 12.2s\tremaining: 3.5s\n",
            "3120:\tlearn: 1.0781106\ttotal: 12.3s\tremaining: 3.46s\n",
            "3130:\tlearn: 1.0780757\ttotal: 12.3s\tremaining: 3.42s\n",
            "3140:\tlearn: 1.0780535\ttotal: 12.4s\tremaining: 3.38s\n",
            "3150:\tlearn: 1.0780274\ttotal: 12.4s\tremaining: 3.34s\n",
            "3160:\tlearn: 1.0779942\ttotal: 12.4s\tremaining: 3.3s\n",
            "3170:\tlearn: 1.0779516\ttotal: 12.5s\tremaining: 3.26s\n",
            "3180:\tlearn: 1.0779288\ttotal: 12.5s\tremaining: 3.22s\n",
            "3190:\tlearn: 1.0779048\ttotal: 12.6s\tremaining: 3.18s\n",
            "3200:\tlearn: 1.0778772\ttotal: 12.6s\tremaining: 3.14s\n",
            "3210:\tlearn: 1.0778575\ttotal: 12.6s\tremaining: 3.1s\n",
            "3220:\tlearn: 1.0778209\ttotal: 12.7s\tremaining: 3.07s\n",
            "3230:\tlearn: 1.0777878\ttotal: 12.7s\tremaining: 3.03s\n",
            "3240:\tlearn: 1.0777601\ttotal: 12.8s\tremaining: 2.99s\n",
            "3250:\tlearn: 1.0777318\ttotal: 12.8s\tremaining: 2.95s\n",
            "3260:\tlearn: 1.0777003\ttotal: 12.8s\tremaining: 2.91s\n",
            "3270:\tlearn: 1.0776721\ttotal: 12.9s\tremaining: 2.87s\n",
            "3280:\tlearn: 1.0776496\ttotal: 12.9s\tremaining: 2.83s\n",
            "3290:\tlearn: 1.0776129\ttotal: 13s\tremaining: 2.79s\n",
            "3300:\tlearn: 1.0775719\ttotal: 13s\tremaining: 2.75s\n",
            "3310:\tlearn: 1.0775416\ttotal: 13s\tremaining: 2.71s\n",
            "3320:\tlearn: 1.0775102\ttotal: 13.1s\tremaining: 2.67s\n",
            "3330:\tlearn: 1.0774837\ttotal: 13.2s\tremaining: 2.64s\n",
            "3340:\tlearn: 1.0774541\ttotal: 13.2s\tremaining: 2.6s\n",
            "3350:\tlearn: 1.0774284\ttotal: 13.2s\tremaining: 2.56s\n",
            "3360:\tlearn: 1.0773955\ttotal: 13.3s\tremaining: 2.52s\n",
            "3370:\tlearn: 1.0773526\ttotal: 13.3s\tremaining: 2.48s\n",
            "3380:\tlearn: 1.0773179\ttotal: 13.3s\tremaining: 2.44s\n",
            "3390:\tlearn: 1.0772849\ttotal: 13.4s\tremaining: 2.4s\n",
            "3400:\tlearn: 1.0772427\ttotal: 13.4s\tremaining: 2.37s\n",
            "3410:\tlearn: 1.0772176\ttotal: 13.5s\tremaining: 2.33s\n",
            "3420:\tlearn: 1.0771831\ttotal: 13.5s\tremaining: 2.29s\n",
            "3430:\tlearn: 1.0771457\ttotal: 13.5s\tremaining: 2.25s\n",
            "3440:\tlearn: 1.0771171\ttotal: 13.6s\tremaining: 2.21s\n",
            "3450:\tlearn: 1.0770984\ttotal: 13.6s\tremaining: 2.17s\n",
            "3460:\tlearn: 1.0770800\ttotal: 13.7s\tremaining: 2.13s\n",
            "3470:\tlearn: 1.0770394\ttotal: 13.7s\tremaining: 2.09s\n",
            "3480:\tlearn: 1.0770139\ttotal: 13.8s\tremaining: 2.05s\n",
            "3490:\tlearn: 1.0769852\ttotal: 13.8s\tremaining: 2.01s\n",
            "3500:\tlearn: 1.0769593\ttotal: 13.8s\tremaining: 1.97s\n",
            "3510:\tlearn: 1.0769346\ttotal: 13.9s\tremaining: 1.93s\n",
            "3520:\tlearn: 1.0769078\ttotal: 13.9s\tremaining: 1.89s\n",
            "3530:\tlearn: 1.0768747\ttotal: 14s\tremaining: 1.85s\n",
            "3540:\tlearn: 1.0768411\ttotal: 14s\tremaining: 1.81s\n",
            "3550:\tlearn: 1.0768156\ttotal: 14s\tremaining: 1.77s\n",
            "3560:\tlearn: 1.0767918\ttotal: 14.1s\tremaining: 1.73s\n",
            "3570:\tlearn: 1.0767709\ttotal: 14.1s\tremaining: 1.7s\n",
            "3580:\tlearn: 1.0767378\ttotal: 14.2s\tremaining: 1.66s\n",
            "3590:\tlearn: 1.0767152\ttotal: 14.2s\tremaining: 1.62s\n",
            "3600:\tlearn: 1.0766747\ttotal: 14.3s\tremaining: 1.58s\n",
            "3610:\tlearn: 1.0766487\ttotal: 14.3s\tremaining: 1.54s\n",
            "3620:\tlearn: 1.0766097\ttotal: 14.3s\tremaining: 1.5s\n",
            "3630:\tlearn: 1.0765849\ttotal: 14.4s\tremaining: 1.46s\n",
            "3640:\tlearn: 1.0765544\ttotal: 14.4s\tremaining: 1.42s\n",
            "3650:\tlearn: 1.0765057\ttotal: 14.5s\tremaining: 1.38s\n",
            "3660:\tlearn: 1.0764770\ttotal: 14.5s\tremaining: 1.34s\n",
            "3670:\tlearn: 1.0764464\ttotal: 14.5s\tremaining: 1.3s\n",
            "3680:\tlearn: 1.0764305\ttotal: 14.6s\tremaining: 1.26s\n",
            "3690:\tlearn: 1.0764005\ttotal: 14.6s\tremaining: 1.22s\n",
            "3700:\tlearn: 1.0763825\ttotal: 14.7s\tremaining: 1.18s\n",
            "3710:\tlearn: 1.0763584\ttotal: 14.7s\tremaining: 1.14s\n",
            "3720:\tlearn: 1.0763171\ttotal: 14.7s\tremaining: 1.1s\n",
            "3730:\tlearn: 1.0762802\ttotal: 14.8s\tremaining: 1.06s\n",
            "3740:\tlearn: 1.0762549\ttotal: 14.8s\tremaining: 1.03s\n",
            "3750:\tlearn: 1.0762333\ttotal: 14.9s\tremaining: 986ms\n",
            "3760:\tlearn: 1.0762067\ttotal: 14.9s\tremaining: 947ms\n",
            "3770:\tlearn: 1.0761700\ttotal: 14.9s\tremaining: 907ms\n",
            "3780:\tlearn: 1.0761379\ttotal: 15s\tremaining: 867ms\n",
            "3790:\tlearn: 1.0761095\ttotal: 15s\tremaining: 828ms\n",
            "3800:\tlearn: 1.0760891\ttotal: 15.1s\tremaining: 788ms\n",
            "3810:\tlearn: 1.0760515\ttotal: 15.1s\tremaining: 749ms\n",
            "3820:\tlearn: 1.0760330\ttotal: 15.1s\tremaining: 710ms\n",
            "3830:\tlearn: 1.0760069\ttotal: 15.2s\tremaining: 670ms\n",
            "3840:\tlearn: 1.0759858\ttotal: 15.2s\tremaining: 630ms\n",
            "3850:\tlearn: 1.0759601\ttotal: 15.3s\tremaining: 591ms\n",
            "3860:\tlearn: 1.0759207\ttotal: 15.3s\tremaining: 551ms\n",
            "3870:\tlearn: 1.0758963\ttotal: 15.4s\tremaining: 512ms\n",
            "3880:\tlearn: 1.0758666\ttotal: 15.4s\tremaining: 472ms\n",
            "3890:\tlearn: 1.0758360\ttotal: 15.4s\tremaining: 432ms\n",
            "3900:\tlearn: 1.0758062\ttotal: 15.5s\tremaining: 392ms\n",
            "3910:\tlearn: 1.0757851\ttotal: 15.5s\tremaining: 353ms\n",
            "3920:\tlearn: 1.0757569\ttotal: 15.5s\tremaining: 313ms\n",
            "3930:\tlearn: 1.0757233\ttotal: 15.6s\tremaining: 274ms\n",
            "3940:\tlearn: 1.0756966\ttotal: 15.6s\tremaining: 234ms\n",
            "3950:\tlearn: 1.0756754\ttotal: 15.7s\tremaining: 194ms\n",
            "3960:\tlearn: 1.0756528\ttotal: 15.7s\tremaining: 155ms\n",
            "3970:\tlearn: 1.0756226\ttotal: 15.8s\tremaining: 115ms\n",
            "3980:\tlearn: 1.0755985\ttotal: 15.8s\tremaining: 75.4ms\n",
            "3990:\tlearn: 1.0755820\ttotal: 15.8s\tremaining: 35.7ms\n",
            "3999:\tlearn: 1.0755525\ttotal: 15.9s\tremaining: 0us\n",
            "Fold 15, Valid score = 1.08681\n",
            "Score by each fold: [1.09536, 1.08896, 1.08465, 1.09376, 1.08966, 1.09296, 1.09389, 1.08808, 1.08925, 1.09327, 1.08937, 1.0917, 1.09185, 1.0855, 1.08681]\n",
            "=================================================================\n"
          ],
          "name": "stdout"
        }
      ]
    },
    {
      "cell_type": "code",
      "metadata": {
        "colab": {
          "base_uri": "https://localhost:8080/"
        },
        "id": "AlFk82SKzxmS",
        "outputId": "0db52807-94f8-41d8-b230-cc46c5464d66"
      },
      "source": [
        "print(f\"Out of fold log loss {metrics.log_loss(target, cb_oof)}\")"
      ],
      "execution_count": 18,
      "outputs": [
        {
          "output_type": "stream",
          "text": [
            "Out of fold log loss 1.0903385608051261\n"
          ],
          "name": "stdout"
        }
      ]
    },
    {
      "cell_type": "code",
      "metadata": {
        "colab": {
          "base_uri": "https://localhost:8080/"
        },
        "id": "F5XodS5hRh0w",
        "outputId": "81bdcb2e-fdc4-4d97-a841-eb184782b102"
      },
      "source": [
        "cb_estimators[0]"
      ],
      "execution_count": null,
      "outputs": [
        {
          "output_type": "execute_result",
          "data": {
            "text/plain": [
              "<catboost.core.CatBoostClassifier at 0x7f5ccceaad10>"
            ]
          },
          "metadata": {
            "tags": []
          },
          "execution_count": 118
        }
      ]
    },
    {
      "cell_type": "markdown",
      "metadata": {
        "id": "fDRuoF1D7nQ2"
      },
      "source": [
        "### XGBoost"
      ]
    },
    {
      "cell_type": "code",
      "metadata": {
        "id": "H329wJ9RksMH"
      },
      "source": [
        "def objective(trial):\n",
        "    data = get_input(\"train.csv\")\n",
        "    data.drop(columns='id', inplace=True)\n",
        "    mapper = {'Class_1': 0, 'Class_2': 1, 'Class_3': 2, 'Class_4': 3}\n",
        "    data['target'] = data['target'].map(mapper)\n",
        "    target = data['target']\n",
        "    data = data.drop(columns=['target'])\n",
        "\n",
        "    train_x, valid_x, train_y, valid_y = train_test_split(data, target, test_size=0.35)\n",
        "    dtrain = xgb.Dataset(train_x, label=train_y)\n",
        "    dvalid = xgb.Dataset(valid_x, label=valid_y)\n",
        "\n",
        "    param = {\n",
        "        'objective': 'multi:softprob',\n",
        "        'eval_metric': 'mlogloss',\n",
        "        \"verbosity\": -1,\n",
        "        'num_class': 4,\n",
        "        'max_depth': trial.suggest_int('max_depth', 3,7),\n",
        "        'learning_rate': trial.suggest_uniform('learning_rate', 0, 0.13 ),\n",
        "    }\n",
        "\n",
        "    # Add a callback for pruning.\n",
        "    pruning_callback = optuna.integration.XGBoostPruningCallback(trial, \"multi_logloss\")\n",
        "    gbm = lgb.train(\n",
        "        param, dtrain, valid_sets=[dvalid], verbose_eval=False, callbacks=[pruning_callback]\n",
        "    )\n",
        "\n",
        "    preds = gbm.predict(valid_x)\n",
        "    log_loss = sklearn.metrics.log_loss(valid_y, preds)\n",
        "    return log_loss"
      ],
      "execution_count": null,
      "outputs": []
    },
    {
      "cell_type": "code",
      "metadata": {
        "id": "Jkr-3rYElBz2"
      },
      "source": [
        "study = optuna.create_study(\n",
        "        pruner=optuna.pruners.MedianPruner(n_warmup_steps=20), direction=\"minimize\"\n",
        "    )\n",
        "study.optimize(objective, n_trials=200)\n",
        "\n",
        "print(\"Best trial:\")\n",
        "trial = study.best_trial\n",
        "\n",
        "print(\"  Params: \")\n",
        "for key, value in trial.params.items():\n",
        "  print(\"    {}: {}\".format(key, value))"
      ],
      "execution_count": null,
      "outputs": []
    },
    {
      "cell_type": "code",
      "metadata": {
        "id": "ZPOTQJOpSaCp"
      },
      "source": [
        "dtrain = xgb.DMatrix(\n",
        "    data=data, label=target\n",
        ")\n",
        "\n",
        "xgb_params = {\n",
        "    \"booster\": \"gbtree\",\n",
        "    \"eta\": \"0.1\",\n",
        "    \"max_depth\": 3,\n",
        "    \"random_seed\": 42,\n",
        "    'objective': 'multi:softprob',\n",
        "    'eval_metric': 'mlogloss',\n",
        "    'random_state': 13,\n",
        "    'learning_rate': 0.08356451010151393, \n",
        "    'gamma': 0.02911685058980812, \n",
        "    'max_depth': 3, \n",
        "    'min_child_weight': 10.748514454096288, \n",
        "    'max_delta_step': 2.4474818433727927, \n",
        "    'subsample': 0.6445037550866027, \n",
        "    'colsample_bytree': 0.07634753656242108, \n",
        "    'lambda': 13.663280761461781, \n",
        "    'alpha': 21.521205761694137, \n",
        "    'max_leaves': 48,\n",
        "    'num_class': 4,\n",
        "    'tree_method': 'gpu_hist',\n",
        "}\n",
        "\n",
        "cv_result_xgb = xgb.cv(\n",
        "    params=xgb_params,\n",
        "    dtrain=dtrain,\n",
        "    num_boost_round=2000,\n",
        "    #categorical_feature=categorical_feature_names,\n",
        "    early_stopping_rounds=100,\n",
        "    verbose_eval=10,\n",
        "    stratified=True,\n",
        "    seed=42,\n",
        "    metrics=\"mlogloss\",\n",
        "    shuffle=True,\n",
        "    nfold=5,\n",
        "    #maximaze=True\n",
        ")"
      ],
      "execution_count": null,
      "outputs": []
    },
    {
      "cell_type": "code",
      "metadata": {
        "colab": {
          "base_uri": "https://localhost:8080/"
        },
        "id": "ZWQku7R7Zwhq",
        "outputId": "f40dffd3-7ca1-43f9-af52-ace8fc2c5e31"
      },
      "source": [
        "cv_result_xgb.shape[0]"
      ],
      "execution_count": null,
      "outputs": [
        {
          "output_type": "execute_result",
          "data": {
            "text/plain": [
              "1838"
            ]
          },
          "metadata": {
            "tags": []
          },
          "execution_count": 43
        }
      ]
    },
    {
      "cell_type": "code",
      "metadata": {
        "id": "O2Dk99mRHrus",
        "outputId": "7cc21732-78fd-416f-ba85-d03cffe4e791",
        "colab": {
          "base_uri": "https://localhost:8080/"
        }
      },
      "source": [
        "import lightgbm as lgb\n",
        "data = get_input(\"train.csv\")\n",
        "test = get_input(\"test.csv\")\n",
        "\n",
        "data.drop(columns='id', inplace=True)\n",
        "mapper = {'Class_1': 0, 'Class_2': 1, 'Class_3': 2, 'Class_4': 3}\n",
        "data['target'] = data['target'].map(mapper)\n",
        "\n",
        "target = data['target']\n",
        "data = data.drop(columns=['target'])"
      ],
      "execution_count": 9,
      "outputs": [
        {
          "output_type": "stream",
          "text": [
            "train.csv: shape = 100000 rows, 52 cols\n",
            "test.csv: shape = 50000 rows, 51 cols\n"
          ],
          "name": "stdout"
        }
      ]
    },
    {
      "cell_type": "code",
      "metadata": {
        "id": "fv9UP9KQWWCY"
      },
      "source": [
        "xgb_params = {\n",
        "    \"booster\": \"gbtree\",\n",
        "    #\"eta\": 0.1,\n",
        "    \"random_seed\": 42,\n",
        "    'objective': 'multi:softprob',\n",
        "    'eval_metric': 'mlogloss',\n",
        "    'random_state': 13,\n",
        "    'learning_rate': 0.08, \n",
        "    'gamma': 0.02911685058980812, \n",
        "    'max_depth': 3,\n",
        "    'min_child_weight': 10.748514454096288, \n",
        "    'max_delta_step': 2.4474818433727927,\n",
        "    'subsample': 0.6445037550866027,\n",
        "    'colsample_bytree': 0.07,\n",
        "    #'colsample_bylevel': 0.7,\n",
        "    #'colsample_bynode': 0.7,\n",
        "    'reg_lambda': 1, \n",
        "    'reg_alpha': 5, \n",
        "    'num_class': 4,\n",
        "    'n_estimators': 710,  # надо потюнить\n",
        "    'tree_method': 'gpu_hist',\n",
        "} # 1.09042\n",
        "\n",
        "xgb_params = {\n",
        "    \"booster\": \"gbtree\",\n",
        "    #\"eta\": 0.1,\n",
        "    \"random_seed\": 42,\n",
        "    'objective': 'multi:softprob',\n",
        "    'eval_metric': 'mlogloss',\n",
        "    'random_state': 13,\n",
        "    'learning_rate': 0.08, \n",
        "    'gamma': 0.02911685058980812, \n",
        "    'max_depth': 3,\n",
        "    'min_child_weight': 10.748514454096288, \n",
        "    'max_delta_step': 2.4474818433727927,\n",
        "    'subsample': 0.6445037550866027,\n",
        "    'colsample_bytree': 0.07,\n",
        "    #'colsample_bylevel': 0.7,\n",
        "    #'colsample_bynode': 0.7,\n",
        "    'reg_lambda': 1, \n",
        "    'reg_alpha': 5, \n",
        "    'num_class': 4,\n",
        "    'n_estimators': 850,  # надо потюнить\n",
        "    'tree_method': 'gpu_hist',\n",
        "}"
      ],
      "execution_count": 10,
      "outputs": []
    },
    {
      "cell_type": "code",
      "metadata": {
        "colab": {
          "base_uri": "https://localhost:8080/"
        },
        "id": "6ahMyfmGsKvT",
        "outputId": "9e6a58cf-4f38-4636-9df6-0025f5dece30"
      },
      "source": [
        "cv = StratifiedKFold(n_splits=15, random_state=435, shuffle=True)\n",
        "\n",
        "xgb_estimators, xgb_encoders, xgb_oof = xgboost_cv_fit(\n",
        "    xgb_params, data, target, cv, #categorical=categorical_feature_names\n",
        ")"
      ],
      "execution_count": 11,
      "outputs": [
        {
          "output_type": "stream",
          "text": [
            "Sun May 30 13:18:10 2021, Cross-Validation, 100000 rows, 50 cols\n",
            "Fold 1, Valid score = 1.09484\n",
            "Fold 2, Valid score = 1.08842\n",
            "Fold 3, Valid score = 1.08464\n",
            "Fold 4, Valid score = 1.09311\n",
            "Fold 5, Valid score = 1.0897\n",
            "Fold 6, Valid score = 1.09275\n",
            "Fold 7, Valid score = 1.09376\n",
            "Fold 8, Valid score = 1.08843\n",
            "Fold 9, Valid score = 1.08901\n",
            "Fold 10, Valid score = 1.09406\n",
            "Fold 11, Valid score = 1.0894\n",
            "Fold 12, Valid score = 1.09054\n",
            "Fold 13, Valid score = 1.09157\n",
            "Fold 14, Valid score = 1.08504\n",
            "Fold 15, Valid score = 1.08761\n"
          ],
          "name": "stdout"
        }
      ]
    },
    {
      "cell_type": "code",
      "metadata": {
        "colab": {
          "base_uri": "https://localhost:8080/"
        },
        "id": "qcggf2lLtf18",
        "outputId": "bb213305-d2d4-4c5d-8d91-3bc6a8a03be9"
      },
      "source": [
        "print(f\"Out of fold log loss {metrics.log_loss(target, xgb_oof)}\")"
      ],
      "execution_count": 12,
      "outputs": [
        {
          "output_type": "stream",
          "text": [
            "Out of fold log loss 1.0901912643016558\n"
          ],
          "name": "stdout"
        }
      ]
    },
    {
      "cell_type": "code",
      "metadata": {
        "colab": {
          "base_uri": "https://localhost:8080/"
        },
        "id": "jgZ8wobWkrm0",
        "outputId": "8d2c7818-b179-4773-a084-4c742a6ad7ad"
      },
      "source": [
        "xgb_estimators[0]"
      ],
      "execution_count": null,
      "outputs": [
        {
          "output_type": "execute_result",
          "data": {
            "text/plain": [
              "XGBClassifier(alpha=21.521205761694137, colsample_bytree=0.07634753656242108,\n",
              "              eta=0.1, eval_metric='mlogloss', gamma=0.02911685058980812,\n",
              "              lambda=13.663280761461781, learning_rate=0.08356451010151393,\n",
              "              max_delta_step=2.4474818433727927, max_leaves=48,\n",
              "              min_child_weight=10.748514454096288, n_estimators=700,\n",
              "              num_class=4, objective='multi:softprob', random_seed=42,\n",
              "              random_state=13, subsample=0.6445037550866027,\n",
              "              tree_method='gpu_hist')"
            ]
          },
          "metadata": {
            "tags": []
          },
          "execution_count": 217
        }
      ]
    },
    {
      "cell_type": "markdown",
      "metadata": {
        "id": "yCukgvkpjsdG"
      },
      "source": [
        "Проверим как работает усреднение"
      ]
    },
    {
      "cell_type": "code",
      "metadata": {
        "id": "E1F8yTL2jwlW",
        "outputId": "21ff8749-b9f5-4c0a-fd77-ca138a6a1bd9",
        "colab": {
          "base_uri": "https://localhost:8080/"
        }
      },
      "source": [
        "result_lgb_xgb_cb = np.dstack((lgb_oof, cb_oof, xgb_oof))\n",
        "result_lgb_xgb_cb_mean = np.mean(result_lgb_xgb_cb, axis=2)\n",
        "print(f\"Out of fold log loss {metrics.log_loss(target, result_lgb_xgb_cb_mean)}\")"
      ],
      "execution_count": 38,
      "outputs": [
        {
          "output_type": "stream",
          "text": [
            "Out of fold log loss 1.0898707403357817\n"
          ],
          "name": "stdout"
        }
      ]
    },
    {
      "cell_type": "markdown",
      "metadata": {
        "id": "m5h_Y1FXpK_g"
      },
      "source": [
        "### Модель второго уровня - логистическая регрессия"
      ]
    },
    {
      "cell_type": "code",
      "metadata": {
        "id": "YMbaLiL2lDKs"
      },
      "source": [
        "result_lgbm_df = pd.DataFrame(lgb_oof)\n",
        "result_xgb_df = pd.DataFrame(xgb_oof)\n",
        "result_cb_df = pd.DataFrame(cb_oof)\n",
        "result_lgbm_df.rename(columns={0:'lgb_class_1',\t1:'lgb_class_2',\t2:'lgb_class_3',\t3:'lgb_class_4'}, inplace=True)\n",
        "result_xgb_df.rename(columns={0:'xgb_class_1',\t1:'xgb_class_2',\t2:'xgb_class_3',\t3:'xgb_class_4'}, inplace=True)\n",
        "result_cb_df.rename(columns={0:'cb_class_1',\t1:'cb_class_2',\t2:'cb_class_3',\t3:'cb_class_4'}, inplace=True)\n",
        "result_valid = pd.concat([result_lgbm_df, result_xgb_df, result_cb_df], axis=1) "
      ],
      "execution_count": 19,
      "outputs": []
    },
    {
      "cell_type": "code",
      "metadata": {
        "colab": {
          "base_uri": "https://localhost:8080/"
        },
        "id": "wHzAgWUylNVG",
        "outputId": "476491b4-7f10-46c7-a021-3c03b0e0954b"
      },
      "source": [
        "x_train_logreg, x_valid_logreg, y_train_logreg, y_valid_logreg = train_test_split(\n",
        "    result_valid, target, train_size=0.7, shuffle=True, random_state=30,\n",
        ")\n",
        "\n",
        "params = {'random_state': 0, \n",
        "          'max_iter': 300, \n",
        "          'multi_class': 'multinomial', \n",
        "          'solver': 'lbfgs'}\n",
        "\n",
        "logreg = LogisticRegression(**params)\n",
        "logreg.fit(x_train_logreg, y_train_logreg)\n",
        "\n",
        "# 1.08521\n",
        "y_pred_logreg = logreg.predict_proba(x_valid_logreg)\n",
        "metrics.log_loss(y_valid_logreg, y_pred_logreg)"
      ],
      "execution_count": 20,
      "outputs": [
        {
          "output_type": "execute_result",
          "data": {
            "text/plain": [
              "1.0847737572719598"
            ]
          },
          "metadata": {
            "tags": []
          },
          "execution_count": 20
        }
      ]
    },
    {
      "cell_type": "code",
      "metadata": {
        "colab": {
          "base_uri": "https://localhost:8080/"
        },
        "id": "mjJ49mhs1C4i",
        "outputId": "bc7fad3d-1836-45cc-bac1-2a28e36bc6bb"
      },
      "source": [
        "# Обучаем на всем наборе 1.08522\n",
        "logreg = LogisticRegression(**params)\n",
        "logreg.fit(result_valid, target)"
      ],
      "execution_count": 21,
      "outputs": [
        {
          "output_type": "execute_result",
          "data": {
            "text/plain": [
              "LogisticRegression(max_iter=300, multi_class='multinomial', random_state=0)"
            ]
          },
          "metadata": {
            "tags": []
          },
          "execution_count": 21
        }
      ]
    },
    {
      "cell_type": "markdown",
      "metadata": {
        "id": "ZcIUEvGv0W5U"
      },
      "source": [
        "### Модель второго уровня - ансамбль логистических регрессий"
      ]
    },
    {
      "cell_type": "code",
      "metadata": {
        "colab": {
          "base_uri": "https://localhost:8080/"
        },
        "id": "ESagOJx9yF8x",
        "outputId": "d97ffd83-f56e-4d35-ccdc-0efb28cadc22"
      },
      "source": [
        "logreg_params = {'random_state': 0, \n",
        "          'max_iter': 500, \n",
        "          'multi_class': 'multinomial', \n",
        "          'solver': 'lbfgs',\n",
        "          'C':5\n",
        "          }\n",
        "\n",
        "cv = StratifiedKFold(n_splits=10, random_state=435, shuffle=True)\n",
        "estimators_log_reg, oof_log_reg, scalers = logistic_cv_fit(logreg_params, result_valid, target, cv)"
      ],
      "execution_count": 48,
      "outputs": [
        {
          "output_type": "stream",
          "text": [
            "Sun May 30 14:24:26 2021, Cross-Validation, 100000 rows, 12 cols\n",
            "Fold 1, Valid score = 1.09193\n",
            "Fold 2, Valid score = 1.0852\n",
            "Fold 3, Valid score = 1.08927\n",
            "Fold 4, Valid score = 1.09131\n",
            "Fold 5, Valid score = 1.08915\n",
            "Fold 6, Valid score = 1.08704\n",
            "Fold 7, Valid score = 1.088\n",
            "Fold 8, Valid score = 1.09155\n",
            "Fold 9, Valid score = 1.08871\n",
            "Fold 10, Valid score = 1.08573\n",
            "Score by each fold: [1.09193, 1.0852, 1.08927, 1.09131, 1.08915, 1.08704, 1.088, 1.09155, 1.08871, 1.08573]\n",
            "=================================================================\n"
          ],
          "name": "stdout"
        }
      ]
    },
    {
      "cell_type": "code",
      "metadata": {
        "colab": {
          "base_uri": "https://localhost:8080/"
        },
        "id": "c_0NXIO_zPhV",
        "outputId": "64a28943-8d5f-4d97-9014-6c920dc82fe9"
      },
      "source": [
        "# 1.08522\n",
        "print(f\"Out of fold log loss {metrics.log_loss(target, oof_log_reg)}\")"
      ],
      "execution_count": 49,
      "outputs": [
        {
          "output_type": "stream",
          "text": [
            "Out of fold log loss 1.0887875510703202\n"
          ],
          "name": "stdout"
        }
      ]
    },
    {
      "cell_type": "markdown",
      "metadata": {
        "id": "qb2pKzryqkvE"
      },
      "source": [
        "## Получение результата (одна модель логистической регрессии)"
      ]
    },
    {
      "cell_type": "code",
      "metadata": {
        "id": "OmZdaHjN5vov"
      },
      "source": [
        "result_xgb_test = multi_estimators_predict(xgb_estimators, test.drop(columns='id'))\n",
        "result_lgb_test = multi_estimators_predict(lgb_estimators, test.drop(columns='id'))\n",
        "result_cb_test = multi_estimators_predict(cb_estimators, test.drop(columns='id'))\n",
        "\n",
        "result_lgb_test_df = pd.DataFrame(result_lgb_test)\n",
        "result_xgb_test_df = pd.DataFrame(result_xgb_test)\n",
        "result_cb_test_df = pd.DataFrame(result_cb_test)\n",
        "result_lgb_test_df.rename(columns={0:'lgb_class_1',\t1:'lgb_class_2',\t2:'lgb_class_3',\t3:'lgb_class_4'}, inplace=True)\n",
        "result_xgb_test_df.rename(columns={0:'xgb_class_1',\t1:'xgb_class_2',\t2:'xgb_class_3',\t3:'xgb_class_4'}, inplace=True)\n",
        "result_cb_test_df.rename(columns={0:'cb_class_1',\t1:'cb_class_2',\t2:'cb_class_3',\t3:'cb_class_4'}, inplace=True)\n",
        "result_for_logreg = pd.concat([result_lgb_test_df, result_xgb_test_df, result_cb_test_df], axis=1) \n",
        "\n",
        "y_pred_logreg = logreg.predict_proba(result_for_logreg)\n",
        "test_pred_df = pd.DataFrame(y_pred_logreg)\n",
        "test_pred_df.rename(columns={0:'class_1',\t1:'class_2',\t2:'class_3',\t3:'class_4'}, inplace=True)\n",
        "result = test.drop(columns = test.columns.to_list()[1:])\n",
        "result = pd.concat([result, test_pred_df], axis=1)\n",
        "result.to_csv('result.csv', index=False)"
      ],
      "execution_count": 24,
      "outputs": []
    },
    {
      "cell_type": "markdown",
      "metadata": {
        "id": "15W_Ub4XyxXk"
      },
      "source": [
        "## Получение результата (одна модель логистической регрессии) без усреднения бустинговых моделей"
      ]
    },
    {
      "cell_type": "code",
      "metadata": {
        "id": "_fiZwAB1zno1"
      },
      "source": [
        "def multi_estimators_predict_1(estimators: List,\n",
        "                             X: pd.DataFrame):\n",
        "  \n",
        "  cv = KFold(n_splits=len(estimators), random_state=435, shuffle=True)\n",
        "  preds = np.zeros((X.shape[0], 4))\n",
        "\n",
        "  for fold, (valid_idx, g) in enumerate(cv.split(X, X['feature_0'])):\n",
        "    preds[valid_idx] = estimators[fold].predict_proba(X.loc[valid_idx])\n",
        "\n",
        "  return preds"
      ],
      "execution_count": 109,
      "outputs": []
    },
    {
      "cell_type": "code",
      "metadata": {
        "id": "7BOxsnFb8IYM"
      },
      "source": [
        "test.reset_index(inplace=True, drop=True)"
      ],
      "execution_count": 90,
      "outputs": []
    },
    {
      "cell_type": "code",
      "metadata": {
        "id": "sILtz_GO5Zo9"
      },
      "source": [
        "result_xgb_test = multi_estimators_predict_1(xgb_estimators, test.drop(columns='id'))\n",
        "result_lgb_test = multi_estimators_predict_1(lgb_estimators, test.drop(columns='id'))\n",
        "result_cb_test = multi_estimators_predict_1(cb_estimators, test.drop(columns='id'))\n",
        "\n",
        "result_lgb_test_df = pd.DataFrame(result_lgb_test)\n",
        "result_xgb_test_df = pd.DataFrame(result_xgb_test)\n",
        "result_cb_test_df = pd.DataFrame(result_cb_test)\n",
        "result_lgb_test_df.rename(columns={0:'lgb_class_1',\t1:'lgb_class_2',\t2:'lgb_class_3',\t3:'lgb_class_4'}, inplace=True)\n",
        "result_xgb_test_df.rename(columns={0:'xgb_class_1',\t1:'xgb_class_2',\t2:'xgb_class_3',\t3:'xgb_class_4'}, inplace=True)\n",
        "result_cb_test_df.rename(columns={0:'cb_class_1',\t1:'cb_class_2',\t2:'cb_class_3',\t3:'cb_class_4'}, inplace=True)\n",
        "result_for_logreg = pd.concat([result_lgb_test_df, result_xgb_test_df, result_cb_test_df], axis=1) \n",
        "\n",
        "y_pred_logreg = logreg.predict_proba(result_for_logreg)\n",
        "test_pred_df = pd.DataFrame(y_pred_logreg)\n",
        "test_pred_df.rename(columns={0:'class_1',\t1:'class_2',\t2:'class_3',\t3:'class_4'}, inplace=True)\n",
        "result = test.drop(columns = test.columns.to_list()[1:])\n",
        "result = pd.concat([result, test_pred_df], axis=1)\n",
        "result.to_csv('result.csv', index=False)"
      ],
      "execution_count": 110,
      "outputs": []
    },
    {
      "cell_type": "markdown",
      "metadata": {
        "id": "-rX24rkn_fvU"
      },
      "source": [
        "Сработало плохо"
      ]
    },
    {
      "cell_type": "markdown",
      "metadata": {
        "id": "-Qfyrb2D0t00"
      },
      "source": [
        "## Получение результата (ансамбль логистических регрессий)"
      ]
    },
    {
      "cell_type": "code",
      "metadata": {
        "id": "lhxyJg670yn6"
      },
      "source": [
        "result_xgb_test = multi_estimators_predict(xgb_estimators, test.drop(columns='id'))\n",
        "result_lgb_test = multi_estimators_predict(lgb_estimators, test.drop(columns='id'))\n",
        "result_cb_test = multi_estimators_predict(cb_estimators, test.drop(columns='id'))\n",
        "\n",
        "result_lgb_test_df = pd.DataFrame(result_lgb_test)\n",
        "result_xgb_test_df = pd.DataFrame(result_xgb_test)\n",
        "result_cb_test_df = pd.DataFrame(result_cb_test)\n",
        "result_lgb_test_df.rename(columns={0:'lgb_class_1',\t1:'lgb_class_2',\t2:'lgb_class_3',\t3:'lgb_class_4'}, inplace=True)\n",
        "result_xgb_test_df.rename(columns={0:'xgb_class_1',\t1:'xgb_class_2',\t2:'xgb_class_3',\t3:'xgb_class_4'}, inplace=True)\n",
        "result_cb_test_df.rename(columns={0:'cb_class_1',\t1:'cb_class_2',\t2:'cb_class_3',\t3:'cb_class_4'}, inplace=True)\n",
        "result_for_logreg = pd.concat([result_lgb_test_df, result_xgb_test_df, result_cb_test_df], axis=1) "
      ],
      "execution_count": 27,
      "outputs": []
    },
    {
      "cell_type": "code",
      "metadata": {
        "id": "v6nHDlYE2xZV"
      },
      "source": [
        "result = multi_estimators_predict(estimators_log_reg, result_for_logreg)"
      ],
      "execution_count": 28,
      "outputs": []
    },
    {
      "cell_type": "code",
      "metadata": {
        "id": "2yOX10AV3aDz"
      },
      "source": [
        "test_pred_df = pd.DataFrame(result)\n",
        "test_pred_df.rename(columns={0:'class_1',\t1:'class_2',\t2:'class_3',\t3:'class_4'}, inplace=True)\n",
        "result = test.drop(columns = test.columns.to_list()[1:])\n",
        "result = pd.concat([result, test_pred_df], axis=1)\n",
        "result.to_csv('result.csv', index=False)"
      ],
      "execution_count": 29,
      "outputs": []
    },
    {
      "cell_type": "markdown",
      "metadata": {
        "id": "7AS3qYRmxYEl"
      },
      "source": [
        "С предыдущим вариантом различий нет, так как линейные модели очень похожи друг на друга"
      ]
    },
    {
      "cell_type": "markdown",
      "metadata": {
        "id": "2r2bQSAtm9kH"
      },
      "source": [
        "## Получение результата (одна модель логистической регрессии) с предсказаниями лучших бустинговых моделей"
      ]
    },
    {
      "cell_type": "code",
      "metadata": {
        "id": "3coVTWhTkk0N"
      },
      "source": [
        "result_cb_test = cb_estimators[2].predict_proba(test.drop(columns='id'))\n",
        "result_lgb_test = lgb_estimators[2].predict_proba(test.drop(columns='id'))\n",
        "result_xgb_test = xgb_estimators[10].predict_proba(test.drop(columns='id'))\n",
        "\n",
        "result_lgb_test_df = pd.DataFrame(result_lgb_test)\n",
        "result_xgb_test_df = pd.DataFrame(result_xgb_test)\n",
        "result_cb_test_df = pd.DataFrame(result_cb_test)\n",
        "result_lgb_test_df.rename(columns={0:'lgb_class_1',\t1:'lgb_class_2',\t2:'lgb_class_3',\t3:'lgb_class_4'}, inplace=True)\n",
        "result_xgb_test_df.rename(columns={0:'xgb_class_1',\t1:'xgb_class_2',\t2:'xgb_class_3',\t3:'xgb_class_4'}, inplace=True)\n",
        "result_cb_test_df.rename(columns={0:'cb_class_1',\t1:'cb_class_2',\t2:'cb_class_3',\t3:'cb_class_4'}, inplace=True)\n",
        "result_for_logreg = pd.concat([result_lgb_test_df, result_xgb_test_df, result_cb_test_df], axis=1) "
      ],
      "execution_count": 43,
      "outputs": []
    },
    {
      "cell_type": "code",
      "metadata": {
        "id": "h_VbKBo9mrSH"
      },
      "source": [
        "y_pred_logreg = logreg.predict_proba(result_for_logreg)\n",
        "test_pred_df = pd.DataFrame(y_pred_logreg)\n",
        "test_pred_df.rename(columns={0:'class_1',\t1:'class_2',\t2:'class_3',\t3:'class_4'}, inplace=True)\n",
        "result = test.drop(columns = test.columns.to_list()[1:])\n",
        "result = pd.concat([result, test_pred_df], axis=1)\n",
        "result.to_csv('result.csv', index=False)"
      ],
      "execution_count": 44,
      "outputs": []
    },
    {
      "cell_type": "markdown",
      "metadata": {
        "id": "AJIbUFQNvtBg"
      },
      "source": [
        "## Получение результата (одна модель логистической регрессии) с предсказаниями бустинговых моделей, заново обученных на исходном датасете"
      ]
    },
    {
      "cell_type": "code",
      "metadata": {
        "id": "ExI1VKcDtuks"
      },
      "source": [
        "lgb_params = {\n",
        "    \"boosting_type \": \"gbdt\",\n",
        "    \"objective\": \"multiclass\",\n",
        "    \"metric\": \"multi_logloss\",\n",
        "    'n_estimators': 710,\n",
        "    'num_class': 4,\n",
        "    'lambda_l1': 0.02,\n",
        "    'lambda_l2': 150,\n",
        "    'num_leaves': 7,\n",
        "    'feature_fraction': 0.11,\n",
        "    'bagging_fraction': 0.9,\n",
        "    'bagging_freq': 4,\n",
        "    'min_child_samples': 80,\n",
        "    'max_depth': 5,\n",
        "    'learning_rate': 0.075,\n",
        "    'random_state': 42,\n",
        "    #'max_bin': 50,\n",
        "    #'device' : 'gpu'\n",
        "}\n",
        "\n",
        "cb_params = {\n",
        "    \"n_estimators\": 4000,\n",
        "    \"loss_function\": \"MultiClass\",\n",
        "    \"eval_metric\": \"MultiClass\",\n",
        "    \"task_type\": \"GPU\",\n",
        "    'min_data_in_leaf': 35,\n",
        "    'depth': 3,\n",
        "    'learning_rate': 0.06,\n",
        "    'random_strength' : 10,\n",
        "    \"l2_leaf_reg\": 300,                       \n",
        "    'grow_policy': \"SymmetricTree\",\n",
        "    \"random_seed\": 27,\n",
        "    \"classes_count\": 4,\n",
        "    'bootstrap_type':  'Bayesian',\n",
        "    #'bagging_temperature': 50, #for Bayesian bootstrap_type\n",
        "    #'subsample': 0.6 # for Poisson, Bernoulli, MVS bootstrap_type\n",
        "}\n",
        "\n",
        "xgb_params = {\n",
        "    \"booster\": \"gbtree\",\n",
        "    #\"eta\": 0.1,\n",
        "    \"random_seed\": 42,\n",
        "    'objective': 'multi:softprob',\n",
        "    'eval_metric': 'mlogloss',\n",
        "    'random_state': 13,\n",
        "    'learning_rate': 0.08, \n",
        "    'gamma': 0.02911685058980812, \n",
        "    'max_depth': 3,\n",
        "    'min_child_weight': 10.748514454096288, \n",
        "    'max_delta_step': 2.4474818433727927,\n",
        "    'subsample': 0.6445037550866027,\n",
        "    'colsample_bytree': 0.07,\n",
        "    #'colsample_bylevel': 0.7,\n",
        "    #'colsample_bynode': 0.7,\n",
        "    'reg_lambda': 1, \n",
        "    'reg_alpha': 5, \n",
        "    'num_class': 4,\n",
        "    'n_estimators': 850,  # надо потюнить\n",
        "    'tree_method': 'gpu_hist',\n",
        "}"
      ],
      "execution_count": 54,
      "outputs": []
    },
    {
      "cell_type": "code",
      "metadata": {
        "id": "OKfUc9wypg6Z"
      },
      "source": [
        "model_catb = cb.CatBoostClassifier(**cb_params)\n",
        "model_catb.fit(data, target, verbose=10)\n",
        "\n",
        "model_lgb = lgb.LGBMClassifier(**lgb_params)\n",
        "model_lgb.fit(data, target, verbose=10)\n",
        "\n",
        "model_xgb = xgb.XGBClassifier(**xgb_params)\n",
        "model_xgb.fit(data, target, verbose=10)\n",
        "\n",
        "result_cb_test_1 = model_catb.predict_proba(test.drop(columns='id'))\n",
        "result_lgb_test_1 = model_lgb.predict_proba(test.drop(columns='id'))\n",
        "result_xgb_test_1 = model_xgb.predict_proba(test.drop(columns='id'))"
      ],
      "execution_count": null,
      "outputs": []
    },
    {
      "cell_type": "code",
      "metadata": {
        "id": "I53WolK9sOws"
      },
      "source": [
        "result_lgb_test_df = pd.DataFrame(result_lgb_test_1)\n",
        "result_xgb_test_df = pd.DataFrame(result_xgb_test_1)\n",
        "result_cb_test_df = pd.DataFrame(result_cb_test_1)\n",
        "result_lgb_test_df.rename(columns={0:'lgb_class_1',\t1:'lgb_class_2',\t2:'lgb_class_3',\t3:'lgb_class_4'}, inplace=True)\n",
        "result_xgb_test_df.rename(columns={0:'xgb_class_1',\t1:'xgb_class_2',\t2:'xgb_class_3',\t3:'xgb_class_4'}, inplace=True)\n",
        "result_cb_test_df.rename(columns={0:'cb_class_1',\t1:'cb_class_2',\t2:'cb_class_3',\t3:'cb_class_4'}, inplace=True)\n",
        "result_for_logreg = pd.concat([result_lgb_test_df, result_xgb_test_df, result_cb_test_df], axis=1) "
      ],
      "execution_count": 58,
      "outputs": []
    },
    {
      "cell_type": "code",
      "metadata": {
        "id": "rgTMoX5jsSYp"
      },
      "source": [
        "y_pred_logreg = logreg.predict_proba(result_for_logreg)\n",
        "test_pred_df = pd.DataFrame(y_pred_logreg)\n",
        "test_pred_df.rename(columns={0:'class_1',\t1:'class_2',\t2:'class_3',\t3:'class_4'}, inplace=True)\n",
        "result = test.drop(columns = test.columns.to_list()[1:])\n",
        "result = pd.concat([result, test_pred_df], axis=1)\n",
        "result.to_csv('result.csv', index=False)"
      ],
      "execution_count": 59,
      "outputs": []
    },
    {
      "cell_type": "markdown",
      "metadata": {
        "id": "BisFZ_f9v-iy"
      },
      "source": [
        "1.08558 видимо переобучать заново бустинговые алгоритмы - не лучший выбор"
      ]
    },
    {
      "cell_type": "code",
      "metadata": {
        "id": "V6FzqUgCvLa0"
      },
      "source": [
        ""
      ],
      "execution_count": null,
      "outputs": []
    }
  ]
}