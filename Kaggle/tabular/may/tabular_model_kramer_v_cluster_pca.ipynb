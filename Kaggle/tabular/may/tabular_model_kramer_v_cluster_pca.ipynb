{
  "nbformat": 4,
  "nbformat_minor": 0,
  "metadata": {
    "colab": {
      "name": "tabular_model_kramer_v_cluster_pca.ipynb",
      "provenance": [],
      "collapsed_sections": [
        "-wk-iCaw8v-J"
      ],
      "toc_visible": true
    },
    "kernelspec": {
      "name": "python3",
      "display_name": "Python 3"
    },
    "language_info": {
      "name": "python"
    }
  },
  "cells": [
    {
      "cell_type": "markdown",
      "metadata": {
        "id": "Kij7KcqCcZGa"
      },
      "source": [
        "MCA https://github.com/MaxHalford/Prince#multiple-correspondence-analysis-mca\n",
        "Kramers V https://towardsdatascience.com/the-search-for-categorical-correlation-a1cf7f1888c9\n",
        "KMedoids https://scikit-learn-extra.readthedocs.io/en/latest/generated/sklearn_extra.cluster.KMedoids.html"
      ]
    },
    {
      "cell_type": "code",
      "metadata": {
        "colab": {
          "base_uri": "https://localhost:8080/"
        },
        "id": "Oqqi-NoQYbsZ",
        "outputId": "d6a6fd15-aa2f-45cd-d0b1-0fda5bb4f70f"
      },
      "source": [
        "!pip install -q kaggle\n",
        "!mkdir -p ~/.kaggle\n",
        "!cp kaggle.json ~/.kaggle/\n",
        "!ls ~/.kaggle\n",
        "!chmod 600 /root/.kaggle/kaggle.json\n",
        "!kaggle competitions download -c tabular-playground-series-may-2021"
      ],
      "execution_count": null,
      "outputs": [
        {
          "output_type": "stream",
          "text": [
            "kaggle.json\n",
            "Warning: Looks like you're using an outdated API Version, please consider updating (server 1.5.12 / client 1.5.4)\n",
            "test.csv.zip: Skipping, found more recently modified local copy (use --force to force download)\n",
            "sample_submission.csv.zip: Skipping, found more recently modified local copy (use --force to force download)\n",
            "train.csv.zip: Skipping, found more recently modified local copy (use --force to force download)\n"
          ],
          "name": "stdout"
        }
      ]
    },
    {
      "cell_type": "code",
      "metadata": {
        "colab": {
          "base_uri": "https://localhost:8080/"
        },
        "id": "E3ZKSRnmYhPW",
        "outputId": "66b4ae2c-b889-4285-9095-9c5f20419505"
      },
      "source": [
        "!pip install catboost\n",
        "!pip install eli5\n",
        "!pip install shap\n",
        "!pip install scikit-learn-extra\n",
        "!unzip /content/test.csv.zip\n",
        "!unzip /content/train.csv.zip\n",
        "!unzip /content/sample_submission.csv.zip"
      ],
      "execution_count": null,
      "outputs": [
        {
          "output_type": "stream",
          "text": [
            "Requirement already satisfied: catboost in /usr/local/lib/python3.7/dist-packages (0.25.1)\n",
            "Requirement already satisfied: plotly in /usr/local/lib/python3.7/dist-packages (from catboost) (4.4.1)\n",
            "Requirement already satisfied: matplotlib in /usr/local/lib/python3.7/dist-packages (from catboost) (3.2.2)\n",
            "Requirement already satisfied: numpy>=1.16.0 in /usr/local/lib/python3.7/dist-packages (from catboost) (1.19.5)\n",
            "Requirement already satisfied: scipy in /usr/local/lib/python3.7/dist-packages (from catboost) (1.4.1)\n",
            "Requirement already satisfied: six in /usr/local/lib/python3.7/dist-packages (from catboost) (1.15.0)\n",
            "Requirement already satisfied: graphviz in /usr/local/lib/python3.7/dist-packages (from catboost) (0.10.1)\n",
            "Requirement already satisfied: pandas>=0.24.0 in /usr/local/lib/python3.7/dist-packages (from catboost) (1.1.5)\n",
            "Requirement already satisfied: retrying>=1.3.3 in /usr/local/lib/python3.7/dist-packages (from plotly->catboost) (1.3.3)\n",
            "Requirement already satisfied: python-dateutil>=2.1 in /usr/local/lib/python3.7/dist-packages (from matplotlib->catboost) (2.8.1)\n",
            "Requirement already satisfied: pyparsing!=2.0.4,!=2.1.2,!=2.1.6,>=2.0.1 in /usr/local/lib/python3.7/dist-packages (from matplotlib->catboost) (2.4.7)\n",
            "Requirement already satisfied: kiwisolver>=1.0.1 in /usr/local/lib/python3.7/dist-packages (from matplotlib->catboost) (1.3.1)\n",
            "Requirement already satisfied: cycler>=0.10 in /usr/local/lib/python3.7/dist-packages (from matplotlib->catboost) (0.10.0)\n",
            "Requirement already satisfied: pytz>=2017.2 in /usr/local/lib/python3.7/dist-packages (from pandas>=0.24.0->catboost) (2018.9)\n",
            "Requirement already satisfied: eli5 in /usr/local/lib/python3.7/dist-packages (0.11.0)\n",
            "Requirement already satisfied: scipy in /usr/local/lib/python3.7/dist-packages (from eli5) (1.4.1)\n",
            "Requirement already satisfied: attrs>16.0.0 in /usr/local/lib/python3.7/dist-packages (from eli5) (21.2.0)\n",
            "Requirement already satisfied: graphviz in /usr/local/lib/python3.7/dist-packages (from eli5) (0.10.1)\n",
            "Requirement already satisfied: tabulate>=0.7.7 in /usr/local/lib/python3.7/dist-packages (from eli5) (0.8.9)\n",
            "Requirement already satisfied: numpy>=1.9.0 in /usr/local/lib/python3.7/dist-packages (from eli5) (1.19.5)\n",
            "Requirement already satisfied: scikit-learn>=0.20 in /usr/local/lib/python3.7/dist-packages (from eli5) (0.24.2)\n",
            "Requirement already satisfied: jinja2 in /usr/local/lib/python3.7/dist-packages (from eli5) (2.11.3)\n",
            "Requirement already satisfied: six in /usr/local/lib/python3.7/dist-packages (from eli5) (1.15.0)\n",
            "Requirement already satisfied: threadpoolctl>=2.0.0 in /usr/local/lib/python3.7/dist-packages (from scikit-learn>=0.20->eli5) (2.1.0)\n",
            "Requirement already satisfied: joblib>=0.11 in /usr/local/lib/python3.7/dist-packages (from scikit-learn>=0.20->eli5) (1.0.1)\n",
            "Requirement already satisfied: MarkupSafe>=0.23 in /usr/local/lib/python3.7/dist-packages (from jinja2->eli5) (1.1.1)\n",
            "Requirement already satisfied: shap in /usr/local/lib/python3.7/dist-packages (0.39.0)\n",
            "Requirement already satisfied: slicer==0.0.7 in /usr/local/lib/python3.7/dist-packages (from shap) (0.0.7)\n",
            "Requirement already satisfied: scikit-learn in /usr/local/lib/python3.7/dist-packages (from shap) (0.24.2)\n",
            "Requirement already satisfied: numpy in /usr/local/lib/python3.7/dist-packages (from shap) (1.19.5)\n",
            "Requirement already satisfied: tqdm>4.25.0 in /usr/local/lib/python3.7/dist-packages (from shap) (4.41.1)\n",
            "Requirement already satisfied: scipy in /usr/local/lib/python3.7/dist-packages (from shap) (1.4.1)\n",
            "Requirement already satisfied: numba in /usr/local/lib/python3.7/dist-packages (from shap) (0.51.2)\n",
            "Requirement already satisfied: cloudpickle in /usr/local/lib/python3.7/dist-packages (from shap) (1.3.0)\n",
            "Requirement already satisfied: pandas in /usr/local/lib/python3.7/dist-packages (from shap) (1.1.5)\n",
            "Requirement already satisfied: joblib>=0.11 in /usr/local/lib/python3.7/dist-packages (from scikit-learn->shap) (1.0.1)\n",
            "Requirement already satisfied: threadpoolctl>=2.0.0 in /usr/local/lib/python3.7/dist-packages (from scikit-learn->shap) (2.1.0)\n",
            "Requirement already satisfied: llvmlite<0.35,>=0.34.0.dev0 in /usr/local/lib/python3.7/dist-packages (from numba->shap) (0.34.0)\n",
            "Requirement already satisfied: setuptools in /usr/local/lib/python3.7/dist-packages (from numba->shap) (56.1.0)\n",
            "Requirement already satisfied: pytz>=2017.2 in /usr/local/lib/python3.7/dist-packages (from pandas->shap) (2018.9)\n",
            "Requirement already satisfied: python-dateutil>=2.7.3 in /usr/local/lib/python3.7/dist-packages (from pandas->shap) (2.8.1)\n",
            "Requirement already satisfied: six>=1.5 in /usr/local/lib/python3.7/dist-packages (from python-dateutil>=2.7.3->pandas->shap) (1.15.0)\n",
            "Requirement already satisfied: scikit-learn-extra in /usr/local/lib/python3.7/dist-packages (0.2.0)\n",
            "Requirement already satisfied: numpy>=1.13.3 in /usr/local/lib/python3.7/dist-packages (from scikit-learn-extra) (1.19.5)\n",
            "Requirement already satisfied: scikit-learn>=0.23.0 in /usr/local/lib/python3.7/dist-packages (from scikit-learn-extra) (0.24.2)\n",
            "Requirement already satisfied: scipy>=0.19.1 in /usr/local/lib/python3.7/dist-packages (from scikit-learn-extra) (1.4.1)\n",
            "Requirement already satisfied: threadpoolctl>=2.0.0 in /usr/local/lib/python3.7/dist-packages (from scikit-learn>=0.23.0->scikit-learn-extra) (2.1.0)\n",
            "Requirement already satisfied: joblib>=0.11 in /usr/local/lib/python3.7/dist-packages (from scikit-learn>=0.23.0->scikit-learn-extra) (1.0.1)\n",
            "Archive:  /content/test.csv.zip\n",
            "replace test.csv? [y]es, [n]o, [A]ll, [N]one, [r]ename: A\n",
            "  inflating: test.csv                \n",
            "Archive:  /content/train.csv.zip\n",
            "replace train.csv? [y]es, [n]o, [A]ll, [N]one, [r]ename: A\n",
            "  inflating: train.csv               \n",
            "Archive:  /content/sample_submission.csv.zip\n",
            "replace sample_submission.csv? [y]es, [n]o, [A]ll, [N]one, [r]ename: A\n",
            "  inflating: sample_submission.csv   \n"
          ],
          "name": "stdout"
        }
      ]
    },
    {
      "cell_type": "code",
      "metadata": {
        "id": "oeG1Y648YjT0"
      },
      "source": [
        "import pandas as pd\n",
        "import seaborn as sns\n",
        "import numpy as np\n",
        "import catboost as cb\n",
        "from sklearn.model_selection import train_test_split\n",
        "from sklearn.metrics import roc_auc_score\n",
        "import matplotlib.pyplot as plt\n",
        "from sklearn import metrics\n",
        "from sklearn.decomposition import PCA, FactorAnalysis as FA\n",
        "from typing import List, Optional\n",
        "from sklearn.model_selection import KFold, cross_val_score, StratifiedKFold\n",
        "from typing import List, Tuple\n",
        "import scipy.stats as ss\n",
        "from sklearn_extra.cluster import KMedoids\n",
        "import matplotlib.pyplot as plt\n",
        "import seaborn as sns\n",
        "import math\n",
        "from sklearn.utils.validation import check_is_fitted\n",
        "import eli5\n",
        "from sklearn.base import BaseEstimator, TransformerMixin\n",
        "import time\n",
        "from sklearn.cluster import KMeans\n",
        "from sklearn.metrics import confusion_matrix\n",
        "from sklearn.inspection import permutation_importance\n",
        "from sklearn.linear_model import SGDClassifier\n",
        "from sklearn.preprocessing import StandardScaler\n",
        "from sklearn.linear_model import LogisticRegression\n",
        "import lightgbm as lgb\n",
        "import shap\n",
        "import missingno as msno\n",
        "from sklearn.inspection import permutation_importance\n",
        "from eli5.sklearn import PermutationImportance\n",
        "from sklearn.model_selection import train_test_split, KFold"
      ],
      "execution_count": null,
      "outputs": []
    },
    {
      "cell_type": "code",
      "metadata": {
        "id": "9u0sBD_nYmnJ"
      },
      "source": [
        "def get_input(data_path: str) -> pd.DataFrame:\n",
        "  \"\"\"\n",
        "  Считывание данных и вывод основной информации о наборе данных.\n",
        "\n",
        "  Parmeters\n",
        "  ---------\n",
        "  data_path: str - название файла\n",
        "\n",
        "  Returns\n",
        "  -------\n",
        "  data: pandas.core.frame.DataFrame - загруженный набор данных в pandas.Dataframe\n",
        "  \"\"\"\n",
        "  base_path = \"/content\"\n",
        "  data = pd.read_csv(f\"{base_path}/{data_path}\")\n",
        "  data.columns = [col.lower() for col in data.columns]\n",
        "  print(f\"{data_path}: shape = {data.shape[0]} rows, {data.shape[1]} cols\")\n",
        "  return data"
      ],
      "execution_count": null,
      "outputs": []
    },
    {
      "cell_type": "code",
      "metadata": {
        "id": "cREW1_6FYy1B"
      },
      "source": [
        "def plot_feature_importance(importance, names, model_type, figsize=(10,8)):\n",
        "\n",
        "  #Create arrays from feature importance and feature names\n",
        "  feature_importance = np.array(importance)\n",
        "  feature_names = np.array(names)\n",
        "\n",
        "  #Create a DataFrame using a Dictionary\n",
        "  data={'feature_names':feature_names,'feature_importance':feature_importance}\n",
        "  fi_df = pd.DataFrame(data)\n",
        "\n",
        "  #Sort the DataFrame in order decreasing feature importance\n",
        "  fi_df.sort_values(by=['feature_importance'], ascending=False,inplace=True)\n",
        "\n",
        "  #Define size of bar plot\n",
        "  plt.figure(figsize=figsize)\n",
        "  #Plot Searborn bar chart\n",
        "  sns.barplot(x=fi_df['feature_importance'], y=fi_df['feature_names'])\n",
        "  #Add chart labels\n",
        "  plt.title(model_type + ' FEATURE IMPORTANCE')\n",
        "  plt.xlabel('FEATURE IMPORTANCE')\n",
        "  plt.ylabel('FEATURE NAMES')\n",
        "  return list(fi_df['feature_names'].values)"
      ],
      "execution_count": null,
      "outputs": []
    },
    {
      "cell_type": "code",
      "metadata": {
        "colab": {
          "base_uri": "https://localhost:8080/"
        },
        "id": "fe1HBEk8ZTKD",
        "outputId": "791efdbc-7110-4883-a180-02878ff10023"
      },
      "source": [
        "data = get_input(\"train.csv\")\n",
        "test = get_input(\"test.csv\")\n",
        "sample_submission = get_input(\"sample_submission.csv\")"
      ],
      "execution_count": null,
      "outputs": [
        {
          "output_type": "stream",
          "text": [
            "train.csv: shape = 100000 rows, 52 cols\n",
            "test.csv: shape = 50000 rows, 51 cols\n",
            "sample_submission.csv: shape = 50000 rows, 5 cols\n"
          ],
          "name": "stdout"
        }
      ]
    },
    {
      "cell_type": "code",
      "metadata": {
        "colab": {
          "base_uri": "https://localhost:8080/"
        },
        "id": "XI2FZetbfKMj",
        "outputId": "84cd99ed-635c-45d8-c8f4-58e4b3ce0657"
      },
      "source": [
        "(data.loc[data.target == 'Class_2'][columns] != 0).sum(axis=1).mean()\n",
        "(data.loc[data.target == 'Class_3'][columns] != 0).sum(axis=1).mean()\n",
        "(data.loc[data.target == 'Class_4'][columns] != 0).sum(axis=1).mean()\n",
        "data.loc[data.target == 'Class_2'][columns].sum(axis=1).mean()\n",
        "data.loc[data.target == 'Class_3'][columns].sum(axis=1).mean()\n",
        "data.loc[data.target == 'Class_4'][columns].sum(axis=1).mean()\n",
        "data.loc[data.target == 'Class_1'][columns].sum(axis=1).var()"
      ],
      "execution_count": null,
      "outputs": [
        {
          "output_type": "execute_result",
          "data": {
            "text/plain": [
              "10.41127363166774"
            ]
          },
          "metadata": {
            "tags": []
          },
          "execution_count": 23
        }
      ]
    },
    {
      "cell_type": "markdown",
      "metadata": {
        "id": "qg8ppv4-ZrhK"
      },
      "source": [
        "## Логистическая регрессия (одиночная модель)"
      ]
    },
    {
      "cell_type": "code",
      "metadata": {
        "id": "KDD-VbESjOld"
      },
      "source": [
        "mapper = {'Class_1': 1, 'Class_2': 2, 'Class_3': 3, 'Class_4': 4}\n",
        "data['target'] = data['target'].map(mapper)\n",
        "\n",
        "train, valid = train_test_split(\n",
        "    data, train_size=0.7, shuffle=True, random_state=1,\n",
        ")\n",
        "\n",
        "y_train = train['target']\n",
        "x_train = train.drop(columns=['target'])\n",
        "y_valid = valid['target']\n",
        "x_valid = valid.drop(columns=['target'])"
      ],
      "execution_count": null,
      "outputs": []
    },
    {
      "cell_type": "code",
      "metadata": {
        "colab": {
          "base_uri": "https://localhost:8080/"
        },
        "id": "Vq96x12YheYk",
        "outputId": "482f8796-1ed9-4cbd-a8e1-2caa57e43efc"
      },
      "source": [
        "scaler = StandardScaler()\n",
        "x_train = scaler.fit_transform(x_train)\n",
        "x_valid = scaler.transform(x_valid)\n",
        "clf = LogisticRegression(random_state=0, max_iter=100, multi_class='multinomial', solver='lbfgs')\n",
        "clf.fit(x_train, y_train)\n",
        "y_pred = clf.predict_proba(x_valid)\n",
        "log_loss = metrics.log_loss(y_valid, y_pred)\n",
        "log_loss"
      ],
      "execution_count": null,
      "outputs": [
        {
          "output_type": "execute_result",
          "data": {
            "text/plain": [
              "1.1064099714808213"
            ]
          },
          "metadata": {
            "tags": []
          },
          "execution_count": 13
        }
      ]
    },
    {
      "cell_type": "code",
      "metadata": {
        "colab": {
          "base_uri": "https://localhost:8080/"
        },
        "id": "3i-LLreouLAH",
        "outputId": "e97ba21f-1e83-4696-9bd7-cb7129b2dd39"
      },
      "source": [
        "clf = SGDClassifier(loss='log', max_iter=2000, random_state=0)\n",
        "clf.fit(x_train, y_train)\n",
        "y_pred = clf.predict_proba(x_valid)\n",
        "log_loss = metrics.log_loss(y_valid, y_pred)\n",
        "log_loss"
      ],
      "execution_count": null,
      "outputs": [
        {
          "output_type": "execute_result",
          "data": {
            "text/plain": [
              "1.1267401361121265"
            ]
          },
          "metadata": {
            "tags": []
          },
          "execution_count": 14
        }
      ]
    },
    {
      "cell_type": "markdown",
      "metadata": {
        "id": "CiDc91rr4-1L"
      },
      "source": [
        "## Логистическая регрессия (кросс валидация)"
      ]
    },
    {
      "cell_type": "code",
      "metadata": {
        "id": "8-wKlWIh2hQP"
      },
      "source": [
        "def logistic_cv_fit(params, X, y, cv):\n",
        "    \"\"\"\n",
        "    Кросс-валидация для модели LogisticRegression.\n",
        "\n",
        "    Parameters\n",
        "    ----------\n",
        "    params: dict\n",
        "        Словарь гиперпараметров модели.\n",
        "\n",
        "    X: pandas.core.frame.DataFrame\n",
        "        Матрица признаков для обучения модели.\n",
        "\n",
        "    y: pandas.core.frame.Series\n",
        "        Вектор целевой переменной для обучения модели.\n",
        "\n",
        "    cv: KFold or StratifiedKFold generator.\n",
        "        Объект KFold / StratifiedKFold для определения\n",
        "        стратегии кросс-валидации модели.\n",
        "\n",
        "    Returns\n",
        "    -------\n",
        "    estimators: list\n",
        "        Список с объектами обученной модели.\n",
        "\n",
        "    oof_preds: np.array\n",
        "        Вектор OOF-прогнозов.\n",
        "\n",
        "    \"\"\"\n",
        "\n",
        "    estimators, folds_scores, scalers = [], [], []\n",
        "    oof_preds = np.zeros((X.shape[0], 4))\n",
        "    print(f\"{time.ctime()}, Cross-Validation, {X.shape[0]} rows, {X.shape[1]} cols\")\n",
        "\n",
        "    for fold, (train_idx, valid_idx) in enumerate(cv.split(X, y)):\n",
        "        x_train, x_valid = X.loc[train_idx], X.loc[valid_idx]\n",
        "        y_train, y_valid = y[train_idx], y[valid_idx]\n",
        "        scaler = StandardScaler()\n",
        "        x_train = scaler.fit_transform(x_train)\n",
        "        x_valid = scaler.transform(x_valid)\n",
        "        model = LogisticRegression(**params)\n",
        "        model.fit(x_train, y_train)\n",
        "        oof_preds[valid_idx] = model.predict_proba(x_valid)\n",
        "        score = metrics.log_loss(y_valid, oof_preds[valid_idx])\n",
        "        print(f\"Fold {fold+1}, Valid score = {round(score, 5)}\")\n",
        "        folds_scores.append(round(score, 5))\n",
        "        estimators.append(model)\n",
        "        scalers.append(scaler)\n",
        "\n",
        "    print(f\"Score by each fold: {folds_scores}\")\n",
        "    print(\"=\"*65)\n",
        "    return estimators, oof_preds, scalers"
      ],
      "execution_count": null,
      "outputs": []
    },
    {
      "cell_type": "code",
      "metadata": {
        "colab": {
          "base_uri": "https://localhost:8080/"
        },
        "id": "rzEZD3NB5eUd",
        "outputId": "764b1b1c-30b2-4129-d3f9-ab41380193f7"
      },
      "source": [
        "data = get_input(\"train.csv\")\n",
        "test = get_input(\"test.csv\")\n",
        "sample_submission = get_input(\"sample_submission.csv\")\n",
        "\n",
        "mapper = {'Class_1': 1, 'Class_2': 2, 'Class_3': 3, 'Class_4': 4}\n",
        "data['target'] = data['target'].map(mapper)\n",
        "\n",
        "train, valid = train_test_split(\n",
        "    data, train_size=0.7, shuffle=True, random_state=1,\n",
        ")\n",
        "\n",
        "train.reset_index(inplace=True, drop=True)\n",
        "valid.reset_index(inplace=True, drop=True)\n",
        "\n",
        "y_train = train['target']\n",
        "x_train = train.drop(columns=['target'])\n",
        "y_valid = valid['target']\n",
        "x_valid = valid.drop(columns=['target'])"
      ],
      "execution_count": null,
      "outputs": [
        {
          "output_type": "stream",
          "text": [
            "train.csv: shape = 100000 rows, 52 cols\n",
            "test.csv: shape = 50000 rows, 51 cols\n",
            "sample_submission.csv: shape = 50000 rows, 5 cols\n"
          ],
          "name": "stdout"
        }
      ]
    },
    {
      "cell_type": "code",
      "metadata": {
        "colab": {
          "base_uri": "https://localhost:8080/"
        },
        "id": "iFLKg7HBz-Tw",
        "outputId": "9a1d7436-000f-4c95-ec8b-d4a9fad8994b"
      },
      "source": [
        "params = {'random_state': 0, \n",
        "          'max_iter': 100, \n",
        "          'multi_class': 'multinomial', \n",
        "          'solver': 'lbfgs'}\n",
        "\n",
        "cv = StratifiedKFold(n_splits=7, random_state=435, shuffle=True)\n",
        "estimators, oof_preds, scalers = logistic_cv_fit(params, x_train, y_train, cv)"
      ],
      "execution_count": null,
      "outputs": [
        {
          "output_type": "stream",
          "text": [
            "Thu May  6 12:48:05 2021, Cross-Validation, 70000 rows, 51 cols\n",
            "Fold 1, Valid score = 1.10751\n",
            "Fold 2, Valid score = 1.1087\n",
            "Fold 3, Valid score = 1.10487\n",
            "Fold 4, Valid score = 1.1065\n",
            "Fold 5, Valid score = 1.10863\n",
            "Fold 6, Valid score = 1.1091\n",
            "Fold 7, Valid score = 1.10905\n",
            "Score by each fold: [1.10751, 1.1087, 1.10487, 1.1065, 1.10863, 1.1091, 1.10905]\n",
            "=================================================================\n"
          ],
          "name": "stdout"
        }
      ]
    },
    {
      "cell_type": "code",
      "metadata": {
        "colab": {
          "base_uri": "https://localhost:8080/"
        },
        "id": "TRHUQ2as-Yde",
        "outputId": "8ebfde39-b05d-4d5b-9781-c71f693f279d"
      },
      "source": [
        "metrics.log_loss(y_train, oof_preds)"
      ],
      "execution_count": null,
      "outputs": [
        {
          "output_type": "execute_result",
          "data": {
            "text/plain": [
              "1.1077632439093126"
            ]
          },
          "metadata": {
            "tags": []
          },
          "execution_count": 21
        }
      ]
    },
    {
      "cell_type": "code",
      "metadata": {
        "id": "esVnc1YmdvvQ"
      },
      "source": [
        "def multi_estimators_predict(estimators: List,\n",
        "                             x_valid: pd.DataFrame,\n",
        "                             y_valid: pd.Series,\n",
        "                             metric: callable,\n",
        "                             scalers: List = None,\n",
        "                             eval_each_estimator: bool = True,\n",
        "                             eval_result_estimator: bool = True):\n",
        "  preds = []\n",
        "  evals = []\n",
        "  if scalers:\n",
        "    assert len(estimators) == len(scalers)\n",
        "\n",
        "  for i in range(len(estimators)):\n",
        "    if scalers:\n",
        "      pred = estimators[i].predict_proba(scalers[i].transform(x_valid))\n",
        "    else:\n",
        "      pred = estimators[i].predict_proba(x_valid)\n",
        "    eval = metric(y_valid, pred)\n",
        "    preds.append(pred)\n",
        "    evals.append(eval)\n",
        "  \n",
        "  result = np.stack([preds], axis=0)\n",
        "  result = np.squeeze(result, axis=0)\n",
        "  result = np.mean(result, axis=0)\n",
        "\n",
        "  if eval_each_estimator:\n",
        "    for i, eval in enumerate(evals):\n",
        "      print(f\"Model {i} metric: {eval:.7}\")\n",
        "  \n",
        "  if eval_result_estimator:\n",
        "    print(f\"Result model metric: {metric(y_valid, result):.7}\")\n",
        "\n",
        "  return result"
      ],
      "execution_count": null,
      "outputs": []
    },
    {
      "cell_type": "code",
      "metadata": {
        "id": "rMbedznEuIq3"
      },
      "source": [
        "def multi_estimators_predict(estimators: List,\n",
        "                             x_valid: pd.DataFrame,\n",
        "                             y_valid = None,\n",
        "                             metric: callable = None,\n",
        "                             scalers: List = None):\n",
        "  preds = []\n",
        "  evals = []\n",
        "  if scalers:\n",
        "    assert len(estimators) == len(scalers)\n",
        "\n",
        "  for i in range(len(estimators)):\n",
        "    if scalers:\n",
        "      pred = estimators[i].predict_proba(scalers[i].transform(x_valid))\n",
        "    else:\n",
        "      pred = estimators[i].predict_proba(x_valid)\n",
        "    \n",
        "    preds.append(pred)\n",
        "    if (y_valid is not None) and (metric is not None):\n",
        "      eval = metric(y_valid, pred)\n",
        "      evals.append(eval)\n",
        "  \n",
        "  result = np.stack([preds], axis=0)\n",
        "  result = np.squeeze(result, axis=0)\n",
        "  result = np.mean(result, axis=0)\n",
        "\n",
        "  if (y_valid is not None) & (metric is not None):\n",
        "    for i, eval in enumerate(evals):\n",
        "      print(f\"Model {i} metric: {eval:.7}\")\n",
        "    print(f\"Result model metric: {metric(y_valid, result):.7}\")\n",
        "\n",
        "  return result"
      ],
      "execution_count": null,
      "outputs": []
    },
    {
      "cell_type": "code",
      "metadata": {
        "colab": {
          "base_uri": "https://localhost:8080/"
        },
        "id": "kSltygBlgsA6",
        "outputId": "f46698c5-1a28-4a29-d9be-77193fe13177"
      },
      "source": [
        "result = multi_estimators_predict(estimators, x_valid, y_valid, metrics.log_loss, scalers)"
      ],
      "execution_count": null,
      "outputs": [
        {
          "output_type": "stream",
          "text": [
            "Model 0 metric: 1.106636\n",
            "Model 1 metric: 1.106441\n",
            "Model 2 metric: 1.106707\n",
            "Model 3 metric: 1.106694\n",
            "Model 4 metric: 1.106466\n",
            "Model 5 metric: 1.10647\n",
            "Model 6 metric: 1.106833\n",
            "Result model metric: 1.106404\n"
          ],
          "name": "stdout"
        }
      ]
    },
    {
      "cell_type": "markdown",
      "metadata": {
        "id": "gQvnyXliIO1r"
      },
      "source": [
        "## Градиентный бустнинг"
      ]
    },
    {
      "cell_type": "code",
      "metadata": {
        "colab": {
          "base_uri": "https://localhost:8080/"
        },
        "id": "WxuShzbm4puI",
        "outputId": "d0a7e87e-e3c0-40f1-be86-b78ab3c4e423"
      },
      "source": [
        "data = get_input(\"train.csv\")\n",
        "test = get_input(\"test.csv\")\n",
        "sample_submission = get_input(\"sample_submission.csv\")\n",
        "\n",
        "data.drop(columns='id', inplace=True)\n",
        "\n",
        "mapper = {'Class_1': 1, 'Class_2': 2, 'Class_3': 3, 'Class_4': 4}\n",
        "data['target'] = data['target'].map(mapper)"
      ],
      "execution_count": null,
      "outputs": [
        {
          "output_type": "stream",
          "text": [
            "train.csv: shape = 100000 rows, 52 cols\n",
            "test.csv: shape = 50000 rows, 51 cols\n",
            "sample_submission.csv: shape = 50000 rows, 5 cols\n"
          ],
          "name": "stdout"
        }
      ]
    },
    {
      "cell_type": "code",
      "metadata": {
        "id": "QCLjIobg-cW7"
      },
      "source": [
        "data['sum'] = data[data.columns.to_list()[:50]].sum(axis=1) # норм\n",
        "data['max'] = data[data.columns.to_list()[:50]].max(axis=1) # норм\n",
        "data['not_nul_features'] = (data!=0)[data.columns.to_list()[:50]].sum(axis=1)"
      ],
      "execution_count": null,
      "outputs": []
    },
    {
      "cell_type": "code",
      "metadata": {
        "id": "uzuIROIgDgaR"
      },
      "source": [
        "def add_sum_feature(data: pd.DataFrame, feature: str):\n",
        "  columns = data.columns.to_list()[:50]\n",
        "  for column in columns:\n",
        "    data[f'{feature} + {column}'] = data[feature] + data[column]"
      ],
      "execution_count": null,
      "outputs": []
    },
    {
      "cell_type": "code",
      "metadata": {
        "id": "X5toFFcrmQXF"
      },
      "source": [
        "def add_sum_feature(data: pd.DataFrame):\n",
        "  columns = data.columns.to_list()[:50]\n",
        "  for i in range(len(columns)-2):\n",
        "    for j in range(i+1, len(columns)-1):\n",
        "      data[f\"feature_{i}+feature_{j}\"] = data[f\"feature_{i}\"] + data[f\"feature_{j}\"]"
      ],
      "execution_count": null,
      "outputs": []
    },
    {
      "cell_type": "code",
      "metadata": {
        "id": "UU2uSaorntHR"
      },
      "source": [
        "#add_sum_feature(data)\n",
        "add_sum_feature(data, 'feature_6')"
      ],
      "execution_count": null,
      "outputs": []
    },
    {
      "cell_type": "code",
      "metadata": {
        "id": "SAuYBNym4w8P"
      },
      "source": [
        "# очень хороши\n",
        "#2+13\n",
        "#6+15\n",
        "\n",
        "data['2+13'] = data['feature_2'] + data['feature_13']\n",
        "data['6+15'] = data['feature_6'] + data['feature_15']\n",
        "\n",
        "#data['0+15'] = data['feature_0'] + data['feature_15']\n",
        "\n",
        "#data['2+14'] = data['feature_2'] + data['feature_14']\n",
        "#data['2+6'] = data['feature_2'] + data['feature_6']\n",
        "#data['2+15'] = data['feature_2'] + data['feature_15']\n",
        "#data['14+6'] = data['feature_14'] + data['feature_6']\n",
        "#data['14+15'] = data['feature_14'] + data['feature_15']\n",
        "#data['14+13'] = data['feature_14'] + data['feature_13']\n",
        "#data['6+13'] = data['feature_6'] + data['feature_13']"
      ],
      "execution_count": null,
      "outputs": []
    },
    {
      "cell_type": "code",
      "metadata": {
        "id": "1cjCuCNHLNAK"
      },
      "source": [
        "train, valid = train_test_split(\n",
        "    data, train_size=0.7, shuffle=True, random_state=1,\n",
        ")\n",
        "\n",
        "train.reset_index(inplace=True, drop=True)\n",
        "valid.reset_index(inplace=True, drop=True)\n",
        "\n",
        "y_train = train['target']\n",
        "x_train = train.drop(columns=['target'])\n",
        "y_valid = valid['target']\n",
        "x_valid = valid.drop(columns=['target'])"
      ],
      "execution_count": null,
      "outputs": []
    },
    {
      "cell_type": "code",
      "metadata": {
        "id": "4ISiHAnWfQ-s"
      },
      "source": [
        "def cramers_v(x, y):\n",
        "#https://towardsdatascience.com/the-search-for-categorical-correlation-a1cf7f1888c9\n",
        "    \"\"\" calculate Cramers V statistic for categorial-categorial association.\n",
        "        uses correction from Bergsma and Wicher, \n",
        "        Journal of the Korean Statistical Society 42 (2013): 323-328\n",
        "    \"\"\"\n",
        "    confusion_matrix = pd.crosstab(x,y)\n",
        "    chi2 = ss.chi2_contingency(confusion_matrix)[0]\n",
        "    n = confusion_matrix.sum().sum()\n",
        "    phi2 = chi2/n\n",
        "    r,k = confusion_matrix.shape\n",
        "    phi2corr = max(0, phi2-((k-1)*(r-1))/(n-1))\n",
        "    rcorr = r-((r-1)**2)/(n-1)\n",
        "    kcorr = k-((k-1)**2)/(n-1)\n",
        "    return np.sqrt(phi2corr/min((kcorr-1),(rcorr-1)))"
      ],
      "execution_count": null,
      "outputs": []
    },
    {
      "cell_type": "code",
      "metadata": {
        "id": "pB6syRV7z4eq"
      },
      "source": [
        "class MakePCA(BaseEstimator, TransformerMixin):\n",
        "\n",
        "    def __init__(self, scaler=StandardScaler(), \n",
        "                 n_components: int = 10,\n",
        "                 random_state: int = 42):\n",
        "      \n",
        "      self.scaler = scaler\n",
        "      self.pca = PCA(n_components=n_components, random_state=random_state)\n",
        "\n",
        "    def fit(self, X: pd.DataFrame):\n",
        "      self.pca.fit(self.scaler.fit_transform(X))\n",
        "      self.fitted = True\n",
        "      return self\n",
        "\n",
        "    def transform(self, X: pd.DataFrame):\n",
        "      check_is_fitted(self, \"fitted\")\n",
        "      X_PCA = self.pca.transform(self.scaler.transform(X))\n",
        "      X_PCA = pd.DataFrame(X_PCA)\n",
        "      mapper = {}\n",
        "      for i in range(X_PCA.shape[1]):\n",
        "        mapper[i] = f'PCA_{i}'\n",
        "      X_PCA.rename(columns=mapper, inplace=True)\n",
        "      X = pd.concat([X, X_PCA], axis=1)\n",
        "      return X"
      ],
      "execution_count": null,
      "outputs": []
    },
    {
      "cell_type": "code",
      "metadata": {
        "id": "IxF32PISLj-2"
      },
      "source": [
        "my_PCA = MakePCA(scaler=StandardScaler(), n_components=5)\n",
        "x_train = my_PCA.fit_transform(x_train)\n",
        "x_valid = my_PCA.transform(x_valid)"
      ],
      "execution_count": null,
      "outputs": []
    },
    {
      "cell_type": "code",
      "metadata": {
        "id": "_zib19Ts2XhE"
      },
      "source": [
        "class MakeClusters(BaseEstimator):\n",
        "\n",
        "    def __init__(self, scaler=StandardScaler(), \n",
        "                 clusterer=KMeans(n_clusters=4), \n",
        "                 cluster_column_name: str = 'cluster'):\n",
        "      \n",
        "      self.scaler = scaler\n",
        "      self.clusterer = clusterer\n",
        "      self.cluster_column_name = cluster_column_name\n",
        "\n",
        "    def fit(self, X: pd.DataFrame):\n",
        "      self.clusterer.fit(self.scaler.fit_transform(X))\n",
        "      self.fitted = True\n",
        "      return self\n",
        "\n",
        "    def transform(self, X: pd.DataFrame, y: pd.Series=None):\n",
        "      check_is_fitted(self, \"fitted\")\n",
        "      clusters = self.clusterer.predict(self.scaler.transform(X))\n",
        "      X[self.cluster_column_name] = clusters\n",
        "      if y is not None:\n",
        "        print(f\"Cramer V test: {cramers_v(clusters, y.values):.5}\")\n",
        "    \n",
        "    def fit_transform(self, X: pd.DataFrame, y: pd.Series=None):\n",
        "      clusters = self.clusterer.fit_predict(self.scaler.fit_transform(X))\n",
        "      X[self.cluster_column_name] = clusters\n",
        "      self.fitted = True\n",
        "      if y is not None:\n",
        "        print(f\"Cramer V test: {cramers_v(clusters, y.values):.5}\")"
      ],
      "execution_count": null,
      "outputs": []
    },
    {
      "cell_type": "code",
      "metadata": {
        "id": "5d9X4Pc1Oijn"
      },
      "source": [
        "x_train_pca = x_train[x_train.columns.to_list()[50:80]]"
      ],
      "execution_count": null,
      "outputs": []
    },
    {
      "cell_type": "code",
      "metadata": {
        "id": "9GFR0HLTE__Z"
      },
      "source": [
        "my_clusterer = MakeClusters(StandardScaler(), \n",
        "                            KMeans(n_clusters=4, random_state=0, max_iter=600), \n",
        "                            #KMedoids(n_clusters=4, random_state=0, max_iter=600), \n",
        "                            cluster_column_name = 'claster')\n",
        "#my_clusterer.fit(x_train)\n",
        "#my_clusterer.transform(x_train, y_train)\n",
        "my_clusterer.fit_transform(x_train, y_train)"
      ],
      "execution_count": null,
      "outputs": []
    },
    {
      "cell_type": "code",
      "metadata": {
        "id": "DJTu7y-yLISb"
      },
      "source": [
        "def plot_cramers_corr_matrics(data: pd.DataFrame):\n",
        "  matrix = np.zeros((data.shape[1], data.shape[1]))\n",
        "  columns = data.columns.to_list()\n",
        "  for i in range(data.shape[1]):\n",
        "    for j in range(i, data.shape[1]):\n",
        "      matrix[i, j] = cramers_v(data[columns[i]], data[columns[j]])\n",
        "      matrix[j, i] = matrix[i, j]\n",
        "  matrix_df = pd.DataFrame(data=matrix, index=columns, columns=columns)\n",
        "  fig, axes = plt.subplots(figsize = (14,12))\n",
        "  plt.title(\"Features correlation\", y=1, size=16)\n",
        "  sns.heatmap(matrix_df, square=True, vmax=0.8, cmap=\"viridis\")"
      ],
      "execution_count": null,
      "outputs": []
    },
    {
      "cell_type": "code",
      "metadata": {
        "id": "TC-Np6McNbrB"
      },
      "source": [
        "plot_kramers_corr_matrics(data)"
      ],
      "execution_count": null,
      "outputs": []
    },
    {
      "cell_type": "code",
      "metadata": {
        "id": "81ESItfyI97f"
      },
      "source": [
        "def lightgbm_cv_fit(params, X, y, cv, categorical = None):\n",
        "    \"\"\"\n",
        "    Кросс-валидация для модели lightgbm.\n",
        "\n",
        "    Parameters\n",
        "    ----------\n",
        "    params: dict\n",
        "        Словарь гиперпараметров модели.\n",
        "\n",
        "    X: pandas.core.frame.DataFrame\n",
        "        Матрица признако для обучения модели.\n",
        "\n",
        "    y: pandas.core.frame.Series\n",
        "        Вектор целевой переменной для обучения модели.\n",
        "\n",
        "    cv: KFold or StratifiedKFold generator.\n",
        "        Объект KFold / StratifiedKFold для определения\n",
        "        стратегии кросс-валидации модели.\n",
        "\n",
        "    categorical: str, optional, default = None\n",
        "        Список категориальных признаков.\n",
        "        Опциональный параметр, по умолчанию, не используется.\n",
        "\n",
        "    Returns\n",
        "    -------\n",
        "    estimators: list\n",
        "        Список с объектами обученной модели.\n",
        "\n",
        "    oof_preds: np.array\n",
        "        Вектор OOF-прогнозов.\n",
        "\n",
        "    \"\"\"\n",
        "    if not categorical:\n",
        "        categorical = \"auto\"\n",
        "\n",
        "    estimators, folds_scores = [], []\n",
        "    oof_preds = np.zeros((X.shape[0], 4))\n",
        "    print(f\"{time.ctime()}, Cross-Validation, {X.shape[0]} rows, {X.shape[1]} cols\")\n",
        "\n",
        "    for fold, (train_idx, valid_idx) in enumerate(cv.split(X, y)):\n",
        "        x_train, x_valid = X.loc[train_idx], X.loc[valid_idx]\n",
        "        y_train, y_valid = y[train_idx], y[valid_idx]\n",
        "\n",
        "        model = lgb.LGBMClassifier(**params)\n",
        "        model.fit(\n",
        "            x_train, y_train,\n",
        "            eval_set=[(x_valid, y_valid)],\n",
        "            eval_metric=\"multi_logloss\", verbose=10, early_stopping_rounds=50,\n",
        "            categorical_feature=categorical\n",
        "        )\n",
        "        oof_preds[valid_idx] = model.predict_proba(x_valid)\n",
        "        score = metrics.log_loss(y_valid, oof_preds[valid_idx])\n",
        "        print(f\"Fold {fold+1}, Valid score = {round(score, 5)}\")\n",
        "        folds_scores.append(round(score, 5))\n",
        "        estimators.append(model)\n",
        "\n",
        "    print(f\"Score by each fold: {folds_scores}\")\n",
        "    print(\"=\"*65)\n",
        "    return estimators, oof_preds"
      ],
      "execution_count": null,
      "outputs": []
    },
    {
      "cell_type": "markdown",
      "metadata": {
        "id": "-wk-iCaw8v-J"
      },
      "source": [
        "### Выбор категориальных признаков среди порядковых"
      ]
    },
    {
      "cell_type": "code",
      "metadata": {
        "id": "0K7QUwfL9WZd"
      },
      "source": [
        "def get_nunique(df: pd.DataFrame) -> pd.DataFrame:\n",
        "  result = {}\n",
        "  columns = df.columns.to_list()\n",
        "  for feature in columns:\n",
        "    result[feature] = train[feature].nunique()\n",
        "  return result"
      ],
      "execution_count": null,
      "outputs": []
    },
    {
      "cell_type": "code",
      "metadata": {
        "id": "OVoc_IrfqLDC"
      },
      "source": [
        "n_unique = get_nunique(data.drop(columns='target'))\n",
        "n_unique = pd.DataFrame.from_dict(data = n_unique, orient='index')\n",
        "n_unique.rename(columns={0:'n_unique'}, inplace=True)\n",
        "n_unique.sort_values(by='n_unique', ascending=True, inplace=True)\n",
        "\n",
        "categorical_feature_names = list(n_unique[n_unique.n_unique < 15].index)\n",
        "categorical_feature_names"
      ],
      "execution_count": null,
      "outputs": []
    },
    {
      "cell_type": "code",
      "metadata": {
        "id": "-js_4LlClPT8"
      },
      "source": [
        "categorical_feature_names = ['feature_13', 'feature_2', 'feature_22', 'feature_36']\n",
        "categorical_feature_names = ['feature_13', 'feature_2', 'feature_22', 'feature_36', 'feature_5', 'feature_44',\n",
        "                             'feature_0', 'feature_12', 'feature_11', 'feature_29', 'feature_18']\n",
        "\n",
        "for feature in categorical_feature_names:\n",
        "  x_train[feature] = pd.Series(x_train[feature], dtype=\"category\")\n",
        "  x_valid[feature] = pd.Series(x_valid[feature], dtype=\"category\")"
      ],
      "execution_count": null,
      "outputs": []
    },
    {
      "cell_type": "markdown",
      "metadata": {
        "id": "wFb63gDA_vMp"
      },
      "source": [
        "Вывод: категориальные признаки не дали улучшений"
      ]
    },
    {
      "cell_type": "markdown",
      "metadata": {
        "id": "fDf1NdXM9-qT"
      },
      "source": [
        "### Обучение модели"
      ]
    },
    {
      "cell_type": "code",
      "metadata": {
        "colab": {
          "base_uri": "https://localhost:8080/"
        },
        "id": "g94h4fxIDn4U",
        "outputId": "87b0981b-902b-4ac2-9252-685a6eee48a4"
      },
      "source": [
        "lgbm_params = {\n",
        "    \"boosting_type \": \"gbdt\",\n",
        "    \"objective\": \"multiclass\",\n",
        "    \"metric\": \"multi_logloss\",\n",
        "    \"learning_rate\": 0.12,\n",
        "    \"n_estimators\": 1000,\n",
        "    \"reg_lambda\": 100,\n",
        "    \"max_depth\": 3,\n",
        "    \"n_jobs\": -1,\n",
        "    \"seed\": 27,\n",
        "    'device_type': 'cpu',\n",
        "    'num_class': 4,\n",
        "    'random_state': 2\n",
        "}\n",
        "\n",
        "cv = StratifiedKFold(n_splits=7, random_state=435, shuffle=True)\n",
        "\n",
        "lgb_estimators, lgb_oof = lightgbm_cv_fit(\n",
        "    lgbm_params, x_train, y_train, cv, #categorical=categorical_feature_names\n",
        ")"
      ],
      "execution_count": null,
      "outputs": [
        {
          "output_type": "stream",
          "text": [
            "Thu May 13 11:17:52 2021, Cross-Validation, 70000 rows, 55 cols\n",
            "Training until validation scores don't improve for 50 rounds.\n",
            "[10]\tvalid_0's multi_logloss: 1.10849\n",
            "[20]\tvalid_0's multi_logloss: 1.10467\n",
            "[30]\tvalid_0's multi_logloss: 1.10219\n",
            "[40]\tvalid_0's multi_logloss: 1.10075\n",
            "[50]\tvalid_0's multi_logloss: 1.09931\n",
            "[60]\tvalid_0's multi_logloss: 1.09825\n",
            "[70]\tvalid_0's multi_logloss: 1.09751\n",
            "[80]\tvalid_0's multi_logloss: 1.09672\n",
            "[90]\tvalid_0's multi_logloss: 1.09612\n",
            "[100]\tvalid_0's multi_logloss: 1.09557\n",
            "[110]\tvalid_0's multi_logloss: 1.0951\n",
            "[120]\tvalid_0's multi_logloss: 1.09477\n",
            "[130]\tvalid_0's multi_logloss: 1.09444\n",
            "[140]\tvalid_0's multi_logloss: 1.0942\n",
            "[150]\tvalid_0's multi_logloss: 1.0939\n",
            "[160]\tvalid_0's multi_logloss: 1.09367\n",
            "[170]\tvalid_0's multi_logloss: 1.09357\n",
            "[180]\tvalid_0's multi_logloss: 1.09346\n",
            "[190]\tvalid_0's multi_logloss: 1.0934\n",
            "[200]\tvalid_0's multi_logloss: 1.09332\n",
            "[210]\tvalid_0's multi_logloss: 1.09321\n",
            "[220]\tvalid_0's multi_logloss: 1.09317\n",
            "[230]\tvalid_0's multi_logloss: 1.09308\n",
            "[240]\tvalid_0's multi_logloss: 1.09291\n",
            "[250]\tvalid_0's multi_logloss: 1.09288\n",
            "[260]\tvalid_0's multi_logloss: 1.09282\n",
            "[270]\tvalid_0's multi_logloss: 1.09287\n",
            "[280]\tvalid_0's multi_logloss: 1.0929\n",
            "[290]\tvalid_0's multi_logloss: 1.09287\n",
            "[300]\tvalid_0's multi_logloss: 1.09285\n",
            "[310]\tvalid_0's multi_logloss: 1.09278\n",
            "[320]\tvalid_0's multi_logloss: 1.09277\n",
            "[330]\tvalid_0's multi_logloss: 1.09276\n",
            "[340]\tvalid_0's multi_logloss: 1.09269\n",
            "[350]\tvalid_0's multi_logloss: 1.09273\n",
            "[360]\tvalid_0's multi_logloss: 1.09274\n",
            "[370]\tvalid_0's multi_logloss: 1.09274\n",
            "[380]\tvalid_0's multi_logloss: 1.0928\n",
            "[390]\tvalid_0's multi_logloss: 1.09282\n",
            "Early stopping, best iteration is:\n",
            "[340]\tvalid_0's multi_logloss: 1.09269\n",
            "Fold 1, Valid score = 1.09269\n",
            "Training until validation scores don't improve for 50 rounds.\n",
            "[10]\tvalid_0's multi_logloss: 1.11097\n",
            "[20]\tvalid_0's multi_logloss: 1.10809\n",
            "[30]\tvalid_0's multi_logloss: 1.10617\n",
            "[40]\tvalid_0's multi_logloss: 1.10464\n",
            "[50]\tvalid_0's multi_logloss: 1.10366\n",
            "[60]\tvalid_0's multi_logloss: 1.10288\n",
            "[70]\tvalid_0's multi_logloss: 1.10213\n",
            "[80]\tvalid_0's multi_logloss: 1.10154\n",
            "[90]\tvalid_0's multi_logloss: 1.10092\n",
            "[100]\tvalid_0's multi_logloss: 1.10037\n",
            "[110]\tvalid_0's multi_logloss: 1.09986\n",
            "[120]\tvalid_0's multi_logloss: 1.09946\n",
            "[130]\tvalid_0's multi_logloss: 1.09908\n",
            "[140]\tvalid_0's multi_logloss: 1.09878\n",
            "[150]\tvalid_0's multi_logloss: 1.09839\n",
            "[160]\tvalid_0's multi_logloss: 1.09814\n",
            "[170]\tvalid_0's multi_logloss: 1.09803\n",
            "[180]\tvalid_0's multi_logloss: 1.09775\n",
            "[190]\tvalid_0's multi_logloss: 1.0975\n",
            "[200]\tvalid_0's multi_logloss: 1.09733\n",
            "[210]\tvalid_0's multi_logloss: 1.09725\n",
            "[220]\tvalid_0's multi_logloss: 1.09713\n",
            "[230]\tvalid_0's multi_logloss: 1.09699\n",
            "[240]\tvalid_0's multi_logloss: 1.09677\n",
            "[250]\tvalid_0's multi_logloss: 1.09669\n",
            "[260]\tvalid_0's multi_logloss: 1.09664\n",
            "[270]\tvalid_0's multi_logloss: 1.09656\n",
            "[280]\tvalid_0's multi_logloss: 1.09648\n",
            "[290]\tvalid_0's multi_logloss: 1.09644\n",
            "[300]\tvalid_0's multi_logloss: 1.09644\n",
            "[310]\tvalid_0's multi_logloss: 1.09639\n",
            "[320]\tvalid_0's multi_logloss: 1.09634\n",
            "[330]\tvalid_0's multi_logloss: 1.09634\n",
            "[340]\tvalid_0's multi_logloss: 1.09635\n",
            "[350]\tvalid_0's multi_logloss: 1.09629\n",
            "[360]\tvalid_0's multi_logloss: 1.0963\n",
            "[370]\tvalid_0's multi_logloss: 1.09624\n",
            "[380]\tvalid_0's multi_logloss: 1.09621\n",
            "[390]\tvalid_0's multi_logloss: 1.09621\n",
            "[400]\tvalid_0's multi_logloss: 1.09619\n",
            "[410]\tvalid_0's multi_logloss: 1.09611\n",
            "[420]\tvalid_0's multi_logloss: 1.09616\n",
            "[430]\tvalid_0's multi_logloss: 1.09615\n",
            "[440]\tvalid_0's multi_logloss: 1.09621\n",
            "[450]\tvalid_0's multi_logloss: 1.09623\n",
            "Early stopping, best iteration is:\n",
            "[409]\tvalid_0's multi_logloss: 1.09609\n",
            "Fold 2, Valid score = 1.09609\n",
            "Training until validation scores don't improve for 50 rounds.\n",
            "[10]\tvalid_0's multi_logloss: 1.10952\n",
            "[20]\tvalid_0's multi_logloss: 1.10576\n",
            "[30]\tvalid_0's multi_logloss: 1.1033\n",
            "[40]\tvalid_0's multi_logloss: 1.10176\n",
            "[50]\tvalid_0's multi_logloss: 1.10048\n",
            "[60]\tvalid_0's multi_logloss: 1.0996\n",
            "[70]\tvalid_0's multi_logloss: 1.09872\n",
            "[80]\tvalid_0's multi_logloss: 1.09805\n",
            "[90]\tvalid_0's multi_logloss: 1.09727\n",
            "[100]\tvalid_0's multi_logloss: 1.09686\n",
            "[110]\tvalid_0's multi_logloss: 1.09634\n",
            "[120]\tvalid_0's multi_logloss: 1.09602\n",
            "[130]\tvalid_0's multi_logloss: 1.09568\n",
            "[140]\tvalid_0's multi_logloss: 1.09534\n",
            "[150]\tvalid_0's multi_logloss: 1.09509\n",
            "[160]\tvalid_0's multi_logloss: 1.09485\n",
            "[170]\tvalid_0's multi_logloss: 1.09463\n",
            "[180]\tvalid_0's multi_logloss: 1.09441\n",
            "[190]\tvalid_0's multi_logloss: 1.09435\n",
            "[200]\tvalid_0's multi_logloss: 1.0942\n",
            "[210]\tvalid_0's multi_logloss: 1.09407\n",
            "[220]\tvalid_0's multi_logloss: 1.09399\n",
            "[230]\tvalid_0's multi_logloss: 1.09387\n",
            "[240]\tvalid_0's multi_logloss: 1.09378\n",
            "[250]\tvalid_0's multi_logloss: 1.09365\n",
            "[260]\tvalid_0's multi_logloss: 1.09362\n",
            "[270]\tvalid_0's multi_logloss: 1.09353\n",
            "[280]\tvalid_0's multi_logloss: 1.09346\n",
            "[290]\tvalid_0's multi_logloss: 1.09345\n",
            "[300]\tvalid_0's multi_logloss: 1.09336\n",
            "[310]\tvalid_0's multi_logloss: 1.09339\n",
            "[320]\tvalid_0's multi_logloss: 1.09339\n",
            "[330]\tvalid_0's multi_logloss: 1.09342\n",
            "[340]\tvalid_0's multi_logloss: 1.09344\n",
            "[350]\tvalid_0's multi_logloss: 1.09339\n",
            "[360]\tvalid_0's multi_logloss: 1.09342\n",
            "Early stopping, best iteration is:\n",
            "[316]\tvalid_0's multi_logloss: 1.09333\n",
            "Fold 3, Valid score = 1.09333\n",
            "Training until validation scores don't improve for 50 rounds.\n",
            "[10]\tvalid_0's multi_logloss: 1.10969\n",
            "[20]\tvalid_0's multi_logloss: 1.1059\n",
            "[30]\tvalid_0's multi_logloss: 1.10359\n",
            "[40]\tvalid_0's multi_logloss: 1.10193\n",
            "[50]\tvalid_0's multi_logloss: 1.10059\n",
            "[60]\tvalid_0's multi_logloss: 1.09953\n",
            "[70]\tvalid_0's multi_logloss: 1.09857\n",
            "[80]\tvalid_0's multi_logloss: 1.09779\n",
            "[90]\tvalid_0's multi_logloss: 1.09718\n",
            "[100]\tvalid_0's multi_logloss: 1.09675\n",
            "[110]\tvalid_0's multi_logloss: 1.09615\n",
            "[120]\tvalid_0's multi_logloss: 1.09566\n",
            "[130]\tvalid_0's multi_logloss: 1.09517\n",
            "[140]\tvalid_0's multi_logloss: 1.09484\n",
            "[150]\tvalid_0's multi_logloss: 1.09454\n",
            "[160]\tvalid_0's multi_logloss: 1.09417\n",
            "[170]\tvalid_0's multi_logloss: 1.0939\n",
            "[180]\tvalid_0's multi_logloss: 1.0938\n",
            "[190]\tvalid_0's multi_logloss: 1.09357\n",
            "[200]\tvalid_0's multi_logloss: 1.09339\n",
            "[210]\tvalid_0's multi_logloss: 1.09312\n",
            "[220]\tvalid_0's multi_logloss: 1.09291\n",
            "[230]\tvalid_0's multi_logloss: 1.09269\n",
            "[240]\tvalid_0's multi_logloss: 1.09254\n",
            "[250]\tvalid_0's multi_logloss: 1.09234\n",
            "[260]\tvalid_0's multi_logloss: 1.0921\n",
            "[270]\tvalid_0's multi_logloss: 1.09194\n",
            "[280]\tvalid_0's multi_logloss: 1.09183\n",
            "[290]\tvalid_0's multi_logloss: 1.09172\n",
            "[300]\tvalid_0's multi_logloss: 1.0916\n",
            "[310]\tvalid_0's multi_logloss: 1.09158\n",
            "[320]\tvalid_0's multi_logloss: 1.09149\n",
            "[330]\tvalid_0's multi_logloss: 1.09143\n",
            "[340]\tvalid_0's multi_logloss: 1.09135\n",
            "[350]\tvalid_0's multi_logloss: 1.09126\n",
            "[360]\tvalid_0's multi_logloss: 1.09111\n",
            "[370]\tvalid_0's multi_logloss: 1.09104\n",
            "[380]\tvalid_0's multi_logloss: 1.09094\n",
            "[390]\tvalid_0's multi_logloss: 1.09092\n",
            "[400]\tvalid_0's multi_logloss: 1.09087\n",
            "[410]\tvalid_0's multi_logloss: 1.09086\n",
            "[420]\tvalid_0's multi_logloss: 1.09087\n",
            "[430]\tvalid_0's multi_logloss: 1.09087\n",
            "[440]\tvalid_0's multi_logloss: 1.0908\n",
            "[450]\tvalid_0's multi_logloss: 1.09082\n",
            "[460]\tvalid_0's multi_logloss: 1.09077\n",
            "[470]\tvalid_0's multi_logloss: 1.09083\n",
            "[480]\tvalid_0's multi_logloss: 1.09083\n",
            "[490]\tvalid_0's multi_logloss: 1.0908\n",
            "[500]\tvalid_0's multi_logloss: 1.09073\n",
            "[510]\tvalid_0's multi_logloss: 1.0907\n",
            "[520]\tvalid_0's multi_logloss: 1.09079\n",
            "[530]\tvalid_0's multi_logloss: 1.09075\n",
            "[540]\tvalid_0's multi_logloss: 1.09076\n",
            "[550]\tvalid_0's multi_logloss: 1.09071\n",
            "[560]\tvalid_0's multi_logloss: 1.0907\n",
            "[570]\tvalid_0's multi_logloss: 1.09073\n",
            "[580]\tvalid_0's multi_logloss: 1.09071\n",
            "[590]\tvalid_0's multi_logloss: 1.09075\n",
            "[600]\tvalid_0's multi_logloss: 1.09079\n",
            "Early stopping, best iteration is:\n",
            "[553]\tvalid_0's multi_logloss: 1.09068\n",
            "Fold 4, Valid score = 1.09068\n",
            "Training until validation scores don't improve for 50 rounds.\n",
            "[10]\tvalid_0's multi_logloss: 1.10996\n",
            "[20]\tvalid_0's multi_logloss: 1.10654\n",
            "[30]\tvalid_0's multi_logloss: 1.10418\n",
            "[40]\tvalid_0's multi_logloss: 1.10259\n",
            "[50]\tvalid_0's multi_logloss: 1.10111\n",
            "[60]\tvalid_0's multi_logloss: 1.10012\n",
            "[70]\tvalid_0's multi_logloss: 1.0993\n",
            "[80]\tvalid_0's multi_logloss: 1.09856\n",
            "[90]\tvalid_0's multi_logloss: 1.09802\n",
            "[100]\tvalid_0's multi_logloss: 1.09743\n",
            "[110]\tvalid_0's multi_logloss: 1.09698\n",
            "[120]\tvalid_0's multi_logloss: 1.09656\n",
            "[130]\tvalid_0's multi_logloss: 1.09613\n",
            "[140]\tvalid_0's multi_logloss: 1.09574\n",
            "[150]\tvalid_0's multi_logloss: 1.09547\n",
            "[160]\tvalid_0's multi_logloss: 1.09526\n",
            "[170]\tvalid_0's multi_logloss: 1.09497\n",
            "[180]\tvalid_0's multi_logloss: 1.09483\n",
            "[190]\tvalid_0's multi_logloss: 1.09467\n",
            "[200]\tvalid_0's multi_logloss: 1.09451\n",
            "[210]\tvalid_0's multi_logloss: 1.09437\n",
            "[220]\tvalid_0's multi_logloss: 1.09435\n",
            "[230]\tvalid_0's multi_logloss: 1.0943\n",
            "[240]\tvalid_0's multi_logloss: 1.09429\n",
            "[250]\tvalid_0's multi_logloss: 1.09421\n",
            "[260]\tvalid_0's multi_logloss: 1.09408\n",
            "[270]\tvalid_0's multi_logloss: 1.09405\n",
            "[280]\tvalid_0's multi_logloss: 1.09403\n",
            "[290]\tvalid_0's multi_logloss: 1.09406\n",
            "[300]\tvalid_0's multi_logloss: 1.09402\n",
            "[310]\tvalid_0's multi_logloss: 1.094\n",
            "[320]\tvalid_0's multi_logloss: 1.09394\n",
            "[330]\tvalid_0's multi_logloss: 1.09394\n",
            "[340]\tvalid_0's multi_logloss: 1.09397\n",
            "[350]\tvalid_0's multi_logloss: 1.09399\n",
            "[360]\tvalid_0's multi_logloss: 1.09403\n",
            "[370]\tvalid_0's multi_logloss: 1.09407\n",
            "Early stopping, best iteration is:\n",
            "[327]\tvalid_0's multi_logloss: 1.09391\n",
            "Fold 5, Valid score = 1.09391\n",
            "Training until validation scores don't improve for 50 rounds.\n",
            "[10]\tvalid_0's multi_logloss: 1.11162\n",
            "[20]\tvalid_0's multi_logloss: 1.10876\n",
            "[30]\tvalid_0's multi_logloss: 1.10672\n",
            "[40]\tvalid_0's multi_logloss: 1.10509\n",
            "[50]\tvalid_0's multi_logloss: 1.104\n",
            "[60]\tvalid_0's multi_logloss: 1.10301\n",
            "[70]\tvalid_0's multi_logloss: 1.10225\n",
            "[80]\tvalid_0's multi_logloss: 1.1016\n",
            "[90]\tvalid_0's multi_logloss: 1.10099\n",
            "[100]\tvalid_0's multi_logloss: 1.10057\n",
            "[110]\tvalid_0's multi_logloss: 1.10008\n",
            "[120]\tvalid_0's multi_logloss: 1.09959\n",
            "[130]\tvalid_0's multi_logloss: 1.09926\n",
            "[140]\tvalid_0's multi_logloss: 1.09893\n",
            "[150]\tvalid_0's multi_logloss: 1.09866\n",
            "[160]\tvalid_0's multi_logloss: 1.0984\n",
            "[170]\tvalid_0's multi_logloss: 1.09809\n",
            "[180]\tvalid_0's multi_logloss: 1.09786\n",
            "[190]\tvalid_0's multi_logloss: 1.09754\n",
            "[200]\tvalid_0's multi_logloss: 1.09733\n",
            "[210]\tvalid_0's multi_logloss: 1.09715\n",
            "[220]\tvalid_0's multi_logloss: 1.09704\n",
            "[230]\tvalid_0's multi_logloss: 1.09692\n",
            "[240]\tvalid_0's multi_logloss: 1.09677\n",
            "[250]\tvalid_0's multi_logloss: 1.09669\n",
            "[260]\tvalid_0's multi_logloss: 1.09661\n",
            "[270]\tvalid_0's multi_logloss: 1.09651\n",
            "[280]\tvalid_0's multi_logloss: 1.09645\n",
            "[290]\tvalid_0's multi_logloss: 1.09636\n",
            "[300]\tvalid_0's multi_logloss: 1.09631\n",
            "[310]\tvalid_0's multi_logloss: 1.09625\n",
            "[320]\tvalid_0's multi_logloss: 1.09613\n",
            "[330]\tvalid_0's multi_logloss: 1.09605\n",
            "[340]\tvalid_0's multi_logloss: 1.096\n",
            "[350]\tvalid_0's multi_logloss: 1.09587\n",
            "[360]\tvalid_0's multi_logloss: 1.09587\n",
            "[370]\tvalid_0's multi_logloss: 1.09588\n",
            "[380]\tvalid_0's multi_logloss: 1.09602\n",
            "[390]\tvalid_0's multi_logloss: 1.09603\n",
            "[400]\tvalid_0's multi_logloss: 1.09603\n",
            "Early stopping, best iteration is:\n",
            "[352]\tvalid_0's multi_logloss: 1.09584\n",
            "Fold 6, Valid score = 1.09584\n",
            "Training until validation scores don't improve for 50 rounds.\n",
            "[10]\tvalid_0's multi_logloss: 1.11015\n",
            "[20]\tvalid_0's multi_logloss: 1.10667\n",
            "[30]\tvalid_0's multi_logloss: 1.10429\n",
            "[40]\tvalid_0's multi_logloss: 1.10258\n",
            "[50]\tvalid_0's multi_logloss: 1.10129\n",
            "[60]\tvalid_0's multi_logloss: 1.10029\n",
            "[70]\tvalid_0's multi_logloss: 1.0994\n",
            "[80]\tvalid_0's multi_logloss: 1.09859\n",
            "[90]\tvalid_0's multi_logloss: 1.09792\n",
            "[100]\tvalid_0's multi_logloss: 1.09734\n",
            "[110]\tvalid_0's multi_logloss: 1.09687\n",
            "[120]\tvalid_0's multi_logloss: 1.09638\n",
            "[130]\tvalid_0's multi_logloss: 1.09603\n",
            "[140]\tvalid_0's multi_logloss: 1.09561\n",
            "[150]\tvalid_0's multi_logloss: 1.09539\n",
            "[160]\tvalid_0's multi_logloss: 1.09505\n",
            "[170]\tvalid_0's multi_logloss: 1.09484\n",
            "[180]\tvalid_0's multi_logloss: 1.09472\n",
            "[190]\tvalid_0's multi_logloss: 1.0945\n",
            "[200]\tvalid_0's multi_logloss: 1.09434\n",
            "[210]\tvalid_0's multi_logloss: 1.09433\n",
            "[220]\tvalid_0's multi_logloss: 1.09428\n",
            "[230]\tvalid_0's multi_logloss: 1.09422\n",
            "[240]\tvalid_0's multi_logloss: 1.09411\n",
            "[250]\tvalid_0's multi_logloss: 1.09406\n",
            "[260]\tvalid_0's multi_logloss: 1.09405\n",
            "[270]\tvalid_0's multi_logloss: 1.09401\n",
            "[280]\tvalid_0's multi_logloss: 1.09399\n",
            "[290]\tvalid_0's multi_logloss: 1.09393\n",
            "[300]\tvalid_0's multi_logloss: 1.09386\n",
            "[310]\tvalid_0's multi_logloss: 1.0938\n",
            "[320]\tvalid_0's multi_logloss: 1.09379\n",
            "[330]\tvalid_0's multi_logloss: 1.09376\n",
            "[340]\tvalid_0's multi_logloss: 1.09383\n",
            "[350]\tvalid_0's multi_logloss: 1.09382\n",
            "[360]\tvalid_0's multi_logloss: 1.09376\n",
            "[370]\tvalid_0's multi_logloss: 1.09384\n",
            "[380]\tvalid_0's multi_logloss: 1.09388\n",
            "[390]\tvalid_0's multi_logloss: 1.09388\n",
            "[400]\tvalid_0's multi_logloss: 1.09392\n",
            "Early stopping, best iteration is:\n",
            "[359]\tvalid_0's multi_logloss: 1.09376\n",
            "Fold 7, Valid score = 1.09376\n",
            "Score by each fold: [1.09269, 1.09609, 1.09333, 1.09068, 1.09391, 1.09584, 1.09376]\n",
            "=================================================================\n"
          ],
          "name": "stdout"
        }
      ]
    },
    {
      "cell_type": "code",
      "metadata": {
        "colab": {
          "base_uri": "https://localhost:8080/"
        },
        "id": "I575QOvlRZGh",
        "outputId": "5cd7ee0d-1c2b-4567-9328-17a53f2e107d"
      },
      "source": [
        "print(f\"Out of fold ROC AUC {metrics.log_loss(y_train, lgb_oof)}\")"
      ],
      "execution_count": null,
      "outputs": [
        {
          "output_type": "stream",
          "text": [
            "Out of fold ROC AUC 1.0937572220108407\n"
          ],
          "name": "stdout"
        }
      ]
    },
    {
      "cell_type": "code",
      "metadata": {
        "colab": {
          "base_uri": "https://localhost:8080/"
        },
        "id": "FTWMZ2cwkMjU",
        "outputId": "fe061d8e-6234-48b3-9445-10dd7252cc8b"
      },
      "source": [
        "result = multi_estimators_predict(lgb_estimators, x_valid, y_valid, metrics.log_loss)"
      ],
      "execution_count": null,
      "outputs": [
        {
          "output_type": "stream",
          "text": [
            "Model 0 metric: 1.091996\n",
            "Model 1 metric: 1.092125\n",
            "Model 2 metric: 1.091926\n",
            "Model 3 metric: 1.092687\n",
            "Model 4 metric: 1.092034\n",
            "Model 5 metric: 1.091719\n",
            "Model 6 metric: 1.092089\n",
            "Result model metric: 1.090895\n"
          ],
          "name": "stdout"
        }
      ]
    },
    {
      "cell_type": "code",
      "metadata": {
        "colab": {
          "base_uri": "https://localhost:8080/",
          "height": 1000
        },
        "id": "63CahLUk8myq",
        "outputId": "7d9526ea-ada0-4711-f41b-b1f67520f1ad"
      },
      "source": [
        "top_features = plot_feature_importance(lgb_estimators[0].feature_importances_, x_valid.columns, 'LGB', figsize=(10,20))"
      ],
      "execution_count": null,
      "outputs": [
        {
          "output_type": "display_data",
          "data": {
            "image/png": "[encoded data removed]",
            "text/plain": [
              "<Figure size 720x1440 with 1 Axes>"
            ]
          },
          "metadata": {
            "tags": [],
            "needs_background": "light"
          }
        }
      ]
    },
    {
      "cell_type": "code",
      "metadata": {
        "colab": {
          "base_uri": "https://localhost:8080/",
          "height": 1000
        },
        "id": "98FLkGNE1PCZ",
        "outputId": "5a63ea0c-c9f6-4998-e147-b8eac2209539"
      },
      "source": [
        "importance = permutation_importance(lgb_estimators[0], x_valid, y_valid, scoring='neg_log_loss', n_jobs=6, random_state=27)\n",
        "top_features = plot_feature_importance(importance['importances_mean'], x_valid.columns, 'Permutation', figsize=(10,20))"
      ],
      "execution_count": null,
      "outputs": [
        {
          "output_type": "display_data",
          "data": {
            "image/png": "[encoded data removed]",
            "text/plain": [
              "<Figure size 720x1440 with 1 Axes>"
            ]
          },
          "metadata": {
            "tags": [],
            "needs_background": "light"
          }
        }
      ]
    },
    {
      "cell_type": "code",
      "metadata": {
        "id": "XvA2XBUP9KPh",
        "colab": {
          "base_uri": "https://localhost:8080/",
          "height": 1000
        },
        "outputId": "7e3c4c19-7ed8-4ae8-e54a-10e69a36dc3a"
      },
      "source": [
        "explainer = shap.TreeExplainer(lgb_estimators[0])\n",
        "shap_values = explainer.shap_values(x_valid, y_valid)\n",
        "shap.summary_plot(shap_values, x_valid, plot_type=\"bar\", max_display=x_valid.shape[1])"
      ],
      "execution_count": null,
      "outputs": [
        {
          "output_type": "display_data",
          "data": {
            "image/png": "[encoded data removed]",
            "text/plain": [
              "<Figure size 576x1836 with 1 Axes>"
            ]
          },
          "metadata": {
            "tags": [],
            "needs_background": "light"
          }
        }
      ]
    },
    {
      "cell_type": "code",
      "metadata": {
        "id": "QQqeolRbwf2w"
      },
      "source": [
        "def get_shap_feature_importance_df(shap_values: List, columns: List):\n",
        "  res = 0\n",
        "  for s_values_for_class in shap_values:\n",
        "    res = res + np.abs(s_values_for_class)\n",
        "  res = np.mean(res, axis=0)\n",
        "  res = pd.DataFrame(res)\n",
        "  res['features'] = columns\n",
        "  res.rename(columns={0:'value'}, inplace=True)\n",
        "  res = res.sort_values(by='value', ascending=False)\n",
        "  return res"
      ],
      "execution_count": null,
      "outputs": []
    },
    {
      "cell_type": "code",
      "metadata": {
        "id": "6hfzSj0xx0mE"
      },
      "source": [
        "res = get_shap_feature_importance_df(shap_values, x_valid.columns.to_list())"
      ],
      "execution_count": null,
      "outputs": []
    },
    {
      "cell_type": "code",
      "metadata": {
        "colab": {
          "base_uri": "https://localhost:8080/",
          "height": 197
        },
        "id": "LrPQmOl6x8be",
        "outputId": "da878d3a-15e6-41ad-ac6b-1e4b55f900a3"
      },
      "source": [
        "res.head(5)"
      ],
      "execution_count": null,
      "outputs": [
        {
          "output_type": "execute_result",
          "data": {
            "text/html": [
              "<div>\n",
              "<style scoped>\n",
              "    .dataframe tbody tr th:only-of-type {\n",
              "        vertical-align: middle;\n",
              "    }\n",
              "\n",
              "    .dataframe tbody tr th {\n",
              "        vertical-align: top;\n",
              "    }\n",
              "\n",
              "    .dataframe thead th {\n",
              "        text-align: right;\n",
              "    }\n",
              "</style>\n",
              "<table border=\"1\" class=\"dataframe\">\n",
              "  <thead>\n",
              "    <tr style=\"text-align: right;\">\n",
              "      <th></th>\n",
              "      <th>value</th>\n",
              "      <th>features</th>\n",
              "    </tr>\n",
              "  </thead>\n",
              "  <tbody>\n",
              "    <tr>\n",
              "      <th>52</th>\n",
              "      <td>0.143199</td>\n",
              "      <td>not_nul_features</td>\n",
              "    </tr>\n",
              "    <tr>\n",
              "      <th>50</th>\n",
              "      <td>0.075227</td>\n",
              "      <td>sum</td>\n",
              "    </tr>\n",
              "    <tr>\n",
              "      <th>158</th>\n",
              "      <td>0.052042</td>\n",
              "      <td>feature_2+feature_13</td>\n",
              "    </tr>\n",
              "    <tr>\n",
              "      <th>348</th>\n",
              "      <td>0.046927</td>\n",
              "      <td>feature_6+feature_29</td>\n",
              "    </tr>\n",
              "    <tr>\n",
              "      <th>110</th>\n",
              "      <td>0.040803</td>\n",
              "      <td>feature_1+feature_11</td>\n",
              "    </tr>\n",
              "  </tbody>\n",
              "</table>\n",
              "</div>"
            ],
            "text/plain": [
              "        value              features\n",
              "52   0.143199      not_nul_features\n",
              "50   0.075227                   sum\n",
              "158  0.052042  feature_2+feature_13\n",
              "348  0.046927  feature_6+feature_29\n",
              "110  0.040803  feature_1+feature_11"
            ]
          },
          "metadata": {
            "tags": []
          },
          "execution_count": 95
        }
      ]
    },
    {
      "cell_type": "code",
      "metadata": {
        "id": "KG7YV9DryTP9"
      },
      "source": [
        "top_200 = res['features'].values[:200]"
      ],
      "execution_count": null,
      "outputs": []
    },
    {
      "cell_type": "code",
      "metadata": {
        "id": "JV-wsCdZzMZF"
      },
      "source": [
        "top_200"
      ],
      "execution_count": null,
      "outputs": []
    },
    {
      "cell_type": "markdown",
      "metadata": {
        "id": "_hzgxOhBlKXA"
      },
      "source": [
        "## Random Forest"
      ]
    },
    {
      "cell_type": "code",
      "metadata": {
        "id": "WrQVz8EalNiz"
      },
      "source": [
        "from sklearn.ensemble import RandomForestClassifier"
      ],
      "execution_count": null,
      "outputs": []
    },
    {
      "cell_type": "code",
      "metadata": {
        "id": "8T6eY6wumg-k"
      },
      "source": [
        "rf_model = RandomForestClassifier(max_depth=15, random_state=0, n_estimators=300)\n",
        "rf_model.fit(x_train, y_train)\n",
        "result = rf_model.predict_proba(x_valid)"
      ],
      "execution_count": null,
      "outputs": []
    },
    {
      "cell_type": "code",
      "metadata": {
        "colab": {
          "base_uri": "https://localhost:8080/"
        },
        "id": "EV5unc04mt45",
        "outputId": "3f0275e2-c32a-46e0-ecce-0361f1869bd3"
      },
      "source": [
        "metrics.log_loss(y_valid, result)"
      ],
      "execution_count": null,
      "outputs": [
        {
          "output_type": "execute_result",
          "data": {
            "text/plain": [
              "1.102588665090751"
            ]
          },
          "metadata": {
            "tags": []
          },
          "execution_count": 344
        }
      ]
    },
    {
      "cell_type": "markdown",
      "metadata": {
        "id": "UO1lWXVexKWW"
      },
      "source": [
        "## Получение результата"
      ]
    },
    {
      "cell_type": "markdown",
      "metadata": {
        "id": "_I3y31_xx-Hf"
      },
      "source": [
        "### Линейная модель"
      ]
    },
    {
      "cell_type": "code",
      "metadata": {
        "id": "Vq9cav2Pm4e2"
      },
      "source": [
        "test_st = scaler.transform(test)\n",
        "test_pred = clf.predict_proba(test_st)\n",
        "test_pred_df = pd.DataFrame(test_pred)\n",
        "test_pred_df.rename(columns={0:'class_1',\t1:'class_2',\t2:'class_3',\t3:'class_4'}, inplace=True)\n",
        "result = test.drop(columns = test.columns.to_list()[1:])\n",
        "result = pd.concat([result, test_pred_df], axis=1)\n",
        "result.to_csv('result.csv', index=False)"
      ],
      "execution_count": null,
      "outputs": []
    },
    {
      "cell_type": "markdown",
      "metadata": {
        "id": "OZyWy-xuyC9e"
      },
      "source": [
        "### Бустинг"
      ]
    },
    {
      "cell_type": "code",
      "metadata": {
        "colab": {
          "base_uri": "https://localhost:8080/"
        },
        "id": "MMCWOCgurihU",
        "outputId": "1d1cd89c-22c6-4044-ba11-2e34f0a4d379"
      },
      "source": [
        "data = get_input(\"train.csv\")\n",
        "test = get_input(\"test.csv\")\n",
        "data.drop(columns='id', inplace=True)\n",
        "sample_submission = get_input(\"sample_submission.csv\")\n",
        "\n",
        "data['mean'] = data[data.columns.to_list()[:-1]].mean(axis=1)\n",
        "data['max'] = data[data.columns.to_list()[:-1]].max(axis=1)\n",
        "\n",
        "test['mean'] = test[test.columns.to_list()[1:-1]].mean(axis=1)\n",
        "test['max'] = test[test.columns.to_list()[1:-1]].max(axis=1)\n",
        "\n",
        "mapper = {'Class_1': 1, 'Class_2': 2, 'Class_3': 3, 'Class_4': 4}\n",
        "data['target'] = data['target'].map(mapper)\n",
        "\n",
        "y_train = data['target']\n",
        "x_train = data.drop(columns=['target'])"
      ],
      "execution_count": null,
      "outputs": [
        {
          "output_type": "stream",
          "text": [
            "train.csv: shape = 100000 rows, 52 cols\n",
            "test.csv: shape = 50000 rows, 51 cols\n",
            "sample_submission.csv: shape = 50000 rows, 5 cols\n"
          ],
          "name": "stdout"
        }
      ]
    },
    {
      "cell_type": "code",
      "metadata": {
        "id": "NotgY1Kpr-b2"
      },
      "source": [
        "lgbm_params = {\n",
        "    \"boosting_type \": \"gbdt\",\n",
        "    \"objective\": \"multiclass\",\n",
        "    \"metric\": \"multi_logloss\",\n",
        "    \"learning_rate\": 0.1,\n",
        "    \"num_boost_round \": 1000,\n",
        "    \"reg_lambda\": 100,\n",
        "    \"max_depth\": 5,\n",
        "    \"n_jobs\": -1,\n",
        "    \"seed\": 27,\n",
        "    'device_type': 'cpu',\n",
        "    'num_class': 4,\n",
        "    'random_state': 1\n",
        "}\n",
        "\n",
        "cv = StratifiedKFold(n_splits=7, random_state=435, shuffle=True)\n",
        "\n",
        "\n",
        "lgb_estimators, lgb_oof = lightgbm_cv_fit(\n",
        "    lgbm_params, x_train, y_train, cv\n",
        ")\n",
        "\n",
        "print(f\"Out of fold ROC AUC {metrics.log_loss(y_train, lgb_oof)}\")\n",
        "result = multi_estimators_predict(lgb_estimators, test.drop(columns='id'))\n",
        "test_pred_df = pd.DataFrame(result)\n",
        "test_pred_df.rename(columns={0:'class_1',\t1:'class_2',\t2:'class_3',\t3:'class_4'}, inplace=True)\n",
        "result = test.drop(columns = test.columns.to_list()[1:])\n",
        "result = pd.concat([result, test_pred_df], axis=1)\n",
        "result.to_csv('result.csv', index=False)"
      ],
      "execution_count": null,
      "outputs": []
    },
    {
      "cell_type": "code",
      "metadata": {
        "id": "PWsheYyAOiKl"
      },
      "source": [
        "def greedy_lgbm_categorical_finder(data: pd.DataFrame,\n",
        "                         target: str,\n",
        "                         lgb_params: dict) -> dict:\n",
        "  \"\"\"\n",
        "  Жадный поиск категориальных признаков на основе lightgbm в датасете.\n",
        "\n",
        "  Parameters\n",
        "  ----------\n",
        "  data: pandas.core.frame.DataFrame\n",
        "    Исходный датасет.\n",
        "  \n",
        "  target: str\n",
        "    Название целевой переменной\n",
        "  \n",
        "  lgb_params: dict\n",
        "    Параметры модели lightgbm\n",
        "\n",
        "  Returns\n",
        "  -------\n",
        "  result: dict\n",
        "    Значения качества модели при выборе данного признака категориальным.\n",
        "  \"\"\"\n",
        "\n",
        "  result = {}\n",
        "\n",
        "  train, valid = train_test_split(\n",
        "    data, train_size=0.7, shuffle=True, random_state=1,\n",
        "  )\n",
        "\n",
        "  y_train = train[target]\n",
        "  x_train = train.drop(columns=target)\n",
        "  y_valid = valid[target]\n",
        "  x_valid = valid.drop(columns=target)\n",
        "\n",
        "  lgb_train = lgb.Dataset(x_train, y_train)\n",
        "  lgb_eval = lgb.Dataset(x_valid, y_valid)\n",
        "\n",
        "  model_lgbm =  lgb.train(lgb_params,\n",
        "                lgb_train,\n",
        "                valid_sets=lgb_eval,\n",
        "                verbose_eval=False, \n",
        "                num_boost_round=10000,\n",
        "                early_stopping_rounds=100)\n",
        "\n",
        "  result['initial'] = model_lgbm.best_score['valid_0']['multi_logloss']\n",
        "                       #'best iteration': model_lgbm.best_iteration_}\n",
        "  \n",
        "  print(\"=\"*50)\n",
        "  print(f\"Initial dataset: best score {model_lgbm.best_score['valid_0']['multi_logloss']}, best iteration {model_lgbm.best_iteration}\")\n",
        "  print(\"=\"*50)\n",
        "\n",
        "  features = x_train.columns.to_list()\n",
        "  \n",
        "  for feature in features:\n",
        "    categorical_feature_names = []\n",
        "    y_train = train[target]\n",
        "    x_train = train.drop(columns=target)\n",
        "    y_valid = valid[target]\n",
        "    x_valid = valid.drop(columns=target)\n",
        "    \n",
        "    x_train[feature] = pd.Series(x_train[feature], dtype=\"category\")\n",
        "    x_valid[feature] = pd.Series(x_valid[feature], dtype=\"category\")\n",
        "    lgb_train = lgb.Dataset(x_train, y_train)\n",
        "    lgb_eval = lgb.Dataset(x_valid, y_valid)\n",
        "    categorical_feature_names.append(feature)\n",
        "\n",
        "\n",
        "    model_lgbm =  lgb.train(lgbm_params,\n",
        "                  lgb_train,\n",
        "                  valid_sets=lgb_eval,\n",
        "                  verbose_eval=False, \n",
        "                  categorical_feature=categorical_feature_names,\n",
        "                  num_boost_round=10000,\n",
        "                  early_stopping_rounds=100)\n",
        "\n",
        "\n",
        "    print(f\"Cat feature {feature}: best score {model_lgbm.best_score['valid_0']['multi_logloss']}, best iteration {model_lgbm.best_iteration}\")\n",
        "    result[f'Cat feature {feature}'] = model_lgbm.best_score['valid_0']['multi_logloss']\n",
        "\n",
        "  return result"
      ],
      "execution_count": null,
      "outputs": []
    },
    {
      "cell_type": "code",
      "metadata": {
        "id": "t9il9vkXY36s"
      },
      "source": [
        "greedy_lgbm_categorical_finder(data, 'target', lgbm_params)"
      ],
      "execution_count": null,
      "outputs": []
    },
    {
      "cell_type": "markdown",
      "metadata": {
        "id": "T4pc2-lbY4ko"
      },
      "source": [
        "Если каждый признак по очереди сделать категориальным, то точность уменьшится"
      ]
    },
    {
      "cell_type": "code",
      "metadata": {
        "id": "wnFoJOL2ZBmE"
      },
      "source": [
        ""
      ],
      "execution_count": null,
      "outputs": []
    }
  ]
}