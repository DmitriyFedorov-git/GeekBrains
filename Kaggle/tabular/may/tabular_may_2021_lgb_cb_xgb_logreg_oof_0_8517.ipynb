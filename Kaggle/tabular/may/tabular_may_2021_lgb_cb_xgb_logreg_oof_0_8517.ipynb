{
  "nbformat": 4,
  "nbformat_minor": 0,
  "metadata": {
    "colab": {
      "name": "tabular_may_2021_lgb_cb_xgb_logreg_oof_0_8517.ipynb",
      "provenance": [],
      "collapsed_sections": [],
      "toc_visible": true
    },
    "kernelspec": {
      "name": "python3",
      "display_name": "Python 3"
    },
    "language_info": {
      "name": "python"
    },
    "accelerator": "GPU"
  },
  "cells": [
    {
      "cell_type": "markdown",
      "metadata": {
        "id": "L2cae_sruzTj"
      },
      "source": [
        "## Загрузка данных и подключение библиотек"
      ]
    },
    {
      "cell_type": "code",
      "metadata": {
        "id": "CN9ljFaEm7ic",
        "colab": {
          "base_uri": "https://localhost:8080/"
        },
        "outputId": "2f62d981-17d5-485f-86e7-353fd357782f"
      },
      "source": [
        "!pip install -q kaggle\n",
        "!mkdir -p ~/.kaggle\n",
        "!cp kaggle.json ~/.kaggle/\n",
        "!ls ~/.kaggle\n",
        "!chmod 600 /root/.kaggle/kaggle.json\n",
        "!kaggle competitions download -c tabular-playground-series-may-2021\n",
        "!pip install catboost\n",
        "!pip install eli5\n",
        "!pip install optuna\n",
        "!pip install shap\n",
        "!pip install scikit-learn-extra\n",
        "!unzip /content/test.csv.zip\n",
        "!unzip /content/train.csv.zip\n",
        "!unzip /content/sample_submission.csv.zip"
      ],
      "execution_count": 1,
      "outputs": [
        {
          "output_type": "stream",
          "text": [
            "kaggle.json\n",
            "Warning: Looks like you're using an outdated API Version, please consider updating (server 1.5.12 / client 1.5.4)\n",
            "Downloading train.csv.zip to /content\n",
            "  0% 0.00/1.72M [00:00<?, ?B/s]\n",
            "100% 1.72M/1.72M [00:00<00:00, 119MB/s]\n",
            "Downloading test.csv.zip to /content\n",
            "  0% 0.00/851k [00:00<?, ?B/s]\n",
            "100% 851k/851k [00:00<00:00, 115MB/s]\n",
            "Downloading sample_submission.csv.zip to /content\n",
            "  0% 0.00/128k [00:00<?, ?B/s]\n",
            "100% 128k/128k [00:00<00:00, 108MB/s]\n",
            "Collecting catboost\n",
            "\u001b[?25l  Downloading https://files.pythonhosted.org/packages/47/80/8e9c57ec32dfed6ba2922bc5c96462cbf8596ce1a6f5de532ad1e43e53fe/catboost-0.25.1-cp37-none-manylinux1_x86_64.whl (67.3MB)\n",
            "\u001b[K     |████████████████████████████████| 67.3MB 45kB/s \n",
            "\u001b[?25hRequirement already satisfied: graphviz in /usr/local/lib/python3.7/dist-packages (from catboost) (0.10.1)\n",
            "Requirement already satisfied: pandas>=0.24.0 in /usr/local/lib/python3.7/dist-packages (from catboost) (1.1.5)\n",
            "Requirement already satisfied: plotly in /usr/local/lib/python3.7/dist-packages (from catboost) (4.4.1)\n",
            "Requirement already satisfied: numpy>=1.16.0 in /usr/local/lib/python3.7/dist-packages (from catboost) (1.19.5)\n",
            "Requirement already satisfied: six in /usr/local/lib/python3.7/dist-packages (from catboost) (1.15.0)\n",
            "Requirement already satisfied: scipy in /usr/local/lib/python3.7/dist-packages (from catboost) (1.4.1)\n",
            "Requirement already satisfied: matplotlib in /usr/local/lib/python3.7/dist-packages (from catboost) (3.2.2)\n",
            "Requirement already satisfied: pytz>=2017.2 in /usr/local/lib/python3.7/dist-packages (from pandas>=0.24.0->catboost) (2018.9)\n",
            "Requirement already satisfied: python-dateutil>=2.7.3 in /usr/local/lib/python3.7/dist-packages (from pandas>=0.24.0->catboost) (2.8.1)\n",
            "Requirement already satisfied: retrying>=1.3.3 in /usr/local/lib/python3.7/dist-packages (from plotly->catboost) (1.3.3)\n",
            "Requirement already satisfied: pyparsing!=2.0.4,!=2.1.2,!=2.1.6,>=2.0.1 in /usr/local/lib/python3.7/dist-packages (from matplotlib->catboost) (2.4.7)\n",
            "Requirement already satisfied: kiwisolver>=1.0.1 in /usr/local/lib/python3.7/dist-packages (from matplotlib->catboost) (1.3.1)\n",
            "Requirement already satisfied: cycler>=0.10 in /usr/local/lib/python3.7/dist-packages (from matplotlib->catboost) (0.10.0)\n",
            "Installing collected packages: catboost\n",
            "Successfully installed catboost-0.25.1\n",
            "Collecting eli5\n",
            "\u001b[?25l  Downloading https://files.pythonhosted.org/packages/d1/54/04cab6e1c0ae535bec93f795d8403fdf6caf66fa5a6512263202dbb14ea6/eli5-0.11.0-py2.py3-none-any.whl (106kB)\n",
            "\u001b[K     |████████████████████████████████| 112kB 7.6MB/s \n",
            "\u001b[?25hRequirement already satisfied: tabulate>=0.7.7 in /usr/local/lib/python3.7/dist-packages (from eli5) (0.8.9)\n",
            "Requirement already satisfied: numpy>=1.9.0 in /usr/local/lib/python3.7/dist-packages (from eli5) (1.19.5)\n",
            "Requirement already satisfied: scikit-learn>=0.20 in /usr/local/lib/python3.7/dist-packages (from eli5) (0.22.2.post1)\n",
            "Requirement already satisfied: six in /usr/local/lib/python3.7/dist-packages (from eli5) (1.15.0)\n",
            "Requirement already satisfied: attrs>16.0.0 in /usr/local/lib/python3.7/dist-packages (from eli5) (21.2.0)\n",
            "Requirement already satisfied: graphviz in /usr/local/lib/python3.7/dist-packages (from eli5) (0.10.1)\n",
            "Requirement already satisfied: scipy in /usr/local/lib/python3.7/dist-packages (from eli5) (1.4.1)\n",
            "Requirement already satisfied: jinja2 in /usr/local/lib/python3.7/dist-packages (from eli5) (2.11.3)\n",
            "Requirement already satisfied: joblib>=0.11 in /usr/local/lib/python3.7/dist-packages (from scikit-learn>=0.20->eli5) (1.0.1)\n",
            "Requirement already satisfied: MarkupSafe>=0.23 in /usr/local/lib/python3.7/dist-packages (from jinja2->eli5) (2.0.1)\n",
            "Installing collected packages: eli5\n",
            "Successfully installed eli5-0.11.0\n",
            "Collecting optuna\n",
            "\u001b[?25l  Downloading https://files.pythonhosted.org/packages/2b/21/d13081805e1e1afc71f5bb743ece324c8bd576237c51b899ecb38a717502/optuna-2.7.0-py3-none-any.whl (293kB)\n",
            "\u001b[K     |████████████████████████████████| 296kB 10.9MB/s \n",
            "\u001b[?25hCollecting cmaes>=0.8.2\n",
            "  Downloading https://files.pythonhosted.org/packages/01/1f/43b01223a0366171f474320c6e966c39a11587287f098a5f09809b45e05f/cmaes-0.8.2-py3-none-any.whl\n",
            "Collecting alembic\n",
            "\u001b[?25l  Downloading https://files.pythonhosted.org/packages/eb/bd/c3486fd57a3eec5162a2e32e8f05880c990f0d92b03d268342d2e8fe7032/alembic-1.6.4-py2.py3-none-any.whl (164kB)\n",
            "\u001b[K     |████████████████████████████████| 174kB 51.9MB/s \n",
            "\u001b[?25hRequirement already satisfied: scipy!=1.4.0 in /usr/local/lib/python3.7/dist-packages (from optuna) (1.4.1)\n",
            "Requirement already satisfied: tqdm in /usr/local/lib/python3.7/dist-packages (from optuna) (4.41.1)\n",
            "Requirement already satisfied: numpy in /usr/local/lib/python3.7/dist-packages (from optuna) (1.19.5)\n",
            "Requirement already satisfied: packaging>=20.0 in /usr/local/lib/python3.7/dist-packages (from optuna) (20.9)\n",
            "Collecting colorlog\n",
            "  Downloading https://files.pythonhosted.org/packages/32/e6/e9ddc6fa1104fda718338b341e4b3dc31cd8039ab29e52fc73b508515361/colorlog-5.0.1-py2.py3-none-any.whl\n",
            "Requirement already satisfied: sqlalchemy>=1.1.0 in /usr/local/lib/python3.7/dist-packages (from optuna) (1.4.15)\n",
            "Collecting cliff\n",
            "\u001b[?25l  Downloading https://files.pythonhosted.org/packages/a2/d6/7d9acb68a77acd140be7fececb7f2701b2a29d2da9c54184cb8f93509590/cliff-3.7.0-py3-none-any.whl (80kB)\n",
            "\u001b[K     |████████████████████████████████| 81kB 12.1MB/s \n",
            "\u001b[?25hCollecting python-editor>=0.3\n",
            "  Downloading https://files.pythonhosted.org/packages/c6/d3/201fc3abe391bbae6606e6f1d598c15d367033332bd54352b12f35513717/python_editor-1.0.4-py3-none-any.whl\n",
            "Requirement already satisfied: python-dateutil in /usr/local/lib/python3.7/dist-packages (from alembic->optuna) (2.8.1)\n",
            "Collecting Mako\n",
            "\u001b[?25l  Downloading https://files.pythonhosted.org/packages/f3/54/dbc07fbb20865d3b78fdb7cf7fa713e2cba4f87f71100074ef2dc9f9d1f7/Mako-1.1.4-py2.py3-none-any.whl (75kB)\n",
            "\u001b[K     |████████████████████████████████| 81kB 12.7MB/s \n",
            "\u001b[?25hRequirement already satisfied: pyparsing>=2.0.2 in /usr/local/lib/python3.7/dist-packages (from packaging>=20.0->optuna) (2.4.7)\n",
            "Requirement already satisfied: greenlet!=0.4.17; python_version >= \"3\" in /usr/local/lib/python3.7/dist-packages (from sqlalchemy>=1.1.0->optuna) (1.1.0)\n",
            "Requirement already satisfied: importlib-metadata; python_version < \"3.8\" in /usr/local/lib/python3.7/dist-packages (from sqlalchemy>=1.1.0->optuna) (4.0.1)\n",
            "Collecting cmd2>=1.0.0\n",
            "\u001b[?25l  Downloading https://files.pythonhosted.org/packages/15/8b/15061b32332bb35ea2a2f6263d0f616779d576e82739ec8e7fcf3c94abf5/cmd2-1.5.0-py3-none-any.whl (133kB)\n",
            "\u001b[K     |████████████████████████████████| 143kB 57.1MB/s \n",
            "\u001b[?25hRequirement already satisfied: PrettyTable>=0.7.2 in /usr/local/lib/python3.7/dist-packages (from cliff->optuna) (2.1.0)\n",
            "Collecting pbr!=2.1.0,>=2.0.0\n",
            "\u001b[?25l  Downloading https://files.pythonhosted.org/packages/18/e0/1d4702dd81121d04a477c272d47ee5b6bc970d1a0990b11befa275c55cf2/pbr-5.6.0-py2.py3-none-any.whl (111kB)\n",
            "\u001b[K     |████████████████████████████████| 112kB 52.6MB/s \n",
            "\u001b[?25hCollecting stevedore>=2.0.1\n",
            "\u001b[?25l  Downloading https://files.pythonhosted.org/packages/d4/49/b602307aeac3df3384ff1fcd05da9c0376c622a6c48bb5325f28ab165b57/stevedore-3.3.0-py3-none-any.whl (49kB)\n",
            "\u001b[K     |████████████████████████████████| 51kB 8.1MB/s \n",
            "\u001b[?25hRequirement already satisfied: PyYAML>=3.12 in /usr/local/lib/python3.7/dist-packages (from cliff->optuna) (3.13)\n",
            "Requirement already satisfied: six>=1.5 in /usr/local/lib/python3.7/dist-packages (from python-dateutil->alembic->optuna) (1.15.0)\n",
            "Requirement already satisfied: MarkupSafe>=0.9.2 in /usr/local/lib/python3.7/dist-packages (from Mako->alembic->optuna) (2.0.1)\n",
            "Requirement already satisfied: typing-extensions>=3.6.4; python_version < \"3.8\" in /usr/local/lib/python3.7/dist-packages (from importlib-metadata; python_version < \"3.8\"->sqlalchemy>=1.1.0->optuna) (3.7.4.3)\n",
            "Requirement already satisfied: zipp>=0.5 in /usr/local/lib/python3.7/dist-packages (from importlib-metadata; python_version < \"3.8\"->sqlalchemy>=1.1.0->optuna) (3.4.1)\n",
            "Collecting pyperclip>=1.6\n",
            "  Downloading https://files.pythonhosted.org/packages/a7/2c/4c64579f847bd5d539803c8b909e54ba087a79d01bb3aba433a95879a6c5/pyperclip-1.8.2.tar.gz\n",
            "Requirement already satisfied: attrs>=16.3.0 in /usr/local/lib/python3.7/dist-packages (from cmd2>=1.0.0->cliff->optuna) (21.2.0)\n",
            "Collecting colorama>=0.3.7\n",
            "  Downloading https://files.pythonhosted.org/packages/44/98/5b86278fbbf250d239ae0ecb724f8572af1c91f4a11edf4d36a206189440/colorama-0.4.4-py2.py3-none-any.whl\n",
            "Requirement already satisfied: wcwidth>=0.1.7 in /usr/local/lib/python3.7/dist-packages (from cmd2>=1.0.0->cliff->optuna) (0.2.5)\n",
            "Building wheels for collected packages: pyperclip\n",
            "  Building wheel for pyperclip (setup.py) ... \u001b[?25l\u001b[?25hdone\n",
            "  Created wheel for pyperclip: filename=pyperclip-1.8.2-cp37-none-any.whl size=11107 sha256=7ae32aa6d0d8757e84e28b56991e537856f7cdb4bea06ad87dc2d779cdff9895\n",
            "  Stored in directory: /root/.cache/pip/wheels/25/af/b8/3407109267803f4015e1ee2ff23be0c8c19ce4008665931ee1\n",
            "Successfully built pyperclip\n",
            "Installing collected packages: cmaes, python-editor, Mako, alembic, colorlog, pyperclip, colorama, cmd2, pbr, stevedore, cliff, optuna\n",
            "Successfully installed Mako-1.1.4 alembic-1.6.4 cliff-3.7.0 cmaes-0.8.2 cmd2-1.5.0 colorama-0.4.4 colorlog-5.0.1 optuna-2.7.0 pbr-5.6.0 pyperclip-1.8.2 python-editor-1.0.4 stevedore-3.3.0\n",
            "Collecting shap\n",
            "\u001b[?25l  Downloading https://files.pythonhosted.org/packages/b9/f4/c5b95cddae15be80f8e58b25edceca105aa83c0b8c86a1edad24a6af80d3/shap-0.39.0.tar.gz (356kB)\n",
            "\u001b[K     |████████████████████████████████| 358kB 7.8MB/s \n",
            "\u001b[?25hRequirement already satisfied: numpy in /usr/local/lib/python3.7/dist-packages (from shap) (1.19.5)\n",
            "Requirement already satisfied: scipy in /usr/local/lib/python3.7/dist-packages (from shap) (1.4.1)\n",
            "Requirement already satisfied: scikit-learn in /usr/local/lib/python3.7/dist-packages (from shap) (0.22.2.post1)\n",
            "Requirement already satisfied: pandas in /usr/local/lib/python3.7/dist-packages (from shap) (1.1.5)\n",
            "Requirement already satisfied: tqdm>4.25.0 in /usr/local/lib/python3.7/dist-packages (from shap) (4.41.1)\n",
            "Collecting slicer==0.0.7\n",
            "  Downloading https://files.pythonhosted.org/packages/78/c2/b3f55dfdb8af9812fdb9baf70cacf3b9e82e505b2bd4324d588888b81202/slicer-0.0.7-py3-none-any.whl\n",
            "Requirement already satisfied: numba in /usr/local/lib/python3.7/dist-packages (from shap) (0.51.2)\n",
            "Requirement already satisfied: cloudpickle in /usr/local/lib/python3.7/dist-packages (from shap) (1.3.0)\n",
            "Requirement already satisfied: joblib>=0.11 in /usr/local/lib/python3.7/dist-packages (from scikit-learn->shap) (1.0.1)\n",
            "Requirement already satisfied: pytz>=2017.2 in /usr/local/lib/python3.7/dist-packages (from pandas->shap) (2018.9)\n",
            "Requirement already satisfied: python-dateutil>=2.7.3 in /usr/local/lib/python3.7/dist-packages (from pandas->shap) (2.8.1)\n",
            "Requirement already satisfied: llvmlite<0.35,>=0.34.0.dev0 in /usr/local/lib/python3.7/dist-packages (from numba->shap) (0.34.0)\n",
            "Requirement already satisfied: setuptools in /usr/local/lib/python3.7/dist-packages (from numba->shap) (56.1.0)\n",
            "Requirement already satisfied: six>=1.5 in /usr/local/lib/python3.7/dist-packages (from python-dateutil>=2.7.3->pandas->shap) (1.15.0)\n",
            "Building wheels for collected packages: shap\n",
            "  Building wheel for shap (setup.py) ... \u001b[?25l\u001b[?25hdone\n",
            "  Created wheel for shap: filename=shap-0.39.0-cp37-cp37m-linux_x86_64.whl size=491627 sha256=e46b4e88ab301c3aa6ed04890d4f706815d7254c1ef7242567e74dc9c71b3fd3\n",
            "  Stored in directory: /root/.cache/pip/wheels/15/27/f5/a8ab9da52fd159aae6477b5ede6eaaec69fd130fa0fa59f283\n",
            "Successfully built shap\n",
            "Installing collected packages: slicer, shap\n",
            "Successfully installed shap-0.39.0 slicer-0.0.7\n",
            "Collecting scikit-learn-extra\n",
            "\u001b[?25l  Downloading https://files.pythonhosted.org/packages/82/1e/79cd1a2b60a6cd6a7a9c4719f947e264ae391644adce3ddecf73afd5233d/scikit_learn_extra-0.2.0-cp37-cp37m-manylinux2010_x86_64.whl (1.7MB)\n",
            "\u001b[K     |████████████████████████████████| 1.7MB 7.3MB/s \n",
            "\u001b[?25hCollecting scikit-learn>=0.23.0\n",
            "\u001b[?25l  Downloading https://files.pythonhosted.org/packages/a8/eb/a48f25c967526b66d5f1fa7a984594f0bf0a5afafa94a8c4dbc317744620/scikit_learn-0.24.2-cp37-cp37m-manylinux2010_x86_64.whl (22.3MB)\n",
            "\u001b[K     |████████████████████████████████| 22.3MB 5.7MB/s \n",
            "\u001b[?25hRequirement already satisfied: scipy>=0.19.1 in /usr/local/lib/python3.7/dist-packages (from scikit-learn-extra) (1.4.1)\n",
            "Requirement already satisfied: numpy>=1.13.3 in /usr/local/lib/python3.7/dist-packages (from scikit-learn-extra) (1.19.5)\n",
            "Collecting threadpoolctl>=2.0.0\n",
            "  Downloading https://files.pythonhosted.org/packages/f7/12/ec3f2e203afa394a149911729357aa48affc59c20e2c1c8297a60f33f133/threadpoolctl-2.1.0-py3-none-any.whl\n",
            "Requirement already satisfied: joblib>=0.11 in /usr/local/lib/python3.7/dist-packages (from scikit-learn>=0.23.0->scikit-learn-extra) (1.0.1)\n",
            "Installing collected packages: threadpoolctl, scikit-learn, scikit-learn-extra\n",
            "  Found existing installation: scikit-learn 0.22.2.post1\n",
            "    Uninstalling scikit-learn-0.22.2.post1:\n",
            "      Successfully uninstalled scikit-learn-0.22.2.post1\n",
            "Successfully installed scikit-learn-0.24.2 scikit-learn-extra-0.2.0 threadpoolctl-2.1.0\n",
            "Archive:  /content/test.csv.zip\n",
            "  inflating: test.csv                \n",
            "Archive:  /content/train.csv.zip\n",
            "  inflating: train.csv               \n",
            "Archive:  /content/sample_submission.csv.zip\n",
            "  inflating: sample_submission.csv   \n"
          ],
          "name": "stdout"
        }
      ]
    },
    {
      "cell_type": "code",
      "metadata": {
        "id": "SPCPef-moIJc"
      },
      "source": [
        "import pandas as pd\n",
        "import seaborn as sns\n",
        "import numpy as np\n",
        "import catboost as cb\n",
        "import sklearn\n",
        "import xgboost as xgb\n",
        "from sklearn.model_selection import train_test_split, RepeatedKFold\n",
        "from sklearn.metrics import roc_auc_score\n",
        "import matplotlib.pyplot as plt\n",
        "from sklearn import metrics\n",
        "from sklearn.decomposition import PCA, FactorAnalysis as FA\n",
        "from typing import List, Optional\n",
        "from sklearn.model_selection import KFold, cross_val_score, StratifiedKFold, train_test_split\n",
        "from typing import List, Tuple\n",
        "import scipy.stats as ss\n",
        "from sklearn_extra.cluster import KMedoids\n",
        "import math\n",
        "from sklearn.utils.validation import check_is_fitted\n",
        "import eli5\n",
        "from sklearn.base import BaseEstimator, TransformerMixin\n",
        "import time\n",
        "from sklearn.cluster import KMeans\n",
        "from sklearn.metrics import confusion_matrix\n",
        "from sklearn.inspection import permutation_importance\n",
        "from sklearn.linear_model import SGDClassifier\n",
        "from sklearn.preprocessing import StandardScaler\n",
        "from sklearn.linear_model import LogisticRegression\n",
        "import lightgbm as lgb\n",
        "import shap\n",
        "import missingno as msno\n",
        "from sklearn.inspection import permutation_importance\n",
        "from eli5.sklearn import PermutationImportance\n",
        "import optuna\n",
        "from sklearn.metrics import log_loss\n",
        "pd.plotting.register_matplotlib_converters()\n",
        "%matplotlib inline\n",
        "sns.set(color_codes=True)\n",
        "pal = sns.color_palette(\"viridis\", 10)\n",
        "sns.set_palette(pal)"
      ],
      "execution_count": 1,
      "outputs": []
    },
    {
      "cell_type": "markdown",
      "metadata": {
        "id": "vRDV-RIau5xK"
      },
      "source": [
        "## Используемые функции"
      ]
    },
    {
      "cell_type": "code",
      "metadata": {
        "id": "t1a1WAM6n7Sw"
      },
      "source": [
        "def get_input(data_path: str) -> pd.DataFrame:\n",
        "  \"\"\"\n",
        "  Считывание данных и вывод основной информации о наборе данных.\n",
        "\n",
        "  Parmeters\n",
        "  ---------\n",
        "  data_path: str - название файла\n",
        "\n",
        "  Returns\n",
        "  -------\n",
        "  data: pandas.core.frame.DataFrame - загруженный набор данных в pandas.Dataframe\n",
        "  \"\"\"\n",
        "  base_path = \"/content\"\n",
        "  data = pd.read_csv(f\"{base_path}/{data_path}\")\n",
        "  data.columns = [col.lower() for col in data.columns]\n",
        "  print(f\"{data_path}: shape = {data.shape[0]} rows, {data.shape[1]} cols\")\n",
        "  return data"
      ],
      "execution_count": 2,
      "outputs": []
    },
    {
      "cell_type": "code",
      "metadata": {
        "id": "8xYi4Bx2oK4D"
      },
      "source": [
        "def plot_feature_importance(importance, names, model_type, figsize=(10,8)):\n",
        "\n",
        "  #Create arrays from feature importance and feature names\n",
        "  feature_importance = np.array(importance)\n",
        "  feature_names = np.array(names)\n",
        "\n",
        "  #Create a DataFrame using a Dictionary\n",
        "  data={'feature_names':feature_names,'feature_importance':feature_importance}\n",
        "  fi_df = pd.DataFrame(data)\n",
        "\n",
        "  #Sort the DataFrame in order decreasing feature importance\n",
        "  fi_df.sort_values(by=['feature_importance'], ascending=False,inplace=True)\n",
        "\n",
        "  #Define size of bar plot\n",
        "  plt.figure(figsize=figsize)\n",
        "  #Plot Searborn bar chart\n",
        "  sns.barplot(x=fi_df['feature_importance'], y=fi_df['feature_names'])\n",
        "  #Add chart labels\n",
        "  plt.title(model_type + ' FEATURE IMPORTANCE')\n",
        "  plt.xlabel('FEATURE IMPORTANCE')\n",
        "  plt.ylabel('FEATURE NAMES')\n",
        "  return list(fi_df['feature_names'].values)"
      ],
      "execution_count": 3,
      "outputs": []
    },
    {
      "cell_type": "code",
      "metadata": {
        "id": "ZI6_REOZ0DSo"
      },
      "source": [
        "def multi_estimators_predict(estimators: List,\n",
        "                             x_valid: pd.DataFrame,\n",
        "                             y_valid = None,\n",
        "                             metric: callable = None,\n",
        "                             scalers: List = None):\n",
        "  preds = []\n",
        "  evals = []\n",
        "  if scalers:\n",
        "    assert len(estimators) == len(scalers)\n",
        "\n",
        "  for i in range(len(estimators)):\n",
        "    if scalers:\n",
        "      pred = estimators[i].predict_proba(scalers[i].transform(x_valid))\n",
        "    else:\n",
        "      if type(estimators[0]) == xgb.core.Booster:\n",
        "        pred = estimators[i].predict(x_valid)\n",
        "      else:\n",
        "        pred = estimators[i].predict_proba(x_valid)\n",
        "\n",
        "    \n",
        "    preds.append(pred)\n",
        "    if (y_valid is not None) and (metric is not None):\n",
        "      eval = metric(y_valid, pred)\n",
        "      evals.append(eval)\n",
        "  \n",
        "  result = np.stack([preds], axis=0)\n",
        "  result = np.squeeze(result, axis=0)\n",
        "  result = np.mean(result, axis=0)\n",
        "\n",
        "  if (y_valid is not None) & (metric is not None):\n",
        "    for i, eval in enumerate(evals):\n",
        "      print(f\"Model {i} metric: {eval:.7}\")\n",
        "    print(f\"Result model metric: {metric(y_valid, result):.7}\")\n",
        "\n",
        "  return result"
      ],
      "execution_count": 4,
      "outputs": []
    },
    {
      "cell_type": "code",
      "metadata": {
        "id": "kZ0MHZjR0-mQ"
      },
      "source": [
        "def logistic_cv_fit(params, X, y, cv, scale=False):\n",
        "    \"\"\"\n",
        "    Кросс-валидация для модели LogisticRegression.\n",
        "\n",
        "    Parameters\n",
        "    ----------\n",
        "    params: dict\n",
        "        Словарь гиперпараметров модели.\n",
        "\n",
        "    X: pandas.core.frame.DataFrame\n",
        "        Матрица признаков для обучения модели.\n",
        "\n",
        "    y: pandas.core.frame.Series\n",
        "        Вектор целевой переменной для обучения модели.\n",
        "\n",
        "    cv: KFold or StratifiedKFold generator.\n",
        "        Объект KFold / StratifiedKFold для определения\n",
        "        стратегии кросс-валидации модели.\n",
        "\n",
        "    Returns\n",
        "    -------\n",
        "    estimators: list\n",
        "        Список с объектами обученной модели.\n",
        "\n",
        "    oof_preds: np.array\n",
        "        Вектор OOF-прогнозов.\n",
        "\n",
        "    \"\"\"\n",
        "\n",
        "    estimators, folds_scores, scalers = [], [], []\n",
        "    oof_preds = np.zeros((X.shape[0], 4))\n",
        "    print(f\"{time.ctime()}, Cross-Validation, {X.shape[0]} rows, {X.shape[1]} cols\")\n",
        "\n",
        "    for fold, (train_idx, valid_idx) in enumerate(cv.split(X, y)):\n",
        "        x_train, x_valid = X.loc[train_idx], X.loc[valid_idx]\n",
        "        y_train, y_valid = y[train_idx], y[valid_idx]\n",
        "        if scale:\n",
        "          scaler = StandardScaler()\n",
        "          x_train = scaler.fit_transform(x_train)\n",
        "          x_valid = scaler.transform(x_valid)\n",
        "        model = LogisticRegression(**params)\n",
        "        model.fit(x_train, y_train)\n",
        "        oof_preds[valid_idx] = model.predict_proba(x_valid)\n",
        "        score = metrics.log_loss(y_valid, oof_preds[valid_idx])\n",
        "        print(f\"Fold {fold+1}, Valid score = {round(score, 5)}\")\n",
        "        folds_scores.append(round(score, 5))\n",
        "        estimators.append(model)\n",
        "        if scale:\n",
        "          scalers.append(scaler)\n",
        "\n",
        "    print(f\"Score by each fold: {folds_scores}\")\n",
        "    print(\"=\"*65)\n",
        "    return estimators, oof_preds, scalers"
      ],
      "execution_count": 5,
      "outputs": []
    },
    {
      "cell_type": "code",
      "metadata": {
        "id": "axVSJLl4_APy"
      },
      "source": [
        "def catboost_cv_fit(params, X, y, cv, categorical = None):\n",
        "    \"\"\"\n",
        "    Кросс-валидация для модели catboost.\n",
        "\n",
        "    Parameters\n",
        "    ----------\n",
        "    params: dict\n",
        "        Словарь гиперпараметров модели.\n",
        "\n",
        "    X: pandas.core.frame.DataFrame\n",
        "        Матрица признако для обучения модели.\n",
        "\n",
        "    y: pandas.core.frame.Series\n",
        "        Вектор целевой переменной для обучения модели.\n",
        "\n",
        "    cv: KFold or StratifiedKFold generator.\n",
        "        Объект KFold / StratifiedKFold для определения\n",
        "        стратегии кросс-валидации модели.\n",
        "\n",
        "    categorical: str, optional, default = None\n",
        "        Список категориальных признаков.\n",
        "        Опциональный параметр, по умолчанию, не используется.\n",
        "\n",
        "    Returns\n",
        "    -------\n",
        "    estimators: list\n",
        "        Список с объектами обученной модели.\n",
        "\n",
        "    oof_preds: np.array\n",
        "        Вектор OOF-прогнозов.\n",
        "\n",
        "    \"\"\"\n",
        "    if not categorical:\n",
        "        categorical = \"auto\"\n",
        "\n",
        "    estimators, folds_scores = [], []\n",
        "    oof_preds = np.zeros((X.shape[0], 4))\n",
        "    print(f\"{time.ctime()}, Cross-Validation, {X.shape[0]} rows, {X.shape[1]} cols\")\n",
        "\n",
        "    for fold, (train_idx, valid_idx) in enumerate(cv.split(X, y)):\n",
        "        x_train, x_valid = X.loc[train_idx], X.loc[valid_idx]\n",
        "        y_train, y_valid = y[train_idx], y[valid_idx]\n",
        "\n",
        "        model = cb.CatBoostClassifier(**params)\n",
        "        model.fit(\n",
        "            x_train, y_train,\n",
        "            #eval_set=[(x_valid, y_valid)], \n",
        "            verbose=10, \n",
        "            #early_stopping_rounds=100,\n",
        "            #cat_features=categorical\n",
        "        )\n",
        "        oof_preds[valid_idx] = model.predict_proba(x_valid)\n",
        "        score = metrics.log_loss(y_valid, oof_preds[valid_idx])\n",
        "        print(f\"Fold {fold+1}, Valid score = {round(score, 5)}\")\n",
        "        folds_scores.append(round(score, 5))\n",
        "        estimators.append(model)\n",
        "\n",
        "    print(f\"Score by each fold: {folds_scores}\")\n",
        "    print(\"=\"*65)\n",
        "    return estimators, oof_preds"
      ],
      "execution_count": 6,
      "outputs": []
    },
    {
      "cell_type": "code",
      "metadata": {
        "id": "kl1i1-0p_DYE"
      },
      "source": [
        "def lightgbm_cv_fit(params, X, y, cv, categorical = None):\n",
        "    \"\"\"\n",
        "    Кросс-валидация для модели lightgbm.\n",
        "\n",
        "    Parameters\n",
        "    ----------\n",
        "    params: dict\n",
        "        Словарь гиперпараметров модели.\n",
        "\n",
        "    X: pandas.core.frame.DataFrame\n",
        "        Матрица признако для обучения модели.\n",
        "\n",
        "    y: pandas.core.frame.Series\n",
        "        Вектор целевой переменной для обучения модели.\n",
        "\n",
        "    cv: KFold or StratifiedKFold generator.\n",
        "        Объект KFold / StratifiedKFold для определения\n",
        "        стратегии кросс-валидации модели.\n",
        "\n",
        "    categorical: str, optional, default = None\n",
        "        Список категориальных признаков.\n",
        "        Опциональный параметр, по умолчанию, не используется.\n",
        "\n",
        "    Returns\n",
        "    -------\n",
        "    estimators: list\n",
        "        Список с объектами обученной модели.\n",
        "\n",
        "    oof_preds: np.array\n",
        "        Вектор OOF-прогнозов.\n",
        "\n",
        "    \"\"\"\n",
        "    if not categorical:\n",
        "        categorical = \"auto\"\n",
        "\n",
        "    estimators, folds_scores = [], []\n",
        "    oof_preds = np.zeros((X.shape[0], 4))\n",
        "    print(f\"{time.ctime()}, Cross-Validation, {X.shape[0]} rows, {X.shape[1]} cols\")\n",
        "\n",
        "    for fold, (train_idx, valid_idx) in enumerate(cv.split(X, y)):\n",
        "        x_train, x_valid = X.loc[train_idx], X.loc[valid_idx]\n",
        "        y_train, y_valid = y[train_idx], y[valid_idx]\n",
        "\n",
        "        model = lgb.LGBMClassifier(**params)\n",
        "        model.fit(\n",
        "            x_train, y_train,\n",
        "            #eval_set=[(x_valid, y_valid)],\n",
        "            #eval_metric=\"multi_logloss\", \n",
        "            verbose=10, \n",
        "            #early_stopping_rounds=50,\n",
        "            #categorical_feature=categorical\n",
        "        )\n",
        "        oof_preds[valid_idx] = model.predict_proba(x_valid)\n",
        "        score = metrics.log_loss(y_valid, oof_preds[valid_idx])\n",
        "        print(f\"Fold {fold+1}, Valid score = {round(score, 5)}\")\n",
        "        folds_scores.append(round(score, 5))\n",
        "        estimators.append(model)\n",
        "\n",
        "    print(f\"Score by each fold: {folds_scores}\")\n",
        "    print(\"=\"*65)\n",
        "    return estimators, oof_preds"
      ],
      "execution_count": 7,
      "outputs": []
    },
    {
      "cell_type": "code",
      "metadata": {
        "id": "R-mViB0kw06r"
      },
      "source": [
        "def xgboost_cv_fit(params, X, y, cv, categorical = None):\n",
        "    \"\"\"\n",
        "    Кросс-валидация для модели xgboost.\n",
        "\n",
        "    Parameters\n",
        "    ----------\n",
        "    params: dict\n",
        "        Словарь гиперпараметров модели.\n",
        "\n",
        "    X: pandas.core.frame.DataFrame\n",
        "        Матрица признако для обучения модели.\n",
        "\n",
        "    y: pandas.core.frame.Series\n",
        "        Вектор целевой переменной для обучения модели.\n",
        "\n",
        "    cv: KFold or StratifiedKFold generator.\n",
        "        Объект KFold / StratifiedKFold для определения\n",
        "        стратегии кросс-валидации модели.\n",
        "\n",
        "    categorical: str, optional, default = None\n",
        "        Список категориальных признаков.\n",
        "        Опциональный параметр, по умолчанию, не используется.\n",
        "\n",
        "    Returns\n",
        "    -------\n",
        "    estimators: list\n",
        "        Список с объектами обученной модели.\n",
        "\n",
        "    encoders: dict\n",
        "        Список с объектами LabelEncoders.\n",
        "\n",
        "    oof_preds: np.array\n",
        "        Вектор OOF-прогнозов.\n",
        "\n",
        "    \"\"\"\n",
        "    estimators, encoders = [], {}\n",
        "    oof_preds = np.zeros((X.shape[0], 4))\n",
        "\n",
        "    if categorical:\n",
        "        for feature in categorical:\n",
        "            encoder = LabelEncoder()\n",
        "            X[feature] = encoder.fit_transform(X[feature].astype(\"str\").fillna(\"NA\"))\n",
        "            encoders[feature] = encoder\n",
        "\n",
        "    print(f\"{time.ctime()}, Cross-Validation, {X.shape[0]} rows, {X.shape[1]} cols\")\n",
        "\n",
        "    for fold, (train_idx, valid_idx) in enumerate(cv.split(X, y)):\n",
        "\n",
        "        x_train, x_valid = X.loc[train_idx], X.loc[valid_idx]\n",
        "        y_train, y_valid = y[train_idx], y[valid_idx]\n",
        "\n",
        "        model = xgb.XGBClassifier(**params)\n",
        "        model.fit(\n",
        "            x_train, y_train,\n",
        "            #eval_set=[(x_valid, y_valid)],\n",
        "            #eval_metric=\"mlogloss\", \n",
        "            verbose=10, \n",
        "            #early_stopping_rounds=50,\n",
        "        )\n",
        "\n",
        "        oof_preds[valid_idx] = model.predict_proba(x_valid)\n",
        "        score = metrics.log_loss(y_valid, oof_preds[valid_idx])\n",
        "        print(f\"Fold {fold+1}, Valid score = {round(score, 5)}\")\n",
        "        estimators.append(model)\n",
        "\n",
        "    return estimators, encoders, oof_preds"
      ],
      "execution_count": 8,
      "outputs": []
    },
    {
      "cell_type": "markdown",
      "metadata": {
        "id": "1t5BXvdKvQjh"
      },
      "source": [
        "## Загрузка данных и построение моделей"
      ]
    },
    {
      "cell_type": "markdown",
      "metadata": {
        "id": "himyfRnOwFk2"
      },
      "source": [
        "### lightgbm + optuna"
      ]
    },
    {
      "cell_type": "code",
      "metadata": {
        "id": "oukRR0GC4jfC"
      },
      "source": [
        "def objective(trial):\n",
        "    data = get_input(\"train.csv\")\n",
        "    data.drop(columns='id', inplace=True)\n",
        "    mapper = {'Class_1': 0, 'Class_2': 1, 'Class_3': 2, 'Class_4': 3}\n",
        "    data['target'] = data['target'].map(mapper)\n",
        "    target = data['target']\n",
        "    data = data.drop(columns=['target'])\n",
        "\n",
        "    train_x, valid_x, train_y, valid_y = train_test_split(data, target, test_size=0.5)\n",
        "    dtrain = lgb.Dataset(train_x, label=train_y)\n",
        "    dvalid = lgb.Dataset(valid_x, label=valid_y)\n",
        "\n",
        "    param = {\n",
        "        \"objective\": \"multiclass\",\n",
        "        \"metric\": \"multi_logloss\",\n",
        "        \"verbosity\": -1,\n",
        "        \"boosting_type\": \"gbdt\",\n",
        "        \"lambda_l1\": trial.suggest_loguniform(\"lambda_l1\", 1e-8, 10.0),\n",
        "        \"lambda_l2\": trial.suggest_loguniform(\"lambda_l2\", 1e-8, 10.0),\n",
        "        \"num_leaves\": trial.suggest_int(\"num_leaves\", 2, 256),\n",
        "        #\"n_estimators\": trial.suggest_int(\"n_estimators\", 200, 800),\n",
        "        \"feature_fraction\": trial.suggest_uniform(\"feature_fraction\", 0.4, 1.0),\n",
        "        \"bagging_fraction\": trial.suggest_uniform(\"bagging_fraction\", 0.4, 1.0),\n",
        "        \"bagging_freq\": trial.suggest_int(\"bagging_freq\", 1, 7),\n",
        "        \"min_child_samples\": trial.suggest_int(\"min_child_samples\", 5, 100),\n",
        "        'num_class': 4,\n",
        "        'max_depth': trial.suggest_int('max_depth', 3,7),\n",
        "        'learning_rate': trial.suggest_uniform('learning_rate', 0.05, 0.13),\n",
        "    }\n",
        "\n",
        "    # Add a callback for pruning.\n",
        "    pruning_callback = optuna.integration.LightGBMPruningCallback(trial, \"multi_logloss\")\n",
        "    gbm = lgb.train(\n",
        "        param, dtrain, \n",
        "        valid_sets=[dvalid], \n",
        "        verbose_eval=False, \n",
        "        callbacks=[pruning_callback]\n",
        "    )\n",
        "\n",
        "    preds = gbm.predict(valid_x)\n",
        "    pred_labels = np.rint(preds)\n",
        "\n",
        "    log_loss = sklearn.metrics.log_loss(valid_y, preds)\n",
        "    return log_loss"
      ],
      "execution_count": 166,
      "outputs": []
    },
    {
      "cell_type": "code",
      "metadata": {
        "id": "wbCUjVOSHFcj"
      },
      "source": [
        "# Лучше подбирать гиперпараметры на всей data через кросс валидацию\n",
        "import optuna.integration.lightgbm as lgb\n",
        "def objective(trial):\n",
        "    data = get_input(\"train.csv\")\n",
        "    data.drop(columns='id', inplace=True)\n",
        "    mapper = {'Class_1': 0, 'Class_2': 1, 'Class_3': 2, 'Class_4': 3}\n",
        "    data['target'] = data['target'].map(mapper)\n",
        "    target = data['target']\n",
        "    data = data.drop(columns=['target'])\n",
        "\n",
        "    dtrain = lgb.Dataset(data, label=target)\n",
        "\n",
        "    param = {\n",
        "        \"objective\": \"multiclass\",\n",
        "        \"metric\": \"multi_logloss\",\n",
        "        \"verbosity\": -1,\n",
        "        \"boosting_type\": \"gbdt\",\n",
        "        \"lambda_l1\": trial.suggest_loguniform(\"lambda_l1\", 1e-8, 10.0),\n",
        "        \"lambda_l2\": trial.suggest_loguniform(\"lambda_l2\", 1e-8, 10.0),\n",
        "        \"num_leaves\": trial.suggest_int(\"num_leaves\", 2, 256),\n",
        "        \"feature_fraction\": trial.suggest_uniform(\"feature_fraction\", 0.4, 1.0),\n",
        "        \"bagging_fraction\": trial.suggest_uniform(\"bagging_fraction\", 0.4, 1.0),\n",
        "        \"bagging_freq\": trial.suggest_int(\"bagging_freq\", 1, 7),\n",
        "        \"min_child_samples\": trial.suggest_int(\"min_child_samples\", 5, 100),\n",
        "        'num_class': 4,\n",
        "\n",
        "        'max_depth': trial.suggest_int('max_depth', 3,7),\n",
        "        'learning_rate': trial.suggest_uniform('learning_rate', 0.03, 0.13 ),\n",
        "    }\n",
        "\n",
        "    # Add a callback for pruning.\n",
        "    pruning_callback = optuna.integration.LightGBMPruningCallback(trial, \"multi_logloss\")\n",
        "    result = lgb.cv(\n",
        "      params=param,\n",
        "      train_set=dtrain,\n",
        "      num_boost_round=10000,\n",
        "      early_stopping_rounds=100,\n",
        "      #verbose_eval=10,\n",
        "      stratified=True,\n",
        "      seed=42,\n",
        "      metrics=\"multi_logloss\",\n",
        "      shuffle=True,\n",
        "      nfold=3\n",
        "    )\n",
        " \n",
        "    log_loss = result['multi_logloss-mean'][-1] + result['multi_logloss-stdv'][-1]\n",
        "    return log_loss"
      ],
      "execution_count": 170,
      "outputs": []
    },
    {
      "cell_type": "code",
      "metadata": {
        "id": "hNJikn6e4vQY",
        "colab": {
          "base_uri": "https://localhost:8080/",
          "height": 478
        },
        "outputId": "54b7adf0-ddf2-40ca-81a9-4b444d0f1db3"
      },
      "source": [
        "study = optuna.create_study(\n",
        "        pruner=optuna.pruners.MedianPruner(n_warmup_steps=20), direction=\"minimize\"\n",
        "    )\n",
        "study.optimize(objective, n_trials=200)\n",
        "\n",
        "print(\"Best trial:\")\n",
        "trial = study.best_trial\n",
        "\n",
        "print(\"  Params: \")\n",
        "for key, value in trial.params.items():\n",
        "  print(\"    {}: {}\".format(key, value))"
      ],
      "execution_count": 171,
      "outputs": [
        {
          "output_type": "stream",
          "text": [
            "\u001b[32m[I 2021-05-25 20:05:15,460]\u001b[0m A new study created in memory with name: no-name-67bb9b06-6056-4c5f-9440-69bfd5220d67\u001b[0m\n"
          ],
          "name": "stderr"
        },
        {
          "output_type": "stream",
          "text": [
            "train.csv: shape = 100000 rows, 52 cols\n"
          ],
          "name": "stdout"
        },
        {
          "output_type": "stream",
          "text": [
            "\u001b[32m[I 2021-05-25 20:06:07,912]\u001b[0m Trial 0 finished with value: 1.095420663265998 and parameters: {'lambda_l1': 0.00024587192153438774, 'lambda_l2': 2.9664723207282242e-08, 'num_leaves': 223, 'feature_fraction': 0.7099892913219672, 'bagging_fraction': 0.7228809986014417, 'bagging_freq': 6, 'min_child_samples': 97, 'max_depth': 5, 'learning_rate': 0.08549446305776937}. Best is trial 0 with value: 1.095420663265998.\u001b[0m\n"
          ],
          "name": "stderr"
        },
        {
          "output_type": "stream",
          "text": [
            "train.csv: shape = 100000 rows, 52 cols\n"
          ],
          "name": "stdout"
        },
        {
          "output_type": "error",
          "ename": "KeyboardInterrupt",
          "evalue": "ignored",
          "traceback": [
            "\u001b[0;31m---------------------------------------------------------------------------\u001b[0m",
            "\u001b[0;31mKeyboardInterrupt\u001b[0m                         Traceback (most recent call last)",
            "\u001b[0;32m<ipython-input-171-2a80ae7c6f74>\u001b[0m in \u001b[0;36m<module>\u001b[0;34m()\u001b[0m\n\u001b[1;32m      2\u001b[0m         \u001b[0mpruner\u001b[0m\u001b[0;34m=\u001b[0m\u001b[0moptuna\u001b[0m\u001b[0;34m.\u001b[0m\u001b[0mpruners\u001b[0m\u001b[0;34m.\u001b[0m\u001b[0mMedianPruner\u001b[0m\u001b[0;34m(\u001b[0m\u001b[0mn_warmup_steps\u001b[0m\u001b[0;34m=\u001b[0m\u001b[0;36m20\u001b[0m\u001b[0;34m)\u001b[0m\u001b[0;34m,\u001b[0m \u001b[0mdirection\u001b[0m\u001b[0;34m=\u001b[0m\u001b[0;34m\"minimize\"\u001b[0m\u001b[0;34m\u001b[0m\u001b[0;34m\u001b[0m\u001b[0m\n\u001b[1;32m      3\u001b[0m     )\n\u001b[0;32m----> 4\u001b[0;31m \u001b[0mstudy\u001b[0m\u001b[0;34m.\u001b[0m\u001b[0moptimize\u001b[0m\u001b[0;34m(\u001b[0m\u001b[0mobjective\u001b[0m\u001b[0;34m,\u001b[0m \u001b[0mn_trials\u001b[0m\u001b[0;34m=\u001b[0m\u001b[0;36m200\u001b[0m\u001b[0;34m)\u001b[0m\u001b[0;34m\u001b[0m\u001b[0;34m\u001b[0m\u001b[0m\n\u001b[0m\u001b[1;32m      5\u001b[0m \u001b[0;34m\u001b[0m\u001b[0m\n\u001b[1;32m      6\u001b[0m \u001b[0mprint\u001b[0m\u001b[0;34m(\u001b[0m\u001b[0;34m\"Best trial:\"\u001b[0m\u001b[0;34m)\u001b[0m\u001b[0;34m\u001b[0m\u001b[0;34m\u001b[0m\u001b[0m\n",
            "\u001b[0;32m/usr/local/lib/python3.7/dist-packages/optuna/study.py\u001b[0m in \u001b[0;36moptimize\u001b[0;34m(self, func, n_trials, timeout, n_jobs, catch, callbacks, gc_after_trial, show_progress_bar)\u001b[0m\n\u001b[1;32m    407\u001b[0m             \u001b[0mcallbacks\u001b[0m\u001b[0;34m=\u001b[0m\u001b[0mcallbacks\u001b[0m\u001b[0;34m,\u001b[0m\u001b[0;34m\u001b[0m\u001b[0;34m\u001b[0m\u001b[0m\n\u001b[1;32m    408\u001b[0m             \u001b[0mgc_after_trial\u001b[0m\u001b[0;34m=\u001b[0m\u001b[0mgc_after_trial\u001b[0m\u001b[0;34m,\u001b[0m\u001b[0;34m\u001b[0m\u001b[0;34m\u001b[0m\u001b[0m\n\u001b[0;32m--> 409\u001b[0;31m             \u001b[0mshow_progress_bar\u001b[0m\u001b[0;34m=\u001b[0m\u001b[0mshow_progress_bar\u001b[0m\u001b[0;34m,\u001b[0m\u001b[0;34m\u001b[0m\u001b[0;34m\u001b[0m\u001b[0m\n\u001b[0m\u001b[1;32m    410\u001b[0m         )\n\u001b[1;32m    411\u001b[0m \u001b[0;34m\u001b[0m\u001b[0m\n",
            "\u001b[0;32m/usr/local/lib/python3.7/dist-packages/optuna/_optimize.py\u001b[0m in \u001b[0;36m_optimize\u001b[0;34m(study, func, n_trials, timeout, n_jobs, catch, callbacks, gc_after_trial, show_progress_bar)\u001b[0m\n\u001b[1;32m     74\u001b[0m                 \u001b[0mreseed_sampler_rng\u001b[0m\u001b[0;34m=\u001b[0m\u001b[0;32mFalse\u001b[0m\u001b[0;34m,\u001b[0m\u001b[0;34m\u001b[0m\u001b[0;34m\u001b[0m\u001b[0m\n\u001b[1;32m     75\u001b[0m                 \u001b[0mtime_start\u001b[0m\u001b[0;34m=\u001b[0m\u001b[0;32mNone\u001b[0m\u001b[0;34m,\u001b[0m\u001b[0;34m\u001b[0m\u001b[0;34m\u001b[0m\u001b[0m\n\u001b[0;32m---> 76\u001b[0;31m                 \u001b[0mprogress_bar\u001b[0m\u001b[0;34m=\u001b[0m\u001b[0mprogress_bar\u001b[0m\u001b[0;34m,\u001b[0m\u001b[0;34m\u001b[0m\u001b[0;34m\u001b[0m\u001b[0m\n\u001b[0m\u001b[1;32m     77\u001b[0m             )\n\u001b[1;32m     78\u001b[0m         \u001b[0;32melse\u001b[0m\u001b[0;34m:\u001b[0m\u001b[0;34m\u001b[0m\u001b[0;34m\u001b[0m\u001b[0m\n",
            "\u001b[0;32m/usr/local/lib/python3.7/dist-packages/optuna/_optimize.py\u001b[0m in \u001b[0;36m_optimize_sequential\u001b[0;34m(study, func, n_trials, timeout, catch, callbacks, gc_after_trial, reseed_sampler_rng, time_start, progress_bar)\u001b[0m\n\u001b[1;32m    161\u001b[0m \u001b[0;34m\u001b[0m\u001b[0m\n\u001b[1;32m    162\u001b[0m         \u001b[0;32mtry\u001b[0m\u001b[0;34m:\u001b[0m\u001b[0;34m\u001b[0m\u001b[0;34m\u001b[0m\u001b[0m\n\u001b[0;32m--> 163\u001b[0;31m             \u001b[0mtrial\u001b[0m \u001b[0;34m=\u001b[0m \u001b[0m_run_trial\u001b[0m\u001b[0;34m(\u001b[0m\u001b[0mstudy\u001b[0m\u001b[0;34m,\u001b[0m \u001b[0mfunc\u001b[0m\u001b[0;34m,\u001b[0m \u001b[0mcatch\u001b[0m\u001b[0;34m)\u001b[0m\u001b[0;34m\u001b[0m\u001b[0;34m\u001b[0m\u001b[0m\n\u001b[0m\u001b[1;32m    164\u001b[0m         \u001b[0;32mexcept\u001b[0m \u001b[0mException\u001b[0m\u001b[0;34m:\u001b[0m\u001b[0;34m\u001b[0m\u001b[0;34m\u001b[0m\u001b[0m\n\u001b[1;32m    165\u001b[0m             \u001b[0;32mraise\u001b[0m\u001b[0;34m\u001b[0m\u001b[0;34m\u001b[0m\u001b[0m\n",
            "\u001b[0;32m/usr/local/lib/python3.7/dist-packages/optuna/_optimize.py\u001b[0m in \u001b[0;36m_run_trial\u001b[0;34m(study, func, catch)\u001b[0m\n\u001b[1;32m    215\u001b[0m \u001b[0;34m\u001b[0m\u001b[0m\n\u001b[1;32m    216\u001b[0m     \u001b[0;32mtry\u001b[0m\u001b[0;34m:\u001b[0m\u001b[0;34m\u001b[0m\u001b[0;34m\u001b[0m\u001b[0m\n\u001b[0;32m--> 217\u001b[0;31m         \u001b[0mvalue_or_values\u001b[0m \u001b[0;34m=\u001b[0m \u001b[0mfunc\u001b[0m\u001b[0;34m(\u001b[0m\u001b[0mtrial\u001b[0m\u001b[0;34m)\u001b[0m\u001b[0;34m\u001b[0m\u001b[0;34m\u001b[0m\u001b[0m\n\u001b[0m\u001b[1;32m    218\u001b[0m     \u001b[0;32mexcept\u001b[0m \u001b[0mexceptions\u001b[0m\u001b[0;34m.\u001b[0m\u001b[0mTrialPruned\u001b[0m \u001b[0;32mas\u001b[0m \u001b[0me\u001b[0m\u001b[0;34m:\u001b[0m\u001b[0;34m\u001b[0m\u001b[0;34m\u001b[0m\u001b[0m\n\u001b[1;32m    219\u001b[0m         \u001b[0;31m# TODO(mamu): Handle multi-objective cases.\u001b[0m\u001b[0;34m\u001b[0m\u001b[0;34m\u001b[0m\u001b[0;34m\u001b[0m\u001b[0m\n",
            "\u001b[0;32m<ipython-input-170-82ebc4c1208b>\u001b[0m in \u001b[0;36mobjective\u001b[0;34m(trial)\u001b[0m\n\u001b[1;32m     41\u001b[0m       \u001b[0mmetrics\u001b[0m\u001b[0;34m=\u001b[0m\u001b[0;34m\"multi_logloss\"\u001b[0m\u001b[0;34m,\u001b[0m\u001b[0;34m\u001b[0m\u001b[0;34m\u001b[0m\u001b[0m\n\u001b[1;32m     42\u001b[0m       \u001b[0mshuffle\u001b[0m\u001b[0;34m=\u001b[0m\u001b[0;32mTrue\u001b[0m\u001b[0;34m,\u001b[0m\u001b[0;34m\u001b[0m\u001b[0;34m\u001b[0m\u001b[0m\n\u001b[0;32m---> 43\u001b[0;31m       \u001b[0mnfold\u001b[0m\u001b[0;34m=\u001b[0m\u001b[0;36m3\u001b[0m\u001b[0;34m\u001b[0m\u001b[0;34m\u001b[0m\u001b[0m\n\u001b[0m\u001b[1;32m     44\u001b[0m     )\n\u001b[1;32m     45\u001b[0m \u001b[0;34m\u001b[0m\u001b[0m\n",
            "\u001b[0;32m/usr/local/lib/python3.7/dist-packages/lightgbm/engine.py\u001b[0m in \u001b[0;36mcv\u001b[0;34m(params, train_set, num_boost_round, folds, nfold, stratified, shuffle, metrics, fobj, feval, init_model, feature_name, categorical_feature, early_stopping_rounds, fpreproc, verbose_eval, show_stdv, seed, callbacks)\u001b[0m\n\u001b[1;32m    485\u001b[0m                                     \u001b[0mend_iteration\u001b[0m\u001b[0;34m=\u001b[0m\u001b[0mnum_boost_round\u001b[0m\u001b[0;34m,\u001b[0m\u001b[0;34m\u001b[0m\u001b[0;34m\u001b[0m\u001b[0m\n\u001b[1;32m    486\u001b[0m                                     evaluation_result_list=None))\n\u001b[0;32m--> 487\u001b[0;31m         \u001b[0mcvfolds\u001b[0m\u001b[0;34m.\u001b[0m\u001b[0mupdate\u001b[0m\u001b[0;34m(\u001b[0m\u001b[0mfobj\u001b[0m\u001b[0;34m=\u001b[0m\u001b[0mfobj\u001b[0m\u001b[0;34m)\u001b[0m\u001b[0;34m\u001b[0m\u001b[0;34m\u001b[0m\u001b[0m\n\u001b[0m\u001b[1;32m    488\u001b[0m         \u001b[0mres\u001b[0m \u001b[0;34m=\u001b[0m \u001b[0m_agg_cv_result\u001b[0m\u001b[0;34m(\u001b[0m\u001b[0mcvfolds\u001b[0m\u001b[0;34m.\u001b[0m\u001b[0meval_valid\u001b[0m\u001b[0;34m(\u001b[0m\u001b[0mfeval\u001b[0m\u001b[0;34m)\u001b[0m\u001b[0;34m)\u001b[0m\u001b[0;34m\u001b[0m\u001b[0;34m\u001b[0m\u001b[0m\n\u001b[1;32m    489\u001b[0m         \u001b[0;32mfor\u001b[0m \u001b[0m_\u001b[0m\u001b[0;34m,\u001b[0m \u001b[0mkey\u001b[0m\u001b[0;34m,\u001b[0m \u001b[0mmean\u001b[0m\u001b[0;34m,\u001b[0m \u001b[0m_\u001b[0m\u001b[0;34m,\u001b[0m \u001b[0mstd\u001b[0m \u001b[0;32min\u001b[0m \u001b[0mres\u001b[0m\u001b[0;34m:\u001b[0m\u001b[0;34m\u001b[0m\u001b[0;34m\u001b[0m\u001b[0m\n",
            "\u001b[0;32m/usr/local/lib/python3.7/dist-packages/lightgbm/engine.py\u001b[0m in \u001b[0;36mhandler_function\u001b[0;34m(*args, **kwargs)\u001b[0m\n\u001b[1;32m    261\u001b[0m             \u001b[0mret\u001b[0m \u001b[0;34m=\u001b[0m \u001b[0;34m[\u001b[0m\u001b[0;34m]\u001b[0m\u001b[0;34m\u001b[0m\u001b[0;34m\u001b[0m\u001b[0m\n\u001b[1;32m    262\u001b[0m             \u001b[0;32mfor\u001b[0m \u001b[0mbooster\u001b[0m \u001b[0;32min\u001b[0m \u001b[0mself\u001b[0m\u001b[0;34m.\u001b[0m\u001b[0mboosters\u001b[0m\u001b[0;34m:\u001b[0m\u001b[0;34m\u001b[0m\u001b[0;34m\u001b[0m\u001b[0m\n\u001b[0;32m--> 263\u001b[0;31m                 \u001b[0mret\u001b[0m\u001b[0;34m.\u001b[0m\u001b[0mappend\u001b[0m\u001b[0;34m(\u001b[0m\u001b[0mgetattr\u001b[0m\u001b[0;34m(\u001b[0m\u001b[0mbooster\u001b[0m\u001b[0;34m,\u001b[0m \u001b[0mname\u001b[0m\u001b[0;34m)\u001b[0m\u001b[0;34m(\u001b[0m\u001b[0;34m*\u001b[0m\u001b[0margs\u001b[0m\u001b[0;34m,\u001b[0m \u001b[0;34m**\u001b[0m\u001b[0mkwargs\u001b[0m\u001b[0;34m)\u001b[0m\u001b[0;34m)\u001b[0m\u001b[0;34m\u001b[0m\u001b[0;34m\u001b[0m\u001b[0m\n\u001b[0m\u001b[1;32m    264\u001b[0m             \u001b[0;32mreturn\u001b[0m \u001b[0mret\u001b[0m\u001b[0;34m\u001b[0m\u001b[0;34m\u001b[0m\u001b[0m\n\u001b[1;32m    265\u001b[0m         \u001b[0;32mreturn\u001b[0m \u001b[0mhandler_function\u001b[0m\u001b[0;34m\u001b[0m\u001b[0;34m\u001b[0m\u001b[0m\n",
            "\u001b[0;32m/usr/local/lib/python3.7/dist-packages/lightgbm/basic.py\u001b[0m in \u001b[0;36mupdate\u001b[0;34m(self, train_set, fobj)\u001b[0m\n\u001b[1;32m   1800\u001b[0m             _safe_call(_LIB.LGBM_BoosterUpdateOneIter(\n\u001b[1;32m   1801\u001b[0m                 \u001b[0mself\u001b[0m\u001b[0;34m.\u001b[0m\u001b[0mhandle\u001b[0m\u001b[0;34m,\u001b[0m\u001b[0;34m\u001b[0m\u001b[0;34m\u001b[0m\u001b[0m\n\u001b[0;32m-> 1802\u001b[0;31m                 ctypes.byref(is_finished)))\n\u001b[0m\u001b[1;32m   1803\u001b[0m             \u001b[0mself\u001b[0m\u001b[0;34m.\u001b[0m\u001b[0m__is_predicted_cur_iter\u001b[0m \u001b[0;34m=\u001b[0m \u001b[0;34m[\u001b[0m\u001b[0;32mFalse\u001b[0m \u001b[0;32mfor\u001b[0m \u001b[0m_\u001b[0m \u001b[0;32min\u001b[0m \u001b[0mrange_\u001b[0m\u001b[0;34m(\u001b[0m\u001b[0mself\u001b[0m\u001b[0;34m.\u001b[0m\u001b[0m__num_dataset\u001b[0m\u001b[0;34m)\u001b[0m\u001b[0;34m]\u001b[0m\u001b[0;34m\u001b[0m\u001b[0;34m\u001b[0m\u001b[0m\n\u001b[1;32m   1804\u001b[0m             \u001b[0;32mreturn\u001b[0m \u001b[0mis_finished\u001b[0m\u001b[0;34m.\u001b[0m\u001b[0mvalue\u001b[0m \u001b[0;34m==\u001b[0m \u001b[0;36m1\u001b[0m\u001b[0;34m\u001b[0m\u001b[0;34m\u001b[0m\u001b[0m\n",
            "\u001b[0;31mKeyboardInterrupt\u001b[0m: "
          ]
        }
      ]
    },
    {
      "cell_type": "code",
      "metadata": {
        "id": "O7ZcEEJJIBhF"
      },
      "source": [
        "optuna.visualization.plot_optimization_history(study)"
      ],
      "execution_count": null,
      "outputs": []
    },
    {
      "cell_type": "code",
      "metadata": {
        "id": "kJWUoKQiIH2X"
      },
      "source": [
        "optuna.visualization.plot_slice(study)"
      ],
      "execution_count": null,
      "outputs": []
    },
    {
      "cell_type": "code",
      "metadata": {
        "id": "90QkOVtJIM2u"
      },
      "source": [
        "optuna.visualization.plot_param_importances(study)"
      ],
      "execution_count": null,
      "outputs": []
    },
    {
      "cell_type": "code",
      "metadata": {
        "colab": {
          "base_uri": "https://localhost:8080/"
        },
        "id": "FxluInDhIW7H",
        "outputId": "704a7d9e-e8dc-413c-9cdd-7b9ab87f10df"
      },
      "source": [
        "print(study.best_params)"
      ],
      "execution_count": null,
      "outputs": [
        {
          "output_type": "stream",
          "text": [
            "{'lambda_l1': 1.45120566383297e-06, 'lambda_l2': 0.003368552965821498, 'num_leaves': 32, 'feature_fraction': 0.4471131328810426, 'bagging_fraction': 0.5888198372400193, 'bagging_freq': 4, 'min_child_samples': 32}\n"
          ],
          "name": "stdout"
        }
      ]
    },
    {
      "cell_type": "code",
      "metadata": {
        "colab": {
          "base_uri": "https://localhost:8080/"
        },
        "id": "STyhscwrIZs0",
        "outputId": "3073193f-3e78-452a-8697-966191f9ac5f"
      },
      "source": [
        "study.best_value"
      ],
      "execution_count": null,
      "outputs": [
        {
          "output_type": "execute_result",
          "data": {
            "text/plain": [
              "1.0833801288748757"
            ]
          },
          "metadata": {
            "tags": []
          },
          "execution_count": 47
        }
      ]
    },
    {
      "cell_type": "code",
      "metadata": {
        "colab": {
          "base_uri": "https://localhost:8080/"
        },
        "id": "zG2oib7yGcni",
        "outputId": "064d886e-25ef-4310-d912-723606ccb213"
      },
      "source": [
        "data = get_input(\"train.csv\")\n",
        "data.drop(columns='id', inplace=True)\n",
        "mapper = {'Class_1': 0, 'Class_2': 1, 'Class_3': 2, 'Class_4': 3}\n",
        "data['target'] = data['target'].map(mapper)\n",
        "target = data['target']\n",
        "data = data.drop(columns=['target'])\n",
        "\n",
        "lgb_params = {\n",
        "    \"boosting_type \": \"gbdt\",\n",
        "    \"objective\": \"multiclass\",\n",
        "    \"metric\": \"multi_logloss\",\n",
        "    #'num_boost_round': 100,\n",
        "    'num_class': 4,\n",
        "    'lambda_l1': 0.02259438646302076,\n",
        "    'lambda_l2': 3.3834082296901886e-05,\n",
        "    'num_leaves': 256,\n",
        "    'feature_fraction': 0.42939073275678896,\n",
        "    'bagging_fraction': 0.8760623722003144,\n",
        "    'bagging_freq': 4,\n",
        "    'min_child_samples': 71,\n",
        "    'max_depth': 4,\n",
        "    'learning_rate': 0.07658957460133804,\n",
        "}\n",
        "\n",
        "dtrain = lgb.Dataset(data=data, label=target)\n",
        "\n",
        "result = lgb.cv(\n",
        "    params=lgb_params,\n",
        "    train_set=dtrain,\n",
        "    num_boost_round=2000,\n",
        "    early_stopping_rounds=100,\n",
        "    verbose_eval=10,\n",
        "    stratified=True,\n",
        "    seed=42,\n",
        "    metrics=\"multi_logloss\",\n",
        "    shuffle=True,\n",
        "    nfold=5\n",
        ")"
      ],
      "execution_count": 15,
      "outputs": [
        {
          "output_type": "stream",
          "text": [
            "train.csv: shape = 100000 rows, 52 cols\n",
            "[10]\tcv_agg's multi_logloss: 1.11339 + 0.00019763\n",
            "[20]\tcv_agg's multi_logloss: 1.10998 + 0.000341567\n",
            "[30]\tcv_agg's multi_logloss: 1.10748 + 0.000399434\n",
            "[40]\tcv_agg's multi_logloss: 1.1054 + 0.000482044\n",
            "[50]\tcv_agg's multi_logloss: 1.10365 + 0.000591791\n",
            "[60]\tcv_agg's multi_logloss: 1.10218 + 0.000701451\n",
            "[70]\tcv_agg's multi_logloss: 1.10096 + 0.000759168\n",
            "[80]\tcv_agg's multi_logloss: 1.09988 + 0.000727296\n",
            "[90]\tcv_agg's multi_logloss: 1.09888 + 0.000727316\n",
            "[100]\tcv_agg's multi_logloss: 1.09803 + 0.000788178\n",
            "[110]\tcv_agg's multi_logloss: 1.09726 + 0.00084155\n",
            "[120]\tcv_agg's multi_logloss: 1.09667 + 0.000892679\n",
            "[130]\tcv_agg's multi_logloss: 1.09616 + 0.000970538\n",
            "[140]\tcv_agg's multi_logloss: 1.09569 + 0.00102404\n",
            "[150]\tcv_agg's multi_logloss: 1.09526 + 0.00106349\n",
            "[160]\tcv_agg's multi_logloss: 1.09494 + 0.0011131\n",
            "[170]\tcv_agg's multi_logloss: 1.09459 + 0.00114867\n",
            "[180]\tcv_agg's multi_logloss: 1.09433 + 0.00113994\n",
            "[190]\tcv_agg's multi_logloss: 1.09407 + 0.00117784\n",
            "[200]\tcv_agg's multi_logloss: 1.09391 + 0.00119958\n",
            "[210]\tcv_agg's multi_logloss: 1.09369 + 0.00118996\n",
            "[220]\tcv_agg's multi_logloss: 1.09354 + 0.00121188\n",
            "[230]\tcv_agg's multi_logloss: 1.09339 + 0.00119892\n",
            "[240]\tcv_agg's multi_logloss: 1.09325 + 0.00118047\n",
            "[250]\tcv_agg's multi_logloss: 1.09309 + 0.00121222\n",
            "[260]\tcv_agg's multi_logloss: 1.09298 + 0.00124387\n",
            "[270]\tcv_agg's multi_logloss: 1.09291 + 0.00124078\n",
            "[280]\tcv_agg's multi_logloss: 1.09283 + 0.00126407\n",
            "[290]\tcv_agg's multi_logloss: 1.09281 + 0.00128694\n",
            "[300]\tcv_agg's multi_logloss: 1.09274 + 0.00125305\n",
            "[310]\tcv_agg's multi_logloss: 1.09272 + 0.0012378\n",
            "[320]\tcv_agg's multi_logloss: 1.09269 + 0.00122647\n",
            "[330]\tcv_agg's multi_logloss: 1.09265 + 0.00124965\n",
            "[340]\tcv_agg's multi_logloss: 1.09263 + 0.00123584\n",
            "[350]\tcv_agg's multi_logloss: 1.09267 + 0.00125862\n",
            "[360]\tcv_agg's multi_logloss: 1.09267 + 0.00130462\n",
            "[370]\tcv_agg's multi_logloss: 1.09267 + 0.00130831\n",
            "[380]\tcv_agg's multi_logloss: 1.0927 + 0.0013412\n",
            "[390]\tcv_agg's multi_logloss: 1.09268 + 0.00136061\n",
            "[400]\tcv_agg's multi_logloss: 1.09272 + 0.00134444\n",
            "[410]\tcv_agg's multi_logloss: 1.09272 + 0.00132634\n",
            "[420]\tcv_agg's multi_logloss: 1.09275 + 0.0013747\n",
            "[430]\tcv_agg's multi_logloss: 1.09274 + 0.00137156\n"
          ],
          "name": "stdout"
        }
      ]
    },
    {
      "cell_type": "code",
      "metadata": {
        "colab": {
          "base_uri": "https://localhost:8080/"
        },
        "id": "RzwcH5alJXEV",
        "outputId": "6f8ae7fc-f890-4f05-caf6-a81f29244dde"
      },
      "source": [
        "len(result['multi_logloss-mean'])"
      ],
      "execution_count": 19,
      "outputs": [
        {
          "output_type": "execute_result",
          "data": {
            "text/plain": [
              "334"
            ]
          },
          "metadata": {
            "tags": []
          },
          "execution_count": 19
        }
      ]
    },
    {
      "cell_type": "code",
      "metadata": {
        "colab": {
          "base_uri": "https://localhost:8080/"
        },
        "id": "gqluuqh-Ed5G",
        "outputId": "c6c80a56-9442-48bd-bc47-b2a7df447162"
      },
      "source": [
        "import lightgbm as lgb\n",
        "data = get_input(\"train.csv\")\n",
        "test = get_input(\"test.csv\")\n",
        "\n",
        "data.drop(columns='id', inplace=True)\n",
        "mapper = {'Class_1': 0, 'Class_2': 1, 'Class_3': 2, 'Class_4': 3}\n",
        "data['target'] = data['target'].map(mapper)\n",
        "\n",
        "target = data['target']\n",
        "data = data.drop(columns=['target'])\n",
        "\n",
        "#train, valid = train_test_split(\n",
        "#    data, train_size=0.7, shuffle=True, random_state=1,\n",
        "#)\n",
        "\n",
        "#train.reset_index(inplace=True, drop=True)\n",
        "#valid.reset_index(inplace=True, drop=True)\n",
        "\n",
        "#y_train = train['target']\n",
        "#x_train = train.drop(columns=['target'])\n",
        "#y_valid = valid['target']\n",
        "#x_valid = valid.drop(columns=['target'])"
      ],
      "execution_count": 9,
      "outputs": [
        {
          "output_type": "stream",
          "text": [
            "train.csv: shape = 100000 rows, 52 cols\n",
            "test.csv: shape = 50000 rows, 51 cols\n"
          ],
          "name": "stdout"
        }
      ]
    },
    {
      "cell_type": "code",
      "metadata": {
        "colab": {
          "base_uri": "https://localhost:8080/"
        },
        "id": "OzG9PJYQI2aP",
        "outputId": "dcd6e77c-ca7d-4f33-a547-5cda0e2fb805"
      },
      "source": [
        "lgb_params = {\n",
        "    \"boosting_type \": \"gbdt\",\n",
        "    \"objective\": \"multiclass\",\n",
        "    \"metric\": \"multi_logloss\",\n",
        "    'n_estimators': 500,\n",
        "    'num_class': 4,\n",
        "    'lambda_l1': 0.02259438646302076,\n",
        "    'lambda_l2': 3.3834082296901886e-05,\n",
        "    'num_leaves': 256,\n",
        "    'feature_fraction': 0.42939073275678896,\n",
        "    'bagging_fraction': 0.8760623722003144,\n",
        "    'bagging_freq': 4,\n",
        "    'min_child_samples': 71,\n",
        "    'max_depth': 3,\n",
        "    'learning_rate': 0.07658957460133804,\n",
        "    'random_state': 42,\n",
        "}\n",
        "\n",
        "cv = StratifiedKFold(n_splits=10, random_state=435, shuffle=True)\n",
        "\n",
        "lgb_estimators, lgb_oof = lightgbm_cv_fit(\n",
        "    lgb_params, data, target, cv, #categorical=categorical_feature_names\n",
        ")"
      ],
      "execution_count": null,
      "outputs": [
        {
          "output_type": "stream",
          "text": [
            "Tue May 25 22:41:19 2021, Cross-Validation, 100000 rows, 50 cols\n",
            "Fold 1, Valid score = 1.09457\n",
            "Fold 2, Valid score = 1.08862\n",
            "Fold 3, Valid score = 1.09364\n",
            "Fold 4, Valid score = 1.09471\n",
            "Fold 5, Valid score = 1.09327\n",
            "Fold 6, Valid score = 1.09222\n",
            "Fold 7, Valid score = 1.09183\n",
            "Fold 8, Valid score = 1.09551\n"
          ],
          "name": "stdout"
        }
      ]
    },
    {
      "cell_type": "code",
      "metadata": {
        "colab": {
          "base_uri": "https://localhost:8080/"
        },
        "id": "5PbaQ1sEJU_6",
        "outputId": "182ecb00-1178-4e2a-84c6-7065ecf61315"
      },
      "source": [
        "# oof 1.0926 должен быть\n",
        "print(f\"Out of fold log loss {metrics.log_loss(target, lgb_oof)}\")"
      ],
      "execution_count": 78,
      "outputs": [
        {
          "output_type": "stream",
          "text": [
            "Out of fold log loss 1.0945776931062208\n"
          ],
          "name": "stdout"
        }
      ]
    },
    {
      "cell_type": "code",
      "metadata": {
        "colab": {
          "base_uri": "https://localhost:8080/"
        },
        "id": "MYB_Yoz0MJrv",
        "outputId": "9236dd0e-85bf-4786-b0d7-7ad1f0cf6f24"
      },
      "source": [
        "lgb_estimators[0]"
      ],
      "execution_count": 44,
      "outputs": [
        {
          "output_type": "execute_result",
          "data": {
            "text/plain": [
              "LGBMClassifier(bagging_fraction=0.8760623722003144, bagging_freq=4,\n",
              "               boosting_type ='gbdt', feature_fraction=0.42939073275678896,\n",
              "               lambda_l1=0.02259438646302076, lambda_l2=3.3834082296901886e-05,\n",
              "               learning_rate=0.07658957460133804, max_depth=4,\n",
              "               metric='multi_logloss', min_child_samples=71, n_estimators=334,\n",
              "               num_class=4, num_leaves=256, objective='multiclass',\n",
              "               random_state=42)"
            ]
          },
          "metadata": {
            "tags": []
          },
          "execution_count": 44
        }
      ]
    },
    {
      "cell_type": "markdown",
      "metadata": {
        "id": "qPaUz2_WNuTm"
      },
      "source": [
        "### Catboost"
      ]
    },
    {
      "cell_type": "code",
      "metadata": {
        "id": "NkCTJ6igYl6u"
      },
      "source": [
        "# optuna с кросс валидацией работает очень долго поэтому первое приближение получим \n",
        "# на отложенной выборке а потом дотюним\n",
        "def objective(trial):\n",
        "    data = get_input(\"train.csv\")\n",
        "    data.drop(columns='id', inplace=True)\n",
        "    mapper = {'Class_1': 0, 'Class_2': 1, 'Class_3': 2, 'Class_4': 3}\n",
        "    data['target'] = data['target'].map(mapper)\n",
        "    target = data['target']\n",
        "    data = data.drop(columns=['target'])\n",
        "\n",
        "    train_x, valid_x, train_y, valid_y = train_test_split(data, target, test_size=0.35)\n",
        "\n",
        "    param = {\n",
        "        \"loss_function\": \"MultiClass\",\n",
        "        \"eval_metric\": \"MultiClass\",\n",
        "        \"task_type\": \"GPU\",\n",
        "        \n",
        "        #\"colsample_bylevel\": trial.suggest_float(\"colsample_bylevel\", 0.01, 0.1),\n",
        "        #\"subsample\": trial.suggest_float(\"subsample\", 0.1, 1),\n",
        "\n",
        "        'min_data_in_leaf': trial.suggest_int('min_data_in_leaf', 10, 100),\n",
        "        'depth': trial.suggest_int('depth', 3,7),\n",
        "        'learning_rate': trial.suggest_uniform('learning_rate', 0.01, 0.13 ),\n",
        "        'random_strength' :trial.suggest_int('random_strength', 0, 100),\n",
        "        \"l2_leaf_reg\": trial.suggest_loguniform(\"l2_leaf_reg\", 1e-8, 100),                       \n",
        "        #'bagging_temperature' :trial.suggest_loguniform('bagging_temperature', 0.01, 100.00), # for bayesian bootstrap only\n",
        "\n",
        "        #'bootstrap_type': 'Bernoulli',\n",
        "        #'leaf_estimation_method': 'Newton',\n",
        "\n",
        "        'grow_policy': \"SymmetricTree\",\n",
        "    }\n",
        "\n",
        "    # Add a callback for pruning.\n",
        "    pruning_callback = optuna.integration.LightGBMPruningCallback(trial, \"multi_logloss\")\n",
        "    gbm = cb.CatBoostClassifier(**param)\n",
        "\n",
        "    gbm.fit(train_x, train_y, eval_set=[(valid_x, valid_y)], verbose=0, early_stopping_rounds=100)\n",
        "    preds = gbm.predict_proba(valid_x)\n",
        "\n",
        "\n",
        "    log_loss = sklearn.metrics.log_loss(valid_y, preds)\n",
        "    return log_loss"
      ],
      "execution_count": 172,
      "outputs": []
    },
    {
      "cell_type": "code",
      "metadata": {
        "id": "ihSvmuFUcpA2",
        "colab": {
          "base_uri": "https://localhost:8080/"
        },
        "outputId": "307f7752-66d8-4088-d673-f2aca56357df"
      },
      "source": [
        "study = optuna.create_study(\n",
        "        pruner=optuna.pruners.MedianPruner(n_warmup_steps=20), direction=\"minimize\"\n",
        "    )\n",
        "study.optimize(objective, n_trials=200)\n",
        "\n",
        "print(\"Best trial:\")\n",
        "trial = study.best_trial\n",
        "\n",
        "print(\"  Params: \")\n",
        "for key, value in trial.params.items():\n",
        "  print(\"    {}: {}\".format(key, value))"
      ],
      "execution_count": 173,
      "outputs": [
        {
          "output_type": "stream",
          "text": [
            "\u001b[32m[I 2021-05-25 20:07:18,768]\u001b[0m A new study created in memory with name: no-name-234ea1e3-17bb-4364-985a-ec4112338ece\u001b[0m\n"
          ],
          "name": "stderr"
        },
        {
          "output_type": "stream",
          "text": [
            "train.csv: shape = 100000 rows, 52 cols\n"
          ],
          "name": "stdout"
        },
        {
          "output_type": "stream",
          "text": [
            "Warning: less than 75% gpu memory available for training. Free: 9265.75 Total: 15109.75\n",
            "\u001b[32m[I 2021-05-25 20:07:19,978]\u001b[0m Trial 0 finished with value: 1.186633703881519 and parameters: {'min_data_in_leaf': 24, 'depth': 3, 'learning_rate': 0.12078519555155853, 'random_strength': 58, 'l2_leaf_reg': 2.6581884406103866e-06}. Best is trial 0 with value: 1.186633703881519.\u001b[0m\n"
          ],
          "name": "stderr"
        },
        {
          "output_type": "stream",
          "text": [
            "train.csv: shape = 100000 rows, 52 cols\n"
          ],
          "name": "stdout"
        },
        {
          "output_type": "stream",
          "text": [
            "Warning: less than 75% gpu memory available for training. Free: 9265.75 Total: 15109.75\n",
            "\u001b[32m[I 2021-05-25 20:07:25,654]\u001b[0m Trial 1 finished with value: 1.0898680635762144 and parameters: {'min_data_in_leaf': 33, 'depth': 4, 'learning_rate': 0.07195112205603399, 'random_strength': 86, 'l2_leaf_reg': 1.0362623676141234}. Best is trial 1 with value: 1.0898680635762144.\u001b[0m\n"
          ],
          "name": "stderr"
        },
        {
          "output_type": "stream",
          "text": [
            "train.csv: shape = 100000 rows, 52 cols\n"
          ],
          "name": "stdout"
        },
        {
          "output_type": "stream",
          "text": [
            "Warning: less than 75% gpu memory available for training. Free: 9265.75 Total: 15109.75\n",
            "\u001b[32m[I 2021-05-25 20:07:26,936]\u001b[0m Trial 2 finished with value: 1.3173342168736666 and parameters: {'min_data_in_leaf': 48, 'depth': 5, 'learning_rate': 0.12118267255718547, 'random_strength': 91, 'l2_leaf_reg': 2.187737122396502e-08}. Best is trial 1 with value: 1.0898680635762144.\u001b[0m\n"
          ],
          "name": "stderr"
        },
        {
          "output_type": "stream",
          "text": [
            "train.csv: shape = 100000 rows, 52 cols\n"
          ],
          "name": "stdout"
        },
        {
          "output_type": "stream",
          "text": [
            "Warning: less than 75% gpu memory available for training. Free: 9265.75 Total: 15109.75\n",
            "\u001b[32m[I 2021-05-25 20:07:28,074]\u001b[0m Trial 3 finished with value: 1.2885143238830576 and parameters: {'min_data_in_leaf': 31, 'depth': 3, 'learning_rate': 0.09696703499053426, 'random_strength': 37, 'l2_leaf_reg': 1.2406705861350582e-05}. Best is trial 1 with value: 1.0898680635762144.\u001b[0m\n"
          ],
          "name": "stderr"
        },
        {
          "output_type": "stream",
          "text": [
            "train.csv: shape = 100000 rows, 52 cols\n"
          ],
          "name": "stdout"
        },
        {
          "output_type": "stream",
          "text": [
            "Warning: less than 75% gpu memory available for training. Free: 9265.75 Total: 15109.75\n",
            "\u001b[32m[I 2021-05-25 20:07:29,193]\u001b[0m Trial 4 finished with value: 1.3487214925450937 and parameters: {'min_data_in_leaf': 54, 'depth': 3, 'learning_rate': 0.03290172667305659, 'random_strength': 27, 'l2_leaf_reg': 4.774231469146752e-06}. Best is trial 1 with value: 1.0898680635762144.\u001b[0m\n"
          ],
          "name": "stderr"
        },
        {
          "output_type": "stream",
          "text": [
            "train.csv: shape = 100000 rows, 52 cols\n"
          ],
          "name": "stdout"
        },
        {
          "output_type": "stream",
          "text": [
            "Warning: less than 75% gpu memory available for training. Free: 9265.75 Total: 15109.75\n",
            "\u001b[32m[I 2021-05-25 20:07:37,878]\u001b[0m Trial 5 finished with value: 1.0889162908317813 and parameters: {'min_data_in_leaf': 77, 'depth': 7, 'learning_rate': 0.029612677933852936, 'random_strength': 94, 'l2_leaf_reg': 0.00011373313536023518}. Best is trial 5 with value: 1.0889162908317813.\u001b[0m\n"
          ],
          "name": "stderr"
        },
        {
          "output_type": "stream",
          "text": [
            "train.csv: shape = 100000 rows, 52 cols\n"
          ],
          "name": "stdout"
        },
        {
          "output_type": "stream",
          "text": [
            "Warning: less than 75% gpu memory available for training. Free: 9265.75 Total: 15109.75\n",
            "\u001b[32m[I 2021-05-25 20:07:39,281]\u001b[0m Trial 6 finished with value: 1.302177859838092 and parameters: {'min_data_in_leaf': 24, 'depth': 6, 'learning_rate': 0.08058916149233035, 'random_strength': 93, 'l2_leaf_reg': 1.1370106091251025e-06}. Best is trial 5 with value: 1.0889162908317813.\u001b[0m\n"
          ],
          "name": "stderr"
        },
        {
          "output_type": "stream",
          "text": [
            "train.csv: shape = 100000 rows, 52 cols\n"
          ],
          "name": "stdout"
        },
        {
          "output_type": "stream",
          "text": [
            "Warning: less than 75% gpu memory available for training. Free: 9265.75 Total: 15109.75\n",
            "\u001b[32m[I 2021-05-25 20:07:47,215]\u001b[0m Trial 7 finished with value: 1.09778252116426 and parameters: {'min_data_in_leaf': 60, 'depth': 7, 'learning_rate': 0.019222503766012825, 'random_strength': 61, 'l2_leaf_reg': 6.0086680216965815}. Best is trial 5 with value: 1.0889162908317813.\u001b[0m\n"
          ],
          "name": "stderr"
        },
        {
          "output_type": "stream",
          "text": [
            "train.csv: shape = 100000 rows, 52 cols\n"
          ],
          "name": "stdout"
        },
        {
          "output_type": "stream",
          "text": [
            "Warning: less than 75% gpu memory available for training. Free: 9265.75 Total: 15109.75\n",
            "\u001b[32m[I 2021-05-25 20:07:50,283]\u001b[0m Trial 8 finished with value: 1.0949399281089018 and parameters: {'min_data_in_leaf': 79, 'depth': 6, 'learning_rate': 0.09010758048307221, 'random_strength': 42, 'l2_leaf_reg': 0.00031754537242025536}. Best is trial 5 with value: 1.0889162908317813.\u001b[0m\n"
          ],
          "name": "stderr"
        },
        {
          "output_type": "stream",
          "text": [
            "train.csv: shape = 100000 rows, 52 cols\n"
          ],
          "name": "stdout"
        },
        {
          "output_type": "stream",
          "text": [
            "Warning: less than 75% gpu memory available for training. Free: 9265.75 Total: 15109.75\n",
            "\u001b[32m[I 2021-05-25 20:07:57,351]\u001b[0m Trial 9 finished with value: 1.090675829555737 and parameters: {'min_data_in_leaf': 16, 'depth': 5, 'learning_rate': 0.022515184320922844, 'random_strength': 3, 'l2_leaf_reg': 0.007360147687425196}. Best is trial 5 with value: 1.0889162908317813.\u001b[0m\n"
          ],
          "name": "stderr"
        },
        {
          "output_type": "stream",
          "text": [
            "train.csv: shape = 100000 rows, 52 cols\n"
          ],
          "name": "stdout"
        },
        {
          "output_type": "stream",
          "text": [
            "Warning: less than 75% gpu memory available for training. Free: 9265.75 Total: 15109.75\n",
            "\u001b[32m[I 2021-05-25 20:08:05,433]\u001b[0m Trial 10 finished with value: 1.089795460988898 and parameters: {'min_data_in_leaf': 89, 'depth': 7, 'learning_rate': 0.05010642411806855, 'random_strength': 75, 'l2_leaf_reg': 0.0082235810452614}. Best is trial 5 with value: 1.0889162908317813.\u001b[0m\n"
          ],
          "name": "stderr"
        },
        {
          "output_type": "stream",
          "text": [
            "train.csv: shape = 100000 rows, 52 cols\n"
          ],
          "name": "stdout"
        },
        {
          "output_type": "stream",
          "text": [
            "Warning: less than 75% gpu memory available for training. Free: 9265.75 Total: 15109.75\n",
            "\u001b[32m[I 2021-05-25 20:08:12,788]\u001b[0m Trial 11 finished with value: 1.0940156528097917 and parameters: {'min_data_in_leaf': 100, 'depth': 7, 'learning_rate': 0.04243292265973676, 'random_strength': 74, 'l2_leaf_reg': 0.024042200708683355}. Best is trial 5 with value: 1.0889162908317813.\u001b[0m\n"
          ],
          "name": "stderr"
        },
        {
          "output_type": "stream",
          "text": [
            "train.csv: shape = 100000 rows, 52 cols\n"
          ],
          "name": "stdout"
        },
        {
          "output_type": "stream",
          "text": [
            "Warning: less than 75% gpu memory available for training. Free: 9265.75 Total: 15109.75\n",
            "\u001b[32m[I 2021-05-25 20:08:18,801]\u001b[0m Trial 12 finished with value: 1.0970233447213409 and parameters: {'min_data_in_leaf': 95, 'depth': 7, 'learning_rate': 0.04680601468804839, 'random_strength': 74, 'l2_leaf_reg': 0.00031147846915903304}. Best is trial 5 with value: 1.0889162908317813.\u001b[0m\n"
          ],
          "name": "stderr"
        },
        {
          "output_type": "stream",
          "text": [
            "train.csv: shape = 100000 rows, 52 cols\n"
          ],
          "name": "stdout"
        },
        {
          "output_type": "stream",
          "text": [
            "Warning: less than 75% gpu memory available for training. Free: 9265.75 Total: 15109.75\n",
            "\u001b[32m[I 2021-05-25 20:08:25,122]\u001b[0m Trial 13 finished with value: 1.0869168701293184 and parameters: {'min_data_in_leaf': 80, 'depth': 6, 'learning_rate': 0.05557664790258706, 'random_strength': 75, 'l2_leaf_reg': 0.17076216460834498}. Best is trial 13 with value: 1.0869168701293184.\u001b[0m\n"
          ],
          "name": "stderr"
        },
        {
          "output_type": "stream",
          "text": [
            "train.csv: shape = 100000 rows, 52 cols\n"
          ],
          "name": "stdout"
        },
        {
          "output_type": "stream",
          "text": [
            "Warning: less than 75% gpu memory available for training. Free: 9265.75 Total: 15109.75\n",
            "\u001b[32m[I 2021-05-25 20:08:30,051]\u001b[0m Trial 14 finished with value: 1.094574348718123 and parameters: {'min_data_in_leaf': 73, 'depth': 6, 'learning_rate': 0.060526678307841975, 'random_strength': 100, 'l2_leaf_reg': 0.2621555442458}. Best is trial 13 with value: 1.0869168701293184.\u001b[0m\n"
          ],
          "name": "stderr"
        },
        {
          "output_type": "stream",
          "text": [
            "train.csv: shape = 100000 rows, 52 cols\n"
          ],
          "name": "stdout"
        },
        {
          "output_type": "stream",
          "text": [
            "Warning: less than 75% gpu memory available for training. Free: 9265.75 Total: 15109.75\n",
            "\u001b[32m[I 2021-05-25 20:08:35,964]\u001b[0m Trial 15 finished with value: 1.0999934903965098 and parameters: {'min_data_in_leaf': 72, 'depth': 6, 'learning_rate': 0.014175811896680296, 'random_strength': 100, 'l2_leaf_reg': 0.19544945187028492}. Best is trial 13 with value: 1.0869168701293184.\u001b[0m\n"
          ],
          "name": "stderr"
        },
        {
          "output_type": "stream",
          "text": [
            "train.csv: shape = 100000 rows, 52 cols\n"
          ],
          "name": "stdout"
        },
        {
          "output_type": "stream",
          "text": [
            "Warning: less than 75% gpu memory available for training. Free: 9265.75 Total: 15109.75\n",
            "\u001b[32m[I 2021-05-25 20:08:43,547]\u001b[0m Trial 16 finished with value: 1.0951472922018242 and parameters: {'min_data_in_leaf': 88, 'depth': 6, 'learning_rate': 0.03164915071400415, 'random_strength': 81, 'l2_leaf_reg': 58.96772387736771}. Best is trial 13 with value: 1.0869168701293184.\u001b[0m\n"
          ],
          "name": "stderr"
        },
        {
          "output_type": "stream",
          "text": [
            "train.csv: shape = 100000 rows, 52 cols\n"
          ],
          "name": "stdout"
        },
        {
          "output_type": "stream",
          "text": [
            "Warning: less than 75% gpu memory available for training. Free: 9265.75 Total: 15109.75\n",
            "\u001b[32m[I 2021-05-25 20:08:44,828]\u001b[0m Trial 17 finished with value: 1.3498115755394768 and parameters: {'min_data_in_leaf': 64, 'depth': 5, 'learning_rate': 0.0620943623388789, 'random_strength': 66, 'l2_leaf_reg': 4.001607179131703e-08}. Best is trial 13 with value: 1.0869168701293184.\u001b[0m\n"
          ],
          "name": "stderr"
        },
        {
          "output_type": "stream",
          "text": [
            "train.csv: shape = 100000 rows, 52 cols\n"
          ],
          "name": "stdout"
        },
        {
          "output_type": "stream",
          "text": [
            "Warning: less than 75% gpu memory available for training. Free: 9265.75 Total: 15109.75\n",
            "\u001b[32m[I 2021-05-25 20:08:46,475]\u001b[0m Trial 18 finished with value: 1.3661173627100829 and parameters: {'min_data_in_leaf': 78, 'depth': 7, 'learning_rate': 0.03384338484436058, 'random_strength': 53, 'l2_leaf_reg': 5.9950172509526934e-05}. Best is trial 13 with value: 1.0869168701293184.\u001b[0m\n"
          ],
          "name": "stderr"
        },
        {
          "output_type": "stream",
          "text": [
            "train.csv: shape = 100000 rows, 52 cols\n"
          ],
          "name": "stdout"
        },
        {
          "output_type": "stream",
          "text": [
            "Warning: less than 75% gpu memory available for training. Free: 9265.75 Total: 15109.75\n",
            "\u001b[32m[I 2021-05-25 20:08:52,099]\u001b[0m Trial 19 finished with value: 1.0930752961393073 and parameters: {'min_data_in_leaf': 47, 'depth': 4, 'learning_rate': 0.059975321977370495, 'random_strength': 95, 'l2_leaf_reg': 46.21602942887901}. Best is trial 13 with value: 1.0869168701293184.\u001b[0m\n"
          ],
          "name": "stderr"
        },
        {
          "output_type": "stream",
          "text": [
            "train.csv: shape = 100000 rows, 52 cols\n"
          ],
          "name": "stdout"
        },
        {
          "output_type": "stream",
          "text": [
            "Warning: less than 75% gpu memory available for training. Free: 9265.75 Total: 15109.75\n",
            "\u001b[32m[I 2021-05-25 20:08:58,461]\u001b[0m Trial 20 finished with value: 1.0956206476692645 and parameters: {'min_data_in_leaf': 86, 'depth': 6, 'learning_rate': 0.0487189829246778, 'random_strength': 81, 'l2_leaf_reg': 0.0034420161371314434}. Best is trial 13 with value: 1.0869168701293184.\u001b[0m\n"
          ],
          "name": "stderr"
        },
        {
          "output_type": "stream",
          "text": [
            "train.csv: shape = 100000 rows, 52 cols\n"
          ],
          "name": "stdout"
        },
        {
          "output_type": "stream",
          "text": [
            "Warning: less than 75% gpu memory available for training. Free: 9265.75 Total: 15109.75\n",
            "\u001b[32m[I 2021-05-25 20:09:04,271]\u001b[0m Trial 21 finished with value: 1.0964208791848402 and parameters: {'min_data_in_leaf': 92, 'depth': 7, 'learning_rate': 0.05155988672844171, 'random_strength': 70, 'l2_leaf_reg': 0.05073263276454544}. Best is trial 13 with value: 1.0869168701293184.\u001b[0m\n"
          ],
          "name": "stderr"
        },
        {
          "output_type": "stream",
          "text": [
            "train.csv: shape = 100000 rows, 52 cols\n"
          ],
          "name": "stdout"
        },
        {
          "output_type": "stream",
          "text": [
            "Warning: less than 75% gpu memory available for training. Free: 9265.75 Total: 15109.75\n",
            "\u001b[32m[I 2021-05-25 20:09:08,350]\u001b[0m Trial 22 finished with value: 1.0943119874389708 and parameters: {'min_data_in_leaf': 100, 'depth': 7, 'learning_rate': 0.07363262492465013, 'random_strength': 81, 'l2_leaf_reg': 0.0014202170487802562}. Best is trial 13 with value: 1.0869168701293184.\u001b[0m\n"
          ],
          "name": "stderr"
        },
        {
          "output_type": "stream",
          "text": [
            "train.csv: shape = 100000 rows, 52 cols\n"
          ],
          "name": "stdout"
        },
        {
          "output_type": "stream",
          "text": [
            "Warning: less than 75% gpu memory available for training. Free: 9265.75 Total: 15109.75\n",
            "\u001b[32m[I 2021-05-25 20:09:15,444]\u001b[0m Trial 23 finished with value: 1.0942957978348875 and parameters: {'min_data_in_leaf': 81, 'depth': 7, 'learning_rate': 0.010415070300543172, 'random_strength': 46, 'l2_leaf_reg': 2.419516376036321}. Best is trial 13 with value: 1.0869168701293184.\u001b[0m\n"
          ],
          "name": "stderr"
        },
        {
          "output_type": "stream",
          "text": [
            "train.csv: shape = 100000 rows, 52 cols\n"
          ],
          "name": "stdout"
        },
        {
          "output_type": "stream",
          "text": [
            "Warning: less than 75% gpu memory available for training. Free: 9265.75 Total: 15109.75\n",
            "\u001b[32m[I 2021-05-25 20:09:22,779]\u001b[0m Trial 24 finished with value: 1.0945391816317032 and parameters: {'min_data_in_leaf': 68, 'depth': 6, 'learning_rate': 0.04093752837633574, 'random_strength': 87, 'l2_leaf_reg': 0.00011512520576207445}. Best is trial 13 with value: 1.0869168701293184.\u001b[0m\n"
          ],
          "name": "stderr"
        },
        {
          "output_type": "stream",
          "text": [
            "train.csv: shape = 100000 rows, 52 cols\n"
          ],
          "name": "stdout"
        },
        {
          "output_type": "stream",
          "text": [
            "Warning: less than 75% gpu memory available for training. Free: 9265.75 Total: 15109.75\n",
            "\u001b[32m[I 2021-05-25 20:09:31,433]\u001b[0m Trial 25 finished with value: 1.0911117665423764 and parameters: {'min_data_in_leaf': 85, 'depth': 7, 'learning_rate': 0.025349720673813872, 'random_strength': 66, 'l2_leaf_reg': 0.01531751738760251}. Best is trial 13 with value: 1.0869168701293184.\u001b[0m\n"
          ],
          "name": "stderr"
        },
        {
          "output_type": "stream",
          "text": [
            "train.csv: shape = 100000 rows, 52 cols\n"
          ],
          "name": "stdout"
        },
        {
          "output_type": "stream",
          "text": [
            "Warning: less than 75% gpu memory available for training. Free: 9265.75 Total: 15109.75\n",
            "\u001b[32m[I 2021-05-25 20:09:36,758]\u001b[0m Trial 26 finished with value: 1.0938253751049742 and parameters: {'min_data_in_leaf': 94, 'depth': 6, 'learning_rate': 0.0561982029135949, 'random_strength': 77, 'l2_leaf_reg': 0.13698238968659376}. Best is trial 13 with value: 1.0869168701293184.\u001b[0m\n"
          ],
          "name": "stderr"
        },
        {
          "output_type": "stream",
          "text": [
            "train.csv: shape = 100000 rows, 52 cols\n"
          ],
          "name": "stdout"
        },
        {
          "output_type": "stream",
          "text": [
            "Warning: less than 75% gpu memory available for training. Free: 9265.75 Total: 15109.75\n",
            "\u001b[32m[I 2021-05-25 20:09:45,475]\u001b[0m Trial 27 finished with value: 1.0948455760112155 and parameters: {'min_data_in_leaf': 73, 'depth': 7, 'learning_rate': 0.038374213706832555, 'random_strength': 97, 'l2_leaf_reg': 0.0034145043003224423}. Best is trial 13 with value: 1.0869168701293184.\u001b[0m\n"
          ],
          "name": "stderr"
        },
        {
          "output_type": "stream",
          "text": [
            "train.csv: shape = 100000 rows, 52 cols\n"
          ],
          "name": "stdout"
        },
        {
          "output_type": "stream",
          "text": [
            "Warning: less than 75% gpu memory available for training. Free: 9265.75 Total: 15109.75\n",
            "\u001b[32m[I 2021-05-25 20:09:46,868]\u001b[0m Trial 28 finished with value: 1.3390547462443718 and parameters: {'min_data_in_leaf': 100, 'depth': 6, 'learning_rate': 0.08153624038253171, 'random_strength': 54, 'l2_leaf_reg': 2.0857776634676497e-07}. Best is trial 13 with value: 1.0869168701293184.\u001b[0m\n"
          ],
          "name": "stderr"
        },
        {
          "output_type": "stream",
          "text": [
            "train.csv: shape = 100000 rows, 52 cols\n"
          ],
          "name": "stdout"
        },
        {
          "output_type": "stream",
          "text": [
            "Warning: less than 75% gpu memory available for training. Free: 9265.75 Total: 15109.75\n",
            "\u001b[32m[I 2021-05-25 20:09:48,200]\u001b[0m Trial 29 finished with value: 1.3230146482528375 and parameters: {'min_data_in_leaf': 59, 'depth': 5, 'learning_rate': 0.1104600254746971, 'random_strength': 59, 'l2_leaf_reg': 2.2118644783930476e-05}. Best is trial 13 with value: 1.0869168701293184.\u001b[0m\n"
          ],
          "name": "stderr"
        },
        {
          "output_type": "stream",
          "text": [
            "train.csv: shape = 100000 rows, 52 cols\n"
          ],
          "name": "stdout"
        },
        {
          "output_type": "stream",
          "text": [
            "Warning: less than 75% gpu memory available for training. Free: 9265.75 Total: 15109.75\n",
            "\u001b[32m[I 2021-05-25 20:09:52,531]\u001b[0m Trial 30 finished with value: 1.0909489404184392 and parameters: {'min_data_in_leaf': 82, 'depth': 7, 'learning_rate': 0.06751713804896142, 'random_strength': 87, 'l2_leaf_reg': 0.0008407576807235519}. Best is trial 13 with value: 1.0869168701293184.\u001b[0m\n"
          ],
          "name": "stderr"
        },
        {
          "output_type": "stream",
          "text": [
            "train.csv: shape = 100000 rows, 52 cols\n"
          ],
          "name": "stdout"
        },
        {
          "output_type": "stream",
          "text": [
            "Warning: less than 75% gpu memory available for training. Free: 9265.75 Total: 15109.75\n",
            "\u001b[32m[I 2021-05-25 20:09:57,979]\u001b[0m Trial 31 finished with value: 1.0947043377890044 and parameters: {'min_data_in_leaf': 12, 'depth': 4, 'learning_rate': 0.069968793451516, 'random_strength': 87, 'l2_leaf_reg': 1.4015505546670397}. Best is trial 13 with value: 1.0869168701293184.\u001b[0m\n"
          ],
          "name": "stderr"
        },
        {
          "output_type": "stream",
          "text": [
            "train.csv: shape = 100000 rows, 52 cols\n"
          ],
          "name": "stdout"
        },
        {
          "output_type": "stream",
          "text": [
            "Warning: less than 75% gpu memory available for training. Free: 9265.75 Total: 15109.75\n",
            "\u001b[32m[I 2021-05-25 20:10:03,459]\u001b[0m Trial 32 finished with value: 1.0962105962450035 and parameters: {'min_data_in_leaf': 35, 'depth': 4, 'learning_rate': 0.05327634231289161, 'random_strength': 90, 'l2_leaf_reg': 0.8421502382481408}. Best is trial 13 with value: 1.0869168701293184.\u001b[0m\n"
          ],
          "name": "stderr"
        },
        {
          "output_type": "stream",
          "text": [
            "train.csv: shape = 100000 rows, 52 cols\n"
          ],
          "name": "stdout"
        },
        {
          "output_type": "stream",
          "text": [
            "Warning: less than 75% gpu memory available for training. Free: 9265.75 Total: 15109.75\n",
            "\u001b[32m[I 2021-05-25 20:10:09,109]\u001b[0m Trial 33 finished with value: 1.0888008655046322 and parameters: {'min_data_in_leaf': 44, 'depth': 4, 'learning_rate': 0.08326139993190705, 'random_strength': 82, 'l2_leaf_reg': 4.38787365313175}. Best is trial 13 with value: 1.0869168701293184.\u001b[0m\n"
          ],
          "name": "stderr"
        },
        {
          "output_type": "stream",
          "text": [
            "train.csv: shape = 100000 rows, 52 cols\n"
          ],
          "name": "stdout"
        },
        {
          "output_type": "stream",
          "text": [
            "Warning: less than 75% gpu memory available for training. Free: 9265.75 Total: 15109.75\n",
            "\u001b[32m[I 2021-05-25 20:10:14,757]\u001b[0m Trial 34 finished with value: 1.0891163228015432 and parameters: {'min_data_in_leaf': 44, 'depth': 4, 'learning_rate': 0.07401870226859777, 'random_strength': 68, 'l2_leaf_reg': 4.806633786667923}. Best is trial 13 with value: 1.0869168701293184.\u001b[0m\n"
          ],
          "name": "stderr"
        },
        {
          "output_type": "stream",
          "text": [
            "train.csv: shape = 100000 rows, 52 cols\n"
          ],
          "name": "stdout"
        },
        {
          "output_type": "stream",
          "text": [
            "Warning: less than 75% gpu memory available for training. Free: 9265.75 Total: 15109.75\n",
            "\u001b[32m[I 2021-05-25 20:10:19,640]\u001b[0m Trial 35 finished with value: 1.0912007422677925 and parameters: {'min_data_in_leaf': 46, 'depth': 3, 'learning_rate': 0.10260585472884601, 'random_strength': 61, 'l2_leaf_reg': 7.1739537778928675}. Best is trial 13 with value: 1.0869168701293184.\u001b[0m\n"
          ],
          "name": "stderr"
        },
        {
          "output_type": "stream",
          "text": [
            "train.csv: shape = 100000 rows, 52 cols\n"
          ],
          "name": "stdout"
        },
        {
          "output_type": "stream",
          "text": [
            "Warning: less than 75% gpu memory available for training. Free: 9265.75 Total: 15109.75\n",
            "\u001b[32m[I 2021-05-25 20:10:24,885]\u001b[0m Trial 36 finished with value: 1.0911295965989822 and parameters: {'min_data_in_leaf': 40, 'depth': 4, 'learning_rate': 0.08362685593342127, 'random_strength': 68, 'l2_leaf_reg': 19.5016585222766}. Best is trial 13 with value: 1.0869168701293184.\u001b[0m\n"
          ],
          "name": "stderr"
        },
        {
          "output_type": "stream",
          "text": [
            "train.csv: shape = 100000 rows, 52 cols\n"
          ],
          "name": "stdout"
        },
        {
          "output_type": "stream",
          "text": [
            "Warning: less than 75% gpu memory available for training. Free: 9265.75 Total: 15109.75\n",
            "\u001b[32m[I 2021-05-25 20:10:29,889]\u001b[0m Trial 37 finished with value: 1.0904304174072934 and parameters: {'min_data_in_leaf': 52, 'depth': 3, 'learning_rate': 0.09195494513929797, 'random_strength': 82, 'l2_leaf_reg': 15.640398186875675}. Best is trial 13 with value: 1.0869168701293184.\u001b[0m\n"
          ],
          "name": "stderr"
        },
        {
          "output_type": "stream",
          "text": [
            "train.csv: shape = 100000 rows, 52 cols\n"
          ],
          "name": "stdout"
        },
        {
          "output_type": "stream",
          "text": [
            "Warning: less than 75% gpu memory available for training. Free: 9265.75 Total: 15109.75\n",
            "\u001b[32m[I 2021-05-25 20:10:34,024]\u001b[0m Trial 38 finished with value: 1.091773130108656 and parameters: {'min_data_in_leaf': 27, 'depth': 4, 'learning_rate': 0.10431303937438824, 'random_strength': 19, 'l2_leaf_reg': 3.6332782374751846}. Best is trial 13 with value: 1.0869168701293184.\u001b[0m\n"
          ],
          "name": "stderr"
        },
        {
          "output_type": "stream",
          "text": [
            "train.csv: shape = 100000 rows, 52 cols\n"
          ],
          "name": "stdout"
        },
        {
          "output_type": "stream",
          "text": [
            "Warning: less than 75% gpu memory available for training. Free: 9265.75 Total: 15109.75\n",
            "\u001b[32m[I 2021-05-25 20:10:38,194]\u001b[0m Trial 39 finished with value: 1.091337770913929 and parameters: {'min_data_in_leaf': 41, 'depth': 5, 'learning_rate': 0.07612992552539298, 'random_strength': 92, 'l2_leaf_reg': 0.6074548545386605}. Best is trial 13 with value: 1.0869168701293184.\u001b[0m\n"
          ],
          "name": "stderr"
        },
        {
          "output_type": "stream",
          "text": [
            "train.csv: shape = 100000 rows, 52 cols\n"
          ],
          "name": "stdout"
        },
        {
          "output_type": "stream",
          "text": [
            "Warning: less than 75% gpu memory available for training. Free: 9265.75 Total: 15109.75\n",
            "\u001b[32m[I 2021-05-25 20:10:39,310]\u001b[0m Trial 40 finished with value: 1.3333257841583332 and parameters: {'min_data_in_leaf': 57, 'depth': 3, 'learning_rate': 0.09234127933122296, 'random_strength': 71, 'l2_leaf_reg': 2.238766542613101e-06}. Best is trial 13 with value: 1.0869168701293184.\u001b[0m\n"
          ],
          "name": "stderr"
        },
        {
          "output_type": "stream",
          "text": [
            "train.csv: shape = 100000 rows, 52 cols\n"
          ],
          "name": "stdout"
        },
        {
          "output_type": "stream",
          "text": [
            "Warning: less than 75% gpu memory available for training. Free: 9265.75 Total: 15109.75\n",
            "\u001b[32m[I 2021-05-25 20:10:44,434]\u001b[0m Trial 41 finished with value: 1.0929482589286184 and parameters: {'min_data_in_leaf': 39, 'depth': 4, 'learning_rate': 0.06650573765708406, 'random_strength': 74, 'l2_leaf_reg': 0.05051148100289595}. Best is trial 13 with value: 1.0869168701293184.\u001b[0m\n"
          ],
          "name": "stderr"
        },
        {
          "output_type": "stream",
          "text": [
            "train.csv: shape = 100000 rows, 52 cols\n"
          ],
          "name": "stdout"
        },
        {
          "output_type": "stream",
          "text": [
            "Warning: less than 75% gpu memory available for training. Free: 9265.75 Total: 15109.75\n",
            "\u001b[32m[I 2021-05-25 20:10:48,228]\u001b[0m Trial 42 finished with value: 1.0908082906243195 and parameters: {'min_data_in_leaf': 51, 'depth': 5, 'learning_rate': 0.0857614907520053, 'random_strength': 78, 'l2_leaf_reg': 0.06481261077238604}. Best is trial 13 with value: 1.0869168701293184.\u001b[0m\n"
          ],
          "name": "stderr"
        },
        {
          "output_type": "stream",
          "text": [
            "train.csv: shape = 100000 rows, 52 cols\n"
          ],
          "name": "stdout"
        },
        {
          "output_type": "stream",
          "text": [
            "Warning: less than 75% gpu memory available for training. Free: 9265.75 Total: 15109.75\n",
            "\u001b[32m[I 2021-05-25 20:10:52,727]\u001b[0m Trial 43 finished with value: 1.0932308932274237 and parameters: {'min_data_in_leaf': 65, 'depth': 4, 'learning_rate': 0.07509229592790023, 'random_strength': 66, 'l2_leaf_reg': 0.42949053571331613}. Best is trial 13 with value: 1.0869168701293184.\u001b[0m\n"
          ],
          "name": "stderr"
        },
        {
          "output_type": "stream",
          "text": [
            "train.csv: shape = 100000 rows, 52 cols\n"
          ],
          "name": "stdout"
        },
        {
          "output_type": "stream",
          "text": [
            "Warning: less than 75% gpu memory available for training. Free: 9265.75 Total: 15109.75\n",
            "\u001b[32m[I 2021-05-25 20:10:59,466]\u001b[0m Trial 44 finished with value: 1.0963491112680257 and parameters: {'min_data_in_leaf': 44, 'depth': 5, 'learning_rate': 0.045194948716566735, 'random_strength': 84, 'l2_leaf_reg': 0.011286360562003087}. Best is trial 13 with value: 1.0869168701293184.\u001b[0m\n"
          ],
          "name": "stderr"
        },
        {
          "output_type": "stream",
          "text": [
            "train.csv: shape = 100000 rows, 52 cols\n"
          ],
          "name": "stdout"
        },
        {
          "output_type": "stream",
          "text": [
            "Warning: less than 75% gpu memory available for training. Free: 9265.75 Total: 15109.75\n",
            "\u001b[32m[I 2021-05-25 20:11:05,233]\u001b[0m Trial 45 finished with value: 1.0938743336946204 and parameters: {'min_data_in_leaf': 31, 'depth': 4, 'learning_rate': 0.05622817277750462, 'random_strength': 76, 'l2_leaf_reg': 0.0003416919361316871}. Best is trial 13 with value: 1.0869168701293184.\u001b[0m\n"
          ],
          "name": "stderr"
        },
        {
          "output_type": "stream",
          "text": [
            "train.csv: shape = 100000 rows, 52 cols\n"
          ],
          "name": "stdout"
        },
        {
          "output_type": "stream",
          "text": [
            "Warning: less than 75% gpu memory available for training. Free: 9265.75 Total: 15109.75\n",
            "\u001b[32m[I 2021-05-25 20:11:10,182]\u001b[0m Trial 46 finished with value: 1.0977939379999926 and parameters: {'min_data_in_leaf': 76, 'depth': 3, 'learning_rate': 0.06371232810186106, 'random_strength': 35, 'l2_leaf_reg': 11.574361044918115}. Best is trial 13 with value: 1.0869168701293184.\u001b[0m\n"
          ],
          "name": "stderr"
        },
        {
          "output_type": "stream",
          "text": [
            "train.csv: shape = 100000 rows, 52 cols\n"
          ],
          "name": "stdout"
        },
        {
          "output_type": "stream",
          "text": [
            "Warning: less than 75% gpu memory available for training. Free: 9265.75 Total: 15109.75\n",
            "\u001b[32m[I 2021-05-25 20:11:16,221]\u001b[0m Trial 47 finished with value: 1.0927217405839302 and parameters: {'min_data_in_leaf': 63, 'depth': 5, 'learning_rate': 0.025194031946044203, 'random_strength': 99, 'l2_leaf_reg': 0.1275162887245796}. Best is trial 13 with value: 1.0869168701293184.\u001b[0m\n"
          ],
          "name": "stderr"
        },
        {
          "output_type": "stream",
          "text": [
            "train.csv: shape = 100000 rows, 52 cols\n"
          ],
          "name": "stdout"
        },
        {
          "output_type": "stream",
          "text": [
            "Warning: less than 75% gpu memory available for training. Free: 9265.75 Total: 15109.75\n",
            "\u001b[32m[I 2021-05-25 20:11:23,664]\u001b[0m Trial 48 finished with value: 1.0908352270553296 and parameters: {'min_data_in_leaf': 91, 'depth': 6, 'learning_rate': 0.03158676067360349, 'random_strength': 62, 'l2_leaf_reg': 2.3115177796261444}. Best is trial 13 with value: 1.0869168701293184.\u001b[0m\n"
          ],
          "name": "stderr"
        },
        {
          "output_type": "stream",
          "text": [
            "train.csv: shape = 100000 rows, 52 cols\n"
          ],
          "name": "stdout"
        },
        {
          "output_type": "stream",
          "text": [
            "Warning: less than 75% gpu memory available for training. Free: 9265.75 Total: 15109.75\n",
            "\u001b[32m[I 2021-05-25 20:11:24,844]\u001b[0m Trial 49 finished with value: 1.3414319704950226 and parameters: {'min_data_in_leaf': 21, 'depth': 4, 'learning_rate': 0.07705141545329378, 'random_strength': 91, 'l2_leaf_reg': 1.904714694293859e-05}. Best is trial 13 with value: 1.0869168701293184.\u001b[0m\n"
          ],
          "name": "stderr"
        },
        {
          "output_type": "stream",
          "text": [
            "train.csv: shape = 100000 rows, 52 cols\n"
          ],
          "name": "stdout"
        },
        {
          "output_type": "stream",
          "text": [
            "Warning: less than 75% gpu memory available for training. Free: 9265.75 Total: 15109.75\n",
            "\u001b[32m[I 2021-05-25 20:11:32,799]\u001b[0m Trial 50 finished with value: 1.0955196981207298 and parameters: {'min_data_in_leaf': 70, 'depth': 7, 'learning_rate': 0.018005019541046767, 'random_strength': 55, 'l2_leaf_reg': 86.5270796898434}. Best is trial 13 with value: 1.0869168701293184.\u001b[0m\n"
          ],
          "name": "stderr"
        },
        {
          "output_type": "stream",
          "text": [
            "train.csv: shape = 100000 rows, 52 cols\n"
          ],
          "name": "stdout"
        },
        {
          "output_type": "stream",
          "text": [
            "Warning: less than 75% gpu memory available for training. Free: 9265.75 Total: 15109.75\n",
            "\u001b[32m[I 2021-05-25 20:11:38,523]\u001b[0m Trial 51 finished with value: 1.0925668709609466 and parameters: {'min_data_in_leaf': 37, 'depth': 4, 'learning_rate': 0.08894556221388104, 'random_strength': 72, 'l2_leaf_reg': 28.55045776692967}. Best is trial 13 with value: 1.0869168701293184.\u001b[0m\n"
          ],
          "name": "stderr"
        },
        {
          "output_type": "stream",
          "text": [
            "train.csv: shape = 100000 rows, 52 cols\n"
          ],
          "name": "stdout"
        },
        {
          "output_type": "stream",
          "text": [
            "Warning: less than 75% gpu memory available for training. Free: 9265.75 Total: 15109.75\n",
            "\u001b[32m[I 2021-05-25 20:11:43,592]\u001b[0m Trial 52 finished with value: 1.093101618666682 and parameters: {'min_data_in_leaf': 32, 'depth': 4, 'learning_rate': 0.0792330468382374, 'random_strength': 85, 'l2_leaf_reg': 0.33291861070436807}. Best is trial 13 with value: 1.0869168701293184.\u001b[0m\n"
          ],
          "name": "stderr"
        },
        {
          "output_type": "stream",
          "text": [
            "train.csv: shape = 100000 rows, 52 cols\n"
          ],
          "name": "stdout"
        },
        {
          "output_type": "stream",
          "text": [
            "Warning: less than 75% gpu memory available for training. Free: 9265.75 Total: 15109.75\n",
            "\u001b[32m[I 2021-05-25 20:11:48,297]\u001b[0m Trial 53 finished with value: 1.094209420501426 and parameters: {'min_data_in_leaf': 27, 'depth': 3, 'learning_rate': 0.0716504908066034, 'random_strength': 77, 'l2_leaf_reg': 5.749125573493157}. Best is trial 13 with value: 1.0869168701293184.\u001b[0m\n"
          ],
          "name": "stderr"
        },
        {
          "output_type": "stream",
          "text": [
            "train.csv: shape = 100000 rows, 52 cols\n"
          ],
          "name": "stdout"
        },
        {
          "output_type": "stream",
          "text": [
            "Warning: less than 75% gpu memory available for training. Free: 9265.75 Total: 15109.75\n",
            "\u001b[32m[I 2021-05-25 20:11:54,043]\u001b[0m Trial 54 finished with value: 1.0910771227398406 and parameters: {'min_data_in_leaf': 43, 'depth': 4, 'learning_rate': 0.05946901879295437, 'random_strength': 95, 'l2_leaf_reg': 1.056046119201111}. Best is trial 13 with value: 1.0869168701293184.\u001b[0m\n"
          ],
          "name": "stderr"
        },
        {
          "output_type": "stream",
          "text": [
            "train.csv: shape = 100000 rows, 52 cols\n"
          ],
          "name": "stdout"
        },
        {
          "output_type": "stream",
          "text": [
            "Warning: less than 75% gpu memory available for training. Free: 9265.75 Total: 15109.75\n",
            "\u001b[32m[I 2021-05-25 20:12:00,238]\u001b[0m Trial 55 finished with value: 1.0907661649818936 and parameters: {'min_data_in_leaf': 49, 'depth': 7, 'learning_rate': 0.05068452580691591, 'random_strength': 80, 'l2_leaf_reg': 0.0038380670062249478}. Best is trial 13 with value: 1.0869168701293184.\u001b[0m\n"
          ],
          "name": "stderr"
        },
        {
          "output_type": "stream",
          "text": [
            "train.csv: shape = 100000 rows, 52 cols\n"
          ],
          "name": "stdout"
        },
        {
          "output_type": "stream",
          "text": [
            "Warning: less than 75% gpu memory available for training. Free: 9265.75 Total: 15109.75\n",
            "\u001b[32m[I 2021-05-25 20:12:06,111]\u001b[0m Trial 56 finished with value: 1.0906496093277767 and parameters: {'min_data_in_leaf': 55, 'depth': 6, 'learning_rate': 0.06504868292651468, 'random_strength': 90, 'l2_leaf_reg': 0.029458167721213388}. Best is trial 13 with value: 1.0869168701293184.\u001b[0m\n"
          ],
          "name": "stderr"
        },
        {
          "output_type": "stream",
          "text": [
            "train.csv: shape = 100000 rows, 52 cols\n"
          ],
          "name": "stdout"
        },
        {
          "output_type": "stream",
          "text": [
            "Warning: less than 75% gpu memory available for training. Free: 9265.75 Total: 15109.75\n",
            "\u001b[32m[I 2021-05-25 20:12:07,407]\u001b[0m Trial 57 finished with value: 1.2889636681170535 and parameters: {'min_data_in_leaf': 84, 'depth': 5, 'learning_rate': 0.0963125667545601, 'random_strength': 49, 'l2_leaf_reg': 6.550951067368021e-05}. Best is trial 13 with value: 1.0869168701293184.\u001b[0m\n"
          ],
          "name": "stderr"
        },
        {
          "output_type": "stream",
          "text": [
            "train.csv: shape = 100000 rows, 52 cols\n"
          ],
          "name": "stdout"
        },
        {
          "output_type": "stream",
          "text": [
            "Warning: less than 75% gpu memory available for training. Free: 9265.75 Total: 15109.75\n",
            "\u001b[32m[I 2021-05-25 20:12:14,460]\u001b[0m Trial 58 finished with value: 1.097480017620552 and parameters: {'min_data_in_leaf': 90, 'depth': 7, 'learning_rate': 0.0362058499180881, 'random_strength': 65, 'l2_leaf_reg': 0.0009758517718541575}. Best is trial 13 with value: 1.0869168701293184.\u001b[0m\n"
          ],
          "name": "stderr"
        },
        {
          "output_type": "stream",
          "text": [
            "train.csv: shape = 100000 rows, 52 cols\n"
          ],
          "name": "stdout"
        },
        {
          "output_type": "stream",
          "text": [
            "Warning: less than 75% gpu memory available for training. Free: 9265.75 Total: 15109.75\n",
            "\u001b[32m[I 2021-05-25 20:12:22,209]\u001b[0m Trial 59 finished with value: 1.0901868917398791 and parameters: {'min_data_in_leaf': 76, 'depth': 6, 'learning_rate': 0.04357086163132811, 'random_strength': 84, 'l2_leaf_reg': 0.10809631346662618}. Best is trial 13 with value: 1.0869168701293184.\u001b[0m\n"
          ],
          "name": "stderr"
        },
        {
          "output_type": "stream",
          "text": [
            "train.csv: shape = 100000 rows, 52 cols\n"
          ],
          "name": "stdout"
        },
        {
          "output_type": "stream",
          "text": [
            "Warning: less than 75% gpu memory available for training. Free: 9265.75 Total: 15109.75\n",
            "\u001b[32m[I 2021-05-25 20:12:25,491]\u001b[0m Trial 60 finished with value: 1.0891165048346743 and parameters: {'min_data_in_leaf': 95, 'depth': 4, 'learning_rate': 0.1290658700086832, 'random_strength': 71, 'l2_leaf_reg': 1.9750289062057864}. Best is trial 13 with value: 1.0869168701293184.\u001b[0m\n"
          ],
          "name": "stderr"
        },
        {
          "output_type": "stream",
          "text": [
            "train.csv: shape = 100000 rows, 52 cols\n"
          ],
          "name": "stdout"
        },
        {
          "output_type": "stream",
          "text": [
            "Warning: less than 75% gpu memory available for training. Free: 9265.75 Total: 15109.75\n",
            "\u001b[32m[I 2021-05-25 20:12:29,318]\u001b[0m Trial 61 finished with value: 1.0927390977974325 and parameters: {'min_data_in_leaf': 98, 'depth': 4, 'learning_rate': 0.12476981590298908, 'random_strength': 70, 'l2_leaf_reg': 1.235256521569157}. Best is trial 13 with value: 1.0869168701293184.\u001b[0m\n"
          ],
          "name": "stderr"
        },
        {
          "output_type": "stream",
          "text": [
            "train.csv: shape = 100000 rows, 52 cols\n"
          ],
          "name": "stdout"
        },
        {
          "output_type": "stream",
          "text": [
            "Warning: less than 75% gpu memory available for training. Free: 9265.75 Total: 15109.75\n",
            "\u001b[32m[I 2021-05-25 20:12:34,694]\u001b[0m Trial 62 finished with value: 1.0982548974131083 and parameters: {'min_data_in_leaf': 88, 'depth': 4, 'learning_rate': 0.06962924012572276, 'random_strength': 74, 'l2_leaf_reg': 3.3813478451709313}. Best is trial 13 with value: 1.0869168701293184.\u001b[0m\n"
          ],
          "name": "stderr"
        },
        {
          "output_type": "stream",
          "text": [
            "train.csv: shape = 100000 rows, 52 cols\n"
          ],
          "name": "stdout"
        },
        {
          "output_type": "stream",
          "text": [
            "Warning: less than 75% gpu memory available for training. Free: 9265.75 Total: 15109.75\n",
            "\u001b[32m[I 2021-05-25 20:12:37,644]\u001b[0m Trial 63 finished with value: 1.0939610493515561 and parameters: {'min_data_in_leaf': 95, 'depth': 4, 'learning_rate': 0.1132028268260794, 'random_strength': 79, 'l2_leaf_reg': 0.3290636329583202}. Best is trial 13 with value: 1.0869168701293184.\u001b[0m\n"
          ],
          "name": "stderr"
        },
        {
          "output_type": "stream",
          "text": [
            "train.csv: shape = 100000 rows, 52 cols\n"
          ],
          "name": "stdout"
        },
        {
          "output_type": "stream",
          "text": [
            "Warning: less than 75% gpu memory available for training. Free: 9265.75 Total: 15109.75\n",
            "\u001b[32m[I 2021-05-25 20:12:43,324]\u001b[0m Trial 64 finished with value: 1.0947023360395058 and parameters: {'min_data_in_leaf': 81, 'depth': 4, 'learning_rate': 0.057556545694106176, 'random_strength': 88, 'l2_leaf_reg': 41.26139629102288}. Best is trial 13 with value: 1.0869168701293184.\u001b[0m\n"
          ],
          "name": "stderr"
        },
        {
          "output_type": "stream",
          "text": [
            "train.csv: shape = 100000 rows, 52 cols\n"
          ],
          "name": "stdout"
        },
        {
          "output_type": "stream",
          "text": [
            "Warning: less than 75% gpu memory available for training. Free: 9265.75 Total: 15109.75\n",
            "\u001b[32m[I 2021-05-25 20:12:51,741]\u001b[0m Trial 65 finished with value: 1.0944231780312432 and parameters: {'min_data_in_leaf': 35, 'depth': 7, 'learning_rate': 0.048117073540294195, 'random_strength': 96, 'l2_leaf_reg': 8.056741302291655}. Best is trial 13 with value: 1.0869168701293184.\u001b[0m\n"
          ],
          "name": "stderr"
        },
        {
          "output_type": "stream",
          "text": [
            "train.csv: shape = 100000 rows, 52 cols\n"
          ],
          "name": "stdout"
        },
        {
          "output_type": "stream",
          "text": [
            "Warning: less than 75% gpu memory available for training. Free: 9265.75 Total: 15109.75\n",
            "\u001b[32m[I 2021-05-25 20:12:58,001]\u001b[0m Trial 66 finished with value: 1.0932632524332595 and parameters: {'min_data_in_leaf': 97, 'depth': 5, 'learning_rate': 0.05434160408880501, 'random_strength': 63, 'l2_leaf_reg': 1.6419772439189682}. Best is trial 13 with value: 1.0869168701293184.\u001b[0m\n"
          ],
          "name": "stderr"
        },
        {
          "output_type": "stream",
          "text": [
            "train.csv: shape = 100000 rows, 52 cols\n"
          ],
          "name": "stdout"
        },
        {
          "output_type": "stream",
          "text": [
            "Warning: less than 75% gpu memory available for training. Free: 9265.75 Total: 15109.75\n",
            "\u001b[32m[I 2021-05-25 20:12:59,219]\u001b[0m Trial 67 finished with value: 1.3679190806644936 and parameters: {'min_data_in_leaf': 88, 'depth': 4, 'learning_rate': 0.030562506204571002, 'random_strength': 57, 'l2_leaf_reg': 0.00013410695950274917}. Best is trial 13 with value: 1.0869168701293184.\u001b[0m\n"
          ],
          "name": "stderr"
        },
        {
          "output_type": "stream",
          "text": [
            "train.csv: shape = 100000 rows, 52 cols\n"
          ],
          "name": "stdout"
        },
        {
          "output_type": "stream",
          "text": [
            "Warning: less than 75% gpu memory available for training. Free: 9265.75 Total: 15109.75\n",
            "\u001b[32m[I 2021-05-25 20:13:02,892]\u001b[0m Trial 68 finished with value: 1.088620023308173 and parameters: {'min_data_in_leaf': 46, 'depth': 3, 'learning_rate': 0.12922648720072863, 'random_strength': 68, 'l2_leaf_reg': 0.660823146060707}. Best is trial 13 with value: 1.0869168701293184.\u001b[0m\n"
          ],
          "name": "stderr"
        },
        {
          "output_type": "stream",
          "text": [
            "train.csv: shape = 100000 rows, 52 cols\n"
          ],
          "name": "stdout"
        },
        {
          "output_type": "stream",
          "text": [
            "Warning: less than 75% gpu memory available for training. Free: 9265.75 Total: 15109.75\n",
            "\u001b[32m[I 2021-05-25 20:13:06,658]\u001b[0m Trial 69 finished with value: 1.0935420244713856 and parameters: {'min_data_in_leaf': 47, 'depth': 3, 'learning_rate': 0.11977697187009476, 'random_strength': 69, 'l2_leaf_reg': 0.1870729374831878}. Best is trial 13 with value: 1.0869168701293184.\u001b[0m\n"
          ],
          "name": "stderr"
        },
        {
          "output_type": "stream",
          "text": [
            "train.csv: shape = 100000 rows, 52 cols\n"
          ],
          "name": "stdout"
        },
        {
          "output_type": "stream",
          "text": [
            "Warning: less than 75% gpu memory available for training. Free: 9265.75 Total: 15109.75\n",
            "\u001b[32m[I 2021-05-25 20:13:10,024]\u001b[0m Trial 70 finished with value: 1.0991958452135608 and parameters: {'min_data_in_leaf': 50, 'depth': 3, 'learning_rate': 0.1266918796276117, 'random_strength': 73, 'l2_leaf_reg': 0.005355801319274543}. Best is trial 13 with value: 1.0869168701293184.\u001b[0m\n"
          ],
          "name": "stderr"
        },
        {
          "output_type": "stream",
          "text": [
            "train.csv: shape = 100000 rows, 52 cols\n"
          ],
          "name": "stdout"
        },
        {
          "output_type": "stream",
          "text": [
            "Warning: less than 75% gpu memory available for training. Free: 9265.75 Total: 15109.75\n",
            "\u001b[32m[I 2021-05-25 20:13:14,001]\u001b[0m Trial 71 finished with value: 1.085815400126414 and parameters: {'min_data_in_leaf': 44, 'depth': 4, 'learning_rate': 0.1174584342278517, 'random_strength': 76, 'l2_leaf_reg': 5.305749568383563}. Best is trial 71 with value: 1.085815400126414.\u001b[0m\n"
          ],
          "name": "stderr"
        },
        {
          "output_type": "stream",
          "text": [
            "train.csv: shape = 100000 rows, 52 cols\n"
          ],
          "name": "stdout"
        },
        {
          "output_type": "stream",
          "text": [
            "Warning: less than 75% gpu memory available for training. Free: 9265.75 Total: 15109.75\n",
            "\u001b[32m[I 2021-05-25 20:13:18,158]\u001b[0m Trial 72 finished with value: 1.0997956750584494 and parameters: {'min_data_in_leaf': 54, 'depth': 3, 'learning_rate': 0.11768932718054712, 'random_strength': 75, 'l2_leaf_reg': 4.113717754340627}. Best is trial 71 with value: 1.085815400126414.\u001b[0m\n"
          ],
          "name": "stderr"
        },
        {
          "output_type": "stream",
          "text": [
            "train.csv: shape = 100000 rows, 52 cols\n"
          ],
          "name": "stdout"
        },
        {
          "output_type": "stream",
          "text": [
            "Warning: less than 75% gpu memory available for training. Free: 9265.75 Total: 15109.75\n",
            "\u001b[32m[I 2021-05-25 20:13:21,364]\u001b[0m Trial 73 finished with value: 1.0904998476981853 and parameters: {'min_data_in_leaf': 45, 'depth': 5, 'learning_rate': 0.12402370799457353, 'random_strength': 67, 'l2_leaf_reg': 0.6432882712545613}. Best is trial 71 with value: 1.085815400126414.\u001b[0m\n"
          ],
          "name": "stderr"
        },
        {
          "output_type": "stream",
          "text": [
            "train.csv: shape = 100000 rows, 52 cols\n"
          ],
          "name": "stdout"
        },
        {
          "output_type": "stream",
          "text": [
            "Warning: less than 75% gpu memory available for training. Free: 9265.75 Total: 15109.75\n",
            "\u001b[32m[I 2021-05-25 20:13:26,025]\u001b[0m Trial 74 finished with value: 1.0921964647726978 and parameters: {'min_data_in_leaf': 41, 'depth': 4, 'learning_rate': 0.12853826069104687, 'random_strength': 82, 'l2_leaf_reg': 22.129601025987316}. Best is trial 71 with value: 1.085815400126414.\u001b[0m\n"
          ],
          "name": "stderr"
        },
        {
          "output_type": "stream",
          "text": [
            "train.csv: shape = 100000 rows, 52 cols\n"
          ],
          "name": "stdout"
        },
        {
          "output_type": "stream",
          "text": [
            "Warning: less than 75% gpu memory available for training. Free: 9265.75 Total: 15109.75\n",
            "\u001b[32m[I 2021-05-25 20:13:29,796]\u001b[0m Trial 75 finished with value: 1.0952290868789702 and parameters: {'min_data_in_leaf': 38, 'depth': 3, 'learning_rate': 0.12917417318308558, 'random_strength': 70, 'l2_leaf_reg': 0.0019526266380516548}. Best is trial 71 with value: 1.085815400126414.\u001b[0m\n"
          ],
          "name": "stderr"
        },
        {
          "output_type": "stream",
          "text": [
            "train.csv: shape = 100000 rows, 52 cols\n"
          ],
          "name": "stdout"
        },
        {
          "output_type": "stream",
          "text": [
            "Warning: less than 75% gpu memory available for training. Free: 9265.75 Total: 15109.75\n",
            "\u001b[32m[I 2021-05-25 20:13:32,996]\u001b[0m Trial 76 finished with value: 1.0951099233649884 and parameters: {'min_data_in_leaf': 84, 'depth': 7, 'learning_rate': 0.11635157923576202, 'random_strength': 59, 'l2_leaf_reg': 0.02365253391092147}. Best is trial 71 with value: 1.085815400126414.\u001b[0m\n"
          ],
          "name": "stderr"
        },
        {
          "output_type": "stream",
          "text": [
            "train.csv: shape = 100000 rows, 52 cols\n"
          ],
          "name": "stdout"
        },
        {
          "output_type": "stream",
          "text": [
            "Warning: less than 75% gpu memory available for training. Free: 9265.75 Total: 15109.75\n",
            "\u001b[32m[I 2021-05-25 20:13:40,767]\u001b[0m Trial 77 finished with value: 1.087209637219368 and parameters: {'min_data_in_leaf': 42, 'depth': 6, 'learning_rate': 0.03978145245111596, 'random_strength': 78, 'l2_leaf_reg': 7.946020629316243}. Best is trial 71 with value: 1.085815400126414.\u001b[0m\n"
          ],
          "name": "stderr"
        },
        {
          "output_type": "stream",
          "text": [
            "train.csv: shape = 100000 rows, 52 cols\n"
          ],
          "name": "stdout"
        },
        {
          "output_type": "stream",
          "text": [
            "Warning: less than 75% gpu memory available for training. Free: 9265.75 Total: 15109.75\n",
            "\u001b[32m[I 2021-05-25 20:13:48,577]\u001b[0m Trial 78 finished with value: 1.091510055436855 and parameters: {'min_data_in_leaf': 43, 'depth': 6, 'learning_rate': 0.04035488067564389, 'random_strength': 63, 'l2_leaf_reg': 10.489822621565192}. Best is trial 71 with value: 1.085815400126414.\u001b[0m\n"
          ],
          "name": "stderr"
        },
        {
          "output_type": "stream",
          "text": [
            "train.csv: shape = 100000 rows, 52 cols\n"
          ],
          "name": "stdout"
        },
        {
          "output_type": "stream",
          "text": [
            "Warning: less than 75% gpu memory available for training. Free: 9265.75 Total: 15109.75\n",
            "\u001b[32m[I 2021-05-25 20:13:54,861]\u001b[0m Trial 79 finished with value: 1.0889566945271378 and parameters: {'min_data_in_leaf': 48, 'depth': 5, 'learning_rate': 0.027409671872676806, 'random_strength': 83, 'l2_leaf_reg': 2.201260901268027}. Best is trial 71 with value: 1.085815400126414.\u001b[0m\n"
          ],
          "name": "stderr"
        },
        {
          "output_type": "stream",
          "text": [
            "train.csv: shape = 100000 rows, 52 cols\n"
          ],
          "name": "stdout"
        },
        {
          "output_type": "stream",
          "text": [
            "Warning: less than 75% gpu memory available for training. Free: 9265.75 Total: 15109.75\n",
            "\u001b[32m[I 2021-05-25 20:14:01,880]\u001b[0m Trial 80 finished with value: 1.0941020114061375 and parameters: {'min_data_in_leaf': 52, 'depth': 6, 'learning_rate': 0.02858611363160938, 'random_strength': 82, 'l2_leaf_reg': 6.004192388769487}. Best is trial 71 with value: 1.085815400126414.\u001b[0m\n"
          ],
          "name": "stderr"
        },
        {
          "output_type": "stream",
          "text": [
            "train.csv: shape = 100000 rows, 52 cols\n"
          ],
          "name": "stdout"
        },
        {
          "output_type": "stream",
          "text": [
            "Warning: less than 75% gpu memory available for training. Free: 9265.75 Total: 15109.75\n",
            "\u001b[32m[I 2021-05-25 20:14:07,881]\u001b[0m Trial 81 finished with value: 1.0915738575100467 and parameters: {'min_data_in_leaf': 47, 'depth': 5, 'learning_rate': 0.023419341355692923, 'random_strength': 78, 'l2_leaf_reg': 69.20635165692036}. Best is trial 71 with value: 1.085815400126414.\u001b[0m\n"
          ],
          "name": "stderr"
        },
        {
          "output_type": "stream",
          "text": [
            "train.csv: shape = 100000 rows, 52 cols\n"
          ],
          "name": "stdout"
        },
        {
          "output_type": "stream",
          "text": [
            "Warning: less than 75% gpu memory available for training. Free: 9265.75 Total: 15109.75\n",
            "\u001b[32m[I 2021-05-25 20:14:14,231]\u001b[0m Trial 82 finished with value: 1.1028438728884988 and parameters: {'min_data_in_leaf': 57, 'depth': 6, 'learning_rate': 0.014479894342148358, 'random_strength': 84, 'l2_leaf_reg': 2.8721171904909784}. Best is trial 71 with value: 1.085815400126414.\u001b[0m\n"
          ],
          "name": "stderr"
        },
        {
          "output_type": "stream",
          "text": [
            "train.csv: shape = 100000 rows, 52 cols\n"
          ],
          "name": "stdout"
        },
        {
          "output_type": "stream",
          "text": [
            "Warning: less than 75% gpu memory available for training. Free: 9265.75 Total: 15109.75\n",
            "\u001b[32m[I 2021-05-25 20:14:20,188]\u001b[0m Trial 83 finished with value: 1.089497266892655 and parameters: {'min_data_in_leaf': 41, 'depth': 5, 'learning_rate': 0.01977189834763539, 'random_strength': 72, 'l2_leaf_reg': 1.9023607102167628}. Best is trial 71 with value: 1.085815400126414.\u001b[0m\n"
          ],
          "name": "stderr"
        },
        {
          "output_type": "stream",
          "text": [
            "train.csv: shape = 100000 rows, 52 cols\n"
          ],
          "name": "stdout"
        },
        {
          "output_type": "stream",
          "text": [
            "Warning: less than 75% gpu memory available for training. Free: 9265.75 Total: 15109.75\n",
            "\u001b[32m[I 2021-05-25 20:14:25,658]\u001b[0m Trial 84 finished with value: 1.0953998261240931 and parameters: {'min_data_in_leaf': 35, 'depth': 4, 'learning_rate': 0.03422194144160972, 'random_strength': 77, 'l2_leaf_reg': 0.5884839707979983}. Best is trial 71 with value: 1.085815400126414.\u001b[0m\n"
          ],
          "name": "stderr"
        },
        {
          "output_type": "stream",
          "text": [
            "train.csv: shape = 100000 rows, 52 cols\n"
          ],
          "name": "stdout"
        },
        {
          "output_type": "stream",
          "text": [
            "Warning: less than 75% gpu memory available for training. Free: 9265.75 Total: 15109.75\n",
            "\u001b[32m[I 2021-05-25 20:14:32,042]\u001b[0m Trial 85 finished with value: 1.092804993412369 and parameters: {'min_data_in_leaf': 48, 'depth': 5, 'learning_rate': 0.03844845374270974, 'random_strength': 89, 'l2_leaf_reg': 13.559755787542654}. Best is trial 71 with value: 1.085815400126414.\u001b[0m\n"
          ],
          "name": "stderr"
        },
        {
          "output_type": "stream",
          "text": [
            "train.csv: shape = 100000 rows, 52 cols\n"
          ],
          "name": "stdout"
        },
        {
          "output_type": "stream",
          "text": [
            "Warning: less than 75% gpu memory available for training. Free: 9265.75 Total: 15109.75\n",
            "\u001b[32m[I 2021-05-25 20:14:37,305]\u001b[0m Trial 86 finished with value: 1.0899799788880349 and parameters: {'min_data_in_leaf': 60, 'depth': 4, 'learning_rate': 0.02652441411996351, 'random_strength': 80, 'l2_leaf_reg': 30.220319116678656}. Best is trial 71 with value: 1.085815400126414.\u001b[0m\n"
          ],
          "name": "stderr"
        },
        {
          "output_type": "stream",
          "text": [
            "train.csv: shape = 100000 rows, 52 cols\n"
          ],
          "name": "stdout"
        },
        {
          "output_type": "stream",
          "text": [
            "Warning: less than 75% gpu memory available for training. Free: 9265.75 Total: 15109.75\n",
            "\u001b[32m[I 2021-05-25 20:14:38,549]\u001b[0m Trial 87 finished with value: 1.2685851446855785 and parameters: {'min_data_in_leaf': 44, 'depth': 5, 'learning_rate': 0.1219338042651884, 'random_strength': 65, 'l2_leaf_reg': 7.963969844134074e-06}. Best is trial 71 with value: 1.085815400126414.\u001b[0m\n"
          ],
          "name": "stderr"
        },
        {
          "output_type": "stream",
          "text": [
            "train.csv: shape = 100000 rows, 52 cols\n"
          ],
          "name": "stdout"
        },
        {
          "output_type": "stream",
          "text": [
            "Warning: less than 75% gpu memory available for training. Free: 9265.75 Total: 15109.75\n",
            "\u001b[32m[I 2021-05-25 20:14:42,277]\u001b[0m Trial 88 finished with value: 1.0943803495214046 and parameters: {'min_data_in_leaf': 50, 'depth': 4, 'learning_rate': 0.10463847684883673, 'random_strength': 93, 'l2_leaf_reg': 1.0703753757114405}. Best is trial 71 with value: 1.085815400126414.\u001b[0m\n"
          ],
          "name": "stderr"
        },
        {
          "output_type": "stream",
          "text": [
            "train.csv: shape = 100000 rows, 52 cols\n"
          ],
          "name": "stdout"
        },
        {
          "output_type": "stream",
          "text": [
            "Warning: less than 75% gpu memory available for training. Free: 9265.75 Total: 15109.75\n",
            "\u001b[32m[I 2021-05-25 20:14:46,248]\u001b[0m Trial 89 finished with value: 1.091610834004211 and parameters: {'min_data_in_leaf': 37, 'depth': 4, 'learning_rate': 0.10816870227650681, 'random_strength': 75, 'l2_leaf_reg': 4.470818400643836}. Best is trial 71 with value: 1.085815400126414.\u001b[0m\n"
          ],
          "name": "stderr"
        },
        {
          "output_type": "stream",
          "text": [
            "train.csv: shape = 100000 rows, 52 cols\n"
          ],
          "name": "stdout"
        },
        {
          "output_type": "stream",
          "text": [
            "Warning: less than 75% gpu memory available for training. Free: 9265.75 Total: 15109.75\n",
            "\u001b[32m[I 2021-05-25 20:14:52,633]\u001b[0m Trial 90 finished with value: 1.0993251958680852 and parameters: {'min_data_in_leaf': 53, 'depth': 6, 'learning_rate': 0.018464620025411174, 'random_strength': 86, 'l2_leaf_reg': 2.02533810734445}. Best is trial 71 with value: 1.085815400126414.\u001b[0m\n"
          ],
          "name": "stderr"
        },
        {
          "output_type": "stream",
          "text": [
            "train.csv: shape = 100000 rows, 52 cols\n"
          ],
          "name": "stdout"
        },
        {
          "output_type": "stream",
          "text": [
            "Warning: less than 75% gpu memory available for training. Free: 9265.75 Total: 15109.75\n",
            "\u001b[32m[I 2021-05-25 20:14:58,821]\u001b[0m Trial 91 finished with value: 1.0909038350333593 and parameters: {'min_data_in_leaf': 41, 'depth': 5, 'learning_rate': 0.022461243188944185, 'random_strength': 72, 'l2_leaf_reg': 1.7470879843985108}. Best is trial 71 with value: 1.085815400126414.\u001b[0m\n"
          ],
          "name": "stderr"
        },
        {
          "output_type": "stream",
          "text": [
            "train.csv: shape = 100000 rows, 52 cols\n"
          ],
          "name": "stdout"
        },
        {
          "output_type": "stream",
          "text": [
            "Warning: less than 75% gpu memory available for training. Free: 9265.75 Total: 15109.75\n",
            "\u001b[32m[I 2021-05-25 20:15:04,591]\u001b[0m Trial 92 finished with value: 1.1053396830474258 and parameters: {'min_data_in_leaf': 43, 'depth': 5, 'learning_rate': 0.013055562744416386, 'random_strength': 69, 'l2_leaf_reg': 8.011220841628457}. Best is trial 71 with value: 1.085815400126414.\u001b[0m\n"
          ],
          "name": "stderr"
        },
        {
          "output_type": "stream",
          "text": [
            "train.csv: shape = 100000 rows, 52 cols\n"
          ],
          "name": "stdout"
        },
        {
          "output_type": "stream",
          "text": [
            "Warning: less than 75% gpu memory available for training. Free: 9265.75 Total: 15109.75\n",
            "\u001b[32m[I 2021-05-25 20:15:10,994]\u001b[0m Trial 93 finished with value: 1.0959840212092649 and parameters: {'min_data_in_leaf': 46, 'depth': 5, 'learning_rate': 0.03539095763911888, 'random_strength': 72, 'l2_leaf_reg': 0.4993260539831106}. Best is trial 71 with value: 1.085815400126414.\u001b[0m\n"
          ],
          "name": "stderr"
        },
        {
          "output_type": "stream",
          "text": [
            "train.csv: shape = 100000 rows, 52 cols\n"
          ],
          "name": "stdout"
        },
        {
          "output_type": "stream",
          "text": [
            "Warning: less than 75% gpu memory available for training. Free: 9265.75 Total: 15109.75\n",
            "\u001b[32m[I 2021-05-25 20:15:17,239]\u001b[0m Trial 94 finished with value: 1.0922203333054845 and parameters: {'min_data_in_leaf': 39, 'depth': 5, 'learning_rate': 0.020661358506009662, 'random_strength': 76, 'l2_leaf_reg': 2.753881007129451}. Best is trial 71 with value: 1.085815400126414.\u001b[0m\n"
          ],
          "name": "stderr"
        },
        {
          "output_type": "stream",
          "text": [
            "train.csv: shape = 100000 rows, 52 cols\n"
          ],
          "name": "stdout"
        },
        {
          "output_type": "stream",
          "text": [
            "Warning: less than 75% gpu memory available for training. Free: 9265.75 Total: 15109.75\n",
            "\u001b[32m[I 2021-05-25 20:15:23,945]\u001b[0m Trial 95 finished with value: 1.0952256583572633 and parameters: {'min_data_in_leaf': 49, 'depth': 6, 'learning_rate': 0.01649811390755066, 'random_strength': 79, 'l2_leaf_reg': 16.621968662835737}. Best is trial 71 with value: 1.085815400126414.\u001b[0m\n"
          ],
          "name": "stderr"
        },
        {
          "output_type": "stream",
          "text": [
            "train.csv: shape = 100000 rows, 52 cols\n"
          ],
          "name": "stdout"
        },
        {
          "output_type": "stream",
          "text": [
            "Warning: less than 75% gpu memory available for training. Free: 9265.75 Total: 15109.75\n",
            "\u001b[32m[I 2021-05-25 20:15:29,208]\u001b[0m Trial 96 finished with value: 1.0938920474055016 and parameters: {'min_data_in_leaf': 34, 'depth': 4, 'learning_rate': 0.026491078225256696, 'random_strength': 83, 'l2_leaf_reg': 0.20897630724209273}. Best is trial 71 with value: 1.085815400126414.\u001b[0m\n"
          ],
          "name": "stderr"
        },
        {
          "output_type": "stream",
          "text": [
            "train.csv: shape = 100000 rows, 52 cols\n"
          ],
          "name": "stdout"
        },
        {
          "output_type": "stream",
          "text": [
            "Warning: less than 75% gpu memory available for training. Free: 9265.75 Total: 15109.75\n",
            "\u001b[32m[I 2021-05-25 20:15:35,698]\u001b[0m Trial 97 finished with value: 1.0940918569206988 and parameters: {'min_data_in_leaf': 29, 'depth': 5, 'learning_rate': 0.031293034867445446, 'random_strength': 68, 'l2_leaf_reg': 0.9127224172194199}. Best is trial 71 with value: 1.085815400126414.\u001b[0m\n"
          ],
          "name": "stderr"
        },
        {
          "output_type": "stream",
          "text": [
            "train.csv: shape = 100000 rows, 52 cols\n"
          ],
          "name": "stdout"
        },
        {
          "output_type": "stream",
          "text": [
            "Warning: less than 75% gpu memory available for training. Free: 9265.75 Total: 15109.75\n",
            "\u001b[32m[I 2021-05-25 20:15:40,633]\u001b[0m Trial 98 finished with value: 1.0914719192017377 and parameters: {'min_data_in_leaf': 40, 'depth': 4, 'learning_rate': 0.08498057231413021, 'random_strength': 1, 'l2_leaf_reg': 5.044462866108157}. Best is trial 71 with value: 1.085815400126414.\u001b[0m\n"
          ],
          "name": "stderr"
        },
        {
          "output_type": "stream",
          "text": [
            "train.csv: shape = 100000 rows, 52 cols\n"
          ],
          "name": "stdout"
        },
        {
          "output_type": "stream",
          "text": [
            "Warning: less than 75% gpu memory available for training. Free: 9265.75 Total: 15109.75\n",
            "\u001b[32m[I 2021-05-25 20:15:45,883]\u001b[0m Trial 99 finished with value: 1.0881271305456548 and parameters: {'min_data_in_leaf': 56, 'depth': 5, 'learning_rate': 0.06206412568952399, 'random_strength': 64, 'l2_leaf_reg': 0.0005818823050644166}. Best is trial 71 with value: 1.085815400126414.\u001b[0m\n"
          ],
          "name": "stderr"
        },
        {
          "output_type": "stream",
          "text": [
            "train.csv: shape = 100000 rows, 52 cols\n"
          ],
          "name": "stdout"
        },
        {
          "output_type": "stream",
          "text": [
            "Warning: less than 75% gpu memory available for training. Free: 9265.75 Total: 15109.75\n",
            "\u001b[32m[I 2021-05-25 20:15:50,840]\u001b[0m Trial 100 finished with value: 1.0963674059895554 and parameters: {'min_data_in_leaf': 67, 'depth': 3, 'learning_rate': 0.0682530801266307, 'random_strength': 57, 'l2_leaf_reg': 0.0003657178750560515}. Best is trial 71 with value: 1.085815400126414.\u001b[0m\n"
          ],
          "name": "stderr"
        },
        {
          "output_type": "stream",
          "text": [
            "train.csv: shape = 100000 rows, 52 cols\n"
          ],
          "name": "stdout"
        },
        {
          "output_type": "stream",
          "text": [
            "Warning: less than 75% gpu memory available for training. Free: 9265.75 Total: 15109.75\n",
            "\u001b[32m[I 2021-05-25 20:15:56,082]\u001b[0m Trial 101 finished with value: 1.087810101532721 and parameters: {'min_data_in_leaf': 42, 'depth': 5, 'learning_rate': 0.06289041055953823, 'random_strength': 65, 'l2_leaf_reg': 0.0005788197793181886}. Best is trial 71 with value: 1.085815400126414.\u001b[0m\n"
          ],
          "name": "stderr"
        },
        {
          "output_type": "stream",
          "text": [
            "train.csv: shape = 100000 rows, 52 cols\n"
          ],
          "name": "stdout"
        },
        {
          "output_type": "stream",
          "text": [
            "Warning: less than 75% gpu memory available for training. Free: 9265.75 Total: 15109.75\n",
            "\u001b[32m[I 2021-05-25 20:16:00,438]\u001b[0m Trial 102 finished with value: 1.0970001265711606 and parameters: {'min_data_in_leaf': 45, 'depth': 5, 'learning_rate': 0.06367350315501542, 'random_strength': 61, 'l2_leaf_reg': 0.00012759443602834142}. Best is trial 71 with value: 1.085815400126414.\u001b[0m\n"
          ],
          "name": "stderr"
        },
        {
          "output_type": "stream",
          "text": [
            "train.csv: shape = 100000 rows, 52 cols\n"
          ],
          "name": "stdout"
        },
        {
          "output_type": "stream",
          "text": [
            "Warning: less than 75% gpu memory available for training. Free: 9265.75 Total: 15109.75\n",
            "\u001b[32m[I 2021-05-25 20:16:04,746]\u001b[0m Trial 103 finished with value: 1.0941351705221842 and parameters: {'min_data_in_leaf': 43, 'depth': 5, 'learning_rate': 0.07280061128717341, 'random_strength': 67, 'l2_leaf_reg': 0.0007062968331914221}. Best is trial 71 with value: 1.085815400126414.\u001b[0m\n"
          ],
          "name": "stderr"
        },
        {
          "output_type": "stream",
          "text": [
            "train.csv: shape = 100000 rows, 52 cols\n"
          ],
          "name": "stdout"
        },
        {
          "output_type": "stream",
          "text": [
            "Warning: less than 75% gpu memory available for training. Free: 9265.75 Total: 15109.75\n",
            "\u001b[32m[I 2021-05-25 20:16:09,954]\u001b[0m Trial 104 finished with value: 1.0968565045271266 and parameters: {'min_data_in_leaf': 56, 'depth': 5, 'learning_rate': 0.061362047110361084, 'random_strength': 63, 'l2_leaf_reg': 5.353185983591124e-05}. Best is trial 71 with value: 1.085815400126414.\u001b[0m\n"
          ],
          "name": "stderr"
        },
        {
          "output_type": "stream",
          "text": [
            "train.csv: shape = 100000 rows, 52 cols\n"
          ],
          "name": "stdout"
        },
        {
          "output_type": "stream",
          "text": [
            "Warning: less than 75% gpu memory available for training. Free: 9265.75 Total: 15109.75\n",
            "\u001b[32m[I 2021-05-25 20:16:14,769]\u001b[0m Trial 105 finished with value: 1.0917474665799758 and parameters: {'min_data_in_leaf': 61, 'depth': 6, 'learning_rate': 0.05882061585419245, 'random_strength': 74, 'l2_leaf_reg': 0.00020782700997358001}. Best is trial 71 with value: 1.085815400126414.\u001b[0m\n"
          ],
          "name": "stderr"
        },
        {
          "output_type": "stream",
          "text": [
            "train.csv: shape = 100000 rows, 52 cols\n"
          ],
          "name": "stdout"
        },
        {
          "output_type": "stream",
          "text": [
            "Warning: less than 75% gpu memory available for training. Free: 9265.75 Total: 15109.75\n",
            "\u001b[32m[I 2021-05-25 20:16:20,353]\u001b[0m Trial 106 finished with value: 1.0957574441161775 and parameters: {'min_data_in_leaf': 71, 'depth': 4, 'learning_rate': 0.0531942897206421, 'random_strength': 70, 'l2_leaf_reg': 0.0019731253844117507}. Best is trial 71 with value: 1.085815400126414.\u001b[0m\n"
          ],
          "name": "stderr"
        },
        {
          "output_type": "stream",
          "text": [
            "train.csv: shape = 100000 rows, 52 cols\n"
          ],
          "name": "stdout"
        },
        {
          "output_type": "stream",
          "text": [
            "Warning: less than 75% gpu memory available for training. Free: 9265.75 Total: 15109.75\n",
            "\u001b[32m[I 2021-05-25 20:16:27,110]\u001b[0m Trial 107 finished with value: 1.0916225839707163 and parameters: {'min_data_in_leaf': 37, 'depth': 5, 'learning_rate': 0.04637642173661336, 'random_strength': 80, 'l2_leaf_reg': 10.372122885941156}. Best is trial 71 with value: 1.085815400126414.\u001b[0m\n"
          ],
          "name": "stderr"
        },
        {
          "output_type": "stream",
          "text": [
            "train.csv: shape = 100000 rows, 52 cols\n"
          ],
          "name": "stdout"
        },
        {
          "output_type": "stream",
          "text": [
            "Warning: less than 75% gpu memory available for training. Free: 9265.75 Total: 15109.75\n",
            "\u001b[32m[I 2021-05-25 20:16:31,138]\u001b[0m Trial 108 finished with value: 1.0957986233573647 and parameters: {'min_data_in_leaf': 93, 'depth': 5, 'learning_rate': 0.07759334364943074, 'random_strength': 52, 'l2_leaf_reg': 0.0007050725905880832}. Best is trial 71 with value: 1.085815400126414.\u001b[0m\n"
          ],
          "name": "stderr"
        },
        {
          "output_type": "stream",
          "text": [
            "train.csv: shape = 100000 rows, 52 cols\n"
          ],
          "name": "stdout"
        },
        {
          "output_type": "stream",
          "text": [
            "Warning: less than 75% gpu memory available for training. Free: 9265.75 Total: 15109.75\n",
            "\u001b[32m[I 2021-05-25 20:16:32,356]\u001b[0m Trial 109 finished with value: 1.339598173194566 and parameters: {'min_data_in_leaf': 46, 'depth': 4, 'learning_rate': 0.0805525814605741, 'random_strength': 65, 'l2_leaf_reg': 7.81065446342873e-05}. Best is trial 71 with value: 1.085815400126414.\u001b[0m\n"
          ],
          "name": "stderr"
        },
        {
          "output_type": "stream",
          "text": [
            "train.csv: shape = 100000 rows, 52 cols\n"
          ],
          "name": "stdout"
        },
        {
          "output_type": "stream",
          "text": [
            "Warning: less than 75% gpu memory available for training. Free: 9265.75 Total: 15109.75\n",
            "\u001b[32m[I 2021-05-25 20:16:37,403]\u001b[0m Trial 110 finished with value: 1.0868052071074006 and parameters: {'min_data_in_leaf': 74, 'depth': 4, 'learning_rate': 0.07167721344043389, 'random_strength': 76, 'l2_leaf_reg': 0.00027965608840102986}. Best is trial 71 with value: 1.085815400126414.\u001b[0m\n"
          ],
          "name": "stderr"
        },
        {
          "output_type": "stream",
          "text": [
            "train.csv: shape = 100000 rows, 52 cols\n"
          ],
          "name": "stdout"
        },
        {
          "output_type": "stream",
          "text": [
            "Warning: less than 75% gpu memory available for training. Free: 9265.75 Total: 15109.75\n",
            "\u001b[32m[I 2021-05-25 20:16:42,188]\u001b[0m Trial 111 finished with value: 1.098530668863811 and parameters: {'min_data_in_leaf': 76, 'depth': 4, 'learning_rate': 0.06528958750178221, 'random_strength': 78, 'l2_leaf_reg': 0.00039237840131594296}. Best is trial 71 with value: 1.085815400126414.\u001b[0m\n"
          ],
          "name": "stderr"
        },
        {
          "output_type": "stream",
          "text": [
            "train.csv: shape = 100000 rows, 52 cols\n"
          ],
          "name": "stdout"
        },
        {
          "output_type": "stream",
          "text": [
            "Warning: less than 75% gpu memory available for training. Free: 9265.75 Total: 15109.75\n",
            "\u001b[32m[I 2021-05-25 20:16:46,836]\u001b[0m Trial 112 finished with value: 1.0953331650159943 and parameters: {'min_data_in_leaf': 79, 'depth': 4, 'learning_rate': 0.0705899991886763, 'random_strength': 74, 'l2_leaf_reg': 0.00022121994914300086}. Best is trial 71 with value: 1.085815400126414.\u001b[0m\n"
          ],
          "name": "stderr"
        },
        {
          "output_type": "stream",
          "text": [
            "train.csv: shape = 100000 rows, 52 cols\n"
          ],
          "name": "stdout"
        },
        {
          "output_type": "stream",
          "text": [
            "Warning: less than 75% gpu memory available for training. Free: 9265.75 Total: 15109.75\n",
            "\u001b[32m[I 2021-05-25 20:16:51,380]\u001b[0m Trial 113 finished with value: 1.0943410161819827 and parameters: {'min_data_in_leaf': 79, 'depth': 4, 'learning_rate': 0.06374847843160045, 'random_strength': 76, 'l2_leaf_reg': 0.0006588800784618913}. Best is trial 71 with value: 1.085815400126414.\u001b[0m\n"
          ],
          "name": "stderr"
        },
        {
          "output_type": "stream",
          "text": [
            "train.csv: shape = 100000 rows, 52 cols\n"
          ],
          "name": "stdout"
        },
        {
          "output_type": "stream",
          "text": [
            "Warning: less than 75% gpu memory available for training. Free: 9265.75 Total: 15109.75\n",
            "\u001b[32m[I 2021-05-25 20:16:52,598]\u001b[0m Trial 114 finished with value: 1.2779946755393423 and parameters: {'min_data_in_leaf': 75, 'depth': 4, 'learning_rate': 0.0743931279799813, 'random_strength': 71, 'l2_leaf_reg': 2.0569845811055095e-05}. Best is trial 71 with value: 1.085815400126414.\u001b[0m\n"
          ],
          "name": "stderr"
        },
        {
          "output_type": "stream",
          "text": [
            "train.csv: shape = 100000 rows, 52 cols\n"
          ],
          "name": "stdout"
        },
        {
          "output_type": "stream",
          "text": [
            "Warning: less than 75% gpu memory available for training. Free: 9265.75 Total: 15109.75\n",
            "\u001b[32m[I 2021-05-25 20:16:57,366]\u001b[0m Trial 115 finished with value: 1.0949878043155232 and parameters: {'min_data_in_leaf': 74, 'depth': 4, 'learning_rate': 0.06741102778301719, 'random_strength': 59, 'l2_leaf_reg': 0.0018038319222565236}. Best is trial 71 with value: 1.085815400126414.\u001b[0m\n"
          ],
          "name": "stderr"
        },
        {
          "output_type": "stream",
          "text": [
            "train.csv: shape = 100000 rows, 52 cols\n"
          ],
          "name": "stdout"
        },
        {
          "output_type": "stream",
          "text": [
            "Warning: less than 75% gpu memory available for training. Free: 9265.75 Total: 15109.75\n",
            "\u001b[32m[I 2021-05-25 20:16:58,480]\u001b[0m Trial 116 finished with value: 1.3535184076302922 and parameters: {'min_data_in_leaf': 51, 'depth': 3, 'learning_rate': 0.05600259830641588, 'random_strength': 67, 'l2_leaf_reg': 5.15833731272787e-05}. Best is trial 71 with value: 1.085815400126414.\u001b[0m\n"
          ],
          "name": "stderr"
        },
        {
          "output_type": "stream",
          "text": [
            "train.csv: shape = 100000 rows, 52 cols\n"
          ],
          "name": "stdout"
        },
        {
          "output_type": "stream",
          "text": [
            "Warning: less than 75% gpu memory available for training. Free: 9265.75 Total: 15109.75\n",
            "\u001b[32m[I 2021-05-25 20:17:02,934]\u001b[0m Trial 117 finished with value: 1.0920244228048288 and parameters: {'min_data_in_leaf': 42, 'depth': 6, 'learning_rate': 0.061936990501191246, 'random_strength': 86, 'l2_leaf_reg': 0.0012277423066983405}. Best is trial 71 with value: 1.085815400126414.\u001b[0m\n"
          ],
          "name": "stderr"
        },
        {
          "output_type": "stream",
          "text": [
            "train.csv: shape = 100000 rows, 52 cols\n"
          ],
          "name": "stdout"
        },
        {
          "output_type": "stream",
          "text": [
            "Warning: less than 75% gpu memory available for training. Free: 9265.75 Total: 15109.75\n",
            "\u001b[32m[I 2021-05-25 20:17:08,362]\u001b[0m Trial 118 finished with value: 1.0883840283241315 and parameters: {'min_data_in_leaf': 49, 'depth': 4, 'learning_rate': 0.04378117649773524, 'random_strength': 81, 'l2_leaf_reg': 0.0002501690063546472}. Best is trial 71 with value: 1.085815400126414.\u001b[0m\n"
          ],
          "name": "stderr"
        },
        {
          "output_type": "stream",
          "text": [
            "train.csv: shape = 100000 rows, 52 cols\n"
          ],
          "name": "stdout"
        },
        {
          "output_type": "stream",
          "text": [
            "Warning: less than 75% gpu memory available for training. Free: 9265.75 Total: 15109.75\n",
            "\u001b[32m[I 2021-05-25 20:17:15,148]\u001b[0m Trial 119 finished with value: 1.093278624082187 and parameters: {'min_data_in_leaf': 54, 'depth': 5, 'learning_rate': 0.04204059279674974, 'random_strength': 83, 'l2_leaf_reg': 0.00048322061986977923}. Best is trial 71 with value: 1.085815400126414.\u001b[0m\n"
          ],
          "name": "stderr"
        },
        {
          "output_type": "stream",
          "text": [
            "train.csv: shape = 100000 rows, 52 cols\n"
          ],
          "name": "stdout"
        },
        {
          "output_type": "stream",
          "text": [
            "Warning: less than 75% gpu memory available for training. Free: 9265.75 Total: 15109.75\n",
            "\u001b[32m[I 2021-05-25 20:17:20,743]\u001b[0m Trial 120 finished with value: 1.0916459995877323 and parameters: {'min_data_in_leaf': 82, 'depth': 4, 'learning_rate': 0.05089286057250381, 'random_strength': 81, 'l2_leaf_reg': 0.000231112436499772}. Best is trial 71 with value: 1.085815400126414.\u001b[0m\n"
          ],
          "name": "stderr"
        },
        {
          "output_type": "stream",
          "text": [
            "train.csv: shape = 100000 rows, 52 cols\n"
          ],
          "name": "stdout"
        },
        {
          "output_type": "stream",
          "text": [
            "Warning: less than 75% gpu memory available for training. Free: 9265.75 Total: 15109.75\n",
            "\u001b[32m[I 2021-05-25 20:17:21,981]\u001b[0m Trial 121 finished with value: 1.344824214349678 and parameters: {'min_data_in_leaf': 48, 'depth': 4, 'learning_rate': 0.036810265206777146, 'random_strength': 77, 'l2_leaf_reg': 3.939946217652258e-05}. Best is trial 71 with value: 1.085815400126414.\u001b[0m\n"
          ],
          "name": "stderr"
        },
        {
          "output_type": "stream",
          "text": [
            "train.csv: shape = 100000 rows, 52 cols\n"
          ],
          "name": "stdout"
        },
        {
          "output_type": "stream",
          "text": [
            "Warning: less than 75% gpu memory available for training. Free: 9265.75 Total: 15109.75\n",
            "\u001b[32m[I 2021-05-25 20:17:23,200]\u001b[0m Trial 122 finished with value: 1.3576199109543132 and parameters: {'min_data_in_leaf': 45, 'depth': 4, 'learning_rate': 0.048254286512146666, 'random_strength': 73, 'l2_leaf_reg': 0.00015494357933893536}. Best is trial 71 with value: 1.085815400126414.\u001b[0m\n"
          ],
          "name": "stderr"
        },
        {
          "output_type": "stream",
          "text": [
            "train.csv: shape = 100000 rows, 52 cols\n"
          ],
          "name": "stdout"
        },
        {
          "output_type": "stream",
          "text": [
            "Warning: less than 75% gpu memory available for training. Free: 9265.75 Total: 15109.75\n",
            "\u001b[32m[I 2021-05-25 20:17:24,407]\u001b[0m Trial 123 finished with value: 1.368933826105342 and parameters: {'min_data_in_leaf': 49, 'depth': 4, 'learning_rate': 0.029161807088689488, 'random_strength': 98, 'l2_leaf_reg': 2.9440029789773278e-05}. Best is trial 71 with value: 1.085815400126414.\u001b[0m\n"
          ],
          "name": "stderr"
        },
        {
          "output_type": "stream",
          "text": [
            "train.csv: shape = 100000 rows, 52 cols\n"
          ],
          "name": "stdout"
        },
        {
          "output_type": "stream",
          "text": [
            "Warning: less than 75% gpu memory available for training. Free: 9265.75 Total: 15109.75\n",
            "\u001b[32m[I 2021-05-25 20:17:30,340]\u001b[0m Trial 124 finished with value: 1.0903592267043676 and parameters: {'min_data_in_leaf': 52, 'depth': 4, 'learning_rate': 0.04338331747128379, 'random_strength': 9, 'l2_leaf_reg': 3.7678946011597247}. Best is trial 71 with value: 1.085815400126414.\u001b[0m\n"
          ],
          "name": "stderr"
        },
        {
          "output_type": "stream",
          "text": [
            "train.csv: shape = 100000 rows, 52 cols\n"
          ],
          "name": "stdout"
        },
        {
          "output_type": "stream",
          "text": [
            "Warning: less than 75% gpu memory available for training. Free: 9265.75 Total: 15109.75\n",
            "\u001b[32m[I 2021-05-25 20:17:31,602]\u001b[0m Trial 125 finished with value: 1.2268306237961406 and parameters: {'min_data_in_leaf': 47, 'depth': 4, 'learning_rate': 0.12988066603122203, 'random_strength': 88, 'l2_leaf_reg': 0.00011109974921444808}. Best is trial 71 with value: 1.085815400126414.\u001b[0m\n"
          ],
          "name": "stderr"
        },
        {
          "output_type": "stream",
          "text": [
            "train.csv: shape = 100000 rows, 52 cols\n"
          ],
          "name": "stdout"
        },
        {
          "output_type": "stream",
          "text": [
            "Warning: less than 75% gpu memory available for training. Free: 9265.75 Total: 15109.75\n",
            "\u001b[32m[I 2021-05-25 20:17:35,098]\u001b[0m Trial 126 finished with value: 1.0925971909418013 and parameters: {'min_data_in_leaf': 45, 'depth': 7, 'learning_rate': 0.12641813524113574, 'random_strength': 69, 'l2_leaf_reg': 1.3260416869613578}. Best is trial 71 with value: 1.085815400126414.\u001b[0m\n"
          ],
          "name": "stderr"
        },
        {
          "output_type": "stream",
          "text": [
            "train.csv: shape = 100000 rows, 52 cols\n"
          ],
          "name": "stdout"
        },
        {
          "output_type": "stream",
          "text": [
            "Warning: less than 75% gpu memory available for training. Free: 9265.75 Total: 15109.75\n",
            "\u001b[32m[I 2021-05-25 20:17:39,793]\u001b[0m Trial 127 finished with value: 1.098185042939332 and parameters: {'min_data_in_leaf': 69, 'depth': 5, 'learning_rate': 0.08816677135387892, 'random_strength': 65, 'l2_leaf_reg': 43.065946134716995}. Best is trial 71 with value: 1.085815400126414.\u001b[0m\n"
          ],
          "name": "stderr"
        },
        {
          "output_type": "stream",
          "text": [
            "train.csv: shape = 100000 rows, 52 cols\n"
          ],
          "name": "stdout"
        },
        {
          "output_type": "stream",
          "text": [
            "Warning: less than 75% gpu memory available for training. Free: 9265.75 Total: 15109.75\n",
            "\u001b[32m[I 2021-05-25 20:17:45,559]\u001b[0m Trial 128 finished with value: 1.0970039982478146 and parameters: {'min_data_in_leaf': 72, 'depth': 4, 'learning_rate': 0.03943190598465972, 'random_strength': 80, 'l2_leaf_reg': 0.0032265513439438394}. Best is trial 71 with value: 1.085815400126414.\u001b[0m\n"
          ],
          "name": "stderr"
        },
        {
          "output_type": "stream",
          "text": [
            "train.csv: shape = 100000 rows, 52 cols\n"
          ],
          "name": "stdout"
        },
        {
          "output_type": "stream",
          "text": [
            "Warning: less than 75% gpu memory available for training. Free: 9265.75 Total: 15109.75\n",
            "\u001b[32m[I 2021-05-25 20:17:51,110]\u001b[0m Trial 129 finished with value: 1.09793928215759 and parameters: {'min_data_in_leaf': 39, 'depth': 4, 'learning_rate': 0.05974093549637181, 'random_strength': 75, 'l2_leaf_reg': 6.9947373037583045}. Best is trial 71 with value: 1.085815400126414.\u001b[0m\n"
          ],
          "name": "stderr"
        },
        {
          "output_type": "stream",
          "text": [
            "train.csv: shape = 100000 rows, 52 cols\n"
          ],
          "name": "stdout"
        },
        {
          "output_type": "stream",
          "text": [
            "Warning: less than 75% gpu memory available for training. Free: 9265.75 Total: 15109.75\n",
            "\u001b[32m[I 2021-05-25 20:17:55,513]\u001b[0m Trial 130 finished with value: 1.0956198494845795 and parameters: {'min_data_in_leaf': 66, 'depth': 5, 'learning_rate': 0.08246006758953621, 'random_strength': 71, 'l2_leaf_reg': 0.36417064282469175}. Best is trial 71 with value: 1.085815400126414.\u001b[0m\n"
          ],
          "name": "stderr"
        },
        {
          "output_type": "stream",
          "text": [
            "train.csv: shape = 100000 rows, 52 cols\n"
          ],
          "name": "stdout"
        },
        {
          "output_type": "stream",
          "text": [
            "Warning: less than 75% gpu memory available for training. Free: 9265.75 Total: 15109.75\n",
            "\u001b[32m[I 2021-05-25 20:18:00,890]\u001b[0m Trial 131 finished with value: 1.1053900487988433 and parameters: {'min_data_in_leaf': 42, 'depth': 5, 'learning_rate': 0.010899287850710856, 'random_strength': 72, 'l2_leaf_reg': 1.7601557540588808}. Best is trial 71 with value: 1.085815400126414.\u001b[0m\n"
          ],
          "name": "stderr"
        },
        {
          "output_type": "stream",
          "text": [
            "train.csv: shape = 100000 rows, 52 cols\n"
          ],
          "name": "stdout"
        },
        {
          "output_type": "stream",
          "text": [
            "Warning: less than 75% gpu memory available for training. Free: 9265.75 Total: 15109.75\n",
            "\u001b[32m[I 2021-05-25 20:18:06,973]\u001b[0m Trial 132 finished with value: 1.0947611860734456 and parameters: {'min_data_in_leaf': 41, 'depth': 5, 'learning_rate': 0.02129232590102709, 'random_strength': 78, 'l2_leaf_reg': 2.206288959751444}. Best is trial 71 with value: 1.085815400126414.\u001b[0m\n"
          ],
          "name": "stderr"
        },
        {
          "output_type": "stream",
          "text": [
            "train.csv: shape = 100000 rows, 52 cols\n"
          ],
          "name": "stdout"
        },
        {
          "output_type": "stream",
          "text": [
            "Warning: less than 75% gpu memory available for training. Free: 9265.75 Total: 15109.75\n",
            "\u001b[32m[I 2021-05-25 20:18:12,994]\u001b[0m Trial 133 finished with value: 1.094178171759654 and parameters: {'min_data_in_leaf': 36, 'depth': 5, 'learning_rate': 0.023636079776076274, 'random_strength': 85, 'l2_leaf_reg': 0.8822119446722704}. Best is trial 71 with value: 1.085815400126414.\u001b[0m\n"
          ],
          "name": "stderr"
        },
        {
          "output_type": "stream",
          "text": [
            "train.csv: shape = 100000 rows, 52 cols\n"
          ],
          "name": "stdout"
        },
        {
          "output_type": "stream",
          "text": [
            "Warning: less than 75% gpu memory available for training. Free: 9265.75 Total: 15109.75\n",
            "\u001b[32m[I 2021-05-25 20:18:19,447]\u001b[0m Trial 134 finished with value: 1.096307552433665 and parameters: {'min_data_in_leaf': 44, 'depth': 5, 'learning_rate': 0.02847974299872537, 'random_strength': 94, 'l2_leaf_reg': 3.232344340094915}. Best is trial 71 with value: 1.085815400126414.\u001b[0m\n"
          ],
          "name": "stderr"
        },
        {
          "output_type": "stream",
          "text": [
            "train.csv: shape = 100000 rows, 52 cols\n"
          ],
          "name": "stdout"
        },
        {
          "output_type": "stream",
          "text": [
            "Warning: less than 75% gpu memory available for training. Free: 9265.75 Total: 15109.75\n",
            "\u001b[32m[I 2021-05-25 20:18:25,195]\u001b[0m Trial 135 finished with value: 1.0979648741001429 and parameters: {'min_data_in_leaf': 39, 'depth': 5, 'learning_rate': 0.09569152375592074, 'random_strength': 68, 'l2_leaf_reg': 23.974691744545613}. Best is trial 71 with value: 1.085815400126414.\u001b[0m\n"
          ],
          "name": "stderr"
        },
        {
          "output_type": "stream",
          "text": [
            "train.csv: shape = 100000 rows, 52 cols\n"
          ],
          "name": "stdout"
        },
        {
          "output_type": "stream",
          "text": [
            "Warning: less than 75% gpu memory available for training. Free: 9265.75 Total: 15109.75\n",
            "\u001b[32m[I 2021-05-25 20:18:30,869]\u001b[0m Trial 136 finished with value: 1.0962936939671732 and parameters: {'min_data_in_leaf': 47, 'depth': 6, 'learning_rate': 0.06920054352094106, 'random_strength': 43, 'l2_leaf_reg': 5.810828377558208}. Best is trial 71 with value: 1.085815400126414.\u001b[0m\n"
          ],
          "name": "stderr"
        },
        {
          "output_type": "stream",
          "text": [
            "train.csv: shape = 100000 rows, 52 cols\n"
          ],
          "name": "stdout"
        },
        {
          "output_type": "stream",
          "text": [
            "Warning: less than 75% gpu memory available for training. Free: 9265.75 Total: 15109.75\n",
            "\u001b[32m[I 2021-05-25 20:18:36,303]\u001b[0m Trial 137 finished with value: 1.0972376085519622 and parameters: {'min_data_in_leaf': 50, 'depth': 4, 'learning_rate': 0.032941711977609055, 'random_strength': 76, 'l2_leaf_reg': 0.0005185088237659192}. Best is trial 71 with value: 1.085815400126414.\u001b[0m\n"
          ],
          "name": "stderr"
        },
        {
          "output_type": "stream",
          "text": [
            "train.csv: shape = 100000 rows, 52 cols\n"
          ],
          "name": "stdout"
        },
        {
          "output_type": "stream",
          "text": [
            "Warning: less than 75% gpu memory available for training. Free: 9265.75 Total: 15109.75\n",
            "\u001b[32m[I 2021-05-25 20:18:42,683]\u001b[0m Trial 138 finished with value: 1.092417259877358 and parameters: {'min_data_in_leaf': 42, 'depth': 5, 'learning_rate': 0.05476820847878669, 'random_strength': 61, 'l2_leaf_reg': 0.7557025003196809}. Best is trial 71 with value: 1.085815400126414.\u001b[0m\n"
          ],
          "name": "stderr"
        },
        {
          "output_type": "stream",
          "text": [
            "train.csv: shape = 100000 rows, 52 cols\n"
          ],
          "name": "stdout"
        },
        {
          "output_type": "stream",
          "text": [
            "Warning: less than 75% gpu memory available for training. Free: 9265.75 Total: 15109.75\n",
            "\u001b[32m[I 2021-05-25 20:18:47,411]\u001b[0m Trial 139 finished with value: 1.0911198407488274 and parameters: {'min_data_in_leaf': 62, 'depth': 3, 'learning_rate': 0.0775506654643927, 'random_strength': 73, 'l2_leaf_reg': 13.639790096000116}. Best is trial 71 with value: 1.085815400126414.\u001b[0m\n"
          ],
          "name": "stderr"
        },
        {
          "output_type": "stream",
          "text": [
            "train.csv: shape = 100000 rows, 52 cols\n"
          ],
          "name": "stdout"
        },
        {
          "output_type": "stream",
          "text": [
            "Warning: less than 75% gpu memory available for training. Free: 9265.75 Total: 15109.75\n",
            "\u001b[32m[I 2021-05-25 20:18:51,883]\u001b[0m Trial 140 finished with value: 1.0886253447676029 and parameters: {'min_data_in_leaf': 44, 'depth': 5, 'learning_rate': 0.07175348801715174, 'random_strength': 64, 'l2_leaf_reg': 0.0002922122904403586}. Best is trial 71 with value: 1.085815400126414.\u001b[0m\n"
          ],
          "name": "stderr"
        },
        {
          "output_type": "stream",
          "text": [
            "train.csv: shape = 100000 rows, 52 cols\n"
          ],
          "name": "stdout"
        },
        {
          "output_type": "stream",
          "text": [
            "Warning: less than 75% gpu memory available for training. Free: 9265.75 Total: 15109.75\n",
            "\u001b[32m[I 2021-05-25 20:18:56,744]\u001b[0m Trial 141 finished with value: 1.094332267712891 and parameters: {'min_data_in_leaf': 44, 'depth': 5, 'learning_rate': 0.07144744202257229, 'random_strength': 63, 'l2_leaf_reg': 0.0012153095073154066}. Best is trial 71 with value: 1.085815400126414.\u001b[0m\n"
          ],
          "name": "stderr"
        },
        {
          "output_type": "stream",
          "text": [
            "train.csv: shape = 100000 rows, 52 cols\n"
          ],
          "name": "stdout"
        },
        {
          "output_type": "stream",
          "text": [
            "Warning: less than 75% gpu memory available for training. Free: 9265.75 Total: 15109.75\n",
            "\u001b[32m[I 2021-05-25 20:19:00,640]\u001b[0m Trial 142 finished with value: 1.0944016421352016 and parameters: {'min_data_in_leaf': 86, 'depth': 5, 'learning_rate': 0.07557885884736826, 'random_strength': 64, 'l2_leaf_reg': 0.00026242148560125884}. Best is trial 71 with value: 1.085815400126414.\u001b[0m\n"
          ],
          "name": "stderr"
        },
        {
          "output_type": "stream",
          "text": [
            "train.csv: shape = 100000 rows, 52 cols\n"
          ],
          "name": "stdout"
        },
        {
          "output_type": "stream",
          "text": [
            "Warning: less than 75% gpu memory available for training. Free: 9265.75 Total: 15109.75\n",
            "\u001b[32m[I 2021-05-25 20:19:05,510]\u001b[0m Trial 143 finished with value: 1.0968434353588759 and parameters: {'min_data_in_leaf': 40, 'depth': 5, 'learning_rate': 0.065879501204713, 'random_strength': 67, 'l2_leaf_reg': 0.0001053747450875934}. Best is trial 71 with value: 1.085815400126414.\u001b[0m\n"
          ],
          "name": "stderr"
        },
        {
          "output_type": "stream",
          "text": [
            "train.csv: shape = 100000 rows, 52 cols\n"
          ],
          "name": "stdout"
        },
        {
          "output_type": "stream",
          "text": [
            "Warning: less than 75% gpu memory available for training. Free: 9265.75 Total: 15109.75\n",
            "\u001b[32m[I 2021-05-25 20:19:11,545]\u001b[0m Trial 144 finished with value: 1.0950806566400613 and parameters: {'min_data_in_leaf': 46, 'depth': 5, 'learning_rate': 0.044770534140768085, 'random_strength': 82, 'l2_leaf_reg': 0.0003047543710502623}. Best is trial 71 with value: 1.085815400126414.\u001b[0m\n"
          ],
          "name": "stderr"
        },
        {
          "output_type": "stream",
          "text": [
            "train.csv: shape = 100000 rows, 52 cols\n"
          ],
          "name": "stdout"
        },
        {
          "output_type": "stream",
          "text": [
            "Warning: less than 75% gpu memory available for training. Free: 9265.75 Total: 15109.75\n",
            "\u001b[32m[I 2021-05-25 20:19:16,671]\u001b[0m Trial 145 finished with value: 1.0876127951654182 and parameters: {'min_data_in_leaf': 49, 'depth': 4, 'learning_rate': 0.0729207064984981, 'random_strength': 70, 'l2_leaf_reg': 0.000174075549524529}. Best is trial 71 with value: 1.085815400126414.\u001b[0m\n"
          ],
          "name": "stderr"
        },
        {
          "output_type": "stream",
          "text": [
            "train.csv: shape = 100000 rows, 52 cols\n"
          ],
          "name": "stdout"
        },
        {
          "output_type": "stream",
          "text": [
            "Warning: less than 75% gpu memory available for training. Free: 9265.75 Total: 15109.75\n",
            "\u001b[32m[I 2021-05-25 20:19:21,063]\u001b[0m Trial 146 finished with value: 1.0973944818992203 and parameters: {'min_data_in_leaf': 48, 'depth': 4, 'learning_rate': 0.0732027419117292, 'random_strength': 61, 'l2_leaf_reg': 0.0009341611420668118}. Best is trial 71 with value: 1.085815400126414.\u001b[0m\n"
          ],
          "name": "stderr"
        },
        {
          "output_type": "stream",
          "text": [
            "train.csv: shape = 100000 rows, 52 cols\n"
          ],
          "name": "stdout"
        },
        {
          "output_type": "stream",
          "text": [
            "Warning: less than 75% gpu memory available for training. Free: 9265.75 Total: 15109.75\n",
            "\u001b[32m[I 2021-05-25 20:19:26,329]\u001b[0m Trial 147 finished with value: 1.0916033337241229 and parameters: {'min_data_in_leaf': 51, 'depth': 4, 'learning_rate': 0.06854090362690525, 'random_strength': 79, 'l2_leaf_reg': 0.00019584855564888206}. Best is trial 71 with value: 1.085815400126414.\u001b[0m\n"
          ],
          "name": "stderr"
        },
        {
          "output_type": "stream",
          "text": [
            "train.csv: shape = 100000 rows, 52 cols\n"
          ],
          "name": "stdout"
        },
        {
          "output_type": "stream",
          "text": [
            "Warning: less than 75% gpu memory available for training. Free: 9265.75 Total: 15109.75\n",
            "\u001b[32m[I 2021-05-25 20:19:32,100]\u001b[0m Trial 148 finished with value: 1.0905750727512733 and parameters: {'min_data_in_leaf': 54, 'depth': 4, 'learning_rate': 0.05744808904006431, 'random_strength': 70, 'l2_leaf_reg': 7.878501911013809e-05}. Best is trial 71 with value: 1.085815400126414.\u001b[0m\n"
          ],
          "name": "stderr"
        },
        {
          "output_type": "stream",
          "text": [
            "train.csv: shape = 100000 rows, 52 cols\n"
          ],
          "name": "stdout"
        },
        {
          "output_type": "stream",
          "text": [
            "Warning: less than 75% gpu memory available for training. Free: 9265.75 Total: 15109.75\n",
            "\u001b[32m[I 2021-05-25 20:19:37,143]\u001b[0m Trial 149 finished with value: 1.0911456048862536 and parameters: {'min_data_in_leaf': 57, 'depth': 4, 'learning_rate': 0.06379650075554484, 'random_strength': 74, 'l2_leaf_reg': 0.0005264370749679039}. Best is trial 71 with value: 1.085815400126414.\u001b[0m\n"
          ],
          "name": "stderr"
        },
        {
          "output_type": "stream",
          "text": [
            "train.csv: shape = 100000 rows, 52 cols\n"
          ],
          "name": "stdout"
        },
        {
          "output_type": "stream",
          "text": [
            "Warning: less than 75% gpu memory available for training. Free: 9265.75 Total: 15109.75\n",
            "\u001b[32m[I 2021-05-25 20:19:41,556]\u001b[0m Trial 150 finished with value: 1.0911800971898242 and parameters: {'min_data_in_leaf': 49, 'depth': 4, 'learning_rate': 0.07202423906086558, 'random_strength': 55, 'l2_leaf_reg': 0.0003133174531328408}. Best is trial 71 with value: 1.085815400126414.\u001b[0m\n"
          ],
          "name": "stderr"
        },
        {
          "output_type": "stream",
          "text": [
            "train.csv: shape = 100000 rows, 52 cols\n"
          ],
          "name": "stdout"
        },
        {
          "output_type": "stream",
          "text": [
            "Warning: less than 75% gpu memory available for training. Free: 9265.75 Total: 15109.75\n",
            "\u001b[32m[I 2021-05-25 20:19:47,369]\u001b[0m Trial 151 finished with value: 1.0892752320943926 and parameters: {'min_data_in_leaf': 43, 'depth': 5, 'learning_rate': 0.06654414756871117, 'random_strength': 66, 'l2_leaf_reg': 1.4482568875840014}. Best is trial 71 with value: 1.085815400126414.\u001b[0m\n"
          ],
          "name": "stderr"
        },
        {
          "output_type": "stream",
          "text": [
            "train.csv: shape = 100000 rows, 52 cols\n"
          ],
          "name": "stdout"
        },
        {
          "output_type": "stream",
          "text": [
            "Warning: less than 75% gpu memory available for training. Free: 9265.75 Total: 15109.75\n",
            "\u001b[32m[I 2021-05-25 20:19:52,817]\u001b[0m Trial 152 finished with value: 1.0836613774733865 and parameters: {'min_data_in_leaf': 43, 'depth': 5, 'learning_rate': 0.07928546561861827, 'random_strength': 66, 'l2_leaf_reg': 2.9448952422509165}. Best is trial 152 with value: 1.0836613774733865.\u001b[0m\n"
          ],
          "name": "stderr"
        },
        {
          "output_type": "stream",
          "text": [
            "train.csv: shape = 100000 rows, 52 cols\n"
          ],
          "name": "stdout"
        },
        {
          "output_type": "stream",
          "text": [
            "Warning: less than 75% gpu memory available for training. Free: 9265.75 Total: 15109.75\n",
            "\u001b[32m[I 2021-05-25 20:19:58,493]\u001b[0m Trial 153 finished with value: 1.0925303009172498 and parameters: {'min_data_in_leaf': 46, 'depth': 4, 'learning_rate': 0.07583090786077903, 'random_strength': 69, 'l2_leaf_reg': 3.6605917401671424}. Best is trial 152 with value: 1.0836613774733865.\u001b[0m\n"
          ],
          "name": "stderr"
        },
        {
          "output_type": "stream",
          "text": [
            "train.csv: shape = 100000 rows, 52 cols\n"
          ],
          "name": "stdout"
        },
        {
          "output_type": "stream",
          "text": [
            "Warning: less than 75% gpu memory available for training. Free: 9265.75 Total: 15109.75\n",
            "\u001b[32m[I 2021-05-25 20:20:03,564]\u001b[0m Trial 154 finished with value: 1.0931811557868294 and parameters: {'min_data_in_leaf': 44, 'depth': 4, 'learning_rate': 0.0809056975074222, 'random_strength': 65, 'l2_leaf_reg': 9.30305500086425}. Best is trial 152 with value: 1.0836613774733865.\u001b[0m\n"
          ],
          "name": "stderr"
        },
        {
          "output_type": "stream",
          "text": [
            "train.csv: shape = 100000 rows, 52 cols\n"
          ],
          "name": "stdout"
        },
        {
          "output_type": "stream",
          "text": [
            "Warning: less than 75% gpu memory available for training. Free: 9265.75 Total: 15109.75\n",
            "\u001b[32m[I 2021-05-25 20:20:08,829]\u001b[0m Trial 155 finished with value: 1.0884331904672047 and parameters: {'min_data_in_leaf': 38, 'depth': 5, 'learning_rate': 0.07847590518639788, 'random_strength': 71, 'l2_leaf_reg': 5.141961854490971}. Best is trial 152 with value: 1.0836613774733865.\u001b[0m\n"
          ],
          "name": "stderr"
        },
        {
          "output_type": "stream",
          "text": [
            "train.csv: shape = 100000 rows, 52 cols\n"
          ],
          "name": "stdout"
        },
        {
          "output_type": "stream",
          "text": [
            "Warning: less than 75% gpu memory available for training. Free: 9265.75 Total: 15109.75\n",
            "\u001b[32m[I 2021-05-25 20:20:14,463]\u001b[0m Trial 156 finished with value: 1.09120276868818 and parameters: {'min_data_in_leaf': 78, 'depth': 5, 'learning_rate': 0.07891166914785935, 'random_strength': 76, 'l2_leaf_reg': 5.749057669735482}. Best is trial 152 with value: 1.0836613774733865.\u001b[0m\n"
          ],
          "name": "stderr"
        },
        {
          "output_type": "stream",
          "text": [
            "train.csv: shape = 100000 rows, 52 cols\n"
          ],
          "name": "stdout"
        },
        {
          "output_type": "stream",
          "text": [
            "Warning: less than 75% gpu memory available for training. Free: 9265.75 Total: 15109.75\n",
            "\u001b[32m[I 2021-05-25 20:20:17,945]\u001b[0m Trial 157 finished with value: 1.0946773542602186 and parameters: {'min_data_in_leaf': 38, 'depth': 5, 'learning_rate': 0.0839821258284749, 'random_strength': 58, 'l2_leaf_reg': 0.00016321627785227926}. Best is trial 152 with value: 1.0836613774733865.\u001b[0m\n"
          ],
          "name": "stderr"
        },
        {
          "output_type": "stream",
          "text": [
            "train.csv: shape = 100000 rows, 52 cols\n"
          ],
          "name": "stdout"
        },
        {
          "output_type": "stream",
          "text": [
            "Warning: less than 75% gpu memory available for training. Free: 9265.75 Total: 15109.75\n",
            "\u001b[32m[I 2021-05-25 20:20:23,970]\u001b[0m Trial 158 finished with value: 1.0860983521044218 and parameters: {'min_data_in_leaf': 33, 'depth': 5, 'learning_rate': 0.07347812110702893, 'random_strength': 91, 'l2_leaf_reg': 16.883797375955126}. Best is trial 152 with value: 1.0836613774733865.\u001b[0m\n"
          ],
          "name": "stderr"
        },
        {
          "output_type": "stream",
          "text": [
            "train.csv: shape = 100000 rows, 52 cols\n"
          ],
          "name": "stdout"
        },
        {
          "output_type": "stream",
          "text": [
            "Warning: less than 75% gpu memory available for training. Free: 9265.75 Total: 15109.75\n",
            "\u001b[32m[I 2021-05-25 20:20:25,233]\u001b[0m Trial 159 finished with value: 1.3427316910094496 and parameters: {'min_data_in_leaf': 33, 'depth': 5, 'learning_rate': 0.07449700348173086, 'random_strength': 91, 'l2_leaf_reg': 1.0562082189920065e-08}. Best is trial 152 with value: 1.0836613774733865.\u001b[0m\n"
          ],
          "name": "stderr"
        },
        {
          "output_type": "stream",
          "text": [
            "train.csv: shape = 100000 rows, 52 cols\n"
          ],
          "name": "stdout"
        },
        {
          "output_type": "stream",
          "text": [
            "Warning: less than 75% gpu memory available for training. Free: 9265.75 Total: 15109.75\n",
            "\u001b[32m[I 2021-05-25 20:20:31,443]\u001b[0m Trial 160 finished with value: 1.0914868780332525 and parameters: {'min_data_in_leaf': 33, 'depth': 5, 'learning_rate': 0.06931527087933374, 'random_strength': 88, 'l2_leaf_reg': 16.246299643009486}. Best is trial 152 with value: 1.0836613774733865.\u001b[0m\n"
          ],
          "name": "stderr"
        },
        {
          "output_type": "stream",
          "text": [
            "train.csv: shape = 100000 rows, 52 cols\n"
          ],
          "name": "stdout"
        },
        {
          "output_type": "stream",
          "text": [
            "Warning: less than 75% gpu memory available for training. Free: 9265.75 Total: 15109.75\n",
            "\u001b[32m[I 2021-05-25 20:20:36,229]\u001b[0m Trial 161 finished with value: 1.0969656222716007 and parameters: {'min_data_in_leaf': 36, 'depth': 5, 'learning_rate': 0.0784015761043092, 'random_strength': 96, 'l2_leaf_reg': 3.066859160764524}. Best is trial 152 with value: 1.0836613774733865.\u001b[0m\n"
          ],
          "name": "stderr"
        },
        {
          "output_type": "stream",
          "text": [
            "train.csv: shape = 100000 rows, 52 cols\n"
          ],
          "name": "stdout"
        },
        {
          "output_type": "stream",
          "text": [
            "Warning: less than 75% gpu memory available for training. Free: 9265.75 Total: 15109.75\n",
            "\u001b[32m[I 2021-05-25 20:20:42,774]\u001b[0m Trial 162 finished with value: 1.0927371561348818 and parameters: {'min_data_in_leaf': 29, 'depth': 5, 'learning_rate': 0.07308865172849306, 'random_strength': 84, 'l2_leaf_reg': 10.731602217108986}. Best is trial 152 with value: 1.0836613774733865.\u001b[0m\n"
          ],
          "name": "stderr"
        },
        {
          "output_type": "stream",
          "text": [
            "train.csv: shape = 100000 rows, 52 cols\n"
          ],
          "name": "stdout"
        },
        {
          "output_type": "stream",
          "text": [
            "Warning: less than 75% gpu memory available for training. Free: 9265.75 Total: 15109.75\n",
            "\u001b[32m[I 2021-05-25 20:20:48,766]\u001b[0m Trial 163 finished with value: 1.0950689701609597 and parameters: {'min_data_in_leaf': 41, 'depth': 5, 'learning_rate': 0.08007344886912093, 'random_strength': 68, 'l2_leaf_reg': 31.539222581225758}. Best is trial 152 with value: 1.0836613774733865.\u001b[0m\n"
          ],
          "name": "stderr"
        },
        {
          "output_type": "stream",
          "text": [
            "train.csv: shape = 100000 rows, 52 cols\n"
          ],
          "name": "stdout"
        },
        {
          "output_type": "stream",
          "text": [
            "Warning: less than 75% gpu memory available for training. Free: 9265.75 Total: 15109.75\n",
            "\u001b[32m[I 2021-05-25 20:20:55,697]\u001b[0m Trial 164 finished with value: 1.094803781637367 and parameters: {'min_data_in_leaf': 39, 'depth': 5, 'learning_rate': 0.07080127143177703, 'random_strength': 92, 'l2_leaf_reg': 92.86810000965558}. Best is trial 152 with value: 1.0836613774733865.\u001b[0m\n"
          ],
          "name": "stderr"
        },
        {
          "output_type": "stream",
          "text": [
            "train.csv: shape = 100000 rows, 52 cols\n"
          ],
          "name": "stdout"
        },
        {
          "output_type": "stream",
          "text": [
            "Warning: less than 75% gpu memory available for training. Free: 9265.75 Total: 15109.75\n",
            "\u001b[32m[I 2021-05-25 20:20:57,127]\u001b[0m Trial 165 finished with value: 1.307830224735433 and parameters: {'min_data_in_leaf': 81, 'depth': 6, 'learning_rate': 0.07443527325712612, 'random_strength': 71, 'l2_leaf_reg': 9.451890499623605e-05}. Best is trial 152 with value: 1.0836613774733865.\u001b[0m\n"
          ],
          "name": "stderr"
        },
        {
          "output_type": "stream",
          "text": [
            "train.csv: shape = 100000 rows, 52 cols\n"
          ],
          "name": "stdout"
        },
        {
          "output_type": "stream",
          "text": [
            "Warning: less than 75% gpu memory available for training. Free: 9265.75 Total: 15109.75\n",
            "\u001b[32m[I 2021-05-25 20:21:02,351]\u001b[0m Trial 166 finished with value: 1.0927788852941025 and parameters: {'min_data_in_leaf': 22, 'depth': 7, 'learning_rate': 0.07619682094336923, 'random_strength': 78, 'l2_leaf_reg': 5.068860466048079}. Best is trial 152 with value: 1.0836613774733865.\u001b[0m\n"
          ],
          "name": "stderr"
        },
        {
          "output_type": "stream",
          "text": [
            "train.csv: shape = 100000 rows, 52 cols\n"
          ],
          "name": "stdout"
        },
        {
          "output_type": "stream",
          "text": [
            "Warning: less than 75% gpu memory available for training. Free: 9265.75 Total: 15109.75\n",
            "\u001b[32m[I 2021-05-25 20:21:06,379]\u001b[0m Trial 167 finished with value: 1.0956905364566403 and parameters: {'min_data_in_leaf': 43, 'depth': 5, 'learning_rate': 0.08665584902813231, 'random_strength': 81, 'l2_leaf_reg': 0.00048344733448623533}. Best is trial 152 with value: 1.0836613774733865.\u001b[0m\n"
          ],
          "name": "stderr"
        },
        {
          "output_type": "stream",
          "text": [
            "train.csv: shape = 100000 rows, 52 cols\n"
          ],
          "name": "stdout"
        },
        {
          "output_type": "stream",
          "text": [
            "Warning: less than 75% gpu memory available for training. Free: 9265.75 Total: 15109.75\n",
            "\u001b[32m[I 2021-05-25 20:21:13,186]\u001b[0m Trial 168 finished with value: 1.0918583184206658 and parameters: {'min_data_in_leaf': 77, 'depth': 5, 'learning_rate': 0.08195379883886662, 'random_strength': 74, 'l2_leaf_reg': 7.725354972232793}. Best is trial 152 with value: 1.0836613774733865.\u001b[0m\n"
          ],
          "name": "stderr"
        },
        {
          "output_type": "stream",
          "text": [
            "train.csv: shape = 100000 rows, 52 cols\n"
          ],
          "name": "stdout"
        },
        {
          "output_type": "stream",
          "text": [
            "Warning: less than 75% gpu memory available for training. Free: 9265.75 Total: 15109.75\n",
            "\u001b[32m[I 2021-05-25 20:21:17,926]\u001b[0m Trial 169 finished with value: 1.0934594453245696 and parameters: {'min_data_in_leaf': 47, 'depth': 5, 'learning_rate': 0.06144564864172882, 'random_strength': 100, 'l2_leaf_reg': 0.0008598123817229146}. Best is trial 152 with value: 1.0836613774733865.\u001b[0m\n"
          ],
          "name": "stderr"
        },
        {
          "output_type": "stream",
          "text": [
            "train.csv: shape = 100000 rows, 52 cols\n"
          ],
          "name": "stdout"
        },
        {
          "output_type": "stream",
          "text": [
            "Warning: less than 75% gpu memory available for training. Free: 9265.75 Total: 15109.75\n",
            "\u001b[32m[I 2021-05-25 20:21:23,265]\u001b[0m Trial 170 finished with value: 1.0884463311523356 and parameters: {'min_data_in_leaf': 30, 'depth': 5, 'learning_rate': 0.05202379307279266, 'random_strength': 62, 'l2_leaf_reg': 0.0001637321158679474}. Best is trial 152 with value: 1.0836613774733865.\u001b[0m\n"
          ],
          "name": "stderr"
        },
        {
          "output_type": "stream",
          "text": [
            "train.csv: shape = 100000 rows, 52 cols\n"
          ],
          "name": "stdout"
        },
        {
          "output_type": "stream",
          "text": [
            "Warning: less than 75% gpu memory available for training. Free: 9265.75 Total: 15109.75\n",
            "\u001b[32m[I 2021-05-25 20:21:28,265]\u001b[0m Trial 171 finished with value: 1.093438530761892 and parameters: {'min_data_in_leaf': 29, 'depth': 5, 'learning_rate': 0.05097733539992173, 'random_strength': 61, 'l2_leaf_reg': 0.00021438786453292533}. Best is trial 152 with value: 1.0836613774733865.\u001b[0m\n"
          ],
          "name": "stderr"
        },
        {
          "output_type": "stream",
          "text": [
            "train.csv: shape = 100000 rows, 52 cols\n"
          ],
          "name": "stdout"
        },
        {
          "output_type": "stream",
          "text": [
            "Warning: less than 75% gpu memory available for training. Free: 9265.75 Total: 15109.75\n",
            "\u001b[32m[I 2021-05-25 20:21:33,908]\u001b[0m Trial 172 finished with value: 1.0974895080548814 and parameters: {'min_data_in_leaf': 31, 'depth': 5, 'learning_rate': 0.05296999817031669, 'random_strength': 64, 'l2_leaf_reg': 0.00033861458617426}. Best is trial 152 with value: 1.0836613774733865.\u001b[0m\n"
          ],
          "name": "stderr"
        },
        {
          "output_type": "stream",
          "text": [
            "train.csv: shape = 100000 rows, 52 cols\n"
          ],
          "name": "stdout"
        },
        {
          "output_type": "stream",
          "text": [
            "Warning: less than 75% gpu memory available for training. Free: 9265.75 Total: 15109.75\n",
            "\u001b[32m[I 2021-05-25 20:21:35,313]\u001b[0m Trial 173 finished with value: 1.2728932019424979 and parameters: {'min_data_in_leaf': 26, 'depth': 5, 'learning_rate': 0.0488520655152174, 'random_strength': 67, 'l2_leaf_reg': 5.5914832214997816e-05}. Best is trial 152 with value: 1.0836613774733865.\u001b[0m\n"
          ],
          "name": "stderr"
        },
        {
          "output_type": "stream",
          "text": [
            "train.csv: shape = 100000 rows, 52 cols\n"
          ],
          "name": "stdout"
        },
        {
          "output_type": "stream",
          "text": [
            "Warning: less than 75% gpu memory available for training. Free: 9265.75 Total: 15109.75\n",
            "\u001b[32m[I 2021-05-25 20:21:40,822]\u001b[0m Trial 174 finished with value: 1.0930689323610159 and parameters: {'min_data_in_leaf': 42, 'depth': 5, 'learning_rate': 0.0587908312619906, 'random_strength': 62, 'l2_leaf_reg': 0.00014159875100269414}. Best is trial 152 with value: 1.0836613774733865.\u001b[0m\n"
          ],
          "name": "stderr"
        },
        {
          "output_type": "stream",
          "text": [
            "train.csv: shape = 100000 rows, 52 cols\n"
          ],
          "name": "stdout"
        },
        {
          "output_type": "stream",
          "text": [
            "Warning: less than 75% gpu memory available for training. Free: 9265.75 Total: 15109.75\n",
            "\u001b[32m[I 2021-05-25 20:21:42,163]\u001b[0m Trial 175 finished with value: 1.3444021405401412 and parameters: {'min_data_in_leaf': 45, 'depth': 5, 'learning_rate': 0.07182208750868814, 'random_strength': 70, 'l2_leaf_reg': 3.787631354718993e-05}. Best is trial 152 with value: 1.0836613774733865.\u001b[0m\n"
          ],
          "name": "stderr"
        },
        {
          "output_type": "stream",
          "text": [
            "train.csv: shape = 100000 rows, 52 cols\n"
          ],
          "name": "stdout"
        },
        {
          "output_type": "stream",
          "text": [
            "Warning: less than 75% gpu memory available for training. Free: 9265.75 Total: 15109.75\n",
            "\u001b[32m[I 2021-05-25 20:21:47,762]\u001b[0m Trial 176 finished with value: 1.0961376080534693 and parameters: {'min_data_in_leaf': 37, 'depth': 5, 'learning_rate': 0.07782619308959865, 'random_strength': 65, 'l2_leaf_reg': 4.656879487977448}. Best is trial 152 with value: 1.0836613774733865.\u001b[0m\n"
          ],
          "name": "stderr"
        },
        {
          "output_type": "stream",
          "text": [
            "train.csv: shape = 100000 rows, 52 cols\n"
          ],
          "name": "stdout"
        },
        {
          "output_type": "stream",
          "text": [
            "Warning: less than 75% gpu memory available for training. Free: 9265.75 Total: 15109.75\n",
            "\u001b[32m[I 2021-05-25 20:21:53,835]\u001b[0m Trial 177 finished with value: 1.0943338744229072 and parameters: {'min_data_in_leaf': 49, 'depth': 6, 'learning_rate': 0.06810964364997912, 'random_strength': 72, 'l2_leaf_reg': 21.833575787039155}. Best is trial 152 with value: 1.0836613774733865.\u001b[0m\n"
          ],
          "name": "stderr"
        },
        {
          "output_type": "stream",
          "text": [
            "train.csv: shape = 100000 rows, 52 cols\n"
          ],
          "name": "stdout"
        },
        {
          "output_type": "stream",
          "text": [
            "Warning: less than 75% gpu memory available for training. Free: 9265.75 Total: 15109.75\n",
            "\u001b[32m[I 2021-05-25 20:21:59,891]\u001b[0m Trial 178 finished with value: 1.0880566264025562 and parameters: {'min_data_in_leaf': 34, 'depth': 5, 'learning_rate': 0.05559280277355272, 'random_strength': 67, 'l2_leaf_reg': 2.5359052546651206}. Best is trial 152 with value: 1.0836613774733865.\u001b[0m\n"
          ],
          "name": "stderr"
        },
        {
          "output_type": "stream",
          "text": [
            "train.csv: shape = 100000 rows, 52 cols\n"
          ],
          "name": "stdout"
        },
        {
          "output_type": "stream",
          "text": [
            "Warning: less than 75% gpu memory available for training. Free: 9265.75 Total: 15109.75\n",
            "\u001b[32m[I 2021-05-25 20:22:06,326]\u001b[0m Trial 179 finished with value: 1.0948775759233456 and parameters: {'min_data_in_leaf': 35, 'depth': 5, 'learning_rate': 0.06238372497804408, 'random_strength': 77, 'l2_leaf_reg': 2.6643281649353665}. Best is trial 152 with value: 1.0836613774733865.\u001b[0m\n"
          ],
          "name": "stderr"
        },
        {
          "output_type": "stream",
          "text": [
            "train.csv: shape = 100000 rows, 52 cols\n"
          ],
          "name": "stdout"
        },
        {
          "output_type": "stream",
          "text": [
            "Warning: less than 75% gpu memory available for training. Free: 9265.75 Total: 15109.75\n",
            "\u001b[32m[I 2021-05-25 20:22:11,672]\u001b[0m Trial 180 finished with value: 1.0931100931739672 and parameters: {'min_data_in_leaf': 30, 'depth': 5, 'learning_rate': 0.05716067649041417, 'random_strength': 86, 'l2_leaf_reg': 0.00014855259420814104}. Best is trial 152 with value: 1.0836613774733865.\u001b[0m\n"
          ],
          "name": "stderr"
        },
        {
          "output_type": "stream",
          "text": [
            "train.csv: shape = 100000 rows, 52 cols\n"
          ],
          "name": "stdout"
        },
        {
          "output_type": "stream",
          "text": [
            "Warning: less than 75% gpu memory available for training. Free: 9265.75 Total: 15109.75\n",
            "\u001b[32m[I 2021-05-25 20:22:18,123]\u001b[0m Trial 181 finished with value: 1.0887997835416472 and parameters: {'min_data_in_leaf': 33, 'depth': 5, 'learning_rate': 0.053118398674966656, 'random_strength': 68, 'l2_leaf_reg': 9.294969298588653}. Best is trial 152 with value: 1.0836613774733865.\u001b[0m\n"
          ],
          "name": "stderr"
        },
        {
          "output_type": "stream",
          "text": [
            "train.csv: shape = 100000 rows, 52 cols\n"
          ],
          "name": "stdout"
        },
        {
          "output_type": "stream",
          "text": [
            "Warning: less than 75% gpu memory available for training. Free: 9265.75 Total: 15109.75\n",
            "\u001b[32m[I 2021-05-25 20:22:24,835]\u001b[0m Trial 182 finished with value: 1.0919243201436704 and parameters: {'min_data_in_leaf': 27, 'depth': 5, 'learning_rate': 0.054581390907615324, 'random_strength': 68, 'l2_leaf_reg': 13.15609617823091}. Best is trial 152 with value: 1.0836613774733865.\u001b[0m\n"
          ],
          "name": "stderr"
        },
        {
          "output_type": "stream",
          "text": [
            "train.csv: shape = 100000 rows, 52 cols\n"
          ],
          "name": "stdout"
        },
        {
          "output_type": "stream",
          "text": [
            "Warning: less than 75% gpu memory available for training. Free: 9265.75 Total: 15109.75\n",
            "\u001b[32m[I 2021-05-25 20:22:31,304]\u001b[0m Trial 183 finished with value: 1.0906293092741595 and parameters: {'min_data_in_leaf': 32, 'depth': 5, 'learning_rate': 0.04564390340930729, 'random_strength': 64, 'l2_leaf_reg': 8.201317971636588}. Best is trial 152 with value: 1.0836613774733865.\u001b[0m\n"
          ],
          "name": "stderr"
        },
        {
          "output_type": "stream",
          "text": [
            "train.csv: shape = 100000 rows, 52 cols\n"
          ],
          "name": "stdout"
        },
        {
          "output_type": "stream",
          "text": [
            "Warning: less than 75% gpu memory available for training. Free: 9265.75 Total: 15109.75\n",
            "\u001b[32m[I 2021-05-25 20:22:37,242]\u001b[0m Trial 184 finished with value: 1.0962833161608678 and parameters: {'min_data_in_leaf': 34, 'depth': 5, 'learning_rate': 0.05358493929714043, 'random_strength': 67, 'l2_leaf_reg': 1.302099550925846}. Best is trial 152 with value: 1.0836613774733865.\u001b[0m\n"
          ],
          "name": "stderr"
        },
        {
          "output_type": "stream",
          "text": [
            "train.csv: shape = 100000 rows, 52 cols\n"
          ],
          "name": "stdout"
        },
        {
          "output_type": "stream",
          "text": [
            "Warning: less than 75% gpu memory available for training. Free: 9265.75 Total: 15109.75\n",
            "\u001b[32m[I 2021-05-25 20:22:42,566]\u001b[0m Trial 185 finished with value: 1.0940983414317458 and parameters: {'min_data_in_leaf': 33, 'depth': 5, 'learning_rate': 0.05215351661808508, 'random_strength': 66, 'l2_leaf_reg': 0.0003364948738427547}. Best is trial 152 with value: 1.0836613774733865.\u001b[0m\n"
          ],
          "name": "stderr"
        },
        {
          "output_type": "stream",
          "text": [
            "train.csv: shape = 100000 rows, 52 cols\n"
          ],
          "name": "stdout"
        },
        {
          "output_type": "stream",
          "text": [
            "Warning: less than 75% gpu memory available for training. Free: 9265.75 Total: 15109.75\n",
            "\u001b[32m[I 2021-05-25 20:22:49,019]\u001b[0m Trial 186 finished with value: 1.090647589059421 and parameters: {'min_data_in_leaf': 38, 'depth': 5, 'learning_rate': 0.059942746866886755, 'random_strength': 70, 'l2_leaf_reg': 2.812008118977799}. Best is trial 152 with value: 1.0836613774733865.\u001b[0m\n"
          ],
          "name": "stderr"
        },
        {
          "output_type": "stream",
          "text": [
            "train.csv: shape = 100000 rows, 52 cols\n"
          ],
          "name": "stdout"
        },
        {
          "output_type": "stream",
          "text": [
            "Warning: less than 75% gpu memory available for training. Free: 9265.75 Total: 15109.75\n",
            "\u001b[32m[I 2021-05-25 20:22:55,116]\u001b[0m Trial 187 finished with value: 1.0870987241850778 and parameters: {'min_data_in_leaf': 40, 'depth': 5, 'learning_rate': 0.049746369150550585, 'random_strength': 60, 'l2_leaf_reg': 0.0005395070731755681}. Best is trial 152 with value: 1.0836613774733865.\u001b[0m\n"
          ],
          "name": "stderr"
        },
        {
          "output_type": "stream",
          "text": [
            "train.csv: shape = 100000 rows, 52 cols\n"
          ],
          "name": "stdout"
        },
        {
          "output_type": "stream",
          "text": [
            "Warning: less than 75% gpu memory available for training. Free: 9265.75 Total: 15109.75\n",
            "\u001b[32m[I 2021-05-25 20:23:01,613]\u001b[0m Trial 188 finished with value: 1.0954463131219676 and parameters: {'min_data_in_leaf': 31, 'depth': 5, 'learning_rate': 0.04145271769472974, 'random_strength': 59, 'l2_leaf_reg': 0.0007351194239337621}. Best is trial 152 with value: 1.0836613774733865.\u001b[0m\n"
          ],
          "name": "stderr"
        },
        {
          "output_type": "stream",
          "text": [
            "train.csv: shape = 100000 rows, 52 cols\n"
          ],
          "name": "stdout"
        },
        {
          "output_type": "stream",
          "text": [
            "Warning: less than 75% gpu memory available for training. Free: 9265.75 Total: 15109.75\n",
            "\u001b[32m[I 2021-05-25 20:23:08,026]\u001b[0m Trial 189 finished with value: 1.0915400434495222 and parameters: {'min_data_in_leaf': 36, 'depth': 5, 'learning_rate': 0.04908197814978314, 'random_strength': 59, 'l2_leaf_reg': 0.0005463567624802137}. Best is trial 152 with value: 1.0836613774733865.\u001b[0m\n"
          ],
          "name": "stderr"
        },
        {
          "output_type": "stream",
          "text": [
            "train.csv: shape = 100000 rows, 52 cols\n"
          ],
          "name": "stdout"
        },
        {
          "output_type": "stream",
          "text": [
            "Warning: less than 75% gpu memory available for training. Free: 9265.75 Total: 15109.75\n",
            "\u001b[32m[I 2021-05-25 20:23:14,305]\u001b[0m Trial 190 finished with value: 1.0933093470652333 and parameters: {'min_data_in_leaf': 40, 'depth': 5, 'learning_rate': 0.04705313048270364, 'random_strength': 62, 'l2_leaf_reg': 0.0011819031981115313}. Best is trial 152 with value: 1.0836613774733865.\u001b[0m\n"
          ],
          "name": "stderr"
        },
        {
          "output_type": "stream",
          "text": [
            "train.csv: shape = 100000 rows, 52 cols\n"
          ],
          "name": "stdout"
        },
        {
          "output_type": "stream",
          "text": [
            "Warning: less than 75% gpu memory available for training. Free: 9265.75 Total: 15109.75\n",
            "\u001b[32m[I 2021-05-25 20:23:19,726]\u001b[0m Trial 191 finished with value: 1.0926327718373277 and parameters: {'min_data_in_leaf': 41, 'depth': 5, 'learning_rate': 0.056050564652737916, 'random_strength': 64, 'l2_leaf_reg': 0.00025625139137674073}. Best is trial 152 with value: 1.0836613774733865.\u001b[0m\n"
          ],
          "name": "stderr"
        },
        {
          "output_type": "stream",
          "text": [
            "train.csv: shape = 100000 rows, 52 cols\n"
          ],
          "name": "stdout"
        },
        {
          "output_type": "stream",
          "text": [
            "Warning: less than 75% gpu memory available for training. Free: 9265.75 Total: 15109.75\n",
            "\u001b[32m[I 2021-05-25 20:23:26,330]\u001b[0m Trial 192 finished with value: 1.0954390660378819 and parameters: {'min_data_in_leaf': 44, 'depth': 5, 'learning_rate': 0.04924181942314102, 'random_strength': 80, 'l2_leaf_reg': 0.0018695337702918408}. Best is trial 152 with value: 1.0836613774733865.\u001b[0m\n"
          ],
          "name": "stderr"
        },
        {
          "output_type": "stream",
          "text": [
            "train.csv: shape = 100000 rows, 52 cols\n"
          ],
          "name": "stdout"
        },
        {
          "output_type": "stream",
          "text": [
            "Warning: less than 75% gpu memory available for training. Free: 9265.75 Total: 15109.75\n",
            "\u001b[32m[I 2021-05-25 20:23:33,092]\u001b[0m Trial 193 finished with value: 1.0927588455811863 and parameters: {'min_data_in_leaf': 35, 'depth': 5, 'learning_rate': 0.050276591661253756, 'random_strength': 74, 'l2_leaf_reg': 0.00011397023766410806}. Best is trial 152 with value: 1.0836613774733865.\u001b[0m\n"
          ],
          "name": "stderr"
        },
        {
          "output_type": "stream",
          "text": [
            "train.csv: shape = 100000 rows, 52 cols\n"
          ],
          "name": "stdout"
        },
        {
          "output_type": "stream",
          "text": [
            "Warning: less than 75% gpu memory available for training. Free: 9265.75 Total: 15109.75\n",
            "\u001b[32m[I 2021-05-25 20:23:38,586]\u001b[0m Trial 194 finished with value: 1.089191193182778 and parameters: {'min_data_in_leaf': 46, 'depth': 5, 'learning_rate': 0.055480613943208884, 'random_strength': 66, 'l2_leaf_reg': 0.00039592678594039507}. Best is trial 152 with value: 1.0836613774733865.\u001b[0m\n"
          ],
          "name": "stderr"
        },
        {
          "output_type": "stream",
          "text": [
            "train.csv: shape = 100000 rows, 52 cols\n"
          ],
          "name": "stdout"
        },
        {
          "output_type": "stream",
          "text": [
            "Warning: less than 75% gpu memory available for training. Free: 9265.75 Total: 15109.75\n",
            "\u001b[32m[I 2021-05-25 20:23:45,462]\u001b[0m Trial 195 finished with value: 1.0923592999451783 and parameters: {'min_data_in_leaf': 38, 'depth': 5, 'learning_rate': 0.05247017851359416, 'random_strength': 69, 'l2_leaf_reg': 4.807183871211283}. Best is trial 152 with value: 1.0836613774733865.\u001b[0m\n"
          ],
          "name": "stderr"
        },
        {
          "output_type": "stream",
          "text": [
            "train.csv: shape = 100000 rows, 52 cols\n"
          ],
          "name": "stdout"
        },
        {
          "output_type": "stream",
          "text": [
            "Warning: less than 75% gpu memory available for training. Free: 9265.75 Total: 15109.75\n",
            "\u001b[32m[I 2021-05-25 20:23:53,294]\u001b[0m Trial 196 finished with value: 1.0941734711084372 and parameters: {'min_data_in_leaf': 42, 'depth': 7, 'learning_rate': 0.04383483131459892, 'random_strength': 56, 'l2_leaf_reg': 2.0564464138298053}. Best is trial 152 with value: 1.0836613774733865.\u001b[0m\n"
          ],
          "name": "stderr"
        },
        {
          "output_type": "stream",
          "text": [
            "train.csv: shape = 100000 rows, 52 cols\n"
          ],
          "name": "stdout"
        },
        {
          "output_type": "stream",
          "text": [
            "Warning: less than 75% gpu memory available for training. Free: 9265.75 Total: 15109.75\n",
            "\u001b[32m[I 2021-05-25 20:23:59,664]\u001b[0m Trial 197 finished with value: 1.0986142342903333 and parameters: {'min_data_in_leaf': 84, 'depth': 5, 'learning_rate': 0.04645086585365146, 'random_strength': 60, 'l2_leaf_reg': 0.00020780594470989943}. Best is trial 152 with value: 1.0836613774733865.\u001b[0m\n"
          ],
          "name": "stderr"
        },
        {
          "output_type": "stream",
          "text": [
            "train.csv: shape = 100000 rows, 52 cols\n"
          ],
          "name": "stdout"
        },
        {
          "output_type": "stream",
          "text": [
            "Warning: less than 75% gpu memory available for training. Free: 9265.75 Total: 15109.75\n",
            "\u001b[32m[I 2021-05-25 20:24:06,281]\u001b[0m Trial 198 finished with value: 1.1032557383383232 and parameters: {'min_data_in_leaf': 80, 'depth': 5, 'learning_rate': 0.06550125070387704, 'random_strength': 83, 'l2_leaf_reg': 7.8067576913576975}. Best is trial 152 with value: 1.0836613774733865.\u001b[0m\n"
          ],
          "name": "stderr"
        },
        {
          "output_type": "stream",
          "text": [
            "train.csv: shape = 100000 rows, 52 cols\n"
          ],
          "name": "stdout"
        },
        {
          "output_type": "stream",
          "text": [
            "Warning: less than 75% gpu memory available for training. Free: 9265.75 Total: 15109.75\n",
            "\u001b[32m[I 2021-05-25 20:24:13,011]\u001b[0m Trial 199 finished with value: 1.0937628032274382 and parameters: {'min_data_in_leaf': 48, 'depth': 5, 'learning_rate': 0.03715741624813227, 'random_strength': 52, 'l2_leaf_reg': 3.6429876663953307}. Best is trial 152 with value: 1.0836613774733865.\u001b[0m\n"
          ],
          "name": "stderr"
        },
        {
          "output_type": "stream",
          "text": [
            "Best trial:\n",
            "  Params: \n",
            "    min_data_in_leaf: 43\n",
            "    depth: 5\n",
            "    learning_rate: 0.07928546561861827\n",
            "    random_strength: 66\n",
            "    l2_leaf_reg: 2.9448952422509165\n"
          ],
          "name": "stdout"
        }
      ]
    },
    {
      "cell_type": "code",
      "metadata": {
        "colab": {
          "base_uri": "https://localhost:8080/",
          "height": 542
        },
        "id": "U-NSxfWGmxUR",
        "outputId": "168cf2a8-4e1d-447b-e0e9-c25682f44148"
      },
      "source": [
        "optuna.visualization.plot_param_importances(study)"
      ],
      "execution_count": 174,
      "outputs": [
        {
          "output_type": "display_data",
          "data": {
            "text/html": [
              "<html>\n",
              "<head><meta charset=\"utf-8\" /></head>\n",
              "<body>\n",
              "    <div>\n",
              "            <script src=\"https://cdnjs.cloudflare.com/ajax/libs/mathjax/2.7.5/MathJax.js?config=TeX-AMS-MML_SVG\"></script><script type=\"text/javascript\">if (window.MathJax) {MathJax.Hub.Config({SVG: {font: \"STIX-Web\"}});}</script>\n",
              "                <script type=\"text/javascript\">window.PlotlyConfig = {MathJaxConfig: 'local'};</script>\n",
              "        <script src=\"https://cdn.plot.ly/plotly-latest.min.js\"></script>    \n",
              "            <div id=\"c339e5b1-6cdd-420b-89db-7f62e2ec0e68\" class=\"plotly-graph-div\" style=\"height:525px; width:100%;\"></div>\n",
              "            <script type=\"text/javascript\">\n",
              "                \n",
              "                    window.PLOTLYENV=window.PLOTLYENV || {};\n",
              "                    \n",
              "                if (document.getElementById(\"c339e5b1-6cdd-420b-89db-7f62e2ec0e68\")) {\n",
              "                    Plotly.newPlot(\n",
              "                        'c339e5b1-6cdd-420b-89db-7f62e2ec0e68',\n",
              "                        [{\"cliponaxis\": false, \"hovertemplate\": [\"depth (IntUniformDistribution): 0.03713871537567316<extra></extra>\", \"l2_leaf_reg (LogUniformDistribution): 0.06370882062157215<extra></extra>\", \"random_strength (IntUniformDistribution): 0.09213198518330937<extra></extra>\", \"min_data_in_leaf (IntUniformDistribution): 0.2771356383769895<extra></extra>\", \"learning_rate (UniformDistribution): 0.5298848404424558<extra></extra>\"], \"marker\": {\"color\": [\"rgb(8,81,156)\", \"rgb(8,48,107)\", \"rgb(8,81,156)\", \"rgb(8,81,156)\", \"rgb(8,48,107)\"]}, \"orientation\": \"h\", \"text\": [\"0.03713871537567316\", \"0.06370882062157215\", \"0.09213198518330937\", \"0.2771356383769895\", \"0.5298848404424558\"], \"textposition\": \"outside\", \"texttemplate\": \"%{text:.2f}\", \"type\": \"bar\", \"x\": [0.03713871537567316, 0.06370882062157215, 0.09213198518330937, 0.2771356383769895, 0.5298848404424558], \"y\": [\"depth\", \"l2_leaf_reg\", \"random_strength\", \"min_data_in_leaf\", \"learning_rate\"]}],\n",
              "                        {\"showlegend\": false, \"template\": {\"data\": {\"bar\": [{\"error_x\": {\"color\": \"#2a3f5f\"}, \"error_y\": {\"color\": \"#2a3f5f\"}, \"marker\": {\"line\": {\"color\": \"#E5ECF6\", \"width\": 0.5}}, \"type\": \"bar\"}], \"barpolar\": [{\"marker\": {\"line\": {\"color\": \"#E5ECF6\", \"width\": 0.5}}, \"type\": \"barpolar\"}], \"carpet\": [{\"aaxis\": {\"endlinecolor\": \"#2a3f5f\", \"gridcolor\": \"white\", \"linecolor\": \"white\", \"minorgridcolor\": \"white\", \"startlinecolor\": \"#2a3f5f\"}, \"baxis\": {\"endlinecolor\": \"#2a3f5f\", \"gridcolor\": \"white\", \"linecolor\": \"white\", \"minorgridcolor\": \"white\", \"startlinecolor\": \"#2a3f5f\"}, \"type\": \"carpet\"}], \"choropleth\": [{\"colorbar\": {\"outlinewidth\": 0, \"ticks\": \"\"}, \"type\": \"choropleth\"}], \"contour\": [{\"colorbar\": {\"outlinewidth\": 0, \"ticks\": \"\"}, \"colorscale\": [[0.0, \"#0d0887\"], [0.1111111111111111, \"#46039f\"], [0.2222222222222222, \"#7201a8\"], [0.3333333333333333, \"#9c179e\"], [0.4444444444444444, \"#bd3786\"], [0.5555555555555556, \"#d8576b\"], [0.6666666666666666, \"#ed7953\"], [0.7777777777777778, \"#fb9f3a\"], [0.8888888888888888, \"#fdca26\"], [1.0, \"#f0f921\"]], \"type\": \"contour\"}], \"contourcarpet\": [{\"colorbar\": {\"outlinewidth\": 0, \"ticks\": \"\"}, \"type\": \"contourcarpet\"}], \"heatmap\": [{\"colorbar\": {\"outlinewidth\": 0, \"ticks\": \"\"}, \"colorscale\": [[0.0, \"#0d0887\"], [0.1111111111111111, \"#46039f\"], [0.2222222222222222, \"#7201a8\"], [0.3333333333333333, \"#9c179e\"], [0.4444444444444444, \"#bd3786\"], [0.5555555555555556, \"#d8576b\"], [0.6666666666666666, \"#ed7953\"], [0.7777777777777778, \"#fb9f3a\"], [0.8888888888888888, \"#fdca26\"], [1.0, \"#f0f921\"]], \"type\": \"heatmap\"}], \"heatmapgl\": [{\"colorbar\": {\"outlinewidth\": 0, \"ticks\": \"\"}, \"colorscale\": [[0.0, \"#0d0887\"], [0.1111111111111111, \"#46039f\"], [0.2222222222222222, \"#7201a8\"], [0.3333333333333333, \"#9c179e\"], [0.4444444444444444, \"#bd3786\"], [0.5555555555555556, \"#d8576b\"], [0.6666666666666666, \"#ed7953\"], [0.7777777777777778, \"#fb9f3a\"], [0.8888888888888888, \"#fdca26\"], [1.0, \"#f0f921\"]], \"type\": \"heatmapgl\"}], \"histogram\": [{\"marker\": {\"colorbar\": {\"outlinewidth\": 0, \"ticks\": \"\"}}, \"type\": \"histogram\"}], \"histogram2d\": [{\"colorbar\": {\"outlinewidth\": 0, \"ticks\": \"\"}, \"colorscale\": [[0.0, \"#0d0887\"], [0.1111111111111111, \"#46039f\"], [0.2222222222222222, \"#7201a8\"], [0.3333333333333333, \"#9c179e\"], [0.4444444444444444, \"#bd3786\"], [0.5555555555555556, \"#d8576b\"], [0.6666666666666666, \"#ed7953\"], [0.7777777777777778, \"#fb9f3a\"], [0.8888888888888888, \"#fdca26\"], [1.0, \"#f0f921\"]], \"type\": \"histogram2d\"}], \"histogram2dcontour\": [{\"colorbar\": {\"outlinewidth\": 0, \"ticks\": \"\"}, \"colorscale\": [[0.0, \"#0d0887\"], [0.1111111111111111, \"#46039f\"], [0.2222222222222222, \"#7201a8\"], [0.3333333333333333, \"#9c179e\"], [0.4444444444444444, \"#bd3786\"], [0.5555555555555556, \"#d8576b\"], [0.6666666666666666, \"#ed7953\"], [0.7777777777777778, \"#fb9f3a\"], [0.8888888888888888, \"#fdca26\"], [1.0, \"#f0f921\"]], \"type\": \"histogram2dcontour\"}], \"mesh3d\": [{\"colorbar\": {\"outlinewidth\": 0, \"ticks\": \"\"}, \"type\": \"mesh3d\"}], \"parcoords\": [{\"line\": {\"colorbar\": {\"outlinewidth\": 0, \"ticks\": \"\"}}, \"type\": \"parcoords\"}], \"pie\": [{\"automargin\": true, \"type\": \"pie\"}], \"scatter\": [{\"marker\": {\"colorbar\": {\"outlinewidth\": 0, \"ticks\": \"\"}}, \"type\": \"scatter\"}], \"scatter3d\": [{\"line\": {\"colorbar\": {\"outlinewidth\": 0, \"ticks\": \"\"}}, \"marker\": {\"colorbar\": {\"outlinewidth\": 0, \"ticks\": \"\"}}, \"type\": \"scatter3d\"}], \"scattercarpet\": [{\"marker\": {\"colorbar\": {\"outlinewidth\": 0, \"ticks\": \"\"}}, \"type\": \"scattercarpet\"}], \"scattergeo\": [{\"marker\": {\"colorbar\": {\"outlinewidth\": 0, \"ticks\": \"\"}}, \"type\": \"scattergeo\"}], \"scattergl\": [{\"marker\": {\"colorbar\": {\"outlinewidth\": 0, \"ticks\": \"\"}}, \"type\": \"scattergl\"}], \"scattermapbox\": [{\"marker\": {\"colorbar\": {\"outlinewidth\": 0, \"ticks\": \"\"}}, \"type\": \"scattermapbox\"}], \"scatterpolar\": [{\"marker\": {\"colorbar\": {\"outlinewidth\": 0, \"ticks\": \"\"}}, \"type\": \"scatterpolar\"}], \"scatterpolargl\": [{\"marker\": {\"colorbar\": {\"outlinewidth\": 0, \"ticks\": \"\"}}, \"type\": \"scatterpolargl\"}], \"scatterternary\": [{\"marker\": {\"colorbar\": {\"outlinewidth\": 0, \"ticks\": \"\"}}, \"type\": \"scatterternary\"}], \"surface\": [{\"colorbar\": {\"outlinewidth\": 0, \"ticks\": \"\"}, \"colorscale\": [[0.0, \"#0d0887\"], [0.1111111111111111, \"#46039f\"], [0.2222222222222222, \"#7201a8\"], [0.3333333333333333, \"#9c179e\"], [0.4444444444444444, \"#bd3786\"], [0.5555555555555556, \"#d8576b\"], [0.6666666666666666, \"#ed7953\"], [0.7777777777777778, \"#fb9f3a\"], [0.8888888888888888, \"#fdca26\"], [1.0, \"#f0f921\"]], \"type\": \"surface\"}], \"table\": [{\"cells\": {\"fill\": {\"color\": \"#EBF0F8\"}, \"line\": {\"color\": \"white\"}}, \"header\": {\"fill\": {\"color\": \"#C8D4E3\"}, \"line\": {\"color\": \"white\"}}, \"type\": \"table\"}]}, \"layout\": {\"annotationdefaults\": {\"arrowcolor\": \"#2a3f5f\", \"arrowhead\": 0, \"arrowwidth\": 1}, \"coloraxis\": {\"colorbar\": {\"outlinewidth\": 0, \"ticks\": \"\"}}, \"colorscale\": {\"diverging\": [[0, \"#8e0152\"], [0.1, \"#c51b7d\"], [0.2, \"#de77ae\"], [0.3, \"#f1b6da\"], [0.4, \"#fde0ef\"], [0.5, \"#f7f7f7\"], [0.6, \"#e6f5d0\"], [0.7, \"#b8e186\"], [0.8, \"#7fbc41\"], [0.9, \"#4d9221\"], [1, \"#276419\"]], \"sequential\": [[0.0, \"#0d0887\"], [0.1111111111111111, \"#46039f\"], [0.2222222222222222, \"#7201a8\"], [0.3333333333333333, \"#9c179e\"], [0.4444444444444444, \"#bd3786\"], [0.5555555555555556, \"#d8576b\"], [0.6666666666666666, \"#ed7953\"], [0.7777777777777778, \"#fb9f3a\"], [0.8888888888888888, \"#fdca26\"], [1.0, \"#f0f921\"]], \"sequentialminus\": [[0.0, \"#0d0887\"], [0.1111111111111111, \"#46039f\"], [0.2222222222222222, \"#7201a8\"], [0.3333333333333333, \"#9c179e\"], [0.4444444444444444, \"#bd3786\"], [0.5555555555555556, \"#d8576b\"], [0.6666666666666666, \"#ed7953\"], [0.7777777777777778, \"#fb9f3a\"], [0.8888888888888888, \"#fdca26\"], [1.0, \"#f0f921\"]]}, \"colorway\": [\"#636efa\", \"#EF553B\", \"#00cc96\", \"#ab63fa\", \"#FFA15A\", \"#19d3f3\", \"#FF6692\", \"#B6E880\", \"#FF97FF\", \"#FECB52\"], \"font\": {\"color\": \"#2a3f5f\"}, \"geo\": {\"bgcolor\": \"white\", \"lakecolor\": \"white\", \"landcolor\": \"#E5ECF6\", \"showlakes\": true, \"showland\": true, \"subunitcolor\": \"white\"}, \"hoverlabel\": {\"align\": \"left\"}, \"hovermode\": \"closest\", \"mapbox\": {\"style\": \"light\"}, \"paper_bgcolor\": \"white\", \"plot_bgcolor\": \"#E5ECF6\", \"polar\": {\"angularaxis\": {\"gridcolor\": \"white\", \"linecolor\": \"white\", \"ticks\": \"\"}, \"bgcolor\": \"#E5ECF6\", \"radialaxis\": {\"gridcolor\": \"white\", \"linecolor\": \"white\", \"ticks\": \"\"}}, \"scene\": {\"xaxis\": {\"backgroundcolor\": \"#E5ECF6\", \"gridcolor\": \"white\", \"gridwidth\": 2, \"linecolor\": \"white\", \"showbackground\": true, \"ticks\": \"\", \"zerolinecolor\": \"white\"}, \"yaxis\": {\"backgroundcolor\": \"#E5ECF6\", \"gridcolor\": \"white\", \"gridwidth\": 2, \"linecolor\": \"white\", \"showbackground\": true, \"ticks\": \"\", \"zerolinecolor\": \"white\"}, \"zaxis\": {\"backgroundcolor\": \"#E5ECF6\", \"gridcolor\": \"white\", \"gridwidth\": 2, \"linecolor\": \"white\", \"showbackground\": true, \"ticks\": \"\", \"zerolinecolor\": \"white\"}}, \"shapedefaults\": {\"line\": {\"color\": \"#2a3f5f\"}}, \"ternary\": {\"aaxis\": {\"gridcolor\": \"white\", \"linecolor\": \"white\", \"ticks\": \"\"}, \"baxis\": {\"gridcolor\": \"white\", \"linecolor\": \"white\", \"ticks\": \"\"}, \"bgcolor\": \"#E5ECF6\", \"caxis\": {\"gridcolor\": \"white\", \"linecolor\": \"white\", \"ticks\": \"\"}}, \"title\": {\"x\": 0.05}, \"xaxis\": {\"automargin\": true, \"gridcolor\": \"white\", \"linecolor\": \"white\", \"ticks\": \"\", \"title\": {\"standoff\": 15}, \"zerolinecolor\": \"white\", \"zerolinewidth\": 2}, \"yaxis\": {\"automargin\": true, \"gridcolor\": \"white\", \"linecolor\": \"white\", \"ticks\": \"\", \"title\": {\"standoff\": 15}, \"zerolinecolor\": \"white\", \"zerolinewidth\": 2}}}, \"title\": {\"text\": \"Hyperparameter Importances\"}, \"xaxis\": {\"title\": {\"text\": \"Importance for Objective Value\"}}, \"yaxis\": {\"title\": {\"text\": \"Hyperparameter\"}}},\n",
              "                        {\"responsive\": true}\n",
              "                    ).then(function(){\n",
              "                            \n",
              "var gd = document.getElementById('c339e5b1-6cdd-420b-89db-7f62e2ec0e68');\n",
              "var x = new MutationObserver(function (mutations, observer) {{\n",
              "        var display = window.getComputedStyle(gd).display;\n",
              "        if (!display || display === 'none') {{\n",
              "            console.log([gd, 'removed!']);\n",
              "            Plotly.purge(gd);\n",
              "            observer.disconnect();\n",
              "        }}\n",
              "}});\n",
              "\n",
              "// Listen for the removal of the full notebook cells\n",
              "var notebookContainer = gd.closest('#notebook-container');\n",
              "if (notebookContainer) {{\n",
              "    x.observe(notebookContainer, {childList: true});\n",
              "}}\n",
              "\n",
              "// Listen for the clearing of the current output cell\n",
              "var outputEl = gd.closest('.output');\n",
              "if (outputEl) {{\n",
              "    x.observe(outputEl, {childList: true});\n",
              "}}\n",
              "\n",
              "                        })\n",
              "                };\n",
              "                \n",
              "            </script>\n",
              "        </div>\n",
              "</body>\n",
              "</html>"
            ]
          },
          "metadata": {
            "tags": []
          }
        }
      ]
    },
    {
      "cell_type": "code",
      "metadata": {
        "id": "JrFR5BP5PWKg"
      },
      "source": [
        "data = get_input(\"train.csv\")\n",
        "data.drop(columns='id', inplace=True)\n",
        "mapper = {'Class_1': 0, 'Class_2': 1, 'Class_3': 2, 'Class_4': 3}\n",
        "data['target'] = data['target'].map(mapper)\n",
        "target = data['target']\n",
        "data = data.drop(columns=['target'])\n",
        "\n",
        "cb_params = {\n",
        "        \"loss_function\": \"MultiClass\",\n",
        "        \"eval_metric\": \"MultiClass\",\n",
        "        \"task_type\": \"GPU\",\n",
        "        'min_data_in_leaf': 25,\n",
        "        'depth': 3,\n",
        "        'learning_rate': 0.09,\n",
        "        'random_strength' :10,\n",
        "        \"l2_leaf_reg\": 100,                       \n",
        "        'grow_policy': \"SymmetricTree\",\n",
        "        #\"thread_count\": 10,\n",
        "        \"random_seed\": 27,\n",
        "    }\n",
        "cv_result = cb.cv(\n",
        "        pool = cb.Pool(data, target),\n",
        "        params = cb_params,\n",
        "        plot=True,\n",
        "        shuffle = True,\n",
        "        stratified = True,\n",
        "        seed = 42,\n",
        "        iterations = 10000,\n",
        "        early_stopping_rounds = 100,\n",
        "        fold_count = 5,\n",
        "        as_pandas = True,\n",
        "        verbose_eval = 10\n",
        "        )"
      ],
      "execution_count": null,
      "outputs": []
    },
    {
      "cell_type": "code",
      "metadata": {
        "colab": {
          "base_uri": "https://localhost:8080/"
        },
        "id": "zgLfhw0WxEPH",
        "outputId": "2f76cbc7-2f1f-4dd6-d233-4a81ffdf8d7b"
      },
      "source": [
        "cb_params = {\n",
        "    \"n_estimators\": 1700,\n",
        "    \"loss_function\": \"MultiClass\",\n",
        "    \"eval_metric\": \"MultiClass\",\n",
        "    \"task_type\": \"GPU\",\n",
        "    'min_data_in_leaf': 25,\n",
        "    'depth': 3,\n",
        "    'learning_rate': 0.09,\n",
        "    'random_strength' : 10,\n",
        "    \"l2_leaf_reg\": 100,                       \n",
        "    'grow_policy': \"SymmetricTree\",\n",
        "    \"random_seed\": 27,\n",
        "}\n",
        "\n",
        "cv = StratifiedKFold(n_splits=10, random_state=435, shuffle=True)\n",
        "\n",
        "cb_estimators, cb_oof = catboost_cv_fit(\n",
        "    cb_params, data, target, cv, #categorical=categorical_feature_names\n",
        ")"
      ],
      "execution_count": 56,
      "outputs": [
        {
          "output_type": "stream",
          "text": [
            "Tue May 25 22:15:34 2021, Cross-Validation, 100000 rows, 50 cols\n"
          ],
          "name": "stdout"
        },
        {
          "output_type": "stream",
          "text": [
            "Warning: less than 75% gpu memory available for training. Free: 7809.75 Total: 15109.75\n"
          ],
          "name": "stderr"
        },
        {
          "output_type": "stream",
          "text": [
            "0:\tlearn: 1.3358071\ttotal: 6.86ms\tremaining: 11.7s\n",
            "10:\tlearn: 1.1503962\ttotal: 59.3ms\tremaining: 9.11s\n",
            "20:\tlearn: 1.1186152\ttotal: 115ms\tremaining: 9.2s\n",
            "30:\tlearn: 1.1109516\ttotal: 168ms\tremaining: 9.05s\n",
            "40:\tlearn: 1.1084460\ttotal: 218ms\tremaining: 8.82s\n",
            "50:\tlearn: 1.1068249\ttotal: 279ms\tremaining: 9.03s\n",
            "60:\tlearn: 1.1054835\ttotal: 326ms\tremaining: 8.77s\n",
            "70:\tlearn: 1.1044382\ttotal: 378ms\tremaining: 8.66s\n",
            "80:\tlearn: 1.1031675\ttotal: 430ms\tremaining: 8.59s\n",
            "90:\tlearn: 1.1020858\ttotal: 478ms\tremaining: 8.46s\n",
            "100:\tlearn: 1.1010773\ttotal: 527ms\tremaining: 8.34s\n",
            "110:\tlearn: 1.1001637\ttotal: 583ms\tremaining: 8.35s\n",
            "120:\tlearn: 1.0994507\ttotal: 637ms\tremaining: 8.31s\n",
            "130:\tlearn: 1.0986476\ttotal: 683ms\tremaining: 8.18s\n",
            "140:\tlearn: 1.0978980\ttotal: 729ms\tremaining: 8.06s\n",
            "150:\tlearn: 1.0972795\ttotal: 775ms\tremaining: 7.95s\n",
            "160:\tlearn: 1.0966055\ttotal: 820ms\tremaining: 7.84s\n",
            "170:\tlearn: 1.0959941\ttotal: 870ms\tremaining: 7.78s\n",
            "180:\tlearn: 1.0954622\ttotal: 921ms\tremaining: 7.73s\n",
            "190:\tlearn: 1.0949210\ttotal: 965ms\tremaining: 7.63s\n",
            "200:\tlearn: 1.0945168\ttotal: 1.01s\tremaining: 7.53s\n",
            "210:\tlearn: 1.0940519\ttotal: 1.06s\tremaining: 7.45s\n",
            "220:\tlearn: 1.0936610\ttotal: 1.1s\tremaining: 7.39s\n",
            "230:\tlearn: 1.0932983\ttotal: 1.15s\tremaining: 7.3s\n",
            "240:\tlearn: 1.0928977\ttotal: 1.19s\tremaining: 7.23s\n",
            "250:\tlearn: 1.0925471\ttotal: 1.24s\tremaining: 7.16s\n",
            "260:\tlearn: 1.0921733\ttotal: 1.31s\tremaining: 7.24s\n",
            "270:\tlearn: 1.0917673\ttotal: 1.38s\tremaining: 7.25s\n",
            "280:\tlearn: 1.0914579\ttotal: 1.42s\tremaining: 7.17s\n",
            "290:\tlearn: 1.0911120\ttotal: 1.46s\tremaining: 7.09s\n",
            "300:\tlearn: 1.0908230\ttotal: 1.51s\tremaining: 7.01s\n",
            "310:\tlearn: 1.0905789\ttotal: 1.55s\tremaining: 6.95s\n",
            "320:\tlearn: 1.0902893\ttotal: 1.61s\tremaining: 6.92s\n",
            "330:\tlearn: 1.0900234\ttotal: 1.66s\tremaining: 6.85s\n",
            "340:\tlearn: 1.0897760\ttotal: 1.7s\tremaining: 6.77s\n",
            "350:\tlearn: 1.0895559\ttotal: 1.74s\tremaining: 6.69s\n",
            "360:\tlearn: 1.0893359\ttotal: 1.79s\tremaining: 6.64s\n",
            "370:\tlearn: 1.0891326\ttotal: 1.84s\tremaining: 6.6s\n",
            "380:\tlearn: 1.0889207\ttotal: 1.89s\tremaining: 6.53s\n",
            "390:\tlearn: 1.0887640\ttotal: 1.93s\tremaining: 6.46s\n",
            "400:\tlearn: 1.0886095\ttotal: 1.97s\tremaining: 6.39s\n",
            "410:\tlearn: 1.0884100\ttotal: 2.02s\tremaining: 6.34s\n",
            "420:\tlearn: 1.0882131\ttotal: 2.06s\tremaining: 6.27s\n",
            "430:\tlearn: 1.0880571\ttotal: 2.11s\tremaining: 6.2s\n",
            "440:\tlearn: 1.0878675\ttotal: 2.16s\tremaining: 6.17s\n",
            "450:\tlearn: 1.0876626\ttotal: 2.21s\tremaining: 6.13s\n",
            "460:\tlearn: 1.0874873\ttotal: 2.26s\tremaining: 6.07s\n",
            "470:\tlearn: 1.0873057\ttotal: 2.31s\tremaining: 6.02s\n",
            "480:\tlearn: 1.0871607\ttotal: 2.35s\tremaining: 5.96s\n",
            "490:\tlearn: 1.0870411\ttotal: 2.4s\tremaining: 5.9s\n",
            "500:\tlearn: 1.0869035\ttotal: 2.44s\tremaining: 5.84s\n",
            "510:\tlearn: 1.0867321\ttotal: 2.48s\tremaining: 5.78s\n",
            "520:\tlearn: 1.0865636\ttotal: 2.53s\tremaining: 5.72s\n",
            "530:\tlearn: 1.0864391\ttotal: 2.58s\tremaining: 5.68s\n",
            "540:\tlearn: 1.0862924\ttotal: 2.62s\tremaining: 5.62s\n",
            "550:\tlearn: 1.0861576\ttotal: 2.66s\tremaining: 5.56s\n",
            "560:\tlearn: 1.0860301\ttotal: 2.71s\tremaining: 5.5s\n",
            "570:\tlearn: 1.0859102\ttotal: 2.75s\tremaining: 5.44s\n",
            "580:\tlearn: 1.0857430\ttotal: 2.8s\tremaining: 5.39s\n",
            "590:\tlearn: 1.0856080\ttotal: 2.84s\tremaining: 5.33s\n",
            "600:\tlearn: 1.0854863\ttotal: 2.88s\tremaining: 5.27s\n",
            "610:\tlearn: 1.0853793\ttotal: 2.93s\tremaining: 5.23s\n",
            "620:\tlearn: 1.0852581\ttotal: 2.98s\tremaining: 5.17s\n",
            "630:\tlearn: 1.0851482\ttotal: 3.02s\tremaining: 5.11s\n",
            "640:\tlearn: 1.0850119\ttotal: 3.06s\tremaining: 5.06s\n",
            "650:\tlearn: 1.0848934\ttotal: 3.1s\tremaining: 5s\n",
            "660:\tlearn: 1.0847488\ttotal: 3.15s\tremaining: 4.95s\n",
            "670:\tlearn: 1.0846549\ttotal: 3.19s\tremaining: 4.89s\n",
            "680:\tlearn: 1.0845465\ttotal: 3.24s\tremaining: 4.84s\n",
            "690:\tlearn: 1.0844135\ttotal: 3.28s\tremaining: 4.79s\n",
            "700:\tlearn: 1.0842867\ttotal: 3.32s\tremaining: 4.73s\n",
            "710:\tlearn: 1.0841472\ttotal: 3.38s\tremaining: 4.7s\n",
            "720:\tlearn: 1.0840598\ttotal: 3.42s\tremaining: 4.65s\n",
            "730:\tlearn: 1.0839602\ttotal: 3.47s\tremaining: 4.6s\n",
            "740:\tlearn: 1.0838791\ttotal: 3.51s\tremaining: 4.54s\n",
            "750:\tlearn: 1.0837513\ttotal: 3.56s\tremaining: 4.5s\n",
            "760:\tlearn: 1.0836613\ttotal: 3.61s\tremaining: 4.45s\n",
            "770:\tlearn: 1.0835798\ttotal: 3.65s\tremaining: 4.4s\n",
            "780:\tlearn: 1.0834740\ttotal: 3.69s\tremaining: 4.35s\n",
            "790:\tlearn: 1.0833622\ttotal: 3.74s\tremaining: 4.29s\n",
            "800:\tlearn: 1.0832429\ttotal: 3.78s\tremaining: 4.24s\n",
            "810:\tlearn: 1.0831102\ttotal: 3.83s\tremaining: 4.2s\n",
            "820:\tlearn: 1.0830069\ttotal: 3.88s\tremaining: 4.15s\n",
            "830:\tlearn: 1.0829064\ttotal: 3.92s\tremaining: 4.1s\n",
            "840:\tlearn: 1.0827529\ttotal: 3.96s\tremaining: 4.04s\n",
            "850:\tlearn: 1.0826278\ttotal: 4.01s\tremaining: 4s\n",
            "860:\tlearn: 1.0825468\ttotal: 4.05s\tremaining: 3.95s\n",
            "870:\tlearn: 1.0824440\ttotal: 4.09s\tremaining: 3.9s\n",
            "880:\tlearn: 1.0823666\ttotal: 4.13s\tremaining: 3.84s\n",
            "890:\tlearn: 1.0822457\ttotal: 4.18s\tremaining: 3.79s\n",
            "900:\tlearn: 1.0821584\ttotal: 4.22s\tremaining: 3.74s\n",
            "910:\tlearn: 1.0820562\ttotal: 4.27s\tremaining: 3.69s\n",
            "920:\tlearn: 1.0819512\ttotal: 4.31s\tremaining: 3.65s\n",
            "930:\tlearn: 1.0818441\ttotal: 4.36s\tremaining: 3.6s\n",
            "940:\tlearn: 1.0817636\ttotal: 4.4s\tremaining: 3.55s\n",
            "950:\tlearn: 1.0816524\ttotal: 4.44s\tremaining: 3.5s\n",
            "960:\tlearn: 1.0815600\ttotal: 4.48s\tremaining: 3.45s\n",
            "970:\tlearn: 1.0814872\ttotal: 4.52s\tremaining: 3.4s\n",
            "980:\tlearn: 1.0814116\ttotal: 4.57s\tremaining: 3.35s\n",
            "990:\tlearn: 1.0813060\ttotal: 4.62s\tremaining: 3.31s\n",
            "1000:\tlearn: 1.0812182\ttotal: 4.67s\tremaining: 3.26s\n",
            "1010:\tlearn: 1.0811350\ttotal: 4.72s\tremaining: 3.21s\n",
            "1020:\tlearn: 1.0810606\ttotal: 4.76s\tremaining: 3.17s\n",
            "1030:\tlearn: 1.0809534\ttotal: 4.8s\tremaining: 3.12s\n",
            "1040:\tlearn: 1.0808503\ttotal: 4.84s\tremaining: 3.07s\n",
            "1050:\tlearn: 1.0807613\ttotal: 4.88s\tremaining: 3.02s\n",
            "1060:\tlearn: 1.0807146\ttotal: 4.93s\tremaining: 2.97s\n",
            "1070:\tlearn: 1.0806426\ttotal: 4.97s\tremaining: 2.92s\n",
            "1080:\tlearn: 1.0805394\ttotal: 5.01s\tremaining: 2.87s\n",
            "1090:\tlearn: 1.0804635\ttotal: 5.05s\tremaining: 2.82s\n",
            "1100:\tlearn: 1.0803897\ttotal: 5.09s\tremaining: 2.77s\n",
            "1110:\tlearn: 1.0803218\ttotal: 5.14s\tremaining: 2.73s\n",
            "1120:\tlearn: 1.0802423\ttotal: 5.18s\tremaining: 2.68s\n",
            "1130:\tlearn: 1.0801756\ttotal: 5.23s\tremaining: 2.63s\n",
            "1140:\tlearn: 1.0801162\ttotal: 5.27s\tremaining: 2.58s\n",
            "1150:\tlearn: 1.0800582\ttotal: 5.31s\tremaining: 2.53s\n",
            "1160:\tlearn: 1.0799758\ttotal: 5.35s\tremaining: 2.48s\n",
            "1170:\tlearn: 1.0798941\ttotal: 5.39s\tremaining: 2.44s\n",
            "1180:\tlearn: 1.0798335\ttotal: 5.44s\tremaining: 2.39s\n",
            "1190:\tlearn: 1.0797343\ttotal: 5.48s\tremaining: 2.34s\n",
            "1200:\tlearn: 1.0796341\ttotal: 5.52s\tremaining: 2.29s\n",
            "1210:\tlearn: 1.0795812\ttotal: 5.58s\tremaining: 2.25s\n",
            "1220:\tlearn: 1.0795011\ttotal: 5.62s\tremaining: 2.2s\n",
            "1230:\tlearn: 1.0794230\ttotal: 5.66s\tremaining: 2.16s\n",
            "1240:\tlearn: 1.0793458\ttotal: 5.7s\tremaining: 2.11s\n",
            "1250:\tlearn: 1.0792430\ttotal: 5.74s\tremaining: 2.06s\n",
            "1260:\tlearn: 1.0791651\ttotal: 5.79s\tremaining: 2.02s\n",
            "1270:\tlearn: 1.0790973\ttotal: 5.83s\tremaining: 1.97s\n",
            "1280:\tlearn: 1.0789954\ttotal: 5.88s\tremaining: 1.92s\n",
            "1290:\tlearn: 1.0789327\ttotal: 5.92s\tremaining: 1.88s\n",
            "1300:\tlearn: 1.0788326\ttotal: 5.96s\tremaining: 1.83s\n",
            "1310:\tlearn: 1.0787710\ttotal: 6.01s\tremaining: 1.78s\n",
            "1320:\tlearn: 1.0786938\ttotal: 6.06s\tremaining: 1.74s\n",
            "1330:\tlearn: 1.0786064\ttotal: 6.11s\tremaining: 1.69s\n",
            "1340:\tlearn: 1.0785181\ttotal: 6.16s\tremaining: 1.65s\n",
            "1350:\tlearn: 1.0784393\ttotal: 6.2s\tremaining: 1.6s\n",
            "1360:\tlearn: 1.0783714\ttotal: 6.25s\tremaining: 1.56s\n",
            "1370:\tlearn: 1.0783108\ttotal: 6.29s\tremaining: 1.51s\n",
            "1380:\tlearn: 1.0782482\ttotal: 6.34s\tremaining: 1.46s\n",
            "1390:\tlearn: 1.0781551\ttotal: 6.38s\tremaining: 1.42s\n",
            "1400:\tlearn: 1.0780778\ttotal: 6.42s\tremaining: 1.37s\n",
            "1410:\tlearn: 1.0780089\ttotal: 6.47s\tremaining: 1.32s\n",
            "1420:\tlearn: 1.0779295\ttotal: 6.51s\tremaining: 1.28s\n",
            "1430:\tlearn: 1.0778685\ttotal: 6.56s\tremaining: 1.23s\n",
            "1440:\tlearn: 1.0778069\ttotal: 6.6s\tremaining: 1.19s\n",
            "1450:\tlearn: 1.0776977\ttotal: 6.64s\tremaining: 1.14s\n",
            "1460:\tlearn: 1.0776253\ttotal: 6.69s\tremaining: 1.09s\n",
            "1470:\tlearn: 1.0775711\ttotal: 6.73s\tremaining: 1.05s\n",
            "1480:\tlearn: 1.0775233\ttotal: 6.77s\tremaining: 1s\n",
            "1490:\tlearn: 1.0774622\ttotal: 6.82s\tremaining: 956ms\n",
            "1500:\tlearn: 1.0773749\ttotal: 6.86s\tremaining: 909ms\n",
            "1510:\tlearn: 1.0773100\ttotal: 6.91s\tremaining: 864ms\n",
            "1520:\tlearn: 1.0772285\ttotal: 6.95s\tremaining: 818ms\n",
            "1530:\tlearn: 1.0771464\ttotal: 6.99s\tremaining: 771ms\n",
            "1540:\tlearn: 1.0770827\ttotal: 7.03s\tremaining: 725ms\n",
            "1550:\tlearn: 1.0770261\ttotal: 7.07s\tremaining: 679ms\n",
            "1560:\tlearn: 1.0769515\ttotal: 7.12s\tremaining: 634ms\n",
            "1570:\tlearn: 1.0768695\ttotal: 7.16s\tremaining: 588ms\n",
            "1580:\tlearn: 1.0768120\ttotal: 7.2s\tremaining: 542ms\n",
            "1590:\tlearn: 1.0767450\ttotal: 7.24s\tremaining: 496ms\n",
            "1600:\tlearn: 1.0766722\ttotal: 7.29s\tremaining: 451ms\n",
            "1610:\tlearn: 1.0765954\ttotal: 7.33s\tremaining: 405ms\n",
            "1620:\tlearn: 1.0764995\ttotal: 7.37s\tremaining: 359ms\n",
            "1630:\tlearn: 1.0764166\ttotal: 7.41s\tremaining: 314ms\n",
            "1640:\tlearn: 1.0763430\ttotal: 7.45s\tremaining: 268ms\n",
            "1650:\tlearn: 1.0762810\ttotal: 7.5s\tremaining: 222ms\n",
            "1660:\tlearn: 1.0762258\ttotal: 7.54s\tremaining: 177ms\n",
            "1670:\tlearn: 1.0761618\ttotal: 7.59s\tremaining: 132ms\n",
            "1680:\tlearn: 1.0761100\ttotal: 7.63s\tremaining: 86.3ms\n",
            "1690:\tlearn: 1.0760542\ttotal: 7.67s\tremaining: 40.8ms\n",
            "1699:\tlearn: 1.0759954\ttotal: 7.71s\tremaining: 0us\n",
            "Fold 1, Valid score = 1.09345\n"
          ],
          "name": "stdout"
        },
        {
          "output_type": "stream",
          "text": [
            "Warning: less than 75% gpu memory available for training. Free: 7809.75 Total: 15109.75\n"
          ],
          "name": "stderr"
        },
        {
          "output_type": "stream",
          "text": [
            "0:\tlearn: 1.3358464\ttotal: 7.98ms\tremaining: 13.6s\n",
            "10:\tlearn: 1.1505475\ttotal: 45.3ms\tremaining: 6.96s\n",
            "20:\tlearn: 1.1189998\ttotal: 81.4ms\tremaining: 6.5s\n",
            "30:\tlearn: 1.1114351\ttotal: 121ms\tremaining: 6.54s\n",
            "40:\tlearn: 1.1090578\ttotal: 168ms\tremaining: 6.81s\n",
            "50:\tlearn: 1.1070338\ttotal: 205ms\tremaining: 6.63s\n",
            "60:\tlearn: 1.1061092\ttotal: 237ms\tremaining: 6.37s\n",
            "70:\tlearn: 1.1050819\ttotal: 279ms\tremaining: 6.39s\n",
            "80:\tlearn: 1.1038713\ttotal: 315ms\tremaining: 6.3s\n",
            "90:\tlearn: 1.1027502\ttotal: 351ms\tremaining: 6.2s\n",
            "100:\tlearn: 1.1016620\ttotal: 387ms\tremaining: 6.12s\n",
            "110:\tlearn: 1.1009668\ttotal: 435ms\tremaining: 6.22s\n",
            "120:\tlearn: 1.1001403\ttotal: 468ms\tremaining: 6.11s\n",
            "130:\tlearn: 1.0992170\ttotal: 506ms\tremaining: 6.06s\n",
            "140:\tlearn: 1.0986326\ttotal: 552ms\tremaining: 6.1s\n",
            "150:\tlearn: 1.0979552\ttotal: 589ms\tremaining: 6.04s\n",
            "160:\tlearn: 1.0972758\ttotal: 622ms\tremaining: 5.95s\n",
            "170:\tlearn: 1.0967531\ttotal: 659ms\tremaining: 5.89s\n",
            "180:\tlearn: 1.0962163\ttotal: 693ms\tremaining: 5.81s\n",
            "190:\tlearn: 1.0957916\ttotal: 726ms\tremaining: 5.73s\n",
            "200:\tlearn: 1.0953814\ttotal: 761ms\tremaining: 5.67s\n",
            "210:\tlearn: 1.0949671\ttotal: 796ms\tremaining: 5.62s\n",
            "220:\tlearn: 1.0945154\ttotal: 833ms\tremaining: 5.58s\n",
            "230:\tlearn: 1.0942018\ttotal: 871ms\tremaining: 5.54s\n",
            "240:\tlearn: 1.0937532\ttotal: 905ms\tremaining: 5.48s\n",
            "250:\tlearn: 1.0933829\ttotal: 939ms\tremaining: 5.42s\n",
            "260:\tlearn: 1.0931404\ttotal: 973ms\tremaining: 5.36s\n",
            "270:\tlearn: 1.0928385\ttotal: 1.02s\tremaining: 5.37s\n",
            "280:\tlearn: 1.0924559\ttotal: 1.05s\tremaining: 5.32s\n",
            "290:\tlearn: 1.0921957\ttotal: 1.09s\tremaining: 5.28s\n",
            "300:\tlearn: 1.0919181\ttotal: 1.13s\tremaining: 5.23s\n",
            "310:\tlearn: 1.0915997\ttotal: 1.16s\tremaining: 5.17s\n",
            "320:\tlearn: 1.0913824\ttotal: 1.19s\tremaining: 5.12s\n",
            "330:\tlearn: 1.0911202\ttotal: 1.22s\tremaining: 5.06s\n",
            "340:\tlearn: 1.0909564\ttotal: 1.26s\tremaining: 5.01s\n",
            "350:\tlearn: 1.0906807\ttotal: 1.29s\tremaining: 4.97s\n",
            "360:\tlearn: 1.0904595\ttotal: 1.33s\tremaining: 4.92s\n",
            "370:\tlearn: 1.0902536\ttotal: 1.36s\tremaining: 4.88s\n",
            "380:\tlearn: 1.0899819\ttotal: 1.39s\tremaining: 4.83s\n",
            "390:\tlearn: 1.0897741\ttotal: 1.44s\tremaining: 4.81s\n",
            "400:\tlearn: 1.0895855\ttotal: 1.47s\tremaining: 4.77s\n",
            "410:\tlearn: 1.0893268\ttotal: 1.51s\tremaining: 4.73s\n",
            "420:\tlearn: 1.0891234\ttotal: 1.55s\tremaining: 4.71s\n",
            "430:\tlearn: 1.0889478\ttotal: 1.58s\tremaining: 4.66s\n",
            "440:\tlearn: 1.0888123\ttotal: 1.62s\tremaining: 4.62s\n",
            "450:\tlearn: 1.0886364\ttotal: 1.65s\tremaining: 4.57s\n",
            "460:\tlearn: 1.0884607\ttotal: 1.69s\tremaining: 4.53s\n",
            "470:\tlearn: 1.0882863\ttotal: 1.72s\tremaining: 4.5s\n",
            "480:\tlearn: 1.0881468\ttotal: 1.76s\tremaining: 4.47s\n",
            "490:\tlearn: 1.0879246\ttotal: 1.8s\tremaining: 4.43s\n",
            "500:\tlearn: 1.0877267\ttotal: 1.83s\tremaining: 4.39s\n",
            "510:\tlearn: 1.0875573\ttotal: 1.87s\tremaining: 4.35s\n",
            "520:\tlearn: 1.0873518\ttotal: 1.91s\tremaining: 4.31s\n",
            "530:\tlearn: 1.0872023\ttotal: 1.94s\tremaining: 4.28s\n",
            "540:\tlearn: 1.0870455\ttotal: 1.98s\tremaining: 4.25s\n",
            "550:\tlearn: 1.0869364\ttotal: 2.02s\tremaining: 4.21s\n",
            "560:\tlearn: 1.0868095\ttotal: 2.05s\tremaining: 4.17s\n",
            "570:\tlearn: 1.0866546\ttotal: 2.09s\tremaining: 4.13s\n",
            "580:\tlearn: 1.0865201\ttotal: 2.13s\tremaining: 4.09s\n",
            "590:\tlearn: 1.0863898\ttotal: 2.17s\tremaining: 4.06s\n",
            "600:\tlearn: 1.0862467\ttotal: 2.2s\tremaining: 4.02s\n",
            "610:\tlearn: 1.0860683\ttotal: 2.24s\tremaining: 3.99s\n",
            "620:\tlearn: 1.0859807\ttotal: 2.28s\tremaining: 3.95s\n",
            "630:\tlearn: 1.0858502\ttotal: 2.31s\tremaining: 3.92s\n",
            "640:\tlearn: 1.0856946\ttotal: 2.35s\tremaining: 3.88s\n",
            "650:\tlearn: 1.0855476\ttotal: 2.39s\tremaining: 3.85s\n",
            "660:\tlearn: 1.0854253\ttotal: 2.43s\tremaining: 3.82s\n",
            "670:\tlearn: 1.0852898\ttotal: 2.47s\tremaining: 3.79s\n",
            "680:\tlearn: 1.0851183\ttotal: 2.51s\tremaining: 3.76s\n",
            "690:\tlearn: 1.0849940\ttotal: 2.54s\tremaining: 3.72s\n",
            "700:\tlearn: 1.0848802\ttotal: 2.58s\tremaining: 3.68s\n",
            "710:\tlearn: 1.0847311\ttotal: 2.62s\tremaining: 3.65s\n",
            "720:\tlearn: 1.0846323\ttotal: 2.66s\tremaining: 3.61s\n",
            "730:\tlearn: 1.0845399\ttotal: 2.69s\tremaining: 3.57s\n",
            "740:\tlearn: 1.0844357\ttotal: 2.73s\tremaining: 3.53s\n",
            "750:\tlearn: 1.0843451\ttotal: 2.77s\tremaining: 3.5s\n",
            "760:\tlearn: 1.0842679\ttotal: 2.8s\tremaining: 3.46s\n",
            "770:\tlearn: 1.0841772\ttotal: 2.84s\tremaining: 3.42s\n",
            "780:\tlearn: 1.0841021\ttotal: 2.88s\tremaining: 3.39s\n",
            "790:\tlearn: 1.0840086\ttotal: 2.91s\tremaining: 3.35s\n",
            "800:\tlearn: 1.0839227\ttotal: 2.95s\tremaining: 3.31s\n",
            "810:\tlearn: 1.0838269\ttotal: 3s\tremaining: 3.28s\n",
            "820:\tlearn: 1.0837260\ttotal: 3.03s\tremaining: 3.25s\n",
            "830:\tlearn: 1.0836385\ttotal: 3.07s\tremaining: 3.21s\n",
            "840:\tlearn: 1.0835071\ttotal: 3.11s\tremaining: 3.18s\n",
            "850:\tlearn: 1.0834153\ttotal: 3.15s\tremaining: 3.14s\n",
            "860:\tlearn: 1.0832919\ttotal: 3.18s\tremaining: 3.1s\n",
            "870:\tlearn: 1.0831992\ttotal: 3.22s\tremaining: 3.06s\n",
            "880:\tlearn: 1.0830753\ttotal: 3.25s\tremaining: 3.02s\n",
            "890:\tlearn: 1.0829991\ttotal: 3.29s\tremaining: 2.99s\n",
            "900:\tlearn: 1.0828984\ttotal: 3.33s\tremaining: 2.95s\n",
            "910:\tlearn: 1.0827882\ttotal: 3.37s\tremaining: 2.92s\n",
            "920:\tlearn: 1.0827385\ttotal: 3.41s\tremaining: 2.89s\n",
            "930:\tlearn: 1.0826601\ttotal: 3.45s\tremaining: 2.85s\n",
            "940:\tlearn: 1.0825776\ttotal: 3.49s\tremaining: 2.81s\n",
            "950:\tlearn: 1.0824790\ttotal: 3.53s\tremaining: 2.78s\n",
            "960:\tlearn: 1.0824069\ttotal: 3.57s\tremaining: 2.74s\n",
            "970:\tlearn: 1.0823216\ttotal: 3.61s\tremaining: 2.71s\n",
            "980:\tlearn: 1.0822181\ttotal: 3.65s\tremaining: 2.67s\n",
            "990:\tlearn: 1.0821297\ttotal: 3.69s\tremaining: 2.64s\n",
            "1000:\tlearn: 1.0820483\ttotal: 3.72s\tremaining: 2.6s\n",
            "1010:\tlearn: 1.0819812\ttotal: 3.77s\tremaining: 2.57s\n",
            "1020:\tlearn: 1.0818759\ttotal: 3.81s\tremaining: 2.53s\n",
            "1030:\tlearn: 1.0818140\ttotal: 3.85s\tremaining: 2.5s\n",
            "1040:\tlearn: 1.0817347\ttotal: 3.89s\tremaining: 2.46s\n",
            "1050:\tlearn: 1.0816565\ttotal: 3.94s\tremaining: 2.43s\n",
            "1060:\tlearn: 1.0815613\ttotal: 3.98s\tremaining: 2.4s\n",
            "1070:\tlearn: 1.0814917\ttotal: 4.02s\tremaining: 2.36s\n",
            "1080:\tlearn: 1.0814075\ttotal: 4.06s\tremaining: 2.32s\n",
            "1090:\tlearn: 1.0813406\ttotal: 4.1s\tremaining: 2.29s\n",
            "1100:\tlearn: 1.0812762\ttotal: 4.14s\tremaining: 2.25s\n",
            "1110:\tlearn: 1.0811892\ttotal: 4.18s\tremaining: 2.22s\n",
            "1120:\tlearn: 1.0811177\ttotal: 4.22s\tremaining: 2.18s\n",
            "1130:\tlearn: 1.0810454\ttotal: 4.26s\tremaining: 2.15s\n",
            "1140:\tlearn: 1.0809589\ttotal: 4.3s\tremaining: 2.11s\n",
            "1150:\tlearn: 1.0808839\ttotal: 4.34s\tremaining: 2.07s\n",
            "1160:\tlearn: 1.0808142\ttotal: 4.39s\tremaining: 2.04s\n",
            "1170:\tlearn: 1.0807266\ttotal: 4.43s\tremaining: 2s\n",
            "1180:\tlearn: 1.0806470\ttotal: 4.47s\tremaining: 1.96s\n",
            "1190:\tlearn: 1.0805662\ttotal: 4.5s\tremaining: 1.93s\n",
            "1200:\tlearn: 1.0805010\ttotal: 4.54s\tremaining: 1.89s\n",
            "1210:\tlearn: 1.0804330\ttotal: 4.58s\tremaining: 1.85s\n",
            "1220:\tlearn: 1.0803603\ttotal: 4.62s\tremaining: 1.81s\n",
            "1230:\tlearn: 1.0802825\ttotal: 4.66s\tremaining: 1.77s\n",
            "1240:\tlearn: 1.0802360\ttotal: 4.7s\tremaining: 1.74s\n",
            "1250:\tlearn: 1.0801260\ttotal: 4.74s\tremaining: 1.7s\n",
            "1260:\tlearn: 1.0800340\ttotal: 4.77s\tremaining: 1.66s\n",
            "1270:\tlearn: 1.0799428\ttotal: 4.81s\tremaining: 1.62s\n",
            "1280:\tlearn: 1.0798596\ttotal: 4.85s\tremaining: 1.59s\n",
            "1290:\tlearn: 1.0797972\ttotal: 4.89s\tremaining: 1.55s\n",
            "1300:\tlearn: 1.0797411\ttotal: 4.93s\tremaining: 1.51s\n",
            "1310:\tlearn: 1.0796219\ttotal: 4.96s\tremaining: 1.47s\n",
            "1320:\tlearn: 1.0795657\ttotal: 5s\tremaining: 1.44s\n",
            "1330:\tlearn: 1.0795017\ttotal: 5.04s\tremaining: 1.4s\n",
            "1340:\tlearn: 1.0794279\ttotal: 5.08s\tremaining: 1.36s\n",
            "1350:\tlearn: 1.0793406\ttotal: 5.12s\tremaining: 1.32s\n",
            "1360:\tlearn: 1.0792438\ttotal: 5.16s\tremaining: 1.28s\n",
            "1370:\tlearn: 1.0791694\ttotal: 5.2s\tremaining: 1.25s\n",
            "1380:\tlearn: 1.0790921\ttotal: 5.23s\tremaining: 1.21s\n",
            "1390:\tlearn: 1.0790238\ttotal: 5.27s\tremaining: 1.17s\n",
            "1400:\tlearn: 1.0789413\ttotal: 5.31s\tremaining: 1.13s\n",
            "1410:\tlearn: 1.0788714\ttotal: 5.35s\tremaining: 1.09s\n",
            "1420:\tlearn: 1.0788218\ttotal: 5.4s\tremaining: 1.06s\n",
            "1430:\tlearn: 1.0787464\ttotal: 5.44s\tremaining: 1.02s\n",
            "1440:\tlearn: 1.0786509\ttotal: 5.48s\tremaining: 985ms\n",
            "1450:\tlearn: 1.0785742\ttotal: 5.52s\tremaining: 947ms\n",
            "1460:\tlearn: 1.0785214\ttotal: 5.56s\tremaining: 909ms\n",
            "1470:\tlearn: 1.0784444\ttotal: 5.6s\tremaining: 872ms\n",
            "1480:\tlearn: 1.0783853\ttotal: 5.63s\tremaining: 833ms\n",
            "1490:\tlearn: 1.0783216\ttotal: 5.67s\tremaining: 795ms\n",
            "1500:\tlearn: 1.0782573\ttotal: 5.71s\tremaining: 757ms\n",
            "1510:\tlearn: 1.0781896\ttotal: 5.75s\tremaining: 720ms\n",
            "1520:\tlearn: 1.0781181\ttotal: 5.79s\tremaining: 682ms\n",
            "1530:\tlearn: 1.0780491\ttotal: 5.84s\tremaining: 645ms\n",
            "1540:\tlearn: 1.0779691\ttotal: 5.88s\tremaining: 607ms\n",
            "1550:\tlearn: 1.0779168\ttotal: 5.92s\tremaining: 569ms\n",
            "1560:\tlearn: 1.0778626\ttotal: 5.96s\tremaining: 531ms\n",
            "1570:\tlearn: 1.0778130\ttotal: 6s\tremaining: 493ms\n",
            "1580:\tlearn: 1.0777601\ttotal: 6.04s\tremaining: 455ms\n",
            "1590:\tlearn: 1.0776760\ttotal: 6.08s\tremaining: 416ms\n",
            "1600:\tlearn: 1.0776165\ttotal: 6.11s\tremaining: 378ms\n",
            "1610:\tlearn: 1.0775505\ttotal: 6.15s\tremaining: 340ms\n",
            "1620:\tlearn: 1.0774910\ttotal: 6.19s\tremaining: 302ms\n",
            "1630:\tlearn: 1.0774340\ttotal: 6.23s\tremaining: 264ms\n",
            "1640:\tlearn: 1.0773787\ttotal: 6.27s\tremaining: 225ms\n",
            "1650:\tlearn: 1.0773321\ttotal: 6.31s\tremaining: 187ms\n",
            "1660:\tlearn: 1.0772740\ttotal: 6.34s\tremaining: 149ms\n",
            "1670:\tlearn: 1.0772056\ttotal: 6.4s\tremaining: 111ms\n",
            "1680:\tlearn: 1.0771307\ttotal: 6.44s\tremaining: 72.8ms\n",
            "1690:\tlearn: 1.0770648\ttotal: 6.49s\tremaining: 34.5ms\n",
            "1699:\tlearn: 1.0770144\ttotal: 6.52s\tremaining: 0us\n",
            "Fold 2, Valid score = 1.08652\n"
          ],
          "name": "stdout"
        },
        {
          "output_type": "stream",
          "text": [
            "Warning: less than 75% gpu memory available for training. Free: 7809.75 Total: 15109.75\n"
          ],
          "name": "stderr"
        },
        {
          "output_type": "stream",
          "text": [
            "0:\tlearn: 1.3358516\ttotal: 4.7ms\tremaining: 7.98s\n",
            "10:\tlearn: 1.1505582\ttotal: 38.9ms\tremaining: 5.98s\n",
            "20:\tlearn: 1.1185105\ttotal: 81ms\tremaining: 6.48s\n",
            "30:\tlearn: 1.1109069\ttotal: 133ms\tremaining: 7.18s\n",
            "40:\tlearn: 1.1084489\ttotal: 164ms\tremaining: 6.64s\n",
            "50:\tlearn: 1.1067498\ttotal: 198ms\tremaining: 6.4s\n",
            "60:\tlearn: 1.1056608\ttotal: 232ms\tremaining: 6.22s\n",
            "70:\tlearn: 1.1046609\ttotal: 263ms\tremaining: 6.03s\n",
            "80:\tlearn: 1.1034057\ttotal: 297ms\tremaining: 5.93s\n",
            "90:\tlearn: 1.1022852\ttotal: 336ms\tremaining: 5.94s\n",
            "100:\tlearn: 1.1012795\ttotal: 370ms\tremaining: 5.86s\n",
            "110:\tlearn: 1.1004068\ttotal: 402ms\tremaining: 5.76s\n",
            "120:\tlearn: 1.0995968\ttotal: 440ms\tremaining: 5.75s\n",
            "130:\tlearn: 1.0989039\ttotal: 484ms\tremaining: 5.8s\n",
            "140:\tlearn: 1.0983122\ttotal: 517ms\tremaining: 5.72s\n",
            "150:\tlearn: 1.0976526\ttotal: 551ms\tremaining: 5.65s\n",
            "160:\tlearn: 1.0970506\ttotal: 584ms\tremaining: 5.58s\n",
            "170:\tlearn: 1.0964905\ttotal: 618ms\tremaining: 5.53s\n",
            "180:\tlearn: 1.0959484\ttotal: 660ms\tremaining: 5.54s\n",
            "190:\tlearn: 1.0954418\ttotal: 697ms\tremaining: 5.51s\n",
            "200:\tlearn: 1.0949257\ttotal: 731ms\tremaining: 5.45s\n",
            "210:\tlearn: 1.0944759\ttotal: 764ms\tremaining: 5.39s\n",
            "220:\tlearn: 1.0940158\ttotal: 797ms\tremaining: 5.33s\n",
            "230:\tlearn: 1.0936766\ttotal: 830ms\tremaining: 5.28s\n",
            "240:\tlearn: 1.0932438\ttotal: 871ms\tremaining: 5.27s\n",
            "250:\tlearn: 1.0929181\ttotal: 905ms\tremaining: 5.22s\n",
            "260:\tlearn: 1.0925434\ttotal: 939ms\tremaining: 5.18s\n",
            "270:\tlearn: 1.0921840\ttotal: 975ms\tremaining: 5.14s\n",
            "280:\tlearn: 1.0917962\ttotal: 1.01s\tremaining: 5.12s\n",
            "290:\tlearn: 1.0914840\ttotal: 1.05s\tremaining: 5.07s\n",
            "300:\tlearn: 1.0912016\ttotal: 1.08s\tremaining: 5.04s\n",
            "310:\tlearn: 1.0909394\ttotal: 1.12s\tremaining: 5s\n",
            "320:\tlearn: 1.0906205\ttotal: 1.15s\tremaining: 4.95s\n",
            "330:\tlearn: 1.0903701\ttotal: 1.19s\tremaining: 4.91s\n",
            "340:\tlearn: 1.0901214\ttotal: 1.22s\tremaining: 4.86s\n",
            "350:\tlearn: 1.0899317\ttotal: 1.26s\tremaining: 4.84s\n",
            "360:\tlearn: 1.0896942\ttotal: 1.3s\tremaining: 4.81s\n",
            "370:\tlearn: 1.0894681\ttotal: 1.33s\tremaining: 4.77s\n",
            "380:\tlearn: 1.0892558\ttotal: 1.36s\tremaining: 4.72s\n",
            "390:\tlearn: 1.0890496\ttotal: 1.4s\tremaining: 4.68s\n",
            "400:\tlearn: 1.0888677\ttotal: 1.43s\tremaining: 4.64s\n",
            "410:\tlearn: 1.0887247\ttotal: 1.48s\tremaining: 4.64s\n",
            "420:\tlearn: 1.0885900\ttotal: 1.52s\tremaining: 4.62s\n",
            "430:\tlearn: 1.0884569\ttotal: 1.55s\tremaining: 4.57s\n",
            "440:\tlearn: 1.0882687\ttotal: 1.58s\tremaining: 4.53s\n",
            "450:\tlearn: 1.0881075\ttotal: 1.62s\tremaining: 4.48s\n",
            "460:\tlearn: 1.0878692\ttotal: 1.65s\tremaining: 4.44s\n",
            "470:\tlearn: 1.0877339\ttotal: 1.69s\tremaining: 4.42s\n",
            "480:\tlearn: 1.0875236\ttotal: 1.73s\tremaining: 4.39s\n",
            "490:\tlearn: 1.0873688\ttotal: 1.77s\tremaining: 4.36s\n",
            "500:\tlearn: 1.0872292\ttotal: 1.81s\tremaining: 4.32s\n",
            "510:\tlearn: 1.0870610\ttotal: 1.84s\tremaining: 4.29s\n",
            "520:\tlearn: 1.0869007\ttotal: 1.88s\tremaining: 4.25s\n",
            "530:\tlearn: 1.0867602\ttotal: 1.92s\tremaining: 4.23s\n",
            "540:\tlearn: 1.0865798\ttotal: 1.96s\tremaining: 4.21s\n",
            "550:\tlearn: 1.0864463\ttotal: 2s\tremaining: 4.17s\n",
            "560:\tlearn: 1.0862907\ttotal: 2.04s\tremaining: 4.13s\n",
            "570:\tlearn: 1.0861424\ttotal: 2.07s\tremaining: 4.1s\n",
            "580:\tlearn: 1.0860217\ttotal: 2.11s\tremaining: 4.06s\n",
            "590:\tlearn: 1.0858814\ttotal: 2.14s\tremaining: 4.02s\n",
            "600:\tlearn: 1.0857382\ttotal: 2.19s\tremaining: 4s\n",
            "610:\tlearn: 1.0856280\ttotal: 2.22s\tremaining: 3.96s\n",
            "620:\tlearn: 1.0855179\ttotal: 2.26s\tremaining: 3.92s\n",
            "630:\tlearn: 1.0853681\ttotal: 2.29s\tremaining: 3.89s\n",
            "640:\tlearn: 1.0852358\ttotal: 2.33s\tremaining: 3.85s\n",
            "650:\tlearn: 1.0850963\ttotal: 2.37s\tremaining: 3.81s\n",
            "660:\tlearn: 1.0849709\ttotal: 2.4s\tremaining: 3.78s\n",
            "670:\tlearn: 1.0848521\ttotal: 2.44s\tremaining: 3.74s\n",
            "680:\tlearn: 1.0847555\ttotal: 2.49s\tremaining: 3.73s\n",
            "690:\tlearn: 1.0846404\ttotal: 2.53s\tremaining: 3.69s\n",
            "700:\tlearn: 1.0845163\ttotal: 2.56s\tremaining: 3.65s\n",
            "710:\tlearn: 1.0844049\ttotal: 2.6s\tremaining: 3.61s\n",
            "720:\tlearn: 1.0843015\ttotal: 2.64s\tremaining: 3.58s\n",
            "730:\tlearn: 1.0841951\ttotal: 2.67s\tremaining: 3.55s\n",
            "740:\tlearn: 1.0840954\ttotal: 2.71s\tremaining: 3.51s\n",
            "750:\tlearn: 1.0839836\ttotal: 2.76s\tremaining: 3.48s\n",
            "760:\tlearn: 1.0838765\ttotal: 2.8s\tremaining: 3.46s\n",
            "770:\tlearn: 1.0837972\ttotal: 2.84s\tremaining: 3.43s\n",
            "780:\tlearn: 1.0836628\ttotal: 2.88s\tremaining: 3.39s\n",
            "790:\tlearn: 1.0835279\ttotal: 2.92s\tremaining: 3.35s\n",
            "800:\tlearn: 1.0834124\ttotal: 2.96s\tremaining: 3.32s\n",
            "810:\tlearn: 1.0833224\ttotal: 2.99s\tremaining: 3.28s\n",
            "820:\tlearn: 1.0832300\ttotal: 3.03s\tremaining: 3.24s\n",
            "830:\tlearn: 1.0831492\ttotal: 3.07s\tremaining: 3.21s\n",
            "840:\tlearn: 1.0829977\ttotal: 3.11s\tremaining: 3.17s\n",
            "850:\tlearn: 1.0828882\ttotal: 3.14s\tremaining: 3.14s\n",
            "860:\tlearn: 1.0827901\ttotal: 3.18s\tremaining: 3.1s\n",
            "870:\tlearn: 1.0826637\ttotal: 3.22s\tremaining: 3.06s\n",
            "880:\tlearn: 1.0826069\ttotal: 3.26s\tremaining: 3.03s\n",
            "890:\tlearn: 1.0825178\ttotal: 3.3s\tremaining: 3s\n",
            "900:\tlearn: 1.0824033\ttotal: 3.34s\tremaining: 2.96s\n",
            "910:\tlearn: 1.0823086\ttotal: 3.38s\tremaining: 2.92s\n",
            "920:\tlearn: 1.0822471\ttotal: 3.41s\tremaining: 2.89s\n",
            "930:\tlearn: 1.0821432\ttotal: 3.46s\tremaining: 2.86s\n",
            "940:\tlearn: 1.0820195\ttotal: 3.5s\tremaining: 2.82s\n",
            "950:\tlearn: 1.0819089\ttotal: 3.53s\tremaining: 2.78s\n",
            "960:\tlearn: 1.0818326\ttotal: 3.57s\tremaining: 2.75s\n",
            "970:\tlearn: 1.0817576\ttotal: 3.61s\tremaining: 2.71s\n",
            "980:\tlearn: 1.0816992\ttotal: 3.65s\tremaining: 2.67s\n",
            "990:\tlearn: 1.0816148\ttotal: 3.69s\tremaining: 2.64s\n",
            "1000:\tlearn: 1.0814929\ttotal: 3.73s\tremaining: 2.6s\n",
            "1010:\tlearn: 1.0813819\ttotal: 3.76s\tremaining: 2.56s\n",
            "1020:\tlearn: 1.0812879\ttotal: 3.8s\tremaining: 2.53s\n",
            "1030:\tlearn: 1.0812042\ttotal: 3.84s\tremaining: 2.49s\n",
            "1040:\tlearn: 1.0811104\ttotal: 3.88s\tremaining: 2.46s\n",
            "1050:\tlearn: 1.0810419\ttotal: 3.92s\tremaining: 2.42s\n",
            "1060:\tlearn: 1.0809773\ttotal: 3.96s\tremaining: 2.39s\n",
            "1070:\tlearn: 1.0808968\ttotal: 4s\tremaining: 2.35s\n",
            "1080:\tlearn: 1.0808212\ttotal: 4.04s\tremaining: 2.31s\n",
            "1090:\tlearn: 1.0807424\ttotal: 4.07s\tremaining: 2.27s\n",
            "1100:\tlearn: 1.0806543\ttotal: 4.11s\tremaining: 2.23s\n",
            "1110:\tlearn: 1.0805888\ttotal: 4.14s\tremaining: 2.2s\n",
            "1120:\tlearn: 1.0804822\ttotal: 4.19s\tremaining: 2.16s\n",
            "1130:\tlearn: 1.0804020\ttotal: 4.23s\tremaining: 2.13s\n",
            "1140:\tlearn: 1.0803293\ttotal: 4.26s\tremaining: 2.09s\n",
            "1150:\tlearn: 1.0802816\ttotal: 4.3s\tremaining: 2.05s\n",
            "1160:\tlearn: 1.0802185\ttotal: 4.34s\tremaining: 2.01s\n",
            "1170:\tlearn: 1.0801530\ttotal: 4.37s\tremaining: 1.98s\n",
            "1180:\tlearn: 1.0800857\ttotal: 4.42s\tremaining: 1.94s\n",
            "1190:\tlearn: 1.0800109\ttotal: 4.47s\tremaining: 1.91s\n",
            "1200:\tlearn: 1.0799319\ttotal: 4.51s\tremaining: 1.87s\n",
            "1210:\tlearn: 1.0798367\ttotal: 4.54s\tremaining: 1.83s\n",
            "1220:\tlearn: 1.0797576\ttotal: 4.58s\tremaining: 1.8s\n",
            "1230:\tlearn: 1.0796757\ttotal: 4.62s\tremaining: 1.76s\n",
            "1240:\tlearn: 1.0796458\ttotal: 4.66s\tremaining: 1.72s\n",
            "1250:\tlearn: 1.0795705\ttotal: 4.7s\tremaining: 1.69s\n",
            "1260:\tlearn: 1.0794921\ttotal: 4.73s\tremaining: 1.65s\n",
            "1270:\tlearn: 1.0793918\ttotal: 4.77s\tremaining: 1.61s\n",
            "1280:\tlearn: 1.0793294\ttotal: 4.81s\tremaining: 1.57s\n",
            "1290:\tlearn: 1.0792500\ttotal: 4.86s\tremaining: 1.54s\n",
            "1300:\tlearn: 1.0791921\ttotal: 4.89s\tremaining: 1.5s\n",
            "1310:\tlearn: 1.0791230\ttotal: 4.93s\tremaining: 1.46s\n",
            "1320:\tlearn: 1.0790400\ttotal: 4.97s\tremaining: 1.43s\n",
            "1330:\tlearn: 1.0789725\ttotal: 5.01s\tremaining: 1.39s\n",
            "1340:\tlearn: 1.0788939\ttotal: 5.05s\tremaining: 1.35s\n",
            "1350:\tlearn: 1.0788190\ttotal: 5.09s\tremaining: 1.31s\n",
            "1360:\tlearn: 1.0787727\ttotal: 5.13s\tremaining: 1.28s\n",
            "1370:\tlearn: 1.0787152\ttotal: 5.16s\tremaining: 1.24s\n",
            "1380:\tlearn: 1.0786603\ttotal: 5.2s\tremaining: 1.2s\n",
            "1390:\tlearn: 1.0785565\ttotal: 5.24s\tremaining: 1.16s\n",
            "1400:\tlearn: 1.0784894\ttotal: 5.27s\tremaining: 1.13s\n",
            "1410:\tlearn: 1.0784386\ttotal: 5.32s\tremaining: 1.09s\n",
            "1420:\tlearn: 1.0783595\ttotal: 5.36s\tremaining: 1.05s\n",
            "1430:\tlearn: 1.0782976\ttotal: 5.41s\tremaining: 1.02s\n",
            "1440:\tlearn: 1.0782165\ttotal: 5.46s\tremaining: 981ms\n",
            "1450:\tlearn: 1.0781429\ttotal: 5.49s\tremaining: 943ms\n",
            "1460:\tlearn: 1.0780904\ttotal: 5.54s\tremaining: 906ms\n",
            "1470:\tlearn: 1.0780381\ttotal: 5.58s\tremaining: 868ms\n",
            "1480:\tlearn: 1.0779503\ttotal: 5.62s\tremaining: 831ms\n",
            "1490:\tlearn: 1.0778633\ttotal: 5.66s\tremaining: 793ms\n",
            "1500:\tlearn: 1.0778159\ttotal: 5.69s\tremaining: 755ms\n",
            "1510:\tlearn: 1.0777385\ttotal: 5.73s\tremaining: 717ms\n",
            "1520:\tlearn: 1.0776661\ttotal: 5.77s\tremaining: 679ms\n",
            "1530:\tlearn: 1.0775884\ttotal: 5.81s\tremaining: 642ms\n",
            "1540:\tlearn: 1.0775332\ttotal: 5.85s\tremaining: 604ms\n",
            "1550:\tlearn: 1.0774773\ttotal: 5.89s\tremaining: 566ms\n",
            "1560:\tlearn: 1.0773993\ttotal: 5.92s\tremaining: 528ms\n",
            "1570:\tlearn: 1.0773268\ttotal: 5.96s\tremaining: 490ms\n",
            "1580:\tlearn: 1.0772563\ttotal: 6s\tremaining: 452ms\n",
            "1590:\tlearn: 1.0771923\ttotal: 6.05s\tremaining: 414ms\n",
            "1600:\tlearn: 1.0771424\ttotal: 6.08s\tremaining: 376ms\n",
            "1610:\tlearn: 1.0770881\ttotal: 6.12s\tremaining: 338ms\n",
            "1620:\tlearn: 1.0770181\ttotal: 6.16s\tremaining: 300ms\n",
            "1630:\tlearn: 1.0769345\ttotal: 6.2s\tremaining: 262ms\n",
            "1640:\tlearn: 1.0768649\ttotal: 6.24s\tremaining: 224ms\n",
            "1650:\tlearn: 1.0767952\ttotal: 6.28s\tremaining: 186ms\n",
            "1660:\tlearn: 1.0767155\ttotal: 6.32s\tremaining: 148ms\n",
            "1670:\tlearn: 1.0766594\ttotal: 6.35s\tremaining: 110ms\n",
            "1680:\tlearn: 1.0766187\ttotal: 6.39s\tremaining: 72.2ms\n",
            "1690:\tlearn: 1.0765644\ttotal: 6.45s\tremaining: 34.3ms\n",
            "1699:\tlearn: 1.0764931\ttotal: 6.48s\tremaining: 0us\n",
            "Fold 3, Valid score = 1.09164\n"
          ],
          "name": "stdout"
        },
        {
          "output_type": "stream",
          "text": [
            "Warning: less than 75% gpu memory available for training. Free: 7809.75 Total: 15109.75\n"
          ],
          "name": "stderr"
        },
        {
          "output_type": "stream",
          "text": [
            "0:\tlearn: 1.3358415\ttotal: 4.86ms\tremaining: 8.26s\n",
            "10:\tlearn: 1.1504352\ttotal: 40.1ms\tremaining: 6.16s\n",
            "20:\tlearn: 1.1184555\ttotal: 74.3ms\tremaining: 5.94s\n",
            "30:\tlearn: 1.1109127\ttotal: 110ms\tremaining: 5.91s\n",
            "40:\tlearn: 1.1085115\ttotal: 145ms\tremaining: 5.88s\n",
            "50:\tlearn: 1.1067563\ttotal: 179ms\tremaining: 5.77s\n",
            "60:\tlearn: 1.1055743\ttotal: 214ms\tremaining: 5.75s\n",
            "70:\tlearn: 1.1046333\ttotal: 245ms\tremaining: 5.62s\n",
            "80:\tlearn: 1.1034868\ttotal: 279ms\tremaining: 5.57s\n",
            "90:\tlearn: 1.1022985\ttotal: 322ms\tremaining: 5.69s\n",
            "100:\tlearn: 1.1013109\ttotal: 356ms\tremaining: 5.63s\n",
            "110:\tlearn: 1.1004479\ttotal: 389ms\tremaining: 5.57s\n",
            "120:\tlearn: 1.0996436\ttotal: 428ms\tremaining: 5.58s\n",
            "130:\tlearn: 1.0989112\ttotal: 461ms\tremaining: 5.52s\n",
            "140:\tlearn: 1.0982411\ttotal: 496ms\tremaining: 5.48s\n",
            "150:\tlearn: 1.0975838\ttotal: 545ms\tremaining: 5.59s\n",
            "160:\tlearn: 1.0969933\ttotal: 579ms\tremaining: 5.53s\n",
            "170:\tlearn: 1.0963747\ttotal: 613ms\tremaining: 5.48s\n",
            "180:\tlearn: 1.0958984\ttotal: 654ms\tremaining: 5.49s\n",
            "190:\tlearn: 1.0954519\ttotal: 689ms\tremaining: 5.44s\n",
            "200:\tlearn: 1.0948726\ttotal: 723ms\tremaining: 5.39s\n",
            "210:\tlearn: 1.0943345\ttotal: 759ms\tremaining: 5.36s\n",
            "220:\tlearn: 1.0939513\ttotal: 792ms\tremaining: 5.3s\n",
            "230:\tlearn: 1.0935245\ttotal: 826ms\tremaining: 5.25s\n",
            "240:\tlearn: 1.0931364\ttotal: 864ms\tremaining: 5.23s\n",
            "250:\tlearn: 1.0927148\ttotal: 900ms\tremaining: 5.2s\n",
            "260:\tlearn: 1.0922944\ttotal: 934ms\tremaining: 5.15s\n",
            "270:\tlearn: 1.0920063\ttotal: 967ms\tremaining: 5.1s\n",
            "280:\tlearn: 1.0916755\ttotal: 1s\tremaining: 5.07s\n",
            "290:\tlearn: 1.0913484\ttotal: 1.04s\tremaining: 5.02s\n",
            "300:\tlearn: 1.0910604\ttotal: 1.08s\tremaining: 5.02s\n",
            "310:\tlearn: 1.0908148\ttotal: 1.12s\tremaining: 4.99s\n",
            "320:\tlearn: 1.0905444\ttotal: 1.15s\tremaining: 4.96s\n",
            "330:\tlearn: 1.0903455\ttotal: 1.19s\tremaining: 4.92s\n",
            "340:\tlearn: 1.0900754\ttotal: 1.23s\tremaining: 4.91s\n",
            "350:\tlearn: 1.0898258\ttotal: 1.27s\tremaining: 4.87s\n",
            "360:\tlearn: 1.0896050\ttotal: 1.31s\tremaining: 4.85s\n",
            "370:\tlearn: 1.0894350\ttotal: 1.34s\tremaining: 4.81s\n",
            "380:\tlearn: 1.0892634\ttotal: 1.38s\tremaining: 4.77s\n",
            "390:\tlearn: 1.0889693\ttotal: 1.41s\tremaining: 4.74s\n",
            "400:\tlearn: 1.0887668\ttotal: 1.45s\tremaining: 4.71s\n",
            "410:\tlearn: 1.0885397\ttotal: 1.49s\tremaining: 4.67s\n",
            "420:\tlearn: 1.0883673\ttotal: 1.54s\tremaining: 4.69s\n",
            "430:\tlearn: 1.0882453\ttotal: 1.58s\tremaining: 4.64s\n",
            "440:\tlearn: 1.0880533\ttotal: 1.61s\tremaining: 4.6s\n",
            "450:\tlearn: 1.0879040\ttotal: 1.65s\tremaining: 4.56s\n",
            "460:\tlearn: 1.0877150\ttotal: 1.69s\tremaining: 4.54s\n",
            "470:\tlearn: 1.0875554\ttotal: 1.73s\tremaining: 4.52s\n",
            "480:\tlearn: 1.0874057\ttotal: 1.78s\tremaining: 4.51s\n",
            "490:\tlearn: 1.0872901\ttotal: 1.82s\tremaining: 4.47s\n",
            "500:\tlearn: 1.0871499\ttotal: 1.85s\tremaining: 4.44s\n",
            "510:\tlearn: 1.0870249\ttotal: 1.89s\tremaining: 4.41s\n",
            "520:\tlearn: 1.0868836\ttotal: 1.93s\tremaining: 4.37s\n",
            "530:\tlearn: 1.0866910\ttotal: 1.97s\tremaining: 4.34s\n",
            "540:\tlearn: 1.0865134\ttotal: 2.02s\tremaining: 4.32s\n",
            "550:\tlearn: 1.0863885\ttotal: 2.06s\tremaining: 4.29s\n",
            "560:\tlearn: 1.0862677\ttotal: 2.09s\tremaining: 4.25s\n",
            "570:\tlearn: 1.0861326\ttotal: 2.13s\tremaining: 4.21s\n",
            "580:\tlearn: 1.0860147\ttotal: 2.17s\tremaining: 4.18s\n",
            "590:\tlearn: 1.0859019\ttotal: 2.21s\tremaining: 4.15s\n",
            "600:\tlearn: 1.0858099\ttotal: 2.25s\tremaining: 4.12s\n",
            "610:\tlearn: 1.0856518\ttotal: 2.29s\tremaining: 4.08s\n",
            "620:\tlearn: 1.0855137\ttotal: 2.33s\tremaining: 4.05s\n",
            "630:\tlearn: 1.0853393\ttotal: 2.37s\tremaining: 4.01s\n",
            "640:\tlearn: 1.0852076\ttotal: 2.41s\tremaining: 3.98s\n",
            "650:\tlearn: 1.0850743\ttotal: 2.46s\tremaining: 3.96s\n",
            "660:\tlearn: 1.0849884\ttotal: 2.5s\tremaining: 3.93s\n",
            "670:\tlearn: 1.0848581\ttotal: 2.55s\tremaining: 3.91s\n",
            "680:\tlearn: 1.0847820\ttotal: 2.6s\tremaining: 3.88s\n",
            "690:\tlearn: 1.0846659\ttotal: 2.63s\tremaining: 3.85s\n",
            "700:\tlearn: 1.0845444\ttotal: 2.68s\tremaining: 3.82s\n",
            "710:\tlearn: 1.0844124\ttotal: 2.72s\tremaining: 3.78s\n",
            "720:\tlearn: 1.0843273\ttotal: 2.75s\tremaining: 3.74s\n",
            "730:\tlearn: 1.0842331\ttotal: 2.79s\tremaining: 3.7s\n",
            "740:\tlearn: 1.0841173\ttotal: 2.83s\tremaining: 3.67s\n",
            "750:\tlearn: 1.0840047\ttotal: 2.88s\tremaining: 3.64s\n",
            "760:\tlearn: 1.0838842\ttotal: 2.93s\tremaining: 3.61s\n",
            "770:\tlearn: 1.0837703\ttotal: 2.97s\tremaining: 3.57s\n",
            "780:\tlearn: 1.0836992\ttotal: 3s\tremaining: 3.54s\n",
            "790:\tlearn: 1.0835753\ttotal: 3.04s\tremaining: 3.5s\n",
            "800:\tlearn: 1.0834428\ttotal: 3.09s\tremaining: 3.47s\n",
            "810:\tlearn: 1.0833149\ttotal: 3.13s\tremaining: 3.43s\n",
            "820:\tlearn: 1.0832057\ttotal: 3.17s\tremaining: 3.4s\n",
            "830:\tlearn: 1.0830714\ttotal: 3.21s\tremaining: 3.36s\n",
            "840:\tlearn: 1.0830007\ttotal: 3.25s\tremaining: 3.32s\n",
            "850:\tlearn: 1.0828734\ttotal: 3.29s\tremaining: 3.28s\n",
            "860:\tlearn: 1.0827610\ttotal: 3.33s\tremaining: 3.25s\n",
            "870:\tlearn: 1.0826226\ttotal: 3.37s\tremaining: 3.21s\n",
            "880:\tlearn: 1.0825486\ttotal: 3.41s\tremaining: 3.17s\n",
            "890:\tlearn: 1.0824825\ttotal: 3.45s\tremaining: 3.14s\n",
            "900:\tlearn: 1.0823844\ttotal: 3.51s\tremaining: 3.11s\n",
            "910:\tlearn: 1.0822859\ttotal: 3.55s\tremaining: 3.07s\n",
            "920:\tlearn: 1.0821891\ttotal: 3.58s\tremaining: 3.03s\n",
            "930:\tlearn: 1.0821398\ttotal: 3.62s\tremaining: 2.99s\n",
            "940:\tlearn: 1.0820451\ttotal: 3.66s\tremaining: 2.95s\n",
            "950:\tlearn: 1.0819436\ttotal: 3.7s\tremaining: 2.92s\n",
            "960:\tlearn: 1.0818357\ttotal: 3.75s\tremaining: 2.88s\n",
            "970:\tlearn: 1.0817362\ttotal: 3.79s\tremaining: 2.84s\n",
            "980:\tlearn: 1.0816321\ttotal: 3.83s\tremaining: 2.81s\n",
            "990:\tlearn: 1.0815365\ttotal: 3.87s\tremaining: 2.77s\n",
            "1000:\tlearn: 1.0814989\ttotal: 3.92s\tremaining: 2.74s\n",
            "1010:\tlearn: 1.0814132\ttotal: 3.97s\tremaining: 2.71s\n",
            "1020:\tlearn: 1.0813160\ttotal: 4.01s\tremaining: 2.67s\n",
            "1030:\tlearn: 1.0812263\ttotal: 4.06s\tremaining: 2.63s\n",
            "1040:\tlearn: 1.0811247\ttotal: 4.1s\tremaining: 2.59s\n",
            "1050:\tlearn: 1.0810085\ttotal: 4.14s\tremaining: 2.56s\n",
            "1060:\tlearn: 1.0809269\ttotal: 4.18s\tremaining: 2.52s\n",
            "1070:\tlearn: 1.0808447\ttotal: 4.22s\tremaining: 2.48s\n",
            "1080:\tlearn: 1.0807582\ttotal: 4.26s\tremaining: 2.44s\n",
            "1090:\tlearn: 1.0806845\ttotal: 4.3s\tremaining: 2.4s\n",
            "1100:\tlearn: 1.0805859\ttotal: 4.34s\tremaining: 2.36s\n",
            "1110:\tlearn: 1.0805213\ttotal: 4.39s\tremaining: 2.33s\n",
            "1120:\tlearn: 1.0804391\ttotal: 4.43s\tremaining: 2.29s\n",
            "1130:\tlearn: 1.0803562\ttotal: 4.47s\tremaining: 2.25s\n",
            "1140:\tlearn: 1.0802576\ttotal: 4.53s\tremaining: 2.22s\n",
            "1150:\tlearn: 1.0801622\ttotal: 4.57s\tremaining: 2.18s\n",
            "1160:\tlearn: 1.0800825\ttotal: 4.62s\tremaining: 2.15s\n",
            "1170:\tlearn: 1.0800168\ttotal: 4.66s\tremaining: 2.11s\n",
            "1180:\tlearn: 1.0799521\ttotal: 4.7s\tremaining: 2.07s\n",
            "1190:\tlearn: 1.0798236\ttotal: 4.74s\tremaining: 2.03s\n",
            "1200:\tlearn: 1.0797164\ttotal: 4.79s\tremaining: 1.99s\n",
            "1210:\tlearn: 1.0796497\ttotal: 4.83s\tremaining: 1.95s\n",
            "1220:\tlearn: 1.0795485\ttotal: 4.88s\tremaining: 1.92s\n",
            "1230:\tlearn: 1.0794597\ttotal: 4.92s\tremaining: 1.88s\n",
            "1240:\tlearn: 1.0793958\ttotal: 4.96s\tremaining: 1.83s\n",
            "1250:\tlearn: 1.0793361\ttotal: 5s\tremaining: 1.8s\n",
            "1260:\tlearn: 1.0792680\ttotal: 5.06s\tremaining: 1.76s\n",
            "1270:\tlearn: 1.0791943\ttotal: 5.1s\tremaining: 1.72s\n",
            "1280:\tlearn: 1.0791170\ttotal: 5.14s\tremaining: 1.68s\n",
            "1290:\tlearn: 1.0790166\ttotal: 5.18s\tremaining: 1.64s\n",
            "1300:\tlearn: 1.0789582\ttotal: 5.22s\tremaining: 1.6s\n",
            "1310:\tlearn: 1.0788777\ttotal: 5.27s\tremaining: 1.56s\n",
            "1320:\tlearn: 1.0788026\ttotal: 5.31s\tremaining: 1.52s\n",
            "1330:\tlearn: 1.0787356\ttotal: 5.35s\tremaining: 1.48s\n",
            "1340:\tlearn: 1.0786760\ttotal: 5.39s\tremaining: 1.44s\n",
            "1350:\tlearn: 1.0786124\ttotal: 5.43s\tremaining: 1.4s\n",
            "1360:\tlearn: 1.0785332\ttotal: 5.49s\tremaining: 1.37s\n",
            "1370:\tlearn: 1.0784338\ttotal: 5.54s\tremaining: 1.33s\n",
            "1380:\tlearn: 1.0783144\ttotal: 5.58s\tremaining: 1.29s\n",
            "1390:\tlearn: 1.0782484\ttotal: 5.62s\tremaining: 1.25s\n",
            "1400:\tlearn: 1.0781834\ttotal: 5.66s\tremaining: 1.21s\n",
            "1410:\tlearn: 1.0781431\ttotal: 5.71s\tremaining: 1.17s\n",
            "1420:\tlearn: 1.0780680\ttotal: 5.75s\tremaining: 1.13s\n",
            "1430:\tlearn: 1.0779793\ttotal: 5.79s\tremaining: 1.09s\n",
            "1440:\tlearn: 1.0779359\ttotal: 5.83s\tremaining: 1.05s\n",
            "1450:\tlearn: 1.0778375\ttotal: 5.87s\tremaining: 1.01s\n",
            "1460:\tlearn: 1.0777729\ttotal: 5.91s\tremaining: 967ms\n",
            "1470:\tlearn: 1.0777155\ttotal: 5.96s\tremaining: 927ms\n",
            "1480:\tlearn: 1.0776548\ttotal: 6s\tremaining: 887ms\n",
            "1490:\tlearn: 1.0776119\ttotal: 6.04s\tremaining: 847ms\n",
            "1500:\tlearn: 1.0775534\ttotal: 6.08s\tremaining: 806ms\n",
            "1510:\tlearn: 1.0774620\ttotal: 6.13s\tremaining: 766ms\n",
            "1520:\tlearn: 1.0774064\ttotal: 6.17s\tremaining: 726ms\n",
            "1530:\tlearn: 1.0773441\ttotal: 6.21s\tremaining: 685ms\n",
            "1540:\tlearn: 1.0772910\ttotal: 6.25s\tremaining: 645ms\n",
            "1550:\tlearn: 1.0772061\ttotal: 6.29s\tremaining: 604ms\n",
            "1560:\tlearn: 1.0771551\ttotal: 6.33s\tremaining: 564ms\n",
            "1570:\tlearn: 1.0770894\ttotal: 6.37s\tremaining: 523ms\n",
            "1580:\tlearn: 1.0770215\ttotal: 6.42s\tremaining: 483ms\n",
            "1590:\tlearn: 1.0769680\ttotal: 6.47s\tremaining: 443ms\n",
            "1600:\tlearn: 1.0768998\ttotal: 6.52s\tremaining: 403ms\n",
            "1610:\tlearn: 1.0768215\ttotal: 6.57s\tremaining: 363ms\n",
            "1620:\tlearn: 1.0767457\ttotal: 6.61s\tremaining: 322ms\n",
            "1630:\tlearn: 1.0766818\ttotal: 6.65s\tremaining: 281ms\n",
            "1640:\tlearn: 1.0766099\ttotal: 6.69s\tremaining: 240ms\n",
            "1650:\tlearn: 1.0765477\ttotal: 6.73s\tremaining: 200ms\n",
            "1660:\tlearn: 1.0764766\ttotal: 6.77s\tremaining: 159ms\n",
            "1670:\tlearn: 1.0764144\ttotal: 6.82s\tremaining: 118ms\n",
            "1680:\tlearn: 1.0763378\ttotal: 6.86s\tremaining: 77.5ms\n",
            "1690:\tlearn: 1.0763095\ttotal: 6.9s\tremaining: 36.7ms\n",
            "1699:\tlearn: 1.0762428\ttotal: 6.93s\tremaining: 0us\n",
            "Fold 4, Valid score = 1.09305\n"
          ],
          "name": "stdout"
        },
        {
          "output_type": "stream",
          "text": [
            "Warning: less than 75% gpu memory available for training. Free: 7809.75 Total: 15109.75\n"
          ],
          "name": "stderr"
        },
        {
          "output_type": "stream",
          "text": [
            "0:\tlearn: 1.3358537\ttotal: 4.65ms\tremaining: 7.91s\n",
            "10:\tlearn: 1.1504691\ttotal: 46.8ms\tremaining: 7.18s\n",
            "20:\tlearn: 1.1184925\ttotal: 81.2ms\tremaining: 6.49s\n",
            "30:\tlearn: 1.1107361\ttotal: 116ms\tremaining: 6.22s\n",
            "40:\tlearn: 1.1083660\ttotal: 151ms\tremaining: 6.09s\n",
            "50:\tlearn: 1.1065612\ttotal: 193ms\tremaining: 6.25s\n",
            "60:\tlearn: 1.1053438\ttotal: 229ms\tremaining: 6.16s\n",
            "70:\tlearn: 1.1043640\ttotal: 263ms\tremaining: 6.03s\n",
            "80:\tlearn: 1.1032371\ttotal: 297ms\tremaining: 5.94s\n",
            "90:\tlearn: 1.1022453\ttotal: 330ms\tremaining: 5.84s\n",
            "100:\tlearn: 1.1012352\ttotal: 369ms\tremaining: 5.84s\n",
            "110:\tlearn: 1.1004999\ttotal: 401ms\tremaining: 5.73s\n",
            "120:\tlearn: 1.0997511\ttotal: 439ms\tremaining: 5.73s\n",
            "130:\tlearn: 1.0990367\ttotal: 475ms\tremaining: 5.69s\n",
            "140:\tlearn: 1.0982515\ttotal: 509ms\tremaining: 5.62s\n",
            "150:\tlearn: 1.0975211\ttotal: 542ms\tremaining: 5.56s\n",
            "160:\tlearn: 1.0969479\ttotal: 580ms\tremaining: 5.54s\n",
            "170:\tlearn: 1.0963989\ttotal: 613ms\tremaining: 5.48s\n",
            "180:\tlearn: 1.0958783\ttotal: 654ms\tremaining: 5.48s\n",
            "190:\tlearn: 1.0954091\ttotal: 687ms\tremaining: 5.42s\n",
            "200:\tlearn: 1.0948973\ttotal: 720ms\tremaining: 5.37s\n",
            "210:\tlearn: 1.0945457\ttotal: 754ms\tremaining: 5.32s\n",
            "220:\tlearn: 1.0940851\ttotal: 787ms\tremaining: 5.27s\n",
            "230:\tlearn: 1.0936754\ttotal: 820ms\tremaining: 5.22s\n",
            "240:\tlearn: 1.0932283\ttotal: 859ms\tremaining: 5.2s\n",
            "250:\tlearn: 1.0929508\ttotal: 892ms\tremaining: 5.15s\n",
            "260:\tlearn: 1.0926072\ttotal: 925ms\tremaining: 5.1s\n",
            "270:\tlearn: 1.0922685\ttotal: 958ms\tremaining: 5.05s\n",
            "280:\tlearn: 1.0919168\ttotal: 991ms\tremaining: 5.01s\n",
            "290:\tlearn: 1.0916371\ttotal: 1.02s\tremaining: 4.96s\n",
            "300:\tlearn: 1.0913661\ttotal: 1.06s\tremaining: 4.94s\n",
            "310:\tlearn: 1.0910258\ttotal: 1.09s\tremaining: 4.89s\n",
            "320:\tlearn: 1.0906861\ttotal: 1.14s\tremaining: 4.88s\n",
            "330:\tlearn: 1.0904627\ttotal: 1.19s\tremaining: 4.91s\n",
            "340:\tlearn: 1.0902584\ttotal: 1.22s\tremaining: 4.86s\n",
            "350:\tlearn: 1.0900157\ttotal: 1.27s\tremaining: 4.87s\n",
            "360:\tlearn: 1.0897838\ttotal: 1.3s\tremaining: 4.82s\n",
            "370:\tlearn: 1.0895725\ttotal: 1.33s\tremaining: 4.78s\n",
            "380:\tlearn: 1.0893009\ttotal: 1.37s\tremaining: 4.74s\n",
            "390:\tlearn: 1.0891445\ttotal: 1.4s\tremaining: 4.7s\n",
            "400:\tlearn: 1.0888787\ttotal: 1.44s\tremaining: 4.66s\n",
            "410:\tlearn: 1.0887045\ttotal: 1.48s\tremaining: 4.63s\n",
            "420:\tlearn: 1.0885550\ttotal: 1.51s\tremaining: 4.58s\n",
            "430:\tlearn: 1.0883823\ttotal: 1.54s\tremaining: 4.54s\n",
            "440:\tlearn: 1.0882742\ttotal: 1.58s\tremaining: 4.53s\n",
            "450:\tlearn: 1.0881166\ttotal: 1.62s\tremaining: 4.48s\n",
            "460:\tlearn: 1.0879411\ttotal: 1.65s\tremaining: 4.44s\n",
            "470:\tlearn: 1.0877657\ttotal: 1.69s\tremaining: 4.42s\n",
            "480:\tlearn: 1.0876441\ttotal: 1.73s\tremaining: 4.38s\n",
            "490:\tlearn: 1.0875015\ttotal: 1.76s\tremaining: 4.34s\n",
            "500:\tlearn: 1.0873640\ttotal: 1.8s\tremaining: 4.3s\n",
            "510:\tlearn: 1.0871813\ttotal: 1.84s\tremaining: 4.28s\n",
            "520:\tlearn: 1.0870112\ttotal: 1.87s\tremaining: 4.24s\n",
            "530:\tlearn: 1.0868593\ttotal: 1.91s\tremaining: 4.21s\n",
            "540:\tlearn: 1.0866892\ttotal: 1.95s\tremaining: 4.18s\n",
            "550:\tlearn: 1.0865076\ttotal: 1.99s\tremaining: 4.14s\n",
            "560:\tlearn: 1.0863706\ttotal: 2.02s\tremaining: 4.1s\n",
            "570:\tlearn: 1.0862054\ttotal: 2.06s\tremaining: 4.08s\n",
            "580:\tlearn: 1.0861032\ttotal: 2.1s\tremaining: 4.04s\n",
            "590:\tlearn: 1.0859594\ttotal: 2.14s\tremaining: 4.01s\n",
            "600:\tlearn: 1.0858479\ttotal: 2.19s\tremaining: 4s\n",
            "610:\tlearn: 1.0857307\ttotal: 2.22s\tremaining: 3.96s\n",
            "620:\tlearn: 1.0856063\ttotal: 2.26s\tremaining: 3.93s\n",
            "630:\tlearn: 1.0854702\ttotal: 2.29s\tremaining: 3.89s\n",
            "640:\tlearn: 1.0853411\ttotal: 2.33s\tremaining: 3.85s\n",
            "650:\tlearn: 1.0851859\ttotal: 2.37s\tremaining: 3.82s\n",
            "660:\tlearn: 1.0850621\ttotal: 2.41s\tremaining: 3.78s\n",
            "670:\tlearn: 1.0849468\ttotal: 2.45s\tremaining: 3.75s\n",
            "680:\tlearn: 1.0848360\ttotal: 2.48s\tremaining: 3.72s\n",
            "690:\tlearn: 1.0847553\ttotal: 2.52s\tremaining: 3.68s\n",
            "700:\tlearn: 1.0846201\ttotal: 2.56s\tremaining: 3.64s\n",
            "710:\tlearn: 1.0845335\ttotal: 2.6s\tremaining: 3.61s\n",
            "720:\tlearn: 1.0844048\ttotal: 2.63s\tremaining: 3.58s\n",
            "730:\tlearn: 1.0842854\ttotal: 2.67s\tremaining: 3.54s\n",
            "740:\tlearn: 1.0841495\ttotal: 2.71s\tremaining: 3.51s\n",
            "750:\tlearn: 1.0840802\ttotal: 2.75s\tremaining: 3.47s\n",
            "760:\tlearn: 1.0839745\ttotal: 2.78s\tremaining: 3.43s\n",
            "770:\tlearn: 1.0838759\ttotal: 2.82s\tremaining: 3.4s\n",
            "780:\tlearn: 1.0837386\ttotal: 2.86s\tremaining: 3.37s\n",
            "790:\tlearn: 1.0836079\ttotal: 2.9s\tremaining: 3.33s\n",
            "800:\tlearn: 1.0835234\ttotal: 2.93s\tremaining: 3.29s\n",
            "810:\tlearn: 1.0834314\ttotal: 2.97s\tremaining: 3.25s\n",
            "820:\tlearn: 1.0833277\ttotal: 3s\tremaining: 3.21s\n",
            "830:\tlearn: 1.0832206\ttotal: 3.04s\tremaining: 3.18s\n",
            "840:\tlearn: 1.0831194\ttotal: 3.08s\tremaining: 3.15s\n",
            "850:\tlearn: 1.0829993\ttotal: 3.12s\tremaining: 3.11s\n",
            "860:\tlearn: 1.0828897\ttotal: 3.18s\tremaining: 3.1s\n",
            "870:\tlearn: 1.0827735\ttotal: 3.21s\tremaining: 3.06s\n",
            "880:\tlearn: 1.0826968\ttotal: 3.26s\tremaining: 3.03s\n",
            "890:\tlearn: 1.0826074\ttotal: 3.29s\tremaining: 2.99s\n",
            "900:\tlearn: 1.0825465\ttotal: 3.33s\tremaining: 2.95s\n",
            "910:\tlearn: 1.0824411\ttotal: 3.37s\tremaining: 2.92s\n",
            "920:\tlearn: 1.0823871\ttotal: 3.4s\tremaining: 2.88s\n",
            "930:\tlearn: 1.0822994\ttotal: 3.44s\tremaining: 2.84s\n",
            "940:\tlearn: 1.0821903\ttotal: 3.48s\tremaining: 2.81s\n",
            "950:\tlearn: 1.0820596\ttotal: 3.52s\tremaining: 2.77s\n",
            "960:\tlearn: 1.0819464\ttotal: 3.56s\tremaining: 2.74s\n",
            "970:\tlearn: 1.0818562\ttotal: 3.6s\tremaining: 2.7s\n",
            "980:\tlearn: 1.0817431\ttotal: 3.63s\tremaining: 2.66s\n",
            "990:\tlearn: 1.0816750\ttotal: 3.67s\tremaining: 2.63s\n",
            "1000:\tlearn: 1.0815965\ttotal: 3.71s\tremaining: 2.59s\n",
            "1010:\tlearn: 1.0815246\ttotal: 3.75s\tremaining: 2.55s\n",
            "1020:\tlearn: 1.0814661\ttotal: 3.78s\tremaining: 2.52s\n",
            "1030:\tlearn: 1.0813748\ttotal: 3.82s\tremaining: 2.48s\n",
            "1040:\tlearn: 1.0812619\ttotal: 3.86s\tremaining: 2.44s\n",
            "1050:\tlearn: 1.0811703\ttotal: 3.89s\tremaining: 2.4s\n",
            "1060:\tlearn: 1.0811033\ttotal: 3.94s\tremaining: 2.37s\n",
            "1070:\tlearn: 1.0810216\ttotal: 3.98s\tremaining: 2.34s\n",
            "1080:\tlearn: 1.0809326\ttotal: 4.02s\tremaining: 2.3s\n",
            "1090:\tlearn: 1.0808532\ttotal: 4.05s\tremaining: 2.26s\n",
            "1100:\tlearn: 1.0808038\ttotal: 4.09s\tremaining: 2.23s\n",
            "1110:\tlearn: 1.0806872\ttotal: 4.15s\tremaining: 2.2s\n",
            "1120:\tlearn: 1.0805865\ttotal: 4.19s\tremaining: 2.17s\n",
            "1130:\tlearn: 1.0804997\ttotal: 4.23s\tremaining: 2.13s\n",
            "1140:\tlearn: 1.0804021\ttotal: 4.26s\tremaining: 2.09s\n",
            "1150:\tlearn: 1.0803259\ttotal: 4.3s\tremaining: 2.05s\n",
            "1160:\tlearn: 1.0802313\ttotal: 4.34s\tremaining: 2.01s\n",
            "1170:\tlearn: 1.0801413\ttotal: 4.39s\tremaining: 1.98s\n",
            "1180:\tlearn: 1.0800508\ttotal: 4.42s\tremaining: 1.94s\n",
            "1190:\tlearn: 1.0799826\ttotal: 4.46s\tremaining: 1.91s\n",
            "1200:\tlearn: 1.0799079\ttotal: 4.5s\tremaining: 1.87s\n",
            "1210:\tlearn: 1.0798415\ttotal: 4.53s\tremaining: 1.83s\n",
            "1220:\tlearn: 1.0797720\ttotal: 4.57s\tremaining: 1.79s\n",
            "1230:\tlearn: 1.0797060\ttotal: 4.61s\tremaining: 1.76s\n",
            "1240:\tlearn: 1.0796394\ttotal: 4.65s\tremaining: 1.72s\n",
            "1250:\tlearn: 1.0795796\ttotal: 4.69s\tremaining: 1.68s\n",
            "1260:\tlearn: 1.0795272\ttotal: 4.72s\tremaining: 1.64s\n",
            "1270:\tlearn: 1.0794559\ttotal: 4.76s\tremaining: 1.61s\n",
            "1280:\tlearn: 1.0793910\ttotal: 4.8s\tremaining: 1.57s\n",
            "1290:\tlearn: 1.0792854\ttotal: 4.84s\tremaining: 1.53s\n",
            "1300:\tlearn: 1.0792069\ttotal: 4.88s\tremaining: 1.5s\n",
            "1310:\tlearn: 1.0791214\ttotal: 4.92s\tremaining: 1.46s\n",
            "1320:\tlearn: 1.0790504\ttotal: 4.96s\tremaining: 1.42s\n",
            "1330:\tlearn: 1.0789792\ttotal: 5s\tremaining: 1.39s\n",
            "1340:\tlearn: 1.0789070\ttotal: 5.04s\tremaining: 1.35s\n",
            "1350:\tlearn: 1.0788172\ttotal: 5.08s\tremaining: 1.31s\n",
            "1360:\tlearn: 1.0787516\ttotal: 5.12s\tremaining: 1.27s\n",
            "1370:\tlearn: 1.0786937\ttotal: 5.17s\tremaining: 1.24s\n",
            "1380:\tlearn: 1.0786240\ttotal: 5.2s\tremaining: 1.2s\n",
            "1390:\tlearn: 1.0785765\ttotal: 5.25s\tremaining: 1.17s\n",
            "1400:\tlearn: 1.0784917\ttotal: 5.29s\tremaining: 1.13s\n",
            "1410:\tlearn: 1.0784066\ttotal: 5.33s\tremaining: 1.09s\n",
            "1420:\tlearn: 1.0783062\ttotal: 5.37s\tremaining: 1.05s\n",
            "1430:\tlearn: 1.0782468\ttotal: 5.41s\tremaining: 1.02s\n",
            "1440:\tlearn: 1.0781696\ttotal: 5.45s\tremaining: 979ms\n",
            "1450:\tlearn: 1.0781134\ttotal: 5.48s\tremaining: 941ms\n",
            "1460:\tlearn: 1.0780559\ttotal: 5.52s\tremaining: 903ms\n",
            "1470:\tlearn: 1.0780007\ttotal: 5.56s\tremaining: 866ms\n",
            "1480:\tlearn: 1.0779512\ttotal: 5.61s\tremaining: 830ms\n",
            "1490:\tlearn: 1.0778898\ttotal: 5.65s\tremaining: 793ms\n",
            "1500:\tlearn: 1.0778424\ttotal: 5.69s\tremaining: 755ms\n",
            "1510:\tlearn: 1.0777595\ttotal: 5.73s\tremaining: 717ms\n",
            "1520:\tlearn: 1.0776756\ttotal: 5.77s\tremaining: 679ms\n",
            "1530:\tlearn: 1.0775908\ttotal: 5.8s\tremaining: 641ms\n",
            "1540:\tlearn: 1.0775232\ttotal: 5.84s\tremaining: 603ms\n",
            "1550:\tlearn: 1.0774432\ttotal: 5.89s\tremaining: 566ms\n",
            "1560:\tlearn: 1.0773943\ttotal: 5.92s\tremaining: 528ms\n",
            "1570:\tlearn: 1.0773231\ttotal: 5.96s\tremaining: 490ms\n",
            "1580:\tlearn: 1.0772708\ttotal: 6s\tremaining: 452ms\n",
            "1590:\tlearn: 1.0772074\ttotal: 6.04s\tremaining: 414ms\n",
            "1600:\tlearn: 1.0771230\ttotal: 6.08s\tremaining: 376ms\n",
            "1610:\tlearn: 1.0770640\ttotal: 6.12s\tremaining: 338ms\n",
            "1620:\tlearn: 1.0770040\ttotal: 6.17s\tremaining: 301ms\n",
            "1630:\tlearn: 1.0769385\ttotal: 6.2s\tremaining: 262ms\n",
            "1640:\tlearn: 1.0768936\ttotal: 6.25s\tremaining: 225ms\n",
            "1650:\tlearn: 1.0768049\ttotal: 6.29s\tremaining: 187ms\n",
            "1660:\tlearn: 1.0767442\ttotal: 6.33s\tremaining: 149ms\n",
            "1670:\tlearn: 1.0766921\ttotal: 6.37s\tremaining: 111ms\n",
            "1680:\tlearn: 1.0766352\ttotal: 6.41s\tremaining: 72.5ms\n",
            "1690:\tlearn: 1.0765809\ttotal: 6.45s\tremaining: 34.3ms\n",
            "1699:\tlearn: 1.0765218\ttotal: 6.48s\tremaining: 0us\n",
            "Fold 5, Valid score = 1.09132\n"
          ],
          "name": "stdout"
        },
        {
          "output_type": "stream",
          "text": [
            "Warning: less than 75% gpu memory available for training. Free: 7809.75 Total: 15109.75\n"
          ],
          "name": "stderr"
        },
        {
          "output_type": "stream",
          "text": [
            "0:\tlearn: 1.3358560\ttotal: 4.55ms\tremaining: 7.73s\n",
            "10:\tlearn: 1.1506490\ttotal: 38.3ms\tremaining: 5.89s\n",
            "20:\tlearn: 1.1187239\ttotal: 72.5ms\tremaining: 5.8s\n",
            "30:\tlearn: 1.1110360\ttotal: 115ms\tremaining: 6.2s\n",
            "40:\tlearn: 1.1085911\ttotal: 154ms\tremaining: 6.21s\n",
            "50:\tlearn: 1.1067379\ttotal: 191ms\tremaining: 6.17s\n",
            "60:\tlearn: 1.1054622\ttotal: 226ms\tremaining: 6.08s\n",
            "70:\tlearn: 1.1044918\ttotal: 266ms\tremaining: 6.1s\n",
            "80:\tlearn: 1.1033010\ttotal: 300ms\tremaining: 5.99s\n",
            "90:\tlearn: 1.1023078\ttotal: 334ms\tremaining: 5.9s\n",
            "100:\tlearn: 1.1013128\ttotal: 367ms\tremaining: 5.82s\n",
            "110:\tlearn: 1.1005225\ttotal: 401ms\tremaining: 5.74s\n",
            "120:\tlearn: 1.0997717\ttotal: 449ms\tremaining: 5.86s\n",
            "130:\tlearn: 1.0989748\ttotal: 485ms\tremaining: 5.81s\n",
            "140:\tlearn: 1.0983482\ttotal: 518ms\tremaining: 5.73s\n",
            "150:\tlearn: 1.0977306\ttotal: 552ms\tremaining: 5.66s\n",
            "160:\tlearn: 1.0971425\ttotal: 586ms\tremaining: 5.6s\n",
            "170:\tlearn: 1.0965254\ttotal: 619ms\tremaining: 5.53s\n",
            "180:\tlearn: 1.0959883\ttotal: 665ms\tremaining: 5.58s\n",
            "190:\tlearn: 1.0954873\ttotal: 698ms\tremaining: 5.52s\n",
            "200:\tlearn: 1.0949391\ttotal: 732ms\tremaining: 5.46s\n",
            "210:\tlearn: 1.0945102\ttotal: 765ms\tremaining: 5.4s\n",
            "220:\tlearn: 1.0940951\ttotal: 799ms\tremaining: 5.34s\n",
            "230:\tlearn: 1.0937835\ttotal: 832ms\tremaining: 5.29s\n",
            "240:\tlearn: 1.0933155\ttotal: 870ms\tremaining: 5.27s\n",
            "250:\tlearn: 1.0929517\ttotal: 904ms\tremaining: 5.22s\n",
            "260:\tlearn: 1.0926024\ttotal: 937ms\tremaining: 5.17s\n",
            "270:\tlearn: 1.0922602\ttotal: 975ms\tremaining: 5.14s\n",
            "280:\tlearn: 1.0919685\ttotal: 1.01s\tremaining: 5.08s\n",
            "290:\tlearn: 1.0916964\ttotal: 1.04s\tremaining: 5.05s\n",
            "300:\tlearn: 1.0913849\ttotal: 1.08s\tremaining: 5.03s\n",
            "310:\tlearn: 1.0911282\ttotal: 1.11s\tremaining: 4.98s\n",
            "320:\tlearn: 1.0908143\ttotal: 1.15s\tremaining: 4.93s\n",
            "330:\tlearn: 1.0905331\ttotal: 1.18s\tremaining: 4.89s\n",
            "340:\tlearn: 1.0902770\ttotal: 1.22s\tremaining: 4.86s\n",
            "350:\tlearn: 1.0900553\ttotal: 1.27s\tremaining: 4.87s\n",
            "360:\tlearn: 1.0897980\ttotal: 1.31s\tremaining: 4.85s\n",
            "370:\tlearn: 1.0895631\ttotal: 1.34s\tremaining: 4.8s\n",
            "380:\tlearn: 1.0893943\ttotal: 1.37s\tremaining: 4.75s\n",
            "390:\tlearn: 1.0891406\ttotal: 1.41s\tremaining: 4.71s\n",
            "400:\tlearn: 1.0888590\ttotal: 1.44s\tremaining: 4.67s\n",
            "410:\tlearn: 1.0886505\ttotal: 1.48s\tremaining: 4.64s\n",
            "420:\tlearn: 1.0884384\ttotal: 1.52s\tremaining: 4.61s\n",
            "430:\tlearn: 1.0882510\ttotal: 1.55s\tremaining: 4.56s\n",
            "440:\tlearn: 1.0880848\ttotal: 1.58s\tremaining: 4.52s\n",
            "450:\tlearn: 1.0879509\ttotal: 1.62s\tremaining: 4.48s\n",
            "460:\tlearn: 1.0877862\ttotal: 1.65s\tremaining: 4.43s\n",
            "470:\tlearn: 1.0876379\ttotal: 1.68s\tremaining: 4.4s\n",
            "480:\tlearn: 1.0874783\ttotal: 1.73s\tremaining: 4.38s\n",
            "490:\tlearn: 1.0873154\ttotal: 1.76s\tremaining: 4.34s\n",
            "500:\tlearn: 1.0871457\ttotal: 1.8s\tremaining: 4.31s\n",
            "510:\tlearn: 1.0869251\ttotal: 1.83s\tremaining: 4.27s\n",
            "520:\tlearn: 1.0867911\ttotal: 1.87s\tremaining: 4.23s\n",
            "530:\tlearn: 1.0866292\ttotal: 1.9s\tremaining: 4.19s\n",
            "540:\tlearn: 1.0864336\ttotal: 1.96s\tremaining: 4.19s\n",
            "550:\tlearn: 1.0862976\ttotal: 1.99s\tremaining: 4.15s\n",
            "560:\tlearn: 1.0861750\ttotal: 2.03s\tremaining: 4.12s\n",
            "570:\tlearn: 1.0860069\ttotal: 2.06s\tremaining: 4.08s\n",
            "580:\tlearn: 1.0858669\ttotal: 2.11s\tremaining: 4.06s\n",
            "590:\tlearn: 1.0857579\ttotal: 2.14s\tremaining: 4.02s\n",
            "600:\tlearn: 1.0856061\ttotal: 2.18s\tremaining: 3.99s\n",
            "610:\tlearn: 1.0854702\ttotal: 2.22s\tremaining: 3.95s\n",
            "620:\tlearn: 1.0853178\ttotal: 2.26s\tremaining: 3.93s\n",
            "630:\tlearn: 1.0852158\ttotal: 2.3s\tremaining: 3.9s\n",
            "640:\tlearn: 1.0851125\ttotal: 2.34s\tremaining: 3.86s\n",
            "650:\tlearn: 1.0849845\ttotal: 2.37s\tremaining: 3.82s\n",
            "660:\tlearn: 1.0848852\ttotal: 2.42s\tremaining: 3.8s\n",
            "670:\tlearn: 1.0847759\ttotal: 2.45s\tremaining: 3.76s\n",
            "680:\tlearn: 1.0846530\ttotal: 2.49s\tremaining: 3.72s\n",
            "690:\tlearn: 1.0845372\ttotal: 2.53s\tremaining: 3.69s\n",
            "700:\tlearn: 1.0844120\ttotal: 2.56s\tremaining: 3.65s\n",
            "710:\tlearn: 1.0843437\ttotal: 2.6s\tremaining: 3.62s\n",
            "720:\tlearn: 1.0842569\ttotal: 2.64s\tremaining: 3.58s\n",
            "730:\tlearn: 1.0841490\ttotal: 2.67s\tremaining: 3.55s\n",
            "740:\tlearn: 1.0840340\ttotal: 2.71s\tremaining: 3.51s\n",
            "750:\tlearn: 1.0839246\ttotal: 2.75s\tremaining: 3.47s\n",
            "760:\tlearn: 1.0837937\ttotal: 2.79s\tremaining: 3.44s\n",
            "770:\tlearn: 1.0836856\ttotal: 2.82s\tremaining: 3.4s\n",
            "780:\tlearn: 1.0835859\ttotal: 2.86s\tremaining: 3.37s\n",
            "790:\tlearn: 1.0834867\ttotal: 2.9s\tremaining: 3.33s\n",
            "800:\tlearn: 1.0833940\ttotal: 2.94s\tremaining: 3.29s\n",
            "810:\tlearn: 1.0832978\ttotal: 2.97s\tremaining: 3.26s\n",
            "820:\tlearn: 1.0831898\ttotal: 3.01s\tremaining: 3.23s\n",
            "830:\tlearn: 1.0830781\ttotal: 3.05s\tremaining: 3.19s\n",
            "840:\tlearn: 1.0829849\ttotal: 3.09s\tremaining: 3.16s\n",
            "850:\tlearn: 1.0828890\ttotal: 3.13s\tremaining: 3.12s\n",
            "860:\tlearn: 1.0828131\ttotal: 3.19s\tremaining: 3.11s\n",
            "870:\tlearn: 1.0827313\ttotal: 3.24s\tremaining: 3.08s\n",
            "880:\tlearn: 1.0826339\ttotal: 3.28s\tremaining: 3.05s\n",
            "890:\tlearn: 1.0824952\ttotal: 3.32s\tremaining: 3.02s\n",
            "900:\tlearn: 1.0824053\ttotal: 3.36s\tremaining: 2.98s\n",
            "910:\tlearn: 1.0823188\ttotal: 3.4s\tremaining: 2.94s\n",
            "920:\tlearn: 1.0822366\ttotal: 3.43s\tremaining: 2.9s\n",
            "930:\tlearn: 1.0821382\ttotal: 3.47s\tremaining: 2.87s\n",
            "940:\tlearn: 1.0820821\ttotal: 3.5s\tremaining: 2.83s\n",
            "950:\tlearn: 1.0819806\ttotal: 3.55s\tremaining: 2.79s\n",
            "960:\tlearn: 1.0818824\ttotal: 3.58s\tremaining: 2.76s\n",
            "970:\tlearn: 1.0817868\ttotal: 3.62s\tremaining: 2.72s\n",
            "980:\tlearn: 1.0816905\ttotal: 3.66s\tremaining: 2.68s\n",
            "990:\tlearn: 1.0815879\ttotal: 3.7s\tremaining: 2.65s\n",
            "1000:\tlearn: 1.0814818\ttotal: 3.73s\tremaining: 2.61s\n",
            "1010:\tlearn: 1.0813984\ttotal: 3.79s\tremaining: 2.58s\n",
            "1020:\tlearn: 1.0813278\ttotal: 3.83s\tremaining: 2.54s\n",
            "1030:\tlearn: 1.0812345\ttotal: 3.86s\tremaining: 2.51s\n",
            "1040:\tlearn: 1.0811197\ttotal: 3.9s\tremaining: 2.47s\n",
            "1050:\tlearn: 1.0810377\ttotal: 3.94s\tremaining: 2.43s\n",
            "1060:\tlearn: 1.0809568\ttotal: 3.98s\tremaining: 2.4s\n",
            "1070:\tlearn: 1.0809023\ttotal: 4.02s\tremaining: 2.36s\n",
            "1080:\tlearn: 1.0808115\ttotal: 4.06s\tremaining: 2.32s\n",
            "1090:\tlearn: 1.0807374\ttotal: 4.09s\tremaining: 2.29s\n",
            "1100:\tlearn: 1.0806646\ttotal: 4.13s\tremaining: 2.25s\n",
            "1110:\tlearn: 1.0805878\ttotal: 4.17s\tremaining: 2.21s\n",
            "1120:\tlearn: 1.0804896\ttotal: 4.23s\tremaining: 2.18s\n",
            "1130:\tlearn: 1.0804319\ttotal: 4.26s\tremaining: 2.15s\n",
            "1140:\tlearn: 1.0803486\ttotal: 4.3s\tremaining: 2.11s\n",
            "1150:\tlearn: 1.0802773\ttotal: 4.34s\tremaining: 2.07s\n",
            "1160:\tlearn: 1.0801937\ttotal: 4.38s\tremaining: 2.03s\n",
            "1170:\tlearn: 1.0801446\ttotal: 4.42s\tremaining: 2s\n",
            "1180:\tlearn: 1.0800549\ttotal: 4.46s\tremaining: 1.96s\n",
            "1190:\tlearn: 1.0799708\ttotal: 4.5s\tremaining: 1.92s\n",
            "1200:\tlearn: 1.0798935\ttotal: 4.54s\tremaining: 1.89s\n",
            "1210:\tlearn: 1.0798036\ttotal: 4.58s\tremaining: 1.85s\n",
            "1220:\tlearn: 1.0797264\ttotal: 4.62s\tremaining: 1.81s\n",
            "1230:\tlearn: 1.0796510\ttotal: 4.66s\tremaining: 1.77s\n",
            "1240:\tlearn: 1.0795728\ttotal: 4.7s\tremaining: 1.74s\n",
            "1250:\tlearn: 1.0794863\ttotal: 4.74s\tremaining: 1.7s\n",
            "1260:\tlearn: 1.0794058\ttotal: 4.78s\tremaining: 1.66s\n",
            "1270:\tlearn: 1.0793479\ttotal: 4.81s\tremaining: 1.62s\n",
            "1280:\tlearn: 1.0792644\ttotal: 4.85s\tremaining: 1.59s\n",
            "1290:\tlearn: 1.0792077\ttotal: 4.89s\tremaining: 1.55s\n",
            "1300:\tlearn: 1.0791289\ttotal: 4.93s\tremaining: 1.51s\n",
            "1310:\tlearn: 1.0790520\ttotal: 4.97s\tremaining: 1.48s\n",
            "1320:\tlearn: 1.0789837\ttotal: 5.01s\tremaining: 1.44s\n",
            "1330:\tlearn: 1.0789135\ttotal: 5.05s\tremaining: 1.4s\n",
            "1340:\tlearn: 1.0788585\ttotal: 5.09s\tremaining: 1.36s\n",
            "1350:\tlearn: 1.0788209\ttotal: 5.13s\tremaining: 1.32s\n",
            "1360:\tlearn: 1.0787433\ttotal: 5.17s\tremaining: 1.29s\n",
            "1370:\tlearn: 1.0786822\ttotal: 5.22s\tremaining: 1.25s\n",
            "1380:\tlearn: 1.0785964\ttotal: 5.26s\tremaining: 1.22s\n",
            "1390:\tlearn: 1.0785487\ttotal: 5.3s\tremaining: 1.18s\n",
            "1400:\tlearn: 1.0784658\ttotal: 5.35s\tremaining: 1.14s\n",
            "1410:\tlearn: 1.0784042\ttotal: 5.39s\tremaining: 1.1s\n",
            "1420:\tlearn: 1.0783293\ttotal: 5.43s\tremaining: 1.07s\n",
            "1430:\tlearn: 1.0782872\ttotal: 5.47s\tremaining: 1.03s\n",
            "1440:\tlearn: 1.0782177\ttotal: 5.51s\tremaining: 991ms\n",
            "1450:\tlearn: 1.0781572\ttotal: 5.56s\tremaining: 954ms\n",
            "1460:\tlearn: 1.0780981\ttotal: 5.61s\tremaining: 917ms\n",
            "1470:\tlearn: 1.0780359\ttotal: 5.65s\tremaining: 879ms\n",
            "1480:\tlearn: 1.0779576\ttotal: 5.69s\tremaining: 841ms\n",
            "1490:\tlearn: 1.0778950\ttotal: 5.73s\tremaining: 803ms\n",
            "1500:\tlearn: 1.0778334\ttotal: 5.77s\tremaining: 765ms\n",
            "1510:\tlearn: 1.0777667\ttotal: 5.81s\tremaining: 727ms\n",
            "1520:\tlearn: 1.0776994\ttotal: 5.85s\tremaining: 689ms\n",
            "1530:\tlearn: 1.0776407\ttotal: 5.9s\tremaining: 651ms\n",
            "1540:\tlearn: 1.0775519\ttotal: 5.94s\tremaining: 613ms\n",
            "1550:\tlearn: 1.0774872\ttotal: 5.98s\tremaining: 574ms\n",
            "1560:\tlearn: 1.0774069\ttotal: 6.03s\tremaining: 537ms\n",
            "1570:\tlearn: 1.0773415\ttotal: 6.07s\tremaining: 499ms\n",
            "1580:\tlearn: 1.0772701\ttotal: 6.11s\tremaining: 460ms\n",
            "1590:\tlearn: 1.0771805\ttotal: 6.16s\tremaining: 422ms\n",
            "1600:\tlearn: 1.0771152\ttotal: 6.2s\tremaining: 384ms\n",
            "1610:\tlearn: 1.0770568\ttotal: 6.25s\tremaining: 345ms\n",
            "1620:\tlearn: 1.0769939\ttotal: 6.29s\tremaining: 307ms\n",
            "1630:\tlearn: 1.0769304\ttotal: 6.33s\tremaining: 268ms\n",
            "1640:\tlearn: 1.0768655\ttotal: 6.38s\tremaining: 229ms\n",
            "1650:\tlearn: 1.0768047\ttotal: 6.42s\tremaining: 190ms\n",
            "1660:\tlearn: 1.0767587\ttotal: 6.46s\tremaining: 152ms\n",
            "1670:\tlearn: 1.0766846\ttotal: 6.5s\tremaining: 113ms\n",
            "1680:\tlearn: 1.0766245\ttotal: 6.54s\tremaining: 74ms\n",
            "1690:\tlearn: 1.0765591\ttotal: 6.58s\tremaining: 35ms\n",
            "1699:\tlearn: 1.0764953\ttotal: 6.63s\tremaining: 0us\n",
            "Fold 6, Valid score = 1.08983\n"
          ],
          "name": "stdout"
        },
        {
          "output_type": "stream",
          "text": [
            "Warning: less than 75% gpu memory available for training. Free: 7809.75 Total: 15109.75\n"
          ],
          "name": "stderr"
        },
        {
          "output_type": "stream",
          "text": [
            "0:\tlearn: 1.3353526\ttotal: 5.07ms\tremaining: 8.61s\n",
            "10:\tlearn: 1.1503368\ttotal: 41.2ms\tremaining: 6.32s\n",
            "20:\tlearn: 1.1185383\ttotal: 79.5ms\tremaining: 6.36s\n",
            "30:\tlearn: 1.1109338\ttotal: 116ms\tremaining: 6.22s\n",
            "40:\tlearn: 1.1085331\ttotal: 153ms\tremaining: 6.19s\n",
            "50:\tlearn: 1.1069139\ttotal: 194ms\tremaining: 6.26s\n",
            "60:\tlearn: 1.1056520\ttotal: 233ms\tremaining: 6.27s\n",
            "70:\tlearn: 1.1046285\ttotal: 266ms\tremaining: 6.11s\n",
            "80:\tlearn: 1.1032847\ttotal: 309ms\tremaining: 6.18s\n",
            "90:\tlearn: 1.1022847\ttotal: 344ms\tremaining: 6.08s\n",
            "100:\tlearn: 1.1013187\ttotal: 380ms\tremaining: 6.01s\n",
            "110:\tlearn: 1.1005207\ttotal: 413ms\tremaining: 5.92s\n",
            "120:\tlearn: 1.0997788\ttotal: 454ms\tremaining: 5.93s\n",
            "130:\tlearn: 1.0989819\ttotal: 492ms\tremaining: 5.9s\n",
            "140:\tlearn: 1.0982632\ttotal: 532ms\tremaining: 5.88s\n",
            "150:\tlearn: 1.0975611\ttotal: 568ms\tremaining: 5.82s\n",
            "160:\tlearn: 1.0970523\ttotal: 603ms\tremaining: 5.76s\n",
            "170:\tlearn: 1.0963759\ttotal: 639ms\tremaining: 5.71s\n",
            "180:\tlearn: 1.0959039\ttotal: 680ms\tremaining: 5.71s\n",
            "190:\tlearn: 1.0953944\ttotal: 716ms\tremaining: 5.66s\n",
            "200:\tlearn: 1.0949503\ttotal: 757ms\tremaining: 5.64s\n",
            "210:\tlearn: 1.0945554\ttotal: 794ms\tremaining: 5.61s\n",
            "220:\tlearn: 1.0941716\ttotal: 832ms\tremaining: 5.57s\n",
            "230:\tlearn: 1.0938270\ttotal: 867ms\tremaining: 5.51s\n",
            "240:\tlearn: 1.0933479\ttotal: 909ms\tremaining: 5.5s\n",
            "250:\tlearn: 1.0929893\ttotal: 945ms\tremaining: 5.46s\n",
            "260:\tlearn: 1.0926514\ttotal: 981ms\tremaining: 5.41s\n",
            "270:\tlearn: 1.0923253\ttotal: 1.03s\tremaining: 5.42s\n",
            "280:\tlearn: 1.0920455\ttotal: 1.06s\tremaining: 5.37s\n",
            "290:\tlearn: 1.0918424\ttotal: 1.1s\tremaining: 5.33s\n",
            "300:\tlearn: 1.0915431\ttotal: 1.15s\tremaining: 5.35s\n",
            "310:\tlearn: 1.0912947\ttotal: 1.2s\tremaining: 5.37s\n",
            "320:\tlearn: 1.0909784\ttotal: 1.24s\tremaining: 5.32s\n",
            "330:\tlearn: 1.0907756\ttotal: 1.28s\tremaining: 5.28s\n",
            "340:\tlearn: 1.0904793\ttotal: 1.31s\tremaining: 5.23s\n",
            "350:\tlearn: 1.0902082\ttotal: 1.35s\tremaining: 5.18s\n",
            "360:\tlearn: 1.0899893\ttotal: 1.39s\tremaining: 5.14s\n",
            "370:\tlearn: 1.0897323\ttotal: 1.42s\tremaining: 5.09s\n",
            "380:\tlearn: 1.0895716\ttotal: 1.46s\tremaining: 5.05s\n",
            "390:\tlearn: 1.0893508\ttotal: 1.49s\tremaining: 5s\n",
            "400:\tlearn: 1.0891481\ttotal: 1.53s\tremaining: 4.96s\n",
            "410:\tlearn: 1.0889696\ttotal: 1.57s\tremaining: 4.93s\n",
            "420:\tlearn: 1.0887964\ttotal: 1.61s\tremaining: 4.89s\n",
            "430:\tlearn: 1.0885852\ttotal: 1.65s\tremaining: 4.85s\n",
            "440:\tlearn: 1.0883566\ttotal: 1.68s\tremaining: 4.8s\n",
            "450:\tlearn: 1.0882116\ttotal: 1.72s\tremaining: 4.76s\n",
            "460:\tlearn: 1.0880494\ttotal: 1.75s\tremaining: 4.71s\n",
            "470:\tlearn: 1.0878515\ttotal: 1.8s\tremaining: 4.69s\n",
            "480:\tlearn: 1.0877215\ttotal: 1.83s\tremaining: 4.65s\n",
            "490:\tlearn: 1.0875161\ttotal: 1.87s\tremaining: 4.61s\n",
            "500:\tlearn: 1.0873606\ttotal: 1.91s\tremaining: 4.57s\n",
            "510:\tlearn: 1.0871866\ttotal: 1.95s\tremaining: 4.54s\n",
            "520:\tlearn: 1.0870268\ttotal: 1.99s\tremaining: 4.51s\n",
            "530:\tlearn: 1.0868766\ttotal: 2.03s\tremaining: 4.48s\n",
            "540:\tlearn: 1.0867227\ttotal: 2.07s\tremaining: 4.44s\n",
            "550:\tlearn: 1.0866176\ttotal: 2.11s\tremaining: 4.41s\n",
            "560:\tlearn: 1.0864436\ttotal: 2.15s\tremaining: 4.37s\n",
            "570:\tlearn: 1.0862959\ttotal: 2.2s\tremaining: 4.36s\n",
            "580:\tlearn: 1.0861602\ttotal: 2.25s\tremaining: 4.34s\n",
            "590:\tlearn: 1.0860067\ttotal: 2.29s\tremaining: 4.3s\n",
            "600:\tlearn: 1.0859026\ttotal: 2.33s\tremaining: 4.26s\n",
            "610:\tlearn: 1.0857541\ttotal: 2.37s\tremaining: 4.22s\n",
            "620:\tlearn: 1.0856277\ttotal: 2.41s\tremaining: 4.18s\n",
            "630:\tlearn: 1.0854905\ttotal: 2.45s\tremaining: 4.15s\n",
            "640:\tlearn: 1.0853552\ttotal: 2.5s\tremaining: 4.12s\n",
            "650:\tlearn: 1.0852431\ttotal: 2.54s\tremaining: 4.08s\n",
            "660:\tlearn: 1.0851378\ttotal: 2.57s\tremaining: 4.05s\n",
            "670:\tlearn: 1.0850035\ttotal: 2.61s\tremaining: 4.01s\n",
            "680:\tlearn: 1.0849009\ttotal: 2.65s\tremaining: 3.97s\n",
            "690:\tlearn: 1.0847936\ttotal: 2.69s\tremaining: 3.93s\n",
            "700:\tlearn: 1.0846798\ttotal: 2.73s\tremaining: 3.9s\n",
            "710:\tlearn: 1.0845616\ttotal: 2.77s\tremaining: 3.86s\n",
            "720:\tlearn: 1.0844845\ttotal: 2.81s\tremaining: 3.82s\n",
            "730:\tlearn: 1.0843920\ttotal: 2.85s\tremaining: 3.78s\n",
            "740:\tlearn: 1.0843108\ttotal: 2.9s\tremaining: 3.75s\n",
            "750:\tlearn: 1.0842042\ttotal: 2.94s\tremaining: 3.72s\n",
            "760:\tlearn: 1.0841263\ttotal: 2.98s\tremaining: 3.68s\n",
            "770:\tlearn: 1.0840156\ttotal: 3.02s\tremaining: 3.64s\n",
            "780:\tlearn: 1.0839112\ttotal: 3.06s\tremaining: 3.6s\n",
            "790:\tlearn: 1.0838148\ttotal: 3.1s\tremaining: 3.56s\n",
            "800:\tlearn: 1.0837481\ttotal: 3.14s\tremaining: 3.52s\n",
            "810:\tlearn: 1.0836737\ttotal: 3.19s\tremaining: 3.5s\n",
            "820:\tlearn: 1.0835619\ttotal: 3.24s\tremaining: 3.46s\n",
            "830:\tlearn: 1.0834521\ttotal: 3.28s\tremaining: 3.43s\n",
            "840:\tlearn: 1.0833031\ttotal: 3.32s\tremaining: 3.39s\n",
            "850:\tlearn: 1.0832246\ttotal: 3.36s\tremaining: 3.35s\n",
            "860:\tlearn: 1.0831453\ttotal: 3.4s\tremaining: 3.31s\n",
            "870:\tlearn: 1.0830530\ttotal: 3.44s\tremaining: 3.27s\n",
            "880:\tlearn: 1.0829606\ttotal: 3.48s\tremaining: 3.23s\n",
            "890:\tlearn: 1.0828692\ttotal: 3.52s\tremaining: 3.2s\n",
            "900:\tlearn: 1.0827754\ttotal: 3.56s\tremaining: 3.16s\n",
            "910:\tlearn: 1.0826722\ttotal: 3.6s\tremaining: 3.12s\n",
            "920:\tlearn: 1.0825740\ttotal: 3.64s\tremaining: 3.08s\n",
            "930:\tlearn: 1.0824617\ttotal: 3.68s\tremaining: 3.04s\n",
            "940:\tlearn: 1.0824005\ttotal: 3.72s\tremaining: 3s\n",
            "950:\tlearn: 1.0823241\ttotal: 3.76s\tremaining: 2.96s\n",
            "960:\tlearn: 1.0822041\ttotal: 3.81s\tremaining: 2.93s\n",
            "970:\tlearn: 1.0820890\ttotal: 3.85s\tremaining: 2.89s\n",
            "980:\tlearn: 1.0819792\ttotal: 3.89s\tremaining: 2.85s\n",
            "990:\tlearn: 1.0818776\ttotal: 3.93s\tremaining: 2.81s\n",
            "1000:\tlearn: 1.0817602\ttotal: 3.97s\tremaining: 2.77s\n",
            "1010:\tlearn: 1.0816581\ttotal: 4.01s\tremaining: 2.74s\n",
            "1020:\tlearn: 1.0815529\ttotal: 4.06s\tremaining: 2.7s\n",
            "1030:\tlearn: 1.0814647\ttotal: 4.1s\tremaining: 2.66s\n",
            "1040:\tlearn: 1.0813960\ttotal: 4.14s\tremaining: 2.62s\n",
            "1050:\tlearn: 1.0813045\ttotal: 4.19s\tremaining: 2.59s\n",
            "1060:\tlearn: 1.0812269\ttotal: 4.23s\tremaining: 2.55s\n",
            "1070:\tlearn: 1.0811695\ttotal: 4.27s\tremaining: 2.51s\n",
            "1080:\tlearn: 1.0811038\ttotal: 4.32s\tremaining: 2.47s\n",
            "1090:\tlearn: 1.0810073\ttotal: 4.37s\tremaining: 2.44s\n",
            "1100:\tlearn: 1.0809372\ttotal: 4.41s\tremaining: 2.4s\n",
            "1110:\tlearn: 1.0808482\ttotal: 4.45s\tremaining: 2.36s\n",
            "1120:\tlearn: 1.0807807\ttotal: 4.49s\tremaining: 2.32s\n",
            "1130:\tlearn: 1.0806905\ttotal: 4.54s\tremaining: 2.28s\n",
            "1140:\tlearn: 1.0806104\ttotal: 4.58s\tremaining: 2.24s\n",
            "1150:\tlearn: 1.0805267\ttotal: 4.61s\tremaining: 2.2s\n",
            "1160:\tlearn: 1.0804674\ttotal: 4.66s\tremaining: 2.16s\n",
            "1170:\tlearn: 1.0803896\ttotal: 4.7s\tremaining: 2.12s\n",
            "1180:\tlearn: 1.0803046\ttotal: 4.74s\tremaining: 2.08s\n",
            "1190:\tlearn: 1.0802186\ttotal: 4.78s\tremaining: 2.04s\n",
            "1200:\tlearn: 1.0801384\ttotal: 4.82s\tremaining: 2s\n",
            "1210:\tlearn: 1.0800794\ttotal: 4.86s\tremaining: 1.96s\n",
            "1220:\tlearn: 1.0800050\ttotal: 4.9s\tremaining: 1.92s\n",
            "1230:\tlearn: 1.0799287\ttotal: 4.95s\tremaining: 1.88s\n",
            "1240:\tlearn: 1.0798253\ttotal: 4.99s\tremaining: 1.84s\n",
            "1250:\tlearn: 1.0797438\ttotal: 5.03s\tremaining: 1.8s\n",
            "1260:\tlearn: 1.0796839\ttotal: 5.07s\tremaining: 1.76s\n",
            "1270:\tlearn: 1.0796105\ttotal: 5.11s\tremaining: 1.73s\n",
            "1280:\tlearn: 1.0795443\ttotal: 5.15s\tremaining: 1.69s\n",
            "1290:\tlearn: 1.0794737\ttotal: 5.22s\tremaining: 1.65s\n",
            "1300:\tlearn: 1.0793941\ttotal: 5.26s\tremaining: 1.61s\n",
            "1310:\tlearn: 1.0793074\ttotal: 5.3s\tremaining: 1.57s\n",
            "1320:\tlearn: 1.0792572\ttotal: 5.34s\tremaining: 1.53s\n",
            "1330:\tlearn: 1.0791824\ttotal: 5.38s\tremaining: 1.49s\n",
            "1340:\tlearn: 1.0791143\ttotal: 5.42s\tremaining: 1.45s\n",
            "1350:\tlearn: 1.0790431\ttotal: 5.46s\tremaining: 1.41s\n",
            "1360:\tlearn: 1.0789668\ttotal: 5.51s\tremaining: 1.37s\n",
            "1370:\tlearn: 1.0788934\ttotal: 5.55s\tremaining: 1.33s\n",
            "1380:\tlearn: 1.0788240\ttotal: 5.59s\tremaining: 1.29s\n",
            "1390:\tlearn: 1.0787355\ttotal: 5.63s\tremaining: 1.25s\n",
            "1400:\tlearn: 1.0786648\ttotal: 5.68s\tremaining: 1.21s\n",
            "1410:\tlearn: 1.0785838\ttotal: 5.73s\tremaining: 1.17s\n",
            "1420:\tlearn: 1.0785304\ttotal: 5.77s\tremaining: 1.13s\n",
            "1430:\tlearn: 1.0784623\ttotal: 5.81s\tremaining: 1.09s\n",
            "1440:\tlearn: 1.0783919\ttotal: 5.85s\tremaining: 1.05s\n",
            "1450:\tlearn: 1.0783365\ttotal: 5.89s\tremaining: 1.01s\n",
            "1460:\tlearn: 1.0782786\ttotal: 5.94s\tremaining: 972ms\n",
            "1470:\tlearn: 1.0782043\ttotal: 5.98s\tremaining: 931ms\n",
            "1480:\tlearn: 1.0781344\ttotal: 6.02s\tremaining: 891ms\n",
            "1490:\tlearn: 1.0780742\ttotal: 6.06s\tremaining: 850ms\n",
            "1500:\tlearn: 1.0780054\ttotal: 6.1s\tremaining: 809ms\n",
            "1510:\tlearn: 1.0779319\ttotal: 6.15s\tremaining: 769ms\n",
            "1520:\tlearn: 1.0778508\ttotal: 6.2s\tremaining: 730ms\n",
            "1530:\tlearn: 1.0777873\ttotal: 6.24s\tremaining: 689ms\n",
            "1540:\tlearn: 1.0776978\ttotal: 6.28s\tremaining: 648ms\n",
            "1550:\tlearn: 1.0776414\ttotal: 6.32s\tremaining: 607ms\n",
            "1560:\tlearn: 1.0775444\ttotal: 6.37s\tremaining: 568ms\n",
            "1570:\tlearn: 1.0774720\ttotal: 6.41s\tremaining: 527ms\n",
            "1580:\tlearn: 1.0773770\ttotal: 6.45s\tremaining: 486ms\n",
            "1590:\tlearn: 1.0772801\ttotal: 6.49s\tremaining: 445ms\n",
            "1600:\tlearn: 1.0772228\ttotal: 6.54s\tremaining: 404ms\n",
            "1610:\tlearn: 1.0771785\ttotal: 6.58s\tremaining: 363ms\n",
            "1620:\tlearn: 1.0770830\ttotal: 6.62s\tremaining: 323ms\n",
            "1630:\tlearn: 1.0770390\ttotal: 6.66s\tremaining: 282ms\n",
            "1640:\tlearn: 1.0769449\ttotal: 6.71s\tremaining: 241ms\n",
            "1650:\tlearn: 1.0768752\ttotal: 6.75s\tremaining: 200ms\n",
            "1660:\tlearn: 1.0768177\ttotal: 6.8s\tremaining: 160ms\n",
            "1670:\tlearn: 1.0767431\ttotal: 6.84s\tremaining: 119ms\n",
            "1680:\tlearn: 1.0766764\ttotal: 6.89s\tremaining: 77.8ms\n",
            "1690:\tlearn: 1.0766030\ttotal: 6.93s\tremaining: 36.9ms\n",
            "1699:\tlearn: 1.0765364\ttotal: 6.97s\tremaining: 0us\n",
            "Fold 7, Valid score = 1.08999\n"
          ],
          "name": "stdout"
        },
        {
          "output_type": "stream",
          "text": [
            "Warning: less than 75% gpu memory available for training. Free: 7809.75 Total: 15109.75\n"
          ],
          "name": "stderr"
        },
        {
          "output_type": "stream",
          "text": [
            "0:\tlearn: 1.3358337\ttotal: 4.92ms\tremaining: 8.36s\n",
            "10:\tlearn: 1.1505024\ttotal: 40.7ms\tremaining: 6.24s\n",
            "20:\tlearn: 1.1185602\ttotal: 80.5ms\tremaining: 6.43s\n",
            "30:\tlearn: 1.1109921\ttotal: 117ms\tremaining: 6.27s\n",
            "40:\tlearn: 1.1085191\ttotal: 153ms\tremaining: 6.18s\n",
            "50:\tlearn: 1.1067834\ttotal: 187ms\tremaining: 6.06s\n",
            "60:\tlearn: 1.1055674\ttotal: 225ms\tremaining: 6.05s\n",
            "70:\tlearn: 1.1044235\ttotal: 258ms\tremaining: 5.91s\n",
            "80:\tlearn: 1.1031793\ttotal: 297ms\tremaining: 5.94s\n",
            "90:\tlearn: 1.1022174\ttotal: 332ms\tremaining: 5.87s\n",
            "100:\tlearn: 1.1011620\ttotal: 367ms\tremaining: 5.81s\n",
            "110:\tlearn: 1.1003388\ttotal: 400ms\tremaining: 5.73s\n",
            "120:\tlearn: 1.0995326\ttotal: 445ms\tremaining: 5.81s\n",
            "130:\tlearn: 1.0987475\ttotal: 481ms\tremaining: 5.76s\n",
            "140:\tlearn: 1.0979748\ttotal: 528ms\tremaining: 5.83s\n",
            "150:\tlearn: 1.0972657\ttotal: 568ms\tremaining: 5.83s\n",
            "160:\tlearn: 1.0966934\ttotal: 604ms\tremaining: 5.77s\n",
            "170:\tlearn: 1.0960633\ttotal: 640ms\tremaining: 5.72s\n",
            "180:\tlearn: 1.0956063\ttotal: 679ms\tremaining: 5.7s\n",
            "190:\tlearn: 1.0950396\ttotal: 714ms\tremaining: 5.64s\n",
            "200:\tlearn: 1.0945282\ttotal: 754ms\tremaining: 5.62s\n",
            "210:\tlearn: 1.0940573\ttotal: 802ms\tremaining: 5.66s\n",
            "220:\tlearn: 1.0936511\ttotal: 837ms\tremaining: 5.6s\n",
            "230:\tlearn: 1.0932680\ttotal: 872ms\tremaining: 5.55s\n",
            "240:\tlearn: 1.0928755\ttotal: 912ms\tremaining: 5.52s\n",
            "250:\tlearn: 1.0925997\ttotal: 947ms\tremaining: 5.47s\n",
            "260:\tlearn: 1.0922027\ttotal: 989ms\tremaining: 5.45s\n",
            "270:\tlearn: 1.0918969\ttotal: 1.02s\tremaining: 5.4s\n",
            "280:\tlearn: 1.0916019\ttotal: 1.06s\tremaining: 5.35s\n",
            "290:\tlearn: 1.0913327\ttotal: 1.09s\tremaining: 5.3s\n",
            "300:\tlearn: 1.0910001\ttotal: 1.13s\tremaining: 5.27s\n",
            "310:\tlearn: 1.0907565\ttotal: 1.17s\tremaining: 5.22s\n",
            "320:\tlearn: 1.0904872\ttotal: 1.21s\tremaining: 5.2s\n",
            "330:\tlearn: 1.0901274\ttotal: 1.24s\tremaining: 5.15s\n",
            "340:\tlearn: 1.0898715\ttotal: 1.28s\tremaining: 5.1s\n",
            "350:\tlearn: 1.0897039\ttotal: 1.31s\tremaining: 5.06s\n",
            "360:\tlearn: 1.0894094\ttotal: 1.36s\tremaining: 5.04s\n",
            "370:\tlearn: 1.0892044\ttotal: 1.4s\tremaining: 5s\n",
            "380:\tlearn: 1.0890626\ttotal: 1.44s\tremaining: 4.98s\n",
            "390:\tlearn: 1.0889177\ttotal: 1.48s\tremaining: 4.94s\n",
            "400:\tlearn: 1.0887328\ttotal: 1.51s\tremaining: 4.9s\n",
            "410:\tlearn: 1.0885439\ttotal: 1.55s\tremaining: 4.86s\n",
            "420:\tlearn: 1.0883173\ttotal: 1.59s\tremaining: 4.84s\n",
            "430:\tlearn: 1.0880691\ttotal: 1.63s\tremaining: 4.8s\n",
            "440:\tlearn: 1.0878850\ttotal: 1.67s\tremaining: 4.77s\n",
            "450:\tlearn: 1.0877384\ttotal: 1.71s\tremaining: 4.73s\n",
            "460:\tlearn: 1.0876206\ttotal: 1.75s\tremaining: 4.7s\n",
            "470:\tlearn: 1.0874474\ttotal: 1.8s\tremaining: 4.7s\n",
            "480:\tlearn: 1.0872556\ttotal: 1.84s\tremaining: 4.66s\n",
            "490:\tlearn: 1.0870602\ttotal: 1.88s\tremaining: 4.64s\n",
            "500:\tlearn: 1.0868558\ttotal: 1.92s\tremaining: 4.6s\n",
            "510:\tlearn: 1.0866808\ttotal: 1.96s\tremaining: 4.57s\n",
            "520:\tlearn: 1.0865131\ttotal: 2.01s\tremaining: 4.54s\n",
            "530:\tlearn: 1.0863517\ttotal: 2.04s\tremaining: 4.5s\n",
            "540:\tlearn: 1.0862115\ttotal: 2.08s\tremaining: 4.46s\n",
            "550:\tlearn: 1.0860628\ttotal: 2.12s\tremaining: 4.43s\n",
            "560:\tlearn: 1.0859242\ttotal: 2.16s\tremaining: 4.39s\n",
            "570:\tlearn: 1.0858199\ttotal: 2.21s\tremaining: 4.37s\n",
            "580:\tlearn: 1.0856937\ttotal: 2.25s\tremaining: 4.34s\n",
            "590:\tlearn: 1.0855820\ttotal: 2.3s\tremaining: 4.32s\n",
            "600:\tlearn: 1.0854261\ttotal: 2.34s\tremaining: 4.28s\n",
            "610:\tlearn: 1.0852846\ttotal: 2.38s\tremaining: 4.25s\n",
            "620:\tlearn: 1.0851395\ttotal: 2.42s\tremaining: 4.21s\n",
            "630:\tlearn: 1.0850003\ttotal: 2.47s\tremaining: 4.18s\n",
            "640:\tlearn: 1.0848470\ttotal: 2.51s\tremaining: 4.14s\n",
            "650:\tlearn: 1.0847201\ttotal: 2.55s\tremaining: 4.1s\n",
            "660:\tlearn: 1.0845681\ttotal: 2.59s\tremaining: 4.07s\n",
            "670:\tlearn: 1.0844487\ttotal: 2.63s\tremaining: 4.03s\n",
            "680:\tlearn: 1.0843240\ttotal: 2.67s\tremaining: 3.99s\n",
            "690:\tlearn: 1.0842486\ttotal: 2.71s\tremaining: 3.95s\n",
            "700:\tlearn: 1.0841145\ttotal: 2.75s\tremaining: 3.91s\n",
            "710:\tlearn: 1.0839858\ttotal: 2.79s\tremaining: 3.89s\n",
            "720:\tlearn: 1.0838817\ttotal: 2.84s\tremaining: 3.85s\n",
            "730:\tlearn: 1.0837543\ttotal: 2.88s\tremaining: 3.81s\n",
            "740:\tlearn: 1.0836638\ttotal: 2.92s\tremaining: 3.77s\n",
            "750:\tlearn: 1.0835396\ttotal: 2.95s\tremaining: 3.73s\n",
            "760:\tlearn: 1.0834425\ttotal: 2.99s\tremaining: 3.69s\n",
            "770:\tlearn: 1.0833392\ttotal: 3.03s\tremaining: 3.65s\n",
            "780:\tlearn: 1.0832345\ttotal: 3.07s\tremaining: 3.61s\n",
            "790:\tlearn: 1.0831479\ttotal: 3.11s\tremaining: 3.57s\n",
            "800:\tlearn: 1.0830544\ttotal: 3.15s\tremaining: 3.53s\n",
            "810:\tlearn: 1.0829464\ttotal: 3.18s\tremaining: 3.49s\n",
            "820:\tlearn: 1.0828094\ttotal: 3.22s\tremaining: 3.45s\n",
            "830:\tlearn: 1.0827222\ttotal: 3.26s\tremaining: 3.41s\n",
            "840:\tlearn: 1.0826041\ttotal: 3.32s\tremaining: 3.39s\n",
            "850:\tlearn: 1.0824611\ttotal: 3.36s\tremaining: 3.35s\n",
            "860:\tlearn: 1.0823798\ttotal: 3.4s\tremaining: 3.31s\n",
            "870:\tlearn: 1.0822932\ttotal: 3.43s\tremaining: 3.27s\n",
            "880:\tlearn: 1.0822114\ttotal: 3.48s\tremaining: 3.23s\n",
            "890:\tlearn: 1.0821337\ttotal: 3.51s\tremaining: 3.19s\n",
            "900:\tlearn: 1.0820390\ttotal: 3.55s\tremaining: 3.15s\n",
            "910:\tlearn: 1.0819338\ttotal: 3.6s\tremaining: 3.11s\n",
            "920:\tlearn: 1.0818406\ttotal: 3.63s\tremaining: 3.07s\n",
            "930:\tlearn: 1.0817240\ttotal: 3.67s\tremaining: 3.03s\n",
            "940:\tlearn: 1.0816359\ttotal: 3.71s\tremaining: 2.99s\n",
            "950:\tlearn: 1.0815264\ttotal: 3.75s\tremaining: 2.95s\n",
            "960:\tlearn: 1.0814474\ttotal: 3.8s\tremaining: 2.92s\n",
            "970:\tlearn: 1.0813436\ttotal: 3.84s\tremaining: 2.88s\n",
            "980:\tlearn: 1.0812590\ttotal: 3.88s\tremaining: 2.84s\n",
            "990:\tlearn: 1.0811622\ttotal: 3.92s\tremaining: 2.8s\n",
            "1000:\tlearn: 1.0810528\ttotal: 3.96s\tremaining: 2.76s\n",
            "1010:\tlearn: 1.0809765\ttotal: 3.99s\tremaining: 2.72s\n",
            "1020:\tlearn: 1.0809092\ttotal: 4.03s\tremaining: 2.68s\n",
            "1030:\tlearn: 1.0808117\ttotal: 4.07s\tremaining: 2.64s\n",
            "1040:\tlearn: 1.0807287\ttotal: 4.11s\tremaining: 2.6s\n",
            "1050:\tlearn: 1.0806368\ttotal: 4.15s\tremaining: 2.56s\n",
            "1060:\tlearn: 1.0805763\ttotal: 4.19s\tremaining: 2.52s\n",
            "1070:\tlearn: 1.0805089\ttotal: 4.22s\tremaining: 2.48s\n",
            "1080:\tlearn: 1.0804285\ttotal: 4.27s\tremaining: 2.44s\n",
            "1090:\tlearn: 1.0803533\ttotal: 4.31s\tremaining: 2.4s\n",
            "1100:\tlearn: 1.0802688\ttotal: 4.35s\tremaining: 2.37s\n",
            "1110:\tlearn: 1.0801683\ttotal: 4.39s\tremaining: 2.33s\n",
            "1120:\tlearn: 1.0800877\ttotal: 4.42s\tremaining: 2.28s\n",
            "1130:\tlearn: 1.0800211\ttotal: 4.46s\tremaining: 2.24s\n",
            "1140:\tlearn: 1.0799298\ttotal: 4.5s\tremaining: 2.21s\n",
            "1150:\tlearn: 1.0798354\ttotal: 4.55s\tremaining: 2.17s\n",
            "1160:\tlearn: 1.0797648\ttotal: 4.58s\tremaining: 2.13s\n",
            "1170:\tlearn: 1.0797109\ttotal: 4.62s\tremaining: 2.09s\n",
            "1180:\tlearn: 1.0796378\ttotal: 4.66s\tremaining: 2.05s\n",
            "1190:\tlearn: 1.0795654\ttotal: 4.71s\tremaining: 2.01s\n",
            "1200:\tlearn: 1.0794916\ttotal: 4.75s\tremaining: 1.97s\n",
            "1210:\tlearn: 1.0794157\ttotal: 4.8s\tremaining: 1.94s\n",
            "1220:\tlearn: 1.0793633\ttotal: 4.83s\tremaining: 1.9s\n",
            "1230:\tlearn: 1.0793098\ttotal: 4.87s\tremaining: 1.85s\n",
            "1240:\tlearn: 1.0792200\ttotal: 4.92s\tremaining: 1.82s\n",
            "1250:\tlearn: 1.0791462\ttotal: 4.95s\tremaining: 1.78s\n",
            "1260:\tlearn: 1.0790444\ttotal: 5s\tremaining: 1.74s\n",
            "1270:\tlearn: 1.0789528\ttotal: 5.04s\tremaining: 1.7s\n",
            "1280:\tlearn: 1.0788523\ttotal: 5.07s\tremaining: 1.66s\n",
            "1290:\tlearn: 1.0787890\ttotal: 5.11s\tremaining: 1.62s\n",
            "1300:\tlearn: 1.0787161\ttotal: 5.15s\tremaining: 1.58s\n",
            "1310:\tlearn: 1.0786245\ttotal: 5.19s\tremaining: 1.54s\n",
            "1320:\tlearn: 1.0785176\ttotal: 5.24s\tremaining: 1.5s\n",
            "1330:\tlearn: 1.0784554\ttotal: 5.27s\tremaining: 1.46s\n",
            "1340:\tlearn: 1.0783835\ttotal: 5.31s\tremaining: 1.42s\n",
            "1350:\tlearn: 1.0783228\ttotal: 5.36s\tremaining: 1.39s\n",
            "1360:\tlearn: 1.0782779\ttotal: 5.4s\tremaining: 1.34s\n",
            "1370:\tlearn: 1.0782239\ttotal: 5.44s\tremaining: 1.3s\n",
            "1380:\tlearn: 1.0781511\ttotal: 5.47s\tremaining: 1.26s\n",
            "1390:\tlearn: 1.0780907\ttotal: 5.51s\tremaining: 1.23s\n",
            "1400:\tlearn: 1.0780416\ttotal: 5.55s\tremaining: 1.19s\n",
            "1410:\tlearn: 1.0779770\ttotal: 5.6s\tremaining: 1.15s\n",
            "1420:\tlearn: 1.0779126\ttotal: 5.63s\tremaining: 1.11s\n",
            "1430:\tlearn: 1.0778530\ttotal: 5.67s\tremaining: 1.07s\n",
            "1440:\tlearn: 1.0777924\ttotal: 5.71s\tremaining: 1.03s\n",
            "1450:\tlearn: 1.0777168\ttotal: 5.77s\tremaining: 990ms\n",
            "1460:\tlearn: 1.0776517\ttotal: 5.81s\tremaining: 951ms\n",
            "1470:\tlearn: 1.0776031\ttotal: 5.85s\tremaining: 911ms\n",
            "1480:\tlearn: 1.0775483\ttotal: 5.89s\tremaining: 871ms\n",
            "1490:\tlearn: 1.0774957\ttotal: 5.93s\tremaining: 831ms\n",
            "1500:\tlearn: 1.0774181\ttotal: 5.96s\tremaining: 791ms\n",
            "1510:\tlearn: 1.0773589\ttotal: 6s\tremaining: 751ms\n",
            "1520:\tlearn: 1.0772707\ttotal: 6.05s\tremaining: 712ms\n",
            "1530:\tlearn: 1.0772174\ttotal: 6.09s\tremaining: 672ms\n",
            "1540:\tlearn: 1.0771514\ttotal: 6.13s\tremaining: 632ms\n",
            "1550:\tlearn: 1.0771044\ttotal: 6.17s\tremaining: 593ms\n",
            "1560:\tlearn: 1.0770487\ttotal: 6.21s\tremaining: 553ms\n",
            "1570:\tlearn: 1.0769696\ttotal: 6.24s\tremaining: 513ms\n",
            "1580:\tlearn: 1.0769108\ttotal: 6.29s\tremaining: 473ms\n",
            "1590:\tlearn: 1.0768394\ttotal: 6.33s\tremaining: 434ms\n",
            "1600:\tlearn: 1.0767658\ttotal: 6.37s\tremaining: 394ms\n",
            "1610:\tlearn: 1.0766942\ttotal: 6.41s\tremaining: 354ms\n",
            "1620:\tlearn: 1.0766343\ttotal: 6.45s\tremaining: 314ms\n",
            "1630:\tlearn: 1.0765668\ttotal: 6.49s\tremaining: 275ms\n",
            "1640:\tlearn: 1.0765109\ttotal: 6.54s\tremaining: 235ms\n",
            "1650:\tlearn: 1.0764481\ttotal: 6.59s\tremaining: 196ms\n",
            "1660:\tlearn: 1.0763671\ttotal: 6.64s\tremaining: 156ms\n",
            "1670:\tlearn: 1.0762937\ttotal: 6.68s\tremaining: 116ms\n",
            "1680:\tlearn: 1.0762169\ttotal: 6.73s\tremaining: 76ms\n",
            "1690:\tlearn: 1.0761373\ttotal: 6.78s\tremaining: 36.1ms\n",
            "1699:\tlearn: 1.0760970\ttotal: 6.82s\tremaining: 0us\n",
            "Fold 8, Valid score = 1.09374\n"
          ],
          "name": "stdout"
        },
        {
          "output_type": "stream",
          "text": [
            "Warning: less than 75% gpu memory available for training. Free: 7809.75 Total: 15109.75\n"
          ],
          "name": "stderr"
        },
        {
          "output_type": "stream",
          "text": [
            "0:\tlearn: 1.3358562\ttotal: 4.96ms\tremaining: 8.43s\n",
            "10:\tlearn: 1.1505040\ttotal: 45.7ms\tremaining: 7.02s\n",
            "20:\tlearn: 1.1187260\ttotal: 85.4ms\tremaining: 6.83s\n",
            "30:\tlearn: 1.1111453\ttotal: 121ms\tremaining: 6.54s\n",
            "40:\tlearn: 1.1087374\ttotal: 160ms\tremaining: 6.46s\n",
            "50:\tlearn: 1.1069453\ttotal: 195ms\tremaining: 6.3s\n",
            "60:\tlearn: 1.1056946\ttotal: 234ms\tremaining: 6.3s\n",
            "70:\tlearn: 1.1046602\ttotal: 268ms\tremaining: 6.16s\n",
            "80:\tlearn: 1.1034385\ttotal: 307ms\tremaining: 6.13s\n",
            "90:\tlearn: 1.1024115\ttotal: 346ms\tremaining: 6.11s\n",
            "100:\tlearn: 1.1014061\ttotal: 383ms\tremaining: 6.06s\n",
            "110:\tlearn: 1.1005122\ttotal: 429ms\tremaining: 6.14s\n",
            "120:\tlearn: 1.0996749\ttotal: 472ms\tremaining: 6.16s\n",
            "130:\tlearn: 1.0987554\ttotal: 509ms\tremaining: 6.09s\n",
            "140:\tlearn: 1.0981715\ttotal: 558ms\tremaining: 6.17s\n",
            "150:\tlearn: 1.0975480\ttotal: 595ms\tremaining: 6.1s\n",
            "160:\tlearn: 1.0969516\ttotal: 636ms\tremaining: 6.08s\n",
            "170:\tlearn: 1.0963167\ttotal: 680ms\tremaining: 6.08s\n",
            "180:\tlearn: 1.0957567\ttotal: 717ms\tremaining: 6.01s\n",
            "190:\tlearn: 1.0953552\ttotal: 753ms\tremaining: 5.95s\n",
            "200:\tlearn: 1.0949667\ttotal: 790ms\tremaining: 5.89s\n",
            "210:\tlearn: 1.0944269\ttotal: 827ms\tremaining: 5.83s\n",
            "220:\tlearn: 1.0940268\ttotal: 864ms\tremaining: 5.78s\n",
            "230:\tlearn: 1.0935835\ttotal: 911ms\tremaining: 5.79s\n",
            "240:\tlearn: 1.0932513\ttotal: 950ms\tremaining: 5.75s\n",
            "250:\tlearn: 1.0928257\ttotal: 991ms\tremaining: 5.72s\n",
            "260:\tlearn: 1.0925445\ttotal: 1.03s\tremaining: 5.67s\n",
            "270:\tlearn: 1.0922793\ttotal: 1.06s\tremaining: 5.61s\n",
            "280:\tlearn: 1.0919356\ttotal: 1.1s\tremaining: 5.55s\n",
            "290:\tlearn: 1.0916731\ttotal: 1.15s\tremaining: 5.56s\n",
            "300:\tlearn: 1.0913506\ttotal: 1.18s\tremaining: 5.5s\n",
            "310:\tlearn: 1.0909681\ttotal: 1.22s\tremaining: 5.45s\n",
            "320:\tlearn: 1.0907065\ttotal: 1.26s\tremaining: 5.41s\n",
            "330:\tlearn: 1.0904820\ttotal: 1.3s\tremaining: 5.36s\n",
            "340:\tlearn: 1.0902359\ttotal: 1.33s\tremaining: 5.31s\n",
            "350:\tlearn: 1.0900550\ttotal: 1.37s\tremaining: 5.28s\n",
            "360:\tlearn: 1.0898033\ttotal: 1.41s\tremaining: 5.23s\n",
            "370:\tlearn: 1.0896413\ttotal: 1.45s\tremaining: 5.18s\n",
            "380:\tlearn: 1.0894465\ttotal: 1.48s\tremaining: 5.13s\n",
            "390:\tlearn: 1.0892214\ttotal: 1.52s\tremaining: 5.08s\n",
            "400:\tlearn: 1.0890299\ttotal: 1.56s\tremaining: 5.07s\n",
            "410:\tlearn: 1.0888689\ttotal: 1.61s\tremaining: 5.04s\n",
            "420:\tlearn: 1.0886429\ttotal: 1.65s\tremaining: 5s\n",
            "430:\tlearn: 1.0884572\ttotal: 1.68s\tremaining: 4.96s\n",
            "440:\tlearn: 1.0883125\ttotal: 1.73s\tremaining: 4.93s\n",
            "450:\tlearn: 1.0882079\ttotal: 1.76s\tremaining: 4.88s\n",
            "460:\tlearn: 1.0880169\ttotal: 1.8s\tremaining: 4.84s\n",
            "470:\tlearn: 1.0878639\ttotal: 1.84s\tremaining: 4.81s\n",
            "480:\tlearn: 1.0877027\ttotal: 1.89s\tremaining: 4.79s\n",
            "490:\tlearn: 1.0875468\ttotal: 1.93s\tremaining: 4.75s\n",
            "500:\tlearn: 1.0873175\ttotal: 1.97s\tremaining: 4.72s\n",
            "510:\tlearn: 1.0871472\ttotal: 2.01s\tremaining: 4.69s\n",
            "520:\tlearn: 1.0870082\ttotal: 2.06s\tremaining: 4.66s\n",
            "530:\tlearn: 1.0868229\ttotal: 2.11s\tremaining: 4.65s\n",
            "540:\tlearn: 1.0866375\ttotal: 2.15s\tremaining: 4.62s\n",
            "550:\tlearn: 1.0865223\ttotal: 2.19s\tremaining: 4.57s\n",
            "560:\tlearn: 1.0863800\ttotal: 2.23s\tremaining: 4.53s\n",
            "570:\tlearn: 1.0862229\ttotal: 2.28s\tremaining: 4.51s\n",
            "580:\tlearn: 1.0861122\ttotal: 2.32s\tremaining: 4.47s\n",
            "590:\tlearn: 1.0860270\ttotal: 2.36s\tremaining: 4.42s\n",
            "600:\tlearn: 1.0858378\ttotal: 2.4s\tremaining: 4.39s\n",
            "610:\tlearn: 1.0856826\ttotal: 2.44s\tremaining: 4.35s\n",
            "620:\tlearn: 1.0855727\ttotal: 2.49s\tremaining: 4.32s\n",
            "630:\tlearn: 1.0854446\ttotal: 2.52s\tremaining: 4.28s\n",
            "640:\tlearn: 1.0853155\ttotal: 2.58s\tremaining: 4.25s\n",
            "650:\tlearn: 1.0851833\ttotal: 2.62s\tremaining: 4.23s\n",
            "660:\tlearn: 1.0850535\ttotal: 2.66s\tremaining: 4.19s\n",
            "670:\tlearn: 1.0849076\ttotal: 2.71s\tremaining: 4.15s\n",
            "680:\tlearn: 1.0847595\ttotal: 2.76s\tremaining: 4.13s\n",
            "690:\tlearn: 1.0846413\ttotal: 2.8s\tremaining: 4.09s\n",
            "700:\tlearn: 1.0845180\ttotal: 2.84s\tremaining: 4.04s\n",
            "710:\tlearn: 1.0844176\ttotal: 2.87s\tremaining: 4s\n",
            "720:\tlearn: 1.0842852\ttotal: 2.92s\tremaining: 3.96s\n",
            "730:\tlearn: 1.0841800\ttotal: 2.95s\tremaining: 3.92s\n",
            "740:\tlearn: 1.0840538\ttotal: 2.99s\tremaining: 3.87s\n",
            "750:\tlearn: 1.0839413\ttotal: 3.03s\tremaining: 3.83s\n",
            "760:\tlearn: 1.0838655\ttotal: 3.07s\tremaining: 3.79s\n",
            "770:\tlearn: 1.0837874\ttotal: 3.11s\tremaining: 3.74s\n",
            "780:\tlearn: 1.0836951\ttotal: 3.15s\tremaining: 3.71s\n",
            "790:\tlearn: 1.0836155\ttotal: 3.19s\tremaining: 3.66s\n",
            "800:\tlearn: 1.0835208\ttotal: 3.22s\tremaining: 3.62s\n",
            "810:\tlearn: 1.0834214\ttotal: 3.26s\tremaining: 3.58s\n",
            "820:\tlearn: 1.0833424\ttotal: 3.3s\tremaining: 3.53s\n",
            "830:\tlearn: 1.0832595\ttotal: 3.33s\tremaining: 3.49s\n",
            "840:\tlearn: 1.0831372\ttotal: 3.38s\tremaining: 3.45s\n",
            "850:\tlearn: 1.0830412\ttotal: 3.42s\tremaining: 3.41s\n",
            "860:\tlearn: 1.0829625\ttotal: 3.45s\tremaining: 3.37s\n",
            "870:\tlearn: 1.0828957\ttotal: 3.49s\tremaining: 3.33s\n",
            "880:\tlearn: 1.0828215\ttotal: 3.54s\tremaining: 3.29s\n",
            "890:\tlearn: 1.0827257\ttotal: 3.58s\tremaining: 3.25s\n",
            "900:\tlearn: 1.0826405\ttotal: 3.62s\tremaining: 3.21s\n",
            "910:\tlearn: 1.0825484\ttotal: 3.66s\tremaining: 3.17s\n",
            "920:\tlearn: 1.0824149\ttotal: 3.7s\tremaining: 3.13s\n",
            "930:\tlearn: 1.0822857\ttotal: 3.74s\tremaining: 3.09s\n",
            "940:\tlearn: 1.0821581\ttotal: 3.77s\tremaining: 3.04s\n",
            "950:\tlearn: 1.0820793\ttotal: 3.82s\tremaining: 3.01s\n",
            "960:\tlearn: 1.0819677\ttotal: 3.85s\tremaining: 2.96s\n",
            "970:\tlearn: 1.0818684\ttotal: 3.89s\tremaining: 2.92s\n",
            "980:\tlearn: 1.0817835\ttotal: 3.94s\tremaining: 2.88s\n",
            "990:\tlearn: 1.0816784\ttotal: 3.98s\tremaining: 2.84s\n",
            "1000:\tlearn: 1.0815931\ttotal: 4.01s\tremaining: 2.8s\n",
            "1010:\tlearn: 1.0814721\ttotal: 4.07s\tremaining: 2.77s\n",
            "1020:\tlearn: 1.0813910\ttotal: 4.11s\tremaining: 2.73s\n",
            "1030:\tlearn: 1.0813095\ttotal: 4.14s\tremaining: 2.69s\n",
            "1040:\tlearn: 1.0812126\ttotal: 4.19s\tremaining: 2.65s\n",
            "1050:\tlearn: 1.0811201\ttotal: 4.22s\tremaining: 2.61s\n",
            "1060:\tlearn: 1.0810369\ttotal: 4.27s\tremaining: 2.57s\n",
            "1070:\tlearn: 1.0809524\ttotal: 4.3s\tremaining: 2.53s\n",
            "1080:\tlearn: 1.0808666\ttotal: 4.34s\tremaining: 2.49s\n",
            "1090:\tlearn: 1.0807643\ttotal: 4.38s\tremaining: 2.44s\n",
            "1100:\tlearn: 1.0806680\ttotal: 4.42s\tremaining: 2.4s\n",
            "1110:\tlearn: 1.0805852\ttotal: 4.46s\tremaining: 2.36s\n",
            "1120:\tlearn: 1.0805043\ttotal: 4.5s\tremaining: 2.32s\n",
            "1130:\tlearn: 1.0804478\ttotal: 4.55s\tremaining: 2.29s\n",
            "1140:\tlearn: 1.0803757\ttotal: 4.59s\tremaining: 2.25s\n",
            "1150:\tlearn: 1.0802817\ttotal: 4.63s\tremaining: 2.21s\n",
            "1160:\tlearn: 1.0802262\ttotal: 4.67s\tremaining: 2.17s\n",
            "1170:\tlearn: 1.0801337\ttotal: 4.71s\tremaining: 2.13s\n",
            "1180:\tlearn: 1.0800784\ttotal: 4.75s\tremaining: 2.08s\n",
            "1190:\tlearn: 1.0800070\ttotal: 4.78s\tremaining: 2.04s\n",
            "1200:\tlearn: 1.0799516\ttotal: 4.82s\tremaining: 2s\n",
            "1210:\tlearn: 1.0798765\ttotal: 4.86s\tremaining: 1.96s\n",
            "1220:\tlearn: 1.0798142\ttotal: 4.9s\tremaining: 1.92s\n",
            "1230:\tlearn: 1.0797253\ttotal: 4.94s\tremaining: 1.88s\n",
            "1240:\tlearn: 1.0796513\ttotal: 4.99s\tremaining: 1.85s\n",
            "1250:\tlearn: 1.0795988\ttotal: 5.04s\tremaining: 1.81s\n",
            "1260:\tlearn: 1.0795155\ttotal: 5.07s\tremaining: 1.77s\n",
            "1270:\tlearn: 1.0794352\ttotal: 5.12s\tremaining: 1.73s\n",
            "1280:\tlearn: 1.0793893\ttotal: 5.16s\tremaining: 1.69s\n",
            "1290:\tlearn: 1.0793109\ttotal: 5.2s\tremaining: 1.65s\n",
            "1300:\tlearn: 1.0792621\ttotal: 5.24s\tremaining: 1.61s\n",
            "1310:\tlearn: 1.0791944\ttotal: 5.27s\tremaining: 1.56s\n",
            "1320:\tlearn: 1.0791279\ttotal: 5.31s\tremaining: 1.52s\n",
            "1330:\tlearn: 1.0790451\ttotal: 5.35s\tremaining: 1.48s\n",
            "1340:\tlearn: 1.0789837\ttotal: 5.4s\tremaining: 1.45s\n",
            "1350:\tlearn: 1.0789144\ttotal: 5.44s\tremaining: 1.41s\n",
            "1360:\tlearn: 1.0788475\ttotal: 5.48s\tremaining: 1.36s\n",
            "1370:\tlearn: 1.0787803\ttotal: 5.52s\tremaining: 1.32s\n",
            "1380:\tlearn: 1.0787013\ttotal: 5.56s\tremaining: 1.28s\n",
            "1390:\tlearn: 1.0786270\ttotal: 5.61s\tremaining: 1.25s\n",
            "1400:\tlearn: 1.0785704\ttotal: 5.65s\tremaining: 1.21s\n",
            "1410:\tlearn: 1.0784753\ttotal: 5.69s\tremaining: 1.17s\n",
            "1420:\tlearn: 1.0784162\ttotal: 5.73s\tremaining: 1.12s\n",
            "1430:\tlearn: 1.0783470\ttotal: 5.76s\tremaining: 1.08s\n",
            "1440:\tlearn: 1.0782932\ttotal: 5.8s\tremaining: 1.04s\n",
            "1450:\tlearn: 1.0781964\ttotal: 5.85s\tremaining: 1s\n",
            "1460:\tlearn: 1.0781315\ttotal: 5.89s\tremaining: 963ms\n",
            "1470:\tlearn: 1.0780607\ttotal: 5.92s\tremaining: 922ms\n",
            "1480:\tlearn: 1.0779867\ttotal: 5.96s\tremaining: 882ms\n",
            "1490:\tlearn: 1.0778855\ttotal: 6s\tremaining: 842ms\n",
            "1500:\tlearn: 1.0778055\ttotal: 6.05s\tremaining: 802ms\n",
            "1510:\tlearn: 1.0777404\ttotal: 6.09s\tremaining: 762ms\n",
            "1520:\tlearn: 1.0776774\ttotal: 6.13s\tremaining: 721ms\n",
            "1530:\tlearn: 1.0776271\ttotal: 6.17s\tremaining: 681ms\n",
            "1540:\tlearn: 1.0775370\ttotal: 6.2s\tremaining: 640ms\n",
            "1550:\tlearn: 1.0774712\ttotal: 6.25s\tremaining: 601ms\n",
            "1560:\tlearn: 1.0773859\ttotal: 6.3s\tremaining: 561ms\n",
            "1570:\tlearn: 1.0773224\ttotal: 6.34s\tremaining: 521ms\n",
            "1580:\tlearn: 1.0772430\ttotal: 6.38s\tremaining: 480ms\n",
            "1590:\tlearn: 1.0771811\ttotal: 6.42s\tremaining: 440ms\n",
            "1600:\tlearn: 1.0770885\ttotal: 6.47s\tremaining: 400ms\n",
            "1610:\tlearn: 1.0770094\ttotal: 6.53s\tremaining: 361ms\n",
            "1620:\tlearn: 1.0769602\ttotal: 6.57s\tremaining: 320ms\n",
            "1630:\tlearn: 1.0769043\ttotal: 6.61s\tremaining: 280ms\n",
            "1640:\tlearn: 1.0768595\ttotal: 6.65s\tremaining: 239ms\n",
            "1650:\tlearn: 1.0767887\ttotal: 6.69s\tremaining: 199ms\n",
            "1660:\tlearn: 1.0767219\ttotal: 6.74s\tremaining: 158ms\n",
            "1670:\tlearn: 1.0766887\ttotal: 6.78s\tremaining: 118ms\n",
            "1680:\tlearn: 1.0766327\ttotal: 6.82s\tremaining: 77.1ms\n",
            "1690:\tlearn: 1.0765800\ttotal: 6.87s\tremaining: 36.6ms\n",
            "1699:\tlearn: 1.0765349\ttotal: 6.92s\tremaining: 0us\n",
            "Fold 9, Valid score = 1.08975\n"
          ],
          "name": "stdout"
        },
        {
          "output_type": "stream",
          "text": [
            "Warning: less than 75% gpu memory available for training. Free: 7809.75 Total: 15109.75\n"
          ],
          "name": "stderr"
        },
        {
          "output_type": "stream",
          "text": [
            "0:\tlearn: 1.3358286\ttotal: 5ms\tremaining: 8.49s\n",
            "10:\tlearn: 1.1506747\ttotal: 42ms\tremaining: 6.44s\n",
            "20:\tlearn: 1.1187562\ttotal: 78.5ms\tremaining: 6.28s\n",
            "30:\tlearn: 1.1112219\ttotal: 115ms\tremaining: 6.21s\n",
            "40:\tlearn: 1.1088722\ttotal: 157ms\tremaining: 6.36s\n",
            "50:\tlearn: 1.1072372\ttotal: 210ms\tremaining: 6.79s\n",
            "60:\tlearn: 1.1059785\ttotal: 243ms\tremaining: 6.54s\n",
            "70:\tlearn: 1.1048158\ttotal: 276ms\tremaining: 6.34s\n",
            "80:\tlearn: 1.1037423\ttotal: 312ms\tremaining: 6.24s\n",
            "90:\tlearn: 1.1026319\ttotal: 347ms\tremaining: 6.14s\n",
            "100:\tlearn: 1.1015499\ttotal: 383ms\tremaining: 6.07s\n",
            "110:\tlearn: 1.1007236\ttotal: 423ms\tremaining: 6.05s\n",
            "120:\tlearn: 1.1000973\ttotal: 459ms\tremaining: 5.99s\n",
            "130:\tlearn: 1.0993014\ttotal: 504ms\tremaining: 6.04s\n",
            "140:\tlearn: 1.0986122\ttotal: 546ms\tremaining: 6.03s\n",
            "150:\tlearn: 1.0979716\ttotal: 590ms\tremaining: 6.05s\n",
            "160:\tlearn: 1.0974434\ttotal: 631ms\tremaining: 6.03s\n",
            "170:\tlearn: 1.0968089\ttotal: 668ms\tremaining: 5.97s\n",
            "180:\tlearn: 1.0962737\ttotal: 708ms\tremaining: 5.94s\n",
            "190:\tlearn: 1.0957763\ttotal: 746ms\tremaining: 5.9s\n",
            "200:\tlearn: 1.0952359\ttotal: 782ms\tremaining: 5.83s\n",
            "210:\tlearn: 1.0947919\ttotal: 818ms\tremaining: 5.77s\n",
            "220:\tlearn: 1.0943438\ttotal: 859ms\tremaining: 5.75s\n",
            "230:\tlearn: 1.0938878\ttotal: 894ms\tremaining: 5.69s\n",
            "240:\tlearn: 1.0934949\ttotal: 934ms\tremaining: 5.66s\n",
            "250:\tlearn: 1.0931625\ttotal: 972ms\tremaining: 5.61s\n",
            "260:\tlearn: 1.0929014\ttotal: 1.01s\tremaining: 5.55s\n",
            "270:\tlearn: 1.0925556\ttotal: 1.04s\tremaining: 5.5s\n",
            "280:\tlearn: 1.0921739\ttotal: 1.09s\tremaining: 5.49s\n",
            "290:\tlearn: 1.0918951\ttotal: 1.12s\tremaining: 5.43s\n",
            "300:\tlearn: 1.0916412\ttotal: 1.16s\tremaining: 5.39s\n",
            "310:\tlearn: 1.0913546\ttotal: 1.22s\tremaining: 5.44s\n",
            "320:\tlearn: 1.0910876\ttotal: 1.25s\tremaining: 5.37s\n",
            "330:\tlearn: 1.0908115\ttotal: 1.29s\tremaining: 5.34s\n",
            "340:\tlearn: 1.0905951\ttotal: 1.32s\tremaining: 5.28s\n",
            "350:\tlearn: 1.0903567\ttotal: 1.36s\tremaining: 5.21s\n",
            "360:\tlearn: 1.0901282\ttotal: 1.39s\tremaining: 5.16s\n",
            "370:\tlearn: 1.0899056\ttotal: 1.42s\tremaining: 5.1s\n",
            "380:\tlearn: 1.0896976\ttotal: 1.46s\tremaining: 5.04s\n",
            "390:\tlearn: 1.0894714\ttotal: 1.5s\tremaining: 5.01s\n",
            "400:\tlearn: 1.0892845\ttotal: 1.53s\tremaining: 4.96s\n",
            "410:\tlearn: 1.0891317\ttotal: 1.56s\tremaining: 4.91s\n",
            "420:\tlearn: 1.0889503\ttotal: 1.6s\tremaining: 4.86s\n",
            "430:\tlearn: 1.0888054\ttotal: 1.64s\tremaining: 4.82s\n",
            "440:\tlearn: 1.0886525\ttotal: 1.67s\tremaining: 4.78s\n",
            "450:\tlearn: 1.0884566\ttotal: 1.71s\tremaining: 4.74s\n",
            "460:\tlearn: 1.0883250\ttotal: 1.75s\tremaining: 4.7s\n",
            "470:\tlearn: 1.0881410\ttotal: 1.78s\tremaining: 4.65s\n",
            "480:\tlearn: 1.0879611\ttotal: 1.82s\tremaining: 4.61s\n",
            "490:\tlearn: 1.0877977\ttotal: 1.85s\tremaining: 4.56s\n",
            "500:\tlearn: 1.0876571\ttotal: 1.89s\tremaining: 4.52s\n",
            "510:\tlearn: 1.0874965\ttotal: 1.94s\tremaining: 4.51s\n",
            "520:\tlearn: 1.0874151\ttotal: 1.97s\tremaining: 4.46s\n",
            "530:\tlearn: 1.0872537\ttotal: 2.01s\tremaining: 4.42s\n",
            "540:\tlearn: 1.0870872\ttotal: 2.04s\tremaining: 4.38s\n",
            "550:\tlearn: 1.0869615\ttotal: 2.08s\tremaining: 4.33s\n",
            "560:\tlearn: 1.0868101\ttotal: 2.11s\tremaining: 4.29s\n",
            "570:\tlearn: 1.0866687\ttotal: 2.15s\tremaining: 4.26s\n",
            "580:\tlearn: 1.0865037\ttotal: 2.21s\tremaining: 4.25s\n",
            "590:\tlearn: 1.0863359\ttotal: 2.24s\tremaining: 4.21s\n",
            "600:\tlearn: 1.0862027\ttotal: 2.28s\tremaining: 4.16s\n",
            "610:\tlearn: 1.0860317\ttotal: 2.31s\tremaining: 4.12s\n",
            "620:\tlearn: 1.0859069\ttotal: 2.35s\tremaining: 4.08s\n",
            "630:\tlearn: 1.0857421\ttotal: 2.39s\tremaining: 4.05s\n",
            "640:\tlearn: 1.0856309\ttotal: 2.43s\tremaining: 4.01s\n",
            "650:\tlearn: 1.0855188\ttotal: 2.46s\tremaining: 3.97s\n",
            "660:\tlearn: 1.0853900\ttotal: 2.5s\tremaining: 3.93s\n",
            "670:\tlearn: 1.0852668\ttotal: 2.54s\tremaining: 3.89s\n",
            "680:\tlearn: 1.0851624\ttotal: 2.58s\tremaining: 3.86s\n",
            "690:\tlearn: 1.0850089\ttotal: 2.62s\tremaining: 3.83s\n",
            "700:\tlearn: 1.0849197\ttotal: 2.66s\tremaining: 3.79s\n",
            "710:\tlearn: 1.0848116\ttotal: 2.7s\tremaining: 3.75s\n",
            "720:\tlearn: 1.0847286\ttotal: 2.73s\tremaining: 3.71s\n",
            "730:\tlearn: 1.0846523\ttotal: 2.77s\tremaining: 3.67s\n",
            "740:\tlearn: 1.0845227\ttotal: 2.81s\tremaining: 3.63s\n",
            "750:\tlearn: 1.0844221\ttotal: 2.85s\tremaining: 3.6s\n",
            "760:\tlearn: 1.0843372\ttotal: 2.88s\tremaining: 3.56s\n",
            "770:\tlearn: 1.0842182\ttotal: 2.93s\tremaining: 3.53s\n",
            "780:\tlearn: 1.0841271\ttotal: 2.96s\tremaining: 3.49s\n",
            "790:\tlearn: 1.0840562\ttotal: 3s\tremaining: 3.45s\n",
            "800:\tlearn: 1.0839363\ttotal: 3.04s\tremaining: 3.41s\n",
            "810:\tlearn: 1.0838128\ttotal: 3.08s\tremaining: 3.37s\n",
            "820:\tlearn: 1.0837054\ttotal: 3.12s\tremaining: 3.33s\n",
            "830:\tlearn: 1.0836145\ttotal: 3.15s\tremaining: 3.3s\n",
            "840:\tlearn: 1.0835226\ttotal: 3.2s\tremaining: 3.27s\n",
            "850:\tlearn: 1.0834536\ttotal: 3.23s\tremaining: 3.23s\n",
            "860:\tlearn: 1.0833742\ttotal: 3.28s\tremaining: 3.2s\n",
            "870:\tlearn: 1.0832730\ttotal: 3.32s\tremaining: 3.16s\n",
            "880:\tlearn: 1.0832029\ttotal: 3.35s\tremaining: 3.12s\n",
            "890:\tlearn: 1.0831253\ttotal: 3.39s\tremaining: 3.08s\n",
            "900:\tlearn: 1.0830052\ttotal: 3.44s\tremaining: 3.05s\n",
            "910:\tlearn: 1.0829018\ttotal: 3.48s\tremaining: 3.01s\n",
            "920:\tlearn: 1.0828187\ttotal: 3.52s\tremaining: 2.98s\n",
            "930:\tlearn: 1.0827139\ttotal: 3.55s\tremaining: 2.94s\n",
            "940:\tlearn: 1.0825904\ttotal: 3.59s\tremaining: 2.9s\n",
            "950:\tlearn: 1.0825046\ttotal: 3.63s\tremaining: 2.86s\n",
            "960:\tlearn: 1.0824021\ttotal: 3.67s\tremaining: 2.82s\n",
            "970:\tlearn: 1.0822739\ttotal: 3.71s\tremaining: 2.78s\n",
            "980:\tlearn: 1.0821462\ttotal: 3.75s\tremaining: 2.75s\n",
            "990:\tlearn: 1.0820789\ttotal: 3.79s\tremaining: 2.71s\n",
            "1000:\tlearn: 1.0820237\ttotal: 3.83s\tremaining: 2.67s\n",
            "1010:\tlearn: 1.0819057\ttotal: 3.87s\tremaining: 2.64s\n",
            "1020:\tlearn: 1.0818076\ttotal: 3.91s\tremaining: 2.6s\n",
            "1030:\tlearn: 1.0817383\ttotal: 3.94s\tremaining: 2.56s\n",
            "1040:\tlearn: 1.0816311\ttotal: 3.99s\tremaining: 2.52s\n",
            "1050:\tlearn: 1.0815399\ttotal: 4.03s\tremaining: 2.49s\n",
            "1060:\tlearn: 1.0814840\ttotal: 4.06s\tremaining: 2.45s\n",
            "1070:\tlearn: 1.0813876\ttotal: 4.1s\tremaining: 2.41s\n",
            "1080:\tlearn: 1.0812717\ttotal: 4.14s\tremaining: 2.37s\n",
            "1090:\tlearn: 1.0812090\ttotal: 4.18s\tremaining: 2.33s\n",
            "1100:\tlearn: 1.0811507\ttotal: 4.23s\tremaining: 2.3s\n",
            "1110:\tlearn: 1.0810851\ttotal: 4.26s\tremaining: 2.26s\n",
            "1120:\tlearn: 1.0809951\ttotal: 4.3s\tremaining: 2.22s\n",
            "1130:\tlearn: 1.0809291\ttotal: 4.34s\tremaining: 2.18s\n",
            "1140:\tlearn: 1.0808400\ttotal: 4.38s\tremaining: 2.15s\n",
            "1150:\tlearn: 1.0807720\ttotal: 4.42s\tremaining: 2.11s\n",
            "1160:\tlearn: 1.0807063\ttotal: 4.46s\tremaining: 2.07s\n",
            "1170:\tlearn: 1.0806015\ttotal: 4.5s\tremaining: 2.03s\n",
            "1180:\tlearn: 1.0805142\ttotal: 4.54s\tremaining: 1.99s\n",
            "1190:\tlearn: 1.0804352\ttotal: 4.58s\tremaining: 1.96s\n",
            "1200:\tlearn: 1.0803624\ttotal: 4.61s\tremaining: 1.92s\n",
            "1210:\tlearn: 1.0802918\ttotal: 4.65s\tremaining: 1.88s\n",
            "1220:\tlearn: 1.0802046\ttotal: 4.7s\tremaining: 1.84s\n",
            "1230:\tlearn: 1.0801220\ttotal: 4.73s\tremaining: 1.8s\n",
            "1240:\tlearn: 1.0800325\ttotal: 4.77s\tremaining: 1.76s\n",
            "1250:\tlearn: 1.0799503\ttotal: 4.81s\tremaining: 1.73s\n",
            "1260:\tlearn: 1.0798799\ttotal: 4.84s\tremaining: 1.69s\n",
            "1270:\tlearn: 1.0798208\ttotal: 4.89s\tremaining: 1.65s\n",
            "1280:\tlearn: 1.0797185\ttotal: 4.93s\tremaining: 1.61s\n",
            "1290:\tlearn: 1.0796303\ttotal: 4.97s\tremaining: 1.57s\n",
            "1300:\tlearn: 1.0795553\ttotal: 5.01s\tremaining: 1.54s\n",
            "1310:\tlearn: 1.0794999\ttotal: 5.05s\tremaining: 1.5s\n",
            "1320:\tlearn: 1.0794133\ttotal: 5.08s\tremaining: 1.46s\n",
            "1330:\tlearn: 1.0793103\ttotal: 5.12s\tremaining: 1.42s\n",
            "1340:\tlearn: 1.0792477\ttotal: 5.18s\tremaining: 1.39s\n",
            "1350:\tlearn: 1.0791651\ttotal: 5.22s\tremaining: 1.35s\n",
            "1360:\tlearn: 1.0791002\ttotal: 5.25s\tremaining: 1.31s\n",
            "1370:\tlearn: 1.0790412\ttotal: 5.29s\tremaining: 1.27s\n",
            "1380:\tlearn: 1.0790056\ttotal: 5.33s\tremaining: 1.23s\n",
            "1390:\tlearn: 1.0789189\ttotal: 5.38s\tremaining: 1.19s\n",
            "1400:\tlearn: 1.0788464\ttotal: 5.43s\tremaining: 1.16s\n",
            "1410:\tlearn: 1.0787307\ttotal: 5.46s\tremaining: 1.12s\n",
            "1420:\tlearn: 1.0786760\ttotal: 5.51s\tremaining: 1.08s\n",
            "1430:\tlearn: 1.0786001\ttotal: 5.55s\tremaining: 1.04s\n",
            "1440:\tlearn: 1.0785260\ttotal: 5.58s\tremaining: 1s\n",
            "1450:\tlearn: 1.0784482\ttotal: 5.63s\tremaining: 965ms\n",
            "1460:\tlearn: 1.0783878\ttotal: 5.66s\tremaining: 926ms\n",
            "1470:\tlearn: 1.0783012\ttotal: 5.7s\tremaining: 888ms\n",
            "1480:\tlearn: 1.0782380\ttotal: 5.74s\tremaining: 849ms\n",
            "1490:\tlearn: 1.0781810\ttotal: 5.78s\tremaining: 810ms\n",
            "1500:\tlearn: 1.0781016\ttotal: 5.82s\tremaining: 771ms\n",
            "1510:\tlearn: 1.0780379\ttotal: 5.87s\tremaining: 734ms\n",
            "1520:\tlearn: 1.0779630\ttotal: 5.91s\tremaining: 695ms\n",
            "1530:\tlearn: 1.0779025\ttotal: 5.94s\tremaining: 656ms\n",
            "1540:\tlearn: 1.0778341\ttotal: 5.98s\tremaining: 617ms\n",
            "1550:\tlearn: 1.0777622\ttotal: 6.02s\tremaining: 578ms\n",
            "1560:\tlearn: 1.0776826\ttotal: 6.06s\tremaining: 539ms\n",
            "1570:\tlearn: 1.0776056\ttotal: 6.1s\tremaining: 501ms\n",
            "1580:\tlearn: 1.0775375\ttotal: 6.15s\tremaining: 463ms\n",
            "1590:\tlearn: 1.0774821\ttotal: 6.2s\tremaining: 425ms\n",
            "1600:\tlearn: 1.0773983\ttotal: 6.24s\tremaining: 386ms\n",
            "1610:\tlearn: 1.0773324\ttotal: 6.27s\tremaining: 347ms\n",
            "1620:\tlearn: 1.0772641\ttotal: 6.31s\tremaining: 308ms\n",
            "1630:\tlearn: 1.0772149\ttotal: 6.35s\tremaining: 269ms\n",
            "1640:\tlearn: 1.0771419\ttotal: 6.39s\tremaining: 230ms\n",
            "1650:\tlearn: 1.0770866\ttotal: 6.43s\tremaining: 191ms\n",
            "1660:\tlearn: 1.0770191\ttotal: 6.47s\tremaining: 152ms\n",
            "1670:\tlearn: 1.0769464\ttotal: 6.52s\tremaining: 113ms\n",
            "1680:\tlearn: 1.0768622\ttotal: 6.57s\tremaining: 74.2ms\n",
            "1690:\tlearn: 1.0767970\ttotal: 6.61s\tremaining: 35.2ms\n",
            "1699:\tlearn: 1.0767348\ttotal: 6.64s\tremaining: 0us\n",
            "Fold 10, Valid score = 1.08819\n",
            "Score by each fold: [1.09345, 1.08652, 1.09164, 1.09305, 1.09132, 1.08983, 1.08999, 1.09374, 1.08975, 1.08819]\n",
            "=================================================================\n"
          ],
          "name": "stdout"
        }
      ]
    },
    {
      "cell_type": "code",
      "metadata": {
        "colab": {
          "base_uri": "https://localhost:8080/"
        },
        "id": "AlFk82SKzxmS",
        "outputId": "6d94d47f-df37-4274-d711-a340fc6b8963"
      },
      "source": [
        "print(f\"Out of fold log loss {metrics.log_loss(target, cb_oof)}\")"
      ],
      "execution_count": 57,
      "outputs": [
        {
          "output_type": "stream",
          "text": [
            "Out of fold log loss 1.090747335890732\n"
          ],
          "name": "stdout"
        }
      ]
    },
    {
      "cell_type": "code",
      "metadata": {
        "colab": {
          "base_uri": "https://localhost:8080/"
        },
        "id": "F5XodS5hRh0w",
        "outputId": "81bdcb2e-fdc4-4d97-a841-eb184782b102"
      },
      "source": [
        "cb_estimators[0]"
      ],
      "execution_count": 118,
      "outputs": [
        {
          "output_type": "execute_result",
          "data": {
            "text/plain": [
              "<catboost.core.CatBoostClassifier at 0x7f5ccceaad10>"
            ]
          },
          "metadata": {
            "tags": []
          },
          "execution_count": 118
        }
      ]
    },
    {
      "cell_type": "markdown",
      "metadata": {
        "id": "fDRuoF1D7nQ2"
      },
      "source": [
        "### XGBoost"
      ]
    },
    {
      "cell_type": "code",
      "metadata": {
        "id": "H329wJ9RksMH"
      },
      "source": [
        "def objective(trial):\n",
        "    data = get_input(\"train.csv\")\n",
        "    data.drop(columns='id', inplace=True)\n",
        "    mapper = {'Class_1': 0, 'Class_2': 1, 'Class_3': 2, 'Class_4': 3}\n",
        "    data['target'] = data['target'].map(mapper)\n",
        "    target = data['target']\n",
        "    data = data.drop(columns=['target'])\n",
        "\n",
        "    train_x, valid_x, train_y, valid_y = train_test_split(data, target, test_size=0.35)\n",
        "    dtrain = xgb.Dataset(train_x, label=train_y)\n",
        "    dvalid = xgb.Dataset(valid_x, label=valid_y)\n",
        "\n",
        "    param = {\n",
        "        'objective': 'multi:softprob',\n",
        "        'eval_metric': 'mlogloss',\n",
        "        \"verbosity\": -1,\n",
        "        'num_class': 4,\n",
        "        'max_depth': trial.suggest_int('max_depth', 3,7),\n",
        "        'learning_rate': trial.suggest_uniform('learning_rate', 0, 0.13 ),\n",
        "    }\n",
        "\n",
        "    # Add a callback for pruning.\n",
        "    pruning_callback = optuna.integration.XGBoostPruningCallback(trial, \"multi_logloss\")\n",
        "    gbm = lgb.train(\n",
        "        param, dtrain, valid_sets=[dvalid], verbose_eval=False, callbacks=[pruning_callback]\n",
        "    )\n",
        "\n",
        "    preds = gbm.predict(valid_x)\n",
        "    log_loss = sklearn.metrics.log_loss(valid_y, preds)\n",
        "    return log_loss"
      ],
      "execution_count": 17,
      "outputs": []
    },
    {
      "cell_type": "code",
      "metadata": {
        "id": "Jkr-3rYElBz2"
      },
      "source": [
        "study = optuna.create_study(\n",
        "        pruner=optuna.pruners.MedianPruner(n_warmup_steps=20), direction=\"minimize\"\n",
        "    )\n",
        "study.optimize(objective, n_trials=200)\n",
        "\n",
        "print(\"Best trial:\")\n",
        "trial = study.best_trial\n",
        "\n",
        "print(\"  Params: \")\n",
        "for key, value in trial.params.items():\n",
        "  print(\"    {}: {}\".format(key, value))"
      ],
      "execution_count": null,
      "outputs": []
    },
    {
      "cell_type": "code",
      "metadata": {
        "id": "ZPOTQJOpSaCp"
      },
      "source": [
        "dtrain = xgb.DMatrix(\n",
        "    data=data, label=target\n",
        ")\n",
        "\n",
        "xgb_params = {\n",
        "    \"booster\": \"gbtree\",\n",
        "    \"eta\": \"0.1\",\n",
        "    \"max_depth\": 3,\n",
        "    \"random_seed\": 42,\n",
        "    'objective': 'multi:softprob',\n",
        "    'eval_metric': 'mlogloss',\n",
        "    'random_state': 13,\n",
        "    'learning_rate': 0.08356451010151393, \n",
        "    'gamma': 0.02911685058980812, \n",
        "    'max_depth': 3, \n",
        "    'min_child_weight': 10.748514454096288, \n",
        "    'max_delta_step': 2.4474818433727927, \n",
        "    'subsample': 0.6445037550866027, \n",
        "    'colsample_bytree': 0.07634753656242108, \n",
        "    'lambda': 13.663280761461781, \n",
        "    'alpha': 21.521205761694137, \n",
        "    'max_leaves': 48,\n",
        "    'num_class': 4,\n",
        "    'tree_method': 'gpu_hist',\n",
        "}\n",
        "\n",
        "cv_result_xgb = xgb.cv(\n",
        "    params=xgb_params,\n",
        "    dtrain=dtrain,\n",
        "    num_boost_round=2000,\n",
        "    #categorical_feature=categorical_feature_names,\n",
        "    early_stopping_rounds=100,\n",
        "    verbose_eval=10,\n",
        "    stratified=True,\n",
        "    seed=42,\n",
        "    metrics=\"mlogloss\",\n",
        "    shuffle=True,\n",
        "    nfold=5,\n",
        "    #maximaze=True\n",
        ")"
      ],
      "execution_count": null,
      "outputs": []
    },
    {
      "cell_type": "code",
      "metadata": {
        "colab": {
          "base_uri": "https://localhost:8080/"
        },
        "id": "ZWQku7R7Zwhq",
        "outputId": "f40dffd3-7ca1-43f9-af52-ace8fc2c5e31"
      },
      "source": [
        "cv_result_xgb.shape[0]"
      ],
      "execution_count": 43,
      "outputs": [
        {
          "output_type": "execute_result",
          "data": {
            "text/plain": [
              "1838"
            ]
          },
          "metadata": {
            "tags": []
          },
          "execution_count": 43
        }
      ]
    },
    {
      "cell_type": "code",
      "metadata": {
        "id": "fv9UP9KQWWCY"
      },
      "source": [
        "xgb_params = {\n",
        "    \"booster\": \"gbtree\",\n",
        "    #\"eta\": 0.1,\n",
        "    \"random_seed\": 42,\n",
        "    'objective': 'multi:softprob',\n",
        "    'eval_metric': 'mlogloss',\n",
        "    'random_state': 13,\n",
        "    'learning_rate': 0.08356451010151393, \n",
        "    'gamma': 0.02911685058980812, \n",
        "    'max_depth': 3,\n",
        "    'min_child_weight': 10.748514454096288, \n",
        "    'max_delta_step': 2.4474818433727927,\n",
        "    'subsample': 0.6445037550866027,\n",
        "    'colsample_bytree': 0.07634753656242108,\n",
        "    'lambda': 13.663280761461781, \n",
        "    'alpha': 21.521205761694137, \n",
        "    'num_class': 4,\n",
        "    'n_estimators': 700,  # надо потюнить\n",
        "    'tree_method': 'gpu_hist',\n",
        "}"
      ],
      "execution_count": 58,
      "outputs": []
    },
    {
      "cell_type": "code",
      "metadata": {
        "colab": {
          "base_uri": "https://localhost:8080/"
        },
        "id": "6ahMyfmGsKvT",
        "outputId": "fc228c8d-d31b-4e0f-b9b4-cb9968a15fbb"
      },
      "source": [
        "cv = StratifiedKFold(n_splits=10, random_state=435, shuffle=True)\n",
        "\n",
        "xgb_estimators, xgb_encoders, xgb_oof = xgboost_cv_fit(\n",
        "    xgb_params, data, target, cv, #categorical=categorical_feature_names\n",
        ")"
      ],
      "execution_count": 59,
      "outputs": [
        {
          "output_type": "stream",
          "text": [
            "Tue May 25 22:17:09 2021, Cross-Validation, 100000 rows, 50 cols\n",
            "Fold 1, Valid score = 1.09345\n",
            "Fold 2, Valid score = 1.08728\n",
            "Fold 3, Valid score = 1.09217\n",
            "Fold 4, Valid score = 1.09297\n",
            "Fold 5, Valid score = 1.09204\n",
            "Fold 6, Valid score = 1.08979\n",
            "Fold 7, Valid score = 1.09069\n",
            "Fold 8, Valid score = 1.09386\n",
            "Fold 9, Valid score = 1.09052\n",
            "Fold 10, Valid score = 1.08872\n"
          ],
          "name": "stdout"
        }
      ]
    },
    {
      "cell_type": "code",
      "metadata": {
        "colab": {
          "base_uri": "https://localhost:8080/"
        },
        "id": "qcggf2lLtf18",
        "outputId": "66f44f01-7d91-4cbd-d5ff-e9047b318575"
      },
      "source": [
        "print(f\"Out of fold log loss {metrics.log_loss(target, xgb_oof)}\")"
      ],
      "execution_count": 60,
      "outputs": [
        {
          "output_type": "stream",
          "text": [
            "Out of fold log loss 1.0911490977954974\n"
          ],
          "name": "stdout"
        }
      ]
    },
    {
      "cell_type": "code",
      "metadata": {
        "colab": {
          "base_uri": "https://localhost:8080/"
        },
        "id": "jgZ8wobWkrm0",
        "outputId": "8d2c7818-b179-4773-a084-4c742a6ad7ad"
      },
      "source": [
        "xgb_estimators[0]"
      ],
      "execution_count": 217,
      "outputs": [
        {
          "output_type": "execute_result",
          "data": {
            "text/plain": [
              "XGBClassifier(alpha=21.521205761694137, colsample_bytree=0.07634753656242108,\n",
              "              eta=0.1, eval_metric='mlogloss', gamma=0.02911685058980812,\n",
              "              lambda=13.663280761461781, learning_rate=0.08356451010151393,\n",
              "              max_delta_step=2.4474818433727927, max_leaves=48,\n",
              "              min_child_weight=10.748514454096288, n_estimators=700,\n",
              "              num_class=4, objective='multi:softprob', random_seed=42,\n",
              "              random_state=13, subsample=0.6445037550866027,\n",
              "              tree_method='gpu_hist')"
            ]
          },
          "metadata": {
            "tags": []
          },
          "execution_count": 217
        }
      ]
    },
    {
      "cell_type": "markdown",
      "metadata": {
        "id": "m5h_Y1FXpK_g"
      },
      "source": [
        "### Модель второго уровня - логистическая регрессия"
      ]
    },
    {
      "cell_type": "code",
      "metadata": {
        "id": "YMbaLiL2lDKs"
      },
      "source": [
        "result_lgbm_df = pd.DataFrame(lgb_oof)\n",
        "result_xgb_df = pd.DataFrame(xgb_oof)\n",
        "result_cb_df = pd.DataFrame(cb_oof)\n",
        "result_lgbm_df.rename(columns={0:'lgb_class_1',\t1:'lgb_class_2',\t2:'lgb_class_3',\t3:'lgb_class_4'}, inplace=True)\n",
        "result_xgb_df.rename(columns={0:'xgb_class_1',\t1:'xgb_class_2',\t2:'xgb_class_3',\t3:'xgb_class_4'}, inplace=True)\n",
        "result_cb_df.rename(columns={0:'cb_class_1',\t1:'cb_class_2',\t2:'cb_class_3',\t3:'cb_class_4'}, inplace=True)\n",
        "result_valid = pd.concat([result_lgbm_df, result_xgb_df, result_cb_df], axis=1) "
      ],
      "execution_count": 61,
      "outputs": []
    },
    {
      "cell_type": "code",
      "metadata": {
        "colab": {
          "base_uri": "https://localhost:8080/"
        },
        "id": "wHzAgWUylNVG",
        "outputId": "81b99868-06e2-4e06-de71-a886bb5df05f"
      },
      "source": [
        "x_train_logreg, x_valid_logreg, y_train_logreg, y_valid_logreg = train_test_split(\n",
        "    result_valid, target, train_size=0.7, shuffle=True, random_state=30,\n",
        ")\n",
        "\n",
        "params = {'random_state': 0, \n",
        "          'max_iter': 300, \n",
        "          'multi_class': 'multinomial', \n",
        "          'solver': 'lbfgs'}\n",
        "\n",
        "logreg = LogisticRegression(**params)\n",
        "logreg.fit(x_train_logreg, y_train_logreg)\n",
        "\n",
        "# 1.08521\n",
        "y_pred_logreg = logreg.predict_proba(x_valid_logreg)\n",
        "metrics.log_loss(y_valid_logreg, y_pred_logreg)"
      ],
      "execution_count": 62,
      "outputs": [
        {
          "output_type": "execute_result",
          "data": {
            "text/plain": [
              "1.0855461236990565"
            ]
          },
          "metadata": {
            "tags": []
          },
          "execution_count": 62
        }
      ]
    },
    {
      "cell_type": "code",
      "metadata": {
        "colab": {
          "base_uri": "https://localhost:8080/"
        },
        "id": "mjJ49mhs1C4i",
        "outputId": "4423e0f4-7df8-406b-c73f-bc3d4f594270"
      },
      "source": [
        "# Обучаем на всем наборе 1.08522\n",
        "logreg = LogisticRegression(**params)\n",
        "logreg.fit(result_valid, target)"
      ],
      "execution_count": 63,
      "outputs": [
        {
          "output_type": "execute_result",
          "data": {
            "text/plain": [
              "LogisticRegression(max_iter=300, multi_class='multinomial', random_state=0)"
            ]
          },
          "metadata": {
            "tags": []
          },
          "execution_count": 63
        }
      ]
    },
    {
      "cell_type": "markdown",
      "metadata": {
        "id": "ZcIUEvGv0W5U"
      },
      "source": [
        "### Модель второго уровня - ансамбль логистических регрессий"
      ]
    },
    {
      "cell_type": "code",
      "metadata": {
        "colab": {
          "base_uri": "https://localhost:8080/"
        },
        "id": "ESagOJx9yF8x",
        "outputId": "48fc703e-376a-4e04-b0a1-6615d1803860"
      },
      "source": [
        "logreg_params = {'random_state': 0, \n",
        "          'max_iter': 500, \n",
        "          'multi_class': 'multinomial', \n",
        "          'solver': 'lbfgs',\n",
        "          'C':1\n",
        "          }\n",
        "\n",
        "cv = StratifiedKFold(n_splits=7, random_state=435, shuffle=True)\n",
        "estimators_log_reg, oof_log_reg, scalers = logistic_cv_fit(logreg_params, result_valid, target, cv)"
      ],
      "execution_count": 75,
      "outputs": [
        {
          "output_type": "stream",
          "text": [
            "Tue May 25 22:33:22 2021, Cross-Validation, 100000 rows, 12 cols\n",
            "Fold 1, Valid score = 1.09015\n",
            "Fold 2, Valid score = 1.08871\n",
            "Fold 3, Valid score = 1.09197\n",
            "Fold 4, Valid score = 1.08691\n",
            "Fold 5, Valid score = 1.09126\n",
            "Fold 6, Valid score = 1.09077\n",
            "Fold 7, Valid score = 1.08693\n",
            "Score by each fold: [1.09015, 1.08871, 1.09197, 1.08691, 1.09126, 1.09077, 1.08693]\n",
            "=================================================================\n"
          ],
          "name": "stdout"
        }
      ]
    },
    {
      "cell_type": "code",
      "metadata": {
        "colab": {
          "base_uri": "https://localhost:8080/"
        },
        "id": "c_0NXIO_zPhV",
        "outputId": "b679ee5f-a888-46b1-f9a4-cdb32d0afac0"
      },
      "source": [
        "# 1.08522\n",
        "print(f\"Out of fold log loss {metrics.log_loss(target, oof_log_reg)}\")"
      ],
      "execution_count": 76,
      "outputs": [
        {
          "output_type": "stream",
          "text": [
            "Out of fold log loss 1.089527397991803\n"
          ],
          "name": "stdout"
        }
      ]
    },
    {
      "cell_type": "markdown",
      "metadata": {
        "id": "qb2pKzryqkvE"
      },
      "source": [
        "## Получение результата (одна модель логистической регрессии)"
      ]
    },
    {
      "cell_type": "code",
      "metadata": {
        "id": "OmZdaHjN5vov"
      },
      "source": [
        "result_xgb_test = multi_estimators_predict(xgb_estimators, test.drop(columns='id'))\n",
        "result_lgb_test = multi_estimators_predict(lgb_estimators, test.drop(columns='id'))\n",
        "result_cb_test = multi_estimators_predict(cb_estimators, test.drop(columns='id'))\n",
        "\n",
        "result_lgb_test_df = pd.DataFrame(result_lgb_test)\n",
        "result_xgb_test_df = pd.DataFrame(result_xgb_test)\n",
        "result_cb_test_df = pd.DataFrame(result_cb_test)\n",
        "result_lgb_test_df.rename(columns={0:'lgb_class_1',\t1:'lgb_class_2',\t2:'lgb_class_3',\t3:'lgb_class_4'}, inplace=True)\n",
        "result_xgb_test_df.rename(columns={0:'xgb_class_1',\t1:'xgb_class_2',\t2:'xgb_class_3',\t3:'xgb_class_4'}, inplace=True)\n",
        "result_cb_test_df.rename(columns={0:'cb_class_1',\t1:'cb_class_2',\t2:'cb_class_3',\t3:'cb_class_4'}, inplace=True)\n",
        "result_for_logreg = pd.concat([result_lgb_test_df, result_xgb_test_df, result_cb_test_df], axis=1) "
      ],
      "execution_count": 64,
      "outputs": []
    },
    {
      "cell_type": "code",
      "metadata": {
        "id": "dY4XvtXMOdiq"
      },
      "source": [
        "y_pred_logreg = logreg.predict_proba(result_for_logreg)"
      ],
      "execution_count": 65,
      "outputs": []
    },
    {
      "cell_type": "code",
      "metadata": {
        "id": "xezSGxJqBR2O"
      },
      "source": [
        "test_pred_df = pd.DataFrame(y_pred_logreg)\n",
        "test_pred_df.rename(columns={0:'class_1',\t1:'class_2',\t2:'class_3',\t3:'class_4'}, inplace=True)\n",
        "result = test.drop(columns = test.columns.to_list()[1:])\n",
        "result = pd.concat([result, test_pred_df], axis=1)\n",
        "result.to_csv('result.csv', index=False)"
      ],
      "execution_count": 66,
      "outputs": []
    },
    {
      "cell_type": "markdown",
      "metadata": {
        "id": "-Qfyrb2D0t00"
      },
      "source": [
        "## Получение результата (ансамбль логистических регрессий)"
      ]
    },
    {
      "cell_type": "code",
      "metadata": {
        "id": "lhxyJg670yn6"
      },
      "source": [
        "result_xgb_test = multi_estimators_predict(xgb_estimators, test.drop(columns='id'))\n",
        "result_lgb_test = multi_estimators_predict(lgb_estimators, test.drop(columns='id'))\n",
        "result_cb_test = multi_estimators_predict(cb_estimators, test.drop(columns='id'))\n",
        "\n",
        "result_lgb_test_df = pd.DataFrame(result_lgb_test)\n",
        "result_xgb_test_df = pd.DataFrame(result_xgb_test)\n",
        "result_cb_test_df = pd.DataFrame(result_cb_test)\n",
        "result_lgb_test_df.rename(columns={0:'lgb_class_1',\t1:'lgb_class_2',\t2:'lgb_class_3',\t3:'lgb_class_4'}, inplace=True)\n",
        "result_xgb_test_df.rename(columns={0:'xgb_class_1',\t1:'xgb_class_2',\t2:'xgb_class_3',\t3:'xgb_class_4'}, inplace=True)\n",
        "result_cb_test_df.rename(columns={0:'cb_class_1',\t1:'cb_class_2',\t2:'cb_class_3',\t3:'cb_class_4'}, inplace=True)\n",
        "result_for_logreg = pd.concat([result_lgb_test_df, result_xgb_test_df, result_cb_test_df], axis=1) "
      ],
      "execution_count": 78,
      "outputs": []
    },
    {
      "cell_type": "code",
      "metadata": {
        "id": "v6nHDlYE2xZV"
      },
      "source": [
        "result = multi_estimators_predict(estimators_log_reg, result_for_logreg)"
      ],
      "execution_count": 80,
      "outputs": []
    },
    {
      "cell_type": "code",
      "metadata": {
        "id": "2yOX10AV3aDz"
      },
      "source": [
        "test_pred_df = pd.DataFrame(result)\n",
        "test_pred_df.rename(columns={0:'class_1',\t1:'class_2',\t2:'class_3',\t3:'class_4'}, inplace=True)\n",
        "result = test.drop(columns = test.columns.to_list()[1:])\n",
        "result = pd.concat([result, test_pred_df], axis=1)\n",
        "result.to_csv('result.csv', index=False)"
      ],
      "execution_count": 82,
      "outputs": []
    },
    {
      "cell_type": "code",
      "metadata": {
        "id": "JaKiHE2J3gHt"
      },
      "source": [
        ""
      ],
      "execution_count": null,
      "outputs": []
    }
  ]
}