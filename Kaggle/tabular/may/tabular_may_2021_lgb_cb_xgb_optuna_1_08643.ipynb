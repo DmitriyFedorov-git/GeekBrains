{
  "nbformat": 4,
  "nbformat_minor": 0,
  "metadata": {
    "colab": {
      "name": "tabular_may_2021_lgb_cb_xgb_optuna_1.08643.ipynb",
      "provenance": [],
      "collapsed_sections": [],
      "toc_visible": true
    },
    "kernelspec": {
      "name": "python3",
      "display_name": "Python 3"
    },
    "language_info": {
      "name": "python"
    }
  },
  "cells": [
    {
      "cell_type": "markdown",
      "metadata": {
        "id": "L2cae_sruzTj"
      },
      "source": [
        "## Загрузка данных и подключение библиотек"
      ]
    },
    {
      "cell_type": "code",
      "metadata": {
        "id": "CN9ljFaEm7ic",
        "colab": {
          "base_uri": "https://localhost:8080/"
        },
        "outputId": "1112a609-5165-4508-92ad-4c313078b4fb"
      },
      "source": [
        "!pip install -q kaggle\n",
        "!mkdir -p ~/.kaggle\n",
        "!cp kaggle.json ~/.kaggle/\n",
        "!ls ~/.kaggle\n",
        "!chmod 600 /root/.kaggle/kaggle.json\n",
        "!kaggle competitions download -c tabular-playground-series-may-2021\n",
        "!pip install catboost\n",
        "!pip install eli5\n",
        "!pip install optuna\n",
        "!pip install shap\n",
        "!pip install scikit-learn-extra\n",
        "!unzip /content/test.csv.zip\n",
        "!unzip /content/train.csv.zip\n",
        "!unzip /content/sample_submission.csv.zip"
      ],
      "execution_count": 1,
      "outputs": [
        {
          "output_type": "stream",
          "text": [
            "kaggle.json\n",
            "Warning: Looks like you're using an outdated API Version, please consider updating (server 1.5.12 / client 1.5.4)\n",
            "Downloading test.csv.zip to /content\n",
            "  0% 0.00/851k [00:00<?, ?B/s]\n",
            "100% 851k/851k [00:00<00:00, 46.4MB/s]\n",
            "Downloading sample_submission.csv.zip to /content\n",
            "  0% 0.00/128k [00:00<?, ?B/s]\n",
            "100% 128k/128k [00:00<00:00, 34.3MB/s]\n",
            "Downloading train.csv.zip to /content\n",
            "  0% 0.00/1.72M [00:00<?, ?B/s]\n",
            "100% 1.72M/1.72M [00:00<00:00, 103MB/s]\n",
            "Collecting catboost\n",
            "\u001b[?25l  Downloading https://files.pythonhosted.org/packages/47/80/8e9c57ec32dfed6ba2922bc5c96462cbf8596ce1a6f5de532ad1e43e53fe/catboost-0.25.1-cp37-none-manylinux1_x86_64.whl (67.3MB)\n",
            "\u001b[K     |████████████████████████████████| 67.3MB 57kB/s \n",
            "\u001b[?25hRequirement already satisfied: pandas>=0.24.0 in /usr/local/lib/python3.7/dist-packages (from catboost) (1.1.5)\n",
            "Requirement already satisfied: graphviz in /usr/local/lib/python3.7/dist-packages (from catboost) (0.10.1)\n",
            "Requirement already satisfied: six in /usr/local/lib/python3.7/dist-packages (from catboost) (1.15.0)\n",
            "Requirement already satisfied: plotly in /usr/local/lib/python3.7/dist-packages (from catboost) (4.4.1)\n",
            "Requirement already satisfied: matplotlib in /usr/local/lib/python3.7/dist-packages (from catboost) (3.2.2)\n",
            "Requirement already satisfied: numpy>=1.16.0 in /usr/local/lib/python3.7/dist-packages (from catboost) (1.19.5)\n",
            "Requirement already satisfied: scipy in /usr/local/lib/python3.7/dist-packages (from catboost) (1.4.1)\n",
            "Requirement already satisfied: pytz>=2017.2 in /usr/local/lib/python3.7/dist-packages (from pandas>=0.24.0->catboost) (2018.9)\n",
            "Requirement already satisfied: python-dateutil>=2.7.3 in /usr/local/lib/python3.7/dist-packages (from pandas>=0.24.0->catboost) (2.8.1)\n",
            "Requirement already satisfied: retrying>=1.3.3 in /usr/local/lib/python3.7/dist-packages (from plotly->catboost) (1.3.3)\n",
            "Requirement already satisfied: kiwisolver>=1.0.1 in /usr/local/lib/python3.7/dist-packages (from matplotlib->catboost) (1.3.1)\n",
            "Requirement already satisfied: pyparsing!=2.0.4,!=2.1.2,!=2.1.6,>=2.0.1 in /usr/local/lib/python3.7/dist-packages (from matplotlib->catboost) (2.4.7)\n",
            "Requirement already satisfied: cycler>=0.10 in /usr/local/lib/python3.7/dist-packages (from matplotlib->catboost) (0.10.0)\n",
            "Installing collected packages: catboost\n",
            "Successfully installed catboost-0.25.1\n",
            "Collecting eli5\n",
            "\u001b[?25l  Downloading https://files.pythonhosted.org/packages/d1/54/04cab6e1c0ae535bec93f795d8403fdf6caf66fa5a6512263202dbb14ea6/eli5-0.11.0-py2.py3-none-any.whl (106kB)\n",
            "\u001b[K     |████████████████████████████████| 112kB 12.7MB/s \n",
            "\u001b[?25hRequirement already satisfied: scipy in /usr/local/lib/python3.7/dist-packages (from eli5) (1.4.1)\n",
            "Requirement already satisfied: graphviz in /usr/local/lib/python3.7/dist-packages (from eli5) (0.10.1)\n",
            "Requirement already satisfied: attrs>16.0.0 in /usr/local/lib/python3.7/dist-packages (from eli5) (21.2.0)\n",
            "Requirement already satisfied: six in /usr/local/lib/python3.7/dist-packages (from eli5) (1.15.0)\n",
            "Requirement already satisfied: scikit-learn>=0.20 in /usr/local/lib/python3.7/dist-packages (from eli5) (0.22.2.post1)\n",
            "Requirement already satisfied: jinja2 in /usr/local/lib/python3.7/dist-packages (from eli5) (2.11.3)\n",
            "Requirement already satisfied: numpy>=1.9.0 in /usr/local/lib/python3.7/dist-packages (from eli5) (1.19.5)\n",
            "Requirement already satisfied: tabulate>=0.7.7 in /usr/local/lib/python3.7/dist-packages (from eli5) (0.8.9)\n",
            "Requirement already satisfied: joblib>=0.11 in /usr/local/lib/python3.7/dist-packages (from scikit-learn>=0.20->eli5) (1.0.1)\n",
            "Requirement already satisfied: MarkupSafe>=0.23 in /usr/local/lib/python3.7/dist-packages (from jinja2->eli5) (2.0.0)\n",
            "Installing collected packages: eli5\n",
            "Successfully installed eli5-0.11.0\n",
            "Collecting optuna\n",
            "\u001b[?25l  Downloading https://files.pythonhosted.org/packages/2b/21/d13081805e1e1afc71f5bb743ece324c8bd576237c51b899ecb38a717502/optuna-2.7.0-py3-none-any.whl (293kB)\n",
            "\u001b[K     |████████████████████████████████| 296kB 13.3MB/s \n",
            "\u001b[?25hCollecting cmaes>=0.8.2\n",
            "  Downloading https://files.pythonhosted.org/packages/01/1f/43b01223a0366171f474320c6e966c39a11587287f098a5f09809b45e05f/cmaes-0.8.2-py3-none-any.whl\n",
            "Requirement already satisfied: tqdm in /usr/local/lib/python3.7/dist-packages (from optuna) (4.41.1)\n",
            "Collecting alembic\n",
            "\u001b[?25l  Downloading https://files.pythonhosted.org/packages/ab/ff/375a0a81965a7ad4e23d1786de218e9bae050c4d3927cc9b2783aa045401/alembic-1.6.2.tar.gz (1.2MB)\n",
            "\u001b[K     |████████████████████████████████| 1.2MB 23.6MB/s \n",
            "\u001b[?25hRequirement already satisfied: scipy!=1.4.0 in /usr/local/lib/python3.7/dist-packages (from optuna) (1.4.1)\n",
            "Requirement already satisfied: packaging>=20.0 in /usr/local/lib/python3.7/dist-packages (from optuna) (20.9)\n",
            "Requirement already satisfied: sqlalchemy>=1.1.0 in /usr/local/lib/python3.7/dist-packages (from optuna) (1.4.15)\n",
            "Collecting colorlog\n",
            "  Downloading https://files.pythonhosted.org/packages/32/e6/e9ddc6fa1104fda718338b341e4b3dc31cd8039ab29e52fc73b508515361/colorlog-5.0.1-py2.py3-none-any.whl\n",
            "Collecting cliff\n",
            "\u001b[?25l  Downloading https://files.pythonhosted.org/packages/a2/d6/7d9acb68a77acd140be7fececb7f2701b2a29d2da9c54184cb8f93509590/cliff-3.7.0-py3-none-any.whl (80kB)\n",
            "\u001b[K     |████████████████████████████████| 81kB 8.3MB/s \n",
            "\u001b[?25hRequirement already satisfied: numpy in /usr/local/lib/python3.7/dist-packages (from optuna) (1.19.5)\n",
            "Collecting Mako\n",
            "\u001b[?25l  Downloading https://files.pythonhosted.org/packages/f3/54/dbc07fbb20865d3b78fdb7cf7fa713e2cba4f87f71100074ef2dc9f9d1f7/Mako-1.1.4-py2.py3-none-any.whl (75kB)\n",
            "\u001b[K     |████████████████████████████████| 81kB 7.3MB/s \n",
            "\u001b[?25hCollecting python-editor>=0.3\n",
            "  Downloading https://files.pythonhosted.org/packages/c6/d3/201fc3abe391bbae6606e6f1d598c15d367033332bd54352b12f35513717/python_editor-1.0.4-py3-none-any.whl\n",
            "Requirement already satisfied: python-dateutil in /usr/local/lib/python3.7/dist-packages (from alembic->optuna) (2.8.1)\n",
            "Requirement already satisfied: pyparsing>=2.0.2 in /usr/local/lib/python3.7/dist-packages (from packaging>=20.0->optuna) (2.4.7)\n",
            "Requirement already satisfied: greenlet!=0.4.17; python_version >= \"3\" in /usr/local/lib/python3.7/dist-packages (from sqlalchemy>=1.1.0->optuna) (1.1.0)\n",
            "Requirement already satisfied: importlib-metadata; python_version < \"3.8\" in /usr/local/lib/python3.7/dist-packages (from sqlalchemy>=1.1.0->optuna) (4.0.1)\n",
            "Collecting pbr!=2.1.0,>=2.0.0\n",
            "\u001b[?25l  Downloading https://files.pythonhosted.org/packages/18/e0/1d4702dd81121d04a477c272d47ee5b6bc970d1a0990b11befa275c55cf2/pbr-5.6.0-py2.py3-none-any.whl (111kB)\n",
            "\u001b[K     |████████████████████████████████| 112kB 31.7MB/s \n",
            "\u001b[?25hRequirement already satisfied: PyYAML>=3.12 in /usr/local/lib/python3.7/dist-packages (from cliff->optuna) (3.13)\n",
            "Requirement already satisfied: PrettyTable>=0.7.2 in /usr/local/lib/python3.7/dist-packages (from cliff->optuna) (2.1.0)\n",
            "Collecting cmd2>=1.0.0\n",
            "\u001b[?25l  Downloading https://files.pythonhosted.org/packages/15/8b/15061b32332bb35ea2a2f6263d0f616779d576e82739ec8e7fcf3c94abf5/cmd2-1.5.0-py3-none-any.whl (133kB)\n",
            "\u001b[K     |████████████████████████████████| 143kB 28.5MB/s \n",
            "\u001b[?25hCollecting stevedore>=2.0.1\n",
            "\u001b[?25l  Downloading https://files.pythonhosted.org/packages/d4/49/b602307aeac3df3384ff1fcd05da9c0376c622a6c48bb5325f28ab165b57/stevedore-3.3.0-py3-none-any.whl (49kB)\n",
            "\u001b[K     |████████████████████████████████| 51kB 5.1MB/s \n",
            "\u001b[?25hRequirement already satisfied: MarkupSafe>=0.9.2 in /usr/local/lib/python3.7/dist-packages (from Mako->alembic->optuna) (2.0.0)\n",
            "Requirement already satisfied: six>=1.5 in /usr/local/lib/python3.7/dist-packages (from python-dateutil->alembic->optuna) (1.15.0)\n",
            "Requirement already satisfied: zipp>=0.5 in /usr/local/lib/python3.7/dist-packages (from importlib-metadata; python_version < \"3.8\"->sqlalchemy>=1.1.0->optuna) (3.4.1)\n",
            "Requirement already satisfied: typing-extensions>=3.6.4; python_version < \"3.8\" in /usr/local/lib/python3.7/dist-packages (from importlib-metadata; python_version < \"3.8\"->sqlalchemy>=1.1.0->optuna) (3.7.4.3)\n",
            "Requirement already satisfied: wcwidth in /usr/local/lib/python3.7/dist-packages (from PrettyTable>=0.7.2->cliff->optuna) (0.2.5)\n",
            "Collecting colorama>=0.3.7\n",
            "  Downloading https://files.pythonhosted.org/packages/44/98/5b86278fbbf250d239ae0ecb724f8572af1c91f4a11edf4d36a206189440/colorama-0.4.4-py2.py3-none-any.whl\n",
            "Collecting pyperclip>=1.6\n",
            "  Downloading https://files.pythonhosted.org/packages/a7/2c/4c64579f847bd5d539803c8b909e54ba087a79d01bb3aba433a95879a6c5/pyperclip-1.8.2.tar.gz\n",
            "Requirement already satisfied: attrs>=16.3.0 in /usr/local/lib/python3.7/dist-packages (from cmd2>=1.0.0->cliff->optuna) (21.2.0)\n",
            "Building wheels for collected packages: alembic, pyperclip\n",
            "  Building wheel for alembic (setup.py) ... \u001b[?25l\u001b[?25hdone\n",
            "  Created wheel for alembic: filename=alembic-1.6.2-py2.py3-none-any.whl size=164219 sha256=e69fb5213f3bff4035ba02b6588a9ea536782b7830f0d48522d5706152ca1241\n",
            "  Stored in directory: /root/.cache/pip/wheels/a5/63/44/db29401e49ef5331c163b591f12a465c40af864bfa888dabd2\n",
            "  Building wheel for pyperclip (setup.py) ... \u001b[?25l\u001b[?25hdone\n",
            "  Created wheel for pyperclip: filename=pyperclip-1.8.2-cp37-none-any.whl size=11107 sha256=c8b760a157dd97151e8f7d683dc0753a80d2b2d51db208ef9885ae8bb84f735e\n",
            "  Stored in directory: /root/.cache/pip/wheels/25/af/b8/3407109267803f4015e1ee2ff23be0c8c19ce4008665931ee1\n",
            "Successfully built alembic pyperclip\n",
            "Installing collected packages: cmaes, Mako, python-editor, alembic, colorlog, pbr, colorama, pyperclip, cmd2, stevedore, cliff, optuna\n",
            "Successfully installed Mako-1.1.4 alembic-1.6.2 cliff-3.7.0 cmaes-0.8.2 cmd2-1.5.0 colorama-0.4.4 colorlog-5.0.1 optuna-2.7.0 pbr-5.6.0 pyperclip-1.8.2 python-editor-1.0.4 stevedore-3.3.0\n",
            "Collecting shap\n",
            "\u001b[?25l  Downloading https://files.pythonhosted.org/packages/b9/f4/c5b95cddae15be80f8e58b25edceca105aa83c0b8c86a1edad24a6af80d3/shap-0.39.0.tar.gz (356kB)\n",
            "\u001b[K     |████████████████████████████████| 358kB 15.4MB/s \n",
            "\u001b[?25hRequirement already satisfied: numpy in /usr/local/lib/python3.7/dist-packages (from shap) (1.19.5)\n",
            "Requirement already satisfied: scipy in /usr/local/lib/python3.7/dist-packages (from shap) (1.4.1)\n",
            "Requirement already satisfied: scikit-learn in /usr/local/lib/python3.7/dist-packages (from shap) (0.22.2.post1)\n",
            "Requirement already satisfied: pandas in /usr/local/lib/python3.7/dist-packages (from shap) (1.1.5)\n",
            "Requirement already satisfied: tqdm>4.25.0 in /usr/local/lib/python3.7/dist-packages (from shap) (4.41.1)\n",
            "Collecting slicer==0.0.7\n",
            "  Downloading https://files.pythonhosted.org/packages/78/c2/b3f55dfdb8af9812fdb9baf70cacf3b9e82e505b2bd4324d588888b81202/slicer-0.0.7-py3-none-any.whl\n",
            "Requirement already satisfied: numba in /usr/local/lib/python3.7/dist-packages (from shap) (0.51.2)\n",
            "Requirement already satisfied: cloudpickle in /usr/local/lib/python3.7/dist-packages (from shap) (1.3.0)\n",
            "Requirement already satisfied: joblib>=0.11 in /usr/local/lib/python3.7/dist-packages (from scikit-learn->shap) (1.0.1)\n",
            "Requirement already satisfied: python-dateutil>=2.7.3 in /usr/local/lib/python3.7/dist-packages (from pandas->shap) (2.8.1)\n",
            "Requirement already satisfied: pytz>=2017.2 in /usr/local/lib/python3.7/dist-packages (from pandas->shap) (2018.9)\n",
            "Requirement already satisfied: llvmlite<0.35,>=0.34.0.dev0 in /usr/local/lib/python3.7/dist-packages (from numba->shap) (0.34.0)\n",
            "Requirement already satisfied: setuptools in /usr/local/lib/python3.7/dist-packages (from numba->shap) (56.1.0)\n",
            "Requirement already satisfied: six>=1.5 in /usr/local/lib/python3.7/dist-packages (from python-dateutil>=2.7.3->pandas->shap) (1.15.0)\n",
            "Building wheels for collected packages: shap\n",
            "  Building wheel for shap (setup.py) ... \u001b[?25l\u001b[?25hdone\n",
            "  Created wheel for shap: filename=shap-0.39.0-cp37-cp37m-linux_x86_64.whl size=491624 sha256=eae28980a5d3771f6795637d7126716289ab64e86823248ec59ae638a5b419c3\n",
            "  Stored in directory: /root/.cache/pip/wheels/15/27/f5/a8ab9da52fd159aae6477b5ede6eaaec69fd130fa0fa59f283\n",
            "Successfully built shap\n",
            "Installing collected packages: slicer, shap\n",
            "Successfully installed shap-0.39.0 slicer-0.0.7\n",
            "Collecting scikit-learn-extra\n",
            "\u001b[?25l  Downloading https://files.pythonhosted.org/packages/82/1e/79cd1a2b60a6cd6a7a9c4719f947e264ae391644adce3ddecf73afd5233d/scikit_learn_extra-0.2.0-cp37-cp37m-manylinux2010_x86_64.whl (1.7MB)\n",
            "\u001b[K     |████████████████████████████████| 1.7MB 12.1MB/s \n",
            "\u001b[?25hRequirement already satisfied: numpy>=1.13.3 in /usr/local/lib/python3.7/dist-packages (from scikit-learn-extra) (1.19.5)\n",
            "Requirement already satisfied: scipy>=0.19.1 in /usr/local/lib/python3.7/dist-packages (from scikit-learn-extra) (1.4.1)\n",
            "Collecting scikit-learn>=0.23.0\n",
            "\u001b[?25l  Downloading https://files.pythonhosted.org/packages/a8/eb/a48f25c967526b66d5f1fa7a984594f0bf0a5afafa94a8c4dbc317744620/scikit_learn-0.24.2-cp37-cp37m-manylinux2010_x86_64.whl (22.3MB)\n",
            "\u001b[K     |████████████████████████████████| 22.3MB 2.3MB/s \n",
            "\u001b[?25hCollecting threadpoolctl>=2.0.0\n",
            "  Downloading https://files.pythonhosted.org/packages/f7/12/ec3f2e203afa394a149911729357aa48affc59c20e2c1c8297a60f33f133/threadpoolctl-2.1.0-py3-none-any.whl\n",
            "Requirement already satisfied: joblib>=0.11 in /usr/local/lib/python3.7/dist-packages (from scikit-learn>=0.23.0->scikit-learn-extra) (1.0.1)\n",
            "Installing collected packages: threadpoolctl, scikit-learn, scikit-learn-extra\n",
            "  Found existing installation: scikit-learn 0.22.2.post1\n",
            "    Uninstalling scikit-learn-0.22.2.post1:\n",
            "      Successfully uninstalled scikit-learn-0.22.2.post1\n",
            "Successfully installed scikit-learn-0.24.2 scikit-learn-extra-0.2.0 threadpoolctl-2.1.0\n",
            "Archive:  /content/test.csv.zip\n",
            "  inflating: test.csv                \n",
            "Archive:  /content/train.csv.zip\n",
            "  inflating: train.csv               \n",
            "Archive:  /content/sample_submission.csv.zip\n",
            "  inflating: sample_submission.csv   \n"
          ],
          "name": "stdout"
        }
      ]
    },
    {
      "cell_type": "code",
      "metadata": {
        "id": "SPCPef-moIJc"
      },
      "source": [
        "import pandas as pd\n",
        "import seaborn as sns\n",
        "import numpy as np\n",
        "import catboost as cb\n",
        "import sklearn\n",
        "import xgboost as xgb\n",
        "from sklearn.model_selection import train_test_split, RepeatedKFold\n",
        "from sklearn.metrics import roc_auc_score\n",
        "import matplotlib.pyplot as plt\n",
        "from sklearn import metrics\n",
        "from sklearn.decomposition import PCA, FactorAnalysis as FA\n",
        "from typing import List, Optional\n",
        "from sklearn.model_selection import KFold, cross_val_score, StratifiedKFold, train_test_split\n",
        "from typing import List, Tuple\n",
        "import scipy.stats as ss\n",
        "from sklearn_extra.cluster import KMedoids\n",
        "import math\n",
        "from sklearn.utils.validation import check_is_fitted\n",
        "import eli5\n",
        "from sklearn.base import BaseEstimator, TransformerMixin\n",
        "import time\n",
        "from sklearn.cluster import KMeans\n",
        "from sklearn.metrics import confusion_matrix\n",
        "from sklearn.inspection import permutation_importance\n",
        "from sklearn.linear_model import SGDClassifier\n",
        "from sklearn.preprocessing import StandardScaler\n",
        "from sklearn.linear_model import LogisticRegression\n",
        "import lightgbm as lgb\n",
        "import shap\n",
        "import missingno as msno\n",
        "from sklearn.inspection import permutation_importance\n",
        "from eli5.sklearn import PermutationImportance\n",
        "import optuna\n",
        "from sklearn.metrics import log_loss\n",
        "pd.plotting.register_matplotlib_converters()\n",
        "%matplotlib inline\n",
        "sns.set(color_codes=True)\n",
        "pal = sns.color_palette(\"viridis\", 10)\n",
        "sns.set_palette(pal)"
      ],
      "execution_count": 2,
      "outputs": []
    },
    {
      "cell_type": "markdown",
      "metadata": {
        "id": "vRDV-RIau5xK"
      },
      "source": [
        "## Используемые функции"
      ]
    },
    {
      "cell_type": "code",
      "metadata": {
        "id": "t1a1WAM6n7Sw"
      },
      "source": [
        "def get_input(data_path: str) -> pd.DataFrame:\n",
        "  \"\"\"\n",
        "  Считывание данных и вывод основной информации о наборе данных.\n",
        "\n",
        "  Parmeters\n",
        "  ---------\n",
        "  data_path: str - название файла\n",
        "\n",
        "  Returns\n",
        "  -------\n",
        "  data: pandas.core.frame.DataFrame - загруженный набор данных в pandas.Dataframe\n",
        "  \"\"\"\n",
        "  base_path = \"/content\"\n",
        "  data = pd.read_csv(f\"{base_path}/{data_path}\")\n",
        "  data.columns = [col.lower() for col in data.columns]\n",
        "  print(f\"{data_path}: shape = {data.shape[0]} rows, {data.shape[1]} cols\")\n",
        "  return data"
      ],
      "execution_count": 3,
      "outputs": []
    },
    {
      "cell_type": "code",
      "metadata": {
        "id": "8xYi4Bx2oK4D"
      },
      "source": [
        "def plot_feature_importance(importance, names, model_type, figsize=(10,8)):\n",
        "\n",
        "  #Create arrays from feature importance and feature names\n",
        "  feature_importance = np.array(importance)\n",
        "  feature_names = np.array(names)\n",
        "\n",
        "  #Create a DataFrame using a Dictionary\n",
        "  data={'feature_names':feature_names,'feature_importance':feature_importance}\n",
        "  fi_df = pd.DataFrame(data)\n",
        "\n",
        "  #Sort the DataFrame in order decreasing feature importance\n",
        "  fi_df.sort_values(by=['feature_importance'], ascending=False,inplace=True)\n",
        "\n",
        "  #Define size of bar plot\n",
        "  plt.figure(figsize=figsize)\n",
        "  #Plot Searborn bar chart\n",
        "  sns.barplot(x=fi_df['feature_importance'], y=fi_df['feature_names'])\n",
        "  #Add chart labels\n",
        "  plt.title(model_type + ' FEATURE IMPORTANCE')\n",
        "  plt.xlabel('FEATURE IMPORTANCE')\n",
        "  plt.ylabel('FEATURE NAMES')\n",
        "  return list(fi_df['feature_names'].values)"
      ],
      "execution_count": 4,
      "outputs": []
    },
    {
      "cell_type": "code",
      "metadata": {
        "id": "ZI6_REOZ0DSo"
      },
      "source": [
        "def multi_estimators_predict(estimators: List,\n",
        "                             x_valid: pd.DataFrame,\n",
        "                             y_valid = None,\n",
        "                             metric: callable = None,\n",
        "                             scalers: List = None):\n",
        "  preds = []\n",
        "  evals = []\n",
        "  if scalers:\n",
        "    assert len(estimators) == len(scalers)\n",
        "\n",
        "  for i in range(len(estimators)):\n",
        "    if scalers:\n",
        "      pred = estimators[i].predict_proba(scalers[i].transform(x_valid))\n",
        "    else:\n",
        "      if type(estimators[0]) == xgb.core.Booster:\n",
        "        pred = estimators[i].predict(x_valid)\n",
        "      else:\n",
        "        pred = estimators[i].predict_proba(x_valid)\n",
        "\n",
        "    \n",
        "    preds.append(pred)\n",
        "    if (y_valid is not None) and (metric is not None):\n",
        "      eval = metric(y_valid, pred)\n",
        "      evals.append(eval)\n",
        "  \n",
        "  result = np.stack([preds], axis=0)\n",
        "  result = np.squeeze(result, axis=0)\n",
        "  result = np.mean(result, axis=0)\n",
        "\n",
        "  if (y_valid is not None) & (metric is not None):\n",
        "    for i, eval in enumerate(evals):\n",
        "      print(f\"Model {i} metric: {eval:.7}\")\n",
        "    print(f\"Result model metric: {metric(y_valid, result):.7}\")\n",
        "\n",
        "  return result"
      ],
      "execution_count": 5,
      "outputs": []
    },
    {
      "cell_type": "code",
      "metadata": {
        "id": "axVSJLl4_APy"
      },
      "source": [
        "def catboost_cv_fit(params, X, y, cv, categorical = None):\n",
        "    \"\"\"\n",
        "    Кросс-валидация для модели catboost.\n",
        "\n",
        "    Parameters\n",
        "    ----------\n",
        "    params: dict\n",
        "        Словарь гиперпараметров модели.\n",
        "\n",
        "    X: pandas.core.frame.DataFrame\n",
        "        Матрица признако для обучения модели.\n",
        "\n",
        "    y: pandas.core.frame.Series\n",
        "        Вектор целевой переменной для обучения модели.\n",
        "\n",
        "    cv: KFold or StratifiedKFold generator.\n",
        "        Объект KFold / StratifiedKFold для определения\n",
        "        стратегии кросс-валидации модели.\n",
        "\n",
        "    categorical: str, optional, default = None\n",
        "        Список категориальных признаков.\n",
        "        Опциональный параметр, по умолчанию, не используется.\n",
        "\n",
        "    Returns\n",
        "    -------\n",
        "    estimators: list\n",
        "        Список с объектами обученной модели.\n",
        "\n",
        "    oof_preds: np.array\n",
        "        Вектор OOF-прогнозов.\n",
        "\n",
        "    \"\"\"\n",
        "    if not categorical:\n",
        "        categorical = \"auto\"\n",
        "\n",
        "    estimators, folds_scores = [], []\n",
        "    oof_preds = np.zeros((X.shape[0], 4))\n",
        "    print(f\"{time.ctime()}, Cross-Validation, {X.shape[0]} rows, {X.shape[1]} cols\")\n",
        "\n",
        "    for fold, (train_idx, valid_idx) in enumerate(cv.split(X, y)):\n",
        "        x_train, x_valid = X.loc[train_idx], X.loc[valid_idx]\n",
        "        y_train, y_valid = y[train_idx], y[valid_idx]\n",
        "\n",
        "        model = cb.CatBoostClassifier(**params)\n",
        "        model.fit(\n",
        "            x_train, y_train,\n",
        "            eval_set=[(x_valid, y_valid)], verbose=10, early_stopping_rounds=50,\n",
        "            #cat_features=categorical\n",
        "        )\n",
        "        oof_preds[valid_idx] = model.predict_proba(x_valid)\n",
        "        score = metrics.log_loss(y_valid, oof_preds[valid_idx])\n",
        "        print(f\"Fold {fold+1}, Valid score = {round(score, 5)}\")\n",
        "        folds_scores.append(round(score, 5))\n",
        "        estimators.append(model)\n",
        "\n",
        "    print(f\"Score by each fold: {folds_scores}\")\n",
        "    print(\"=\"*65)\n",
        "    return estimators, oof_preds"
      ],
      "execution_count": 6,
      "outputs": []
    },
    {
      "cell_type": "code",
      "metadata": {
        "id": "kl1i1-0p_DYE"
      },
      "source": [
        "def lightgbm_cv_fit(params, X, y, cv, categorical = None):\n",
        "    \"\"\"\n",
        "    Кросс-валидация для модели lightgbm.\n",
        "\n",
        "    Parameters\n",
        "    ----------\n",
        "    params: dict\n",
        "        Словарь гиперпараметров модели.\n",
        "\n",
        "    X: pandas.core.frame.DataFrame\n",
        "        Матрица признако для обучения модели.\n",
        "\n",
        "    y: pandas.core.frame.Series\n",
        "        Вектор целевой переменной для обучения модели.\n",
        "\n",
        "    cv: KFold or StratifiedKFold generator.\n",
        "        Объект KFold / StratifiedKFold для определения\n",
        "        стратегии кросс-валидации модели.\n",
        "\n",
        "    categorical: str, optional, default = None\n",
        "        Список категориальных признаков.\n",
        "        Опциональный параметр, по умолчанию, не используется.\n",
        "\n",
        "    Returns\n",
        "    -------\n",
        "    estimators: list\n",
        "        Список с объектами обученной модели.\n",
        "\n",
        "    oof_preds: np.array\n",
        "        Вектор OOF-прогнозов.\n",
        "\n",
        "    \"\"\"\n",
        "    if not categorical:\n",
        "        categorical = \"auto\"\n",
        "\n",
        "    estimators, folds_scores = [], []\n",
        "    oof_preds = np.zeros((X.shape[0], 4))\n",
        "    print(f\"{time.ctime()}, Cross-Validation, {X.shape[0]} rows, {X.shape[1]} cols\")\n",
        "\n",
        "    for fold, (train_idx, valid_idx) in enumerate(cv.split(X, y)):\n",
        "        x_train, x_valid = X.loc[train_idx], X.loc[valid_idx]\n",
        "        y_train, y_valid = y[train_idx], y[valid_idx]\n",
        "\n",
        "        model = lgb.LGBMClassifier(**params)\n",
        "        model.fit(\n",
        "            x_train, y_train,\n",
        "            eval_set=[(x_valid, y_valid)],\n",
        "            eval_metric=\"multi_logloss\", verbose=10, early_stopping_rounds=50,\n",
        "            categorical_feature=categorical\n",
        "        )\n",
        "        oof_preds[valid_idx] = model.predict_proba(x_valid)\n",
        "        score = metrics.log_loss(y_valid, oof_preds[valid_idx])\n",
        "        print(f\"Fold {fold+1}, Valid score = {round(score, 5)}\")\n",
        "        folds_scores.append(round(score, 5))\n",
        "        estimators.append(model)\n",
        "\n",
        "    print(f\"Score by each fold: {folds_scores}\")\n",
        "    print(\"=\"*65)\n",
        "    return estimators, oof_preds"
      ],
      "execution_count": 7,
      "outputs": []
    },
    {
      "cell_type": "code",
      "metadata": {
        "id": "R-mViB0kw06r"
      },
      "source": [
        "def xgboost_cv_fit(params, X, y, cv, categorical = None):\n",
        "    \"\"\"\n",
        "    Кросс-валидация для модели xgboost.\n",
        "\n",
        "    Parameters\n",
        "    ----------\n",
        "    params: dict\n",
        "        Словарь гиперпараметров модели.\n",
        "\n",
        "    X: pandas.core.frame.DataFrame\n",
        "        Матрица признако для обучения модели.\n",
        "\n",
        "    y: pandas.core.frame.Series\n",
        "        Вектор целевой переменной для обучения модели.\n",
        "\n",
        "    cv: KFold or StratifiedKFold generator.\n",
        "        Объект KFold / StratifiedKFold для определения\n",
        "        стратегии кросс-валидации модели.\n",
        "\n",
        "    categorical: str, optional, default = None\n",
        "        Список категориальных признаков.\n",
        "        Опциональный параметр, по умолчанию, не используется.\n",
        "\n",
        "    Returns\n",
        "    -------\n",
        "    estimators: list\n",
        "        Список с объектами обученной модели.\n",
        "\n",
        "    encoders: dict\n",
        "        Список с объектами LabelEncoders.\n",
        "\n",
        "    oof_preds: np.array\n",
        "        Вектор OOF-прогнозов.\n",
        "\n",
        "    \"\"\"\n",
        "    estimators, encoders = [], {}\n",
        "    oof_preds = np.zeros((X.shape[0], 4))\n",
        "\n",
        "    if categorical:\n",
        "        for feature in categorical:\n",
        "            encoder = LabelEncoder()\n",
        "            X[feature] = encoder.fit_transform(X[feature].astype(\"str\").fillna(\"NA\"))\n",
        "            encoders[feature] = encoder\n",
        "\n",
        "    print(f\"{time.ctime()}, Cross-Validation, {X.shape[0]} rows, {X.shape[1]} cols\")\n",
        "\n",
        "    for fold, (train_idx, valid_idx) in enumerate(cv.split(X, y)):\n",
        "\n",
        "        x_train, x_valid = X.loc[train_idx], X.loc[valid_idx]\n",
        "        y_train, y_valid = y[train_idx], y[valid_idx]\n",
        "\n",
        "        model = xgb.XGBClassifier(**params)\n",
        "        model.fit(\n",
        "            x_train, y_train,\n",
        "            eval_set=[(x_valid, y_valid)],\n",
        "            eval_metric=\"mlogloss\", \n",
        "            verbose=10, \n",
        "            early_stopping_rounds=50,\n",
        "        )\n",
        "\n",
        "        oof_preds[valid_idx] = model.predict_proba(x_valid)\n",
        "        score = metrics.log_loss(y_valid, oof_preds[valid_idx])\n",
        "        print(f\"Fold {fold+1}, Valid score = {round(score, 5)}\")\n",
        "        estimators.append(model)\n",
        "\n",
        "    return estimators, encoders, oof_preds"
      ],
      "execution_count": 70,
      "outputs": []
    },
    {
      "cell_type": "markdown",
      "metadata": {
        "id": "1t5BXvdKvQjh"
      },
      "source": [
        "## Загрузка данных и построение моделей"
      ]
    },
    {
      "cell_type": "markdown",
      "metadata": {
        "id": "himyfRnOwFk2"
      },
      "source": [
        "### lightgbm + optuna"
      ]
    },
    {
      "cell_type": "code",
      "metadata": {
        "colab": {
          "base_uri": "https://localhost:8080/"
        },
        "id": "C07gT6gk_QiT",
        "outputId": "85545051-8a5f-4428-c7ac-eea731b6cb63"
      },
      "source": [
        "def objective(trial):\n",
        "    data = get_input(\"train.csv\")\n",
        "    data.drop(columns='id', inplace=True)\n",
        "    mapper = {'Class_1': 0, 'Class_2': 1, 'Class_3': 2, 'Class_4': 3}\n",
        "    data['target'] = data['target'].map(mapper)\n",
        "    target = data['target']\n",
        "    data = data.drop(columns=['target'])\n",
        "    \n",
        "    \n",
        "    train_x, test_x, train_y, test_y = train_test_split(data, target, test_size=0.3)\n",
        "    dtrain = lgb.Dataset(train_x, label=train_y)\n",
        " \n",
        "    #param = {\n",
        "    #    'objective': 'multiclass',\n",
        "    #    'metric': 'multi_logloss',\n",
        "    #    'num_class': 4,\n",
        "    #    'lambda_l1': trial.suggest_loguniform('lambda_l1', 1e-8, 10.0),\n",
        "    #    'lambda_l2': trial.suggest_loguniform('lambda_l2', 1e-8, 10.0),\n",
        "    #    'num_leaves': trial.suggest_int('num_leaves', 2, 256),\n",
        "    #    'feature_fraction': trial.suggest_uniform('feature_fraction', 0.4, 1.0),\n",
        "    #    'bagging_fraction': trial.suggest_uniform('bagging_fraction', 0.4, 1.0),\n",
        "    #    'bagging_freq': trial.suggest_int('bagging_freq', 1, 7),\n",
        "    #    'min_child_samples': trial.suggest_int('min_child_samples', 5, 100),\n",
        "    #}\n",
        "\n",
        "    param = {\n",
        "         'reg_alpha': trial.suggest_loguniform('reg_alpha', 1e-5, 30.0),\n",
        "        'reg_lambda': trial.suggest_loguniform('reg_lambda', 1e-5, 30.0),\n",
        "        'colsample_bytree': trial.suggest_categorical('colsample_bytree', [0.3,0.4,0.5,0.6,0.7,0.8,0.9, 1.0]),\n",
        "        'subsample': trial.suggest_uniform('subsample', 0,1),\n",
        "        'learning_rate': trial.suggest_uniform('learning_rate', 0, 0.1 ),\n",
        "        'max_depth': trial.suggest_int('max_depth', 1,100),\n",
        "        'num_leaves' : trial.suggest_int('num_leaves', 2, 1000),\n",
        "        'min_child_samples': trial.suggest_int('min_child_samples', 1, 300),\n",
        "        'min_child_weight' : trial.suggest_loguniform('min_child_weight' , 1e-5 , 1),\n",
        "        'cat_smooth' : trial.suggest_int('cat_smooth', 1, 100),\n",
        "        'cat_l2': trial.suggest_int('cat_l2',1,20),\n",
        "        'metric': 'multi_logloss', \n",
        "        'random_state': 42,\n",
        "        'num_class': 4,\n",
        "        'objective': 'multiclass',\n",
        "        \n",
        "    }\n",
        " \n",
        "    gbm = lgb.train(param, dtrain)\n",
        "    preds = gbm.predict(test_x)\n",
        "    #pred_labels = np.rint(preds)\n",
        "    log_loss = sklearn.metrics.log_loss(test_y, preds)\n",
        "    return log_loss\n",
        " \n",
        "study = optuna.create_study(direction='minimize')\n",
        "study.optimize(objective, n_trials=100)\n",
        " \n",
        "print('Number of finished trials:', len(study.trials))\n",
        "print('Best trial:', study.best_trial.params)\n",
        "print('Best value:', study.best_trial)"
      ],
      "execution_count": null,
      "outputs": [
        {
          "output_type": "stream",
          "text": [
            "\u001b[32m[I 2021-05-16 18:25:20,684]\u001b[0m A new study created in memory with name: no-name-882d6856-d646-41a5-a0ff-8f875f9c288c\u001b[0m\n"
          ],
          "name": "stderr"
        },
        {
          "output_type": "stream",
          "text": [
            "train.csv: shape = 100000 rows, 52 cols\n"
          ],
          "name": "stdout"
        },
        {
          "output_type": "stream",
          "text": [
            "\u001b[32m[I 2021-05-16 18:25:37,726]\u001b[0m Trial 0 finished with value: 1.0930728477741078 and parameters: {'reg_alpha': 0.0018382181760043421, 'reg_lambda': 0.0002564331226829421, 'colsample_bytree': 0.5, 'subsample': 0.11843285679715676, 'learning_rate': 0.034182391469566045, 'max_depth': 29, 'num_leaves': 229, 'min_child_samples': 162, 'min_child_weight': 0.00011634068652074863, 'cat_smooth': 44, 'cat_l2': 4}. Best is trial 0 with value: 1.0930728477741078.\u001b[0m\n"
          ],
          "name": "stderr"
        },
        {
          "output_type": "stream",
          "text": [
            "train.csv: shape = 100000 rows, 52 cols\n"
          ],
          "name": "stdout"
        },
        {
          "output_type": "stream",
          "text": [
            "\u001b[32m[I 2021-05-16 18:25:51,617]\u001b[0m Trial 1 finished with value: 1.0955685356214455 and parameters: {'reg_alpha': 1.6323695248442425, 'reg_lambda': 0.0036906669717957823, 'colsample_bytree': 0.8, 'subsample': 0.9637292807894524, 'learning_rate': 0.05302797282829857, 'max_depth': 30, 'num_leaves': 114, 'min_child_samples': 55, 'min_child_weight': 0.0002587880463853362, 'cat_smooth': 55, 'cat_l2': 15}. Best is trial 0 with value: 1.0930728477741078.\u001b[0m\n"
          ],
          "name": "stderr"
        },
        {
          "output_type": "stream",
          "text": [
            "train.csv: shape = 100000 rows, 52 cols\n"
          ],
          "name": "stdout"
        },
        {
          "output_type": "stream",
          "text": [
            "\u001b[32m[I 2021-05-16 18:26:06,770]\u001b[0m Trial 2 finished with value: 1.1005712477990852 and parameters: {'reg_alpha': 0.09703434541202088, 'reg_lambda': 9.29203171038271e-05, 'colsample_bytree': 0.6, 'subsample': 0.22599667448212835, 'learning_rate': 0.015091349253031072, 'max_depth': 78, 'num_leaves': 459, 'min_child_samples': 288, 'min_child_weight': 0.10351586001387278, 'cat_smooth': 87, 'cat_l2': 15}. Best is trial 0 with value: 1.0930728477741078.\u001b[0m\n"
          ],
          "name": "stderr"
        },
        {
          "output_type": "stream",
          "text": [
            "train.csv: shape = 100000 rows, 52 cols\n"
          ],
          "name": "stdout"
        },
        {
          "output_type": "stream",
          "text": [
            "\u001b[32m[I 2021-05-16 18:26:15,205]\u001b[0m Trial 3 finished with value: 1.0947276050717174 and parameters: {'reg_alpha': 2.1071655797497653, 'reg_lambda': 0.0012309407169892109, 'colsample_bytree': 0.7, 'subsample': 0.9782956649626166, 'learning_rate': 0.05293788834639292, 'max_depth': 55, 'num_leaves': 27, 'min_child_samples': 220, 'min_child_weight': 0.03888810784315362, 'cat_smooth': 65, 'cat_l2': 3}. Best is trial 0 with value: 1.0930728477741078.\u001b[0m\n"
          ],
          "name": "stderr"
        },
        {
          "output_type": "stream",
          "text": [
            "train.csv: shape = 100000 rows, 52 cols\n"
          ],
          "name": "stdout"
        },
        {
          "output_type": "stream",
          "text": [
            "\u001b[32m[I 2021-05-16 18:26:36,783]\u001b[0m Trial 4 finished with value: 1.1050866936268615 and parameters: {'reg_alpha': 0.00021243381990744743, 'reg_lambda': 0.00012987191371437035, 'colsample_bytree': 1.0, 'subsample': 0.34591329613547417, 'learning_rate': 0.06889366811394837, 'max_depth': 95, 'num_leaves': 491, 'min_child_samples': 234, 'min_child_weight': 0.0004041285330566758, 'cat_smooth': 53, 'cat_l2': 5}. Best is trial 0 with value: 1.0930728477741078.\u001b[0m\n"
          ],
          "name": "stderr"
        },
        {
          "output_type": "stream",
          "text": [
            "train.csv: shape = 100000 rows, 52 cols\n"
          ],
          "name": "stdout"
        },
        {
          "output_type": "stream",
          "text": [
            "\u001b[32m[I 2021-05-16 18:27:04,904]\u001b[0m Trial 5 finished with value: 1.1064935508863833 and parameters: {'reg_alpha': 0.0005345386323427009, 'reg_lambda': 3.511832821950963, 'colsample_bytree': 0.8, 'subsample': 0.5607781578638047, 'learning_rate': 0.06973840008398186, 'max_depth': 97, 'num_leaves': 519, 'min_child_samples': 18, 'min_child_weight': 0.012243807186647318, 'cat_smooth': 90, 'cat_l2': 3}. Best is trial 0 with value: 1.0930728477741078.\u001b[0m\n"
          ],
          "name": "stderr"
        },
        {
          "output_type": "stream",
          "text": [
            "train.csv: shape = 100000 rows, 52 cols\n"
          ],
          "name": "stdout"
        },
        {
          "output_type": "stream",
          "text": [
            "\u001b[32m[I 2021-05-16 18:27:08,296]\u001b[0m Trial 6 finished with value: 1.1101047647935305 and parameters: {'reg_alpha': 0.022479286823623736, 'reg_lambda': 4.725859453522173, 'colsample_bytree': 1.0, 'subsample': 0.28174584995414687, 'learning_rate': 0.06086672463013248, 'max_depth': 1, 'num_leaves': 231, 'min_child_samples': 69, 'min_child_weight': 5.3697388465258046e-05, 'cat_smooth': 12, 'cat_l2': 1}. Best is trial 0 with value: 1.0930728477741078.\u001b[0m\n"
          ],
          "name": "stderr"
        },
        {
          "output_type": "stream",
          "text": [
            "train.csv: shape = 100000 rows, 52 cols\n"
          ],
          "name": "stdout"
        },
        {
          "output_type": "stream",
          "text": [
            "\u001b[32m[I 2021-05-16 18:27:12,193]\u001b[0m Trial 7 finished with value: 1.1032285015323893 and parameters: {'reg_alpha': 0.27952205424430115, 'reg_lambda': 3.9365785498936146e-05, 'colsample_bytree': 0.3, 'subsample': 0.6734069736960099, 'learning_rate': 0.07092864084355008, 'max_depth': 3, 'num_leaves': 332, 'min_child_samples': 263, 'min_child_weight': 0.022177315592072904, 'cat_smooth': 20, 'cat_l2': 12}. Best is trial 0 with value: 1.0930728477741078.\u001b[0m\n"
          ],
          "name": "stderr"
        },
        {
          "output_type": "stream",
          "text": [
            "train.csv: shape = 100000 rows, 52 cols\n"
          ],
          "name": "stdout"
        },
        {
          "output_type": "stream",
          "text": [
            "\u001b[32m[I 2021-05-16 18:27:27,400]\u001b[0m Trial 8 finished with value: 1.0968530512095067 and parameters: {'reg_alpha': 2.2157156336654815e-05, 'reg_lambda': 0.28247539588802595, 'colsample_bytree': 0.5, 'subsample': 0.9172734689766643, 'learning_rate': 0.07046581133547022, 'max_depth': 27, 'num_leaves': 198, 'min_child_samples': 32, 'min_child_weight': 0.00011170963896952472, 'cat_smooth': 62, 'cat_l2': 9}. Best is trial 0 with value: 1.0930728477741078.\u001b[0m\n"
          ],
          "name": "stderr"
        },
        {
          "output_type": "stream",
          "text": [
            "train.csv: shape = 100000 rows, 52 cols\n"
          ],
          "name": "stdout"
        },
        {
          "output_type": "stream",
          "text": [
            "\u001b[32m[I 2021-05-16 18:27:42,942]\u001b[0m Trial 9 finished with value: 1.1034504848063675 and parameters: {'reg_alpha': 6.50612485612051, 'reg_lambda': 3.788665351703791e-05, 'colsample_bytree': 0.4, 'subsample': 0.520604430744945, 'learning_rate': 0.015447343223005994, 'max_depth': 46, 'num_leaves': 423, 'min_child_samples': 36, 'min_child_weight': 0.0265473590105504, 'cat_smooth': 34, 'cat_l2': 2}. Best is trial 0 with value: 1.0930728477741078.\u001b[0m\n"
          ],
          "name": "stderr"
        },
        {
          "output_type": "stream",
          "text": [
            "train.csv: shape = 100000 rows, 52 cols\n"
          ],
          "name": "stdout"
        },
        {
          "output_type": "stream",
          "text": [
            "\u001b[32m[I 2021-05-16 18:27:57,551]\u001b[0m Trial 10 finished with value: 1.0931887003119531 and parameters: {'reg_alpha': 0.0022447255333835144, 'reg_lambda': 0.06342615100804282, 'colsample_bytree': 0.5, 'subsample': 0.003966463608017723, 'learning_rate': 0.09787860988738747, 'max_depth': 17, 'num_leaves': 827, 'min_child_samples': 145, 'min_child_weight': 1.0715233166632674e-05, 'cat_smooth': 36, 'cat_l2': 8}. Best is trial 0 with value: 1.0930728477741078.\u001b[0m\n"
          ],
          "name": "stderr"
        },
        {
          "output_type": "stream",
          "text": [
            "train.csv: shape = 100000 rows, 52 cols\n"
          ],
          "name": "stdout"
        },
        {
          "output_type": "stream",
          "text": [
            "\u001b[32m[I 2021-05-16 18:28:14,264]\u001b[0m Trial 11 finished with value: 1.0973996124682044 and parameters: {'reg_alpha': 0.001506041736045482, 'reg_lambda': 0.06477872252765644, 'colsample_bytree': 0.5, 'subsample': 0.009041024006455088, 'learning_rate': 0.03250266928954279, 'max_depth': 18, 'num_leaves': 855, 'min_child_samples': 143, 'min_child_weight': 1.5108831954372247e-05, 'cat_smooth': 38, 'cat_l2': 8}. Best is trial 0 with value: 1.0930728477741078.\u001b[0m\n"
          ],
          "name": "stderr"
        },
        {
          "output_type": "stream",
          "text": [
            "train.csv: shape = 100000 rows, 52 cols\n"
          ],
          "name": "stdout"
        },
        {
          "output_type": "stream",
          "text": [
            "\u001b[32m[I 2021-05-16 18:28:40,195]\u001b[0m Trial 12 finished with value: 1.1021461658733485 and parameters: {'reg_alpha': 0.002471476184177303, 'reg_lambda': 0.006849608659571087, 'colsample_bytree': 0.9, 'subsample': 0.0052743295037780795, 'learning_rate': 0.03656558621655266, 'max_depth': 45, 'num_leaves': 928, 'min_child_samples': 118, 'min_child_weight': 1.0407814441074308e-05, 'cat_smooth': 32, 'cat_l2': 20}. Best is trial 0 with value: 1.0930728477741078.\u001b[0m\n"
          ],
          "name": "stderr"
        },
        {
          "output_type": "stream",
          "text": [
            "train.csv: shape = 100000 rows, 52 cols\n"
          ],
          "name": "stdout"
        },
        {
          "output_type": "stream",
          "text": [
            "\u001b[32m[I 2021-05-16 18:28:51,866]\u001b[0m Trial 13 finished with value: 1.0908766056039574 and parameters: {'reg_alpha': 2.2009081099059318e-05, 'reg_lambda': 0.12787206406656534, 'colsample_bytree': 0.5, 'subsample': 0.12147163408858569, 'learning_rate': 0.0910725816623649, 'max_depth': 13, 'num_leaves': 678, 'min_child_samples': 171, 'min_child_weight': 0.0012008914115114993, 'cat_smooth': 77, 'cat_l2': 6}. Best is trial 13 with value: 1.0908766056039574.\u001b[0m\n"
          ],
          "name": "stderr"
        },
        {
          "output_type": "stream",
          "text": [
            "train.csv: shape = 100000 rows, 52 cols\n"
          ],
          "name": "stdout"
        },
        {
          "output_type": "stream",
          "text": [
            "\u001b[32m[I 2021-05-16 18:29:03,465]\u001b[0m Trial 14 finished with value: 1.0989594963590876 and parameters: {'reg_alpha': 1.0334330367217357e-05, 'reg_lambda': 0.0006423528883795067, 'colsample_bytree': 0.5, 'subsample': 0.17065453122757987, 'learning_rate': 0.09584791341017727, 'max_depth': 13, 'num_leaves': 696, 'min_child_samples': 194, 'min_child_weight': 0.0013724375088851601, 'cat_smooth': 76, 'cat_l2': 6}. Best is trial 13 with value: 1.0908766056039574.\u001b[0m\n"
          ],
          "name": "stderr"
        },
        {
          "output_type": "stream",
          "text": [
            "train.csv: shape = 100000 rows, 52 cols\n"
          ],
          "name": "stdout"
        },
        {
          "output_type": "stream",
          "text": [
            "\u001b[32m[I 2021-05-16 18:29:21,021]\u001b[0m Trial 15 finished with value: 1.1016589244506654 and parameters: {'reg_alpha': 5.32651843342831e-05, 'reg_lambda': 0.5166040337245751, 'colsample_bytree': 0.5, 'subsample': 0.15774084768104518, 'learning_rate': 0.03384438045747896, 'max_depth': 31, 'num_leaves': 642, 'min_child_samples': 189, 'min_child_weight': 0.8969856229806891, 'cat_smooth': 75, 'cat_l2': 5}. Best is trial 13 with value: 1.0908766056039574.\u001b[0m\n"
          ],
          "name": "stderr"
        },
        {
          "output_type": "stream",
          "text": [
            "train.csv: shape = 100000 rows, 52 cols\n"
          ],
          "name": "stdout"
        },
        {
          "output_type": "stream",
          "text": [
            "\u001b[32m[I 2021-05-16 18:29:39,758]\u001b[0m Trial 16 finished with value: 1.0989474731582702 and parameters: {'reg_alpha': 0.00010617142893146885, 'reg_lambda': 25.766812014002774, 'colsample_bytree': 0.4, 'subsample': 0.10398125156777967, 'learning_rate': 0.085988055123711, 'max_depth': 61, 'num_leaves': 702, 'min_child_samples': 97, 'min_child_weight': 0.0025144751638574723, 'cat_smooth': 98, 'cat_l2': 11}. Best is trial 13 with value: 1.0908766056039574.\u001b[0m\n"
          ],
          "name": "stderr"
        },
        {
          "output_type": "stream",
          "text": [
            "train.csv: shape = 100000 rows, 52 cols\n"
          ],
          "name": "stdout"
        },
        {
          "output_type": "stream",
          "text": [
            "\u001b[32m[I 2021-05-16 18:29:47,296]\u001b[0m Trial 17 finished with value: 1.1148620391662822 and parameters: {'reg_alpha': 0.01392314927875406, 'reg_lambda': 1.1353001497262547e-05, 'colsample_bytree': 0.6, 'subsample': 0.39050761064023354, 'learning_rate': 0.0008916103734858127, 'max_depth': 6, 'num_leaves': 604, 'min_child_samples': 178, 'min_child_weight': 0.0007748642059432129, 'cat_smooth': 73, 'cat_l2': 6}. Best is trial 13 with value: 1.0908766056039574.\u001b[0m\n"
          ],
          "name": "stderr"
        },
        {
          "output_type": "stream",
          "text": [
            "train.csv: shape = 100000 rows, 52 cols\n"
          ],
          "name": "stdout"
        },
        {
          "output_type": "stream",
          "text": [
            "\u001b[32m[I 2021-05-16 18:30:04,224]\u001b[0m Trial 18 finished with value: 1.1025611944507727 and parameters: {'reg_alpha': 1.0960638843809606e-05, 'reg_lambda': 0.03341114771256298, 'colsample_bytree': 0.3, 'subsample': 0.40751592361399347, 'learning_rate': 0.020300033080566285, 'max_depth': 42, 'num_leaves': 290, 'min_child_samples': 103, 'min_child_weight': 5.457472392091434e-05, 'cat_smooth': 45, 'cat_l2': 1}. Best is trial 13 with value: 1.0908766056039574.\u001b[0m\n"
          ],
          "name": "stderr"
        },
        {
          "output_type": "stream",
          "text": [
            "train.csv: shape = 100000 rows, 52 cols\n"
          ],
          "name": "stdout"
        },
        {
          "output_type": "stream",
          "text": [
            "\u001b[32m[I 2021-05-16 18:30:09,137]\u001b[0m Trial 19 finished with value: 1.1069990629606703 and parameters: {'reg_alpha': 0.009364617255036163, 'reg_lambda': 0.0005390344403329836, 'colsample_bytree': 0.7, 'subsample': 0.6733490136522495, 'learning_rate': 0.04089521898190581, 'max_depth': 67, 'num_leaves': 6, 'min_child_samples': 169, 'min_child_weight': 0.005284848438692423, 'cat_smooth': 1, 'cat_l2': 4}. Best is trial 13 with value: 1.0908766056039574.\u001b[0m\n"
          ],
          "name": "stderr"
        },
        {
          "output_type": "stream",
          "text": [
            "train.csv: shape = 100000 rows, 52 cols\n"
          ],
          "name": "stdout"
        },
        {
          "output_type": "stream",
          "text": [
            "\u001b[32m[I 2021-05-16 18:30:29,650]\u001b[0m Trial 20 finished with value: 1.0960596641949725 and parameters: {'reg_alpha': 0.000499195079470326, 'reg_lambda': 0.32438375021489374, 'colsample_bytree': 0.9, 'subsample': 0.09772540678144566, 'learning_rate': 0.0850220760635108, 'max_depth': 36, 'num_leaves': 354, 'min_child_samples': 219, 'min_child_weight': 0.00020059207598366666, 'cat_smooth': 87, 'cat_l2': 13}. Best is trial 13 with value: 1.0908766056039574.\u001b[0m\n"
          ],
          "name": "stderr"
        },
        {
          "output_type": "stream",
          "text": [
            "train.csv: shape = 100000 rows, 52 cols\n"
          ],
          "name": "stdout"
        },
        {
          "output_type": "stream",
          "text": [
            "\u001b[32m[I 2021-05-16 18:30:43,873]\u001b[0m Trial 21 finished with value: 1.1044994063199582 and parameters: {'reg_alpha': 0.006196853440535386, 'reg_lambda': 0.07096663621371521, 'colsample_bytree': 0.5, 'subsample': 0.036021890676073184, 'learning_rate': 0.09940577091469038, 'max_depth': 17, 'num_leaves': 807, 'min_child_samples': 148, 'min_child_weight': 2.3762788566970454e-05, 'cat_smooth': 23, 'cat_l2': 8}. Best is trial 13 with value: 1.0908766056039574.\u001b[0m\n"
          ],
          "name": "stderr"
        },
        {
          "output_type": "stream",
          "text": [
            "train.csv: shape = 100000 rows, 52 cols\n"
          ],
          "name": "stdout"
        },
        {
          "output_type": "stream",
          "text": [
            "\u001b[32m[I 2021-05-16 18:31:00,672]\u001b[0m Trial 22 finished with value: 1.0977050497515188 and parameters: {'reg_alpha': 0.04962657290765173, 'reg_lambda': 0.011305812320784392, 'colsample_bytree': 0.5, 'subsample': 0.2526155986009091, 'learning_rate': 0.08901246007144012, 'max_depth': 21, 'num_leaves': 994, 'min_child_samples': 130, 'min_child_weight': 4.833081483435855e-05, 'cat_smooth': 43, 'cat_l2': 9}. Best is trial 13 with value: 1.0908766056039574.\u001b[0m\n"
          ],
          "name": "stderr"
        },
        {
          "output_type": "stream",
          "text": [
            "train.csv: shape = 100000 rows, 52 cols\n"
          ],
          "name": "stdout"
        },
        {
          "output_type": "stream",
          "text": [
            "\u001b[32m[I 2021-05-16 18:31:09,481]\u001b[0m Trial 23 finished with value: 1.104185200549606 and parameters: {'reg_alpha': 0.001426804320493504, 'reg_lambda': 1.3844516493834131, 'colsample_bytree': 0.5, 'subsample': 0.0811024373985767, 'learning_rate': 0.023745464557144796, 'max_depth': 8, 'num_leaves': 797, 'min_child_samples': 160, 'min_child_weight': 0.0007053745623714637, 'cat_smooth': 22, 'cat_l2': 7}. Best is trial 13 with value: 1.0908766056039574.\u001b[0m\n"
          ],
          "name": "stderr"
        },
        {
          "output_type": "stream",
          "text": [
            "train.csv: shape = 100000 rows, 52 cols\n"
          ],
          "name": "stdout"
        },
        {
          "output_type": "stream",
          "text": [
            "\u001b[32m[I 2021-05-16 18:31:25,976]\u001b[0m Trial 24 finished with value: 1.09099953987274 and parameters: {'reg_alpha': 5.1696577740156105e-05, 'reg_lambda': 0.02632768962192075, 'colsample_bytree': 0.5, 'subsample': 0.1860770273323995, 'learning_rate': 0.04549759346465972, 'max_depth': 23, 'num_leaves': 589, 'min_child_samples': 202, 'min_child_weight': 0.00011777455186652023, 'cat_smooth': 47, 'cat_l2': 10}. Best is trial 13 with value: 1.0908766056039574.\u001b[0m\n"
          ],
          "name": "stderr"
        },
        {
          "output_type": "stream",
          "text": [
            "train.csv: shape = 100000 rows, 52 cols\n"
          ],
          "name": "stdout"
        },
        {
          "output_type": "stream",
          "text": [
            "\u001b[32m[I 2021-05-16 18:31:41,465]\u001b[0m Trial 25 finished with value: 1.0949188093509472 and parameters: {'reg_alpha': 4.134985996382763e-05, 'reg_lambda': 0.0031555669053980845, 'colsample_bytree': 0.5, 'subsample': 0.17779959990240324, 'learning_rate': 0.04542068710180265, 'max_depth': 26, 'num_leaves': 584, 'min_child_samples': 253, 'min_child_weight': 0.00012953138285559069, 'cat_smooth': 60, 'cat_l2': 10}. Best is trial 13 with value: 1.0908766056039574.\u001b[0m\n"
          ],
          "name": "stderr"
        },
        {
          "output_type": "stream",
          "text": [
            "train.csv: shape = 100000 rows, 52 cols\n"
          ],
          "name": "stdout"
        },
        {
          "output_type": "stream",
          "text": [
            "\u001b[32m[I 2021-05-16 18:31:58,751]\u001b[0m Trial 26 finished with value: 1.1156180888409006 and parameters: {'reg_alpha': 0.00021412341227715278, 'reg_lambda': 0.026927465400248794, 'colsample_bytree': 0.5, 'subsample': 0.3054224963844817, 'learning_rate': 0.004864648676082769, 'max_depth': 39, 'num_leaves': 735, 'min_child_samples': 200, 'min_child_weight': 0.003635657336118054, 'cat_smooth': 49, 'cat_l2': 4}. Best is trial 13 with value: 1.0908766056039574.\u001b[0m\n"
          ],
          "name": "stderr"
        },
        {
          "output_type": "stream",
          "text": [
            "train.csv: shape = 100000 rows, 52 cols\n"
          ],
          "name": "stdout"
        },
        {
          "output_type": "stream",
          "text": [
            "\u001b[32m[I 2021-05-16 18:32:15,470]\u001b[0m Trial 27 finished with value: 1.0960881575329515 and parameters: {'reg_alpha': 1.0029005318994509e-05, 'reg_lambda': 0.14804820119149328, 'colsample_bytree': 0.5, 'subsample': 0.43949669522464346, 'learning_rate': 0.027082878351016686, 'max_depth': 35, 'num_leaves': 578, 'min_child_samples': 204, 'min_child_weight': 0.0005682913797472484, 'cat_smooth': 68, 'cat_l2': 14}. Best is trial 13 with value: 1.0908766056039574.\u001b[0m\n"
          ],
          "name": "stderr"
        },
        {
          "output_type": "stream",
          "text": [
            "train.csv: shape = 100000 rows, 52 cols\n"
          ],
          "name": "stdout"
        },
        {
          "output_type": "stream",
          "text": [
            "\u001b[32m[I 2021-05-16 18:32:26,392]\u001b[0m Trial 28 finished with value: 1.0949230709773012 and parameters: {'reg_alpha': 7.826090476372986e-05, 'reg_lambda': 1.0066407721719806, 'colsample_bytree': 0.6, 'subsample': 0.21296475773524, 'learning_rate': 0.05918764208454551, 'max_depth': 11, 'num_leaves': 525, 'min_child_samples': 240, 'min_child_weight': 0.001404445097823495, 'cat_smooth': 55, 'cat_l2': 17}. Best is trial 13 with value: 1.0908766056039574.\u001b[0m\n"
          ],
          "name": "stderr"
        },
        {
          "output_type": "stream",
          "text": [
            "train.csv: shape = 100000 rows, 52 cols\n"
          ],
          "name": "stdout"
        },
        {
          "output_type": "stream",
          "text": [
            "\u001b[32m[I 2021-05-16 18:32:42,062]\u001b[0m Trial 29 finished with value: 1.0995186051080554 and parameters: {'reg_alpha': 0.00035331777757037876, 'reg_lambda': 0.0018332453508498557, 'colsample_bytree': 0.8, 'subsample': 0.09463612371818464, 'learning_rate': 0.04566854760722555, 'max_depth': 29, 'num_leaves': 120, 'min_child_samples': 291, 'min_child_weight': 0.00024296817964441302, 'cat_smooth': 56, 'cat_l2': 6}. Best is trial 13 with value: 1.0908766056039574.\u001b[0m\n"
          ],
          "name": "stderr"
        },
        {
          "output_type": "stream",
          "text": [
            "train.csv: shape = 100000 rows, 52 cols\n"
          ],
          "name": "stdout"
        },
        {
          "output_type": "stream",
          "text": [
            "\u001b[32m[I 2021-05-16 18:33:02,352]\u001b[0m Trial 30 finished with value: 1.1007996727087441 and parameters: {'reg_alpha': 1.8619934475271715e-05, 'reg_lambda': 0.007887274368944664, 'colsample_bytree': 0.5, 'subsample': 0.32176586960326803, 'learning_rate': 0.05863007603398718, 'max_depth': 24, 'num_leaves': 397, 'min_child_samples': 78, 'min_child_weight': 8.799252556571772e-05, 'cat_smooth': 29, 'cat_l2': 11}. Best is trial 13 with value: 1.0908766056039574.\u001b[0m\n"
          ],
          "name": "stderr"
        },
        {
          "output_type": "stream",
          "text": [
            "train.csv: shape = 100000 rows, 52 cols\n"
          ],
          "name": "stdout"
        },
        {
          "output_type": "stream",
          "text": [
            "\u001b[32m[I 2021-05-16 18:33:15,781]\u001b[0m Trial 31 finished with value: 1.0978143574423012 and parameters: {'reg_alpha': 0.003994278150102134, 'reg_lambda': 0.09690351689948508, 'colsample_bytree': 0.5, 'subsample': 0.01868171228576679, 'learning_rate': 0.07847869287865422, 'max_depth': 15, 'num_leaves': 869, 'min_child_samples': 169, 'min_child_weight': 3.0279547298047315e-05, 'cat_smooth': 41, 'cat_l2': 8}. Best is trial 13 with value: 1.0908766056039574.\u001b[0m\n"
          ],
          "name": "stderr"
        },
        {
          "output_type": "stream",
          "text": [
            "train.csv: shape = 100000 rows, 52 cols\n"
          ],
          "name": "stdout"
        },
        {
          "output_type": "stream",
          "text": [
            "\u001b[32m[I 2021-05-16 18:33:32,992]\u001b[0m Trial 32 finished with value: 1.1054941215664336 and parameters: {'reg_alpha': 0.0007646583161819077, 'reg_lambda': 0.02116836632523376, 'colsample_bytree': 0.5, 'subsample': 0.13317460068547365, 'learning_rate': 0.09333329736099558, 'max_depth': 22, 'num_leaves': 738, 'min_child_samples': 132, 'min_child_weight': 1.0456644485542795e-05, 'cat_smooth': 49, 'cat_l2': 10}. Best is trial 13 with value: 1.0908766056039574.\u001b[0m\n"
          ],
          "name": "stderr"
        },
        {
          "output_type": "stream",
          "text": [
            "train.csv: shape = 100000 rows, 52 cols\n"
          ],
          "name": "stdout"
        },
        {
          "output_type": "stream",
          "text": [
            "\u001b[32m[I 2021-05-16 18:33:42,261]\u001b[0m Trial 33 finished with value: 1.0964755988329116 and parameters: {'reg_alpha': 0.20411363358707035, 'reg_lambda': 0.13535821038097764, 'colsample_bytree': 0.5, 'subsample': 0.05089968679882485, 'learning_rate': 0.051553087228431244, 'max_depth': 9, 'num_leaves': 664, 'min_child_samples': 180, 'min_child_weight': 0.0002241659375435918, 'cat_smooth': 37, 'cat_l2': 7}. Best is trial 13 with value: 1.0908766056039574.\u001b[0m\n"
          ],
          "name": "stderr"
        },
        {
          "output_type": "stream",
          "text": [
            "train.csv: shape = 100000 rows, 52 cols\n"
          ],
          "name": "stdout"
        },
        {
          "output_type": "stream",
          "text": [
            "\u001b[32m[I 2021-05-16 18:33:45,370]\u001b[0m Trial 34 finished with value: 1.1150964399081225 and parameters: {'reg_alpha': 0.0330263832332424, 'reg_lambda': 0.036256386508886206, 'colsample_bytree': 0.7, 'subsample': 0.22494898217369394, 'learning_rate': 0.04166952995542061, 'max_depth': 1, 'num_leaves': 993, 'min_child_samples': 149, 'min_child_weight': 2.1355421133286346e-05, 'cat_smooth': 29, 'cat_l2': 4}. Best is trial 13 with value: 1.0908766056039574.\u001b[0m\n"
          ],
          "name": "stderr"
        },
        {
          "output_type": "stream",
          "text": [
            "train.csv: shape = 100000 rows, 52 cols\n"
          ],
          "name": "stdout"
        },
        {
          "output_type": "stream",
          "text": [
            "\u001b[32m[I 2021-05-16 18:34:05,489]\u001b[0m Trial 35 finished with value: 1.0992755537194971 and parameters: {'reg_alpha': 0.0001579911706972085, 'reg_lambda': 0.00355515048257303, 'colsample_bytree': 1.0, 'subsample': 0.20420345571088616, 'learning_rate': 0.07776243211637346, 'max_depth': 32, 'num_leaves': 772, 'min_child_samples': 224, 'min_child_weight': 0.16795568558331, 'cat_smooth': 43, 'cat_l2': 9}. Best is trial 13 with value: 1.0908766056039574.\u001b[0m\n"
          ],
          "name": "stderr"
        },
        {
          "output_type": "stream",
          "text": [
            "train.csv: shape = 100000 rows, 52 cols\n"
          ],
          "name": "stdout"
        },
        {
          "output_type": "stream",
          "text": [
            "\u001b[32m[I 2021-05-16 18:34:22,744]\u001b[0m Trial 36 finished with value: 1.0903456649783263 and parameters: {'reg_alpha': 0.0008845019617946607, 'reg_lambda': 0.0003441531178517913, 'colsample_bytree': 0.5, 'subsample': 0.007409831111379966, 'learning_rate': 0.029075093110584444, 'max_depth': 18, 'num_leaves': 465, 'min_child_samples': 121, 'min_child_weight': 0.0003298064325145202, 'cat_smooth': 15, 'cat_l2': 3}. Best is trial 36 with value: 1.0903456649783263.\u001b[0m\n"
          ],
          "name": "stderr"
        },
        {
          "output_type": "stream",
          "text": [
            "train.csv: shape = 100000 rows, 52 cols\n"
          ],
          "name": "stdout"
        },
        {
          "output_type": "stream",
          "text": [
            "\u001b[32m[I 2021-05-16 18:34:35,310]\u001b[0m Trial 37 finished with value: 1.1050799287467428 and parameters: {'reg_alpha': 3.3981336686061327e-05, 'reg_lambda': 0.0002566547751044009, 'colsample_bytree': 0.8, 'subsample': 0.1374413359077778, 'learning_rate': 0.028662051556542365, 'max_depth': 48, 'num_leaves': 80, 'min_child_samples': 112, 'min_child_weight': 0.0013642265495844115, 'cat_smooth': 7, 'cat_l2': 2}. Best is trial 36 with value: 1.0903456649783263.\u001b[0m\n"
          ],
          "name": "stderr"
        },
        {
          "output_type": "stream",
          "text": [
            "train.csv: shape = 100000 rows, 52 cols\n"
          ],
          "name": "stdout"
        },
        {
          "output_type": "stream",
          "text": [
            "\u001b[32m[I 2021-05-16 18:34:49,427]\u001b[0m Trial 38 finished with value: 1.1134839980766846 and parameters: {'reg_alpha': 0.0008469156095372393, 'reg_lambda': 9.425739328934548e-05, 'colsample_bytree': 0.3, 'subsample': 0.2573805823151111, 'learning_rate': 0.009890119827909608, 'max_depth': 21, 'num_leaves': 496, 'min_child_samples': 215, 'min_child_weight': 0.000364947025870703, 'cat_smooth': 83, 'cat_l2': 3}. Best is trial 36 with value: 1.0903456649783263.\u001b[0m\n"
          ],
          "name": "stderr"
        },
        {
          "output_type": "stream",
          "text": [
            "train.csv: shape = 100000 rows, 52 cols\n"
          ],
          "name": "stdout"
        },
        {
          "output_type": "stream",
          "text": [
            "\u001b[32m[I 2021-05-16 18:34:53,620]\u001b[0m Trial 39 finished with value: 1.105675036825571 and parameters: {'reg_alpha': 0.00032464364495111075, 'reg_lambda': 4.4921683927212247e-05, 'colsample_bytree': 0.4, 'subsample': 0.06298989797781453, 'learning_rate': 0.038336143478055376, 'max_depth': 3, 'num_leaves': 449, 'min_child_samples': 82, 'min_child_weight': 0.006278063704742522, 'cat_smooth': 10, 'cat_l2': 1}. Best is trial 36 with value: 1.0903456649783263.\u001b[0m\n"
          ],
          "name": "stderr"
        },
        {
          "output_type": "stream",
          "text": [
            "train.csv: shape = 100000 rows, 52 cols\n"
          ],
          "name": "stdout"
        },
        {
          "output_type": "stream",
          "text": [
            "\u001b[32m[I 2021-05-16 18:35:15,342]\u001b[0m Trial 40 finished with value: 1.1019874634157347 and parameters: {'reg_alpha': 0.00010936362478530482, 'reg_lambda': 1.5218212744091352e-05, 'colsample_bytree': 1.0, 'subsample': 0.916355003471323, 'learning_rate': 0.018364639784084744, 'max_depth': 82, 'num_leaves': 246, 'min_child_samples': 128, 'min_child_weight': 0.00013732614175927815, 'cat_smooth': 97, 'cat_l2': 5}. Best is trial 36 with value: 1.0903456649783263.\u001b[0m\n"
          ],
          "name": "stderr"
        },
        {
          "output_type": "stream",
          "text": [
            "train.csv: shape = 100000 rows, 52 cols\n"
          ],
          "name": "stdout"
        },
        {
          "output_type": "stream",
          "text": [
            "\u001b[32m[I 2021-05-16 18:35:28,801]\u001b[0m Trial 41 finished with value: 1.0968837206856 and parameters: {'reg_alpha': 0.0033899994340125146, 'reg_lambda': 0.0004165419312331211, 'colsample_bytree': 0.5, 'subsample': 0.0032380682821549767, 'learning_rate': 0.046454980496726896, 'max_depth': 14, 'num_leaves': 564, 'min_child_samples': 159, 'min_child_weight': 7.335958667104189e-05, 'cat_smooth': 16, 'cat_l2': 7}. Best is trial 36 with value: 1.0903456649783263.\u001b[0m\n"
          ],
          "name": "stderr"
        },
        {
          "output_type": "stream",
          "text": [
            "train.csv: shape = 100000 rows, 52 cols\n"
          ],
          "name": "stdout"
        },
        {
          "output_type": "stream",
          "text": [
            "\u001b[32m[I 2021-05-16 18:35:45,722]\u001b[0m Trial 42 finished with value: 1.1005925396235567 and parameters: {'reg_alpha': 0.0016771189779439483, 'reg_lambda': 0.001126811938117383, 'colsample_bytree': 0.5, 'subsample': 0.008144775406474354, 'learning_rate': 0.03188096337645136, 'max_depth': 18, 'num_leaves': 640, 'min_child_samples': 139, 'min_child_weight': 0.0003452768173475644, 'cat_smooth': 49, 'cat_l2': 3}. Best is trial 36 with value: 1.0903456649783263.\u001b[0m\n"
          ],
          "name": "stderr"
        },
        {
          "output_type": "stream",
          "text": [
            "train.csv: shape = 100000 rows, 52 cols\n"
          ],
          "name": "stdout"
        },
        {
          "output_type": "stream",
          "text": [
            "\u001b[32m[I 2021-05-16 18:36:04,093]\u001b[0m Trial 43 finished with value: 1.1024041064875254 and parameters: {'reg_alpha': 0.007431204259127635, 'reg_lambda': 0.0001857820401750365, 'colsample_bytree': 0.5, 'subsample': 0.12327892494262474, 'learning_rate': 0.06439661926061047, 'max_depth': 26, 'num_leaves': 883, 'min_child_samples': 162, 'min_child_weight': 3.404345251150127e-05, 'cat_smooth': 1, 'cat_l2': 5}. Best is trial 36 with value: 1.0903456649783263.\u001b[0m\n"
          ],
          "name": "stderr"
        },
        {
          "output_type": "stream",
          "text": [
            "train.csv: shape = 100000 rows, 52 cols\n"
          ],
          "name": "stdout"
        },
        {
          "output_type": "stream",
          "text": [
            "\u001b[32m[I 2021-05-16 18:36:16,273]\u001b[0m Trial 44 finished with value: 1.0975781649162613 and parameters: {'reg_alpha': 0.000762942896301563, 'reg_lambda': 0.009438182224937221, 'colsample_bytree': 0.9, 'subsample': 0.17723993744115304, 'learning_rate': 0.09989779389035382, 'max_depth': 11, 'num_leaves': 929, 'min_child_samples': 118, 'min_child_weight': 0.0005512661105757818, 'cat_smooth': 27, 'cat_l2': 12}. Best is trial 36 with value: 1.0903456649783263.\u001b[0m\n"
          ],
          "name": "stderr"
        },
        {
          "output_type": "stream",
          "text": [
            "train.csv: shape = 100000 rows, 52 cols\n"
          ],
          "name": "stdout"
        },
        {
          "output_type": "stream",
          "text": [
            "\u001b[32m[I 2021-05-16 18:36:32,311]\u001b[0m Trial 45 finished with value: 1.0964068562429987 and parameters: {'reg_alpha': 0.00023218859982848076, 'reg_lambda': 0.2714678900939977, 'colsample_bytree': 0.5, 'subsample': 0.0570681181009094, 'learning_rate': 0.052547452042333936, 'max_depth': 55, 'num_leaves': 171, 'min_child_samples': 186, 'min_child_weight': 0.0021670663838240178, 'cat_smooth': 35, 'cat_l2': 2}. Best is trial 36 with value: 1.0903456649783263.\u001b[0m\n"
          ],
          "name": "stderr"
        },
        {
          "output_type": "stream",
          "text": [
            "train.csv: shape = 100000 rows, 52 cols\n"
          ],
          "name": "stdout"
        },
        {
          "output_type": "stream",
          "text": [
            "\u001b[32m[I 2021-05-16 18:36:53,769]\u001b[0m Trial 46 finished with value: 1.0998902051976776 and parameters: {'reg_alpha': 2.249107635416463e-05, 'reg_lambda': 4.947110990729126, 'colsample_bytree': 0.5, 'subsample': 0.36423291787458534, 'learning_rate': 0.0250909442542025, 'max_depth': 33, 'num_leaves': 670, 'min_child_samples': 100, 'min_child_weight': 0.000994324332130367, 'cat_smooth': 61, 'cat_l2': 6}. Best is trial 36 with value: 1.0903456649783263.\u001b[0m\n"
          ],
          "name": "stderr"
        },
        {
          "output_type": "stream",
          "text": [
            "train.csv: shape = 100000 rows, 52 cols\n"
          ],
          "name": "stdout"
        },
        {
          "output_type": "stream",
          "text": [
            "\u001b[32m[I 2021-05-16 18:37:00,118]\u001b[0m Trial 47 finished with value: 1.1035097815074335 and parameters: {'reg_alpha': 0.02030269946446779, 'reg_lambda': 0.04671245332077026, 'colsample_bytree': 0.6, 'subsample': 0.27688625266666417, 'learning_rate': 0.03123795488860441, 'max_depth': 5, 'num_leaves': 370, 'min_child_samples': 201, 'min_child_weight': 0.00013785202431533048, 'cat_smooth': 17, 'cat_l2': 8}. Best is trial 36 with value: 1.0903456649783263.\u001b[0m\n"
          ],
          "name": "stderr"
        },
        {
          "output_type": "stream",
          "text": [
            "train.csv: shape = 100000 rows, 52 cols\n"
          ],
          "name": "stdout"
        },
        {
          "output_type": "stream",
          "text": [
            "\u001b[32m[I 2021-05-16 18:37:21,869]\u001b[0m Trial 48 finished with value: 1.101901218693159 and parameters: {'reg_alpha': 0.0022685943671948137, 'reg_lambda': 0.012400614080762734, 'colsample_bytree': 0.5, 'subsample': 0.1560782225904579, 'learning_rate': 0.03684758383881503, 'max_depth': 20, 'num_leaves': 531, 'min_child_samples': 56, 'min_child_weight': 1.3390073418094704e-05, 'cat_smooth': 53, 'cat_l2': 4}. Best is trial 36 with value: 1.0903456649783263.\u001b[0m\n"
          ],
          "name": "stderr"
        },
        {
          "output_type": "stream",
          "text": [
            "train.csv: shape = 100000 rows, 52 cols\n"
          ],
          "name": "stdout"
        },
        {
          "output_type": "stream",
          "text": [
            "\u001b[32m[I 2021-05-16 18:37:37,363]\u001b[0m Trial 49 finished with value: 1.1002952150298675 and parameters: {'reg_alpha': 0.07777100424697979, 'reg_lambda': 0.0015143575593829005, 'colsample_bytree': 0.3, 'subsample': 0.657665802108842, 'learning_rate': 0.04795222241118591, 'max_depth': 41, 'num_leaves': 437, 'min_child_samples': 175, 'min_child_weight': 0.011359818892871089, 'cat_smooth': 66, 'cat_l2': 9}. Best is trial 36 with value: 1.0903456649783263.\u001b[0m\n"
          ],
          "name": "stderr"
        },
        {
          "output_type": "stream",
          "text": [
            "train.csv: shape = 100000 rows, 52 cols\n"
          ],
          "name": "stdout"
        },
        {
          "output_type": "stream",
          "text": [
            "\u001b[32m[I 2021-05-16 18:37:56,972]\u001b[0m Trial 50 finished with value: 1.088279019087586 and parameters: {'reg_alpha': 0.9557349372478526, 'reg_lambda': 0.00565822311014884, 'colsample_bytree': 0.7, 'subsample': 0.7981326760346236, 'learning_rate': 0.04164055940276916, 'max_depth': 29, 'num_leaves': 622, 'min_child_samples': 150, 'min_child_weight': 0.0003566489059353313, 'cat_smooth': 38, 'cat_l2': 3}. Best is trial 50 with value: 1.088279019087586.\u001b[0m\n"
          ],
          "name": "stderr"
        },
        {
          "output_type": "stream",
          "text": [
            "train.csv: shape = 100000 rows, 52 cols\n"
          ],
          "name": "stdout"
        },
        {
          "output_type": "stream",
          "text": [
            "\u001b[32m[I 2021-05-16 18:38:10,233]\u001b[0m Trial 51 finished with value: 1.1046674185277277 and parameters: {'reg_alpha': 10.84104749340899, 'reg_lambda': 0.004997548546156438, 'colsample_bytree': 0.7, 'subsample': 0.5228564828390005, 'learning_rate': 0.04149674034059467, 'max_depth': 27, 'num_leaves': 611, 'min_child_samples': 151, 'min_child_weight': 0.00048617223208970416, 'cat_smooth': 39, 'cat_l2': 3}. Best is trial 50 with value: 1.088279019087586.\u001b[0m\n"
          ],
          "name": "stderr"
        },
        {
          "output_type": "stream",
          "text": [
            "train.csv: shape = 100000 rows, 52 cols\n"
          ],
          "name": "stdout"
        },
        {
          "output_type": "stream",
          "text": [
            "\u001b[32m[I 2021-05-16 18:38:27,013]\u001b[0m Trial 52 finished with value: 1.1061549327488045 and parameters: {'reg_alpha': 0.33265954959628263, 'reg_lambda': 0.0007609040952851989, 'colsample_bytree': 0.7, 'subsample': 0.818902427991351, 'learning_rate': 0.036053623580867875, 'max_depth': 16, 'num_leaves': 474, 'min_child_samples': 124, 'min_child_weight': 0.0003001015122387385, 'cat_smooth': 45, 'cat_l2': 2}. Best is trial 50 with value: 1.088279019087586.\u001b[0m\n"
          ],
          "name": "stderr"
        },
        {
          "output_type": "stream",
          "text": [
            "train.csv: shape = 100000 rows, 52 cols\n"
          ],
          "name": "stdout"
        },
        {
          "output_type": "stream",
          "text": [
            "\u001b[32m[I 2021-05-16 18:38:44,281]\u001b[0m Trial 53 finished with value: 1.0976381679815508 and parameters: {'reg_alpha': 3.8301639449869667, 'reg_lambda': 5.924800590732535e-05, 'colsample_bytree': 0.7, 'subsample': 0.6148235548870756, 'learning_rate': 0.02942926572539167, 'max_depth': 30, 'num_leaves': 722, 'min_child_samples': 137, 'min_child_weight': 0.00019727763283969773, 'cat_smooth': 32, 'cat_l2': 5}. Best is trial 50 with value: 1.088279019087586.\u001b[0m\n"
          ],
          "name": "stderr"
        },
        {
          "output_type": "stream",
          "text": [
            "train.csv: shape = 100000 rows, 52 cols\n"
          ],
          "name": "stdout"
        },
        {
          "output_type": "stream",
          "text": [
            "\u001b[32m[I 2021-05-16 18:39:04,489]\u001b[0m Trial 54 finished with value: 1.0964551324172955 and parameters: {'reg_alpha': 0.8937055645242837, 'reg_lambda': 2.308296971418878e-05, 'colsample_bytree': 0.7, 'subsample': 0.8764323791637878, 'learning_rate': 0.056132085448365815, 'max_depth': 37, 'num_leaves': 824, 'min_child_samples': 157, 'min_child_weight': 6.973361945110408e-05, 'cat_smooth': 46, 'cat_l2': 7}. Best is trial 50 with value: 1.088279019087586.\u001b[0m\n"
          ],
          "name": "stderr"
        },
        {
          "output_type": "stream",
          "text": [
            "train.csv: shape = 100000 rows, 52 cols\n"
          ],
          "name": "stdout"
        },
        {
          "output_type": "stream",
          "text": [
            "\u001b[32m[I 2021-05-16 18:39:20,565]\u001b[0m Trial 55 finished with value: 1.0963611783576697 and parameters: {'reg_alpha': 0.005087185795566841, 'reg_lambda': 0.0158807542145073, 'colsample_bytree': 0.4, 'subsample': 0.8029392475747579, 'learning_rate': 0.0419682436930581, 'max_depth': 23, 'num_leaves': 547, 'min_child_samples': 188, 'min_child_weight': 0.0008814503705839244, 'cat_smooth': 34, 'cat_l2': 5}. Best is trial 50 with value: 1.088279019087586.\u001b[0m\n"
          ],
          "name": "stderr"
        },
        {
          "output_type": "stream",
          "text": [
            "train.csv: shape = 100000 rows, 52 cols\n"
          ],
          "name": "stdout"
        },
        {
          "output_type": "stream",
          "text": [
            "\u001b[32m[I 2021-05-16 18:39:34,476]\u001b[0m Trial 56 finished with value: 1.0969084642334346 and parameters: {'reg_alpha': 7.163743266388808e-05, 'reg_lambda': 0.20816129334780079, 'colsample_bytree': 0.5, 'subsample': 0.08416670427514072, 'learning_rate': 0.02295115898188417, 'max_depth': 14, 'num_leaves': 616, 'min_child_samples': 168, 'min_child_weight': 4.19899661350743e-05, 'cat_smooth': 24, 'cat_l2': 3}. Best is trial 50 with value: 1.088279019087586.\u001b[0m\n"
          ],
          "name": "stderr"
        },
        {
          "output_type": "stream",
          "text": [
            "train.csv: shape = 100000 rows, 52 cols\n"
          ],
          "name": "stdout"
        },
        {
          "output_type": "stream",
          "text": [
            "\u001b[32m[I 2021-05-16 18:39:51,210]\u001b[0m Trial 57 finished with value: 1.1009597871639614 and parameters: {'reg_alpha': 0.0009993762696474968, 'reg_lambda': 0.4790956585736722, 'colsample_bytree': 0.5, 'subsample': 0.7418310574264061, 'learning_rate': 0.06470429724554969, 'max_depth': 18, 'num_leaves': 320, 'min_child_samples': 109, 'min_child_weight': 0.0025338931715474804, 'cat_smooth': 39, 'cat_l2': 4}. Best is trial 50 with value: 1.088279019087586.\u001b[0m\n"
          ],
          "name": "stderr"
        },
        {
          "output_type": "stream",
          "text": [
            "train.csv: shape = 100000 rows, 52 cols\n"
          ],
          "name": "stdout"
        },
        {
          "output_type": "stream",
          "text": [
            "\u001b[32m[I 2021-05-16 18:40:02,399]\u001b[0m Trial 58 finished with value: 1.1081830954757723 and parameters: {'reg_alpha': 0.011101201030516506, 'reg_lambda': 0.04728309999953047, 'colsample_bytree': 0.9, 'subsample': 0.9849655551198209, 'learning_rate': 0.012496028991955621, 'max_depth': 8, 'num_leaves': 768, 'min_child_samples': 89, 'min_child_weight': 0.00016537845104589555, 'cat_smooth': 58, 'cat_l2': 6}. Best is trial 50 with value: 1.088279019087586.\u001b[0m\n"
          ],
          "name": "stderr"
        },
        {
          "output_type": "stream",
          "text": [
            "train.csv: shape = 100000 rows, 52 cols\n"
          ],
          "name": "stdout"
        },
        {
          "output_type": "stream",
          "text": [
            "\u001b[32m[I 2021-05-16 18:40:13,995]\u001b[0m Trial 59 finished with value: 1.0920150094767496 and parameters: {'reg_alpha': 20.239525854393616, 'reg_lambda': 0.07112375335702158, 'colsample_bytree': 0.8, 'subsample': 0.47298326635271165, 'learning_rate': 0.09315990657458999, 'max_depth': 44, 'num_leaves': 693, 'min_child_samples': 212, 'min_child_weight': 0.0016344838262468916, 'cat_smooth': 72, 'cat_l2': 1}. Best is trial 50 with value: 1.088279019087586.\u001b[0m\n"
          ],
          "name": "stderr"
        },
        {
          "output_type": "stream",
          "text": [
            "train.csv: shape = 100000 rows, 52 cols\n"
          ],
          "name": "stdout"
        },
        {
          "output_type": "stream",
          "text": [
            "\u001b[32m[I 2021-05-16 18:40:24,421]\u001b[0m Trial 60 finished with value: 1.0933912448356524 and parameters: {'reg_alpha': 25.450473705272625, 'reg_lambda': 0.00033008097978130856, 'colsample_bytree': 0.8, 'subsample': 0.46478484341447834, 'learning_rate': 0.09265541045531178, 'max_depth': 53, 'num_leaves': 691, 'min_child_samples': 262, 'min_child_weight': 0.0016187058706464358, 'cat_smooth': 71, 'cat_l2': 1}. Best is trial 50 with value: 1.088279019087586.\u001b[0m\n"
          ],
          "name": "stderr"
        },
        {
          "output_type": "stream",
          "text": [
            "train.csv: shape = 100000 rows, 52 cols\n"
          ],
          "name": "stdout"
        },
        {
          "output_type": "stream",
          "text": [
            "\u001b[32m[I 2021-05-16 18:40:42,267]\u001b[0m Trial 61 finished with value: 1.1013844545741363 and parameters: {'reg_alpha': 0.9976446453693755, 'reg_lambda': 0.07475263288353039, 'colsample_bytree': 0.8, 'subsample': 0.04308685300020354, 'learning_rate': 0.09587820976322904, 'max_depth': 27, 'num_leaves': 647, 'min_child_samples': 207, 'min_child_weight': 0.0045427366587558705, 'cat_smooth': 81, 'cat_l2': 2}. Best is trial 50 with value: 1.088279019087586.\u001b[0m\n"
          ],
          "name": "stderr"
        },
        {
          "output_type": "stream",
          "text": [
            "train.csv: shape = 100000 rows, 52 cols\n"
          ],
          "name": "stdout"
        },
        {
          "output_type": "stream",
          "text": [
            "\u001b[32m[I 2021-05-16 18:40:55,149]\u001b[0m Trial 62 finished with value: 1.094934510562066 and parameters: {'reg_alpha': 13.188561988406091, 'reg_lambda': 0.11981027987329078, 'colsample_bytree': 0.8, 'subsample': 0.7332619015493984, 'learning_rate': 0.08413477576413991, 'max_depth': 43, 'num_leaves': 757, 'min_child_samples': 192, 'min_child_weight': 0.001013398050568569, 'cat_smooth': 78, 'cat_l2': 10}. Best is trial 50 with value: 1.088279019087586.\u001b[0m\n"
          ],
          "name": "stderr"
        },
        {
          "output_type": "stream",
          "text": [
            "train.csv: shape = 100000 rows, 52 cols\n"
          ],
          "name": "stdout"
        },
        {
          "output_type": "stream",
          "text": [
            "\u001b[32m[I 2021-05-16 18:41:17,717]\u001b[0m Trial 63 finished with value: 1.1047657482831463 and parameters: {'reg_alpha': 0.0004935478966018859, 'reg_lambda': 0.02171315886537697, 'colsample_bytree': 0.8, 'subsample': 0.5854379466887122, 'learning_rate': 0.08977795436512288, 'max_depth': 35, 'num_leaves': 701, 'min_child_samples': 143, 'min_child_weight': 0.0004248450433492117, 'cat_smooth': 88, 'cat_l2': 1}. Best is trial 50 with value: 1.088279019087586.\u001b[0m\n"
          ],
          "name": "stderr"
        },
        {
          "output_type": "stream",
          "text": [
            "train.csv: shape = 100000 rows, 52 cols\n"
          ],
          "name": "stdout"
        },
        {
          "output_type": "stream",
          "text": [
            "\u001b[32m[I 2021-05-16 18:41:31,787]\u001b[0m Trial 64 finished with value: 1.098961899956441 and parameters: {'reg_alpha': 2.6359478261455944, 'reg_lambda': 0.00012830595042529776, 'colsample_bytree': 0.5, 'subsample': 0.0014901228588672932, 'learning_rate': 0.08085156293041287, 'max_depth': 24, 'num_leaves': 619, 'min_child_samples': 232, 'min_child_weight': 0.0001022842267516066, 'cat_smooth': 52, 'cat_l2': 12}. Best is trial 50 with value: 1.088279019087586.\u001b[0m\n"
          ],
          "name": "stderr"
        },
        {
          "output_type": "stream",
          "text": [
            "train.csv: shape = 100000 rows, 52 cols\n"
          ],
          "name": "stdout"
        },
        {
          "output_type": "stream",
          "text": [
            "\u001b[32m[I 2021-05-16 18:41:50,112]\u001b[0m Trial 65 finished with value: 1.091111160133087 and parameters: {'reg_alpha': 0.002484465755322094, 'reg_lambda': 0.0021907757203510434, 'colsample_bytree': 0.5, 'subsample': 0.10521805804374923, 'learning_rate': 0.03426137609984985, 'max_depth': 62, 'num_leaves': 832, 'min_child_samples': 177, 'min_child_weight': 0.000614896660963236, 'cat_smooth': 95, 'cat_l2': 3}. Best is trial 50 with value: 1.088279019087586.\u001b[0m\n"
          ],
          "name": "stderr"
        },
        {
          "output_type": "stream",
          "text": [
            "train.csv: shape = 100000 rows, 52 cols\n"
          ],
          "name": "stdout"
        },
        {
          "output_type": "stream",
          "text": [
            "\u001b[32m[I 2021-05-16 18:41:59,258]\u001b[0m Trial 66 finished with value: 1.1033447631791156 and parameters: {'reg_alpha': 26.09298258543287, 'reg_lambda': 0.0022702186010213296, 'colsample_bytree': 0.5, 'subsample': 0.10797440524931007, 'learning_rate': 0.03422452945433475, 'max_depth': 70, 'num_leaves': 905, 'min_child_samples': 211, 'min_child_weight': 0.0007297516497555454, 'cat_smooth': 93, 'cat_l2': 3}. Best is trial 50 with value: 1.088279019087586.\u001b[0m\n"
          ],
          "name": "stderr"
        },
        {
          "output_type": "stream",
          "text": [
            "train.csv: shape = 100000 rows, 52 cols\n"
          ],
          "name": "stdout"
        },
        {
          "output_type": "stream",
          "text": [
            "\u001b[32m[I 2021-05-16 18:42:21,946]\u001b[0m Trial 67 finished with value: 1.0975363678694214 and parameters: {'reg_alpha': 1.8272703213615228e-05, 'reg_lambda': 0.006472158073130813, 'colsample_bytree': 1.0, 'subsample': 0.1953174222480148, 'learning_rate': 0.03800310648679842, 'max_depth': 66, 'num_leaves': 578, 'min_child_samples': 178, 'min_child_weight': 0.0002642701878525467, 'cat_smooth': 100, 'cat_l2': 2}. Best is trial 50 with value: 1.088279019087586.\u001b[0m\n"
          ],
          "name": "stderr"
        },
        {
          "output_type": "stream",
          "text": [
            "train.csv: shape = 100000 rows, 52 cols\n"
          ],
          "name": "stdout"
        },
        {
          "output_type": "stream",
          "text": [
            "\u001b[32m[I 2021-05-16 18:42:40,171]\u001b[0m Trial 68 finished with value: 1.096455217564803 and parameters: {'reg_alpha': 0.03814477830687743, 'reg_lambda': 0.0027850083957766197, 'colsample_bytree': 0.7, 'subsample': 0.24429302703364936, 'learning_rate': 0.04406033203084147, 'max_depth': 59, 'num_leaves': 500, 'min_child_samples': 227, 'min_child_weight': 0.0016447354877530442, 'cat_smooth': 64, 'cat_l2': 4}. Best is trial 50 with value: 1.088279019087586.\u001b[0m\n"
          ],
          "name": "stderr"
        },
        {
          "output_type": "stream",
          "text": [
            "train.csv: shape = 100000 rows, 52 cols\n"
          ],
          "name": "stdout"
        },
        {
          "output_type": "stream",
          "text": [
            "\u001b[32m[I 2021-05-16 18:42:57,609]\u001b[0m Trial 69 finished with value: 1.096784779143783 and parameters: {'reg_alpha': 0.0031831627120017057, 'reg_lambda': 0.0008717346091815293, 'colsample_bytree': 0.6, 'subsample': 0.3464207620618056, 'learning_rate': 0.0491540224969649, 'max_depth': 50, 'num_leaves': 846, 'min_child_samples': 246, 'min_child_weight': 0.0070308472409642345, 'cat_smooth': 93, 'cat_l2': 15}. Best is trial 50 with value: 1.088279019087586.\u001b[0m\n"
          ],
          "name": "stderr"
        },
        {
          "output_type": "stream",
          "text": [
            "train.csv: shape = 100000 rows, 52 cols\n"
          ],
          "name": "stdout"
        },
        {
          "output_type": "stream",
          "text": [
            "\u001b[32m[I 2021-05-16 18:43:15,396]\u001b[0m Trial 70 finished with value: 1.096154460467905 and parameters: {'reg_alpha': 0.0014350124721200332, 'reg_lambda': 0.006118499054171327, 'colsample_bytree': 0.5, 'subsample': 0.14808622219841755, 'learning_rate': 0.026531024776119502, 'max_depth': 74, 'num_leaves': 802, 'min_child_samples': 194, 'min_child_weight': 0.0005132054830782512, 'cat_smooth': 84, 'cat_l2': 3}. Best is trial 50 with value: 1.088279019087586.\u001b[0m\n"
          ],
          "name": "stderr"
        },
        {
          "output_type": "stream",
          "text": [
            "train.csv: shape = 100000 rows, 52 cols\n"
          ],
          "name": "stdout"
        },
        {
          "output_type": "stream",
          "text": [
            "\u001b[32m[I 2021-05-16 18:43:26,032]\u001b[0m Trial 71 finished with value: 1.0990282266269167 and parameters: {'reg_alpha': 0.002193215447876107, 'reg_lambda': 0.050243455890213715, 'colsample_bytree': 0.5, 'subsample': 0.08615774685527358, 'learning_rate': 0.09663630997895269, 'max_depth': 11, 'num_leaves': 968, 'min_child_samples': 154, 'min_child_weight': 0.00364921948607638, 'cat_smooth': 71, 'cat_l2': 6}. Best is trial 50 with value: 1.088279019087586.\u001b[0m\n"
          ],
          "name": "stderr"
        },
        {
          "output_type": "stream",
          "text": [
            "train.csv: shape = 100000 rows, 52 cols\n"
          ],
          "name": "stdout"
        },
        {
          "output_type": "stream",
          "text": [
            "\u001b[32m[I 2021-05-16 18:43:41,985]\u001b[0m Trial 72 finished with value: 1.0999251363054412 and parameters: {'reg_alpha': 0.005218565385259455, 'reg_lambda': 0.03176665647830611, 'colsample_bytree': 0.5, 'subsample': 0.030044244785548846, 'learning_rate': 0.021127315880510592, 'max_depth': 19, 'num_leaves': 679, 'min_child_samples': 178, 'min_child_weight': 0.0007091597983178582, 'cat_smooth': 47, 'cat_l2': 4}. Best is trial 50 with value: 1.088279019087586.\u001b[0m\n"
          ],
          "name": "stderr"
        },
        {
          "output_type": "stream",
          "text": [
            "train.csv: shape = 100000 rows, 52 cols\n"
          ],
          "name": "stdout"
        },
        {
          "output_type": "stream",
          "text": [
            "\u001b[32m[I 2021-05-16 18:44:00,864]\u001b[0m Trial 73 finished with value: 1.0930926702521788 and parameters: {'reg_alpha': 0.016937075692440007, 'reg_lambda': 0.07245999617230355, 'colsample_bytree': 0.5, 'subsample': 0.07546810285779143, 'learning_rate': 0.032776196444777604, 'max_depth': 60, 'num_leaves': 838, 'min_child_samples': 167, 'min_child_weight': 0.0020236614385373687, 'cat_smooth': 42, 'cat_l2': 1}. Best is trial 50 with value: 1.088279019087586.\u001b[0m\n"
          ],
          "name": "stderr"
        },
        {
          "output_type": "stream",
          "text": [
            "train.csv: shape = 100000 rows, 52 cols\n"
          ],
          "name": "stdout"
        },
        {
          "output_type": "stream",
          "text": [
            "\u001b[32m[I 2021-05-16 18:44:19,982]\u001b[0m Trial 74 finished with value: 1.0892000968035467 and parameters: {'reg_alpha': 0.017112387733506474, 'reg_lambda': 0.014204812273754594, 'colsample_bytree': 0.5, 'subsample': 0.11994138416082709, 'learning_rate': 0.040124070288139795, 'max_depth': 62, 'num_leaves': 718, 'min_child_samples': 166, 'min_child_weight': 0.0011507570310181163, 'cat_smooth': 42, 'cat_l2': 1}. Best is trial 50 with value: 1.088279019087586.\u001b[0m\n"
          ],
          "name": "stderr"
        },
        {
          "output_type": "stream",
          "text": [
            "train.csv: shape = 100000 rows, 52 cols\n"
          ],
          "name": "stdout"
        },
        {
          "output_type": "stream",
          "text": [
            "\u001b[32m[I 2021-05-16 18:44:37,866]\u001b[0m Trial 75 finished with value: 1.100576112928113 and parameters: {'reg_alpha': 0.2873690221976698, 'reg_lambda': 0.015185932237435657, 'colsample_bytree': 0.5, 'subsample': 0.1167057125502475, 'learning_rate': 0.039310699298463966, 'max_depth': 83, 'num_leaves': 719, 'min_child_samples': 183, 'min_child_weight': 0.0012999221972199368, 'cat_smooth': 58, 'cat_l2': 2}. Best is trial 50 with value: 1.088279019087586.\u001b[0m\n"
          ],
          "name": "stderr"
        },
        {
          "output_type": "stream",
          "text": [
            "train.csv: shape = 100000 rows, 52 cols\n"
          ],
          "name": "stdout"
        },
        {
          "output_type": "stream",
          "text": [
            "\u001b[32m[I 2021-05-16 18:44:55,655]\u001b[0m Trial 76 finished with value: 1.0953699336430873 and parameters: {'reg_alpha': 0.009128741257016737, 'reg_lambda': 0.0012823439314004555, 'colsample_bytree': 0.5, 'subsample': 0.16535623458644244, 'learning_rate': 0.035689379863211246, 'max_depth': 63, 'num_leaves': 641, 'min_child_samples': 197, 'min_child_weight': 0.00032082011596076885, 'cat_smooth': 5, 'cat_l2': 1}. Best is trial 50 with value: 1.088279019087586.\u001b[0m\n"
          ],
          "name": "stderr"
        },
        {
          "output_type": "stream",
          "text": [
            "train.csv: shape = 100000 rows, 52 cols\n"
          ],
          "name": "stdout"
        },
        {
          "output_type": "stream",
          "text": [
            "\u001b[32m[I 2021-05-16 18:45:17,587]\u001b[0m Trial 77 finished with value: 1.1007241888952806 and parameters: {'reg_alpha': 0.14052222198328962, 'reg_lambda': 0.004574540652395601, 'colsample_bytree': 0.8, 'subsample': 0.18834388645677413, 'learning_rate': 0.055544878674770384, 'max_depth': 45, 'num_leaves': 592, 'min_child_samples': 170, 'min_child_weight': 0.00017320887247717983, 'cat_smooth': 41, 'cat_l2': 20}. Best is trial 50 with value: 1.088279019087586.\u001b[0m\n"
          ],
          "name": "stderr"
        },
        {
          "output_type": "stream",
          "text": [
            "train.csv: shape = 100000 rows, 52 cols\n"
          ],
          "name": "stdout"
        },
        {
          "output_type": "stream",
          "text": [
            "\u001b[32m[I 2021-05-16 18:45:31,260]\u001b[0m Trial 78 finished with value: 1.0966343987965763 and parameters: {'reg_alpha': 0.027776754742999385, 'reg_lambda': 0.00027096713582689763, 'colsample_bytree': 0.3, 'subsample': 0.21916154987503192, 'learning_rate': 0.04332448060080492, 'max_depth': 55, 'num_leaves': 747, 'min_child_samples': 279, 'min_child_weight': 0.0011540035980958324, 'cat_smooth': 49, 'cat_l2': 3}. Best is trial 50 with value: 1.088279019087586.\u001b[0m\n"
          ],
          "name": "stderr"
        },
        {
          "output_type": "stream",
          "text": [
            "train.csv: shape = 100000 rows, 52 cols\n"
          ],
          "name": "stdout"
        },
        {
          "output_type": "stream",
          "text": [
            "\u001b[32m[I 2021-05-16 18:45:51,176]\u001b[0m Trial 79 finished with value: 1.1001033522667385 and parameters: {'reg_alpha': 0.00012587635260014496, 'reg_lambda': 0.0005176535503833122, 'colsample_bytree': 0.5, 'subsample': 0.1358007579279074, 'learning_rate': 0.029727145028382175, 'max_depth': 69, 'num_leaves': 549, 'min_child_samples': 136, 'min_child_weight': 0.0006274266031719462, 'cat_smooth': 53, 'cat_l2': 2}. Best is trial 50 with value: 1.088279019087586.\u001b[0m\n"
          ],
          "name": "stderr"
        },
        {
          "output_type": "stream",
          "text": [
            "train.csv: shape = 100000 rows, 52 cols\n"
          ],
          "name": "stdout"
        },
        {
          "output_type": "stream",
          "text": [
            "\u001b[32m[I 2021-05-16 18:46:01,414]\u001b[0m Trial 80 finished with value: 1.098636132168558 and parameters: {'reg_alpha': 0.07380008736975927, 'reg_lambda': 0.008946657415524594, 'colsample_bytree': 0.4, 'subsample': 0.40625677387320774, 'learning_rate': 0.05068795058980355, 'max_depth': 65, 'num_leaves': 74, 'min_child_samples': 219, 'min_child_weight': 0.002760494853343263, 'cat_smooth': 56, 'cat_l2': 4}. Best is trial 50 with value: 1.088279019087586.\u001b[0m\n"
          ],
          "name": "stderr"
        },
        {
          "output_type": "stream",
          "text": [
            "train.csv: shape = 100000 rows, 52 cols\n"
          ],
          "name": "stdout"
        },
        {
          "output_type": "stream",
          "text": [
            "\u001b[32m[I 2021-05-16 18:46:20,320]\u001b[0m Trial 81 finished with value: 1.0963771270717302 and parameters: {'reg_alpha': 0.0232024514813636, 'reg_lambda': 0.08360605117812361, 'colsample_bytree': 0.5, 'subsample': 0.05842045694932848, 'learning_rate': 0.033351384789002264, 'max_depth': 59, 'num_leaves': 822, 'min_child_samples': 166, 'min_child_weight': 0.0003982250592457567, 'cat_smooth': 43, 'cat_l2': 1}. Best is trial 50 with value: 1.088279019087586.\u001b[0m\n"
          ],
          "name": "stderr"
        },
        {
          "output_type": "stream",
          "text": [
            "train.csv: shape = 100000 rows, 52 cols\n"
          ],
          "name": "stdout"
        },
        {
          "output_type": "stream",
          "text": [
            "\u001b[32m[I 2021-05-16 18:46:40,175]\u001b[0m Trial 82 finished with value: 1.0979423498468388 and parameters: {'reg_alpha': 0.01779924606262696, 'reg_lambda': 0.023667704067611286, 'colsample_bytree': 0.5, 'subsample': 0.0726777769760788, 'learning_rate': 0.038669278563925914, 'max_depth': 62, 'num_leaves': 782, 'min_child_samples': 150, 'min_child_weight': 0.0017908042375963664, 'cat_smooth': 41, 'cat_l2': 17}. Best is trial 50 with value: 1.088279019087586.\u001b[0m\n"
          ],
          "name": "stderr"
        },
        {
          "output_type": "stream",
          "text": [
            "train.csv: shape = 100000 rows, 52 cols\n"
          ],
          "name": "stdout"
        },
        {
          "output_type": "stream",
          "text": [
            "\u001b[32m[I 2021-05-16 18:46:59,046]\u001b[0m Trial 83 finished with value: 1.0963147617846356 and parameters: {'reg_alpha': 0.04901850024652215, 'reg_lambda': 0.1326447903175217, 'colsample_bytree': 0.5, 'subsample': 0.032335939955961464, 'learning_rate': 0.03208998487154414, 'max_depth': 58, 'num_leaves': 848, 'min_child_samples': 160, 'min_child_weight': 0.0020823578232041576, 'cat_smooth': 31, 'cat_l2': 1}. Best is trial 50 with value: 1.088279019087586.\u001b[0m\n"
          ],
          "name": "stderr"
        },
        {
          "output_type": "stream",
          "text": [
            "train.csv: shape = 100000 rows, 52 cols\n"
          ],
          "name": "stdout"
        },
        {
          "output_type": "stream",
          "text": [
            "\u001b[32m[I 2021-05-16 18:47:16,284]\u001b[0m Trial 84 finished with value: 1.0988126206372415 and parameters: {'reg_alpha': 0.01256872923663908, 'reg_lambda': 0.4505214554134184, 'colsample_bytree': 0.5, 'subsample': 0.0949437143022794, 'learning_rate': 0.04011942446055791, 'max_depth': 76, 'num_leaves': 714, 'min_child_samples': 203, 'min_child_weight': 0.003381004309419244, 'cat_smooth': 44, 'cat_l2': 3}. Best is trial 50 with value: 1.088279019087586.\u001b[0m\n"
          ],
          "name": "stderr"
        },
        {
          "output_type": "stream",
          "text": [
            "train.csv: shape = 100000 rows, 52 cols\n"
          ],
          "name": "stdout"
        },
        {
          "output_type": "stream",
          "text": [
            "\u001b[32m[I 2021-05-16 18:47:40,501]\u001b[0m Trial 85 finished with value: 1.0978169824796715 and parameters: {'reg_alpha': 1.358226248422295e-05, 'reg_lambda': 0.03819104782981987, 'colsample_bytree': 0.5, 'subsample': 0.13390084747828254, 'learning_rate': 0.046404912453054954, 'max_depth': 52, 'num_leaves': 651, 'min_child_samples': 174, 'min_child_weight': 0.0008452794034127547, 'cat_smooth': 50, 'cat_l2': 2}. Best is trial 50 with value: 1.088279019087586.\u001b[0m\n"
          ],
          "name": "stderr"
        },
        {
          "output_type": "stream",
          "text": [
            "train.csv: shape = 100000 rows, 52 cols\n"
          ],
          "name": "stdout"
        },
        {
          "output_type": "stream",
          "text": [
            "\u001b[32m[I 2021-05-16 18:48:01,800]\u001b[0m Trial 86 finished with value: 1.099595142485049 and parameters: {'reg_alpha': 5.4285642233343735e-05, 'reg_lambda': 0.19940875992540782, 'colsample_bytree': 0.5, 'subsample': 0.30161457456303814, 'learning_rate': 0.026973849892804286, 'max_depth': 57, 'num_leaves': 678, 'min_child_samples': 123, 'min_child_weight': 7.204393578192381e-05, 'cat_smooth': 37, 'cat_l2': 5}. Best is trial 50 with value: 1.088279019087586.\u001b[0m\n"
          ],
          "name": "stderr"
        },
        {
          "output_type": "stream",
          "text": [
            "train.csv: shape = 100000 rows, 52 cols\n"
          ],
          "name": "stdout"
        },
        {
          "output_type": "stream",
          "text": [
            "\u001b[32m[I 2021-05-16 18:48:20,120]\u001b[0m Trial 87 finished with value: 1.097358006426133 and parameters: {'reg_alpha': 0.007531317401790098, 'reg_lambda': 0.013918316140692727, 'colsample_bytree': 0.7, 'subsample': 0.1175280695570756, 'learning_rate': 0.017417722121811342, 'max_depth': 39, 'num_leaves': 232, 'min_child_samples': 185, 'min_child_weight': 0.00011511768056818703, 'cat_smooth': 77, 'cat_l2': 1}. Best is trial 50 with value: 1.088279019087586.\u001b[0m\n"
          ],
          "name": "stderr"
        },
        {
          "output_type": "stream",
          "text": [
            "train.csv: shape = 100000 rows, 52 cols\n"
          ],
          "name": "stdout"
        },
        {
          "output_type": "stream",
          "text": [
            "\u001b[32m[I 2021-05-16 18:48:43,988]\u001b[0m Trial 88 finished with value: 1.0903226907431578 and parameters: {'reg_alpha': 3.483988630554395e-05, 'reg_lambda': 0.0001911764209373926, 'colsample_bytree': 0.9, 'subsample': 0.1655474963477185, 'learning_rate': 0.03485308765669396, 'max_depth': 47, 'num_leaves': 874, 'min_child_samples': 146, 'min_child_weight': 0.00024509936934904525, 'cat_smooth': 34, 'cat_l2': 3}. Best is trial 50 with value: 1.088279019087586.\u001b[0m\n"
          ],
          "name": "stderr"
        },
        {
          "output_type": "stream",
          "text": [
            "train.csv: shape = 100000 rows, 52 cols\n"
          ],
          "name": "stdout"
        },
        {
          "output_type": "stream",
          "text": [
            "\u001b[32m[I 2021-05-16 18:49:08,110]\u001b[0m Trial 89 finished with value: 1.099329944522781 and parameters: {'reg_alpha': 3.2580421522962195e-05, 'reg_lambda': 0.0001513834409812288, 'colsample_bytree': 0.9, 'subsample': 0.26685279626769065, 'learning_rate': 0.0350211796080422, 'max_depth': 48, 'num_leaves': 933, 'min_child_samples': 144, 'min_child_weight': 0.0002076886057935766, 'cat_smooth': 25, 'cat_l2': 3}. Best is trial 50 with value: 1.088279019087586.\u001b[0m\n"
          ],
          "name": "stderr"
        },
        {
          "output_type": "stream",
          "text": [
            "train.csv: shape = 100000 rows, 52 cols\n"
          ],
          "name": "stdout"
        },
        {
          "output_type": "stream",
          "text": [
            "\u001b[32m[I 2021-05-16 18:49:31,170]\u001b[0m Trial 90 finished with value: 1.1037814271020392 and parameters: {'reg_alpha': 0.00038003431665927775, 'reg_lambda': 8.593781169635508e-05, 'colsample_bytree': 0.9, 'subsample': 0.23323082035907156, 'learning_rate': 0.04386130729095512, 'max_depth': 29, 'num_leaves': 878, 'min_child_samples': 131, 'min_child_weight': 0.0002530830006584904, 'cat_smooth': 19, 'cat_l2': 4}. Best is trial 50 with value: 1.088279019087586.\u001b[0m\n"
          ],
          "name": "stderr"
        },
        {
          "output_type": "stream",
          "text": [
            "train.csv: shape = 100000 rows, 52 cols\n"
          ],
          "name": "stdout"
        },
        {
          "output_type": "stream",
          "text": [
            "\u001b[32m[I 2021-05-16 18:49:53,360]\u001b[0m Trial 91 finished with value: 1.1006350247795291 and parameters: {'reg_alpha': 2.7940236134534378e-05, 'reg_lambda': 0.0002161100573716321, 'colsample_bytree': 0.9, 'subsample': 0.15895715706139557, 'learning_rate': 0.0303276484685861, 'max_depth': 33, 'num_leaves': 960, 'min_child_samples': 164, 'min_child_weight': 0.0004371691592387172, 'cat_smooth': 33, 'cat_l2': 2}. Best is trial 50 with value: 1.088279019087586.\u001b[0m\n"
          ],
          "name": "stderr"
        },
        {
          "output_type": "stream",
          "text": [
            "train.csv: shape = 100000 rows, 52 cols\n"
          ],
          "name": "stdout"
        },
        {
          "output_type": "stream",
          "text": [
            "\u001b[32m[I 2021-05-16 18:50:15,670]\u001b[0m Trial 92 finished with value: 1.0991054965311817 and parameters: {'reg_alpha': 0.4811132230565324, 'reg_lambda': 0.05850320558897908, 'colsample_bytree': 0.9, 'subsample': 0.18552859933199078, 'learning_rate': 0.024100539917130855, 'max_depth': 71, 'num_leaves': 902, 'min_child_samples': 154, 'min_child_weight': 0.0011738044818746698, 'cat_smooth': 40, 'cat_l2': 2}. Best is trial 50 with value: 1.088279019087586.\u001b[0m\n"
          ],
          "name": "stderr"
        },
        {
          "output_type": "stream",
          "text": [
            "train.csv: shape = 100000 rows, 52 cols\n"
          ],
          "name": "stdout"
        },
        {
          "output_type": "stream",
          "text": [
            "\u001b[32m[I 2021-05-16 18:50:37,979]\u001b[0m Trial 93 finished with value: 1.0980691933917548 and parameters: {'reg_alpha': 4.5290925723428335e-05, 'reg_lambda': 0.0004458459644607825, 'colsample_bytree': 0.5, 'subsample': 0.09868952137790851, 'learning_rate': 0.037010743374917984, 'max_depth': 48, 'num_leaves': 742, 'min_child_samples': 117, 'min_child_weight': 0.00013674062018862937, 'cat_smooth': 29, 'cat_l2': 3}. Best is trial 50 with value: 1.088279019087586.\u001b[0m\n"
          ],
          "name": "stderr"
        },
        {
          "output_type": "stream",
          "text": [
            "train.csv: shape = 100000 rows, 52 cols\n"
          ],
          "name": "stdout"
        },
        {
          "output_type": "stream",
          "text": [
            "\u001b[32m[I 2021-05-16 18:51:01,296]\u001b[0m Trial 94 finished with value: 1.1012207391744187 and parameters: {'reg_alpha': 1.4433508640223643e-05, 'reg_lambda': 1.0955640472126513, 'colsample_bytree': 1.0, 'subsample': 0.06648588852866864, 'learning_rate': 0.047941005056071365, 'max_depth': 63, 'num_leaves': 784, 'min_child_samples': 172, 'min_child_weight': 9.495067776840248e-05, 'cat_smooth': 35, 'cat_l2': 1}. Best is trial 50 with value: 1.088279019087586.\u001b[0m\n"
          ],
          "name": "stderr"
        },
        {
          "output_type": "stream",
          "text": [
            "train.csv: shape = 100000 rows, 52 cols\n"
          ],
          "name": "stdout"
        },
        {
          "output_type": "stream",
          "text": [
            "\u001b[32m[I 2021-05-16 18:51:21,357]\u001b[0m Trial 95 finished with value: 1.0966014435269962 and parameters: {'reg_alpha': 0.00022516882948541727, 'reg_lambda': 0.0009376055401431377, 'colsample_bytree': 0.5, 'subsample': 0.20848831165734968, 'learning_rate': 0.03362113493919659, 'max_depth': 54, 'num_leaves': 624, 'min_child_samples': 145, 'min_child_weight': 5.323800344235899e-05, 'cat_smooth': 47, 'cat_l2': 5}. Best is trial 50 with value: 1.088279019087586.\u001b[0m\n"
          ],
          "name": "stderr"
        },
        {
          "output_type": "stream",
          "text": [
            "train.csv: shape = 100000 rows, 52 cols\n"
          ],
          "name": "stdout"
        },
        {
          "output_type": "stream",
          "text": [
            "\u001b[32m[I 2021-05-16 18:51:38,962]\u001b[0m Trial 96 finished with value: 1.092937359612438 and parameters: {'reg_alpha': 0.0010178096286429204, 'reg_lambda': 8.926111495893527e-05, 'colsample_bytree': 0.8, 'subsample': 0.021343436390862607, 'learning_rate': 0.04251684224407627, 'max_depth': 51, 'num_leaves': 161, 'min_child_samples': 190, 'min_child_weight': 0.0005971286093381831, 'cat_smooth': 13, 'cat_l2': 4}. Best is trial 50 with value: 1.088279019087586.\u001b[0m\n"
          ],
          "name": "stderr"
        },
        {
          "output_type": "stream",
          "text": [
            "train.csv: shape = 100000 rows, 52 cols\n"
          ],
          "name": "stdout"
        },
        {
          "output_type": "stream",
          "text": [
            "\u001b[32m[I 2021-05-16 18:51:59,480]\u001b[0m Trial 97 finished with value: 1.0998443331694872 and parameters: {'reg_alpha': 0.0008620464656904043, 'reg_lambda': 0.0019481378071050607, 'colsample_bytree': 0.8, 'subsample': 0.47624898321655657, 'learning_rate': 0.04042677664815464, 'max_depth': 42, 'num_leaves': 278, 'min_child_samples': 187, 'min_child_weight': 0.0006068724062083184, 'cat_smooth': 11, 'cat_l2': 4}. Best is trial 50 with value: 1.088279019087586.\u001b[0m\n"
          ],
          "name": "stderr"
        },
        {
          "output_type": "stream",
          "text": [
            "train.csv: shape = 100000 rows, 52 cols\n"
          ],
          "name": "stdout"
        },
        {
          "output_type": "stream",
          "text": [
            "\u001b[32m[I 2021-05-16 18:52:17,499]\u001b[0m Trial 98 finished with value: 1.097967890559086 and parameters: {'reg_alpha': 0.0010887442460382354, 'reg_lambda': 6.85770693776466e-05, 'colsample_bytree': 0.8, 'subsample': 0.02449513281945133, 'learning_rate': 0.042983706612790516, 'max_depth': 51, 'num_leaves': 182, 'min_child_samples': 214, 'min_child_weight': 0.00033639916015951063, 'cat_smooth': 8, 'cat_l2': 13}. Best is trial 50 with value: 1.088279019087586.\u001b[0m\n"
          ],
          "name": "stderr"
        },
        {
          "output_type": "stream",
          "text": [
            "train.csv: shape = 100000 rows, 52 cols\n"
          ],
          "name": "stdout"
        },
        {
          "output_type": "stream",
          "text": [
            "\u001b[32m[I 2021-05-16 18:52:34,115]\u001b[0m Trial 99 finished with value: 1.094605906603208 and parameters: {'reg_alpha': 0.0005789338442277418, 'reg_lambda': 2.447736393204762e-05, 'colsample_bytree': 0.8, 'subsample': 0.000486993365153488, 'learning_rate': 0.04565651204537804, 'max_depth': 39, 'num_leaves': 133, 'min_child_samples': 198, 'min_child_weight': 0.0009042688882242668, 'cat_smooth': 16, 'cat_l2': 4}. Best is trial 50 with value: 1.088279019087586.\u001b[0m\n"
          ],
          "name": "stderr"
        },
        {
          "output_type": "stream",
          "text": [
            "Number of finished trials: 100\n",
            "Best trial: {'reg_alpha': 0.9557349372478526, 'reg_lambda': 0.00565822311014884, 'colsample_bytree': 0.7, 'subsample': 0.7981326760346236, 'learning_rate': 0.04164055940276916, 'max_depth': 29, 'num_leaves': 622, 'min_child_samples': 150, 'min_child_weight': 0.0003566489059353313, 'cat_smooth': 38, 'cat_l2': 3}\n",
            "Best value: FrozenTrial(number=50, values=[1.088279019087586], datetime_start=datetime.datetime(2021, 5, 16, 18, 37, 37, 365754), datetime_complete=datetime.datetime(2021, 5, 16, 18, 37, 56, 972100), params={'reg_alpha': 0.9557349372478526, 'reg_lambda': 0.00565822311014884, 'colsample_bytree': 0.7, 'subsample': 0.7981326760346236, 'learning_rate': 0.04164055940276916, 'max_depth': 29, 'num_leaves': 622, 'min_child_samples': 150, 'min_child_weight': 0.0003566489059353313, 'cat_smooth': 38, 'cat_l2': 3}, distributions={'reg_alpha': LogUniformDistribution(high=30.0, low=1e-05), 'reg_lambda': LogUniformDistribution(high=30.0, low=1e-05), 'colsample_bytree': CategoricalDistribution(choices=(0.3, 0.4, 0.5, 0.6, 0.7, 0.8, 0.9, 1.0)), 'subsample': UniformDistribution(high=1.0, low=0.0), 'learning_rate': UniformDistribution(high=0.1, low=0.0), 'max_depth': IntUniformDistribution(high=100, low=1, step=1), 'num_leaves': IntUniformDistribution(high=1000, low=2, step=1), 'min_child_samples': IntUniformDistribution(high=300, low=1, step=1), 'min_child_weight': LogUniformDistribution(high=1.0, low=1e-05), 'cat_smooth': IntUniformDistribution(high=100, low=1, step=1), 'cat_l2': IntUniformDistribution(high=20, low=1, step=1)}, user_attrs={}, system_attrs={}, intermediate_values={}, trial_id=50, state=TrialState.COMPLETE, value=None)\n"
          ],
          "name": "stdout"
        }
      ]
    },
    {
      "cell_type": "code",
      "metadata": {
        "colab": {
          "base_uri": "https://localhost:8080/",
          "height": 542
        },
        "id": "O7ZcEEJJIBhF",
        "outputId": "54cc401e-2ee6-4bd7-d961-c632372adf73"
      },
      "source": [
        "optuna.visualization.plot_optimization_history(study)"
      ],
      "execution_count": null,
      "outputs": [
        {
          "output_type": "display_data",
          "data": {
            "text/html": [
              "<html>\n",
              "<head><meta charset=\"utf-8\" /></head>\n",
              "<body>\n",
              "    <div>\n",
              "            <script src=\"https://cdnjs.cloudflare.com/ajax/libs/mathjax/2.7.5/MathJax.js?config=TeX-AMS-MML_SVG\"></script><script type=\"text/javascript\">if (window.MathJax) {MathJax.Hub.Config({SVG: {font: \"STIX-Web\"}});}</script>\n",
              "                <script type=\"text/javascript\">window.PlotlyConfig = {MathJaxConfig: 'local'};</script>\n",
              "        <script src=\"https://cdn.plot.ly/plotly-latest.min.js\"></script>    \n",
              "            <div id=\"dac253e7-3682-44c4-8419-24843bcf6f6d\" class=\"plotly-graph-div\" style=\"height:525px; width:100%;\"></div>\n",
              "            <script type=\"text/javascript\">\n",
              "                \n",
              "                    window.PLOTLYENV=window.PLOTLYENV || {};\n",
              "                    \n",
              "                if (document.getElementById(\"dac253e7-3682-44c4-8419-24843bcf6f6d\")) {\n",
              "                    Plotly.newPlot(\n",
              "                        'dac253e7-3682-44c4-8419-24843bcf6f6d',\n",
              "                        [{\"mode\": \"markers\", \"name\": \"Objective Value\", \"type\": \"scatter\", \"x\": [0, 1, 2, 3, 4, 5, 6, 7, 8, 9, 10, 11, 12, 13, 14, 15, 16, 17, 18, 19, 20, 21, 22, 23, 24, 25, 26, 27, 28, 29, 30, 31, 32, 33, 34, 35, 36, 37, 38, 39, 40, 41, 42, 43, 44, 45, 46, 47, 48, 49, 50, 51, 52, 53, 54, 55, 56, 57, 58, 59, 60, 61, 62, 63, 64, 65, 66, 67, 68, 69, 70, 71, 72, 73, 74, 75, 76, 77, 78, 79, 80, 81, 82, 83, 84, 85, 86, 87, 88, 89, 90, 91, 92, 93, 94, 95, 96, 97, 98, 99], \"y\": [1.0930728477741078, 1.0955685356214455, 1.1005712477990852, 1.0947276050717174, 1.1050866936268615, 1.1064935508863833, 1.1101047647935305, 1.1032285015323893, 1.0968530512095067, 1.1034504848063675, 1.0931887003119531, 1.0973996124682044, 1.1021461658733485, 1.0908766056039574, 1.0989594963590876, 1.1016589244506654, 1.0989474731582702, 1.1148620391662822, 1.1025611944507727, 1.1069990629606703, 1.0960596641949725, 1.1044994063199582, 1.0977050497515188, 1.104185200549606, 1.09099953987274, 1.0949188093509472, 1.1156180888409006, 1.0960881575329515, 1.0949230709773012, 1.0995186051080554, 1.1007996727087441, 1.0978143574423012, 1.1054941215664336, 1.0964755988329116, 1.1150964399081225, 1.0992755537194971, 1.0903456649783263, 1.1050799287467428, 1.1134839980766846, 1.105675036825571, 1.1019874634157347, 1.0968837206856, 1.1005925396235567, 1.1024041064875254, 1.0975781649162613, 1.0964068562429987, 1.0998902051976776, 1.1035097815074335, 1.101901218693159, 1.1002952150298675, 1.088279019087586, 1.1046674185277277, 1.1061549327488045, 1.0976381679815508, 1.0964551324172955, 1.0963611783576697, 1.0969084642334346, 1.1009597871639614, 1.1081830954757723, 1.0920150094767496, 1.0933912448356524, 1.1013844545741363, 1.094934510562066, 1.1047657482831463, 1.098961899956441, 1.091111160133087, 1.1033447631791156, 1.0975363678694214, 1.096455217564803, 1.096784779143783, 1.096154460467905, 1.0990282266269167, 1.0999251363054412, 1.0930926702521788, 1.0892000968035467, 1.100576112928113, 1.0953699336430873, 1.1007241888952806, 1.0966343987965763, 1.1001033522667385, 1.098636132168558, 1.0963771270717302, 1.0979423498468388, 1.0963147617846356, 1.0988126206372415, 1.0978169824796715, 1.099595142485049, 1.097358006426133, 1.0903226907431578, 1.099329944522781, 1.1037814271020392, 1.1006350247795291, 1.0991054965311817, 1.0980691933917548, 1.1012207391744187, 1.0966014435269962, 1.092937359612438, 1.0998443331694872, 1.097967890559086, 1.094605906603208]}, {\"name\": \"Best Value\", \"type\": \"scatter\", \"x\": [0, 1, 2, 3, 4, 5, 6, 7, 8, 9, 10, 11, 12, 13, 14, 15, 16, 17, 18, 19, 20, 21, 22, 23, 24, 25, 26, 27, 28, 29, 30, 31, 32, 33, 34, 35, 36, 37, 38, 39, 40, 41, 42, 43, 44, 45, 46, 47, 48, 49, 50, 51, 52, 53, 54, 55, 56, 57, 58, 59, 60, 61, 62, 63, 64, 65, 66, 67, 68, 69, 70, 71, 72, 73, 74, 75, 76, 77, 78, 79, 80, 81, 82, 83, 84, 85, 86, 87, 88, 89, 90, 91, 92, 93, 94, 95, 96, 97, 98, 99], \"y\": [1.0930728477741078, 1.0930728477741078, 1.0930728477741078, 1.0930728477741078, 1.0930728477741078, 1.0930728477741078, 1.0930728477741078, 1.0930728477741078, 1.0930728477741078, 1.0930728477741078, 1.0930728477741078, 1.0930728477741078, 1.0930728477741078, 1.0908766056039574, 1.0908766056039574, 1.0908766056039574, 1.0908766056039574, 1.0908766056039574, 1.0908766056039574, 1.0908766056039574, 1.0908766056039574, 1.0908766056039574, 1.0908766056039574, 1.0908766056039574, 1.0908766056039574, 1.0908766056039574, 1.0908766056039574, 1.0908766056039574, 1.0908766056039574, 1.0908766056039574, 1.0908766056039574, 1.0908766056039574, 1.0908766056039574, 1.0908766056039574, 1.0908766056039574, 1.0908766056039574, 1.0903456649783263, 1.0903456649783263, 1.0903456649783263, 1.0903456649783263, 1.0903456649783263, 1.0903456649783263, 1.0903456649783263, 1.0903456649783263, 1.0903456649783263, 1.0903456649783263, 1.0903456649783263, 1.0903456649783263, 1.0903456649783263, 1.0903456649783263, 1.088279019087586, 1.088279019087586, 1.088279019087586, 1.088279019087586, 1.088279019087586, 1.088279019087586, 1.088279019087586, 1.088279019087586, 1.088279019087586, 1.088279019087586, 1.088279019087586, 1.088279019087586, 1.088279019087586, 1.088279019087586, 1.088279019087586, 1.088279019087586, 1.088279019087586, 1.088279019087586, 1.088279019087586, 1.088279019087586, 1.088279019087586, 1.088279019087586, 1.088279019087586, 1.088279019087586, 1.088279019087586, 1.088279019087586, 1.088279019087586, 1.088279019087586, 1.088279019087586, 1.088279019087586, 1.088279019087586, 1.088279019087586, 1.088279019087586, 1.088279019087586, 1.088279019087586, 1.088279019087586, 1.088279019087586, 1.088279019087586, 1.088279019087586, 1.088279019087586, 1.088279019087586, 1.088279019087586, 1.088279019087586, 1.088279019087586, 1.088279019087586, 1.088279019087586, 1.088279019087586, 1.088279019087586, 1.088279019087586, 1.088279019087586]}],\n",
              "                        {\"template\": {\"data\": {\"bar\": [{\"error_x\": {\"color\": \"#2a3f5f\"}, \"error_y\": {\"color\": \"#2a3f5f\"}, \"marker\": {\"line\": {\"color\": \"#E5ECF6\", \"width\": 0.5}}, \"type\": \"bar\"}], \"barpolar\": [{\"marker\": {\"line\": {\"color\": \"#E5ECF6\", \"width\": 0.5}}, \"type\": \"barpolar\"}], \"carpet\": [{\"aaxis\": {\"endlinecolor\": \"#2a3f5f\", \"gridcolor\": \"white\", \"linecolor\": \"white\", \"minorgridcolor\": \"white\", \"startlinecolor\": \"#2a3f5f\"}, \"baxis\": {\"endlinecolor\": \"#2a3f5f\", \"gridcolor\": \"white\", \"linecolor\": \"white\", \"minorgridcolor\": \"white\", \"startlinecolor\": \"#2a3f5f\"}, \"type\": \"carpet\"}], \"choropleth\": [{\"colorbar\": {\"outlinewidth\": 0, \"ticks\": \"\"}, \"type\": \"choropleth\"}], \"contour\": [{\"colorbar\": {\"outlinewidth\": 0, \"ticks\": \"\"}, \"colorscale\": [[0.0, \"#0d0887\"], [0.1111111111111111, \"#46039f\"], [0.2222222222222222, \"#7201a8\"], [0.3333333333333333, \"#9c179e\"], [0.4444444444444444, \"#bd3786\"], [0.5555555555555556, \"#d8576b\"], [0.6666666666666666, \"#ed7953\"], [0.7777777777777778, \"#fb9f3a\"], [0.8888888888888888, \"#fdca26\"], [1.0, \"#f0f921\"]], \"type\": \"contour\"}], \"contourcarpet\": [{\"colorbar\": {\"outlinewidth\": 0, \"ticks\": \"\"}, \"type\": \"contourcarpet\"}], \"heatmap\": [{\"colorbar\": {\"outlinewidth\": 0, \"ticks\": \"\"}, \"colorscale\": [[0.0, \"#0d0887\"], [0.1111111111111111, \"#46039f\"], [0.2222222222222222, \"#7201a8\"], [0.3333333333333333, \"#9c179e\"], [0.4444444444444444, \"#bd3786\"], [0.5555555555555556, \"#d8576b\"], [0.6666666666666666, \"#ed7953\"], [0.7777777777777778, \"#fb9f3a\"], [0.8888888888888888, \"#fdca26\"], [1.0, \"#f0f921\"]], \"type\": \"heatmap\"}], \"heatmapgl\": [{\"colorbar\": {\"outlinewidth\": 0, \"ticks\": \"\"}, \"colorscale\": [[0.0, \"#0d0887\"], [0.1111111111111111, \"#46039f\"], [0.2222222222222222, \"#7201a8\"], [0.3333333333333333, \"#9c179e\"], [0.4444444444444444, \"#bd3786\"], [0.5555555555555556, \"#d8576b\"], [0.6666666666666666, \"#ed7953\"], [0.7777777777777778, \"#fb9f3a\"], [0.8888888888888888, \"#fdca26\"], [1.0, \"#f0f921\"]], \"type\": \"heatmapgl\"}], \"histogram\": [{\"marker\": {\"colorbar\": {\"outlinewidth\": 0, \"ticks\": \"\"}}, \"type\": \"histogram\"}], \"histogram2d\": [{\"colorbar\": {\"outlinewidth\": 0, \"ticks\": \"\"}, \"colorscale\": [[0.0, \"#0d0887\"], [0.1111111111111111, \"#46039f\"], [0.2222222222222222, \"#7201a8\"], [0.3333333333333333, \"#9c179e\"], [0.4444444444444444, \"#bd3786\"], [0.5555555555555556, \"#d8576b\"], [0.6666666666666666, \"#ed7953\"], [0.7777777777777778, \"#fb9f3a\"], [0.8888888888888888, \"#fdca26\"], [1.0, \"#f0f921\"]], \"type\": \"histogram2d\"}], \"histogram2dcontour\": [{\"colorbar\": {\"outlinewidth\": 0, \"ticks\": \"\"}, \"colorscale\": [[0.0, \"#0d0887\"], [0.1111111111111111, \"#46039f\"], [0.2222222222222222, \"#7201a8\"], [0.3333333333333333, \"#9c179e\"], [0.4444444444444444, \"#bd3786\"], [0.5555555555555556, \"#d8576b\"], [0.6666666666666666, \"#ed7953\"], [0.7777777777777778, \"#fb9f3a\"], [0.8888888888888888, \"#fdca26\"], [1.0, \"#f0f921\"]], \"type\": \"histogram2dcontour\"}], \"mesh3d\": [{\"colorbar\": {\"outlinewidth\": 0, \"ticks\": \"\"}, \"type\": \"mesh3d\"}], \"parcoords\": [{\"line\": {\"colorbar\": {\"outlinewidth\": 0, \"ticks\": \"\"}}, \"type\": \"parcoords\"}], \"pie\": [{\"automargin\": true, \"type\": \"pie\"}], \"scatter\": [{\"marker\": {\"colorbar\": {\"outlinewidth\": 0, \"ticks\": \"\"}}, \"type\": \"scatter\"}], \"scatter3d\": [{\"line\": {\"colorbar\": {\"outlinewidth\": 0, \"ticks\": \"\"}}, \"marker\": {\"colorbar\": {\"outlinewidth\": 0, \"ticks\": \"\"}}, \"type\": \"scatter3d\"}], \"scattercarpet\": [{\"marker\": {\"colorbar\": {\"outlinewidth\": 0, \"ticks\": \"\"}}, \"type\": \"scattercarpet\"}], \"scattergeo\": [{\"marker\": {\"colorbar\": {\"outlinewidth\": 0, \"ticks\": \"\"}}, \"type\": \"scattergeo\"}], \"scattergl\": [{\"marker\": {\"colorbar\": {\"outlinewidth\": 0, \"ticks\": \"\"}}, \"type\": \"scattergl\"}], \"scattermapbox\": [{\"marker\": {\"colorbar\": {\"outlinewidth\": 0, \"ticks\": \"\"}}, \"type\": \"scattermapbox\"}], \"scatterpolar\": [{\"marker\": {\"colorbar\": {\"outlinewidth\": 0, \"ticks\": \"\"}}, \"type\": \"scatterpolar\"}], \"scatterpolargl\": [{\"marker\": {\"colorbar\": {\"outlinewidth\": 0, \"ticks\": \"\"}}, \"type\": \"scatterpolargl\"}], \"scatterternary\": [{\"marker\": {\"colorbar\": {\"outlinewidth\": 0, \"ticks\": \"\"}}, \"type\": \"scatterternary\"}], \"surface\": [{\"colorbar\": {\"outlinewidth\": 0, \"ticks\": \"\"}, \"colorscale\": [[0.0, \"#0d0887\"], [0.1111111111111111, \"#46039f\"], [0.2222222222222222, \"#7201a8\"], [0.3333333333333333, \"#9c179e\"], [0.4444444444444444, \"#bd3786\"], [0.5555555555555556, \"#d8576b\"], [0.6666666666666666, \"#ed7953\"], [0.7777777777777778, \"#fb9f3a\"], [0.8888888888888888, \"#fdca26\"], [1.0, \"#f0f921\"]], \"type\": \"surface\"}], \"table\": [{\"cells\": {\"fill\": {\"color\": \"#EBF0F8\"}, \"line\": {\"color\": \"white\"}}, \"header\": {\"fill\": {\"color\": \"#C8D4E3\"}, \"line\": {\"color\": \"white\"}}, \"type\": \"table\"}]}, \"layout\": {\"annotationdefaults\": {\"arrowcolor\": \"#2a3f5f\", \"arrowhead\": 0, \"arrowwidth\": 1}, \"coloraxis\": {\"colorbar\": {\"outlinewidth\": 0, \"ticks\": \"\"}}, \"colorscale\": {\"diverging\": [[0, \"#8e0152\"], [0.1, \"#c51b7d\"], [0.2, \"#de77ae\"], [0.3, \"#f1b6da\"], [0.4, \"#fde0ef\"], [0.5, \"#f7f7f7\"], [0.6, \"#e6f5d0\"], [0.7, \"#b8e186\"], [0.8, \"#7fbc41\"], [0.9, \"#4d9221\"], [1, \"#276419\"]], \"sequential\": [[0.0, \"#0d0887\"], [0.1111111111111111, \"#46039f\"], [0.2222222222222222, \"#7201a8\"], [0.3333333333333333, \"#9c179e\"], [0.4444444444444444, \"#bd3786\"], [0.5555555555555556, \"#d8576b\"], [0.6666666666666666, \"#ed7953\"], [0.7777777777777778, \"#fb9f3a\"], [0.8888888888888888, \"#fdca26\"], [1.0, \"#f0f921\"]], \"sequentialminus\": [[0.0, \"#0d0887\"], [0.1111111111111111, \"#46039f\"], [0.2222222222222222, \"#7201a8\"], [0.3333333333333333, \"#9c179e\"], [0.4444444444444444, \"#bd3786\"], [0.5555555555555556, \"#d8576b\"], [0.6666666666666666, \"#ed7953\"], [0.7777777777777778, \"#fb9f3a\"], [0.8888888888888888, \"#fdca26\"], [1.0, \"#f0f921\"]]}, \"colorway\": [\"#636efa\", \"#EF553B\", \"#00cc96\", \"#ab63fa\", \"#FFA15A\", \"#19d3f3\", \"#FF6692\", \"#B6E880\", \"#FF97FF\", \"#FECB52\"], \"font\": {\"color\": \"#2a3f5f\"}, \"geo\": {\"bgcolor\": \"white\", \"lakecolor\": \"white\", \"landcolor\": \"#E5ECF6\", \"showlakes\": true, \"showland\": true, \"subunitcolor\": \"white\"}, \"hoverlabel\": {\"align\": \"left\"}, \"hovermode\": \"closest\", \"mapbox\": {\"style\": \"light\"}, \"paper_bgcolor\": \"white\", \"plot_bgcolor\": \"#E5ECF6\", \"polar\": {\"angularaxis\": {\"gridcolor\": \"white\", \"linecolor\": \"white\", \"ticks\": \"\"}, \"bgcolor\": \"#E5ECF6\", \"radialaxis\": {\"gridcolor\": \"white\", \"linecolor\": \"white\", \"ticks\": \"\"}}, \"scene\": {\"xaxis\": {\"backgroundcolor\": \"#E5ECF6\", \"gridcolor\": \"white\", \"gridwidth\": 2, \"linecolor\": \"white\", \"showbackground\": true, \"ticks\": \"\", \"zerolinecolor\": \"white\"}, \"yaxis\": {\"backgroundcolor\": \"#E5ECF6\", \"gridcolor\": \"white\", \"gridwidth\": 2, \"linecolor\": \"white\", \"showbackground\": true, \"ticks\": \"\", \"zerolinecolor\": \"white\"}, \"zaxis\": {\"backgroundcolor\": \"#E5ECF6\", \"gridcolor\": \"white\", \"gridwidth\": 2, \"linecolor\": \"white\", \"showbackground\": true, \"ticks\": \"\", \"zerolinecolor\": \"white\"}}, \"shapedefaults\": {\"line\": {\"color\": \"#2a3f5f\"}}, \"ternary\": {\"aaxis\": {\"gridcolor\": \"white\", \"linecolor\": \"white\", \"ticks\": \"\"}, \"baxis\": {\"gridcolor\": \"white\", \"linecolor\": \"white\", \"ticks\": \"\"}, \"bgcolor\": \"#E5ECF6\", \"caxis\": {\"gridcolor\": \"white\", \"linecolor\": \"white\", \"ticks\": \"\"}}, \"title\": {\"x\": 0.05}, \"xaxis\": {\"automargin\": true, \"gridcolor\": \"white\", \"linecolor\": \"white\", \"ticks\": \"\", \"title\": {\"standoff\": 15}, \"zerolinecolor\": \"white\", \"zerolinewidth\": 2}, \"yaxis\": {\"automargin\": true, \"gridcolor\": \"white\", \"linecolor\": \"white\", \"ticks\": \"\", \"title\": {\"standoff\": 15}, \"zerolinecolor\": \"white\", \"zerolinewidth\": 2}}}, \"title\": {\"text\": \"Optimization History Plot\"}, \"xaxis\": {\"title\": {\"text\": \"#Trials\"}}, \"yaxis\": {\"title\": {\"text\": \"Objective Value\"}}},\n",
              "                        {\"responsive\": true}\n",
              "                    ).then(function(){\n",
              "                            \n",
              "var gd = document.getElementById('dac253e7-3682-44c4-8419-24843bcf6f6d');\n",
              "var x = new MutationObserver(function (mutations, observer) {{\n",
              "        var display = window.getComputedStyle(gd).display;\n",
              "        if (!display || display === 'none') {{\n",
              "            console.log([gd, 'removed!']);\n",
              "            Plotly.purge(gd);\n",
              "            observer.disconnect();\n",
              "        }}\n",
              "}});\n",
              "\n",
              "// Listen for the removal of the full notebook cells\n",
              "var notebookContainer = gd.closest('#notebook-container');\n",
              "if (notebookContainer) {{\n",
              "    x.observe(notebookContainer, {childList: true});\n",
              "}}\n",
              "\n",
              "// Listen for the clearing of the current output cell\n",
              "var outputEl = gd.closest('.output');\n",
              "if (outputEl) {{\n",
              "    x.observe(outputEl, {childList: true});\n",
              "}}\n",
              "\n",
              "                        })\n",
              "                };\n",
              "                \n",
              "            </script>\n",
              "        </div>\n",
              "</body>\n",
              "</html>"
            ]
          },
          "metadata": {
            "tags": []
          }
        }
      ]
    },
    {
      "cell_type": "code",
      "metadata": {
        "colab": {
          "base_uri": "https://localhost:8080/",
          "height": 562
        },
        "id": "kJWUoKQiIH2X",
        "outputId": "981c0e5a-4434-451e-f1b9-77569205a419"
      },
      "source": [
        "optuna.visualization.plot_slice(study)"
      ],
      "execution_count": null,
      "outputs": [
        {
          "output_type": "display_data",
          "data": {
            "text/html": [
              "<html>\n",
              "<head><meta charset=\"utf-8\" /></head>\n",
              "<body>\n",
              "    <div>\n",
              "            <script src=\"https://cdnjs.cloudflare.com/ajax/libs/mathjax/2.7.5/MathJax.js?config=TeX-AMS-MML_SVG\"></script><script type=\"text/javascript\">if (window.MathJax) {MathJax.Hub.Config({SVG: {font: \"STIX-Web\"}});}</script>\n",
              "                <script type=\"text/javascript\">window.PlotlyConfig = {MathJaxConfig: 'local'};</script>\n",
              "        <script src=\"https://cdn.plot.ly/plotly-latest.min.js\"></script>    \n",
              "            <div id=\"88557c96-e4c0-4ed4-8b1c-50920b0f3bab\" class=\"plotly-graph-div\" style=\"height:525px; width:3300px;\"></div>\n",
              "            <script type=\"text/javascript\">\n",
              "                \n",
              "                    window.PLOTLYENV=window.PLOTLYENV || {};\n",
              "                    \n",
              "                if (document.getElementById(\"88557c96-e4c0-4ed4-8b1c-50920b0f3bab\")) {\n",
              "                    Plotly.newPlot(\n",
              "                        '88557c96-e4c0-4ed4-8b1c-50920b0f3bab',\n",
              "                        [{\"marker\": {\"color\": [0, 1, 2, 3, 4, 5, 6, 7, 8, 9, 10, 11, 12, 13, 14, 15, 16, 17, 18, 19, 20, 21, 22, 23, 24, 25, 26, 27, 28, 29, 30, 31, 32, 33, 34, 35, 36, 37, 38, 39, 40, 41, 42, 43, 44, 45, 46, 47, 48, 49, 50, 51, 52, 53, 54, 55, 56, 57, 58, 59, 60, 61, 62, 63, 64, 65, 66, 67, 68, 69, 70, 71, 72, 73, 74, 75, 76, 77, 78, 79, 80, 81, 82, 83, 84, 85, 86, 87, 88, 89, 90, 91, 92, 93, 94, 95, 96, 97, 98, 99], \"colorbar\": {\"title\": {\"text\": \"#Trials\"}, \"x\": 1.0, \"xpad\": 40}, \"colorscale\": [[0.0, \"rgb(247,251,255)\"], [0.125, \"rgb(222,235,247)\"], [0.25, \"rgb(198,219,239)\"], [0.375, \"rgb(158,202,225)\"], [0.5, \"rgb(107,174,214)\"], [0.625, \"rgb(66,146,198)\"], [0.75, \"rgb(33,113,181)\"], [0.875, \"rgb(8,81,156)\"], [1.0, \"rgb(8,48,107)\"]], \"line\": {\"color\": \"Grey\", \"width\": 0.5}, \"showscale\": true}, \"mode\": \"markers\", \"showlegend\": false, \"type\": \"scatter\", \"x\": [4, 15, 15, 3, 5, 3, 1, 12, 9, 2, 8, 8, 20, 6, 6, 5, 11, 6, 1, 4, 13, 8, 9, 7, 10, 10, 4, 14, 17, 6, 11, 8, 10, 7, 4, 9, 3, 2, 3, 1, 5, 7, 3, 5, 12, 2, 6, 8, 4, 9, 3, 3, 2, 5, 7, 5, 3, 4, 6, 1, 1, 2, 10, 1, 12, 3, 3, 2, 4, 15, 3, 6, 4, 1, 1, 2, 1, 20, 3, 2, 4, 1, 17, 1, 3, 2, 5, 1, 3, 3, 4, 2, 2, 3, 1, 5, 4, 4, 13, 4], \"xaxis\": \"x\", \"y\": [1.0930728477741078, 1.0955685356214455, 1.1005712477990852, 1.0947276050717174, 1.1050866936268615, 1.1064935508863833, 1.1101047647935305, 1.1032285015323893, 1.0968530512095067, 1.1034504848063675, 1.0931887003119531, 1.0973996124682044, 1.1021461658733485, 1.0908766056039574, 1.0989594963590876, 1.1016589244506654, 1.0989474731582702, 1.1148620391662822, 1.1025611944507727, 1.1069990629606703, 1.0960596641949725, 1.1044994063199582, 1.0977050497515188, 1.104185200549606, 1.09099953987274, 1.0949188093509472, 1.1156180888409006, 1.0960881575329515, 1.0949230709773012, 1.0995186051080554, 1.1007996727087441, 1.0978143574423012, 1.1054941215664336, 1.0964755988329116, 1.1150964399081225, 1.0992755537194971, 1.0903456649783263, 1.1050799287467428, 1.1134839980766846, 1.105675036825571, 1.1019874634157347, 1.0968837206856, 1.1005925396235567, 1.1024041064875254, 1.0975781649162613, 1.0964068562429987, 1.0998902051976776, 1.1035097815074335, 1.101901218693159, 1.1002952150298675, 1.088279019087586, 1.1046674185277277, 1.1061549327488045, 1.0976381679815508, 1.0964551324172955, 1.0963611783576697, 1.0969084642334346, 1.1009597871639614, 1.1081830954757723, 1.0920150094767496, 1.0933912448356524, 1.1013844545741363, 1.094934510562066, 1.1047657482831463, 1.098961899956441, 1.091111160133087, 1.1033447631791156, 1.0975363678694214, 1.096455217564803, 1.096784779143783, 1.096154460467905, 1.0990282266269167, 1.0999251363054412, 1.0930926702521788, 1.0892000968035467, 1.100576112928113, 1.0953699336430873, 1.1007241888952806, 1.0966343987965763, 1.1001033522667385, 1.098636132168558, 1.0963771270717302, 1.0979423498468388, 1.0963147617846356, 1.0988126206372415, 1.0978169824796715, 1.099595142485049, 1.097358006426133, 1.0903226907431578, 1.099329944522781, 1.1037814271020392, 1.1006350247795291, 1.0991054965311817, 1.0980691933917548, 1.1012207391744187, 1.0966014435269962, 1.092937359612438, 1.0998443331694872, 1.097967890559086, 1.094605906603208], \"yaxis\": \"y\"}, {\"marker\": {\"color\": [0, 1, 2, 3, 4, 5, 6, 7, 8, 9, 10, 11, 12, 13, 14, 15, 16, 17, 18, 19, 20, 21, 22, 23, 24, 25, 26, 27, 28, 29, 30, 31, 32, 33, 34, 35, 36, 37, 38, 39, 40, 41, 42, 43, 44, 45, 46, 47, 48, 49, 50, 51, 52, 53, 54, 55, 56, 57, 58, 59, 60, 61, 62, 63, 64, 65, 66, 67, 68, 69, 70, 71, 72, 73, 74, 75, 76, 77, 78, 79, 80, 81, 82, 83, 84, 85, 86, 87, 88, 89, 90, 91, 92, 93, 94, 95, 96, 97, 98, 99], \"colorbar\": {\"title\": {\"text\": \"#Trials\"}, \"x\": 1.0, \"xpad\": 40}, \"colorscale\": [[0.0, \"rgb(247,251,255)\"], [0.125, \"rgb(222,235,247)\"], [0.25, \"rgb(198,219,239)\"], [0.375, \"rgb(158,202,225)\"], [0.5, \"rgb(107,174,214)\"], [0.625, \"rgb(66,146,198)\"], [0.75, \"rgb(33,113,181)\"], [0.875, \"rgb(8,81,156)\"], [1.0, \"rgb(8,48,107)\"]], \"line\": {\"color\": \"Grey\", \"width\": 0.5}, \"showscale\": false}, \"mode\": \"markers\", \"showlegend\": false, \"type\": \"scatter\", \"x\": [44, 55, 87, 65, 53, 90, 12, 20, 62, 34, 36, 38, 32, 77, 76, 75, 98, 73, 45, 1, 87, 23, 43, 22, 47, 60, 49, 68, 55, 56, 29, 41, 49, 37, 29, 43, 15, 7, 83, 10, 97, 16, 49, 1, 27, 35, 61, 17, 53, 66, 38, 39, 45, 32, 46, 34, 24, 39, 58, 72, 71, 81, 78, 88, 52, 95, 93, 100, 64, 93, 84, 71, 47, 42, 42, 58, 5, 41, 49, 53, 56, 43, 41, 31, 44, 50, 37, 77, 34, 25, 19, 33, 40, 29, 35, 47, 13, 11, 8, 16], \"xaxis\": \"x2\", \"y\": [1.0930728477741078, 1.0955685356214455, 1.1005712477990852, 1.0947276050717174, 1.1050866936268615, 1.1064935508863833, 1.1101047647935305, 1.1032285015323893, 1.0968530512095067, 1.1034504848063675, 1.0931887003119531, 1.0973996124682044, 1.1021461658733485, 1.0908766056039574, 1.0989594963590876, 1.1016589244506654, 1.0989474731582702, 1.1148620391662822, 1.1025611944507727, 1.1069990629606703, 1.0960596641949725, 1.1044994063199582, 1.0977050497515188, 1.104185200549606, 1.09099953987274, 1.0949188093509472, 1.1156180888409006, 1.0960881575329515, 1.0949230709773012, 1.0995186051080554, 1.1007996727087441, 1.0978143574423012, 1.1054941215664336, 1.0964755988329116, 1.1150964399081225, 1.0992755537194971, 1.0903456649783263, 1.1050799287467428, 1.1134839980766846, 1.105675036825571, 1.1019874634157347, 1.0968837206856, 1.1005925396235567, 1.1024041064875254, 1.0975781649162613, 1.0964068562429987, 1.0998902051976776, 1.1035097815074335, 1.101901218693159, 1.1002952150298675, 1.088279019087586, 1.1046674185277277, 1.1061549327488045, 1.0976381679815508, 1.0964551324172955, 1.0963611783576697, 1.0969084642334346, 1.1009597871639614, 1.1081830954757723, 1.0920150094767496, 1.0933912448356524, 1.1013844545741363, 1.094934510562066, 1.1047657482831463, 1.098961899956441, 1.091111160133087, 1.1033447631791156, 1.0975363678694214, 1.096455217564803, 1.096784779143783, 1.096154460467905, 1.0990282266269167, 1.0999251363054412, 1.0930926702521788, 1.0892000968035467, 1.100576112928113, 1.0953699336430873, 1.1007241888952806, 1.0966343987965763, 1.1001033522667385, 1.098636132168558, 1.0963771270717302, 1.0979423498468388, 1.0963147617846356, 1.0988126206372415, 1.0978169824796715, 1.099595142485049, 1.097358006426133, 1.0903226907431578, 1.099329944522781, 1.1037814271020392, 1.1006350247795291, 1.0991054965311817, 1.0980691933917548, 1.1012207391744187, 1.0966014435269962, 1.092937359612438, 1.0998443331694872, 1.097967890559086, 1.094605906603208], \"yaxis\": \"y2\"}, {\"marker\": {\"color\": [0, 1, 2, 3, 4, 5, 6, 7, 8, 9, 10, 11, 12, 13, 14, 15, 16, 17, 18, 19, 20, 21, 22, 23, 24, 25, 26, 27, 28, 29, 30, 31, 32, 33, 34, 35, 36, 37, 38, 39, 40, 41, 42, 43, 44, 45, 46, 47, 48, 49, 50, 51, 52, 53, 54, 55, 56, 57, 58, 59, 60, 61, 62, 63, 64, 65, 66, 67, 68, 69, 70, 71, 72, 73, 74, 75, 76, 77, 78, 79, 80, 81, 82, 83, 84, 85, 86, 87, 88, 89, 90, 91, 92, 93, 94, 95, 96, 97, 98, 99], \"colorbar\": {\"title\": {\"text\": \"#Trials\"}, \"x\": 1.0, \"xpad\": 40}, \"colorscale\": [[0.0, \"rgb(247,251,255)\"], [0.125, \"rgb(222,235,247)\"], [0.25, \"rgb(198,219,239)\"], [0.375, \"rgb(158,202,225)\"], [0.5, \"rgb(107,174,214)\"], [0.625, \"rgb(66,146,198)\"], [0.75, \"rgb(33,113,181)\"], [0.875, \"rgb(8,81,156)\"], [1.0, \"rgb(8,48,107)\"]], \"line\": {\"color\": \"Grey\", \"width\": 0.5}, \"showscale\": false}, \"mode\": \"markers\", \"showlegend\": false, \"type\": \"scatter\", \"x\": [0.5, 0.8, 0.6, 0.7, 1.0, 0.8, 1.0, 0.3, 0.5, 0.4, 0.5, 0.5, 0.9, 0.5, 0.5, 0.5, 0.4, 0.6, 0.3, 0.7, 0.9, 0.5, 0.5, 0.5, 0.5, 0.5, 0.5, 0.5, 0.6, 0.8, 0.5, 0.5, 0.5, 0.5, 0.7, 1.0, 0.5, 0.8, 0.3, 0.4, 1.0, 0.5, 0.5, 0.5, 0.9, 0.5, 0.5, 0.6, 0.5, 0.3, 0.7, 0.7, 0.7, 0.7, 0.7, 0.4, 0.5, 0.5, 0.9, 0.8, 0.8, 0.8, 0.8, 0.8, 0.5, 0.5, 0.5, 1.0, 0.7, 0.6, 0.5, 0.5, 0.5, 0.5, 0.5, 0.5, 0.5, 0.8, 0.3, 0.5, 0.4, 0.5, 0.5, 0.5, 0.5, 0.5, 0.5, 0.7, 0.9, 0.9, 0.9, 0.9, 0.9, 0.5, 1.0, 0.5, 0.8, 0.8, 0.8, 0.8], \"xaxis\": \"x3\", \"y\": [1.0930728477741078, 1.0955685356214455, 1.1005712477990852, 1.0947276050717174, 1.1050866936268615, 1.1064935508863833, 1.1101047647935305, 1.1032285015323893, 1.0968530512095067, 1.1034504848063675, 1.0931887003119531, 1.0973996124682044, 1.1021461658733485, 1.0908766056039574, 1.0989594963590876, 1.1016589244506654, 1.0989474731582702, 1.1148620391662822, 1.1025611944507727, 1.1069990629606703, 1.0960596641949725, 1.1044994063199582, 1.0977050497515188, 1.104185200549606, 1.09099953987274, 1.0949188093509472, 1.1156180888409006, 1.0960881575329515, 1.0949230709773012, 1.0995186051080554, 1.1007996727087441, 1.0978143574423012, 1.1054941215664336, 1.0964755988329116, 1.1150964399081225, 1.0992755537194971, 1.0903456649783263, 1.1050799287467428, 1.1134839980766846, 1.105675036825571, 1.1019874634157347, 1.0968837206856, 1.1005925396235567, 1.1024041064875254, 1.0975781649162613, 1.0964068562429987, 1.0998902051976776, 1.1035097815074335, 1.101901218693159, 1.1002952150298675, 1.088279019087586, 1.1046674185277277, 1.1061549327488045, 1.0976381679815508, 1.0964551324172955, 1.0963611783576697, 1.0969084642334346, 1.1009597871639614, 1.1081830954757723, 1.0920150094767496, 1.0933912448356524, 1.1013844545741363, 1.094934510562066, 1.1047657482831463, 1.098961899956441, 1.091111160133087, 1.1033447631791156, 1.0975363678694214, 1.096455217564803, 1.096784779143783, 1.096154460467905, 1.0990282266269167, 1.0999251363054412, 1.0930926702521788, 1.0892000968035467, 1.100576112928113, 1.0953699336430873, 1.1007241888952806, 1.0966343987965763, 1.1001033522667385, 1.098636132168558, 1.0963771270717302, 1.0979423498468388, 1.0963147617846356, 1.0988126206372415, 1.0978169824796715, 1.099595142485049, 1.097358006426133, 1.0903226907431578, 1.099329944522781, 1.1037814271020392, 1.1006350247795291, 1.0991054965311817, 1.0980691933917548, 1.1012207391744187, 1.0966014435269962, 1.092937359612438, 1.0998443331694872, 1.097967890559086, 1.094605906603208], \"yaxis\": \"y3\"}, {\"marker\": {\"color\": [0, 1, 2, 3, 4, 5, 6, 7, 8, 9, 10, 11, 12, 13, 14, 15, 16, 17, 18, 19, 20, 21, 22, 23, 24, 25, 26, 27, 28, 29, 30, 31, 32, 33, 34, 35, 36, 37, 38, 39, 40, 41, 42, 43, 44, 45, 46, 47, 48, 49, 50, 51, 52, 53, 54, 55, 56, 57, 58, 59, 60, 61, 62, 63, 64, 65, 66, 67, 68, 69, 70, 71, 72, 73, 74, 75, 76, 77, 78, 79, 80, 81, 82, 83, 84, 85, 86, 87, 88, 89, 90, 91, 92, 93, 94, 95, 96, 97, 98, 99], \"colorbar\": {\"title\": {\"text\": \"#Trials\"}, \"x\": 1.0, \"xpad\": 40}, \"colorscale\": [[0.0, \"rgb(247,251,255)\"], [0.125, \"rgb(222,235,247)\"], [0.25, \"rgb(198,219,239)\"], [0.375, \"rgb(158,202,225)\"], [0.5, \"rgb(107,174,214)\"], [0.625, \"rgb(66,146,198)\"], [0.75, \"rgb(33,113,181)\"], [0.875, \"rgb(8,81,156)\"], [1.0, \"rgb(8,48,107)\"]], \"line\": {\"color\": \"Grey\", \"width\": 0.5}, \"showscale\": false}, \"mode\": \"markers\", \"showlegend\": false, \"type\": \"scatter\", \"x\": [0.034182391469566045, 0.05302797282829857, 0.015091349253031072, 0.05293788834639292, 0.06889366811394837, 0.06973840008398186, 0.06086672463013248, 0.07092864084355008, 0.07046581133547022, 0.015447343223005994, 0.09787860988738747, 0.03250266928954279, 0.03656558621655266, 0.0910725816623649, 0.09584791341017727, 0.03384438045747896, 0.085988055123711, 0.0008916103734858127, 0.020300033080566285, 0.04089521898190581, 0.0850220760635108, 0.09940577091469038, 0.08901246007144012, 0.023745464557144796, 0.04549759346465972, 0.04542068710180265, 0.004864648676082769, 0.027082878351016686, 0.05918764208454551, 0.04566854760722555, 0.05863007603398718, 0.07847869287865422, 0.09333329736099558, 0.051553087228431244, 0.04166952995542061, 0.07776243211637346, 0.029075093110584444, 0.028662051556542365, 0.009890119827909608, 0.038336143478055376, 0.018364639784084744, 0.046454980496726896, 0.03188096337645136, 0.06439661926061047, 0.09989779389035382, 0.052547452042333936, 0.0250909442542025, 0.03123795488860441, 0.03684758383881503, 0.04795222241118591, 0.04164055940276916, 0.04149674034059467, 0.036053623580867875, 0.02942926572539167, 0.056132085448365815, 0.0419682436930581, 0.02295115898188417, 0.06470429724554969, 0.012496028991955621, 0.09315990657458999, 0.09265541045531178, 0.09587820976322904, 0.08413477576413991, 0.08977795436512288, 0.08085156293041287, 0.03426137609984985, 0.03422452945433475, 0.03800310648679842, 0.04406033203084147, 0.0491540224969649, 0.026531024776119502, 0.09663630997895269, 0.021127315880510592, 0.032776196444777604, 0.040124070288139795, 0.039310699298463966, 0.035689379863211246, 0.055544878674770384, 0.04332448060080492, 0.029727145028382175, 0.05068795058980355, 0.033351384789002264, 0.038669278563925914, 0.03208998487154414, 0.04011942446055791, 0.046404912453054954, 0.026973849892804286, 0.017417722121811342, 0.03485308765669396, 0.0350211796080422, 0.04386130729095512, 0.0303276484685861, 0.024100539917130855, 0.037010743374917984, 0.047941005056071365, 0.03362113493919659, 0.04251684224407627, 0.04042677664815464, 0.042983706612790516, 0.04565651204537804], \"xaxis\": \"x4\", \"y\": [1.0930728477741078, 1.0955685356214455, 1.1005712477990852, 1.0947276050717174, 1.1050866936268615, 1.1064935508863833, 1.1101047647935305, 1.1032285015323893, 1.0968530512095067, 1.1034504848063675, 1.0931887003119531, 1.0973996124682044, 1.1021461658733485, 1.0908766056039574, 1.0989594963590876, 1.1016589244506654, 1.0989474731582702, 1.1148620391662822, 1.1025611944507727, 1.1069990629606703, 1.0960596641949725, 1.1044994063199582, 1.0977050497515188, 1.104185200549606, 1.09099953987274, 1.0949188093509472, 1.1156180888409006, 1.0960881575329515, 1.0949230709773012, 1.0995186051080554, 1.1007996727087441, 1.0978143574423012, 1.1054941215664336, 1.0964755988329116, 1.1150964399081225, 1.0992755537194971, 1.0903456649783263, 1.1050799287467428, 1.1134839980766846, 1.105675036825571, 1.1019874634157347, 1.0968837206856, 1.1005925396235567, 1.1024041064875254, 1.0975781649162613, 1.0964068562429987, 1.0998902051976776, 1.1035097815074335, 1.101901218693159, 1.1002952150298675, 1.088279019087586, 1.1046674185277277, 1.1061549327488045, 1.0976381679815508, 1.0964551324172955, 1.0963611783576697, 1.0969084642334346, 1.1009597871639614, 1.1081830954757723, 1.0920150094767496, 1.0933912448356524, 1.1013844545741363, 1.094934510562066, 1.1047657482831463, 1.098961899956441, 1.091111160133087, 1.1033447631791156, 1.0975363678694214, 1.096455217564803, 1.096784779143783, 1.096154460467905, 1.0990282266269167, 1.0999251363054412, 1.0930926702521788, 1.0892000968035467, 1.100576112928113, 1.0953699336430873, 1.1007241888952806, 1.0966343987965763, 1.1001033522667385, 1.098636132168558, 1.0963771270717302, 1.0979423498468388, 1.0963147617846356, 1.0988126206372415, 1.0978169824796715, 1.099595142485049, 1.097358006426133, 1.0903226907431578, 1.099329944522781, 1.1037814271020392, 1.1006350247795291, 1.0991054965311817, 1.0980691933917548, 1.1012207391744187, 1.0966014435269962, 1.092937359612438, 1.0998443331694872, 1.097967890559086, 1.094605906603208], \"yaxis\": \"y4\"}, {\"marker\": {\"color\": [0, 1, 2, 3, 4, 5, 6, 7, 8, 9, 10, 11, 12, 13, 14, 15, 16, 17, 18, 19, 20, 21, 22, 23, 24, 25, 26, 27, 28, 29, 30, 31, 32, 33, 34, 35, 36, 37, 38, 39, 40, 41, 42, 43, 44, 45, 46, 47, 48, 49, 50, 51, 52, 53, 54, 55, 56, 57, 58, 59, 60, 61, 62, 63, 64, 65, 66, 67, 68, 69, 70, 71, 72, 73, 74, 75, 76, 77, 78, 79, 80, 81, 82, 83, 84, 85, 86, 87, 88, 89, 90, 91, 92, 93, 94, 95, 96, 97, 98, 99], \"colorbar\": {\"title\": {\"text\": \"#Trials\"}, \"x\": 1.0, \"xpad\": 40}, \"colorscale\": [[0.0, \"rgb(247,251,255)\"], [0.125, \"rgb(222,235,247)\"], [0.25, \"rgb(198,219,239)\"], [0.375, \"rgb(158,202,225)\"], [0.5, \"rgb(107,174,214)\"], [0.625, \"rgb(66,146,198)\"], [0.75, \"rgb(33,113,181)\"], [0.875, \"rgb(8,81,156)\"], [1.0, \"rgb(8,48,107)\"]], \"line\": {\"color\": \"Grey\", \"width\": 0.5}, \"showscale\": false}, \"mode\": \"markers\", \"showlegend\": false, \"type\": \"scatter\", \"x\": [29, 30, 78, 55, 95, 97, 1, 3, 27, 46, 17, 18, 45, 13, 13, 31, 61, 6, 42, 67, 36, 17, 21, 8, 23, 26, 39, 35, 11, 29, 24, 15, 22, 9, 1, 32, 18, 48, 21, 3, 82, 14, 18, 26, 11, 55, 33, 5, 20, 41, 29, 27, 16, 30, 37, 23, 14, 18, 8, 44, 53, 27, 43, 35, 24, 62, 70, 66, 59, 50, 74, 11, 19, 60, 62, 83, 63, 45, 55, 69, 65, 59, 62, 58, 76, 52, 57, 39, 47, 48, 29, 33, 71, 48, 63, 54, 51, 42, 51, 39], \"xaxis\": \"x5\", \"y\": [1.0930728477741078, 1.0955685356214455, 1.1005712477990852, 1.0947276050717174, 1.1050866936268615, 1.1064935508863833, 1.1101047647935305, 1.1032285015323893, 1.0968530512095067, 1.1034504848063675, 1.0931887003119531, 1.0973996124682044, 1.1021461658733485, 1.0908766056039574, 1.0989594963590876, 1.1016589244506654, 1.0989474731582702, 1.1148620391662822, 1.1025611944507727, 1.1069990629606703, 1.0960596641949725, 1.1044994063199582, 1.0977050497515188, 1.104185200549606, 1.09099953987274, 1.0949188093509472, 1.1156180888409006, 1.0960881575329515, 1.0949230709773012, 1.0995186051080554, 1.1007996727087441, 1.0978143574423012, 1.1054941215664336, 1.0964755988329116, 1.1150964399081225, 1.0992755537194971, 1.0903456649783263, 1.1050799287467428, 1.1134839980766846, 1.105675036825571, 1.1019874634157347, 1.0968837206856, 1.1005925396235567, 1.1024041064875254, 1.0975781649162613, 1.0964068562429987, 1.0998902051976776, 1.1035097815074335, 1.101901218693159, 1.1002952150298675, 1.088279019087586, 1.1046674185277277, 1.1061549327488045, 1.0976381679815508, 1.0964551324172955, 1.0963611783576697, 1.0969084642334346, 1.1009597871639614, 1.1081830954757723, 1.0920150094767496, 1.0933912448356524, 1.1013844545741363, 1.094934510562066, 1.1047657482831463, 1.098961899956441, 1.091111160133087, 1.1033447631791156, 1.0975363678694214, 1.096455217564803, 1.096784779143783, 1.096154460467905, 1.0990282266269167, 1.0999251363054412, 1.0930926702521788, 1.0892000968035467, 1.100576112928113, 1.0953699336430873, 1.1007241888952806, 1.0966343987965763, 1.1001033522667385, 1.098636132168558, 1.0963771270717302, 1.0979423498468388, 1.0963147617846356, 1.0988126206372415, 1.0978169824796715, 1.099595142485049, 1.097358006426133, 1.0903226907431578, 1.099329944522781, 1.1037814271020392, 1.1006350247795291, 1.0991054965311817, 1.0980691933917548, 1.1012207391744187, 1.0966014435269962, 1.092937359612438, 1.0998443331694872, 1.097967890559086, 1.094605906603208], \"yaxis\": \"y5\"}, {\"marker\": {\"color\": [0, 1, 2, 3, 4, 5, 6, 7, 8, 9, 10, 11, 12, 13, 14, 15, 16, 17, 18, 19, 20, 21, 22, 23, 24, 25, 26, 27, 28, 29, 30, 31, 32, 33, 34, 35, 36, 37, 38, 39, 40, 41, 42, 43, 44, 45, 46, 47, 48, 49, 50, 51, 52, 53, 54, 55, 56, 57, 58, 59, 60, 61, 62, 63, 64, 65, 66, 67, 68, 69, 70, 71, 72, 73, 74, 75, 76, 77, 78, 79, 80, 81, 82, 83, 84, 85, 86, 87, 88, 89, 90, 91, 92, 93, 94, 95, 96, 97, 98, 99], \"colorbar\": {\"title\": {\"text\": \"#Trials\"}, \"x\": 1.0, \"xpad\": 40}, \"colorscale\": [[0.0, \"rgb(247,251,255)\"], [0.125, \"rgb(222,235,247)\"], [0.25, \"rgb(198,219,239)\"], [0.375, \"rgb(158,202,225)\"], [0.5, \"rgb(107,174,214)\"], [0.625, \"rgb(66,146,198)\"], [0.75, \"rgb(33,113,181)\"], [0.875, \"rgb(8,81,156)\"], [1.0, \"rgb(8,48,107)\"]], \"line\": {\"color\": \"Grey\", \"width\": 0.5}, \"showscale\": false}, \"mode\": \"markers\", \"showlegend\": false, \"type\": \"scatter\", \"x\": [162, 55, 288, 220, 234, 18, 69, 263, 32, 36, 145, 143, 118, 171, 194, 189, 97, 178, 103, 169, 219, 148, 130, 160, 202, 253, 200, 204, 240, 291, 78, 169, 132, 180, 149, 224, 121, 112, 215, 82, 128, 159, 139, 162, 118, 186, 100, 201, 56, 175, 150, 151, 124, 137, 157, 188, 168, 109, 89, 212, 262, 207, 192, 143, 232, 177, 211, 178, 227, 246, 194, 154, 178, 167, 166, 183, 197, 170, 279, 136, 219, 166, 150, 160, 203, 174, 123, 185, 146, 144, 131, 164, 154, 117, 172, 145, 190, 187, 214, 198], \"xaxis\": \"x6\", \"y\": [1.0930728477741078, 1.0955685356214455, 1.1005712477990852, 1.0947276050717174, 1.1050866936268615, 1.1064935508863833, 1.1101047647935305, 1.1032285015323893, 1.0968530512095067, 1.1034504848063675, 1.0931887003119531, 1.0973996124682044, 1.1021461658733485, 1.0908766056039574, 1.0989594963590876, 1.1016589244506654, 1.0989474731582702, 1.1148620391662822, 1.1025611944507727, 1.1069990629606703, 1.0960596641949725, 1.1044994063199582, 1.0977050497515188, 1.104185200549606, 1.09099953987274, 1.0949188093509472, 1.1156180888409006, 1.0960881575329515, 1.0949230709773012, 1.0995186051080554, 1.1007996727087441, 1.0978143574423012, 1.1054941215664336, 1.0964755988329116, 1.1150964399081225, 1.0992755537194971, 1.0903456649783263, 1.1050799287467428, 1.1134839980766846, 1.105675036825571, 1.1019874634157347, 1.0968837206856, 1.1005925396235567, 1.1024041064875254, 1.0975781649162613, 1.0964068562429987, 1.0998902051976776, 1.1035097815074335, 1.101901218693159, 1.1002952150298675, 1.088279019087586, 1.1046674185277277, 1.1061549327488045, 1.0976381679815508, 1.0964551324172955, 1.0963611783576697, 1.0969084642334346, 1.1009597871639614, 1.1081830954757723, 1.0920150094767496, 1.0933912448356524, 1.1013844545741363, 1.094934510562066, 1.1047657482831463, 1.098961899956441, 1.091111160133087, 1.1033447631791156, 1.0975363678694214, 1.096455217564803, 1.096784779143783, 1.096154460467905, 1.0990282266269167, 1.0999251363054412, 1.0930926702521788, 1.0892000968035467, 1.100576112928113, 1.0953699336430873, 1.1007241888952806, 1.0966343987965763, 1.1001033522667385, 1.098636132168558, 1.0963771270717302, 1.0979423498468388, 1.0963147617846356, 1.0988126206372415, 1.0978169824796715, 1.099595142485049, 1.097358006426133, 1.0903226907431578, 1.099329944522781, 1.1037814271020392, 1.1006350247795291, 1.0991054965311817, 1.0980691933917548, 1.1012207391744187, 1.0966014435269962, 1.092937359612438, 1.0998443331694872, 1.097967890559086, 1.094605906603208], \"yaxis\": \"y6\"}, {\"marker\": {\"color\": [0, 1, 2, 3, 4, 5, 6, 7, 8, 9, 10, 11, 12, 13, 14, 15, 16, 17, 18, 19, 20, 21, 22, 23, 24, 25, 26, 27, 28, 29, 30, 31, 32, 33, 34, 35, 36, 37, 38, 39, 40, 41, 42, 43, 44, 45, 46, 47, 48, 49, 50, 51, 52, 53, 54, 55, 56, 57, 58, 59, 60, 61, 62, 63, 64, 65, 66, 67, 68, 69, 70, 71, 72, 73, 74, 75, 76, 77, 78, 79, 80, 81, 82, 83, 84, 85, 86, 87, 88, 89, 90, 91, 92, 93, 94, 95, 96, 97, 98, 99], \"colorbar\": {\"title\": {\"text\": \"#Trials\"}, \"x\": 1.0, \"xpad\": 40}, \"colorscale\": [[0.0, \"rgb(247,251,255)\"], [0.125, \"rgb(222,235,247)\"], [0.25, \"rgb(198,219,239)\"], [0.375, \"rgb(158,202,225)\"], [0.5, \"rgb(107,174,214)\"], [0.625, \"rgb(66,146,198)\"], [0.75, \"rgb(33,113,181)\"], [0.875, \"rgb(8,81,156)\"], [1.0, \"rgb(8,48,107)\"]], \"line\": {\"color\": \"Grey\", \"width\": 0.5}, \"showscale\": false}, \"mode\": \"markers\", \"showlegend\": false, \"type\": \"scatter\", \"x\": [0.00011634068652074863, 0.0002587880463853362, 0.10351586001387278, 0.03888810784315362, 0.0004041285330566758, 0.012243807186647318, 5.3697388465258046e-05, 0.022177315592072904, 0.00011170963896952472, 0.0265473590105504, 1.0715233166632674e-05, 1.5108831954372247e-05, 1.0407814441074308e-05, 0.0012008914115114993, 0.0013724375088851601, 0.8969856229806891, 0.0025144751638574723, 0.0007748642059432129, 5.457472392091434e-05, 0.005284848438692423, 0.00020059207598366666, 2.3762788566970454e-05, 4.833081483435855e-05, 0.0007053745623714637, 0.00011777455186652023, 0.00012953138285559069, 0.003635657336118054, 0.0005682913797472484, 0.001404445097823495, 0.00024296817964441302, 8.799252556571772e-05, 3.0279547298047315e-05, 1.0456644485542795e-05, 0.0002241659375435918, 2.1355421133286346e-05, 0.16795568558331, 0.0003298064325145202, 0.0013642265495844115, 0.000364947025870703, 0.006278063704742522, 0.00013732614175927815, 7.335958667104189e-05, 0.0003452768173475644, 3.404345251150127e-05, 0.0005512661105757818, 0.0021670663838240178, 0.000994324332130367, 0.00013785202431533048, 1.3390073418094704e-05, 0.011359818892871089, 0.0003566489059353313, 0.00048617223208970416, 0.0003001015122387385, 0.00019727763283969773, 6.973361945110408e-05, 0.0008814503705839244, 4.19899661350743e-05, 0.0025338931715474804, 0.00016537845104589555, 0.0016344838262468916, 0.0016187058706464358, 0.0045427366587558705, 0.001013398050568569, 0.0004248450433492117, 0.0001022842267516066, 0.000614896660963236, 0.0007297516497555454, 0.0002642701878525467, 0.0016447354877530442, 0.0070308472409642345, 0.0005132054830782512, 0.00364921948607638, 0.0007091597983178582, 0.0020236614385373687, 0.0011507570310181163, 0.0012999221972199368, 0.00032082011596076885, 0.00017320887247717983, 0.0011540035980958324, 0.0006274266031719462, 0.002760494853343263, 0.0003982250592457567, 0.0017908042375963664, 0.0020823578232041576, 0.003381004309419244, 0.0008452794034127547, 7.204393578192381e-05, 0.00011511768056818703, 0.00024509936934904525, 0.0002076886057935766, 0.0002530830006584904, 0.0004371691592387172, 0.0011738044818746698, 0.00013674062018862937, 9.495067776840248e-05, 5.323800344235899e-05, 0.0005971286093381831, 0.0006068724062083184, 0.00033639916015951063, 0.0009042688882242668], \"xaxis\": \"x7\", \"y\": [1.0930728477741078, 1.0955685356214455, 1.1005712477990852, 1.0947276050717174, 1.1050866936268615, 1.1064935508863833, 1.1101047647935305, 1.1032285015323893, 1.0968530512095067, 1.1034504848063675, 1.0931887003119531, 1.0973996124682044, 1.1021461658733485, 1.0908766056039574, 1.0989594963590876, 1.1016589244506654, 1.0989474731582702, 1.1148620391662822, 1.1025611944507727, 1.1069990629606703, 1.0960596641949725, 1.1044994063199582, 1.0977050497515188, 1.104185200549606, 1.09099953987274, 1.0949188093509472, 1.1156180888409006, 1.0960881575329515, 1.0949230709773012, 1.0995186051080554, 1.1007996727087441, 1.0978143574423012, 1.1054941215664336, 1.0964755988329116, 1.1150964399081225, 1.0992755537194971, 1.0903456649783263, 1.1050799287467428, 1.1134839980766846, 1.105675036825571, 1.1019874634157347, 1.0968837206856, 1.1005925396235567, 1.1024041064875254, 1.0975781649162613, 1.0964068562429987, 1.0998902051976776, 1.1035097815074335, 1.101901218693159, 1.1002952150298675, 1.088279019087586, 1.1046674185277277, 1.1061549327488045, 1.0976381679815508, 1.0964551324172955, 1.0963611783576697, 1.0969084642334346, 1.1009597871639614, 1.1081830954757723, 1.0920150094767496, 1.0933912448356524, 1.1013844545741363, 1.094934510562066, 1.1047657482831463, 1.098961899956441, 1.091111160133087, 1.1033447631791156, 1.0975363678694214, 1.096455217564803, 1.096784779143783, 1.096154460467905, 1.0990282266269167, 1.0999251363054412, 1.0930926702521788, 1.0892000968035467, 1.100576112928113, 1.0953699336430873, 1.1007241888952806, 1.0966343987965763, 1.1001033522667385, 1.098636132168558, 1.0963771270717302, 1.0979423498468388, 1.0963147617846356, 1.0988126206372415, 1.0978169824796715, 1.099595142485049, 1.097358006426133, 1.0903226907431578, 1.099329944522781, 1.1037814271020392, 1.1006350247795291, 1.0991054965311817, 1.0980691933917548, 1.1012207391744187, 1.0966014435269962, 1.092937359612438, 1.0998443331694872, 1.097967890559086, 1.094605906603208], \"yaxis\": \"y7\"}, {\"marker\": {\"color\": [0, 1, 2, 3, 4, 5, 6, 7, 8, 9, 10, 11, 12, 13, 14, 15, 16, 17, 18, 19, 20, 21, 22, 23, 24, 25, 26, 27, 28, 29, 30, 31, 32, 33, 34, 35, 36, 37, 38, 39, 40, 41, 42, 43, 44, 45, 46, 47, 48, 49, 50, 51, 52, 53, 54, 55, 56, 57, 58, 59, 60, 61, 62, 63, 64, 65, 66, 67, 68, 69, 70, 71, 72, 73, 74, 75, 76, 77, 78, 79, 80, 81, 82, 83, 84, 85, 86, 87, 88, 89, 90, 91, 92, 93, 94, 95, 96, 97, 98, 99], \"colorbar\": {\"title\": {\"text\": \"#Trials\"}, \"x\": 1.0, \"xpad\": 40}, \"colorscale\": [[0.0, \"rgb(247,251,255)\"], [0.125, \"rgb(222,235,247)\"], [0.25, \"rgb(198,219,239)\"], [0.375, \"rgb(158,202,225)\"], [0.5, \"rgb(107,174,214)\"], [0.625, \"rgb(66,146,198)\"], [0.75, \"rgb(33,113,181)\"], [0.875, \"rgb(8,81,156)\"], [1.0, \"rgb(8,48,107)\"]], \"line\": {\"color\": \"Grey\", \"width\": 0.5}, \"showscale\": false}, \"mode\": \"markers\", \"showlegend\": false, \"type\": \"scatter\", \"x\": [229, 114, 459, 27, 491, 519, 231, 332, 198, 423, 827, 855, 928, 678, 696, 642, 702, 604, 290, 6, 354, 807, 994, 797, 589, 584, 735, 578, 525, 120, 397, 869, 738, 664, 993, 772, 465, 80, 496, 449, 246, 564, 640, 883, 929, 171, 670, 370, 531, 437, 622, 611, 474, 722, 824, 547, 616, 320, 768, 693, 691, 647, 757, 701, 619, 832, 905, 578, 500, 846, 802, 968, 679, 838, 718, 719, 641, 592, 747, 549, 74, 822, 782, 848, 714, 651, 678, 232, 874, 933, 878, 960, 902, 742, 784, 624, 161, 278, 182, 133], \"xaxis\": \"x8\", \"y\": [1.0930728477741078, 1.0955685356214455, 1.1005712477990852, 1.0947276050717174, 1.1050866936268615, 1.1064935508863833, 1.1101047647935305, 1.1032285015323893, 1.0968530512095067, 1.1034504848063675, 1.0931887003119531, 1.0973996124682044, 1.1021461658733485, 1.0908766056039574, 1.0989594963590876, 1.1016589244506654, 1.0989474731582702, 1.1148620391662822, 1.1025611944507727, 1.1069990629606703, 1.0960596641949725, 1.1044994063199582, 1.0977050497515188, 1.104185200549606, 1.09099953987274, 1.0949188093509472, 1.1156180888409006, 1.0960881575329515, 1.0949230709773012, 1.0995186051080554, 1.1007996727087441, 1.0978143574423012, 1.1054941215664336, 1.0964755988329116, 1.1150964399081225, 1.0992755537194971, 1.0903456649783263, 1.1050799287467428, 1.1134839980766846, 1.105675036825571, 1.1019874634157347, 1.0968837206856, 1.1005925396235567, 1.1024041064875254, 1.0975781649162613, 1.0964068562429987, 1.0998902051976776, 1.1035097815074335, 1.101901218693159, 1.1002952150298675, 1.088279019087586, 1.1046674185277277, 1.1061549327488045, 1.0976381679815508, 1.0964551324172955, 1.0963611783576697, 1.0969084642334346, 1.1009597871639614, 1.1081830954757723, 1.0920150094767496, 1.0933912448356524, 1.1013844545741363, 1.094934510562066, 1.1047657482831463, 1.098961899956441, 1.091111160133087, 1.1033447631791156, 1.0975363678694214, 1.096455217564803, 1.096784779143783, 1.096154460467905, 1.0990282266269167, 1.0999251363054412, 1.0930926702521788, 1.0892000968035467, 1.100576112928113, 1.0953699336430873, 1.1007241888952806, 1.0966343987965763, 1.1001033522667385, 1.098636132168558, 1.0963771270717302, 1.0979423498468388, 1.0963147617846356, 1.0988126206372415, 1.0978169824796715, 1.099595142485049, 1.097358006426133, 1.0903226907431578, 1.099329944522781, 1.1037814271020392, 1.1006350247795291, 1.0991054965311817, 1.0980691933917548, 1.1012207391744187, 1.0966014435269962, 1.092937359612438, 1.0998443331694872, 1.097967890559086, 1.094605906603208], \"yaxis\": \"y8\"}, {\"marker\": {\"color\": [0, 1, 2, 3, 4, 5, 6, 7, 8, 9, 10, 11, 12, 13, 14, 15, 16, 17, 18, 19, 20, 21, 22, 23, 24, 25, 26, 27, 28, 29, 30, 31, 32, 33, 34, 35, 36, 37, 38, 39, 40, 41, 42, 43, 44, 45, 46, 47, 48, 49, 50, 51, 52, 53, 54, 55, 56, 57, 58, 59, 60, 61, 62, 63, 64, 65, 66, 67, 68, 69, 70, 71, 72, 73, 74, 75, 76, 77, 78, 79, 80, 81, 82, 83, 84, 85, 86, 87, 88, 89, 90, 91, 92, 93, 94, 95, 96, 97, 98, 99], \"colorbar\": {\"title\": {\"text\": \"#Trials\"}, \"x\": 1.0, \"xpad\": 40}, \"colorscale\": [[0.0, \"rgb(247,251,255)\"], [0.125, \"rgb(222,235,247)\"], [0.25, \"rgb(198,219,239)\"], [0.375, \"rgb(158,202,225)\"], [0.5, \"rgb(107,174,214)\"], [0.625, \"rgb(66,146,198)\"], [0.75, \"rgb(33,113,181)\"], [0.875, \"rgb(8,81,156)\"], [1.0, \"rgb(8,48,107)\"]], \"line\": {\"color\": \"Grey\", \"width\": 0.5}, \"showscale\": false}, \"mode\": \"markers\", \"showlegend\": false, \"type\": \"scatter\", \"x\": [0.0018382181760043421, 1.6323695248442425, 0.09703434541202088, 2.1071655797497653, 0.00021243381990744743, 0.0005345386323427009, 0.022479286823623736, 0.27952205424430115, 2.2157156336654815e-05, 6.50612485612051, 0.0022447255333835144, 0.001506041736045482, 0.002471476184177303, 2.2009081099059318e-05, 1.0334330367217357e-05, 5.32651843342831e-05, 0.00010617142893146885, 0.01392314927875406, 1.0960638843809606e-05, 0.009364617255036163, 0.000499195079470326, 0.006196853440535386, 0.04962657290765173, 0.001426804320493504, 5.1696577740156105e-05, 4.134985996382763e-05, 0.00021412341227715278, 1.0029005318994509e-05, 7.826090476372986e-05, 0.00035331777757037876, 1.8619934475271715e-05, 0.003994278150102134, 0.0007646583161819077, 0.20411363358707035, 0.0330263832332424, 0.0001579911706972085, 0.0008845019617946607, 3.3981336686061327e-05, 0.0008469156095372393, 0.00032464364495111075, 0.00010936362478530482, 0.0033899994340125146, 0.0016771189779439483, 0.007431204259127635, 0.000762942896301563, 0.00023218859982848076, 2.249107635416463e-05, 0.02030269946446779, 0.0022685943671948137, 0.07777100424697979, 0.9557349372478526, 10.84104749340899, 0.33265954959628263, 3.8301639449869667, 0.8937055645242837, 0.005087185795566841, 7.163743266388808e-05, 0.0009993762696474968, 0.011101201030516506, 20.239525854393616, 25.450473705272625, 0.9976446453693755, 13.188561988406091, 0.0004935478966018859, 2.6359478261455944, 0.002484465755322094, 26.09298258543287, 1.8272703213615228e-05, 0.03814477830687743, 0.0031831627120017057, 0.0014350124721200332, 0.002193215447876107, 0.005218565385259455, 0.016937075692440007, 0.017112387733506474, 0.2873690221976698, 0.009128741257016737, 0.14052222198328962, 0.027776754742999385, 0.00012587635260014496, 0.07380008736975927, 0.0232024514813636, 0.01779924606262696, 0.04901850024652215, 0.01256872923663908, 1.358226248422295e-05, 5.4285642233343735e-05, 0.007531317401790098, 3.483988630554395e-05, 3.2580421522962195e-05, 0.00038003431665927775, 2.7940236134534378e-05, 0.4811132230565324, 4.5290925723428335e-05, 1.4433508640223643e-05, 0.00022516882948541727, 0.0010178096286429204, 0.0008620464656904043, 0.0010887442460382354, 0.0005789338442277418], \"xaxis\": \"x9\", \"y\": [1.0930728477741078, 1.0955685356214455, 1.1005712477990852, 1.0947276050717174, 1.1050866936268615, 1.1064935508863833, 1.1101047647935305, 1.1032285015323893, 1.0968530512095067, 1.1034504848063675, 1.0931887003119531, 1.0973996124682044, 1.1021461658733485, 1.0908766056039574, 1.0989594963590876, 1.1016589244506654, 1.0989474731582702, 1.1148620391662822, 1.1025611944507727, 1.1069990629606703, 1.0960596641949725, 1.1044994063199582, 1.0977050497515188, 1.104185200549606, 1.09099953987274, 1.0949188093509472, 1.1156180888409006, 1.0960881575329515, 1.0949230709773012, 1.0995186051080554, 1.1007996727087441, 1.0978143574423012, 1.1054941215664336, 1.0964755988329116, 1.1150964399081225, 1.0992755537194971, 1.0903456649783263, 1.1050799287467428, 1.1134839980766846, 1.105675036825571, 1.1019874634157347, 1.0968837206856, 1.1005925396235567, 1.1024041064875254, 1.0975781649162613, 1.0964068562429987, 1.0998902051976776, 1.1035097815074335, 1.101901218693159, 1.1002952150298675, 1.088279019087586, 1.1046674185277277, 1.1061549327488045, 1.0976381679815508, 1.0964551324172955, 1.0963611783576697, 1.0969084642334346, 1.1009597871639614, 1.1081830954757723, 1.0920150094767496, 1.0933912448356524, 1.1013844545741363, 1.094934510562066, 1.1047657482831463, 1.098961899956441, 1.091111160133087, 1.1033447631791156, 1.0975363678694214, 1.096455217564803, 1.096784779143783, 1.096154460467905, 1.0990282266269167, 1.0999251363054412, 1.0930926702521788, 1.0892000968035467, 1.100576112928113, 1.0953699336430873, 1.1007241888952806, 1.0966343987965763, 1.1001033522667385, 1.098636132168558, 1.0963771270717302, 1.0979423498468388, 1.0963147617846356, 1.0988126206372415, 1.0978169824796715, 1.099595142485049, 1.097358006426133, 1.0903226907431578, 1.099329944522781, 1.1037814271020392, 1.1006350247795291, 1.0991054965311817, 1.0980691933917548, 1.1012207391744187, 1.0966014435269962, 1.092937359612438, 1.0998443331694872, 1.097967890559086, 1.094605906603208], \"yaxis\": \"y9\"}, {\"marker\": {\"color\": [0, 1, 2, 3, 4, 5, 6, 7, 8, 9, 10, 11, 12, 13, 14, 15, 16, 17, 18, 19, 20, 21, 22, 23, 24, 25, 26, 27, 28, 29, 30, 31, 32, 33, 34, 35, 36, 37, 38, 39, 40, 41, 42, 43, 44, 45, 46, 47, 48, 49, 50, 51, 52, 53, 54, 55, 56, 57, 58, 59, 60, 61, 62, 63, 64, 65, 66, 67, 68, 69, 70, 71, 72, 73, 74, 75, 76, 77, 78, 79, 80, 81, 82, 83, 84, 85, 86, 87, 88, 89, 90, 91, 92, 93, 94, 95, 96, 97, 98, 99], \"colorbar\": {\"title\": {\"text\": \"#Trials\"}, \"x\": 1.0, \"xpad\": 40}, \"colorscale\": [[0.0, \"rgb(247,251,255)\"], [0.125, \"rgb(222,235,247)\"], [0.25, \"rgb(198,219,239)\"], [0.375, \"rgb(158,202,225)\"], [0.5, \"rgb(107,174,214)\"], [0.625, \"rgb(66,146,198)\"], [0.75, \"rgb(33,113,181)\"], [0.875, \"rgb(8,81,156)\"], [1.0, \"rgb(8,48,107)\"]], \"line\": {\"color\": \"Grey\", \"width\": 0.5}, \"showscale\": false}, \"mode\": \"markers\", \"showlegend\": false, \"type\": \"scatter\", \"x\": [0.0002564331226829421, 0.0036906669717957823, 9.29203171038271e-05, 0.0012309407169892109, 0.00012987191371437035, 3.511832821950963, 4.725859453522173, 3.9365785498936146e-05, 0.28247539588802595, 3.788665351703791e-05, 0.06342615100804282, 0.06477872252765644, 0.006849608659571087, 0.12787206406656534, 0.0006423528883795067, 0.5166040337245751, 25.766812014002774, 1.1353001497262547e-05, 0.03341114771256298, 0.0005390344403329836, 0.32438375021489374, 0.07096663621371521, 0.011305812320784392, 1.3844516493834131, 0.02632768962192075, 0.0031555669053980845, 0.026927465400248794, 0.14804820119149328, 1.0066407721719806, 0.0018332453508498557, 0.007887274368944664, 0.09690351689948508, 0.02116836632523376, 0.13535821038097764, 0.036256386508886206, 0.00355515048257303, 0.0003441531178517913, 0.0002566547751044009, 9.425739328934548e-05, 4.4921683927212247e-05, 1.5218212744091352e-05, 0.0004165419312331211, 0.001126811938117383, 0.0001857820401750365, 0.009438182224937221, 0.2714678900939977, 4.947110990729126, 0.04671245332077026, 0.012400614080762734, 0.0015143575593829005, 0.00565822311014884, 0.004997548546156438, 0.0007609040952851989, 5.924800590732535e-05, 2.308296971418878e-05, 0.0158807542145073, 0.20816129334780079, 0.4790956585736722, 0.04728309999953047, 0.07112375335702158, 0.00033008097978130856, 0.07475263288353039, 0.11981027987329078, 0.02171315886537697, 0.00012830595042529776, 0.0021907757203510434, 0.0022702186010213296, 0.006472158073130813, 0.0027850083957766197, 0.0008717346091815293, 0.006118499054171327, 0.050243455890213715, 0.03176665647830611, 0.07245999617230355, 0.014204812273754594, 0.015185932237435657, 0.0012823439314004555, 0.004574540652395601, 0.00027096713582689763, 0.0005176535503833122, 0.008946657415524594, 0.08360605117812361, 0.023667704067611286, 0.1326447903175217, 0.4505214554134184, 0.03819104782981987, 0.19940875992540782, 0.013918316140692727, 0.0001911764209373926, 0.0001513834409812288, 8.593781169635508e-05, 0.0002161100573716321, 0.05850320558897908, 0.0004458459644607825, 1.0955640472126513, 0.0009376055401431377, 8.926111495893527e-05, 0.0019481378071050607, 6.85770693776466e-05, 2.447736393204762e-05], \"xaxis\": \"x10\", \"y\": [1.0930728477741078, 1.0955685356214455, 1.1005712477990852, 1.0947276050717174, 1.1050866936268615, 1.1064935508863833, 1.1101047647935305, 1.1032285015323893, 1.0968530512095067, 1.1034504848063675, 1.0931887003119531, 1.0973996124682044, 1.1021461658733485, 1.0908766056039574, 1.0989594963590876, 1.1016589244506654, 1.0989474731582702, 1.1148620391662822, 1.1025611944507727, 1.1069990629606703, 1.0960596641949725, 1.1044994063199582, 1.0977050497515188, 1.104185200549606, 1.09099953987274, 1.0949188093509472, 1.1156180888409006, 1.0960881575329515, 1.0949230709773012, 1.0995186051080554, 1.1007996727087441, 1.0978143574423012, 1.1054941215664336, 1.0964755988329116, 1.1150964399081225, 1.0992755537194971, 1.0903456649783263, 1.1050799287467428, 1.1134839980766846, 1.105675036825571, 1.1019874634157347, 1.0968837206856, 1.1005925396235567, 1.1024041064875254, 1.0975781649162613, 1.0964068562429987, 1.0998902051976776, 1.1035097815074335, 1.101901218693159, 1.1002952150298675, 1.088279019087586, 1.1046674185277277, 1.1061549327488045, 1.0976381679815508, 1.0964551324172955, 1.0963611783576697, 1.0969084642334346, 1.1009597871639614, 1.1081830954757723, 1.0920150094767496, 1.0933912448356524, 1.1013844545741363, 1.094934510562066, 1.1047657482831463, 1.098961899956441, 1.091111160133087, 1.1033447631791156, 1.0975363678694214, 1.096455217564803, 1.096784779143783, 1.096154460467905, 1.0990282266269167, 1.0999251363054412, 1.0930926702521788, 1.0892000968035467, 1.100576112928113, 1.0953699336430873, 1.1007241888952806, 1.0966343987965763, 1.1001033522667385, 1.098636132168558, 1.0963771270717302, 1.0979423498468388, 1.0963147617846356, 1.0988126206372415, 1.0978169824796715, 1.099595142485049, 1.097358006426133, 1.0903226907431578, 1.099329944522781, 1.1037814271020392, 1.1006350247795291, 1.0991054965311817, 1.0980691933917548, 1.1012207391744187, 1.0966014435269962, 1.092937359612438, 1.0998443331694872, 1.097967890559086, 1.094605906603208], \"yaxis\": \"y10\"}, {\"marker\": {\"color\": [0, 1, 2, 3, 4, 5, 6, 7, 8, 9, 10, 11, 12, 13, 14, 15, 16, 17, 18, 19, 20, 21, 22, 23, 24, 25, 26, 27, 28, 29, 30, 31, 32, 33, 34, 35, 36, 37, 38, 39, 40, 41, 42, 43, 44, 45, 46, 47, 48, 49, 50, 51, 52, 53, 54, 55, 56, 57, 58, 59, 60, 61, 62, 63, 64, 65, 66, 67, 68, 69, 70, 71, 72, 73, 74, 75, 76, 77, 78, 79, 80, 81, 82, 83, 84, 85, 86, 87, 88, 89, 90, 91, 92, 93, 94, 95, 96, 97, 98, 99], \"colorbar\": {\"title\": {\"text\": \"#Trials\"}, \"x\": 1.0, \"xpad\": 40}, \"colorscale\": [[0.0, \"rgb(247,251,255)\"], [0.125, \"rgb(222,235,247)\"], [0.25, \"rgb(198,219,239)\"], [0.375, \"rgb(158,202,225)\"], [0.5, \"rgb(107,174,214)\"], [0.625, \"rgb(66,146,198)\"], [0.75, \"rgb(33,113,181)\"], [0.875, \"rgb(8,81,156)\"], [1.0, \"rgb(8,48,107)\"]], \"line\": {\"color\": \"Grey\", \"width\": 0.5}, \"showscale\": false}, \"mode\": \"markers\", \"showlegend\": false, \"type\": \"scatter\", \"x\": [0.11843285679715676, 0.9637292807894524, 0.22599667448212835, 0.9782956649626166, 0.34591329613547417, 0.5607781578638047, 0.28174584995414687, 0.6734069736960099, 0.9172734689766643, 0.520604430744945, 0.003966463608017723, 0.009041024006455088, 0.0052743295037780795, 0.12147163408858569, 0.17065453122757987, 0.15774084768104518, 0.10398125156777967, 0.39050761064023354, 0.40751592361399347, 0.6733490136522495, 0.09772540678144566, 0.036021890676073184, 0.2526155986009091, 0.0811024373985767, 0.1860770273323995, 0.17779959990240324, 0.3054224963844817, 0.43949669522464346, 0.21296475773524, 0.09463612371818464, 0.32176586960326803, 0.01868171228576679, 0.13317460068547365, 0.05089968679882485, 0.22494898217369394, 0.20420345571088616, 0.007409831111379966, 0.1374413359077778, 0.2573805823151111, 0.06298989797781453, 0.916355003471323, 0.0032380682821549767, 0.008144775406474354, 0.12327892494262474, 0.17723993744115304, 0.0570681181009094, 0.36423291787458534, 0.27688625266666417, 0.1560782225904579, 0.657665802108842, 0.7981326760346236, 0.5228564828390005, 0.818902427991351, 0.6148235548870756, 0.8764323791637878, 0.8029392475747579, 0.08416670427514072, 0.7418310574264061, 0.9849655551198209, 0.47298326635271165, 0.46478484341447834, 0.04308685300020354, 0.7332619015493984, 0.5854379466887122, 0.0014901228588672932, 0.10521805804374923, 0.10797440524931007, 0.1953174222480148, 0.24429302703364936, 0.3464207620618056, 0.14808622219841755, 0.08615774685527358, 0.030044244785548846, 0.07546810285779143, 0.11994138416082709, 0.1167057125502475, 0.16535623458644244, 0.18834388645677413, 0.21916154987503192, 0.1358007579279074, 0.40625677387320774, 0.05842045694932848, 0.0726777769760788, 0.032335939955961464, 0.0949437143022794, 0.13390084747828254, 0.30161457456303814, 0.1175280695570756, 0.1655474963477185, 0.26685279626769065, 0.23323082035907156, 0.15895715706139557, 0.18552859933199078, 0.09868952137790851, 0.06648588852866864, 0.20848831165734968, 0.021343436390862607, 0.47624898321655657, 0.02449513281945133, 0.000486993365153488], \"xaxis\": \"x11\", \"y\": [1.0930728477741078, 1.0955685356214455, 1.1005712477990852, 1.0947276050717174, 1.1050866936268615, 1.1064935508863833, 1.1101047647935305, 1.1032285015323893, 1.0968530512095067, 1.1034504848063675, 1.0931887003119531, 1.0973996124682044, 1.1021461658733485, 1.0908766056039574, 1.0989594963590876, 1.1016589244506654, 1.0989474731582702, 1.1148620391662822, 1.1025611944507727, 1.1069990629606703, 1.0960596641949725, 1.1044994063199582, 1.0977050497515188, 1.104185200549606, 1.09099953987274, 1.0949188093509472, 1.1156180888409006, 1.0960881575329515, 1.0949230709773012, 1.0995186051080554, 1.1007996727087441, 1.0978143574423012, 1.1054941215664336, 1.0964755988329116, 1.1150964399081225, 1.0992755537194971, 1.0903456649783263, 1.1050799287467428, 1.1134839980766846, 1.105675036825571, 1.1019874634157347, 1.0968837206856, 1.1005925396235567, 1.1024041064875254, 1.0975781649162613, 1.0964068562429987, 1.0998902051976776, 1.1035097815074335, 1.101901218693159, 1.1002952150298675, 1.088279019087586, 1.1046674185277277, 1.1061549327488045, 1.0976381679815508, 1.0964551324172955, 1.0963611783576697, 1.0969084642334346, 1.1009597871639614, 1.1081830954757723, 1.0920150094767496, 1.0933912448356524, 1.1013844545741363, 1.094934510562066, 1.1047657482831463, 1.098961899956441, 1.091111160133087, 1.1033447631791156, 1.0975363678694214, 1.096455217564803, 1.096784779143783, 1.096154460467905, 1.0990282266269167, 1.0999251363054412, 1.0930926702521788, 1.0892000968035467, 1.100576112928113, 1.0953699336430873, 1.1007241888952806, 1.0966343987965763, 1.1001033522667385, 1.098636132168558, 1.0963771270717302, 1.0979423498468388, 1.0963147617846356, 1.0988126206372415, 1.0978169824796715, 1.099595142485049, 1.097358006426133, 1.0903226907431578, 1.099329944522781, 1.1037814271020392, 1.1006350247795291, 1.0991054965311817, 1.0980691933917548, 1.1012207391744187, 1.0966014435269962, 1.092937359612438, 1.0998443331694872, 1.097967890559086, 1.094605906603208], \"yaxis\": \"y11\"}],\n",
              "                        {\"template\": {\"data\": {\"bar\": [{\"error_x\": {\"color\": \"#2a3f5f\"}, \"error_y\": {\"color\": \"#2a3f5f\"}, \"marker\": {\"line\": {\"color\": \"#E5ECF6\", \"width\": 0.5}}, \"type\": \"bar\"}], \"barpolar\": [{\"marker\": {\"line\": {\"color\": \"#E5ECF6\", \"width\": 0.5}}, \"type\": \"barpolar\"}], \"carpet\": [{\"aaxis\": {\"endlinecolor\": \"#2a3f5f\", \"gridcolor\": \"white\", \"linecolor\": \"white\", \"minorgridcolor\": \"white\", \"startlinecolor\": \"#2a3f5f\"}, \"baxis\": {\"endlinecolor\": \"#2a3f5f\", \"gridcolor\": \"white\", \"linecolor\": \"white\", \"minorgridcolor\": \"white\", \"startlinecolor\": \"#2a3f5f\"}, \"type\": \"carpet\"}], \"choropleth\": [{\"colorbar\": {\"outlinewidth\": 0, \"ticks\": \"\"}, \"type\": \"choropleth\"}], \"contour\": [{\"colorbar\": {\"outlinewidth\": 0, \"ticks\": \"\"}, \"colorscale\": [[0.0, \"#0d0887\"], [0.1111111111111111, \"#46039f\"], [0.2222222222222222, \"#7201a8\"], [0.3333333333333333, \"#9c179e\"], [0.4444444444444444, \"#bd3786\"], [0.5555555555555556, \"#d8576b\"], [0.6666666666666666, \"#ed7953\"], [0.7777777777777778, \"#fb9f3a\"], [0.8888888888888888, \"#fdca26\"], [1.0, \"#f0f921\"]], \"type\": \"contour\"}], \"contourcarpet\": [{\"colorbar\": {\"outlinewidth\": 0, \"ticks\": \"\"}, \"type\": \"contourcarpet\"}], \"heatmap\": [{\"colorbar\": {\"outlinewidth\": 0, \"ticks\": \"\"}, \"colorscale\": [[0.0, \"#0d0887\"], [0.1111111111111111, \"#46039f\"], [0.2222222222222222, \"#7201a8\"], [0.3333333333333333, \"#9c179e\"], [0.4444444444444444, \"#bd3786\"], [0.5555555555555556, \"#d8576b\"], [0.6666666666666666, \"#ed7953\"], [0.7777777777777778, \"#fb9f3a\"], [0.8888888888888888, \"#fdca26\"], [1.0, \"#f0f921\"]], \"type\": \"heatmap\"}], \"heatmapgl\": [{\"colorbar\": {\"outlinewidth\": 0, \"ticks\": \"\"}, \"colorscale\": [[0.0, \"#0d0887\"], [0.1111111111111111, \"#46039f\"], [0.2222222222222222, \"#7201a8\"], [0.3333333333333333, \"#9c179e\"], [0.4444444444444444, \"#bd3786\"], [0.5555555555555556, \"#d8576b\"], [0.6666666666666666, \"#ed7953\"], [0.7777777777777778, \"#fb9f3a\"], [0.8888888888888888, \"#fdca26\"], [1.0, \"#f0f921\"]], \"type\": \"heatmapgl\"}], \"histogram\": [{\"marker\": {\"colorbar\": {\"outlinewidth\": 0, \"ticks\": \"\"}}, \"type\": \"histogram\"}], \"histogram2d\": [{\"colorbar\": {\"outlinewidth\": 0, \"ticks\": \"\"}, \"colorscale\": [[0.0, \"#0d0887\"], [0.1111111111111111, \"#46039f\"], [0.2222222222222222, \"#7201a8\"], [0.3333333333333333, \"#9c179e\"], [0.4444444444444444, \"#bd3786\"], [0.5555555555555556, \"#d8576b\"], [0.6666666666666666, \"#ed7953\"], [0.7777777777777778, \"#fb9f3a\"], [0.8888888888888888, \"#fdca26\"], [1.0, \"#f0f921\"]], \"type\": \"histogram2d\"}], \"histogram2dcontour\": [{\"colorbar\": {\"outlinewidth\": 0, \"ticks\": \"\"}, \"colorscale\": [[0.0, \"#0d0887\"], [0.1111111111111111, \"#46039f\"], [0.2222222222222222, \"#7201a8\"], [0.3333333333333333, \"#9c179e\"], [0.4444444444444444, \"#bd3786\"], [0.5555555555555556, \"#d8576b\"], [0.6666666666666666, \"#ed7953\"], [0.7777777777777778, \"#fb9f3a\"], [0.8888888888888888, \"#fdca26\"], [1.0, \"#f0f921\"]], \"type\": \"histogram2dcontour\"}], \"mesh3d\": [{\"colorbar\": {\"outlinewidth\": 0, \"ticks\": \"\"}, \"type\": \"mesh3d\"}], \"parcoords\": [{\"line\": {\"colorbar\": {\"outlinewidth\": 0, \"ticks\": \"\"}}, \"type\": \"parcoords\"}], \"pie\": [{\"automargin\": true, \"type\": \"pie\"}], \"scatter\": [{\"marker\": {\"colorbar\": {\"outlinewidth\": 0, \"ticks\": \"\"}}, \"type\": \"scatter\"}], \"scatter3d\": [{\"line\": {\"colorbar\": {\"outlinewidth\": 0, \"ticks\": \"\"}}, \"marker\": {\"colorbar\": {\"outlinewidth\": 0, \"ticks\": \"\"}}, \"type\": \"scatter3d\"}], \"scattercarpet\": [{\"marker\": {\"colorbar\": {\"outlinewidth\": 0, \"ticks\": \"\"}}, \"type\": \"scattercarpet\"}], \"scattergeo\": [{\"marker\": {\"colorbar\": {\"outlinewidth\": 0, \"ticks\": \"\"}}, \"type\": \"scattergeo\"}], \"scattergl\": [{\"marker\": {\"colorbar\": {\"outlinewidth\": 0, \"ticks\": \"\"}}, \"type\": \"scattergl\"}], \"scattermapbox\": [{\"marker\": {\"colorbar\": {\"outlinewidth\": 0, \"ticks\": \"\"}}, \"type\": \"scattermapbox\"}], \"scatterpolar\": [{\"marker\": {\"colorbar\": {\"outlinewidth\": 0, \"ticks\": \"\"}}, \"type\": \"scatterpolar\"}], \"scatterpolargl\": [{\"marker\": {\"colorbar\": {\"outlinewidth\": 0, \"ticks\": \"\"}}, \"type\": \"scatterpolargl\"}], \"scatterternary\": [{\"marker\": {\"colorbar\": {\"outlinewidth\": 0, \"ticks\": \"\"}}, \"type\": \"scatterternary\"}], \"surface\": [{\"colorbar\": {\"outlinewidth\": 0, \"ticks\": \"\"}, \"colorscale\": [[0.0, \"#0d0887\"], [0.1111111111111111, \"#46039f\"], [0.2222222222222222, \"#7201a8\"], [0.3333333333333333, \"#9c179e\"], [0.4444444444444444, \"#bd3786\"], [0.5555555555555556, \"#d8576b\"], [0.6666666666666666, \"#ed7953\"], [0.7777777777777778, \"#fb9f3a\"], [0.8888888888888888, \"#fdca26\"], [1.0, \"#f0f921\"]], \"type\": \"surface\"}], \"table\": [{\"cells\": {\"fill\": {\"color\": \"#EBF0F8\"}, \"line\": {\"color\": \"white\"}}, \"header\": {\"fill\": {\"color\": \"#C8D4E3\"}, \"line\": {\"color\": \"white\"}}, \"type\": \"table\"}]}, \"layout\": {\"annotationdefaults\": {\"arrowcolor\": \"#2a3f5f\", \"arrowhead\": 0, \"arrowwidth\": 1}, \"coloraxis\": {\"colorbar\": {\"outlinewidth\": 0, \"ticks\": \"\"}}, \"colorscale\": {\"diverging\": [[0, \"#8e0152\"], [0.1, \"#c51b7d\"], [0.2, \"#de77ae\"], [0.3, \"#f1b6da\"], [0.4, \"#fde0ef\"], [0.5, \"#f7f7f7\"], [0.6, \"#e6f5d0\"], [0.7, \"#b8e186\"], [0.8, \"#7fbc41\"], [0.9, \"#4d9221\"], [1, \"#276419\"]], \"sequential\": [[0.0, \"#0d0887\"], [0.1111111111111111, \"#46039f\"], [0.2222222222222222, \"#7201a8\"], [0.3333333333333333, \"#9c179e\"], [0.4444444444444444, \"#bd3786\"], [0.5555555555555556, \"#d8576b\"], [0.6666666666666666, \"#ed7953\"], [0.7777777777777778, \"#fb9f3a\"], [0.8888888888888888, \"#fdca26\"], [1.0, \"#f0f921\"]], \"sequentialminus\": [[0.0, \"#0d0887\"], [0.1111111111111111, \"#46039f\"], [0.2222222222222222, \"#7201a8\"], [0.3333333333333333, \"#9c179e\"], [0.4444444444444444, \"#bd3786\"], [0.5555555555555556, \"#d8576b\"], [0.6666666666666666, \"#ed7953\"], [0.7777777777777778, \"#fb9f3a\"], [0.8888888888888888, \"#fdca26\"], [1.0, \"#f0f921\"]]}, \"colorway\": [\"#636efa\", \"#EF553B\", \"#00cc96\", \"#ab63fa\", \"#FFA15A\", \"#19d3f3\", \"#FF6692\", \"#B6E880\", \"#FF97FF\", \"#FECB52\"], \"font\": {\"color\": \"#2a3f5f\"}, \"geo\": {\"bgcolor\": \"white\", \"lakecolor\": \"white\", \"landcolor\": \"#E5ECF6\", \"showlakes\": true, \"showland\": true, \"subunitcolor\": \"white\"}, \"hoverlabel\": {\"align\": \"left\"}, \"hovermode\": \"closest\", \"mapbox\": {\"style\": \"light\"}, \"paper_bgcolor\": \"white\", \"plot_bgcolor\": \"#E5ECF6\", \"polar\": {\"angularaxis\": {\"gridcolor\": \"white\", \"linecolor\": \"white\", \"ticks\": \"\"}, \"bgcolor\": \"#E5ECF6\", \"radialaxis\": {\"gridcolor\": \"white\", \"linecolor\": \"white\", \"ticks\": \"\"}}, \"scene\": {\"xaxis\": {\"backgroundcolor\": \"#E5ECF6\", \"gridcolor\": \"white\", \"gridwidth\": 2, \"linecolor\": \"white\", \"showbackground\": true, \"ticks\": \"\", \"zerolinecolor\": \"white\"}, \"yaxis\": {\"backgroundcolor\": \"#E5ECF6\", \"gridcolor\": \"white\", \"gridwidth\": 2, \"linecolor\": \"white\", \"showbackground\": true, \"ticks\": \"\", \"zerolinecolor\": \"white\"}, \"zaxis\": {\"backgroundcolor\": \"#E5ECF6\", \"gridcolor\": \"white\", \"gridwidth\": 2, \"linecolor\": \"white\", \"showbackground\": true, \"ticks\": \"\", \"zerolinecolor\": \"white\"}}, \"shapedefaults\": {\"line\": {\"color\": \"#2a3f5f\"}}, \"ternary\": {\"aaxis\": {\"gridcolor\": \"white\", \"linecolor\": \"white\", \"ticks\": \"\"}, \"baxis\": {\"gridcolor\": \"white\", \"linecolor\": \"white\", \"ticks\": \"\"}, \"bgcolor\": \"#E5ECF6\", \"caxis\": {\"gridcolor\": \"white\", \"linecolor\": \"white\", \"ticks\": \"\"}}, \"title\": {\"x\": 0.05}, \"xaxis\": {\"automargin\": true, \"gridcolor\": \"white\", \"linecolor\": \"white\", \"ticks\": \"\", \"title\": {\"standoff\": 15}, \"zerolinecolor\": \"white\", \"zerolinewidth\": 2}, \"yaxis\": {\"automargin\": true, \"gridcolor\": \"white\", \"linecolor\": \"white\", \"ticks\": \"\", \"title\": {\"standoff\": 15}, \"zerolinecolor\": \"white\", \"zerolinewidth\": 2}}}, \"title\": {\"text\": \"Slice Plot\"}, \"width\": 3300, \"xaxis\": {\"anchor\": \"y\", \"domain\": [0.0, 0.07438016528925619], \"title\": {\"text\": \"cat_l2\"}}, \"xaxis10\": {\"anchor\": \"y10\", \"domain\": [0.8330578512396694, 0.9074380165289255], \"title\": {\"text\": \"reg_lambda\"}, \"type\": \"log\"}, \"xaxis11\": {\"anchor\": \"y11\", \"domain\": [0.9256198347107437, 0.9999999999999999], \"title\": {\"text\": \"subsample\"}}, \"xaxis2\": {\"anchor\": \"y2\", \"domain\": [0.09256198347107437, 0.16694214876033056], \"title\": {\"text\": \"cat_smooth\"}}, \"xaxis3\": {\"anchor\": \"y3\", \"domain\": [0.18512396694214875, 0.25950413223140495], \"title\": {\"text\": \"colsample_bytree\"}}, \"xaxis4\": {\"anchor\": \"y4\", \"domain\": [0.27768595041322314, 0.3520661157024793], \"title\": {\"text\": \"learning_rate\"}}, \"xaxis5\": {\"anchor\": \"y5\", \"domain\": [0.3702479338842975, 0.44462809917355367], \"title\": {\"text\": \"max_depth\"}}, \"xaxis6\": {\"anchor\": \"y6\", \"domain\": [0.46280991735537186, 0.5371900826446281], \"title\": {\"text\": \"min_child_samples\"}}, \"xaxis7\": {\"anchor\": \"y7\", \"domain\": [0.5553719008264462, 0.6297520661157023], \"title\": {\"text\": \"min_child_weight\"}, \"type\": \"log\"}, \"xaxis8\": {\"anchor\": \"y8\", \"domain\": [0.6479338842975206, 0.7223140495867768], \"title\": {\"text\": \"num_leaves\"}}, \"xaxis9\": {\"anchor\": \"y9\", \"domain\": [0.740495867768595, 0.8148760330578512], \"title\": {\"text\": \"reg_alpha\"}, \"type\": \"log\"}, \"yaxis\": {\"anchor\": \"x\", \"domain\": [0.0, 1.0], \"title\": {\"text\": \"Objective Value\"}}, \"yaxis10\": {\"anchor\": \"x10\", \"domain\": [0.0, 1.0], \"matches\": \"y\", \"showticklabels\": false}, \"yaxis11\": {\"anchor\": \"x11\", \"domain\": [0.0, 1.0], \"matches\": \"y\", \"showticklabels\": false}, \"yaxis2\": {\"anchor\": \"x2\", \"domain\": [0.0, 1.0], \"matches\": \"y\", \"showticklabels\": false}, \"yaxis3\": {\"anchor\": \"x3\", \"domain\": [0.0, 1.0], \"matches\": \"y\", \"showticklabels\": false}, \"yaxis4\": {\"anchor\": \"x4\", \"domain\": [0.0, 1.0], \"matches\": \"y\", \"showticklabels\": false}, \"yaxis5\": {\"anchor\": \"x5\", \"domain\": [0.0, 1.0], \"matches\": \"y\", \"showticklabels\": false}, \"yaxis6\": {\"anchor\": \"x6\", \"domain\": [0.0, 1.0], \"matches\": \"y\", \"showticklabels\": false}, \"yaxis7\": {\"anchor\": \"x7\", \"domain\": [0.0, 1.0], \"matches\": \"y\", \"showticklabels\": false}, \"yaxis8\": {\"anchor\": \"x8\", \"domain\": [0.0, 1.0], \"matches\": \"y\", \"showticklabels\": false}, \"yaxis9\": {\"anchor\": \"x9\", \"domain\": [0.0, 1.0], \"matches\": \"y\", \"showticklabels\": false}},\n",
              "                        {\"responsive\": true}\n",
              "                    ).then(function(){\n",
              "                            \n",
              "var gd = document.getElementById('88557c96-e4c0-4ed4-8b1c-50920b0f3bab');\n",
              "var x = new MutationObserver(function (mutations, observer) {{\n",
              "        var display = window.getComputedStyle(gd).display;\n",
              "        if (!display || display === 'none') {{\n",
              "            console.log([gd, 'removed!']);\n",
              "            Plotly.purge(gd);\n",
              "            observer.disconnect();\n",
              "        }}\n",
              "}});\n",
              "\n",
              "// Listen for the removal of the full notebook cells\n",
              "var notebookContainer = gd.closest('#notebook-container');\n",
              "if (notebookContainer) {{\n",
              "    x.observe(notebookContainer, {childList: true});\n",
              "}}\n",
              "\n",
              "// Listen for the clearing of the current output cell\n",
              "var outputEl = gd.closest('.output');\n",
              "if (outputEl) {{\n",
              "    x.observe(outputEl, {childList: true});\n",
              "}}\n",
              "\n",
              "                        })\n",
              "                };\n",
              "                \n",
              "            </script>\n",
              "        </div>\n",
              "</body>\n",
              "</html>"
            ]
          },
          "metadata": {
            "tags": []
          }
        }
      ]
    },
    {
      "cell_type": "code",
      "metadata": {
        "colab": {
          "base_uri": "https://localhost:8080/",
          "height": 542
        },
        "id": "90QkOVtJIM2u",
        "outputId": "dbc171cd-2008-4355-c699-2848ca239a17"
      },
      "source": [
        "optuna.visualization.plot_param_importances(study)"
      ],
      "execution_count": null,
      "outputs": [
        {
          "output_type": "display_data",
          "data": {
            "text/html": [
              "<html>\n",
              "<head><meta charset=\"utf-8\" /></head>\n",
              "<body>\n",
              "    <div>\n",
              "            <script src=\"https://cdnjs.cloudflare.com/ajax/libs/mathjax/2.7.5/MathJax.js?config=TeX-AMS-MML_SVG\"></script><script type=\"text/javascript\">if (window.MathJax) {MathJax.Hub.Config({SVG: {font: \"STIX-Web\"}});}</script>\n",
              "                <script type=\"text/javascript\">window.PlotlyConfig = {MathJaxConfig: 'local'};</script>\n",
              "        <script src=\"https://cdn.plot.ly/plotly-latest.min.js\"></script>    \n",
              "            <div id=\"049f2a3c-f510-4588-989e-265ad56b70b5\" class=\"plotly-graph-div\" style=\"height:525px; width:100%;\"></div>\n",
              "            <script type=\"text/javascript\">\n",
              "                \n",
              "                    window.PLOTLYENV=window.PLOTLYENV || {};\n",
              "                    \n",
              "                if (document.getElementById(\"049f2a3c-f510-4588-989e-265ad56b70b5\")) {\n",
              "                    Plotly.newPlot(\n",
              "                        '049f2a3c-f510-4588-989e-265ad56b70b5',\n",
              "                        [{\"cliponaxis\": false, \"hovertemplate\": [\"reg_lambda (LogUniformDistribution): 0.00012355273881393099<extra></extra>\", \"min_child_weight (LogUniformDistribution): 0.0013001405888648468<extra></extra>\", \"reg_alpha (LogUniformDistribution): 0.006139605694326023<extra></extra>\", \"colsample_bytree (CategoricalDistribution): 0.016294151979410924<extra></extra>\", \"num_leaves (IntUniformDistribution): 0.020018005910442987<extra></extra>\", \"cat_l2 (IntUniformDistribution): 0.023654726890923836<extra></extra>\", \"subsample (UniformDistribution): 0.02735166648189815<extra></extra>\", \"cat_smooth (IntUniformDistribution): 0.03857865620659896<extra></extra>\", \"min_child_samples (IntUniformDistribution): 0.09504198082007163<extra></extra>\", \"max_depth (IntUniformDistribution): 0.20047670717038638<extra></extra>\", \"learning_rate (UniformDistribution): 0.5710208055182625<extra></extra>\"], \"marker\": {\"color\": [\"rgb(8,48,107)\", \"rgb(8,48,107)\", \"rgb(8,48,107)\", \"rgb(66,146,198)\", \"rgb(8,81,156)\", \"rgb(8,81,156)\", \"rgb(8,48,107)\", \"rgb(8,81,156)\", \"rgb(8,81,156)\", \"rgb(8,81,156)\", \"rgb(8,48,107)\"]}, \"orientation\": \"h\", \"text\": [\"0.00012355273881393099\", \"0.0013001405888648468\", \"0.006139605694326023\", \"0.016294151979410924\", \"0.020018005910442987\", \"0.023654726890923836\", \"0.02735166648189815\", \"0.03857865620659896\", \"0.09504198082007163\", \"0.20047670717038638\", \"0.5710208055182625\"], \"textposition\": \"outside\", \"texttemplate\": \"%{text:.2f}\", \"type\": \"bar\", \"x\": [0.00012355273881393099, 0.0013001405888648468, 0.006139605694326023, 0.016294151979410924, 0.020018005910442987, 0.023654726890923836, 0.02735166648189815, 0.03857865620659896, 0.09504198082007163, 0.20047670717038638, 0.5710208055182625], \"y\": [\"reg_lambda\", \"min_child_weight\", \"reg_alpha\", \"colsample_bytree\", \"num_leaves\", \"cat_l2\", \"subsample\", \"cat_smooth\", \"min_child_samples\", \"max_depth\", \"learning_rate\"]}],\n",
              "                        {\"showlegend\": false, \"template\": {\"data\": {\"bar\": [{\"error_x\": {\"color\": \"#2a3f5f\"}, \"error_y\": {\"color\": \"#2a3f5f\"}, \"marker\": {\"line\": {\"color\": \"#E5ECF6\", \"width\": 0.5}}, \"type\": \"bar\"}], \"barpolar\": [{\"marker\": {\"line\": {\"color\": \"#E5ECF6\", \"width\": 0.5}}, \"type\": \"barpolar\"}], \"carpet\": [{\"aaxis\": {\"endlinecolor\": \"#2a3f5f\", \"gridcolor\": \"white\", \"linecolor\": \"white\", \"minorgridcolor\": \"white\", \"startlinecolor\": \"#2a3f5f\"}, \"baxis\": {\"endlinecolor\": \"#2a3f5f\", \"gridcolor\": \"white\", \"linecolor\": \"white\", \"minorgridcolor\": \"white\", \"startlinecolor\": \"#2a3f5f\"}, \"type\": \"carpet\"}], \"choropleth\": [{\"colorbar\": {\"outlinewidth\": 0, \"ticks\": \"\"}, \"type\": \"choropleth\"}], \"contour\": [{\"colorbar\": {\"outlinewidth\": 0, \"ticks\": \"\"}, \"colorscale\": [[0.0, \"#0d0887\"], [0.1111111111111111, \"#46039f\"], [0.2222222222222222, \"#7201a8\"], [0.3333333333333333, \"#9c179e\"], [0.4444444444444444, \"#bd3786\"], [0.5555555555555556, \"#d8576b\"], [0.6666666666666666, \"#ed7953\"], [0.7777777777777778, \"#fb9f3a\"], [0.8888888888888888, \"#fdca26\"], [1.0, \"#f0f921\"]], \"type\": \"contour\"}], \"contourcarpet\": [{\"colorbar\": {\"outlinewidth\": 0, \"ticks\": \"\"}, \"type\": \"contourcarpet\"}], \"heatmap\": [{\"colorbar\": {\"outlinewidth\": 0, \"ticks\": \"\"}, \"colorscale\": [[0.0, \"#0d0887\"], [0.1111111111111111, \"#46039f\"], [0.2222222222222222, \"#7201a8\"], [0.3333333333333333, \"#9c179e\"], [0.4444444444444444, \"#bd3786\"], [0.5555555555555556, \"#d8576b\"], [0.6666666666666666, \"#ed7953\"], [0.7777777777777778, \"#fb9f3a\"], [0.8888888888888888, \"#fdca26\"], [1.0, \"#f0f921\"]], \"type\": \"heatmap\"}], \"heatmapgl\": [{\"colorbar\": {\"outlinewidth\": 0, \"ticks\": \"\"}, \"colorscale\": [[0.0, \"#0d0887\"], [0.1111111111111111, \"#46039f\"], [0.2222222222222222, \"#7201a8\"], [0.3333333333333333, \"#9c179e\"], [0.4444444444444444, \"#bd3786\"], [0.5555555555555556, \"#d8576b\"], [0.6666666666666666, \"#ed7953\"], [0.7777777777777778, \"#fb9f3a\"], [0.8888888888888888, \"#fdca26\"], [1.0, \"#f0f921\"]], \"type\": \"heatmapgl\"}], \"histogram\": [{\"marker\": {\"colorbar\": {\"outlinewidth\": 0, \"ticks\": \"\"}}, \"type\": \"histogram\"}], \"histogram2d\": [{\"colorbar\": {\"outlinewidth\": 0, \"ticks\": \"\"}, \"colorscale\": [[0.0, \"#0d0887\"], [0.1111111111111111, \"#46039f\"], [0.2222222222222222, \"#7201a8\"], [0.3333333333333333, \"#9c179e\"], [0.4444444444444444, \"#bd3786\"], [0.5555555555555556, \"#d8576b\"], [0.6666666666666666, \"#ed7953\"], [0.7777777777777778, \"#fb9f3a\"], [0.8888888888888888, \"#fdca26\"], [1.0, \"#f0f921\"]], \"type\": \"histogram2d\"}], \"histogram2dcontour\": [{\"colorbar\": {\"outlinewidth\": 0, \"ticks\": \"\"}, \"colorscale\": [[0.0, \"#0d0887\"], [0.1111111111111111, \"#46039f\"], [0.2222222222222222, \"#7201a8\"], [0.3333333333333333, \"#9c179e\"], [0.4444444444444444, \"#bd3786\"], [0.5555555555555556, \"#d8576b\"], [0.6666666666666666, \"#ed7953\"], [0.7777777777777778, \"#fb9f3a\"], [0.8888888888888888, \"#fdca26\"], [1.0, \"#f0f921\"]], \"type\": \"histogram2dcontour\"}], \"mesh3d\": [{\"colorbar\": {\"outlinewidth\": 0, \"ticks\": \"\"}, \"type\": \"mesh3d\"}], \"parcoords\": [{\"line\": {\"colorbar\": {\"outlinewidth\": 0, \"ticks\": \"\"}}, \"type\": \"parcoords\"}], \"pie\": [{\"automargin\": true, \"type\": \"pie\"}], \"scatter\": [{\"marker\": {\"colorbar\": {\"outlinewidth\": 0, \"ticks\": \"\"}}, \"type\": \"scatter\"}], \"scatter3d\": [{\"line\": {\"colorbar\": {\"outlinewidth\": 0, \"ticks\": \"\"}}, \"marker\": {\"colorbar\": {\"outlinewidth\": 0, \"ticks\": \"\"}}, \"type\": \"scatter3d\"}], \"scattercarpet\": [{\"marker\": {\"colorbar\": {\"outlinewidth\": 0, \"ticks\": \"\"}}, \"type\": \"scattercarpet\"}], \"scattergeo\": [{\"marker\": {\"colorbar\": {\"outlinewidth\": 0, \"ticks\": \"\"}}, \"type\": \"scattergeo\"}], \"scattergl\": [{\"marker\": {\"colorbar\": {\"outlinewidth\": 0, \"ticks\": \"\"}}, \"type\": \"scattergl\"}], \"scattermapbox\": [{\"marker\": {\"colorbar\": {\"outlinewidth\": 0, \"ticks\": \"\"}}, \"type\": \"scattermapbox\"}], \"scatterpolar\": [{\"marker\": {\"colorbar\": {\"outlinewidth\": 0, \"ticks\": \"\"}}, \"type\": \"scatterpolar\"}], \"scatterpolargl\": [{\"marker\": {\"colorbar\": {\"outlinewidth\": 0, \"ticks\": \"\"}}, \"type\": \"scatterpolargl\"}], \"scatterternary\": [{\"marker\": {\"colorbar\": {\"outlinewidth\": 0, \"ticks\": \"\"}}, \"type\": \"scatterternary\"}], \"surface\": [{\"colorbar\": {\"outlinewidth\": 0, \"ticks\": \"\"}, \"colorscale\": [[0.0, \"#0d0887\"], [0.1111111111111111, \"#46039f\"], [0.2222222222222222, \"#7201a8\"], [0.3333333333333333, \"#9c179e\"], [0.4444444444444444, \"#bd3786\"], [0.5555555555555556, \"#d8576b\"], [0.6666666666666666, \"#ed7953\"], [0.7777777777777778, \"#fb9f3a\"], [0.8888888888888888, \"#fdca26\"], [1.0, \"#f0f921\"]], \"type\": \"surface\"}], \"table\": [{\"cells\": {\"fill\": {\"color\": \"#EBF0F8\"}, \"line\": {\"color\": \"white\"}}, \"header\": {\"fill\": {\"color\": \"#C8D4E3\"}, \"line\": {\"color\": \"white\"}}, \"type\": \"table\"}]}, \"layout\": {\"annotationdefaults\": {\"arrowcolor\": \"#2a3f5f\", \"arrowhead\": 0, \"arrowwidth\": 1}, \"coloraxis\": {\"colorbar\": {\"outlinewidth\": 0, \"ticks\": \"\"}}, \"colorscale\": {\"diverging\": [[0, \"#8e0152\"], [0.1, \"#c51b7d\"], [0.2, \"#de77ae\"], [0.3, \"#f1b6da\"], [0.4, \"#fde0ef\"], [0.5, \"#f7f7f7\"], [0.6, \"#e6f5d0\"], [0.7, \"#b8e186\"], [0.8, \"#7fbc41\"], [0.9, \"#4d9221\"], [1, \"#276419\"]], \"sequential\": [[0.0, \"#0d0887\"], [0.1111111111111111, \"#46039f\"], [0.2222222222222222, \"#7201a8\"], [0.3333333333333333, \"#9c179e\"], [0.4444444444444444, \"#bd3786\"], [0.5555555555555556, \"#d8576b\"], [0.6666666666666666, \"#ed7953\"], [0.7777777777777778, \"#fb9f3a\"], [0.8888888888888888, \"#fdca26\"], [1.0, \"#f0f921\"]], \"sequentialminus\": [[0.0, \"#0d0887\"], [0.1111111111111111, \"#46039f\"], [0.2222222222222222, \"#7201a8\"], [0.3333333333333333, \"#9c179e\"], [0.4444444444444444, \"#bd3786\"], [0.5555555555555556, \"#d8576b\"], [0.6666666666666666, \"#ed7953\"], [0.7777777777777778, \"#fb9f3a\"], [0.8888888888888888, \"#fdca26\"], [1.0, \"#f0f921\"]]}, \"colorway\": [\"#636efa\", \"#EF553B\", \"#00cc96\", \"#ab63fa\", \"#FFA15A\", \"#19d3f3\", \"#FF6692\", \"#B6E880\", \"#FF97FF\", \"#FECB52\"], \"font\": {\"color\": \"#2a3f5f\"}, \"geo\": {\"bgcolor\": \"white\", \"lakecolor\": \"white\", \"landcolor\": \"#E5ECF6\", \"showlakes\": true, \"showland\": true, \"subunitcolor\": \"white\"}, \"hoverlabel\": {\"align\": \"left\"}, \"hovermode\": \"closest\", \"mapbox\": {\"style\": \"light\"}, \"paper_bgcolor\": \"white\", \"plot_bgcolor\": \"#E5ECF6\", \"polar\": {\"angularaxis\": {\"gridcolor\": \"white\", \"linecolor\": \"white\", \"ticks\": \"\"}, \"bgcolor\": \"#E5ECF6\", \"radialaxis\": {\"gridcolor\": \"white\", \"linecolor\": \"white\", \"ticks\": \"\"}}, \"scene\": {\"xaxis\": {\"backgroundcolor\": \"#E5ECF6\", \"gridcolor\": \"white\", \"gridwidth\": 2, \"linecolor\": \"white\", \"showbackground\": true, \"ticks\": \"\", \"zerolinecolor\": \"white\"}, \"yaxis\": {\"backgroundcolor\": \"#E5ECF6\", \"gridcolor\": \"white\", \"gridwidth\": 2, \"linecolor\": \"white\", \"showbackground\": true, \"ticks\": \"\", \"zerolinecolor\": \"white\"}, \"zaxis\": {\"backgroundcolor\": \"#E5ECF6\", \"gridcolor\": \"white\", \"gridwidth\": 2, \"linecolor\": \"white\", \"showbackground\": true, \"ticks\": \"\", \"zerolinecolor\": \"white\"}}, \"shapedefaults\": {\"line\": {\"color\": \"#2a3f5f\"}}, \"ternary\": {\"aaxis\": {\"gridcolor\": \"white\", \"linecolor\": \"white\", \"ticks\": \"\"}, \"baxis\": {\"gridcolor\": \"white\", \"linecolor\": \"white\", \"ticks\": \"\"}, \"bgcolor\": \"#E5ECF6\", \"caxis\": {\"gridcolor\": \"white\", \"linecolor\": \"white\", \"ticks\": \"\"}}, \"title\": {\"x\": 0.05}, \"xaxis\": {\"automargin\": true, \"gridcolor\": \"white\", \"linecolor\": \"white\", \"ticks\": \"\", \"title\": {\"standoff\": 15}, \"zerolinecolor\": \"white\", \"zerolinewidth\": 2}, \"yaxis\": {\"automargin\": true, \"gridcolor\": \"white\", \"linecolor\": \"white\", \"ticks\": \"\", \"title\": {\"standoff\": 15}, \"zerolinecolor\": \"white\", \"zerolinewidth\": 2}}}, \"title\": {\"text\": \"Hyperparameter Importances\"}, \"xaxis\": {\"title\": {\"text\": \"Importance for Objective Value\"}}, \"yaxis\": {\"title\": {\"text\": \"Hyperparameter\"}}},\n",
              "                        {\"responsive\": true}\n",
              "                    ).then(function(){\n",
              "                            \n",
              "var gd = document.getElementById('049f2a3c-f510-4588-989e-265ad56b70b5');\n",
              "var x = new MutationObserver(function (mutations, observer) {{\n",
              "        var display = window.getComputedStyle(gd).display;\n",
              "        if (!display || display === 'none') {{\n",
              "            console.log([gd, 'removed!']);\n",
              "            Plotly.purge(gd);\n",
              "            observer.disconnect();\n",
              "        }}\n",
              "}});\n",
              "\n",
              "// Listen for the removal of the full notebook cells\n",
              "var notebookContainer = gd.closest('#notebook-container');\n",
              "if (notebookContainer) {{\n",
              "    x.observe(notebookContainer, {childList: true});\n",
              "}}\n",
              "\n",
              "// Listen for the clearing of the current output cell\n",
              "var outputEl = gd.closest('.output');\n",
              "if (outputEl) {{\n",
              "    x.observe(outputEl, {childList: true});\n",
              "}}\n",
              "\n",
              "                        })\n",
              "                };\n",
              "                \n",
              "            </script>\n",
              "        </div>\n",
              "</body>\n",
              "</html>"
            ]
          },
          "metadata": {
            "tags": []
          }
        }
      ]
    },
    {
      "cell_type": "code",
      "metadata": {
        "colab": {
          "base_uri": "https://localhost:8080/"
        },
        "id": "FxluInDhIW7H",
        "outputId": "f0df6359-ade9-4ca5-dae9-9820013fea19"
      },
      "source": [
        "print(study.best_params)"
      ],
      "execution_count": null,
      "outputs": [
        {
          "output_type": "stream",
          "text": [
            "{'reg_alpha': 0.9557349372478526, 'reg_lambda': 0.00565822311014884, 'colsample_bytree': 0.7, 'subsample': 0.7981326760346236, 'learning_rate': 0.04164055940276916, 'max_depth': 29, 'num_leaves': 622, 'min_child_samples': 150, 'min_child_weight': 0.0003566489059353313, 'cat_smooth': 38, 'cat_l2': 3}\n"
          ],
          "name": "stdout"
        }
      ]
    },
    {
      "cell_type": "code",
      "metadata": {
        "colab": {
          "base_uri": "https://localhost:8080/"
        },
        "id": "STyhscwrIZs0",
        "outputId": "a4630728-b083-4da4-95d2-f92f53445034"
      },
      "source": [
        "study.best_value"
      ],
      "execution_count": null,
      "outputs": [
        {
          "output_type": "execute_result",
          "data": {
            "text/plain": [
              "1.088279019087586"
            ]
          },
          "metadata": {
            "tags": []
          },
          "execution_count": 156
        }
      ]
    },
    {
      "cell_type": "code",
      "metadata": {
        "colab": {
          "base_uri": "https://localhost:8080/"
        },
        "id": "gqluuqh-Ed5G",
        "outputId": "142c6d24-a917-4092-a9b3-c22c938b0d23"
      },
      "source": [
        "data = get_input(\"train.csv\")\n",
        "test = get_input(\"test.csv\")\n",
        "sample_submission = get_input(\"sample_submission.csv\")\n",
        "\n",
        "data.drop(columns='id', inplace=True)\n",
        "\n",
        "mapper = {'Class_1': 0, 'Class_2': 1, 'Class_3': 2, 'Class_4': 3}\n",
        "data['target'] = data['target'].map(mapper)\n",
        "\n",
        "train, valid = train_test_split(\n",
        "    data, train_size=0.7, shuffle=True, random_state=1,\n",
        ")\n",
        "\n",
        "train.reset_index(inplace=True, drop=True)\n",
        "valid.reset_index(inplace=True, drop=True)\n",
        "\n",
        "y_train = train['target']\n",
        "x_train = train.drop(columns=['target'])\n",
        "y_valid = valid['target']\n",
        "x_valid = valid.drop(columns=['target'])"
      ],
      "execution_count": 11,
      "outputs": [
        {
          "output_type": "stream",
          "text": [
            "train.csv: shape = 100000 rows, 52 cols\n",
            "test.csv: shape = 50000 rows, 51 cols\n",
            "sample_submission.csv: shape = 50000 rows, 5 cols\n"
          ],
          "name": "stdout"
        }
      ]
    },
    {
      "cell_type": "code",
      "metadata": {
        "colab": {
          "base_uri": "https://localhost:8080/"
        },
        "id": "OzG9PJYQI2aP",
        "outputId": "152d1ada-3018-4192-e52e-82ef53a15957"
      },
      "source": [
        "lgbm_params = {\n",
        "    \"boosting_type \": \"gbdt\",\n",
        "    \"objective\": \"multiclass\",\n",
        "    \"metric\": \"multi_logloss\",\n",
        "    'n_estimators': 1000,\n",
        "    \"learning_rate\": 0.12,\n",
        "    \"reg_lambda\": 100,\n",
        "    \"n_jobs\": -1,\n",
        "    \"seed\": 27,\n",
        "    'device_type': 'cpu',\n",
        "    'num_class': 4,\n",
        "    'random_state': 2,\n",
        "    'lambda_l1': 1.044071701696505e-08, \n",
        "    'lambda_l2': 0.627862736041027, \n",
        "    'num_leaves': 16, \n",
        "    #\"max_depth\": 3,\n",
        "    'feature_fraction': 0.9457112060526248, \n",
        "    'bagging_fraction': 0.6064976789336679, \n",
        "    'bagging_freq': 5, \n",
        "    'min_child_samples': 28\n",
        "}\n",
        "\n",
        "lgbm_params = {\n",
        "    \"boosting_type \": \"gbdt\",\n",
        "    \"objective\": \"multiclass\",\n",
        "    \"metric\": \"multi_logloss\",\n",
        "    'n_estimators': 1000,\n",
        "    'reg_alpha': 0.9557349372478526, \n",
        "    'reg_lambda': 0.00565822311014884, \n",
        "    'colsample_bytree': 0.7, \n",
        "    'subsample': 0.7981326760346236, \n",
        "    'learning_rate': 0.04164055940276916, \n",
        "    'max_depth': 29, \n",
        "    'num_leaves': 622, \n",
        "    'min_child_samples': 150, \n",
        "    'min_child_weight': 0.0003566489059353313, \n",
        "    'cat_smooth': 38, \n",
        "    'cat_l2': 3\n",
        "}\n",
        "\n",
        "lgbm_params = {\n",
        "    \"boosting_type \": \"gbdt\",\n",
        "    \"objective\": \"multiclass\",\n",
        "    \"metric\": \"multi_logloss\",\n",
        "    'n_estimators': 5000,\n",
        "    'reg_alpha': 11.159097442782404, \n",
        "    'reg_lambda': 6.133258909357973e-05, \n",
        "    'colsample_bytree': 0.3, \n",
        "    'subsample': 0.40110232869776463, \n",
        "    'learning_rate': 0.07591597509135133, \n",
        "    #'max_depth': 92, \n",
        "    #'num_leaves': 867,\n",
        "    'max_depth': 8, \n",
        "    'num_leaves': 6, \n",
        "    'min_child_samples': 165, \n",
        "    'min_child_weight': 0.0029014788191160327, \n",
        "    'cat_smooth': 79, \n",
        "    'cat_l2': 3\n",
        "}\n",
        "\n",
        "\n",
        "\n",
        "cv = StratifiedKFold(n_splits=7, random_state=435, shuffle=True)\n",
        "\n",
        "lgb_estimators, lgb_oof = lightgbm_cv_fit(\n",
        "    lgbm_params, x_train, y_train, cv, #categorical=categorical_feature_names\n",
        ")"
      ],
      "execution_count": 34,
      "outputs": [
        {
          "output_type": "stream",
          "text": [
            "Mon May 17 20:29:05 2021, Cross-Validation, 70000 rows, 50 cols\n",
            "Training until validation scores don't improve for 50 rounds.\n",
            "[10]\tvalid_0's multi_logloss: 1.11448\n",
            "[20]\tvalid_0's multi_logloss: 1.11139\n",
            "[30]\tvalid_0's multi_logloss: 1.10881\n",
            "[40]\tvalid_0's multi_logloss: 1.10694\n",
            "[50]\tvalid_0's multi_logloss: 1.10521\n",
            "[60]\tvalid_0's multi_logloss: 1.10365\n",
            "[70]\tvalid_0's multi_logloss: 1.10248\n",
            "[80]\tvalid_0's multi_logloss: 1.10133\n",
            "[90]\tvalid_0's multi_logloss: 1.10036\n",
            "[100]\tvalid_0's multi_logloss: 1.09952\n",
            "[110]\tvalid_0's multi_logloss: 1.09876\n",
            "[120]\tvalid_0's multi_logloss: 1.09804\n",
            "[130]\tvalid_0's multi_logloss: 1.09746\n",
            "[140]\tvalid_0's multi_logloss: 1.0969\n",
            "[150]\tvalid_0's multi_logloss: 1.09631\n",
            "[160]\tvalid_0's multi_logloss: 1.09581\n",
            "[170]\tvalid_0's multi_logloss: 1.09532\n",
            "[180]\tvalid_0's multi_logloss: 1.09502\n",
            "[190]\tvalid_0's multi_logloss: 1.09464\n",
            "[200]\tvalid_0's multi_logloss: 1.09434\n",
            "[210]\tvalid_0's multi_logloss: 1.09407\n",
            "[220]\tvalid_0's multi_logloss: 1.0938\n",
            "[230]\tvalid_0's multi_logloss: 1.09361\n",
            "[240]\tvalid_0's multi_logloss: 1.09339\n",
            "[250]\tvalid_0's multi_logloss: 1.09318\n",
            "[260]\tvalid_0's multi_logloss: 1.09309\n",
            "[270]\tvalid_0's multi_logloss: 1.09291\n",
            "[280]\tvalid_0's multi_logloss: 1.09278\n",
            "[290]\tvalid_0's multi_logloss: 1.09262\n",
            "[300]\tvalid_0's multi_logloss: 1.09255\n",
            "[310]\tvalid_0's multi_logloss: 1.09244\n",
            "[320]\tvalid_0's multi_logloss: 1.09228\n",
            "[330]\tvalid_0's multi_logloss: 1.09217\n",
            "[340]\tvalid_0's multi_logloss: 1.09211\n",
            "[350]\tvalid_0's multi_logloss: 1.09198\n",
            "[360]\tvalid_0's multi_logloss: 1.09191\n",
            "[370]\tvalid_0's multi_logloss: 1.09179\n",
            "[380]\tvalid_0's multi_logloss: 1.09171\n",
            "[390]\tvalid_0's multi_logloss: 1.09159\n",
            "[400]\tvalid_0's multi_logloss: 1.09154\n",
            "[410]\tvalid_0's multi_logloss: 1.09148\n",
            "[420]\tvalid_0's multi_logloss: 1.09141\n",
            "[430]\tvalid_0's multi_logloss: 1.09134\n",
            "[440]\tvalid_0's multi_logloss: 1.09127\n",
            "[450]\tvalid_0's multi_logloss: 1.0913\n",
            "[460]\tvalid_0's multi_logloss: 1.09125\n",
            "[470]\tvalid_0's multi_logloss: 1.09124\n",
            "[480]\tvalid_0's multi_logloss: 1.09115\n",
            "[490]\tvalid_0's multi_logloss: 1.09112\n",
            "[500]\tvalid_0's multi_logloss: 1.09116\n",
            "[510]\tvalid_0's multi_logloss: 1.09118\n",
            "[520]\tvalid_0's multi_logloss: 1.09118\n",
            "[530]\tvalid_0's multi_logloss: 1.09119\n",
            "[540]\tvalid_0's multi_logloss: 1.09113\n",
            "Early stopping, best iteration is:\n",
            "[494]\tvalid_0's multi_logloss: 1.0911\n",
            "Fold 1, Valid score = 1.0911\n",
            "Training until validation scores don't improve for 50 rounds.\n",
            "[10]\tvalid_0's multi_logloss: 1.11496\n",
            "[20]\tvalid_0's multi_logloss: 1.11251\n",
            "[30]\tvalid_0's multi_logloss: 1.11025\n",
            "[40]\tvalid_0's multi_logloss: 1.10852\n",
            "[50]\tvalid_0's multi_logloss: 1.10711\n",
            "[60]\tvalid_0's multi_logloss: 1.10577\n",
            "[70]\tvalid_0's multi_logloss: 1.10483\n",
            "[80]\tvalid_0's multi_logloss: 1.10394\n",
            "[90]\tvalid_0's multi_logloss: 1.10311\n",
            "[100]\tvalid_0's multi_logloss: 1.10239\n",
            "[110]\tvalid_0's multi_logloss: 1.10167\n",
            "[120]\tvalid_0's multi_logloss: 1.10108\n",
            "[130]\tvalid_0's multi_logloss: 1.10063\n",
            "[140]\tvalid_0's multi_logloss: 1.10019\n",
            "[150]\tvalid_0's multi_logloss: 1.09973\n",
            "[160]\tvalid_0's multi_logloss: 1.09941\n",
            "[170]\tvalid_0's multi_logloss: 1.09908\n",
            "[180]\tvalid_0's multi_logloss: 1.09874\n",
            "[190]\tvalid_0's multi_logloss: 1.09842\n",
            "[200]\tvalid_0's multi_logloss: 1.09812\n",
            "[210]\tvalid_0's multi_logloss: 1.09789\n",
            "[220]\tvalid_0's multi_logloss: 1.09765\n",
            "[230]\tvalid_0's multi_logloss: 1.09742\n",
            "[240]\tvalid_0's multi_logloss: 1.09722\n",
            "[250]\tvalid_0's multi_logloss: 1.09705\n",
            "[260]\tvalid_0's multi_logloss: 1.09686\n",
            "[270]\tvalid_0's multi_logloss: 1.09668\n",
            "[280]\tvalid_0's multi_logloss: 1.09647\n",
            "[290]\tvalid_0's multi_logloss: 1.09631\n",
            "[300]\tvalid_0's multi_logloss: 1.0962\n",
            "[310]\tvalid_0's multi_logloss: 1.09609\n",
            "[320]\tvalid_0's multi_logloss: 1.09599\n",
            "[330]\tvalid_0's multi_logloss: 1.09589\n",
            "[340]\tvalid_0's multi_logloss: 1.0958\n",
            "[350]\tvalid_0's multi_logloss: 1.0957\n",
            "[360]\tvalid_0's multi_logloss: 1.09564\n",
            "[370]\tvalid_0's multi_logloss: 1.09554\n",
            "[380]\tvalid_0's multi_logloss: 1.09544\n",
            "[390]\tvalid_0's multi_logloss: 1.09539\n",
            "[400]\tvalid_0's multi_logloss: 1.09533\n",
            "[410]\tvalid_0's multi_logloss: 1.09526\n",
            "[420]\tvalid_0's multi_logloss: 1.09519\n",
            "[430]\tvalid_0's multi_logloss: 1.09516\n",
            "[440]\tvalid_0's multi_logloss: 1.09507\n",
            "[450]\tvalid_0's multi_logloss: 1.09502\n",
            "[460]\tvalid_0's multi_logloss: 1.09499\n",
            "[470]\tvalid_0's multi_logloss: 1.09494\n",
            "[480]\tvalid_0's multi_logloss: 1.09489\n",
            "[490]\tvalid_0's multi_logloss: 1.0949\n",
            "[500]\tvalid_0's multi_logloss: 1.09487\n",
            "[510]\tvalid_0's multi_logloss: 1.09483\n",
            "[520]\tvalid_0's multi_logloss: 1.09479\n",
            "[530]\tvalid_0's multi_logloss: 1.09475\n",
            "[540]\tvalid_0's multi_logloss: 1.09467\n",
            "[550]\tvalid_0's multi_logloss: 1.09466\n",
            "[560]\tvalid_0's multi_logloss: 1.09464\n",
            "[570]\tvalid_0's multi_logloss: 1.09461\n",
            "[580]\tvalid_0's multi_logloss: 1.09457\n",
            "[590]\tvalid_0's multi_logloss: 1.09458\n",
            "[600]\tvalid_0's multi_logloss: 1.09457\n",
            "[610]\tvalid_0's multi_logloss: 1.09456\n",
            "[620]\tvalid_0's multi_logloss: 1.09455\n",
            "[630]\tvalid_0's multi_logloss: 1.09451\n",
            "[640]\tvalid_0's multi_logloss: 1.09449\n",
            "[650]\tvalid_0's multi_logloss: 1.09449\n",
            "[660]\tvalid_0's multi_logloss: 1.09448\n",
            "[670]\tvalid_0's multi_logloss: 1.09445\n",
            "[680]\tvalid_0's multi_logloss: 1.09443\n",
            "[690]\tvalid_0's multi_logloss: 1.09442\n",
            "[700]\tvalid_0's multi_logloss: 1.09445\n",
            "[710]\tvalid_0's multi_logloss: 1.09445\n",
            "[720]\tvalid_0's multi_logloss: 1.09441\n",
            "[730]\tvalid_0's multi_logloss: 1.09443\n",
            "[740]\tvalid_0's multi_logloss: 1.09446\n",
            "[750]\tvalid_0's multi_logloss: 1.0944\n",
            "[760]\tvalid_0's multi_logloss: 1.09442\n",
            "[770]\tvalid_0's multi_logloss: 1.09441\n",
            "[780]\tvalid_0's multi_logloss: 1.0944\n",
            "[790]\tvalid_0's multi_logloss: 1.0944\n",
            "[800]\tvalid_0's multi_logloss: 1.09439\n",
            "[810]\tvalid_0's multi_logloss: 1.09436\n",
            "[820]\tvalid_0's multi_logloss: 1.09435\n",
            "[830]\tvalid_0's multi_logloss: 1.09438\n",
            "[840]\tvalid_0's multi_logloss: 1.09437\n",
            "[850]\tvalid_0's multi_logloss: 1.09435\n",
            "[860]\tvalid_0's multi_logloss: 1.09431\n",
            "[870]\tvalid_0's multi_logloss: 1.09433\n",
            "[880]\tvalid_0's multi_logloss: 1.09426\n",
            "[890]\tvalid_0's multi_logloss: 1.09427\n",
            "[900]\tvalid_0's multi_logloss: 1.09425\n",
            "[910]\tvalid_0's multi_logloss: 1.09424\n",
            "[920]\tvalid_0's multi_logloss: 1.09424\n",
            "[930]\tvalid_0's multi_logloss: 1.09423\n",
            "[940]\tvalid_0's multi_logloss: 1.09422\n",
            "[950]\tvalid_0's multi_logloss: 1.09416\n",
            "[960]\tvalid_0's multi_logloss: 1.09416\n",
            "[970]\tvalid_0's multi_logloss: 1.09413\n",
            "[980]\tvalid_0's multi_logloss: 1.09411\n",
            "[990]\tvalid_0's multi_logloss: 1.09411\n",
            "[1000]\tvalid_0's multi_logloss: 1.09411\n",
            "[1010]\tvalid_0's multi_logloss: 1.09411\n",
            "[1020]\tvalid_0's multi_logloss: 1.0941\n",
            "[1030]\tvalid_0's multi_logloss: 1.09406\n",
            "[1040]\tvalid_0's multi_logloss: 1.09404\n",
            "[1050]\tvalid_0's multi_logloss: 1.09405\n",
            "[1060]\tvalid_0's multi_logloss: 1.09405\n",
            "[1070]\tvalid_0's multi_logloss: 1.09407\n",
            "[1080]\tvalid_0's multi_logloss: 1.09405\n",
            "Early stopping, best iteration is:\n",
            "[1036]\tvalid_0's multi_logloss: 1.09403\n",
            "Fold 2, Valid score = 1.09403\n",
            "Training until validation scores don't improve for 50 rounds.\n",
            "[10]\tvalid_0's multi_logloss: 1.11494\n",
            "[20]\tvalid_0's multi_logloss: 1.11205\n",
            "[30]\tvalid_0's multi_logloss: 1.10967\n",
            "[40]\tvalid_0's multi_logloss: 1.10784\n",
            "[50]\tvalid_0's multi_logloss: 1.10642\n",
            "[60]\tvalid_0's multi_logloss: 1.10502\n",
            "[70]\tvalid_0's multi_logloss: 1.10387\n",
            "[80]\tvalid_0's multi_logloss: 1.10273\n",
            "[90]\tvalid_0's multi_logloss: 1.10177\n",
            "[100]\tvalid_0's multi_logloss: 1.10093\n",
            "[110]\tvalid_0's multi_logloss: 1.10011\n",
            "[120]\tvalid_0's multi_logloss: 1.09947\n",
            "[130]\tvalid_0's multi_logloss: 1.09876\n",
            "[140]\tvalid_0's multi_logloss: 1.09822\n",
            "[150]\tvalid_0's multi_logloss: 1.09772\n",
            "[160]\tvalid_0's multi_logloss: 1.09727\n",
            "[170]\tvalid_0's multi_logloss: 1.09681\n",
            "[180]\tvalid_0's multi_logloss: 1.09635\n",
            "[190]\tvalid_0's multi_logloss: 1.09599\n",
            "[200]\tvalid_0's multi_logloss: 1.09561\n",
            "[210]\tvalid_0's multi_logloss: 1.09534\n",
            "[220]\tvalid_0's multi_logloss: 1.09507\n",
            "[230]\tvalid_0's multi_logloss: 1.09484\n",
            "[240]\tvalid_0's multi_logloss: 1.09459\n",
            "[250]\tvalid_0's multi_logloss: 1.09445\n",
            "[260]\tvalid_0's multi_logloss: 1.09426\n",
            "[270]\tvalid_0's multi_logloss: 1.09411\n",
            "[280]\tvalid_0's multi_logloss: 1.09391\n",
            "[290]\tvalid_0's multi_logloss: 1.09373\n",
            "[300]\tvalid_0's multi_logloss: 1.09359\n",
            "[310]\tvalid_0's multi_logloss: 1.0934\n",
            "[320]\tvalid_0's multi_logloss: 1.09332\n",
            "[330]\tvalid_0's multi_logloss: 1.09323\n",
            "[340]\tvalid_0's multi_logloss: 1.09313\n",
            "[350]\tvalid_0's multi_logloss: 1.09304\n",
            "[360]\tvalid_0's multi_logloss: 1.09296\n",
            "[370]\tvalid_0's multi_logloss: 1.09291\n",
            "[380]\tvalid_0's multi_logloss: 1.09287\n",
            "[390]\tvalid_0's multi_logloss: 1.09282\n",
            "[400]\tvalid_0's multi_logloss: 1.09276\n",
            "[410]\tvalid_0's multi_logloss: 1.09271\n",
            "[420]\tvalid_0's multi_logloss: 1.0927\n",
            "[430]\tvalid_0's multi_logloss: 1.09261\n",
            "[440]\tvalid_0's multi_logloss: 1.09258\n",
            "[450]\tvalid_0's multi_logloss: 1.09255\n",
            "[460]\tvalid_0's multi_logloss: 1.09253\n",
            "[470]\tvalid_0's multi_logloss: 1.09246\n",
            "[480]\tvalid_0's multi_logloss: 1.09242\n",
            "[490]\tvalid_0's multi_logloss: 1.09239\n",
            "[500]\tvalid_0's multi_logloss: 1.09237\n",
            "[510]\tvalid_0's multi_logloss: 1.09239\n",
            "[520]\tvalid_0's multi_logloss: 1.09236\n",
            "[530]\tvalid_0's multi_logloss: 1.09231\n",
            "[540]\tvalid_0's multi_logloss: 1.0923\n",
            "[550]\tvalid_0's multi_logloss: 1.09225\n",
            "[560]\tvalid_0's multi_logloss: 1.09229\n",
            "[570]\tvalid_0's multi_logloss: 1.09228\n",
            "[580]\tvalid_0's multi_logloss: 1.09229\n",
            "[590]\tvalid_0's multi_logloss: 1.09228\n",
            "[600]\tvalid_0's multi_logloss: 1.09227\n",
            "[610]\tvalid_0's multi_logloss: 1.09229\n",
            "[620]\tvalid_0's multi_logloss: 1.09228\n",
            "[630]\tvalid_0's multi_logloss: 1.09226\n",
            "Early stopping, best iteration is:\n",
            "[585]\tvalid_0's multi_logloss: 1.09224\n",
            "Fold 3, Valid score = 1.09224\n",
            "Training until validation scores don't improve for 50 rounds.\n",
            "[10]\tvalid_0's multi_logloss: 1.11488\n",
            "[20]\tvalid_0's multi_logloss: 1.11219\n",
            "[30]\tvalid_0's multi_logloss: 1.10981\n",
            "[40]\tvalid_0's multi_logloss: 1.10796\n",
            "[50]\tvalid_0's multi_logloss: 1.10631\n",
            "[60]\tvalid_0's multi_logloss: 1.10493\n",
            "[70]\tvalid_0's multi_logloss: 1.10372\n",
            "[80]\tvalid_0's multi_logloss: 1.10266\n",
            "[90]\tvalid_0's multi_logloss: 1.10171\n",
            "[100]\tvalid_0's multi_logloss: 1.10093\n",
            "[110]\tvalid_0's multi_logloss: 1.10008\n",
            "[120]\tvalid_0's multi_logloss: 1.09937\n",
            "[130]\tvalid_0's multi_logloss: 1.09876\n",
            "[140]\tvalid_0's multi_logloss: 1.0982\n",
            "[150]\tvalid_0's multi_logloss: 1.09768\n",
            "[160]\tvalid_0's multi_logloss: 1.09723\n",
            "[170]\tvalid_0's multi_logloss: 1.09677\n",
            "[180]\tvalid_0's multi_logloss: 1.09638\n",
            "[190]\tvalid_0's multi_logloss: 1.09603\n",
            "[200]\tvalid_0's multi_logloss: 1.09572\n",
            "[210]\tvalid_0's multi_logloss: 1.09542\n",
            "[220]\tvalid_0's multi_logloss: 1.09517\n",
            "[230]\tvalid_0's multi_logloss: 1.09488\n",
            "[240]\tvalid_0's multi_logloss: 1.09467\n",
            "[250]\tvalid_0's multi_logloss: 1.09447\n",
            "[260]\tvalid_0's multi_logloss: 1.09426\n",
            "[270]\tvalid_0's multi_logloss: 1.0941\n",
            "[280]\tvalid_0's multi_logloss: 1.09391\n",
            "[290]\tvalid_0's multi_logloss: 1.09381\n",
            "[300]\tvalid_0's multi_logloss: 1.09367\n",
            "[310]\tvalid_0's multi_logloss: 1.09351\n",
            "[320]\tvalid_0's multi_logloss: 1.09335\n",
            "[330]\tvalid_0's multi_logloss: 1.09321\n",
            "[340]\tvalid_0's multi_logloss: 1.09312\n",
            "[350]\tvalid_0's multi_logloss: 1.09301\n",
            "[360]\tvalid_0's multi_logloss: 1.09292\n",
            "[370]\tvalid_0's multi_logloss: 1.09282\n",
            "[380]\tvalid_0's multi_logloss: 1.09272\n",
            "[390]\tvalid_0's multi_logloss: 1.09269\n",
            "[400]\tvalid_0's multi_logloss: 1.09263\n",
            "[410]\tvalid_0's multi_logloss: 1.09253\n",
            "[420]\tvalid_0's multi_logloss: 1.09246\n",
            "[430]\tvalid_0's multi_logloss: 1.09239\n",
            "[440]\tvalid_0's multi_logloss: 1.09236\n",
            "[450]\tvalid_0's multi_logloss: 1.09234\n",
            "[460]\tvalid_0's multi_logloss: 1.09234\n",
            "[470]\tvalid_0's multi_logloss: 1.09229\n",
            "[480]\tvalid_0's multi_logloss: 1.09223\n",
            "[490]\tvalid_0's multi_logloss: 1.09218\n",
            "[500]\tvalid_0's multi_logloss: 1.09216\n",
            "[510]\tvalid_0's multi_logloss: 1.09214\n",
            "[520]\tvalid_0's multi_logloss: 1.09212\n",
            "[530]\tvalid_0's multi_logloss: 1.09211\n",
            "[540]\tvalid_0's multi_logloss: 1.09208\n",
            "[550]\tvalid_0's multi_logloss: 1.09205\n",
            "[560]\tvalid_0's multi_logloss: 1.09203\n",
            "[570]\tvalid_0's multi_logloss: 1.092\n",
            "[580]\tvalid_0's multi_logloss: 1.09198\n",
            "[590]\tvalid_0's multi_logloss: 1.09197\n",
            "[600]\tvalid_0's multi_logloss: 1.09197\n",
            "[610]\tvalid_0's multi_logloss: 1.09193\n",
            "[620]\tvalid_0's multi_logloss: 1.09184\n",
            "[630]\tvalid_0's multi_logloss: 1.09185\n",
            "[640]\tvalid_0's multi_logloss: 1.0918\n",
            "[650]\tvalid_0's multi_logloss: 1.09178\n",
            "[660]\tvalid_0's multi_logloss: 1.09175\n",
            "[670]\tvalid_0's multi_logloss: 1.09172\n",
            "[680]\tvalid_0's multi_logloss: 1.09169\n",
            "[690]\tvalid_0's multi_logloss: 1.0917\n",
            "[700]\tvalid_0's multi_logloss: 1.09169\n",
            "[710]\tvalid_0's multi_logloss: 1.09169\n",
            "[720]\tvalid_0's multi_logloss: 1.09166\n",
            "[730]\tvalid_0's multi_logloss: 1.09165\n",
            "[740]\tvalid_0's multi_logloss: 1.09164\n",
            "[750]\tvalid_0's multi_logloss: 1.09161\n",
            "[760]\tvalid_0's multi_logloss: 1.09157\n",
            "[770]\tvalid_0's multi_logloss: 1.09157\n",
            "[780]\tvalid_0's multi_logloss: 1.09156\n",
            "[790]\tvalid_0's multi_logloss: 1.09154\n",
            "[800]\tvalid_0's multi_logloss: 1.09154\n",
            "[810]\tvalid_0's multi_logloss: 1.09154\n",
            "[820]\tvalid_0's multi_logloss: 1.09152\n",
            "[830]\tvalid_0's multi_logloss: 1.0915\n",
            "[840]\tvalid_0's multi_logloss: 1.09151\n",
            "[850]\tvalid_0's multi_logloss: 1.0915\n",
            "[860]\tvalid_0's multi_logloss: 1.09148\n",
            "[870]\tvalid_0's multi_logloss: 1.09144\n",
            "[880]\tvalid_0's multi_logloss: 1.09146\n",
            "[890]\tvalid_0's multi_logloss: 1.09141\n",
            "[900]\tvalid_0's multi_logloss: 1.09142\n",
            "[910]\tvalid_0's multi_logloss: 1.09141\n",
            "[920]\tvalid_0's multi_logloss: 1.0914\n",
            "[930]\tvalid_0's multi_logloss: 1.09137\n",
            "[940]\tvalid_0's multi_logloss: 1.09137\n",
            "[950]\tvalid_0's multi_logloss: 1.09138\n",
            "[960]\tvalid_0's multi_logloss: 1.09136\n",
            "[970]\tvalid_0's multi_logloss: 1.09135\n",
            "[980]\tvalid_0's multi_logloss: 1.09137\n",
            "[990]\tvalid_0's multi_logloss: 1.09138\n",
            "[1000]\tvalid_0's multi_logloss: 1.09136\n",
            "[1010]\tvalid_0's multi_logloss: 1.09133\n",
            "[1020]\tvalid_0's multi_logloss: 1.09131\n",
            "[1030]\tvalid_0's multi_logloss: 1.09133\n",
            "[1040]\tvalid_0's multi_logloss: 1.09131\n",
            "[1050]\tvalid_0's multi_logloss: 1.09129\n",
            "[1060]\tvalid_0's multi_logloss: 1.0913\n",
            "[1070]\tvalid_0's multi_logloss: 1.09131\n",
            "[1080]\tvalid_0's multi_logloss: 1.09128\n",
            "[1090]\tvalid_0's multi_logloss: 1.09132\n",
            "[1100]\tvalid_0's multi_logloss: 1.09131\n",
            "Early stopping, best iteration is:\n",
            "[1053]\tvalid_0's multi_logloss: 1.09128\n",
            "Fold 4, Valid score = 1.09128\n",
            "Training until validation scores don't improve for 50 rounds.\n",
            "[10]\tvalid_0's multi_logloss: 1.11485\n",
            "[20]\tvalid_0's multi_logloss: 1.11221\n",
            "[30]\tvalid_0's multi_logloss: 1.10972\n",
            "[40]\tvalid_0's multi_logloss: 1.10782\n",
            "[50]\tvalid_0's multi_logloss: 1.10612\n",
            "[60]\tvalid_0's multi_logloss: 1.10468\n",
            "[70]\tvalid_0's multi_logloss: 1.10352\n",
            "[80]\tvalid_0's multi_logloss: 1.10245\n",
            "[90]\tvalid_0's multi_logloss: 1.10156\n",
            "[100]\tvalid_0's multi_logloss: 1.10082\n",
            "[110]\tvalid_0's multi_logloss: 1.10008\n",
            "[120]\tvalid_0's multi_logloss: 1.0995\n",
            "[130]\tvalid_0's multi_logloss: 1.09885\n",
            "[140]\tvalid_0's multi_logloss: 1.09838\n",
            "[150]\tvalid_0's multi_logloss: 1.09798\n",
            "[160]\tvalid_0's multi_logloss: 1.09752\n",
            "[170]\tvalid_0's multi_logloss: 1.09712\n",
            "[180]\tvalid_0's multi_logloss: 1.09675\n",
            "[190]\tvalid_0's multi_logloss: 1.09644\n",
            "[200]\tvalid_0's multi_logloss: 1.09609\n",
            "[210]\tvalid_0's multi_logloss: 1.09581\n",
            "[220]\tvalid_0's multi_logloss: 1.09555\n",
            "[230]\tvalid_0's multi_logloss: 1.09532\n",
            "[240]\tvalid_0's multi_logloss: 1.09514\n",
            "[250]\tvalid_0's multi_logloss: 1.09494\n",
            "[260]\tvalid_0's multi_logloss: 1.0948\n",
            "[270]\tvalid_0's multi_logloss: 1.09457\n",
            "[280]\tvalid_0's multi_logloss: 1.09443\n",
            "[290]\tvalid_0's multi_logloss: 1.09422\n",
            "[300]\tvalid_0's multi_logloss: 1.09412\n",
            "[310]\tvalid_0's multi_logloss: 1.094\n",
            "[320]\tvalid_0's multi_logloss: 1.09389\n",
            "[330]\tvalid_0's multi_logloss: 1.09376\n",
            "[340]\tvalid_0's multi_logloss: 1.09369\n",
            "[350]\tvalid_0's multi_logloss: 1.09365\n",
            "[360]\tvalid_0's multi_logloss: 1.09369\n",
            "[370]\tvalid_0's multi_logloss: 1.09357\n",
            "[380]\tvalid_0's multi_logloss: 1.09355\n",
            "[390]\tvalid_0's multi_logloss: 1.09353\n",
            "[400]\tvalid_0's multi_logloss: 1.09347\n",
            "[410]\tvalid_0's multi_logloss: 1.09343\n",
            "[420]\tvalid_0's multi_logloss: 1.09339\n",
            "[430]\tvalid_0's multi_logloss: 1.09336\n",
            "[440]\tvalid_0's multi_logloss: 1.0933\n",
            "[450]\tvalid_0's multi_logloss: 1.0933\n",
            "[460]\tvalid_0's multi_logloss: 1.09325\n",
            "[470]\tvalid_0's multi_logloss: 1.09321\n",
            "[480]\tvalid_0's multi_logloss: 1.09321\n",
            "[490]\tvalid_0's multi_logloss: 1.09319\n",
            "[500]\tvalid_0's multi_logloss: 1.09314\n",
            "[510]\tvalid_0's multi_logloss: 1.09313\n",
            "[520]\tvalid_0's multi_logloss: 1.09313\n",
            "[530]\tvalid_0's multi_logloss: 1.09314\n",
            "[540]\tvalid_0's multi_logloss: 1.09315\n",
            "[550]\tvalid_0's multi_logloss: 1.09316\n",
            "Early stopping, best iteration is:\n",
            "[505]\tvalid_0's multi_logloss: 1.0931\n",
            "Fold 5, Valid score = 1.0931\n",
            "Training until validation scores don't improve for 50 rounds.\n",
            "[10]\tvalid_0's multi_logloss: 1.11512\n",
            "[20]\tvalid_0's multi_logloss: 1.11257\n",
            "[30]\tvalid_0's multi_logloss: 1.11045\n",
            "[40]\tvalid_0's multi_logloss: 1.1088\n",
            "[50]\tvalid_0's multi_logloss: 1.10739\n",
            "[60]\tvalid_0's multi_logloss: 1.10618\n",
            "[70]\tvalid_0's multi_logloss: 1.10517\n",
            "[80]\tvalid_0's multi_logloss: 1.10428\n",
            "[90]\tvalid_0's multi_logloss: 1.1034\n",
            "[100]\tvalid_0's multi_logloss: 1.10274\n",
            "[110]\tvalid_0's multi_logloss: 1.10208\n",
            "[120]\tvalid_0's multi_logloss: 1.10144\n",
            "[130]\tvalid_0's multi_logloss: 1.10077\n",
            "[140]\tvalid_0's multi_logloss: 1.10028\n",
            "[150]\tvalid_0's multi_logloss: 1.09981\n",
            "[160]\tvalid_0's multi_logloss: 1.09938\n",
            "[170]\tvalid_0's multi_logloss: 1.09894\n",
            "[180]\tvalid_0's multi_logloss: 1.09856\n",
            "[190]\tvalid_0's multi_logloss: 1.09827\n",
            "[200]\tvalid_0's multi_logloss: 1.0979\n",
            "[210]\tvalid_0's multi_logloss: 1.09776\n",
            "[220]\tvalid_0's multi_logloss: 1.09747\n",
            "[230]\tvalid_0's multi_logloss: 1.0972\n",
            "[240]\tvalid_0's multi_logloss: 1.09706\n",
            "[250]\tvalid_0's multi_logloss: 1.09688\n",
            "[260]\tvalid_0's multi_logloss: 1.09671\n",
            "[270]\tvalid_0's multi_logloss: 1.09647\n",
            "[280]\tvalid_0's multi_logloss: 1.09634\n",
            "[290]\tvalid_0's multi_logloss: 1.09619\n",
            "[300]\tvalid_0's multi_logloss: 1.0961\n",
            "[310]\tvalid_0's multi_logloss: 1.09602\n",
            "[320]\tvalid_0's multi_logloss: 1.09592\n",
            "[330]\tvalid_0's multi_logloss: 1.09582\n",
            "[340]\tvalid_0's multi_logloss: 1.09576\n",
            "[350]\tvalid_0's multi_logloss: 1.09567\n",
            "[360]\tvalid_0's multi_logloss: 1.09563\n",
            "[370]\tvalid_0's multi_logloss: 1.09557\n",
            "[380]\tvalid_0's multi_logloss: 1.09549\n",
            "[390]\tvalid_0's multi_logloss: 1.09543\n",
            "[400]\tvalid_0's multi_logloss: 1.09535\n",
            "[410]\tvalid_0's multi_logloss: 1.09529\n",
            "[420]\tvalid_0's multi_logloss: 1.09521\n",
            "[430]\tvalid_0's multi_logloss: 1.09519\n",
            "[440]\tvalid_0's multi_logloss: 1.09514\n",
            "[450]\tvalid_0's multi_logloss: 1.09507\n",
            "[460]\tvalid_0's multi_logloss: 1.09504\n",
            "[470]\tvalid_0's multi_logloss: 1.09501\n",
            "[480]\tvalid_0's multi_logloss: 1.09504\n",
            "[490]\tvalid_0's multi_logloss: 1.09498\n",
            "[500]\tvalid_0's multi_logloss: 1.09493\n",
            "[510]\tvalid_0's multi_logloss: 1.09489\n",
            "[520]\tvalid_0's multi_logloss: 1.09487\n",
            "[530]\tvalid_0's multi_logloss: 1.09486\n",
            "[540]\tvalid_0's multi_logloss: 1.09483\n",
            "[550]\tvalid_0's multi_logloss: 1.09479\n",
            "[560]\tvalid_0's multi_logloss: 1.09477\n",
            "[570]\tvalid_0's multi_logloss: 1.09476\n",
            "[580]\tvalid_0's multi_logloss: 1.09476\n",
            "[590]\tvalid_0's multi_logloss: 1.09474\n",
            "[600]\tvalid_0's multi_logloss: 1.09473\n",
            "[610]\tvalid_0's multi_logloss: 1.09472\n",
            "[620]\tvalid_0's multi_logloss: 1.09469\n",
            "[630]\tvalid_0's multi_logloss: 1.0947\n",
            "[640]\tvalid_0's multi_logloss: 1.09468\n",
            "[650]\tvalid_0's multi_logloss: 1.09464\n",
            "[660]\tvalid_0's multi_logloss: 1.0946\n",
            "[670]\tvalid_0's multi_logloss: 1.09458\n",
            "[680]\tvalid_0's multi_logloss: 1.09454\n",
            "[690]\tvalid_0's multi_logloss: 1.09459\n",
            "[700]\tvalid_0's multi_logloss: 1.09463\n",
            "[710]\tvalid_0's multi_logloss: 1.09466\n",
            "[720]\tvalid_0's multi_logloss: 1.09465\n",
            "Early stopping, best iteration is:\n",
            "[677]\tvalid_0's multi_logloss: 1.09453\n",
            "Fold 6, Valid score = 1.09453\n",
            "Training until validation scores don't improve for 50 rounds.\n",
            "[10]\tvalid_0's multi_logloss: 1.11487\n",
            "[20]\tvalid_0's multi_logloss: 1.11208\n",
            "[30]\tvalid_0's multi_logloss: 1.10969\n",
            "[40]\tvalid_0's multi_logloss: 1.10771\n",
            "[50]\tvalid_0's multi_logloss: 1.10609\n",
            "[60]\tvalid_0's multi_logloss: 1.10469\n",
            "[70]\tvalid_0's multi_logloss: 1.10343\n",
            "[80]\tvalid_0's multi_logloss: 1.1024\n",
            "[90]\tvalid_0's multi_logloss: 1.10147\n",
            "[100]\tvalid_0's multi_logloss: 1.10059\n",
            "[110]\tvalid_0's multi_logloss: 1.09989\n",
            "[120]\tvalid_0's multi_logloss: 1.0992\n",
            "[130]\tvalid_0's multi_logloss: 1.0987\n",
            "[140]\tvalid_0's multi_logloss: 1.09807\n",
            "[150]\tvalid_0's multi_logloss: 1.09753\n",
            "[160]\tvalid_0's multi_logloss: 1.09707\n",
            "[170]\tvalid_0's multi_logloss: 1.09673\n",
            "[180]\tvalid_0's multi_logloss: 1.09636\n",
            "[190]\tvalid_0's multi_logloss: 1.09611\n",
            "[200]\tvalid_0's multi_logloss: 1.09587\n",
            "[210]\tvalid_0's multi_logloss: 1.09563\n",
            "[220]\tvalid_0's multi_logloss: 1.09533\n",
            "[230]\tvalid_0's multi_logloss: 1.09507\n",
            "[240]\tvalid_0's multi_logloss: 1.09487\n",
            "[250]\tvalid_0's multi_logloss: 1.09467\n",
            "[260]\tvalid_0's multi_logloss: 1.09457\n",
            "[270]\tvalid_0's multi_logloss: 1.09443\n",
            "[280]\tvalid_0's multi_logloss: 1.09433\n",
            "[290]\tvalid_0's multi_logloss: 1.09421\n",
            "[300]\tvalid_0's multi_logloss: 1.0941\n",
            "[310]\tvalid_0's multi_logloss: 1.09397\n",
            "[320]\tvalid_0's multi_logloss: 1.0939\n",
            "[330]\tvalid_0's multi_logloss: 1.0938\n",
            "[340]\tvalid_0's multi_logloss: 1.09366\n",
            "[350]\tvalid_0's multi_logloss: 1.09362\n",
            "[360]\tvalid_0's multi_logloss: 1.09352\n",
            "[370]\tvalid_0's multi_logloss: 1.09349\n",
            "[380]\tvalid_0's multi_logloss: 1.09342\n",
            "[390]\tvalid_0's multi_logloss: 1.09339\n",
            "[400]\tvalid_0's multi_logloss: 1.09331\n",
            "[410]\tvalid_0's multi_logloss: 1.09326\n",
            "[420]\tvalid_0's multi_logloss: 1.09321\n",
            "[430]\tvalid_0's multi_logloss: 1.09316\n",
            "[440]\tvalid_0's multi_logloss: 1.09311\n",
            "[450]\tvalid_0's multi_logloss: 1.09308\n",
            "[460]\tvalid_0's multi_logloss: 1.09304\n",
            "[470]\tvalid_0's multi_logloss: 1.09298\n",
            "[480]\tvalid_0's multi_logloss: 1.09292\n",
            "[490]\tvalid_0's multi_logloss: 1.09292\n",
            "[500]\tvalid_0's multi_logloss: 1.09288\n",
            "[510]\tvalid_0's multi_logloss: 1.0929\n",
            "[520]\tvalid_0's multi_logloss: 1.09291\n",
            "[530]\tvalid_0's multi_logloss: 1.09291\n",
            "[540]\tvalid_0's multi_logloss: 1.09291\n",
            "[550]\tvalid_0's multi_logloss: 1.09289\n",
            "[560]\tvalid_0's multi_logloss: 1.09286\n",
            "[570]\tvalid_0's multi_logloss: 1.09284\n",
            "[580]\tvalid_0's multi_logloss: 1.09281\n",
            "[590]\tvalid_0's multi_logloss: 1.09279\n",
            "[600]\tvalid_0's multi_logloss: 1.0928\n",
            "[610]\tvalid_0's multi_logloss: 1.09281\n",
            "[620]\tvalid_0's multi_logloss: 1.0928\n",
            "[630]\tvalid_0's multi_logloss: 1.09279\n",
            "[640]\tvalid_0's multi_logloss: 1.09281\n",
            "Early stopping, best iteration is:\n",
            "[595]\tvalid_0's multi_logloss: 1.09278\n",
            "Fold 7, Valid score = 1.09278\n",
            "Score by each fold: [1.0911, 1.09403, 1.09224, 1.09128, 1.0931, 1.09453, 1.09278]\n",
            "=================================================================\n"
          ],
          "name": "stdout"
        }
      ]
    },
    {
      "cell_type": "code",
      "metadata": {
        "colab": {
          "base_uri": "https://localhost:8080/"
        },
        "id": "5PbaQ1sEJU_6",
        "outputId": "457c35eb-9978-4938-b3c5-d3852506ce51"
      },
      "source": [
        "print(f\"Out of fold log loss {metrics.log_loss(y_train, lgb_oof)}\")"
      ],
      "execution_count": 35,
      "outputs": [
        {
          "output_type": "stream",
          "text": [
            "Out of fold log loss 1.0927230279706703\n"
          ],
          "name": "stdout"
        }
      ]
    },
    {
      "cell_type": "code",
      "metadata": {
        "colab": {
          "base_uri": "https://localhost:8080/"
        },
        "id": "7KN5z-ZqJV_-",
        "outputId": "6edc8314-4711-4877-ba25-88fa668b43ff"
      },
      "source": [
        "result_lgbm = multi_estimators_predict(lgb_estimators, x_valid, y_valid, metrics.log_loss)"
      ],
      "execution_count": 36,
      "outputs": [
        {
          "output_type": "stream",
          "text": [
            "Model 0 metric: 1.090256\n",
            "Model 1 metric: 1.089374\n",
            "Model 2 metric: 1.090248\n",
            "Model 3 metric: 1.090099\n",
            "Model 4 metric: 1.090486\n",
            "Model 5 metric: 1.089739\n",
            "Model 6 metric: 1.090338\n",
            "Result model metric: 1.089295\n"
          ],
          "name": "stdout"
        }
      ]
    },
    {
      "cell_type": "markdown",
      "metadata": {
        "id": "qPaUz2_WNuTm"
      },
      "source": [
        "### Catboost"
      ]
    },
    {
      "cell_type": "code",
      "metadata": {
        "colab": {
          "base_uri": "https://localhost:8080/"
        },
        "id": "zgLfhw0WxEPH",
        "outputId": "4a9bfbb8-939c-4485-d66f-ccc7f75291c8"
      },
      "source": [
        "cb_params = {\n",
        "    \"n_estimators\": 5000,\n",
        "    \"loss_function\": \"MultiClass\",\n",
        "    \"eval_metric\": \"MultiClass\",\n",
        "    \"task_type\": \"CPU\",\n",
        "    'learning_rate': 0.08992656195498482, \n",
        "    'reg_lambda': 27.77866189042851, \n",
        "    'subsample': 0.6044483085727145, \n",
        "    'random_strength': 0.5855495663972144, \n",
        "    'depth': 3, \n",
        "    'min_data_in_leaf': 25, \n",
        "    'leaf_estimation_iterations': 1,\n",
        "    'bootstrap_type': 'Bernoulli',\n",
        "    'leaf_estimation_method': 'Newton',\n",
        "}\n",
        "\n",
        "cv = StratifiedKFold(n_splits=7, random_state=435, shuffle=True)\n",
        "\n",
        "cb_estimators, cb_oof = catboost_cv_fit(\n",
        "    cb_params, x_train, y_train, cv, #categorical=categorical_feature_names\n",
        ")"
      ],
      "execution_count": 37,
      "outputs": [
        {
          "output_type": "stream",
          "text": [
            "Mon May 17 20:32:36 2021, Cross-Validation, 70000 rows, 50 cols\n",
            "0:\tlearn: 1.3351753\ttest: 1.3352115\tbest: 1.3352115 (0)\ttotal: 86.7ms\tremaining: 7m 13s\n",
            "10:\tlearn: 1.1515302\ttest: 1.1518409\tbest: 1.1518409 (10)\ttotal: 474ms\tremaining: 3m 34s\n",
            "20:\tlearn: 1.1204992\ttest: 1.1203623\tbest: 1.1203623 (20)\ttotal: 908ms\tremaining: 3m 35s\n",
            "30:\tlearn: 1.1132077\ttest: 1.1130026\tbest: 1.1130026 (30)\ttotal: 1.34s\tremaining: 3m 35s\n",
            "40:\tlearn: 1.1100112\ttest: 1.1100711\tbest: 1.1100711 (40)\ttotal: 1.79s\tremaining: 3m 36s\n",
            "50:\tlearn: 1.1080076\ttest: 1.1080511\tbest: 1.1080511 (50)\ttotal: 2.21s\tremaining: 3m 34s\n",
            "60:\tlearn: 1.1065421\ttest: 1.1066315\tbest: 1.1066315 (60)\ttotal: 2.63s\tremaining: 3m 32s\n",
            "70:\tlearn: 1.1050763\ttest: 1.1053989\tbest: 1.1053989 (70)\ttotal: 3.07s\tremaining: 3m 33s\n",
            "80:\tlearn: 1.1038282\ttest: 1.1043449\tbest: 1.1043449 (80)\ttotal: 3.48s\tremaining: 3m 31s\n",
            "90:\tlearn: 1.1026597\ttest: 1.1033713\tbest: 1.1033713 (90)\ttotal: 3.89s\tremaining: 3m 29s\n",
            "100:\tlearn: 1.1016839\ttest: 1.1026175\tbest: 1.1026175 (100)\ttotal: 4.33s\tremaining: 3m 30s\n",
            "110:\tlearn: 1.1007049\ttest: 1.1016681\tbest: 1.1016681 (110)\ttotal: 4.76s\tremaining: 3m 29s\n",
            "120:\tlearn: 1.0996504\ttest: 1.1006651\tbest: 1.1006651 (120)\ttotal: 5.19s\tremaining: 3m 29s\n",
            "130:\tlearn: 1.0988712\ttest: 1.0999810\tbest: 1.0999810 (130)\ttotal: 5.59s\tremaining: 3m 27s\n",
            "140:\tlearn: 1.0979081\ttest: 1.0992476\tbest: 1.0992476 (140)\ttotal: 6.01s\tremaining: 3m 27s\n",
            "150:\tlearn: 1.0971707\ttest: 1.0986786\tbest: 1.0986786 (150)\ttotal: 6.43s\tremaining: 3m 26s\n",
            "160:\tlearn: 1.0963666\ttest: 1.0980618\tbest: 1.0980618 (160)\ttotal: 6.84s\tremaining: 3m 25s\n",
            "170:\tlearn: 1.0955540\ttest: 1.0976847\tbest: 1.0976847 (170)\ttotal: 7.27s\tremaining: 3m 25s\n",
            "180:\tlearn: 1.0948972\ttest: 1.0972101\tbest: 1.0972101 (180)\ttotal: 7.69s\tremaining: 3m 24s\n",
            "190:\tlearn: 1.0941930\ttest: 1.0966612\tbest: 1.0966612 (190)\ttotal: 8.11s\tremaining: 3m 24s\n",
            "200:\tlearn: 1.0938062\ttest: 1.0963743\tbest: 1.0963743 (200)\ttotal: 8.5s\tremaining: 3m 22s\n",
            "210:\tlearn: 1.0931885\ttest: 1.0960138\tbest: 1.0960138 (210)\ttotal: 8.93s\tremaining: 3m 22s\n",
            "220:\tlearn: 1.0926776\ttest: 1.0957968\tbest: 1.0957957 (218)\ttotal: 9.36s\tremaining: 3m 22s\n",
            "230:\tlearn: 1.0920963\ttest: 1.0955284\tbest: 1.0955284 (230)\ttotal: 9.77s\tremaining: 3m 21s\n",
            "240:\tlearn: 1.0916479\ttest: 1.0952498\tbest: 1.0952498 (240)\ttotal: 10.2s\tremaining: 3m 21s\n",
            "250:\tlearn: 1.0911116\ttest: 1.0949631\tbest: 1.0949631 (250)\ttotal: 10.6s\tremaining: 3m 20s\n",
            "260:\tlearn: 1.0906610\ttest: 1.0948607\tbest: 1.0948461 (256)\ttotal: 11s\tremaining: 3m 19s\n",
            "270:\tlearn: 1.0902177\ttest: 1.0946400\tbest: 1.0946400 (270)\ttotal: 11.4s\tremaining: 3m 19s\n",
            "280:\tlearn: 1.0898477\ttest: 1.0944418\tbest: 1.0944415 (278)\ttotal: 11.8s\tremaining: 3m 18s\n",
            "290:\tlearn: 1.0894184\ttest: 1.0942279\tbest: 1.0942232 (289)\ttotal: 12.2s\tremaining: 3m 17s\n",
            "300:\tlearn: 1.0890782\ttest: 1.0940793\tbest: 1.0940519 (298)\ttotal: 12.6s\tremaining: 3m 16s\n",
            "310:\tlearn: 1.0887446\ttest: 1.0939280\tbest: 1.0939280 (310)\ttotal: 13s\tremaining: 3m 16s\n",
            "320:\tlearn: 1.0884424\ttest: 1.0937364\tbest: 1.0937364 (320)\ttotal: 13.4s\tremaining: 3m 15s\n",
            "330:\tlearn: 1.0880828\ttest: 1.0935690\tbest: 1.0935690 (330)\ttotal: 13.8s\tremaining: 3m 14s\n",
            "340:\tlearn: 1.0877326\ttest: 1.0934117\tbest: 1.0934117 (340)\ttotal: 14.2s\tremaining: 3m 14s\n",
            "350:\tlearn: 1.0873973\ttest: 1.0932640\tbest: 1.0932640 (350)\ttotal: 14.7s\tremaining: 3m 14s\n",
            "360:\tlearn: 1.0870623\ttest: 1.0931761\tbest: 1.0931756 (358)\ttotal: 15.1s\tremaining: 3m 13s\n",
            "370:\tlearn: 1.0868066\ttest: 1.0930662\tbest: 1.0930662 (370)\ttotal: 15.5s\tremaining: 3m 12s\n",
            "380:\tlearn: 1.0864505\ttest: 1.0928996\tbest: 1.0928996 (380)\ttotal: 15.9s\tremaining: 3m 12s\n",
            "390:\tlearn: 1.0861592\ttest: 1.0928052\tbest: 1.0928052 (390)\ttotal: 16.3s\tremaining: 3m 12s\n",
            "400:\tlearn: 1.0858874\ttest: 1.0926878\tbest: 1.0926878 (400)\ttotal: 16.7s\tremaining: 3m 11s\n",
            "410:\tlearn: 1.0856246\ttest: 1.0926325\tbest: 1.0926325 (410)\ttotal: 17.1s\tremaining: 3m 10s\n",
            "420:\tlearn: 1.0853544\ttest: 1.0925396\tbest: 1.0925396 (420)\ttotal: 17.5s\tremaining: 3m 10s\n",
            "430:\tlearn: 1.0851007\ttest: 1.0924905\tbest: 1.0924897 (425)\ttotal: 17.9s\tremaining: 3m 9s\n",
            "440:\tlearn: 1.0848589\ttest: 1.0924256\tbest: 1.0924256 (440)\ttotal: 18.3s\tremaining: 3m 9s\n",
            "450:\tlearn: 1.0846227\ttest: 1.0923392\tbest: 1.0923392 (450)\ttotal: 18.7s\tremaining: 3m 8s\n",
            "460:\tlearn: 1.0843540\ttest: 1.0922848\tbest: 1.0922684 (454)\ttotal: 19.1s\tremaining: 3m 8s\n",
            "470:\tlearn: 1.0840928\ttest: 1.0922011\tbest: 1.0922011 (470)\ttotal: 19.5s\tremaining: 3m 7s\n",
            "480:\tlearn: 1.0838781\ttest: 1.0922191\tbest: 1.0922011 (470)\ttotal: 19.9s\tremaining: 3m 7s\n",
            "490:\tlearn: 1.0836290\ttest: 1.0920749\tbest: 1.0920749 (490)\ttotal: 20.4s\tremaining: 3m 6s\n",
            "500:\tlearn: 1.0833313\ttest: 1.0919797\tbest: 1.0919750 (498)\ttotal: 20.8s\tremaining: 3m 6s\n",
            "510:\tlearn: 1.0830978\ttest: 1.0919379\tbest: 1.0919379 (510)\ttotal: 21.2s\tremaining: 3m 6s\n",
            "520:\tlearn: 1.0828731\ttest: 1.0918220\tbest: 1.0918220 (520)\ttotal: 21.6s\tremaining: 3m 5s\n",
            "530:\tlearn: 1.0826579\ttest: 1.0917710\tbest: 1.0917631 (526)\ttotal: 22s\tremaining: 3m 5s\n",
            "540:\tlearn: 1.0823935\ttest: 1.0917375\tbest: 1.0917375 (540)\ttotal: 22.4s\tremaining: 3m 4s\n",
            "550:\tlearn: 1.0821303\ttest: 1.0916444\tbest: 1.0916444 (550)\ttotal: 22.8s\tremaining: 3m 4s\n",
            "560:\tlearn: 1.0818892\ttest: 1.0915400\tbest: 1.0915400 (560)\ttotal: 23.3s\tremaining: 3m 4s\n",
            "570:\tlearn: 1.0816338\ttest: 1.0915494\tbest: 1.0915238 (566)\ttotal: 23.7s\tremaining: 3m 3s\n",
            "580:\tlearn: 1.0814695\ttest: 1.0915944\tbest: 1.0915238 (566)\ttotal: 24s\tremaining: 3m 2s\n",
            "590:\tlearn: 1.0812573\ttest: 1.0915905\tbest: 1.0915238 (566)\ttotal: 24.5s\tremaining: 3m 2s\n",
            "600:\tlearn: 1.0810359\ttest: 1.0915521\tbest: 1.0915238 (566)\ttotal: 24.9s\tremaining: 3m 2s\n",
            "610:\tlearn: 1.0807867\ttest: 1.0914997\tbest: 1.0914997 (610)\ttotal: 25.3s\tremaining: 3m 1s\n",
            "620:\tlearn: 1.0805596\ttest: 1.0914941\tbest: 1.0914833 (611)\ttotal: 25.7s\tremaining: 3m 1s\n",
            "630:\tlearn: 1.0803838\ttest: 1.0914215\tbest: 1.0914215 (630)\ttotal: 26.1s\tremaining: 3m\n",
            "640:\tlearn: 1.0802182\ttest: 1.0914010\tbest: 1.0914010 (640)\ttotal: 26.5s\tremaining: 3m\n",
            "650:\tlearn: 1.0800147\ttest: 1.0913939\tbest: 1.0913755 (645)\ttotal: 27s\tremaining: 3m\n",
            "660:\tlearn: 1.0798489\ttest: 1.0914034\tbest: 1.0913755 (645)\ttotal: 27.4s\tremaining: 2m 59s\n",
            "670:\tlearn: 1.0796900\ttest: 1.0913862\tbest: 1.0913503 (667)\ttotal: 27.7s\tremaining: 2m 58s\n",
            "680:\tlearn: 1.0795038\ttest: 1.0913882\tbest: 1.0913503 (667)\ttotal: 28.1s\tremaining: 2m 58s\n",
            "690:\tlearn: 1.0793390\ttest: 1.0914082\tbest: 1.0913503 (667)\ttotal: 28.5s\tremaining: 2m 58s\n",
            "700:\tlearn: 1.0791855\ttest: 1.0913743\tbest: 1.0913503 (667)\ttotal: 29s\tremaining: 2m 57s\n",
            "710:\tlearn: 1.0790007\ttest: 1.0913426\tbest: 1.0913217 (707)\ttotal: 29.4s\tremaining: 2m 57s\n",
            "720:\tlearn: 1.0788447\ttest: 1.0913335\tbest: 1.0913080 (715)\ttotal: 29.8s\tremaining: 2m 56s\n",
            "730:\tlearn: 1.0786595\ttest: 1.0913388\tbest: 1.0913080 (715)\ttotal: 30.2s\tremaining: 2m 56s\n",
            "740:\tlearn: 1.0784638\ttest: 1.0913181\tbest: 1.0913080 (715)\ttotal: 30.6s\tremaining: 2m 55s\n",
            "750:\tlearn: 1.0782624\ttest: 1.0913342\tbest: 1.0912715 (744)\ttotal: 31s\tremaining: 2m 55s\n",
            "760:\tlearn: 1.0780688\ttest: 1.0913492\tbest: 1.0912715 (744)\ttotal: 31.4s\tremaining: 2m 55s\n",
            "770:\tlearn: 1.0779228\ttest: 1.0913660\tbest: 1.0912715 (744)\ttotal: 31.8s\tremaining: 2m 54s\n",
            "780:\tlearn: 1.0777407\ttest: 1.0913205\tbest: 1.0912715 (744)\ttotal: 32.2s\tremaining: 2m 54s\n",
            "790:\tlearn: 1.0775649\ttest: 1.0913650\tbest: 1.0912715 (744)\ttotal: 32.6s\tremaining: 2m 53s\n",
            "Stopped by overfitting detector  (50 iterations wait)\n",
            "\n",
            "bestTest = 1.091271509\n",
            "bestIteration = 744\n",
            "\n",
            "Shrink model to first 745 iterations.\n",
            "Fold 1, Valid score = 1.09127\n",
            "0:\tlearn: 1.3351851\ttest: 1.3351697\tbest: 1.3351697 (0)\ttotal: 38.6ms\tremaining: 3m 12s\n",
            "10:\tlearn: 1.1511487\ttest: 1.1512065\tbest: 1.1512065 (10)\ttotal: 449ms\tremaining: 3m 23s\n",
            "20:\tlearn: 1.1200763\ttest: 1.1207379\tbest: 1.1207379 (20)\ttotal: 852ms\tremaining: 3m 22s\n",
            "30:\tlearn: 1.1126376\ttest: 1.1137869\tbest: 1.1137869 (30)\ttotal: 1.29s\tremaining: 3m 26s\n",
            "40:\tlearn: 1.1093052\ttest: 1.1109176\tbest: 1.1109176 (40)\ttotal: 1.73s\tremaining: 3m 29s\n",
            "50:\tlearn: 1.1071355\ttest: 1.1092079\tbest: 1.1092079 (50)\ttotal: 2.2s\tremaining: 3m 33s\n",
            "60:\tlearn: 1.1055808\ttest: 1.1081609\tbest: 1.1081609 (60)\ttotal: 2.65s\tremaining: 3m 34s\n",
            "70:\tlearn: 1.1041336\ttest: 1.1070256\tbest: 1.1070256 (70)\ttotal: 3.08s\tremaining: 3m 33s\n",
            "80:\tlearn: 1.1029086\ttest: 1.1061707\tbest: 1.1061707 (80)\ttotal: 3.5s\tremaining: 3m 32s\n",
            "90:\tlearn: 1.1018002\ttest: 1.1054181\tbest: 1.1054181 (90)\ttotal: 3.92s\tremaining: 3m 31s\n",
            "100:\tlearn: 1.1007385\ttest: 1.1045787\tbest: 1.1045787 (100)\ttotal: 4.33s\tremaining: 3m 30s\n",
            "110:\tlearn: 1.0997375\ttest: 1.1037894\tbest: 1.1037894 (110)\ttotal: 4.75s\tremaining: 3m 29s\n",
            "120:\tlearn: 1.0987463\ttest: 1.1032270\tbest: 1.1032270 (120)\ttotal: 5.16s\tremaining: 3m 28s\n",
            "130:\tlearn: 1.0978339\ttest: 1.1025845\tbest: 1.1025845 (130)\ttotal: 5.59s\tremaining: 3m 27s\n",
            "140:\tlearn: 1.0969336\ttest: 1.1019858\tbest: 1.1019858 (140)\ttotal: 6s\tremaining: 3m 26s\n",
            "150:\tlearn: 1.0961078\ttest: 1.1012920\tbest: 1.1012920 (150)\ttotal: 6.42s\tremaining: 3m 26s\n",
            "160:\tlearn: 1.0955170\ttest: 1.1008499\tbest: 1.1008499 (160)\ttotal: 6.82s\tremaining: 3m 24s\n",
            "170:\tlearn: 1.0947485\ttest: 1.1004097\tbest: 1.1004097 (170)\ttotal: 7.22s\tremaining: 3m 24s\n",
            "180:\tlearn: 1.0939984\ttest: 1.1001069\tbest: 1.1001069 (180)\ttotal: 7.65s\tremaining: 3m 23s\n",
            "190:\tlearn: 1.0933651\ttest: 1.0997785\tbest: 1.0997785 (190)\ttotal: 8.05s\tremaining: 3m 22s\n",
            "200:\tlearn: 1.0926773\ttest: 1.0994580\tbest: 1.0994580 (200)\ttotal: 8.46s\tremaining: 3m 21s\n",
            "210:\tlearn: 1.0919612\ttest: 1.0990391\tbest: 1.0990391 (210)\ttotal: 8.89s\tremaining: 3m 21s\n",
            "220:\tlearn: 1.0915364\ttest: 1.0988224\tbest: 1.0988224 (220)\ttotal: 9.29s\tremaining: 3m 20s\n",
            "230:\tlearn: 1.0910511\ttest: 1.0985720\tbest: 1.0985699 (229)\ttotal: 9.7s\tremaining: 3m 20s\n",
            "240:\tlearn: 1.0906693\ttest: 1.0984273\tbest: 1.0983852 (237)\ttotal: 10.1s\tremaining: 3m 19s\n",
            "250:\tlearn: 1.0901877\ttest: 1.0981858\tbest: 1.0981858 (250)\ttotal: 10.5s\tremaining: 3m 18s\n",
            "260:\tlearn: 1.0897847\ttest: 1.0979722\tbest: 1.0979722 (260)\ttotal: 10.9s\tremaining: 3m 18s\n",
            "270:\tlearn: 1.0893089\ttest: 1.0977518\tbest: 1.0977518 (270)\ttotal: 11.3s\tremaining: 3m 17s\n",
            "280:\tlearn: 1.0889061\ttest: 1.0974739\tbest: 1.0974739 (280)\ttotal: 11.7s\tremaining: 3m 17s\n",
            "290:\tlearn: 1.0885183\ttest: 1.0973538\tbest: 1.0973509 (289)\ttotal: 12.1s\tremaining: 3m 16s\n",
            "300:\tlearn: 1.0881375\ttest: 1.0972935\tbest: 1.0972935 (300)\ttotal: 12.6s\tremaining: 3m 16s\n",
            "310:\tlearn: 1.0878131\ttest: 1.0971651\tbest: 1.0971651 (310)\ttotal: 13s\tremaining: 3m 15s\n",
            "320:\tlearn: 1.0874340\ttest: 1.0969242\tbest: 1.0969242 (320)\ttotal: 13.4s\tremaining: 3m 15s\n",
            "330:\tlearn: 1.0871373\ttest: 1.0967750\tbest: 1.0967750 (330)\ttotal: 13.8s\tremaining: 3m 14s\n",
            "340:\tlearn: 1.0868127\ttest: 1.0966624\tbest: 1.0966624 (340)\ttotal: 14.2s\tremaining: 3m 13s\n",
            "350:\tlearn: 1.0864834\ttest: 1.0965743\tbest: 1.0965727 (349)\ttotal: 14.6s\tremaining: 3m 13s\n",
            "360:\tlearn: 1.0861308\ttest: 1.0964516\tbest: 1.0964516 (360)\ttotal: 15s\tremaining: 3m 13s\n",
            "370:\tlearn: 1.0857971\ttest: 1.0964048\tbest: 1.0964044 (368)\ttotal: 15.4s\tremaining: 3m 12s\n",
            "380:\tlearn: 1.0854617\ttest: 1.0963175\tbest: 1.0962994 (379)\ttotal: 15.9s\tremaining: 3m 12s\n",
            "390:\tlearn: 1.0851106\ttest: 1.0962853\tbest: 1.0962853 (390)\ttotal: 16.3s\tremaining: 3m 11s\n",
            "400:\tlearn: 1.0848678\ttest: 1.0962032\tbest: 1.0962032 (400)\ttotal: 16.7s\tremaining: 3m 11s\n",
            "410:\tlearn: 1.0845695\ttest: 1.0960222\tbest: 1.0960222 (410)\ttotal: 17.1s\tremaining: 3m 10s\n",
            "420:\tlearn: 1.0843158\ttest: 1.0959264\tbest: 1.0959264 (420)\ttotal: 17.5s\tremaining: 3m 10s\n",
            "430:\tlearn: 1.0840959\ttest: 1.0957962\tbest: 1.0957962 (430)\ttotal: 17.9s\tremaining: 3m 9s\n",
            "440:\tlearn: 1.0838344\ttest: 1.0957295\tbest: 1.0957290 (439)\ttotal: 18.3s\tremaining: 3m 8s\n",
            "450:\tlearn: 1.0835804\ttest: 1.0956343\tbest: 1.0956343 (450)\ttotal: 18.7s\tremaining: 3m 8s\n",
            "460:\tlearn: 1.0833450\ttest: 1.0956484\tbest: 1.0956311 (457)\ttotal: 19.1s\tremaining: 3m 7s\n",
            "470:\tlearn: 1.0831003\ttest: 1.0955880\tbest: 1.0955774 (469)\ttotal: 19.5s\tremaining: 3m 7s\n",
            "480:\tlearn: 1.0828634\ttest: 1.0955453\tbest: 1.0955222 (479)\ttotal: 19.9s\tremaining: 3m 7s\n",
            "490:\tlearn: 1.0826455\ttest: 1.0954093\tbest: 1.0954093 (490)\ttotal: 20.3s\tremaining: 3m 6s\n",
            "500:\tlearn: 1.0824477\ttest: 1.0953775\tbest: 1.0953718 (496)\ttotal: 20.7s\tremaining: 3m 6s\n",
            "510:\tlearn: 1.0822142\ttest: 1.0953248\tbest: 1.0953248 (510)\ttotal: 21.1s\tremaining: 3m 5s\n",
            "520:\tlearn: 1.0820092\ttest: 1.0953375\tbest: 1.0953248 (510)\ttotal: 21.5s\tremaining: 3m 5s\n",
            "530:\tlearn: 1.0817912\ttest: 1.0952786\tbest: 1.0952743 (526)\ttotal: 21.9s\tremaining: 3m 4s\n",
            "540:\tlearn: 1.0815864\ttest: 1.0953132\tbest: 1.0952695 (532)\ttotal: 22.3s\tremaining: 3m 4s\n",
            "550:\tlearn: 1.0813793\ttest: 1.0952501\tbest: 1.0952337 (548)\ttotal: 22.8s\tremaining: 3m 3s\n",
            "560:\tlearn: 1.0811507\ttest: 1.0951993\tbest: 1.0951993 (560)\ttotal: 23.2s\tremaining: 3m 3s\n",
            "570:\tlearn: 1.0809522\ttest: 1.0951411\tbest: 1.0951299 (568)\ttotal: 23.6s\tremaining: 3m 2s\n",
            "580:\tlearn: 1.0807289\ttest: 1.0951291\tbest: 1.0951167 (574)\ttotal: 24s\tremaining: 3m 2s\n",
            "590:\tlearn: 1.0805690\ttest: 1.0950510\tbest: 1.0950510 (590)\ttotal: 24.4s\tremaining: 3m 1s\n",
            "600:\tlearn: 1.0803832\ttest: 1.0949917\tbest: 1.0949917 (600)\ttotal: 24.8s\tremaining: 3m 1s\n",
            "610:\tlearn: 1.0801942\ttest: 1.0949042\tbest: 1.0949042 (610)\ttotal: 25.2s\tremaining: 3m\n",
            "620:\tlearn: 1.0800121\ttest: 1.0949172\tbest: 1.0948939 (618)\ttotal: 25.6s\tremaining: 3m\n",
            "630:\tlearn: 1.0797948\ttest: 1.0948934\tbest: 1.0948934 (630)\ttotal: 26s\tremaining: 3m\n",
            "640:\tlearn: 1.0795553\ttest: 1.0947877\tbest: 1.0947877 (640)\ttotal: 26.4s\tremaining: 2m 59s\n",
            "650:\tlearn: 1.0793567\ttest: 1.0946748\tbest: 1.0946748 (650)\ttotal: 26.9s\tremaining: 2m 59s\n",
            "660:\tlearn: 1.0791911\ttest: 1.0946621\tbest: 1.0946482 (655)\ttotal: 27.3s\tremaining: 2m 58s\n",
            "670:\tlearn: 1.0790233\ttest: 1.0946531\tbest: 1.0946479 (666)\ttotal: 27.7s\tremaining: 2m 58s\n",
            "680:\tlearn: 1.0788447\ttest: 1.0946792\tbest: 1.0946479 (666)\ttotal: 28.1s\tremaining: 2m 58s\n",
            "690:\tlearn: 1.0786641\ttest: 1.0946453\tbest: 1.0946173 (684)\ttotal: 28.5s\tremaining: 2m 57s\n",
            "700:\tlearn: 1.0784786\ttest: 1.0946726\tbest: 1.0946173 (684)\ttotal: 28.9s\tremaining: 2m 57s\n",
            "710:\tlearn: 1.0782881\ttest: 1.0946772\tbest: 1.0946173 (684)\ttotal: 29.3s\tremaining: 2m 56s\n",
            "720:\tlearn: 1.0781559\ttest: 1.0946787\tbest: 1.0946173 (684)\ttotal: 29.7s\tremaining: 2m 56s\n",
            "730:\tlearn: 1.0779743\ttest: 1.0946836\tbest: 1.0946173 (684)\ttotal: 30.1s\tremaining: 2m 55s\n",
            "Stopped by overfitting detector  (50 iterations wait)\n",
            "\n",
            "bestTest = 1.094617301\n",
            "bestIteration = 684\n",
            "\n",
            "Shrink model to first 685 iterations.\n",
            "Fold 2, Valid score = 1.09462\n",
            "0:\tlearn: 1.3351843\ttest: 1.3351856\tbest: 1.3351856 (0)\ttotal: 40ms\tremaining: 3m 19s\n",
            "10:\tlearn: 1.1513247\ttest: 1.1512085\tbest: 1.1512085 (10)\ttotal: 433ms\tremaining: 3m 16s\n",
            "20:\tlearn: 1.1208020\ttest: 1.1209955\tbest: 1.1209955 (20)\ttotal: 823ms\tremaining: 3m 15s\n",
            "30:\tlearn: 1.1128820\ttest: 1.1134902\tbest: 1.1134902 (30)\ttotal: 1.31s\tremaining: 3m 29s\n",
            "40:\tlearn: 1.1096272\ttest: 1.1106120\tbest: 1.1106120 (40)\ttotal: 1.74s\tremaining: 3m 30s\n",
            "50:\tlearn: 1.1077229\ttest: 1.1090880\tbest: 1.1090880 (50)\ttotal: 2.16s\tremaining: 3m 29s\n",
            "60:\tlearn: 1.1060149\ttest: 1.1075369\tbest: 1.1075369 (60)\ttotal: 2.6s\tremaining: 3m 30s\n",
            "70:\tlearn: 1.1046227\ttest: 1.1063036\tbest: 1.1063036 (70)\ttotal: 3.04s\tremaining: 3m 31s\n",
            "80:\tlearn: 1.1032318\ttest: 1.1051463\tbest: 1.1051463 (80)\ttotal: 3.5s\tremaining: 3m 32s\n",
            "90:\tlearn: 1.1021075\ttest: 1.1042055\tbest: 1.1042055 (90)\ttotal: 3.9s\tremaining: 3m 30s\n",
            "100:\tlearn: 1.1010326\ttest: 1.1033358\tbest: 1.1033358 (100)\ttotal: 4.32s\tremaining: 3m 29s\n",
            "110:\tlearn: 1.1001250\ttest: 1.1025733\tbest: 1.1025733 (110)\ttotal: 4.72s\tremaining: 3m 28s\n",
            "120:\tlearn: 1.0992522\ttest: 1.1018358\tbest: 1.1018358 (120)\ttotal: 5.14s\tremaining: 3m 27s\n",
            "130:\tlearn: 1.0982589\ttest: 1.1011032\tbest: 1.1011032 (130)\ttotal: 5.58s\tremaining: 3m 27s\n",
            "140:\tlearn: 1.0973954\ttest: 1.1004065\tbest: 1.1004065 (140)\ttotal: 6s\tremaining: 3m 26s\n",
            "150:\tlearn: 1.0965894\ttest: 1.0999210\tbest: 1.0999210 (150)\ttotal: 6.41s\tremaining: 3m 25s\n",
            "160:\tlearn: 1.0959479\ttest: 1.0995248\tbest: 1.0995248 (160)\ttotal: 6.8s\tremaining: 3m 24s\n",
            "170:\tlearn: 1.0952479\ttest: 1.0989361\tbest: 1.0989361 (170)\ttotal: 7.2s\tremaining: 3m 23s\n",
            "180:\tlearn: 1.0946101\ttest: 1.0984132\tbest: 1.0984132 (180)\ttotal: 7.63s\tremaining: 3m 23s\n",
            "190:\tlearn: 1.0940045\ttest: 1.0980851\tbest: 1.0980851 (190)\ttotal: 8.04s\tremaining: 3m 22s\n",
            "200:\tlearn: 1.0934376\ttest: 1.0978226\tbest: 1.0978226 (200)\ttotal: 8.45s\tremaining: 3m 21s\n",
            "210:\tlearn: 1.0928213\ttest: 1.0974622\tbest: 1.0974622 (210)\ttotal: 8.85s\tremaining: 3m 20s\n",
            "220:\tlearn: 1.0922967\ttest: 1.0970525\tbest: 1.0970482 (219)\ttotal: 9.27s\tremaining: 3m 20s\n",
            "230:\tlearn: 1.0918291\ttest: 1.0967088\tbest: 1.0967088 (230)\ttotal: 9.67s\tremaining: 3m 19s\n",
            "240:\tlearn: 1.0913490\ttest: 1.0964743\tbest: 1.0964743 (240)\ttotal: 10.1s\tremaining: 3m 19s\n",
            "250:\tlearn: 1.0908977\ttest: 1.0961508\tbest: 1.0961508 (250)\ttotal: 10.5s\tremaining: 3m 18s\n",
            "260:\tlearn: 1.0906088\ttest: 1.0960047\tbest: 1.0960047 (260)\ttotal: 10.9s\tremaining: 3m 17s\n",
            "270:\tlearn: 1.0901525\ttest: 1.0957506\tbest: 1.0957506 (270)\ttotal: 11.3s\tremaining: 3m 16s\n",
            "280:\tlearn: 1.0897098\ttest: 1.0955314\tbest: 1.0955314 (280)\ttotal: 11.7s\tremaining: 3m 16s\n",
            "290:\tlearn: 1.0893185\ttest: 1.0953123\tbest: 1.0953123 (290)\ttotal: 12.1s\tremaining: 3m 15s\n",
            "300:\tlearn: 1.0889801\ttest: 1.0952279\tbest: 1.0952279 (300)\ttotal: 12.5s\tremaining: 3m 14s\n",
            "310:\tlearn: 1.0886550\ttest: 1.0951157\tbest: 1.0951157 (310)\ttotal: 12.9s\tremaining: 3m 14s\n",
            "320:\tlearn: 1.0882577\ttest: 1.0949429\tbest: 1.0949429 (320)\ttotal: 13.3s\tremaining: 3m 14s\n",
            "330:\tlearn: 1.0878442\ttest: 1.0947144\tbest: 1.0947053 (328)\ttotal: 13.7s\tremaining: 3m 13s\n",
            "340:\tlearn: 1.0875810\ttest: 1.0945601\tbest: 1.0945601 (340)\ttotal: 14.1s\tremaining: 3m 12s\n",
            "350:\tlearn: 1.0872855\ttest: 1.0944965\tbest: 1.0944865 (349)\ttotal: 14.5s\tremaining: 3m 12s\n",
            "360:\tlearn: 1.0869678\ttest: 1.0943221\tbest: 1.0943221 (360)\ttotal: 14.9s\tremaining: 3m 11s\n",
            "370:\tlearn: 1.0866244\ttest: 1.0941545\tbest: 1.0941545 (370)\ttotal: 15.3s\tremaining: 3m 11s\n",
            "380:\tlearn: 1.0863862\ttest: 1.0940706\tbest: 1.0940706 (380)\ttotal: 15.7s\tremaining: 3m 10s\n",
            "390:\tlearn: 1.0861027\ttest: 1.0939139\tbest: 1.0939139 (390)\ttotal: 16.1s\tremaining: 3m 10s\n",
            "400:\tlearn: 1.0857982\ttest: 1.0937274\tbest: 1.0937266 (398)\ttotal: 16.5s\tremaining: 3m 9s\n",
            "410:\tlearn: 1.0855395\ttest: 1.0936154\tbest: 1.0936154 (410)\ttotal: 16.9s\tremaining: 3m 9s\n",
            "420:\tlearn: 1.0852060\ttest: 1.0934791\tbest: 1.0934791 (420)\ttotal: 17.4s\tremaining: 3m 8s\n",
            "430:\tlearn: 1.0849283\ttest: 1.0933915\tbest: 1.0933915 (430)\ttotal: 17.8s\tremaining: 3m 8s\n",
            "440:\tlearn: 1.0846839\ttest: 1.0934033\tbest: 1.0933798 (433)\ttotal: 18.2s\tremaining: 3m 7s\n",
            "450:\tlearn: 1.0844433\ttest: 1.0933941\tbest: 1.0933798 (433)\ttotal: 18.6s\tremaining: 3m 7s\n",
            "460:\tlearn: 1.0842794\ttest: 1.0932674\tbest: 1.0932621 (459)\ttotal: 18.9s\tremaining: 3m 6s\n",
            "470:\tlearn: 1.0840628\ttest: 1.0931826\tbest: 1.0931826 (470)\ttotal: 19.3s\tremaining: 3m 5s\n",
            "480:\tlearn: 1.0838595\ttest: 1.0931289\tbest: 1.0930958 (479)\ttotal: 19.7s\tremaining: 3m 5s\n",
            "490:\tlearn: 1.0835801\ttest: 1.0930323\tbest: 1.0930323 (490)\ttotal: 20.1s\tremaining: 3m 5s\n",
            "500:\tlearn: 1.0833314\ttest: 1.0929953\tbest: 1.0929953 (500)\ttotal: 20.5s\tremaining: 3m 4s\n",
            "510:\tlearn: 1.0830848\ttest: 1.0929651\tbest: 1.0929631 (503)\ttotal: 20.9s\tremaining: 3m 4s\n",
            "520:\tlearn: 1.0828233\ttest: 1.0929111\tbest: 1.0929111 (520)\ttotal: 21.4s\tremaining: 3m 3s\n",
            "530:\tlearn: 1.0826077\ttest: 1.0928711\tbest: 1.0928711 (530)\ttotal: 21.8s\tremaining: 3m 3s\n",
            "540:\tlearn: 1.0824143\ttest: 1.0927964\tbest: 1.0927964 (540)\ttotal: 22.1s\tremaining: 3m 2s\n",
            "550:\tlearn: 1.0822346\ttest: 1.0928000\tbest: 1.0927815 (546)\ttotal: 22.5s\tremaining: 3m 2s\n",
            "560:\tlearn: 1.0820599\ttest: 1.0928552\tbest: 1.0927815 (546)\ttotal: 22.9s\tremaining: 3m 1s\n",
            "570:\tlearn: 1.0818650\ttest: 1.0928069\tbest: 1.0927815 (546)\ttotal: 23.4s\tremaining: 3m 1s\n",
            "580:\tlearn: 1.0816710\ttest: 1.0927591\tbest: 1.0927591 (580)\ttotal: 23.8s\tremaining: 3m\n",
            "590:\tlearn: 1.0814538\ttest: 1.0927645\tbest: 1.0927345 (585)\ttotal: 24.2s\tremaining: 3m\n",
            "600:\tlearn: 1.0812123\ttest: 1.0927040\tbest: 1.0927040 (600)\ttotal: 24.6s\tremaining: 2m 59s\n",
            "610:\tlearn: 1.0810131\ttest: 1.0926926\tbest: 1.0926918 (608)\ttotal: 25s\tremaining: 2m 59s\n",
            "620:\tlearn: 1.0808342\ttest: 1.0926783\tbest: 1.0926783 (620)\ttotal: 25.4s\tremaining: 2m 58s\n",
            "630:\tlearn: 1.0806094\ttest: 1.0926762\tbest: 1.0926762 (630)\ttotal: 25.8s\tremaining: 2m 58s\n",
            "640:\tlearn: 1.0804399\ttest: 1.0926170\tbest: 1.0926170 (640)\ttotal: 26.2s\tremaining: 2m 57s\n",
            "650:\tlearn: 1.0802374\ttest: 1.0925569\tbest: 1.0925569 (650)\ttotal: 26.6s\tremaining: 2m 57s\n",
            "660:\tlearn: 1.0800699\ttest: 1.0924837\tbest: 1.0924810 (657)\ttotal: 27s\tremaining: 2m 57s\n",
            "670:\tlearn: 1.0798734\ttest: 1.0925123\tbest: 1.0924732 (661)\ttotal: 27.4s\tremaining: 2m 56s\n",
            "680:\tlearn: 1.0796949\ttest: 1.0924759\tbest: 1.0924637 (678)\ttotal: 27.8s\tremaining: 2m 56s\n",
            "690:\tlearn: 1.0795463\ttest: 1.0925127\tbest: 1.0924637 (678)\ttotal: 28.2s\tremaining: 2m 55s\n",
            "700:\tlearn: 1.0793514\ttest: 1.0924779\tbest: 1.0924637 (678)\ttotal: 28.6s\tremaining: 2m 55s\n",
            "710:\tlearn: 1.0791653\ttest: 1.0924954\tbest: 1.0924637 (678)\ttotal: 29s\tremaining: 2m 54s\n",
            "720:\tlearn: 1.0790131\ttest: 1.0924696\tbest: 1.0924637 (678)\ttotal: 29.4s\tremaining: 2m 54s\n",
            "730:\tlearn: 1.0788472\ttest: 1.0924268\tbest: 1.0924062 (729)\ttotal: 29.7s\tremaining: 2m 53s\n",
            "740:\tlearn: 1.0786861\ttest: 1.0924079\tbest: 1.0923999 (738)\ttotal: 30.1s\tremaining: 2m 53s\n",
            "750:\tlearn: 1.0784774\ttest: 1.0924565\tbest: 1.0923999 (738)\ttotal: 30.5s\tremaining: 2m 52s\n",
            "760:\tlearn: 1.0783093\ttest: 1.0924456\tbest: 1.0923999 (738)\ttotal: 30.9s\tremaining: 2m 52s\n",
            "770:\tlearn: 1.0781170\ttest: 1.0923518\tbest: 1.0923420 (769)\ttotal: 31.4s\tremaining: 2m 51s\n",
            "780:\tlearn: 1.0779581\ttest: 1.0923621\tbest: 1.0923420 (769)\ttotal: 31.7s\tremaining: 2m 51s\n",
            "790:\tlearn: 1.0777336\ttest: 1.0923530\tbest: 1.0923293 (788)\ttotal: 32.2s\tremaining: 2m 51s\n",
            "800:\tlearn: 1.0776241\ttest: 1.0923543\tbest: 1.0923293 (788)\ttotal: 32.6s\tremaining: 2m 50s\n",
            "810:\tlearn: 1.0774775\ttest: 1.0922280\tbest: 1.0922280 (810)\ttotal: 33s\tremaining: 2m 50s\n",
            "820:\tlearn: 1.0773113\ttest: 1.0922299\tbest: 1.0921967 (814)\ttotal: 33.4s\tremaining: 2m 49s\n",
            "830:\tlearn: 1.0771182\ttest: 1.0922080\tbest: 1.0921967 (814)\ttotal: 33.8s\tremaining: 2m 49s\n",
            "840:\tlearn: 1.0769386\ttest: 1.0922081\tbest: 1.0921849 (834)\ttotal: 34.2s\tremaining: 2m 49s\n",
            "850:\tlearn: 1.0767581\ttest: 1.0921719\tbest: 1.0921663 (848)\ttotal: 34.6s\tremaining: 2m 48s\n",
            "860:\tlearn: 1.0766385\ttest: 1.0922298\tbest: 1.0921629 (851)\ttotal: 35s\tremaining: 2m 48s\n",
            "870:\tlearn: 1.0765073\ttest: 1.0922014\tbest: 1.0921629 (851)\ttotal: 35.4s\tremaining: 2m 47s\n",
            "880:\tlearn: 1.0763083\ttest: 1.0922079\tbest: 1.0921629 (851)\ttotal: 35.8s\tremaining: 2m 47s\n",
            "890:\tlearn: 1.0761125\ttest: 1.0921822\tbest: 1.0921629 (851)\ttotal: 36.2s\tremaining: 2m 46s\n",
            "900:\tlearn: 1.0759291\ttest: 1.0921737\tbest: 1.0921568 (894)\ttotal: 36.6s\tremaining: 2m 46s\n",
            "910:\tlearn: 1.0757154\ttest: 1.0921785\tbest: 1.0921568 (894)\ttotal: 37s\tremaining: 2m 46s\n",
            "920:\tlearn: 1.0755446\ttest: 1.0922515\tbest: 1.0921568 (894)\ttotal: 37.5s\tremaining: 2m 45s\n",
            "930:\tlearn: 1.0753630\ttest: 1.0922446\tbest: 1.0921568 (894)\ttotal: 37.9s\tremaining: 2m 45s\n",
            "940:\tlearn: 1.0752076\ttest: 1.0922821\tbest: 1.0921568 (894)\ttotal: 38.3s\tremaining: 2m 45s\n",
            "Stopped by overfitting detector  (50 iterations wait)\n",
            "\n",
            "bestTest = 1.092156821\n",
            "bestIteration = 894\n",
            "\n",
            "Shrink model to first 895 iterations.\n",
            "Fold 3, Valid score = 1.09216\n",
            "0:\tlearn: 1.3351819\ttest: 1.3351984\tbest: 1.3351984 (0)\ttotal: 38.1ms\tremaining: 3m 10s\n",
            "10:\tlearn: 1.1513422\ttest: 1.1512542\tbest: 1.1512542 (10)\ttotal: 437ms\tremaining: 3m 18s\n",
            "20:\tlearn: 1.1206590\ttest: 1.1206780\tbest: 1.1206780 (20)\ttotal: 838ms\tremaining: 3m 18s\n",
            "30:\tlearn: 1.1128054\ttest: 1.1131060\tbest: 1.1131060 (30)\ttotal: 1.28s\tremaining: 3m 24s\n",
            "40:\tlearn: 1.1095322\ttest: 1.1102040\tbest: 1.1102040 (40)\ttotal: 1.72s\tremaining: 3m 27s\n",
            "50:\tlearn: 1.1075661\ttest: 1.1081852\tbest: 1.1081852 (50)\ttotal: 2.14s\tremaining: 3m 27s\n",
            "60:\tlearn: 1.1058307\ttest: 1.1067285\tbest: 1.1067285 (60)\ttotal: 2.57s\tremaining: 3m 28s\n",
            "70:\tlearn: 1.1044451\ttest: 1.1054882\tbest: 1.1054882 (70)\ttotal: 2.99s\tremaining: 3m 27s\n",
            "80:\tlearn: 1.1032747\ttest: 1.1044227\tbest: 1.1044227 (80)\ttotal: 3.43s\tremaining: 3m 28s\n",
            "90:\tlearn: 1.1020579\ttest: 1.1034252\tbest: 1.1034252 (90)\ttotal: 3.84s\tremaining: 3m 27s\n",
            "100:\tlearn: 1.1009293\ttest: 1.1023336\tbest: 1.1023336 (100)\ttotal: 4.28s\tremaining: 3m 27s\n",
            "110:\tlearn: 1.0999432\ttest: 1.1015452\tbest: 1.1015452 (110)\ttotal: 4.7s\tremaining: 3m 27s\n",
            "120:\tlearn: 1.0990692\ttest: 1.1009846\tbest: 1.1009846 (120)\ttotal: 5.15s\tremaining: 3m 27s\n",
            "130:\tlearn: 1.0982805\ttest: 1.1003601\tbest: 1.1003601 (130)\ttotal: 5.57s\tremaining: 3m 26s\n",
            "140:\tlearn: 1.0974593\ttest: 1.0996177\tbest: 1.0996177 (140)\ttotal: 5.97s\tremaining: 3m 25s\n",
            "150:\tlearn: 1.0967172\ttest: 1.0989553\tbest: 1.0989553 (150)\ttotal: 6.39s\tremaining: 3m 25s\n",
            "160:\tlearn: 1.0959406\ttest: 1.0983958\tbest: 1.0983958 (160)\ttotal: 6.81s\tremaining: 3m 24s\n",
            "170:\tlearn: 1.0952308\ttest: 1.0978755\tbest: 1.0978755 (170)\ttotal: 7.23s\tremaining: 3m 24s\n",
            "180:\tlearn: 1.0946323\ttest: 1.0974580\tbest: 1.0974580 (180)\ttotal: 7.65s\tremaining: 3m 23s\n",
            "190:\tlearn: 1.0941137\ttest: 1.0970415\tbest: 1.0970415 (190)\ttotal: 8.05s\tremaining: 3m 22s\n",
            "200:\tlearn: 1.0935605\ttest: 1.0966855\tbest: 1.0966855 (200)\ttotal: 8.46s\tremaining: 3m 22s\n",
            "210:\tlearn: 1.0930424\ttest: 1.0963140\tbest: 1.0963140 (210)\ttotal: 8.87s\tremaining: 3m 21s\n",
            "220:\tlearn: 1.0923899\ttest: 1.0960357\tbest: 1.0960357 (220)\ttotal: 9.29s\tremaining: 3m 20s\n",
            "230:\tlearn: 1.0919637\ttest: 1.0957725\tbest: 1.0957725 (230)\ttotal: 9.69s\tremaining: 3m 20s\n",
            "240:\tlearn: 1.0914151\ttest: 1.0955886\tbest: 1.0955880 (239)\ttotal: 10.1s\tremaining: 3m 19s\n",
            "250:\tlearn: 1.0909245\ttest: 1.0953154\tbest: 1.0953154 (250)\ttotal: 10.5s\tremaining: 3m 19s\n",
            "260:\tlearn: 1.0904593\ttest: 1.0950473\tbest: 1.0950473 (260)\ttotal: 10.9s\tremaining: 3m 18s\n",
            "270:\tlearn: 1.0900169\ttest: 1.0950038\tbest: 1.0950002 (265)\ttotal: 11.4s\tremaining: 3m 18s\n",
            "280:\tlearn: 1.0895941\ttest: 1.0947270\tbest: 1.0947270 (280)\ttotal: 11.8s\tremaining: 3m 17s\n",
            "290:\tlearn: 1.0891701\ttest: 1.0945328\tbest: 1.0945328 (290)\ttotal: 12.2s\tremaining: 3m 17s\n",
            "300:\tlearn: 1.0887880\ttest: 1.0942356\tbest: 1.0942356 (300)\ttotal: 12.6s\tremaining: 3m 16s\n",
            "310:\tlearn: 1.0884897\ttest: 1.0940511\tbest: 1.0940361 (309)\ttotal: 13s\tremaining: 3m 15s\n",
            "320:\tlearn: 1.0881096\ttest: 1.0939376\tbest: 1.0939147 (317)\ttotal: 13.4s\tremaining: 3m 15s\n",
            "330:\tlearn: 1.0877476\ttest: 1.0937725\tbest: 1.0937669 (328)\ttotal: 13.8s\tremaining: 3m 14s\n",
            "340:\tlearn: 1.0874672\ttest: 1.0936776\tbest: 1.0936708 (339)\ttotal: 14.2s\tremaining: 3m 14s\n",
            "350:\tlearn: 1.0871439\ttest: 1.0934594\tbest: 1.0934579 (349)\ttotal: 14.6s\tremaining: 3m 13s\n",
            "360:\tlearn: 1.0867824\ttest: 1.0932835\tbest: 1.0932835 (360)\ttotal: 15s\tremaining: 3m 13s\n",
            "370:\tlearn: 1.0865272\ttest: 1.0931676\tbest: 1.0931676 (370)\ttotal: 15.4s\tremaining: 3m 12s\n",
            "380:\tlearn: 1.0862075\ttest: 1.0930486\tbest: 1.0930486 (380)\ttotal: 15.9s\tremaining: 3m 12s\n",
            "390:\tlearn: 1.0859122\ttest: 1.0929259\tbest: 1.0929259 (390)\ttotal: 16.3s\tremaining: 3m 11s\n",
            "400:\tlearn: 1.0856181\ttest: 1.0927701\tbest: 1.0927701 (400)\ttotal: 16.7s\tremaining: 3m 11s\n",
            "410:\tlearn: 1.0854080\ttest: 1.0926980\tbest: 1.0926980 (410)\ttotal: 17.1s\tremaining: 3m 10s\n",
            "420:\tlearn: 1.0851545\ttest: 1.0925330\tbest: 1.0925330 (420)\ttotal: 17.5s\tremaining: 3m 10s\n",
            "430:\tlearn: 1.0849063\ttest: 1.0925082\tbest: 1.0925082 (430)\ttotal: 17.9s\tremaining: 3m 9s\n",
            "440:\tlearn: 1.0846953\ttest: 1.0924724\tbest: 1.0924724 (440)\ttotal: 18.3s\tremaining: 3m 8s\n",
            "450:\tlearn: 1.0844095\ttest: 1.0923691\tbest: 1.0923691 (450)\ttotal: 18.7s\tremaining: 3m 8s\n",
            "460:\tlearn: 1.0841282\ttest: 1.0923049\tbest: 1.0923049 (460)\ttotal: 19.1s\tremaining: 3m 7s\n",
            "470:\tlearn: 1.0838719\ttest: 1.0922498\tbest: 1.0922498 (470)\ttotal: 19.5s\tremaining: 3m 7s\n",
            "480:\tlearn: 1.0836893\ttest: 1.0921359\tbest: 1.0921359 (480)\ttotal: 19.9s\tremaining: 3m 6s\n",
            "490:\tlearn: 1.0834280\ttest: 1.0921088\tbest: 1.0920912 (486)\ttotal: 20.3s\tremaining: 3m 6s\n",
            "500:\tlearn: 1.0831549\ttest: 1.0919314\tbest: 1.0919314 (500)\ttotal: 20.7s\tremaining: 3m 6s\n",
            "510:\tlearn: 1.0829468\ttest: 1.0918458\tbest: 1.0918458 (510)\ttotal: 21.1s\tremaining: 3m 5s\n",
            "520:\tlearn: 1.0827289\ttest: 1.0918353\tbest: 1.0918097 (515)\ttotal: 21.6s\tremaining: 3m 5s\n",
            "530:\tlearn: 1.0825187\ttest: 1.0917448\tbest: 1.0917448 (530)\ttotal: 22s\tremaining: 3m 4s\n",
            "540:\tlearn: 1.0822489\ttest: 1.0916860\tbest: 1.0916724 (539)\ttotal: 22.4s\tremaining: 3m 4s\n",
            "550:\tlearn: 1.0820499\ttest: 1.0916342\tbest: 1.0916342 (550)\ttotal: 22.8s\tremaining: 3m 3s\n",
            "560:\tlearn: 1.0818746\ttest: 1.0915923\tbest: 1.0915754 (557)\ttotal: 23.2s\tremaining: 3m 3s\n",
            "570:\tlearn: 1.0816530\ttest: 1.0914967\tbest: 1.0914967 (570)\ttotal: 23.6s\tremaining: 3m 2s\n",
            "580:\tlearn: 1.0813927\ttest: 1.0914519\tbest: 1.0914474 (579)\ttotal: 24s\tremaining: 3m 2s\n",
            "590:\tlearn: 1.0811158\ttest: 1.0913976\tbest: 1.0913942 (589)\ttotal: 24.4s\tremaining: 3m 2s\n",
            "600:\tlearn: 1.0809222\ttest: 1.0913281\tbest: 1.0913281 (600)\ttotal: 24.8s\tremaining: 3m 1s\n",
            "610:\tlearn: 1.0807131\ttest: 1.0912952\tbest: 1.0912902 (607)\ttotal: 25.2s\tremaining: 3m 1s\n",
            "620:\tlearn: 1.0805387\ttest: 1.0912628\tbest: 1.0912357 (617)\ttotal: 25.6s\tremaining: 3m\n",
            "630:\tlearn: 1.0803243\ttest: 1.0912772\tbest: 1.0912357 (617)\ttotal: 26s\tremaining: 3m\n",
            "640:\tlearn: 1.0801725\ttest: 1.0912678\tbest: 1.0912357 (617)\ttotal: 26.4s\tremaining: 2m 59s\n",
            "650:\tlearn: 1.0799692\ttest: 1.0912693\tbest: 1.0912357 (617)\ttotal: 26.8s\tremaining: 2m 59s\n",
            "660:\tlearn: 1.0797893\ttest: 1.0912430\tbest: 1.0912329 (659)\ttotal: 27.2s\tremaining: 2m 58s\n",
            "670:\tlearn: 1.0796105\ttest: 1.0912149\tbest: 1.0912149 (670)\ttotal: 27.7s\tremaining: 2m 58s\n",
            "680:\tlearn: 1.0795047\ttest: 1.0911412\tbest: 1.0911412 (680)\ttotal: 28s\tremaining: 2m 57s\n",
            "690:\tlearn: 1.0793240\ttest: 1.0911312\tbest: 1.0911121 (689)\ttotal: 28.4s\tremaining: 2m 57s\n",
            "700:\tlearn: 1.0791926\ttest: 1.0910768\tbest: 1.0910752 (698)\ttotal: 28.8s\tremaining: 2m 56s\n",
            "710:\tlearn: 1.0790031\ttest: 1.0910489\tbest: 1.0910414 (709)\ttotal: 29.2s\tremaining: 2m 56s\n",
            "720:\tlearn: 1.0788254\ttest: 1.0909864\tbest: 1.0909864 (720)\ttotal: 29.6s\tremaining: 2m 55s\n",
            "730:\tlearn: 1.0786530\ttest: 1.0909141\tbest: 1.0909141 (730)\ttotal: 30s\tremaining: 2m 55s\n",
            "740:\tlearn: 1.0784831\ttest: 1.0909137\tbest: 1.0908998 (738)\ttotal: 30.5s\tremaining: 2m 55s\n",
            "750:\tlearn: 1.0783628\ttest: 1.0909001\tbest: 1.0908919 (745)\ttotal: 30.9s\tremaining: 2m 54s\n",
            "760:\tlearn: 1.0782000\ttest: 1.0908894\tbest: 1.0908859 (759)\ttotal: 31.3s\tremaining: 2m 54s\n",
            "770:\tlearn: 1.0780302\ttest: 1.0908386\tbest: 1.0908386 (770)\ttotal: 31.7s\tremaining: 2m 53s\n",
            "780:\tlearn: 1.0778988\ttest: 1.0908601\tbest: 1.0908386 (770)\ttotal: 32.1s\tremaining: 2m 53s\n",
            "790:\tlearn: 1.0777289\ttest: 1.0908561\tbest: 1.0908300 (783)\ttotal: 32.5s\tremaining: 2m 52s\n",
            "800:\tlearn: 1.0775558\ttest: 1.0908164\tbest: 1.0908043 (799)\ttotal: 32.9s\tremaining: 2m 52s\n",
            "810:\tlearn: 1.0773625\ttest: 1.0908138\tbest: 1.0908043 (799)\ttotal: 33.3s\tremaining: 2m 51s\n",
            "820:\tlearn: 1.0772168\ttest: 1.0908531\tbest: 1.0908043 (799)\ttotal: 33.7s\tremaining: 2m 51s\n",
            "830:\tlearn: 1.0770383\ttest: 1.0908202\tbest: 1.0908043 (799)\ttotal: 34.1s\tremaining: 2m 51s\n",
            "840:\tlearn: 1.0769094\ttest: 1.0907963\tbest: 1.0907960 (839)\ttotal: 34.5s\tremaining: 2m 50s\n",
            "850:\tlearn: 1.0767775\ttest: 1.0907022\tbest: 1.0907022 (850)\ttotal: 34.9s\tremaining: 2m 50s\n",
            "860:\tlearn: 1.0766172\ttest: 1.0906827\tbest: 1.0906762 (858)\ttotal: 35.3s\tremaining: 2m 49s\n",
            "870:\tlearn: 1.0764697\ttest: 1.0906786\tbest: 1.0906695 (868)\ttotal: 35.7s\tremaining: 2m 49s\n",
            "880:\tlearn: 1.0763697\ttest: 1.0906658\tbest: 1.0906620 (877)\ttotal: 36.1s\tremaining: 2m 48s\n",
            "890:\tlearn: 1.0762195\ttest: 1.0906337\tbest: 1.0906337 (890)\ttotal: 36.5s\tremaining: 2m 48s\n",
            "900:\tlearn: 1.0760678\ttest: 1.0905944\tbest: 1.0905944 (900)\ttotal: 36.9s\tremaining: 2m 47s\n",
            "910:\tlearn: 1.0758605\ttest: 1.0906170\tbest: 1.0905872 (901)\ttotal: 37.3s\tremaining: 2m 47s\n",
            "920:\tlearn: 1.0757165\ttest: 1.0906293\tbest: 1.0905843 (913)\ttotal: 37.7s\tremaining: 2m 47s\n",
            "930:\tlearn: 1.0755616\ttest: 1.0905716\tbest: 1.0905716 (930)\ttotal: 38.1s\tremaining: 2m 46s\n",
            "940:\tlearn: 1.0753661\ttest: 1.0905514\tbest: 1.0905514 (940)\ttotal: 38.5s\tremaining: 2m 46s\n",
            "950:\tlearn: 1.0751851\ttest: 1.0905519\tbest: 1.0905429 (949)\ttotal: 39s\tremaining: 2m 45s\n",
            "960:\tlearn: 1.0750586\ttest: 1.0905440\tbest: 1.0905395 (952)\ttotal: 39.3s\tremaining: 2m 45s\n",
            "970:\tlearn: 1.0749373\ttest: 1.0905118\tbest: 1.0904940 (968)\ttotal: 39.7s\tremaining: 2m 44s\n",
            "980:\tlearn: 1.0747629\ttest: 1.0905122\tbest: 1.0904940 (968)\ttotal: 40.1s\tremaining: 2m 44s\n",
            "990:\tlearn: 1.0746142\ttest: 1.0904956\tbest: 1.0904940 (968)\ttotal: 40.5s\tremaining: 2m 43s\n",
            "1000:\tlearn: 1.0745224\ttest: 1.0904675\tbest: 1.0904675 (1000)\ttotal: 40.9s\tremaining: 2m 43s\n",
            "1010:\tlearn: 1.0743672\ttest: 1.0904563\tbest: 1.0904465 (1003)\ttotal: 41.3s\tremaining: 2m 43s\n",
            "1020:\tlearn: 1.0741988\ttest: 1.0904967\tbest: 1.0904465 (1003)\ttotal: 41.7s\tremaining: 2m 42s\n",
            "1030:\tlearn: 1.0740472\ttest: 1.0904453\tbest: 1.0904395 (1028)\ttotal: 42.2s\tremaining: 2m 42s\n",
            "1040:\tlearn: 1.0738823\ttest: 1.0904239\tbest: 1.0904134 (1038)\ttotal: 42.6s\tremaining: 2m 41s\n",
            "1050:\tlearn: 1.0737443\ttest: 1.0904476\tbest: 1.0904134 (1038)\ttotal: 43s\tremaining: 2m 41s\n",
            "1060:\tlearn: 1.0736261\ttest: 1.0904243\tbest: 1.0904134 (1038)\ttotal: 43.4s\tremaining: 2m 41s\n",
            "1070:\tlearn: 1.0735162\ttest: 1.0904434\tbest: 1.0904134 (1038)\ttotal: 43.8s\tremaining: 2m 40s\n",
            "1080:\tlearn: 1.0733789\ttest: 1.0904614\tbest: 1.0904134 (1038)\ttotal: 44.2s\tremaining: 2m 40s\n",
            "Stopped by overfitting detector  (50 iterations wait)\n",
            "\n",
            "bestTest = 1.090413382\n",
            "bestIteration = 1038\n",
            "\n",
            "Shrink model to first 1039 iterations.\n",
            "Fold 4, Valid score = 1.09041\n",
            "0:\tlearn: 1.3351889\ttest: 1.3351564\tbest: 1.3351564 (0)\ttotal: 40ms\tremaining: 3m 20s\n",
            "10:\tlearn: 1.1510735\ttest: 1.1513581\tbest: 1.1513581 (10)\ttotal: 452ms\tremaining: 3m 24s\n",
            "20:\tlearn: 1.1203601\ttest: 1.1209547\tbest: 1.1209547 (20)\ttotal: 873ms\tremaining: 3m 26s\n",
            "30:\tlearn: 1.1128265\ttest: 1.1136282\tbest: 1.1136282 (30)\ttotal: 1.3s\tremaining: 3m 28s\n",
            "40:\tlearn: 1.1096937\ttest: 1.1108052\tbest: 1.1108052 (40)\ttotal: 1.77s\tremaining: 3m 34s\n",
            "50:\tlearn: 1.1076406\ttest: 1.1093879\tbest: 1.1093879 (50)\ttotal: 2.19s\tremaining: 3m 32s\n",
            "60:\tlearn: 1.1060016\ttest: 1.1078026\tbest: 1.1078026 (60)\ttotal: 2.61s\tremaining: 3m 31s\n",
            "70:\tlearn: 1.1046386\ttest: 1.1067753\tbest: 1.1067753 (70)\ttotal: 3.02s\tremaining: 3m 30s\n",
            "80:\tlearn: 1.1032234\ttest: 1.1057188\tbest: 1.1057188 (80)\ttotal: 3.45s\tremaining: 3m 29s\n",
            "90:\tlearn: 1.1019466\ttest: 1.1047471\tbest: 1.1047471 (90)\ttotal: 3.87s\tremaining: 3m 28s\n",
            "100:\tlearn: 1.1009720\ttest: 1.1040114\tbest: 1.1040114 (100)\ttotal: 4.29s\tremaining: 3m 27s\n",
            "110:\tlearn: 1.0999398\ttest: 1.1033733\tbest: 1.1033733 (110)\ttotal: 4.7s\tremaining: 3m 26s\n",
            "120:\tlearn: 1.0989639\ttest: 1.1027124\tbest: 1.1027124 (120)\ttotal: 5.14s\tremaining: 3m 27s\n",
            "130:\tlearn: 1.0980847\ttest: 1.1020217\tbest: 1.1020217 (130)\ttotal: 5.55s\tremaining: 3m 26s\n",
            "140:\tlearn: 1.0973108\ttest: 1.1014963\tbest: 1.1014963 (140)\ttotal: 5.97s\tremaining: 3m 25s\n",
            "150:\tlearn: 1.0965012\ttest: 1.1009964\tbest: 1.1009964 (150)\ttotal: 6.38s\tremaining: 3m 25s\n",
            "160:\tlearn: 1.0957352\ttest: 1.1004168\tbest: 1.1004168 (160)\ttotal: 6.8s\tremaining: 3m 24s\n",
            "170:\tlearn: 1.0949582\ttest: 1.0998451\tbest: 1.0998451 (170)\ttotal: 7.22s\tremaining: 3m 24s\n",
            "180:\tlearn: 1.0943218\ttest: 1.0994981\tbest: 1.0994981 (180)\ttotal: 7.63s\tremaining: 3m 23s\n",
            "190:\tlearn: 1.0937906\ttest: 1.0992433\tbest: 1.0992433 (190)\ttotal: 8.04s\tremaining: 3m 22s\n",
            "200:\tlearn: 1.0931510\ttest: 1.0988994\tbest: 1.0988994 (200)\ttotal: 8.48s\tremaining: 3m 22s\n",
            "210:\tlearn: 1.0926175\ttest: 1.0985753\tbest: 1.0985753 (210)\ttotal: 8.88s\tremaining: 3m 21s\n",
            "220:\tlearn: 1.0921080\ttest: 1.0982758\tbest: 1.0982521 (218)\ttotal: 9.28s\tremaining: 3m 20s\n",
            "230:\tlearn: 1.0916210\ttest: 1.0979655\tbest: 1.0979655 (230)\ttotal: 9.68s\tremaining: 3m 19s\n",
            "240:\tlearn: 1.0910757\ttest: 1.0976233\tbest: 1.0976233 (240)\ttotal: 10.1s\tremaining: 3m 19s\n",
            "250:\tlearn: 1.0906617\ttest: 1.0974055\tbest: 1.0974055 (250)\ttotal: 10.5s\tremaining: 3m 18s\n",
            "260:\tlearn: 1.0902441\ttest: 1.0972217\tbest: 1.0972217 (260)\ttotal: 10.9s\tremaining: 3m 18s\n",
            "270:\tlearn: 1.0898421\ttest: 1.0971565\tbest: 1.0971179 (266)\ttotal: 11.3s\tremaining: 3m 17s\n",
            "280:\tlearn: 1.0894074\ttest: 1.0969539\tbest: 1.0969539 (280)\ttotal: 11.7s\tremaining: 3m 16s\n",
            "290:\tlearn: 1.0890430\ttest: 1.0968101\tbest: 1.0968101 (290)\ttotal: 12.2s\tremaining: 3m 16s\n",
            "300:\tlearn: 1.0886618\ttest: 1.0965465\tbest: 1.0965465 (300)\ttotal: 12.5s\tremaining: 3m 15s\n",
            "310:\tlearn: 1.0882872\ttest: 1.0963441\tbest: 1.0963441 (310)\ttotal: 13s\tremaining: 3m 15s\n",
            "320:\tlearn: 1.0879294\ttest: 1.0961499\tbest: 1.0961499 (320)\ttotal: 13.3s\tremaining: 3m 14s\n",
            "330:\tlearn: 1.0875727\ttest: 1.0962463\tbest: 1.0961499 (320)\ttotal: 13.8s\tremaining: 3m 14s\n",
            "340:\tlearn: 1.0872021\ttest: 1.0961318\tbest: 1.0961318 (340)\ttotal: 14.2s\tremaining: 3m 13s\n",
            "350:\tlearn: 1.0868880\ttest: 1.0960131\tbest: 1.0960131 (350)\ttotal: 14.6s\tremaining: 3m 13s\n",
            "360:\tlearn: 1.0865705\ttest: 1.0959113\tbest: 1.0959042 (359)\ttotal: 15s\tremaining: 3m 12s\n",
            "370:\tlearn: 1.0863154\ttest: 1.0958145\tbest: 1.0958145 (370)\ttotal: 15.4s\tremaining: 3m 11s\n",
            "380:\tlearn: 1.0860308\ttest: 1.0957343\tbest: 1.0957269 (379)\ttotal: 15.8s\tremaining: 3m 11s\n",
            "390:\tlearn: 1.0857263\ttest: 1.0956727\tbest: 1.0956445 (384)\ttotal: 16.2s\tremaining: 3m 10s\n",
            "400:\tlearn: 1.0854890\ttest: 1.0955795\tbest: 1.0955794 (399)\ttotal: 16.6s\tremaining: 3m 10s\n",
            "410:\tlearn: 1.0852822\ttest: 1.0955754\tbest: 1.0955547 (402)\ttotal: 17s\tremaining: 3m 9s\n",
            "420:\tlearn: 1.0849759\ttest: 1.0955454\tbest: 1.0955248 (418)\ttotal: 17.4s\tremaining: 3m 9s\n",
            "430:\tlearn: 1.0847767\ttest: 1.0955667\tbest: 1.0955248 (418)\ttotal: 17.8s\tremaining: 3m 8s\n",
            "440:\tlearn: 1.0845484\ttest: 1.0954176\tbest: 1.0954176 (440)\ttotal: 18.2s\tremaining: 3m 8s\n",
            "450:\tlearn: 1.0842629\ttest: 1.0952997\tbest: 1.0952984 (449)\ttotal: 18.6s\tremaining: 3m 7s\n",
            "460:\tlearn: 1.0840045\ttest: 1.0952335\tbest: 1.0952335 (460)\ttotal: 19s\tremaining: 3m 7s\n",
            "470:\tlearn: 1.0837593\ttest: 1.0951867\tbest: 1.0951816 (468)\ttotal: 19.4s\tremaining: 3m 6s\n",
            "480:\tlearn: 1.0835497\ttest: 1.0951628\tbest: 1.0951536 (478)\ttotal: 19.8s\tremaining: 3m 6s\n",
            "490:\tlearn: 1.0832784\ttest: 1.0950959\tbest: 1.0950959 (490)\ttotal: 20.3s\tremaining: 3m 6s\n",
            "500:\tlearn: 1.0831248\ttest: 1.0950764\tbest: 1.0950649 (497)\ttotal: 20.7s\tremaining: 3m 5s\n",
            "510:\tlearn: 1.0828464\ttest: 1.0950072\tbest: 1.0950072 (510)\ttotal: 21.1s\tremaining: 3m 5s\n",
            "520:\tlearn: 1.0825814\ttest: 1.0948886\tbest: 1.0948886 (520)\ttotal: 21.5s\tremaining: 3m 4s\n",
            "530:\tlearn: 1.0822627\ttest: 1.0947217\tbest: 1.0947099 (529)\ttotal: 21.9s\tremaining: 3m 4s\n",
            "540:\tlearn: 1.0820623\ttest: 1.0946692\tbest: 1.0946692 (540)\ttotal: 22.3s\tremaining: 3m 4s\n",
            "550:\tlearn: 1.0818569\ttest: 1.0946611\tbest: 1.0946317 (546)\ttotal: 22.7s\tremaining: 3m 3s\n",
            "560:\tlearn: 1.0815922\ttest: 1.0946527\tbest: 1.0946290 (553)\ttotal: 23.1s\tremaining: 3m 3s\n",
            "570:\tlearn: 1.0813120\ttest: 1.0945349\tbest: 1.0945349 (570)\ttotal: 23.6s\tremaining: 3m 2s\n",
            "580:\tlearn: 1.0810935\ttest: 1.0944550\tbest: 1.0944550 (580)\ttotal: 24s\tremaining: 3m 2s\n",
            "590:\tlearn: 1.0808927\ttest: 1.0944270\tbest: 1.0944270 (590)\ttotal: 24.4s\tremaining: 3m 1s\n",
            "600:\tlearn: 1.0806785\ttest: 1.0944002\tbest: 1.0943982 (599)\ttotal: 24.8s\tremaining: 3m 1s\n",
            "610:\tlearn: 1.0804457\ttest: 1.0943456\tbest: 1.0943421 (609)\ttotal: 25.2s\tremaining: 3m\n",
            "620:\tlearn: 1.0802322\ttest: 1.0943038\tbest: 1.0942878 (619)\ttotal: 25.6s\tremaining: 3m\n",
            "630:\tlearn: 1.0800244\ttest: 1.0943167\tbest: 1.0942878 (619)\ttotal: 26s\tremaining: 3m\n",
            "640:\tlearn: 1.0798201\ttest: 1.0942566\tbest: 1.0942566 (640)\ttotal: 26.4s\tremaining: 2m 59s\n",
            "650:\tlearn: 1.0796706\ttest: 1.0942359\tbest: 1.0942359 (650)\ttotal: 26.8s\tremaining: 2m 59s\n",
            "660:\tlearn: 1.0794637\ttest: 1.0942807\tbest: 1.0942359 (650)\ttotal: 27.2s\tremaining: 2m 58s\n",
            "670:\tlearn: 1.0792099\ttest: 1.0941803\tbest: 1.0941803 (670)\ttotal: 27.6s\tremaining: 2m 58s\n",
            "680:\tlearn: 1.0790368\ttest: 1.0941610\tbest: 1.0941590 (674)\ttotal: 28.1s\tremaining: 2m 57s\n",
            "690:\tlearn: 1.0788335\ttest: 1.0942047\tbest: 1.0941590 (674)\ttotal: 28.4s\tremaining: 2m 57s\n",
            "700:\tlearn: 1.0786049\ttest: 1.0941617\tbest: 1.0941450 (699)\ttotal: 28.9s\tremaining: 2m 56s\n",
            "710:\tlearn: 1.0784036\ttest: 1.0941689\tbest: 1.0941450 (699)\ttotal: 29.3s\tremaining: 2m 56s\n",
            "720:\tlearn: 1.0782418\ttest: 1.0941410\tbest: 1.0941410 (720)\ttotal: 29.7s\tremaining: 2m 56s\n",
            "730:\tlearn: 1.0780802\ttest: 1.0941519\tbest: 1.0941367 (726)\ttotal: 30.1s\tremaining: 2m 55s\n",
            "740:\tlearn: 1.0779174\ttest: 1.0941290\tbest: 1.0941290 (740)\ttotal: 30.5s\tremaining: 2m 55s\n",
            "750:\tlearn: 1.0777322\ttest: 1.0941171\tbest: 1.0940966 (748)\ttotal: 30.9s\tremaining: 2m 54s\n",
            "760:\tlearn: 1.0775392\ttest: 1.0941710\tbest: 1.0940966 (748)\ttotal: 31.3s\tremaining: 2m 54s\n",
            "770:\tlearn: 1.0774103\ttest: 1.0941403\tbest: 1.0940966 (748)\ttotal: 31.7s\tremaining: 2m 53s\n",
            "780:\tlearn: 1.0772079\ttest: 1.0940569\tbest: 1.0940569 (780)\ttotal: 32.1s\tremaining: 2m 53s\n",
            "790:\tlearn: 1.0770432\ttest: 1.0940517\tbest: 1.0940188 (786)\ttotal: 32.5s\tremaining: 2m 52s\n",
            "800:\tlearn: 1.0768454\ttest: 1.0940773\tbest: 1.0940188 (786)\ttotal: 32.9s\tremaining: 2m 52s\n",
            "810:\tlearn: 1.0766864\ttest: 1.0940719\tbest: 1.0940188 (786)\ttotal: 33.3s\tremaining: 2m 52s\n",
            "820:\tlearn: 1.0764911\ttest: 1.0941122\tbest: 1.0940188 (786)\ttotal: 33.7s\tremaining: 2m 51s\n",
            "830:\tlearn: 1.0763042\ttest: 1.0941001\tbest: 1.0940188 (786)\ttotal: 34.2s\tremaining: 2m 51s\n",
            "Stopped by overfitting detector  (50 iterations wait)\n",
            "\n",
            "bestTest = 1.094018817\n",
            "bestIteration = 786\n",
            "\n",
            "Shrink model to first 787 iterations.\n",
            "Fold 5, Valid score = 1.09402\n",
            "0:\tlearn: 1.3351745\ttest: 1.3351939\tbest: 1.3351939 (0)\ttotal: 39.1ms\tremaining: 3m 15s\n",
            "10:\tlearn: 1.1511353\ttest: 1.1516512\tbest: 1.1516512 (10)\ttotal: 427ms\tremaining: 3m 13s\n",
            "20:\tlearn: 1.1202125\ttest: 1.1212577\tbest: 1.1212577 (20)\ttotal: 848ms\tremaining: 3m 21s\n",
            "30:\tlearn: 1.1125457\ttest: 1.1140043\tbest: 1.1140043 (30)\ttotal: 1.28s\tremaining: 3m 25s\n",
            "40:\tlearn: 1.1092176\ttest: 1.1112705\tbest: 1.1112705 (40)\ttotal: 1.75s\tremaining: 3m 31s\n",
            "50:\tlearn: 1.1071522\ttest: 1.1096612\tbest: 1.1096612 (50)\ttotal: 2.17s\tremaining: 3m 30s\n",
            "60:\tlearn: 1.1055064\ttest: 1.1083779\tbest: 1.1083779 (60)\ttotal: 2.61s\tremaining: 3m 31s\n",
            "70:\tlearn: 1.1039363\ttest: 1.1071933\tbest: 1.1071933 (70)\ttotal: 3.05s\tremaining: 3m 31s\n",
            "80:\tlearn: 1.1028677\ttest: 1.1064089\tbest: 1.1064089 (80)\ttotal: 3.46s\tremaining: 3m 30s\n",
            "90:\tlearn: 1.1017479\ttest: 1.1057239\tbest: 1.1057239 (90)\ttotal: 3.88s\tremaining: 3m 29s\n",
            "100:\tlearn: 1.1007624\ttest: 1.1051359\tbest: 1.1051359 (100)\ttotal: 4.31s\tremaining: 3m 29s\n",
            "110:\tlearn: 1.0997397\ttest: 1.1042960\tbest: 1.1042960 (110)\ttotal: 4.74s\tremaining: 3m 28s\n",
            "120:\tlearn: 1.0986036\ttest: 1.1034320\tbest: 1.1034320 (120)\ttotal: 5.17s\tremaining: 3m 28s\n",
            "130:\tlearn: 1.0977039\ttest: 1.1027326\tbest: 1.1027326 (130)\ttotal: 5.59s\tremaining: 3m 27s\n",
            "140:\tlearn: 1.0970170\ttest: 1.1023188\tbest: 1.1023188 (140)\ttotal: 5.98s\tremaining: 3m 26s\n",
            "150:\tlearn: 1.0962307\ttest: 1.1017471\tbest: 1.1017471 (150)\ttotal: 6.39s\tremaining: 3m 25s\n",
            "160:\tlearn: 1.0954504\ttest: 1.1013347\tbest: 1.1013347 (160)\ttotal: 6.83s\tremaining: 3m 25s\n",
            "170:\tlearn: 1.0947759\ttest: 1.1009303\tbest: 1.1009303 (170)\ttotal: 7.24s\tremaining: 3m 24s\n",
            "180:\tlearn: 1.0940821\ttest: 1.1004881\tbest: 1.1004881 (180)\ttotal: 7.67s\tremaining: 3m 24s\n",
            "190:\tlearn: 1.0935572\ttest: 1.1001968\tbest: 1.1001968 (190)\ttotal: 8.08s\tremaining: 3m 23s\n",
            "200:\tlearn: 1.0928762\ttest: 1.0997554\tbest: 1.0997554 (200)\ttotal: 8.53s\tremaining: 3m 23s\n",
            "210:\tlearn: 1.0922754\ttest: 1.0994055\tbest: 1.0994055 (210)\ttotal: 8.95s\tremaining: 3m 23s\n",
            "220:\tlearn: 1.0917032\ttest: 1.0991099\tbest: 1.0991099 (220)\ttotal: 9.36s\tremaining: 3m 22s\n",
            "230:\tlearn: 1.0912462\ttest: 1.0988597\tbest: 1.0988597 (230)\ttotal: 9.78s\tremaining: 3m 21s\n",
            "240:\tlearn: 1.0906779\ttest: 1.0985380\tbest: 1.0985380 (240)\ttotal: 10.2s\tremaining: 3m 21s\n",
            "250:\tlearn: 1.0901859\ttest: 1.0983393\tbest: 1.0983393 (250)\ttotal: 10.6s\tremaining: 3m 20s\n",
            "260:\tlearn: 1.0897663\ttest: 1.0981245\tbest: 1.0981245 (260)\ttotal: 11s\tremaining: 3m 20s\n",
            "270:\tlearn: 1.0893253\ttest: 1.0979272\tbest: 1.0979272 (270)\ttotal: 11.5s\tremaining: 3m 19s\n",
            "280:\tlearn: 1.0888791\ttest: 1.0977740\tbest: 1.0977740 (280)\ttotal: 11.9s\tremaining: 3m 19s\n",
            "290:\tlearn: 1.0884877\ttest: 1.0977163\tbest: 1.0976907 (288)\ttotal: 12.3s\tremaining: 3m 18s\n",
            "300:\tlearn: 1.0880827\ttest: 1.0975996\tbest: 1.0975996 (300)\ttotal: 12.7s\tremaining: 3m 18s\n",
            "310:\tlearn: 1.0877436\ttest: 1.0974034\tbest: 1.0974034 (310)\ttotal: 13.1s\tremaining: 3m 17s\n",
            "320:\tlearn: 1.0874419\ttest: 1.0972832\tbest: 1.0972832 (320)\ttotal: 13.5s\tremaining: 3m 16s\n",
            "330:\tlearn: 1.0871693\ttest: 1.0971019\tbest: 1.0971019 (330)\ttotal: 13.9s\tremaining: 3m 16s\n",
            "340:\tlearn: 1.0868061\ttest: 1.0969463\tbest: 1.0969389 (338)\ttotal: 14.3s\tremaining: 3m 15s\n",
            "350:\tlearn: 1.0864875\ttest: 1.0968290\tbest: 1.0968290 (350)\ttotal: 14.8s\tremaining: 3m 15s\n",
            "360:\tlearn: 1.0861640\ttest: 1.0967597\tbest: 1.0967501 (359)\ttotal: 15.2s\tremaining: 3m 15s\n",
            "370:\tlearn: 1.0858442\ttest: 1.0965317\tbest: 1.0965317 (370)\ttotal: 15.6s\tremaining: 3m 14s\n",
            "380:\tlearn: 1.0855044\ttest: 1.0964996\tbest: 1.0964996 (380)\ttotal: 16s\tremaining: 3m 14s\n",
            "390:\tlearn: 1.0852525\ttest: 1.0964489\tbest: 1.0964489 (390)\ttotal: 16.4s\tremaining: 3m 13s\n",
            "400:\tlearn: 1.0850266\ttest: 1.0963817\tbest: 1.0963817 (400)\ttotal: 16.8s\tremaining: 3m 12s\n",
            "410:\tlearn: 1.0847545\ttest: 1.0963351\tbest: 1.0963330 (407)\ttotal: 17.2s\tremaining: 3m 12s\n",
            "420:\tlearn: 1.0845155\ttest: 1.0962986\tbest: 1.0962938 (418)\ttotal: 17.6s\tremaining: 3m 11s\n",
            "430:\tlearn: 1.0842233\ttest: 1.0962183\tbest: 1.0962183 (430)\ttotal: 18.1s\tremaining: 3m 11s\n",
            "440:\tlearn: 1.0839530\ttest: 1.0961995\tbest: 1.0961995 (440)\ttotal: 18.4s\tremaining: 3m 10s\n",
            "450:\tlearn: 1.0836993\ttest: 1.0961469\tbest: 1.0961409 (447)\ttotal: 18.9s\tremaining: 3m 10s\n",
            "460:\tlearn: 1.0834704\ttest: 1.0961271\tbest: 1.0961271 (460)\ttotal: 19.3s\tremaining: 3m 9s\n",
            "470:\tlearn: 1.0831745\ttest: 1.0960609\tbest: 1.0960609 (470)\ttotal: 19.7s\tremaining: 3m 9s\n",
            "480:\tlearn: 1.0829319\ttest: 1.0960094\tbest: 1.0960028 (478)\ttotal: 20.1s\tremaining: 3m 9s\n",
            "490:\tlearn: 1.0826972\ttest: 1.0959735\tbest: 1.0959433 (486)\ttotal: 20.5s\tremaining: 3m 8s\n",
            "500:\tlearn: 1.0824711\ttest: 1.0959146\tbest: 1.0959032 (499)\ttotal: 20.9s\tremaining: 3m 8s\n",
            "510:\tlearn: 1.0822390\ttest: 1.0958700\tbest: 1.0958561 (504)\ttotal: 21.4s\tremaining: 3m 7s\n",
            "520:\tlearn: 1.0820503\ttest: 1.0958006\tbest: 1.0957895 (519)\ttotal: 21.8s\tremaining: 3m 7s\n",
            "530:\tlearn: 1.0818202\ttest: 1.0957896\tbest: 1.0957895 (519)\ttotal: 22.2s\tremaining: 3m 6s\n",
            "540:\tlearn: 1.0815893\ttest: 1.0957394\tbest: 1.0957394 (540)\ttotal: 22.6s\tremaining: 3m 6s\n",
            "550:\tlearn: 1.0814515\ttest: 1.0957327\tbest: 1.0957294 (549)\ttotal: 23s\tremaining: 3m 5s\n",
            "560:\tlearn: 1.0811989\ttest: 1.0956652\tbest: 1.0956652 (560)\ttotal: 23.4s\tremaining: 3m 5s\n",
            "570:\tlearn: 1.0810238\ttest: 1.0956293\tbest: 1.0956293 (570)\ttotal: 23.8s\tremaining: 3m 4s\n",
            "580:\tlearn: 1.0808355\ttest: 1.0955658\tbest: 1.0955658 (580)\ttotal: 24.2s\tremaining: 3m 4s\n",
            "590:\tlearn: 1.0806334\ttest: 1.0955243\tbest: 1.0955076 (588)\ttotal: 24.6s\tremaining: 3m 3s\n",
            "600:\tlearn: 1.0804533\ttest: 1.0954531\tbest: 1.0954531 (600)\ttotal: 25s\tremaining: 3m 3s\n",
            "610:\tlearn: 1.0802238\ttest: 1.0954386\tbest: 1.0954368 (609)\ttotal: 25.5s\tremaining: 3m 2s\n",
            "620:\tlearn: 1.0800541\ttest: 1.0954119\tbest: 1.0953939 (618)\ttotal: 25.9s\tremaining: 3m 2s\n",
            "630:\tlearn: 1.0799010\ttest: 1.0953932\tbest: 1.0953876 (629)\ttotal: 26.3s\tremaining: 3m 2s\n",
            "640:\tlearn: 1.0796776\ttest: 1.0954127\tbest: 1.0953876 (629)\ttotal: 26.7s\tremaining: 3m 1s\n",
            "650:\tlearn: 1.0794887\ttest: 1.0954615\tbest: 1.0953876 (629)\ttotal: 27.1s\tremaining: 3m 1s\n",
            "660:\tlearn: 1.0793068\ttest: 1.0954301\tbest: 1.0953876 (629)\ttotal: 27.5s\tremaining: 3m\n",
            "670:\tlearn: 1.0791412\ttest: 1.0953450\tbest: 1.0953450 (670)\ttotal: 27.9s\tremaining: 3m\n",
            "680:\tlearn: 1.0789407\ttest: 1.0952932\tbest: 1.0952686 (679)\ttotal: 28.4s\tremaining: 2m 59s\n",
            "690:\tlearn: 1.0787452\ttest: 1.0952637\tbest: 1.0952635 (688)\ttotal: 28.8s\tremaining: 2m 59s\n",
            "700:\tlearn: 1.0786125\ttest: 1.0952547\tbest: 1.0952547 (700)\ttotal: 29.2s\tremaining: 2m 58s\n",
            "710:\tlearn: 1.0784214\ttest: 1.0951857\tbest: 1.0951857 (710)\ttotal: 29.6s\tremaining: 2m 58s\n",
            "720:\tlearn: 1.0782372\ttest: 1.0951494\tbest: 1.0951494 (720)\ttotal: 30s\tremaining: 2m 58s\n",
            "730:\tlearn: 1.0780718\ttest: 1.0951855\tbest: 1.0951494 (720)\ttotal: 30.4s\tremaining: 2m 57s\n",
            "740:\tlearn: 1.0779242\ttest: 1.0951428\tbest: 1.0951427 (739)\ttotal: 30.8s\tremaining: 2m 57s\n",
            "750:\tlearn: 1.0777178\ttest: 1.0951269\tbest: 1.0951159 (748)\ttotal: 31.2s\tremaining: 2m 56s\n",
            "760:\tlearn: 1.0775559\ttest: 1.0950806\tbest: 1.0950610 (758)\ttotal: 31.7s\tremaining: 2m 56s\n",
            "770:\tlearn: 1.0773857\ttest: 1.0950270\tbest: 1.0950270 (770)\ttotal: 32.1s\tremaining: 2m 55s\n",
            "780:\tlearn: 1.0772349\ttest: 1.0950372\tbest: 1.0949959 (777)\ttotal: 32.5s\tremaining: 2m 55s\n",
            "790:\tlearn: 1.0770691\ttest: 1.0950909\tbest: 1.0949959 (777)\ttotal: 32.9s\tremaining: 2m 54s\n",
            "800:\tlearn: 1.0768554\ttest: 1.0950811\tbest: 1.0949959 (777)\ttotal: 33.3s\tremaining: 2m 54s\n",
            "810:\tlearn: 1.0767101\ttest: 1.0951405\tbest: 1.0949959 (777)\ttotal: 33.7s\tremaining: 2m 53s\n",
            "820:\tlearn: 1.0765127\ttest: 1.0951306\tbest: 1.0949959 (777)\ttotal: 34.1s\tremaining: 2m 53s\n",
            "Stopped by overfitting detector  (50 iterations wait)\n",
            "\n",
            "bestTest = 1.094995885\n",
            "bestIteration = 777\n",
            "\n",
            "Shrink model to first 778 iterations.\n",
            "Fold 6, Valid score = 1.095\n",
            "0:\tlearn: 1.3351792\ttest: 1.3351821\tbest: 1.3351821 (0)\ttotal: 38.4ms\tremaining: 3m 12s\n",
            "10:\tlearn: 1.1514882\ttest: 1.1518760\tbest: 1.1518760 (10)\ttotal: 434ms\tremaining: 3m 16s\n",
            "20:\tlearn: 1.1205209\ttest: 1.1209791\tbest: 1.1209791 (20)\ttotal: 841ms\tremaining: 3m 19s\n",
            "30:\tlearn: 1.1130014\ttest: 1.1135473\tbest: 1.1135473 (30)\ttotal: 1.28s\tremaining: 3m 26s\n",
            "40:\tlearn: 1.1096593\ttest: 1.1105861\tbest: 1.1105861 (40)\ttotal: 1.74s\tremaining: 3m 30s\n",
            "50:\tlearn: 1.1076944\ttest: 1.1087970\tbest: 1.1087970 (50)\ttotal: 2.17s\tremaining: 3m 30s\n",
            "60:\tlearn: 1.1061765\ttest: 1.1075773\tbest: 1.1075773 (60)\ttotal: 2.6s\tremaining: 3m 30s\n",
            "70:\tlearn: 1.1049245\ttest: 1.1063768\tbest: 1.1063768 (70)\ttotal: 3.02s\tremaining: 3m 29s\n",
            "80:\tlearn: 1.1035653\ttest: 1.1052230\tbest: 1.1052230 (80)\ttotal: 3.45s\tremaining: 3m 29s\n",
            "90:\tlearn: 1.1023589\ttest: 1.1044685\tbest: 1.1044685 (90)\ttotal: 3.88s\tremaining: 3m 29s\n",
            "100:\tlearn: 1.1012376\ttest: 1.1035337\tbest: 1.1035337 (100)\ttotal: 4.3s\tremaining: 3m 28s\n",
            "110:\tlearn: 1.1002771\ttest: 1.1027946\tbest: 1.1027946 (110)\ttotal: 4.75s\tremaining: 3m 29s\n",
            "120:\tlearn: 1.0993371\ttest: 1.1020742\tbest: 1.1020742 (120)\ttotal: 5.17s\tremaining: 3m 28s\n",
            "130:\tlearn: 1.0983859\ttest: 1.1014360\tbest: 1.1014360 (130)\ttotal: 5.59s\tremaining: 3m 27s\n",
            "140:\tlearn: 1.0975925\ttest: 1.1009011\tbest: 1.1009011 (140)\ttotal: 5.99s\tremaining: 3m 26s\n",
            "150:\tlearn: 1.0967915\ttest: 1.1003923\tbest: 1.1003923 (150)\ttotal: 6.4s\tremaining: 3m 25s\n",
            "160:\tlearn: 1.0960353\ttest: 1.0998166\tbest: 1.0998166 (160)\ttotal: 6.83s\tremaining: 3m 25s\n",
            "170:\tlearn: 1.0953713\ttest: 1.0994533\tbest: 1.0994533 (170)\ttotal: 7.24s\tremaining: 3m 24s\n",
            "180:\tlearn: 1.0946962\ttest: 1.0991360\tbest: 1.0991360 (180)\ttotal: 7.67s\tremaining: 3m 24s\n",
            "190:\tlearn: 1.0940964\ttest: 1.0987997\tbest: 1.0987997 (190)\ttotal: 8.08s\tremaining: 3m 23s\n",
            "200:\tlearn: 1.0933970\ttest: 1.0983345\tbest: 1.0983345 (200)\ttotal: 8.5s\tremaining: 3m 22s\n",
            "210:\tlearn: 1.0928189\ttest: 1.0979877\tbest: 1.0979877 (210)\ttotal: 8.91s\tremaining: 3m 22s\n",
            "220:\tlearn: 1.0922730\ttest: 1.0976893\tbest: 1.0976893 (220)\ttotal: 9.31s\tremaining: 3m 21s\n",
            "230:\tlearn: 1.0917369\ttest: 1.0973054\tbest: 1.0973054 (230)\ttotal: 9.74s\tremaining: 3m 21s\n",
            "240:\tlearn: 1.0912701\ttest: 1.0972306\tbest: 1.0972306 (240)\ttotal: 10.2s\tremaining: 3m 20s\n",
            "250:\tlearn: 1.0908765\ttest: 1.0970563\tbest: 1.0970563 (250)\ttotal: 10.6s\tremaining: 3m 19s\n",
            "260:\tlearn: 1.0904697\ttest: 1.0968088\tbest: 1.0968088 (260)\ttotal: 11s\tremaining: 3m 18s\n",
            "270:\tlearn: 1.0899921\ttest: 1.0966299\tbest: 1.0966299 (270)\ttotal: 11.4s\tremaining: 3m 18s\n",
            "280:\tlearn: 1.0896341\ttest: 1.0964057\tbest: 1.0964057 (280)\ttotal: 11.8s\tremaining: 3m 17s\n",
            "290:\tlearn: 1.0891703\ttest: 1.0961722\tbest: 1.0961722 (290)\ttotal: 12.2s\tremaining: 3m 17s\n",
            "300:\tlearn: 1.0887862\ttest: 1.0960127\tbest: 1.0960127 (300)\ttotal: 12.6s\tremaining: 3m 16s\n",
            "310:\tlearn: 1.0883957\ttest: 1.0957977\tbest: 1.0957977 (310)\ttotal: 13s\tremaining: 3m 15s\n",
            "320:\tlearn: 1.0880874\ttest: 1.0956702\tbest: 1.0956702 (320)\ttotal: 13.4s\tremaining: 3m 15s\n",
            "330:\tlearn: 1.0877119\ttest: 1.0954652\tbest: 1.0954652 (330)\ttotal: 13.8s\tremaining: 3m 14s\n",
            "340:\tlearn: 1.0873717\ttest: 1.0952890\tbest: 1.0952890 (340)\ttotal: 14.2s\tremaining: 3m 14s\n",
            "350:\tlearn: 1.0869537\ttest: 1.0950365\tbest: 1.0950365 (350)\ttotal: 14.6s\tremaining: 3m 13s\n",
            "360:\tlearn: 1.0866850\ttest: 1.0949583\tbest: 1.0949583 (360)\ttotal: 15s\tremaining: 3m 13s\n",
            "370:\tlearn: 1.0863878\ttest: 1.0947720\tbest: 1.0947720 (370)\ttotal: 15.4s\tremaining: 3m 12s\n",
            "380:\tlearn: 1.0860682\ttest: 1.0946676\tbest: 1.0946676 (380)\ttotal: 15.9s\tremaining: 3m 12s\n",
            "390:\tlearn: 1.0857836\ttest: 1.0945355\tbest: 1.0945355 (390)\ttotal: 16.3s\tremaining: 3m 11s\n",
            "400:\tlearn: 1.0855487\ttest: 1.0944978\tbest: 1.0944978 (400)\ttotal: 16.7s\tremaining: 3m 11s\n",
            "410:\tlearn: 1.0853106\ttest: 1.0944592\tbest: 1.0944431 (405)\ttotal: 17.1s\tremaining: 3m 10s\n",
            "420:\tlearn: 1.0850743\ttest: 1.0944654\tbest: 1.0944431 (405)\ttotal: 17.5s\tremaining: 3m 9s\n",
            "430:\tlearn: 1.0847623\ttest: 1.0943385\tbest: 1.0943385 (430)\ttotal: 17.9s\tremaining: 3m 9s\n",
            "440:\tlearn: 1.0844953\ttest: 1.0942798\tbest: 1.0942798 (440)\ttotal: 18.3s\tremaining: 3m 9s\n",
            "450:\tlearn: 1.0842343\ttest: 1.0942250\tbest: 1.0942250 (450)\ttotal: 18.7s\tremaining: 3m 8s\n",
            "460:\tlearn: 1.0840225\ttest: 1.0941609\tbest: 1.0941609 (460)\ttotal: 19.1s\tremaining: 3m 8s\n",
            "470:\tlearn: 1.0837349\ttest: 1.0941185\tbest: 1.0941077 (465)\ttotal: 19.5s\tremaining: 3m 7s\n",
            "480:\tlearn: 1.0834959\ttest: 1.0941164\tbest: 1.0941065 (471)\ttotal: 19.9s\tremaining: 3m 7s\n",
            "490:\tlearn: 1.0832681\ttest: 1.0940231\tbest: 1.0940231 (490)\ttotal: 20.3s\tremaining: 3m 6s\n",
            "500:\tlearn: 1.0829972\ttest: 1.0939255\tbest: 1.0939241 (497)\ttotal: 20.8s\tremaining: 3m 6s\n",
            "510:\tlearn: 1.0827683\ttest: 1.0939097\tbest: 1.0938907 (507)\ttotal: 21.2s\tremaining: 3m 6s\n",
            "520:\tlearn: 1.0826091\ttest: 1.0939272\tbest: 1.0938907 (507)\ttotal: 21.6s\tremaining: 3m 5s\n",
            "530:\tlearn: 1.0823990\ttest: 1.0938615\tbest: 1.0938615 (530)\ttotal: 22s\tremaining: 3m 5s\n",
            "540:\tlearn: 1.0821488\ttest: 1.0937634\tbest: 1.0937634 (540)\ttotal: 22.4s\tremaining: 3m 4s\n",
            "550:\tlearn: 1.0819662\ttest: 1.0937696\tbest: 1.0937503 (548)\ttotal: 22.8s\tremaining: 3m 4s\n",
            "560:\tlearn: 1.0817618\ttest: 1.0937086\tbest: 1.0937053 (557)\ttotal: 23.2s\tremaining: 3m 3s\n",
            "570:\tlearn: 1.0815749\ttest: 1.0936483\tbest: 1.0936346 (568)\ttotal: 23.6s\tremaining: 3m 3s\n",
            "580:\tlearn: 1.0813607\ttest: 1.0935771\tbest: 1.0935771 (580)\ttotal: 24s\tremaining: 3m 2s\n",
            "590:\tlearn: 1.0811444\ttest: 1.0935576\tbest: 1.0935576 (590)\ttotal: 24.4s\tremaining: 3m 2s\n",
            "600:\tlearn: 1.0808896\ttest: 1.0935247\tbest: 1.0935247 (600)\ttotal: 24.8s\tremaining: 3m 1s\n",
            "610:\tlearn: 1.0807241\ttest: 1.0935364\tbest: 1.0935247 (600)\ttotal: 25.2s\tremaining: 3m 1s\n",
            "620:\tlearn: 1.0804914\ttest: 1.0935520\tbest: 1.0935247 (600)\ttotal: 25.7s\tremaining: 3m 1s\n",
            "630:\tlearn: 1.0802941\ttest: 1.0935665\tbest: 1.0935247 (600)\ttotal: 26.1s\tremaining: 3m\n",
            "640:\tlearn: 1.0801248\ttest: 1.0935237\tbest: 1.0935237 (640)\ttotal: 26.5s\tremaining: 2m 59s\n",
            "650:\tlearn: 1.0799075\ttest: 1.0934404\tbest: 1.0934404 (650)\ttotal: 26.9s\tremaining: 2m 59s\n",
            "660:\tlearn: 1.0797062\ttest: 1.0934051\tbest: 1.0933705 (656)\ttotal: 27.3s\tremaining: 2m 59s\n",
            "670:\tlearn: 1.0794828\ttest: 1.0933960\tbest: 1.0933705 (656)\ttotal: 27.7s\tremaining: 2m 58s\n",
            "680:\tlearn: 1.0792883\ttest: 1.0933819\tbest: 1.0933705 (656)\ttotal: 28.1s\tremaining: 2m 58s\n",
            "690:\tlearn: 1.0791036\ttest: 1.0934166\tbest: 1.0933705 (656)\ttotal: 28.5s\tremaining: 2m 57s\n",
            "700:\tlearn: 1.0789042\ttest: 1.0933981\tbest: 1.0933705 (656)\ttotal: 28.9s\tremaining: 2m 57s\n",
            "Stopped by overfitting detector  (50 iterations wait)\n",
            "\n",
            "bestTest = 1.093370484\n",
            "bestIteration = 656\n",
            "\n",
            "Shrink model to first 657 iterations.\n",
            "Fold 7, Valid score = 1.09337\n",
            "Score by each fold: [1.09127, 1.09462, 1.09216, 1.09041, 1.09402, 1.095, 1.09337]\n",
            "=================================================================\n"
          ],
          "name": "stdout"
        }
      ]
    },
    {
      "cell_type": "code",
      "metadata": {
        "colab": {
          "base_uri": "https://localhost:8080/"
        },
        "id": "AlFk82SKzxmS",
        "outputId": "10e3c20b-0c75-48c6-d71c-1d9fd40b324c"
      },
      "source": [
        "print(f\"Out of fold log loss {metrics.log_loss(y_train, cb_oof)}\")"
      ],
      "execution_count": 38,
      "outputs": [
        {
          "output_type": "stream",
          "text": [
            "Out of fold log loss 1.092977742733346\n"
          ],
          "name": "stdout"
        }
      ]
    },
    {
      "cell_type": "code",
      "metadata": {
        "colab": {
          "base_uri": "https://localhost:8080/"
        },
        "id": "DvBbz2cFz7O4",
        "outputId": "62cf3e94-b66e-481e-cad1-d3e63624c141"
      },
      "source": [
        "result_cb = multi_estimators_predict(cb_estimators, x_valid, y_valid, metrics.log_loss)"
      ],
      "execution_count": 39,
      "outputs": [
        {
          "output_type": "stream",
          "text": [
            "Model 0 metric: 1.091101\n",
            "Model 1 metric: 1.091115\n",
            "Model 2 metric: 1.091027\n",
            "Model 3 metric: 1.090776\n",
            "Model 4 metric: 1.091148\n",
            "Model 5 metric: 1.090821\n",
            "Model 6 metric: 1.091873\n",
            "Result model metric: 1.090472\n"
          ],
          "name": "stdout"
        }
      ]
    },
    {
      "cell_type": "markdown",
      "metadata": {
        "id": "fDRuoF1D7nQ2"
      },
      "source": [
        "### XGBoost"
      ]
    },
    {
      "cell_type": "code",
      "metadata": {
        "colab": {
          "base_uri": "https://localhost:8080/"
        },
        "id": "6ahMyfmGsKvT",
        "outputId": "6d59bb8b-8f3a-4aa8-eecb-4d62f65aa888"
      },
      "source": [
        "xgb_params = {\n",
        "    'objective': 'multi:softprob',\n",
        "    #'eval_metric': 'mlogloss',\n",
        "    'random_state': 13,\n",
        "    'max_depth': 5, \n",
        "    'n_estimators': 2000,\n",
        "    'num_class': 4\n",
        "}\n",
        "\n",
        "xgb_params = {\n",
        "    'objective': 'multi:softprob',\n",
        "    'eval_metric': 'mlogloss',\n",
        "    'random_state': 13,\n",
        "    'learning_rate': 0.08356451010151393, \n",
        "    'gamma': 0.02911685058980812, \n",
        "    'max_depth': 5, \n",
        "    'min_child_weight': 10.748514454096288, \n",
        "    'max_delta_step': 2.4474818433727927, \n",
        "    'subsample': 0.6445037550866027, \n",
        "    'colsample_bytree': 0.07634753656242108, \n",
        "    'lambda': 13.663280761461781, \n",
        "    'alpha': 21.521205761694137, \n",
        "    'max_leaves': 48,\n",
        "    'n_estimators': 2000,\n",
        "    'num_class': 4\n",
        "}\n",
        "\n",
        "cv = StratifiedKFold(n_splits=7, random_state=435, shuffle=True)\n",
        "\n",
        "xgb_estimators, xgb_encoders, xgb_oof = xgboost_cv_fit(\n",
        "    xgb_params, x_train, y_train, cv, #categorical=categorical_feature_names\n",
        ")"
      ],
      "execution_count": 26,
      "outputs": [
        {
          "output_type": "stream",
          "text": [
            "Mon May 17 20:18:43 2021, Cross-Validation, 70000 rows, 50 cols\n",
            "[0]\tvalidation_0-mlogloss:1.35373\n",
            "Will train until validation_0-mlogloss hasn't improved in 50 rounds.\n",
            "[10]\tvalidation_0-mlogloss:1.18542\n",
            "[20]\tvalidation_0-mlogloss:1.13521\n",
            "[30]\tvalidation_0-mlogloss:1.11891\n",
            "[40]\tvalidation_0-mlogloss:1.11292\n",
            "[50]\tvalidation_0-mlogloss:1.11037\n",
            "[60]\tvalidation_0-mlogloss:1.1082\n",
            "[70]\tvalidation_0-mlogloss:1.10654\n",
            "[80]\tvalidation_0-mlogloss:1.10537\n",
            "[90]\tvalidation_0-mlogloss:1.10413\n",
            "[100]\tvalidation_0-mlogloss:1.10282\n",
            "[110]\tvalidation_0-mlogloss:1.10171\n",
            "[120]\tvalidation_0-mlogloss:1.10082\n",
            "[130]\tvalidation_0-mlogloss:1.10004\n",
            "[140]\tvalidation_0-mlogloss:1.09912\n",
            "[150]\tvalidation_0-mlogloss:1.09832\n",
            "[160]\tvalidation_0-mlogloss:1.09761\n",
            "[170]\tvalidation_0-mlogloss:1.09711\n",
            "[180]\tvalidation_0-mlogloss:1.09639\n",
            "[190]\tvalidation_0-mlogloss:1.09575\n",
            "[200]\tvalidation_0-mlogloss:1.09518\n",
            "[210]\tvalidation_0-mlogloss:1.09475\n",
            "[220]\tvalidation_0-mlogloss:1.09432\n",
            "[230]\tvalidation_0-mlogloss:1.09393\n",
            "[240]\tvalidation_0-mlogloss:1.09376\n",
            "[250]\tvalidation_0-mlogloss:1.09344\n",
            "[260]\tvalidation_0-mlogloss:1.09308\n",
            "[270]\tvalidation_0-mlogloss:1.09281\n",
            "[280]\tvalidation_0-mlogloss:1.09258\n",
            "[290]\tvalidation_0-mlogloss:1.09252\n",
            "[300]\tvalidation_0-mlogloss:1.09244\n",
            "[310]\tvalidation_0-mlogloss:1.09229\n",
            "[320]\tvalidation_0-mlogloss:1.0922\n",
            "[330]\tvalidation_0-mlogloss:1.09217\n",
            "[340]\tvalidation_0-mlogloss:1.09212\n",
            "[350]\tvalidation_0-mlogloss:1.09201\n",
            "[360]\tvalidation_0-mlogloss:1.09196\n",
            "[370]\tvalidation_0-mlogloss:1.09192\n",
            "[380]\tvalidation_0-mlogloss:1.09194\n",
            "[390]\tvalidation_0-mlogloss:1.09207\n",
            "[400]\tvalidation_0-mlogloss:1.09193\n",
            "[410]\tvalidation_0-mlogloss:1.09199\n",
            "[420]\tvalidation_0-mlogloss:1.09202\n",
            "[430]\tvalidation_0-mlogloss:1.09196\n",
            "[440]\tvalidation_0-mlogloss:1.09202\n",
            "Stopping. Best iteration:\n",
            "[398]\tvalidation_0-mlogloss:1.09188\n",
            "\n",
            "Fold 1, Valid score = 1.09188\n",
            "[0]\tvalidation_0-mlogloss:1.35366\n",
            "Will train until validation_0-mlogloss hasn't improved in 50 rounds.\n",
            "[10]\tvalidation_0-mlogloss:1.1855\n",
            "[20]\tvalidation_0-mlogloss:1.13544\n",
            "[30]\tvalidation_0-mlogloss:1.11917\n",
            "[40]\tvalidation_0-mlogloss:1.11288\n",
            "[50]\tvalidation_0-mlogloss:1.1101\n",
            "[60]\tvalidation_0-mlogloss:1.10826\n",
            "[70]\tvalidation_0-mlogloss:1.10633\n",
            "[80]\tvalidation_0-mlogloss:1.105\n",
            "[90]\tvalidation_0-mlogloss:1.10385\n",
            "[100]\tvalidation_0-mlogloss:1.10267\n",
            "[110]\tvalidation_0-mlogloss:1.10169\n",
            "[120]\tvalidation_0-mlogloss:1.10095\n",
            "[130]\tvalidation_0-mlogloss:1.10029\n",
            "[140]\tvalidation_0-mlogloss:1.09946\n",
            "[150]\tvalidation_0-mlogloss:1.09889\n",
            "[160]\tvalidation_0-mlogloss:1.09844\n",
            "[170]\tvalidation_0-mlogloss:1.09809\n",
            "[180]\tvalidation_0-mlogloss:1.09772\n",
            "[190]\tvalidation_0-mlogloss:1.09739\n",
            "[200]\tvalidation_0-mlogloss:1.097\n",
            "[210]\tvalidation_0-mlogloss:1.0966\n",
            "[220]\tvalidation_0-mlogloss:1.09641\n",
            "[230]\tvalidation_0-mlogloss:1.09625\n",
            "[240]\tvalidation_0-mlogloss:1.09601\n",
            "[250]\tvalidation_0-mlogloss:1.09589\n",
            "[260]\tvalidation_0-mlogloss:1.09568\n",
            "[270]\tvalidation_0-mlogloss:1.09531\n",
            "[280]\tvalidation_0-mlogloss:1.09507\n",
            "[290]\tvalidation_0-mlogloss:1.09481\n",
            "[300]\tvalidation_0-mlogloss:1.09473\n",
            "[310]\tvalidation_0-mlogloss:1.09455\n",
            "[320]\tvalidation_0-mlogloss:1.09435\n",
            "[330]\tvalidation_0-mlogloss:1.09425\n",
            "[340]\tvalidation_0-mlogloss:1.09412\n",
            "[350]\tvalidation_0-mlogloss:1.09405\n",
            "[360]\tvalidation_0-mlogloss:1.09405\n",
            "[370]\tvalidation_0-mlogloss:1.09402\n",
            "[380]\tvalidation_0-mlogloss:1.09391\n",
            "[390]\tvalidation_0-mlogloss:1.09402\n",
            "[400]\tvalidation_0-mlogloss:1.0941\n",
            "[410]\tvalidation_0-mlogloss:1.09416\n",
            "[420]\tvalidation_0-mlogloss:1.09407\n",
            "Stopping. Best iteration:\n",
            "[378]\tvalidation_0-mlogloss:1.09388\n",
            "\n",
            "Fold 2, Valid score = 1.09388\n",
            "[0]\tvalidation_0-mlogloss:1.35375\n",
            "Will train until validation_0-mlogloss hasn't improved in 50 rounds.\n",
            "[10]\tvalidation_0-mlogloss:1.18544\n",
            "[20]\tvalidation_0-mlogloss:1.13508\n",
            "[30]\tvalidation_0-mlogloss:1.11898\n",
            "[40]\tvalidation_0-mlogloss:1.11277\n",
            "[50]\tvalidation_0-mlogloss:1.11009\n",
            "[60]\tvalidation_0-mlogloss:1.10812\n",
            "[70]\tvalidation_0-mlogloss:1.10631\n",
            "[80]\tvalidation_0-mlogloss:1.10504\n",
            "[90]\tvalidation_0-mlogloss:1.10406\n",
            "[100]\tvalidation_0-mlogloss:1.10296\n",
            "[110]\tvalidation_0-mlogloss:1.10179\n",
            "[120]\tvalidation_0-mlogloss:1.10104\n",
            "[130]\tvalidation_0-mlogloss:1.10034\n",
            "[140]\tvalidation_0-mlogloss:1.09961\n",
            "[150]\tvalidation_0-mlogloss:1.0988\n",
            "[160]\tvalidation_0-mlogloss:1.09827\n",
            "[170]\tvalidation_0-mlogloss:1.09774\n",
            "[180]\tvalidation_0-mlogloss:1.09742\n",
            "[190]\tvalidation_0-mlogloss:1.09683\n",
            "[200]\tvalidation_0-mlogloss:1.09644\n",
            "[210]\tvalidation_0-mlogloss:1.09596\n",
            "[220]\tvalidation_0-mlogloss:1.09553\n",
            "[230]\tvalidation_0-mlogloss:1.09532\n",
            "[240]\tvalidation_0-mlogloss:1.09509\n",
            "[250]\tvalidation_0-mlogloss:1.09498\n",
            "[260]\tvalidation_0-mlogloss:1.0947\n",
            "[270]\tvalidation_0-mlogloss:1.09444\n",
            "[280]\tvalidation_0-mlogloss:1.09428\n",
            "[290]\tvalidation_0-mlogloss:1.09411\n",
            "[300]\tvalidation_0-mlogloss:1.09408\n",
            "[310]\tvalidation_0-mlogloss:1.09405\n",
            "[320]\tvalidation_0-mlogloss:1.094\n",
            "[330]\tvalidation_0-mlogloss:1.09399\n",
            "[340]\tvalidation_0-mlogloss:1.09393\n",
            "[350]\tvalidation_0-mlogloss:1.0939\n",
            "[360]\tvalidation_0-mlogloss:1.09391\n",
            "[370]\tvalidation_0-mlogloss:1.09386\n",
            "[380]\tvalidation_0-mlogloss:1.09396\n",
            "[390]\tvalidation_0-mlogloss:1.09399\n",
            "[400]\tvalidation_0-mlogloss:1.09412\n",
            "Stopping. Best iteration:\n",
            "[353]\tvalidation_0-mlogloss:1.09386\n",
            "\n",
            "Fold 3, Valid score = 1.09386\n",
            "[0]\tvalidation_0-mlogloss:1.35371\n",
            "Will train until validation_0-mlogloss hasn't improved in 50 rounds.\n",
            "[10]\tvalidation_0-mlogloss:1.18544\n",
            "[20]\tvalidation_0-mlogloss:1.13505\n",
            "[30]\tvalidation_0-mlogloss:1.11872\n",
            "[40]\tvalidation_0-mlogloss:1.11226\n",
            "[50]\tvalidation_0-mlogloss:1.10955\n",
            "[60]\tvalidation_0-mlogloss:1.10749\n",
            "[70]\tvalidation_0-mlogloss:1.10553\n",
            "[80]\tvalidation_0-mlogloss:1.10417\n",
            "[90]\tvalidation_0-mlogloss:1.10295\n",
            "[100]\tvalidation_0-mlogloss:1.10169\n",
            "[110]\tvalidation_0-mlogloss:1.10066\n",
            "[120]\tvalidation_0-mlogloss:1.09955\n",
            "[130]\tvalidation_0-mlogloss:1.09863\n",
            "[140]\tvalidation_0-mlogloss:1.09782\n",
            "[150]\tvalidation_0-mlogloss:1.09691\n",
            "[160]\tvalidation_0-mlogloss:1.09639\n",
            "[170]\tvalidation_0-mlogloss:1.09583\n",
            "[180]\tvalidation_0-mlogloss:1.09533\n",
            "[190]\tvalidation_0-mlogloss:1.09464\n",
            "[200]\tvalidation_0-mlogloss:1.09434\n",
            "[210]\tvalidation_0-mlogloss:1.09394\n",
            "[220]\tvalidation_0-mlogloss:1.09353\n",
            "[230]\tvalidation_0-mlogloss:1.09335\n",
            "[240]\tvalidation_0-mlogloss:1.09306\n",
            "[250]\tvalidation_0-mlogloss:1.09283\n",
            "[260]\tvalidation_0-mlogloss:1.0926\n",
            "[270]\tvalidation_0-mlogloss:1.09238\n",
            "[280]\tvalidation_0-mlogloss:1.09214\n",
            "[290]\tvalidation_0-mlogloss:1.09186\n",
            "[300]\tvalidation_0-mlogloss:1.0917\n",
            "[310]\tvalidation_0-mlogloss:1.09156\n",
            "[320]\tvalidation_0-mlogloss:1.09143\n",
            "[330]\tvalidation_0-mlogloss:1.09132\n",
            "[340]\tvalidation_0-mlogloss:1.09125\n",
            "[350]\tvalidation_0-mlogloss:1.09116\n",
            "[360]\tvalidation_0-mlogloss:1.09109\n",
            "[370]\tvalidation_0-mlogloss:1.09094\n",
            "[380]\tvalidation_0-mlogloss:1.09085\n",
            "[390]\tvalidation_0-mlogloss:1.09097\n",
            "[400]\tvalidation_0-mlogloss:1.09098\n",
            "[410]\tvalidation_0-mlogloss:1.09105\n",
            "[420]\tvalidation_0-mlogloss:1.09113\n",
            "Stopping. Best iteration:\n",
            "[379]\tvalidation_0-mlogloss:1.09085\n",
            "\n",
            "Fold 4, Valid score = 1.09085\n",
            "[0]\tvalidation_0-mlogloss:1.35364\n",
            "Will train until validation_0-mlogloss hasn't improved in 50 rounds.\n",
            "[10]\tvalidation_0-mlogloss:1.18549\n",
            "[20]\tvalidation_0-mlogloss:1.1355\n",
            "[30]\tvalidation_0-mlogloss:1.11964\n",
            "[40]\tvalidation_0-mlogloss:1.11343\n",
            "[50]\tvalidation_0-mlogloss:1.11077\n",
            "[60]\tvalidation_0-mlogloss:1.10888\n",
            "[70]\tvalidation_0-mlogloss:1.10719\n",
            "[80]\tvalidation_0-mlogloss:1.10603\n",
            "[90]\tvalidation_0-mlogloss:1.10493\n",
            "[100]\tvalidation_0-mlogloss:1.10384\n",
            "[110]\tvalidation_0-mlogloss:1.10302\n",
            "[120]\tvalidation_0-mlogloss:1.10216\n",
            "[130]\tvalidation_0-mlogloss:1.10139\n",
            "[140]\tvalidation_0-mlogloss:1.10109\n",
            "[150]\tvalidation_0-mlogloss:1.10027\n",
            "[160]\tvalidation_0-mlogloss:1.09975\n",
            "[170]\tvalidation_0-mlogloss:1.09942\n",
            "[180]\tvalidation_0-mlogloss:1.09911\n",
            "[190]\tvalidation_0-mlogloss:1.09889\n",
            "[200]\tvalidation_0-mlogloss:1.09849\n",
            "[210]\tvalidation_0-mlogloss:1.09812\n",
            "[220]\tvalidation_0-mlogloss:1.09784\n",
            "[230]\tvalidation_0-mlogloss:1.09758\n",
            "[240]\tvalidation_0-mlogloss:1.09749\n",
            "[250]\tvalidation_0-mlogloss:1.09735\n",
            "[260]\tvalidation_0-mlogloss:1.09716\n",
            "[270]\tvalidation_0-mlogloss:1.09701\n",
            "[280]\tvalidation_0-mlogloss:1.0969\n",
            "[290]\tvalidation_0-mlogloss:1.09676\n",
            "[300]\tvalidation_0-mlogloss:1.09662\n",
            "[310]\tvalidation_0-mlogloss:1.09651\n",
            "[320]\tvalidation_0-mlogloss:1.09655\n",
            "[330]\tvalidation_0-mlogloss:1.09653\n",
            "[340]\tvalidation_0-mlogloss:1.09647\n",
            "[350]\tvalidation_0-mlogloss:1.0966\n",
            "Stopping. Best iteration:\n",
            "[306]\tvalidation_0-mlogloss:1.09644\n",
            "\n",
            "Fold 5, Valid score = 1.09644\n",
            "[0]\tvalidation_0-mlogloss:1.35372\n",
            "Will train until validation_0-mlogloss hasn't improved in 50 rounds.\n",
            "[10]\tvalidation_0-mlogloss:1.18528\n",
            "[20]\tvalidation_0-mlogloss:1.13516\n",
            "[30]\tvalidation_0-mlogloss:1.11902\n",
            "[40]\tvalidation_0-mlogloss:1.11296\n",
            "[50]\tvalidation_0-mlogloss:1.11039\n",
            "[60]\tvalidation_0-mlogloss:1.10834\n",
            "[70]\tvalidation_0-mlogloss:1.10654\n",
            "[80]\tvalidation_0-mlogloss:1.10522\n",
            "[90]\tvalidation_0-mlogloss:1.10423\n",
            "[100]\tvalidation_0-mlogloss:1.10304\n",
            "[110]\tvalidation_0-mlogloss:1.10195\n",
            "[120]\tvalidation_0-mlogloss:1.10118\n",
            "[130]\tvalidation_0-mlogloss:1.10053\n",
            "[140]\tvalidation_0-mlogloss:1.09992\n",
            "[150]\tvalidation_0-mlogloss:1.09935\n",
            "[160]\tvalidation_0-mlogloss:1.09866\n",
            "[170]\tvalidation_0-mlogloss:1.09813\n",
            "[180]\tvalidation_0-mlogloss:1.09777\n",
            "[190]\tvalidation_0-mlogloss:1.09734\n",
            "[200]\tvalidation_0-mlogloss:1.09675\n",
            "[210]\tvalidation_0-mlogloss:1.09643\n",
            "[220]\tvalidation_0-mlogloss:1.09618\n",
            "[230]\tvalidation_0-mlogloss:1.09594\n",
            "[240]\tvalidation_0-mlogloss:1.09573\n",
            "[250]\tvalidation_0-mlogloss:1.09564\n",
            "[260]\tvalidation_0-mlogloss:1.09552\n",
            "[270]\tvalidation_0-mlogloss:1.09529\n",
            "[280]\tvalidation_0-mlogloss:1.09513\n",
            "[290]\tvalidation_0-mlogloss:1.09495\n",
            "[300]\tvalidation_0-mlogloss:1.09494\n",
            "[310]\tvalidation_0-mlogloss:1.09483\n",
            "[320]\tvalidation_0-mlogloss:1.09471\n",
            "[330]\tvalidation_0-mlogloss:1.09485\n",
            "[340]\tvalidation_0-mlogloss:1.09488\n",
            "[350]\tvalidation_0-mlogloss:1.09487\n",
            "[360]\tvalidation_0-mlogloss:1.09485\n",
            "[370]\tvalidation_0-mlogloss:1.09488\n",
            "Stopping. Best iteration:\n",
            "[320]\tvalidation_0-mlogloss:1.09471\n",
            "\n",
            "Fold 6, Valid score = 1.09471\n",
            "[0]\tvalidation_0-mlogloss:1.35371\n",
            "Will train until validation_0-mlogloss hasn't improved in 50 rounds.\n",
            "[10]\tvalidation_0-mlogloss:1.18514\n",
            "[20]\tvalidation_0-mlogloss:1.135\n",
            "[30]\tvalidation_0-mlogloss:1.11886\n",
            "[40]\tvalidation_0-mlogloss:1.11281\n",
            "[50]\tvalidation_0-mlogloss:1.10991\n",
            "[60]\tvalidation_0-mlogloss:1.10811\n",
            "[70]\tvalidation_0-mlogloss:1.10634\n",
            "[80]\tvalidation_0-mlogloss:1.10508\n",
            "[90]\tvalidation_0-mlogloss:1.10388\n",
            "[100]\tvalidation_0-mlogloss:1.10271\n",
            "[110]\tvalidation_0-mlogloss:1.1017\n",
            "[120]\tvalidation_0-mlogloss:1.10093\n",
            "[130]\tvalidation_0-mlogloss:1.10031\n",
            "[140]\tvalidation_0-mlogloss:1.09976\n",
            "[150]\tvalidation_0-mlogloss:1.09905\n",
            "[160]\tvalidation_0-mlogloss:1.09868\n",
            "[170]\tvalidation_0-mlogloss:1.09831\n",
            "[180]\tvalidation_0-mlogloss:1.09787\n",
            "[190]\tvalidation_0-mlogloss:1.0974\n",
            "[200]\tvalidation_0-mlogloss:1.09693\n",
            "[210]\tvalidation_0-mlogloss:1.09669\n",
            "[220]\tvalidation_0-mlogloss:1.09629\n",
            "[230]\tvalidation_0-mlogloss:1.09607\n",
            "[240]\tvalidation_0-mlogloss:1.09588\n",
            "[250]\tvalidation_0-mlogloss:1.09586\n",
            "[260]\tvalidation_0-mlogloss:1.09572\n",
            "[270]\tvalidation_0-mlogloss:1.09557\n",
            "[280]\tvalidation_0-mlogloss:1.09538\n",
            "[290]\tvalidation_0-mlogloss:1.09527\n",
            "[300]\tvalidation_0-mlogloss:1.09518\n",
            "[310]\tvalidation_0-mlogloss:1.09525\n",
            "[320]\tvalidation_0-mlogloss:1.0953\n",
            "[330]\tvalidation_0-mlogloss:1.0952\n",
            "[340]\tvalidation_0-mlogloss:1.095\n",
            "[350]\tvalidation_0-mlogloss:1.09508\n",
            "[360]\tvalidation_0-mlogloss:1.09499\n",
            "[370]\tvalidation_0-mlogloss:1.09515\n",
            "[380]\tvalidation_0-mlogloss:1.09527\n",
            "[390]\tvalidation_0-mlogloss:1.09523\n",
            "[400]\tvalidation_0-mlogloss:1.09522\n",
            "Stopping. Best iteration:\n",
            "[354]\tvalidation_0-mlogloss:1.09497\n",
            "\n",
            "Fold 7, Valid score = 1.09497\n"
          ],
          "name": "stdout"
        }
      ]
    },
    {
      "cell_type": "code",
      "metadata": {
        "colab": {
          "base_uri": "https://localhost:8080/"
        },
        "id": "qcggf2lLtf18",
        "outputId": "bb724b7b-fa5e-4bd5-e09a-745ea7e25762"
      },
      "source": [
        "print(f\"Out of fold log loss {metrics.log_loss(y_train, xgb_oof)}\")"
      ],
      "execution_count": 27,
      "outputs": [
        {
          "output_type": "stream",
          "text": [
            "Out of fold log loss 1.0937984271524215\n"
          ],
          "name": "stdout"
        }
      ]
    },
    {
      "cell_type": "code",
      "metadata": {
        "colab": {
          "base_uri": "https://localhost:8080/"
        },
        "id": "mddHQbxtw-Tb",
        "outputId": "4ee8d244-147b-4a14-e47a-2ecd473a45aa"
      },
      "source": [
        "result_xgb = multi_estimators_predict(xgb_estimators, x_valid, y_valid, metrics.log_loss)"
      ],
      "execution_count": 28,
      "outputs": [
        {
          "output_type": "stream",
          "text": [
            "Model 0 metric: 1.092112\n",
            "Model 1 metric: 1.091548\n",
            "Model 2 metric: 1.0923\n",
            "Model 3 metric: 1.092527\n",
            "Model 4 metric: 1.09258\n",
            "Model 5 metric: 1.092014\n",
            "Model 6 metric: 1.091958\n",
            "Result model metric: 1.090985\n"
          ],
          "name": "stdout"
        }
      ]
    },
    {
      "cell_type": "code",
      "metadata": {
        "colab": {
          "base_uri": "https://localhost:8080/"
        },
        "id": "6dEeZ1Z8Dlei",
        "outputId": "eb2f51bd-0db3-44fb-b4ae-fdf76d11e571"
      },
      "source": [
        "metrics.log_loss(y_valid, result_cb)"
      ],
      "execution_count": 57,
      "outputs": [
        {
          "output_type": "execute_result",
          "data": {
            "text/plain": [
              "1.0904720673204586"
            ]
          },
          "metadata": {
            "tags": []
          },
          "execution_count": 57
        }
      ]
    },
    {
      "cell_type": "code",
      "metadata": {
        "colab": {
          "base_uri": "https://localhost:8080/"
        },
        "id": "k5NfBgE7Dzei",
        "outputId": "170b0bc1-6663-46f4-aea1-72e7991cef6a"
      },
      "source": [
        "metrics.log_loss(y_valid, result_xgb)"
      ],
      "execution_count": 58,
      "outputs": [
        {
          "output_type": "execute_result",
          "data": {
            "text/plain": [
              "1.0909847912356256"
            ]
          },
          "metadata": {
            "tags": []
          },
          "execution_count": 58
        }
      ]
    },
    {
      "cell_type": "code",
      "metadata": {
        "colab": {
          "base_uri": "https://localhost:8080/"
        },
        "id": "iF9yUlgyD1-f",
        "outputId": "79706906-5941-4edb-c84b-91d2f644e932"
      },
      "source": [
        "metrics.log_loss(y_valid, result_lgbm)"
      ],
      "execution_count": 59,
      "outputs": [
        {
          "output_type": "execute_result",
          "data": {
            "text/plain": [
              "1.089295294594471"
            ]
          },
          "metadata": {
            "tags": []
          },
          "execution_count": 59
        }
      ]
    },
    {
      "cell_type": "code",
      "metadata": {
        "colab": {
          "base_uri": "https://localhost:8080/"
        },
        "id": "MlgPXmv9D5DA",
        "outputId": "9e390bf5-04fc-4f38-8dcc-6ee3bab0d6b1"
      },
      "source": [
        "result_lgb_xgb = np.dstack((result_lgbm, result_xgb))\n",
        "result_lgb_xgb_mean = np.mean(result_lgb_xgb, axis=2)\n",
        "print(f\"result_lgb_xgb: {metrics.log_loss(y_valid, result_lgb_xgb_mean)}\")"
      ],
      "execution_count": 62,
      "outputs": [
        {
          "output_type": "stream",
          "text": [
            "result_lgb_xgb: 1.0892976651266912\n"
          ],
          "name": "stdout"
        }
      ]
    },
    {
      "cell_type": "code",
      "metadata": {
        "colab": {
          "base_uri": "https://localhost:8080/"
        },
        "id": "pI_aWfFaESOY",
        "outputId": "ee3c125f-2743-4809-a80a-67453cb34bc5"
      },
      "source": [
        "result_lgb_cb = np.dstack((result_lgbm, result_cb))\n",
        "result_lgb_cb_mean = np.mean(result_lgb_cb, axis=2)\n",
        "print(f\"result_lgb_cb: {metrics.log_loss(y_valid, result_lgb_cb_mean)}\")"
      ],
      "execution_count": 66,
      "outputs": [
        {
          "output_type": "stream",
          "text": [
            "result_lgb_cb: 1.089453366934431\n"
          ],
          "name": "stdout"
        }
      ]
    },
    {
      "cell_type": "code",
      "metadata": {
        "colab": {
          "base_uri": "https://localhost:8080/"
        },
        "id": "OIDDFQ-eEqd2",
        "outputId": "83df5554-1cf6-46a6-9409-6db53f275354"
      },
      "source": [
        "result_xgb_cb = np.dstack((result_xgb, result_cb))\n",
        "result_xgb_cb_mean = np.mean(result_xgb_cb, axis=2)\n",
        "print(f\"result_xgb_cb: {metrics.log_loss(y_valid, result_xgb_cb_mean)}\")"
      ],
      "execution_count": 67,
      "outputs": [
        {
          "output_type": "stream",
          "text": [
            "result_xgb_cb: 1.0899651967669564\n"
          ],
          "name": "stdout"
        }
      ]
    },
    {
      "cell_type": "code",
      "metadata": {
        "colab": {
          "base_uri": "https://localhost:8080/"
        },
        "id": "VBaO2iX3E1fX",
        "outputId": "a545a60a-23c9-494c-997e-04c1221c272b"
      },
      "source": [
        "result_lgb_xgb_cb = np.dstack((result_lgbm, result_xgb, result_cb))\n",
        "result_lgb_xgb_cb_mean = np.mean(result_lgb_xgb_cb, axis=2)\n",
        "print(f\"result_lgb_xgb_cb: {metrics.log_loss(y_valid, result_lgb_xgb_cb_mean)}\")"
      ],
      "execution_count": 68,
      "outputs": [
        {
          "output_type": "stream",
          "text": [
            "result_lgb_xgb_cb: 1.0893458701040053\n"
          ],
          "name": "stdout"
        }
      ]
    },
    {
      "cell_type": "markdown",
      "metadata": {
        "id": "GCpoWMJUFb1C"
      },
      "source": [
        "## Получение результата"
      ]
    },
    {
      "cell_type": "code",
      "metadata": {
        "colab": {
          "base_uri": "https://localhost:8080/"
        },
        "id": "4u_bzox9E0V7",
        "outputId": "82bb249f-b8c0-48ca-b94e-7db0fa518b90"
      },
      "source": [
        "data = get_input(\"train.csv\")\n",
        "test = get_input(\"test.csv\")\n",
        "data.drop(columns='id', inplace=True)\n",
        "sample_submission = get_input(\"sample_submission.csv\")\n",
        "\n",
        "#data['sum'] = data[data.columns.to_list()[:50]].sum(axis=1) # норм\n",
        "#data['max'] = data[data.columns.to_list()[:50]].max(axis=1) # норм\n",
        "#data['not_nul_features'] = (data!=0)[data.columns.to_list()[:50]].sum(axis=1)\n",
        "#data['2+13'] = data['feature_2'] + data['feature_13']\n",
        "#data['6+15'] = data['feature_6'] + data['feature_15']\n",
        "\n",
        "#test['sum'] = test[test.columns.to_list()[:50]].sum(axis=1) # норм\n",
        "#test['max'] = test[test.columns.to_list()[:50]].max(axis=1) # норм\n",
        "#test['not_nul_features'] = (test!=0)[test.columns.to_list()[:50]].sum(axis=1)\n",
        "#test['2+13'] = test['feature_2'] + test['feature_13']\n",
        "#test['6+15'] = test['feature_6'] + test['feature_15']\n",
        "\n",
        "mapper = {'Class_1': 1, 'Class_2': 2, 'Class_3': 3, 'Class_4': 4}\n",
        "data['target'] = data['target'].map(mapper)\n",
        "\n",
        "y_train = data['target']\n",
        "x_train = data.drop(columns=['target'])"
      ],
      "execution_count": 69,
      "outputs": [
        {
          "output_type": "stream",
          "text": [
            "train.csv: shape = 100000 rows, 52 cols\n",
            "test.csv: shape = 50000 rows, 51 cols\n",
            "sample_submission.csv: shape = 50000 rows, 5 cols\n"
          ],
          "name": "stdout"
        }
      ]
    },
    {
      "cell_type": "code",
      "metadata": {
        "colab": {
          "base_uri": "https://localhost:8080/"
        },
        "id": "BjwyLQxcFp19",
        "outputId": "845e5678-17fb-4103-ac49-345d762b4861"
      },
      "source": [
        "lgbm_params = {\n",
        "    \"boosting_type \": \"gbdt\",\n",
        "    \"objective\": \"multiclass\",\n",
        "    \"metric\": \"multi_logloss\",\n",
        "    'n_estimators': 5000,\n",
        "    'reg_alpha': 11.159097442782404, \n",
        "    'reg_lambda': 6.133258909357973e-05, \n",
        "    'colsample_bytree': 0.3, \n",
        "    'subsample': 0.40110232869776463, \n",
        "    'learning_rate': 0.07591597509135133, \n",
        "    #'max_depth': 92, \n",
        "    #'num_leaves': 867,\n",
        "    'max_depth': 8, \n",
        "    'num_leaves': 6, \n",
        "    'min_child_samples': 165, \n",
        "    'min_child_weight': 0.0029014788191160327, \n",
        "    'cat_smooth': 79, \n",
        "    'cat_l2': 3\n",
        "}\n",
        "\n",
        "cv = StratifiedKFold(n_splits=7, random_state=435, shuffle=True)\n",
        "\n",
        "lgb_estimators, lgb_oof = lightgbm_cv_fit(\n",
        "    lgbm_params, x_train, y_train, cv, #categorical=categorical_feature_names\n",
        ")\n",
        "\n",
        "print(f\"Out of fold log loss {metrics.log_loss(y_train, lgb_oof)}\")\n",
        "result_lgb = multi_estimators_predict(lgb_estimators, test.drop(columns='id'))"
      ],
      "execution_count": 71,
      "outputs": [
        {
          "output_type": "stream",
          "text": [
            "Mon May 17 20:51:57 2021, Cross-Validation, 100000 rows, 50 cols\n",
            "Training until validation scores don't improve for 50 rounds.\n",
            "[10]\tvalid_0's multi_logloss: 1.11463\n",
            "[20]\tvalid_0's multi_logloss: 1.11174\n",
            "[30]\tvalid_0's multi_logloss: 1.10928\n",
            "[40]\tvalid_0's multi_logloss: 1.10737\n",
            "[50]\tvalid_0's multi_logloss: 1.10574\n",
            "[60]\tvalid_0's multi_logloss: 1.10432\n",
            "[70]\tvalid_0's multi_logloss: 1.10316\n",
            "[80]\tvalid_0's multi_logloss: 1.10201\n",
            "[90]\tvalid_0's multi_logloss: 1.10105\n",
            "[100]\tvalid_0's multi_logloss: 1.10029\n",
            "[110]\tvalid_0's multi_logloss: 1.09952\n",
            "[120]\tvalid_0's multi_logloss: 1.0989\n",
            "[130]\tvalid_0's multi_logloss: 1.09833\n",
            "[140]\tvalid_0's multi_logloss: 1.09786\n",
            "[150]\tvalid_0's multi_logloss: 1.09742\n",
            "[160]\tvalid_0's multi_logloss: 1.09698\n",
            "[170]\tvalid_0's multi_logloss: 1.09653\n",
            "[180]\tvalid_0's multi_logloss: 1.09612\n",
            "[190]\tvalid_0's multi_logloss: 1.09581\n",
            "[200]\tvalid_0's multi_logloss: 1.09555\n",
            "[210]\tvalid_0's multi_logloss: 1.09527\n",
            "[220]\tvalid_0's multi_logloss: 1.09497\n",
            "[230]\tvalid_0's multi_logloss: 1.09466\n",
            "[240]\tvalid_0's multi_logloss: 1.09444\n",
            "[250]\tvalid_0's multi_logloss: 1.09427\n",
            "[260]\tvalid_0's multi_logloss: 1.0941\n",
            "[270]\tvalid_0's multi_logloss: 1.09395\n",
            "[280]\tvalid_0's multi_logloss: 1.09382\n",
            "[290]\tvalid_0's multi_logloss: 1.09365\n",
            "[300]\tvalid_0's multi_logloss: 1.09352\n",
            "[310]\tvalid_0's multi_logloss: 1.0934\n",
            "[320]\tvalid_0's multi_logloss: 1.0933\n",
            "[330]\tvalid_0's multi_logloss: 1.09318\n",
            "[340]\tvalid_0's multi_logloss: 1.09312\n",
            "[350]\tvalid_0's multi_logloss: 1.09302\n",
            "[360]\tvalid_0's multi_logloss: 1.09293\n",
            "[370]\tvalid_0's multi_logloss: 1.09284\n",
            "[380]\tvalid_0's multi_logloss: 1.09278\n",
            "[390]\tvalid_0's multi_logloss: 1.0927\n",
            "[400]\tvalid_0's multi_logloss: 1.09262\n",
            "[410]\tvalid_0's multi_logloss: 1.09259\n",
            "[420]\tvalid_0's multi_logloss: 1.0926\n",
            "[430]\tvalid_0's multi_logloss: 1.09255\n",
            "[440]\tvalid_0's multi_logloss: 1.09249\n",
            "[450]\tvalid_0's multi_logloss: 1.09247\n",
            "[460]\tvalid_0's multi_logloss: 1.09242\n",
            "[470]\tvalid_0's multi_logloss: 1.09238\n",
            "[480]\tvalid_0's multi_logloss: 1.09234\n",
            "[490]\tvalid_0's multi_logloss: 1.09231\n",
            "[500]\tvalid_0's multi_logloss: 1.09226\n",
            "[510]\tvalid_0's multi_logloss: 1.09223\n",
            "[520]\tvalid_0's multi_logloss: 1.09221\n",
            "[530]\tvalid_0's multi_logloss: 1.09219\n",
            "[540]\tvalid_0's multi_logloss: 1.09215\n",
            "[550]\tvalid_0's multi_logloss: 1.09213\n",
            "[560]\tvalid_0's multi_logloss: 1.09207\n",
            "[570]\tvalid_0's multi_logloss: 1.09206\n",
            "[580]\tvalid_0's multi_logloss: 1.09203\n",
            "[590]\tvalid_0's multi_logloss: 1.09203\n",
            "[600]\tvalid_0's multi_logloss: 1.09201\n",
            "[610]\tvalid_0's multi_logloss: 1.09199\n",
            "[620]\tvalid_0's multi_logloss: 1.09198\n",
            "[630]\tvalid_0's multi_logloss: 1.09197\n",
            "[640]\tvalid_0's multi_logloss: 1.09195\n",
            "[650]\tvalid_0's multi_logloss: 1.09192\n",
            "[660]\tvalid_0's multi_logloss: 1.09189\n",
            "[670]\tvalid_0's multi_logloss: 1.09188\n",
            "[680]\tvalid_0's multi_logloss: 1.09186\n",
            "[690]\tvalid_0's multi_logloss: 1.09188\n",
            "[700]\tvalid_0's multi_logloss: 1.09188\n",
            "[710]\tvalid_0's multi_logloss: 1.09187\n",
            "[720]\tvalid_0's multi_logloss: 1.09184\n",
            "[730]\tvalid_0's multi_logloss: 1.09184\n",
            "[740]\tvalid_0's multi_logloss: 1.09186\n",
            "[750]\tvalid_0's multi_logloss: 1.0918\n",
            "[760]\tvalid_0's multi_logloss: 1.09182\n",
            "[770]\tvalid_0's multi_logloss: 1.09179\n",
            "[780]\tvalid_0's multi_logloss: 1.09176\n",
            "[790]\tvalid_0's multi_logloss: 1.09173\n",
            "[800]\tvalid_0's multi_logloss: 1.09173\n",
            "[810]\tvalid_0's multi_logloss: 1.09171\n",
            "[820]\tvalid_0's multi_logloss: 1.09171\n",
            "[830]\tvalid_0's multi_logloss: 1.09167\n",
            "[840]\tvalid_0's multi_logloss: 1.09165\n",
            "[850]\tvalid_0's multi_logloss: 1.09164\n",
            "[860]\tvalid_0's multi_logloss: 1.09163\n",
            "[870]\tvalid_0's multi_logloss: 1.09159\n",
            "[880]\tvalid_0's multi_logloss: 1.09158\n",
            "[890]\tvalid_0's multi_logloss: 1.09157\n",
            "[900]\tvalid_0's multi_logloss: 1.09155\n",
            "[910]\tvalid_0's multi_logloss: 1.09155\n",
            "[920]\tvalid_0's multi_logloss: 1.09152\n",
            "[930]\tvalid_0's multi_logloss: 1.09149\n",
            "[940]\tvalid_0's multi_logloss: 1.09146\n",
            "[950]\tvalid_0's multi_logloss: 1.09146\n",
            "[960]\tvalid_0's multi_logloss: 1.09146\n",
            "[970]\tvalid_0's multi_logloss: 1.09145\n",
            "[980]\tvalid_0's multi_logloss: 1.09145\n",
            "[990]\tvalid_0's multi_logloss: 1.09145\n",
            "[1000]\tvalid_0's multi_logloss: 1.09146\n",
            "[1010]\tvalid_0's multi_logloss: 1.09149\n",
            "[1020]\tvalid_0's multi_logloss: 1.09147\n",
            "[1030]\tvalid_0's multi_logloss: 1.09147\n",
            "Early stopping, best iteration is:\n",
            "[986]\tvalid_0's multi_logloss: 1.09144\n",
            "Fold 1, Valid score = 1.09144\n",
            "Training until validation scores don't improve for 50 rounds.\n",
            "[10]\tvalid_0's multi_logloss: 1.11433\n",
            "[20]\tvalid_0's multi_logloss: 1.11128\n",
            "[30]\tvalid_0's multi_logloss: 1.10869\n",
            "[40]\tvalid_0's multi_logloss: 1.10668\n",
            "[50]\tvalid_0's multi_logloss: 1.1049\n",
            "[60]\tvalid_0's multi_logloss: 1.10343\n",
            "[70]\tvalid_0's multi_logloss: 1.10207\n",
            "[80]\tvalid_0's multi_logloss: 1.10087\n",
            "[90]\tvalid_0's multi_logloss: 1.09989\n",
            "[100]\tvalid_0's multi_logloss: 1.09897\n",
            "[110]\tvalid_0's multi_logloss: 1.09824\n",
            "[120]\tvalid_0's multi_logloss: 1.09747\n",
            "[130]\tvalid_0's multi_logloss: 1.09677\n",
            "[140]\tvalid_0's multi_logloss: 1.09626\n",
            "[150]\tvalid_0's multi_logloss: 1.0957\n",
            "[160]\tvalid_0's multi_logloss: 1.0952\n",
            "[170]\tvalid_0's multi_logloss: 1.09479\n",
            "[180]\tvalid_0's multi_logloss: 1.09437\n",
            "[190]\tvalid_0's multi_logloss: 1.09406\n",
            "[200]\tvalid_0's multi_logloss: 1.09369\n",
            "[210]\tvalid_0's multi_logloss: 1.09333\n",
            "[220]\tvalid_0's multi_logloss: 1.09303\n",
            "[230]\tvalid_0's multi_logloss: 1.09278\n",
            "[240]\tvalid_0's multi_logloss: 1.09252\n",
            "[250]\tvalid_0's multi_logloss: 1.09229\n",
            "[260]\tvalid_0's multi_logloss: 1.09211\n",
            "[270]\tvalid_0's multi_logloss: 1.09189\n",
            "[280]\tvalid_0's multi_logloss: 1.09169\n",
            "[290]\tvalid_0's multi_logloss: 1.09148\n",
            "[300]\tvalid_0's multi_logloss: 1.09132\n",
            "[310]\tvalid_0's multi_logloss: 1.09122\n",
            "[320]\tvalid_0's multi_logloss: 1.09108\n",
            "[330]\tvalid_0's multi_logloss: 1.09094\n",
            "[340]\tvalid_0's multi_logloss: 1.09079\n",
            "[350]\tvalid_0's multi_logloss: 1.09069\n",
            "[360]\tvalid_0's multi_logloss: 1.09061\n",
            "[370]\tvalid_0's multi_logloss: 1.09052\n",
            "[380]\tvalid_0's multi_logloss: 1.09039\n",
            "[390]\tvalid_0's multi_logloss: 1.09032\n",
            "[400]\tvalid_0's multi_logloss: 1.09024\n",
            "[410]\tvalid_0's multi_logloss: 1.09017\n",
            "[420]\tvalid_0's multi_logloss: 1.09012\n",
            "[430]\tvalid_0's multi_logloss: 1.09\n",
            "[440]\tvalid_0's multi_logloss: 1.08993\n",
            "[450]\tvalid_0's multi_logloss: 1.08993\n",
            "[460]\tvalid_0's multi_logloss: 1.08988\n",
            "[470]\tvalid_0's multi_logloss: 1.08982\n",
            "[480]\tvalid_0's multi_logloss: 1.08976\n",
            "[490]\tvalid_0's multi_logloss: 1.08972\n",
            "[500]\tvalid_0's multi_logloss: 1.08967\n",
            "[510]\tvalid_0's multi_logloss: 1.08959\n",
            "[520]\tvalid_0's multi_logloss: 1.08955\n",
            "[530]\tvalid_0's multi_logloss: 1.08946\n",
            "[540]\tvalid_0's multi_logloss: 1.08943\n",
            "[550]\tvalid_0's multi_logloss: 1.08938\n",
            "[560]\tvalid_0's multi_logloss: 1.08933\n",
            "[570]\tvalid_0's multi_logloss: 1.08929\n",
            "[580]\tvalid_0's multi_logloss: 1.08926\n",
            "[590]\tvalid_0's multi_logloss: 1.08922\n",
            "[600]\tvalid_0's multi_logloss: 1.08917\n",
            "[610]\tvalid_0's multi_logloss: 1.08913\n",
            "[620]\tvalid_0's multi_logloss: 1.08907\n",
            "[630]\tvalid_0's multi_logloss: 1.08905\n",
            "[640]\tvalid_0's multi_logloss: 1.089\n",
            "[650]\tvalid_0's multi_logloss: 1.089\n",
            "[660]\tvalid_0's multi_logloss: 1.08899\n",
            "[670]\tvalid_0's multi_logloss: 1.08897\n",
            "[680]\tvalid_0's multi_logloss: 1.08897\n",
            "[690]\tvalid_0's multi_logloss: 1.08896\n",
            "[700]\tvalid_0's multi_logloss: 1.08895\n",
            "[710]\tvalid_0's multi_logloss: 1.08894\n",
            "[720]\tvalid_0's multi_logloss: 1.08891\n",
            "[730]\tvalid_0's multi_logloss: 1.08893\n",
            "[740]\tvalid_0's multi_logloss: 1.08893\n",
            "[750]\tvalid_0's multi_logloss: 1.08891\n",
            "[760]\tvalid_0's multi_logloss: 1.08889\n",
            "[770]\tvalid_0's multi_logloss: 1.0889\n",
            "[780]\tvalid_0's multi_logloss: 1.08892\n",
            "[790]\tvalid_0's multi_logloss: 1.08889\n",
            "[800]\tvalid_0's multi_logloss: 1.08889\n",
            "[810]\tvalid_0's multi_logloss: 1.08888\n",
            "[820]\tvalid_0's multi_logloss: 1.0889\n",
            "[830]\tvalid_0's multi_logloss: 1.08892\n",
            "[840]\tvalid_0's multi_logloss: 1.08893\n",
            "[850]\tvalid_0's multi_logloss: 1.08893\n",
            "Early stopping, best iteration is:\n",
            "[804]\tvalid_0's multi_logloss: 1.08887\n",
            "Fold 2, Valid score = 1.08887\n",
            "Training until validation scores don't improve for 50 rounds.\n",
            "[10]\tvalid_0's multi_logloss: 1.1148\n",
            "[20]\tvalid_0's multi_logloss: 1.11204\n",
            "[30]\tvalid_0's multi_logloss: 1.10979\n",
            "[40]\tvalid_0's multi_logloss: 1.10814\n",
            "[50]\tvalid_0's multi_logloss: 1.10668\n",
            "[60]\tvalid_0's multi_logloss: 1.10539\n",
            "[70]\tvalid_0's multi_logloss: 1.10432\n",
            "[80]\tvalid_0's multi_logloss: 1.1033\n",
            "[90]\tvalid_0's multi_logloss: 1.10238\n",
            "[100]\tvalid_0's multi_logloss: 1.10156\n",
            "[110]\tvalid_0's multi_logloss: 1.10079\n",
            "[120]\tvalid_0's multi_logloss: 1.10017\n",
            "[130]\tvalid_0's multi_logloss: 1.0996\n",
            "[140]\tvalid_0's multi_logloss: 1.09916\n",
            "[150]\tvalid_0's multi_logloss: 1.0987\n",
            "[160]\tvalid_0's multi_logloss: 1.09829\n",
            "[170]\tvalid_0's multi_logloss: 1.0979\n",
            "[180]\tvalid_0's multi_logloss: 1.09757\n",
            "[190]\tvalid_0's multi_logloss: 1.09726\n",
            "[200]\tvalid_0's multi_logloss: 1.09698\n",
            "[210]\tvalid_0's multi_logloss: 1.09669\n",
            "[220]\tvalid_0's multi_logloss: 1.09647\n",
            "[230]\tvalid_0's multi_logloss: 1.09622\n",
            "[240]\tvalid_0's multi_logloss: 1.09599\n",
            "[250]\tvalid_0's multi_logloss: 1.09576\n",
            "[260]\tvalid_0's multi_logloss: 1.0956\n",
            "[270]\tvalid_0's multi_logloss: 1.09544\n",
            "[280]\tvalid_0's multi_logloss: 1.0953\n",
            "[290]\tvalid_0's multi_logloss: 1.0952\n",
            "[300]\tvalid_0's multi_logloss: 1.09509\n",
            "[310]\tvalid_0's multi_logloss: 1.09501\n",
            "[320]\tvalid_0's multi_logloss: 1.09489\n",
            "[330]\tvalid_0's multi_logloss: 1.09477\n",
            "[340]\tvalid_0's multi_logloss: 1.09463\n",
            "[350]\tvalid_0's multi_logloss: 1.09454\n",
            "[360]\tvalid_0's multi_logloss: 1.09446\n",
            "[370]\tvalid_0's multi_logloss: 1.09442\n",
            "[380]\tvalid_0's multi_logloss: 1.09433\n",
            "[390]\tvalid_0's multi_logloss: 1.09428\n",
            "[400]\tvalid_0's multi_logloss: 1.09428\n",
            "[410]\tvalid_0's multi_logloss: 1.09421\n",
            "[420]\tvalid_0's multi_logloss: 1.09414\n",
            "[430]\tvalid_0's multi_logloss: 1.09407\n",
            "[440]\tvalid_0's multi_logloss: 1.09404\n",
            "[450]\tvalid_0's multi_logloss: 1.09401\n",
            "[460]\tvalid_0's multi_logloss: 1.09399\n",
            "[470]\tvalid_0's multi_logloss: 1.09394\n",
            "[480]\tvalid_0's multi_logloss: 1.09393\n",
            "[490]\tvalid_0's multi_logloss: 1.09387\n",
            "[500]\tvalid_0's multi_logloss: 1.09388\n",
            "[510]\tvalid_0's multi_logloss: 1.09385\n",
            "[520]\tvalid_0's multi_logloss: 1.09383\n",
            "[530]\tvalid_0's multi_logloss: 1.09381\n",
            "[540]\tvalid_0's multi_logloss: 1.09375\n",
            "[550]\tvalid_0's multi_logloss: 1.09371\n",
            "[560]\tvalid_0's multi_logloss: 1.09371\n",
            "[570]\tvalid_0's multi_logloss: 1.09371\n",
            "[580]\tvalid_0's multi_logloss: 1.09372\n",
            "[590]\tvalid_0's multi_logloss: 1.09366\n",
            "[600]\tvalid_0's multi_logloss: 1.09366\n",
            "[610]\tvalid_0's multi_logloss: 1.09364\n",
            "[620]\tvalid_0's multi_logloss: 1.09363\n",
            "[630]\tvalid_0's multi_logloss: 1.09361\n",
            "[640]\tvalid_0's multi_logloss: 1.09359\n",
            "[650]\tvalid_0's multi_logloss: 1.0936\n",
            "[660]\tvalid_0's multi_logloss: 1.09359\n",
            "[670]\tvalid_0's multi_logloss: 1.0936\n",
            "[680]\tvalid_0's multi_logloss: 1.09361\n",
            "Early stopping, best iteration is:\n",
            "[635]\tvalid_0's multi_logloss: 1.09358\n",
            "Fold 3, Valid score = 1.09358\n",
            "Training until validation scores don't improve for 50 rounds.\n",
            "[10]\tvalid_0's multi_logloss: 1.11443\n",
            "[20]\tvalid_0's multi_logloss: 1.11144\n",
            "[30]\tvalid_0's multi_logloss: 1.109\n",
            "[40]\tvalid_0's multi_logloss: 1.10714\n",
            "[50]\tvalid_0's multi_logloss: 1.1055\n",
            "[60]\tvalid_0's multi_logloss: 1.10407\n",
            "[70]\tvalid_0's multi_logloss: 1.10273\n",
            "[80]\tvalid_0's multi_logloss: 1.10162\n",
            "[90]\tvalid_0's multi_logloss: 1.10061\n",
            "[100]\tvalid_0's multi_logloss: 1.09974\n",
            "[110]\tvalid_0's multi_logloss: 1.09892\n",
            "[120]\tvalid_0's multi_logloss: 1.09813\n",
            "[130]\tvalid_0's multi_logloss: 1.09751\n",
            "[140]\tvalid_0's multi_logloss: 1.09692\n",
            "[150]\tvalid_0's multi_logloss: 1.0964\n",
            "[160]\tvalid_0's multi_logloss: 1.09592\n",
            "[170]\tvalid_0's multi_logloss: 1.09546\n",
            "[180]\tvalid_0's multi_logloss: 1.09505\n",
            "[190]\tvalid_0's multi_logloss: 1.09461\n",
            "[200]\tvalid_0's multi_logloss: 1.09428\n",
            "[210]\tvalid_0's multi_logloss: 1.094\n",
            "[220]\tvalid_0's multi_logloss: 1.09367\n",
            "[230]\tvalid_0's multi_logloss: 1.09328\n",
            "[240]\tvalid_0's multi_logloss: 1.09303\n",
            "[250]\tvalid_0's multi_logloss: 1.09282\n",
            "[260]\tvalid_0's multi_logloss: 1.0926\n",
            "[270]\tvalid_0's multi_logloss: 1.09242\n",
            "[280]\tvalid_0's multi_logloss: 1.09218\n",
            "[290]\tvalid_0's multi_logloss: 1.09199\n",
            "[300]\tvalid_0's multi_logloss: 1.09183\n",
            "[310]\tvalid_0's multi_logloss: 1.09169\n",
            "[320]\tvalid_0's multi_logloss: 1.09152\n",
            "[330]\tvalid_0's multi_logloss: 1.09138\n",
            "[340]\tvalid_0's multi_logloss: 1.09122\n",
            "[350]\tvalid_0's multi_logloss: 1.09106\n",
            "[360]\tvalid_0's multi_logloss: 1.09092\n",
            "[370]\tvalid_0's multi_logloss: 1.09083\n",
            "[380]\tvalid_0's multi_logloss: 1.09078\n",
            "[390]\tvalid_0's multi_logloss: 1.09068\n",
            "[400]\tvalid_0's multi_logloss: 1.09058\n",
            "[410]\tvalid_0's multi_logloss: 1.09048\n",
            "[420]\tvalid_0's multi_logloss: 1.09037\n",
            "[430]\tvalid_0's multi_logloss: 1.09033\n",
            "[440]\tvalid_0's multi_logloss: 1.09026\n",
            "[450]\tvalid_0's multi_logloss: 1.09018\n",
            "[460]\tvalid_0's multi_logloss: 1.09011\n",
            "[470]\tvalid_0's multi_logloss: 1.09007\n",
            "[480]\tvalid_0's multi_logloss: 1.08998\n",
            "[490]\tvalid_0's multi_logloss: 1.0899\n",
            "[500]\tvalid_0's multi_logloss: 1.08978\n",
            "[510]\tvalid_0's multi_logloss: 1.08975\n",
            "[520]\tvalid_0's multi_logloss: 1.08967\n",
            "[530]\tvalid_0's multi_logloss: 1.08957\n",
            "[540]\tvalid_0's multi_logloss: 1.0895\n",
            "[550]\tvalid_0's multi_logloss: 1.08947\n",
            "[560]\tvalid_0's multi_logloss: 1.08941\n",
            "[570]\tvalid_0's multi_logloss: 1.08939\n",
            "[580]\tvalid_0's multi_logloss: 1.08936\n",
            "[590]\tvalid_0's multi_logloss: 1.08933\n",
            "[600]\tvalid_0's multi_logloss: 1.08928\n",
            "[610]\tvalid_0's multi_logloss: 1.08924\n",
            "[620]\tvalid_0's multi_logloss: 1.08922\n",
            "[630]\tvalid_0's multi_logloss: 1.08921\n",
            "[640]\tvalid_0's multi_logloss: 1.0892\n",
            "[650]\tvalid_0's multi_logloss: 1.08917\n",
            "[660]\tvalid_0's multi_logloss: 1.08916\n",
            "[670]\tvalid_0's multi_logloss: 1.0891\n",
            "[680]\tvalid_0's multi_logloss: 1.08908\n",
            "[690]\tvalid_0's multi_logloss: 1.08908\n",
            "[700]\tvalid_0's multi_logloss: 1.08907\n",
            "[710]\tvalid_0's multi_logloss: 1.08903\n",
            "[720]\tvalid_0's multi_logloss: 1.08901\n",
            "[730]\tvalid_0's multi_logloss: 1.08895\n",
            "[740]\tvalid_0's multi_logloss: 1.08895\n",
            "[750]\tvalid_0's multi_logloss: 1.08894\n",
            "[760]\tvalid_0's multi_logloss: 1.08891\n",
            "[770]\tvalid_0's multi_logloss: 1.0889\n",
            "[780]\tvalid_0's multi_logloss: 1.08887\n",
            "[790]\tvalid_0's multi_logloss: 1.08889\n",
            "[800]\tvalid_0's multi_logloss: 1.08887\n",
            "[810]\tvalid_0's multi_logloss: 1.08884\n",
            "[820]\tvalid_0's multi_logloss: 1.08881\n",
            "[830]\tvalid_0's multi_logloss: 1.08882\n",
            "[840]\tvalid_0's multi_logloss: 1.08878\n",
            "[850]\tvalid_0's multi_logloss: 1.08877\n",
            "[860]\tvalid_0's multi_logloss: 1.08878\n",
            "[870]\tvalid_0's multi_logloss: 1.08876\n",
            "[880]\tvalid_0's multi_logloss: 1.08875\n",
            "[890]\tvalid_0's multi_logloss: 1.08873\n",
            "[900]\tvalid_0's multi_logloss: 1.08872\n",
            "[910]\tvalid_0's multi_logloss: 1.0887\n",
            "[920]\tvalid_0's multi_logloss: 1.08868\n",
            "[930]\tvalid_0's multi_logloss: 1.08869\n",
            "[940]\tvalid_0's multi_logloss: 1.08868\n",
            "[950]\tvalid_0's multi_logloss: 1.08868\n",
            "[960]\tvalid_0's multi_logloss: 1.08867\n",
            "[970]\tvalid_0's multi_logloss: 1.08868\n",
            "[980]\tvalid_0's multi_logloss: 1.0887\n",
            "[990]\tvalid_0's multi_logloss: 1.08869\n",
            "[1000]\tvalid_0's multi_logloss: 1.08872\n",
            "Early stopping, best iteration is:\n",
            "[957]\tvalid_0's multi_logloss: 1.08867\n",
            "Fold 4, Valid score = 1.08867\n",
            "Training until validation scores don't improve for 50 rounds.\n",
            "[10]\tvalid_0's multi_logloss: 1.11478\n",
            "[20]\tvalid_0's multi_logloss: 1.11199\n",
            "[30]\tvalid_0's multi_logloss: 1.10975\n",
            "[40]\tvalid_0's multi_logloss: 1.10798\n",
            "[50]\tvalid_0's multi_logloss: 1.10646\n",
            "[60]\tvalid_0's multi_logloss: 1.10511\n",
            "[70]\tvalid_0's multi_logloss: 1.10416\n",
            "[80]\tvalid_0's multi_logloss: 1.10313\n",
            "[90]\tvalid_0's multi_logloss: 1.10224\n",
            "[100]\tvalid_0's multi_logloss: 1.10159\n",
            "[110]\tvalid_0's multi_logloss: 1.1009\n",
            "[120]\tvalid_0's multi_logloss: 1.10022\n",
            "[130]\tvalid_0's multi_logloss: 1.09966\n",
            "[140]\tvalid_0's multi_logloss: 1.09913\n",
            "[150]\tvalid_0's multi_logloss: 1.09864\n",
            "[160]\tvalid_0's multi_logloss: 1.09815\n",
            "[170]\tvalid_0's multi_logloss: 1.0977\n",
            "[180]\tvalid_0's multi_logloss: 1.09737\n",
            "[190]\tvalid_0's multi_logloss: 1.09704\n",
            "[200]\tvalid_0's multi_logloss: 1.09675\n",
            "[210]\tvalid_0's multi_logloss: 1.09643\n",
            "[220]\tvalid_0's multi_logloss: 1.09621\n",
            "[230]\tvalid_0's multi_logloss: 1.09591\n",
            "[240]\tvalid_0's multi_logloss: 1.09569\n",
            "[250]\tvalid_0's multi_logloss: 1.09549\n",
            "[260]\tvalid_0's multi_logloss: 1.09529\n",
            "[270]\tvalid_0's multi_logloss: 1.09507\n",
            "[280]\tvalid_0's multi_logloss: 1.09485\n",
            "[290]\tvalid_0's multi_logloss: 1.09472\n",
            "[300]\tvalid_0's multi_logloss: 1.09463\n",
            "[310]\tvalid_0's multi_logloss: 1.09452\n",
            "[320]\tvalid_0's multi_logloss: 1.09447\n",
            "[330]\tvalid_0's multi_logloss: 1.09436\n",
            "[340]\tvalid_0's multi_logloss: 1.09423\n",
            "[350]\tvalid_0's multi_logloss: 1.09418\n",
            "[360]\tvalid_0's multi_logloss: 1.09408\n",
            "[370]\tvalid_0's multi_logloss: 1.09403\n",
            "[380]\tvalid_0's multi_logloss: 1.09396\n",
            "[390]\tvalid_0's multi_logloss: 1.09388\n",
            "[400]\tvalid_0's multi_logloss: 1.09376\n",
            "[410]\tvalid_0's multi_logloss: 1.09372\n",
            "[420]\tvalid_0's multi_logloss: 1.09365\n",
            "[430]\tvalid_0's multi_logloss: 1.09359\n",
            "[440]\tvalid_0's multi_logloss: 1.09353\n",
            "[450]\tvalid_0's multi_logloss: 1.09345\n",
            "[460]\tvalid_0's multi_logloss: 1.09338\n",
            "[470]\tvalid_0's multi_logloss: 1.09335\n",
            "[480]\tvalid_0's multi_logloss: 1.09335\n",
            "[490]\tvalid_0's multi_logloss: 1.09332\n",
            "[500]\tvalid_0's multi_logloss: 1.0933\n",
            "[510]\tvalid_0's multi_logloss: 1.09327\n",
            "[520]\tvalid_0's multi_logloss: 1.09325\n",
            "[530]\tvalid_0's multi_logloss: 1.09321\n",
            "[540]\tvalid_0's multi_logloss: 1.09319\n",
            "[550]\tvalid_0's multi_logloss: 1.09314\n",
            "[560]\tvalid_0's multi_logloss: 1.09311\n",
            "[570]\tvalid_0's multi_logloss: 1.09308\n",
            "[580]\tvalid_0's multi_logloss: 1.09306\n",
            "[590]\tvalid_0's multi_logloss: 1.09308\n",
            "[600]\tvalid_0's multi_logloss: 1.0931\n",
            "[610]\tvalid_0's multi_logloss: 1.09302\n",
            "[620]\tvalid_0's multi_logloss: 1.09303\n",
            "[630]\tvalid_0's multi_logloss: 1.09301\n",
            "[640]\tvalid_0's multi_logloss: 1.09302\n",
            "[650]\tvalid_0's multi_logloss: 1.09303\n",
            "[660]\tvalid_0's multi_logloss: 1.09301\n",
            "[670]\tvalid_0's multi_logloss: 1.09303\n",
            "[680]\tvalid_0's multi_logloss: 1.09303\n",
            "[690]\tvalid_0's multi_logloss: 1.09306\n",
            "[700]\tvalid_0's multi_logloss: 1.09306\n",
            "Early stopping, best iteration is:\n",
            "[659]\tvalid_0's multi_logloss: 1.093\n",
            "Fold 5, Valid score = 1.093\n",
            "Training until validation scores don't improve for 50 rounds.\n",
            "[10]\tvalid_0's multi_logloss: 1.11458\n",
            "[20]\tvalid_0's multi_logloss: 1.11168\n",
            "[30]\tvalid_0's multi_logloss: 1.10927\n",
            "[40]\tvalid_0's multi_logloss: 1.10753\n",
            "[50]\tvalid_0's multi_logloss: 1.10604\n",
            "[60]\tvalid_0's multi_logloss: 1.10459\n",
            "[70]\tvalid_0's multi_logloss: 1.10346\n",
            "[80]\tvalid_0's multi_logloss: 1.10246\n",
            "[90]\tvalid_0's multi_logloss: 1.10162\n",
            "[100]\tvalid_0's multi_logloss: 1.10079\n",
            "[110]\tvalid_0's multi_logloss: 1.1001\n",
            "[120]\tvalid_0's multi_logloss: 1.09941\n",
            "[130]\tvalid_0's multi_logloss: 1.09881\n",
            "[140]\tvalid_0's multi_logloss: 1.09814\n",
            "[150]\tvalid_0's multi_logloss: 1.09771\n",
            "[160]\tvalid_0's multi_logloss: 1.09726\n",
            "[170]\tvalid_0's multi_logloss: 1.09686\n",
            "[180]\tvalid_0's multi_logloss: 1.09645\n",
            "[190]\tvalid_0's multi_logloss: 1.09618\n",
            "[200]\tvalid_0's multi_logloss: 1.09583\n",
            "[210]\tvalid_0's multi_logloss: 1.09556\n",
            "[220]\tvalid_0's multi_logloss: 1.09527\n",
            "[230]\tvalid_0's multi_logloss: 1.09508\n",
            "[240]\tvalid_0's multi_logloss: 1.0949\n",
            "[250]\tvalid_0's multi_logloss: 1.09466\n",
            "[260]\tvalid_0's multi_logloss: 1.09445\n",
            "[270]\tvalid_0's multi_logloss: 1.0943\n",
            "[280]\tvalid_0's multi_logloss: 1.09417\n",
            "[290]\tvalid_0's multi_logloss: 1.09402\n",
            "[300]\tvalid_0's multi_logloss: 1.09392\n",
            "[310]\tvalid_0's multi_logloss: 1.09379\n",
            "[320]\tvalid_0's multi_logloss: 1.09369\n",
            "[330]\tvalid_0's multi_logloss: 1.0936\n",
            "[340]\tvalid_0's multi_logloss: 1.09349\n",
            "[350]\tvalid_0's multi_logloss: 1.0934\n",
            "[360]\tvalid_0's multi_logloss: 1.09332\n",
            "[370]\tvalid_0's multi_logloss: 1.09326\n",
            "[380]\tvalid_0's multi_logloss: 1.09315\n",
            "[390]\tvalid_0's multi_logloss: 1.09308\n",
            "[400]\tvalid_0's multi_logloss: 1.09306\n",
            "[410]\tvalid_0's multi_logloss: 1.09301\n",
            "[420]\tvalid_0's multi_logloss: 1.09296\n",
            "[430]\tvalid_0's multi_logloss: 1.09294\n",
            "[440]\tvalid_0's multi_logloss: 1.09291\n",
            "[450]\tvalid_0's multi_logloss: 1.09287\n",
            "[460]\tvalid_0's multi_logloss: 1.09281\n",
            "[470]\tvalid_0's multi_logloss: 1.09275\n",
            "[480]\tvalid_0's multi_logloss: 1.09271\n",
            "[490]\tvalid_0's multi_logloss: 1.09267\n",
            "[500]\tvalid_0's multi_logloss: 1.09263\n",
            "[510]\tvalid_0's multi_logloss: 1.09258\n",
            "[520]\tvalid_0's multi_logloss: 1.09254\n",
            "[530]\tvalid_0's multi_logloss: 1.09251\n",
            "[540]\tvalid_0's multi_logloss: 1.0925\n",
            "[550]\tvalid_0's multi_logloss: 1.09247\n",
            "[560]\tvalid_0's multi_logloss: 1.09245\n",
            "[570]\tvalid_0's multi_logloss: 1.09248\n",
            "[580]\tvalid_0's multi_logloss: 1.09246\n",
            "[590]\tvalid_0's multi_logloss: 1.09245\n",
            "[600]\tvalid_0's multi_logloss: 1.09242\n",
            "[610]\tvalid_0's multi_logloss: 1.09241\n",
            "[620]\tvalid_0's multi_logloss: 1.09236\n",
            "[630]\tvalid_0's multi_logloss: 1.09233\n",
            "[640]\tvalid_0's multi_logloss: 1.09232\n",
            "[650]\tvalid_0's multi_logloss: 1.09231\n",
            "[660]\tvalid_0's multi_logloss: 1.09228\n",
            "[670]\tvalid_0's multi_logloss: 1.09226\n",
            "[680]\tvalid_0's multi_logloss: 1.09225\n",
            "[690]\tvalid_0's multi_logloss: 1.09226\n",
            "[700]\tvalid_0's multi_logloss: 1.0922\n",
            "[710]\tvalid_0's multi_logloss: 1.09222\n",
            "[720]\tvalid_0's multi_logloss: 1.0922\n",
            "[730]\tvalid_0's multi_logloss: 1.09217\n",
            "[740]\tvalid_0's multi_logloss: 1.09217\n",
            "[750]\tvalid_0's multi_logloss: 1.09215\n",
            "[760]\tvalid_0's multi_logloss: 1.09217\n",
            "[770]\tvalid_0's multi_logloss: 1.09215\n",
            "[780]\tvalid_0's multi_logloss: 1.09213\n",
            "[790]\tvalid_0's multi_logloss: 1.0921\n",
            "[800]\tvalid_0's multi_logloss: 1.09207\n",
            "[810]\tvalid_0's multi_logloss: 1.09206\n",
            "[820]\tvalid_0's multi_logloss: 1.09205\n",
            "[830]\tvalid_0's multi_logloss: 1.09203\n",
            "[840]\tvalid_0's multi_logloss: 1.09204\n",
            "[850]\tvalid_0's multi_logloss: 1.09205\n",
            "[860]\tvalid_0's multi_logloss: 1.09206\n",
            "[870]\tvalid_0's multi_logloss: 1.09206\n",
            "Early stopping, best iteration is:\n",
            "[828]\tvalid_0's multi_logloss: 1.09203\n",
            "Fold 6, Valid score = 1.09203\n",
            "Training until validation scores don't improve for 50 rounds.\n",
            "[10]\tvalid_0's multi_logloss: 1.11438\n",
            "[20]\tvalid_0's multi_logloss: 1.11127\n",
            "[30]\tvalid_0's multi_logloss: 1.10867\n",
            "[40]\tvalid_0's multi_logloss: 1.10651\n",
            "[50]\tvalid_0's multi_logloss: 1.10484\n",
            "[60]\tvalid_0's multi_logloss: 1.10326\n",
            "[70]\tvalid_0's multi_logloss: 1.10212\n",
            "[80]\tvalid_0's multi_logloss: 1.10093\n",
            "[90]\tvalid_0's multi_logloss: 1.09985\n",
            "[100]\tvalid_0's multi_logloss: 1.09899\n",
            "[110]\tvalid_0's multi_logloss: 1.09811\n",
            "[120]\tvalid_0's multi_logloss: 1.09722\n",
            "[130]\tvalid_0's multi_logloss: 1.09661\n",
            "[140]\tvalid_0's multi_logloss: 1.09597\n",
            "[150]\tvalid_0's multi_logloss: 1.09536\n",
            "[160]\tvalid_0's multi_logloss: 1.0948\n",
            "[170]\tvalid_0's multi_logloss: 1.09436\n",
            "[180]\tvalid_0's multi_logloss: 1.09393\n",
            "[190]\tvalid_0's multi_logloss: 1.09349\n",
            "[200]\tvalid_0's multi_logloss: 1.09311\n",
            "[210]\tvalid_0's multi_logloss: 1.09279\n",
            "[220]\tvalid_0's multi_logloss: 1.09242\n",
            "[230]\tvalid_0's multi_logloss: 1.09212\n",
            "[240]\tvalid_0's multi_logloss: 1.09181\n",
            "[250]\tvalid_0's multi_logloss: 1.09159\n",
            "[260]\tvalid_0's multi_logloss: 1.09133\n",
            "[270]\tvalid_0's multi_logloss: 1.09111\n",
            "[280]\tvalid_0's multi_logloss: 1.09096\n",
            "[290]\tvalid_0's multi_logloss: 1.09077\n",
            "[300]\tvalid_0's multi_logloss: 1.09057\n",
            "[310]\tvalid_0's multi_logloss: 1.09042\n",
            "[320]\tvalid_0's multi_logloss: 1.09028\n",
            "[330]\tvalid_0's multi_logloss: 1.09015\n",
            "[340]\tvalid_0's multi_logloss: 1.09002\n",
            "[350]\tvalid_0's multi_logloss: 1.0899\n",
            "[360]\tvalid_0's multi_logloss: 1.08979\n",
            "[370]\tvalid_0's multi_logloss: 1.0897\n",
            "[380]\tvalid_0's multi_logloss: 1.08962\n",
            "[390]\tvalid_0's multi_logloss: 1.08951\n",
            "[400]\tvalid_0's multi_logloss: 1.08943\n",
            "[410]\tvalid_0's multi_logloss: 1.08934\n",
            "[420]\tvalid_0's multi_logloss: 1.08925\n",
            "[430]\tvalid_0's multi_logloss: 1.0892\n",
            "[440]\tvalid_0's multi_logloss: 1.08915\n",
            "[450]\tvalid_0's multi_logloss: 1.08908\n",
            "[460]\tvalid_0's multi_logloss: 1.08904\n",
            "[470]\tvalid_0's multi_logloss: 1.08898\n",
            "[480]\tvalid_0's multi_logloss: 1.08892\n",
            "[490]\tvalid_0's multi_logloss: 1.08887\n",
            "[500]\tvalid_0's multi_logloss: 1.08883\n",
            "[510]\tvalid_0's multi_logloss: 1.08879\n",
            "[520]\tvalid_0's multi_logloss: 1.08882\n",
            "[530]\tvalid_0's multi_logloss: 1.08878\n",
            "[540]\tvalid_0's multi_logloss: 1.08876\n",
            "[550]\tvalid_0's multi_logloss: 1.08873\n",
            "[560]\tvalid_0's multi_logloss: 1.08869\n",
            "[570]\tvalid_0's multi_logloss: 1.08863\n",
            "[580]\tvalid_0's multi_logloss: 1.08857\n",
            "[590]\tvalid_0's multi_logloss: 1.08854\n",
            "[600]\tvalid_0's multi_logloss: 1.08851\n",
            "[610]\tvalid_0's multi_logloss: 1.0885\n",
            "[620]\tvalid_0's multi_logloss: 1.08848\n",
            "[630]\tvalid_0's multi_logloss: 1.08848\n",
            "[640]\tvalid_0's multi_logloss: 1.08849\n",
            "[650]\tvalid_0's multi_logloss: 1.08846\n",
            "[660]\tvalid_0's multi_logloss: 1.08846\n",
            "[670]\tvalid_0's multi_logloss: 1.08848\n",
            "[680]\tvalid_0's multi_logloss: 1.08847\n",
            "[690]\tvalid_0's multi_logloss: 1.08846\n",
            "[700]\tvalid_0's multi_logloss: 1.08843\n",
            "[710]\tvalid_0's multi_logloss: 1.08842\n",
            "[720]\tvalid_0's multi_logloss: 1.08844\n",
            "[730]\tvalid_0's multi_logloss: 1.08844\n",
            "[740]\tvalid_0's multi_logloss: 1.08843\n",
            "[750]\tvalid_0's multi_logloss: 1.08843\n",
            "[760]\tvalid_0's multi_logloss: 1.08841\n",
            "[770]\tvalid_0's multi_logloss: 1.08841\n",
            "[780]\tvalid_0's multi_logloss: 1.08838\n",
            "[790]\tvalid_0's multi_logloss: 1.08835\n",
            "[800]\tvalid_0's multi_logloss: 1.08838\n",
            "[810]\tvalid_0's multi_logloss: 1.08836\n",
            "[820]\tvalid_0's multi_logloss: 1.08835\n",
            "[830]\tvalid_0's multi_logloss: 1.08835\n",
            "[840]\tvalid_0's multi_logloss: 1.08835\n",
            "[850]\tvalid_0's multi_logloss: 1.08833\n",
            "[860]\tvalid_0's multi_logloss: 1.08833\n",
            "[870]\tvalid_0's multi_logloss: 1.08833\n",
            "[880]\tvalid_0's multi_logloss: 1.08836\n",
            "[890]\tvalid_0's multi_logloss: 1.08838\n",
            "[900]\tvalid_0's multi_logloss: 1.08837\n",
            "[910]\tvalid_0's multi_logloss: 1.0884\n",
            "Early stopping, best iteration is:\n",
            "[867]\tvalid_0's multi_logloss: 1.08832\n",
            "Fold 7, Valid score = 1.08832\n",
            "Score by each fold: [1.09144, 1.08887, 1.09358, 1.08867, 1.093, 1.09203, 1.08832]\n",
            "=================================================================\n",
            "Out of fold ROC AUC 1.0908423940364371\n"
          ],
          "name": "stdout"
        }
      ]
    },
    {
      "cell_type": "code",
      "metadata": {
        "colab": {
          "base_uri": "https://localhost:8080/"
        },
        "id": "XhrhwVU-G5ZL",
        "outputId": "3f4f434e-05af-4aa0-f009-b1965d459bb9"
      },
      "source": [
        "cb_params = {\n",
        "    \"n_estimators\": 5000,\n",
        "    \"loss_function\": \"MultiClass\",\n",
        "    \"eval_metric\": \"MultiClass\",\n",
        "    \"task_type\": \"CPU\",\n",
        "    'learning_rate': 0.08992656195498482, \n",
        "    'reg_lambda': 27.77866189042851, \n",
        "    'subsample': 0.6044483085727145, \n",
        "    'random_strength': 0.5855495663972144, \n",
        "    'depth': 3, \n",
        "    'min_data_in_leaf': 25, \n",
        "    'leaf_estimation_iterations': 1,\n",
        "    'bootstrap_type': 'Bernoulli',\n",
        "    'leaf_estimation_method': 'Newton',\n",
        "}\n",
        "\n",
        "cv = StratifiedKFold(n_splits=7, random_state=435, shuffle=True)\n",
        "\n",
        "cb_estimators, cb_oof = catboost_cv_fit(\n",
        "    cb_params, x_train, y_train, cv, #categorical=categorical_feature_names\n",
        ")\n",
        "\n",
        "print(f\"Out of fold log loss {metrics.log_loss(y_train, lgb_oof)}\")\n",
        "result_cb = multi_estimators_predict(cb_estimators, test.drop(columns='id'))"
      ],
      "execution_count": 72,
      "outputs": [
        {
          "output_type": "stream",
          "text": [
            "Mon May 17 20:57:58 2021, Cross-Validation, 100000 rows, 50 cols\n",
            "0:\tlearn: 1.3351817\ttest: 1.3351765\tbest: 1.3351765 (0)\ttotal: 58.3ms\tremaining: 4m 51s\n",
            "10:\tlearn: 1.1504047\ttest: 1.1507554\tbest: 1.1507554 (10)\ttotal: 622ms\tremaining: 4m 42s\n",
            "20:\tlearn: 1.1191083\ttest: 1.1197820\tbest: 1.1197820 (20)\ttotal: 1.22s\tremaining: 4m 50s\n",
            "30:\tlearn: 1.1116408\ttest: 1.1126188\tbest: 1.1126188 (30)\ttotal: 1.86s\tremaining: 4m 58s\n",
            "40:\tlearn: 1.1087680\ttest: 1.1101258\tbest: 1.1101258 (40)\ttotal: 2.48s\tremaining: 4m 59s\n",
            "50:\tlearn: 1.1066456\ttest: 1.1080972\tbest: 1.1080972 (50)\ttotal: 3.09s\tremaining: 4m 59s\n",
            "60:\tlearn: 1.1050360\ttest: 1.1067681\tbest: 1.1067681 (60)\ttotal: 3.67s\tremaining: 4m 57s\n",
            "70:\tlearn: 1.1036214\ttest: 1.1056447\tbest: 1.1056447 (70)\ttotal: 4.26s\tremaining: 4m 55s\n",
            "80:\tlearn: 1.1022938\ttest: 1.1045768\tbest: 1.1045768 (80)\ttotal: 4.86s\tremaining: 4m 55s\n",
            "90:\tlearn: 1.1011285\ttest: 1.1035656\tbest: 1.1035656 (90)\ttotal: 5.45s\tremaining: 4m 54s\n",
            "100:\tlearn: 1.1001110\ttest: 1.1026694\tbest: 1.1026694 (100)\ttotal: 6.05s\tremaining: 4m 53s\n",
            "110:\tlearn: 1.0991647\ttest: 1.1019094\tbest: 1.1019094 (110)\ttotal: 6.64s\tremaining: 4m 52s\n",
            "120:\tlearn: 1.0983083\ttest: 1.1012518\tbest: 1.1012518 (120)\ttotal: 7.25s\tremaining: 4m 52s\n",
            "130:\tlearn: 1.0974533\ttest: 1.1007228\tbest: 1.1007228 (130)\ttotal: 7.82s\tremaining: 4m 50s\n",
            "140:\tlearn: 1.0966670\ttest: 1.1001163\tbest: 1.1001163 (140)\ttotal: 8.4s\tremaining: 4m 49s\n",
            "150:\tlearn: 1.0958589\ttest: 1.0996359\tbest: 1.0996359 (150)\ttotal: 8.98s\tremaining: 4m 48s\n",
            "160:\tlearn: 1.0951802\ttest: 1.0991324\tbest: 1.0991324 (160)\ttotal: 9.57s\tremaining: 4m 47s\n",
            "170:\tlearn: 1.0945812\ttest: 1.0986943\tbest: 1.0986943 (170)\ttotal: 10.2s\tremaining: 4m 47s\n",
            "180:\tlearn: 1.0940143\ttest: 1.0982106\tbest: 1.0982106 (180)\ttotal: 10.7s\tremaining: 4m 45s\n",
            "190:\tlearn: 1.0934872\ttest: 1.0978444\tbest: 1.0978444 (190)\ttotal: 11.3s\tremaining: 4m 45s\n",
            "200:\tlearn: 1.0930870\ttest: 1.0974689\tbest: 1.0974689 (200)\ttotal: 11.9s\tremaining: 4m 43s\n",
            "210:\tlearn: 1.0925523\ttest: 1.0972163\tbest: 1.0972163 (210)\ttotal: 12.5s\tremaining: 4m 43s\n",
            "220:\tlearn: 1.0920749\ttest: 1.0969529\tbest: 1.0969529 (220)\ttotal: 13.1s\tremaining: 4m 42s\n",
            "230:\tlearn: 1.0915685\ttest: 1.0966147\tbest: 1.0966147 (230)\ttotal: 13.7s\tremaining: 4m 42s\n",
            "240:\tlearn: 1.0911578\ttest: 1.0964262\tbest: 1.0964262 (240)\ttotal: 14.3s\tremaining: 4m 41s\n",
            "250:\tlearn: 1.0907577\ttest: 1.0961795\tbest: 1.0961795 (250)\ttotal: 14.8s\tremaining: 4m 40s\n",
            "260:\tlearn: 1.0903848\ttest: 1.0958855\tbest: 1.0958798 (259)\ttotal: 15.4s\tremaining: 4m 39s\n",
            "270:\tlearn: 1.0900402\ttest: 1.0957090\tbest: 1.0957090 (270)\ttotal: 16s\tremaining: 4m 38s\n",
            "280:\tlearn: 1.0895210\ttest: 1.0954602\tbest: 1.0954602 (280)\ttotal: 16.6s\tremaining: 4m 38s\n",
            "290:\tlearn: 1.0892703\ttest: 1.0953255\tbest: 1.0953255 (290)\ttotal: 17.1s\tremaining: 4m 37s\n",
            "300:\tlearn: 1.0889234\ttest: 1.0952254\tbest: 1.0952254 (300)\ttotal: 17.7s\tremaining: 4m 36s\n",
            "310:\tlearn: 1.0886229\ttest: 1.0950666\tbest: 1.0950666 (310)\ttotal: 18.3s\tremaining: 4m 35s\n",
            "320:\tlearn: 1.0883224\ttest: 1.0948911\tbest: 1.0948911 (320)\ttotal: 18.8s\tremaining: 4m 34s\n",
            "330:\tlearn: 1.0880310\ttest: 1.0948628\tbest: 1.0948628 (330)\ttotal: 19.4s\tremaining: 4m 33s\n",
            "340:\tlearn: 1.0877134\ttest: 1.0948131\tbest: 1.0948131 (340)\ttotal: 19.9s\tremaining: 4m 32s\n",
            "350:\tlearn: 1.0874472\ttest: 1.0946923\tbest: 1.0946923 (350)\ttotal: 20.5s\tremaining: 4m 31s\n",
            "360:\tlearn: 1.0871437\ttest: 1.0945396\tbest: 1.0945396 (360)\ttotal: 21.1s\tremaining: 4m 30s\n",
            "370:\tlearn: 1.0868939\ttest: 1.0944971\tbest: 1.0944971 (370)\ttotal: 21.6s\tremaining: 4m 30s\n",
            "380:\tlearn: 1.0866313\ttest: 1.0943339\tbest: 1.0943339 (380)\ttotal: 22.2s\tremaining: 4m 29s\n",
            "390:\tlearn: 1.0863395\ttest: 1.0942366\tbest: 1.0942028 (387)\ttotal: 22.8s\tremaining: 4m 28s\n",
            "400:\tlearn: 1.0861711\ttest: 1.0941645\tbest: 1.0941645 (400)\ttotal: 23.3s\tremaining: 4m 27s\n",
            "410:\tlearn: 1.0859502\ttest: 1.0940546\tbest: 1.0940546 (410)\ttotal: 23.9s\tremaining: 4m 26s\n",
            "420:\tlearn: 1.0857237\ttest: 1.0939684\tbest: 1.0939590 (419)\ttotal: 24.5s\tremaining: 4m 26s\n",
            "430:\tlearn: 1.0854661\ttest: 1.0938660\tbest: 1.0938660 (430)\ttotal: 25s\tremaining: 4m 25s\n",
            "440:\tlearn: 1.0852561\ttest: 1.0937898\tbest: 1.0937835 (439)\ttotal: 25.6s\tremaining: 4m 24s\n",
            "450:\tlearn: 1.0850406\ttest: 1.0937232\tbest: 1.0937232 (450)\ttotal: 26.2s\tremaining: 4m 24s\n",
            "460:\tlearn: 1.0848394\ttest: 1.0936375\tbest: 1.0936375 (460)\ttotal: 26.8s\tremaining: 4m 23s\n",
            "470:\tlearn: 1.0846236\ttest: 1.0935466\tbest: 1.0935466 (470)\ttotal: 27.3s\tremaining: 4m 22s\n",
            "480:\tlearn: 1.0844404\ttest: 1.0934910\tbest: 1.0934839 (478)\ttotal: 27.9s\tremaining: 4m 22s\n",
            "490:\tlearn: 1.0841820\ttest: 1.0934234\tbest: 1.0934212 (489)\ttotal: 28.5s\tremaining: 4m 21s\n",
            "500:\tlearn: 1.0839630\ttest: 1.0933266\tbest: 1.0933266 (500)\ttotal: 29.1s\tremaining: 4m 21s\n",
            "510:\tlearn: 1.0837584\ttest: 1.0932920\tbest: 1.0932860 (508)\ttotal: 29.6s\tremaining: 4m 20s\n",
            "520:\tlearn: 1.0835800\ttest: 1.0932561\tbest: 1.0932379 (514)\ttotal: 30.2s\tremaining: 4m 19s\n",
            "530:\tlearn: 1.0833760\ttest: 1.0932100\tbest: 1.0932100 (530)\ttotal: 30.8s\tremaining: 4m 19s\n",
            "540:\tlearn: 1.0832199\ttest: 1.0931409\tbest: 1.0931409 (540)\ttotal: 31.4s\tremaining: 4m 18s\n",
            "550:\tlearn: 1.0830364\ttest: 1.0931613\tbest: 1.0931287 (543)\ttotal: 32s\tremaining: 4m 18s\n",
            "560:\tlearn: 1.0828697\ttest: 1.0931507\tbest: 1.0931287 (543)\ttotal: 32.5s\tremaining: 4m 17s\n",
            "570:\tlearn: 1.0827063\ttest: 1.0931588\tbest: 1.0931287 (543)\ttotal: 33.1s\tremaining: 4m 16s\n",
            "580:\tlearn: 1.0825618\ttest: 1.0930849\tbest: 1.0930849 (580)\ttotal: 33.7s\tremaining: 4m 16s\n",
            "590:\tlearn: 1.0823855\ttest: 1.0930238\tbest: 1.0930238 (590)\ttotal: 34.3s\tremaining: 4m 15s\n",
            "600:\tlearn: 1.0822348\ttest: 1.0930379\tbest: 1.0930238 (590)\ttotal: 34.8s\tremaining: 4m 14s\n",
            "610:\tlearn: 1.0820836\ttest: 1.0929985\tbest: 1.0929985 (610)\ttotal: 35.4s\tremaining: 4m 13s\n",
            "620:\tlearn: 1.0819138\ttest: 1.0929903\tbest: 1.0929903 (620)\ttotal: 35.9s\tremaining: 4m 13s\n",
            "630:\tlearn: 1.0817587\ttest: 1.0930018\tbest: 1.0929877 (627)\ttotal: 36.5s\tremaining: 4m 12s\n",
            "640:\tlearn: 1.0815797\ttest: 1.0929718\tbest: 1.0929626 (635)\ttotal: 37s\tremaining: 4m 11s\n",
            "650:\tlearn: 1.0814228\ttest: 1.0930031\tbest: 1.0929626 (635)\ttotal: 37.6s\tremaining: 4m 11s\n",
            "660:\tlearn: 1.0812894\ttest: 1.0929827\tbest: 1.0929626 (635)\ttotal: 38.2s\tremaining: 4m 10s\n",
            "670:\tlearn: 1.0811392\ttest: 1.0929532\tbest: 1.0929532 (670)\ttotal: 38.7s\tremaining: 4m 9s\n",
            "680:\tlearn: 1.0809706\ttest: 1.0929655\tbest: 1.0929532 (670)\ttotal: 39.3s\tremaining: 4m 9s\n",
            "690:\tlearn: 1.0808338\ttest: 1.0929811\tbest: 1.0929532 (670)\ttotal: 39.9s\tremaining: 4m 8s\n",
            "700:\tlearn: 1.0807084\ttest: 1.0929640\tbest: 1.0929532 (670)\ttotal: 40.4s\tremaining: 4m 8s\n",
            "710:\tlearn: 1.0805769\ttest: 1.0929104\tbest: 1.0929104 (710)\ttotal: 41s\tremaining: 4m 7s\n",
            "720:\tlearn: 1.0804560\ttest: 1.0928958\tbest: 1.0928893 (713)\ttotal: 41.6s\tremaining: 4m 6s\n",
            "730:\tlearn: 1.0803055\ttest: 1.0928416\tbest: 1.0928284 (729)\ttotal: 42.2s\tremaining: 4m 6s\n",
            "740:\tlearn: 1.0801474\ttest: 1.0928263\tbest: 1.0928195 (735)\ttotal: 42.8s\tremaining: 4m 5s\n",
            "750:\tlearn: 1.0799888\ttest: 1.0928265\tbest: 1.0928142 (744)\ttotal: 43.4s\tremaining: 4m 5s\n",
            "760:\tlearn: 1.0798346\ttest: 1.0927782\tbest: 1.0927734 (757)\ttotal: 43.9s\tremaining: 4m 4s\n",
            "770:\tlearn: 1.0796861\ttest: 1.0927801\tbest: 1.0927615 (769)\ttotal: 44.5s\tremaining: 4m 4s\n",
            "780:\tlearn: 1.0795814\ttest: 1.0927352\tbest: 1.0927352 (780)\ttotal: 45.1s\tremaining: 4m 3s\n",
            "790:\tlearn: 1.0794357\ttest: 1.0927302\tbest: 1.0927227 (782)\ttotal: 45.6s\tremaining: 4m 2s\n",
            "800:\tlearn: 1.0793202\ttest: 1.0927011\tbest: 1.0926922 (799)\ttotal: 46.2s\tremaining: 4m 2s\n",
            "810:\tlearn: 1.0792107\ttest: 1.0926736\tbest: 1.0926736 (810)\ttotal: 46.7s\tremaining: 4m 1s\n",
            "820:\tlearn: 1.0790437\ttest: 1.0926313\tbest: 1.0926289 (819)\ttotal: 47.3s\tremaining: 4m\n",
            "830:\tlearn: 1.0788861\ttest: 1.0926417\tbest: 1.0926289 (819)\ttotal: 47.9s\tremaining: 4m\n",
            "840:\tlearn: 1.0786872\ttest: 1.0926065\tbest: 1.0926065 (840)\ttotal: 48.5s\tremaining: 3m 59s\n",
            "850:\tlearn: 1.0785740\ttest: 1.0926204\tbest: 1.0926065 (840)\ttotal: 49s\tremaining: 3m 59s\n",
            "860:\tlearn: 1.0784311\ttest: 1.0925512\tbest: 1.0925512 (860)\ttotal: 49.6s\tremaining: 3m 58s\n",
            "870:\tlearn: 1.0782889\ttest: 1.0925471\tbest: 1.0925471 (870)\ttotal: 50.2s\tremaining: 3m 57s\n",
            "880:\tlearn: 1.0781289\ttest: 1.0924998\tbest: 1.0924931 (875)\ttotal: 50.8s\tremaining: 3m 57s\n",
            "890:\tlearn: 1.0779885\ttest: 1.0924636\tbest: 1.0924636 (890)\ttotal: 51.3s\tremaining: 3m 56s\n",
            "900:\tlearn: 1.0778612\ttest: 1.0924390\tbest: 1.0924370 (894)\ttotal: 51.9s\tremaining: 3m 56s\n",
            "910:\tlearn: 1.0777359\ttest: 1.0924426\tbest: 1.0924311 (904)\ttotal: 52.5s\tremaining: 3m 55s\n",
            "920:\tlearn: 1.0775624\ttest: 1.0924086\tbest: 1.0923997 (915)\ttotal: 53s\tremaining: 3m 54s\n",
            "930:\tlearn: 1.0774488\ttest: 1.0923998\tbest: 1.0923997 (915)\ttotal: 53.6s\tremaining: 3m 54s\n",
            "940:\tlearn: 1.0773267\ttest: 1.0923813\tbest: 1.0923813 (940)\ttotal: 54.1s\tremaining: 3m 53s\n",
            "950:\tlearn: 1.0771963\ttest: 1.0923731\tbest: 1.0923731 (950)\ttotal: 54.7s\tremaining: 3m 52s\n",
            "960:\tlearn: 1.0770781\ttest: 1.0923983\tbest: 1.0923668 (954)\ttotal: 55.3s\tremaining: 3m 52s\n",
            "970:\tlearn: 1.0769485\ttest: 1.0923994\tbest: 1.0923668 (954)\ttotal: 55.9s\tremaining: 3m 51s\n",
            "980:\tlearn: 1.0768413\ttest: 1.0923834\tbest: 1.0923668 (954)\ttotal: 56.4s\tremaining: 3m 51s\n",
            "990:\tlearn: 1.0767214\ttest: 1.0923715\tbest: 1.0923632 (989)\ttotal: 57s\tremaining: 3m 50s\n",
            "1000:\tlearn: 1.0766328\ttest: 1.0923592\tbest: 1.0923586 (995)\ttotal: 57.6s\tremaining: 3m 50s\n",
            "1010:\tlearn: 1.0765249\ttest: 1.0923684\tbest: 1.0923564 (1001)\ttotal: 58.1s\tremaining: 3m 49s\n",
            "1020:\tlearn: 1.0764281\ttest: 1.0923472\tbest: 1.0923472 (1020)\ttotal: 58.7s\tremaining: 3m 48s\n",
            "1030:\tlearn: 1.0762908\ttest: 1.0923462\tbest: 1.0923226 (1028)\ttotal: 59.3s\tremaining: 3m 48s\n",
            "1040:\tlearn: 1.0761728\ttest: 1.0923178\tbest: 1.0923178 (1040)\ttotal: 59.8s\tremaining: 3m 47s\n",
            "1050:\tlearn: 1.0760767\ttest: 1.0923224\tbest: 1.0923078 (1045)\ttotal: 1m\tremaining: 3m 46s\n",
            "1060:\tlearn: 1.0759819\ttest: 1.0923033\tbest: 1.0922971 (1057)\ttotal: 1m\tremaining: 3m 46s\n",
            "1070:\tlearn: 1.0758728\ttest: 1.0922890\tbest: 1.0922890 (1070)\ttotal: 1m 1s\tremaining: 3m 45s\n",
            "1080:\tlearn: 1.0757514\ttest: 1.0922858\tbest: 1.0922821 (1076)\ttotal: 1m 2s\tremaining: 3m 45s\n",
            "1090:\tlearn: 1.0756800\ttest: 1.0922773\tbest: 1.0922624 (1088)\ttotal: 1m 2s\tremaining: 3m 44s\n",
            "1100:\tlearn: 1.0755467\ttest: 1.0922621\tbest: 1.0922601 (1093)\ttotal: 1m 3s\tremaining: 3m 44s\n",
            "1110:\tlearn: 1.0754674\ttest: 1.0922665\tbest: 1.0922575 (1101)\ttotal: 1m 3s\tremaining: 3m 43s\n",
            "1120:\tlearn: 1.0753424\ttest: 1.0922552\tbest: 1.0922546 (1114)\ttotal: 1m 4s\tremaining: 3m 42s\n",
            "1130:\tlearn: 1.0752413\ttest: 1.0922850\tbest: 1.0922546 (1114)\ttotal: 1m 4s\tremaining: 3m 42s\n",
            "1140:\tlearn: 1.0751238\ttest: 1.0922785\tbest: 1.0922546 (1114)\ttotal: 1m 5s\tremaining: 3m 41s\n",
            "1150:\tlearn: 1.0750324\ttest: 1.0922120\tbest: 1.0922120 (1150)\ttotal: 1m 6s\tremaining: 3m 40s\n",
            "1160:\tlearn: 1.0748757\ttest: 1.0921937\tbest: 1.0921817 (1156)\ttotal: 1m 6s\tremaining: 3m 40s\n",
            "1170:\tlearn: 1.0747955\ttest: 1.0922042\tbest: 1.0921817 (1156)\ttotal: 1m 7s\tremaining: 3m 39s\n",
            "1180:\tlearn: 1.0746947\ttest: 1.0922193\tbest: 1.0921817 (1156)\ttotal: 1m 7s\tremaining: 3m 38s\n",
            "1190:\tlearn: 1.0745978\ttest: 1.0921967\tbest: 1.0921801 (1188)\ttotal: 1m 8s\tremaining: 3m 38s\n",
            "1200:\tlearn: 1.0744650\ttest: 1.0922272\tbest: 1.0921801 (1188)\ttotal: 1m 8s\tremaining: 3m 37s\n",
            "1210:\tlearn: 1.0743079\ttest: 1.0922010\tbest: 1.0921801 (1188)\ttotal: 1m 9s\tremaining: 3m 37s\n",
            "1220:\tlearn: 1.0741956\ttest: 1.0921582\tbest: 1.0921582 (1220)\ttotal: 1m 9s\tremaining: 3m 36s\n",
            "1230:\tlearn: 1.0740923\ttest: 1.0921463\tbest: 1.0921256 (1225)\ttotal: 1m 10s\tremaining: 3m 36s\n",
            "1240:\tlearn: 1.0740201\ttest: 1.0921403\tbest: 1.0921256 (1225)\ttotal: 1m 11s\tremaining: 3m 35s\n",
            "1250:\tlearn: 1.0738937\ttest: 1.0921342\tbest: 1.0921253 (1248)\ttotal: 1m 11s\tremaining: 3m 34s\n",
            "1260:\tlearn: 1.0738234\ttest: 1.0921518\tbest: 1.0921253 (1248)\ttotal: 1m 12s\tremaining: 3m 34s\n",
            "1270:\tlearn: 1.0737355\ttest: 1.0921335\tbest: 1.0921219 (1267)\ttotal: 1m 12s\tremaining: 3m 33s\n",
            "1280:\tlearn: 1.0736376\ttest: 1.0920988\tbest: 1.0920988 (1280)\ttotal: 1m 13s\tremaining: 3m 33s\n",
            "1290:\tlearn: 1.0735741\ttest: 1.0920954\tbest: 1.0920747 (1284)\ttotal: 1m 13s\tremaining: 3m 32s\n",
            "1300:\tlearn: 1.0734953\ttest: 1.0920688\tbest: 1.0920688 (1300)\ttotal: 1m 14s\tremaining: 3m 31s\n",
            "1310:\tlearn: 1.0734045\ttest: 1.0920555\tbest: 1.0920495 (1302)\ttotal: 1m 15s\tremaining: 3m 31s\n",
            "1320:\tlearn: 1.0732905\ttest: 1.0920992\tbest: 1.0920495 (1302)\ttotal: 1m 15s\tremaining: 3m 30s\n",
            "1330:\tlearn: 1.0732048\ttest: 1.0920943\tbest: 1.0920495 (1302)\ttotal: 1m 16s\tremaining: 3m 30s\n",
            "1340:\tlearn: 1.0730661\ttest: 1.0920548\tbest: 1.0920495 (1302)\ttotal: 1m 16s\tremaining: 3m 29s\n",
            "1350:\tlearn: 1.0729778\ttest: 1.0920793\tbest: 1.0920494 (1343)\ttotal: 1m 17s\tremaining: 3m 29s\n",
            "1360:\tlearn: 1.0728582\ttest: 1.0920965\tbest: 1.0920494 (1343)\ttotal: 1m 17s\tremaining: 3m 28s\n",
            "1370:\tlearn: 1.0727477\ttest: 1.0921265\tbest: 1.0920494 (1343)\ttotal: 1m 18s\tremaining: 3m 27s\n",
            "1380:\tlearn: 1.0726490\ttest: 1.0921290\tbest: 1.0920494 (1343)\ttotal: 1m 19s\tremaining: 3m 27s\n",
            "1390:\tlearn: 1.0725426\ttest: 1.0921015\tbest: 1.0920494 (1343)\ttotal: 1m 19s\tremaining: 3m 26s\n",
            "Stopped by overfitting detector  (50 iterations wait)\n",
            "\n",
            "bestTest = 1.092049409\n",
            "bestIteration = 1343\n",
            "\n",
            "Shrink model to first 1344 iterations.\n",
            "Fold 1, Valid score = 1.09205\n",
            "0:\tlearn: 1.3351717\ttest: 1.3351995\tbest: 1.3351995 (0)\ttotal: 58.7ms\tremaining: 4m 53s\n",
            "10:\tlearn: 1.1505967\ttest: 1.1506530\tbest: 1.1506530 (10)\ttotal: 631ms\tremaining: 4m 45s\n",
            "20:\tlearn: 1.1194263\ttest: 1.1196287\tbest: 1.1196287 (20)\ttotal: 1.23s\tremaining: 4m 51s\n",
            "30:\tlearn: 1.1118446\ttest: 1.1123315\tbest: 1.1123315 (30)\ttotal: 1.87s\tremaining: 4m 59s\n",
            "40:\tlearn: 1.1088588\ttest: 1.1094143\tbest: 1.1094143 (40)\ttotal: 2.47s\tremaining: 4m 59s\n",
            "50:\tlearn: 1.1067636\ttest: 1.1074066\tbest: 1.1074066 (50)\ttotal: 3.1s\tremaining: 5m\n",
            "60:\tlearn: 1.1051201\ttest: 1.1059295\tbest: 1.1059295 (60)\ttotal: 3.72s\tremaining: 5m 1s\n",
            "70:\tlearn: 1.1037110\ttest: 1.1045922\tbest: 1.1045922 (70)\ttotal: 4.34s\tremaining: 5m 1s\n",
            "80:\tlearn: 1.1024765\ttest: 1.1033825\tbest: 1.1033825 (80)\ttotal: 4.93s\tremaining: 4m 59s\n",
            "90:\tlearn: 1.1014028\ttest: 1.1024405\tbest: 1.1024405 (90)\ttotal: 5.51s\tremaining: 4m 57s\n",
            "100:\tlearn: 1.1004715\ttest: 1.1015618\tbest: 1.1015618 (100)\ttotal: 6.13s\tremaining: 4m 57s\n",
            "110:\tlearn: 1.0997500\ttest: 1.1008433\tbest: 1.1008433 (110)\ttotal: 6.72s\tremaining: 4m 56s\n",
            "120:\tlearn: 1.0989591\ttest: 1.1001930\tbest: 1.1001930 (120)\ttotal: 7.3s\tremaining: 4m 54s\n",
            "130:\tlearn: 1.0980942\ttest: 1.0994739\tbest: 1.0994739 (130)\ttotal: 7.87s\tremaining: 4m 52s\n",
            "140:\tlearn: 1.0972616\ttest: 1.0987891\tbest: 1.0987891 (140)\ttotal: 8.47s\tremaining: 4m 51s\n",
            "150:\tlearn: 1.0964836\ttest: 1.0981201\tbest: 1.0981201 (150)\ttotal: 9.04s\tremaining: 4m 50s\n",
            "160:\tlearn: 1.0957228\ttest: 1.0975066\tbest: 1.0975066 (160)\ttotal: 9.63s\tremaining: 4m 49s\n",
            "170:\tlearn: 1.0951369\ttest: 1.0970521\tbest: 1.0970521 (170)\ttotal: 10.2s\tremaining: 4m 47s\n",
            "180:\tlearn: 1.0944862\ttest: 1.0966504\tbest: 1.0966504 (180)\ttotal: 10.8s\tremaining: 4m 46s\n",
            "190:\tlearn: 1.0939716\ttest: 1.0963365\tbest: 1.0963365 (190)\ttotal: 11.3s\tremaining: 4m 45s\n",
            "200:\tlearn: 1.0934152\ttest: 1.0958529\tbest: 1.0958529 (200)\ttotal: 11.9s\tremaining: 4m 45s\n",
            "210:\tlearn: 1.0929059\ttest: 1.0954667\tbest: 1.0954667 (210)\ttotal: 12.6s\tremaining: 4m 44s\n",
            "220:\tlearn: 1.0924469\ttest: 1.0952280\tbest: 1.0952280 (220)\ttotal: 13.1s\tremaining: 4m 44s\n",
            "230:\tlearn: 1.0919400\ttest: 1.0949278\tbest: 1.0949278 (230)\ttotal: 13.7s\tremaining: 4m 43s\n",
            "240:\tlearn: 1.0915714\ttest: 1.0947724\tbest: 1.0947724 (240)\ttotal: 14.3s\tremaining: 4m 42s\n",
            "250:\tlearn: 1.0911646\ttest: 1.0945607\tbest: 1.0945607 (250)\ttotal: 14.9s\tremaining: 4m 41s\n",
            "260:\tlearn: 1.0907428\ttest: 1.0942522\tbest: 1.0942522 (260)\ttotal: 15.5s\tremaining: 4m 40s\n",
            "270:\tlearn: 1.0903645\ttest: 1.0940898\tbest: 1.0940898 (270)\ttotal: 16.1s\tremaining: 4m 40s\n",
            "280:\tlearn: 1.0900563\ttest: 1.0939500\tbest: 1.0939459 (279)\ttotal: 16.6s\tremaining: 4m 39s\n",
            "290:\tlearn: 1.0897040\ttest: 1.0937937\tbest: 1.0937937 (290)\ttotal: 17.2s\tremaining: 4m 39s\n",
            "300:\tlearn: 1.0894428\ttest: 1.0936243\tbest: 1.0936243 (300)\ttotal: 17.8s\tremaining: 4m 38s\n",
            "310:\tlearn: 1.0890990\ttest: 1.0934744\tbest: 1.0934744 (310)\ttotal: 18.4s\tremaining: 4m 37s\n",
            "320:\tlearn: 1.0887893\ttest: 1.0932855\tbest: 1.0932855 (320)\ttotal: 19s\tremaining: 4m 36s\n",
            "330:\tlearn: 1.0885011\ttest: 1.0930400\tbest: 1.0930400 (330)\ttotal: 19.6s\tremaining: 4m 35s\n",
            "340:\tlearn: 1.0882117\ttest: 1.0928100\tbest: 1.0928100 (340)\ttotal: 20.1s\tremaining: 4m 34s\n",
            "350:\tlearn: 1.0879355\ttest: 1.0926564\tbest: 1.0926564 (350)\ttotal: 20.7s\tremaining: 4m 34s\n",
            "360:\tlearn: 1.0877209\ttest: 1.0926241\tbest: 1.0926219 (359)\ttotal: 21.3s\tremaining: 4m 33s\n",
            "370:\tlearn: 1.0874536\ttest: 1.0925710\tbest: 1.0925710 (370)\ttotal: 21.8s\tremaining: 4m 32s\n",
            "380:\tlearn: 1.0871926\ttest: 1.0925156\tbest: 1.0925156 (380)\ttotal: 22.4s\tremaining: 4m 31s\n",
            "390:\tlearn: 1.0869771\ttest: 1.0924284\tbest: 1.0924284 (390)\ttotal: 23s\tremaining: 4m 30s\n",
            "400:\tlearn: 1.0867492\ttest: 1.0923362\tbest: 1.0923304 (399)\ttotal: 23.5s\tremaining: 4m 29s\n",
            "410:\tlearn: 1.0864767\ttest: 1.0922812\tbest: 1.0922780 (409)\ttotal: 24.1s\tremaining: 4m 29s\n",
            "420:\tlearn: 1.0862608\ttest: 1.0922386\tbest: 1.0922386 (420)\ttotal: 24.7s\tremaining: 4m 28s\n",
            "430:\tlearn: 1.0860752\ttest: 1.0921863\tbest: 1.0921863 (430)\ttotal: 25.3s\tremaining: 4m 27s\n",
            "440:\tlearn: 1.0858313\ttest: 1.0921555\tbest: 1.0921555 (440)\ttotal: 25.8s\tremaining: 4m 26s\n",
            "450:\tlearn: 1.0855934\ttest: 1.0920695\tbest: 1.0920695 (450)\ttotal: 26.4s\tremaining: 4m 26s\n",
            "460:\tlearn: 1.0853704\ttest: 1.0920153\tbest: 1.0920153 (460)\ttotal: 27s\tremaining: 4m 25s\n",
            "470:\tlearn: 1.0851944\ttest: 1.0919533\tbest: 1.0919533 (470)\ttotal: 27.5s\tremaining: 4m 24s\n",
            "480:\tlearn: 1.0850216\ttest: 1.0918944\tbest: 1.0918911 (479)\ttotal: 28.1s\tremaining: 4m 23s\n",
            "490:\tlearn: 1.0848276\ttest: 1.0918460\tbest: 1.0918460 (490)\ttotal: 28.7s\tremaining: 4m 23s\n",
            "500:\tlearn: 1.0846774\ttest: 1.0917987\tbest: 1.0917945 (498)\ttotal: 29.2s\tremaining: 4m 22s\n",
            "510:\tlearn: 1.0844381\ttest: 1.0917347\tbest: 1.0917347 (510)\ttotal: 29.8s\tremaining: 4m 21s\n",
            "520:\tlearn: 1.0842218\ttest: 1.0916473\tbest: 1.0916473 (520)\ttotal: 30.4s\tremaining: 4m 21s\n",
            "530:\tlearn: 1.0840077\ttest: 1.0916227\tbest: 1.0916227 (530)\ttotal: 31s\tremaining: 4m 20s\n",
            "540:\tlearn: 1.0837938\ttest: 1.0915344\tbest: 1.0915344 (540)\ttotal: 31.5s\tremaining: 4m 19s\n",
            "550:\tlearn: 1.0836010\ttest: 1.0914828\tbest: 1.0914788 (549)\ttotal: 32.1s\tremaining: 4m 19s\n",
            "560:\tlearn: 1.0834549\ttest: 1.0914618\tbest: 1.0914499 (558)\ttotal: 32.7s\tremaining: 4m 18s\n",
            "570:\tlearn: 1.0833174\ttest: 1.0914133\tbest: 1.0914110 (569)\ttotal: 33.2s\tremaining: 4m 17s\n",
            "580:\tlearn: 1.0831487\ttest: 1.0913636\tbest: 1.0913636 (580)\ttotal: 33.8s\tremaining: 4m 16s\n",
            "590:\tlearn: 1.0829929\ttest: 1.0913534\tbest: 1.0913370 (587)\ttotal: 34.3s\tremaining: 4m 15s\n",
            "600:\tlearn: 1.0828033\ttest: 1.0913251\tbest: 1.0913251 (600)\ttotal: 34.9s\tremaining: 4m 15s\n",
            "610:\tlearn: 1.0826539\ttest: 1.0912861\tbest: 1.0912861 (610)\ttotal: 35.4s\tremaining: 4m 14s\n",
            "620:\tlearn: 1.0824722\ttest: 1.0912935\tbest: 1.0912817 (614)\ttotal: 36s\tremaining: 4m 13s\n",
            "630:\tlearn: 1.0823069\ttest: 1.0912123\tbest: 1.0912123 (630)\ttotal: 36.6s\tremaining: 4m 13s\n",
            "640:\tlearn: 1.0821650\ttest: 1.0911645\tbest: 1.0911645 (640)\ttotal: 37.2s\tremaining: 4m 12s\n",
            "650:\tlearn: 1.0820104\ttest: 1.0911888\tbest: 1.0911607 (647)\ttotal: 37.8s\tremaining: 4m 12s\n",
            "660:\tlearn: 1.0818629\ttest: 1.0911708\tbest: 1.0911607 (647)\ttotal: 38.3s\tremaining: 4m 11s\n",
            "670:\tlearn: 1.0817255\ttest: 1.0911406\tbest: 1.0911359 (668)\ttotal: 38.9s\tremaining: 4m 10s\n",
            "680:\tlearn: 1.0815751\ttest: 1.0911051\tbest: 1.0910978 (678)\ttotal: 39.4s\tremaining: 4m 10s\n",
            "690:\tlearn: 1.0814140\ttest: 1.0910770\tbest: 1.0910770 (690)\ttotal: 40s\tremaining: 4m 9s\n",
            "700:\tlearn: 1.0812473\ttest: 1.0910580\tbest: 1.0910540 (699)\ttotal: 40.6s\tremaining: 4m 8s\n",
            "710:\tlearn: 1.0810982\ttest: 1.0910535\tbest: 1.0910460 (708)\ttotal: 41.2s\tremaining: 4m 8s\n",
            "720:\tlearn: 1.0809780\ttest: 1.0910539\tbest: 1.0910460 (708)\ttotal: 41.7s\tremaining: 4m 7s\n",
            "730:\tlearn: 1.0808430\ttest: 1.0910519\tbest: 1.0910460 (708)\ttotal: 42.3s\tremaining: 4m 7s\n",
            "740:\tlearn: 1.0806859\ttest: 1.0910827\tbest: 1.0910460 (708)\ttotal: 42.9s\tremaining: 4m 6s\n",
            "750:\tlearn: 1.0805403\ttest: 1.0910948\tbest: 1.0910460 (708)\ttotal: 43.5s\tremaining: 4m 6s\n",
            "Stopped by overfitting detector  (50 iterations wait)\n",
            "\n",
            "bestTest = 1.091045967\n",
            "bestIteration = 708\n",
            "\n",
            "Shrink model to first 709 iterations.\n",
            "Fold 2, Valid score = 1.09105\n",
            "0:\tlearn: 1.3351839\ttest: 1.3351772\tbest: 1.3351772 (0)\ttotal: 59.5ms\tremaining: 4m 57s\n",
            "10:\tlearn: 1.1504936\ttest: 1.1509207\tbest: 1.1509207 (10)\ttotal: 638ms\tremaining: 4m 49s\n",
            "20:\tlearn: 1.1188877\ttest: 1.1200182\tbest: 1.1200182 (20)\ttotal: 1.28s\tremaining: 5m 3s\n",
            "30:\tlearn: 1.1113480\ttest: 1.1127015\tbest: 1.1127015 (30)\ttotal: 1.92s\tremaining: 5m 8s\n",
            "40:\tlearn: 1.1084134\ttest: 1.1103850\tbest: 1.1103850 (40)\ttotal: 2.57s\tremaining: 5m 11s\n",
            "50:\tlearn: 1.1063333\ttest: 1.1085410\tbest: 1.1085410 (50)\ttotal: 3.23s\tremaining: 5m 13s\n",
            "60:\tlearn: 1.1047310\ttest: 1.1074183\tbest: 1.1074183 (60)\ttotal: 3.84s\tremaining: 5m 11s\n",
            "70:\tlearn: 1.1033409\ttest: 1.1062721\tbest: 1.1062721 (70)\ttotal: 4.47s\tremaining: 5m 10s\n",
            "80:\tlearn: 1.1020580\ttest: 1.1051235\tbest: 1.1051235 (80)\ttotal: 5.07s\tremaining: 5m 7s\n",
            "90:\tlearn: 1.1009663\ttest: 1.1042119\tbest: 1.1042119 (90)\ttotal: 5.68s\tremaining: 5m 6s\n",
            "100:\tlearn: 1.0999363\ttest: 1.1033846\tbest: 1.1033846 (100)\ttotal: 6.29s\tremaining: 5m 5s\n",
            "110:\tlearn: 1.0990565\ttest: 1.1027667\tbest: 1.1027667 (110)\ttotal: 6.89s\tremaining: 5m 3s\n",
            "120:\tlearn: 1.0983367\ttest: 1.1021188\tbest: 1.1021188 (120)\ttotal: 7.49s\tremaining: 5m 1s\n",
            "130:\tlearn: 1.0974671\ttest: 1.1014814\tbest: 1.1014814 (130)\ttotal: 8.07s\tremaining: 5m\n",
            "140:\tlearn: 1.0966948\ttest: 1.1008567\tbest: 1.1008567 (140)\ttotal: 8.65s\tremaining: 4m 58s\n",
            "150:\tlearn: 1.0958445\ttest: 1.1002166\tbest: 1.1002166 (150)\ttotal: 9.26s\tremaining: 4m 57s\n",
            "160:\tlearn: 1.0951259\ttest: 1.0997119\tbest: 1.0997119 (160)\ttotal: 9.86s\tremaining: 4m 56s\n",
            "170:\tlearn: 1.0944215\ttest: 1.0991664\tbest: 1.0991664 (170)\ttotal: 10.5s\tremaining: 4m 55s\n",
            "180:\tlearn: 1.0938999\ttest: 1.0988552\tbest: 1.0988552 (180)\ttotal: 11s\tremaining: 4m 53s\n",
            "190:\tlearn: 1.0933624\ttest: 1.0984700\tbest: 1.0984687 (188)\ttotal: 11.6s\tremaining: 4m 52s\n",
            "200:\tlearn: 1.0929489\ttest: 1.0981763\tbest: 1.0981763 (200)\ttotal: 12.2s\tremaining: 4m 50s\n",
            "210:\tlearn: 1.0925021\ttest: 1.0979029\tbest: 1.0979029 (210)\ttotal: 12.8s\tremaining: 4m 49s\n",
            "220:\tlearn: 1.0920636\ttest: 1.0975694\tbest: 1.0975694 (220)\ttotal: 13.3s\tremaining: 4m 48s\n",
            "230:\tlearn: 1.0915941\ttest: 1.0972645\tbest: 1.0972645 (230)\ttotal: 13.9s\tremaining: 4m 47s\n",
            "240:\tlearn: 1.0911264\ttest: 1.0970838\tbest: 1.0970838 (240)\ttotal: 14.5s\tremaining: 4m 46s\n",
            "250:\tlearn: 1.0906631\ttest: 1.0967936\tbest: 1.0967936 (250)\ttotal: 15.1s\tremaining: 4m 46s\n",
            "260:\tlearn: 1.0902472\ttest: 1.0966353\tbest: 1.0966353 (260)\ttotal: 15.7s\tremaining: 4m 44s\n",
            "270:\tlearn: 1.0899001\ttest: 1.0964343\tbest: 1.0964343 (270)\ttotal: 16.3s\tremaining: 4m 43s\n",
            "280:\tlearn: 1.0896283\ttest: 1.0962104\tbest: 1.0962104 (280)\ttotal: 16.9s\tremaining: 4m 43s\n",
            "290:\tlearn: 1.0892963\ttest: 1.0960553\tbest: 1.0960535 (289)\ttotal: 17.5s\tremaining: 4m 42s\n",
            "300:\tlearn: 1.0890182\ttest: 1.0959395\tbest: 1.0959395 (300)\ttotal: 18s\tremaining: 4m 41s\n",
            "310:\tlearn: 1.0886660\ttest: 1.0958464\tbest: 1.0958282 (306)\ttotal: 18.6s\tremaining: 4m 40s\n",
            "320:\tlearn: 1.0883644\ttest: 1.0957103\tbest: 1.0957103 (320)\ttotal: 19.2s\tremaining: 4m 39s\n",
            "330:\tlearn: 1.0880517\ttest: 1.0956060\tbest: 1.0956060 (330)\ttotal: 19.8s\tremaining: 4m 38s\n",
            "340:\tlearn: 1.0877680\ttest: 1.0954589\tbest: 1.0954589 (340)\ttotal: 20.3s\tremaining: 4m 38s\n",
            "350:\tlearn: 1.0874190\ttest: 1.0952895\tbest: 1.0952895 (350)\ttotal: 20.9s\tremaining: 4m 37s\n",
            "360:\tlearn: 1.0871807\ttest: 1.0951769\tbest: 1.0951727 (357)\ttotal: 21.5s\tremaining: 4m 36s\n",
            "370:\tlearn: 1.0869145\ttest: 1.0950674\tbest: 1.0950674 (370)\ttotal: 22.1s\tremaining: 4m 35s\n",
            "380:\tlearn: 1.0866490\ttest: 1.0950029\tbest: 1.0949959 (379)\ttotal: 22.7s\tremaining: 4m 34s\n",
            "390:\tlearn: 1.0864246\ttest: 1.0948633\tbest: 1.0948633 (390)\ttotal: 23.2s\tremaining: 4m 33s\n",
            "400:\tlearn: 1.0862362\ttest: 1.0948172\tbest: 1.0948172 (400)\ttotal: 23.8s\tremaining: 4m 33s\n",
            "410:\tlearn: 1.0859604\ttest: 1.0947338\tbest: 1.0947338 (410)\ttotal: 24.4s\tremaining: 4m 32s\n",
            "420:\tlearn: 1.0856835\ttest: 1.0947868\tbest: 1.0947338 (410)\ttotal: 25s\tremaining: 4m 31s\n",
            "430:\tlearn: 1.0854492\ttest: 1.0946901\tbest: 1.0946901 (430)\ttotal: 25.6s\tremaining: 4m 31s\n",
            "440:\tlearn: 1.0852553\ttest: 1.0946266\tbest: 1.0946208 (438)\ttotal: 26.1s\tremaining: 4m 30s\n",
            "450:\tlearn: 1.0850402\ttest: 1.0946201\tbest: 1.0946201 (450)\ttotal: 26.7s\tremaining: 4m 29s\n",
            "460:\tlearn: 1.0848212\ttest: 1.0944948\tbest: 1.0944948 (460)\ttotal: 27.3s\tremaining: 4m 28s\n",
            "470:\tlearn: 1.0845794\ttest: 1.0944471\tbest: 1.0944471 (470)\ttotal: 27.9s\tremaining: 4m 28s\n",
            "480:\tlearn: 1.0843879\ttest: 1.0944085\tbest: 1.0944085 (480)\ttotal: 28.5s\tremaining: 4m 28s\n",
            "490:\tlearn: 1.0842039\ttest: 1.0943368\tbest: 1.0943368 (490)\ttotal: 29.1s\tremaining: 4m 27s\n",
            "500:\tlearn: 1.0840681\ttest: 1.0943161\tbest: 1.0943161 (500)\ttotal: 29.7s\tremaining: 4m 26s\n",
            "510:\tlearn: 1.0838998\ttest: 1.0943024\tbest: 1.0943024 (510)\ttotal: 30.2s\tremaining: 4m 25s\n",
            "520:\tlearn: 1.0836978\ttest: 1.0942802\tbest: 1.0942570 (518)\ttotal: 30.8s\tremaining: 4m 24s\n",
            "530:\tlearn: 1.0835073\ttest: 1.0942862\tbest: 1.0942334 (522)\ttotal: 31.4s\tremaining: 4m 24s\n",
            "540:\tlearn: 1.0833551\ttest: 1.0942617\tbest: 1.0942334 (522)\ttotal: 32s\tremaining: 4m 23s\n",
            "550:\tlearn: 1.0831899\ttest: 1.0941838\tbest: 1.0941806 (549)\ttotal: 32.5s\tremaining: 4m 22s\n",
            "560:\tlearn: 1.0830233\ttest: 1.0941186\tbest: 1.0941186 (560)\ttotal: 33.1s\tremaining: 4m 21s\n",
            "570:\tlearn: 1.0828910\ttest: 1.0940780\tbest: 1.0940634 (569)\ttotal: 33.7s\tremaining: 4m 21s\n",
            "580:\tlearn: 1.0827248\ttest: 1.0941173\tbest: 1.0940634 (569)\ttotal: 34.3s\tremaining: 4m 20s\n",
            "590:\tlearn: 1.0825715\ttest: 1.0941003\tbest: 1.0940634 (569)\ttotal: 34.8s\tremaining: 4m 19s\n",
            "600:\tlearn: 1.0823982\ttest: 1.0940475\tbest: 1.0940475 (600)\ttotal: 35.4s\tremaining: 4m 19s\n",
            "610:\tlearn: 1.0822469\ttest: 1.0940198\tbest: 1.0940192 (609)\ttotal: 36s\tremaining: 4m 18s\n",
            "620:\tlearn: 1.0820584\ttest: 1.0939752\tbest: 1.0939658 (619)\ttotal: 36.6s\tremaining: 4m 17s\n",
            "630:\tlearn: 1.0819020\ttest: 1.0939404\tbest: 1.0939365 (627)\ttotal: 37.1s\tremaining: 4m 17s\n",
            "640:\tlearn: 1.0817184\ttest: 1.0938698\tbest: 1.0938698 (640)\ttotal: 37.7s\tremaining: 4m 16s\n",
            "650:\tlearn: 1.0815439\ttest: 1.0938242\tbest: 1.0938242 (650)\ttotal: 38.3s\tremaining: 4m 15s\n",
            "660:\tlearn: 1.0813857\ttest: 1.0938963\tbest: 1.0938080 (654)\ttotal: 38.9s\tremaining: 4m 15s\n",
            "670:\tlearn: 1.0812351\ttest: 1.0938950\tbest: 1.0938080 (654)\ttotal: 39.4s\tremaining: 4m 14s\n",
            "680:\tlearn: 1.0810711\ttest: 1.0939078\tbest: 1.0938080 (654)\ttotal: 40s\tremaining: 4m 13s\n",
            "690:\tlearn: 1.0809169\ttest: 1.0939033\tbest: 1.0938080 (654)\ttotal: 40.6s\tremaining: 4m 13s\n",
            "700:\tlearn: 1.0807774\ttest: 1.0938921\tbest: 1.0938080 (654)\ttotal: 41.1s\tremaining: 4m 12s\n",
            "Stopped by overfitting detector  (50 iterations wait)\n",
            "\n",
            "bestTest = 1.093808028\n",
            "bestIteration = 654\n",
            "\n",
            "Shrink model to first 655 iterations.\n",
            "Fold 3, Valid score = 1.09381\n",
            "0:\tlearn: 1.3351601\ttest: 1.3352233\tbest: 1.3352233 (0)\ttotal: 66.1ms\tremaining: 5m 30s\n",
            "10:\tlearn: 1.1505976\ttest: 1.1508847\tbest: 1.1508847 (10)\ttotal: 610ms\tremaining: 4m 36s\n",
            "20:\tlearn: 1.1193759\ttest: 1.1196301\tbest: 1.1196301 (20)\ttotal: 1.21s\tremaining: 4m 45s\n",
            "30:\tlearn: 1.1119125\ttest: 1.1121997\tbest: 1.1121997 (30)\ttotal: 1.81s\tremaining: 4m 49s\n",
            "40:\tlearn: 1.1090324\ttest: 1.1094590\tbest: 1.1094590 (40)\ttotal: 2.44s\tremaining: 4m 55s\n",
            "50:\tlearn: 1.1069059\ttest: 1.1074758\tbest: 1.1074758 (50)\ttotal: 3.06s\tremaining: 4m 56s\n",
            "60:\tlearn: 1.1053578\ttest: 1.1059905\tbest: 1.1059905 (60)\ttotal: 3.68s\tremaining: 4m 57s\n",
            "70:\tlearn: 1.1040966\ttest: 1.1049944\tbest: 1.1049944 (70)\ttotal: 4.25s\tremaining: 4m 55s\n",
            "80:\tlearn: 1.1027145\ttest: 1.1037160\tbest: 1.1037160 (80)\ttotal: 4.84s\tremaining: 4m 54s\n",
            "90:\tlearn: 1.1015733\ttest: 1.1026324\tbest: 1.1026324 (90)\ttotal: 5.45s\tremaining: 4m 54s\n",
            "100:\tlearn: 1.1006368\ttest: 1.1017762\tbest: 1.1017762 (100)\ttotal: 6.05s\tremaining: 4m 53s\n",
            "110:\tlearn: 1.0996796\ttest: 1.1009745\tbest: 1.1009745 (110)\ttotal: 6.67s\tremaining: 4m 53s\n",
            "120:\tlearn: 1.0987642\ttest: 1.1003231\tbest: 1.1003231 (120)\ttotal: 7.26s\tremaining: 4m 52s\n",
            "130:\tlearn: 1.0979310\ttest: 1.0995644\tbest: 1.0995644 (130)\ttotal: 7.86s\tremaining: 4m 52s\n",
            "140:\tlearn: 1.0970845\ttest: 1.0988955\tbest: 1.0988955 (140)\ttotal: 8.46s\tremaining: 4m 51s\n",
            "150:\tlearn: 1.0964661\ttest: 1.0983818\tbest: 1.0983818 (150)\ttotal: 9.06s\tremaining: 4m 50s\n",
            "160:\tlearn: 1.0957383\ttest: 1.0979360\tbest: 1.0979360 (160)\ttotal: 9.66s\tremaining: 4m 50s\n",
            "170:\tlearn: 1.0951721\ttest: 1.0975975\tbest: 1.0975975 (170)\ttotal: 10.3s\tremaining: 4m 49s\n",
            "180:\tlearn: 1.0946088\ttest: 1.0970576\tbest: 1.0970576 (180)\ttotal: 10.8s\tremaining: 4m 48s\n",
            "190:\tlearn: 1.0939874\ttest: 1.0964788\tbest: 1.0964788 (190)\ttotal: 11.4s\tremaining: 4m 47s\n",
            "200:\tlearn: 1.0934973\ttest: 1.0962193\tbest: 1.0962164 (199)\ttotal: 12s\tremaining: 4m 46s\n",
            "210:\tlearn: 1.0930645\ttest: 1.0958979\tbest: 1.0958979 (210)\ttotal: 12.6s\tremaining: 4m 46s\n",
            "220:\tlearn: 1.0925712\ttest: 1.0955874\tbest: 1.0955874 (220)\ttotal: 13.2s\tremaining: 4m 45s\n",
            "230:\tlearn: 1.0921397\ttest: 1.0953177\tbest: 1.0953177 (230)\ttotal: 13.8s\tremaining: 4m 44s\n",
            "240:\tlearn: 1.0916738\ttest: 1.0949924\tbest: 1.0949924 (240)\ttotal: 14.4s\tremaining: 4m 43s\n",
            "250:\tlearn: 1.0913308\ttest: 1.0947393\tbest: 1.0947393 (250)\ttotal: 14.9s\tremaining: 4m 42s\n",
            "260:\tlearn: 1.0909525\ttest: 1.0944996\tbest: 1.0944996 (260)\ttotal: 15.5s\tremaining: 4m 41s\n",
            "270:\tlearn: 1.0905939\ttest: 1.0942030\tbest: 1.0942030 (270)\ttotal: 16.1s\tremaining: 4m 40s\n",
            "280:\tlearn: 1.0902525\ttest: 1.0939808\tbest: 1.0939808 (280)\ttotal: 16.7s\tremaining: 4m 40s\n",
            "290:\tlearn: 1.0899866\ttest: 1.0937843\tbest: 1.0937843 (290)\ttotal: 17.3s\tremaining: 4m 39s\n",
            "300:\tlearn: 1.0896079\ttest: 1.0936169\tbest: 1.0936169 (300)\ttotal: 17.9s\tremaining: 4m 39s\n",
            "310:\tlearn: 1.0893189\ttest: 1.0934302\tbest: 1.0934302 (310)\ttotal: 18.5s\tremaining: 4m 38s\n",
            "320:\tlearn: 1.0889974\ttest: 1.0932155\tbest: 1.0932155 (320)\ttotal: 19.1s\tremaining: 4m 38s\n",
            "330:\tlearn: 1.0886751\ttest: 1.0930726\tbest: 1.0930726 (330)\ttotal: 19.7s\tremaining: 4m 37s\n",
            "340:\tlearn: 1.0883739\ttest: 1.0929252\tbest: 1.0929252 (340)\ttotal: 20.3s\tremaining: 4m 37s\n",
            "350:\tlearn: 1.0881027\ttest: 1.0927625\tbest: 1.0927625 (350)\ttotal: 20.9s\tremaining: 4m 36s\n",
            "360:\tlearn: 1.0878707\ttest: 1.0926567\tbest: 1.0926567 (360)\ttotal: 21.5s\tremaining: 4m 35s\n",
            "370:\tlearn: 1.0876128\ttest: 1.0925647\tbest: 1.0925643 (369)\ttotal: 22s\tremaining: 4m 34s\n",
            "380:\tlearn: 1.0873689\ttest: 1.0923751\tbest: 1.0923751 (380)\ttotal: 22.6s\tremaining: 4m 33s\n",
            "390:\tlearn: 1.0871234\ttest: 1.0923317\tbest: 1.0923206 (383)\ttotal: 23.2s\tremaining: 4m 33s\n",
            "400:\tlearn: 1.0868735\ttest: 1.0922247\tbest: 1.0922247 (400)\ttotal: 23.8s\tremaining: 4m 32s\n",
            "410:\tlearn: 1.0866412\ttest: 1.0921289\tbest: 1.0921270 (409)\ttotal: 24.3s\tremaining: 4m 31s\n",
            "420:\tlearn: 1.0863943\ttest: 1.0920051\tbest: 1.0920025 (419)\ttotal: 24.9s\tremaining: 4m 30s\n",
            "430:\tlearn: 1.0861282\ttest: 1.0918483\tbest: 1.0918483 (430)\ttotal: 25.5s\tremaining: 4m 30s\n",
            "440:\tlearn: 1.0859255\ttest: 1.0917356\tbest: 1.0917332 (439)\ttotal: 26.1s\tremaining: 4m 29s\n",
            "450:\tlearn: 1.0857372\ttest: 1.0916632\tbest: 1.0916632 (450)\ttotal: 26.6s\tremaining: 4m 28s\n",
            "460:\tlearn: 1.0854883\ttest: 1.0915905\tbest: 1.0915905 (460)\ttotal: 27.2s\tremaining: 4m 27s\n",
            "470:\tlearn: 1.0853161\ttest: 1.0915107\tbest: 1.0915107 (470)\ttotal: 27.8s\tremaining: 4m 27s\n",
            "480:\tlearn: 1.0851556\ttest: 1.0914693\tbest: 1.0914627 (479)\ttotal: 28.4s\tremaining: 4m 26s\n",
            "490:\tlearn: 1.0849582\ttest: 1.0914400\tbest: 1.0914344 (485)\ttotal: 29s\tremaining: 4m 25s\n",
            "500:\tlearn: 1.0847990\ttest: 1.0913463\tbest: 1.0913463 (500)\ttotal: 29.5s\tremaining: 4m 25s\n",
            "510:\tlearn: 1.0846252\ttest: 1.0914023\tbest: 1.0913463 (500)\ttotal: 30.1s\tremaining: 4m 24s\n",
            "520:\tlearn: 1.0844142\ttest: 1.0912954\tbest: 1.0912954 (520)\ttotal: 30.7s\tremaining: 4m 24s\n",
            "530:\tlearn: 1.0842819\ttest: 1.0912510\tbest: 1.0912510 (530)\ttotal: 31.3s\tremaining: 4m 23s\n",
            "540:\tlearn: 1.0840903\ttest: 1.0911107\tbest: 1.0911107 (540)\ttotal: 31.9s\tremaining: 4m 22s\n",
            "550:\tlearn: 1.0838787\ttest: 1.0910505\tbest: 1.0910466 (549)\ttotal: 32.5s\tremaining: 4m 22s\n",
            "560:\tlearn: 1.0837022\ttest: 1.0910135\tbest: 1.0909966 (557)\ttotal: 33.1s\tremaining: 4m 21s\n",
            "570:\tlearn: 1.0835269\ttest: 1.0909584\tbest: 1.0909584 (570)\ttotal: 33.6s\tremaining: 4m 20s\n",
            "580:\tlearn: 1.0833731\ttest: 1.0909227\tbest: 1.0909091 (575)\ttotal: 34.2s\tremaining: 4m 20s\n",
            "590:\tlearn: 1.0831659\ttest: 1.0908937\tbest: 1.0908937 (590)\ttotal: 34.8s\tremaining: 4m 19s\n",
            "600:\tlearn: 1.0830147\ttest: 1.0908659\tbest: 1.0908659 (600)\ttotal: 35.3s\tremaining: 4m 18s\n",
            "610:\tlearn: 1.0828446\ttest: 1.0908327\tbest: 1.0908327 (610)\ttotal: 35.9s\tremaining: 4m 17s\n",
            "620:\tlearn: 1.0826844\ttest: 1.0908467\tbest: 1.0908327 (610)\ttotal: 36.5s\tremaining: 4m 17s\n",
            "630:\tlearn: 1.0825456\ttest: 1.0908384\tbest: 1.0908327 (610)\ttotal: 37.1s\tremaining: 4m 16s\n",
            "640:\tlearn: 1.0824223\ttest: 1.0907875\tbest: 1.0907875 (640)\ttotal: 37.7s\tremaining: 4m 16s\n",
            "650:\tlearn: 1.0823062\ttest: 1.0907658\tbest: 1.0907658 (650)\ttotal: 38.2s\tremaining: 4m 15s\n",
            "660:\tlearn: 1.0821457\ttest: 1.0906981\tbest: 1.0906981 (660)\ttotal: 38.8s\tremaining: 4m 14s\n",
            "670:\tlearn: 1.0820269\ttest: 1.0906928\tbest: 1.0906660 (668)\ttotal: 39.4s\tremaining: 4m 13s\n",
            "680:\tlearn: 1.0819120\ttest: 1.0906843\tbest: 1.0906660 (668)\ttotal: 39.9s\tremaining: 4m 13s\n",
            "690:\tlearn: 1.0817590\ttest: 1.0906342\tbest: 1.0906342 (690)\ttotal: 40.5s\tremaining: 4m 12s\n",
            "700:\tlearn: 1.0816039\ttest: 1.0906353\tbest: 1.0906148 (692)\ttotal: 41.1s\tremaining: 4m 11s\n",
            "710:\tlearn: 1.0814631\ttest: 1.0906107\tbest: 1.0906074 (708)\ttotal: 41.6s\tremaining: 4m 11s\n",
            "720:\tlearn: 1.0813182\ttest: 1.0906127\tbest: 1.0905749 (715)\ttotal: 42.2s\tremaining: 4m 10s\n",
            "730:\tlearn: 1.0811654\ttest: 1.0905471\tbest: 1.0905471 (730)\ttotal: 42.8s\tremaining: 4m 9s\n",
            "740:\tlearn: 1.0810293\ttest: 1.0905726\tbest: 1.0905407 (731)\ttotal: 43.4s\tremaining: 4m 9s\n",
            "750:\tlearn: 1.0808766\ttest: 1.0904954\tbest: 1.0904954 (750)\ttotal: 44s\tremaining: 4m 8s\n",
            "760:\tlearn: 1.0807423\ttest: 1.0904563\tbest: 1.0904563 (760)\ttotal: 44.6s\tremaining: 4m 8s\n",
            "770:\tlearn: 1.0806208\ttest: 1.0904319\tbest: 1.0904155 (763)\ttotal: 45.2s\tremaining: 4m 7s\n",
            "780:\tlearn: 1.0804571\ttest: 1.0904365\tbest: 1.0904020 (773)\ttotal: 45.7s\tremaining: 4m 7s\n",
            "790:\tlearn: 1.0803129\ttest: 1.0904534\tbest: 1.0904020 (773)\ttotal: 46.3s\tremaining: 4m 6s\n",
            "800:\tlearn: 1.0801750\ttest: 1.0904435\tbest: 1.0904020 (773)\ttotal: 46.9s\tremaining: 4m 5s\n",
            "810:\tlearn: 1.0800513\ttest: 1.0904380\tbest: 1.0904020 (773)\ttotal: 47.4s\tremaining: 4m 4s\n",
            "820:\tlearn: 1.0799508\ttest: 1.0904107\tbest: 1.0904020 (773)\ttotal: 48s\tremaining: 4m 4s\n",
            "830:\tlearn: 1.0798245\ttest: 1.0904049\tbest: 1.0903909 (823)\ttotal: 48.5s\tremaining: 4m 3s\n",
            "840:\tlearn: 1.0796692\ttest: 1.0903888\tbest: 1.0903888 (840)\ttotal: 49.1s\tremaining: 4m 2s\n",
            "850:\tlearn: 1.0795567\ttest: 1.0903946\tbest: 1.0903790 (844)\ttotal: 49.7s\tremaining: 4m 2s\n",
            "860:\tlearn: 1.0794204\ttest: 1.0903753\tbest: 1.0903753 (860)\ttotal: 50.3s\tremaining: 4m 1s\n",
            "870:\tlearn: 1.0792738\ttest: 1.0903400\tbest: 1.0903323 (865)\ttotal: 50.9s\tremaining: 4m 1s\n",
            "880:\tlearn: 1.0791538\ttest: 1.0902813\tbest: 1.0902813 (880)\ttotal: 51.4s\tremaining: 4m\n",
            "890:\tlearn: 1.0790081\ttest: 1.0902858\tbest: 1.0902587 (884)\ttotal: 52s\tremaining: 3m 59s\n",
            "900:\tlearn: 1.0788799\ttest: 1.0902507\tbest: 1.0902507 (900)\ttotal: 52.5s\tremaining: 3m 58s\n",
            "910:\tlearn: 1.0787155\ttest: 1.0902594\tbest: 1.0902507 (900)\ttotal: 53.1s\tremaining: 3m 58s\n",
            "920:\tlearn: 1.0785785\ttest: 1.0902045\tbest: 1.0901968 (917)\ttotal: 53.7s\tremaining: 3m 57s\n",
            "930:\tlearn: 1.0784354\ttest: 1.0902129\tbest: 1.0901888 (925)\ttotal: 54.3s\tremaining: 3m 57s\n",
            "940:\tlearn: 1.0782668\ttest: 1.0901620\tbest: 1.0901620 (940)\ttotal: 54.8s\tremaining: 3m 56s\n",
            "950:\tlearn: 1.0781512\ttest: 1.0901574\tbest: 1.0901476 (945)\ttotal: 55.4s\tremaining: 3m 55s\n",
            "960:\tlearn: 1.0780381\ttest: 1.0901348\tbest: 1.0901348 (960)\ttotal: 56s\tremaining: 3m 55s\n",
            "970:\tlearn: 1.0778999\ttest: 1.0901748\tbest: 1.0901348 (960)\ttotal: 56.5s\tremaining: 3m 54s\n",
            "980:\tlearn: 1.0777832\ttest: 1.0901273\tbest: 1.0901190 (978)\ttotal: 57.1s\tremaining: 3m 53s\n",
            "990:\tlearn: 1.0776641\ttest: 1.0901256\tbest: 1.0901190 (978)\ttotal: 57.7s\tremaining: 3m 53s\n",
            "1000:\tlearn: 1.0775489\ttest: 1.0901202\tbest: 1.0901190 (978)\ttotal: 58.2s\tremaining: 3m 52s\n",
            "1010:\tlearn: 1.0774046\ttest: 1.0901211\tbest: 1.0901089 (1005)\ttotal: 58.8s\tremaining: 3m 52s\n",
            "1020:\tlearn: 1.0772739\ttest: 1.0901177\tbest: 1.0901042 (1018)\ttotal: 59.4s\tremaining: 3m 51s\n",
            "1030:\tlearn: 1.0771731\ttest: 1.0901127\tbest: 1.0901042 (1018)\ttotal: 60s\tremaining: 3m 50s\n",
            "1040:\tlearn: 1.0770482\ttest: 1.0900815\tbest: 1.0900782 (1039)\ttotal: 1m\tremaining: 3m 50s\n",
            "1050:\tlearn: 1.0769125\ttest: 1.0900820\tbest: 1.0900758 (1045)\ttotal: 1m 1s\tremaining: 3m 49s\n",
            "1060:\tlearn: 1.0767915\ttest: 1.0900555\tbest: 1.0900555 (1060)\ttotal: 1m 1s\tremaining: 3m 49s\n",
            "1070:\tlearn: 1.0766621\ttest: 1.0900135\tbest: 1.0900003 (1069)\ttotal: 1m 2s\tremaining: 3m 48s\n",
            "1080:\tlearn: 1.0765381\ttest: 1.0900099\tbest: 1.0899940 (1075)\ttotal: 1m 2s\tremaining: 3m 47s\n",
            "1090:\tlearn: 1.0764119\ttest: 1.0900002\tbest: 1.0899900 (1085)\ttotal: 1m 3s\tremaining: 3m 47s\n",
            "1100:\tlearn: 1.0763424\ttest: 1.0899577\tbest: 1.0899577 (1100)\ttotal: 1m 4s\tremaining: 3m 46s\n",
            "1110:\tlearn: 1.0762310\ttest: 1.0899589\tbest: 1.0899522 (1109)\ttotal: 1m 4s\tremaining: 3m 46s\n",
            "1120:\tlearn: 1.0761231\ttest: 1.0899371\tbest: 1.0899332 (1117)\ttotal: 1m 5s\tremaining: 3m 45s\n",
            "1130:\tlearn: 1.0760127\ttest: 1.0899545\tbest: 1.0899332 (1117)\ttotal: 1m 5s\tremaining: 3m 44s\n",
            "1140:\tlearn: 1.0758835\ttest: 1.0898960\tbest: 1.0898943 (1139)\ttotal: 1m 6s\tremaining: 3m 44s\n",
            "1150:\tlearn: 1.0757814\ttest: 1.0898858\tbest: 1.0898858 (1150)\ttotal: 1m 6s\tremaining: 3m 43s\n",
            "1160:\tlearn: 1.0756950\ttest: 1.0898695\tbest: 1.0898695 (1160)\ttotal: 1m 7s\tremaining: 3m 42s\n",
            "1170:\tlearn: 1.0756174\ttest: 1.0898968\tbest: 1.0898695 (1160)\ttotal: 1m 7s\tremaining: 3m 42s\n",
            "1180:\tlearn: 1.0754951\ttest: 1.0898695\tbest: 1.0898695 (1160)\ttotal: 1m 8s\tremaining: 3m 41s\n",
            "1190:\tlearn: 1.0753824\ttest: 1.0898880\tbest: 1.0898695 (1160)\ttotal: 1m 9s\tremaining: 3m 40s\n",
            "1200:\tlearn: 1.0752959\ttest: 1.0899158\tbest: 1.0898695 (1160)\ttotal: 1m 9s\tremaining: 3m 40s\n",
            "1210:\tlearn: 1.0751590\ttest: 1.0898858\tbest: 1.0898695 (1160)\ttotal: 1m 10s\tremaining: 3m 39s\n",
            "Stopped by overfitting detector  (50 iterations wait)\n",
            "\n",
            "bestTest = 1.089869514\n",
            "bestIteration = 1160\n",
            "\n",
            "Shrink model to first 1161 iterations.\n",
            "Fold 4, Valid score = 1.08987\n",
            "0:\tlearn: 1.3351714\ttest: 1.3351826\tbest: 1.3351826 (0)\ttotal: 56.6ms\tremaining: 4m 42s\n",
            "10:\tlearn: 1.1505579\ttest: 1.1506488\tbest: 1.1506488 (10)\ttotal: 610ms\tremaining: 4m 36s\n",
            "20:\tlearn: 1.1189280\ttest: 1.1193927\tbest: 1.1193927 (20)\ttotal: 1.22s\tremaining: 4m 48s\n",
            "30:\tlearn: 1.1114174\ttest: 1.1119969\tbest: 1.1119969 (30)\ttotal: 1.83s\tremaining: 4m 54s\n",
            "40:\tlearn: 1.1085282\ttest: 1.1095148\tbest: 1.1095148 (40)\ttotal: 2.43s\tremaining: 4m 54s\n",
            "50:\tlearn: 1.1063393\ttest: 1.1079267\tbest: 1.1079267 (50)\ttotal: 3.03s\tremaining: 4m 53s\n",
            "60:\tlearn: 1.1046796\ttest: 1.1064221\tbest: 1.1064221 (60)\ttotal: 3.63s\tremaining: 4m 54s\n",
            "70:\tlearn: 1.1033102\ttest: 1.1052236\tbest: 1.1052236 (70)\ttotal: 4.25s\tremaining: 4m 55s\n",
            "80:\tlearn: 1.1020648\ttest: 1.1041905\tbest: 1.1041905 (80)\ttotal: 4.89s\tremaining: 4m 56s\n",
            "90:\tlearn: 1.1009616\ttest: 1.1034532\tbest: 1.1034532 (90)\ttotal: 5.5s\tremaining: 4m 56s\n",
            "100:\tlearn: 1.1001334\ttest: 1.1028719\tbest: 1.1028719 (100)\ttotal: 6.09s\tremaining: 4m 55s\n",
            "110:\tlearn: 1.0991720\ttest: 1.1021499\tbest: 1.1021499 (110)\ttotal: 6.71s\tremaining: 4m 55s\n",
            "120:\tlearn: 1.0981739\ttest: 1.1013713\tbest: 1.1013713 (120)\ttotal: 7.29s\tremaining: 4m 54s\n",
            "130:\tlearn: 1.0973373\ttest: 1.1008992\tbest: 1.1008992 (130)\ttotal: 7.86s\tremaining: 4m 52s\n",
            "140:\tlearn: 1.0965743\ttest: 1.1002132\tbest: 1.1002132 (140)\ttotal: 8.42s\tremaining: 4m 50s\n",
            "150:\tlearn: 1.0959599\ttest: 1.0997730\tbest: 1.0997730 (150)\ttotal: 9s\tremaining: 4m 49s\n",
            "160:\tlearn: 1.0952392\ttest: 1.0991338\tbest: 1.0991338 (160)\ttotal: 9.6s\tremaining: 4m 48s\n",
            "170:\tlearn: 1.0946551\ttest: 1.0987106\tbest: 1.0987106 (170)\ttotal: 10.2s\tremaining: 4m 47s\n",
            "180:\tlearn: 1.0940194\ttest: 1.0981996\tbest: 1.0981996 (180)\ttotal: 10.7s\tremaining: 4m 45s\n",
            "190:\tlearn: 1.0934608\ttest: 1.0978531\tbest: 1.0978531 (190)\ttotal: 11.3s\tremaining: 4m 44s\n",
            "200:\tlearn: 1.0930353\ttest: 1.0976442\tbest: 1.0976442 (200)\ttotal: 11.9s\tremaining: 4m 43s\n",
            "210:\tlearn: 1.0925517\ttest: 1.0972761\tbest: 1.0972761 (210)\ttotal: 12.4s\tremaining: 4m 42s\n",
            "220:\tlearn: 1.0920396\ttest: 1.0969849\tbest: 1.0969849 (220)\ttotal: 13s\tremaining: 4m 41s\n",
            "230:\tlearn: 1.0915921\ttest: 1.0967976\tbest: 1.0967976 (230)\ttotal: 13.6s\tremaining: 4m 40s\n",
            "240:\tlearn: 1.0912095\ttest: 1.0966084\tbest: 1.0966084 (240)\ttotal: 14.2s\tremaining: 4m 39s\n",
            "250:\tlearn: 1.0907623\ttest: 1.0964241\tbest: 1.0964241 (250)\ttotal: 14.7s\tremaining: 4m 39s\n",
            "260:\tlearn: 1.0903456\ttest: 1.0962528\tbest: 1.0962528 (260)\ttotal: 15.3s\tremaining: 4m 38s\n",
            "270:\tlearn: 1.0899901\ttest: 1.0960316\tbest: 1.0960315 (269)\ttotal: 15.9s\tremaining: 4m 38s\n",
            "280:\tlearn: 1.0897108\ttest: 1.0959540\tbest: 1.0959540 (280)\ttotal: 16.5s\tremaining: 4m 37s\n",
            "290:\tlearn: 1.0893304\ttest: 1.0958653\tbest: 1.0958653 (290)\ttotal: 17.1s\tremaining: 4m 36s\n",
            "300:\tlearn: 1.0889823\ttest: 1.0956340\tbest: 1.0956340 (300)\ttotal: 17.7s\tremaining: 4m 36s\n",
            "310:\tlearn: 1.0887131\ttest: 1.0954838\tbest: 1.0954838 (310)\ttotal: 18.3s\tremaining: 4m 35s\n",
            "320:\tlearn: 1.0884478\ttest: 1.0954790\tbest: 1.0954790 (320)\ttotal: 18.8s\tremaining: 4m 34s\n",
            "330:\tlearn: 1.0881620\ttest: 1.0953396\tbest: 1.0953396 (330)\ttotal: 19.4s\tremaining: 4m 33s\n",
            "340:\tlearn: 1.0878998\ttest: 1.0951852\tbest: 1.0951852 (340)\ttotal: 20s\tremaining: 4m 33s\n",
            "350:\tlearn: 1.0875873\ttest: 1.0951023\tbest: 1.0951023 (350)\ttotal: 20.6s\tremaining: 4m 32s\n",
            "360:\tlearn: 1.0873540\ttest: 1.0950291\tbest: 1.0950291 (360)\ttotal: 21.1s\tremaining: 4m 31s\n",
            "370:\tlearn: 1.0870500\ttest: 1.0948528\tbest: 1.0948528 (370)\ttotal: 21.7s\tremaining: 4m 30s\n",
            "380:\tlearn: 1.0867911\ttest: 1.0947254\tbest: 1.0947254 (380)\ttotal: 22.3s\tremaining: 4m 30s\n",
            "390:\tlearn: 1.0865082\ttest: 1.0946426\tbest: 1.0946426 (390)\ttotal: 22.9s\tremaining: 4m 29s\n",
            "400:\tlearn: 1.0862374\ttest: 1.0944836\tbest: 1.0944836 (400)\ttotal: 23.5s\tremaining: 4m 29s\n",
            "410:\tlearn: 1.0860483\ttest: 1.0944280\tbest: 1.0944280 (410)\ttotal: 24s\tremaining: 4m 28s\n",
            "420:\tlearn: 1.0858186\ttest: 1.0943653\tbest: 1.0943653 (420)\ttotal: 24.6s\tremaining: 4m 27s\n",
            "430:\tlearn: 1.0855974\ttest: 1.0943088\tbest: 1.0942977 (429)\ttotal: 25.2s\tremaining: 4m 27s\n",
            "440:\tlearn: 1.0853162\ttest: 1.0941677\tbest: 1.0941677 (440)\ttotal: 25.8s\tremaining: 4m 26s\n",
            "450:\tlearn: 1.0850817\ttest: 1.0940874\tbest: 1.0940874 (450)\ttotal: 26.3s\tremaining: 4m 25s\n",
            "460:\tlearn: 1.0849154\ttest: 1.0940817\tbest: 1.0940806 (453)\ttotal: 26.9s\tremaining: 4m 24s\n",
            "470:\tlearn: 1.0847224\ttest: 1.0940008\tbest: 1.0940008 (470)\ttotal: 27.5s\tremaining: 4m 24s\n",
            "480:\tlearn: 1.0845229\ttest: 1.0939927\tbest: 1.0939869 (478)\ttotal: 28.1s\tremaining: 4m 23s\n",
            "490:\tlearn: 1.0844288\ttest: 1.0939695\tbest: 1.0939695 (490)\ttotal: 28.6s\tremaining: 4m 22s\n",
            "500:\tlearn: 1.0841880\ttest: 1.0938325\tbest: 1.0938325 (500)\ttotal: 29.2s\tremaining: 4m 22s\n",
            "510:\tlearn: 1.0840225\ttest: 1.0938187\tbest: 1.0937943 (508)\ttotal: 29.7s\tremaining: 4m 21s\n",
            "520:\tlearn: 1.0838143\ttest: 1.0937868\tbest: 1.0937868 (520)\ttotal: 30.3s\tremaining: 4m 20s\n",
            "530:\tlearn: 1.0836203\ttest: 1.0937600\tbest: 1.0937484 (528)\ttotal: 30.9s\tremaining: 4m 20s\n",
            "540:\tlearn: 1.0834172\ttest: 1.0937182\tbest: 1.0937182 (540)\ttotal: 31.5s\tremaining: 4m 19s\n",
            "550:\tlearn: 1.0832699\ttest: 1.0936501\tbest: 1.0936501 (550)\ttotal: 32s\tremaining: 4m 18s\n",
            "560:\tlearn: 1.0830359\ttest: 1.0936005\tbest: 1.0936005 (560)\ttotal: 32.6s\tremaining: 4m 17s\n",
            "570:\tlearn: 1.0828999\ttest: 1.0935671\tbest: 1.0935671 (570)\ttotal: 33.2s\tremaining: 4m 17s\n",
            "580:\tlearn: 1.0827177\ttest: 1.0935294\tbest: 1.0935294 (580)\ttotal: 33.7s\tremaining: 4m 16s\n",
            "590:\tlearn: 1.0825489\ttest: 1.0934748\tbest: 1.0934748 (590)\ttotal: 34.3s\tremaining: 4m 16s\n",
            "600:\tlearn: 1.0824181\ttest: 1.0934147\tbest: 1.0934147 (600)\ttotal: 34.9s\tremaining: 4m 15s\n",
            "610:\tlearn: 1.0822777\ttest: 1.0933475\tbest: 1.0933392 (605)\ttotal: 35.5s\tremaining: 4m 14s\n",
            "620:\tlearn: 1.0820817\ttest: 1.0933567\tbest: 1.0933381 (613)\ttotal: 36.1s\tremaining: 4m 14s\n",
            "630:\tlearn: 1.0819294\ttest: 1.0933765\tbest: 1.0933381 (613)\ttotal: 36.6s\tremaining: 4m 13s\n",
            "640:\tlearn: 1.0817450\ttest: 1.0933470\tbest: 1.0933381 (613)\ttotal: 37.2s\tremaining: 4m 13s\n",
            "650:\tlearn: 1.0816054\ttest: 1.0932975\tbest: 1.0932975 (650)\ttotal: 37.8s\tremaining: 4m 12s\n",
            "660:\tlearn: 1.0814416\ttest: 1.0932826\tbest: 1.0932804 (657)\ttotal: 38.4s\tremaining: 4m 11s\n",
            "670:\tlearn: 1.0813147\ttest: 1.0932272\tbest: 1.0932272 (670)\ttotal: 38.9s\tremaining: 4m 11s\n",
            "680:\tlearn: 1.0811672\ttest: 1.0932121\tbest: 1.0931958 (679)\ttotal: 39.5s\tremaining: 4m 10s\n",
            "690:\tlearn: 1.0810256\ttest: 1.0931271\tbest: 1.0931271 (690)\ttotal: 40s\tremaining: 4m 9s\n",
            "700:\tlearn: 1.0808984\ttest: 1.0931407\tbest: 1.0931271 (690)\ttotal: 40.6s\tremaining: 4m 8s\n",
            "710:\tlearn: 1.0807208\ttest: 1.0931007\tbest: 1.0931007 (710)\ttotal: 41.2s\tremaining: 4m 8s\n",
            "720:\tlearn: 1.0806034\ttest: 1.0930891\tbest: 1.0930836 (718)\ttotal: 41.7s\tremaining: 4m 7s\n",
            "730:\tlearn: 1.0804351\ttest: 1.0930759\tbest: 1.0930574 (723)\ttotal: 42.3s\tremaining: 4m 6s\n",
            "740:\tlearn: 1.0803010\ttest: 1.0930564\tbest: 1.0930520 (738)\ttotal: 42.8s\tremaining: 4m 6s\n",
            "750:\tlearn: 1.0801480\ttest: 1.0930586\tbest: 1.0930520 (738)\ttotal: 43.4s\tremaining: 4m 5s\n",
            "760:\tlearn: 1.0800123\ttest: 1.0930154\tbest: 1.0930154 (760)\ttotal: 44s\tremaining: 4m 5s\n",
            "770:\tlearn: 1.0798571\ttest: 1.0929884\tbest: 1.0929879 (769)\ttotal: 44.6s\tremaining: 4m 4s\n",
            "780:\tlearn: 1.0796902\ttest: 1.0929829\tbest: 1.0929817 (778)\ttotal: 45.2s\tremaining: 4m 4s\n",
            "790:\tlearn: 1.0795550\ttest: 1.0929877\tbest: 1.0929735 (783)\ttotal: 45.8s\tremaining: 4m 3s\n",
            "800:\tlearn: 1.0794101\ttest: 1.0929782\tbest: 1.0929589 (797)\ttotal: 46.4s\tremaining: 4m 2s\n",
            "810:\tlearn: 1.0792706\ttest: 1.0929427\tbest: 1.0929427 (810)\ttotal: 46.9s\tremaining: 4m 2s\n",
            "820:\tlearn: 1.0791019\ttest: 1.0929736\tbest: 1.0929427 (810)\ttotal: 47.5s\tremaining: 4m 1s\n",
            "830:\tlearn: 1.0789788\ttest: 1.0929526\tbest: 1.0929427 (810)\ttotal: 48.1s\tremaining: 4m 1s\n",
            "840:\tlearn: 1.0788279\ttest: 1.0929380\tbest: 1.0929380 (840)\ttotal: 48.6s\tremaining: 4m\n",
            "850:\tlearn: 1.0786863\ttest: 1.0929264\tbest: 1.0929098 (848)\ttotal: 49.2s\tremaining: 3m 59s\n",
            "860:\tlearn: 1.0785540\ttest: 1.0929080\tbest: 1.0929080 (860)\ttotal: 49.8s\tremaining: 3m 59s\n",
            "870:\tlearn: 1.0783906\ttest: 1.0928468\tbest: 1.0928468 (870)\ttotal: 50.4s\tremaining: 3m 58s\n",
            "880:\tlearn: 1.0782460\ttest: 1.0928557\tbest: 1.0928442 (875)\ttotal: 51s\tremaining: 3m 58s\n",
            "890:\tlearn: 1.0781261\ttest: 1.0928299\tbest: 1.0928293 (889)\ttotal: 51.5s\tremaining: 3m 57s\n",
            "900:\tlearn: 1.0780060\ttest: 1.0928605\tbest: 1.0928293 (889)\ttotal: 52.1s\tremaining: 3m 57s\n",
            "910:\tlearn: 1.0779010\ttest: 1.0928540\tbest: 1.0928293 (889)\ttotal: 52.7s\tremaining: 3m 56s\n",
            "920:\tlearn: 1.0777385\ttest: 1.0928213\tbest: 1.0928004 (918)\ttotal: 53.3s\tremaining: 3m 55s\n",
            "930:\tlearn: 1.0775940\ttest: 1.0928368\tbest: 1.0928004 (918)\ttotal: 53.8s\tremaining: 3m 55s\n",
            "940:\tlearn: 1.0774856\ttest: 1.0928268\tbest: 1.0928004 (918)\ttotal: 54.3s\tremaining: 3m 54s\n",
            "950:\tlearn: 1.0773703\ttest: 1.0928318\tbest: 1.0928004 (918)\ttotal: 54.9s\tremaining: 3m 53s\n",
            "960:\tlearn: 1.0772374\ttest: 1.0928274\tbest: 1.0928004 (918)\ttotal: 55.5s\tremaining: 3m 53s\n",
            "970:\tlearn: 1.0771352\ttest: 1.0927610\tbest: 1.0927610 (970)\ttotal: 56.1s\tremaining: 3m 52s\n",
            "980:\tlearn: 1.0770056\ttest: 1.0927555\tbest: 1.0927555 (980)\ttotal: 56.6s\tremaining: 3m 51s\n",
            "990:\tlearn: 1.0768632\ttest: 1.0927409\tbest: 1.0927409 (990)\ttotal: 57.2s\tremaining: 3m 51s\n",
            "1000:\tlearn: 1.0767231\ttest: 1.0927503\tbest: 1.0927387 (991)\ttotal: 57.8s\tremaining: 3m 50s\n",
            "1010:\tlearn: 1.0766042\ttest: 1.0927405\tbest: 1.0927387 (991)\ttotal: 58.3s\tremaining: 3m 50s\n",
            "1020:\tlearn: 1.0764597\ttest: 1.0927410\tbest: 1.0927332 (1018)\ttotal: 58.9s\tremaining: 3m 49s\n",
            "1030:\tlearn: 1.0763112\ttest: 1.0927265\tbest: 1.0927265 (1030)\ttotal: 59.5s\tremaining: 3m 49s\n",
            "1040:\tlearn: 1.0761790\ttest: 1.0927267\tbest: 1.0927168 (1031)\ttotal: 1m\tremaining: 3m 48s\n",
            "1050:\tlearn: 1.0760638\ttest: 1.0927756\tbest: 1.0927168 (1031)\ttotal: 1m\tremaining: 3m 47s\n",
            "1060:\tlearn: 1.0758985\ttest: 1.0927908\tbest: 1.0927168 (1031)\ttotal: 1m 1s\tremaining: 3m 47s\n",
            "1070:\tlearn: 1.0757771\ttest: 1.0927834\tbest: 1.0927168 (1031)\ttotal: 1m 1s\tremaining: 3m 46s\n",
            "1080:\tlearn: 1.0756604\ttest: 1.0928005\tbest: 1.0927168 (1031)\ttotal: 1m 2s\tremaining: 3m 46s\n",
            "Stopped by overfitting detector  (50 iterations wait)\n",
            "\n",
            "bestTest = 1.092716796\n",
            "bestIteration = 1031\n",
            "\n",
            "Shrink model to first 1032 iterations.\n",
            "Fold 5, Valid score = 1.09272\n",
            "0:\tlearn: 1.3352149\ttest: 1.3352248\tbest: 1.3352248 (0)\ttotal: 55.8ms\tremaining: 4m 38s\n",
            "10:\tlearn: 1.1507990\ttest: 1.1508532\tbest: 1.1508532 (10)\ttotal: 614ms\tremaining: 4m 38s\n",
            "20:\tlearn: 1.1194400\ttest: 1.1197070\tbest: 1.1197070 (20)\ttotal: 1.21s\tremaining: 4m 47s\n",
            "30:\tlearn: 1.1119742\ttest: 1.1124572\tbest: 1.1124572 (30)\ttotal: 1.81s\tremaining: 4m 50s\n",
            "40:\tlearn: 1.1089405\ttest: 1.1096386\tbest: 1.1096386 (40)\ttotal: 2.44s\tremaining: 4m 55s\n",
            "50:\tlearn: 1.1068727\ttest: 1.1078638\tbest: 1.1078638 (50)\ttotal: 3.08s\tremaining: 4m 58s\n",
            "60:\tlearn: 1.1050644\ttest: 1.1063117\tbest: 1.1063117 (60)\ttotal: 3.69s\tremaining: 4m 58s\n",
            "70:\tlearn: 1.1035526\ttest: 1.1049283\tbest: 1.1049283 (70)\ttotal: 4.32s\tremaining: 4m 59s\n",
            "80:\tlearn: 1.1022224\ttest: 1.1039406\tbest: 1.1039406 (80)\ttotal: 4.94s\tremaining: 5m\n",
            "90:\tlearn: 1.1010817\ttest: 1.1029996\tbest: 1.1029996 (90)\ttotal: 5.55s\tremaining: 4m 59s\n",
            "100:\tlearn: 1.1000287\ttest: 1.1021676\tbest: 1.1021676 (100)\ttotal: 6.14s\tremaining: 4m 57s\n",
            "110:\tlearn: 1.0991034\ttest: 1.1014798\tbest: 1.1014798 (110)\ttotal: 6.76s\tremaining: 4m 57s\n",
            "120:\tlearn: 1.0982743\ttest: 1.1007680\tbest: 1.1007680 (120)\ttotal: 7.34s\tremaining: 4m 56s\n",
            "130:\tlearn: 1.0974746\ttest: 1.1001882\tbest: 1.1001882 (130)\ttotal: 7.94s\tremaining: 4m 55s\n",
            "140:\tlearn: 1.0965933\ttest: 1.0995544\tbest: 1.0995544 (140)\ttotal: 8.54s\tremaining: 4m 54s\n",
            "150:\tlearn: 1.0959233\ttest: 1.0991843\tbest: 1.0991843 (150)\ttotal: 9.13s\tremaining: 4m 53s\n",
            "160:\tlearn: 1.0952542\ttest: 1.0986310\tbest: 1.0986310 (160)\ttotal: 9.72s\tremaining: 4m 52s\n",
            "170:\tlearn: 1.0946102\ttest: 1.0982147\tbest: 1.0982147 (170)\ttotal: 10.3s\tremaining: 4m 50s\n",
            "180:\tlearn: 1.0941070\ttest: 1.0979347\tbest: 1.0979347 (180)\ttotal: 10.9s\tremaining: 4m 49s\n",
            "190:\tlearn: 1.0936164\ttest: 1.0976472\tbest: 1.0976472 (190)\ttotal: 11.4s\tremaining: 4m 48s\n",
            "200:\tlearn: 1.0931796\ttest: 1.0973930\tbest: 1.0973930 (200)\ttotal: 12s\tremaining: 4m 46s\n",
            "210:\tlearn: 1.0926755\ttest: 1.0970623\tbest: 1.0970623 (210)\ttotal: 12.6s\tremaining: 4m 46s\n",
            "220:\tlearn: 1.0921979\ttest: 1.0967905\tbest: 1.0967905 (220)\ttotal: 13.2s\tremaining: 4m 46s\n",
            "230:\tlearn: 1.0917650\ttest: 1.0965163\tbest: 1.0965163 (230)\ttotal: 13.8s\tremaining: 4m 45s\n",
            "240:\tlearn: 1.0913290\ttest: 1.0962790\tbest: 1.0962790 (240)\ttotal: 14.4s\tremaining: 4m 44s\n",
            "250:\tlearn: 1.0908921\ttest: 1.0960468\tbest: 1.0960468 (250)\ttotal: 15s\tremaining: 4m 43s\n",
            "260:\tlearn: 1.0904512\ttest: 1.0957950\tbest: 1.0957950 (260)\ttotal: 15.6s\tremaining: 4m 43s\n",
            "270:\tlearn: 1.0900441\ttest: 1.0956248\tbest: 1.0956248 (270)\ttotal: 16.2s\tremaining: 4m 42s\n",
            "280:\tlearn: 1.0895887\ttest: 1.0953827\tbest: 1.0953827 (280)\ttotal: 16.8s\tremaining: 4m 41s\n",
            "290:\tlearn: 1.0893452\ttest: 1.0953123\tbest: 1.0953079 (289)\ttotal: 17.3s\tremaining: 4m 40s\n",
            "300:\tlearn: 1.0890288\ttest: 1.0951219\tbest: 1.0951197 (299)\ttotal: 17.9s\tremaining: 4m 40s\n",
            "310:\tlearn: 1.0887467\ttest: 1.0950310\tbest: 1.0950310 (310)\ttotal: 18.5s\tremaining: 4m 39s\n",
            "320:\tlearn: 1.0884554\ttest: 1.0949263\tbest: 1.0949263 (320)\ttotal: 19.1s\tremaining: 4m 38s\n",
            "330:\tlearn: 1.0882137\ttest: 1.0948909\tbest: 1.0948779 (328)\ttotal: 19.6s\tremaining: 4m 36s\n",
            "340:\tlearn: 1.0879455\ttest: 1.0947829\tbest: 1.0947829 (340)\ttotal: 20.2s\tremaining: 4m 35s\n",
            "350:\tlearn: 1.0876402\ttest: 1.0946324\tbest: 1.0946229 (349)\ttotal: 20.8s\tremaining: 4m 35s\n",
            "360:\tlearn: 1.0873622\ttest: 1.0944648\tbest: 1.0944648 (360)\ttotal: 21.4s\tremaining: 4m 34s\n",
            "370:\tlearn: 1.0870620\ttest: 1.0943398\tbest: 1.0943398 (370)\ttotal: 21.9s\tremaining: 4m 33s\n",
            "380:\tlearn: 1.0867705\ttest: 1.0942621\tbest: 1.0942537 (379)\ttotal: 22.5s\tremaining: 4m 32s\n",
            "390:\tlearn: 1.0865320\ttest: 1.0941403\tbest: 1.0941403 (390)\ttotal: 23.1s\tremaining: 4m 31s\n",
            "400:\tlearn: 1.0863206\ttest: 1.0941002\tbest: 1.0940978 (399)\ttotal: 23.7s\tremaining: 4m 31s\n",
            "410:\tlearn: 1.0861202\ttest: 1.0940647\tbest: 1.0940634 (409)\ttotal: 24.2s\tremaining: 4m 30s\n",
            "420:\tlearn: 1.0859194\ttest: 1.0939697\tbest: 1.0939697 (420)\ttotal: 24.8s\tremaining: 4m 29s\n",
            "430:\tlearn: 1.0856974\ttest: 1.0939270\tbest: 1.0939173 (428)\ttotal: 25.3s\tremaining: 4m 28s\n",
            "440:\tlearn: 1.0854486\ttest: 1.0938741\tbest: 1.0938741 (440)\ttotal: 25.9s\tremaining: 4m 28s\n",
            "450:\tlearn: 1.0852966\ttest: 1.0938567\tbest: 1.0938567 (450)\ttotal: 26.5s\tremaining: 4m 26s\n",
            "460:\tlearn: 1.0850809\ttest: 1.0938095\tbest: 1.0938095 (460)\ttotal: 27s\tremaining: 4m 26s\n",
            "470:\tlearn: 1.0848599\ttest: 1.0937754\tbest: 1.0937501 (468)\ttotal: 27.6s\tremaining: 4m 25s\n",
            "480:\tlearn: 1.0846525\ttest: 1.0936742\tbest: 1.0936742 (480)\ttotal: 28.2s\tremaining: 4m 24s\n",
            "490:\tlearn: 1.0844490\ttest: 1.0935686\tbest: 1.0935686 (490)\ttotal: 28.8s\tremaining: 4m 24s\n",
            "500:\tlearn: 1.0842264\ttest: 1.0935147\tbest: 1.0935136 (499)\ttotal: 29.3s\tremaining: 4m 23s\n",
            "510:\tlearn: 1.0839812\ttest: 1.0934559\tbest: 1.0934559 (510)\ttotal: 29.9s\tremaining: 4m 22s\n",
            "520:\tlearn: 1.0838251\ttest: 1.0934523\tbest: 1.0934496 (517)\ttotal: 30.4s\tremaining: 4m 21s\n",
            "530:\tlearn: 1.0836483\ttest: 1.0934278\tbest: 1.0934278 (530)\ttotal: 31s\tremaining: 4m 20s\n",
            "540:\tlearn: 1.0834781\ttest: 1.0933693\tbest: 1.0933670 (539)\ttotal: 31.6s\tremaining: 4m 20s\n",
            "550:\tlearn: 1.0832832\ttest: 1.0933067\tbest: 1.0932946 (549)\ttotal: 32.2s\tremaining: 4m 19s\n",
            "560:\tlearn: 1.0831034\ttest: 1.0933364\tbest: 1.0932946 (549)\ttotal: 32.7s\tremaining: 4m 18s\n",
            "570:\tlearn: 1.0829177\ttest: 1.0933406\tbest: 1.0932946 (549)\ttotal: 33.3s\tremaining: 4m 18s\n",
            "580:\tlearn: 1.0827974\ttest: 1.0932717\tbest: 1.0932717 (580)\ttotal: 33.9s\tremaining: 4m 17s\n",
            "590:\tlearn: 1.0826570\ttest: 1.0932127\tbest: 1.0932059 (588)\ttotal: 34.4s\tremaining: 4m 16s\n",
            "600:\tlearn: 1.0824609\ttest: 1.0931331\tbest: 1.0931331 (600)\ttotal: 35s\tremaining: 4m 16s\n",
            "610:\tlearn: 1.0823200\ttest: 1.0931189\tbest: 1.0931112 (609)\ttotal: 35.5s\tremaining: 4m 15s\n",
            "620:\tlearn: 1.0821172\ttest: 1.0930571\tbest: 1.0930571 (620)\ttotal: 36.1s\tremaining: 4m 14s\n",
            "630:\tlearn: 1.0819626\ttest: 1.0930315\tbest: 1.0930303 (626)\ttotal: 36.7s\tremaining: 4m 14s\n",
            "640:\tlearn: 1.0818315\ttest: 1.0930677\tbest: 1.0930303 (626)\ttotal: 37.3s\tremaining: 4m 13s\n",
            "650:\tlearn: 1.0816759\ttest: 1.0930569\tbest: 1.0930303 (626)\ttotal: 37.8s\tremaining: 4m 12s\n",
            "660:\tlearn: 1.0815089\ttest: 1.0930683\tbest: 1.0930303 (626)\ttotal: 38.4s\tremaining: 4m 12s\n",
            "670:\tlearn: 1.0813244\ttest: 1.0930164\tbest: 1.0930164 (670)\ttotal: 39s\tremaining: 4m 11s\n",
            "680:\tlearn: 1.0811678\ttest: 1.0929947\tbest: 1.0929808 (675)\ttotal: 39.6s\tremaining: 4m 10s\n",
            "690:\tlearn: 1.0810261\ttest: 1.0930112\tbest: 1.0929591 (687)\ttotal: 40.1s\tremaining: 4m 10s\n",
            "700:\tlearn: 1.0808750\ttest: 1.0929903\tbest: 1.0929591 (687)\ttotal: 40.7s\tremaining: 4m 9s\n",
            "710:\tlearn: 1.0807359\ttest: 1.0929725\tbest: 1.0929591 (687)\ttotal: 41.3s\tremaining: 4m 8s\n",
            "720:\tlearn: 1.0806096\ttest: 1.0929411\tbest: 1.0929372 (719)\ttotal: 41.8s\tremaining: 4m 8s\n",
            "730:\tlearn: 1.0804130\ttest: 1.0929390\tbest: 1.0929091 (723)\ttotal: 42.4s\tremaining: 4m 7s\n",
            "740:\tlearn: 1.0802557\ttest: 1.0929378\tbest: 1.0929091 (723)\ttotal: 42.9s\tremaining: 4m 6s\n",
            "750:\tlearn: 1.0801099\ttest: 1.0928838\tbest: 1.0928838 (750)\ttotal: 43.5s\tremaining: 4m 6s\n",
            "760:\tlearn: 1.0799506\ttest: 1.0928872\tbest: 1.0928838 (750)\ttotal: 44.1s\tremaining: 4m 5s\n",
            "770:\tlearn: 1.0797771\ttest: 1.0928521\tbest: 1.0928299 (766)\ttotal: 44.7s\tremaining: 4m 4s\n",
            "780:\tlearn: 1.0796474\ttest: 1.0928072\tbest: 1.0928072 (780)\ttotal: 45.2s\tremaining: 4m 4s\n",
            "790:\tlearn: 1.0794979\ttest: 1.0927858\tbest: 1.0927858 (790)\ttotal: 45.8s\tremaining: 4m 3s\n",
            "800:\tlearn: 1.0793783\ttest: 1.0927717\tbest: 1.0927562 (795)\ttotal: 46.4s\tremaining: 4m 3s\n",
            "810:\tlearn: 1.0792661\ttest: 1.0928089\tbest: 1.0927562 (795)\ttotal: 46.9s\tremaining: 4m 2s\n",
            "820:\tlearn: 1.0791385\ttest: 1.0928023\tbest: 1.0927562 (795)\ttotal: 47.5s\tremaining: 4m 1s\n",
            "830:\tlearn: 1.0790162\ttest: 1.0927564\tbest: 1.0927522 (827)\ttotal: 48.1s\tremaining: 4m 1s\n",
            "840:\tlearn: 1.0788736\ttest: 1.0927181\tbest: 1.0927080 (835)\ttotal: 48.6s\tremaining: 4m\n",
            "850:\tlearn: 1.0787517\ttest: 1.0927407\tbest: 1.0927080 (835)\ttotal: 49.2s\tremaining: 3m 59s\n",
            "860:\tlearn: 1.0786112\ttest: 1.0927353\tbest: 1.0927080 (835)\ttotal: 49.8s\tremaining: 3m 59s\n",
            "870:\tlearn: 1.0784777\ttest: 1.0927254\tbest: 1.0927080 (835)\ttotal: 50.3s\tremaining: 3m 58s\n",
            "880:\tlearn: 1.0783472\ttest: 1.0927107\tbest: 1.0927049 (878)\ttotal: 50.9s\tremaining: 3m 58s\n",
            "890:\tlearn: 1.0782380\ttest: 1.0926865\tbest: 1.0926865 (890)\ttotal: 51.5s\tremaining: 3m 57s\n",
            "900:\tlearn: 1.0780632\ttest: 1.0926673\tbest: 1.0926673 (900)\ttotal: 52s\tremaining: 3m 56s\n",
            "910:\tlearn: 1.0779501\ttest: 1.0926794\tbest: 1.0926623 (901)\ttotal: 52.6s\tremaining: 3m 56s\n",
            "920:\tlearn: 1.0778097\ttest: 1.0926375\tbest: 1.0926375 (920)\ttotal: 53.2s\tremaining: 3m 55s\n",
            "930:\tlearn: 1.0777135\ttest: 1.0926113\tbest: 1.0926073 (927)\ttotal: 53.8s\tremaining: 3m 55s\n",
            "940:\tlearn: 1.0776084\ttest: 1.0926291\tbest: 1.0926006 (933)\ttotal: 54.4s\tremaining: 3m 54s\n",
            "950:\tlearn: 1.0774763\ttest: 1.0926204\tbest: 1.0926006 (933)\ttotal: 54.9s\tremaining: 3m 53s\n",
            "960:\tlearn: 1.0773437\ttest: 1.0925673\tbest: 1.0925673 (960)\ttotal: 55.5s\tremaining: 3m 53s\n",
            "970:\tlearn: 1.0772182\ttest: 1.0925372\tbest: 1.0925372 (970)\ttotal: 56.1s\tremaining: 3m 52s\n",
            "980:\tlearn: 1.0770596\ttest: 1.0925246\tbest: 1.0925246 (980)\ttotal: 56.7s\tremaining: 3m 52s\n",
            "990:\tlearn: 1.0769324\ttest: 1.0925430\tbest: 1.0925053 (983)\ttotal: 57.3s\tremaining: 3m 51s\n",
            "1000:\tlearn: 1.0768142\ttest: 1.0925203\tbest: 1.0925053 (983)\ttotal: 57.8s\tremaining: 3m 50s\n",
            "1010:\tlearn: 1.0767012\ttest: 1.0925387\tbest: 1.0925053 (983)\ttotal: 58.4s\tremaining: 3m 50s\n",
            "1020:\tlearn: 1.0765770\ttest: 1.0925610\tbest: 1.0925053 (983)\ttotal: 58.9s\tremaining: 3m 49s\n",
            "1030:\tlearn: 1.0764666\ttest: 1.0925760\tbest: 1.0925053 (983)\ttotal: 59.5s\tremaining: 3m 49s\n",
            "Stopped by overfitting detector  (50 iterations wait)\n",
            "\n",
            "bestTest = 1.092505251\n",
            "bestIteration = 983\n",
            "\n",
            "Shrink model to first 984 iterations.\n",
            "Fold 6, Valid score = 1.09251\n",
            "0:\tlearn: 1.3352183\ttest: 1.3352031\tbest: 1.3352031 (0)\ttotal: 59ms\tremaining: 4m 54s\n",
            "10:\tlearn: 1.1509035\ttest: 1.1504995\tbest: 1.1504995 (10)\ttotal: 631ms\tremaining: 4m 46s\n",
            "20:\tlearn: 1.1198727\ttest: 1.1195640\tbest: 1.1195640 (20)\ttotal: 1.23s\tremaining: 4m 51s\n",
            "30:\tlearn: 1.1122800\ttest: 1.1120196\tbest: 1.1120196 (30)\ttotal: 1.86s\tremaining: 4m 58s\n",
            "40:\tlearn: 1.1093965\ttest: 1.1092170\tbest: 1.1092170 (40)\ttotal: 2.5s\tremaining: 5m 2s\n",
            "50:\tlearn: 1.1072985\ttest: 1.1070781\tbest: 1.1070781 (50)\ttotal: 3.12s\tremaining: 5m 3s\n",
            "60:\tlearn: 1.1054893\ttest: 1.1055120\tbest: 1.1055120 (60)\ttotal: 3.74s\tremaining: 5m 2s\n",
            "70:\tlearn: 1.1040242\ttest: 1.1041187\tbest: 1.1041187 (70)\ttotal: 4.36s\tremaining: 5m 2s\n",
            "80:\tlearn: 1.1029174\ttest: 1.1031053\tbest: 1.1031053 (80)\ttotal: 5s\tremaining: 5m 3s\n",
            "90:\tlearn: 1.1018717\ttest: 1.1021977\tbest: 1.1021977 (90)\ttotal: 5.6s\tremaining: 5m 1s\n",
            "100:\tlearn: 1.1007578\ttest: 1.1011727\tbest: 1.1011727 (100)\ttotal: 6.19s\tremaining: 5m\n",
            "110:\tlearn: 1.0997781\ttest: 1.1003771\tbest: 1.1003771 (110)\ttotal: 6.79s\tremaining: 4m 58s\n",
            "120:\tlearn: 1.0988614\ttest: 1.0995326\tbest: 1.0995326 (120)\ttotal: 7.35s\tremaining: 4m 56s\n",
            "130:\tlearn: 1.0980275\ttest: 1.0988356\tbest: 1.0988356 (130)\ttotal: 7.95s\tremaining: 4m 55s\n",
            "140:\tlearn: 1.0972400\ttest: 1.0981044\tbest: 1.0981044 (140)\ttotal: 8.54s\tremaining: 4m 54s\n",
            "150:\tlearn: 1.0965656\ttest: 1.0976102\tbest: 1.0976102 (150)\ttotal: 9.14s\tremaining: 4m 53s\n",
            "160:\tlearn: 1.0958957\ttest: 1.0970528\tbest: 1.0970528 (160)\ttotal: 9.73s\tremaining: 4m 52s\n",
            "170:\tlearn: 1.0952723\ttest: 1.0965788\tbest: 1.0965788 (170)\ttotal: 10.3s\tremaining: 4m 50s\n",
            "180:\tlearn: 1.0946264\ttest: 1.0960078\tbest: 1.0960078 (180)\ttotal: 10.9s\tremaining: 4m 50s\n",
            "190:\tlearn: 1.0940655\ttest: 1.0956365\tbest: 1.0956365 (190)\ttotal: 11.5s\tremaining: 4m 49s\n",
            "200:\tlearn: 1.0934230\ttest: 1.0953218\tbest: 1.0953218 (200)\ttotal: 12.1s\tremaining: 4m 48s\n",
            "210:\tlearn: 1.0929310\ttest: 1.0949372\tbest: 1.0949372 (210)\ttotal: 12.7s\tremaining: 4m 47s\n",
            "220:\tlearn: 1.0925255\ttest: 1.0946938\tbest: 1.0946938 (220)\ttotal: 13.2s\tremaining: 4m 46s\n",
            "230:\tlearn: 1.0920944\ttest: 1.0942940\tbest: 1.0942940 (230)\ttotal: 13.8s\tremaining: 4m 45s\n",
            "240:\tlearn: 1.0917048\ttest: 1.0939552\tbest: 1.0939552 (240)\ttotal: 14.4s\tremaining: 4m 43s\n",
            "250:\tlearn: 1.0913209\ttest: 1.0936653\tbest: 1.0936653 (250)\ttotal: 15s\tremaining: 4m 43s\n",
            "260:\tlearn: 1.0909635\ttest: 1.0934860\tbest: 1.0934860 (260)\ttotal: 15.5s\tremaining: 4m 42s\n",
            "270:\tlearn: 1.0905881\ttest: 1.0931898\tbest: 1.0931898 (270)\ttotal: 16.1s\tremaining: 4m 41s\n",
            "280:\tlearn: 1.0902959\ttest: 1.0930588\tbest: 1.0930588 (280)\ttotal: 16.7s\tremaining: 4m 40s\n",
            "290:\tlearn: 1.0899344\ttest: 1.0928326\tbest: 1.0928326 (290)\ttotal: 17.3s\tremaining: 4m 39s\n",
            "300:\tlearn: 1.0895355\ttest: 1.0927131\tbest: 1.0927131 (300)\ttotal: 17.9s\tremaining: 4m 39s\n",
            "310:\tlearn: 1.0892091\ttest: 1.0925068\tbest: 1.0925068 (310)\ttotal: 18.5s\tremaining: 4m 38s\n",
            "320:\tlearn: 1.0888862\ttest: 1.0922880\tbest: 1.0922880 (320)\ttotal: 19s\tremaining: 4m 37s\n",
            "330:\tlearn: 1.0886377\ttest: 1.0921451\tbest: 1.0921304 (329)\ttotal: 19.6s\tremaining: 4m 36s\n",
            "340:\tlearn: 1.0883424\ttest: 1.0919689\tbest: 1.0919689 (340)\ttotal: 20.2s\tremaining: 4m 35s\n",
            "350:\tlearn: 1.0880769\ttest: 1.0917800\tbest: 1.0917800 (350)\ttotal: 20.8s\tremaining: 4m 35s\n",
            "360:\tlearn: 1.0877339\ttest: 1.0915215\tbest: 1.0915215 (360)\ttotal: 21.4s\tremaining: 4m 34s\n",
            "370:\tlearn: 1.0874565\ttest: 1.0913826\tbest: 1.0913826 (370)\ttotal: 21.9s\tremaining: 4m 33s\n",
            "380:\tlearn: 1.0872378\ttest: 1.0912722\tbest: 1.0912722 (380)\ttotal: 22.5s\tremaining: 4m 32s\n",
            "390:\tlearn: 1.0869840\ttest: 1.0911978\tbest: 1.0911978 (390)\ttotal: 23.1s\tremaining: 4m 31s\n",
            "400:\tlearn: 1.0866867\ttest: 1.0910677\tbest: 1.0910677 (400)\ttotal: 23.6s\tremaining: 4m 30s\n",
            "410:\tlearn: 1.0864928\ttest: 1.0909810\tbest: 1.0909810 (410)\ttotal: 24.2s\tremaining: 4m 30s\n",
            "420:\tlearn: 1.0862640\ttest: 1.0908493\tbest: 1.0908366 (419)\ttotal: 24.8s\tremaining: 4m 29s\n",
            "430:\tlearn: 1.0860312\ttest: 1.0907623\tbest: 1.0907614 (429)\ttotal: 25.3s\tremaining: 4m 28s\n",
            "440:\tlearn: 1.0858109\ttest: 1.0906834\tbest: 1.0906834 (440)\ttotal: 25.9s\tremaining: 4m 28s\n",
            "450:\tlearn: 1.0855958\ttest: 1.0906158\tbest: 1.0906158 (450)\ttotal: 26.5s\tremaining: 4m 27s\n",
            "460:\tlearn: 1.0853742\ttest: 1.0905114\tbest: 1.0905114 (460)\ttotal: 27.1s\tremaining: 4m 26s\n",
            "470:\tlearn: 1.0852117\ttest: 1.0904575\tbest: 1.0904428 (466)\ttotal: 27.6s\tremaining: 4m 25s\n",
            "480:\tlearn: 1.0849849\ttest: 1.0904335\tbest: 1.0903950 (477)\ttotal: 28.2s\tremaining: 4m 25s\n",
            "490:\tlearn: 1.0847875\ttest: 1.0903954\tbest: 1.0903898 (489)\ttotal: 28.8s\tremaining: 4m 24s\n",
            "500:\tlearn: 1.0845305\ttest: 1.0901849\tbest: 1.0901849 (500)\ttotal: 29.4s\tremaining: 4m 23s\n",
            "510:\tlearn: 1.0843711\ttest: 1.0901149\tbest: 1.0901149 (510)\ttotal: 29.9s\tremaining: 4m 23s\n",
            "520:\tlearn: 1.0842104\ttest: 1.0900207\tbest: 1.0900207 (520)\ttotal: 30.5s\tremaining: 4m 22s\n",
            "530:\tlearn: 1.0840585\ttest: 1.0899054\tbest: 1.0899054 (530)\ttotal: 31.1s\tremaining: 4m 21s\n",
            "540:\tlearn: 1.0838577\ttest: 1.0898255\tbest: 1.0898255 (540)\ttotal: 31.6s\tremaining: 4m 20s\n",
            "550:\tlearn: 1.0836856\ttest: 1.0898015\tbest: 1.0897866 (549)\ttotal: 32.2s\tremaining: 4m 20s\n",
            "560:\tlearn: 1.0834670\ttest: 1.0897497\tbest: 1.0897226 (555)\ttotal: 32.8s\tremaining: 4m 19s\n",
            "570:\tlearn: 1.0832973\ttest: 1.0896510\tbest: 1.0896510 (570)\ttotal: 33.4s\tremaining: 4m 18s\n",
            "580:\tlearn: 1.0831313\ttest: 1.0896063\tbest: 1.0896063 (580)\ttotal: 33.9s\tremaining: 4m 18s\n",
            "590:\tlearn: 1.0829953\ttest: 1.0895760\tbest: 1.0895665 (589)\ttotal: 34.5s\tremaining: 4m 17s\n",
            "600:\tlearn: 1.0828356\ttest: 1.0895036\tbest: 1.0895036 (600)\ttotal: 35.1s\tremaining: 4m 16s\n",
            "610:\tlearn: 1.0826793\ttest: 1.0894862\tbest: 1.0894740 (603)\ttotal: 35.7s\tremaining: 4m 16s\n",
            "620:\tlearn: 1.0825140\ttest: 1.0894850\tbest: 1.0894691 (617)\ttotal: 36.2s\tremaining: 4m 15s\n",
            "630:\tlearn: 1.0823449\ttest: 1.0894618\tbest: 1.0894519 (627)\ttotal: 36.8s\tremaining: 4m 14s\n",
            "640:\tlearn: 1.0821596\ttest: 1.0894021\tbest: 1.0893973 (638)\ttotal: 37.4s\tremaining: 4m 13s\n",
            "650:\tlearn: 1.0819846\ttest: 1.0893504\tbest: 1.0893450 (645)\ttotal: 37.9s\tremaining: 4m 13s\n",
            "660:\tlearn: 1.0818338\ttest: 1.0893569\tbest: 1.0893450 (645)\ttotal: 38.5s\tremaining: 4m 12s\n",
            "670:\tlearn: 1.0816787\ttest: 1.0893184\tbest: 1.0893184 (670)\ttotal: 39.1s\tremaining: 4m 12s\n",
            "680:\tlearn: 1.0815388\ttest: 1.0892925\tbest: 1.0892836 (679)\ttotal: 39.6s\tremaining: 4m 11s\n",
            "690:\tlearn: 1.0814068\ttest: 1.0892855\tbest: 1.0892689 (688)\ttotal: 40.2s\tremaining: 4m 10s\n",
            "700:\tlearn: 1.0812691\ttest: 1.0892893\tbest: 1.0892689 (688)\ttotal: 40.8s\tremaining: 4m 9s\n",
            "710:\tlearn: 1.0811350\ttest: 1.0892313\tbest: 1.0892313 (710)\ttotal: 41.3s\tremaining: 4m 9s\n",
            "720:\tlearn: 1.0810042\ttest: 1.0891588\tbest: 1.0891588 (720)\ttotal: 41.9s\tremaining: 4m 8s\n",
            "730:\tlearn: 1.0808557\ttest: 1.0891398\tbest: 1.0891350 (729)\ttotal: 42.5s\tremaining: 4m 7s\n",
            "740:\tlearn: 1.0806977\ttest: 1.0890837\tbest: 1.0890837 (740)\ttotal: 43s\tremaining: 4m 7s\n",
            "750:\tlearn: 1.0805982\ttest: 1.0890607\tbest: 1.0890606 (745)\ttotal: 43.6s\tremaining: 4m 6s\n",
            "760:\tlearn: 1.0804508\ttest: 1.0890489\tbest: 1.0890411 (752)\ttotal: 44.2s\tremaining: 4m 5s\n",
            "770:\tlearn: 1.0803230\ttest: 1.0890264\tbest: 1.0890264 (770)\ttotal: 44.7s\tremaining: 4m 5s\n",
            "780:\tlearn: 1.0801989\ttest: 1.0890520\tbest: 1.0890040 (771)\ttotal: 45.3s\tremaining: 4m 4s\n",
            "790:\tlearn: 1.0800842\ttest: 1.0890308\tbest: 1.0890040 (771)\ttotal: 45.8s\tremaining: 4m 3s\n",
            "800:\tlearn: 1.0799358\ttest: 1.0890189\tbest: 1.0890038 (797)\ttotal: 46.4s\tremaining: 4m 3s\n",
            "810:\tlearn: 1.0797821\ttest: 1.0889947\tbest: 1.0889769 (806)\ttotal: 47s\tremaining: 4m 2s\n",
            "820:\tlearn: 1.0796412\ttest: 1.0889614\tbest: 1.0889614 (820)\ttotal: 47.6s\tremaining: 4m 2s\n",
            "830:\tlearn: 1.0794844\ttest: 1.0889684\tbest: 1.0889459 (823)\ttotal: 48.2s\tremaining: 4m 1s\n",
            "840:\tlearn: 1.0793467\ttest: 1.0889144\tbest: 1.0889144 (840)\ttotal: 48.7s\tremaining: 4m\n",
            "850:\tlearn: 1.0792361\ttest: 1.0889121\tbest: 1.0889075 (848)\ttotal: 49.3s\tremaining: 4m\n",
            "860:\tlearn: 1.0791012\ttest: 1.0889374\tbest: 1.0888902 (851)\ttotal: 49.9s\tremaining: 3m 59s\n",
            "870:\tlearn: 1.0789638\ttest: 1.0889659\tbest: 1.0888902 (851)\ttotal: 50.5s\tremaining: 3m 59s\n",
            "880:\tlearn: 1.0788649\ttest: 1.0889884\tbest: 1.0888902 (851)\ttotal: 51s\tremaining: 3m 58s\n",
            "890:\tlearn: 1.0787467\ttest: 1.0889131\tbest: 1.0888902 (851)\ttotal: 51.6s\tremaining: 3m 57s\n",
            "900:\tlearn: 1.0786258\ttest: 1.0888909\tbest: 1.0888902 (851)\ttotal: 52.2s\tremaining: 3m 57s\n",
            "Stopped by overfitting detector  (50 iterations wait)\n",
            "\n",
            "bestTest = 1.088890205\n",
            "bestIteration = 851\n",
            "\n",
            "Shrink model to first 852 iterations.\n",
            "Fold 7, Valid score = 1.08889\n",
            "Score by each fold: [1.09205, 1.09105, 1.09381, 1.08987, 1.09272, 1.09251, 1.08889]\n",
            "=================================================================\n",
            "Out of fold log loss 1.0908423940364371\n"
          ],
          "name": "stdout"
        }
      ]
    },
    {
      "cell_type": "code",
      "metadata": {
        "colab": {
          "base_uri": "https://localhost:8080/"
        },
        "id": "akWDgsQvHMHa",
        "outputId": "9ce7188e-cba3-48c1-cc54-5e428c647620"
      },
      "source": [
        "xgb_params = {\n",
        "    'objective': 'multi:softprob',\n",
        "    'eval_metric': 'mlogloss',\n",
        "    'random_state': 13,\n",
        "    'learning_rate': 0.08356451010151393, \n",
        "    'gamma': 0.02911685058980812, \n",
        "    'max_depth': 5, \n",
        "    'min_child_weight': 10.748514454096288, \n",
        "    'max_delta_step': 2.4474818433727927, \n",
        "    'subsample': 0.6445037550866027, \n",
        "    'colsample_bytree': 0.07634753656242108, \n",
        "    'lambda': 13.663280761461781, \n",
        "    'alpha': 21.521205761694137, \n",
        "    'max_leaves': 48,\n",
        "    'n_estimators': 2000,\n",
        "    'num_class': 4\n",
        "}\n",
        "\n",
        "cv = StratifiedKFold(n_splits=7, random_state=435, shuffle=True)\n",
        "\n",
        "xgb_estimators, xgb_encoders, xgb_oof = xgboost_cv_fit(\n",
        "    xgb_params, x_train, y_train, cv, #categorical=categorical_feature_names\n",
        ")\n",
        "\n",
        "print(f\"Out of fold log loss {metrics.log_loss(y_train, lgb_oof)}\")\n",
        "result_xgb = multi_estimators_predict(xgb_estimators, test.drop(columns='id'))"
      ],
      "execution_count": 73,
      "outputs": [
        {
          "output_type": "stream",
          "text": [
            "Mon May 17 21:05:06 2021, Cross-Validation, 100000 rows, 50 cols\n",
            "[0]\tvalidation_0-mlogloss:1.35363\n",
            "Will train until validation_0-mlogloss hasn't improved in 50 rounds.\n",
            "[10]\tvalidation_0-mlogloss:1.18494\n",
            "[20]\tvalidation_0-mlogloss:1.13507\n",
            "[30]\tvalidation_0-mlogloss:1.11864\n",
            "[40]\tvalidation_0-mlogloss:1.11229\n",
            "[50]\tvalidation_0-mlogloss:1.10949\n",
            "[60]\tvalidation_0-mlogloss:1.10738\n",
            "[70]\tvalidation_0-mlogloss:1.10571\n",
            "[80]\tvalidation_0-mlogloss:1.10457\n",
            "[90]\tvalidation_0-mlogloss:1.10326\n",
            "[100]\tvalidation_0-mlogloss:1.10222\n",
            "[110]\tvalidation_0-mlogloss:1.10135\n",
            "[120]\tvalidation_0-mlogloss:1.10035\n",
            "[130]\tvalidation_0-mlogloss:1.09956\n",
            "[140]\tvalidation_0-mlogloss:1.09892\n",
            "[150]\tvalidation_0-mlogloss:1.09848\n",
            "[160]\tvalidation_0-mlogloss:1.09784\n",
            "[170]\tvalidation_0-mlogloss:1.09737\n",
            "[180]\tvalidation_0-mlogloss:1.09687\n",
            "[190]\tvalidation_0-mlogloss:1.09633\n",
            "[200]\tvalidation_0-mlogloss:1.09583\n",
            "[210]\tvalidation_0-mlogloss:1.09545\n",
            "[220]\tvalidation_0-mlogloss:1.0951\n",
            "[230]\tvalidation_0-mlogloss:1.09481\n",
            "[240]\tvalidation_0-mlogloss:1.09448\n",
            "[250]\tvalidation_0-mlogloss:1.09425\n",
            "[260]\tvalidation_0-mlogloss:1.09409\n",
            "[270]\tvalidation_0-mlogloss:1.09374\n",
            "[280]\tvalidation_0-mlogloss:1.09364\n",
            "[290]\tvalidation_0-mlogloss:1.09358\n",
            "[300]\tvalidation_0-mlogloss:1.09343\n",
            "[310]\tvalidation_0-mlogloss:1.09331\n",
            "[320]\tvalidation_0-mlogloss:1.09321\n",
            "[330]\tvalidation_0-mlogloss:1.09315\n",
            "[340]\tvalidation_0-mlogloss:1.09308\n",
            "[350]\tvalidation_0-mlogloss:1.09316\n",
            "[360]\tvalidation_0-mlogloss:1.09311\n",
            "[370]\tvalidation_0-mlogloss:1.09301\n",
            "[380]\tvalidation_0-mlogloss:1.09295\n",
            "[390]\tvalidation_0-mlogloss:1.09295\n",
            "[400]\tvalidation_0-mlogloss:1.09293\n",
            "[410]\tvalidation_0-mlogloss:1.09288\n",
            "[420]\tvalidation_0-mlogloss:1.09287\n",
            "[430]\tvalidation_0-mlogloss:1.09282\n",
            "[440]\tvalidation_0-mlogloss:1.09289\n",
            "[450]\tvalidation_0-mlogloss:1.09292\n",
            "[460]\tvalidation_0-mlogloss:1.09304\n",
            "[470]\tvalidation_0-mlogloss:1.09298\n",
            "[480]\tvalidation_0-mlogloss:1.09292\n",
            "Stopping. Best iteration:\n",
            "[430]\tvalidation_0-mlogloss:1.09282\n",
            "\n",
            "Fold 1, Valid score = 1.09282\n",
            "[0]\tvalidation_0-mlogloss:1.35363\n",
            "Will train until validation_0-mlogloss hasn't improved in 50 rounds.\n",
            "[10]\tvalidation_0-mlogloss:1.18528\n",
            "[20]\tvalidation_0-mlogloss:1.1349\n",
            "[30]\tvalidation_0-mlogloss:1.11822\n",
            "[40]\tvalidation_0-mlogloss:1.11189\n",
            "[50]\tvalidation_0-mlogloss:1.10878\n",
            "[60]\tvalidation_0-mlogloss:1.1067\n",
            "[70]\tvalidation_0-mlogloss:1.10498\n",
            "[80]\tvalidation_0-mlogloss:1.10385\n",
            "[90]\tvalidation_0-mlogloss:1.10247\n",
            "[100]\tvalidation_0-mlogloss:1.10129\n",
            "[110]\tvalidation_0-mlogloss:1.10023\n",
            "[120]\tvalidation_0-mlogloss:1.09933\n",
            "[130]\tvalidation_0-mlogloss:1.09853\n",
            "[140]\tvalidation_0-mlogloss:1.09786\n",
            "[150]\tvalidation_0-mlogloss:1.09712\n",
            "[160]\tvalidation_0-mlogloss:1.09658\n",
            "[170]\tvalidation_0-mlogloss:1.09597\n",
            "[180]\tvalidation_0-mlogloss:1.0955\n",
            "[190]\tvalidation_0-mlogloss:1.09489\n",
            "[200]\tvalidation_0-mlogloss:1.09441\n",
            "[210]\tvalidation_0-mlogloss:1.09414\n",
            "[220]\tvalidation_0-mlogloss:1.09386\n",
            "[230]\tvalidation_0-mlogloss:1.09356\n",
            "[240]\tvalidation_0-mlogloss:1.09313\n",
            "[250]\tvalidation_0-mlogloss:1.09296\n",
            "[260]\tvalidation_0-mlogloss:1.0927\n",
            "[270]\tvalidation_0-mlogloss:1.09249\n",
            "[280]\tvalidation_0-mlogloss:1.09243\n",
            "[290]\tvalidation_0-mlogloss:1.09212\n",
            "[300]\tvalidation_0-mlogloss:1.09203\n",
            "[310]\tvalidation_0-mlogloss:1.09189\n",
            "[320]\tvalidation_0-mlogloss:1.09172\n",
            "[330]\tvalidation_0-mlogloss:1.09153\n",
            "[340]\tvalidation_0-mlogloss:1.09133\n",
            "[350]\tvalidation_0-mlogloss:1.09127\n",
            "[360]\tvalidation_0-mlogloss:1.09118\n",
            "[370]\tvalidation_0-mlogloss:1.09118\n",
            "[380]\tvalidation_0-mlogloss:1.09116\n",
            "[390]\tvalidation_0-mlogloss:1.09108\n",
            "[400]\tvalidation_0-mlogloss:1.09108\n",
            "[410]\tvalidation_0-mlogloss:1.09099\n",
            "[420]\tvalidation_0-mlogloss:1.09097\n",
            "[430]\tvalidation_0-mlogloss:1.09102\n",
            "[440]\tvalidation_0-mlogloss:1.09088\n",
            "[450]\tvalidation_0-mlogloss:1.09091\n",
            "[460]\tvalidation_0-mlogloss:1.09093\n",
            "[470]\tvalidation_0-mlogloss:1.09093\n",
            "[480]\tvalidation_0-mlogloss:1.09093\n",
            "[490]\tvalidation_0-mlogloss:1.09101\n",
            "[500]\tvalidation_0-mlogloss:1.09106\n",
            "[510]\tvalidation_0-mlogloss:1.0911\n",
            "Stopping. Best iteration:\n",
            "[468]\tvalidation_0-mlogloss:1.09087\n",
            "\n",
            "Fold 2, Valid score = 1.09087\n",
            "[0]\tvalidation_0-mlogloss:1.35352\n",
            "Will train until validation_0-mlogloss hasn't improved in 50 rounds.\n",
            "[10]\tvalidation_0-mlogloss:1.18537\n",
            "[20]\tvalidation_0-mlogloss:1.13497\n",
            "[30]\tvalidation_0-mlogloss:1.11859\n",
            "[40]\tvalidation_0-mlogloss:1.11235\n",
            "[50]\tvalidation_0-mlogloss:1.10955\n",
            "[60]\tvalidation_0-mlogloss:1.10746\n",
            "[70]\tvalidation_0-mlogloss:1.10584\n",
            "[80]\tvalidation_0-mlogloss:1.10468\n",
            "[90]\tvalidation_0-mlogloss:1.10332\n",
            "[100]\tvalidation_0-mlogloss:1.10236\n",
            "[110]\tvalidation_0-mlogloss:1.10149\n",
            "[120]\tvalidation_0-mlogloss:1.10067\n",
            "[130]\tvalidation_0-mlogloss:1.09992\n",
            "[140]\tvalidation_0-mlogloss:1.0993\n",
            "[150]\tvalidation_0-mlogloss:1.0987\n",
            "[160]\tvalidation_0-mlogloss:1.09813\n",
            "[170]\tvalidation_0-mlogloss:1.09767\n",
            "[180]\tvalidation_0-mlogloss:1.09711\n",
            "[190]\tvalidation_0-mlogloss:1.09671\n",
            "[200]\tvalidation_0-mlogloss:1.09627\n",
            "[210]\tvalidation_0-mlogloss:1.0958\n",
            "[220]\tvalidation_0-mlogloss:1.0956\n",
            "[230]\tvalidation_0-mlogloss:1.0954\n",
            "[240]\tvalidation_0-mlogloss:1.09523\n",
            "[250]\tvalidation_0-mlogloss:1.09501\n",
            "[260]\tvalidation_0-mlogloss:1.0948\n",
            "[270]\tvalidation_0-mlogloss:1.09471\n",
            "[280]\tvalidation_0-mlogloss:1.09457\n",
            "[290]\tvalidation_0-mlogloss:1.09458\n",
            "[300]\tvalidation_0-mlogloss:1.09451\n",
            "[310]\tvalidation_0-mlogloss:1.09449\n",
            "[320]\tvalidation_0-mlogloss:1.09441\n",
            "[330]\tvalidation_0-mlogloss:1.09429\n",
            "[340]\tvalidation_0-mlogloss:1.09424\n",
            "[350]\tvalidation_0-mlogloss:1.09422\n",
            "[360]\tvalidation_0-mlogloss:1.09423\n",
            "[370]\tvalidation_0-mlogloss:1.09423\n",
            "[380]\tvalidation_0-mlogloss:1.09423\n",
            "[390]\tvalidation_0-mlogloss:1.09411\n",
            "[400]\tvalidation_0-mlogloss:1.09412\n",
            "[410]\tvalidation_0-mlogloss:1.09414\n",
            "[420]\tvalidation_0-mlogloss:1.09402\n",
            "[430]\tvalidation_0-mlogloss:1.09401\n",
            "[440]\tvalidation_0-mlogloss:1.09404\n",
            "[450]\tvalidation_0-mlogloss:1.0941\n",
            "[460]\tvalidation_0-mlogloss:1.09414\n",
            "[470]\tvalidation_0-mlogloss:1.09414\n",
            "[480]\tvalidation_0-mlogloss:1.09416\n",
            "Stopping. Best iteration:\n",
            "[431]\tvalidation_0-mlogloss:1.09399\n",
            "\n",
            "Fold 3, Valid score = 1.094\n",
            "[0]\tvalidation_0-mlogloss:1.35365\n",
            "Will train until validation_0-mlogloss hasn't improved in 50 rounds.\n",
            "[10]\tvalidation_0-mlogloss:1.18499\n",
            "[20]\tvalidation_0-mlogloss:1.13459\n",
            "[30]\tvalidation_0-mlogloss:1.11824\n",
            "[40]\tvalidation_0-mlogloss:1.11186\n",
            "[50]\tvalidation_0-mlogloss:1.10895\n",
            "[60]\tvalidation_0-mlogloss:1.10696\n",
            "[70]\tvalidation_0-mlogloss:1.10508\n",
            "[80]\tvalidation_0-mlogloss:1.1039\n",
            "[90]\tvalidation_0-mlogloss:1.10251\n",
            "[100]\tvalidation_0-mlogloss:1.10118\n",
            "[110]\tvalidation_0-mlogloss:1.10017\n",
            "[120]\tvalidation_0-mlogloss:1.09909\n",
            "[130]\tvalidation_0-mlogloss:1.09817\n",
            "[140]\tvalidation_0-mlogloss:1.09756\n",
            "[150]\tvalidation_0-mlogloss:1.09689\n",
            "[160]\tvalidation_0-mlogloss:1.09618\n",
            "[170]\tvalidation_0-mlogloss:1.09558\n",
            "[180]\tvalidation_0-mlogloss:1.09497\n",
            "[190]\tvalidation_0-mlogloss:1.09437\n",
            "[200]\tvalidation_0-mlogloss:1.09381\n",
            "[210]\tvalidation_0-mlogloss:1.09336\n",
            "[220]\tvalidation_0-mlogloss:1.0931\n",
            "[230]\tvalidation_0-mlogloss:1.09289\n",
            "[240]\tvalidation_0-mlogloss:1.09249\n",
            "[250]\tvalidation_0-mlogloss:1.09228\n",
            "[260]\tvalidation_0-mlogloss:1.09222\n",
            "[270]\tvalidation_0-mlogloss:1.09205\n",
            "[280]\tvalidation_0-mlogloss:1.09186\n",
            "[290]\tvalidation_0-mlogloss:1.09162\n",
            "[300]\tvalidation_0-mlogloss:1.09159\n",
            "[310]\tvalidation_0-mlogloss:1.09139\n",
            "[320]\tvalidation_0-mlogloss:1.09135\n",
            "[330]\tvalidation_0-mlogloss:1.09126\n",
            "[340]\tvalidation_0-mlogloss:1.09111\n",
            "[350]\tvalidation_0-mlogloss:1.09106\n",
            "[360]\tvalidation_0-mlogloss:1.09094\n",
            "[370]\tvalidation_0-mlogloss:1.09094\n",
            "[380]\tvalidation_0-mlogloss:1.09083\n",
            "[390]\tvalidation_0-mlogloss:1.09084\n",
            "[400]\tvalidation_0-mlogloss:1.09079\n",
            "[410]\tvalidation_0-mlogloss:1.0907\n",
            "[420]\tvalidation_0-mlogloss:1.0907\n",
            "[430]\tvalidation_0-mlogloss:1.09065\n",
            "[440]\tvalidation_0-mlogloss:1.09067\n",
            "[450]\tvalidation_0-mlogloss:1.09063\n",
            "[460]\tvalidation_0-mlogloss:1.0907\n",
            "[470]\tvalidation_0-mlogloss:1.09065\n",
            "[480]\tvalidation_0-mlogloss:1.0906\n",
            "[490]\tvalidation_0-mlogloss:1.09072\n",
            "[500]\tvalidation_0-mlogloss:1.0908\n",
            "[510]\tvalidation_0-mlogloss:1.09083\n",
            "[520]\tvalidation_0-mlogloss:1.09077\n",
            "[530]\tvalidation_0-mlogloss:1.09086\n",
            "Stopping. Best iteration:\n",
            "[481]\tvalidation_0-mlogloss:1.09058\n",
            "\n",
            "Fold 4, Valid score = 1.09058\n",
            "[0]\tvalidation_0-mlogloss:1.3536\n",
            "Will train until validation_0-mlogloss hasn't improved in 50 rounds.\n",
            "[10]\tvalidation_0-mlogloss:1.1851\n",
            "[20]\tvalidation_0-mlogloss:1.13513\n",
            "[30]\tvalidation_0-mlogloss:1.11868\n",
            "[40]\tvalidation_0-mlogloss:1.11245\n",
            "[50]\tvalidation_0-mlogloss:1.1097\n",
            "[60]\tvalidation_0-mlogloss:1.10774\n",
            "[70]\tvalidation_0-mlogloss:1.10608\n",
            "[80]\tvalidation_0-mlogloss:1.10486\n",
            "[90]\tvalidation_0-mlogloss:1.10372\n",
            "[100]\tvalidation_0-mlogloss:1.10247\n",
            "[110]\tvalidation_0-mlogloss:1.10159\n",
            "[120]\tvalidation_0-mlogloss:1.10055\n",
            "[130]\tvalidation_0-mlogloss:1.09986\n",
            "[140]\tvalidation_0-mlogloss:1.09943\n",
            "[150]\tvalidation_0-mlogloss:1.09883\n",
            "[160]\tvalidation_0-mlogloss:1.09818\n",
            "[170]\tvalidation_0-mlogloss:1.09766\n",
            "[180]\tvalidation_0-mlogloss:1.09719\n",
            "[190]\tvalidation_0-mlogloss:1.09676\n",
            "[200]\tvalidation_0-mlogloss:1.09633\n",
            "[210]\tvalidation_0-mlogloss:1.09603\n",
            "[220]\tvalidation_0-mlogloss:1.09571\n",
            "[230]\tvalidation_0-mlogloss:1.09542\n",
            "[240]\tvalidation_0-mlogloss:1.09511\n",
            "[250]\tvalidation_0-mlogloss:1.09479\n",
            "[260]\tvalidation_0-mlogloss:1.09465\n",
            "[270]\tvalidation_0-mlogloss:1.09436\n",
            "[280]\tvalidation_0-mlogloss:1.09415\n",
            "[290]\tvalidation_0-mlogloss:1.09396\n",
            "[300]\tvalidation_0-mlogloss:1.09386\n",
            "[310]\tvalidation_0-mlogloss:1.09377\n",
            "[320]\tvalidation_0-mlogloss:1.09371\n",
            "[330]\tvalidation_0-mlogloss:1.09363\n",
            "[340]\tvalidation_0-mlogloss:1.09362\n",
            "[350]\tvalidation_0-mlogloss:1.09345\n",
            "[360]\tvalidation_0-mlogloss:1.0935\n",
            "[370]\tvalidation_0-mlogloss:1.09354\n",
            "[380]\tvalidation_0-mlogloss:1.0935\n",
            "[390]\tvalidation_0-mlogloss:1.09346\n",
            "[400]\tvalidation_0-mlogloss:1.09349\n",
            "Stopping. Best iteration:\n",
            "[353]\tvalidation_0-mlogloss:1.09342\n",
            "\n",
            "Fold 5, Valid score = 1.09342\n",
            "[0]\tvalidation_0-mlogloss:1.3538\n",
            "Will train until validation_0-mlogloss hasn't improved in 50 rounds.\n",
            "[10]\tvalidation_0-mlogloss:1.18464\n",
            "[20]\tvalidation_0-mlogloss:1.13476\n",
            "[30]\tvalidation_0-mlogloss:1.11839\n",
            "[40]\tvalidation_0-mlogloss:1.11242\n",
            "[50]\tvalidation_0-mlogloss:1.10974\n",
            "[60]\tvalidation_0-mlogloss:1.10788\n",
            "[70]\tvalidation_0-mlogloss:1.10657\n",
            "[80]\tvalidation_0-mlogloss:1.10542\n",
            "[90]\tvalidation_0-mlogloss:1.10449\n",
            "[100]\tvalidation_0-mlogloss:1.10333\n",
            "[110]\tvalidation_0-mlogloss:1.10243\n",
            "[120]\tvalidation_0-mlogloss:1.10161\n",
            "[130]\tvalidation_0-mlogloss:1.10055\n",
            "[140]\tvalidation_0-mlogloss:1.09998\n",
            "[150]\tvalidation_0-mlogloss:1.09922\n",
            "[160]\tvalidation_0-mlogloss:1.09867\n",
            "[170]\tvalidation_0-mlogloss:1.0982\n",
            "[180]\tvalidation_0-mlogloss:1.09754\n",
            "[190]\tvalidation_0-mlogloss:1.09709\n",
            "[200]\tvalidation_0-mlogloss:1.0966\n",
            "[210]\tvalidation_0-mlogloss:1.0962\n",
            "[220]\tvalidation_0-mlogloss:1.09591\n",
            "[230]\tvalidation_0-mlogloss:1.09551\n",
            "[240]\tvalidation_0-mlogloss:1.09536\n",
            "[250]\tvalidation_0-mlogloss:1.09514\n",
            "[260]\tvalidation_0-mlogloss:1.09496\n",
            "[270]\tvalidation_0-mlogloss:1.09481\n",
            "[280]\tvalidation_0-mlogloss:1.09468\n",
            "[290]\tvalidation_0-mlogloss:1.09448\n",
            "[300]\tvalidation_0-mlogloss:1.09436\n",
            "[310]\tvalidation_0-mlogloss:1.09422\n",
            "[320]\tvalidation_0-mlogloss:1.09416\n",
            "[330]\tvalidation_0-mlogloss:1.09404\n",
            "[340]\tvalidation_0-mlogloss:1.09403\n",
            "[350]\tvalidation_0-mlogloss:1.09392\n",
            "[360]\tvalidation_0-mlogloss:1.09384\n",
            "[370]\tvalidation_0-mlogloss:1.09376\n",
            "[380]\tvalidation_0-mlogloss:1.09368\n",
            "[390]\tvalidation_0-mlogloss:1.0937\n",
            "[400]\tvalidation_0-mlogloss:1.09371\n",
            "[410]\tvalidation_0-mlogloss:1.09368\n",
            "[420]\tvalidation_0-mlogloss:1.09373\n",
            "[430]\tvalidation_0-mlogloss:1.09377\n",
            "[440]\tvalidation_0-mlogloss:1.09382\n",
            "[450]\tvalidation_0-mlogloss:1.09378\n",
            "Stopping. Best iteration:\n",
            "[404]\tvalidation_0-mlogloss:1.09364\n",
            "\n",
            "Fold 6, Valid score = 1.09365\n",
            "[0]\tvalidation_0-mlogloss:1.35383\n",
            "Will train until validation_0-mlogloss hasn't improved in 50 rounds.\n",
            "[10]\tvalidation_0-mlogloss:1.18481\n",
            "[20]\tvalidation_0-mlogloss:1.13462\n",
            "[30]\tvalidation_0-mlogloss:1.11827\n",
            "[40]\tvalidation_0-mlogloss:1.11193\n",
            "[50]\tvalidation_0-mlogloss:1.10915\n",
            "[60]\tvalidation_0-mlogloss:1.10706\n",
            "[70]\tvalidation_0-mlogloss:1.10553\n",
            "[80]\tvalidation_0-mlogloss:1.1041\n",
            "[90]\tvalidation_0-mlogloss:1.10303\n",
            "[100]\tvalidation_0-mlogloss:1.10189\n",
            "[110]\tvalidation_0-mlogloss:1.10079\n",
            "[120]\tvalidation_0-mlogloss:1.09981\n",
            "[130]\tvalidation_0-mlogloss:1.09865\n",
            "[140]\tvalidation_0-mlogloss:1.09793\n",
            "[150]\tvalidation_0-mlogloss:1.09711\n",
            "[160]\tvalidation_0-mlogloss:1.09653\n",
            "[170]\tvalidation_0-mlogloss:1.09593\n",
            "[180]\tvalidation_0-mlogloss:1.09526\n",
            "[190]\tvalidation_0-mlogloss:1.0947\n",
            "[200]\tvalidation_0-mlogloss:1.09417\n",
            "[210]\tvalidation_0-mlogloss:1.09383\n",
            "[220]\tvalidation_0-mlogloss:1.09342\n",
            "[230]\tvalidation_0-mlogloss:1.09307\n",
            "[240]\tvalidation_0-mlogloss:1.09273\n",
            "[250]\tvalidation_0-mlogloss:1.09249\n",
            "[260]\tvalidation_0-mlogloss:1.09217\n",
            "[270]\tvalidation_0-mlogloss:1.09199\n",
            "[280]\tvalidation_0-mlogloss:1.09167\n",
            "[290]\tvalidation_0-mlogloss:1.09145\n",
            "[300]\tvalidation_0-mlogloss:1.09123\n",
            "[310]\tvalidation_0-mlogloss:1.09109\n",
            "[320]\tvalidation_0-mlogloss:1.0909\n",
            "[330]\tvalidation_0-mlogloss:1.09074\n",
            "[340]\tvalidation_0-mlogloss:1.09063\n",
            "[350]\tvalidation_0-mlogloss:1.09039\n",
            "[360]\tvalidation_0-mlogloss:1.09037\n",
            "[370]\tvalidation_0-mlogloss:1.09021\n",
            "[380]\tvalidation_0-mlogloss:1.09014\n",
            "[390]\tvalidation_0-mlogloss:1.09006\n",
            "[400]\tvalidation_0-mlogloss:1.08986\n",
            "[410]\tvalidation_0-mlogloss:1.08976\n",
            "[420]\tvalidation_0-mlogloss:1.08976\n",
            "[430]\tvalidation_0-mlogloss:1.08971\n",
            "[440]\tvalidation_0-mlogloss:1.08972\n",
            "[450]\tvalidation_0-mlogloss:1.08972\n",
            "[460]\tvalidation_0-mlogloss:1.08969\n",
            "[470]\tvalidation_0-mlogloss:1.08969\n",
            "[480]\tvalidation_0-mlogloss:1.08965\n",
            "[490]\tvalidation_0-mlogloss:1.0896\n",
            "[500]\tvalidation_0-mlogloss:1.08965\n",
            "[510]\tvalidation_0-mlogloss:1.08971\n",
            "[520]\tvalidation_0-mlogloss:1.08975\n",
            "[530]\tvalidation_0-mlogloss:1.08975\n",
            "Stopping. Best iteration:\n",
            "[489]\tvalidation_0-mlogloss:1.08957\n",
            "\n",
            "Fold 7, Valid score = 1.08957\n",
            "Out of fold log loss 1.0908423940364371\n"
          ],
          "name": "stdout"
        }
      ]
    },
    {
      "cell_type": "code",
      "metadata": {
        "id": "PHDFpnyVMw6W"
      },
      "source": [
        "result_lgb_xgb_cb = np.dstack((result_lgb, result_xgb, result_cb))\n",
        "result_lgb_xgb_cb_mean = np.mean(result_lgb_xgb_cb, axis=2)"
      ],
      "execution_count": 74,
      "outputs": []
    },
    {
      "cell_type": "code",
      "metadata": {
        "id": "SCKzctMBGMao"
      },
      "source": [
        "test_pred_df = pd.DataFrame(result_lgb_xgb_cb_mean)\n",
        "test_pred_df.rename(columns={0:'class_1',\t1:'class_2',\t2:'class_3',\t3:'class_4'}, inplace=True)\n",
        "result = test.drop(columns = test.columns.to_list()[1:])\n",
        "result = pd.concat([result, test_pred_df], axis=1)\n",
        "result.to_csv('result.csv', index=False)"
      ],
      "execution_count": 75,
      "outputs": []
    },
    {
      "cell_type": "code",
      "metadata": {
        "colab": {
          "base_uri": "https://localhost:8080/",
          "height": 406
        },
        "id": "InCiOkFxM-gU",
        "outputId": "0069ffad-2312-4576-e66c-47ee36bdcf9c"
      },
      "source": [
        "result"
      ],
      "execution_count": 76,
      "outputs": [
        {
          "output_type": "execute_result",
          "data": {
            "text/html": [
              "<div>\n",
              "<style scoped>\n",
              "    .dataframe tbody tr th:only-of-type {\n",
              "        vertical-align: middle;\n",
              "    }\n",
              "\n",
              "    .dataframe tbody tr th {\n",
              "        vertical-align: top;\n",
              "    }\n",
              "\n",
              "    .dataframe thead th {\n",
              "        text-align: right;\n",
              "    }\n",
              "</style>\n",
              "<table border=\"1\" class=\"dataframe\">\n",
              "  <thead>\n",
              "    <tr style=\"text-align: right;\">\n",
              "      <th></th>\n",
              "      <th>id</th>\n",
              "      <th>class_1</th>\n",
              "      <th>class_2</th>\n",
              "      <th>class_3</th>\n",
              "      <th>class_4</th>\n",
              "    </tr>\n",
              "  </thead>\n",
              "  <tbody>\n",
              "    <tr>\n",
              "      <th>0</th>\n",
              "      <td>100000</td>\n",
              "      <td>0.090962</td>\n",
              "      <td>0.621724</td>\n",
              "      <td>0.165693</td>\n",
              "      <td>0.121621</td>\n",
              "    </tr>\n",
              "    <tr>\n",
              "      <th>1</th>\n",
              "      <td>100001</td>\n",
              "      <td>0.074952</td>\n",
              "      <td>0.701683</td>\n",
              "      <td>0.134995</td>\n",
              "      <td>0.088370</td>\n",
              "    </tr>\n",
              "    <tr>\n",
              "      <th>2</th>\n",
              "      <td>100002</td>\n",
              "      <td>0.083937</td>\n",
              "      <td>0.643118</td>\n",
              "      <td>0.175356</td>\n",
              "      <td>0.097588</td>\n",
              "    </tr>\n",
              "    <tr>\n",
              "      <th>3</th>\n",
              "      <td>100003</td>\n",
              "      <td>0.083970</td>\n",
              "      <td>0.535519</td>\n",
              "      <td>0.293697</td>\n",
              "      <td>0.086813</td>\n",
              "    </tr>\n",
              "    <tr>\n",
              "      <th>4</th>\n",
              "      <td>100004</td>\n",
              "      <td>0.074636</td>\n",
              "      <td>0.624492</td>\n",
              "      <td>0.185662</td>\n",
              "      <td>0.115210</td>\n",
              "    </tr>\n",
              "    <tr>\n",
              "      <th>...</th>\n",
              "      <td>...</td>\n",
              "      <td>...</td>\n",
              "      <td>...</td>\n",
              "      <td>...</td>\n",
              "      <td>...</td>\n",
              "    </tr>\n",
              "    <tr>\n",
              "      <th>49995</th>\n",
              "      <td>149995</td>\n",
              "      <td>0.091246</td>\n",
              "      <td>0.685393</td>\n",
              "      <td>0.163664</td>\n",
              "      <td>0.059698</td>\n",
              "    </tr>\n",
              "    <tr>\n",
              "      <th>49996</th>\n",
              "      <td>149996</td>\n",
              "      <td>0.077159</td>\n",
              "      <td>0.654197</td>\n",
              "      <td>0.131921</td>\n",
              "      <td>0.136723</td>\n",
              "    </tr>\n",
              "    <tr>\n",
              "      <th>49997</th>\n",
              "      <td>149997</td>\n",
              "      <td>0.081517</td>\n",
              "      <td>0.531436</td>\n",
              "      <td>0.226084</td>\n",
              "      <td>0.160963</td>\n",
              "    </tr>\n",
              "    <tr>\n",
              "      <th>49998</th>\n",
              "      <td>149998</td>\n",
              "      <td>0.081800</td>\n",
              "      <td>0.592620</td>\n",
              "      <td>0.166096</td>\n",
              "      <td>0.159484</td>\n",
              "    </tr>\n",
              "    <tr>\n",
              "      <th>49999</th>\n",
              "      <td>149999</td>\n",
              "      <td>0.092688</td>\n",
              "      <td>0.571748</td>\n",
              "      <td>0.206776</td>\n",
              "      <td>0.128789</td>\n",
              "    </tr>\n",
              "  </tbody>\n",
              "</table>\n",
              "<p>50000 rows × 5 columns</p>\n",
              "</div>"
            ],
            "text/plain": [
              "           id   class_1   class_2   class_3   class_4\n",
              "0      100000  0.090962  0.621724  0.165693  0.121621\n",
              "1      100001  0.074952  0.701683  0.134995  0.088370\n",
              "2      100002  0.083937  0.643118  0.175356  0.097588\n",
              "3      100003  0.083970  0.535519  0.293697  0.086813\n",
              "4      100004  0.074636  0.624492  0.185662  0.115210\n",
              "...       ...       ...       ...       ...       ...\n",
              "49995  149995  0.091246  0.685393  0.163664  0.059698\n",
              "49996  149996  0.077159  0.654197  0.131921  0.136723\n",
              "49997  149997  0.081517  0.531436  0.226084  0.160963\n",
              "49998  149998  0.081800  0.592620  0.166096  0.159484\n",
              "49999  149999  0.092688  0.571748  0.206776  0.128789\n",
              "\n",
              "[50000 rows x 5 columns]"
            ]
          },
          "metadata": {
            "tags": []
          },
          "execution_count": 76
        }
      ]
    }
  ]
}