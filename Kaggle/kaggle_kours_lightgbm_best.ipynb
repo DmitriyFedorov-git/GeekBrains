{
  "nbformat": 4,
  "nbformat_minor": 0,
  "metadata": {
    "colab": {
      "name": "kaggle_kours_lightgbm_best.ipynb",
      "provenance": [],
      "collapsed_sections": [
        "NuH-DooDrN4S"
      ],
      "toc_visible": true
    },
    "kernelspec": {
      "display_name": "Python 3",
      "name": "python3"
    }
  },
  "cells": [
    {
      "cell_type": "markdown",
      "metadata": {
        "id": "r8MXe1QPy00P"
      },
      "source": [
        "# Спортивный анализ данных. Платформа Kaggle. Курсовой проект"
      ]
    },
    {
      "cell_type": "markdown",
      "metadata": {
        "id": "NOrxtxjgNd6P"
      },
      "source": [
        "## Загрузка данных и поключение библиотек"
      ]
    },
    {
      "cell_type": "code",
      "metadata": {
        "colab": {
          "base_uri": "https://localhost:8080/"
        },
        "id": "ESBth-JM1sFA",
        "outputId": "2e35aa99-b0bc-43a4-d502-20b8c477c79b"
      },
      "source": [
        "!pip install -q kaggle\n",
        "!mkdir -p ~/.kaggle\n",
        "!cp kaggle.json ~/.kaggle/\n",
        "!ls ~/.kaggle\n",
        "!chmod 600 /root/.kaggle/kaggle.json"
      ],
      "execution_count": null,
      "outputs": [
        {
          "output_type": "stream",
          "text": [
            "kaggle.json\n"
          ],
          "name": "stdout"
        }
      ]
    },
    {
      "cell_type": "code",
      "metadata": {
        "colab": {
          "base_uri": "https://localhost:8080/"
        },
        "id": "2QLB4FL42Mgd",
        "outputId": "6a9b2996-a0f1-4d2b-b1bf-1a178397245c"
      },
      "source": [
        "!kaggle competitions download -c geekbrains-competitive-data-analysis"
      ],
      "execution_count": null,
      "outputs": [
        {
          "output_type": "stream",
          "text": [
            "Warning: Looks like you're using an outdated API Version, please consider updating (server 1.5.12 / client 1.5.4)\n",
            "Downloading payments.csv.zip to /content\n",
            " 81% 17.0M/21.0M [00:00<00:00, 32.2MB/s]\n",
            "100% 21.0M/21.0M [00:00<00:00, 38.1MB/s]\n",
            "Downloading sample_submit.csv.zip to /content\n",
            "  0% 0.00/586k [00:00<?, ?B/s]\n",
            "100% 586k/586k [00:00<00:00, 122MB/s]\n",
            "Downloading test.csv.zip to /content\n",
            "  0% 0.00/632k [00:00<?, ?B/s]\n",
            "100% 632k/632k [00:00<00:00, 129MB/s]\n",
            "Downloading bki.csv.zip to /content\n",
            " 36% 9.00M/25.2M [00:00<00:00, 45.0MB/s]\n",
            "100% 25.2M/25.2M [00:00<00:00, 81.1MB/s]\n",
            "Downloading client_profile.csv.zip to /content\n",
            " 43% 5.00M/11.7M [00:00<00:00, 40.2MB/s]\n",
            "100% 11.7M/11.7M [00:00<00:00, 55.7MB/s]\n",
            "Downloading train.csv.zip to /content\n",
            "  0% 0.00/434k [00:00<?, ?B/s]\n",
            "100% 434k/434k [00:00<00:00, 94.5MB/s]\n",
            "Downloading applications_history.csv.zip to /content\n",
            " 88% 53.0M/59.9M [00:01<00:00, 33.5MB/s]\n",
            "100% 59.9M/59.9M [00:01<00:00, 45.1MB/s]\n"
          ],
          "name": "stdout"
        }
      ]
    },
    {
      "cell_type": "code",
      "metadata": {
        "colab": {
          "base_uri": "https://localhost:8080/"
        },
        "id": "hhgM51YZ3YtA",
        "outputId": "f1610b7e-3622-4a4d-fb72-da6e5d672b8c"
      },
      "source": [
        "!pip install catboost\n",
        "!pip install eli5\n",
        "!pip install shap\n",
        "!unzip /content/applications_history.csv.zip\n",
        "!unzip /content/bki.csv.zip\n",
        "!unzip /content/client_profile.csv.zip\n",
        "!unzip /content/payments.csv.zip\n",
        "!unzip /content/sample_submit.csv.zipa\n",
        "!unzip /content/test.csv.zip\n",
        "!unzip /content/train.csv.zip"
      ],
      "execution_count": null,
      "outputs": [
        {
          "output_type": "stream",
          "text": [
            "Collecting catboost\n",
            "\u001b[?25l  Downloading https://files.pythonhosted.org/packages/47/80/8e9c57ec32dfed6ba2922bc5c96462cbf8596ce1a6f5de532ad1e43e53fe/catboost-0.25.1-cp37-none-manylinux1_x86_64.whl (67.3MB)\n",
            "\u001b[K     |████████████████████████████████| 67.3MB 58kB/s \n",
            "\u001b[?25hRequirement already satisfied: scipy in /usr/local/lib/python3.7/dist-packages (from catboost) (1.4.1)\n",
            "Requirement already satisfied: graphviz in /usr/local/lib/python3.7/dist-packages (from catboost) (0.10.1)\n",
            "Requirement already satisfied: matplotlib in /usr/local/lib/python3.7/dist-packages (from catboost) (3.2.2)\n",
            "Requirement already satisfied: plotly in /usr/local/lib/python3.7/dist-packages (from catboost) (4.4.1)\n",
            "Requirement already satisfied: pandas>=0.24.0 in /usr/local/lib/python3.7/dist-packages (from catboost) (1.1.5)\n",
            "Requirement already satisfied: numpy>=1.16.0 in /usr/local/lib/python3.7/dist-packages (from catboost) (1.19.5)\n",
            "Requirement already satisfied: six in /usr/local/lib/python3.7/dist-packages (from catboost) (1.15.0)\n",
            "Requirement already satisfied: python-dateutil>=2.1 in /usr/local/lib/python3.7/dist-packages (from matplotlib->catboost) (2.8.1)\n",
            "Requirement already satisfied: pyparsing!=2.0.4,!=2.1.2,!=2.1.6,>=2.0.1 in /usr/local/lib/python3.7/dist-packages (from matplotlib->catboost) (2.4.7)\n",
            "Requirement already satisfied: cycler>=0.10 in /usr/local/lib/python3.7/dist-packages (from matplotlib->catboost) (0.10.0)\n",
            "Requirement already satisfied: kiwisolver>=1.0.1 in /usr/local/lib/python3.7/dist-packages (from matplotlib->catboost) (1.3.1)\n",
            "Requirement already satisfied: retrying>=1.3.3 in /usr/local/lib/python3.7/dist-packages (from plotly->catboost) (1.3.3)\n",
            "Requirement already satisfied: pytz>=2017.2 in /usr/local/lib/python3.7/dist-packages (from pandas>=0.24.0->catboost) (2018.9)\n",
            "Installing collected packages: catboost\n",
            "Successfully installed catboost-0.25.1\n",
            "Collecting eli5\n",
            "\u001b[?25l  Downloading https://files.pythonhosted.org/packages/d1/54/04cab6e1c0ae535bec93f795d8403fdf6caf66fa5a6512263202dbb14ea6/eli5-0.11.0-py2.py3-none-any.whl (106kB)\n",
            "\u001b[K     |████████████████████████████████| 112kB 5.4MB/s \n",
            "\u001b[?25hRequirement already satisfied: numpy>=1.9.0 in /usr/local/lib/python3.7/dist-packages (from eli5) (1.19.5)\n",
            "Requirement already satisfied: scipy in /usr/local/lib/python3.7/dist-packages (from eli5) (1.4.1)\n",
            "Requirement already satisfied: graphviz in /usr/local/lib/python3.7/dist-packages (from eli5) (0.10.1)\n",
            "Requirement already satisfied: jinja2 in /usr/local/lib/python3.7/dist-packages (from eli5) (2.11.3)\n",
            "Requirement already satisfied: tabulate>=0.7.7 in /usr/local/lib/python3.7/dist-packages (from eli5) (0.8.9)\n",
            "Requirement already satisfied: attrs>16.0.0 in /usr/local/lib/python3.7/dist-packages (from eli5) (20.3.0)\n",
            "Requirement already satisfied: scikit-learn>=0.20 in /usr/local/lib/python3.7/dist-packages (from eli5) (0.22.2.post1)\n",
            "Requirement already satisfied: six in /usr/local/lib/python3.7/dist-packages (from eli5) (1.15.0)\n",
            "Requirement already satisfied: MarkupSafe>=0.23 in /usr/local/lib/python3.7/dist-packages (from jinja2->eli5) (1.1.1)\n",
            "Requirement already satisfied: joblib>=0.11 in /usr/local/lib/python3.7/dist-packages (from scikit-learn>=0.20->eli5) (1.0.1)\n",
            "Installing collected packages: eli5\n",
            "Successfully installed eli5-0.11.0\n",
            "Collecting shap\n",
            "\u001b[?25l  Downloading https://files.pythonhosted.org/packages/b9/f4/c5b95cddae15be80f8e58b25edceca105aa83c0b8c86a1edad24a6af80d3/shap-0.39.0.tar.gz (356kB)\n",
            "\u001b[K     |████████████████████████████████| 358kB 5.0MB/s \n",
            "\u001b[?25hRequirement already satisfied: numpy in /usr/local/lib/python3.7/dist-packages (from shap) (1.19.5)\n",
            "Requirement already satisfied: scipy in /usr/local/lib/python3.7/dist-packages (from shap) (1.4.1)\n",
            "Requirement already satisfied: scikit-learn in /usr/local/lib/python3.7/dist-packages (from shap) (0.22.2.post1)\n",
            "Requirement already satisfied: pandas in /usr/local/lib/python3.7/dist-packages (from shap) (1.1.5)\n",
            "Requirement already satisfied: tqdm>4.25.0 in /usr/local/lib/python3.7/dist-packages (from shap) (4.41.1)\n",
            "Collecting slicer==0.0.7\n",
            "  Downloading https://files.pythonhosted.org/packages/78/c2/b3f55dfdb8af9812fdb9baf70cacf3b9e82e505b2bd4324d588888b81202/slicer-0.0.7-py3-none-any.whl\n",
            "Requirement already satisfied: numba in /usr/local/lib/python3.7/dist-packages (from shap) (0.51.2)\n",
            "Requirement already satisfied: cloudpickle in /usr/local/lib/python3.7/dist-packages (from shap) (1.3.0)\n",
            "Requirement already satisfied: joblib>=0.11 in /usr/local/lib/python3.7/dist-packages (from scikit-learn->shap) (1.0.1)\n",
            "Requirement already satisfied: pytz>=2017.2 in /usr/local/lib/python3.7/dist-packages (from pandas->shap) (2018.9)\n",
            "Requirement already satisfied: python-dateutil>=2.7.3 in /usr/local/lib/python3.7/dist-packages (from pandas->shap) (2.8.1)\n",
            "Requirement already satisfied: setuptools in /usr/local/lib/python3.7/dist-packages (from numba->shap) (56.0.0)\n",
            "Requirement already satisfied: llvmlite<0.35,>=0.34.0.dev0 in /usr/local/lib/python3.7/dist-packages (from numba->shap) (0.34.0)\n",
            "Requirement already satisfied: six>=1.5 in /usr/local/lib/python3.7/dist-packages (from python-dateutil>=2.7.3->pandas->shap) (1.15.0)\n",
            "Building wheels for collected packages: shap\n",
            "  Building wheel for shap (setup.py) ... \u001b[?25l\u001b[?25hdone\n",
            "  Created wheel for shap: filename=shap-0.39.0-cp37-cp37m-linux_x86_64.whl size=491616 sha256=2c0cfb44938c46b37a7d879919c010c44730c8990978b5f28b472285bdd7e3e5\n",
            "  Stored in directory: /root/.cache/pip/wheels/15/27/f5/a8ab9da52fd159aae6477b5ede6eaaec69fd130fa0fa59f283\n",
            "Successfully built shap\n",
            "Installing collected packages: slicer, shap\n",
            "Successfully installed shap-0.39.0 slicer-0.0.7\n",
            "Archive:  /content/applications_history.csv.zip\n",
            "  inflating: applications_history.csv  \n",
            "Archive:  /content/bki.csv.zip\n",
            "  inflating: bki.csv                 \n",
            "Archive:  /content/client_profile.csv.zip\n",
            "  inflating: client_profile.csv      \n",
            "Archive:  /content/payments.csv.zip\n",
            "  inflating: payments.csv            \n",
            "unzip:  cannot find or open /content/sample_submit.csv.zipa, /content/sample_submit.csv.zipa.zip or /content/sample_submit.csv.zipa.ZIP.\n",
            "Archive:  /content/test.csv.zip\n",
            "  inflating: test.csv                \n",
            "Archive:  /content/train.csv.zip\n",
            "  inflating: train.csv               \n"
          ],
          "name": "stdout"
        }
      ]
    },
    {
      "cell_type": "code",
      "metadata": {
        "id": "2tCi9ipN4kJr",
        "colab": {
          "base_uri": "https://localhost:8080/"
        },
        "outputId": "52533ae2-4f19-4fc1-8f78-fb315bcd424a"
      },
      "source": [
        "import pandas as pd\n",
        "import seaborn as sns\n",
        "import numpy as np\n",
        "import catboost as cb\n",
        "from sklearn.model_selection import train_test_split\n",
        "from sklearn.metrics import roc_auc_score\n",
        "import matplotlib.pyplot as plt\n",
        "from sklearn import metrics\n",
        "from typing import List, Optional\n",
        "from typing import List, Tuple\n",
        "import matplotlib.pyplot as plt\n",
        "import seaborn as sns\n",
        "import eli5\n",
        "import time\n",
        "import lightgbm as lgb\n",
        "import shap\n",
        "from sklearn.inspection import permutation_importance\n",
        "from eli5.sklearn import PermutationImportance\n",
        "from sklearn.model_selection import train_test_split, KFold"
      ],
      "execution_count": null,
      "outputs": [
        {
          "output_type": "stream",
          "text": [
            "/usr/local/lib/python3.7/dist-packages/sklearn/utils/deprecation.py:144: FutureWarning: The sklearn.feature_selection.base module is  deprecated in version 0.22 and will be removed in version 0.24. The corresponding classes / functions should instead be imported from sklearn.feature_selection. Anything that cannot be imported from sklearn.feature_selection is now part of the private API.\n",
            "  warnings.warn(message, FutureWarning)\n"
          ],
          "name": "stderr"
        }
      ]
    },
    {
      "cell_type": "markdown",
      "metadata": {
        "id": "bsLPgDy5Nuf2"
      },
      "source": [
        "## Описание используемых функций"
      ]
    },
    {
      "cell_type": "code",
      "metadata": {
        "id": "-EbrwClZ8eBJ"
      },
      "source": [
        "def plot_feature_importance(importance, names, model_type):\n",
        "\n",
        "  #Create arrays from feature importance and feature names\n",
        "  feature_importance = np.array(importance)\n",
        "  feature_names = np.array(names)\n",
        "\n",
        "  #Create a DataFrame using a Dictionary\n",
        "  data={'feature_names':feature_names,'feature_importance':feature_importance}\n",
        "  fi_df = pd.DataFrame(data)\n",
        "\n",
        "  #Sort the DataFrame in order decreasing feature importance\n",
        "  fi_df.sort_values(by=['feature_importance'], ascending=False,inplace=True)\n",
        "\n",
        "  #Define size of bar plot\n",
        "  plt.figure(figsize=(10,8))\n",
        "  #Plot Searborn bar chart\n",
        "  sns.barplot(x=fi_df['feature_importance'], y=fi_df['feature_names'])\n",
        "  #Add chart labels\n",
        "  plt.title(model_type + ' FEATURE IMPORTANCE')\n",
        "  plt.xlabel('FEATURE IMPORTANCE')\n",
        "  plt.ylabel('FEATURE NAMES')\n",
        "  return list(fi_df['feature_names'].values)"
      ],
      "execution_count": null,
      "outputs": []
    },
    {
      "cell_type": "code",
      "metadata": {
        "id": "MebyxsypiitA"
      },
      "source": [
        "def frequency_encoder(data: pd.DataFrame,\n",
        "                            features: List[str],\n",
        "                            delete_old = False,\n",
        "                            ) -> pd.DataFrame:\n",
        "    \"\"\"\n",
        "    Уникальные значения в признаках features датафрейма\n",
        "    data заменяются частотой их появления в этом датафрейме\n",
        "\n",
        "    Parameters\n",
        "    ----------\n",
        "    data: pandas.core.frame.DataFrame\n",
        "        Датафрейм для преобразования признаков.\n",
        "\n",
        "    features: List[str]\n",
        "        Список с названием признаков, для которых произвести\n",
        "        частотное кодирование.\n",
        "\n",
        "    delete_old - флаг - удалять ли исходные признаки\n",
        "\n",
        "    Returns\n",
        "    -------\n",
        "    data: pandas.core.frame.DataFrame\n",
        "        Выборка с добавленными (удаленными признаками).\n",
        "\n",
        "    \"\"\"\n",
        "    for feature in features:\n",
        "      stat = data[feature].value_counts().reset_index().rename(columns={'index': feature, feature: feature+'_cnt'})\n",
        "      stat[feature+'_freq'] = stat[feature+'_cnt']/stat[feature+'_cnt'].sum()\n",
        "      stat.drop(columns=[feature+'_cnt'], inplace=True)\n",
        "      data = pd.merge(data, stat, how='left', on=feature)\n",
        "      del stat\n",
        "      if delete_old == True:\n",
        "        data.drop(columns=[feature], inplace=True)\n",
        "    return data"
      ],
      "execution_count": null,
      "outputs": []
    },
    {
      "cell_type": "code",
      "metadata": {
        "id": "Rtl1XDteoBVG"
      },
      "source": [
        "def target_encoder(data: pd.DataFrame,\n",
        "                            features: List[str],\n",
        "                            target: str, \n",
        "                            delete_old = False,\n",
        "                            ) -> pd.DataFrame:\n",
        "    \"\"\"\n",
        "    Уникальные значения в признаках features датафрейма\n",
        "    data заменяются средним значением целевой переменной в этом датафрейме\n",
        "\n",
        "    Parameters\n",
        "    ----------\n",
        "    data: pandas.core.frame.DataFrame\n",
        "        Датафрейм для преобразования признаков.\n",
        "\n",
        "    features: List[str]\n",
        "        Список с названием признаков, для которых произвести\n",
        "        частотное кодирование.\n",
        "\n",
        "    delete_old - флаг - удалять ли исходные признаки\n",
        "\n",
        "    Returns\n",
        "    -------\n",
        "    data: pandas.core.frame.DataFrame\n",
        "        Выборка с добавленными (удаленными признаками).\n",
        "\n",
        "    \"\"\"\n",
        "    for feature in features:\n",
        "      stat = data.groupby(feature)[target].mean().reset_index()\n",
        "      stat.rename(columns={target:'educ_mean_' + target}, inplace=True)\n",
        "      data = pd.merge(data, stat, how='left', on=feature)\n",
        "      del stat\n",
        "      if delete_old == True:\n",
        "        data.drop(columns=[feature], inplace=True)\n",
        "    return data"
      ],
      "execution_count": null,
      "outputs": []
    },
    {
      "cell_type": "code",
      "metadata": {
        "id": "pZsHbXn9by8r"
      },
      "source": [
        "def create_bootstrap_samples(data: np.array, n_samples: int = 1000) -> np.array:\n",
        "    \"\"\"\n",
        "    Создание бутстреп-выборок.\n",
        "\n",
        "    Parameters\n",
        "    ----------\n",
        "    data: np.array\n",
        "        Исходная выборка, которая будет использоваться для\n",
        "        создания бутстреп выборок.\n",
        "\n",
        "    n_samples: int, optional, default = 1000\n",
        "        Количество создаваемых бутстреп выборок.\n",
        "        Опциональный параметр, по умолчанию, равен 1000.\n",
        "\n",
        "    Returns\n",
        "    -------\n",
        "    bootstrap_idx: np.array\n",
        "        Матрица индексов, для создания бутстреп выборок.\n",
        "\n",
        "    \"\"\"\n",
        "    bootstrap_idx = np.random.randint(\n",
        "        low=0, high=len(data), size=(n_samples, len(data))\n",
        "    )\n",
        "    return bootstrap_idx\n",
        "\n",
        "\n",
        "def create_bootstrap_metrics(y_true: np.array,\n",
        "                             y_pred: np.array,\n",
        "                             metric: callable,\n",
        "                             n_samlpes: int = 1000) -> List[float]:\n",
        "    \"\"\"\n",
        "    Вычисление бутстреп оценок.\n",
        "\n",
        "    Parameters\n",
        "    ----------\n",
        "    y_true: np.array\n",
        "        Вектор целевой переменной.\n",
        "\n",
        "    y_pred: np.array\n",
        "        Вектор прогнозов.\n",
        "\n",
        "    metric: callable\n",
        "        Функция для вычисления метрики.\n",
        "        Функция должна принимать 2 аргумента: y_true, y_pred.\n",
        "\n",
        "    n_samples: int, optional, default = 1000\n",
        "        Количество создаваемых бутстреп выборок.\n",
        "        Опциональный параметр, по умолчанию, равен 1000.\n",
        "\n",
        "    Returns\n",
        "    -------\n",
        "    bootstrap_metrics: List[float]\n",
        "        Список со значениями метрики качества на каждой бустреп выборке.\n",
        "\n",
        "    \"\"\"\n",
        "    scores = []\n",
        "\n",
        "    if isinstance(y_true, pd.Series):\n",
        "        y_true = y_true.values\n",
        "\n",
        "    bootstrap_idx = create_bootstrap_samples(y_true)\n",
        "    for idx in bootstrap_idx:\n",
        "        y_true_bootstrap = y_true[idx]\n",
        "        y_pred_bootstrap = y_pred[idx]\n",
        "\n",
        "        score = metric(y_true_bootstrap, y_pred_bootstrap)\n",
        "        scores.append(score)\n",
        "\n",
        "    return scores\n",
        "\n",
        "\n",
        "def calculate_confidence_interval(scores: list, conf_interval: float = 0.95) -> Tuple[float]:\n",
        "    \"\"\"\n",
        "    Вычисление доверительного интервала.\n",
        "\n",
        "    Parameters\n",
        "    ----------\n",
        "    scores: List[float / int]\n",
        "        Список с оценками изучаемой величины.\n",
        "\n",
        "    conf_interval: float, optional, default = 0.95\n",
        "        Уровень доверия для построения интервала.\n",
        "        Опциональный параметр, по умолчанию, равен 0.95.\n",
        "\n",
        "    Returns\n",
        "    -------\n",
        "    conf_interval: Tuple[float]\n",
        "        Кортеж с границами доверительного интервала.\n",
        "\n",
        "    \"\"\"\n",
        "    left_bound = np.percentile(\n",
        "        scores, ((1 - conf_interval) / 2) * 100\n",
        "    )\n",
        "    right_bound = np.percentile(\n",
        "        scores, (conf_interval + ((1 - conf_interval) / 2)) * 100\n",
        "    )\n",
        "\n",
        "    return left_bound, right_bound"
      ],
      "execution_count": null,
      "outputs": []
    },
    {
      "cell_type": "code",
      "metadata": {
        "id": "60q8NN6YYvLH"
      },
      "source": [
        "def get_input(data_path: str) -> pd.DataFrame:\n",
        "  \"\"\"\n",
        "  Считывание данных и вывод основной информации о наборе данных.\n",
        "\n",
        "  Parmeters\n",
        "  ---------\n",
        "  data_path: str - название файла\n",
        "\n",
        "  Returns\n",
        "  -------\n",
        "  data: pandas.core.frame.DataFrame - загруженный набор данных в pandas.Dataframe\n",
        "  \"\"\"\n",
        "  base_path = \"/content\"\n",
        "  data = pd.read_csv(f\"{base_path}/{data_path}\")\n",
        "  data.columns = [col.lower() for col in data.columns]\n",
        "  print(f\"{data_path}: shape = {data.shape[0]} rows, {data.shape[1]} cols\")\n",
        "  return data"
      ],
      "execution_count": null,
      "outputs": []
    },
    {
      "cell_type": "code",
      "metadata": {
        "id": "3jdT90Jb5y8X"
      },
      "source": [
        "def lightgbm_cv_fit(params, X, y, cv, categorical = None):\n",
        "    \"\"\"\n",
        "    Кросс-валидация для модели lightgbm.\n",
        "\n",
        "    Parameters\n",
        "    ----------\n",
        "    params: dict\n",
        "        Словарь гиперпараметров модели.\n",
        "\n",
        "    X: pandas.core.frame.DataFrame\n",
        "        Матрица признако для обучения модели.\n",
        "\n",
        "    y: pandas.core.frame.Series\n",
        "        Вектор целевой переменной для обучения модели.\n",
        "\n",
        "    cv: KFold or StratifiedKFold generator.\n",
        "        Объект KFold / StratifiedKFold для определения\n",
        "        стратегии кросс-валидации модели.\n",
        "\n",
        "    categorical: str, optional, default = None\n",
        "        Список категориальных признаков.\n",
        "        Опциональный параметр, по умолчанию, не используется.\n",
        "\n",
        "    Returns\n",
        "    -------\n",
        "    estimators: list\n",
        "        Список с объектами обученной модели.\n",
        "\n",
        "    oof_preds: np.array\n",
        "        Вектор OOF-прогнозов.\n",
        "\n",
        "    \"\"\"\n",
        "    if not categorical:\n",
        "        categorical = \"auto\"\n",
        "\n",
        "    estimators, folds_scores = [], []\n",
        "    oof_preds = np.zeros(X.shape[0])\n",
        "    print(f\"{time.ctime()}, Cross-Validation, {X.shape[0]} rows, {X.shape[1]} cols\")\n",
        "\n",
        "    for fold, (train_idx, valid_idx) in enumerate(cv.split(X, y)):\n",
        "        x_train, x_valid = X.loc[train_idx], X.loc[valid_idx]\n",
        "        y_train, y_valid = y[train_idx], y[valid_idx]\n",
        "\n",
        "        model = lgb.LGBMClassifier(**params)\n",
        "        model.fit(\n",
        "            x_train, y_train,\n",
        "            #eval_set=[(x_valid, y_valid)],\n",
        "            #eval_metric=\"auc\", verbose=50, early_stopping_rounds=100,\n",
        "            categorical_feature=categorical\n",
        "        )\n",
        "        oof_preds[valid_idx] = model.predict_proba(x_valid)[:, 1]\n",
        "        score = roc_auc_score(y_valid, oof_preds[valid_idx])\n",
        "        print(f\"Fold {fold+1}, Valid score = {round(score, 5)}\")\n",
        "        folds_scores.append(round(score, 5))\n",
        "        estimators.append(model)\n",
        "\n",
        "    print(f\"Score by each fold: {folds_scores}\")\n",
        "    print(\"=\"*65)\n",
        "    return estimators, oof_preds"
      ],
      "execution_count": null,
      "outputs": []
    },
    {
      "cell_type": "code",
      "metadata": {
        "id": "ROgiVwm0m4Nw"
      },
      "source": [
        "def create_client_profile_features(X: pd.DataFrame, copy:bool=True) -> pd.DataFrame:\n",
        "  \"\"\"\n",
        "  Создание признаков на основе профиля клиентов.\n",
        "\n",
        "  Parameters\n",
        "  ----------\n",
        "  X: pandas.core.frame.DataFrame\n",
        "    Матрица признаков сисходным профилем клиента.\n",
        "  \n",
        "  copy: bool, optional, default = True\n",
        "    Флаг использования копии датафрейма X.\n",
        "    Опциональный параметр, по умолчанию равен True.\n",
        "\n",
        "  Returns\n",
        "  -------\n",
        "  X_transformed: pandas.core.frame.DataFrame\n",
        "    Расширенная матрица признаков с профилем клиентов.\n",
        "  \"\"\"\n",
        "  if copy:\n",
        "    X = X.copy()\n",
        "\n",
        "  X[\"days_on_last_job\"] = X[\"days_on_last_job\"].replace(365243, np.nan)\n",
        "\n",
        "  X[\"external_scoring_prod\"] = X[\"external_scoring_rating_1\"]*X[\"external_scoring_rating_2\"]* X[\"external_scoring_rating_3\"]\n",
        "  X[\"external_scoring_weight\"] = X[\"external_scoring_rating_1\"]*0.5+X[\"external_scoring_rating_2\"]*0.5+X[\"external_scoring_rating_3\"]*0.6\n",
        "  \n",
        "\n",
        "  X[\"ratio_scoring_1_to_scoring_2\"] = X[\"external_scoring_rating_1\"] - X[\"external_scoring_rating_2\"]\n",
        "  X[\"ratio_scoring_1_to_scoring_3\"] = X[\"external_scoring_rating_1\"] - X[\"external_scoring_rating_3\"]\n",
        "  X[\"ratio_scoring_2_to_scoring_3\"] = X[\"external_scoring_rating_2\"] - X[\"external_scoring_rating_3\"]\n",
        "\n",
        "  X[\"ratio_age_to_childrens\"] = X[\"age\"]/(X[\"childrens\"]+1)\n",
        "\n",
        "  \n",
        "  for function_name in ['min', 'max', 'mean', 'nanmedian', 'var']:\n",
        "    feature_name = \"external_scoring_rating_{}\".format(function_name)\n",
        "    X[feature_name] = eval(\"np.{}\".format(function_name))(\n",
        "        X[[\"external_scoring_rating_1\", \"external_scoring_rating_2\", \"external_scoring_rating_3\"]], axis=1\n",
        "    )\n",
        "\n",
        "  X[\"external_scoring_rating_diap\"] = X[\"external_scoring_rating_max\"] - X[\"external_scoring_rating_min\"]\n",
        "\n",
        "  # Среднее геометрическое скоров\n",
        "  #X[\"external_scoring_rating_geom_mean\"] = (X[\"external_scoring_rating_1\"]*X[\"external_scoring_rating_2\"]*X[\"external_scoring_rating_3\"])**(1/3)\n",
        "\n",
        "  # Среднее гармоническое скоров\n",
        "  #X[\"garm_mean\"] = 3/(1/X[\"external_scoring_rating_1\"] + 1/X[\"external_scoring_rating_2\"] + 1/X[\"external_scoring_rating_3\"])\n",
        "\n",
        "  # Отношение между основными фин. показателями\n",
        "  X[\"ratio_credit_to_annuity\"] = X['amount_credit']/X['amount_annuity']\n",
        "  X[\"ratio_annuity_to_salary\"] = X['amount_annuity']/X['total_salary']\n",
        "  X[\"ratio_credit_to_salary\"] = X['amount_credit']/X['total_salary']\n",
        "\n",
        "  X[\"ratio_credit_to_annuity_age\"] = X['amount_credit']/X['amount_annuity']/X['age']\n",
        "\n",
        "  # Отношение фин. показателей к возрасту и временным фичам\n",
        "  X[\"ratio_annuity_to_age\"] = X['amount_annuity']/X['age']\n",
        "  X[\"ratio_credit_to_age\"] = X['amount_credit']/X['age']\n",
        "  X[\"ratio_salary_to_age\"] = X['total_salary']/X['age']\n",
        "  X[\"ratio_salary_to_experience\"] = X['total_salary']/X['days_on_last_job']\n",
        "  X[\"ratio_salary_to_experience\"] = X['amount_credit']/X['days_on_last_job']\n",
        "  X[\"ratio_annuity_to_experience\"] = X['amount_annuity']/X['days_on_last_job']\n",
        "\n",
        "  # Отношение временных признаков\n",
        "  X[\"ratio_age_to_experience\"] = X['age'] / X[\"days_on_last_job\"]\n",
        "  X[\"ratio_salary_to_region_population\"] = X['total_salary'] * X[\"region_population\"]\n",
        "  X[\"ratio_car_to_experience\"] = X['own_car_age'] / X[\"days_on_last_job\"]\n",
        "  X[\"ratio_car_to_age\"] = X[\"own_car_age\"] / X[\"age\"]\n",
        "\n",
        "  # Произведение фин. показателей кредита на вероятность дефолта\n",
        "  X[\"expected_total_loss_1\"] = X[\"external_scoring_rating_1\"] * X[\"amount_credit\"]\n",
        "  X[\"expected_total_loss_2\"] = X[\"external_scoring_rating_2\"] * X[\"amount_credit\"]\n",
        "  X[\"expected_total_loss_3\"] = X[\"external_scoring_rating_3\"] * X[\"amount_credit\"]\n",
        "  X[\"expected_monthly_loss_1\"] = X[\"external_scoring_rating_1\"] * X[\"amount_annuity\"]\n",
        "  X[\"expected_monthly_loss_2\"] = X[\"external_scoring_rating_2\"] * X[\"amount_annuity\"]\n",
        "  X[\"expected_monthly_loss_3\"] = X[\"external_scoring_rating_3\"] * X[\"amount_annuity\"]\n",
        "\n",
        "  #client_profile['TOTAL_SALARY'] = client_profile['TOTAL_SALARY'].apply(lambda x: np.log(x))\n",
        "  #client_profile['AMOUNT_CREDIT'] = client_profile['AMOUNT_CREDIT'].apply(lambda x: np.log(x))\n",
        "  #client_profile['AMOUNT_ANNUITY'] = client_profile['AMOUNT_ANNUITY'].apply(lambda x: np.log(x))\n",
        "  #client_profile['DAYS_ON_LAST_JOB'] = (client_profile['DAYS_ON_LAST_JOB'] + 1).apply(lambda x: np.log(x))\n",
        "\n",
        "  #train_ext = pd.merge(train_ext, mean_credit_salary, how='left', on='EDUCATION_LEVEL')\n",
        "  #train_ext['mean_salary'] = train_ext['mean_salary'] - train_ext['TOTAL_SALARY']\n",
        "  #train_ext['mean_credit'] = train_ext['mean_credit'] - train_ext['AMOUNT_CREDIT']\n",
        "\n",
        "  #train_ext = pd.merge(train_ext, mean_scoring_by_educ, how='left', on='EDUCATION_LEVEL')\n",
        "  #train_ext['mean_scoring_1'] = train_ext['mean_scoring_1'] - train_ext['EXTERNAL_SCORING_RATING_1']\n",
        "  #train_ext['mean_scoring_2'] = train_ext['mean_scoring_2'] - train_ext['EXTERNAL_SCORING_RATING_2']\n",
        "  #train_ext['mean_scoring_3'] = train_ext['mean_scoring_3'] - train_ext['EXTERNAL_SCORING_RATING_3']\n",
        "\n",
        "  #mean_credit_salary = client_profile.groupby('EDUCATION_LEVEL').agg(\n",
        "  #mean_salary = pd.NamedAgg(column = 'TOTAL_SALARY', aggfunc = 'mean'),\n",
        "  #mean_credit = pd.NamedAgg(column = 'AMOUNT_CREDIT', aggfunc = 'mean'))\n",
        "\n",
        "  #mean_scoring_by_educ = client_profile.groupby('EDUCATION_LEVEL').agg(\n",
        "  #mean_scoring_1 = pd.NamedAgg(column = 'EXTERNAL_SCORING_RATING_1', aggfunc = 'mean'),\n",
        "  #mean_scoring_2 = pd.NamedAgg(column = 'EXTERNAL_SCORING_RATING_2', aggfunc = 'mean'),\n",
        "  #mean_scoring_3 = pd.NamedAgg(column = 'EXTERNAL_SCORING_RATING_3', aggfunc = 'mean'))\n",
        "\n",
        "  #data_ext = pd.merge(data_ext, mean_credit_salary, how='left', on='EDUCATION_LEVEL')\n",
        "  #data_ext['mean_salary'] = data_ext['mean_salary'] - data_ext['TOTAL_SALARY']\n",
        "  #data_ext['mean_credit'] = data_ext['mean_credit'] - data_ext['AMOUNT_CREDIT']\n",
        "\n",
        "  #data_ext = pd.merge(data_ext, mean_scoring_by_educ, how='left', on='EDUCATION_LEVEL')\n",
        "  #data_ext['mean_scoring_1'] = data_ext['mean_scoring_1'] - data_ext['EXTERNAL_SCORING_RATING_1']\n",
        "  #data_ext['mean_scoring_2'] = data_ext['mean_scoring_2'] - data_ext['EXTERNAL_SCORING_RATING_2']\n",
        "  #data_ext['mean_scoring_3'] = data_ext['mean_scoring_3'] - data_ext['EXTERNAL_SCORING_RATING_3']\n",
        "\n",
        "  return X"
      ],
      "execution_count": null,
      "outputs": []
    },
    {
      "cell_type": "markdown",
      "metadata": {
        "id": "-g--6Du22als"
      },
      "source": [
        "## Обучение модели lightgbm"
      ]
    },
    {
      "cell_type": "code",
      "metadata": {
        "id": "ikiiseTN2eHl",
        "colab": {
          "base_uri": "https://localhost:8080/"
        },
        "outputId": "96a4da42-260e-4ca7-c89c-59933a87ca43"
      },
      "source": [
        "data = get_input(\"train.csv\")\n",
        "test = get_input(\"test.csv\")\n",
        "client_profile = get_input(\"client_profile.csv\")\n",
        "application_history = get_input(\"applications_history.csv\")\n",
        "\n",
        "client_profile = create_client_profile_features(client_profile)\n",
        "data_ext = pd.merge(data, client_profile, how='left', on='application_number')\n",
        "\n",
        "categorical_features = data_ext.select_dtypes(include=[np.object])\n",
        "categorical_feature_names = categorical_features.columns.to_list()\n",
        "\n",
        "for feature in categorical_feature_names:\n",
        "    data_ext[feature] = pd.Series(data_ext[feature], dtype=\"category\")\n",
        "\n",
        "train_ext, valid_ext = train_test_split(\n",
        "    data_ext, train_size=0.7, shuffle=True, random_state=1,\n",
        ")\n",
        "\n",
        "train_ext.reset_index(inplace=True, drop=True)\n",
        "valid_ext.reset_index(inplace=True, drop=True)\n",
        "\n",
        "y_train = train_ext['target']\n",
        "x_train = train_ext.drop(columns=['target'])\n",
        "\n",
        "y_valid = valid_ext['target']\n",
        "x_valid = valid_ext.drop(columns=['target'])\n",
        "\n",
        "dtrain = lgb.Dataset(\n",
        "    data=x_train, label=y_train\n",
        ")\n",
        "\n",
        "dvalid = lgb.Dataset(\n",
        "    data=x_valid, label=y_valid\n",
        ")\n",
        "\n",
        "lgbm_params = {\n",
        "    \"boosting_type \": \"gbdt\",\n",
        "    \"objective\": \"binary\",\n",
        "    \"eval_metric\": \"auc\",\n",
        "    \"learning_rate\": 0.1,\n",
        "    \"num_boost_round \": 1000,\n",
        "    \"reg_lambda\": 100,\n",
        "    \"max_depth\": 3,\n",
        "    \"n_jobs\": -1,\n",
        "    \"seed\": 27,\n",
        "    'device_type': 'cpu'\n",
        "}\n",
        "\n",
        "cv_result = lgb.cv(\n",
        "    params=lgbm_params,\n",
        "    train_set=dtrain,\n",
        "    num_boost_round=1000,\n",
        "    categorical_feature=categorical_feature_names,\n",
        "    early_stopping_rounds=100,\n",
        "    verbose_eval=10,\n",
        "    stratified=True,\n",
        "    seed=42,\n",
        "    metrics=\"auc\",\n",
        "    shuffle=True,\n",
        "    nfold=7\n",
        ")"
      ],
      "execution_count": null,
      "outputs": [
        {
          "output_type": "stream",
          "text": [
            "train.csv: shape = 110093 rows, 3 cols\n",
            "test.csv: shape = 165141 rows, 2 cols\n",
            "client_profile.csv: shape = 250000 rows, 24 cols\n",
            "applications_history.csv: shape = 1670214 rows, 26 cols\n"
          ],
          "name": "stdout"
        },
        {
          "output_type": "stream",
          "text": [
            "All-NaN slice encountered\n",
            "categorical_feature in Dataset is overridden.\n",
            "New categorical_feature is ['education_level', 'family_status', 'gender', 'name_contract_type']\n"
          ],
          "name": "stderr"
        },
        {
          "output_type": "stream",
          "text": [
            "[10]\tcv_agg's auc: 0.699252 + 0.00558062\n",
            "[20]\tcv_agg's auc: 0.704168 + 0.00634812\n",
            "[30]\tcv_agg's auc: 0.712321 + 0.00737104\n",
            "[40]\tcv_agg's auc: 0.716163 + 0.00737745\n",
            "[50]\tcv_agg's auc: 0.718725 + 0.0075106\n",
            "[60]\tcv_agg's auc: 0.720408 + 0.00724306\n",
            "[70]\tcv_agg's auc: 0.721792 + 0.00734874\n",
            "[80]\tcv_agg's auc: 0.722988 + 0.00698341\n",
            "[90]\tcv_agg's auc: 0.724141 + 0.00688549\n",
            "[100]\tcv_agg's auc: 0.725164 + 0.00688784\n",
            "[110]\tcv_agg's auc: 0.725929 + 0.00685216\n",
            "[120]\tcv_agg's auc: 0.726222 + 0.00652685\n",
            "[130]\tcv_agg's auc: 0.726543 + 0.0066421\n",
            "[140]\tcv_agg's auc: 0.726922 + 0.00645236\n",
            "[150]\tcv_agg's auc: 0.727324 + 0.00617475\n",
            "[160]\tcv_agg's auc: 0.727364 + 0.00611501\n",
            "[170]\tcv_agg's auc: 0.727371 + 0.00664995\n",
            "[180]\tcv_agg's auc: 0.727374 + 0.00668319\n",
            "[190]\tcv_agg's auc: 0.727551 + 0.00660453\n",
            "[200]\tcv_agg's auc: 0.727595 + 0.00669238\n",
            "[210]\tcv_agg's auc: 0.727476 + 0.00685938\n",
            "[220]\tcv_agg's auc: 0.727484 + 0.00656768\n",
            "[230]\tcv_agg's auc: 0.727393 + 0.00650261\n",
            "[240]\tcv_agg's auc: 0.727731 + 0.00630916\n",
            "[250]\tcv_agg's auc: 0.727919 + 0.00618262\n",
            "[260]\tcv_agg's auc: 0.728011 + 0.006252\n",
            "[270]\tcv_agg's auc: 0.728192 + 0.00607293\n",
            "[280]\tcv_agg's auc: 0.728496 + 0.00597029\n",
            "[290]\tcv_agg's auc: 0.72872 + 0.00592834\n",
            "[300]\tcv_agg's auc: 0.728542 + 0.00616769\n",
            "[310]\tcv_agg's auc: 0.728407 + 0.00604334\n",
            "[320]\tcv_agg's auc: 0.728326 + 0.00598107\n",
            "[330]\tcv_agg's auc: 0.728345 + 0.00589376\n",
            "[340]\tcv_agg's auc: 0.728677 + 0.00616831\n",
            "[350]\tcv_agg's auc: 0.728283 + 0.0059436\n",
            "[360]\tcv_agg's auc: 0.728612 + 0.00592459\n",
            "[370]\tcv_agg's auc: 0.728562 + 0.00582886\n",
            "[380]\tcv_agg's auc: 0.728522 + 0.00584219\n",
            "[390]\tcv_agg's auc: 0.728572 + 0.00590566\n"
          ],
          "name": "stdout"
        }
      ]
    },
    {
      "cell_type": "code",
      "metadata": {
        "colab": {
          "base_uri": "https://localhost:8080/"
        },
        "id": "x5Q_J8Ypwy1U",
        "outputId": "830e17c9-6081-45fd-edfe-9fc38f15d7d2"
      },
      "source": [
        "cv = KFold(n_splits=7, random_state=435, shuffle=True)\n",
        "\n",
        "lgbm_params = {\n",
        "    \"boosting_type \": \"gbdt\",\n",
        "    \"objective\": \"binary\",\n",
        "    #\"eval_metric\": \"auc\",\n",
        "    \"learning_rate\": 0.1,\n",
        "    \"num_boost_round\": 290,\n",
        "    \"reg_lambda\": 100,\n",
        "    \"max_depth\": 3,\n",
        "    \"n_jobs\": -1,\n",
        "    \"seed\": 27,\n",
        "    'device_type': 'cpu'\n",
        "}\n",
        "\n",
        "lgb_estimators, lgb_oof = lightgbm_cv_fit(\n",
        "    lgbm_params, x_train, y_train, cv, categorical=categorical_feature_names\n",
        ")\n",
        "\n",
        "print(f\"Out of fold ROC AUC { metrics.roc_auc_score(y_train, lgb_oof)}\")"
      ],
      "execution_count": null,
      "outputs": [
        {
          "output_type": "stream",
          "text": [
            "Sat Apr 24 06:45:39 2021, Cross-Validation, 77065 rows, 56 cols\n"
          ],
          "name": "stdout"
        },
        {
          "output_type": "stream",
          "text": [
            "Found `num_boost_round` in params. Will use it instead of argument\n",
            "categorical_feature in Dataset is overridden.\n",
            "New categorical_feature is ['education_level', 'family_status', 'gender', 'name_contract_type']\n"
          ],
          "name": "stderr"
        },
        {
          "output_type": "stream",
          "text": [
            "Fold 1, Valid score = 0.72515\n"
          ],
          "name": "stdout"
        },
        {
          "output_type": "stream",
          "text": [
            "Found `num_boost_round` in params. Will use it instead of argument\n",
            "categorical_feature in Dataset is overridden.\n",
            "New categorical_feature is ['education_level', 'family_status', 'gender', 'name_contract_type']\n"
          ],
          "name": "stderr"
        },
        {
          "output_type": "stream",
          "text": [
            "Fold 2, Valid score = 0.70784\n"
          ],
          "name": "stdout"
        },
        {
          "output_type": "stream",
          "text": [
            "Found `num_boost_round` in params. Will use it instead of argument\n",
            "categorical_feature in Dataset is overridden.\n",
            "New categorical_feature is ['education_level', 'family_status', 'gender', 'name_contract_type']\n"
          ],
          "name": "stderr"
        },
        {
          "output_type": "stream",
          "text": [
            "Fold 3, Valid score = 0.73006\n"
          ],
          "name": "stdout"
        },
        {
          "output_type": "stream",
          "text": [
            "Found `num_boost_round` in params. Will use it instead of argument\n",
            "categorical_feature in Dataset is overridden.\n",
            "New categorical_feature is ['education_level', 'family_status', 'gender', 'name_contract_type']\n"
          ],
          "name": "stderr"
        },
        {
          "output_type": "stream",
          "text": [
            "Fold 4, Valid score = 0.73091\n"
          ],
          "name": "stdout"
        },
        {
          "output_type": "stream",
          "text": [
            "Found `num_boost_round` in params. Will use it instead of argument\n",
            "categorical_feature in Dataset is overridden.\n",
            "New categorical_feature is ['education_level', 'family_status', 'gender', 'name_contract_type']\n"
          ],
          "name": "stderr"
        },
        {
          "output_type": "stream",
          "text": [
            "Fold 5, Valid score = 0.71827\n"
          ],
          "name": "stdout"
        },
        {
          "output_type": "stream",
          "text": [
            "Found `num_boost_round` in params. Will use it instead of argument\n",
            "categorical_feature in Dataset is overridden.\n",
            "New categorical_feature is ['education_level', 'family_status', 'gender', 'name_contract_type']\n"
          ],
          "name": "stderr"
        },
        {
          "output_type": "stream",
          "text": [
            "Fold 6, Valid score = 0.73286\n"
          ],
          "name": "stdout"
        },
        {
          "output_type": "stream",
          "text": [
            "Found `num_boost_round` in params. Will use it instead of argument\n",
            "categorical_feature in Dataset is overridden.\n",
            "New categorical_feature is ['education_level', 'family_status', 'gender', 'name_contract_type']\n"
          ],
          "name": "stderr"
        },
        {
          "output_type": "stream",
          "text": [
            "Fold 7, Valid score = 0.74588\n",
            "Score by each fold: [0.72515, 0.70784, 0.73006, 0.73091, 0.71827, 0.73286, 0.74588]\n",
            "=================================================================\n",
            "Out of fold ROC AUC 0.7267272980536322\n"
          ],
          "name": "stdout"
        }
      ]
    },
    {
      "cell_type": "code",
      "metadata": {
        "colab": {
          "base_uri": "https://localhost:8080/"
        },
        "id": "OWpmtVl0k7L6",
        "outputId": "3ff75922-bbe3-4907-b425-d2494abee505"
      },
      "source": [
        "result = np.zeros((7, x_valid.shape[0]))\n",
        "for i, estimator in enumerate(lgb_estimators):\n",
        "  result[i] = estimator.predict_proba(x_valid)[:,1]\n",
        "\n",
        "result_mean = np.mean(result, axis=0)\n",
        "result_max = np.max(result, axis=0)\n",
        "result_min = np.min(result, axis=0)\n",
        "\n",
        "metrics.roc_auc_score(y_valid, result_mean)"
      ],
      "execution_count": null,
      "outputs": [
        {
          "output_type": "execute_result",
          "data": {
            "text/plain": [
              "0.7273428420299424"
            ]
          },
          "metadata": {
            "tags": []
          },
          "execution_count": 36
        }
      ]
    },
    {
      "cell_type": "markdown",
      "metadata": {
        "id": "vK79LWYd3CTk"
      },
      "source": [
        "## Feature selection"
      ]
    },
    {
      "cell_type": "code",
      "metadata": {
        "colab": {
          "base_uri": "https://localhost:8080/"
        },
        "id": "Nd4vHBefEWU-",
        "outputId": "b2c302e6-f53b-4a9d-acba-5d21800bf5e7"
      },
      "source": [
        "lgbm_params = {\n",
        "    \"boosting_type \": \"gbdt\",\n",
        "    \"objective\": \"binary\",\n",
        "    #\"eval_metric\": \"auc\",\n",
        "    \"learning_rate\": 0.1,\n",
        "    \"num_boost_round\": 290,\n",
        "    \"reg_lambda\": 100,\n",
        "    \"max_depth\": 3,\n",
        "    \"n_jobs\": -1,\n",
        "    \"seed\": 27,\n",
        "    'device_type': 'cpu'\n",
        "}\n",
        "\n",
        "model_lgb = lgb.LGBMClassifier(**lgbm_params)\n",
        "model_lgb.fit(x_train, y_train, categorical_feature=categorical_feature_names)"
      ],
      "execution_count": null,
      "outputs": [
        {
          "output_type": "stream",
          "text": [
            "Found `num_boost_round` in params. Will use it instead of argument\n",
            "categorical_feature in Dataset is overridden.\n",
            "New categorical_feature is ['education_level', 'family_status', 'gender', 'name_contract_type']\n"
          ],
          "name": "stderr"
        },
        {
          "output_type": "execute_result",
          "data": {
            "text/plain": [
              "LGBMClassifier(boosting_type='gbdt', boosting_type ='gbdt', class_weight=None,\n",
              "               colsample_bytree=1.0, device_type='cpu', importance_type='split',\n",
              "               learning_rate=0.1, max_depth=3, min_child_samples=20,\n",
              "               min_child_weight=0.001, min_split_gain=0.0, n_estimators=100,\n",
              "               n_jobs=-1, num_boost_round=290, num_leaves=31,\n",
              "               objective='binary', random_state=None, reg_alpha=0.0,\n",
              "               reg_lambda=100, seed=27, silent=True, subsample=1.0,\n",
              "               subsample_for_bin=200000, subsample_freq=0)"
            ]
          },
          "metadata": {
            "tags": []
          },
          "execution_count": 37
        }
      ]
    },
    {
      "cell_type": "code",
      "metadata": {
        "id": "scn3Th1DMHiZ",
        "colab": {
          "base_uri": "https://localhost:8080/",
          "height": 513
        },
        "outputId": "7f30070f-b9ad-41d8-ee86-af8076a6927c"
      },
      "source": [
        "top_features = plot_feature_importance(model_lgb.feature_importances_, x_valid.columns, 'CATBoost')"
      ],
      "execution_count": null,
      "outputs": [
        {
          "output_type": "display_data",
          "data": {
            "image/png": "[encoded data removed]",
            "text/plain": [
              "<Figure size 720x576 with 1 Axes>"
            ]
          },
          "metadata": {
            "tags": [],
            "needs_background": "light"
          }
        }
      ]
    },
    {
      "cell_type": "markdown",
      "metadata": {
        "id": "wxxSfosz9pQY"
      },
      "source": [
        "### Permutation importance"
      ]
    },
    {
      "cell_type": "code",
      "metadata": {
        "colab": {
          "base_uri": "https://localhost:8080/",
          "height": 513
        },
        "id": "0YVo4T63CKcI",
        "outputId": "e1cac6ca-704a-4a9c-a4d2-4221ebfac338"
      },
      "source": [
        "importance = permutation_importance(model_lgb, x_valid, y_valid, scoring='roc_auc', n_jobs=6, random_state=27)\n",
        "top_features = plot_feature_importance(importance['importances_mean'], x_valid.columns, 'Permutation')"
      ],
      "execution_count": null,
      "outputs": [
        {
          "output_type": "display_data",
          "data": {
            "image/png": "[encoded data removed]",
            "text/plain": [
              "<Figure size 720x576 with 1 Axes>"
            ]
          },
          "metadata": {
            "tags": [],
            "needs_background": "light"
          }
        }
      ]
    },
    {
      "cell_type": "code",
      "metadata": {
        "colab": {
          "base_uri": "https://localhost:8080/"
        },
        "id": "RGUEUeJhrrTX",
        "outputId": "3e3ac940-b479-40b7-cbe7-ffc932118671"
      },
      "source": [
        "features_to_delete_permut = top_features[-30:]\n",
        "features_to_delete_permut"
      ],
      "execution_count": null,
      "outputs": [
        {
          "output_type": "execute_result",
          "data": {
            "text/plain": [
              "['amount_credit',\n",
              " 'amt_req_credit_bureau_year',\n",
              " 'ratio_salary_to_experience',\n",
              " 'ratio_salary_to_region_population',\n",
              " 'region_population',\n",
              " 'expected_total_loss_1',\n",
              " 'ratio_credit_to_age',\n",
              " 'external_scoring_rating_2',\n",
              " 'ratio_annuity_to_age',\n",
              " 'expected_monthly_loss_1',\n",
              " 'flag_phone',\n",
              " 'expected_total_loss_2',\n",
              " 'total_salary',\n",
              " 'ratio_scoring_2_to_scoring_3',\n",
              " 'external_scoring_rating_diap',\n",
              " 'ratio_car_to_experience',\n",
              " 'expected_total_loss_3',\n",
              " 'flag_email',\n",
              " 'amt_req_credit_bureau_day',\n",
              " 'amt_req_credit_bureau_mon',\n",
              " 'childrens',\n",
              " 'amt_req_credit_bureau_week',\n",
              " 'family_size',\n",
              " 'ratio_annuity_to_salary',\n",
              " 'amt_req_credit_bureau_hour',\n",
              " 'application_number',\n",
              " 'ratio_scoring_1_to_scoring_3',\n",
              " 'ratio_credit_to_salary',\n",
              " 'ratio_salary_to_age',\n",
              " 'external_scoring_rating_var']"
            ]
          },
          "metadata": {
            "tags": []
          },
          "execution_count": 60
        }
      ]
    },
    {
      "cell_type": "markdown",
      "metadata": {
        "id": "2K6AKH8pDsw5"
      },
      "source": [
        "### SHAP importance"
      ]
    },
    {
      "cell_type": "code",
      "metadata": {
        "id": "WeWZrytf_gdG",
        "colab": {
          "base_uri": "https://localhost:8080/"
        },
        "outputId": "086b9919-65c0-464f-b05e-22dc902f3bef"
      },
      "source": [
        "explainer = shap.TreeExplainer(model_lgb)\n",
        "shap_values = explainer.shap_values(x_valid, y_valid)"
      ],
      "execution_count": null,
      "outputs": [
        {
          "output_type": "stream",
          "text": [
            "LightGBM binary classifier with TreeExplainer shap values output has changed to a list of ndarray\n"
          ],
          "name": "stderr"
        }
      ]
    },
    {
      "cell_type": "code",
      "metadata": {
        "id": "R7H_fnkHI8YF"
      },
      "source": [
        "#shap.initjs()\n",
        "#shap.force_plot(explainer.expected_value, shap_values[0,:], x_valid.iloc[0,:])"
      ],
      "execution_count": null,
      "outputs": []
    },
    {
      "cell_type": "code",
      "metadata": {
        "id": "ZUfUZ7NZJ10k",
        "colab": {
          "base_uri": "https://localhost:8080/",
          "height": 1000
        },
        "outputId": "cd8ce41c-0ac7-4a84-d426-88617b115fbd"
      },
      "source": [
        "# feature importance plot\n",
        "shap.summary_plot(shap_values, x_valid, plot_type=\"bar\", max_display=x_valid.shape[1])"
      ],
      "execution_count": null,
      "outputs": [
        {
          "output_type": "display_data",
          "data": {
            "image/png": "[encoded data removed]",
            "text/plain": [
              "<Figure size 576x1288.8 with 1 Axes>"
            ]
          },
          "metadata": {
            "tags": [],
            "needs_background": "light"
          }
        }
      ]
    },
    {
      "cell_type": "code",
      "metadata": {
        "id": "Bo2WpnHd70hO",
        "colab": {
          "base_uri": "https://localhost:8080/",
          "height": 197
        },
        "outputId": "96e87ded-f706-4ab1-d5e2-14704fb2c007"
      },
      "source": [
        "vals= np.abs(shap_values[0]).mean(0) \n",
        "feature_importance = pd.DataFrame(list(zip(x_valid.columns, vals)), columns=['col_name','feature_importance_vals']) \n",
        "feature_importance.sort_values(by=['feature_importance_vals'], ascending=False, inplace=True)\n",
        "feature_importance.head()"
      ],
      "execution_count": null,
      "outputs": [
        {
          "output_type": "execute_result",
          "data": {
            "text/html": [
              "<div>\n",
              "<style scoped>\n",
              "    .dataframe tbody tr th:only-of-type {\n",
              "        vertical-align: middle;\n",
              "    }\n",
              "\n",
              "    .dataframe tbody tr th {\n",
              "        vertical-align: top;\n",
              "    }\n",
              "\n",
              "    .dataframe thead th {\n",
              "        text-align: right;\n",
              "    }\n",
              "</style>\n",
              "<table border=\"1\" class=\"dataframe\">\n",
              "  <thead>\n",
              "    <tr style=\"text-align: right;\">\n",
              "      <th></th>\n",
              "      <th>col_name</th>\n",
              "      <th>feature_importance_vals</th>\n",
              "    </tr>\n",
              "  </thead>\n",
              "  <tbody>\n",
              "    <tr>\n",
              "      <th>2</th>\n",
              "      <td>external_scoring_rating_mean</td>\n",
              "      <td>0.348390</td>\n",
              "    </tr>\n",
              "    <tr>\n",
              "      <th>35</th>\n",
              "      <td>ratio_credit_to_annuity</td>\n",
              "      <td>0.139855</td>\n",
              "    </tr>\n",
              "    <tr>\n",
              "      <th>10</th>\n",
              "      <td>education_level</td>\n",
              "      <td>0.104495</td>\n",
              "    </tr>\n",
              "    <tr>\n",
              "      <th>19</th>\n",
              "      <td>external_scoring_rating_3</td>\n",
              "      <td>0.095423</td>\n",
              "    </tr>\n",
              "    <tr>\n",
              "      <th>23</th>\n",
              "      <td>gender</td>\n",
              "      <td>0.079617</td>\n",
              "    </tr>\n",
              "  </tbody>\n",
              "</table>\n",
              "</div>"
            ],
            "text/plain": [
              "                        col_name  feature_importance_vals\n",
              "2   external_scoring_rating_mean                 0.348390\n",
              "35       ratio_credit_to_annuity                 0.139855\n",
              "10               education_level                 0.104495\n",
              "19     external_scoring_rating_3                 0.095423\n",
              "23                        gender                 0.079617"
            ]
          },
          "metadata": {
            "tags": []
          },
          "execution_count": 142
        }
      ]
    },
    {
      "cell_type": "code",
      "metadata": {
        "id": "PAG9KBSC9x45"
      },
      "source": [
        "features_to_delete_shap = feature_importance['col_name'].to_list()[-20:]"
      ],
      "execution_count": null,
      "outputs": []
    },
    {
      "cell_type": "code",
      "metadata": {
        "id": "7gLZnSSY-Rjm",
        "colab": {
          "base_uri": "https://localhost:8080/"
        },
        "outputId": "88f82f13-37b6-47c0-f5a1-117e2b21c803"
      },
      "source": [
        "features_to_delete_shap"
      ],
      "execution_count": null,
      "outputs": [
        {
          "output_type": "execute_result",
          "data": {
            "text/plain": [
              "['region_population',\n",
              " 'external_scoring_rating_min',\n",
              " 'amt_req_credit_bureau_qrt',\n",
              " 'ratio_credit_to_age',\n",
              " 'external_scoring_prod',\n",
              " 'external_scoring_rating_diap',\n",
              " 'amt_req_credit_bureau_year',\n",
              " 'ratio_annuity_to_age',\n",
              " 'ratio_salary_to_experience',\n",
              " 'expected_monthly_loss_3',\n",
              " 'total_salary',\n",
              " 'ratio_scoring_1_to_scoring_2',\n",
              " 'expected_total_loss_2',\n",
              " 'days_on_last_job',\n",
              " 'ratio_salary_to_region_population',\n",
              " 'expected_total_loss_1',\n",
              " 'amount_credit',\n",
              " 'ratio_scoring_2_to_scoring_3',\n",
              " 'expected_monthly_loss_1',\n",
              " 'flag_phone']"
            ]
          },
          "metadata": {
            "tags": []
          },
          "execution_count": 144
        }
      ]
    },
    {
      "cell_type": "code",
      "metadata": {
        "id": "7WHtU4TEMSsA"
      },
      "source": [
        "shap.summary_plot(shap_values, x_valid)"
      ],
      "execution_count": null,
      "outputs": []
    },
    {
      "cell_type": "markdown",
      "metadata": {
        "id": "N2Ustcv3PCeY"
      },
      "source": [
        "## Обучение модели на усеченном наборе признаков"
      ]
    },
    {
      "cell_type": "code",
      "metadata": {
        "id": "7xDFTB-hF5H4",
        "colab": {
          "base_uri": "https://localhost:8080/"
        },
        "outputId": "36a1718d-fe50-4e24-f52f-83cab6de41d7"
      },
      "source": [
        "data = get_input(\"train.csv\")\n",
        "test = get_input(\"test.csv\")\n",
        "client_profile = get_input(\"client_profile.csv\")\n",
        "application_history = get_input(\"applications_history.csv\")\n",
        "\n",
        "client_profile = create_client_profile_features(client_profile)\n",
        "data_ext = pd.merge(data, client_profile, how='left', on='application_number')\n",
        "\n",
        "features_to_delete = set(features_to_delete_permut)\n",
        "#features_to_delete = set(features_to_delete_shap)\n",
        "columns_to_learn = list(set(data_ext.columns.to_list()) - features_to_delete)\n",
        "\n",
        "data_ext = data_ext[columns_to_learn]\n",
        "\n",
        "if 'application_number' in columns_to_learn:\n",
        "  columns_to_learn.remove('application_number')\n",
        "\n",
        "categorical_features = data_ext.select_dtypes(include=[np.object])\n",
        "categorical_feature_names = categorical_features.columns.to_list()\n",
        "\n",
        "for feature in categorical_feature_names:\n",
        "    data_ext[feature] = pd.Series(data_ext[feature], dtype=\"category\")\n",
        "\n",
        "train_ext, valid_ext = train_test_split(\n",
        "    data_ext, train_size=0.7, shuffle=True, random_state=1,\n",
        ")\n",
        "\n",
        "train_ext.reset_index(inplace=True, drop=True)\n",
        "valid_ext.reset_index(inplace=True, drop=True)\n",
        "\n",
        "y_train = train_ext['target']\n",
        "x_train = train_ext.drop(columns=['target'])\n",
        "\n",
        "y_valid = valid_ext['target']\n",
        "x_valid = valid_ext.drop(columns=['target'])\n",
        "\n",
        "dtrain = lgb.Dataset(\n",
        "    data=x_train, label=y_train\n",
        ")\n",
        "\n",
        "dvalid = lgb.Dataset(\n",
        "    data=x_valid, label=y_valid\n",
        ")\n",
        "\n",
        "lgbm_params = {\n",
        "    \"boosting_type \": \"gbdt\",\n",
        "    \"objective\": \"binary\",\n",
        "    \"eval_metric\": \"auc\",\n",
        "    \"learning_rate\": 0.1,\n",
        "    \"num_boost_round \": 1000,\n",
        "    \"reg_lambda\": 100,\n",
        "    \"max_depth\": 3,\n",
        "    \"n_jobs\": -1,\n",
        "    \"seed\": 27,\n",
        "    'device_type': 'cpu'\n",
        "}\n",
        "\n",
        "cv_result_lgb_all_not_dummies = lgb.cv(\n",
        "    params=lgbm_params,\n",
        "    train_set=dtrain,\n",
        "    num_boost_round=1000,\n",
        "    categorical_feature=categorical_feature_names,\n",
        "    early_stopping_rounds=100,\n",
        "    verbose_eval=10,\n",
        "    stratified=True,\n",
        "    seed=42,\n",
        "    metrics=\"auc\",\n",
        "    shuffle=True,\n",
        "    nfold=7\n",
        ")"
      ],
      "execution_count": null,
      "outputs": [
        {
          "output_type": "stream",
          "text": [
            "train.csv: shape = 110093 rows, 3 cols\n",
            "test.csv: shape = 165141 rows, 2 cols\n",
            "client_profile.csv: shape = 250000 rows, 24 cols\n",
            "applications_history.csv: shape = 1670214 rows, 26 cols\n"
          ],
          "name": "stdout"
        },
        {
          "output_type": "stream",
          "text": [
            "All-NaN slice encountered\n",
            "categorical_feature in Dataset is overridden.\n",
            "New categorical_feature is ['education_level', 'family_status', 'gender', 'name_contract_type']\n"
          ],
          "name": "stderr"
        },
        {
          "output_type": "stream",
          "text": [
            "[10]\tcv_agg's auc: 0.698485 + 0.00641544\n",
            "[20]\tcv_agg's auc: 0.70396 + 0.00648819\n",
            "[30]\tcv_agg's auc: 0.711986 + 0.00731035\n",
            "[40]\tcv_agg's auc: 0.71567 + 0.00774247\n",
            "[50]\tcv_agg's auc: 0.718097 + 0.00745244\n",
            "[60]\tcv_agg's auc: 0.720116 + 0.00792152\n",
            "[70]\tcv_agg's auc: 0.721809 + 0.00761466\n",
            "[80]\tcv_agg's auc: 0.722859 + 0.00766872\n",
            "[90]\tcv_agg's auc: 0.723848 + 0.00767961\n",
            "[100]\tcv_agg's auc: 0.724792 + 0.0075045\n",
            "[110]\tcv_agg's auc: 0.72529 + 0.00739987\n",
            "[120]\tcv_agg's auc: 0.726078 + 0.00736898\n",
            "[130]\tcv_agg's auc: 0.726665 + 0.00751904\n",
            "[140]\tcv_agg's auc: 0.726993 + 0.00770983\n",
            "[150]\tcv_agg's auc: 0.727545 + 0.00761499\n",
            "[160]\tcv_agg's auc: 0.727814 + 0.00775046\n",
            "[170]\tcv_agg's auc: 0.728062 + 0.00759495\n",
            "[180]\tcv_agg's auc: 0.728287 + 0.0074838\n",
            "[190]\tcv_agg's auc: 0.728649 + 0.00727927\n",
            "[200]\tcv_agg's auc: 0.728959 + 0.00686586\n",
            "[210]\tcv_agg's auc: 0.729361 + 0.00704355\n",
            "[220]\tcv_agg's auc: 0.729709 + 0.00724005\n",
            "[230]\tcv_agg's auc: 0.729662 + 0.00706354\n",
            "[240]\tcv_agg's auc: 0.729567 + 0.00703097\n",
            "[250]\tcv_agg's auc: 0.729633 + 0.00699573\n",
            "[260]\tcv_agg's auc: 0.729741 + 0.00675638\n",
            "[270]\tcv_agg's auc: 0.729937 + 0.00671938\n",
            "[280]\tcv_agg's auc: 0.729674 + 0.00688071\n",
            "[290]\tcv_agg's auc: 0.730062 + 0.00715161\n",
            "[300]\tcv_agg's auc: 0.729936 + 0.00703736\n",
            "[310]\tcv_agg's auc: 0.730064 + 0.00704917\n",
            "[320]\tcv_agg's auc: 0.730226 + 0.0070384\n",
            "[330]\tcv_agg's auc: 0.730232 + 0.00703546\n",
            "[340]\tcv_agg's auc: 0.729888 + 0.0069373\n",
            "[350]\tcv_agg's auc: 0.729841 + 0.00687392\n",
            "[360]\tcv_agg's auc: 0.729738 + 0.00691017\n",
            "[370]\tcv_agg's auc: 0.729988 + 0.00710647\n",
            "[380]\tcv_agg's auc: 0.729832 + 0.00718172\n",
            "[390]\tcv_agg's auc: 0.729646 + 0.00707304\n",
            "[400]\tcv_agg's auc: 0.729834 + 0.0073242\n",
            "[410]\tcv_agg's auc: 0.729658 + 0.00727671\n",
            "[420]\tcv_agg's auc: 0.729734 + 0.00727678\n"
          ],
          "name": "stdout"
        }
      ]
    },
    {
      "cell_type": "code",
      "metadata": {
        "id": "0e-Y7F3hGvfR",
        "colab": {
          "base_uri": "https://localhost:8080/"
        },
        "outputId": "75203d65-68b0-4237-ad92-ac444b9a39e7"
      },
      "source": [
        "cv = KFold(n_splits=7, random_state=435, shuffle=True)\n",
        "\n",
        "lgbm_params = {\n",
        "    \"boosting_type \": \"gbdt\",\n",
        "    \"objective\": \"binary\",\n",
        "    #\"eval_metric\": \"auc\",\n",
        "    \"learning_rate\": 0.1,\n",
        "    \"num_boost_round\": 320,\n",
        "    \"reg_lambda\": 100,\n",
        "    \"max_depth\": 3,\n",
        "    \"n_jobs\": -1,\n",
        "    \"seed\": 27,\n",
        "    'device_type': 'cpu'\n",
        "}\n",
        "\n",
        "lgb_estimators, lgb_oof = lightgbm_cv_fit(\n",
        "    lgbm_params, x_train, y_train, cv, categorical=categorical_feature_names\n",
        ")\n",
        "\n",
        "print(f\"Out of fold ROC AUC { metrics.roc_auc_score(y_train, lgb_oof)}\")"
      ],
      "execution_count": null,
      "outputs": [
        {
          "output_type": "stream",
          "text": [
            "Sat Apr 24 07:21:07 2021, Cross-Validation, 77065 rows, 26 cols\n"
          ],
          "name": "stdout"
        },
        {
          "output_type": "stream",
          "text": [
            "Found `num_boost_round` in params. Will use it instead of argument\n",
            "categorical_feature in Dataset is overridden.\n",
            "New categorical_feature is ['education_level', 'family_status', 'gender', 'name_contract_type']\n"
          ],
          "name": "stderr"
        },
        {
          "output_type": "stream",
          "text": [
            "Fold 1, Valid score = 0.72665\n"
          ],
          "name": "stdout"
        },
        {
          "output_type": "stream",
          "text": [
            "Found `num_boost_round` in params. Will use it instead of argument\n",
            "categorical_feature in Dataset is overridden.\n",
            "New categorical_feature is ['education_level', 'family_status', 'gender', 'name_contract_type']\n"
          ],
          "name": "stderr"
        },
        {
          "output_type": "stream",
          "text": [
            "Fold 2, Valid score = 0.7126\n"
          ],
          "name": "stdout"
        },
        {
          "output_type": "stream",
          "text": [
            "Found `num_boost_round` in params. Will use it instead of argument\n",
            "categorical_feature in Dataset is overridden.\n",
            "New categorical_feature is ['education_level', 'family_status', 'gender', 'name_contract_type']\n"
          ],
          "name": "stderr"
        },
        {
          "output_type": "stream",
          "text": [
            "Fold 3, Valid score = 0.73179\n"
          ],
          "name": "stdout"
        },
        {
          "output_type": "stream",
          "text": [
            "Found `num_boost_round` in params. Will use it instead of argument\n",
            "categorical_feature in Dataset is overridden.\n",
            "New categorical_feature is ['education_level', 'family_status', 'gender', 'name_contract_type']\n"
          ],
          "name": "stderr"
        },
        {
          "output_type": "stream",
          "text": [
            "Fold 4, Valid score = 0.73078\n"
          ],
          "name": "stdout"
        },
        {
          "output_type": "stream",
          "text": [
            "Found `num_boost_round` in params. Will use it instead of argument\n",
            "categorical_feature in Dataset is overridden.\n",
            "New categorical_feature is ['education_level', 'family_status', 'gender', 'name_contract_type']\n"
          ],
          "name": "stderr"
        },
        {
          "output_type": "stream",
          "text": [
            "Fold 5, Valid score = 0.71708\n"
          ],
          "name": "stdout"
        },
        {
          "output_type": "stream",
          "text": [
            "Found `num_boost_round` in params. Will use it instead of argument\n",
            "categorical_feature in Dataset is overridden.\n",
            "New categorical_feature is ['education_level', 'family_status', 'gender', 'name_contract_type']\n"
          ],
          "name": "stderr"
        },
        {
          "output_type": "stream",
          "text": [
            "Fold 6, Valid score = 0.73337\n"
          ],
          "name": "stdout"
        },
        {
          "output_type": "stream",
          "text": [
            "Found `num_boost_round` in params. Will use it instead of argument\n",
            "categorical_feature in Dataset is overridden.\n",
            "New categorical_feature is ['education_level', 'family_status', 'gender', 'name_contract_type']\n"
          ],
          "name": "stderr"
        },
        {
          "output_type": "stream",
          "text": [
            "Fold 7, Valid score = 0.7477\n",
            "Score by each fold: [0.72665, 0.7126, 0.73179, 0.73078, 0.71708, 0.73337, 0.7477]\n",
            "=================================================================\n",
            "Out of fold ROC AUC 0.7275398217133645\n"
          ],
          "name": "stdout"
        }
      ]
    },
    {
      "cell_type": "code",
      "metadata": {
        "colab": {
          "base_uri": "https://localhost:8080/"
        },
        "id": "zbjNi9q7HFXb",
        "outputId": "cedcd3f3-896d-4672-89ec-b5c7c5b50d92"
      },
      "source": [
        "result = np.zeros((7, x_valid.shape[0]))\n",
        "for i, estimator in enumerate(lgb_estimators):\n",
        "  result[i] = estimator.predict_proba(x_valid)[:,1]\n",
        "\n",
        "result_mean = np.mean(result, axis=0)\n",
        "result_max = np.max(result, axis=0)\n",
        "result_min = np.min(result, axis=0)\n",
        "\n",
        "metrics.roc_auc_score(y_valid, result_mean)"
      ],
      "execution_count": null,
      "outputs": [
        {
          "output_type": "execute_result",
          "data": {
            "text/plain": [
              "0.7307574802097895"
            ]
          },
          "metadata": {
            "tags": []
          },
          "execution_count": 63
        }
      ]
    },
    {
      "cell_type": "markdown",
      "metadata": {
        "id": "E4iUg8Rvp8CS"
      },
      "source": [
        "## Жадный отбор признаков"
      ]
    },
    {
      "cell_type": "code",
      "metadata": {
        "id": "NGIft6IMKLvS"
      },
      "source": [
        "def greedy_lgbm_selector(data: pd.DataFrame,\n",
        "                         target: str,\n",
        "                         lgb_params: dict) -> dict:\n",
        "  \"\"\"\n",
        "  Жадный отбор признаков на основе lightgbm и последовательного исключения признаков из датасета.\n",
        "\n",
        "  Parameters\n",
        "  ----------\n",
        "  data: pandas.core.frame.DataFrame\n",
        "    Исходный датасет.\n",
        "  \n",
        "  target: str\n",
        "    Название целевой переменной\n",
        "  \n",
        "  lgb_params: dict\n",
        "    Параметры модели lightgbm\n",
        "\n",
        "  Returns\n",
        "  -------\n",
        "  result: dict\n",
        "    Значения качества модели при исключенных признаках.\n",
        "  \"\"\"\n",
        "\n",
        "  result = {}\n",
        "\n",
        "  train, valid = train_test_split(\n",
        "    data, train_size=0.7, shuffle=True, random_state=1,\n",
        "  )\n",
        "\n",
        "  y_train = train[target]\n",
        "  x_train = train.drop(columns=target)\n",
        "\n",
        "  y_valid = valid[target]\n",
        "  x_valid = valid.drop(columns=target)\n",
        "\n",
        "  categorical_features = x_valid.select_dtypes(include=[np.object])\n",
        "  categorical_feature_names = categorical_features.columns.to_list()\n",
        "  del categorical_features\n",
        "  for feature in categorical_feature_names:\n",
        "    x_train[feature] = pd.Series(x_train[feature], dtype=\"category\")\n",
        "    x_valid[feature] = pd.Series(x_valid[feature], dtype=\"category\")\n",
        "  \n",
        "  lgb_train = lgb.Dataset(x_train, y_train)\n",
        "  lgb_eval = lgb.Dataset(x_valid, y_valid)\n",
        "\n",
        "  model_lgbm =  lgb.train(lgbm_params,\n",
        "                lgb_train,\n",
        "                valid_sets=lgb_eval,\n",
        "                verbose_eval=False, \n",
        "                categorical_feature=categorical_feature_names,\n",
        "                num_boost_round=10000,\n",
        "                early_stopping_rounds=100)\n",
        "\n",
        "  result['initial'] = model_lgbm.best_score['valid_0']['auc']\n",
        "                       #'best iteration': model_lgbm.best_iteration_}\n",
        "  \n",
        "  print(\"=\"*50)\n",
        "  print(f\"Initial dataset: best score {model_lgbm.best_score['valid_0']['auc']}, best iteration {model_lgbm.best_iteration}\")\n",
        "  print(\"=\"*50)\n",
        "  \n",
        "  best_score = model_lgbm.best_score['valid_0']['auc']\n",
        "\n",
        "  for i in range (len(x_train.columns.to_list())):\n",
        "    feature_to_delete = None\n",
        "    for feature in x_train.columns.to_list():\n",
        "      #model_lgbm = lgb.LGBMClassifier(**lgb_params)\n",
        "      new_cat_features = categorical_feature_names.copy()\n",
        "      if feature in new_cat_features:\n",
        "        new_cat_features.remove(feature)\n",
        "      \n",
        "      lgb_train = lgb.Dataset(x_train.drop(columns=feature), y_train)\n",
        "      lgb_eval = lgb.Dataset(x_valid.drop(columns=feature), y_valid)\n",
        "\n",
        "      model_lgbm =  lgb.train(lgbm_params,\n",
        "                lgb_train,\n",
        "                valid_sets=lgb_eval,\n",
        "                verbose_eval=False, \n",
        "                categorical_feature=new_cat_features,\n",
        "                num_boost_round=10000,\n",
        "                early_stopping_rounds=100)\n",
        "      \n",
        "      if model_lgbm.best_score['valid_0']['auc'] > best_score:\n",
        "        best_score = model_lgbm.best_score['valid_0']['auc']\n",
        "        feature_to_delete = feature\n",
        "\n",
        "      print(f\"Dataset without {feature}: best score {model_lgbm.best_score['valid_0']['auc']}, best iteration {model_lgbm.best_iteration}\")\n",
        "    if feature_to_delete != None:\n",
        "      result[f'without {feature_to_delete}'] = best_score\n",
        "      x_train.drop(columns=feature_to_delete, inplace=True)\n",
        "      x_valid.drop(columns=feature_to_delete, inplace=True)\n",
        "      print(\"=\"*50)\n",
        "      print(f\"Dropped {feature_to_delete}, best score {best_score}\")\n",
        "      print(\"=\"*50)\n",
        "    else:\n",
        "      print(\"=\"*50)\n",
        "      print(\"No features to delete to improve score\")\n",
        "      break\n",
        "  return result"
      ],
      "execution_count": null,
      "outputs": []
    },
    {
      "cell_type": "code",
      "metadata": {
        "id": "NnX28vzyLjrf",
        "colab": {
          "base_uri": "https://localhost:8080/"
        },
        "outputId": "8d0684cc-f459-428a-b1e4-fdc90cc8120c"
      },
      "source": [
        "data = get_input(\"train.csv\")\n",
        "client_profile = get_input(\"client_profile.csv\")\n",
        "client_profile = create_client_profile_features(client_profile)\n",
        "data_ext = pd.merge(data, client_profile, how='left', on='application_number')\n",
        "data_ext = data_ext[columns_to_learn]\n",
        "\n",
        "lgbm_params = {\n",
        "    \"boosting_type \": \"gbdt\",\n",
        "    \"objective\": \"binary\",\n",
        "    \"metric\": \"auc\",\n",
        "    \"learning_rate\": 0.1,\n",
        "    \"reg_lambda\": 100,\n",
        "    \"max_depth\": 3,\n",
        "    \"n_jobs\": -1,\n",
        "    \"seed\": 27,\n",
        "    'device_type': 'cpu',\n",
        "    'verbose': -1,\n",
        "}"
      ],
      "execution_count": null,
      "outputs": [
        {
          "output_type": "stream",
          "text": [
            "train.csv: shape = 110093 rows, 3 cols\n",
            "client_profile.csv: shape = 250000 rows, 24 cols\n"
          ],
          "name": "stdout"
        },
        {
          "output_type": "stream",
          "text": [
            "All-NaN slice encountered\n"
          ],
          "name": "stderr"
        }
      ]
    },
    {
      "cell_type": "code",
      "metadata": {
        "id": "uk4ydhXsLumW",
        "colab": {
          "base_uri": "https://localhost:8080/"
        },
        "outputId": "df704fb1-1917-4f7d-aaa2-31b96bcbc9f8"
      },
      "source": [
        "result = greedy_lgbm_selector(data=data_ext, target='target', lgb_params=lgbm_params)"
      ],
      "execution_count": null,
      "outputs": [
        {
          "output_type": "stream",
          "text": [
            "categorical_feature in Dataset is overridden.\n",
            "New categorical_feature is ['education_level', 'family_status', 'gender', 'name_contract_type']\n",
            "categorical_feature in param dict is overridden.\n"
          ],
          "name": "stderr"
        },
        {
          "output_type": "stream",
          "text": [
            "==================================================\n",
            "Initial dataset: best score 0.7300034321146216, best iteration 539\n",
            "==================================================\n",
            "Dataset without external_scoring_rating_3: best score 0.7301368957858677, best iteration 419\n",
            "Dataset without external_scoring_rating_nanmedian: best score 0.7303899871037762, best iteration 375\n"
          ],
          "name": "stdout"
        },
        {
          "output_type": "stream",
          "text": [
            "categorical_feature in Dataset is overridden.\n",
            "New categorical_feature is ['education_level', 'family_status', 'gender']\n"
          ],
          "name": "stderr"
        },
        {
          "output_type": "stream",
          "text": [
            "Dataset without name_contract_type: best score 0.7298160512422445, best iteration 266\n"
          ],
          "name": "stdout"
        },
        {
          "output_type": "stream",
          "text": [
            "categorical_feature in Dataset is overridden.\n",
            "New categorical_feature is ['education_level', 'family_status', 'name_contract_type']\n"
          ],
          "name": "stderr"
        },
        {
          "output_type": "stream",
          "text": [
            "Dataset without gender: best score 0.7273190969970083, best iteration 382\n",
            "Dataset without amt_req_credit_bureau_qrt: best score 0.7296016690843428, best iteration 198\n"
          ],
          "name": "stdout"
        },
        {
          "output_type": "stream",
          "text": [
            "categorical_feature in Dataset is overridden.\n",
            "New categorical_feature is ['education_level', 'gender', 'name_contract_type']\n"
          ],
          "name": "stderr"
        },
        {
          "output_type": "stream",
          "text": [
            "Dataset without family_status: best score 0.7289055200872002, best iteration 220\n",
            "Dataset without ratio_scoring_1_to_scoring_2: best score 0.7303397895919338, best iteration 455\n",
            "Dataset without age: best score 0.7306287667647006, best iteration 386\n",
            "Dataset without amount_annuity: best score 0.7295969493474421, best iteration 401\n"
          ],
          "name": "stdout"
        },
        {
          "output_type": "stream",
          "text": [
            "categorical_feature in Dataset is overridden.\n",
            "New categorical_feature is ['family_status', 'gender', 'name_contract_type']\n"
          ],
          "name": "stderr"
        },
        {
          "output_type": "stream",
          "text": [
            "Dataset without education_level: best score 0.7286087437626299, best iteration 492\n",
            "Dataset without external_scoring_weight: best score 0.729951356464581, best iteration 313\n",
            "Dataset without expected_monthly_loss_2: best score 0.7297929098965883, best iteration 431\n",
            "Dataset without ratio_age_to_experience: best score 0.7298986405401545, best iteration 252\n",
            "Dataset without own_car_age: best score 0.7309143779235538, best iteration 400\n",
            "Dataset without ratio_annuity_to_experience: best score 0.7300806674990965, best iteration 472\n",
            "Dataset without ratio_credit_to_annuity_age: best score 0.7299010979742255, best iteration 424\n",
            "Dataset without ratio_credit_to_annuity: best score 0.7244608999433338, best iteration 351\n",
            "Dataset without days_on_last_job: best score 0.7301311028271394, best iteration 396\n",
            "Dataset without external_scoring_rating_1: best score 0.7295136100138231, best iteration 281\n",
            "Dataset without ratio_age_to_childrens: best score 0.7304395260476791, best iteration 304\n",
            "Dataset without expected_monthly_loss_3: best score 0.7301509269416925, best iteration 467\n",
            "Dataset without external_scoring_rating_min: best score 0.7305830206843018, best iteration 294\n",
            "Dataset without external_scoring_prod: best score 0.730049544066098, best iteration 399\n",
            "Dataset without external_scoring_rating_mean: best score 0.7304884552064528, best iteration 503\n",
            "Dataset without external_scoring_rating_max: best score 0.7307973845486497, best iteration 351\n",
            "Dataset without ratio_car_to_age: best score 0.7306149856207789, best iteration 288\n",
            "==================================================\n",
            "Dropped own_car_age, best score 0.7309143779235538\n",
            "==================================================\n",
            "Dataset without external_scoring_rating_3: best score 0.7311203389488202, best iteration 329\n",
            "Dataset without external_scoring_rating_nanmedian: best score 0.7300775149099782, best iteration 235\n",
            "Dataset without name_contract_type: best score 0.7309652888839976, best iteration 527\n",
            "Dataset without gender: best score 0.7290776929184531, best iteration 524\n",
            "Dataset without amt_req_credit_bureau_qrt: best score 0.7310871483442334, best iteration 302\n",
            "Dataset without family_status: best score 0.7295072499549247, best iteration 392\n",
            "Dataset without ratio_scoring_1_to_scoring_2: best score 0.7299530516672403, best iteration 303\n",
            "Dataset without age: best score 0.7309676975352583, best iteration 352\n",
            "Dataset without amount_annuity: best score 0.7308150927088041, best iteration 485\n",
            "Dataset without education_level: best score 0.7288028871520907, best iteration 372\n",
            "Dataset without external_scoring_weight: best score 0.7308882425329127, best iteration 253\n",
            "Dataset without expected_monthly_loss_2: best score 0.7314179384833152, best iteration 516\n",
            "Dataset without ratio_age_to_experience: best score 0.7295598317266226, best iteration 239\n",
            "Dataset without ratio_annuity_to_experience: best score 0.7311794271278477, best iteration 350\n",
            "Dataset without ratio_credit_to_annuity_age: best score 0.7305455920730665, best iteration 397\n",
            "Dataset without ratio_credit_to_annuity: best score 0.7257588458845651, best iteration 458\n",
            "Dataset without days_on_last_job: best score 0.7304530571796979, best iteration 238\n",
            "Dataset without external_scoring_rating_1: best score 0.7301389995445636, best iteration 273\n",
            "Dataset without ratio_age_to_childrens: best score 0.7310392619180308, best iteration 239\n",
            "Dataset without expected_monthly_loss_3: best score 0.7311260953204406, best iteration 294\n",
            "Dataset without external_scoring_rating_min: best score 0.7305000777110169, best iteration 446\n",
            "Dataset without external_scoring_prod: best score 0.7307426136483376, best iteration 298\n",
            "Dataset without external_scoring_rating_mean: best score 0.7307652732637417, best iteration 433\n",
            "Dataset without external_scoring_rating_max: best score 0.7318393487904595, best iteration 519\n",
            "Dataset without ratio_car_to_age: best score 0.7287765688259109, best iteration 328\n",
            "==================================================\n",
            "Dropped external_scoring_rating_max, best score 0.7318393487904595\n",
            "==================================================\n",
            "Dataset without external_scoring_rating_3: best score 0.7314893687133592, best iteration 368\n",
            "Dataset without external_scoring_rating_nanmedian: best score 0.731721306585133, best iteration 485\n",
            "Dataset without name_contract_type: best score 0.7311712682028179, best iteration 266\n",
            "Dataset without gender: best score 0.728351438829478, best iteration 234\n",
            "Dataset without amt_req_credit_bureau_qrt: best score 0.7312911092742757, best iteration 324\n",
            "Dataset without family_status: best score 0.7311552003646613, best iteration 505\n",
            "Dataset without ratio_scoring_1_to_scoring_2: best score 0.7320437853529027, best iteration 602\n",
            "Dataset without age: best score 0.7323073100943732, best iteration 483\n",
            "Dataset without amount_annuity: best score 0.7311420716908278, best iteration 260\n",
            "Dataset without education_level: best score 0.7297549934572495, best iteration 537\n",
            "Dataset without external_scoring_weight: best score 0.7320973549765101, best iteration 408\n",
            "Dataset without expected_monthly_loss_2: best score 0.7321457292308161, best iteration 293\n",
            "Dataset without ratio_age_to_experience: best score 0.7315717994671356, best iteration 555\n",
            "Dataset without ratio_annuity_to_experience: best score 0.7326514972127454, best iteration 491\n",
            "Dataset without ratio_credit_to_annuity_age: best score 0.7317621987759027, best iteration 428\n",
            "Dataset without ratio_credit_to_annuity: best score 0.7260856114417935, best iteration 332\n",
            "Dataset without days_on_last_job: best score 0.7312444302226291, best iteration 444\n",
            "Dataset without external_scoring_rating_1: best score 0.7318362388863001, best iteration 635\n",
            "Dataset without ratio_age_to_childrens: best score 0.731444110461064, best iteration 442\n",
            "Dataset without expected_monthly_loss_3: best score 0.730746723600109, best iteration 402\n",
            "Dataset without external_scoring_rating_min: best score 0.7313806501226595, best iteration 278\n",
            "Dataset without external_scoring_prod: best score 0.7321347165113812, best iteration 483\n",
            "Dataset without external_scoring_rating_mean: best score 0.7311565784790535, best iteration 419\n",
            "Dataset without ratio_car_to_age: best score 0.7306472920369282, best iteration 520\n",
            "==================================================\n",
            "Dropped ratio_annuity_to_experience, best score 0.7326514972127454\n",
            "==================================================\n",
            "Dataset without external_scoring_rating_3: best score 0.73254501653347, best iteration 549\n",
            "Dataset without external_scoring_rating_nanmedian: best score 0.732649241007767, best iteration 534\n",
            "Dataset without name_contract_type: best score 0.7321939449409884, best iteration 529\n",
            "Dataset without gender: best score 0.7293279121484028, best iteration 359\n",
            "Dataset without amt_req_credit_bureau_qrt: best score 0.7317076108111293, best iteration 458\n",
            "Dataset without family_status: best score 0.7312052759194779, best iteration 546\n",
            "Dataset without ratio_scoring_1_to_scoring_2: best score 0.7325067952015667, best iteration 422\n",
            "Dataset without age: best score 0.732595701873416, best iteration 459\n",
            "Dataset without amount_annuity: best score 0.731453025519654, best iteration 607\n",
            "Dataset without education_level: best score 0.7302644323456571, best iteration 638\n",
            "Dataset without external_scoring_weight: best score 0.7326667052538697, best iteration 627\n",
            "Dataset without expected_monthly_loss_2: best score 0.7329432976906608, best iteration 459\n",
            "Dataset without ratio_age_to_experience: best score 0.7316067401550435, best iteration 476\n",
            "Dataset without ratio_credit_to_annuity_age: best score 0.732378398844745, best iteration 412\n",
            "Dataset without ratio_credit_to_annuity: best score 0.7268586299523333, best iteration 435\n",
            "Dataset without days_on_last_job: best score 0.731552274147296, best iteration 417\n",
            "Dataset without external_scoring_rating_1: best score 0.7329164366557159, best iteration 563\n",
            "Dataset without ratio_age_to_childrens: best score 0.7318090790566419, best iteration 483\n",
            "Dataset without expected_monthly_loss_3: best score 0.7324996973026618, best iteration 481\n",
            "Dataset without external_scoring_rating_min: best score 0.7318126402017969, best iteration 442\n",
            "Dataset without external_scoring_prod: best score 0.7309156401787714, best iteration 274\n",
            "Dataset without external_scoring_rating_mean: best score 0.7315020766354535, best iteration 438\n",
            "Dataset without ratio_car_to_age: best score 0.7302497731111491, best iteration 570\n",
            "==================================================\n",
            "Dropped expected_monthly_loss_2, best score 0.7329432976906608\n",
            "==================================================\n",
            "Dataset without external_scoring_rating_3: best score 0.73251171616756, best iteration 433\n",
            "Dataset without external_scoring_rating_nanmedian: best score 0.7333934166816918, best iteration 567\n",
            "Dataset without name_contract_type: best score 0.7316825608380184, best iteration 244\n",
            "Dataset without gender: best score 0.7297538043762474, best iteration 403\n",
            "Dataset without amt_req_credit_bureau_qrt: best score 0.7323968814320135, best iteration 427\n",
            "Dataset without family_status: best score 0.7309414706768478, best iteration 476\n",
            "Dataset without ratio_scoring_1_to_scoring_2: best score 0.732990488961816, best iteration 559\n",
            "Dataset without age: best score 0.7332211645783722, best iteration 556\n",
            "Dataset without amount_annuity: best score 0.7324694397645468, best iteration 523\n",
            "Dataset without education_level: best score 0.7305273290084445, best iteration 419\n",
            "Dataset without external_scoring_weight: best score 0.7318567154709414, best iteration 367\n",
            "Dataset without ratio_age_to_experience: best score 0.7328702149429163, best iteration 503\n",
            "Dataset without ratio_credit_to_annuity_age: best score 0.7332045296400453, best iteration 415\n",
            "Dataset without ratio_credit_to_annuity: best score 0.7270340590361766, best iteration 416\n",
            "Dataset without days_on_last_job: best score 0.733086176444303, best iteration 454\n",
            "Dataset without external_scoring_rating_1: best score 0.7337646965533579, best iteration 760\n",
            "Dataset without ratio_age_to_childrens: best score 0.7331946755123561, best iteration 701\n",
            "Dataset without expected_monthly_loss_3: best score 0.7330500588710955, best iteration 443\n",
            "Dataset without external_scoring_rating_min: best score 0.7328454759602213, best iteration 393\n",
            "Dataset without external_scoring_prod: best score 0.7319560067835424, best iteration 275\n",
            "Dataset without external_scoring_rating_mean: best score 0.7314581721061452, best iteration 435\n",
            "Dataset without ratio_car_to_age: best score 0.729508317078901, best iteration 374\n",
            "==================================================\n",
            "Dropped external_scoring_rating_1, best score 0.7337646965533579\n",
            "==================================================\n",
            "Dataset without external_scoring_rating_3: best score 0.7316622184061056, best iteration 440\n",
            "Dataset without external_scoring_rating_nanmedian: best score 0.7332458120932978, best iteration 550\n",
            "Dataset without name_contract_type: best score 0.732849738358275, best iteration 584\n",
            "Dataset without gender: best score 0.7303314904163242, best iteration 530\n",
            "Dataset without amt_req_credit_bureau_qrt: best score 0.7318054630308253, best iteration 391\n",
            "Dataset without family_status: best score 0.7323264939345405, best iteration 666\n",
            "Dataset without ratio_scoring_1_to_scoring_2: best score 0.7317788215185269, best iteration 478\n",
            "Dataset without age: best score 0.7330408328220894, best iteration 434\n",
            "Dataset without amount_annuity: best score 0.7319500735742346, best iteration 618\n",
            "Dataset without education_level: best score 0.7297989162801117, best iteration 449\n",
            "Dataset without external_scoring_weight: best score 0.7317602230720838, best iteration 389\n",
            "Dataset without ratio_age_to_experience: best score 0.7321898410870683, best iteration 537\n",
            "Dataset without ratio_credit_to_annuity_age: best score 0.7327331413437049, best iteration 581\n",
            "Dataset without ratio_credit_to_annuity: best score 0.7261863052601919, best iteration 358\n",
            "Dataset without days_on_last_job: best score 0.7318665817943333, best iteration 389\n",
            "Dataset without ratio_age_to_childrens: best score 0.7322131714661146, best iteration 444\n",
            "Dataset without expected_monthly_loss_3: best score 0.732094312148715, best iteration 423\n",
            "Dataset without external_scoring_rating_min: best score 0.7324079002492997, best iteration 610\n",
            "Dataset without external_scoring_prod: best score 0.7331186596981398, best iteration 632\n",
            "Dataset without external_scoring_rating_mean: best score 0.7319535371537689, best iteration 569\n",
            "Dataset without ratio_car_to_age: best score 0.7300489586723738, best iteration 560\n",
            "==================================================\n",
            "No features to delete to improve score\n"
          ],
          "name": "stdout"
        }
      ]
    },
    {
      "cell_type": "code",
      "metadata": {
        "colab": {
          "base_uri": "https://localhost:8080/"
        },
        "id": "OKhOpEmPgyIQ",
        "outputId": "1b8a8cf3-f6e5-4740-a081-753edf871b18"
      },
      "source": [
        "result"
      ],
      "execution_count": null,
      "outputs": [
        {
          "output_type": "execute_result",
          "data": {
            "text/plain": [
              "{'initial': 0.7300034321146216,\n",
              " 'without expected_monthly_loss_2': 0.7329432976906608,\n",
              " 'without external_scoring_rating_1': 0.7337646965533579,\n",
              " 'without external_scoring_rating_max': 0.7318393487904595,\n",
              " 'without own_car_age': 0.7309143779235538,\n",
              " 'without ratio_annuity_to_experience': 0.7326514972127454}"
            ]
          },
          "metadata": {
            "tags": []
          },
          "execution_count": 69
        }
      ]
    },
    {
      "cell_type": "markdown",
      "metadata": {
        "id": "7lcqDwBipkrG"
      },
      "source": [
        "## Проверка"
      ]
    },
    {
      "cell_type": "code",
      "metadata": {
        "id": "Pvf6iS2UCcAF"
      },
      "source": [
        "features_to_delete_greedy_1 = set(['age', 'amt_req_credit_bureau_year', 'own_car_age', 'region_population'\n",
        "                                 'expected_monthly_loss_2', 'expected_total_loss_1', 'external_scoring_rating_max'])\n",
        "\n",
        "features_to_delete_permut_1 = ['ratio_credit_to_age',\n",
        " 'ratio_annuity_to_age',\n",
        " 'external_scoring_rating_2',\n",
        " 'flag_phone',\n",
        " 'external_scoring_rating_diap',\n",
        " 'expected_monthly_loss_1',\n",
        " 'total_salary',\n",
        " 'ratio_scoring_2_to_scoring_3',\n",
        " 'ratio_annuity_to_salary',\n",
        " 'expected_total_loss_3',\n",
        " 'ratio_car_to_experience',\n",
        " 'application_number',\n",
        " 'amt_req_credit_bureau_week',\n",
        " 'amt_req_credit_bureau_mon',\n",
        " 'amt_req_credit_bureau_day',\n",
        " 'flag_email',\n",
        " 'childrens',\n",
        " 'family_size',\n",
        " 'ratio_scoring_1_to_scoring_3',\n",
        " 'amt_req_credit_bureau_hour',\n",
        " 'expected_total_loss_2',\n",
        " 'ratio_credit_to_salary',\n",
        " 'ratio_salary_to_age',\n",
        " 'external_scoring_rating_var']\n",
        "\n",
        "features_to_delete_greedy_2 = set(['without expected_monthly_loss_2',\n",
        " 'without external_scoring_rating_1',\n",
        " 'without external_scoring_rating_max',\n",
        " 'without own_car_age',\n",
        " 'without ratio_annuity_to_experience'])\n",
        "\n",
        "features_to_delete_permut_2 = ['amount_credit',\n",
        " 'amt_req_credit_bureau_year',\n",
        " 'ratio_salary_to_experience',\n",
        " 'ratio_salary_to_region_population',\n",
        " 'region_population',\n",
        " 'expected_total_loss_1',\n",
        " 'ratio_credit_to_age',\n",
        " 'external_scoring_rating_2',\n",
        " 'ratio_annuity_to_age',\n",
        " 'expected_monthly_loss_1',\n",
        " 'flag_phone',\n",
        " 'expected_total_loss_2',\n",
        " 'total_salary',\n",
        " 'ratio_scoring_2_to_scoring_3',\n",
        " 'external_scoring_rating_diap',\n",
        " 'ratio_car_to_experience',\n",
        " 'expected_total_loss_3',\n",
        " 'flag_email',\n",
        " 'amt_req_credit_bureau_day',\n",
        " 'amt_req_credit_bureau_mon',\n",
        " 'childrens',\n",
        " 'amt_req_credit_bureau_week',\n",
        " 'family_size',\n",
        " 'ratio_annuity_to_salary',\n",
        " 'amt_req_credit_bureau_hour',\n",
        " 'application_number',\n",
        " 'ratio_scoring_1_to_scoring_3',\n",
        " 'ratio_credit_to_salary',\n",
        " 'ratio_salary_to_age',\n",
        " 'external_scoring_rating_var']"
      ],
      "execution_count": null,
      "outputs": []
    },
    {
      "cell_type": "code",
      "metadata": {
        "colab": {
          "base_uri": "https://localhost:8080/"
        },
        "id": "5jdDlLM4pqLD",
        "outputId": "ffc519f3-3a0c-49ec-a5d0-bcac0dff31ca"
      },
      "source": [
        "data = get_input(\"train.csv\")\n",
        "test = get_input(\"test.csv\")\n",
        "client_profile = get_input(\"client_profile.csv\")\n",
        "application_history = get_input(\"applications_history.csv\")\n",
        "\n",
        "client_profile = create_client_profile_features(client_profile)\n",
        "data_ext = pd.merge(data, client_profile, how='left', on='application_number')\n",
        "\n",
        "features_to_delete = set(features_to_delete_permut_1)\n",
        "#features_to_delete_greedy = set(['age', 'amt_req_credit_bureau_year', 'own_car_age', 'region_population'\n",
        "#                                 'expected_monthly_loss_2', 'expected_total_loss_1', 'external_scoring_rating_max'])\n",
        "columns_to_learn = list(set(data_ext.columns.to_list()) - features_to_delete - features_to_delete_greedy_1)\n",
        "\n",
        "data_ext = data_ext[columns_to_learn]\n",
        "\n",
        "if 'application_number' in columns_to_learn:\n",
        "  columns_to_learn.remove('application_number')\n",
        "\n",
        "categorical_features = data_ext.select_dtypes(include=[np.object])\n",
        "categorical_feature_names = categorical_features.columns.to_list()\n",
        "\n",
        "for feature in categorical_feature_names:\n",
        "    data_ext[feature] = pd.Series(data_ext[feature], dtype=\"category\")\n",
        "\n",
        "train_ext, valid_ext = train_test_split(\n",
        "    data_ext, train_size=0.7, shuffle=True, random_state=1,\n",
        ")\n",
        "\n",
        "train_ext.reset_index(inplace=True, drop=True)\n",
        "valid_ext.reset_index(inplace=True, drop=True)\n",
        "\n",
        "y_train = train_ext['target']\n",
        "x_train = train_ext.drop(columns=['target'])\n",
        "\n",
        "y_valid = valid_ext['target']\n",
        "x_valid = valid_ext.drop(columns=['target'])\n",
        "\n",
        "dtrain = lgb.Dataset(\n",
        "    data=x_train, label=y_train\n",
        ")\n",
        "\n",
        "dvalid = lgb.Dataset(\n",
        "    data=x_valid, label=y_valid\n",
        ")\n",
        "\n",
        "lgbm_params = {\n",
        "    \"boosting_type \": \"gbdt\",\n",
        "    \"objective\": \"binary\",\n",
        "    \"eval_metric\": \"auc\",\n",
        "    \"learning_rate\": 0.09,\n",
        "    \"num_leaves\": 54,\n",
        "    \"num_boost_round \": 1000,\n",
        "    \"reg_lambda\": 100,\n",
        "    \"max_depth\": 3,\n",
        "    \"n_jobs\": -1,\n",
        "    \"seed\": 27,\n",
        "    'device_type': 'cpu'\n",
        "}\n",
        "\n",
        "cv_result = lgb.cv(\n",
        "    params=lgbm_params,\n",
        "    train_set=dtrain,\n",
        "    num_boost_round=1000,\n",
        "    categorical_feature=categorical_feature_names,\n",
        "    early_stopping_rounds=100,\n",
        "    verbose_eval=10,\n",
        "    stratified=True,\n",
        "    seed=42,\n",
        "    metrics=\"auc\",\n",
        "    shuffle=True,\n",
        "    nfold=7\n",
        ")"
      ],
      "execution_count": null,
      "outputs": [
        {
          "output_type": "stream",
          "text": [
            "train.csv: shape = 110093 rows, 3 cols\n",
            "test.csv: shape = 165141 rows, 2 cols\n",
            "client_profile.csv: shape = 250000 rows, 24 cols\n",
            "applications_history.csv: shape = 1670214 rows, 26 cols\n"
          ],
          "name": "stdout"
        },
        {
          "output_type": "stream",
          "text": [
            "All-NaN slice encountered\n",
            "categorical_feature in Dataset is overridden.\n",
            "New categorical_feature is ['education_level', 'family_status', 'gender', 'name_contract_type']\n"
          ],
          "name": "stderr"
        },
        {
          "output_type": "stream",
          "text": [
            "[10]\tcv_agg's auc: 0.697565 + 0.00706954\n",
            "[20]\tcv_agg's auc: 0.702744 + 0.00701803\n",
            "[30]\tcv_agg's auc: 0.709574 + 0.00767333\n",
            "[40]\tcv_agg's auc: 0.714199 + 0.00732967\n",
            "[50]\tcv_agg's auc: 0.717358 + 0.00742645\n",
            "[60]\tcv_agg's auc: 0.719226 + 0.00756772\n",
            "[70]\tcv_agg's auc: 0.720985 + 0.00823143\n",
            "[80]\tcv_agg's auc: 0.722467 + 0.00812132\n",
            "[90]\tcv_agg's auc: 0.723614 + 0.00804393\n",
            "[100]\tcv_agg's auc: 0.723937 + 0.00774385\n",
            "[110]\tcv_agg's auc: 0.724317 + 0.00763973\n",
            "[120]\tcv_agg's auc: 0.724827 + 0.0075906\n",
            "[130]\tcv_agg's auc: 0.725363 + 0.00754638\n",
            "[140]\tcv_agg's auc: 0.725809 + 0.00735398\n",
            "[150]\tcv_agg's auc: 0.726059 + 0.00743441\n",
            "[160]\tcv_agg's auc: 0.726591 + 0.00719781\n",
            "[170]\tcv_agg's auc: 0.726874 + 0.00717217\n",
            "[180]\tcv_agg's auc: 0.727253 + 0.00682602\n",
            "[190]\tcv_agg's auc: 0.727741 + 0.00656091\n",
            "[200]\tcv_agg's auc: 0.727818 + 0.00655677\n",
            "[210]\tcv_agg's auc: 0.728023 + 0.00661292\n",
            "[220]\tcv_agg's auc: 0.728485 + 0.006392\n",
            "[230]\tcv_agg's auc: 0.728695 + 0.00647459\n",
            "[240]\tcv_agg's auc: 0.728959 + 0.00640251\n",
            "[250]\tcv_agg's auc: 0.729037 + 0.00648376\n",
            "[260]\tcv_agg's auc: 0.729177 + 0.00639572\n",
            "[270]\tcv_agg's auc: 0.729223 + 0.0062042\n",
            "[280]\tcv_agg's auc: 0.729354 + 0.00626771\n",
            "[290]\tcv_agg's auc: 0.729472 + 0.00614983\n",
            "[300]\tcv_agg's auc: 0.72946 + 0.00627578\n",
            "[310]\tcv_agg's auc: 0.729445 + 0.00633956\n",
            "[320]\tcv_agg's auc: 0.729693 + 0.00638398\n",
            "[330]\tcv_agg's auc: 0.729526 + 0.00621379\n",
            "[340]\tcv_agg's auc: 0.729805 + 0.00624379\n",
            "[350]\tcv_agg's auc: 0.729733 + 0.00632745\n",
            "[360]\tcv_agg's auc: 0.729594 + 0.00618028\n",
            "[370]\tcv_agg's auc: 0.729692 + 0.0061728\n",
            "[380]\tcv_agg's auc: 0.729654 + 0.00600426\n",
            "[390]\tcv_agg's auc: 0.72966 + 0.00622264\n",
            "[400]\tcv_agg's auc: 0.729895 + 0.00619454\n",
            "[410]\tcv_agg's auc: 0.729954 + 0.00636554\n",
            "[420]\tcv_agg's auc: 0.729773 + 0.00642634\n",
            "[430]\tcv_agg's auc: 0.729818 + 0.00654717\n",
            "[440]\tcv_agg's auc: 0.729638 + 0.00659266\n",
            "[450]\tcv_agg's auc: 0.729649 + 0.00643153\n",
            "[460]\tcv_agg's auc: 0.729356 + 0.00630667\n",
            "[470]\tcv_agg's auc: 0.729528 + 0.00638302\n",
            "[480]\tcv_agg's auc: 0.729561 + 0.00637971\n",
            "[490]\tcv_agg's auc: 0.729639 + 0.00653716\n",
            "[500]\tcv_agg's auc: 0.729777 + 0.00669842\n",
            "[510]\tcv_agg's auc: 0.729683 + 0.00657068\n"
          ],
          "name": "stdout"
        }
      ]
    },
    {
      "cell_type": "code",
      "metadata": {
        "colab": {
          "base_uri": "https://localhost:8080/"
        },
        "id": "D-SV-HB_qaru",
        "outputId": "6efd7778-4f05-4b96-893e-6397adcad9bf"
      },
      "source": [
        "cv = KFold(n_splits=7, random_state=435, shuffle=True)\n",
        "\n",
        "lgbm_params = {\n",
        "    \"boosting_type \": \"gbdt\",\n",
        "    \"objective\": \"binary\",\n",
        "    #\"eval_metric\": \"auc\",\n",
        "    \"learning_rate\": 0.09,\n",
        "    \"num_boost_round\": 410,\n",
        "    \"num_leaves\": 54,\n",
        "    \"reg_lambda\": 100,\n",
        "    \"max_depth\": 3,\n",
        "    \"n_jobs\": -1,\n",
        "    \"seed\": 27,\n",
        "    'device_type': 'cpu'\n",
        "}\n",
        "\n",
        "lgb_estimators, lgb_oof = lightgbm_cv_fit(\n",
        "    lgbm_params, x_train, y_train, cv, categorical=categorical_feature_names\n",
        ")\n",
        "\n",
        "print(f\"Out of fold ROC AUC { metrics.roc_auc_score(y_train, lgb_oof)}\")"
      ],
      "execution_count": null,
      "outputs": [
        {
          "output_type": "stream",
          "text": [
            "Sat Apr 24 07:50:25 2021, Cross-Validation, 77065 rows, 27 cols\n"
          ],
          "name": "stdout"
        },
        {
          "output_type": "stream",
          "text": [
            "Found `num_boost_round` in params. Will use it instead of argument\n",
            "categorical_feature in Dataset is overridden.\n",
            "New categorical_feature is ['education_level', 'family_status', 'gender', 'name_contract_type']\n"
          ],
          "name": "stderr"
        },
        {
          "output_type": "stream",
          "text": [
            "Fold 1, Valid score = 0.7284\n"
          ],
          "name": "stdout"
        },
        {
          "output_type": "stream",
          "text": [
            "Found `num_boost_round` in params. Will use it instead of argument\n",
            "categorical_feature in Dataset is overridden.\n",
            "New categorical_feature is ['education_level', 'family_status', 'gender', 'name_contract_type']\n"
          ],
          "name": "stderr"
        },
        {
          "output_type": "stream",
          "text": [
            "Fold 2, Valid score = 0.70878\n"
          ],
          "name": "stdout"
        },
        {
          "output_type": "stream",
          "text": [
            "Found `num_boost_round` in params. Will use it instead of argument\n",
            "categorical_feature in Dataset is overridden.\n",
            "New categorical_feature is ['education_level', 'family_status', 'gender', 'name_contract_type']\n"
          ],
          "name": "stderr"
        },
        {
          "output_type": "stream",
          "text": [
            "Fold 3, Valid score = 0.73269\n"
          ],
          "name": "stdout"
        },
        {
          "output_type": "stream",
          "text": [
            "Found `num_boost_round` in params. Will use it instead of argument\n",
            "categorical_feature in Dataset is overridden.\n",
            "New categorical_feature is ['education_level', 'family_status', 'gender', 'name_contract_type']\n"
          ],
          "name": "stderr"
        },
        {
          "output_type": "stream",
          "text": [
            "Fold 4, Valid score = 0.73075\n"
          ],
          "name": "stdout"
        },
        {
          "output_type": "stream",
          "text": [
            "Found `num_boost_round` in params. Will use it instead of argument\n",
            "categorical_feature in Dataset is overridden.\n",
            "New categorical_feature is ['education_level', 'family_status', 'gender', 'name_contract_type']\n"
          ],
          "name": "stderr"
        },
        {
          "output_type": "stream",
          "text": [
            "Fold 5, Valid score = 0.71756\n"
          ],
          "name": "stdout"
        },
        {
          "output_type": "stream",
          "text": [
            "Found `num_boost_round` in params. Will use it instead of argument\n",
            "categorical_feature in Dataset is overridden.\n",
            "New categorical_feature is ['education_level', 'family_status', 'gender', 'name_contract_type']\n"
          ],
          "name": "stderr"
        },
        {
          "output_type": "stream",
          "text": [
            "Fold 6, Valid score = 0.73322\n"
          ],
          "name": "stdout"
        },
        {
          "output_type": "stream",
          "text": [
            "Found `num_boost_round` in params. Will use it instead of argument\n",
            "categorical_feature in Dataset is overridden.\n",
            "New categorical_feature is ['education_level', 'family_status', 'gender', 'name_contract_type']\n"
          ],
          "name": "stderr"
        },
        {
          "output_type": "stream",
          "text": [
            "Fold 7, Valid score = 0.75028\n",
            "Score by each fold: [0.7284, 0.70878, 0.73269, 0.73075, 0.71756, 0.73322, 0.75028]\n",
            "=================================================================\n",
            "Out of fold ROC AUC 0.7276500082376741\n"
          ],
          "name": "stdout"
        }
      ]
    },
    {
      "cell_type": "code",
      "metadata": {
        "colab": {
          "base_uri": "https://localhost:8080/"
        },
        "id": "zARlEDJ3LUMW",
        "outputId": "fb3f5ea5-8ed3-4425-8f51-4c86c782f1b0"
      },
      "source": [
        "result_1 = np.zeros((7, x_valid.shape[0]))\n",
        "for i, estimator in enumerate(lgb_estimators):\n",
        "  result_1[i] = estimator.predict_proba(x_valid)[:,1]\n",
        "\n",
        "result_mean_1 = np.mean(result_1, axis=0)\n",
        "result_max_1 = np.max(result_1, axis=0)\n",
        "result_min_1 = np.min(result_1, axis=0)\n",
        "\n",
        "metrics.roc_auc_score(y_valid, result_mean_1)"
      ],
      "execution_count": null,
      "outputs": [
        {
          "output_type": "execute_result",
          "data": {
            "text/plain": [
              "0.7303769864848201"
            ]
          },
          "metadata": {
            "tags": []
          },
          "execution_count": 82
        }
      ]
    },
    {
      "cell_type": "code",
      "metadata": {
        "colab": {
          "base_uri": "https://localhost:8080/"
        },
        "id": "8rrBnWZ0q11L",
        "outputId": "23206fb3-061d-49e0-b990-bb005eb79cb6"
      },
      "source": [
        "result_2 = np.zeros((7, x_valid.shape[0]))\n",
        "for i, estimator in enumerate(lgb_estimators):\n",
        "  result_2[i] = estimator.predict_proba(x_valid)[:,1]\n",
        "\n",
        "result_mean_2 = np.mean(result_2, axis=0)\n",
        "result_max_2 = np.max(result_2, axis=0)\n",
        "result_min_2 = np.min(result_2, axis=0)\n",
        "\n",
        "metrics.roc_auc_score(y_valid, result_mean_2)"
      ],
      "execution_count": null,
      "outputs": [
        {
          "output_type": "execute_result",
          "data": {
            "text/plain": [
              "0.7305423602118813"
            ]
          },
          "metadata": {
            "tags": []
          },
          "execution_count": 77
        }
      ]
    },
    {
      "cell_type": "code",
      "metadata": {
        "id": "XYBVZkFkNCQw"
      },
      "source": [
        "result_all = (result_mean_1 * result_mean_2)**(1/2)"
      ],
      "execution_count": null,
      "outputs": []
    },
    {
      "cell_type": "code",
      "metadata": {
        "id": "Zo1F-r163RTd"
      },
      "source": [
        "result_all = (result_mean_1 + result_mean_2)/2"
      ],
      "execution_count": null,
      "outputs": []
    },
    {
      "cell_type": "code",
      "metadata": {
        "colab": {
          "base_uri": "https://localhost:8080/"
        },
        "id": "n-GFiHS0NLBx",
        "outputId": "cb943833-58d2-43bc-a274-332021a29b6a"
      },
      "source": [
        "metrics.roc_auc_score(y_valid, result_all)"
      ],
      "execution_count": null,
      "outputs": [
        {
          "output_type": "execute_result",
          "data": {
            "text/plain": [
              "0.730790372019663"
            ]
          },
          "metadata": {
            "tags": []
          },
          "execution_count": 86
        }
      ]
    },
    {
      "cell_type": "markdown",
      "metadata": {
        "id": "vbssjV2fr1qh"
      },
      "source": [
        "## Получение результатов для Test"
      ]
    },
    {
      "cell_type": "code",
      "metadata": {
        "id": "5VKCIS_KsFVo",
        "colab": {
          "base_uri": "https://localhost:8080/"
        },
        "outputId": "ebcd7b70-0c7f-43fb-e04b-1a52d2f413f2"
      },
      "source": [
        "data = get_input(\"train.csv\")\n",
        "test = get_input(\"test.csv\")\n",
        "client_profile = get_input(\"client_profile.csv\")\n",
        "\n",
        "client_profile = create_client_profile_features(client_profile)\n",
        "data_ext = pd.merge(data, client_profile, how='left', on='application_number')\n",
        "test_ext = pd.merge(test, client_profile, how='left', on='application_number')\n",
        "\n",
        "features_to_delete = set(features_to_delete_permut_1)\n",
        "#features_to_delete_greedy = set(['age', 'amt_req_credit_bureau_year', 'own_car_age', 'region_population'\n",
        "#                                 'expected_monthly_loss_2', 'expected_total_loss_1', 'external_scoring_rating_max'])\n",
        "columns_to_learn = list(set(data_ext.columns.to_list()) - features_to_delete - features_to_delete_greedy_1)\n",
        "\n",
        "data_ext = data_ext[columns_to_learn]\n",
        "columns_to_learn_without_target = columns_to_learn.copy()\n",
        "columns_to_learn_without_target.remove('target')\n",
        "test_ext = test_ext[columns_to_learn_without_target]\n",
        "\n",
        "if 'application_number' in columns_to_learn:\n",
        "  columns_to_learn.remove('application_number')\n",
        "\n",
        "categorical_features = data_ext.select_dtypes(include=[np.object])\n",
        "categorical_feature_names = categorical_features.columns.to_list()\n",
        "\n",
        "for feature in categorical_feature_names:\n",
        "    data_ext[feature] = pd.Series(data_ext[feature], dtype=\"category\")\n",
        "\n",
        "y_train = data_ext['target']\n",
        "x_train = data_ext.drop(columns=['target'])\n",
        "\n",
        "dtrain = lgb.Dataset(\n",
        "    data=x_train, label=y_train\n",
        ")\n",
        "\n",
        "lgbm_params = {\n",
        "    \"boosting_type \": \"gbdt\",\n",
        "    \"objective\": \"binary\",\n",
        "    \"eval_metric\": \"auc\",\n",
        "    \"learning_rate\": 0.1,\n",
        "    \"num_boost_round \": 1000,\n",
        "    \"reg_lambda\": 100,\n",
        "    \"max_depth\": 3,\n",
        "    \"n_jobs\": -1,\n",
        "    \"seed\": 27,\n",
        "    'device_type': 'cpu'\n",
        "}\n",
        "\n",
        "cv_result = lgb.cv(\n",
        "    params=lgbm_params,\n",
        "    train_set=dtrain,\n",
        "    num_boost_round=1000,\n",
        "    categorical_feature=categorical_feature_names,\n",
        "    early_stopping_rounds=100,\n",
        "    verbose_eval=10,\n",
        "    stratified=True,\n",
        "    seed=42,\n",
        "    metrics=\"auc\",\n",
        "    shuffle=True,\n",
        "    nfold=7\n",
        ")"
      ],
      "execution_count": null,
      "outputs": [
        {
          "output_type": "stream",
          "text": [
            "train.csv: shape = 110093 rows, 3 cols\n",
            "test.csv: shape = 165141 rows, 2 cols\n",
            "client_profile.csv: shape = 250000 rows, 24 cols\n"
          ],
          "name": "stdout"
        },
        {
          "output_type": "stream",
          "text": [
            "All-NaN slice encountered\n",
            "categorical_feature in Dataset is overridden.\n",
            "New categorical_feature is ['education_level', 'family_status', 'gender', 'name_contract_type']\n"
          ],
          "name": "stderr"
        },
        {
          "output_type": "stream",
          "text": [
            "[10]\tcv_agg's auc: 0.699984 + 0.00622522\n",
            "[20]\tcv_agg's auc: 0.704937 + 0.00592437\n",
            "[30]\tcv_agg's auc: 0.712831 + 0.00584046\n",
            "[40]\tcv_agg's auc: 0.71681 + 0.00555256\n",
            "[50]\tcv_agg's auc: 0.719415 + 0.00547527\n",
            "[60]\tcv_agg's auc: 0.720781 + 0.00553722\n",
            "[70]\tcv_agg's auc: 0.721951 + 0.00519979\n",
            "[80]\tcv_agg's auc: 0.722896 + 0.00560114\n",
            "[90]\tcv_agg's auc: 0.723585 + 0.00596014\n",
            "[100]\tcv_agg's auc: 0.724333 + 0.00583867\n",
            "[110]\tcv_agg's auc: 0.725195 + 0.0060853\n",
            "[120]\tcv_agg's auc: 0.72552 + 0.00616952\n",
            "[130]\tcv_agg's auc: 0.726181 + 0.00617404\n",
            "[140]\tcv_agg's auc: 0.726584 + 0.0060145\n",
            "[150]\tcv_agg's auc: 0.727255 + 0.00580133\n",
            "[160]\tcv_agg's auc: 0.727524 + 0.00578339\n",
            "[170]\tcv_agg's auc: 0.727845 + 0.00593584\n",
            "[180]\tcv_agg's auc: 0.728131 + 0.00595243\n",
            "[190]\tcv_agg's auc: 0.728378 + 0.00586331\n",
            "[200]\tcv_agg's auc: 0.728706 + 0.006047\n",
            "[210]\tcv_agg's auc: 0.728798 + 0.0061863\n",
            "[220]\tcv_agg's auc: 0.728886 + 0.00601161\n",
            "[230]\tcv_agg's auc: 0.729151 + 0.00606137\n",
            "[240]\tcv_agg's auc: 0.729316 + 0.00604711\n",
            "[250]\tcv_agg's auc: 0.729672 + 0.00589316\n",
            "[260]\tcv_agg's auc: 0.729779 + 0.00611261\n",
            "[270]\tcv_agg's auc: 0.729887 + 0.00597286\n",
            "[280]\tcv_agg's auc: 0.730247 + 0.00594457\n",
            "[290]\tcv_agg's auc: 0.73018 + 0.00603052\n",
            "[300]\tcv_agg's auc: 0.730212 + 0.00572441\n",
            "[310]\tcv_agg's auc: 0.730337 + 0.00587646\n",
            "[320]\tcv_agg's auc: 0.730231 + 0.00594007\n",
            "[330]\tcv_agg's auc: 0.730522 + 0.00612294\n",
            "[340]\tcv_agg's auc: 0.730321 + 0.00607788\n",
            "[350]\tcv_agg's auc: 0.730368 + 0.00609388\n",
            "[360]\tcv_agg's auc: 0.730515 + 0.00613211\n",
            "[370]\tcv_agg's auc: 0.730635 + 0.00602046\n",
            "[380]\tcv_agg's auc: 0.730623 + 0.00595263\n",
            "[390]\tcv_agg's auc: 0.730494 + 0.00609221\n",
            "[400]\tcv_agg's auc: 0.730446 + 0.00606474\n",
            "[410]\tcv_agg's auc: 0.730382 + 0.00590649\n",
            "[420]\tcv_agg's auc: 0.730377 + 0.00590034\n",
            "[430]\tcv_agg's auc: 0.730339 + 0.0057106\n",
            "[440]\tcv_agg's auc: 0.730513 + 0.0056612\n",
            "[450]\tcv_agg's auc: 0.730507 + 0.00565028\n",
            "[460]\tcv_agg's auc: 0.730693 + 0.0057976\n",
            "[470]\tcv_agg's auc: 0.730633 + 0.0056997\n",
            "[480]\tcv_agg's auc: 0.730785 + 0.00580006\n",
            "[490]\tcv_agg's auc: 0.730735 + 0.00578187\n",
            "[500]\tcv_agg's auc: 0.730848 + 0.00563617\n",
            "[510]\tcv_agg's auc: 0.730806 + 0.00564595\n",
            "[520]\tcv_agg's auc: 0.73083 + 0.00573776\n",
            "[530]\tcv_agg's auc: 0.730918 + 0.00545406\n",
            "[540]\tcv_agg's auc: 0.730983 + 0.00557622\n",
            "[550]\tcv_agg's auc: 0.730886 + 0.00556639\n",
            "[560]\tcv_agg's auc: 0.730875 + 0.00557975\n",
            "[570]\tcv_agg's auc: 0.730773 + 0.00558266\n",
            "[580]\tcv_agg's auc: 0.730591 + 0.0054529\n",
            "[590]\tcv_agg's auc: 0.730775 + 0.00558305\n",
            "[600]\tcv_agg's auc: 0.73067 + 0.00557559\n",
            "[610]\tcv_agg's auc: 0.730799 + 0.00578332\n",
            "[620]\tcv_agg's auc: 0.730726 + 0.00573592\n",
            "[630]\tcv_agg's auc: 0.730893 + 0.00596672\n"
          ],
          "name": "stdout"
        }
      ]
    },
    {
      "cell_type": "code",
      "metadata": {
        "id": "lGZuK8XptLM8",
        "colab": {
          "base_uri": "https://localhost:8080/"
        },
        "outputId": "c2b3d60b-1323-4a29-f090-54446e6cfd33"
      },
      "source": [
        "cv = KFold(n_splits=7, random_state=435, shuffle=True)\n",
        "\n",
        "lgbm_params = {\n",
        "    \"boosting_type \": \"gbdt\",\n",
        "    \"objective\": \"binary\",\n",
        "    #\"eval_metric\": \"auc\",\n",
        "    \"learning_rate\": 0.1,\n",
        "    \"num_boost_round\": 530,\n",
        "    \"reg_lambda\": 100,\n",
        "    \"max_depth\": 3,\n",
        "    \"n_jobs\": -1,\n",
        "    \"seed\": 27,\n",
        "    'device_type': 'cpu'\n",
        "}\n",
        "\n",
        "lgb_estimators_1, lgb_oof = lightgbm_cv_fit(\n",
        "    lgbm_params, x_train, y_train, cv, categorical=categorical_feature_names\n",
        ")\n",
        "\n",
        "print(f\"Out of fold ROC AUC { metrics.roc_auc_score(y_train, lgb_oof)}\")"
      ],
      "execution_count": null,
      "outputs": [
        {
          "output_type": "stream",
          "text": [
            "Sat Apr 24 08:29:00 2021, Cross-Validation, 110093 rows, 27 cols\n"
          ],
          "name": "stdout"
        },
        {
          "output_type": "stream",
          "text": [
            "Found `num_boost_round` in params. Will use it instead of argument\n",
            "categorical_feature in Dataset is overridden.\n",
            "New categorical_feature is ['education_level', 'family_status', 'gender', 'name_contract_type']\n"
          ],
          "name": "stderr"
        },
        {
          "output_type": "stream",
          "text": [
            "Fold 1, Valid score = 0.74632\n"
          ],
          "name": "stdout"
        },
        {
          "output_type": "stream",
          "text": [
            "Found `num_boost_round` in params. Will use it instead of argument\n",
            "categorical_feature in Dataset is overridden.\n",
            "New categorical_feature is ['education_level', 'family_status', 'gender', 'name_contract_type']\n"
          ],
          "name": "stderr"
        },
        {
          "output_type": "stream",
          "text": [
            "Fold 2, Valid score = 0.74376\n"
          ],
          "name": "stdout"
        },
        {
          "output_type": "stream",
          "text": [
            "Found `num_boost_round` in params. Will use it instead of argument\n",
            "categorical_feature in Dataset is overridden.\n",
            "New categorical_feature is ['education_level', 'family_status', 'gender', 'name_contract_type']\n"
          ],
          "name": "stderr"
        },
        {
          "output_type": "stream",
          "text": [
            "Fold 3, Valid score = 0.73723\n"
          ],
          "name": "stdout"
        },
        {
          "output_type": "stream",
          "text": [
            "Found `num_boost_round` in params. Will use it instead of argument\n",
            "categorical_feature in Dataset is overridden.\n",
            "New categorical_feature is ['education_level', 'family_status', 'gender', 'name_contract_type']\n"
          ],
          "name": "stderr"
        },
        {
          "output_type": "stream",
          "text": [
            "Fold 4, Valid score = 0.71375\n"
          ],
          "name": "stdout"
        },
        {
          "output_type": "stream",
          "text": [
            "Found `num_boost_round` in params. Will use it instead of argument\n",
            "categorical_feature in Dataset is overridden.\n",
            "New categorical_feature is ['education_level', 'family_status', 'gender', 'name_contract_type']\n"
          ],
          "name": "stderr"
        },
        {
          "output_type": "stream",
          "text": [
            "Fold 5, Valid score = 0.72999\n"
          ],
          "name": "stdout"
        },
        {
          "output_type": "stream",
          "text": [
            "Found `num_boost_round` in params. Will use it instead of argument\n",
            "categorical_feature in Dataset is overridden.\n",
            "New categorical_feature is ['education_level', 'family_status', 'gender', 'name_contract_type']\n"
          ],
          "name": "stderr"
        },
        {
          "output_type": "stream",
          "text": [
            "Fold 6, Valid score = 0.71839\n"
          ],
          "name": "stdout"
        },
        {
          "output_type": "stream",
          "text": [
            "Found `num_boost_round` in params. Will use it instead of argument\n",
            "categorical_feature in Dataset is overridden.\n",
            "New categorical_feature is ['education_level', 'family_status', 'gender', 'name_contract_type']\n"
          ],
          "name": "stderr"
        },
        {
          "output_type": "stream",
          "text": [
            "Fold 7, Valid score = 0.72789\n",
            "Score by each fold: [0.74632, 0.74376, 0.73723, 0.71375, 0.72999, 0.71839, 0.72789]\n",
            "=================================================================\n",
            "Out of fold ROC AUC 0.7306420010426008\n"
          ],
          "name": "stdout"
        }
      ]
    },
    {
      "cell_type": "code",
      "metadata": {
        "id": "i9kQlesmumUq"
      },
      "source": [
        "for feature in categorical_feature_names:\n",
        "    test_ext[feature] = pd.Series(test_ext[feature], dtype=\"category\")"
      ],
      "execution_count": null,
      "outputs": []
    },
    {
      "cell_type": "code",
      "metadata": {
        "id": "_JirBIlEttBv"
      },
      "source": [
        "result_1 = np.zeros((7, test_ext.shape[0]))\n",
        "for i, estimator in enumerate(lgb_estimators_1):\n",
        "  result_1[i] = estimator.predict_proba(test_ext)[:,1]\n",
        "\n",
        "result_1_mean = np.mean(result_1, axis=0)\n",
        "result_1_max = np.max(result_1, axis=0)\n",
        "result_1_min = np.min(result_1, axis=0)"
      ],
      "execution_count": null,
      "outputs": []
    },
    {
      "cell_type": "code",
      "metadata": {
        "colab": {
          "base_uri": "https://localhost:8080/"
        },
        "id": "ajeYgcwF-_yn",
        "outputId": "c6c2e8db-0a4b-4a00-f73a-f612f53bab82"
      },
      "source": [
        "data = get_input(\"train.csv\")\n",
        "test = get_input(\"test.csv\")\n",
        "client_profile = get_input(\"client_profile.csv\")\n",
        "\n",
        "client_profile = create_client_profile_features(client_profile)\n",
        "data_ext = pd.merge(data, client_profile, how='left', on='application_number')\n",
        "test_ext = pd.merge(test, client_profile, how='left', on='application_number')\n",
        "\n",
        "features_to_delete = set(features_to_delete_permut_2)\n",
        "#features_to_delete_greedy = set(['age', 'amt_req_credit_bureau_year', 'own_car_age', 'region_population'\n",
        "#                                 'expected_monthly_loss_2', 'expected_total_loss_1', 'external_scoring_rating_max'])\n",
        "columns_to_learn = list(set(data_ext.columns.to_list()) - features_to_delete - features_to_delete_greedy_2)\n",
        "\n",
        "data_ext = data_ext[columns_to_learn]\n",
        "columns_to_learn_without_target = columns_to_learn.copy()\n",
        "columns_to_learn_without_target.remove('target')\n",
        "test_ext = test_ext[columns_to_learn_without_target]\n",
        "\n",
        "if 'application_number' in columns_to_learn:\n",
        "  columns_to_learn.remove('application_number')\n",
        "\n",
        "categorical_features = data_ext.select_dtypes(include=[np.object])\n",
        "categorical_feature_names = categorical_features.columns.to_list()\n",
        "\n",
        "for feature in categorical_feature_names:\n",
        "    data_ext[feature] = pd.Series(data_ext[feature], dtype=\"category\")\n",
        "\n",
        "y_train = data_ext['target']\n",
        "x_train = data_ext.drop(columns=['target'])\n",
        "\n",
        "dtrain = lgb.Dataset(\n",
        "    data=x_train, label=y_train\n",
        ")\n",
        "\n",
        "lgbm_params = {\n",
        "    \"boosting_type \": \"gbdt\",\n",
        "    \"objective\": \"binary\",\n",
        "    \"eval_metric\": \"auc\",\n",
        "    \"learning_rate\": 0.1,\n",
        "    \"num_boost_round \": 1000,\n",
        "    \"reg_lambda\": 100,\n",
        "    \"max_depth\": 3,\n",
        "    \"n_jobs\": -1,\n",
        "    \"seed\": 27,\n",
        "    'device_type': 'cpu'\n",
        "}\n",
        "\n",
        "cv_result = lgb.cv(\n",
        "    params=lgbm_params,\n",
        "    train_set=dtrain,\n",
        "    num_boost_round=1000,\n",
        "    categorical_feature=categorical_feature_names,\n",
        "    early_stopping_rounds=100,\n",
        "    verbose_eval=10,\n",
        "    stratified=True,\n",
        "    seed=42,\n",
        "    metrics=\"auc\",\n",
        "    shuffle=True,\n",
        "    nfold=7\n",
        ")"
      ],
      "execution_count": null,
      "outputs": [
        {
          "output_type": "stream",
          "text": [
            "train.csv: shape = 110093 rows, 3 cols\n",
            "test.csv: shape = 165141 rows, 2 cols\n",
            "client_profile.csv: shape = 250000 rows, 24 cols\n"
          ],
          "name": "stdout"
        },
        {
          "output_type": "stream",
          "text": [
            "All-NaN slice encountered\n",
            "categorical_feature in Dataset is overridden.\n",
            "New categorical_feature is ['education_level', 'family_status', 'gender', 'name_contract_type']\n"
          ],
          "name": "stderr"
        },
        {
          "output_type": "stream",
          "text": [
            "[10]\tcv_agg's auc: 0.700381 + 0.00552249\n",
            "[20]\tcv_agg's auc: 0.705787 + 0.00580199\n",
            "[30]\tcv_agg's auc: 0.713272 + 0.00568633\n",
            "[40]\tcv_agg's auc: 0.717427 + 0.00594248\n",
            "[50]\tcv_agg's auc: 0.719978 + 0.00562365\n",
            "[60]\tcv_agg's auc: 0.721616 + 0.00526249\n",
            "[70]\tcv_agg's auc: 0.72274 + 0.00537578\n",
            "[80]\tcv_agg's auc: 0.723697 + 0.00538306\n",
            "[90]\tcv_agg's auc: 0.724592 + 0.0053374\n",
            "[100]\tcv_agg's auc: 0.725343 + 0.00521104\n",
            "[110]\tcv_agg's auc: 0.726046 + 0.00550107\n",
            "[120]\tcv_agg's auc: 0.726511 + 0.00555756\n",
            "[130]\tcv_agg's auc: 0.726915 + 0.00539271\n",
            "[140]\tcv_agg's auc: 0.727405 + 0.00554418\n",
            "[150]\tcv_agg's auc: 0.727808 + 0.00564702\n",
            "[160]\tcv_agg's auc: 0.728371 + 0.0056461\n",
            "[170]\tcv_agg's auc: 0.728851 + 0.00562953\n",
            "[180]\tcv_agg's auc: 0.729245 + 0.00563252\n",
            "[190]\tcv_agg's auc: 0.729391 + 0.0058752\n",
            "[200]\tcv_agg's auc: 0.729488 + 0.00602569\n",
            "[210]\tcv_agg's auc: 0.729634 + 0.00585263\n",
            "[220]\tcv_agg's auc: 0.729667 + 0.00577774\n",
            "[230]\tcv_agg's auc: 0.72998 + 0.00560577\n",
            "[240]\tcv_agg's auc: 0.729874 + 0.00567577\n",
            "[250]\tcv_agg's auc: 0.729971 + 0.00558663\n",
            "[260]\tcv_agg's auc: 0.730026 + 0.00568473\n",
            "[270]\tcv_agg's auc: 0.730136 + 0.00577483\n",
            "[280]\tcv_agg's auc: 0.730092 + 0.00568956\n",
            "[290]\tcv_agg's auc: 0.730309 + 0.00559566\n",
            "[300]\tcv_agg's auc: 0.730264 + 0.00567718\n",
            "[310]\tcv_agg's auc: 0.73006 + 0.00568111\n",
            "[320]\tcv_agg's auc: 0.730097 + 0.00574864\n",
            "[330]\tcv_agg's auc: 0.730258 + 0.00579848\n",
            "[340]\tcv_agg's auc: 0.730273 + 0.00579111\n",
            "[350]\tcv_agg's auc: 0.730167 + 0.00570238\n",
            "[360]\tcv_agg's auc: 0.730175 + 0.00576347\n",
            "[370]\tcv_agg's auc: 0.730218 + 0.00568908\n",
            "[380]\tcv_agg's auc: 0.730243 + 0.00583916\n",
            "[390]\tcv_agg's auc: 0.730445 + 0.00586789\n",
            "[400]\tcv_agg's auc: 0.73052 + 0.00590361\n",
            "[410]\tcv_agg's auc: 0.73045 + 0.00592014\n",
            "[420]\tcv_agg's auc: 0.73043 + 0.00602034\n",
            "[430]\tcv_agg's auc: 0.730416 + 0.00595884\n",
            "[440]\tcv_agg's auc: 0.730352 + 0.00596283\n",
            "[450]\tcv_agg's auc: 0.730474 + 0.0060897\n",
            "[460]\tcv_agg's auc: 0.730333 + 0.00596822\n",
            "[470]\tcv_agg's auc: 0.730334 + 0.00599122\n",
            "[480]\tcv_agg's auc: 0.730367 + 0.00598673\n",
            "[490]\tcv_agg's auc: 0.730419 + 0.00604783\n"
          ],
          "name": "stdout"
        }
      ]
    },
    {
      "cell_type": "code",
      "metadata": {
        "colab": {
          "base_uri": "https://localhost:8080/"
        },
        "id": "6ebx2l8Z_5Lt",
        "outputId": "09d80d95-14d1-42d2-dfee-24f26ceea9cc"
      },
      "source": [
        "cv = KFold(n_splits=7, random_state=435, shuffle=True)\n",
        "\n",
        "lgbm_params = {\n",
        "    \"boosting_type \": \"gbdt\",\n",
        "    \"objective\": \"binary\",\n",
        "    #\"eval_metric\": \"auc\",\n",
        "    \"learning_rate\": 0.1,\n",
        "    \"num_boost_round\": 400,\n",
        "    \"reg_lambda\": 100,\n",
        "    \"max_depth\": 3,\n",
        "    \"n_jobs\": -1,\n",
        "    \"seed\": 27,\n",
        "    'device_type': 'cpu'\n",
        "}\n",
        "\n",
        "lgb_estimators_2, lgb_oof = lightgbm_cv_fit(\n",
        "    lgbm_params, x_train, y_train, cv, categorical=categorical_feature_names\n",
        ")\n",
        "\n",
        "print(f\"Out of fold ROC AUC { metrics.roc_auc_score(y_train, lgb_oof)}\")"
      ],
      "execution_count": null,
      "outputs": [
        {
          "output_type": "stream",
          "text": [
            "Sat Apr 24 08:31:21 2021, Cross-Validation, 110093 rows, 26 cols\n"
          ],
          "name": "stdout"
        },
        {
          "output_type": "stream",
          "text": [
            "Found `num_boost_round` in params. Will use it instead of argument\n",
            "categorical_feature in Dataset is overridden.\n",
            "New categorical_feature is ['education_level', 'family_status', 'gender', 'name_contract_type']\n"
          ],
          "name": "stderr"
        },
        {
          "output_type": "stream",
          "text": [
            "Fold 1, Valid score = 0.74476\n"
          ],
          "name": "stdout"
        },
        {
          "output_type": "stream",
          "text": [
            "Found `num_boost_round` in params. Will use it instead of argument\n",
            "categorical_feature in Dataset is overridden.\n",
            "New categorical_feature is ['education_level', 'family_status', 'gender', 'name_contract_type']\n"
          ],
          "name": "stderr"
        },
        {
          "output_type": "stream",
          "text": [
            "Fold 2, Valid score = 0.74365\n"
          ],
          "name": "stdout"
        },
        {
          "output_type": "stream",
          "text": [
            "Found `num_boost_round` in params. Will use it instead of argument\n",
            "categorical_feature in Dataset is overridden.\n",
            "New categorical_feature is ['education_level', 'family_status', 'gender', 'name_contract_type']\n"
          ],
          "name": "stderr"
        },
        {
          "output_type": "stream",
          "text": [
            "Fold 3, Valid score = 0.73689\n"
          ],
          "name": "stdout"
        },
        {
          "output_type": "stream",
          "text": [
            "Found `num_boost_round` in params. Will use it instead of argument\n",
            "categorical_feature in Dataset is overridden.\n",
            "New categorical_feature is ['education_level', 'family_status', 'gender', 'name_contract_type']\n"
          ],
          "name": "stderr"
        },
        {
          "output_type": "stream",
          "text": [
            "Fold 4, Valid score = 0.71428\n"
          ],
          "name": "stdout"
        },
        {
          "output_type": "stream",
          "text": [
            "Found `num_boost_round` in params. Will use it instead of argument\n",
            "categorical_feature in Dataset is overridden.\n",
            "New categorical_feature is ['education_level', 'family_status', 'gender', 'name_contract_type']\n"
          ],
          "name": "stderr"
        },
        {
          "output_type": "stream",
          "text": [
            "Fold 5, Valid score = 0.73078\n"
          ],
          "name": "stdout"
        },
        {
          "output_type": "stream",
          "text": [
            "Found `num_boost_round` in params. Will use it instead of argument\n",
            "categorical_feature in Dataset is overridden.\n",
            "New categorical_feature is ['education_level', 'family_status', 'gender', 'name_contract_type']\n"
          ],
          "name": "stderr"
        },
        {
          "output_type": "stream",
          "text": [
            "Fold 6, Valid score = 0.71896\n"
          ],
          "name": "stdout"
        },
        {
          "output_type": "stream",
          "text": [
            "Found `num_boost_round` in params. Will use it instead of argument\n",
            "categorical_feature in Dataset is overridden.\n",
            "New categorical_feature is ['education_level', 'family_status', 'gender', 'name_contract_type']\n"
          ],
          "name": "stderr"
        },
        {
          "output_type": "stream",
          "text": [
            "Fold 7, Valid score = 0.72854\n",
            "Score by each fold: [0.74476, 0.74365, 0.73689, 0.71428, 0.73078, 0.71896, 0.72854]\n",
            "=================================================================\n",
            "Out of fold ROC AUC 0.7306634662474903\n"
          ],
          "name": "stdout"
        }
      ]
    },
    {
      "cell_type": "code",
      "metadata": {
        "id": "5L7s6xl7BFN2"
      },
      "source": [
        "for feature in categorical_feature_names:\n",
        "    test_ext[feature] = pd.Series(test_ext[feature], dtype=\"category\")"
      ],
      "execution_count": null,
      "outputs": []
    },
    {
      "cell_type": "code",
      "metadata": {
        "id": "YkaPX_RHAcBL"
      },
      "source": [
        "result_2 = np.zeros((7, test_ext.shape[0]))\n",
        "for i, estimator in enumerate(lgb_estimators_2):\n",
        "  result_2[i] = estimator.predict_proba(test_ext)[:,1]\n",
        "\n",
        "result_2_mean = np.mean(result_2, axis=0)\n",
        "result_2_max = np.max(result_2, axis=0)\n",
        "result_2_min = np.min(result_2, axis=0)"
      ],
      "execution_count": null,
      "outputs": []
    },
    {
      "cell_type": "code",
      "metadata": {
        "id": "3nHeljH1xIUL"
      },
      "source": [
        "test['TARGET'] = (result_1_mean * result_2_mean) ** (0.5)\n",
        "test.drop(columns=['name_contract_type']).to_csv('result.csv', index=False)"
      ],
      "execution_count": null,
      "outputs": []
    },
    {
      "cell_type": "markdown",
      "metadata": {
        "id": "NuH-DooDrN4S"
      },
      "source": [
        "## Простой пример lightgbm"
      ]
    },
    {
      "cell_type": "code",
      "metadata": {
        "id": "Lwx3Ui8E7qt5"
      },
      "source": [
        "data = get_input(\"train.csv\")\n",
        "client_profile = get_input(\"client_profile.csv\")\n",
        "client_profile = create_client_profile_features(client_profile)\n",
        "data_ext = pd.merge(data, client_profile, how='left', on='application_number')\n",
        "data_ext = data_ext[columns_to_learn[:15]]\n",
        "\n",
        "train, valid = train_test_split(\n",
        "  data_ext, train_size=0.7, shuffle=True, random_state=1,\n",
        ")\n",
        "\n",
        "y_train = train['target']\n",
        "x_train = train.drop(columns='target')\n",
        "\n",
        "y_valid = valid['target']\n",
        "x_valid = valid.drop(columns='target')\n",
        "\n",
        "categorical_features = x_valid.select_dtypes(include=[np.object])\n",
        "categorical_feature_names = categorical_features.columns.to_list()\n",
        "\n",
        "for feature in categorical_feature_names:\n",
        "  x_train[feature] = pd.Series(x_train[feature], dtype=\"category\")\n",
        "  x_valid[feature] = pd.Series(x_valid[feature], dtype=\"category\")\n",
        "\n",
        "lgbm_params = {\n",
        "    \"boosting_type \": \"gbdt\",\n",
        "    \"objective\": \"binary\",\n",
        "    \"metric\": \"auc\",\n",
        "    \"learning_rate\": 0.1,\n",
        "    \"reg_lambda\": 100,\n",
        "    \"max_depth\": 3,\n",
        "    \"n_jobs\": -1,\n",
        "    \"seed\": 27,\n",
        "    'device_type': 'cpu',\n",
        "    'verbose': -1,\n",
        "}\n",
        "\n",
        "lgb_train = lgb.Dataset(x_train, y_train)\n",
        "lgb_eval = lgb.Dataset(x_valid, y_valid)\n",
        "\n",
        "gbm = lgb.train(lgbm_params,\n",
        "                lgb_train,\n",
        "                valid_sets=lgb_eval,\n",
        "                verbose_eval=False, \n",
        "                categorical_feature=categorical_feature_names,\n",
        "                num_boost_round=10000,\n",
        "                early_stopping_rounds=100)\n",
        "\n",
        "gbm.best_iteration\n",
        "gbm.best_score['valid_0']['auc']"
      ],
      "execution_count": null,
      "outputs": []
    },
    {
      "cell_type": "markdown",
      "metadata": {
        "id": "PsgpXYRM9V7M"
      },
      "source": [
        "var 1"
      ]
    }
  ]
}