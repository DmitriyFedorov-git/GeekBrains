{
  "nbformat": 4,
  "nbformat_minor": 0,
  "metadata": {
    "kernelspec": {
      "display_name": "Python 3",
      "language": "python",
      "name": "python3"
    },
    "language_info": {
      "codemirror_mode": {
        "name": "ipython",
        "version": 3
      },
      "file_extension": ".py",
      "mimetype": "text/x-python",
      "name": "python",
      "nbconvert_exporter": "python",
      "pygments_lexer": "ipython3",
      "version": "3.7.3"
    },
    "colab": {
      "name": "hw_webinar_2.ipynb",
      "provenance": [],
      "collapsed_sections": [],
      "toc_visible": true
    },
    "widgets": {
      "application/vnd.jupyter.widget-state+json": {
        "897069890a4a4de9b63efea18e2f1b5b": {
          "model_module": "@jupyter-widgets/controls",
          "model_name": "HBoxModel",
          "state": {
            "_view_name": "HBoxView",
            "_dom_classes": [],
            "_model_name": "HBoxModel",
            "_view_module": "@jupyter-widgets/controls",
            "_model_module_version": "1.5.0",
            "_view_count": null,
            "_view_module_version": "1.5.0",
            "box_style": "",
            "layout": "IPY_MODEL_947365fe78b24ef8ad10978c5b02308d",
            "_model_module": "@jupyter-widgets/controls",
            "children": [
              "IPY_MODEL_8a152937147f42f69cfe0eff8999ce9a",
              "IPY_MODEL_64ec12052874484ea6bbb7e0beb1afa9"
            ]
          }
        },
        "947365fe78b24ef8ad10978c5b02308d": {
          "model_module": "@jupyter-widgets/base",
          "model_name": "LayoutModel",
          "state": {
            "_view_name": "LayoutView",
            "grid_template_rows": null,
            "right": null,
            "justify_content": null,
            "_view_module": "@jupyter-widgets/base",
            "overflow": null,
            "_model_module_version": "1.2.0",
            "_view_count": null,
            "flex_flow": null,
            "width": null,
            "min_width": null,
            "border": null,
            "align_items": null,
            "bottom": null,
            "_model_module": "@jupyter-widgets/base",
            "top": null,
            "grid_column": null,
            "overflow_y": null,
            "overflow_x": null,
            "grid_auto_flow": null,
            "grid_area": null,
            "grid_template_columns": null,
            "flex": null,
            "_model_name": "LayoutModel",
            "justify_items": null,
            "grid_row": null,
            "max_height": null,
            "align_content": null,
            "visibility": null,
            "align_self": null,
            "height": null,
            "min_height": null,
            "padding": null,
            "grid_auto_rows": null,
            "grid_gap": null,
            "max_width": null,
            "order": null,
            "_view_module_version": "1.2.0",
            "grid_template_areas": null,
            "object_position": null,
            "object_fit": null,
            "grid_auto_columns": null,
            "margin": null,
            "display": null,
            "left": null
          }
        },
        "8a152937147f42f69cfe0eff8999ce9a": {
          "model_module": "@jupyter-widgets/controls",
          "model_name": "FloatProgressModel",
          "state": {
            "_view_name": "ProgressView",
            "style": "IPY_MODEL_e027c999d077401e93cffb31caa77310",
            "_dom_classes": [],
            "description": "100%",
            "_model_name": "FloatProgressModel",
            "bar_style": "success",
            "max": 5000,
            "_view_module": "@jupyter-widgets/controls",
            "_model_module_version": "1.5.0",
            "value": 5000,
            "_view_count": null,
            "_view_module_version": "1.5.0",
            "orientation": "horizontal",
            "min": 0,
            "description_tooltip": null,
            "_model_module": "@jupyter-widgets/controls",
            "layout": "IPY_MODEL_4c57635415f44544857ba51045b4de5a"
          }
        },
        "64ec12052874484ea6bbb7e0beb1afa9": {
          "model_module": "@jupyter-widgets/controls",
          "model_name": "HTMLModel",
          "state": {
            "_view_name": "HTMLView",
            "style": "IPY_MODEL_1e3edc74150f4a23b2d156042027f9be",
            "_dom_classes": [],
            "description": "",
            "_model_name": "HTMLModel",
            "placeholder": "​",
            "_view_module": "@jupyter-widgets/controls",
            "_model_module_version": "1.5.0",
            "value": " 5000/5000 [00:05&lt;00:00, 986.67it/s]",
            "_view_count": null,
            "_view_module_version": "1.5.0",
            "description_tooltip": null,
            "_model_module": "@jupyter-widgets/controls",
            "layout": "IPY_MODEL_eb85e8c144304a41b7ec51a3190e064a"
          }
        },
        "e027c999d077401e93cffb31caa77310": {
          "model_module": "@jupyter-widgets/controls",
          "model_name": "ProgressStyleModel",
          "state": {
            "_view_name": "StyleView",
            "_model_name": "ProgressStyleModel",
            "description_width": "initial",
            "_view_module": "@jupyter-widgets/base",
            "_model_module_version": "1.5.0",
            "_view_count": null,
            "_view_module_version": "1.2.0",
            "bar_color": null,
            "_model_module": "@jupyter-widgets/controls"
          }
        },
        "4c57635415f44544857ba51045b4de5a": {
          "model_module": "@jupyter-widgets/base",
          "model_name": "LayoutModel",
          "state": {
            "_view_name": "LayoutView",
            "grid_template_rows": null,
            "right": null,
            "justify_content": null,
            "_view_module": "@jupyter-widgets/base",
            "overflow": null,
            "_model_module_version": "1.2.0",
            "_view_count": null,
            "flex_flow": null,
            "width": null,
            "min_width": null,
            "border": null,
            "align_items": null,
            "bottom": null,
            "_model_module": "@jupyter-widgets/base",
            "top": null,
            "grid_column": null,
            "overflow_y": null,
            "overflow_x": null,
            "grid_auto_flow": null,
            "grid_area": null,
            "grid_template_columns": null,
            "flex": null,
            "_model_name": "LayoutModel",
            "justify_items": null,
            "grid_row": null,
            "max_height": null,
            "align_content": null,
            "visibility": null,
            "align_self": null,
            "height": null,
            "min_height": null,
            "padding": null,
            "grid_auto_rows": null,
            "grid_gap": null,
            "max_width": null,
            "order": null,
            "_view_module_version": "1.2.0",
            "grid_template_areas": null,
            "object_position": null,
            "object_fit": null,
            "grid_auto_columns": null,
            "margin": null,
            "display": null,
            "left": null
          }
        },
        "1e3edc74150f4a23b2d156042027f9be": {
          "model_module": "@jupyter-widgets/controls",
          "model_name": "DescriptionStyleModel",
          "state": {
            "_view_name": "StyleView",
            "_model_name": "DescriptionStyleModel",
            "description_width": "",
            "_view_module": "@jupyter-widgets/base",
            "_model_module_version": "1.5.0",
            "_view_count": null,
            "_view_module_version": "1.2.0",
            "_model_module": "@jupyter-widgets/controls"
          }
        },
        "eb85e8c144304a41b7ec51a3190e064a": {
          "model_module": "@jupyter-widgets/base",
          "model_name": "LayoutModel",
          "state": {
            "_view_name": "LayoutView",
            "grid_template_rows": null,
            "right": null,
            "justify_content": null,
            "_view_module": "@jupyter-widgets/base",
            "overflow": null,
            "_model_module_version": "1.2.0",
            "_view_count": null,
            "flex_flow": null,
            "width": null,
            "min_width": null,
            "border": null,
            "align_items": null,
            "bottom": null,
            "_model_module": "@jupyter-widgets/base",
            "top": null,
            "grid_column": null,
            "overflow_y": null,
            "overflow_x": null,
            "grid_auto_flow": null,
            "grid_area": null,
            "grid_template_columns": null,
            "flex": null,
            "_model_name": "LayoutModel",
            "justify_items": null,
            "grid_row": null,
            "max_height": null,
            "align_content": null,
            "visibility": null,
            "align_self": null,
            "height": null,
            "min_height": null,
            "padding": null,
            "grid_auto_rows": null,
            "grid_gap": null,
            "max_width": null,
            "order": null,
            "_view_module_version": "1.2.0",
            "grid_template_areas": null,
            "object_position": null,
            "object_fit": null,
            "grid_auto_columns": null,
            "margin": null,
            "display": null,
            "left": null
          }
        },
        "48374c35924f400e930885c85d98c677": {
          "model_module": "@jupyter-widgets/controls",
          "model_name": "HBoxModel",
          "state": {
            "_view_name": "HBoxView",
            "_dom_classes": [],
            "_model_name": "HBoxModel",
            "_view_module": "@jupyter-widgets/controls",
            "_model_module_version": "1.5.0",
            "_view_count": null,
            "_view_module_version": "1.5.0",
            "box_style": "",
            "layout": "IPY_MODEL_f1f904ffef3e45539f5eb4a22c3f9983",
            "_model_module": "@jupyter-widgets/controls",
            "children": [
              "IPY_MODEL_466a7ed7660c49fca074ca357b61bd05",
              "IPY_MODEL_244285578472471f9ab4479f9091bdb1"
            ]
          }
        },
        "f1f904ffef3e45539f5eb4a22c3f9983": {
          "model_module": "@jupyter-widgets/base",
          "model_name": "LayoutModel",
          "state": {
            "_view_name": "LayoutView",
            "grid_template_rows": null,
            "right": null,
            "justify_content": null,
            "_view_module": "@jupyter-widgets/base",
            "overflow": null,
            "_model_module_version": "1.2.0",
            "_view_count": null,
            "flex_flow": null,
            "width": null,
            "min_width": null,
            "border": null,
            "align_items": null,
            "bottom": null,
            "_model_module": "@jupyter-widgets/base",
            "top": null,
            "grid_column": null,
            "overflow_y": null,
            "overflow_x": null,
            "grid_auto_flow": null,
            "grid_area": null,
            "grid_template_columns": null,
            "flex": null,
            "_model_name": "LayoutModel",
            "justify_items": null,
            "grid_row": null,
            "max_height": null,
            "align_content": null,
            "visibility": null,
            "align_self": null,
            "height": null,
            "min_height": null,
            "padding": null,
            "grid_auto_rows": null,
            "grid_gap": null,
            "max_width": null,
            "order": null,
            "_view_module_version": "1.2.0",
            "grid_template_areas": null,
            "object_position": null,
            "object_fit": null,
            "grid_auto_columns": null,
            "margin": null,
            "display": null,
            "left": null
          }
        },
        "466a7ed7660c49fca074ca357b61bd05": {
          "model_module": "@jupyter-widgets/controls",
          "model_name": "FloatProgressModel",
          "state": {
            "_view_name": "ProgressView",
            "style": "IPY_MODEL_eb7140442ce5407db540ab328e3a399a",
            "_dom_classes": [],
            "description": "100%",
            "_model_name": "FloatProgressModel",
            "bar_style": "success",
            "max": 5000,
            "_view_module": "@jupyter-widgets/controls",
            "_model_module_version": "1.5.0",
            "value": 5000,
            "_view_count": null,
            "_view_module_version": "1.5.0",
            "orientation": "horizontal",
            "min": 0,
            "description_tooltip": null,
            "_model_module": "@jupyter-widgets/controls",
            "layout": "IPY_MODEL_2fae748cc6f248baa67639ada4e5305e"
          }
        },
        "244285578472471f9ab4479f9091bdb1": {
          "model_module": "@jupyter-widgets/controls",
          "model_name": "HTMLModel",
          "state": {
            "_view_name": "HTMLView",
            "style": "IPY_MODEL_93abb72f6fd142548fa55406e45425b6",
            "_dom_classes": [],
            "description": "",
            "_model_name": "HTMLModel",
            "placeholder": "​",
            "_view_module": "@jupyter-widgets/controls",
            "_model_module_version": "1.5.0",
            "value": " 5000/5000 [00:03&lt;00:00, 1562.45it/s]",
            "_view_count": null,
            "_view_module_version": "1.5.0",
            "description_tooltip": null,
            "_model_module": "@jupyter-widgets/controls",
            "layout": "IPY_MODEL_c7d58a813c604bc1ae468127f47c91a4"
          }
        },
        "eb7140442ce5407db540ab328e3a399a": {
          "model_module": "@jupyter-widgets/controls",
          "model_name": "ProgressStyleModel",
          "state": {
            "_view_name": "StyleView",
            "_model_name": "ProgressStyleModel",
            "description_width": "initial",
            "_view_module": "@jupyter-widgets/base",
            "_model_module_version": "1.5.0",
            "_view_count": null,
            "_view_module_version": "1.2.0",
            "bar_color": null,
            "_model_module": "@jupyter-widgets/controls"
          }
        },
        "2fae748cc6f248baa67639ada4e5305e": {
          "model_module": "@jupyter-widgets/base",
          "model_name": "LayoutModel",
          "state": {
            "_view_name": "LayoutView",
            "grid_template_rows": null,
            "right": null,
            "justify_content": null,
            "_view_module": "@jupyter-widgets/base",
            "overflow": null,
            "_model_module_version": "1.2.0",
            "_view_count": null,
            "flex_flow": null,
            "width": null,
            "min_width": null,
            "border": null,
            "align_items": null,
            "bottom": null,
            "_model_module": "@jupyter-widgets/base",
            "top": null,
            "grid_column": null,
            "overflow_y": null,
            "overflow_x": null,
            "grid_auto_flow": null,
            "grid_area": null,
            "grid_template_columns": null,
            "flex": null,
            "_model_name": "LayoutModel",
            "justify_items": null,
            "grid_row": null,
            "max_height": null,
            "align_content": null,
            "visibility": null,
            "align_self": null,
            "height": null,
            "min_height": null,
            "padding": null,
            "grid_auto_rows": null,
            "grid_gap": null,
            "max_width": null,
            "order": null,
            "_view_module_version": "1.2.0",
            "grid_template_areas": null,
            "object_position": null,
            "object_fit": null,
            "grid_auto_columns": null,
            "margin": null,
            "display": null,
            "left": null
          }
        },
        "93abb72f6fd142548fa55406e45425b6": {
          "model_module": "@jupyter-widgets/controls",
          "model_name": "DescriptionStyleModel",
          "state": {
            "_view_name": "StyleView",
            "_model_name": "DescriptionStyleModel",
            "description_width": "",
            "_view_module": "@jupyter-widgets/base",
            "_model_module_version": "1.5.0",
            "_view_count": null,
            "_view_module_version": "1.2.0",
            "_model_module": "@jupyter-widgets/controls"
          }
        },
        "c7d58a813c604bc1ae468127f47c91a4": {
          "model_module": "@jupyter-widgets/base",
          "model_name": "LayoutModel",
          "state": {
            "_view_name": "LayoutView",
            "grid_template_rows": null,
            "right": null,
            "justify_content": null,
            "_view_module": "@jupyter-widgets/base",
            "overflow": null,
            "_model_module_version": "1.2.0",
            "_view_count": null,
            "flex_flow": null,
            "width": null,
            "min_width": null,
            "border": null,
            "align_items": null,
            "bottom": null,
            "_model_module": "@jupyter-widgets/base",
            "top": null,
            "grid_column": null,
            "overflow_y": null,
            "overflow_x": null,
            "grid_auto_flow": null,
            "grid_area": null,
            "grid_template_columns": null,
            "flex": null,
            "_model_name": "LayoutModel",
            "justify_items": null,
            "grid_row": null,
            "max_height": null,
            "align_content": null,
            "visibility": null,
            "align_self": null,
            "height": null,
            "min_height": null,
            "padding": null,
            "grid_auto_rows": null,
            "grid_gap": null,
            "max_width": null,
            "order": null,
            "_view_module_version": "1.2.0",
            "grid_template_areas": null,
            "object_position": null,
            "object_fit": null,
            "grid_auto_columns": null,
            "margin": null,
            "display": null,
            "left": null
          }
        },
        "02c0a73a2d7c4e76a0dbf56c12fe1e57": {
          "model_module": "@jupyter-widgets/controls",
          "model_name": "HBoxModel",
          "state": {
            "_view_name": "HBoxView",
            "_dom_classes": [],
            "_model_name": "HBoxModel",
            "_view_module": "@jupyter-widgets/controls",
            "_model_module_version": "1.5.0",
            "_view_count": null,
            "_view_module_version": "1.5.0",
            "box_style": "",
            "layout": "IPY_MODEL_77b8194985f74d65a5d73dbecc4a6303",
            "_model_module": "@jupyter-widgets/controls",
            "children": [
              "IPY_MODEL_cf44fdc21e754b12a97ed0dc7be74d0a",
              "IPY_MODEL_9325b1436e264d3e859541e33156ace4"
            ]
          }
        },
        "77b8194985f74d65a5d73dbecc4a6303": {
          "model_module": "@jupyter-widgets/base",
          "model_name": "LayoutModel",
          "state": {
            "_view_name": "LayoutView",
            "grid_template_rows": null,
            "right": null,
            "justify_content": null,
            "_view_module": "@jupyter-widgets/base",
            "overflow": null,
            "_model_module_version": "1.2.0",
            "_view_count": null,
            "flex_flow": null,
            "width": null,
            "min_width": null,
            "border": null,
            "align_items": null,
            "bottom": null,
            "_model_module": "@jupyter-widgets/base",
            "top": null,
            "grid_column": null,
            "overflow_y": null,
            "overflow_x": null,
            "grid_auto_flow": null,
            "grid_area": null,
            "grid_template_columns": null,
            "flex": null,
            "_model_name": "LayoutModel",
            "justify_items": null,
            "grid_row": null,
            "max_height": null,
            "align_content": null,
            "visibility": null,
            "align_self": null,
            "height": null,
            "min_height": null,
            "padding": null,
            "grid_auto_rows": null,
            "grid_gap": null,
            "max_width": null,
            "order": null,
            "_view_module_version": "1.2.0",
            "grid_template_areas": null,
            "object_position": null,
            "object_fit": null,
            "grid_auto_columns": null,
            "margin": null,
            "display": null,
            "left": null
          }
        },
        "cf44fdc21e754b12a97ed0dc7be74d0a": {
          "model_module": "@jupyter-widgets/controls",
          "model_name": "FloatProgressModel",
          "state": {
            "_view_name": "ProgressView",
            "style": "IPY_MODEL_b5abd97ae9034bd9bb5b21c873ebc5b6",
            "_dom_classes": [],
            "description": "100%",
            "_model_name": "FloatProgressModel",
            "bar_style": "success",
            "max": 5000,
            "_view_module": "@jupyter-widgets/controls",
            "_model_module_version": "1.5.0",
            "value": 5000,
            "_view_count": null,
            "_view_module_version": "1.5.0",
            "orientation": "horizontal",
            "min": 0,
            "description_tooltip": null,
            "_model_module": "@jupyter-widgets/controls",
            "layout": "IPY_MODEL_1964a1e5dec5455e97b84ae31499b471"
          }
        },
        "9325b1436e264d3e859541e33156ace4": {
          "model_module": "@jupyter-widgets/controls",
          "model_name": "HTMLModel",
          "state": {
            "_view_name": "HTMLView",
            "style": "IPY_MODEL_4a7cd15781e34485ba71e435085639a1",
            "_dom_classes": [],
            "description": "",
            "_model_name": "HTMLModel",
            "placeholder": "​",
            "_view_module": "@jupyter-widgets/controls",
            "_model_module_version": "1.5.0",
            "value": " 5000/5000 [00:01&lt;00:00, 3390.58it/s]",
            "_view_count": null,
            "_view_module_version": "1.5.0",
            "description_tooltip": null,
            "_model_module": "@jupyter-widgets/controls",
            "layout": "IPY_MODEL_ef180fde86a447b089264f7835ad4e4e"
          }
        },
        "b5abd97ae9034bd9bb5b21c873ebc5b6": {
          "model_module": "@jupyter-widgets/controls",
          "model_name": "ProgressStyleModel",
          "state": {
            "_view_name": "StyleView",
            "_model_name": "ProgressStyleModel",
            "description_width": "initial",
            "_view_module": "@jupyter-widgets/base",
            "_model_module_version": "1.5.0",
            "_view_count": null,
            "_view_module_version": "1.2.0",
            "bar_color": null,
            "_model_module": "@jupyter-widgets/controls"
          }
        },
        "1964a1e5dec5455e97b84ae31499b471": {
          "model_module": "@jupyter-widgets/base",
          "model_name": "LayoutModel",
          "state": {
            "_view_name": "LayoutView",
            "grid_template_rows": null,
            "right": null,
            "justify_content": null,
            "_view_module": "@jupyter-widgets/base",
            "overflow": null,
            "_model_module_version": "1.2.0",
            "_view_count": null,
            "flex_flow": null,
            "width": null,
            "min_width": null,
            "border": null,
            "align_items": null,
            "bottom": null,
            "_model_module": "@jupyter-widgets/base",
            "top": null,
            "grid_column": null,
            "overflow_y": null,
            "overflow_x": null,
            "grid_auto_flow": null,
            "grid_area": null,
            "grid_template_columns": null,
            "flex": null,
            "_model_name": "LayoutModel",
            "justify_items": null,
            "grid_row": null,
            "max_height": null,
            "align_content": null,
            "visibility": null,
            "align_self": null,
            "height": null,
            "min_height": null,
            "padding": null,
            "grid_auto_rows": null,
            "grid_gap": null,
            "max_width": null,
            "order": null,
            "_view_module_version": "1.2.0",
            "grid_template_areas": null,
            "object_position": null,
            "object_fit": null,
            "grid_auto_columns": null,
            "margin": null,
            "display": null,
            "left": null
          }
        },
        "4a7cd15781e34485ba71e435085639a1": {
          "model_module": "@jupyter-widgets/controls",
          "model_name": "DescriptionStyleModel",
          "state": {
            "_view_name": "StyleView",
            "_model_name": "DescriptionStyleModel",
            "description_width": "",
            "_view_module": "@jupyter-widgets/base",
            "_model_module_version": "1.5.0",
            "_view_count": null,
            "_view_module_version": "1.2.0",
            "_model_module": "@jupyter-widgets/controls"
          }
        },
        "ef180fde86a447b089264f7835ad4e4e": {
          "model_module": "@jupyter-widgets/base",
          "model_name": "LayoutModel",
          "state": {
            "_view_name": "LayoutView",
            "grid_template_rows": null,
            "right": null,
            "justify_content": null,
            "_view_module": "@jupyter-widgets/base",
            "overflow": null,
            "_model_module_version": "1.2.0",
            "_view_count": null,
            "flex_flow": null,
            "width": null,
            "min_width": null,
            "border": null,
            "align_items": null,
            "bottom": null,
            "_model_module": "@jupyter-widgets/base",
            "top": null,
            "grid_column": null,
            "overflow_y": null,
            "overflow_x": null,
            "grid_auto_flow": null,
            "grid_area": null,
            "grid_template_columns": null,
            "flex": null,
            "_model_name": "LayoutModel",
            "justify_items": null,
            "grid_row": null,
            "max_height": null,
            "align_content": null,
            "visibility": null,
            "align_self": null,
            "height": null,
            "min_height": null,
            "padding": null,
            "grid_auto_rows": null,
            "grid_gap": null,
            "max_width": null,
            "order": null,
            "_view_module_version": "1.2.0",
            "grid_template_areas": null,
            "object_position": null,
            "object_fit": null,
            "grid_auto_columns": null,
            "margin": null,
            "display": null,
            "left": null
          }
        }
      }
    }
  },
  "cells": [
    {
      "cell_type": "markdown",
      "metadata": {
        "id": "dPmESqSSjQnU",
        "colab_type": "text"
      },
      "source": [
        "# Домашнее задание №2"
      ]
    },
    {
      "cell_type": "markdown",
      "metadata": {
        "id": "42uPH70yjuFY",
        "colab_type": "text"
      },
      "source": [
        "## Подготовка данных"
      ]
    },
    {
      "cell_type": "code",
      "metadata": {
        "id": "UMNaMILFcLmF",
        "colab_type": "code",
        "colab": {
          "base_uri": "https://localhost:8080/",
          "height": 110
        },
        "outputId": "f323a459-8c1b-46d3-d5e1-3e3e51e7abde"
      },
      "source": [
        "! pip install implicit"
      ],
      "execution_count": 1,
      "outputs": [
        {
          "output_type": "stream",
          "text": [
            "Requirement already satisfied: implicit in /usr/local/lib/python3.6/dist-packages (0.4.2)\n",
            "Requirement already satisfied: numpy in /usr/local/lib/python3.6/dist-packages (from implicit) (1.18.5)\n",
            "Requirement already satisfied: scipy>=0.16 in /usr/local/lib/python3.6/dist-packages (from implicit) (1.4.1)\n",
            "Requirement already satisfied: tqdm>=4.27 in /usr/local/lib/python3.6/dist-packages (from implicit) (4.41.1)\n"
          ],
          "name": "stdout"
        }
      ]
    },
    {
      "cell_type": "code",
      "metadata": {
        "id": "LVAkarXbQ5Y_",
        "colab_type": "code",
        "colab": {}
      },
      "source": [
        "import pandas as pd\n",
        "import numpy as np\n",
        "import matplotlib.pyplot as plt\n",
        "%matplotlib inline\n",
        "\n",
        "# Для работы с матрицами\n",
        "from scipy.sparse import csr_matrix, coo_matrix\n",
        "\n",
        "# Детерминированные алгоритмы\n",
        "from implicit.nearest_neighbours import ItemItemRecommender, CosineRecommender, TFIDFRecommender, BM25Recommender\n",
        "\n",
        "# Метрики\n",
        "from implicit.evaluation import train_test_split\n",
        "from implicit.evaluation import precision_at_k, mean_average_precision_at_k, AUC_at_k, ndcg_at_k"
      ],
      "execution_count": 2,
      "outputs": []
    },
    {
      "cell_type": "code",
      "metadata": {
        "id": "cotlK8McQ5ZF",
        "colab_type": "code",
        "colab": {
          "base_uri": "https://localhost:8080/",
          "height": 128
        },
        "outputId": "603df3d7-4335-4f47-9bca-626ba90c3bc0"
      },
      "source": [
        "data = pd.read_csv('retail_train.csv')\n",
        "data.head(2)"
      ],
      "execution_count": 3,
      "outputs": [
        {
          "output_type": "execute_result",
          "data": {
            "text/html": [
              "<div>\n",
              "<style scoped>\n",
              "    .dataframe tbody tr th:only-of-type {\n",
              "        vertical-align: middle;\n",
              "    }\n",
              "\n",
              "    .dataframe tbody tr th {\n",
              "        vertical-align: top;\n",
              "    }\n",
              "\n",
              "    .dataframe thead th {\n",
              "        text-align: right;\n",
              "    }\n",
              "</style>\n",
              "<table border=\"1\" class=\"dataframe\">\n",
              "  <thead>\n",
              "    <tr style=\"text-align: right;\">\n",
              "      <th></th>\n",
              "      <th>user_id</th>\n",
              "      <th>basket_id</th>\n",
              "      <th>day</th>\n",
              "      <th>item_id</th>\n",
              "      <th>quantity</th>\n",
              "      <th>sales_value</th>\n",
              "      <th>store_id</th>\n",
              "      <th>retail_disc</th>\n",
              "      <th>trans_time</th>\n",
              "      <th>week_no</th>\n",
              "      <th>coupon_disc</th>\n",
              "      <th>coupon_match_disc</th>\n",
              "    </tr>\n",
              "  </thead>\n",
              "  <tbody>\n",
              "    <tr>\n",
              "      <th>0</th>\n",
              "      <td>2375</td>\n",
              "      <td>26984851472</td>\n",
              "      <td>1</td>\n",
              "      <td>1004906</td>\n",
              "      <td>1</td>\n",
              "      <td>1.39</td>\n",
              "      <td>364</td>\n",
              "      <td>-0.6</td>\n",
              "      <td>1631</td>\n",
              "      <td>1</td>\n",
              "      <td>0.0</td>\n",
              "      <td>0.0</td>\n",
              "    </tr>\n",
              "    <tr>\n",
              "      <th>1</th>\n",
              "      <td>2375</td>\n",
              "      <td>26984851472</td>\n",
              "      <td>1</td>\n",
              "      <td>1033142</td>\n",
              "      <td>1</td>\n",
              "      <td>0.82</td>\n",
              "      <td>364</td>\n",
              "      <td>0.0</td>\n",
              "      <td>1631</td>\n",
              "      <td>1</td>\n",
              "      <td>0.0</td>\n",
              "      <td>0.0</td>\n",
              "    </tr>\n",
              "  </tbody>\n",
              "</table>\n",
              "</div>"
            ],
            "text/plain": [
              "   user_id    basket_id  day  ...  week_no  coupon_disc  coupon_match_disc\n",
              "0     2375  26984851472    1  ...        1          0.0                0.0\n",
              "1     2375  26984851472    1  ...        1          0.0                0.0\n",
              "\n",
              "[2 rows x 12 columns]"
            ]
          },
          "metadata": {
            "tags": []
          },
          "execution_count": 3
        }
      ]
    },
    {
      "cell_type": "code",
      "metadata": {
        "id": "xgC9KctJQ5ZK",
        "colab_type": "code",
        "colab": {}
      },
      "source": [
        "test_size_weeks = 3\n",
        "\n",
        "data_train = data[data['week_no'] < data['week_no'].max() - test_size_weeks]\n",
        "data_test = data[data['week_no'] >= data['week_no'].max() - test_size_weeks]"
      ],
      "execution_count": 4,
      "outputs": []
    },
    {
      "cell_type": "code",
      "metadata": {
        "id": "9BpwP73yxgBj",
        "colab_type": "code",
        "colab": {
          "base_uri": "https://localhost:8080/",
          "height": 407
        },
        "outputId": "06cccf27-1e6a-4198-a098-5454e1af4732"
      },
      "source": [
        "result = data_test.groupby('user_id')['item_id'].unique().reset_index()\n",
        "result.columns=['user_id', 'actual']\n",
        "result.head(2)\n",
        "result"
      ],
      "execution_count": 5,
      "outputs": [
        {
          "output_type": "execute_result",
          "data": {
            "text/html": [
              "<div>\n",
              "<style scoped>\n",
              "    .dataframe tbody tr th:only-of-type {\n",
              "        vertical-align: middle;\n",
              "    }\n",
              "\n",
              "    .dataframe tbody tr th {\n",
              "        vertical-align: top;\n",
              "    }\n",
              "\n",
              "    .dataframe thead th {\n",
              "        text-align: right;\n",
              "    }\n",
              "</style>\n",
              "<table border=\"1\" class=\"dataframe\">\n",
              "  <thead>\n",
              "    <tr style=\"text-align: right;\">\n",
              "      <th></th>\n",
              "      <th>user_id</th>\n",
              "      <th>actual</th>\n",
              "    </tr>\n",
              "  </thead>\n",
              "  <tbody>\n",
              "    <tr>\n",
              "      <th>0</th>\n",
              "      <td>1</td>\n",
              "      <td>[821867, 834484, 856942, 865456, 889248, 90795...</td>\n",
              "    </tr>\n",
              "    <tr>\n",
              "      <th>1</th>\n",
              "      <td>3</td>\n",
              "      <td>[835476, 851057, 872021, 878302, 879948, 90963...</td>\n",
              "    </tr>\n",
              "    <tr>\n",
              "      <th>2</th>\n",
              "      <td>6</td>\n",
              "      <td>[920308, 926804, 946489, 1006718, 1017061, 107...</td>\n",
              "    </tr>\n",
              "    <tr>\n",
              "      <th>3</th>\n",
              "      <td>7</td>\n",
              "      <td>[840386, 889774, 898068, 909714, 929067, 95347...</td>\n",
              "    </tr>\n",
              "    <tr>\n",
              "      <th>4</th>\n",
              "      <td>8</td>\n",
              "      <td>[835098, 872137, 910439, 924610, 992977, 10412...</td>\n",
              "    </tr>\n",
              "    <tr>\n",
              "      <th>...</th>\n",
              "      <td>...</td>\n",
              "      <td>...</td>\n",
              "    </tr>\n",
              "    <tr>\n",
              "      <th>2037</th>\n",
              "      <td>2496</td>\n",
              "      <td>[6534178]</td>\n",
              "    </tr>\n",
              "    <tr>\n",
              "      <th>2038</th>\n",
              "      <td>2497</td>\n",
              "      <td>[1016709, 9835695, 1132298, 16809501, 845294, ...</td>\n",
              "    </tr>\n",
              "    <tr>\n",
              "      <th>2039</th>\n",
              "      <td>2498</td>\n",
              "      <td>[15716530, 834484, 901776, 914190, 958382, 972...</td>\n",
              "    </tr>\n",
              "    <tr>\n",
              "      <th>2040</th>\n",
              "      <td>2499</td>\n",
              "      <td>[867188, 877580, 902396, 914190, 951590, 95813...</td>\n",
              "    </tr>\n",
              "    <tr>\n",
              "      <th>2041</th>\n",
              "      <td>2500</td>\n",
              "      <td>[852182, 856345, 923746, 948670, 1018007, 1044...</td>\n",
              "    </tr>\n",
              "  </tbody>\n",
              "</table>\n",
              "<p>2042 rows × 2 columns</p>\n",
              "</div>"
            ],
            "text/plain": [
              "      user_id                                             actual\n",
              "0           1  [821867, 834484, 856942, 865456, 889248, 90795...\n",
              "1           3  [835476, 851057, 872021, 878302, 879948, 90963...\n",
              "2           6  [920308, 926804, 946489, 1006718, 1017061, 107...\n",
              "3           7  [840386, 889774, 898068, 909714, 929067, 95347...\n",
              "4           8  [835098, 872137, 910439, 924610, 992977, 10412...\n",
              "...       ...                                                ...\n",
              "2037     2496                                          [6534178]\n",
              "2038     2497  [1016709, 9835695, 1132298, 16809501, 845294, ...\n",
              "2039     2498  [15716530, 834484, 901776, 914190, 958382, 972...\n",
              "2040     2499  [867188, 877580, 902396, 914190, 951590, 95813...\n",
              "2041     2500  [852182, 856345, 923746, 948670, 1018007, 1044...\n",
              "\n",
              "[2042 rows x 2 columns]"
            ]
          },
          "metadata": {
            "tags": []
          },
          "execution_count": 5
        }
      ]
    },
    {
      "cell_type": "markdown",
      "metadata": {
        "id": "w_etmo9XQ5ZQ",
        "colab_type": "text"
      },
      "source": [
        "## Задание 1. Weighted Random Recommendation\n",
        "\n",
        "Напишите код для случайных рекоммендаций, в которых вероятность рекомендовать товар прямо пропорциональна логарифму продаж\n",
        "- Можно сэмплировать товары случайно, но пропорционально какому-либо весу\n",
        "- Например, прямопропорционально популярности. Вес = log(sales_sum товара)"
      ]
    },
    {
      "cell_type": "code",
      "metadata": {
        "id": "trO-TpfDmUvX",
        "colab_type": "code",
        "colab": {}
      },
      "source": [
        "popularity = data.groupby('item_id')['sales_value'].sum().reset_index()"
      ],
      "execution_count": 6,
      "outputs": []
    },
    {
      "cell_type": "code",
      "metadata": {
        "id": "ansKZrHhoxdq",
        "colab_type": "code",
        "colab": {
          "base_uri": "https://localhost:8080/",
          "height": 407
        },
        "outputId": "0c85e024-c147-431a-ea0e-9a3488dbbdb3"
      },
      "source": [
        "popularity"
      ],
      "execution_count": 7,
      "outputs": [
        {
          "output_type": "execute_result",
          "data": {
            "text/html": [
              "<div>\n",
              "<style scoped>\n",
              "    .dataframe tbody tr th:only-of-type {\n",
              "        vertical-align: middle;\n",
              "    }\n",
              "\n",
              "    .dataframe tbody tr th {\n",
              "        vertical-align: top;\n",
              "    }\n",
              "\n",
              "    .dataframe thead th {\n",
              "        text-align: right;\n",
              "    }\n",
              "</style>\n",
              "<table border=\"1\" class=\"dataframe\">\n",
              "  <thead>\n",
              "    <tr style=\"text-align: right;\">\n",
              "      <th></th>\n",
              "      <th>item_id</th>\n",
              "      <th>sales_value</th>\n",
              "    </tr>\n",
              "  </thead>\n",
              "  <tbody>\n",
              "    <tr>\n",
              "      <th>0</th>\n",
              "      <td>25671</td>\n",
              "      <td>20.94</td>\n",
              "    </tr>\n",
              "    <tr>\n",
              "      <th>1</th>\n",
              "      <td>26081</td>\n",
              "      <td>0.99</td>\n",
              "    </tr>\n",
              "    <tr>\n",
              "      <th>2</th>\n",
              "      <td>26093</td>\n",
              "      <td>1.59</td>\n",
              "    </tr>\n",
              "    <tr>\n",
              "      <th>3</th>\n",
              "      <td>26190</td>\n",
              "      <td>1.54</td>\n",
              "    </tr>\n",
              "    <tr>\n",
              "      <th>4</th>\n",
              "      <td>26355</td>\n",
              "      <td>1.98</td>\n",
              "    </tr>\n",
              "    <tr>\n",
              "      <th>...</th>\n",
              "      <td>...</td>\n",
              "      <td>...</td>\n",
              "    </tr>\n",
              "    <tr>\n",
              "      <th>89046</th>\n",
              "      <td>17991689</td>\n",
              "      <td>2.49</td>\n",
              "    </tr>\n",
              "    <tr>\n",
              "      <th>89047</th>\n",
              "      <td>17991691</td>\n",
              "      <td>2.49</td>\n",
              "    </tr>\n",
              "    <tr>\n",
              "      <th>89048</th>\n",
              "      <td>18000012</td>\n",
              "      <td>19.96</td>\n",
              "    </tr>\n",
              "    <tr>\n",
              "      <th>89049</th>\n",
              "      <td>18024155</td>\n",
              "      <td>3.99</td>\n",
              "    </tr>\n",
              "    <tr>\n",
              "      <th>89050</th>\n",
              "      <td>18024556</td>\n",
              "      <td>30.51</td>\n",
              "    </tr>\n",
              "  </tbody>\n",
              "</table>\n",
              "<p>89051 rows × 2 columns</p>\n",
              "</div>"
            ],
            "text/plain": [
              "        item_id  sales_value\n",
              "0         25671        20.94\n",
              "1         26081         0.99\n",
              "2         26093         1.59\n",
              "3         26190         1.54\n",
              "4         26355         1.98\n",
              "...         ...          ...\n",
              "89046  17991689         2.49\n",
              "89047  17991691         2.49\n",
              "89048  18000012        19.96\n",
              "89049  18024155         3.99\n",
              "89050  18024556        30.51\n",
              "\n",
              "[89051 rows x 2 columns]"
            ]
          },
          "metadata": {
            "tags": []
          },
          "execution_count": 7
        }
      ]
    },
    {
      "cell_type": "code",
      "metadata": {
        "id": "bdusIVOqoM_Q",
        "colab_type": "code",
        "colab": {}
      },
      "source": [
        "# Возьмем логарифм чтобы сгладить разницу между числами и отнормируем для получения вероятноти\n",
        "\n",
        "popularity['probabilities'] = np.log1p(popularity['sales_value'])\n",
        "popularity['probabilities'] = popularity['probabilities']/popularity['probabilities'].sum()"
      ],
      "execution_count": 8,
      "outputs": []
    },
    {
      "cell_type": "code",
      "metadata": {
        "id": "OcPRKhxgptvH",
        "colab_type": "code",
        "colab": {
          "base_uri": "https://localhost:8080/",
          "height": 35
        },
        "outputId": "b55d7763-87c1-4177-9e3d-2a0753a1c8ab"
      },
      "source": [
        "popularity.probabilities.sum()"
      ],
      "execution_count": 9,
      "outputs": [
        {
          "output_type": "execute_result",
          "data": {
            "text/plain": [
              "0.9999999999999999"
            ]
          },
          "metadata": {
            "tags": []
          },
          "execution_count": 9
        }
      ]
    },
    {
      "cell_type": "code",
      "metadata": {
        "id": "xTU6-VrwqRiQ",
        "colab_type": "code",
        "colab": {
          "base_uri": "https://localhost:8080/",
          "height": 407
        },
        "outputId": "c3d62dc6-e39d-4570-98ff-0f1ac1dced6b"
      },
      "source": [
        "popularity"
      ],
      "execution_count": 10,
      "outputs": [
        {
          "output_type": "execute_result",
          "data": {
            "text/html": [
              "<div>\n",
              "<style scoped>\n",
              "    .dataframe tbody tr th:only-of-type {\n",
              "        vertical-align: middle;\n",
              "    }\n",
              "\n",
              "    .dataframe tbody tr th {\n",
              "        vertical-align: top;\n",
              "    }\n",
              "\n",
              "    .dataframe thead th {\n",
              "        text-align: right;\n",
              "    }\n",
              "</style>\n",
              "<table border=\"1\" class=\"dataframe\">\n",
              "  <thead>\n",
              "    <tr style=\"text-align: right;\">\n",
              "      <th></th>\n",
              "      <th>item_id</th>\n",
              "      <th>sales_value</th>\n",
              "      <th>probabilities</th>\n",
              "    </tr>\n",
              "  </thead>\n",
              "  <tbody>\n",
              "    <tr>\n",
              "      <th>0</th>\n",
              "      <td>25671</td>\n",
              "      <td>20.94</td>\n",
              "      <td>0.000012</td>\n",
              "    </tr>\n",
              "    <tr>\n",
              "      <th>1</th>\n",
              "      <td>26081</td>\n",
              "      <td>0.99</td>\n",
              "      <td>0.000003</td>\n",
              "    </tr>\n",
              "    <tr>\n",
              "      <th>2</th>\n",
              "      <td>26093</td>\n",
              "      <td>1.59</td>\n",
              "      <td>0.000004</td>\n",
              "    </tr>\n",
              "    <tr>\n",
              "      <th>3</th>\n",
              "      <td>26190</td>\n",
              "      <td>1.54</td>\n",
              "      <td>0.000004</td>\n",
              "    </tr>\n",
              "    <tr>\n",
              "      <th>4</th>\n",
              "      <td>26355</td>\n",
              "      <td>1.98</td>\n",
              "      <td>0.000004</td>\n",
              "    </tr>\n",
              "    <tr>\n",
              "      <th>...</th>\n",
              "      <td>...</td>\n",
              "      <td>...</td>\n",
              "      <td>...</td>\n",
              "    </tr>\n",
              "    <tr>\n",
              "      <th>89046</th>\n",
              "      <td>17991689</td>\n",
              "      <td>2.49</td>\n",
              "      <td>0.000005</td>\n",
              "    </tr>\n",
              "    <tr>\n",
              "      <th>89047</th>\n",
              "      <td>17991691</td>\n",
              "      <td>2.49</td>\n",
              "      <td>0.000005</td>\n",
              "    </tr>\n",
              "    <tr>\n",
              "      <th>89048</th>\n",
              "      <td>18000012</td>\n",
              "      <td>19.96</td>\n",
              "      <td>0.000012</td>\n",
              "    </tr>\n",
              "    <tr>\n",
              "      <th>89049</th>\n",
              "      <td>18024155</td>\n",
              "      <td>3.99</td>\n",
              "      <td>0.000006</td>\n",
              "    </tr>\n",
              "    <tr>\n",
              "      <th>89050</th>\n",
              "      <td>18024556</td>\n",
              "      <td>30.51</td>\n",
              "      <td>0.000014</td>\n",
              "    </tr>\n",
              "  </tbody>\n",
              "</table>\n",
              "<p>89051 rows × 3 columns</p>\n",
              "</div>"
            ],
            "text/plain": [
              "        item_id  sales_value  probabilities\n",
              "0         25671        20.94       0.000012\n",
              "1         26081         0.99       0.000003\n",
              "2         26093         1.59       0.000004\n",
              "3         26190         1.54       0.000004\n",
              "4         26355         1.98       0.000004\n",
              "...         ...          ...            ...\n",
              "89046  17991689         2.49       0.000005\n",
              "89047  17991691         2.49       0.000005\n",
              "89048  18000012        19.96       0.000012\n",
              "89049  18024155         3.99       0.000006\n",
              "89050  18024556        30.51       0.000014\n",
              "\n",
              "[89051 rows x 3 columns]"
            ]
          },
          "metadata": {
            "tags": []
          },
          "execution_count": 10
        }
      ]
    },
    {
      "cell_type": "code",
      "metadata": {
        "id": "gYI_Ebz5Q5ZR",
        "colab_type": "code",
        "colab": {}
      },
      "source": [
        "def weighted_random_recommendation(items_probabilities, n=5):\n",
        "    \"\"\"Случайные рекоммендации\n",
        "    \n",
        "    Input\n",
        "    -----\n",
        "    items_probabilities: pd.DataFrame\n",
        "        Датафрейм со столбцами item_id, probabilities. Сумма probabilities по всем товарам = 1\n",
        "    \"\"\"\n",
        "    \n",
        "    items = np.array(items_probabilities.item_id)\n",
        "    prob = np.array(items_probabilities.probabilities)\n",
        "    recs = np.random.choice(items, size=n, replace=False, p=prob)\n",
        "    \n",
        "    return recs.tolist()"
      ],
      "execution_count": 11,
      "outputs": []
    },
    {
      "cell_type": "code",
      "metadata": {
        "id": "go5GnWY1Je5T",
        "colab_type": "code",
        "colab": {}
      },
      "source": [
        "def precision_at_k(recommended_list, bought_list, k=5):\n",
        "    \n",
        "    bought_list = np.array(bought_list)\n",
        "    recommended_list = np.array(recommended_list)\n",
        "    \n",
        "    bought_list = bought_list  # Тут нет [:k] !!\n",
        "    recommended_list = recommended_list[:k]\n",
        "    \n",
        "    flags = np.isin(bought_list, recommended_list)\n",
        "    \n",
        "    precision = flags.sum() / len(recommended_list)\n",
        "    \n",
        "    return precision"
      ],
      "execution_count": 12,
      "outputs": []
    },
    {
      "cell_type": "code",
      "metadata": {
        "id": "ZWlWTsdmQ5ZV",
        "colab_type": "code",
        "colab": {
          "base_uri": "https://localhost:8080/",
          "height": 54
        },
        "outputId": "240aa09f-18fb-48ba-dc76-7f2644c0adf8"
      },
      "source": [
        "%%time\n",
        "\n",
        "\n",
        "result['weig_rand_rec'] = result['user_id'].apply(lambda x: weighted_random_recommendation(popularity, n=5))\n",
        "result.head(2)"
      ],
      "execution_count": 13,
      "outputs": [
        {
          "output_type": "stream",
          "text": [
            "CPU times: user 3.93 s, sys: 110 ms, total: 4.04 s\n",
            "Wall time: 4.08 s\n"
          ],
          "name": "stdout"
        }
      ]
    },
    {
      "cell_type": "code",
      "metadata": {
        "id": "H9M8u44-stjc",
        "colab_type": "code",
        "colab": {
          "base_uri": "https://localhost:8080/",
          "height": 407
        },
        "outputId": "3bf13740-da03-40c0-c4ba-941646440e12"
      },
      "source": [
        "result"
      ],
      "execution_count": 14,
      "outputs": [
        {
          "output_type": "execute_result",
          "data": {
            "text/html": [
              "<div>\n",
              "<style scoped>\n",
              "    .dataframe tbody tr th:only-of-type {\n",
              "        vertical-align: middle;\n",
              "    }\n",
              "\n",
              "    .dataframe tbody tr th {\n",
              "        vertical-align: top;\n",
              "    }\n",
              "\n",
              "    .dataframe thead th {\n",
              "        text-align: right;\n",
              "    }\n",
              "</style>\n",
              "<table border=\"1\" class=\"dataframe\">\n",
              "  <thead>\n",
              "    <tr style=\"text-align: right;\">\n",
              "      <th></th>\n",
              "      <th>user_id</th>\n",
              "      <th>actual</th>\n",
              "      <th>weig_rand_rec</th>\n",
              "    </tr>\n",
              "  </thead>\n",
              "  <tbody>\n",
              "    <tr>\n",
              "      <th>0</th>\n",
              "      <td>1</td>\n",
              "      <td>[821867, 834484, 856942, 865456, 889248, 90795...</td>\n",
              "      <td>[13190268, 954077, 6514095, 13910404, 8353743]</td>\n",
              "    </tr>\n",
              "    <tr>\n",
              "      <th>1</th>\n",
              "      <td>3</td>\n",
              "      <td>[835476, 851057, 872021, 878302, 879948, 90963...</td>\n",
              "      <td>[830245, 144561, 839747, 919157, 17104612]</td>\n",
              "    </tr>\n",
              "    <tr>\n",
              "      <th>2</th>\n",
              "      <td>6</td>\n",
              "      <td>[920308, 926804, 946489, 1006718, 1017061, 107...</td>\n",
              "      <td>[9677690, 941079, 1038145, 952657, 1017606]</td>\n",
              "    </tr>\n",
              "    <tr>\n",
              "      <th>3</th>\n",
              "      <td>7</td>\n",
              "      <td>[840386, 889774, 898068, 909714, 929067, 95347...</td>\n",
              "      <td>[17170636, 12810369, 821134, 9527549, 13876853]</td>\n",
              "    </tr>\n",
              "    <tr>\n",
              "      <th>4</th>\n",
              "      <td>8</td>\n",
              "      <td>[835098, 872137, 910439, 924610, 992977, 10412...</td>\n",
              "      <td>[1049735, 10150024, 1041317, 1027478, 915816]</td>\n",
              "    </tr>\n",
              "    <tr>\n",
              "      <th>...</th>\n",
              "      <td>...</td>\n",
              "      <td>...</td>\n",
              "      <td>...</td>\n",
              "    </tr>\n",
              "    <tr>\n",
              "      <th>2037</th>\n",
              "      <td>2496</td>\n",
              "      <td>[6534178]</td>\n",
              "      <td>[1126979, 903524, 955897, 6979536, 13095581]</td>\n",
              "    </tr>\n",
              "    <tr>\n",
              "      <th>2038</th>\n",
              "      <td>2497</td>\n",
              "      <td>[1016709, 9835695, 1132298, 16809501, 845294, ...</td>\n",
              "      <td>[9677692, 5573314, 10285365, 969468, 1034304]</td>\n",
              "    </tr>\n",
              "    <tr>\n",
              "      <th>2039</th>\n",
              "      <td>2498</td>\n",
              "      <td>[15716530, 834484, 901776, 914190, 958382, 972...</td>\n",
              "      <td>[1251216, 735395, 9575602, 912684, 12457091]</td>\n",
              "    </tr>\n",
              "    <tr>\n",
              "      <th>2040</th>\n",
              "      <td>2499</td>\n",
              "      <td>[867188, 877580, 902396, 914190, 951590, 95813...</td>\n",
              "      <td>[1087096, 1031193, 820321, 15452640, 12670146]</td>\n",
              "    </tr>\n",
              "    <tr>\n",
              "      <th>2041</th>\n",
              "      <td>2500</td>\n",
              "      <td>[852182, 856345, 923746, 948670, 1018007, 1044...</td>\n",
              "      <td>[968578, 846000, 837523, 9297582, 12386016]</td>\n",
              "    </tr>\n",
              "  </tbody>\n",
              "</table>\n",
              "<p>2042 rows × 3 columns</p>\n",
              "</div>"
            ],
            "text/plain": [
              "      user_id  ...                                    weig_rand_rec\n",
              "0           1  ...   [13190268, 954077, 6514095, 13910404, 8353743]\n",
              "1           3  ...       [830245, 144561, 839747, 919157, 17104612]\n",
              "2           6  ...      [9677690, 941079, 1038145, 952657, 1017606]\n",
              "3           7  ...  [17170636, 12810369, 821134, 9527549, 13876853]\n",
              "4           8  ...    [1049735, 10150024, 1041317, 1027478, 915816]\n",
              "...       ...  ...                                              ...\n",
              "2037     2496  ...     [1126979, 903524, 955897, 6979536, 13095581]\n",
              "2038     2497  ...    [9677692, 5573314, 10285365, 969468, 1034304]\n",
              "2039     2498  ...     [1251216, 735395, 9575602, 912684, 12457091]\n",
              "2040     2499  ...   [1087096, 1031193, 820321, 15452640, 12670146]\n",
              "2041     2500  ...      [968578, 846000, 837523, 9297582, 12386016]\n",
              "\n",
              "[2042 rows x 3 columns]"
            ]
          },
          "metadata": {
            "tags": []
          },
          "execution_count": 14
        }
      ]
    },
    {
      "cell_type": "code",
      "metadata": {
        "id": "PbamGCq-IFVE",
        "colab_type": "code",
        "colab": {}
      },
      "source": [
        "result['weig_rand_rec_prec'] = result.apply(lambda x: precision_at_k(x.weig_rand_rec, x.actual, k=5), axis=1)"
      ],
      "execution_count": 15,
      "outputs": []
    },
    {
      "cell_type": "code",
      "metadata": {
        "id": "S2cfw1tUJHV8",
        "colab_type": "code",
        "colab": {
          "base_uri": "https://localhost:8080/",
          "height": 35
        },
        "outputId": "82b3b79d-1908-4586-ad90-ed7752df9fa7"
      },
      "source": [
        "print('weighted random recommendation precision: ', result['weig_rand_rec_prec'].mean())"
      ],
      "execution_count": 16,
      "outputs": [
        {
          "output_type": "stream",
          "text": [
            "weighted random recommendation precision:  0.0006856023506366307\n"
          ],
          "name": "stdout"
        }
      ]
    },
    {
      "cell_type": "markdown",
      "metadata": {
        "id": "4H4STitVQ5ZY",
        "colab_type": "text"
      },
      "source": [
        "## Задание 2. Расчет метрик\n",
        "Рассчитайте Precision@5 для каждого алгоритма с помощью функции из вебинара 1. Какой алгоритм показывает лучшее качество?"
      ]
    },
    {
      "cell_type": "code",
      "metadata": {
        "id": "xSNs93hqQ5ZY",
        "colab_type": "code",
        "colab": {
          "base_uri": "https://localhost:8080/",
          "height": 1000
        },
        "outputId": "2bb9bc95-6263-4ded-bb6d-2aca964476d9"
      },
      "source": [
        "result = pd.read_csv('predictions_basic.csv')\n",
        "result"
      ],
      "execution_count": 17,
      "outputs": [
        {
          "output_type": "execute_result",
          "data": {
            "text/html": [
              "<div>\n",
              "<style scoped>\n",
              "    .dataframe tbody tr th:only-of-type {\n",
              "        vertical-align: middle;\n",
              "    }\n",
              "\n",
              "    .dataframe tbody tr th {\n",
              "        vertical-align: top;\n",
              "    }\n",
              "\n",
              "    .dataframe thead th {\n",
              "        text-align: right;\n",
              "    }\n",
              "</style>\n",
              "<table border=\"1\" class=\"dataframe\">\n",
              "  <thead>\n",
              "    <tr style=\"text-align: right;\">\n",
              "      <th></th>\n",
              "      <th>user_id</th>\n",
              "      <th>actual</th>\n",
              "      <th>random_recommendation</th>\n",
              "      <th>popular_recommendation</th>\n",
              "      <th>itemitem</th>\n",
              "      <th>cosine</th>\n",
              "      <th>tfidf</th>\n",
              "      <th>own_purchases</th>\n",
              "    </tr>\n",
              "  </thead>\n",
              "  <tbody>\n",
              "    <tr>\n",
              "      <th>0</th>\n",
              "      <td>1</td>\n",
              "      <td>[  821867   834484   856942   865456   889248 ...</td>\n",
              "      <td>[8157117, 870291, 1846901, 891748, 1038560]</td>\n",
              "      <td>[6534178, 6533889, 1029743, 6534166, 1082185]</td>\n",
              "      <td>[1082185, 981760, 1127831, 995242, 1098066]</td>\n",
              "      <td>[1082185, 981760, 1127831, 1098066, 961554]</td>\n",
              "      <td>[1082185, 981760, 1127831, 1098066, 961554]</td>\n",
              "      <td>[1082185, 1029743, 995785, 1004906, 1081177]</td>\n",
              "    </tr>\n",
              "    <tr>\n",
              "      <th>1</th>\n",
              "      <td>3</td>\n",
              "      <td>[  835476   851057   872021   878302   879948 ...</td>\n",
              "      <td>[1000965, 10121560, 9878622, 13512901, 13039531]</td>\n",
              "      <td>[6534178, 6533889, 1029743, 6534166, 1082185]</td>\n",
              "      <td>[1082185, 981760, 1098066, 995242, 826249]</td>\n",
              "      <td>[1082185, 1098066, 981760, 826249, 883404]</td>\n",
              "      <td>[1082185, 981760, 1098066, 826249, 883404]</td>\n",
              "      <td>[1082185, 1098066, 6534178, 1127831, 1068719]</td>\n",
              "    </tr>\n",
              "    <tr>\n",
              "      <th>2</th>\n",
              "      <td>6</td>\n",
              "      <td>[  920308   926804   946489  1006718  1017061 ...</td>\n",
              "      <td>[5129567, 6555376, 9487756, 6533880, 1117945]</td>\n",
              "      <td>[6534178, 6533889, 1029743, 6534166, 1082185]</td>\n",
              "      <td>[1082185, 981760, 1127831, 995242, 1098066]</td>\n",
              "      <td>[1082185, 981760, 1127831, 1098066, 961554]</td>\n",
              "      <td>[1082185, 981760, 1127831, 878996, 961554]</td>\n",
              "      <td>[1082185, 1029743, 6534178, 1127831, 995785]</td>\n",
              "    </tr>\n",
              "    <tr>\n",
              "      <th>3</th>\n",
              "      <td>7</td>\n",
              "      <td>[  840386   889774   898068   909714   929067 ...</td>\n",
              "      <td>[15740824, 9423981, 1052258, 13986798, 1003354]</td>\n",
              "      <td>[6534178, 6533889, 1029743, 6534166, 1082185]</td>\n",
              "      <td>[1082185, 981760, 1127831, 995242, 1098066]</td>\n",
              "      <td>[1082185, 981760, 1127831, 961554, 1098066]</td>\n",
              "      <td>[1082185, 981760, 1127831, 961554, 826249]</td>\n",
              "      <td>[1082185, 1029743, 1127831, 995785, 1044078]</td>\n",
              "    </tr>\n",
              "    <tr>\n",
              "      <th>4</th>\n",
              "      <td>8</td>\n",
              "      <td>[  835098   872137   910439   924610   992977 ...</td>\n",
              "      <td>[1964658, 954745, 976261, 7025202, 1054432]</td>\n",
              "      <td>[6534178, 6533889, 1029743, 6534166, 1082185]</td>\n",
              "      <td>[1082185, 981760, 1127831, 1098066, 995242]</td>\n",
              "      <td>[1082185, 981760, 1098066, 826249, 1127831]</td>\n",
              "      <td>[1082185, 981760, 1098066, 826249, 1127831]</td>\n",
              "      <td>[1082185, 1029743, 1098066, 6534178, 1127831]</td>\n",
              "    </tr>\n",
              "    <tr>\n",
              "      <th>...</th>\n",
              "      <td>...</td>\n",
              "      <td>...</td>\n",
              "      <td>...</td>\n",
              "      <td>...</td>\n",
              "      <td>...</td>\n",
              "      <td>...</td>\n",
              "      <td>...</td>\n",
              "      <td>...</td>\n",
              "    </tr>\n",
              "    <tr>\n",
              "      <th>2037</th>\n",
              "      <td>2496</td>\n",
              "      <td>[6534178]</td>\n",
              "      <td>[948756, 6039678, 1044480, 1088010, 7147133]</td>\n",
              "      <td>[6534178, 6533889, 1029743, 6534166, 1082185]</td>\n",
              "      <td>[1082185, 981760, 1098066, 995242, 1127831]</td>\n",
              "      <td>[1082185, 981760, 1098066, 826249, 1127831]</td>\n",
              "      <td>[1082185, 981760, 1098066, 826249, 961554]</td>\n",
              "      <td>[1082185, 1098066, 6534178, 995785, 1068719]</td>\n",
              "    </tr>\n",
              "    <tr>\n",
              "      <th>2038</th>\n",
              "      <td>2497</td>\n",
              "      <td>[ 1016709  9835695  1132298 16809501   845294 ...</td>\n",
              "      <td>[1017220, 9526172, 112154, 858863, 1025755]</td>\n",
              "      <td>[6534178, 6533889, 1029743, 6534166, 1082185]</td>\n",
              "      <td>[1082185, 981760, 1098066, 1127831, 995242]</td>\n",
              "      <td>[1082185, 981760, 1098066, 826249, 1127831]</td>\n",
              "      <td>[1082185, 981760, 1098066, 826249, 1127831]</td>\n",
              "      <td>[1082185, 1029743, 1098066, 6534178, 1127831]</td>\n",
              "    </tr>\n",
              "    <tr>\n",
              "      <th>2039</th>\n",
              "      <td>2498</td>\n",
              "      <td>[15716530   834484   901776   914190   958382 ...</td>\n",
              "      <td>[13511523, 15631907, 1016274, 12523694, 966472]</td>\n",
              "      <td>[6534178, 6533889, 1029743, 6534166, 1082185]</td>\n",
              "      <td>[1082185, 981760, 1098066, 1127831, 995242]</td>\n",
              "      <td>[1082185, 981760, 1098066, 826249, 961554]</td>\n",
              "      <td>[1082185, 981760, 1098066, 826249, 961554]</td>\n",
              "      <td>[1082185, 1029743, 1068719, 1106523, 5569230]</td>\n",
              "    </tr>\n",
              "    <tr>\n",
              "      <th>2040</th>\n",
              "      <td>2499</td>\n",
              "      <td>[  867188   877580   902396   914190   951590 ...</td>\n",
              "      <td>[968999, 2433988, 6039584, 845823, 926951]</td>\n",
              "      <td>[6534178, 6533889, 1029743, 6534166, 1082185]</td>\n",
              "      <td>[1082185, 981760, 1098066, 826249, 995242]</td>\n",
              "      <td>[1082185, 981760, 1098066, 826249, 883404]</td>\n",
              "      <td>[1082185, 981760, 1098066, 826249, 883404]</td>\n",
              "      <td>[1082185, 1098066, 6534178, 1004906, 1081177]</td>\n",
              "    </tr>\n",
              "    <tr>\n",
              "      <th>2041</th>\n",
              "      <td>2500</td>\n",
              "      <td>[  852182   856345   923746   948670  1018007 ...</td>\n",
              "      <td>[12781831, 1029504, 9521794, 101531, 15686793]</td>\n",
              "      <td>[6534178, 6533889, 1029743, 6534166, 1082185]</td>\n",
              "      <td>[1082185, 981760, 1127831, 995242, 1098066]</td>\n",
              "      <td>[1082185, 981760, 1127831, 1098066, 961554]</td>\n",
              "      <td>[1082185, 981760, 1127831, 961554, 1098066]</td>\n",
              "      <td>[1082185, 1029743, 1098066, 6534178, 1127831]</td>\n",
              "    </tr>\n",
              "  </tbody>\n",
              "</table>\n",
              "<p>2042 rows × 8 columns</p>\n",
              "</div>"
            ],
            "text/plain": [
              "      user_id  ...                                  own_purchases\n",
              "0           1  ...   [1082185, 1029743, 995785, 1004906, 1081177]\n",
              "1           3  ...  [1082185, 1098066, 6534178, 1127831, 1068719]\n",
              "2           6  ...   [1082185, 1029743, 6534178, 1127831, 995785]\n",
              "3           7  ...   [1082185, 1029743, 1127831, 995785, 1044078]\n",
              "4           8  ...  [1082185, 1029743, 1098066, 6534178, 1127831]\n",
              "...       ...  ...                                            ...\n",
              "2037     2496  ...   [1082185, 1098066, 6534178, 995785, 1068719]\n",
              "2038     2497  ...  [1082185, 1029743, 1098066, 6534178, 1127831]\n",
              "2039     2498  ...  [1082185, 1029743, 1068719, 1106523, 5569230]\n",
              "2040     2499  ...  [1082185, 1098066, 6534178, 1004906, 1081177]\n",
              "2041     2500  ...  [1082185, 1029743, 1098066, 6534178, 1127831]\n",
              "\n",
              "[2042 rows x 8 columns]"
            ]
          },
          "metadata": {
            "tags": []
          },
          "execution_count": 17
        }
      ]
    },
    {
      "cell_type": "code",
      "metadata": {
        "id": "fcR_mqIPMH_3",
        "colab_type": "code",
        "colab": {}
      },
      "source": [
        "# Сохраняем эту колонку, так как ее не надо обрабатывать\n",
        "id = result.user_id"
      ],
      "execution_count": 18,
      "outputs": []
    },
    {
      "cell_type": "code",
      "metadata": {
        "id": "cMgX8smEUoJ8",
        "colab_type": "code",
        "colab": {
          "base_uri": "https://localhost:8080/",
          "height": 235
        },
        "outputId": "447dd55b-8237-4987-c537-326994ab9942"
      },
      "source": [
        "id"
      ],
      "execution_count": 19,
      "outputs": [
        {
          "output_type": "execute_result",
          "data": {
            "text/plain": [
              "0          1\n",
              "1          3\n",
              "2          6\n",
              "3          7\n",
              "4          8\n",
              "        ... \n",
              "2037    2496\n",
              "2038    2497\n",
              "2039    2498\n",
              "2040    2499\n",
              "2041    2500\n",
              "Name: user_id, Length: 2042, dtype: int64"
            ]
          },
          "metadata": {
            "tags": []
          },
          "execution_count": 19
        }
      ]
    },
    {
      "cell_type": "code",
      "metadata": {
        "id": "COE4XhBmP9De",
        "colab_type": "code",
        "colab": {}
      },
      "source": [
        "# Удаляем user_id, чтобы он не изменился вместе со всеми. Потом его приклеим\n",
        "result = result.drop(columns=['user_id'])"
      ],
      "execution_count": 20,
      "outputs": []
    },
    {
      "cell_type": "code",
      "metadata": {
        "id": "qLrd05k5_EgM",
        "colab_type": "code",
        "colab": {}
      },
      "source": [
        "# Приводим все в строковый тип\n",
        "res = result.applymap(lambda x: str(x))"
      ],
      "execution_count": 21,
      "outputs": []
    },
    {
      "cell_type": "code",
      "metadata": {
        "id": "-CDRuy5b_LcQ",
        "colab_type": "code",
        "colab": {}
      },
      "source": [
        "# Удаляем скобки\n",
        "res = res.applymap(lambda x: x[1:-1])"
      ],
      "execution_count": 22,
      "outputs": []
    },
    {
      "cell_type": "code",
      "metadata": {
        "id": "g6GN5sSkPHmv",
        "colab_type": "code",
        "colab": {}
      },
      "source": [
        "# Общим applymap не отделаемся, так как actual надо обрабатывать отдельно\n",
        "#res = res.applymap(lambda x: x.split(','))\n",
        "\n",
        "# Надо хитро обработать actual\n",
        "res.actual = res.actual.apply(lambda x: x.split())\n",
        "res.random_recommendation = res.random_recommendation.apply(lambda x: x.split(','))\n",
        "res.popular_recommendation = res.popular_recommendation.apply(lambda x: x.split(','))\n",
        "res.itemitem = res.itemitem.apply(lambda x: x.split(','))\n",
        "res.cosine = res.cosine.apply(lambda x: x.split(','))\n",
        "res.tfidf = res.tfidf.apply(lambda x: x.split(','))\n",
        "res.own_purchases = res.own_purchases.apply(lambda x: x.split(','))"
      ],
      "execution_count": 23,
      "outputs": []
    },
    {
      "cell_type": "code",
      "metadata": {
        "id": "PNOvZ5QfCtUu",
        "colab_type": "code",
        "colab": {}
      },
      "source": [
        "# Заполняем пропуски в own_purchases\n",
        "for i in range(2041):\n",
        "  if res.own_purchases[i] == ['']:\n",
        "    res.own_purchases[i] = res.own_purchases[i-1]\n",
        "\n",
        "#res.random_recommendation = res.random_recommendation.apply(lambda x: list(map(int, x)))\n",
        "#res.popular_recommendation = res.popular_recommendation.apply(lambda x: list(map(int, x)))\n",
        "#res.itemitem = res.itemitem.apply(lambda x: list(map(int, x)))\n",
        "#res.cosine = res.cosine.apply(lambda x: list(map(int, x)))\n",
        "#res.tfidf = res.tfidf.apply(lambda x: list(map(int, x)))\n",
        "\n",
        "# Не будет работать, если не заполнить пропуски\n",
        "#res.own_purchases = res.own_purchases.apply(lambda x: list(map(int, x)))\n",
        "\n",
        "# Заменяет предыдущие 6 строк кода\n",
        "# Не будет работать, если не заполнить пропуски в own_purchases\n",
        "res = res.applymap(lambda x: list(map(int, x)))"
      ],
      "execution_count": 24,
      "outputs": []
    },
    {
      "cell_type": "code",
      "metadata": {
        "id": "IVk6vdpLceEu",
        "colab_type": "code",
        "colab": {
          "base_uri": "https://localhost:8080/",
          "height": 580
        },
        "outputId": "20e5e8e9-f7fb-4dc2-e217-71ea3cd52c3e"
      },
      "source": [
        "res.applymap(lambda x: type(x[0]))"
      ],
      "execution_count": 25,
      "outputs": [
        {
          "output_type": "execute_result",
          "data": {
            "text/html": [
              "<div>\n",
              "<style scoped>\n",
              "    .dataframe tbody tr th:only-of-type {\n",
              "        vertical-align: middle;\n",
              "    }\n",
              "\n",
              "    .dataframe tbody tr th {\n",
              "        vertical-align: top;\n",
              "    }\n",
              "\n",
              "    .dataframe thead th {\n",
              "        text-align: right;\n",
              "    }\n",
              "</style>\n",
              "<table border=\"1\" class=\"dataframe\">\n",
              "  <thead>\n",
              "    <tr style=\"text-align: right;\">\n",
              "      <th></th>\n",
              "      <th>actual</th>\n",
              "      <th>random_recommendation</th>\n",
              "      <th>popular_recommendation</th>\n",
              "      <th>itemitem</th>\n",
              "      <th>cosine</th>\n",
              "      <th>tfidf</th>\n",
              "      <th>own_purchases</th>\n",
              "    </tr>\n",
              "  </thead>\n",
              "  <tbody>\n",
              "    <tr>\n",
              "      <th>0</th>\n",
              "      <td>&lt;class 'int'&gt;</td>\n",
              "      <td>&lt;class 'int'&gt;</td>\n",
              "      <td>&lt;class 'int'&gt;</td>\n",
              "      <td>&lt;class 'int'&gt;</td>\n",
              "      <td>&lt;class 'int'&gt;</td>\n",
              "      <td>&lt;class 'int'&gt;</td>\n",
              "      <td>&lt;class 'int'&gt;</td>\n",
              "    </tr>\n",
              "    <tr>\n",
              "      <th>1</th>\n",
              "      <td>&lt;class 'int'&gt;</td>\n",
              "      <td>&lt;class 'int'&gt;</td>\n",
              "      <td>&lt;class 'int'&gt;</td>\n",
              "      <td>&lt;class 'int'&gt;</td>\n",
              "      <td>&lt;class 'int'&gt;</td>\n",
              "      <td>&lt;class 'int'&gt;</td>\n",
              "      <td>&lt;class 'int'&gt;</td>\n",
              "    </tr>\n",
              "    <tr>\n",
              "      <th>2</th>\n",
              "      <td>&lt;class 'int'&gt;</td>\n",
              "      <td>&lt;class 'int'&gt;</td>\n",
              "      <td>&lt;class 'int'&gt;</td>\n",
              "      <td>&lt;class 'int'&gt;</td>\n",
              "      <td>&lt;class 'int'&gt;</td>\n",
              "      <td>&lt;class 'int'&gt;</td>\n",
              "      <td>&lt;class 'int'&gt;</td>\n",
              "    </tr>\n",
              "    <tr>\n",
              "      <th>3</th>\n",
              "      <td>&lt;class 'int'&gt;</td>\n",
              "      <td>&lt;class 'int'&gt;</td>\n",
              "      <td>&lt;class 'int'&gt;</td>\n",
              "      <td>&lt;class 'int'&gt;</td>\n",
              "      <td>&lt;class 'int'&gt;</td>\n",
              "      <td>&lt;class 'int'&gt;</td>\n",
              "      <td>&lt;class 'int'&gt;</td>\n",
              "    </tr>\n",
              "    <tr>\n",
              "      <th>4</th>\n",
              "      <td>&lt;class 'int'&gt;</td>\n",
              "      <td>&lt;class 'int'&gt;</td>\n",
              "      <td>&lt;class 'int'&gt;</td>\n",
              "      <td>&lt;class 'int'&gt;</td>\n",
              "      <td>&lt;class 'int'&gt;</td>\n",
              "      <td>&lt;class 'int'&gt;</td>\n",
              "      <td>&lt;class 'int'&gt;</td>\n",
              "    </tr>\n",
              "    <tr>\n",
              "      <th>...</th>\n",
              "      <td>...</td>\n",
              "      <td>...</td>\n",
              "      <td>...</td>\n",
              "      <td>...</td>\n",
              "      <td>...</td>\n",
              "      <td>...</td>\n",
              "      <td>...</td>\n",
              "    </tr>\n",
              "    <tr>\n",
              "      <th>2037</th>\n",
              "      <td>&lt;class 'int'&gt;</td>\n",
              "      <td>&lt;class 'int'&gt;</td>\n",
              "      <td>&lt;class 'int'&gt;</td>\n",
              "      <td>&lt;class 'int'&gt;</td>\n",
              "      <td>&lt;class 'int'&gt;</td>\n",
              "      <td>&lt;class 'int'&gt;</td>\n",
              "      <td>&lt;class 'int'&gt;</td>\n",
              "    </tr>\n",
              "    <tr>\n",
              "      <th>2038</th>\n",
              "      <td>&lt;class 'int'&gt;</td>\n",
              "      <td>&lt;class 'int'&gt;</td>\n",
              "      <td>&lt;class 'int'&gt;</td>\n",
              "      <td>&lt;class 'int'&gt;</td>\n",
              "      <td>&lt;class 'int'&gt;</td>\n",
              "      <td>&lt;class 'int'&gt;</td>\n",
              "      <td>&lt;class 'int'&gt;</td>\n",
              "    </tr>\n",
              "    <tr>\n",
              "      <th>2039</th>\n",
              "      <td>&lt;class 'int'&gt;</td>\n",
              "      <td>&lt;class 'int'&gt;</td>\n",
              "      <td>&lt;class 'int'&gt;</td>\n",
              "      <td>&lt;class 'int'&gt;</td>\n",
              "      <td>&lt;class 'int'&gt;</td>\n",
              "      <td>&lt;class 'int'&gt;</td>\n",
              "      <td>&lt;class 'int'&gt;</td>\n",
              "    </tr>\n",
              "    <tr>\n",
              "      <th>2040</th>\n",
              "      <td>&lt;class 'int'&gt;</td>\n",
              "      <td>&lt;class 'int'&gt;</td>\n",
              "      <td>&lt;class 'int'&gt;</td>\n",
              "      <td>&lt;class 'int'&gt;</td>\n",
              "      <td>&lt;class 'int'&gt;</td>\n",
              "      <td>&lt;class 'int'&gt;</td>\n",
              "      <td>&lt;class 'int'&gt;</td>\n",
              "    </tr>\n",
              "    <tr>\n",
              "      <th>2041</th>\n",
              "      <td>&lt;class 'int'&gt;</td>\n",
              "      <td>&lt;class 'int'&gt;</td>\n",
              "      <td>&lt;class 'int'&gt;</td>\n",
              "      <td>&lt;class 'int'&gt;</td>\n",
              "      <td>&lt;class 'int'&gt;</td>\n",
              "      <td>&lt;class 'int'&gt;</td>\n",
              "      <td>&lt;class 'int'&gt;</td>\n",
              "    </tr>\n",
              "  </tbody>\n",
              "</table>\n",
              "<p>2042 rows × 7 columns</p>\n",
              "</div>"
            ],
            "text/plain": [
              "             actual random_recommendation  ...          tfidf  own_purchases\n",
              "0     <class 'int'>         <class 'int'>  ...  <class 'int'>  <class 'int'>\n",
              "1     <class 'int'>         <class 'int'>  ...  <class 'int'>  <class 'int'>\n",
              "2     <class 'int'>         <class 'int'>  ...  <class 'int'>  <class 'int'>\n",
              "3     <class 'int'>         <class 'int'>  ...  <class 'int'>  <class 'int'>\n",
              "4     <class 'int'>         <class 'int'>  ...  <class 'int'>  <class 'int'>\n",
              "...             ...                   ...  ...            ...            ...\n",
              "2037  <class 'int'>         <class 'int'>  ...  <class 'int'>  <class 'int'>\n",
              "2038  <class 'int'>         <class 'int'>  ...  <class 'int'>  <class 'int'>\n",
              "2039  <class 'int'>         <class 'int'>  ...  <class 'int'>  <class 'int'>\n",
              "2040  <class 'int'>         <class 'int'>  ...  <class 'int'>  <class 'int'>\n",
              "2041  <class 'int'>         <class 'int'>  ...  <class 'int'>  <class 'int'>\n",
              "\n",
              "[2042 rows x 7 columns]"
            ]
          },
          "metadata": {
            "tags": []
          },
          "execution_count": 25
        }
      ]
    },
    {
      "cell_type": "code",
      "metadata": {
        "id": "of9UrbmbcNAG",
        "colab_type": "code",
        "colab": {}
      },
      "source": [
        "# возвращаем колонку на место\n",
        "res['user_id'] = id\n",
        "cols = res.columns.to_list()\n",
        "cols = cols[-1:] + cols[:-1]\n",
        "res = res[cols]"
      ],
      "execution_count": 26,
      "outputs": []
    },
    {
      "cell_type": "code",
      "metadata": {
        "id": "EqNZlqAtcQH_",
        "colab_type": "code",
        "colab": {
          "base_uri": "https://localhost:8080/",
          "height": 1000
        },
        "outputId": "8bbaca77-d151-4899-8346-844b97da16f4"
      },
      "source": [
        "res"
      ],
      "execution_count": 27,
      "outputs": [
        {
          "output_type": "execute_result",
          "data": {
            "text/html": [
              "<div>\n",
              "<style scoped>\n",
              "    .dataframe tbody tr th:only-of-type {\n",
              "        vertical-align: middle;\n",
              "    }\n",
              "\n",
              "    .dataframe tbody tr th {\n",
              "        vertical-align: top;\n",
              "    }\n",
              "\n",
              "    .dataframe thead th {\n",
              "        text-align: right;\n",
              "    }\n",
              "</style>\n",
              "<table border=\"1\" class=\"dataframe\">\n",
              "  <thead>\n",
              "    <tr style=\"text-align: right;\">\n",
              "      <th></th>\n",
              "      <th>user_id</th>\n",
              "      <th>actual</th>\n",
              "      <th>random_recommendation</th>\n",
              "      <th>popular_recommendation</th>\n",
              "      <th>itemitem</th>\n",
              "      <th>cosine</th>\n",
              "      <th>tfidf</th>\n",
              "      <th>own_purchases</th>\n",
              "    </tr>\n",
              "  </thead>\n",
              "  <tbody>\n",
              "    <tr>\n",
              "      <th>0</th>\n",
              "      <td>1</td>\n",
              "      <td>[821867, 834484, 856942, 865456, 889248, 90795...</td>\n",
              "      <td>[8157117, 870291, 1846901, 891748, 1038560]</td>\n",
              "      <td>[6534178, 6533889, 1029743, 6534166, 1082185]</td>\n",
              "      <td>[1082185, 981760, 1127831, 995242, 1098066]</td>\n",
              "      <td>[1082185, 981760, 1127831, 1098066, 961554]</td>\n",
              "      <td>[1082185, 981760, 1127831, 1098066, 961554]</td>\n",
              "      <td>[1082185, 1029743, 995785, 1004906, 1081177]</td>\n",
              "    </tr>\n",
              "    <tr>\n",
              "      <th>1</th>\n",
              "      <td>3</td>\n",
              "      <td>[835476, 851057, 872021, 878302, 879948, 90963...</td>\n",
              "      <td>[1000965, 10121560, 9878622, 13512901, 13039531]</td>\n",
              "      <td>[6534178, 6533889, 1029743, 6534166, 1082185]</td>\n",
              "      <td>[1082185, 981760, 1098066, 995242, 826249]</td>\n",
              "      <td>[1082185, 1098066, 981760, 826249, 883404]</td>\n",
              "      <td>[1082185, 981760, 1098066, 826249, 883404]</td>\n",
              "      <td>[1082185, 1098066, 6534178, 1127831, 1068719]</td>\n",
              "    </tr>\n",
              "    <tr>\n",
              "      <th>2</th>\n",
              "      <td>6</td>\n",
              "      <td>[920308, 926804, 946489, 1006718, 1017061, 107...</td>\n",
              "      <td>[5129567, 6555376, 9487756, 6533880, 1117945]</td>\n",
              "      <td>[6534178, 6533889, 1029743, 6534166, 1082185]</td>\n",
              "      <td>[1082185, 981760, 1127831, 995242, 1098066]</td>\n",
              "      <td>[1082185, 981760, 1127831, 1098066, 961554]</td>\n",
              "      <td>[1082185, 981760, 1127831, 878996, 961554]</td>\n",
              "      <td>[1082185, 1029743, 6534178, 1127831, 995785]</td>\n",
              "    </tr>\n",
              "    <tr>\n",
              "      <th>3</th>\n",
              "      <td>7</td>\n",
              "      <td>[840386, 889774, 898068, 909714, 929067, 95347...</td>\n",
              "      <td>[15740824, 9423981, 1052258, 13986798, 1003354]</td>\n",
              "      <td>[6534178, 6533889, 1029743, 6534166, 1082185]</td>\n",
              "      <td>[1082185, 981760, 1127831, 995242, 1098066]</td>\n",
              "      <td>[1082185, 981760, 1127831, 961554, 1098066]</td>\n",
              "      <td>[1082185, 981760, 1127831, 961554, 826249]</td>\n",
              "      <td>[1082185, 1029743, 1127831, 995785, 1044078]</td>\n",
              "    </tr>\n",
              "    <tr>\n",
              "      <th>4</th>\n",
              "      <td>8</td>\n",
              "      <td>[835098, 872137, 910439, 924610, 992977, 10412...</td>\n",
              "      <td>[1964658, 954745, 976261, 7025202, 1054432]</td>\n",
              "      <td>[6534178, 6533889, 1029743, 6534166, 1082185]</td>\n",
              "      <td>[1082185, 981760, 1127831, 1098066, 995242]</td>\n",
              "      <td>[1082185, 981760, 1098066, 826249, 1127831]</td>\n",
              "      <td>[1082185, 981760, 1098066, 826249, 1127831]</td>\n",
              "      <td>[1082185, 1029743, 1098066, 6534178, 1127831]</td>\n",
              "    </tr>\n",
              "    <tr>\n",
              "      <th>...</th>\n",
              "      <td>...</td>\n",
              "      <td>...</td>\n",
              "      <td>...</td>\n",
              "      <td>...</td>\n",
              "      <td>...</td>\n",
              "      <td>...</td>\n",
              "      <td>...</td>\n",
              "      <td>...</td>\n",
              "    </tr>\n",
              "    <tr>\n",
              "      <th>2037</th>\n",
              "      <td>2496</td>\n",
              "      <td>[6534178]</td>\n",
              "      <td>[948756, 6039678, 1044480, 1088010, 7147133]</td>\n",
              "      <td>[6534178, 6533889, 1029743, 6534166, 1082185]</td>\n",
              "      <td>[1082185, 981760, 1098066, 995242, 1127831]</td>\n",
              "      <td>[1082185, 981760, 1098066, 826249, 1127831]</td>\n",
              "      <td>[1082185, 981760, 1098066, 826249, 961554]</td>\n",
              "      <td>[1082185, 1098066, 6534178, 995785, 1068719]</td>\n",
              "    </tr>\n",
              "    <tr>\n",
              "      <th>2038</th>\n",
              "      <td>2497</td>\n",
              "      <td>[1016709, 9835695, 1132298, 16809501, 845294, ...</td>\n",
              "      <td>[1017220, 9526172, 112154, 858863, 1025755]</td>\n",
              "      <td>[6534178, 6533889, 1029743, 6534166, 1082185]</td>\n",
              "      <td>[1082185, 981760, 1098066, 1127831, 995242]</td>\n",
              "      <td>[1082185, 981760, 1098066, 826249, 1127831]</td>\n",
              "      <td>[1082185, 981760, 1098066, 826249, 1127831]</td>\n",
              "      <td>[1082185, 1029743, 1098066, 6534178, 1127831]</td>\n",
              "    </tr>\n",
              "    <tr>\n",
              "      <th>2039</th>\n",
              "      <td>2498</td>\n",
              "      <td>[15716530, 834484, 901776, 914190, 958382, 972...</td>\n",
              "      <td>[13511523, 15631907, 1016274, 12523694, 966472]</td>\n",
              "      <td>[6534178, 6533889, 1029743, 6534166, 1082185]</td>\n",
              "      <td>[1082185, 981760, 1098066, 1127831, 995242]</td>\n",
              "      <td>[1082185, 981760, 1098066, 826249, 961554]</td>\n",
              "      <td>[1082185, 981760, 1098066, 826249, 961554]</td>\n",
              "      <td>[1082185, 1029743, 1068719, 1106523, 5569230]</td>\n",
              "    </tr>\n",
              "    <tr>\n",
              "      <th>2040</th>\n",
              "      <td>2499</td>\n",
              "      <td>[867188, 877580, 902396, 914190, 951590, 95813...</td>\n",
              "      <td>[968999, 2433988, 6039584, 845823, 926951]</td>\n",
              "      <td>[6534178, 6533889, 1029743, 6534166, 1082185]</td>\n",
              "      <td>[1082185, 981760, 1098066, 826249, 995242]</td>\n",
              "      <td>[1082185, 981760, 1098066, 826249, 883404]</td>\n",
              "      <td>[1082185, 981760, 1098066, 826249, 883404]</td>\n",
              "      <td>[1082185, 1098066, 6534178, 1004906, 1081177]</td>\n",
              "    </tr>\n",
              "    <tr>\n",
              "      <th>2041</th>\n",
              "      <td>2500</td>\n",
              "      <td>[852182, 856345, 923746, 948670, 1018007, 1044...</td>\n",
              "      <td>[12781831, 1029504, 9521794, 101531, 15686793]</td>\n",
              "      <td>[6534178, 6533889, 1029743, 6534166, 1082185]</td>\n",
              "      <td>[1082185, 981760, 1127831, 995242, 1098066]</td>\n",
              "      <td>[1082185, 981760, 1127831, 1098066, 961554]</td>\n",
              "      <td>[1082185, 981760, 1127831, 961554, 1098066]</td>\n",
              "      <td>[1082185, 1029743, 1098066, 6534178, 1127831]</td>\n",
              "    </tr>\n",
              "  </tbody>\n",
              "</table>\n",
              "<p>2042 rows × 8 columns</p>\n",
              "</div>"
            ],
            "text/plain": [
              "      user_id  ...                                  own_purchases\n",
              "0           1  ...   [1082185, 1029743, 995785, 1004906, 1081177]\n",
              "1           3  ...  [1082185, 1098066, 6534178, 1127831, 1068719]\n",
              "2           6  ...   [1082185, 1029743, 6534178, 1127831, 995785]\n",
              "3           7  ...   [1082185, 1029743, 1127831, 995785, 1044078]\n",
              "4           8  ...  [1082185, 1029743, 1098066, 6534178, 1127831]\n",
              "...       ...  ...                                            ...\n",
              "2037     2496  ...   [1082185, 1098066, 6534178, 995785, 1068719]\n",
              "2038     2497  ...  [1082185, 1029743, 1098066, 6534178, 1127831]\n",
              "2039     2498  ...  [1082185, 1029743, 1068719, 1106523, 5569230]\n",
              "2040     2499  ...  [1082185, 1098066, 6534178, 1004906, 1081177]\n",
              "2041     2500  ...  [1082185, 1029743, 1098066, 6534178, 1127831]\n",
              "\n",
              "[2042 rows x 8 columns]"
            ]
          },
          "metadata": {
            "tags": []
          },
          "execution_count": 27
        }
      ]
    },
    {
      "cell_type": "code",
      "metadata": {
        "id": "1IxZyNwXogKe",
        "colab_type": "code",
        "colab": {}
      },
      "source": [
        "# Вычисляем точность предсказаний для каждого пользователя и записываем в тот же датафрейм \n",
        "\n",
        "res['ran_rec_prec'] = res.apply(lambda x: precision_at_k(x.random_recommendation, x.actual, k=5), axis=1)\n",
        "res['pop_rec_prec'] = res.apply(lambda x: precision_at_k(x.popular_recommendation, x.actual, k=5), axis=1)\n",
        "res['item_prec'] = res.apply(lambda x: precision_at_k(x.itemitem, x.actual, k=5), axis=1)\n",
        "res['cosine_prec'] = res.apply(lambda x: precision_at_k(x.cosine, x.actual, k=5), axis=1)\n",
        "res['tfidf_prec'] = res.apply(lambda x: precision_at_k(x.tfidf, x.actual, k=5), axis=1)\n",
        "res['own_pur_prec'] = res.apply(lambda x: precision_at_k(x.own_purchases, x.actual, k=5), axis=1)"
      ],
      "execution_count": 28,
      "outputs": []
    },
    {
      "cell_type": "code",
      "metadata": {
        "id": "BOXBVAg8gECG",
        "colab_type": "code",
        "colab": {
          "base_uri": "https://localhost:8080/",
          "height": 126
        },
        "outputId": "cb4b078d-f9eb-43b9-f20a-7f46fed4b92b"
      },
      "source": [
        "# Вычисляем и выводим точности предсказаний для всех пользователей\n",
        "\n",
        "print('random recommendation precision: ', res['ran_rec_prec'].mean())\n",
        "print('popular recommendation precision: ', res['pop_rec_prec'].mean())\n",
        "print('itemitem precision: ', res['item_prec'].mean())\n",
        "print('cosine precision: ', res['cosine_prec'].mean())\n",
        "print('tfidf precision: ', res['tfidf_prec'].mean())\n",
        "print('own purchases precision: ', res['own_pur_prec'].mean())"
      ],
      "execution_count": 29,
      "outputs": [
        {
          "output_type": "stream",
          "text": [
            "random recommendation precision:  0.0005876591576885406\n",
            "popular recommendation precision:  0.15523996082272082\n",
            "itemitem precision:  0.15132223310479728\n",
            "cosine precision:  0.1554358472086169\n",
            "tfidf precision:  0.16121449559255424\n",
            "own purchases precision:  0.20122428991184846\n"
          ],
          "name": "stdout"
        }
      ]
    },
    {
      "cell_type": "markdown",
      "metadata": {
        "id": "cd6y-oPQ-TMK",
        "colab_type": "text"
      },
      "source": [
        "#### Добавим weighted_random_recommendation в таблицу res и вычислим точность"
      ]
    },
    {
      "cell_type": "code",
      "metadata": {
        "id": "AyOAN_dh-9bg",
        "colab_type": "code",
        "colab": {}
      },
      "source": [
        "res['weig_rand_rec'] = res['user_id'].apply(lambda x: weighted_random_recommendation(popularity, n=5))"
      ],
      "execution_count": 30,
      "outputs": []
    },
    {
      "cell_type": "code",
      "metadata": {
        "id": "PXuQJxcdAI3K",
        "colab_type": "code",
        "colab": {}
      },
      "source": [
        "res['weig_rand_rec_prec'] = res.apply(lambda x: precision_at_k(x.weig_rand_rec, x.actual, k=5), axis=1)"
      ],
      "execution_count": 31,
      "outputs": []
    },
    {
      "cell_type": "code",
      "metadata": {
        "id": "clkUx7wvHPE2",
        "colab_type": "code",
        "colab": {
          "base_uri": "https://localhost:8080/",
          "height": 35
        },
        "outputId": "53950dfb-475e-4228-9d40-abc88d511f80"
      },
      "source": [
        "print('weighted random recommendation precision: ', res['weig_rand_rec_prec'].mean())"
      ],
      "execution_count": 32,
      "outputs": [
        {
          "output_type": "stream",
          "text": [
            "weighted random recommendation precision:  0.001077375122428991\n"
          ],
          "name": "stdout"
        }
      ]
    },
    {
      "cell_type": "markdown",
      "metadata": {
        "id": "R-aUUC70MMg2",
        "colab_type": "text"
      },
      "source": [
        "Лучшее качество у own purchases, но эти рекомендации не предлагают новые товары для пользователей"
      ]
    },
    {
      "cell_type": "markdown",
      "metadata": {
        "id": "gS2oAnws7P14",
        "colab_type": "text"
      },
      "source": [
        "## Задание 3*. Улучшение бейзлайнов и ItemItem\n",
        "\n",
        "- Попробуйте улучшить бейзлайны, считая их на топ- {2000, 5000, 10000} товаров. Постройте график зависимости precision@5 от топ-*\n",
        "- Попробуйте улучшить разные варианты ItemItemRecommender, выбирая число соседей $K$. Постройте график зависимости precision@5 от $K$ "
      ]
    },
    {
      "cell_type": "markdown",
      "metadata": {
        "id": "p4TR2jMQtiYc",
        "colab_type": "text"
      },
      "source": [
        "### Улучшение бейзлайнов"
      ]
    },
    {
      "cell_type": "code",
      "metadata": {
        "id": "howwMtVRbxFV",
        "colab_type": "code",
        "colab": {
          "base_uri": "https://localhost:8080/",
          "height": 198
        },
        "outputId": "d5251a60-7d51-4e4d-e2b5-35818401884b"
      },
      "source": [
        "popularity = data_train.groupby('item_id')['sales_value'].sum().reset_index()\n",
        "popularity.head()"
      ],
      "execution_count": 33,
      "outputs": [
        {
          "output_type": "execute_result",
          "data": {
            "text/html": [
              "<div>\n",
              "<style scoped>\n",
              "    .dataframe tbody tr th:only-of-type {\n",
              "        vertical-align: middle;\n",
              "    }\n",
              "\n",
              "    .dataframe tbody tr th {\n",
              "        vertical-align: top;\n",
              "    }\n",
              "\n",
              "    .dataframe thead th {\n",
              "        text-align: right;\n",
              "    }\n",
              "</style>\n",
              "<table border=\"1\" class=\"dataframe\">\n",
              "  <thead>\n",
              "    <tr style=\"text-align: right;\">\n",
              "      <th></th>\n",
              "      <th>item_id</th>\n",
              "      <th>sales_value</th>\n",
              "    </tr>\n",
              "  </thead>\n",
              "  <tbody>\n",
              "    <tr>\n",
              "      <th>0</th>\n",
              "      <td>25671</td>\n",
              "      <td>20.94</td>\n",
              "    </tr>\n",
              "    <tr>\n",
              "      <th>1</th>\n",
              "      <td>26081</td>\n",
              "      <td>0.99</td>\n",
              "    </tr>\n",
              "    <tr>\n",
              "      <th>2</th>\n",
              "      <td>26093</td>\n",
              "      <td>1.59</td>\n",
              "    </tr>\n",
              "    <tr>\n",
              "      <th>3</th>\n",
              "      <td>26190</td>\n",
              "      <td>1.54</td>\n",
              "    </tr>\n",
              "    <tr>\n",
              "      <th>4</th>\n",
              "      <td>26355</td>\n",
              "      <td>1.98</td>\n",
              "    </tr>\n",
              "  </tbody>\n",
              "</table>\n",
              "</div>"
            ],
            "text/plain": [
              "   item_id  sales_value\n",
              "0    25671        20.94\n",
              "1    26081         0.99\n",
              "2    26093         1.59\n",
              "3    26190         1.54\n",
              "4    26355         1.98"
            ]
          },
          "metadata": {
            "tags": []
          },
          "execution_count": 33
        }
      ]
    },
    {
      "cell_type": "code",
      "metadata": {
        "id": "y2a7MGlXdfd5",
        "colab_type": "code",
        "colab": {}
      },
      "source": [
        "top_2000 = popularity.sort_values('sales_value', ascending=False).head(2000)\n",
        "top_5000 = popularity.sort_values('sales_value', ascending=False).head(5000)\n",
        "top_10000 = popularity.sort_values('sales_value', ascending=False).head(10000)\n",
        "\n",
        "top_2000['probabilities'] = np.log1p(top_2000['sales_value'])\n",
        "top_2000['probabilities'] = top_2000['probabilities']/top_2000['probabilities'].sum()\n",
        "\n",
        "top_5000['probabilities'] = np.log1p(top_5000['sales_value'])\n",
        "top_5000['probabilities'] = top_5000['probabilities']/top_5000['probabilities'].sum()\n",
        "\n",
        "top_10000['probabilities'] = np.log1p(top_10000['sales_value'])\n",
        "top_10000['probabilities'] = top_10000['probabilities']/top_10000['probabilities'].sum()"
      ],
      "execution_count": 34,
      "outputs": []
    },
    {
      "cell_type": "code",
      "metadata": {
        "id": "AY1bxKyYfYHz",
        "colab_type": "code",
        "colab": {
          "base_uri": "https://localhost:8080/",
          "height": 72
        },
        "outputId": "2c305c9a-4cfc-4eba-b3f3-30795f60312f"
      },
      "source": [
        "print(top_2000.probabilities.sum())\n",
        "print(top_5000.probabilities.sum())\n",
        "print(top_10000.probabilities.sum())"
      ],
      "execution_count": 35,
      "outputs": [
        {
          "output_type": "stream",
          "text": [
            "1.0\n",
            "1.0\n",
            "0.9999999999999999\n"
          ],
          "name": "stdout"
        }
      ]
    },
    {
      "cell_type": "code",
      "metadata": {
        "id": "IVEMqA_Ng1ov",
        "colab_type": "code",
        "colab": {
          "base_uri": "https://localhost:8080/",
          "height": 198
        },
        "outputId": "d5e40af5-19dc-45dc-9d44-9e3f6ffdff26"
      },
      "source": [
        "top_2000.head()"
      ],
      "execution_count": 36,
      "outputs": [
        {
          "output_type": "execute_result",
          "data": {
            "text/html": [
              "<div>\n",
              "<style scoped>\n",
              "    .dataframe tbody tr th:only-of-type {\n",
              "        vertical-align: middle;\n",
              "    }\n",
              "\n",
              "    .dataframe tbody tr th {\n",
              "        vertical-align: top;\n",
              "    }\n",
              "\n",
              "    .dataframe thead th {\n",
              "        text-align: right;\n",
              "    }\n",
              "</style>\n",
              "<table border=\"1\" class=\"dataframe\">\n",
              "  <thead>\n",
              "    <tr style=\"text-align: right;\">\n",
              "      <th></th>\n",
              "      <th>item_id</th>\n",
              "      <th>sales_value</th>\n",
              "      <th>probabilities</th>\n",
              "    </tr>\n",
              "  </thead>\n",
              "  <tbody>\n",
              "    <tr>\n",
              "      <th>55470</th>\n",
              "      <td>6534178</td>\n",
              "      <td>447799.94</td>\n",
              "      <td>0.000935</td>\n",
              "    </tr>\n",
              "    <tr>\n",
              "      <th>55430</th>\n",
              "      <td>6533889</td>\n",
              "      <td>40483.34</td>\n",
              "      <td>0.000762</td>\n",
              "    </tr>\n",
              "    <tr>\n",
              "      <th>28895</th>\n",
              "      <td>1029743</td>\n",
              "      <td>35764.66</td>\n",
              "      <td>0.000753</td>\n",
              "    </tr>\n",
              "    <tr>\n",
              "      <th>55465</th>\n",
              "      <td>6534166</td>\n",
              "      <td>30170.77</td>\n",
              "      <td>0.000741</td>\n",
              "    </tr>\n",
              "    <tr>\n",
              "      <th>34707</th>\n",
              "      <td>1082185</td>\n",
              "      <td>26029.96</td>\n",
              "      <td>0.000730</td>\n",
              "    </tr>\n",
              "  </tbody>\n",
              "</table>\n",
              "</div>"
            ],
            "text/plain": [
              "       item_id  sales_value  probabilities\n",
              "55470  6534178    447799.94       0.000935\n",
              "55430  6533889     40483.34       0.000762\n",
              "28895  1029743     35764.66       0.000753\n",
              "55465  6534166     30170.77       0.000741\n",
              "34707  1082185     26029.96       0.000730"
            ]
          },
          "metadata": {
            "tags": []
          },
          "execution_count": 36
        }
      ]
    },
    {
      "cell_type": "code",
      "metadata": {
        "id": "IdJh-kEnPA3y",
        "colab_type": "code",
        "colab": {
          "base_uri": "https://localhost:8080/",
          "height": 108
        },
        "outputId": "58f79dc6-b663-4e02-82f8-fa3aa71a1fd4"
      },
      "source": [
        "result = data_test.groupby('user_id')['item_id'].unique().reset_index()\n",
        "result.columns=['user_id', 'actual']\n",
        "result.head(2)"
      ],
      "execution_count": 37,
      "outputs": [
        {
          "output_type": "execute_result",
          "data": {
            "text/html": [
              "<div>\n",
              "<style scoped>\n",
              "    .dataframe tbody tr th:only-of-type {\n",
              "        vertical-align: middle;\n",
              "    }\n",
              "\n",
              "    .dataframe tbody tr th {\n",
              "        vertical-align: top;\n",
              "    }\n",
              "\n",
              "    .dataframe thead th {\n",
              "        text-align: right;\n",
              "    }\n",
              "</style>\n",
              "<table border=\"1\" class=\"dataframe\">\n",
              "  <thead>\n",
              "    <tr style=\"text-align: right;\">\n",
              "      <th></th>\n",
              "      <th>user_id</th>\n",
              "      <th>actual</th>\n",
              "    </tr>\n",
              "  </thead>\n",
              "  <tbody>\n",
              "    <tr>\n",
              "      <th>0</th>\n",
              "      <td>1</td>\n",
              "      <td>[821867, 834484, 856942, 865456, 889248, 90795...</td>\n",
              "    </tr>\n",
              "    <tr>\n",
              "      <th>1</th>\n",
              "      <td>3</td>\n",
              "      <td>[835476, 851057, 872021, 878302, 879948, 90963...</td>\n",
              "    </tr>\n",
              "  </tbody>\n",
              "</table>\n",
              "</div>"
            ],
            "text/plain": [
              "   user_id                                             actual\n",
              "0        1  [821867, 834484, 856942, 865456, 889248, 90795...\n",
              "1        3  [835476, 851057, 872021, 878302, 879948, 90963..."
            ]
          },
          "metadata": {
            "tags": []
          },
          "execution_count": 37
        }
      ]
    },
    {
      "cell_type": "code",
      "metadata": {
        "id": "0gYpl5PwP6Sc",
        "colab_type": "code",
        "colab": {}
      },
      "source": [
        "def random_recommendation(items, n=5):\n",
        "    \"\"\"Случайные рекоммендации\"\"\"\n",
        "    \n",
        "    items = np.array(items)\n",
        "    recs = np.random.choice(items, size=n, replace=False)\n",
        "    \n",
        "    return recs.tolist()"
      ],
      "execution_count": 38,
      "outputs": []
    },
    {
      "cell_type": "code",
      "metadata": {
        "id": "6Npl4sd8QHLl",
        "colab_type": "code",
        "colab": {
          "base_uri": "https://localhost:8080/",
          "height": 54
        },
        "outputId": "28133178-1a7c-42a3-9665-2fc78b5a971a"
      },
      "source": [
        "# popularity_recommendation не будет зависеть от выбора 2000, 5000 или 10000\n",
        "# популярных товаров, так как топ рекомендаций всегда один и тот же\n",
        "\n",
        "%%time\n",
        "\n",
        "result['rand_rec_2000'] = result['user_id'].apply(lambda x: random_recommendation(top_2000.item_id, n=5))\n",
        "result['rand_rec_5000'] = result['user_id'].apply(lambda x: random_recommendation(top_5000.item_id, n=5))\n",
        "result['rand_rec_10000'] = result['user_id'].apply(lambda x: random_recommendation(top_10000.item_id, n=5))\n",
        "\n",
        "result['weigh_rand_rec_2000'] = result['user_id'].apply(lambda x: weighted_random_recommendation(top_2000, n=5))\n",
        "result['weigh_rand_rec_5000'] = result['user_id'].apply(lambda x: weighted_random_recommendation(top_5000, n=5))\n",
        "result['weigh_rand_rec_10000'] = result['user_id'].apply(lambda x: weighted_random_recommendation(top_10000, n=5))\n",
        "\n",
        "result.head(2)"
      ],
      "execution_count": 39,
      "outputs": [
        {
          "output_type": "stream",
          "text": [
            "CPU times: user 2.24 s, sys: 1.57 ms, total: 2.24 s\n",
            "Wall time: 2.25 s\n"
          ],
          "name": "stdout"
        }
      ]
    },
    {
      "cell_type": "code",
      "metadata": {
        "id": "AICQ4ho6hoSL",
        "colab_type": "code",
        "colab": {}
      },
      "source": [
        "# Вычисляем точность предсказаний для каждого пользователя и записываем в тот же датафрейм \n",
        "\n",
        "result['rr_prec_2000'] = result.apply(lambda x: precision_at_k(x.rand_rec_2000\t, x.actual, k=5), axis=1)\n",
        "result['rr_prec_5000'] = result.apply(lambda x: precision_at_k(x.rand_rec_5000\t, x.actual, k=5), axis=1)\n",
        "result['rr_prec_10000'] = result.apply(lambda x: precision_at_k(x.rand_rec_10000\t, x.actual, k=5), axis=1)\n",
        "result['wrr_prec_2000'] = result.apply(lambda x: precision_at_k(x.weigh_rand_rec_2000, x.actual, k=5), axis=1)\n",
        "result['wrr_prec_5000'] = result.apply(lambda x: precision_at_k(x.weigh_rand_rec_5000, x.actual, k=5), axis=1)\n",
        "result['wrr_prec_10000'] = result.apply(lambda x: precision_at_k(x.weigh_rand_rec_10000, x.actual, k=5), axis=1)"
      ],
      "execution_count": 40,
      "outputs": []
    },
    {
      "cell_type": "code",
      "metadata": {
        "id": "4fASYs8QiZ1T",
        "colab_type": "code",
        "colab": {
          "base_uri": "https://localhost:8080/",
          "height": 126
        },
        "outputId": "b297967f-9664-4181-8c24-0413d6da86dd"
      },
      "source": [
        "# Вычисляем и выводим точности предсказаний для всех пользователей\n",
        "\n",
        "print('random recommend precision 2000: ', result['rr_prec_2000'].mean())\n",
        "print('random recommend precision 5000: ', result['rr_prec_5000'].mean())\n",
        "print('random recommend precision 10000: ', result['rr_prec_10000'].mean())\n",
        "print('weigh random recommend precision 2000: ', result['wrr_prec_2000'].mean())\n",
        "print('weigh random recommend precision 5000: ', result['wrr_prec_5000'].mean())\n",
        "print('weigh random recommend precision 10000: ', result['wrr_prec_10000'].mean())"
      ],
      "execution_count": 41,
      "outputs": [
        {
          "output_type": "stream",
          "text": [
            "random recommend precision 2000:  0.008814887365328098\n",
            "random recommend precision 5000:  0.003917727717923606\n",
            "random recommend precision 10000:  0.0038197845249755163\n",
            "weigh random recommend precision 2000:  0.007345739471106749\n",
            "weigh random recommend precision 5000:  0.005484818805093042\n",
            "weigh random recommend precision 10000:  0.004407443682664055\n"
          ],
          "name": "stdout"
        }
      ]
    },
    {
      "cell_type": "code",
      "metadata": {
        "id": "kKUvcH6ZS2uO",
        "colab_type": "code",
        "colab": {}
      },
      "source": [
        "x = np.array([2000, 5000, 10000])\n",
        "rr_prec = np.array([0.0107, 0.0049, 0.0035])\n",
        "wrr_prec = np.array([0.013, 0.0074, 0.0041])"
      ],
      "execution_count": 42,
      "outputs": []
    },
    {
      "cell_type": "code",
      "metadata": {
        "id": "Df35VJ5AqJQn",
        "colab_type": "code",
        "colab": {
          "base_uri": "https://localhost:8080/",
          "height": 265
        },
        "outputId": "97624ac5-82f1-4363-b465-c67591f10bfc"
      },
      "source": [
        "fig, ax = plt.subplots()\n",
        "ax.plot(x, rr_prec, '-b', label='rr_prec')\n",
        "ax.plot(x, wrr_prec, '--r', label='wrr_prec')\n",
        "leg = ax.legend();"
      ],
      "execution_count": 43,
      "outputs": [
        {
          "output_type": "display_data",
          "data": {
            "image/png": "[encoded data removed]",
            "text/plain": [
              "<Figure size 432x288 with 1 Axes>"
            ]
          },
          "metadata": {
            "tags": [],
            "needs_background": "light"
          }
        }
      ]
    },
    {
      "cell_type": "markdown",
      "metadata": {
        "id": "vi__k6qUseK2",
        "colab_type": "text"
      },
      "source": [
        "Видно, что точность растет с уменьшением числа товаров в топе. Взвешенные рекомендации показывают лучший результат, чем случайные"
      ]
    },
    {
      "cell_type": "markdown",
      "metadata": {
        "id": "mVduW2zYuB3F",
        "colab_type": "text"
      },
      "source": [
        "### Улучшение ItemItemRecommender"
      ]
    },
    {
      "cell_type": "code",
      "metadata": {
        "id": "UQBbQhA-x7WA",
        "colab_type": "code",
        "colab": {
          "base_uri": "https://localhost:8080/",
          "height": 108
        },
        "outputId": "db01e3ab-5773-4e4a-9a27-211dc6c77c1c"
      },
      "source": [
        "result = data_test.groupby('user_id')['item_id'].unique().reset_index()\n",
        "result.columns=['user_id', 'actual']\n",
        "result.head(2)"
      ],
      "execution_count": 53,
      "outputs": [
        {
          "output_type": "execute_result",
          "data": {
            "text/html": [
              "<div>\n",
              "<style scoped>\n",
              "    .dataframe tbody tr th:only-of-type {\n",
              "        vertical-align: middle;\n",
              "    }\n",
              "\n",
              "    .dataframe tbody tr th {\n",
              "        vertical-align: top;\n",
              "    }\n",
              "\n",
              "    .dataframe thead th {\n",
              "        text-align: right;\n",
              "    }\n",
              "</style>\n",
              "<table border=\"1\" class=\"dataframe\">\n",
              "  <thead>\n",
              "    <tr style=\"text-align: right;\">\n",
              "      <th></th>\n",
              "      <th>user_id</th>\n",
              "      <th>actual</th>\n",
              "    </tr>\n",
              "  </thead>\n",
              "  <tbody>\n",
              "    <tr>\n",
              "      <th>0</th>\n",
              "      <td>1</td>\n",
              "      <td>[821867, 834484, 856942, 865456, 889248, 90795...</td>\n",
              "    </tr>\n",
              "    <tr>\n",
              "      <th>1</th>\n",
              "      <td>3</td>\n",
              "      <td>[835476, 851057, 872021, 878302, 879948, 90963...</td>\n",
              "    </tr>\n",
              "  </tbody>\n",
              "</table>\n",
              "</div>"
            ],
            "text/plain": [
              "   user_id                                             actual\n",
              "0        1  [821867, 834484, 856942, 865456, 889248, 90795...\n",
              "1        3  [835476, 851057, 872021, 878302, 879948, 90963..."
            ]
          },
          "metadata": {
            "tags": []
          },
          "execution_count": 53
        }
      ]
    },
    {
      "cell_type": "code",
      "metadata": {
        "id": "Y37sl4X1r_pk",
        "colab_type": "code",
        "colab": {
          "base_uri": "https://localhost:8080/",
          "height": 198
        },
        "outputId": "980dc461-e4af-460e-8181-c639c1e88103"
      },
      "source": [
        "popularity = data_train.groupby('item_id')['quantity'].sum().reset_index()\n",
        "popularity.rename(columns={'quantity': 'n_sold'}, inplace=True)\n",
        "\n",
        "popularity.head()"
      ],
      "execution_count": 54,
      "outputs": [
        {
          "output_type": "execute_result",
          "data": {
            "text/html": [
              "<div>\n",
              "<style scoped>\n",
              "    .dataframe tbody tr th:only-of-type {\n",
              "        vertical-align: middle;\n",
              "    }\n",
              "\n",
              "    .dataframe tbody tr th {\n",
              "        vertical-align: top;\n",
              "    }\n",
              "\n",
              "    .dataframe thead th {\n",
              "        text-align: right;\n",
              "    }\n",
              "</style>\n",
              "<table border=\"1\" class=\"dataframe\">\n",
              "  <thead>\n",
              "    <tr style=\"text-align: right;\">\n",
              "      <th></th>\n",
              "      <th>item_id</th>\n",
              "      <th>n_sold</th>\n",
              "    </tr>\n",
              "  </thead>\n",
              "  <tbody>\n",
              "    <tr>\n",
              "      <th>0</th>\n",
              "      <td>202291</td>\n",
              "      <td>35911</td>\n",
              "    </tr>\n",
              "    <tr>\n",
              "      <th>1</th>\n",
              "      <td>397896</td>\n",
              "      <td>1214994</td>\n",
              "    </tr>\n",
              "    <tr>\n",
              "      <th>2</th>\n",
              "      <td>420647</td>\n",
              "      <td>168661</td>\n",
              "    </tr>\n",
              "    <tr>\n",
              "      <th>3</th>\n",
              "      <td>480014</td>\n",
              "      <td>371107</td>\n",
              "    </tr>\n",
              "    <tr>\n",
              "      <th>4</th>\n",
              "      <td>545926</td>\n",
              "      <td>20134</td>\n",
              "    </tr>\n",
              "  </tbody>\n",
              "</table>\n",
              "</div>"
            ],
            "text/plain": [
              "   item_id   n_sold\n",
              "0   202291    35911\n",
              "1   397896  1214994\n",
              "2   420647   168661\n",
              "3   480014   371107\n",
              "4   545926    20134"
            ]
          },
          "metadata": {
            "tags": []
          },
          "execution_count": 54
        }
      ]
    },
    {
      "cell_type": "code",
      "metadata": {
        "id": "L7t9JoEXxPfW",
        "colab_type": "code",
        "colab": {}
      },
      "source": [
        "top_5000 = popularity.sort_values('n_sold', ascending=False).head(5000).item_id.tolist()"
      ],
      "execution_count": 55,
      "outputs": []
    },
    {
      "cell_type": "code",
      "metadata": {
        "id": "XmwxIuwWxTmS",
        "colab_type": "code",
        "colab": {
          "base_uri": "https://localhost:8080/",
          "height": 326
        },
        "outputId": "f7141c37-dcb3-4e13-9b72-e181b85d5d7d"
      },
      "source": [
        "# Заведем фиктивный item_id (если юзер покупал товары из топ-5000, то он \"купил\" такой товар)\n",
        "data_train.loc[~data_train['item_id'].isin(top_5000), 'item_id'] = 999999\n",
        "\n",
        "user_item_matrix = pd.pivot_table(data_train, \n",
        "                                  index='user_id', columns='item_id', \n",
        "                                  values='quantity',\n",
        "                                  aggfunc='count', \n",
        "                                  fill_value=0\n",
        "                                 )\n",
        "\n",
        "user_item_matrix[user_item_matrix > 0] = 1 # так как в итоге хотим предсказать \n",
        "user_item_matrix = user_item_matrix.astype(float) # необходимый тип матрицы для implicit\n",
        "\n",
        "# переведем в формат saprse matrix\n",
        "sparse_user_item = csr_matrix(user_item_matrix).tocsr()\n",
        "\n",
        "user_item_matrix.head(3)"
      ],
      "execution_count": 56,
      "outputs": [
        {
          "output_type": "stream",
          "text": [
            "/usr/local/lib/python3.6/dist-packages/pandas/core/indexing.py:966: SettingWithCopyWarning: \n",
            "A value is trying to be set on a copy of a slice from a DataFrame.\n",
            "Try using .loc[row_indexer,col_indexer] = value instead\n",
            "\n",
            "See the caveats in the documentation: https://pandas.pydata.org/pandas-docs/stable/user_guide/indexing.html#returning-a-view-versus-a-copy\n",
            "  self.obj[item] = s\n"
          ],
          "name": "stderr"
        },
        {
          "output_type": "execute_result",
          "data": {
            "text/html": [
              "<div>\n",
              "<style scoped>\n",
              "    .dataframe tbody tr th:only-of-type {\n",
              "        vertical-align: middle;\n",
              "    }\n",
              "\n",
              "    .dataframe tbody tr th {\n",
              "        vertical-align: top;\n",
              "    }\n",
              "\n",
              "    .dataframe thead th {\n",
              "        text-align: right;\n",
              "    }\n",
              "</style>\n",
              "<table border=\"1\" class=\"dataframe\">\n",
              "  <thead>\n",
              "    <tr style=\"text-align: right;\">\n",
              "      <th>item_id</th>\n",
              "      <th>202291</th>\n",
              "      <th>397896</th>\n",
              "      <th>420647</th>\n",
              "      <th>480014</th>\n",
              "      <th>545926</th>\n",
              "      <th>707683</th>\n",
              "      <th>731106</th>\n",
              "      <th>818980</th>\n",
              "      <th>819063</th>\n",
              "      <th>819227</th>\n",
              "      <th>819255</th>\n",
              "      <th>819304</th>\n",
              "      <th>819308</th>\n",
              "      <th>819330</th>\n",
              "      <th>819518</th>\n",
              "      <th>819594</th>\n",
              "      <th>819643</th>\n",
              "      <th>819765</th>\n",
              "      <th>819840</th>\n",
              "      <th>819845</th>\n",
              "      <th>819927</th>\n",
              "      <th>819978</th>\n",
              "      <th>820082</th>\n",
              "      <th>820122</th>\n",
              "      <th>820165</th>\n",
              "      <th>820291</th>\n",
              "      <th>820301</th>\n",
              "      <th>820321</th>\n",
              "      <th>820361</th>\n",
              "      <th>820486</th>\n",
              "      <th>820518</th>\n",
              "      <th>820560</th>\n",
              "      <th>820701</th>\n",
              "      <th>820895</th>\n",
              "      <th>821025</th>\n",
              "      <th>821083</th>\n",
              "      <th>821200</th>\n",
              "      <th>821209</th>\n",
              "      <th>821219</th>\n",
              "      <th>821344</th>\n",
              "      <th>...</th>\n",
              "      <th>13512965</th>\n",
              "      <th>13671759</th>\n",
              "      <th>13672065</th>\n",
              "      <th>13777104</th>\n",
              "      <th>13841744</th>\n",
              "      <th>13842088</th>\n",
              "      <th>13842090</th>\n",
              "      <th>13842214</th>\n",
              "      <th>13842224</th>\n",
              "      <th>13877192</th>\n",
              "      <th>13945141</th>\n",
              "      <th>13945244</th>\n",
              "      <th>13987135</th>\n",
              "      <th>14025185</th>\n",
              "      <th>14043817</th>\n",
              "      <th>14043823</th>\n",
              "      <th>14043825</th>\n",
              "      <th>14043826</th>\n",
              "      <th>14050436</th>\n",
              "      <th>14050460</th>\n",
              "      <th>14050461</th>\n",
              "      <th>14077333</th>\n",
              "      <th>14106445</th>\n",
              "      <th>15452677</th>\n",
              "      <th>15452812</th>\n",
              "      <th>15506577</th>\n",
              "      <th>15511891</th>\n",
              "      <th>15596279</th>\n",
              "      <th>15596488</th>\n",
              "      <th>15596515</th>\n",
              "      <th>15778533</th>\n",
              "      <th>15831255</th>\n",
              "      <th>15926712</th>\n",
              "      <th>15926775</th>\n",
              "      <th>15926844</th>\n",
              "      <th>15926886</th>\n",
              "      <th>15927403</th>\n",
              "      <th>15927661</th>\n",
              "      <th>15927850</th>\n",
              "      <th>16809471</th>\n",
              "    </tr>\n",
              "    <tr>\n",
              "      <th>user_id</th>\n",
              "      <th></th>\n",
              "      <th></th>\n",
              "      <th></th>\n",
              "      <th></th>\n",
              "      <th></th>\n",
              "      <th></th>\n",
              "      <th></th>\n",
              "      <th></th>\n",
              "      <th></th>\n",
              "      <th></th>\n",
              "      <th></th>\n",
              "      <th></th>\n",
              "      <th></th>\n",
              "      <th></th>\n",
              "      <th></th>\n",
              "      <th></th>\n",
              "      <th></th>\n",
              "      <th></th>\n",
              "      <th></th>\n",
              "      <th></th>\n",
              "      <th></th>\n",
              "      <th></th>\n",
              "      <th></th>\n",
              "      <th></th>\n",
              "      <th></th>\n",
              "      <th></th>\n",
              "      <th></th>\n",
              "      <th></th>\n",
              "      <th></th>\n",
              "      <th></th>\n",
              "      <th></th>\n",
              "      <th></th>\n",
              "      <th></th>\n",
              "      <th></th>\n",
              "      <th></th>\n",
              "      <th></th>\n",
              "      <th></th>\n",
              "      <th></th>\n",
              "      <th></th>\n",
              "      <th></th>\n",
              "      <th></th>\n",
              "      <th></th>\n",
              "      <th></th>\n",
              "      <th></th>\n",
              "      <th></th>\n",
              "      <th></th>\n",
              "      <th></th>\n",
              "      <th></th>\n",
              "      <th></th>\n",
              "      <th></th>\n",
              "      <th></th>\n",
              "      <th></th>\n",
              "      <th></th>\n",
              "      <th></th>\n",
              "      <th></th>\n",
              "      <th></th>\n",
              "      <th></th>\n",
              "      <th></th>\n",
              "      <th></th>\n",
              "      <th></th>\n",
              "      <th></th>\n",
              "      <th></th>\n",
              "      <th></th>\n",
              "      <th></th>\n",
              "      <th></th>\n",
              "      <th></th>\n",
              "      <th></th>\n",
              "      <th></th>\n",
              "      <th></th>\n",
              "      <th></th>\n",
              "      <th></th>\n",
              "      <th></th>\n",
              "      <th></th>\n",
              "      <th></th>\n",
              "      <th></th>\n",
              "      <th></th>\n",
              "      <th></th>\n",
              "      <th></th>\n",
              "      <th></th>\n",
              "      <th></th>\n",
              "      <th></th>\n",
              "    </tr>\n",
              "  </thead>\n",
              "  <tbody>\n",
              "    <tr>\n",
              "      <th>1</th>\n",
              "      <td>0.0</td>\n",
              "      <td>0.0</td>\n",
              "      <td>0.0</td>\n",
              "      <td>0.0</td>\n",
              "      <td>0.0</td>\n",
              "      <td>0.0</td>\n",
              "      <td>0.0</td>\n",
              "      <td>0.0</td>\n",
              "      <td>0.0</td>\n",
              "      <td>0.0</td>\n",
              "      <td>0.0</td>\n",
              "      <td>0.0</td>\n",
              "      <td>0.0</td>\n",
              "      <td>0.0</td>\n",
              "      <td>0.0</td>\n",
              "      <td>0.0</td>\n",
              "      <td>0.0</td>\n",
              "      <td>0.0</td>\n",
              "      <td>0.0</td>\n",
              "      <td>0.0</td>\n",
              "      <td>0.0</td>\n",
              "      <td>0.0</td>\n",
              "      <td>0.0</td>\n",
              "      <td>0.0</td>\n",
              "      <td>1.0</td>\n",
              "      <td>0.0</td>\n",
              "      <td>0.0</td>\n",
              "      <td>0.0</td>\n",
              "      <td>0.0</td>\n",
              "      <td>0.0</td>\n",
              "      <td>0.0</td>\n",
              "      <td>0.0</td>\n",
              "      <td>0.0</td>\n",
              "      <td>0.0</td>\n",
              "      <td>0.0</td>\n",
              "      <td>0.0</td>\n",
              "      <td>0.0</td>\n",
              "      <td>0.0</td>\n",
              "      <td>0.0</td>\n",
              "      <td>0.0</td>\n",
              "      <td>...</td>\n",
              "      <td>0.0</td>\n",
              "      <td>0.0</td>\n",
              "      <td>0.0</td>\n",
              "      <td>0.0</td>\n",
              "      <td>0.0</td>\n",
              "      <td>0.0</td>\n",
              "      <td>0.0</td>\n",
              "      <td>0.0</td>\n",
              "      <td>0.0</td>\n",
              "      <td>0.0</td>\n",
              "      <td>0.0</td>\n",
              "      <td>0.0</td>\n",
              "      <td>0.0</td>\n",
              "      <td>0.0</td>\n",
              "      <td>0.0</td>\n",
              "      <td>0.0</td>\n",
              "      <td>0.0</td>\n",
              "      <td>0.0</td>\n",
              "      <td>0.0</td>\n",
              "      <td>0.0</td>\n",
              "      <td>0.0</td>\n",
              "      <td>0.0</td>\n",
              "      <td>0.0</td>\n",
              "      <td>0.0</td>\n",
              "      <td>0.0</td>\n",
              "      <td>0.0</td>\n",
              "      <td>0.0</td>\n",
              "      <td>0.0</td>\n",
              "      <td>0.0</td>\n",
              "      <td>0.0</td>\n",
              "      <td>0.0</td>\n",
              "      <td>0.0</td>\n",
              "      <td>0.0</td>\n",
              "      <td>0.0</td>\n",
              "      <td>1.0</td>\n",
              "      <td>0.0</td>\n",
              "      <td>0.0</td>\n",
              "      <td>0.0</td>\n",
              "      <td>0.0</td>\n",
              "      <td>0.0</td>\n",
              "    </tr>\n",
              "    <tr>\n",
              "      <th>2</th>\n",
              "      <td>0.0</td>\n",
              "      <td>0.0</td>\n",
              "      <td>0.0</td>\n",
              "      <td>0.0</td>\n",
              "      <td>0.0</td>\n",
              "      <td>0.0</td>\n",
              "      <td>0.0</td>\n",
              "      <td>0.0</td>\n",
              "      <td>0.0</td>\n",
              "      <td>0.0</td>\n",
              "      <td>0.0</td>\n",
              "      <td>0.0</td>\n",
              "      <td>0.0</td>\n",
              "      <td>0.0</td>\n",
              "      <td>0.0</td>\n",
              "      <td>0.0</td>\n",
              "      <td>0.0</td>\n",
              "      <td>0.0</td>\n",
              "      <td>0.0</td>\n",
              "      <td>0.0</td>\n",
              "      <td>0.0</td>\n",
              "      <td>0.0</td>\n",
              "      <td>0.0</td>\n",
              "      <td>0.0</td>\n",
              "      <td>0.0</td>\n",
              "      <td>0.0</td>\n",
              "      <td>1.0</td>\n",
              "      <td>0.0</td>\n",
              "      <td>0.0</td>\n",
              "      <td>0.0</td>\n",
              "      <td>0.0</td>\n",
              "      <td>0.0</td>\n",
              "      <td>0.0</td>\n",
              "      <td>0.0</td>\n",
              "      <td>0.0</td>\n",
              "      <td>1.0</td>\n",
              "      <td>0.0</td>\n",
              "      <td>0.0</td>\n",
              "      <td>0.0</td>\n",
              "      <td>0.0</td>\n",
              "      <td>...</td>\n",
              "      <td>0.0</td>\n",
              "      <td>0.0</td>\n",
              "      <td>0.0</td>\n",
              "      <td>0.0</td>\n",
              "      <td>0.0</td>\n",
              "      <td>0.0</td>\n",
              "      <td>0.0</td>\n",
              "      <td>0.0</td>\n",
              "      <td>0.0</td>\n",
              "      <td>0.0</td>\n",
              "      <td>0.0</td>\n",
              "      <td>0.0</td>\n",
              "      <td>0.0</td>\n",
              "      <td>0.0</td>\n",
              "      <td>0.0</td>\n",
              "      <td>0.0</td>\n",
              "      <td>0.0</td>\n",
              "      <td>0.0</td>\n",
              "      <td>0.0</td>\n",
              "      <td>0.0</td>\n",
              "      <td>0.0</td>\n",
              "      <td>0.0</td>\n",
              "      <td>0.0</td>\n",
              "      <td>0.0</td>\n",
              "      <td>0.0</td>\n",
              "      <td>0.0</td>\n",
              "      <td>0.0</td>\n",
              "      <td>0.0</td>\n",
              "      <td>0.0</td>\n",
              "      <td>0.0</td>\n",
              "      <td>0.0</td>\n",
              "      <td>0.0</td>\n",
              "      <td>0.0</td>\n",
              "      <td>0.0</td>\n",
              "      <td>0.0</td>\n",
              "      <td>0.0</td>\n",
              "      <td>0.0</td>\n",
              "      <td>0.0</td>\n",
              "      <td>0.0</td>\n",
              "      <td>0.0</td>\n",
              "    </tr>\n",
              "    <tr>\n",
              "      <th>3</th>\n",
              "      <td>0.0</td>\n",
              "      <td>0.0</td>\n",
              "      <td>0.0</td>\n",
              "      <td>0.0</td>\n",
              "      <td>0.0</td>\n",
              "      <td>0.0</td>\n",
              "      <td>0.0</td>\n",
              "      <td>0.0</td>\n",
              "      <td>0.0</td>\n",
              "      <td>0.0</td>\n",
              "      <td>1.0</td>\n",
              "      <td>0.0</td>\n",
              "      <td>0.0</td>\n",
              "      <td>0.0</td>\n",
              "      <td>0.0</td>\n",
              "      <td>0.0</td>\n",
              "      <td>0.0</td>\n",
              "      <td>0.0</td>\n",
              "      <td>0.0</td>\n",
              "      <td>0.0</td>\n",
              "      <td>0.0</td>\n",
              "      <td>0.0</td>\n",
              "      <td>0.0</td>\n",
              "      <td>0.0</td>\n",
              "      <td>0.0</td>\n",
              "      <td>0.0</td>\n",
              "      <td>0.0</td>\n",
              "      <td>0.0</td>\n",
              "      <td>0.0</td>\n",
              "      <td>0.0</td>\n",
              "      <td>0.0</td>\n",
              "      <td>0.0</td>\n",
              "      <td>0.0</td>\n",
              "      <td>0.0</td>\n",
              "      <td>0.0</td>\n",
              "      <td>0.0</td>\n",
              "      <td>0.0</td>\n",
              "      <td>0.0</td>\n",
              "      <td>0.0</td>\n",
              "      <td>0.0</td>\n",
              "      <td>...</td>\n",
              "      <td>0.0</td>\n",
              "      <td>0.0</td>\n",
              "      <td>0.0</td>\n",
              "      <td>0.0</td>\n",
              "      <td>0.0</td>\n",
              "      <td>0.0</td>\n",
              "      <td>0.0</td>\n",
              "      <td>1.0</td>\n",
              "      <td>0.0</td>\n",
              "      <td>0.0</td>\n",
              "      <td>0.0</td>\n",
              "      <td>1.0</td>\n",
              "      <td>0.0</td>\n",
              "      <td>0.0</td>\n",
              "      <td>0.0</td>\n",
              "      <td>0.0</td>\n",
              "      <td>0.0</td>\n",
              "      <td>0.0</td>\n",
              "      <td>0.0</td>\n",
              "      <td>0.0</td>\n",
              "      <td>0.0</td>\n",
              "      <td>0.0</td>\n",
              "      <td>0.0</td>\n",
              "      <td>0.0</td>\n",
              "      <td>0.0</td>\n",
              "      <td>0.0</td>\n",
              "      <td>0.0</td>\n",
              "      <td>1.0</td>\n",
              "      <td>0.0</td>\n",
              "      <td>0.0</td>\n",
              "      <td>0.0</td>\n",
              "      <td>0.0</td>\n",
              "      <td>0.0</td>\n",
              "      <td>0.0</td>\n",
              "      <td>0.0</td>\n",
              "      <td>0.0</td>\n",
              "      <td>0.0</td>\n",
              "      <td>0.0</td>\n",
              "      <td>0.0</td>\n",
              "      <td>0.0</td>\n",
              "    </tr>\n",
              "  </tbody>\n",
              "</table>\n",
              "<p>3 rows × 5000 columns</p>\n",
              "</div>"
            ],
            "text/plain": [
              "item_id  202291    397896    420647    ...  15927661  15927850  16809471\n",
              "user_id                                ...                              \n",
              "1             0.0       0.0       0.0  ...       0.0       0.0       0.0\n",
              "2             0.0       0.0       0.0  ...       0.0       0.0       0.0\n",
              "3             0.0       0.0       0.0  ...       0.0       0.0       0.0\n",
              "\n",
              "[3 rows x 5000 columns]"
            ]
          },
          "metadata": {
            "tags": []
          },
          "execution_count": 56
        }
      ]
    },
    {
      "cell_type": "code",
      "metadata": {
        "id": "VSiWBUf_xbIY",
        "colab_type": "code",
        "colab": {}
      },
      "source": [
        "userids = user_item_matrix.index.values\n",
        "itemids = user_item_matrix.columns.values\n",
        "\n",
        "matrix_userids = np.arange(len(userids))\n",
        "matrix_itemids = np.arange(len(itemids))\n",
        "\n",
        "id_to_itemid = dict(zip(matrix_itemids, itemids))\n",
        "id_to_userid = dict(zip(matrix_userids, userids))\n",
        "\n",
        "itemid_to_id = dict(zip(itemids, matrix_itemids))\n",
        "userid_to_id = dict(zip(userids, matrix_userids))"
      ],
      "execution_count": 57,
      "outputs": []
    },
    {
      "cell_type": "code",
      "metadata": {
        "id": "746-Q1tTxiYD",
        "colab_type": "code",
        "colab": {
          "base_uri": "https://localhost:8080/",
          "height": 204,
          "referenced_widgets": [
            "897069890a4a4de9b63efea18e2f1b5b",
            "947365fe78b24ef8ad10978c5b02308d",
            "8a152937147f42f69cfe0eff8999ce9a",
            "64ec12052874484ea6bbb7e0beb1afa9",
            "e027c999d077401e93cffb31caa77310",
            "4c57635415f44544857ba51045b4de5a",
            "1e3edc74150f4a23b2d156042027f9be",
            "eb85e8c144304a41b7ec51a3190e064a",
            "48374c35924f400e930885c85d98c677",
            "f1f904ffef3e45539f5eb4a22c3f9983",
            "466a7ed7660c49fca074ca357b61bd05",
            "244285578472471f9ab4479f9091bdb1",
            "eb7140442ce5407db540ab328e3a399a",
            "2fae748cc6f248baa67639ada4e5305e",
            "93abb72f6fd142548fa55406e45425b6",
            "c7d58a813c604bc1ae468127f47c91a4",
            "02c0a73a2d7c4e76a0dbf56c12fe1e57",
            "77b8194985f74d65a5d73dbecc4a6303",
            "cf44fdc21e754b12a97ed0dc7be74d0a",
            "9325b1436e264d3e859541e33156ace4",
            "b5abd97ae9034bd9bb5b21c873ebc5b6",
            "1964a1e5dec5455e97b84ae31499b471",
            "4a7cd15781e34485ba71e435085639a1",
            "ef180fde86a447b089264f7835ad4e4e"
          ]
        },
        "outputId": "2f2f10c1-c13b-46d6-d536-ef2f39043c55"
      },
      "source": [
        "%%time\n",
        "\n",
        "model_1 = ItemItemRecommender(K=1, num_threads=4)\n",
        "model_5 = ItemItemRecommender(K=5, num_threads=4) # K - кол-во билжайших соседей\n",
        "model_9 = ItemItemRecommender(K=9, num_threads=4)\n",
        "\n",
        "\n",
        "model_1.fit(csr_matrix(user_item_matrix).T.tocsr(), show_progress=True)\n",
        "model_5.fit(csr_matrix(user_item_matrix).T.tocsr(), show_progress=True)\n",
        "model_9.fit(csr_matrix(user_item_matrix).T.tocsr(), show_progress=True)\n",
        "\n",
        "result['itemitem_1'] = result['user_id'].\\\n",
        "    apply(lambda x: [id_to_itemid[rec[0]] for rec in \n",
        "                    model_1.recommend(userid=userid_to_id[x], \n",
        "                                    user_items=sparse_user_item,\n",
        "                                    N=5, \n",
        "                                    filter_already_liked_items=True, \n",
        "                                    filter_items=[itemid_to_id[999999]], \n",
        "                                    recalculate_user=True)])\n",
        "\n",
        "result['itemitem_5'] = result['user_id'].\\\n",
        "    apply(lambda x: [id_to_itemid[rec[0]] for rec in \n",
        "                    model_5.recommend(userid=userid_to_id[x], \n",
        "                                    user_items=sparse_user_item,\n",
        "                                    N=5, \n",
        "                                    filter_already_liked_items=True, \n",
        "                                    filter_items=[itemid_to_id[999999]], \n",
        "                                    recalculate_user=True)])\n",
        "    \n",
        "result['itemitem_9'] = result['user_id'].\\\n",
        "    apply(lambda x: [id_to_itemid[rec[0]] for rec in \n",
        "                    model_9.recommend(userid=userid_to_id[x], \n",
        "                                    user_items=sparse_user_item,\n",
        "                                    N=5, \n",
        "                                    filter_already_liked_items=True, \n",
        "                                    filter_items=[itemid_to_id[999999]], \n",
        "                                    recalculate_user=True)])"
      ],
      "execution_count": 58,
      "outputs": [
        {
          "output_type": "display_data",
          "data": {
            "application/vnd.jupyter.widget-view+json": {
              "model_id": "897069890a4a4de9b63efea18e2f1b5b",
              "version_minor": 0,
              "version_major": 2
            },
            "text/plain": [
              "HBox(children=(FloatProgress(value=0.0, max=5000.0), HTML(value='')))"
            ]
          },
          "metadata": {
            "tags": []
          }
        },
        {
          "output_type": "stream",
          "text": [
            "\n"
          ],
          "name": "stdout"
        },
        {
          "output_type": "display_data",
          "data": {
            "application/vnd.jupyter.widget-view+json": {
              "model_id": "48374c35924f400e930885c85d98c677",
              "version_minor": 0,
              "version_major": 2
            },
            "text/plain": [
              "HBox(children=(FloatProgress(value=0.0, max=5000.0), HTML(value='')))"
            ]
          },
          "metadata": {
            "tags": []
          }
        },
        {
          "output_type": "stream",
          "text": [
            "\n"
          ],
          "name": "stdout"
        },
        {
          "output_type": "display_data",
          "data": {
            "application/vnd.jupyter.widget-view+json": {
              "model_id": "02c0a73a2d7c4e76a0dbf56c12fe1e57",
              "version_minor": 0,
              "version_major": 2
            },
            "text/plain": [
              "HBox(children=(FloatProgress(value=0.0, max=5000.0), HTML(value='')))"
            ]
          },
          "metadata": {
            "tags": []
          }
        },
        {
          "output_type": "stream",
          "text": [
            "\n",
            "CPU times: user 7.76 s, sys: 83.1 ms, total: 7.84 s\n",
            "Wall time: 5.6 s\n"
          ],
          "name": "stdout"
        }
      ]
    },
    {
      "cell_type": "code",
      "metadata": {
        "id": "OcZdu2ZRyAzq",
        "colab_type": "code",
        "colab": {
          "base_uri": "https://localhost:8080/",
          "height": 74
        },
        "outputId": "6e21e8d7-7788-4213-c384-402029f479bf"
      },
      "source": [
        "result['itemitem_prec_1'] = result.apply(lambda x: precision_at_k(x.itemitem_1, x.actual, k=5), axis=1)\n",
        "result['itemitem_prec_5'] = result.apply(lambda x: precision_at_k(x.itemitem_5, x.actual, k=5), axis=1)\n",
        "result['itemitem_prec_9'] = result.apply(lambda x: precision_at_k(x.itemitem_9, x.actual, k=5), axis=1)"
      ],
      "execution_count": 59,
      "outputs": [
        {
          "output_type": "stream",
          "text": [
            "/usr/local/lib/python3.6/dist-packages/ipykernel_launcher.py:11: RuntimeWarning: invalid value encountered in long_scalars\n",
            "  # This is added back by InteractiveShellApp.init_path()\n"
          ],
          "name": "stderr"
        }
      ]
    },
    {
      "cell_type": "code",
      "metadata": {
        "id": "tAwL2y1m3bk_",
        "colab_type": "code",
        "colab": {
          "base_uri": "https://localhost:8080/",
          "height": 185
        },
        "outputId": "333d4a72-bb45-4cae-a605-d4a13919bf8c"
      },
      "source": [
        "result.head(1)"
      ],
      "execution_count": 60,
      "outputs": [
        {
          "output_type": "execute_result",
          "data": {
            "text/html": [
              "<div>\n",
              "<style scoped>\n",
              "    .dataframe tbody tr th:only-of-type {\n",
              "        vertical-align: middle;\n",
              "    }\n",
              "\n",
              "    .dataframe tbody tr th {\n",
              "        vertical-align: top;\n",
              "    }\n",
              "\n",
              "    .dataframe thead th {\n",
              "        text-align: right;\n",
              "    }\n",
              "</style>\n",
              "<table border=\"1\" class=\"dataframe\">\n",
              "  <thead>\n",
              "    <tr style=\"text-align: right;\">\n",
              "      <th></th>\n",
              "      <th>user_id</th>\n",
              "      <th>actual</th>\n",
              "      <th>itemitem_1</th>\n",
              "      <th>itemitem_5</th>\n",
              "      <th>itemitem_9</th>\n",
              "      <th>itemitem_prec_1</th>\n",
              "      <th>itemitem_prec_5</th>\n",
              "      <th>itemitem_prec_9</th>\n",
              "    </tr>\n",
              "  </thead>\n",
              "  <tbody>\n",
              "    <tr>\n",
              "      <th>0</th>\n",
              "      <td>1</td>\n",
              "      <td>[821867, 834484, 856942, 865456, 889248, 90795...</td>\n",
              "      <td>[10355978, 12172240, 10455984, 15926844, 12324...</td>\n",
              "      <td>[981760, 1127831, 1098066, 826249, 878996]</td>\n",
              "      <td>[981760, 1127831, 1098066, 826249, 6534178]</td>\n",
              "      <td>0.0</td>\n",
              "      <td>0.0</td>\n",
              "      <td>0.0</td>\n",
              "    </tr>\n",
              "  </tbody>\n",
              "</table>\n",
              "</div>"
            ],
            "text/plain": [
              "   user_id  ... itemitem_prec_9\n",
              "0        1  ...             0.0\n",
              "\n",
              "[1 rows x 8 columns]"
            ]
          },
          "metadata": {
            "tags": []
          },
          "execution_count": 60
        }
      ]
    },
    {
      "cell_type": "code",
      "metadata": {
        "id": "OUGF1EQhy_r-",
        "colab_type": "code",
        "colab": {
          "base_uri": "https://localhost:8080/",
          "height": 72
        },
        "outputId": "38296261-0ee5-43ce-c085-9799f21369a6"
      },
      "source": [
        "print('itemitem_1_prec: ', result['itemitem_prec_1'].mean())\n",
        "print('itemitem_5_prec: ', result['itemitem_prec_5'].mean())\n",
        "print('itemitem_9_prec: ', result['itemitem_prec_9'].mean())"
      ],
      "execution_count": 61,
      "outputs": [
        {
          "output_type": "stream",
          "text": [
            "itemitem_1_prec:  0.05412979351032487\n",
            "itemitem_5_prec:  0.03320274240940271\n",
            "itemitem_9_prec:  0.030362389813908063\n"
          ],
          "name": "stdout"
        }
      ]
    },
    {
      "cell_type": "code",
      "metadata": {
        "id": "kiJpLzVJyw_7",
        "colab_type": "code",
        "colab": {}
      },
      "source": [
        "x = np.array([1, 5, 9])\n",
        "itemitem = np.array([0.054, 0.033, 0.03])"
      ],
      "execution_count": 63,
      "outputs": []
    },
    {
      "cell_type": "code",
      "metadata": {
        "id": "5F1xvf__9ozj",
        "colab_type": "code",
        "colab": {
          "base_uri": "https://localhost:8080/",
          "height": 268
        },
        "outputId": "a9aa21f5-9492-41ff-a6b6-85e55256f62f"
      },
      "source": [
        "fig, ax = plt.subplots()\n",
        "ax.plot(x, itemitem, '-b', label='itemitem')\n",
        "leg = ax.legend();"
      ],
      "execution_count": 64,
      "outputs": [
        {
          "output_type": "display_data",
          "data": {
            "image/png": "[encoded data removed]",
            "text/plain": [
              "<Figure size 432x288 with 1 Axes>"
            ]
          },
          "metadata": {
            "tags": [],
            "needs_background": "light"
          }
        }
      ]
    },
    {
      "cell_type": "markdown",
      "metadata": {
        "id": "gHfBQRcK99na",
        "colab_type": "text"
      },
      "source": [
        "С увеличением числа соседей точность снижается, но рекомендации более разнообразные"
      ]
    }
  ]
}