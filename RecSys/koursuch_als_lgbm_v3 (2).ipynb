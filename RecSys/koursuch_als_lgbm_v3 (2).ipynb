{
  "nbformat": 4,
  "nbformat_minor": 0,
  "metadata": {
    "kernelspec": {
      "display_name": "Python 3",
      "language": "python",
      "name": "python3"
    },
    "language_info": {
      "codemirror_mode": {
        "name": "ipython",
        "version": 3
      },
      "file_extension": ".py",
      "mimetype": "text/x-python",
      "name": "python",
      "nbconvert_exporter": "python",
      "pygments_lexer": "ipython3",
      "version": "3.7.3"
    },
    "colab": {
      "name": "koursuch_als_lgbm_v3.ipynb",
      "provenance": [],
      "collapsed_sections": [],
      "toc_visible": true
    },
    "accelerator": "GPU",
    "widgets": {
      "application/vnd.jupyter.widget-state+json": {
        "fe2aed6db0824b9ab863c70dba08c91c": {
          "model_module": "@jupyter-widgets/controls",
          "model_name": "HBoxModel",
          "state": {
            "_view_name": "HBoxView",
            "_dom_classes": [],
            "_model_name": "HBoxModel",
            "_view_module": "@jupyter-widgets/controls",
            "_model_module_version": "1.5.0",
            "_view_count": null,
            "_view_module_version": "1.5.0",
            "box_style": "",
            "layout": "IPY_MODEL_a613a616dce945f8b742ce8396263eae",
            "_model_module": "@jupyter-widgets/controls",
            "children": [
              "IPY_MODEL_59107b2650934ce28b5620ffd9698f49",
              "IPY_MODEL_e952faa208e54489ba217b2b7c9a25dc"
            ]
          }
        },
        "a613a616dce945f8b742ce8396263eae": {
          "model_module": "@jupyter-widgets/base",
          "model_name": "LayoutModel",
          "state": {
            "_view_name": "LayoutView",
            "grid_template_rows": null,
            "right": null,
            "justify_content": null,
            "_view_module": "@jupyter-widgets/base",
            "overflow": null,
            "_model_module_version": "1.2.0",
            "_view_count": null,
            "flex_flow": null,
            "width": null,
            "min_width": null,
            "border": null,
            "align_items": null,
            "bottom": null,
            "_model_module": "@jupyter-widgets/base",
            "top": null,
            "grid_column": null,
            "overflow_y": null,
            "overflow_x": null,
            "grid_auto_flow": null,
            "grid_area": null,
            "grid_template_columns": null,
            "flex": null,
            "_model_name": "LayoutModel",
            "justify_items": null,
            "grid_row": null,
            "max_height": null,
            "align_content": null,
            "visibility": null,
            "align_self": null,
            "height": null,
            "min_height": null,
            "padding": null,
            "grid_auto_rows": null,
            "grid_gap": null,
            "max_width": null,
            "order": null,
            "_view_module_version": "1.2.0",
            "grid_template_areas": null,
            "object_position": null,
            "object_fit": null,
            "grid_auto_columns": null,
            "margin": null,
            "display": null,
            "left": null
          }
        },
        "59107b2650934ce28b5620ffd9698f49": {
          "model_module": "@jupyter-widgets/controls",
          "model_name": "FloatProgressModel",
          "state": {
            "_view_name": "ProgressView",
            "style": "IPY_MODEL_f041d89c04df4342ac013ea489d1970a",
            "_dom_classes": [],
            "description": "100%",
            "_model_name": "FloatProgressModel",
            "bar_style": "success",
            "max": 30,
            "_view_module": "@jupyter-widgets/controls",
            "_model_module_version": "1.5.0",
            "value": 30,
            "_view_count": null,
            "_view_module_version": "1.5.0",
            "orientation": "horizontal",
            "min": 0,
            "description_tooltip": null,
            "_model_module": "@jupyter-widgets/controls",
            "layout": "IPY_MODEL_859d85141fc44b1cb030485fa210a221"
          }
        },
        "e952faa208e54489ba217b2b7c9a25dc": {
          "model_module": "@jupyter-widgets/controls",
          "model_name": "HTMLModel",
          "state": {
            "_view_name": "HTMLView",
            "style": "IPY_MODEL_83dc319649164a50bc6d0a6a51528bf2",
            "_dom_classes": [],
            "description": "",
            "_model_name": "HTMLModel",
            "placeholder": "​",
            "_view_module": "@jupyter-widgets/controls",
            "_model_module_version": "1.5.0",
            "value": " 30/30 [00:01&lt;00:00, 15.29it/s]",
            "_view_count": null,
            "_view_module_version": "1.5.0",
            "description_tooltip": null,
            "_model_module": "@jupyter-widgets/controls",
            "layout": "IPY_MODEL_008ff7b44e7943b99cdd1ac729335c30"
          }
        },
        "f041d89c04df4342ac013ea489d1970a": {
          "model_module": "@jupyter-widgets/controls",
          "model_name": "ProgressStyleModel",
          "state": {
            "_view_name": "StyleView",
            "_model_name": "ProgressStyleModel",
            "description_width": "initial",
            "_view_module": "@jupyter-widgets/base",
            "_model_module_version": "1.5.0",
            "_view_count": null,
            "_view_module_version": "1.2.0",
            "bar_color": null,
            "_model_module": "@jupyter-widgets/controls"
          }
        },
        "859d85141fc44b1cb030485fa210a221": {
          "model_module": "@jupyter-widgets/base",
          "model_name": "LayoutModel",
          "state": {
            "_view_name": "LayoutView",
            "grid_template_rows": null,
            "right": null,
            "justify_content": null,
            "_view_module": "@jupyter-widgets/base",
            "overflow": null,
            "_model_module_version": "1.2.0",
            "_view_count": null,
            "flex_flow": null,
            "width": null,
            "min_width": null,
            "border": null,
            "align_items": null,
            "bottom": null,
            "_model_module": "@jupyter-widgets/base",
            "top": null,
            "grid_column": null,
            "overflow_y": null,
            "overflow_x": null,
            "grid_auto_flow": null,
            "grid_area": null,
            "grid_template_columns": null,
            "flex": null,
            "_model_name": "LayoutModel",
            "justify_items": null,
            "grid_row": null,
            "max_height": null,
            "align_content": null,
            "visibility": null,
            "align_self": null,
            "height": null,
            "min_height": null,
            "padding": null,
            "grid_auto_rows": null,
            "grid_gap": null,
            "max_width": null,
            "order": null,
            "_view_module_version": "1.2.0",
            "grid_template_areas": null,
            "object_position": null,
            "object_fit": null,
            "grid_auto_columns": null,
            "margin": null,
            "display": null,
            "left": null
          }
        },
        "83dc319649164a50bc6d0a6a51528bf2": {
          "model_module": "@jupyter-widgets/controls",
          "model_name": "DescriptionStyleModel",
          "state": {
            "_view_name": "StyleView",
            "_model_name": "DescriptionStyleModel",
            "description_width": "",
            "_view_module": "@jupyter-widgets/base",
            "_model_module_version": "1.5.0",
            "_view_count": null,
            "_view_module_version": "1.2.0",
            "_model_module": "@jupyter-widgets/controls"
          }
        },
        "008ff7b44e7943b99cdd1ac729335c30": {
          "model_module": "@jupyter-widgets/base",
          "model_name": "LayoutModel",
          "state": {
            "_view_name": "LayoutView",
            "grid_template_rows": null,
            "right": null,
            "justify_content": null,
            "_view_module": "@jupyter-widgets/base",
            "overflow": null,
            "_model_module_version": "1.2.0",
            "_view_count": null,
            "flex_flow": null,
            "width": null,
            "min_width": null,
            "border": null,
            "align_items": null,
            "bottom": null,
            "_model_module": "@jupyter-widgets/base",
            "top": null,
            "grid_column": null,
            "overflow_y": null,
            "overflow_x": null,
            "grid_auto_flow": null,
            "grid_area": null,
            "grid_template_columns": null,
            "flex": null,
            "_model_name": "LayoutModel",
            "justify_items": null,
            "grid_row": null,
            "max_height": null,
            "align_content": null,
            "visibility": null,
            "align_self": null,
            "height": null,
            "min_height": null,
            "padding": null,
            "grid_auto_rows": null,
            "grid_gap": null,
            "max_width": null,
            "order": null,
            "_view_module_version": "1.2.0",
            "grid_template_areas": null,
            "object_position": null,
            "object_fit": null,
            "grid_auto_columns": null,
            "margin": null,
            "display": null,
            "left": null
          }
        },
        "6bdb7077dd7e41e98e134bdaa332531e": {
          "model_module": "@jupyter-widgets/controls",
          "model_name": "HBoxModel",
          "state": {
            "_view_name": "HBoxView",
            "_dom_classes": [],
            "_model_name": "HBoxModel",
            "_view_module": "@jupyter-widgets/controls",
            "_model_module_version": "1.5.0",
            "_view_count": null,
            "_view_module_version": "1.5.0",
            "box_style": "",
            "layout": "IPY_MODEL_688295fe9c9c43e49a002e1fee5a5bf0",
            "_model_module": "@jupyter-widgets/controls",
            "children": [
              "IPY_MODEL_de21c1fe366d4938ac816556f862d98f",
              "IPY_MODEL_8a28eacde61a4690ba07700774a6831b"
            ]
          }
        },
        "688295fe9c9c43e49a002e1fee5a5bf0": {
          "model_module": "@jupyter-widgets/base",
          "model_name": "LayoutModel",
          "state": {
            "_view_name": "LayoutView",
            "grid_template_rows": null,
            "right": null,
            "justify_content": null,
            "_view_module": "@jupyter-widgets/base",
            "overflow": null,
            "_model_module_version": "1.2.0",
            "_view_count": null,
            "flex_flow": null,
            "width": null,
            "min_width": null,
            "border": null,
            "align_items": null,
            "bottom": null,
            "_model_module": "@jupyter-widgets/base",
            "top": null,
            "grid_column": null,
            "overflow_y": null,
            "overflow_x": null,
            "grid_auto_flow": null,
            "grid_area": null,
            "grid_template_columns": null,
            "flex": null,
            "_model_name": "LayoutModel",
            "justify_items": null,
            "grid_row": null,
            "max_height": null,
            "align_content": null,
            "visibility": null,
            "align_self": null,
            "height": null,
            "min_height": null,
            "padding": null,
            "grid_auto_rows": null,
            "grid_gap": null,
            "max_width": null,
            "order": null,
            "_view_module_version": "1.2.0",
            "grid_template_areas": null,
            "object_position": null,
            "object_fit": null,
            "grid_auto_columns": null,
            "margin": null,
            "display": null,
            "left": null
          }
        },
        "de21c1fe366d4938ac816556f862d98f": {
          "model_module": "@jupyter-widgets/controls",
          "model_name": "FloatProgressModel",
          "state": {
            "_view_name": "ProgressView",
            "style": "IPY_MODEL_93b207ef61c74b2a85f834b42158810e",
            "_dom_classes": [],
            "description": "100%",
            "_model_name": "FloatProgressModel",
            "bar_style": "success",
            "max": 15001,
            "_view_module": "@jupyter-widgets/controls",
            "_model_module_version": "1.5.0",
            "value": 15001,
            "_view_count": null,
            "_view_module_version": "1.5.0",
            "orientation": "horizontal",
            "min": 0,
            "description_tooltip": null,
            "_model_module": "@jupyter-widgets/controls",
            "layout": "IPY_MODEL_9712c96175a84fbda3473a3104fbba5e"
          }
        },
        "8a28eacde61a4690ba07700774a6831b": {
          "model_module": "@jupyter-widgets/controls",
          "model_name": "HTMLModel",
          "state": {
            "_view_name": "HTMLView",
            "style": "IPY_MODEL_29f50313beed47b9b37c4058a357103b",
            "_dom_classes": [],
            "description": "",
            "_model_name": "HTMLModel",
            "placeholder": "​",
            "_view_module": "@jupyter-widgets/controls",
            "_model_module_version": "1.5.0",
            "value": " 15001/15001 [00:38&lt;00:00, 387.41it/s]",
            "_view_count": null,
            "_view_module_version": "1.5.0",
            "description_tooltip": null,
            "_model_module": "@jupyter-widgets/controls",
            "layout": "IPY_MODEL_f1a8dbb626e04fc398a746f4376cc003"
          }
        },
        "93b207ef61c74b2a85f834b42158810e": {
          "model_module": "@jupyter-widgets/controls",
          "model_name": "ProgressStyleModel",
          "state": {
            "_view_name": "StyleView",
            "_model_name": "ProgressStyleModel",
            "description_width": "initial",
            "_view_module": "@jupyter-widgets/base",
            "_model_module_version": "1.5.0",
            "_view_count": null,
            "_view_module_version": "1.2.0",
            "bar_color": null,
            "_model_module": "@jupyter-widgets/controls"
          }
        },
        "9712c96175a84fbda3473a3104fbba5e": {
          "model_module": "@jupyter-widgets/base",
          "model_name": "LayoutModel",
          "state": {
            "_view_name": "LayoutView",
            "grid_template_rows": null,
            "right": null,
            "justify_content": null,
            "_view_module": "@jupyter-widgets/base",
            "overflow": null,
            "_model_module_version": "1.2.0",
            "_view_count": null,
            "flex_flow": null,
            "width": null,
            "min_width": null,
            "border": null,
            "align_items": null,
            "bottom": null,
            "_model_module": "@jupyter-widgets/base",
            "top": null,
            "grid_column": null,
            "overflow_y": null,
            "overflow_x": null,
            "grid_auto_flow": null,
            "grid_area": null,
            "grid_template_columns": null,
            "flex": null,
            "_model_name": "LayoutModel",
            "justify_items": null,
            "grid_row": null,
            "max_height": null,
            "align_content": null,
            "visibility": null,
            "align_self": null,
            "height": null,
            "min_height": null,
            "padding": null,
            "grid_auto_rows": null,
            "grid_gap": null,
            "max_width": null,
            "order": null,
            "_view_module_version": "1.2.0",
            "grid_template_areas": null,
            "object_position": null,
            "object_fit": null,
            "grid_auto_columns": null,
            "margin": null,
            "display": null,
            "left": null
          }
        },
        "29f50313beed47b9b37c4058a357103b": {
          "model_module": "@jupyter-widgets/controls",
          "model_name": "DescriptionStyleModel",
          "state": {
            "_view_name": "StyleView",
            "_model_name": "DescriptionStyleModel",
            "description_width": "",
            "_view_module": "@jupyter-widgets/base",
            "_model_module_version": "1.5.0",
            "_view_count": null,
            "_view_module_version": "1.2.0",
            "_model_module": "@jupyter-widgets/controls"
          }
        },
        "f1a8dbb626e04fc398a746f4376cc003": {
          "model_module": "@jupyter-widgets/base",
          "model_name": "LayoutModel",
          "state": {
            "_view_name": "LayoutView",
            "grid_template_rows": null,
            "right": null,
            "justify_content": null,
            "_view_module": "@jupyter-widgets/base",
            "overflow": null,
            "_model_module_version": "1.2.0",
            "_view_count": null,
            "flex_flow": null,
            "width": null,
            "min_width": null,
            "border": null,
            "align_items": null,
            "bottom": null,
            "_model_module": "@jupyter-widgets/base",
            "top": null,
            "grid_column": null,
            "overflow_y": null,
            "overflow_x": null,
            "grid_auto_flow": null,
            "grid_area": null,
            "grid_template_columns": null,
            "flex": null,
            "_model_name": "LayoutModel",
            "justify_items": null,
            "grid_row": null,
            "max_height": null,
            "align_content": null,
            "visibility": null,
            "align_self": null,
            "height": null,
            "min_height": null,
            "padding": null,
            "grid_auto_rows": null,
            "grid_gap": null,
            "max_width": null,
            "order": null,
            "_view_module_version": "1.2.0",
            "grid_template_areas": null,
            "object_position": null,
            "object_fit": null,
            "grid_auto_columns": null,
            "margin": null,
            "display": null,
            "left": null
          }
        },
        "8316fbd0d7f547fcac68bc284156db47": {
          "model_module": "@jupyter-widgets/controls",
          "model_name": "HBoxModel",
          "state": {
            "_view_name": "HBoxView",
            "_dom_classes": [],
            "_model_name": "HBoxModel",
            "_view_module": "@jupyter-widgets/controls",
            "_model_module_version": "1.5.0",
            "_view_count": null,
            "_view_module_version": "1.5.0",
            "box_style": "",
            "layout": "IPY_MODEL_e8efec61022d4f0a98f061a0335d21d5",
            "_model_module": "@jupyter-widgets/controls",
            "children": [
              "IPY_MODEL_8923e953dd104392bf1170268e7e0a91",
              "IPY_MODEL_da4ada1984f7428f80d04c0aa985d385"
            ]
          }
        },
        "e8efec61022d4f0a98f061a0335d21d5": {
          "model_module": "@jupyter-widgets/base",
          "model_name": "LayoutModel",
          "state": {
            "_view_name": "LayoutView",
            "grid_template_rows": null,
            "right": null,
            "justify_content": null,
            "_view_module": "@jupyter-widgets/base",
            "overflow": null,
            "_model_module_version": "1.2.0",
            "_view_count": null,
            "flex_flow": null,
            "width": null,
            "min_width": null,
            "border": null,
            "align_items": null,
            "bottom": null,
            "_model_module": "@jupyter-widgets/base",
            "top": null,
            "grid_column": null,
            "overflow_y": null,
            "overflow_x": null,
            "grid_auto_flow": null,
            "grid_area": null,
            "grid_template_columns": null,
            "flex": null,
            "_model_name": "LayoutModel",
            "justify_items": null,
            "grid_row": null,
            "max_height": null,
            "align_content": null,
            "visibility": null,
            "align_self": null,
            "height": null,
            "min_height": null,
            "padding": null,
            "grid_auto_rows": null,
            "grid_gap": null,
            "max_width": null,
            "order": null,
            "_view_module_version": "1.2.0",
            "grid_template_areas": null,
            "object_position": null,
            "object_fit": null,
            "grid_auto_columns": null,
            "margin": null,
            "display": null,
            "left": null
          }
        },
        "8923e953dd104392bf1170268e7e0a91": {
          "model_module": "@jupyter-widgets/controls",
          "model_name": "FloatProgressModel",
          "state": {
            "_view_name": "ProgressView",
            "style": "IPY_MODEL_30e07134bd9e4e759356a47f584044d9",
            "_dom_classes": [],
            "description": "100%",
            "_model_name": "FloatProgressModel",
            "bar_style": "success",
            "max": 30,
            "_view_module": "@jupyter-widgets/controls",
            "_model_module_version": "1.5.0",
            "value": 30,
            "_view_count": null,
            "_view_module_version": "1.5.0",
            "orientation": "horizontal",
            "min": 0,
            "description_tooltip": null,
            "_model_module": "@jupyter-widgets/controls",
            "layout": "IPY_MODEL_e4d1539bac2f492ca5eff9d788f80511"
          }
        },
        "da4ada1984f7428f80d04c0aa985d385": {
          "model_module": "@jupyter-widgets/controls",
          "model_name": "HTMLModel",
          "state": {
            "_view_name": "HTMLView",
            "style": "IPY_MODEL_6373915381d54d559281f09f6a91190f",
            "_dom_classes": [],
            "description": "",
            "_model_name": "HTMLModel",
            "placeholder": "​",
            "_view_module": "@jupyter-widgets/controls",
            "_model_module_version": "1.5.0",
            "value": " 30/30 [00:01&lt;00:00, 29.78it/s]",
            "_view_count": null,
            "_view_module_version": "1.5.0",
            "description_tooltip": null,
            "_model_module": "@jupyter-widgets/controls",
            "layout": "IPY_MODEL_d36f4be84eec47b9925df5ce3f218afb"
          }
        },
        "30e07134bd9e4e759356a47f584044d9": {
          "model_module": "@jupyter-widgets/controls",
          "model_name": "ProgressStyleModel",
          "state": {
            "_view_name": "StyleView",
            "_model_name": "ProgressStyleModel",
            "description_width": "initial",
            "_view_module": "@jupyter-widgets/base",
            "_model_module_version": "1.5.0",
            "_view_count": null,
            "_view_module_version": "1.2.0",
            "bar_color": null,
            "_model_module": "@jupyter-widgets/controls"
          }
        },
        "e4d1539bac2f492ca5eff9d788f80511": {
          "model_module": "@jupyter-widgets/base",
          "model_name": "LayoutModel",
          "state": {
            "_view_name": "LayoutView",
            "grid_template_rows": null,
            "right": null,
            "justify_content": null,
            "_view_module": "@jupyter-widgets/base",
            "overflow": null,
            "_model_module_version": "1.2.0",
            "_view_count": null,
            "flex_flow": null,
            "width": null,
            "min_width": null,
            "border": null,
            "align_items": null,
            "bottom": null,
            "_model_module": "@jupyter-widgets/base",
            "top": null,
            "grid_column": null,
            "overflow_y": null,
            "overflow_x": null,
            "grid_auto_flow": null,
            "grid_area": null,
            "grid_template_columns": null,
            "flex": null,
            "_model_name": "LayoutModel",
            "justify_items": null,
            "grid_row": null,
            "max_height": null,
            "align_content": null,
            "visibility": null,
            "align_self": null,
            "height": null,
            "min_height": null,
            "padding": null,
            "grid_auto_rows": null,
            "grid_gap": null,
            "max_width": null,
            "order": null,
            "_view_module_version": "1.2.0",
            "grid_template_areas": null,
            "object_position": null,
            "object_fit": null,
            "grid_auto_columns": null,
            "margin": null,
            "display": null,
            "left": null
          }
        },
        "6373915381d54d559281f09f6a91190f": {
          "model_module": "@jupyter-widgets/controls",
          "model_name": "DescriptionStyleModel",
          "state": {
            "_view_name": "StyleView",
            "_model_name": "DescriptionStyleModel",
            "description_width": "",
            "_view_module": "@jupyter-widgets/base",
            "_model_module_version": "1.5.0",
            "_view_count": null,
            "_view_module_version": "1.2.0",
            "_model_module": "@jupyter-widgets/controls"
          }
        },
        "d36f4be84eec47b9925df5ce3f218afb": {
          "model_module": "@jupyter-widgets/base",
          "model_name": "LayoutModel",
          "state": {
            "_view_name": "LayoutView",
            "grid_template_rows": null,
            "right": null,
            "justify_content": null,
            "_view_module": "@jupyter-widgets/base",
            "overflow": null,
            "_model_module_version": "1.2.0",
            "_view_count": null,
            "flex_flow": null,
            "width": null,
            "min_width": null,
            "border": null,
            "align_items": null,
            "bottom": null,
            "_model_module": "@jupyter-widgets/base",
            "top": null,
            "grid_column": null,
            "overflow_y": null,
            "overflow_x": null,
            "grid_auto_flow": null,
            "grid_area": null,
            "grid_template_columns": null,
            "flex": null,
            "_model_name": "LayoutModel",
            "justify_items": null,
            "grid_row": null,
            "max_height": null,
            "align_content": null,
            "visibility": null,
            "align_self": null,
            "height": null,
            "min_height": null,
            "padding": null,
            "grid_auto_rows": null,
            "grid_gap": null,
            "max_width": null,
            "order": null,
            "_view_module_version": "1.2.0",
            "grid_template_areas": null,
            "object_position": null,
            "object_fit": null,
            "grid_auto_columns": null,
            "margin": null,
            "display": null,
            "left": null
          }
        },
        "1dedc74a209d4a599a0927e8c482b6ca": {
          "model_module": "@jupyter-widgets/controls",
          "model_name": "HBoxModel",
          "state": {
            "_view_name": "HBoxView",
            "_dom_classes": [],
            "_model_name": "HBoxModel",
            "_view_module": "@jupyter-widgets/controls",
            "_model_module_version": "1.5.0",
            "_view_count": null,
            "_view_module_version": "1.5.0",
            "box_style": "",
            "layout": "IPY_MODEL_0fca21cf6b1f4d82a0ed991e7ef4d764",
            "_model_module": "@jupyter-widgets/controls",
            "children": [
              "IPY_MODEL_5d7a1fb0a0f7482284ab31067cc98a7f",
              "IPY_MODEL_641e06b8f7624f8892f64993e61a9d89"
            ]
          }
        },
        "0fca21cf6b1f4d82a0ed991e7ef4d764": {
          "model_module": "@jupyter-widgets/base",
          "model_name": "LayoutModel",
          "state": {
            "_view_name": "LayoutView",
            "grid_template_rows": null,
            "right": null,
            "justify_content": null,
            "_view_module": "@jupyter-widgets/base",
            "overflow": null,
            "_model_module_version": "1.2.0",
            "_view_count": null,
            "flex_flow": null,
            "width": null,
            "min_width": null,
            "border": null,
            "align_items": null,
            "bottom": null,
            "_model_module": "@jupyter-widgets/base",
            "top": null,
            "grid_column": null,
            "overflow_y": null,
            "overflow_x": null,
            "grid_auto_flow": null,
            "grid_area": null,
            "grid_template_columns": null,
            "flex": null,
            "_model_name": "LayoutModel",
            "justify_items": null,
            "grid_row": null,
            "max_height": null,
            "align_content": null,
            "visibility": null,
            "align_self": null,
            "height": null,
            "min_height": null,
            "padding": null,
            "grid_auto_rows": null,
            "grid_gap": null,
            "max_width": null,
            "order": null,
            "_view_module_version": "1.2.0",
            "grid_template_areas": null,
            "object_position": null,
            "object_fit": null,
            "grid_auto_columns": null,
            "margin": null,
            "display": null,
            "left": null
          }
        },
        "5d7a1fb0a0f7482284ab31067cc98a7f": {
          "model_module": "@jupyter-widgets/controls",
          "model_name": "FloatProgressModel",
          "state": {
            "_view_name": "ProgressView",
            "style": "IPY_MODEL_aa6f3052c4244ed18fdcf1adebbaf62c",
            "_dom_classes": [],
            "description": "100%",
            "_model_name": "FloatProgressModel",
            "bar_style": "success",
            "max": 15001,
            "_view_module": "@jupyter-widgets/controls",
            "_model_module_version": "1.5.0",
            "value": 15001,
            "_view_count": null,
            "_view_module_version": "1.5.0",
            "orientation": "horizontal",
            "min": 0,
            "description_tooltip": null,
            "_model_module": "@jupyter-widgets/controls",
            "layout": "IPY_MODEL_006d198e244943cd87308f9263f49f02"
          }
        },
        "641e06b8f7624f8892f64993e61a9d89": {
          "model_module": "@jupyter-widgets/controls",
          "model_name": "HTMLModel",
          "state": {
            "_view_name": "HTMLView",
            "style": "IPY_MODEL_cf9a01174ab64f65982c7e2446769969",
            "_dom_classes": [],
            "description": "",
            "_model_name": "HTMLModel",
            "placeholder": "​",
            "_view_module": "@jupyter-widgets/controls",
            "_model_module_version": "1.5.0",
            "value": " 15001/15001 [00:00&lt;00:00, 28189.82it/s]",
            "_view_count": null,
            "_view_module_version": "1.5.0",
            "description_tooltip": null,
            "_model_module": "@jupyter-widgets/controls",
            "layout": "IPY_MODEL_3f205b57db414403998c051b9700a91b"
          }
        },
        "aa6f3052c4244ed18fdcf1adebbaf62c": {
          "model_module": "@jupyter-widgets/controls",
          "model_name": "ProgressStyleModel",
          "state": {
            "_view_name": "StyleView",
            "_model_name": "ProgressStyleModel",
            "description_width": "initial",
            "_view_module": "@jupyter-widgets/base",
            "_model_module_version": "1.5.0",
            "_view_count": null,
            "_view_module_version": "1.2.0",
            "bar_color": null,
            "_model_module": "@jupyter-widgets/controls"
          }
        },
        "006d198e244943cd87308f9263f49f02": {
          "model_module": "@jupyter-widgets/base",
          "model_name": "LayoutModel",
          "state": {
            "_view_name": "LayoutView",
            "grid_template_rows": null,
            "right": null,
            "justify_content": null,
            "_view_module": "@jupyter-widgets/base",
            "overflow": null,
            "_model_module_version": "1.2.0",
            "_view_count": null,
            "flex_flow": null,
            "width": null,
            "min_width": null,
            "border": null,
            "align_items": null,
            "bottom": null,
            "_model_module": "@jupyter-widgets/base",
            "top": null,
            "grid_column": null,
            "overflow_y": null,
            "overflow_x": null,
            "grid_auto_flow": null,
            "grid_area": null,
            "grid_template_columns": null,
            "flex": null,
            "_model_name": "LayoutModel",
            "justify_items": null,
            "grid_row": null,
            "max_height": null,
            "align_content": null,
            "visibility": null,
            "align_self": null,
            "height": null,
            "min_height": null,
            "padding": null,
            "grid_auto_rows": null,
            "grid_gap": null,
            "max_width": null,
            "order": null,
            "_view_module_version": "1.2.0",
            "grid_template_areas": null,
            "object_position": null,
            "object_fit": null,
            "grid_auto_columns": null,
            "margin": null,
            "display": null,
            "left": null
          }
        },
        "cf9a01174ab64f65982c7e2446769969": {
          "model_module": "@jupyter-widgets/controls",
          "model_name": "DescriptionStyleModel",
          "state": {
            "_view_name": "StyleView",
            "_model_name": "DescriptionStyleModel",
            "description_width": "",
            "_view_module": "@jupyter-widgets/base",
            "_model_module_version": "1.5.0",
            "_view_count": null,
            "_view_module_version": "1.2.0",
            "_model_module": "@jupyter-widgets/controls"
          }
        },
        "3f205b57db414403998c051b9700a91b": {
          "model_module": "@jupyter-widgets/base",
          "model_name": "LayoutModel",
          "state": {
            "_view_name": "LayoutView",
            "grid_template_rows": null,
            "right": null,
            "justify_content": null,
            "_view_module": "@jupyter-widgets/base",
            "overflow": null,
            "_model_module_version": "1.2.0",
            "_view_count": null,
            "flex_flow": null,
            "width": null,
            "min_width": null,
            "border": null,
            "align_items": null,
            "bottom": null,
            "_model_module": "@jupyter-widgets/base",
            "top": null,
            "grid_column": null,
            "overflow_y": null,
            "overflow_x": null,
            "grid_auto_flow": null,
            "grid_area": null,
            "grid_template_columns": null,
            "flex": null,
            "_model_name": "LayoutModel",
            "justify_items": null,
            "grid_row": null,
            "max_height": null,
            "align_content": null,
            "visibility": null,
            "align_self": null,
            "height": null,
            "min_height": null,
            "padding": null,
            "grid_auto_rows": null,
            "grid_gap": null,
            "max_width": null,
            "order": null,
            "_view_module_version": "1.2.0",
            "grid_template_areas": null,
            "object_position": null,
            "object_fit": null,
            "grid_auto_columns": null,
            "margin": null,
            "display": null,
            "left": null
          }
        }
      }
    }
  },
  "cells": [
    {
      "cell_type": "markdown",
      "metadata": {
        "id": "Q8PX4ysMpgiM"
      },
      "source": [
        "1. Одноуровневую ALS и BPR\n",
        "2. Одноуровневую LightFM\n",
        "3. Лучшую одноуровневую + CatBoost\n",
        "4. Для CatBoost сначала классификация, потом ранжирование"
      ]
    },
    {
      "cell_type": "markdown",
      "metadata": {
        "id": "6NvBj7GQ3t_F"
      },
      "source": [
        "Сделать модель первого уровня - прошлые покупки юзера + топ популярных + als"
      ]
    },
    {
      "cell_type": "markdown",
      "metadata": {
        "id": "zOWD4CDQ4D8D"
      },
      "source": [
        "Попробовать ранжирующий лосс"
      ]
    },
    {
      "cell_type": "markdown",
      "metadata": {
        "id": "9zu2-uiz5HFf"
      },
      "source": [
        "Доля покупок по скидке"
      ]
    },
    {
      "cell_type": "code",
      "metadata": {
        "id": "cDM9D8l-qD0K"
      },
      "source": [
        "# попробовать als и bpr, разную длину эмбэдингов (factors), затухание от времени, разные гиперпараметы,\n",
        "# взвешивание матрицы, в матрице не число продаж, а выручку или кол-во уникальных юзеров \n",
        "# которые купили товар кол-во пользователей которые купили этот товар 2 раза или больше,\n",
        "# разные типы фильтрации, количесво итераций, регуляризаци. Рекомендовать рекомендации\n",
        "# похожих пользователей или их реальные покупки, рекомендовать через itemitem или через топ популярных,\n",
        "# разное количество топ товаров, LightFM"
      ],
      "execution_count": 1,
      "outputs": []
    },
    {
      "cell_type": "code",
      "metadata": {
        "id": "LXIlTRoqyWh4"
      },
      "source": [
        "# Реализовать обработку холодных юзеров"
      ],
      "execution_count": 2,
      "outputs": []
    },
    {
      "cell_type": "code",
      "metadata": {
        "id": "LbSeWj2AyeEE"
      },
      "source": [
        "# Оценить recall@k для первого фильтра, чтобы выбрать топ 5000 или 10000(...) товаров \n",
        "# оставить на первом этапе и протестировать prefilter_items"
      ],
      "execution_count": 3,
      "outputs": []
    },
    {
      "cell_type": "code",
      "metadata": {
        "id": "qdTX_z4lvPk9"
      },
      "source": [
        "# реализовать в классе bpr и lightfm и добавить фичи als, bpr и lightfm в модель lightgbm"
      ],
      "execution_count": 4,
      "outputs": []
    },
    {
      "cell_type": "code",
      "metadata": {
        "id": "mllYsYRFbhwt"
      },
      "source": [
        "# попробовать als и bpr, разную длину эмбэдингов (factors), затухание от времени, разные гиперпараметы,\n",
        "# взвешивание матрицы, в матрице не число продаж, а выручку или кол-во уникальных юзеров \n",
        "# которые купили товар кол-во пользователей которые купили этот товар 2 раза или больше,\n",
        "# разные типы фильтрации, количесво итераций, регуляризаци. Рекомендовать рекомендации\n",
        "# похожих пользователей или их реальные покупки, рекомендовать через itemitem или через топ популярных,\n",
        "# разное количество топ товаров, LightFM"
      ],
      "execution_count": 5,
      "outputs": []
    },
    {
      "cell_type": "code",
      "metadata": {
        "id": "HXN9ICbDvPev"
      },
      "source": [
        "# Исследовать recall у bpr на первом уровне"
      ],
      "execution_count": 6,
      "outputs": []
    },
    {
      "cell_type": "markdown",
      "metadata": {
        "id": "U0K4t2bXvdQc"
      },
      "source": [
        "# 1. Подготовка данных"
      ]
    },
    {
      "cell_type": "code",
      "metadata": {
        "id": "4hfQDzd65G8D",
        "outputId": "8cbf3c71-6b43-4fb7-a60e-5b01970e88e9",
        "colab": {
          "base_uri": "https://localhost:8080/",
          "height": 258
        }
      },
      "source": [
        "# на гпу только эта версия работает\n",
        "!pip install implicit==0.4.0\n",
        "#!pip install implicit==0.4.2"
      ],
      "execution_count": 7,
      "outputs": [
        {
          "output_type": "stream",
          "text": [
            "Collecting implicit==0.4.0\n",
            "\u001b[?25l  Downloading https://files.pythonhosted.org/packages/c4/4d/47e8d8c9966a8aa5aa66de5bdd1eb608dee9b7b9305561f179c6249510e3/implicit-0.4.0.tar.gz (1.1MB)\n",
            "\u001b[K     |████████████████████████████████| 1.1MB 2.4MB/s \n",
            "\u001b[?25hRequirement already satisfied: numpy in /usr/local/lib/python3.6/dist-packages (from implicit==0.4.0) (1.18.5)\n",
            "Requirement already satisfied: scipy>=0.16 in /usr/local/lib/python3.6/dist-packages (from implicit==0.4.0) (1.4.1)\n",
            "Requirement already satisfied: tqdm>=4.27 in /usr/local/lib/python3.6/dist-packages (from implicit==0.4.0) (4.41.1)\n",
            "Building wheels for collected packages: implicit\n",
            "  Building wheel for implicit (setup.py) ... \u001b[?25l\u001b[?25hdone\n",
            "  Created wheel for implicit: filename=implicit-0.4.0-cp36-cp36m-linux_x86_64.whl size=3390337 sha256=d41bd8fce90ac8cb9f31229f0cc4ae55920d193366f4ddab3c96d345e2d2f586\n",
            "  Stored in directory: /root/.cache/pip/wheels/fd/d1/66/84e83191d9f626c521271023e4ef83e634e3b8c154f2c4b2da\n",
            "Successfully built implicit\n",
            "Installing collected packages: implicit\n",
            "Successfully installed implicit-0.4.0\n"
          ],
          "name": "stdout"
        }
      ]
    },
    {
      "cell_type": "code",
      "metadata": {
        "id": "rR5j6bvA5LHj",
        "outputId": "376aad60-3ad4-46d6-c474-71c58c4dd0e5",
        "colab": {
          "base_uri": "https://localhost:8080/",
          "height": 34
        }
      },
      "source": [
        "from google.colab import drive\n",
        "drive.mount('/content/drive')"
      ],
      "execution_count": 8,
      "outputs": [
        {
          "output_type": "stream",
          "text": [
            "Mounted at /content/drive\n"
          ],
          "name": "stdout"
        }
      ]
    },
    {
      "cell_type": "code",
      "metadata": {
        "id": "ju0LeqrP5rgK"
      },
      "source": [
        "!cp /content/drive/'My Drive'/retail_train.csv /content\n",
        "!cp /content/drive/'My Drive'/product.csv /content\n",
        "!cp /content/drive/'My Drive'/hh_demographic.csv /content\n",
        "!cp -r /content/drive/'My Drive'/src /content"
      ],
      "execution_count": 9,
      "outputs": []
    },
    {
      "cell_type": "code",
      "metadata": {
        "id": "TpmbXPlu502i"
      },
      "source": [
        "import pandas as pd\n",
        "import numpy as np\n",
        "import matplotlib.pyplot as plt\n",
        "%matplotlib inline\n",
        "\n",
        "\n",
        "# Для работы с матрицами\n",
        "from scipy.sparse import csr_matrix\n",
        "\n",
        "# Матричная факторизация\n",
        "from implicit import als\n",
        "\n",
        "# Модель второго уровня\n",
        "from lightgbm import LGBMClassifier\n",
        "from lightgbm import LGBMRanker\n",
        "import lightgbm\n",
        "\n",
        "import os, sys\n",
        "module_path = os.path.abspath(os.path.join(os.pardir))\n",
        "if module_path not in sys.path:\n",
        "    sys.path.append(module_path)\n",
        "\n",
        "# Написанные нами функции\n",
        "from src.metrics import recall_at_k#, precision_at_k\n",
        "#from src.utils import prefilter_items\n",
        "#from src.recommenders import MainRecommender"
      ],
      "execution_count": 10,
      "outputs": []
    },
    {
      "cell_type": "code",
      "metadata": {
        "id": "rExode7Q58ph",
        "outputId": "1be4e4d2-6f60-4b2d-ce4b-53754fb96664",
        "colab": {
          "base_uri": "https://localhost:8080/",
          "height": 131
        }
      },
      "source": [
        "data = pd.read_csv('retail_train.csv')\n",
        "item_features = pd.read_csv('product.csv')\n",
        "user_features = pd.read_csv('hh_demographic.csv')\n",
        "\n",
        "# column processing\n",
        "item_features.columns = [col.lower() for col in item_features.columns]\n",
        "user_features.columns = [col.lower() for col in user_features.columns]\n",
        "\n",
        "item_features.rename(columns={'product_id': 'item_id'}, inplace=True)\n",
        "user_features.rename(columns={'household_key': 'user_id'}, inplace=True)\n",
        "\n",
        "\n",
        "# Важна схема обучения и валидации!\n",
        "# -- давние покупки -- | -- 6 недель -- | -- 3 недель -- \n",
        "# подобрать размер 2-ого датасета (6 недель) --> learning curve (зависимость метрики recall@k от размера датасета)\n",
        "val_lvl_1_size_weeks = 6\n",
        "val_lvl_2_size_weeks = 3\n",
        "\n",
        "data_train_lvl_1 = data[data['week_no'] < data['week_no'].max() - (val_lvl_1_size_weeks + val_lvl_2_size_weeks)]\n",
        "data_val_lvl_1 = data[(data['week_no'] >= data['week_no'].max() - (val_lvl_1_size_weeks + val_lvl_2_size_weeks)) &\n",
        "                      (data['week_no'] < data['week_no'].max() - (val_lvl_2_size_weeks))]\n",
        "\n",
        "data_train_lvl_2 = data_val_lvl_1.copy()  # Для наглядности. Далее мы добавим изменения, и они будут отличаться\n",
        "data_val_lvl_2 = data[data['week_no'] >= data['week_no'].max() - val_lvl_2_size_weeks]\n",
        "\n",
        "data_train_lvl_1.head(2)"
      ],
      "execution_count": 11,
      "outputs": [
        {
          "output_type": "execute_result",
          "data": {
            "text/html": [
              "<div>\n",
              "<style scoped>\n",
              "    .dataframe tbody tr th:only-of-type {\n",
              "        vertical-align: middle;\n",
              "    }\n",
              "\n",
              "    .dataframe tbody tr th {\n",
              "        vertical-align: top;\n",
              "    }\n",
              "\n",
              "    .dataframe thead th {\n",
              "        text-align: right;\n",
              "    }\n",
              "</style>\n",
              "<table border=\"1\" class=\"dataframe\">\n",
              "  <thead>\n",
              "    <tr style=\"text-align: right;\">\n",
              "      <th></th>\n",
              "      <th>user_id</th>\n",
              "      <th>basket_id</th>\n",
              "      <th>day</th>\n",
              "      <th>item_id</th>\n",
              "      <th>quantity</th>\n",
              "      <th>sales_value</th>\n",
              "      <th>store_id</th>\n",
              "      <th>retail_disc</th>\n",
              "      <th>trans_time</th>\n",
              "      <th>week_no</th>\n",
              "      <th>coupon_disc</th>\n",
              "      <th>coupon_match_disc</th>\n",
              "    </tr>\n",
              "  </thead>\n",
              "  <tbody>\n",
              "    <tr>\n",
              "      <th>0</th>\n",
              "      <td>2375</td>\n",
              "      <td>26984851472</td>\n",
              "      <td>1</td>\n",
              "      <td>1004906</td>\n",
              "      <td>1</td>\n",
              "      <td>1.39</td>\n",
              "      <td>364</td>\n",
              "      <td>-0.6</td>\n",
              "      <td>1631</td>\n",
              "      <td>1</td>\n",
              "      <td>0.0</td>\n",
              "      <td>0.0</td>\n",
              "    </tr>\n",
              "    <tr>\n",
              "      <th>1</th>\n",
              "      <td>2375</td>\n",
              "      <td>26984851472</td>\n",
              "      <td>1</td>\n",
              "      <td>1033142</td>\n",
              "      <td>1</td>\n",
              "      <td>0.82</td>\n",
              "      <td>364</td>\n",
              "      <td>0.0</td>\n",
              "      <td>1631</td>\n",
              "      <td>1</td>\n",
              "      <td>0.0</td>\n",
              "      <td>0.0</td>\n",
              "    </tr>\n",
              "  </tbody>\n",
              "</table>\n",
              "</div>"
            ],
            "text/plain": [
              "   user_id    basket_id  day  ...  week_no  coupon_disc  coupon_match_disc\n",
              "0     2375  26984851472    1  ...        1          0.0                0.0\n",
              "1     2375  26984851472    1  ...        1          0.0                0.0\n",
              "\n",
              "[2 rows x 12 columns]"
            ]
          },
          "metadata": {
            "tags": []
          },
          "execution_count": 11
        }
      ]
    },
    {
      "cell_type": "code",
      "metadata": {
        "id": "JQyuDyWWGdMs",
        "outputId": "079dc995-8c42-40d8-fc7f-648f73eb03c3",
        "colab": {
          "base_uri": "https://localhost:8080/",
          "height": 68
        }
      },
      "source": [
        "print(data_train_lvl_1['item_id'].nunique())\n",
        "print(data_train_lvl_2['item_id'].nunique())\n",
        "print(data_val_lvl_2['item_id'].nunique())"
      ],
      "execution_count": 12,
      "outputs": [
        {
          "output_type": "stream",
          "text": [
            "83685\n",
            "27649\n",
            "24329\n"
          ],
          "name": "stdout"
        }
      ]
    },
    {
      "cell_type": "code",
      "metadata": {
        "id": "H2FqnXfQprb1"
      },
      "source": [
        "def precision_at_k(recommended_list, bought_list, k=5):\n",
        "    bought_list = np.array(bought_list)\n",
        "    recommended_list = np.array(recommended_list)\n",
        "\n",
        "    bought_list = bought_list  # Тут нет [:k] !!\n",
        "\n",
        "    if k < len(recommended_list):\n",
        "        recommended_list = recommended_list[:k]\n",
        "\n",
        "    flags = np.isin(bought_list, recommended_list)\n",
        "\n",
        "    precision = flags.sum() / len(recommended_list)\n",
        "\n",
        "    return precision"
      ],
      "execution_count": 13,
      "outputs": []
    },
    {
      "cell_type": "code",
      "metadata": {
        "id": "kZbH7o_ZFWUH"
      },
      "source": [
        "def money_precision_at_k(recommended_list, bought_list, prices_recommended, k=5):\n",
        "    bought_list = np.array(bought_list)\n",
        "    recommended_list = np.array(recommended_list)\n",
        "    prices_recommended = np.array(prices_recommended)\n",
        "\n",
        "\n",
        "    if k < len(recommended_list):\n",
        "        recommended_list = recommended_list[:k]\n",
        "        prices_recommended = prices_recommended[:k]\n",
        "\n",
        "    flags = np.isin(recommended_list, bought_list)\n",
        "    res = np.dot(flags, prices_recommended) / np.sum(prices_recommended)\n",
        "\n",
        "    return res"
      ],
      "execution_count": 14,
      "outputs": []
    },
    {
      "cell_type": "code",
      "metadata": {
        "id": "28qxqimdtfIb"
      },
      "source": [
        "def recall_at_k(recommended_list, bought_list, k=5):\n",
        "    import numpy as np\n",
        "    bought_list = np.array(bought_list)\n",
        "    recommended_list = np.array(recommended_list)\n",
        "    recommended_list = recommended_list[:k]\n",
        "    flags = np.isin(bought_list, recommended_list)\n",
        "    recall = flags.sum() / len(bought_list)\n",
        "\n",
        "    return recall"
      ],
      "execution_count": 15,
      "outputs": []
    },
    {
      "cell_type": "markdown",
      "metadata": {
        "id": "ePZdSmir6P6J"
      },
      "source": [
        "# 2. Класс MainRecommender"
      ]
    },
    {
      "cell_type": "code",
      "metadata": {
        "id": "jfIMsp5G6AwU"
      },
      "source": [
        "import pandas as pd\n",
        "import numpy as np\n",
        "\n",
        "# Для работы с матрицами\n",
        "from scipy.sparse import csr_matrix\n",
        "\n",
        "# Матричная факторизация\n",
        "from implicit.als import AlternatingLeastSquares\n",
        "from implicit.nearest_neighbours import ItemItemRecommender  # нужен для одного трюка\n",
        "from implicit.nearest_neighbours import bm25_weight, tfidf_weight\n",
        "from implicit.bpr import BayesianPersonalizedRanking\n",
        "\n",
        "class MainRecommender:\n",
        "    \"\"\"Рекоммендации, которые можно получить из ALS\n",
        "    Input\n",
        "    -----\n",
        "    user_item_matrix: pd.DataFrame\n",
        "        Матрица взаимодействий user-item\n",
        "    \"\"\"\n",
        "\n",
        "    def __init__(self, data, item_features, weighting='bm25_weight', model_type = 'als', n_factors=160, \n",
        "                    regularization=0.001, iterations=30, num_threads=32, random_state=None):\n",
        "\n",
        "        self.random_state = random_state\n",
        "#----------------------------------------------------------------------------------------------------\n",
        "        # Топ покупок каждого юзера\n",
        "        self.top_purchases = data.groupby(['user_id', 'item_id'])['quantity'].count().reset_index()\n",
        "        self.top_purchases.sort_values('quantity', ascending=False, inplace=True)\n",
        "        self.top_purchases = self.top_purchases[self.top_purchases['item_id'] != 999999]\n",
        "#----------------------------------------------------------------------------------------------------\n",
        "        # Топ покупок по всему датасету\n",
        "        self.overall_top_purchases = data.groupby('item_id')['quantity'].count().reset_index()\n",
        "        self.overall_top_purchases.sort_values('quantity', ascending=False, inplace=True)\n",
        "        self.overall_top_purchases = self.overall_top_purchases[self.overall_top_purchases['item_id'] != 999999]\n",
        "        self.overall_top_purchases = self.overall_top_purchases.item_id.tolist()\n",
        "\n",
        "        self.user_item_matrix = self._prepare_matrix(data)  # pd.DataFrame\n",
        "        self.id_to_itemid, self.id_to_userid, \\\n",
        "            self.itemid_to_id, self.userid_to_id = self._prepare_dicts(self.user_item_matrix)\n",
        "#----------------------------------------------------------------------------------------------------\n",
        "        # Параметры взвешивания\n",
        "        if weighting =='bm25_weight':\n",
        "          self.user_item_matrix = bm25_weight(self.user_item_matrix.T, K1=80, B=0.6).T\n",
        "        elif weighting =='tfidf_weight':\n",
        "          self.user_item_matrix = tfidf_weight(self.user_item_matrix.T).T\n",
        "        else:\n",
        "          pass\n",
        "\n",
        "#----------------------------------------------------------------------------------------------------\n",
        "        # Обучение модели коллаборативной фильтрации\n",
        "        self.model = self.fit(self.user_item_matrix, \n",
        "                              model_type = model_type,\n",
        "                              n_factors=n_factors, \n",
        "                              regularization=regularization, \n",
        "                              iterations=iterations,\n",
        "                              num_threads=num_threads)\n",
        "#----------------------------------------------------------------------------------------------------\n",
        "        # Обучение модели на основе KNN\n",
        "        self.own_recommender = self.fit_own_recommender(self.user_item_matrix)\n",
        "\n",
        "#----------------------------------------------------------------------------------------------------\n",
        "        # Сохранение признаков, извлеченных из als (bpr)\n",
        "        self.als_user_factors = self.model.user_factors\n",
        "        self.als_item_factors = self.model.item_factors\n",
        "\n",
        "#----------------------------------------------------------------------------------------------------\n",
        "        # Датафрейм, индексами которого являются товары, а столбцами - \n",
        "        # средняя цена по входному датасету для каждого товара и sub_commodity_desc для товара\n",
        "        self.item_info = data.groupby('item_id').agg({'sales_value':'sum','quantity':'sum'})\\\n",
        "                                                                                    .reset_index()\n",
        "        # mean_price - результат деления суммы всех sales_value для товара на сумму всех quantity\n",
        "        # для товара, так как товар может за один раз продаться несколько раз\n",
        "        self.item_info['mean_price'] = self.item_info['sales_value']/\\\n",
        "                                                                  self.item_info['quantity']\n",
        "        self.item_info = self.item_info.merge\\\n",
        "                (item_features[['item_id', 'sub_commodity_desc']], how='left', on='item_id')\n",
        "\n",
        "        self.item_info.index = self.item_info['item_id']\n",
        "        self.item_info.drop(columns=['sales_value','quantity','item_id'], inplace=True)\n",
        "\n",
        "#----------------------------------------------------------------------------------------------------\n",
        "        # Датафрейм, индексами которого являются пользователи, а столбцом - список всех\n",
        "        # уникальных товаров, которые купил пользователь\n",
        "        self.users_purchases = data.groupby('user_id')['item_id'].unique().reset_index()\n",
        "        self.users_purchases.index = self.users_purchases['user_id']\n",
        "        self.users_purchases.drop(columns = 'user_id', inplace=True)\n",
        "\n",
        "#----------------------------------------------------------------------------------------------------\n",
        "        # Датафрейм, индексами которого являются пользователи, а столбцом - \n",
        "        # топ товаров, наиболее часто покупаемых пользователем (стоимость товаров выше mprice_theashold)\n",
        "        mprice_theashold = 4\n",
        "        data_reduce = data[data['price'] > 4]\n",
        "        data_reduce = data_reduce[data_reduce['item_id'] != 999999]\n",
        "\n",
        "        # Датафрейм \"user_id - общее количество покупок пользователем товаров стоимостью выше mprice_theashold\"\n",
        "        user_purchases = data_reduce.groupby(['user_id'])['quantity'].sum().reset_index()\n",
        "        user_purchases.rename(columns={'quantity': 'user_purchases'}, inplace=True)\n",
        "\n",
        "        # Датафрейм \"user_id - item_id - количество покупок пользователем каждого товара стоимостью выше mprice_theashold\"\n",
        "        user_item_purchases = data_reduce.groupby(['user_id', 'item_id'])['quantity'].sum().reset_index()\n",
        "\n",
        "        # Собираем все в один датасет\n",
        "        user_item_purchases =  user_item_purchases.merge(user_purchases, on=['user_id'], how='left')\n",
        "\n",
        "        # Вычисляем частотность покупок для каждого пользователя каждого товара\n",
        "        user_item_purchases['item_freq'] = user_item_purchases['quantity'] / user_item_purchases['user_purchases']\n",
        "        user_item_purchases.sort_values(by=['user_id', 'item_freq'], ascending=False, inplace=True)\n",
        "        #print(user_item_purchases)\n",
        "        self.top_items_for_user = user_item_purchases.groupby('user_id')['item_id'].unique().reset_index()\n",
        "        self.top_items_for_user.index = self.top_items_for_user.user_id\n",
        "        self.top_items_for_user.drop(columns = ['user_id'], inplace=True)\n",
        "\n",
        "#----------------------------------------------------------------------------------------------------\n",
        "        # Топ товаров, которые купило наибольшее число уникальных покупателей (стоимость товаров выше mprice_theashold)\n",
        "\n",
        "        all_users_quantity = data_reduce['user_id'].nunique()\n",
        "\n",
        "        # Вычисляем количество уникальных покупателей, которые купили данный товар\n",
        "        all_top_items = data_reduce.groupby(['item_id', 'price'])['user_id'].nunique().reset_index()\n",
        "        all_top_items.rename(columns={'user_id': 'users_quantity'}, inplace=True)\n",
        "\n",
        "        # Вычисляем какая доля от всех пользователей купила данный товар\n",
        "        all_top_items['users_share'] = all_top_items['users_quantity'] / all_users_quantity\n",
        "        all_top_items  = all_top_items[all_top_items['users_share'] >= np.quantile(all_top_items['users_share'], 0.75)]  \n",
        "        all_top_items.sort_values('users_share', ascending=False, inplace=True)\n",
        "        self.all_top_items = all_top_items.item_id.values.tolist()\n",
        "\n",
        "#----------------------------------------------------------------------------------------------------\n",
        "        # Датафрейм, индексами которого являются пользователи, а столбцом - \n",
        "        # топ товаров, наиболее часто встречаемых в карзинах данного пользователя (стоимость товаров выше mprice_theashold)\n",
        "\n",
        "        user_basket = data_reduce.groupby(['user_id'])['basket_id'].nunique().reset_index()\n",
        "        user_basket.rename(columns={'basket_id': 'users_baskets_cnt'}, inplace=True)\n",
        "        user_item_basket = data_reduce.groupby(['user_id', 'item_id'])['basket_id'].nunique().reset_index()\n",
        "        user_item_basket = user_item_basket.merge(user_basket, on=['user_id'], how='left')\n",
        "        user_item_basket['item_freq_in_user_basket'] = user_item_basket['basket_id'] / user_item_basket['users_baskets_cnt']\n",
        "        user_item_basket.sort_values(by=['user_id', 'item_freq_in_user_basket'], ascending=False, inplace=True)\n",
        "        self.top_items_in_users_basket = user_item_basket.groupby('user_id')['item_id'].unique().reset_index()\n",
        "        self.top_items_in_users_basket.index = self.top_items_in_users_basket.user_id\n",
        "        self.top_items_in_users_basket.drop(columns = ['user_id'], inplace=True)\n",
        "\n",
        "    @staticmethod\n",
        "    def _prepare_matrix(data):\n",
        "        \"\"\"Готовит user-item матрицу\"\"\"\n",
        "        # ТОЖЕ sales_value ПОДЕЛИТЬ НА quantity\n",
        "        user_item_matrix = pd.pivot_table(data,\n",
        "                                          index='user_id', columns='item_id',\n",
        "                                          #values = 'sales_value', #выручка без затух.\n",
        "                                          #values = 'sales_value(t)', #выручка с затух.\n",
        "                                          #values = 'quantity(t)', #число продаж с затух.\n",
        "                                          #values = 'quantity', #число продаж без затух.\n",
        "                                          values = 'price(t)', #цена товара с затух.\n",
        "                                          aggfunc='sum',\n",
        "                                          fill_value=0\n",
        "                                          )\n",
        "        \n",
        "\n",
        "        user_item_matrix = user_item_matrix.astype(float)  # необходимый тип матрицы для implicit\n",
        "        #user_item_matrix = np.log1p(user_item_matrix) # Не сработало\n",
        "        return user_item_matrix\n",
        "\n",
        "    @staticmethod\n",
        "    def _prepare_dicts(user_item_matrix):\n",
        "        \"\"\"Подготавливает вспомогательные словари\"\"\"\n",
        "\n",
        "        userids = user_item_matrix.index.values\n",
        "        itemids = user_item_matrix.columns.values\n",
        "\n",
        "        matrix_userids = np.arange(len(userids))\n",
        "        matrix_itemids = np.arange(len(itemids))\n",
        "\n",
        "        id_to_itemid = dict(zip(matrix_itemids, itemids))\n",
        "        id_to_userid = dict(zip(matrix_userids, userids))\n",
        "\n",
        "        itemid_to_id = dict(zip(itemids, matrix_itemids))\n",
        "        userid_to_id = dict(zip(userids, matrix_userids))\n",
        "\n",
        "        return id_to_itemid, id_to_userid, itemid_to_id, userid_to_id\n",
        "\n",
        "    @staticmethod\n",
        "    def fit_own_recommender(user_item_matrix):\n",
        "        \"\"\"Обучает модель, которая рекомендует товары, среди товаров, купленных юзером\"\"\"\n",
        "\n",
        "        own_recommender = ItemItemRecommender(K=1, num_threads=8)\n",
        "        own_recommender.fit(csr_matrix(user_item_matrix).T.tocsr())\n",
        "\n",
        "        return own_recommender\n",
        "\n",
        "    @staticmethod\n",
        "    def fit(user_item_matrix, n_factors=160, regularization=0.001, \n",
        "            iterations=30, num_threads=32, model_type='als'):\n",
        "        \"\"\"Обучает ALS\"\"\"\n",
        "        if model_type=='als':\n",
        "          model = AlternatingLeastSquares(factors=n_factors,\n",
        "                                          regularization=regularization,\n",
        "                                          iterations=iterations,\n",
        "                                          num_threads=num_threads,\n",
        "                                          )\n",
        "        elif model_type=='bpr':\n",
        "          model = BayesianPersonalizedRanking(factors=n_factors,\n",
        "                                          regularization=regularization,\n",
        "                                          iterations=iterations,\n",
        "                                          num_threads=num_threads,\n",
        "                                          )\n",
        "        else:\n",
        "          pass\n",
        "\n",
        "        #if self.random_state != None:\n",
        "        #  np.random.seed(self.random_state)\n",
        "\n",
        "        model.fit(csr_matrix(user_item_matrix).T.tocsr())\n",
        "\n",
        "        return model\n",
        "\n",
        "    def _update_dict(self, user_id):\n",
        "        \"\"\"Если появился новыю user / item, то нужно обновить словари\"\"\"\n",
        "\n",
        "        if user_id not in self.userid_to_id.keys():\n",
        "\n",
        "            max_id = max(list(self.userid_to_id.values()))\n",
        "            max_id += 1\n",
        "\n",
        "            self.userid_to_id.update({user_id: max_id})\n",
        "            self.id_to_userid.update({max_id: user_id})\n",
        "\n",
        "    def _get_similar_item(self, item_id):\n",
        "        \"\"\"Находит товар, похожий на item_id\"\"\"\n",
        "        recs = self.model.similar_items(self.itemid_to_id[item_id], N=2)  # Товар похож на себя -> рекомендуем 2 товара\n",
        "        top_rec = recs[1][0]  # И берем второй (не товар из аргумента метода)\n",
        "        return self.id_to_itemid[top_rec]\n",
        "\n",
        "    def _extend_with_top_popular(self, recommendations, N=5):\n",
        "        \"\"\"Если кол-во рекоммендаций < N, то дополняем их топ-популярными\"\"\"\n",
        "\n",
        "        if len(recommendations) < N:\n",
        "            recommendations.extend(self.overall_top_purchases[:N])\n",
        "            recommendations = recommendations[:N]\n",
        "\n",
        "        return recommendations\n",
        "\n",
        "    def _get_recommendations(self, user, model, N=5):\n",
        "        \"\"\"Рекомендации через стардартные библиотеки implicit\"\"\"\n",
        "\n",
        "        self._update_dict(user_id=user)\n",
        "\n",
        "        # Чтобы гиперпараметры было удобнее подбирать, зафиксируем seed\n",
        "        if self.random_state != None:\n",
        "          np.random.seed(self.random_state)\n",
        "\n",
        "        res = [self.id_to_itemid[rec[0]] for rec in model.recommend(userid=self.userid_to_id[user],\n",
        "                                        user_items=csr_matrix(self.user_item_matrix).tocsr(),\n",
        "                                        N=N,\n",
        "                                        filter_already_liked_items=False,\n",
        "                                        filter_items=[self.itemid_to_id[999999]])]\n",
        "                                        #recalculate_user=True)] в bpr не работает\n",
        "\n",
        "        res = self._extend_with_top_popular(res, N=N)\n",
        "\n",
        "        assert len(res) == N, 'Количество рекомендаций != {}'.format(N)\n",
        "        return res\n",
        "\n",
        "    def get_als_recommendations(self, user, N=5):\n",
        "        \"\"\"Рекомендации через стардартные библиотеки implicit\"\"\"\n",
        "        \n",
        "        # Обработка холодного пользователя\n",
        "        if user not in self.userid_to_id.keys():\n",
        "          #self._update_dict(user_id=user)\n",
        "          return self.overall_top_purchases[:N]\n",
        "        else:\n",
        "        #self._update_dict(user_id=user)\n",
        "          return self._get_recommendations(user, model=self.model, N=N)\n",
        "\n",
        "    def get_own_recommendations(self, user, N=5):\n",
        "        \"\"\"Рекомендуем товары среди тех, которые юзер уже купил\"\"\"\n",
        "\n",
        "        if user not in self.userid_to_id.keys():\n",
        "          return self.overall_top_purchases[:N]\n",
        "        else:\n",
        "          return self._get_recommendations(user, model=self.own_recommender, N=N)\n",
        "        #self._update_dict(user_id=user)\n",
        "        \n",
        "\n",
        "    def get_similar_items_recommendation(self, user, N=5):\n",
        "        \"\"\"Рекомендуем товары, похожие на топ-N купленных юзером товаров\"\"\"\n",
        "        if user not in self.userid_to_id.keys():\n",
        "          return self.overall_top_purchases[:N]\n",
        "        else:\n",
        "          top_users_purchases = self.top_purchases[self.top_purchases['user_id'] == user].head(N)\n",
        "\n",
        "          res = top_users_purchases['item_id'].apply(lambda x: self._get_similar_item(x)).tolist()\n",
        "          res = self._extend_with_top_popular(res, N=N)\n",
        "\n",
        "          assert len(res) == N, 'Количество рекомендаций != {}'.format(N)\n",
        "          return res\n",
        "\n",
        "    def get_similar_users_recommendation(self, user, N=5):\n",
        "        \"\"\"Рекомендуем топ-N товаров, среди купленных похожими юзерами\"\"\"\n",
        "        if user not in self.userid_to_id.keys():\n",
        "          return self.overall_top_purchases[:N]\n",
        "        else:\n",
        "          res = []\n",
        "\n",
        "          # Находим топ-N похожих пользователей\n",
        "          similar_users = self.model.similar_users(self.userid_to_id[user], N=N+1)\n",
        "          similar_users = [rec[0] for rec in similar_users]\n",
        "          similar_users = similar_users[1:]   # удалим юзера из запроса\n",
        "\n",
        "          for user in similar_users:\n",
        "            res.extend(self.get_own_recommendations(user, N=1))\n",
        "\n",
        "          res = self._extend_with_top_popular(res, N=N)\n",
        "\n",
        "          assert len(res) == N, 'Количество рекомендаций != {}'.format(N)\n",
        "          return res\n",
        "\n",
        "    def get_top_items_for_user(self, user):\n",
        "      \"\"\"Для каждого пользователя выделяет топ самых покупаемых\n",
        "        товаров, стоимость которых выше mprice_theashold\n",
        "      \"\"\"\n",
        "      if user in self.top_items_for_user.index:\n",
        "        if type(user) == 'list':\n",
        "          return self.top_items_for_user.loc[user, 'item_id'].values.tolist()\n",
        "        else:\n",
        "          return self.top_items_for_user.loc[user, 'item_id'].tolist()\n",
        "      else:\n",
        "        return [] # Если по этому пользователю не было информации\n",
        "\n",
        "    def get_all_top_items(self):\n",
        "      \"\"\"Возвращает топ из товаров, которые покупает наибольшее число уникальных пользователей\n",
        "      (стоимость товаров больше mprice_theashold)\n",
        "      \"\"\" \n",
        "      return self.all_top_items\n",
        "\n",
        "    def get_top_items_in_users_basket(self, user):\n",
        "      \"\"\"Для каждого пользователя выделяет топ самых покупаемых\n",
        "        товаров (товары наиболее часто встречаемые к корзинах пользователя), стоимость которых выше mprice_theashold\n",
        "      \"\"\"\n",
        "      if user in self.top_items_in_users_basket.index:\n",
        "        if type(user) == 'list':\n",
        "          return self.top_items_in_users_basket.loc[user, 'item_id'].values.tolist()\n",
        "        else:\n",
        "          return self.top_items_in_users_basket.loc[user, 'item_id'].tolist()\n",
        "      else:\n",
        "        return [] # Если по этому пользователю не было информации"
      ],
      "execution_count": 16,
      "outputs": []
    },
    {
      "cell_type": "markdown",
      "metadata": {
        "id": "7bAFbh-JMvz_"
      },
      "source": [
        "# 3. Класс FILTER"
      ]
    },
    {
      "cell_type": "code",
      "metadata": {
        "id": "awoikRHqMu59"
      },
      "source": [
        "import pandas as pd\n",
        "import numpy as np\n",
        "\n",
        "class FilterClass:\n",
        "    \"\"\"Содержит функции предфильтрации и постфильтрации\n",
        "\n",
        "    \"\"\"\n",
        "\n",
        "    def __init__(self, data, item_features):\n",
        "\n",
        "        # Датасет, индексами которого являются товары, а столбцами - \n",
        "        # средняя цена по входному датасету для каждого товара и sub_commodity_desc для товара\n",
        "        self.item_info = data.groupby('item_id').agg({'sales_value':'sum','quantity':'sum'})\\\n",
        "                                                                                    .reset_index()\n",
        "        # mean_price - результат деления суммы всех sales_value для товара на сумму всех quantity\n",
        "        # для товара, так как товар может за один раз продаться несколько раз\n",
        "        self.item_info['mean_price'] = self.item_info['sales_value']/\\\n",
        "                                                                  self.item_info['quantity']\n",
        "        self.item_info = self.item_info.merge\\\n",
        "                (item_features[['item_id', 'sub_commodity_desc']], how='left', on='item_id')\n",
        "\n",
        "        self.item_info.index = self.item_info['item_id']\n",
        "        self.item_info.drop(columns=['sales_value','quantity','item_id'], inplace=True)\n",
        "\n",
        "        # Датасет, индексами которого являются пользователи, а столбцом - список всех\n",
        "        # уникальных товаров, которые купил пользователь\n",
        "        self.users_purchases = data.groupby('user_id')['item_id'].unique().reset_index()\n",
        "        self.users_purchases.index = self.users_purchases['user_id']\n",
        "        self.users_purchases.drop(columns = 'user_id', inplace=True)\n",
        "\n",
        "\n",
        "    def get_mean_prices_from_items(self, recommended_list):\n",
        "    # Функция возвращает средние цены на товары из списка recommended_list\n",
        "    # item_info создается при обучении 1 раз для экономии ресурсов\n",
        "      if type(recommended_list) == 'list':\n",
        "        return self.item_info.loc[recommended_list, 'mean_price'].values.tolist()\n",
        "      else:\n",
        "        return self.item_info.loc[recommended_list, 'mean_price'].tolist()\n",
        "\n",
        "    \n",
        "    def get_scd_from_items(self, recommended_list):\n",
        "    # Функция возвращает sub_commodity_desc для товаров из списка recommended_list\n",
        "    # item_info создается при обучении 1 раз для экономии ресурсов\n",
        "      if type(recommended_list) == 'list':\n",
        "        return self.item_info.loc[recommended_list, 'sub_commodity_desc'].tolist()\n",
        "      else:\n",
        "        return self.item_info.loc[recommended_list, 'sub_commodity_desc']\n",
        "\n",
        "\n",
        "    # Фильтрация в соответствии с бизнес логикой       \n",
        "\n",
        "    def postfilter_items(self, user_id,\tlgbm_candidates,\town_recommender,\tall_top_items,\ttop_items_in_users_basket,\ttop_items_for_user):\n",
        "    # Функция производит постфильтрацию: из списка с N рекомендациями получает\n",
        "    # список из 5 товаров, в котором 1 или более товаров стоимостью > 7 дол., 2 или более товаров,\n",
        "    # которые данный пользователь никогда не покупал и все товары принадлежат разным категориям\n",
        "      result, scd, price, new = [], [], [], []\n",
        "      #top_popular = np.array(top_popular)\n",
        "      # На случай если в recommednations не найдется нужного товара,\n",
        "      # то искать будем в топе популярных\n",
        "      #recommednations = np.concatenate([recommednations, top_popular])\n",
        "\n",
        "      # Если пользователь совершал покупки ранее (о нем есть информация в data)\n",
        "      if user_id in self.users_purchases.index:\n",
        "\n",
        "        # Ищем в recommednations 2 товара из различных категорий и сохраняем их хар-ки\n",
        "        flag = 0\n",
        "        for item in top_items_for_user + top_items_in_users_basket + own_recommender:\n",
        "          if self.get_scd_from_items(item) not in scd:        \n",
        "            flag += 1\n",
        "            result.append(item)\n",
        "            scd.append(self.get_scd_from_items(item))\n",
        "            price.append(self.get_mean_prices_from_items(item))\n",
        "            new.append(item not in self.users_purchases.loc[user_id, 'item_id'])\n",
        "            if flag == 2:\n",
        "              break\n",
        "        assert len(result)  ==  2 # Должно быть 2 из разных категорий\n",
        "\n",
        "        # Ищем в recommednations 2 не купленных ранее товара из различных категорий\n",
        "        # и сохраняем их хар-ки\n",
        "        flag = 0\n",
        "        for item in all_top_items + lgbm_candidates:\n",
        "          if (item not in self.users_purchases.loc[user_id, 'item_id']) and\\\n",
        "                      (self.get_scd_from_items(item) not in scd):\n",
        "            flag += 1\n",
        "            result.append(item)\n",
        "            scd.append(self.get_scd_from_items(item))\n",
        "            price.append(self.get_mean_prices_from_items(item))\n",
        "            new.append(item not in self.users_purchases.loc[user_id, 'item_id'])\n",
        "            if flag == 2:\n",
        "              break\n",
        "        assert len(result)  == 4 # Должно быть 2 простых и 2 новых\n",
        "\n",
        "        # Ищем в recommednations 1-й дорогой товар и сохраняем его хар-ки\n",
        "        for item in top_items_for_user + top_items_in_users_basket + all_top_items + lgbm_candidates + own_recommender:\n",
        "          if ((self.get_mean_prices_from_items(item) > 7) and (self.get_scd_from_items(item) not in scd)):\n",
        "            result.append(item)\n",
        "            scd.append(self.get_scd_from_items(item))\n",
        "            price.append(self.get_mean_prices_from_items(item))\n",
        "            new.append(item not in self.users_purchases.loc[user_id, 'item_id'])\n",
        "            break\n",
        "        assert len(result)  == 5 # Один дорогой товар должен быть добавлен\n",
        "        \n",
        "      # Если пользователь не совершал покупок ранее \n",
        "      else:\n",
        "          \n",
        "        # Ищем в recommednations 4 товара из различных категорий и сохраняем их хар-ки\n",
        "        flag = 0\n",
        "        for item in lgbm_candidates + all_top_items:\n",
        "          if (self.get_scd_from_items(item) not in scd) and (self.get_mean_prices_from_items(item) > 3) \\\n",
        "          and (self.get_mean_prices_from_items(item) < 6):        \n",
        "            flag += 1\n",
        "            result.append(item)\n",
        "            scd.append(self.get_scd_from_items(item))\n",
        "            price.append(self.get_mean_prices_from_items(item))\n",
        "            new.append(True)\n",
        "            if flag == 4:\n",
        "              break\n",
        "        assert len(result)  == 4 # Должно быть добавлено 4 любых товара\n",
        "\n",
        "        # Ищем в recommednations 1-й дорогой товар и сохраняем его хар-ки\n",
        "        for item in lgbm_candidates + all_top_items:\n",
        "          if (self.get_mean_prices_from_items(item) > 7) and (self.get_scd_from_items(item) not in scd):\n",
        "            result.append(item)\n",
        "            scd.append(self.get_scd_from_items(item))\n",
        "            price.append(self.get_mean_prices_from_items(item))\n",
        "            new.append(True)\n",
        "            break\n",
        "        assert len(result)  == 5 # Один дорогой товар + 4 любых\n",
        "\n",
        "      assert len(result) == 5\n",
        "      assert max(price) >= 7 # Один товар должен быть дороже 7\n",
        "      assert len(set(scd)) == 5 # Все товары должны быть из разных категорий\n",
        "      assert sum(new) >= 2 # Как минимум 2 новых товара\n",
        "\n",
        "      # Для отладки выводил: \n",
        "      # result - список из 5 рекомендованных товаров\n",
        "      # scd - соответствующий первому списку список sub_comodity_description\n",
        "      # price - стоимость рекомендованных товаров\n",
        "      # old - покупался ли товар ранее\n",
        "      #\n",
        "      #return result, scd, price, old\n",
        "      return result\n",
        "\n",
        "    @staticmethod\n",
        "    def prefilter_items(data, take_n_popular=5000, item_features=None):\n",
        "    # Уберем самые популярные товары (их и так купят)\n",
        "      popularity = data.groupby('item_id')['user_id'].nunique().reset_index() / data['user_id'].nunique()\n",
        "      popularity.rename(columns={'user_id': 'share_unique_users'}, inplace=True)\n",
        "\n",
        "      top_popular = popularity[popularity['share_unique_users'] > 0.2].item_id.tolist()\n",
        "      data = data[~data['item_id'].isin(top_popular)]\n",
        "\n",
        "    # Уберем самые НЕ популярные товары (их и так НЕ купят)\n",
        "      top_notpopular = popularity[popularity['share_unique_users'] < 0.02].item_id.tolist()\n",
        "      data = data[~data['item_id'].isin(top_notpopular)]\n",
        "\n",
        "    # Уберем товары, которые не продавались в последние weeks_num недель\n",
        "      last_week = data['week_no'].max()\n",
        "      weeks_num = 47\n",
        "      not_valid = data.groupby('item_id')['week_no'].max().reset_index()\n",
        "      not_valid = not_valid[not_valid['week_no'] <= (last_week - weeks_num)].item_id.tolist()\n",
        "      data = data[~data['item_id'].isin(not_valid)]\n",
        "\n",
        "    # Уберем не интересные для рекомендаций категории (department)\n",
        "      if item_features is not None:\n",
        "          department_size = pd.DataFrame(item_features. \\\n",
        "                                       groupby('department')['item_id'].nunique(). \\\n",
        "                                       sort_values(ascending=False)).reset_index()\n",
        "\n",
        "          department_size.columns = ['department', 'n_items']\n",
        "          rare_departments = department_size[department_size['n_items'] < 150].department.tolist()\n",
        "          items_in_rare_departments = item_features[\n",
        "              item_features['department'].isin(rare_departments)].item_id.unique().tolist()\n",
        "\n",
        "          data = data[~data['item_id'].isin(items_in_rare_departments)]\n",
        "    \n",
        "    # Считаем стоимости для товаров\n",
        "      #data['price'] = data['sales_value'] / (np.maximum(data['quantity'], 1)) # max - чтобы на 0 не поделить\n",
        "\n",
        "    # Считаем стоимости для товаров как среднюю стоимость по всему датасету\n",
        "      price = data.groupby('item_id').agg({'sales_value':'sum','quantity':'sum'}).reset_index()\n",
        "      price['price'] = price['sales_value']/price['quantity']\n",
        "      price.drop(columns=['sales_value','quantity'], inplace=True)\n",
        "      data = data.merge(price, how='left', on='item_id')\n",
        "\n",
        "    # Уберем слишком дешевые товары (на них не заработаем). 1 покупка из рассылок стоит 60 руб.\n",
        "      data = data[data['price'] > 1]\n",
        "\n",
        "    # Уберем слишком дорогие товары\n",
        "      data = data[data['price'] < 7.5]\n",
        "\n",
        "    # Возьмем топ по популярности\n",
        "      popularity = data.groupby('item_id')['quantity'].sum().reset_index()\n",
        "      popularity.rename(columns={'quantity': 'n_sold'}, inplace=True)\n",
        "\n",
        "      top = popularity.sort_values('n_sold', ascending=False).head(take_n_popular).item_id.tolist()\n",
        "\n",
        "    # Заведем фиктивный item_id (если юзер покупал товары из топ-5000, то он \"купил\" такой товар)\n",
        "      data.loc[~data['item_id'].isin(top), 'item_id'] = 999999\n",
        "\n",
        "    # Добавить По популярности (> 10 покупок в неделю) \n",
        "    # Добавить По популярности (> 10 покупок в неделю)\n",
        "\n",
        "      return data"
      ],
      "execution_count": 142,
      "outputs": []
    },
    {
      "cell_type": "markdown",
      "metadata": {
        "id": "EwI86WVs6ih3"
      },
      "source": [
        "Эти признаки можно добавить"
      ]
    },
    {
      "cell_type": "code",
      "metadata": {
        "id": "EHQ3wDoOppIz"
      },
      "source": [
        "# Это оптимальная обработка, если pivot_table строится на основе sales_value\n",
        "# Добавим признак sales_value(t) = (e^(-max_week_no + week_no)/T)*sales_value\n",
        "# T - коэффициент затухания (чем больше, тем оно медленнее)\n",
        "#T = 6\n",
        "#data_train_lvl_1and2['sales_value(t)'] = (np.exp((-data_train_lvl_1and2['week_no'].max()+\\\n",
        "#                                                  data_train_lvl_1and2['week_no'])/T))*\\\n",
        "#                                                  data_train_lvl_1and2['sales_value']"
      ],
      "execution_count": 18,
      "outputs": []
    },
    {
      "cell_type": "code",
      "metadata": {
        "id": "QZY6o9esFW_l"
      },
      "source": [
        "# Это оптимальная обработка, если pivot_table строится на основе quantity\n",
        "# Добавим признак quantity(t) = (e^(-max_week_no + week_no)/T)*quantity\n",
        "# T - коэффициент затухания (чем больше, тем оно медленнее)\n",
        "#T = 10.4\n",
        "#data_train_lvl_1and2['quantity(t)'] = (np.exp((-data_train_lvl_1and2['week_no'].max()+\\\n",
        "#                                                  data_train_lvl_1and2['week_no'])/T))*\\\n",
        "#                                                  data_train_lvl_1and2['quantity']"
      ],
      "execution_count": 19,
      "outputs": []
    },
    {
      "cell_type": "code",
      "metadata": {
        "id": "Jl6C3U37s5Te"
      },
      "source": [
        "# Это оптимальная обработка, если pivot_table строится на основе price\n",
        "# Добавим признак sales_value(t) = (e^(-max_week_no + week_no)/T)*price\n",
        "# T - коэффициент затухания (чем больше, тем оно медленнее)\n",
        "#T = 4\n",
        "#data_train_lvl_1and2['price(t)'] = (np.exp((-data_train_lvl_1and2['week_no'].max()+\\\n",
        "#                                                  data_train_lvl_1and2['week_no'])/T))*\\\n",
        "#                                                  data_train_lvl_1and2['price']"
      ],
      "execution_count": 20,
      "outputs": []
    },
    {
      "cell_type": "code",
      "metadata": {
        "id": "ptBPlH_pYVQg"
      },
      "source": [
        "# Добавить признак - какую часть товаров пользователь купил по промо"
      ],
      "execution_count": 21,
      "outputs": []
    },
    {
      "cell_type": "code",
      "metadata": {
        "id": "oE-n9QDStBe1"
      },
      "source": [
        "# Какие параметры я подбирал:\n",
        "# 1. В MainRecommender: weighting(bm25_weight или tfidf_weight), model_type(als или bpr), \n",
        "#                       n_factors, regularization, iterations;\n",
        "# 2. В bm25_weight: K1 и B;\n",
        "# 3. В prefilter_items: weeks_num, фильтрация дешевых товаров,\n",
        "# 4. При формировании quantity(t): T - забывание предыдущих покупок"
      ],
      "execution_count": 22,
      "outputs": []
    },
    {
      "cell_type": "markdown",
      "metadata": {
        "id": "zuf4BxixoqVr"
      },
      "source": [
        "# 4. Обучение двухуровневой модели"
      ]
    },
    {
      "cell_type": "markdown",
      "metadata": {
        "id": "0r8de851iU9o"
      },
      "source": [
        "## 4.1 ALS - 1-й уровень двухуровневой модели"
      ]
    },
    {
      "cell_type": "markdown",
      "metadata": {
        "id": "qaOQdA7HpQNF"
      },
      "source": [
        "### 4.1.1 Обучимся на первом датасете"
      ]
    },
    {
      "cell_type": "code",
      "metadata": {
        "id": "AuGk5fELp0pH",
        "outputId": "97f4283d-0d22-48e3-af26-46231e80bce5",
        "colab": {
          "base_uri": "https://localhost:8080/",
          "height": 34
        }
      },
      "source": [
        "# Предфильтрация товаров с помощью prefilter_items \n",
        "# Фильтр также добавит среднюю цену для каждого товара\n",
        "n_items_before = data_train_lvl_1['item_id'].nunique()\n",
        "data_train_lvl_1 = FilterClass.prefilter_items(data_train_lvl_1, item_features=item_features, take_n_popular=15000)\n",
        "n_items_after = data_train_lvl_1['item_id'].nunique()\n",
        "print('Decreased # items from {} to {}'.format(n_items_before, n_items_after))"
      ],
      "execution_count": 23,
      "outputs": [
        {
          "output_type": "stream",
          "text": [
            "Decreased # items from 83685 to 15001\n"
          ],
          "name": "stdout"
        }
      ]
    },
    {
      "cell_type": "code",
      "metadata": {
        "id": "IWQmg96dqypL"
      },
      "source": [
        "# Это оптимальная обработка, если pivot_table строится на основе price\n",
        "# Добавим признак sales_value(t) = (e^(-max_week_no + week_no)/T)*price\n",
        "# T - коэффициент затухания (чем больше, тем оно медленнее)\n",
        "T = 25\n",
        "data_train_lvl_1['price(t)'] = (np.exp((-data_train_lvl_1['week_no'].max()+\\\n",
        "                                                  data_train_lvl_1['week_no'])/T))*\\\n",
        "                                                  data_train_lvl_1['price']"
      ],
      "execution_count": 24,
      "outputs": []
    },
    {
      "cell_type": "code",
      "metadata": {
        "id": "2y8N0yaMrBm4",
        "outputId": "749b9e4a-6d84-44ff-f305-ff5b960ef62b",
        "colab": {
          "base_uri": "https://localhost:8080/",
          "height": 152,
          "referenced_widgets": [
            "fe2aed6db0824b9ab863c70dba08c91c",
            "a613a616dce945f8b742ce8396263eae",
            "59107b2650934ce28b5620ffd9698f49",
            "e952faa208e54489ba217b2b7c9a25dc",
            "f041d89c04df4342ac013ea489d1970a",
            "859d85141fc44b1cb030485fa210a221",
            "83dc319649164a50bc6d0a6a51528bf2",
            "008ff7b44e7943b99cdd1ac729335c30",
            "6bdb7077dd7e41e98e134bdaa332531e",
            "688295fe9c9c43e49a002e1fee5a5bf0",
            "de21c1fe366d4938ac816556f862d98f",
            "8a28eacde61a4690ba07700774a6831b",
            "93b207ef61c74b2a85f834b42158810e",
            "9712c96175a84fbda3473a3104fbba5e",
            "29f50313beed47b9b37c4058a357103b",
            "f1a8dbb626e04fc398a746f4376cc003"
          ]
        }
      },
      "source": [
        "# Обучение модели\n",
        "als_model = MainRecommender(data_train_lvl_1, item_features,\n",
        "                                     weighting='bm25_weight', \n",
        "                                     model_type='als',\n",
        "                                     n_factors=256, \n",
        "                                     regularization=0.01, \n",
        "                                     iterations=30,\n",
        "                                     num_threads=16,\n",
        "                                     random_state=42)"
      ],
      "execution_count": 25,
      "outputs": [
        {
          "output_type": "stream",
          "text": [
            "WARNING:root:OpenBLAS detected. Its highly recommend to set the environment variable 'export OPENBLAS_NUM_THREADS=1' to disable its internal multithreading\n"
          ],
          "name": "stderr"
        },
        {
          "output_type": "display_data",
          "data": {
            "application/vnd.jupyter.widget-view+json": {
              "model_id": "fe2aed6db0824b9ab863c70dba08c91c",
              "version_minor": 0,
              "version_major": 2
            },
            "text/plain": [
              "HBox(children=(FloatProgress(value=0.0, max=30.0), HTML(value='')))"
            ]
          },
          "metadata": {
            "tags": []
          }
        },
        {
          "output_type": "stream",
          "text": [
            "\n"
          ],
          "name": "stdout"
        },
        {
          "output_type": "display_data",
          "data": {
            "application/vnd.jupyter.widget-view+json": {
              "model_id": "6bdb7077dd7e41e98e134bdaa332531e",
              "version_minor": 0,
              "version_major": 2
            },
            "text/plain": [
              "HBox(children=(FloatProgress(value=0.0, max=15001.0), HTML(value='')))"
            ]
          },
          "metadata": {
            "tags": []
          }
        },
        {
          "output_type": "stream",
          "text": [
            "\n"
          ],
          "name": "stdout"
        }
      ]
    },
    {
      "cell_type": "markdown",
      "metadata": {
        "id": "f8UW1ifHrQ_R"
      },
      "source": [
        "### 4.1.2 Оценим точность и полноту на втором датасете (без постфильтрации)"
      ]
    },
    {
      "cell_type": "code",
      "metadata": {
        "id": "3thyrAAvrLW8",
        "outputId": "6898a909-2447-46a7-d23e-26911c11cb5c",
        "colab": {
          "base_uri": "https://localhost:8080/",
          "height": 142
        }
      },
      "source": [
        "# Формируем выходной датасет\n",
        "result_lvl_1 = data_val_lvl_1.groupby('user_id')['item_id'].unique().reset_index()\n",
        "result_lvl_1.columns=['user_id', 'actual']\n",
        "# Получаем результаты (для каждого пользователя 200 товаров, чтобы оценить каество модели)\n",
        "result_lvl_1['first_layer_als'] = result_lvl_1['user_id'].\\\n",
        "                                  apply(lambda x: als_model.get_als_recommendations(x, N=500))\n",
        "result_lvl_1.head(3)"
      ],
      "execution_count": 26,
      "outputs": [
        {
          "output_type": "execute_result",
          "data": {
            "text/html": [
              "<div>\n",
              "<style scoped>\n",
              "    .dataframe tbody tr th:only-of-type {\n",
              "        vertical-align: middle;\n",
              "    }\n",
              "\n",
              "    .dataframe tbody tr th {\n",
              "        vertical-align: top;\n",
              "    }\n",
              "\n",
              "    .dataframe thead th {\n",
              "        text-align: right;\n",
              "    }\n",
              "</style>\n",
              "<table border=\"1\" class=\"dataframe\">\n",
              "  <thead>\n",
              "    <tr style=\"text-align: right;\">\n",
              "      <th></th>\n",
              "      <th>user_id</th>\n",
              "      <th>actual</th>\n",
              "      <th>first_layer_als</th>\n",
              "    </tr>\n",
              "  </thead>\n",
              "  <tbody>\n",
              "    <tr>\n",
              "      <th>0</th>\n",
              "      <td>1</td>\n",
              "      <td>[853529, 865456, 867607, 872137, 874905, 87524...</td>\n",
              "      <td>[1075074, 1025641, 5577022, 856942, 1036852, 9...</td>\n",
              "    </tr>\n",
              "    <tr>\n",
              "      <th>1</th>\n",
              "      <td>2</td>\n",
              "      <td>[15830248, 838136, 839656, 861272, 866211, 870...</td>\n",
              "      <td>[5569230, 1103898, 7410341, 826784, 970481, 11...</td>\n",
              "    </tr>\n",
              "    <tr>\n",
              "      <th>2</th>\n",
              "      <td>4</td>\n",
              "      <td>[883932, 970760, 1035676, 1055863, 1097610, 67...</td>\n",
              "      <td>[6391541, 936470, 891423, 13115703, 1088145, 9...</td>\n",
              "    </tr>\n",
              "  </tbody>\n",
              "</table>\n",
              "</div>"
            ],
            "text/plain": [
              "   user_id  ...                                    first_layer_als\n",
              "0        1  ...  [1075074, 1025641, 5577022, 856942, 1036852, 9...\n",
              "1        2  ...  [5569230, 1103898, 7410341, 826784, 970481, 11...\n",
              "2        4  ...  [6391541, 936470, 891423, 13115703, 1088145, 9...\n",
              "\n",
              "[3 rows x 3 columns]"
            ]
          },
          "metadata": {
            "tags": []
          },
          "execution_count": 26
        }
      ]
    },
    {
      "cell_type": "code",
      "metadata": {
        "id": "sJU6rL7hrrJP",
        "outputId": "e3dd6bbb-e6ff-46ad-ec12-3cb116d3d619",
        "colab": {
          "base_uri": "https://localhost:8080/",
          "height": 51
        }
      },
      "source": [
        "# Оцениваем качество работы модели\n",
        "pr_at_5 = result_lvl_1.apply(lambda row: precision_at_k(row['first_layer_als'],\\\n",
        "                                                      row['actual'], k=5), axis=1).mean()\n",
        "\n",
        "rec_at_5 = result_lvl_1.apply(lambda row: recall_at_k(row['first_layer_als'], \\\n",
        "                                                      row['actual'], k=500), axis=1).mean()\n",
        "\n",
        "print(f'precision at 5 = {pr_at_5}')\n",
        "print(f'recall at 500 = {rec_at_5}')"
      ],
      "execution_count": 27,
      "outputs": [
        {
          "output_type": "stream",
          "text": [
            "precision at 5 = 0.2032497678737205\n",
            "recall at 500 = 0.2786744225271689\n"
          ],
          "name": "stdout"
        }
      ]
    },
    {
      "cell_type": "markdown",
      "metadata": {
        "id": "RD6KWNpyWKYC"
      },
      "source": [
        "## 4.2. LGBM - 2-й уровень двухуровневой модели"
      ]
    },
    {
      "cell_type": "markdown",
      "metadata": {
        "id": "mtYudp3uYPof"
      },
      "source": [
        "### 4.2.1 Формируем датасет для обучения модели второго уровня"
      ]
    },
    {
      "cell_type": "code",
      "metadata": {
        "id": "dPULVEaf7IRD",
        "outputId": "a29880a8-ed77-44d2-b5f2-f92d1340d6a4",
        "colab": {
          "base_uri": "https://localhost:8080/",
          "height": 142
        }
      },
      "source": [
        "# Модель второго уровня будет обучаться на пользователях из второго датасета (data_train_lvl_2)\n",
        "# и товарах, отфильтрованных моделью первого уровня для каждого пользователя из второго датасета\n",
        "users_lvl_2 = pd.DataFrame(data_train_lvl_2['user_id'].unique())\n",
        "users_lvl_2.columns = ['user_id']\n",
        "\n",
        "# Делаем рекомендации моделью первого уровня, которая настроена на получение наибольшего recall\n",
        "users_lvl_2['candidates'] = users_lvl_2['user_id'].apply(lambda x: als_model.get_als_recommendations(x, N=500))\n",
        "users_lvl_2.head(3)"
      ],
      "execution_count": 28,
      "outputs": [
        {
          "output_type": "execute_result",
          "data": {
            "text/html": [
              "<div>\n",
              "<style scoped>\n",
              "    .dataframe tbody tr th:only-of-type {\n",
              "        vertical-align: middle;\n",
              "    }\n",
              "\n",
              "    .dataframe tbody tr th {\n",
              "        vertical-align: top;\n",
              "    }\n",
              "\n",
              "    .dataframe thead th {\n",
              "        text-align: right;\n",
              "    }\n",
              "</style>\n",
              "<table border=\"1\" class=\"dataframe\">\n",
              "  <thead>\n",
              "    <tr style=\"text-align: right;\">\n",
              "      <th></th>\n",
              "      <th>user_id</th>\n",
              "      <th>candidates</th>\n",
              "    </tr>\n",
              "  </thead>\n",
              "  <tbody>\n",
              "    <tr>\n",
              "      <th>0</th>\n",
              "      <td>2070</td>\n",
              "      <td>[1038217, 1107553, 897954, 965766, 999270, 104...</td>\n",
              "    </tr>\n",
              "    <tr>\n",
              "      <th>1</th>\n",
              "      <td>2021</td>\n",
              "      <td>[1019142, 950935, 1119454, 1041390, 981760, 96...</td>\n",
              "    </tr>\n",
              "    <tr>\n",
              "      <th>2</th>\n",
              "      <td>1753</td>\n",
              "      <td>[886481, 1048507, 901543, 1062973, 1037894, 92...</td>\n",
              "    </tr>\n",
              "  </tbody>\n",
              "</table>\n",
              "</div>"
            ],
            "text/plain": [
              "   user_id                                         candidates\n",
              "0     2070  [1038217, 1107553, 897954, 965766, 999270, 104...\n",
              "1     2021  [1019142, 950935, 1119454, 1041390, 981760, 96...\n",
              "2     1753  [886481, 1048507, 901543, 1062973, 1037894, 92..."
            ]
          },
          "metadata": {
            "tags": []
          },
          "execution_count": 28
        }
      ]
    },
    {
      "cell_type": "markdown",
      "metadata": {
        "id": "iV86lsaZZR4p"
      },
      "source": [
        "\"Разворачиваем\" датасет"
      ]
    },
    {
      "cell_type": "code",
      "metadata": {
        "id": "RZcWP7SpJ5Q9",
        "outputId": "e608960c-d1c9-4d85-9139-ec3df52ea714",
        "colab": {
          "base_uri": "https://localhost:8080/",
          "height": 173
        }
      },
      "source": [
        "s = users_lvl_2.apply(lambda x: pd.Series(x['candidates']), axis=1).stack().reset_index(level=1, drop=True)\n",
        "s.name = 'item_id'\n",
        "\n",
        "users_lvl_2 = users_lvl_2.drop('candidates', axis=1).join(s)\n",
        "users_lvl_2['drop'] = 1  # фиктивная переменная\n",
        "\n",
        "users_lvl_2.head(4)"
      ],
      "execution_count": 29,
      "outputs": [
        {
          "output_type": "execute_result",
          "data": {
            "text/html": [
              "<div>\n",
              "<style scoped>\n",
              "    .dataframe tbody tr th:only-of-type {\n",
              "        vertical-align: middle;\n",
              "    }\n",
              "\n",
              "    .dataframe tbody tr th {\n",
              "        vertical-align: top;\n",
              "    }\n",
              "\n",
              "    .dataframe thead th {\n",
              "        text-align: right;\n",
              "    }\n",
              "</style>\n",
              "<table border=\"1\" class=\"dataframe\">\n",
              "  <thead>\n",
              "    <tr style=\"text-align: right;\">\n",
              "      <th></th>\n",
              "      <th>user_id</th>\n",
              "      <th>item_id</th>\n",
              "      <th>drop</th>\n",
              "    </tr>\n",
              "  </thead>\n",
              "  <tbody>\n",
              "    <tr>\n",
              "      <th>0</th>\n",
              "      <td>2070</td>\n",
              "      <td>1038217</td>\n",
              "      <td>1</td>\n",
              "    </tr>\n",
              "    <tr>\n",
              "      <th>0</th>\n",
              "      <td>2070</td>\n",
              "      <td>1107553</td>\n",
              "      <td>1</td>\n",
              "    </tr>\n",
              "    <tr>\n",
              "      <th>0</th>\n",
              "      <td>2070</td>\n",
              "      <td>897954</td>\n",
              "      <td>1</td>\n",
              "    </tr>\n",
              "    <tr>\n",
              "      <th>0</th>\n",
              "      <td>2070</td>\n",
              "      <td>965766</td>\n",
              "      <td>1</td>\n",
              "    </tr>\n",
              "  </tbody>\n",
              "</table>\n",
              "</div>"
            ],
            "text/plain": [
              "   user_id  item_id  drop\n",
              "0     2070  1038217     1\n",
              "0     2070  1107553     1\n",
              "0     2070   897954     1\n",
              "0     2070   965766     1"
            ]
          },
          "metadata": {
            "tags": []
          },
          "execution_count": 29
        }
      ]
    },
    {
      "cell_type": "markdown",
      "metadata": {
        "id": "M6RhdkeTiPu9"
      },
      "source": [
        "Добавляем значения целевой переменной"
      ]
    },
    {
      "cell_type": "code",
      "metadata": {
        "id": "580IKWH9cLbf",
        "outputId": "63af80f6-530a-45c2-df71-b391ea5e7506",
        "colab": {
          "base_uri": "https://localhost:8080/",
          "height": 111
        }
      },
      "source": [
        "# Все взаимодействия между пользователем и товаром в data_train_lvl_2 подразумевают, что была совершена покупка\n",
        "targets_lvl_2 = data_train_lvl_2[['user_id', 'item_id']].copy()\n",
        "targets_lvl_2['target'] = 1  # тут только реальные покупки \n",
        "\n",
        "# Соединяем датафрейм (users_lvl_2), содержащий рекомендации модели первого уровня для пользователей из \n",
        "# data_train_lvl_2, с датафреймом (targets_lvl_2), содержащем информацию о реальных покупках пользователей в \n",
        "# data_train_lvl_2 и получаем train_dataset - датафрейм для тренировки LGBM\n",
        "train_dataset = users_lvl_2.merge(targets_lvl_2, on=['user_id', 'item_id'], how='left')\n",
        "\n",
        "train_dataset['target'].fillna(0, inplace= True)\n",
        "train_dataset.drop('drop', axis=1, inplace=True)\n",
        "train_dataset.head(2)"
      ],
      "execution_count": 30,
      "outputs": [
        {
          "output_type": "execute_result",
          "data": {
            "text/html": [
              "<div>\n",
              "<style scoped>\n",
              "    .dataframe tbody tr th:only-of-type {\n",
              "        vertical-align: middle;\n",
              "    }\n",
              "\n",
              "    .dataframe tbody tr th {\n",
              "        vertical-align: top;\n",
              "    }\n",
              "\n",
              "    .dataframe thead th {\n",
              "        text-align: right;\n",
              "    }\n",
              "</style>\n",
              "<table border=\"1\" class=\"dataframe\">\n",
              "  <thead>\n",
              "    <tr style=\"text-align: right;\">\n",
              "      <th></th>\n",
              "      <th>user_id</th>\n",
              "      <th>item_id</th>\n",
              "      <th>target</th>\n",
              "    </tr>\n",
              "  </thead>\n",
              "  <tbody>\n",
              "    <tr>\n",
              "      <th>0</th>\n",
              "      <td>2070</td>\n",
              "      <td>1038217</td>\n",
              "      <td>0.0</td>\n",
              "    </tr>\n",
              "    <tr>\n",
              "      <th>1</th>\n",
              "      <td>2070</td>\n",
              "      <td>1107553</td>\n",
              "      <td>0.0</td>\n",
              "    </tr>\n",
              "  </tbody>\n",
              "</table>\n",
              "</div>"
            ],
            "text/plain": [
              "   user_id  item_id  target\n",
              "0     2070  1038217     0.0\n",
              "1     2070  1107553     0.0"
            ]
          },
          "metadata": {
            "tags": []
          },
          "execution_count": 30
        }
      ]
    },
    {
      "cell_type": "code",
      "metadata": {
        "id": "1UghCuww_Vpg",
        "outputId": "59687433-8955-4313-e01b-fd2d13a5c71c",
        "colab": {
          "base_uri": "https://localhost:8080/",
          "height": 34
        }
      },
      "source": [
        "train_dataset['target'].mean()"
      ],
      "execution_count": 31,
      "outputs": [
        {
          "output_type": "execute_result",
          "data": {
            "text/plain": [
              "0.0524959698102147"
            ]
          },
          "metadata": {
            "tags": []
          },
          "execution_count": 31
        }
      ]
    },
    {
      "cell_type": "markdown",
      "metadata": {
        "id": "rGGIUh3giedT"
      },
      "source": [
        "### 4.2.2 Обзор и обработка признаков пользователей, товаров и взаимодействий"
      ]
    },
    {
      "cell_type": "code",
      "metadata": {
        "id": "sLKUQ_Ivib_b",
        "outputId": "6764850d-92c2-4848-909e-3f5f3af35e7a",
        "colab": {
          "base_uri": "https://localhost:8080/",
          "height": 128
        }
      },
      "source": [
        "item_features.head(2)"
      ],
      "execution_count": 32,
      "outputs": [
        {
          "output_type": "execute_result",
          "data": {
            "text/html": [
              "<div>\n",
              "<style scoped>\n",
              "    .dataframe tbody tr th:only-of-type {\n",
              "        vertical-align: middle;\n",
              "    }\n",
              "\n",
              "    .dataframe tbody tr th {\n",
              "        vertical-align: top;\n",
              "    }\n",
              "\n",
              "    .dataframe thead th {\n",
              "        text-align: right;\n",
              "    }\n",
              "</style>\n",
              "<table border=\"1\" class=\"dataframe\">\n",
              "  <thead>\n",
              "    <tr style=\"text-align: right;\">\n",
              "      <th></th>\n",
              "      <th>item_id</th>\n",
              "      <th>manufacturer</th>\n",
              "      <th>department</th>\n",
              "      <th>brand</th>\n",
              "      <th>commodity_desc</th>\n",
              "      <th>sub_commodity_desc</th>\n",
              "      <th>curr_size_of_product</th>\n",
              "    </tr>\n",
              "  </thead>\n",
              "  <tbody>\n",
              "    <tr>\n",
              "      <th>0</th>\n",
              "      <td>25671</td>\n",
              "      <td>2</td>\n",
              "      <td>GROCERY</td>\n",
              "      <td>National</td>\n",
              "      <td>FRZN ICE</td>\n",
              "      <td>ICE - CRUSHED/CUBED</td>\n",
              "      <td>22 LB</td>\n",
              "    </tr>\n",
              "    <tr>\n",
              "      <th>1</th>\n",
              "      <td>26081</td>\n",
              "      <td>2</td>\n",
              "      <td>MISC. TRANS.</td>\n",
              "      <td>National</td>\n",
              "      <td>NO COMMODITY DESCRIPTION</td>\n",
              "      <td>NO SUBCOMMODITY DESCRIPTION</td>\n",
              "      <td></td>\n",
              "    </tr>\n",
              "  </tbody>\n",
              "</table>\n",
              "</div>"
            ],
            "text/plain": [
              "   item_id  manufacturer  ...           sub_commodity_desc curr_size_of_product\n",
              "0    25671             2  ...          ICE - CRUSHED/CUBED                22 LB\n",
              "1    26081             2  ...  NO SUBCOMMODITY DESCRIPTION                     \n",
              "\n",
              "[2 rows x 7 columns]"
            ]
          },
          "metadata": {
            "tags": []
          },
          "execution_count": 32
        }
      ]
    },
    {
      "cell_type": "code",
      "metadata": {
        "id": "CACMjNymikBm",
        "outputId": "5f0bc1be-db97-478d-8fd4-7c11b155e4a4",
        "colab": {
          "base_uri": "https://localhost:8080/",
          "height": 165
        }
      },
      "source": [
        "user_features.head(2)"
      ],
      "execution_count": 33,
      "outputs": [
        {
          "output_type": "execute_result",
          "data": {
            "text/html": [
              "<div>\n",
              "<style scoped>\n",
              "    .dataframe tbody tr th:only-of-type {\n",
              "        vertical-align: middle;\n",
              "    }\n",
              "\n",
              "    .dataframe tbody tr th {\n",
              "        vertical-align: top;\n",
              "    }\n",
              "\n",
              "    .dataframe thead th {\n",
              "        text-align: right;\n",
              "    }\n",
              "</style>\n",
              "<table border=\"1\" class=\"dataframe\">\n",
              "  <thead>\n",
              "    <tr style=\"text-align: right;\">\n",
              "      <th></th>\n",
              "      <th>age_desc</th>\n",
              "      <th>marital_status_code</th>\n",
              "      <th>income_desc</th>\n",
              "      <th>homeowner_desc</th>\n",
              "      <th>hh_comp_desc</th>\n",
              "      <th>household_size_desc</th>\n",
              "      <th>kid_category_desc</th>\n",
              "      <th>user_id</th>\n",
              "    </tr>\n",
              "  </thead>\n",
              "  <tbody>\n",
              "    <tr>\n",
              "      <th>0</th>\n",
              "      <td>65+</td>\n",
              "      <td>A</td>\n",
              "      <td>35-49K</td>\n",
              "      <td>Homeowner</td>\n",
              "      <td>2 Adults No Kids</td>\n",
              "      <td>2</td>\n",
              "      <td>None/Unknown</td>\n",
              "      <td>1</td>\n",
              "    </tr>\n",
              "    <tr>\n",
              "      <th>1</th>\n",
              "      <td>45-54</td>\n",
              "      <td>A</td>\n",
              "      <td>50-74K</td>\n",
              "      <td>Homeowner</td>\n",
              "      <td>2 Adults No Kids</td>\n",
              "      <td>2</td>\n",
              "      <td>None/Unknown</td>\n",
              "      <td>7</td>\n",
              "    </tr>\n",
              "  </tbody>\n",
              "</table>\n",
              "</div>"
            ],
            "text/plain": [
              "  age_desc marital_status_code  ... kid_category_desc user_id\n",
              "0      65+                   A  ...      None/Unknown       1\n",
              "1    45-54                   A  ...      None/Unknown       7\n",
              "\n",
              "[2 rows x 8 columns]"
            ]
          },
          "metadata": {
            "tags": []
          },
          "execution_count": 33
        }
      ]
    },
    {
      "cell_type": "code",
      "metadata": {
        "id": "E3lCR1Dbil2N"
      },
      "source": [
        "user_features['age_desc'] = \\\n",
        "user_features['age_desc'].map({'65+':65,'45-54':50,'25-34':30,'35-44':40,'19-24':22,'55-64':60})"
      ],
      "execution_count": 34,
      "outputs": []
    },
    {
      "cell_type": "code",
      "metadata": {
        "id": "bSS5jnKxiol_"
      },
      "source": [
        "user_features['income_desc'] = \\\n",
        "user_features['income_desc'].map({'35-49K':42000,'50-74K':62000,'25-34K':30000,'75-99K':87000,\\\n",
        "                                  'Under 15K':15000,'100-124K':112000,'15-24K':20000,'125-149K':137000,\\\n",
        "                                  '150-174K':162000,'250K+':250000,'175-199K':187000,'200-249K':225000})"
      ],
      "execution_count": 35,
      "outputs": []
    },
    {
      "cell_type": "code",
      "metadata": {
        "id": "cieJ-6aViqDn"
      },
      "source": [
        "user_features['household_size_desc'] = \\\n",
        "user_features['household_size_desc'].map({'2':2,'3':3,'4':4,'1':1,'5+':6})"
      ],
      "execution_count": 36,
      "outputs": []
    },
    {
      "cell_type": "markdown",
      "metadata": {
        "id": "g4HKUm4jiwXn"
      },
      "source": [
        "### 4.2.3 FEATURE ENGINEERING"
      ]
    },
    {
      "cell_type": "markdown",
      "metadata": {
        "id": "e6giZdlli1jn"
      },
      "source": [
        "Величина среднего чека для каждого пользователя"
      ]
    },
    {
      "cell_type": "code",
      "metadata": {
        "id": "NP0Hzu8di-ug",
        "outputId": "ffa44071-8c2b-4064-a7b5-ce2d8fc70efc",
        "colab": {
          "base_uri": "https://localhost:8080/",
          "height": 142
        }
      },
      "source": [
        "mean_check = data_train_lvl_2.groupby(['user_id', 'basket_id'])['sales_value'].sum().reset_index()\n",
        "mean_check = mean_check.groupby('user_id')['sales_value'].mean().reset_index()\n",
        "mean_check.rename(columns = {'sales_value': 'mean_check'}, inplace=True)\n",
        "mean_check.head(3)"
      ],
      "execution_count": 37,
      "outputs": [
        {
          "output_type": "execute_result",
          "data": {
            "text/html": [
              "<div>\n",
              "<style scoped>\n",
              "    .dataframe tbody tr th:only-of-type {\n",
              "        vertical-align: middle;\n",
              "    }\n",
              "\n",
              "    .dataframe tbody tr th {\n",
              "        vertical-align: top;\n",
              "    }\n",
              "\n",
              "    .dataframe thead th {\n",
              "        text-align: right;\n",
              "    }\n",
              "</style>\n",
              "<table border=\"1\" class=\"dataframe\">\n",
              "  <thead>\n",
              "    <tr style=\"text-align: right;\">\n",
              "      <th></th>\n",
              "      <th>user_id</th>\n",
              "      <th>mean_check</th>\n",
              "    </tr>\n",
              "  </thead>\n",
              "  <tbody>\n",
              "    <tr>\n",
              "      <th>0</th>\n",
              "      <td>1</td>\n",
              "      <td>48.825714</td>\n",
              "    </tr>\n",
              "    <tr>\n",
              "      <th>1</th>\n",
              "      <td>2</td>\n",
              "      <td>47.572500</td>\n",
              "    </tr>\n",
              "    <tr>\n",
              "      <th>2</th>\n",
              "      <td>4</td>\n",
              "      <td>39.796667</td>\n",
              "    </tr>\n",
              "  </tbody>\n",
              "</table>\n",
              "</div>"
            ],
            "text/plain": [
              "   user_id  mean_check\n",
              "0        1   48.825714\n",
              "1        2   47.572500\n",
              "2        4   39.796667"
            ]
          },
          "metadata": {
            "tags": []
          },
          "execution_count": 37
        }
      ]
    },
    {
      "cell_type": "markdown",
      "metadata": {
        "id": "azIbBPWqjOEo"
      },
      "source": [
        "Средняя стоимость каждого товара"
      ]
    },
    {
      "cell_type": "code",
      "metadata": {
        "id": "MCJ44epIjJgP",
        "outputId": "a22b576c-4dc7-4ca4-f7e1-3576d679ee44",
        "colab": {
          "base_uri": "https://localhost:8080/",
          "height": 131
        }
      },
      "source": [
        "tmp = data_train_lvl_2.copy()\n",
        "tmp.head(2)"
      ],
      "execution_count": 38,
      "outputs": [
        {
          "output_type": "execute_result",
          "data": {
            "text/html": [
              "<div>\n",
              "<style scoped>\n",
              "    .dataframe tbody tr th:only-of-type {\n",
              "        vertical-align: middle;\n",
              "    }\n",
              "\n",
              "    .dataframe tbody tr th {\n",
              "        vertical-align: top;\n",
              "    }\n",
              "\n",
              "    .dataframe thead th {\n",
              "        text-align: right;\n",
              "    }\n",
              "</style>\n",
              "<table border=\"1\" class=\"dataframe\">\n",
              "  <thead>\n",
              "    <tr style=\"text-align: right;\">\n",
              "      <th></th>\n",
              "      <th>user_id</th>\n",
              "      <th>basket_id</th>\n",
              "      <th>day</th>\n",
              "      <th>item_id</th>\n",
              "      <th>quantity</th>\n",
              "      <th>sales_value</th>\n",
              "      <th>store_id</th>\n",
              "      <th>retail_disc</th>\n",
              "      <th>trans_time</th>\n",
              "      <th>week_no</th>\n",
              "      <th>coupon_disc</th>\n",
              "      <th>coupon_match_disc</th>\n",
              "    </tr>\n",
              "  </thead>\n",
              "  <tbody>\n",
              "    <tr>\n",
              "      <th>2104867</th>\n",
              "      <td>2070</td>\n",
              "      <td>40618492260</td>\n",
              "      <td>594</td>\n",
              "      <td>1019940</td>\n",
              "      <td>1</td>\n",
              "      <td>1.00</td>\n",
              "      <td>311</td>\n",
              "      <td>-0.29</td>\n",
              "      <td>40</td>\n",
              "      <td>86</td>\n",
              "      <td>0.0</td>\n",
              "      <td>0.0</td>\n",
              "    </tr>\n",
              "    <tr>\n",
              "      <th>2107468</th>\n",
              "      <td>2021</td>\n",
              "      <td>40618753059</td>\n",
              "      <td>594</td>\n",
              "      <td>840361</td>\n",
              "      <td>1</td>\n",
              "      <td>0.99</td>\n",
              "      <td>443</td>\n",
              "      <td>0.00</td>\n",
              "      <td>101</td>\n",
              "      <td>86</td>\n",
              "      <td>0.0</td>\n",
              "      <td>0.0</td>\n",
              "    </tr>\n",
              "  </tbody>\n",
              "</table>\n",
              "</div>"
            ],
            "text/plain": [
              "         user_id    basket_id  day  ...  week_no  coupon_disc  coupon_match_disc\n",
              "2104867     2070  40618492260  594  ...       86          0.0                0.0\n",
              "2107468     2021  40618753059  594  ...       86          0.0                0.0\n",
              "\n",
              "[2 rows x 12 columns]"
            ]
          },
          "metadata": {
            "tags": []
          },
          "execution_count": 38
        }
      ]
    },
    {
      "cell_type": "code",
      "metadata": {
        "id": "soYelFWtjUs7",
        "outputId": "75e098fc-0873-4397-e295-6cb6842a25ab",
        "colab": {
          "base_uri": "https://localhost:8080/",
          "height": 142
        }
      },
      "source": [
        "tmp = tmp.merge(item_features, on='item_id', how='left')\n",
        "mprice_item_id = tmp.groupby(['item_id']).agg({'sales_value':'sum','quantity':'sum'}).reset_index()\n",
        "mprice_item_id['mprice_item_id'] = mprice_item_id['sales_value']/mprice_item_id['quantity']\n",
        "mprice_item_id['mprice_item_id'] = mprice_item_id['mprice_item_id'].fillna(0)\n",
        "mprice_item_id.drop(columns = ['sales_value', 'quantity'], inplace=True)\n",
        "mprice_item_id.head(3)"
      ],
      "execution_count": 39,
      "outputs": [
        {
          "output_type": "execute_result",
          "data": {
            "text/html": [
              "<div>\n",
              "<style scoped>\n",
              "    .dataframe tbody tr th:only-of-type {\n",
              "        vertical-align: middle;\n",
              "    }\n",
              "\n",
              "    .dataframe tbody tr th {\n",
              "        vertical-align: top;\n",
              "    }\n",
              "\n",
              "    .dataframe thead th {\n",
              "        text-align: right;\n",
              "    }\n",
              "</style>\n",
              "<table border=\"1\" class=\"dataframe\">\n",
              "  <thead>\n",
              "    <tr style=\"text-align: right;\">\n",
              "      <th></th>\n",
              "      <th>item_id</th>\n",
              "      <th>mprice_item_id</th>\n",
              "    </tr>\n",
              "  </thead>\n",
              "  <tbody>\n",
              "    <tr>\n",
              "      <th>0</th>\n",
              "      <td>28116</td>\n",
              "      <td>0.33</td>\n",
              "    </tr>\n",
              "    <tr>\n",
              "      <th>1</th>\n",
              "      <td>28117</td>\n",
              "      <td>0.34</td>\n",
              "    </tr>\n",
              "    <tr>\n",
              "      <th>2</th>\n",
              "      <td>28143</td>\n",
              "      <td>0.33</td>\n",
              "    </tr>\n",
              "  </tbody>\n",
              "</table>\n",
              "</div>"
            ],
            "text/plain": [
              "   item_id  mprice_item_id\n",
              "0    28116            0.33\n",
              "1    28117            0.34\n",
              "2    28143            0.33"
            ]
          },
          "metadata": {
            "tags": []
          },
          "execution_count": 39
        }
      ]
    },
    {
      "cell_type": "code",
      "metadata": {
        "id": "RCmpvo3fYblc",
        "outputId": "239747d9-2314-4909-9bba-9ac6147728a8",
        "colab": {
          "base_uri": "https://localhost:8080/",
          "height": 213
        }
      },
      "source": [
        "# Добавим msv_item_id в tmp для дальнейших вычислений\n",
        "tmp = tmp.merge(mprice_item_id, on='item_id', how='left')\n",
        "tmp.head(3)"
      ],
      "execution_count": 40,
      "outputs": [
        {
          "output_type": "execute_result",
          "data": {
            "text/html": [
              "<div>\n",
              "<style scoped>\n",
              "    .dataframe tbody tr th:only-of-type {\n",
              "        vertical-align: middle;\n",
              "    }\n",
              "\n",
              "    .dataframe tbody tr th {\n",
              "        vertical-align: top;\n",
              "    }\n",
              "\n",
              "    .dataframe thead th {\n",
              "        text-align: right;\n",
              "    }\n",
              "</style>\n",
              "<table border=\"1\" class=\"dataframe\">\n",
              "  <thead>\n",
              "    <tr style=\"text-align: right;\">\n",
              "      <th></th>\n",
              "      <th>user_id</th>\n",
              "      <th>basket_id</th>\n",
              "      <th>day</th>\n",
              "      <th>item_id</th>\n",
              "      <th>quantity</th>\n",
              "      <th>sales_value</th>\n",
              "      <th>store_id</th>\n",
              "      <th>retail_disc</th>\n",
              "      <th>trans_time</th>\n",
              "      <th>week_no</th>\n",
              "      <th>coupon_disc</th>\n",
              "      <th>coupon_match_disc</th>\n",
              "      <th>manufacturer</th>\n",
              "      <th>department</th>\n",
              "      <th>brand</th>\n",
              "      <th>commodity_desc</th>\n",
              "      <th>sub_commodity_desc</th>\n",
              "      <th>curr_size_of_product</th>\n",
              "      <th>mprice_item_id</th>\n",
              "    </tr>\n",
              "  </thead>\n",
              "  <tbody>\n",
              "    <tr>\n",
              "      <th>0</th>\n",
              "      <td>2070</td>\n",
              "      <td>40618492260</td>\n",
              "      <td>594</td>\n",
              "      <td>1019940</td>\n",
              "      <td>1</td>\n",
              "      <td>1.00</td>\n",
              "      <td>311</td>\n",
              "      <td>-0.29</td>\n",
              "      <td>40</td>\n",
              "      <td>86</td>\n",
              "      <td>0.0</td>\n",
              "      <td>0.0</td>\n",
              "      <td>1232</td>\n",
              "      <td>GROCERY</td>\n",
              "      <td>National</td>\n",
              "      <td>SOFT DRINKS</td>\n",
              "      <td>SOFT DRINK BOTTLE NON-CARB (EX</td>\n",
              "      <td>20 OZ</td>\n",
              "      <td>1.000000</td>\n",
              "    </tr>\n",
              "    <tr>\n",
              "      <th>1</th>\n",
              "      <td>2021</td>\n",
              "      <td>40618753059</td>\n",
              "      <td>594</td>\n",
              "      <td>840361</td>\n",
              "      <td>1</td>\n",
              "      <td>0.99</td>\n",
              "      <td>443</td>\n",
              "      <td>0.00</td>\n",
              "      <td>101</td>\n",
              "      <td>86</td>\n",
              "      <td>0.0</td>\n",
              "      <td>0.0</td>\n",
              "      <td>69</td>\n",
              "      <td>GROCERY</td>\n",
              "      <td>Private</td>\n",
              "      <td>EGGS</td>\n",
              "      <td>EGGS - LARGE</td>\n",
              "      <td>1 DZ</td>\n",
              "      <td>1.004068</td>\n",
              "    </tr>\n",
              "    <tr>\n",
              "      <th>2</th>\n",
              "      <td>2021</td>\n",
              "      <td>40618753059</td>\n",
              "      <td>594</td>\n",
              "      <td>856060</td>\n",
              "      <td>1</td>\n",
              "      <td>1.77</td>\n",
              "      <td>443</td>\n",
              "      <td>-0.09</td>\n",
              "      <td>101</td>\n",
              "      <td>86</td>\n",
              "      <td>0.0</td>\n",
              "      <td>0.0</td>\n",
              "      <td>170</td>\n",
              "      <td>GROCERY</td>\n",
              "      <td>National</td>\n",
              "      <td>CANNED JUICES</td>\n",
              "      <td>FRUIT DRINKS: CANNED &amp; GLASS (</td>\n",
              "      <td>128 OZ</td>\n",
              "      <td>1.855846</td>\n",
              "    </tr>\n",
              "  </tbody>\n",
              "</table>\n",
              "</div>"
            ],
            "text/plain": [
              "   user_id    basket_id  ...  curr_size_of_product  mprice_item_id\n",
              "0     2070  40618492260  ...                 20 OZ        1.000000\n",
              "1     2021  40618753059  ...                  1 DZ        1.004068\n",
              "2     2021  40618753059  ...                128 OZ        1.855846\n",
              "\n",
              "[3 rows x 19 columns]"
            ]
          },
          "metadata": {
            "tags": []
          },
          "execution_count": 40
        }
      ]
    },
    {
      "cell_type": "markdown",
      "metadata": {
        "id": "kW_p3vQVjdVa"
      },
      "source": [
        "Средняя стоимость товаров из department, которые купил пользователь"
      ]
    },
    {
      "cell_type": "code",
      "metadata": {
        "id": "3-51hdgjjawj",
        "outputId": "b9c8882e-ffac-4a94-db89-f4e23baf975f",
        "colab": {
          "base_uri": "https://localhost:8080/",
          "height": 142
        }
      },
      "source": [
        "mprice_department = tmp.groupby(['user_id','department'])['mprice_item_id'].mean().reset_index()\n",
        "mprice_department.rename(columns = {'mprice_item_id': 'mprice_department'}, inplace=True)\n",
        "mprice_department.head(3)"
      ],
      "execution_count": 41,
      "outputs": [
        {
          "output_type": "execute_result",
          "data": {
            "text/html": [
              "<div>\n",
              "<style scoped>\n",
              "    .dataframe tbody tr th:only-of-type {\n",
              "        vertical-align: middle;\n",
              "    }\n",
              "\n",
              "    .dataframe tbody tr th {\n",
              "        vertical-align: top;\n",
              "    }\n",
              "\n",
              "    .dataframe thead th {\n",
              "        text-align: right;\n",
              "    }\n",
              "</style>\n",
              "<table border=\"1\" class=\"dataframe\">\n",
              "  <thead>\n",
              "    <tr style=\"text-align: right;\">\n",
              "      <th></th>\n",
              "      <th>user_id</th>\n",
              "      <th>department</th>\n",
              "      <th>mprice_department</th>\n",
              "    </tr>\n",
              "  </thead>\n",
              "  <tbody>\n",
              "    <tr>\n",
              "      <th>0</th>\n",
              "      <td>1</td>\n",
              "      <td></td>\n",
              "      <td>0.000000</td>\n",
              "    </tr>\n",
              "    <tr>\n",
              "      <th>1</th>\n",
              "      <td>1</td>\n",
              "      <td>DELI</td>\n",
              "      <td>3.605125</td>\n",
              "    </tr>\n",
              "    <tr>\n",
              "      <th>2</th>\n",
              "      <td>1</td>\n",
              "      <td>DRUG GM</td>\n",
              "      <td>4.371673</td>\n",
              "    </tr>\n",
              "  </tbody>\n",
              "</table>\n",
              "</div>"
            ],
            "text/plain": [
              "   user_id department  mprice_department\n",
              "0        1                      0.000000\n",
              "1        1       DELI           3.605125\n",
              "2        1    DRUG GM           4.371673"
            ]
          },
          "metadata": {
            "tags": []
          },
          "execution_count": 41
        }
      ]
    },
    {
      "cell_type": "markdown",
      "metadata": {
        "id": "onWRmYsEjlMh"
      },
      "source": [
        "Средняя стоимость товаров из commodity_desc, которые купил пользователь"
      ]
    },
    {
      "cell_type": "code",
      "metadata": {
        "id": "yUnrCdmnjit8",
        "outputId": "f1a4b437-c764-4d06-9eda-a3a51051e93e",
        "colab": {
          "base_uri": "https://localhost:8080/",
          "height": 142
        }
      },
      "source": [
        "mprice_com_des = tmp.groupby(['user_id','commodity_desc'])['mprice_item_id'].mean().reset_index()\n",
        "mprice_com_des.rename(columns = {'mprice_item_id': 'mprice_com_des'}, inplace=True)\n",
        "mprice_com_des.head(3)"
      ],
      "execution_count": 42,
      "outputs": [
        {
          "output_type": "execute_result",
          "data": {
            "text/html": [
              "<div>\n",
              "<style scoped>\n",
              "    .dataframe tbody tr th:only-of-type {\n",
              "        vertical-align: middle;\n",
              "    }\n",
              "\n",
              "    .dataframe tbody tr th {\n",
              "        vertical-align: top;\n",
              "    }\n",
              "\n",
              "    .dataframe thead th {\n",
              "        text-align: right;\n",
              "    }\n",
              "</style>\n",
              "<table border=\"1\" class=\"dataframe\">\n",
              "  <thead>\n",
              "    <tr style=\"text-align: right;\">\n",
              "      <th></th>\n",
              "      <th>user_id</th>\n",
              "      <th>commodity_desc</th>\n",
              "      <th>mprice_com_des</th>\n",
              "    </tr>\n",
              "  </thead>\n",
              "  <tbody>\n",
              "    <tr>\n",
              "      <th>0</th>\n",
              "      <td>1</td>\n",
              "      <td></td>\n",
              "      <td>0.000000</td>\n",
              "    </tr>\n",
              "    <tr>\n",
              "      <th>1</th>\n",
              "      <td>1</td>\n",
              "      <td>AIR CARE</td>\n",
              "      <td>2.500000</td>\n",
              "    </tr>\n",
              "    <tr>\n",
              "      <th>2</th>\n",
              "      <td>1</td>\n",
              "      <td>APPLES</td>\n",
              "      <td>2.608799</td>\n",
              "    </tr>\n",
              "  </tbody>\n",
              "</table>\n",
              "</div>"
            ],
            "text/plain": [
              "   user_id commodity_desc  mprice_com_des\n",
              "0        1                       0.000000\n",
              "1        1       AIR CARE        2.500000\n",
              "2        1         APPLES        2.608799"
            ]
          },
          "metadata": {
            "tags": []
          },
          "execution_count": 42
        }
      ]
    },
    {
      "cell_type": "markdown",
      "metadata": {
        "id": "amDopgPEjsL3"
      },
      "source": [
        "Средняя стоимость товаров из sub_commodity_desc, которые купил пользователь"
      ]
    },
    {
      "cell_type": "code",
      "metadata": {
        "id": "SMQnQGMCjqM3",
        "outputId": "b543254c-a1ba-4a1f-aee1-62da8fc6f44d",
        "colab": {
          "base_uri": "https://localhost:8080/",
          "height": 142
        }
      },
      "source": [
        "mprice_sub_com_des = tmp.groupby(['user_id','sub_commodity_desc'])['mprice_item_id'].mean().reset_index()\n",
        "mprice_sub_com_des.rename(columns = {'mprice_item_id': 'mprice_sub_com_des'}, inplace=True)\n",
        "mprice_sub_com_des.head(3)"
      ],
      "execution_count": 43,
      "outputs": [
        {
          "output_type": "execute_result",
          "data": {
            "text/html": [
              "<div>\n",
              "<style scoped>\n",
              "    .dataframe tbody tr th:only-of-type {\n",
              "        vertical-align: middle;\n",
              "    }\n",
              "\n",
              "    .dataframe tbody tr th {\n",
              "        vertical-align: top;\n",
              "    }\n",
              "\n",
              "    .dataframe thead th {\n",
              "        text-align: right;\n",
              "    }\n",
              "</style>\n",
              "<table border=\"1\" class=\"dataframe\">\n",
              "  <thead>\n",
              "    <tr style=\"text-align: right;\">\n",
              "      <th></th>\n",
              "      <th>user_id</th>\n",
              "      <th>sub_commodity_desc</th>\n",
              "      <th>mprice_sub_com_des</th>\n",
              "    </tr>\n",
              "  </thead>\n",
              "  <tbody>\n",
              "    <tr>\n",
              "      <th>0</th>\n",
              "      <td>1</td>\n",
              "      <td></td>\n",
              "      <td>0.000000</td>\n",
              "    </tr>\n",
              "    <tr>\n",
              "      <th>1</th>\n",
              "      <td>1</td>\n",
              "      <td>AEROSOL TOPPINGS</td>\n",
              "      <td>1.980408</td>\n",
              "    </tr>\n",
              "    <tr>\n",
              "      <th>2</th>\n",
              "      <td>1</td>\n",
              "      <td>AIR CARE - CANDLES</td>\n",
              "      <td>2.500000</td>\n",
              "    </tr>\n",
              "  </tbody>\n",
              "</table>\n",
              "</div>"
            ],
            "text/plain": [
              "   user_id  sub_commodity_desc  mprice_sub_com_des\n",
              "0        1                                0.000000\n",
              "1        1    AEROSOL TOPPINGS            1.980408\n",
              "2        1  AIR CARE - CANDLES            2.500000"
            ]
          },
          "metadata": {
            "tags": []
          },
          "execution_count": 43
        }
      ]
    },
    {
      "cell_type": "markdown",
      "metadata": {
        "id": "Fj6iAFAGj0PU"
      },
      "source": [
        "Сколько раз данный пользователь купил данный товар за всю историю"
      ]
    },
    {
      "cell_type": "code",
      "metadata": {
        "id": "on0KsnqOjx3t",
        "outputId": "a331cd78-5248-49b5-8acb-c26cb222f992",
        "colab": {
          "base_uri": "https://localhost:8080/",
          "height": 142
        }
      },
      "source": [
        "total_quantity = tmp.groupby(['user_id','item_id'])['quantity'].sum().reset_index()\n",
        "total_quantity.rename(columns = {'quantity': 'total_quantity'}, inplace=True)\n",
        "total_quantity.head(3)"
      ],
      "execution_count": 44,
      "outputs": [
        {
          "output_type": "execute_result",
          "data": {
            "text/html": [
              "<div>\n",
              "<style scoped>\n",
              "    .dataframe tbody tr th:only-of-type {\n",
              "        vertical-align: middle;\n",
              "    }\n",
              "\n",
              "    .dataframe tbody tr th {\n",
              "        vertical-align: top;\n",
              "    }\n",
              "\n",
              "    .dataframe thead th {\n",
              "        text-align: right;\n",
              "    }\n",
              "</style>\n",
              "<table border=\"1\" class=\"dataframe\">\n",
              "  <thead>\n",
              "    <tr style=\"text-align: right;\">\n",
              "      <th></th>\n",
              "      <th>user_id</th>\n",
              "      <th>item_id</th>\n",
              "      <th>total_quantity</th>\n",
              "    </tr>\n",
              "  </thead>\n",
              "  <tbody>\n",
              "    <tr>\n",
              "      <th>0</th>\n",
              "      <td>1</td>\n",
              "      <td>820165</td>\n",
              "      <td>4</td>\n",
              "    </tr>\n",
              "    <tr>\n",
              "      <th>1</th>\n",
              "      <td>1</td>\n",
              "      <td>829323</td>\n",
              "      <td>1</td>\n",
              "    </tr>\n",
              "    <tr>\n",
              "      <th>2</th>\n",
              "      <td>1</td>\n",
              "      <td>829563</td>\n",
              "      <td>1</td>\n",
              "    </tr>\n",
              "  </tbody>\n",
              "</table>\n",
              "</div>"
            ],
            "text/plain": [
              "   user_id  item_id  total_quantity\n",
              "0        1   820165               4\n",
              "1        1   829323               1\n",
              "2        1   829563               1"
            ]
          },
          "metadata": {
            "tags": []
          },
          "execution_count": 44
        }
      ]
    },
    {
      "cell_type": "markdown",
      "metadata": {
        "id": "gqSk1wthj9xp"
      },
      "source": [
        "Сколько денег данный пользователь потратил на данный товар за всю историю"
      ]
    },
    {
      "cell_type": "code",
      "metadata": {
        "id": "VVxjmSYZj7YL",
        "outputId": "2e6babb8-744e-4867-e2ea-0af6bb0fbc74",
        "colab": {
          "base_uri": "https://localhost:8080/",
          "height": 142
        }
      },
      "source": [
        "total_sales_value = tmp.groupby(['user_id','item_id'])['sales_value'].sum().reset_index()\n",
        "total_sales_value.rename(columns = {'sales_value': 'total_sales_value'}, inplace=True)\n",
        "total_sales_value.head(3)"
      ],
      "execution_count": 45,
      "outputs": [
        {
          "output_type": "execute_result",
          "data": {
            "text/html": [
              "<div>\n",
              "<style scoped>\n",
              "    .dataframe tbody tr th:only-of-type {\n",
              "        vertical-align: middle;\n",
              "    }\n",
              "\n",
              "    .dataframe tbody tr th {\n",
              "        vertical-align: top;\n",
              "    }\n",
              "\n",
              "    .dataframe thead th {\n",
              "        text-align: right;\n",
              "    }\n",
              "</style>\n",
              "<table border=\"1\" class=\"dataframe\">\n",
              "  <thead>\n",
              "    <tr style=\"text-align: right;\">\n",
              "      <th></th>\n",
              "      <th>user_id</th>\n",
              "      <th>item_id</th>\n",
              "      <th>total_sales_value</th>\n",
              "    </tr>\n",
              "  </thead>\n",
              "  <tbody>\n",
              "    <tr>\n",
              "      <th>0</th>\n",
              "      <td>1</td>\n",
              "      <td>820165</td>\n",
              "      <td>2.00</td>\n",
              "    </tr>\n",
              "    <tr>\n",
              "      <th>1</th>\n",
              "      <td>1</td>\n",
              "      <td>829323</td>\n",
              "      <td>1.53</td>\n",
              "    </tr>\n",
              "    <tr>\n",
              "      <th>2</th>\n",
              "      <td>1</td>\n",
              "      <td>829563</td>\n",
              "      <td>1.88</td>\n",
              "    </tr>\n",
              "  </tbody>\n",
              "</table>\n",
              "</div>"
            ],
            "text/plain": [
              "   user_id  item_id  total_sales_value\n",
              "0        1   820165               2.00\n",
              "1        1   829323               1.53\n",
              "2        1   829563               1.88"
            ]
          },
          "metadata": {
            "tags": []
          },
          "execution_count": 45
        }
      ]
    },
    {
      "cell_type": "markdown",
      "metadata": {
        "id": "PL5nLrmpVS6y"
      },
      "source": [
        "Сколько денег данный пользователь потратил на данный товар за всю историю с учетом времени"
      ]
    },
    {
      "cell_type": "code",
      "metadata": {
        "id": "vUvIu1R9XbLI",
        "outputId": "a619a81f-1ace-4e90-e9d0-0c502bd02f0d",
        "colab": {
          "base_uri": "https://localhost:8080/",
          "height": 142
        }
      },
      "source": [
        "T = 1\n",
        "tmp['sales_value(t)'] = (np.exp((-tmp['week_no'].max() + tmp['week_no'])/T))*tmp['sales_value']\n",
        "total_sales_value_t = tmp.groupby(['user_id','item_id'])['sales_value(t)'].sum().reset_index()\n",
        "total_sales_value_t.rename(columns = {'sales_value(t)': 'total_sales_value_t'}, inplace=True)\n",
        "total_sales_value_t.head(3)"
      ],
      "execution_count": 46,
      "outputs": [
        {
          "output_type": "execute_result",
          "data": {
            "text/html": [
              "<div>\n",
              "<style scoped>\n",
              "    .dataframe tbody tr th:only-of-type {\n",
              "        vertical-align: middle;\n",
              "    }\n",
              "\n",
              "    .dataframe tbody tr th {\n",
              "        vertical-align: top;\n",
              "    }\n",
              "\n",
              "    .dataframe thead th {\n",
              "        text-align: right;\n",
              "    }\n",
              "</style>\n",
              "<table border=\"1\" class=\"dataframe\">\n",
              "  <thead>\n",
              "    <tr style=\"text-align: right;\">\n",
              "      <th></th>\n",
              "      <th>user_id</th>\n",
              "      <th>item_id</th>\n",
              "      <th>total_sales_value_t</th>\n",
              "    </tr>\n",
              "  </thead>\n",
              "  <tbody>\n",
              "    <tr>\n",
              "      <th>0</th>\n",
              "      <td>1</td>\n",
              "      <td>820165</td>\n",
              "      <td>0.099574</td>\n",
              "    </tr>\n",
              "    <tr>\n",
              "      <th>1</th>\n",
              "      <td>1</td>\n",
              "      <td>829323</td>\n",
              "      <td>0.207063</td>\n",
              "    </tr>\n",
              "    <tr>\n",
              "      <th>2</th>\n",
              "      <td>1</td>\n",
              "      <td>829563</td>\n",
              "      <td>1.880000</td>\n",
              "    </tr>\n",
              "  </tbody>\n",
              "</table>\n",
              "</div>"
            ],
            "text/plain": [
              "   user_id  item_id  total_sales_value_t\n",
              "0        1   820165             0.099574\n",
              "1        1   829323             0.207063\n",
              "2        1   829563             1.880000"
            ]
          },
          "metadata": {
            "tags": []
          },
          "execution_count": 46
        }
      ]
    },
    {
      "cell_type": "markdown",
      "metadata": {
        "id": "0EtVd5WKkFAH"
      },
      "source": [
        "Сколько денег данный пользователь потратил на товары из department за всю историю"
      ]
    },
    {
      "cell_type": "code",
      "metadata": {
        "id": "ajlZf6c6kC-F",
        "outputId": "85fa66c1-537e-4983-b2fe-7ccb410c809e",
        "colab": {
          "base_uri": "https://localhost:8080/",
          "height": 142
        }
      },
      "source": [
        "total_money_depart = tmp.groupby(['user_id','department'])['sales_value'].sum().reset_index()\n",
        "total_money_depart.rename(columns = {'sales_value': 'total_money_depart'}, inplace=True)\n",
        "total_money_depart.head(3)"
      ],
      "execution_count": 47,
      "outputs": [
        {
          "output_type": "execute_result",
          "data": {
            "text/html": [
              "<div>\n",
              "<style scoped>\n",
              "    .dataframe tbody tr th:only-of-type {\n",
              "        vertical-align: middle;\n",
              "    }\n",
              "\n",
              "    .dataframe tbody tr th {\n",
              "        vertical-align: top;\n",
              "    }\n",
              "\n",
              "    .dataframe thead th {\n",
              "        text-align: right;\n",
              "    }\n",
              "</style>\n",
              "<table border=\"1\" class=\"dataframe\">\n",
              "  <thead>\n",
              "    <tr style=\"text-align: right;\">\n",
              "      <th></th>\n",
              "      <th>user_id</th>\n",
              "      <th>department</th>\n",
              "      <th>total_money_depart</th>\n",
              "    </tr>\n",
              "  </thead>\n",
              "  <tbody>\n",
              "    <tr>\n",
              "      <th>0</th>\n",
              "      <td>1</td>\n",
              "      <td></td>\n",
              "      <td>0.00</td>\n",
              "    </tr>\n",
              "    <tr>\n",
              "      <th>1</th>\n",
              "      <td>1</td>\n",
              "      <td>DELI</td>\n",
              "      <td>9.75</td>\n",
              "    </tr>\n",
              "    <tr>\n",
              "      <th>2</th>\n",
              "      <td>1</td>\n",
              "      <td>DRUG GM</td>\n",
              "      <td>53.87</td>\n",
              "    </tr>\n",
              "  </tbody>\n",
              "</table>\n",
              "</div>"
            ],
            "text/plain": [
              "   user_id department  total_money_depart\n",
              "0        1                           0.00\n",
              "1        1       DELI                9.75\n",
              "2        1    DRUG GM               53.87"
            ]
          },
          "metadata": {
            "tags": []
          },
          "execution_count": 47
        }
      ]
    },
    {
      "cell_type": "markdown",
      "metadata": {
        "id": "9kTSbSpIkIiw"
      },
      "source": [
        "Сколько денег данный пользователь потратил на товары из commodity_desc за всю историю"
      ]
    },
    {
      "cell_type": "code",
      "metadata": {
        "id": "mYNi9eYVkHmX",
        "outputId": "27fe4b43-e149-4774-c7e7-bc6e92cddb09",
        "colab": {
          "base_uri": "https://localhost:8080/",
          "height": 142
        }
      },
      "source": [
        "total_money_com_desc = tmp.groupby(['user_id','commodity_desc'])['sales_value'].sum().reset_index()\n",
        "total_money_com_desc.rename(columns = {'sales_value': 'total_money_com_desc'}, inplace=True)\n",
        "total_money_com_desc.head(3)"
      ],
      "execution_count": 48,
      "outputs": [
        {
          "output_type": "execute_result",
          "data": {
            "text/html": [
              "<div>\n",
              "<style scoped>\n",
              "    .dataframe tbody tr th:only-of-type {\n",
              "        vertical-align: middle;\n",
              "    }\n",
              "\n",
              "    .dataframe tbody tr th {\n",
              "        vertical-align: top;\n",
              "    }\n",
              "\n",
              "    .dataframe thead th {\n",
              "        text-align: right;\n",
              "    }\n",
              "</style>\n",
              "<table border=\"1\" class=\"dataframe\">\n",
              "  <thead>\n",
              "    <tr style=\"text-align: right;\">\n",
              "      <th></th>\n",
              "      <th>user_id</th>\n",
              "      <th>commodity_desc</th>\n",
              "      <th>total_money_com_desc</th>\n",
              "    </tr>\n",
              "  </thead>\n",
              "  <tbody>\n",
              "    <tr>\n",
              "      <th>0</th>\n",
              "      <td>1</td>\n",
              "      <td></td>\n",
              "      <td>0.00</td>\n",
              "    </tr>\n",
              "    <tr>\n",
              "      <th>1</th>\n",
              "      <td>1</td>\n",
              "      <td>AIR CARE</td>\n",
              "      <td>10.00</td>\n",
              "    </tr>\n",
              "    <tr>\n",
              "      <th>2</th>\n",
              "      <td>1</td>\n",
              "      <td>APPLES</td>\n",
              "      <td>3.15</td>\n",
              "    </tr>\n",
              "  </tbody>\n",
              "</table>\n",
              "</div>"
            ],
            "text/plain": [
              "   user_id commodity_desc  total_money_com_desc\n",
              "0        1                                 0.00\n",
              "1        1       AIR CARE                 10.00\n",
              "2        1         APPLES                  3.15"
            ]
          },
          "metadata": {
            "tags": []
          },
          "execution_count": 48
        }
      ]
    },
    {
      "cell_type": "markdown",
      "metadata": {
        "id": "l14_cf1EkOkj"
      },
      "source": [
        "Сколько денег данный пользователь потратил на товары из sub_commodity_desc за всю историю"
      ]
    },
    {
      "cell_type": "code",
      "metadata": {
        "id": "Q4t0gcsUkMQ0",
        "outputId": "8093404e-2212-49da-f0b2-97370bb33df7",
        "colab": {
          "base_uri": "https://localhost:8080/",
          "height": 142
        }
      },
      "source": [
        "total_money_sub_com_desc = tmp.groupby(['user_id','sub_commodity_desc'])['sales_value'].sum().reset_index()\n",
        "total_money_sub_com_desc.rename(columns = {'sales_value': 'total_money_sub_com_desc'}, inplace=True)\n",
        "total_money_sub_com_desc.head(3)"
      ],
      "execution_count": 49,
      "outputs": [
        {
          "output_type": "execute_result",
          "data": {
            "text/html": [
              "<div>\n",
              "<style scoped>\n",
              "    .dataframe tbody tr th:only-of-type {\n",
              "        vertical-align: middle;\n",
              "    }\n",
              "\n",
              "    .dataframe tbody tr th {\n",
              "        vertical-align: top;\n",
              "    }\n",
              "\n",
              "    .dataframe thead th {\n",
              "        text-align: right;\n",
              "    }\n",
              "</style>\n",
              "<table border=\"1\" class=\"dataframe\">\n",
              "  <thead>\n",
              "    <tr style=\"text-align: right;\">\n",
              "      <th></th>\n",
              "      <th>user_id</th>\n",
              "      <th>sub_commodity_desc</th>\n",
              "      <th>total_money_sub_com_desc</th>\n",
              "    </tr>\n",
              "  </thead>\n",
              "  <tbody>\n",
              "    <tr>\n",
              "      <th>0</th>\n",
              "      <td>1</td>\n",
              "      <td></td>\n",
              "      <td>0.00</td>\n",
              "    </tr>\n",
              "    <tr>\n",
              "      <th>1</th>\n",
              "      <td>1</td>\n",
              "      <td>AEROSOL TOPPINGS</td>\n",
              "      <td>1.99</td>\n",
              "    </tr>\n",
              "    <tr>\n",
              "      <th>2</th>\n",
              "      <td>1</td>\n",
              "      <td>AIR CARE - CANDLES</td>\n",
              "      <td>2.50</td>\n",
              "    </tr>\n",
              "  </tbody>\n",
              "</table>\n",
              "</div>"
            ],
            "text/plain": [
              "   user_id  sub_commodity_desc  total_money_sub_com_desc\n",
              "0        1                                          0.00\n",
              "1        1    AEROSOL TOPPINGS                      1.99\n",
              "2        1  AIR CARE - CANDLES                      2.50"
            ]
          },
          "metadata": {
            "tags": []
          },
          "execution_count": 49
        }
      ]
    },
    {
      "cell_type": "markdown",
      "metadata": {
        "id": "ZVX44qgdKfij"
      },
      "source": [
        "Общее количество покупок данного пользователя товаров из department за всю историю"
      ]
    },
    {
      "cell_type": "code",
      "metadata": {
        "id": "xxTWLQxzJ8tx",
        "outputId": "d45d7260-6f74-4dab-d105-e5b3502eaece",
        "colab": {
          "base_uri": "https://localhost:8080/",
          "height": 142
        }
      },
      "source": [
        "total_quantity_depart = tmp.groupby(['user_id','department'])['quantity'].sum().reset_index()\n",
        "total_money_depart.rename(columns = {'quantity': 'total_quantity_depart'}, inplace=True)\n",
        "total_money_depart.head(3)"
      ],
      "execution_count": 50,
      "outputs": [
        {
          "output_type": "execute_result",
          "data": {
            "text/html": [
              "<div>\n",
              "<style scoped>\n",
              "    .dataframe tbody tr th:only-of-type {\n",
              "        vertical-align: middle;\n",
              "    }\n",
              "\n",
              "    .dataframe tbody tr th {\n",
              "        vertical-align: top;\n",
              "    }\n",
              "\n",
              "    .dataframe thead th {\n",
              "        text-align: right;\n",
              "    }\n",
              "</style>\n",
              "<table border=\"1\" class=\"dataframe\">\n",
              "  <thead>\n",
              "    <tr style=\"text-align: right;\">\n",
              "      <th></th>\n",
              "      <th>user_id</th>\n",
              "      <th>department</th>\n",
              "      <th>total_money_depart</th>\n",
              "    </tr>\n",
              "  </thead>\n",
              "  <tbody>\n",
              "    <tr>\n",
              "      <th>0</th>\n",
              "      <td>1</td>\n",
              "      <td></td>\n",
              "      <td>0.00</td>\n",
              "    </tr>\n",
              "    <tr>\n",
              "      <th>1</th>\n",
              "      <td>1</td>\n",
              "      <td>DELI</td>\n",
              "      <td>9.75</td>\n",
              "    </tr>\n",
              "    <tr>\n",
              "      <th>2</th>\n",
              "      <td>1</td>\n",
              "      <td>DRUG GM</td>\n",
              "      <td>53.87</td>\n",
              "    </tr>\n",
              "  </tbody>\n",
              "</table>\n",
              "</div>"
            ],
            "text/plain": [
              "   user_id department  total_money_depart\n",
              "0        1                           0.00\n",
              "1        1       DELI                9.75\n",
              "2        1    DRUG GM               53.87"
            ]
          },
          "metadata": {
            "tags": []
          },
          "execution_count": 50
        }
      ]
    },
    {
      "cell_type": "markdown",
      "metadata": {
        "id": "2uw4pkyMLRwp"
      },
      "source": [
        "Общее количество покупок данного пользователя товаров из commodity_desc за всю историю"
      ]
    },
    {
      "cell_type": "code",
      "metadata": {
        "id": "vnvTlI0nLYA4",
        "outputId": "adb8f271-ea0b-4af4-dab3-a0540a5bc2b2",
        "colab": {
          "base_uri": "https://localhost:8080/",
          "height": 142
        }
      },
      "source": [
        "total_quantity_com_desc = tmp.groupby(['user_id','commodity_desc'])['quantity'].sum().reset_index()\n",
        "total_quantity_com_desc.rename(columns = {'quantity': 'total_quantity_com_desc'}, inplace=True)\n",
        "total_quantity_com_desc.head(3)"
      ],
      "execution_count": 51,
      "outputs": [
        {
          "output_type": "execute_result",
          "data": {
            "text/html": [
              "<div>\n",
              "<style scoped>\n",
              "    .dataframe tbody tr th:only-of-type {\n",
              "        vertical-align: middle;\n",
              "    }\n",
              "\n",
              "    .dataframe tbody tr th {\n",
              "        vertical-align: top;\n",
              "    }\n",
              "\n",
              "    .dataframe thead th {\n",
              "        text-align: right;\n",
              "    }\n",
              "</style>\n",
              "<table border=\"1\" class=\"dataframe\">\n",
              "  <thead>\n",
              "    <tr style=\"text-align: right;\">\n",
              "      <th></th>\n",
              "      <th>user_id</th>\n",
              "      <th>commodity_desc</th>\n",
              "      <th>total_quantity_com_desc</th>\n",
              "    </tr>\n",
              "  </thead>\n",
              "  <tbody>\n",
              "    <tr>\n",
              "      <th>0</th>\n",
              "      <td>1</td>\n",
              "      <td></td>\n",
              "      <td>0</td>\n",
              "    </tr>\n",
              "    <tr>\n",
              "      <th>1</th>\n",
              "      <td>1</td>\n",
              "      <td>AIR CARE</td>\n",
              "      <td>4</td>\n",
              "    </tr>\n",
              "    <tr>\n",
              "      <th>2</th>\n",
              "      <td>1</td>\n",
              "      <td>APPLES</td>\n",
              "      <td>2</td>\n",
              "    </tr>\n",
              "  </tbody>\n",
              "</table>\n",
              "</div>"
            ],
            "text/plain": [
              "   user_id commodity_desc  total_quantity_com_desc\n",
              "0        1                                       0\n",
              "1        1       AIR CARE                        4\n",
              "2        1         APPLES                        2"
            ]
          },
          "metadata": {
            "tags": []
          },
          "execution_count": 51
        }
      ]
    },
    {
      "cell_type": "markdown",
      "metadata": {
        "id": "DjjU8enDLlr-"
      },
      "source": [
        "Общее количество покупок данного пользователя товаров из sub_commodity_desc за всю историю"
      ]
    },
    {
      "cell_type": "code",
      "metadata": {
        "id": "xiWj4r0yLs9E",
        "outputId": "dd27d664-f73d-4bdf-be78-357cf2f643a2",
        "colab": {
          "base_uri": "https://localhost:8080/",
          "height": 142
        }
      },
      "source": [
        "total_quantity_sub_com_desc = tmp.groupby(['user_id','sub_commodity_desc'])['quantity'].sum().reset_index()\n",
        "total_quantity_sub_com_desc.rename(columns = {'quantity': 'total_quantity_sub_com_desc'}, inplace=True)\n",
        "total_quantity_sub_com_desc.head(3)"
      ],
      "execution_count": 52,
      "outputs": [
        {
          "output_type": "execute_result",
          "data": {
            "text/html": [
              "<div>\n",
              "<style scoped>\n",
              "    .dataframe tbody tr th:only-of-type {\n",
              "        vertical-align: middle;\n",
              "    }\n",
              "\n",
              "    .dataframe tbody tr th {\n",
              "        vertical-align: top;\n",
              "    }\n",
              "\n",
              "    .dataframe thead th {\n",
              "        text-align: right;\n",
              "    }\n",
              "</style>\n",
              "<table border=\"1\" class=\"dataframe\">\n",
              "  <thead>\n",
              "    <tr style=\"text-align: right;\">\n",
              "      <th></th>\n",
              "      <th>user_id</th>\n",
              "      <th>sub_commodity_desc</th>\n",
              "      <th>total_quantity_sub_com_desc</th>\n",
              "    </tr>\n",
              "  </thead>\n",
              "  <tbody>\n",
              "    <tr>\n",
              "      <th>0</th>\n",
              "      <td>1</td>\n",
              "      <td></td>\n",
              "      <td>0</td>\n",
              "    </tr>\n",
              "    <tr>\n",
              "      <th>1</th>\n",
              "      <td>1</td>\n",
              "      <td>AEROSOL TOPPINGS</td>\n",
              "      <td>1</td>\n",
              "    </tr>\n",
              "    <tr>\n",
              "      <th>2</th>\n",
              "      <td>1</td>\n",
              "      <td>AIR CARE - CANDLES</td>\n",
              "      <td>1</td>\n",
              "    </tr>\n",
              "  </tbody>\n",
              "</table>\n",
              "</div>"
            ],
            "text/plain": [
              "   user_id  sub_commodity_desc  total_quantity_sub_com_desc\n",
              "0        1                                                0\n",
              "1        1    AEROSOL TOPPINGS                            1\n",
              "2        1  AIR CARE - CANDLES                            1"
            ]
          },
          "metadata": {
            "tags": []
          },
          "execution_count": 52
        }
      ]
    },
    {
      "cell_type": "markdown",
      "metadata": {
        "id": "gV03gZ3kM85g"
      },
      "source": [
        "Частотность покупок каждого пользователя"
      ]
    },
    {
      "cell_type": "code",
      "metadata": {
        "id": "rZqRWxaMNYPW",
        "outputId": "9ecab99b-c477-45b3-ed3d-7bf49ce753a2",
        "colab": {
          "base_uri": "https://localhost:8080/",
          "height": 142
        }
      },
      "source": [
        "quantity_per_week = tmp.groupby(['user_id'])['quantity'].sum().reset_index()\n",
        "quantity_per_week.rename(columns = {'quantity': 'quantity_per_week'}, inplace=True)\n",
        "quantity_per_week['quantity_per_week'] = quantity_per_week['quantity_per_week']/(tmp['week_no'].max() - tmp['week_no'].min())\n",
        "quantity_per_week.head(3)"
      ],
      "execution_count": 53,
      "outputs": [
        {
          "output_type": "execute_result",
          "data": {
            "text/html": [
              "<div>\n",
              "<style scoped>\n",
              "    .dataframe tbody tr th:only-of-type {\n",
              "        vertical-align: middle;\n",
              "    }\n",
              "\n",
              "    .dataframe tbody tr th {\n",
              "        vertical-align: top;\n",
              "    }\n",
              "\n",
              "    .dataframe thead th {\n",
              "        text-align: right;\n",
              "    }\n",
              "</style>\n",
              "<table border=\"1\" class=\"dataframe\">\n",
              "  <thead>\n",
              "    <tr style=\"text-align: right;\">\n",
              "      <th></th>\n",
              "      <th>user_id</th>\n",
              "      <th>quantity_per_week</th>\n",
              "    </tr>\n",
              "  </thead>\n",
              "  <tbody>\n",
              "    <tr>\n",
              "      <th>0</th>\n",
              "      <td>1</td>\n",
              "      <td>29.6</td>\n",
              "    </tr>\n",
              "    <tr>\n",
              "      <th>1</th>\n",
              "      <td>2</td>\n",
              "      <td>16.8</td>\n",
              "    </tr>\n",
              "    <tr>\n",
              "      <th>2</th>\n",
              "      <td>4</td>\n",
              "      <td>7.6</td>\n",
              "    </tr>\n",
              "  </tbody>\n",
              "</table>\n",
              "</div>"
            ],
            "text/plain": [
              "   user_id  quantity_per_week\n",
              "0        1               29.6\n",
              "1        2               16.8\n",
              "2        4                7.6"
            ]
          },
          "metadata": {
            "tags": []
          },
          "execution_count": 53
        }
      ]
    },
    {
      "cell_type": "markdown",
      "metadata": {
        "id": "0ghc5Pa6OQrH"
      },
      "source": [
        "Средняя сумма, которую пользователь тратит в неделю"
      ]
    },
    {
      "cell_type": "code",
      "metadata": {
        "id": "pY4bnycDNvmx",
        "outputId": "e6dd2bc4-426d-4b2b-b957-e4d4b2697a15",
        "colab": {
          "base_uri": "https://localhost:8080/",
          "height": 142
        }
      },
      "source": [
        "sales_value_per_week = tmp.groupby(['user_id'])['sales_value'].sum().reset_index()\n",
        "sales_value_per_week.rename(columns = {'sales_value': 'sales_value_per_week'}, inplace=True)\n",
        "sales_value_per_week['sales_value_per_week'] = sales_value_per_week['sales_value_per_week']/(tmp['week_no'].max() - tmp['week_no'].min())\n",
        "sales_value_per_week.head(3)"
      ],
      "execution_count": 54,
      "outputs": [
        {
          "output_type": "execute_result",
          "data": {
            "text/html": [
              "<div>\n",
              "<style scoped>\n",
              "    .dataframe tbody tr th:only-of-type {\n",
              "        vertical-align: middle;\n",
              "    }\n",
              "\n",
              "    .dataframe tbody tr th {\n",
              "        vertical-align: top;\n",
              "    }\n",
              "\n",
              "    .dataframe thead th {\n",
              "        text-align: right;\n",
              "    }\n",
              "</style>\n",
              "<table border=\"1\" class=\"dataframe\">\n",
              "  <thead>\n",
              "    <tr style=\"text-align: right;\">\n",
              "      <th></th>\n",
              "      <th>user_id</th>\n",
              "      <th>sales_value_per_week</th>\n",
              "    </tr>\n",
              "  </thead>\n",
              "  <tbody>\n",
              "    <tr>\n",
              "      <th>0</th>\n",
              "      <td>1</td>\n",
              "      <td>68.356</td>\n",
              "    </tr>\n",
              "    <tr>\n",
              "      <th>1</th>\n",
              "      <td>2</td>\n",
              "      <td>38.058</td>\n",
              "    </tr>\n",
              "    <tr>\n",
              "      <th>2</th>\n",
              "      <td>4</td>\n",
              "      <td>23.878</td>\n",
              "    </tr>\n",
              "  </tbody>\n",
              "</table>\n",
              "</div>"
            ],
            "text/plain": [
              "   user_id  sales_value_per_week\n",
              "0        1                68.356\n",
              "1        2                38.058\n",
              "2        4                23.878"
            ]
          },
          "metadata": {
            "tags": []
          },
          "execution_count": 54
        }
      ]
    },
    {
      "cell_type": "markdown",
      "metadata": {
        "id": "1Z3-AUoiPNBR"
      },
      "source": [
        "Количество продаж данного товара в неделю"
      ]
    },
    {
      "cell_type": "code",
      "metadata": {
        "id": "h45wtsp5P-dB",
        "outputId": "8b1b46b8-5a4a-4746-ef22-df7a1ca7c1ee",
        "colab": {
          "base_uri": "https://localhost:8080/",
          "height": 142
        }
      },
      "source": [
        "item_quan_per_week = tmp.groupby(['item_id'])['quantity'].sum().reset_index()\n",
        "item_quan_per_week.rename(columns = {'quantity': 'item_quan_per_week'}, inplace=True)\n",
        "item_quan_per_week['item_quan_per_week'] = item_quan_per_week['item_quan_per_week']/(tmp['week_no'].max() - tmp['week_no'].min())\n",
        "item_quan_per_week.head(3)"
      ],
      "execution_count": 55,
      "outputs": [
        {
          "output_type": "execute_result",
          "data": {
            "text/html": [
              "<div>\n",
              "<style scoped>\n",
              "    .dataframe tbody tr th:only-of-type {\n",
              "        vertical-align: middle;\n",
              "    }\n",
              "\n",
              "    .dataframe tbody tr th {\n",
              "        vertical-align: top;\n",
              "    }\n",
              "\n",
              "    .dataframe thead th {\n",
              "        text-align: right;\n",
              "    }\n",
              "</style>\n",
              "<table border=\"1\" class=\"dataframe\">\n",
              "  <thead>\n",
              "    <tr style=\"text-align: right;\">\n",
              "      <th></th>\n",
              "      <th>item_id</th>\n",
              "      <th>item_quan_per_week</th>\n",
              "    </tr>\n",
              "  </thead>\n",
              "  <tbody>\n",
              "    <tr>\n",
              "      <th>0</th>\n",
              "      <td>28116</td>\n",
              "      <td>0.2</td>\n",
              "    </tr>\n",
              "    <tr>\n",
              "      <th>1</th>\n",
              "      <td>28117</td>\n",
              "      <td>0.2</td>\n",
              "    </tr>\n",
              "    <tr>\n",
              "      <th>2</th>\n",
              "      <td>28143</td>\n",
              "      <td>0.2</td>\n",
              "    </tr>\n",
              "  </tbody>\n",
              "</table>\n",
              "</div>"
            ],
            "text/plain": [
              "   item_id  item_quan_per_week\n",
              "0    28116                 0.2\n",
              "1    28117                 0.2\n",
              "2    28143                 0.2"
            ]
          },
          "metadata": {
            "tags": []
          },
          "execution_count": 55
        }
      ]
    },
    {
      "cell_type": "markdown",
      "metadata": {
        "id": "bs5DwK3RQtCr"
      },
      "source": [
        "Количество продаж товаров из department в неделю"
      ]
    },
    {
      "cell_type": "code",
      "metadata": {
        "id": "ykfMRZHIQ4gJ",
        "outputId": "99993cb4-e9e4-4b10-db42-4d489d6133f7",
        "colab": {
          "base_uri": "https://localhost:8080/",
          "height": 142
        }
      },
      "source": [
        "depart_quan_per_week = tmp.groupby(['department'])['quantity'].sum().reset_index()\n",
        "depart_quan_per_week.rename(columns = {'quantity': 'depart_quan_per_week'}, inplace=True)\n",
        "depart_quan_per_week['depart_quan_per_week'] = depart_quan_per_week['depart_quan_per_week']/(tmp['week_no'].max() - tmp['week_no'].min())\n",
        "depart_quan_per_week.head(3)"
      ],
      "execution_count": 56,
      "outputs": [
        {
          "output_type": "execute_result",
          "data": {
            "text/html": [
              "<div>\n",
              "<style scoped>\n",
              "    .dataframe tbody tr th:only-of-type {\n",
              "        vertical-align: middle;\n",
              "    }\n",
              "\n",
              "    .dataframe tbody tr th {\n",
              "        vertical-align: top;\n",
              "    }\n",
              "\n",
              "    .dataframe thead th {\n",
              "        text-align: right;\n",
              "    }\n",
              "</style>\n",
              "<table border=\"1\" class=\"dataframe\">\n",
              "  <thead>\n",
              "    <tr style=\"text-align: right;\">\n",
              "      <th></th>\n",
              "      <th>department</th>\n",
              "      <th>depart_quan_per_week</th>\n",
              "    </tr>\n",
              "  </thead>\n",
              "  <tbody>\n",
              "    <tr>\n",
              "      <th>0</th>\n",
              "      <td></td>\n",
              "      <td>0.0</td>\n",
              "    </tr>\n",
              "    <tr>\n",
              "      <th>1</th>\n",
              "      <td>AUTOMOTIVE</td>\n",
              "      <td>0.2</td>\n",
              "    </tr>\n",
              "    <tr>\n",
              "      <th>2</th>\n",
              "      <td>CHEF SHOPPE</td>\n",
              "      <td>13.8</td>\n",
              "    </tr>\n",
              "  </tbody>\n",
              "</table>\n",
              "</div>"
            ],
            "text/plain": [
              "    department  depart_quan_per_week\n",
              "0                                0.0\n",
              "1   AUTOMOTIVE                   0.2\n",
              "2  CHEF SHOPPE                  13.8"
            ]
          },
          "metadata": {
            "tags": []
          },
          "execution_count": 56
        }
      ]
    },
    {
      "cell_type": "markdown",
      "metadata": {
        "id": "MEFwKsjHRUlT"
      },
      "source": [
        "Количество продаж товаров из commodity_desc в неделю"
      ]
    },
    {
      "cell_type": "code",
      "metadata": {
        "id": "Fb4U6Ot9Ra7g",
        "outputId": "296fed99-2179-434c-f522-63ea7c5fa4a1",
        "colab": {
          "base_uri": "https://localhost:8080/",
          "height": 142
        }
      },
      "source": [
        "com_des_quan_per_week = tmp.groupby(['commodity_desc'])['quantity'].sum().reset_index()\n",
        "com_des_quan_per_week.rename(columns = {'quantity': 'com_des_quan_per_week'}, inplace=True)\n",
        "com_des_quan_per_week['com_des_quan_per_week'] = com_des_quan_per_week['com_des_quan_per_week']/(tmp['week_no'].max() - tmp['week_no'].min())\n",
        "com_des_quan_per_week.head(3)"
      ],
      "execution_count": 57,
      "outputs": [
        {
          "output_type": "execute_result",
          "data": {
            "text/html": [
              "<div>\n",
              "<style scoped>\n",
              "    .dataframe tbody tr th:only-of-type {\n",
              "        vertical-align: middle;\n",
              "    }\n",
              "\n",
              "    .dataframe tbody tr th {\n",
              "        vertical-align: top;\n",
              "    }\n",
              "\n",
              "    .dataframe thead th {\n",
              "        text-align: right;\n",
              "    }\n",
              "</style>\n",
              "<table border=\"1\" class=\"dataframe\">\n",
              "  <thead>\n",
              "    <tr style=\"text-align: right;\">\n",
              "      <th></th>\n",
              "      <th>commodity_desc</th>\n",
              "      <th>com_des_quan_per_week</th>\n",
              "    </tr>\n",
              "  </thead>\n",
              "  <tbody>\n",
              "    <tr>\n",
              "      <th>0</th>\n",
              "      <td></td>\n",
              "      <td>0.0</td>\n",
              "    </tr>\n",
              "    <tr>\n",
              "      <th>1</th>\n",
              "      <td>(CORP USE ONLY)</td>\n",
              "      <td>1.2</td>\n",
              "    </tr>\n",
              "    <tr>\n",
              "      <th>2</th>\n",
              "      <td>ADULT INCONTINENCE</td>\n",
              "      <td>9.8</td>\n",
              "    </tr>\n",
              "  </tbody>\n",
              "</table>\n",
              "</div>"
            ],
            "text/plain": [
              "       commodity_desc  com_des_quan_per_week\n",
              "0                                        0.0\n",
              "1     (CORP USE ONLY)                    1.2\n",
              "2  ADULT INCONTINENCE                    9.8"
            ]
          },
          "metadata": {
            "tags": []
          },
          "execution_count": 57
        }
      ]
    },
    {
      "cell_type": "markdown",
      "metadata": {
        "id": "I3K7VvU_RvnQ"
      },
      "source": [
        "Количество продаж товаров из sub_commodity_desc в неделю"
      ]
    },
    {
      "cell_type": "code",
      "metadata": {
        "id": "y8NK2XOjRzxG",
        "outputId": "97b18e08-c55d-41de-bfe5-09499881a2b5",
        "colab": {
          "base_uri": "https://localhost:8080/",
          "height": 142
        }
      },
      "source": [
        "sub_com_des_quan_per_week = tmp.groupby(['sub_commodity_desc'])['quantity'].sum().reset_index()\n",
        "sub_com_des_quan_per_week.rename(columns = {'quantity': 'sub_com_des_quan_per_week'}, inplace=True)\n",
        "sub_com_des_quan_per_week['sub_com_des_quan_per_week'] = sub_com_des_quan_per_week['sub_com_des_quan_per_week']/(tmp['week_no'].max() - tmp['week_no'].min())\n",
        "sub_com_des_quan_per_week.head(3)"
      ],
      "execution_count": 58,
      "outputs": [
        {
          "output_type": "execute_result",
          "data": {
            "text/html": [
              "<div>\n",
              "<style scoped>\n",
              "    .dataframe tbody tr th:only-of-type {\n",
              "        vertical-align: middle;\n",
              "    }\n",
              "\n",
              "    .dataframe tbody tr th {\n",
              "        vertical-align: top;\n",
              "    }\n",
              "\n",
              "    .dataframe thead th {\n",
              "        text-align: right;\n",
              "    }\n",
              "</style>\n",
              "<table border=\"1\" class=\"dataframe\">\n",
              "  <thead>\n",
              "    <tr style=\"text-align: right;\">\n",
              "      <th></th>\n",
              "      <th>sub_commodity_desc</th>\n",
              "      <th>sub_com_des_quan_per_week</th>\n",
              "    </tr>\n",
              "  </thead>\n",
              "  <tbody>\n",
              "    <tr>\n",
              "      <th>0</th>\n",
              "      <td></td>\n",
              "      <td>0.0</td>\n",
              "    </tr>\n",
              "    <tr>\n",
              "      <th>1</th>\n",
              "      <td>*SCRAPBOOK</td>\n",
              "      <td>0.2</td>\n",
              "    </tr>\n",
              "    <tr>\n",
              "      <th>2</th>\n",
              "      <td>*SPORT NOVELTIES</td>\n",
              "      <td>0.8</td>\n",
              "    </tr>\n",
              "  </tbody>\n",
              "</table>\n",
              "</div>"
            ],
            "text/plain": [
              "  sub_commodity_desc  sub_com_des_quan_per_week\n",
              "0                                           0.0\n",
              "1         *SCRAPBOOK                        0.2\n",
              "2   *SPORT NOVELTIES                        0.8"
            ]
          },
          "metadata": {
            "tags": []
          },
          "execution_count": 58
        }
      ]
    },
    {
      "cell_type": "markdown",
      "metadata": {
        "id": "NuxRMDDtSb7r"
      },
      "source": [
        "Средняя цена товаров в категории department"
      ]
    },
    {
      "cell_type": "code",
      "metadata": {
        "id": "HSJ1XZfLSjj_",
        "outputId": "8923c4d5-2479-4012-fbf8-833ee7601664",
        "colab": {
          "base_uri": "https://localhost:8080/",
          "height": 142
        }
      },
      "source": [
        "department_mprice = tmp.groupby(['department'])['mprice_item_id'].mean().reset_index()\n",
        "department_mprice.rename(columns = {'mprice_item_id': 'department_mprice'}, inplace=True)\n",
        "department_mprice.head(3)"
      ],
      "execution_count": 59,
      "outputs": [
        {
          "output_type": "execute_result",
          "data": {
            "text/html": [
              "<div>\n",
              "<style scoped>\n",
              "    .dataframe tbody tr th:only-of-type {\n",
              "        vertical-align: middle;\n",
              "    }\n",
              "\n",
              "    .dataframe tbody tr th {\n",
              "        vertical-align: top;\n",
              "    }\n",
              "\n",
              "    .dataframe thead th {\n",
              "        text-align: right;\n",
              "    }\n",
              "</style>\n",
              "<table border=\"1\" class=\"dataframe\">\n",
              "  <thead>\n",
              "    <tr style=\"text-align: right;\">\n",
              "      <th></th>\n",
              "      <th>department</th>\n",
              "      <th>department_mprice</th>\n",
              "    </tr>\n",
              "  </thead>\n",
              "  <tbody>\n",
              "    <tr>\n",
              "      <th>0</th>\n",
              "      <td></td>\n",
              "      <td>0.000000</td>\n",
              "    </tr>\n",
              "    <tr>\n",
              "      <th>1</th>\n",
              "      <td>AUTOMOTIVE</td>\n",
              "      <td>5.390000</td>\n",
              "    </tr>\n",
              "    <tr>\n",
              "      <th>2</th>\n",
              "      <td>CHEF SHOPPE</td>\n",
              "      <td>2.650088</td>\n",
              "    </tr>\n",
              "  </tbody>\n",
              "</table>\n",
              "</div>"
            ],
            "text/plain": [
              "    department  department_mprice\n",
              "0                        0.000000\n",
              "1   AUTOMOTIVE           5.390000\n",
              "2  CHEF SHOPPE           2.650088"
            ]
          },
          "metadata": {
            "tags": []
          },
          "execution_count": 59
        }
      ]
    },
    {
      "cell_type": "markdown",
      "metadata": {
        "id": "L9QRK7K1VNDy"
      },
      "source": [
        "Средняя цена товаров в категории commodity_desc"
      ]
    },
    {
      "cell_type": "code",
      "metadata": {
        "id": "w2v0md_uVb96",
        "outputId": "8cce8c9c-9992-4186-fbe5-d1cc91d523c2",
        "colab": {
          "base_uri": "https://localhost:8080/",
          "height": 142
        }
      },
      "source": [
        "com_des_mprice = tmp.groupby(['commodity_desc'])['mprice_item_id'].mean().reset_index()\n",
        "com_des_mprice.rename(columns = {'mprice_item_id': 'com_des_mprice'}, inplace=True)\n",
        "com_des_mprice.head(3)"
      ],
      "execution_count": 60,
      "outputs": [
        {
          "output_type": "execute_result",
          "data": {
            "text/html": [
              "<div>\n",
              "<style scoped>\n",
              "    .dataframe tbody tr th:only-of-type {\n",
              "        vertical-align: middle;\n",
              "    }\n",
              "\n",
              "    .dataframe tbody tr th {\n",
              "        vertical-align: top;\n",
              "    }\n",
              "\n",
              "    .dataframe thead th {\n",
              "        text-align: right;\n",
              "    }\n",
              "</style>\n",
              "<table border=\"1\" class=\"dataframe\">\n",
              "  <thead>\n",
              "    <tr style=\"text-align: right;\">\n",
              "      <th></th>\n",
              "      <th>commodity_desc</th>\n",
              "      <th>com_des_mprice</th>\n",
              "    </tr>\n",
              "  </thead>\n",
              "  <tbody>\n",
              "    <tr>\n",
              "      <th>0</th>\n",
              "      <td></td>\n",
              "      <td>0.000000</td>\n",
              "    </tr>\n",
              "    <tr>\n",
              "      <th>1</th>\n",
              "      <td>(CORP USE ONLY)</td>\n",
              "      <td>5.581667</td>\n",
              "    </tr>\n",
              "    <tr>\n",
              "      <th>2</th>\n",
              "      <td>ADULT INCONTINENCE</td>\n",
              "      <td>8.635682</td>\n",
              "    </tr>\n",
              "  </tbody>\n",
              "</table>\n",
              "</div>"
            ],
            "text/plain": [
              "       commodity_desc  com_des_mprice\n",
              "0                            0.000000\n",
              "1     (CORP USE ONLY)        5.581667\n",
              "2  ADULT INCONTINENCE        8.635682"
            ]
          },
          "metadata": {
            "tags": []
          },
          "execution_count": 60
        }
      ]
    },
    {
      "cell_type": "markdown",
      "metadata": {
        "id": "L9EnpqmDVZhb"
      },
      "source": [
        "Средняя цена товаров в категории sub_commodity_desc"
      ]
    },
    {
      "cell_type": "code",
      "metadata": {
        "id": "JDnwoOCTVwGy",
        "outputId": "9237f764-7b39-4039-92d7-2102f6645ba6",
        "colab": {
          "base_uri": "https://localhost:8080/",
          "height": 142
        }
      },
      "source": [
        "sub_com_des_mprice = tmp.groupby(['sub_commodity_desc'])['mprice_item_id'].mean().reset_index()\n",
        "sub_com_des_mprice.rename(columns = {'mprice_item_id': 'sub_com_des_mprice'}, inplace=True)\n",
        "sub_com_des_mprice.head(3)"
      ],
      "execution_count": 61,
      "outputs": [
        {
          "output_type": "execute_result",
          "data": {
            "text/html": [
              "<div>\n",
              "<style scoped>\n",
              "    .dataframe tbody tr th:only-of-type {\n",
              "        vertical-align: middle;\n",
              "    }\n",
              "\n",
              "    .dataframe tbody tr th {\n",
              "        vertical-align: top;\n",
              "    }\n",
              "\n",
              "    .dataframe thead th {\n",
              "        text-align: right;\n",
              "    }\n",
              "</style>\n",
              "<table border=\"1\" class=\"dataframe\">\n",
              "  <thead>\n",
              "    <tr style=\"text-align: right;\">\n",
              "      <th></th>\n",
              "      <th>sub_commodity_desc</th>\n",
              "      <th>sub_com_des_mprice</th>\n",
              "    </tr>\n",
              "  </thead>\n",
              "  <tbody>\n",
              "    <tr>\n",
              "      <th>0</th>\n",
              "      <td></td>\n",
              "      <td>0.000</td>\n",
              "    </tr>\n",
              "    <tr>\n",
              "      <th>1</th>\n",
              "      <td>*SCRAPBOOK</td>\n",
              "      <td>3.490</td>\n",
              "    </tr>\n",
              "    <tr>\n",
              "      <th>2</th>\n",
              "      <td>*SPORT NOVELTIES</td>\n",
              "      <td>0.875</td>\n",
              "    </tr>\n",
              "  </tbody>\n",
              "</table>\n",
              "</div>"
            ],
            "text/plain": [
              "  sub_commodity_desc  sub_com_des_mprice\n",
              "0                                  0.000\n",
              "1         *SCRAPBOOK               3.490\n",
              "2   *SPORT NOVELTIES               0.875"
            ]
          },
          "metadata": {
            "tags": []
          },
          "execution_count": 61
        }
      ]
    },
    {
      "cell_type": "markdown",
      "metadata": {
        "id": "gTWbqKJryACQ"
      },
      "source": [
        "Добавим Embedding от als"
      ]
    },
    {
      "cell_type": "code",
      "metadata": {
        "id": "PfedTZlByBzT"
      },
      "source": [
        "als_user_fearures = pd.DataFrame(als_model.userid_to_id.keys())\n",
        "als_user_factors = pd.DataFrame(als_model.als_user_factors)\n",
        "als_user_fearures = pd.concat([als_user_fearures, als_user_factors], axis=1)\n",
        "columns_names = ['user_id']\n",
        "feature_nums = ['user_f_'+str(i) for i in range(als_user_fearures.shape[1] -1)]\n",
        "columns_names = columns_names + feature_nums\n",
        "als_user_fearures.columns = columns_names"
      ],
      "execution_count": 62,
      "outputs": []
    },
    {
      "cell_type": "code",
      "metadata": {
        "id": "b3FFj_I1yFD4"
      },
      "source": [
        "als_item_fearures = pd.DataFrame(als_model.itemid_to_id.keys())\n",
        "als_item_factors = pd.DataFrame(als_model.als_item_factors)\n",
        "als_item_fearures = pd.concat([als_item_fearures, als_item_factors], axis=1)\n",
        "columns_names = ['item_id']\n",
        "feature_nums = ['item_f_'+str(i) for i in range(als_item_fearures.shape[1] -1)]\n",
        "columns_names = columns_names + feature_nums\n",
        "als_item_fearures.columns = columns_names"
      ],
      "execution_count": 63,
      "outputs": []
    },
    {
      "cell_type": "code",
      "metadata": {
        "id": "vpBj-YUjkUco",
        "outputId": "e024151c-3fd1-45b7-b6fb-c9cc86470540",
        "colab": {
          "base_uri": "https://localhost:8080/",
          "height": 213
        }
      },
      "source": [
        "tmp.head(3)"
      ],
      "execution_count": 64,
      "outputs": [
        {
          "output_type": "execute_result",
          "data": {
            "text/html": [
              "<div>\n",
              "<style scoped>\n",
              "    .dataframe tbody tr th:only-of-type {\n",
              "        vertical-align: middle;\n",
              "    }\n",
              "\n",
              "    .dataframe tbody tr th {\n",
              "        vertical-align: top;\n",
              "    }\n",
              "\n",
              "    .dataframe thead th {\n",
              "        text-align: right;\n",
              "    }\n",
              "</style>\n",
              "<table border=\"1\" class=\"dataframe\">\n",
              "  <thead>\n",
              "    <tr style=\"text-align: right;\">\n",
              "      <th></th>\n",
              "      <th>user_id</th>\n",
              "      <th>basket_id</th>\n",
              "      <th>day</th>\n",
              "      <th>item_id</th>\n",
              "      <th>quantity</th>\n",
              "      <th>sales_value</th>\n",
              "      <th>store_id</th>\n",
              "      <th>retail_disc</th>\n",
              "      <th>trans_time</th>\n",
              "      <th>week_no</th>\n",
              "      <th>coupon_disc</th>\n",
              "      <th>coupon_match_disc</th>\n",
              "      <th>manufacturer</th>\n",
              "      <th>department</th>\n",
              "      <th>brand</th>\n",
              "      <th>commodity_desc</th>\n",
              "      <th>sub_commodity_desc</th>\n",
              "      <th>curr_size_of_product</th>\n",
              "      <th>mprice_item_id</th>\n",
              "      <th>sales_value(t)</th>\n",
              "    </tr>\n",
              "  </thead>\n",
              "  <tbody>\n",
              "    <tr>\n",
              "      <th>0</th>\n",
              "      <td>2070</td>\n",
              "      <td>40618492260</td>\n",
              "      <td>594</td>\n",
              "      <td>1019940</td>\n",
              "      <td>1</td>\n",
              "      <td>1.00</td>\n",
              "      <td>311</td>\n",
              "      <td>-0.29</td>\n",
              "      <td>40</td>\n",
              "      <td>86</td>\n",
              "      <td>0.0</td>\n",
              "      <td>0.0</td>\n",
              "      <td>1232</td>\n",
              "      <td>GROCERY</td>\n",
              "      <td>National</td>\n",
              "      <td>SOFT DRINKS</td>\n",
              "      <td>SOFT DRINK BOTTLE NON-CARB (EX</td>\n",
              "      <td>20 OZ</td>\n",
              "      <td>1.000000</td>\n",
              "      <td>0.006738</td>\n",
              "    </tr>\n",
              "    <tr>\n",
              "      <th>1</th>\n",
              "      <td>2021</td>\n",
              "      <td>40618753059</td>\n",
              "      <td>594</td>\n",
              "      <td>840361</td>\n",
              "      <td>1</td>\n",
              "      <td>0.99</td>\n",
              "      <td>443</td>\n",
              "      <td>0.00</td>\n",
              "      <td>101</td>\n",
              "      <td>86</td>\n",
              "      <td>0.0</td>\n",
              "      <td>0.0</td>\n",
              "      <td>69</td>\n",
              "      <td>GROCERY</td>\n",
              "      <td>Private</td>\n",
              "      <td>EGGS</td>\n",
              "      <td>EGGS - LARGE</td>\n",
              "      <td>1 DZ</td>\n",
              "      <td>1.004068</td>\n",
              "      <td>0.006671</td>\n",
              "    </tr>\n",
              "    <tr>\n",
              "      <th>2</th>\n",
              "      <td>2021</td>\n",
              "      <td>40618753059</td>\n",
              "      <td>594</td>\n",
              "      <td>856060</td>\n",
              "      <td>1</td>\n",
              "      <td>1.77</td>\n",
              "      <td>443</td>\n",
              "      <td>-0.09</td>\n",
              "      <td>101</td>\n",
              "      <td>86</td>\n",
              "      <td>0.0</td>\n",
              "      <td>0.0</td>\n",
              "      <td>170</td>\n",
              "      <td>GROCERY</td>\n",
              "      <td>National</td>\n",
              "      <td>CANNED JUICES</td>\n",
              "      <td>FRUIT DRINKS: CANNED &amp; GLASS (</td>\n",
              "      <td>128 OZ</td>\n",
              "      <td>1.855846</td>\n",
              "      <td>0.011926</td>\n",
              "    </tr>\n",
              "  </tbody>\n",
              "</table>\n",
              "</div>"
            ],
            "text/plain": [
              "   user_id    basket_id  ...  mprice_item_id  sales_value(t)\n",
              "0     2070  40618492260  ...        1.000000        0.006738\n",
              "1     2021  40618753059  ...        1.004068        0.006671\n",
              "2     2021  40618753059  ...        1.855846        0.011926\n",
              "\n",
              "[3 rows x 20 columns]"
            ]
          },
          "metadata": {
            "tags": []
          },
          "execution_count": 64
        }
      ]
    },
    {
      "cell_type": "markdown",
      "metadata": {
        "id": "Q-k_wry0kYug"
      },
      "source": [
        "Добавляем новые признаки"
      ]
    },
    {
      "cell_type": "code",
      "metadata": {
        "id": "87yD5lSQkWF7"
      },
      "source": [
        "# Добавляем признаки из item_features\n",
        "train_dataset = train_dataset.merge(item_features[['item_id','department',\\\n",
        "                                                   'commodity_desc','sub_commodity_desc']], \\\n",
        "                                                    on='item_id', how='left')\n",
        "# Средний чек для каждого пользователя\n",
        "train_dataset = train_dataset.merge(mean_check, on='user_id', how='left')\n",
        "# Средняя стоимость для каждого товара\n",
        "train_dataset = train_dataset.merge(mprice_item_id, on='item_id', how='left')\n",
        "# Средняя стоимость товаров из department, которые купил пользователь\n",
        "train_dataset = train_dataset.merge(mprice_department, on=['user_id', 'department'], how='left')\n",
        "# Средняя стоимость товаров из commodity_desc, которые купил пользователь\n",
        "train_dataset = train_dataset.merge(mprice_com_des, on=['user_id', 'commodity_desc'], how='left')\n",
        "# Средняя стоимость товаров из sub_commodity_desc, которые купил пользователь\n",
        "train_dataset = train_dataset.merge(mprice_sub_com_des, on=['user_id', 'sub_commodity_desc'], how='left')\n",
        "# Сколько раз данный пользователь купил данный товар за всю историю\n",
        "train_dataset = train_dataset.merge(total_quantity, on=['user_id', 'item_id'], how='left')\n",
        "# Сколько денег данный пользователь потратил на данный товар за всю историю\n",
        "train_dataset = train_dataset.merge(total_sales_value, on=['user_id', 'item_id'], how='left')\n",
        "# Сколько денег данный пользователь потратил на данный товар за всю историю с учетом времени\n",
        "train_dataset = train_dataset.merge(total_sales_value_t, on=['user_id', 'item_id'], how='left')\n",
        "# Сколько денег данный пользователь потратил на товары из department за всю историю\n",
        "train_dataset = train_dataset.merge(total_money_depart, on=['user_id', 'department'], how='left')\n",
        "# Сколько денег данный пользователь потратил на товары из commodity_desc за всю историю\n",
        "train_dataset = train_dataset.merge(total_money_com_desc, on=['user_id', 'commodity_desc'], how='left')\n",
        "# Сколько денег данный пользователь потратил на товары из sub_commodity_desc за всю историю\n",
        "train_dataset = train_dataset.merge(total_money_sub_com_desc, on=['user_id', 'sub_commodity_desc'], how='left')\n",
        "\n",
        "# Общее количество покупок данного пользователя товаров из department за всю историю\n",
        "train_dataset = train_dataset.merge(total_quantity_depart, on=['user_id', 'department'], how='left')\n",
        "# Общее количество покупок данного пользователя товаров из commodity_desc за всю историю\n",
        "train_dataset = train_dataset.merge(total_quantity_com_desc, on=['user_id', 'commodity_desc'], how='left')\n",
        "# Общее количество покупок данного пользователя товаров из sub_commodity_desc за всю историю\n",
        "train_dataset = train_dataset.merge(total_quantity_sub_com_desc, on=['user_id', 'sub_commodity_desc'], how='left')\n",
        "# Частотность покупок каждого пользователя\n",
        "train_dataset = train_dataset.merge(quantity_per_week, on=['user_id'], how='left')\n",
        "# Средняя сумма, которую пользователь тратит в неделю\n",
        "train_dataset = train_dataset.merge(sales_value_per_week, on=['user_id'], how='left')\n",
        "# Количество продаж данного товара в неделю\n",
        "train_dataset = train_dataset.merge(item_quan_per_week, on=['item_id'], how='left')\n",
        "# Количество продаж товаров из department в неделю\n",
        "train_dataset = train_dataset.merge(depart_quan_per_week, on=['department'], how='left')\n",
        "# Количество продаж товаров из commodity_desc в неделю\n",
        "train_dataset = train_dataset.merge(com_des_quan_per_week, on=['commodity_desc'], how='left')\n",
        "# Количество продаж товаров из sub_commodity_desc в неделю\n",
        "train_dataset = train_dataset.merge(sub_com_des_quan_per_week, on=['sub_commodity_desc'], how='left')\n",
        "# Средняя цена товаров в категории department\n",
        "train_dataset = train_dataset.merge(department_mprice, on=['department'], how='left')\n",
        "# Средняя цена товаров в категории commodity_desc\n",
        "train_dataset = train_dataset.merge(com_des_mprice, on=['commodity_desc'], how='left')\n",
        "# Средняя цена товаров в категории sub_commodity_desc\n",
        "train_dataset = train_dataset.merge(sub_com_des_mprice, on=['sub_commodity_desc'], how='left')\n",
        "\n",
        "# Надо поделить mprice_item_id на sub_com_des_mprice\n",
        "train_dataset['item_mp/scd_mp'] = train_dataset['mprice_item_id']/train_dataset['sub_com_des_mprice']\n",
        "\n",
        "# Добавляем признаки из user_features\n",
        "train_dataset = train_dataset.merge(user_features[['user_id','age_desc','income_desc','household_size_desc']], on=['user_id'], how='left')\n",
        "\n",
        "#train_dataset = train_dataset.merge(als_user_fearures, on=['user_id'], how='left')\n",
        "#train_dataset = train_dataset.merge(als_item_fearures, on=['item_id'], how='left')\n",
        "\n",
        "#train_dataset['total_quantity'] = train_dataset['total_quantity'].fillna(0)\n",
        "#train_dataset['item_sv_user'] = train_dataset['item_sv_user'].fillna(0)"
      ],
      "execution_count": 65,
      "outputs": []
    },
    {
      "cell_type": "markdown",
      "metadata": {
        "id": "xGefH7sYkhUS"
      },
      "source": [
        "### 4.2.4 Обучение модели второго уровня на тренировочном датасете"
      ]
    },
    {
      "cell_type": "code",
      "metadata": {
        "id": "ce2gctGhkcm0"
      },
      "source": [
        "X_train = train_dataset.drop(['target','department', 'commodity_desc', 'sub_commodity_desc', 'user_id', 'item_id'], axis=1)\n",
        "y_train = train_dataset[['target']]"
      ],
      "execution_count": 66,
      "outputs": []
    },
    {
      "cell_type": "code",
      "metadata": {
        "id": "mcoZjps_gG3F"
      },
      "source": [
        "#!pip install catboost\n",
        "#import catboost\n",
        "#model_catb = catboost.CatBoostClassifier(cat_features=['user_id', 'item_id'],\n",
        "#                                      silent=True, random_state=21)\n",
        "#model_catb.fit(X_train, y_train)"
      ],
      "execution_count": 67,
      "outputs": []
    },
    {
      "cell_type": "code",
      "metadata": {
        "id": "Gnb2DjEZklXU",
        "outputId": "80fa8d9a-414a-42ca-c370-6884195ffbcf",
        "colab": {
          "base_uri": "https://localhost:8080/",
          "height": 207
        }
      },
      "source": [
        "lgb_model = LGBMClassifier(objective='binary', max_depth=5, n_estimators = 200)#, categorical_column=cat_feats)\n",
        "lgb_model.fit(X_train, y_train)"
      ],
      "execution_count": 68,
      "outputs": [
        {
          "output_type": "stream",
          "text": [
            "/usr/local/lib/python3.6/dist-packages/sklearn/preprocessing/_label.py:235: DataConversionWarning: A column-vector y was passed when a 1d array was expected. Please change the shape of y to (n_samples, ), for example using ravel().\n",
            "  y = column_or_1d(y, warn=True)\n",
            "/usr/local/lib/python3.6/dist-packages/sklearn/preprocessing/_label.py:268: DataConversionWarning: A column-vector y was passed when a 1d array was expected. Please change the shape of y to (n_samples, ), for example using ravel().\n",
            "  y = column_or_1d(y, warn=True)\n"
          ],
          "name": "stderr"
        },
        {
          "output_type": "execute_result",
          "data": {
            "text/plain": [
              "LGBMClassifier(boosting_type='gbdt', class_weight=None, colsample_bytree=1.0,\n",
              "               importance_type='split', learning_rate=0.1, max_depth=5,\n",
              "               min_child_samples=20, min_child_weight=0.001, min_split_gain=0.0,\n",
              "               n_estimators=200, n_jobs=-1, num_leaves=31, objective='binary',\n",
              "               random_state=None, reg_alpha=0.0, reg_lambda=0.0, silent=True,\n",
              "               subsample=1.0, subsample_for_bin=200000, subsample_freq=0)"
            ]
          },
          "metadata": {
            "tags": []
          },
          "execution_count": 68
        }
      ]
    },
    {
      "cell_type": "code",
      "metadata": {
        "id": "PF52I5sJYFVR"
      },
      "source": [
        "#lgb_model = LGBMRanker()\n",
        "#query_train = [X_train.shape[0]]\n",
        "#lgb_model.fit(X_train, y_train, group=query_train)"
      ],
      "execution_count": 69,
      "outputs": []
    },
    {
      "cell_type": "markdown",
      "metadata": {
        "id": "MroiP8Xhks-h"
      },
      "source": [
        "### 4.2.5 Формируем тестовый датасет"
      ]
    },
    {
      "cell_type": "code",
      "metadata": {
        "id": "UyH1d-6hinlc"
      },
      "source": [
        "data_train_lvl_1 = data[data['week_no'] < data['week_no'].max() - (val_lvl_1_size_weeks + val_lvl_2_size_weeks)]\n",
        "data_val_lvl_1 = data[(data['week_no'] >= data['week_no'].max() - (val_lvl_1_size_weeks + val_lvl_2_size_weeks)) &\n",
        "                      (data['week_no'] < data['week_no'].max() - (val_lvl_2_size_weeks))]\n",
        "\n",
        "data_train_lvl_2 = data_val_lvl_1.copy()  # Для наглядности. Далее мы добавим изменения, и они будут отличаться\n",
        "data_val_lvl_2 = data[data['week_no'] >= data['week_no'].max() - val_lvl_2_size_weeks]\n",
        "\n",
        "data_train_lvl_1_2 = pd.concat([data_train_lvl_1,data_train_lvl_2], axis=0)"
      ],
      "execution_count": 161,
      "outputs": []
    },
    {
      "cell_type": "code",
      "metadata": {
        "id": "gS3okMinknsk",
        "outputId": "39d3bdf5-144f-4a2d-dce8-1e3dd663c3c5",
        "colab": {
          "base_uri": "https://localhost:8080/",
          "height": 111
        }
      },
      "source": [
        "# Модель второго уровня будет валидироваться на пользователях из третьего датасета (data_val_lvl_2)\n",
        "# и товарах, отфильтрованных моделью первого уровня для каждого пользователя из третьего датасета\n",
        "\n",
        "test_dataset = pd.DataFrame(data_val_lvl_2['user_id'].unique())\n",
        "test_dataset.columns = ['user_id']\n",
        "\n",
        "# Применяем модель первого уровня\n",
        "test_dataset['candidates'] = test_dataset['user_id'].apply(lambda x: als_model.get_als_recommendations(x, N=50))\n",
        "test_dataset.head(2)"
      ],
      "execution_count": 162,
      "outputs": [
        {
          "output_type": "execute_result",
          "data": {
            "text/html": [
              "<div>\n",
              "<style scoped>\n",
              "    .dataframe tbody tr th:only-of-type {\n",
              "        vertical-align: middle;\n",
              "    }\n",
              "\n",
              "    .dataframe tbody tr th {\n",
              "        vertical-align: top;\n",
              "    }\n",
              "\n",
              "    .dataframe thead th {\n",
              "        text-align: right;\n",
              "    }\n",
              "</style>\n",
              "<table border=\"1\" class=\"dataframe\">\n",
              "  <thead>\n",
              "    <tr style=\"text-align: right;\">\n",
              "      <th></th>\n",
              "      <th>user_id</th>\n",
              "      <th>candidates</th>\n",
              "    </tr>\n",
              "  </thead>\n",
              "  <tbody>\n",
              "    <tr>\n",
              "      <th>0</th>\n",
              "      <td>338</td>\n",
              "      <td>[896613, 819308, 1026118, 917816, 1028816, 871...</td>\n",
              "    </tr>\n",
              "    <tr>\n",
              "      <th>1</th>\n",
              "      <td>2120</td>\n",
              "      <td>[1029743, 995242, 1058997, 1126899, 981760, 59...</td>\n",
              "    </tr>\n",
              "  </tbody>\n",
              "</table>\n",
              "</div>"
            ],
            "text/plain": [
              "   user_id                                         candidates\n",
              "0      338  [896613, 819308, 1026118, 917816, 1028816, 871...\n",
              "1     2120  [1029743, 995242, 1058997, 1126899, 981760, 59..."
            ]
          },
          "metadata": {
            "tags": []
          },
          "execution_count": 162
        }
      ]
    },
    {
      "cell_type": "code",
      "metadata": {
        "id": "XEseXGkxkwHE",
        "outputId": "12abe544-8719-4ef1-9a02-44be4a392e81",
        "colab": {
          "base_uri": "https://localhost:8080/",
          "height": 173
        }
      },
      "source": [
        "# Разварачиваем датасет\n",
        "\n",
        "s = test_dataset.apply(lambda x: pd.Series(x['candidates']), axis=1).stack().reset_index(level=1, drop=True)\n",
        "s.name = 'item_id'\n",
        "\n",
        "test_dataset = test_dataset.drop('candidates', axis=1).join(s)\n",
        "#test_dataset['drop'] = 1  # фиктивная переменная\n",
        "\n",
        "test_dataset.head(4)"
      ],
      "execution_count": 163,
      "outputs": [
        {
          "output_type": "execute_result",
          "data": {
            "text/html": [
              "<div>\n",
              "<style scoped>\n",
              "    .dataframe tbody tr th:only-of-type {\n",
              "        vertical-align: middle;\n",
              "    }\n",
              "\n",
              "    .dataframe tbody tr th {\n",
              "        vertical-align: top;\n",
              "    }\n",
              "\n",
              "    .dataframe thead th {\n",
              "        text-align: right;\n",
              "    }\n",
              "</style>\n",
              "<table border=\"1\" class=\"dataframe\">\n",
              "  <thead>\n",
              "    <tr style=\"text-align: right;\">\n",
              "      <th></th>\n",
              "      <th>user_id</th>\n",
              "      <th>item_id</th>\n",
              "    </tr>\n",
              "  </thead>\n",
              "  <tbody>\n",
              "    <tr>\n",
              "      <th>0</th>\n",
              "      <td>338</td>\n",
              "      <td>896613</td>\n",
              "    </tr>\n",
              "    <tr>\n",
              "      <th>0</th>\n",
              "      <td>338</td>\n",
              "      <td>819308</td>\n",
              "    </tr>\n",
              "    <tr>\n",
              "      <th>0</th>\n",
              "      <td>338</td>\n",
              "      <td>1026118</td>\n",
              "    </tr>\n",
              "    <tr>\n",
              "      <th>0</th>\n",
              "      <td>338</td>\n",
              "      <td>917816</td>\n",
              "    </tr>\n",
              "  </tbody>\n",
              "</table>\n",
              "</div>"
            ],
            "text/plain": [
              "   user_id  item_id\n",
              "0      338   896613\n",
              "0      338   819308\n",
              "0      338  1026118\n",
              "0      338   917816"
            ]
          },
          "metadata": {
            "tags": []
          },
          "execution_count": 163
        }
      ]
    },
    {
      "cell_type": "code",
      "metadata": {
        "id": "e9wlG2Hgk1K2"
      },
      "source": [
        "# Добавляем признаки из item_features\n",
        "test_dataset = test_dataset.merge(item_features[['item_id','department',\\\n",
        "                                                   'commodity_desc','sub_commodity_desc']], \\\n",
        "                                                    on='item_id', how='left')\n",
        "# Средний чек для каждого пользователя\n",
        "test_dataset = test_dataset.merge(mean_check, on='user_id', how='left')\n",
        "# Средняя стоимость для каждого товара\n",
        "test_dataset = test_dataset.merge(mprice_item_id, on='item_id', how='left')\n",
        "# Средняя стоимость товаров из department, которые купил пользователь\n",
        "test_dataset = test_dataset.merge(mprice_department, on=['user_id', 'department'], how='left')\n",
        "# Средняя стоимость товаров из commodity_desc, которые купил пользователь\n",
        "test_dataset = test_dataset.merge(mprice_com_des, on=['user_id', 'commodity_desc'], how='left')\n",
        "# Средняя стоимость товаров из sub_commodity_desc, которые купил пользователь\n",
        "test_dataset = test_dataset.merge(mprice_sub_com_des, on=['user_id', 'sub_commodity_desc'], how='left')\n",
        "# Сколько раз данный пользователь купил данный товар за всю историю\n",
        "test_dataset = test_dataset.merge(total_quantity, on=['user_id', 'item_id'], how='left')\n",
        "# Сколько денег данный пользователь потратил на данный товар за всю историю\n",
        "test_dataset = test_dataset.merge(total_sales_value, on=['user_id', 'item_id'], how='left')\n",
        "# Сколько денег данный пользователь потратил на данный товар за всю историю с учетом времени\n",
        "test_dataset = test_dataset.merge(total_sales_value_t, on=['user_id', 'item_id'], how='left')\n",
        "# Сколько денег данный пользователь потратил на товары из department за всю историю\n",
        "test_dataset = test_dataset.merge(total_money_depart, on=['user_id', 'department'], how='left')\n",
        "# Сколько денег данный пользователь потратил на товары из commodity_desc за всю историю\n",
        "test_dataset = test_dataset.merge(total_money_com_desc, on=['user_id', 'commodity_desc'], how='left')\n",
        "# Сколько денег данный пользователь потратил на товары из sub_commodity_desc за всю историю\n",
        "test_dataset = test_dataset.merge(total_money_sub_com_desc, on=['user_id', 'sub_commodity_desc'], how='left')\n",
        "\n",
        "# Общее количество покупок данного пользователя товаров из department за всю историю\n",
        "test_dataset = test_dataset.merge(total_quantity_depart, on=['user_id', 'department'], how='left')\n",
        "# Общее количество покупок данного пользователя товаров из commodity_desc за всю историю\n",
        "test_dataset = test_dataset.merge(total_quantity_com_desc, on=['user_id', 'commodity_desc'], how='left')\n",
        "# Общее количество покупок данного пользователя товаров из sub_commodity_desc за всю историю\n",
        "test_dataset = test_dataset.merge(total_quantity_sub_com_desc, on=['user_id', 'sub_commodity_desc'], how='left')\n",
        "# Частотность покупок каждого пользователя\n",
        "test_dataset = test_dataset.merge(quantity_per_week, on=['user_id'], how='left')\n",
        "# Средняя сумма, которую пользователь тратит в неделю\n",
        "test_dataset = test_dataset.merge(sales_value_per_week, on=['user_id'], how='left')\n",
        "# Количество продаж данного товара в неделю\n",
        "test_dataset = test_dataset.merge(item_quan_per_week, on=['item_id'], how='left')\n",
        "# Количество продаж товаров из department в неделю\n",
        "test_dataset = test_dataset.merge(depart_quan_per_week, on=['department'], how='left')\n",
        "# Количество продаж товаров из commodity_desc в неделю\n",
        "test_dataset = test_dataset.merge(com_des_quan_per_week, on=['commodity_desc'], how='left')\n",
        "# Количество продаж товаров из sub_commodity_desc в неделю\n",
        "test_dataset = test_dataset.merge(sub_com_des_quan_per_week, on=['sub_commodity_desc'], how='left')\n",
        "# Средняя цена товаров в категории department\n",
        "test_dataset = test_dataset.merge(department_mprice, on=['department'], how='left')\n",
        "# Средняя цена товаров в категории commodity_desc\n",
        "test_dataset = test_dataset.merge(com_des_mprice, on=['commodity_desc'], how='left')\n",
        "# Средняя цена товаров в категории sub_commodity_desc\n",
        "test_dataset = test_dataset.merge(sub_com_des_mprice, on=['sub_commodity_desc'], how='left')\n",
        "\n",
        "# Надо поделить mprice_item_id на sub_com_des_mprice\n",
        "test_dataset['item_mp/scd_mp'] = test_dataset['mprice_item_id']/test_dataset['sub_com_des_mprice']\n",
        "\n",
        "# Добавляем признаки из user_features\n",
        "test_dataset = test_dataset.merge(user_features[['user_id','age_desc','income_desc','household_size_desc']], on=['user_id'], how='left')\n",
        "\n",
        "#test_dataset = test_dataset.merge(als_user_fearures, on=['user_id'], how='left')\n",
        "#test_dataset = test_dataset.merge(als_item_fearures, on=['item_id'], how='left')\n",
        "\n",
        "#test_dataset['total_quantity'] = test_dataset['total_quantity'].fillna(0)\n",
        "#test_dataset['item_sv_user'] = test_dataset['item_sv_user'].fillna(0)"
      ],
      "execution_count": 164,
      "outputs": []
    },
    {
      "cell_type": "markdown",
      "metadata": {
        "id": "h80uuaawlX5c"
      },
      "source": [
        "### 4.2.6 Получаем предсказания и обрабатываем результат"
      ]
    },
    {
      "cell_type": "code",
      "metadata": {
        "id": "PPbbbK6tk8A7",
        "outputId": "6c77f4f4-e6fb-42a8-8481-3b48dc4346e0",
        "colab": {
          "base_uri": "https://localhost:8080/",
          "height": 349
        }
      },
      "source": [
        "#test_preds = lgb.predict(test_dataset.drop(['department', 'commodity_desc', 'sub_commodity_desc'], axis=1))\n",
        "test_preds = lgb_model.predict_proba(test_dataset.drop(['department', 'commodity_desc', 'sub_commodity_desc', 'item_id', 'user_id'], axis=1))[:, 1]\n",
        "\n",
        "#test_preds = model_catb.predict_proba(test_dataset.drop(['department', 'commodity_desc', 'sub_commodity_desc'], axis=1))[:, 1]\n",
        "\n",
        "\n",
        "als_plus_lgbm = test_dataset[['user_id',\t'item_id']]\n",
        "\n",
        "als_plus_lgbm['prob'] = test_preds\n",
        "als_plus_lgbm.sort_values(by = ['user_id', 'prob'], ascending=False, inplace=True)\n",
        "als_plus_lgbm.head(3)"
      ],
      "execution_count": 165,
      "outputs": [
        {
          "output_type": "stream",
          "text": [
            "/usr/local/lib/python3.6/dist-packages/ipykernel_launcher.py:9: SettingWithCopyWarning: \n",
            "A value is trying to be set on a copy of a slice from a DataFrame.\n",
            "Try using .loc[row_indexer,col_indexer] = value instead\n",
            "\n",
            "See the caveats in the documentation: https://pandas.pydata.org/pandas-docs/stable/user_guide/indexing.html#returning-a-view-versus-a-copy\n",
            "  if __name__ == '__main__':\n",
            "/usr/local/lib/python3.6/dist-packages/ipykernel_launcher.py:10: SettingWithCopyWarning: \n",
            "A value is trying to be set on a copy of a slice from a DataFrame\n",
            "\n",
            "See the caveats in the documentation: https://pandas.pydata.org/pandas-docs/stable/user_guide/indexing.html#returning-a-view-versus-a-copy\n",
            "  # Remove the CWD from sys.path while we load stuff.\n"
          ],
          "name": "stderr"
        },
        {
          "output_type": "execute_result",
          "data": {
            "text/html": [
              "<div>\n",
              "<style scoped>\n",
              "    .dataframe tbody tr th:only-of-type {\n",
              "        vertical-align: middle;\n",
              "    }\n",
              "\n",
              "    .dataframe tbody tr th {\n",
              "        vertical-align: top;\n",
              "    }\n",
              "\n",
              "    .dataframe thead th {\n",
              "        text-align: right;\n",
              "    }\n",
              "</style>\n",
              "<table border=\"1\" class=\"dataframe\">\n",
              "  <thead>\n",
              "    <tr style=\"text-align: right;\">\n",
              "      <th></th>\n",
              "      <th>user_id</th>\n",
              "      <th>item_id</th>\n",
              "      <th>prob</th>\n",
              "    </tr>\n",
              "  </thead>\n",
              "  <tbody>\n",
              "    <tr>\n",
              "      <th>7659</th>\n",
              "      <td>2500</td>\n",
              "      <td>859237</td>\n",
              "      <td>1.000000e+00</td>\n",
              "    </tr>\n",
              "    <tr>\n",
              "      <th>7693</th>\n",
              "      <td>2500</td>\n",
              "      <td>897274</td>\n",
              "      <td>1.000000e+00</td>\n",
              "    </tr>\n",
              "    <tr>\n",
              "      <th>7696</th>\n",
              "      <td>2500</td>\n",
              "      <td>1107039</td>\n",
              "      <td>1.351266e-09</td>\n",
              "    </tr>\n",
              "  </tbody>\n",
              "</table>\n",
              "</div>"
            ],
            "text/plain": [
              "      user_id  item_id          prob\n",
              "7659     2500   859237  1.000000e+00\n",
              "7693     2500   897274  1.000000e+00\n",
              "7696     2500  1107039  1.351266e-09"
            ]
          },
          "metadata": {
            "tags": []
          },
          "execution_count": 165
        }
      ]
    },
    {
      "cell_type": "code",
      "metadata": {
        "id": "a5YP4bAN1JS9",
        "outputId": "9f835a5c-aeed-4e41-85ad-8518aad9ce71",
        "colab": {
          "base_uri": "https://localhost:8080/",
          "height": 142
        }
      },
      "source": [
        "# Группируем товары для каждого пользователя\n",
        "als_plus_lgbm = als_plus_lgbm.groupby('user_id')['item_id'].unique().reset_index()\n",
        "als_plus_lgbm.columns = ['user_id', 'lgbm_candidates']\n",
        "als_plus_lgbm['lgbm_candidates'] = als_plus_lgbm['lgbm_candidates'].apply(lambda x: x.tolist()) # Чтобы конкатенировать можно было\n",
        "als_plus_lgbm.head(3)"
      ],
      "execution_count": 166,
      "outputs": [
        {
          "output_type": "execute_result",
          "data": {
            "text/html": [
              "<div>\n",
              "<style scoped>\n",
              "    .dataframe tbody tr th:only-of-type {\n",
              "        vertical-align: middle;\n",
              "    }\n",
              "\n",
              "    .dataframe tbody tr th {\n",
              "        vertical-align: top;\n",
              "    }\n",
              "\n",
              "    .dataframe thead th {\n",
              "        text-align: right;\n",
              "    }\n",
              "</style>\n",
              "<table border=\"1\" class=\"dataframe\">\n",
              "  <thead>\n",
              "    <tr style=\"text-align: right;\">\n",
              "      <th></th>\n",
              "      <th>user_id</th>\n",
              "      <th>lgbm_candidates</th>\n",
              "    </tr>\n",
              "  </thead>\n",
              "  <tbody>\n",
              "    <tr>\n",
              "      <th>0</th>\n",
              "      <td>1</td>\n",
              "      <td>[1075074, 1025641, 5577022, 856942, 9527558, 8...</td>\n",
              "    </tr>\n",
              "    <tr>\n",
              "      <th>1</th>\n",
              "      <td>3</td>\n",
              "      <td>[1137346, 1042544, 1056005, 12810393, 9337369,...</td>\n",
              "    </tr>\n",
              "    <tr>\n",
              "      <th>2</th>\n",
              "      <td>6</td>\n",
              "      <td>[878996, 1024306, 1037863, 1119051, 845208, 89...</td>\n",
              "    </tr>\n",
              "  </tbody>\n",
              "</table>\n",
              "</div>"
            ],
            "text/plain": [
              "   user_id                                    lgbm_candidates\n",
              "0        1  [1075074, 1025641, 5577022, 856942, 9527558, 8...\n",
              "1        3  [1137346, 1042544, 1056005, 12810393, 9337369,...\n",
              "2        6  [878996, 1024306, 1037863, 1119051, 845208, 89..."
            ]
          },
          "metadata": {
            "tags": []
          },
          "execution_count": 166
        }
      ]
    },
    {
      "cell_type": "code",
      "metadata": {
        "id": "wr4wl-FlNXKa",
        "outputId": "af3f5893-e2b9-4506-af6d-e11be225255a",
        "colab": {
          "base_uri": "https://localhost:8080/",
          "height": 115,
          "referenced_widgets": [
            "8316fbd0d7f547fcac68bc284156db47",
            "e8efec61022d4f0a98f061a0335d21d5",
            "8923e953dd104392bf1170268e7e0a91",
            "da4ada1984f7428f80d04c0aa985d385",
            "30e07134bd9e4e759356a47f584044d9",
            "e4d1539bac2f492ca5eff9d788f80511",
            "6373915381d54d559281f09f6a91190f",
            "d36f4be84eec47b9925df5ce3f218afb",
            "1dedc74a209d4a599a0927e8c482b6ca",
            "0fca21cf6b1f4d82a0ed991e7ef4d764",
            "5d7a1fb0a0f7482284ab31067cc98a7f",
            "641e06b8f7624f8892f64993e61a9d89",
            "aa6f3052c4244ed18fdcf1adebbaf62c",
            "006d198e244943cd87308f9263f49f02",
            "cf9a01174ab64f65982c7e2446769969",
            "3f205b57db414403998c051b9700a91b"
          ]
        }
      },
      "source": [
        "# Попробовать без предфильтрации\n",
        "data_train_lvl_2 = FilterClass.prefilter_items(data_train_lvl_2, item_features=item_features, take_n_popular=15000)\n",
        "\n",
        "# В данном случае просто формальность, так как als или bpr не будут использоваться\n",
        "T = 25\n",
        "data_train_lvl_2['price(t)'] = (np.exp((-data_train_lvl_2['week_no'].max()+\\\n",
        "                                                  data_train_lvl_2['week_no'])/T))*\\\n",
        "                                                  data_train_lvl_2['price']\n",
        "\n",
        "# Иначе ошибки\n",
        "level_2_filter = FilterClass(data_train_lvl_1_2, item_features)\n",
        "\n",
        "level_2_model = MainRecommender(data_train_lvl_2, item_features, random_state=42)"
      ],
      "execution_count": 167,
      "outputs": [
        {
          "output_type": "display_data",
          "data": {
            "application/vnd.jupyter.widget-view+json": {
              "model_id": "8316fbd0d7f547fcac68bc284156db47",
              "version_minor": 0,
              "version_major": 2
            },
            "text/plain": [
              "HBox(children=(FloatProgress(value=0.0, max=30.0), HTML(value='')))"
            ]
          },
          "metadata": {
            "tags": []
          }
        },
        {
          "output_type": "stream",
          "text": [
            "\n"
          ],
          "name": "stdout"
        },
        {
          "output_type": "display_data",
          "data": {
            "application/vnd.jupyter.widget-view+json": {
              "model_id": "1dedc74a209d4a599a0927e8c482b6ca",
              "version_minor": 0,
              "version_major": 2
            },
            "text/plain": [
              "HBox(children=(FloatProgress(value=0.0, max=15001.0), HTML(value='')))"
            ]
          },
          "metadata": {
            "tags": []
          }
        },
        {
          "output_type": "stream",
          "text": [
            "\n"
          ],
          "name": "stdout"
        }
      ]
    },
    {
      "cell_type": "code",
      "metadata": {
        "id": "WNkLND06dP59"
      },
      "source": [
        "# Добавляем собственные покупки\n",
        "als_plus_lgbm['own_recommender'] = als_plus_lgbm['user_id'].apply(lambda x: level_2_model.get_own_recommendations(x, 50))\n",
        "# Добавляем all_top_items\n",
        "als_plus_lgbm['all_top_items'] = als_plus_lgbm['user_id'].apply(lambda x: level_2_model.get_all_top_items())\n",
        "# Добавляем  top_items_in_users_basket\n",
        "als_plus_lgbm['top_items_in_users_basket'] = als_plus_lgbm['user_id'].apply(lambda x: level_2_model.get_top_items_in_users_basket(x))\n",
        "# Добавляем top_items_for_user\n",
        "als_plus_lgbm['top_items_for_user'] = als_plus_lgbm['user_id'].apply(lambda x: level_2_model.get_top_items_for_user(x))"
      ],
      "execution_count": 168,
      "outputs": []
    },
    {
      "cell_type": "code",
      "metadata": {
        "id": "S5NDiCFe5cjd"
      },
      "source": [
        "# На основе полученного датасета выполняем постфильтрацию\n",
        "als_plus_lgbm['result'] = als_plus_lgbm.apply(lambda row: level_2_filter.postfilter_items(\n",
        "    user_id = row['user_id'],\n",
        "    lgbm_candidates = row['lgbm_candidates'],\n",
        "    own_recommender = row['own_recommender'],\n",
        "    all_top_items = row['all_top_items'],\n",
        "    top_items_in_users_basket = row['top_items_in_users_basket'],\n",
        "    top_items_for_user = row['top_items_for_user']\n",
        "), axis=1)"
      ],
      "execution_count": 169,
      "outputs": []
    },
    {
      "cell_type": "code",
      "metadata": {
        "id": "oupqEwmAvHfU"
      },
      "source": [
        "# Добавляем среднюю стоимость рекомендованных товаров\n",
        "als_plus_lgbm['prices_recommended'] = als_plus_lgbm['result'].\\\n",
        "                                  apply(lambda x: level_2_filter.get_mean_prices_from_items(x))"
      ],
      "execution_count": 170,
      "outputs": []
    },
    {
      "cell_type": "code",
      "metadata": {
        "id": "lr6m-aKRb9zo",
        "outputId": "8c8a6fec-e07a-4a48-b8f4-65ca1ff740e7",
        "colab": {
          "base_uri": "https://localhost:8080/",
          "height": 366
        }
      },
      "source": [
        "als_plus_lgbm.head(3)"
      ],
      "execution_count": 171,
      "outputs": [
        {
          "output_type": "execute_result",
          "data": {
            "text/html": [
              "<div>\n",
              "<style scoped>\n",
              "    .dataframe tbody tr th:only-of-type {\n",
              "        vertical-align: middle;\n",
              "    }\n",
              "\n",
              "    .dataframe tbody tr th {\n",
              "        vertical-align: top;\n",
              "    }\n",
              "\n",
              "    .dataframe thead th {\n",
              "        text-align: right;\n",
              "    }\n",
              "</style>\n",
              "<table border=\"1\" class=\"dataframe\">\n",
              "  <thead>\n",
              "    <tr style=\"text-align: right;\">\n",
              "      <th></th>\n",
              "      <th>user_id</th>\n",
              "      <th>lgbm_candidates</th>\n",
              "      <th>own_recommender</th>\n",
              "      <th>all_top_items</th>\n",
              "      <th>top_items_in_users_basket</th>\n",
              "      <th>top_items_for_user</th>\n",
              "      <th>result</th>\n",
              "      <th>prices_recommended</th>\n",
              "    </tr>\n",
              "  </thead>\n",
              "  <tbody>\n",
              "    <tr>\n",
              "      <th>0</th>\n",
              "      <td>1</td>\n",
              "      <td>[1075074, 1025641, 5577022, 856942, 9527558, 8...</td>\n",
              "      <td>[9527558, 829563, 8293439, 1137892, 1069103, 5...</td>\n",
              "      <td>[866211, 854852, 5569230, 1098844, 1087102, 15...</td>\n",
              "      <td>[10149640, 829563, 1035584, 15797817]</td>\n",
              "      <td>[10149640, 829563, 1035584, 15797817]</td>\n",
              "      <td>[10149640, 829563, 866211, 854852, 968072]</td>\n",
              "      <td>[6.540887445887392, 5.781617647058825, 3.31797...</td>\n",
              "    </tr>\n",
              "    <tr>\n",
              "      <th>1</th>\n",
              "      <td>3</td>\n",
              "      <td>[1137346, 1042544, 1056005, 12810393, 9337369,...</td>\n",
              "      <td>[1082185, 1029743, 995242, 1106523, 981760, 84...</td>\n",
              "      <td>[866211, 854852, 5569230, 1098844, 1087102, 15...</td>\n",
              "      <td>[]</td>\n",
              "      <td>[]</td>\n",
              "      <td>[1082185, 1029743, 854852, 1098844, 968072]</td>\n",
              "      <td>[0.9603733766233714, 2.381928737928544, 2.5015...</td>\n",
              "    </tr>\n",
              "    <tr>\n",
              "      <th>2</th>\n",
              "      <td>6</td>\n",
              "      <td>[878996, 1024306, 1037863, 1119051, 845208, 89...</td>\n",
              "      <td>[15778051, 1018553, 13115971, 1010259, 1053329...</td>\n",
              "      <td>[866211, 854852, 5569230, 1098844, 1087102, 15...</td>\n",
              "      <td>[862866, 1098844, 850102, 878996, 1008032, 101...</td>\n",
              "      <td>[1098844, 862866, 1086483, 15778051, 850102, 8...</td>\n",
              "      <td>[1098844, 862866, 854852, 1087102, 968072]</td>\n",
              "      <td>[5.744111570247894, 3.3500000000000036, 2.5015...</td>\n",
              "    </tr>\n",
              "  </tbody>\n",
              "</table>\n",
              "</div>"
            ],
            "text/plain": [
              "   user_id  ...                                 prices_recommended\n",
              "0        1  ...  [6.540887445887392, 5.781617647058825, 3.31797...\n",
              "1        3  ...  [0.9603733766233714, 2.381928737928544, 2.5015...\n",
              "2        6  ...  [5.744111570247894, 3.3500000000000036, 2.5015...\n",
              "\n",
              "[3 rows x 8 columns]"
            ]
          },
          "metadata": {
            "tags": []
          },
          "execution_count": 171
        }
      ]
    },
    {
      "cell_type": "code",
      "metadata": {
        "id": "-goi1uugZSpb"
      },
      "source": [
        "# Фильтр должен строиться на основе самого первого датасета (data_train_lvl_1)\n",
        "#filter = FilterClass(data_train_lvl_1, item_features)\n",
        "\n",
        "# Применяем постфильтрацию\n",
        "#als_plus_lgbm['candidates'] = als_plus_lgbm.apply(lambda row: filter.postfilter_items(row['user_id'], row['candidates'], \\\n",
        "#                                                                                      als_model.overall_top_purchases), axis=1)\n",
        "\n",
        "# Оставляем ТОП-5 товаров для каждого пользователя\n",
        "#als_plus_lgbm['candidates'] = als_plus_lgbm['candidates'].apply(lambda x: x[:5])\n",
        "\n",
        "\n",
        "\n",
        "# Добавляем среднюю стоимость рекомендованных товаров\n",
        "#als_plus_lgbm['prices_recommended'] = als_plus_lgbm['candidates'].\\\n",
        "#                                  apply(lambda x: filter.get_mean_prices_from_items(x))\n",
        "#als_plus_lgbm.head(3)"
      ],
      "execution_count": null,
      "outputs": []
    },
    {
      "cell_type": "code",
      "metadata": {
        "id": "ZQjc27UFlqQ_",
        "outputId": "fab1e886-5c0f-45e1-ac08-3b26506e0258",
        "colab": {
          "base_uri": "https://localhost:8080/",
          "height": 34
        }
      },
      "source": [
        "# Вычислим длины всех предложений\n",
        "als_plus_lgbm['row_len'] = als_plus_lgbm['result'].apply(lambda x: len(x))\n",
        "\n",
        "print('Кол-во рекомендаций с длиной != 5 ', als_plus_lgbm[als_plus_lgbm['row_len'] != 5].shape[0])"
      ],
      "execution_count": 172,
      "outputs": [
        {
          "output_type": "stream",
          "text": [
            "Кол-во рекомендаций с длиной != 5  0\n"
          ],
          "name": "stdout"
        }
      ]
    },
    {
      "cell_type": "code",
      "metadata": {
        "id": "6OUD8_OVlv4b",
        "outputId": "be0efd45-49b3-4b72-dbf5-3c4f9e7c21ce",
        "colab": {
          "base_uri": "https://localhost:8080/",
          "height": 267
        }
      },
      "source": [
        "als_plus_lgbm = als_plus_lgbm.drop(columns = ['row_len'])\n",
        "als_plus_lgbm.head(2)"
      ],
      "execution_count": 173,
      "outputs": [
        {
          "output_type": "execute_result",
          "data": {
            "text/html": [
              "<div>\n",
              "<style scoped>\n",
              "    .dataframe tbody tr th:only-of-type {\n",
              "        vertical-align: middle;\n",
              "    }\n",
              "\n",
              "    .dataframe tbody tr th {\n",
              "        vertical-align: top;\n",
              "    }\n",
              "\n",
              "    .dataframe thead th {\n",
              "        text-align: right;\n",
              "    }\n",
              "</style>\n",
              "<table border=\"1\" class=\"dataframe\">\n",
              "  <thead>\n",
              "    <tr style=\"text-align: right;\">\n",
              "      <th></th>\n",
              "      <th>user_id</th>\n",
              "      <th>lgbm_candidates</th>\n",
              "      <th>own_recommender</th>\n",
              "      <th>all_top_items</th>\n",
              "      <th>top_items_in_users_basket</th>\n",
              "      <th>top_items_for_user</th>\n",
              "      <th>result</th>\n",
              "      <th>prices_recommended</th>\n",
              "    </tr>\n",
              "  </thead>\n",
              "  <tbody>\n",
              "    <tr>\n",
              "      <th>0</th>\n",
              "      <td>1</td>\n",
              "      <td>[1075074, 1025641, 5577022, 856942, 9527558, 8...</td>\n",
              "      <td>[9527558, 829563, 8293439, 1137892, 1069103, 5...</td>\n",
              "      <td>[866211, 854852, 5569230, 1098844, 1087102, 15...</td>\n",
              "      <td>[10149640, 829563, 1035584, 15797817]</td>\n",
              "      <td>[10149640, 829563, 1035584, 15797817]</td>\n",
              "      <td>[10149640, 829563, 866211, 854852, 968072]</td>\n",
              "      <td>[6.540887445887392, 5.781617647058825, 3.31797...</td>\n",
              "    </tr>\n",
              "    <tr>\n",
              "      <th>1</th>\n",
              "      <td>3</td>\n",
              "      <td>[1137346, 1042544, 1056005, 12810393, 9337369,...</td>\n",
              "      <td>[1082185, 1029743, 995242, 1106523, 981760, 84...</td>\n",
              "      <td>[866211, 854852, 5569230, 1098844, 1087102, 15...</td>\n",
              "      <td>[]</td>\n",
              "      <td>[]</td>\n",
              "      <td>[1082185, 1029743, 854852, 1098844, 968072]</td>\n",
              "      <td>[0.9603733766233714, 2.381928737928544, 2.5015...</td>\n",
              "    </tr>\n",
              "  </tbody>\n",
              "</table>\n",
              "</div>"
            ],
            "text/plain": [
              "   user_id  ...                                 prices_recommended\n",
              "0        1  ...  [6.540887445887392, 5.781617647058825, 3.31797...\n",
              "1        3  ...  [0.9603733766233714, 2.381928737928544, 2.5015...\n",
              "\n",
              "[2 rows x 8 columns]"
            ]
          },
          "metadata": {
            "tags": []
          },
          "execution_count": 173
        }
      ]
    },
    {
      "cell_type": "markdown",
      "metadata": {
        "id": "pmcFuCvll7kB"
      },
      "source": [
        "### 4.2.7 Добавляем полученный результат в итоговую таблицу для оценки метрик"
      ]
    },
    {
      "cell_type": "code",
      "metadata": {
        "id": "A9luK_ictXEs",
        "outputId": "9cc2289e-6031-4f52-c45e-87eaa24bb6e8",
        "colab": {
          "base_uri": "https://localhost:8080/",
          "height": 111
        }
      },
      "source": [
        "result_lvl_2 = data_val_lvl_2.groupby('user_id')['item_id'].unique().reset_index()\n",
        "result_lvl_2.columns=['user_id', 'actual']\n",
        "result_lvl_2.head(2)"
      ],
      "execution_count": 174,
      "outputs": [
        {
          "output_type": "execute_result",
          "data": {
            "text/html": [
              "<div>\n",
              "<style scoped>\n",
              "    .dataframe tbody tr th:only-of-type {\n",
              "        vertical-align: middle;\n",
              "    }\n",
              "\n",
              "    .dataframe tbody tr th {\n",
              "        vertical-align: top;\n",
              "    }\n",
              "\n",
              "    .dataframe thead th {\n",
              "        text-align: right;\n",
              "    }\n",
              "</style>\n",
              "<table border=\"1\" class=\"dataframe\">\n",
              "  <thead>\n",
              "    <tr style=\"text-align: right;\">\n",
              "      <th></th>\n",
              "      <th>user_id</th>\n",
              "      <th>actual</th>\n",
              "    </tr>\n",
              "  </thead>\n",
              "  <tbody>\n",
              "    <tr>\n",
              "      <th>0</th>\n",
              "      <td>1</td>\n",
              "      <td>[821867, 834484, 856942, 865456, 889248, 90795...</td>\n",
              "    </tr>\n",
              "    <tr>\n",
              "      <th>1</th>\n",
              "      <td>3</td>\n",
              "      <td>[835476, 851057, 872021, 878302, 879948, 90963...</td>\n",
              "    </tr>\n",
              "  </tbody>\n",
              "</table>\n",
              "</div>"
            ],
            "text/plain": [
              "   user_id                                             actual\n",
              "0        1  [821867, 834484, 856942, 865456, 889248, 90795...\n",
              "1        3  [835476, 851057, 872021, 878302, 879948, 90963..."
            ]
          },
          "metadata": {
            "tags": []
          },
          "execution_count": 174
        }
      ]
    },
    {
      "cell_type": "code",
      "metadata": {
        "id": "QNUC4r2_lzpw",
        "outputId": "0e96874c-1929-44b1-8433-97cad359ad24",
        "colab": {
          "base_uri": "https://localhost:8080/",
          "height": 193
        }
      },
      "source": [
        "result_all = result_lvl_2.merge(als_plus_lgbm[['user_id', 'result', 'prices_recommended']], how='left', on='user_id')\n",
        "result_all.rename(columns = {'item_id': 'als_plus_lgbm'}, inplace=True)\n",
        "result_all.head(3)"
      ],
      "execution_count": 175,
      "outputs": [
        {
          "output_type": "execute_result",
          "data": {
            "text/html": [
              "<div>\n",
              "<style scoped>\n",
              "    .dataframe tbody tr th:only-of-type {\n",
              "        vertical-align: middle;\n",
              "    }\n",
              "\n",
              "    .dataframe tbody tr th {\n",
              "        vertical-align: top;\n",
              "    }\n",
              "\n",
              "    .dataframe thead th {\n",
              "        text-align: right;\n",
              "    }\n",
              "</style>\n",
              "<table border=\"1\" class=\"dataframe\">\n",
              "  <thead>\n",
              "    <tr style=\"text-align: right;\">\n",
              "      <th></th>\n",
              "      <th>user_id</th>\n",
              "      <th>actual</th>\n",
              "      <th>result</th>\n",
              "      <th>prices_recommended</th>\n",
              "    </tr>\n",
              "  </thead>\n",
              "  <tbody>\n",
              "    <tr>\n",
              "      <th>0</th>\n",
              "      <td>1</td>\n",
              "      <td>[821867, 834484, 856942, 865456, 889248, 90795...</td>\n",
              "      <td>[10149640, 829563, 866211, 854852, 968072]</td>\n",
              "      <td>[6.540887445887392, 5.781617647058825, 3.31797...</td>\n",
              "    </tr>\n",
              "    <tr>\n",
              "      <th>1</th>\n",
              "      <td>3</td>\n",
              "      <td>[835476, 851057, 872021, 878302, 879948, 90963...</td>\n",
              "      <td>[1082185, 1029743, 854852, 1098844, 968072]</td>\n",
              "      <td>[0.9603733766233714, 2.381928737928544, 2.5015...</td>\n",
              "    </tr>\n",
              "    <tr>\n",
              "      <th>2</th>\n",
              "      <td>6</td>\n",
              "      <td>[920308, 926804, 946489, 1006718, 1017061, 107...</td>\n",
              "      <td>[1098844, 862866, 854852, 1087102, 968072]</td>\n",
              "      <td>[5.744111570247894, 3.3500000000000036, 2.5015...</td>\n",
              "    </tr>\n",
              "  </tbody>\n",
              "</table>\n",
              "</div>"
            ],
            "text/plain": [
              "   user_id  ...                                 prices_recommended\n",
              "0        1  ...  [6.540887445887392, 5.781617647058825, 3.31797...\n",
              "1        3  ...  [0.9603733766233714, 2.381928737928544, 2.5015...\n",
              "2        6  ...  [5.744111570247894, 3.3500000000000036, 2.5015...\n",
              "\n",
              "[3 rows x 4 columns]"
            ]
          },
          "metadata": {
            "tags": []
          },
          "execution_count": 175
        }
      ]
    },
    {
      "cell_type": "code",
      "metadata": {
        "id": "7VJZMEI-mCQa",
        "outputId": "b9706fc2-eb90-450b-c8dd-b6afbe368cfa",
        "colab": {
          "base_uri": "https://localhost:8080/",
          "height": 34
        }
      },
      "source": [
        "result_all.apply(lambda row: precision_at_k(row['result'], row['actual'], k=5), axis=1).mean()"
      ],
      "execution_count": 176,
      "outputs": [
        {
          "output_type": "execute_result",
          "data": {
            "text/plain": [
              "0.07522037218413333"
            ]
          },
          "metadata": {
            "tags": []
          },
          "execution_count": 176
        }
      ]
    },
    {
      "cell_type": "code",
      "metadata": {
        "id": "cAcUvvoxjeis",
        "outputId": "638c5fee-7083-4950-f68a-d687f946af0e",
        "colab": {
          "base_uri": "https://localhost:8080/",
          "height": 34
        }
      },
      "source": [
        "result_all.apply(lambda row: money_precision_at_k(row['result'], row['actual'], row['prices_recommended'], k=5), axis=1).mean()"
      ],
      "execution_count": 177,
      "outputs": [
        {
          "output_type": "execute_result",
          "data": {
            "text/plain": [
              "0.06735255898270959"
            ]
          },
          "metadata": {
            "tags": []
          },
          "execution_count": 177
        }
      ]
    },
    {
      "cell_type": "code",
      "metadata": {
        "id": "hTJWKtWEmJgz",
        "outputId": "1f167e29-5896-434a-cc91-27409ad3627e",
        "colab": {
          "base_uri": "https://localhost:8080/",
          "height": 312
        }
      },
      "source": [
        "lightgbm.plot_importance(lgb_model, max_num_features=10)"
      ],
      "execution_count": 178,
      "outputs": [
        {
          "output_type": "execute_result",
          "data": {
            "text/plain": [
              "<matplotlib.axes._subplots.AxesSubplot at 0x7fa55745c7b8>"
            ]
          },
          "metadata": {
            "tags": []
          },
          "execution_count": 178
        },
        {
          "output_type": "display_data",
          "data": {
            "image/png": "[encoded data removed]",
            "text/plain": [
              "<Figure size 432x288 with 1 Axes>"
            ]
          },
          "metadata": {
            "tags": [],
            "needs_background": "light"
          }
        }
      ]
    },
    {
      "cell_type": "code",
      "metadata": {
        "id": "C34kEMDQ9pr5"
      },
      "source": [
        "# Добавить для пользователей признак - частотность похода в магазин (по корзинам)\n",
        "# Предфильрация для train_lvl_2 - убрать дорогие (или вообще prefilerом обработать)\n",
        "# Попробовать моделью первого уровня сделать и постфильтр\n",
        "\n",
        "# Признак для бустинга - число уникальных пользователей, купивших данный товар"
      ],
      "execution_count": null,
      "outputs": []
    }
  ]
}