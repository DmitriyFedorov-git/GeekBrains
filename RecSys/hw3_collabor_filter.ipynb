{
  "nbformat": 4,
  "nbformat_minor": 0,
  "metadata": {
    "kernelspec": {
      "display_name": "Python 3",
      "language": "python",
      "name": "python3"
    },
    "language_info": {
      "codemirror_mode": {
        "name": "ipython",
        "version": 3
      },
      "file_extension": ".py",
      "mimetype": "text/x-python",
      "name": "python",
      "nbconvert_exporter": "python",
      "pygments_lexer": "ipython3",
      "version": "3.7.3"
    },
    "colab": {
      "name": "hw_webinar_3.ipynb",
      "provenance": [],
      "collapsed_sections": [],
      "toc_visible": true
    }
  },
  "cells": [
    {
      "cell_type": "markdown",
      "metadata": {
        "id": "OIyO59Etubjg",
        "colab_type": "text"
      },
      "source": [
        "1. В чем принципиальные отличия item-item рекомендаций от ALS?"
      ]
    },
    {
      "cell_type": "markdown",
      "metadata": {
        "id": "eSzwoBAfuj8h",
        "colab_type": "text"
      },
      "source": [
        "*   item-item рекомендации основаны на поиске ближайших соседей (пользователей) и вычислении среднего скора для различных товаров на основе скоров этих ближайших соседей;\n",
        "*   item-item рекомендации работают с исходной матрицей user-item;\n",
        "*   ALS - способ оптимизации (поиска коэффициентов в эмбеддингах) используется для разложения user-item матрицы на 2: матрицу латентных факторов юзеров и матрицу латентных факторов товаров;\n",
        "*   после разложения ALS можно работать с векторами представлений пользователей и товаров, которые имеют размерность, гораздо меньшую, чем исходные данные \n",
        "*    ALS воспринимает исходную user-item матрицу как матрицу из 1 и 0;\n",
        "*   ALS рекомендации могут использоваться, когда количество товаров и пользователей достаточно велико.\n",
        "\n",
        "\n",
        "\n"
      ]
    },
    {
      "cell_type": "markdown",
      "metadata": {
        "id": "iRStF9kTubxv",
        "colab_type": "text"
      },
      "source": [
        "2. Приведите 3 примера весов user-item матрицы для задачи рекомендаций товаров"
      ]
    },
    {
      "cell_type": "markdown",
      "metadata": {
        "id": "lD1xvzY0-fNY",
        "colab_type": "text"
      },
      "source": [
        "*   количество раз, которые данный пользователь купил данный товар;\n",
        "*   сумма денег, которую данный пользователь потратил на данный товар;\n",
        "*   количество баллов, которые данный пользователь поставил данному товару.\n",
        "\n",
        "\n",
        "\n"
      ]
    },
    {
      "cell_type": "markdown",
      "metadata": {
        "id": "vzUtgscDukbd",
        "colab_type": "text"
      },
      "source": [
        ""
      ]
    },
    {
      "cell_type": "markdown",
      "metadata": {
        "id": "d2pPssOkub6O",
        "colab_type": "text"
      },
      "source": [
        "3. Какие ограничения есть у ALS? (Тип информации, линейность/нелинейность факторов и т д)"
      ]
    },
    {
      "cell_type": "markdown",
      "metadata": {
        "id": "ebvqIBL7ule9",
        "colab_type": "text"
      },
      "source": [
        "*   не учитываются признаки пользователей и товаров;\n",
        "*   не учитывается сезонность;\n",
        "*   предсказываетя не вероятность, а некоторое число;\n",
        "*   предсказание является линейной комбинацией скрытых факторов.\n",
        "\n",
        "\n",
        "\n",
        "\n",
        "\n",
        "\n"
      ]
    }
  ]
}