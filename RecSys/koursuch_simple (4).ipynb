{
  "nbformat": 4,
  "nbformat_minor": 0,
  "metadata": {
    "colab": {
      "name": "koursuch_simple.ipynb",
      "provenance": [],
      "collapsed_sections": [],
      "toc_visible": true
    },
    "kernelspec": {
      "name": "python3",
      "display_name": "Python 3"
    },
    "accelerator": "GPU",
    "widgets": {
      "application/vnd.jupyter.widget-state+json": {
        "1ef8c824061e42b4be2da1637c727fdb": {
          "model_module": "@jupyter-widgets/controls",
          "model_name": "HBoxModel",
          "state": {
            "_view_name": "HBoxView",
            "_dom_classes": [],
            "_model_name": "HBoxModel",
            "_view_module": "@jupyter-widgets/controls",
            "_model_module_version": "1.5.0",
            "_view_count": null,
            "_view_module_version": "1.5.0",
            "box_style": "",
            "layout": "IPY_MODEL_32ed331a62ba40e483e3ea9320d95339",
            "_model_module": "@jupyter-widgets/controls",
            "children": [
              "IPY_MODEL_7bc434fd50434b7b863128afa233b7f7",
              "IPY_MODEL_d3102279fc0b4a7390892fce79403e70"
            ]
          }
        },
        "32ed331a62ba40e483e3ea9320d95339": {
          "model_module": "@jupyter-widgets/base",
          "model_name": "LayoutModel",
          "state": {
            "_view_name": "LayoutView",
            "grid_template_rows": null,
            "right": null,
            "justify_content": null,
            "_view_module": "@jupyter-widgets/base",
            "overflow": null,
            "_model_module_version": "1.2.0",
            "_view_count": null,
            "flex_flow": null,
            "width": null,
            "min_width": null,
            "border": null,
            "align_items": null,
            "bottom": null,
            "_model_module": "@jupyter-widgets/base",
            "top": null,
            "grid_column": null,
            "overflow_y": null,
            "overflow_x": null,
            "grid_auto_flow": null,
            "grid_area": null,
            "grid_template_columns": null,
            "flex": null,
            "_model_name": "LayoutModel",
            "justify_items": null,
            "grid_row": null,
            "max_height": null,
            "align_content": null,
            "visibility": null,
            "align_self": null,
            "height": null,
            "min_height": null,
            "padding": null,
            "grid_auto_rows": null,
            "grid_gap": null,
            "max_width": null,
            "order": null,
            "_view_module_version": "1.2.0",
            "grid_template_areas": null,
            "object_position": null,
            "object_fit": null,
            "grid_auto_columns": null,
            "margin": null,
            "display": null,
            "left": null
          }
        },
        "7bc434fd50434b7b863128afa233b7f7": {
          "model_module": "@jupyter-widgets/controls",
          "model_name": "FloatProgressModel",
          "state": {
            "_view_name": "ProgressView",
            "style": "IPY_MODEL_81c1c4f1853945288bd3758b02287983",
            "_dom_classes": [],
            "description": "100%",
            "_model_name": "FloatProgressModel",
            "bar_style": "success",
            "max": 30,
            "_view_module": "@jupyter-widgets/controls",
            "_model_module_version": "1.5.0",
            "value": 30,
            "_view_count": null,
            "_view_module_version": "1.5.0",
            "orientation": "horizontal",
            "min": 0,
            "description_tooltip": null,
            "_model_module": "@jupyter-widgets/controls",
            "layout": "IPY_MODEL_88651ac369c54cd4920acde9654772df"
          }
        },
        "d3102279fc0b4a7390892fce79403e70": {
          "model_module": "@jupyter-widgets/controls",
          "model_name": "HTMLModel",
          "state": {
            "_view_name": "HTMLView",
            "style": "IPY_MODEL_c10129d77ebf4b99a57cd2e50c573289",
            "_dom_classes": [],
            "description": "",
            "_model_name": "HTMLModel",
            "placeholder": "​",
            "_view_module": "@jupyter-widgets/controls",
            "_model_module_version": "1.5.0",
            "value": " 30/30 [00:13&lt;00:00,  2.16it/s]",
            "_view_count": null,
            "_view_module_version": "1.5.0",
            "description_tooltip": null,
            "_model_module": "@jupyter-widgets/controls",
            "layout": "IPY_MODEL_30fdcb2aa36b440db0a3958bd0e50d3a"
          }
        },
        "81c1c4f1853945288bd3758b02287983": {
          "model_module": "@jupyter-widgets/controls",
          "model_name": "ProgressStyleModel",
          "state": {
            "_view_name": "StyleView",
            "_model_name": "ProgressStyleModel",
            "description_width": "initial",
            "_view_module": "@jupyter-widgets/base",
            "_model_module_version": "1.5.0",
            "_view_count": null,
            "_view_module_version": "1.2.0",
            "bar_color": null,
            "_model_module": "@jupyter-widgets/controls"
          }
        },
        "88651ac369c54cd4920acde9654772df": {
          "model_module": "@jupyter-widgets/base",
          "model_name": "LayoutModel",
          "state": {
            "_view_name": "LayoutView",
            "grid_template_rows": null,
            "right": null,
            "justify_content": null,
            "_view_module": "@jupyter-widgets/base",
            "overflow": null,
            "_model_module_version": "1.2.0",
            "_view_count": null,
            "flex_flow": null,
            "width": null,
            "min_width": null,
            "border": null,
            "align_items": null,
            "bottom": null,
            "_model_module": "@jupyter-widgets/base",
            "top": null,
            "grid_column": null,
            "overflow_y": null,
            "overflow_x": null,
            "grid_auto_flow": null,
            "grid_area": null,
            "grid_template_columns": null,
            "flex": null,
            "_model_name": "LayoutModel",
            "justify_items": null,
            "grid_row": null,
            "max_height": null,
            "align_content": null,
            "visibility": null,
            "align_self": null,
            "height": null,
            "min_height": null,
            "padding": null,
            "grid_auto_rows": null,
            "grid_gap": null,
            "max_width": null,
            "order": null,
            "_view_module_version": "1.2.0",
            "grid_template_areas": null,
            "object_position": null,
            "object_fit": null,
            "grid_auto_columns": null,
            "margin": null,
            "display": null,
            "left": null
          }
        },
        "c10129d77ebf4b99a57cd2e50c573289": {
          "model_module": "@jupyter-widgets/controls",
          "model_name": "DescriptionStyleModel",
          "state": {
            "_view_name": "StyleView",
            "_model_name": "DescriptionStyleModel",
            "description_width": "",
            "_view_module": "@jupyter-widgets/base",
            "_model_module_version": "1.5.0",
            "_view_count": null,
            "_view_module_version": "1.2.0",
            "_model_module": "@jupyter-widgets/controls"
          }
        },
        "30fdcb2aa36b440db0a3958bd0e50d3a": {
          "model_module": "@jupyter-widgets/base",
          "model_name": "LayoutModel",
          "state": {
            "_view_name": "LayoutView",
            "grid_template_rows": null,
            "right": null,
            "justify_content": null,
            "_view_module": "@jupyter-widgets/base",
            "overflow": null,
            "_model_module_version": "1.2.0",
            "_view_count": null,
            "flex_flow": null,
            "width": null,
            "min_width": null,
            "border": null,
            "align_items": null,
            "bottom": null,
            "_model_module": "@jupyter-widgets/base",
            "top": null,
            "grid_column": null,
            "overflow_y": null,
            "overflow_x": null,
            "grid_auto_flow": null,
            "grid_area": null,
            "grid_template_columns": null,
            "flex": null,
            "_model_name": "LayoutModel",
            "justify_items": null,
            "grid_row": null,
            "max_height": null,
            "align_content": null,
            "visibility": null,
            "align_self": null,
            "height": null,
            "min_height": null,
            "padding": null,
            "grid_auto_rows": null,
            "grid_gap": null,
            "max_width": null,
            "order": null,
            "_view_module_version": "1.2.0",
            "grid_template_areas": null,
            "object_position": null,
            "object_fit": null,
            "grid_auto_columns": null,
            "margin": null,
            "display": null,
            "left": null
          }
        },
        "72aac03e5264463d8fed4e2c1c590050": {
          "model_module": "@jupyter-widgets/controls",
          "model_name": "HBoxModel",
          "state": {
            "_view_name": "HBoxView",
            "_dom_classes": [],
            "_model_name": "HBoxModel",
            "_view_module": "@jupyter-widgets/controls",
            "_model_module_version": "1.5.0",
            "_view_count": null,
            "_view_module_version": "1.5.0",
            "box_style": "",
            "layout": "IPY_MODEL_e81fb54a912d42d58d859365445adcb4",
            "_model_module": "@jupyter-widgets/controls",
            "children": [
              "IPY_MODEL_26acf8260a7144848d0cb7ec63e86ef7",
              "IPY_MODEL_e20afd873e374b7ea1e9f102e111bee4"
            ]
          }
        },
        "e81fb54a912d42d58d859365445adcb4": {
          "model_module": "@jupyter-widgets/base",
          "model_name": "LayoutModel",
          "state": {
            "_view_name": "LayoutView",
            "grid_template_rows": null,
            "right": null,
            "justify_content": null,
            "_view_module": "@jupyter-widgets/base",
            "overflow": null,
            "_model_module_version": "1.2.0",
            "_view_count": null,
            "flex_flow": null,
            "width": null,
            "min_width": null,
            "border": null,
            "align_items": null,
            "bottom": null,
            "_model_module": "@jupyter-widgets/base",
            "top": null,
            "grid_column": null,
            "overflow_y": null,
            "overflow_x": null,
            "grid_auto_flow": null,
            "grid_area": null,
            "grid_template_columns": null,
            "flex": null,
            "_model_name": "LayoutModel",
            "justify_items": null,
            "grid_row": null,
            "max_height": null,
            "align_content": null,
            "visibility": null,
            "align_self": null,
            "height": null,
            "min_height": null,
            "padding": null,
            "grid_auto_rows": null,
            "grid_gap": null,
            "max_width": null,
            "order": null,
            "_view_module_version": "1.2.0",
            "grid_template_areas": null,
            "object_position": null,
            "object_fit": null,
            "grid_auto_columns": null,
            "margin": null,
            "display": null,
            "left": null
          }
        },
        "26acf8260a7144848d0cb7ec63e86ef7": {
          "model_module": "@jupyter-widgets/controls",
          "model_name": "FloatProgressModel",
          "state": {
            "_view_name": "ProgressView",
            "style": "IPY_MODEL_af498ea5df724967bcf6c21e10a94601",
            "_dom_classes": [],
            "description": "100%",
            "_model_name": "FloatProgressModel",
            "bar_style": "success",
            "max": 5001,
            "_view_module": "@jupyter-widgets/controls",
            "_model_module_version": "1.5.0",
            "value": 5001,
            "_view_count": null,
            "_view_module_version": "1.5.0",
            "orientation": "horizontal",
            "min": 0,
            "description_tooltip": null,
            "_model_module": "@jupyter-widgets/controls",
            "layout": "IPY_MODEL_c0c44c7578c64ababffc8a201b87a06c"
          }
        },
        "e20afd873e374b7ea1e9f102e111bee4": {
          "model_module": "@jupyter-widgets/controls",
          "model_name": "HTMLModel",
          "state": {
            "_view_name": "HTMLView",
            "style": "IPY_MODEL_0274ceb8c7354c5a9157ad11cc8307ce",
            "_dom_classes": [],
            "description": "",
            "_model_name": "HTMLModel",
            "placeholder": "​",
            "_view_module": "@jupyter-widgets/controls",
            "_model_module_version": "1.5.0",
            "value": " 5001/5001 [00:08&lt;00:00, 575.76it/s]",
            "_view_count": null,
            "_view_module_version": "1.5.0",
            "description_tooltip": null,
            "_model_module": "@jupyter-widgets/controls",
            "layout": "IPY_MODEL_bb51b6156ba74b9d9b08ee9d0d75e454"
          }
        },
        "af498ea5df724967bcf6c21e10a94601": {
          "model_module": "@jupyter-widgets/controls",
          "model_name": "ProgressStyleModel",
          "state": {
            "_view_name": "StyleView",
            "_model_name": "ProgressStyleModel",
            "description_width": "initial",
            "_view_module": "@jupyter-widgets/base",
            "_model_module_version": "1.5.0",
            "_view_count": null,
            "_view_module_version": "1.2.0",
            "bar_color": null,
            "_model_module": "@jupyter-widgets/controls"
          }
        },
        "c0c44c7578c64ababffc8a201b87a06c": {
          "model_module": "@jupyter-widgets/base",
          "model_name": "LayoutModel",
          "state": {
            "_view_name": "LayoutView",
            "grid_template_rows": null,
            "right": null,
            "justify_content": null,
            "_view_module": "@jupyter-widgets/base",
            "overflow": null,
            "_model_module_version": "1.2.0",
            "_view_count": null,
            "flex_flow": null,
            "width": null,
            "min_width": null,
            "border": null,
            "align_items": null,
            "bottom": null,
            "_model_module": "@jupyter-widgets/base",
            "top": null,
            "grid_column": null,
            "overflow_y": null,
            "overflow_x": null,
            "grid_auto_flow": null,
            "grid_area": null,
            "grid_template_columns": null,
            "flex": null,
            "_model_name": "LayoutModel",
            "justify_items": null,
            "grid_row": null,
            "max_height": null,
            "align_content": null,
            "visibility": null,
            "align_self": null,
            "height": null,
            "min_height": null,
            "padding": null,
            "grid_auto_rows": null,
            "grid_gap": null,
            "max_width": null,
            "order": null,
            "_view_module_version": "1.2.0",
            "grid_template_areas": null,
            "object_position": null,
            "object_fit": null,
            "grid_auto_columns": null,
            "margin": null,
            "display": null,
            "left": null
          }
        },
        "0274ceb8c7354c5a9157ad11cc8307ce": {
          "model_module": "@jupyter-widgets/controls",
          "model_name": "DescriptionStyleModel",
          "state": {
            "_view_name": "StyleView",
            "_model_name": "DescriptionStyleModel",
            "description_width": "",
            "_view_module": "@jupyter-widgets/base",
            "_model_module_version": "1.5.0",
            "_view_count": null,
            "_view_module_version": "1.2.0",
            "_model_module": "@jupyter-widgets/controls"
          }
        },
        "bb51b6156ba74b9d9b08ee9d0d75e454": {
          "model_module": "@jupyter-widgets/base",
          "model_name": "LayoutModel",
          "state": {
            "_view_name": "LayoutView",
            "grid_template_rows": null,
            "right": null,
            "justify_content": null,
            "_view_module": "@jupyter-widgets/base",
            "overflow": null,
            "_model_module_version": "1.2.0",
            "_view_count": null,
            "flex_flow": null,
            "width": null,
            "min_width": null,
            "border": null,
            "align_items": null,
            "bottom": null,
            "_model_module": "@jupyter-widgets/base",
            "top": null,
            "grid_column": null,
            "overflow_y": null,
            "overflow_x": null,
            "grid_auto_flow": null,
            "grid_area": null,
            "grid_template_columns": null,
            "flex": null,
            "_model_name": "LayoutModel",
            "justify_items": null,
            "grid_row": null,
            "max_height": null,
            "align_content": null,
            "visibility": null,
            "align_self": null,
            "height": null,
            "min_height": null,
            "padding": null,
            "grid_auto_rows": null,
            "grid_gap": null,
            "max_width": null,
            "order": null,
            "_view_module_version": "1.2.0",
            "grid_template_areas": null,
            "object_position": null,
            "object_fit": null,
            "grid_auto_columns": null,
            "margin": null,
            "display": null,
            "left": null
          }
        }
      }
    }
  },
  "cells": [
    {
      "cell_type": "markdown",
      "metadata": {
        "id": "IGs2TQkxxP4a"
      },
      "source": [
        "# 1. Подготовка данных"
      ]
    },
    {
      "cell_type": "code",
      "metadata": {
        "id": "UjZ4SeVurPu3",
        "outputId": "933c6d78-2485-41cf-f98e-2d0978ecf520",
        "colab": {
          "base_uri": "https://localhost:8080/",
          "height": 258
        }
      },
      "source": [
        "!pip install implicit==0.4.0"
      ],
      "execution_count": 1,
      "outputs": [
        {
          "output_type": "stream",
          "text": [
            "Collecting implicit==0.4.0\n",
            "\u001b[?25l  Downloading https://files.pythonhosted.org/packages/c4/4d/47e8d8c9966a8aa5aa66de5bdd1eb608dee9b7b9305561f179c6249510e3/implicit-0.4.0.tar.gz (1.1MB)\n",
            "\r\u001b[K     |▎                               | 10kB 21.9MB/s eta 0:00:01\r\u001b[K     |▋                               | 20kB 3.0MB/s eta 0:00:01\r\u001b[K     |▉                               | 30kB 3.9MB/s eta 0:00:01\r\u001b[K     |█▏                              | 40kB 4.3MB/s eta 0:00:01\r\u001b[K     |█▌                              | 51kB 3.6MB/s eta 0:00:01\r\u001b[K     |█▊                              | 61kB 3.9MB/s eta 0:00:01\r\u001b[K     |██                              | 71kB 4.3MB/s eta 0:00:01\r\u001b[K     |██▍                             | 81kB 4.6MB/s eta 0:00:01\r\u001b[K     |██▋                             | 92kB 4.9MB/s eta 0:00:01\r\u001b[K     |███                             | 102kB 4.8MB/s eta 0:00:01\r\u001b[K     |███▎                            | 112kB 4.8MB/s eta 0:00:01\r\u001b[K     |███▌                            | 122kB 4.8MB/s eta 0:00:01\r\u001b[K     |███▉                            | 133kB 4.8MB/s eta 0:00:01\r\u001b[K     |████▏                           | 143kB 4.8MB/s eta 0:00:01\r\u001b[K     |████▍                           | 153kB 4.8MB/s eta 0:00:01\r\u001b[K     |████▊                           | 163kB 4.8MB/s eta 0:00:01\r\u001b[K     |█████                           | 174kB 4.8MB/s eta 0:00:01\r\u001b[K     |█████▎                          | 184kB 4.8MB/s eta 0:00:01\r\u001b[K     |█████▋                          | 194kB 4.8MB/s eta 0:00:01\r\u001b[K     |██████                          | 204kB 4.8MB/s eta 0:00:01\r\u001b[K     |██████▏                         | 215kB 4.8MB/s eta 0:00:01\r\u001b[K     |██████▌                         | 225kB 4.8MB/s eta 0:00:01\r\u001b[K     |██████▉                         | 235kB 4.8MB/s eta 0:00:01\r\u001b[K     |███████                         | 245kB 4.8MB/s eta 0:00:01\r\u001b[K     |███████▍                        | 256kB 4.8MB/s eta 0:00:01\r\u001b[K     |███████▊                        | 266kB 4.8MB/s eta 0:00:01\r\u001b[K     |████████                        | 276kB 4.8MB/s eta 0:00:01\r\u001b[K     |████████▎                       | 286kB 4.8MB/s eta 0:00:01\r\u001b[K     |████████▋                       | 296kB 4.8MB/s eta 0:00:01\r\u001b[K     |████████▉                       | 307kB 4.8MB/s eta 0:00:01\r\u001b[K     |█████████▏                      | 317kB 4.8MB/s eta 0:00:01\r\u001b[K     |█████████▌                      | 327kB 4.8MB/s eta 0:00:01\r\u001b[K     |█████████▊                      | 337kB 4.8MB/s eta 0:00:01\r\u001b[K     |██████████                      | 348kB 4.8MB/s eta 0:00:01\r\u001b[K     |██████████▍                     | 358kB 4.8MB/s eta 0:00:01\r\u001b[K     |██████████▋                     | 368kB 4.8MB/s eta 0:00:01\r\u001b[K     |███████████                     | 378kB 4.8MB/s eta 0:00:01\r\u001b[K     |███████████▎                    | 389kB 4.8MB/s eta 0:00:01\r\u001b[K     |███████████▌                    | 399kB 4.8MB/s eta 0:00:01\r\u001b[K     |███████████▉                    | 409kB 4.8MB/s eta 0:00:01\r\u001b[K     |████████████▏                   | 419kB 4.8MB/s eta 0:00:01\r\u001b[K     |████████████▍                   | 430kB 4.8MB/s eta 0:00:01\r\u001b[K     |████████████▊                   | 440kB 4.8MB/s eta 0:00:01\r\u001b[K     |█████████████                   | 450kB 4.8MB/s eta 0:00:01\r\u001b[K     |█████████████▎                  | 460kB 4.8MB/s eta 0:00:01\r\u001b[K     |█████████████▋                  | 471kB 4.8MB/s eta 0:00:01\r\u001b[K     |█████████████▉                  | 481kB 4.8MB/s eta 0:00:01\r\u001b[K     |██████████████▏                 | 491kB 4.8MB/s eta 0:00:01\r\u001b[K     |██████████████▌                 | 501kB 4.8MB/s eta 0:00:01\r\u001b[K     |██████████████▊                 | 512kB 4.8MB/s eta 0:00:01\r\u001b[K     |███████████████                 | 522kB 4.8MB/s eta 0:00:01\r\u001b[K     |███████████████▍                | 532kB 4.8MB/s eta 0:00:01\r\u001b[K     |███████████████▋                | 542kB 4.8MB/s eta 0:00:01\r\u001b[K     |████████████████                | 552kB 4.8MB/s eta 0:00:01\r\u001b[K     |████████████████▎               | 563kB 4.8MB/s eta 0:00:01\r\u001b[K     |████████████████▌               | 573kB 4.8MB/s eta 0:00:01\r\u001b[K     |████████████████▉               | 583kB 4.8MB/s eta 0:00:01\r\u001b[K     |█████████████████▏              | 593kB 4.8MB/s eta 0:00:01\r\u001b[K     |█████████████████▍              | 604kB 4.8MB/s eta 0:00:01\r\u001b[K     |█████████████████▊              | 614kB 4.8MB/s eta 0:00:01\r\u001b[K     |██████████████████              | 624kB 4.8MB/s eta 0:00:01\r\u001b[K     |██████████████████▎             | 634kB 4.8MB/s eta 0:00:01\r\u001b[K     |██████████████████▋             | 645kB 4.8MB/s eta 0:00:01\r\u001b[K     |███████████████████             | 655kB 4.8MB/s eta 0:00:01\r\u001b[K     |███████████████████▏            | 665kB 4.8MB/s eta 0:00:01\r\u001b[K     |███████████████████▌            | 675kB 4.8MB/s eta 0:00:01\r\u001b[K     |███████████████████▉            | 686kB 4.8MB/s eta 0:00:01\r\u001b[K     |████████████████████            | 696kB 4.8MB/s eta 0:00:01\r\u001b[K     |████████████████████▍           | 706kB 4.8MB/s eta 0:00:01\r\u001b[K     |████████████████████▊           | 716kB 4.8MB/s eta 0:00:01\r\u001b[K     |█████████████████████           | 727kB 4.8MB/s eta 0:00:01\r\u001b[K     |█████████████████████▎          | 737kB 4.8MB/s eta 0:00:01\r\u001b[K     |█████████████████████▋          | 747kB 4.8MB/s eta 0:00:01\r\u001b[K     |█████████████████████▉          | 757kB 4.8MB/s eta 0:00:01\r\u001b[K     |██████████████████████▏         | 768kB 4.8MB/s eta 0:00:01\r\u001b[K     |██████████████████████▌         | 778kB 4.8MB/s eta 0:00:01\r\u001b[K     |██████████████████████▊         | 788kB 4.8MB/s eta 0:00:01\r\u001b[K     |███████████████████████         | 798kB 4.8MB/s eta 0:00:01\r\u001b[K     |███████████████████████▍        | 808kB 4.8MB/s eta 0:00:01\r\u001b[K     |███████████████████████▋        | 819kB 4.8MB/s eta 0:00:01\r\u001b[K     |████████████████████████        | 829kB 4.8MB/s eta 0:00:01\r\u001b[K     |████████████████████████▎       | 839kB 4.8MB/s eta 0:00:01\r\u001b[K     |████████████████████████▌       | 849kB 4.8MB/s eta 0:00:01\r\u001b[K     |████████████████████████▉       | 860kB 4.8MB/s eta 0:00:01\r\u001b[K     |█████████████████████████▏      | 870kB 4.8MB/s eta 0:00:01\r\u001b[K     |█████████████████████████▍      | 880kB 4.8MB/s eta 0:00:01\r\u001b[K     |█████████████████████████▊      | 890kB 4.8MB/s eta 0:00:01\r\u001b[K     |██████████████████████████      | 901kB 4.8MB/s eta 0:00:01\r\u001b[K     |██████████████████████████▎     | 911kB 4.8MB/s eta 0:00:01\r\u001b[K     |██████████████████████████▋     | 921kB 4.8MB/s eta 0:00:01\r\u001b[K     |██████████████████████████▉     | 931kB 4.8MB/s eta 0:00:01\r\u001b[K     |███████████████████████████▏    | 942kB 4.8MB/s eta 0:00:01\r\u001b[K     |███████████████████████████▌    | 952kB 4.8MB/s eta 0:00:01\r\u001b[K     |███████████████████████████▊    | 962kB 4.8MB/s eta 0:00:01\r\u001b[K     |████████████████████████████    | 972kB 4.8MB/s eta 0:00:01\r\u001b[K     |████████████████████████████▍   | 983kB 4.8MB/s eta 0:00:01\r\u001b[K     |████████████████████████████▋   | 993kB 4.8MB/s eta 0:00:01\r\u001b[K     |█████████████████████████████   | 1.0MB 4.8MB/s eta 0:00:01\r\u001b[K     |█████████████████████████████▎  | 1.0MB 4.8MB/s eta 0:00:01\r\u001b[K     |█████████████████████████████▌  | 1.0MB 4.8MB/s eta 0:00:01\r\u001b[K     |█████████████████████████████▉  | 1.0MB 4.8MB/s eta 0:00:01\r\u001b[K     |██████████████████████████████▏ | 1.0MB 4.8MB/s eta 0:00:01\r\u001b[K     |██████████████████████████████▍ | 1.1MB 4.8MB/s eta 0:00:01\r\u001b[K     |██████████████████████████████▊ | 1.1MB 4.8MB/s eta 0:00:01\r\u001b[K     |███████████████████████████████ | 1.1MB 4.8MB/s eta 0:00:01\r\u001b[K     |███████████████████████████████▎| 1.1MB 4.8MB/s eta 0:00:01\r\u001b[K     |███████████████████████████████▋| 1.1MB 4.8MB/s eta 0:00:01\r\u001b[K     |████████████████████████████████| 1.1MB 4.8MB/s eta 0:00:01\r\u001b[K     |████████████████████████████████| 1.1MB 4.8MB/s \n",
            "\u001b[?25hRequirement already satisfied: numpy in /usr/local/lib/python3.6/dist-packages (from implicit==0.4.0) (1.18.5)\n",
            "Requirement already satisfied: scipy>=0.16 in /usr/local/lib/python3.6/dist-packages (from implicit==0.4.0) (1.4.1)\n",
            "Requirement already satisfied: tqdm>=4.27 in /usr/local/lib/python3.6/dist-packages (from implicit==0.4.0) (4.41.1)\n",
            "Building wheels for collected packages: implicit\n",
            "  Building wheel for implicit (setup.py) ... \u001b[?25l\u001b[?25hdone\n",
            "  Created wheel for implicit: filename=implicit-0.4.0-cp36-cp36m-linux_x86_64.whl size=3390326 sha256=1613ba44c04b345648d0b57ceeae4b58b402902e00c7deba175e82840eda66df\n",
            "  Stored in directory: /root/.cache/pip/wheels/fd/d1/66/84e83191d9f626c521271023e4ef83e634e3b8c154f2c4b2da\n",
            "Successfully built implicit\n",
            "Installing collected packages: implicit\n",
            "Successfully installed implicit-0.4.0\n"
          ],
          "name": "stdout"
        }
      ]
    },
    {
      "cell_type": "code",
      "metadata": {
        "id": "phMJVzZ4ri0T"
      },
      "source": [
        "import pandas as pd\n",
        "import numpy as np\n",
        "import matplotlib.pyplot as plt\n",
        "%matplotlib inline\n",
        "\n",
        "\n",
        "# Для работы с матрицами\n",
        "from scipy.sparse import csr_matrix\n",
        "\n",
        "# Матричная факторизация\n",
        "from implicit import als\n",
        "\n",
        "# Модель второго уровня\n",
        "from lightgbm import LGBMClassifier\n",
        "from lightgbm import LGBMRanker\n",
        "import lightgbm\n",
        "\n",
        "import os, sys\n",
        "module_path = os.path.abspath(os.path.join(os.pardir))\n",
        "if module_path not in sys.path:\n",
        "    sys.path.append(module_path)\n",
        "\n",
        "# Написанные нами функции\n",
        "#from src.metrics import recall_at_k#, precision_at_k\n",
        "#from src.utils import prefilter_items\n",
        "#from src.recommenders import MainRecommender"
      ],
      "execution_count": 3,
      "outputs": []
    },
    {
      "cell_type": "code",
      "metadata": {
        "id": "cP1y8w3psC5n",
        "outputId": "60989ddb-1d0a-4c05-991d-b78b2537d718",
        "colab": {
          "base_uri": "https://localhost:8080/",
          "height": 34
        }
      },
      "source": [
        "from google.colab import drive\n",
        "drive.mount('/content/drive')"
      ],
      "execution_count": 4,
      "outputs": [
        {
          "output_type": "stream",
          "text": [
            "Mounted at /content/drive\n"
          ],
          "name": "stdout"
        }
      ]
    },
    {
      "cell_type": "code",
      "metadata": {
        "id": "k92VXc_bsD80"
      },
      "source": [
        "!cp /content/drive/'My Drive'/retail_train.csv /content\n",
        "!cp /content/drive/'My Drive'/product.csv /content\n",
        "!cp /content/drive/'My Drive'/hh_demographic.csv /content\n",
        "!cp -r /content/drive/'My Drive'/src /content"
      ],
      "execution_count": 5,
      "outputs": []
    },
    {
      "cell_type": "code",
      "metadata": {
        "id": "cZ8MUQ2xr9wx",
        "outputId": "38157aff-68b8-4bfd-a8dd-8c7ea061dfc7",
        "colab": {
          "base_uri": "https://localhost:8080/",
          "height": 111
        }
      },
      "source": [
        "data = pd.read_csv('retail_train.csv')\n",
        "item_features = pd.read_csv('product.csv')\n",
        "user_features = pd.read_csv('hh_demographic.csv')\n",
        "\n",
        "# column processing\n",
        "item_features.columns = [col.lower() for col in item_features.columns]\n",
        "user_features.columns = [col.lower() for col in user_features.columns]\n",
        "\n",
        "item_features.rename(columns={'product_id': 'item_id'}, inplace=True)\n",
        "user_features.rename(columns={'household_key': 'user_id'}, inplace=True)\n",
        "\n",
        "\n",
        "# Важна схема обучения и валидации!\n",
        "# -- давние покупки -- | -- 6 недель -- | -- 3 недель -- \n",
        "# подобрать размер 2-ого датасета (6 недель) --> learning curve (зависимость метрики recall@k от размера датасета)\n",
        "val_lvl_1_size_weeks = 6\n",
        "val_lvl_2_size_weeks = 3\n",
        "\n",
        "data_train_lvl_1 = data[data['week_no'] < data['week_no'].max() - (val_lvl_1_size_weeks + val_lvl_2_size_weeks)]\n",
        "data_val_lvl_1 = data[(data['week_no'] >= data['week_no'].max() - (val_lvl_1_size_weeks + val_lvl_2_size_weeks)) &\n",
        "                      (data['week_no'] < data['week_no'].max() - (val_lvl_2_size_weeks))]\n",
        "\n",
        "data_train_lvl_2 = data_val_lvl_1.copy()  # Для наглядности. Далее мы добавим изменения, и они будут отличаться\n",
        "data_val_lvl_2 = data[data['week_no'] >= data['week_no'].max() - val_lvl_2_size_weeks]\n",
        "\n",
        "data_train_lvl_1.head(2)"
      ],
      "execution_count": 6,
      "outputs": [
        {
          "output_type": "execute_result",
          "data": {
            "text/html": [
              "<div>\n",
              "<style scoped>\n",
              "    .dataframe tbody tr th:only-of-type {\n",
              "        vertical-align: middle;\n",
              "    }\n",
              "\n",
              "    .dataframe tbody tr th {\n",
              "        vertical-align: top;\n",
              "    }\n",
              "\n",
              "    .dataframe thead th {\n",
              "        text-align: right;\n",
              "    }\n",
              "</style>\n",
              "<table border=\"1\" class=\"dataframe\">\n",
              "  <thead>\n",
              "    <tr style=\"text-align: right;\">\n",
              "      <th></th>\n",
              "      <th>user_id</th>\n",
              "      <th>basket_id</th>\n",
              "      <th>day</th>\n",
              "      <th>item_id</th>\n",
              "      <th>quantity</th>\n",
              "      <th>sales_value</th>\n",
              "      <th>store_id</th>\n",
              "      <th>retail_disc</th>\n",
              "      <th>trans_time</th>\n",
              "      <th>week_no</th>\n",
              "      <th>coupon_disc</th>\n",
              "      <th>coupon_match_disc</th>\n",
              "    </tr>\n",
              "  </thead>\n",
              "  <tbody>\n",
              "    <tr>\n",
              "      <th>0</th>\n",
              "      <td>2375</td>\n",
              "      <td>26984851472</td>\n",
              "      <td>1</td>\n",
              "      <td>1004906</td>\n",
              "      <td>1</td>\n",
              "      <td>1.39</td>\n",
              "      <td>364</td>\n",
              "      <td>-0.6</td>\n",
              "      <td>1631</td>\n",
              "      <td>1</td>\n",
              "      <td>0.0</td>\n",
              "      <td>0.0</td>\n",
              "    </tr>\n",
              "    <tr>\n",
              "      <th>1</th>\n",
              "      <td>2375</td>\n",
              "      <td>26984851472</td>\n",
              "      <td>1</td>\n",
              "      <td>1033142</td>\n",
              "      <td>1</td>\n",
              "      <td>0.82</td>\n",
              "      <td>364</td>\n",
              "      <td>0.0</td>\n",
              "      <td>1631</td>\n",
              "      <td>1</td>\n",
              "      <td>0.0</td>\n",
              "      <td>0.0</td>\n",
              "    </tr>\n",
              "  </tbody>\n",
              "</table>\n",
              "</div>"
            ],
            "text/plain": [
              "   user_id    basket_id  day  ...  week_no  coupon_disc  coupon_match_disc\n",
              "0     2375  26984851472    1  ...        1          0.0                0.0\n",
              "1     2375  26984851472    1  ...        1          0.0                0.0\n",
              "\n",
              "[2 rows x 12 columns]"
            ]
          },
          "metadata": {
            "tags": []
          },
          "execution_count": 6
        }
      ]
    },
    {
      "cell_type": "code",
      "metadata": {
        "id": "xx8qTjNOrypx",
        "outputId": "1d3a9c8a-9ea5-4827-c1be-b1e0095b0b2c",
        "colab": {
          "base_uri": "https://localhost:8080/",
          "height": 68
        }
      },
      "source": [
        "print(data_train_lvl_1['item_id'].nunique())\n",
        "print(data_train_lvl_2['item_id'].nunique())\n",
        "print(data_val_lvl_2['item_id'].nunique())"
      ],
      "execution_count": 7,
      "outputs": [
        {
          "output_type": "stream",
          "text": [
            "83685\n",
            "27649\n",
            "24329\n"
          ],
          "name": "stdout"
        }
      ]
    },
    {
      "cell_type": "code",
      "metadata": {
        "id": "p9QmC1pQr4mf"
      },
      "source": [
        "def precision_at_k(recommended_list, bought_list, k=5):\n",
        "    bought_list = np.array(bought_list)\n",
        "    recommended_list = np.array(recommended_list)\n",
        "\n",
        "    bought_list = bought_list  # Тут нет [:k] !!\n",
        "\n",
        "    if k < len(recommended_list):\n",
        "        recommended_list = recommended_list[:k]\n",
        "\n",
        "    flags = np.isin(bought_list, recommended_list)\n",
        "\n",
        "    precision = flags.sum() / len(recommended_list)\n",
        "\n",
        "    return precision"
      ],
      "execution_count": 8,
      "outputs": []
    },
    {
      "cell_type": "code",
      "metadata": {
        "id": "Cd9s0bX8xGAI"
      },
      "source": [
        "def money_precision_at_k(recommended_list, bought_list, prices_recommended, k=5):\n",
        "    bought_list = np.array(bought_list)\n",
        "    recommended_list = np.array(recommended_list)\n",
        "    prices_recommended = np.array(prices_recommended)\n",
        "\n",
        "\n",
        "    if k < len(recommended_list):\n",
        "        recommended_list = recommended_list[:k]\n",
        "        prices_recommended = prices_recommended[:k]\n",
        "\n",
        "    flags = np.isin(recommended_list, bought_list)\n",
        "    res = np.dot(flags, prices_recommended) / np.sum(prices_recommended)\n",
        "\n",
        "    return res"
      ],
      "execution_count": 9,
      "outputs": []
    },
    {
      "cell_type": "code",
      "metadata": {
        "id": "faWrLQdLxH-I"
      },
      "source": [
        "def recall_at_k(recommended_list, bought_list, k=5):\n",
        "    import numpy as np\n",
        "    bought_list = np.array(bought_list)\n",
        "    recommended_list = np.array(recommended_list)\n",
        "    recommended_list = recommended_list[:k]\n",
        "    flags = np.isin(bought_list, recommended_list)\n",
        "    recall = flags.sum() / len(bought_list)\n",
        "\n",
        "    return recall"
      ],
      "execution_count": 10,
      "outputs": []
    },
    {
      "cell_type": "markdown",
      "metadata": {
        "id": "UYCeTFcpxXRe"
      },
      "source": [
        "# 2. Класс MainRecommender"
      ]
    },
    {
      "cell_type": "code",
      "metadata": {
        "id": "_G_r6ohPxJ-G"
      },
      "source": [
        "import pandas as pd\n",
        "import numpy as np\n",
        "\n",
        "# Для работы с матрицами\n",
        "from scipy.sparse import csr_matrix\n",
        "\n",
        "# Матричная факторизация\n",
        "from implicit.als import AlternatingLeastSquares\n",
        "from implicit.nearest_neighbours import ItemItemRecommender  # нужен для одного трюка\n",
        "from implicit.nearest_neighbours import bm25_weight, tfidf_weight\n",
        "from implicit.bpr import BayesianPersonalizedRanking\n",
        "\n",
        "class MainRecommender:\n",
        "    \"\"\"Рекоммендации, которые можно получить из ALS\n",
        "    Input\n",
        "    -----\n",
        "    user_item_matrix: pd.DataFrame\n",
        "        Матрица взаимодействий user-item\n",
        "    \"\"\"\n",
        "\n",
        "    def __init__(self, data, item_features, weighting='bm25_weight', model_type = 'als', n_factors=160, \n",
        "                    regularization=0.001, iterations=30, num_threads=32, random_state=None):\n",
        "\n",
        "        self.random_state = random_state\n",
        "#----------------------------------------------------------------------------------------------------\n",
        "        # Топ покупок каждого юзера\n",
        "        self.top_purchases = data.groupby(['user_id', 'item_id'])['quantity'].count().reset_index()\n",
        "        self.top_purchases.sort_values('quantity', ascending=False, inplace=True)\n",
        "        self.top_purchases = self.top_purchases[self.top_purchases['item_id'] != 999999]\n",
        "#----------------------------------------------------------------------------------------------------\n",
        "        # Топ покупок по всему датасету\n",
        "        self.overall_top_purchases = data.groupby('item_id')['quantity'].count().reset_index()\n",
        "        self.overall_top_purchases.sort_values('quantity', ascending=False, inplace=True)\n",
        "        self.overall_top_purchases = self.overall_top_purchases[self.overall_top_purchases['item_id'] != 999999]\n",
        "        self.overall_top_purchases = self.overall_top_purchases.item_id.tolist()\n",
        "\n",
        "        self.user_item_matrix = self._prepare_matrix(data)  # pd.DataFrame\n",
        "        self.id_to_itemid, self.id_to_userid, \\\n",
        "            self.itemid_to_id, self.userid_to_id = self._prepare_dicts(self.user_item_matrix)\n",
        "#----------------------------------------------------------------------------------------------------\n",
        "        # Параметры взвешивания\n",
        "        if weighting =='bm25_weight':\n",
        "          self.user_item_matrix = bm25_weight(self.user_item_matrix.T, K1=80, B=0.6).T\n",
        "        elif weighting =='tfidf_weight':\n",
        "          self.user_item_matrix = tfidf_weight(self.user_item_matrix.T).T\n",
        "        else:\n",
        "          pass\n",
        "\n",
        "#----------------------------------------------------------------------------------------------------\n",
        "        # Обучение модели коллаборативной фильтрации\n",
        "        self.model = self.fit(self.user_item_matrix, \n",
        "                              model_type = model_type,\n",
        "                              n_factors=n_factors, \n",
        "                              regularization=regularization, \n",
        "                              iterations=iterations,\n",
        "                              num_threads=num_threads)\n",
        "#----------------------------------------------------------------------------------------------------\n",
        "        # Обучение модели на основе KNN\n",
        "        self.own_recommender = self.fit_own_recommender(self.user_item_matrix)\n",
        "\n",
        "#----------------------------------------------------------------------------------------------------\n",
        "        # Сохранение признаков, извлеченных из als (bpr)\n",
        "        self.als_user_factors = self.model.user_factors\n",
        "        self.als_item_factors = self.model.item_factors\n",
        "\n",
        "#----------------------------------------------------------------------------------------------------\n",
        "        # Датафрейм, индексами которого являются товары, а столбцами - \n",
        "        # средняя цена по входному датасету для каждого товара и sub_commodity_desc для товара\n",
        "        self.item_info = data.groupby('item_id').agg({'sales_value':'sum','quantity':'sum'})\\\n",
        "                                                                                    .reset_index()\n",
        "        # mean_price - результат деления суммы всех sales_value для товара на сумму всех quantity\n",
        "        # для товара, так как товар может за один раз продаться несколько раз\n",
        "        self.item_info['mean_price'] = self.item_info['sales_value']/\\\n",
        "                                                                  self.item_info['quantity']\n",
        "        self.item_info = self.item_info.merge\\\n",
        "                (item_features[['item_id', 'sub_commodity_desc']], how='left', on='item_id')\n",
        "\n",
        "        self.item_info.index = self.item_info['item_id']\n",
        "        self.item_info.drop(columns=['sales_value','quantity','item_id'], inplace=True)\n",
        "\n",
        "#----------------------------------------------------------------------------------------------------\n",
        "        # Датафрейм, индексами которого являются пользователи, а столбцом - список всех\n",
        "        # уникальных товаров, которые купил пользователь\n",
        "        self.users_purchases = data.groupby('user_id')['item_id'].unique().reset_index()\n",
        "        self.users_purchases.index = self.users_purchases['user_id']\n",
        "        self.users_purchases.drop(columns = 'user_id', inplace=True)\n",
        "\n",
        "#----------------------------------------------------------------------------------------------------\n",
        "        # Датафрейм, индексами которого являются пользователи, а столбцом - \n",
        "        # топ товаров, наиболее часто покупаемых пользователем (стоимость товаров выше mprice_theashold)\n",
        "        mprice_theashold = 4\n",
        "        data_reduce = data[data['price'] > 4]\n",
        "        data_reduce = data_reduce[data_reduce['item_id'] != 999999]\n",
        "\n",
        "        # Датафрейм \"user_id - общее количество покупок пользователем товаров стоимостью выше mprice_theashold\"\n",
        "        user_purchases = data_reduce.groupby(['user_id'])['quantity'].sum().reset_index()\n",
        "        user_purchases.rename(columns={'quantity': 'user_purchases'}, inplace=True)\n",
        "\n",
        "        # Датафрейм \"user_id - item_id - количество покупок пользователем каждого товара стоимостью выше mprice_theashold\"\n",
        "        user_item_purchases = data_reduce.groupby(['user_id', 'item_id'])['quantity'].sum().reset_index()\n",
        "\n",
        "        # Собираем все в один датасет\n",
        "        user_item_purchases =  user_item_purchases.merge(user_purchases, on=['user_id'], how='left')\n",
        "\n",
        "        # Вычисляем частотность покупок для каждого пользователя каждого товара\n",
        "        user_item_purchases['item_freq'] = user_item_purchases['quantity'] / user_item_purchases['user_purchases']\n",
        "        user_item_purchases.sort_values(by=['user_id', 'item_freq'], ascending=False, inplace=True)\n",
        "        #print(user_item_purchases)\n",
        "        self.top_items_for_user = user_item_purchases.groupby('user_id')['item_id'].unique().reset_index()\n",
        "        self.top_items_for_user.index = self.top_items_for_user.user_id\n",
        "        self.top_items_for_user.drop(columns = ['user_id'], inplace=True)\n",
        "\n",
        "#----------------------------------------------------------------------------------------------------\n",
        "        # Топ товаров, которые купило наибольшее число уникальных покупателей (стоимость товаров выше mprice_theashold)\n",
        "\n",
        "        all_users_quantity = data_reduce['user_id'].nunique()\n",
        "\n",
        "        # Вычисляем количество уникальных покупателей, которые купили данный товар\n",
        "        all_top_items = data_reduce.groupby(['item_id', 'price'])['user_id'].nunique().reset_index()\n",
        "        all_top_items.rename(columns={'user_id': 'users_quantity'}, inplace=True)\n",
        "\n",
        "        # Вычисляем какая доля от всех пользователей купила данный товар\n",
        "        all_top_items['users_share'] = all_top_items['users_quantity'] / all_users_quantity\n",
        "        all_top_items  = all_top_items[all_top_items['users_share'] >= np.quantile(all_top_items['users_share'], 0.75)]  \n",
        "        all_top_items.sort_values('users_share', ascending=False, inplace=True)\n",
        "        self.all_top_items = all_top_items.item_id.values.tolist()\n",
        "\n",
        "#----------------------------------------------------------------------------------------------------\n",
        "        # Датафрейм, индексами которого являются пользователи, а столбцом - \n",
        "        # топ товаров, наиболее часто встречаемых в карзинах данного пользователя (стоимость товаров выше mprice_theashold)\n",
        "\n",
        "        user_basket = data_reduce.groupby(['user_id'])['basket_id'].nunique().reset_index()\n",
        "        user_basket.rename(columns={'basket_id': 'users_baskets_cnt'}, inplace=True)\n",
        "        user_item_basket = data_reduce.groupby(['user_id', 'item_id'])['basket_id'].nunique().reset_index()\n",
        "        user_item_basket = user_item_basket.merge(user_basket, on=['user_id'], how='left')\n",
        "        user_item_basket['item_freq_in_user_basket'] = user_item_basket['basket_id'] / user_item_basket['users_baskets_cnt']\n",
        "        user_item_basket.sort_values(by=['user_id', 'item_freq_in_user_basket'], ascending=False, inplace=True)\n",
        "        self.top_items_in_users_basket = user_item_basket.groupby('user_id')['item_id'].unique().reset_index()\n",
        "        self.top_items_in_users_basket.index = self.top_items_in_users_basket.user_id\n",
        "        self.top_items_in_users_basket.drop(columns = ['user_id'], inplace=True)\n",
        "\n",
        "    @staticmethod\n",
        "    def _prepare_matrix(data):\n",
        "        \"\"\"Готовит user-item матрицу\"\"\"\n",
        "        # ТОЖЕ sales_value ПОДЕЛИТЬ НА quantity\n",
        "        user_item_matrix = pd.pivot_table(data,\n",
        "                                          index='user_id', columns='item_id',\n",
        "                                          #values = 'sales_value', #выручка без затух.\n",
        "                                          #values = 'sales_value(t)', #выручка с затух.\n",
        "                                          #values = 'quantity(t)', #число продаж с затух.\n",
        "                                          #values = 'quantity', #число продаж без затух.\n",
        "                                          values = 'price(t)', #цена товара с затух.\n",
        "                                          aggfunc='sum',\n",
        "                                          fill_value=0\n",
        "                                          )\n",
        "        \n",
        "\n",
        "        user_item_matrix = user_item_matrix.astype(float)  # необходимый тип матрицы для implicit\n",
        "        #user_item_matrix = np.log1p(user_item_matrix) # Не сработало\n",
        "        return user_item_matrix\n",
        "\n",
        "    @staticmethod\n",
        "    def _prepare_dicts(user_item_matrix):\n",
        "        \"\"\"Подготавливает вспомогательные словари\"\"\"\n",
        "\n",
        "        userids = user_item_matrix.index.values\n",
        "        itemids = user_item_matrix.columns.values\n",
        "\n",
        "        matrix_userids = np.arange(len(userids))\n",
        "        matrix_itemids = np.arange(len(itemids))\n",
        "\n",
        "        id_to_itemid = dict(zip(matrix_itemids, itemids))\n",
        "        id_to_userid = dict(zip(matrix_userids, userids))\n",
        "\n",
        "        itemid_to_id = dict(zip(itemids, matrix_itemids))\n",
        "        userid_to_id = dict(zip(userids, matrix_userids))\n",
        "\n",
        "        return id_to_itemid, id_to_userid, itemid_to_id, userid_to_id\n",
        "\n",
        "    @staticmethod\n",
        "    def fit_own_recommender(user_item_matrix):\n",
        "        \"\"\"Обучает модель, которая рекомендует товары, среди товаров, купленных юзером\"\"\"\n",
        "\n",
        "        own_recommender = ItemItemRecommender(K=1, num_threads=8)\n",
        "        own_recommender.fit(csr_matrix(user_item_matrix).T.tocsr())\n",
        "\n",
        "        return own_recommender\n",
        "\n",
        "    @staticmethod\n",
        "    def fit(user_item_matrix, n_factors=160, regularization=0.001, \n",
        "            iterations=30, num_threads=32, model_type='als'):\n",
        "        \"\"\"Обучает ALS\"\"\"\n",
        "        if model_type=='als':\n",
        "          model = AlternatingLeastSquares(factors=n_factors,\n",
        "                                          regularization=regularization,\n",
        "                                          iterations=iterations,\n",
        "                                          num_threads=num_threads,\n",
        "                                          )\n",
        "        elif model_type=='bpr':\n",
        "          model = BayesianPersonalizedRanking(factors=n_factors,\n",
        "                                          regularization=regularization,\n",
        "                                          iterations=iterations,\n",
        "                                          num_threads=num_threads,\n",
        "                                          )\n",
        "        else:\n",
        "          pass\n",
        "\n",
        "        #if self.random_state != None:\n",
        "        #  np.random.seed(self.random_state)\n",
        "\n",
        "        model.fit(csr_matrix(user_item_matrix).T.tocsr())\n",
        "\n",
        "        return model\n",
        "\n",
        "    def _update_dict(self, user_id):\n",
        "        \"\"\"Если появился новыю user / item, то нужно обновить словари\"\"\"\n",
        "\n",
        "        if user_id not in self.userid_to_id.keys():\n",
        "\n",
        "            max_id = max(list(self.userid_to_id.values()))\n",
        "            max_id += 1\n",
        "\n",
        "            self.userid_to_id.update({user_id: max_id})\n",
        "            self.id_to_userid.update({max_id: user_id})\n",
        "\n",
        "    def _get_similar_item(self, item_id):\n",
        "        \"\"\"Находит товар, похожий на item_id\"\"\"\n",
        "        recs = self.model.similar_items(self.itemid_to_id[item_id], N=2)  # Товар похож на себя -> рекомендуем 2 товара\n",
        "        top_rec = recs[1][0]  # И берем второй (не товар из аргумента метода)\n",
        "        return self.id_to_itemid[top_rec]\n",
        "\n",
        "    def _extend_with_top_popular(self, recommendations, N=5):\n",
        "        \"\"\"Если кол-во рекоммендаций < N, то дополняем их топ-популярными\"\"\"\n",
        "\n",
        "        if len(recommendations) < N:\n",
        "            recommendations.extend(self.overall_top_purchases[:N])\n",
        "            recommendations = recommendations[:N]\n",
        "\n",
        "        return recommendations\n",
        "\n",
        "    def _get_recommendations(self, user, model, N=5):\n",
        "        \"\"\"Рекомендации через стардартные библиотеки implicit\"\"\"\n",
        "\n",
        "        self._update_dict(user_id=user)\n",
        "\n",
        "        # Чтобы гиперпараметры было удобнее подбирать, зафиксируем seed\n",
        "        if self.random_state != None:\n",
        "          np.random.seed(self.random_state)\n",
        "\n",
        "        res = [self.id_to_itemid[rec[0]] for rec in model.recommend(userid=self.userid_to_id[user],\n",
        "                                        user_items=csr_matrix(self.user_item_matrix).tocsr(),\n",
        "                                        N=N,\n",
        "                                        filter_already_liked_items=False,\n",
        "                                        filter_items=[self.itemid_to_id[999999]])]\n",
        "                                        #recalculate_user=True)] в bpr не работает\n",
        "\n",
        "        res = self._extend_with_top_popular(res, N=N)\n",
        "\n",
        "        assert len(res) == N, 'Количество рекомендаций != {}'.format(N)\n",
        "        return res\n",
        "\n",
        "    def get_als_recommendations(self, user, N=5):\n",
        "        \"\"\"Рекомендации через стардартные библиотеки implicit\"\"\"\n",
        "        \n",
        "        # Обработка холодного пользователя\n",
        "        if user not in self.userid_to_id.keys():\n",
        "          #self._update_dict(user_id=user)\n",
        "          return self.overall_top_purchases[:N]\n",
        "        else:\n",
        "        #self._update_dict(user_id=user)\n",
        "          return self._get_recommendations(user, model=self.model, N=N)\n",
        "\n",
        "    def get_own_recommendations(self, user, N=5):\n",
        "        \"\"\"Рекомендуем товары среди тех, которые юзер уже купил\"\"\"\n",
        "\n",
        "        if user not in self.userid_to_id.keys():\n",
        "          return self.overall_top_purchases[:N]\n",
        "        else:\n",
        "          return self._get_recommendations(user, model=self.own_recommender, N=N)\n",
        "        #self._update_dict(user_id=user)\n",
        "        \n",
        "\n",
        "    def get_similar_items_recommendation(self, user, N=5):\n",
        "        \"\"\"Рекомендуем товары, похожие на топ-N купленных юзером товаров\"\"\"\n",
        "        if user not in self.userid_to_id.keys():\n",
        "          return self.overall_top_purchases[:N]\n",
        "        else:\n",
        "          top_users_purchases = self.top_purchases[self.top_purchases['user_id'] == user].head(N)\n",
        "\n",
        "          res = top_users_purchases['item_id'].apply(lambda x: self._get_similar_item(x)).tolist()\n",
        "          res = self._extend_with_top_popular(res, N=N)\n",
        "\n",
        "          assert len(res) == N, 'Количество рекомендаций != {}'.format(N)\n",
        "          return res\n",
        "\n",
        "    def get_similar_users_recommendation(self, user, N=5):\n",
        "        \"\"\"Рекомендуем топ-N товаров, среди купленных похожими юзерами\"\"\"\n",
        "        if user not in self.userid_to_id.keys():\n",
        "          return self.overall_top_purchases[:N]\n",
        "        else:\n",
        "          res = []\n",
        "\n",
        "          # Находим топ-N похожих пользователей\n",
        "          similar_users = self.model.similar_users(self.userid_to_id[user], N=N+1)\n",
        "          similar_users = [rec[0] for rec in similar_users]\n",
        "          similar_users = similar_users[1:]   # удалим юзера из запроса\n",
        "\n",
        "          for user in similar_users:\n",
        "            res.extend(self.get_own_recommendations(user, N=1))\n",
        "\n",
        "          res = self._extend_with_top_popular(res, N=N)\n",
        "\n",
        "          assert len(res) == N, 'Количество рекомендаций != {}'.format(N)\n",
        "          return res\n",
        "\n",
        "    def get_top_items_for_user(self, user):\n",
        "      \"\"\"Для каждого пользователя выделяет топ самых покупаемых\n",
        "        товаров, стоимость которых выше mprice_theashold\n",
        "      \"\"\"\n",
        "      if user in self.top_items_for_user.index:\n",
        "        if type(user) == 'list':\n",
        "          return self.top_items_for_user.loc[user, 'item_id'].values.tolist()\n",
        "        else:\n",
        "          return self.top_items_for_user.loc[user, 'item_id'].tolist()\n",
        "      else:\n",
        "        return [] # Если по этому пользователю не было информации\n",
        "\n",
        "    def get_all_top_items(self):\n",
        "      \"\"\"Возвращает топ из товаров, которые покупает наибольшее число уникальных пользователей\n",
        "      (стоимость товаров больше mprice_theashold)\n",
        "      \"\"\" \n",
        "      return self.all_top_items\n",
        "\n",
        "    def get_top_items_in_users_basket(self, user):\n",
        "      \"\"\"Для каждого пользователя выделяет топ самых покупаемых\n",
        "        товаров (товары наиболее часто встречаемые к корзинах пользователя), стоимость которых выше mprice_theashold\n",
        "      \"\"\"\n",
        "      if user in self.top_items_in_users_basket.index:\n",
        "        if type(user) == 'list':\n",
        "          return self.top_items_in_users_basket.loc[user, 'item_id'].values.tolist()\n",
        "        else:\n",
        "          return self.top_items_in_users_basket.loc[user, 'item_id'].tolist()\n",
        "      else:\n",
        "        return [] # Если по этому пользователю не было информации"
      ],
      "execution_count": 11,
      "outputs": []
    },
    {
      "cell_type": "markdown",
      "metadata": {
        "id": "Hd57d1vAxcBa"
      },
      "source": [
        "# 3. Класс FILTER"
      ]
    },
    {
      "cell_type": "code",
      "metadata": {
        "id": "E99xEkNbxZZK"
      },
      "source": [
        "import pandas as pd\n",
        "import numpy as np\n",
        "\n",
        "class FilterClass:\n",
        "    \"\"\"Содержит функции предфильтрации и постфильтрации\n",
        "\n",
        "    \"\"\"\n",
        "\n",
        "    def __init__(self, data, item_features):\n",
        "\n",
        "        # Датасет, индексами которого являются товары, а столбцами - \n",
        "        # средняя цена по входному датасету для каждого товара и sub_commodity_desc для товара\n",
        "        self.item_info = data.groupby('item_id').agg({'sales_value':'sum','quantity':'sum'})\\\n",
        "                                                                                    .reset_index()\n",
        "        # mean_price - результат деления суммы всех sales_value для товара на сумму всех quantity\n",
        "        # для товара, так как товар может за один раз продаться несколько раз\n",
        "        self.item_info['mean_price'] = self.item_info['sales_value']/\\\n",
        "                                                                  self.item_info['quantity']\n",
        "        self.item_info = self.item_info.merge\\\n",
        "                (item_features[['item_id', 'sub_commodity_desc']], how='left', on='item_id')\n",
        "\n",
        "        self.item_info.index = self.item_info['item_id']\n",
        "        self.item_info.drop(columns=['sales_value','quantity','item_id'], inplace=True)\n",
        "\n",
        "        # Датасет, индексами которого являются пользователи, а столбцом - список всех\n",
        "        # уникальных товаров, которые купил пользователь\n",
        "        self.users_purchases = data.groupby('user_id')['item_id'].unique().reset_index()\n",
        "        self.users_purchases.index = self.users_purchases['user_id']\n",
        "        self.users_purchases.drop(columns = 'user_id', inplace=True)\n",
        "\n",
        "\n",
        "    def get_mean_prices_from_items(self, recommended_list):\n",
        "    # Функция возвращает средние цены на товары из списка recommended_list\n",
        "    # item_info создается при обучении 1 раз для экономии ресурсов\n",
        "      if type(recommended_list) == 'list':\n",
        "        return self.item_info.loc[recommended_list, 'mean_price'].values.tolist()\n",
        "      else:\n",
        "        return self.item_info.loc[recommended_list, 'mean_price'].tolist()\n",
        "    \n",
        "    def get_scd_from_items(self, recommended_list):\n",
        "    # Функция возвращает sub_commodity_desc для товаров из списка recommended_list\n",
        "    # item_info создается при обучении 1 раз для экономии ресурсов\n",
        "      if type(recommended_list) == 'list':\n",
        "        return self.item_info.loc[recommended_list, 'sub_commodity_desc'].tolist()\n",
        "      else:\n",
        "        return self.item_info.loc[recommended_list, 'sub_commodity_desc']\n",
        "\n",
        "    # Фильтрация в соответствии с бизнес логикой\n",
        "\n",
        "    def postfilter(self, user_id,\tlgbm_candidates,\town_recommender,\tall_top_items,\ttop_items_in_users_basket,\ttop_items_for_user):\n",
        "      res = [] \n",
        "      com = []\n",
        "      flag =0\n",
        "      item = 0\n",
        "    #1\n",
        "      for item in top_items_in_users_basket[:55] + own_recommender[:65]:\n",
        "        if self.get_mean_prices_from_items(item) > 7 :\n",
        "          res.append(item)\n",
        "          com.append(self.get_scd_from_items(item))\n",
        "          if user_id in self.users_purchases.index and item in self.users_purchases.loc[user_id, 'item_id']:\n",
        "            flag += 1 \n",
        "          break\n",
        "\n",
        "      if len(res) == 0:\n",
        "        for item in lgbm_candidates[:50]+own_recommender[:50] + top_items_for_user[:50]:\n",
        "          if self.get_mean_prices_from_items(item) > 7:\n",
        "            res.append(item)\n",
        "            com.append(self.get_scd_from_items(item))\n",
        "            if user_id in self.users_purchases.index and item in self.users_purchases.loc[user_id, 'item_id']:\n",
        "              flag += 1 \n",
        "            break\n",
        "      #assert len(res) == 1\n",
        "        \n",
        "    # 2    \n",
        "      for item in top_items_in_users_basket[:75] + own_recommender[:60] + all_top_items[:60] + lgbm_candidates[:60]:\n",
        "        if (item not in res) and (self.get_scd_from_items(item) not in com):\n",
        "          res.append(item)\n",
        "          com.append(self.get_scd_from_items(item))\n",
        "          if user_id in self.users_purchases.index and item in self.users_purchases.loc[user_id, 'item_id']:\n",
        "            flag += 1 \n",
        "          break\n",
        "\n",
        "      if len(res) != 2:\n",
        "        for item in own_recommender[:200]+lgbm_candidates[:100]+top_items_for_user[:100]:\n",
        "          if (item not in res) and (self.get_scd_from_items(item) not in com):\n",
        "            res.append(item)\n",
        "            com.append(self.get_scd_from_items(item))\n",
        "            if user_id in self.users_purchases.index and item in self.users_purchases.loc[user_id, 'item_id']:\n",
        "              flag += 1 \n",
        "            break\n",
        " \n",
        "    # 3    \n",
        "      for item in top_items_in_users_basket[:80]+own_recommender[:80]+all_top_items[:80]+lgbm_candidates[:80]:\n",
        "        if (item not in res) and (self.get_scd_from_items(item) not in com): \n",
        "          res.append(item)\n",
        "          com.append(self.get_scd_from_items(item))\n",
        "          if user_id in self.users_purchases.index and item in self.users_purchases.loc[user_id, 'item_id']:\n",
        "            flag += 1 \n",
        "          break\n",
        "\n",
        "      if len(res) != 3:\n",
        "        for item in all_top_items[:100]+lgbm_candidates[:100]+own_recommender[:100]+top_items_for_user[:100]:\n",
        "          if (item not in res) and (self.get_scd_from_items(item) not in com):\n",
        "            res.append(item)\n",
        "            com.append(self.get_scd_from_items(item))\n",
        "            if user_id in self.users_purchases.index and item in self.users_purchases.loc[user_id, 'item_id']:\n",
        "              flag += 1 \n",
        "            break\n",
        "    # 4    \n",
        "      for item in top_items_in_users_basket[:100]+all_top_items[:80]+lgbm_candidates[:80]+own_recommender[:80]:\n",
        "        if self.get_mean_prices_from_items(item) < 1.35 and  (item not in res) and (self.get_scd_from_items(item) not in com):\n",
        "          if user_id in self.users_purchases.index and item in self.users_purchases.loc[user_id, 'item_id']:\n",
        "            if flag < 3:\n",
        "              flag +=1\n",
        "              res.append(item)\n",
        "              com.append(self.get_scd_from_items(item))\n",
        "              break\n",
        "          else:\n",
        "            res.append(item)\n",
        "            com.append(self.get_scd_from_items(item))\n",
        "            break\n",
        "\n",
        "      if len(res) != 4:\n",
        "        for item in all_top_items+lgbm_candidates+own_recommender :\n",
        "          if self.get_mean_prices_from_items(item) < 1.2  and  (item not in res) and (self.get_scd_from_items(item) not in com):\n",
        "            if user_id in self.users_purchases.index and item in self.users_purchases.loc[user_id, 'item_id']:\n",
        "              if flag < 3:\n",
        "                flag +=1\n",
        "                res.append(item)\n",
        "                com.append(self.get_scd_from_items(item))\n",
        "                break\n",
        "              else:\n",
        "                res.append(item)\n",
        "                com.append(self.get_scd_from_items(item))\n",
        "                break \n",
        "    # 5   \n",
        "      for item in all_top_items[:200]+lgbm_candidates[:100]+own_recommender[:100]:\n",
        "        if self.get_mean_prices_from_items(item) <1.15 and  (item not in res) and (self.get_scd_from_items(item) not in com): \n",
        "          if user_id in self.users_purchases.index and item in self.users_purchases.loc[user_id, 'item_id']:\n",
        "            if flag < 3:\n",
        "              flag +=1\n",
        "              res.append(item)\n",
        "              com.append(self.get_scd_from_items(item))\n",
        "              break\n",
        "            else:\n",
        "              res.append(item)\n",
        "              com.append(self.get_scd_from_items(item))\n",
        "              break\n",
        "\n",
        "      if len(res) != 5:\n",
        "        for item in all_top_items+own_recommender+lgbm_candidates:\n",
        "          if self.get_mean_prices_from_items(item) <1.2  and  (item not in res) and (self.get_scd_from_items(item) not in com):\n",
        "            if user_id in self.users_purchases.index and item in self.users_purchases.loc[user_id, 'item_id']:\n",
        "              if flag < 3:\n",
        "                flag +=1\n",
        "                res.append(item)\n",
        "                com.append(self.get_scd_from_items(item))\n",
        "                break\n",
        "              else:\n",
        "                res.append(item)\n",
        "                com.append(self.get_scd_from_items(item))\n",
        "                break \n",
        "\n",
        "      #assert len(res) == 5\n",
        "      return res           \n",
        "\n",
        "    def postfilter_items(self, user_id,\tlgbm_candidates,\town_recommender,\tall_top_items,\ttop_items_in_users_basket,\ttop_items_for_user):\n",
        "    # Функция производит постфильтрацию: из списка с N рекомендациями получает\n",
        "    # список из 5 товаров, в котором 1 или более товаров стоимостью > 7 дол., 2 или более товаров,\n",
        "    # которые данный пользователь никогда не покупал и все товары принадлежат разным категориям\n",
        "      result, scd, price, new = [], [], [], []\n",
        "      #top_popular = np.array(top_popular)\n",
        "      # На случай если в recommednations не найдется нужного товара,\n",
        "      # то искать будем в топе популярных\n",
        "      #recommednations = np.concatenate([recommednations, top_popular])\n",
        "\n",
        "      # Если пользователь совершал покупки ранее (о нем есть информация в data)\n",
        "      if user_id in self.users_purchases.index:\n",
        "\n",
        "        # Ищем в recommednations 2 товара из различных категорий и сохраняем их хар-ки\n",
        "        flag = 0\n",
        "        for item in top_items_for_user + top_items_in_users_basket + own_recommender:\n",
        "          if self.get_scd_from_items(item) not in scd:        \n",
        "            flag += 1\n",
        "            result.append(item)\n",
        "            scd.append(self.get_scd_from_items(item))\n",
        "            price.append(self.get_mean_prices_from_items(item))\n",
        "            new.append(item not in self.users_purchases.loc[user_id, 'item_id'])\n",
        "            if flag == 2:\n",
        "              break\n",
        "        assert len(result)  ==  2 # Должно быть 2 из разных категорий\n",
        "\n",
        "        # Ищем в recommednations 2 не купленных ранее товара из различных категорий\n",
        "        # и сохраняем их хар-ки\n",
        "        flag = 0\n",
        "        for item in all_top_items + lgbm_candidates:\n",
        "          if (item not in self.users_purchases.loc[user_id, 'item_id']) and\\\n",
        "                      (self.get_scd_from_items(item) not in scd):\n",
        "            flag += 1\n",
        "            result.append(item)\n",
        "            scd.append(self.get_scd_from_items(item))\n",
        "            price.append(self.get_mean_prices_from_items(item))\n",
        "            new.append(item not in self.users_purchases.loc[user_id, 'item_id'])\n",
        "            if flag == 2:\n",
        "              break\n",
        "        assert len(result)  == 4 # Должно быть 2 простых и 2 новых\n",
        "\n",
        "        # Ищем в recommednations 1-й дорогой товар и сохраняем его хар-ки\n",
        "        for item in top_items_for_user + top_items_in_users_basket + all_top_items + lgbm_candidates + own_recommender:\n",
        "          if ((self.get_mean_prices_from_items(item) > 7) and (self.get_scd_from_items(item) not in scd)):\n",
        "            result.append(item)\n",
        "            scd.append(self.get_scd_from_items(item))\n",
        "            price.append(self.get_mean_prices_from_items(item))\n",
        "            new.append(item not in self.users_purchases.loc[user_id, 'item_id'])\n",
        "            break\n",
        "        assert len(result)  == 5 # Один дорогой товар должен быть добавлен\n",
        "        \n",
        "      # Если пользователь не совершал покупок ранее \n",
        "      else:\n",
        "          \n",
        "        # Ищем в recommednations 4 товара из различных категорий и сохраняем их хар-ки\n",
        "        flag = 0\n",
        "        for item in lgbm_candidates + all_top_items:\n",
        "          if (self.get_scd_from_items(item) not in scd) and (self.get_mean_prices_from_items(item) > 3) \\\n",
        "          and (self.get_mean_prices_from_items(item) < 6):        \n",
        "            flag += 1\n",
        "            result.append(item)\n",
        "            scd.append(self.get_scd_from_items(item))\n",
        "            price.append(self.get_mean_prices_from_items(item))\n",
        "            new.append(True)\n",
        "            if flag == 4:\n",
        "              break\n",
        "        assert len(result)  == 4 # Должно быть добавлено 4 любых товара\n",
        "\n",
        "        # Ищем в recommednations 1-й дорогой товар и сохраняем его хар-ки\n",
        "        for item in lgbm_candidates + all_top_items:\n",
        "          if (self.get_mean_prices_from_items(item) > 7) and (self.get_scd_from_items(item) not in scd):\n",
        "            result.append(item)\n",
        "            scd.append(self.get_scd_from_items(item))\n",
        "            price.append(self.get_mean_prices_from_items(item))\n",
        "            new.append(True)\n",
        "            break\n",
        "        assert len(result)  == 5 # Один дорогой товар + 4 любых\n",
        "\n",
        "      assert len(result) == 5\n",
        "      assert max(price) >= 7 # Один товар должен быть дороже 7\n",
        "      assert len(set(scd)) == 5 # Все товары должны быть из разных категорий\n",
        "      assert sum(new) >= 2 # Как минимум 2 новых товара\n",
        "\n",
        "      # Для отладки выводил: \n",
        "      # result - список из 5 рекомендованных товаров\n",
        "      # scd - соответствующий первому списку список sub_comodity_description\n",
        "      # price - стоимость рекомендованных товаров\n",
        "      # old - покупался ли товар ранее\n",
        "      #\n",
        "      #return result, scd, price, old\n",
        "      return result\n",
        "\n",
        "    @staticmethod\n",
        "    def prefilter_items(data, take_n_popular=5000, item_features=None):\n",
        "    # Уберем самые популярные товары (их и так купят)\n",
        "      popularity = data.groupby('item_id')['user_id'].nunique().reset_index() / data['user_id'].nunique()\n",
        "      popularity.rename(columns={'user_id': 'share_unique_users'}, inplace=True)\n",
        "\n",
        "      top_popular = popularity[popularity['share_unique_users'] > 0.2].item_id.tolist()\n",
        "      data = data[~data['item_id'].isin(top_popular)]\n",
        "\n",
        "    # Уберем самые НЕ популярные товары (их и так НЕ купят)\n",
        "      top_notpopular = popularity[popularity['share_unique_users'] < 0.02].item_id.tolist()\n",
        "      data = data[~data['item_id'].isin(top_notpopular)]\n",
        "\n",
        "    # Уберем товары, которые не продавались в последние weeks_num недель\n",
        "      last_week = data['week_no'].max()\n",
        "      weeks_num = 47\n",
        "      not_valid = data.groupby('item_id')['week_no'].max().reset_index()\n",
        "      not_valid = not_valid[not_valid['week_no'] <= (last_week - weeks_num)].item_id.tolist()\n",
        "      data = data[~data['item_id'].isin(not_valid)]\n",
        "\n",
        "    # Уберем не интересные для рекомендаций категории (department)\n",
        "      if item_features is not None:\n",
        "          department_size = pd.DataFrame(item_features. \\\n",
        "                                       groupby('department')['item_id'].nunique(). \\\n",
        "                                       sort_values(ascending=False)).reset_index()\n",
        "\n",
        "          department_size.columns = ['department', 'n_items']\n",
        "          rare_departments = department_size[department_size['n_items'] < 150].department.tolist()\n",
        "          items_in_rare_departments = item_features[\n",
        "              item_features['department'].isin(rare_departments)].item_id.unique().tolist()\n",
        "\n",
        "          data = data[~data['item_id'].isin(items_in_rare_departments)]\n",
        "    \n",
        "    # Считаем стоимости для товаров\n",
        "      #data['price'] = data['sales_value'] / (np.maximum(data['quantity'], 1)) # max - чтобы на 0 не поделить\n",
        "\n",
        "    # Считаем стоимости для товаров как среднюю стоимость по всему датасету\n",
        "      price = data.groupby('item_id').agg({'sales_value':'sum','quantity':'sum'}).reset_index()\n",
        "      price['price'] = price['sales_value']/price['quantity']\n",
        "      price.drop(columns=['sales_value','quantity'], inplace=True)\n",
        "      data = data.merge(price, how='left', on='item_id')\n",
        "\n",
        "    # Уберем слишком дешевые товары (на них не заработаем). 1 покупка из рассылок стоит 60 руб.\n",
        "      data = data[data['price'] > 1]\n",
        "\n",
        "    # Уберем слишком дорогие товары\n",
        "      data = data[data['price'] < 7.5]\n",
        "\n",
        "    # Возьмем топ по популярности\n",
        "      popularity = data.groupby('item_id')['quantity'].sum().reset_index()\n",
        "      popularity.rename(columns={'quantity': 'n_sold'}, inplace=True)\n",
        "\n",
        "      top = popularity.sort_values('n_sold', ascending=False).head(take_n_popular).item_id.tolist()\n",
        "\n",
        "    # Заведем фиктивный item_id (если юзер покупал товары из топ-5000, то он \"купил\" такой товар)\n",
        "      data.loc[~data['item_id'].isin(top), 'item_id'] = 999999\n",
        "\n",
        "    # Добавить По популярности (> 10 покупок в неделю) \n",
        "    # Добавить По популярности (> 10 покупок в неделю)\n",
        "\n",
        "      return data"
      ],
      "execution_count": 70,
      "outputs": []
    },
    {
      "cell_type": "markdown",
      "metadata": {
        "id": "oqunsacrxlIA"
      },
      "source": [
        "# 4. Обучение одноуровневой модели"
      ]
    },
    {
      "cell_type": "code",
      "metadata": {
        "id": "sP4d4uxWxf_h"
      },
      "source": [
        "data_train_lvl_1_2 = pd.concat([data_train_lvl_1,data_train_lvl_2], axis=0)"
      ],
      "execution_count": 13,
      "outputs": []
    },
    {
      "cell_type": "code",
      "metadata": {
        "id": "m949FyQPyZq0",
        "outputId": "01d26e0f-bb17-419b-af7c-2b56953c1380",
        "colab": {
          "base_uri": "https://localhost:8080/",
          "height": 34
        }
      },
      "source": [
        "# Предфильтрация товаров с помощью prefilter_items \n",
        "# Фильтр также добавит среднюю цену для каждого товара\n",
        "n_items_before = data_train_lvl_1_2['item_id'].nunique()\n",
        "data_train_lvl_1_2 = FilterClass.prefilter_items(data_train_lvl_1_2, item_features=item_features, take_n_popular=5000)\n",
        "n_items_after = data_train_lvl_1_2['item_id'].nunique()\n",
        "print('Decreased # items from {} to {}'.format(n_items_before, n_items_after))"
      ],
      "execution_count": 14,
      "outputs": [
        {
          "output_type": "stream",
          "text": [
            "Decreased # items from 86865 to 5001\n"
          ],
          "name": "stdout"
        }
      ]
    },
    {
      "cell_type": "code",
      "metadata": {
        "id": "3oGplk-w1awX"
      },
      "source": [
        "# Это оптимальная обработка, если pivot_table строится на основе price\n",
        "# Добавим признак sales_value(t) = (e^(-max_week_no + week_no)/T)*price\n",
        "# T - коэффициент затухания (чем больше, тем оно медленнее)\n",
        "T = 25\n",
        "data_train_lvl_1_2['price(t)'] = (np.exp((-data_train_lvl_1_2['week_no'].max()+\\\n",
        "                                                  data_train_lvl_1_2['week_no'])/T))*\\\n",
        "                                                  data_train_lvl_1_2['price']"
      ],
      "execution_count": 15,
      "outputs": []
    },
    {
      "cell_type": "code",
      "metadata": {
        "id": "fDLVokYy1Phq",
        "outputId": "0687bbbb-3258-4048-ccdd-98eeb9dbd1bd",
        "colab": {
          "base_uri": "https://localhost:8080/",
          "height": 132,
          "referenced_widgets": [
            "1ef8c824061e42b4be2da1637c727fdb",
            "32ed331a62ba40e483e3ea9320d95339",
            "7bc434fd50434b7b863128afa233b7f7",
            "d3102279fc0b4a7390892fce79403e70",
            "81c1c4f1853945288bd3758b02287983",
            "88651ac369c54cd4920acde9654772df",
            "c10129d77ebf4b99a57cd2e50c573289",
            "30fdcb2aa36b440db0a3958bd0e50d3a",
            "72aac03e5264463d8fed4e2c1c590050",
            "e81fb54a912d42d58d859365445adcb4",
            "26acf8260a7144848d0cb7ec63e86ef7",
            "e20afd873e374b7ea1e9f102e111bee4",
            "af498ea5df724967bcf6c21e10a94601",
            "c0c44c7578c64ababffc8a201b87a06c",
            "0274ceb8c7354c5a9157ad11cc8307ce",
            "bb51b6156ba74b9d9b08ee9d0d75e454"
          ]
        }
      },
      "source": [
        "# Обучение модели\n",
        "single_layer_model = MainRecommender(data_train_lvl_1_2, item_features,\n",
        "                                     weighting='bm25_weight', \n",
        "                                     model_type='als',\n",
        "                                     n_factors=256, \n",
        "                                     regularization=0.01, \n",
        "                                     iterations=30,\n",
        "                                     num_threads=16,\n",
        "                                     random_state=42)"
      ],
      "execution_count": 16,
      "outputs": [
        {
          "output_type": "stream",
          "text": [
            "WARNING:root:OpenBLAS detected. Its highly recommend to set the environment variable 'export OPENBLAS_NUM_THREADS=1' to disable its internal multithreading\n"
          ],
          "name": "stderr"
        },
        {
          "output_type": "display_data",
          "data": {
            "application/vnd.jupyter.widget-view+json": {
              "model_id": "1ef8c824061e42b4be2da1637c727fdb",
              "version_minor": 0,
              "version_major": 2
            },
            "text/plain": [
              "HBox(children=(FloatProgress(value=0.0, max=30.0), HTML(value='')))"
            ]
          },
          "metadata": {
            "tags": []
          }
        },
        {
          "output_type": "stream",
          "text": [
            "\n"
          ],
          "name": "stdout"
        },
        {
          "output_type": "display_data",
          "data": {
            "application/vnd.jupyter.widget-view+json": {
              "model_id": "72aac03e5264463d8fed4e2c1c590050",
              "version_minor": 0,
              "version_major": 2
            },
            "text/plain": [
              "HBox(children=(FloatProgress(value=0.0, max=5001.0), HTML(value='')))"
            ]
          },
          "metadata": {
            "tags": []
          }
        },
        {
          "output_type": "stream",
          "text": [
            "\n"
          ],
          "name": "stdout"
        }
      ]
    },
    {
      "cell_type": "code",
      "metadata": {
        "id": "-z31Xm_Mx1nb",
        "outputId": "2f16a61d-fae3-40fc-dc0b-57950b153353",
        "colab": {
          "base_uri": "https://localhost:8080/",
          "height": 34
        }
      },
      "source": [
        "data_train_lvl_1_2['item_id'].nunique()"
      ],
      "execution_count": 17,
      "outputs": [
        {
          "output_type": "execute_result",
          "data": {
            "text/plain": [
              "5001"
            ]
          },
          "metadata": {
            "tags": []
          },
          "execution_count": 17
        }
      ]
    },
    {
      "cell_type": "code",
      "metadata": {
        "id": "y_nHF9sH4VyZ",
        "outputId": "9c709c27-deb7-4cc4-9fb5-8ade2e4de3e4",
        "colab": {
          "base_uri": "https://localhost:8080/",
          "height": 111
        }
      },
      "source": [
        "# Фильтр должен строиться на основе самого первого датасета (data_train_lvl_1_2)\n",
        "filter = FilterClass(data_train_lvl_1_2, item_features)\n",
        "\n",
        "# Формируем выходной датасет\n",
        "result_lvl_2 = data_val_lvl_2.groupby('user_id')['item_id'].unique().reset_index()\n",
        "result_lvl_2.columns=['user_id', 'actual']\n",
        "\n",
        "# Получаем результаты (для каждого пользователя 1000 товаров, чтобы потом выполнить постфильтрацию)\n",
        "#result_lvl_2['candidates'] = result_lvl_2['user_id'].apply(lambda x: single_layer_model.get_als_recommendations(x, N=200))\n",
        "\n",
        "result_lvl_2['base_rec'] = result_lvl_2['user_id'].apply(lambda x: single_layer_model.get_own_recommendations(x, N=500))\n",
        "result_lvl_2['als_rec'] = result_lvl_2['user_id'].apply(lambda x: single_layer_model.get_als_recommendations(x, N=500))\n",
        "\n",
        "# Оставляем ТОП-5 товаров для каждого пользователя\n",
        "#result_lvl_2['candidates'] = result_lvl_2['candidates'].apply(lambda x: x[:5])\n",
        "\n",
        "result_lvl_2.head(2)"
      ],
      "execution_count": 27,
      "outputs": [
        {
          "output_type": "execute_result",
          "data": {
            "text/html": [
              "<div>\n",
              "<style scoped>\n",
              "    .dataframe tbody tr th:only-of-type {\n",
              "        vertical-align: middle;\n",
              "    }\n",
              "\n",
              "    .dataframe tbody tr th {\n",
              "        vertical-align: top;\n",
              "    }\n",
              "\n",
              "    .dataframe thead th {\n",
              "        text-align: right;\n",
              "    }\n",
              "</style>\n",
              "<table border=\"1\" class=\"dataframe\">\n",
              "  <thead>\n",
              "    <tr style=\"text-align: right;\">\n",
              "      <th></th>\n",
              "      <th>user_id</th>\n",
              "      <th>actual</th>\n",
              "      <th>base_rec</th>\n",
              "      <th>als_rec</th>\n",
              "    </tr>\n",
              "  </thead>\n",
              "  <tbody>\n",
              "    <tr>\n",
              "      <th>0</th>\n",
              "      <td>1</td>\n",
              "      <td>[821867, 834484, 856942, 865456, 889248, 90795...</td>\n",
              "      <td>[856942, 8293439, 888104, 5577022, 1082269, 92...</td>\n",
              "      <td>[867188, 1082212, 1132911, 995242, 10149640, 8...</td>\n",
              "    </tr>\n",
              "    <tr>\n",
              "      <th>1</th>\n",
              "      <td>3</td>\n",
              "      <td>[835476, 851057, 872021, 878302, 879948, 90963...</td>\n",
              "      <td>[1092937, 13842214, 998206, 904435, 885697, 10...</td>\n",
              "      <td>[1106523, 1053690, 1133018, 1137346, 1092026, ...</td>\n",
              "    </tr>\n",
              "  </tbody>\n",
              "</table>\n",
              "</div>"
            ],
            "text/plain": [
              "   user_id  ...                                            als_rec\n",
              "0        1  ...  [867188, 1082212, 1132911, 995242, 10149640, 8...\n",
              "1        3  ...  [1106523, 1053690, 1133018, 1137346, 1092026, ...\n",
              "\n",
              "[2 rows x 4 columns]"
            ]
          },
          "metadata": {
            "tags": []
          },
          "execution_count": 27
        }
      ]
    },
    {
      "cell_type": "code",
      "metadata": {
        "id": "1r3w9g2FAZHU"
      },
      "source": [
        "# Добавляем стоимость рекомендованных товаров\n",
        "result_lvl_2['base_rec_price'] = result_lvl_2['base_rec'].apply(lambda x: filter.get_mean_prices_from_items(x))\n",
        "result_lvl_2['als_rec_prie'] = result_lvl_2['als_rec'].apply(lambda x: filter.get_mean_prices_from_items(x))"
      ],
      "execution_count": 28,
      "outputs": []
    },
    {
      "cell_type": "code",
      "metadata": {
        "id": "llyry-IVCXvR",
        "outputId": "99dcabc2-88de-49ed-8495-3be96d0784ff",
        "colab": {
          "base_uri": "https://localhost:8080/",
          "height": 193
        }
      },
      "source": [
        "result_lvl_2.head(3)"
      ],
      "execution_count": 29,
      "outputs": [
        {
          "output_type": "execute_result",
          "data": {
            "text/html": [
              "<div>\n",
              "<style scoped>\n",
              "    .dataframe tbody tr th:only-of-type {\n",
              "        vertical-align: middle;\n",
              "    }\n",
              "\n",
              "    .dataframe tbody tr th {\n",
              "        vertical-align: top;\n",
              "    }\n",
              "\n",
              "    .dataframe thead th {\n",
              "        text-align: right;\n",
              "    }\n",
              "</style>\n",
              "<table border=\"1\" class=\"dataframe\">\n",
              "  <thead>\n",
              "    <tr style=\"text-align: right;\">\n",
              "      <th></th>\n",
              "      <th>user_id</th>\n",
              "      <th>actual</th>\n",
              "      <th>base_rec</th>\n",
              "      <th>als_rec</th>\n",
              "      <th>base_rec_price</th>\n",
              "      <th>als_rec_prie</th>\n",
              "    </tr>\n",
              "  </thead>\n",
              "  <tbody>\n",
              "    <tr>\n",
              "      <th>0</th>\n",
              "      <td>1</td>\n",
              "      <td>[821867, 834484, 856942, 865456, 889248, 90795...</td>\n",
              "      <td>[856942, 8293439, 888104, 5577022, 1082269, 92...</td>\n",
              "      <td>[867188, 1082212, 1132911, 995242, 10149640, 8...</td>\n",
              "      <td>[2.7796416938110737, 3.866871165644175, 4.9900...</td>\n",
              "      <td>[1.105548523206752, 2.0154750000000035, 2.1802...</td>\n",
              "    </tr>\n",
              "    <tr>\n",
              "      <th>1</th>\n",
              "      <td>3</td>\n",
              "      <td>[835476, 851057, 872021, 878302, 879948, 90963...</td>\n",
              "      <td>[1092937, 13842214, 998206, 904435, 885697, 10...</td>\n",
              "      <td>[1106523, 1053690, 1133018, 1137346, 1092026, ...</td>\n",
              "      <td>[2.402512998266887, 1.9900000000000064, 2.0065...</td>\n",
              "      <td>[2.3801175663760463, 1.1639542413123416, 1.199...</td>\n",
              "    </tr>\n",
              "    <tr>\n",
              "      <th>2</th>\n",
              "      <td>6</td>\n",
              "      <td>[920308, 926804, 946489, 1006718, 1017061, 107...</td>\n",
              "      <td>[8203834, 972416, 12757544, 1053329, 13003092,...</td>\n",
              "      <td>[866211, 1023720, 1055504, 1127179, 878996, 11...</td>\n",
              "      <td>[5.438435207823961, 6.185000000000001, 3.1883,...</td>\n",
              "      <td>[3.3179786230745076, 2.2964800559832046, 3.121...</td>\n",
              "    </tr>\n",
              "  </tbody>\n",
              "</table>\n",
              "</div>"
            ],
            "text/plain": [
              "   user_id  ...                                       als_rec_prie\n",
              "0        1  ...  [1.105548523206752, 2.0154750000000035, 2.1802...\n",
              "1        3  ...  [2.3801175663760463, 1.1639542413123416, 1.199...\n",
              "2        6  ...  [3.3179786230745076, 2.2964800559832046, 3.121...\n",
              "\n",
              "[3 rows x 6 columns]"
            ]
          },
          "metadata": {
            "tags": []
          },
          "execution_count": 29
        }
      ]
    },
    {
      "cell_type": "code",
      "metadata": {
        "id": "7bxc_b94Cy14",
        "outputId": "772912f4-efe7-4760-acd4-3839cfd71361",
        "colab": {
          "base_uri": "https://localhost:8080/",
          "height": 34
        }
      },
      "source": [
        "result_lvl_2['als_MP5'] = result_lvl_2.apply(lambda row: money_precision_at_k(row['als_rec'], row['actual'], row['als_rec_prie'], k=5), axis=1)\n",
        "als = result_lvl_2['als_MP5'].mean()\n",
        "result_lvl_2['base_MP5'] = result_lvl_2.apply(lambda row: money_precision_at_k(row['base_rec'], row['actual'], row['base_rec_price'], k=5), axis=1)\n",
        "base = result_lvl_2['base_MP5'].mean()\n",
        "base, als # Метрики money precision @ 5 до бизнесфильтра"
      ],
      "execution_count": 30,
      "outputs": [
        {
          "output_type": "execute_result",
          "data": {
            "text/plain": [
              "(0.18889313409774325, 0.13204087406135223)"
            ]
          },
          "metadata": {
            "tags": []
          },
          "execution_count": 30
        }
      ]
    },
    {
      "cell_type": "code",
      "metadata": {
        "id": "0olJn42kghS7"
      },
      "source": [
        "result_lvl_2.drop(columns=['base_rec_price', 'als_rec_prie', 'base_MP5', 'als_MP5'], inplace=True)"
      ],
      "execution_count": 31,
      "outputs": []
    },
    {
      "cell_type": "code",
      "metadata": {
        "id": "NeRjvkBtACvK"
      },
      "source": [
        "# Добавляем собственные покупки\n",
        "#result_lvl_2['own_recommender'] = result_lvl_2['user_id'].apply(lambda x: single_layer_model.get_own_recommendations(x, 50))\n",
        "# Добавляем all_top_items\n",
        "result_lvl_2['all_top_items'] = result_lvl_2['user_id'].apply(lambda x: single_layer_model.get_all_top_items())\n",
        "# Добавляем  top_items_in_users_basket\n",
        "result_lvl_2['top_items_in_users_basket'] = result_lvl_2['user_id'].apply(lambda x: single_layer_model.get_top_items_in_users_basket(x))\n",
        "# Добавляем top_items_for_user\n",
        "result_lvl_2['top_items_for_user'] = result_lvl_2['user_id'].apply(lambda x: single_layer_model.get_top_items_for_user(x))"
      ],
      "execution_count": 32,
      "outputs": []
    },
    {
      "cell_type": "code",
      "metadata": {
        "id": "MUSNwE6CAu-z",
        "outputId": "37224f9f-4091-44d2-9804-30a0a56e1aff",
        "colab": {
          "base_uri": "https://localhost:8080/",
          "height": 244
        }
      },
      "source": [
        "result_lvl_2.head(3)"
      ],
      "execution_count": 33,
      "outputs": [
        {
          "output_type": "execute_result",
          "data": {
            "text/html": [
              "<div>\n",
              "<style scoped>\n",
              "    .dataframe tbody tr th:only-of-type {\n",
              "        vertical-align: middle;\n",
              "    }\n",
              "\n",
              "    .dataframe tbody tr th {\n",
              "        vertical-align: top;\n",
              "    }\n",
              "\n",
              "    .dataframe thead th {\n",
              "        text-align: right;\n",
              "    }\n",
              "</style>\n",
              "<table border=\"1\" class=\"dataframe\">\n",
              "  <thead>\n",
              "    <tr style=\"text-align: right;\">\n",
              "      <th></th>\n",
              "      <th>user_id</th>\n",
              "      <th>actual</th>\n",
              "      <th>base_rec</th>\n",
              "      <th>als_rec</th>\n",
              "      <th>all_top_items</th>\n",
              "      <th>top_items_in_users_basket</th>\n",
              "      <th>top_items_for_user</th>\n",
              "    </tr>\n",
              "  </thead>\n",
              "  <tbody>\n",
              "    <tr>\n",
              "      <th>0</th>\n",
              "      <td>1</td>\n",
              "      <td>[821867, 834484, 856942, 865456, 889248, 90795...</td>\n",
              "      <td>[856942, 8293439, 888104, 5577022, 1082269, 92...</td>\n",
              "      <td>[867188, 1082212, 1132911, 995242, 10149640, 8...</td>\n",
              "      <td>[916122, 965267, 854405, 930118, 863447, 83941...</td>\n",
              "      <td>[1082269, 10149640, 888104, 883616, 953561, 82...</td>\n",
              "      <td>[1082269, 10149640, 888104, 883616, 953561, 82...</td>\n",
              "    </tr>\n",
              "    <tr>\n",
              "      <th>1</th>\n",
              "      <td>3</td>\n",
              "      <td>[835476, 851057, 872021, 878302, 879948, 90963...</td>\n",
              "      <td>[1092937, 13842214, 998206, 904435, 885697, 10...</td>\n",
              "      <td>[1106523, 1053690, 1133018, 1137346, 1092026, ...</td>\n",
              "      <td>[916122, 965267, 854405, 930118, 863447, 83941...</td>\n",
              "      <td>[854405, 847573, 12263692, 948953, 1056005, 11...</td>\n",
              "      <td>[847573, 12263692, 854405, 1056005, 948650, 94...</td>\n",
              "    </tr>\n",
              "    <tr>\n",
              "      <th>2</th>\n",
              "      <td>6</td>\n",
              "      <td>[920308, 926804, 946489, 1006718, 1017061, 107...</td>\n",
              "      <td>[8203834, 972416, 12757544, 1053329, 13003092,...</td>\n",
              "      <td>[866211, 1023720, 1055504, 1127179, 878996, 11...</td>\n",
              "      <td>[916122, 965267, 854405, 930118, 863447, 83941...</td>\n",
              "      <td>[863447, 13003092, 965267, 1098844, 8203834, 9...</td>\n",
              "      <td>[863447, 13003092, 1098844, 965267, 8203834, 9...</td>\n",
              "    </tr>\n",
              "  </tbody>\n",
              "</table>\n",
              "</div>"
            ],
            "text/plain": [
              "   user_id  ...                                 top_items_for_user\n",
              "0        1  ...  [1082269, 10149640, 888104, 883616, 953561, 82...\n",
              "1        3  ...  [847573, 12263692, 854405, 1056005, 948650, 94...\n",
              "2        6  ...  [863447, 13003092, 1098844, 965267, 8203834, 9...\n",
              "\n",
              "[3 rows x 7 columns]"
            ]
          },
          "metadata": {
            "tags": []
          },
          "execution_count": 33
        }
      ]
    },
    {
      "cell_type": "code",
      "metadata": {
        "id": "TyHxrfIhj_Ic"
      },
      "source": [
        "# Фильтр должен строиться на основе самого первого датасета (data_train_lvl_1_2)\n",
        "filter = FilterClass(data_train_lvl_1_2, item_features)"
      ],
      "execution_count": 71,
      "outputs": []
    },
    {
      "cell_type": "code",
      "metadata": {
        "id": "sNt9jOwMAecb"
      },
      "source": [
        "# На основе полученного датасета выполняем постфильтрацию\n",
        "result_lvl_2['result'] = result_lvl_2.apply(lambda row: filter.postfilter(\n",
        "    user_id = row['user_id'],\n",
        "    lgbm_candidates = row['als_rec'],\n",
        "    own_recommender = row['base_rec'],\n",
        "    all_top_items = row['all_top_items'],\n",
        "    top_items_in_users_basket = row['top_items_in_users_basket'],\n",
        "    top_items_for_user = row['top_items_for_user']\n",
        "), axis=1)"
      ],
      "execution_count": 53,
      "outputs": []
    },
    {
      "cell_type": "code",
      "metadata": {
        "id": "iulcSa3MBcjj"
      },
      "source": [
        "# Добавляем стоимость рекомендованных товаров\n",
        "result_lvl_2['prices_recommended'] = result_lvl_2['result'].\\\n",
        "                                  apply(lambda x: filter.get_mean_prices_from_items(x))"
      ],
      "execution_count": 54,
      "outputs": []
    },
    {
      "cell_type": "code",
      "metadata": {
        "id": "cuIkGz_l69J-",
        "outputId": "626eb09b-e777-4888-b07b-7011dce3af86",
        "colab": {
          "base_uri": "https://localhost:8080/",
          "height": 34
        }
      },
      "source": [
        "# Вычислим длины всех предложений\n",
        "result_lvl_2['row_len'] = result_lvl_2['result'].apply(lambda x: len(x))\n",
        "\n",
        "print('Кол-во рекомендаций с длиной != 5 ', result_lvl_2[result_lvl_2['row_len'] != 5].shape[0])"
      ],
      "execution_count": 55,
      "outputs": [
        {
          "output_type": "stream",
          "text": [
            "Кол-во рекомендаций с длиной != 5  35\n"
          ],
          "name": "stdout"
        }
      ]
    },
    {
      "cell_type": "code",
      "metadata": {
        "id": "Tze3503H538X",
        "outputId": "1726bf5b-54d0-497b-d9cd-8cda61f332a2",
        "colab": {
          "base_uri": "https://localhost:8080/",
          "height": 301
        }
      },
      "source": [
        "result_lvl_2 = result_lvl_2.drop(columns = ['row_len'])\n",
        "result_lvl_2.head(2)"
      ],
      "execution_count": 56,
      "outputs": [
        {
          "output_type": "execute_result",
          "data": {
            "text/html": [
              "<div>\n",
              "<style scoped>\n",
              "    .dataframe tbody tr th:only-of-type {\n",
              "        vertical-align: middle;\n",
              "    }\n",
              "\n",
              "    .dataframe tbody tr th {\n",
              "        vertical-align: top;\n",
              "    }\n",
              "\n",
              "    .dataframe thead th {\n",
              "        text-align: right;\n",
              "    }\n",
              "</style>\n",
              "<table border=\"1\" class=\"dataframe\">\n",
              "  <thead>\n",
              "    <tr style=\"text-align: right;\">\n",
              "      <th></th>\n",
              "      <th>user_id</th>\n",
              "      <th>actual</th>\n",
              "      <th>base_rec</th>\n",
              "      <th>als_rec</th>\n",
              "      <th>all_top_items</th>\n",
              "      <th>top_items_in_users_basket</th>\n",
              "      <th>top_items_for_user</th>\n",
              "      <th>result</th>\n",
              "      <th>prices_recommended</th>\n",
              "    </tr>\n",
              "  </thead>\n",
              "  <tbody>\n",
              "    <tr>\n",
              "      <th>0</th>\n",
              "      <td>1</td>\n",
              "      <td>[821867, 834484, 856942, 865456, 889248, 90795...</td>\n",
              "      <td>[856942, 8293439, 888104, 5577022, 1082269, 92...</td>\n",
              "      <td>[867188, 1082212, 1132911, 995242, 10149640, 8...</td>\n",
              "      <td>[916122, 965267, 854405, 930118, 863447, 83941...</td>\n",
              "      <td>[1082269, 10149640, 888104, 883616, 953561, 82...</td>\n",
              "      <td>[1082269, 10149640, 888104, 883616, 953561, 82...</td>\n",
              "      <td>[1082269, 856942, 10149640, 867188, 958046]</td>\n",
              "      <td>[4.08126315789474, 2.7796416938110737, 6.54088...</td>\n",
              "    </tr>\n",
              "    <tr>\n",
              "      <th>1</th>\n",
              "      <td>3</td>\n",
              "      <td>[835476, 851057, 872021, 878302, 879948, 90963...</td>\n",
              "      <td>[1092937, 13842214, 998206, 904435, 885697, 10...</td>\n",
              "      <td>[1106523, 1053690, 1133018, 1137346, 1092026, ...</td>\n",
              "      <td>[916122, 965267, 854405, 930118, 863447, 83941...</td>\n",
              "      <td>[854405, 847573, 12263692, 948953, 1056005, 11...</td>\n",
              "      <td>[847573, 12263692, 854405, 1056005, 948650, 94...</td>\n",
              "      <td>[854405, 1092937, 847573, 13671759, 1092026]</td>\n",
              "      <td>[6.469165120593573, 2.402512998266887, 5.06997...</td>\n",
              "    </tr>\n",
              "  </tbody>\n",
              "</table>\n",
              "</div>"
            ],
            "text/plain": [
              "   user_id  ...                                 prices_recommended\n",
              "0        1  ...  [4.08126315789474, 2.7796416938110737, 6.54088...\n",
              "1        3  ...  [6.469165120593573, 2.402512998266887, 5.06997...\n",
              "\n",
              "[2 rows x 9 columns]"
            ]
          },
          "metadata": {
            "tags": []
          },
          "execution_count": 56
        }
      ]
    },
    {
      "cell_type": "code",
      "metadata": {
        "id": "iakpB6IX9Gld",
        "outputId": "6fdd2ae2-be39-4710-b03d-45b6501a9bc4",
        "colab": {
          "base_uri": "https://localhost:8080/",
          "height": 34
        }
      },
      "source": [
        "result_lvl_2.apply(lambda row: precision_at_k(row['result'], row['actual'], k=5), axis=1).mean()"
      ],
      "execution_count": 57,
      "outputs": [
        {
          "output_type": "execute_result",
          "data": {
            "text/plain": [
              "0.1275710088148863"
            ]
          },
          "metadata": {
            "tags": []
          },
          "execution_count": 57
        }
      ]
    },
    {
      "cell_type": "code",
      "metadata": {
        "id": "d0_1Unm09QTK",
        "outputId": "fe02799a-6351-4da5-a8c0-ea247c465d81",
        "colab": {
          "base_uri": "https://localhost:8080/",
          "height": 34
        }
      },
      "source": [
        "result_lvl_2.apply(lambda row: money_precision_at_k(row['result'], row['actual'], row['prices_recommended'], k=5), axis=1).mean()"
      ],
      "execution_count": 58,
      "outputs": [
        {
          "output_type": "execute_result",
          "data": {
            "text/plain": [
              "0.11859978456786814"
            ]
          },
          "metadata": {
            "tags": []
          },
          "execution_count": 58
        }
      ]
    },
    {
      "cell_type": "markdown",
      "metadata": {
        "id": "3vlabSFEnL4D"
      },
      "source": [
        "# 5. Получение результатов"
      ]
    },
    {
      "cell_type": "code",
      "metadata": {
        "id": "8sMZu9CZoBWe"
      },
      "source": [
        "!cp /content/drive/'My Drive'/test.csv /content"
      ],
      "execution_count": 61,
      "outputs": []
    },
    {
      "cell_type": "code",
      "metadata": {
        "id": "ghnEX2EQoXrY"
      },
      "source": [
        "test_ds = pd.read_csv('test.csv')"
      ],
      "execution_count": 62,
      "outputs": []
    },
    {
      "cell_type": "code",
      "metadata": {
        "id": "RKVM3_vSodcH"
      },
      "source": [
        "test_ds['base_rec'] = test_ds['user_id'].apply(lambda x: single_layer_model.get_own_recommendations(x, N=500))\n",
        "test_ds['als_rec'] = test_ds['user_id'].apply(lambda x: single_layer_model.get_als_recommendations(x, N=500))\n",
        "test_ds['all_top_items'] = test_ds['user_id'].apply(lambda x: single_layer_model.get_all_top_items())\n",
        "test_ds['top_items_in_users_basket'] = test_ds['user_id'].apply(lambda x: single_layer_model.get_top_items_in_users_basket(x))\n",
        "test_ds['top_items_for_user'] = test_ds['user_id'].apply(lambda x: single_layer_model.get_top_items_for_user(x))"
      ],
      "execution_count": 64,
      "outputs": []
    },
    {
      "cell_type": "code",
      "metadata": {
        "id": "mcFNBk4spdxq"
      },
      "source": [
        "# На основе полученного датасета выполняем постфильтрацию\n",
        "test_ds['result'] = test_ds.apply(lambda row: filter.postfilter(\n",
        "    user_id = row['user_id'],\n",
        "    lgbm_candidates = row['als_rec'],\n",
        "    own_recommender = row['base_rec'],\n",
        "    all_top_items = row['all_top_items'],\n",
        "    top_items_in_users_basket = row['top_items_in_users_basket'],\n",
        "    top_items_for_user = row['top_items_for_user']\n",
        "), axis=1)"
      ],
      "execution_count": 72,
      "outputs": []
    },
    {
      "cell_type": "code",
      "metadata": {
        "id": "_TJjS8HNpyw3"
      },
      "source": [
        "test_ds = test_ds[['user_id', 'result']]"
      ],
      "execution_count": 74,
      "outputs": []
    },
    {
      "cell_type": "code",
      "metadata": {
        "id": "_THHfU2msLrL"
      },
      "source": [
        "test_ds.to_csv('test.csv')"
      ],
      "execution_count": 77,
      "outputs": []
    },
    {
      "cell_type": "code",
      "metadata": {
        "id": "dmMU8hugsg1X"
      },
      "source": [
        ""
      ],
      "execution_count": null,
      "outputs": []
    }
  ]
}