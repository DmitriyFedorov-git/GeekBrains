{
  "nbformat": 4,
  "nbformat_minor": 0,
  "metadata": {
    "kernelspec": {
      "display_name": "Python 3",
      "language": "python",
      "name": "python3"
    },
    "language_info": {
      "codemirror_mode": {
        "name": "ipython",
        "version": 3
      },
      "file_extension": ".py",
      "mimetype": "text/x-python",
      "name": "python",
      "nbconvert_exporter": "python",
      "pygments_lexer": "ipython3",
      "version": "3.7.3"
    },
    "colab": {
      "name": "hw_webinar_5.ipynb",
      "provenance": [],
      "collapsed_sections": [],
      "toc_visible": true
    }
  },
  "cells": [
    {
      "cell_type": "markdown",
      "metadata": {
        "id": "OIyO59Etubjg",
        "colab_type": "text"
      },
      "source": [
        "1. В чем принципиальное отличие гибридных рекомендательных систем от коллаборативной филтьтрации?"
      ]
    },
    {
      "cell_type": "markdown",
      "metadata": {
        "id": "eSzwoBAfuj8h",
        "colab_type": "text"
      },
      "source": [
        "В гибридных рекомендательных системах учитываются признаки (features) пользователей и товаров как дополнительные линейные комбинации для эмбэдинга пользователя или товара\n",
        "\n"
      ]
    },
    {
      "cell_type": "markdown",
      "metadata": {
        "id": "iRStF9kTubxv",
        "colab_type": "text"
      },
      "source": [
        "2. Приведите 2-3 примера задач, в которых необходимо использовать гибридные системы"
      ]
    },
    {
      "cell_type": "markdown",
      "metadata": {
        "id": "lD1xvzY0-fNY",
        "colab_type": "text"
      },
      "source": [
        "В случае холодного старта, когда в матрице user-item мало взаимодействий\n",
        "\n",
        "Холодный страт для товаров - введение нового товара (YouTube, Ozon, hh.ru)  \n",
        "Холодный старт для пользователя - регистрация нового пользователя\n",
        "\n",
        "\n"
      ]
    },
    {
      "cell_type": "markdown",
      "metadata": {
        "id": "L4pSB-jBkbDu",
        "colab_type": "text"
      },
      "source": [
        "Использование признаков в гибридных системах упрощает решение задачи в случае холодного старт за счет использования информации из признаков пользователей и товаров"
      ]
    }
  ]
}