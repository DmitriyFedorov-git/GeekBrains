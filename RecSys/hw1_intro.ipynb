{
  "nbformat": 4,
  "nbformat_minor": 0,
  "metadata": {
    "kernelspec": {
      "display_name": "Python 3",
      "language": "python",
      "name": "python3"
    },
    "language_info": {
      "codemirror_mode": {
        "name": "ipython",
        "version": 3
      },
      "file_extension": ".py",
      "mimetype": "text/x-python",
      "name": "python",
      "nbconvert_exporter": "python",
      "pygments_lexer": "ipython3",
      "version": "3.7.3"
    },
    "colab": {
      "name": "hw_webinar_1.ipynb",
      "provenance": [],
      "collapsed_sections": []
    }
  },
  "cells": [
    {
      "cell_type": "markdown",
      "metadata": {
        "id": "linMphupjAkX",
        "colab_type": "text"
      },
      "source": [
        "# Домащнее задание - 1"
      ]
    },
    {
      "cell_type": "markdown",
      "metadata": {
        "id": "ORpb8DeNjAkZ",
        "colab_type": "text"
      },
      "source": [
        "Заполните пропуски #your_code для функций ниже"
      ]
    },
    {
      "cell_type": "code",
      "metadata": {
        "id": "2gybthbrjAkb",
        "colab_type": "code",
        "colab": {}
      },
      "source": [
        "import numpy as np\n",
        "\n",
        "recommended_list = [143, 156, 1134, 991, 27, 1543, 3345, 533, 11, 43] #id товаров\n",
        "bought_list = [521, 32, 143, 991]\n",
        "\n",
        "prices_recommended = [100, 90, 10, 450, 50, 37, 99, 120, 34, 100]\n",
        "prices_bought = [110, 190, 100, 450]"
      ],
      "execution_count": 1,
      "outputs": []
    },
    {
      "cell_type": "code",
      "metadata": {
        "id": "7PpN08nejAki",
        "colab_type": "code",
        "colab": {}
      },
      "source": [
        "def hit_rate_at_k(recommended_list, bought_list, k=5):\n",
        "    \n",
        "    bought_list = np.array(bought_list)\n",
        "    recommended_list = np.array(recommended_list)\n",
        "    recommended_list = recommended_list[:k]\n",
        "    flags = np.isin(bought_list, recommended_list)\n",
        "    hit_rate = (flags.sum() > 0) * 1\n",
        "    \n",
        "    return hit_rate"
      ],
      "execution_count": 2,
      "outputs": []
    },
    {
      "cell_type": "code",
      "metadata": {
        "id": "9BqqwgWJyxSL",
        "colab_type": "code",
        "colab": {
          "base_uri": "https://localhost:8080/",
          "height": 35
        },
        "outputId": "84a95a39-848c-4e13-ba8b-bc20335fd376"
      },
      "source": [
        "hit_rate_at_k(recommended_list, bought_list, k=5)"
      ],
      "execution_count": 3,
      "outputs": [
        {
          "output_type": "execute_result",
          "data": {
            "text/plain": [
              "1"
            ]
          },
          "metadata": {
            "tags": []
          },
          "execution_count": 3
        }
      ]
    },
    {
      "cell_type": "code",
      "metadata": {
        "id": "WKxz5rtGjAkl",
        "colab_type": "code",
        "colab": {}
      },
      "source": [
        "def money_precision_at_k(recommended_list, bought_list, prices_recommended, k=5):\n",
        "        \n",
        "    bought_list = np.array(bought_list)\n",
        "    recommended_list = np.array(recommended_list)\n",
        "    prices_recommended = np.array(prices_recommended)\n",
        "\n",
        "    recommended_list = recommended_list[:k]\n",
        "    prices_recommended = prices_recommended[:k]\n",
        "\n",
        "    flags = np.isin(recommended_list, bought_list)\n",
        "    res = np.dot(flags, prices_recommended) / np.sum(prices_recommended)\n",
        "    return res"
      ],
      "execution_count": 4,
      "outputs": []
    },
    {
      "cell_type": "code",
      "metadata": {
        "id": "SIsGp25Wy0m4",
        "colab_type": "code",
        "colab": {
          "base_uri": "https://localhost:8080/",
          "height": 35
        },
        "outputId": "43a7b99d-e862-4c43-a717-8026ca56f4b5"
      },
      "source": [
        "money_precision_at_k(recommended_list, bought_list, prices_recommended, k=5)"
      ],
      "execution_count": 5,
      "outputs": [
        {
          "output_type": "execute_result",
          "data": {
            "text/plain": [
              "0.7857142857142857"
            ]
          },
          "metadata": {
            "tags": []
          },
          "execution_count": 5
        }
      ]
    },
    {
      "cell_type": "code",
      "metadata": {
        "id": "IY4Y9Lu-jAko",
        "colab_type": "code",
        "colab": {}
      },
      "source": [
        "def recall_at_k(recommended_list, bought_list, k=5):\n",
        "    \n",
        "    bought_list = np.array(bought_list)\n",
        "    recommended_list = np.array(recommended_list)\n",
        "    recommended_list = recommended_list[:k]\n",
        "    flags = np.isin(bought_list, recommended_list)\n",
        "    recall = flags.sum() / len(bought_list)\n",
        "    \n",
        "    return recall\n",
        "\n",
        "\n",
        "def money_recall_at_k(recommended_list, bought_list, prices_bought, k=5):\n",
        "    \n",
        "    bought_list = np.array(bought_list)\n",
        "    prices_bought = np.array(prices_bought)\n",
        "    recommended_list = np.array(recommended_list)\n",
        "    recommended_list = recommended_list[:k]\n",
        "    flags = np.isin(bought_list, recommended_list)\n",
        "    res = np.dot(flags, prices_bought) / np.sum(prices_bought)\n",
        "    return res"
      ],
      "execution_count": 6,
      "outputs": []
    },
    {
      "cell_type": "code",
      "metadata": {
        "id": "_Walwe-V1cHn",
        "colab_type": "code",
        "colab": {
          "base_uri": "https://localhost:8080/",
          "height": 35
        },
        "outputId": "08451267-5887-44a6-df90-518e3a7e8141"
      },
      "source": [
        "recall_at_k(recommended_list, bought_list, k=5)"
      ],
      "execution_count": 7,
      "outputs": [
        {
          "output_type": "execute_result",
          "data": {
            "text/plain": [
              "0.5"
            ]
          },
          "metadata": {
            "tags": []
          },
          "execution_count": 7
        }
      ]
    },
    {
      "cell_type": "code",
      "metadata": {
        "id": "sW-2SuSL1pdd",
        "colab_type": "code",
        "colab": {
          "base_uri": "https://localhost:8080/",
          "height": 35
        },
        "outputId": "c5045613-e0c5-4589-f174-6f87d12e9d9c"
      },
      "source": [
        "money_recall_at_k(recommended_list, bought_list, prices_bought, k=5)"
      ],
      "execution_count": 8,
      "outputs": [
        {
          "output_type": "execute_result",
          "data": {
            "text/plain": [
              "0.6470588235294118"
            ]
          },
          "metadata": {
            "tags": []
          },
          "execution_count": 8
        }
      ]
    },
    {
      "cell_type": "code",
      "metadata": {
        "id": "4OC6mUQBD0Qc",
        "colab_type": "code",
        "colab": {}
      },
      "source": [
        "recommended_list = [143, 156, 1134, 991, 27, 1543, 3345, 533, 11, 43] #id товаров\n",
        "bought_list = [521, 32, 143, 991]"
      ],
      "execution_count": 9,
      "outputs": []
    },
    {
      "cell_type": "code",
      "metadata": {
        "id": "qk7IwkL1jAks",
        "colab_type": "code",
        "colab": {}
      },
      "source": [
        "def reciprocal_rank(recommended_list, bought_list):\n",
        "    bought_list = np.array(bought_list)\n",
        "    recommended_list = np.array(recommended_list)\n",
        "    sum = 0\n",
        "    for i in bought_list:\n",
        "      a = np.where(recommended_list == i)[0]\n",
        "      if len(a)!= 0:\n",
        "        sum += 1/(a[0] + 1)\n",
        "    sum /= len(bought_list)\n",
        "    return sum"
      ],
      "execution_count": 10,
      "outputs": []
    },
    {
      "cell_type": "code",
      "metadata": {
        "id": "O6MJNf7IDOgw",
        "colab_type": "code",
        "colab": {
          "base_uri": "https://localhost:8080/",
          "height": 35
        },
        "outputId": "4aff393f-b03d-4b47-d8b4-aba6e4d29a0e"
      },
      "source": [
        "reciprocal_rank(recommended_list, bought_list)"
      ],
      "execution_count": 11,
      "outputs": [
        {
          "output_type": "execute_result",
          "data": {
            "text/plain": [
              "0.3125"
            ]
          },
          "metadata": {
            "tags": []
          },
          "execution_count": 11
        }
      ]
    }
  ]
}