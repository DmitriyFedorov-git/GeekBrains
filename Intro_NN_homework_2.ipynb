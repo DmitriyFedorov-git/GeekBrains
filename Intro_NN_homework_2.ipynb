{
 "cells": [
  {
   "cell_type": "markdown",
   "metadata": {},
   "source": [
    "## Практическое задание\n",
    "\n",
    "<ol>\n",
    "    <li>Попробуйте обучить нейронную сеть на Keras с другими параметрами. \n",
    "        Опишите в комментарии к уроку - какой результата вы добились от нейросети? Что помогло вам улучшить ее точность?</li>\n",
    "    <li>Поработайте с документацией Keras.</li>\n",
    "</ol>"
   ]
  },
  {
   "cell_type": "code",
   "execution_count": 45,
   "metadata": {},
   "outputs": [],
   "source": [
    "import tensorflow as tf"
   ]
  },
  {
   "cell_type": "code",
   "execution_count": 58,
   "metadata": {},
   "outputs": [],
   "source": [
    "import os\n",
    "import random as rn"
   ]
  },
  {
   "cell_type": "code",
   "execution_count": 72,
   "metadata": {},
   "outputs": [],
   "source": [
    "os.environ[\"CUDA_DEVICE_ORDER\"] = \"PCI_BUS_ID\"\n",
    "os.environ[\"CUDA_VISIBLE_DEVICES\"] = \"\"\n",
    "sd = 1 # Here sd means seed.\n",
    "np.random.seed(sd)\n",
    "rn.seed(sd)\n",
    "os.environ['PYTHONHASHSEED']=str(sd)\n",
    "tf.random.set_seed(sd)"
   ]
  },
  {
   "cell_type": "code",
   "execution_count": 73,
   "metadata": {},
   "outputs": [],
   "source": [
    "import keras"
   ]
  },
  {
   "cell_type": "code",
   "execution_count": 91,
   "metadata": {},
   "outputs": [],
   "source": [
    "from keras.layers.normalization import BatchNormalization"
   ]
  },
  {
   "cell_type": "code",
   "execution_count": 92,
   "metadata": {},
   "outputs": [
    {
     "name": "stdout",
     "output_type": "stream",
     "text": [
      "Train on 60000 samples, validate on 10000 samples\n",
      "Epoch 1/10\n",
      "60000/60000 [==============================] - 12s 204us/step - loss: 0.3022 - accuracy: 0.9130 - val_loss: 0.2010 - val_accuracy: 0.9405\n",
      "Epoch 2/10\n",
      "60000/60000 [==============================] - 11s 185us/step - loss: 0.1653 - accuracy: 0.9530 - val_loss: 0.1465 - val_accuracy: 0.9547\n",
      "Epoch 3/10\n",
      "60000/60000 [==============================] - 12s 196us/step - loss: 0.1376 - accuracy: 0.9603 - val_loss: 0.1090 - val_accuracy: 0.9669\n",
      "Epoch 4/10\n",
      "60000/60000 [==============================] - 12s 192us/step - loss: 0.1205 - accuracy: 0.9650 - val_loss: 0.0982 - val_accuracy: 0.9722\n",
      "Epoch 5/10\n",
      "60000/60000 [==============================] - 12s 202us/step - loss: 0.1093 - accuracy: 0.9686 - val_loss: 1.5641 - val_accuracy: 0.6753\n",
      "Epoch 6/10\n",
      "60000/60000 [==============================] - 12s 194us/step - loss: 0.1051 - accuracy: 0.9698 - val_loss: 0.1088 - val_accuracy: 0.9693\n",
      "Epoch 7/10\n",
      "60000/60000 [==============================] - 12s 198us/step - loss: 0.0963 - accuracy: 0.9728 - val_loss: 0.1738 - val_accuracy: 0.9501\n",
      "Epoch 8/10\n",
      "60000/60000 [==============================] - 12s 206us/step - loss: 0.0876 - accuracy: 0.9758 - val_loss: 0.1229 - val_accuracy: 0.9660\n",
      "Epoch 9/10\n",
      "60000/60000 [==============================] - 12s 204us/step - loss: 0.0835 - accuracy: 0.9768 - val_loss: 0.0937 - val_accuracy: 0.9749\n",
      "Epoch 10/10\n",
      "60000/60000 [==============================] - 11s 191us/step - loss: 0.0812 - accuracy: 0.9777 - val_loss: 0.0894 - val_accuracy: 0.9764\n",
      "10000/10000 [==============================] - 1s 70us/step\n",
      "Test loss:     0.0894\n",
      "Test accuracy  0.9764\n"
     ]
    }
   ],
   "source": [
    "# The full neural network code!\n",
    "###############################\n",
    "import numpy as np\n",
    "import mnist\n",
    "from keras.models import Sequential\n",
    "from keras.layers import Dense\n",
    "from keras.utils import to_categorical\n",
    "\n",
    "\n",
    "train_images = mnist.train_images()\n",
    "train_labels = mnist.train_labels()\n",
    "test_images = mnist.test_images()\n",
    "test_labels = mnist.test_labels()\n",
    "\n",
    "# Normalize the images.\n",
    "train_images = (train_images / 255) - 0.5\n",
    "test_images = (test_images / 255) - 0.5\n",
    "\n",
    "# Flatten the images.\n",
    "train_images = train_images.reshape((-1, 784))\n",
    "test_images = test_images.reshape((-1, 784))\n",
    "\n",
    "# Build the model.\n",
    "model = Sequential([\n",
    "    Dense(256, activation='relu', kernel_regularizer=tf.keras.regularizers.l2(0.00001), input_shape=(784,)),\n",
    "    keras.layers.normalization.BatchNormalization(),\n",
    "    Dense(128, activation='relu', kernel_regularizer=tf.keras.regularizers.l2(0.00001)),\n",
    "    keras.layers.normalization.BatchNormalization(),\n",
    "    Dense(64, activation='relu', kernel_regularizer=tf.keras.regularizers.l2(0.00001)),\n",
    "    keras.layers.normalization.BatchNormalization(),\n",
    "    Dense(32, activation='relu', kernel_regularizer=tf.keras.regularizers.l2(0.00001)),\n",
    "    keras.layers.normalization.BatchNormalization(),\n",
    "    Dense(10, activation='softmax', kernel_regularizer=tf.keras.regularizers.l2(0.00001)),\n",
    "])\n",
    "\n",
    "lr_schedule = tf.keras.optimizers.schedules.ExponentialDecay(\n",
    "    initial_learning_rate=1e-3,\n",
    "    decay_steps=10000,\n",
    "    decay_rate=0.85)\n",
    "\n",
    "\n",
    "# Compile the model.\n",
    "model.compile(\n",
    "    #optimizer='adam',\n",
    "    optimizer= tf.keras.optimizers.Adam(learning_rate=lr_schedule),\n",
    "    loss='categorical_crossentropy',\n",
    "    metrics=['accuracy'],\n",
    ")\n",
    "\n",
    "# Train the model.\n",
    "model.fit(\n",
    "    train_images,\n",
    "    to_categorical(train_labels),\n",
    "    epochs=10,\n",
    "    batch_size=32,\n",
    "    validation_data=(test_images, to_categorical(test_labels))\n",
    ")\n",
    "\n",
    "# Evaluate the model.\n",
    "results = model.evaluate(\n",
    "    test_images,\n",
    "    to_categorical(test_labels),\n",
    "    batch_size=32\n",
    ")\n",
    "\n",
    "print('Test loss: {:10.4f}\\nTest accuracy {:7.4f}'.format(results[0], results[1]))\n",
    "\n",
    "# Save the model to disk.\n",
    "model.save_weights('model.h5')\n",
    "\n",
    "# Load the model from disk later using:\n",
    "# model.load_weights('model.h5')\n",
    "\n",
    "# Predict on the first 5 test images.\n",
    "#predictions = model.predict(test_images[:5])\n",
    "\n",
    "# Print our model's predictions.\n",
    "#print(np.argmax(predictions, axis=1)) # [7, 2, 1, 0, 4]\n",
    "\n",
    "# Check our predictions against the ground truths.\n",
    "#print(test_labels[:5]) # [7, 2, 1, 0, 4]"
   ]
  },
  {
   "cell_type": "code",
   "execution_count": 93,
   "metadata": {},
   "outputs": [],
   "source": [
    "# Для повышения точности было реализовано: \n",
    "#1. Количество эпох увеличино до 10\n",
    "#2. Добавлен ExponentialDecay для постепенного снижения learning_rate и подобраны его параметры\n",
    "#3. Количество нейронов в 1 слое было увеличино с 64 до 256\n",
    "#4. Добавлен второй слой с количеством нейронов: 128\n",
    "#5. Добавлена l2 регуляризация\n",
    "#6. Добавлен BatchNormalization\n",
    "#7. Добавлен слой с количеством нейронов: 32"
   ]
  },
  {
   "cell_type": "markdown",
   "metadata": {},
   "source": [
    "Результат: test loss = 0.0894; test accuracy = 0.9764"
   ]
  },
  {
   "cell_type": "markdown",
   "metadata": {},
   "source": [
    "В качестве функции для разбора предлагаю tf.keras.preprocessing.image.ImageDataGenerator"
   ]
  },
  {
   "cell_type": "code",
   "execution_count": null,
   "metadata": {},
   "outputs": [],
   "source": []
  }
 ],
 "metadata": {
  "kernelspec": {
   "display_name": "Python 3",
   "language": "python",
   "name": "python3"
  },
  "language_info": {
   "codemirror_mode": {
    "name": "ipython",
    "version": 3
   },
   "file_extension": ".py",
   "mimetype": "text/x-python",
   "name": "python",
   "nbconvert_exporter": "python",
   "pygments_lexer": "ipython3",
   "version": "3.7.7"
  }
 },
 "nbformat": 4,
 "nbformat_minor": 4
}
