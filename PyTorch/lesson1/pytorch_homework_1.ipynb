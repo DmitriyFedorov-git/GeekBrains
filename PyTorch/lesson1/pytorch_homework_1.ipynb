{
  "nbformat": 4,
  "nbformat_minor": 0,
  "metadata": {
    "colab": {
      "name": "pytorch_homework_1.ipynb",
      "provenance": [],
      "collapsed_sections": []
    },
    "kernelspec": {
      "name": "python3",
      "display_name": "Python 3"
    },
    "accelerator": "GPU",
    "widgets": {
      "application/vnd.jupyter.widget-state+json": {
        "9a50dca64e89404887cade0c51cac304": {
          "model_module": "@jupyter-widgets/controls",
          "model_name": "HBoxModel",
          "state": {
            "_view_name": "HBoxView",
            "_dom_classes": [],
            "_model_name": "HBoxModel",
            "_view_module": "@jupyter-widgets/controls",
            "_model_module_version": "1.5.0",
            "_view_count": null,
            "_view_module_version": "1.5.0",
            "box_style": "",
            "layout": "IPY_MODEL_540e86f6fd4143b891f60b338af0a8bf",
            "_model_module": "@jupyter-widgets/controls",
            "children": [
              "IPY_MODEL_e0e06ebfcbf14a0eac3419fefe4a00ce",
              "IPY_MODEL_736dcae317184e708dd05715193ee586"
            ]
          }
        },
        "540e86f6fd4143b891f60b338af0a8bf": {
          "model_module": "@jupyter-widgets/base",
          "model_name": "LayoutModel",
          "state": {
            "_view_name": "LayoutView",
            "grid_template_rows": null,
            "right": null,
            "justify_content": null,
            "_view_module": "@jupyter-widgets/base",
            "overflow": null,
            "_model_module_version": "1.2.0",
            "_view_count": null,
            "flex_flow": null,
            "width": null,
            "min_width": null,
            "border": null,
            "align_items": null,
            "bottom": null,
            "_model_module": "@jupyter-widgets/base",
            "top": null,
            "grid_column": null,
            "overflow_y": null,
            "overflow_x": null,
            "grid_auto_flow": null,
            "grid_area": null,
            "grid_template_columns": null,
            "flex": null,
            "_model_name": "LayoutModel",
            "justify_items": null,
            "grid_row": null,
            "max_height": null,
            "align_content": null,
            "visibility": null,
            "align_self": null,
            "height": null,
            "min_height": null,
            "padding": null,
            "grid_auto_rows": null,
            "grid_gap": null,
            "max_width": null,
            "order": null,
            "_view_module_version": "1.2.0",
            "grid_template_areas": null,
            "object_position": null,
            "object_fit": null,
            "grid_auto_columns": null,
            "margin": null,
            "display": null,
            "left": null
          }
        },
        "e0e06ebfcbf14a0eac3419fefe4a00ce": {
          "model_module": "@jupyter-widgets/controls",
          "model_name": "FloatProgressModel",
          "state": {
            "_view_name": "ProgressView",
            "style": "IPY_MODEL_55e25a7582324ae98bbad3c437cc6ea1",
            "_dom_classes": [],
            "description": "",
            "_model_name": "FloatProgressModel",
            "bar_style": "success",
            "max": 1,
            "_view_module": "@jupyter-widgets/controls",
            "_model_module_version": "1.5.0",
            "value": 1,
            "_view_count": null,
            "_view_module_version": "1.5.0",
            "orientation": "horizontal",
            "min": 0,
            "description_tooltip": null,
            "_model_module": "@jupyter-widgets/controls",
            "layout": "IPY_MODEL_2968c63c1bfe4e9095bcc18aa043e1f3"
          }
        },
        "736dcae317184e708dd05715193ee586": {
          "model_module": "@jupyter-widgets/controls",
          "model_name": "HTMLModel",
          "state": {
            "_view_name": "HTMLView",
            "style": "IPY_MODEL_ebbd930112d04df38780c44dba643a0f",
            "_dom_classes": [],
            "description": "",
            "_model_name": "HTMLModel",
            "placeholder": "​",
            "_view_module": "@jupyter-widgets/controls",
            "_model_module_version": "1.5.0",
            "value": " 170500096/? [00:05&lt;00:00, 33573891.85it/s]",
            "_view_count": null,
            "_view_module_version": "1.5.0",
            "description_tooltip": null,
            "_model_module": "@jupyter-widgets/controls",
            "layout": "IPY_MODEL_397a1878b7654c1aa6460cb360b25080"
          }
        },
        "55e25a7582324ae98bbad3c437cc6ea1": {
          "model_module": "@jupyter-widgets/controls",
          "model_name": "ProgressStyleModel",
          "state": {
            "_view_name": "StyleView",
            "_model_name": "ProgressStyleModel",
            "description_width": "initial",
            "_view_module": "@jupyter-widgets/base",
            "_model_module_version": "1.5.0",
            "_view_count": null,
            "_view_module_version": "1.2.0",
            "bar_color": null,
            "_model_module": "@jupyter-widgets/controls"
          }
        },
        "2968c63c1bfe4e9095bcc18aa043e1f3": {
          "model_module": "@jupyter-widgets/base",
          "model_name": "LayoutModel",
          "state": {
            "_view_name": "LayoutView",
            "grid_template_rows": null,
            "right": null,
            "justify_content": null,
            "_view_module": "@jupyter-widgets/base",
            "overflow": null,
            "_model_module_version": "1.2.0",
            "_view_count": null,
            "flex_flow": null,
            "width": null,
            "min_width": null,
            "border": null,
            "align_items": null,
            "bottom": null,
            "_model_module": "@jupyter-widgets/base",
            "top": null,
            "grid_column": null,
            "overflow_y": null,
            "overflow_x": null,
            "grid_auto_flow": null,
            "grid_area": null,
            "grid_template_columns": null,
            "flex": null,
            "_model_name": "LayoutModel",
            "justify_items": null,
            "grid_row": null,
            "max_height": null,
            "align_content": null,
            "visibility": null,
            "align_self": null,
            "height": null,
            "min_height": null,
            "padding": null,
            "grid_auto_rows": null,
            "grid_gap": null,
            "max_width": null,
            "order": null,
            "_view_module_version": "1.2.0",
            "grid_template_areas": null,
            "object_position": null,
            "object_fit": null,
            "grid_auto_columns": null,
            "margin": null,
            "display": null,
            "left": null
          }
        },
        "ebbd930112d04df38780c44dba643a0f": {
          "model_module": "@jupyter-widgets/controls",
          "model_name": "DescriptionStyleModel",
          "state": {
            "_view_name": "StyleView",
            "_model_name": "DescriptionStyleModel",
            "description_width": "",
            "_view_module": "@jupyter-widgets/base",
            "_model_module_version": "1.5.0",
            "_view_count": null,
            "_view_module_version": "1.2.0",
            "_model_module": "@jupyter-widgets/controls"
          }
        },
        "397a1878b7654c1aa6460cb360b25080": {
          "model_module": "@jupyter-widgets/base",
          "model_name": "LayoutModel",
          "state": {
            "_view_name": "LayoutView",
            "grid_template_rows": null,
            "right": null,
            "justify_content": null,
            "_view_module": "@jupyter-widgets/base",
            "overflow": null,
            "_model_module_version": "1.2.0",
            "_view_count": null,
            "flex_flow": null,
            "width": null,
            "min_width": null,
            "border": null,
            "align_items": null,
            "bottom": null,
            "_model_module": "@jupyter-widgets/base",
            "top": null,
            "grid_column": null,
            "overflow_y": null,
            "overflow_x": null,
            "grid_auto_flow": null,
            "grid_area": null,
            "grid_template_columns": null,
            "flex": null,
            "_model_name": "LayoutModel",
            "justify_items": null,
            "grid_row": null,
            "max_height": null,
            "align_content": null,
            "visibility": null,
            "align_self": null,
            "height": null,
            "min_height": null,
            "padding": null,
            "grid_auto_rows": null,
            "grid_gap": null,
            "max_width": null,
            "order": null,
            "_view_module_version": "1.2.0",
            "grid_template_areas": null,
            "object_position": null,
            "object_fit": null,
            "grid_auto_columns": null,
            "margin": null,
            "display": null,
            "left": null
          }
        },
        "bcdfb0314adf490eb88af445563933a0": {
          "model_module": "@jupyter-widgets/controls",
          "model_name": "HBoxModel",
          "state": {
            "_view_name": "HBoxView",
            "_dom_classes": [],
            "_model_name": "HBoxModel",
            "_view_module": "@jupyter-widgets/controls",
            "_model_module_version": "1.5.0",
            "_view_count": null,
            "_view_module_version": "1.5.0",
            "box_style": "",
            "layout": "IPY_MODEL_20afa5e82871456e838cb0b74ddcf96c",
            "_model_module": "@jupyter-widgets/controls",
            "children": [
              "IPY_MODEL_124f6dc6112445d194ca6652153b13a9",
              "IPY_MODEL_d75552e71661406099ff150a59690c2f"
            ]
          }
        },
        "20afa5e82871456e838cb0b74ddcf96c": {
          "model_module": "@jupyter-widgets/base",
          "model_name": "LayoutModel",
          "state": {
            "_view_name": "LayoutView",
            "grid_template_rows": null,
            "right": null,
            "justify_content": null,
            "_view_module": "@jupyter-widgets/base",
            "overflow": null,
            "_model_module_version": "1.2.0",
            "_view_count": null,
            "flex_flow": null,
            "width": null,
            "min_width": null,
            "border": null,
            "align_items": null,
            "bottom": null,
            "_model_module": "@jupyter-widgets/base",
            "top": null,
            "grid_column": null,
            "overflow_y": null,
            "overflow_x": null,
            "grid_auto_flow": null,
            "grid_area": null,
            "grid_template_columns": null,
            "flex": null,
            "_model_name": "LayoutModel",
            "justify_items": null,
            "grid_row": null,
            "max_height": null,
            "align_content": null,
            "visibility": null,
            "align_self": null,
            "height": null,
            "min_height": null,
            "padding": null,
            "grid_auto_rows": null,
            "grid_gap": null,
            "max_width": null,
            "order": null,
            "_view_module_version": "1.2.0",
            "grid_template_areas": null,
            "object_position": null,
            "object_fit": null,
            "grid_auto_columns": null,
            "margin": null,
            "display": null,
            "left": null
          }
        },
        "124f6dc6112445d194ca6652153b13a9": {
          "model_module": "@jupyter-widgets/controls",
          "model_name": "FloatProgressModel",
          "state": {
            "_view_name": "ProgressView",
            "style": "IPY_MODEL_b31f2cb553cd4624a189500686a9b054",
            "_dom_classes": [],
            "description": "",
            "_model_name": "FloatProgressModel",
            "bar_style": "success",
            "max": 1,
            "_view_module": "@jupyter-widgets/controls",
            "_model_module_version": "1.5.0",
            "value": 1,
            "_view_count": null,
            "_view_module_version": "1.5.0",
            "orientation": "horizontal",
            "min": 0,
            "description_tooltip": null,
            "_model_module": "@jupyter-widgets/controls",
            "layout": "IPY_MODEL_62735f81015841309c6142407fe657df"
          }
        },
        "d75552e71661406099ff150a59690c2f": {
          "model_module": "@jupyter-widgets/controls",
          "model_name": "HTMLModel",
          "state": {
            "_view_name": "HTMLView",
            "style": "IPY_MODEL_2e7b89e73eec4210b5bf1869ff638f7b",
            "_dom_classes": [],
            "description": "",
            "_model_name": "HTMLModel",
            "placeholder": "​",
            "_view_module": "@jupyter-widgets/controls",
            "_model_module_version": "1.5.0",
            "value": " 170500096/? [00:05&lt;00:00, 28803358.38it/s]",
            "_view_count": null,
            "_view_module_version": "1.5.0",
            "description_tooltip": null,
            "_model_module": "@jupyter-widgets/controls",
            "layout": "IPY_MODEL_78c8badabb034f82ad79fc70740f78b3"
          }
        },
        "b31f2cb553cd4624a189500686a9b054": {
          "model_module": "@jupyter-widgets/controls",
          "model_name": "ProgressStyleModel",
          "state": {
            "_view_name": "StyleView",
            "_model_name": "ProgressStyleModel",
            "description_width": "initial",
            "_view_module": "@jupyter-widgets/base",
            "_model_module_version": "1.5.0",
            "_view_count": null,
            "_view_module_version": "1.2.0",
            "bar_color": null,
            "_model_module": "@jupyter-widgets/controls"
          }
        },
        "62735f81015841309c6142407fe657df": {
          "model_module": "@jupyter-widgets/base",
          "model_name": "LayoutModel",
          "state": {
            "_view_name": "LayoutView",
            "grid_template_rows": null,
            "right": null,
            "justify_content": null,
            "_view_module": "@jupyter-widgets/base",
            "overflow": null,
            "_model_module_version": "1.2.0",
            "_view_count": null,
            "flex_flow": null,
            "width": null,
            "min_width": null,
            "border": null,
            "align_items": null,
            "bottom": null,
            "_model_module": "@jupyter-widgets/base",
            "top": null,
            "grid_column": null,
            "overflow_y": null,
            "overflow_x": null,
            "grid_auto_flow": null,
            "grid_area": null,
            "grid_template_columns": null,
            "flex": null,
            "_model_name": "LayoutModel",
            "justify_items": null,
            "grid_row": null,
            "max_height": null,
            "align_content": null,
            "visibility": null,
            "align_self": null,
            "height": null,
            "min_height": null,
            "padding": null,
            "grid_auto_rows": null,
            "grid_gap": null,
            "max_width": null,
            "order": null,
            "_view_module_version": "1.2.0",
            "grid_template_areas": null,
            "object_position": null,
            "object_fit": null,
            "grid_auto_columns": null,
            "margin": null,
            "display": null,
            "left": null
          }
        },
        "2e7b89e73eec4210b5bf1869ff638f7b": {
          "model_module": "@jupyter-widgets/controls",
          "model_name": "DescriptionStyleModel",
          "state": {
            "_view_name": "StyleView",
            "_model_name": "DescriptionStyleModel",
            "description_width": "",
            "_view_module": "@jupyter-widgets/base",
            "_model_module_version": "1.5.0",
            "_view_count": null,
            "_view_module_version": "1.2.0",
            "_model_module": "@jupyter-widgets/controls"
          }
        },
        "78c8badabb034f82ad79fc70740f78b3": {
          "model_module": "@jupyter-widgets/base",
          "model_name": "LayoutModel",
          "state": {
            "_view_name": "LayoutView",
            "grid_template_rows": null,
            "right": null,
            "justify_content": null,
            "_view_module": "@jupyter-widgets/base",
            "overflow": null,
            "_model_module_version": "1.2.0",
            "_view_count": null,
            "flex_flow": null,
            "width": null,
            "min_width": null,
            "border": null,
            "align_items": null,
            "bottom": null,
            "_model_module": "@jupyter-widgets/base",
            "top": null,
            "grid_column": null,
            "overflow_y": null,
            "overflow_x": null,
            "grid_auto_flow": null,
            "grid_area": null,
            "grid_template_columns": null,
            "flex": null,
            "_model_name": "LayoutModel",
            "justify_items": null,
            "grid_row": null,
            "max_height": null,
            "align_content": null,
            "visibility": null,
            "align_self": null,
            "height": null,
            "min_height": null,
            "padding": null,
            "grid_auto_rows": null,
            "grid_gap": null,
            "max_width": null,
            "order": null,
            "_view_module_version": "1.2.0",
            "grid_template_areas": null,
            "object_position": null,
            "object_fit": null,
            "grid_auto_columns": null,
            "margin": null,
            "display": null,
            "left": null
          }
        },
        "53d577d0e5b14a11a14f90143f2c5d7f": {
          "model_module": "@jupyter-widgets/controls",
          "model_name": "HBoxModel",
          "state": {
            "_view_name": "HBoxView",
            "_dom_classes": [],
            "_model_name": "HBoxModel",
            "_view_module": "@jupyter-widgets/controls",
            "_model_module_version": "1.5.0",
            "_view_count": null,
            "_view_module_version": "1.5.0",
            "box_style": "",
            "layout": "IPY_MODEL_0a4472765504434a9ca125a48b4f748a",
            "_model_module": "@jupyter-widgets/controls",
            "children": [
              "IPY_MODEL_40d700fc51b44d8cb1ee8c5f7e8162fe",
              "IPY_MODEL_8fb905b8ea17422f843077843c829d54"
            ]
          }
        },
        "0a4472765504434a9ca125a48b4f748a": {
          "model_module": "@jupyter-widgets/base",
          "model_name": "LayoutModel",
          "state": {
            "_view_name": "LayoutView",
            "grid_template_rows": null,
            "right": null,
            "justify_content": null,
            "_view_module": "@jupyter-widgets/base",
            "overflow": null,
            "_model_module_version": "1.2.0",
            "_view_count": null,
            "flex_flow": null,
            "width": null,
            "min_width": null,
            "border": null,
            "align_items": null,
            "bottom": null,
            "_model_module": "@jupyter-widgets/base",
            "top": null,
            "grid_column": null,
            "overflow_y": null,
            "overflow_x": null,
            "grid_auto_flow": null,
            "grid_area": null,
            "grid_template_columns": null,
            "flex": null,
            "_model_name": "LayoutModel",
            "justify_items": null,
            "grid_row": null,
            "max_height": null,
            "align_content": null,
            "visibility": null,
            "align_self": null,
            "height": null,
            "min_height": null,
            "padding": null,
            "grid_auto_rows": null,
            "grid_gap": null,
            "max_width": null,
            "order": null,
            "_view_module_version": "1.2.0",
            "grid_template_areas": null,
            "object_position": null,
            "object_fit": null,
            "grid_auto_columns": null,
            "margin": null,
            "display": null,
            "left": null
          }
        },
        "40d700fc51b44d8cb1ee8c5f7e8162fe": {
          "model_module": "@jupyter-widgets/controls",
          "model_name": "FloatProgressModel",
          "state": {
            "_view_name": "ProgressView",
            "style": "IPY_MODEL_d961a5a5a7b7442994f12d594c091a22",
            "_dom_classes": [],
            "description": "",
            "_model_name": "FloatProgressModel",
            "bar_style": "success",
            "max": 1,
            "_view_module": "@jupyter-widgets/controls",
            "_model_module_version": "1.5.0",
            "value": 1,
            "_view_count": null,
            "_view_module_version": "1.5.0",
            "orientation": "horizontal",
            "min": 0,
            "description_tooltip": null,
            "_model_module": "@jupyter-widgets/controls",
            "layout": "IPY_MODEL_8ed06f02c0ad409b9331c794791f0796"
          }
        },
        "8fb905b8ea17422f843077843c829d54": {
          "model_module": "@jupyter-widgets/controls",
          "model_name": "HTMLModel",
          "state": {
            "_view_name": "HTMLView",
            "style": "IPY_MODEL_b28ec55befe8454d89f0177d6e0cf7d5",
            "_dom_classes": [],
            "description": "",
            "_model_name": "HTMLModel",
            "placeholder": "​",
            "_view_module": "@jupyter-widgets/controls",
            "_model_module_version": "1.5.0",
            "value": " 9920512/? [00:00&lt;00:00, 14795171.05it/s]",
            "_view_count": null,
            "_view_module_version": "1.5.0",
            "description_tooltip": null,
            "_model_module": "@jupyter-widgets/controls",
            "layout": "IPY_MODEL_939a7c48a45048b28ce4a681b352facf"
          }
        },
        "d961a5a5a7b7442994f12d594c091a22": {
          "model_module": "@jupyter-widgets/controls",
          "model_name": "ProgressStyleModel",
          "state": {
            "_view_name": "StyleView",
            "_model_name": "ProgressStyleModel",
            "description_width": "initial",
            "_view_module": "@jupyter-widgets/base",
            "_model_module_version": "1.5.0",
            "_view_count": null,
            "_view_module_version": "1.2.0",
            "bar_color": null,
            "_model_module": "@jupyter-widgets/controls"
          }
        },
        "8ed06f02c0ad409b9331c794791f0796": {
          "model_module": "@jupyter-widgets/base",
          "model_name": "LayoutModel",
          "state": {
            "_view_name": "LayoutView",
            "grid_template_rows": null,
            "right": null,
            "justify_content": null,
            "_view_module": "@jupyter-widgets/base",
            "overflow": null,
            "_model_module_version": "1.2.0",
            "_view_count": null,
            "flex_flow": null,
            "width": null,
            "min_width": null,
            "border": null,
            "align_items": null,
            "bottom": null,
            "_model_module": "@jupyter-widgets/base",
            "top": null,
            "grid_column": null,
            "overflow_y": null,
            "overflow_x": null,
            "grid_auto_flow": null,
            "grid_area": null,
            "grid_template_columns": null,
            "flex": null,
            "_model_name": "LayoutModel",
            "justify_items": null,
            "grid_row": null,
            "max_height": null,
            "align_content": null,
            "visibility": null,
            "align_self": null,
            "height": null,
            "min_height": null,
            "padding": null,
            "grid_auto_rows": null,
            "grid_gap": null,
            "max_width": null,
            "order": null,
            "_view_module_version": "1.2.0",
            "grid_template_areas": null,
            "object_position": null,
            "object_fit": null,
            "grid_auto_columns": null,
            "margin": null,
            "display": null,
            "left": null
          }
        },
        "b28ec55befe8454d89f0177d6e0cf7d5": {
          "model_module": "@jupyter-widgets/controls",
          "model_name": "DescriptionStyleModel",
          "state": {
            "_view_name": "StyleView",
            "_model_name": "DescriptionStyleModel",
            "description_width": "",
            "_view_module": "@jupyter-widgets/base",
            "_model_module_version": "1.5.0",
            "_view_count": null,
            "_view_module_version": "1.2.0",
            "_model_module": "@jupyter-widgets/controls"
          }
        },
        "939a7c48a45048b28ce4a681b352facf": {
          "model_module": "@jupyter-widgets/base",
          "model_name": "LayoutModel",
          "state": {
            "_view_name": "LayoutView",
            "grid_template_rows": null,
            "right": null,
            "justify_content": null,
            "_view_module": "@jupyter-widgets/base",
            "overflow": null,
            "_model_module_version": "1.2.0",
            "_view_count": null,
            "flex_flow": null,
            "width": null,
            "min_width": null,
            "border": null,
            "align_items": null,
            "bottom": null,
            "_model_module": "@jupyter-widgets/base",
            "top": null,
            "grid_column": null,
            "overflow_y": null,
            "overflow_x": null,
            "grid_auto_flow": null,
            "grid_area": null,
            "grid_template_columns": null,
            "flex": null,
            "_model_name": "LayoutModel",
            "justify_items": null,
            "grid_row": null,
            "max_height": null,
            "align_content": null,
            "visibility": null,
            "align_self": null,
            "height": null,
            "min_height": null,
            "padding": null,
            "grid_auto_rows": null,
            "grid_gap": null,
            "max_width": null,
            "order": null,
            "_view_module_version": "1.2.0",
            "grid_template_areas": null,
            "object_position": null,
            "object_fit": null,
            "grid_auto_columns": null,
            "margin": null,
            "display": null,
            "left": null
          }
        },
        "d1d9230247d4403cbf46cdc123e1bf89": {
          "model_module": "@jupyter-widgets/controls",
          "model_name": "HBoxModel",
          "state": {
            "_view_name": "HBoxView",
            "_dom_classes": [],
            "_model_name": "HBoxModel",
            "_view_module": "@jupyter-widgets/controls",
            "_model_module_version": "1.5.0",
            "_view_count": null,
            "_view_module_version": "1.5.0",
            "box_style": "",
            "layout": "IPY_MODEL_978b648bd16449f88b2b61e9b7f9cb25",
            "_model_module": "@jupyter-widgets/controls",
            "children": [
              "IPY_MODEL_5188db4ca11e4432ac9407c065948071",
              "IPY_MODEL_11868290e5044938aa051950e54bad15"
            ]
          }
        },
        "978b648bd16449f88b2b61e9b7f9cb25": {
          "model_module": "@jupyter-widgets/base",
          "model_name": "LayoutModel",
          "state": {
            "_view_name": "LayoutView",
            "grid_template_rows": null,
            "right": null,
            "justify_content": null,
            "_view_module": "@jupyter-widgets/base",
            "overflow": null,
            "_model_module_version": "1.2.0",
            "_view_count": null,
            "flex_flow": null,
            "width": null,
            "min_width": null,
            "border": null,
            "align_items": null,
            "bottom": null,
            "_model_module": "@jupyter-widgets/base",
            "top": null,
            "grid_column": null,
            "overflow_y": null,
            "overflow_x": null,
            "grid_auto_flow": null,
            "grid_area": null,
            "grid_template_columns": null,
            "flex": null,
            "_model_name": "LayoutModel",
            "justify_items": null,
            "grid_row": null,
            "max_height": null,
            "align_content": null,
            "visibility": null,
            "align_self": null,
            "height": null,
            "min_height": null,
            "padding": null,
            "grid_auto_rows": null,
            "grid_gap": null,
            "max_width": null,
            "order": null,
            "_view_module_version": "1.2.0",
            "grid_template_areas": null,
            "object_position": null,
            "object_fit": null,
            "grid_auto_columns": null,
            "margin": null,
            "display": null,
            "left": null
          }
        },
        "5188db4ca11e4432ac9407c065948071": {
          "model_module": "@jupyter-widgets/controls",
          "model_name": "FloatProgressModel",
          "state": {
            "_view_name": "ProgressView",
            "style": "IPY_MODEL_e7067db40361440bb8acb8cd2730eb27",
            "_dom_classes": [],
            "description": "",
            "_model_name": "FloatProgressModel",
            "bar_style": "success",
            "max": 1,
            "_view_module": "@jupyter-widgets/controls",
            "_model_module_version": "1.5.0",
            "value": 1,
            "_view_count": null,
            "_view_module_version": "1.5.0",
            "orientation": "horizontal",
            "min": 0,
            "description_tooltip": null,
            "_model_module": "@jupyter-widgets/controls",
            "layout": "IPY_MODEL_c7cc1e637dff42afb79bdcbda3abed06"
          }
        },
        "11868290e5044938aa051950e54bad15": {
          "model_module": "@jupyter-widgets/controls",
          "model_name": "HTMLModel",
          "state": {
            "_view_name": "HTMLView",
            "style": "IPY_MODEL_7ec300573e5543a9bc1c4f09da7d6339",
            "_dom_classes": [],
            "description": "",
            "_model_name": "HTMLModel",
            "placeholder": "​",
            "_view_module": "@jupyter-widgets/controls",
            "_model_module_version": "1.5.0",
            "value": " 32768/? [00:00&lt;00:00, 404090.78it/s]",
            "_view_count": null,
            "_view_module_version": "1.5.0",
            "description_tooltip": null,
            "_model_module": "@jupyter-widgets/controls",
            "layout": "IPY_MODEL_14b4e5de6b394f6cacc248c2ebf081ff"
          }
        },
        "e7067db40361440bb8acb8cd2730eb27": {
          "model_module": "@jupyter-widgets/controls",
          "model_name": "ProgressStyleModel",
          "state": {
            "_view_name": "StyleView",
            "_model_name": "ProgressStyleModel",
            "description_width": "initial",
            "_view_module": "@jupyter-widgets/base",
            "_model_module_version": "1.5.0",
            "_view_count": null,
            "_view_module_version": "1.2.0",
            "bar_color": null,
            "_model_module": "@jupyter-widgets/controls"
          }
        },
        "c7cc1e637dff42afb79bdcbda3abed06": {
          "model_module": "@jupyter-widgets/base",
          "model_name": "LayoutModel",
          "state": {
            "_view_name": "LayoutView",
            "grid_template_rows": null,
            "right": null,
            "justify_content": null,
            "_view_module": "@jupyter-widgets/base",
            "overflow": null,
            "_model_module_version": "1.2.0",
            "_view_count": null,
            "flex_flow": null,
            "width": null,
            "min_width": null,
            "border": null,
            "align_items": null,
            "bottom": null,
            "_model_module": "@jupyter-widgets/base",
            "top": null,
            "grid_column": null,
            "overflow_y": null,
            "overflow_x": null,
            "grid_auto_flow": null,
            "grid_area": null,
            "grid_template_columns": null,
            "flex": null,
            "_model_name": "LayoutModel",
            "justify_items": null,
            "grid_row": null,
            "max_height": null,
            "align_content": null,
            "visibility": null,
            "align_self": null,
            "height": null,
            "min_height": null,
            "padding": null,
            "grid_auto_rows": null,
            "grid_gap": null,
            "max_width": null,
            "order": null,
            "_view_module_version": "1.2.0",
            "grid_template_areas": null,
            "object_position": null,
            "object_fit": null,
            "grid_auto_columns": null,
            "margin": null,
            "display": null,
            "left": null
          }
        },
        "7ec300573e5543a9bc1c4f09da7d6339": {
          "model_module": "@jupyter-widgets/controls",
          "model_name": "DescriptionStyleModel",
          "state": {
            "_view_name": "StyleView",
            "_model_name": "DescriptionStyleModel",
            "description_width": "",
            "_view_module": "@jupyter-widgets/base",
            "_model_module_version": "1.5.0",
            "_view_count": null,
            "_view_module_version": "1.2.0",
            "_model_module": "@jupyter-widgets/controls"
          }
        },
        "14b4e5de6b394f6cacc248c2ebf081ff": {
          "model_module": "@jupyter-widgets/base",
          "model_name": "LayoutModel",
          "state": {
            "_view_name": "LayoutView",
            "grid_template_rows": null,
            "right": null,
            "justify_content": null,
            "_view_module": "@jupyter-widgets/base",
            "overflow": null,
            "_model_module_version": "1.2.0",
            "_view_count": null,
            "flex_flow": null,
            "width": null,
            "min_width": null,
            "border": null,
            "align_items": null,
            "bottom": null,
            "_model_module": "@jupyter-widgets/base",
            "top": null,
            "grid_column": null,
            "overflow_y": null,
            "overflow_x": null,
            "grid_auto_flow": null,
            "grid_area": null,
            "grid_template_columns": null,
            "flex": null,
            "_model_name": "LayoutModel",
            "justify_items": null,
            "grid_row": null,
            "max_height": null,
            "align_content": null,
            "visibility": null,
            "align_self": null,
            "height": null,
            "min_height": null,
            "padding": null,
            "grid_auto_rows": null,
            "grid_gap": null,
            "max_width": null,
            "order": null,
            "_view_module_version": "1.2.0",
            "grid_template_areas": null,
            "object_position": null,
            "object_fit": null,
            "grid_auto_columns": null,
            "margin": null,
            "display": null,
            "left": null
          }
        },
        "82376fe6748343f9a4dc869945c87727": {
          "model_module": "@jupyter-widgets/controls",
          "model_name": "HBoxModel",
          "state": {
            "_view_name": "HBoxView",
            "_dom_classes": [],
            "_model_name": "HBoxModel",
            "_view_module": "@jupyter-widgets/controls",
            "_model_module_version": "1.5.0",
            "_view_count": null,
            "_view_module_version": "1.5.0",
            "box_style": "",
            "layout": "IPY_MODEL_1a564001ff2f476e848de2553cc868d6",
            "_model_module": "@jupyter-widgets/controls",
            "children": [
              "IPY_MODEL_40d9a70253b64f92b70dca7973c582e7",
              "IPY_MODEL_7a4d2a84a75d4a47a7979c978d5df2a1"
            ]
          }
        },
        "1a564001ff2f476e848de2553cc868d6": {
          "model_module": "@jupyter-widgets/base",
          "model_name": "LayoutModel",
          "state": {
            "_view_name": "LayoutView",
            "grid_template_rows": null,
            "right": null,
            "justify_content": null,
            "_view_module": "@jupyter-widgets/base",
            "overflow": null,
            "_model_module_version": "1.2.0",
            "_view_count": null,
            "flex_flow": null,
            "width": null,
            "min_width": null,
            "border": null,
            "align_items": null,
            "bottom": null,
            "_model_module": "@jupyter-widgets/base",
            "top": null,
            "grid_column": null,
            "overflow_y": null,
            "overflow_x": null,
            "grid_auto_flow": null,
            "grid_area": null,
            "grid_template_columns": null,
            "flex": null,
            "_model_name": "LayoutModel",
            "justify_items": null,
            "grid_row": null,
            "max_height": null,
            "align_content": null,
            "visibility": null,
            "align_self": null,
            "height": null,
            "min_height": null,
            "padding": null,
            "grid_auto_rows": null,
            "grid_gap": null,
            "max_width": null,
            "order": null,
            "_view_module_version": "1.2.0",
            "grid_template_areas": null,
            "object_position": null,
            "object_fit": null,
            "grid_auto_columns": null,
            "margin": null,
            "display": null,
            "left": null
          }
        },
        "40d9a70253b64f92b70dca7973c582e7": {
          "model_module": "@jupyter-widgets/controls",
          "model_name": "FloatProgressModel",
          "state": {
            "_view_name": "ProgressView",
            "style": "IPY_MODEL_72b18c674612421db61a4f40386d4db4",
            "_dom_classes": [],
            "description": "",
            "_model_name": "FloatProgressModel",
            "bar_style": "info",
            "max": 1,
            "_view_module": "@jupyter-widgets/controls",
            "_model_module_version": "1.5.0",
            "value": 1,
            "_view_count": null,
            "_view_module_version": "1.5.0",
            "orientation": "horizontal",
            "min": 0,
            "description_tooltip": null,
            "_model_module": "@jupyter-widgets/controls",
            "layout": "IPY_MODEL_bbdaab83ac0e4365a099c98898594c5d"
          }
        },
        "7a4d2a84a75d4a47a7979c978d5df2a1": {
          "model_module": "@jupyter-widgets/controls",
          "model_name": "HTMLModel",
          "state": {
            "_view_name": "HTMLView",
            "style": "IPY_MODEL_e6e267ebde774b4b8d78b597eaeeef7f",
            "_dom_classes": [],
            "description": "",
            "_model_name": "HTMLModel",
            "placeholder": "​",
            "_view_module": "@jupyter-widgets/controls",
            "_model_module_version": "1.5.0",
            "value": " 1654784/? [00:19&lt;00:00, 123136.63it/s]",
            "_view_count": null,
            "_view_module_version": "1.5.0",
            "description_tooltip": null,
            "_model_module": "@jupyter-widgets/controls",
            "layout": "IPY_MODEL_d7b82fc03be14ab58bcacb51eb5e606f"
          }
        },
        "72b18c674612421db61a4f40386d4db4": {
          "model_module": "@jupyter-widgets/controls",
          "model_name": "ProgressStyleModel",
          "state": {
            "_view_name": "StyleView",
            "_model_name": "ProgressStyleModel",
            "description_width": "initial",
            "_view_module": "@jupyter-widgets/base",
            "_model_module_version": "1.5.0",
            "_view_count": null,
            "_view_module_version": "1.2.0",
            "bar_color": null,
            "_model_module": "@jupyter-widgets/controls"
          }
        },
        "bbdaab83ac0e4365a099c98898594c5d": {
          "model_module": "@jupyter-widgets/base",
          "model_name": "LayoutModel",
          "state": {
            "_view_name": "LayoutView",
            "grid_template_rows": null,
            "right": null,
            "justify_content": null,
            "_view_module": "@jupyter-widgets/base",
            "overflow": null,
            "_model_module_version": "1.2.0",
            "_view_count": null,
            "flex_flow": null,
            "width": null,
            "min_width": null,
            "border": null,
            "align_items": null,
            "bottom": null,
            "_model_module": "@jupyter-widgets/base",
            "top": null,
            "grid_column": null,
            "overflow_y": null,
            "overflow_x": null,
            "grid_auto_flow": null,
            "grid_area": null,
            "grid_template_columns": null,
            "flex": null,
            "_model_name": "LayoutModel",
            "justify_items": null,
            "grid_row": null,
            "max_height": null,
            "align_content": null,
            "visibility": null,
            "align_self": null,
            "height": null,
            "min_height": null,
            "padding": null,
            "grid_auto_rows": null,
            "grid_gap": null,
            "max_width": null,
            "order": null,
            "_view_module_version": "1.2.0",
            "grid_template_areas": null,
            "object_position": null,
            "object_fit": null,
            "grid_auto_columns": null,
            "margin": null,
            "display": null,
            "left": null
          }
        },
        "e6e267ebde774b4b8d78b597eaeeef7f": {
          "model_module": "@jupyter-widgets/controls",
          "model_name": "DescriptionStyleModel",
          "state": {
            "_view_name": "StyleView",
            "_model_name": "DescriptionStyleModel",
            "description_width": "",
            "_view_module": "@jupyter-widgets/base",
            "_model_module_version": "1.5.0",
            "_view_count": null,
            "_view_module_version": "1.2.0",
            "_model_module": "@jupyter-widgets/controls"
          }
        },
        "d7b82fc03be14ab58bcacb51eb5e606f": {
          "model_module": "@jupyter-widgets/base",
          "model_name": "LayoutModel",
          "state": {
            "_view_name": "LayoutView",
            "grid_template_rows": null,
            "right": null,
            "justify_content": null,
            "_view_module": "@jupyter-widgets/base",
            "overflow": null,
            "_model_module_version": "1.2.0",
            "_view_count": null,
            "flex_flow": null,
            "width": null,
            "min_width": null,
            "border": null,
            "align_items": null,
            "bottom": null,
            "_model_module": "@jupyter-widgets/base",
            "top": null,
            "grid_column": null,
            "overflow_y": null,
            "overflow_x": null,
            "grid_auto_flow": null,
            "grid_area": null,
            "grid_template_columns": null,
            "flex": null,
            "_model_name": "LayoutModel",
            "justify_items": null,
            "grid_row": null,
            "max_height": null,
            "align_content": null,
            "visibility": null,
            "align_self": null,
            "height": null,
            "min_height": null,
            "padding": null,
            "grid_auto_rows": null,
            "grid_gap": null,
            "max_width": null,
            "order": null,
            "_view_module_version": "1.2.0",
            "grid_template_areas": null,
            "object_position": null,
            "object_fit": null,
            "grid_auto_columns": null,
            "margin": null,
            "display": null,
            "left": null
          }
        },
        "8a11982504ea4ec98e51673629c01412": {
          "model_module": "@jupyter-widgets/controls",
          "model_name": "HBoxModel",
          "state": {
            "_view_name": "HBoxView",
            "_dom_classes": [],
            "_model_name": "HBoxModel",
            "_view_module": "@jupyter-widgets/controls",
            "_model_module_version": "1.5.0",
            "_view_count": null,
            "_view_module_version": "1.5.0",
            "box_style": "",
            "layout": "IPY_MODEL_70c7a68002d44ba28ce2961232f70a6b",
            "_model_module": "@jupyter-widgets/controls",
            "children": [
              "IPY_MODEL_11ec840966e1480893bdd5116fa1395b",
              "IPY_MODEL_412a4dd79d1e403c80e44a2061d3864c"
            ]
          }
        },
        "70c7a68002d44ba28ce2961232f70a6b": {
          "model_module": "@jupyter-widgets/base",
          "model_name": "LayoutModel",
          "state": {
            "_view_name": "LayoutView",
            "grid_template_rows": null,
            "right": null,
            "justify_content": null,
            "_view_module": "@jupyter-widgets/base",
            "overflow": null,
            "_model_module_version": "1.2.0",
            "_view_count": null,
            "flex_flow": null,
            "width": null,
            "min_width": null,
            "border": null,
            "align_items": null,
            "bottom": null,
            "_model_module": "@jupyter-widgets/base",
            "top": null,
            "grid_column": null,
            "overflow_y": null,
            "overflow_x": null,
            "grid_auto_flow": null,
            "grid_area": null,
            "grid_template_columns": null,
            "flex": null,
            "_model_name": "LayoutModel",
            "justify_items": null,
            "grid_row": null,
            "max_height": null,
            "align_content": null,
            "visibility": null,
            "align_self": null,
            "height": null,
            "min_height": null,
            "padding": null,
            "grid_auto_rows": null,
            "grid_gap": null,
            "max_width": null,
            "order": null,
            "_view_module_version": "1.2.0",
            "grid_template_areas": null,
            "object_position": null,
            "object_fit": null,
            "grid_auto_columns": null,
            "margin": null,
            "display": null,
            "left": null
          }
        },
        "11ec840966e1480893bdd5116fa1395b": {
          "model_module": "@jupyter-widgets/controls",
          "model_name": "FloatProgressModel",
          "state": {
            "_view_name": "ProgressView",
            "style": "IPY_MODEL_1c3d8fedd54847f3ba90e5a60c866801",
            "_dom_classes": [],
            "description": "",
            "_model_name": "FloatProgressModel",
            "bar_style": "info",
            "max": 1,
            "_view_module": "@jupyter-widgets/controls",
            "_model_module_version": "1.5.0",
            "value": 0,
            "_view_count": null,
            "_view_module_version": "1.5.0",
            "orientation": "horizontal",
            "min": 0,
            "description_tooltip": null,
            "_model_module": "@jupyter-widgets/controls",
            "layout": "IPY_MODEL_3773f090dc5e4f7c9c31dcee68b4cc86"
          }
        },
        "412a4dd79d1e403c80e44a2061d3864c": {
          "model_module": "@jupyter-widgets/controls",
          "model_name": "HTMLModel",
          "state": {
            "_view_name": "HTMLView",
            "style": "IPY_MODEL_74cb71073d9e45329ea0b7a100eca3cb",
            "_dom_classes": [],
            "description": "",
            "_model_name": "HTMLModel",
            "placeholder": "​",
            "_view_module": "@jupyter-widgets/controls",
            "_model_module_version": "1.5.0",
            "value": " 0/? [00:00&lt;?, ?it/s]",
            "_view_count": null,
            "_view_module_version": "1.5.0",
            "description_tooltip": null,
            "_model_module": "@jupyter-widgets/controls",
            "layout": "IPY_MODEL_79dcc5bc6a9a4bd3b2a64fba8e1d44f4"
          }
        },
        "1c3d8fedd54847f3ba90e5a60c866801": {
          "model_module": "@jupyter-widgets/controls",
          "model_name": "ProgressStyleModel",
          "state": {
            "_view_name": "StyleView",
            "_model_name": "ProgressStyleModel",
            "description_width": "initial",
            "_view_module": "@jupyter-widgets/base",
            "_model_module_version": "1.5.0",
            "_view_count": null,
            "_view_module_version": "1.2.0",
            "bar_color": null,
            "_model_module": "@jupyter-widgets/controls"
          }
        },
        "3773f090dc5e4f7c9c31dcee68b4cc86": {
          "model_module": "@jupyter-widgets/base",
          "model_name": "LayoutModel",
          "state": {
            "_view_name": "LayoutView",
            "grid_template_rows": null,
            "right": null,
            "justify_content": null,
            "_view_module": "@jupyter-widgets/base",
            "overflow": null,
            "_model_module_version": "1.2.0",
            "_view_count": null,
            "flex_flow": null,
            "width": null,
            "min_width": null,
            "border": null,
            "align_items": null,
            "bottom": null,
            "_model_module": "@jupyter-widgets/base",
            "top": null,
            "grid_column": null,
            "overflow_y": null,
            "overflow_x": null,
            "grid_auto_flow": null,
            "grid_area": null,
            "grid_template_columns": null,
            "flex": null,
            "_model_name": "LayoutModel",
            "justify_items": null,
            "grid_row": null,
            "max_height": null,
            "align_content": null,
            "visibility": null,
            "align_self": null,
            "height": null,
            "min_height": null,
            "padding": null,
            "grid_auto_rows": null,
            "grid_gap": null,
            "max_width": null,
            "order": null,
            "_view_module_version": "1.2.0",
            "grid_template_areas": null,
            "object_position": null,
            "object_fit": null,
            "grid_auto_columns": null,
            "margin": null,
            "display": null,
            "left": null
          }
        },
        "74cb71073d9e45329ea0b7a100eca3cb": {
          "model_module": "@jupyter-widgets/controls",
          "model_name": "DescriptionStyleModel",
          "state": {
            "_view_name": "StyleView",
            "_model_name": "DescriptionStyleModel",
            "description_width": "",
            "_view_module": "@jupyter-widgets/base",
            "_model_module_version": "1.5.0",
            "_view_count": null,
            "_view_module_version": "1.2.0",
            "_model_module": "@jupyter-widgets/controls"
          }
        },
        "79dcc5bc6a9a4bd3b2a64fba8e1d44f4": {
          "model_module": "@jupyter-widgets/base",
          "model_name": "LayoutModel",
          "state": {
            "_view_name": "LayoutView",
            "grid_template_rows": null,
            "right": null,
            "justify_content": null,
            "_view_module": "@jupyter-widgets/base",
            "overflow": null,
            "_model_module_version": "1.2.0",
            "_view_count": null,
            "flex_flow": null,
            "width": null,
            "min_width": null,
            "border": null,
            "align_items": null,
            "bottom": null,
            "_model_module": "@jupyter-widgets/base",
            "top": null,
            "grid_column": null,
            "overflow_y": null,
            "overflow_x": null,
            "grid_auto_flow": null,
            "grid_area": null,
            "grid_template_columns": null,
            "flex": null,
            "_model_name": "LayoutModel",
            "justify_items": null,
            "grid_row": null,
            "max_height": null,
            "align_content": null,
            "visibility": null,
            "align_self": null,
            "height": null,
            "min_height": null,
            "padding": null,
            "grid_auto_rows": null,
            "grid_gap": null,
            "max_width": null,
            "order": null,
            "_view_module_version": "1.2.0",
            "grid_template_areas": null,
            "object_position": null,
            "object_fit": null,
            "grid_auto_columns": null,
            "margin": null,
            "display": null,
            "left": null
          }
        }
      }
    }
  },
  "cells": [
    {
      "cell_type": "markdown",
      "metadata": {
        "id": "j-oVK9I6jeRQ"
      },
      "source": [
        "# Домашнее задание №1"
      ]
    },
    {
      "cell_type": "markdown",
      "metadata": {
        "id": "pghDefaDjFBV"
      },
      "source": [
        "## 1. Добиться вразумительного результата от модели, собранной на занятии (7 угаданныx картинок из 10 предложенных на семинаре). Варианты изменений:\n",
        "*   изменение слоёв и их количества;\n",
        "*   изменение метода оптимизации;\n",
        "*   изменение процесса обучения; \n",
        "*   для продвинутых: преобразование данных transform"
      ]
    },
    {
      "cell_type": "code",
      "metadata": {
        "colab": {
          "base_uri": "https://localhost:8080/"
        },
        "id": "s20wY2i5jKKA",
        "outputId": "edafd8f2-f70e-4220-d906-ee3bfea1e6c8"
      },
      "source": [
        "!pip3 install torch torchvision\n",
        "!nvcc --version"
      ],
      "execution_count": 1,
      "outputs": [
        {
          "output_type": "stream",
          "text": [
            "Requirement already satisfied: torch in /usr/local/lib/python3.6/dist-packages (1.7.0+cu101)\n",
            "Requirement already satisfied: torchvision in /usr/local/lib/python3.6/dist-packages (0.8.1+cu101)\n",
            "Requirement already satisfied: numpy in /usr/local/lib/python3.6/dist-packages (from torch) (1.18.5)\n",
            "Requirement already satisfied: typing-extensions in /usr/local/lib/python3.6/dist-packages (from torch) (3.7.4.3)\n",
            "Requirement already satisfied: future in /usr/local/lib/python3.6/dist-packages (from torch) (0.16.0)\n",
            "Requirement already satisfied: dataclasses in /usr/local/lib/python3.6/dist-packages (from torch) (0.8)\n",
            "Requirement already satisfied: pillow>=4.1.1 in /usr/local/lib/python3.6/dist-packages (from torchvision) (7.0.0)\n",
            "nvcc: NVIDIA (R) Cuda compiler driver\n",
            "Copyright (c) 2005-2019 NVIDIA Corporation\n",
            "Built on Sun_Jul_28_19:07:16_PDT_2019\n",
            "Cuda compilation tools, release 10.1, V10.1.243\n"
          ],
          "name": "stdout"
        }
      ]
    },
    {
      "cell_type": "code",
      "metadata": {
        "id": "ujwAQ886kKER"
      },
      "source": [
        "import torch\n",
        "import torchvision\n",
        "import numpy as np\n",
        "from torch import nn \n",
        "from torch import optim\n",
        "import torchvision.transforms as transforms\n",
        "import matplotlib.pyplot as plt ### воспользуемся для отображения изображения"
      ],
      "execution_count": 2,
      "outputs": []
    },
    {
      "cell_type": "code",
      "metadata": {
        "colab": {
          "base_uri": "https://localhost:8080/"
        },
        "id": "9dzewUkula2S",
        "outputId": "4b76688a-9ea9-43e5-b24b-e30536d12c19"
      },
      "source": [
        "device = torch.device(\"cuda:0\" if torch.cuda.is_available() else \"cpu\")\n",
        "print(device)"
      ],
      "execution_count": 3,
      "outputs": [
        {
          "output_type": "stream",
          "text": [
            "cuda:0\n"
          ],
          "name": "stdout"
        }
      ]
    },
    {
      "cell_type": "code",
      "metadata": {
        "id": "OJ1HcJ_Q6cA3"
      },
      "source": [
        "train_transform = transforms.Compose(\n",
        "    [transforms.RandomRotation(10),\n",
        "     transforms.ColorJitter(brightness=0.2, contrast=0.2, saturation=0.2),\n",
        "     transforms.ToTensor(),\n",
        "     transforms.Normalize((0.5, 0.5, 0.5), (0.5, 0.5, 0.5))\n",
        "     ])"
      ],
      "execution_count": 4,
      "outputs": []
    },
    {
      "cell_type": "code",
      "metadata": {
        "id": "b78Lno__K2eY"
      },
      "source": [
        "test_transform = transforms.Compose(\n",
        "    [transforms.ToTensor(),\n",
        "     transforms.Normalize((0.5, 0.5, 0.5), (0.5, 0.5, 0.5))\n",
        "     ])"
      ],
      "execution_count": 5,
      "outputs": []
    },
    {
      "cell_type": "code",
      "metadata": {
        "colab": {
          "base_uri": "https://localhost:8080/",
          "height": 117,
          "referenced_widgets": [
            "9a50dca64e89404887cade0c51cac304",
            "540e86f6fd4143b891f60b338af0a8bf",
            "e0e06ebfcbf14a0eac3419fefe4a00ce",
            "736dcae317184e708dd05715193ee586",
            "55e25a7582324ae98bbad3c437cc6ea1",
            "2968c63c1bfe4e9095bcc18aa043e1f3",
            "ebbd930112d04df38780c44dba643a0f",
            "397a1878b7654c1aa6460cb360b25080"
          ]
        },
        "id": "ah4l5dhbkWOm",
        "outputId": "4452a574-6c2b-4263-b67e-ddde4604a40e"
      },
      "source": [
        "train_dataset = torchvision.datasets.CIFAR10(root='../../data/',\n",
        "                                             train=True,  \n",
        "                                             transform=train_transform, \n",
        "                                             download=True)\n",
        "\n",
        "\n",
        "image, label = train_dataset[0]\n",
        "print (image.size())\n",
        "print (label)"
      ],
      "execution_count": 6,
      "outputs": [
        {
          "output_type": "stream",
          "text": [
            "Downloading https://www.cs.toronto.edu/~kriz/cifar-10-python.tar.gz to ../../data/cifar-10-python.tar.gz\n"
          ],
          "name": "stdout"
        },
        {
          "output_type": "display_data",
          "data": {
            "application/vnd.jupyter.widget-view+json": {
              "model_id": "9a50dca64e89404887cade0c51cac304",
              "version_minor": 0,
              "version_major": 2
            },
            "text/plain": [
              "HBox(children=(FloatProgress(value=1.0, bar_style='info', max=1.0), HTML(value='')))"
            ]
          },
          "metadata": {
            "tags": []
          }
        },
        {
          "output_type": "stream",
          "text": [
            "Extracting ../../data/cifar-10-python.tar.gz to ../../data/\n",
            "torch.Size([3, 32, 32])\n",
            "6\n"
          ],
          "name": "stdout"
        }
      ]
    },
    {
      "cell_type": "code",
      "metadata": {
        "colab": {
          "base_uri": "https://localhost:8080/",
          "height": 300
        },
        "id": "WoT8AyGBkoTR",
        "outputId": "322cf38a-357d-4d77-bc7d-f272b07dab8f"
      },
      "source": [
        "plt.imshow(image.permute(1, 2, 0).numpy())"
      ],
      "execution_count": 7,
      "outputs": [
        {
          "output_type": "stream",
          "text": [
            "Clipping input data to the valid range for imshow with RGB data ([0..1] for floats or [0..255] for integers).\n"
          ],
          "name": "stderr"
        },
        {
          "output_type": "execute_result",
          "data": {
            "text/plain": [
              "<matplotlib.image.AxesImage at 0x7f36de2c6080>"
            ]
          },
          "metadata": {
            "tags": []
          },
          "execution_count": 7
        },
        {
          "output_type": "stream",
          "text": [
            "\n"
          ],
          "name": "stdout"
        },
        {
          "output_type": "display_data",
          "data": {
            "image/png": "[encoded data removed]",
            "text/plain": [
              "<Figure size 432x288 with 1 Axes>"
            ]
          },
          "metadata": {
            "tags": [],
            "needs_background": "light"
          }
        }
      ]
    },
    {
      "cell_type": "code",
      "metadata": {
        "id": "RNDxGqbektwZ"
      },
      "source": [
        "train_loader = torch.utils.data.DataLoader(dataset=train_dataset,\n",
        "                                           batch_size=64, \n",
        "                                           shuffle=True)"
      ],
      "execution_count": 8,
      "outputs": []
    },
    {
      "cell_type": "code",
      "metadata": {
        "colab": {
          "base_uri": "https://localhost:8080/",
          "height": 83,
          "referenced_widgets": [
            "bcdfb0314adf490eb88af445563933a0",
            "20afa5e82871456e838cb0b74ddcf96c",
            "124f6dc6112445d194ca6652153b13a9",
            "d75552e71661406099ff150a59690c2f",
            "b31f2cb553cd4624a189500686a9b054",
            "62735f81015841309c6142407fe657df",
            "2e7b89e73eec4210b5bf1869ff638f7b",
            "78c8badabb034f82ad79fc70740f78b3"
          ]
        },
        "id": "S8SSsYF6k6Yx",
        "outputId": "2d1eee02-3933-4131-ff62-186fc87b0dc1"
      },
      "source": [
        "test_dataset = torchvision.datasets.CIFAR10(root='./data', train=False,\n",
        "                                       download=True, transform=test_transform)\n",
        "test_loader = torch.utils.data.DataLoader(test_dataset, batch_size=10,\n",
        "                                         shuffle=False)"
      ],
      "execution_count": 9,
      "outputs": [
        {
          "output_type": "stream",
          "text": [
            "Downloading https://www.cs.toronto.edu/~kriz/cifar-10-python.tar.gz to ./data/cifar-10-python.tar.gz\n"
          ],
          "name": "stdout"
        },
        {
          "output_type": "display_data",
          "data": {
            "application/vnd.jupyter.widget-view+json": {
              "model_id": "bcdfb0314adf490eb88af445563933a0",
              "version_minor": 0,
              "version_major": 2
            },
            "text/plain": [
              "HBox(children=(FloatProgress(value=1.0, bar_style='info', max=1.0), HTML(value='')))"
            ]
          },
          "metadata": {
            "tags": []
          }
        },
        {
          "output_type": "stream",
          "text": [
            "Extracting ./data/cifar-10-python.tar.gz to ./data\n"
          ],
          "name": "stdout"
        }
      ]
    },
    {
      "cell_type": "code",
      "metadata": {
        "id": "av4GPhsRlH45"
      },
      "source": [
        "classes = ('plane', 'car', 'bird', 'cat',\n",
        "           'deer', 'dog', 'frog', 'horse', 'ship', 'truck')"
      ],
      "execution_count": 10,
      "outputs": []
    },
    {
      "cell_type": "code",
      "metadata": {
        "colab": {
          "base_uri": "https://localhost:8080/"
        },
        "id": "9dFB1vz4LP_G",
        "outputId": "ec527fba-6343-410c-8321-4c90b946f13a"
      },
      "source": [
        "import torch.nn.functional as F\n",
        "\n",
        "class Net(nn.Module):\n",
        "    def __init__(self):\n",
        "        super().__init__()\n",
        "        self.conv1 = nn.Conv2d(3, 32, kernel_size=3, stride=1, padding=1)\n",
        "        self.pool = nn.MaxPool2d(2, 2)\n",
        "        self.conv2 = nn.Conv2d(32, 64, kernel_size=3, stride=1, padding=1)\n",
        "        self.conv3 = nn.Conv2d(64, 128, kernel_size=3, stride=1, padding=1)\n",
        "        self.conv4 = nn.Conv2d(128, 256, kernel_size=3, stride=1, padding=1)\n",
        "        self.fc1 = nn.Linear(256 * 2 * 2, 256)\n",
        "        self.fc2 = nn.Linear(256, 64)\n",
        "        self.fc3 = nn.Linear(64, 10)\n",
        "        self.bn1 = nn.BatchNorm2d(32)\n",
        "        self.bn2 = nn.BatchNorm2d(64)\n",
        "        self.bn3 = nn.BatchNorm2d(128)\n",
        "        self.bn4 = nn.BatchNorm2d(256)\n",
        "        self.dropout1 = nn.Dropout(p=0.3)\n",
        "        self.dropout2 = nn.Dropout(p=0.4)\n",
        "\n",
        "    def forward(self, x):\n",
        "        x = self.pool(F.relu(self.bn1(self.conv1(x))))\n",
        "        x = self.pool(F.relu(self.bn2(self.conv2(x))))\n",
        "        x = self.pool(F.relu(self.bn3(self.conv3(x))))\n",
        "        x = self.pool(F.relu(self.bn4(self.conv4(x))))\n",
        "        x = x.view(-1, 256 * 2 * 2)\n",
        "        x = F.relu(self.dropout1(self.fc1(x)))\n",
        "        x = F.relu(self.dropout2(self.fc2(x)))\n",
        "        x = self.fc3(x)\n",
        "        return x\n",
        "\n",
        "net = Net().to(device)"
      ],
      "execution_count": 11,
      "outputs": [
        {
          "output_type": "stream",
          "text": [
            "\n"
          ],
          "name": "stdout"
        }
      ]
    },
    {
      "cell_type": "code",
      "metadata": {
        "id": "PEOSb0G7lR-f"
      },
      "source": [
        "criterion = nn.CrossEntropyLoss()\n",
        "optimizer = optim.Adam(net.parameters(), lr=0.001)\n",
        "\n",
        "#optimizer = optim.SGD(net.parameters(), lr=0.001, momentum=0.9)"
      ],
      "execution_count": 12,
      "outputs": []
    },
    {
      "cell_type": "code",
      "metadata": {
        "id": "5thqCWAu-MYv"
      },
      "source": [
        "num_epochs = 12\n",
        "plot_interval = 100"
      ],
      "execution_count": 13,
      "outputs": []
    },
    {
      "cell_type": "code",
      "metadata": {
        "colab": {
          "base_uri": "https://localhost:8080/"
        },
        "id": "CtQP6_jVC1Ep",
        "outputId": "958fc6cc-1e3e-4d56-cff5-df4eb0916cb7"
      },
      "source": [
        "len(train_loader)"
      ],
      "execution_count": 14,
      "outputs": [
        {
          "output_type": "execute_result",
          "data": {
            "text/plain": [
              "782"
            ]
          },
          "metadata": {
            "tags": []
          },
          "execution_count": 14
        }
      ]
    },
    {
      "cell_type": "code",
      "metadata": {
        "colab": {
          "base_uri": "https://localhost:8080/"
        },
        "id": "onQyEx8emj6v",
        "outputId": "be09cec8-6641-419f-b61c-d1d55d43e9a5"
      },
      "source": [
        "total_train_step = len(train_loader)\n",
        "total_test_step = len(test_loader)\n",
        "for epoch in range(num_epochs):\n",
        "    sum_loss = 0.0\n",
        "    sum_correct = 0\n",
        "    sum_total = 0\n",
        "    for i, data in enumerate(train_loader, 0):\n",
        "        inputs, labels = data[0], data[1]\n",
        "\n",
        "        inputs = inputs.to(device)\n",
        "        labels = labels.to(device)\n",
        "\n",
        "        optimizer.zero_grad()\n",
        "        outputs = net(inputs)\n",
        "        loss = criterion(outputs, labels)\n",
        "        loss.backward()\n",
        "        optimizer.step()\n",
        "\n",
        "        # Отслеживание точности\n",
        "        total = labels.size(0)\n",
        "        _, predicted = torch.max(outputs.data, 1)\n",
        "        correct = (predicted == labels).sum().item()\n",
        "        sum_correct += correct\n",
        "        sum_total += total\n",
        "\n",
        "        # выводим статистику о процессе обучения\n",
        "        sum_loss += loss.item()\n",
        "        \n",
        "        if (i + 1) % plot_interval == 0:\n",
        "            print('Epoch [{}/{}], Step [{}/{}], Loss: {:.4f}, Accuracy: {:.2f}%'\n",
        "                  .format(epoch + 1, num_epochs, i + 1, total_train_step, sum_loss/plot_interval,\n",
        "                          (sum_correct / sum_total) * 100))\n",
        "            sum_loss = 0.0\n",
        "            sum_correct = 0\n",
        "            sum_total = 0\n",
        "    \n",
        "    # На каждой эпохе выводим точность и потери на тестовом наборе\n",
        "    net.eval()\n",
        "    with torch.no_grad():\n",
        "      sum_loss = 0.0\n",
        "      sum_correct = 0\n",
        "      sum_total = 0\n",
        "      for inputs, labels in test_loader:\n",
        "        inputs = inputs.to(device)\n",
        "        labels = labels.to(device)\n",
        "        outputs = net(inputs)\n",
        "        loss = criterion(outputs, labels)\n",
        "        sum_loss += loss\n",
        "        _, predicted = torch.max(outputs.data, 1)\n",
        "        total = labels.size(0)\n",
        "        sum_total += total\n",
        "\n",
        "        correct = (predicted == labels).sum().item()\n",
        "        sum_correct += correct\n",
        "\n",
        "      print('Test Loss: {:.4f}; Test Аccuracy: {:.2f} %'.format((sum_loss / total_test_step), (sum_correct / sum_total * 100)))\n",
        "    net.train()\n",
        "\n",
        "\n",
        "print('Training is finished!')"
      ],
      "execution_count": 15,
      "outputs": [
        {
          "output_type": "stream",
          "text": [
            "Epoch [1/12], Step [100/782], Loss: 2.0078, Accuracy: 23.86%\n",
            "Epoch [1/12], Step [200/782], Loss: 1.7279, Accuracy: 34.62%\n",
            "Epoch [1/12], Step [300/782], Loss: 1.6089, Accuracy: 40.14%\n",
            "Epoch [1/12], Step [400/782], Loss: 1.5136, Accuracy: 44.36%\n",
            "Epoch [1/12], Step [500/782], Loss: 1.4645, Accuracy: 47.05%\n",
            "Epoch [1/12], Step [600/782], Loss: 1.4063, Accuracy: 49.53%\n",
            "Epoch [1/12], Step [700/782], Loss: 1.3308, Accuracy: 52.62%\n",
            "Test Loss: 1.1347; Test Аccuracy: 58.94 %\n",
            "Epoch [2/12], Step [100/782], Loss: 1.2283, Accuracy: 56.55%\n",
            "Epoch [2/12], Step [200/782], Loss: 1.2333, Accuracy: 56.12%\n",
            "Epoch [2/12], Step [300/782], Loss: 1.1592, Accuracy: 58.97%\n",
            "Epoch [2/12], Step [400/782], Loss: 1.1593, Accuracy: 60.28%\n",
            "Epoch [2/12], Step [500/782], Loss: 1.1220, Accuracy: 60.77%\n",
            "Epoch [2/12], Step [600/782], Loss: 1.1078, Accuracy: 61.09%\n",
            "Epoch [2/12], Step [700/782], Loss: 1.0738, Accuracy: 63.05%\n",
            "Test Loss: 0.8982; Test Аccuracy: 67.36 %\n",
            "Epoch [3/12], Step [100/782], Loss: 1.0170, Accuracy: 65.11%\n",
            "Epoch [3/12], Step [200/782], Loss: 1.0142, Accuracy: 65.56%\n",
            "Epoch [3/12], Step [300/782], Loss: 0.9617, Accuracy: 67.03%\n",
            "Epoch [3/12], Step [400/782], Loss: 0.9653, Accuracy: 66.48%\n",
            "Epoch [3/12], Step [500/782], Loss: 0.9719, Accuracy: 66.48%\n",
            "Epoch [3/12], Step [600/782], Loss: 0.9565, Accuracy: 67.38%\n",
            "Epoch [3/12], Step [700/782], Loss: 0.9558, Accuracy: 67.42%\n",
            "Test Loss: 0.8698; Test Аccuracy: 69.28 %\n",
            "Epoch [4/12], Step [100/782], Loss: 0.8827, Accuracy: 70.22%\n",
            "Epoch [4/12], Step [200/782], Loss: 0.9108, Accuracy: 69.05%\n",
            "Epoch [4/12], Step [300/782], Loss: 0.8780, Accuracy: 70.12%\n",
            "Epoch [4/12], Step [400/782], Loss: 0.8564, Accuracy: 71.14%\n",
            "Epoch [4/12], Step [500/782], Loss: 0.8892, Accuracy: 69.94%\n",
            "Epoch [4/12], Step [600/782], Loss: 0.8420, Accuracy: 72.08%\n",
            "Epoch [4/12], Step [700/782], Loss: 0.8413, Accuracy: 72.48%\n",
            "Test Loss: 0.8772; Test Аccuracy: 70.84 %\n",
            "Epoch [5/12], Step [100/782], Loss: 0.8047, Accuracy: 73.28%\n",
            "Epoch [5/12], Step [200/782], Loss: 0.7886, Accuracy: 74.00%\n",
            "Epoch [5/12], Step [300/782], Loss: 0.7863, Accuracy: 74.19%\n",
            "Epoch [5/12], Step [400/782], Loss: 0.7918, Accuracy: 73.38%\n",
            "Epoch [5/12], Step [500/782], Loss: 0.7996, Accuracy: 74.02%\n",
            "Epoch [5/12], Step [600/782], Loss: 0.7808, Accuracy: 73.70%\n",
            "Epoch [5/12], Step [700/782], Loss: 0.7889, Accuracy: 73.42%\n",
            "Test Loss: 0.6974; Test Аccuracy: 76.21 %\n",
            "Epoch [6/12], Step [100/782], Loss: 0.7454, Accuracy: 75.34%\n",
            "Epoch [6/12], Step [200/782], Loss: 0.6887, Accuracy: 76.98%\n",
            "Epoch [6/12], Step [300/782], Loss: 0.7392, Accuracy: 76.06%\n",
            "Epoch [6/12], Step [400/782], Loss: 0.7272, Accuracy: 75.62%\n",
            "Epoch [6/12], Step [500/782], Loss: 0.7334, Accuracy: 75.91%\n",
            "Epoch [6/12], Step [600/782], Loss: 0.6902, Accuracy: 76.39%\n",
            "Epoch [6/12], Step [700/782], Loss: 0.7028, Accuracy: 76.41%\n",
            "Test Loss: 0.7435; Test Аccuracy: 74.57 %\n",
            "Epoch [7/12], Step [100/782], Loss: 0.6772, Accuracy: 78.31%\n",
            "Epoch [7/12], Step [200/782], Loss: 0.6852, Accuracy: 76.94%\n",
            "Epoch [7/12], Step [300/782], Loss: 0.6758, Accuracy: 77.33%\n",
            "Epoch [7/12], Step [400/782], Loss: 0.6966, Accuracy: 76.86%\n",
            "Epoch [7/12], Step [500/782], Loss: 0.6768, Accuracy: 77.66%\n",
            "Epoch [7/12], Step [600/782], Loss: 0.6557, Accuracy: 78.55%\n",
            "Epoch [7/12], Step [700/782], Loss: 0.6417, Accuracy: 78.38%\n",
            "Test Loss: 0.6501; Test Аccuracy: 77.92 %\n",
            "Epoch [8/12], Step [100/782], Loss: 0.6175, Accuracy: 79.72%\n",
            "Epoch [8/12], Step [200/782], Loss: 0.6029, Accuracy: 79.95%\n",
            "Epoch [8/12], Step [300/782], Loss: 0.6453, Accuracy: 79.11%\n",
            "Epoch [8/12], Step [400/782], Loss: 0.6106, Accuracy: 80.05%\n",
            "Epoch [8/12], Step [500/782], Loss: 0.6385, Accuracy: 78.64%\n",
            "Epoch [8/12], Step [600/782], Loss: 0.6412, Accuracy: 79.16%\n",
            "Epoch [8/12], Step [700/782], Loss: 0.6287, Accuracy: 79.36%\n",
            "Test Loss: 0.6312; Test Аccuracy: 78.66 %\n",
            "Epoch [9/12], Step [100/782], Loss: 0.5588, Accuracy: 81.50%\n",
            "Epoch [9/12], Step [200/782], Loss: 0.5624, Accuracy: 81.59%\n",
            "Epoch [9/12], Step [300/782], Loss: 0.5612, Accuracy: 81.30%\n",
            "Epoch [9/12], Step [400/782], Loss: 0.5655, Accuracy: 81.08%\n",
            "Epoch [9/12], Step [500/782], Loss: 0.5806, Accuracy: 81.31%\n",
            "Epoch [9/12], Step [600/782], Loss: 0.5746, Accuracy: 80.59%\n",
            "Epoch [9/12], Step [700/782], Loss: 0.6062, Accuracy: 79.91%\n",
            "Test Loss: 0.6041; Test Аccuracy: 80.16 %\n",
            "Epoch [10/12], Step [100/782], Loss: 0.5321, Accuracy: 82.42%\n",
            "Epoch [10/12], Step [200/782], Loss: 0.5273, Accuracy: 82.83%\n",
            "Epoch [10/12], Step [300/782], Loss: 0.5381, Accuracy: 81.61%\n",
            "Epoch [10/12], Step [400/782], Loss: 0.5462, Accuracy: 81.45%\n",
            "Epoch [10/12], Step [500/782], Loss: 0.5231, Accuracy: 82.94%\n",
            "Epoch [10/12], Step [600/782], Loss: 0.5542, Accuracy: 81.11%\n",
            "Epoch [10/12], Step [700/782], Loss: 0.5538, Accuracy: 82.36%\n",
            "Test Loss: 0.6828; Test Аccuracy: 78.10 %\n",
            "Epoch [11/12], Step [100/782], Loss: 0.4981, Accuracy: 83.77%\n",
            "Epoch [11/12], Step [200/782], Loss: 0.4758, Accuracy: 84.20%\n",
            "Epoch [11/12], Step [300/782], Loss: 0.4963, Accuracy: 83.80%\n",
            "Epoch [11/12], Step [400/782], Loss: 0.5248, Accuracy: 82.66%\n",
            "Epoch [11/12], Step [500/782], Loss: 0.5056, Accuracy: 82.97%\n",
            "Epoch [11/12], Step [600/782], Loss: 0.5242, Accuracy: 82.70%\n",
            "Epoch [11/12], Step [700/782], Loss: 0.5218, Accuracy: 82.94%\n",
            "Test Loss: 0.5946; Test Аccuracy: 80.71 %\n",
            "Epoch [12/12], Step [100/782], Loss: 0.4588, Accuracy: 84.38%\n",
            "Epoch [12/12], Step [200/782], Loss: 0.4640, Accuracy: 84.83%\n",
            "Epoch [12/12], Step [300/782], Loss: 0.4782, Accuracy: 84.50%\n",
            "Epoch [12/12], Step [400/782], Loss: 0.4754, Accuracy: 84.39%\n",
            "Epoch [12/12], Step [500/782], Loss: 0.5103, Accuracy: 83.38%\n",
            "Epoch [12/12], Step [600/782], Loss: 0.4863, Accuracy: 83.92%\n",
            "Epoch [12/12], Step [700/782], Loss: 0.4891, Accuracy: 83.78%\n",
            "Test Loss: 0.6346; Test Аccuracy: 79.92 %\n",
            "Training is finished!\n"
          ],
          "name": "stdout"
        }
      ]
    },
    {
      "cell_type": "code",
      "metadata": {
        "colab": {
          "base_uri": "https://localhost:8080/"
        },
        "id": "jTx-Z3ZKegAn",
        "outputId": "2ffa24a7-a926-4ce4-ae92-a6bccf563878"
      },
      "source": [
        "net.eval()\n",
        "with torch.no_grad():\n",
        "  sum_loss = 0.0\n",
        "  sum_correct = 0\n",
        "  sum_total = 0\n",
        "  for inputs, labels in test_loader:\n",
        "    inputs = inputs.to(device)\n",
        "    labels = labels.to(device)\n",
        "    outputs = net(inputs)\n",
        "    loss = criterion(outputs, labels)\n",
        "    sum_loss += loss\n",
        "    _, predicted = torch.max(outputs.data, 1)\n",
        "    total = labels.size(0)\n",
        "    sum_total += total\n",
        "\n",
        "    correct = (predicted == labels).sum().item()\n",
        "    sum_correct += correct\n",
        "\n",
        "  print('Test Loss: {:.4f}; Test Аccuracy: {:.2f} %'.format((sum_loss / total_test_step), (sum_correct / sum_total * 100)))\n",
        "#net.train()"
      ],
      "execution_count": 16,
      "outputs": [
        {
          "output_type": "stream",
          "text": [
            "Test Loss: 0.6346; Test Аccuracy: 79.92 %\n"
          ],
          "name": "stdout"
        }
      ]
    },
    {
      "cell_type": "code",
      "metadata": {
        "id": "m-xiBvHqmonn"
      },
      "source": [
        "data_iter = iter(test_loader)\n",
        "images, labels = data_iter.next()\n",
        "\n",
        "labels = labels.to(device)"
      ],
      "execution_count": 17,
      "outputs": []
    },
    {
      "cell_type": "code",
      "metadata": {
        "colab": {
          "base_uri": "https://localhost:8080/",
          "height": 171
        },
        "id": "zWTWlNd06HJ0",
        "outputId": "7f7a3dfb-e0c7-4f28-cd28-7dd3652b40c9"
      },
      "source": [
        "imgs = torchvision.utils.make_grid(images)\n",
        "images = images.to(device)\n",
        "outputs = net(images)\n",
        "\n",
        "plt.imshow(imgs.permute(1, 2, 0).numpy())\n",
        "print('GroundTruth: ', ' '.join('%5s' % classes[labels[j]] for j in range(10)))"
      ],
      "execution_count": 18,
      "outputs": [
        {
          "output_type": "stream",
          "text": [
            "Clipping input data to the valid range for imshow with RGB data ([0..1] for floats or [0..255] for integers).\n"
          ],
          "name": "stderr"
        },
        {
          "output_type": "stream",
          "text": [
            "GroundTruth:    cat  ship  ship plane  frog  frog   car  frog   cat   car\n"
          ],
          "name": "stdout"
        },
        {
          "output_type": "display_data",
          "data": {
            "image/png": "[encoded data removed]",
            "text/plain": [
              "<Figure size 432x288 with 1 Axes>"
            ]
          },
          "metadata": {
            "tags": [],
            "needs_background": "light"
          }
        }
      ]
    },
    {
      "cell_type": "code",
      "metadata": {
        "colab": {
          "base_uri": "https://localhost:8080/"
        },
        "id": "xzy-WURr7WNH",
        "outputId": "793605b0-f88f-4eab-c747-b2132d862b9e"
      },
      "source": [
        "_, predicted = torch.max(outputs, 1)\n",
        "\n",
        "print('Predicted: ', ' '.join('%5s' % classes[predicted[j]]\n",
        "                              for j in range(10)))"
      ],
      "execution_count": 19,
      "outputs": [
        {
          "output_type": "stream",
          "text": [
            "Predicted:    cat  ship  ship plane  frog  frog   car  frog   cat   car\n"
          ],
          "name": "stdout"
        }
      ]
    },
    {
      "cell_type": "markdown",
      "metadata": {
        "id": "gQr37GAT5_P0"
      },
      "source": [
        "## 2. Переписать данный туториал на pytorch: https://www.tensorflow.org/tutorials/quickstart/beginner?hl=ru"
      ]
    },
    {
      "cell_type": "code",
      "metadata": {
        "id": "e1leUsq15-c_"
      },
      "source": [
        "import torch\n",
        "from torch.autograd import Variable\n",
        "import torch.nn as nn\n",
        "import torch.nn.functional as F\n",
        "import torch.optim as optim\n",
        "from torchvision import datasets, transforms\n",
        "import torch.nn as nn\n",
        "import torchvision\n",
        "from torch.utils.data import DataLoader"
      ],
      "execution_count": 20,
      "outputs": []
    },
    {
      "cell_type": "code",
      "metadata": {
        "id": "6v_RBPYi87Ku"
      },
      "source": [
        "num_epochs = 5 \n",
        "num_classes = 10 \n",
        "batch_size = 100 \n",
        "learning_rate = 0.001\n",
        "# Место, куда будет сохранен датасет\n",
        "DATA_PATH = 'data'\n",
        "MODEL_STORE_PATH = '.'"
      ],
      "execution_count": 21,
      "outputs": []
    },
    {
      "cell_type": "code",
      "metadata": {
        "colab": {
          "base_uri": "https://localhost:8080/",
          "height": 403,
          "referenced_widgets": [
            "53d577d0e5b14a11a14f90143f2c5d7f",
            "0a4472765504434a9ca125a48b4f748a",
            "40d700fc51b44d8cb1ee8c5f7e8162fe",
            "8fb905b8ea17422f843077843c829d54",
            "d961a5a5a7b7442994f12d594c091a22",
            "8ed06f02c0ad409b9331c794791f0796",
            "b28ec55befe8454d89f0177d6e0cf7d5",
            "939a7c48a45048b28ce4a681b352facf",
            "d1d9230247d4403cbf46cdc123e1bf89",
            "978b648bd16449f88b2b61e9b7f9cb25",
            "5188db4ca11e4432ac9407c065948071",
            "11868290e5044938aa051950e54bad15",
            "e7067db40361440bb8acb8cd2730eb27",
            "c7cc1e637dff42afb79bdcbda3abed06",
            "7ec300573e5543a9bc1c4f09da7d6339",
            "14b4e5de6b394f6cacc248c2ebf081ff",
            "82376fe6748343f9a4dc869945c87727",
            "1a564001ff2f476e848de2553cc868d6",
            "40d9a70253b64f92b70dca7973c582e7",
            "7a4d2a84a75d4a47a7979c978d5df2a1",
            "72b18c674612421db61a4f40386d4db4",
            "bbdaab83ac0e4365a099c98898594c5d",
            "e6e267ebde774b4b8d78b597eaeeef7f",
            "d7b82fc03be14ab58bcacb51eb5e606f",
            "8a11982504ea4ec98e51673629c01412",
            "70c7a68002d44ba28ce2961232f70a6b",
            "11ec840966e1480893bdd5116fa1395b",
            "412a4dd79d1e403c80e44a2061d3864c",
            "1c3d8fedd54847f3ba90e5a60c866801",
            "3773f090dc5e4f7c9c31dcee68b4cc86",
            "74cb71073d9e45329ea0b7a100eca3cb",
            "79dcc5bc6a9a4bd3b2a64fba8e1d44f4"
          ]
        },
        "id": "-x8DAcYt9hZl",
        "outputId": "46caa297-3581-4706-cca1-d94caf5876c2"
      },
      "source": [
        "trans = transforms.Compose([transforms.ToTensor(), transforms.Normalize((0.1307,), (0.3081,))]) \n",
        "\n",
        "train_dataset = torchvision.datasets.MNIST(root=DATA_PATH, train=True, transform=trans, download=True) \n",
        "test_dataset = torchvision.datasets.MNIST(root=DATA_PATH, train=False, transform=trans)"
      ],
      "execution_count": 22,
      "outputs": [
        {
          "output_type": "stream",
          "text": [
            "Downloading http://yann.lecun.com/exdb/mnist/train-images-idx3-ubyte.gz to data/MNIST/raw/train-images-idx3-ubyte.gz\n"
          ],
          "name": "stdout"
        },
        {
          "output_type": "display_data",
          "data": {
            "application/vnd.jupyter.widget-view+json": {
              "model_id": "53d577d0e5b14a11a14f90143f2c5d7f",
              "version_minor": 0,
              "version_major": 2
            },
            "text/plain": [
              "HBox(children=(FloatProgress(value=1.0, bar_style='info', max=1.0), HTML(value='')))"
            ]
          },
          "metadata": {
            "tags": []
          }
        },
        {
          "output_type": "stream",
          "text": [
            "Extracting data/MNIST/raw/train-images-idx3-ubyte.gz to data/MNIST/raw\n",
            "Downloading http://yann.lecun.com/exdb/mnist/train-labels-idx1-ubyte.gz to data/MNIST/raw/train-labels-idx1-ubyte.gz\n"
          ],
          "name": "stdout"
        },
        {
          "output_type": "display_data",
          "data": {
            "application/vnd.jupyter.widget-view+json": {
              "model_id": "d1d9230247d4403cbf46cdc123e1bf89",
              "version_minor": 0,
              "version_major": 2
            },
            "text/plain": [
              "HBox(children=(FloatProgress(value=1.0, bar_style='info', max=1.0), HTML(value='')))"
            ]
          },
          "metadata": {
            "tags": []
          }
        },
        {
          "output_type": "stream",
          "text": [
            "Extracting data/MNIST/raw/train-labels-idx1-ubyte.gz to data/MNIST/raw\n",
            "Downloading http://yann.lecun.com/exdb/mnist/t10k-images-idx3-ubyte.gz to data/MNIST/raw/t10k-images-idx3-ubyte.gz\n",
            "\n",
            "\n"
          ],
          "name": "stdout"
        },
        {
          "output_type": "display_data",
          "data": {
            "application/vnd.jupyter.widget-view+json": {
              "model_id": "82376fe6748343f9a4dc869945c87727",
              "version_minor": 0,
              "version_major": 2
            },
            "text/plain": [
              "HBox(children=(FloatProgress(value=1.0, bar_style='info', max=1.0), HTML(value='')))"
            ]
          },
          "metadata": {
            "tags": []
          }
        },
        {
          "output_type": "stream",
          "text": [
            "Extracting data/MNIST/raw/t10k-images-idx3-ubyte.gz to data/MNIST/raw\n",
            "Downloading http://yann.lecun.com/exdb/mnist/t10k-labels-idx1-ubyte.gz to data/MNIST/raw/t10k-labels-idx1-ubyte.gz\n"
          ],
          "name": "stdout"
        },
        {
          "output_type": "display_data",
          "data": {
            "application/vnd.jupyter.widget-view+json": {
              "model_id": "8a11982504ea4ec98e51673629c01412",
              "version_minor": 0,
              "version_major": 2
            },
            "text/plain": [
              "HBox(children=(FloatProgress(value=1.0, bar_style='info', max=1.0), HTML(value='')))"
            ]
          },
          "metadata": {
            "tags": []
          }
        },
        {
          "output_type": "stream",
          "text": [
            "Extracting data/MNIST/raw/t10k-labels-idx1-ubyte.gz to data/MNIST/raw\n",
            "Processing...\n",
            "Done!\n"
          ],
          "name": "stdout"
        },
        {
          "output_type": "stream",
          "text": [
            "/usr/local/lib/python3.6/dist-packages/torchvision/datasets/mnist.py:480: UserWarning: The given NumPy array is not writeable, and PyTorch does not support non-writeable tensors. This means you can write to the underlying (supposedly non-writeable) NumPy array using the tensor. You may want to copy the array to protect its data or make it writeable before converting it to a tensor. This type of warning will be suppressed for the rest of this program. (Triggered internally at  /pytorch/torch/csrc/utils/tensor_numpy.cpp:141.)\n",
            "  return torch.from_numpy(parsed.astype(m[2], copy=False)).view(*s)\n"
          ],
          "name": "stderr"
        }
      ]
    },
    {
      "cell_type": "code",
      "metadata": {
        "id": "UbPcc_Wz9lAm"
      },
      "source": [
        "train_loader = DataLoader(dataset=train_dataset, batch_size=batch_size, shuffle=True) \n",
        "test_loader = DataLoader(dataset=test_dataset, batch_size=batch_size, shuffle=False)"
      ],
      "execution_count": 23,
      "outputs": []
    },
    {
      "cell_type": "code",
      "metadata": {
        "id": "NiOZTxS79pQz"
      },
      "source": [
        "class ConvNet(nn.Module): \n",
        "    def __init__(self): \n",
        "        super(ConvNet, self).__init__() \n",
        "        self.layer1 = nn.Sequential(nn.Conv2d(1, 32, kernel_size=5, stride=1, padding=2), \n",
        "                                    nn.ReLU(), nn.MaxPool2d(kernel_size=2, stride=2)) \n",
        "        self.layer2 = nn.Sequential(nn.Conv2d(32, 64, kernel_size=5, stride=1, padding=2), \n",
        "                                    nn.ReLU(), nn.MaxPool2d(kernel_size=2, stride=2)) \n",
        "        self.drop_out = nn.Dropout()\n",
        "        self.fc1 = nn.Linear(7 * 7 * 64, 1000)\n",
        "        self.fc2 = nn.Linear(1000, 10)\n",
        "        \n",
        "# Определяем последовательность прямого прохода\n",
        "\n",
        "    def forward(self, x):\n",
        "        out = self.layer1(x)\n",
        "        out = self.layer2(out)\n",
        "        out = out.reshape(out.size(0), -1)\n",
        "        out = self.drop_out(out)\n",
        "        out = self.fc1(out)\n",
        "        out = self.fc2(out)\n",
        "        return out"
      ],
      "execution_count": 27,
      "outputs": []
    },
    {
      "cell_type": "code",
      "metadata": {
        "id": "mkoAf-kW9w2u"
      },
      "source": [
        "model = ConvNet()\n",
        "criterion = nn.CrossEntropyLoss()\n",
        "optimizer = torch.optim.Adam(model.parameters(), lr=learning_rate)"
      ],
      "execution_count": 28,
      "outputs": []
    },
    {
      "cell_type": "code",
      "metadata": {
        "colab": {
          "base_uri": "https://localhost:8080/"
        },
        "id": "Akyzqwx59zPt",
        "outputId": "54d20853-7ebc-4ea0-82dc-9ac43a769a24"
      },
      "source": [
        "total_step = len(train_loader)\n",
        "loss_list = []\n",
        "acc_list = []\n",
        "for epoch in range(num_epochs):\n",
        "    for i, (images, labels) in enumerate(train_loader):\n",
        "        # Прямой запуск\n",
        "        outputs = model(images)\n",
        "        loss = criterion(outputs, labels)\n",
        "        loss_list.append(loss.item())\n",
        "\n",
        "        # Обратное распространение и оптимизатор\n",
        "        optimizer.zero_grad()\n",
        "        loss.backward()\n",
        "        optimizer.step()\n",
        "\n",
        "        # Отслеживание точности\n",
        "        total = labels.size(0)\n",
        "        _, predicted = torch.max(outputs.data, 1)\n",
        "        correct = (predicted == labels).sum().item()\n",
        "        acc_list.append(correct / total)\n",
        "\n",
        "        if (i + 1) % 100 == 0:\n",
        "            print('Epoch [{}/{}], Step [{}/{}], Loss: {:.4f}, Accuracy: {:.2f}%'\n",
        "                  .format(epoch + 1, num_epochs, i + 1, total_step, loss.item(),\n",
        "                          (correct / total) * 100))"
      ],
      "execution_count": 29,
      "outputs": [
        {
          "output_type": "stream",
          "text": [
            "Epoch [1/5], Step [100/600], Loss: 0.1216, Accuracy: 96.00%\n",
            "Epoch [1/5], Step [100/600], Loss: 0.1216, Accuracy: 96.00%\n",
            "Epoch [1/5], Step [200/600], Loss: 0.1295, Accuracy: 93.00%\n",
            "Epoch [1/5], Step [200/600], Loss: 0.1295, Accuracy: 93.00%\n",
            "Epoch [1/5], Step [300/600], Loss: 0.1414, Accuracy: 97.00%\n",
            "Epoch [1/5], Step [300/600], Loss: 0.1414, Accuracy: 97.00%\n",
            "Epoch [1/5], Step [400/600], Loss: 0.0553, Accuracy: 98.00%\n",
            "Epoch [1/5], Step [400/600], Loss: 0.0553, Accuracy: 98.00%\n",
            "Epoch [1/5], Step [500/600], Loss: 0.1788, Accuracy: 94.00%\n",
            "Epoch [1/5], Step [500/600], Loss: 0.1788, Accuracy: 94.00%\n",
            "Epoch [1/5], Step [600/600], Loss: 0.1152, Accuracy: 97.00%\n",
            "Epoch [1/5], Step [600/600], Loss: 0.1152, Accuracy: 97.00%\n",
            "Epoch [2/5], Step [100/600], Loss: 0.1159, Accuracy: 97.00%\n",
            "Epoch [2/5], Step [100/600], Loss: 0.1159, Accuracy: 97.00%\n",
            "Epoch [2/5], Step [200/600], Loss: 0.0759, Accuracy: 96.00%\n",
            "Epoch [2/5], Step [200/600], Loss: 0.0759, Accuracy: 96.00%\n",
            "Epoch [2/5], Step [300/600], Loss: 0.1123, Accuracy: 98.00%\n",
            "Epoch [2/5], Step [300/600], Loss: 0.1123, Accuracy: 98.00%\n",
            "Epoch [2/5], Step [400/600], Loss: 0.0821, Accuracy: 97.00%\n",
            "Epoch [2/5], Step [400/600], Loss: 0.0821, Accuracy: 97.00%\n",
            "Epoch [2/5], Step [500/600], Loss: 0.0909, Accuracy: 98.00%\n",
            "Epoch [2/5], Step [500/600], Loss: 0.0909, Accuracy: 98.00%\n",
            "Epoch [2/5], Step [600/600], Loss: 0.0336, Accuracy: 98.00%\n",
            "Epoch [2/5], Step [600/600], Loss: 0.0336, Accuracy: 98.00%\n",
            "Epoch [3/5], Step [100/600], Loss: 0.1220, Accuracy: 98.00%\n",
            "Epoch [3/5], Step [100/600], Loss: 0.1220, Accuracy: 98.00%\n",
            "Epoch [3/5], Step [200/600], Loss: 0.1010, Accuracy: 97.00%\n",
            "Epoch [3/5], Step [200/600], Loss: 0.1010, Accuracy: 97.00%\n",
            "Epoch [3/5], Step [300/600], Loss: 0.0056, Accuracy: 100.00%\n",
            "Epoch [3/5], Step [300/600], Loss: 0.0056, Accuracy: 100.00%\n",
            "Epoch [3/5], Step [400/600], Loss: 0.0404, Accuracy: 99.00%\n",
            "Epoch [3/5], Step [400/600], Loss: 0.0404, Accuracy: 99.00%\n",
            "Epoch [3/5], Step [500/600], Loss: 0.1423, Accuracy: 98.00%\n",
            "Epoch [3/5], Step [500/600], Loss: 0.1423, Accuracy: 98.00%\n",
            "Epoch [3/5], Step [600/600], Loss: 0.0640, Accuracy: 95.00%\n",
            "Epoch [3/5], Step [600/600], Loss: 0.0640, Accuracy: 95.00%\n",
            "Epoch [4/5], Step [100/600], Loss: 0.0175, Accuracy: 99.00%\n",
            "Epoch [4/5], Step [100/600], Loss: 0.0175, Accuracy: 99.00%\n",
            "Epoch [4/5], Step [200/600], Loss: 0.1570, Accuracy: 97.00%\n",
            "Epoch [4/5], Step [200/600], Loss: 0.1570, Accuracy: 97.00%\n",
            "Epoch [4/5], Step [300/600], Loss: 0.0478, Accuracy: 98.00%\n",
            "Epoch [4/5], Step [300/600], Loss: 0.0478, Accuracy: 98.00%\n",
            "Epoch [4/5], Step [400/600], Loss: 0.0759, Accuracy: 97.00%\n",
            "Epoch [4/5], Step [400/600], Loss: 0.0759, Accuracy: 97.00%\n",
            "Epoch [4/5], Step [500/600], Loss: 0.0069, Accuracy: 100.00%\n",
            "Epoch [4/5], Step [500/600], Loss: 0.0069, Accuracy: 100.00%\n",
            "Epoch [4/5], Step [600/600], Loss: 0.0702, Accuracy: 98.00%\n",
            "Epoch [4/5], Step [600/600], Loss: 0.0702, Accuracy: 98.00%\n",
            "Epoch [5/5], Step [100/600], Loss: 0.0208, Accuracy: 99.00%\n",
            "Epoch [5/5], Step [100/600], Loss: 0.0208, Accuracy: 99.00%\n",
            "Epoch [5/5], Step [200/600], Loss: 0.0561, Accuracy: 98.00%\n",
            "Epoch [5/5], Step [200/600], Loss: 0.0561, Accuracy: 98.00%\n",
            "Epoch [5/5], Step [300/600], Loss: 0.0171, Accuracy: 99.00%\n",
            "Epoch [5/5], Step [300/600], Loss: 0.0171, Accuracy: 99.00%\n",
            "Epoch [5/5], Step [400/600], Loss: 0.0272, Accuracy: 99.00%\n",
            "Epoch [5/5], Step [400/600], Loss: 0.0272, Accuracy: 99.00%\n",
            "Epoch [5/5], Step [500/600], Loss: 0.0277, Accuracy: 99.00%\n",
            "Epoch [5/5], Step [500/600], Loss: 0.0277, Accuracy: 99.00%\n",
            "Epoch [5/5], Step [600/600], Loss: 0.1196, Accuracy: 97.00%\n",
            "Epoch [5/5], Step [600/600], Loss: 0.1196, Accuracy: 97.00%\n"
          ],
          "name": "stdout"
        }
      ]
    },
    {
      "cell_type": "code",
      "metadata": {
        "colab": {
          "base_uri": "https://localhost:8080/"
        },
        "id": "vZKfzaaB92SQ",
        "outputId": "b372532f-2800-4085-9e93-60153dc80c6b"
      },
      "source": [
        "model.eval()\n",
        "with torch.no_grad():\n",
        "    correct = 0\n",
        "    total = 0\n",
        "    for images, labels in test_loader:\n",
        "        outputs = model(images)\n",
        "        _, predicted = torch.max(outputs.data, 1)\n",
        "        total += labels.size(0)\n",
        "        correct += (predicted == labels).sum().item()\n",
        "\n",
        "    print('Test Accuracy of the model on the 10000 test images: {} %'.format((correct / total) * 100))"
      ],
      "execution_count": 30,
      "outputs": [
        {
          "output_type": "stream",
          "text": [
            "Test Accuracy of the model on the 10000 test images: 99.19 %\n"
          ],
          "name": "stdout"
        }
      ]
    },
    {
      "cell_type": "code",
      "metadata": {
        "id": "SZeGoHlLBy5B"
      },
      "source": [
        ""
      ],
      "execution_count": null,
      "outputs": []
    }
  ]
}