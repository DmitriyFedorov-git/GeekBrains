{
  "nbformat": 4,
  "nbformat_minor": 0,
  "metadata": {
    "colab": {
      "name": "PyTorch_classifier_1.ipynb",
      "provenance": [],
      "collapsed_sections": []
    },
    "kernelspec": {
      "name": "python3",
      "display_name": "Python 3"
    },
    "accelerator": "GPU"
  },
  "cells": [
    {
      "cell_type": "markdown",
      "metadata": {
        "id": "8FgKFC-ziCHn"
      },
      "source": [
        "# Курсовой проект по курсу PyTorch: 1-я модель классификатора"
      ]
    },
    {
      "cell_type": "markdown",
      "metadata": {
        "id": "51BS35uQgxSF"
      },
      "source": [
        "Ссылка на датасет: https://www.kaggle.com/gti-upm/leapgestrecog/version/1"
      ]
    },
    {
      "cell_type": "markdown",
      "metadata": {
        "id": "XRmR_7OpiIgA"
      },
      "source": [
        "## Подключение библиотек и загрузка датасета"
      ]
    },
    {
      "cell_type": "code",
      "metadata": {
        "id": "bHPWCYo7jDjd"
      },
      "source": [
        "%matplotlib inline\r\n",
        "\r\n",
        "import os\r\n",
        "import matplotlib.pyplot as plt\r\n",
        "from PIL import Image \r\n",
        "import numpy as np\r\n",
        "import pandas as pd\r\n",
        "import time\r\n",
        "from torch.nn import functional as F\r\n",
        "import torch\r\n",
        "import torch.nn as nn\r\n",
        "from torch import optim\r\n",
        "from torch.utils.data import Dataset\r\n",
        "from torch.utils.data import DataLoader\r\n",
        "from google.colab import files"
      ],
      "execution_count": 1,
      "outputs": []
    },
    {
      "cell_type": "code",
      "metadata": {
        "colab": {
          "base_uri": "https://localhost:8080/"
        },
        "id": "OTWPYR0LjKMP",
        "outputId": "2e522286-40df-44a0-9bf0-9c6b05dc598e"
      },
      "source": [
        "device = torch.device(\"cuda:0\" if torch.cuda.is_available() else \"cpu\")\r\n",
        "print(device)"
      ],
      "execution_count": 2,
      "outputs": [
        {
          "output_type": "stream",
          "text": [
            "cuda:0\n"
          ],
          "name": "stdout"
        }
      ]
    },
    {
      "cell_type": "code",
      "metadata": {
        "colab": {
          "resources": {
            "http://localhost:8080/nbextensions/google.colab/files.js": {
              "data": "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",
              "ok": true,
              "headers": [
                [
                  "content-type",
                  "application/javascript"
                ]
              ],
              "status": 200,
              "status_text": ""
            }
          },
          "base_uri": "https://localhost:8080/",
          "height": 72
        },
        "id": "WwkIr73LG1AB",
        "outputId": "992d0896-ca62-4c2f-ebc3-2eb6faed9b41"
      },
      "source": [
        "! pip install -q kaggle\r\n",
        "files.upload()\r\n",
        "! mkdir ~/.kaggle\r\n",
        "! cp kaggle.json ~/.kaggle/\r\n",
        "! chmod 600 ~/.kaggle/kaggle.json"
      ],
      "execution_count": 3,
      "outputs": [
        {
          "output_type": "display_data",
          "data": {
            "text/html": [
              "\n",
              "     <input type=\"file\" id=\"files-9f97dcbc-d930-4528-976a-6fcaa89a8a5b\" name=\"files[]\" multiple disabled\n",
              "        style=\"border:none\" />\n",
              "     <output id=\"result-9f97dcbc-d930-4528-976a-6fcaa89a8a5b\">\n",
              "      Upload widget is only available when the cell has been executed in the\n",
              "      current browser session. Please rerun this cell to enable.\n",
              "      </output>\n",
              "      <script src=\"/nbextensions/google.colab/files.js\"></script> "
            ],
            "text/plain": [
              "<IPython.core.display.HTML object>"
            ]
          },
          "metadata": {
            "tags": []
          }
        },
        {
          "output_type": "stream",
          "text": [
            "Saving kaggle.json to kaggle.json\n"
          ],
          "name": "stdout"
        }
      ]
    },
    {
      "cell_type": "code",
      "metadata": {
        "colab": {
          "base_uri": "https://localhost:8080/"
        },
        "id": "MKjlMk4tig8r",
        "outputId": "54c50587-1238-4a17-bac1-ef40635e1dcb"
      },
      "source": [
        "!kaggle datasets download -d gti-upm/leapgestrecog\r\n",
        "!unzip -q /content/leapgestrecog.zip -d /content/ds"
      ],
      "execution_count": 4,
      "outputs": [
        {
          "output_type": "stream",
          "text": [
            "Downloading leapgestrecog.zip to /content\n",
            "100% 2.12G/2.13G [00:26<00:00, 86.4MB/s]\n",
            "100% 2.13G/2.13G [00:26<00:00, 86.2MB/s]\n"
          ],
          "name": "stdout"
        }
      ]
    },
    {
      "cell_type": "markdown",
      "metadata": {
        "id": "n6_b_YdrcZC4"
      },
      "source": [
        "## Формирование словарей с названиями классов и соответствующими им номерами классов"
      ]
    },
    {
      "cell_type": "code",
      "metadata": {
        "colab": {
          "base_uri": "https://localhost:8080/"
        },
        "id": "i4bmSrCsaz7q",
        "outputId": "b6022936-b7a1-4a98-8cc2-a0c790658a80"
      },
      "source": [
        "classes = os.listdir('/content/ds/leapgestrecog/leapGestRecog/00/')\r\n",
        "classes"
      ],
      "execution_count": 5,
      "outputs": [
        {
          "output_type": "execute_result",
          "data": {
            "text/plain": [
              "['08_palm_moved',\n",
              " '04_fist_moved',\n",
              " '03_fist',\n",
              " '05_thumb',\n",
              " '02_l',\n",
              " '10_down',\n",
              " '09_c',\n",
              " '01_palm',\n",
              " '07_ok',\n",
              " '06_index']"
            ]
          },
          "metadata": {
            "tags": []
          },
          "execution_count": 5
        }
      ]
    },
    {
      "cell_type": "code",
      "metadata": {
        "id": "AaNQywp4csAk"
      },
      "source": [
        "class_to_index = {}\r\n",
        "index_to_class = {}\r\n",
        "for i, class_name in enumerate(classes):\r\n",
        "  class_to_index[class_name] = i\r\n",
        "  index_to_class[i] = class_name"
      ],
      "execution_count": 6,
      "outputs": []
    },
    {
      "cell_type": "code",
      "metadata": {
        "colab": {
          "base_uri": "https://localhost:8080/"
        },
        "id": "-Sh1gleMltjB",
        "outputId": "910d6939-40ce-48ed-d6de-42fe395804b3"
      },
      "source": [
        "class_to_index"
      ],
      "execution_count": 7,
      "outputs": [
        {
          "output_type": "execute_result",
          "data": {
            "text/plain": [
              "{'01_palm': 7,\n",
              " '02_l': 4,\n",
              " '03_fist': 2,\n",
              " '04_fist_moved': 1,\n",
              " '05_thumb': 3,\n",
              " '06_index': 9,\n",
              " '07_ok': 8,\n",
              " '08_palm_moved': 0,\n",
              " '09_c': 6,\n",
              " '10_down': 5}"
            ]
          },
          "metadata": {
            "tags": []
          },
          "execution_count": 7
        }
      ]
    },
    {
      "cell_type": "code",
      "metadata": {
        "colab": {
          "base_uri": "https://localhost:8080/"
        },
        "id": "nbFhlElUlwp0",
        "outputId": "1a694d20-12b0-43d6-e884-555f82cfda88"
      },
      "source": [
        "index_to_class"
      ],
      "execution_count": 8,
      "outputs": [
        {
          "output_type": "execute_result",
          "data": {
            "text/plain": [
              "{0: '08_palm_moved',\n",
              " 1: '04_fist_moved',\n",
              " 2: '03_fist',\n",
              " 3: '05_thumb',\n",
              " 4: '02_l',\n",
              " 5: '10_down',\n",
              " 6: '09_c',\n",
              " 7: '01_palm',\n",
              " 8: '07_ok',\n",
              " 9: '06_index'}"
            ]
          },
          "metadata": {
            "tags": []
          },
          "execution_count": 8
        }
      ]
    },
    {
      "cell_type": "markdown",
      "metadata": {
        "id": "1fFvk6YXeRjD"
      },
      "source": [
        "## Подготовка данных для датасета"
      ]
    },
    {
      "cell_type": "code",
      "metadata": {
        "id": "isQCRMzveaft"
      },
      "source": [
        "# Собираем все адреса картинок для добавления в df\r\n",
        "images_addr = []\r\n",
        "for root, dirs, files in os.walk('/content/ds/leapGestRecog'):\r\n",
        "    for name in files:\r\n",
        "        f = os.path.join(root, name)\r\n",
        "        images_addr.append(f)"
      ],
      "execution_count": 9,
      "outputs": []
    },
    {
      "cell_type": "code",
      "metadata": {
        "colab": {
          "base_uri": "https://localhost:8080/"
        },
        "id": "__LaxfKBgPax",
        "outputId": "35efc75f-83fc-41cb-a15b-020fb3c8b685"
      },
      "source": [
        "len(images_addr)"
      ],
      "execution_count": 10,
      "outputs": [
        {
          "output_type": "execute_result",
          "data": {
            "text/plain": [
              "20000"
            ]
          },
          "metadata": {
            "tags": []
          },
          "execution_count": 10
        }
      ]
    },
    {
      "cell_type": "code",
      "metadata": {
        "colab": {
          "base_uri": "https://localhost:8080/",
          "height": 204
        },
        "id": "zhNDWpegguZU",
        "outputId": "3ea1b779-bb0f-45d7-aecc-f8ddca7e8ae1"
      },
      "source": [
        "dataframe = pd.DataFrame(images_addr, columns=['images_addr'])\r\n",
        "dataframe.head()"
      ],
      "execution_count": 11,
      "outputs": [
        {
          "output_type": "execute_result",
          "data": {
            "text/html": [
              "<div>\n",
              "<style scoped>\n",
              "    .dataframe tbody tr th:only-of-type {\n",
              "        vertical-align: middle;\n",
              "    }\n",
              "\n",
              "    .dataframe tbody tr th {\n",
              "        vertical-align: top;\n",
              "    }\n",
              "\n",
              "    .dataframe thead th {\n",
              "        text-align: right;\n",
              "    }\n",
              "</style>\n",
              "<table border=\"1\" class=\"dataframe\">\n",
              "  <thead>\n",
              "    <tr style=\"text-align: right;\">\n",
              "      <th></th>\n",
              "      <th>images_addr</th>\n",
              "    </tr>\n",
              "  </thead>\n",
              "  <tbody>\n",
              "    <tr>\n",
              "      <th>0</th>\n",
              "      <td>/content/ds/leapGestRecog/05/08_palm_moved/fra...</td>\n",
              "    </tr>\n",
              "    <tr>\n",
              "      <th>1</th>\n",
              "      <td>/content/ds/leapGestRecog/05/08_palm_moved/fra...</td>\n",
              "    </tr>\n",
              "    <tr>\n",
              "      <th>2</th>\n",
              "      <td>/content/ds/leapGestRecog/05/08_palm_moved/fra...</td>\n",
              "    </tr>\n",
              "    <tr>\n",
              "      <th>3</th>\n",
              "      <td>/content/ds/leapGestRecog/05/08_palm_moved/fra...</td>\n",
              "    </tr>\n",
              "    <tr>\n",
              "      <th>4</th>\n",
              "      <td>/content/ds/leapGestRecog/05/08_palm_moved/fra...</td>\n",
              "    </tr>\n",
              "  </tbody>\n",
              "</table>\n",
              "</div>"
            ],
            "text/plain": [
              "                                         images_addr\n",
              "0  /content/ds/leapGestRecog/05/08_palm_moved/fra...\n",
              "1  /content/ds/leapGestRecog/05/08_palm_moved/fra...\n",
              "2  /content/ds/leapGestRecog/05/08_palm_moved/fra...\n",
              "3  /content/ds/leapGestRecog/05/08_palm_moved/fra...\n",
              "4  /content/ds/leapGestRecog/05/08_palm_moved/fra..."
            ]
          },
          "metadata": {
            "tags": []
          },
          "execution_count": 11
        }
      ]
    },
    {
      "cell_type": "code",
      "metadata": {
        "colab": {
          "base_uri": "https://localhost:8080/",
          "height": 204
        },
        "id": "eIFmw5o4hi5o",
        "outputId": "a5b66dfe-ab16-42a7-e967-70f41a06f1f3"
      },
      "source": [
        "# Сформируем индекс напротив адреса каждой картинки в dataframe\r\n",
        "\r\n",
        "# Вырезаем из адресов имена классов\r\n",
        "dataframe['class_index'] = dataframe['images_addr'].apply(lambda x: x.split('/')[5])\r\n",
        "dataframe.head()"
      ],
      "execution_count": 12,
      "outputs": [
        {
          "output_type": "execute_result",
          "data": {
            "text/html": [
              "<div>\n",
              "<style scoped>\n",
              "    .dataframe tbody tr th:only-of-type {\n",
              "        vertical-align: middle;\n",
              "    }\n",
              "\n",
              "    .dataframe tbody tr th {\n",
              "        vertical-align: top;\n",
              "    }\n",
              "\n",
              "    .dataframe thead th {\n",
              "        text-align: right;\n",
              "    }\n",
              "</style>\n",
              "<table border=\"1\" class=\"dataframe\">\n",
              "  <thead>\n",
              "    <tr style=\"text-align: right;\">\n",
              "      <th></th>\n",
              "      <th>images_addr</th>\n",
              "      <th>class_index</th>\n",
              "    </tr>\n",
              "  </thead>\n",
              "  <tbody>\n",
              "    <tr>\n",
              "      <th>0</th>\n",
              "      <td>/content/ds/leapGestRecog/05/08_palm_moved/fra...</td>\n",
              "      <td>08_palm_moved</td>\n",
              "    </tr>\n",
              "    <tr>\n",
              "      <th>1</th>\n",
              "      <td>/content/ds/leapGestRecog/05/08_palm_moved/fra...</td>\n",
              "      <td>08_palm_moved</td>\n",
              "    </tr>\n",
              "    <tr>\n",
              "      <th>2</th>\n",
              "      <td>/content/ds/leapGestRecog/05/08_palm_moved/fra...</td>\n",
              "      <td>08_palm_moved</td>\n",
              "    </tr>\n",
              "    <tr>\n",
              "      <th>3</th>\n",
              "      <td>/content/ds/leapGestRecog/05/08_palm_moved/fra...</td>\n",
              "      <td>08_palm_moved</td>\n",
              "    </tr>\n",
              "    <tr>\n",
              "      <th>4</th>\n",
              "      <td>/content/ds/leapGestRecog/05/08_palm_moved/fra...</td>\n",
              "      <td>08_palm_moved</td>\n",
              "    </tr>\n",
              "  </tbody>\n",
              "</table>\n",
              "</div>"
            ],
            "text/plain": [
              "                                         images_addr    class_index\n",
              "0  /content/ds/leapGestRecog/05/08_palm_moved/fra...  08_palm_moved\n",
              "1  /content/ds/leapGestRecog/05/08_palm_moved/fra...  08_palm_moved\n",
              "2  /content/ds/leapGestRecog/05/08_palm_moved/fra...  08_palm_moved\n",
              "3  /content/ds/leapGestRecog/05/08_palm_moved/fra...  08_palm_moved\n",
              "4  /content/ds/leapGestRecog/05/08_palm_moved/fra...  08_palm_moved"
            ]
          },
          "metadata": {
            "tags": []
          },
          "execution_count": 12
        }
      ]
    },
    {
      "cell_type": "code",
      "metadata": {
        "colab": {
          "base_uri": "https://localhost:8080/"
        },
        "id": "P5UVGrxuipYQ",
        "outputId": "2094390a-d1a3-4eca-e1fd-a02c717e7dbb"
      },
      "source": [
        "# Проверим правильность полученных имен классов\r\n",
        "dataframe['class_index'].unique()"
      ],
      "execution_count": 13,
      "outputs": [
        {
          "output_type": "execute_result",
          "data": {
            "text/plain": [
              "array(['08_palm_moved', '04_fist_moved', '03_fist', '05_thumb', '02_l',\n",
              "       '10_down', '09_c', '01_palm', '07_ok', '06_index'], dtype=object)"
            ]
          },
          "metadata": {
            "tags": []
          },
          "execution_count": 13
        }
      ]
    },
    {
      "cell_type": "code",
      "metadata": {
        "id": "KWoJfm8bjUEi"
      },
      "source": [
        "# Произведем замену имени класса на индекс класса\r\n",
        "dataframe['class_index'] = dataframe['class_index'].apply(lambda x: class_to_index[x])"
      ],
      "execution_count": 14,
      "outputs": []
    },
    {
      "cell_type": "code",
      "metadata": {
        "colab": {
          "base_uri": "https://localhost:8080/"
        },
        "id": "JGkyH5UEjnpf",
        "outputId": "f878c646-362c-4185-ac81-a8626fcc1ddc"
      },
      "source": [
        "# Проверим правильность замены\r\n",
        "dataframe['class_index'].unique()"
      ],
      "execution_count": 15,
      "outputs": [
        {
          "output_type": "execute_result",
          "data": {
            "text/plain": [
              "array([0, 1, 2, 3, 4, 5, 6, 7, 8, 9])"
            ]
          },
          "metadata": {
            "tags": []
          },
          "execution_count": 15
        }
      ]
    },
    {
      "cell_type": "code",
      "metadata": {
        "colab": {
          "base_uri": "https://localhost:8080/"
        },
        "id": "MRxLmZt2jw-6",
        "outputId": "2594ca22-51e6-4654-a084-8d953e09dd3e"
      },
      "source": [
        "# Проверим сбалансированность классов\r\n",
        "dataframe['class_index'].value_counts()"
      ],
      "execution_count": 16,
      "outputs": [
        {
          "output_type": "execute_result",
          "data": {
            "text/plain": [
              "9    2000\n",
              "8    2000\n",
              "7    2000\n",
              "6    2000\n",
              "5    2000\n",
              "4    2000\n",
              "3    2000\n",
              "2    2000\n",
              "1    2000\n",
              "0    2000\n",
              "Name: class_index, dtype: int64"
            ]
          },
          "metadata": {
            "tags": []
          },
          "execution_count": 16
        }
      ]
    },
    {
      "cell_type": "code",
      "metadata": {
        "colab": {
          "base_uri": "https://localhost:8080/"
        },
        "id": "mouIaGFtmI-q",
        "outputId": "72755eed-5e47-4a77-ce43-feb65523f425"
      },
      "source": [
        "# Проверим размерность первой картинки\r\n",
        "image_arr = dataframe['images_addr'][0]\r\n",
        "img = np.asarray(Image.open(image_arr)).astype('float')\r\n",
        "img.shape"
      ],
      "execution_count": 17,
      "outputs": [
        {
          "output_type": "execute_result",
          "data": {
            "text/plain": [
              "(240, 640)"
            ]
          },
          "metadata": {
            "tags": []
          },
          "execution_count": 17
        }
      ]
    },
    {
      "cell_type": "code",
      "metadata": {
        "colab": {
          "base_uri": "https://localhost:8080/",
          "height": 177
        },
        "id": "kfNwOa8UmhN7",
        "outputId": "2ee5626f-1509-4b2d-b48b-b5e9caa48891"
      },
      "source": [
        "# Отобразим эту картинку\r\n",
        "plt.imshow(img, cmap='gray')\r\n",
        "plt.show()"
      ],
      "execution_count": 18,
      "outputs": [
        {
          "output_type": "display_data",
          "data": {
            "image/png": "[encoded data removed]",
            "text/plain": [
              "<Figure size 432x288 with 1 Axes>"
            ]
          },
          "metadata": {
            "tags": [],
            "needs_background": "light"
          }
        }
      ]
    },
    {
      "cell_type": "code",
      "metadata": {
        "colab": {
          "base_uri": "https://localhost:8080/",
          "height": 35
        },
        "id": "5lSB7U3rmbmx",
        "outputId": "621ebdd8-511e-4d6e-934d-46757df116d6"
      },
      "source": [
        "# Ее класс\r\n",
        "index_to_class[dataframe['class_index'][0]]"
      ],
      "execution_count": 19,
      "outputs": [
        {
          "output_type": "execute_result",
          "data": {
            "application/vnd.google.colaboratory.intrinsic+json": {
              "type": "string"
            },
            "text/plain": [
              "'08_palm_moved'"
            ]
          },
          "metadata": {
            "tags": []
          },
          "execution_count": 19
        }
      ]
    },
    {
      "cell_type": "markdown",
      "metadata": {
        "id": "aZLe0lwGkVum"
      },
      "source": [
        "## Класс для кастомного датасета"
      ]
    },
    {
      "cell_type": "code",
      "metadata": {
        "id": "lgD-7Mj-kbyO"
      },
      "source": [
        "class CustomDatasetFromImages(Dataset):\r\n",
        "    def __init__(self, dataframe):\r\n",
        "        # Подаем наш подготовленный датафрейм\r\n",
        "        self.dataframe = dataframe\r\n",
        "        \r\n",
        "        # Разделяем датафрейм на адреса картинок\r\n",
        "        self.images_addr_arr = self.dataframe.iloc[:,0]\r\n",
        "        # и номера классов\r\n",
        "        self.class_index_arr = self.dataframe.iloc[:,1]\r\n",
        "        \r\n",
        "        # Количество пар картинка-сегментация\r\n",
        "        self.data_len = len(self.dataframe.index)\r\n",
        "\r\n",
        "    def __getitem__(self, index):\r\n",
        "        # Читаем картинку и сразу же представляем ее в виде numpy-массива \r\n",
        "        image = np.asarray(Image.open(self.images_addr_arr[index])).astype('float')\r\n",
        "        # Нормализуем изображение в значениях [0,1]\r\n",
        "        image = torch.as_tensor(image)/255\r\n",
        "        # Добавляем батч измерение\r\n",
        "        image = image.unsqueeze(0)\r\n",
        "        # Без этого дополнительного измерения интерполяция не работает\r\n",
        "        image = image.unsqueeze(0)\r\n",
        "        # Мы используем функцию интерполяции для того,\r\n",
        "        # чтобы поменять рамерность картинки с HхW на 256х256\r\n",
        "        # clamp не позволяет выйти за границы\r\n",
        "        image = F.interpolate(input=image, size=256, align_corners=False, mode='bicubic').clamp(min=0, max=1)\r\n",
        "        # Возвращаемся к 4-м измерениям\r\n",
        "        image = image.squeeze(1)\r\n",
        "        \r\n",
        "        # Читаем индекс класса \r\n",
        "        class_index = self.class_index_arr[index].astype('int')\r\n",
        "        \r\n",
        "        return (image.float(), class_index)\r\n",
        "\r\n",
        "    def __len__(self):\r\n",
        "        return self.data_len"
      ],
      "execution_count": 20,
      "outputs": []
    },
    {
      "cell_type": "markdown",
      "metadata": {
        "id": "OFN3lNeNpZ9l"
      },
      "source": [
        "## Разделение на тренировочную и тестовую выбоки"
      ]
    },
    {
      "cell_type": "code",
      "metadata": {
        "id": "6miFLur-pTdr"
      },
      "source": [
        "from sklearn.model_selection import train_test_split\r\n",
        "\r\n",
        "# 70 % в тренировочную выборку, 30 - в тестовую\r\n",
        "X_train, X_test = train_test_split(dataframe, test_size=0.3)\r\n",
        "\r\n",
        "# Упорядочиваем индексацию\r\n",
        "X_train.reset_index(drop=True, inplace=True)\r\n",
        "X_test.reset_index(drop=True, inplace=True)\r\n",
        "\r\n",
        "# Оборачиваем каждую выборку в наш кастомный датасет\r\n",
        "train_data = CustomDatasetFromImages(X_train)\r\n",
        "test_data = CustomDatasetFromImages(X_test)"
      ],
      "execution_count": 21,
      "outputs": []
    },
    {
      "cell_type": "code",
      "metadata": {
        "id": "ffT3f9sxp3nL"
      },
      "source": [
        "train_data_loader = DataLoader(train_data, batch_size=16, shuffle=True)\r\n",
        "test_data_loader = DataLoader(test_data, batch_size=16, shuffle=False)"
      ],
      "execution_count": 22,
      "outputs": []
    },
    {
      "cell_type": "markdown",
      "metadata": {
        "id": "-eDCgMCsp9mh"
      },
      "source": [
        "## Проверка работы загрузчика"
      ]
    },
    {
      "cell_type": "code",
      "metadata": {
        "id": "_yljAsIjp6en"
      },
      "source": [
        "loader = iter(train_data_loader)\r\n",
        "image, class_index = loader.next()"
      ],
      "execution_count": 23,
      "outputs": []
    },
    {
      "cell_type": "code",
      "metadata": {
        "colab": {
          "base_uri": "https://localhost:8080/"
        },
        "id": "-AolZNtsqhCp",
        "outputId": "61f99692-7a1b-44c4-e294-425a99d92882"
      },
      "source": [
        "image.shape"
      ],
      "execution_count": 24,
      "outputs": [
        {
          "output_type": "execute_result",
          "data": {
            "text/plain": [
              "torch.Size([16, 1, 256, 256])"
            ]
          },
          "metadata": {
            "tags": []
          },
          "execution_count": 24
        }
      ]
    },
    {
      "cell_type": "code",
      "metadata": {
        "colab": {
          "base_uri": "https://localhost:8080/"
        },
        "id": "vWadsO370Cpu",
        "outputId": "8d8db6a1-710a-495c-b93e-55c50bf532f6"
      },
      "source": [
        "class_index.shape"
      ],
      "execution_count": 25,
      "outputs": [
        {
          "output_type": "execute_result",
          "data": {
            "text/plain": [
              "torch.Size([16])"
            ]
          },
          "metadata": {
            "tags": []
          },
          "execution_count": 25
        }
      ]
    },
    {
      "cell_type": "code",
      "metadata": {
        "colab": {
          "base_uri": "https://localhost:8080/"
        },
        "id": "FFh8-Lzj0Igi",
        "outputId": "3cc07bcb-c2b9-4c37-b4a1-e53cdfa610ea"
      },
      "source": [
        "class_index"
      ],
      "execution_count": 26,
      "outputs": [
        {
          "output_type": "execute_result",
          "data": {
            "text/plain": [
              "tensor([3, 3, 6, 6, 4, 3, 3, 9, 7, 3, 3, 2, 9, 4, 7, 7])"
            ]
          },
          "metadata": {
            "tags": []
          },
          "execution_count": 26
        }
      ]
    },
    {
      "cell_type": "code",
      "metadata": {
        "colab": {
          "base_uri": "https://localhost:8080/"
        },
        "id": "zPszL1swqnI7",
        "outputId": "0d6ebd5c-cb17-4f74-bd43-ea6bf19dd0b6"
      },
      "source": [
        "torch.unique(image).max()"
      ],
      "execution_count": 27,
      "outputs": [
        {
          "output_type": "execute_result",
          "data": {
            "text/plain": [
              "tensor(1.)"
            ]
          },
          "metadata": {
            "tags": []
          },
          "execution_count": 27
        }
      ]
    },
    {
      "cell_type": "code",
      "metadata": {
        "colab": {
          "base_uri": "https://localhost:8080/"
        },
        "id": "-kSMplpvrgil",
        "outputId": "0194eafb-4cd7-402a-df68-a1038f104b6e"
      },
      "source": [
        "torch.unique(image).min()"
      ],
      "execution_count": 28,
      "outputs": [
        {
          "output_type": "execute_result",
          "data": {
            "text/plain": [
              "tensor(0.)"
            ]
          },
          "metadata": {
            "tags": []
          },
          "execution_count": 28
        }
      ]
    },
    {
      "cell_type": "code",
      "metadata": {
        "colab": {
          "base_uri": "https://localhost:8080/",
          "height": 269
        },
        "id": "bkNDb7qar2qF",
        "outputId": "306e06d7-b8b7-46c0-9d22-1ea89fcf2b44"
      },
      "source": [
        "plt.imshow((image[0][0]), cmap='gray')\r\n",
        "plt.show()"
      ],
      "execution_count": 29,
      "outputs": [
        {
          "output_type": "display_data",
          "data": {
            "image/png": "[encoded data removed]",
            "text/plain": [
              "<Figure size 432x288 with 1 Axes>"
            ]
          },
          "metadata": {
            "tags": [],
            "needs_background": "light"
          }
        }
      ]
    },
    {
      "cell_type": "code",
      "metadata": {
        "colab": {
          "base_uri": "https://localhost:8080/",
          "height": 35
        },
        "id": "L29eSueJt-g7",
        "outputId": "e5c4faa7-c638-4530-c3f9-34723e67f696"
      },
      "source": [
        "index_to_class[class_index[0].item()]"
      ],
      "execution_count": 30,
      "outputs": [
        {
          "output_type": "execute_result",
          "data": {
            "application/vnd.google.colaboratory.intrinsic+json": {
              "type": "string"
            },
            "text/plain": [
              "'05_thumb'"
            ]
          },
          "metadata": {
            "tags": []
          },
          "execution_count": 30
        }
      ]
    },
    {
      "cell_type": "code",
      "metadata": {
        "id": "7xIS8qLAGVRE"
      },
      "source": [
        ""
      ],
      "execution_count": null,
      "outputs": []
    },
    {
      "cell_type": "markdown",
      "metadata": {
        "id": "p3LQrKhstyXT"
      },
      "source": [
        "## Создание класса модели"
      ]
    },
    {
      "cell_type": "code",
      "metadata": {
        "id": "o74dlW1Vk2R-"
      },
      "source": [
        "class Net(nn.Module):\r\n",
        "    def __init__(self):\r\n",
        "        super().__init__()\r\n",
        "\r\n",
        "        self.conv1 = nn.Conv2d(in_channels=1, out_channels=16, kernel_size=3, stride=2, padding=1)\r\n",
        "        self.conv2 = nn.Conv2d(in_channels=16, out_channels=32, kernel_size=3, stride=2, padding=1)\r\n",
        "        self.conv3 = nn.Conv2d(in_channels=32, out_channels=64, kernel_size=3, stride=2, padding=1)\r\n",
        "        self.relu = nn.ReLU()\r\n",
        "        self.pool = nn.MaxPool2d(2)\r\n",
        "        self.fc1 = nn.Linear(64*4*4, 128)\r\n",
        "        self.fc2 = nn.Linear(128, 10)\r\n",
        "\r\n",
        "    def forward(self, x):\r\n",
        "        x = self.conv1(x)\r\n",
        "        x = self.relu(x)\r\n",
        "        x = self.pool(x)\r\n",
        "\r\n",
        "        x = self.conv2(x)\r\n",
        "        x = self.relu(x)\r\n",
        "        x = self.pool(x)\r\n",
        "        \r\n",
        "\r\n",
        "        x = self.conv3(x)\r\n",
        "        x = self.relu(x)\r\n",
        "        x = self.pool(x)\r\n",
        "\r\n",
        "        x = x.view(-1, 64*4*4)\r\n",
        "\r\n",
        "        x = self.fc1(x)\r\n",
        "        x = self.relu(x)\r\n",
        "        x = self.fc2(x)\r\n",
        "\r\n",
        "        return x"
      ],
      "execution_count": null,
      "outputs": []
    },
    {
      "cell_type": "code",
      "metadata": {
        "colab": {
          "base_uri": "https://localhost:8080/"
        },
        "id": "Q-8CsdzbwFHD",
        "outputId": "351492a7-2857-40af-cff0-605a89d8419e"
      },
      "source": [
        "# Проверим правильность работы сети, прогнав через нее картинку\r\n",
        "net = Net().to(device)\r\n",
        "result = net(image.to(device))\r\n",
        "result.shape"
      ],
      "execution_count": null,
      "outputs": [
        {
          "output_type": "execute_result",
          "data": {
            "text/plain": [
              "torch.Size([16, 10])"
            ]
          },
          "metadata": {
            "tags": []
          },
          "execution_count": 65
        }
      ]
    },
    {
      "cell_type": "code",
      "metadata": {
        "colab": {
          "base_uri": "https://localhost:8080/"
        },
        "id": "a2RKVBSktxVV",
        "outputId": "0595d835-0004-4edf-b169-d0d39feb4262"
      },
      "source": [
        "result = torch.argmax(result, dim=1)\r\n",
        "result"
      ],
      "execution_count": null,
      "outputs": [
        {
          "output_type": "execute_result",
          "data": {
            "text/plain": [
              "tensor([3, 3, 3, 3, 3, 3, 3, 3, 3, 3, 3, 3, 3, 3, 3, 3], device='cuda:0')"
            ]
          },
          "metadata": {
            "tags": []
          },
          "execution_count": 66
        }
      ]
    },
    {
      "cell_type": "code",
      "metadata": {
        "colab": {
          "base_uri": "https://localhost:8080/"
        },
        "id": "BwxzSZtPuRXF",
        "outputId": "8383c4b2-42c6-485d-ddf0-f7210011398b"
      },
      "source": [
        "class_index"
      ],
      "execution_count": null,
      "outputs": [
        {
          "output_type": "execute_result",
          "data": {
            "text/plain": [
              "tensor([4, 9, 1, 5, 6, 0, 2, 4, 8, 6, 9, 5, 4, 6, 9, 1])"
            ]
          },
          "metadata": {
            "tags": []
          },
          "execution_count": 67
        }
      ]
    },
    {
      "cell_type": "code",
      "metadata": {
        "colab": {
          "base_uri": "https://localhost:8080/"
        },
        "id": "8ubofh-mugZF",
        "outputId": "9d9e35d2-0278-4266-f6db-6c9ce12be127"
      },
      "source": [
        "float(torch.sum(result == class_index.to(device)).item())"
      ],
      "execution_count": null,
      "outputs": [
        {
          "output_type": "execute_result",
          "data": {
            "text/plain": [
              "0.0"
            ]
          },
          "metadata": {
            "tags": []
          },
          "execution_count": 68
        }
      ]
    },
    {
      "cell_type": "markdown",
      "metadata": {
        "id": "uE6HeeRGxz8h"
      },
      "source": [
        "## Обучение модели"
      ]
    },
    {
      "cell_type": "code",
      "metadata": {
        "id": "yLJgwcdak6yq"
      },
      "source": [
        "criterion = nn.CrossEntropyLoss()\r\n",
        "optimizer = optim.Adam(net.parameters(), lr=0.001)"
      ],
      "execution_count": null,
      "outputs": []
    },
    {
      "cell_type": "code",
      "metadata": {
        "colab": {
          "base_uri": "https://localhost:8080/"
        },
        "id": "MiUbYip_k-xz",
        "outputId": "fb81c1f2-88d4-4d77-8bb1-d5224f730f0f"
      },
      "source": [
        "epoch_losses = []\r\n",
        "batch_size = 16\r\n",
        "num_epochs = 3\r\n",
        "\r\n",
        "for epoch in range(num_epochs):  \r\n",
        "    train_loss = 0.0\r\n",
        "    train_acc  = 0.0\r\n",
        "\r\n",
        "    epoch_loss = []\r\n",
        "    epoch_accuracy = []\r\n",
        "    time1 = time.time()\r\n",
        "\r\n",
        "    for batch_idx, data in enumerate(train_data_loader):\r\n",
        "        inputs, labels = data[0].to(device), data[1].to(device)\r\n",
        "        optimizer.zero_grad()\r\n",
        "        outputs = net(inputs)\r\n",
        "        loss = criterion(outputs, labels)\r\n",
        "        accuracy = float(torch.sum(torch.argmax(outputs, dim=1) == labels).item())/batch_size\r\n",
        "        loss.backward()\r\n",
        "        optimizer.step()\r\n",
        "        train_loss += loss.item()\r\n",
        "        train_acc += accuracy\r\n",
        "        epoch_loss.append(loss.item())\r\n",
        "        epoch_accuracy.append(accuracy)\r\n",
        "        if (batch_idx+1) % 100 == 99:\r\n",
        "            print(f'Train Epoch: {epoch+1}, Train loss: {train_loss/100:.4f}, Train accuracy: {train_acc/100:.4f}')\r\n",
        "            time2 = time.time()\r\n",
        "            print(f'Spend time for 100 batches: {time2 - time1:.4f} sec')\r\n",
        "            time1 = time.time()\r\n",
        "            train_loss = 0.0\r\n",
        "            train_acc  = 0.0\r\n",
        "\r\n",
        "    total_steps = len(test_data_loader)\r\n",
        "    val_loss = 0.0\r\n",
        "    val_acc  = 0.0\r\n",
        "    with torch.no_grad():\r\n",
        "        for data in test_data_loader:\r\n",
        "            inputs, labels = data[0].to(device), data[1].to(device)\r\n",
        "            outputs = net(inputs)\r\n",
        "            val_acc += float(torch.sum(torch.argmax(outputs, dim=1) == labels).item())/batch_size\r\n",
        "            loss = criterion(outputs, labels)\r\n",
        "            val_loss += loss\r\n",
        "    print(f'Epoch {epoch+1}, Train loss: {np.mean(epoch_loss):.4f}, '\r\n",
        "                           f'Train acc: {np.mean(epoch_accuracy):.4f}, ' \r\n",
        "                           f'Validate loss: {val_loss/total_steps:.4f}, ' \r\n",
        "                           f'Validate acc: {val_acc/total_steps:.4f}')\r\n",
        "    epoch_losses.append(epoch_loss) \r\n",
        "\r\n",
        "print('Training is finished!')"
      ],
      "execution_count": null,
      "outputs": [
        {
          "output_type": "stream",
          "text": [
            "Train Epoch: 1, Train loss: 1.8616, Train accuracy: 0.3150\n",
            "Spend time for 100 batches: 10.5511 sec\n",
            "Train Epoch: 1, Train loss: 0.7208, Train accuracy: 0.7781\n",
            "Spend time for 100 batches: 10.5070 sec\n",
            "Train Epoch: 1, Train loss: 0.3682, Train accuracy: 0.8838\n",
            "Spend time for 100 batches: 10.4948 sec\n",
            "Train Epoch: 1, Train loss: 0.1667, Train accuracy: 0.9513\n",
            "Spend time for 100 batches: 10.5699 sec\n",
            "Train Epoch: 1, Train loss: 0.0990, Train accuracy: 0.9694\n",
            "Spend time for 100 batches: 10.5120 sec\n",
            "Train Epoch: 1, Train loss: 0.1220, Train accuracy: 0.9575\n",
            "Spend time for 100 batches: 10.4772 sec\n",
            "Train Epoch: 1, Train loss: 0.0569, Train accuracy: 0.9850\n",
            "Spend time for 100 batches: 10.4946 sec\n",
            "Train Epoch: 1, Train loss: 0.0795, Train accuracy: 0.9762\n",
            "Spend time for 100 batches: 10.5747 sec\n",
            "Epoch 1, Train loss: 0.4029, Train acc: 0.8635, Validate loss: 0.0384, Validate acc: 0.9887\n",
            "Train Epoch: 2, Train loss: 0.0537, Train accuracy: 0.9700\n",
            "Spend time for 100 batches: 10.3777 sec\n",
            "Train Epoch: 2, Train loss: 0.0150, Train accuracy: 0.9950\n",
            "Spend time for 100 batches: 10.4680 sec\n",
            "Train Epoch: 2, Train loss: 0.0218, Train accuracy: 0.9950\n",
            "Spend time for 100 batches: 10.4843 sec\n",
            "Train Epoch: 2, Train loss: 0.0295, Train accuracy: 0.9912\n",
            "Spend time for 100 batches: 10.6453 sec\n",
            "Train Epoch: 2, Train loss: 0.0586, Train accuracy: 0.9825\n",
            "Spend time for 100 batches: 10.4749 sec\n",
            "Train Epoch: 2, Train loss: 0.0149, Train accuracy: 0.9962\n",
            "Spend time for 100 batches: 10.5387 sec\n",
            "Train Epoch: 2, Train loss: 0.0182, Train accuracy: 0.9950\n",
            "Spend time for 100 batches: 10.5040 sec\n",
            "Train Epoch: 2, Train loss: 0.0129, Train accuracy: 0.9956\n",
            "Spend time for 100 batches: 10.4782 sec\n",
            "Epoch 2, Train loss: 0.0283, Train acc: 0.9911, Validate loss: 0.0683, Validate acc: 0.9873\n",
            "Train Epoch: 3, Train loss: 0.0197, Train accuracy: 0.9856\n",
            "Spend time for 100 batches: 10.3868 sec\n",
            "Train Epoch: 3, Train loss: 0.0106, Train accuracy: 0.9969\n",
            "Spend time for 100 batches: 10.4852 sec\n",
            "Train Epoch: 3, Train loss: 0.0375, Train accuracy: 0.9894\n",
            "Spend time for 100 batches: 10.6343 sec\n",
            "Train Epoch: 3, Train loss: 0.0444, Train accuracy: 0.9856\n",
            "Spend time for 100 batches: 10.5366 sec\n",
            "Train Epoch: 3, Train loss: 0.0057, Train accuracy: 0.9988\n",
            "Spend time for 100 batches: 10.5575 sec\n",
            "Train Epoch: 3, Train loss: 0.0124, Train accuracy: 0.9944\n",
            "Spend time for 100 batches: 10.5625 sec\n",
            "Train Epoch: 3, Train loss: 0.0078, Train accuracy: 0.9975\n",
            "Spend time for 100 batches: 10.5744 sec\n",
            "Train Epoch: 3, Train loss: 0.0207, Train accuracy: 0.9931\n",
            "Spend time for 100 batches: 10.4878 sec\n",
            "Epoch 3, Train loss: 0.0216, Train acc: 0.9932, Validate loss: 0.0294, Validate acc: 0.9918\n",
            "Training is finished!\n"
          ],
          "name": "stdout"
        }
      ]
    },
    {
      "cell_type": "code",
      "metadata": {
        "colab": {
          "base_uri": "https://localhost:8080/",
          "height": 312
        },
        "id": "jwPftxjIRbk9",
        "outputId": "844af9cb-2c6e-47c6-895f-eaf8904f80b4"
      },
      "source": [
        "losses = [np.mean(loss) for loss in epoch_losses]\r\n",
        "plt.plot(losses, '-x')\r\n",
        "plt.xlabel('epoch')\r\n",
        "plt.ylabel('losses')\r\n",
        "plt.title('losses vs. No. of epochs')"
      ],
      "execution_count": null,
      "outputs": [
        {
          "output_type": "execute_result",
          "data": {
            "text/plain": [
              "Text(0.5, 1.0, 'losses vs. No. of epochs')"
            ]
          },
          "metadata": {
            "tags": []
          },
          "execution_count": 74
        },
        {
          "output_type": "display_data",
          "data": {
            "image/png": "[encoded data removed]",
            "text/plain": [
              "<Figure size 432x288 with 1 Axes>"
            ]
          },
          "metadata": {
            "tags": [],
            "needs_background": "light"
          }
        }
      ]
    },
    {
      "cell_type": "markdown",
      "metadata": {
        "id": "0j-ulqIuHHG-"
      },
      "source": [
        "## Вывод полученных результатов"
      ]
    },
    {
      "cell_type": "code",
      "metadata": {
        "colab": {
          "base_uri": "https://localhost:8080/",
          "height": 205
        },
        "id": "jaVYr-gwlCoE",
        "outputId": "9e903a7c-3faf-4828-efa9-0c695e820e4b"
      },
      "source": [
        "N=6\r\n",
        "\r\n",
        "test_loader = DataLoader(test_data, batch_size = N, shuffle=True)\r\n",
        "\r\n",
        "data_iter = iter(test_loader)\r\n",
        "images, labels = data_iter.next()\r\n",
        "net = net.to(device)\r\n",
        "outputs = net(images.to(device))\r\n",
        "\r\n",
        "f, axarr = plt.subplots(1,N, figsize=(15,15))\r\n",
        "for i in range(N):\r\n",
        "  axarr[i].imshow(images[i].numpy()[0], cmap='gray')\r\n",
        "  axarr[i].imshow(images[i].numpy()[0], cmap='gray')\r\n",
        "  axarr[i].imshow(images[i].numpy()[0], cmap='gray')\r\n",
        "plt.show()\r\n",
        "\r\n",
        "print('GroundTruth: ', ' '.join('%15s' % index_to_class[labels[j].item()] for j in range(N)))\r\n",
        "_, predicted = torch.max(outputs, 1)\r\n",
        "print('Predicted:   ', ' '.join('%15s' % index_to_class[predicted[j].item()] for j in range(N)))"
      ],
      "execution_count": null,
      "outputs": [
        {
          "output_type": "display_data",
          "data": {
            "image/png": "[encoded data removed]",
            "text/plain": [
              "<Figure size 1080x1080 with 6 Axes>"
            ]
          },
          "metadata": {
            "tags": [],
            "needs_background": "light"
          }
        },
        {
          "output_type": "stream",
          "text": [
            "GroundTruth:         06_index            09_c   08_palm_moved           07_ok        05_thumb        06_index\n",
            "Predicted:           06_index            09_c   08_palm_moved           07_ok        05_thumb        06_index\n"
          ],
          "name": "stdout"
        }
      ]
    },
    {
      "cell_type": "markdown",
      "metadata": {
        "id": "bE7_d9cdMMvz"
      },
      "source": [
        "## Сохранение модели"
      ]
    },
    {
      "cell_type": "code",
      "metadata": {
        "id": "wc5OzmKgoW_7"
      },
      "source": [
        "torch.save(net, '/content/hand_model.pth')"
      ],
      "execution_count": null,
      "outputs": []
    }
  ]
}