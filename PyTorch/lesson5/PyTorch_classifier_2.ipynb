{
  "nbformat": 4,
  "nbformat_minor": 0,
  "metadata": {
    "colab": {
      "name": "PyTorch_classifier_2.ipynb",
      "provenance": [],
      "collapsed_sections": [],
      "toc_visible": true
    },
    "kernelspec": {
      "display_name": "Python 3",
      "name": "python3"
    },
    "widgets": {
      "application/vnd.jupyter.widget-state+json": {
        "97b51064b24e4f1dad7721a1e5d57fa1": {
          "model_module": "@jupyter-widgets/controls",
          "model_name": "HBoxModel",
          "state": {
            "_view_name": "HBoxView",
            "_dom_classes": [],
            "_model_name": "HBoxModel",
            "_view_module": "@jupyter-widgets/controls",
            "_model_module_version": "1.5.0",
            "_view_count": null,
            "_view_module_version": "1.5.0",
            "box_style": "",
            "layout": "IPY_MODEL_fe25c7ec0cbf4103905b6ada65b0a8ac",
            "_model_module": "@jupyter-widgets/controls",
            "children": [
              "IPY_MODEL_cfc5cf2f665c48f19ac1637429f61384",
              "IPY_MODEL_ffe97678d8ca41468a45b5497d0a68d6"
            ]
          }
        },
        "fe25c7ec0cbf4103905b6ada65b0a8ac": {
          "model_module": "@jupyter-widgets/base",
          "model_name": "LayoutModel",
          "state": {
            "_view_name": "LayoutView",
            "grid_template_rows": null,
            "right": null,
            "justify_content": null,
            "_view_module": "@jupyter-widgets/base",
            "overflow": null,
            "_model_module_version": "1.2.0",
            "_view_count": null,
            "flex_flow": null,
            "width": null,
            "min_width": null,
            "border": null,
            "align_items": null,
            "bottom": null,
            "_model_module": "@jupyter-widgets/base",
            "top": null,
            "grid_column": null,
            "overflow_y": null,
            "overflow_x": null,
            "grid_auto_flow": null,
            "grid_area": null,
            "grid_template_columns": null,
            "flex": null,
            "_model_name": "LayoutModel",
            "justify_items": null,
            "grid_row": null,
            "max_height": null,
            "align_content": null,
            "visibility": null,
            "align_self": null,
            "height": null,
            "min_height": null,
            "padding": null,
            "grid_auto_rows": null,
            "grid_gap": null,
            "max_width": null,
            "order": null,
            "_view_module_version": "1.2.0",
            "grid_template_areas": null,
            "object_position": null,
            "object_fit": null,
            "grid_auto_columns": null,
            "margin": null,
            "display": null,
            "left": null
          }
        },
        "cfc5cf2f665c48f19ac1637429f61384": {
          "model_module": "@jupyter-widgets/controls",
          "model_name": "FloatProgressModel",
          "state": {
            "_view_name": "ProgressView",
            "style": "IPY_MODEL_cb4f83f554f445fd9d2fbd162133046b",
            "_dom_classes": [],
            "description": "100%",
            "_model_name": "FloatProgressModel",
            "bar_style": "success",
            "max": 46827520,
            "_view_module": "@jupyter-widgets/controls",
            "_model_module_version": "1.5.0",
            "value": 46827520,
            "_view_count": null,
            "_view_module_version": "1.5.0",
            "orientation": "horizontal",
            "min": 0,
            "description_tooltip": null,
            "_model_module": "@jupyter-widgets/controls",
            "layout": "IPY_MODEL_040f0f0b83254bcfaea1c3c27f669c84"
          }
        },
        "ffe97678d8ca41468a45b5497d0a68d6": {
          "model_module": "@jupyter-widgets/controls",
          "model_name": "HTMLModel",
          "state": {
            "_view_name": "HTMLView",
            "style": "IPY_MODEL_112e95ab0b454e3995157f57ea6754e9",
            "_dom_classes": [],
            "description": "",
            "_model_name": "HTMLModel",
            "placeholder": "​",
            "_view_module": "@jupyter-widgets/controls",
            "_model_module_version": "1.5.0",
            "value": " 44.7M/44.7M [00:00&lt;00:00, 122MB/s]",
            "_view_count": null,
            "_view_module_version": "1.5.0",
            "description_tooltip": null,
            "_model_module": "@jupyter-widgets/controls",
            "layout": "IPY_MODEL_065ab5bd6ce447f29e573915708e8573"
          }
        },
        "cb4f83f554f445fd9d2fbd162133046b": {
          "model_module": "@jupyter-widgets/controls",
          "model_name": "ProgressStyleModel",
          "state": {
            "_view_name": "StyleView",
            "_model_name": "ProgressStyleModel",
            "description_width": "initial",
            "_view_module": "@jupyter-widgets/base",
            "_model_module_version": "1.5.0",
            "_view_count": null,
            "_view_module_version": "1.2.0",
            "bar_color": null,
            "_model_module": "@jupyter-widgets/controls"
          }
        },
        "040f0f0b83254bcfaea1c3c27f669c84": {
          "model_module": "@jupyter-widgets/base",
          "model_name": "LayoutModel",
          "state": {
            "_view_name": "LayoutView",
            "grid_template_rows": null,
            "right": null,
            "justify_content": null,
            "_view_module": "@jupyter-widgets/base",
            "overflow": null,
            "_model_module_version": "1.2.0",
            "_view_count": null,
            "flex_flow": null,
            "width": null,
            "min_width": null,
            "border": null,
            "align_items": null,
            "bottom": null,
            "_model_module": "@jupyter-widgets/base",
            "top": null,
            "grid_column": null,
            "overflow_y": null,
            "overflow_x": null,
            "grid_auto_flow": null,
            "grid_area": null,
            "grid_template_columns": null,
            "flex": null,
            "_model_name": "LayoutModel",
            "justify_items": null,
            "grid_row": null,
            "max_height": null,
            "align_content": null,
            "visibility": null,
            "align_self": null,
            "height": null,
            "min_height": null,
            "padding": null,
            "grid_auto_rows": null,
            "grid_gap": null,
            "max_width": null,
            "order": null,
            "_view_module_version": "1.2.0",
            "grid_template_areas": null,
            "object_position": null,
            "object_fit": null,
            "grid_auto_columns": null,
            "margin": null,
            "display": null,
            "left": null
          }
        },
        "112e95ab0b454e3995157f57ea6754e9": {
          "model_module": "@jupyter-widgets/controls",
          "model_name": "DescriptionStyleModel",
          "state": {
            "_view_name": "StyleView",
            "_model_name": "DescriptionStyleModel",
            "description_width": "",
            "_view_module": "@jupyter-widgets/base",
            "_model_module_version": "1.5.0",
            "_view_count": null,
            "_view_module_version": "1.2.0",
            "_model_module": "@jupyter-widgets/controls"
          }
        },
        "065ab5bd6ce447f29e573915708e8573": {
          "model_module": "@jupyter-widgets/base",
          "model_name": "LayoutModel",
          "state": {
            "_view_name": "LayoutView",
            "grid_template_rows": null,
            "right": null,
            "justify_content": null,
            "_view_module": "@jupyter-widgets/base",
            "overflow": null,
            "_model_module_version": "1.2.0",
            "_view_count": null,
            "flex_flow": null,
            "width": null,
            "min_width": null,
            "border": null,
            "align_items": null,
            "bottom": null,
            "_model_module": "@jupyter-widgets/base",
            "top": null,
            "grid_column": null,
            "overflow_y": null,
            "overflow_x": null,
            "grid_auto_flow": null,
            "grid_area": null,
            "grid_template_columns": null,
            "flex": null,
            "_model_name": "LayoutModel",
            "justify_items": null,
            "grid_row": null,
            "max_height": null,
            "align_content": null,
            "visibility": null,
            "align_self": null,
            "height": null,
            "min_height": null,
            "padding": null,
            "grid_auto_rows": null,
            "grid_gap": null,
            "max_width": null,
            "order": null,
            "_view_module_version": "1.2.0",
            "grid_template_areas": null,
            "object_position": null,
            "object_fit": null,
            "grid_auto_columns": null,
            "margin": null,
            "display": null,
            "left": null
          }
        }
      }
    }
  },
  "cells": [
    {
      "cell_type": "markdown",
      "metadata": {
        "id": "8FgKFC-ziCHn"
      },
      "source": [
        "# Курсовой проект по курсу PyTorch: 2-я модель классификатора"
      ]
    },
    {
      "cell_type": "markdown",
      "metadata": {
        "id": "51BS35uQgxSF"
      },
      "source": [
        "Ссылка на датасет: https://www.kaggle.com/toxicmender/20bn-jester"
      ]
    },
    {
      "cell_type": "markdown",
      "metadata": {
        "id": "XRmR_7OpiIgA"
      },
      "source": [
        "## Подключение библиотек и загрузка датасета"
      ]
    },
    {
      "cell_type": "code",
      "metadata": {
        "colab": {
          "base_uri": "https://localhost:8080/",
          "height": 462
        },
        "id": "bHPWCYo7jDjd",
        "outputId": "03aaf6a4-bdec-4319-b08e-18f1ee09dc2f"
      },
      "source": [
        "%matplotlib inline\r\n",
        "!pip install mediapipe\r\n",
        "import os\r\n",
        "import matplotlib.pyplot as plt\r\n",
        "from PIL import Image \r\n",
        "import numpy as np\r\n",
        "import pandas as pd\r\n",
        "import time\r\n",
        "import cv2\r\n",
        "from torch.nn import functional as F\r\n",
        "import torch\r\n",
        "import torch.nn as nn\r\n",
        "from torch import optim\r\n",
        "from torch.utils.data import Dataset\r\n",
        "from torch.utils.data import DataLoader\r\n",
        "from google.colab import files\r\n",
        "from google.colab.patches import cv2_imshow\r\n",
        "import mediapipe as mp"
      ],
      "execution_count": 1,
      "outputs": [
        {
          "output_type": "stream",
          "text": [
            "Collecting mediapipe\n",
            "\u001b[?25l  Downloading https://files.pythonhosted.org/packages/1e/75/2f6d32b5599734200c7f5b3b2daf94413680e29bf2804c855678bca6dfb2/mediapipe-0.8.2-cp36-cp36m-manylinux2014_x86_64.whl (35.0MB)\n",
            "\u001b[K     |████████████████████████████████| 35.0MB 96kB/s \n",
            "\u001b[?25hRequirement already satisfied: six in /usr/local/lib/python3.6/dist-packages (from mediapipe) (1.15.0)\n",
            "Requirement already satisfied: absl-py in /usr/local/lib/python3.6/dist-packages (from mediapipe) (0.10.0)\n",
            "Requirement already satisfied: opencv-python in /usr/local/lib/python3.6/dist-packages (from mediapipe) (4.1.2.30)\n",
            "Requirement already satisfied: wheel in /usr/local/lib/python3.6/dist-packages (from mediapipe) (0.36.2)\n",
            "Collecting numpy==1.19.3\n",
            "\u001b[?25l  Downloading https://files.pythonhosted.org/packages/0e/f7/a7d7e0de99a7b43bd95aaddcf29e65b5a185ca389dd1329a53cc986edc38/numpy-1.19.3-cp36-cp36m-manylinux2010_x86_64.whl (14.9MB)\n",
            "\u001b[K     |████████████████████████████████| 14.9MB 146kB/s \n",
            "\u001b[?25hRequirement already satisfied: protobuf>=3.11.4 in /usr/local/lib/python3.6/dist-packages (from mediapipe) (3.12.4)\n",
            "Requirement already satisfied: dataclasses in /usr/local/lib/python3.6/dist-packages (from mediapipe) (0.8)\n",
            "Requirement already satisfied: setuptools in /usr/local/lib/python3.6/dist-packages (from protobuf>=3.11.4->mediapipe) (51.0.0)\n",
            "\u001b[31mERROR: datascience 0.10.6 has requirement folium==0.2.1, but you'll have folium 0.8.3 which is incompatible.\u001b[0m\n",
            "\u001b[31mERROR: albumentations 0.1.12 has requirement imgaug<0.2.7,>=0.2.5, but you'll have imgaug 0.2.9 which is incompatible.\u001b[0m\n",
            "Installing collected packages: numpy, mediapipe\n",
            "  Found existing installation: numpy 1.19.4\n",
            "    Uninstalling numpy-1.19.4:\n",
            "      Successfully uninstalled numpy-1.19.4\n",
            "Successfully installed mediapipe-0.8.2 numpy-1.19.3\n"
          ],
          "name": "stdout"
        },
        {
          "output_type": "display_data",
          "data": {
            "application/vnd.colab-display-data+json": {
              "pip_warning": {
                "packages": [
                  "numpy"
                ]
              }
            }
          },
          "metadata": {
            "tags": []
          }
        }
      ]
    },
    {
      "cell_type": "code",
      "metadata": {
        "colab": {
          "base_uri": "https://localhost:8080/"
        },
        "id": "OTWPYR0LjKMP",
        "outputId": "fed6ee46-8bcb-4863-bc89-03e1812ac3aa"
      },
      "source": [
        "device = torch.device(\"cuda:0\" if torch.cuda.is_available() else \"cpu\")\r\n",
        "print(device)"
      ],
      "execution_count": 635,
      "outputs": [
        {
          "output_type": "stream",
          "text": [
            "cpu\n"
          ],
          "name": "stdout"
        }
      ]
    },
    {
      "cell_type": "code",
      "metadata": {
        "colab": {
          "base_uri": "https://localhost:8080/"
        },
        "id": "kKKliKOyaDei",
        "outputId": "f2f86e18-a0cd-4581-870c-5f3a356a4bf2"
      },
      "source": [
        "! pip install -q kaggle\r\n",
        "files.upload()\r\n",
        "! mkdir ~/.kaggle\r\n",
        "! cp kaggle.json ~/.kaggle/\r\n",
        "! chmod 600 ~/.kaggle/kaggle.json\r\n",
        "!kaggle datasets download -d toxicmender/20bn-jester\r\n",
        "!unzip -q /content/20bn-jester.zip -d /content/20bn-jester"
      ],
      "execution_count": 4,
      "outputs": [
        {
          "output_type": "stream",
          "text": [
            "Downloading 20bn-jester.zip to /content\n",
            "100% 11.9G/11.9G [04:51<00:00, 122MB/s] \n",
            "100% 11.9G/11.9G [04:51<00:00, 43.9MB/s]\n"
          ],
          "name": "stdout"
        }
      ]
    },
    {
      "cell_type": "markdown",
      "metadata": {
        "id": "n6_b_YdrcZC4"
      },
      "source": [
        "## Подготовка данных для датасета"
      ]
    },
    {
      "cell_type": "code",
      "metadata": {
        "id": "EVJAt7_WdmNe"
      },
      "source": [
        "train = pd.read_csv('/content/20bn-jester/Train.csv')\r\n",
        "validatioon = pd.read_csv('/content/20bn-jester/Validation.csv')\r\n",
        "test = pd.read_csv('/content/20bn-jester/Test.csv')"
      ],
      "execution_count": 5,
      "outputs": []
    },
    {
      "cell_type": "code",
      "metadata": {
        "colab": {
          "base_uri": "https://localhost:8080/",
          "height": 204
        },
        "id": "F8z5949-dw--",
        "outputId": "4e68b8de-6e14-4e31-e3ae-c83f91d1c18e"
      },
      "source": [
        "train.head()"
      ],
      "execution_count": 6,
      "outputs": [
        {
          "output_type": "execute_result",
          "data": {
            "text/html": [
              "<div>\n",
              "<style scoped>\n",
              "    .dataframe tbody tr th:only-of-type {\n",
              "        vertical-align: middle;\n",
              "    }\n",
              "\n",
              "    .dataframe tbody tr th {\n",
              "        vertical-align: top;\n",
              "    }\n",
              "\n",
              "    .dataframe thead th {\n",
              "        text-align: right;\n",
              "    }\n",
              "</style>\n",
              "<table border=\"1\" class=\"dataframe\">\n",
              "  <thead>\n",
              "    <tr style=\"text-align: right;\">\n",
              "      <th></th>\n",
              "      <th>video_id</th>\n",
              "      <th>label</th>\n",
              "      <th>frames</th>\n",
              "      <th>label_id</th>\n",
              "      <th>shape</th>\n",
              "      <th>format</th>\n",
              "    </tr>\n",
              "  </thead>\n",
              "  <tbody>\n",
              "    <tr>\n",
              "      <th>0</th>\n",
              "      <td>1</td>\n",
              "      <td>Doing other things</td>\n",
              "      <td>37</td>\n",
              "      <td>0</td>\n",
              "      <td>(100, 176)</td>\n",
              "      <td>JPEG</td>\n",
              "    </tr>\n",
              "    <tr>\n",
              "      <th>1</th>\n",
              "      <td>3</td>\n",
              "      <td>Pushing Two Fingers Away</td>\n",
              "      <td>37</td>\n",
              "      <td>6</td>\n",
              "      <td>(100, 176)</td>\n",
              "      <td>JPEG</td>\n",
              "    </tr>\n",
              "    <tr>\n",
              "      <th>2</th>\n",
              "      <td>6</td>\n",
              "      <td>Drumming Fingers</td>\n",
              "      <td>37</td>\n",
              "      <td>1</td>\n",
              "      <td>(100, 176)</td>\n",
              "      <td>JPEG</td>\n",
              "    </tr>\n",
              "    <tr>\n",
              "      <th>3</th>\n",
              "      <td>11</td>\n",
              "      <td>Sliding Two Fingers Down</td>\n",
              "      <td>37</td>\n",
              "      <td>10</td>\n",
              "      <td>(100, 176)</td>\n",
              "      <td>JPEG</td>\n",
              "    </tr>\n",
              "    <tr>\n",
              "      <th>4</th>\n",
              "      <td>14</td>\n",
              "      <td>Pushing Hand Away</td>\n",
              "      <td>37</td>\n",
              "      <td>5</td>\n",
              "      <td>(100, 176)</td>\n",
              "      <td>JPEG</td>\n",
              "    </tr>\n",
              "  </tbody>\n",
              "</table>\n",
              "</div>"
            ],
            "text/plain": [
              "   video_id                     label  frames  label_id       shape format\n",
              "0         1        Doing other things      37         0  (100, 176)   JPEG\n",
              "1         3  Pushing Two Fingers Away      37         6  (100, 176)   JPEG\n",
              "2         6          Drumming Fingers      37         1  (100, 176)   JPEG\n",
              "3        11  Sliding Two Fingers Down      37        10  (100, 176)   JPEG\n",
              "4        14         Pushing Hand Away      37         5  (100, 176)   JPEG"
            ]
          },
          "metadata": {
            "tags": []
          },
          "execution_count": 6
        }
      ]
    },
    {
      "cell_type": "code",
      "metadata": {
        "colab": {
          "base_uri": "https://localhost:8080/"
        },
        "id": "A1FXbcZZJTY4",
        "outputId": "b7c8ea4b-4483-4de6-a6a5-bba57e53e5ad"
      },
      "source": [
        "train['label_id'].unique()"
      ],
      "execution_count": 7,
      "outputs": [
        {
          "output_type": "execute_result",
          "data": {
            "text/plain": [
              "array([ 0,  6,  1, 10,  5,  9,  4, 14, 24, 13, 26, 23,  2, 17, 19,  8,  3,\n",
              "       25, 16,  7, 22, 18, 21, 11, 15, 20, 12])"
            ]
          },
          "metadata": {
            "tags": []
          },
          "execution_count": 7
        }
      ]
    },
    {
      "cell_type": "code",
      "metadata": {
        "colab": {
          "base_uri": "https://localhost:8080/"
        },
        "id": "QZZMH8T4LsHd",
        "outputId": "3b45306b-835e-4507-b91c-8b5135f91124"
      },
      "source": [
        "train['shape'].unique()"
      ],
      "execution_count": 8,
      "outputs": [
        {
          "output_type": "execute_result",
          "data": {
            "text/plain": [
              "array(['(100, 176)', '(100, 132)', '(100, 100)', '(100, 142)',\n",
              "       '(100, 122)', '(100, 172)'], dtype=object)"
            ]
          },
          "metadata": {
            "tags": []
          },
          "execution_count": 8
        }
      ]
    },
    {
      "cell_type": "code",
      "metadata": {
        "colab": {
          "base_uri": "https://localhost:8080/",
          "height": 917
        },
        "id": "DeS7cgSWG3Tk",
        "outputId": "bfd008a8-afe2-4566-d673-988af19e049f"
      },
      "source": [
        "# df дляотображения label_id в label\r\n",
        "label_id_to_label = train[['label', 'label_id']]\r\n",
        "label_id_to_label = label_id_to_label.drop_duplicates()\r\n",
        "label_id_to_label.index = label_id_to_label['label_id']\r\n",
        "label_id_to_label = label_id_to_label.drop(columns = ['label_id'])\r\n",
        "label_id_to_label = label_id_to_label.sort_index()\r\n",
        "label_id_to_label"
      ],
      "execution_count": 9,
      "outputs": [
        {
          "output_type": "execute_result",
          "data": {
            "text/html": [
              "<div>\n",
              "<style scoped>\n",
              "    .dataframe tbody tr th:only-of-type {\n",
              "        vertical-align: middle;\n",
              "    }\n",
              "\n",
              "    .dataframe tbody tr th {\n",
              "        vertical-align: top;\n",
              "    }\n",
              "\n",
              "    .dataframe thead th {\n",
              "        text-align: right;\n",
              "    }\n",
              "</style>\n",
              "<table border=\"1\" class=\"dataframe\">\n",
              "  <thead>\n",
              "    <tr style=\"text-align: right;\">\n",
              "      <th></th>\n",
              "      <th>label</th>\n",
              "    </tr>\n",
              "    <tr>\n",
              "      <th>label_id</th>\n",
              "      <th></th>\n",
              "    </tr>\n",
              "  </thead>\n",
              "  <tbody>\n",
              "    <tr>\n",
              "      <th>0</th>\n",
              "      <td>Doing other things</td>\n",
              "    </tr>\n",
              "    <tr>\n",
              "      <th>1</th>\n",
              "      <td>Drumming Fingers</td>\n",
              "    </tr>\n",
              "    <tr>\n",
              "      <th>2</th>\n",
              "      <td>No gesture</td>\n",
              "    </tr>\n",
              "    <tr>\n",
              "      <th>3</th>\n",
              "      <td>Pulling Hand In</td>\n",
              "    </tr>\n",
              "    <tr>\n",
              "      <th>4</th>\n",
              "      <td>Pulling Two Fingers In</td>\n",
              "    </tr>\n",
              "    <tr>\n",
              "      <th>5</th>\n",
              "      <td>Pushing Hand Away</td>\n",
              "    </tr>\n",
              "    <tr>\n",
              "      <th>6</th>\n",
              "      <td>Pushing Two Fingers Away</td>\n",
              "    </tr>\n",
              "    <tr>\n",
              "      <th>7</th>\n",
              "      <td>Rolling Hand Backward</td>\n",
              "    </tr>\n",
              "    <tr>\n",
              "      <th>8</th>\n",
              "      <td>Rolling Hand Forward</td>\n",
              "    </tr>\n",
              "    <tr>\n",
              "      <th>9</th>\n",
              "      <td>Shaking Hand</td>\n",
              "    </tr>\n",
              "    <tr>\n",
              "      <th>10</th>\n",
              "      <td>Sliding Two Fingers Down</td>\n",
              "    </tr>\n",
              "    <tr>\n",
              "      <th>11</th>\n",
              "      <td>Sliding Two Fingers Left</td>\n",
              "    </tr>\n",
              "    <tr>\n",
              "      <th>12</th>\n",
              "      <td>Sliding Two Fingers Right</td>\n",
              "    </tr>\n",
              "    <tr>\n",
              "      <th>13</th>\n",
              "      <td>Sliding Two Fingers Up</td>\n",
              "    </tr>\n",
              "    <tr>\n",
              "      <th>14</th>\n",
              "      <td>Stop Sign</td>\n",
              "    </tr>\n",
              "    <tr>\n",
              "      <th>15</th>\n",
              "      <td>Swiping Down</td>\n",
              "    </tr>\n",
              "    <tr>\n",
              "      <th>16</th>\n",
              "      <td>Swiping Left</td>\n",
              "    </tr>\n",
              "    <tr>\n",
              "      <th>17</th>\n",
              "      <td>Swiping Right</td>\n",
              "    </tr>\n",
              "    <tr>\n",
              "      <th>18</th>\n",
              "      <td>Swiping Up</td>\n",
              "    </tr>\n",
              "    <tr>\n",
              "      <th>19</th>\n",
              "      <td>Thumb Down</td>\n",
              "    </tr>\n",
              "    <tr>\n",
              "      <th>20</th>\n",
              "      <td>Thumb Up</td>\n",
              "    </tr>\n",
              "    <tr>\n",
              "      <th>21</th>\n",
              "      <td>Turning Hand Clockwise</td>\n",
              "    </tr>\n",
              "    <tr>\n",
              "      <th>22</th>\n",
              "      <td>Turning Hand Counterclockwise</td>\n",
              "    </tr>\n",
              "    <tr>\n",
              "      <th>23</th>\n",
              "      <td>Zooming In With Full Hand</td>\n",
              "    </tr>\n",
              "    <tr>\n",
              "      <th>24</th>\n",
              "      <td>Zooming In With Two Fingers</td>\n",
              "    </tr>\n",
              "    <tr>\n",
              "      <th>25</th>\n",
              "      <td>Zooming Out With Full Hand</td>\n",
              "    </tr>\n",
              "    <tr>\n",
              "      <th>26</th>\n",
              "      <td>Zooming Out With Two Fingers</td>\n",
              "    </tr>\n",
              "  </tbody>\n",
              "</table>\n",
              "</div>"
            ],
            "text/plain": [
              "                                  label\n",
              "label_id                               \n",
              "0                    Doing other things\n",
              "1                      Drumming Fingers\n",
              "2                            No gesture\n",
              "3                       Pulling Hand In\n",
              "4                Pulling Two Fingers In\n",
              "5                     Pushing Hand Away\n",
              "6              Pushing Two Fingers Away\n",
              "7                 Rolling Hand Backward\n",
              "8                  Rolling Hand Forward\n",
              "9                          Shaking Hand\n",
              "10             Sliding Two Fingers Down\n",
              "11             Sliding Two Fingers Left\n",
              "12            Sliding Two Fingers Right\n",
              "13               Sliding Two Fingers Up\n",
              "14                            Stop Sign\n",
              "15                         Swiping Down\n",
              "16                         Swiping Left\n",
              "17                        Swiping Right\n",
              "18                           Swiping Up\n",
              "19                           Thumb Down\n",
              "20                             Thumb Up\n",
              "21               Turning Hand Clockwise\n",
              "22        Turning Hand Counterclockwise\n",
              "23            Zooming In With Full Hand\n",
              "24          Zooming In With Two Fingers\n",
              "25           Zooming Out With Full Hand\n",
              "26         Zooming Out With Two Fingers"
            ]
          },
          "metadata": {
            "tags": []
          },
          "execution_count": 9
        }
      ]
    },
    {
      "cell_type": "code",
      "metadata": {
        "colab": {
          "base_uri": "https://localhost:8080/",
          "height": 35
        },
        "id": "H87Wk02VLapV",
        "outputId": "a30050a9-1651-4129-ed25-b675422b9e9c"
      },
      "source": [
        "label_id_to_label.iloc[0].values[0]"
      ],
      "execution_count": 10,
      "outputs": [
        {
          "output_type": "execute_result",
          "data": {
            "application/vnd.google.colaboratory.intrinsic+json": {
              "type": "string"
            },
            "text/plain": [
              "'Doing other things'"
            ]
          },
          "metadata": {
            "tags": []
          },
          "execution_count": 10
        }
      ]
    },
    {
      "cell_type": "code",
      "metadata": {
        "id": "Lys1i0E2lEdf"
      },
      "source": [
        "# Добавим колонку с адресами видео (последовательность фото)\r\n",
        "train['video_addr'] = train['video_id'].apply(lambda x: '/content/20bn-jester/Train/' + str(x))"
      ],
      "execution_count": 11,
      "outputs": []
    },
    {
      "cell_type": "code",
      "metadata": {
        "id": "LD8nX9hxtx8N"
      },
      "source": [
        "# Функция возвращает список адресов фото для данного видео\r\n",
        "def get_image_addrs(video_addr):\r\n",
        "  image_addrs = []\r\n",
        "  for i in range(4, 36, 1):\r\n",
        "    addr = '0000' + str(i)\r\n",
        "    addr = addr[-5:]\r\n",
        "    addr = video_addr + '/' + addr + '.jpg'\r\n",
        "    image_addrs.append(addr)\r\n",
        "  return image_addrs"
      ],
      "execution_count": 12,
      "outputs": []
    },
    {
      "cell_type": "code",
      "metadata": {
        "id": "nkUOU6lfth4H"
      },
      "source": [
        "# Добавим колонку с адресами кадров данного видео\r\n",
        "train['image_addrs'] = train['video_addr'].apply(lambda x: get_image_addrs(x))"
      ],
      "execution_count": 13,
      "outputs": []
    },
    {
      "cell_type": "code",
      "metadata": {
        "id": "UCcvDLKhD_d5"
      },
      "source": [
        "# Возьмем только первые 3 класса для быстрого проведения экспериментов\r\n",
        "train = train[train['label_id'].isin([0,1,2])]\r\n",
        "train.reset_index(inplace=True)\r\n",
        "train.drop(columns=['index'], inplace=True)"
      ],
      "execution_count": 14,
      "outputs": []
    },
    {
      "cell_type": "code",
      "metadata": {
        "colab": {
          "base_uri": "https://localhost:8080/",
          "height": 289
        },
        "id": "rTT20avToSQB",
        "outputId": "cf32489a-737b-441b-a20b-6c48fd410b54"
      },
      "source": [
        "train.head()"
      ],
      "execution_count": 15,
      "outputs": [
        {
          "output_type": "execute_result",
          "data": {
            "text/html": [
              "<div>\n",
              "<style scoped>\n",
              "    .dataframe tbody tr th:only-of-type {\n",
              "        vertical-align: middle;\n",
              "    }\n",
              "\n",
              "    .dataframe tbody tr th {\n",
              "        vertical-align: top;\n",
              "    }\n",
              "\n",
              "    .dataframe thead th {\n",
              "        text-align: right;\n",
              "    }\n",
              "</style>\n",
              "<table border=\"1\" class=\"dataframe\">\n",
              "  <thead>\n",
              "    <tr style=\"text-align: right;\">\n",
              "      <th></th>\n",
              "      <th>video_id</th>\n",
              "      <th>label</th>\n",
              "      <th>frames</th>\n",
              "      <th>label_id</th>\n",
              "      <th>shape</th>\n",
              "      <th>format</th>\n",
              "      <th>video_addr</th>\n",
              "      <th>image_addrs</th>\n",
              "    </tr>\n",
              "  </thead>\n",
              "  <tbody>\n",
              "    <tr>\n",
              "      <th>0</th>\n",
              "      <td>1</td>\n",
              "      <td>Doing other things</td>\n",
              "      <td>37</td>\n",
              "      <td>0</td>\n",
              "      <td>(100, 176)</td>\n",
              "      <td>JPEG</td>\n",
              "      <td>/content/20bn-jester/Train/1</td>\n",
              "      <td>[/content/20bn-jester/Train/1/00004.jpg, /cont...</td>\n",
              "    </tr>\n",
              "    <tr>\n",
              "      <th>1</th>\n",
              "      <td>6</td>\n",
              "      <td>Drumming Fingers</td>\n",
              "      <td>37</td>\n",
              "      <td>1</td>\n",
              "      <td>(100, 176)</td>\n",
              "      <td>JPEG</td>\n",
              "      <td>/content/20bn-jester/Train/6</td>\n",
              "      <td>[/content/20bn-jester/Train/6/00004.jpg, /cont...</td>\n",
              "    </tr>\n",
              "    <tr>\n",
              "      <th>2</th>\n",
              "      <td>20</td>\n",
              "      <td>Doing other things</td>\n",
              "      <td>37</td>\n",
              "      <td>0</td>\n",
              "      <td>(100, 176)</td>\n",
              "      <td>JPEG</td>\n",
              "      <td>/content/20bn-jester/Train/20</td>\n",
              "      <td>[/content/20bn-jester/Train/20/00004.jpg, /con...</td>\n",
              "    </tr>\n",
              "    <tr>\n",
              "      <th>3</th>\n",
              "      <td>50</td>\n",
              "      <td>No gesture</td>\n",
              "      <td>37</td>\n",
              "      <td>2</td>\n",
              "      <td>(100, 176)</td>\n",
              "      <td>JPEG</td>\n",
              "      <td>/content/20bn-jester/Train/50</td>\n",
              "      <td>[/content/20bn-jester/Train/50/00004.jpg, /con...</td>\n",
              "    </tr>\n",
              "    <tr>\n",
              "      <th>4</th>\n",
              "      <td>70</td>\n",
              "      <td>No gesture</td>\n",
              "      <td>37</td>\n",
              "      <td>2</td>\n",
              "      <td>(100, 176)</td>\n",
              "      <td>JPEG</td>\n",
              "      <td>/content/20bn-jester/Train/70</td>\n",
              "      <td>[/content/20bn-jester/Train/70/00004.jpg, /con...</td>\n",
              "    </tr>\n",
              "  </tbody>\n",
              "</table>\n",
              "</div>"
            ],
            "text/plain": [
              "   video_id  ...                                        image_addrs\n",
              "0         1  ...  [/content/20bn-jester/Train/1/00004.jpg, /cont...\n",
              "1         6  ...  [/content/20bn-jester/Train/6/00004.jpg, /cont...\n",
              "2        20  ...  [/content/20bn-jester/Train/20/00004.jpg, /con...\n",
              "3        50  ...  [/content/20bn-jester/Train/50/00004.jpg, /con...\n",
              "4        70  ...  [/content/20bn-jester/Train/70/00004.jpg, /con...\n",
              "\n",
              "[5 rows x 8 columns]"
            ]
          },
          "metadata": {
            "tags": []
          },
          "execution_count": 15
        }
      ]
    },
    {
      "cell_type": "code",
      "metadata": {
        "colab": {
          "base_uri": "https://localhost:8080/"
        },
        "id": "fVL33lcBx_qD",
        "outputId": "10ef079c-c5eb-42be-b4a0-caddd5e82531"
      },
      "source": [
        "train.shape"
      ],
      "execution_count": 16,
      "outputs": [
        {
          "output_type": "execute_result",
          "data": {
            "text/plain": [
              "(8036, 8)"
            ]
          },
          "metadata": {
            "tags": []
          },
          "execution_count": 16
        }
      ]
    },
    {
      "cell_type": "code",
      "metadata": {
        "colab": {
          "base_uri": "https://localhost:8080/"
        },
        "id": "aoR1ALvRx3q1",
        "outputId": "fd1be6ae-266e-47f2-f90f-fc4402ef1c44"
      },
      "source": [
        "train['image_addrs'][0]"
      ],
      "execution_count": 17,
      "outputs": [
        {
          "output_type": "execute_result",
          "data": {
            "text/plain": [
              "['/content/20bn-jester/Train/1/00004.jpg',\n",
              " '/content/20bn-jester/Train/1/00005.jpg',\n",
              " '/content/20bn-jester/Train/1/00006.jpg',\n",
              " '/content/20bn-jester/Train/1/00007.jpg',\n",
              " '/content/20bn-jester/Train/1/00008.jpg',\n",
              " '/content/20bn-jester/Train/1/00009.jpg',\n",
              " '/content/20bn-jester/Train/1/00010.jpg',\n",
              " '/content/20bn-jester/Train/1/00011.jpg',\n",
              " '/content/20bn-jester/Train/1/00012.jpg',\n",
              " '/content/20bn-jester/Train/1/00013.jpg',\n",
              " '/content/20bn-jester/Train/1/00014.jpg',\n",
              " '/content/20bn-jester/Train/1/00015.jpg',\n",
              " '/content/20bn-jester/Train/1/00016.jpg',\n",
              " '/content/20bn-jester/Train/1/00017.jpg',\n",
              " '/content/20bn-jester/Train/1/00018.jpg',\n",
              " '/content/20bn-jester/Train/1/00019.jpg',\n",
              " '/content/20bn-jester/Train/1/00020.jpg',\n",
              " '/content/20bn-jester/Train/1/00021.jpg',\n",
              " '/content/20bn-jester/Train/1/00022.jpg',\n",
              " '/content/20bn-jester/Train/1/00023.jpg',\n",
              " '/content/20bn-jester/Train/1/00024.jpg',\n",
              " '/content/20bn-jester/Train/1/00025.jpg',\n",
              " '/content/20bn-jester/Train/1/00026.jpg',\n",
              " '/content/20bn-jester/Train/1/00027.jpg',\n",
              " '/content/20bn-jester/Train/1/00028.jpg',\n",
              " '/content/20bn-jester/Train/1/00029.jpg',\n",
              " '/content/20bn-jester/Train/1/00030.jpg',\n",
              " '/content/20bn-jester/Train/1/00031.jpg',\n",
              " '/content/20bn-jester/Train/1/00032.jpg',\n",
              " '/content/20bn-jester/Train/1/00033.jpg',\n",
              " '/content/20bn-jester/Train/1/00034.jpg',\n",
              " '/content/20bn-jester/Train/1/00035.jpg']"
            ]
          },
          "metadata": {
            "tags": []
          },
          "execution_count": 17
        }
      ]
    },
    {
      "cell_type": "code",
      "metadata": {
        "colab": {
          "base_uri": "https://localhost:8080/"
        },
        "id": "MRxLmZt2jw-6",
        "outputId": "6976d145-67c8-4b82-f851-6c6d585ce02c"
      },
      "source": [
        "# Проверим сбалансированность классов\r\n",
        "train['label_id'].value_counts().unique()"
      ],
      "execution_count": 18,
      "outputs": [
        {
          "output_type": "execute_result",
          "data": {
            "text/plain": [
              "array([4374, 1844, 1818])"
            ]
          },
          "metadata": {
            "tags": []
          },
          "execution_count": 18
        }
      ]
    },
    {
      "cell_type": "code",
      "metadata": {
        "colab": {
          "base_uri": "https://localhost:8080/"
        },
        "id": "mouIaGFtmI-q",
        "outputId": "f9caa811-eb57-464f-fc10-48c79a7e987b"
      },
      "source": [
        "# Проверим размерность первой картинки\r\n",
        "image_addr = train['image_addrs'][0][0]\r\n",
        "img = cv2.imread(image_addr)\r\n",
        "#img = np.asarray(Image.open(image_arr)).astype('float')\r\n",
        "img.shape"
      ],
      "execution_count": 19,
      "outputs": [
        {
          "output_type": "execute_result",
          "data": {
            "text/plain": [
              "(100, 176, 3)"
            ]
          },
          "metadata": {
            "tags": []
          },
          "execution_count": 19
        }
      ]
    },
    {
      "cell_type": "code",
      "metadata": {
        "colab": {
          "base_uri": "https://localhost:8080/",
          "height": 117
        },
        "id": "kfNwOa8UmhN7",
        "outputId": "f772c033-d176-4510-c534-b9fbde70de03"
      },
      "source": [
        "cv2_imshow(img)"
      ],
      "execution_count": 20,
      "outputs": [
        {
          "output_type": "display_data",
          "data": {
            "image/png": "[encoded data removed]",
            "text/plain": [
              "<PIL.Image.Image image mode=RGB size=176x100 at 0x7F7790F01CC0>"
            ]
          },
          "metadata": {
            "tags": []
          }
        }
      ]
    },
    {
      "cell_type": "code",
      "metadata": {
        "colab": {
          "base_uri": "https://localhost:8080/",
          "height": 35
        },
        "id": "5lSB7U3rmbmx",
        "outputId": "c0c54c4d-5975-4916-c959-8367a4ce1f9b"
      },
      "source": [
        "# Ее класс\r\n",
        "train['label'][0]"
      ],
      "execution_count": 21,
      "outputs": [
        {
          "output_type": "execute_result",
          "data": {
            "application/vnd.google.colaboratory.intrinsic+json": {
              "type": "string"
            },
            "text/plain": [
              "'Doing other things'"
            ]
          },
          "metadata": {
            "tags": []
          },
          "execution_count": 21
        }
      ]
    },
    {
      "cell_type": "markdown",
      "metadata": {
        "id": "aZLe0lwGkVum"
      },
      "source": [
        "## Класс для кастомного датасета"
      ]
    },
    {
      "cell_type": "code",
      "metadata": {
        "id": "lgD-7Mj-kbyO"
      },
      "source": [
        "class CustomDatasetFromImages(Dataset):\r\n",
        "    def __init__(self, dataframe):\r\n",
        "        # Подаем наш подготовленный датафрейм\r\n",
        "        self.dataframe = dataframe\r\n",
        "        \r\n",
        "        # Разделяем датафрейм на адреса картинок\r\n",
        "        self.images_addr_arr = self.dataframe.iloc[:,7]\r\n",
        "        # и номера классов\r\n",
        "        self.class_index_arr = self.dataframe.iloc[:,3]\r\n",
        "        \r\n",
        "        # Количество пар картинка-сегментация\r\n",
        "        self.data_len = len(self.dataframe.index)\r\n",
        "\r\n",
        "    def __getitem__(self, index):\r\n",
        "      result = torch.empty(1,3,128,128)\r\n",
        "      #result = torch.empty(1,3,100,100)\r\n",
        "      for image_addr in self.images_addr_arr[index]:\r\n",
        "        # Читаем картинку и сразу же представляем ее в виде numpy-массива\r\n",
        "        image = np.asarray(Image.open(image_addr)).astype('float')\r\n",
        "        # Нормализуем изображение в значениях [0,1]\r\n",
        "        image = torch.as_tensor(image)/255\r\n",
        "        # Переставляем канал на 1-е место\r\n",
        "        image = image.permute(2,0,1)\r\n",
        "        # Добавляем батч измерение\r\n",
        "        image = image.unsqueeze(0)\r\n",
        " \r\n",
        "        # Мы используем функцию интерполяции для того,\r\n",
        "        # чтобы поменять рамерность картинки с HхW на 128x128\r\n",
        "        # clamp не позволяет выйти за границы\r\n",
        "        image = F.interpolate(input=image, size=128, align_corners=False, mode='bicubic').clamp(min=0, max=1)\r\n",
        "\r\n",
        "        # Вариант 2: обрезаем лишнее с краев\r\n",
        "        #center = int(image.shape[3]/2)\r\n",
        "        #image = image[:,:,:,center-50:center+50]\r\n",
        "\r\n",
        "        result = torch.cat((result, image), 0)\r\n",
        "        \r\n",
        "      # Читаем индекс класса \r\n",
        "      class_index = self.class_index_arr[index] \r\n",
        "      # Возвращаем без первого пустого тензора\r\n",
        "      return (result[1:].float(), class_index)\r\n",
        "\r\n",
        "    def __len__(self):\r\n",
        "        return self.data_len"
      ],
      "execution_count": 22,
      "outputs": []
    },
    {
      "cell_type": "code",
      "metadata": {
        "id": "ffT3f9sxp3nL"
      },
      "source": [
        "train_data = CustomDatasetFromImages(train)\r\n",
        "train_data_loader = DataLoader(train_data, batch_size=1, shuffle=True)"
      ],
      "execution_count": 704,
      "outputs": []
    },
    {
      "cell_type": "markdown",
      "metadata": {
        "id": "-eDCgMCsp9mh"
      },
      "source": [
        "## Проверка работы загрузчика"
      ]
    },
    {
      "cell_type": "code",
      "metadata": {
        "id": "_yljAsIjp6en"
      },
      "source": [
        "loader = iter(train_data_loader)\r\n",
        "image, class_index = loader.next()\r\n",
        "image = image.squeeze(0)"
      ],
      "execution_count": 705,
      "outputs": []
    },
    {
      "cell_type": "code",
      "metadata": {
        "colab": {
          "base_uri": "https://localhost:8080/"
        },
        "id": "-AolZNtsqhCp",
        "outputId": "1705e81f-002b-46d2-b294-824841ef9219"
      },
      "source": [
        "image.shape"
      ],
      "execution_count": 706,
      "outputs": [
        {
          "output_type": "execute_result",
          "data": {
            "text/plain": [
              "torch.Size([32, 3, 128, 128])"
            ]
          },
          "metadata": {
            "tags": []
          },
          "execution_count": 706
        }
      ]
    },
    {
      "cell_type": "code",
      "metadata": {
        "colab": {
          "base_uri": "https://localhost:8080/"
        },
        "id": "vWadsO370Cpu",
        "outputId": "35797576-92fa-49ec-b840-0a44b44be452"
      },
      "source": [
        "class_index.shape"
      ],
      "execution_count": 707,
      "outputs": [
        {
          "output_type": "execute_result",
          "data": {
            "text/plain": [
              "torch.Size([1])"
            ]
          },
          "metadata": {
            "tags": []
          },
          "execution_count": 707
        }
      ]
    },
    {
      "cell_type": "code",
      "metadata": {
        "colab": {
          "base_uri": "https://localhost:8080/"
        },
        "id": "FFh8-Lzj0Igi",
        "outputId": "60314a91-02a9-4174-c3e2-25d14093e121"
      },
      "source": [
        "class_index"
      ],
      "execution_count": 708,
      "outputs": [
        {
          "output_type": "execute_result",
          "data": {
            "text/plain": [
              "tensor([2])"
            ]
          },
          "metadata": {
            "tags": []
          },
          "execution_count": 708
        }
      ]
    },
    {
      "cell_type": "code",
      "metadata": {
        "colab": {
          "base_uri": "https://localhost:8080/"
        },
        "id": "zPszL1swqnI7",
        "outputId": "4c123e62-8380-4394-8333-2b2822d260c7"
      },
      "source": [
        "torch.unique(image).max()"
      ],
      "execution_count": 709,
      "outputs": [
        {
          "output_type": "execute_result",
          "data": {
            "text/plain": [
              "tensor(1.)"
            ]
          },
          "metadata": {
            "tags": []
          },
          "execution_count": 709
        }
      ]
    },
    {
      "cell_type": "code",
      "metadata": {
        "colab": {
          "base_uri": "https://localhost:8080/"
        },
        "id": "-kSMplpvrgil",
        "outputId": "41432875-f7c2-43c6-ade3-02915e2792df"
      },
      "source": [
        "torch.unique(image).min()"
      ],
      "execution_count": 710,
      "outputs": [
        {
          "output_type": "execute_result",
          "data": {
            "text/plain": [
              "tensor(0.)"
            ]
          },
          "metadata": {
            "tags": []
          },
          "execution_count": 710
        }
      ]
    },
    {
      "cell_type": "code",
      "metadata": {
        "colab": {
          "base_uri": "https://localhost:8080/"
        },
        "id": "-wVaV1z03w-f",
        "outputId": "277357ed-55ff-4230-ad40-33a933aebdea"
      },
      "source": [
        "image.shape"
      ],
      "execution_count": 711,
      "outputs": [
        {
          "output_type": "execute_result",
          "data": {
            "text/plain": [
              "torch.Size([32, 3, 128, 128])"
            ]
          },
          "metadata": {
            "tags": []
          },
          "execution_count": 711
        }
      ]
    },
    {
      "cell_type": "code",
      "metadata": {
        "colab": {
          "base_uri": "https://localhost:8080/",
          "height": 268
        },
        "id": "9F-3zJAUGcIE",
        "outputId": "4990e282-479d-405c-b800-4cb6b4bcac82"
      },
      "source": [
        "plt.imshow((image[24]).permute(1, 2, 0))\r\n",
        "plt.show()"
      ],
      "execution_count": 713,
      "outputs": [
        {
          "output_type": "display_data",
          "data": {
            "image/png": "[encoded data removed]",
            "text/plain": [
              "<Figure size 432x288 with 1 Axes>"
            ]
          },
          "metadata": {
            "tags": [],
            "needs_background": "light"
          }
        }
      ]
    },
    {
      "cell_type": "code",
      "metadata": {
        "id": "gLNj4lPJ4ejX"
      },
      "source": [
        "#for i in range(32):\r\n",
        "#  plt.imshow((image[i]).permute(1, 2, 0))\r\n",
        "#  plt.show()"
      ],
      "execution_count": 32,
      "outputs": []
    },
    {
      "cell_type": "code",
      "metadata": {
        "colab": {
          "base_uri": "https://localhost:8080/"
        },
        "id": "amk7gKiiNkar",
        "outputId": "510a3e0d-4019-4a02-8741-4eaae56a8cfa"
      },
      "source": [
        "# Выведем id класса\r\n",
        "class_index[0].item()"
      ],
      "execution_count": 714,
      "outputs": [
        {
          "output_type": "execute_result",
          "data": {
            "text/plain": [
              "2"
            ]
          },
          "metadata": {
            "tags": []
          },
          "execution_count": 714
        }
      ]
    },
    {
      "cell_type": "code",
      "metadata": {
        "colab": {
          "base_uri": "https://localhost:8080/",
          "height": 35
        },
        "id": "L29eSueJt-g7",
        "outputId": "220d7039-5515-4975-a51b-93a51b3aad45"
      },
      "source": [
        "# Выведем название класса\r\n",
        "label_id_to_label.iloc[class_index[0].item()].values[0]"
      ],
      "execution_count": 715,
      "outputs": [
        {
          "output_type": "execute_result",
          "data": {
            "application/vnd.google.colaboratory.intrinsic+json": {
              "type": "string"
            },
            "text/plain": [
              "'No gesture'"
            ]
          },
          "metadata": {
            "tags": []
          },
          "execution_count": 715
        }
      ]
    },
    {
      "cell_type": "markdown",
      "metadata": {
        "id": "p3LQrKhstyXT"
      },
      "source": [
        "## Создание класса модели"
      ]
    },
    {
      "cell_type": "code",
      "metadata": {
        "colab": {
          "base_uri": "https://localhost:8080/",
          "height": 103,
          "referenced_widgets": [
            "97b51064b24e4f1dad7721a1e5d57fa1",
            "fe25c7ec0cbf4103905b6ada65b0a8ac",
            "cfc5cf2f665c48f19ac1637429f61384",
            "ffe97678d8ca41468a45b5497d0a68d6",
            "cb4f83f554f445fd9d2fbd162133046b",
            "040f0f0b83254bcfaea1c3c27f669c84",
            "112e95ab0b454e3995157f57ea6754e9",
            "065ab5bd6ce447f29e573915708e8573"
          ]
        },
        "id": "rj9eov1z1prh",
        "outputId": "a6ae9f77-e628-4771-9165-91a4752b3904"
      },
      "source": [
        "import torchvision.models as models\r\n",
        "resnet18 = models.resnet18(pretrained=True)"
      ],
      "execution_count": 49,
      "outputs": [
        {
          "output_type": "stream",
          "text": [
            "Downloading: \"https://download.pytorch.org/models/resnet18-5c106cde.pth\" to /root/.cache/torch/hub/checkpoints/resnet18-5c106cde.pth\n"
          ],
          "name": "stderr"
        },
        {
          "output_type": "display_data",
          "data": {
            "application/vnd.jupyter.widget-view+json": {
              "model_id": "97b51064b24e4f1dad7721a1e5d57fa1",
              "version_minor": 0,
              "version_major": 2
            },
            "text/plain": [
              "HBox(children=(FloatProgress(value=0.0, max=46827520.0), HTML(value='')))"
            ]
          },
          "metadata": {
            "tags": []
          }
        },
        {
          "output_type": "stream",
          "text": [
            "\n"
          ],
          "name": "stdout"
        }
      ]
    },
    {
      "cell_type": "code",
      "metadata": {
        "id": "Va-d5gwFyFs2"
      },
      "source": [
        "for param in resnet18.parameters():\r\n",
        "    param.requires_grad = False"
      ],
      "execution_count": 50,
      "outputs": []
    },
    {
      "cell_type": "code",
      "metadata": {
        "colab": {
          "base_uri": "https://localhost:8080/"
        },
        "id": "VxjZGcilyQvH",
        "outputId": "72cfcaa0-315a-4470-d552-7e31177850bf"
      },
      "source": [
        "# Выведим количество параметров для тренировки\r\n",
        "total_params = sum(p.numel() for p in resnet18.parameters())\r\n",
        "print(f'{total_params:,} total parameters.')\r\n",
        "total_trainable_params = sum(\r\n",
        "    p.numel() for p in resnet18.parameters() if p.requires_grad)\r\n",
        "print(f'{total_trainable_params:,} training parameters.')"
      ],
      "execution_count": 51,
      "outputs": [
        {
          "output_type": "stream",
          "text": [
            "11,689,512 total parameters.\n",
            "0 training parameters.\n"
          ],
          "name": "stdout"
        }
      ]
    },
    {
      "cell_type": "code",
      "metadata": {
        "id": "1KNV67oE0ek8"
      },
      "source": [
        "#resnet18"
      ],
      "execution_count": 670,
      "outputs": []
    },
    {
      "cell_type": "code",
      "metadata": {
        "id": "XfASx3tx4CNp"
      },
      "source": [
        "class Identity(nn.Module):\r\n",
        "    def __init__(self):\r\n",
        "        super(Identity, self).__init__()\r\n",
        "        \r\n",
        "    def forward(self, x):\r\n",
        "        return x"
      ],
      "execution_count": 52,
      "outputs": []
    },
    {
      "cell_type": "code",
      "metadata": {
        "id": "zcgOzLcJ4D99"
      },
      "source": [
        "resnet18.fc = Identity()"
      ],
      "execution_count": 53,
      "outputs": []
    },
    {
      "cell_type": "code",
      "metadata": {
        "id": "o74dlW1Vk2R-"
      },
      "source": [
        "class Net(nn.Module):\r\n",
        "    def __init__(self):\r\n",
        "        super().__init__()\r\n",
        "        self.resnet18 = models.resnet18(pretrained=True)\r\n",
        "        for param in self.resnet18.parameters():\r\n",
        "          param.requires_grad = False\r\n",
        "        self.resnet18.fc = Identity()\r\n",
        "        self.relu = nn.ReLU()\r\n",
        "        self.gru = nn.GRU(input_size=512, hidden_size=128, batch_first=True)\r\n",
        "        self.lstm = nn.LSTM(input_size=512, hidden_size=128, batch_first=True)\r\n",
        "        self.fc1 = nn.Linear(128, 32)\r\n",
        "        self.fc2 = nn.Linear(32, 3)\r\n",
        "\r\n",
        "    def forward(self, x):\r\n",
        "        x = self.resnet18(x)\r\n",
        "        x = x.unsqueeze(0)\r\n",
        "        out, hidden = self.gru(x)\r\n",
        "        #x = x[:,-1,:]\r\n",
        "        x = self.fc1(hidden)\r\n",
        "        x = self.relu(x)\r\n",
        "        x = self.fc2(x)\r\n",
        "        x = x.squeeze(0)\r\n",
        "        #print(out.shape)\r\n",
        "        #print(hidden.shape)\r\n",
        "        #print(out[0][-1])\r\n",
        "        #print(hidden)\r\n",
        "        return x"
      ],
      "execution_count": 145,
      "outputs": []
    },
    {
      "cell_type": "code",
      "metadata": {
        "colab": {
          "base_uri": "https://localhost:8080/"
        },
        "id": "Q-8CsdzbwFHD",
        "outputId": "05f79d82-50e0-4493-aaa2-a8f1164646d0"
      },
      "source": [
        "# Проверим правильность работы сети, прогнав через нее картинку\r\n",
        "net = Net().to(device)\r\n",
        "result = net(image.to(device))\r\n",
        "result.shape"
      ],
      "execution_count": 146,
      "outputs": [
        {
          "output_type": "execute_result",
          "data": {
            "text/plain": [
              "torch.Size([1, 3])"
            ]
          },
          "metadata": {
            "tags": []
          },
          "execution_count": 146
        }
      ]
    },
    {
      "cell_type": "code",
      "metadata": {
        "colab": {
          "base_uri": "https://localhost:8080/"
        },
        "id": "KP-ahu1opOcX",
        "outputId": "d4ed4717-2688-4683-a902-cab152e49642"
      },
      "source": [
        "# Выведим количество параметров для тренировки\r\n",
        "total_params = sum(p.numel() for p in net.parameters())\r\n",
        "print(f'{total_params:,} total parameters.')\r\n",
        "total_trainable_params = sum(\r\n",
        "    p.numel() for p in net.parameters() if p.requires_grad)\r\n",
        "print(f'{total_trainable_params:,} training parameters.')"
      ],
      "execution_count": 147,
      "outputs": [
        {
          "output_type": "stream",
          "text": [
            "11,755,971 total parameters.\n",
            "579,459 training parameters.\n"
          ],
          "name": "stdout"
        }
      ]
    },
    {
      "cell_type": "code",
      "metadata": {
        "colab": {
          "base_uri": "https://localhost:8080/"
        },
        "id": "tlTHLnV9SciC",
        "outputId": "ee8712ea-b882-4aa8-ef54-5855119f9f2d"
      },
      "source": [
        "result"
      ],
      "execution_count": 148,
      "outputs": [
        {
          "output_type": "execute_result",
          "data": {
            "text/plain": [
              "tensor([[ 0.1807, -0.0269, -0.3351]], device='cuda:0',\n",
              "       grad_fn=<SqueezeBackward1>)"
            ]
          },
          "metadata": {
            "tags": []
          },
          "execution_count": 148
        }
      ]
    },
    {
      "cell_type": "code",
      "metadata": {
        "colab": {
          "base_uri": "https://localhost:8080/"
        },
        "id": "a2RKVBSktxVV",
        "outputId": "97192fcd-ccf8-41c8-a654-8601783d2e78"
      },
      "source": [
        "result = torch.argmax(result, dim=1)\r\n",
        "result"
      ],
      "execution_count": 149,
      "outputs": [
        {
          "output_type": "execute_result",
          "data": {
            "text/plain": [
              "tensor([0], device='cuda:0')"
            ]
          },
          "metadata": {
            "tags": []
          },
          "execution_count": 149
        }
      ]
    },
    {
      "cell_type": "code",
      "metadata": {
        "colab": {
          "base_uri": "https://localhost:8080/"
        },
        "id": "BwxzSZtPuRXF",
        "outputId": "2ab211fb-5763-4eaf-eb6d-b3ca8c5b151b"
      },
      "source": [
        "class_index"
      ],
      "execution_count": 150,
      "outputs": [
        {
          "output_type": "execute_result",
          "data": {
            "text/plain": [
              "tensor([2])"
            ]
          },
          "metadata": {
            "tags": []
          },
          "execution_count": 150
        }
      ]
    },
    {
      "cell_type": "code",
      "metadata": {
        "colab": {
          "base_uri": "https://localhost:8080/"
        },
        "id": "8ubofh-mugZF",
        "outputId": "51bac037-2b5f-4b48-e97f-dbb190671bd4"
      },
      "source": [
        "float(torch.sum(result == class_index.to(device)).item())"
      ],
      "execution_count": 151,
      "outputs": [
        {
          "output_type": "execute_result",
          "data": {
            "text/plain": [
              "0.0"
            ]
          },
          "metadata": {
            "tags": []
          },
          "execution_count": 151
        }
      ]
    },
    {
      "cell_type": "markdown",
      "metadata": {
        "id": "uE6HeeRGxz8h"
      },
      "source": [
        "## Обучение модели"
      ]
    },
    {
      "cell_type": "code",
      "metadata": {
        "id": "yLJgwcdak6yq"
      },
      "source": [
        "criterion = nn.CrossEntropyLoss()\r\n",
        "optimizer = optim.Adam(net.parameters(), lr=0.001)"
      ],
      "execution_count": 152,
      "outputs": []
    },
    {
      "cell_type": "code",
      "metadata": {
        "colab": {
          "base_uri": "https://localhost:8080/",
          "height": 1000
        },
        "id": "PRfWAyeVfwS6",
        "outputId": "0ea59308-6bd5-4cc5-d9d7-0edc56d56d8d"
      },
      "source": [
        "epoch_losses = []\r\n",
        "batch_size = 1\r\n",
        "num_epochs = 30\r\n",
        "\r\n",
        "for epoch in range(num_epochs):  \r\n",
        "    train_loss = 0.0\r\n",
        "    train_acc  = 0.0\r\n",
        "\r\n",
        "    epoch_loss = []\r\n",
        "    epoch_accuracy = []\r\n",
        "    time1 = time.time()\r\n",
        "\r\n",
        "    for batch_idx, data in enumerate(train_data_loader):\r\n",
        "        inputs, labels = data[0].to(device), data[1].to(device)\r\n",
        "        optimizer.zero_grad()\r\n",
        "        outputs = net(inputs[0])\r\n",
        "        loss = criterion(outputs, labels)\r\n",
        "        accuracy = float(torch.sum(torch.argmax(outputs, dim=1) == labels).item())/batch_size\r\n",
        "        loss.backward()\r\n",
        "        optimizer.step()\r\n",
        "        train_loss += loss.item()\r\n",
        "        train_acc += accuracy\r\n",
        "        epoch_loss.append(loss.item())\r\n",
        "        epoch_accuracy.append(accuracy)\r\n",
        "        if (batch_idx+1) % 100 == 99:\r\n",
        "            print(f'Train Epoch: {epoch+1}, Train loss: {train_loss/100:.4f}, Train accuracy: {train_acc/100:.4f}')\r\n",
        "            time2 = time.time()\r\n",
        "            print(f'Spend time for 100 batches: {time2 - time1:.4f} sec')\r\n",
        "            time1 = time.time()\r\n",
        "            train_loss = 0.0\r\n",
        "            train_acc  = 0.0\r\n",
        "\r\n",
        "    epoch_losses.append(epoch_loss)\r\n",
        "    torch.save(net, '/content/hand_model.pth')\r\n",
        "\r\n",
        "print('Training is finished!')"
      ],
      "execution_count": 156,
      "outputs": [
        {
          "output_type": "stream",
          "text": [
            "Train Epoch: 1, Train loss: 0.9992, Train accuracy: 0.5400\n",
            "Spend time for 100 batches: 16.9922 sec\n",
            "Train Epoch: 1, Train loss: 1.0461, Train accuracy: 0.5000\n",
            "Spend time for 100 batches: 17.1868 sec\n",
            "Train Epoch: 1, Train loss: 1.0390, Train accuracy: 0.5100\n",
            "Spend time for 100 batches: 17.2119 sec\n",
            "Train Epoch: 1, Train loss: 0.9994, Train accuracy: 0.5600\n",
            "Spend time for 100 batches: 17.2778 sec\n",
            "Train Epoch: 1, Train loss: 0.9984, Train accuracy: 0.5600\n",
            "Spend time for 100 batches: 17.2579 sec\n",
            "Train Epoch: 1, Train loss: 0.9594, Train accuracy: 0.6000\n",
            "Spend time for 100 batches: 17.2100 sec\n",
            "Train Epoch: 1, Train loss: 1.0302, Train accuracy: 0.5400\n",
            "Spend time for 100 batches: 17.1241 sec\n",
            "Train Epoch: 1, Train loss: 1.0002, Train accuracy: 0.5600\n",
            "Spend time for 100 batches: 17.2745 sec\n",
            "Train Epoch: 1, Train loss: 0.9653, Train accuracy: 0.6000\n",
            "Spend time for 100 batches: 17.1851 sec\n",
            "Train Epoch: 1, Train loss: 1.0087, Train accuracy: 0.5500\n",
            "Spend time for 100 batches: 17.1198 sec\n",
            "Train Epoch: 1, Train loss: 1.0006, Train accuracy: 0.5600\n",
            "Spend time for 100 batches: 17.1376 sec\n",
            "Train Epoch: 1, Train loss: 0.9872, Train accuracy: 0.5800\n",
            "Spend time for 100 batches: 17.2155 sec\n",
            "Train Epoch: 1, Train loss: 0.9686, Train accuracy: 0.5800\n",
            "Spend time for 100 batches: 17.3519 sec\n",
            "Train Epoch: 1, Train loss: 0.9559, Train accuracy: 0.6100\n",
            "Spend time for 100 batches: 17.1271 sec\n",
            "Train Epoch: 1, Train loss: 1.0144, Train accuracy: 0.5400\n",
            "Spend time for 100 batches: 17.1185 sec\n",
            "Train Epoch: 1, Train loss: 1.0006, Train accuracy: 0.5600\n",
            "Spend time for 100 batches: 17.4615 sec\n",
            "Train Epoch: 1, Train loss: 1.0145, Train accuracy: 0.5400\n",
            "Spend time for 100 batches: 17.1209 sec\n",
            "Train Epoch: 1, Train loss: 1.0459, Train accuracy: 0.5000\n",
            "Spend time for 100 batches: 17.2257 sec\n",
            "Train Epoch: 1, Train loss: 0.9953, Train accuracy: 0.5600\n",
            "Spend time for 100 batches: 17.1483 sec\n",
            "Train Epoch: 1, Train loss: 1.0295, Train accuracy: 0.5300\n",
            "Spend time for 100 batches: 17.1560 sec\n",
            "Train Epoch: 1, Train loss: 0.9958, Train accuracy: 0.5600\n",
            "Spend time for 100 batches: 17.1590 sec\n",
            "Train Epoch: 1, Train loss: 1.0160, Train accuracy: 0.5400\n",
            "Spend time for 100 batches: 17.1575 sec\n",
            "Train Epoch: 1, Train loss: 1.0387, Train accuracy: 0.5100\n",
            "Spend time for 100 batches: 17.2853 sec\n",
            "Train Epoch: 1, Train loss: 0.9346, Train accuracy: 0.6300\n",
            "Spend time for 100 batches: 17.1702 sec\n",
            "Train Epoch: 1, Train loss: 1.0534, Train accuracy: 0.5100\n",
            "Spend time for 100 batches: 17.1354 sec\n",
            "Train Epoch: 1, Train loss: 0.9975, Train accuracy: 0.5600\n",
            "Spend time for 100 batches: 17.1723 sec\n",
            "Train Epoch: 1, Train loss: 1.0091, Train accuracy: 0.5500\n",
            "Spend time for 100 batches: 17.1840 sec\n",
            "Train Epoch: 1, Train loss: 1.0232, Train accuracy: 0.5300\n",
            "Spend time for 100 batches: 17.1176 sec\n",
            "Train Epoch: 1, Train loss: 1.0223, Train accuracy: 0.5300\n",
            "Spend time for 100 batches: 17.1576 sec\n",
            "Train Epoch: 1, Train loss: 1.0468, Train accuracy: 0.5000\n",
            "Spend time for 100 batches: 17.2723 sec\n",
            "Train Epoch: 1, Train loss: 1.0146, Train accuracy: 0.5400\n",
            "Spend time for 100 batches: 17.1339 sec\n",
            "Train Epoch: 1, Train loss: 1.0676, Train accuracy: 0.4700\n",
            "Spend time for 100 batches: 17.1645 sec\n",
            "Train Epoch: 1, Train loss: 0.9925, Train accuracy: 0.5700\n",
            "Spend time for 100 batches: 17.0916 sec\n",
            "Train Epoch: 1, Train loss: 1.0185, Train accuracy: 0.5300\n",
            "Spend time for 100 batches: 17.3674 sec\n",
            "Train Epoch: 1, Train loss: 0.9789, Train accuracy: 0.5800\n",
            "Spend time for 100 batches: 17.0984 sec\n",
            "Train Epoch: 1, Train loss: 0.9694, Train accuracy: 0.5900\n",
            "Spend time for 100 batches: 17.1023 sec\n",
            "Train Epoch: 1, Train loss: 1.0054, Train accuracy: 0.5500\n",
            "Spend time for 100 batches: 17.1782 sec\n",
            "Train Epoch: 1, Train loss: 1.0036, Train accuracy: 0.5600\n",
            "Spend time for 100 batches: 17.1992 sec\n",
            "Train Epoch: 1, Train loss: 1.0529, Train accuracy: 0.4900\n",
            "Spend time for 100 batches: 17.1284 sec\n",
            "Train Epoch: 1, Train loss: 1.0034, Train accuracy: 0.5500\n",
            "Spend time for 100 batches: 17.1466 sec\n",
            "Train Epoch: 1, Train loss: 1.0497, Train accuracy: 0.5000\n",
            "Spend time for 100 batches: 17.2022 sec\n",
            "Train Epoch: 1, Train loss: 1.0752, Train accuracy: 0.4500\n",
            "Spend time for 100 batches: 17.1015 sec\n",
            "Train Epoch: 1, Train loss: 1.0405, Train accuracy: 0.5100\n",
            "Spend time for 100 batches: 17.1226 sec\n",
            "Train Epoch: 1, Train loss: 0.9945, Train accuracy: 0.5700\n",
            "Spend time for 100 batches: 17.1200 sec\n",
            "Train Epoch: 1, Train loss: 0.9854, Train accuracy: 0.5700\n",
            "Spend time for 100 batches: 17.1269 sec\n",
            "Train Epoch: 1, Train loss: 0.9380, Train accuracy: 0.6200\n",
            "Spend time for 100 batches: 17.1527 sec\n",
            "Train Epoch: 1, Train loss: 0.9886, Train accuracy: 0.5700\n",
            "Spend time for 100 batches: 17.1386 sec\n",
            "Train Epoch: 1, Train loss: 1.0333, Train accuracy: 0.5200\n",
            "Spend time for 100 batches: 17.2073 sec\n",
            "Train Epoch: 1, Train loss: 1.0201, Train accuracy: 0.5400\n",
            "Spend time for 100 batches: 17.1998 sec\n",
            "Train Epoch: 1, Train loss: 1.0293, Train accuracy: 0.5200\n",
            "Spend time for 100 batches: 17.2159 sec\n",
            "Train Epoch: 1, Train loss: 0.9280, Train accuracy: 0.6300\n",
            "Spend time for 100 batches: 17.2603 sec\n",
            "Train Epoch: 1, Train loss: 0.9431, Train accuracy: 0.6100\n",
            "Spend time for 100 batches: 17.4183 sec\n",
            "Train Epoch: 1, Train loss: 0.9520, Train accuracy: 0.6000\n",
            "Spend time for 100 batches: 17.1140 sec\n",
            "Train Epoch: 1, Train loss: 1.0196, Train accuracy: 0.5300\n",
            "Spend time for 100 batches: 17.1275 sec\n",
            "Train Epoch: 1, Train loss: 1.0241, Train accuracy: 0.5200\n",
            "Spend time for 100 batches: 17.1974 sec\n",
            "Train Epoch: 1, Train loss: 1.0052, Train accuracy: 0.5600\n",
            "Spend time for 100 batches: 17.2017 sec\n",
            "Train Epoch: 1, Train loss: 1.0136, Train accuracy: 0.5500\n",
            "Spend time for 100 batches: 17.1248 sec\n",
            "Train Epoch: 1, Train loss: 0.9885, Train accuracy: 0.5700\n",
            "Spend time for 100 batches: 17.1871 sec\n",
            "Train Epoch: 1, Train loss: 0.9772, Train accuracy: 0.5800\n",
            "Spend time for 100 batches: 17.1341 sec\n",
            "Train Epoch: 1, Train loss: 0.9870, Train accuracy: 0.5700\n",
            "Spend time for 100 batches: 17.2600 sec\n",
            "Train Epoch: 1, Train loss: 1.0207, Train accuracy: 0.5400\n",
            "Spend time for 100 batches: 17.1313 sec\n",
            "Train Epoch: 1, Train loss: 1.0457, Train accuracy: 0.5000\n",
            "Spend time for 100 batches: 17.1379 sec\n",
            "Train Epoch: 1, Train loss: 0.9902, Train accuracy: 0.5700\n",
            "Spend time for 100 batches: 17.1311 sec\n",
            "Train Epoch: 1, Train loss: 1.0467, Train accuracy: 0.5000\n",
            "Spend time for 100 batches: 17.1300 sec\n",
            "Train Epoch: 1, Train loss: 0.9708, Train accuracy: 0.5900\n",
            "Spend time for 100 batches: 17.2122 sec\n",
            "Train Epoch: 1, Train loss: 0.9305, Train accuracy: 0.6300\n",
            "Spend time for 100 batches: 17.2248 sec\n",
            "Train Epoch: 1, Train loss: 1.0136, Train accuracy: 0.5400\n",
            "Spend time for 100 batches: 17.0732 sec\n",
            "Train Epoch: 1, Train loss: 0.9863, Train accuracy: 0.5700\n",
            "Spend time for 100 batches: 17.1248 sec\n",
            "Train Epoch: 1, Train loss: 1.0074, Train accuracy: 0.5500\n",
            "Spend time for 100 batches: 17.0849 sec\n",
            "Train Epoch: 1, Train loss: 1.0616, Train accuracy: 0.4800\n",
            "Spend time for 100 batches: 17.4375 sec\n",
            "Train Epoch: 1, Train loss: 1.0547, Train accuracy: 0.4800\n",
            "Spend time for 100 batches: 17.1544 sec\n",
            "Train Epoch: 1, Train loss: 1.0621, Train accuracy: 0.4700\n",
            "Spend time for 100 batches: 17.0783 sec\n",
            "Train Epoch: 1, Train loss: 1.0375, Train accuracy: 0.5100\n",
            "Spend time for 100 batches: 17.1778 sec\n",
            "Train Epoch: 1, Train loss: 1.0202, Train accuracy: 0.5300\n",
            "Spend time for 100 batches: 17.2160 sec\n",
            "Train Epoch: 1, Train loss: 1.0175, Train accuracy: 0.5300\n",
            "Spend time for 100 batches: 17.3168 sec\n",
            "Train Epoch: 1, Train loss: 1.0120, Train accuracy: 0.5400\n",
            "Spend time for 100 batches: 17.8111 sec\n",
            "Train Epoch: 1, Train loss: 1.0316, Train accuracy: 0.5200\n",
            "Spend time for 100 batches: 17.3609 sec\n",
            "Train Epoch: 1, Train loss: 1.0585, Train accuracy: 0.4800\n",
            "Spend time for 100 batches: 17.4710 sec\n",
            "Train Epoch: 1, Train loss: 1.0434, Train accuracy: 0.5000\n",
            "Spend time for 100 batches: 17.3329 sec\n",
            "Train Epoch: 1, Train loss: 1.0399, Train accuracy: 0.5100\n",
            "Spend time for 100 batches: 17.1772 sec\n",
            "Train Epoch: 2, Train loss: 1.0073, Train accuracy: 0.5300\n",
            "Spend time for 100 batches: 16.8077 sec\n",
            "Train Epoch: 2, Train loss: 1.0690, Train accuracy: 0.4700\n",
            "Spend time for 100 batches: 16.9596 sec\n",
            "Train Epoch: 2, Train loss: 1.0798, Train accuracy: 0.4400\n",
            "Spend time for 100 batches: 17.0364 sec\n",
            "Train Epoch: 2, Train loss: 0.9545, Train accuracy: 0.6300\n",
            "Spend time for 100 batches: 16.9642 sec\n",
            "Train Epoch: 2, Train loss: 1.0402, Train accuracy: 0.5100\n",
            "Spend time for 100 batches: 16.9613 sec\n",
            "Train Epoch: 2, Train loss: 0.9803, Train accuracy: 0.5800\n",
            "Spend time for 100 batches: 16.9706 sec\n",
            "Train Epoch: 2, Train loss: 1.0512, Train accuracy: 0.5000\n",
            "Spend time for 100 batches: 16.9285 sec\n",
            "Train Epoch: 2, Train loss: 1.0475, Train accuracy: 0.5000\n",
            "Spend time for 100 batches: 17.2539 sec\n",
            "Train Epoch: 2, Train loss: 1.0294, Train accuracy: 0.5200\n",
            "Spend time for 100 batches: 17.1908 sec\n",
            "Train Epoch: 2, Train loss: 1.0034, Train accuracy: 0.5500\n",
            "Spend time for 100 batches: 17.7179 sec\n",
            "Train Epoch: 2, Train loss: 0.9762, Train accuracy: 0.5900\n",
            "Spend time for 100 batches: 17.6231 sec\n",
            "Train Epoch: 2, Train loss: 0.9900, Train accuracy: 0.5600\n",
            "Spend time for 100 batches: 17.6603 sec\n",
            "Train Epoch: 2, Train loss: 0.8627, Train accuracy: 0.6900\n",
            "Spend time for 100 batches: 17.1433 sec\n",
            "Train Epoch: 2, Train loss: 1.0870, Train accuracy: 0.4800\n",
            "Spend time for 100 batches: 17.0457 sec\n",
            "Train Epoch: 2, Train loss: 1.0246, Train accuracy: 0.5300\n",
            "Spend time for 100 batches: 16.9924 sec\n",
            "Train Epoch: 2, Train loss: 1.0531, Train accuracy: 0.4900\n",
            "Spend time for 100 batches: 16.9504 sec\n",
            "Train Epoch: 2, Train loss: 0.9609, Train accuracy: 0.6100\n",
            "Spend time for 100 batches: 17.1284 sec\n",
            "Train Epoch: 2, Train loss: 1.0440, Train accuracy: 0.5000\n",
            "Spend time for 100 batches: 17.0271 sec\n",
            "Train Epoch: 2, Train loss: 1.0100, Train accuracy: 0.5500\n",
            "Spend time for 100 batches: 17.1162 sec\n",
            "Train Epoch: 2, Train loss: 1.0273, Train accuracy: 0.5200\n",
            "Spend time for 100 batches: 17.2033 sec\n",
            "Train Epoch: 2, Train loss: 1.0222, Train accuracy: 0.5300\n",
            "Spend time for 100 batches: 17.2640 sec\n",
            "Train Epoch: 2, Train loss: 1.0558, Train accuracy: 0.4900\n",
            "Spend time for 100 batches: 17.1700 sec\n",
            "Train Epoch: 2, Train loss: 0.9748, Train accuracy: 0.5900\n",
            "Spend time for 100 batches: 17.1023 sec\n",
            "Train Epoch: 2, Train loss: 1.0174, Train accuracy: 0.5300\n",
            "Spend time for 100 batches: 17.1745 sec\n",
            "Train Epoch: 2, Train loss: 0.9816, Train accuracy: 0.5700\n",
            "Spend time for 100 batches: 17.1406 sec\n",
            "Train Epoch: 2, Train loss: 0.9755, Train accuracy: 0.5700\n",
            "Spend time for 100 batches: 17.3518 sec\n",
            "Train Epoch: 2, Train loss: 0.9864, Train accuracy: 0.5700\n",
            "Spend time for 100 batches: 17.1799 sec\n",
            "Train Epoch: 2, Train loss: 0.9770, Train accuracy: 0.5800\n",
            "Spend time for 100 batches: 17.1095 sec\n",
            "Train Epoch: 2, Train loss: 1.0475, Train accuracy: 0.5100\n",
            "Spend time for 100 batches: 17.0999 sec\n",
            "Train Epoch: 2, Train loss: 1.0131, Train accuracy: 0.5400\n",
            "Spend time for 100 batches: 17.1097 sec\n",
            "Train Epoch: 2, Train loss: 1.0463, Train accuracy: 0.5000\n",
            "Spend time for 100 batches: 17.3158 sec\n",
            "Train Epoch: 2, Train loss: 1.0359, Train accuracy: 0.5000\n",
            "Spend time for 100 batches: 17.0667 sec\n",
            "Train Epoch: 2, Train loss: 1.0496, Train accuracy: 0.5000\n",
            "Spend time for 100 batches: 17.2018 sec\n",
            "Train Epoch: 2, Train loss: 0.9464, Train accuracy: 0.6200\n",
            "Spend time for 100 batches: 17.2685 sec\n",
            "Train Epoch: 2, Train loss: 1.0265, Train accuracy: 0.5300\n",
            "Spend time for 100 batches: 17.1640 sec\n",
            "Train Epoch: 2, Train loss: 1.0915, Train accuracy: 0.4300\n",
            "Spend time for 100 batches: 17.4289 sec\n",
            "Train Epoch: 2, Train loss: 0.9709, Train accuracy: 0.6100\n",
            "Spend time for 100 batches: 17.6482 sec\n",
            "Train Epoch: 2, Train loss: 1.0052, Train accuracy: 0.5500\n",
            "Spend time for 100 batches: 17.1815 sec\n",
            "Train Epoch: 2, Train loss: 1.0132, Train accuracy: 0.5400\n",
            "Spend time for 100 batches: 17.2184 sec\n",
            "Train Epoch: 2, Train loss: 1.0083, Train accuracy: 0.5500\n",
            "Spend time for 100 batches: 17.1465 sec\n",
            "Train Epoch: 2, Train loss: 1.0204, Train accuracy: 0.5300\n",
            "Spend time for 100 batches: 17.3019 sec\n",
            "Train Epoch: 2, Train loss: 0.9881, Train accuracy: 0.5600\n",
            "Spend time for 100 batches: 17.2029 sec\n",
            "Train Epoch: 2, Train loss: 0.9976, Train accuracy: 0.5600\n",
            "Spend time for 100 batches: 17.1467 sec\n",
            "Train Epoch: 2, Train loss: 1.0761, Train accuracy: 0.4700\n",
            "Spend time for 100 batches: 17.4071 sec\n",
            "Train Epoch: 2, Train loss: 1.0588, Train accuracy: 0.4800\n",
            "Spend time for 100 batches: 17.2592 sec\n",
            "Train Epoch: 2, Train loss: 0.9912, Train accuracy: 0.5600\n",
            "Spend time for 100 batches: 17.1441 sec\n",
            "Train Epoch: 2, Train loss: 0.9580, Train accuracy: 0.6000\n",
            "Spend time for 100 batches: 17.1660 sec\n",
            "Train Epoch: 2, Train loss: 1.0429, Train accuracy: 0.5200\n",
            "Spend time for 100 batches: 17.3337 sec\n",
            "Train Epoch: 2, Train loss: 0.9932, Train accuracy: 0.5600\n",
            "Spend time for 100 batches: 17.0970 sec\n",
            "Train Epoch: 2, Train loss: 1.0415, Train accuracy: 0.5100\n",
            "Spend time for 100 batches: 17.1943 sec\n",
            "Train Epoch: 2, Train loss: 1.0032, Train accuracy: 0.5600\n",
            "Spend time for 100 batches: 17.0857 sec\n",
            "Train Epoch: 2, Train loss: 0.9699, Train accuracy: 0.5900\n",
            "Spend time for 100 batches: 17.1766 sec\n",
            "Train Epoch: 2, Train loss: 1.0035, Train accuracy: 0.5500\n",
            "Spend time for 100 batches: 17.2157 sec\n",
            "Train Epoch: 2, Train loss: 1.0134, Train accuracy: 0.5400\n",
            "Spend time for 100 batches: 17.1705 sec\n",
            "Train Epoch: 2, Train loss: 1.0571, Train accuracy: 0.4900\n",
            "Spend time for 100 batches: 17.2880 sec\n",
            "Train Epoch: 2, Train loss: 0.9549, Train accuracy: 0.6100\n",
            "Spend time for 100 batches: 17.6258 sec\n",
            "Train Epoch: 2, Train loss: 1.0376, Train accuracy: 0.5100\n",
            "Spend time for 100 batches: 17.4178 sec\n",
            "Train Epoch: 2, Train loss: 1.0357, Train accuracy: 0.5100\n",
            "Spend time for 100 batches: 17.1664 sec\n",
            "Train Epoch: 2, Train loss: 1.0641, Train accuracy: 0.4700\n",
            "Spend time for 100 batches: 17.2578 sec\n",
            "Train Epoch: 2, Train loss: 0.9813, Train accuracy: 0.5800\n",
            "Spend time for 100 batches: 17.1827 sec\n",
            "Train Epoch: 2, Train loss: 1.0410, Train accuracy: 0.5100\n",
            "Spend time for 100 batches: 17.0935 sec\n",
            "Train Epoch: 2, Train loss: 1.0204, Train accuracy: 0.5300\n",
            "Spend time for 100 batches: 17.3235 sec\n",
            "Train Epoch: 2, Train loss: 0.9954, Train accuracy: 0.5600\n",
            "Spend time for 100 batches: 17.1674 sec\n",
            "Train Epoch: 2, Train loss: 0.9836, Train accuracy: 0.5700\n",
            "Spend time for 100 batches: 17.2501 sec\n",
            "Train Epoch: 2, Train loss: 1.0012, Train accuracy: 0.5600\n",
            "Spend time for 100 batches: 17.2126 sec\n",
            "Train Epoch: 2, Train loss: 1.0121, Train accuracy: 0.5400\n",
            "Spend time for 100 batches: 17.2289 sec\n",
            "Train Epoch: 2, Train loss: 1.0233, Train accuracy: 0.5300\n",
            "Spend time for 100 batches: 17.6669 sec\n",
            "Train Epoch: 2, Train loss: 0.9095, Train accuracy: 0.6500\n",
            "Spend time for 100 batches: 17.4125 sec\n",
            "Train Epoch: 2, Train loss: 1.0192, Train accuracy: 0.5400\n",
            "Spend time for 100 batches: 17.4090 sec\n",
            "Train Epoch: 2, Train loss: 0.9797, Train accuracy: 0.5800\n",
            "Spend time for 100 batches: 17.1612 sec\n",
            "Train Epoch: 2, Train loss: 0.9969, Train accuracy: 0.5600\n",
            "Spend time for 100 batches: 17.1905 sec\n",
            "Train Epoch: 2, Train loss: 1.0457, Train accuracy: 0.5000\n",
            "Spend time for 100 batches: 17.7965 sec\n",
            "Train Epoch: 2, Train loss: 1.0553, Train accuracy: 0.4800\n",
            "Spend time for 100 batches: 17.8910 sec\n",
            "Train Epoch: 2, Train loss: 1.0030, Train accuracy: 0.5400\n",
            "Spend time for 100 batches: 17.6103 sec\n",
            "Train Epoch: 2, Train loss: 0.9653, Train accuracy: 0.6000\n",
            "Spend time for 100 batches: 17.4832 sec\n",
            "Train Epoch: 2, Train loss: 0.9564, Train accuracy: 0.6100\n",
            "Spend time for 100 batches: 17.5078 sec\n",
            "Train Epoch: 2, Train loss: 0.9779, Train accuracy: 0.5800\n",
            "Spend time for 100 batches: 17.5251 sec\n",
            "Train Epoch: 2, Train loss: 1.0256, Train accuracy: 0.5300\n",
            "Spend time for 100 batches: 17.6641 sec\n",
            "Train Epoch: 2, Train loss: 0.9240, Train accuracy: 0.6300\n",
            "Spend time for 100 batches: 17.5637 sec\n",
            "Train Epoch: 2, Train loss: 0.9585, Train accuracy: 0.6000\n",
            "Spend time for 100 batches: 17.7373 sec\n",
            "Train Epoch: 3, Train loss: 0.9413, Train accuracy: 0.6000\n",
            "Spend time for 100 batches: 17.2868 sec\n",
            "Train Epoch: 3, Train loss: 1.0172, Train accuracy: 0.5400\n",
            "Spend time for 100 batches: 17.5024 sec\n",
            "Train Epoch: 3, Train loss: 1.0636, Train accuracy: 0.4800\n",
            "Spend time for 100 batches: 17.4699 sec\n",
            "Train Epoch: 3, Train loss: 1.0558, Train accuracy: 0.4800\n",
            "Spend time for 100 batches: 17.4609 sec\n",
            "Train Epoch: 3, Train loss: 1.0072, Train accuracy: 0.5400\n",
            "Spend time for 100 batches: 17.5310 sec\n",
            "Train Epoch: 3, Train loss: 1.0101, Train accuracy: 0.5600\n",
            "Spend time for 100 batches: 17.5159 sec\n",
            "Train Epoch: 3, Train loss: 1.1129, Train accuracy: 0.4000\n",
            "Spend time for 100 batches: 17.6070 sec\n",
            "Train Epoch: 3, Train loss: 1.0386, Train accuracy: 0.5100\n",
            "Spend time for 100 batches: 17.5169 sec\n",
            "Train Epoch: 3, Train loss: 1.0504, Train accuracy: 0.4900\n",
            "Spend time for 100 batches: 17.4688 sec\n",
            "Train Epoch: 3, Train loss: 1.0070, Train accuracy: 0.5600\n",
            "Spend time for 100 batches: 17.4613 sec\n",
            "Train Epoch: 3, Train loss: 1.0499, Train accuracy: 0.4900\n",
            "Spend time for 100 batches: 17.5816 sec\n",
            "Train Epoch: 3, Train loss: 1.0137, Train accuracy: 0.5400\n",
            "Spend time for 100 batches: 17.4837 sec\n",
            "Train Epoch: 3, Train loss: 1.0279, Train accuracy: 0.5200\n",
            "Spend time for 100 batches: 17.5227 sec\n",
            "Train Epoch: 3, Train loss: 0.9465, Train accuracy: 0.6200\n",
            "Spend time for 100 batches: 17.5438 sec\n",
            "Train Epoch: 3, Train loss: 1.0240, Train accuracy: 0.5300\n",
            "Spend time for 100 batches: 17.5808 sec\n",
            "Train Epoch: 3, Train loss: 1.0375, Train accuracy: 0.5100\n",
            "Spend time for 100 batches: 17.5771 sec\n",
            "Train Epoch: 3, Train loss: 1.0411, Train accuracy: 0.5100\n",
            "Spend time for 100 batches: 17.7518 sec\n",
            "Train Epoch: 3, Train loss: 0.9820, Train accuracy: 0.5800\n",
            "Spend time for 100 batches: 17.4310 sec\n",
            "Train Epoch: 3, Train loss: 0.9951, Train accuracy: 0.5600\n",
            "Spend time for 100 batches: 17.4399 sec\n",
            "Train Epoch: 3, Train loss: 0.9765, Train accuracy: 0.5800\n",
            "Spend time for 100 batches: 17.5170 sec\n",
            "Train Epoch: 3, Train loss: 1.0330, Train accuracy: 0.5200\n",
            "Spend time for 100 batches: 17.5834 sec\n",
            "Train Epoch: 3, Train loss: 0.9609, Train accuracy: 0.6000\n",
            "Spend time for 100 batches: 17.4440 sec\n",
            "Train Epoch: 3, Train loss: 0.9858, Train accuracy: 0.5700\n",
            "Spend time for 100 batches: 17.4570 sec\n",
            "Train Epoch: 3, Train loss: 1.0317, Train accuracy: 0.5200\n",
            "Spend time for 100 batches: 17.4067 sec\n",
            "Train Epoch: 3, Train loss: 0.9597, Train accuracy: 0.6000\n",
            "Spend time for 100 batches: 17.5868 sec\n",
            "Train Epoch: 3, Train loss: 0.9153, Train accuracy: 0.6400\n",
            "Spend time for 100 batches: 17.4477 sec\n",
            "Train Epoch: 3, Train loss: 1.0000, Train accuracy: 0.5600\n",
            "Spend time for 100 batches: 17.4412 sec\n",
            "Train Epoch: 3, Train loss: 1.0161, Train accuracy: 0.5400\n",
            "Spend time for 100 batches: 17.4788 sec\n",
            "Train Epoch: 3, Train loss: 1.0474, Train accuracy: 0.5000\n",
            "Spend time for 100 batches: 17.5777 sec\n",
            "Train Epoch: 3, Train loss: 1.0427, Train accuracy: 0.5000\n",
            "Spend time for 100 batches: 17.5603 sec\n",
            "Train Epoch: 3, Train loss: 0.9169, Train accuracy: 0.6500\n",
            "Spend time for 100 batches: 17.4331 sec\n",
            "Train Epoch: 3, Train loss: 0.9992, Train accuracy: 0.5600\n",
            "Spend time for 100 batches: 17.4561 sec\n",
            "Train Epoch: 3, Train loss: 0.9637, Train accuracy: 0.5900\n",
            "Spend time for 100 batches: 17.4479 sec\n",
            "Train Epoch: 3, Train loss: 0.9597, Train accuracy: 0.6000\n",
            "Spend time for 100 batches: 17.5770 sec\n",
            "Train Epoch: 3, Train loss: 1.0373, Train accuracy: 0.5200\n",
            "Spend time for 100 batches: 17.7719 sec\n",
            "Train Epoch: 3, Train loss: 1.0361, Train accuracy: 0.5100\n",
            "Spend time for 100 batches: 17.5079 sec\n",
            "Train Epoch: 3, Train loss: 1.0179, Train accuracy: 0.5300\n",
            "Spend time for 100 batches: 17.5438 sec\n",
            "Train Epoch: 3, Train loss: 1.0845, Train accuracy: 0.4400\n",
            "Spend time for 100 batches: 17.5046 sec\n",
            "Train Epoch: 3, Train loss: 0.9827, Train accuracy: 0.5900\n",
            "Spend time for 100 batches: 17.6115 sec\n",
            "Train Epoch: 3, Train loss: 0.9504, Train accuracy: 0.6100\n",
            "Spend time for 100 batches: 17.4466 sec\n",
            "Train Epoch: 3, Train loss: 1.0715, Train accuracy: 0.4700\n",
            "Spend time for 100 batches: 17.5318 sec\n",
            "Train Epoch: 3, Train loss: 0.9715, Train accuracy: 0.5900\n",
            "Spend time for 100 batches: 17.7392 sec\n",
            "Train Epoch: 3, Train loss: 0.9517, Train accuracy: 0.6100\n",
            "Spend time for 100 batches: 17.4856 sec\n",
            "Train Epoch: 3, Train loss: 1.0253, Train accuracy: 0.5300\n",
            "Spend time for 100 batches: 17.5532 sec\n",
            "Train Epoch: 3, Train loss: 1.0955, Train accuracy: 0.4300\n",
            "Spend time for 100 batches: 17.4542 sec\n",
            "Train Epoch: 3, Train loss: 1.0349, Train accuracy: 0.5100\n",
            "Spend time for 100 batches: 17.5187 sec\n",
            "Train Epoch: 3, Train loss: 1.0462, Train accuracy: 0.5000\n",
            "Spend time for 100 batches: 17.4644 sec\n",
            "Train Epoch: 3, Train loss: 1.0448, Train accuracy: 0.4900\n",
            "Spend time for 100 batches: 17.5634 sec\n",
            "Train Epoch: 3, Train loss: 1.0313, Train accuracy: 0.5200\n",
            "Spend time for 100 batches: 17.4769 sec\n",
            "Train Epoch: 3, Train loss: 0.9682, Train accuracy: 0.5900\n",
            "Spend time for 100 batches: 17.5832 sec\n",
            "Train Epoch: 3, Train loss: 0.9776, Train accuracy: 0.5800\n",
            "Spend time for 100 batches: 17.6189 sec\n",
            "Train Epoch: 3, Train loss: 1.0390, Train accuracy: 0.5100\n",
            "Spend time for 100 batches: 17.6884 sec\n",
            "Train Epoch: 3, Train loss: 0.9703, Train accuracy: 0.5900\n",
            "Spend time for 100 batches: 17.7251 sec\n",
            "Train Epoch: 3, Train loss: 1.0522, Train accuracy: 0.5000\n",
            "Spend time for 100 batches: 17.5005 sec\n",
            "Train Epoch: 3, Train loss: 0.9716, Train accuracy: 0.5900\n",
            "Spend time for 100 batches: 17.5546 sec\n",
            "Train Epoch: 3, Train loss: 0.8548, Train accuracy: 0.6900\n",
            "Spend time for 100 batches: 17.5485 sec\n",
            "Train Epoch: 3, Train loss: 0.9901, Train accuracy: 0.5700\n",
            "Spend time for 100 batches: 17.6140 sec\n",
            "Train Epoch: 3, Train loss: 1.0668, Train accuracy: 0.4800\n",
            "Spend time for 100 batches: 17.5389 sec\n",
            "Train Epoch: 3, Train loss: 1.0045, Train accuracy: 0.5500\n",
            "Spend time for 100 batches: 17.5967 sec\n",
            "Train Epoch: 3, Train loss: 0.9699, Train accuracy: 0.5900\n",
            "Spend time for 100 batches: 17.5799 sec\n",
            "Train Epoch: 3, Train loss: 0.9855, Train accuracy: 0.5700\n",
            "Spend time for 100 batches: 17.6222 sec\n",
            "Train Epoch: 3, Train loss: 0.9760, Train accuracy: 0.5800\n",
            "Spend time for 100 batches: 17.6779 sec\n",
            "Train Epoch: 3, Train loss: 1.0395, Train accuracy: 0.5100\n",
            "Spend time for 100 batches: 17.5441 sec\n",
            "Train Epoch: 3, Train loss: 0.9978, Train accuracy: 0.5600\n",
            "Spend time for 100 batches: 17.6712 sec\n",
            "Train Epoch: 3, Train loss: 1.0214, Train accuracy: 0.5300\n",
            "Spend time for 100 batches: 17.6817 sec\n",
            "Train Epoch: 3, Train loss: 0.9692, Train accuracy: 0.5900\n",
            "Spend time for 100 batches: 17.9726 sec\n",
            "Train Epoch: 3, Train loss: 0.9258, Train accuracy: 0.6300\n",
            "Spend time for 100 batches: 18.1622 sec\n",
            "Train Epoch: 3, Train loss: 1.0053, Train accuracy: 0.5500\n",
            "Spend time for 100 batches: 18.1436 sec\n",
            "Train Epoch: 3, Train loss: 1.0322, Train accuracy: 0.5200\n",
            "Spend time for 100 batches: 17.8964 sec\n",
            "Train Epoch: 3, Train loss: 0.9674, Train accuracy: 0.5900\n",
            "Spend time for 100 batches: 17.8819 sec\n",
            "Train Epoch: 3, Train loss: 1.0109, Train accuracy: 0.5400\n",
            "Spend time for 100 batches: 17.7915 sec\n",
            "Train Epoch: 3, Train loss: 1.0422, Train accuracy: 0.5100\n",
            "Spend time for 100 batches: 17.6401 sec\n",
            "Train Epoch: 3, Train loss: 1.0351, Train accuracy: 0.5100\n",
            "Spend time for 100 batches: 17.6208 sec\n",
            "Train Epoch: 3, Train loss: 1.0228, Train accuracy: 0.5300\n",
            "Spend time for 100 batches: 17.5946 sec\n",
            "Train Epoch: 3, Train loss: 1.0295, Train accuracy: 0.5200\n",
            "Spend time for 100 batches: 17.7062 sec\n",
            "Train Epoch: 3, Train loss: 1.0359, Train accuracy: 0.5100\n",
            "Spend time for 100 batches: 17.7454 sec\n",
            "Train Epoch: 3, Train loss: 1.0272, Train accuracy: 0.5200\n",
            "Spend time for 100 batches: 17.5009 sec\n",
            "Train Epoch: 3, Train loss: 0.9086, Train accuracy: 0.6500\n",
            "Spend time for 100 batches: 17.5921 sec\n",
            "Train Epoch: 3, Train loss: 1.0236, Train accuracy: 0.5400\n",
            "Spend time for 100 batches: 17.5195 sec\n",
            "Train Epoch: 3, Train loss: 1.0679, Train accuracy: 0.4700\n",
            "Spend time for 100 batches: 17.6668 sec\n",
            "Train Epoch: 4, Train loss: 1.0208, Train accuracy: 0.5100\n",
            "Spend time for 100 batches: 17.4371 sec\n",
            "Train Epoch: 4, Train loss: 0.9816, Train accuracy: 0.5800\n",
            "Spend time for 100 batches: 17.7393 sec\n",
            "Train Epoch: 4, Train loss: 1.0255, Train accuracy: 0.5300\n",
            "Spend time for 100 batches: 17.7066 sec\n",
            "Train Epoch: 4, Train loss: 1.0077, Train accuracy: 0.5400\n",
            "Spend time for 100 batches: 17.8292 sec\n",
            "Train Epoch: 4, Train loss: 0.9895, Train accuracy: 0.5600\n",
            "Spend time for 100 batches: 17.7141 sec\n",
            "Train Epoch: 4, Train loss: 0.9470, Train accuracy: 0.6100\n",
            "Spend time for 100 batches: 17.6710 sec\n",
            "Train Epoch: 4, Train loss: 1.0222, Train accuracy: 0.5300\n",
            "Spend time for 100 batches: 17.8706 sec\n",
            "Train Epoch: 4, Train loss: 0.9948, Train accuracy: 0.5500\n",
            "Spend time for 100 batches: 17.8183 sec\n",
            "Train Epoch: 4, Train loss: 1.0177, Train accuracy: 0.5400\n",
            "Spend time for 100 batches: 17.8529 sec\n",
            "Train Epoch: 4, Train loss: 1.0086, Train accuracy: 0.5500\n",
            "Spend time for 100 batches: 17.7656 sec\n",
            "Train Epoch: 4, Train loss: 1.0045, Train accuracy: 0.5500\n",
            "Spend time for 100 batches: 17.7119 sec\n",
            "Train Epoch: 4, Train loss: 0.9295, Train accuracy: 0.6300\n",
            "Spend time for 100 batches: 17.8048 sec\n",
            "Train Epoch: 4, Train loss: 1.0475, Train accuracy: 0.5000\n",
            "Spend time for 100 batches: 17.8690 sec\n",
            "Train Epoch: 4, Train loss: 1.0155, Train accuracy: 0.5400\n",
            "Spend time for 100 batches: 17.7432 sec\n",
            "Train Epoch: 4, Train loss: 1.0060, Train accuracy: 0.5500\n",
            "Spend time for 100 batches: 17.8103 sec\n",
            "Train Epoch: 4, Train loss: 0.9811, Train accuracy: 0.5800\n",
            "Spend time for 100 batches: 17.7238 sec\n",
            "Train Epoch: 4, Train loss: 1.0298, Train accuracy: 0.5200\n",
            "Spend time for 100 batches: 17.7161 sec\n",
            "Train Epoch: 4, Train loss: 0.9878, Train accuracy: 0.5700\n",
            "Spend time for 100 batches: 17.8588 sec\n",
            "Train Epoch: 4, Train loss: 1.0353, Train accuracy: 0.5100\n",
            "Spend time for 100 batches: 17.8839 sec\n",
            "Train Epoch: 4, Train loss: 1.0065, Train accuracy: 0.5500\n",
            "Spend time for 100 batches: 17.7762 sec\n",
            "Train Epoch: 4, Train loss: 0.9720, Train accuracy: 0.5900\n",
            "Spend time for 100 batches: 17.7409 sec\n",
            "Train Epoch: 4, Train loss: 1.0968, Train accuracy: 0.4300\n",
            "Spend time for 100 batches: 17.8897 sec\n",
            "Train Epoch: 4, Train loss: 0.9977, Train accuracy: 0.5600\n",
            "Spend time for 100 batches: 17.8075 sec\n",
            "Train Epoch: 4, Train loss: 1.0120, Train accuracy: 0.5400\n",
            "Spend time for 100 batches: 17.6619 sec\n",
            "Train Epoch: 4, Train loss: 0.9179, Train accuracy: 0.6400\n",
            "Spend time for 100 batches: 17.9893 sec\n",
            "Train Epoch: 4, Train loss: 1.0600, Train accuracy: 0.4900\n",
            "Spend time for 100 batches: 17.7763 sec\n",
            "Train Epoch: 4, Train loss: 1.0103, Train accuracy: 0.5400\n",
            "Spend time for 100 batches: 17.8334 sec\n",
            "Train Epoch: 4, Train loss: 1.0290, Train accuracy: 0.5200\n",
            "Spend time for 100 batches: 17.8297 sec\n",
            "Train Epoch: 4, Train loss: 0.9479, Train accuracy: 0.6100\n",
            "Spend time for 100 batches: 17.7735 sec\n",
            "Train Epoch: 4, Train loss: 0.9805, Train accuracy: 0.5800\n",
            "Spend time for 100 batches: 17.9068 sec\n",
            "Train Epoch: 4, Train loss: 1.0548, Train accuracy: 0.4900\n",
            "Spend time for 100 batches: 17.8628 sec\n",
            "Train Epoch: 4, Train loss: 1.0041, Train accuracy: 0.5500\n",
            "Spend time for 100 batches: 17.7789 sec\n",
            "Train Epoch: 4, Train loss: 0.9552, Train accuracy: 0.6000\n",
            "Spend time for 100 batches: 17.7909 sec\n",
            "Train Epoch: 4, Train loss: 0.9391, Train accuracy: 0.6200\n",
            "Spend time for 100 batches: 17.7789 sec\n",
            "Train Epoch: 4, Train loss: 1.0150, Train accuracy: 0.5400\n",
            "Spend time for 100 batches: 18.0213 sec\n",
            "Train Epoch: 4, Train loss: 0.9820, Train accuracy: 0.5700\n",
            "Spend time for 100 batches: 17.8292 sec\n",
            "Train Epoch: 4, Train loss: 1.0566, Train accuracy: 0.4800\n",
            "Spend time for 100 batches: 17.8280 sec\n",
            "Train Epoch: 4, Train loss: 0.9706, Train accuracy: 0.5900\n",
            "Spend time for 100 batches: 17.8225 sec\n",
            "Train Epoch: 4, Train loss: 1.0127, Train accuracy: 0.5400\n",
            "Spend time for 100 batches: 17.8634 sec\n",
            "Train Epoch: 4, Train loss: 0.9842, Train accuracy: 0.5700\n",
            "Spend time for 100 batches: 17.9026 sec\n",
            "Train Epoch: 4, Train loss: 1.0359, Train accuracy: 0.5100\n",
            "Spend time for 100 batches: 17.8104 sec\n",
            "Train Epoch: 4, Train loss: 1.0342, Train accuracy: 0.5100\n",
            "Spend time for 100 batches: 18.0936 sec\n",
            "Train Epoch: 4, Train loss: 0.9950, Train accuracy: 0.5600\n",
            "Spend time for 100 batches: 17.7694 sec\n",
            "Train Epoch: 4, Train loss: 1.0491, Train accuracy: 0.4900\n",
            "Spend time for 100 batches: 17.9084 sec\n",
            "Train Epoch: 4, Train loss: 0.9971, Train accuracy: 0.5600\n",
            "Spend time for 100 batches: 17.9110 sec\n",
            "Train Epoch: 4, Train loss: 1.0865, Train accuracy: 0.4400\n",
            "Spend time for 100 batches: 17.9348 sec\n",
            "Train Epoch: 4, Train loss: 1.1140, Train accuracy: 0.3800\n",
            "Spend time for 100 batches: 17.8409 sec\n",
            "Train Epoch: 4, Train loss: 0.9666, Train accuracy: 0.6100\n",
            "Spend time for 100 batches: 17.8808 sec\n",
            "Train Epoch: 4, Train loss: 0.9872, Train accuracy: 0.5700\n",
            "Spend time for 100 batches: 17.9141 sec\n",
            "Train Epoch: 4, Train loss: 1.0725, Train accuracy: 0.4600\n",
            "Spend time for 100 batches: 17.8990 sec\n",
            "Train Epoch: 4, Train loss: 1.0401, Train accuracy: 0.5000\n",
            "Spend time for 100 batches: 17.9218 sec\n",
            "Train Epoch: 4, Train loss: 0.9766, Train accuracy: 0.5900\n",
            "Spend time for 100 batches: 18.0754 sec\n",
            "Train Epoch: 4, Train loss: 1.0480, Train accuracy: 0.4900\n",
            "Spend time for 100 batches: 17.8992 sec\n",
            "Train Epoch: 4, Train loss: 0.9576, Train accuracy: 0.6100\n",
            "Spend time for 100 batches: 17.9903 sec\n",
            "Train Epoch: 4, Train loss: 0.9801, Train accuracy: 0.5800\n",
            "Spend time for 100 batches: 17.8281 sec\n",
            "Train Epoch: 4, Train loss: 1.0160, Train accuracy: 0.5300\n",
            "Spend time for 100 batches: 17.9474 sec\n",
            "Train Epoch: 4, Train loss: 1.0206, Train accuracy: 0.5200\n",
            "Spend time for 100 batches: 17.8525 sec\n",
            "Train Epoch: 4, Train loss: 1.0661, Train accuracy: 0.4700\n",
            "Spend time for 100 batches: 18.0631 sec\n",
            "Train Epoch: 4, Train loss: 1.0047, Train accuracy: 0.5600\n",
            "Spend time for 100 batches: 18.0093 sec\n",
            "Train Epoch: 4, Train loss: 1.0207, Train accuracy: 0.5300\n",
            "Spend time for 100 batches: 18.0104 sec\n",
            "Train Epoch: 4, Train loss: 0.9668, Train accuracy: 0.5900\n",
            "Spend time for 100 batches: 17.9300 sec\n",
            "Train Epoch: 4, Train loss: 1.0113, Train accuracy: 0.5400\n",
            "Spend time for 100 batches: 17.9434 sec\n",
            "Train Epoch: 4, Train loss: 1.0503, Train accuracy: 0.4900\n",
            "Spend time for 100 batches: 17.8817 sec\n",
            "Train Epoch: 4, Train loss: 1.0267, Train accuracy: 0.5200\n",
            "Spend time for 100 batches: 17.8374 sec\n",
            "Train Epoch: 4, Train loss: 1.0614, Train accuracy: 0.4700\n",
            "Spend time for 100 batches: 18.0266 sec\n",
            "Train Epoch: 4, Train loss: 0.9350, Train accuracy: 0.6400\n",
            "Spend time for 100 batches: 17.9509 sec\n",
            "Train Epoch: 4, Train loss: 0.9943, Train accuracy: 0.5600\n",
            "Spend time for 100 batches: 18.0284 sec\n",
            "Train Epoch: 4, Train loss: 1.0038, Train accuracy: 0.5400\n",
            "Spend time for 100 batches: 17.8106 sec\n",
            "Train Epoch: 4, Train loss: 1.0285, Train accuracy: 0.5200\n",
            "Spend time for 100 batches: 18.1263 sec\n",
            "Train Epoch: 4, Train loss: 1.0183, Train accuracy: 0.5300\n",
            "Spend time for 100 batches: 18.0148 sec\n",
            "Train Epoch: 4, Train loss: 0.9561, Train accuracy: 0.6000\n",
            "Spend time for 100 batches: 18.0287 sec\n",
            "Train Epoch: 4, Train loss: 0.9135, Train accuracy: 0.6400\n",
            "Spend time for 100 batches: 18.0958 sec\n",
            "Train Epoch: 4, Train loss: 0.9313, Train accuracy: 0.6200\n",
            "Spend time for 100 batches: 18.0562 sec\n",
            "Train Epoch: 4, Train loss: 1.0272, Train accuracy: 0.5300\n",
            "Spend time for 100 batches: 17.5552 sec\n",
            "Train Epoch: 4, Train loss: 1.0290, Train accuracy: 0.5200\n",
            "Spend time for 100 batches: 17.4962 sec\n",
            "Train Epoch: 4, Train loss: 1.0014, Train accuracy: 0.5500\n",
            "Spend time for 100 batches: 17.4944 sec\n",
            "Train Epoch: 4, Train loss: 1.0196, Train accuracy: 0.5300\n",
            "Spend time for 100 batches: 17.6727 sec\n",
            "Train Epoch: 4, Train loss: 0.9362, Train accuracy: 0.6200\n",
            "Spend time for 100 batches: 17.4752 sec\n",
            "Train Epoch: 4, Train loss: 0.9723, Train accuracy: 0.5700\n",
            "Spend time for 100 batches: 17.4487 sec\n",
            "Train Epoch: 4, Train loss: 1.0880, Train accuracy: 0.4600\n",
            "Spend time for 100 batches: 17.4052 sec\n",
            "Train Epoch: 5, Train loss: 0.9369, Train accuracy: 0.6100\n",
            "Spend time for 100 batches: 17.3225 sec\n",
            "Train Epoch: 5, Train loss: 1.0458, Train accuracy: 0.5000\n",
            "Spend time for 100 batches: 17.3196 sec\n",
            "Train Epoch: 5, Train loss: 1.0084, Train accuracy: 0.5400\n",
            "Spend time for 100 batches: 17.2416 sec\n",
            "Train Epoch: 5, Train loss: 1.0652, Train accuracy: 0.4700\n",
            "Spend time for 100 batches: 17.3229 sec\n",
            "Train Epoch: 5, Train loss: 1.0038, Train accuracy: 0.5500\n",
            "Spend time for 100 batches: 17.3873 sec\n",
            "Train Epoch: 5, Train loss: 0.9102, Train accuracy: 0.6500\n",
            "Spend time for 100 batches: 17.4409 sec\n",
            "Train Epoch: 5, Train loss: 1.0434, Train accuracy: 0.5000\n",
            "Spend time for 100 batches: 17.2387 sec\n",
            "Train Epoch: 5, Train loss: 0.9619, Train accuracy: 0.5900\n",
            "Spend time for 100 batches: 17.2755 sec\n",
            "Train Epoch: 5, Train loss: 0.9985, Train accuracy: 0.5600\n",
            "Spend time for 100 batches: 17.2473 sec\n",
            "Train Epoch: 5, Train loss: 1.0523, Train accuracy: 0.4900\n",
            "Spend time for 100 batches: 17.3078 sec\n",
            "Train Epoch: 5, Train loss: 0.9917, Train accuracy: 0.5700\n",
            "Spend time for 100 batches: 17.2265 sec\n",
            "Train Epoch: 5, Train loss: 0.9736, Train accuracy: 0.5800\n",
            "Spend time for 100 batches: 17.2192 sec\n",
            "Train Epoch: 5, Train loss: 1.0595, Train accuracy: 0.4800\n",
            "Spend time for 100 batches: 17.2073 sec\n",
            "Train Epoch: 5, Train loss: 0.9346, Train accuracy: 0.6300\n",
            "Spend time for 100 batches: 17.4508 sec\n",
            "Train Epoch: 5, Train loss: 0.9724, Train accuracy: 0.5800\n",
            "Spend time for 100 batches: 17.3175 sec\n",
            "Train Epoch: 5, Train loss: 1.0269, Train accuracy: 0.5200\n",
            "Spend time for 100 batches: 17.2363 sec\n",
            "Train Epoch: 5, Train loss: 0.9958, Train accuracy: 0.5500\n",
            "Spend time for 100 batches: 17.3208 sec\n",
            "Train Epoch: 5, Train loss: 0.9919, Train accuracy: 0.5500\n",
            "Spend time for 100 batches: 17.2687 sec\n",
            "Train Epoch: 5, Train loss: 0.9792, Train accuracy: 0.5800\n",
            "Spend time for 100 batches: 17.3993 sec\n",
            "Train Epoch: 5, Train loss: 1.1235, Train accuracy: 0.4000\n",
            "Spend time for 100 batches: 17.2759 sec\n",
            "Train Epoch: 5, Train loss: 0.9782, Train accuracy: 0.5900\n",
            "Spend time for 100 batches: 17.2561 sec\n",
            "Train Epoch: 5, Train loss: 1.0336, Train accuracy: 0.5100\n",
            "Spend time for 100 batches: 17.2684 sec\n",
            "Train Epoch: 5, Train loss: 0.9927, Train accuracy: 0.5600\n",
            "Spend time for 100 batches: 17.3507 sec\n",
            "Train Epoch: 5, Train loss: 1.0150, Train accuracy: 0.5300\n",
            "Spend time for 100 batches: 17.3494 sec\n",
            "Train Epoch: 5, Train loss: 1.0797, Train accuracy: 0.4500\n",
            "Spend time for 100 batches: 17.1684 sec\n",
            "Train Epoch: 5, Train loss: 0.9625, Train accuracy: 0.6000\n",
            "Spend time for 100 batches: 17.1792 sec\n",
            "Train Epoch: 5, Train loss: 1.0703, Train accuracy: 0.4600\n",
            "Spend time for 100 batches: 17.1641 sec\n",
            "Train Epoch: 5, Train loss: 0.9724, Train accuracy: 0.5900\n",
            "Spend time for 100 batches: 17.2551 sec\n",
            "Train Epoch: 5, Train loss: 0.9412, Train accuracy: 0.6100\n",
            "Spend time for 100 batches: 17.1862 sec\n",
            "Train Epoch: 5, Train loss: 1.0556, Train accuracy: 0.4900\n",
            "Spend time for 100 batches: 17.1551 sec\n",
            "Train Epoch: 5, Train loss: 0.9812, Train accuracy: 0.5700\n",
            "Spend time for 100 batches: 17.1938 sec\n",
            "Train Epoch: 5, Train loss: 1.0182, Train accuracy: 0.5300\n",
            "Spend time for 100 batches: 17.3761 sec\n",
            "Train Epoch: 5, Train loss: 1.0586, Train accuracy: 0.4900\n",
            "Spend time for 100 batches: 17.2869 sec\n",
            "Train Epoch: 5, Train loss: 0.9896, Train accuracy: 0.5700\n",
            "Spend time for 100 batches: 17.1253 sec\n",
            "Train Epoch: 5, Train loss: 1.0270, Train accuracy: 0.5200\n",
            "Spend time for 100 batches: 17.1161 sec\n",
            "Train Epoch: 5, Train loss: 0.9788, Train accuracy: 0.5800\n",
            "Spend time for 100 batches: 17.1559 sec\n",
            "Train Epoch: 5, Train loss: 1.0311, Train accuracy: 0.5200\n",
            "Spend time for 100 batches: 17.2008 sec\n",
            "Train Epoch: 5, Train loss: 0.9859, Train accuracy: 0.5700\n",
            "Spend time for 100 batches: 17.1751 sec\n",
            "Train Epoch: 5, Train loss: 0.9728, Train accuracy: 0.5700\n",
            "Spend time for 100 batches: 17.1052 sec\n",
            "Train Epoch: 5, Train loss: 1.0031, Train accuracy: 0.5500\n",
            "Spend time for 100 batches: 17.1043 sec\n",
            "Train Epoch: 5, Train loss: 0.9931, Train accuracy: 0.5500\n",
            "Spend time for 100 batches: 17.2357 sec\n",
            "Train Epoch: 5, Train loss: 1.0097, Train accuracy: 0.5400\n",
            "Spend time for 100 batches: 17.2028 sec\n",
            "Train Epoch: 5, Train loss: 0.9990, Train accuracy: 0.5500\n",
            "Spend time for 100 batches: 17.2256 sec\n",
            "Train Epoch: 5, Train loss: 1.0517, Train accuracy: 0.4800\n",
            "Spend time for 100 batches: 17.1865 sec\n",
            "Train Epoch: 5, Train loss: 1.0134, Train accuracy: 0.5300\n",
            "Spend time for 100 batches: 17.1720 sec\n",
            "Train Epoch: 5, Train loss: 0.9369, Train accuracy: 0.6300\n",
            "Spend time for 100 batches: 17.1783 sec\n",
            "Train Epoch: 5, Train loss: 0.9986, Train accuracy: 0.5600\n",
            "Spend time for 100 batches: 17.2036 sec\n",
            "Train Epoch: 5, Train loss: 1.0324, Train accuracy: 0.5100\n",
            "Spend time for 100 batches: 17.0921 sec\n",
            "Train Epoch: 5, Train loss: 1.0089, Train accuracy: 0.5400\n",
            "Spend time for 100 batches: 17.1645 sec\n",
            "Train Epoch: 5, Train loss: 1.0360, Train accuracy: 0.5000\n",
            "Spend time for 100 batches: 17.2843 sec\n",
            "Train Epoch: 5, Train loss: 0.9808, Train accuracy: 0.5700\n",
            "Spend time for 100 batches: 17.3218 sec\n",
            "Train Epoch: 5, Train loss: 1.0747, Train accuracy: 0.4500\n",
            "Spend time for 100 batches: 17.2430 sec\n",
            "Train Epoch: 5, Train loss: 1.0149, Train accuracy: 0.5400\n",
            "Spend time for 100 batches: 17.1077 sec\n",
            "Train Epoch: 5, Train loss: 0.9940, Train accuracy: 0.5600\n",
            "Spend time for 100 batches: 17.1075 sec\n",
            "Train Epoch: 5, Train loss: 0.9372, Train accuracy: 0.6000\n",
            "Spend time for 100 batches: 17.0854 sec\n",
            "Train Epoch: 5, Train loss: 0.9721, Train accuracy: 0.5900\n",
            "Spend time for 100 batches: 17.2272 sec\n",
            "Train Epoch: 5, Train loss: 1.0413, Train accuracy: 0.5000\n",
            "Spend time for 100 batches: 17.1455 sec\n",
            "Train Epoch: 5, Train loss: 0.9823, Train accuracy: 0.5700\n",
            "Spend time for 100 batches: 17.0917 sec\n",
            "Train Epoch: 5, Train loss: 1.0552, Train accuracy: 0.4900\n",
            "Spend time for 100 batches: 17.2253 sec\n",
            "Train Epoch: 5, Train loss: 1.0603, Train accuracy: 0.4700\n",
            "Spend time for 100 batches: 17.0882 sec\n",
            "Train Epoch: 5, Train loss: 0.9500, Train accuracy: 0.6100\n",
            "Spend time for 100 batches: 17.2566 sec\n",
            "Train Epoch: 5, Train loss: 0.9461, Train accuracy: 0.6100\n",
            "Spend time for 100 batches: 17.1204 sec\n",
            "Train Epoch: 5, Train loss: 0.9659, Train accuracy: 0.5900\n",
            "Spend time for 100 batches: 17.1210 sec\n",
            "Train Epoch: 5, Train loss: 1.0118, Train accuracy: 0.5400\n",
            "Spend time for 100 batches: 17.0544 sec\n",
            "Train Epoch: 5, Train loss: 1.0062, Train accuracy: 0.5500\n",
            "Spend time for 100 batches: 17.1637 sec\n",
            "Train Epoch: 5, Train loss: 1.0113, Train accuracy: 0.5300\n",
            "Spend time for 100 batches: 17.1707 sec\n",
            "Train Epoch: 5, Train loss: 0.9534, Train accuracy: 0.5900\n",
            "Spend time for 100 batches: 17.1631 sec\n",
            "Train Epoch: 5, Train loss: 0.9827, Train accuracy: 0.5600\n",
            "Spend time for 100 batches: 17.2352 sec\n",
            "Train Epoch: 5, Train loss: 0.9952, Train accuracy: 0.5500\n",
            "Spend time for 100 batches: 17.2769 sec\n",
            "Train Epoch: 5, Train loss: 1.0023, Train accuracy: 0.5400\n",
            "Spend time for 100 batches: 17.1976 sec\n",
            "Train Epoch: 5, Train loss: 1.0254, Train accuracy: 0.5100\n",
            "Spend time for 100 batches: 17.1399 sec\n",
            "Train Epoch: 5, Train loss: 0.9640, Train accuracy: 0.5900\n",
            "Spend time for 100 batches: 17.1271 sec\n",
            "Train Epoch: 5, Train loss: 0.9480, Train accuracy: 0.5800\n",
            "Spend time for 100 batches: 17.1082 sec\n",
            "Train Epoch: 5, Train loss: 0.9454, Train accuracy: 0.6200\n",
            "Spend time for 100 batches: 17.1420 sec\n",
            "Train Epoch: 5, Train loss: 0.9414, Train accuracy: 0.6000\n",
            "Spend time for 100 batches: 17.1697 sec\n",
            "Train Epoch: 5, Train loss: 1.0719, Train accuracy: 0.4700\n",
            "Spend time for 100 batches: 17.1134 sec\n",
            "Train Epoch: 5, Train loss: 0.9808, Train accuracy: 0.5500\n",
            "Spend time for 100 batches: 17.1396 sec\n",
            "Train Epoch: 5, Train loss: 1.0481, Train accuracy: 0.4800\n",
            "Spend time for 100 batches: 17.0631 sec\n",
            "Train Epoch: 5, Train loss: 1.0367, Train accuracy: 0.5000\n",
            "Spend time for 100 batches: 17.2185 sec\n",
            "Train Epoch: 5, Train loss: 1.0149, Train accuracy: 0.4900\n",
            "Spend time for 100 batches: 17.2191 sec\n",
            "Train Epoch: 6, Train loss: 1.0318, Train accuracy: 0.4900\n",
            "Spend time for 100 batches: 16.9764 sec\n",
            "Train Epoch: 6, Train loss: 0.9453, Train accuracy: 0.6300\n",
            "Spend time for 100 batches: 17.0704 sec\n",
            "Train Epoch: 6, Train loss: 0.9730, Train accuracy: 0.5800\n",
            "Spend time for 100 batches: 17.1005 sec\n",
            "Train Epoch: 6, Train loss: 1.0053, Train accuracy: 0.5500\n",
            "Spend time for 100 batches: 17.2223 sec\n",
            "Train Epoch: 6, Train loss: 0.8901, Train accuracy: 0.6600\n",
            "Spend time for 100 batches: 17.1650 sec\n",
            "Train Epoch: 6, Train loss: 0.9931, Train accuracy: 0.5400\n",
            "Spend time for 100 batches: 17.2825 sec\n",
            "Train Epoch: 6, Train loss: 1.0162, Train accuracy: 0.5300\n",
            "Spend time for 100 batches: 17.1653 sec\n",
            "Train Epoch: 6, Train loss: 1.0499, Train accuracy: 0.5000\n",
            "Spend time for 100 batches: 17.1267 sec\n",
            "Train Epoch: 6, Train loss: 1.0496, Train accuracy: 0.5100\n",
            "Spend time for 100 batches: 17.2029 sec\n",
            "Train Epoch: 6, Train loss: 0.9406, Train accuracy: 0.6000\n",
            "Spend time for 100 batches: 17.0919 sec\n",
            "Train Epoch: 6, Train loss: 1.0265, Train accuracy: 0.5300\n",
            "Spend time for 100 batches: 17.0987 sec\n",
            "Train Epoch: 6, Train loss: 1.0690, Train accuracy: 0.4700\n",
            "Spend time for 100 batches: 17.1125 sec\n",
            "Train Epoch: 6, Train loss: 0.9965, Train accuracy: 0.5700\n",
            "Spend time for 100 batches: 17.5259 sec\n",
            "Train Epoch: 6, Train loss: 1.0315, Train accuracy: 0.5300\n",
            "Spend time for 100 batches: 17.7163 sec\n",
            "Train Epoch: 6, Train loss: 1.0013, Train accuracy: 0.5600\n",
            "Spend time for 100 batches: 17.5759 sec\n",
            "Train Epoch: 6, Train loss: 1.0086, Train accuracy: 0.5500\n",
            "Spend time for 100 batches: 17.6646 sec\n",
            "Train Epoch: 6, Train loss: 0.9328, Train accuracy: 0.6400\n",
            "Spend time for 100 batches: 17.6222 sec\n"
          ],
          "name": "stdout"
        },
        {
          "output_type": "error",
          "ename": "KeyboardInterrupt",
          "evalue": "ignored",
          "traceback": [
            "\u001b[0;31m---------------------------------------------------------------------------\u001b[0m",
            "\u001b[0;31mKeyboardInterrupt\u001b[0m                         Traceback (most recent call last)",
            "\u001b[0;32m<ipython-input-156-d33ba23a58c5>\u001b[0m in \u001b[0;36m<module>\u001b[0;34m()\u001b[0m\n\u001b[1;32m     11\u001b[0m     \u001b[0mtime1\u001b[0m \u001b[0;34m=\u001b[0m \u001b[0mtime\u001b[0m\u001b[0;34m.\u001b[0m\u001b[0mtime\u001b[0m\u001b[0;34m(\u001b[0m\u001b[0;34m)\u001b[0m\u001b[0;34m\u001b[0m\u001b[0;34m\u001b[0m\u001b[0m\n\u001b[1;32m     12\u001b[0m \u001b[0;34m\u001b[0m\u001b[0m\n\u001b[0;32m---> 13\u001b[0;31m     \u001b[0;32mfor\u001b[0m \u001b[0mbatch_idx\u001b[0m\u001b[0;34m,\u001b[0m \u001b[0mdata\u001b[0m \u001b[0;32min\u001b[0m \u001b[0menumerate\u001b[0m\u001b[0;34m(\u001b[0m\u001b[0mtrain_data_loader\u001b[0m\u001b[0;34m)\u001b[0m\u001b[0;34m:\u001b[0m\u001b[0;34m\u001b[0m\u001b[0;34m\u001b[0m\u001b[0m\n\u001b[0m\u001b[1;32m     14\u001b[0m         \u001b[0minputs\u001b[0m\u001b[0;34m,\u001b[0m \u001b[0mlabels\u001b[0m \u001b[0;34m=\u001b[0m \u001b[0mdata\u001b[0m\u001b[0;34m[\u001b[0m\u001b[0;36m0\u001b[0m\u001b[0;34m]\u001b[0m\u001b[0;34m.\u001b[0m\u001b[0mto\u001b[0m\u001b[0;34m(\u001b[0m\u001b[0mdevice\u001b[0m\u001b[0;34m)\u001b[0m\u001b[0;34m,\u001b[0m \u001b[0mdata\u001b[0m\u001b[0;34m[\u001b[0m\u001b[0;36m1\u001b[0m\u001b[0;34m]\u001b[0m\u001b[0;34m.\u001b[0m\u001b[0mto\u001b[0m\u001b[0;34m(\u001b[0m\u001b[0mdevice\u001b[0m\u001b[0;34m)\u001b[0m\u001b[0;34m\u001b[0m\u001b[0;34m\u001b[0m\u001b[0m\n\u001b[1;32m     15\u001b[0m         \u001b[0moptimizer\u001b[0m\u001b[0;34m.\u001b[0m\u001b[0mzero_grad\u001b[0m\u001b[0;34m(\u001b[0m\u001b[0;34m)\u001b[0m\u001b[0;34m\u001b[0m\u001b[0;34m\u001b[0m\u001b[0m\n",
            "\u001b[0;32m/usr/local/lib/python3.6/dist-packages/torch/utils/data/dataloader.py\u001b[0m in \u001b[0;36m__next__\u001b[0;34m(self)\u001b[0m\n\u001b[1;32m    433\u001b[0m         \u001b[0;32mif\u001b[0m \u001b[0mself\u001b[0m\u001b[0;34m.\u001b[0m\u001b[0m_sampler_iter\u001b[0m \u001b[0;32mis\u001b[0m \u001b[0;32mNone\u001b[0m\u001b[0;34m:\u001b[0m\u001b[0;34m\u001b[0m\u001b[0;34m\u001b[0m\u001b[0m\n\u001b[1;32m    434\u001b[0m             \u001b[0mself\u001b[0m\u001b[0;34m.\u001b[0m\u001b[0m_reset\u001b[0m\u001b[0;34m(\u001b[0m\u001b[0;34m)\u001b[0m\u001b[0;34m\u001b[0m\u001b[0;34m\u001b[0m\u001b[0m\n\u001b[0;32m--> 435\u001b[0;31m         \u001b[0mdata\u001b[0m \u001b[0;34m=\u001b[0m \u001b[0mself\u001b[0m\u001b[0;34m.\u001b[0m\u001b[0m_next_data\u001b[0m\u001b[0;34m(\u001b[0m\u001b[0;34m)\u001b[0m\u001b[0;34m\u001b[0m\u001b[0;34m\u001b[0m\u001b[0m\n\u001b[0m\u001b[1;32m    436\u001b[0m         \u001b[0mself\u001b[0m\u001b[0;34m.\u001b[0m\u001b[0m_num_yielded\u001b[0m \u001b[0;34m+=\u001b[0m \u001b[0;36m1\u001b[0m\u001b[0;34m\u001b[0m\u001b[0;34m\u001b[0m\u001b[0m\n\u001b[1;32m    437\u001b[0m         \u001b[0;32mif\u001b[0m \u001b[0mself\u001b[0m\u001b[0;34m.\u001b[0m\u001b[0m_dataset_kind\u001b[0m \u001b[0;34m==\u001b[0m \u001b[0m_DatasetKind\u001b[0m\u001b[0;34m.\u001b[0m\u001b[0mIterable\u001b[0m \u001b[0;32mand\u001b[0m\u001b[0;31m \u001b[0m\u001b[0;31m\\\u001b[0m\u001b[0;34m\u001b[0m\u001b[0;34m\u001b[0m\u001b[0m\n",
            "\u001b[0;32m/usr/local/lib/python3.6/dist-packages/torch/utils/data/dataloader.py\u001b[0m in \u001b[0;36m_next_data\u001b[0;34m(self)\u001b[0m\n\u001b[1;32m    473\u001b[0m     \u001b[0;32mdef\u001b[0m \u001b[0m_next_data\u001b[0m\u001b[0;34m(\u001b[0m\u001b[0mself\u001b[0m\u001b[0;34m)\u001b[0m\u001b[0;34m:\u001b[0m\u001b[0;34m\u001b[0m\u001b[0;34m\u001b[0m\u001b[0m\n\u001b[1;32m    474\u001b[0m         \u001b[0mindex\u001b[0m \u001b[0;34m=\u001b[0m \u001b[0mself\u001b[0m\u001b[0;34m.\u001b[0m\u001b[0m_next_index\u001b[0m\u001b[0;34m(\u001b[0m\u001b[0;34m)\u001b[0m  \u001b[0;31m# may raise StopIteration\u001b[0m\u001b[0;34m\u001b[0m\u001b[0;34m\u001b[0m\u001b[0m\n\u001b[0;32m--> 475\u001b[0;31m         \u001b[0mdata\u001b[0m \u001b[0;34m=\u001b[0m \u001b[0mself\u001b[0m\u001b[0;34m.\u001b[0m\u001b[0m_dataset_fetcher\u001b[0m\u001b[0;34m.\u001b[0m\u001b[0mfetch\u001b[0m\u001b[0;34m(\u001b[0m\u001b[0mindex\u001b[0m\u001b[0;34m)\u001b[0m  \u001b[0;31m# may raise StopIteration\u001b[0m\u001b[0;34m\u001b[0m\u001b[0;34m\u001b[0m\u001b[0m\n\u001b[0m\u001b[1;32m    476\u001b[0m         \u001b[0;32mif\u001b[0m \u001b[0mself\u001b[0m\u001b[0;34m.\u001b[0m\u001b[0m_pin_memory\u001b[0m\u001b[0;34m:\u001b[0m\u001b[0;34m\u001b[0m\u001b[0;34m\u001b[0m\u001b[0m\n\u001b[1;32m    477\u001b[0m             \u001b[0mdata\u001b[0m \u001b[0;34m=\u001b[0m \u001b[0m_utils\u001b[0m\u001b[0;34m.\u001b[0m\u001b[0mpin_memory\u001b[0m\u001b[0;34m.\u001b[0m\u001b[0mpin_memory\u001b[0m\u001b[0;34m(\u001b[0m\u001b[0mdata\u001b[0m\u001b[0;34m)\u001b[0m\u001b[0;34m\u001b[0m\u001b[0;34m\u001b[0m\u001b[0m\n",
            "\u001b[0;32m/usr/local/lib/python3.6/dist-packages/torch/utils/data/_utils/fetch.py\u001b[0m in \u001b[0;36mfetch\u001b[0;34m(self, possibly_batched_index)\u001b[0m\n\u001b[1;32m     42\u001b[0m     \u001b[0;32mdef\u001b[0m \u001b[0mfetch\u001b[0m\u001b[0;34m(\u001b[0m\u001b[0mself\u001b[0m\u001b[0;34m,\u001b[0m \u001b[0mpossibly_batched_index\u001b[0m\u001b[0;34m)\u001b[0m\u001b[0;34m:\u001b[0m\u001b[0;34m\u001b[0m\u001b[0;34m\u001b[0m\u001b[0m\n\u001b[1;32m     43\u001b[0m         \u001b[0;32mif\u001b[0m \u001b[0mself\u001b[0m\u001b[0;34m.\u001b[0m\u001b[0mauto_collation\u001b[0m\u001b[0;34m:\u001b[0m\u001b[0;34m\u001b[0m\u001b[0;34m\u001b[0m\u001b[0m\n\u001b[0;32m---> 44\u001b[0;31m             \u001b[0mdata\u001b[0m \u001b[0;34m=\u001b[0m \u001b[0;34m[\u001b[0m\u001b[0mself\u001b[0m\u001b[0;34m.\u001b[0m\u001b[0mdataset\u001b[0m\u001b[0;34m[\u001b[0m\u001b[0midx\u001b[0m\u001b[0;34m]\u001b[0m \u001b[0;32mfor\u001b[0m \u001b[0midx\u001b[0m \u001b[0;32min\u001b[0m \u001b[0mpossibly_batched_index\u001b[0m\u001b[0;34m]\u001b[0m\u001b[0;34m\u001b[0m\u001b[0;34m\u001b[0m\u001b[0m\n\u001b[0m\u001b[1;32m     45\u001b[0m         \u001b[0;32melse\u001b[0m\u001b[0;34m:\u001b[0m\u001b[0;34m\u001b[0m\u001b[0;34m\u001b[0m\u001b[0m\n\u001b[1;32m     46\u001b[0m             \u001b[0mdata\u001b[0m \u001b[0;34m=\u001b[0m \u001b[0mself\u001b[0m\u001b[0;34m.\u001b[0m\u001b[0mdataset\u001b[0m\u001b[0;34m[\u001b[0m\u001b[0mpossibly_batched_index\u001b[0m\u001b[0;34m]\u001b[0m\u001b[0;34m\u001b[0m\u001b[0;34m\u001b[0m\u001b[0m\n",
            "\u001b[0;32m/usr/local/lib/python3.6/dist-packages/torch/utils/data/_utils/fetch.py\u001b[0m in \u001b[0;36m<listcomp>\u001b[0;34m(.0)\u001b[0m\n\u001b[1;32m     42\u001b[0m     \u001b[0;32mdef\u001b[0m \u001b[0mfetch\u001b[0m\u001b[0;34m(\u001b[0m\u001b[0mself\u001b[0m\u001b[0;34m,\u001b[0m \u001b[0mpossibly_batched_index\u001b[0m\u001b[0;34m)\u001b[0m\u001b[0;34m:\u001b[0m\u001b[0;34m\u001b[0m\u001b[0;34m\u001b[0m\u001b[0m\n\u001b[1;32m     43\u001b[0m         \u001b[0;32mif\u001b[0m \u001b[0mself\u001b[0m\u001b[0;34m.\u001b[0m\u001b[0mauto_collation\u001b[0m\u001b[0;34m:\u001b[0m\u001b[0;34m\u001b[0m\u001b[0;34m\u001b[0m\u001b[0m\n\u001b[0;32m---> 44\u001b[0;31m             \u001b[0mdata\u001b[0m \u001b[0;34m=\u001b[0m \u001b[0;34m[\u001b[0m\u001b[0mself\u001b[0m\u001b[0;34m.\u001b[0m\u001b[0mdataset\u001b[0m\u001b[0;34m[\u001b[0m\u001b[0midx\u001b[0m\u001b[0;34m]\u001b[0m \u001b[0;32mfor\u001b[0m \u001b[0midx\u001b[0m \u001b[0;32min\u001b[0m \u001b[0mpossibly_batched_index\u001b[0m\u001b[0;34m]\u001b[0m\u001b[0;34m\u001b[0m\u001b[0;34m\u001b[0m\u001b[0m\n\u001b[0m\u001b[1;32m     45\u001b[0m         \u001b[0;32melse\u001b[0m\u001b[0;34m:\u001b[0m\u001b[0;34m\u001b[0m\u001b[0;34m\u001b[0m\u001b[0m\n\u001b[1;32m     46\u001b[0m             \u001b[0mdata\u001b[0m \u001b[0;34m=\u001b[0m \u001b[0mself\u001b[0m\u001b[0;34m.\u001b[0m\u001b[0mdataset\u001b[0m\u001b[0;34m[\u001b[0m\u001b[0mpossibly_batched_index\u001b[0m\u001b[0;34m]\u001b[0m\u001b[0;34m\u001b[0m\u001b[0;34m\u001b[0m\u001b[0m\n",
            "\u001b[0;32m<ipython-input-22-e17df56fc990>\u001b[0m in \u001b[0;36m__getitem__\u001b[0;34m(self, index)\u001b[0m\n\u001b[1;32m     28\u001b[0m         \u001b[0;31m# чтобы поменять рамерность картинки с HхW на 128x128\u001b[0m\u001b[0;34m\u001b[0m\u001b[0;34m\u001b[0m\u001b[0;34m\u001b[0m\u001b[0m\n\u001b[1;32m     29\u001b[0m         \u001b[0;31m# clamp не позволяет выйти за границы\u001b[0m\u001b[0;34m\u001b[0m\u001b[0;34m\u001b[0m\u001b[0;34m\u001b[0m\u001b[0m\n\u001b[0;32m---> 30\u001b[0;31m         \u001b[0mimage\u001b[0m \u001b[0;34m=\u001b[0m \u001b[0mF\u001b[0m\u001b[0;34m.\u001b[0m\u001b[0minterpolate\u001b[0m\u001b[0;34m(\u001b[0m\u001b[0minput\u001b[0m\u001b[0;34m=\u001b[0m\u001b[0mimage\u001b[0m\u001b[0;34m,\u001b[0m \u001b[0msize\u001b[0m\u001b[0;34m=\u001b[0m\u001b[0;36m128\u001b[0m\u001b[0;34m,\u001b[0m \u001b[0malign_corners\u001b[0m\u001b[0;34m=\u001b[0m\u001b[0;32mFalse\u001b[0m\u001b[0;34m,\u001b[0m \u001b[0mmode\u001b[0m\u001b[0;34m=\u001b[0m\u001b[0;34m'bicubic'\u001b[0m\u001b[0;34m)\u001b[0m\u001b[0;34m.\u001b[0m\u001b[0mclamp\u001b[0m\u001b[0;34m(\u001b[0m\u001b[0mmin\u001b[0m\u001b[0;34m=\u001b[0m\u001b[0;36m0\u001b[0m\u001b[0;34m,\u001b[0m \u001b[0mmax\u001b[0m\u001b[0;34m=\u001b[0m\u001b[0;36m1\u001b[0m\u001b[0;34m)\u001b[0m\u001b[0;34m\u001b[0m\u001b[0;34m\u001b[0m\u001b[0m\n\u001b[0m\u001b[1;32m     31\u001b[0m \u001b[0;34m\u001b[0m\u001b[0m\n\u001b[1;32m     32\u001b[0m         \u001b[0;31m# Вариант 2: обрезаем лишнее с краев\u001b[0m\u001b[0;34m\u001b[0m\u001b[0;34m\u001b[0m\u001b[0;34m\u001b[0m\u001b[0m\n",
            "\u001b[0;32m/usr/local/lib/python3.6/dist-packages/torch/nn/functional.py\u001b[0m in \u001b[0;36minterpolate\u001b[0;34m(input, size, scale_factor, mode, align_corners, recompute_scale_factor)\u001b[0m\n\u001b[1;32m   3155\u001b[0m     \u001b[0;32mif\u001b[0m \u001b[0minput\u001b[0m\u001b[0;34m.\u001b[0m\u001b[0mdim\u001b[0m\u001b[0;34m(\u001b[0m\u001b[0;34m)\u001b[0m \u001b[0;34m==\u001b[0m \u001b[0;36m4\u001b[0m \u001b[0;32mand\u001b[0m \u001b[0mmode\u001b[0m \u001b[0;34m==\u001b[0m \u001b[0;34m'bicubic'\u001b[0m\u001b[0;34m:\u001b[0m\u001b[0;34m\u001b[0m\u001b[0;34m\u001b[0m\u001b[0m\n\u001b[1;32m   3156\u001b[0m         \u001b[0;32massert\u001b[0m \u001b[0malign_corners\u001b[0m \u001b[0;32mis\u001b[0m \u001b[0;32mnot\u001b[0m \u001b[0;32mNone\u001b[0m\u001b[0;34m\u001b[0m\u001b[0;34m\u001b[0m\u001b[0m\n\u001b[0;32m-> 3157\u001b[0;31m         \u001b[0;32mreturn\u001b[0m \u001b[0mtorch\u001b[0m\u001b[0;34m.\u001b[0m\u001b[0m_C\u001b[0m\u001b[0;34m.\u001b[0m\u001b[0m_nn\u001b[0m\u001b[0;34m.\u001b[0m\u001b[0mupsample_bicubic2d\u001b[0m\u001b[0;34m(\u001b[0m\u001b[0minput\u001b[0m\u001b[0;34m,\u001b[0m \u001b[0moutput_size\u001b[0m\u001b[0;34m,\u001b[0m \u001b[0malign_corners\u001b[0m\u001b[0;34m,\u001b[0m \u001b[0mscale_factors\u001b[0m\u001b[0;34m)\u001b[0m\u001b[0;34m\u001b[0m\u001b[0;34m\u001b[0m\u001b[0m\n\u001b[0m\u001b[1;32m   3158\u001b[0m \u001b[0;34m\u001b[0m\u001b[0m\n\u001b[1;32m   3159\u001b[0m     \u001b[0;32mif\u001b[0m \u001b[0minput\u001b[0m\u001b[0;34m.\u001b[0m\u001b[0mdim\u001b[0m\u001b[0;34m(\u001b[0m\u001b[0;34m)\u001b[0m \u001b[0;34m==\u001b[0m \u001b[0;36m3\u001b[0m \u001b[0;32mand\u001b[0m \u001b[0mmode\u001b[0m \u001b[0;34m==\u001b[0m \u001b[0;34m'bilinear'\u001b[0m\u001b[0;34m:\u001b[0m\u001b[0;34m\u001b[0m\u001b[0;34m\u001b[0m\u001b[0m\n",
            "\u001b[0;31mKeyboardInterrupt\u001b[0m: "
          ]
        }
      ]
    },
    {
      "cell_type": "code",
      "metadata": {
        "id": "35F5BHhG8Alt"
      },
      "source": [
        "class Net(nn.Module):\r\n",
        "    def __init__(self):\r\n",
        "        super().__init__()\r\n",
        "        self.conv1 = nn.Conv2d(in_channels=3, out_channels=32, kernel_size=3, stride=2, padding=1)\r\n",
        "        self.conv2 = nn.Conv2d(in_channels=32, out_channels=64, kernel_size=3, stride=2, padding=1)\r\n",
        "        self.conv3 = nn.Conv2d(in_channels=64, out_channels=128, kernel_size=3, stride=2)\r\n",
        "        self.relu = nn.ReLU()\r\n",
        "        self.pool = nn.MaxPool2d(2)\r\n",
        "        self.lstm = nn.LSTM(input_size=128, hidden_size=128, batch_first=True)\r\n",
        "        self.fc1 = nn.Linear(128, 32)\r\n",
        "        self.fc2 = nn.Linear(32, 3)\r\n",
        "\r\n",
        "    def forward(self, x):\r\n",
        "        x = self.conv1(x)\r\n",
        "        x = self.relu(x)\r\n",
        "        x = self.pool(x)\r\n",
        "\r\n",
        "        x = self.conv2(x)\r\n",
        "        x = self.relu(x)\r\n",
        "        x = self.pool(x)\r\n",
        "\r\n",
        "        x = self.conv3(x)\r\n",
        "        x = self.relu(x)\r\n",
        "        x = self.pool(x)\r\n",
        "\r\n",
        "        x = x.view(1, 32, 128)\r\n",
        "        x, _ = self.lstm(x)\r\n",
        "        x = x[:,-1,:]\r\n",
        "        x = self.fc1(x)\r\n",
        "        x = self.relu(x)\r\n",
        "        x = self.fc2(x)\r\n",
        "\r\n",
        "        return x"
      ],
      "execution_count": null,
      "outputs": []
    }
  ]
}