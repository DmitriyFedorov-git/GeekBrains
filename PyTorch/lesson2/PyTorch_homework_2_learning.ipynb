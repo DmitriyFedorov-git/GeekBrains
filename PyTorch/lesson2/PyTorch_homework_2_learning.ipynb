{
  "nbformat": 4,
  "nbformat_minor": 0,
  "metadata": {
    "colab": {
      "name": "PyTorch_homework_2_learning.ipynb",
      "provenance": [],
      "collapsed_sections": []
    },
    "kernelspec": {
      "name": "python3",
      "display_name": "Python 3"
    }
  },
  "cells": [
    {
      "cell_type": "markdown",
      "metadata": {
        "id": "RQhqcxKOs3Ej"
      },
      "source": [
        "# Домашнее задание №2"
      ]
    },
    {
      "cell_type": "markdown",
      "metadata": {
        "id": "8Xz0dhLt7Bm2"
      },
      "source": [
        "## 2. Построить график зависимости от количества кадров в последовательности (уменьшать и увеличивать)"
      ]
    },
    {
      "cell_type": "markdown",
      "metadata": {
        "id": "viF0ormy6qBr"
      },
      "source": [
        "### Определение классов и функций"
      ]
    },
    {
      "cell_type": "code",
      "metadata": {
        "id": "Sybt0p_-AlsV"
      },
      "source": [
        "!cp /content/drive/MyDrive/skeletons_20_frames.csv /content/\n",
        "!cp /content/drive/MyDrive/skeletons_40_frames.csv /content/\n",
        "!cp /content/drive/MyDrive/skeletons_60_frames.csv /content/"
      ],
      "execution_count": 5,
      "outputs": []
    },
    {
      "cell_type": "code",
      "metadata": {
        "colab": {
          "base_uri": "https://localhost:8080/"
        },
        "id": "617JPxzjsvDs",
        "outputId": "b14b8f34-ce5e-47ec-f5c2-31d429ff0980"
      },
      "source": [
        "import torch\n",
        "from torch import nn\n",
        "import numpy as np\n",
        "import matplotlib.pyplot as plt\n",
        "import pandas as pd\n",
        "\n",
        "use_cuda = torch.cuda.is_available()\n",
        "# device = torch.device(\"cpu\")\n",
        "device = torch.device('cuda') if torch.cuda.is_available() else torch.device('cpu')\n",
        "print(device)"
      ],
      "execution_count": 6,
      "outputs": [
        {
          "output_type": "stream",
          "text": [
            "cpu\n"
          ],
          "name": "stdout"
        }
      ]
    },
    {
      "cell_type": "code",
      "metadata": {
        "id": "EtKyDAuDuReo"
      },
      "source": [
        "from torch.utils.data import DataLoader, Dataset"
      ],
      "execution_count": 7,
      "outputs": []
    },
    {
      "cell_type": "code",
      "metadata": {
        "id": "ZHNKs5oCtL-O"
      },
      "source": [
        "class LSTM_net(nn.Module):\n",
        "    def __init__(self,input_dim,hidden_dim,output_dim,layer_num):\n",
        "        super().__init__()\n",
        "        self.hidden_dim = hidden_dim\n",
        "        self.output_dim = output_dim\n",
        "        self.lstm = torch.nn.LSTM(input_dim, hidden_dim,layer_num,batch_first=True)\n",
        "        self.dr = torch.nn.Dropout2d(0.1)\n",
        "        self.fc = torch.nn.Linear(hidden_dim,output_dim)\n",
        "        \n",
        "        \n",
        "    def forward(self,inputs):\n",
        "        x = inputs\n",
        "        lstm_out,(hn,cn) = self.lstm(x)\n",
        "        out = self.fc(lstm_out[:,-1,:])\n",
        "        return out"
      ],
      "execution_count": 8,
      "outputs": []
    },
    {
      "cell_type": "code",
      "metadata": {
        "id": "N-eGkHgUveoo"
      },
      "source": [
        "LABELS = {0: \"cheer up\", 1: \"jump up\", 2:  \"hand waving\", 3: \"sitting down\", 4: \"clapping\", 5:\"erg\"}"
      ],
      "execution_count": 9,
      "outputs": []
    },
    {
      "cell_type": "code",
      "metadata": {
        "id": "DaKC2QiktUp2"
      },
      "source": [
        "skeletons_20 = pd.read_csv(\"skeletons_20_frames.csv\")\n",
        "#skeletons_30_frames = pd.read_csv(\"skeletons_30_frames.csv\")\n",
        "skeletons_40 = pd.read_csv(\"skeletons_40_frames.csv\")\n",
        "#skeletons_50_frames = pd.read_csv(\"skeletons_50_frames.csv\")\n",
        "skeletons_60 = pd.read_csv(\"skeletons_60_frames.csv\")"
      ],
      "execution_count": 10,
      "outputs": []
    },
    {
      "cell_type": "code",
      "metadata": {
        "id": "HOb6lK7zt94K"
      },
      "source": [
        "class Skeleton_Dataset(Dataset):\n",
        "    def __init__(self, file_path, frames, transform=None):\n",
        "        self.data = pd.read_csv(file_path)\n",
        "        self.transform = transform\n",
        "        self.labels = self.data.iloc[:,-1]\n",
        "        self.transform = transform\n",
        "        self.frames = frames\n",
        "\n",
        "\n",
        "    def __len__(self):\n",
        "        return len(self.data) \n",
        "    \n",
        "    \n",
        "    def __getitem__(self, idx):\n",
        "        item = np.asarray(self.data.iloc[idx,:-1]).reshape(self.frames, 75)\n",
        "        label = self.labels[idx]\n",
        "        if self.transform != None:\n",
        "            item = transform(item)\n",
        "        return (item, label) "
      ],
      "execution_count": 18,
      "outputs": []
    },
    {
      "cell_type": "code",
      "metadata": {
        "colab": {
          "base_uri": "https://localhost:8080/"
        },
        "id": "yyQP0_1G6NXx",
        "outputId": "b64c5185-2584-4b99-aed3-cc91f58da712"
      },
      "source": [
        "n_hidden = 128\n",
        "n_joints = 25*3\n",
        "n_categories = len(LABELS)\n",
        "n_layer = 2\n",
        "rnn = LSTM_net(n_joints,n_hidden,n_categories,n_layer)\n",
        "rnn.to(device)"
      ],
      "execution_count": 19,
      "outputs": [
        {
          "output_type": "execute_result",
          "data": {
            "text/plain": [
              "LSTM_net(\n",
              "  (lstm): LSTM(75, 128, num_layers=2, batch_first=True)\n",
              "  (dr): Dropout2d(p=0.1, inplace=False)\n",
              "  (fc): Linear(in_features=128, out_features=6, bias=True)\n",
              ")"
            ]
          },
          "metadata": {
            "tags": []
          },
          "execution_count": 19
        }
      ]
    },
    {
      "cell_type": "code",
      "metadata": {
        "id": "OiS5x33_6Rfl"
      },
      "source": [
        "def categoryFromOutput(output):\n",
        "    top_n, top_i = output.topk(1)\n",
        "    category_i = top_i[0].item()\n",
        "#     print(output.topk(5))\n",
        "    return LABELS[category_i], category_i\n",
        "\n",
        "def timeSince(since):\n",
        "    now = time.time()\n",
        "    s = now - since\n",
        "    m = math.floor(s / 60)\n",
        "    s -= m * 60\n",
        "    return '%dm %ds' % (m, s)"
      ],
      "execution_count": 20,
      "outputs": []
    },
    {
      "cell_type": "markdown",
      "metadata": {
        "id": "wEfDlm2255Ov"
      },
      "source": [
        "### Запуск на 20-кадровых данных"
      ]
    },
    {
      "cell_type": "code",
      "metadata": {
        "id": "u3I0YJQ3uM2P"
      },
      "source": [
        "skeletons_20_frames = Skeleton_Dataset(file_path = \"skeletons_20_frames.csv\", frames=20, transform=None)\n",
        "skeletons_40_frames = Skeleton_Dataset(file_path = \"skeletons_40_frames.csv\", frames=40, transform=None)\n",
        "skeletons_60_frames = Skeleton_Dataset(file_path = \"skeletons_60_frames.csv\", frames=60, transform=None)"
      ],
      "execution_count": 21,
      "outputs": []
    },
    {
      "cell_type": "code",
      "metadata": {
        "colab": {
          "base_uri": "https://localhost:8080/"
        },
        "id": "RRTGHSfpuhXv",
        "outputId": "1b4174b3-02d3-4e21-c465-d2572d401ea8"
      },
      "source": [
        "skel, lab = skeletons_20_frames.__getitem__(41)\n",
        "skel.shape"
      ],
      "execution_count": 22,
      "outputs": [
        {
          "output_type": "execute_result",
          "data": {
            "text/plain": [
              "(20, 75)"
            ]
          },
          "metadata": {
            "tags": []
          },
          "execution_count": 22
        }
      ]
    },
    {
      "cell_type": "code",
      "metadata": {
        "colab": {
          "base_uri": "https://localhost:8080/"
        },
        "id": "XHK9GIVwFrQH",
        "outputId": "66562265-1dbd-490c-de8c-191250708449"
      },
      "source": [
        "skel, lab = skeletons_40_frames.__getitem__(41)\n",
        "skel.shape"
      ],
      "execution_count": 23,
      "outputs": [
        {
          "output_type": "execute_result",
          "data": {
            "text/plain": [
              "(40, 75)"
            ]
          },
          "metadata": {
            "tags": []
          },
          "execution_count": 23
        }
      ]
    },
    {
      "cell_type": "code",
      "metadata": {
        "colab": {
          "base_uri": "https://localhost:8080/"
        },
        "id": "jGxHsF1OFuSl",
        "outputId": "18949dea-3ebe-4f9d-91ec-a4e3b20a4847"
      },
      "source": [
        "skel, lab = skeletons_60_frames.__getitem__(41)\n",
        "skel.shape"
      ],
      "execution_count": 24,
      "outputs": [
        {
          "output_type": "execute_result",
          "data": {
            "text/plain": [
              "(60, 75)"
            ]
          },
          "metadata": {
            "tags": []
          },
          "execution_count": 24
        }
      ]
    },
    {
      "cell_type": "code",
      "metadata": {
        "colab": {
          "base_uri": "https://localhost:8080/"
        },
        "id": "7hthXg08u97f",
        "outputId": "7ec93004-5454-4447-b94d-38930714d28b"
      },
      "source": [
        "int(0.75*len(skeletons_20_frames))"
      ],
      "execution_count": 25,
      "outputs": [
        {
          "output_type": "execute_result",
          "data": {
            "text/plain": [
              "689"
            ]
          },
          "metadata": {
            "tags": []
          },
          "execution_count": 25
        }
      ]
    },
    {
      "cell_type": "code",
      "metadata": {
        "colab": {
          "base_uri": "https://localhost:8080/"
        },
        "id": "7sq_UrhHvCfN",
        "outputId": "65ec3d73-a8ac-4983-8267-e7bc7e4bcb86"
      },
      "source": [
        "int(0.25*len(skeletons_20_frames))"
      ],
      "execution_count": 26,
      "outputs": [
        {
          "output_type": "execute_result",
          "data": {
            "text/plain": [
              "229"
            ]
          },
          "metadata": {
            "tags": []
          },
          "execution_count": 26
        }
      ]
    },
    {
      "cell_type": "code",
      "metadata": {
        "colab": {
          "base_uri": "https://localhost:8080/"
        },
        "id": "opU3qmc7vGeA",
        "outputId": "1a3ada02-3b1f-4001-b9e5-86b3cfd78314"
      },
      "source": [
        "len(skeletons_20_frames)"
      ],
      "execution_count": 27,
      "outputs": [
        {
          "output_type": "execute_result",
          "data": {
            "text/plain": [
              "919"
            ]
          },
          "metadata": {
            "tags": []
          },
          "execution_count": 27
        }
      ]
    },
    {
      "cell_type": "code",
      "metadata": {
        "id": "iygZ7llkun_P"
      },
      "source": [
        "train_dataset, test_dataset = torch.utils.data.random_split(skeletons_20_frames, \n",
        "                                                            [int(0.75*len(skeletons_20_frames))+1,\n",
        "                                                             int(0.25*len(skeletons_20_frames))])\n",
        "train_loader = DataLoader(train_dataset, batch_size = 16, shuffle=True)\n",
        "test_loader = DataLoader(test_dataset, batch_size = 1, shuffle=True)"
      ],
      "execution_count": 28,
      "outputs": []
    },
    {
      "cell_type": "code",
      "metadata": {
        "colab": {
          "base_uri": "https://localhost:8080/"
        },
        "id": "u1M9S4VVvrDI",
        "outputId": "b1f6294b-108e-44c4-d580-0f234747adb4"
      },
      "source": [
        "from torch import optim\n",
        "import time\n",
        "import math\n",
        "\n",
        "criterion = nn.CrossEntropyLoss()\n",
        "learning_rate = 0.0007\n",
        "optimizer = optim.SGD(rnn.parameters(),lr=learning_rate,momentum=0.9)\n",
        "\n",
        "all_losses_20 = []\n",
        "start = time.time()\n",
        "counter = 0\n",
        "for epoch in range(600):  \n",
        "    current_loss = 0\n",
        "    running_loss = 0.0\n",
        "    for i, data in enumerate(train_loader, 0):\n",
        "        \n",
        "        inputs, labels = data[0].to(device), data[1].to(device)\n",
        "        optimizer.zero_grad()\n",
        "    \n",
        "        output = rnn(inputs.float())\n",
        "        loss = criterion(output, labels)\n",
        "        loss.backward()\n",
        "        optimizer.step() \n",
        "\n",
        "\n",
        "        current_loss += loss.item()\n",
        "        category = LABELS[int(labels[0])]\n",
        "\n",
        "        if counter % 500 == 0:\n",
        "            guess, guess_i = categoryFromOutput(output)\n",
        "            correct = '✓' if guess == category else '✗ (%s)' % category\n",
        "            print('epoch : %d iter : %d (%s) %.4f  / %s %s' % (epoch, i, timeSince(start), loss, guess, correct))\n",
        "\n",
        "        \n",
        "        counter = counter + 1\n",
        "    if counter % 100 == 0:\n",
        "        all_losses_20.append(current_loss / 25)\n",
        "        current_loss = 0\n",
        "    "
      ],
      "execution_count": 30,
      "outputs": [
        {
          "output_type": "stream",
          "text": [
            "epoch : 0 iter : 0 (0m 0s) 1.7750  / erg ✗ (jump up)\n",
            "epoch : 11 iter : 16 (0m 20s) 1.7509  / cheer up ✗ (sitting down)\n",
            "epoch : 22 iter : 32 (0m 40s) 1.7672  / sitting down ✗ (erg)\n",
            "epoch : 34 iter : 4 (1m 0s) 1.7015  / cheer up ✗ (sitting down)\n",
            "epoch : 45 iter : 20 (1m 20s) 1.3610  / sitting down ✗ (jump up)\n",
            "epoch : 56 iter : 36 (1m 40s) 1.5362  / clapping ✓\n",
            "epoch : 68 iter : 8 (2m 0s) 1.2955  / clapping ✓\n",
            "epoch : 79 iter : 24 (2m 20s) 0.9312  / clapping ✓\n",
            "epoch : 90 iter : 40 (2m 40s) 1.1711  / erg ✓\n",
            "epoch : 102 iter : 12 (3m 0s) 1.5251  / erg ✗ (clapping)\n",
            "epoch : 113 iter : 28 (3m 20s) 1.5481  / jump up ✗ (cheer up)\n",
            "epoch : 125 iter : 0 (3m 40s) 1.2394  / jump up ✗ (sitting down)\n",
            "epoch : 136 iter : 16 (4m 0s) 0.6877  / erg ✗ (cheer up)\n",
            "epoch : 147 iter : 32 (4m 20s) 0.7654  / clapping ✓\n",
            "epoch : 159 iter : 4 (4m 40s) 0.8650  / cheer up ✓\n",
            "epoch : 170 iter : 20 (5m 0s) 1.0613  / cheer up ✓\n",
            "epoch : 181 iter : 36 (5m 20s) 0.9079  / sitting down ✓\n",
            "epoch : 193 iter : 8 (5m 40s) 0.8412  / sitting down ✓\n",
            "epoch : 204 iter : 24 (6m 0s) 1.1119  / clapping ✗ (hand waving)\n",
            "epoch : 215 iter : 40 (6m 21s) 0.5834  / jump up ✓\n",
            "epoch : 227 iter : 12 (6m 41s) 1.6944  / clapping ✓\n",
            "epoch : 238 iter : 28 (7m 1s) 1.2008  / sitting down ✓\n",
            "epoch : 250 iter : 0 (7m 21s) 0.7814  / hand waving ✓\n",
            "epoch : 261 iter : 16 (7m 41s) 0.9127  / cheer up ✗ (erg)\n",
            "epoch : 272 iter : 32 (8m 1s) 0.7591  / erg ✓\n",
            "epoch : 284 iter : 4 (8m 21s) 1.1581  / jump up ✓\n",
            "epoch : 295 iter : 20 (8m 42s) 0.8766  / clapping ✓\n",
            "epoch : 306 iter : 36 (9m 2s) 0.9779  / cheer up ✓\n",
            "epoch : 318 iter : 8 (9m 22s) 0.8115  / hand waving ✓\n",
            "epoch : 329 iter : 24 (9m 42s) 0.2669  / clapping ✓\n",
            "epoch : 340 iter : 40 (10m 2s) 0.7726  / clapping ✓\n",
            "epoch : 352 iter : 12 (10m 22s) 0.5290  / cheer up ✓\n",
            "epoch : 363 iter : 28 (10m 42s) 0.6614  / erg ✓\n",
            "epoch : 375 iter : 0 (11m 2s) 0.8854  / cheer up ✗ (hand waving)\n",
            "epoch : 386 iter : 16 (11m 22s) 0.2851  / clapping ✓\n",
            "epoch : 397 iter : 32 (11m 42s) 0.3800  / jump up ✓\n",
            "epoch : 409 iter : 4 (12m 2s) 0.1377  / clapping ✓\n",
            "epoch : 420 iter : 20 (12m 22s) 0.4637  / cheer up ✓\n",
            "epoch : 431 iter : 36 (12m 43s) 0.7569  / sitting down ✗ (hand waving)\n",
            "epoch : 443 iter : 8 (13m 3s) 0.6757  / erg ✗ (sitting down)\n",
            "epoch : 454 iter : 24 (13m 23s) 0.4132  / jump up ✓\n",
            "epoch : 465 iter : 40 (13m 43s) 0.6544  / clapping ✗ (hand waving)\n",
            "epoch : 477 iter : 12 (14m 3s) 0.7023  / erg ✓\n",
            "epoch : 488 iter : 28 (14m 23s) 0.2524  / cheer up ✓\n",
            "epoch : 500 iter : 0 (14m 43s) 0.6070  / sitting down ✗ (hand waving)\n",
            "epoch : 511 iter : 16 (15m 2s) 0.5133  / cheer up ✓\n",
            "epoch : 522 iter : 32 (15m 22s) 0.3420  / erg ✗ (clapping)\n",
            "epoch : 534 iter : 4 (15m 42s) 0.5616  / hand waving ✓\n",
            "epoch : 545 iter : 20 (16m 3s) 0.1806  / clapping ✓\n",
            "epoch : 556 iter : 36 (16m 23s) 0.1553  / erg ✓\n",
            "epoch : 568 iter : 8 (16m 42s) 0.3097  / clapping ✓\n",
            "epoch : 579 iter : 24 (17m 2s) 0.4912  / clapping ✓\n",
            "epoch : 590 iter : 40 (17m 22s) 0.7403  / erg ✓\n"
          ],
          "name": "stdout"
        }
      ]
    },
    {
      "cell_type": "markdown",
      "metadata": {
        "id": "a91SswAU6VFS"
      },
      "source": [
        "### Запуск на 40-кадровых данных"
      ]
    },
    {
      "cell_type": "code",
      "metadata": {
        "colab": {
          "base_uri": "https://localhost:8080/"
        },
        "id": "k34pbEV3MPkw",
        "outputId": "65130c98-b11d-49fd-9e1d-c05149b4d68a"
      },
      "source": [
        "n_hidden = 128\n",
        "n_joints = 25*3\n",
        "n_categories = len(LABELS)\n",
        "n_layer = 2\n",
        "rnn = LSTM_net(n_joints,n_hidden,n_categories,n_layer)\n",
        "rnn.to(device)"
      ],
      "execution_count": 38,
      "outputs": [
        {
          "output_type": "execute_result",
          "data": {
            "text/plain": [
              "LSTM_net(\n",
              "  (lstm): LSTM(75, 128, num_layers=2, batch_first=True)\n",
              "  (dr): Dropout2d(p=0.1, inplace=False)\n",
              "  (fc): Linear(in_features=128, out_features=6, bias=True)\n",
              ")"
            ]
          },
          "metadata": {
            "tags": []
          },
          "execution_count": 38
        }
      ]
    },
    {
      "cell_type": "code",
      "metadata": {
        "id": "j_1_RBZQ7nnu"
      },
      "source": [
        "train_dataset, test_dataset = torch.utils.data.random_split(skeletons_40_frames, \n",
        "                                                            [int(0.75*len(skeletons_40_frames)),\n",
        "                                                             int(0.25*len(skeletons_40_frames))])\n",
        "train_loader = DataLoader(train_dataset, batch_size = 16, shuffle=True)\n",
        "test_loader = DataLoader(test_dataset, batch_size = 1, shuffle=True)"
      ],
      "execution_count": 36,
      "outputs": []
    },
    {
      "cell_type": "code",
      "metadata": {
        "colab": {
          "base_uri": "https://localhost:8080/"
        },
        "id": "EADgQX1NLw31",
        "outputId": "6a7660ed-36b2-4518-85a6-90c11f268bf1"
      },
      "source": [
        "from torch import optim\n",
        "import time\n",
        "import math\n",
        "\n",
        "criterion = nn.CrossEntropyLoss()\n",
        "learning_rate = 0.0007\n",
        "optimizer = optim.SGD(rnn.parameters(),lr=learning_rate,momentum=0.9)\n",
        "\n",
        "all_losses_40 = []\n",
        "start = time.time()\n",
        "counter = 0\n",
        "for epoch in range(600):  \n",
        "    current_loss = 0\n",
        "    running_loss = 0.0\n",
        "    for i, data in enumerate(train_loader, 0):\n",
        "        \n",
        "        inputs, labels = data[0].to(device), data[1].to(device)\n",
        "        optimizer.zero_grad()\n",
        "    \n",
        "        output = rnn(inputs.float())\n",
        "        loss = criterion(output, labels)\n",
        "        loss.backward()\n",
        "        optimizer.step() \n",
        "\n",
        "\n",
        "        current_loss += loss.item()\n",
        "        category = LABELS[int(labels[0])]\n",
        "\n",
        "        if counter % 500 == 0:\n",
        "            guess, guess_i = categoryFromOutput(output)\n",
        "            correct = '✓' if guess == category else '✗ (%s)' % category\n",
        "            print('epoch : %d iter : %d (%s) %.4f  / %s %s' % (epoch, i, timeSince(start), loss, guess, correct))\n",
        "\n",
        "        \n",
        "        counter = counter + 1\n",
        "    if counter % 100 == 0:\n",
        "        all_losses_40.append(current_loss / 25)\n",
        "        current_loss = 0\n",
        "    "
      ],
      "execution_count": 37,
      "outputs": [
        {
          "output_type": "stream",
          "text": [
            "epoch : 0 iter : 0 (0m 0s) 1.7927  / hand waving ✗ (cheer up)\n",
            "epoch : 11 iter : 38 (0m 38s) 1.7467  / sitting down ✓\n",
            "epoch : 23 iter : 34 (1m 16s) 1.4825  / cheer up ✓\n",
            "epoch : 35 iter : 30 (1m 53s) 1.3487  / cheer up ✓\n",
            "epoch : 47 iter : 26 (2m 31s) 1.6452  / sitting down ✗ (erg)\n",
            "epoch : 59 iter : 22 (3m 9s) 1.0612  / cheer up ✓\n",
            "epoch : 71 iter : 18 (3m 47s) 0.8035  / erg ✓\n",
            "epoch : 83 iter : 14 (4m 25s) 1.0294  / cheer up ✗ (hand waving)\n",
            "epoch : 95 iter : 10 (5m 2s) 0.9609  / erg ✓\n",
            "epoch : 107 iter : 6 (5m 40s) 0.9349  / jump up ✓\n",
            "epoch : 119 iter : 2 (6m 17s) 0.8616  / hand waving ✗ (jump up)\n",
            "epoch : 130 iter : 40 (6m 55s) 0.7050  / hand waving ✗ (sitting down)\n",
            "epoch : 142 iter : 36 (7m 32s) 0.8558  / jump up ✓\n",
            "epoch : 154 iter : 32 (8m 9s) 0.7100  / clapping ✓\n",
            "epoch : 166 iter : 28 (8m 47s) 0.3470  / clapping ✓\n",
            "epoch : 178 iter : 24 (9m 25s) 1.0009  / clapping ✓\n",
            "epoch : 190 iter : 20 (10m 2s) 0.5939  / sitting down ✓\n",
            "epoch : 202 iter : 16 (10m 39s) 0.9310  / hand waving ✗ (erg)\n",
            "epoch : 214 iter : 12 (11m 16s) 0.7859  / jump up ✓\n",
            "epoch : 238 iter : 4 (12m 31s) 0.2376  / jump up ✓\n",
            "epoch : 250 iter : 0 (13m 8s) 0.3808  / jump up ✓\n",
            "epoch : 261 iter : 38 (13m 45s) 0.7029  / hand waving ✗ (cheer up)\n",
            "epoch : 273 iter : 34 (14m 22s) 0.4039  / erg ✓\n",
            "epoch : 285 iter : 30 (14m 59s) 0.7101  / clapping ✗ (sitting down)\n",
            "epoch : 297 iter : 26 (15m 37s) 0.1543  / clapping ✓\n",
            "epoch : 309 iter : 22 (16m 14s) 0.5297  / clapping ✓\n",
            "epoch : 321 iter : 18 (16m 51s) 0.5870  / erg ✓\n",
            "epoch : 333 iter : 14 (17m 29s) 0.4617  / hand waving ✓\n",
            "epoch : 345 iter : 10 (18m 6s) 0.6855  / cheer up ✓\n",
            "epoch : 357 iter : 6 (18m 43s) 0.2902  / jump up ✓\n",
            "epoch : 369 iter : 2 (19m 21s) 0.1712  / sitting down ✓\n",
            "epoch : 380 iter : 40 (19m 58s) 0.4217  / hand waving ✓\n",
            "epoch : 392 iter : 36 (20m 35s) 0.6264  / erg ✓\n",
            "epoch : 404 iter : 32 (21m 12s) 0.3806  / sitting down ✓\n",
            "epoch : 416 iter : 28 (21m 49s) 0.3958  / sitting down ✓\n",
            "epoch : 428 iter : 24 (22m 26s) 0.0340  / sitting down ✓\n",
            "epoch : 440 iter : 20 (23m 3s) 0.1438  / erg ✓\n",
            "epoch : 452 iter : 16 (23m 40s) 0.4745  / clapping ✗ (hand waving)\n",
            "epoch : 464 iter : 12 (24m 18s) 0.2933  / clapping ✓\n",
            "epoch : 476 iter : 8 (24m 55s) 0.1783  / clapping ✓\n",
            "epoch : 488 iter : 4 (25m 32s) 0.6729  / jump up ✓\n",
            "epoch : 500 iter : 0 (26m 10s) 0.1258  / jump up ✗ (cheer up)\n",
            "epoch : 511 iter : 38 (26m 47s) 0.5239  / jump up ✓\n",
            "epoch : 523 iter : 34 (27m 24s) 0.0483  / hand waving ✓\n",
            "epoch : 535 iter : 30 (28m 1s) 0.1772  / erg ✓\n",
            "epoch : 547 iter : 26 (28m 39s) 0.0773  / sitting down ✓\n",
            "epoch : 559 iter : 22 (29m 16s) 0.1050  / erg ✓\n",
            "epoch : 571 iter : 18 (29m 53s) 0.3097  / sitting down ✓\n",
            "epoch : 583 iter : 14 (30m 31s) 0.1899  / erg ✓\n",
            "epoch : 595 iter : 10 (31m 8s) 0.1272  / clapping ✓\n"
          ],
          "name": "stdout"
        }
      ]
    },
    {
      "cell_type": "markdown",
      "metadata": {
        "id": "Tqtg3RA66bP_"
      },
      "source": [
        "### Запуск на 60-кадровых данных"
      ]
    },
    {
      "cell_type": "code",
      "metadata": {
        "colab": {
          "base_uri": "https://localhost:8080/"
        },
        "id": "T5HxQyo4SZ00",
        "outputId": "66c132cf-0a96-4a32-e04b-398d6878241a"
      },
      "source": [
        "n_hidden = 128\n",
        "n_joints = 25*3\n",
        "n_categories = len(LABELS)\n",
        "n_layer = 2\n",
        "rnn = LSTM_net(n_joints,n_hidden,n_categories,n_layer)\n",
        "rnn.to(device)"
      ],
      "execution_count": 40,
      "outputs": [
        {
          "output_type": "execute_result",
          "data": {
            "text/plain": [
              "LSTM_net(\n",
              "  (lstm): LSTM(75, 128, num_layers=2, batch_first=True)\n",
              "  (dr): Dropout2d(p=0.1, inplace=False)\n",
              "  (fc): Linear(in_features=128, out_features=6, bias=True)\n",
              ")"
            ]
          },
          "metadata": {
            "tags": []
          },
          "execution_count": 40
        }
      ]
    },
    {
      "cell_type": "code",
      "metadata": {
        "colab": {
          "base_uri": "https://localhost:8080/"
        },
        "id": "oFmev-kJSazR",
        "outputId": "a428457f-4d74-49a9-c1f2-ce1c00b37cb7"
      },
      "source": [
        "from torch import optim\n",
        "import time\n",
        "import math\n",
        "\n",
        "criterion = nn.CrossEntropyLoss()\n",
        "learning_rate = 0.0007\n",
        "optimizer = optim.SGD(rnn.parameters(),lr=learning_rate,momentum=0.9)\n",
        "\n",
        "all_losses_60 = []\n",
        "start = time.time()\n",
        "counter = 0\n",
        "for epoch in range(600):  \n",
        "    current_loss = 0\n",
        "    running_loss = 0.0\n",
        "    for i, data in enumerate(train_loader, 0):\n",
        "        \n",
        "        inputs, labels = data[0].to(device), data[1].to(device)\n",
        "        optimizer.zero_grad()\n",
        "    \n",
        "        output = rnn(inputs.float())\n",
        "        loss = criterion(output, labels)\n",
        "        loss.backward()\n",
        "        optimizer.step() \n",
        "\n",
        "\n",
        "        current_loss += loss.item()\n",
        "        category = LABELS[int(labels[0])]\n",
        "\n",
        "        if counter % 500 == 0:\n",
        "            guess, guess_i = categoryFromOutput(output)\n",
        "            correct = '✓' if guess == category else '✗ (%s)' % category\n",
        "            print('epoch : %d iter : %d (%s) %.4f  / %s %s' % (epoch, i, timeSince(start), loss, guess, correct))\n",
        "\n",
        "        \n",
        "        counter = counter + 1\n",
        "    if counter % 100 == 0:\n",
        "        all_losses_60.append(current_loss / 25)\n",
        "        current_loss = 0"
      ],
      "execution_count": 41,
      "outputs": [
        {
          "output_type": "stream",
          "text": [
            "epoch : 0 iter : 0 (0m 0s) 1.7804  / clapping ✗ (jump up)\n",
            "epoch : 11 iter : 38 (0m 37s) 1.7551  / hand waving ✗ (sitting down)\n",
            "epoch : 23 iter : 34 (1m 14s) 1.7277  / cheer up ✗ (clapping)\n",
            "epoch : 35 iter : 30 (1m 52s) 1.6438  / cheer up ✗ (hand waving)\n",
            "epoch : 47 iter : 26 (2m 29s) 1.3784  / sitting down ✗ (jump up)\n",
            "epoch : 59 iter : 22 (3m 7s) 1.0787  / clapping ✓\n",
            "epoch : 71 iter : 18 (3m 44s) 1.2384  / jump up ✗ (hand waving)\n",
            "epoch : 83 iter : 14 (4m 22s) 0.5112  / cheer up ✗ (erg)\n",
            "epoch : 95 iter : 10 (4m 59s) 0.6709  / cheer up ✓\n",
            "epoch : 107 iter : 6 (5m 37s) 1.1044  / cheer up ✓\n",
            "epoch : 119 iter : 2 (6m 14s) 0.6700  / sitting down ✓\n",
            "epoch : 130 iter : 40 (6m 51s) 1.0030  / cheer up ✓\n",
            "epoch : 142 iter : 36 (7m 29s) 0.5108  / jump up ✗ (hand waving)\n",
            "epoch : 154 iter : 32 (8m 6s) 0.7226  / sitting down ✓\n",
            "epoch : 166 iter : 28 (8m 43s) 0.8443  / clapping ✗ (hand waving)\n",
            "epoch : 178 iter : 24 (9m 21s) 0.5942  / cheer up ✓\n",
            "epoch : 190 iter : 20 (9m 58s) 0.6175  / jump up ✓\n",
            "epoch : 202 iter : 16 (10m 35s) 0.6197  / clapping ✓\n",
            "epoch : 214 iter : 12 (11m 12s) 1.3853  / clapping ✓\n",
            "epoch : 226 iter : 8 (11m 50s) 0.8207  / cheer up ✗ (jump up)\n",
            "epoch : 238 iter : 4 (12m 27s) 0.6050  / jump up ✓\n",
            "epoch : 250 iter : 0 (13m 4s) 0.5715  / sitting down ✓\n",
            "epoch : 261 iter : 38 (13m 42s) 0.5421  / hand waving ✓\n",
            "epoch : 273 iter : 34 (14m 20s) 1.3573  / clapping ✓\n",
            "epoch : 285 iter : 30 (14m 58s) 0.8768  / jump up ✓\n",
            "epoch : 297 iter : 26 (15m 35s) 0.1877  / jump up ✓\n",
            "epoch : 309 iter : 22 (16m 12s) 1.0123  / jump up ✓\n",
            "epoch : 321 iter : 18 (16m 50s) 0.8995  / hand waving ✗ (erg)\n",
            "epoch : 333 iter : 14 (17m 27s) 0.8120  / clapping ✓\n",
            "epoch : 345 iter : 10 (18m 4s) 0.6546  / jump up ✓\n",
            "epoch : 357 iter : 6 (18m 42s) 0.0796  / cheer up ✓\n",
            "epoch : 369 iter : 2 (19m 19s) 0.7255  / erg ✓\n",
            "epoch : 380 iter : 40 (19m 57s) 0.8666  / cheer up ✓\n",
            "epoch : 392 iter : 36 (20m 34s) 0.6182  / hand waving ✓\n",
            "epoch : 404 iter : 32 (21m 11s) 0.4596  / jump up ✗ (hand waving)\n",
            "epoch : 416 iter : 28 (21m 48s) 0.8004  / hand waving ✓\n",
            "epoch : 428 iter : 24 (22m 26s) 0.3942  / erg ✓\n",
            "epoch : 440 iter : 20 (23m 3s) 0.5786  / erg ✓\n",
            "epoch : 452 iter : 16 (23m 40s) 0.7930  / hand waving ✓\n",
            "epoch : 464 iter : 12 (24m 17s) 0.2907  / erg ✓\n",
            "epoch : 476 iter : 8 (24m 55s) 0.6667  / cheer up ✓\n",
            "epoch : 488 iter : 4 (25m 32s) 0.3859  / cheer up ✓\n",
            "epoch : 500 iter : 0 (26m 9s) 0.1490  / clapping ✓\n",
            "epoch : 511 iter : 38 (26m 46s) 0.2464  / sitting down ✓\n",
            "epoch : 523 iter : 34 (27m 24s) 0.1359  / clapping ✓\n",
            "epoch : 535 iter : 30 (28m 1s) 0.4776  / jump up ✓\n",
            "epoch : 547 iter : 26 (28m 38s) 0.2230  / hand waving ✓\n",
            "epoch : 559 iter : 22 (29m 15s) 0.2301  / cheer up ✓\n",
            "epoch : 571 iter : 18 (29m 52s) 0.1229  / jump up ✓\n",
            "epoch : 583 iter : 14 (30m 31s) 0.1186  / hand waving ✓\n",
            "epoch : 595 iter : 10 (31m 8s) 0.2769  / clapping ✓\n"
          ],
          "name": "stdout"
        }
      ]
    },
    {
      "cell_type": "markdown",
      "metadata": {
        "id": "TdN3K1pT6ZUI"
      },
      "source": [
        "### Сравнение полученных результатов"
      ]
    },
    {
      "cell_type": "code",
      "metadata": {
        "colab": {
          "base_uri": "https://localhost:8080/",
          "height": 265
        },
        "id": "iRZUhpdJvtf6",
        "outputId": "e9b51434-85e1-4cbb-d290-c0ec159b8f4a"
      },
      "source": [
        "# Количество кадров в последовательности = 20\n",
        "%matplotlib inline\n",
        "plt.plot(list(range(0,len(all_losses_20))),all_losses_20)\n",
        "plt.show()"
      ],
      "execution_count": 31,
      "outputs": [
        {
          "output_type": "display_data",
          "data": {
            "image/png": "[encoded data removed]",
            "text/plain": [
              "<Figure size 432x288 with 1 Axes>"
            ]
          },
          "metadata": {
            "tags": [],
            "needs_background": "light"
          }
        }
      ]
    },
    {
      "cell_type": "code",
      "metadata": {
        "colab": {
          "base_uri": "https://localhost:8080/",
          "height": 265
        },
        "id": "LbBvALSbScF9",
        "outputId": "b8853eff-bad4-48c9-b964-160e672ef5ed"
      },
      "source": [
        "# Количество кадров в последовательности = 40\n",
        "%matplotlib inline\n",
        "plt.plot(list(range(0,len(all_losses_40))),all_losses_40)\n",
        "plt.show()"
      ],
      "execution_count": 39,
      "outputs": [
        {
          "output_type": "display_data",
          "data": {
            "image/png": "[encoded data removed]",
            "text/plain": [
              "<Figure size 432x288 with 1 Axes>"
            ]
          },
          "metadata": {
            "tags": [],
            "needs_background": "light"
          }
        }
      ]
    },
    {
      "cell_type": "code",
      "metadata": {
        "colab": {
          "base_uri": "https://localhost:8080/",
          "height": 265
        },
        "id": "BvMnrhq9dq0F",
        "outputId": "f6ebeff5-73c6-4987-a276-749eb0715d75"
      },
      "source": [
        "# Количество кадров в последовательности = 60\n",
        "%matplotlib inline\n",
        "plt.plot(list(range(0,len(all_losses_60))),all_losses_60)\n",
        "plt.show()"
      ],
      "execution_count": 42,
      "outputs": [
        {
          "output_type": "display_data",
          "data": {
            "image/png": "[encoded data removed]",
            "text/plain": [
              "<Figure size 432x288 with 1 Axes>"
            ]
          },
          "metadata": {
            "tags": [],
            "needs_background": "light"
          }
        }
      ]
    },
    {
      "cell_type": "markdown",
      "metadata": {
        "id": "TDLuERCyd2tT"
      },
      "source": [
        "Наилучший результат при количестве кадров, равном 40"
      ]
    },
    {
      "cell_type": "markdown",
      "metadata": {
        "id": "9NW52hZw6x0i"
      },
      "source": [
        "## 3. Построить график зависимости от количества модулей лстм."
      ]
    },
    {
      "cell_type": "markdown",
      "metadata": {
        "id": "A0Znh0W71VCt"
      },
      "source": [
        "### Запуск с 1 модулем"
      ]
    },
    {
      "cell_type": "code",
      "metadata": {
        "colab": {
          "base_uri": "https://localhost:8080/"
        },
        "id": "SQpDrJz35DVL",
        "outputId": "fa6dd789-0868-4ef8-9364-24c7cc507f65"
      },
      "source": [
        "n_hidden = 128\n",
        "n_joints = 25*3\n",
        "n_categories = len(LABELS)\n",
        "n_layer = 1\n",
        "rnn = LSTM_net(n_joints,n_hidden,n_categories,n_layer)\n",
        "rnn.to(device)"
      ],
      "execution_count": 43,
      "outputs": [
        {
          "output_type": "execute_result",
          "data": {
            "text/plain": [
              "LSTM_net(\n",
              "  (lstm): LSTM(75, 128, batch_first=True)\n",
              "  (dr): Dropout2d(p=0.1, inplace=False)\n",
              "  (fc): Linear(in_features=128, out_features=6, bias=True)\n",
              ")"
            ]
          },
          "metadata": {
            "tags": []
          },
          "execution_count": 43
        }
      ]
    },
    {
      "cell_type": "code",
      "metadata": {
        "id": "So6x9ac7jLDv"
      },
      "source": [
        "train_dataset, test_dataset = torch.utils.data.random_split(skeletons_40_frames, \n",
        "                                                            [int(0.75*len(skeletons_40_frames)),\n",
        "                                                             int(0.25*len(skeletons_40_frames))])\n",
        "train_loader = DataLoader(train_dataset, batch_size = 16, shuffle=True)\n",
        "test_loader = DataLoader(test_dataset, batch_size = 1, shuffle=True)"
      ],
      "execution_count": 44,
      "outputs": []
    },
    {
      "cell_type": "code",
      "metadata": {
        "colab": {
          "base_uri": "https://localhost:8080/"
        },
        "id": "5KupCV7ajS5-",
        "outputId": "b945f194-e842-44dc-f6b2-fb595aa56d27"
      },
      "source": [
        "from torch import optim\n",
        "import time\n",
        "import math\n",
        "\n",
        "criterion = nn.CrossEntropyLoss()\n",
        "learning_rate = 0.0007\n",
        "optimizer = optim.SGD(rnn.parameters(), lr=learning_rate, momentum=0.9)\n",
        "\n",
        "all_losses_40_1 = []\n",
        "start = time.time()\n",
        "counter = 0\n",
        "for epoch in range(600):  \n",
        "    current_loss = 0\n",
        "    running_loss = 0.0\n",
        "    for i, data in enumerate(train_loader, 0):\n",
        "        \n",
        "        inputs, labels = data[0].to(device), data[1].to(device)\n",
        "        optimizer.zero_grad()\n",
        "    \n",
        "        output = rnn(inputs.float())\n",
        "        loss = criterion(output, labels)\n",
        "        loss.backward()\n",
        "        optimizer.step() \n",
        "\n",
        "\n",
        "        current_loss += loss.item()\n",
        "        category = LABELS[int(labels[0])]\n",
        "\n",
        "        if counter % 500 == 0:\n",
        "            guess, guess_i = categoryFromOutput(output)\n",
        "            correct = '✓' if guess == category else '✗ (%s)' % category\n",
        "            print('epoch : %d iter : %d (%s) %.4f  / %s %s' % (epoch, i, timeSince(start), loss, guess, correct))\n",
        "\n",
        "        \n",
        "        counter = counter + 1\n",
        "    if counter % 100 == 0:\n",
        "        all_losses_40_1.append(current_loss / 25)\n",
        "        current_loss = 0\n",
        "    "
      ],
      "execution_count": 45,
      "outputs": [
        {
          "output_type": "stream",
          "text": [
            "epoch : 0 iter : 0 (0m 0s) 1.8003  / clapping ✗ (sitting down)\n",
            "epoch : 11 iter : 38 (0m 25s) 1.6872  / cheer up ✗ (erg)\n",
            "epoch : 23 iter : 34 (0m 51s) 1.2308  / sitting down ✓\n",
            "epoch : 35 iter : 30 (1m 17s) 1.1538  / cheer up ✓\n",
            "epoch : 47 iter : 26 (1m 43s) 0.8901  / clapping ✓\n",
            "epoch : 59 iter : 22 (2m 9s) 0.9318  / erg ✓\n",
            "epoch : 71 iter : 18 (2m 34s) 1.0003  / erg ✓\n",
            "epoch : 83 iter : 14 (3m 0s) 1.1366  / cheer up ✓\n",
            "epoch : 95 iter : 10 (3m 26s) 0.7822  / hand waving ✗ (jump up)\n",
            "epoch : 107 iter : 6 (3m 52s) 1.5230  / clapping ✓\n",
            "epoch : 119 iter : 2 (4m 17s) 0.8537  / jump up ✓\n",
            "epoch : 130 iter : 40 (4m 43s) 0.7730  / jump up ✓\n",
            "epoch : 142 iter : 36 (5m 9s) 0.8409  / jump up ✗ (sitting down)\n",
            "epoch : 154 iter : 32 (5m 34s) 0.9350  / cheer up ✗ (erg)\n",
            "epoch : 166 iter : 28 (6m 0s) 0.7218  / sitting down ✓\n",
            "epoch : 178 iter : 24 (6m 26s) 0.9275  / sitting down ✗ (hand waving)\n",
            "epoch : 190 iter : 20 (6m 51s) 0.5939  / erg ✗ (cheer up)\n",
            "epoch : 202 iter : 16 (7m 17s) 0.5252  / sitting down ✓\n",
            "epoch : 214 iter : 12 (7m 43s) 0.7780  / sitting down ✓\n",
            "epoch : 226 iter : 8 (8m 9s) 0.5480  / jump up ✓\n",
            "epoch : 238 iter : 4 (8m 34s) 0.9983  / jump up ✗ (hand waving)\n",
            "epoch : 250 iter : 0 (9m 0s) 0.4859  / jump up ✓\n",
            "epoch : 261 iter : 38 (9m 26s) 0.5470  / cheer up ✓\n",
            "epoch : 273 iter : 34 (9m 52s) 0.7942  / cheer up ✓\n",
            "epoch : 285 iter : 30 (10m 17s) 0.8616  / cheer up ✓\n",
            "epoch : 297 iter : 26 (10m 43s) 0.6472  / erg ✓\n",
            "epoch : 309 iter : 22 (11m 9s) 0.6505  / erg ✗ (sitting down)\n",
            "epoch : 321 iter : 18 (11m 35s) 0.5144  / jump up ✓\n",
            "epoch : 333 iter : 14 (12m 1s) 0.6570  / jump up ✓\n",
            "epoch : 345 iter : 10 (12m 26s) 0.2946  / clapping ✓\n",
            "epoch : 357 iter : 6 (12m 52s) 0.8970  / hand waving ✓\n",
            "epoch : 369 iter : 2 (13m 18s) 0.8539  / jump up ✗ (hand waving)\n",
            "epoch : 380 iter : 40 (13m 44s) 0.6499  / erg ✗ (cheer up)\n",
            "epoch : 392 iter : 36 (14m 9s) 0.5418  / clapping ✓\n",
            "epoch : 404 iter : 32 (14m 35s) 0.5663  / cheer up ✓\n",
            "epoch : 416 iter : 28 (15m 1s) 0.7343  / cheer up ✓\n",
            "epoch : 428 iter : 24 (15m 27s) 1.4813  / cheer up ✓\n",
            "epoch : 440 iter : 20 (15m 52s) 1.3473  / cheer up ✓\n",
            "epoch : 452 iter : 16 (16m 18s) 0.9822  / cheer up ✓\n",
            "epoch : 464 iter : 12 (16m 45s) 0.6861  / jump up ✓\n",
            "epoch : 476 iter : 8 (17m 10s) 0.9099  / erg ✓\n",
            "epoch : 488 iter : 4 (17m 36s) 0.6853  / sitting down ✓\n",
            "epoch : 500 iter : 0 (18m 2s) 0.8786  / erg ✗ (clapping)\n",
            "epoch : 511 iter : 38 (18m 28s) 1.4248  / erg ✓\n",
            "epoch : 523 iter : 34 (18m 54s) 0.6833  / clapping ✓\n",
            "epoch : 535 iter : 30 (19m 19s) 1.0118  / jump up ✗ (hand waving)\n",
            "epoch : 547 iter : 26 (19m 45s) 1.0516  / jump up ✓\n",
            "epoch : 559 iter : 22 (20m 11s) 0.7726  / jump up ✓\n",
            "epoch : 571 iter : 18 (20m 37s) 0.7195  / clapping ✓\n",
            "epoch : 583 iter : 14 (21m 3s) 0.8257  / cheer up ✓\n",
            "epoch : 595 iter : 10 (21m 29s) 0.3440  / erg ✓\n"
          ],
          "name": "stdout"
        }
      ]
    },
    {
      "cell_type": "markdown",
      "metadata": {
        "id": "AH_-3lUO1zEo"
      },
      "source": [
        "### Запуск с 3 модулями"
      ]
    },
    {
      "cell_type": "code",
      "metadata": {
        "colab": {
          "base_uri": "https://localhost:8080/"
        },
        "id": "dZyE4QvSkBGo",
        "outputId": "a82477af-d1ed-4c4c-d00f-412c21913351"
      },
      "source": [
        "n_hidden = 128\n",
        "n_joints = 25*3\n",
        "n_categories = len(LABELS)\n",
        "n_layer = 3\n",
        "rnn = LSTM_net(n_joints,n_hidden,n_categories,n_layer)\n",
        "rnn.to(device)"
      ],
      "execution_count": 46,
      "outputs": [
        {
          "output_type": "execute_result",
          "data": {
            "text/plain": [
              "LSTM_net(\n",
              "  (lstm): LSTM(75, 128, num_layers=3, batch_first=True)\n",
              "  (dr): Dropout2d(p=0.1, inplace=False)\n",
              "  (fc): Linear(in_features=128, out_features=6, bias=True)\n",
              ")"
            ]
          },
          "metadata": {
            "tags": []
          },
          "execution_count": 46
        }
      ]
    },
    {
      "cell_type": "code",
      "metadata": {
        "id": "l5SntdPvpZ81"
      },
      "source": [
        "train_dataset, test_dataset = torch.utils.data.random_split(skeletons_40_frames, \n",
        "                                                            [int(0.75*len(skeletons_40_frames)),\n",
        "                                                             int(0.25*len(skeletons_40_frames))])\n",
        "train_loader = DataLoader(train_dataset, batch_size = 16, shuffle=True)\n",
        "test_loader = DataLoader(test_dataset, batch_size = 1, shuffle=True)"
      ],
      "execution_count": 47,
      "outputs": []
    },
    {
      "cell_type": "code",
      "metadata": {
        "colab": {
          "base_uri": "https://localhost:8080/"
        },
        "id": "WfVIkLolpeBY",
        "outputId": "d61f16cb-2ff2-41ac-98f8-594f5f39ea75"
      },
      "source": [
        "from torch import optim\n",
        "import time\n",
        "import math\n",
        "\n",
        "criterion = nn.CrossEntropyLoss()\n",
        "learning_rate = 0.0007\n",
        "optimizer = optim.SGD(rnn.parameters(), lr=learning_rate, momentum=0.9)\n",
        "\n",
        "all_losses_40_3 = []\n",
        "start = time.time()\n",
        "counter = 0\n",
        "for epoch in range(600):  \n",
        "    current_loss = 0\n",
        "    running_loss = 0.0\n",
        "    for i, data in enumerate(train_loader, 0):\n",
        "        \n",
        "        inputs, labels = data[0].to(device), data[1].to(device)\n",
        "        optimizer.zero_grad()\n",
        "    \n",
        "        output = rnn(inputs.float())\n",
        "        loss = criterion(output, labels)\n",
        "        loss.backward()\n",
        "        optimizer.step() \n",
        "\n",
        "\n",
        "        current_loss += loss.item()\n",
        "        category = LABELS[int(labels[0])]\n",
        "\n",
        "        if counter % 500 == 0:\n",
        "            guess, guess_i = categoryFromOutput(output)\n",
        "            correct = '✓' if guess == category else '✗ (%s)' % category\n",
        "            print('epoch : %d iter : %d (%s) %.4f  / %s %s' % (epoch, i, timeSince(start), loss, guess, correct))\n",
        "\n",
        "        \n",
        "        counter = counter + 1\n",
        "    if counter % 100 == 0:\n",
        "        all_losses_40_3.append(current_loss / 25)\n",
        "        current_loss = 0\n",
        "    "
      ],
      "execution_count": 48,
      "outputs": [
        {
          "output_type": "stream",
          "text": [
            "epoch : 0 iter : 0 (0m 0s) 1.7838  / sitting down ✓\n",
            "epoch : 11 iter : 38 (0m 49s) 1.7998  / sitting down ✗ (jump up)\n",
            "epoch : 23 iter : 34 (1m 38s) 1.7763  / clapping ✗ (cheer up)\n",
            "epoch : 35 iter : 30 (2m 28s) 1.8086  / clapping ✗ (sitting down)\n",
            "epoch : 47 iter : 26 (3m 18s) 1.8091  / clapping ✗ (erg)\n",
            "epoch : 59 iter : 22 (4m 7s) 1.7949  / sitting down ✗ (hand waving)\n",
            "epoch : 71 iter : 18 (4m 57s) 1.7301  / sitting down ✗ (jump up)\n",
            "epoch : 83 iter : 14 (5m 46s) 1.6696  / clapping ✗ (jump up)\n",
            "epoch : 95 iter : 10 (6m 35s) 1.3404  / cheer up ✓\n",
            "epoch : 107 iter : 6 (7m 25s) 1.5689  / sitting down ✗ (clapping)\n",
            "epoch : 119 iter : 2 (8m 14s) 1.7797  / clapping ✗ (erg)\n",
            "epoch : 130 iter : 40 (9m 4s) 1.4800  / sitting down ✗ (jump up)\n",
            "epoch : 142 iter : 36 (9m 53s) 1.5221  / cheer up ✓\n",
            "epoch : 154 iter : 32 (10m 43s) 1.0398  / sitting down ✓\n",
            "epoch : 166 iter : 28 (11m 32s) 1.1457  / sitting down ✓\n",
            "epoch : 178 iter : 24 (12m 21s) 1.2708  / jump up ✓\n",
            "epoch : 190 iter : 20 (13m 11s) 0.9896  / erg ✓\n",
            "epoch : 202 iter : 16 (14m 0s) 0.7889  / cheer up ✓\n",
            "epoch : 214 iter : 12 (14m 50s) 1.1685  / clapping ✗ (hand waving)\n",
            "epoch : 226 iter : 8 (15m 40s) 0.7142  / clapping ✓\n",
            "epoch : 238 iter : 4 (16m 29s) 1.4804  / erg ✓\n",
            "epoch : 250 iter : 0 (17m 18s) 1.0096  / jump up ✗ (clapping)\n",
            "epoch : 261 iter : 38 (18m 8s) 0.3495  / erg ✓\n",
            "epoch : 273 iter : 34 (18m 57s) 0.9591  / erg ✗ (clapping)\n",
            "epoch : 285 iter : 30 (19m 47s) 0.7351  / cheer up ✓\n",
            "epoch : 297 iter : 26 (20m 36s) 0.5286  / sitting down ✗ (clapping)\n",
            "epoch : 309 iter : 22 (21m 26s) 0.4010  / sitting down ✓\n",
            "epoch : 321 iter : 18 (22m 15s) 0.7617  / sitting down ✓\n",
            "epoch : 333 iter : 14 (23m 4s) 0.5579  / clapping ✓\n",
            "epoch : 345 iter : 10 (23m 54s) 0.5777  / clapping ✓\n",
            "epoch : 357 iter : 6 (24m 43s) 0.3778  / sitting down ✓\n",
            "epoch : 369 iter : 2 (25m 32s) 0.3936  / clapping ✓\n",
            "epoch : 380 iter : 40 (26m 22s) 0.3751  / sitting down ✓\n",
            "epoch : 392 iter : 36 (27m 11s) 1.1507  / clapping ✓\n",
            "epoch : 404 iter : 32 (28m 0s) 0.8795  / hand waving ✗ (erg)\n",
            "epoch : 416 iter : 28 (28m 49s) 0.9015  / clapping ✓\n",
            "epoch : 428 iter : 24 (29m 39s) 0.3962  / erg ✓\n",
            "epoch : 440 iter : 20 (30m 28s) 0.4053  / clapping ✗ (hand waving)\n",
            "epoch : 452 iter : 16 (31m 17s) 0.1426  / clapping ✓\n",
            "epoch : 464 iter : 12 (32m 6s) 0.6628  / jump up ✓\n",
            "epoch : 476 iter : 8 (32m 55s) 0.1581  / clapping ✓\n",
            "epoch : 488 iter : 4 (33m 45s) 0.3371  / jump up ✓\n",
            "epoch : 500 iter : 0 (34m 34s) 0.0905  / hand waving ✓\n",
            "epoch : 511 iter : 38 (35m 24s) 0.0677  / hand waving ✓\n",
            "epoch : 523 iter : 34 (36m 13s) 0.0378  / sitting down ✓\n",
            "epoch : 535 iter : 30 (37m 2s) 0.5011  / erg ✓\n",
            "epoch : 547 iter : 26 (37m 51s) 0.0885  / cheer up ✓\n",
            "epoch : 559 iter : 22 (38m 40s) 0.3808  / clapping ✓\n",
            "epoch : 571 iter : 18 (39m 29s) 0.4957  / clapping ✓\n",
            "epoch : 583 iter : 14 (40m 18s) 0.1113  / jump up ✓\n",
            "epoch : 595 iter : 10 (41m 7s) 0.2346  / jump up ✓\n"
          ],
          "name": "stdout"
        }
      ]
    },
    {
      "cell_type": "markdown",
      "metadata": {
        "id": "vdhvfyyv1QVb"
      },
      "source": [
        "### Сравнение полученных результатов"
      ]
    },
    {
      "cell_type": "code",
      "metadata": {
        "colab": {
          "base_uri": "https://localhost:8080/",
          "height": 265
        },
        "id": "uu1YlRkn2GZw",
        "outputId": "9657ef25-759c-470e-bf1a-27503492f1a8"
      },
      "source": [
        "# Количество модулей - 1\n",
        "%matplotlib inline\n",
        "plt.plot(list(range(0,len(all_losses_40_1))),all_losses_40_1)\n",
        "plt.show()"
      ],
      "execution_count": 50,
      "outputs": [
        {
          "output_type": "display_data",
          "data": {
            "image/png": "[encoded data removed]",
            "text/plain": [
              "<Figure size 432x288 with 1 Axes>"
            ]
          },
          "metadata": {
            "tags": [],
            "needs_background": "light"
          }
        }
      ]
    },
    {
      "cell_type": "code",
      "metadata": {
        "colab": {
          "base_uri": "https://localhost:8080/",
          "height": 265
        },
        "id": "RekhOX7Fpmrl",
        "outputId": "48fe1893-88ac-4a78-f61c-b32ad023cf56"
      },
      "source": [
        "# Количество модулей - 2\n",
        "%matplotlib inline\n",
        "plt.plot(list(range(0,len(all_losses_40))),all_losses_40)\n",
        "plt.show()"
      ],
      "execution_count": 49,
      "outputs": [
        {
          "output_type": "display_data",
          "data": {
            "image/png": "[encoded data removed]",
            "text/plain": [
              "<Figure size 432x288 with 1 Axes>"
            ]
          },
          "metadata": {
            "tags": [],
            "needs_background": "light"
          }
        }
      ]
    },
    {
      "cell_type": "code",
      "metadata": {
        "colab": {
          "base_uri": "https://localhost:8080/",
          "height": 265
        },
        "id": "w8uqf63h2FYk",
        "outputId": "0e13a980-0f18-4475-b8e2-838894e86605"
      },
      "source": [
        "# Количество модулей - 3\n",
        "%matplotlib inline\n",
        "plt.plot(list(range(0,len(all_losses_40_3))),all_losses_40_3)\n",
        "plt.show()"
      ],
      "execution_count": 51,
      "outputs": [
        {
          "output_type": "display_data",
          "data": {
            "image/png": "[encoded data removed]",
            "text/plain": [
              "<Figure size 432x288 with 1 Axes>"
            ]
          },
          "metadata": {
            "tags": [],
            "needs_background": "light"
          }
        }
      ]
    },
    {
      "cell_type": "markdown",
      "metadata": {
        "id": "qGHTCvo22jC_"
      },
      "source": [
        "При увеличении числа модулей повышаетя качество, но увеличивается время обучения"
      ]
    }
  ]
}