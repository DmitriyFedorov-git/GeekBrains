{
  "nbformat": 4,
  "nbformat_minor": 0,
  "metadata": {
    "colab": {
      "name": "youla.ipynb",
      "provenance": [],
      "collapsed_sections": []
    },
    "kernelspec": {
      "name": "python3",
      "display_name": "Python 3"
    },
    "widgets": {
      "application/vnd.jupyter.widget-state+json": {
        "704ae62b3b8e4dd19117cc6e600235b6": {
          "model_module": "@jupyter-widgets/controls",
          "model_name": "HBoxModel",
          "state": {
            "_view_name": "HBoxView",
            "_dom_classes": [],
            "_model_name": "HBoxModel",
            "_view_module": "@jupyter-widgets/controls",
            "_model_module_version": "1.5.0",
            "_view_count": null,
            "_view_module_version": "1.5.0",
            "box_style": "",
            "layout": "IPY_MODEL_c80da80e02a64cf98c098d842861491e",
            "_model_module": "@jupyter-widgets/controls",
            "children": [
              "IPY_MODEL_b32e4454813447919b02969d9481f38e",
              "IPY_MODEL_23f10e6e8fbf4fb2a0424a34b17e23c0"
            ]
          }
        },
        "c80da80e02a64cf98c098d842861491e": {
          "model_module": "@jupyter-widgets/base",
          "model_name": "LayoutModel",
          "state": {
            "_view_name": "LayoutView",
            "grid_template_rows": null,
            "right": null,
            "justify_content": null,
            "_view_module": "@jupyter-widgets/base",
            "overflow": null,
            "_model_module_version": "1.2.0",
            "_view_count": null,
            "flex_flow": null,
            "width": null,
            "min_width": null,
            "border": null,
            "align_items": null,
            "bottom": null,
            "_model_module": "@jupyter-widgets/base",
            "top": null,
            "grid_column": null,
            "overflow_y": null,
            "overflow_x": null,
            "grid_auto_flow": null,
            "grid_area": null,
            "grid_template_columns": null,
            "flex": null,
            "_model_name": "LayoutModel",
            "justify_items": null,
            "grid_row": null,
            "max_height": null,
            "align_content": null,
            "visibility": null,
            "align_self": null,
            "height": null,
            "min_height": null,
            "padding": null,
            "grid_auto_rows": null,
            "grid_gap": null,
            "max_width": null,
            "order": null,
            "_view_module_version": "1.2.0",
            "grid_template_areas": null,
            "object_position": null,
            "object_fit": null,
            "grid_auto_columns": null,
            "margin": null,
            "display": null,
            "left": null
          }
        },
        "b32e4454813447919b02969d9481f38e": {
          "model_module": "@jupyter-widgets/controls",
          "model_name": "FloatProgressModel",
          "state": {
            "_view_name": "ProgressView",
            "style": "IPY_MODEL_402293842d02441ea81b833ea7171c01",
            "_dom_classes": [],
            "description": "",
            "_model_name": "FloatProgressModel",
            "bar_style": "danger",
            "max": 1,
            "_view_module": "@jupyter-widgets/controls",
            "_model_module_version": "1.5.0",
            "value": 1,
            "_view_count": null,
            "_view_module_version": "1.5.0",
            "orientation": "horizontal",
            "min": 0,
            "description_tooltip": null,
            "_model_module": "@jupyter-widgets/controls",
            "layout": "IPY_MODEL_5143fdfa01254a0fae7a30db43206a26"
          }
        },
        "23f10e6e8fbf4fb2a0424a34b17e23c0": {
          "model_module": "@jupyter-widgets/controls",
          "model_name": "HTMLModel",
          "state": {
            "_view_name": "HTMLView",
            "style": "IPY_MODEL_e5de657d758a4c61b78b35d4173a3e8a",
            "_dom_classes": [],
            "description": "",
            "_model_name": "HTMLModel",
            "placeholder": "​",
            "_view_module": "@jupyter-widgets/controls",
            "_model_module_version": "1.5.0",
            "value": " 99999/? [08:20&lt;00:00, 322.93it/s]",
            "_view_count": null,
            "_view_module_version": "1.5.0",
            "description_tooltip": null,
            "_model_module": "@jupyter-widgets/controls",
            "layout": "IPY_MODEL_1a220db4720f4afe914062e536c5b691"
          }
        },
        "402293842d02441ea81b833ea7171c01": {
          "model_module": "@jupyter-widgets/controls",
          "model_name": "ProgressStyleModel",
          "state": {
            "_view_name": "StyleView",
            "_model_name": "ProgressStyleModel",
            "description_width": "initial",
            "_view_module": "@jupyter-widgets/base",
            "_model_module_version": "1.5.0",
            "_view_count": null,
            "_view_module_version": "1.2.0",
            "bar_color": null,
            "_model_module": "@jupyter-widgets/controls"
          }
        },
        "5143fdfa01254a0fae7a30db43206a26": {
          "model_module": "@jupyter-widgets/base",
          "model_name": "LayoutModel",
          "state": {
            "_view_name": "LayoutView",
            "grid_template_rows": null,
            "right": null,
            "justify_content": null,
            "_view_module": "@jupyter-widgets/base",
            "overflow": null,
            "_model_module_version": "1.2.0",
            "_view_count": null,
            "flex_flow": null,
            "width": null,
            "min_width": null,
            "border": null,
            "align_items": null,
            "bottom": null,
            "_model_module": "@jupyter-widgets/base",
            "top": null,
            "grid_column": null,
            "overflow_y": null,
            "overflow_x": null,
            "grid_auto_flow": null,
            "grid_area": null,
            "grid_template_columns": null,
            "flex": null,
            "_model_name": "LayoutModel",
            "justify_items": null,
            "grid_row": null,
            "max_height": null,
            "align_content": null,
            "visibility": null,
            "align_self": null,
            "height": null,
            "min_height": null,
            "padding": null,
            "grid_auto_rows": null,
            "grid_gap": null,
            "max_width": null,
            "order": null,
            "_view_module_version": "1.2.0",
            "grid_template_areas": null,
            "object_position": null,
            "object_fit": null,
            "grid_auto_columns": null,
            "margin": null,
            "display": null,
            "left": null
          }
        },
        "e5de657d758a4c61b78b35d4173a3e8a": {
          "model_module": "@jupyter-widgets/controls",
          "model_name": "DescriptionStyleModel",
          "state": {
            "_view_name": "StyleView",
            "_model_name": "DescriptionStyleModel",
            "description_width": "",
            "_view_module": "@jupyter-widgets/base",
            "_model_module_version": "1.5.0",
            "_view_count": null,
            "_view_module_version": "1.2.0",
            "_model_module": "@jupyter-widgets/controls"
          }
        },
        "1a220db4720f4afe914062e536c5b691": {
          "model_module": "@jupyter-widgets/base",
          "model_name": "LayoutModel",
          "state": {
            "_view_name": "LayoutView",
            "grid_template_rows": null,
            "right": null,
            "justify_content": null,
            "_view_module": "@jupyter-widgets/base",
            "overflow": null,
            "_model_module_version": "1.2.0",
            "_view_count": null,
            "flex_flow": null,
            "width": null,
            "min_width": null,
            "border": null,
            "align_items": null,
            "bottom": null,
            "_model_module": "@jupyter-widgets/base",
            "top": null,
            "grid_column": null,
            "overflow_y": null,
            "overflow_x": null,
            "grid_auto_flow": null,
            "grid_area": null,
            "grid_template_columns": null,
            "flex": null,
            "_model_name": "LayoutModel",
            "justify_items": null,
            "grid_row": null,
            "max_height": null,
            "align_content": null,
            "visibility": null,
            "align_self": null,
            "height": null,
            "min_height": null,
            "padding": null,
            "grid_auto_rows": null,
            "grid_gap": null,
            "max_width": null,
            "order": null,
            "_view_module_version": "1.2.0",
            "grid_template_areas": null,
            "object_position": null,
            "object_fit": null,
            "grid_auto_columns": null,
            "margin": null,
            "display": null,
            "left": null
          }
        },
        "831dbc528a8c4ec789142e123d56134a": {
          "model_module": "@jupyter-widgets/controls",
          "model_name": "HBoxModel",
          "state": {
            "_view_name": "HBoxView",
            "_dom_classes": [],
            "_model_name": "HBoxModel",
            "_view_module": "@jupyter-widgets/controls",
            "_model_module_version": "1.5.0",
            "_view_count": null,
            "_view_module_version": "1.5.0",
            "box_style": "",
            "layout": "IPY_MODEL_325db671ba4c4cb394b3f1b357055d3b",
            "_model_module": "@jupyter-widgets/controls",
            "children": [
              "IPY_MODEL_23495434b91346fdbf0af91ce3e1058a",
              "IPY_MODEL_40bd9b9767c34f03a5a5630fe7cd884a"
            ]
          }
        },
        "325db671ba4c4cb394b3f1b357055d3b": {
          "model_module": "@jupyter-widgets/base",
          "model_name": "LayoutModel",
          "state": {
            "_view_name": "LayoutView",
            "grid_template_rows": null,
            "right": null,
            "justify_content": null,
            "_view_module": "@jupyter-widgets/base",
            "overflow": null,
            "_model_module_version": "1.2.0",
            "_view_count": null,
            "flex_flow": null,
            "width": null,
            "min_width": null,
            "border": null,
            "align_items": null,
            "bottom": null,
            "_model_module": "@jupyter-widgets/base",
            "top": null,
            "grid_column": null,
            "overflow_y": null,
            "overflow_x": null,
            "grid_auto_flow": null,
            "grid_area": null,
            "grid_template_columns": null,
            "flex": null,
            "_model_name": "LayoutModel",
            "justify_items": null,
            "grid_row": null,
            "max_height": null,
            "align_content": null,
            "visibility": null,
            "align_self": null,
            "height": null,
            "min_height": null,
            "padding": null,
            "grid_auto_rows": null,
            "grid_gap": null,
            "max_width": null,
            "order": null,
            "_view_module_version": "1.2.0",
            "grid_template_areas": null,
            "object_position": null,
            "object_fit": null,
            "grid_auto_columns": null,
            "margin": null,
            "display": null,
            "left": null
          }
        },
        "23495434b91346fdbf0af91ce3e1058a": {
          "model_module": "@jupyter-widgets/controls",
          "model_name": "FloatProgressModel",
          "state": {
            "_view_name": "ProgressView",
            "style": "IPY_MODEL_2d228fdf8cc14f7f9aac9bdbad03a88c",
            "_dom_classes": [],
            "description": "100%",
            "_model_name": "FloatProgressModel",
            "bar_style": "success",
            "max": 35548,
            "_view_module": "@jupyter-widgets/controls",
            "_model_module_version": "1.5.0",
            "value": 35548,
            "_view_count": null,
            "_view_module_version": "1.5.0",
            "orientation": "horizontal",
            "min": 0,
            "description_tooltip": null,
            "_model_module": "@jupyter-widgets/controls",
            "layout": "IPY_MODEL_b909b9203cbf4b20bf494924b10720c7"
          }
        },
        "40bd9b9767c34f03a5a5630fe7cd884a": {
          "model_module": "@jupyter-widgets/controls",
          "model_name": "HTMLModel",
          "state": {
            "_view_name": "HTMLView",
            "style": "IPY_MODEL_cc94340781ff451daebb731e71df5bc2",
            "_dom_classes": [],
            "description": "",
            "_model_name": "HTMLModel",
            "placeholder": "​",
            "_view_module": "@jupyter-widgets/controls",
            "_model_module_version": "1.5.0",
            "value": " 35548/35548 [00:28&lt;00:00, 1250.64it/s]",
            "_view_count": null,
            "_view_module_version": "1.5.0",
            "description_tooltip": null,
            "_model_module": "@jupyter-widgets/controls",
            "layout": "IPY_MODEL_538c728acc1b4dc2b7ab52c219b71c8f"
          }
        },
        "2d228fdf8cc14f7f9aac9bdbad03a88c": {
          "model_module": "@jupyter-widgets/controls",
          "model_name": "ProgressStyleModel",
          "state": {
            "_view_name": "StyleView",
            "_model_name": "ProgressStyleModel",
            "description_width": "initial",
            "_view_module": "@jupyter-widgets/base",
            "_model_module_version": "1.5.0",
            "_view_count": null,
            "_view_module_version": "1.2.0",
            "bar_color": null,
            "_model_module": "@jupyter-widgets/controls"
          }
        },
        "b909b9203cbf4b20bf494924b10720c7": {
          "model_module": "@jupyter-widgets/base",
          "model_name": "LayoutModel",
          "state": {
            "_view_name": "LayoutView",
            "grid_template_rows": null,
            "right": null,
            "justify_content": null,
            "_view_module": "@jupyter-widgets/base",
            "overflow": null,
            "_model_module_version": "1.2.0",
            "_view_count": null,
            "flex_flow": null,
            "width": null,
            "min_width": null,
            "border": null,
            "align_items": null,
            "bottom": null,
            "_model_module": "@jupyter-widgets/base",
            "top": null,
            "grid_column": null,
            "overflow_y": null,
            "overflow_x": null,
            "grid_auto_flow": null,
            "grid_area": null,
            "grid_template_columns": null,
            "flex": null,
            "_model_name": "LayoutModel",
            "justify_items": null,
            "grid_row": null,
            "max_height": null,
            "align_content": null,
            "visibility": null,
            "align_self": null,
            "height": null,
            "min_height": null,
            "padding": null,
            "grid_auto_rows": null,
            "grid_gap": null,
            "max_width": null,
            "order": null,
            "_view_module_version": "1.2.0",
            "grid_template_areas": null,
            "object_position": null,
            "object_fit": null,
            "grid_auto_columns": null,
            "margin": null,
            "display": null,
            "left": null
          }
        },
        "cc94340781ff451daebb731e71df5bc2": {
          "model_module": "@jupyter-widgets/controls",
          "model_name": "DescriptionStyleModel",
          "state": {
            "_view_name": "StyleView",
            "_model_name": "DescriptionStyleModel",
            "description_width": "",
            "_view_module": "@jupyter-widgets/base",
            "_model_module_version": "1.5.0",
            "_view_count": null,
            "_view_module_version": "1.2.0",
            "_model_module": "@jupyter-widgets/controls"
          }
        },
        "538c728acc1b4dc2b7ab52c219b71c8f": {
          "model_module": "@jupyter-widgets/base",
          "model_name": "LayoutModel",
          "state": {
            "_view_name": "LayoutView",
            "grid_template_rows": null,
            "right": null,
            "justify_content": null,
            "_view_module": "@jupyter-widgets/base",
            "overflow": null,
            "_model_module_version": "1.2.0",
            "_view_count": null,
            "flex_flow": null,
            "width": null,
            "min_width": null,
            "border": null,
            "align_items": null,
            "bottom": null,
            "_model_module": "@jupyter-widgets/base",
            "top": null,
            "grid_column": null,
            "overflow_y": null,
            "overflow_x": null,
            "grid_auto_flow": null,
            "grid_area": null,
            "grid_template_columns": null,
            "flex": null,
            "_model_name": "LayoutModel",
            "justify_items": null,
            "grid_row": null,
            "max_height": null,
            "align_content": null,
            "visibility": null,
            "align_self": null,
            "height": null,
            "min_height": null,
            "padding": null,
            "grid_auto_rows": null,
            "grid_gap": null,
            "max_width": null,
            "order": null,
            "_view_module_version": "1.2.0",
            "grid_template_areas": null,
            "object_position": null,
            "object_fit": null,
            "grid_auto_columns": null,
            "margin": null,
            "display": null,
            "left": null
          }
        }
      }
    }
  },
  "cells": [
    {
      "cell_type": "code",
      "metadata": {
        "id": "GGR1b0EBSnat",
        "outputId": "a5f4fc6b-c1d8-4616-ab79-c30fe4719604",
        "colab": {
          "base_uri": "https://localhost:8080/"
        }
      },
      "source": [
        "!pip install python-telegram-bot --upgrade\n",
        "!pip install dialogflow\n",
        "!pip install pymorphy2\n",
        "!pip install stop_words\n",
        "!pip install annoy"
      ],
      "execution_count": 2,
      "outputs": [
        {
          "output_type": "stream",
          "text": [
            "Requirement already up-to-date: python-telegram-bot in /usr/local/lib/python3.6/dist-packages (13.0)\n",
            "Requirement already satisfied, skipping upgrade: APScheduler==3.6.3 in /usr/local/lib/python3.6/dist-packages (from python-telegram-bot) (3.6.3)\n",
            "Requirement already satisfied, skipping upgrade: certifi in /usr/local/lib/python3.6/dist-packages (from python-telegram-bot) (2020.6.20)\n",
            "Requirement already satisfied, skipping upgrade: decorator>=4.4.0 in /usr/local/lib/python3.6/dist-packages (from python-telegram-bot) (4.4.2)\n",
            "Requirement already satisfied, skipping upgrade: cryptography in /usr/local/lib/python3.6/dist-packages (from python-telegram-bot) (3.2.1)\n",
            "Requirement already satisfied, skipping upgrade: tornado>=5.1 in /usr/local/lib/python3.6/dist-packages (from python-telegram-bot) (5.1.1)\n",
            "Requirement already satisfied, skipping upgrade: six>=1.4.0 in /usr/local/lib/python3.6/dist-packages (from APScheduler==3.6.3->python-telegram-bot) (1.15.0)\n",
            "Requirement already satisfied, skipping upgrade: tzlocal>=1.2 in /usr/local/lib/python3.6/dist-packages (from APScheduler==3.6.3->python-telegram-bot) (1.5.1)\n",
            "Requirement already satisfied, skipping upgrade: pytz in /usr/local/lib/python3.6/dist-packages (from APScheduler==3.6.3->python-telegram-bot) (2018.9)\n",
            "Requirement already satisfied, skipping upgrade: setuptools>=0.7 in /usr/local/lib/python3.6/dist-packages (from APScheduler==3.6.3->python-telegram-bot) (50.3.2)\n",
            "Requirement already satisfied, skipping upgrade: cffi!=1.11.3,>=1.8 in /usr/local/lib/python3.6/dist-packages (from cryptography->python-telegram-bot) (1.14.3)\n",
            "Requirement already satisfied, skipping upgrade: pycparser in /usr/local/lib/python3.6/dist-packages (from cffi!=1.11.3,>=1.8->cryptography->python-telegram-bot) (2.20)\n",
            "Requirement already satisfied: dialogflow in /usr/local/lib/python3.6/dist-packages (1.1.0)\n",
            "Requirement already satisfied: google-api-core[grpc]<2.0.0dev,>=1.14.0 in /usr/local/lib/python3.6/dist-packages (from dialogflow) (1.16.0)\n",
            "Requirement already satisfied: six>=1.10.0 in /usr/local/lib/python3.6/dist-packages (from google-api-core[grpc]<2.0.0dev,>=1.14.0->dialogflow) (1.15.0)\n",
            "Requirement already satisfied: protobuf>=3.4.0 in /usr/local/lib/python3.6/dist-packages (from google-api-core[grpc]<2.0.0dev,>=1.14.0->dialogflow) (3.12.4)\n",
            "Requirement already satisfied: setuptools>=34.0.0 in /usr/local/lib/python3.6/dist-packages (from google-api-core[grpc]<2.0.0dev,>=1.14.0->dialogflow) (50.3.2)\n",
            "Requirement already satisfied: google-auth<2.0dev,>=0.4.0 in /usr/local/lib/python3.6/dist-packages (from google-api-core[grpc]<2.0.0dev,>=1.14.0->dialogflow) (1.17.2)\n",
            "Requirement already satisfied: pytz in /usr/local/lib/python3.6/dist-packages (from google-api-core[grpc]<2.0.0dev,>=1.14.0->dialogflow) (2018.9)\n",
            "Requirement already satisfied: googleapis-common-protos<2.0dev,>=1.6.0 in /usr/local/lib/python3.6/dist-packages (from google-api-core[grpc]<2.0.0dev,>=1.14.0->dialogflow) (1.52.0)\n",
            "Requirement already satisfied: requests<3.0.0dev,>=2.18.0 in /usr/local/lib/python3.6/dist-packages (from google-api-core[grpc]<2.0.0dev,>=1.14.0->dialogflow) (2.23.0)\n",
            "Requirement already satisfied: grpcio<2.0dev,>=1.8.2; extra == \"grpc\" in /usr/local/lib/python3.6/dist-packages (from google-api-core[grpc]<2.0.0dev,>=1.14.0->dialogflow) (1.33.2)\n",
            "Requirement already satisfied: rsa<5,>=3.1.4; python_version >= \"3\" in /usr/local/lib/python3.6/dist-packages (from google-auth<2.0dev,>=0.4.0->google-api-core[grpc]<2.0.0dev,>=1.14.0->dialogflow) (4.6)\n",
            "Requirement already satisfied: pyasn1-modules>=0.2.1 in /usr/local/lib/python3.6/dist-packages (from google-auth<2.0dev,>=0.4.0->google-api-core[grpc]<2.0.0dev,>=1.14.0->dialogflow) (0.2.8)\n",
            "Requirement already satisfied: cachetools<5.0,>=2.0.0 in /usr/local/lib/python3.6/dist-packages (from google-auth<2.0dev,>=0.4.0->google-api-core[grpc]<2.0.0dev,>=1.14.0->dialogflow) (4.1.1)\n",
            "Requirement already satisfied: chardet<4,>=3.0.2 in /usr/local/lib/python3.6/dist-packages (from requests<3.0.0dev,>=2.18.0->google-api-core[grpc]<2.0.0dev,>=1.14.0->dialogflow) (3.0.4)\n",
            "Requirement already satisfied: certifi>=2017.4.17 in /usr/local/lib/python3.6/dist-packages (from requests<3.0.0dev,>=2.18.0->google-api-core[grpc]<2.0.0dev,>=1.14.0->dialogflow) (2020.6.20)\n",
            "Requirement already satisfied: idna<3,>=2.5 in /usr/local/lib/python3.6/dist-packages (from requests<3.0.0dev,>=2.18.0->google-api-core[grpc]<2.0.0dev,>=1.14.0->dialogflow) (2.10)\n",
            "Requirement already satisfied: urllib3!=1.25.0,!=1.25.1,<1.26,>=1.21.1 in /usr/local/lib/python3.6/dist-packages (from requests<3.0.0dev,>=2.18.0->google-api-core[grpc]<2.0.0dev,>=1.14.0->dialogflow) (1.24.3)\n",
            "Requirement already satisfied: pyasn1>=0.1.3 in /usr/local/lib/python3.6/dist-packages (from rsa<5,>=3.1.4; python_version >= \"3\"->google-auth<2.0dev,>=0.4.0->google-api-core[grpc]<2.0.0dev,>=1.14.0->dialogflow) (0.4.8)\n",
            "Requirement already satisfied: pymorphy2 in /usr/local/lib/python3.6/dist-packages (0.9.1)\n",
            "Requirement already satisfied: dawg-python>=0.7.1 in /usr/local/lib/python3.6/dist-packages (from pymorphy2) (0.7.2)\n",
            "Requirement already satisfied: docopt>=0.6 in /usr/local/lib/python3.6/dist-packages (from pymorphy2) (0.6.2)\n",
            "Requirement already satisfied: pymorphy2-dicts-ru<3.0,>=2.4 in /usr/local/lib/python3.6/dist-packages (from pymorphy2) (2.4.417127.4579844)\n",
            "Requirement already satisfied: stop_words in /usr/local/lib/python3.6/dist-packages (2018.7.23)\n",
            "Requirement already satisfied: annoy in /usr/local/lib/python3.6/dist-packages (1.17.0)\n"
          ],
          "name": "stdout"
        }
      ]
    },
    {
      "cell_type": "code",
      "metadata": {
        "id": "nWOkzB0aSuwo"
      },
      "source": [
        "import os\n",
        "import logging\n",
        "from telegram import Update\n",
        "from telegram.ext import Updater, CommandHandler, MessageHandler, Filters, CallbackContext\n",
        "import dialogflow\n",
        "import string\n",
        "from pymorphy2 import MorphAnalyzer\n",
        "from stop_words import get_stop_words\n",
        "import annoy\n",
        "from gensim.models import Word2Vec, FastText\n",
        "import pickle\n",
        "import numpy as np\n",
        "from tqdm import tqdm_notebook\n",
        "import pandas as pd"
      ],
      "execution_count": 3,
      "outputs": []
    },
    {
      "cell_type": "code",
      "metadata": {
        "id": "ec1sAFG1lMdT"
      },
      "source": [
        "# Enable logging\n",
        "logging.basicConfig(\n",
        "    format='%(asctime)s - %(name)s - %(levelname)s - %(message)s', level=logging.INFO\n",
        ")\n",
        "\n",
        "logger = logging.getLogger()"
      ],
      "execution_count": 4,
      "outputs": []
    },
    {
      "cell_type": "code",
      "metadata": {
        "id": "CAIRA79alPKJ"
      },
      "source": [
        "updater = Updater(\"1397773161:AAHJo-f4XLKYf0Lr05jP6guLoa7QH63ZxZ8\", use_context=True)  # Токен API к Telegram\n",
        "dispatcher = updater.dispatcher\n",
        "os.environ[\"GOOGLE_APPLICATION_CREDENTIALS\"] = '/content/telegramagent-dmst-3fc2f762152f.json'# скачнный JSON\n",
        "\n",
        "\n",
        "DIALOGFLOW_PROJECT_ID = 'telegramagent-dmst' #PROJECT ID из DialogFlow \n",
        "DIALOGFLOW_LANGUAGE_CODE = 'ru' # язык\n",
        "SESSION_ID = 'dimasikbot'  # ID бота из телеграма"
      ],
      "execution_count": 5,
      "outputs": []
    },
    {
      "cell_type": "code",
      "metadata": {
        "id": "48NW1Ut3Sx_E",
        "outputId": "cefd5779-ec6d-4477-f0ff-3ea9d7c602f2",
        "colab": {
          "base_uri": "https://localhost:8080/"
        }
      },
      "source": [
        "from google.colab import drive\n",
        "drive.mount('/content/drive')\n",
        "!cp /content/drive/'My Drive'/Geekbrains.zip /content/\n",
        "!unzip /content/Geekbrains.zip"
      ],
      "execution_count": 6,
      "outputs": [
        {
          "output_type": "stream",
          "text": [
            "Drive already mounted at /content/drive; to attempt to forcibly remount, call drive.mount(\"/content/drive\", force_remount=True).\n",
            "Archive:  /content/Geekbrains.zip\n",
            "replace Geekbrains/Otvety.txt? [y]es, [n]o, [A]ll, [N]one, [r]ename: n\n"
          ],
          "name": "stdout"
        }
      ]
    },
    {
      "cell_type": "code",
      "metadata": {
        "id": "czUaHKVaS1qy"
      },
      "source": [
        "def preprocess_txt(line):\n",
        "    spls = \"\".join(i for i in line.strip() if i not in exclude).split()\n",
        "    spls = [morpher.parse(i.lower())[0].normal_form for i in spls]\n",
        "    spls = [i for i in spls if i not in sw and i != \"\"]\n",
        "    return spls"
      ],
      "execution_count": 7,
      "outputs": []
    },
    {
      "cell_type": "code",
      "metadata": {
        "id": "PXaoYbKVbi_i",
        "outputId": "d1bd7a72-1dad-4fc7-c6e9-a1f6d6440edb",
        "colab": {
          "base_uri": "https://localhost:8080/",
          "height": 1000,
          "referenced_widgets": [
            "704ae62b3b8e4dd19117cc6e600235b6",
            "c80da80e02a64cf98c098d842861491e",
            "b32e4454813447919b02969d9481f38e",
            "23f10e6e8fbf4fb2a0424a34b17e23c0",
            "402293842d02441ea81b833ea7171c01",
            "5143fdfa01254a0fae7a30db43206a26",
            "e5de657d758a4c61b78b35d4173a3e8a",
            "1a220db4720f4afe914062e536c5b691"
          ]
        }
      },
      "source": [
        "morpher = MorphAnalyzer()\n",
        "sw = set(get_stop_words(\"ru\"))\n",
        "exclude = set(string.punctuation)\n",
        "sentences = []\n",
        "c = 0\n",
        "with open(\"Geekbrains/Otvety.txt\", \"r\") as fin:\n",
        "    for line in tqdm_notebook(fin):\n",
        "        spls = preprocess_txt(line)\n",
        "        sentences.append(spls)\n",
        "        c += 1\n",
        "        if c > 100000:\n",
        "            break\n",
        "\n",
        "sentences = [i for i in sentences if len(i) > 2]\n",
        "modelFT = FastText(sentences=sentences, size=100, min_count=1, window=5)"
      ],
      "execution_count": 8,
      "outputs": [
        {
          "output_type": "stream",
          "text": [
            "2020-11-15 11:09:41,367 - pymorphy2.opencorpora_dict.wrapper - INFO - Loading dictionaries from /usr/local/lib/python3.6/dist-packages/pymorphy2_dicts_ru/data\n",
            "2020-11-15 11:09:41,422 - pymorphy2.opencorpora_dict.wrapper - INFO - format: 2.4, revision: 417127, updated: 2020-10-11T15:05:51.070345\n",
            "/usr/local/lib/python3.6/dist-packages/ipykernel_launcher.py:7: TqdmDeprecationWarning: This function will be removed in tqdm==5.0.0\n",
            "Please use `tqdm.notebook.tqdm` instead of `tqdm.tqdm_notebook`\n",
            "  import sys\n"
          ],
          "name": "stderr"
        },
        {
          "output_type": "display_data",
          "data": {
            "application/vnd.jupyter.widget-view+json": {
              "model_id": "704ae62b3b8e4dd19117cc6e600235b6",
              "version_minor": 0,
              "version_major": 2
            },
            "text/plain": [
              "HBox(children=(FloatProgress(value=1.0, bar_style='info', max=1.0), HTML(value='')))"
            ]
          },
          "metadata": {
            "tags": []
          }
        },
        {
          "output_type": "stream",
          "text": [
            "2020-11-15 11:17:48,743 - gensim.models.word2vec - INFO - collecting all words and their counts\n",
            "2020-11-15 11:17:48,744 - gensim.models.word2vec - INFO - PROGRESS: at sentence #0, processed 0 words, keeping 0 word types\n",
            "2020-11-15 11:17:48,811 - gensim.models.word2vec - INFO - PROGRESS: at sentence #10000, processed 173060 words, keeping 41540 word types\n",
            "2020-11-15 11:17:48,885 - gensim.models.word2vec - INFO - PROGRESS: at sentence #20000, processed 353487 words, keeping 68403 word types\n",
            "2020-11-15 11:17:48,963 - gensim.models.word2vec - INFO - PROGRESS: at sentence #30000, processed 527016 words, keeping 91256 word types\n",
            "2020-11-15 11:17:49,042 - gensim.models.word2vec - INFO - PROGRESS: at sentence #40000, processed 702279 words, keeping 113049 word types\n",
            "2020-11-15 11:17:49,121 - gensim.models.word2vec - INFO - PROGRESS: at sentence #50000, processed 885642 words, keeping 134773 word types\n",
            "2020-11-15 11:17:49,208 - gensim.models.word2vec - INFO - PROGRESS: at sentence #60000, processed 1084379 words, keeping 156873 word types\n",
            "2020-11-15 11:17:49,251 - gensim.models.word2vec - INFO - collected 165629 word types from a corpus of 1167100 raw words and 64662 sentences\n",
            "2020-11-15 11:17:49,252 - gensim.models.word2vec - INFO - Loading a fresh vocabulary\n",
            "2020-11-15 11:17:49,886 - gensim.models.word2vec - INFO - effective_min_count=1 retains 165629 unique words (100% of original 165629, drops 0)\n",
            "2020-11-15 11:17:49,887 - gensim.models.word2vec - INFO - effective_min_count=1 leaves 1167100 word corpus (100% of original 1167100, drops 0)\n",
            "2020-11-15 11:17:50,451 - gensim.models.word2vec - INFO - deleting the raw counts dictionary of 165629 items\n",
            "2020-11-15 11:17:50,456 - gensim.models.word2vec - INFO - sample=0.001 downsamples 5 most-common words\n",
            "2020-11-15 11:17:50,458 - gensim.models.word2vec - INFO - downsampling leaves estimated 1155085 word corpus (99.0% of prior 1167100)\n",
            "2020-11-15 11:17:54,710 - gensim.models.fasttext - INFO - estimated required memory for 165629 words, 921114 buckets and 100 dimensions: 634010156 bytes\n",
            "2020-11-15 11:17:54,766 - gensim.models.word2vec - INFO - resetting layer weights\n",
            "2020-11-15 11:18:34,383 - gensim.models.fasttext - INFO - Total number of ngrams is 921114\n",
            "2020-11-15 11:18:41,650 - gensim.models.base_any2vec - INFO - training model with 3 workers on 165629 vocabulary and 100 features, using sg=0 hs=0 sample=0.001 negative=5 window=5\n",
            "2020-11-15 11:18:42,683 - gensim.models.base_any2vec - INFO - EPOCH 1 - PROGRESS: at 8.54% examples, 87108 words/s, in_qsize 6, out_qsize 1\n",
            "2020-11-15 11:18:43,748 - gensim.models.base_any2vec - INFO - EPOCH 1 - PROGRESS: at 18.93% examples, 103782 words/s, in_qsize 6, out_qsize 0\n",
            "2020-11-15 11:18:44,906 - gensim.models.base_any2vec - INFO - EPOCH 1 - PROGRESS: at 29.14% examples, 101906 words/s, in_qsize 5, out_qsize 0\n",
            "2020-11-15 11:18:46,045 - gensim.models.base_any2vec - INFO - EPOCH 1 - PROGRESS: at 40.14% examples, 102468 words/s, in_qsize 5, out_qsize 0\n",
            "2020-11-15 11:18:47,094 - gensim.models.base_any2vec - INFO - EPOCH 1 - PROGRESS: at 50.22% examples, 104344 words/s, in_qsize 5, out_qsize 0\n",
            "2020-11-15 11:18:48,139 - gensim.models.base_any2vec - INFO - EPOCH 1 - PROGRESS: at 60.66% examples, 105436 words/s, in_qsize 5, out_qsize 0\n",
            "2020-11-15 11:18:49,209 - gensim.models.base_any2vec - INFO - EPOCH 1 - PROGRESS: at 69.77% examples, 103525 words/s, in_qsize 5, out_qsize 0\n",
            "2020-11-15 11:18:50,265 - gensim.models.base_any2vec - INFO - EPOCH 1 - PROGRESS: at 79.05% examples, 104587 words/s, in_qsize 6, out_qsize 0\n",
            "2020-11-15 11:18:51,238 - gensim.models.base_any2vec - INFO - EPOCH 1 - PROGRESS: at 86.97% examples, 104305 words/s, in_qsize 5, out_qsize 0\n",
            "2020-11-15 11:18:52,260 - gensim.models.base_any2vec - INFO - EPOCH 1 - PROGRESS: at 95.65% examples, 104376 words/s, in_qsize 5, out_qsize 0\n",
            "2020-11-15 11:18:52,468 - gensim.models.base_any2vec - INFO - worker thread finished; awaiting finish of 2 more threads\n",
            "2020-11-15 11:18:52,605 - gensim.models.base_any2vec - INFO - worker thread finished; awaiting finish of 1 more threads\n",
            "2020-11-15 11:18:52,613 - gensim.models.base_any2vec - INFO - worker thread finished; awaiting finish of 0 more threads\n",
            "2020-11-15 11:18:52,613 - gensim.models.base_any2vec - INFO - EPOCH - 1 : training on 1167100 raw words (1155154 effective words) took 11.0s, 105483 effective words/s\n",
            "2020-11-15 11:18:53,809 - gensim.models.base_any2vec - INFO - EPOCH 2 - PROGRESS: at 10.33% examples, 91238 words/s, in_qsize 5, out_qsize 0\n",
            "2020-11-15 11:18:54,853 - gensim.models.base_any2vec - INFO - EPOCH 2 - PROGRESS: at 19.68% examples, 101520 words/s, in_qsize 5, out_qsize 0\n",
            "2020-11-15 11:18:55,962 - gensim.models.base_any2vec - INFO - EPOCH 2 - PROGRESS: at 29.90% examples, 102000 words/s, in_qsize 5, out_qsize 0\n",
            "2020-11-15 11:18:56,963 - gensim.models.base_any2vec - INFO - EPOCH 2 - PROGRESS: at 40.18% examples, 103489 words/s, in_qsize 5, out_qsize 0\n",
            "2020-11-15 11:18:58,135 - gensim.models.base_any2vec - INFO - EPOCH 2 - PROGRESS: at 50.22% examples, 102835 words/s, in_qsize 4, out_qsize 1\n",
            "2020-11-15 11:18:59,232 - gensim.models.base_any2vec - INFO - EPOCH 2 - PROGRESS: at 60.84% examples, 103350 words/s, in_qsize 5, out_qsize 0\n",
            "2020-11-15 11:19:00,325 - gensim.models.base_any2vec - INFO - EPOCH 2 - PROGRESS: at 71.49% examples, 104009 words/s, in_qsize 5, out_qsize 0\n",
            "2020-11-15 11:19:01,542 - gensim.models.base_any2vec - INFO - EPOCH 2 - PROGRESS: at 81.33% examples, 103707 words/s, in_qsize 4, out_qsize 1\n",
            "2020-11-15 11:19:02,721 - gensim.models.base_any2vec - INFO - EPOCH 2 - PROGRESS: at 90.82% examples, 103818 words/s, in_qsize 5, out_qsize 0\n",
            "2020-11-15 11:19:03,479 - gensim.models.base_any2vec - INFO - worker thread finished; awaiting finish of 2 more threads\n",
            "2020-11-15 11:19:03,540 - gensim.models.base_any2vec - INFO - worker thread finished; awaiting finish of 1 more threads\n",
            "2020-11-15 11:19:03,608 - gensim.models.base_any2vec - INFO - worker thread finished; awaiting finish of 0 more threads\n",
            "2020-11-15 11:19:03,609 - gensim.models.base_any2vec - INFO - EPOCH - 2 : training on 1167100 raw words (1155207 effective words) took 11.0s, 105154 effective words/s\n",
            "2020-11-15 11:19:04,625 - gensim.models.base_any2vec - INFO - EPOCH 3 - PROGRESS: at 9.39% examples, 98248 words/s, in_qsize 5, out_qsize 0\n",
            "2020-11-15 11:19:05,667 - gensim.models.base_any2vec - INFO - EPOCH 3 - PROGRESS: at 18.15% examples, 100844 words/s, in_qsize 5, out_qsize 0\n",
            "2020-11-15 11:19:06,774 - gensim.models.base_any2vec - INFO - EPOCH 3 - PROGRESS: at 28.67% examples, 101615 words/s, in_qsize 5, out_qsize 0\n",
            "2020-11-15 11:19:07,786 - gensim.models.base_any2vec - INFO - EPOCH 3 - PROGRESS: at 38.39% examples, 103026 words/s, in_qsize 5, out_qsize 0\n",
            "2020-11-15 11:19:08,851 - gensim.models.base_any2vec - INFO - EPOCH 3 - PROGRESS: at 47.81% examples, 102672 words/s, in_qsize 5, out_qsize 0\n",
            "2020-11-15 11:19:09,866 - gensim.models.base_any2vec - INFO - EPOCH 3 - PROGRESS: at 56.90% examples, 103099 words/s, in_qsize 5, out_qsize 0\n",
            "2020-11-15 11:19:10,889 - gensim.models.base_any2vec - INFO - EPOCH 3 - PROGRESS: at 66.95% examples, 103417 words/s, in_qsize 5, out_qsize 0\n",
            "2020-11-15 11:19:12,043 - gensim.models.base_any2vec - INFO - EPOCH 3 - PROGRESS: at 76.58% examples, 102797 words/s, in_qsize 5, out_qsize 0\n",
            "2020-11-15 11:19:13,054 - gensim.models.base_any2vec - INFO - EPOCH 3 - PROGRESS: at 84.91% examples, 103108 words/s, in_qsize 5, out_qsize 0\n",
            "2020-11-15 11:19:14,187 - gensim.models.base_any2vec - INFO - EPOCH 3 - PROGRESS: at 94.09% examples, 102805 words/s, in_qsize 4, out_qsize 1\n",
            "2020-11-15 11:19:14,510 - gensim.models.base_any2vec - INFO - worker thread finished; awaiting finish of 2 more threads\n",
            "2020-11-15 11:19:14,665 - gensim.models.base_any2vec - INFO - worker thread finished; awaiting finish of 1 more threads\n",
            "2020-11-15 11:19:14,673 - gensim.models.base_any2vec - INFO - worker thread finished; awaiting finish of 0 more threads\n",
            "2020-11-15 11:19:14,674 - gensim.models.base_any2vec - INFO - EPOCH - 3 : training on 1167100 raw words (1155166 effective words) took 11.1s, 104502 effective words/s\n",
            "2020-11-15 11:19:15,735 - gensim.models.base_any2vec - INFO - EPOCH 4 - PROGRESS: at 9.39% examples, 93962 words/s, in_qsize 5, out_qsize 0\n",
            "2020-11-15 11:19:16,754 - gensim.models.base_any2vec - INFO - EPOCH 4 - PROGRESS: at 18.93% examples, 104539 words/s, in_qsize 5, out_qsize 0\n",
            "2020-11-15 11:19:17,756 - gensim.models.base_any2vec - INFO - EPOCH 4 - PROGRESS: at 28.67% examples, 104358 words/s, in_qsize 5, out_qsize 0\n",
            "2020-11-15 11:19:18,873 - gensim.models.base_any2vec - INFO - EPOCH 4 - PROGRESS: at 39.39% examples, 104832 words/s, in_qsize 5, out_qsize 0\n",
            "2020-11-15 11:19:19,883 - gensim.models.base_any2vec - INFO - EPOCH 4 - PROGRESS: at 48.60% examples, 105193 words/s, in_qsize 5, out_qsize 0\n",
            "2020-11-15 11:19:20,981 - gensim.models.base_any2vec - INFO - EPOCH 4 - PROGRESS: at 58.81% examples, 105289 words/s, in_qsize 5, out_qsize 0\n",
            "2020-11-15 11:19:22,110 - gensim.models.base_any2vec - INFO - EPOCH 4 - PROGRESS: at 69.72% examples, 105196 words/s, in_qsize 5, out_qsize 0\n",
            "2020-11-15 11:19:23,284 - gensim.models.base_any2vec - INFO - EPOCH 4 - PROGRESS: at 79.57% examples, 105235 words/s, in_qsize 5, out_qsize 0\n",
            "2020-11-15 11:19:24,372 - gensim.models.base_any2vec - INFO - EPOCH 4 - PROGRESS: at 88.37% examples, 105125 words/s, in_qsize 5, out_qsize 0\n",
            "2020-11-15 11:19:25,476 - gensim.models.base_any2vec - INFO - EPOCH 4 - PROGRESS: at 98.25% examples, 105206 words/s, in_qsize 2, out_qsize 1\n",
            "2020-11-15 11:19:25,478 - gensim.models.base_any2vec - INFO - worker thread finished; awaiting finish of 2 more threads\n",
            "2020-11-15 11:19:25,530 - gensim.models.base_any2vec - INFO - worker thread finished; awaiting finish of 1 more threads\n",
            "2020-11-15 11:19:25,560 - gensim.models.base_any2vec - INFO - worker thread finished; awaiting finish of 0 more threads\n",
            "2020-11-15 11:19:25,561 - gensim.models.base_any2vec - INFO - EPOCH - 4 : training on 1167100 raw words (1154983 effective words) took 10.9s, 106184 effective words/s\n",
            "2020-11-15 11:19:26,623 - gensim.models.base_any2vec - INFO - EPOCH 5 - PROGRESS: at 9.39% examples, 93827 words/s, in_qsize 5, out_qsize 0\n",
            "2020-11-15 11:19:27,652 - gensim.models.base_any2vec - INFO - EPOCH 5 - PROGRESS: at 18.15% examples, 99229 words/s, in_qsize 5, out_qsize 0\n",
            "2020-11-15 11:19:28,682 - gensim.models.base_any2vec - INFO - EPOCH 5 - PROGRESS: at 28.67% examples, 103048 words/s, in_qsize 5, out_qsize 0\n",
            "2020-11-15 11:19:29,813 - gensim.models.base_any2vec - INFO - EPOCH 5 - PROGRESS: at 38.25% examples, 101187 words/s, in_qsize 4, out_qsize 1\n",
            "2020-11-15 11:19:30,830 - gensim.models.base_any2vec - INFO - EPOCH 5 - PROGRESS: at 48.62% examples, 103992 words/s, in_qsize 5, out_qsize 0\n",
            "2020-11-15 11:19:31,868 - gensim.models.base_any2vec - INFO - EPOCH 5 - PROGRESS: at 57.92% examples, 103836 words/s, in_qsize 5, out_qsize 0\n",
            "2020-11-15 11:19:32,929 - gensim.models.base_any2vec - INFO - EPOCH 5 - PROGRESS: at 68.10% examples, 103493 words/s, in_qsize 4, out_qsize 1\n",
            "2020-11-15 11:19:33,968 - gensim.models.base_any2vec - INFO - EPOCH 5 - PROGRESS: at 76.58% examples, 103092 words/s, in_qsize 5, out_qsize 0\n",
            "2020-11-15 11:19:35,077 - gensim.models.base_any2vec - INFO - EPOCH 5 - PROGRESS: at 85.64% examples, 103340 words/s, in_qsize 5, out_qsize 0\n",
            "2020-11-15 11:19:36,172 - gensim.models.base_any2vec - INFO - EPOCH 5 - PROGRESS: at 95.02% examples, 103401 words/s, in_qsize 5, out_qsize 0\n",
            "2020-11-15 11:19:36,544 - gensim.models.base_any2vec - INFO - worker thread finished; awaiting finish of 2 more threads\n",
            "2020-11-15 11:19:36,547 - gensim.models.base_any2vec - INFO - worker thread finished; awaiting finish of 1 more threads\n",
            "2020-11-15 11:19:36,669 - gensim.models.base_any2vec - INFO - worker thread finished; awaiting finish of 0 more threads\n",
            "2020-11-15 11:19:36,671 - gensim.models.base_any2vec - INFO - EPOCH - 5 : training on 1167100 raw words (1155069 effective words) took 11.1s, 104062 effective words/s\n",
            "2020-11-15 11:19:36,672 - gensim.models.base_any2vec - INFO - training on a 5835500 raw words (5775579 effective words) took 55.0s, 104971 effective words/s\n"
          ],
          "name": "stderr"
        }
      ]
    },
    {
      "cell_type": "code",
      "metadata": {
        "id": "u9a79YylT8sE"
      },
      "source": [
        "shop_data = pd.read_csv(\"ProductsDataset.csv\")"
      ],
      "execution_count": 9,
      "outputs": []
    },
    {
      "cell_type": "code",
      "metadata": {
        "id": "tx5N-ir2TBx4",
        "outputId": "d2dc7583-1b97-44c4-c710-aa3fcc54e76a",
        "colab": {
          "base_uri": "https://localhost:8080/",
          "height": 496
        }
      },
      "source": [
        "shop_data['text'] = shop_data['title'] + \" \" + shop_data[\"descrirption\"]\n",
        "shop_data['text'] = shop_data['text'].apply(lambda x: preprocess_txt(str(x)))\n",
        "shop_data.head()"
      ],
      "execution_count": 10,
      "outputs": [
        {
          "output_type": "stream",
          "text": [
            "2020-11-15 11:20:00,323 - numexpr.utils - INFO - NumExpr defaulting to 2 threads.\n"
          ],
          "name": "stderr"
        },
        {
          "output_type": "execute_result",
          "data": {
            "text/html": [
              "<div>\n",
              "<style scoped>\n",
              "    .dataframe tbody tr th:only-of-type {\n",
              "        vertical-align: middle;\n",
              "    }\n",
              "\n",
              "    .dataframe tbody tr th {\n",
              "        vertical-align: top;\n",
              "    }\n",
              "\n",
              "    .dataframe thead th {\n",
              "        text-align: right;\n",
              "    }\n",
              "</style>\n",
              "<table border=\"1\" class=\"dataframe\">\n",
              "  <thead>\n",
              "    <tr style=\"text-align: right;\">\n",
              "      <th></th>\n",
              "      <th>title</th>\n",
              "      <th>descrirption</th>\n",
              "      <th>product_id</th>\n",
              "      <th>category_id</th>\n",
              "      <th>subcategory_id</th>\n",
              "      <th>properties</th>\n",
              "      <th>image_links</th>\n",
              "      <th>text</th>\n",
              "    </tr>\n",
              "  </thead>\n",
              "  <tbody>\n",
              "    <tr>\n",
              "      <th>0</th>\n",
              "      <td>Юбка детская ORBY</td>\n",
              "      <td>Новая, не носили ни разу. В реале красивей чем...</td>\n",
              "      <td>58e3cfe6132ca50e053f5f82</td>\n",
              "      <td>22.0</td>\n",
              "      <td>2211</td>\n",
              "      <td>{'detskie_razmer_rost': '81-86 (1,5 года)'}</td>\n",
              "      <td>http://cache3.youla.io/files/images/360_360/58...</td>\n",
              "      <td>[юбка, детский, orby, новый, носить, реал, кра...</td>\n",
              "    </tr>\n",
              "    <tr>\n",
              "      <th>1</th>\n",
              "      <td>Ботильоны</td>\n",
              "      <td>Новые,привезены из Чехии ,указан размер 40,но ...</td>\n",
              "      <td>5667531b2b7f8d127d838c34</td>\n",
              "      <td>9.0</td>\n",
              "      <td>902</td>\n",
              "      <td>{'zhenskaya_odezhda_tzvet': 'Зеленый', 'visota...</td>\n",
              "      <td>http://cache3.youla.io/files/images/360_360/5b...</td>\n",
              "      <td>[ботильон, новыепривезти, чехия, указать, разм...</td>\n",
              "    </tr>\n",
              "    <tr>\n",
              "      <th>2</th>\n",
              "      <td>Брюки</td>\n",
              "      <td>Размер 40-42. Брюки почти новые - не знаю как ...</td>\n",
              "      <td>59534826aaab284cba337e06</td>\n",
              "      <td>9.0</td>\n",
              "      <td>906</td>\n",
              "      <td>{'zhenskaya_odezhda_dzhinsy_bryuki_tip': 'Брюк...</td>\n",
              "      <td>http://cache3.youla.io/files/images/360_360/59...</td>\n",
              "      <td>[брюки, размер, 4042, брюки, новый, знать, мер...</td>\n",
              "    </tr>\n",
              "    <tr>\n",
              "      <th>3</th>\n",
              "      <td>Продам детские шапки</td>\n",
              "      <td>Продам шапки,кажда 200р.Розовая и белая проданны.</td>\n",
              "      <td>57de544096ad842e26de8027</td>\n",
              "      <td>22.0</td>\n",
              "      <td>2217</td>\n",
              "      <td>{'detskie_pol': 'Девочкам', 'detskaya_odezhda_...</td>\n",
              "      <td>http://cache3.youla.io/files/images/360_360/57...</td>\n",
              "      <td>[продать, детский, шапка, продать, шапкикажда,...</td>\n",
              "    </tr>\n",
              "    <tr>\n",
              "      <th>4</th>\n",
              "      <td>Блузка</td>\n",
              "      <td>Темно-синяя, 42 размер,состояние отличное,как ...</td>\n",
              "      <td>5ad4d2626c86cb168d212022</td>\n",
              "      <td>9.0</td>\n",
              "      <td>907</td>\n",
              "      <td>{'zhenskaya_odezhda_tzvet': 'Синий', 'zhenskay...</td>\n",
              "      <td>http://cache3.youla.io/files/images/360_360/5a...</td>\n",
              "      <td>[блузка, темносиний, 42, размерсостояние, отли...</td>\n",
              "    </tr>\n",
              "  </tbody>\n",
              "</table>\n",
              "</div>"
            ],
            "text/plain": [
              "                  title  ...                                               text\n",
              "0     Юбка детская ORBY  ...  [юбка, детский, orby, новый, носить, реал, кра...\n",
              "1             Ботильоны  ...  [ботильон, новыепривезти, чехия, указать, разм...\n",
              "2                 Брюки  ...  [брюки, размер, 4042, брюки, новый, знать, мер...\n",
              "3  Продам детские шапки  ...  [продать, детский, шапка, продать, шапкикажда,...\n",
              "4                Блузка  ...  [блузка, темносиний, 42, размерсостояние, отли...\n",
              "\n",
              "[5 rows x 8 columns]"
            ]
          },
          "metadata": {
            "tags": []
          },
          "execution_count": 10
        }
      ]
    },
    {
      "cell_type": "code",
      "metadata": {
        "id": "QJqWbqAvaRz0"
      },
      "source": [
        "texts = [\" \".join(val) for val in shop_data['text'].values]"
      ],
      "execution_count": 11,
      "outputs": []
    },
    {
      "cell_type": "code",
      "metadata": {
        "id": "IC7aiRkCaEyh"
      },
      "source": [
        "from sklearn.feature_extraction.text import TfidfVectorizer\n",
        "\n",
        "tfidf_vect = TfidfVectorizer().fit(texts)"
      ],
      "execution_count": 12,
      "outputs": []
    },
    {
      "cell_type": "code",
      "metadata": {
        "id": "rxKk7oSya6_C",
        "outputId": "01601ecf-01c8-4f86-f15b-dc9df1751bf6",
        "colab": {
          "base_uri": "https://localhost:8080/"
        }
      },
      "source": [
        "np.mean(tfidf_vect.idf_)"
      ],
      "execution_count": 13,
      "outputs": [
        {
          "output_type": "execute_result",
          "data": {
            "text/plain": [
              "10.39264055035947"
            ]
          },
          "metadata": {
            "tags": []
          },
          "execution_count": 13
        }
      ]
    },
    {
      "cell_type": "code",
      "metadata": {
        "id": "CUUBZQgNbBNO"
      },
      "source": [
        "idfs = {v[0]: v[1] for v in zip(tfidf_vect.vocabulary_, tfidf_vect.idf_)}\n",
        "#idfs"
      ],
      "execution_count": 14,
      "outputs": []
    },
    {
      "cell_type": "code",
      "metadata": {
        "id": "XeBmNwa9Z8VL",
        "outputId": "0e384eb8-3dc9-46ab-b9ce-78b7fd6c3b04",
        "colab": {
          "base_uri": "https://localhost:8080/",
          "height": 222,
          "referenced_widgets": [
            "831dbc528a8c4ec789142e123d56134a",
            "325db671ba4c4cb394b3f1b357055d3b",
            "23495434b91346fdbf0af91ce3e1058a",
            "40bd9b9767c34f03a5a5630fe7cd884a",
            "2d228fdf8cc14f7f9aac9bdbad03a88c",
            "b909b9203cbf4b20bf494924b10720c7",
            "cc94340781ff451daebb731e71df5bc2",
            "538c728acc1b4dc2b7ab52c219b71c8f"
          ]
        }
      },
      "source": [
        "ft_index_shop = annoy.AnnoyIndex(100 ,'angular')\n",
        "\n",
        "midf = np.mean(tfidf_vect.idf_)\n",
        "\n",
        "index_map_shop = {}\n",
        "counter = 0\n",
        "\n",
        "for i in tqdm_notebook(range(len(shop_data))):\n",
        "    n_ft = 0\n",
        "    index_map_shop[counter] = (shop_data.loc[i, \"title\"], shop_data.loc[i, \"image_links\"])\n",
        "    vector_ft = np.zeros(100)\n",
        "    for word in shop_data.loc[i, \"text\"]:\n",
        "        if word in modelFT:\n",
        "            vector_ft += modelFT[word] * idfs.get(word, midf)\n",
        "            n_ft += idfs.get(word, midf)\n",
        "    if n_ft > 0:\n",
        "        vector_ft = vector_ft / n_ft\n",
        "    ft_index_shop.add_item(counter, vector_ft)\n",
        "    counter += 1\n",
        "\n",
        "ft_index_shop.build(10)\n",
        "ft_index_shop.save('shop.ann')"
      ],
      "execution_count": 15,
      "outputs": [
        {
          "output_type": "stream",
          "text": [
            "/usr/local/lib/python3.6/dist-packages/ipykernel_launcher.py:8: TqdmDeprecationWarning: This function will be removed in tqdm==5.0.0\n",
            "Please use `tqdm.notebook.tqdm` instead of `tqdm.tqdm_notebook`\n",
            "  \n"
          ],
          "name": "stderr"
        },
        {
          "output_type": "display_data",
          "data": {
            "application/vnd.jupyter.widget-view+json": {
              "model_id": "831dbc528a8c4ec789142e123d56134a",
              "version_minor": 0,
              "version_major": 2
            },
            "text/plain": [
              "HBox(children=(FloatProgress(value=0.0, max=35548.0), HTML(value='')))"
            ]
          },
          "metadata": {
            "tags": []
          }
        },
        {
          "output_type": "stream",
          "text": [
            "/usr/local/lib/python3.6/dist-packages/ipykernel_launcher.py:13: DeprecationWarning: Call to deprecated `__contains__` (Method will be removed in 4.0.0, use self.wv.__contains__() instead).\n",
            "  del sys.path[0]\n",
            "/usr/local/lib/python3.6/dist-packages/ipykernel_launcher.py:14: DeprecationWarning: Call to deprecated `__getitem__` (Method will be removed in 4.0.0, use self.wv.__getitem__() instead).\n",
            "  \n"
          ],
          "name": "stderr"
        },
        {
          "output_type": "stream",
          "text": [
            "\n"
          ],
          "name": "stdout"
        },
        {
          "output_type": "execute_result",
          "data": {
            "text/plain": [
              "True"
            ]
          },
          "metadata": {
            "tags": []
          },
          "execution_count": 15
        }
      ]
    },
    {
      "cell_type": "code",
      "metadata": {
        "id": "1mPX0uzyWNXk"
      },
      "source": [
        "def embed_txt(txt, idfs, midf):\n",
        "    n_ft = 0\n",
        "    vector_ft = np.zeros(100)\n",
        "    for word in txt:\n",
        "        if word in modelFT:\n",
        "            vector_ft += modelFT[word] * idfs.get(word, midf)\n",
        "            n_ft += idfs.get(word, midf)\n",
        "    return vector_ft / n_ft"
      ],
      "execution_count": 16,
      "outputs": []
    },
    {
      "cell_type": "code",
      "metadata": {
        "id": "BrkguCsKYyuE",
        "outputId": "adee70ba-df22-4f56-c12d-2b4043b9b47e",
        "colab": {
          "base_uri": "https://localhost:8080/"
        }
      },
      "source": [
        "ft_index_shop.get_nns_by_vector(np.zeros(100), 1, include_distances=True)"
      ],
      "execution_count": 17,
      "outputs": [
        {
          "output_type": "execute_result",
          "data": {
            "text/plain": [
              "([758], [1.4142135381698608])"
            ]
          },
          "metadata": {
            "tags": []
          },
          "execution_count": 17
        }
      ]
    },
    {
      "cell_type": "code",
      "metadata": {
        "id": "LvTmdAHLY1bA",
        "outputId": "6ba7a27b-b7a9-4985-cb0d-d43736354766",
        "colab": {
          "base_uri": "https://localhost:8080/"
        }
      },
      "source": [
        "updater = Updater(token='1397773161:AAHJo-f4XLKYf0Lr05jP6guLoa7QH63ZxZ8') # Токен API к Telegram\n",
        "dispatcher = updater.dispatcher\n",
        "\n",
        "def startCommand(update: Update, context: CallbackContext):\n",
        "    update.message.reply_text('Добрый день!')\n",
        "\n",
        "def textMessage(update: Update, context: CallbackContext):\n",
        "  input_txt = preprocess_txt(update.message.text)\n",
        "  vect_ft = embed_txt(input_txt, idfs, midf)\n",
        "  ft_index_shop_val = ft_index_shop.get_nns_by_vector(vect_ft, 5)\n",
        "  for item in ft_index_shop_val:\n",
        "    title, image = index_map_shop[item]\n",
        "    update.message.reply_text(title)\n",
        "    update.message.reply_text(image)\n",
        "  return\n",
        "   \n",
        "start_command_handler = CommandHandler('start', startCommand)\n",
        "text_message_handler = MessageHandler(Filters.text, textMessage)\n",
        "dispatcher.add_handler(start_command_handler)\n",
        "dispatcher.add_handler(text_message_handler)\n",
        "updater.start_polling(clean=True)\n",
        "updater.idle()"
      ],
      "execution_count": null,
      "outputs": [
        {
          "output_type": "stream",
          "text": [
            "2020-11-15 12:02:21,461 - apscheduler.scheduler - INFO - Scheduler started\n",
            "/usr/local/lib/python3.6/dist-packages/ipykernel_launcher.py:5: DeprecationWarning: Call to deprecated `__contains__` (Method will be removed in 4.0.0, use self.wv.__contains__() instead).\n",
            "  \"\"\"\n",
            "/usr/local/lib/python3.6/dist-packages/ipykernel_launcher.py:6: DeprecationWarning: Call to deprecated `__getitem__` (Method will be removed in 4.0.0, use self.wv.__getitem__() instead).\n",
            "  \n"
          ],
          "name": "stderr"
        }
      ]
    }
  ]
}