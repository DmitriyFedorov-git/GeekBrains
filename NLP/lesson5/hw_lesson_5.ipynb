{
  "nbformat": 4,
  "nbformat_minor": 0,
  "metadata": {
    "kernelspec": {
      "display_name": "Python 3",
      "language": "python",
      "name": "python3"
    },
    "language_info": {
      "codemirror_mode": {
        "name": "ipython",
        "version": 3
      },
      "file_extension": ".py",
      "mimetype": "text/x-python",
      "name": "python",
      "nbconvert_exporter": "python",
      "pygments_lexer": "ipython3",
      "version": "3.7.4"
    },
    "colab": {
      "name": "hw_lesson_5.ipynb",
      "provenance": [],
      "collapsed_sections": []
    },
    "accelerator": "GPU"
  },
  "cells": [
    {
      "cell_type": "markdown",
      "metadata": {
        "id": "oXTVHzNy8DjH"
      },
      "source": [
        "# Домашнее задание №5"
      ]
    },
    {
      "cell_type": "markdown",
      "metadata": {
        "id": "hg3EL1j4L0Y7"
      },
      "source": [
        "https://habr.com/ru/company/mailru/blog/417767/"
      ]
    },
    {
      "cell_type": "markdown",
      "metadata": {
        "id": "2oiHprND8NmN"
      },
      "source": [
        "Урок 5. Сверточные нейронные сети для анализа текста."
      ]
    },
    {
      "cell_type": "markdown",
      "metadata": {
        "id": "h6ljtkghZxks"
      },
      "source": [
        "Увеличить длину словаря, удалить из него мусор (rt), применить tfidf, вместо embedding использовать wordtovec, split менять на токенайзер, лемматизация, размер окна, размер словаря, заменить w2v на fasttext, сеть с различными эмбэддингами: предобученный эмбэддинг и дообучить с заморозкой весов"
      ]
    },
    {
      "cell_type": "markdown",
      "metadata": {
        "id": "hdczynAsl5_C"
      },
      "source": [
        "## Загрузка данных и библиотек"
      ]
    },
    {
      "cell_type": "code",
      "metadata": {
        "id": "HAWk9kU0mrdw",
        "outputId": "25700980-b2dc-44d2-b639-b7920f12a6ef",
        "colab": {
          "base_uri": "https://localhost:8080/",
          "height": 377
        }
      },
      "source": [
        "!pip install stop_words\n",
        "!pip install pymorphy2 "
      ],
      "execution_count": 1,
      "outputs": [
        {
          "output_type": "stream",
          "text": [
            "Collecting stop_words\n",
            "  Downloading https://files.pythonhosted.org/packages/1c/cb/d58290804b7a4c5daa42abbbe2a93c477ae53e45541b1825e86f0dfaaf63/stop-words-2018.7.23.tar.gz\n",
            "Building wheels for collected packages: stop-words\n",
            "  Building wheel for stop-words (setup.py) ... \u001b[?25l\u001b[?25hdone\n",
            "  Created wheel for stop-words: filename=stop_words-2018.7.23-cp36-none-any.whl size=32916 sha256=994dafa5b989445499e1803f53c9163cacb8c09ebce3ad7414e8dcd1c81c8d24\n",
            "  Stored in directory: /root/.cache/pip/wheels/75/37/6a/2b295e03bd07290f0da95c3adb9a74ba95fbc333aa8b0c7c78\n",
            "Successfully built stop-words\n",
            "Installing collected packages: stop-words\n",
            "Successfully installed stop-words-2018.7.23\n",
            "Collecting pymorphy2\n",
            "\u001b[?25l  Downloading https://files.pythonhosted.org/packages/07/57/b2ff2fae3376d4f3c697b9886b64a54b476e1a332c67eee9f88e7f1ae8c9/pymorphy2-0.9.1-py3-none-any.whl (55kB)\n",
            "\u001b[K     |████████████████████████████████| 61kB 4.7MB/s \n",
            "\u001b[?25hRequirement already satisfied: docopt>=0.6 in /usr/local/lib/python3.6/dist-packages (from pymorphy2) (0.6.2)\n",
            "Collecting pymorphy2-dicts-ru<3.0,>=2.4\n",
            "\u001b[?25l  Downloading https://files.pythonhosted.org/packages/3a/79/bea0021eeb7eeefde22ef9e96badf174068a2dd20264b9a378f2be1cdd9e/pymorphy2_dicts_ru-2.4.417127.4579844-py2.py3-none-any.whl (8.2MB)\n",
            "\u001b[K     |████████████████████████████████| 8.2MB 13.8MB/s \n",
            "\u001b[?25hCollecting dawg-python>=0.7.1\n",
            "  Downloading https://files.pythonhosted.org/packages/6a/84/ff1ce2071d4c650ec85745766c0047ccc3b5036f1d03559fd46bb38b5eeb/DAWG_Python-0.7.2-py2.py3-none-any.whl\n",
            "Installing collected packages: pymorphy2-dicts-ru, dawg-python, pymorphy2\n",
            "Successfully installed dawg-python-0.7.2 pymorphy2-0.9.1 pymorphy2-dicts-ru-2.4.417127.4579844\n"
          ],
          "name": "stdout"
        }
      ]
    },
    {
      "cell_type": "code",
      "metadata": {
        "id": "wRtu2KiLXql6",
        "outputId": "24f9a5cc-fe73-4017-cb68-6f8a35c874a9",
        "colab": {
          "base_uri": "https://localhost:8080/",
          "height": 68
        }
      },
      "source": [
        "from sklearn import model_selection, preprocessing, metrics\n",
        "import nltk\n",
        "from nltk.corpus import stopwords\n",
        "from nltk.stem.wordnet import WordNetLemmatizer\n",
        "from nltk.tokenize import word_tokenize\n",
        "from nltk.probability import FreqDist\n",
        "import re\n",
        "import pandas, xgboost, numpy, textblob, string\n",
        "import matplotlib.pyplot as plt\n",
        "import pandas as pd\n",
        "import numpy as np\n",
        "from string import punctuation\n",
        "from stop_words import get_stop_words\n",
        "from pymorphy2 import MorphAnalyzer\n",
        "import keras\n",
        "from keras.models import Sequential, Model\n",
        "from keras.layers import Dense, Dropout, Activation, Input, Embedding, Conv1D, GlobalMaxPool1D\n",
        "from keras.preprocessing.text import Tokenizer\n",
        "from keras.preprocessing.sequence import pad_sequences\n",
        "from keras.objectives import categorical_crossentropy\n",
        "from keras.callbacks import EarlyStopping\n",
        "from keras import optimizers\n",
        "from pymorphy2 import MorphAnalyzer\n",
        "from stop_words import get_stop_words\n",
        "from string import punctuation\n",
        "from gensim.models import Word2Vec\n",
        "nltk.download(\"punkt\")"
      ],
      "execution_count": 35,
      "outputs": [
        {
          "output_type": "stream",
          "text": [
            "[nltk_data] Downloading package punkt to /root/nltk_data...\n",
            "[nltk_data]   Package punkt is already up-to-date!\n"
          ],
          "name": "stdout"
        },
        {
          "output_type": "execute_result",
          "data": {
            "text/plain": [
              "True"
            ]
          },
          "metadata": {
            "tags": []
          },
          "execution_count": 35
        }
      ]
    },
    {
      "cell_type": "code",
      "metadata": {
        "id": "uIDobiQNjzga"
      },
      "source": [
        "# Устанавливаем гиперпараметры\n",
        "max_words = 500\n",
        "max_len = 80\n",
        "num_classes = 1\n",
        "epochs = 20\n",
        "batch_size = 512\n",
        "print_batch_n = 100"
      ],
      "execution_count": 3,
      "outputs": []
    },
    {
      "cell_type": "markdown",
      "metadata": {
        "id": "dCu2bz1bJwlZ"
      },
      "source": [
        "## Предобработка данных"
      ]
    },
    {
      "cell_type": "code",
      "metadata": {
        "id": "PPK4e9uVzDQv"
      },
      "source": [
        "data = pd.read_excel('summer.xls')"
      ],
      "execution_count": 4,
      "outputs": []
    },
    {
      "cell_type": "code",
      "metadata": {
        "id": "5eozCaEPvUo0",
        "outputId": "87ad08ae-2ce8-4418-87dd-3f9dd0b9efed",
        "colab": {
          "base_uri": "https://localhost:8080/",
          "height": 289
        }
      },
      "source": [
        "exclude = set(punctuation)\n",
        "stop_words = set(get_stop_words(\"ru\"))\n",
        "morpher = MorphAnalyzer()\n",
        "\n",
        "def preprocess_text(txt):\n",
        "    txt = str(txt)\n",
        "    txt = \"\".join(c for c in txt if c not in exclude)\n",
        "    txt = txt.lower()\n",
        "    txt = re.sub(\"\\sне\", \"не\", txt)\n",
        "    txt = [morpher.parse(word)[0].normal_form for word in txt.split() if word not in stop_words]\n",
        "    return \" \".join(txt)\n",
        "\n",
        "# Делаем предобработку и сокращаем количество классов до 2\n",
        "data['text'] = data['Content'].apply(preprocess_text)\n",
        "data = data[data['Rating'] != 3]\n",
        "data['target'] = data['Rating'] > 3\n",
        "data['target'] = data['target'].astype(int)\n",
        "data.head()"
      ],
      "execution_count": 5,
      "outputs": [
        {
          "output_type": "execute_result",
          "data": {
            "text/html": [
              "<div>\n",
              "<style scoped>\n",
              "    .dataframe tbody tr th:only-of-type {\n",
              "        vertical-align: middle;\n",
              "    }\n",
              "\n",
              "    .dataframe tbody tr th {\n",
              "        vertical-align: top;\n",
              "    }\n",
              "\n",
              "    .dataframe thead th {\n",
              "        text-align: right;\n",
              "    }\n",
              "</style>\n",
              "<table border=\"1\" class=\"dataframe\">\n",
              "  <thead>\n",
              "    <tr style=\"text-align: right;\">\n",
              "      <th></th>\n",
              "      <th>Rating</th>\n",
              "      <th>Content</th>\n",
              "      <th>Date</th>\n",
              "      <th>text</th>\n",
              "      <th>target</th>\n",
              "    </tr>\n",
              "  </thead>\n",
              "  <tbody>\n",
              "    <tr>\n",
              "      <th>0</th>\n",
              "      <td>5</td>\n",
              "      <td>It just works!</td>\n",
              "      <td>2017-08-14</td>\n",
              "      <td>it just works</td>\n",
              "      <td>1</td>\n",
              "    </tr>\n",
              "    <tr>\n",
              "      <th>1</th>\n",
              "      <td>4</td>\n",
              "      <td>В целом удобноное приложение...из минусов хотя...</td>\n",
              "      <td>2017-08-14</td>\n",
              "      <td>целое удобноной приложениеиз минус хотеть боль...</td>\n",
              "      <td>1</td>\n",
              "    </tr>\n",
              "    <tr>\n",
              "      <th>2</th>\n",
              "      <td>5</td>\n",
              "      <td>Отлично все</td>\n",
              "      <td>2017-08-14</td>\n",
              "      <td>отлично</td>\n",
              "      <td>1</td>\n",
              "    </tr>\n",
              "    <tr>\n",
              "      <th>3</th>\n",
              "      <td>5</td>\n",
              "      <td>Стал зависать на 1% работы антивируса. Дальше ...</td>\n",
              "      <td>2017-08-14</td>\n",
              "      <td>зависать 1 работа антивирус ранее пользоваться...</td>\n",
              "      <td>1</td>\n",
              "    </tr>\n",
              "    <tr>\n",
              "      <th>4</th>\n",
              "      <td>5</td>\n",
              "      <td>Очень удобно, работает быстро.</td>\n",
              "      <td>2017-08-14</td>\n",
              "      <td>удобно работать быстро</td>\n",
              "      <td>1</td>\n",
              "    </tr>\n",
              "  </tbody>\n",
              "</table>\n",
              "</div>"
            ],
            "text/plain": [
              "   Rating  ... target\n",
              "0       5  ...      1\n",
              "1       4  ...      1\n",
              "2       5  ...      1\n",
              "3       5  ...      1\n",
              "4       5  ...      1\n",
              "\n",
              "[5 rows x 5 columns]"
            ]
          },
          "metadata": {
            "tags": []
          },
          "execution_count": 5
        }
      ]
    },
    {
      "cell_type": "code",
      "metadata": {
        "id": "nwvx4_-RwFs7"
      },
      "source": [
        "from sklearn.model_selection import train_test_split\n",
        "X_train, X_test, y_train, y_test = train_test_split(data['text'], data['target'], test_size=0.2,\n",
        "                                                    random_state=13, stratify=data['target'])"
      ],
      "execution_count": 6,
      "outputs": []
    },
    {
      "cell_type": "markdown",
      "metadata": {
        "id": "DBmg3NMURfmg"
      },
      "source": [
        "## Токенизация и фильтрация токенов по популярности"
      ]
    },
    {
      "cell_type": "code",
      "metadata": {
        "id": "f7CdS61y6Se5"
      },
      "source": [
        "# Выполняем токенизацию и оставляем токены, состоящие из букв и цифр\n",
        "train_corpus = \" \".join(X_train)\n",
        "train_corpus = train_corpus.lower()\n",
        "tokens = word_tokenize(train_corpus)\n",
        "tokens_filtered = [word for word in tokens if word.isalnum()]"
      ],
      "execution_count": 7,
      "outputs": []
    },
    {
      "cell_type": "code",
      "metadata": {
        "id": "MW6hU-WU77f-",
        "outputId": "b941ae59-b0dd-4180-d3e6-20f0cb289df3",
        "colab": {
          "base_uri": "https://localhost:8080/",
          "height": 187
        }
      },
      "source": [
        "# Оставляем самые часто встречающиеся токены\n",
        "dist = FreqDist(tokens_filtered)\n",
        "tokens_filtered_top = [pair[0] for pair in dist.most_common(max_words-1)]\n",
        "tokens_filtered_top[:10]"
      ],
      "execution_count": 8,
      "outputs": [
        {
          "output_type": "execute_result",
          "data": {
            "text/plain": [
              "['приложение',\n",
              " 'удобно',\n",
              " 'работать',\n",
              " 'удобный',\n",
              " 'отлично',\n",
              " 'нравиться',\n",
              " 'отличный',\n",
              " 'хороший',\n",
              " 'телефон',\n",
              " 'супер']"
            ]
          },
          "metadata": {
            "tags": []
          },
          "execution_count": 8
        }
      ]
    },
    {
      "cell_type": "code",
      "metadata": {
        "id": "RMdZ0RGIkTQE",
        "outputId": "a0ac69f9-8d44-4e67-8ccc-be37ec095be4",
        "colab": {
          "base_uri": "https://localhost:8080/",
          "height": 34
        }
      },
      "source": [
        "len(tokens_filtered_top)"
      ],
      "execution_count": 9,
      "outputs": [
        {
          "output_type": "execute_result",
          "data": {
            "text/plain": [
              "499"
            ]
          },
          "metadata": {
            "tags": []
          },
          "execution_count": 9
        }
      ]
    },
    {
      "cell_type": "markdown",
      "metadata": {
        "id": "kB4S8gPpQ_Pd"
      },
      "source": [
        "## Векторизация данных"
      ]
    },
    {
      "cell_type": "code",
      "metadata": {
        "id": "9oMpeNZ_7_p-"
      },
      "source": [
        "vocabulary = {v: k for k, v in dict(enumerate(tokens_filtered_top, 1)).items()}"
      ],
      "execution_count": 10,
      "outputs": []
    },
    {
      "cell_type": "code",
      "metadata": {
        "id": "7nFQex7r8Cih"
      },
      "source": [
        "def text_to_sequence(text, maxlen):\n",
        "    result = []\n",
        "    tokens = word_tokenize(text.lower())\n",
        "    tokens_filtered = [word for word in tokens if word.isalnum()]\n",
        "    for word in tokens_filtered:\n",
        "        if word in vocabulary:\n",
        "            result.append(vocabulary[word])\n",
        "    padding = [0]*(maxlen-len(result))\n",
        "    return padding + result[-maxlen:]"
      ],
      "execution_count": 11,
      "outputs": []
    },
    {
      "cell_type": "code",
      "metadata": {
        "id": "EiJcLmPL8Fox"
      },
      "source": [
        "x_train = np.asarray([text_to_sequence(text, max_len) for text in X_train], dtype=np.int32)\n",
        "x_test = np.asarray([text_to_sequence(text, max_len) for text in X_test], dtype=np.int32)"
      ],
      "execution_count": 12,
      "outputs": []
    },
    {
      "cell_type": "code",
      "metadata": {
        "id": "lvWMUOlM80OP",
        "outputId": "c43b0ff8-4d2a-429a-bf5e-9f3cee0fd9c7",
        "colab": {
          "base_uri": "https://localhost:8080/",
          "height": 34
        }
      },
      "source": [
        "x_train.shape"
      ],
      "execution_count": 13,
      "outputs": [
        {
          "output_type": "execute_result",
          "data": {
            "text/plain": [
              "(15798, 80)"
            ]
          },
          "metadata": {
            "tags": []
          },
          "execution_count": 13
        }
      ]
    },
    {
      "cell_type": "markdown",
      "metadata": {
        "id": "vndX8m3889iH"
      },
      "source": [
        "## Обучение сети"
      ]
    },
    {
      "cell_type": "code",
      "metadata": {
        "id": "Tn2Y1asD844z"
      },
      "source": [
        "num_classes = 2\n",
        "y_train = keras.utils.to_categorical(y_train, num_classes)\n",
        "y_test = keras.utils.to_categorical(y_test, num_classes)"
      ],
      "execution_count": 14,
      "outputs": []
    },
    {
      "cell_type": "code",
      "metadata": {
        "id": "P6m5kOM_9UoE"
      },
      "source": [
        "model = Sequential()\n",
        "model.add(Embedding(input_dim=max_words, output_dim=128, input_length=max_len))\n",
        "model.add(Conv1D(128, 3))\n",
        "model.add(Activation(\"relu\"))\n",
        "model.add(GlobalMaxPool1D())\n",
        "model.add(Dense(10))\n",
        "model.add(Activation(\"relu\"))\n",
        "model.add(Dense(num_classes))\n",
        "model.add(Activation('softmax'))"
      ],
      "execution_count": 15,
      "outputs": []
    },
    {
      "cell_type": "code",
      "metadata": {
        "id": "QL7xt_uQ9cHU"
      },
      "source": [
        "model.compile(loss='categorical_crossentropy',\n",
        "              optimizer='adam',\n",
        "              metrics=[keras.metrics.AUC()])"
      ],
      "execution_count": 16,
      "outputs": []
    },
    {
      "cell_type": "code",
      "metadata": {
        "id": "1gIc8nD39ocY",
        "outputId": "d7bd1160-07cd-4cbf-f12e-a3f9680df8ae",
        "colab": {
          "base_uri": "https://localhost:8080/",
          "height": 153
        }
      },
      "source": [
        "early_stopping=EarlyStopping(monitor='val_loss')  \n",
        "\n",
        "history = model.fit(x_train, y_train,\n",
        "                    batch_size=batch_size,\n",
        "                    epochs=epochs,\n",
        "                    verbose=1,\n",
        "                    validation_split=0.1,\n",
        "                    callbacks=[early_stopping])"
      ],
      "execution_count": 17,
      "outputs": [
        {
          "output_type": "stream",
          "text": [
            "Epoch 1/20\n",
            "28/28 [==============================] - 1s 29ms/step - loss: 0.4472 - auc: 0.8812 - val_loss: 0.3323 - val_auc: 0.9543\n",
            "Epoch 2/20\n",
            "28/28 [==============================] - 0s 15ms/step - loss: 0.2540 - auc: 0.9632 - val_loss: 0.2139 - val_auc: 0.9736\n",
            "Epoch 3/20\n",
            "28/28 [==============================] - 0s 16ms/step - loss: 0.1832 - auc: 0.9799 - val_loss: 0.1961 - val_auc: 0.9767\n",
            "Epoch 4/20\n",
            "28/28 [==============================] - 0s 15ms/step - loss: 0.1662 - auc: 0.9830 - val_loss: 0.1964 - val_auc: 0.9772\n"
          ],
          "name": "stdout"
        }
      ]
    },
    {
      "cell_type": "code",
      "metadata": {
        "id": "bnKOZ6sA96AM",
        "outputId": "5632a16d-1275-49e0-8d64-e22fa7ffe4f3",
        "colab": {
          "base_uri": "https://localhost:8080/",
          "height": 102
        }
      },
      "source": [
        "score = model.evaluate(x_test, y_test, batch_size=batch_size, verbose=1)\n",
        "print('\\n')\n",
        "print('Test score:', score[0])\n",
        "print('Test accuracy:', score[1])"
      ],
      "execution_count": 18,
      "outputs": [
        {
          "output_type": "stream",
          "text": [
            "8/8 [==============================] - 0s 7ms/step - loss: 0.1787 - auc: 0.9809\n",
            "\n",
            "\n",
            "Test score: 0.17871101200580597\n",
            "Test accuracy: 0.980949342250824\n"
          ],
          "name": "stdout"
        }
      ]
    },
    {
      "cell_type": "markdown",
      "metadata": {
        "id": "8HAVkSOrQeer"
      },
      "source": [
        "## Сеть с предобученным W2V"
      ]
    },
    {
      "cell_type": "code",
      "metadata": {
        "id": "wHVEz3g7hlpl"
      },
      "source": [
        "data['text_tekens'] = data['text'].apply(word_tokenize)"
      ],
      "execution_count": 19,
      "outputs": []
    },
    {
      "cell_type": "code",
      "metadata": {
        "id": "zcKrxMSNiSJa",
        "outputId": "5a03a8f1-751a-4b02-e1d4-c7307a987064",
        "colab": {
          "base_uri": "https://localhost:8080/",
          "height": 145
        }
      },
      "source": [
        "data.head(2)"
      ],
      "execution_count": 20,
      "outputs": [
        {
          "output_type": "execute_result",
          "data": {
            "text/html": [
              "<div>\n",
              "<style scoped>\n",
              "    .dataframe tbody tr th:only-of-type {\n",
              "        vertical-align: middle;\n",
              "    }\n",
              "\n",
              "    .dataframe tbody tr th {\n",
              "        vertical-align: top;\n",
              "    }\n",
              "\n",
              "    .dataframe thead th {\n",
              "        text-align: right;\n",
              "    }\n",
              "</style>\n",
              "<table border=\"1\" class=\"dataframe\">\n",
              "  <thead>\n",
              "    <tr style=\"text-align: right;\">\n",
              "      <th></th>\n",
              "      <th>Rating</th>\n",
              "      <th>Content</th>\n",
              "      <th>Date</th>\n",
              "      <th>text</th>\n",
              "      <th>target</th>\n",
              "      <th>text_tekens</th>\n",
              "    </tr>\n",
              "  </thead>\n",
              "  <tbody>\n",
              "    <tr>\n",
              "      <th>0</th>\n",
              "      <td>5</td>\n",
              "      <td>It just works!</td>\n",
              "      <td>2017-08-14</td>\n",
              "      <td>it just works</td>\n",
              "      <td>1</td>\n",
              "      <td>[it, just, works]</td>\n",
              "    </tr>\n",
              "    <tr>\n",
              "      <th>1</th>\n",
              "      <td>4</td>\n",
              "      <td>В целом удобноное приложение...из минусов хотя...</td>\n",
              "      <td>2017-08-14</td>\n",
              "      <td>целое удобноной приложениеиз минус хотеть боль...</td>\n",
              "      <td>1</td>\n",
              "      <td>[целое, удобноной, приложениеиз, минус, хотеть...</td>\n",
              "    </tr>\n",
              "  </tbody>\n",
              "</table>\n",
              "</div>"
            ],
            "text/plain": [
              "   Rating  ...                                        text_tekens\n",
              "0       5  ...                                  [it, just, works]\n",
              "1       4  ...  [целое, удобноной, приложениеиз, минус, хотеть...\n",
              "\n",
              "[2 rows x 6 columns]"
            ]
          },
          "metadata": {
            "tags": []
          },
          "execution_count": 20
        }
      ]
    },
    {
      "cell_type": "code",
      "metadata": {
        "id": "2sD_7lzDWu4-",
        "outputId": "43ebed0f-30a6-4689-d456-449681dfe74d",
        "colab": {
          "base_uri": "https://localhost:8080/",
          "height": 34
        }
      },
      "source": [
        "w2v_model = Word2Vec(data['text_tekens'], size=128, window=5, min_count=1, workers=8)\n",
        "w2v_model.train(data['text_tekens'], total_examples=data['text_tekens'].shape[0], epochs=20)"
      ],
      "execution_count": 21,
      "outputs": [
        {
          "output_type": "execute_result",
          "data": {
            "text/plain": [
              "(1508613, 1864340)"
            ]
          },
          "metadata": {
            "tags": []
          },
          "execution_count": 21
        }
      ]
    },
    {
      "cell_type": "code",
      "metadata": {
        "id": "8rCf4UZJigGz",
        "outputId": "0ae11a30-ddd0-4482-e9eb-dfaaa06d4aab",
        "colab": {
          "base_uri": "https://localhost:8080/",
          "height": 54
        }
      },
      "source": [
        "w2v_model.wv.vocab.keys()"
      ],
      "execution_count": 22,
      "outputs": [
        {
          "output_type": "execute_result",
          "data": {
            "text/plain": [
              "dict_keys(['it', 'just', 'works', 'целое', 'удобноной', 'приложениеиз', 'минус', 'хотеть', 'большой', 'доступ', 'персональный', 'данные', 'телефонеприходиться', 'пользоваться', 'ограниченный', 'режим', 'отлично', 'зависать', '1', 'работа', 'антивирус', 'ранее', 'нормально', 'удобно', 'работать', 'быстро', 'норма', '👍👍👍', 'удобный', 'приложение', 'устраивать', 'чётко', 'отличие', 'банкомат', 'вечно', 'тупить', 'хорошо👍', 'около', 'уведомлениенельзя', 'удалять', 'стартовать', 'gps', 'sms', 'звонок', 'адресный', 'книга', 'филиал', 'фсб', 'один', 'слово', 'замечательный', 'подвисанийнуть', 'штука', 'отличный', 'практично', 'оплата', 'платёж', 'перевод', 'транспортный', 'карта', 'пополнять', 'вообще', 'жаль', 'история', 'движение', 'семья', 'замок', 'хороший', 'лишний', 'хлопоты', 'полезный', 'запуститься', 'сбербанк', 'живой', 'швейцарский', 'часы', 'супер', 'быстрокомфортный', 'поиск', 'наименование', 'служба', 'молодец', 'круто', 'хорошечный', 'пользуюсьня', 'взгляд', 'иня', 'вызывать', 'нарекание', 'приложениепользоваться', 'летнареканийнуть', 'мило', 'приложениеработать', 'ураочень', 'последний', 'обновлениен', 'устанавливаться', 'удаление', 'программа', 'попытка', 'повторный', 'установка', 'идти', 'скачивание', 'итд', 'конец', 'телефон', 'asus', 'z00d', 'исправт', 'успешный', 'использование', 'устройство', 'долгий', 'приходить', 'смсон', 'маг', 'зайти', 'понятно', 'приложениен', 'открывать', 'шаблон', 'отличноспасибо', 'буэ', 'ходить', 'регулярно', 'приходиться', 'раз', 'вводить', 'пароль', 'войти', 'практичный', 'советовать', 'мочь', 'переводить', 'деньга', 'закидывать', 'мобильный', 'любой', 'оператор', 'сбербанканета', 'загружаться', 'помогать', 'экономить', 'спосиб', 'приятно', 'клёво', 'ува', 'meizu', 'mx5', 'сканер', 'отпечаток', 'настроить', 'данный', 'они', 'ана', 'знать', 'андроид', 'возможно', 'лагаета', 'бывать', 'проблема', 'вход', 'прога', 'довольный', 'вний', 'еслина', 'смс', 'код', 'подтверждение', 'самый', 'сравнение', 'аналогичный', 'подвисать', 'редко', 'маладец', 'ребята', 'благодарить', 'придложение', 'удобнолегко', 'сердито', 'нравиться', 'доволеннесмотрить', 'возникать', 'сбой', 'связь', 'сервер', 'рекаминдуть', 'глюк', 'сильный', 'иной', 'разня', 'первый', 'получаться', 'возможность', 'ресурс', 'поэтому', 'звезда', 'мутный', 'услуга', 'навязывать', 'гуд', 'неплохой', 'загрузка', 'быстрый', 'контролировать', 'расход', 'шикарный', 'никакой', 'лаг', 'нареканийнуть', 'быня', 'ноне', 'понять', 'накапливать', 'балл', 'оптимизировать', 'приложениеа', 'скачать', 'зарегистрироваться', 'какна', 'сообщение', 'плюс', 'почемуть', 'показываться', 'список', 'запустить', 'меню', 'заходить', 'обновлениян', 'выдавать', 'ошибка', 'класс', 'стильный', 'интерфейсон', 'помешать', 'функциональность', 'всенеобходимый', 'управление', 'финансы', 'программан', 'корректно', 'старый', 'nexus5', 'рекомендовать', 'здорово', 'выполнять', 'операция', 'деньгамина', 'выходить', 'дом', 'крайний', 'мера', 'переводиться', 'сразу', 'рэкомэндовать', 'удобноне', 'помощь', 'довольнаспасибо', 'разработчик', '3', 'пытаться', 'зарегиться', 'разуна', 'прийти', 'чинить', 'денежный', 'средство', 'легко', 'просматривать', 'super', 'rrrr', 'ввод', 'пинкод', 'процесс', 'тормозить', 'ррр', 'крутоспасибо', 'требовать', 'классс', 'пишетний', 'оригинальный', 'прошивка', 'хотеться', 'функция', 'онлайнбанк', 'тинькофф', 'сменить', 'пин', 'прямо', 'забываться', '2', 'вылетать', 'окно', 'постоянно', 'пропасть', 'кнопка', 'xiaomi', 'мой', 'android', 'огонь', 'вода', 'долговато', 'грузиться', 'остальной', 'выручать', '«', '»', 'загружать', 'система', 'подключить', 'кне', 'выкидывать', 'начало', 'новый', 'начинать', 'проходчта', 'точно', 'красивый', 'интерфейс', 'огромный', 'ппрольня', 'жрать', 'батарея', 'фоновый', 'процессор', 'выключить', 'состояние', 'ставить', '5', 'чтонуть', 'яненайти', 'вывод', 'интернет', 'кошелёк', 'месяцна', 'исправить', 'корректность', 'сумма', 'остаток', 'задолженность', 'судебный', 'пристав', 'просить', 'принять', 'надёжность', 'бесполезный', 'софт', 'root', 'работатьня', 'приложениеочень', 'оплачивать', 'онлайн', 'обновить', 'дизайн', 'ios', 'больший', 'экономия', 'временина', 'банк', 'лично', 'янесколько', 'день', 'простон', 'присылать', 'номер', 'азат', 'азиат', 'нармальный', 'производить', 'отображать', 'всюнеобходимый', 'информация', 'жальчто', 'клиент', '35', 'наличие', 'радовать', 'размерна', 'слонудобный', 'нравитсяудобный', '👍👍', 'скорость', 'нонет', 'предел', 'совершенство', 'дашурик', 'нужный', 'прикольно', '600мба', 'свободный', 'место', 'равноне', 'выдаетнедостаточный', 'идея', 'шикарно', 'проходить', 'регистрация', 'класна', 'когдан', 'сайт', 'снизить', 'отношение', 'начать', 'приятный', 'посмотреть', 'показать', 'проблемнуть', 'сильно', 'высаживать', 'хорошеить', 'рута', 'право', 'жить', 'делуничего', 'дняня', 'открываться', 'писать', 'инициализация', 'подсказать', 'делать', 'охренель', 'распознавать', 'половина', 'вирус', 'рука', 'преложение', 'решить', 'предложение', 'виснуть', 'im', 'satisfied', 'with', 'this', 'app', 'находиться', 'раздрожать', 'уведомление', 'переключить', 'пуш', 'наоборот', 'вставить', 'полный', 'отключение', 'нахождение', 'fly', 'numbus3', 'скачиваться', 'крайнен', 'отличновсе', 'крутой', 'здорого', 'фигня', 'либо', 'опоздание', 'надёжно', 'обнаружить', 'файл', 'крэк', 'игра', 'файлна', 'удалённый', 'давать', 'разрешение', 'удалить', 'результат', 'ноль', 'фигнять', 'почемун', 'перезапускать', 'проверка', 'перезагрузка', 'телефонана', 'функционал', 'естьнебольшой', 'перевести', 'счёт', 'друг', 'счетний', 'возможный', 'запретить', 'такой', 'проблемень', 'возникнуть', 'збс', 'рационально', 'китайский', 'тапочка', '3тыр', 'однонемного', 'напрягать', 'спрашивать', 'истечь', 'лицензия', 'обновление', 'стать', 'плохой', 'намного', 'невозможно', 'соединение', 'сеть', 'бред', 'дерьмо', 'сервис', 'качественно', 'главное', 'смочь', 'проверять', 'косо', 'смотреть', 'navitel', 'нареканийнет👍', 'окей', 'наглядно', 'палата', 'кредит', 'удобнокруто', 'зайтина', 'сплошной', 'времени😎', 'весьма', 'поработать', 'добрый', 'помощникно', 'добавляться', 'покупка', 'androidpay', 'ручной', 'добавлять', 'кастомный', 'ян', 'гордиться', 'ваш', 'сделать', 'способ', 'кастома', 'слабо', 'скачивать', 'приложениекаждый', 'загрузкизагрузка', 'начинаться', 'новойчто', 'уйня', 'этот', '👍👍👍👍', 'оперативно', 'удобство', 'порядок', 'многий', 'пользователь', 'кривая', 'отключить', 'видеть', 'ругаться', 'вовсе', 'тд', 'контакт', 'прочий', 'конфиденциальный', 'игнорирование', 'снести', 'черезнеделя', 'обновиться', 'трабла', 'улучшение', 'заметныпереть', 'набирать', 'такна', 'плохо', 'oтлично', 'усилить', 'защита', 'момент', 'воспользоваться', 'порадовать', 'считывание', 'штрихкод', 'очный', '☺', 'появиться', 'перестать', 'сохранить', 'выбрасывать', 'lexx', 'удобнпереть', 'условие', 'классный', 'ааауууа', 'заново', 'вносить', 'дать', 'отправлять', 'доводить', 'человек', 'истерика', 'вынудить', 'многократно', 'посылать', 'запрос', 'слабый', 'смартфон', 'работаетний', 'нормальный', 'таки', 'интуитивный', 'здравствуйте', 'телефонна', 'дорога', '11тр', 'стабильно', 'какой', 'замечание', '5из5', '☺👍', 'ужасный', 'заставить', 'мегафон', 'шик', 'блеск', 'спасибоя', '100', 'случиться', 'котороен', 'равно', 'использовать', 'компьютер', 'вроденеплохо', 'кул', 'установить', 'жена', 'max', 'тк', 'стоять', 'rootправо', 'чистый', 'вмешательство', 'андройда', '7', 'стоить', 'вчера', 'серверна', 'отвечать', 'происходить', 'протяжение', 'бредовый', 'постоянный', 'приводить', 'разраб', 'должный', 'улучшаться', 'мусор', 'случай', 'оплатить', 'потерять', 'скидка', 'ещён', 'получить', 'бредятина', 'подключилнедавнопока', 'особый', 'исключениемнесколький', 'случаевневозможность', 'подключение', 'серверуприложение', 'вполне', 'сносно', 'дажена', 'запускаться', 'чеготь', 'тамнер', 'закончить', 'судить', 'ужена', 'создатьня', 'понеобходимость', 'третий', 'заработать', 'поменять', 'полёт', 'mm', 'хватать', 'виджет', 'текущий', 'баланс', 'лайк', 'покан', 'встретить', '4', 'изз', 'вкладка', 'имхо', 'чёткий', 'харонуть', 'висеть', 'ложить', 'желать', 'ночь', 'вечер', 'утро', 'чюток', 'логаета', 'написать', 'соединениенебезопасный', 'вернуть', 'обратно', 'всена', 'выписка', 'почитавнегативный', 'комент', 'связанный', 'мб', 'понимать', 'идеальногонет', 'сойти', 'проверитьня', 'следствие', 'зависание', 'сменивне', 'учень', 'зачастуюна', 'доступный', 'привет', 'кудан', 'приложух', 'облегчить', 'all', 'right', 'пойти', 'вопрос', 'смысл', 'ограничение', 'фактически', 'запрет', 'rootустройство', 'браузер', 'кучейнеудобство', 'ps', 'стокомня', 'любить', 'загонынедобанк', 'дебилизм', 'приложениинельзя', 'типанебезопасно', 'снеё', 'отправить', 'понь', 'корра', 'бик', 'тп', 'еслинеобходимый', 'вонючий', 'шарага', 'инет', 'альтернатива', 'район', 'тон', 'хватаести', 'хватить', 'незаменимый', 'дорогой', 'онлайнпереть', '24', 'такисправить', 'превращать', 'циклоп', 'весить', 'мегабайт', 'порн', 'вестись', 'рыться', 'страничка', 'медленно', 'минута', 'ждать', 'обнаглеть', 'samsung', 'galaxy', 's8', 'преложения', 'другой', 'абонент', 'годаsony', 'z3никакий', 'времян', 'былодажа', 'включить', 'приложениеединственный', 'дваждын', 'думать', 'связисейчас', 'sony', 'sola', '2012год', '404', 'удрбный', 'доступно', 'понравиться', 'оч', 'работаетмн', 'сбербанконлайн', 'классон', 'ответ', 'создавать', 'большиенеудобстван', 'видный', 'вклад', 'открытый', 'округ', 'считать', 'пользователян', 'волновать', 'внутренний', 'крутоудобный', 'практичнотвёрдый', 'др', 'страна', '👍😁', 'нравитьсянеплохой', 'достаточно', 'естьнекоторое', 'нюанс', 'мелочь', 'втб', 'отвратительный', 'весь', 'спустя', 'годень', 'вне', 'никтоня', 'читать', 'оперативнон', 'решать', 'самсунг', 'минь', 'проводиться', 'модернизация', 'оочень', 'уобноно', 'расслаблять', 'тупой', 'рукожопа', 'наковырять', 'предидти', 'версия', 'внести', 'дополнение', 'абсолютнон', 'поставить', 'тупарин', 'довести', 'ум', 'приходящий', 'оповещение', 'бесить', 'взять', 'версию？', 'juda', 'zor', 'ekat', 'menga', 'yoqdi', 'telefon', 'orqali', 'tolovlar', 'amalga', 'oshryapman', 'никакихня', 'тупитня', 'единственный', 'смена', 'регистрироваться', 'чудесно', 'nice', 'авторизация', 'палец', 'вещь', 'нужноить', 'всплывать', 'отвращениеразработчик', 'комп', 'посидетьч', 'гв', 'держатьодний', 'вылет', 'целый', '12', 'вирусспам', 'административный', 'osters', 'atlantic', '4g', 'превосходно', 'устройствон', 'глючитня', 'притормаживать', 'разговор', 'mabe', 'in', 'ашот', 'made', 'china', 'салон', 'брать', 'какнекоторое', 'типан', 'китай', 'сейчаснуть', 'фирма', 'глючить', '512', 'оз', 'оперативный', 'память', 'ктоня', 'какоготь', 'касперский', '360', 'security', 'подобный', 'шняга', 'проверить', 'качать', 'найти', 'нахна', 'администратор', 'уран', 'слушайте', 'ныть', 'менять', 'каждый', 'комиссия', 'регион', 'автоматически', 'добавиться', 'избранный', 'понесколько', 'вновь', 'появляться', 'открытие', 'настройка', 'этонельзя', 'бесятнеудобный', 'обидно', 'этоня', 'собираться', 'исправлять', 'критично', 'иззанеоригинальный', 'удобномолодец', 'пояснение', 'процент', 'суммын', 'списываться', 'специально', 'запуск', 'частенько', 'бесконечный', 'разница', 'илинет', 'конченый', 'ока', '963', 'десять', 'кристина', 'подеваться', 'работатьнесколько', 'секунда', 'сбрасывать', 'личный', 'письмо', 'месяц', 'приложениетолько', 'потяжелеть', 'проводить', 'ура', 'опция', 'ибо', 'стопорить', 'понятный', 'безопасный', 'глючный', 'безупречно', 'простота', 'обслуживание', 'неплохо', 'нормальнр', 'фантастика', 'деревня', 'расплатиться', 'ксистый', 'город', 'дрвезти', 'дочь', 'оригинвльный', 'сброс', 'заводский', 'гуглна', 'помочьня', 'исправление', 'техподдержка', 'сбербанкан', 'париться', 'совершать', 'твёрдый', '4ку', 'тянуть', 'работаетести', 'тонекорректный', 'работаэтый', 'повод', 'задуматьсямочь', 'свой', 'древний', 'аппарат', 'классно', 'лёгкий', 'простой', 'доставлять', 'дискомфорт', 'желание', 'хум', 'собачий', '2го', 'короче', 'говнищий', 'безопасно', 'удалиться', 'установливаться', 'ничтоня', 'тяжело', 'norm', 'push', 'выбрать', 'развиваться', 'наш', 'ltз', 'надеяться', 'толькон', 'говорить', 'ведроид', '43ич', 'пользование', 'быможный', 'восстановить', 'бывший', 'паспорт', 'украинский', 'украсть', 'оченьня', 'раса', 'просьба', 'расширить', 'хватаетнемный', 'раздражать', 'включение', 'картина', 'этонеизбежно', 'удивить', 'разан', 'интуитивно', 'клавиатура', 'пятизначный', 'отличноевсё', 'заход', 'пороть', 'обнавить', '👍👍👌👍👌👎👌', 'приложение👍', 'гос', 'устанавливать', 'выпускаться', 'одновременно', 'надежда', 'переустановить', 'теперьня', '50', 'мег', 'словнуть', 'удобнохорошо', 'здравствуй', 'нравитсяможный', 'добавить', 'штрих', 'идеально', 'рутировать', 'фин', 'расчёт', 'завершить', 'претензиюсраза', 'говорятзаходить', 'логинпароль', 'помнить', 'безопасность', 'вроде', 'жкх', 'снимать', 'всеравный', 'доработка', 'супер👍', 'насколько', 'заметно', 'ускориться', 'видно', 'отзыв', 'абсолютнонеинформативный', 'исправно', 'убрать', 'экран', 'автоповорот', 'попробовать', 'повертеть', 'телевизор', 'стена', 'бок', 'вылезти', 'шустрый', 'форма', 'создатель', '130817', 'функциональный', 'позволять', 'управлять', 'счетамин', 'тратить', 'накопить', 'разбираться', 'особо', 'удар', 'чак', 'норис', 'нога', 'рпзворота', 'часть', 'm5s', 'нагло', 'системный', 'захотеть', 'пошевелиться', 'поступать', 'уметь', 'тестить', 'релиз', 'следовать', 'отдел', 'разработка', 'бежать', 'предложить', 'греф', 'upd', 'середина', 'август', '2017', 'радоваться', 'концана', 'освоить', 'планшет', 'ужасно', 'самоечто', 'егон', 'горизонтальноа', 'вертикально', 'сделатьня', 'перечень', 'категория', 'раздел', 'платежина', 'отображаться', 'налицо', 'прогресс', 'чепуха', 'rootдоступ', 'копилкан', 'образ', 'иименеджер', 'ничегон', 'толком', 'объяснить', 'постоять', 'крутооо', 'спс', 'вылетынапихать', 'толк', 'программка', 'удобносистема', 'безопастность', 'ураспасибо', 'асус', 'зенфон2', 'прилодение', 'прикольный', 'сэкономить', 'чужое', 'общемень', 'маленький', 'подозрительный', 'удобнопрактичносупер', 'растягивать', 'параметр', 'оценка', 'рад', 'уважаемый', 'допилить', 'этонедоразумение', 'быланезащищённый', 'унегонет', 'баг', 'клепать', 'банковский', 'прекрасноно', 'находить', 'сохранять', 'чек', 'куча', 'почемунельзя', 'например', 'комунальный', 'перечислять', 'черезний', 'исключительно', 'картинка', 'томчто', 'тднельзя', 'создать', 'ощущение', 'бонус', 'обновлять', 'измененийнуть', 'дело', 'илья', 'раман', 'зайтить', 'личкабинетпарольня', 'принимать', 'интересный', 'входить', 'подтупливать', 'вообщен', 'работалоно', 'спасибо🤗', 'бомба', 'приложениенельзя', 'скачиваютсянесколько', 'подряд', 'выскакивать', 'надписьюн', 'удаться', 'итог', 'реально', 'поскольку', 'текст', 'праваминельзя', 'ответственность', 'владелец', 'пункт', 'фон', 'съедать', 'акб', 'пользуясьнедавно', 'отлич', 'карманный', 'моросить', 'приложениемень', 'удобновёс', 'делатьня', 'negmatovxusniddin', 'прийтись', 'насоздавать', 'суперский', '🆗', '💪', 'атлично', 'работаетв', 'произойти', 'ошибкасамсунг', 'таб', 'принцип', 'уходить', 'цикл', 'москва', '2год', 'пополнение', 'меняться', 'положить', '1000', 'показывать', 'всёнеплохо', 'быстроудобный', 'классноеочень', 'отладка', 'подводить', 'самыйн', 'подходящий', 'оставлять', 'ппц', 'урезать', 'этимн', 'бориться', 'ладный', 'зависаниц', 'зер', 'выйти', 'картытеперь', 'партнёр', 'ерунда', 'какнеоплаченный', 'нажатие', 'наний', 'родный', 'определять', 'какнеоригинальный', 'к', 'карл', 'урезанный', 'срочно', 'ккуть', 'хорошоя', 'работатьпишетчтый', 'сетьнедоступный', 'redmi', 'pro', 'мобильно', 'ващий', 'нормес', 'суперочень', 'кварплатууслугидетсад', 'школьный', 'питание', 'местагде', 'находилсяещ', 'сканирование', 'штрихкодапросто', 'отсканировать', 'оплатилна', 'вбивать', 'семерочка', 'рабртаять', 'угу', 'второй', 'cool', 'сбернечий', 'кот', 'вместо', 'название', 'организация', 'символ', 'исправьтенедочёт', 'отличноеспасибо', 'наблюдаться', 'двойной', 'обнавление', 'ловить', 'забота', 'лк', 'ограничивать', 'главный', 'шустро', 'отдельный', 'pay', 'претензийнуть', 'планирование', 'следующий', 'имм', 'вам👍', 'перёма', 'щение', 'денежн', 'заканчиваться', 'перепошивка', 'отказываться', 'сбер', 'перепрошить', 'всеравнон', 'какаять', 'avon', 'повторить', 'танец', 'бубномня', 'досрочно', 'погасить', 'всегьд', 'водун', 'опнуть', 'тить', 'заниматься', 'туполобый', 'программист', 'сидеть', 'нахрен', 'идиотизм', 'дебильный', 'алгоритм', 'прошивкиroot', 'контактыня', 'взваливать', 'фсбень', 'объятьнеобъятный', 'хреноводеньга', 'перечислить', 'бубен', 'сделатькучий', 'кодовен', 'зря', 'раньшен', 'аккуратно', 'ресурсызапускаться', 'проситнесколько', 'офлайн', 'удобножалить', 'пополнениина', 'крутяк', 'хреньня', 'странный', 'показаться', 'сторона', 'знакоми', 'кодный', 'встроить', 'блокировать', 'установленный', 'тело', 'тормоз', 'важный', 'антивирь', 'мнен', 'входитьхотя', 'прилетать', 'смсбыть', 'совершить', 'онлайнво', 'зависнуть', 'выдать', 'отвисать', 'переустановка', 'пэй', 'заметить', 'аватарка', 'сохраняться', 'перезапуск', 'пусто', 'мол', 'сфоткайт', 'пройти', '6', 'шаг', 'устранениюнеполадка', 'результатать', 'помочь', 'надпись', 'действие', 'прекращаться', 'длительный', 'посчитать', 'модифицированный', 'чегон', 'перебдеть', 'явно', 'перебздели', 'косяк', 'слева', 'контакты', 'vse', 'normalno', 'табличка', 'вирусын', 'нажимать', 'отключаться', 'звонить', 'поддержка', 'идиотка', 'перезагрузить', 'сносить', 'плей', 'маркет', '505', 'приехать', 'большен', 'теперьнеожиданный', 'открывание', 'жидкий', 'стабильный', 'пожелание', 'получать', 'расходоваться', 'астана', 'лучшен', 'придумать', 'квитанция', 'активность', 'блокироваться', 'класа', 'электронный', 'жертвовать', 'приложеный', 'ублюдская', 'сидя', 'диван', 'различный', 'старание', 'хорошоспасибо', 'копилка', 'лишнегопять', 'достойный', 'hela', 'наличкан', 'сей', 'удобнобыстрогда', 'угодный', 'замечтательно', 'приложениевсем', 'запускаетсян', '23раз', 'кабинет', 'ничегонельзя', 'ограниченый', 'узнать', 'дерьмовый', 'сказать', 'выглядеть', 'дважды', 'облопошить', 'рублейпокан', 'будетнегативный', 'пусть', 'надёжный', 'естьнескольконедочёт', 'тольконевидный', 'обязательный', 'кредитный', 'быстроочень', 'ужас', 'переход', 'страница', 'оченьнеудобный', 'малаци', 'работоспособность', 'гнать', 'шея', 'безотказно', 'самопроизвольно', 'перезагружаться', 'остановить', 'андроидна', 'расчитать', 'гарри', 'останавливаться', 'достигнутый', 'альфа', 'держать', 'извинить', 'чушь', 'антивирусникнуть', 'начальный', 'этапена', 'пробовать', 'разный', '👎', 'прекрасный', 'дезайн', 'рутованный', 'верь', 'прпрррп', 'годиться', 'разработчикиприложение', 'baseapk', 'папка', 'data', 'разрешить', 'ихна', 'наверно', 'встроиться', 'менянета', 'хард', 'ресетний', 'охота', 'восстанавливать', 'доработать', 'blackview', '6000s', 'ничегонетний', '44', 'айса', 'пользуюсьдоступный', 'упроститься', 'общий', 'сагрилось', 'игрушка', 'реклама', 'закачка', 'очистить', 'кэш', 'тоталый', 'коммандер', '—', 'чисто', 'пк', 'запускать', 'идентит', 'прежний', 'изучить', 'починить', 'спосибо', 'улучшить', 'подтормаживать', 'связьня', 'виситня', 'удобнопросто', 'логично', 'понесколька', 'разобраться', 'normes', 'спросить', 'приветствие', 'полнейшаяпароль', 'минутзатем', 'забить', 'удалиллогин', 'занятпридумать', 'оригинальныйд', 'который', 'придумалдажа', 'алкоголик', 'похмелие', 'придуматьня', 'сможетхрень', 'полнаяработать', 'товарищ', 'наличкуниктон', 'отслелита', 'финансывсем', 'удача', 'отъезд', 'следить', 'минусон', 'полноценно', '5не', 'малый', 'ожидание', 'давноне', 'нюхняк', 'бесплатный', 'блогодарина', 'времяневозможный', 'войтис', 'придуприждение', 'инеоригинальный', 'прошивкекоторое', 'выскакиваетдважды', 'пороль', 'эточто', 'разработчикивчий', 'както', 'надоесть', 'fire', 'doesnt', 'work', 'after', 'the', 'latest', 'update', 'зарплата', 'сберн', 'плач', 'абсолютно', 'полностью', 'наиля', '963ич', 'обновляться', '30', 'самостоятельно', 'что', 'лезть', 'поверх', 'задолбать', 'готовый', 'компасть', 'есть', 'телефоненетв', 'общемтотолько', 'нужныпоэтому', 'чтоня', 'никомун', 'выбирать', 'удобнонедорогий', 'быстро\\u200b', 'красиво', 'исполнить', 'вообщеть', 'платежейнельзя', 'памятинесколько', 'похоже', 'сбор', 'однозначно', 'этогон', 'приложениеоно', 'многое', 'напрасно', 'бегать', 'инвалид', 'группа', 'сложно', 'переводень', 'вставать', 'постель', 'актуально', 'not', '3pro', 'yaxshi', 'narsa', 'ekan', 'qulaygina', 'ajoyib', 'маразмн', 'рутированый', 'превосходный', 'лаконичный', 'глаз', 'цвет', 'честной', 'саул', 'запрашивать', 'щетая', 'карман', 'классноудобный', 'телефонный', 'убирать', 'мешать', 'ригестрациина', 'регестрироваться', 'проблемный', 'антивирусный', 'рандомный', 'сгенерировать', 'логин', 'приложениянуть', 'буфер', 'обмен', 'забивать', '90', 'тинькова', 'рокета', 'привязанан', 'предполагаться', 'вытащить', 'симка', 'прогана', 'работаетать', 'тольконепонятный', 'ввести', 'высылать', 'сбоевменить', 'циферка', 'инфоэкран', 'поправьтеть', 'народ', 'платишьня', 'дивана👍😆', 'тольконемный', 'свёрнутый', 'вид', 'разворачивать', 'просмотр', 'развернуть', 'откуда', 'полгода', 'знакомый', 'искать', 'зваться', 'ok', 'повториться', 'тонуть', 'восторге🤘👍👌😋💋', 'комфортно', 'телефонеа', 'блокируеточень', 'обновлнния', 'защитить', 'обязательно', 'занимать', 'онеоригинальный', 'васна', 'ради', 'убожество', 'покупать', 'зависаетстер', 'вечером', 'изменить', 'дождаться', 'удобый', 'лицо', 'адроид', '422', '75', 'сотрудник', 'корректноочень', 'удобнодоступный', 'бистро', 'айфон', 'кстати', 'гораздо', 's7', 'кстатин', 'qr', 'комуналка', 'дупельпусто', 'исчезнуть', 'заранее', 'полноценный', 'информациия', 'юрлицо', 'информативный', 'угнетать', 'год', 'моментально', '👎👎👎', 'битый', 'часна', 'совершитьня', 'устранить', 'проблемупосле', 'кодмочь', 'вылететь', 'отобрать', 'отказ', 'черезнекоторое', 'wifi', 'занерабочий', 'камера', '95', 'показатель', 'mq', 'круиь', 'чёлка', 'мозг', 'програм', 'заблокировать', 'картун', 'устонавливать', 'пожелеть', 'трудно', 'впервые', 'помоемунеплохо', 'удобноспасибо', 'регистрациина', 'опциюудаление', 'отсутствие', 'ипотека', 'досрочный', 'погашение', 'график', 'основный', 'долг', 'основной', 'всякий', 'прикручивать', 'отличительный', 'приложениемнедавно', 'глююююючииит', 'приложениян', 'ходитьвсё', 'заставлять', 'логироваться', 'многофункциональный', 'россия', 'установитьня', 'устройстван', 'буква', 'смартфоненеудобный', 'хотян', 'печься', 'сборка', 'вcе', 'хорошотолько', 'выпиcка', 'никакна', 'удаетcть', 'получитьвыдавать', 'теряться', 'многоене', 'прилично', 'былинебольшой', 'заминка', '👍', 'молодцывсё', 'жулик', 'связываться', 'распоряжаться', 'хранение', 'сбережение', 'спам', 'рассылка', 'конский', 'процентынуть', 'доверие', 'ростовщик', 'называть', 'какaть', 'xperia', 'ос', '51', 'антивирусанета', 'rootич', 'знаючтоня', 'ответить', 'приложенить', 'пользоватьсяспасибо', 'похвальный', 'збоев', 'быстроспасибо', 'ходитьня', 'садик', 'кварплат', 'практичнонезаменимый', 'прилржение', 'детский', 'аляповый', 'вырвиглазный', 'ярко', 'цветовой', 'гамма', 'спокойный', 'класс👍', 'сб', 'терминал', 'уверенно', 'очутиться', 'рабочий', 'навязывание', 'месячный', 'давность', 'свежихнуть', 'мобилкун', 'шлак', 'задумка', 'лагаетний', 'отключать', 'сперва', 'светить', 'выпадать', 'всевозможный', 'сейчас', 'снимка', 'попросту', 'красавэл', '30000', 'снг', 'итогеть', 'ерундан', 'угжок', 'криворукий', '10', 'завести', 'прилететь', 'пустой', 'аккаунт', 'карточка', 'нуна', 'чтоть', 'всёустраивать', 'упрощать', 'sams', 'a7', '2017прошивка', '601установить', 'нормальночерезнесколько', 'проблемыписать', 'разорваноподключиться', 'сетиэтый', 'порядкепомогать', 'приложенияно', 'переустанавливать', 'вариантчтый', 'зайоблить', 'рутом', 'отличноно', 'отличаться', 'просмотреть', 'рубль', 'счетахнезависимый', 'валюта', 'доля', 'стабильнопростый', 'былоярекомендовать', 'muy', 'bien', 'терять', 'очередь', 'безобразие', 'зачёт', 'слететь', 'попасть', 'утвердить', 'банкомчтый', 'херить', 'приложениетак', 'хорошо👌', 'доверять', 'банкунеуважительный', 'кидать', 'хреновый', 'обробатывапет', 'сомневаюсьня', 'переживать', 'завтра', 'закрыть', 'зашибиться', 'сирашном', '👍👍👍👍👍👍👍👍👍💪', 'збсить', 'молодцы👍👍👍', '55', 'девайс', '7й', 'наглухо', '64', 'гиг', 'сходить', 'нонетний', 'горе', 'пополам', 'странно', 'бюджетный', 'китаец', '7к', 'прикрасно', 'столько', 'ребятана', '21', 'векечеловек', 'космос', 'летают', 'вын', 'приложениечтоб', 'играться', 'течение', 'попадать', 'честноуже', 'жалеючто', 'связаться', 'полезно', 'вирусовен', 'сервиз', 'очудобный', 'спасибоочень', 'наконецтый', 'mx6', 'пара', 'кабинетний', 'best', 'иудобный', 'упрощение', 'процедура', 'тавар', 'сначало', 'инемочь', 'леново', 'повторно', 'достаточьный', 'быдый', 'новоий', 'вводипроверкавводисвернуть', 'продолжить', 'тпень', 'ещен', 'виделна', 'ошибокнуть', 'жесть', 'приложениелишний', 'удобненький', 'сутки', 'причём', 'гаджет', 'интерфейсненавязчивый', 'ситуация', 'авторизироваться', 'очередной', 'войтипосле', 'появление', 'заставка', 'вылетаетдый', 'сталиневерно', 'частность', 'введение', 'безумно', 'андрей', 'айбек', 'господин', 'курить', 'стоковый', 'хрен', 'обвинять', 'какойтонеправильность', 'резать', 'тазик', 'нанемой', 'слава', 'бог', 'браузерный', 'рассказывать', 'сберонлайн', 'смарт', 'родить', 'стыдоба', 'so', 'good', 'избавление', 'купить', 'поставщикануть', 'программын', 'встроёный', 'анттвирус', 'тяжеловесный', 'показываетний', 'отдыхать', 'приложениеразраб', 'код24', 'устранение', 'указание', 'шесть', 'одинна', 'htc', 'diser', '820', 'dual', 'sim', 'суппер', 'недостатковен', 'программався', 'продуктивный', 'якобы', 'че', 'приложениеэкономить', 'бесполезно', 'нахер', 'выкладывать', 'поддерживать', 'респект', 'супербанк', 'пукен', 'поручителемвнесение', 'залог', 'блябудун', 'заявка', 'такчтоба', 'устанавливаеися', 'харя', 'бадай', 'будущемень', 'испортиться', '👍👍👍👌', 'активный', 'цена', 'бне', 'вполненеплохо', 'отваливаться', 'акцент', 'высокий', 'udobno', 'pizdec', 'офигенный', 'удобнопроблемень', 'какихна', 'увидеть', 'рулить', 'государственный', 'тьфу', 'отличноникакий', 'уверенный', 'оборудование', 'сканировать', 'mi5', 'задать', 'пишетнуть', 'интернетомчто', 'пошлоно', 'тожена', 'жизнь', 'выходнымн', 'осваивать', 'поворот', 'meyzu', 'm', 'получение', 'страховка', 'крик', 'пронестандартный', 'остаться', 'свести', 'выгода', 'нулю！снести', 'загрузить', 'внимательный', 'обнова', 'понятноеспасибо', 'впечатление', 'положительный', 'уровень', 'судный', 'дваждынеплохо', 'подключиться', 'урезаться', 'пользоватьнельзя', 'внейнуть', 'тамвойна', 'мир', 'передавать', 'чтоль', 'приложениемневозможный', 'кромений', 'молодцы☺', '6с', 'видатьня', 'удобнобыстро', 'льзоватьсядадкий', 'возрастеочень', 'достаточный', 'глюковен', 'ограниченно', 'приложениевсё', 'устраиваетный', 'темень', 'менеепочему', 'прошлый', 'век', 'бабкин', 'технология', 'информирование', 'отделение', 'реальный', 'приложениепалочка', 'выручалочка', '5050', 'скидывать', 'разовый', 'завалить', 'micromax', 'q409', 'дак', 'удалениен', 'псевдоантивирус', 'современно', 'обращение', 'вовремя', 'здоровье', 'приложение😉😀', 'ездить', 'канечный', 'немножко', 'вернитенеограниченный', 'ошибкина', 'бесполезноен', 'обнаружение', 'поучиться', 'пина', 'вываливаться', 'модель', 'зависеть', 'перегруженноен', 'свойственный', 'банкинг', 'помощник', 'лог', 'изменение', 'перехват', 'трафик', 'журнал', 'вызов', 'борьба', 'ветряный', 'мельница', 'разрешенийнуть', 'степеньнеуважение', 'польза', 'нравится', 'заказывать', 'интернетмагазин', 'товар', 'расчитываться', 'росто', 'красота', 'техника', 'продвинуться', '😁😁', 'браво', 'онлайнбанка', 'дизайнер', 'оторвать', 'цветочек', 'бантик', 'серьёзно', 'масло', 'историина', 'такогон', 'курчатов', 'оксана', '😘😘', 'умнотак', 'сбербанконлайннабрать', 'логинждать', 'смстак', 'штрафовкаждый', 'удостоверение', 'диконеудобный', 'nopm', 'некоторый', 'фунуциина', 'настоятельно', 'предлагать', 'иначе', 'онлайннедавно', 'вовсена', 'получиться', '20', 'осуществление', 'эфективный', 'функционально', 'частыен', 'программынуть', 'нулевой', 'дурной', 'hi', 'sberbank', 'please', 'make', 'an', 'english', 'version', 'of', 'thank', 'you', 'thinks', 'my', 'phone', 'is', 'rooted', 'even', 'when', 'other', 'safetynet', 'apps', 'pass', 'check', 'initial', 'boot', 'time', 'well', 'over', 'several', 'minutes', 'thanks', '👏👏👏', 'качественный', 'вежливый', 'оставаться', 'высота', 'ас', 'устюм', 'оператив', 'час', 'репертуар', 'описывать', 'денегсупер', 'wow', '☆☆☆☆☆', 'потребность', 'очумительный', 'срабатывать', 'никчемун', 'ветеранский', 'книжка', 'открыть', 'прислать', 'услугаспасибо', 'большенетнеобходимость', 'логинна', 'скорее', 'хорошонос', 'связаночтый', '2то', '3а', 'безний', 'никак', 'ряд', 'устраиваести', 'счетана', 'идтиискать', 'банкоматсраза', 'деньгиотличный', 'сбрасываться', 'кнопочка', 'подобие', 'почта', 'пометить', 'pushуведомление', 'прочитать', '100шт', 'замучиться', 'топ', 'чеготоня', 'приходитодний', 'отстой', 'авдосия', 'переставать', 's6', 'програмка', 'прибавить', 'анна', 'платить', 'считаюна', 'увеличивать', 'риск', 'иметься', 'уженесколько', 'бесплатно', 'вау', 'удобнооперативнолучшен', 'голова', 'специальный', 'учреждение', '2–3', 'lg', 'x', 'power', 'класc', 'понравилосьосень', 'гореть', 'ад', 'прикрывать', 'своюнекомпетентность', 'фрод', 'когданета', 'снять', 'притензийнуть', 'сожаление', 'проблемнесколько', 'входень', 'реквизит', 'подтвердитьня', 'благо', 'пенсионер', '23', 'наманая', 'облегчать', 'бытовой', 'однонет', 'онлайнсчёт', 'ехать', 'увы', 'удаляться', 'инеплохой', 'перекрывать', 'сервисный', 'бояться', 'всетаки', 'ттк', 'функцийна', 'практически', 'функциипечалить', 'перевыпуск', 'фамилия', 'дублироваться', 'спасибо😀', 'номальный', 'мгновенный', 'суперно', 'грузить', 'конфликтовать', 'антивирусамин', 'понятноудалить', 'lenovo', 'летаетсделать', 'странность', 'добавление', 'телеграмма', 'сбиваться', 'внутри', 'пропадать', 'значок', 'правильно', 'давольный', 'приложениемспасибо', 'разработчикамтеперьня', 'очередичтоб', 'коммунальный', 'комфортный', 'меняня', 'вопросовнуть', 'суперприложение', '9082017ич', 'лицевой', 'интуитивнон', 'терпеть', 'антивирусанесовместимынеужеть', 'm3', 'note', 'якобынеоригинальный', 'множествонеудобство', 'вынуждать', 'отказаться', 'перейти', 'конкурент', 'общемто', 'смириться', 'минимум', 'надон', 'малыш', 'выходитнеизвестный', '24все', 'перепробовть', 'произвелвсе', 'удобнопонятный', 'навязать', 'набор', 'нормах', '5значный', 'верный', 'создаваться', 'платёжить', 'ифо', 'плательщик', 'адресс', 'назначение', '😉', 'удобноэкономить', 'гута', 'широко', 'распространить', 'взаимодействие', 'приложениебез', 'удобнонебольша', 'офис', 'нонередко', 'естьнеобходимость', 'пообщаться', 'специалист', 'консультация', 'конкуренция', 'простоеудобноеа', 'приложений', 'корн', 'гость', 'деться', '👌спасибо', 'приходитсянесколько', 'ваодить', 'такоггна', 'контроль', 'занемаять', 'нравитце', 'сократить', 'называться', 'плохон', 'прошивкажда', 'пол', 'пофиксить', 'банкно', 'естьнесколько', 'причина', 'приложениеудобный', 'обычный', 'выпонять', 'жалко', 'чтонельзя', 'нужноне', 'neizu', 'm5', 'суперпросто', 'удобнобыстрокрасиво', 'добавка', 'определить', 'вправду', 'официальный', 'правнуть', 'есть！тело', 'm3s', 'соображать', 'замечать', 'подрзрительный', 'поджимать', 'вести', 'какойтый', 'которыйн', 'средст', 'тупон', 'пихнуть', 'антивирусненужный', 'хрень', 'нунуть', 'нах', 'единица', 'порезать', 'обращаться', 'навязаный', 'лагать', 'решение', 'александр', 'владимирович', 'переустанавливатьня', 'включаться', 'оповещать', 'одобрение', 'оформление', 'заказать', '1010', 'ц', 'рутованый', 'достаточнонеудобный', 'оченьочень', 'имнесколько', 'пожалеть', 'процветание', 'радость', 'покануть', 'нравитсяминусович', 'нахожуспасибо', 'рабит', 'рпрор', 'списание', 'отображаютсян', 'всеприходиться', 'онлаин', 'информировать', 'штраф', 'гибдд', 'план', 'финансовый', 'запускатьсян', 'приложениес', 'всеа', 'внемой', 'пследний', 'понесколка', 'парольня', 'отправляться', 'email', 'сообщние', 'оченна', 'торопливый', 'разработжик', 'перестанта', 'оправдать', 'доступанета', 'абсновый', 'правамять', 'чёрный', 'iphone', 'одобрять', 'описать', 'мобсбербанк', 'задерживаться', 'передоставленний', 'возможност', 'доступныне', 'левый', 'сопровождаться', 'ребятушки😀', 'трусикина', 'заглядывать', 'иль', 'игрулька', 'отличнок', 'нормас', 'пополнить', 'река', 'приложениевсе', 'параметровне', 'перепробовать', 'лампочка', 'необходимый', 'мобильность', 'рукожоп', 'набрать', 'пивнушка', 'объявление', 'парольнесколько', 'дели', 'ужаснонеудобный', 'максимум', '😒', 'раскрасить', 'нафиг', 'домик', 'звёздочкинуть', 'киви', 'слелали', 'пофига', 'приложениинуть', 'огоньсупер', 'грамотно', 'откатить', 'изчезлить', 'идиот', 'ценный', 'угараете？переть', 'регестрация', 'логинговорить', 'занят！писать', 'gavnovonychee84', 'ответлогин', 'занят！', 'пробывать', '101', 'гавотак', 'гао', 'открываетний', 'зарегистрировать', 'комиссионный', 'кайфовать', 'понятнодоходчивобыстро', 'путём', 'ход', 'комментарий', 'разом', 'разочаровать', 'подключаться', 'мейза', 'конечный', 'банктакий', 'телефоннеобходимый', 'позвонить', 'хорошоно', 'вопросести', 'деньгиа', 'три', 'днейнетчтый', 'причиненезаводский', 'закинуть', 'разложить', 'полочка', 'быстроа', 'точто', 'свет', 'граница', 'посещение', 'постоянноне', 'жуткий', 'распечатать', 'бумажка', 'анивирус', 'связать', 'пускай', 'поступление', 'райффайзный', 'важно', 'списать', 'саратовский', 'школьник', 'заморочка', 'курс', 'отображаетсян', 'историянекоторое', 'банкоматыня', 'пятюль', 'братюн', 'понятиян', 'иметь', 'разбиратьсяэтон', 'профиль', 'перепрошивка', 'избавить', 'часы☺', 'переводовнуть', 'великолепный', '491', 'инструкция', 'испробовать', 'тяжеловатый', 'установленонон', 'открываетсяписать', 'устаревший', 'страшноватый', 'иззаневозможность', 'пазработчик', 'ползователь', 'стоя', 'касса', 'выносить', 'приходятьня', 'сразуо', 'совершенный', 'какомлибо', 'чётана', 'доработанно', 'случаться', 'обморок😱', 'j3', '2016', 'паролемень', 'перерегистрироватьсяневозможный', 'поделиться', 'удобносупер', 'гуля', 'отличноудобновообщннета', 'претензия', 'anna', 'скан', 'штрихкода😎', '2😀', 'касание', 'тупо', 'зайтинемочь', 'd320', 'загрузиться', 'philips', 'xenium', '8510', 'продумать', 'интернетне', 'выше', 'похвала', 'простопонятнобыстро', 'отличноудобный', 'удобномня', 'команда', 'естьнедостаток', 'садить', 'вылазка', 'плить', 'считывать', 'вылитаять', 'существовать', 'вряд', 'дерьмоне', 'восстановление', 'настроеккак', 'бытькак', 'идентификация', 'андроиденельзя', 'отличноеа', 'главноеочень', 'уманехватать', 'закрепить', 'подключонна', 'туууупой', 'сомневаться', '34', 'незнать', 'тип', 'руб', 'иванов', 'иван', 'признательный', 'скандал', 'опечатка', 'взломать', 'похитить', 'надёжнана', 'далекон', 'топовый', 'большинство', 'приемлемый', 'дозвониться', 'горячий', 'линия', 'квест', 'осилить', 'вообщенепонятный', 'пихать', 'googleplay', 'крупно', 'зе', 'бест', 'х', 'качество', 'оперативность', 'входом1', 'произведенить', 'парольтолько', 'предыдущий', 'переодичёска', 'ол', 'барак', 'джонасович', 'версиюнета', 'alkatel', 'idol', 'ольга', 'удаваться', 'крайне', 'вобщий', 'испортить', 'б', 'выгодный', 'удобноособенно', 'мошенник', 'возрасесть', 'палочка', 'приложениенечий', 'захожк', 'форматнуть', 'получитсяписать', 'которыенельзя', 'отменитьнедоработка', 'случайно', 'кредитка', 'разводить', 'рукамин', 'з', 'ограничить', 'мобильногоочень', '😏', 'шаблонаминекоторыен', 'такнеплохо', 'ежемесячно', 'сразуа', 'ждатькуда', 'конкретно', 'такогонет', 'разочаровываться', 'сложность', 'нравитсяспасибо', 'открыться', 'закрыться', 'основное', 'лижба', 'причинен', 'домашний', 'вайфай', 'личноно', 'первосортнаян', 'мощный', 'пальцана', 'галочка', 'сбрасываетсян', 'сный', 'самостоятельный', 'сом', '54', 'сечь', 'устанавливатьсян', '100817', 'консультант', 'коментарий', 'никто', 'толкомня', 'обратный', 'устранять', 'минусовен', 'начаться', 'проведение', 'ничемень', 'уступать', 'сепер', 'приложениить', 'периодически', 'провести', 'произвести', 'учёт', 'потрудиться', 'настораживать', 'нагляднопорадоваться', 'nan', 'лия', 'забыть', 'нравитться', 'знакомить', 'функцинал', 'антивирусне', 'обращать', 'внимание', 'мелкиенеудобство', 'всемень', 'угодить', 'артём', 'павел', 'приложениеневероятный', 'похвалразработчик', 'премия', 'i', 'like', 'general', 'but', 'sometimes', 'cant', 'log', 'for', 'a', 'long', 'and', 'thats', 'annoying', 'job', 'нравитсятолько', 'отзыв！', 'бомбит！', 'отсылать', 'себе！', 'уволить', 'заявить', '711', 'nougat', 'հոյակապ', 'է', '😊', 'пользовиться', 'па', 'моб', 'сбербанккайф', 'сохраниться', '👍👍✌️', 'удобноблагодарить', 'функциина', '❤', 'huawei', 'honor', '8', 'lite', 'такин', 'удобноничий', 'ввиду', 'производитель', 'ближайшуюнеделить', 'паролемвый', 'деньня', 'повторяться', 'бываетчтый', 'ежедневный', 'подходить', 'актуальный', 'телефонеть', 'утверждать', 'm2', 'mini', 'вроден', 'w732', 'суперспасибо', 'интересностолько', 'всегой', 'платежейквартплата', 'работаетспасибо', 'сие', 'u10！полететь', 'черта', 'заказчик', 'браузернеудобный', 'исправьте！', 'серёга', 'ток', 'сканерна', 'идётний', 'плоходовольнадальша', 'вещьоблегчать', 'прощен', 'приложение👍очень', 'женета', 'переходить', 'издевательство', 'платежи…', 'видти', 'роотправо', 'роль', 'самна', 'околонеделя', 'tele2', 'maxi', 'lte', 'удобносбербанк', 'карманена', 'as', 'ауе', 'распознание', 'специалистень', 'ответитьня', 'забитый', '15', 'своин', 'дачета', 'реальность', 'программунесколько', 'реакция', 'плз', 'ау', 'слышать', 'отличноочень', 'простоспасибо', 'нововведение', 'включать', 'компьютерчтоба', 'парольотображаться', 'уведомленийприходиться', 'перезапускатьждатьоченьнеудобноести', 'балансон', 'блокировка', 'хорошееудобный', 'будущее', 'выход', 'вписать', 'показание', 'счётчик', 'windows', 'mobile', 'небольшиенеудобство', 'нарадоватьсян', 'освобождать', 'вообщеневозможный', 'пользоватсяневозможный', 'flame6', 'пользованииочень', 'приложениеспасибо', 'вамуважаемый', 'вылетаетний', 'обалденный', 'уменьшить', 'вес', 'работаетнеплохо', 'страницан', 'догружаться', 'выкидывает', 'грамотный', 'здравый', 'компьютерный', 'blackberry', 'os', 'времявсё', 'нормальнон', 'многие', 'жаловаться', 'потестить', 'задача', 'справляться', 'направиться', 'удовольствие', 'сравнивать', 'оперативка', 'навешивать', 'собственно', 'наделать', 'выбор', 'пользователяпользоваться', 'досвидос', 'помоему', 'плохоно', 'зайтиневозможный', 'устройствонеделить', 'нифигана', 'измениться', 'принудительный', 'удобнофункциональный', 'удобнобольшоя', 'олично', 'частый', 'явление', 'функциинедоступный', 'проживать', 'км', 'топать', 'клик', 'клака', 'готовокруто', 'понятноне', 'всянеобходимый', 'удоба', 'автоплатёж', 'удобной', 'ровно', '👌👍👏', 'переусурдствовать', 'поддерживаться', 'отпечатокнеточный', 'услугун', 'небо', 'земля', 'сестрёнка', 'просьбануть', 'создание', 'потреба', 'падать', 'какиеть', 'индикаторнепрочитанный', 'выкинуть', 'профессионально', 'янедавно', 'уженекоторое', 'мгновение', 'око', 'выполнить', 'картаочень', 'протянуть', 'пенсия', 'удтбный', 'елена', 'юзать', 'причиненевозможный', 'популярный', 'отсутствовать', 'нету', 'бабосик', 'отличноэкономить', 'рада', 'многонедоработка', 'много', 'оволосесть', 'суд', 'таскать', 'безрезультатно', 'лаконично', 'прежде', 'спрос', 'раздавать', 'вашимконтакт', 'вовторое', 'соединяться', 'проблемынуть', 'справить', 's4', 'duos', 'подрить', 'пароль？', 'манипуляция', 'хорошоможный', 'удобночтый', 'антивирусажда', 'приложена', 'хорошеебывать', 'отлично👍👍', 'отличноне', 'говно', 'мобприложение', 'единственноеневозможный', 'начислить', 'такженета', '👌', 'предусмотреть', 'владимир', 'последниенесколько', 'отчёт', 'ужасно😐😕', 'нопочему', 'пользоватьсян', '2ой', 'месяцкакна', 'учиться', 'мониторит', 'собирать', 'отеб', 'информациб', 'делоно', 'подождать', 'антивирусподождать', 'дойти', 'чтение', 'подавать', 'поход', 'нравитсятак', 'предмет', 'чеготолько', 'догадываться', 'маргарита', 'потянуть', 'итак', 'нариканийтвердый', 'пятёрка', 'прочее', 'решатьнекоторое', 'провами', 'успешно', 'давить', 'прикладывать', 'редкий', 'дурацкийненужный', 'заблокированнымтак', 'свидетельство', 'откровенный', 'воровство', 'практика', 'задолжностинеобходить', 'льготный', 'период', 'обращиться', 'плевок', 'приложениизачастый', '23разаочень', 'кабинетпосле', 'обновленияприложение', 'приложениеогромный', 'разработчикам💋❤❤❤', 'поисковый', 'системена', 'всьо', 'га', 'hot', 'удовлетворить', 'приложения👍👍👍', 'притензийнета', 'коммуналка', 'регионахс', 'получилосьспасибо', 'приветствовать', 'входаввод', 'чтонемного', 'смущать', 'неоригинальный', 'прошивкакакlg', 'g2', 'прошивканикогдан', 'рутень', 'прошивалкороч', 'ограниченнельзя', 'денсредствапроблема', 'приложениинадеяться', 'вамжелать', 'дальнейший', 'продвижения👍', 'предупреждать', 'повлиять', 'правамин', 'деребасовский', 'хорошипять', 'зарегистрироватьсян', 'опыт', 'неделя', 'авторизоваться', 'времяотказывать', 'исполнение', 'плетёж', 'копировать', 'емун', 'требоваться', 'масса', 'кошмар', 'этоневероятный', 'вернулосьня', 'колвый', 'благодарный', 'жалеть', 'сделаномня', 'вобщен', 'тема', 'почемунуть', 'деньгиня', 'нрааиться', 'адаптировать', 'miui', 'каласс', 'медленныйдолго', 'грузитсяаналогичный', 'откликаться', 'суперработать', 'вчерашний', 'прислушиваться', 'мнение', 'редкость', 'удобноа', 'данил', 'сергей', 'проклясть', 'твой', 'эпостася', 'перебирание', 'отправитьня', 'херов', 'туча', 'степень', 'приложениемзатем', 'проблемытон', 'системууже', 'плеймаркетан', '936', 'пожалуйсь', 'списывать', 'банкневозможный', 'подозревать', 'уязвимость', 'лечиться', '3х', 'подождунеделька', 'залить', 'целомня', 'ваащий', 'nice👍', 'привяться', 'никогдан', 'упростить', 'передвижение', 'время', 'обработка', 'совсемень', 'погрузиться', 'описание', 'залогиниться', 'слать', 'смска', 'пароляминеизвестно', 'старое', 'ноут', 'отправление', 'периодический', 'вамна', 'батарейка', 'увын', 'воспользовиться', 'месяцанета', 'рутомня', 'днс', 'свободаудобный', 'замечанийнуть', 'нареканийна', 'конкретикивообщий', 'частон', 'значительный', 'картуть', 'юникредитнуть', 'сделаит', 'оффлаин', 'meizuич', 'прошивать', 'приложениявыдаетчтый', 'операциикром', 'собственный', 'разработчикиделать', 'местахан', 'тамгде', 'звездда', 'жальнуть', 'уйма', 'удобноантивирус', 'правда', 'ковыряться', 'телефонить', 'пользоватьсянедавно', 'скачатьня', 'заканчивать', 'прил', 'переводылегко', 'ку', 'сток', 'рутанета', 'влиять', 'локаничный', 'забытый', 'успеть', 'подрастить', '😃', 'антивируснемного', 'портить', 'главноеть', 'среди', 'мудренно', 'порода', 'отрицательный', 'эмоцийнуть', 'медленный', 'удобнопока', 'претензийнетмн', 'параноидальнынельзя', 'чтобыня', 'корневой', 'лина', 'свободно', 'причиныне', 'скажутк', 'разработчикно', 'любимый', 'операциина', 'исправнон', 'выделываться', 'отвал', 'походилнеделить', 'кусок', 'пластика', 'оригинална', 'прошиваться', 'заодно', 'говорящий', 'посоветовать', 'внимательно', 'модифицирвать', 'механизм', 'определение', 'таковой', 'ложный', 'срабатывание', 'тысячахневиновный', 'хд', 'горох', 'налицонедотестированность', 'qa', 'апдейт', 'животное', 'тестировать', 'иб', 'бизнес', 'первичный', 'приказать', 'спать', 'ложиться', 'безопасностин', 'отток', 'принятие', 'фз', 'нпс', 'запрещать', 'законна', 'писаный', 'видимо', 'расстаться', 'отвратительнокак', 'работаетпот', 'вылетатьспасать', 'переустановкапосле', 'круг', 'нормальнонаверный', 'круть', 'рекоминдуть', 'нормалёк', 'достать', 'котана', 'рутифицировать', 'поэтомун', 'useful', 'пользуюсьочень', 'стремиться', 'лудший', 'ровненький', 'плохогон', 'продолжать', 'дух', 'услаг', 'уважение', 'еремеев', 'юс', 'надоелпосле', 'факт', 'почитать', 'плохоя', '0', 'настраивать', 'стереться', 'поступить', 'зачисление', 'узнаватьнеудобный', 'хранить', 'шггггггггггггггга', 'кошмарный', 'приложениемпосле', 'ремонтироваться', 'прошивкан', 'парочка', 'otlichno', 'гранд', 'прайма', 'деватьсянекуда', 'удобно👍👍👍', 'приллжениен', 'видитнекоторое', 'обожать', 'кредитунуть', 'ооочень', 'чтотоня', 'отловилнёкий', 'ярлык', 'дотестировать', 'массанеудобство', 'клиентамин', 'пишетпо', 'соображение', 'безопасностиидеть', 'снеоргинальный', 'klass', '4ка', 'помимо', 'продажа', 'драга', 'металл', 'акция', 'эмитент', 'честно', 'ошибкатолько', 'пишетпереть', 'открытиина', 'спасибовсе', 'сутина', 'знаюный', 'достаточнонеплохо', 'главноен', 'сложный', 'верно', 'точнее', 'разблокировка', 'сенсор', 'наченаета', 'становиться', 'шовный', 'охренесть', 'ухудшиться', 'ужасногоневозможный', 'осуществлять', 'являетсян', 'энергозатратный', 'смсподтверждение', 'объём', '0писать', 'кормане', 'класснопросто', 'ura', 'пожалуй', 'спутник', 'похвастаться', 'лёгкость', 'nick347', 'оценкууслышт', 'упорноне', 'хй', 'столкнуться', 'функциямин', 'устраиваетпросто', 'разрабочик', 'ю', 'функционировать', 'поправить', 'перепутать', 'иконка', 'билайн', 'исчезать', 'рашина', 'работая', 'удобнаян', 'онлайнсбербанк', 'скидывание', 'писалин', 'море', 'доустанавливаетсявыдаетнепонятноенехватать', '500', 'метр', 'flyme', 'global', 'издеваетесь？', 'вшитый！', 'чертовски', 'удобнонравиться', 'приложениеприйтись', 'лажа', 'ичполнение', 'жуть', 'прилржения', 'онна', 'скромность', 'копа', 'объявить', 'устроить', 'most', 'comfortable', 'василий', 'бетта', 'работалаработать', 'старт', 'приложениепостоянно', 'ясно', 'далекоспасибо', 'неудобно', 'акаунтний', 'удобно👌', 'разряжать', 'аккумулятор', 'сарказм', 'загрузкипроверка', 'практическинуть', 'замедлять', 'проверкан', 'умилять', 'кулхацкер', 'проливать', 'слеза', 'рутованная', 'пользуюсьнедавно', 'часыхороший', 'расходовать', 'заряд', 'диспетчер', 'билайнна', 'откат', 'прпэиложение', 'понятныйнеперегруженный', 'клач', 'небольшой', 'задержка', 'удовный', 'страннона', 'ожидать', 'юлия', 'начисляться', 'работаетвсе', 'удобновсем', 'мощно', '2000', 'мач', 'серп', 'клубень', 'галаксить', 'работаетприложение', 'пожеланийнуть', 'патент', 'заебец', 'временами', 'разрабчик', 'устанавливаетсяписать', 'ошибка24', 'колоссальный', 'совершенно', 'формат', 'приложениянесколько', 'дёрнуть', 'никакнельзя', 'продождить', 'соглашаться', '？', 'спасибла', 'уберая', 'количество', 'засчетнепонятный', 'совершеннон', '4☆', 'изнедостаткович', 'веб', 'приложениеть', 'громоздкий', 'опетативный', 'классномолодец', 'четвёрка', 'нареканий🙂', 'приложениепоть', 'онон', '2и', 'банканевозможность', 'фильтровать', 'получателюпечалитчтый', 'фильтр', 'работаетневозможный', 'планировать', 'получатель', 'исправительный', 'гудпосмотреть', 'пойдеть', 'бесполезноенедоприожение', 'можнр', 'смаротфон', 'закрывать', 'логика？', 'посчиталненадежный', 'вопросович', 'переустановкан', 'такжена', 'сообщить', 'приложениенеплохоить', 'когданеобходимый', 'устонавливаться', '61работать', 'рутдоступ', 'каспер', 'счетуниверсальный', 'мгновеннон', 'общение', 'сломать', 'прочитанныминеудобный', 'десятка', 'юзабилить', 'хромать', 'собака', 'сутулый', 'заботиться', 'лишать', 'дегенерат', 'рутован', 'бал', '07082017года', 'нажать', 'суммун', 'видать', 'никудан', 'графика', 'анализ', 'даход', 'переливать', 'автомат', 'мягко', 'согласие', 'раздражающий', 'мелкий', 'баганепонятный', 'фича', 'примерно', 'улучшать', 'улучшатьмный', 'мелочный', 'включая', 'удалитьня', 'цель', 'военный', 'научить', 'идеальнон', 'привыкнуть', 'сложноватый', 'насыщенный', 'множество', 'освоение', 'организатор', 'желанный', 'продукт', '932', 'правильный', 'смартфонан', 'пить', 'четний', 'естьнекоторыенедоработка', 'особон', 'длянетребовательный', '6не', 'zenfone', '2не', 'установкамневозможный', 'очистка', 'прня', 'де', 'типанеоригинальный', 'морок', 'такаяна', 'устраняться', 'печаль', 'разобриться', 'удобнокласс', 'понятновсе', 'онялапочему', 'такойнуть', 'суточный', 'лимит', 'индефикация', 'оповещание', 'иногдан', 'актуализироваться', 'большенеделить', 'стыдно', 'приложениерекомендовать', 'фига', 'безконтрольный', 'нить', 'постояннонеобходимый', 'напоминать', 'типичный', 'переспрашивать', 'инужный', 'пртложение', 'парень', 'домавсё', 'приложа', 'ние', 'a5', 'нормик', 'сделатьнельзя', 'совет', 'подсказка', 'установилотличный', 'работаеточень', 'доволенблагодарить', 'постояннонет', 'приблизительно', 'мучение', 'приложение5', 'маятник', 'внегодый', 'внеделить', 'скачатькачать', 'нравитсян', 'штихнуть', 'целомеслина', 'придираться', 'пустякамтый', 'понятнолегко', 'классочень', 'отдельно', 'предположение', 'заний', 'иногданемный', 'подвисаетний', 'автор', 'превыше', 'потерпеть', 'суперррр', 'полтора', 'программер', 'сродун', 'теперьневозможный', 'отписываться', 'шаблонный', 'отписка', 'проблемун', 'унылый', 'научиться', 'бабка', 'пилить', 'драть', 'life', 'ужасно…', 'минутень', 'типо', 'дохуй', 'еле', 'замена', 'легконо', 'кодень', 'проблемывидеть', 'давновполне', 'здоровоотличный', 'поиложение', 'понрааиться', 'класть', 'зачислить', 'крупный', 'настолько', 'сбоевне', 'испытывать', 'первоначальный', 'широкий', 'прошивканекорректный', 'распознать', 'егонет', 'скорректировать', 'распознавание', 'точка', 'главноенезаменимоедажа', 'пожаловатьсян', 'комфортабельно', 'бываетчтон', 'удобние', 'добавитьнечий', 'конфиденциальность', 'временнонедоступный', 'временно', 'раздражаетневероятнон', 'квартира', 'заплатить', 'полчище', 'удобногодный', 'антивирусан', 'идентификаторн', 'рууть', 'которогонет', 'здравствуйтепочемун', 'входауже', 'пыталасьня', 'всеответить', 'зажраться', 'бездельник', 'суткин', 'симкарта', 'предоставить', 'подтвердить', 'лодырь', 'нос', 'ковыряние', 'простоудобноотличный', 'инструмент', 'этимнечаянно', 'цифра', 'навсегда', 'перестановка', 'провестись', 'авто', 'сделатьневозможный', 'работаетудобный', 'эра', 'удобнодаженя', 'устнаивать', 'появиласьня', 'тебян', 'сбербанкно', 'хорошооо', 'соответственно', '5неработающий', 'касаться', 'успех', 'доступмоё', 'проверенонесколький', 'обнуление', 'устраиваетспасибо', 'развития♥', '👍👍👍👍👍', 'замечательноспасибо', 'сколькон', 'попростуневозможный', 'застывать', 'стадия', 'антивируса', 'исходить', 'перечисленный', 'делаетнеудобный', 'проектировать', 'приложениенеобходимон', 'подпускать', 'профессия', 'пушечный', 'выстрел', 'отний', 'вышлан', 'secure', 'userfriendly', 'though', 'frequently', 'restarts', 'нехуясиб', 'поканеплохо', 'переводыпропасть', 'функцииостаться', 'толькоперевод', 'посленедавний', 'этап', 'снован', 'мерзкий', 'встречать', 'годный', 'времябережетнервы😄', 'замещать', 'инезависимо', 'казанцев', 'регистрациян', 'завершаться', 'такоен', 'сервернедоступный', 'приложениенеплохой', 'твориться', 'чудо', 'нормализоваться', 's', 'скачиваеться', 'гнный', 'простоточный', 'трудность', 'сын', 'найса', 'счётный', 'ведомо', 'яндекс', 'отношениян', 'роман', 'хлам', 'сегодняшний', 'выдаетнеоригинальный', 'всёнеобходимый', 'вылетаета', 'доплата', '😉👏👍👍👍', 'сад', 'закрытие', 'дикий', '4600мач', 'просаживаться', 'ночью', 'статистика', 'флайм', 'превратиться', 'облажаться', 'платный', 'забывать', 'страшный', 'сон', 'входомнесмотрить', 'стабильность', 'причинана', 'озвучиваться', 'вечноне', 'прервать', 'навязчивый', 'отформатировать', 'низкий', 'зора', 'хаммаш', 'зурай', 'подведетний', 'удобноиногдан', 'навигация', 'ореховый', 'отслеживать', 'делиться', 'записной', 'тудан', 'записывать', 'обратиться', 'бесконтактный', 'исправтие', 'ингода', 'комфорт', 'суперрррррра', 'уженевыносимокаждый', 'тишинаникакихнервович', 'хватитисправить', 'иницилизация', 'наэтом', 'бегунок', 'полчаса', 'перезапускаться', 'сообщениян', 'отправленныен', 'входящиеа', 'моментальный', 'инезаменимый', 'домаработыучёба', 'tv', 'нигден', 'ктоть', 'выручитдороговатый', 'конечнона', 'деваться', 'передумать', 'работаести', 'закончиться', 'осточертеть', 'ужей', 'идиотский', 'оригинальность', 'сниться', 'душа', 'качатьня', 'начинаеться', 'сучковый', 'зазоринокдовольный', 'гумно', 'погнать', 'телефоннет', 'привязать', 'дурак', 'дорабатываться', 'близкий', 'развитие', 'приложэние', 'выкидыватить', 'меняй', 'приложениявходить', 'сноваснова', 'парольснова', 'выкидываести', 'заходитьудалить', 'удобноман', 'продуманно', 'шаблонаневозможный', 'ребёнок', 'пример', 'обратноне', 'ткнеобходимый', 'следовательнон', 'отослать', 'мда', 'полдень', 'приложениеоплачивать', 'времять', 'местебез', 'очередейсупер', 'аутентификация', 'взамен', 'цифира', 'сделка', 'тотж', 'осёл', 'безуспешный', 'дороговатый', 'удалитьненужный', 'копиться', 'скачаваетсяошибка', 'трата', 'показыватьнеправильный', 'решаться', 'плевать', 'бв', 'антивиромня', 'горизонтальный', '60', 'вышен', 'шифрование', 'отключитьнельзя', 'требование', 'компания', 'google', 'балансовый', 'минуся', 'дриснить', 'потратиться', 'ленивый', 'долбоеб', 'зарубеж', 'крутить', 'толковый', 'вроделить', 'проплатить', 'максимально', 'скажем', 'тупитьвыкидывать', 'пинкодещ', 'российский', 'ведро', 'легковтб', 'наталья', 'закачать', 'windous', 'виктор', 'вечный', 'пролистать', 'отпечаткан', 'отображение', 'транзакция', 'вторыхна', 'дата', 'сбоинебольшой', 'отличномня', 'легкобез', 'лишнихнерв', 'затрата', 'мать', 'виртуальный', 'смспарсер', 'использованиина', 'тормозитня', 'хорошон', 'производительность', 'сдохнуть', 'хотелосьба', 'согласиться', 'гно', 'гаянэ', 'удобнобыстрохорошеий', 'прошивкевын', 'понятьчтый', 'прошивкойmeizu', 'заблокированхотя', 'листок', 'записать', 'войтина', 'простонать', 'превратить', 'гамный', 'сбросить', 'кеш', 'тдень', 'иногданесколько', 'росёл', 'антивирусневозможный', 'приложкние', 'klasss', 'удобнопрактичный', 'чутьня', 'пожалеласпасибо', 'быстрочётко', 'попроббовать', 'уплата', 'значный', 'значение', 'сохранение', 'тутнуть', 'опасный', 'дополнительный', 'отправка', 'работенёта', 'свобода', 'исправтр', 'приложениитеперить', 'пипец', 'господь', 'испаганиля', 'функцийперевести', 'кудалибо', 'сбераэтый', 'срочноть', 'вообщий', 'занеимение', 'чтолибо', 'приложенияисоответственнозаненадобностьюудалять', 'вместе', 'копить', 'округление', 'округлить', 'копейка', 'acorns', 'invest', 'заводскиена', 'устанавливаеться', 'перезагружать', 'сгодиться', 'очередяхня', 'унекоторое', 'подобногон', 'наблюдать', 'установилна', 'явный', 'прижение', 'утомлять', 'регламент', 'опятьтакин', 'идентификатор', 'перезагрузкина', 'красный', 'жалобнуть', 'согласный', 'являться', 'выпискан', 'представление', 'дальнестать', 'понятно！', 'нуженна', 'здесьня', 'таскаться', 'шаблонынедостаток', 'научнотехнический', 'революция', 'продолжаться', 'бессмысленно', 'безименной', 'хонора', '5с', '442недоступный', 'итернет', 'linkintel', '👍👍👍👍👍👍👍👍👍', '😍🐺🐴🐷', 'соеденениен', 'чтонибыть', 'едить', 'газ', 'перераспределить', 'вспомнить', 'попрежний', '💪💪💪💪', 'откриваться', 'тормозной', 'воткнуть', 'деньгинельзя', 'естественно', 'годкак', 'дурацкий', 'антивирусник', 'отрубить', 'позоваться', 'чудно', 'приложениекруто', 'безнеене', 'смссообщение', 'рутправаминевозможный', 'снедавний', 'находитьнеоригинальный', 'прошивкуroot', 'noteговорить', 'чтонеоригинальный', 'удобнобыстродоступный', 'удобноочень', 'кривой', 'шаблонуне', 'procta', 'выезжать', 'приложениевезда', 'удобновсегда', 'вводеработать', 'грузинский', 'всейнелюбовь', 'признать', 'уний', 'придожение', 'повысить', 'лютовать', 'мучительный', 'нравится！', 'монета', 'поккпать', 'памятный', 'былт', 'рот', 'мез', 'м5', 'всенеплохо', 'немногонепривычно', 'яблоко', 'йто', 'мандец', 'сбоевнуть', 'наладить', 'экстренный', 'архитектор', 'мыло', 'нормасик', 'ввидеть', 'хватаетнекоторое', 'провайдер', 'растр', 'тв', 'бэк', 'естьня', 'xiaomiич', 'база', 'принципеть', 'приложениераньша', 'нормальноно', 'тдерунда', 'полнаялюдить', 'нахватать', 'вирусовпытаться', 'обойти', 'защитуустанавливать', 'доп', 'каккороча', 'бытьня', 'можетто', 'сделалиприложение', 'бнсполнзным！', 'социальный', 'одноклассник', 'обьема', 'телефонен', 'плеваться', 'этотнесчастный', 'сд', 'гоно', 'зойти', 'рызрыть', 'безбожно', 'двой', 'разрывать', 'дороботкать', 'crashes', 'on', '4x', 'прилоэение', 'оценить', 'выподняться', 'наиудобный', 'позволить', 'заслуживать', 'рукойне', 'тратиться', 'приложениерекламынетний', 'висетьможный', 'приложениепока', 'накладоквсё', 'работаетестьнебольшоя', 'реальноть', 'сообщенияк', 'примерувот', 'милый', 'рна', 'сигаретынуть', 'родеть', 'остальномвсё', 'выгодно', 'выполняться', 'буднина', 'выходной', 'нана', 'беспридел', 'опасно', 'дойти😀', 'сравнить', '⭐', '⭐⭐⭐⭐⭐', 'потребитель', 'корейский', 'простовсегда', 'описыватьня', 'минусовнельзя', 'погашать', 'отнегонет', 'четвёртый', 'оказываться', 'пятый', 'операций', 'суть', 'получаетсян', 'рассчитать', 'интернетпереть', 'медленномня', 'теперьнуть', 'носить', 'общественный', 'характер', 'уважамый', 'прочемун', 'отягощать', 'простенький', 'спасибонедостаток', 'возмжность', 'гасить', 'удобнобыстропросто', 'пользоватьсянебольший', 'сомнение', 'безопасностино', 'нарушать', 'закон', 'назвать', 'дебил', 'убиться', 'переводан', 'электронке', 'становяться', 'отсутвие', '10копейка', 'буд', 'проц', 'частлый', 'сохранность', 'этт', 'приобрести', 'подумать', 'сбербанк—онлайн', 'почемутон', 'макс', 'ростест', 'заключить', 'вредоносный', 'сбоиневозможный', 'которыен', 'удевлён', 'мина', 'перезвонить', 'работник', 'уточнить', 'зуб', 'мошейник', 'колясочник', 'находка', 'квартплата', 'комуть', 'переслать', 'денежка', 'нужда', 'даженесколько', 'подрука', 'инициация', 'усложнить', 'модный', 'тренд', 'увеличить', 'придумывать', 'женечего', 'пялиться', 'бессмысленный', 'чай', 'заняться', 'какимитый', 'долбать', 'прерваться', 'баба', 'входянуть', 'письмоне', 'баланеполноценный', 'вылечиться', 'повлиялон', 'известно', 'шикарно！', 'убираться', 'кол', 'назадний', 'возврат', 'оперативночёткобез', 'повторовпрофессиональный', 'подход', 'сейчасна', 'отрыть', 'перекладывать', 'разработать', 'ворыснимать', 'просаснять', 'штрафдаженя', 'егой', 'лазеть', 'лапа', 'доверить', 'безвозмездно', 'деньгамизаплатить', 'годовалый', 'пропользоваться', 'годаз', 'денегне', 'банкаурасделать', 'банкекоторый', 'соблюдать', 'конфедоциальность', 'клиентапрощать', 'порой', 'совсемнеплохо', 'ммм', 'деньу', 'выявлять', 'вал', 'естьнедоработка', 'пиздато', 'лич', 'сигнал', 'добро', 'отл', 'старыенерабочий', 'вручную', 'kaef', '07', '8000рпо', 'сбпоказывать', '80рдерьмо', 'критичный', 'самареместамипроблема', 'разубрать', 'антивирусрешить', 'правамив', 'вообщеприложениемень', 'оповещенийнельзя', 'отметить', 'просмотренныен', 'являетсянепрочитать', 'перебирать', 'оказаться', 'чужой', 'приоритет', 'аватар', 'смысланета', 'рукойпереть', 'сутокспасибо', 'обновленияневозможный', 'чрезвычайно', 'требовательный', 'дактилоскопия', 'никакихнуть', 'удобное👍', 'здравствуйтен', 'отражаться', 'игнорировать', 'приложениеменеджер', 'предсказать', 'автоплатежибольшать', 'тугой', 'работает😊', 'быстроенечегон', 'интерфес', 'молодой', 'настройкиневозможный', 'установление', 'проделать', 'рекомендация', 'находитня', 'сталинедоступный', 'убить', 'требованийна', 'приложение2', 'резко', 'раза😩', 'потонциальный', 'упражнение', 'пестрить', 'жалоба', 'пишутнеккоректный', 'супер😎', 'замечанийнетприложение', 'алхимик', 'эксперимент', 'схер', 'цифровой', 'дизлайк', 'крепко', 'никакнеуч', 'гигантский', 'происходитнеприличный', 'ускорить', 'приложениина', 'входящий', 'наглый', 'эй', 'баран', 'ихнуть', 'пенсионный', 'зарплатный', 'анечь', 'долбониться', 'бошка', 'занизить', 'восторг', 'пальцанета', 'теперьнеудобный', 'поседеть', 'слкдить', 'телефоныне', 'перепрошиваться', 'анлока', 'загрузилапоменяться', 'телефонарегистрацияневозможнасканна', 'срабатываетчтый', 'радуетсятогда', 'нахнаоно', 'нужнораз', 'китайцын', 'реагировать', 'замечанияпохожий', 'умник', 'тенен', 'пользоватьсяпока', 'станутд', 'банктак', 'идеальный', 'програмуль', 'сожрать', '20в', 'вышестоящий', 'орган', 'нопосле', 'строка', 'одинаковый', 'бестолковый', 'попахивать', 'совковый', 'канцелярский', 'язык', 'нанеоригинальный', 'учётный', 'запись', 'пожалуйстаневозможный', 'работаютэтый', 'луиза', 'крутопокан', 'обмануть', 'быстроудобноспасибо', 'работает！', 'какнеоригинал', 'замечаний', 'целомнеплохо', 'николай', 'притензия', 'парольнельзя', 'определённый', 'марка', 'хорошо¡¡¡¡¡¡¡¡', 'виснит', 'ошибкун', 'телефонепока', 'работаетневерный', 'ктонибыть', '🔔📣❓❓❓', 'поразить', '❗❗❗', 'шок', '😱', 'подобрать', 'лупа', '🔎', '🤔например', 'комуслуга', 'оплачиватьня', 'высвечиваться', 'заменить', '😩', 'происходитня', 'понимаю🙄', 'интересно', '🤔🤔🤔🤔🤔', '😭😭😭', 'правило', 'присущий', 'учить', 'вывести', 'предупреждение', 'руте', 'рисковать', 'менянеоригинальный', 'дуб', 'рухнуть', 'knox', 'этоневозможный', 'илинеоригинальный', 'гребучийнедоантивирус', 'болтаться', 'менянервировать', 'регистрациюпосле', 'версияпомочь', 'приложенияпереть', 'технический', 'отвечаличтый', 'установленон', 'лицензионный', 'разработчикамхорошочтон', 'открываютпокан', 'личность', 'безопасностипровеять', 'радуетасус', 'зенфон', 'лазер', 'подвести', 'удачный', 'сообщать', 'техподдержкан', 'знатьня', 'перепрошивать', 'понятнооперативный', 'оченьпользуешьсян', 'слетать', 'добротный', 'мтс', 'выручить', 'ннестабильность', 'сенкю', 'суперскай', 'сторонний', 'чтобня', 'шитый', 'представлять', 'опасность', 'приложениевсегда', 'делаться', 'прложение', 'сбоитто', 'связьпокан', 'покавродевсе', 'нормальнопользоваться', 'частонареканийнуть', 'пропалонемочь', 'либонеделя', 'сберкасса', 'столь', 'прожерливый', 'инелепый', 'обладать', 'огрех', 'дз', 'отставать', 'простодоступный', 'поменяться', 'фу', 'кредитахневозможный', 'ограничеть', 'элементарный', 'платежень', 'показ', 'пишетнедоступный', 'рекорд', 'финансович', 'доходрасход', 'бюджет', 'висятнепрочитанный', '20170717', 'z5', 'premium', 'compact', 'отзывчевой', 'труд', 'напротив', 'имя', 'сбень', 'переводитьня', 'выборан', 'местный', '967', '477', 'оптимизация', 'днейн', 'пушить', 'своп', 'впереди', 'магазин', 'безнал', 'данныен', 'сборщик', 'дань', 'внезапно', 'содержать', 'прошивканеоригинальный', '100ич', 'дубликат', 'кодовый', 'однинеудобство', 'нелепый', 'мобильномня', 'выклый', 'энаф', 'днейнедать', 'вовсема', 'приложениекачественный', 'работаетзависать', 'естьнекоторыенедостаток', 'красотааа', 'послать', 'секрет', 'весёлый', 'кэшбэк', 'сраный', 'ру', '41', 'удивляться', 'скоро', 'беткать', 'meyzuич', 'во😀', 'бесконечно', 'пожить', 'своинедочёт', 'максим', 'гууд', '9', 'ядерный', 'red', '648', 'летать', 'умный', 'вкупе', 'госуслуга', 'zen', 'zc520tl', '70', 'шаблоныне', 'парить', 'приложениевота', 'вирускоторый', 'можетввид', 'приложенияуважать', 'разработчикива', 'делаететь', 'нормальноантивирус', 'стационар', 'выбивать', 'вспомнитьня', 'всездоровоно', 'возможностейнапример', 'тун', 'альф', 'лента', 'зайбиться', 'машина', 'чтонеобходимый', 'молодес', 'осуществляться', 'разаоб', 'парольнеудобный', 'харощий', 'оператиный', 'кридеть', 'спокойно', 'класный', 'версияхнуть', 'кудато', 'абсолютноненужный', 'известный', 'da', 'прогуудалить', 'бредс', 'суперна', 'отличнобыстро', 'удобноеть', 'фуфёла', 'докапываться', 'французский', 'врубать', 'тот', 'быдлокодер', 'опасаться', 'собраться', 'роот', 'го', 'полезногокром', 'баланссчёт', 'оплатитьнельзя', 'онина', 'приходятбез', 'банкан', 'ничегоотключить', 'егоа', 'подключитьнельзяглючный', 'антивирускоторый', 'делаетдополнителтный', 'контактный', 'центрнужный', 'обязателтный', 'звонитьназывать', 'словокоторое', 'всегон', 'помнитпаспортный', 'данныелучш', 'банкаминон', 'сбербанкомстольконенужный', 'хунь', 'поискать', 'надоотличный', 'абсолютный', 'распихивать', 'разрозненный', 'хотелок', 'оплачиваться', 'банкиспасибо', 'wifiич', 'распределять', 'приложениенеудобный', 'квитанцийнуть', 'книгойня', 'уточнять', 'единственныйнедостаток', 'гнадымн', 'заходитня', 'возмущение', 'доставать', 'сболна', 'поедать', 'зарядкун', 'чистильщик', 'вариант', 'поддержать', '6м', 'срываться', 'позориться', 'установиться', 'развивать', 'зайтимнен', 'устраиваеточень', 'anis', 'педагог', 'загружаетсячасто', 'easy', 'запускатьсяпишетний', 'вирусыпосле', 'удалениян', 'кардинально', 'молодцы👏', 'услугойня', 'сказатьить', 'выявленный', 'о', 'геолокация', 'зарегестрироваться', 'потомучтый', 'смскинуть', 'жутко', 'какоеть', 'верить', 'свистопляска', 'осваиваться', 'сукккк', 'доходить', 'дальшен', 'информациян', 'аж', 'май', 'выплата', 'июнь', '1200', 'либон', 'исполняться', '3040', 'надеюсь\\u200b', 'активно', 'сформулировать', 'черновик', 'закрываться', 'сообщениен', 'пользовать', 'крутотак', 'обратить', 'прочесть', 'надеюсьня', 'сюда', 'уженепомнить', 'далее', 'ошибки963', 'нравица', 'валиться', 'хакер', 'взламывать', 'тьфутьф', 'моихна', 'добраться', 'безусловно', 'родныие', 'буйя', 'совершатьнеобходить', 'самоенеобходимый', 'въедаться', '👌👍', 'весёленький', 'расплачиваться', 'тёмный', 'самыйнеподходящий', 'утром', 'донедавний', '06082017', 'программанесвоевременный', 'чтоо', 'замешательствонедоумение', 'злить', 'отмечаться', 'прекращение', 'функционирование', 'чудоприложение', 'разочарование', 'проклятый', 'рууууть', '5ку', 'маразм', 'осталасьня', 'привидеться', 'quality', 'software', 'usual', 'russian', 'peculiarities', 'ставитьня', 'этонеприемлемо', 'пон', 'данныхна', 'людей😣', 'иркутский', 'областинет', 'свирскан', 'гелаксить', 'а5', 'хужепосле', 'постоянноисправтеневозможный', 'приложениеразработчик', 'молодыпостараться', 'статус', 'символахма', 'точкин', 'наберешьисправлять', 'удод', 'заколебать', 'сидиш', 'быстроконкретнопонятный', 'ряднебольшихнедостаток', 'привязанность', 'спсиб', 'спасибо！все', 'работает！никакий', 'тп！', 'хорошонадеяться', 'чудесненький', 'трубка', 'z1', 'фотовидео', 'areffect', 'перепой', 'взяться', 'издеваться', 'троллить', 'кредитнуть', 'хотябыть', 'заголовок', 'ещеоткрываться', 'лишнегоочень', 'выпрыгивать', 'выскакиваетненужный', 'грамматический', 'приветственный', 'деоал', 'двенеделя', 'хея', 'гемор', 'мбитcич', 'четкон', 'приложениячтонеоригинальный', 'ложа', 'денегиль', 'приятночтый', 'обходиться', 'умане', 'приложить', 'проктичный', 'сильноне', 'решитьня', 'илина', 'второе', 'устройствахнередко', 'гаджетын', 'допотопный', 'р605', 'перехватывать', 'ошибкойневозможный', 'срочный', 'поздний', 'позднеен', 'horoshee', 'prilod😑', 'общаться', 'мунь', 'подставлять', 'тематика', 'оставить', 'antivirus', '00', 'pochemu', 'nashli', 'virus', 'ne', 'mojet', 'udalit', 'длянебольшой', 'йоу', 'бываютень', 'htc626ич', 'пускать', 'большоеочень', 'вернуться', 'местано', 'минусчто', 'базаранет', 'некогда', 'фаил', 'логика', 'поерить', 'порядкещас', 'пищеьт', '🙁🙁🙁🙁🙄', 'изображение', 'прятно', 'тач', 'айти', 'глвнонеработать', 'пиздить', 'выполнение', 'операцийна', 'ваабщен', 'высылпеть', 'волноваться', 'прекращениянекоторое', 'штатный', 'серверомневозможный', 'мартовский', 'спариваться', 'частенькон', 'оперировать', 'контактамклиент', 'смсбанкинганедоработать', 'перечисление', 'клиентович', 'присылаться', 'показываетнедостоверный', 'упорно', 'ситуациюнь', 'приложениепостоять', 'удобстван', 'устраивалонечаянно', 'сломаться', 'потеряться', 'снеофициальный', 'лить', 'отличня', 'гамнякнемочь', '05082017', '1невозможный', 'переводклиент', 'сбербанкасчёт', 'выберая', 'частный', 'заполнять', 'инна', 'изний', 'энергия', 'аналистик', 'которыйневозможный', 'быстротолько', 'чудово', 'великолепно', 'найтикак', 'картамипопробовать', 'называетсяразраб', 'истиный', 'жадность', 'уста', 'клиентний', 'удостоить', 'честь', 'отображёный', 'красть', 'заказ', 'расшифровка', 'снятие', 'нигде', 'зане', 'имение', 'горничная', 'дворник', 'быстрон', 'ошибкуневозможный', 'вкладневозможный', 'реквизитыневозможность', 'защищать', 'демонстрировать', 'пренебрежительный', 'продвинуть', 'юзабельный', 'парольневерный', 'вера', 'прохождение', 'хренот', 'индифицировать', 'грёбаный', 'етить', 'чертовщина', 'чертовый', 'чёрт', 'побрать', 'обеспечить', 'подрядно', 'удивлённый', 'гвн', '“', '”', 'концепция', 'деятельность', 'сберыч', 'уделать', 'разрешать', 'минутнуть', 'отзывчивость', '005', 'сбербанкнуть', 'картойнуть', 'прощать', 'дрнедолго', 'пожвисааааееееттта', 'сто', 'какаянибудь', 'труба', 'тыс', 'такак', 'kingroot', 'снизу', 'сделаться', 'верхний', 'угол', 'листать', 'резкопа', 'частичный', 'удобн', 'временнон', 'вино', 'тутень', 'дебиловманагер', 'составлять', 'техзадание', 'информациина', 'удобнопонятнопросто', 'благословение', 'waveич', 'j72016', 'нормуля', 'нравится👍', 'пауза', 'разроботчикамочень', 'поддержкун', 'минб', 'ошибкуневажный', 'проблемнебыть', 'информарция', 'прошлое', 'понема', 'вашш', 'ништяк', 'камень', 'кабельный', 'норм👍', 'функцонал', 'абзац', 'втупать', 'угрозня', 'занея', 'троить', 'пропустить', 'чтонереально', 'выкидыш', 'программирование', 'пысый', 'доделывать', 'плюха', 'zd551kl', 'штукать', 'ска', 'улёт', 'устраиваеттак', 'держатьпросто', 'такнуть', 'тонкость', 'вникать', 'крутта', 'редкостный', 'авный', 'другогонет', 'утечка', '3гб', 'замим', 'совершенствование', 'приложенияочень', 'перезаход', 'нориальный', 'забрать', 'заклинить', 'приёмник', 'съесть', 'охранник', 'вырвать', 'силино', 'проблемма', 'смешно', 'токан', 'успевать', 'разбераться', 'zenfone2', 'доходчивый', 'нравитсяочень', 'удобнонить', 'бегатьня', 'удобноперестать', 'быстролегко', '100иня', 'зановый', 'иззаний', 'устройствневерный', 'монополист', 'сберовский', 'm3e', 'исправиться', 'прававо', 'meizuь', 'антивирусатк', 'заблокированкром', 'шаблоновисправьтесмысл', 'приложения！', 'клиена', 'хуженекуда', 'прогуть', 'отладить', 'позор', 'длиться', 'проверяться', '2вводить', 'потратить', 'смыслажда', 'смело', 'безукоризненнон', 'обновлятьвдруг', 'выделить', 'относительно', 'работат', 'сравне6ие', 'тишина', 'сожалениюнь', 'переписка', 'простоудобный', 'пролистатьнеизвестно', 'попавшие', 'перемешиваться', 'обслуживаниен', 'пай', 'индекс', 'секси', 'удобноепока', 'наблюдатьспасибо', 'разработчикамочень', 'удобноещ', 'рядом5кварталтольятти', 'удобнонайти', 'новогодажа', 'офрмление', 'клёвый', 'прикрутить', 'экранена', 'соответствовать', 'действительный', 'здравствуйтеподсказать', 'пожалуйстау', 'proснегон', 'пальцакака', 'сканерепод', 'пальцевич', 'оптимизироваться', 'арестовать', 'кинуть', 'стационарный', 'понизить', 'предлогать', 'оченитьня', 'опасностинельзя', 'бороться', 'знающий', 'соревнование', 'усложнение', 'обход', 'рутправо', 'вызвать', 'неужели', 'гибддень', 'ву', 'стс', 'документ', 'реальноне', '😈😈😈', 'промахнешсяпока5', 'сервисон', 'тиньковы', 'простохорошеий', 'приложениетатьян', 'позорище', 'кантор', 'путевой', 'уманета', 'возможо', 'плюнуть', 'порнография', 'аванс', 'железо', 'евросеть', 'пишитый', 'meuzu', '6неполноценный', 'функционална', '98', 'rootдоступануть', 'оплачиватьпереводить', 'сотовый', 'любовь', 'ким', 'путь', 'минимальный', 'отзывне', 'повторять', 'оптимально', 'прилдлаженяудобный', 'удобноработать', 'зависанийя', '🖒', 'отличнотолько', 'отмена', 'уебный', 'белый', 'стереть', 'вспоминать', '67', 'reliably', 'using', 'templates', 'pain', 'neck', 'have', 'to', 'endlessly', 'click', 'continue', 'lines', 'added', 'payment', 'each', 'result', 'whole', 'thing', 'drives', 'crazy', 'instead', 'automating', 'speeding', 'up', 'regular', 'payments', 'сопротивлялсясупер', 'adobeflashplayer', 'apk', 'указанный', 'местенёта', 'картан', 'викторович', 'приложениенезаменимый', 'помошникнуть', 'урод', 'гад', 'говнобанк', 'тварь', 'число', 'картеисправляйтесьстыдно', 'переводынельзя', 'заготовить', 'нармальна', 'выдаетний', 'тын', 'бестолочь', 'работаетстоять', 'устраиваетвсем', 'рукожопый', 'попыткина', 'нагадить', 'тачскрин', 'резет', 'помойка', 'ритм', 'приложениеудобноесть', 'интернетесть', 'операцииоплатыперевод', 'возможностина', 'погружаласьный', 'вкус', 'копилкаоткрытие', 'счетовкредит', 'нравитсябыстроудобнолюбый', 'операцииспасибосбербанк！', 'залипить', 'красавчик', 'лишнего👍', 'устрайвать', 'сберегательнос', 'которыхнесколько', 'горизонтально', 'скопировать', 'женеплохо', 'оформить', 'виновато', 'desireвыдать', 'приложенийна', 'скинуть', 'поделать', 'последовать', 'изменилось！только', 'кучу！уважаемый', 'проблемнет👍', 'отличновсё', 'говнобанккак', 'тормознутыетак', 'тольконедавно', 'ze551ml', 'пятёрочка', 'смотрюна', 'удаленынеудобный', 'кмфортный', 'регистрациинедель', 'получилосьразработчикин', 'одноне', 'лучшеечтый', 'придуматьтак', 'легклый', 'своиия', 'какихлибо', 'тольконельзя', 'посмореть', 'зависаетпрограмма', '2000р', 'повезти', '15000тыс', 'заявление', 'новость', 'кой', 'случаин', 'списаться', 'милиция', 'удобноотличный', 'оооооочень', 'лежать', 'кроватка', 'мариноваться', 'капустка', 'удобнодумать', 'понадобиться', 'мобсвязь', 'бесконечность', 'репринцева', 'вначале', 'посд', 'талантливый', 'антивируснедолго', 'one', 'm7', '502', 'удовлетворять', 'перенести', 'менюня', 'программуна', 'своевременно', 'карттакий', 'ведомствов', 'исполнителипросьба', 'избежание', 'потеря', 'уважениемдобавиться', 'извещатьня', 'последствие', 'объёмештраф', 'исчисляться', 'вручение', 'иногдать', '😁', 'йух', 'загадить', 'какомуть', 'яйцеголовый', 'приспичить', 'убогий', 'угроза', 'навитело', 'насиловать', 'версиюнь', 'терпение', 'пробитьсякогда', 'вариантовнуть', 'перекидывать', 'ошибкаый', 'пропускать', 'впечатлениенеплохой', 'былонемногонепонятный', 'настоящий', 'шпионский', 'шпионить', 'удобнопополнениеплатёж', '😀😀😀', 'обнулить', 'оплачивать😢', 'официально', 'понятьня', 'переместить', 'удивление', 'открывиться', 'инедорого', 'подтверждать', 'хорош', 'буквально', 'отпуск', 'спасти', '19', 'удобновыручать', 'совместно', 'сбоить', 'шк', 'стоятьня', 'вводиться', 'фишка', 'заеbeatles', 'использованиянегатив', 'манучер', 'ужас😈', 'олекума', 'обновлениянуть', 'прошивкен', 'производителяминечий', 'изумительно', 'кража', 'март', 'внекоторое', 'шаблонахневозможный', 'результатан', 'принести', 'безполезность', 'скайп', 'уг', 'вполнедостойно', 'кирдык', 'йот', 'деление', 'достойно', 'иметьнесколько', 'приложениия', 'поладка', 'сбербанку😙', '941', 'борис', 'выполняетнеобходить', 'экотелок', 'естьнедочёт', 'виталий', 'сберкарточка', 'окулус', 'обнаруживать', 'копилкина', 'ставлюнет', 'happy', 'lags', 'user', 'friendly', 'should', 'creates', 'more', 'problems', 'интернетаня', 'погружаться', 'результатня', 'максималочку', 'веригуд', 'любо', 'прелажиенить', 'ачинъ', 'хораша', 'дмитрий', 'фурманов', 'педик', 'даун', 'ω°', 'шаблонынекорректный', 'klasno', 'удобно👍👍', 'какуюто', 'новичок', 'следовательно', 'десятый', 'тажа', 'хужена', 'людямн', 'блондинка', 'устройствамин', 'инетана', 'увести', 'ноневозможный', 'понимание', 'качествено', 'тивирус', 'хроническин', 'копилкинеожиданный', 'былоно', 'отработать', 'нравитсявсе', 'инерв', 'маленькиенедостаток', 'неплохоединственноечтый', 'думаетный', 'оченьудобный', 'жальна', 'неверный', 'z3', 'тогон', 'приложениявсё', 'ловко', 'отрубаться', 'владелица', 'долгон', 'поканеть', 'обновлиться', 'откатываться', 'старуюменить', 'samsungич', 'английский', 'бдь', 'америка', 'американский', 'быстронадёжноудобный', 'песочница', 'практичность', 'бычтоба', 'месяцтакать', 'ранний', 'стесняться', 'рутправна', 'лозейка', 'мошеник', 'коннект', 'дискриминация', 'инициализировать', 'удалитьнекоторое', 'теперьнельзя', 'правне', 'удобноспасибо👍', 'можетний', 'проблемойня', 'операцииневозможный', 'уведомления🤔', 'приложениеначинать', 'удобнонадёжноспасибо', 'gud', 'автоматический', 'быстренько', 'интрига', 'ежемесячный', 'тьма', 'оффлайнна', 'логаетвыкидывать', 'естьнебольшиенедочёт', 'инфо', '50ть', 'страничный', 'докт', 'кредкарта', 'остановитьня', 'ужетолько', 'приостановка', 'почистить', 'ровноне', 'богатый', 'банкклиент', 'тяжёлый', 'спасибоно', 'работаетменять', '2звезды👎👎👎', 'кодан', 'русский', 'латиницен', 'зарегистрироватьсяразвод', 'преходиться', 'приложениебесподобный', 'админ', 'кушать', 'многоресурс', 'сбивать', 'запятая', 'самоенеприятный', 'обащаться', 'дико', 'удобнобыстропонятный', 'ровный', 'потомня', 'тестировалинепонятный', 'компьютерна', 'быстро✌', 'внятно', 'кратко', 'параноик', 'tatiyna', 'покупках…', 'класной', 'exellent', 'ставиться', 'хайвей', 'пишетто', 'ошибкутонуть', 'малодец', 'исходный', 'предназначить', 'написанон', 'удовлетворение', 'амбиция', 'pro6', 'звёздность', '5ка', 'завешивать', 'намертво', 'приложениеодиннедостаток', '😀', '😀😀', 'планшетникнесколько', 'перегружаться', 'рутованым', 'u10', 'отстойный', 'web', 'какиелибо', 'топка', 'конект', 'операционка', 'исключение', 'проблемамин', 'сталкиваться', 'bitkoin', 'crane', 'e08674b21d63b855', '2600', 'сатоша', 'кран', 'автозапуск', 'занятой', 'беспредел', 'кулла', 'естьнекоторыенедочёт', 'алексей', 'давно👍', 'задолбалонет', '10й', 'дурд', 'выставить', 'функциян', 'avast', 'возвращаться', 'играть', 'потенциальный', 'татьяна', 'отпечаткун', 'дрянь', 'поступлениена', 'уведомленийна', 'учитываться', 'трбовать', 'разбивка', 'скколько', 'сфера', 'результатный', 'ренистрация', 'g3', 'p780', 'hiscren', 'нормаль', 'соня', 'one3t', 'пупереть', 'предпоследний', 'deluxe', 'se', 'комулибо', 'повашему', 'дерьмане', 'капздец', 'терпимо', 'этонервотрёп', 'паршивый', 'дерьмоана', 'ужасной', 'снеоригинальный', 'прошивкойести', 'поть', 'сбербанкомиспоганить', 'чемун', 'приводиинуть', 'илинечто', 'заходитписать', '600', 'секундть', 'течениинеделинечегонепришлотупать', 'трэш', 'отдать', 'спасибка', 'устанавливаетний', 'тобыть', 'сваимя', 'считами', 'фраза', 'черезнесколько', 'какнуть', 'класснодовольный', 'ключевой', 'собойнебыть', 'расчитывать', 'осадка', 'хорошпочтина', 'прочить', 'рейтинг', 'упасть', 'нуль', 'отличнобанк', 'хорошегодажа', '3gочень', 'ищю', 'предыдущие', 'защищаться', 'обновлениенеобходить', 'продолжение', 'прикрываться', 'стыдливый', 'прям', 'пилотаж', 'рынок', 'лидер', '😇', 'краткий', 'удобнодоступнораспространить', 'ochen', 'bistro', 'nfcсчитывание', 'отичной', 'нравитсяпосоветовать', 'своимпользоваться', 'довольныспасибовсе', 'спасать', 'всён', 'регистрируетня', 'безуспешно', 'регистрировать', 'приложениеудалить', 'денис', 'редми', 'нота', 'нынешний', 'дизайнна', 'бынеплохо', 'ещенеплохо', 'россиидалеко', 'обновляетсян', 'зависаетвыкидываетпо', 'никада', 'andrew', 'красава', 'оченьнеплохо', 'стирать', 'здоровско', 'доволенспасибо', 'иневозможный', 'расстроить', '3s', 'перебой', 'нраица', 'отправиться', 'корзина', 'пересла', 'ь', 'мамин', '🙌🙌', 'банкомкак', 'подозрительно', 'придурок', 'активация', 'бесподобный', 'какиенибудь', 'подзаработать', 'выиграть', 'разарешить', 'харашо', 'спасиб', 'налог', 'сохрание', 'чековый', 'проч', 'функциинедостаток', 'плачуня', 'гугл', 'майкросрфт', 'подписка', 'квитанциюнь', 'сила', 'даженета', 'упоминание', 'посещениен', 'принеобходимость', 'формироваться', 'pdf', 'направляться', 'вообщенезаменимый', 'вам！', 'приложскачиваться', 'беспрерывный', 'загрузкедо', 'нормисправить', 'плиз2', 'ждуasus', 'какойтоня', 'лучшенебольшиенеудобство', 'уйти', 'деньгинеизвестно', 'приложениевозможность', 'рабочегон', 'мнениена', 'изменилосьвсе', 'одномня', 'коробка', 's5', 'наносимкарта', 'интернетбанка', 'свойненужный', 'детализация', 'apple', 'store', 'миза', 'м3нота', 'кароч', 'определиться', 'всётакинет', 'устать', 'привязка', 'исчезание', 'провестина', 'удобнонекоторое', 'опцийнехватать', 'колличество', 'глупость', 'закладка', 'указать', 'отличноиногда', 'интернетаприложение', 'lidia', 'домане', 'хрупкий', 'j5', 'prime', 'последующий', 'пучкомработать', 'люди😉', 'поряд', 'виндусфон', 'другиха', 'закачалосый', 'всёзапрашивать', 'всёклассно', 'lot', 'fast', 'excellent', 'très', 'set', 'produits', 'работаеттелефон', 'miнуть', 'вылетант', 'словнетодний', 'эмоция', 'приложениянемный', 'хер', 'доходчиво', 'освобождение', 'рутина', 'опеиация', 'прозрачный', 'отлично💪', 'скачиватьня', 'ипросто', 'фигняневозможный', 'бухгалтерия', 'чередный', 'вдругнепонравиться', 'еен', 'стартовый', 'отльчной', 'праваоткуда', 'уменить', 'находит', 'нашелсразу', 'прекратиться', 'корректный', 'оплатитьня', 'льзячто', 'бредразраб', 'перемудрить', 'приложениепароль', 'грузиться\\u200b', 'срубать', 'истинунедоделать', 'разработчикин', 'нанеисправность', 'подтверждениенесколько', 'переставлять', 'целомудобный', 'чусть', 'кварплата', 'счетамиочень', 'сессиян', 'доступнанеобходить', 'указывать', 'дилетант', 'полностьюн', 'всепросто', 'ахуительный', 'кодун', 'щетчик', 'вдруг', 'обнаружиться', 'надо😡😡😡', 'действовать', 'экомия', 'жд', 'билет', 'ржд', 'депозит', 'контролемнормально', 'гонорар', 'сетевой', 'почтина', 'расположение', 'комутон', 'заесться', 'снекоторый', 'высказывание', 'm2mini', 'ништячок', 'всёчто', 'шаблонамкакий', 'полбеды', 'заслужить', 'выполняетнедочёт', 'взгляднуть', 'логинувернуть', 'оперативноинформативный', 'подтверждениемень', 'эффективно', '4не', 'целомпрогресс', 'услышать', 'софтина', '601', 'edge', 'кобинет', 'зарание', 'якша', 'рукой😃', 'присутствовать', 'уженета', '√√√√', 'нравитсянеоднократно', 'приллжение', 'удобно👍', 'банкижэкин', 'пять！', 'ключ', 'интерфейснемного', 'отклбченный', 'нормалнить', 'шутить', 'нонеделя', 'приём', 'передний', 'стол', 'слышаться', 'звук', 'телефоннезначительно', 'raiffeeisen', 'bank', 'допфункция', 'накопление', 'рамход', 'громадный', 'искатьнепрочитать', 'пометьтенепрочитать', 'какимнибудь', 'шрифт', 'самоличноне', 'мошенничество', 'аривидерчить', 'паспортный', 'приложение👍👍👍', 'данеужеть', 'звёздочка', 'хорошаяудобнаяприложение', 'проктически', 'рисовка', 'оннеполный', 'уныло', '😈', 'праван', 'след', 'обезопасить', 'перебор', 'лаконичнон', 'описананеоднократно', 'псевдо', 'получаетсятолько', 'поделка', 'оттуда', 'софтинана', 'каждомнеловок', 'отменить', 'whaff', 'купон', 'cr35582', 'андроидтелефон', 'пройтись', 'учёткий', 'хозяин', 'чистить', 'иначен', 'какимилибо', 'оперативкан', 'великий', 'читатьня', 'отзывын', 'серверомня', 'определитьсян', 'большеть', 'чтонибуля', 'этимневозможный', 'гуано', 'жертва', 'поразительный', 'близорукость', 'удобнонет', 'проблем🖒', 'не', 'сервера', 'ич', 'чёткость', 'точность', 'быстрота', 'пофигнекогда', 'разглядывать', 'постараться', 'мненеобходимый', 'вообщеприложение', 'ваааауть', 'крутяяяяк', 'приближение', 'приложениедавно', 'переводсоветуюн', 'супертолько', 'доходятпосле', 'хорошеепонятный', 'устраиваетещё', 'подружить', 'подробно', 'полгоданичешон', 'выплатывзносыпереводыня', '👌😊', 'предельно', 'цензурный', 'днищен', 'супеер', 'идеально3', 'выявить', 'однонеудобствонет', 'фильтрация', 'флэйм', 'переводы！', 'компаа', 'телефонсовсем', 'дело！пока', 'отлично！', 'удобноклассный', 'троекратный', 'десктоп', 'средствамивсё', 'спасибочтый', 'проний', 'нанескольконеделя', 'гараздо', 'счетамиэтый', 'войтиписать', 'приличный', 'оправданный', 'зрение', 'компактный', 'сайдеть', 'безопасностиоформлять', 'овера', 'назадпостоянно', 'информациисейчас', 'естественнон', 'помню', 'выброшенысум', '600р', 'альфабанка', 'картыскорый', 'всегопотому', 'самиспасибо', 'дождь', 'банкоматобидный', 'решитудалять', 'раньшенебыть', 'отправлятьсянеудобный', 'приложениечепухахоть', 'любитель', 'порассуждать', 'искусственный', 'интеллектать', 'отражаетсяговорунсобеседник', 'жкхсотовый', 'связьочень', 'довольнамолодец', 'спасибонет', 'вылезать', 'пороля', 'ознакомиться', '😎👍', 'шитня', 'расходовдоходович', 'наличный', 'еёнуть', 'wallet', 'выигрывать', 'собачьянесовершеннолетний', 'сберегательный', '82', 'вывестина', '18', 'перевелана', 'совершеннолетиян', 'хочетсянедочёт', 'вкладывать', 'снятьня', 'туфта', 'надувательство', 'господан', 'современный', 'причиненеоригинальный', 'телефонепросьба', 'этотнедочёт', 'пользынета', 'mx', 'подача', 'смелый', 'обманывать', 'обманутень', 'посеять', 'пожать', 'спасибонус', 'яок', 'офигел', 'миллиард', 'бынечего', 'годовщина', 'девушка', 'телефонплохой', 'кликтолько', 'ассоциация', 'приложениестолько', 'id', 'чемень', '2g', 'отличн', 'удобноеести', 'очередейнерв', 'наличные', 'этонеработающий', 'поменялинуть', 'сказ', 'тогочто', 'коготоня', 'покупаться', 'фирменный', 'точтонельзя', 'доступныхнеобходить', 'ништь', 'билола', 'расул', 'блабла', 'бла', 'нравыться', 'изавануть', 'нравитсяглавный', 'ноутбук', 'подставной', 'тфномерович', 'женельзя', 'иногданевозможный', 'перезагруженность', 'пропускной', 'способностьва', 'благодаря', 'жизненный', 'еёнельзя', 'мнениян', 'разок', 'коллцентр', 'посещать', 'приложениебанк', 'карманесупер', 'бываетнепонятный', 'поведение', 'видимый', 'чат', '5ть', 'mi4c', 'wat', 'праванеорегинальный', 'шаблоновневозможный', 'изменитьня', 'тольконеуд', 'классвсё', 'nfc', 'j2', 'praim', 'разбиться', 'наладиться', 'удобнонадёжный', 'всемнеобходимый', 'отражать', 'отчётный', 'магченко', '👍💖😘', 'эдуард', 'простонеобходить', 'регестрациюжда', 'скачивыть', 'фулыжный', 'регистрацияпойти', 'удивительно', 'тормознуть', 'soooo', 'sloow', 'поздравлять', 'феерически', 'привычный', 'обрашенияспасибо', '4приложение', 'можнонеудобный', 'новшество', 'подводный', 'лодка', 'kruto', 'выходитня', 'осуществить', 'вешать', 'ахуесть', 'такнесколько', 'месяцевтак', 'виновный', 'скрыть', 'закрытый', 'верх', 'блин', 'приложение！все', 'заблокироваться', 'за？ничего', 'n5', 'былоневозможный', 'мользоваться', 'читаете？какий', 'мкнить', 'илинет！', 'изачем', 'установитьвыдавать', 'ошибку24чтый', 'длитсян', 'запилить', 'приблуд', 'alles', 'gut', 'игорь', 'serg', 'лте', '3ж', 'итоговый', 'считаться', 'пеня', 'иногдаконечнобывать', 'сбоин', 'обслуживаниеспасибо', 'туговатый', 'подкачать', 'энергоёмкий', 'предустановленный', 'предложенияочень', 'филипс', 'w6610', 'афигенный', 'отследить', 'операцииуправлять', 'кредитамин', 'гден', 'точки', 'существенно', '😀не', 'функциональноудобный', 'устраиваетнемный', 'удивляетнеобходимость', 'имн', 'здороваться', 'инервов👍', 'цветень', 'уведомлять', 'ато', 'отключиться', 'прореха', 'мрак', 'беда', 'окейно☆☆☆☆☆', 'понравилосьня', 'входнесколько', 'отличноеудобный', 'симпатичный', 'такнереально', 'тупитневозможный', 'работатьчеловек', 'худшаяпросто', 'бын', 'оценкинуть', 'irina', 'хорошопокан', 'он', 'поехалон', 'войтивиснетглючитва', 'общемхрень', 'полнаяй', 'исправляться', '900звонить', 'маникюр', 'рисать', 'денига', 'хочить', 'капиока', 'приложениебезопасность', 'уоучшить', 'rootованный', 'завод', 'webверсия', 'дерьмовенький', 'здоровый', 'миллион', 'мишура', 'бутафория', 'местен', 'топчиться', 'яркий', 'поднимать', 'настроение', 'багович', 'простополезновсе', 'могун', 'хорошодый', 'могда', 'объёмный', 'сугубо', 'анета', 'возвратить', 'ошибочно', 'возможностинет', 'администрация', 'заменимый', 'спасиборазраб', 'противостояние', 'd', 'втб24', 'авккомпьютер', 'договорнельзя', 'распечатывать', 'изучать', 'щаходить', 'секунка', 'опчть', 'ваежения', 'паролять', 'часочень', 'пытаешся', 'приложениеписать', 'прикол', '👍😊', '😍', 'единственноен', 'прспотреть', 'разряжаться', 'батареястать', 'телефони', 'досталудалить', 'шикардос', 'доступнопонятный', 'исправлениян', 'ставитнеобьяснимый', 'лимитана', 'сокращать', 'выделениенепрочитать', 'тысячень', 'its', 'променять', 'сбербанкстабильный', 'спасибочтон', 'прислушаться', 'вашеневнимание', 'поистиненеоценимый', 'флагман', 'ствртовый', '99', 'банкович', 'кричать', 'равнонет', 'удобнопосле', '😉👍', 'вснм', 'млада', 'мама', 'мечтать', 'входевсегда', 'отключаетсячтоб', 'вестина', 'разужас', 'отнимаета', 'приложениепо', 'смыслан', 'коммент', 'сожалениюнуть', 'сравнимый', 'обня', 'дополняювсе', 'фио', 'возвратать', 'наживаться', 'творческий', '👌👍👌', 'подрядчик', 'шаблонунести', 'картын', 'выш', 'крышка', 'баня', 'дватереть', 'забанить', 'кормить', 'обещание', 'когданибудь', 'удобнонадеюсьчтый', 'надёжноспасибо', 'соединять', 'этонеобходимость', 'подчёркивать', 'минимумнеадекватность', 'отталкивание', 'донесколький', 'минутнекоторое', 'подозреваюна', 'окошко', 'ответовнуть', '2030', 'иногданекоректный', '510непрочитанный', 'работает💪', 'отличной', 'правачего', 'соответсятвеннонетизз', 'хорошай', 'отдельныенедочеты', 'гуд☺', 'тупка', 'единый', 'старинка', 'zenfon', 'lazer', '500kl', '650мба', 'пузатаяна', 'вдоль', 'поперёк', 'банальный', 'занять', 'netts', 'договор', 'претезийнуть', 'евгения', 'левин', 'предоставление', 'копия', 'платёжный', 'поручение', 'картусчёт', 'заводскихня', 'исправленийна', 'лв', 'вменямоневозможный', 'вопросон', 'месяцамин', 'алянеоригинальный', 'нибыть', 'прилоэениепользоваться', 'пожалуйство', 'вльбомный', 'jasur', 'приложениесамый', 'ууууурррааааа', 'уррааа', 'возобновить', 'шаблонам！иначе', 'заненадобность', 'инеудобством🙃', 'буквальнонеделить', 'дневник', 'справитьсян', 'большиминеудобство', 'klas', 'толькочтый', 'автоперевод', 'нравитсяхорошо', 'изменятьвременный', 'суммуа', 'быстромня', 'интернетнуть', 'альянсаа', 'простодоступнопонятнонадёжный', 'мгновенно', 'перегрузить', 'суета', 'решаютсянеоперативнон', 'функционалнеплох', 'бюрократический', 'стукануть', 'двиглом', 'телефонанамного', 'исправьтедо', 'минизаём', 'фак', 'часикиочень', 'кю', 'порогався', 'телефонеотличноочень', 'установкеошибка24', 'подскажитечтый', 'средний', 'паршивость', 'когонет', 'держатель', 'нужнонесколько', 'кредитня', 'мучалася', 'замужество', 'специстын', 'итерфейс', 'совершенствоваться', 'отличнаяудобный', 'обыватель', 'пожилой', '702', 'ссылка', 'рф', 'кредитусраза', 'остальномнеплохо', 'очин', 'ждем', 'денегян', 'отвлекать', 'инельзя', 'графический', 'надоедать', 'перегружать', 'сталонеудобный', 'будетснимать', 'легкоудобный', 'китайфон', 'которогонетун', 'повторнон', 'пакет', 'подписанна', 'илинеизвестный', '961', 'бещ', 'сбербанкануть', 'ссылочка', 'сталоневозможный', 'бездарь', 'приложениевыдать', 'плоходолгон', 'операцийчтый', 'времядолжный', 'адрес', 'реципиент', 'расходея', 'быорганизация', 'зачислениить', 'потратилкуда', 'кака', 'сис', 'задумываться', 'телодвижение', 'единственно', 'уживаться', 'иформация', 'значительно', 'olo', 'быстровообщеи5', 'быстро5', 'отличьный', 'навязять', 'всей', 'этимнечегонеделать', 'anything', 'errors', 'very', 'loading', 'slowly', 'updating', 'information', 'great', 'проблеман', 'телкнига', 'пользоватьсяблагодарность', 'сотрудникам👍', 'ринат', '2015', 'застревать', 'инициатизация', '😃😃😃😃😃😃😃😃', 'пишет', 'скачивания', 'молодцывсе', 'оперативнодажа', 'жопегеогафия', 'словно', 'волшебный', 'процветать', 'бак', 'круто👍', '10гоести', 'стараться', 'устраиваетвсё', 'программять', 'кошелёкнельзя', 'качаться', 'разочаровалопонекоторое', 'зановона', 'реагируетмн', 'людин', 'занятьсянечь', 'прекратить', 'воровать', 'содрать', 'сослаться', 'хакерский', 'атака', 'приложенение', 'приложениеотличный', 'доступенв', 'работаетперезагрузкапереустановка', 'помогаетпароль', 'беспокоить', 'жку', 'этогонельзя', 'ужаснль', 'телкнижка', 'наверное', 'задумать', 'оное', 'управлениилаконичноить', 'конкретный', 'достижение', 'чувствительно', 'переводахна', 'заложенна', 'прошивкепрь', 'flymeэта', 'регистрациянеобходить', 'владельцуэтый', 'аналог', 'icloud', 'безтолковый', 'обрезать', 'приложениязакать', 'имневозможный', 'пользоваться？почитать', 'отзывывсе', 'антивируснадеяться', 'другихнедовольный', 'пользователей，спасибо', 'рсз', 'ссылаться', 'сбоевпользоваться', 'обещать', 'июлетишинан', 'оазегистриваться', 'поидожение', 'иог', 'бросить', 'подойти', 'сотрудница', 'рассказать', 'проявлять', 'инекорректный', 'отклик', 'сенсорный', 'измененийна', 'приносить', 'возобновляться', 'свами', 'кредитана', 'нэск', 'заполнить', 'закачивать', 'вводанедоставать', 'хорошенько', 'кирилл', 'удоно', 'удобнобольша', 'напримерпо', 'трей', 'удобнопонятнодоступный', 'оф', 'вячеслав', 'чтс', 'десайра', 'дуал', 'симн', 'посбиваться', 'константин', 'простонесколько', 'надоа', 'отключитьня', 'шкалынуть', 'уравнять', 'хвалебный', 'лидия', 'идиотыс', 'удобноно', 'разахотеть', 'извещение', 'сразуна', 'пользьваться', 'eesss', 'сыпать', 'разорвать', '🍓🍓🍓🍓🍓', 'простобыстроудобнореспект', 'пользоватьсявсе', 'лентяй', '💪👍👍👍', 'вечность', 'два', 'ждатьнесколько', 'единственноечтый', 'экранеминимальный', 'картеразраб', 'звёздести', 'реализуютнуть', 'информациядлянеимоверный', 'пользователейудача', 'появилисьнекоторое', 'устройстванеоригенальный', 'ошибокно', 'страдаетний', 'направление', 'двигаетесьребятка', 'vi', 'krutie', 'нравитя', 'отказывать', 'серчер', 'доить', '772', 'рутдоступануть', 'оне', 'запросить', 'офисович', 'ползатьсый', 'совершеннонедовольный', 'разочаровывать', 'возвращать', 'лишить', 'впоминен', 'экспериментировать', 'программеть', 'сбербанксил', 'совершенсивуться', 'костромской', 'кострома', 'поисковикнеадекватный', '150', 'пароноидальный', 'поискно', 'лист', 'удивлять', 'удобноеочень', 'последнегон', 'правно', 'обычноне', 'финансамипросто', 'орспасибо', 'сппсибо', 'очпня', 'видитня', 'существующий', 'закрытьня', 'упожий', 'мамепенсионеркетак', '13', 'прекрасноить', 'учитывать', 'рфя', 'прибавлять', 'поправка', 'остатокно', 'казаться', 'установитсяпроверить', 'ясный', 'вечеромдажа', 'интернетподключение', 'смущаеткогда', 'линет', 'спасиботолькон', 'изя', 'стабильноменить', 'признавать', 'двойка', 'удрбной', 'ооооооооооооооооооооооооооооооооооооооооооооооооооооооооооооооооооооооооосупер', 'помощьня', 'водить', 'последние', 'палочкавыручалочка', 'поставитьня', 'чуваки😜', 'отчистить', 'критически', 'оказываетсян', 'этомня', 'ужобный', 'yoga', 'tablet', 'пожалуйстан', 'короткоясный', 'армия', 'доделать', 'слежение', 'давноочень', 'раз👍😊', 'местоположение', 'считывай', 'инф', 'навигатор', 'видеозапись', 'сомнительный', 'полезность', 'точноне', 'воевать', 'ахересть', 'антимонопольный', 'комитет', 'хорошоудобный', 'супер！', 'бербанк', 'напровление', 'считатьня', 'придложа', 'малатец', 'работална', 'mezu', 'положение', 'пф', 'регулировать', '👌👍👌👍👌👍', 'предложение😉', 'кредитын', 'зависимый', 'мес', 'сотрудничесвый', 'а3', 'уведомлениядлить', 'умолчание', 'роумингечтый', 'смсчто', '70км', 'проехатьвремяденьга', 'убира', 'езда', 'smsка', 'эдгар', 'задрать', 'иневозможность', '5s', 'top', 'доманаходиться', 'времениочень', 'удобноэтый', 'ужасноен', 'компетентный', 'палёный', 'куплен', 'g4', 'офигенно', 'адекватный', 'отличносоветовать', '3неплохо', '900', 'звонитьдумать', 'геморрой', 'фигнянемогун', 'оплатитьединственный', 'оплатитьк', 'которрма', 'привязань', 'всебольшенечегопочий', 'нонеужелинельзя', 'тн', 'выпискеневозможный', 'зп', 'сходиться', 'никогданета', 'изъянович', 'всез', '👍😉', 'вылазить', 'критический', 'пиратский', 'надруг', 'хyйня', 'переменный', '5000р', 'отправитьнельзя', 'объективно', 'дерзить', 'особенность', 'ёлка', 'палкива', 'рутана', 'беситневозможный', 'объеменеужеть', 'получатьнегативный', 'льзователейугий', 'пц', 'времкнемой', 'становитьсяневозможный', 'аллах', 'здоровить', 'счастить', '💋', 'dmitry', 'хорошеевсе', 'синхронизация', 'оплаченый', 'аварийный', 'обнлвление', 'истекать', 'обновитьнельзя', 'присоединиться', 'клуб', 'волен☺☺☺☺☺', 'послушать', 'приложениежальнуть', 'супервсе', 'проблемть', 'будить', 'senseit', 'e500', 'прошунегайный', 'отреагировать', 'mne', 'nravitsya', 'визда', 'своинедочетынекоторое', 'лёжа', 'деван', 'itтехнология', 'сниматься', 'сворачиваться', 'инебольшой', 'кровный', 'сложиться', 'сложитьнесколько', 'сотня', 'тысячнеработающий', 'набегать', 'кругленький', 'хлеб', 'мириться', 'play', 'market', 'устраиваетотличный', 'плиз', '🔥', 'десктопной', 'размер', 'входенеобходимый', 'фуфуфу', 'вкладывиться', 'положитьчтый', 'use', 'яркокрасочный', 'настроитьня', 'жизньня', 'расцеловать', 'исходящий', 'ввестиещ', 'дорого', 'клсс', 'платиж', 'комплект', 'valentina', 'сигмент', 'деньгиоплачивать', 'монипуляция', 'предлогаета', 'приложениеести', 'приложениеошибка', 'означать', 'входеранний', 'устраеваеточень', 'онлайнбанкинг', 'удобномочь', 'победить', 'адский', 'вполнен', 'существенный', 'оценивать', 'соответственнон', 'платежахнуть', 'видимоне', 'выдерживать', 'серов', 'потреблять', 'оченьблагодарить', 'расширять', 'нихнана', 'уженеделя', 'ничего', 'удобстаа', 'удобнобыстронадёжный', 'love', 'входитня', 'разамочь', 'прошивкиневозможный', 'нпф', 'приложение★', 'показываать', 'отличаетсяз', 'мат', 'канешнонекатарый', 'пишетнеправильно', 'попрежнемун', 'хотянесколько', 'испугать', 'отличноприложение', 'держать😉', 'урапретензия', 'банкунуть', 'гуглплей', 'станица', 'апдата', 'публичный', 'вайфайн', '😍👍', 'сделалине', 'молчать', 'пж', 'войтинельзя', 'чехарда', 'шаблоновнуть', 'довольнався', 'рукойспасибо', 'гашение', 'сбонлайн', 'посленесколький', 'удобно2', 'приходится\\u200b', 'коллега', 'перевозка', 'инкасатор', 'любезный', 'водитель', 'быдлый', 'хам', 'руль', 'парковка', 'вазникнуть', 'разапый', 'инструктаж', 'контрольэтый', 'корооева', 'ул', 'гагарин', 'выпискен', 'р', 'светиться', 'выручална', 'входенесколько', 'чтоневозможный', 'ублюдочный', 'сваять', 'версиянета', 'наиэтота', 'дефекация', 'имбицильный', 'пингвин', 'втроечетверо', 'времениневероятный', 'медлительность', 'категорическоенежелание', 'что—тый', 'специальноне', 'счётана', 'допиливать', 'использоваться', 'применение', 'vision', 'дефолтный', 'соотношение', 'вытянуто', 'проблемки1вводить', '2телефон', 'опечаткуить', 'снятой', 'зарядка', '01', 's3', 'оригинал', 'целомнеплохоно', 'принципена', 'менятьня', 'лояльность', 'интерфейснеповторимый', 'координировать', 'подтвержение', 'ненужный', 'пожст', 'хорошопосмотреть', 'июль', 'лежитнуть', 'быстроудобноочень', 'лазить', 'быть', 'вотнедавно', 'a606', 'развечно', 'зависаести', 'отвечаетизвинитечтоть', 'зависаетнекорректный', 'шляпа', 'наворот', 'программаоблегчать', 'беречь', 'xaroshe', 'финансамин', '10го', 'wi', 'fi', 'тутж', 'защещённый', 'репитер', 'выключать', '3g', 'граф', 'сбить', 'кодировка', 'ггђгћ', 'гѓг', 'г§гїггга', 'ггггггјгёгг\\xadгјг', 'г§', 'г\\xadгєгігџггігггўгіггј', 'улица', '4gпостоянно', 'серверана', 'wifiнормально', 'шаражка', 'разроботчик', 'сегодняня', 'производиться', 'наличиинесколький', '4потому', 'высвечиваетний', 'суммучто', '😍😍😍', 'откликнуться', 'сурер', 'общатьсяй', 'удобноить', 'сводить', 'нанета', 'эффективность', 'картамна', 'смсоповещение', 'произойдетнесанкционировать', 'узнаюхотеть', 'экранный', 'хорошочтый', 'пустить', 'разалаг', 'стандартный', 'изменилосьня', 'анатолиевич', 'единственнаянепонятка', 'стиль', 'торможение', 'беситневозможность', 'третьейнедостаточный', 'хаять', 'юрист', 'занеумение', 'снейронный', 'boris', 'сосед', 'залогинесться', 'профит', 'удобновсё', 'суперрра', 'ушелна', 'ураа', 'счастие', 'бездумно', 'прокачивать', 'потверждение', 'всн', 'приложениегда', 'своймочь', 'доходый', 'проблемауже', 'установилан', 'виделчуть', 'насильно', 'впихивать', 'пао', 'оптимизированопосле', 'шаблонович', 'локоничный', 'перекрыть', 'кислород', 'встроенныйнеотключать', 'частота', 'омрачнять', 'приложенияневозможный', 'видеться', 'сложено', 'крутовсё', 'легкодоступный', 'быстроить', 'щит', 'рестарт', 'коррекно', 'поступлениянереальный', 'чушьня', 'рокетбанка', 'выручаетспасибо', 'сверх', 'готовность', 'глюченный', 'пять', 'раза😣😤', 'хорошоп', 'быстронедочёт', '2неделин', 'дурно', 'перерыть', 'виноватый', 'флешка', 'нихренана', 'штрафынесколько', '2неделя', 'ес', 'mijlo', 'выпендрёжа', 'a2010', 'лишиться', 'этонебольшой', 'физический', 'юридический', 'крайненеудобный', 'буквальнонесколько', 'спасибо！продолжать', 'сбербанка！', 'избыточный', 'ухудшать', 'висииииииитииититтттщгрдпн', 'иногда—', 'калькулятор', 'вычисление', 'зареканий', 'нравитяочень', 'ужасноне', 'дождешся', 'представитель', 'эпоха', 'ндравитсян', 'данныезависнуть', 'июлестарое', 'камунальный', 'сберкомиссия', 'жадностьсмертный', 'грех', 'работатт', 'учение', 'хвотаять', 'тройка', 'внеё', 'устройстванельзя', 'пляж', 'поездка', 'командировка', 'присоединяться', 'откатиться', 'velikolepno', 'збиться', 'программнемочь', 'заный', 'закочатьня', 'непрочитанный', 'визуальнон', '29', 'тысяча', 'вышибать', 'ватс', 'ап', 'вышибить', 'нареканийспасибо', 'регулирование', 'шшш', 'блестяще', 'осень', 'скрытый', 'жпы', 'довольна👍👍👍👍', 'переригистрация', 'приложениятолькон', '1520', 'доступня', 'плеватьня', '6s', 'унеё', 'работает👍', '☝️', 'баш', 'башинформсвязь', 'c5', '（flyme', '51120g）', 'антивирус？маразм', 'разскачивать', 'функциональнохорошо', 'насчёт', 'больно', 'удачно', 'кроса', 'губа', 'большенеча', '¡', 'акккаунт', 'переводыня', 'допустить', 'коректный', 'инеобходимый', 'долбаный', 'переименовать', 'цыфр', 'сталонеобходимый', 'хрёный', 'претензийнетспасибо', 'прежнемунуть', 'погашенийна', 'рефинансирование', '1015', 'приложениепросто', 'сторонуне', 'эпопея', 'безысходность', 'угадать', 'обман', 'пережевой', 'рядомять', 'rootправанеужеть', 'отлиный', 'единственноенедоразумение', 'приложениеневозможный', 'произвольно', '300', 'нифига', 'картынуть', 'придумалан', 'заебательский', 'пользовалсякачать', 'приветний', 'здорово👌', 'некорректно', 'банкомять', 'сказалнет', 'отпрак', 'сервисомочень', 'удобнобыстроприятный', 'кредитать', 'безконтактный', 'задерживать', 'этиненужный', 'устройствонельзя', 'ужний', 'чесаться', 'покаместь', 'плохоен', 'чтонет', 'маленькоенеудобство', 'хорошомолодец', 'прииложениюнь', 'гб', '4050', 'удевительный', 'одинплатежотличный', 'выписать', 'кипас', 'привыкать', 'пкприложение', 'ативирь', 'парольжда', 'загрузкупосле', 'сворачиваетсяоткрываюснова', 'бесконечностить', 'вошол', 'аккуратный', 'прилажуха', 'dexp', 'm350', 'враг', 'мля', 'чеголибо', 'головной', 'боль', 'чоткать', 'писец', 'догонка', 'передача', 'оппонент', 'восторгемам', 'перевестиспасибо', 'удобно5', 'ужаснопосле', '°°', 'удобнобез', 'проблем10балл', 'удобнонедостаткович', 'дистанционно', 'перезаходить', 'совершение', 'операцийнеделить', 'октмоне', 'поставщик', 'найтина', 'незагружаться', 'ещенеделя', 'большеужаснонеудобный', 'былосегодня', 'удобнонадо', 'оплату😃', 'соучай', 'болшоя', 'разработчики👍', 'супер👌', 'раньшенепонятный', 'ухудшаетсянесколько', 'опробовать', 'нравитсярекомендовать', 'скачаться', 'маэстроkart', 'спектр', 'отображатьсянекоторое', 'сберкнижекнуть', 'сбербанкудобный', 'класс😊', 'шаблонама', 'pot', 'нанерутовать', 'попугай', 'делатьнельзя', 'ui', 'удобно！', 'ucell', 'скачеваеться', 'удеть', 'разучиться', 'оба', 'епархиианархия', 'нравитсяработать', 'юзаюнедавно', 'косяковен', 'поднести', 'ихнесколько', 'постит', 'k920', 'приложениенедостаток', 'структурировать', 'пользуюсь', 'понятнобыстро', 'сегоднянуть', 'инадеюсьня', 'мадемуазель', 'ведущий', 'страныне', 'информационный', 'напряжный', '…', 'сыровато', 'грузица', 'гемора', 'моглиб', 'чудесный', 'монитор', 'упороться', 'перераспределять', 'усмотрение', 'поганой', 'отличий', 'приложениеделать', 'приложение🖒', 'зачемтый', 'типовой', 'зачемнелогично', 'своевременность', 'desire', '620g', 'дрэк', 'иненадо', 'отлиной', 'банкен', 'вай', 'фай', '😣😠', 'оргиналный', 'ноютнепонятный', 'пишетневозможный', 'ложь', 'вымогательство', 'подсадить', 'электорат', 'банкир', 'щастить', 'вбить', 'группировать', 'точный', 'позиционирование', 'фанат', 'мобильник', 'можноне', 'чтениеотправка', 'ммс', 'проверочный', 'ммсками', 'рассылать', '2уюнеделя', 'расплачиваетсян', 'внимание！после', 'правамиудалять', 'hotapps', 'ровно！', 'тупежкинуть', 'безопасностьня', 'телефонавирусовнета', 'иладной', 'хренне', 'войтиудалить', 'делоудалять', 'бесполезность', 'помошник', 'взаимодействовать', 'появляеться', 'длянекоторое', 'подержка', 'диктовать', 'поганый', 'придолго', 'спустянесколько', 'миллионовнегативный', 'приложениеможный', 'расплрчжаться', 'средствамин', 'спасибп', 'квждый', 'п', 'автозапускаетсячий', 'греть', 'батареюкогда', 'онана', 'надодругий', 'этонуть', 'однонеудобство', 'короткий', 'благодарность', 'золотой', 'весьнеобходимый', 'пишетдобрый', 'sweet', 'пользуюсьнедавнопока', 'обновлениявыдать', 'основание', 'впихнуть', 'гербовый', 'полугодан', 'чашка', 'кофе', 'допить', 'удобнобыстронадежноразработчик', 'вложение', 'подгружаться', 'qrкодан', 'подробный', 'практично👌👍', 'нормальнодолго', 'изначально', 'чур', '25', 'ч', 'справиться', 'нагружать', 'внегон', 'пофиксит', 'рs', '😊👍', '40', 'эт', 'тамна', 'заебало', 'удобноепользоваться', 'частонедостаткович', 'приложениез', 'спасибомня', 'нравитсязвезда', 'действия', 'видновёс', 'рутта', 'аналогично', 'испортиласьня', 'словпросто', 'даволна', 'нравится\\u200b', 'полно', 'наконцтый', 'несмочь', 'qiwi', 'нигдеть', 'rabotaet', 'payич', 'ужелинельзя', 'устаивать', 'пох', 'картыневозможный', 'крутотень', 'работета', 'есе', 'анклав', 'другимн', 'пищать', 'гениально', 'придуманодаженя', 'вериться', 'тормаз', 'лошара', 'сделанно', 'ошибочный', 'нрачиться', 'домая', 'транспорт', 'устроиться', 'нравитьсясуперский', 'buena', 'aplicación', 'заморочнький', 'оооочень', 'нравитсялучш', 'покупкина', 'аналоговно', 'мошеннический', 'стольконерв', 'сяомь', 'сканироваться', 'вручнуюн', 'статистикунедопрограммист', 'кнопкинуть', 'мознлва', 'диапазон', 'передачий', 'корочен', 'прогружаться', 'привычно', 'опятьнемного', 'отвалиться', 'оценкун', 'дибилойдный', 'провеко', 'силнет', 'ден', 'пересрали', 'замечательноочень', 'результативно', 'полна', 'перенос', 'довольнаработать', 'закрадываться', 'подозрениен', 'разнепонятный', 'причинапросить', 'разъяснить', 'выдача', 'исключить', 'думаета', 'таквсе', 'отличнобольшоя', 'програмкаспасибо', 'rokky', 'принудительно', 'останавливать', 'про6ич', 'устанавливаетсявыдавать', 'eui', 'илинеофициальный', 'конфликт', 'этогонедуг', 'умница', 'нормальнонельзя', 'дублировать', 'подключать', '200р', 'абонентский', 'платунепонять', 'ещенепомешать', 'купля', 'криптовалюта', 'стефан', 'ыыыы', 'приходят😓', 'непонятно', 'приобретение', 'валюты', 'ошибку24', 'qrкод', 'спрашиветь', 'картен', 'опт', 'свойство', 'фотоаппарат', 'нагрузка', 'просто😊', 'простительный', 'поделие', 'предварительно', 'линукс', 'убожествон', 'лениться', 'приложениеприятный', 'соу', 'сотрудничать', 'былинедочётын', 'прошить', 'нравитсявсё', 'checker', '😉😉', 'работодатель', 'начисление', 'довольнас', 'нонепременно', 'услугойспасибо', 'загружаетсян', 'грузитскачать', 'провериланечегон', 'понепонятный', 'умничка', 'мониторить', 'классной', 'счита', 'услугиинтернуть', 'счетаминет', 'ничегоневозможный', 'лругий', 'ася', 'штрихкодович', 'саратов', 'мнить', 'касаниемень', 'соответсвенный', 'вуалян', 'заити', 'срок', '599', 'предупредить', 'традиция', 'беспомощный', 'кармена', 'компетентность', 'персонал', 'коммуникабельный', 'встречаться', 'снебольшой', 'оченьнеподготовленный', 'строчка', 'которуюневозможный', 'осуществлятьня', '4pda', 'слышата', 'альтернативный', 'этонедопреложение', 'арест', '🙌👍👌', 'рекомендую👍', 'pley', 'кирпичек', 'логинвводить', 'отсчёт', '595', 'тч', 'стабильнапользоваться', 'занимаютень', '36', 'x9дый', 'старенький', 'тынч', 'приложениетеперить', 'поднеусыпный', 'помощникауний', 'контролемень', 'забаловать', 'видел！', 'олигополия', 'безналичный', 'благодарюна', 'модно', 'поаторит', 'ьне', 'увеличиваться', 'приход', 'важнонель', 'сколькожа', 'ник', 'самодостаточный', 'шаблрный', 'вылктаять', 'загрузкиисправьтк', 'страшно', 'лишнимин', 'прибыть', 'кул👍', 'тлф', 'болнас', 'частично', 'активировать', 'скатить', '😕', 'анти', 'вира', 'кряк', 'сберычать', 'чухнуть', '4пд', 'партесь', 'входен', 'нечегонезнать', 'оригиналный', 'васюхина', 'антон', 'дмитриевич', 'плохоебыть', 'простоперемудрить', 'безопасностьюпрошивкан', 'таrootдоступ', 'заволновалтехотделна', 'отвечаетесть', 'formidable', 'вроденеплохоеиногда', 'глючитный', 'телефонаа', 'внедрение', 'становитсяневыносить', 'приложент', 'вывешивать', 'баннер', 'баннерна', 'дефект', 'используетнестандартный', 'порт', 'корпоративный', 'nginx', 'онемять', 'исключительный', 'подробность', 'обработать', 'разасначала', 'подвисало', 'виндовс', 'алексейн', 'первова', 'приложениеиногда', 'сякой', 'тонельзя', 'пытаетсян', 'цвета', 'строгий', 'какбудтый', 'спервое', 'зделать', 'автомотичёска', 'вставляться', 'опатноне', 'образовать', 'зависаетний', 'телефоннельзя', 'профессиональный', 'приложениеслетаетний', 'поймупочему', 'сыро', 'коммунал', '56', 'разсамо', 'нтс', 'м8', 'устойчивый', 'даженерв', 'подымать', 'выходитьня', 'равноценный', 'нашинеправильный', 'удобнокогда', 'себевыдавать', 'поверилався', 'ещести', 'онлайн😒😞', 'тлфна', 'водиться', 'продолжительный', 'излишний', 'приожение', 'платежамна', 'удалениемень', 'сбк', 'каменный', 'пугаться', 'понравилосьсупер', 'невероятно', 'mx4', '👎👎👎👎👎👎', 'sposebo', 'спрашиваюв', 'межвежий', 'приватность', 'злой', 'повтор', 'ипотечный', 'миновать', 'могёте', 'отличнолучш', 'реализация', 'никтовидимо', 'бл', 'зае', 'прекращать', 'вырв', 'обновленм', 'толкунуть', 'постановщик', 'могонь', 'нарадоваться', 'напримерна', 'ставка', 'банканельзя', 'безуспешноян', 'перепробвал', 'всезарегать', 'онлайнна', 'лопнидругий', 'капец', 'крассной', 'прилажение', 'эльёр', '🤗🤗🤗', 'пользователюнеобходить', 'ломать', 'придеться', 'отправкин', 'отличноен', 'систематизация', 'папкамдобавить', 'сортировка', 'реальномаленький', 'понравилосьочень', 'фуфло', 'обрабатывать', 'нанекорректный', 'сберкнижка', 'этонемного', 'печалить', 'шаблонам！', 'that', '😀😆😀😀😀😀', 'практическин', 'ela', 'ломаный', 'приложениенон', 'либоа', 'вполненеплохать', 'удовольствиемень', 'хренотень', 'этл', 'нравитьсяэтый', 'европа', 'еён', 'оплативать', 'слуга', 'сделатьэтый', 'детально', 'умнен', 'исправилинаконец', 'томолодец', 'норь', 'офсайт', '6100', 'времяспасибо', 'полгодан', 'насолить', 'произведение', 'вредонос', 'брехня', 'отличныйнезаменимый', 'вложить', 'поидти', 'слежка', 'заметныхнуть', 'принципан', 'ситуацией！невозможный', '270717', 'тонна', 'ихнельзя', 'дача', 'дистанционнон', 'отдых', 'всенеплохоно', 'ека', 'термин', '10000', 'поломка', 'устраивалосейчас', 'избавиться', 'хор', 'asusz011d', 'совершатьня', 'про6недавно', 'flyme6', 'лаунчер', 'банказапросить', 'картыкарта', 'былан', 'собой', 'собойзачем', 'приложениемочь', 'тогдать', 'приложениеудалять', 'аля', 'форум', 'предпринять', 'u20', '6го', 'андройдний', 'хватка', 'пойдётглючить', 'иногдада', 'отучить', 'херашо', 'додуматься', 'нфсить', 'поле', 'симпотный', 'безглючный', 'реализовонный', 'копилак', 'антивируспараноик', 'изделие', 'какойтонесуществовать', 'серьёзный', 'счетатолько', 'ужаснуть', 'говон', 'делаочень', 'точнеен', 'калла', 'произходить', 'единственныйнеприятный', 'nokia', 'завершение', 'здоровона', 'одеться', 'отщитываться', 'аригинальный', 'проблема？испраьте！прилодение', 'могу！', 'нанеопределённый', 'устраиваетвот', 'проблемапочесть', 'сразупостоянно', 'выборочно', 'целиком', 'нравитьсяприложение', 'приложениепрограммист', 'сберегать', 'вкладан', 'ожиданиянедельный', 'экономика', 'моментнедостаток', 'старик', 'кек', 'перевешивать', 'снос', 'klassno', 'сработать', 'харошый', 'пугать', 'шанс', 'встрять', 'деньгипокан', 'рисковатьвсе', 'кншн', 'принципенеплохо', 'приложениебезний', 'прилажуханедостаток', 'охренеть', 'сноуден', 'анбень', 'сдубарухнуть', 'хаммаг', 'такдим', 'киламан', 'aq5001', 'нанегон', 'изгадить', 'вылетаетневозможный', 'крашиться', 'нестабильный', '492', 'ничегонет', 'молодцый', 'всемчего', 'счетомня', 'передать', 'отпечаткомпароль', 'забыться', 'идентификаторун', 'увенчаться', 'снесколький', '👍😍😍😍🌹🌹🌹🌹🌹', 'plusич', 'стольконеудобный', 'характеристика', 'лайфхак', 'автообновление！пока', 'расторгнуть', 'оплатитьнельзятолько', 'перо', 'исправьтен', 'нуженблокировать', 'спсибо', 'men', 'uchin', 'amatly', 'bankvery', 'приложениекогда', 'вродеб', 'устанавливатьсяоно', 'flymeos', 'aps', 'гапсовнуть', 'общемнеплохоно', 'зен', '550', 'ти', 'romi', 'соединениес', '4андроид', 'версиян', 'малоа', 'расходный', 'рст', 'новоенедавно', 'подбор', 'приложениеинтуитивный', 'борт', 'rootдоступан', 'причемнеобратимый', 'воспринимать', 'корненеверно', 'чьейтонекомпетентность', 'безалаберность', 'мв', 'боло', 'чтонеорегенальный', 'работаютнекоторое', 'оччень', 'дольшефункция', 'половинынуть', 'ненадежного', 'рутаиспраить', 'пжлстиль', 'апв', 'когданесколько', 'счёты', 'кибернетика', 'работаетвот', 'оценивание', 'задавать', 'вопросымн', 'ващен', 'зачётный', 'приложениеудобноно', 'образомспасибопрограмма', '1015ь', 'удобнеечь', 'oneplus', '3t', 'потребление', 'отсылаться', 'пихаетненужный', 'тенькоф', 'отправляетсяй', 'получается👌👍', 'второготретий', 'накопительный', 'копилкапереустановка', 'проблемуть', 'приложенеий', 'разобрать', 'простаивать', 'длинный', 'устраевать', 'творец', 'чтонедостаточно', 'планшетик', 'вводитьнесколько', 'сволочь', 'коллектор', 'кликать', 'стоимость', 'проописанвю', '000', 'мелочин', 'аяй', 'поцент', 'процентный', 'проходитсянесколько', 'xz', 'эффективный', 'рядовой', 'дебит', 'занесколько', 'распечатка', 'платёжний', 'впинципа', 'выдол', 'антивирусмять', 'нэма', 'заебок', 'пошетнуть', 'тухлый', 'нехватать', 'разумный', 'гдеть', 'обновлвление', 'таков', 'политика', 'которогон', 'ужобной', 'программа🤗', '24гб', 'функуиинедоступныисправить', 'пожалуцста！！！', 'проверкун', 'пользоватьсяневозможный', 'разлогиниваться', 'регаться', 'поновый', 'нафикно', 'klasni', 'нудный', 'хорошенький', 'постоянныененужный', 'выключение', 'денёк', 'удобнобыстродёшево', 'быстрейно', 'переноситься', 'памятиисправтеasus', 'ko12', 'удобно№№', 'которыхнуть', 'доступо', 'интернетен', 'отслеживание', 'телефоначто', 'удобнотк', 'длян', 'мошеньикомнедать', 'трогать💪✊', '21век', 'быланемного', '😎', 'понятновый', 'предыдущиена', 'приложениевыдавать', 'затребовать', '90мба', 'онлайнверсия', 'ruич', 'втиснуть', 'вотсап', 'дрнеобходимый', '👌😐', 'оченний', 'телефоновнуть', 'высвечиваютсян', 'крутиться', 'сервис😊', 'отмечать', 'coo', 'l', 'удобноненадо', 'удобномои', 'проблёмкий', 'прогрузка', 'спасибо👍', 'инитернетний', 'ловиться', 'вижунеобходимость', 'совершенствованиюнуть', 'уч', 'возможностямич', 'приложениенесколько', 'регистрируетсян', 'берёза', 'груда', 'шабдон', 'особить', 'taking', 'too', 'much', 'space', 'малость', 'wileyfox', 'swift', '71', 'зайтивводить', '16', 'знатный', '18ич', 'деньгиникудан', 'уебище', 'колосальный', 'сцук', 'обновлениякогда', 'ужечтонибуть', 'советуюн', 'устраиввать', 'альфабанк', 'редактировать', 'rahmat', 'kattakon', 'mujozlarga', 'bolgan', 'hurmat', 'uchun', 'va', 'qollanilayotgan', 'qulayliklar', 'ххххха', 'переводыпополнениенаблюдение', 'проработать', 'постатейный', 'увязать', 'обыскать', 'файловен', 'онлайин', 'телефоненет', 'фукции', 'марк', 'относиться', '😑😐😕', 'медленнннннннный', '11111', 'зачислять', 'исправный', 'источник', 'работаютень', 'оченьнедовольный', 'сбербанконлать', 'связный', 'этинеудобство', 'письмане', 'посходить', '16072017', '0×0', 'роботало', 'зоводский', 'лысый', 'выясняться', 'хer', 'молотец', 'сказалнезаменимый', 'сберсчетамин', 'сцпер', 'девчата', 'рриложение', 'стабильноить', 'отказать', '👍всегда', 'чтонемногон', 'выцвелый', 'вкусовщина', 'разблокироваться', 'ползунок', 'использовании👍', 'разработчикамспасибо', 'которыхнетний', 'отзывчивый', 'fingerprint', 'приложенин', 'жизньэкономить', 'времязначить', 'a316i', 'инфраструктура', 'experience', 'приложенией', 'деталь', 'упереться', 'разработчикамкогда', 'поискеневозможный', 'домра', 'вкладыневозможный', 'вме', 'соаершить', 'удобнть', 'домав', 'меркульев', 'красавец', 'удобно☺', 'наглядный', 'wp', 'лучшеменить', 'тупость', 'модификация', 'модифицироваться', 'рутоваться', 'криворукость', 'no', 'работоспособный', 'дорабатывать', 'перфекционист', '692', 'perfect', 'удобнона', 'ага', 'выключаться', 'загрузкан', 'энергопотребление', 'модуль', 'мониторинг', 'вездеспосибо', 'ценить', 'бралиб', 'сбербанкс', 'хорлшошеий', 'выбешивать', 'сбепбанк', 'заметный', 'привести', 'гэлаксить', '2017г', 'раскладка', 'статья', 'ресторан', 'приложение🙌', 'бомбовый', 'минимально', 'чайник', 'приложениеоценка5', 'оченьнужный', 'интернетбанкинг', 'оплатойня', 'идентиф', 'наман', 'короч', 'представить', 'безнеё', '0хотеть', 'деньгинаходиться', 'кредитоплатить', 'полоса', 'аминь', 'превкасный', 'вор', 'разглядеть', 'нормально50', '50😉', 'отлитч', 'глючит😡', 'распознаться', 'клёв', 'подз', 'янемножко', 'ругать', 'месяцана', 'привязанна', 'прямой', 'переводовен', 'батареюн', 'приложениемнесколько', 'плотёж', 'целомвсе', 'идиотовен', 'нишитяк', 'угмк', 'телек', 'многогон', 'дальнейшемень', 'разочароваться', '😊всё', 'причинна', 'тинткова', 'натяг', 'вэб', 'ект', 'супер😏', 'маестро', 'бэ', 'нанеё', 'печёнка', 'выпуститьня', 'нихер', 'антиутопия', 'крутро', 'класс5', 'вамвсё', 'приложениембольшоя', 'нольнуть', 'подруга', 'обновлениявход', 'простоневыносить', 'старосиськ', 'пароляна', 'тормозитодин', 'визит', 'перестараться', 'здравствуйтеприложение', 'раздеий', 'кникинетхотя', 'контактынуть', 'zen2', 'инескачиваться', 'приложениеодин', 'открылосий', 'всевсе', 'обрываться', 'приветствиитак', 'вылеталоудалилпрошлонемный', '1и', 'помогаетва', 'накрылось！писать', 'следом', 'платежей！нафиг', 'сдалось？менять', 'плэя', 'ведм', 'сщетам', 'устраиваетоткрываетсяработать', 'выебнуться', 'операциямин', 'typical', 'senseless', 'merciless', 'require', 'unnecessary', 'permissions', 'because', 'kgb', 'unwanted', 'trojan', 'same', 'reason', 'starts', 'old', 'train', 'saturn', 'now', 'working', 'at', 'hanging', 'initialization', 'fantastic', 'mr', 'gref', 'may', 'your', 'ai', 'blockchain', 'big', 'be', 'mother', 'russia', 'doomed', 'цветастый', 'able', 'freeze', 'during', 'start', 'оплатан', 'вегда', 'normplay', 'айос', 'tj', 'инициализациян', 'отличноудобнонадежновсе', 'чёткохорошо', 'продуманоочень', 'нравитьсяудобный', 'очередейн', 'даволень', 'весьмане', 'справка', '52111g', 'программный', 'обеспечениян', 'перегрузка', 'прочиена', 'выдаетчтый', 'страннаять', 'диагностика', 'нормепрошивка', 'разнепонять', 'нормальнонет', 'нрав', 'хорошонон', 'обновоение', 'клиентбанк', 'услугня', 'приложениенадо', 'получаетсяприложение', 'нужноести', 'имнельзя', 'рнкб', 'мм', 'ээмма', 'печально', 'гора', 'плечо', 'жкхна', 'крым', 'хуйниус', 'масекси', 'страус', 'обойтись', 'пацан', 'полёный', 'удлаять', 'умудряться', 'наней', 'гденибыть', 'опытный', 'грабитель', 'межрегиональный', 'банкун', 'ютуба', 'видео', 'понимаюнаписать', 'краш', 'отправитьневозможный', 'считалсян', '😃😃😃', 'лояльностьнуть', 'кэшбек', 'вопросын', 'андроидан', 'опоздать', 'недолго', 'vспасибо', 'вынужденный', 'перекидка', 'вероятно', 'ипростой', 'приложениеё', 'триждынемный', 'кайф', 'естьж', 'счетамилёгкий', 'овладеть', 'winphon', 'маестрон', 'проверяетний', 'террорист', 'ждатьнепонятный', 'выгнать', 'вместоний', 'стажёр', 'ещенемного', 'программулин', 'парой', 'примернонеделить', 'микроб', 'тифозный', '©стёпочкин', 'показываетнеактуальный', 'кресло', 'денгиня', '👍👏', 'складываться', 'двойник', 'четвёрочка', 'новшестван', 'очень\\u200b', 'пларирование', 'впоседный', 'слегка', 'красавцы👍', 'какуюнеделюисправить', 'показываетчтый', 'месяцевич', 'исправлятьня', 'okey', 'делеть', 'вашня', 'боооо', 'вывелнеизвестно', 'просрали', 'world', 'tanks', 'пополнятьпереводить', 'входеневозможный', 'последнююнеделя', 'войтителефон', 'зависаетчтый', 'случилосьраньша', 'навязчивость', 'беспонтовый', '100гб', 'удобноинтуитивный', 'понятнопросто', 'десятилетний', 'стажемвообще', 'придусмотреть', 'бесссит', '90функционал', 'начинающий', 'линейка', '20162017', 'загрузчик', 'разлоченпереть', 'делена', 'отметка', 'онепрочитанный', 'уведомлениямнепонятный', 'щёлкать', 'значек', 'колванепрочитанный', 'вирусноне', 'ммммммммм', 'гвный', 'юзат', 'пустонать', 'копилокно', 'взымать', 'пэйприложение', 'бываетнедоступный', 'деревянный', 'жалобыня', 'приложениенеужеть', 'робить', 'полюбак', 'пригодиться', 'паролянеоднократно', 'перекинуть', 'кредитомнедоступный', 'девайсепосле', 'получениян', 'обрубить', 'видит', 'обновилисьнедавно', 'ставлюоценка', 'телпереть', 'антивира', 'вирусовнуть', 'огромныйный', 'оккупить', 'новыйдавать', 'устанавливаетписать', 'ошибкай', 'самикак', 'такпамять', 'полноинтернет', 'безлимитныйвсе', 'булочка', 'меня', 'всвязь', 'гонять', 'нраваться', 'очереди✌', 'чикс', 'gooooood', 'обноаление', 'апрель', 'скачивалан', 'всегдан', 'просканировать', 'янегодовать', 'агонь', 'крайненедовольный', 'огр', 'глоб', 'какнебо', 'плюсы', 'сеня', 'приложениереальный', 'сбербанконлайнна', 'красотана', 'разанеудобный', 'гази', 'надоочень', 'оплатитьневозможный', 'раставленный', 'входапятить', '820g', 'заводскаяна', 'пользоватьсянесколький', 'считатьнекоторое', 'возрастной', '👍👍👍👍👍👍👍👍', 'понижать', 'боковой', 'брат', 'номераминет', 'итого', 'надонесколько', 'wtf', 'код😠😠😠', 'потключить', 'оналайна', 'мегть', 'до70', 'удобнль', 'подлинность', 'шаблонамневозможный', 'удобнопрактичнолегко', 'цыфра', '0000000000000', '🤔', 'впускать', 'регистрациикод', '227', 'тихо', 'мирно', 'умирать', 'псло', 'блокируеться', 'туговато', 'респектуха', 'моментынеприятный', 'держать👍😊', 'многон', 'платформа', 'которыхня', 'задействовать', 'шаблонанесколько', 'безнея', 'стабильностинет', 'вный', 'снгбыть', 'гггггга', 'пользовалсян', '👍👍👍👍👍👍👍👍👍👍', 'работаеткруто😑', 'зайтичто', 'устраиваетвсе', 'дохды', 'приложнний', '5а', 'могускатиться', 'никчёмный', 'шедевр', 'налаживать', 'оболочка', 'прелясть', 'бомжан', 's850cl', 'огорчить', 'развитиина', 'рещении', 'устраиваетний', 'мэйз', 'мобила', 'возить', 'испоганить', 'ниженекуда', 'удлбнея', 'унея', 'ошибкучтый', 'ограниченресать', 'проблемуэтон', 'случий', 'скатилиськака', 'глубоко', 'залезть', 'якобынезаводский', 'приложениянеобязательный', 'збой', 'рассмотреть', 'водительский', 'птс', 'пополнеие', 'полгодагода', 'месяцдва', 'повиснуть', 'созерцание', 'колечко', 'транспарант', 'самитый', 'смартан', 'fonepa', '175', 'cg', 'вася', 'мастеркард', 'приложение😊', '4gич', 'поодключаеться', 'оплачиваешьня', 'кнекоторое', 'пишутнеизвестный', 'автоплатеж', 'тутнечего', 'заходитбред', 'сообщенияй', 'райфф', 'юня', 'viktoria', 'оченьнегативно', 'сказываться', 'плохонет', 'нормлын', 'кластер', 'неожиданно', 'детальный', 'mx6ич', 'опасение', 'накладка', 'здраствовать', 'чтобнепрочитанный', 'обозначаться', 'пинкодень', 'm3sич', 'целомнеплохой', 'набираб', 'смениться', 'сворачивать', 'воспользоватьсян', 'полоска', 'заполняться', 'сбо', 'вопросакоторый', 'приложениять', 'запускает😯😕', 'роиссия', 'моегон', 'востановить', 'вапщен', 'отзываться', 'скромный', 'течениинесколький', 'разблокировать', 'прошивкин', 'платилаисправить', 'виза', 'изпользование', 'человеческий', 'продуманнонекчий', 'придраться', 'уровнебыстро', 'пишетнеоригинальный', 'клиентский', 'найтиневозможный', 'простить', 'скачеваться', 'перепуг', 'висамсунг', 'гплэксить', 'джи2', 'э', '6100g', 'norma', 'зб', 'неполноценный', 'вдаваться', 'антивирусапонесколько', 'обновленияминевыносить', 'جيد', 'جدا', '挺好', 'алло！установить', 'прошивка！рутень', 'трогал！', 'androidустройство', 'доволеночень', 'ррн', 'galaxi', 'замечанийнеточень', 'менядалёкий', 'невозмодить', 'человечески', 'удобеый', 'тупизна', 'последнееивремя', 'тупан', 'возмодно', 'таконо', 'геморрояинуть', 'работен', 'проделаный', 'удобдобный', 'сайтний', 'собачить', 'максимальный', 'проложениить', 'поттупливать', 'конечноести', 'понятныне', 'давольнаспасибо', 'прелестно', 'удалилан', 'объект', 'памятина', 'находитнесуществовать', 'невозможность', 'экранаткма', 'повредить', 'доставляетнеудобство', 'zdorovo', 'активныхдажа', 'усыплять', 'самоактивируетсяэтый', 'чтослежка', '👏', 'фингерпринт', 'веселеть', 'воскресеньян', 'охуеной', 'hope', 'can', 'fully', 'function', 'опалата', '–', 'восхитительно', 'окпп', 'автовыход', 'искажаться', 'томчтонельзя', 'серый', 'нажиматься', 'загадочный', 'поновое', 'началнедопроверить', 'какиетоня', 'кодомна', 'пость', 'быстро👍👍👍', 'лес', 'зарядить', 'ползать', 'спасибо☆☆☆☆☆', 'чтоникакий', 'сказатьня', 'могуиспользовать', 'бес', 'сознательно', 'побоку', '4е', 'рационално', 'прошивкойстоять', 'речь', 'дополнять', 'полис', 'опускаться', 'рождение', 'приложение👌', 'когдато', 'этойнеисправность', 'cash', 'organizer', 'синхронизировать', 'контактоа', 'женевозможный', 'padfone', 'e', 'вымораживать', 'учесть', 'гнида', 'недовольный', 'раелизованный', 'ужастный', 'попростун', 'другуматерить', 'отец', 'двор', 'вебверсия', 'совершеннонебезопасный', 'пушуведомление', 'удобнобыстропросторазработчик', 'разворот', 'работаетp', 'прикаснуться', 'переключатель', 'зелёный', 'опятьня', 'очнеплохомня', 'нравитсяпока', 'зачастую', 'приложение😄😄😄😄😄😄😄😄😄😄😄', 'запоминать', 'двидение', 'пишетнесовместимый', 'режимена', 'до1', 'электроэнергия', 'ценыне', 'болша', 'работаетнекорректный', '👏👍', 'телефонано', 'инетом', 'спутниковый', 'gsm', 'станция', 'мореразработчик', 'развиваетесть', 'вылетаетспасибо', 'сберыкать', 'пробуксовка', 'пойдёть', 'менялсяй', 'беготня', 'зберкасса', 'пользуюсьнесколько', 'оценкупоть', 'удобнодовольный', 'подзависать', '😄😄😄', 'увесистый', 'обновлениевсе', 'щикарно', 'работаетва', 'сурррреееррррв', 'нате', 'какуюнибудь', 'херня', 'естестнный', 'добить', 'натворить', 'копироваться', 'абонентаневозможный', 'нравитситься', 'захожуна', 'приветсвие', 'приложениеоченьудобный', 'ужасссссс', 'супервсё', 'переиздание', 'чип', 'гуддда', 'переустановилнесколько', 'хорошоить', 'разбиратьсянемный', 'тячеловатоа', 'германия', 'оригинальныйн', 'переписываться', 'порог', 'штатовский', 'зоплачивать', 'обладатель', 'сбербанковский', 'бываетний', '45', 'красавица', 'косячок', 'обновлениясейчас', 'исправилиработать', 'смартфонеть', 'обновлениеть', 'индефикатор', '5мина', 'зарплатынеплохать', 'пишетчто', 'сроду', 'сдесьнебыть', 'топчик', 'дополнительно', '1м', 'застрялждать', 'ждатьня', '1не', 'увеличилсян', 'присоедениться', 'обновленияразраб', 'дновый', 'пользователейгорить', 'дима', 'мечтуа', 'roota', 'оболденый', 'приложениенеобходить', 'наитупой', 'хуева', 'нихрен', 'входеть', 'драконить', 'чета', 'нимнельзя', 'хз', 'былонемного', 'отобразить', 'наличныхперевод', 'доступнынельзя', 'приложениянеожиданный', 'андрюша', 'поднадоесть', 'udobni', 'ochin', 'udobniy', '712', 'огрызок', 'молна', 'добавляючтый', 'встать', 'рак', 'этакий', 'коротко', 'задолжность', 'вылетание', 'историян', 'фиксировать', 'клиентана', 'страдать', 'устраиваетпользоваться', 'месяцадаздесить', 'времяпрога', 'пересылать', 'вамспасибо', 'бяцкай', 'бяцкий', 'адмистратор', 'обозначение', 'изначальнон', 'ошибки24', 'попытаться', 'me', 'convient', 'amplement', 'facile', 'et', 'pratique', 'рррра', 'копилканемногон', 'уменьшитьспасибо', 'убаветь', 'нормлучшегонет', 'направить', 'доехать', 'центр', '34272виктор', 'виталиевич', 'внесанкционировать', 'доний', 'вэри', 'суммы😉🤗', 'газнуть', 'интернетомь', 'криптография', 'хр', 'обнулиться', 'проблемын', 'узнавать', 'всяческий', 'опциональный', 'параной', 'доставить', 'наводить', 'кок', 'вручнуюпоисковик', 'результатович', 'принесв', 'принудительнон', 'forever👍', 'хорошийделона', 'приложениечтый', 'очередина', 'сообразить', 'старымнедествительный', 'черезной', 'объективный', 'супер😉', 'супердажена', 'думалачтый', 'легкон', 'созваниваться', 'сиделка', 'подключатьня', 'снижать', 'зать', 'прошивкой！раньша', 'работало！остальный', 'нормальнотолько', 'оказывать', 'медвежий', 'прошивки！', 'апк', 'удобнохорошать', 'защитаспасибо', 'нанемень', 'шибко', 'окончить', 'соединениен', 'печальненький', 'приходный', 'этонедочёт', 'еслинет', 'сысоев', 'иванович', 'установливать', 'инфаркт', 'зарегать', 'новыйн', 'пож', 'установкудоходить', 'сначалапот', 'l09', 'днсон', 'считаючтый', 'нра', 'молодцыспасибо', 'класс😉', 'оплатен', 'митя', 'радуетчтый', 'досрочко', 'удобноможный', 'заменять', 'ношение', 'наличка', 'rootнуть', 'выдаётний', 'куруто', 'mobbank', 'client', 'lt3', 'прописывать', 'показываетненужный', 'м3s', 'типтоп', 'ленин', 'досрочноне', 'банкасделать', 'удобноенедавно', 'озаботиться', 'глядеть', 'полагать', 'програма', 'преидтись', 'удолить', 'совмем', 'егоневозможный', 'заплатилна', 'приложениенебыть', 'часами', 'суметь', 'ваидти', 'расстраивать', 'понялпочему', 'рутправаминельзя', 'приложениём', 'запретитесраза', 'установкичтоба', 'устоновка', 'слитаять', 'манипуляцийна', 'глупый', '40минута', 'пучокнерв', '5ый', 'зарегестрироватьсян', 'ткно', 'воспользоватьсянеобходимый', 'правможный', 'нормаленький', 'своевремёный', 'быстро😊👌', 'zberbank', 'установкан', 'чистка', 'спец', 'здоровоглавный', 'лукнуться', 'займовен', 'оно👍', 'интуитивнопонятный', 'местамин', 'финансий', 'прошитня', 'пиратскийна', 'скитай', 'бренд', 'вляться', 'всемирный', 'гамман', 'теряетсяточный', 'доволна', 'кардинальнон', 'банкоматович', 'супермн', 'семейный', 'назойливый', 'теперьнетнеобходимость', 'мбс', 'получениеотправкавывод', 'тактоиза', 'обновнениянуть', 'дяковать', 'сдели', 'мейзунельзя', 'выпольнять', 'функциитипо', '320', '8800', 'наполовину', 'погибать', 'получаетец', 'фигняня', 'код24что', 'спб', 'портитня', 'опуститься', 'плинтус', 'заводить', 'у10ич', 'отражаютсян', 'клавиша', 'прибор', 'предпренимать', 'м5ич', 'ругаеться', 'сертифицированный', 'тлично', 'подставка', 'феня', 'днейслишком', 'парольскачать', 'беспокоиться', 'течениенесколький', 'выразитьсян', 'формулировка', 'совершеннонеожидать', 'калссной', 'совершатьневозможный', 'антивирусомня', 'файловнуть', 'антивирусунуть', 'средстванекуда', 'убежать', 'стандарт', 'которымять', 'стажировка', 'взламываться', 'дружить', 'нареканийвсе', 'ай', 'малаца', 'нужноо', 'супперра', 'пуперра', 'менянесколько', 'винд', 'яндексденьгамибыть', 'снгбнуть', 'удобнонетнеобходимость', 'ошибаться', 'вс', 'тогонебыстрый', '😬', 'разблокировкин', 'оплачиватьнебольший', 'нравитсч5', 'духепроцветание', 'занимательный', 'кухарка', 'длжный', 'управлятьмой', 'отправитьнёкий', 'отправитьнуть', '2необходимый', 'естьнеактивный', 'картысчёт', 'кашмара', '👎👎👎👎ич', 'вхожуя', 'тихий', 'вплоть', 'болт', 'всо', 'оченьнеплохой', 'попробывать', 'колено', 'приложенька', 'нууууа', 'фонен', 'удивиться', 'наподобие', 'systempause', 'вобщемнеплохо', 'упороть', 'жать', 'ошибкулибо', 'сделанонеплохо', 'курсор', 'перескакивать', 'сумманеправильно', 'хохон', 'хохо', 'телефонуна', 'монстр', 'фотошоп', 'non', 'routed', 'application', 'eventually', 'cut', 'off', 'account', 'functional', 'initialisation', 'procedure', 'says', 'was', 'or', 'some', 'anyway', 'true', 'did', 'perfectly', 'couple', 'months', 'ago', 'guys', 'fix', 'asap', 'jw', 'переключиться', 'потихоньку', 'приложениянельзя', 'оформлять', 'подтупливаетнемный', 'дождатьсян', 'диконеудоьный', 'счетаминафиг', 'плац', 'ооо', 'уродский', 'индификатор', 'хорошее👍👍', 'сталонесовместимый', 'дабы', 'добиться', 'внемять', 'u', 'ultra', 'alexandr', 'выражение', 'заебаться', 'зависимость', 'похть', 'соединенить', 'остановка', 'расти', 'задница', 'главарянеуд', 'сбояхна', 'поистине', 'фееричный', 'контекстный', 'обнеактуальный', 'говоритьнечий', 'раздражение', 'хочуня', 'всёработать', 'n', 'возможностьнеавторизованный', 'клачный', 'хранилище', 'нармуля', 'явноне', 'приложениеглавный', 'удобноеникудан', 'сво', 'естьнебольшиенедоработка', 'очччччённо', 'доступан', 'перевол', 'довольнонеплохо', 'запускатьсяписать', 'отнимать', 'другиеть', 'решиться', 'снея', 'воопша', 'рошнп', 'олово', 'рало', 'ца', 'интеграция', 'нужена', 'пооблема', 'отличноантивирус', 'начинай', 'прложения', 'завершать', 'ирина', '😊😊😊', 'нравитсяпосле', 'безнегон', 'роскошный\\u200b', 'плод', 'золото', 'мракобесие', 'телефонштраф', 'котырой', 'лидировать', 'сырой', 'прграмм', 'смотрити', 'урок', 'джанавара', 'сненужный', 'входенеоднократный', 'замерять', 'доволенна', 'кв', 'code', 'заметка', 'отчасти', 'собойнекоторое', 'доступновсегда', 'выдесть', 'спасибо😉', 'проигрывать', 'бспб', 'расположенно', 'устривать', 'смскан', 'впорядок', 'долгоно', 'шедевральный', 'проблемаспасибо', 'доволенклассный', 'неделин', 'приложениенеполадка', '710', 'отклонять', 'итогеневозможный', 'автомобиль', 'виснетоповещениян', 'работаютантивирус', 'сказка', 'ресетана', 'проблемать', 'проблемтелефон', '442', 'ивсема', 'мобилнихневозможный', 'июляна', 'ниша', 'беребрасывать', 'плохочтонельзя', 'странрешить', 'аунтефикация', 'простоневозможный', 'старший', 'возраст', 'баблишек', 'потребовать', 'рость', 'доволенпроблема', 'генеральный', 'финансавый', 'pop', 'пров', 'оригиналрать', 'безполезный', 'инновационный', 'реализовать', 'свайп', 'желательно', 'зад', 'убивания', 'процессан', 'висящихнепрочитать', 'регистрациюслетать', 'своегонет', 'вздуматься', '555', 'приложениедо', 'немочь', 'устоновить', 'benissimo', 'сервисан', 'изучилно', 'большечь', 'деледо', 'приложениепроверка', 'равный', '905', 'удобноевполна', 'просрочить', 'нереальный', 'ппц×d', 'работаюттбесконтактный', 'воздух', 'такогонеимя', 'телефонбред', 'тохотеть', 'загрузканесколько', 'умтановиться', 'аак', 'прошивкавернуть', 'функционалиначе', 'отличножелать', 'бабло', 'толш', 'кошёлка', 'которуюн', 'чтр', 'оришинал', 'годыня', 'такихотзывчивый', 'общительный', 'иностранец', 'тарабарский', 'обьявить', 'бойкот', 'софтинуне', 'нимин', 'пляска', 'священный', 'шаманский', 'костюм', 'определяться', 'орегинальный', 'canvas', 'a107', 'тинькоф', 'метро', 'хербанк', 'рашабанк', 'внесение', 'наличныый', 'временноневозможный', 'туалет', '🚽', 'супермолодец', 'пальцасамсунг', 'хечесть', 'пролистываеш', 'супер😀', 'тенденция', 'рост', 'снижение', 'настольный', 'ихилинет', 'ошибиться', 'нравится😉', 'иззанекорректный', 'телефонать', 'нескачеваться', 'исправилин', 'идеал', 'увеличение', 'будущий', 'онеобходимость', 'интегрировать', 'xposed', 'xprivacy', 'обеспечивать', 'безопасностьнежеть', 'рсхб', 'отоборажение', 'qrсканер', 'закономерностина', 'никакогонет', 'беспроцетный', 'сельский', 'местность', 'можно🤗', 'бездействие', 'безразличие', 'январь', 'веселие', '😡', 'сбербанку🤗', 'пользоватьсяоплатаперевод', 'прикинуть', 'прогрессировать', 'сталоненужный', 'икона', 'телефонеудалять', 'прага', 'использованния', 'лена', 'интернетпровайдер', 'convex', '2мя', 'пораболь', 'вотнельзя', 'универсальный', 'засада', '5x', 'претензийнета', 'своихисправить', 'инедоступный', 'безголовый', 'большенерв', 'запускалосьня', 'previous', 'since', 'new', 'mayor', 'has', 'been', 'impossible', 'upgrade', 'download', 'repeat', 'itself', 'three', 'times', 'fail', 'install', 'making', 'smartphone', 'crashing', 'rebooting', 'automatically', 'once', 'deleted', 'repeating', 'then', 'crash', 'reboot', 'tried', 'different', 'devices', 'them', '501', 'contacted', 'support', 'sent', 'movie', 'attempt', 'completely', 'useless', 'they', 'ask', 'nonsense', 'pictures', 'personal', 'still', 'could', 'answer', 'simple', 'question', 'incompatible', 'pity', 'terrible', 'установилоплатить', 'ебучий', 'концерн', 'насима', 'a800', 'ходьба', 'форматирование', 'телефонаустановить', 'работаетхотя', 'работаетный', 'заходитвводить', 'вылетаетный', 'итоген', '963чаща', '907реж', 'хня', 'нэ', 'окрываеться', 'корректнон', 'своевременнон', 'всплыть', 'заблакированный', 'озвучить', 'совершатьнельзя', 'едаться', 'шорошечный', 'тапа', 'логин（переть', 'входе）приложение', 'закрываетсянуть', 'копипаста', 'больной', 'иззанегонетнеобходимость', 'приложениемантивирус\\u200b', 'отличноепользоваться', 'изчезланекотрый', 'сех', 'востанавить', 'грузитужастнпереть', 'приходитьсянесколько', 'доход', 'раскладывать', '3не', 'ландшафт', 'единец', 'гинта', 'республика', 'комижить', 'пензеработать', 'якутиичерез', 'картеневозможный', 'переводыфункционал', 'отделениегда', 'карта😀', 'тайгев', 'якутииотделение', 'меня3000', 'кмпустяки😀ть', 'сбербольшой', 'болотопро', 'вещаете😀убогия', 'банкжить', 'препона', 'людямдлить', 'тогдасо', 'счётдолбобынакипеть', 'вс5', 'муть', 'тяжеловатдолго', 'meizy', 'нормулён', 'ч4м', 'муметь', 'пользуютесь', 'одноврнменный', 'организовать', 'microsoft', 'outlook', 'распознаваться', 'специализировать', 'операционный', 'фитиль', 'взлом', 'проходилин', 'консерватория', 'пэйн', 'суперный', 'plus', 'глюковработать', 'шустроспасибо', 'разрабам😎🎂', 'отправленый', 'удобео', 'медленноебез', 'wifiть', 'sdкарта', '♡', '☎', 'васнеродной', 'пр', 'плохоеестьня', 'достаток', 'конечноно', 'пережить', 'светлана', 'нопереть', 'доооолго', '😠', 'звездыисправить', 'поройне', 'быстрокачественнокруто', 'м3с', '😑😑😑', '4х', 'солнышко', 'вещьбезний', 'преложениеочень', 'удобноеспасибо', '100500', 'ошибкуиза', 'женский', 'половой', 'окт', 'пида', 'московский', 'разачеровать', 'произошлон', 'распокованый', 'телефоне！', 'устранитьня', 'me372cl', 'гауно', 'бысто！', 'делалнесколько', 'нормальнонесколько', 'caterpillar', 's30', 'неверно', 'жирный', 'своихнечестивый', 'извинение', 'проявить', 'слабость', 'терзать', 'пародия', 'которогонесомненно', 'супер😊', 'долеко', 'африка', 'удовлетворительно', 'плохотак', 'эточтонельзя', 'газасвет', 'намклиент', 'xiaomy', 'инициализироваться', 'доступнана', 'алекс', 'ok👍', 'отличненький', 'хотяб', 'laggy', 'af', 'проводитьнеобходить', 'трансакция', 'подставить', 'фикс', 'пляз', 'устранениюнь', 'presrigio', 'обновленияпредыдущий', 'придожениеть', 'этогоскачивать', 'устанавливаетпамять', 'удобноен', 'сталон', 'когданемного', 'выдетаять', 'ляд', 'заневозможность', 'маразматичность', '3й', 'именночтый', 'доступауж', 'вирусовить', 'дырявыехотеться', 'финансынадеяться', 'услышитея', 'ответитес', '😉👌', 'надежноспасибо', 'добротно', 'постепенно', 'будьнечайно', 'вапроса', 'пачемуневзить', 'казакстан', 'народный', '100раз', 'можьный', 'ответта', 'дедушка', 'нонедоступный', 'показывающаян', 'зночка', 'злоумышленник', 'компюьютер', 'сбербанква', 'делевсе', 'ohuitelnoe', 'prilogenie', '（так', 'меня）поставить', 'ессет', 'нашелна', '（не', 'угроза）приложение', 'м1', 'note4', 'руководство', 'банкахнет', 'заводила', 'соотвовать', 'дебетовый', 'контраст', 'огорчать', 'ихнета', 'шаблонамчтый', 'ошибкураньша', 'сортень', 'брак', 'пушка', 'ужасв', 'творитеести', 'чегонайти', 'получателяневозможновводить', 'простоневыносимойва', 'даженеплохой', 'digma', 'z520', 'телефонанежеть', '5132g', 'просыпаться', 'нодый', 'ночьня', 'лыжин', 'выпустить', 'исправномня', 'телефонанета', 'чтожий', 'прощаться', 'исправилинедоразумение', 'леновый', '606', 'ха', 'иницализация', 'антивирусасделать', 'нормалновать', 'прошраим', 'криворучка', 'круглый', 'куртка', 'клиентамна', 'банковнуть', 'телевидение', 'совсем？стоять', 'радужка', 'глазпожалуйст', 'вроденечий', 'трубан', 'хорошошать', 'погрузить', 'плоншет', 'наплевательский', 'functionality', 'bit', 'limited', 'comparing', 'australia', 'anz', 'телефоне👿обновить', 'really', 'far', 'писаться', 'переводуполучение', 'сбебанконлайн', 'перемещать', 'было！！！', 'вопросамин', 'испортилин', 'отличнотак', 'доллар', 'будутень', 'обновитьписать', 'наумов', 'банкин', 'перестраховываться', 'прошивкойне', 'аватарне', 'вошёлтут', 'разработчикам🙋👏👍', 'впервый', 'бац', '😂😂😂😂😂😂😂', 'позорный', 'обосраться', 'центральный', 'округлять', 'иненастраивать', 'принеавторизованный', 'поглядеть', 'слелаять', 'очко', 'запихайтеневозможный', 'мануал', 'крайненесвоевременный', 'телефонемейза', 'м3сдажа', 'есть（', 'илинет）', 'какихтый', 'состав', 'катастрофа！', 'функциями？', 'пожалуйста！', 'зайтинескольконеделя', 'питер', 'нино', 'тоженельзя', 'злан', '200', 'устраиваетгораздо', '0тлично', 'm3note', 'андроидустройство', 'пробелын', 'паранойя', 'присутствие', 'подпортить', 'доказывать', 'хорошонедавно', 'мс', 'хна', 'ухо', 'поднять', 'плэймаркет', 'функцианал', 'модификацировать', 'рутовано', 'клиентоориентированость', 'блокируя', 'notemx5', 'прошивкун', 'менялвсё', 'пообрубить', 'прошивкапредупреждать', 'обрубать', '5151g', 'обедан', 'промежуток', 'версиинет', 'ррррра', 'flume', 'покой', 'заводскойне', 'обновленийна', 'сегоднянетмежда', 'телефономня', 'мнеть', '61', 'бета', 'flame', 'малина', 'нака', 'requires', 'unlimited', 'access', 'builtin', 'fullfeatured', 'out', 'uour', 'control', 'возникновение', 'уменьшаться', 'сталин', 'простонезаменимый', 'ньюансик', 'тебянета', 'банкоматовнуть', 'функциюнь', 'изнезнакомый', 'бнета', 'оченьный', 'похлопать', '👏👏👏👏👏👏', 'улобный', 'тонепонятный', 'вообщемнезнать', 'расценивать', 'none', 'mezy', 'убого', 'жизнина', 'подтираться', 'нафигня', 'asusz', '00ad', 'устранитенеполадка', 'плииз', 'пробоём', 'нимн', 'страх', 'просто😊👍', 'глобальный', '5134g', 'отыскаться', 'вашененужный', 'дно', 'получалидиотский', 'приложениенамудрить', 'радостьюспасибо', 'нк', 'даждешся', 'ыад', 'паррлить', 'ы', 'полгий', 'гомный', 'настигнуть', 'участь', 'сталан', 'откудато', 'свидание', 'есный', 'приложениеневозможно！убедительный', 'просьбо', 'скатываться', 'халтура', 'програмист', 'ит', 'банка！', 'позор！', 'чудосообщение', 'этота', 'хреньневозможный', 'приложениеразроботчик', 'творить', 'туфтаубрать', 'инеофициальный', 'скорый', 'функциямнепонятный', 'которок', 'денежныга', 'снизица', '60р', 'сдетаять', 'притом', 'удаетсян', 'дичь', 'скот', 'вк', 'музыка', 'слушать', 'нормальноа', 'исправляцт', 'gg', 'пернводыня', 'словомня', 'годаочень', 'гребанный', 'свихнуться', 'мнимый', 'сведение', 'неработать', 'салоненеправильный', 'прошивкабредятина', 'чтонелзь', 'корона', 'меняэкономить', 'услугрекомендовать', '24ич', 'подвисание', 'проверялнесколько', 'с3', 'айфонанета', 'отпечптка', 'андройд', 'ксиаомь', '👍👍👍👍👍👍👍👍👍👍👍👍👍👍👍', 'dno', 'ebanoe', 'сщёт', 'притэнзийнуть', 'сваливаться', 'оформляться', 'хвост', 'proперерыть', 'инетенашелскачивать', 'понесколький', 'ребут', 'proич', 'отмазываться', 'специфичность', 'дактилоскоп', 'датчик', 'отрабатывать', 'перехватываться', 'убедительно', 'goodix', 'zte', 'geek', 'такнеприлично', 'пропалинекоторое', 'банально', 'осознанный', 'выводить', 'solo', 'lokz', 'smsич', 'приходитня', 'мый', 'core', 'primeнуть', 'радуюсь😉', 'давновот', 'самон', 'мга', 'узбекистан', 'вазможность', 'ихния', 'глючил', 'флейм', 'улучшиться', 'отложить', 'самозапрет', 'просирая', 'лучшиена', 'unicredit', 'остонавлеваеться', 'сбиться', 'нобора', 'пользоватьсянельзя', 'жкхскачать', 'ходитьбездарный', 'обновлениепойти', 'обтекать', 'отнедовольство', 'клиентовить', 'равнотинькофф', 'задолал', 'проводник', 'перезагрузкан', 'сформировать', 'затрачивать', 'ахуенный', 'испортилосьня', 'крякнулон', 'прошланеделить', 'девайсон', 'пинкодаотпечатка', 'снеработоспособность', 'сетьюперезапускать', 'нормальноещ', 'входаинтересный', 'рутнуть', 'банкпо', 'работаетнаписать', 'письмапри', 'отправленныхнуть', 'одногод', 'банкануть', 'уставливать', 'osич', 'нонебольшой', 'топрога', 'работаетпостоянно', 'пишетошибка', 'зжедадкий', 'могуочень', 'на2', 'проверяютсянельзя', 'пересмотреть', 'картуа', 'вкладокнуть', 'предложенийна', 'оличный', 'безграмотность', 'галка', 'пошлый', 'что？', 'расписать', 'либанк', 'защещина', 'секретный', 'freezes', 'stock', 'device', 'problem', 'valid', 'april', 'maybe', 'earlier', 'updates', 'resolving', 'фундаментальный', 'тербанк', 'динамика', 'спасибоудобный', 'понятноудобный', 'гдючить', 'ближайшиенесколько', 'ссср', 'отделееие', 'бардак', 'нормальноной', 'нормальноглючить', 'обновленияудобный', 'интерфейсдажа', 'толкаться', 'регулярный', 'geleksi', 'свойма', 'щетамна', 'щет', 'телефоной', 'близкие', 'смартфонна', 'изменять', 'сбол', 'кредитович', 'счетперевод', 'благодарчик', 'вычислить', '10👍', 'идеальновот', 'смсвообще', 'испариться', 'перепаботкать', 'прилепить', 'какиетоневнятный', 'антивирусомкто', 'чувствуюнедолго', 'просидеть', 'пёсий', 'делостоить', 'илинетний', 'блевотина', 'урезаный', 'конкрет', 'детектит', 'dataappconexampleflashplayerapp1baseapkclassesdex', 'тоженета', 'впередиочень', 'развить', 'инфраструктураисть', 'навстречу', 'использовална', 'оборотный', 'прибыль', 'уженекудаоказываться', 'извиняюсьный', 'драгоценный', 'пешочком', 'пройда', 'приложениеasus', '👍🏻👍🏻👍🏻', 'удобноей', 'косячный', 'пахать', 'присланныйн', 'втб24онлайн', 'долговатаяпроверкапрошивка', 'упровление', 'щетом', '—————', 'придложенить', 'создатело', 'ноберая', 'выкидовать', 'сжелать', 'связи', 'мы', 'безопасностиваш', 'заблокированзвоните', 'комун', 'простонемой', 'глухой', 'контцентр', 'позиционировать', 'самымыйсамый', 'zaeba', 'пометка', 'доходоврасход', '9го', 'спо', 'разраборчик', 'данныенедостаток', '8555', '24пробовать', 'аккаунтний', 'тоскливый', 'гнвыходить', 'оправдывать', 'かっこいい物だぜ。', 'хорошоен', 'уничтожать', 'огpомной', 'этотить', 'этун', '😄', 'нравитьсяпока', 'посмотримный', 'работаетсый', 'тормозитсмартфон', 'кубот', 'динозавр', 'копирование', 'данныхреквизит', 'кпп', 'корсчёт', 'лайнер', '3раз', 'подписать', 'самсун', 'вшить', 'исправлениянета', 'гарантия', 'тольконет', 'ведение', 'переаодынепонятный', 'рутать', 'сообщениеегон', 'ставлю5', 'тащиться', 'уженеделюписать', '403другий', 'похожена', 'внесколько', 'хреньмесяц', 'знакомиться', 'приложениемрок', 'прилаженить', 'аутлука', 'аутлукомня', 'микрософт', 'вместен', 'вынедалёкий', 'дегроды', 'поездкен', 'прождать', 'прогуляться', 'приложениемвсегда', 'разачаровать', 'влияние', 'инезначительно', 'кей', 'порнет', 'мёд', 'тройной', 'балдежень', 'ништяга', 'безрезультатный', 'офица', 'чекина', 'антивирусникомня', 'срасибо', 'c1605', '👍★★★★★', 'danke', 'schön', 'funktioniert', '👍👍👍👍👍👍', 'läuft', 'derzeit', 'wenn', 'etwas', 'falsch', 'wird', 'melde', 'ich', 'sofort', 'daran', 'молодцын', 'нехотеть', 'беситься', 'шаснеработать', 'придлажение', 'шаснеа', 'приложениямн', 'операцийный', 'времясуммаорганизациявремякак', 'банкахв', 'тратытак', 'всегонесколько', 'последнихнельзя', 'лимитын', 'суткива', 'сетьвообще', 'намереночтобынельзя', 'пользуюсьот', 'безисходка', 'симкартын', 'поделкан', 'мычать', 'никакс', 'историинуть', 'конпка', 'нажатьнуть', 'отшичный', 'радень', 'колосально', 'исправили🤘', 'топчег', 'излишество', 'предупредительно', 'хужекак', 'приложениемсмысл', 'кварплатун', 'интерфейсслишком', 'элемент', 'устраивпать', 'нанексус', 'вдругнуть', 'пробуждение', 'родноен', 'переделать', 'ахмат', 'ильнур', 'фотон', 'ставитсяваш', 'понятнонет', 'superrrrr', 'е4g', 'лешиться', 'ремонтировать', 'удобнобережетний', 'платитьня', 'осуществляютсян', 'загон', 'засунуть', 'созвучный', 'продаваться', 'мололца', 'антивирусомандроид', 'сыроватоебыть', 'здоровоести', 'минусовый', 'совка', 'лютыйфункционал', 'нольучиться', 'мучить', 'своимнелепый', 'инеотключать', 'поклонница', 'красивость', 'провадиться', 'сосвоить', 'убирита', '80к', 'гневный', 'накручивать', 'стыд', 'срам', 'приложениемный', 'говоритня', '👍💸📲', 'совместимый', 'подавиться', 'орига', 'добавьтепожалуйст', 'досрочки', 'прававсегда', 'операцияневозможный', 'ещёнедавно', 'отбраковка', 'мозаться', 'шлоно', 'затрахать', 'приложениеинесмочь', 'токаяж', 'прюветразработчик', 'родиться', 'собрание', 'школа', 'можетен', 'комитетан', 'еп', 'выскакиваетнерв', 'срывать', 'студент', 'пожалуйста😔', '✌', 'запускно', 'логиниться', '👌👍✌️', 'итп', 'вирусникнуть', 'апаратый', 'ненормативный', 'лексикина', 'рождениян', 'нафигсделать', 'быневажный', 'оригиналян', 'приложениемподумать', '👍👍👍👍👍👍👍', 'разработчикамнедочетовнуть', 'скачиваниюнь', 'пожалеете😊😊', 'банковс', 'онлайннаиболее', 'совершенноеидущий', 'передовой', 'ip', 'приложениерутанета', 'естьбред', 'зебест', 'регистрациивсе', 'тель', 'имеить', 'тдпотом', 'всёжа', 'свободныйный', 'финален', 'смси', 'зановобросить', 'минповторилва', 'финал', 'пришлаповторить', 'дваждысмснуть', 'свернуть', 'выуживать', 'продавать', 'дд', 'случилосьвойти', 'разавыкидывать', 'пароляисправить', 'часад', 'токай', 'сервисв', 'магазинечтоб', 'деньги2', 'соизволить', 'прислатьня', 'обновлениеудалять', 'сожаленияпроща', 'установитня', 'странночтый', 'антивирусахотя', 'вродя', 'харошоить', 'ононеприходетпочемуразрабочик', 'кпедить', 'удалился😠', 'занеудобство', 'антивирусаа', 'безобразный', 'такнеобходимый', 'модифицировать', 'расслабляться', 'сало', 'весчить', 'позить', 'вирусный', 'авастня', 'бываютнебольший', 'приложениемвсё', 'якобыня', 'отличноевсем', 'чорт', 'антивирусаневозможный', 'уведрмление', 'приложение😘', 'уберечь', 'затонеудобство', '9не', 'андротд', 'миханеплохо', 'приложениямотать', 'усклиентыня', 'бу', 'm6', 'заметилан', 'структура', 'прочеен', 'наневозможность', 'перемешаться', 'прошивкануть', 'дряньня', 'докидывать', 'железно', 'поневнимательность', '250рубль', '2500рубль', 'попал😒нельзя', 'злосчастный', 'выделение', 'кантролироватый', 'свая', 'естьнафиг', 'этотнедокасперна', 'глупо', 'наступить', 'отозвать', 'сжечь', 'апарат', 'штрихкодан', 'учетаприходиться', 'иформативный', 'автооплатаневозможный', 'приложениерешать', 'прикосновение', 'незнаюменить', 'прилжениеставить', 'адресат', 'планена', 'тыкнуть', 'спискенеудобный', 'доработайтепожалуйстаа', 'смсунг', 'актив', 'покачто', 'навязываютненужный', 'работаеттолько', 'счетамиа', 'садиккомуналкуисправить', 'хопошо', 'показываетнеродный', 'odlicno', 'odlicna', 'aplikacija', 'айтишник', 'накрутить', 'zei', 'pad', 'перескачивать', 'вырубать', 'перезапусквернить', 'кортина', 'хорошодальша', 'безопасностьюн', 'достална', 'антивирусиль', 'предоставлять', 'администрировать', 'безвозмездный', 'изъятие', 'довесок', 'оборзесть', 'атличный', 'программаупрощать', 'жизние', 'класс🤘🤘🤘', 'месец', 'спасибобыстрой', 'приложениюнь', 'fhilips', 'i908', 'супермолодцырадовать', 'жлобство', 'отвыкнуть', 'тиньков', 'естьнёкий', 'компенсировать', 'реанализ', 'переустонавливать', 'компактно', 'приложение😉', 'рукойва', 'нормтолько', 'кастрат', 'реальностин', '313', 'делаеш', 'напомнить', 'спасибохорошеий', 'приложнение', 'вапша', 'параля', 'или\\u200b', 'даволин', 'ругань', 'прошивкунуть', 'одногон', 'памятие', 'правазачем', 'загружаетсянельзя', 'понятногон', 'машенникамикоторое', 'нравитсясупер', 'нравитсяотличный', 'нарадуюсьлегко', 'онлайнразработчик', 'спасибо👍👍👍', 'удобнонетерять', 'штртхкод', 'настаивать', 'сц', 'улалить', 'банковсбербанк', 'понятнона', 'ответятсупер', 'удобнооднако', 'наркоман', 'снепредвиденный', 'обстоятельство', 'зависаетнеожиданный', 'закрываетсяпокан', 'телефониногда', 'аатоматически', 'открываетсякак', 'сейчаснапример', 'шаблонов', 'посмеяться', 'ущербный', 'тамять', 'потупливать', 'историяневозможный', 'совершенствовать', 'олго', 'обноаляться', 'состоянт', 'пропалана', 'кривон', 'обночляться', 'нюансон', 'инепрочитанный', 'пользоватьсяочень', '444', 'садиться', '17', 'доброкачественный', 'инеоргинальный', 'блокируетсян', 'поражать', 'сбербанка😁', 'лигалинкно', 'базовый', 'десяток', 'продвигать', 'скрывать', 'правильность', 'очевиднон', 'подолгу', 'снап', '821', 'объяснение', 'причинуне', 'спослба', 'владельцевнесколький', 'экономиться', '🔙', 'уровнесупер', 'рабоет👍', 'огорчиться', 'cyanogenmod', 'наступать', 'грабли', 'сажать', 'погубить', 'поп', '2fa', 'оказалосьня', 'созвониться', 'этонеэффективно', 'планшетний', 'долбаться', 'сжирание', 'приложениесейчаспросто', 'версиюбез', 'рутэтый', 'понимаютакать', 'прошивки（чтый', 'так）', 'обратно！', 'просрочка', 'слишкомневовремя', 'секундный', 'растягиваться', 'минутный', '😌', 'иззанепонятный', 'телефоненеоригинальный', 'вижуна', 'тормозовнуть', 'надонемного', '😘', 'годнота', 'книгиприходиться', 'удалилна', 'девочка', 'чтонеобходисо', 'работаетнемный', 'чтонесколько', 'сюрприз', 'пайдеть', 'войтиа', 'выкидываетв', '很好用的软件', 'критик', 'другихна', 'использованиитый', 'неожиданноочень', 'крутопросто', 'чумаобожать', 'приложениеудобновсегда', 'смартфоне👍', 'егонеудобный', 'другоен', 'зависаютень', 'треснуть', 'обсалютный', 'зарегатьсян', 'стильно', '01072017ич', 'приложениеисть', 'антивирусаприч', 'остановиться', 'всечто', 'делатьгосподин', '220517', 'эээ', 'приличие', 'обкрадывать', 'бедный', 'жадный', 'анонсировать', 'звездан', 'огонь👍', 'удевить', 'улевилы', 'парампампа', 'запрашиваться', 'проследить', 'историюкажда', 'отдельность', '1удобный', '2сегодня', 'открываосить', 'ткподождать', 'этихненужный', 'припечь', 'сбербанконлайнкабинуть', 'прогаудобненький', 'данныенапример', 'смсвводить', 'пишетчтоневерный', 'дибилизм', 'поговорка', 'ссать', 'божий', 'роса', 'ruuperc', 'qwertabscurver', 'облегчение', 'разобралсяудобночтый', 'банкоматня', 'ть', 'красатулить', 'троянский', 'насчитать', 'удалитьневозможный', 'проверилнечегон', 'причёмн', 'анесколько', 'номеран', 'файлын', 'пользоватьсянекоторый', 'столединственный', 'телефонеhtc', 'm9пользоваться', 'dwebваш', 'глючиткороч', 'шокеразраб', 'работаетвыдать', 'проблема？', 'докопаться', 'попросить', 'переодическин', 'этонеудобный', 'дерьмищенский', 'держать😁', 'воин', 'работамолодец', 'почеловечески', 'продвижение', 'сторонынуть', 'приложениебыстро', 'штрыф', 'типон', 'антивирусникан', 'поставиланеуд', 'сбербдажа', 'сижуна', 'сбербнадоесть', 'хухра', 'мухра', 'отнестись', 'мейзуна', 'программойня', 'довален', 'палевый', 'нынче', 'куку', 'возмутить', 'чтонибудь😡😡😡', 'подтягивать', 'откладывать', 'здесьнуть', 'иненужный', 'htcич', 'четыре', 'появся', 'гудеть', 'бубулистый', 'персонально', 'возьможность', 'дажеа', 'ядрапамять', 'подправить', 'постоянноочень', 'замечалспасибо', 'обновлениявылетать', 'удобно🤘', 'знаюкома', 'быстроести', 'инетний', 'подвисает😊', 'праваудалить', 'нахренраньша', 'былоразраб', 'уведомлениян', 'свежий', '761', 'техникум', 'сетич', 'yotaич', 'кукурузана', 'счесть', 'беглый', 'телhonor', 'кинутьня', 'маразматик', 'корявый', '450мба', '54мба', '5ти', 'звёздень', 'шизоидный', 'дерзать', 'растерять', 'валерий', 'компьютер👍', 'антощий', 'корочеть', 'заслуга', 'плезть', 'скачатьдоходить', 'скачиватьчтый', 'наверноеть', 'быланедоступный', 'сбербанк😊😊', '6ти', 'якобынуть', 'оченьнеудобнонеэкономно', 'посленесколько', 'светятсянепрочитанный', 'ссанин', 'единственнон', 'настойка', '2х', 'часовня', 'которымнельзя', 'shikarniy', 'деб', 'феншуя', 'антивирусомзакать', 'какнеплохой', 'тянутьсянесколько', 'выбираться', 'расстройство', 'загрузчикно', 'дть', 'летвсе', 'устраиваетразработчик', 'духе😊😊😊👍', 'мрй', 'приложениеставить', 'удаляюнадоесть', 'чешуя', 'бигдэйт', 'блокчейн', 'машинлернинг', '👌👌👌', 'внутрь', 'вдобавок', 'день！помочь', 'устройствапый', 'окончание', 'онеоригинальность', 'делей', 'текстный', 'связиана', 'проблему？ич', 'нормлек', 'кодыня', 'индивидуальный', 'включениина', 'хе', 'повисать', 'сказатьнечий', 'нижесказанный', 'какнебезопасный', 'odlična', 'sve', 'kako', 'soada', 'baš', 'oduševljen', 'svaka', 'čast', 'vam', 'хевой', 'молнет', 'бять', 'проьлемый', 'нфц', 'уроды！вернуть', 'теперьнемочь', 'мнө', 'доависеться', 'сбөрбанк', 'удобнолегкомня', '😜', 'россииэтый', 'банкдругий', 'начислять', 'дибилоида', 'млять', 'суперкончить', 'запутать', 'антивир', 'стоитнеоригинальный', 'оченьнеобходимый', 'заявлять', 'доступенна', 'усиленно', 'накручиваться', 'аноним', 'про6', 'лях', '400', 'местан', 'перегруженноененужный', 'заставочки', 'вершина', 'гениальность', 'мегаантивирусникнуть', 'емунепонятный', 'заставочко', 'пожелать', 'щикарной', 'офгруппа', 'отговорка', 'вкладнонет', 'продлеваться', 'закрытиянеобходить', 'вкладыотдать', 'рукамиа', 'забирать', 'другимпосле', 'онлайнхотеться', 'пустышка', 'роут', 'леший', 'флайминеоригинальный', 'слепуюна', 'затычка', 'обновленияприч', 'сеансаа', 'блокируетделона', 'телефонеразработчик', 'лажаневозможнон', 'допуск', 'меиза', 'у20', 'мх6', 'ртс', 'товарищи？оригинальный', '52', 'первод', 'докапаться', 'анонимно', 'скачиваетсянесколько', 'ронятный', 'крайнкнеудобнон', 'инедочёт', 'категорическинедовольный', 'отзов', 'езчезлина', 'разработчикивернуть', 'обратнотелефон', 'антивирусаести', 'будетний', 'крутяжный', 'быстроудобновсегда', 'фарит', 'онедоступность', 'зарабатывать', 'приключение', 'заразить', 'фактическинуть', 'урезание', 'пальцапароль', 'возможностьный', 'делатькак', 'выполнёный', 'списаный', 'тайна', 'мноюна', 'тогданевозможный', 'полнять', 'запечатать', 'прошивокно', 'бытьнепонятный', 'действиянеобходить', 'служить', 'выебть', 'наконецна', '5001', 'здравствута', 'оплачевать', 'денги', 'километровый', 'извиниться', 'написалин', 'приложениездоровомолодец', 'работаетпо', 'ебантяй', 'этонеделя', 'с5', 'жальнельзя', 'всегонеделя', 'функциикоторык', 'цать', 'спрашиваться', 'самоудалиться', 'тыквуисправлять', 'ручка', 'полнить', 'быстронадёжный', 'работаетпользоваться', 'летспасибо', 'лениво', 'йог', 'лиж', 'все👍👍👍', 'октивировать', 'приложениеневходить', 'банкнеприсылать', 'октивировация', 'продаться', 'при\\u200b', 'логичный', 'привязывать', 'прочто', 'туго', 'нанять', 'шник', 'предать', 'вкладчик', 'скинуться', 'развивающийся', 'толя', '2й', 'признак', 'системуса', 'фотография', 'рукажопа', 'довольноне', 'плохо👍', 'установленан', 'поограмка', 'supersu', 'rootc', 'heck', 'разбел', 'билетов🚌🚈', 'еакий', 'семьёйочудобный', 'отношенияхпроскакивать', 'провод', 'платёжка', 'кретичноединственный', 'видение', 'взымаять', 'куркулятор', 'внедрить', 'тормознутный', 'существуетня', 'этонезнание', 'инеграмотность', 'кошелькин', 'задралина', 'приложениитрить', 'мучиться', 'телефонея', 'наложение', 'xiomi', 'nexus', '6p', 'расписание', 'сберовкомунехер', 'огород', 'проктоактивность', 'привить', 'парана', 'доступой', 'щут', 'проблемуно', 'еенетпрошивка', 'оригиналисправить', 'цифранепросмотренный', '😂😂😂', 'скрипеть', 'индентификатор', 'ерудный', 'двойкуткприложение', 'сжирать', '450', 'памятиразраб', 'компьютерпоэтый', 'бесполезнымн', 'функцииспастбый', 'написалнеужтый', 'пониматьчтый', 'тогдан', 'подстраиваться', 'реалия', 'гипотетический', 'устранятьсян', 'радикально', 'стольконегативный', 'напрямую', 'телефонэтый', 'среднее', 'крутенек', 'шаблонперевести', 'a536', 'разочароваласьвернуть', 'целомнеплохон', 'хорошый', 'работалонефиг', 'ущерб', 'най', 'еслма', 'приложениябыть', 'meizuсносить', 'обновленией', 'парольэтый', 'подключиласьпока', 'крутое👍', 'тотня', 'регистрироватьсян', 'талант', 'безопасностинеправильный', 'предприятие', 'разоряться', 'конкуренциия', 'классбыстролегкодоступнонадёжный', 'двоечка', 'теперьраньша', 'лучшешаблон', 'приложенияоплата', 'qrкодун', 'жкхзапускаться', 'финансово', 'безграмотенв', 'антивирусеий', 'перенаправлять', 'задуматься', 'sd', 'шаблонана', 'толкать', 'разработчитка', 'машшалахь', 'переключение', 'функцииписать', 'заходитьня', 'связина', 'каплина', 'счетун', 'сбербанковец', 'стокан', 'готив', 'выплеснуть', 'поовать', 'нормальноможный', 'paul', 'замечаниена', 'интерфэйс', 'природа', 'консервативный', 'winxp', 'win7', 'звездын', 'программчтый', 'видимость', 'рутато', 'доволенбольшой', 'функционалнереальный', 'чикипук', 'реальностинет', 'прогружать', 'примеруно', 'посредством', 'суперсбербанк', 'нужнр', 'eset', 'муж', '80', 'проложение', 'вакханалия', 'повторение', 'енто', 'вредоносныеневозможный', 'написатьчтый', 'шляпаприложение', 'картыд', 'можетнесколько', 'наслать', 'ня', 'заколебаться', '3го', 'замедление', 'гооголь', 'сбоевнебыть', 'приложениенедостатокно', 'село', 'разнеудобный', 'переустановкин', 'вещьня', 'знаюкак', 'саисунг', 'дистационный', 'контрольный', 'заполнение', 'анкета', 'месяцнуть', 'личьный', 'u5', 'банкужас', 'паурнетнуть', 'проходитзакать', 'работаютзакать', 'переговоры', 'иногданета', 'приступный', '1валютан', 'подкрепить', 'ничемпросто', 'бумага', 'провайдеров', '404как', '2ая', 'авторизацият', 'рутевводить', 'пинпытаться', 'ввойти', 'пинпара', 'глюкнуть', 'шаблонутакий', 'моинерв', 'убедить', 'обратномантивирусник', 'взода', 'сетиа', 'рутированнеточень', 'работаспасибо', 'льзуюсьнеделюугий', 'коллегия', 'работатьвыписка', 'периодень', 'выдаётпостоянно', 'базоваязаходить', 'разпереть', 'введен', 'интересноеть', 'пипецранний', 'пользоваласьвсе', 'супербыстро', 'зайтикупить', 'подвох', 'внимательность', 'постановление', 'разработчикикуда', 'оплатыневозможный', 'ничегокром', 'шаблоновкоторый', 'телсамсунг', 'егонесколько', 'минусыконечный', 'банкамиэтота', 'плата', 'программойпосле', 'портитон', 'скачатьневозможнопостоянно', 'перезагружаетсяужас', 'удобнонеточтый', 'помагать', 'чекне', 'ложение', 'безопасноть', 'часовтелефон', 'горячийный', 'проверкитак', 'пользоватьсяневозможнонельзя', 'скачатькак', 'закачивание', 'идеальноеть', 'затруднение', 'инека', 'кастрировать', 'нормальныхнуть', 'тебен', 'пишетнеофициальный', 'универсальность', 'смартфоннет', 'канал', 'подкоректирывалинекоторое', 'самоенестабильный', '18значный', 'ееий', 'окпосмотреть', 'пробить', 'nexsus', 'пунктаразработчик', 'пиво', 'попрать', 'топпппа', 'февралян', 'пишитнеобходимый', 'ауетинфикация', 'писатьнуть', 'дизайннеудобный', 'инекрасивый', 'разноцветный', 'рисовать', 'пятиклассник', '😯', 'преустанавливать', 'оригинальная！сделать', 'нибудь，разрабы！', 'уведомлентен', 'пповерка', 'функия', 'атлищный', 'счётний', 'китайцан', 'слишкомнеповоротливый', 'каторина', 'заруска', 'производителемкак', 'сертифицировангоспод', 'приложниемнадться', 'аптека', 'суперрекомендовать', 'работаетнестабильный', 'концов！реальный', 'простоудобнодоходчивый', 'гноне', 'входан', 'нифтяк', 'элементарнон', 'отличиться', 'считаютсянепонятный', 'информациюнепросто', 'meiu', 'создателёнок', 'накинуться', 'переоформление', 'торопиться', 'запугивать', 'усмирить', 'дрессировать', 'цербер', 'наврать', 'впарятненужный', 'сразупара', 'прошуна', 'збоевбыть', 'устраиваетпока', 'обнавляеться', 'менянельзя', 'новогонельзя', 'присвоить', 'зафрилансить', 'case', 'сбертехпомочь', 'лагаетзаход', 'тырым', 'пырым', 'ауенной', 'выдаваться', '11число', 'вольдемар', 'устройствахлетать', 'хреньнечегон', 'частоневозможный', 'сбербанкаужасно', 'кайфовыя', 'офф', 'модификацть', 'серьезной', 'вощмущаться', 'обновойroot', 'интересуетпочему', 'предприняличтоба', 'исправитьить', 'целенаправленно', 'прилажения', 'пользын', 'вижусносить', 'полнейшеен', 'гошпода', 'грефануть', 'сессия', 'ответана', 'нонельзя', '000р', 'сущий', 'пустяк', 'положительно', 'шаблоной', 'заблочить', 'катиться', 'аы', 'треш', 'грефуфу', 'гланда', 'туалетный', 'банкингна', 'посторонний', 'долгонет', 'месяцневозможный', 'lenovoнеужеть', 'долгонельзя', 'gracias', 'por', 'poner', 'las', 'gestiones', 'nuestro', 'alcance', 'provechosa', 'j7', 'тринеделя', 'регистрацииотключалавключать', 'антивирусыдавать', 'разрешениянесколько', 'переустанавливалатака', '1неделя', 'особенный', 'гиперопека', 'поехать', 'выложить', 'прод', 'блокер', 'nий', 'колва', 'е°°°°°', 'oldочень', 'анимация', 'бычтоб', 'сразуана', '😐', 'спасибовамза', 'плохаястарый', 'иеициализация', 'хуй', 'клиентын', 'свойонлайн', 'идиотскаянеобходимость', 'перерегистрировать', 'капля', 'обновлениеневозможный', 'отбивать', 'пользоватьсянетолько', 'нормальномня', 'парольхотя', 'такневозможный', 'приложениетормозить', 'приложения😬удалять', 'плохомня', 'ёу', 'грузиибольша', 'былотеперь', 'переустановитьскачатьня', 'могуразработчикичтый', 'напартачить', 'былоотзыв', 'отрицательныхнемеренно', 'программапри', 'обновитьотправлять', 'перезагрузкучтый', 'обнаруженанелицензионный', 'устанавливаетен', 'раздумывать', 'станетнемный', 'приложениемоментальный', '5все', 'вкладасиоплачивать', 'платижаписать', 'хужехороший', 'темп', 'рейтинге！', 'блакировка', 'отпечаткомня', 'остовлять', 'равнодушный', 'рабоь', 'усложнять', 'заесь', 'суперь', 'сайтверсия', 'оннесколько', 'приложениехорошо', 'быстроработать', 'обновлениянедоступный', 'чтонеорегинальный', 'периодически\\u200b', 'юр', 'кор', 'строго', 'соответствие', 'шагун', 'поатёж', 'пробовалнесколько', 'морочить', 'девяностолетний', 'бабушка', 'котораяна', 'образец', 'загружатьсян', 'доступность', 'заниматьнесколько', 'медленнонеудобный', 'донельзя', 'предостаточно', 'моментний', 'нормс', 'обновление？', 'делать？', 'онлайнчтоба', '2014годався', 'работаетничегон', 'разавылетаетasus', 'скай', 'коля', 'покояуказывать', 'rootкоторогий', 'изменятпристься', 'дрю', 'делокак', 'надоспасибо', 'подобногонебыть', 'нунеплохой', 'временамин', 'пориложение', 'органмзация', 'телефонанеоригинальный', 'банальнон', 'аууууууа', 'равнонить', 'ответареакция', 'перемудрилишаблон', 'организациюнь', 'вываливать', 'длина', 'рулон', 'нибудьневозможный', 'ом', 'вдругня', 'указанныенедостаток', 'достоинство', 'прогай', 'всё👌', 'здравствуйтехотеться', 'обновлениина', 'будт', 'бездушный', 'разрабыня', 'услугаоплата', 'отпровлять', 'улетать', 'индификация', 'денюшка', 'глюкин', 'откровенно', 'внемень', 'секундень', '455', 'комфортночтый', 'высоесть', 'пожалуста', 'претензиинуть', 'переводитьнебольший', 'единсэвенный', 'уменьшиться', 'ьын', 'прокоментировать', 'разработчикамвсе', 'ильдар', 'документальный', 'внятный', 'копилкун', 'ясноне', 'дб', 'богиня', 'потестировать', 'то😬ть', 'ге', 'практическиневозможный', 'запускен', 'приемлить', 'проработатьня', 'вшивость', 'болезнь', 'называетсяневероятный', 'доступанетуа', 'бляять', 'нашлёпать', 'регистрациюнь', 'хай', 'прерываться', 'далёкий', 'окончательно', 'обновынесколько', 'запомнить', 'другойневозможный', 'однакон', 'совершеннонеудобный', 'приложениевыше', 'совместить', '43', 'рутовый', 'топкунуть', 'переводысчёт', 'прошивканельзя', 'forever', 'офисспасибо', 'квитанциина', 'плохоштрих', 'повседневный', 'открытиен', 'отлисный', 'запаролить', '👍👍👍👍👍👍👍👍👍👍👍👍👍👍', 'зашол', 'рутудалить', 'праваа', 'прошивкойчтый', 'такть', 'жне', 'виноватчтый', 'чсе', 'цельный', 'сетьня', 'перерегистрация', 'сьербанконлайн', 'поминеть', 'приложениемолодец', 'функцианалсказать', 'гамнон', 'когон', 'наймит', 'пряморукий', '5го', 'удобноэконимит', 'блдьтеперь', '05', '11062017', 'предлогай', 'гуглачто', 'простите？ть', 'женесчастный', 'хотянуть', 'антивирусом\\u200b', 'решилчто', 'решающий', 'одинокий', 'практическинезависимый', 'россиянин', 'проводной', 'становитсян', 'обуза', 'лимитировать', 'всётаки', 'вдуматься', 'глубинка', 'размножаться', 'почкование', 'клеточный', 'ужас！', 'которогонетнуть', 'бек', 'подьешивать', 'выстраивать', 'мобильныий', 'обнаружениенеоригинальный', 'долой', 'картунуть', 'исключениемнекоторое', 'мощи', 'кошмарна', 'сбертупить', 'загружаетсяй', 'внерабочуюн', 'чегонельзя', 'резерв', 'очееь', 'подешеветь', 'улучшатель', 'блин😠', 'окать', 'настать', 'обновлениясказать', 'гвнна', 'ничегоиспортить', 'хуженекударазраб', 'людейнедовольный', '400мба', '50мбень', 'влазить', '☺️', 'удобнопрактичноэтичный', 'нравитс', 'нада', 'ужаспоследний', 'устанавливаетсяскачивать', '10раз', 'оболочкунеоригинальный', 'обалдеть', 'вставка', 'привлечьня', 'безболезненно', 'биржа', 'потерянный', 'api', 'поздравление', 'карьера', 'достигнуть', 'апогей', 'переплюнуть', 'говорян', 'капитал', 'янеприменный', 'todo', 'es', 'bueno', 'цп', 'конечноне', 'бабуля', 'лукошко', 'ягода', 'всехорошотка', '😂', 'ничегрня', '963что', 'пятишка', 'вылетаетперевести', 'ошибкуневозможнонечий', 'совместимость', 'смортфон', 'отвратительноопять', 'перерегистрацииужасночий', 'добиваться', 'переустановитьня', 'тутто\\u200bбыть', 'былой', 'снижайтепроцент', 'подстава', '👍👍👍👍👍👍👍👍👍👍👍👍', 'прошивка😖', 'парольдо', 'вдругнеправильно', 'напрашиваться', 'полюбить', 'фактическинельзя', 'взбесить', 'обновленияурезать', 'праваподдержка', 'кармане☺', 'отличностоять', 'вообще\\u200bич', 'телxiaomi', 'случилось\\u200b', 'менянеофициальный', 'рутправнуть', 'приложениенадеяться', 'совершенноневозможный', 'часневозвожный', 'приложениянедоступный', 'хорошоа', 'тонеоригинальный', 'нтв', 'производитьнесколько', 'шаблонна', 'сбежать', 'нормально😀', 'включиться', 'огонёк', 'читаться', 'пониматься', 'хорошооднако', 'сотрудничество', 'на5', 'улететь', 'спасибон', 'поставленный', 'перёд', 'обновлениянельзя', 'хужевплоть', 'развод', 'воровской', 'внешне\\u200b', 'роднаятелефон', 'качаетсян', 'довно', 'лецензионный', 'доквеб', 'брррра', 'разанужный', 'минуток', 'ниодный', 'тинькоффна', 'медиафайл', 'отличноеможный', 'угодноне', 'домасупер', 'регистрацииудалять', '6733', 'highscreenнуть', 'выскочить', 'входомнесколько', 'тоженужный', 'вам1каждый', 'инициализация2проверка', 'антивирусанахрен', 'онести', 'увеломление', 'действия3пин', 'разався', 'минимумнесколько', 'психоземолодец', 'такогонетхмстранно😂😨', 'нихна', 'заходилин', 'естьудобный', 'практичной', 'присать', 'какомтый', 'тоглый', 'доступк', 'платежамroot', 'открытпрошивка', 'оригинальнаятеперить', 'овощочень', 'обновлениеисправт', 'ошибкуmicromax', 'разработчикиуслышать', 'полететь', 'довольна👍👍👍', 'flyme？всегда', 'инестандартный', 'становятсянедоступный', 'ха！разраб', 'нуно', 'фиксить！китайский', 'фиксить', 'сбол！', 'голяк', 'спасибо😊', 'pin', 'платно', 'coinkeeper', '1500', 'mi', '5sич', 'быстропользоваться', 'главное—безопасный', 'обновленииреальный', 'полстрана', 'лола', 'чебурек', 'сбербанк😡', 'зайтивыбивать', 'антивирусавернуть', 'былопочитайтескольконегативный', 'воз', 'ныне', 'иолтко', 'коммиссия', 'нудно', 'приезд', 'тюмень', 'тутто', 'simкарта', 'уехать', 'вахта', 'сотовойнуть', 'гандон', 'смак', 'засерать', 'ежедневно', 'массунеудобство', 'приложениедаженя', 'открываетсясвободный', 'гбпереустановкан', 'помогаетразработчикичтон', 'g', 'чувство', 'разместить', 'прилоджениеудобный', 'нрпвиться', 'периодическинекоторовать', 'укладываться', 'банкперевод', 'осущесьалятьня', 'zenphone', 'техподдержкин', 'какойнибудь', 'вынерфить', 'функционалнет', 'арин', 'протокол', 'опознать', 'получателя', 'отвязывать', 'надовёс', 'гениальный', 'восхитительнон', 'убивать', 'перевестипополнить', 'интивирус', 'плохостать', 'ски', 'введитенеобходимость', 'утрата', 'умеютневоспитанныеневежа', 'плеймаркет', 'оченьнеудачный', 'шляпас', 'прогаразрабыв', 'охренеой', 'лизачем', 'запихалиу', 'стоятиспортить', 'приложение👎👎👎', 'песопаснастя', 'нужын', 'держаться'])"
            ]
          },
          "metadata": {
            "tags": []
          },
          "execution_count": 22
        }
      ]
    },
    {
      "cell_type": "code",
      "metadata": {
        "id": "FMwUBzy1ijC2",
        "outputId": "0bbb4918-b930-40dd-d6c7-5aa98dfdfaa9",
        "colab": {
          "base_uri": "https://localhost:8080/",
          "height": 513
        }
      },
      "source": [
        "w2v_model['целое']"
      ],
      "execution_count": 23,
      "outputs": [
        {
          "output_type": "stream",
          "text": [
            "/usr/local/lib/python3.6/dist-packages/ipykernel_launcher.py:1: DeprecationWarning: Call to deprecated `__getitem__` (Method will be removed in 4.0.0, use self.wv.__getitem__() instead).\n",
            "  \"\"\"Entry point for launching an IPython kernel.\n"
          ],
          "name": "stderr"
        },
        {
          "output_type": "execute_result",
          "data": {
            "text/plain": [
              "array([ 0.42101404, -0.4924719 ,  0.2385558 , -0.03783894,  0.47519818,\n",
              "        0.13250117, -0.41595206,  0.84212923,  0.15424572,  0.7015893 ,\n",
              "        0.07114743, -0.8081681 ,  0.13665417,  0.26267105,  0.5685357 ,\n",
              "       -0.01670249, -0.32814524,  0.10759548, -0.49051723,  0.37114137,\n",
              "       -0.46228158, -0.37114105,  0.30963334,  0.32472676, -0.19132148,\n",
              "       -0.35209545, -0.02051717,  0.5029785 , -0.8444485 ,  0.47622567,\n",
              "        0.4452181 , -0.9050201 ,  0.03450309,  0.2546678 , -0.14276358,\n",
              "        0.21068113,  0.19634207,  0.29143855, -1.1398185 , -0.02894064,\n",
              "        0.02245685, -0.66479874,  0.30243674, -0.05770954, -0.790755  ,\n",
              "       -0.18620342, -0.28433204, -0.49392918,  0.1296617 , -0.17120424,\n",
              "        0.30883783, -0.33512932,  0.21276174, -0.0315779 ,  0.01953917,\n",
              "        0.43857476, -0.62574196,  0.03348258, -0.7014211 ,  0.1512447 ,\n",
              "        0.56097895,  0.12684785,  0.35872746,  0.07895179, -0.23019314,\n",
              "       -0.2580232 ,  1.5590361 , -0.60535306,  0.7757542 , -0.21596   ,\n",
              "       -0.17142393,  0.82561153,  0.0590661 , -0.12703913,  0.52029383,\n",
              "        0.12291769, -0.13539565, -0.06378888, -0.15773124, -0.40487087,\n",
              "       -0.3154524 ,  0.36540177, -0.44656384,  0.71919125, -0.07354716,\n",
              "       -0.64495015, -0.5686423 ,  0.8736691 ,  0.00340674,  0.09226453,\n",
              "       -0.9023808 , -0.47466695,  0.3605755 , -0.02879065,  0.56635517,\n",
              "        1.1795028 ,  0.24994114, -0.06469123,  0.5780831 ,  0.8774554 ,\n",
              "        0.17161997,  0.74544203, -0.14737923,  0.8576769 ,  0.25857756,\n",
              "        0.62159336, -0.45468336, -0.40598685,  0.1842586 , -0.1213719 ,\n",
              "        0.8217699 ,  0.53552365, -0.6647469 , -0.41902408, -0.582247  ,\n",
              "        0.11547492,  1.1658552 , -0.24632284,  0.04847816, -0.28293812,\n",
              "       -0.15542477, -0.47916308,  0.07344654, -0.26182333,  0.00822837,\n",
              "        0.39039597,  0.0611423 ,  0.34572178], dtype=float32)"
            ]
          },
          "metadata": {
            "tags": []
          },
          "execution_count": 23
        }
      ]
    },
    {
      "cell_type": "code",
      "metadata": {
        "id": "Jj6dxZCD-oVj"
      },
      "source": [
        "DIM = w2v_model.vector_size\n",
        "NUM = len(tokens_filtered_top) + 1\n",
        "# Инициализируем матрицу embedding слоя нулями\n",
        "embedding_matrix = np.zeros((NUM, DIM))\n",
        "# Добавляем NUM наиболее часто встречающихся слов из обучающей выборки в embedding слой\n",
        "for item in vocabulary.items():\n",
        "    if item[1] >= NUM:\n",
        "        break\n",
        "    if item[0] in w2v_model.wv.vocab.keys():\n",
        "        embedding_matrix[item[1]] = w2v_model.wv[item[0]]"
      ],
      "execution_count": 24,
      "outputs": []
    },
    {
      "cell_type": "code",
      "metadata": {
        "id": "FoDTPN_Sa11I",
        "outputId": "e2ec3a7b-3afa-4b14-bcc0-e245729dc373",
        "colab": {
          "base_uri": "https://localhost:8080/",
          "height": 238
        }
      },
      "source": [
        "embedding_matrix"
      ],
      "execution_count": 25,
      "outputs": [
        {
          "output_type": "execute_result",
          "data": {
            "text/plain": [
              "array([[ 0.        ,  0.        ,  0.        , ...,  0.        ,\n",
              "         0.        ,  0.        ],\n",
              "       [ 0.65449744, -0.29294768,  0.29313117, ...,  0.16837452,\n",
              "         0.43687716, -0.04456432],\n",
              "       [ 0.92141622,  0.42437389, -0.04178007, ...,  0.61973083,\n",
              "         0.48280564,  0.33568218],\n",
              "       ...,\n",
              "       [ 0.15808432,  0.20988321,  0.49441391, ..., -0.05211765,\n",
              "         0.93426114, -0.38792726],\n",
              "       [ 0.11447642,  0.20045902,  0.33656842, ...,  0.05602526,\n",
              "         0.76355976, -0.30682114],\n",
              "       [-0.07653184,  0.25668311,  0.18088979, ..., -0.22648831,\n",
              "         0.93990356, -0.43348393]])"
            ]
          },
          "metadata": {
            "tags": []
          },
          "execution_count": 25
        }
      ]
    },
    {
      "cell_type": "code",
      "metadata": {
        "id": "7OID6KodlA-U",
        "outputId": "ea4e34c5-54b8-4c69-f59e-133a73621f3c",
        "colab": {
          "base_uri": "https://localhost:8080/",
          "height": 34
        }
      },
      "source": [
        "embedding_matrix.shape"
      ],
      "execution_count": 26,
      "outputs": [
        {
          "output_type": "execute_result",
          "data": {
            "text/plain": [
              "(500, 128)"
            ]
          },
          "metadata": {
            "tags": []
          },
          "execution_count": 26
        }
      ]
    },
    {
      "cell_type": "code",
      "metadata": {
        "id": "k0AegYbPfpwG"
      },
      "source": [
        "model = Sequential()\n",
        "# Сначала замораживаем веса слоя\n",
        "model.add(Embedding(input_dim=max_words, output_dim=128, input_length=max_len, weights=[embedding_matrix], trainable=False))\n",
        "model.add(Conv1D(128, 3))\n",
        "model.add(Activation(\"relu\"))\n",
        "model.add(GlobalMaxPool1D())\n",
        "model.add(Dense(10))\n",
        "model.add(Activation(\"relu\"))\n",
        "model.add(Dense(num_classes))\n",
        "model.add(Activation('softmax'))"
      ],
      "execution_count": 27,
      "outputs": []
    },
    {
      "cell_type": "code",
      "metadata": {
        "id": "j0Au73g-jbzN"
      },
      "source": [
        "model.compile(loss='categorical_crossentropy',\n",
        "              optimizer='adam',\n",
        "              metrics=[keras.metrics.AUC()])"
      ],
      "execution_count": 28,
      "outputs": []
    },
    {
      "cell_type": "code",
      "metadata": {
        "id": "jG33ht-Ljydq",
        "outputId": "2b03c1f9-a6ed-4b96-fc55-8b492211e6e9",
        "colab": {
          "base_uri": "https://localhost:8080/",
          "height": 377
        }
      },
      "source": [
        "early_stopping=EarlyStopping(monitor='val_loss')  \n",
        "\n",
        "history = model.fit(x_train, y_train,\n",
        "                    batch_size=batch_size,\n",
        "                    epochs=epochs,\n",
        "                    verbose=1,\n",
        "                    validation_split=0.1,\n",
        "                    callbacks=[early_stopping])"
      ],
      "execution_count": 29,
      "outputs": [
        {
          "output_type": "stream",
          "text": [
            "Epoch 1/20\n",
            "28/28 [==============================] - 0s 18ms/step - loss: 0.3179 - auc_1: 0.9428 - val_loss: 0.2605 - val_auc_1: 0.9617\n",
            "Epoch 2/20\n",
            "28/28 [==============================] - 0s 10ms/step - loss: 0.2422 - auc_1: 0.9656 - val_loss: 0.2366 - val_auc_1: 0.9681\n",
            "Epoch 3/20\n",
            "28/28 [==============================] - 0s 10ms/step - loss: 0.2219 - auc_1: 0.9709 - val_loss: 0.2246 - val_auc_1: 0.9702\n",
            "Epoch 4/20\n",
            "28/28 [==============================] - 0s 10ms/step - loss: 0.2082 - auc_1: 0.9747 - val_loss: 0.2112 - val_auc_1: 0.9749\n",
            "Epoch 5/20\n",
            "28/28 [==============================] - 0s 10ms/step - loss: 0.1924 - auc_1: 0.9783 - val_loss: 0.2032 - val_auc_1: 0.9756\n",
            "Epoch 6/20\n",
            "28/28 [==============================] - 0s 10ms/step - loss: 0.1811 - auc_1: 0.9805 - val_loss: 0.1981 - val_auc_1: 0.9757\n",
            "Epoch 7/20\n",
            "28/28 [==============================] - 0s 10ms/step - loss: 0.1724 - auc_1: 0.9822 - val_loss: 0.1964 - val_auc_1: 0.9758\n",
            "Epoch 8/20\n",
            "28/28 [==============================] - 0s 10ms/step - loss: 0.1643 - auc_1: 0.9837 - val_loss: 0.1961 - val_auc_1: 0.9758\n",
            "Epoch 9/20\n",
            "28/28 [==============================] - 0s 10ms/step - loss: 0.1584 - auc_1: 0.9848 - val_loss: 0.1958 - val_auc_1: 0.9766\n",
            "Epoch 10/20\n",
            "28/28 [==============================] - 0s 10ms/step - loss: 0.1513 - auc_1: 0.9862 - val_loss: 0.1981 - val_auc_1: 0.9760\n"
          ],
          "name": "stdout"
        }
      ]
    },
    {
      "cell_type": "code",
      "metadata": {
        "id": "W2W55eydj3Bs",
        "outputId": "b988606f-1f68-46ed-c39c-e6275f94c2b0",
        "colab": {
          "base_uri": "https://localhost:8080/",
          "height": 102
        }
      },
      "source": [
        "score = model.evaluate(x_test, y_test, batch_size=batch_size, verbose=1)\n",
        "print('\\n')\n",
        "print('Test score:', score[0])\n",
        "print('Test accuracy:', score[1])"
      ],
      "execution_count": 30,
      "outputs": [
        {
          "output_type": "stream",
          "text": [
            "8/8 [==============================] - 0s 7ms/step - loss: 0.1956 - auc_1: 0.9770\n",
            "\n",
            "\n",
            "Test score: 0.19562692940235138\n",
            "Test accuracy: 0.9770058989524841\n"
          ],
          "name": "stdout"
        }
      ]
    },
    {
      "cell_type": "code",
      "metadata": {
        "id": "K14EelcXpQOC",
        "outputId": "9851087b-5c03-400b-c373-9ee871fccfd4",
        "colab": {
          "base_uri": "https://localhost:8080/",
          "height": 425
        }
      },
      "source": [
        "model.layers[1].trainable = True\n",
        "adam = optimizers.Adam(lr=0.0001)\n",
        "model.compile(loss='categorical_crossentropy',\n",
        "              optimizer=adam,\n",
        "              metrics=[keras.metrics.AUC()])\n",
        "model.summary()"
      ],
      "execution_count": 42,
      "outputs": [
        {
          "output_type": "stream",
          "text": [
            "Model: \"sequential_1\"\n",
            "_________________________________________________________________\n",
            "Layer (type)                 Output Shape              Param #   \n",
            "=================================================================\n",
            "embedding_1 (Embedding)      (None, 80, 128)           64000     \n",
            "_________________________________________________________________\n",
            "conv1d_1 (Conv1D)            (None, 78, 128)           49280     \n",
            "_________________________________________________________________\n",
            "activation_3 (Activation)    (None, 78, 128)           0         \n",
            "_________________________________________________________________\n",
            "global_max_pooling1d_1 (Glob (None, 128)               0         \n",
            "_________________________________________________________________\n",
            "dense_2 (Dense)              (None, 10)                1290      \n",
            "_________________________________________________________________\n",
            "activation_4 (Activation)    (None, 10)                0         \n",
            "_________________________________________________________________\n",
            "dense_3 (Dense)              (None, 2)                 22        \n",
            "_________________________________________________________________\n",
            "activation_5 (Activation)    (None, 2)                 0         \n",
            "=================================================================\n",
            "Total params: 114,592\n",
            "Trainable params: 50,592\n",
            "Non-trainable params: 64,000\n",
            "_________________________________________________________________\n"
          ],
          "name": "stdout"
        }
      ]
    },
    {
      "cell_type": "code",
      "metadata": {
        "id": "101hiXeU2TP2",
        "outputId": "300e6efb-f00c-4a28-b1c6-1673eb82c6d5",
        "colab": {
          "base_uri": "https://localhost:8080/",
          "height": 105
        }
      },
      "source": [
        "early_stopping=EarlyStopping(monitor='val_loss')  \n",
        "\n",
        "history = model.fit(x_train, y_train,\n",
        "                    batch_size=batch_size,\n",
        "                    epochs=epochs,\n",
        "                    verbose=1,\n",
        "                    validation_split=0.1,\n",
        "                    callbacks=[early_stopping])"
      ],
      "execution_count": 43,
      "outputs": [
        {
          "output_type": "stream",
          "text": [
            "Epoch 1/20\n",
            "28/28 [==============================] - 1s 18ms/step - loss: 0.1249 - auc_5: 0.9905 - val_loss: 0.2000 - val_auc_5: 0.9764\n",
            "Epoch 2/20\n",
            "28/28 [==============================] - 0s 10ms/step - loss: 0.1235 - auc_5: 0.9908 - val_loss: 0.2023 - val_auc_5: 0.9758\n"
          ],
          "name": "stdout"
        }
      ]
    },
    {
      "cell_type": "code",
      "metadata": {
        "id": "G10GqORF2k17",
        "outputId": "595d66b2-f17f-4fb0-a29e-106d3f0cf651",
        "colab": {
          "base_uri": "https://localhost:8080/",
          "height": 102
        }
      },
      "source": [
        "score = model.evaluate(x_test, y_test, batch_size=batch_size, verbose=1)\n",
        "print('\\n')\n",
        "print('Test score:', score[0])\n",
        "print('Test accuracy:', score[1])"
      ],
      "execution_count": 44,
      "outputs": [
        {
          "output_type": "stream",
          "text": [
            "8/8 [==============================] - 0s 7ms/step - loss: 0.1979 - auc_5: 0.9771\n",
            "\n",
            "\n",
            "Test score: 0.1979461908340454\n",
            "Test accuracy: 0.9771061539649963\n"
          ],
          "name": "stdout"
        }
      ]
    },
    {
      "cell_type": "markdown",
      "metadata": {
        "id": "XqjzrMjD3c9T"
      },
      "source": [
        "Результат с W2V и без него сопоставим и превышает заданный порог по ROC AUC, равный 0,95"
      ]
    }
  ]
}